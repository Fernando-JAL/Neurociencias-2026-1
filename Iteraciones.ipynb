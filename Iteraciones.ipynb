{
 "cells": [
  {
   "cell_type": "code",
   "execution_count": 1,
   "id": "39b3f6e7-7a8e-421b-8cf2-f6aabe9eaa73",
   "metadata": {},
   "outputs": [],
   "source": [
    "#iteracionnes: significa realizar una acción varias veces-->controladores de flujo"
   ]
  },
  {
   "cell_type": "code",
   "execution_count": 2,
   "id": "b50c39ed-b061-4549-9220-555e652f0204",
   "metadata": {},
   "outputs": [
    {
     "name": "stdout",
     "output_type": "stream",
     "text": [
      "el valor de la variable es 0\n",
      "código despupes del while\n",
      "el valor de la variable es 2\n",
      "código despupes del while\n",
      "el valor de la variable es 4\n",
      "código despupes del while\n"
     ]
    }
   ],
   "source": [
    "#while: se basa en repetir un bloque de código a partir de una condición-->mientras sea True\n",
    "variable = 0\n",
    "while variable < 5:\n",
    "    print(\"el valor de la variable es\", variable)\n",
    "    variable += 2\n",
    "    print(\"código despupes del while\")"
   ]
  },
  {
   "cell_type": "code",
   "execution_count": 3,
   "id": "97be58d0-07cc-4d39-bda6-ea7ddb77c46a",
   "metadata": {},
   "outputs": [
    {
     "name": "stdout",
     "output_type": "stream",
     "text": [
      "el valor de la variable es 0\n",
      "código despupes del while\n"
     ]
    }
   ],
   "source": [
    "#a diferencia con el if, es que while es un bucle, el if solo lo \"repite\" una vez\n",
    "variable = 0\n",
    "if variable < 5:\n",
    "    print(\"el valor de la variable es\", variable)\n",
    "    variable += 2\n",
    "    print(\"código despupes del while\")"
   ]
  },
  {
   "cell_type": "code",
   "execution_count": 4,
   "id": "dbaada20-167e-4742-b037-6ed2b7904a1b",
   "metadata": {},
   "outputs": [
    {
     "name": "stdout",
     "output_type": "stream",
     "text": [
      "el valor de la variable es 0\n",
      "el valor de la variable es 2\n",
      "el valor de la variable es 4\n",
      "código despupes del while\n"
     ]
    }
   ],
   "source": [
    "#else es un código que se va a ejecutar después del while\n",
    "variable = 0\n",
    "while variable < 5:\n",
    "    print(\"el valor de la variable es\", variable)\n",
    "    variable += 2\n",
    "else:\n",
    "    print(\"código despupes del while\")"
   ]
  },
  {
   "cell_type": "code",
   "execution_count": 8,
   "id": "1c5eaa0d-518d-41a8-b7f1-43bc8c3b6ff8",
   "metadata": {},
   "outputs": [
    {
     "name": "stdout",
     "output_type": "stream",
     "text": [
      "2\n",
      "código despupes del while\n",
      "4\n",
      "código despupes del while\n",
      "6\n",
      "código despupes del while\n"
     ]
    }
   ],
   "source": [
    "#relacionadas al while: continue y break\n",
    "variable = 0\n",
    "while variable < 5:\n",
    "   \n",
    "    variable += 2\n",
    "    print(variable)\n",
    "    if variable==3:\n",
    "        print(\"entró al condicional para activar el break\")\n",
    "        break\n",
    "\n",
    "    else:\n",
    "        print(\"código despupes del while\")\n",
    "    #break rompre el código del condicional e ignora lo que continúa"
   ]
  },
  {
   "cell_type": "code",
   "execution_count": 17,
   "id": "f83da26b-dfc1-4673-b9b5-45f2be04ff4c",
   "metadata": {},
   "outputs": [
    {
     "name": "stdout",
     "output_type": "stream",
     "text": [
      "2\n",
      "código después del condicional del continue\n",
      "4\n",
      "código después del condicional del continue\n",
      "6\n",
      "código después del condicional del continue\n",
      "código después del while\n"
     ]
    }
   ],
   "source": [
    "#continue va a seguir con toda la siguiente iteración\n",
    "variable = 0\n",
    "while variable < 5:\n",
    "    variable += 2\n",
    "    print(variable)\n",
    "    \n",
    "    if variable == 3:\n",
    "        print(\"entró al condicional para activar el continue\")\n",
    "        continue   #no continua lo que queda del código, pero continua el while\n",
    "    \n",
    "    print(\"código después del condicional del continue\")\n",
    "else:\n",
    "    print(\"código después del while\")\n"
   ]
  },
  {
   "cell_type": "code",
   "execution_count": 20,
   "id": "f2537e55-f30d-4886-8520-c13c1c272af5",
   "metadata": {},
   "outputs": [
    {
     "name": "stdout",
     "output_type": "stream",
     "text": [
      "4\n",
      "2.0\n",
      "16\n",
      "3.0\n",
      "36\n",
      "4.0\n",
      "64\n",
      "5.0\n",
      "100\n"
     ]
    }
   ],
   "source": [
    "listas = [2, 3, 4, 5, 6, 7, 8, 9, 10]\n",
    "\n",
    "for numero in listas:\n",
    "    if numero % 2 == 0:  # si es par\n",
    "        print(numero**2)  # al cuadrado\n",
    "    else:                 # si es impar\n",
    "        print((numero + 1) / 2)\n"
   ]
  },
  {
   "cell_type": "code",
   "execution_count": 23,
   "id": "10ac3b7b-dd1d-4f3e-9931-215a4015b71a",
   "metadata": {},
   "outputs": [],
   "source": [
    "#nodificR listas con  for\n",
    "listas = [2, 3, 4, 5, 6, 7, 8, 9, 10]\n",
    "indice=0\n",
    "for _ in listas:\n",
    "    listas[indice]+=50\n",
    "    indice+=1\n",
    "    listas"
   ]
  },
  {
   "cell_type": "code",
   "execution_count": 24,
   "id": "586a2764-ef14-49cf-b9ad-0d60f6b0c0cc",
   "metadata": {},
   "outputs": [
    {
     "data": {
      "text/plain": [
       "[52, 53, 54, 55, 56, 57, 58, 59, 60]"
      ]
     },
     "execution_count": 24,
     "metadata": {},
     "output_type": "execute_result"
    }
   ],
   "source": [
    "listas"
   ]
  },
  {
   "cell_type": "code",
   "execution_count": 25,
   "id": "4decda81-cce0-4bc8-8baf-0f0f179090fc",
   "metadata": {},
   "outputs": [],
   "source": [
    "#método enumerate(iterable,start=0)\n",
    "#regresará un objeto enumerate, regresará una tupla de pares, donde el primer elemento será un entero que comenzará en start y el segundo\n",
    "#elemento de la tupla tendrá el valor del objeto iterable"
   ]
  },
  {
   "cell_type": "code",
   "execution_count": 27,
   "id": "473ff2bd-c82d-4250-a84c-ed7dfb63e7ac",
   "metadata": {},
   "outputs": [
    {
     "data": {
      "text/plain": [
       "[(0, 1), (1, 2), (2, 5), (3, 8), (4, 10)]"
      ]
     },
     "execution_count": 27,
     "metadata": {},
     "output_type": "execute_result"
    }
   ],
   "source": [
    "list(enumerate([1,2,5,8,10], start=0)) #los primeros comienzan en start, los segundos en lista. enumera los objetos y ya."
   ]
  },
  {
   "cell_type": "code",
   "execution_count": 30,
   "id": "b970d67d-bcfa-4a49-9a21-c23bb1a84ff8",
   "metadata": {},
   "outputs": [
    {
     "data": {
      "text/plain": [
       "[52, 53, 54, 55, 56, 57, 58, 59, 60]"
      ]
     },
     "execution_count": 30,
     "metadata": {},
     "output_type": "execute_result"
    }
   ],
   "source": [
    "listas = [2, 3, 4, 5, 6, 7, 8, 9, 10]\n",
    "for indice, _ in enumerate(listas):\n",
    "    listas[indice]+=50\n",
    "indice+=1\n",
    "listas"
   ]
  },
  {
   "cell_type": "code",
   "execution_count": 31,
   "id": "1fae36ac-69d5-48aa-8bbf-3b941c943bc1",
   "metadata": {},
   "outputs": [],
   "source": [
    "#tarea: hacer un ejemplo de las siguientes built in functions\n",
    "#all,any,abs,input,max,min,pow,reversed,round,sorted,sum"
   ]
  },
  {
   "cell_type": "code",
   "execution_count": null,
   "id": "bfa0b350-d59a-4271-ac1a-56f480c8e7ff",
   "metadata": {},
   "outputs": [],
   "source": []
  }
 ],
 "metadata": {
  "kernelspec": {
   "display_name": "Python 3 (ipykernel)",
   "language": "python",
   "name": "python3"
  },
  "language_info": {
   "codemirror_mode": {
    "name": "ipython",
    "version": 3
   },
   "file_extension": ".py",
   "mimetype": "text/x-python",
   "name": "python",
   "nbconvert_exporter": "python",
   "pygments_lexer": "ipython3",
   "version": "3.13.5"
  }
 },
 "nbformat": 4,
 "nbformat_minor": 5
}
