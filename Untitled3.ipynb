{
 "cells": [
  {
   "cell_type": "code",
   "execution_count": null,
   "id": "953f8303-409b-45f5-8144-b07db952b3cd",
   "metadata": {},
   "outputs": [],
   "source": [
    "#crear una función que cuente las vocales de un string y regrese dicho número\n",
    "#2. crear una función que determine si un número es par o impar e imprima el resultado\n",
    "#3. crear una función para convertir de Celsius a Farenheit, dicha función recibirá la temperatura en celsius y la regresará en farenheit\n",
    "#4."
   ]
  }
 ],
 "metadata": {
  "kernelspec": {
   "display_name": "Python 3 (ipykernel)",
   "language": "python",
   "name": "python3"
  },
  "language_info": {
   "codemirror_mode": {
    "name": "ipython",
    "version": 3
   },
   "file_extension": ".py",
   "mimetype": "text/x-python",
   "name": "python",
   "nbconvert_exporter": "python",
   "pygments_lexer": "ipython3",
   "version": "3.13.5"
  }
 },
 "nbformat": 4,
 "nbformat_minor": 5
}
