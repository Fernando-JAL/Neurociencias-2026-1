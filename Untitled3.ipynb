{
 "cells": [
  {
   "cell_type": "code",
   "execution_count": 1,
   "id": "897abbc4-2a4a-4c23-8cc7-9f702d68dfa1",
   "metadata": {},
   "outputs": [],
   "source": [
    "#descargar numpy, pandas, matplotlib"
   ]
  },
  {
   "cell_type": "code",
   "execution_count": 2,
   "id": "fffaccf9-1cb6-4cf4-989b-8cd8f39cc0f1",
   "metadata": {},
   "outputs": [],
   "source": [
    "import numpy as np"
   ]
  },
  {
   "cell_type": "code",
   "execution_count": 3,
   "id": "ef99cafb-102d-4c78-aa5a-7b1eae1a1cde",
   "metadata": {},
   "outputs": [
    {
     "name": "stdout",
     "output_type": "stream",
     "text": [
      "value=5, data type= <class 'numpy.ndarray'>\n"
     ]
    }
   ],
   "source": [
    "#convertir datos a arreglos\n",
    "value= np.array(5, \"string\") #arreglo cuyo elemento es la lista\n",
    "print(f\"value={value}, data type= {type(value)}\")"
   ]
  },
  {
   "cell_type": "code",
   "execution_count": 6,
   "id": "ff6ec2d4-6545-4800-85f4-13922235ad33",
   "metadata": {},
   "outputs": [
    {
     "data": {
      "text/plain": [
       "[0, 1, 2, 3]"
      ]
     },
     "execution_count": 6,
     "metadata": {},
     "output_type": "execute_result"
    }
   ],
   "source": [
    "list(range(4))"
   ]
  },
  {
   "cell_type": "code",
   "execution_count": 7,
   "id": "8b33aef3-2edf-40a1-b7c8-05617e7a5ad9",
   "metadata": {},
   "outputs": [
    {
     "data": {
      "text/plain": [
       "[-7, -6, -5, -4, -3, -2, -1, 0, 1, 2, 3, 4, 5]"
      ]
     },
     "execution_count": 7,
     "metadata": {},
     "output_type": "execute_result"
    }
   ],
   "source": [
    "list(range(-7,6))"
   ]
  },
  {
   "cell_type": "code",
   "execution_count": 8,
   "id": "2474678f-54e1-4536-8e95-a424637b9b3f",
   "metadata": {},
   "outputs": [
    {
     "data": {
      "text/plain": [
       "[-5, -4, -3, -2]"
      ]
     },
     "execution_count": 8,
     "metadata": {},
     "output_type": "execute_result"
    }
   ],
   "source": [
    "list(range(-7,6))[2:6]"
   ]
  },
  {
   "cell_type": "code",
   "execution_count": 10,
   "id": "4c661dbf-9e1f-4f4c-8a4c-af6f7b93b9c8",
   "metadata": {},
   "outputs": [
    {
     "data": {
      "text/plain": [
       "(array([0, 1, 2, 3, 4]), array([-10,  -9,  -8,  -7,  -6]))"
      ]
     },
     "execution_count": 10,
     "metadata": {},
     "output_type": "execute_result"
    }
   ],
   "source": [
    "a,b= np.arange(5), np.arange(-10,-5)\n",
    "a,b"
   ]
  },
  {
   "cell_type": "code",
   "execution_count": 11,
   "id": "f8d9414d-7c3a-4cce-8d9a-ddc338355f8a",
   "metadata": {},
   "outputs": [
    {
     "data": {
      "text/plain": [
       "array([-10,  -8,  -6,  -4,  -2])"
      ]
     },
     "execution_count": 11,
     "metadata": {},
     "output_type": "execute_result"
    }
   ],
   "source": [
    "a+b"
   ]
  },
  {
   "cell_type": "code",
   "execution_count": 12,
   "id": "9d91b8ba-a680-4c96-854b-1aed96e4f622",
   "metadata": {},
   "outputs": [
    {
     "data": {
      "text/plain": [
       "array([-10, -10, -10, -10, -10])"
      ]
     },
     "execution_count": 12,
     "metadata": {},
     "output_type": "execute_result"
    }
   ],
   "source": [
    "b-a"
   ]
  },
  {
   "cell_type": "code",
   "execution_count": 13,
   "id": "7a1f6f14-e243-446f-83d0-523c05566e5a",
   "metadata": {},
   "outputs": [
    {
     "data": {
      "text/plain": [
       "array([-3.33333333, -3.        , -2.66666667, -2.33333333, -2.        ])"
      ]
     },
     "execution_count": 13,
     "metadata": {},
     "output_type": "execute_result"
    }
   ],
   "source": [
    "b/3"
   ]
  },
  {
   "cell_type": "code",
   "execution_count": 15,
   "id": "0f4c59f9-8a95-4bd0-80bd-1207ccc97a48",
   "metadata": {},
   "outputs": [
    {
     "data": {
      "text/plain": [
       "array([  0,  -9, -16, -21, -24])"
      ]
     },
     "execution_count": 15,
     "metadata": {},
     "output_type": "execute_result"
    }
   ],
   "source": [
    "#producto entre vectores es elementoxelemento\n",
    "a*b"
   ]
  },
  {
   "cell_type": "code",
   "execution_count": 16,
   "id": "606909da-cef8-4225-ac56-cc504ce5975b",
   "metadata": {},
   "outputs": [
    {
     "data": {
      "text/plain": [
       "array([   1,   -9,   64, -343, 1296])"
      ]
     },
     "execution_count": 16,
     "metadata": {},
     "output_type": "execute_result"
    }
   ],
   "source": [
    "b**a"
   ]
  },
  {
   "cell_type": "code",
   "execution_count": 17,
   "id": "10bb1e8b-8fae-41f5-b608-62d32addbbdf",
   "metadata": {},
   "outputs": [
    {
     "name": "stderr",
     "output_type": "stream",
     "text": [
      "C:\\Users\\shade\\AppData\\Local\\Temp\\ipykernel_14256\\3261360213.py:1: RuntimeWarning: divide by zero encountered in divide\n",
      "  b**(1/a)\n",
      "C:\\Users\\shade\\AppData\\Local\\Temp\\ipykernel_14256\\3261360213.py:1: RuntimeWarning: invalid value encountered in power\n",
      "  b**(1/a)\n"
     ]
    },
    {
     "data": {
      "text/plain": [
       "array([inf, -9., nan, nan, nan])"
      ]
     },
     "execution_count": 17,
     "metadata": {},
     "output_type": "execute_result"
    }
   ],
   "source": [
    "b**(1/a)"
   ]
  },
  {
   "cell_type": "code",
   "execution_count": 18,
   "id": "acd2c051-86aa-482d-b491-35f384900d53",
   "metadata": {},
   "outputs": [
    {
     "data": {
      "text/plain": [
       "9.0"
      ]
     },
     "execution_count": 18,
     "metadata": {},
     "output_type": "execute_result"
    }
   ],
   "source": [
    "27**1/3"
   ]
  },
  {
   "cell_type": "code",
   "execution_count": 19,
   "id": "a5412ed8-ef32-4790-90b2-1e090e752c40",
   "metadata": {},
   "outputs": [
    {
     "data": {
      "text/plain": [
       "60.5"
      ]
     },
     "execution_count": 19,
     "metadata": {},
     "output_type": "execute_result"
    }
   ],
   "source": [
    "121**1/2"
   ]
  },
  {
   "cell_type": "code",
   "execution_count": 21,
   "id": "25f17bbe-8a81-416a-b227-1bedc49a2d46",
   "metadata": {},
   "outputs": [
    {
     "data": {
      "text/plain": [
       "-9"
      ]
     },
     "execution_count": 21,
     "metadata": {},
     "output_type": "execute_result"
    }
   ],
   "source": [
    "-9**1"
   ]
  },
  {
   "cell_type": "code",
   "execution_count": 22,
   "id": "a1b094b1-7e11-45bc-9473-0c1796be4ae0",
   "metadata": {},
   "outputs": [
    {
     "data": {
      "text/plain": [
       "-4.0"
      ]
     },
     "execution_count": 22,
     "metadata": {},
     "output_type": "execute_result"
    }
   ],
   "source": [
    "-8**1/2"
   ]
  },
  {
   "cell_type": "code",
   "execution_count": 23,
   "id": "77ec0a65-3e1c-4756-ac52-594942a0ee56",
   "metadata": {},
   "outputs": [
    {
     "data": {
      "text/plain": [
       "-2.8284271247461903"
      ]
     },
     "execution_count": 23,
     "metadata": {},
     "output_type": "execute_result"
    }
   ],
   "source": [
    "-8**0.5"
   ]
  },
  {
   "cell_type": "code",
   "execution_count": 27,
   "id": "71a61fdd-4fe2-4df6-845d-0a56757f9cd8",
   "metadata": {},
   "outputs": [],
   "source": [
    "vec=np.array([5,10])"
   ]
  },
  {
   "cell_type": "code",
   "execution_count": 28,
   "id": "ff7986fe-634c-4ec7-a752-53e2d4e7a4a1",
   "metadata": {},
   "outputs": [
    {
     "data": {
      "text/plain": [
       "array([ 5, 10])"
      ]
     },
     "execution_count": 28,
     "metadata": {},
     "output_type": "execute_result"
    }
   ],
   "source": [
    "vec"
   ]
  },
  {
   "cell_type": "code",
   "execution_count": 29,
   "id": "35ec0bbf-140b-414f-90b8-0ee345d8c0df",
   "metadata": {},
   "outputs": [
    {
     "data": {
      "text/plain": [
       "array([ 5, 10])"
      ]
     },
     "execution_count": 29,
     "metadata": {},
     "output_type": "execute_result"
    }
   ],
   "source": [
    "vec.transpose()"
   ]
  },
  {
   "cell_type": "code",
   "execution_count": 31,
   "id": "43ccaec9-c06d-4797-9af6-a4ae7e58eeab",
   "metadata": {},
   "outputs": [],
   "source": [
    "vec2D= np.array([[4,-1],[-7,2]])"
   ]
  },
  {
   "cell_type": "code",
   "execution_count": 32,
   "id": "3455590e-f4b3-4534-8807-1f60a749ad49",
   "metadata": {},
   "outputs": [
    {
     "data": {
      "text/plain": [
       "array([[ 4, -7],\n",
       "       [-1,  2]])"
      ]
     },
     "execution_count": 32,
     "metadata": {},
     "output_type": "execute_result"
    }
   ],
   "source": [
    "vec2D.T"
   ]
  },
  {
   "cell_type": "code",
   "execution_count": 40,
   "id": "c93d7e3a-ee8d-4ca0-a5d5-61e56491350b",
   "metadata": {},
   "outputs": [
    {
     "data": {
      "text/plain": [
       "(array([[1, 2],\n",
       "        [3, 4]]),\n",
       " array([[ 4, -1],\n",
       "        [-7,  2]]))"
      ]
     },
     "execution_count": 40,
     "metadata": {},
     "output_type": "execute_result"
    }
   ],
   "source": [
    "vec1= np.array([[1,2],[3,4]])\n",
    "vec1, vec2D"
   ]
  },
  {
   "cell_type": "code",
   "execution_count": 34,
   "id": "584561dc-0f92-4e3d-964a-3719ec3088f9",
   "metadata": {},
   "outputs": [],
   "source": [
    "#no existe la división entre matrices"
   ]
  },
  {
   "cell_type": "code",
   "execution_count": 36,
   "id": "ee7c494d-71f3-4ed6-ba47-056924354d97",
   "metadata": {},
   "outputs": [
    {
     "data": {
      "text/plain": [
       "array([-50,  15])"
      ]
     },
     "execution_count": 36,
     "metadata": {},
     "output_type": "execute_result"
    }
   ],
   "source": [
    "vec@vec2D"
   ]
  },
  {
   "cell_type": "code",
   "execution_count": 37,
   "id": "c21b9dff-43d6-4427-b825-0041ced5e0d6",
   "metadata": {},
   "outputs": [],
   "source": [
    "#doble slicing= aplicar slicing del slicing"
   ]
  },
  {
   "cell_type": "code",
   "execution_count": 41,
   "id": "15fbe87a-7945-4f02-88fd-08b5a29bbdf0",
   "metadata": {},
   "outputs": [
    {
     "ename": "NameError",
     "evalue": "name 'resultado' is not defined",
     "output_type": "error",
     "traceback": [
      "\u001b[31m---------------------------------------------------------------------------\u001b[39m",
      "\u001b[31mNameError\u001b[39m                                 Traceback (most recent call last)",
      "\u001b[36mCell\u001b[39m\u001b[36m \u001b[39m\u001b[32mIn[41]\u001b[39m\u001b[32m, line 1\u001b[39m\n\u001b[32m----> \u001b[39m\u001b[32m1\u001b[39m \u001b[43mresultado\u001b[49m[\u001b[32m1\u001b[39m]\n",
      "\u001b[31mNameError\u001b[39m: name 'resultado' is not defined"
     ]
    }
   ],
   "source": [
    "resultado[1] [0] # el segundo slicing sería el [0]"
   ]
  },
  {
   "cell_type": "code",
   "execution_count": 43,
   "id": "4c8cb64e-cde4-423a-847a-b5a538bf23fd",
   "metadata": {},
   "outputs": [
    {
     "data": {
      "text/plain": [
       "array([[ 0,  5, 10],\n",
       "       [15, 20, 25],\n",
       "       [99, 35, 40]])"
      ]
     },
     "execution_count": 43,
     "metadata": {},
     "output_type": "execute_result"
    }
   ],
   "source": [
    "matriz=np.array([[0,5,10],[15,20,25],[99,35,40]])\n",
    "matriz"
   ]
  },
  {
   "cell_type": "code",
   "execution_count": 44,
   "id": "627d0680-b49b-44f1-a89d-f6d55bc43744",
   "metadata": {},
   "outputs": [
    {
     "data": {
      "text/plain": [
       "np.int64(5)"
      ]
     },
     "execution_count": 44,
     "metadata": {},
     "output_type": "execute_result"
    }
   ],
   "source": [
    "#para el 5\n",
    "matriz[0] [1]"
   ]
  },
  {
   "cell_type": "code",
   "execution_count": 47,
   "id": "df5ad14d-aa63-423d-92df-73628f8f8209",
   "metadata": {},
   "outputs": [
    {
     "data": {
      "text/plain": [
       "array([99, 35])"
      ]
     },
     "execution_count": 47,
     "metadata": {},
     "output_type": "execute_result"
    }
   ],
   "source": [
    "matriz[2] [0:-1]"
   ]
  },
  {
   "cell_type": "code",
   "execution_count": 48,
   "id": "1154edad-cb0a-4a32-a8d9-006e96e4f09a",
   "metadata": {},
   "outputs": [
    {
     "data": {
      "text/plain": [
       "array([[ 0,  5, 10],\n",
       "       [15, 20, 25],\n",
       "       [99, 35, 40]])"
      ]
     },
     "execution_count": 48,
     "metadata": {},
     "output_type": "execute_result"
    }
   ],
   "source": [
    "matriz[:] [:]"
   ]
  },
  {
   "cell_type": "code",
   "execution_count": 51,
   "id": "cf2998e1-09ca-4227-98aa-a76cd56e2d89",
   "metadata": {},
   "outputs": [
    {
     "data": {
      "text/plain": [
       "array([[15, 20, 25],\n",
       "       [99, 35, 40]])"
      ]
     },
     "execution_count": 51,
     "metadata": {},
     "output_type": "execute_result"
    }
   ],
   "source": [
    "#para las dos últimas filas\n",
    "matriz[1:]"
   ]
  },
  {
   "cell_type": "code",
   "execution_count": 52,
   "id": "375d17a1-ff16-40ff-ad32-e396591cbee2",
   "metadata": {},
   "outputs": [],
   "source": [
    "#para las últimas dos columnas"
   ]
  },
  {
   "cell_type": "code",
   "execution_count": 54,
   "id": "bc6b4a15-4a43-487b-9523-62481e1ca1ff",
   "metadata": {},
   "outputs": [
    {
     "data": {
      "text/plain": [
       "array([[ 0,  5, 10],\n",
       "       [15, 20, 25],\n",
       "       [99, 35, 40]])"
      ]
     },
     "execution_count": 54,
     "metadata": {},
     "output_type": "execute_result"
    }
   ],
   "source": [
    "matriz[1] [0] -10\n",
    "matriz"
   ]
  },
  {
   "cell_type": "code",
   "execution_count": null,
   "id": "12276a4f-3e5c-4265-ab0f-3291072eca22",
   "metadata": {},
   "outputs": [],
   "source": []
  }
 ],
 "metadata": {
  "kernelspec": {
   "display_name": "Python 3 (ipykernel)",
   "language": "python",
   "name": "python3"
  },
  "language_info": {
   "codemirror_mode": {
    "name": "ipython",
    "version": 3
   },
   "file_extension": ".py",
   "mimetype": "text/x-python",
   "name": "python",
   "nbconvert_exporter": "python",
   "pygments_lexer": "ipython3",
   "version": "3.13.5"
  }
 },
 "nbformat": 4,
 "nbformat_minor": 5
}
