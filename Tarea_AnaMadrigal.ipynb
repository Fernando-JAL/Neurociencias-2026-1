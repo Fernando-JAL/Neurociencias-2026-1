{
 "cells": [
  {
   "cell_type": "markdown",
   "id": "aaa8fa8a-4162-4e31-814b-4767be73d0df",
   "metadata": {},
   "source": [
    "## TAREA\n"
   ]
  },
  {
   "cell_type": "code",
   "execution_count": 3,
   "id": "be5f01ef-db23-4695-960f-c32884d5dc06",
   "metadata": {},
   "outputs": [
    {
     "name": "stdout",
     "output_type": "stream",
     "text": [
      "False\n"
     ]
    }
   ],
   "source": [
    "## all () - Verifica si TODOS los elementos son True\n",
    "\n",
    "lista= [True, True, False, True]\n",
    "print(all(lista))\n"
   ]
  },
  {
   "cell_type": "code",
   "execution_count": 4,
   "id": "c7000912-f38c-4122-8df7-f2d95341af58",
   "metadata": {},
   "outputs": [
    {
     "name": "stdout",
     "output_type": "stream",
     "text": [
      "True\n"
     ]
    }
   ],
   "source": [
    "##any() - Verifica si ALGÚN elemento es True\n",
    "print(any(lista))"
   ]
  },
  {
   "cell_type": "code",
   "execution_count": 5,
   "id": "753784d8-568f-45ab-af9d-45281790872b",
   "metadata": {},
   "outputs": [
    {
     "data": {
      "text/plain": [
       "4.777"
      ]
     },
     "execution_count": 5,
     "metadata": {},
     "output_type": "execute_result"
    }
   ],
   "source": [
    "##abs() - da Valor absoluto \n",
    "X= -4.777\n",
    "abs(X)"
   ]
  },
  {
   "cell_type": "code",
   "execution_count": 26,
   "id": "dff76ab5-189f-42c9-962b-3c9c8f5b7387",
   "metadata": {},
   "outputs": [
    {
     "name": "stdin",
     "output_type": "stream",
     "text": [
      "¿Cual es el mejor boing? manzana\n"
     ]
    },
    {
     "name": "stdout",
     "output_type": "stream",
     "text": [
      "El mejor boing es:manzana\n"
     ]
    }
   ],
   "source": [
    "##input() - Leer entrada del usuario\n",
    "Boing = input(\"¿Cual es el mejor boing?\")\n",
    "print(f\"El mejor boing es:\" + Boing)"
   ]
  },
  {
   "cell_type": "code",
   "execution_count": 10,
   "id": "ca7792c8-4578-4746-9626-8454faede5d7",
   "metadata": {},
   "outputs": [
    {
     "name": "stdout",
     "output_type": "stream",
     "text": [
      "27\n",
      "10\n"
     ]
    }
   ],
   "source": [
    "## max() y min() - Máximo y mínimo\n",
    "numerosfav= [13,22,10,27]\n",
    "print(max(numerosfav))\n",
    "print(min(numerosfav))"
   ]
  },
  {
   "cell_type": "code",
   "execution_count": 12,
   "id": "0c65c8af-dfd3-421b-a5bb-010814d08670",
   "metadata": {},
   "outputs": [
    {
     "data": {
      "text/plain": [
       "3125"
      ]
     },
     "execution_count": 12,
     "metadata": {},
     "output_type": "execute_result"
    }
   ],
   "source": [
    "## pow() - Potencia\n",
    "pow (5,5)\n"
   ]
  },
  {
   "cell_type": "code",
   "execution_count": 18,
   "id": "04af2af2-d6d2-4f58-8844-b55a7586b37b",
   "metadata": {},
   "outputs": [
    {
     "name": "stdout",
     "output_type": "stream",
     "text": [
      "[27, 10, 22, 13]\n"
     ]
    }
   ],
   "source": [
    "##reversed() - Invertir secuencia\n",
    "numerosfav= [13,22,10,27]\n",
    "print(list(reversed(numerosfav)))"
   ]
  },
  {
   "cell_type": "code",
   "execution_count": 19,
   "id": "d3a0f33d-a31b-47e9-8791-a877bd558924",
   "metadata": {},
   "outputs": [
    {
     "data": {
      "text/plain": [
       "-5"
      ]
     },
     "execution_count": 19,
     "metadata": {},
     "output_type": "execute_result"
    }
   ],
   "source": [
    "##  round() - Redondear números\n",
    "round (X)\n"
   ]
  },
  {
   "cell_type": "code",
   "execution_count": 20,
   "id": "dfcb8fa2-12e9-4ea5-a97a-bfd11d6b293f",
   "metadata": {},
   "outputs": [
    {
     "name": "stdout",
     "output_type": "stream",
     "text": [
      "[10, 13, 22, 27]\n"
     ]
    }
   ],
   "source": [
    "##sorted() - Ordenar\n",
    "print(sorted(numerosfav))"
   ]
  },
  {
   "cell_type": "code",
   "execution_count": 21,
   "id": "5b82c444-99c7-40a3-93ba-6b458d539db1",
   "metadata": {},
   "outputs": [
    {
     "name": "stdout",
     "output_type": "stream",
     "text": [
      "['Alvin y las ardillas', 'Ana', 'Manzana como el mejor Boing', 'Morado']\n"
     ]
    }
   ],
   "source": [
    "palabras=[\"Ana\", \"Morado\", \"Alvin y las ardillas\", \"Manzana como el mejor Boing\"]\n",
    "print(sorted(palabras)) "
   ]
  },
  {
   "cell_type": "code",
   "execution_count": 23,
   "id": "f2932272-ed38-4771-a52a-eafc2ea3bb87",
   "metadata": {},
   "outputs": [
    {
     "name": "stdout",
     "output_type": "stream",
     "text": [
      "72\n"
     ]
    }
   ],
   "source": [
    "##sum() - Sumar elementos\n",
    "print(sum(numerosfav))"
   ]
  }
 ],
 "metadata": {
  "kernelspec": {
   "display_name": "Python 3 (ipykernel)",
   "language": "python",
   "name": "python3"
  },
  "language_info": {
   "codemirror_mode": {
    "name": "ipython",
    "version": 3
   },
   "file_extension": ".py",
   "mimetype": "text/x-python",
   "name": "python",
   "nbconvert_exporter": "python",
   "pygments_lexer": "ipython3",
   "version": "3.13.5"
  }
 },
 "nbformat": 4,
 "nbformat_minor": 5
}
