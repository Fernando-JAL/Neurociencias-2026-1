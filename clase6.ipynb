{
 "cells": [
  {
   "cell_type": "code",
   "execution_count": null,
   "id": "b6b0b288-010f-42f6-9b07-8cb9330d595b",
   "metadata": {},
   "outputs": [],
   "source": [
    "#quye es un modulo y un paquete\n",
    "#paquete contiene varios módulos"
   ]
  },
  {
   "cell_type": "code",
   "execution_count": null,
   "id": "05937127-2f7e-4080-9977-5454d2e2858c",
   "metadata": {},
   "outputs": [],
   "source": [
    "from cosas import saludo"
   ]
  },
  {
   "cell_type": "code",
   "execution_count": null,
   "id": "8d141387-102d-42ac-b499-7807ff611998",
   "metadata": {},
   "outputs": [],
   "source": [
    "saludo()"
   ]
  },
  {
   "cell_type": "code",
   "execution_count": null,
   "id": "ff654b19-fe40-4009-8f08-61404fadba2d",
   "metadata": {},
   "outputs": [],
   "source": [
    "#y para importar todo:\n",
    "from cosas import *"
   ]
  },
  {
   "cell_type": "code",
   "execution_count": null,
   "id": "4a36435d-df97-42db-97e4-097a1196e96b",
   "metadata": {},
   "outputs": [],
   "source": [
    "funcion()"
   ]
  },
  {
   "cell_type": "code",
   "execution_count": 3,
   "id": "d8ef97dd-71fb-437a-8caa-cc5dac6cd401",
   "metadata": {},
   "outputs": [
    {
     "ename": "ModuleNotFoundError",
     "evalue": "No module named 'numpy'",
     "output_type": "error",
     "traceback": [
      "\u001b[31m---------------------------------------------------------------------------\u001b[39m",
      "\u001b[31mModuleNotFoundError\u001b[39m                       Traceback (most recent call last)",
      "\u001b[36mCell\u001b[39m\u001b[36m \u001b[39m\u001b[32mIn[3]\u001b[39m\u001b[32m, line 1\u001b[39m\n\u001b[32m----> \u001b[39m\u001b[32m1\u001b[39m \u001b[38;5;28;01mimport\u001b[39;00m\u001b[38;5;250m \u001b[39m\u001b[34;01mnumpy\u001b[39;00m\n",
      "\u001b[31mModuleNotFoundError\u001b[39m: No module named 'numpy'"
     ]
    }
   ],
   "source": [
    "import numpy"
   ]
  },
  {
   "cell_type": "code",
   "execution_count": 2,
   "id": "d200c2c0-39b5-4dc6-b0f7-3e629f90a19a",
   "metadata": {},
   "outputs": [
    {
     "name": "stdout",
     "output_type": "stream",
     "text": [
      "Requirement already satisfied: numpy in c:\\spyder\\pkgs (1.24.4)\n"
     ]
    }
   ],
   "source": [
    "!pip install numpy"
   ]
  },
  {
   "cell_type": "code",
   "execution_count": null,
   "id": "6f89b542-8138-4026-9ae6-664f69ecd581",
   "metadata": {},
   "outputs": [],
   "source": []
  }
 ],
 "metadata": {
  "kernelspec": {
   "display_name": "Python 3 (ipykernel)",
   "language": "python",
   "name": "python3"
  },
  "language_info": {
   "codemirror_mode": {
    "name": "ipython",
    "version": 3
   },
   "file_extension": ".py",
   "mimetype": "text/x-python",
   "name": "python",
   "nbconvert_exporter": "python",
   "pygments_lexer": "ipython3",
   "version": "3.13.5"
  }
 },
 "nbformat": 4,
 "nbformat_minor": 5
}
