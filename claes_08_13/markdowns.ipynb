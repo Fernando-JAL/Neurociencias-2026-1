{
 "cells": [
  {
   "cell_type": "markdown",
   "id": "56a9ee9c-4f89-47de-b981-b7bfba51ed92",
   "metadata": {},
   "source": [
    "casa = 15"
   ]
  },
  {
   "cell_type": "code",
   "execution_count": 14,
   "id": "9d47a818-d58e-4897-b3d0-1f515ad9f991",
   "metadata": {},
   "outputs": [],
   "source": [
    "casa = 7"
   ]
  },
  {
   "cell_type": "code",
   "execution_count": 14,
   "id": "c7e18a5d-6759-442b-95f7-28877a1372cf",
   "metadata": {},
   "outputs": [],
   "source": [
    "casa = 7"
   ]
  },
  {
   "cell_type": "code",
   "execution_count": 1,
   "id": "25b09aae-90fc-44c7-8ea2-f2ab1218188d",
   "metadata": {},
   "outputs": [],
   "source": [
    "b = 8 "
   ]
  },
  {
   "cell_type": "code",
   "execution_count": 11,
   "id": "09444d55-5706-4500-8268-278cddc130df",
   "metadata": {},
   "outputs": [
    {
     "data": {
      "text/plain": [
       "7"
      ]
     },
     "execution_count": 11,
     "metadata": {},
     "output_type": "execute_result"
    }
   ],
   "source": [
    "casa"
   ]
  },
  {
   "cell_type": "markdown",
   "id": "eb5dc070-4344-420f-8683-6bacfd4a72e6",
   "metadata": {},
   "source": [
    "b"
   ]
  },
  {
   "cell_type": "markdown",
   "id": "4b5e05f0-ffd0-4541-88f0-9e8c3b34a03c",
   "metadata": {},
   "source": [
    "## listas\n",
    "\n",
    "- item 1\n",
    "- item 2\n",
    "- item 3"
   ]
  },
  {
   "cell_type": "markdown",
   "id": "cb8d1db2-de03-478f-aced-a50a5c44ab75",
   "metadata": {},
   "source": [
    "1. cosa numerada 1\n",
    "1. cosa numerada 2\n",
    "    1. cosa subnumerada 1\n",
    "1. cosa numerada 3"
   ]
  },
  {
   "cell_type": "markdown",
   "id": "3980ce94-a60c-46dc-ab40-4969861e8d3c",
   "metadata": {},
   "source": [
    "esc + a -> insertar celda arriba\n",
    "esc + b --> insertar una celda abajo"
   ]
  },
  {
   "cell_type": "markdown",
   "id": "49e58373-376d-4969-b1f9-6b96dcf1720d",
   "metadata": {},
   "source": [
    "1. cosa 1\n",
    "    1. cosa 2\n",
    "        1. cosa 3\n",
    "            1. cosa 4"
   ]
  },
  {
   "cell_type": "markdown",
   "id": "4c2cd211-d75c-4fe9-ae96-df0c1b2f0ff6",
   "metadata": {},
   "source": [
    "esc + m --> coniverte la celda en markdown\n",
    "\n",
    "*texto*\n",
    "\n",
    "**textooo**"
   ]
  },
  {
   "cell_type": "markdown",
   "id": "77b8787d-d802-4962-b5fd-1cafbcc1bc5b",
   "metadata": {},
   "source": [
    "# title\n",
    "\n",
    "## subtitulo\n",
    "\n",
    "### section \n",
    "\n",
    "##### subsection \n",
    "\n",
    "###### text \n",
    "\n",
    "###### more text\n",
    "\n",
    "texto sin #"
   ]
  },
  {
   "cell_type": "markdown",
   "id": "f46269d9-bbbf-4f73-ac42-0d9c28e6f979",
   "metadata": {},
   "source": [
    "# diccionario\n",
    "\n"
   ]
  },
  {
   "cell_type": "code",
   "execution_count": 18,
   "id": "b877af44-a8c0-4b4f-acb0-f99c54ee50c9",
   "metadata": {},
   "outputs": [],
   "source": [
    "dictionary = {\"llave\" : \"valor\", \"llave2\" : \"valor2\", \"cosa\" : 5, \"otra cosa\" : [3, 2, \"k\"], \"llave3\": (1,2,\"1\")}"
   ]
  },
  {
   "cell_type": "code",
   "execution_count": 19,
   "id": "18f7cd91-eed6-441e-84f0-28fc30d1b9f9",
   "metadata": {},
   "outputs": [
    {
     "data": {
      "text/plain": [
       "{'llave': 'valor',\n",
       " 'llave2': 'valor2',\n",
       " 'cosa': 5,\n",
       " 'otra cosa': [3, 2, 'k'],\n",
       " 'llave3': (1, 2, '1')}"
      ]
     },
     "execution_count": 19,
     "metadata": {},
     "output_type": "execute_result"
    }
   ],
   "source": [
    "dictionary"
   ]
  },
  {
   "cell_type": "code",
   "execution_count": 20,
   "id": "4bcd571d-cc51-48ae-bab3-38a52283e31d",
   "metadata": {},
   "outputs": [
    {
     "data": {
      "text/plain": [
       "5"
      ]
     },
     "execution_count": 20,
     "metadata": {},
     "output_type": "execute_result"
    }
   ],
   "source": [
    "dictionary [\"cosa\"]\n"
   ]
  },
  {
   "cell_type": "code",
   "execution_count": 21,
   "id": "22af763f-eef7-48a6-85bc-d761df3dd383",
   "metadata": {},
   "outputs": [
    {
     "data": {
      "text/plain": [
       "(1, 2, '1')"
      ]
     },
     "execution_count": 21,
     "metadata": {},
     "output_type": "execute_result"
    }
   ],
   "source": [
    "dictionary [\"llave3\"]"
   ]
  },
  {
   "cell_type": "code",
   "execution_count": 22,
   "id": "6842f76e-2bf7-47db-8d64-310cef5b7b0d",
   "metadata": {},
   "outputs": [
    {
     "data": {
      "text/plain": [
       "6"
      ]
     },
     "execution_count": 22,
     "metadata": {},
     "output_type": "execute_result"
    }
   ],
   "source": [
    "dictionary [\"cosa\"] + 1"
   ]
  },
  {
   "cell_type": "code",
   "execution_count": null,
   "id": "ab0a72f7-a898-4650-bb63-d04498384387",
   "metadata": {},
   "outputs": [],
   "source": []
  }
 ],
 "metadata": {
  "kernelspec": {
   "display_name": "Python 3 (ipykernel)",
   "language": "python",
   "name": "python3"
  },
  "language_info": {
   "codemirror_mode": {
    "name": "ipython",
    "version": 3
   },
   "file_extension": ".py",
   "mimetype": "text/x-python",
   "name": "python",
   "nbconvert_exporter": "python",
   "pygments_lexer": "ipython3",
   "version": "3.10.4"
  }
 },
 "nbformat": 4,
 "nbformat_minor": 5
}
