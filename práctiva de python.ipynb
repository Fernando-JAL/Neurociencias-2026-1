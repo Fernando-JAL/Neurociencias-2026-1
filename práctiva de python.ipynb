{
 "cells": [
  {
   "cell_type": "markdown",
   "id": "8a3eb698-8bcb-4d09-907c-1bf89c631db7",
   "metadata": {},
   "source": [
    "#  Tipos de datos:\n",
    "-Númericos (enteros, flotantes(enteros con decimales), complejos)\n",
    "-Strings(cadenas)\n",
    "-Listas\n",
    "- Tuplas\n",
    "- Diccionarios"
   ]
  },
  {
   "cell_type": "code",
   "execution_count": 15,
   "id": "24c18ecf-4f40-44ed-813c-be8c42372bc5",
   "metadata": {},
   "outputs": [
    {
     "name": "stdout",
     "output_type": "stream",
     "text": [
      "<class 'int'>\n",
      "<class 'float'>\n",
      "<class 'str'>\n",
      "<class 'bool'>\n",
      "<class 'list'>\n",
      "<class 'tuple'>\n",
      "<class 'set'>\n",
      "<class 'dict'>\n"
     ]
    }
   ],
   "source": [
    "a = 10\n",
    "b = 3.14\n",
    "c = \"Hola\"\n",
    "d = True\n",
    "e = [1,2,3]\n",
    "f = (4,5,6)\n",
    "g = {1,2,3,2}\n",
    "h = {\"nombre\":\"Monce\", \"edad\":19}\n",
    "\n",
    "print(type(a))\n",
    "print(type(b))\n",
    "print(type(c))\n",
    "print(type(d))\n",
    "print(type(e))\n",
    "print(type(f))\n",
    "print(type(g))\n",
    "print(type(h))"
   ]
  },
  {
   "cell_type": "code",
   "execution_count": 23,
   "id": "2ff56771-ca84-4f34-b2fc-1d162e6786e1",
   "metadata": {},
   "outputs": [],
   "source": [
    "x = 5       # int\n",
    "y = 3.7     # float\n",
    "s = \"10\"    # str\n",
    "#Convierte x a float.\n",
    "\n",
    "#Convierte y a int.\n",
    "\n",
    "#Convierte s a int y luego a float."
   ]
  },
  {
   "cell_type": "code",
   "execution_count": 35,
   "id": "89f38640-0d9b-44bb-bf2c-b6e028b9ea8b",
   "metadata": {},
   "outputs": [
    {
     "name": "stdout",
     "output_type": "stream",
     "text": [
      "5\n",
      "3.7\n",
      "10\n"
     ]
    },
    {
     "data": {
      "text/plain": [
       "10.0"
      ]
     },
     "execution_count": 35,
     "metadata": {},
     "output_type": "execute_result"
    }
   ],
   "source": [
    "float(x)\n",
    "print (x)\n",
    "int(y)\n",
    "print(y)\n",
    "v= int(s)\n",
    "print(v)\n",
    "float(v)"
   ]
  },
  {
   "cell_type": "code",
   "execution_count": 38,
   "id": "29dff9a1-07d9-4efa-89bf-612a52027172",
   "metadata": {},
   "outputs": [],
   "source": [
    "a = 5       # int\n",
    "b = 2.5     # float\n",
    "c = \"3\"     # str\n",
    "#Suma a + b. ¿Qué tipo tiene el resultado?\n",
    "\n",
    "#Convierte c a int y suma con a.\n",
    "\n",
    "#Concatenar c como string con \" años\" → \"3 años\"."
   ]
  },
  {
   "cell_type": "code",
   "execution_count": 44,
   "id": "db81029e-9120-4d03-b5d4-29ff058927e9",
   "metadata": {},
   "outputs": [
    {
     "name": "stdout",
     "output_type": "stream",
     "text": [
      "<class 'float'>\n",
      "8\n",
      "3 años\n"
     ]
    }
   ],
   "source": [
    "v= a+b\n",
    "print(type(v))\n",
    "print(int(c)+a)\n",
    "str(c)+\" 3 años\"\n",
    "print(str(c)+\" años\")"
   ]
  },
  {
   "cell_type": "code",
   "execution_count": 45,
   "id": "fe6263d1-3467-4c44-a267-89f2959d8c19",
   "metadata": {},
   "outputs": [],
   "source": [
    "lista = [1,2,3,4]\n",
    "tupla = (5,6,7)\n",
    "conjunto = {1,2,2,3}\n",
    "dic = {\"nombre\":\"Monce\",\"edad\":19}\n",
    "#Accede al segundo elemento de lista y tupla.\n",
    "\n",
    "#Añade un elemento a lista y a conjunto.\n",
    "\n",
    "#Cambia \"edad\" en dic a 20.\n",
    "\n",
    "#Imprime todos los valores del diccionario.\n",
    "       "
   ]
  },
  {
   "cell_type": "code",
   "execution_count": 71,
   "id": "cb260cbc-acf6-4ba0-8692-cc7006301089",
   "metadata": {},
   "outputs": [
    {
     "name": "stdout",
     "output_type": "stream",
     "text": [
      "3\n",
      "7\n",
      "[1, 2, 3, 4, 5]\n",
      "Diccionario actualizado: {'nombre': 'Monce', 'edad': 20}\n",
      "dict_values(['Monce', 20])\n",
      "dict_keys(['nombre', 'edad'])\n"
     ]
    }
   ],
   "source": [
    "print(lista[2])\n",
    "print(tupla[2])\n",
    "print(lista+[5])\n",
    "dic[\"edad\"] = 20\n",
    "print(\"Diccionario actualizado:\", dic)\n",
    "print(dic.values())\n",
    "print(dic.keys())"
   ]
  },
  {
   "cell_type": "code",
   "execution_count": 73,
   "id": "c955b762-51be-4d92-8d7b-1f2408c20d74",
   "metadata": {},
   "outputs": [],
   "source": [
    "numeros = [10, 20, 30, 40, 50, 60, 70]\n",
    "#Ejercicios:\n",
    "\n",
    "#Obtener los primeros 3 elementos.\n",
    "\n",
    "#Obtener los últimos 2 elementos.\n",
    "\n",
    "#Obtener elementos desde el índice 2 hasta el 5 (sin incluir el 5).\n",
    "\n",
    "#Obtener todos los elementos de la lista de 2 en 2."
   ]
  },
  {
   "cell_type": "code",
   "execution_count": 89,
   "id": "f503b421-7d6f-49bc-9809-07f02d73ea0d",
   "metadata": {},
   "outputs": [
    {
     "name": "stdout",
     "output_type": "stream",
     "text": [
      "[10, 20, 30]\n",
      "[60, 70]\n",
      "[30, 40, 50]\n",
      "[10, 30, 50, 70]\n"
     ]
    }
   ],
   "source": [
    "print(numeros[ :3])\n",
    "print(numeros[ -2:])\n",
    "print(numeros[2:5])\n",
    "print(numeros[ :  : 2])"
   ]
  },
  {
   "cell_type": "code",
   "execution_count": 92,
   "id": "997cc4ea-f791-43e1-b3fd-1657106c393d",
   "metadata": {},
   "outputs": [],
   "source": [
    "#️⃣ Slicing en strings\n",
    "palabra = \"Pythonista\"\n",
    "#Ejercicios:\n",
    "\n",
    "#Obtener los primeros 6 caracteres.\n",
    "\n",
    "#Obtener los últimos 4 caracteres.\n",
    "\n",
    "#Obtener los caracteres del índice 2 al 6 (sin incluir el 6).\n",
    "\n",
    "#Obtener la palabra al revés."
   ]
  },
  {
   "cell_type": "code",
   "execution_count": 100,
   "id": "eeff3016-b281-4623-88fb-ff981e26cf06",
   "metadata": {},
   "outputs": [
    {
     "name": "stdout",
     "output_type": "stream",
     "text": [
      "Python\n",
      "ista\n",
      "thon\n",
      "atsinohtyP\n"
     ]
    }
   ],
   "source": [
    "print(palabra[ :6])\n",
    "print(palabra[-4: ])\n",
    "print(palabra[ 2:6]) #recuerdaaaaaaa el 6 no lo ,muestra\n",
    "print(palabra[ :  :-1])"
   ]
  },
  {
   "cell_type": "code",
   "execution_count": 101,
   "id": "2bbe068b-40fa-46c4-86e4-1094e81717b5",
   "metadata": {},
   "outputs": [],
   "source": [
    "frase = \"Python es muy divertido\"\n",
    "#Tareas:\n",
    "\n",
    "#Extraer la palabra \"Python\".\n",
    "\n",
    "#Extraer la palabra \"divertido\".\n",
    "\n",
    "#Extraer \"es muy\" usando slicing.\n",
    "#Dividir la frase en palabras.\n",
    "\n",
    "#Voltear el orden de las palabras para que quede \"divertido muy es Python\".\n",
    "\n",
    "#Voltear cada palabra individualmente y mantener el orden original: \"nohtyP se yum oditrevid\""
   ]
  },
  {
   "cell_type": "code",
   "execution_count": 149,
   "id": "cfe3c5b4-8d87-4cc2-b3d2-4aaa72a3bdcd",
   "metadata": {},
   "outputs": [
    {
     "name": "stdout",
     "output_type": "stream",
     "text": [
      "Python\n",
      "divertido\n",
      "es muy\n",
      "['P', 'y', 't', 'h', 'o', 'n', ' ', 'e', 's', ' ', 'm', 'u', 'y', ' ', 'd', 'i', 'v', 'e', 'r', 't', 'i', 'd', 'o']\n",
      "['Python', 'es', 'muy', 'divertido']\n",
      "divertido es muy Python \n",
      "oditrevid yum se nohtyP\n"
     ]
    }
   ],
   "source": [
    "print(frase[ :6])\n",
    "print(frase[-9:])\n",
    "print(frase[7:13])\n",
    "print(list(frase))\n",
    "print(frase.split())\n",
    "print((frase[-9:])+ frase[6:14]+frase[ :7] )\n",
    "print(frase[ -1: :-1])\n"
   ]
  },
  {
   "cell_type": "code",
   "execution_count": 171,
   "id": "afd52487-b138-461d-8e31-344466486d4c",
   "metadata": {},
   "outputs": [],
   "source": [
    "v1=\"hola, deberías de dormir \""
   ]
  },
  {
   "cell_type": "code",
   "execution_count": 176,
   "id": "148b0ef4-edda-4e06-81db-4ab0fe0581e9",
   "metadata": {},
   "outputs": [
    {
     "name": "stdout",
     "output_type": "stream",
     "text": [
      "hola, deberías de dormir bibi\n"
     ]
    }
   ],
   "source": [
    "print((v1[ :18])+v1[-7:] + v1[8:9]+v1[-3:-2]+v1[8:9]+v1[-3:-2])"
   ]
  },
  {
   "cell_type": "code",
   "execution_count": 177,
   "id": "5f28635a-bf06-43a3-a341-a6e444ab1625",
   "metadata": {},
   "outputs": [
    {
     "name": "stdout",
     "output_type": "stream",
     "text": [
      "Hola mundo!\n"
     ]
    }
   ],
   "source": [
    "print(\"Hola mundo!\")"
   ]
  },
  {
   "cell_type": "code",
   "execution_count": 178,
   "id": "82230a57-2b39-4de8-98d2-e539edb1dc0c",
   "metadata": {},
   "outputs": [
    {
     "name": "stdout",
     "output_type": "stream",
     "text": [
      "Hola mundo\n"
     ]
    }
   ],
   "source": [
    "var1= (\"Hola mundo\")\n",
    "print(var1)"
   ]
  },
  {
   "cell_type": "code",
   "execution_count": 180,
   "id": "431e2404-ff23-4ec5-aa7c-24797c887fd0",
   "metadata": {},
   "outputs": [
    {
     "name": "stdout",
     "output_type": "stream",
     "text": [
      "¿cómo te llamas?\n"
     ]
    },
    {
     "name": "stdin",
     "output_type": "stream",
     "text": [
      " monce\n"
     ]
    },
    {
     "name": "stdout",
     "output_type": "stream",
     "text": [
      "Hola monce\n"
     ]
    }
   ],
   "source": [
    "#Escribir un programa que pregunte el nombre del usuario \n",
    "#en la consola y después de que el usuario lo introduzca \n",
    "#muestre por pantalla la cadena ¡Hola <nombre>!, donde <nombre> es \n",
    "#el nombre que el usuario haya introducido.\n",
    "print(\"¿cómo te llamas?\") ## no olvidar que print siempre se excribe \n",
    "entre parentesis\n",
    "nombre=input()\n",
    "print(f\"Hola {nombre}\") "
   ]
  },
  {
   "cell_type": "code",
   "execution_count": 184,
   "id": "91493557-08ae-4d32-b29a-a5c011b393a5",
   "metadata": {},
   "outputs": [
    {
     "name": "stdout",
     "output_type": "stream",
     "text": [
      "0.25\n"
     ]
    }
   ],
   "source": [
    "#Escribir un programa que muestre por pantalla el resultado de la \n",
    "#siguiente operación aritmética\n",
    "var2= ((3+2)/(2*5))**2\n",
    "print(var2)"
   ]
  },
  {
   "cell_type": "code",
   "execution_count": 191,
   "id": "0667d78a-b347-48f8-a7a4-a0e45e83da03",
   "metadata": {},
   "outputs": [
    {
     "name": "stdout",
     "output_type": "stream",
     "text": [
      "¿cuántas horas trabajas en un día?\n"
     ]
    },
    {
     "name": "stdin",
     "output_type": "stream",
     "text": [
      " 7.5\n"
     ]
    },
    {
     "name": "stdout",
     "output_type": "stream",
     "text": [
      "¿A cuánto te pagan la hora?\n"
     ]
    },
    {
     "name": "stdin",
     "output_type": "stream",
     "text": [
      " 24\n"
     ]
    },
    {
     "name": "stdout",
     "output_type": "stream",
     "text": [
      "Esto te corresponde 180.0\n"
     ]
    }
   ],
   "source": [
    "#Escribir un programa que pregunte al usuario por el número de horas\n",
    "#trabajadas y el coste por hora. \n",
    "#Después debe mostrar por pantalla la paga que le corresponde.\n",
    "print(\"¿cuántas horas trabajas en un día?\")\n",
    "horas= float(input())\n",
    "print(\"¿A cuánto te pagan la hora?\")\n",
    "pago= float(input())\n",
    "sueldo= horas * pago\n",
    "print(f\"Esto te corresponde {sueldo}\")"
   ]
  },
  {
   "cell_type": "code",
   "execution_count": 198,
   "id": "8793d77c-3bab-4da5-9df2-1e7a2d927119",
   "metadata": {},
   "outputs": [
    {
     "name": "stdout",
     "output_type": "stream",
     "text": [
      "introduzca un numero entero\n"
     ]
    },
    {
     "name": "stdin",
     "output_type": "stream",
     "text": [
      " 3\n"
     ]
    },
    {
     "name": "stdout",
     "output_type": "stream",
     "text": [
      "la suma de los enteros del 1 hasta 3 es 6.0\n"
     ]
    }
   ],
   "source": [
    "#Escribir un programa que lea un entero positivo, \n",
    "#introducido por el usuario y después muestre en pantalla la suma de \n",
    "#todos los enteros desde 1 hasta n\n",
    "print(\"introduzca un numero entero\")\n",
    "n = int(input())## n es igual al input q se va convertir en estero\n",
    "resultado= (n*(n+1))/2\n",
    "print(f\"la suma de los enteros del 1 hasta {n} es {resultado}\")\n"
   ]
  },
  {
   "cell_type": "code",
   "execution_count": null,
   "id": "73d75a34-f42c-4e5b-95bc-b01bd9c3fb63",
   "metadata": {},
   "outputs": [
    {
     "name": "stdout",
     "output_type": "stream",
     "text": [
      "introdusca su peso en kg\n"
     ]
    },
    {
     "name": "stdin",
     "output_type": "stream",
     "text": [
      " 70\n"
     ]
    },
    {
     "name": "stdout",
     "output_type": "stream",
     "text": [
      "introduzca su estatura en metros\n"
     ]
    }
   ],
   "source": [
    "print(\"introdusca su peso en kg\")\n",
    "Peso= (float(input()))\n",
    "print(\"introduzca su estatura en metros\")\n",
    "Estatura= (float(input()))\n",
    "imc=Peso*(Estatura**2)\n",
    "print(f\"tú indice de masa corporal es {imc}\")\n"
   ]
  },
  {
   "cell_type": "code",
   "execution_count": null,
   "id": "e3c88886-731c-44a4-9d00-9f817c729624",
   "metadata": {},
   "outputs": [],
   "source": []
  }
 ],
 "metadata": {
  "kernelspec": {
   "display_name": "Python 3 (ipykernel)",
   "language": "python",
   "name": "python3"
  },
  "language_info": {
   "codemirror_mode": {
    "name": "ipython",
    "version": 3
   },
   "file_extension": ".py",
   "mimetype": "text/x-python",
   "name": "python",
   "nbconvert_exporter": "python",
   "pygments_lexer": "ipython3",
   "version": "3.10.4"
  }
 },
 "nbformat": 4,
 "nbformat_minor": 5
}
