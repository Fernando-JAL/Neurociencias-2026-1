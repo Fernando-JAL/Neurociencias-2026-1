{
 "cells": [
  {
   "cell_type": "code",
   "execution_count": 1,
   "id": "1502c61b-7d3d-485d-b207-842fde7c04d5",
   "metadata": {},
   "outputs": [],
   "source": [
    "#funciones: fragmentos de código que se pueden ejecutar múltiples veces, pueden recibir o devolver informaciónm datos, variables \n",
    "#para comunicarse con el código principal"
   ]
  },
  {
   "cell_type": "code",
   "execution_count": 3,
   "id": "975a987a-c15a-4b0c-b92a-5b4bbae64738",
   "metadata": {},
   "outputs": [],
   "source": [
    "def saludar():\n",
    "    print(\"hola\")"
   ]
  },
  {
   "cell_type": "code",
   "execution_count": 5,
   "id": "5d8e56f8-bee1-49d8-8fcd-1978c11f6192",
   "metadata": {},
   "outputs": [
    {
     "name": "stdout",
     "output_type": "stream",
     "text": [
      "hola\n"
     ]
    }
   ],
   "source": [
    "saludar()"
   ]
  },
  {
   "cell_type": "code",
   "execution_count": 7,
   "id": "7eae3df9-bf56-4a14-ad41-8a5047c67c90",
   "metadata": {},
   "outputs": [
    {
     "name": "stdout",
     "output_type": "stream",
     "text": [
      "hola\n",
      "hola\n",
      "hola\n"
     ]
    }
   ],
   "source": [
    "for _ in range(3): #para ejecutar la función un tal número de veces\n",
    "    saludar()"
   ]
  },
  {
   "cell_type": "code",
   "execution_count": 8,
   "id": "38c180b3-75c3-462a-9c5e-7b9275206c06",
   "metadata": {},
   "outputs": [
    {
     "data": {
      "text/plain": [
       "7.0"
      ]
     },
     "execution_count": 8,
     "metadata": {},
     "output_type": "execute_result"
    }
   ],
   "source": [
    "lista= [3,5,7,9,11]\n",
    "sum(lista)/len(lista)"
   ]
  },
  {
   "cell_type": "code",
   "execution_count": 11,
   "id": "5ea35d9f-1504-42a6-826f-a0b009782e6b",
   "metadata": {},
   "outputs": [],
   "source": [
    "def promedio(numeros): #lo que está dentro del paréntesis son los parámetros\n",
    "    valor_promedio=sum(numeros)/len(numeros) #cómo va a funcionar la función\n",
    "    print(f\"el valor promedio de los números es {valor_promedio}\")\n",
    "    return valor_promedio #return el resultado\n",
    "    #después que mande llamar a la función, ,lo que vaya en paréntesis se llamará argumentos"
   ]
  },
  {
   "cell_type": "code",
   "execution_count": 12,
   "id": "02ee7488-1ead-45cb-98df-607af9803f82",
   "metadata": {},
   "outputs": [
    {
     "name": "stdout",
     "output_type": "stream",
     "text": [
      "el valor promedio de los números es 4.5\n"
     ]
    },
    {
     "data": {
      "text/plain": [
       "4.5"
      ]
     },
     "execution_count": 12,
     "metadata": {},
     "output_type": "execute_result"
    }
   ],
   "source": [
    "ejemplo=[2,4,5,7]\n",
    "promedio(ejemplo)"
   ]
  },
  {
   "cell_type": "code",
   "execution_count": 13,
   "id": "dbfc23f8-73a1-4312-b40d-12a25e4a0fa5",
   "metadata": {},
   "outputs": [],
   "source": [
    "def minimo(val_a,val_b):\n",
    "    val_minimo=min(val_a,val_b)\n",
    "    return val_minimo"
   ]
  },
  {
   "cell_type": "code",
   "execution_count": 14,
   "id": "1eb238ab-c139-4f6f-99c8-39b0a86c1374",
   "metadata": {},
   "outputs": [
    {
     "data": {
      "text/plain": [
       "-40"
      ]
     },
     "execution_count": 14,
     "metadata": {},
     "output_type": "execute_result"
    }
   ],
   "source": [
    "minimo(-10,-40)"
   ]
  },
  {
   "cell_type": "code",
   "execution_count": 28,
   "id": "03a18626-5056-4856-bc21-85cf6e02420b",
   "metadata": {},
   "outputs": [
    {
     "ename": "IndentationError",
     "evalue": "expected an indented block after 'for' statement on line 3 (2531147852.py, line 4)",
     "output_type": "error",
     "traceback": [
      "  \u001b[36mCell\u001b[39m\u001b[36m \u001b[39m\u001b[32mIn[28]\u001b[39m\u001b[32m, line 4\u001b[39m\n\u001b[31m    \u001b[39m\u001b[31mresultado*=val\u001b[39m\n    ^\n\u001b[31mIndentationError\u001b[39m\u001b[31m:\u001b[39m expected an indented block after 'for' statement on line 3\n"
     ]
    }
   ],
   "source": [
    "def factorial(entero):\n",
    "    resultado=1\n",
    "    for val in range(1,n+1):\n",
    "    resultado*=val\n",
    "    return resultado"
   ]
  },
  {
   "cell_type": "code",
   "execution_count": 25,
   "id": "a189432e-1cd9-4932-8790-48d92af5400f",
   "metadata": {},
   "outputs": [
    {
     "data": {
      "text/plain": [
       "' el factorial es factorial3'"
      ]
     },
     "execution_count": 25,
     "metadata": {},
     "output_type": "execute_result"
    }
   ],
   "source": [
    "factorial (4)"
   ]
  },
  {
   "cell_type": "code",
   "execution_count": null,
   "id": "28ee7430-e490-4e17-bece-d9a82e39223f",
   "metadata": {},
   "outputs": [],
   "source": []
  }
 ],
 "metadata": {
  "kernelspec": {
   "display_name": "Python 3 (ipykernel)",
   "language": "python",
   "name": "python3"
  },
  "language_info": {
   "codemirror_mode": {
    "name": "ipython",
    "version": 3
   },
   "file_extension": ".py",
   "mimetype": "text/x-python",
   "name": "python",
   "nbconvert_exporter": "python",
   "pygments_lexer": "ipython3",
   "version": "3.13.5"
  }
 },
 "nbformat": 4,
 "nbformat_minor": 5
}
