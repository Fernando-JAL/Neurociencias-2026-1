{
 "cells": [
  {
   "cell_type": "code",
   "execution_count": 1,
   "id": "677e4b68-5efa-4b62-813b-81558dfe4b10",
   "metadata": {},
   "outputs": [],
   "source": [
    "import pandas as pd"
   ]
  },
  {
   "cell_type": "code",
   "execution_count": 12,
   "id": "94b4bec7-a0cf-451b-baa7-d4d1cd0b67e1",
   "metadata": {},
   "outputs": [
    {
     "data": {
      "text/plain": [
       "0     6\n",
       "1     8\n",
       "2    34\n",
       "3    92\n",
       "4    67\n",
       "dtype: int64"
      ]
     },
     "execution_count": 12,
     "metadata": {},
     "output_type": "execute_result"
    }
   ],
   "source": [
    "valores= [6,8,34,92,67]\n",
    "indice= range(len(valores))\n",
    "serie1=pd.Series(data= valores, index= indice)\n",
    "serie1"
   ]
  },
  {
   "cell_type": "code",
   "execution_count": 10,
   "id": "bef74753-b1a6-4fc0-8466-b3f6e8197cec",
   "metadata": {},
   "outputs": [
    {
     "data": {
      "text/plain": [
       "0    28\n",
       "1     4\n",
       "2     8\n",
       "3     3\n",
       "4    16\n",
       "dtype: int64"
      ]
     },
     "execution_count": 10,
     "metadata": {},
     "output_type": "execute_result"
    }
   ],
   "source": [
    "valores2= [28,4,8,3,16]\n",
    "serie2= pd.Series(index=indice, data=valores2)\n",
    "serie2"
   ]
  },
  {
   "cell_type": "code",
   "execution_count": 13,
   "id": "20c05658-6fd7-4e8d-bcae-960552e7d409",
   "metadata": {},
   "outputs": [
    {
     "data": {
      "text/plain": [
       "0   -1823562080465190912\n",
       "1                   4096\n",
       "2          1785793904896\n",
       "3                 778688\n",
       "4    6214370268935488321\n",
       "dtype: int64"
      ]
     },
     "execution_count": 13,
     "metadata": {},
     "output_type": "execute_result"
    }
   ],
   "source": [
    "serie1** serie2 "
   ]
  },
  {
   "cell_type": "code",
   "execution_count": 17,
   "id": "bdf16e2a-d539-489e-a9a0-d90e87cf965e",
   "metadata": {},
   "outputs": [],
   "source": [
    "df=pd.DataFrame([[2,3],[4,5]], index= [\"a\",\"b\"], columns=[\"W\",\"X\"])"
   ]
  },
  {
   "cell_type": "code",
   "execution_count": 19,
   "id": "25e8f000-c093-4275-9405-de593e3fe87e",
   "metadata": {},
   "outputs": [
    {
     "data": {
      "text/plain": [
       "a    3\n",
       "b    5\n",
       "Name: X, dtype: int64"
      ]
     },
     "execution_count": 19,
     "metadata": {},
     "output_type": "execute_result"
    }
   ],
   "source": [
    "df[\"X\"]"
   ]
  },
  {
   "cell_type": "code",
   "execution_count": 20,
   "id": "11a88163-81b3-495d-b743-6bf4e69c65e2",
   "metadata": {},
   "outputs": [],
   "source": [
    "#df.X bla bla para seleccionar la columna y se puede sumar entre columnas\n",
    "#df.drop(\"Y\", axis=1) esto es para borrar columnas y axis=0 es para vorrar filas\n",
    "#inplace es para reemplazar el oriiginal??? pones inplace= True"
   ]
  },
  {
   "cell_type": "code",
   "execution_count": 21,
   "id": "9be7cdb7-26b4-4ff6-9f2e-5a83b9f34042",
   "metadata": {},
   "outputs": [],
   "source": [
    "#y para acceder a las filas ponemos df.loc[#] (df es el nombre de la variable)"
   ]
  },
  {
   "cell_type": "code",
   "execution_count": null,
   "id": "305cdb92-c52c-40cc-a3c4-380d8b1809fe",
   "metadata": {},
   "outputs": [],
   "source": [
    "#para solo seleccionar un valor específico df.loc[3,\"X\"]"
   ]
  }
 ],
 "metadata": {
  "kernelspec": {
   "display_name": "Python 3 (ipykernel)",
   "language": "python",
   "name": "python3"
  },
  "language_info": {
   "codemirror_mode": {
    "name": "ipython",
    "version": 3
   },
   "file_extension": ".py",
   "mimetype": "text/x-python",
   "name": "python",
   "nbconvert_exporter": "python",
   "pygments_lexer": "ipython3",
   "version": "3.13.5"
  }
 },
 "nbformat": 4,
 "nbformat_minor": 5
}
