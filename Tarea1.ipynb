{
 "cells": [
  {
   "cell_type": "code",
   "execution_count": 1,
   "id": "e9d5df8c-cc0a-43c9-a2d3-7f19cc920c0e",
   "metadata": {},
   "outputs": [
    {
     "name": "stdout",
     "output_type": "stream",
     "text": [
      "True\n"
     ]
    }
   ],
   "source": [
    "# 1. all(iterable) → devuelve True si todos los elementos son verdaderos\n",
    "valores = [True, 1, \"texto\"]\n",
    "print(all(valores))  # True porque todos son \"verdaderos\" en Python\n"
   ]
  },
  {
   "cell_type": "code",
   "execution_count": 2,
   "id": "022d9f37-3843-45c9-a0be-fcdcb369a3da",
   "metadata": {},
   "outputs": [
    {
     "name": "stdout",
     "output_type": "stream",
     "text": [
      "True\n"
     ]
    }
   ],
   "source": [
    "\n",
    "# 2. any(iterable) → devuelve True si al menos un elemento es verdadero\n",
    "valores = [0, False, \"\", 3]\n",
    "print(any(valores))  # True porque el 3 es verdadero\n",
    "\n"
   ]
  },
  {
   "cell_type": "code",
   "execution_count": 3,
   "id": "c535307f-8277-4613-b0dc-6d047cd04f3d",
   "metadata": {},
   "outputs": [
    {
     "name": "stdout",
     "output_type": "stream",
     "text": [
      "7\n"
     ]
    }
   ],
   "source": [
    "\n",
    "# 3. abs(x) → valor absoluto de un número\n",
    "print(abs(-7))  # 7\n",
    "\n"
   ]
  },
  {
   "cell_type": "code",
   "execution_count": 5,
   "id": "33494204-bbdb-4929-8d96-46c08f9e263f",
   "metadata": {},
   "outputs": [
    {
     "name": "stdin",
     "output_type": "stream",
     "text": [
      "¿Cómo te llamas?  Naomi\n"
     ]
    }
   ],
   "source": [
    "\n",
    "\n",
    "# 4. input(prompt))\n",
    "nombre = input(\"¿Cómo te llamas? \")\n",
    "\n",
    "\n"
   ]
  },
  {
   "cell_type": "code",
   "execution_count": 6,
   "id": "f0fa7594-bf0b-4f12-9888-8ef4be172a0c",
   "metadata": {},
   "outputs": [
    {
     "name": "stdout",
     "output_type": "stream",
     "text": [
      "10\n"
     ]
    }
   ],
   "source": [
    "\n",
    "\n",
    "# 5. max(iterable) → devuelve el mayor elemento\n",
    "numeros = [3, 8, 2, 10, 5]\n",
    "print(max(numeros))  # 10\n"
   ]
  },
  {
   "cell_type": "code",
   "execution_count": 7,
   "id": "5f777675-aa05-4444-9c77-5d76f7b110fd",
   "metadata": {},
   "outputs": [
    {
     "name": "stdout",
     "output_type": "stream",
     "text": [
      "2\n"
     ]
    }
   ],
   "source": [
    "\n",
    "# 6. min(iterable) → devuelve el menor elemento\n",
    "print(min(numeros))  \n"
   ]
  },
  {
   "cell_type": "code",
   "execution_count": 8,
   "id": "6e04ebea-a76a-4675-8bd7-d1ffc196aa44",
   "metadata": {},
   "outputs": [
    {
     "name": "stdout",
     "output_type": "stream",
     "text": [
      "8\n"
     ]
    }
   ],
   "source": [
    "\n",
    "# 7. pow(base, exponente) → potencia\n",
    "print(pow(2, 3))  # 8 (2^3)\n"
   ]
  },
  {
   "cell_type": "code",
   "execution_count": 9,
   "id": "712f5885-e507-4116-b01c-b05dc6ef2d31",
   "metadata": {},
   "outputs": [
    {
     "name": "stdout",
     "output_type": "stream",
     "text": [
      "['n', 'o', 'h', 't', 'y', 'P']\n"
     ]
    }
   ],
   "source": [
    "\n",
    "# 8. reversed(iterable) → devuelve un iterador en orden inverso\n",
    "palabra = \"Python\"\n",
    "print(list(reversed(palabra)))  # ['n','o','h','t','y','P']\n"
   ]
  },
  {
   "cell_type": "code",
   "execution_count": 10,
   "id": "2c9f3258-21e4-40e2-8c80-89fd901ed0e6",
   "metadata": {},
   "outputs": [
    {
     "name": "stdout",
     "output_type": "stream",
     "text": [
      "3.14\n"
     ]
    }
   ],
   "source": [
    "\n",
    "# 9. round(numero, ndigits) → redondea un número\n",
    "print(round(3.14159, 2))  # 3.14"
   ]
  },
  {
   "cell_type": "code",
   "execution_count": 11,
   "id": "019566ee-073e-4b0c-81db-c1be69a55718",
   "metadata": {},
   "outputs": [
    {
     "name": "stdout",
     "output_type": "stream",
     "text": [
      "['a', 'b', 'c', 'd']\n"
     ]
    }
   ],
   "source": [
    "\n",
    "# 10. sorted(iterable) → devuelve una lista ordenada\n",
    "letras = ['d', 'a', 'c', 'b']\n",
    "print(sorted(letras))  # ['a','b','c','d']\n"
   ]
  },
  {
   "cell_type": "code",
   "execution_count": 12,
   "id": "6c3222b0-c3eb-42ff-8df3-0c4da7c3bb1c",
   "metadata": {},
   "outputs": [
    {
     "name": "stdout",
     "output_type": "stream",
     "text": [
      "28\n"
     ]
    }
   ],
   "source": [
    "# 11. sum(iterable) → suma todos los elementos\n",
    "print(sum(numeros))  # 28\n"
   ]
  },
  {
   "cell_type": "code",
   "execution_count": null,
   "id": "560b9113-ec64-434c-a168-0272d78b0a5d",
   "metadata": {},
   "outputs": [],
   "source": []
  }
 ],
 "metadata": {
  "kernelspec": {
   "display_name": "Python 3 (ipykernel)",
   "language": "python",
   "name": "python3"
  },
  "language_info": {
   "codemirror_mode": {
    "name": "ipython",
    "version": 3
   },
   "file_extension": ".py",
   "mimetype": "text/x-python",
   "name": "python",
   "nbconvert_exporter": "python",
   "pygments_lexer": "ipython3",
   "version": "3.13.5"
  }
 },
 "nbformat": 4,
 "nbformat_minor": 5
}
