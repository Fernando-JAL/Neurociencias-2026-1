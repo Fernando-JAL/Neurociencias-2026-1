{
 "cells": [
  {
   "cell_type": "code",
   "execution_count": 12,
   "id": "7c3ccc5e-7555-47d5-a150-d0992b27849c",
   "metadata": {},
   "outputs": [
    {
     "name": "stdout",
     "output_type": "stream",
     "text": [
      "hay elementos\n",
      "hay elementos\n",
      "hay elementos\n",
      "hay elementos\n",
      "hay elementos\n"
     ]
    }
   ],
   "source": [
    "\n",
    "objetos=(1,0,1,0,1)\n",
    "all(objetos)\n",
    "for element in objetos:\n",
    "    print(\"hay elementos\")\n",
    "\n",
    "\n"
   ]
  },
  {
   "cell_type": "code",
   "execution_count": null,
   "id": "e9d5df8c-cc0a-43c9-a2d3-7f19cc920c0e",
   "metadata": {},
   "outputs": [],
   "source": []
  }
 ],
 "metadata": {
  "kernelspec": {
   "display_name": "Python 3 (ipykernel)",
   "language": "python",
   "name": "python3"
  },
  "language_info": {
   "codemirror_mode": {
    "name": "ipython",
    "version": 3
   },
   "file_extension": ".py",
   "mimetype": "text/x-python",
   "name": "python",
   "nbconvert_exporter": "python",
   "pygments_lexer": "ipython3",
   "version": "3.13.5"
  }
 },
 "nbformat": 4,
 "nbformat_minor": 5
}
