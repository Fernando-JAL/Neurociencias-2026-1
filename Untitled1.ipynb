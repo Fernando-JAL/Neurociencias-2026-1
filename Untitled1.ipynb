{
 "cells": [
  {
   "cell_type": "code",
   "execution_count": 1,
   "id": "08b95248-9383-4b3a-9dca-e4ac06bb8592",
   "metadata": {},
   "outputs": [],
   "source": [
    "entero,flotante,complejo= -82,631.,complex(0,1)"
   ]
  },
  {
   "cell_type": "code",
   "execution_count": 2,
   "id": "4e9fca95-3be5-4ec4-9477-dd142118da70",
   "metadata": {},
   "outputs": [],
   "source": [
    "#para convertir por ejemplo en entero a string"
   ]
  },
  {
   "cell_type": "code",
   "execution_count": 3,
   "id": "7d8beb31-e82a-459d-afeb-e23cc7a1df76",
   "metadata": {},
   "outputs": [
    {
     "data": {
      "text/plain": [
       "'-82'"
      ]
     },
     "execution_count": 3,
     "metadata": {},
     "output_type": "execute_result"
    }
   ],
   "source": [
    "str(entero) #lo convierte a string"
   ]
  },
  {
   "cell_type": "code",
   "execution_count": 4,
   "id": "2815abf1-f927-4560-a4a6-8afa5085cbf8",
   "metadata": {},
   "outputs": [],
   "source": [
    "#y para saber qué tipo de dato es solo lo pongo  \"type()\""
   ]
  },
  {
   "cell_type": "code",
   "execution_count": 5,
   "id": "c340fd3a-eb14-4a80-ad19-f7456cdbcb8e",
   "metadata": {},
   "outputs": [],
   "source": [
    "cadena = \"-46.23\""
   ]
  },
  {
   "cell_type": "code",
   "execution_count": 6,
   "id": "d1ba476b-23b5-4c09-b0e7-c8e0cdc073d0",
   "metadata": {},
   "outputs": [
    {
     "data": {
      "text/plain": [
       "-46.23"
      ]
     },
     "execution_count": 6,
     "metadata": {},
     "output_type": "execute_result"
    }
   ],
   "source": [
    "float(cadena)"
   ]
  },
  {
   "cell_type": "code",
   "execution_count": 8,
   "id": "2b149991-b0c6-44f1-bb56-879a240698f1",
   "metadata": {},
   "outputs": [
    {
     "data": {
      "text/plain": [
       "('-', '4', '6', '.', '2', '3')"
      ]
     },
     "execution_count": 8,
     "metadata": {},
     "output_type": "execute_result"
    }
   ],
   "source": [
    "tuple(cadena)"
   ]
  },
  {
   "cell_type": "code",
   "execution_count": 9,
   "id": "b1b0a1b4-e11c-4147-82fe-97a7c668975d",
   "metadata": {},
   "outputs": [
    {
     "data": {
      "text/plain": [
       "-78"
      ]
     },
     "execution_count": 9,
     "metadata": {},
     "output_type": "execute_result"
    }
   ],
   "source": [
    "int(\"-78\")"
   ]
  },
  {
   "cell_type": "code",
   "execution_count": null,
   "id": "d74d5cb1-6718-4d2c-b3f1-94f44de18754",
   "metadata": {},
   "outputs": [],
   "source": [
    "###tipos de dato boolean"
   ]
  },
  {
   "cell_type": "code",
   "execution_count": 10,
   "id": "78bd6699-4bd7-4709-8c1e-58ccb04cfd07",
   "metadata": {},
   "outputs": [],
   "source": [
    "value1, value2= True,False"
   ]
  },
  {
   "cell_type": "code",
   "execution_count": 11,
   "id": "89f45210-162e-4db1-89f2-72de7f781702",
   "metadata": {},
   "outputs": [
    {
     "data": {
      "text/plain": [
       "bool"
      ]
     },
     "execution_count": 11,
     "metadata": {},
     "output_type": "execute_result"
    }
   ],
   "source": [
    "type(value1)"
   ]
  },
  {
   "cell_type": "code",
   "execution_count": 12,
   "id": "e3f8f3d0-f06c-49be-8f21-e8c833aa28f9",
   "metadata": {},
   "outputs": [
    {
     "data": {
      "text/plain": [
       "True"
      ]
     },
     "execution_count": 12,
     "metadata": {},
     "output_type": "execute_result"
    }
   ],
   "source": [
    "bool(\"hola\")"
   ]
  },
  {
   "cell_type": "code",
   "execution_count": 13,
   "id": "a761cb5b-7d26-4537-8374-63e0ce6cae95",
   "metadata": {},
   "outputs": [
    {
     "data": {
      "text/plain": [
       "True"
      ]
     },
     "execution_count": 13,
     "metadata": {},
     "output_type": "execute_result"
    }
   ],
   "source": [
    "bool(2)"
   ]
  },
  {
   "cell_type": "code",
   "execution_count": 14,
   "id": "0e48ddcd-0148-463b-8fdc-159d1475856f",
   "metadata": {},
   "outputs": [],
   "source": [
    "#si es una cadena vacía, es falso, todo lo demás es true"
   ]
  },
  {
   "cell_type": "code",
   "execution_count": 15,
   "id": "190dc74a-067e-413b-a7b5-eec9450d5294",
   "metadata": {},
   "outputs": [],
   "source": [
    "#la tupla es como una cadena pero no puede modificarse"
   ]
  },
  {
   "cell_type": "code",
   "execution_count": 18,
   "id": "9027e891-907f-4d26-a8ca-36e2872a0576",
   "metadata": {},
   "outputs": [],
   "source": [
    "conjunto={4, \"cosa\", 1,2,3,4,\"a\",\"b\",\"c\",\"a\"} #en un conjunto, se quitan los duplicados, en una lista no"
   ]
  },
  {
   "cell_type": "code",
   "execution_count": 19,
   "id": "48608118-83f4-43b1-a34c-be3e82c014d3",
   "metadata": {},
   "outputs": [
    {
     "data": {
      "text/plain": [
       "8"
      ]
     },
     "execution_count": 19,
     "metadata": {},
     "output_type": "execute_result"
    }
   ],
   "source": [
    "len(conjunto)"
   ]
  },
  {
   "cell_type": "code",
   "execution_count": 20,
   "id": "3b4acab6-29f2-4bb0-a172-ffa42a47a88f",
   "metadata": {},
   "outputs": [
    {
     "data": {
      "text/plain": [
       "{1, 2, 3, 4, 'a', 'b', 'c', 'cosa'}"
      ]
     },
     "execution_count": 20,
     "metadata": {},
     "output_type": "execute_result"
    }
   ],
   "source": [
    "conjunto"
   ]
  },
  {
   "cell_type": "code",
   "execution_count": 22,
   "id": "1c746449-6327-44a9-9171-17e131aeb92e",
   "metadata": {},
   "outputs": [],
   "source": [
    "#operadores de asignación--> algo que asigna un valor a otro\n",
    "#=,+=,-=,*=,/=,//=,%=,**="
   ]
  },
  {
   "cell_type": "code",
   "execution_count": 23,
   "id": "0cf7e7cf-9253-4ad1-b85d-7333c236d075",
   "metadata": {},
   "outputs": [
    {
     "data": {
      "text/plain": [
       "32"
      ]
     },
     "execution_count": 23,
     "metadata": {},
     "output_type": "execute_result"
    }
   ],
   "source": [
    "a=10\n",
    "a= a+22\n",
    "a"
   ]
  },
  {
   "cell_type": "code",
   "execution_count": 24,
   "id": "a16322c1-aa25-4d28-976e-b6ea1bcd6587",
   "metadata": {},
   "outputs": [
    {
     "data": {
      "text/plain": [
       "54"
      ]
     },
     "execution_count": 24,
     "metadata": {},
     "output_type": "execute_result"
    }
   ],
   "source": [
    "#equivalente a la de arriba\n",
    "a+=22\n",
    "a"
   ]
  },
  {
   "cell_type": "code",
   "execution_count": 26,
   "id": "ecd88729-af5e-4f4a-bfba-307750e97216",
   "metadata": {},
   "outputs": [
    {
     "data": {
      "text/plain": [
       "'hacefrío'"
      ]
     },
     "execution_count": 26,
     "metadata": {},
     "output_type": "execute_result"
    }
   ],
   "source": [
    "cad= \"hace\"\n",
    "cad+= \"frío\"\n",
    "cad"
   ]
  },
  {
   "cell_type": "code",
   "execution_count": 28,
   "id": "9c5ee9c7-00de-42f9-abe5-988e2b5519ee",
   "metadata": {},
   "outputs": [
    {
     "data": {
      "text/plain": [
       "4"
      ]
     },
     "execution_count": 28,
     "metadata": {},
     "output_type": "execute_result"
    }
   ],
   "source": [
    "b=2\n",
    "b*=2\n",
    "b"
   ]
  },
  {
   "cell_type": "code",
   "execution_count": 29,
   "id": "0e103b70-d40a-45f9-a60b-423179aa5b3e",
   "metadata": {},
   "outputs": [],
   "source": [
    "a=2\n",
    "a**=5  #2 a la 5"
   ]
  },
  {
   "cell_type": "code",
   "execution_count": 30,
   "id": "f4d87108-3b64-476e-b436-2c207f2a3168",
   "metadata": {},
   "outputs": [
    {
     "data": {
      "text/plain": [
       "32"
      ]
     },
     "execution_count": 30,
     "metadata": {},
     "output_type": "execute_result"
    }
   ],
   "source": [
    "a"
   ]
  },
  {
   "cell_type": "code",
   "execution_count": 32,
   "id": "b58c6dd8-ee5f-45e9-bb35-30c9396ecbb9",
   "metadata": {},
   "outputs": [
    {
     "data": {
      "text/plain": [
       "[3,\n",
       " 6,\n",
       " 8,\n",
       " 'azul como el mar',\n",
       " 'l',\n",
       " 'a',\n",
       " 's',\n",
       " ' ',\n",
       " 'd',\n",
       " 'o',\n",
       " 'c',\n",
       " 'e',\n",
       " ' ',\n",
       " 'c',\n",
       " 'a',\n",
       " 's',\n",
       " 'a',\n",
       " 's']"
      ]
     },
     "execution_count": 32,
     "metadata": {},
     "output_type": "execute_result"
    }
   ],
   "source": [
    "l= [3,6,8,\"azul como el mar\"]\n",
    "l += list(\"las doce casas\")\n",
    "l\n",
    "    "
   ]
  },
  {
   "cell_type": "code",
   "execution_count": 33,
   "id": "3f677c2d-d6b9-46c1-9469-31cdb8912728",
   "metadata": {},
   "outputs": [
    {
     "data": {
      "text/plain": [
       "18"
      ]
     },
     "execution_count": 33,
     "metadata": {},
     "output_type": "execute_result"
    }
   ],
   "source": [
    "len(l)"
   ]
  },
  {
   "cell_type": "code",
   "execution_count": null,
   "id": "9b732338-40c8-480b-8dec-b30bb0594255",
   "metadata": {},
   "outputs": [],
   "source": [
    "#operadores relacionales\n",
    "#<,>,==,!= diferente de"
   ]
  },
  {
   "cell_type": "code",
   "execution_count": 38,
   "id": "5770006f-3aa2-49f5-92d7-ec82285fae7e",
   "metadata": {},
   "outputs": [
    {
     "data": {
      "text/plain": [
       "(False, False, True)"
      ]
     },
     "execution_count": 38,
     "metadata": {},
     "output_type": "execute_result"
    }
   ],
   "source": [
    "a,b= 5,18\n",
    "a>b,a==b, a!=b"
   ]
  },
  {
   "cell_type": "code",
   "execution_count": 39,
   "id": "162708c9-8e93-44f3-b1b8-0468c640b5f3",
   "metadata": {},
   "outputs": [],
   "source": [
    "#operadores lógicos \n",
    "#OR,AND,NOT"
   ]
  },
  {
   "cell_type": "code",
   "execution_count": 40,
   "id": "0bae9e1f-d1a5-4721-8b72-691d6499cf1b",
   "metadata": {},
   "outputs": [
    {
     "data": {
      "text/plain": [
       "False"
      ]
     },
     "execution_count": 40,
     "metadata": {},
     "output_type": "execute_result"
    }
   ],
   "source": [
    "False and False"
   ]
  },
  {
   "cell_type": "code",
   "execution_count": 41,
   "id": "cc1af03d-8b8a-44b9-9e53-0692567e080c",
   "metadata": {},
   "outputs": [
    {
     "data": {
      "text/plain": [
       "(True, False, False, False)"
      ]
     },
     "execution_count": 41,
     "metadata": {},
     "output_type": "execute_result"
    }
   ],
   "source": [
    "#tabla de verdad del and\n",
    "True and True, True and False, False and True, False and False"
   ]
  },
  {
   "cell_type": "code",
   "execution_count": 42,
   "id": "c1633338-d2b8-4b4b-a1b7-8ac4b334b157",
   "metadata": {},
   "outputs": [
    {
     "data": {
      "text/plain": [
       "(True, True, True, False)"
      ]
     },
     "execution_count": 42,
     "metadata": {},
     "output_type": "execute_result"
    }
   ],
   "source": [
    "#tabla del or\n",
    "True or True, True or False, False or True, False or False"
   ]
  },
  {
   "cell_type": "code",
   "execution_count": 43,
   "id": "72a6e6bc-49a8-476d-b49c-0dd286b51cbc",
   "metadata": {},
   "outputs": [
    {
     "data": {
      "text/plain": [
       "(False, True)"
      ]
     },
     "execution_count": 43,
     "metadata": {},
     "output_type": "execute_result"
    }
   ],
   "source": [
    "#tabla del not\n",
    "not True, not False"
   ]
  },
  {
   "cell_type": "code",
   "execution_count": 44,
   "id": "ddf3974b-0886-4901-a1fa-e028ab48b1bd",
   "metadata": {},
   "outputs": [
    {
     "data": {
      "text/plain": [
       "False"
      ]
     },
     "execution_count": 44,
     "metadata": {},
     "output_type": "execute_result"
    }
   ],
   "source": [
    "3<5 and 8<3"
   ]
  },
  {
   "cell_type": "code",
   "execution_count": 45,
   "id": "02a6da6e-0971-4828-8389-8da8793d63e1",
   "metadata": {},
   "outputs": [
    {
     "data": {
      "text/plain": [
       "True"
      ]
     },
     "execution_count": 45,
     "metadata": {},
     "output_type": "execute_result"
    }
   ],
   "source": [
    "5>1 and 4>2"
   ]
  },
  {
   "cell_type": "code",
   "execution_count": 46,
   "id": "7fc9ad31-7172-4b7b-8848-1a398fdb3013",
   "metadata": {},
   "outputs": [
    {
     "data": {
      "text/plain": [
       "False"
      ]
     },
     "execution_count": 46,
     "metadata": {},
     "output_type": "execute_result"
    }
   ],
   "source": [
    "c= \"hola mundo\"\n",
    "len(c)>=10 and c[0]== \"H\" #compara con la h minúscula"
   ]
  },
  {
   "cell_type": "code",
   "execution_count": null,
   "id": "ac4212f1-b3df-4b2a-8b2d-bb572de56887",
   "metadata": {},
   "outputs": [],
   "source": []
  }
 ],
 "metadata": {
  "kernelspec": {
   "display_name": "Python 3 (ipykernel)",
   "language": "python",
   "name": "python3"
  },
  "language_info": {
   "codemirror_mode": {
    "name": "ipython",
    "version": 3
   },
   "file_extension": ".py",
   "mimetype": "text/x-python",
   "name": "python",
   "nbconvert_exporter": "python",
   "pygments_lexer": "ipython3",
   "version": "3.13.5"
  }
 },
 "nbformat": 4,
 "nbformat_minor": 5
}
