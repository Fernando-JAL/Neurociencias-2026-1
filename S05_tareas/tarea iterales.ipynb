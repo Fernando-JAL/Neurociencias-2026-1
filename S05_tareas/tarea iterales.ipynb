{
 "cells": [
  {
   "cell_type": "markdown",
   "id": "cbf5bd81-f9af-4c51-8512-d16869e968c6",
   "metadata": {},
   "source": [
    "### Tarea\n",
    "\n",
    "Hacer un ejemplo de las siguientes built-in functions\n",
    " -all\n",
    " -any\n",
    " -abs\n",
    " -input\n",
    " -max\n",
    " -min\n",
    " -pow\n",
    " -reversed\n",
    " -round\n",
    " -sorted"
   ]
  },
  {
   "cell_type": "code",
   "execution_count": 1,
   "id": "cdb31e16-8b6e-4588-aa9e-2db6e516f73a",
   "metadata": {},
   "outputs": [
    {
     "name": "stdout",
     "output_type": "stream",
     "text": [
      "all(): True\n"
     ]
    }
   ],
   "source": [
    "# 1. all()\n",
    "# Devuelve True si todos los elementos del iterable son verdaderos\n",
    "valores = [True, True, True]\n",
    "print(\"all():\", all(valores)) "
   ]
  },
  {
   "cell_type": "code",
   "execution_count": 2,
   "id": "d24aa5f0-8aee-4ac3-b06c-f5eecc9b6c1b",
   "metadata": {},
   "outputs": [
    {
     "name": "stdout",
     "output_type": "stream",
     "text": [
      "any(): True\n"
     ]
    }
   ],
   "source": [
    "# 2. any()\n",
    "# Devuleve True si al menos un elemento del iterable es verdadero\n",
    "valores = [False, False, True]\n",
    "print(\"any():\", any(valores))"
   ]
  },
  {
   "cell_type": "code",
   "execution_count": 3,
   "id": "51f6570a-b1c1-43f4-b295-aad6219c060a",
   "metadata": {},
   "outputs": [
    {
     "name": "stdout",
     "output_type": "stream",
     "text": [
      "abs(): 7\n"
     ]
    }
   ],
   "source": [
    "# 3. abs()\n",
    "# Devuelve el valor absoluto de un numero\n",
    "numero = -7\n",
    "print(\"abs():\", abs(numero))"
   ]
  },
  {
   "cell_type": "code",
   "execution_count": 4,
   "id": "73849c44-a599-4b5e-ab3b-ba0fbf4ba02b",
   "metadata": {},
   "outputs": [
    {
     "name": "stdin",
     "output_type": "stream",
     "text": [
      "Taylor Swift:  \n"
     ]
    },
    {
     "name": "stdout",
     "output_type": "stream",
     "text": [
      "input(): \n"
     ]
    }
   ],
   "source": [
    "# 4. input()\n",
    "nombre = input(\"Taylor Swift: \")\n",
    "print(\"input():\", nombre)"
   ]
  },
  {
   "cell_type": "code",
   "execution_count": 5,
   "id": "1ac6cbd7-011e-4163-95b1-5a843e273b57",
   "metadata": {},
   "outputs": [
    {
     "name": "stdout",
     "output_type": "stream",
     "text": [
      "max(): 88\n"
     ]
    }
   ],
   "source": [
    "# 5. max()\n",
    "# Devuelve el valor maximo de una secuencia\n",
    "numeros = [10, 25, 3, 88, 17]\n",
    "print(\"max():\", max(numeros))"
   ]
  },
  {
   "cell_type": "code",
   "execution_count": 6,
   "id": "54bec93c-3c26-4182-9924-90728c951b01",
   "metadata": {},
   "outputs": [
    {
     "name": "stdout",
     "output_type": "stream",
     "text": [
      "min(): 3\n"
     ]
    }
   ],
   "source": [
    "# 6. min()\n",
    "# DEvuelve el valor minimo de una secuencia\n",
    "print(\"min():\", min(numeros))"
   ]
  },
  {
   "cell_type": "code",
   "execution_count": 7,
   "id": "97c71e1f-5a59-42fd-81da-da94f14c3643",
   "metadata": {},
   "outputs": [
    {
     "name": "stdout",
     "output_type": "stream",
     "text": [
      "pow(): 32\n"
     ]
    }
   ],
   "source": [
    "# 7. pow()\n",
    "# Calcula la potencia de un numero \n",
    "print(\"pow():\", pow(2, 5))"
   ]
  },
  {
   "cell_type": "code",
   "execution_count": 9,
   "id": "40737a74-38b0-46dd-a7a5-0dfb0f413457",
   "metadata": {},
   "outputs": [
    {
     "name": "stdout",
     "output_type": "stream",
     "text": [
      "reversed(): [5, 4, 3, 2, 1]\n"
     ]
    }
   ],
   "source": [
    "# 8. reversed()\n",
    "# Devuelve in iterador que recorre la secuncia en orden inverso\n",
    "lista = [1, 2, 3, 4, 5]\n",
    "print(\"reversed():\", list(reversed(lista)))"
   ]
  },
  {
   "cell_type": "code",
   "execution_count": 11,
   "id": "a8940a5e-3e05-410f-af37-547619b629b0",
   "metadata": {},
   "outputs": [
    {
     "name": "stdout",
     "output_type": "stream",
     "text": [
      "round()sin decimales: 3\n",
      "round()con 2 decimales; 3.14\n"
     ]
    }
   ],
   "source": [
    "# 9. round()\n",
    "# Redondea un numero flotante al entero mas cercano o a cirta cantidad de decimales\n",
    "pi = 3.14159\n",
    "print(\"round()sin decimales:\", round(pi))\n",
    "print(\"round()con 2 decimales;\", round(pi,2))"
   ]
  },
  {
   "cell_type": "code",
   "execution_count": null,
   "id": "3be1e40f-37a9-4b4b-987b-e69b6aae960b",
   "metadata": {},
   "outputs": [],
   "source": [
    "# 10. sorted()\n",
    "# Devuelve una lista ordenada a partir de un iterable\n",
    "desordenados = [4, 2, 7, 1, 9]\n",
    "print(\"sorted():\", sorted(desordenados"
   ]
  }
 ],
 "metadata": {
  "kernelspec": {
   "display_name": "Python 3 (ipykernel)",
   "language": "python",
   "name": "python3"
  },
  "language_info": {
   "codemirror_mode": {
    "name": "ipython",
    "version": 3
   },
   "file_extension": ".py",
   "mimetype": "text/x-python",
   "name": "python",
   "nbconvert_exporter": "python",
   "pygments_lexer": "ipython3",
   "version": "3.13.7"
  }
 },
 "nbformat": 4,
 "nbformat_minor": 5
}
