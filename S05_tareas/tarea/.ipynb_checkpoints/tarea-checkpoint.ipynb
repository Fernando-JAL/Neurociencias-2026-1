{
 "cells": [
  {
   "cell_type": "markdown",
   "id": "124df3bb-0123-456b-a1c0-94fb24debc3b",
   "metadata": {},
   "source": [
    "# Tarea\n",
    "Hacer un ejemplo de las siguientes built-in functions \n",
    "- all\n",
    "- any\n",
    "- abs\n",
    "- input\n",
    "- max\n",
    "- min\n",
    "- pow\n",
    "- reversed\n",
    "- round\n",
    "- sorted\n",
    "- sum"
   ]
  },
  {
   "cell_type": "code",
   "execution_count": 11,
   "id": "8ed10c23-faf7-42c6-b12e-f4d33fd593de",
   "metadata": {},
   "outputs": [
    {
     "data": {
      "text/plain": [
       "False"
      ]
     },
     "execution_count": 11,
     "metadata": {},
     "output_type": "execute_result"
    }
   ],
   "source": [
    "# All function:devuelve Verdadero si todos los elementos de un iterable son verdaderos, de lo contrario devuelve Falso. Si esta vacío= True\n",
    "lista=[True,True,False]\n",
    "lista=all(lista)\n",
    "lista"
   ]
  },
  {
   "cell_type": "code",
   "execution_count": 12,
   "id": "2fe71b03-3b74-4623-a45c-8682fd26f3d5",
   "metadata": {},
   "outputs": [
    {
     "data": {
      "text/plain": [
       "True"
      ]
     },
     "execution_count": 12,
     "metadata": {},
     "output_type": "execute_result"
    }
   ],
   "source": [
    "# Any function: devuelve Verdadero si algún elemento en un iterable es verdadero, de lo contrario devuelve Falso. Si esta vacío= False\n",
    "lista=[True,True,False]\n",
    "lista=any(lista)\n",
    "lista"
   ]
  },
  {
   "cell_type": "code",
   "execution_count": 3,
   "id": "308e343a-0b69-4822-a083-995e83710b50",
   "metadata": {},
   "outputs": [
    {
     "data": {
      "text/plain": [
       "5.830951894845301"
      ]
     },
     "execution_count": 3,
     "metadata": {},
     "output_type": "execute_result"
    }
   ],
   "source": [
    "# Abs()\n",
    "x = abs(3+5j)\n",
    "x"
   ]
  },
  {
   "cell_type": "code",
   "execution_count": 4,
   "id": "8bcf26d7-b6be-40bf-8b07-ba0fe1ac7120",
   "metadata": {},
   "outputs": [
    {
     "name": "stdin",
     "output_type": "stream",
     "text": [
      "Inserte un nombre: hola\n"
     ]
    },
    {
     "name": "stdout",
     "output_type": "stream",
     "text": [
      "Hola, hola\n"
     ]
    }
   ],
   "source": [
    "# Input\n",
    "nombre=input(\"Inserte un nombre:\")\n",
    "print('Hola,', nombre)"
   ]
  },
  {
   "cell_type": "code",
   "execution_count": 5,
   "id": "2bec2b79-a297-4f58-84c7-903aa83dd8e4",
   "metadata": {},
   "outputs": [
    {
     "data": {
      "text/plain": [
       "(100, 1)"
      ]
     },
     "execution_count": 5,
     "metadata": {},
     "output_type": "execute_result"
    }
   ],
   "source": [
    "# Max, min\n",
    "maximo= max(1,100)\n",
    "minimo=min(1,100)\n",
    "maximo,minimo"
   ]
  },
  {
   "cell_type": "code",
   "execution_count": 6,
   "id": "98b131f2-8edd-4831-bb19-b19445dadfd2",
   "metadata": {},
   "outputs": [
    {
     "data": {
      "text/plain": [
       "8"
      ]
     },
     "execution_count": 6,
     "metadata": {},
     "output_type": "execute_result"
    }
   ],
   "source": [
    "#Pow(). a la potencia de\n",
    "z=pow(2,3)\n",
    "z"
   ]
  },
  {
   "cell_type": "code",
   "execution_count": 7,
   "id": "3f26c12f-c1a7-428c-9905-aee422fa7146",
   "metadata": {},
   "outputs": [
    {
     "name": "stdout",
     "output_type": "stream",
     "text": [
      "banana\n",
      "4\n",
      "3\n",
      "manzana\n",
      "2\n",
      "1\n"
     ]
    }
   ],
   "source": [
    "# Reversed\n",
    "lista=[1,2,'manzana',3,4,'banana']\n",
    "reversa=reversed(lista)\n",
    "for _ in reversa:\n",
    "    print(_)"
   ]
  },
  {
   "cell_type": "code",
   "execution_count": 8,
   "id": "dd1c5c3e-d8ff-4222-a504-a2168068fe5c",
   "metadata": {},
   "outputs": [
    {
     "data": {
      "text/plain": [
       "3.14"
      ]
     },
     "execution_count": 8,
     "metadata": {},
     "output_type": "execute_result"
    }
   ],
   "source": [
    "# Round\n",
    "numero=round(3.14162534,2)\n",
    "numero"
   ]
  },
  {
   "cell_type": "code",
   "execution_count": 9,
   "id": "9c5c3b26-58af-424e-93e2-e5ebf64bd82f",
   "metadata": {},
   "outputs": [
    {
     "data": {
      "text/plain": [
       "['banana', 'fresa', 'manzana', 'naranja']"
      ]
     },
     "execution_count": 9,
     "metadata": {},
     "output_type": "execute_result"
    }
   ],
   "source": [
    "#Sorted\n",
    "frutas=['manzana','banana','fresa','naranja']\n",
    "frutas=sorted(frutas)\n",
    "frutas"
   ]
  },
  {
   "cell_type": "code",
   "execution_count": 10,
   "id": "bb932519-697b-49cd-9095-89e4340b33e8",
   "metadata": {},
   "outputs": [
    {
     "data": {
      "text/plain": [
       "15"
      ]
     },
     "execution_count": 10,
     "metadata": {},
     "output_type": "execute_result"
    }
   ],
   "source": [
    "# Sum\n",
    "lista=[1,2,3,4,5]\n",
    "suma=sum(lista)\n",
    "suma"
   ]
  },
  {
   "cell_type": "code",
   "execution_count": null,
   "id": "fb3a3f6d-14c5-4eea-b873-b008af74916d",
   "metadata": {},
   "outputs": [],
   "source": []
  }
 ],
 "metadata": {
  "kernelspec": {
   "display_name": "Python 3 (ipykernel)",
   "language": "python",
   "name": "python3"
  },
  "language_info": {
   "codemirror_mode": {
    "name": "ipython",
    "version": 3
   },
   "file_extension": ".py",
   "mimetype": "text/x-python",
   "name": "python",
   "nbconvert_exporter": "python",
   "pygments_lexer": "ipython3",
   "version": "3.11.1"
  }
 },
 "nbformat": 4,
 "nbformat_minor": 5
}
