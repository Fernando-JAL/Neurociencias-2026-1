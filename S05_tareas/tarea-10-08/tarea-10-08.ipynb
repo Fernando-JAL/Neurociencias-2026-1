{
 "cells": [
  {
   "cell_type": "code",
   "execution_count": 13,
   "id": "4044ce86-d3db-4628-b57b-663bd5a23842",
   "metadata": {},
   "outputs": [],
   "source": [
    "import networkx as nx\n",
    "import matplotlib.pyplot as plt\n",
    "import pandas as pd\n",
    "import numpy as np\n",
    "import seaborn as sns"
   ]
  },
  {
   "cell_type": "markdown",
   "id": "523e4150-5cb1-487e-a2e6-a10797a992ea",
   "metadata": {},
   "source": [
    "# Tarea 8 de octubre:\n",
    "De esta matriz...\n",
    "1. Mapa de calor\n",
    "2. Cuartiles\n",
    "3. Umbral 50% + mapa de calor con umbral"
   ]
  },
  {
   "cell_type": "code",
   "execution_count": 6,
   "id": "21a656e5-2ea1-499e-82fe-623af36f5f0e",
   "metadata": {},
   "outputs": [
    {
     "name": "stderr",
     "output_type": "stream",
     "text": [
      "C:\\Users\\apgso\\AppData\\Local\\Temp\\ipykernel_17208\\521787071.py:16: FutureWarning: Downcasting object dtype arrays on .fillna, .ffill, .bfill is deprecated and will change in a future version. Call result.infer_objects(copy=False) instead. To opt-in to the future behavior, set `pd.set_option('future.no_silent_downcasting', True)`\n",
      "  df.fillna(0.00, inplace = True)\n"
     ]
    },
    {
     "data": {
      "text/html": [
       "<div>\n",
       "<style scoped>\n",
       "    .dataframe tbody tr th:only-of-type {\n",
       "        vertical-align: middle;\n",
       "    }\n",
       "\n",
       "    .dataframe tbody tr th {\n",
       "        vertical-align: top;\n",
       "    }\n",
       "\n",
       "    .dataframe thead th {\n",
       "        text-align: right;\n",
       "    }\n",
       "</style>\n",
       "<table border=\"1\" class=\"dataframe\">\n",
       "  <thead>\n",
       "    <tr style=\"text-align: right;\">\n",
       "      <th></th>\n",
       "      <th>A</th>\n",
       "      <th>B</th>\n",
       "      <th>C</th>\n",
       "      <th>D</th>\n",
       "      <th>E</th>\n",
       "    </tr>\n",
       "  </thead>\n",
       "  <tbody>\n",
       "    <tr>\n",
       "      <th>A</th>\n",
       "      <td>0.0</td>\n",
       "      <td>2.1</td>\n",
       "      <td>0.00</td>\n",
       "      <td>7.5</td>\n",
       "      <td>0.0</td>\n",
       "    </tr>\n",
       "    <tr>\n",
       "      <th>B</th>\n",
       "      <td>8.6</td>\n",
       "      <td>0.0</td>\n",
       "      <td>10.20</td>\n",
       "      <td>0.0</td>\n",
       "      <td>0.0</td>\n",
       "    </tr>\n",
       "    <tr>\n",
       "      <th>C</th>\n",
       "      <td>0.0</td>\n",
       "      <td>7.3</td>\n",
       "      <td>0.00</td>\n",
       "      <td>0.0</td>\n",
       "      <td>1.1</td>\n",
       "    </tr>\n",
       "    <tr>\n",
       "      <th>D</th>\n",
       "      <td>5.6</td>\n",
       "      <td>0.0</td>\n",
       "      <td>0.00</td>\n",
       "      <td>0.0</td>\n",
       "      <td>4.2</td>\n",
       "    </tr>\n",
       "    <tr>\n",
       "      <th>E</th>\n",
       "      <td>0.0</td>\n",
       "      <td>0.0</td>\n",
       "      <td>3.56</td>\n",
       "      <td>0.8</td>\n",
       "      <td>0.0</td>\n",
       "    </tr>\n",
       "  </tbody>\n",
       "</table>\n",
       "</div>"
      ],
      "text/plain": [
       "     A    B      C    D    E\n",
       "A  0.0  2.1   0.00  7.5  0.0\n",
       "B  8.6  0.0  10.20  0.0  0.0\n",
       "C  0.0  7.3   0.00  0.0  1.1\n",
       "D  5.6  0.0   0.00  0.0  4.2\n",
       "E  0.0  0.0   3.56  0.8  0.0"
      ]
     },
     "execution_count": 6,
     "metadata": {},
     "output_type": "execute_result"
    }
   ],
   "source": [
    "df = pd.DataFrame(index = [\"A\", \"B\", \"C\", \"D\", \"E\"], \n",
    "                  columns = [\"A\", \"B\", \"C\", \"D\", \"E\"])\n",
    "\n",
    "df.loc[\"A\", \"A\"] = 0\n",
    "df.loc[\"A\", \"B\"] = 2.1\n",
    "df.loc[\"B\", \"A\"] = 8.6\n",
    "df.loc[\"B\", \"C\"] = 10.2\n",
    "df.loc[\"C\", \"B\"] = 7.3\n",
    "df.loc[\"C\", \"E\"] = 1.1\n",
    "df.loc[\"E\", \"C\"] = 3.56\n",
    "df.loc[\"E\", \"D\"] = 0.8\n",
    "df.loc[\"D\", \"E\"] = 4.2\n",
    "df.loc[\"D\", \"A\"] = 5.6\n",
    "df.loc[\"A\", \"D\"] = 7.5\n",
    "\n",
    "df.fillna(0.00, inplace = True)\n",
    "df"
   ]
  },
  {
   "cell_type": "code",
   "execution_count": null,
   "id": "ecdf9efa-ca4b-481e-a130-36986c895d41",
   "metadata": {},
   "outputs": [],
   "source": [
    "# 1.\n",
    "ax = sns.heatmap(df.values, \n",
    "                 annot = True, cmap = \"hot\", fmt = \".2f\",\n",
    "                 xticklabels = df.columns, yticklabels = df.columns)\n",
    "plt.show()"
   ]
  },
  {
   "cell_type": "code",
   "execution_count": 11,
   "id": "d55fcf09-246c-4cc6-a48a-189a544ec1ad",
   "metadata": {},
   "outputs": [
    {
     "name": "stdout",
     "output_type": "stream",
     "text": [
      "[0.   0.   3.56]\n"
     ]
    }
   ],
   "source": [
    "# 2.\n",
    "valores = df.to_numpy().flatten()\n",
    "cuartiles = np.percentile(valores, [25, 50, 75])\n",
    "print(cuartiles)"
   ]
  },
  {
   "cell_type": "code",
   "execution_count": 14,
   "id": "810dcf1f-4cf4-4412-bccc-49f3b21f68a3",
   "metadata": {},
   "outputs": [
    {
     "data": {
      "image/png": "[encoded data removed]",
      "text/plain": [
       "<Figure size 640x480 with 2 Axes>"
      ]
     },
     "metadata": {},
     "output_type": "display_data"
    }
   ],
   "source": [
    "# 3.\n",
    "df_filter = df.where(df > cuartiles[1])\n",
    "df_map = sns.heatmap(df_filter.values, \n",
    "                 annot = True, cmap = \"hot\", fmt = \".2f\",\n",
    "                 xticklabels = df.columns, yticklabels = df.columns)\n",
    "plt.show()"
   ]
  }
 ],
 "metadata": {
  "kernelspec": {
   "display_name": "Python 3 (ipykernel)",
   "language": "python",
   "name": "python3"
  },
  "language_info": {
   "codemirror_mode": {
    "name": "ipython",
    "version": 3
   },
   "file_extension": ".py",
   "mimetype": "text/x-python",
   "name": "python",
   "nbconvert_exporter": "python",
   "pygments_lexer": "ipython3",
   "version": "3.13.7"
  }
 },
 "nbformat": 4,
 "nbformat_minor": 5
}
