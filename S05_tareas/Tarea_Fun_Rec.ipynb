{
 "cells": [
  {
   "cell_type": "markdown",
   "id": "8daae0e6-0a36-4f7b-b39e-251d0f3d5dcc",
   "metadata": {},
   "source": [
    "# Tarea: funciones recursivas\n"
   ]
  },
  {
   "cell_type": "code",
   "execution_count": 41,
   "id": "639da57e-cd8e-401f-bf38-6690b42863cd",
   "metadata": {},
   "outputs": [
    {
     "name": "stdout",
     "output_type": "stream",
     "text": [
      "3\n",
      "2\n",
      "1\n",
      "boom\n",
      "fin de la función 0\n",
      "fin de la función 1\n",
      "fin de la función 2\n",
      "fin de la función 3\n"
     ]
    }
   ],
   "source": [
    "def cuenta_atras(n):\n",
    "    if n >0:##esto evita q la función sea infinita\n",
    "        print(n)\n",
    "        cuenta_atras(n-1)\n",
    "    else:\n",
    "        print(\"boom\")\n",
    "    print(\"fin de la función\", n) ##aquí el monito camina hacia arriba, hagamos de cuenta q hicimos una escalera 3,2,1\n",
    "    ## y al llegan a fin de la función en el nivel de indentación de if, nos regresamos hacia arriba 0,1,2,3\n",
    "\n",
    "cuenta_atras(3)      \n"
   ]
  },
  {
   "cell_type": "code",
   "execution_count": 50,
   "id": "6f63f9c1-2a95-4631-8f99-14a9b9108d30",
   "metadata": {},
   "outputs": [],
   "source": [
    "##Tareaaaaaa, hacer factorial n!=n.(n-1)\n",
    "##sumatorio 5i = 1+sumatoria de 5i\n",
    "\n",
    "def factorial (n):\n",
    "    if n==1 or n==0:\n",
    "       return (1)\n",
    "    else:\n",
    "        return n*factorial(n-1)\n",
    "        \n",
    "\n",
    "\n"
   ]
  },
  {
   "cell_type": "code",
   "execution_count": 52,
   "id": "bfa55732-8fa7-423d-a657-1f9dfa74d6c6",
   "metadata": {},
   "outputs": [
    {
     "data": {
      "text/plain": [
       "1"
      ]
     },
     "execution_count": 52,
     "metadata": {},
     "output_type": "execute_result"
    }
   ],
   "source": [
    "factorial(1)"
   ]
  },
  {
   "cell_type": "code",
   "execution_count": 29,
   "id": "f4070cee-f517-4903-9965-57bd9d6e5d63",
   "metadata": {},
   "outputs": [
    {
     "name": "stdout",
     "output_type": "stream",
     "text": [
      "30\n"
     ]
    }
   ],
   "source": [
    "#sumatoria\n",
    "def sumatoria(n):\n",
    "    if n == 0:\n",
    "        return 0\n",
    "    else:\n",
    "        return 5**n + sumatoria(n-1)\n",
    "\n",
    "print(sumatoria(2))\n",
    "\n",
    "\n",
    "    \n",
    "    \n",
    "    \n",
    "\n",
    "\n",
    "\n"
   ]
  },
  {
   "cell_type": "code",
   "execution_count": 10,
   "id": "8acea3d7-b184-4b17-ac1e-3e1f9ee1aa43",
   "metadata": {},
   "outputs": [
    {
     "ename": "NameError",
     "evalue": "name 'sumatoria' is not defined",
     "output_type": "error",
     "traceback": [
      "\u001b[1;31m---------------------------------------------------------------------------\u001b[0m",
      "\u001b[1;31mNameError\u001b[0m                                 Traceback (most recent call last)",
      "Cell \u001b[1;32mIn[10], line 1\u001b[0m\n\u001b[1;32m----> 1\u001b[0m \u001b[43msumatoria_5\u001b[49m\u001b[43m(\u001b[49m\u001b[38;5;241;43m2\u001b[39;49m\u001b[43m)\u001b[49m\n",
      "Cell \u001b[1;32mIn[9], line 7\u001b[0m, in \u001b[0;36msumatoria_5\u001b[1;34m(i)\u001b[0m\n\u001b[0;32m      5\u001b[0m     \u001b[38;5;28;01mreturn\u001b[39;00m \u001b[38;5;241m6\u001b[39m\n\u001b[0;32m      6\u001b[0m \u001b[38;5;28;01melse\u001b[39;00m:\n\u001b[1;32m----> 7\u001b[0m     \u001b[38;5;28;01mreturn\u001b[39;00m \u001b[38;5;241m1\u001b[39m\u001b[38;5;241m+\u001b[39m\u001b[43msumatoria\u001b[49m(i)\u001b[38;5;241m*\u001b[39m\u001b[38;5;241m5\u001b[39m\n",
      "\u001b[1;31mNameError\u001b[0m: name 'sumatoria' is not defined"
     ]
    }
   ],
   "source": [
    "def sumatori (n)\n",
    "   if n==0\n",
    "        return 20\n",
    "    else:\n",
    " return 5**n\n",
    "\n",
    "\n"
   ]
  }
 ],
 "metadata": {
  "kernelspec": {
   "display_name": "Python 3 (ipykernel)",
   "language": "python",
   "name": "python3"
  },
  "language_info": {
   "codemirror_mode": {
    "name": "ipython",
    "version": 3
   },
   "file_extension": ".py",
   "mimetype": "text/x-python",
   "name": "python",
   "nbconvert_exporter": "python",
   "pygments_lexer": "ipython3",
   "version": "3.10.4"
  }
 },
 "nbformat": 4,
 "nbformat_minor": 5
}
