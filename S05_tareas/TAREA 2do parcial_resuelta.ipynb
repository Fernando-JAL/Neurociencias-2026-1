{
 "cells": [
  {
   "cell_type": "markdown",
   "id": "eaf69d30",
   "metadata": {},
   "source": [
    "# TAREA \n",
    "Nicole Hernández Hernández\n",
    "\n",
    "## para el 2do parcial\n",
    "\n",
    "\n",
    "Cada ejercicio está representado por una función con su docstring que contiene\n",
    "la instrucción (no incluye soluciones). Implementa las funciones por tu cuenta.\n",
    "\n"
   ]
  },
  {
   "cell_type": "code",
   "execution_count": 14,
   "id": "8ce0b772",
   "metadata": {},
   "outputs": [],
   "source": [
    "import pandas as pd\n",
    "import numpy as np"
   ]
  },
  {
   "cell_type": "code",
   "execution_count": 16,
   "id": "60179dc2-6107-427f-bae2-d6647d813d34",
   "metadata": {},
   "outputs": [],
   "source": [
    "# -----------------------------\n",
    "# 1-4: Pandas (concatenación)\n",
    "# -----------------------------\n"
   ]
  },
  {
   "cell_type": "code",
   "execution_count": 17,
   "id": "f706cad3-546b-44da-9993-101c6744df17",
   "metadata": {},
   "outputs": [
    {
     "name": "stdout",
     "output_type": "stream",
     "text": [
      "   Nombre  Edad\n",
      "0  Robbie     3\n",
      "1    Figo     9\n",
      "2    Dali    17\n",
      "3  Martha    52\n",
      "4   Jorge    24\n",
      "5    Lisa    36\n"
     ]
    }
   ],
   "source": [
    "\n",
    "def ex1_concat_same_structure():\n",
    "    \"\"\"Ejercicio 1:\n",
    "    Crea dos DataFrame que compartan la misma estructura de columnas (por ejemplo,\n",
    "    'Nombre' y 'Edad'), con al menos 3 filas cada uno. Concaténalos verticalmente\n",
    "    en un único DataFrame. Retorna el DataFrame resultante.\n",
    "    \"\"\"\n",
    "    #DataFrames con la misma estructura\n",
    "    df1 = pd.DataFrame({\n",
    "        'Nombre': ['Robbie', 'Figo', 'Dali'],\n",
    "        'Edad': [3, 9, 17]\n",
    "    })\n",
    "\n",
    "    df2 = pd.DataFrame({\n",
    "        'Nombre': ['Martha', 'Jorge', 'Lisa'],\n",
    "        'Edad': [52, 24, 36]\n",
    "    })\n",
    "\n",
    "    # Concatenar los DataFrames verticalmente \n",
    "    df_result = pd.concat([df1, df2], ignore_index=True)\n",
    "\n",
    "    return df_result\n",
    "\n",
    "print(ex1_concat_same_structure())"
   ]
  },
  {
   "cell_type": "code",
   "execution_count": 18,
   "id": "cabcfbfd-735b-4ce2-adf2-e60096897d63",
   "metadata": {},
   "outputs": [
    {
     "name": "stdout",
     "output_type": "stream",
     "text": [
      "         Producto  Ventas      Mes\n",
      "0    Pay de limón     220    Enero\n",
      "1  Pay de manzana     147    Enero\n",
      "2    Pay de fresa     193    Enero\n",
      "3    Pay de limón     199  Febrero\n",
      "4  Pay de manzana     178  Febrero\n",
      "5    Pay de fresa     111  Febrero\n"
     ]
    }
   ],
   "source": [
    "def ex2_concat_with_month_column():\n",
    "    \"\"\"Ejercicio 2:\n",
    "    Tienes un DataFrame con ventas de enero y otro con ventas de febrero (mismas columnas).\n",
    "    Concaténalos en un solo DataFrame y añade una columna que indique el mes original\n",
    "    de cada fila (por ejemplo: 'Enero' o 'Febrero'). Retorna el DataFrame resultante.\n",
    "    \"\"\"\n",
    "\n",
    "    #DataFrame ventas de enero\n",
    "    enero = pd.DataFrame({\n",
    "        'Producto': ['Pay de limón', 'Pay de manzana', 'Pay de fresa'],\n",
    "        'Ventas': [220, 147, 193]\n",
    "    })\n",
    "    enero['Mes'] = 'Enero'  # Agregar columna con el nombre del mes\n",
    "\n",
    "    #DataFrame ventas de febrero\n",
    "    febrero = pd.DataFrame({\n",
    "        'Producto': ['Pay de limón', 'Pay de manzana', 'Pay de fresa'],\n",
    "        'Ventas': [199, 178, 111]\n",
    "    })\n",
    "    febrero['Mes'] = 'Febrero'\n",
    "\n",
    "    # Concatenar los DataFrames\n",
    "    df_total = pd.concat([enero, febrero], ignore_index=True)\n",
    "    return df_total\n",
    "\n",
    "print(ex2_concat_with_month_column())"
   ]
  },
  {
   "cell_type": "code",
   "execution_count": 19,
   "id": "1b41a6d3-16cd-4865-94be-e383c3c6de74",
   "metadata": {},
   "outputs": [
    {
     "name": "stdout",
     "output_type": "stream",
     "text": [
      "  Neurona  Potencial generado(mv)  Posición en el grafo\n",
      "0       A                    69.0                   0.0\n",
      "1       B                    34.0                   0.0\n",
      "2       C                    91.0                   0.0\n",
      "3       D                     0.0                  13.0\n",
      "4       E                     0.0                  15.0\n",
      "5       F                     0.0                  16.0\n"
     ]
    }
   ],
   "source": [
    "def ex3_concat_diff_columns_fillna():\n",
    "    \"\"\"Ejercicio 3:\n",
    "    Crea dos DataFrame que no tengan exactamente las mismas columnas (ej.: uno tiene\n",
    "    'Producto' y 'Ventas', el otro 'Producto' y 'Descuento'). Concaténalos y asegura\n",
    "    que los valores faltantes queden rellenados con 0. Retorna el DataFrame resultante.\n",
    "    \"\"\"\n",
    "\n",
    "    # Primer DataFrame \n",
    "    df1 = pd.DataFrame({\n",
    "        'Neurona': ['A', 'B', 'C'],\n",
    "        'Potencial generado(mv)': [69, 34, 91]\n",
    "    })\n",
    "\n",
    "    # Segundo DataFrame\n",
    "    df2 = pd.DataFrame({\n",
    "        'Neurona': ['D', 'E', 'F'],\n",
    "        'Posición en el grafo': [13, 15, 16]\n",
    "    })\n",
    "\n",
    "    # Concatenar las columnas\n",
    "    df_concat = pd.concat([df1, df2], ignore_index=True)\n",
    "\n",
    "    # Rellenar valores faltantes con 0\n",
    "    df_concat = df_concat.fillna(0)\n",
    "\n",
    "    return df_concat\n",
    "\n",
    "print(ex3_concat_diff_columns_fillna())"
   ]
  },
  {
   "cell_type": "code",
   "execution_count": 20,
   "id": "06a25ea0-2609-4634-8387-31b31bcd0133",
   "metadata": {},
   "outputs": [
    {
     "name": "stdout",
     "output_type": "stream",
     "text": [
      "     Alumno  Nota Grupo\n",
      "0       Ana   8.5     A\n",
      "1    Montse   9.0     A\n",
      "2     Sandy   7.5     A\n",
      "3    Javier   9.2     B\n",
      "4   Rolando   8.0     B\n",
      "5   Rodrigo   7.8     B\n",
      "6  Macarena   6.5     C\n",
      "7     Sofía   8.3     C\n",
      "8     María   9.1     C\n"
     ]
    }
   ],
   "source": [
    "def ex4_concat_three_groups():\n",
    "    \"\"\"Ejercicio 4:\n",
    "    Genera tres DataFrame pequeños (cada uno con, por ejemplo, 3 filas) que representen\n",
    "    notas de distintos grupos de alumnos. Concaténalos verticalmente en un solo DataFrame\n",
    "    que contenga todas las notas. Retorna el DataFrame resultante.\n",
    "    \"\"\"\n",
    "\n",
    "    # Grupo A\n",
    "    grupo_a = pd.DataFrame({\n",
    "        'Alumno': ['Ana', 'Montse', 'Sandy'],\n",
    "        'Nota': [8.5, 9.0, 7.5],\n",
    "        'Grupo': 'A'\n",
    "    })\n",
    "\n",
    "    # Grupo B\n",
    "    grupo_b = pd.DataFrame({\n",
    "        'Alumno': ['Javier', 'Rolando', 'Rodrigo'],\n",
    "        'Nota': [9.2, 8.0, 7.8],\n",
    "        'Grupo': 'B'\n",
    "    })\n",
    "\n",
    "    # Grupo C\n",
    "    grupo_c = pd.DataFrame({\n",
    "        'Alumno': ['Macarena', 'Sofía', 'María'],\n",
    "        'Nota': [6.5, 8.3, 9.1],\n",
    "        'Grupo': 'C'\n",
    "    })\n",
    "\n",
    "    # Concatenar los tres DataFrames\n",
    "    df_total = pd.concat([grupo_a, grupo_b, grupo_c], ignore_index=True)\n",
    "\n",
    "    return df_total\n",
    "print(ex4_concat_three_groups())"
   ]
  },
  {
   "cell_type": "code",
   "execution_count": 21,
   "id": "7c6fd79b-f2bd-4c6d-9a84-fe83f438ae0f",
   "metadata": {},
   "outputs": [],
   "source": [
    "# 5-8: Listas"
   ]
  },
  {
   "cell_type": "code",
   "execution_count": 22,
   "id": "193c733d-da32-423b-afb1-cad06c539765",
   "metadata": {},
   "outputs": [
    {
     "name": "stdout",
     "output_type": "stream",
     "text": [
      "[1, 2, 3, 4, 5]\n",
      "['a', 'b', 'c', 'f', 'g']\n"
     ]
    }
   ],
   "source": [
    "def ex5_remove_duplicates_preserve_order(lst):\n",
    "    \"\"\"Ejercicio 5:\n",
    "    Dada una lista de enteros (o strings) que puede contener duplicados, devuelve una\n",
    "    nueva lista sin duplicados preservando el orden original. No uses directamente set()\n",
    "    para eliminar duplicados (escribe la lógica que preserve el orden). Retorna la nueva \n",
    "    lista sin duplicados.\n",
    "    \"\"\"\n",
    "\n",
    "    seen = []         \n",
    "    result = []       \n",
    "\n",
    "    for item in lst:\n",
    "        if item not in seen:   \n",
    "            seen.append(item)\n",
    "            result.append(item)\n",
    "\n",
    "    return result\n",
    "\n",
    "print(ex5_remove_duplicates_preserve_order([1, 2, 3, 2, 1, 4, 5, 3, 2]))\n",
    "print(ex5_remove_duplicates_preserve_order(['a', 'b', 'a', 'c', 'b','f','g','a',]))"
   ]
  },
  {
   "cell_type": "code",
   "execution_count": 23,
   "id": "da78c19e-a696-4976-b95e-a2c79c38c916",
   "metadata": {},
   "outputs": [
    {
     "name": "stdout",
     "output_type": "stream",
     "text": [
      "[('verde', 39), ('café', 187), ('rosa', 200)]\n"
     ]
    }
   ],
   "source": [
    "def ex6_sort_tuples_by_second_element(tuples_list):\n",
    "    \"\"\"Ejercicio 6:\n",
    "    Dada una lista de tuplas, por ejemplo [(\"a\", 3), (\"b\", 1), (\"c\", 2)], ordénala\n",
    "    por el segundo elemento de cada tupla y devuelve la lista ordenada. Usa una función\n",
    "    anónima si lo deseas. Retorna la lista ordenada.\n",
    "    \"\"\"\n",
    "\n",
    "    sorted_list = sorted(tuples_list, key=lambda x: x[1])\n",
    "\n",
    "    return sorted_list\n",
    "print(ex6_sort_tuples_by_second_element([(\"rosa\", 200), (\"verde\", 39), (\"café\", 187)]))"
   ]
  },
  {
   "cell_type": "code",
   "execution_count": 24,
   "id": "daf95e60-1701-4fab-82ae-9aa0257f6e9f",
   "metadata": {},
   "outputs": [
    {
     "name": "stdout",
     "output_type": "stream",
     "text": [
      "[7, 14, 21, 28, 35, 42, 49, 56, 63, 70, 77, 84, 91, 98, 105, 112, 119, 126, 133, 140, 147, 154, 161, 168, 175, 182, 189, 196, 203, 210, 217, 224, 231, 238, 245, 252, 259, 266, 273, 280, 287, 294, 301, 308, 315, 322, 329, 336, 343, 350, 357, 364, 371, 378, 385, 392, 399, 406, 413, 420, 427, 434, 441, 448, 455, 462, 469, 476, 483, 490, 497, 504, 511, 518, 525, 532, 539, 546, 553, 560, 567, 574, 581, 588, 595, 602, 609, 616, 623, 630, 637, 644, 651, 658, 665, 672, 679, 686, 693, 700]\n"
     ]
    }
   ],
   "source": [
    "def ex7_first_n_multiples_of_7(n):\n",
    "    \"\"\"Ejercicio 7:\n",
    "    Devuelve una lista con los primeros n múltiplos de 7 (por ejemplo, n=5 -> [7,14,21,28,35]).\n",
    "    Retorna la lista generada.\n",
    "    \"\"\"\n",
    "    return [7 * i for i in range(1, n + 1)]\n",
    "print(ex7_first_n_multiples_of_7(100))\n"
   ]
  },
  {
   "cell_type": "code",
   "execution_count": 25,
   "id": "7b6fb355-0e7e-4e32-a957-f115234140d3",
   "metadata": {},
   "outputs": [
    {
     "name": "stdout",
     "output_type": "stream",
     "text": [
      "['reconocer', 'anilina', 'oso', 'radar', 'La ruta natural']\n"
     ]
    }
   ],
   "source": [
    "def ex8_filter_palindromes(strings):\n",
    "    \"\"\"Ejercicio 8:\n",
    "    Dada una lista de cadenas, devuelve sólo aquellas que son palíndromos (se leen igual\n",
    "    al derecho y al revés). Retorna una lista con los palíndromos encontrados.\n",
    "    \"\"\"\n",
    "    palindromos = []\n",
    "    for s in strings:\n",
    "        s_clean = ''.join(s.lower().split())  \n",
    "        if s_clean == s_clean[::-1]:\n",
    "            palindromos.append(s)\n",
    "    return palindromos\n",
    "\n",
    "lista = [\"reconocer\",\"anilina\",\"sol\",\"oso\",\"python\",\"radar\",\"La ruta natural\",\"No es un palíndromo\"]\n",
    "print(ex8_filter_palindromes(lista))"
   ]
  },
  {
   "cell_type": "code",
   "execution_count": 26,
   "id": "1d4705e1-1564-4b66-8f2d-b1bfa9f3411c",
   "metadata": {},
   "outputs": [],
   "source": [
    "# 9-12: Conjuntos"
   ]
  },
  {
   "cell_type": "code",
   "execution_count": 27,
   "id": "fa4203dc-45fc-4823-ba06-5ae9f37d1599",
   "metadata": {},
   "outputs": [
    {
     "name": "stdout",
     "output_type": "stream",
     "text": [
      "Intersección: {3, 4}\n",
      "Diferencia: {1, 2}\n"
     ]
    }
   ],
   "source": [
    "def ex9_set_intersection_and_difference(set_a, set_b):\n",
    "    \"\"\"Ejercicio 9:\n",
    "    Dado dos conjuntos, devuelve su intersección y la diferencia (elementos de A que no\n",
    "    están en B). Retorna una tupla (intersección, diferencia).\n",
    "    \"\"\"\n",
    "    interseccion = set_a & set_b         \n",
    "    diferencia = set_a - set_b          \n",
    "    return (interseccion, diferencia)\n",
    "a = {1, 2, 3, 4}\n",
    "b = {3, 4, 5, 6}\n",
    "\n",
    "inter, diff = ex9_set_intersection_and_difference(a, b)\n",
    "print(\"Intersección:\", inter)\n",
    "print(\"Diferencia:\", diff)\n"
   ]
  },
  {
   "cell_type": "code",
   "execution_count": 28,
   "id": "1a39233b-4fd4-422f-8308-25ce504cbd4c",
   "metadata": {},
   "outputs": [
    {
     "name": "stdout",
     "output_type": "stream",
     "text": [
      "False\n"
     ]
    }
   ],
   "source": [
    "def ex10_is_subset(set_a, set_b):\n",
    "    \"\"\"Ejercicio 10:\n",
    "    Verifica si set_a es subconjunto de set_b. Devuelve True o False.\n",
    "    \"\"\"\n",
    "    return set_a.issubset(set_b)\n",
    "print(ex10_is_subset(a, b)) "
   ]
  },
  {
   "cell_type": "code",
   "execution_count": 29,
   "id": "e3ff96d6-d97b-4a0a-aa4c-f247b60e8316",
   "metadata": {},
   "outputs": [
    {
     "name": "stdout",
     "output_type": "stream",
     "text": [
      "9\n"
     ]
    }
   ],
   "source": [
    "def ex11_count_unique_elements(lst):\n",
    "    \"\"\"Ejercicio 11:\n",
    "    Dada una lista, cuenta cuántos elementos únicos contiene (usa set para obtener el conteo).\n",
    "    Retorna el número de elementos únicos.\n",
    "    \"\"\"\n",
    "    return len(set(lst))\n",
    "lista = [1,2,2,3,4,4,4,5,6,7,8,9,2]\n",
    "print(ex11_count_unique_elements(lista))"
   ]
  },
  {
   "cell_type": "code",
   "execution_count": 30,
   "id": "273c19a9-8bf0-4fcb-9708-9a4f4b0a3465",
   "metadata": {},
   "outputs": [
    {
     "name": "stdout",
     "output_type": "stream",
     "text": [
      "{'Mi', 'dijo', 'ver', 'Amo', 'amo', 'no', 'me', 'El', 'puede', 'perro'}\n"
     ]
    }
   ],
   "source": [
    "from collections import Counter\n",
    "def ex12_unique_words_from_phrases(phrases):\n",
    "    \"\"\"Ejercicio 12:\n",
    "    Dada una lista de frases (strings), extrae y devuelve el conjunto de todas las palabras\n",
    "    únicas que aparecen en todas las frases. Retorna un conjunto con las palabras únicas.\n",
    "    \"\"\"\n",
    "    \n",
    "    # Dividir todas las frases en palabras y aplanar en una sola lista\n",
    "    all_words = []\n",
    "    for phrase in phrases:\n",
    "        all_words.extend(phrase.split())\n",
    "    \n",
    "    # Contar cuántas veces aparece cada palabra\n",
    "    word_counts = Counter(all_words)\n",
    "    \n",
    "    # Seleccionar solo las palabras que aparecen exactamente una vez\n",
    "    unique_words = {word for word, count in word_counts.items() if count == 1}\n",
    "    \n",
    "    return unique_words\n",
    "\n",
    "frases = [\n",
    "    \"Amo el verde\",\n",
    "    \"El me dijo amo el verde\",\n",
    "    \"Mi perro no puede ver el verde\"\n",
    "]\n",
    "\n",
    "print(ex12_unique_words_from_phrases(frases))\n"
   ]
  },
  {
   "cell_type": "code",
   "execution_count": 31,
   "id": "d324b820-dacb-4e2e-9882-aac4f4cfa7a6",
   "metadata": {},
   "outputs": [],
   "source": [
    "# 13-16: Tuplas"
   ]
  },
  {
   "cell_type": "code",
   "execution_count": 32,
   "id": "fb81245d-cec5-4f28-8df8-a854c2b1222f",
   "metadata": {},
   "outputs": [
    {
     "name": "stdout",
     "output_type": "stream",
     "text": [
      "('Oscar', 46)\n"
     ]
    }
   ],
   "source": [
    "def ex13_oldest_person(tuple_list):\n",
    "    \"\"\"Ejercicio 13:\n",
    "    Recibe una lista de tuplas (nombre, edad). Devuelve la tupla de la persona con mayor edad.\n",
    "    \"\"\"\n",
    "    return max(tuple_list, key=lambda x: x[1])\n",
    "personas = [(\"Oscar\", 46), (\"Luis\", 30), (\"Ximena\", 28)]\n",
    "print(ex13_oldest_person(personas))\n"
   ]
  },
  {
   "cell_type": "code",
   "execution_count": 33,
   "id": "95b83dd5-fe41-4f2b-bc2a-c43ab7ba41c6",
   "metadata": {},
   "outputs": [
    {
     "name": "stdout",
     "output_type": "stream",
     "text": [
      "[(1, 2), (70, 56), (62, 24)]\n"
     ]
    }
   ],
   "source": [
    "def ex14_convert_list_of_lists_to_tuples(list_of_lists):\n",
    "    \"\"\"Ejercicio 14:\n",
    "    Convierte una lista de listas en una lista de tuplas. Retorna la nueva lista de tuplas.\n",
    "    \"\"\"\n",
    "    return [tuple(sublist) for sublist in list_of_lists]\n",
    "lista= [[1, 2], [70, 56], [62,24]]\n",
    "print(ex14_convert_list_of_lists_to_tuples(lista))\n"
   ]
  },
  {
   "cell_type": "code",
   "execution_count": 34,
   "id": "7b8bbf64-33a5-426f-a2bb-91127c40da6f",
   "metadata": {},
   "outputs": [
    {
     "name": "stdout",
     "output_type": "stream",
     "text": [
      "261\n"
     ]
    }
   ],
   "source": [
    "def ex15_sum_of_tuple_abc(t):\n",
    "    \"\"\"Ejercicio 15:\n",
    "    Recibe una tupla de tres números (a, b, c). Desempaquétala y devuelve la suma a+b+c. \n",
    "    Retorna un número entero o flotante.\n",
    "    \"\"\"\n",
    "    a, b, c = t\n",
    "    return a + b + c\n",
    "print(ex15_sum_of_tuple_abc((57, 97, 107)))\n"
   ]
  },
  {
   "cell_type": "code",
   "execution_count": 35,
   "id": "fbf91ce4-bb83-450f-91f1-d09933219d12",
   "metadata": {},
   "outputs": [
    {
     "name": "stdout",
     "output_type": "stream",
     "text": [
      "[('Pan', 10), ('Chocolate', 33), ('Sopa', 42), ('Jugo', 45)]\n"
     ]
    }
   ],
   "source": [
    "def ex16_sort_product_price(prod_price_list):\n",
    "    \"\"\"Ejercicio 16:\n",
    "    Dada una lista de tuplas (producto, precio), ordénala por precio de menor a mayor.\n",
    "    Retorna la lista ordenada.\n",
    "    \"\"\"\n",
    "    return sorted(prod_price_list, key=lambda x: x[1])\n",
    "productos = [(\"Pan\", 10), (\"Jugo\", 45), (\"Chocolate\", 33),(\"Sopa\",42)]\n",
    "print(ex16_sort_product_price(productos))\n"
   ]
  },
  {
   "cell_type": "code",
   "execution_count": 36,
   "id": "e8ef32e2-2596-4a7c-ac7b-06f3a97133b9",
   "metadata": {},
   "outputs": [],
   "source": [
    "# 17-20: Diccionarios"
   ]
  },
  {
   "cell_type": "code",
   "execution_count": 37,
   "id": "4067d258-6add-4bcc-90c2-08190e3e900d",
   "metadata": {},
   "outputs": [
    {
     "name": "stdout",
     "output_type": "stream",
     "text": [
      "{'p': 1, 'a': 4, 'r': 4, 'n': 1, 'g': 1, 'i': 4, 'c': 2, 'u': 2, 't': 1, 'm': 1, 'o': 1}\n"
     ]
    }
   ],
   "source": [
    "def ex17_char_frequency(s):\n",
    "    \"\"\"Ejercicio 17:\n",
    "    Cuenta la frecuencia de cada carácter en una cadena usando un diccionario.\n",
    "    Retorna un diccionario {carácter: frecuencia}.\n",
    "    \"\"\"\n",
    "    freq = {}\n",
    "    for char in s:\n",
    "        if char in freq:\n",
    "            freq[char] += 1\n",
    "        else:\n",
    "            freq[char] = 1\n",
    "    return freq\n",
    "print(ex17_char_frequency(\"parangaricutirimicuaro\"))\n"
   ]
  },
  {
   "cell_type": "code",
   "execution_count": 38,
   "id": "4b001f98-d15b-4ecf-ade6-aa1f2edbb597",
   "metadata": {},
   "outputs": [
    {
     "name": "stdout",
     "output_type": "stream",
     "text": [
      "('Marie', 92)\n"
     ]
    }
   ],
   "source": [
    "def ex18_best_student(grades_dict):\n",
    "    \"\"\"Ejercicio 18:\n",
    "    Dado un diccionario {alumno: calificación}, devuelve al mejor estudiante.\n",
    "    Retorna una tupla (nombre, calificación).\n",
    "    \"\"\"\n",
    "    best = max(grades_dict.items(), key=lambda x: x[1])\n",
    "    return best\n",
    "notas = {\"Monica\": 85, \"Marie\": 92, \"Oswaldo\": 88}\n",
    "print(ex18_best_student(notas))\n"
   ]
  },
  {
   "cell_type": "code",
   "execution_count": 39,
   "id": "333f2451-ddcb-441c-82b7-63614d8e99ef",
   "metadata": {},
   "outputs": [
    {
     "name": "stdout",
     "output_type": "stream",
     "text": [
      "{1: 'neurona', 2: 'astrocito', 3: 'glia', 4: 'BHE'}\n"
     ]
    }
   ],
   "source": [
    "def ex19_invert_dictionary(d):\n",
    "    \"\"\"Ejercicio 19:\n",
    "    Invierte un diccionario, intercambiando claves y valores.\n",
    "    Retorna el diccionario invertido.\n",
    "    \"\"\"\n",
    "    return {value: key for key, value in d.items()}\n",
    "dic = {\"neurona\": 1, \"astrocito\": 2, \"glia\": 3,\"BHE\": 4}\n",
    "print(ex19_invert_dictionary(dic))\n"
   ]
  },
  {
   "cell_type": "code",
   "execution_count": 40,
   "id": "7c5e528f-0694-4ae5-a344-09afb9c50e0b",
   "metadata": {},
   "outputs": [
    {
     "name": "stdout",
     "output_type": "stream",
     "text": [
      "{'a': 6, 'b': 62, 'c': 82, 'd': 29}\n"
     ]
    }
   ],
   "source": [
    "def ex20_merge_dicts_sum_values(d1, d2):\n",
    "    \"\"\"Ejercicio 20:\n",
    "    Fusiona dos diccionarios sumando los valores de las claves que se repitan. \n",
    "    Devuelve el diccionario resultante.\n",
    "    \"\"\"\n",
    "    merged = d1.copy()  \n",
    "    for key, value in d2.items():\n",
    "        merged[key] = merged.get(key, 0) + value\n",
    "    return merged\n",
    "d1 = {\"a\": 6, \"b\": 41, \"c\": 55}\n",
    "d2 = {\"b\": 21, \"c\": 27, \"d\": 29}\n",
    "print(ex20_merge_dicts_sum_values(d1, d2))"
   ]
  },
  {
   "cell_type": "code",
   "execution_count": 41,
   "id": "a0a8a2b9-4b25-4569-ab1e-dfaa6f26789a",
   "metadata": {},
   "outputs": [],
   "source": [
    "# 21-24: NumPy"
   ]
  },
  {
   "cell_type": "code",
   "execution_count": 42,
   "id": "8dcacdfe-3696-4174-b4e7-270722c5a761",
   "metadata": {},
   "outputs": [
    {
     "name": "stdout",
     "output_type": "stream",
     "text": [
      "[0 0 0 0 1 0 0 0 0 0]\n"
     ]
    }
   ],
   "source": [
    "def ex21_numpy_array_set_fifth():\n",
    "    \"\"\"Ejercicio 21:\n",
    "    Crea un arreglo de NumPy de 10 ceros y cambia el quinto elemento (índice 4) a 1.\n",
    "    Retorna el array resultante.\n",
    "    \"\"\"\n",
    "    arr = np.zeros(10, dtype=int)\n",
    "    arr[4] = 1\n",
    "    return arr\n",
    "print(ex21_numpy_array_set_fifth())"
   ]
  },
  {
   "cell_type": "code",
   "execution_count": 43,
   "id": "e79be82b-7435-4587-8254-0cd97fbbaf5a",
   "metadata": {},
   "outputs": [
    {
     "name": "stdout",
     "output_type": "stream",
     "text": [
      "[[0 1 2]\n",
      " [3 4 5]\n",
      " [6 7 8]]\n"
     ]
    }
   ],
   "source": [
    "def ex22_numpy_matrix_3x3():\n",
    "    \"\"\"Ejercicio 22:\n",
    "    Genera una matriz 3x3 con los valores del 0 al 8. \n",
    "    Retorna la matriz como array de NumPy.\n",
    "    \"\"\"\n",
    "    return np.arange(9).reshape(3, 3)\n",
    "print(ex22_numpy_matrix_3x3())"
   ]
  },
  {
   "cell_type": "code",
   "execution_count": 44,
   "id": "9d10b9c6-a0b7-467d-8b9f-e53a9d0a7f22",
   "metadata": {},
   "outputs": [
    {
     "name": "stdout",
     "output_type": "stream",
     "text": [
      "(np.float64(55.7), np.float64(58.0), np.float64(32.15758075477694))\n"
     ]
    }
   ],
   "source": [
    "def ex23_numpy_statistics():\n",
    "    \"\"\"Ejercicio 23:\n",
    "    Genera un array aleatorio de 20 enteros y calcula la media, mediana y desviación estándar.\n",
    "    Retorna una tupla (media, mediana, desviación estándar).\n",
    "    \"\"\"\n",
    "    array = np.random.randint(0, 100, size=20)  \n",
    "    media = np.mean(array)\n",
    "    mediana = np.median(array)\n",
    "    desviacion = np.std(array)\n",
    "    return (media, mediana, desviacion)\n",
    "print(ex23_numpy_statistics())"
   ]
  },
  {
   "cell_type": "code",
   "execution_count": 46,
   "id": "3b2244b0-7292-48dc-ac1b-c494844d0c28",
   "metadata": {},
   "outputs": [
    {
     "name": "stdout",
     "output_type": "stream",
     "text": [
      "[ 5 10  8 10  3 10 10 10  1  3]\n"
     ]
    }
   ],
   "source": [
    "def ex24_numpy_clip_values(arr):\n",
    "    \"\"\"Ejercicio 24:\n",
    "    Dado un array (o lista) de números, reemplaza todos los valores mayores que 10 por 10\n",
    "    (es decir, limita/\"clip\" los valores máximos).\n",
    "    Retorna el array modificado.\n",
    "    \"\"\"\n",
    "    arr_np = np.array(arr) \n",
    "    return np.clip(arr_np, a_min=None, a_max=10)\n",
    "print(ex24_numpy_clip_values([5, 12, 8, 15, 3, 108, 206, 13, 1, 3]))\n"
   ]
  },
  {
   "cell_type": "code",
   "execution_count": 47,
   "id": "7a348781-2f55-4c2b-b549-859ee513e813",
   "metadata": {},
   "outputs": [],
   "source": [
    "# 25-28: Pandas (otros)"
   ]
  },
  {
   "cell_type": "code",
   "execution_count": 49,
   "id": "1457b58c-e9d6-45a6-bba4-ab8b5de33b03",
   "metadata": {},
   "outputs": [
    {
     "name": "stdout",
     "output_type": "stream",
     "text": [
      "    Nombre  Edad       Ciudad\n",
      "0    Oscar    32         CDMX\n",
      "1  Oswaldo    35  Guadalajara\n",
      "3   Nolwen    40       Puebla\n",
      "4    Sofía    56       Cancún\n"
     ]
    }
   ],
   "source": [
    "def ex25_filter_rows_age_over_30():\n",
    "    \"\"\"Ejercicio 25:\n",
    "    Crea un DataFrame con columnas 'Nombre', 'Edad' y 'Ciudad'.\n",
    "    Filtra y retorna solo las filas con `Edad` > 30.\n",
    "    \"\"\"\n",
    "    dataframe = {\n",
    "        'Nombre': ['Oscar', 'Oswaldo', 'Nicole', 'Nolwen', 'Sofía'],\n",
    "        'Edad': [32, 35, 28, 40, 56],\n",
    "        'Ciudad': ['CDMX', 'Guadalajara', 'Monterrey', 'Puebla', 'Cancún']\n",
    "    }\n",
    "    \n",
    "    df = pd.DataFrame(dataframe)\n",
    "    df_filtrado = df[df['Edad'] > 30]\n",
    "    \n",
    "    return df_filtrado\n",
    "print(ex25_filter_rows_age_over_30())"
   ]
  },
  {
   "cell_type": "code",
   "execution_count": 50,
   "id": "0d6ca3b4-3d8f-4602-b190-3871aebc33e0",
   "metadata": {},
   "outputs": [
    {
     "name": "stdout",
     "output_type": "stream",
     "text": [
      "   Nombre  Puntaje\n",
      "1   Jisoo       99\n",
      "4    Lisa       95\n",
      "3  Jennie       89\n",
      "2    Rose       88\n",
      "0    Lili       85\n"
     ]
    }
   ],
   "source": [
    "def ex26_load_dict_into_dataframe_and_sort():\n",
    "    \"\"\"Ejercicio 26:\n",
    "    Carga un diccionario en un DataFrame (por ejemplo {'Nombre': [...], 'Puntaje': [...]})\n",
    "    y ordénalo por la columna de puntaje de mayor a menor.\n",
    "    Retorna el DataFrame ordenado.\n",
    "    \"\"\"\n",
    "    # Diccionario \n",
    "    data = {\n",
    "        'Nombre': ['Lili', 'Jisoo', 'Rose', 'Jennie', 'Lisa'],\n",
    "        'Puntaje': [85, 99, 88, 89, 95]\n",
    "    }\n",
    "    \n",
    "    df = pd.DataFrame(data)\n",
    " # Ordenamos por la columna 'Puntaje' de mayor a menor\n",
    "    df_ordenado = df.sort_values(by='Puntaje', ascending=False)\n",
    "    \n",
    "    return df_ordenado\n",
    "print(ex26_load_dict_into_dataframe_and_sort())"
   ]
  },
  {
   "cell_type": "code",
   "execution_count": 51,
   "id": "308a627f-18a5-4e51-b930-e30566f2b085",
   "metadata": {},
   "outputs": [
    {
     "name": "stdout",
     "output_type": "stream",
     "text": [
      "  Grupo  Valor\n",
      "0     A   20.0\n",
      "1     B   30.0\n",
      "2     C   55.0\n"
     ]
    }
   ],
   "source": [
    "def ex27_groupby_mean_value():\n",
    "    \"\"\"Ejercicio 27:\n",
    "    Dado un DataFrame con columnas 'Grupo' y 'Valor', calcula el promedio de 'Valor'\n",
    "    por cada 'Grupo' usando groupby. \n",
    "    Retorna el DataFrame agrupado con promedios.\n",
    "    \"\"\"\n",
    "    data = {\n",
    "        'Grupo': ['A', 'B', 'A', 'B', 'C', 'A', 'C'],\n",
    "        'Valor': [10, 20, 30, 40, 50, 20, 60]\n",
    "    }\n",
    "    \n",
    "    df = pd.DataFrame(data)\n",
    "    \n",
    "    # Agrupar por Grupo y calcular la media\n",
    "    df_grouped = df.groupby('Grupo', as_index=False)['Valor'].mean()\n",
    "    \n",
    "    return df_grouped\n",
    "print(ex27_groupby_mean_value())"
   ]
  },
  {
   "cell_type": "code",
   "execution_count": 52,
   "id": "e12467b5-953b-4236-a42c-7ab141c41288",
   "metadata": {},
   "outputs": [
    {
     "name": "stdout",
     "output_type": "stream",
     "text": [
      "('Pan', np.int64(35))\n"
     ]
    }
   ],
   "source": [
    "def ex28_most_sold_product_from_sales_df():\n",
    "    \"\"\"Ejercicio 28:\n",
    "    Dado un DataFrame de ventas con columnas 'Producto' y 'Cantidad', determina cuál\n",
    "    es el producto con la mayor suma total de 'Cantidad' (es decir, el más vendido).\n",
    "    Retorna una tupla (Producto, Ventas).\n",
    "    \"\"\"\n",
    "    data = {\n",
    "        'Producto': ['Pan', 'Leche', 'Pan', 'Queso', 'Leche', 'Pan','Queso'],\n",
    "        'Cantidad': [10, 5, 20, 8, 15, 5, 17]\n",
    "    }\n",
    "    \n",
    "    df = pd.DataFrame(data)\n",
    "    \n",
    "    # Agrupar por Producto y sumar las cantidades\n",
    "    total_ventas = df.groupby('Producto')['Cantidad'].sum()\n",
    "    \n",
    "    # Obtener el producto con mayor venta\n",
    "    producto_mas_vendido = total_ventas.idxmax()\n",
    "    cantidad_vendida = total_ventas.max()\n",
    "    \n",
    "    return (producto_mas_vendido, cantidad_vendida)\n",
    "print(ex28_most_sold_product_from_sales_df())"
   ]
  },
  {
   "cell_type": "code",
   "execution_count": 53,
   "id": "f331e9ec-46d8-43d6-bc78-291fbc51acbb",
   "metadata": {},
   "outputs": [],
   "source": [
    "# 29-32: Lambdas y funciones anónimas"
   ]
  },
  {
   "cell_type": "code",
   "execution_count": 54,
   "id": "ece462b8-5dc3-45e8-9cba-6a4c701a72c5",
   "metadata": {},
   "outputs": [
    {
     "name": "stdout",
     "output_type": "stream",
     "text": [
      "[35937, 19683, 54872, 97336]\n"
     ]
    }
   ],
   "source": [
    "def ex29_map_lambda_cube(lst):\n",
    "    \"\"\"Ejercicio 29:\n",
    "    Usa map junto con una función lambda para elevar al cubo cada número en una lista.\n",
    "    Devuelve la lista resultante.\n",
    "    \"\"\"\n",
    "    return list(map(lambda x: x**3, lst))\n",
    "print(ex29_map_lambda_cube([33, 27, 38, 46]))"
   ]
  },
  {
   "cell_type": "code",
   "execution_count": 55,
   "id": "1903cc53-f2a1-43e5-8b0d-9902adb1cae8",
   "metadata": {},
   "outputs": [
    {
     "name": "stdout",
     "output_type": "stream",
     "text": [
      "[28, 32]\n"
     ]
    }
   ],
   "source": [
    "def ex30_filter_lambda_even(lst):\n",
    "    \"\"\"Ejercicio 30:\n",
    "    Usa filter y una lambda para quedarte sólo con los números pares de una lista.\n",
    "    Devuelve la lista filtrada.\n",
    "    \"\"\"\n",
    "    return list(filter(lambda x: x % 2 == 0, lst))\n",
    "print(ex30_filter_lambda_even([17, 28, 32, 41, 53, 69]))\n"
   ]
  },
  {
   "cell_type": "code",
   "execution_count": 56,
   "id": "35156538-2ef5-4f8e-b466-588eaad12692",
   "metadata": {},
   "outputs": [
    {
     "name": "stdout",
     "output_type": "stream",
     "text": [
      "[{'nombre': 'Rolando', 'edad': 22}, {'nombre': 'Lana', 'edad': 40}, {'nombre': 'Melisa', 'edad': 46}]\n"
     ]
    }
   ],
   "source": [
    "def ex31_sort_list_of_dicts_by_key(lst, keyname):\n",
    "    \"\"\"Ejercicio 31:\n",
    "    Dada una lista de diccionarios, ordénala por el valor asociado a 'keyname' usando\n",
    "    sorted con una lambda. Devuelve la lista ordenada.\n",
    "    \"\"\"\n",
    "    return sorted(lst, key=lambda x: x[keyname])\n",
    "lista = [{'nombre': 'Melisa', 'edad': 46},\n",
    "         {'nombre': 'Lana', 'edad': 40},\n",
    "         {'nombre': 'Rolando', 'edad': 22}]\n",
    "\n",
    "print(ex31_sort_list_of_dicts_by_key(lista, 'edad'))"
   ]
  },
  {
   "cell_type": "code",
   "execution_count": 57,
   "id": "4d5df5ad-5ff5-41d6-832a-b7e583f53fb2",
   "metadata": {},
   "outputs": [
    {
     "name": "stdout",
     "output_type": "stream",
     "text": [
      "    Nombre Nombre_Mayus\n",
      "0    Oscar        OSCAR\n",
      "1    Lucia        LUCIA\n",
      "2    Sofia        SOFIA\n",
      "3  Rolando      ROLANDO\n",
      "4   Anette       ANETTE\n",
      "5    Marco        MARCO\n"
     ]
    }
   ],
   "source": [
    "def ex32_pandas_apply_lambda_uppercase(names_list):\n",
    "    \"\"\"Ejercicio 32:\n",
    "    Crea un DataFrame con una columna 'Nombre' a partir de names_list y usa apply con\n",
    "    una función lambda para crear una nueva columna con los nombres en mayúsculas.\n",
    "    Devuelve el DataFrame modificado.\n",
    "    \"\"\"\n",
    "    df = pd.DataFrame({'Nombre': names_list})\n",
    "    df['Nombre_Mayus'] = df['Nombre'].apply(lambda x: x.upper())\n",
    "    return df\n",
    "print(ex32_pandas_apply_lambda_uppercase(['Oscar', 'Lucia', 'Sofia','Rolando','Anette','Marco']))"
   ]
  }
 ],
 "metadata": {
  "kernelspec": {
   "display_name": "Python 3 (ipykernel)",
   "language": "python",
   "name": "python3"
  },
  "language_info": {
   "codemirror_mode": {
    "name": "ipython",
    "version": 3
   },
   "file_extension": ".py",
   "mimetype": "text/x-python",
   "name": "python",
   "nbconvert_exporter": "python",
   "pygments_lexer": "ipython3",
   "version": "3.10.4"
  }
 },
 "nbformat": 4,
 "nbformat_minor": 5
}
