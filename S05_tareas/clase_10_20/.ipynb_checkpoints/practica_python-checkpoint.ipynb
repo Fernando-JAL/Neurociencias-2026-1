{
 "cells": [
  {
   "cell_type": "markdown",
   "id": "3a510ed5-e13f-4d64-b733-e3a75b6034d0",
   "metadata": {},
   "source": [
    "## Ejercios Sandy Patricia Aguilar Reyes"
   ]
  },
  {
   "cell_type": "markdown",
   "id": "d20eb0fb-08f3-412d-80c6-09894d40f1bf",
   "metadata": {},
   "source": [
    "1. Validar contraseña segura\n",
    "Escribe una función es_contraseña_segura(passw) que verifique si una contraseña:\n",
    "\n",
    "Tiene al menos 8 caracteres\n",
    "\n",
    "Incluye mayúsculas, minúsculas, números y un carácter especial (@, #, $, %, &, etc.)\n",
    "Usa funciones built-in como any(), str.isdigit(), str.isupper(), etc."
   ]
  },
  {
   "cell_type": "code",
   "execution_count": 41,
   "id": "cd8afbfe-0e65-4dae-8504-8cf2daddaca6",
   "metadata": {},
   "outputs": [],
   "source": [
    "def es_contraseña_segura(passw):\n",
    "    especiales = \"@#$%&\"\n",
    "    \n",
    "    if len(passw) < 8:\n",
    "        return \"Contraseña muy corta, debe tener al menos 8 caracteres\"\n",
    "       \n",
    "    elif not any(c.islower() for c in passw):\n",
    "       return \"Debe incluir al menos una letra minúscula\"\n",
    "       \n",
    "    elif not any(c.isdigit() for c in passw):\n",
    "        return \"Debe incluir al menos un número\"\n",
    "        \n",
    "    elif not any(c in especiales for c in passw):\n",
    "        return \"Debe incluir al menos un caracter especial: {especiales}\"\n",
    "        \n",
    "    else:\n",
    "        return \"Contraseña segura \"\n"
   ]
  },
  {
   "cell_type": "code",
   "execution_count": 40,
   "id": "f0ca4668-d737-46af-9a72-5f20afdbf0ed",
   "metadata": {},
   "outputs": [
    {
     "name": "stdout",
     "output_type": "stream",
     "text": [
      "Debe incluir al menos un carácter especial: @#$%&\n"
     ]
    }
   ],
   "source": [
    "print(es_contraseña_segura(\"macaco123\"))"
   ]
  },
  {
   "cell_type": "markdown",
   "id": "b49f0cec-5dbe-48e6-bb10-fdbda187eb4a",
   "metadata": {},
   "source": [
    "2. Palabra más larga en una frase\n",
    "\n",
    "Define palabra_mas_larga(frase) que encuentre la palabra con más caracteres dentro de un texto."
   ]
  },
  {
   "cell_type": "code",
   "execution_count": 52,
   "id": "4f3a9628-7f8f-45a7-8a73-26bde72b234c",
   "metadata": {},
   "outputs": [],
   "source": [
    "def palabra_mas_larga(frase):\n",
    "    palabras = frase.split()  \n",
    "\n",
    "    palabra_larga = palabras[0]  \n",
    "    \n",
    "    for palabra in palabras:\n",
    "        if len(palabra) > len(palabra_larga):\n",
    "            palabra_larga = palabra  \n",
    "    return palabra_larga"
   ]
  },
  {
   "cell_type": "code",
   "execution_count": 51,
   "id": "a2a51f2b-8908-4817-8d70-2a2f1adc3530",
   "metadata": {},
   "outputs": [
    {
     "name": "stdout",
     "output_type": "stream",
     "text": [
      "conectividad\n"
     ]
    }
   ],
   "source": [
    "print(palabra_mas_larga(\"conectividad funcional vs conectividad estructural\"))"
   ]
  },
  {
   "cell_type": "markdown",
   "id": "ac94284c-c72e-414c-9332-a5a1e3299ac8",
   "metadata": {},
   "source": [
    "3. Simulador de calculadora básica\n",
    "Crea una función calculadora(a, b, operador) donde operador puede ser \"+\", \"-\", \"*\", \"/\".\n",
    "Usa if/elif para decidir la operación"
   ]
  },
  {
   "cell_type": "code",
   "execution_count": 85,
   "id": "40be43a5-77c8-470b-8908-fa22bb64f453",
   "metadata": {},
   "outputs": [],
   "source": [
    "def calculadora():\n",
    "    a = float(input(\"Ingresa el primer número: \"))\n",
    "    b = float(input(\"Ingresa el sengundo número: \"))\n",
    "    \n",
    "    operador = input(\"'+' sumar, '-' restar, '*' multiplicar o '/' dividir: \")\n",
    "\n",
    "    if operador == \"+\":\n",
    "        resultado = a + b \n",
    "        \n",
    "    elif operador == \"-\":\n",
    "        resultado = a - b\n",
    "        \n",
    "    else:\n",
    "        print(\"Operación no válida\")\n",
    "        return\n",
    "    print(\"El resultado es:\", resultado)"
   ]
  },
  {
   "cell_type": "code",
   "execution_count": 91,
   "id": "9d596797-9b73-4eb4-9818-4fbc87721452",
   "metadata": {},
   "outputs": [
    {
     "name": "stdin",
     "output_type": "stream",
     "text": [
      "Ingresa el primer número:  4\n",
      "Ingresa el sengundo número:  0\n",
      "'+' sumar, '-' restar, '*' multiplicar o '/' dividir:  \n"
     ]
    },
    {
     "name": "stdout",
     "output_type": "stream",
     "text": [
      "Operación no válida\n"
     ]
    }
   ],
   "source": [
    "calculadora()"
   ]
  },
  {
   "cell_type": "markdown",
   "id": "3cca8c2f-384c-4e43-a3ee-f93a9ff17489",
   "metadata": {},
   "source": [
    "4. Suma de números impares\n",
    "\n",
    "Dada una lista de enteros, escribe una función que devuelva la suma de todos los números impares.\n",
    "Ejemplo → [1, 2, 3, 4, 5] → 9."
   ]
  },
  {
   "cell_type": "code",
   "execution_count": 81,
   "id": "289d8458-c477-4e1b-8bc4-c7ca174662a9",
   "metadata": {},
   "outputs": [],
   "source": [
    "def suma(lista):\n",
    "    suma = 0 \n",
    "    for numero in lista:\n",
    "        if numero % 2 != 0:  \n",
    "            suma += numero   \n",
    "    return suma\n"
   ]
  },
  {
   "cell_type": "code",
   "execution_count": 83,
   "id": "fa248dfc-6a1c-4225-a070-740e9a30d33f",
   "metadata": {},
   "outputs": [
    {
     "name": "stdout",
     "output_type": "stream",
     "text": [
      "9\n"
     ]
    }
   ],
   "source": [
    "numeros = [1, 2, 3, 4, 5]\n",
    "print(suma(numeros))"
   ]
  },
  {
   "cell_type": "markdown",
   "id": "cb1b695d-545d-4800-b498-e632a8d1110e",
   "metadata": {},
   "source": [
    "5. Palabras que comienzan con vocal\n",
    "\n",
    "Dada una lista de palabras, devuelve una nueva lista solo con las que empiezan con vocal.\n",
    "Ejemplo → [\"oso\", \"perro\", \"agua\", \"luz\"] → [\"oso\", \"agua\"]."
   ]
  },
  {
   "cell_type": "code",
   "execution_count": 86,
   "id": "6ea5a1e2-bd4f-443e-8b60-b6e207519008",
   "metadata": {},
   "outputs": [],
   "source": [
    "def palabras_con_vocal(lista):\n",
    "    resultado = [] \n",
    "    vocales = \"aeiou\"  \n",
    "    \n",
    "    for palabra in lista:\n",
    "        if palabra[0].lower() in vocales: \n",
    "            resultado.append(palabra)    \n",
    "\n",
    "    return resultado"
   ]
  },
  {
   "cell_type": "code",
   "execution_count": 87,
   "id": "5cd45a7f-4e56-4344-8c65-a7c1df9a5a11",
   "metadata": {},
   "outputs": [
    {
     "name": "stdout",
     "output_type": "stream",
     "text": [
      "['oso', 'agua']\n"
     ]
    }
   ],
   "source": [
    "palabras = [\"oso\", \"perro\", \"agua\", \"luz\"]\n",
    "print(palabras_con_vocal(palabras))"
   ]
  },
  {
   "cell_type": "markdown",
   "id": "50ab5e3a-e94f-45c7-ae64-791ee320058f",
   "metadata": {},
   "source": [
    "6. Unir listas alternando elementos. Investigar la built-in function zip\n",
    "\n",
    "Dados dos listas del mismo tamaño, genera una tercera lista intercalando sus elementos.\n",
    "Ejemplo → [1,2,3], [‘a’,‘b’,‘c’] → [1,‘a’,2,‘b’,3,‘c’]."
   ]
  },
  {
   "cell_type": "code",
   "execution_count": 88,
   "id": "85e8b188-2373-4684-89e1-dbfb3370ca2b",
   "metadata": {},
   "outputs": [],
   "source": [
    "def intercalar(lista1, lista2):\n",
    "    resultado = [] \n",
    "    \n",
    "    for i in range(len(lista1)): \n",
    "        resultado.append(lista1[i])  \n",
    "        resultado.append(lista2[i])  \n",
    "    \n",
    "    return resultado"
   ]
  },
  {
   "cell_type": "code",
   "execution_count": 90,
   "id": "676f9fe9-7c4d-454f-8df8-44e87049c12f",
   "metadata": {},
   "outputs": [
    {
     "name": "stdout",
     "output_type": "stream",
     "text": [
      "[1, 'a', 2, 'b', 3, 'c']\n"
     ]
    }
   ],
   "source": [
    "lista1 = [1, 2, 3]\n",
    "lista2 = ['a', 'b', 'c']\n",
    "\n",
    "print(intercalar(lista1, lista2))"
   ]
  },
  {
   "cell_type": "markdown",
   "id": "54ca3a6a-3d60-42b5-81eb-7863d99ff644",
   "metadata": {},
   "source": [
    "7. Rotar una lista n posiciones\n",
    "\n",
    "Dada una lista y un número entero n, rota la lista hacia la derecha n posiciones.\n",
    "Ejemplo → [1,2,3,4,5], n=2 → [4,5,1,2,3]"
   ]
  },
  {
   "cell_type": "code",
   "execution_count": 95,
   "id": "548305a6-f256-4428-bf3c-07e77b380a83",
   "metadata": {},
   "outputs": [
    {
     "name": "stdout",
     "output_type": "stream",
     "text": [
      "[4, 5, 1, 2, 3]\n"
     ]
    }
   ],
   "source": [
    "def rotar(lista, n):\n",
    "    return lista[-n:] + lista[:-n]\n",
    "\n",
    "print(rotar([1, 2, 3, 4, 5], 2))"
   ]
  }
 ],
 "metadata": {
  "kernelspec": {
   "display_name": "Python 3 (ipykernel)",
   "language": "python",
   "name": "python3"
  },
  "language_info": {
   "codemirror_mode": {
    "name": "ipython",
    "version": 3
   },
   "file_extension": ".py",
   "mimetype": "text/x-python",
   "name": "python",
   "nbconvert_exporter": "python",
   "pygments_lexer": "ipython3",
   "version": "3.13.6"
  }
 },
 "nbformat": 4,
 "nbformat_minor": 5
}
