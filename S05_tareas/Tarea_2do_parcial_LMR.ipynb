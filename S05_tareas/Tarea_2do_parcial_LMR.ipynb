{
 "cells": [
  {
   "cell_type": "code",
   "execution_count": 23,
   "id": "19c1a2fc-e439-433e-b6a2-0f501b4f4cca",
   "metadata": {},
   "outputs": [],
   "source": [
    "import pandas as pd\n",
    "import numpy as np"
   ]
  },
  {
   "cell_type": "markdown",
   "id": "8e3c0252-2350-4df7-a4d5-ce4633fbac9b",
   "metadata": {},
   "source": [
    "### Ejercicio 1\n",
    "Crea dos DataFrame que compartan la misma estructura de columnas (por ejemplo,\n",
    "    'Nombre' y 'Edad'), con al menos 3 filas cada uno. Concaténalos verticalmente\n",
    "    en un único DataFrame. Retorna el DataFrame resultante."
   ]
  },
  {
   "cell_type": "code",
   "execution_count": 7,
   "id": "effcc74a-db2d-439f-adf5-611df2d6177d",
   "metadata": {},
   "outputs": [],
   "source": [
    "def ex1_concat_same_structure(dataframe1, dataframe2):\n",
    "    df_concatenada = pd.concat([dataframe1, dataframe2]).reset_index(drop=True)\n",
    "    print(df_concatenada)\n",
    "    pass"
   ]
  },
  {
   "cell_type": "code",
   "execution_count": 8,
   "id": "5094db0a-12b0-4777-acbc-de0d58b7ed86",
   "metadata": {},
   "outputs": [
    {
     "name": "stdout",
     "output_type": "stream",
     "text": [
      "     Nombre  Edad\n",
      "0   Gabriel    14\n",
      "1     Pedro    85\n",
      "2   Ernesto    40\n",
      "3  Marietta     3\n",
      "4    Alyssa    55\n",
      "5      Yara    20\n"
     ]
    }
   ],
   "source": [
    "diccionario_1= {'Nombre': ['Gabriel', 'Pedro', 'Ernesto'], 'Edad': [14, 85, 40]}\n",
    "diccionario_2= {'Nombre': ['Marietta', 'Alyssa', 'Yara'], 'Edad': [3, 55, 20]}\n",
    "df_hombres= pd.DataFrame(diccionario_1)\n",
    "df_mujeres= pd.DataFrame(diccionario_2)\n",
    "ex1_concat_same_structure(df_hombres,df_mujeres)"
   ]
  },
  {
   "cell_type": "markdown",
   "id": "8fac1429-c1eb-41a9-a488-8e74418ade6c",
   "metadata": {},
   "source": [
    "### Ejercicio 2\n",
    "Tienes un DataFrame con ventas de enero y otro con ventas de febrero (mismas columnas).\n",
    "    Concaténalos en un solo DataFrame y añade una columna que indique el mes original\n",
    "    de cada fila (por ejemplo: 'Enero' o 'Febrero'). Retorna el DataFrame resultante."
   ]
  },
  {
   "cell_type": "code",
   "execution_count": 11,
   "id": "94180f79-f13f-4790-953b-a2108ecc7801",
   "metadata": {},
   "outputs": [],
   "source": [
    "def ex2_concat_with_month_column(dataframe1, dataframe2, mes1, mes2):\n",
    "    df_concatenada = pd.concat([dataframe1, dataframe2]).reset_index(drop=True)\n",
    "    df_concatenada['Mes']= [ mes1, mes1, mes1, mes1, mes2, mes2, mes2, mes2]\n",
    "    print(df_concatenada)\n",
    "    pass"
   ]
  },
  {
   "cell_type": "code",
   "execution_count": 12,
   "id": "61aefab8-a47f-4138-a8bc-3b723b892be2",
   "metadata": {},
   "outputs": [
    {
     "name": "stdout",
     "output_type": "stream",
     "text": [
      "     Semana  Chips Picafresas Gelatinas Bolis      Mes\n",
      "0  Semana 1  $1000        $78      $508  $843    Enero\n",
      "1  Semana 2   $976    $102.50      $765  $756    Enero\n",
      "2  Semana 3  $3005        $43      $688  $357    Enero\n",
      "3  Semana 4  $2564        $94      $398  $753    Enero\n",
      "4  Semana 1   $887       $190      $308  $769  Febrero\n",
      "5  Semana 2  $1003        $70      $502  $587  Febrero\n",
      "6  Semana 3   $790        $54      $462  $672  Febrero\n",
      "7  Semana 4  $3078        $49      $713  $593  Febrero\n"
     ]
    }
   ],
   "source": [
    "Mes_1= 'Enero'\n",
    "Mes_2= 'Febrero'\n",
    "data_enero= {'Semana':['Semana 1', 'Semana 2', 'Semana 3', 'Semana 4'], 'Chips':['$1000', '$976', '$3005', '$2564'],\n",
    "             'Picafresas':['$78', '$102.50', '$43', '$94'], 'Gelatinas':['$508', '$765', '$688', '$398'], 'Bolis':['$843', '$756', '$357', '$753']}\n",
    "data_febrero= {'Semana':['Semana 1', 'Semana 2', 'Semana 3', 'Semana 4'], 'Chips':['$887', '$1003', '$790', '$3078'], \n",
    "               'Picafresas':['$190', '$70', '$54', '$49'],'Gelatinas':['$308', '$502', '$462', '$713'],'Bolis':['$769', '$587', '$672', '$593']}\n",
    "df_enero= pd.DataFrame(data_enero)\n",
    "df_febrero= pd.DataFrame(data_febrero)\n",
    "ex2_concat_with_month_column(df_enero, df_febrero, Mes_1, Mes_2)                                             "
   ]
  },
  {
   "cell_type": "markdown",
   "id": "92ac3ba2-f975-4942-a7b9-1690eff5a25c",
   "metadata": {},
   "source": [
    "### Ejercicio 3\n",
    "Crea dos DataFrame que no tengan exactamente las mismas columnas (ej.: uno tiene\n",
    "    'Producto' y 'Ventas', el otro 'Producto' y 'Descuento'). Concaténalos y asegura\n",
    "    que los valores faltantes queden rellenados con 0. Retorna el DataFrame resultante."
   ]
  },
  {
   "cell_type": "code",
   "execution_count": 25,
   "id": "31779754-d5b6-4afc-ab53-00ec141247d9",
   "metadata": {},
   "outputs": [],
   "source": [
    "def ex3_concat_diff_columns_fillna(dataframe1, dataframe2,columna_comun):\n",
    "    df_concatenada = pd.merge(dataframe1, dataframe2, on=columna_comun, how='outer')\n",
    "    print(df_concatenada.fillna(0))\n",
    "    pass"
   ]
  },
  {
   "cell_type": "code",
   "execution_count": 26,
   "id": "b7d83fae-6f89-42ce-9961-a029e9f0ab8b",
   "metadata": {},
   "outputs": [
    {
     "name": "stdout",
     "output_type": "stream",
     "text": [
      "     Nombre  Edad   Color\n",
      "0    Alyssa   0.0   Verde\n",
      "1   Ernesto  40.0       0\n",
      "2   Gabriel  14.0       0\n",
      "3  Marietta   0.0    Rosa\n",
      "4     Pedro  85.0       0\n",
      "5      Yara   0.0  Dorado\n"
     ]
    }
   ],
   "source": [
    "diccionario_1= {'Nombre': ['Gabriel', 'Pedro', 'Ernesto'], 'Edad': [14, 85, 40]}\n",
    "diccionario_2= {'Nombre': ['Marietta', 'Alyssa', 'Yara'], 'Color': ['Rosa', 'Verde', 'Dorado']}\n",
    "df_hombres= pd.DataFrame(diccionario_1)\n",
    "df_mujeres= pd.DataFrame(diccionario_2)\n",
    "ex3_concat_diff_columns_fillna(df_hombres,df_mujeres,'Nombre')"
   ]
  },
  {
   "cell_type": "markdown",
   "id": "850d4331-9075-4718-88a2-54dc2dbe2f72",
   "metadata": {},
   "source": [
    "### Ejercicio 4\n",
    "Genera tres DataFrame pequeños (cada uno con, por ejemplo, 3 filas) que representen\n",
    "    notas de distintos grupos de alumnos. Concaténalos verticalmente en un solo DataFrame\n",
    "    que contenga todas las notas. Retorna el DataFrame resultante."
   ]
  },
  {
   "cell_type": "code",
   "execution_count": 28,
   "id": "c03278cd-0891-42b8-8632-070500df0506",
   "metadata": {},
   "outputs": [],
   "source": [
    "def ex4_concat_three_groups(dataframe1, dataframe2, dataframe3):\n",
    "    df_concatenada = pd.concat([dataframe1, dataframe2, dataframe3],axis=0).reset_index(drop=True)\n",
    "    print(df_concatenada)\n",
    "    pass"
   ]
  },
  {
   "cell_type": "code",
   "execution_count": 29,
   "id": "6c300b88-a63f-4ae8-839a-c95faae14b50",
   "metadata": {},
   "outputs": [
    {
     "name": "stdout",
     "output_type": "stream",
     "text": [
      "     Nombre  Matemáticas  Español  Historia\n",
      "0     María           10        6         7\n",
      "1      José            9        9        10\n",
      "2     Uriel            8        7         9\n",
      "3   Roberto            8        5         6\n",
      "4   Alfredo            9        9         9\n",
      "5   Valeria            7        7         9\n",
      "6  Virginia            7        8         6\n",
      "7      Rosa            9        8         9\n",
      "8   Bárbara            8       10         8\n"
     ]
    }
   ],
   "source": [
    "df_1= pd.DataFrame({'Nombre':['María', 'José', 'Uriel'], 'Matemáticas':[10, 9, 8], 'Español':[6, 9, 7], 'Historia':[7,10, 9]})\n",
    "df_2= pd.DataFrame({'Nombre':['Roberto', 'Alfredo', 'Valeria'], 'Matemáticas':[8, 9, 7], 'Español':[5, 9, 7], 'Historia':[6,9, 9]})\n",
    "df_3= pd.DataFrame({'Nombre':['Virginia', 'Rosa', 'Bárbara'], 'Matemáticas':[7, 9, 8], 'Español':[8, 8, 10], 'Historia':[6,9, 8]})\n",
    "ex4_concat_three_groups(df_1, df_2, df_3)"
   ]
  },
  {
   "cell_type": "markdown",
   "id": "ebc92dca-5434-49e5-b778-55eb50baa46f",
   "metadata": {},
   "source": [
    "### Ejercicio 5\n",
    " Dada una lista de enteros (o strings) que puede contener duplicados, devuelve una\n",
    "    nueva lista sin duplicados preservando el orden original. No uses directamente set()\n",
    "    para eliminar duplicados (escribe la lógica que preserve el orden). Retorna la nueva \n",
    "    lista sin duplicados."
   ]
  },
  {
   "cell_type": "code",
   "execution_count": 34,
   "id": "ea6c718a-a282-4d58-a7cc-74acc27ff850",
   "metadata": {},
   "outputs": [],
   "source": [
    "def ex5_remove_duplicates_preserve_order(lista):\n",
    "    nueva_lista=[]\n",
    "    for elemento in lista:\n",
    "        if elemento not in nueva_lista:\n",
    "            nueva_lista.append(elemento)\n",
    "    return nueva_lista\n",
    "    pass"
   ]
  },
  {
   "cell_type": "code",
   "execution_count": 35,
   "id": "577557de-28d4-4f8d-93a6-bd52850c644f",
   "metadata": {},
   "outputs": [
    {
     "data": {
      "text/plain": [
       "['oso', 'cabra', 'borrego', 'perro', 'gato']"
      ]
     },
     "execution_count": 35,
     "metadata": {},
     "output_type": "execute_result"
    }
   ],
   "source": [
    "ex5_remove_duplicates_preserve_order(['oso', 'cabra', 'borrego', 'cabra', 'perro', 'gato', 'gato', 'oso'] )"
   ]
  },
  {
   "cell_type": "markdown",
   "id": "7f84d4db-83ed-4c4c-bfba-b6409c528734",
   "metadata": {},
   "source": [
    "### Ejercicio 6\n",
    " Dada una lista de tuplas, por ejemplo [(\"a\", 3), (\"b\", 1), (\"c\", 2)], ordénala\n",
    "    por el segundo elemento de cada tupla y devuelve la lista ordenada. Usa una función\n",
    "    anónima si lo deseas. Retorna la lista ordenada."
   ]
  },
  {
   "cell_type": "code",
   "execution_count": 37,
   "id": "b0a3564f-660e-4b84-9b84-95e80fb354bc",
   "metadata": {},
   "outputs": [],
   "source": [
    "def ex6_sort_tuples_by_second_element(tuples_list):\n",
    "    tuples_list_ordenada = sorted(tuples_list, key=lambda x: x[1])\n",
    "    print(tuples_list_ordenada)\n",
    "    pass"
   ]
  },
  {
   "cell_type": "code",
   "execution_count": 38,
   "id": "59566254-e153-4a64-88d6-6172efc908f8",
   "metadata": {},
   "outputs": [
    {
     "name": "stdout",
     "output_type": "stream",
     "text": [
      "[('b', 1), ('c', 2), ('a', 3)]\n"
     ]
    }
   ],
   "source": [
    "ex6_sort_tuples_by_second_element([(\"a\", 3), (\"b\", 1), (\"c\", 2)])"
   ]
  },
  {
   "cell_type": "markdown",
   "id": "ce6b4826-383d-4f77-8e42-a07b195100bd",
   "metadata": {},
   "source": [
    "### Ejercicio 7\n",
    "Devuelve una lista con los primeros n múltiplos de 7 (por ejemplo, n=5 -> [7,14,21,28,35]).\n",
    "    Retorna la lista generada."
   ]
  },
  {
   "cell_type": "code",
   "execution_count": 44,
   "id": "10d3b4f9-0ace-490b-ba88-298fb4507f3a",
   "metadata": {},
   "outputs": [],
   "source": [
    "def ex7_first_n_multiples_of_7(n):\n",
    "    multiplos=[]\n",
    "    for i in range(1,n+1):\n",
    "        multiplos.append( 7*i)\n",
    "    return multiplos\n",
    "    pass"
   ]
  },
  {
   "cell_type": "code",
   "execution_count": 45,
   "id": "ce68efc5-84ef-453a-b414-337be30816ff",
   "metadata": {},
   "outputs": [
    {
     "data": {
      "text/plain": [
       "[7, 14, 21, 28, 35]"
      ]
     },
     "execution_count": 45,
     "metadata": {},
     "output_type": "execute_result"
    }
   ],
   "source": [
    "ex7_first_n_multiples_of_7(5)"
   ]
  },
  {
   "cell_type": "markdown",
   "id": "23027d7f-d3b9-487e-963a-d6e56e31899e",
   "metadata": {},
   "source": [
    "### Ejercicio 8\n",
    " Dada una lista de cadenas, devuelve sólo aquellas que son palíndromos (se leen igual\n",
    "    al derecho y al revés). Retorna una lista con los palíndromos encontrados."
   ]
  },
  {
   "cell_type": "code",
   "execution_count": 47,
   "id": "f49dc241-3108-48a1-aa05-32c428ebad44",
   "metadata": {},
   "outputs": [],
   "source": [
    "def ex8_filter_palindromes(strings):\n",
    "    palindromos=[]\n",
    "    for palabra in strings:\n",
    "        if palabra == palabra[::-1]:\n",
    "            palindromos.append(palabra)\n",
    "    return palindromos\n",
    "    pass"
   ]
  },
  {
   "cell_type": "code",
   "execution_count": 48,
   "id": "59a2e7d7-1a2d-49ba-a354-bfaaba5f780f",
   "metadata": {},
   "outputs": [
    {
     "data": {
      "text/plain": [
       "['oso', 'ana', 'reconocer']"
      ]
     },
     "execution_count": 48,
     "metadata": {},
     "output_type": "execute_result"
    }
   ],
   "source": [
    "ex8_filter_palindromes(['oso', 'agua', 'ana', 'arroz', 'reconocer'])"
   ]
  },
  {
   "cell_type": "markdown",
   "id": "915ff986-721a-45fd-bca4-ad904193f691",
   "metadata": {},
   "source": [
    "### Ejercicio 9\n",
    "  Dado dos conjuntos, devuelve su intersección y la diferencia (elementos de A que no\n",
    "    están en B). Retorna una tupla (intersección, diferencia)."
   ]
  },
  {
   "cell_type": "code",
   "execution_count": 55,
   "id": "e2b695dd-fe73-4b89-9a23-d85035506c2d",
   "metadata": {},
   "outputs": [],
   "source": [
    "def ex9_set_intersection_and_difference(set_a, set_b):\n",
    "    interseccion=[]\n",
    "    differencia=[]\n",
    "    for elemento in set_a:\n",
    "        if elemento in set_b:\n",
    "            interseccion.append(elemento)\n",
    "        else:\n",
    "            differencia.append(elemento) \n",
    "    for elemento in set_b:\n",
    "        if elemento not in set_a:\n",
    "            differencia.append(elemento)\n",
    "    tupla= ((interseccion[0],differencia[0]))\n",
    "    return interseccion, differencia, tupla\n",
    "    pass"
   ]
  },
  {
   "cell_type": "code",
   "execution_count": 56,
   "id": "be36443c-fbe7-4905-a150-4e718db4e7de",
   "metadata": {},
   "outputs": [
    {
     "data": {
      "text/plain": [
       "([5, 9], [3, 7, 2, 8, 4, 1], (5, 3))"
      ]
     },
     "execution_count": 56,
     "metadata": {},
     "output_type": "execute_result"
    }
   ],
   "source": [
    "ex9_set_intersection_and_difference([3, 5, 7, 9, 2], [5, 8, 4, 9, 1])"
   ]
  },
  {
   "cell_type": "markdown",
   "id": "8f6b4352-7a5a-4297-9a11-b7c61a895017",
   "metadata": {},
   "source": [
    "### Ejercicio 10\n",
    " Verifica si set_a es subconjunto de set_b. Devuelve True o False."
   ]
  },
  {
   "cell_type": "code",
   "execution_count": 14,
   "id": "4034a7c6-23e9-492c-8c98-98ecb379c8c8",
   "metadata": {},
   "outputs": [],
   "source": [
    "def ex10_is_subset(set_a, set_b):\n",
    "    for elemento in set_a:\n",
    "        if elemento not in set_b:\n",
    "            return False\n",
    "    return True\n",
    "    pass"
   ]
  },
  {
   "cell_type": "code",
   "execution_count": 17,
   "id": "3d2198e5-1b32-4a61-8fc2-a619cf9e8dc9",
   "metadata": {},
   "outputs": [
    {
     "data": {
      "text/plain": [
       "True"
      ]
     },
     "execution_count": 17,
     "metadata": {},
     "output_type": "execute_result"
    }
   ],
   "source": [
    "ex10_is_subset([2,3,5], [1,2,3,4,5])"
   ]
  },
  {
   "cell_type": "markdown",
   "id": "9c9f8613-add7-4d9e-9b6e-c46c87df6c11",
   "metadata": {},
   "source": [
    "### Ejercicio 11\n",
    "Dada una lista, cuenta cuántos elementos únicos contiene (usa set para obtener el conteo).\n",
    "    Retorna el número de elementos únicos."
   ]
  },
  {
   "cell_type": "code",
   "execution_count": 27,
   "id": "55da5b8b-867a-4730-b54a-1a7fb9ae7f8d",
   "metadata": {},
   "outputs": [],
   "source": [
    "def ex11_count_unique_elements(lst):\n",
    "    cuantos_unicos= len(set(lst))\n",
    "    return cuantos_unicos\n",
    "    pass"
   ]
  },
  {
   "cell_type": "code",
   "execution_count": 28,
   "id": "c5a1a8e4-0613-4be4-83a7-f89a4fe3aa0e",
   "metadata": {},
   "outputs": [
    {
     "data": {
      "text/plain": [
       "4"
      ]
     },
     "execution_count": 28,
     "metadata": {},
     "output_type": "execute_result"
    }
   ],
   "source": [
    "ex11_count_unique_elements(['hola', 3, 1, 'oso', 'oso',3])"
   ]
  },
  {
   "cell_type": "markdown",
   "id": "031086db-d91c-48cc-be45-9632021899bd",
   "metadata": {},
   "source": [
    "### Ejercicio 12\n",
    " Dada una lista de frases (strings), extrae y devuelve el conjunto de todas las palabras\n",
    "    únicas que aparecen en todas las frases. Retorna un conjunto con las palabras únicas."
   ]
  },
  {
   "cell_type": "code",
   "execution_count": 31,
   "id": "c94c1c50-2c08-40a4-874e-2bbeb07c60fe",
   "metadata": {},
   "outputs": [],
   "source": [
    "def ex12_unique_words_from_phrases(phrases):\n",
    "    return list(set(phrases))\n",
    "    pass"
   ]
  },
  {
   "cell_type": "code",
   "execution_count": 32,
   "id": "2623be40-5bf1-4a8e-80e7-cd3d4be6c1aa",
   "metadata": {},
   "outputs": [
    {
     "data": {
      "text/plain": [
       "['mañana', 'pasado', 'hola', 'adios']"
      ]
     },
     "execution_count": 32,
     "metadata": {},
     "output_type": "execute_result"
    }
   ],
   "source": [
    "ex12_unique_words_from_phrases(['hola', 'hola', 'hola', 'adios', 'mañana', 'pasado', 'pasado'])"
   ]
  },
  {
   "cell_type": "markdown",
   "id": "039fcee3-4d8c-4a0d-9a7e-f5b5814cc5b6",
   "metadata": {},
   "source": [
    "### Ejercicio 13\n",
    " Recibe una lista de tuplas (nombre, edad). Devuelve la tupla de la persona con mayor edad."
   ]
  },
  {
   "cell_type": "code",
   "execution_count": 34,
   "id": "ae8bdc9e-cddf-48c0-97c8-020d9a0d359d",
   "metadata": {},
   "outputs": [],
   "source": [
    "def ex13_oldest_person(tuple_list):\n",
    "    ordenadas= sorted(tuple_list, key=lambda x: x[1])\n",
    "    return ordenadas[-1]\n",
    "    pass"
   ]
  },
  {
   "cell_type": "code",
   "execution_count": 37,
   "id": "ce58c3ea-0587-4db4-90a7-1bcde596842d",
   "metadata": {},
   "outputs": [
    {
     "data": {
      "text/plain": [
       "('Emiliano', 25)"
      ]
     },
     "execution_count": 37,
     "metadata": {},
     "output_type": "execute_result"
    }
   ],
   "source": [
    "ex13_oldest_person([('Mariano',23),('Javier',21),('Emiliano',25),('Diego',21),('Alejandro',17)])"
   ]
  },
  {
   "cell_type": "markdown",
   "id": "747c319b-daad-49d7-adde-828173ee0a44",
   "metadata": {},
   "source": [
    "### Ejercicio 14\n",
    " Convierte una lista de listas en una lista de tuplas. Retorna la nueva lista de tuplas."
   ]
  },
  {
   "cell_type": "code",
   "execution_count": 38,
   "id": "db699e1d-d790-4ecd-9349-5cad89431a8d",
   "metadata": {},
   "outputs": [],
   "source": [
    "def ex14_convert_list_of_lists_to_tuples(list_of_lists):\n",
    "    lista_de_tuplas= []\n",
    "    for lista in list_of_lists:\n",
    "        lista_de_tuplas.append(tuple(lista))\n",
    "    return lista_de_tuplas\n",
    "    pass"
   ]
  },
  {
   "cell_type": "code",
   "execution_count": 40,
   "id": "e1e0f6f6-c312-4ab0-91e2-e919c80db815",
   "metadata": {},
   "outputs": [
    {
     "data": {
      "text/plain": [
       "[(2, 3, 4, 5, 6), (7, 8, 9, 10)]"
      ]
     },
     "execution_count": 40,
     "metadata": {},
     "output_type": "execute_result"
    }
   ],
   "source": [
    "ex14_convert_list_of_lists_to_tuples([[2,3,4,5,6],[7,8,9,10]])"
   ]
  },
  {
   "cell_type": "markdown",
   "id": "dc104621-6ddb-43e3-9e0b-c9365cf14178",
   "metadata": {},
   "source": [
    "### Ejercicio 15\n",
    "  Recibe una tupla de tres números (a, b, c). Desempaquétala y devuelve la suma a+b+c. \n",
    "    Retorna un número entero o flotante."
   ]
  },
  {
   "cell_type": "code",
   "execution_count": 45,
   "id": "f1071e2b-4713-4ee1-b6b7-3858a41ed69a",
   "metadata": {},
   "outputs": [],
   "source": [
    "def ex15_sum_of_tuple_abc(t):\n",
    "    a,b,c=(t)\n",
    "    return a+b+c\n",
    "    pass"
   ]
  },
  {
   "cell_type": "code",
   "execution_count": 46,
   "id": "00d28cc5-6372-4be9-8edb-646996ab4811",
   "metadata": {},
   "outputs": [
    {
     "data": {
      "text/plain": [
       "60"
      ]
     },
     "execution_count": 46,
     "metadata": {},
     "output_type": "execute_result"
    }
   ],
   "source": [
    "tupla= (10,20,30)\n",
    "ex15_sum_of_tuple_abc(tupla)"
   ]
  },
  {
   "cell_type": "markdown",
   "id": "d513612f-eaf4-4d61-a324-7c80cf48ed52",
   "metadata": {},
   "source": [
    "### Ejercicio 16\n",
    " Dada una lista de tuplas (producto, precio), ordénala por precio de menor a mayor.\n",
    "    Retorna la lista ordenada."
   ]
  },
  {
   "cell_type": "code",
   "execution_count": 47,
   "id": "242786b7-1802-41ac-90bd-3d075cb453c4",
   "metadata": {},
   "outputs": [],
   "source": [
    "def ex16_sort_product_price(prod_price_list):\n",
    "    gangas= sorted(prod_price_list, key=lambda x: x[1])\n",
    "    return gangas\n",
    "    pass"
   ]
  },
  {
   "cell_type": "code",
   "execution_count": 48,
   "id": "d30195ce-39eb-46d4-86d2-1f33e0d02ac4",
   "metadata": {},
   "outputs": [
    {
     "data": {
      "text/plain": [
       "[('Ajo', 3),\n",
       " ('Pepino', 25),\n",
       " ('Zote', 30),\n",
       " ('Jamon', 40),\n",
       " ('Leche', 70),\n",
       " ('Formula', 300)]"
      ]
     },
     "execution_count": 48,
     "metadata": {},
     "output_type": "execute_result"
    }
   ],
   "source": [
    "ex16_sort_product_price([('Jamon',40),('Leche',70),('Pepino',25),('Zote',30),('Formula',300),('Ajo',3)])"
   ]
  },
  {
   "cell_type": "markdown",
   "id": "d829a703-e288-4f76-87f9-592c994d1a21",
   "metadata": {},
   "source": [
    "### Ejercicio 17"
   ]
  },
  {
   "cell_type": "markdown",
   "id": "0f8b3c2d-2d27-4b08-9d10-865e293b7bd6",
   "metadata": {},
   "source": [
    "Cuenta la frecuencia de cada carácter en una cadena usando un diccionario.\n",
    "    Retorna un diccionario {carácter: frecuencia}."
   ]
  },
  {
   "cell_type": "code",
   "execution_count": 52,
   "id": "87d0fe9a-415a-451c-8e67-8c734841ad2d",
   "metadata": {},
   "outputs": [],
   "source": [
    "def ex17_char_frequency(string):\n",
    "    diccionario = {}\n",
    "    for letra in set(string):  \n",
    "        diccionario[letra] = string.count(letra)  \n",
    "    return diccionario\n",
    "    pass"
   ]
  },
  {
   "cell_type": "code",
   "execution_count": 53,
   "id": "4258fa09-dd80-4d22-8955-58076c4005eb",
   "metadata": {},
   "outputs": [
    {
     "data": {
      "text/plain": [
       "{'b': 1, 'a': 3, 'n': 2}"
      ]
     },
     "execution_count": 53,
     "metadata": {},
     "output_type": "execute_result"
    }
   ],
   "source": [
    "ex17_char_frequency('banana')"
   ]
  },
  {
   "cell_type": "markdown",
   "id": "36d382d0-0539-42b4-a8ca-cf841a8734c0",
   "metadata": {},
   "source": [
    "### Ejercicio 18"
   ]
  },
  {
   "cell_type": "markdown",
   "id": "a160211b-beda-4684-aa6f-0967c87f1573",
   "metadata": {},
   "source": [
    "Dado un diccionario {alumno: calificación}, devuelve al mejor estudiante.\n",
    "    Retorna una tupla (nombre, calificación)."
   ]
  },
  {
   "cell_type": "code",
   "execution_count": 59,
   "id": "968a9a41-b186-4818-97dd-177ca7f6fa89",
   "metadata": {},
   "outputs": [],
   "source": [
    "def ex18_best_student(grades_dict):\n",
    "    calificacion_alta= max(grades_dict, key=lambda k: grades_dict[k])\n",
    "    return (calificacion_alta, grades_dict[calificacion_alta])\n",
    "    pass"
   ]
  },
  {
   "cell_type": "code",
   "execution_count": 60,
   "id": "9d9e618a-859b-41a7-bc62-a53ac97d5f82",
   "metadata": {},
   "outputs": [
    {
     "data": {
      "text/plain": [
       "('Rolando', 9)"
      ]
     },
     "execution_count": 60,
     "metadata": {},
     "output_type": "execute_result"
    }
   ],
   "source": [
    "diccionario= {'Marissa':8,'Julián':4,'Rolando':9}\n",
    "ex18_best_student(diccionario)"
   ]
  },
  {
   "cell_type": "markdown",
   "id": "ad14243f-16f3-492b-89d7-93fe68b1db53",
   "metadata": {},
   "source": [
    "### Ejercicio 19"
   ]
  },
  {
   "cell_type": "markdown",
   "id": "f980f008-c3ec-4c94-95ae-0bbeb93bdd94",
   "metadata": {},
   "source": [
    " Invierte un diccionario, intercambiando claves y valores.\n",
    "    Retorna el diccionario invertido."
   ]
  },
  {
   "cell_type": "code",
   "execution_count": 67,
   "id": "8b2f0670-a20b-44b0-b435-764f32d20324",
   "metadata": {},
   "outputs": [],
   "source": [
    "def ex19_invert_dictionary(diccionario):\n",
    "    print({key: value for value, key in diccionario.items()})\n",
    "    pass"
   ]
  },
  {
   "cell_type": "code",
   "execution_count": 68,
   "id": "e47dfba1-bc7b-4d5a-bbaa-c5f83b377bdc",
   "metadata": {},
   "outputs": [
    {
     "name": "stdout",
     "output_type": "stream",
     "text": [
      "{8: 'Marissa', 4: 'Julián', 9: 'Rolando'}\n"
     ]
    }
   ],
   "source": [
    "diccionario= {'Marissa':8,'Julián':4,'Rolando':9}\n",
    "ex19_invert_dictionary(diccionario)"
   ]
  },
  {
   "cell_type": "markdown",
   "id": "53e03261-6674-4882-8ca1-d851793d9b2e",
   "metadata": {},
   "source": [
    "### Ejercicio 20"
   ]
  },
  {
   "cell_type": "markdown",
   "id": "c747528f-d718-4e28-8c7e-14609b8b4cea",
   "metadata": {},
   "source": [
    " Fusiona dos diccionarios sumando los valores de las claves que se repitan. \n",
    "    Devuelve el diccionario resultante."
   ]
  },
  {
   "cell_type": "code",
   "execution_count": 73,
   "id": "1b7e53d8-517e-48d5-93dc-08ba743ef39f",
   "metadata": {},
   "outputs": [],
   "source": [
    "def ex20_merge_dicts_sum_values(d1, d2):\n",
    "    keys= set(d1) | set(d2)\n",
    "    fusion= {key: d1.get(key,0)+d2.get(key,0) for key in keys}\n",
    "    return fusion\n",
    "    pass"
   ]
  },
  {
   "cell_type": "code",
   "execution_count": 74,
   "id": "32ed7f64-7a01-43cb-9e01-1195b1119173",
   "metadata": {},
   "outputs": [
    {
     "data": {
      "text/plain": [
       "{'ocho': 8,\n",
       " 'lupe': 30,\n",
       " 'omar': 68,\n",
       " 'magma': 2,\n",
       " 'cacahuate': 100,\n",
       " 'cochinito': 10,\n",
       " 'escuela': 3}"
      ]
     },
     "execution_count": 74,
     "metadata": {},
     "output_type": "execute_result"
    }
   ],
   "source": [
    "ex20_merge_dicts_sum_values({'lupe':30,'cochinito':10,'cacahuate':20,'escuela':3}, {'omar':68,'cacahuate':80,'magma':2,'ocho':8})"
   ]
  },
  {
   "cell_type": "markdown",
   "id": "1f55f994-72b0-44aa-941b-5a7088118e0a",
   "metadata": {},
   "source": [
    "### Ejercicio 21"
   ]
  },
  {
   "cell_type": "markdown",
   "id": "5bc822ba-7615-4657-bbc4-29dcc9fcad80",
   "metadata": {},
   "source": [
    " Crea un arreglo de NumPy de 10 ceros y cambia el quinto elemento (índice 4) a 1.\n",
    "    Retorna el array resultante."
   ]
  },
  {
   "cell_type": "code",
   "execution_count": null,
   "id": "84808207-dd65-4221-8c21-08549297ebb9",
   "metadata": {},
   "outputs": [],
   "source": [
    "def ex21_numpy_array_set_fifth():\n",
    "    pass"
   ]
  },
  {
   "cell_type": "markdown",
   "id": "05025b12-45c1-4837-ab1a-5fa07dafe6ad",
   "metadata": {},
   "source": [
    "### Ejercicio 22"
   ]
  },
  {
   "cell_type": "markdown",
   "id": "4de88c1d-d6bb-4de3-bd1c-a91bab5fe683",
   "metadata": {},
   "source": [
    " Genera una matriz 3x3 con los valores del 0 al 8. \n",
    "    Retorna la matriz como array de NumPy."
   ]
  },
  {
   "cell_type": "code",
   "execution_count": null,
   "id": "5ec017ee-717e-4b31-94c8-8faf6c37606d",
   "metadata": {},
   "outputs": [],
   "source": [
    "def ex22_numpy_matrix_3x3():\n",
    "    pass"
   ]
  },
  {
   "cell_type": "markdown",
   "id": "d214d488-9bc0-49db-8c57-fbeed67d7a33",
   "metadata": {},
   "source": [
    "### Ejercicio 23"
   ]
  },
  {
   "cell_type": "markdown",
   "id": "c78f5bc4-7099-4b0c-b03c-a3da88169878",
   "metadata": {},
   "source": [
    " Genera un array aleatorio de 20 enteros y calcula la media, mediana y desviación estándar.\n",
    "    Retorna una tupla (media, mediana, desviación estándar)."
   ]
  },
  {
   "cell_type": "code",
   "execution_count": null,
   "id": "1f4f5f51-dd98-4282-a9b1-42029555bd22",
   "metadata": {},
   "outputs": [],
   "source": [
    "def ex23_numpy_statistics():\n",
    "    pass"
   ]
  },
  {
   "cell_type": "markdown",
   "id": "42201be5-1726-4cd4-a3af-3b2fa2492b22",
   "metadata": {},
   "source": [
    "### Ejercicio 24"
   ]
  },
  {
   "cell_type": "markdown",
   "id": "14702198-6788-4320-b754-1e623486bb89",
   "metadata": {},
   "source": [
    " Dado un array (o lista) de números, reemplaza todos los valores mayores que 10 por 10\n",
    "    (es decir, limita/\"clip\" los valores máximos).\n",
    "    Retorna el array modificado."
   ]
  },
  {
   "cell_type": "code",
   "execution_count": null,
   "id": "0a90bc18-f2e8-495d-b31f-2519822f4271",
   "metadata": {},
   "outputs": [],
   "source": [
    "def ex24_numpy_clip_values(arr):\n",
    "    pass"
   ]
  },
  {
   "cell_type": "markdown",
   "id": "bbc6be75-ac64-4817-b2be-6d63f395646d",
   "metadata": {},
   "source": [
    "### Ejercicio 25"
   ]
  },
  {
   "cell_type": "markdown",
   "id": "ef540995-00fb-4b60-97f0-ffa28675a674",
   "metadata": {},
   "source": [
    " Crea un DataFrame con columnas 'Nombre', 'Edad' y 'Ciudad'.\n",
    "    Filtra y retorna solo las filas con `Edad` > 30."
   ]
  },
  {
   "cell_type": "code",
   "execution_count": null,
   "id": "309ed41b-4f98-423c-805c-ed63ab1a7145",
   "metadata": {},
   "outputs": [],
   "source": [
    "def ex25_filter_rows_age_over_30():\n",
    "    pass"
   ]
  },
  {
   "cell_type": "markdown",
   "id": "880a52b9-5d34-47fd-836f-06edaec51a68",
   "metadata": {},
   "source": [
    "### Ejercicio 26"
   ]
  },
  {
   "cell_type": "markdown",
   "id": "b8d1ad16-8a49-47ac-a65d-c77bb88b1dc7",
   "metadata": {},
   "source": [
    "Carga un diccionario en un DataFrame (por ejemplo {'Nombre': [...], 'Puntaje': [...]})\n",
    "    y ordénalo por la columna de puntaje de mayor a menor.\n",
    "    Retorna el DataFrame ordenado."
   ]
  },
  {
   "cell_type": "code",
   "execution_count": null,
   "id": "56bbb6e8-2d05-48c6-989b-87189cb372e7",
   "metadata": {},
   "outputs": [],
   "source": [
    "def ex26_load_dict_into_dataframe_and_sort():\n",
    "    pass"
   ]
  },
  {
   "cell_type": "markdown",
   "id": "40f0bd1b-d38f-4260-8004-473526cf42b8",
   "metadata": {},
   "source": [
    "### Ejercicio 27"
   ]
  },
  {
   "cell_type": "markdown",
   "id": "f1920baf-dbb4-400c-8b4b-c629cf39ade4",
   "metadata": {},
   "source": [
    "Dado un DataFrame con columnas 'Grupo' y 'Valor', calcula el promedio de 'Valor'\n",
    "    por cada 'Grupo' usando groupby. \n",
    "    Retorna el DataFrame agrupado con promedios."
   ]
  },
  {
   "cell_type": "code",
   "execution_count": null,
   "id": "16b29cdc-e675-4305-b06d-a120e0c96977",
   "metadata": {},
   "outputs": [],
   "source": [
    "def ex27_groupby_mean_value():\n",
    "    pass"
   ]
  },
  {
   "cell_type": "markdown",
   "id": "1274e02b-c381-401d-a637-3518dc556e5d",
   "metadata": {},
   "source": [
    "### Ejercicio 28"
   ]
  },
  {
   "cell_type": "markdown",
   "id": "29a9f9cb-ea63-444b-9e75-9f42b2582560",
   "metadata": {},
   "source": [
    " Dado un DataFrame de ventas con columnas 'Producto' y 'Cantidad', determina cuál\n",
    "    es el producto con la mayor suma total de 'Cantidad' (es decir, el más vendido).\n",
    "    Retorna una tupla (Producto, Ventas)."
   ]
  },
  {
   "cell_type": "code",
   "execution_count": null,
   "id": "bd77ef73-d3ba-4280-8ab8-f2a57f8dab49",
   "metadata": {},
   "outputs": [],
   "source": [
    "def ex28_most_sold_product_from_sales_df():\n",
    "    pass"
   ]
  },
  {
   "cell_type": "markdown",
   "id": "a821b302-bdcb-4559-9036-758a517c8cf6",
   "metadata": {},
   "source": [
    "### Ejercicio 29"
   ]
  },
  {
   "cell_type": "markdown",
   "id": "bb572f23-9c31-4946-b75c-a2f194fd3779",
   "metadata": {},
   "source": [
    " Usa map junto con una función lambda para elevar al cubo cada número en una lista.\n",
    "    Devuelve la lista resultante."
   ]
  },
  {
   "cell_type": "code",
   "execution_count": null,
   "id": "276e5afc-b426-43c7-b3f5-2604a6512328",
   "metadata": {},
   "outputs": [],
   "source": [
    "def ex29_map_lambda_cube(lst):\n",
    "    pass"
   ]
  },
  {
   "cell_type": "markdown",
   "id": "509e0216-0ac8-43ac-aa57-10752db15b93",
   "metadata": {},
   "source": [
    "### Ejercicio 30"
   ]
  },
  {
   "cell_type": "markdown",
   "id": "c31a0fb9-01c8-407a-bc3a-022b6c8643dc",
   "metadata": {},
   "source": [
    " Usa filter y una lambda para quedarte sólo con los números pares de una lista.\n",
    "    Devuelve la lista filtrada."
   ]
  },
  {
   "cell_type": "code",
   "execution_count": null,
   "id": "904c2741-bce4-4034-a59e-e9367b3facc0",
   "metadata": {},
   "outputs": [],
   "source": [
    "def ex30_filter_lambda_even(lst):\n",
    "    pass"
   ]
  },
  {
   "cell_type": "markdown",
   "id": "8ac35aca-1d2b-4d91-990c-d367a4c6b7a2",
   "metadata": {},
   "source": [
    "### Ejercicio 31"
   ]
  },
  {
   "cell_type": "markdown",
   "id": "4b62955d-cf9b-4670-bda5-0905cfce8b77",
   "metadata": {},
   "source": [
    " Dada una lista de diccionarios, ordénala por el valor asociado a 'keyname' usando\n",
    "    sorted con una lambda. Devuelve la lista ordenada."
   ]
  },
  {
   "cell_type": "code",
   "execution_count": null,
   "id": "f7672173-ca2b-474a-8cb7-aa5c2abc8f0e",
   "metadata": {},
   "outputs": [],
   "source": [
    "def ex31_sort_list_of_dicts_by_key(lst, keyname):\n",
    "    pass"
   ]
  },
  {
   "cell_type": "markdown",
   "id": "ea54393d-e1af-497c-a35b-0a391b5a49d6",
   "metadata": {},
   "source": [
    "### Ejercicio 32"
   ]
  },
  {
   "cell_type": "markdown",
   "id": "23522a35-9261-45f2-a2fa-35bd04b8b1e1",
   "metadata": {},
   "source": [
    " Crea un DataFrame con una columna 'Nombre' a partir de names_list y usa apply con\n",
    "    una función lambda para crear una nueva columna con los nombres en mayúsculas.\n",
    "    Devuelve el DataFrame modificado."
   ]
  },
  {
   "cell_type": "code",
   "execution_count": 49,
   "id": "b2d869ea-ef21-4aac-bec3-f4d5b2a7e03b",
   "metadata": {},
   "outputs": [],
   "source": [
    "def ex32_pandas_apply_lambda_uppercase(names_list):\n",
    "    pass"
   ]
  }
 ],
 "metadata": {
  "kernelspec": {
   "display_name": "Python 3 (ipykernel)",
   "language": "python",
   "name": "python3"
  },
  "language_info": {
   "codemirror_mode": {
    "name": "ipython",
    "version": 3
   },
   "file_extension": ".py",
   "mimetype": "text/x-python",
   "name": "python",
   "nbconvert_exporter": "python",
   "pygments_lexer": "ipython3",
   "version": "3.10.4"
  }
 },
 "nbformat": 4,
 "nbformat_minor": 5
}
