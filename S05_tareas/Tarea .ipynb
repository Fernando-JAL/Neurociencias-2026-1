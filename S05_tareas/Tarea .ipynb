{
 "cells": [
  {
   "cell_type": "markdown",
   "id": "626a6f6f",
   "metadata": {},
   "source": [
    "## _all_"
   ]
  },
  {
   "cell_type": "code",
   "execution_count": 2,
   "id": "fa73db0a",
   "metadata": {},
   "outputs": [
    {
     "data": {
      "text/plain": [
       "False"
      ]
     },
     "execution_count": 2,
     "metadata": {},
     "output_type": "execute_result"
    }
   ],
   "source": [
    "lista=[True, True, True, True]\n",
    "\n",
    "all(lista)"
   ]
  },
  {
   "cell_type": "code",
   "execution_count": 3,
   "id": "438545bc",
   "metadata": {},
   "outputs": [
    {
     "data": {
      "text/plain": [
       "False"
      ]
     },
     "execution_count": 3,
     "metadata": {},
     "output_type": "execute_result"
    }
   ],
   "source": [
    "lista_con_falso = [1, 0, 3, 4] \n",
    "\n",
    "all(lista_con_falso)"
   ]
  },
  {
   "cell_type": "markdown",
   "id": "108a4450",
   "metadata": {},
   "source": [
    "## _any_"
   ]
  },
  {
   "cell_type": "code",
   "execution_count": 4,
   "id": "6f42cae4",
   "metadata": {},
   "outputs": [
    {
     "data": {
      "text/plain": [
       "True"
      ]
     },
     "execution_count": 4,
     "metadata": {},
     "output_type": "execute_result"
    }
   ],
   "source": [
    "lista_con_true = [False, 0, \"hola\", None]\n",
    "\n",
    "any(lista_con_true)"
   ]
  },
  {
   "cell_type": "code",
   "execution_count": 5,
   "id": "274e21cb",
   "metadata": {},
   "outputs": [
    {
     "data": {
      "text/plain": [
       "False"
      ]
     },
     "execution_count": 5,
     "metadata": {},
     "output_type": "execute_result"
    }
   ],
   "source": [
    "lista_todo_false= [False, 0, \"\", None]\n",
    "\n",
    "any(lista_todo_false)"
   ]
  },
  {
   "cell_type": "markdown",
   "id": "b1e89fce",
   "metadata": {},
   "source": [
    "## _abs_"
   ]
  },
  {
   "cell_type": "code",
   "execution_count": 6,
   "id": "16567789",
   "metadata": {},
   "outputs": [
    {
     "ename": "TypeError",
     "evalue": "bad operand type for abs(): 'list'",
     "output_type": "error",
     "traceback": [
      "\u001b[1;31m---------------------------------------------------------------------------\u001b[0m",
      "\u001b[1;31mTypeError\u001b[0m                                 Traceback (most recent call last)",
      "Cell \u001b[1;32mIn[6], line 3\u001b[0m\n\u001b[0;32m      1\u001b[0m lista_numeros \u001b[38;5;241m=\u001b[39m [\u001b[38;5;241m-\u001b[39m\u001b[38;5;241m5\u001b[39m, \u001b[38;5;241m3.14\u001b[39m, \u001b[38;5;241m-\u001b[39m\u001b[38;5;241m2.718\u001b[39m, \u001b[38;5;241m0\u001b[39m, \u001b[38;5;241m-\u001b[39m\u001b[38;5;241m100\u001b[39m]\n\u001b[1;32m----> 3\u001b[0m \u001b[38;5;28mabs\u001b[39m(lista_numeros)\n",
      "\u001b[1;31mTypeError\u001b[0m: bad operand type for abs(): 'list'"
     ]
    }
   ],
   "source": [
    "lista_numeros = [-5, 3.14, -2.718, 0, -100]\n",
    "\n",
    "abs(lista_numeros)"
   ]
  },
  {
   "cell_type": "code",
   "execution_count": 7,
   "id": "918df653",
   "metadata": {},
   "outputs": [
    {
     "ename": "TypeError",
     "evalue": "bad operand type for abs(): 'list'",
     "output_type": "error",
     "traceback": [
      "\u001b[1;31m---------------------------------------------------------------------------\u001b[0m",
      "\u001b[1;31mTypeError\u001b[0m                                 Traceback (most recent call last)",
      "Cell \u001b[1;32mIn[7], line 3\u001b[0m\n\u001b[0;32m      1\u001b[0m lista_complejos \u001b[38;5;241m=\u001b[39m [\u001b[38;5;241m3\u001b[39m\u001b[38;5;241m+\u001b[39m\u001b[38;5;241m4\u001b[39mj, \u001b[38;5;241m-\u001b[39m\u001b[38;5;241m2\u001b[39m\u001b[38;5;241m-\u001b[39m\u001b[38;5;241m3\u001b[39mj, \u001b[38;5;241m1\u001b[39m\u001b[38;5;241m+\u001b[39m\u001b[38;5;241m1\u001b[39mj]\n\u001b[1;32m----> 3\u001b[0m \u001b[38;5;28mabs\u001b[39m(lista_complejos)\n",
      "\u001b[1;31mTypeError\u001b[0m: bad operand type for abs(): 'list'"
     ]
    }
   ],
   "source": [
    "lista_complejos = [3+4j, -2-3j, 1+1j]\n",
    "\n",
    "abs(lista_complejos)"
   ]
  },
  {
   "cell_type": "markdown",
   "id": "3a338a8e",
   "metadata": {},
   "source": [
    "## _input_"
   ]
  },
  {
   "cell_type": "code",
   "execution_count": 8,
   "id": "94aff812",
   "metadata": {},
   "outputs": [
    {
     "name": "stdout",
     "output_type": "stream",
     "text": [
      "¿Cómo te llamas? xime\n"
     ]
    }
   ],
   "source": [
    "nombre = input(\"¿Cómo te llamas? \")"
   ]
  },
  {
   "cell_type": "code",
   "execution_count": 9,
   "id": "fd54e6b9",
   "metadata": {},
   "outputs": [
    {
     "name": "stdout",
     "output_type": "stream",
     "text": [
      "Introduce números separados por coma: 1,2,68,9\n"
     ]
    }
   ],
   "source": [
    "numeros = input(\"Introduce números separados por coma: \").split(\",\")\n"
   ]
  },
  {
   "cell_type": "markdown",
   "id": "6f73a433",
   "metadata": {},
   "source": [
    "## _max_"
   ]
  },
  {
   "cell_type": "code",
   "execution_count": 11,
   "id": "6f0e72e3",
   "metadata": {},
   "outputs": [
    {
     "data": {
      "text/plain": [
       "90"
      ]
     },
     "execution_count": 11,
     "metadata": {},
     "output_type": "execute_result"
    }
   ],
   "source": [
    "lista_numeros = [45, 23, 78, 12, 90, 34]\n",
    "max(lista_numeros)"
   ]
  },
  {
   "cell_type": "code",
   "execution_count": 12,
   "id": "2a147f84",
   "metadata": {},
   "outputs": [
    {
     "data": {
      "text/plain": [
       "'manzana'"
      ]
     },
     "execution_count": 12,
     "metadata": {},
     "output_type": "execute_result"
    }
   ],
   "source": [
    "lista_strings = [\"manzana\", \"banana\", \"cereza\", \" dátil\"]\n",
    "max(lista_strings)"
   ]
  },
  {
   "cell_type": "code",
   "execution_count": 13,
   "id": "8342e68e",
   "metadata": {},
   "outputs": [
    {
     "data": {
      "text/plain": [
       "(3, 1)"
      ]
     },
     "execution_count": 13,
     "metadata": {},
     "output_type": "execute_result"
    }
   ],
   "source": [
    "lista_tuplas = [(1, 2), (3, 1), (2, 5)]\n",
    "max(lista_tuplas)"
   ]
  },
  {
   "cell_type": "markdown",
   "id": "58b284da",
   "metadata": {},
   "source": [
    "## _min_"
   ]
  },
  {
   "cell_type": "code",
   "execution_count": 14,
   "id": "836aceca",
   "metadata": {},
   "outputs": [
    {
     "ename": "TypeError",
     "evalue": "'<' not supported between instances of 'complex' and 'complex'",
     "output_type": "error",
     "traceback": [
      "\u001b[1;31m---------------------------------------------------------------------------\u001b[0m",
      "\u001b[1;31mTypeError\u001b[0m                                 Traceback (most recent call last)",
      "Cell \u001b[1;32mIn[14], line 2\u001b[0m\n\u001b[0;32m      1\u001b[0m lista_compleja \u001b[38;5;241m=\u001b[39m [\u001b[38;5;241m3\u001b[39m\u001b[38;5;241m+\u001b[39m\u001b[38;5;241m4\u001b[39mj, \u001b[38;5;241m1\u001b[39m\u001b[38;5;241m+\u001b[39m\u001b[38;5;241m2\u001b[39mj, \u001b[38;5;241m5\u001b[39m\u001b[38;5;241m+\u001b[39m\u001b[38;5;241m1\u001b[39mj] \n\u001b[1;32m----> 2\u001b[0m \u001b[38;5;28mmin\u001b[39m(lista_compleja)\n",
      "\u001b[1;31mTypeError\u001b[0m: '<' not supported between instances of 'complex' and 'complex'"
     ]
    }
   ],
   "source": [
    "lista_compleja = [3+4j, 1+2j, 5+1j] \n",
    "min(lista_compleja)"
   ]
  },
  {
   "cell_type": "code",
   "execution_count": 15,
   "id": "8a467c46",
   "metadata": {},
   "outputs": [
    {
     "ename": "ValueError",
     "evalue": "min() arg is an empty sequence",
     "output_type": "error",
     "traceback": [
      "\u001b[1;31m---------------------------------------------------------------------------\u001b[0m",
      "\u001b[1;31mValueError\u001b[0m                                Traceback (most recent call last)",
      "Cell \u001b[1;32mIn[15], line 2\u001b[0m\n\u001b[0;32m      1\u001b[0m vacio\u001b[38;5;241m=\u001b[39m []  \n\u001b[1;32m----> 2\u001b[0m \u001b[38;5;28mmin\u001b[39m(vacio)\n",
      "\u001b[1;31mValueError\u001b[0m: min() arg is an empty sequence"
     ]
    }
   ],
   "source": [
    "vacio= []  \n",
    "min(vacio)"
   ]
  },
  {
   "cell_type": "markdown",
   "id": "ff9270ce",
   "metadata": {},
   "source": [
    "## _pow_"
   ]
  },
  {
   "cell_type": "code",
   "execution_count": 24,
   "id": "7bfccb8d",
   "metadata": {},
   "outputs": [
    {
     "data": {
      "text/plain": [
       "100"
      ]
     },
     "execution_count": 24,
     "metadata": {},
     "output_type": "execute_result"
    }
   ],
   "source": [
    "wtf=10\n",
    "\n",
    "pow(wtf,2)"
   ]
  },
  {
   "cell_type": "code",
   "execution_count": null,
   "id": "2a066cbb",
   "metadata": {},
   "outputs": [],
   "source": [
    "pow"
   ]
  },
  {
   "cell_type": "markdown",
   "id": "81eb45a6",
   "metadata": {},
   "source": [
    "## _reversed_"
   ]
  },
  {
   "cell_type": "code",
   "execution_count": 26,
   "id": "2c06efbf",
   "metadata": {},
   "outputs": [
    {
     "data": {
      "text/plain": [
       "<reversed at 0x25a2f5961d0>"
      ]
     },
     "execution_count": 26,
     "metadata": {},
     "output_type": "execute_result"
    }
   ],
   "source": [
    "cadena = \"glucocorticoides\"\n",
    "reversed(cadena)"
   ]
  },
  {
   "cell_type": "code",
   "execution_count": 27,
   "id": "d516f50d",
   "metadata": {},
   "outputs": [
    {
     "data": {
      "text/plain": [
       "<list_reverseiterator at 0x25a2f594a00>"
      ]
     },
     "execution_count": 27,
     "metadata": {},
     "output_type": "execute_result"
    }
   ],
   "source": [
    "strings = [\"a\", \"b\", \"c\", \"d\", \"e\"]\n",
    "reversed(strings)"
   ]
  },
  {
   "cell_type": "markdown",
   "id": "a18b6bb8",
   "metadata": {},
   "source": [
    "## _round_"
   ]
  },
  {
   "cell_type": "code",
   "execution_count": 32,
   "id": "f29a6998",
   "metadata": {},
   "outputs": [
    {
     "ename": "TypeError",
     "evalue": "type list doesn't define __round__ method",
     "output_type": "error",
     "traceback": [
      "\u001b[1;31m---------------------------------------------------------------------------\u001b[0m",
      "\u001b[1;31mTypeError\u001b[0m                                 Traceback (most recent call last)",
      "Cell \u001b[1;32mIn[32], line 2\u001b[0m\n\u001b[0;32m      1\u001b[0m decimales \u001b[38;5;241m=\u001b[39m [\u001b[38;5;241m3.14159\u001b[39m, \u001b[38;5;241m2.71828\u001b[39m, \u001b[38;5;241m1.41421\u001b[39m, \u001b[38;5;241m0.57721\u001b[39m]\n\u001b[1;32m----> 2\u001b[0m \u001b[38;5;28mround\u001b[39m(decimales,ndigits\u001b[38;5;241m=\u001b[39m\u001b[38;5;28;01mNone\u001b[39;00m)\n",
      "\u001b[1;31mTypeError\u001b[0m: type list doesn't define __round__ method"
     ]
    }
   ],
   "source": [
    "decimales = [3.14159, 2.71828, 1.41421, 0.57721]\n",
    "round(decimales,ndigits=None)"
   ]
  },
  {
   "cell_type": "markdown",
   "id": "f3a205b0",
   "metadata": {},
   "source": [
    "## _sorted_"
   ]
  },
  {
   "cell_type": "code",
   "execution_count": 35,
   "id": "8535c7a0",
   "metadata": {},
   "outputs": [
    {
     "data": {
      "text/plain": [
       "[' dátil', 'banana', 'cereza', 'manzana']"
      ]
     },
     "execution_count": 35,
     "metadata": {},
     "output_type": "execute_result"
    }
   ],
   "source": [
    "strings = [\"manzana\", \"banana\", \"cereza\", \" dátil\"]\n",
    "sorted(strings)"
   ]
  },
  {
   "cell_type": "markdown",
   "id": "b76e2cfb",
   "metadata": {},
   "source": [
    "## _sum_"
   ]
  },
  {
   "cell_type": "code",
   "execution_count": 34,
   "id": "16b4da77",
   "metadata": {},
   "outputs": [
    {
     "data": {
      "text/plain": [
       "11.6"
      ]
     },
     "execution_count": 34,
     "metadata": {},
     "output_type": "execute_result"
    }
   ],
   "source": [
    "floats = [1.5, 2.3, 3.7, 4.1]\n",
    "sum(floats,start=0)"
   ]
  },
  {
   "cell_type": "code",
   "execution_count": null,
   "id": "57d19799",
   "metadata": {},
   "outputs": [],
   "source": []
  }
 ],
 "metadata": {
  "kernelspec": {
   "display_name": "Python 3 (ipykernel)",
   "language": "python",
   "name": "python3"
  },
  "language_info": {
   "codemirror_mode": {
    "name": "ipython",
    "version": 3
   },
   "file_extension": ".py",
   "mimetype": "text/x-python",
   "name": "python",
   "nbconvert_exporter": "python",
   "pygments_lexer": "ipython3",
   "version": "3.11.4"
  }
 },
 "nbformat": 4,
 "nbformat_minor": 5
}
