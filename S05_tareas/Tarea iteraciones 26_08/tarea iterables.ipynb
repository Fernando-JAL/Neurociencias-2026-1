{
 "cells": [
  {
   "cell_type": "markdown",
   "id": "f4f94554-8ab9-4493-be6c-32c35615a0e5",
   "metadata": {},
   "source": [
    "# TAREA\n",
    "##### Hacer un ejemplo de las siguientes built- in functions\n",
    "- all\n",
    "- any\n",
    "- abs\n",
    "- input\n",
    "- max\n",
    "- min\n",
    "- pow\n",
    "- reversed\n",
    "- round\n",
    "- sorted"
   ]
  },
  {
   "cell_type": "code",
   "execution_count": null,
   "id": "ed62b288-8597-40fd-b2e2-5d858ea23551",
   "metadata": {},
   "outputs": [],
   "source": [
    "#all: Devuelve true si todos los elementos son verdaderos. "
   ]
  },
  {
   "cell_type": "code",
   "execution_count": 1,
   "id": "5277b137-9f13-4f4e-b0cd-64a569c773dd",
   "metadata": {},
   "outputs": [
    {
     "name": "stdout",
     "output_type": "stream",
     "text": [
      "True\n"
     ]
    }
   ],
   "source": [
    "numeros = [1, 2, 3, 4]\n",
    "print(all(n > 0 for n in numeros))"
   ]
  },
  {
   "cell_type": "code",
   "execution_count": 2,
   "id": "9a3a4d44-bdef-4b5e-814d-94270fbc67a8",
   "metadata": {},
   "outputs": [],
   "source": [
    "#any: Devuelve True si al menos un elemento es verdadero "
   ]
  },
  {
   "cell_type": "code",
   "execution_count": 3,
   "id": "ae5970d1-2e8c-4a05-9493-5facd23f1cb1",
   "metadata": {},
   "outputs": [
    {
     "name": "stdout",
     "output_type": "stream",
     "text": [
      "True\n"
     ]
    }
   ],
   "source": [
    "valores = [0, 0, 1, 0]\n",
    "print(any(valores))"
   ]
  },
  {
   "cell_type": "code",
   "execution_count": null,
   "id": "a81463dd-9f6c-45b7-a2ed-8a9cd3feae91",
   "metadata": {},
   "outputs": [],
   "source": [
    "#abs: Devuelve el valor absoluto "
   ]
  },
  {
   "cell_type": "code",
   "execution_count": 4,
   "id": "473ac45c-15c5-459b-b46f-9e7e0874a40d",
   "metadata": {},
   "outputs": [
    {
     "name": "stdout",
     "output_type": "stream",
     "text": [
      "480\n"
     ]
    }
   ],
   "source": [
    "print(abs(-480)) "
   ]
  },
  {
   "cell_type": "code",
   "execution_count": null,
   "id": "1353d4b7-77c6-4dba-8df3-7e9eef6d3bad",
   "metadata": {},
   "outputs": [],
   "source": [
    "#input: lee un valor del usuario "
   ]
  },
  {
   "cell_type": "code",
   "execution_count": 5,
   "id": "2d2637f1-e5e9-4357-86a7-16bf1400185b",
   "metadata": {},
   "outputs": [
    {
     "name": "stdin",
     "output_type": "stream",
     "text": [
      "Escribe tu nombre:  Meche\n"
     ]
    },
    {
     "name": "stdout",
     "output_type": "stream",
     "text": [
      "Hola Meche\n"
     ]
    }
   ],
   "source": [
    "nombre = input(\"Escribe tu nombre: \")\n",
    "print(\"Hola\", nombre)"
   ]
  },
  {
   "cell_type": "code",
   "execution_count": 6,
   "id": "f2d2193c-4463-4daf-bdb7-f5335df8a96c",
   "metadata": {},
   "outputs": [],
   "source": [
    "#max: Devuelve el valor máximo "
   ]
  },
  {
   "cell_type": "code",
   "execution_count": 7,
   "id": "1370af48-754d-49f3-9478-a30dc2bb58c4",
   "metadata": {},
   "outputs": [
    {
     "name": "stdout",
     "output_type": "stream",
     "text": [
      "311\n"
     ]
    }
   ],
   "source": [
    "print(max(311, 73, 289, 124))"
   ]
  },
  {
   "cell_type": "code",
   "execution_count": null,
   "id": "ace49a23-bf95-48b7-ad63-05f114d2144e",
   "metadata": {},
   "outputs": [],
   "source": [
    "#min: Devuelve el valor mínimo "
   ]
  },
  {
   "cell_type": "code",
   "execution_count": 8,
   "id": "b3b02c58-701e-4305-bb27-53fcc3029e2d",
   "metadata": {},
   "outputs": [
    {
     "name": "stdout",
     "output_type": "stream",
     "text": [
      "12\n"
     ]
    }
   ],
   "source": [
    "print(min([45, 12, 38, 100]))"
   ]
  },
  {
   "cell_type": "code",
   "execution_count": null,
   "id": "37f1055e-2d75-4333-8081-4a6358ab6125",
   "metadata": {},
   "outputs": [],
   "source": [
    "#pow: Calcula una potencia "
   ]
  },
  {
   "cell_type": "code",
   "execution_count": 9,
   "id": "7b390d7c-59f4-4bc9-ad0c-9bbf9a59323e",
   "metadata": {},
   "outputs": [
    {
     "name": "stdout",
     "output_type": "stream",
     "text": [
      "59049\n"
     ]
    }
   ],
   "source": [
    "print(pow(9, 5))"
   ]
  },
  {
   "cell_type": "code",
   "execution_count": null,
   "id": "8db0e458-6039-4372-b285-2d4dfaed33f5",
   "metadata": {},
   "outputs": [],
   "source": [
    "# reversed: Invierte un iterable "
   ]
  },
  {
   "cell_type": "code",
   "execution_count": 10,
   "id": "2ade785a-c51e-49af-8a23-7c752108af13",
   "metadata": {},
   "outputs": [
    {
     "name": "stdout",
     "output_type": "stream",
     "text": [
      "[36, 28, 52]\n"
     ]
    }
   ],
   "source": [
    "lista = [52, 28, 36]\n",
    "print(list(reversed(lista))) "
   ]
  },
  {
   "cell_type": "code",
   "execution_count": null,
   "id": "063f6e41-72ed-483a-a08c-8fa6f3518841",
   "metadata": {},
   "outputs": [],
   "source": [
    "#round: redondea un número "
   ]
  },
  {
   "cell_type": "code",
   "execution_count": 11,
   "id": "f4b3488f-6e64-4c98-9a9a-eb1bedd10918",
   "metadata": {},
   "outputs": [
    {
     "name": "stdout",
     "output_type": "stream",
     "text": [
      "102.5896\n"
     ]
    }
   ],
   "source": [
    "print(round(102.589631454, 4))"
   ]
  },
  {
   "cell_type": "code",
   "execution_count": null,
   "id": "e8bd4821-700e-4cc8-9378-d3585998646d",
   "metadata": {},
   "outputs": [],
   "source": [
    "#sorted: Ordena un iterable"
   ]
  },
  {
   "cell_type": "code",
   "execution_count": 12,
   "id": "a6b9491d-cb04-4a35-95b9-2b3d537df51b",
   "metadata": {},
   "outputs": [
    {
     "name": "stdout",
     "output_type": "stream",
     "text": [
      "[12, 22, 48, 58]\n"
     ]
    }
   ],
   "source": [
    "print(sorted([58, 12, 48, 22]))"
   ]
  }
 ],
 "metadata": {
  "kernelspec": {
   "display_name": "Python 3 (ipykernel)",
   "language": "python",
   "name": "python3"
  },
  "language_info": {
   "codemirror_mode": {
    "name": "ipython",
    "version": 3
   },
   "file_extension": ".py",
   "mimetype": "text/x-python",
   "name": "python",
   "nbconvert_exporter": "python",
   "pygments_lexer": "ipython3",
   "version": "3.11.1"
  }
 },
 "nbformat": 4,
 "nbformat_minor": 5
}
