{
 "cells": [
  {
   "cell_type": "code",
   "execution_count": null,
   "id": "4464207c-fb77-42a3-8717-d3e1de7de7c2",
   "metadata": {},
   "outputs": [],
   "source": []
  }
 ],
 "metadata": {
  "kernelspec": {
   "display_name": "",
   "name": ""
  },
  "language_info": {
   "name": ""
  }
 },
 "nbformat": 4,
 "nbformat_minor": 5
}
