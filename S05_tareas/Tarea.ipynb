{
 "cells": [
  {
   "cell_type": "markdown",
   "id": "3c70f8eb-c68f-4a60-bb7a-6a3c7970cbf3",
   "metadata": {},
   "source": [
    "# Tarea\n",
    "Hacer un ejemplo de de las siguientes built-in functions\n",
    "\n",
    "- all\n",
    "- any\n",
    "- abs\n",
    "- input\n",
    "- max\n",
    "- min\n",
    "- pow\n",
    "- reversed\n",
    "- round\n",
    "- sorted\n",
    "- sum\n"
   ]
  },
  {
   "cell_type": "code",
   "execution_count": 1,
   "id": "c9b0433c-d894-4501-ad7e-dbde38543f19",
   "metadata": {},
   "outputs": [
    {
     "name": "stdout",
     "output_type": "stream",
     "text": [
      "True\n"
     ]
    }
   ],
   "source": [
    "# all\n",
    "nums = [2, 4, 6, 8]\n",
    "print(all(n > 0 for n in nums))"
   ]
  },
  {
   "cell_type": "code",
   "execution_count": 2,
   "id": "cbfc3653-663d-4927-a9f4-65e0cd5e9030",
   "metadata": {},
   "outputs": [
    {
     "name": "stdout",
     "output_type": "stream",
     "text": [
      "True\n"
     ]
    }
   ],
   "source": [
    "# any\n",
    "print(any(n > 10 for n in [3, 7, 15, 2]))"
   ]
  },
  {
   "cell_type": "code",
   "execution_count": 3,
   "id": "89c42a1f-686c-4ab5-9d72-2aad3b385ff7",
   "metadata": {},
   "outputs": [
    {
     "name": "stdout",
     "output_type": "stream",
     "text": [
      "7\n"
     ]
    }
   ],
   "source": [
    "# abs\n",
    "temperatura = -7\n",
    "print(abs(temperatura))"
   ]
  },
  {
   "cell_type": "code",
   "execution_count": 4,
   "id": "54efac05-be41-4de8-a753-7747144f75ce",
   "metadata": {},
   "outputs": [
    {
     "name": "stdout",
     "output_type": "stream",
     "text": [
      "Rodrigo Salazar es el mero bueno\n"
     ]
    }
   ],
   "source": [
    "# max\n",
    "palabras = [\"perro\", \"gato\", \"hipopótamo\", \"ave\", 'Rodrigo Salazar es el mero bueno']\n",
    "print(max(palabras, key=len))"
   ]
  },
  {
   "cell_type": "code",
   "execution_count": 5,
   "id": "34718f75-7f51-4b83-b778-d9d1a6c67721",
   "metadata": {},
   "outputs": [
    {
     "name": "stdout",
     "output_type": "stream",
     "text": [
      "-10\n"
     ]
    }
   ],
   "source": [
    "# min \n",
    "print(min(-5, -10, 3, 8))"
   ]
  },
  {
   "cell_type": "code",
   "execution_count": 6,
   "id": "e8d1fac6-d712-481f-8562-0bc041419c3a",
   "metadata": {},
   "outputs": [
    {
     "name": "stdout",
     "output_type": "stream",
     "text": [
      "3.0\n"
     ]
    }
   ],
   "source": [
    "#pow\n",
    "print(pow(9, 0.5)) "
   ]
  },
  {
   "cell_type": "code",
   "execution_count": 7,
   "id": "1e924184-af3a-444e-b19a-1c56728c565c",
   "metadata": {},
   "outputs": [
    {
     "name": "stdout",
     "output_type": "stream",
     "text": [
      "nohtyp\n"
     ]
    }
   ],
   "source": [
    "# reversed\n",
    "texto = \"python\"\n",
    "print(\"\".join(reversed(texto)))"
   ]
  },
  {
   "cell_type": "code",
   "execution_count": 8,
   "id": "d66487e3-7980-4a32-b4ef-0db09649aa7d",
   "metadata": {},
   "outputs": [
    {
     "name": "stdout",
     "output_type": "stream",
     "text": [
      "12.7\n"
     ]
    }
   ],
   "source": [
    "# round\n",
    "precio = 12.678\n",
    "print(round(precio, 1))"
   ]
  },
  {
   "cell_type": "code",
   "execution_count": 9,
   "id": "5c3963b0-1876-464c-9242-64cf498810fd",
   "metadata": {},
   "outputs": [
    {
     "name": "stdout",
     "output_type": "stream",
     "text": [
      "['Ana', 'Beatriz', 'Carlos']\n"
     ]
    }
   ],
   "source": [
    "#sorted\n",
    "nombres = [\"Carlos\", \"Ana\", \"Beatriz\"]\n",
    "print(sorted(nombres))"
   ]
  },
  {
   "cell_type": "code",
   "execution_count": 10,
   "id": "f26849c5-0042-44b9-b701-c51a17ad7653",
   "metadata": {},
   "outputs": [
    {
     "name": "stdout",
     "output_type": "stream",
     "text": [
      "34\n"
     ]
    }
   ],
   "source": [
    "#sum\n",
    "calificaciones = [9, 8, 10, 7]\n",
    "print(sum(calificaciones))"
   ]
  },
  {
   "cell_type": "code",
   "execution_count": null,
   "id": "898cd119-af20-4437-91c9-43b4e827112a",
   "metadata": {},
   "outputs": [],
   "source": []
  }
 ],
 "metadata": {
  "kernelspec": {
   "display_name": "Python 3 (ipykernel)",
   "language": "python",
   "name": "python3"
  },
  "language_info": {
   "codemirror_mode": {
    "name": "ipython",
    "version": 3
   },
   "file_extension": ".py",
   "mimetype": "text/x-python",
   "name": "python",
   "nbconvert_exporter": "python",
   "pygments_lexer": "ipython3",
   "version": "3.10.4"
  }
 },
 "nbformat": 4,
 "nbformat_minor": 5
}
