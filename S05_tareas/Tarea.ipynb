{
 "cells": [
  {
   "cell_type": "code",
   "execution_count": 1,
   "id": "fe10bcfc-5009-4173-98d1-9cea48ec04f9",
   "metadata": {},
   "outputs": [],
   "source": [
    "listas = [2,3,4,5,6,7,8,9]"
   ]
  },
  {
   "cell_type": "code",
   "execution_count": 2,
   "id": "f4521dae-3d6f-4139-bf67-58dab99f91a0",
   "metadata": {},
   "outputs": [
    {
     "data": {
      "text/plain": [
       "[2, 3, 4, 5, 6, 7, 8, 9]"
      ]
     },
     "execution_count": 2,
     "metadata": {},
     "output_type": "execute_result"
    }
   ],
   "source": [
    "listas"
   ]
  },
  {
   "cell_type": "code",
   "execution_count": 4,
   "id": "5ded9ed2-207e-484e-98f6-4cf232b5cce7",
   "metadata": {},
   "outputs": [
    {
     "data": {
      "text/plain": [
       "True"
      ]
     },
     "execution_count": 4,
     "metadata": {},
     "output_type": "execute_result"
    }
   ],
   "source": [
    "all(listas) #devuevle true si los elementos son \"reales\" o \"verdaderos\", devuelve false si son elementos como 0, listas vacías, \n",
    "#tuplas vacías o cadenas vacías"
   ]
  },
  {
   "cell_type": "code",
   "execution_count": 5,
   "id": "d0051a23-bfdd-427f-af93-e31606b09fc1",
   "metadata": {},
   "outputs": [
    {
     "data": {
      "text/plain": [
       "True"
      ]
     },
     "execution_count": 5,
     "metadata": {},
     "output_type": "execute_result"
    }
   ],
   "source": [
    "any(listas) #lo mismo que lo anterior, pero si almenos un elemento es \"verdadero\" devuelve true"
   ]
  },
  {
   "cell_type": "code",
   "execution_count": 9,
   "id": "69897d41-7cf9-4508-9edf-9ad1cf8eb07f",
   "metadata": {},
   "outputs": [
    {
     "data": {
      "text/plain": [
       "198.5"
      ]
     },
     "execution_count": 9,
     "metadata": {},
     "output_type": "execute_result"
    }
   ],
   "source": [
    "num = -198.5\n",
    "\n",
    "abs(num)#retorna el valor absoluto de un número, ósea simepre uno positivo (distancia a 0)"
   ]
  },
  {
   "cell_type": "code",
   "execution_count": 21,
   "id": "740f3b67-b844-4d6c-80a4-7c9718f0bea7",
   "metadata": {},
   "outputs": [
    {
     "name": "stdin",
     "output_type": "stream",
     "text": [
      "Pon un número: yuli\n"
     ]
    },
    {
     "name": "stdout",
     "output_type": "stream",
     "text": [
      "yuli\n"
     ]
    }
   ],
   "source": [
    "num=input(\"Pon un número:\")#Espera el input (que escriba algo) del usuario, el dato es en forma de cadena\n",
    "\n",
    "print(num)"
   ]
  },
  {
   "cell_type": "code",
   "execution_count": 14,
   "id": "f8846273-33ac-457b-b215-7f18c66ed034",
   "metadata": {},
   "outputs": [
    {
     "data": {
      "text/plain": [
       "9"
      ]
     },
     "execution_count": 14,
     "metadata": {},
     "output_type": "execute_result"
    }
   ],
   "source": [
    "max(listas) #el valor más máximo dentro de un elemento iterable"
   ]
  },
  {
   "cell_type": "code",
   "execution_count": 15,
   "id": "908411ce-b920-4f58-b167-9bef4f1410ce",
   "metadata": {},
   "outputs": [
    {
     "data": {
      "text/plain": [
       "2"
      ]
     },
     "execution_count": 15,
     "metadata": {},
     "output_type": "execute_result"
    }
   ],
   "source": [
    "min(listas) #el valor mínimo dentro de un elemento iterable"
   ]
  },
  {
   "cell_type": "code",
   "execution_count": 38,
   "id": "b6adfb75-e29c-4cbc-914c-1b57bde1d985",
   "metadata": {},
   "outputs": [
    {
     "data": {
      "text/plain": [
       "27"
      ]
     },
     "execution_count": 38,
     "metadata": {},
     "output_type": "execute_result"
    }
   ],
   "source": [
    "pow(3,3) #es de la forma pow(base, exponente) y retorna el valor de esa base elevada a ese exponente"
   ]
  },
  {
   "cell_type": "code",
   "execution_count": 20,
   "id": "5573eade-7b34-4993-ac82-8fe421ad9e3a",
   "metadata": {},
   "outputs": [
    {
     "name": "stdout",
     "output_type": "stream",
     "text": [
      "[9, 8, 7, 6, 5, 4, 3, 2]\n"
     ]
    }
   ],
   "source": [
    "print(list(reversed(listas)))"
   ]
  },
  {
   "cell_type": "code",
   "execution_count": 22,
   "id": "c5c87d05-109d-479f-a843-f05d6d3ef030",
   "metadata": {},
   "outputs": [
    {
     "data": {
      "text/plain": [
       "4.0"
      ]
     },
     "execution_count": 22,
     "metadata": {},
     "output_type": "execute_result"
    }
   ],
   "source": [
    "round(4.35, 0) #en la forma round(número a redondear, decimales a redondear). Redondea"
   ]
  },
  {
   "cell_type": "code",
   "execution_count": 24,
   "id": "03f5656a-f2e6-4378-a2c0-640f957828ed",
   "metadata": {},
   "outputs": [
    {
     "data": {
      "text/plain": [
       "[2, 3, 4, 5, 6, 7, 8, 9]"
      ]
     },
     "execution_count": 24,
     "metadata": {},
     "output_type": "execute_result"
    }
   ],
   "source": [
    "nueva_list = sorted(listas) #Ordena la lista o elemento iterable y devuelve ese valor. No modifica el valor original.\n",
    "nueva_list"
   ]
  },
  {
   "cell_type": "code",
   "execution_count": 25,
   "id": "92fa1294-3b87-46f8-9d47-24e27fb05d7c",
   "metadata": {},
   "outputs": [
    {
     "data": {
      "text/plain": [
       "44"
      ]
     },
     "execution_count": 25,
     "metadata": {},
     "output_type": "execute_result"
    }
   ],
   "source": [
    "sum(listas) #Suma los elementos de una lista"
   ]
  },
  {
   "cell_type": "code",
   "execution_count": 37,
   "id": "22ac2556-2e47-455e-b988-bf254c7e86a5",
   "metadata": {},
   "outputs": [
    {
     "data": {
      "text/plain": [
       "17.32"
      ]
     },
     "execution_count": 37,
     "metadata": {},
     "output_type": "execute_result"
    }
   ],
   "source": [
    "i_lista = (2,3,5,3,4.32) #Suma los números de un elemento iterable\n",
    "sum(i_lista)"
   ]
  },
  {
   "cell_type": "code",
   "execution_count": null,
   "id": "6565e991-5c4f-4dd0-b7bf-c48ad484c6a3",
   "metadata": {},
   "outputs": [],
   "source": []
  }
 ],
 "metadata": {
  "kernelspec": {
   "display_name": "Python 3 (ipykernel)",
   "language": "python",
   "name": "python3"
  },
  "language_info": {
   "codemirror_mode": {
    "name": "ipython",
    "version": 3
   },
   "file_extension": ".py",
   "mimetype": "text/x-python",
   "name": "python",
   "nbconvert_exporter": "python",
   "pygments_lexer": "ipython3",
   "version": "3.10.4"
  }
 },
 "nbformat": 4,
 "nbformat_minor": 5
}
