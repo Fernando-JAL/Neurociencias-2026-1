{
 "cells": [
  {
   "cell_type": "code",
   "execution_count": 7,
   "id": "b4716be8-d8bd-4b05-99ef-e6d274cabc47",
   "metadata": {},
   "outputs": [],
   "source": [
    "import pandas as pd\n",
    "import numpy as np    "
   ]
  },
  {
   "cell_type": "markdown",
   "id": "e7e669f8-36b1-4fe9-bac5-4c3cd1dfc604",
   "metadata": {},
   "source": [
    "# CONCATENAR"
   ]
  },
  {
   "cell_type": "code",
   "execution_count": 25,
   "id": "373b3433-210a-4ed5-bf55-f1636862959a",
   "metadata": {},
   "outputs": [
    {
     "data": {
      "text/html": [
       "<div>\n",
       "<style scoped>\n",
       "    .dataframe tbody tr th:only-of-type {\n",
       "        vertical-align: middle;\n",
       "    }\n",
       "\n",
       "    .dataframe tbody tr th {\n",
       "        vertical-align: top;\n",
       "    }\n",
       "\n",
       "    .dataframe thead th {\n",
       "        text-align: right;\n",
       "    }\n",
       "</style>\n",
       "<table border=\"1\" class=\"dataframe\">\n",
       "  <thead>\n",
       "    <tr style=\"text-align: right;\">\n",
       "      <th></th>\n",
       "      <th>Nombre</th>\n",
       "      <th>Edad</th>\n",
       "    </tr>\n",
       "  </thead>\n",
       "  <tbody>\n",
       "    <tr>\n",
       "      <th>0</th>\n",
       "      <td>Martin</td>\n",
       "      <td>17</td>\n",
       "    </tr>\n",
       "    <tr>\n",
       "      <th>1</th>\n",
       "      <td>James</td>\n",
       "      <td>20</td>\n",
       "    </tr>\n",
       "    <tr>\n",
       "      <th>2</th>\n",
       "      <td>Keonho</td>\n",
       "      <td>16</td>\n",
       "    </tr>\n",
       "    <tr>\n",
       "      <th>3</th>\n",
       "      <td>RM</td>\n",
       "      <td>30</td>\n",
       "    </tr>\n",
       "    <tr>\n",
       "      <th>4</th>\n",
       "      <td>JK</td>\n",
       "      <td>27</td>\n",
       "    </tr>\n",
       "    <tr>\n",
       "      <th>5</th>\n",
       "      <td>Hobi</td>\n",
       "      <td>28</td>\n",
       "    </tr>\n",
       "  </tbody>\n",
       "</table>\n",
       "</div>"
      ],
      "text/plain": [
       "   Nombre Edad\n",
       "0  Martin   17\n",
       "1   James   20\n",
       "2  Keonho   16\n",
       "3      RM   30\n",
       "4      JK   27\n",
       "5    Hobi   28"
      ]
     },
     "execution_count": 25,
     "metadata": {},
     "output_type": "execute_result"
    }
   ],
   "source": [
    "##Ejercicio 1\n",
    "def ex1_concat_same_structure(data1, data2):\n",
    "    d1=pd.DataFrame( data1)\n",
    "    d2=pd.DataFrame( data2)\n",
    "    return(pd.concat([d1, d2], ignore_index=True))\n",
    "ex1_concat_same_structure(data1=({\"Nombre\":[\"Martin\",\"James\",\"Keonho\"], \"Edad\":[\"17\",\"20\",\"16\"]}),\n",
    "                          data2=({\"Nombre\":[\"RM\",\"JK\",\"Hobi\"], \"Edad\":[\"30\",\"27\",\"28\"]}))"
   ]
  },
  {
   "cell_type": "code",
   "execution_count": 38,
   "id": "9d81dd34-50f8-4ae1-8630-165e3a2f63de",
   "metadata": {},
   "outputs": [
    {
     "data": {
      "text/html": [
       "<div>\n",
       "<style scoped>\n",
       "    .dataframe tbody tr th:only-of-type {\n",
       "        vertical-align: middle;\n",
       "    }\n",
       "\n",
       "    .dataframe tbody tr th {\n",
       "        vertical-align: top;\n",
       "    }\n",
       "\n",
       "    .dataframe thead th {\n",
       "        text-align: right;\n",
       "    }\n",
       "</style>\n",
       "<table border=\"1\" class=\"dataframe\">\n",
       "  <thead>\n",
       "    <tr style=\"text-align: right;\">\n",
       "      <th></th>\n",
       "      <th>ventas</th>\n",
       "      <th>meses</th>\n",
       "    </tr>\n",
       "  </thead>\n",
       "  <tbody>\n",
       "    <tr>\n",
       "      <th>0</th>\n",
       "      <td>20</td>\n",
       "      <td>Enero</td>\n",
       "    </tr>\n",
       "    <tr>\n",
       "      <th>1</th>\n",
       "      <td>30</td>\n",
       "      <td>Febrero</td>\n",
       "    </tr>\n",
       "    <tr>\n",
       "      <th>2</th>\n",
       "      <td>25</td>\n",
       "      <td>Marzo</td>\n",
       "    </tr>\n",
       "    <tr>\n",
       "      <th>3</th>\n",
       "      <td>40</td>\n",
       "      <td>Abril</td>\n",
       "    </tr>\n",
       "    <tr>\n",
       "      <th>4</th>\n",
       "      <td>35</td>\n",
       "      <td>Mayo</td>\n",
       "    </tr>\n",
       "  </tbody>\n",
       "</table>\n",
       "</div>"
      ],
      "text/plain": [
       "  ventas    meses\n",
       "0     20    Enero\n",
       "1     30  Febrero\n",
       "2     25    Marzo\n",
       "3     40    Abril\n",
       "4     35     Mayo"
      ]
     },
     "execution_count": 38,
     "metadata": {},
     "output_type": "execute_result"
    }
   ],
   "source": [
    "#Ejercicio 2\n",
    "def ex2_concat_with_month_column(mes):\n",
    "    ventas=pd.DataFrame({\"ventas\":[\"20\",\"30\",\"25\",\"40\",\"35\"]})\n",
    "    mes=pd.DataFrame(mes)\n",
    "    return(ventas.join(mes))\n",
    "ex2_concat_with_month_column({\"meses\":[\"Enero\",\"Febrero\",\"Marzo\",\"Abril\",\"Mayo\"]})\n"
   ]
  },
  {
   "cell_type": "code",
   "execution_count": 28,
   "id": "4ff15dde-0402-4ab6-89da-0c1d1b2a0c31",
   "metadata": {},
   "outputs": [
    {
     "name": "stdout",
     "output_type": "stream",
     "text": [
      "  Productos Ventas Descuento\n",
      "0         1     50       15%\n",
      "1         2     40       15%\n",
      "2         3     35         0\n",
      "3         4     20       10%\n",
      "4         5     25         0\n"
     ]
    }
   ],
   "source": [
    "#Ejercicio3\n",
    "def ex3_concat_diff_columns_fillna():\n",
    "    ventas=pd.DataFrame({\"Productos\":[\"1\",\"2\",\"3\",\"4\",\"5\"], \"Ventas\":[\"50\",\"40\", \"35\", \"20\",\"25\" ]})\n",
    "    productos= pd.DataFrame({\"Productos\":[\"1\",\"2\",\"4\"], \"Descuento\":[\"15%\",\"15%\",\"10%\"]})\n",
    "    m=pd.merge(ventas,productos, on=[\"Productos\"], how=\"outer\")\n",
    "    print(m.fillna(0))\n",
    "ex3_concat_diff_columns_fillna()"
   ]
  },
  {
   "cell_type": "code",
   "execution_count": 46,
   "id": "57875a99-0da5-4ef4-a0ec-abb3b585d99d",
   "metadata": {},
   "outputs": [
    {
     "name": "stdout",
     "output_type": "stream",
     "text": [
      "  Alumno  Nota\n",
      "0     A1     9\n",
      "1     A2     9\n",
      "2     A3     8\n",
      "3     B1     9\n",
      "4     B2     8\n",
      "5     B3    10\n",
      "6     C1    10\n",
      "7     C2     9\n",
      "8     C3     9\n"
     ]
    }
   ],
   "source": [
    "#Eejercicio 4\n",
    "def ex4_concat_three_groups():\n",
    "    g_1 = pd.DataFrame({\"Alumno\": [\"A1\",\"A2\",\"A3\"], \"Nota\": [9, 9, 8] })\n",
    "    g_2 = pd.DataFrame({\"Alumno\": [\"B1\",\"B2\",\"B3\"], \"Nota\": [9, 8, 10] })\n",
    "    g_3 = pd.DataFrame({ \"Alumno\": [\"C1\",\"C2\",\"C3\"], \"Nota\": [10, 9, 9]})\n",
    "  \n",
    "    pint(pd.concat([g_1,g_2,g_3], ignore_index=True) )\n",
    "ex4_concat_three_groups()"
   ]
  },
  {
   "cell_type": "markdown",
   "id": "568918c3-abcf-4e79-81d1-88b59eafe5a4",
   "metadata": {},
   "source": [
    "# LISTAS"
   ]
  },
  {
   "cell_type": "code",
   "execution_count": null,
   "id": "c4aabb63-dbf2-4c13-a892-3c6ab489d028",
   "metadata": {},
   "outputs": [],
   "source": [
    "#Ejercicio 5\n",
    "def ex5_remove_duplicates_preserve_order(lista):\n",
    "    lista_nueva=[]\n",
    "    for  caracter in lista:\n",
    "       if caracter not in lista_nueva:\n",
    "           lista_nueva.append(caracter)   \n",
    "    return lista_nueva\n",
    "ex5_remove_duplicates_preserve_order(list(\"parangaricutirimicuaro\"))  "
   ]
  },
  {
   "cell_type": "code",
   "execution_count": null,
   "id": "7e8ebbcd-d991-456c-a399-090bb4b67e8e",
   "metadata": {},
   "outputs": [],
   "source": [
    "#Ejercicio 6\n",
    "def ex6_sort_tuples_by_second_element(tuplas):\n",
    "    lista_ordenada = sorted(tuplas, key=lambda x:x[1])\n",
    "    return lista_ordenada\n",
    "ex6_sort_tuples_by_second_element([(\"a\", 3), (\"b\", 1), (\"c\", 2)])"
   ]
  },
  {
   "cell_type": "code",
   "execution_count": 81,
   "id": "ddde9530-304d-41eb-8b89-25e8e50c01aa",
   "metadata": {},
   "outputs": [
    {
     "data": {
      "text/plain": [
       "[1, 7, 49, 343, 2401]"
      ]
     },
     "execution_count": 81,
     "metadata": {},
     "output_type": "execute_result"
    }
   ],
   "source": [
    "#Ejercicio 7\n",
    "def ex7_first_n_multiples_of_7(n):\n",
    "    múltiplos = [7**x for x in range(n)]\n",
    "    return múltiplos\n",
    "ex7_first_n_multiples_of_7(5)  \n"
   ]
  },
  {
   "cell_type": "code",
   "execution_count": 113,
   "id": "2dfc9d1b-ca14-460f-8cf2-b76c8f32dc5b",
   "metadata": {},
   "outputs": [
    {
     "data": {
      "text/plain": [
       "['ava', 'reconocer', 'ilili']"
      ]
     },
     "execution_count": 113,
     "metadata": {},
     "output_type": "execute_result"
    }
   ],
   "source": [
    "#Ejercicio 8\n",
    "def ex8_filter_palindromes(cadenas):\n",
    "    palíndromos=[]\n",
    "    for elemento in cadenas:\n",
    "         if elemento==elemento[::-1]:\n",
    "             palíndromos.append(elemento)\n",
    "    return palíndromos\n",
    "ex8_filter_palindromes([\"Hola\",\"babosos\",\"mi\", \"ava\", \"reconocer\",\"azul\",\"ilili\"])\n",
    " \n"
   ]
  },
  {
   "cell_type": "markdown",
   "id": "7b478bd3-2c91-45b7-a534-bf8ebb3377ec",
   "metadata": {},
   "source": [
    "# Conjuntos"
   ]
  },
  {
   "cell_type": "code",
   "execution_count": 100,
   "id": "645b6f91-2886-47e5-8f09-eb72bb2721a8",
   "metadata": {},
   "outputs": [
    {
     "data": {
      "text/plain": [
       "([1, 2], [3])"
      ]
     },
     "execution_count": 100,
     "metadata": {},
     "output_type": "execute_result"
    }
   ],
   "source": [
    "#Ejercicio 9\n",
    "def ex9_set_intersection_and_difference(set_a, set_b):\n",
    "    interseccion=[]\n",
    "    diferencia=[]\n",
    "    for elemento in set_a:\n",
    "       if elemento in set_b:\n",
    "           interseccion.append(elemento)\n",
    "       else:\n",
    "           if elemento not in set_b:\n",
    "               diferencia.append(elemento)\n",
    "    return(interseccion,diferencia)\n",
    "ex9_set_intersection_and_difference({1,2,3},{1,2,4})     \n"
   ]
  },
  {
   "cell_type": "code",
   "execution_count": 109,
   "id": "61d05ad5-405e-4cc5-a94e-86d2e3fd1bb9",
   "metadata": {},
   "outputs": [
    {
     "data": {
      "text/plain": [
       "True"
      ]
     },
     "execution_count": 109,
     "metadata": {},
     "output_type": "execute_result"
    }
   ],
   "source": [
    "#Ejercicio 10\n",
    "def ex10_is_subset(set_a, set_b):\n",
    "   return set_a.issubset(set_b)\n",
    "ex10_is_subset({1,2,3},{1,2,3,4,5,6})"
   ]
  },
  {
   "cell_type": "code",
   "execution_count": 11,
   "id": "2bc25dac-9642-4ddf-9a93-cc101013f279",
   "metadata": {},
   "outputs": [
    {
     "data": {
      "text/plain": [
       "11"
      ]
     },
     "execution_count": 11,
     "metadata": {},
     "output_type": "execute_result"
    }
   ],
   "source": [
    "#Ejericio 11\n",
    "def ex11_count_unique_elements(lst):\n",
    "    set_l=set(lst)\n",
    "    return(len(set_l))\n",
    "ex11_count_unique_elements(list(\"parangaricutirimicuaro\"))"
   ]
  },
  {
   "cell_type": "code",
   "execution_count": 78,
   "id": "d7902010-3a3d-4aba-9462-14f430ba3295",
   "metadata": {},
   "outputs": [
    {
     "data": {
      "text/plain": [
       "{'Hola', 'a', 'mundo', 'todos'}"
      ]
     },
     "execution_count": 78,
     "metadata": {},
     "output_type": "execute_result"
    }
   ],
   "source": [
    "#Ejercicio 12\n",
    "def ex12_unique_words_from_phrases(phrases):\n",
    "    b=set()\n",
    "    for frase in phrases:\n",
    "        for palabra in  frase.split():\n",
    "         b.add(palabra)\n",
    "    return(b)\n",
    "    \n",
    "         \n",
    "ex12_unique_words_from_phrases([\"Hola mundo\", \"Hola a todos\", \"Hola mundo a todos\"])"
   ]
  },
  {
   "cell_type": "markdown",
   "id": "33baafde-2af7-4b6e-a2af-75bd3604f671",
   "metadata": {},
   "source": [
    "# Tuplas"
   ]
  },
  {
   "cell_type": "code",
   "execution_count": 6,
   "id": "5e5def0e-7525-4ff0-916e-2aecca2b98b5",
   "metadata": {},
   "outputs": [
    {
     "data": {
      "text/plain": [
       "('Bibi', 21)"
      ]
     },
     "execution_count": 6,
     "metadata": {},
     "output_type": "execute_result"
    }
   ],
   "source": [
    "#Ejercicio 13\n",
    "def ex13_oldest_person(tuple_list):\n",
    "    return (max(tuple_list, key=lambda x:x[1]))\n",
    "ex13_oldest_person([(\"Mon\", 20), (\"Bibi\", 21), (\"Pepe\", 16)])"
   ]
  },
  {
   "cell_type": "code",
   "execution_count": 19,
   "id": "cf69a221-39c1-47a7-a9be-e94d3ea7576a",
   "metadata": {},
   "outputs": [
    {
     "data": {
      "text/plain": [
       "((1, 2), (3, 4), (5, 6))"
      ]
     },
     "execution_count": 19,
     "metadata": {},
     "output_type": "execute_result"
    }
   ],
   "source": [
    "#Ejercicio 14\n",
    "def ex14_convert_list_of_lists_to_tuples(list_of_lists):\n",
    "    return( tuple(tuple(lista) for lista in list_of_lists))\n",
    "ex14_convert_list_of_lists_to_tuples([[1, 2], [3, 4], [5, 6]])"
   ]
  },
  {
   "cell_type": "code",
   "execution_count": 27,
   "id": "78d96b54-f068-4ec4-b8ea-6a8c5a786bec",
   "metadata": {},
   "outputs": [
    {
     "data": {
      "text/plain": [
       "6"
      ]
     },
     "execution_count": 27,
     "metadata": {},
     "output_type": "execute_result"
    }
   ],
   "source": [
    "#Ejericio 15\n",
    "def ex15_sum_of_tuple_abc(tupla):\n",
    "    return ((int(sum (set(tupla)))))\n",
    "(ex15_sum_of_tuple_abc([1,2,3]))"
   ]
  },
  {
   "cell_type": "code",
   "execution_count": 40,
   "id": "39c0f1e3-a11f-46c9-a4f9-5326bbf75206",
   "metadata": {},
   "outputs": [
    {
     "data": {
      "text/plain": [
       "[['lentejas', 20], ['pasta', 24], ['frijol', 32]]"
      ]
     },
     "execution_count": 40,
     "metadata": {},
     "output_type": "execute_result"
    }
   ],
   "source": [
    "#Ejercicio 16\n",
    "def ex16_sort_product_price(lista_de_tuplas):\n",
    "    return(sorted(lista_de_tuplas, key=lambda x:x[1])) #sorted funciona con cualquier iterable\n",
    "ex16_sort_product_price([[\"pasta\", 24], [\"frijol\",32], [\"lentejas\",20]])"
   ]
  },
  {
   "cell_type": "markdown",
   "id": "584894ec-255a-453e-819d-6f86b04774ed",
   "metadata": {},
   "source": [
    "# Diccionarios"
   ]
  },
  {
   "cell_type": "code",
   "execution_count": 64,
   "id": "181737cd-931c-4e57-9401-6cfbab66b440",
   "metadata": {},
   "outputs": [
    {
     "data": {
      "text/plain": [
       "{'P': 1,\n",
       " 'a': 4,\n",
       " 'r': 4,\n",
       " 'n': 1,\n",
       " 'g': 1,\n",
       " 'i': 4,\n",
       " 'c': 2,\n",
       " 'u': 2,\n",
       " 't': 1,\n",
       " 'm': 1,\n",
       " 'o': 1}"
      ]
     },
     "execution_count": 64,
     "metadata": {},
     "output_type": "execute_result"
    }
   ],
   "source": [
    "#Ejericicio 17\n",
    "def ex17_char_frequency(s):\n",
    "    diccionario={}\n",
    "    for caracter in s:\n",
    "        if caracter in diccionario:\n",
    "           diccionario[caracter]+=1\n",
    "        else:\n",
    "            diccionario[caracter]=1\n",
    "    return diccionario\n",
    "ex17_char_frequency(\"Parangaricutirimicuaro\")"
   ]
  },
  {
   "cell_type": "code",
   "execution_count": 117,
   "id": "8b691901-2888-4cc9-9482-0bfeb15f7d88",
   "metadata": {},
   "outputs": [
    {
     "data": {
      "text/plain": [
       "('María', 10)"
      ]
     },
     "execution_count": 117,
     "metadata": {},
     "output_type": "execute_result"
    }
   ],
   "source": [
    "#Ejericio 18\n",
    "def ex18_best_student(grades_dict):\n",
    " valor=max(grades_dict.values())\n",
    " for k in grades_dict:\n",
    "    if grades_dict[k]==valor:\n",
    "        return(k,valor)\n",
    "    \n",
    "ex18_best_student({\"Pablo\": 7, \"Alejandro\":9, \"Roberto\":7, \"María\":10})"
   ]
  },
  {
   "cell_type": "code",
   "execution_count": 128,
   "id": "68363e58-ab8c-4967-8a44-73b412d4888f",
   "metadata": {},
   "outputs": [
    {
     "data": {
      "text/plain": [
       "{7: 'Roberto', 9: 'Alejandro', 10: 'María'}"
      ]
     },
     "execution_count": 128,
     "metadata": {},
     "output_type": "execute_result"
    }
   ],
   "source": [
    "#Ejercicio 19\n",
    "def ex19_invert_dictionary(d):\n",
    "    new={}\n",
    "    for k, v in d.items():\n",
    "        new[v]=k\n",
    "    return new\n",
    "ex19_invert_dictionary({\"Pablo\": 7, \"Alejandro\":9, \"Roberto\":7, \"María\":10})"
   ]
  },
  {
   "cell_type": "code",
   "execution_count": 141,
   "id": "d20ce4c1-e40e-4c3b-ab0f-794c86a1ec71",
   "metadata": {},
   "outputs": [
    {
     "data": {
      "text/plain": [
       "{'Pablo': 14,\n",
       " 'Alejandro': 9,\n",
       " 'Roberto': 14,\n",
       " 'María': 10,\n",
       " 'Isabel': 9,\n",
       " 'Mari': 10}"
      ]
     },
     "execution_count": 141,
     "metadata": {},
     "output_type": "execute_result"
    }
   ],
   "source": [
    "#Ejercicio 20\n",
    "def ex20_merge_dicts_sum_values(d1, d2):\n",
    "    for key, value in d2.items():\n",
    "        if key in d1:\n",
    "            d1[key] += value\n",
    "        else:\n",
    "            d1[key] = value\n",
    "    return d1\n",
    "ex20_merge_dicts_sum_values({\"Pablo\": 7, \"Alejandro\":9, \"Roberto\":7, \"María\":10}, {\"Pablo\": 7, \"Isabel\":9, \"Roberto\":7, \"Mari\":10})"
   ]
  },
  {
   "cell_type": "markdown",
   "id": "80977e0d-5071-4b05-a44a-a53406c59d14",
   "metadata": {},
   "source": [
    "# Numpy"
   ]
  },
  {
   "cell_type": "code",
   "execution_count": 142,
   "id": "9c65beb7-2a79-475a-a7c7-23992b77a255",
   "metadata": {},
   "outputs": [],
   "source": [
    "import numpy as np"
   ]
  },
  {
   "cell_type": "code",
   "execution_count": 163,
   "id": "95e50ae8-96a9-40e3-a514-c82b2dc3dab6",
   "metadata": {},
   "outputs": [
    {
     "data": {
      "text/plain": [
       "array([0., 0., 0., 0., 5., 0., 0., 0., 0., 0.])"
      ]
     },
     "execution_count": 163,
     "metadata": {},
     "output_type": "execute_result"
    }
   ],
   "source": [
    "#Ejercico 21\n",
    "def ex21_numpy_array_set_fifth():\n",
    "    b=np.zeros(10)\n",
    "    b[4]=5\n",
    "    return b\n",
    "ex21_numpy_array_set_fifth()"
   ]
  },
  {
   "cell_type": "code",
   "execution_count": 166,
   "id": "ae580f59-9ea7-4e83-b193-e56a92787f45",
   "metadata": {},
   "outputs": [
    {
     "data": {
      "text/plain": [
       "array([[3.80759524, 2.93161202, 5.62811419],\n",
       "       [7.54751402, 3.13690068, 4.83660772],\n",
       "       [1.6593343 , 4.25596421, 4.76660737]])"
      ]
     },
     "execution_count": 166,
     "metadata": {},
     "output_type": "execute_result"
    }
   ],
   "source": [
    "def ex22_numpy_matrix_3x3():\n",
    "    matriz=np.random.uniform(0,8, size=[3,3])\n",
    "    return matriz\n",
    "ex22_numpy_matrix_3x3()"
   ]
  },
  {
   "cell_type": "code",
   "execution_count": 164,
   "id": "7cd63a4e-15c2-486f-9af2-03ac7192c1e6",
   "metadata": {},
   "outputs": [
    {
     "data": {
      "text/plain": [
       "array([[0.47718295, 5.12274454, 2.82530697],\n",
       "       [7.2858175 , 7.83368745, 0.98186892],\n",
       "       [0.55652174, 7.55182019, 2.07828097]])"
      ]
     },
     "execution_count": 164,
     "metadata": {},
     "output_type": "execute_result"
    }
   ],
   "source": [
    "#Ejercicio 22\n",
    "def ex23_numpy_statistics():\n",
    "    array= np.array(20)\n",
    "    \"\"\"Ejercicio 23:\n",
    "    Genera un array aleatorio de 20 enteros y calcula la media, mediana y desviación estándar.\n",
    "    Retorna una tupla (media, mediana, desviación estándar).\n",
    "    \"\"\"\n",
    "    pass"
   ]
  },
  {
   "cell_type": "code",
   "execution_count": 167,
   "id": "27250b51-1003-4128-b3cb-90df69725b48",
   "metadata": {},
   "outputs": [
    {
     "data": {
      "text/plain": [
       "array(20)"
      ]
     },
     "execution_count": 167,
     "metadata": {},
     "output_type": "execute_result"
    }
   ],
   "source": [
    "np.array(20)"
   ]
  },
  {
   "cell_type": "code",
   "execution_count": null,
   "id": "d7efd896-b284-417a-9625-5baa07f47a6e",
   "metadata": {},
   "outputs": [],
   "source": []
  },
  {
   "cell_type": "code",
   "execution_count": null,
   "id": "84735691-9516-447d-930f-260889a39c2d",
   "metadata": {},
   "outputs": [],
   "source": []
  },
  {
   "cell_type": "code",
   "execution_count": null,
   "id": "505dd1a5-f71a-423f-98d9-67515aa96eed",
   "metadata": {},
   "outputs": [],
   "source": []
  }
 ],
 "metadata": {
  "kernelspec": {
   "display_name": "Python 3 (ipykernel)",
   "language": "python",
   "name": "python3"
  },
  "language_info": {
   "codemirror_mode": {
    "name": "ipython",
    "version": 3
   },
   "file_extension": ".py",
   "mimetype": "text/x-python",
   "name": "python",
   "nbconvert_exporter": "python",
   "pygments_lexer": "ipython3",
   "version": "3.10.4"
  }
 },
 "nbformat": 4,
 "nbformat_minor": 5
}
