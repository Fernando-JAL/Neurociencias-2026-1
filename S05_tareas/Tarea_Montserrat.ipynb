{
 "cells": [
  {
   "cell_type": "code",
   "execution_count": 7,
   "id": "b4716be8-d8bd-4b05-99ef-e6d274cabc47",
   "metadata": {},
   "outputs": [],
   "source": [
    "import pandas as pd\n",
    "import numpy as np    "
   ]
  },
  {
   "cell_type": "markdown",
   "id": "e7e669f8-36b1-4fe9-bac5-4c3cd1dfc604",
   "metadata": {},
   "source": [
    "# CONCATENAR"
   ]
  },
  {
   "cell_type": "code",
   "execution_count": 25,
   "id": "373b3433-210a-4ed5-bf55-f1636862959a",
   "metadata": {},
   "outputs": [
    {
     "data": {
      "text/html": [
       "<div>\n",
       "<style scoped>\n",
       "    .dataframe tbody tr th:only-of-type {\n",
       "        vertical-align: middle;\n",
       "    }\n",
       "\n",
       "    .dataframe tbody tr th {\n",
       "        vertical-align: top;\n",
       "    }\n",
       "\n",
       "    .dataframe thead th {\n",
       "        text-align: right;\n",
       "    }\n",
       "</style>\n",
       "<table border=\"1\" class=\"dataframe\">\n",
       "  <thead>\n",
       "    <tr style=\"text-align: right;\">\n",
       "      <th></th>\n",
       "      <th>Nombre</th>\n",
       "      <th>Edad</th>\n",
       "    </tr>\n",
       "  </thead>\n",
       "  <tbody>\n",
       "    <tr>\n",
       "      <th>0</th>\n",
       "      <td>Martin</td>\n",
       "      <td>17</td>\n",
       "    </tr>\n",
       "    <tr>\n",
       "      <th>1</th>\n",
       "      <td>James</td>\n",
       "      <td>20</td>\n",
       "    </tr>\n",
       "    <tr>\n",
       "      <th>2</th>\n",
       "      <td>Keonho</td>\n",
       "      <td>16</td>\n",
       "    </tr>\n",
       "    <tr>\n",
       "      <th>3</th>\n",
       "      <td>RM</td>\n",
       "      <td>30</td>\n",
       "    </tr>\n",
       "    <tr>\n",
       "      <th>4</th>\n",
       "      <td>JK</td>\n",
       "      <td>27</td>\n",
       "    </tr>\n",
       "    <tr>\n",
       "      <th>5</th>\n",
       "      <td>Hobi</td>\n",
       "      <td>28</td>\n",
       "    </tr>\n",
       "  </tbody>\n",
       "</table>\n",
       "</div>"
      ],
      "text/plain": [
       "   Nombre Edad\n",
       "0  Martin   17\n",
       "1   James   20\n",
       "2  Keonho   16\n",
       "3      RM   30\n",
       "4      JK   27\n",
       "5    Hobi   28"
      ]
     },
     "execution_count": 25,
     "metadata": {},
     "output_type": "execute_result"
    }
   ],
   "source": [
    "##Ejercicio 1\n",
    "def ex1_concat_same_structure(data1, data2):\n",
    "    d1=pd.DataFrame( data1)\n",
    "    d2=pd.DataFrame( data2)\n",
    "    return(pd.concat([d1, d2], ignore_index=True))\n",
    "ex1_concat_same_structure(data1=({\"Nombre\":[\"Martin\",\"James\",\"Keonho\"], \"Edad\":[\"17\",\"20\",\"16\"]}),\n",
    "                          data2=({\"Nombre\":[\"RM\",\"JK\",\"Hobi\"], \"Edad\":[\"30\",\"27\",\"28\"]}))"
   ]
  },
  {
   "cell_type": "code",
   "execution_count": 38,
   "id": "9d81dd34-50f8-4ae1-8630-165e3a2f63de",
   "metadata": {},
   "outputs": [
    {
     "data": {
      "text/html": [
       "<div>\n",
       "<style scoped>\n",
       "    .dataframe tbody tr th:only-of-type {\n",
       "        vertical-align: middle;\n",
       "    }\n",
       "\n",
       "    .dataframe tbody tr th {\n",
       "        vertical-align: top;\n",
       "    }\n",
       "\n",
       "    .dataframe thead th {\n",
       "        text-align: right;\n",
       "    }\n",
       "</style>\n",
       "<table border=\"1\" class=\"dataframe\">\n",
       "  <thead>\n",
       "    <tr style=\"text-align: right;\">\n",
       "      <th></th>\n",
       "      <th>ventas</th>\n",
       "      <th>meses</th>\n",
       "    </tr>\n",
       "  </thead>\n",
       "  <tbody>\n",
       "    <tr>\n",
       "      <th>0</th>\n",
       "      <td>20</td>\n",
       "      <td>Enero</td>\n",
       "    </tr>\n",
       "    <tr>\n",
       "      <th>1</th>\n",
       "      <td>30</td>\n",
       "      <td>Febrero</td>\n",
       "    </tr>\n",
       "    <tr>\n",
       "      <th>2</th>\n",
       "      <td>25</td>\n",
       "      <td>Marzo</td>\n",
       "    </tr>\n",
       "    <tr>\n",
       "      <th>3</th>\n",
       "      <td>40</td>\n",
       "      <td>Abril</td>\n",
       "    </tr>\n",
       "    <tr>\n",
       "      <th>4</th>\n",
       "      <td>35</td>\n",
       "      <td>Mayo</td>\n",
       "    </tr>\n",
       "  </tbody>\n",
       "</table>\n",
       "</div>"
      ],
      "text/plain": [
       "  ventas    meses\n",
       "0     20    Enero\n",
       "1     30  Febrero\n",
       "2     25    Marzo\n",
       "3     40    Abril\n",
       "4     35     Mayo"
      ]
     },
     "execution_count": 38,
     "metadata": {},
     "output_type": "execute_result"
    }
   ],
   "source": [
    "#Ejercicio 2\n",
    "def ex2_concat_with_month_column(mes):\n",
    "    ventas=pd.DataFrame({\"ventas\":[\"20\",\"30\",\"25\",\"40\",\"35\"]})\n",
    "    mes=pd.DataFrame(mes)\n",
    "    return(ventas.join(mes))\n",
    "ex2_concat_with_month_column({\"meses\":[\"Enero\",\"Febrero\",\"Marzo\",\"Abril\",\"Mayo\"]})\n"
   ]
  },
  {
   "cell_type": "code",
   "execution_count": 28,
   "id": "4ff15dde-0402-4ab6-89da-0c1d1b2a0c31",
   "metadata": {},
   "outputs": [
    {
     "name": "stdout",
     "output_type": "stream",
     "text": [
      "  Productos Ventas Descuento\n",
      "0         1     50       15%\n",
      "1         2     40       15%\n",
      "2         3     35         0\n",
      "3         4     20       10%\n",
      "4         5     25         0\n"
     ]
    }
   ],
   "source": [
    "#Ejercicio3\n",
    "def ex3_concat_diff_columns_fillna():\n",
    "    ventas=pd.DataFrame({\"Productos\":[\"1\",\"2\",\"3\",\"4\",\"5\"], \"Ventas\":[\"50\",\"40\", \"35\", \"20\",\"25\" ]})\n",
    "    productos= pd.DataFrame({\"Productos\":[\"1\",\"2\",\"4\"], \"Descuento\":[\"15%\",\"15%\",\"10%\"]})\n",
    "    m=pd.merge(ventas,productos, on=[\"Productos\"], how=\"outer\")\n",
    "    print(m.fillna(0))\n",
    "ex3_concat_diff_columns_fillna()"
   ]
  },
  {
   "cell_type": "code",
   "execution_count": 46,
   "id": "57875a99-0da5-4ef4-a0ec-abb3b585d99d",
   "metadata": {},
   "outputs": [
    {
     "name": "stdout",
     "output_type": "stream",
     "text": [
      "  Alumno  Nota\n",
      "0     A1     9\n",
      "1     A2     9\n",
      "2     A3     8\n",
      "3     B1     9\n",
      "4     B2     8\n",
      "5     B3    10\n",
      "6     C1    10\n",
      "7     C2     9\n",
      "8     C3     9\n"
     ]
    }
   ],
   "source": [
    "#Eejercicio 4\n",
    "def ex4_concat_three_groups():\n",
    "    g_1 = pd.DataFrame({\"Alumno\": [\"A1\",\"A2\",\"A3\"], \"Nota\": [9, 9, 8] })\n",
    "    g_2 = pd.DataFrame({\"Alumno\": [\"B1\",\"B2\",\"B3\"], \"Nota\": [9, 8, 10] })\n",
    "    g_3 = pd.DataFrame({ \"Alumno\": [\"C1\",\"C2\",\"C3\"], \"Nota\": [10, 9, 9]})\n",
    "  \n",
    "    pint(pd.concat([g_1,g_2,g_3], ignore_index=True) )\n",
    "ex4_concat_three_groups()"
   ]
  },
  {
   "cell_type": "markdown",
   "id": "568918c3-abcf-4e79-81d1-88b59eafe5a4",
   "metadata": {},
   "source": [
    "# LISTAS"
   ]
  },
  {
   "cell_type": "code",
   "execution_count": null,
   "id": "9382f1df-13e8-42c7-aba3-2cf017da0827",
   "metadata": {},
   "outputs": [],
   "source": [
    "#Ejercicio 5\n",
    "def ex5_remove_duplicates_preserve_order(lista):\n",
    "    lista_nueva=[]\n",
    "    for  caracter in lista:\n",
    "       if caracter not in lista_nueva:\n",
    "           lista_nueva.append(caracter)   \n",
    "    return lista_nueva\n",
    "ex5_remove_duplicates_preserve_order(list(\"parangaricutirimicuaro\"))  \n",
    "\n",
    "\n",
    "#Ejercicio 6\n",
    "def ex6_sort_tuples_by_second_element(tuplas):\n",
    "    lista_ordenada = sorted(tuplas, key=lambda x:x[1])\n",
    "    return lista_ordenada\n",
    "ex6_sort_tuples_by_second_element([(\"a\", 3), (\"b\", 1), (\"c\", 2)])"
   ]
  },
  {
   "cell_type": "code",
   "execution_count": 81,
   "id": "ddde9530-304d-41eb-8b89-25e8e50c01aa",
   "metadata": {},
   "outputs": [
    {
     "data": {
      "text/plain": [
       "[1, 7, 49, 343, 2401]"
      ]
     },
     "execution_count": 81,
     "metadata": {},
     "output_type": "execute_result"
    }
   ],
   "source": [
    "#Ejercicio 7\n",
    "def ex7_first_n_multiples_of_7(n):\n",
    "    múltiplos = [7**x for x in range(n)]\n",
    "    return múltiplos\n",
    "ex7_first_n_multiples_of_7(5)  \n"
   ]
  },
  {
   "cell_type": "code",
   "execution_count": 113,
   "id": "2dfc9d1b-ca14-460f-8cf2-b76c8f32dc5b",
   "metadata": {},
   "outputs": [
    {
     "data": {
      "text/plain": [
       "['ava', 'reconocer', 'ilili']"
      ]
     },
     "execution_count": 113,
     "metadata": {},
     "output_type": "execute_result"
    }
   ],
   "source": [
    "#Ejercicio 8\n",
    "def ex8_filter_palindromes(cadenas):\n",
    "    palíndromos=[]\n",
    "    for elemento in cadenas:\n",
    "         if elemento==elemento[::-1]:\n",
    "             palíndromos.append(elemento)\n",
    "    return palíndromos\n",
    "ex8_filter_palindromes([\"Hola\",\"babosos\",\"mi\", \"ava\", \"reconocer\",\"azul\",\"ilili\"])\n",
    " \n"
   ]
  },
  {
   "cell_type": "markdown",
   "id": "7b478bd3-2c91-45b7-a534-bf8ebb3377ec",
   "metadata": {},
   "source": [
    "# Conjuntos"
   ]
  },
  {
   "cell_type": "code",
   "execution_count": 100,
   "id": "645b6f91-2886-47e5-8f09-eb72bb2721a8",
   "metadata": {},
   "outputs": [
    {
     "data": {
      "text/plain": [
       "([1, 2], [3])"
      ]
     },
     "execution_count": 100,
     "metadata": {},
     "output_type": "execute_result"
    }
   ],
   "source": [
    "#Ejercicio 9\n",
    "def ex9_set_intersection_and_difference(set_a, set_b):\n",
    "    interseccion=[]\n",
    "    diferencia=[]\n",
    "    for elemento in set_a:\n",
    "       if elemento in set_b:\n",
    "           interseccion.append(elemento)\n",
    "       else:\n",
    "           if elemento not in set_b:\n",
    "               diferencia.append(elemento)\n",
    "    return(interseccion,diferencia)\n",
    "ex9_set_intersection_and_difference({1,2,3},{1,2,4})     \n"
   ]
  },
  {
   "cell_type": "code",
   "execution_count": 109,
   "id": "61d05ad5-405e-4cc5-a94e-86d2e3fd1bb9",
   "metadata": {},
   "outputs": [
    {
     "data": {
      "text/plain": [
       "True"
      ]
     },
     "execution_count": 109,
     "metadata": {},
     "output_type": "execute_result"
    }
   ],
   "source": [
    "#Ejercicio 10\n",
    "def ex10_is_subset(set_a, set_b):\n",
    "   return set_a.issubset(set_b)\n",
    "ex10_is_subset({1,2,3},{1,2,3,4,5,6})"
   ]
  },
  {
   "cell_type": "code",
   "execution_count": null,
   "id": "2bc25dac-9642-4ddf-9a93-cc101013f279",
   "metadata": {},
   "outputs": [],
   "source": []
  }
 ],
 "metadata": {
  "kernelspec": {
   "display_name": "Python 3 (ipykernel)",
   "language": "python",
   "name": "python3"
  },
  "language_info": {
   "codemirror_mode": {
    "name": "ipython",
    "version": 3
   },
   "file_extension": ".py",
   "mimetype": "text/x-python",
   "name": "python",
   "nbconvert_exporter": "python",
   "pygments_lexer": "ipython3",
   "version": "3.10.4"
  }
 },
 "nbformat": 4,
 "nbformat_minor": 5
}
