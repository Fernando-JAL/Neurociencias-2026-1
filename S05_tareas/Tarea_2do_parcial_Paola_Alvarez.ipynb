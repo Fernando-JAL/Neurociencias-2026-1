{
 "cells": [
  {
   "cell_type": "markdown",
   "id": "669619a4",
   "metadata": {},
   "source": [
    "# TAREA 2do parcial\n",
    "#### Martha Paola Álvarez Pérez"
   ]
  },
  {
   "cell_type": "markdown",
   "id": "6b6bfc6a",
   "metadata": {},
   "source": [
    "#### 1-4: Pandas (concatenación)"
   ]
  },
  {
   "cell_type": "code",
   "execution_count": 92,
   "id": "8be43b46",
   "metadata": {},
   "outputs": [],
   "source": [
    "import pandas as pd"
   ]
  },
  {
   "cell_type": "code",
   "execution_count": 134,
   "id": "3f770eae",
   "metadata": {},
   "outputs": [
    {
     "data": {
      "text/html": [
       "<div>\n",
       "<style scoped>\n",
       "    .dataframe tbody tr th:only-of-type {\n",
       "        vertical-align: middle;\n",
       "    }\n",
       "\n",
       "    .dataframe tbody tr th {\n",
       "        vertical-align: top;\n",
       "    }\n",
       "\n",
       "    .dataframe thead th {\n",
       "        text-align: right;\n",
       "    }\n",
       "</style>\n",
       "<table border=\"1\" class=\"dataframe\">\n",
       "  <thead>\n",
       "    <tr style=\"text-align: right;\">\n",
       "      <th></th>\n",
       "      <th>Nombre</th>\n",
       "      <th>Edad</th>\n",
       "    </tr>\n",
       "  </thead>\n",
       "  <tbody>\n",
       "    <tr>\n",
       "      <th>0</th>\n",
       "      <td>Pao</td>\n",
       "      <td>21</td>\n",
       "    </tr>\n",
       "    <tr>\n",
       "      <th>1</th>\n",
       "      <td>Pau</td>\n",
       "      <td>20</td>\n",
       "    </tr>\n",
       "    <tr>\n",
       "      <th>2</th>\n",
       "      <td>Mech</td>\n",
       "      <td>20</td>\n",
       "    </tr>\n",
       "    <tr>\n",
       "      <th>3</th>\n",
       "      <td>Ani K.</td>\n",
       "      <td>23</td>\n",
       "    </tr>\n",
       "    <tr>\n",
       "      <th>0</th>\n",
       "      <td>Tom Holland</td>\n",
       "      <td>23</td>\n",
       "    </tr>\n",
       "    <tr>\n",
       "      <th>1</th>\n",
       "      <td>Josh</td>\n",
       "      <td>20</td>\n",
       "    </tr>\n",
       "    <tr>\n",
       "      <th>2</th>\n",
       "      <td>Ran</td>\n",
       "      <td>22</td>\n",
       "    </tr>\n",
       "    <tr>\n",
       "      <th>3</th>\n",
       "      <td>Diego Luna</td>\n",
       "      <td>22</td>\n",
       "    </tr>\n",
       "  </tbody>\n",
       "</table>\n",
       "</div>"
      ],
      "text/plain": [
       "        Nombre  Edad\n",
       "0          Pao    21\n",
       "1          Pau    20\n",
       "2         Mech    20\n",
       "3       Ani K.    23\n",
       "0  Tom Holland    23\n",
       "1         Josh    20\n",
       "2          Ran    22\n",
       "3   Diego Luna    22"
      ]
     },
     "execution_count": 134,
     "metadata": {},
     "output_type": "execute_result"
    }
   ],
   "source": [
    "#  Ejercicio 1:\n",
    "# Crea dos DataFrame que compartan la misma estructura de columnas (por ejemplo, 'Nombre' y 'Edad'), con al menos 3 filas cada uno. Concaténalos verticalmente en un único DataFrame. Retorna el DataFrame resultante.\n",
    "\n",
    "def ex1_concat_same_structure():\n",
    "\n",
    "    Datos = {\n",
    "        'Nombre': ['Pao', 'Pau', 'Mech', 'Ani K.'],\n",
    "        'Edad': [21, 20, 20, 23]\n",
    "    }\n",
    "\n",
    "    Datos2 = {\n",
    "        'Nombre': ['Tom Holland', 'Josh', 'Ran', 'Diego Luna'],\n",
    "        'Edad': [23, 20, 22, 22]\n",
    "    }\n",
    "\n",
    "    df1 = pd.DataFrame(Datos)\n",
    "    df2 = pd.DataFrame(Datos2)\n",
    "\n",
    "    dfs = pd.concat([df1, df2])\n",
    "\n",
    "    return dfs\n",
    "\n",
    "ex1_concat_same_structure()"
   ]
  },
  {
   "cell_type": "code",
   "execution_count": null,
   "id": "f9fa45a7",
   "metadata": {},
   "outputs": [
    {
     "data": {
      "text/html": [
       "<div>\n",
       "<style scoped>\n",
       "    .dataframe tbody tr th:only-of-type {\n",
       "        vertical-align: middle;\n",
       "    }\n",
       "\n",
       "    .dataframe tbody tr th {\n",
       "        vertical-align: top;\n",
       "    }\n",
       "\n",
       "    .dataframe thead th {\n",
       "        text-align: right;\n",
       "    }\n",
       "</style>\n",
       "<table border=\"1\" class=\"dataframe\">\n",
       "  <thead>\n",
       "    <tr style=\"text-align: right;\">\n",
       "      <th></th>\n",
       "      <th>Producto</th>\n",
       "      <th>Ventas</th>\n",
       "      <th>Mes</th>\n",
       "    </tr>\n",
       "  </thead>\n",
       "  <tbody>\n",
       "    <tr>\n",
       "      <th>0</th>\n",
       "      <td>Queso</td>\n",
       "      <td>4300</td>\n",
       "      <td>Enero</td>\n",
       "    </tr>\n",
       "    <tr>\n",
       "      <th>1</th>\n",
       "      <td>Leche Deslactosada</td>\n",
       "      <td>2400</td>\n",
       "      <td>Enero</td>\n",
       "    </tr>\n",
       "    <tr>\n",
       "      <th>2</th>\n",
       "      <td>Crema deslactosada</td>\n",
       "      <td>3200</td>\n",
       "      <td>Enero</td>\n",
       "    </tr>\n",
       "    <tr>\n",
       "      <th>0</th>\n",
       "      <td>Queso</td>\n",
       "      <td>3600</td>\n",
       "      <td>Febrero</td>\n",
       "    </tr>\n",
       "    <tr>\n",
       "      <th>1</th>\n",
       "      <td>Leche Deslactosada</td>\n",
       "      <td>3000</td>\n",
       "      <td>Febrero</td>\n",
       "    </tr>\n",
       "    <tr>\n",
       "      <th>2</th>\n",
       "      <td>Crema deslactosada</td>\n",
       "      <td>2100</td>\n",
       "      <td>Febrero</td>\n",
       "    </tr>\n",
       "  </tbody>\n",
       "</table>\n",
       "</div>"
      ],
      "text/plain": [
       "             Producto  Ventas      Mes\n",
       "0               Queso    4300    Enero\n",
       "1  Leche Deslactosada    2400    Enero\n",
       "2  Crema deslactosada    3200    Enero\n",
       "0               Queso    3600  Febrero\n",
       "1  Leche Deslactosada    3000  Febrero\n",
       "2  Crema deslactosada    2100  Febrero"
      ]
     },
     "metadata": {},
     "output_type": "display_data"
    }
   ],
   "source": [
    "#Ejercicio 2:\n",
    "# Tienes un DataFrame con ventas de enero y otro con ventas de febrero (mismas columnas). Concaténalos en un solo DataFrame y añade una columna que indique el mes original de cada fila (por ejemplo: 'Enero' o 'Febrero'). Retorna el DataFrame resultante.\n",
    "\n",
    "import pandas as pd\n",
    "\n",
    "def ex2_concat_with_month_column():\n",
    "    \n",
    "    enero = {\n",
    "        'Producto': ['Queso', 'Leche Deslactosada', 'Crema deslactosada'],\n",
    "        'Ventas': [4300, 2400, 3200]\n",
    "    }\n",
    "    febrero = {\n",
    "        'Producto': ['Queso', 'Leche Deslactosada', 'Crema deslactosada'],\n",
    "        'Ventas': [3600, 3000, 2100]\n",
    "    }\n",
    "\n",
    "    df_enero = pd.DataFrame(enero)\n",
    "    df_febrero = pd.DataFrame(febrero)\n",
    "\n",
    "    df_enero['Mes'] = 'Enero'\n",
    "    df_febrero['Mes'] = 'Febrero'\n",
    "\n",
    "    df_total = pd.concat([df_enero, df_febrero])\n",
    "    return df_total\n",
    "\n",
    "display(ex2_concat_with_month_column())\n",
    "\n",
    "\n"
   ]
  },
  {
   "cell_type": "code",
   "execution_count": 34,
   "id": "dfcd9ff4",
   "metadata": {},
   "outputs": [
    {
     "data": {
      "text/html": [
       "<div>\n",
       "<style scoped>\n",
       "    .dataframe tbody tr th:only-of-type {\n",
       "        vertical-align: middle;\n",
       "    }\n",
       "\n",
       "    .dataframe tbody tr th {\n",
       "        vertical-align: top;\n",
       "    }\n",
       "\n",
       "    .dataframe thead th {\n",
       "        text-align: right;\n",
       "    }\n",
       "</style>\n",
       "<table border=\"1\" class=\"dataframe\">\n",
       "  <thead>\n",
       "    <tr style=\"text-align: right;\">\n",
       "      <th></th>\n",
       "      <th>Producto</th>\n",
       "      <th>Ventas</th>\n",
       "      <th>Mes</th>\n",
       "      <th>Descuentos</th>\n",
       "    </tr>\n",
       "  </thead>\n",
       "  <tbody>\n",
       "    <tr>\n",
       "      <th>0</th>\n",
       "      <td>Queso</td>\n",
       "      <td>4300.0</td>\n",
       "      <td>Enero</td>\n",
       "      <td>0.0</td>\n",
       "    </tr>\n",
       "    <tr>\n",
       "      <th>1</th>\n",
       "      <td>Leche Deslactosada</td>\n",
       "      <td>2400.0</td>\n",
       "      <td>Enero</td>\n",
       "      <td>0.0</td>\n",
       "    </tr>\n",
       "    <tr>\n",
       "      <th>2</th>\n",
       "      <td>Crema deslactosada</td>\n",
       "      <td>3200.0</td>\n",
       "      <td>Enero</td>\n",
       "      <td>0.0</td>\n",
       "    </tr>\n",
       "    <tr>\n",
       "      <th>3</th>\n",
       "      <td>Queso</td>\n",
       "      <td>0.0</td>\n",
       "      <td>Febrero</td>\n",
       "      <td>100.0</td>\n",
       "    </tr>\n",
       "    <tr>\n",
       "      <th>4</th>\n",
       "      <td>Leche Deslactosada</td>\n",
       "      <td>0.0</td>\n",
       "      <td>Febrero</td>\n",
       "      <td>500.0</td>\n",
       "    </tr>\n",
       "    <tr>\n",
       "      <th>5</th>\n",
       "      <td>Crema deslactosada</td>\n",
       "      <td>0.0</td>\n",
       "      <td>Febrero</td>\n",
       "      <td>300.0</td>\n",
       "    </tr>\n",
       "  </tbody>\n",
       "</table>\n",
       "</div>"
      ],
      "text/plain": [
       "             Producto  Ventas      Mes  Descuentos\n",
       "0               Queso  4300.0    Enero         0.0\n",
       "1  Leche Deslactosada  2400.0    Enero         0.0\n",
       "2  Crema deslactosada  3200.0    Enero         0.0\n",
       "3               Queso     0.0  Febrero       100.0\n",
       "4  Leche Deslactosada     0.0  Febrero       500.0\n",
       "5  Crema deslactosada     0.0  Febrero       300.0"
      ]
     },
     "metadata": {},
     "output_type": "display_data"
    }
   ],
   "source": [
    "# Ejercicio 3:\n",
    "# Crea dos DataFrame que no tengan exactamente las mismas columnas (ej.: uno tiene 'Producto' y 'Ventas', el otro 'Producto' y 'Descuento'). Concaténalos y asegura que los valores faltantes queden rellenados con 0. Retorna el DataFrame resultante.\n",
    "\n",
    "import pandas as pd\n",
    "\n",
    "\n",
    "def ex3_concat_diff_columns_fillna():\n",
    "    # Datos de enero y febrero\n",
    "    enero = {\n",
    "        'Producto': ['Queso', 'Leche Deslactosada', 'Crema deslactosada'],\n",
    "        'Ventas': [4300, 2400, 3200]\n",
    "    }\n",
    "    febrero = {\n",
    "        'Producto': ['Queso', 'Leche Deslactosada', 'Crema deslactosada'],\n",
    "        'Descuentos': [100, 500, 300]\n",
    "    }\n",
    "\n",
    "    df_enero = pd.DataFrame(enero)\n",
    "    df_febrero = pd.DataFrame(febrero)\n",
    "\n",
    "    df_enero['Mes'] = 'Enero'\n",
    "    df_febrero['Mes'] = 'Febrero'\n",
    "\n",
    "\n",
    "    df_total = pd.concat([df_enero, df_febrero], ignore_index=True).fillna(0)\n",
    "\n",
    "    return df_total\n",
    "\n",
    "display(ex3_concat_diff_columns_fillna())\n",
    "    "
   ]
  },
  {
   "cell_type": "code",
   "execution_count": 136,
   "id": "383cecd6",
   "metadata": {},
   "outputs": [
    {
     "data": {
      "text/html": [
       "<div>\n",
       "<style scoped>\n",
       "    .dataframe tbody tr th:only-of-type {\n",
       "        vertical-align: middle;\n",
       "    }\n",
       "\n",
       "    .dataframe tbody tr th {\n",
       "        vertical-align: top;\n",
       "    }\n",
       "\n",
       "    .dataframe thead th {\n",
       "        text-align: right;\n",
       "    }\n",
       "</style>\n",
       "<table border=\"1\" class=\"dataframe\">\n",
       "  <thead>\n",
       "    <tr style=\"text-align: right;\">\n",
       "      <th></th>\n",
       "      <th>Carrera</th>\n",
       "      <th>Nombre</th>\n",
       "      <th>Calificaciones</th>\n",
       "    </tr>\n",
       "  </thead>\n",
       "  <tbody>\n",
       "    <tr>\n",
       "      <th>0</th>\n",
       "      <td>Neuro</td>\n",
       "      <td>Pao</td>\n",
       "      <td>8.80</td>\n",
       "    </tr>\n",
       "    <tr>\n",
       "      <th>1</th>\n",
       "      <td>Neuro</td>\n",
       "      <td>Pau</td>\n",
       "      <td>10.00</td>\n",
       "    </tr>\n",
       "    <tr>\n",
       "      <th>2</th>\n",
       "      <td>Neuro</td>\n",
       "      <td>Mech</td>\n",
       "      <td>9.98</td>\n",
       "    </tr>\n",
       "    <tr>\n",
       "      <th>3</th>\n",
       "      <td>Neuro</td>\n",
       "      <td>Ani K.</td>\n",
       "      <td>8.90</td>\n",
       "    </tr>\n",
       "    <tr>\n",
       "      <th>4</th>\n",
       "      <td>Tecno</td>\n",
       "      <td>Victor</td>\n",
       "      <td>9.90</td>\n",
       "    </tr>\n",
       "    <tr>\n",
       "      <th>5</th>\n",
       "      <td>Mate</td>\n",
       "      <td>Josh</td>\n",
       "      <td>8.00</td>\n",
       "    </tr>\n",
       "    <tr>\n",
       "      <th>6</th>\n",
       "      <td>Tecno</td>\n",
       "      <td>Ran</td>\n",
       "      <td>9.00</td>\n",
       "    </tr>\n",
       "    <tr>\n",
       "      <th>7</th>\n",
       "      <td>Neuro</td>\n",
       "      <td>Rosa</td>\n",
       "      <td>8.80</td>\n",
       "    </tr>\n",
       "    <tr>\n",
       "      <th>8</th>\n",
       "      <td>Tecno</td>\n",
       "      <td>Maff</td>\n",
       "      <td>9.10</td>\n",
       "    </tr>\n",
       "    <tr>\n",
       "      <th>9</th>\n",
       "      <td>Neuro</td>\n",
       "      <td>Maquita</td>\n",
       "      <td>9.10</td>\n",
       "    </tr>\n",
       "    <tr>\n",
       "      <th>10</th>\n",
       "      <td>Neuro</td>\n",
       "      <td>Soff</td>\n",
       "      <td>9.00</td>\n",
       "    </tr>\n",
       "  </tbody>\n",
       "</table>\n",
       "</div>"
      ],
      "text/plain": [
       "   Carrera   Nombre  Calificaciones\n",
       "0    Neuro      Pao            8.80\n",
       "1    Neuro      Pau           10.00\n",
       "2    Neuro     Mech            9.98\n",
       "3    Neuro   Ani K.            8.90\n",
       "4    Tecno   Victor            9.90\n",
       "5     Mate     Josh            8.00\n",
       "6    Tecno      Ran            9.00\n",
       "7    Neuro     Rosa            8.80\n",
       "8    Tecno     Maff            9.10\n",
       "9    Neuro  Maquita            9.10\n",
       "10   Neuro     Soff            9.00"
      ]
     },
     "metadata": {},
     "output_type": "display_data"
    }
   ],
   "source": [
    "#Ejercicio 4: \n",
    "# Genera tres DataFrame pequeños (cada uno con, por ejemplo, 3 filas) que representen notas de distintos grupos de alumnos. Concaténalos verticalmente en un solo DataFrame que contenga todas las notas. Retorna el DataFrame resultante.\n",
    "\n",
    "\n",
    "import pandas as pd\n",
    "\n",
    "def ex4_concat_three_groups():\n",
    "    Datos = {\n",
    "        'Carrera': ['Neuro','Neuro','Neuro','Neuro'],\n",
    "        'Nombre': ['Pao', 'Pau', 'Mech', 'Ani K.'],\n",
    "        'Calificaciones': [8.8, 10, 9.98, 8.9]\n",
    "    }\n",
    "\n",
    "    Datos2 = {\n",
    "        'Carrera': ['Tecno','Mate','Tecno','Neuro'],\n",
    "        'Nombre': ['Victor', 'Josh', 'Ran', 'Rosa'],\n",
    "        'Calificaciones': [9.9, 8, 9, 8.8]\n",
    "    }\n",
    "    \n",
    "    Datos3 = {\n",
    "        'Carrera': ['Tecno','Neuro','Neuro'],\n",
    "        'Nombre': ['Maff', 'Maquita', 'Soff'],\n",
    "        'Calificaciones': [9.1, 9.1, 9]\n",
    "    }\n",
    "\n",
    "    \n",
    "    df1 = pd.DataFrame(Datos)\n",
    "    df2 = pd.DataFrame(Datos2)\n",
    "    df3 = pd.DataFrame(Datos3)\n",
    "    \n",
    "    df_total = pd.concat([df1, df2, df3], ignore_index=True)\n",
    "\n",
    "    return df_total\n",
    "\n",
    "\n",
    "\n",
    "resultado = ex4_concat_three_groups()\n",
    "display(resultado)\n"
   ]
  },
  {
   "cell_type": "markdown",
   "id": "bb6ab498",
   "metadata": {},
   "source": [
    "#### 5-8: Listas"
   ]
  },
  {
   "cell_type": "code",
   "execution_count": 53,
   "id": "098d6a33",
   "metadata": {},
   "outputs": [
    {
     "data": {
      "text/plain": [
       "['perro',\n",
       " 'gato',\n",
       " 'vaquita',\n",
       " 'oveja',\n",
       " 'cerdo',\n",
       " 'caballo',\n",
       " 'gallo',\n",
       " 'oso',\n",
       " 'tigre',\n",
       " 'Pollito Pio']"
      ]
     },
     "execution_count": 53,
     "metadata": {},
     "output_type": "execute_result"
    }
   ],
   "source": [
    "# Ejercicio 5:\n",
    "# Dada una lista de enteros (o strings) que puede contener duplicados, devuelve una nueva lista sin duplicados preservando el orden original. No uses directamente set() para eliminar duplicados (escribe la lógica que preserve el orden). Retorna la nueva  lista sin duplicados.\n",
    "\n",
    "def ex5_remove_duplicates_preserve_order(lst):\n",
    "    Animales_sin_repetir=[]\n",
    "    for item in lst:\n",
    "     if item not in Animales_sin_repetir:\n",
    "        Animales_sin_repetir.append(item)\n",
    "    return Animales_sin_repetir\n",
    "\n",
    "animales = ['perro', 'gato', 'vaquita', 'perro', 'oveja', 'gato', 'perro', \n",
    "            'vaquita', 'cerdo', 'caballo', 'gato', 'vaquita', 'gallo', \n",
    "            'oveja', 'perro', 'oso', 'tigre', 'oveja', 'oso', 'gallo', 'Pollito Pio', 'tigre']\n",
    "\n",
    "ex5_remove_duplicates_preserve_order(animales)\n",
    "\n"
   ]
  },
  {
   "cell_type": "code",
   "execution_count": 54,
   "id": "d6bc4174",
   "metadata": {},
   "outputs": [
    {
     "data": {
      "text/plain": [
       "[('b', 1), ('c', 2), ('a', 3)]"
      ]
     },
     "execution_count": 54,
     "metadata": {},
     "output_type": "execute_result"
    }
   ],
   "source": [
    "# Ejercicio 6:\n",
    "# Dada una lista de tuplas, por ejemplo [(\"a\", 3), (\"b\", 1), (\"c\", 2)], ordénala por el segundo elemento de cada tupla y devuelve la lista ordenada. Usa una función anónima si lo deseas. Retorna la lista ordenada.\n",
    "\n",
    "def ex6_sort_tuples_by_second_element(tuples_list):\n",
    "    \n",
    "    lista_ordenada = sorted (tuples_list, key=lambda x:x[1])\n",
    "    return lista_ordenada\n",
    "\n",
    "tuples_list=([(\"a\", 3), \n",
    "              (\"b\", 1),\n",
    "              (\"c\", 2)])\n",
    "\n",
    "ex6_sort_tuples_by_second_element(tuples_list)"
   ]
  },
  {
   "cell_type": "code",
   "execution_count": 58,
   "id": "5f45a8e5",
   "metadata": {},
   "outputs": [
    {
     "data": {
      "text/plain": [
       "[7, 14, 21, 28, 35]"
      ]
     },
     "execution_count": 58,
     "metadata": {},
     "output_type": "execute_result"
    }
   ],
   "source": [
    "# Ejercicio 7: \n",
    "# Devuelve una lista con los primeros n múltiplos de 7 (por ejemplo, n=5 -> [7,14,21,28,35]). Retorna la lista generada.\n",
    "\n",
    "def ex7_first_n_multiples_of_7(n):\n",
    "    multiplos=[]\n",
    "    for i in range (1,n+1):\n",
    "        multiplos.append(7*i)\n",
    "    return multiplos\n",
    "\n",
    "ex7_first_n_multiples_of_7(5)"
   ]
  },
  {
   "cell_type": "code",
   "execution_count": 137,
   "id": "8253621d",
   "metadata": {},
   "outputs": [
    {
     "data": {
      "text/plain": [
       "['solos', 'seres', 'oso', 'radar', 'amor a roma']"
      ]
     },
     "execution_count": 137,
     "metadata": {},
     "output_type": "execute_result"
    }
   ],
   "source": [
    "# Ejercicio 8: \n",
    "# Dada una lista de cadenas, devuelve sólo aquellas que son palíndromos (se leen igual al derecho y al revés). Retorna una lista con los palíndromos encontrados.\n",
    "\n",
    "def ex8_palindromes(lista_cadenas):\n",
    "    return [p for p in lista_cadenas if p.replace(\" \", \"\") == p.replace(\" \", \"\")[::-1]]\n",
    "\n",
    "cadenas = ['solos', 'brillas', 'cerebelo', 'corteza', 'seres', 'pelon', 'oso', 'radar', 'carro', 'amor a roma', 'lindo']\n",
    "\n",
    "ex8_palindromes(cadenas)\n",
    " \n"
   ]
  },
  {
   "cell_type": "markdown",
   "id": "4bb24ade",
   "metadata": {},
   "source": [
    "#### 9-12: Conjuntos"
   ]
  },
  {
   "cell_type": "code",
   "execution_count": 60,
   "id": "09cbf4fd",
   "metadata": {},
   "outputs": [
    {
     "data": {
      "text/plain": [
       "({2, 4}, {1, 3})"
      ]
     },
     "execution_count": 60,
     "metadata": {},
     "output_type": "execute_result"
    }
   ],
   "source": [
    "# Ejercicio 9:\n",
    "# Dado dos conjuntos, devuelve su intersección y la diferencia (elementos de A que no están en B). Retorna una tupla (intersección, diferencia)\n",
    "\n",
    "def ex9_set_intersection_and_difference(set_a, set_b):\n",
    "    interseccion = set_a & set_b\n",
    "    diferencia = set_a - set_b\n",
    "    return (interseccion, diferencia)\n",
    "\n",
    "set_a={1,2,3,4}\n",
    "set_b={2,7,4,9}\n",
    "ex9_set_intersection_and_difference(set_a, set_b)\n"
   ]
  },
  {
   "cell_type": "code",
   "execution_count": null,
   "id": "cb345868",
   "metadata": {},
   "outputs": [
    {
     "data": {
      "text/plain": [
       "False"
      ]
     },
     "execution_count": 63,
     "metadata": {},
     "output_type": "execute_result"
    }
   ],
   "source": [
    "# Ejercicio 10: \n",
    "# Verifica si set_a es subconjunto de set_b. Devuelve True o False.\n",
    "\n",
    "def ex10_is_subset(set_a, set_b):\n",
    "    return set_a.issubset(set_b)\n",
    "ex10_is_subset(set_a, set_b)"
   ]
  },
  {
   "cell_type": "code",
   "execution_count": null,
   "id": "7235a3d9",
   "metadata": {},
   "outputs": [
    {
     "data": {
      "text/plain": [
       "5"
      ]
     },
     "execution_count": 65,
     "metadata": {},
     "output_type": "execute_result"
    }
   ],
   "source": [
    "# Ejercicio 11: \n",
    "# Dada una lista, cuenta cuántos elementos únicos contiene (usa set para obtener el conteo). Retorna el número de elementos únicos.\n",
    "def ex11_count_unique_elements(lst):\n",
    "    elementos_unicos= set(lst)\n",
    "    return len(elementos_unicos)\n",
    "\n",
    "lst=[1,3,2,3,1,4,3,2,2,4,3,5]\n",
    "ex11_count_unique_elements(lst)\n"
   ]
  },
  {
   "cell_type": "code",
   "execution_count": 67,
   "id": "65e43120",
   "metadata": {},
   "outputs": [
    {
     "name": "stdout",
     "output_type": "stream",
     "text": [
      "{'living', 'in', 'drippings', \"don't\", 'to', 'grass,', 'have', \"I'm\", 'eat', \"'cause\", 'and', 'the', 'off', 'from', 'of', 'fish', 'way,', 'yeah,', 'ceiling', 'they', 'Something', 'hmm-mmm', 'any', 'And', 'my', \"It's\", 'okay', 'feelings'}\n"
     ]
    }
   ],
   "source": [
    "#Ejercicio 12:\n",
    "    # Dada una lista de frases (strings), extrae y devuelve el conjunto de todas las palabras únicas que aparecen en todas las frases. Retorna un conjunto con las palabras únicas.\n",
    "def ex12_unique_words_from_phrases(phrases):\n",
    "    palabras_unicas = set()\n",
    "    for frase in phrases:\n",
    "        palabras = frase.split()\n",
    "        palabras_unicas.update(palabras)\n",
    "    return palabras_unicas\n",
    "\n",
    "phrases = [\n",
    "    \"\"\" And I'm living off of grass, and the drippings from my ceiling\n",
    "    It's okay to eat fish 'cause they don't have any feelings\n",
    "    Something in the way, hmm-mmm\n",
    "    Something in the way, yeah, hmm-mmm\n",
    "    Something in the way, hmm-mmm\n",
    "    Something in the way, yeah, hmm-mmm\n",
    "    Something in the way, hmm-mmm\n",
    "    Something in the way, yeah, hmm-mmm\"\"\"\n",
    "]\n",
    "\n",
    "print(ex12_unique_words_from_phrases(phrases))"
   ]
  },
  {
   "cell_type": "markdown",
   "id": "5aaee6fc",
   "metadata": {},
   "source": [
    "#### Tuplas"
   ]
  },
  {
   "cell_type": "code",
   "execution_count": 138,
   "id": "00d4336c",
   "metadata": {},
   "outputs": [
    {
     "data": {
      "text/plain": [
       "('Victor', 26)"
      ]
     },
     "execution_count": 138,
     "metadata": {},
     "output_type": "execute_result"
    }
   ],
   "source": [
    "#Ejercicio 13:\n",
    "# Recibe una lista de tuplas (nombre, edad). Devuelve la tupla de la persona con mayor edad.\n",
    "\n",
    "def ex13_oldest_person(tuple_list):\n",
    "   if not tuple_list:\n",
    "    return None \n",
    "   return max(tuple_list, key = lambda x:x[1])\n",
    "\n",
    "tuple_list = [('Victor', 26), (\"Paola\",21), (\"Mech\", 20), ('Ran', 22), (\"Pau\", 20), ('Josh',  20)]\n",
    "\n",
    "ex13_oldest_person(tuple_list)"
   ]
  },
  {
   "cell_type": "code",
   "execution_count": 139,
   "id": "bf18f953",
   "metadata": {},
   "outputs": [
    {
     "data": {
      "text/plain": [
       "[('gato', 'gata'), ('yo', 'el', 'no'), ('infiel', 'perro')]"
      ]
     },
     "execution_count": 139,
     "metadata": {},
     "output_type": "execute_result"
    }
   ],
   "source": [
    "# Ejercicio 14: \n",
    "# Convierte una lista de listas en una lista de tuplas. Retorna la nueva lista de tuplas.\n",
    "\n",
    "def ex14_convert_list_of_lists_to_tuples(list_of_lists):\n",
    "    return [tuple(sublista) for sublista in list_of_lists]\n",
    "\n",
    "list_of_lists = [[ 'gato','gata'],['yo','el','no'],['infiel','perro']]\n",
    "ex14_convert_list_of_lists_to_tuples(list_of_lists)"
   ]
  },
  {
   "cell_type": "code",
   "execution_count": 72,
   "id": "ef8fcdcb",
   "metadata": {},
   "outputs": [
    {
     "data": {
      "text/plain": [
       "6"
      ]
     },
     "execution_count": 72,
     "metadata": {},
     "output_type": "execute_result"
    }
   ],
   "source": [
    "# Ejercicio 15:\n",
    "# Recibe una tupla de tres números (a, b, c). Desempaquétala y devuelve la suma a+b+c. Retorna un número entero o flotante.\n",
    "\n",
    "def ex15_sum_of_tuple_abc(t):\n",
    "    a,b,c = t\n",
    "    return a+b+c\n",
    "\n",
    "t=[1,2,3]\n",
    "ex15_sum_of_tuple_abc(t)"
   ]
  },
  {
   "cell_type": "code",
   "execution_count": 82,
   "id": "27191291",
   "metadata": {},
   "outputs": [
    {
     "data": {
      "text/html": [
       "<div>\n",
       "<style scoped>\n",
       "    .dataframe tbody tr th:only-of-type {\n",
       "        vertical-align: middle;\n",
       "    }\n",
       "\n",
       "    .dataframe tbody tr th {\n",
       "        vertical-align: top;\n",
       "    }\n",
       "\n",
       "    .dataframe thead th {\n",
       "        text-align: right;\n",
       "    }\n",
       "</style>\n",
       "<table border=\"1\" class=\"dataframe\">\n",
       "  <thead>\n",
       "    <tr style=\"text-align: right;\">\n",
       "      <th></th>\n",
       "      <th>Producto</th>\n",
       "      <th>Precio</th>\n",
       "    </tr>\n",
       "  </thead>\n",
       "  <tbody>\n",
       "    <tr>\n",
       "      <th>0</th>\n",
       "      <td>Airen de la rosa de guadalupe</td>\n",
       "      <td>60</td>\n",
       "    </tr>\n",
       "    <tr>\n",
       "      <th>1</th>\n",
       "      <td>fantasma atarpado en una botella</td>\n",
       "      <td>85</td>\n",
       "    </tr>\n",
       "    <tr>\n",
       "      <th>2</th>\n",
       "      <td>Tierra extraida de donde fue secreto en la mon...</td>\n",
       "      <td>100</td>\n",
       "    </tr>\n",
       "    <tr>\n",
       "      <th>3</th>\n",
       "      <td>El cafe adiccitivo(el de sus ojos)</td>\n",
       "      <td>1000</td>\n",
       "    </tr>\n",
       "  </tbody>\n",
       "</table>\n",
       "</div>"
      ],
      "text/plain": [
       "                                            Producto  Precio\n",
       "0                      Airen de la rosa de guadalupe      60\n",
       "1                   fantasma atarpado en una botella      85\n",
       "2  Tierra extraida de donde fue secreto en la mon...     100\n",
       "3                 El cafe adiccitivo(el de sus ojos)    1000"
      ]
     },
     "metadata": {},
     "output_type": "display_data"
    }
   ],
   "source": [
    "# Ejercicio 16:\n",
    "# Dada una lista de tuplas (producto, precio), ordénala por precio de menor a mayor.Retorna la lista ordenada.\n",
    "\n",
    "def ex16_sort_product_price(prod_price_list):\n",
    "    return sorted(prod_price_list, key=lambda producto: producto[1])\n",
    "\n",
    "prod_price_list = [\n",
    "    (\"Airen de la rosa de guadalupe\", 60),\n",
    "    (\"fantasma atarpado en una botella\", 85),\n",
    "    (\"Tierra extraida de donde fue secreto en la montaña \", 100),\n",
    "    (\"El cafe adiccitivo(el de sus ojos)\", 1000)\n",
    "]\n",
    "\n",
    "df = pd.DataFrame(ex16_sort_product_price(prod_price_list), columns=[\"Producto\", \"Precio\"])\n",
    "display(df)"
   ]
  },
  {
   "cell_type": "markdown",
   "id": "0d57b96f",
   "metadata": {},
   "source": [
    "#### Diccionarios"
   ]
  },
  {
   "cell_type": "code",
   "execution_count": 83,
   "id": "382f2ef0",
   "metadata": {},
   "outputs": [
    {
     "data": {
      "text/plain": [
       "{'c': 6,\n",
       " 'u': 4,\n",
       " 'a': 19,\n",
       " 'r': 9,\n",
       " 'h': 1,\n",
       " 'T': 1,\n",
       " 'e': 13,\n",
       " ' ': 29,\n",
       " 'm': 8,\n",
       " 'i': 10,\n",
       " 'o': 15,\n",
       " 'd': 8,\n",
       " 's': 8,\n",
       " 't': 7,\n",
       " 'í': 2,\n",
       " ',': 3,\n",
       " 'n': 7,\n",
       " '\\n': 3,\n",
       " 'Y': 1,\n",
       " 'l': 5,\n",
       " 'j': 1,\n",
       " 'Q': 1,\n",
       " 'p': 1,\n",
       " 'q': 1,\n",
       " 'v': 2,\n",
       " 'M': 1,\n",
       " 'y': 1}"
      ]
     },
     "execution_count": 83,
     "metadata": {},
     "output_type": "execute_result"
    }
   ],
   "source": [
    "# Ejercicio 17:\n",
    "# Cuenta la frecuencia de cada carácter en una cadena usando un diccionario. Retorna un diccionario {carácter: frecuencia}.\n",
    "\n",
    "def ex17_char_frequency(s):\n",
    "    frecuencia = {}\n",
    "    for char in s:\n",
    "        if char in frecuencia:\n",
    "            frecuencia[char] += 1\n",
    "        else:\n",
    "            frecuencia[char] = 1\n",
    "    return frecuencia\n",
    "\n",
    "s=\"\"\"cucarachaTe miro distraído, inconsciente de mi mirada\n",
    "Y al notarme, tus ojos miran a los míos de tal modo\n",
    "Que pareciera que ves a la nada\n",
    "Mientras yo, lo veo a mi todo\"\"\"\n",
    "ex17_char_frequency(s)\n",
    "\n"
   ]
  },
  {
   "cell_type": "code",
   "execution_count": null,
   "id": "410aee3d",
   "metadata": {},
   "outputs": [
    {
     "data": {
      "text/plain": [
       "('Ana K', 9.5)"
      ]
     },
     "execution_count": 84,
     "metadata": {},
     "output_type": "execute_result"
    }
   ],
   "source": [
    "# Ejercicio 18:\n",
    "# Dado un diccionario {alumno: calificación}, devuelve al mejor estudiante. Retorna una tupla (nombre, calificación).\n",
    "def ex18_best_student(grades_dict):\n",
    "    mejor_nota= max(grades_dict.items(), key=lambda x:x[1])\n",
    "    return mejor_nota\n",
    "\n",
    "grades_dict = {\n",
    "    \"Paola\": 8.9, \n",
    "    \"Mech\": 9.2, \n",
    "    \"Pau\": 8.9, \n",
    "    \"Ana K\": 9.5\n",
    "    }\n",
    "\n",
    "ex18_best_student(grades_dict)\n"
   ]
  },
  {
   "cell_type": "code",
   "execution_count": 87,
   "id": "15e46af3",
   "metadata": {},
   "outputs": [
    {
     "data": {
      "text/plain": [
       "{5: 'Mandarina', 2: 'Platano', 3: 'Sandia', 4: 'Uvas'}"
      ]
     },
     "execution_count": 87,
     "metadata": {},
     "output_type": "execute_result"
    }
   ],
   "source": [
    "# Ejercicio 19: \n",
    "# Invierte un diccionario, intercambiando claves y valores. Retorna el diccionario invertido.\n",
    "\n",
    "def ex19_invert_dictionary(d):\n",
    "    dicc_invertido = {valor: clave for clave, valor in d.items()}\n",
    "    return dicc_invertido\n",
    "\n",
    "d={\"Mandarina\":5, \"Platano\":2,\"Sandia\":3,\"Uvas\":4}\n",
    "ex19_invert_dictionary(d)"
   ]
  },
  {
   "cell_type": "code",
   "execution_count": 88,
   "id": "17463030",
   "metadata": {},
   "outputs": [
    {
     "data": {
      "text/plain": [
       "{'manzanas': 10, 'naranjas': 8, 'plátanos': 9, 'peras': 8}"
      ]
     },
     "execution_count": 88,
     "metadata": {},
     "output_type": "execute_result"
    }
   ],
   "source": [
    "# Ejercicio 20:\n",
    "# Fusiona dos diccionarios sumando los valores de las claves que se repitan. Devuelve el diccionario resultante.\n",
    "\n",
    "def ex20_merge_dicts_sum_values(d1, d2):\n",
    "    resultado= d1.copy()\n",
    "    for clave, valor in d2.items():\n",
    "        resultado[clave] = resultado.get(clave,0)+valor\n",
    "    return resultado\n",
    "\n",
    "d1 = {\"manzanas\": 10, \"naranjas\": 5, \"plátanos\": 7}\n",
    "d2 = {\"naranjas\": 3, \"plátanos\": 2, \"peras\": 8}\n",
    "\n",
    "ex20_merge_dicts_sum_values(d1, d2)"
   ]
  },
  {
   "cell_type": "markdown",
   "id": "aece6fd2",
   "metadata": {},
   "source": [
    "#### Numpy "
   ]
  },
  {
   "cell_type": "code",
   "execution_count": 90,
   "id": "02d1e889",
   "metadata": {},
   "outputs": [],
   "source": [
    "import numpy as np"
   ]
  },
  {
   "cell_type": "code",
   "execution_count": 91,
   "id": "8b56da26",
   "metadata": {},
   "outputs": [
    {
     "data": {
      "text/plain": [
       "array([0., 0., 0., 0., 1., 0., 0., 0., 0., 0.])"
      ]
     },
     "execution_count": 91,
     "metadata": {},
     "output_type": "execute_result"
    }
   ],
   "source": [
    "# Ejercicio 21:\n",
    "#Crea un arreglo de NumPy de 10 ceros y cambia el quinto elemento (índice 4) a 1.Retorna el array resultante.\n",
    "\n",
    "def ex21_numpy_array_set_fifth():\n",
    "    \n",
    "    arreglo=np.zeros(10)\n",
    "    arreglo[4] =1\n",
    "    return arreglo\n",
    "\n",
    "ex21_numpy_array_set_fifth()\n"
   ]
  },
  {
   "cell_type": "code",
   "execution_count": 93,
   "id": "ab2fb7a3",
   "metadata": {},
   "outputs": [
    {
     "data": {
      "text/plain": [
       "array([[0, 1, 2],\n",
       "       [3, 4, 5],\n",
       "       [6, 7, 8]])"
      ]
     },
     "execution_count": 93,
     "metadata": {},
     "output_type": "execute_result"
    }
   ],
   "source": [
    "#Ejercicio 22:\n",
    "#Genera una matriz 3x3 con los valores del 0 al 8. Retorna la matriz como array de NumPy.\n",
    "\n",
    "def ex22_numpy_matrix_3x3():\n",
    "    matriz = np.arange(9).reshape(3, 3)\n",
    "    return matriz\n",
    "\n",
    "ex22_numpy_matrix_3x3()"
   ]
  },
  {
   "cell_type": "code",
   "execution_count": 100,
   "id": "7137d54b",
   "metadata": {},
   "outputs": [
    {
     "data": {
      "text/plain": [
       "(np.float64(41.0), np.float64(41.0), np.float64(26.668333281253254))"
      ]
     },
     "execution_count": 100,
     "metadata": {},
     "output_type": "execute_result"
    }
   ],
   "source": [
    "#Ejercicio 23:\n",
    "# Genera un array aleatorio de 20 enteros y calcula la media, mediana y desviación estándar.Retorna una tupla (media, mediana, desviación estándar).\n",
    "\n",
    "def ex23_numpy_statistics():\n",
    "    \n",
    "    array_al=np.random.randint(0,100,20)\n",
    "    media=np.mean(array_al)\n",
    "    mediana=np.median(array_al)\n",
    "    desviacion=np.std(array_al)\n",
    "    return (media, mediana, desviacion)\n",
    "\n",
    "ex23_numpy_statistics()"
   ]
  },
  {
   "cell_type": "code",
   "execution_count": 102,
   "id": "cc4a8f7a",
   "metadata": {},
   "outputs": [
    {
     "data": {
      "text/plain": [
       "array([ 6,  6,  6,  7,  8, 10, 10, 10])"
      ]
     },
     "execution_count": 102,
     "metadata": {},
     "output_type": "execute_result"
    }
   ],
   "source": [
    "# Ejercicio 24:\n",
    "#Dado un array (o lista) de números, reemplaza todos los valores mayores que 10 por 10 (es decir, limita/\"clip\" los valores máximos)Retorna el array modificado.\n",
    "\n",
    "def ex24_numpy_clip_values(arr):\n",
    "    arr=np.array(arr)\n",
    "    arr=np.clip(arr,None,10)\n",
    "    return arr\n",
    "\n",
    "arr=[6,6,6,7,8,10, 66, 666]\n",
    "ex24_numpy_clip_values(arr)\n"
   ]
  },
  {
   "cell_type": "markdown",
   "id": "aea7f039",
   "metadata": {},
   "source": [
    "#### Pandas"
   ]
  },
  {
   "cell_type": "code",
   "execution_count": 105,
   "id": "4ca1a8ba",
   "metadata": {},
   "outputs": [
    {
     "data": {
      "text/html": [
       "<div>\n",
       "<style scoped>\n",
       "    .dataframe tbody tr th:only-of-type {\n",
       "        vertical-align: middle;\n",
       "    }\n",
       "\n",
       "    .dataframe tbody tr th {\n",
       "        vertical-align: top;\n",
       "    }\n",
       "\n",
       "    .dataframe thead th {\n",
       "        text-align: right;\n",
       "    }\n",
       "</style>\n",
       "<table border=\"1\" class=\"dataframe\">\n",
       "  <thead>\n",
       "    <tr style=\"text-align: right;\">\n",
       "      <th></th>\n",
       "      <th>Nombre</th>\n",
       "      <th>Edad</th>\n",
       "      <th>Ciudad</th>\n",
       "    </tr>\n",
       "  </thead>\n",
       "  <tbody>\n",
       "    <tr>\n",
       "      <th>0</th>\n",
       "      <td>Pao</td>\n",
       "      <td>31</td>\n",
       "      <td>Zacatecas</td>\n",
       "    </tr>\n",
       "    <tr>\n",
       "      <th>3</th>\n",
       "      <td>Ana K.</td>\n",
       "      <td>33</td>\n",
       "      <td>CuernaMoo</td>\n",
       "    </tr>\n",
       "  </tbody>\n",
       "</table>\n",
       "</div>"
      ],
      "text/plain": [
       "   Nombre  Edad     Ciudad\n",
       "0     Pao    31  Zacatecas\n",
       "3  Ana K.    33  CuernaMoo"
      ]
     },
     "execution_count": 105,
     "metadata": {},
     "output_type": "execute_result"
    }
   ],
   "source": [
    "# Ejercicio 25:\n",
    "# Crea un DataFrame con columnas 'Nombre', 'Edad' y 'Ciudad'. Filtra y retorna solo las filas con `Edad` > 30.\n",
    "\n",
    "def ex25_filter_rows_age_over_30():\n",
    "    df = pd.DataFrame({\n",
    "        'Nombre': ['Pao', 'Pau', 'Mechh', 'Ana K.', 'Chito'],\n",
    "        'Edad': [31, 29, 30, 33, 4],\n",
    "        'Ciudad': [\"Zacatecas\", \"Ecatepec\", \"Orizaba\", \"CuernaMoo\", \"Jerez\"]\n",
    "    })\n",
    "    df_filtrado = df[df['Edad']>30]\n",
    "    return df_filtrado\n",
    "\n",
    "ex25_filter_rows_age_over_30()"
   ]
  },
  {
   "cell_type": "code",
   "execution_count": 113,
   "id": "a7a761b9",
   "metadata": {},
   "outputs": [
    {
     "data": {
      "text/html": [
       "<div>\n",
       "<style scoped>\n",
       "    .dataframe tbody tr th:only-of-type {\n",
       "        vertical-align: middle;\n",
       "    }\n",
       "\n",
       "    .dataframe tbody tr th {\n",
       "        vertical-align: top;\n",
       "    }\n",
       "\n",
       "    .dataframe thead th {\n",
       "        text-align: right;\n",
       "    }\n",
       "</style>\n",
       "<table border=\"1\" class=\"dataframe\">\n",
       "  <thead>\n",
       "    <tr style=\"text-align: right;\">\n",
       "      <th></th>\n",
       "      <th>Nombre</th>\n",
       "      <th>Puntaje</th>\n",
       "    </tr>\n",
       "  </thead>\n",
       "  <tbody>\n",
       "    <tr>\n",
       "      <th>3</th>\n",
       "      <td>Chito</td>\n",
       "      <td>100</td>\n",
       "    </tr>\n",
       "    <tr>\n",
       "      <th>4</th>\n",
       "      <td>Shippu</td>\n",
       "      <td>99</td>\n",
       "    </tr>\n",
       "    <tr>\n",
       "      <th>0</th>\n",
       "      <td>Pau</td>\n",
       "      <td>92</td>\n",
       "    </tr>\n",
       "    <tr>\n",
       "      <th>1</th>\n",
       "      <td>Mech</td>\n",
       "      <td>88</td>\n",
       "    </tr>\n",
       "    <tr>\n",
       "      <th>2</th>\n",
       "      <td>Ana</td>\n",
       "      <td>82</td>\n",
       "    </tr>\n",
       "  </tbody>\n",
       "</table>\n",
       "</div>"
      ],
      "text/plain": [
       "   Nombre  Puntaje\n",
       "3   Chito      100\n",
       "4  Shippu       99\n",
       "0     Pau       92\n",
       "1    Mech       88\n",
       "2     Ana       82"
      ]
     },
     "execution_count": 113,
     "metadata": {},
     "output_type": "execute_result"
    }
   ],
   "source": [
    "# Ejercicio 26:\n",
    "# Carga un diccionario en un DataFrame (por ejemplo {'Nombre': [...],'Puntaje': [...]}) y ordénalo por la columna de puntaje de mayor a menor.Retorna el DataFrame ordenado.\n",
    "\n",
    "def ex26_load_dict_into_dataframe_and_sort():\n",
    "    return pd.DataFrame({'Nombre':['Pau', 'Mech', 'Ana', 'Chito', 'Shippu'],\n",
    "                         'Puntaje':[92,88,82,100,99]}).sort_values(by='Puntaje',ascending=False)\n",
    "    \n",
    "ex26_load_dict_into_dataframe_and_sort()"
   ]
  },
  {
   "cell_type": "code",
   "execution_count": 115,
   "id": "eb5c3842",
   "metadata": {},
   "outputs": [
    {
     "data": {
      "text/html": [
       "<div>\n",
       "<style scoped>\n",
       "    .dataframe tbody tr th:only-of-type {\n",
       "        vertical-align: middle;\n",
       "    }\n",
       "\n",
       "    .dataframe tbody tr th {\n",
       "        vertical-align: top;\n",
       "    }\n",
       "\n",
       "    .dataframe thead th {\n",
       "        text-align: right;\n",
       "    }\n",
       "</style>\n",
       "<table border=\"1\" class=\"dataframe\">\n",
       "  <thead>\n",
       "    <tr style=\"text-align: right;\">\n",
       "      <th></th>\n",
       "      <th>Producto</th>\n",
       "      <th>Valor</th>\n",
       "    </tr>\n",
       "  </thead>\n",
       "  <tbody>\n",
       "    <tr>\n",
       "      <th>0</th>\n",
       "      <td>Café</td>\n",
       "      <td>42.0</td>\n",
       "    </tr>\n",
       "    <tr>\n",
       "      <th>1</th>\n",
       "      <td>Leche</td>\n",
       "      <td>32.5</td>\n",
       "    </tr>\n",
       "    <tr>\n",
       "      <th>2</th>\n",
       "      <td>Pan</td>\n",
       "      <td>34.0</td>\n",
       "    </tr>\n",
       "  </tbody>\n",
       "</table>\n",
       "</div>"
      ],
      "text/plain": [
       "  Producto  Valor\n",
       "0     Café   42.0\n",
       "1    Leche   32.5\n",
       "2      Pan   34.0"
      ]
     },
     "execution_count": 115,
     "metadata": {},
     "output_type": "execute_result"
    }
   ],
   "source": [
    "# Ejercicio 27:\n",
    "# Dado un DataFrame con columnas 'Grupo' y 'Valor', calcula el promedio de 'Valor' por cada 'Grupo' usando groupby. Retorna el DataFrame agrupado con promedios.\n",
    "\n",
    "def ex27_groupby_mean_value():\n",
    "    df = pd.DataFrame({\n",
    "        'Producto': ['Pan', 'Leche', 'Pan', 'Leche', 'Café', 'Pan'],\n",
    "        'Valor': [15, 26, 32, 39, 42, 55]\n",
    "    })\n",
    "    df_promedio = df.groupby('Producto', as_index=False)['Valor'].mean()\n",
    "    return df_promedio\n",
    "\n",
    "ex27_groupby_mean_value()"
   ]
  },
  {
   "cell_type": "code",
   "execution_count": 118,
   "id": "b85991cb",
   "metadata": {},
   "outputs": [
    {
     "data": {
      "text/plain": [
       "('Pan', np.int64(75))"
      ]
     },
     "execution_count": 118,
     "metadata": {},
     "output_type": "execute_result"
    }
   ],
   "source": [
    "# Ejercicio 28:\n",
    "# Dado un DataFrame de ventas con columnas 'Producto' y 'Cantidad', determina cuál es el producto con la mayor suma total de 'Cantidad' (es decir, el más vendido). Retorna una tupla (Producto, Ventas)\n",
    "\n",
    "def ex28_most_sold_product_from_sales_df():\n",
    "    df = pd.DataFrame({\n",
    "        'Producto': ['Pan', 'Leche', 'Pan', 'Huevos', 'Café', 'Pan'],\n",
    "        'Cantidad': [30, 50, 20, 40, 60, 25]\n",
    "    })\n",
    "    ventas_totales = df.groupby('Producto')['Cantidad'].sum()\n",
    "    producto_max = ventas_totales.idxmax()\n",
    "    cantidad_max = ventas_totales.max()\n",
    "    \n",
    "    return (producto_max, cantidad_max)\n",
    "    return df_promedio\n",
    "\n",
    "ex28_most_sold_product_from_sales_df()\n"
   ]
  },
  {
   "cell_type": "markdown",
   "id": "abf97d53",
   "metadata": {},
   "source": [
    "#### Lambdas y funciones anónimas"
   ]
  },
  {
   "cell_type": "code",
   "execution_count": 126,
   "id": "01fae741",
   "metadata": {},
   "outputs": [
    {
     "data": {
      "text/plain": [
       "[0, 1, 8, 64, 216, 512]"
      ]
     },
     "execution_count": 126,
     "metadata": {},
     "output_type": "execute_result"
    }
   ],
   "source": [
    "# Ejercicio 29:\n",
    "# Usa map junto con una función lambda para elevar al cubo cada número en una lista. Devuelve la lista resultante.\n",
    "\n",
    "def ex29_map_lambda_cube(lst):\n",
    "    return list(map(lambda x: x**3, lst))\n",
    "\n",
    "lst=[0,1,2,4,6,8]\n",
    "ex29_map_lambda_cube(lst)\n"
   ]
  },
  {
   "cell_type": "code",
   "execution_count": 127,
   "id": "8ddc4e3c",
   "metadata": {},
   "outputs": [
    {
     "data": {
      "text/plain": [
       "[4, 6, 2]"
      ]
     },
     "execution_count": 127,
     "metadata": {},
     "output_type": "execute_result"
    }
   ],
   "source": [
    "# Ejercicio 30: \n",
    "# Usa filter y una lambda para quedarte sólo con los números pares de una lista. Devuelve la lista filtrada.\n",
    "\n",
    "def ex30_filter_lambda_even(lst):\n",
    "    return list(filter(lambda x:x % 2 == 0, lst))\n",
    "\n",
    "lst =[5,7,4,9,7,6, 11, 7,2]\n",
    "ex30_filter_lambda_even(lst)"
   ]
  },
  {
   "cell_type": "code",
   "execution_count": 130,
   "id": "38ad95ad",
   "metadata": {},
   "outputs": [
    {
     "data": {
      "text/plain": [
       "[{'nombre': 'Mech', 'edad': 20},\n",
       " {'nombre': 'Pau', 'edad': 20},\n",
       " {'nombre': 'Pao', 'edad': 21},\n",
       " {'nombre': 'Ana', 'edad': 23}]"
      ]
     },
     "metadata": {},
     "output_type": "display_data"
    }
   ],
   "source": [
    "# Ejercicio 31:\n",
    "# Dada una lista de diccionarios, ordénala por el valor asociado a 'keyname' usando sorted con una lambda. Devuelve la lista ordenada.\n",
    "def ex31_sort_list_of_dicts_by_key(lst, keyname):\n",
    "    return sorted(lst, key=lambda d: d[keyname])\n",
    "\n",
    "lst = [\n",
    "    {'nombre': 'Pao', 'edad': 21},\n",
    "    {'nombre': 'Mech', 'edad': 20},\n",
    "    {'nombre': 'Pau', 'edad': 20},\n",
    "    {'nombre': 'Ana', 'edad': 23}\n",
    "]\n",
    "\n",
    "resultado = ex31_sort_list_of_dicts_by_key(lst, 'edad')\n",
    "display(resultado)  "
   ]
  },
  {
   "cell_type": "code",
   "execution_count": 131,
   "id": "d6814ac9",
   "metadata": {},
   "outputs": [
    {
     "data": {
      "text/html": [
       "<div>\n",
       "<style scoped>\n",
       "    .dataframe tbody tr th:only-of-type {\n",
       "        vertical-align: middle;\n",
       "    }\n",
       "\n",
       "    .dataframe tbody tr th {\n",
       "        vertical-align: top;\n",
       "    }\n",
       "\n",
       "    .dataframe thead th {\n",
       "        text-align: right;\n",
       "    }\n",
       "</style>\n",
       "<table border=\"1\" class=\"dataframe\">\n",
       "  <thead>\n",
       "    <tr style=\"text-align: right;\">\n",
       "      <th></th>\n",
       "      <th>Nombre</th>\n",
       "      <th>Nombre_Mayus</th>\n",
       "    </tr>\n",
       "  </thead>\n",
       "  <tbody>\n",
       "    <tr>\n",
       "      <th>0</th>\n",
       "      <td>Pao</td>\n",
       "      <td>PAO</td>\n",
       "    </tr>\n",
       "    <tr>\n",
       "      <th>1</th>\n",
       "      <td>Mech</td>\n",
       "      <td>MECH</td>\n",
       "    </tr>\n",
       "    <tr>\n",
       "      <th>2</th>\n",
       "      <td>Pau</td>\n",
       "      <td>PAU</td>\n",
       "    </tr>\n",
       "    <tr>\n",
       "      <th>3</th>\n",
       "      <td>Ana</td>\n",
       "      <td>ANA</td>\n",
       "    </tr>\n",
       "  </tbody>\n",
       "</table>\n",
       "</div>"
      ],
      "text/plain": [
       "  Nombre Nombre_Mayus\n",
       "0    Pao          PAO\n",
       "1   Mech         MECH\n",
       "2    Pau          PAU\n",
       "3    Ana          ANA"
      ]
     },
     "execution_count": 131,
     "metadata": {},
     "output_type": "execute_result"
    }
   ],
   "source": [
    "# Ejercicio 32:\n",
    "# Crea un DataFrame con una columna 'Nombre' a partir de names_list y usa apply con una función lambda para crear una nueva columna con los nombres en mayúsculas. Devuelve el DataFrame modificado.\n",
    "\n",
    "def ex32_pandas_apply_lambda_uppercase(names_list):\n",
    "    df = pd.DataFrame({'Nombre': names_list})\n",
    "    df['Nombre_Mayus'] = df['Nombre'].apply(lambda x: x.upper())\n",
    "    return df\n",
    "\n",
    "names_list=['Pao','Mech','Pau','Ana']\n",
    "ex32_pandas_apply_lambda_uppercase(names_list)"
   ]
  }
 ],
 "metadata": {
  "kernelspec": {
   "display_name": "Python 3",
   "language": "python",
   "name": "python3"
  },
  "language_info": {
   "codemirror_mode": {
    "name": "ipython",
    "version": 3
   },
   "file_extension": ".py",
   "mimetype": "text/x-python",
   "name": "python",
   "nbconvert_exporter": "python",
   "pygments_lexer": "ipython3",
   "version": "3.13.5"
  }
 },
 "nbformat": 4,
 "nbformat_minor": 5
}
