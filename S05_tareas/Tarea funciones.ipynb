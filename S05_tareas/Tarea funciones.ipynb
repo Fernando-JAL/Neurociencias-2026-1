{
 "cells": [
  {
   "cell_type": "markdown",
   "id": "e5e9989e-e9db-4c46-8bf8-5ba006c5f2e7",
   "metadata": {},
   "source": [
    "### Tarea funciones"
   ]
  },
  {
   "cell_type": "code",
   "execution_count": 1,
   "id": "1934bcb3-51a4-4797-9d33-ebaec32a7ebc",
   "metadata": {},
   "outputs": [
    {
     "data": {
      "text/plain": [
       "1"
      ]
     },
     "execution_count": 1,
     "metadata": {},
     "output_type": "execute_result"
    }
   ],
   "source": [
    "def contador_palabras (string):\n",
    "    return len(string.split())\n",
    "\n",
    "contador_palabras(\"dos\")"
   ]
  },
  {
   "cell_type": "code",
   "execution_count": 2,
   "id": "d403c363-66c8-4910-b843-a18483ac25df",
   "metadata": {},
   "outputs": [
    {
     "data": {
      "text/plain": [
       "2"
      ]
     },
     "execution_count": 2,
     "metadata": {},
     "output_type": "execute_result"
    }
   ],
   "source": [
    "def suma_de_n(lista):\n",
    "    return min(lista)\n",
    "\n",
    "suma_de_n([2, 4, 5, 7])"
   ]
  },
  {
   "cell_type": "code",
   "execution_count": 4,
   "id": "f25b64f1-3505-4165-aeb6-1d0d1b32c5db",
   "metadata": {},
   "outputs": [
    {
     "name": "stdout",
     "output_type": "stream",
     "text": [
      "2\n"
     ]
    }
   ],
   "source": [
    "def contar_letra(frase, letra):\n",
    "    return frase.count(letra)\n",
    "   \n",
    "\n",
    "texto= \"Amo a Taylor Swift\"\n",
    "print(contar_letra(texto, \"a\"))"
   ]
  },
  {
   "cell_type": "code",
   "execution_count": 6,
   "id": "fec38007-959e-4b95-9a1f-80ade9310079",
   "metadata": {},
   "outputs": [
    {
     "name": "stdout",
     "output_type": "stream",
     "text": [
      "mE ESTAS TENTANDO hACE RATO QUE tE ANDO VELANDO\n"
     ]
    }
   ],
   "source": [
    "def cambiar_mayus_minus(texto):\n",
    "    return texto.swapcase()\n",
    "\n",
    "letra = \"Me estas tentando Hace rato que Te ando velando\"\n",
    "\n",
    "print(cambiar_mayus_minus(letra))"
   ]
  },
  {
   "cell_type": "code",
   "execution_count": 8,
   "id": "6469f4d9-797d-4a65-865a-bee80825d3bb",
   "metadata": {},
   "outputs": [
    {
     "name": "stdout",
     "output_type": "stream",
     "text": [
      "HelloKittyalrevesdiceodiolauniversidad\n"
     ]
    }
   ],
   "source": [
    "def eliminar_espacios(texto):\n",
    "    return texto.replace(\" \",\"\")\n",
    "\n",
    "frase= \"Hello Kitty al reves dice odio la universidad\"\n",
    "resultado= eliminar_espacios(frase)\n",
    "print(resultado)"
   ]
  }
 ],
 "metadata": {
  "kernelspec": {
   "display_name": "Python 3 (ipykernel)",
   "language": "python",
   "name": "python3"
  },
  "language_info": {
   "codemirror_mode": {
    "name": "ipython",
    "version": 3
   },
   "file_extension": ".py",
   "mimetype": "text/x-python",
   "name": "python",
   "nbconvert_exporter": "python",
   "pygments_lexer": "ipython3",
   "version": "3.11.1"
  }
 },
 "nbformat": 4,
 "nbformat_minor": 5
}
