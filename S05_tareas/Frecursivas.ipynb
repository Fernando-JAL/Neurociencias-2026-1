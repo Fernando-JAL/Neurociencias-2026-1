{
 "cells": [
  {
   "cell_type": "code",
   "execution_count": 4,
   "id": "55931b02-4616-40a3-a8d4-83d5ed4ce23b",
   "metadata": {},
   "outputs": [
    {
     "data": {
      "text/plain": [
       "120"
      ]
     },
     "execution_count": 4,
     "metadata": {},
     "output_type": "execute_result"
    }
   ],
   "source": [
    "def factorial(n):\n",
    "    if n == 0 or n ==1:\n",
    "        return 1\n",
    "    else:\n",
    "        return n*factorial(n-1)\n",
    "\n",
    "numero=5\n",
    "factorial(numero)"
   ]
  },
  {
   "cell_type": "code",
   "execution_count": null,
   "id": "c9d863a9-ecc6-47ed-ab7b-bf44cd4a84b8",
   "metadata": {},
   "outputs": [],
   "source": [
    "def sumadepotencias(base, exponente):\n",
    "    if exponente==0:\n",
    "        return 0\n",
    "    else: \n",
    "        return base **exponent + sumadepotencias(base, exponente -1 )\n",
    "\n",
    "base=3\n",
    "exponente"
   ]
  }
 ],
 "metadata": {
  "kernelspec": {
   "display_name": "Python 3 (ipykernel)",
   "language": "python",
   "name": "python3"
  },
  "language_info": {
   "codemirror_mode": {
    "name": "ipython",
    "version": 3
   },
   "file_extension": ".py",
   "mimetype": "text/x-python",
   "name": "python",
   "nbconvert_exporter": "python",
   "pygments_lexer": "ipython3",
   "version": "3.13.6"
  }
 },
 "nbformat": 4,
 "nbformat_minor": 5
}
