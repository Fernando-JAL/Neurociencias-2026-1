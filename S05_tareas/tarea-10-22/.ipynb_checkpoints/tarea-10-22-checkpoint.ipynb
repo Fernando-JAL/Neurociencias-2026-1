{
 "cells": [
  {
   "cell_type": "markdown",
   "id": "93d42cda-24b5-452a-8788-707fb2faeead",
   "metadata": {},
   "source": [
    "## Elaboró: Anette Paulina González Solano\n",
    "Investigar:\n",
    "- Conectividad funcional vs extructural\n",
    "- Arquitectura de mundo pequeño\n",
    "- Modularidad/comunidades\n",
    "- Hubs (nodos centrales)\n",
    "- Eficiencia global vs local"
   ]
  },
  {
   "cell_type": "markdown",
   "id": "c8fc9a81-913c-46a5-8ac9-d5d87328dfb4",
   "metadata": {},
   "source": [
    "**Conectividad funcional:** relaciona activación entre regiones (comunicación).\n",
    "**Conectividad estructural:** conexiones físicas entre regiones (cableado).\n",
    "\n",
    "**Mundo pequeño:**\n",
    "- Alto coeficiente de clustering: vecinos de un nodo se conectan entre sí \n",
    "- Caminos cortos: se requieren pocos intermediarios para conectar dos nodos\n",
    "\n",
    "**Modularidad:** grado en que una red se puede subdividir en subredes altamente conectadas internamente y poco conectadas entre sí.\n",
    "\n",
    "**Hub:** \n",
    "- Alto grado: muchas conexiones\n",
    "- Alta centralidad: betweenness (pasa por muchos caminos cortos entre pares de nodos) y eigenvector (está conectado a nodos importantes).\n",
    "\n",
    "**Eficiencia global:** qué tan rápido se comunica cualquier par de nodos en toda la red (↑ eficiencia global = integración modular).\n",
    "**Eficiencia local:** qué tan rápido se comunica un nodo con sus vecinos (↑ eficiencia local = procesamiento especializado intramodular)."
   ]
  }
 ],
 "metadata": {
  "kernelspec": {
   "display_name": "Python 3 (ipykernel)",
   "language": "python",
   "name": "python3"
  },
  "language_info": {
   "codemirror_mode": {
    "name": "ipython",
    "version": 3
   },
   "file_extension": ".py",
   "mimetype": "text/x-python",
   "name": "python",
   "nbconvert_exporter": "python",
   "pygments_lexer": "ipython3",
   "version": "3.13.7"
  }
 },
 "nbformat": 4,
 "nbformat_minor": 5
}
