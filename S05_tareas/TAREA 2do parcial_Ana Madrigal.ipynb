{
 "cells": [
  {
   "cell_type": "markdown",
   "id": "eaf69d30",
   "metadata": {},
   "source": [
    "# TAREA\n",
    "\n",
    "## parea el 2do parcial\n",
    "\n",
    "\n",
    "Cada ejercicio está representado por una función con su docstring que contiene\n",
    "la instrucción (no incluye soluciones). Implementa las funciones por tu cuenta.\n",
    "\n"
   ]
  },
  {
   "cell_type": "code",
   "execution_count": 272,
   "id": "8ce0b772",
   "metadata": {},
   "outputs": [],
   "source": [
    "import pandas as pd\n",
    "import numpy as np"
   ]
  },
  {
   "cell_type": "code",
   "execution_count": null,
   "id": "700c71b4-16e8-4168-b23a-d197ea4d4282",
   "metadata": {},
   "outputs": [],
   "source": [
    "# -----------------------------\n",
    "# 1-4: Pandas concat\n",
    "# -----------------------------\n",
    "def ex1_concat_same_structure():\n",
    "    df1 = pd.DataFrame({\"Nombre\":[\"Ana\",\"Meche\",\"Pao\",\"Paula\",\"Mafer\"], \"Edad\":[22,20,21,20,19]})\n",
    "    df2 = pd.DataFrame({\"Nombre\":[\"Salvador\",\"Karem\",\"Elvira\",\"Monica\",\"Soledad\"], \"Edad\":[56,54,58,46,54]})\n",
    "    dfresultados = pd.concat([df1, df2], ignore_index=True)\n",
    "    return dfresultados\n",
    "    pass\n",
    "\n",
    "def ex2_concat_with_month_column():\n",
    "    Enero = pd.DataFrame({\"Producto\":[\"Iphone\",\"Samsug\",\"LG\",\"Huawei\"], \"Ventas\":[100,3,50,60]})\n",
    "    Febrero = pd.DataFrame({\"Producto\":[\"Iphone\",\"Samsug\",\"LG\",\"Huawei\"], \"Ventas\":[200,12,30,83]})\n",
    "    Enero[\"Mes\"] = \"Enero\"\n",
    "    Febrero[\"Mes\"] = \"Febrero\"\n",
    "    df_ventas = pd.concat([Enero, Febrero], ignore_index=True)\n",
    "    return df_ventas\n",
    "    pass\n",
    "\n",
    "def ex3_concat_diff_columns_fillna():\n",
    "    df_ventas = pd.DataFrame({\"Producto\":[\"Camisa\",\"Pantalón\",\"Zapatos\",\"Sombrero\",\"Bufanda\"], \"Ventas\":[100,3,50,60,22]})\n",
    "    df_disponibles = pd.DataFrame({\"Producto\":[\"Camisa\",\"Pantalón\",\"Zapatos\",\"Sombrero\",\"Bufanda\"], \"Disponibles\":[150,50,80,30,2]})\n",
    "    return pd.concat([df_ventas, df_disponibles], ignore_index=True).fillna(0) \n",
    "    pass\n",
    "\n",
    "def ex4_concat_three_groups():\n",
    "    Grupo1 = pd.DataFrame({\"Alumno\":[\"Ana\",\"Pao\",\"Pau\"], \"Nota\":np.random.randint(1,11,size=3)})\n",
    "    Grupo2 = pd.DataFrame({\"Alumno\":[\"Maca\",\"Lucy\",\"Javier\"], \"Nota\":np.random.randint(1,11,size=3)})\n",
    "    Grupo3 = pd.DataFrame({\"Alumno\":[\"Rodrigo\",\"Luna\",\"Emilio\"], \"Nota\":np.random.randint(1,11,size=3)})\n",
    "    Todos = pd.concat([Grupo1, Grupo2, Grupo3], ignore_index=True)\n",
    "    return Todos\n",
    "    pass"
   ]
  },
  {
   "cell_type": "code",
   "execution_count": null,
   "id": "5dea9aa5-6cdb-4a29-9c9f-7de7276e76aa",
   "metadata": {},
   "outputs": [],
   "source": [
    "print(ex1_concat_same_structure())"
   ]
  },
  {
   "cell_type": "code",
   "execution_count": null,
   "id": "7c7faa26-0f66-45aa-a966-d67a0cf3651d",
   "metadata": {},
   "outputs": [],
   "source": [
    "print(ex2_concat_with_month_column())"
   ]
  },
  {
   "cell_type": "code",
   "execution_count": null,
   "id": "d51fb1fd-af26-46a1-8f67-522169e17ee3",
   "metadata": {},
   "outputs": [],
   "source": [
    "\n",
    "print( ex3_concat_diff_columns_fillna())"
   ]
  },
  {
   "cell_type": "code",
   "execution_count": null,
   "id": "9c1c957e-6eab-4019-827d-79edd02c725b",
   "metadata": {},
   "outputs": [],
   "source": [
    "print(ex4_concat_three_groups())"
   ]
  },
  {
   "cell_type": "code",
   "execution_count": null,
   "id": "8be93077-28de-472b-b8cb-eb77fea11fd1",
   "metadata": {},
   "outputs": [],
   "source": [
    "\n",
    "# -----------------------------\n",
    "# 5-8: Listas\n",
    "# -----------------------------\n",
    "def ex5_remove_duplicates_preserve_order(lst):\n",
    "    lista1 = []\n",
    "    for item in lst:\n",
    "        if item not in lista1:\n",
    "            lista1.append(item)\n",
    "    return lista1\n",
    "    pass\n",
    "\n",
    "def ex6_sort_tuples_by_second_element(tuples_list):\n",
    "    return sorted(tuples_list, key=lambda x:x[1])\n",
    "    pass\n",
    "\n",
    "def ex7_first_n_multiples_of_7(n):\n",
    "    lista = []\n",
    "    for i in range(1, n + 1):\n",
    "        lista.append(7 * i)\n",
    "    return lista\n",
    "    pass\n",
    "\n",
    "def ex8_filter_palindromes(strings):\n",
    "    palindromos = []\n",
    "    for s in strings:\n",
    "        if s == s[::-1]:\n",
    "            palindromos.append(s)\n",
    "    return palindromos\n",
    "    pass\n",
    "\n"
   ]
  },
  {
   "cell_type": "code",
   "execution_count": null,
   "id": "b610fa4a-bb9d-4816-a51d-43504ae7d4e9",
   "metadata": {},
   "outputs": [],
   "source": [
    "lst=(1,1,1,2,44,55,55,100,110)\n",
    "ex5_remove_duplicates_preserve_order(lst)"
   ]
  },
  {
   "cell_type": "code",
   "execution_count": null,
   "id": "cdc57fc0-9ec0-4ef2-9640-f676710c953f",
   "metadata": {},
   "outputs": [],
   "source": [
    "tuples_list= [(\"a\", 3), (\"b\", 1), (\"c\", 2),(\"d\",4)]\n",
    "ex6_sort_tuples_by_second_element(tuples_list)"
   ]
  },
  {
   "cell_type": "code",
   "execution_count": null,
   "id": "66c8d4bf-2238-4986-9463-1a4fd86af5f8",
   "metadata": {},
   "outputs": [],
   "source": [
    "print(ex7_first_n_multiples_of_7(n))"
   ]
  },
  {
   "cell_type": "code",
   "execution_count": null,
   "id": "b8c3eb12-d035-465e-9e8d-2451d147335b",
   "metadata": {},
   "outputs": [],
   "source": [
    "lista_cadenas=[\"ana\",\"reconocer\",\"amor\",\"rallar\",\"oso\",\"somos\",\"cantor\"]\n",
    "resultados= ex8_filter_palindromes(lista_cadenas)\n",
    "print (resultados)"
   ]
  },
  {
   "cell_type": "code",
   "execution_count": 301,
   "id": "0e80d6ec-23fd-473f-9ea2-eb24c09a2d31",
   "metadata": {},
   "outputs": [],
   "source": [
    "# -----------------------------\n",
    "# 9-12: Conjuntos\n",
    "# -----------------------------\n",
    "def ex9_set_intersection_and_difference(set_a, set_b):\n",
    "    return (set_a & set_b, set_a - set_b)\n",
    "    pass\n",
    "\n",
    "def ex10_is_subset(set_a, set_b):\n",
    "    return set_a <= set_b\n",
    "    pass\n",
    "\n",
    "def ex11_count_unique_elements(lst):\n",
    "    unicos = set(lst)\n",
    "    return len(unicos)\n",
    "    pass\n",
    "\n",
    "def ex12_unique_words_from_phrases(phrases):\n",
    "    palabras = set(phrases[0].lower().split())\n",
    "    for frase in phrases[1:]:\n",
    "        palabras &= set(frase.lower().split())\n",
    "    return palabras\n",
    "    pass"
   ]
  },
  {
   "cell_type": "code",
   "execution_count": 302,
   "id": "6e47db22-be63-46ae-b656-ddd58136e65b",
   "metadata": {},
   "outputs": [
    {
     "name": "stdout",
     "output_type": "stream",
     "text": [
      "Intersección: {3, 4}\n",
      "Diferencia: {1, 2}\n"
     ]
    }
   ],
   "source": [
    "set_a = {1, 2, 3, 4}\n",
    "set_b = {3, 4, 5, 6}\n",
    "ex9_set_intersection_and_difference(set_A, set_b)\n",
    "\n",
    "print(\"Intersección:\", interseccion)  \n",
    "print(\"Diferencia:\", diferencia)"
   ]
  },
  {
   "cell_type": "code",
   "execution_count": 303,
   "id": "7ba50e72-d5e6-4223-86d5-03553c4b38f8",
   "metadata": {},
   "outputs": [
    {
     "name": "stdout",
     "output_type": "stream",
     "text": [
      "False\n"
     ]
    }
   ],
   "source": [
    "print(ex10_is_subset(set_a, set_b))"
   ]
  },
  {
   "cell_type": "code",
   "execution_count": null,
   "id": "122c6f6b-b578-472c-8648-08834351f421",
   "metadata": {},
   "outputs": [],
   "source": [
    "lst=[\"abeja\",\"abeja\",\"ajbeja\",\"hola\"]\n",
    "ex11_count_unique_elements(lst)"
   ]
  },
  {
   "cell_type": "code",
   "execution_count": null,
   "id": "15436c21-c6b2-45d1-85da-6bab920e7596",
   "metadata": {},
   "outputs": [],
   "source": [
    "phrases=[\"Me llama Ana\",\"Me llama Monste\",\"Me llama mi mama en las tardes\",\"Mi mama me llama para cocinar\"]\n",
    "ex12_unique_words_from_phrases(phrases)"
   ]
  },
  {
   "cell_type": "code",
   "execution_count": null,
   "id": "9cdf111e-7725-480c-a3ae-c0fd2ff408b4",
   "metadata": {},
   "outputs": [],
   "source": [
    "\n",
    "# -----------------------------\n",
    "# 13-16: Tuplas\n",
    "# -----------------------------\n",
    "def ex13_oldest_person(tuple_list):\n",
    "    return max(tuple_list, key=lambda x:x[1])\n",
    "    pass\n",
    "\n",
    "def ex14_convert_list_of_lists_to_tuples(list_of_lists):\n",
    "    lista_de_tuplas = []\n",
    "    for cada_uno in list_of_lists:\n",
    "        lista_de_tuplas.append(tuple(cada_uno))\n",
    "    return lista_de_tuplas\n",
    "    pass\n",
    "\n",
    "def ex15_sum_of_tuple_abc(t):\n",
    "    a, b, c = t\n",
    "    return a + b + c\n",
    "    pass\n",
    "\n",
    "def ex16_sort_product_price(prod_price_list):\n",
    "    return sorted(prod_price_list, key=lambda x:x[1])\n",
    "    pass\n"
   ]
  },
  {
   "cell_type": "code",
   "execution_count": null,
   "id": "809b4456-752c-45cb-96a0-299480c4c88e",
   "metadata": {},
   "outputs": [],
   "source": [
    "tuple_list=[(\"Ana\",22),(\"Salvador\",54),(\"Karem\",50),(\"Nich\",30)]\n",
    "ex13_oldest_person(tuple_list)"
   ]
  },
  {
   "cell_type": "code",
   "execution_count": null,
   "id": "10c5c0a0-1336-48ce-aa28-21c88e105790",
   "metadata": {},
   "outputs": [],
   "source": [
    "list_of_lists = [[1, 2], [3, 4], [5, 6]]\n",
    "ex14_convert_list_of_lists_to_tuples(list_of_lists)"
   ]
  },
  {
   "cell_type": "code",
   "execution_count": null,
   "id": "04e5eecd-2c3e-4147-8bbe-efdb1dc205fc",
   "metadata": {},
   "outputs": [],
   "source": [
    "t= [(1.99),(3.15),(15.3)]\n",
    "ex15_sum_of_tuple_abc(t)"
   ]
  },
  {
   "cell_type": "code",
   "execution_count": null,
   "id": "ffce4df2-0d56-40e2-842b-a3a3338bbc4f",
   "metadata": {},
   "outputs": [],
   "source": [
    "prod_price_list= [(\"Lasaña\",100),(\"Pizza\",250),(\"Pasta con camarones\",350),(\"Guacamole\",45)]\n",
    "ex16_sort_product_price(prod_price_list)"
   ]
  },
  {
   "cell_type": "code",
   "execution_count": 309,
   "id": "c436b120-bedc-4b41-8825-2aa48c2eb74a",
   "metadata": {},
   "outputs": [],
   "source": [
    "\n",
    "# -----------------------------\n",
    "# 17-20: Diccionarios\n",
    "# -----------------------------\n",
    "def ex17_char_frequency(s):\n",
    "    frecuencia = {}\n",
    "    for caracter in s:\n",
    "        if caracter in frecuencia:\n",
    "            frecuencia[caracter] += 1\n",
    "        else:\n",
    "            frecuencia[caracter] = 1\n",
    "    return frecuencia\n",
    "    pass\n",
    "\n",
    "def ex18_best_student(grades_dict):\n",
    "    return max(grades_dict.items(), key=lambda x: x[1])\n",
    "    pass\n",
    "\n",
    "def ex19_invert_dictionary(d):\n",
    "    return dict((clave, valor) for valor, clave in d.items()) \n",
    "    pass\n",
    "\n",
    "def ex20_merge_dicts_sum_values(d1, d2):\n",
    "    original = d1.copy()\n",
    "    for clave, valor in d2.items():\n",
    "        if clave in original:\n",
    "            original[clave] += valor\n",
    "        else:\n",
    "            original[clave] = valor\n",
    "    return original\n",
    "    pass\n"
   ]
  },
  {
   "cell_type": "code",
   "execution_count": 310,
   "id": "08f24760-bd84-4a6a-b012-5257aa8d3812",
   "metadata": {},
   "outputs": [
    {
     "data": {
      "text/plain": [
       "{'p': 1,\n",
       " 'r': 1,\n",
       " 'u': 3,\n",
       " 'e': 4,\n",
       " 'b': 1,\n",
       " 'a': 3,\n",
       " ' ': 5,\n",
       " 'd': 1,\n",
       " 'l': 1,\n",
       " 't': 2,\n",
       " 'x': 1,\n",
       " 'o': 1,\n",
       " 'q': 2,\n",
       " 'h': 1,\n",
       " 'y': 1,\n",
       " 'i': 1}"
      ]
     },
     "execution_count": 310,
     "metadata": {},
     "output_type": "execute_result"
    }
   ],
   "source": [
    "s=(\"prueba del texto que hay aqui\")\n",
    "ex17_char_frequency(s)"
   ]
  },
  {
   "cell_type": "code",
   "execution_count": 311,
   "id": "f35d086d-0558-4d09-9eb1-807e844d28f6",
   "metadata": {},
   "outputs": [
    {
     "data": {
      "text/plain": [
       "('Salva', 9.9)"
      ]
     },
     "execution_count": 311,
     "metadata": {},
     "output_type": "execute_result"
    }
   ],
   "source": [
    "grades_dict = {\"Ana\": 8.7, \"Luis\": 9.5, \"Martha\": 7.9,\"Salva\":9.9}\n",
    "ex18_best_student(grades_dict)"
   ]
  },
  {
   "cell_type": "code",
   "execution_count": 312,
   "id": "ab9c22e5-bc89-491c-bcff-083b4c9023eb",
   "metadata": {},
   "outputs": [
    {
     "data": {
      "text/plain": [
       "{8.7: 'Ana', 9.5: 'Luis', 7.9: 'Marta', 9.9: 'Salva'}"
      ]
     },
     "execution_count": 312,
     "metadata": {},
     "output_type": "execute_result"
    }
   ],
   "source": [
    "d = {\"Ana\": 8.7, \"Luis\": 9.5, \"Marta\": 7.9,\"Salva\":9.9}\n",
    "ex19_invert_dictionary(d)"
   ]
  },
  {
   "cell_type": "code",
   "execution_count": 313,
   "id": "41218234-5eba-4ef0-8ba1-1cfe09f94d1f",
   "metadata": {},
   "outputs": [
    {
     "data": {
      "text/plain": [
       "{'manzanas': 3, 'peras': 9, 'anabanana': 5, 'kiwisini': 6}"
      ]
     },
     "execution_count": 313,
     "metadata": {},
     "output_type": "execute_result"
    }
   ],
   "source": [
    "d1 = {\"manzanas\": 3, \"peras\": 5, \"anabanana\": 2}\n",
    "d2 = {\"peras\": 4, \"anabanana\": 3, \"kiwisini\": 6}\n",
    "ex20_merge_dicts_sum_values(d1, d2)"
   ]
  },
  {
   "cell_type": "code",
   "execution_count": 288,
   "id": "315188d5-ef69-4dfb-abba-d18e3f8cd883",
   "metadata": {},
   "outputs": [],
   "source": [
    "\n",
    "# -----------------------------\n",
    "# 21-24: NumPy\n",
    "# -----------------------------\n",
    "def ex21_numpy_array_set_fifth():\n",
    "    arreglo = np.zeros(10)\n",
    "    arreglo[4] = 1\n",
    "    return arreglo\n",
    "    pass\n",
    "\n",
    "def ex22_numpy_matrix_3x3():\n",
    "    matriz = np.arange(9).reshape((3,3))\n",
    "    return matriz\n",
    "    pass\n",
    "\n",
    "def ex23_numpy_statistics():\n",
    "    aleatorio = np.random.randint(0,101,20)\n",
    "    media = np.mean(aleatorio)\n",
    "    mediana = np.median(aleatorio)\n",
    "    desviacion = np.std(aleatorio)\n",
    "    return (media, mediana, desviacion)\n",
    "    pass\n",
    "\n",
    "def ex24_numpy_clip_values(arr):\n",
    "    reemplazo = []\n",
    "    for elemento in arr:\n",
    "        if elemento > 10:\n",
    "            reemplazo.append(10)\n",
    "        else:\n",
    "            reemplazo.append(elemento)\n",
    "    return reemplazo\n",
    "    pass\n"
   ]
  },
  {
   "cell_type": "code",
   "execution_count": null,
   "id": "f073f86b-3f80-4b32-98eb-1466c0778085",
   "metadata": {},
   "outputs": [],
   "source": [
    "print (ex21_numpy_array_set_fifth())"
   ]
  },
  {
   "cell_type": "code",
   "execution_count": null,
   "id": "170ede76-dcad-4e60-bc72-861604b8d47e",
   "metadata": {},
   "outputs": [],
   "source": [
    "print (ex22_numpy_matrix_3x3())"
   ]
  },
  {
   "cell_type": "code",
   "execution_count": null,
   "id": "82b3fe76-b71c-4c29-9a99-5f3f41c507d4",
   "metadata": {},
   "outputs": [],
   "source": [
    "print(ex23_numpy_statistics())"
   ]
  },
  {
   "cell_type": "code",
   "execution_count": null,
   "id": "fa8af163-425a-43da-a272-eb1259c639fe",
   "metadata": {},
   "outputs": [],
   "source": [
    "arr=[5, 12, 7, 20, 3, 13,13]\n",
    "ex24_numpy_clip_values(arr)"
   ]
  },
  {
   "cell_type": "code",
   "execution_count": null,
   "id": "9f5be7a2-d77a-40a8-94e8-fa46ab17a685",
   "metadata": {},
   "outputs": [],
   "source": [
    "# -----------------------------\n",
    "# 25-28: Pandas (otros)\n",
    "# -----------------------------\n",
    "def ex25_filter_rows_age_over_30():\n",
    "    data = {\"Nombre\": [\"Ana\", \"Andrea\", \"Salvador\", \"Javier\", \"Oswaldo\"],\n",
    "            \"Edad\": [22, 25, 50, 42, 47],\n",
    "            \"Ciudad\": [\"Italia\", \"Singapor\", \"Francia\", \"Valencia\", \"Portugal\"]}\n",
    "    df = pd.DataFrame(data)\n",
    "    df_filtrado = df[df[\"Edad\"] > 30]\n",
    "    return df_filtrado\n",
    "    pass\n",
    "\n",
    "def ex26_load_dict_into_dataframe_and_sort():\n",
    "    datos = {\"COMIDA PARA EL CONVIVIO\": [\"Tacos de sal\",\"Pizza\",\"Tostadas de pata\",\"Pozole\",\"Codito\"],\n",
    "             \"Votos\": [13,20,5,7,6]}\n",
    "    convivio = pd.DataFrame(datos)\n",
    "    ordenado = convivio.sort_values(by=\"Votos\", ascending=False)\n",
    "    return ordenado\n",
    "    pass\n",
    "\n",
    "def ex27_groupby_mean_value():\n",
    "    info = {\"Grupos\": [\"A\",\"B\",\"B\",\"C\",\"A\",\"B\",\"C\"],\n",
    "            \"Valor\": [2,4,55,32,12,7,8]}\n",
    "    valores_data = pd.DataFrame(info)\n",
    "    valores_promedio = valores_data.groupby(by=\"Grupos\")[\"Valor\"].mean()\n",
    "    return valores_promedio\n",
    "    pass\n",
    "\n",
    "def ex28_most_sold_product_from_sales_df():\n",
    "    venta_del_dia = {\"Producto\": [\"Tacos\", \"Pizza\", \"Tacos\", \"Pozole\", \"Pizza\", \"Codito\", \"Tacos\"],\n",
    "                     \"Cantidad\": [10,5,20,7,15,6,5]}\n",
    "    data = pd.DataFrame(venta_del_dia)\n",
    "    totales = data.groupby(by=\"Producto\")[\"Cantidad\"].sum()\n",
    "    mas_vendido = totales.idxmax()\n",
    "    mas_vendida = totales[mas_vendido]\n",
    "    return (mas_vendido, mas_vendida)\n",
    "    pass"
   ]
  },
  {
   "cell_type": "code",
   "execution_count": null,
   "id": "2425381c-3a52-4ff0-acc8-382212474725",
   "metadata": {},
   "outputs": [],
   "source": [
    "print(ex25_filter_rows_age_over_30())"
   ]
  },
  {
   "cell_type": "code",
   "execution_count": null,
   "id": "c6fa46c9-6201-45a4-98d5-3054b118d1ce",
   "metadata": {},
   "outputs": [],
   "source": [
    "print(ex26_load_dict_into_dataframe_and_sort())"
   ]
  },
  {
   "cell_type": "code",
   "execution_count": null,
   "id": "f2ff94f6-9797-4cba-a195-1ddfd07571a3",
   "metadata": {},
   "outputs": [],
   "source": [
    "print (ex27_groupby_mean_value())"
   ]
  },
  {
   "cell_type": "code",
   "execution_count": null,
   "id": "56fcc852-9ae9-4da1-ad67-e85a264f52f7",
   "metadata": {},
   "outputs": [],
   "source": [
    "print(ex28_most_sold_product_from_sales_df())"
   ]
  },
  {
   "cell_type": "code",
   "execution_count": 304,
   "id": "6ccdc50a-f681-4b92-9dae-f323952272e3",
   "metadata": {},
   "outputs": [],
   "source": [
    "# -----------------------------\n",
    "# 29-32: Lambdas y funciones anónimas\n",
    "# -----------------------------\n",
    "def ex29_map_lambda_cube(lst):\n",
    "    cubo = lambda x: x**3\n",
    "    return list(map(cubo, lst))\n",
    "    pass\n",
    "\n",
    "def ex30_filter_lambda_even(lst):\n",
    "    pares = filter(lambda x: x % 2 == 0, lst)\n",
    "    return list(pares)\n",
    "    pass\n",
    "\n",
    "def ex31_sort_list_of_dicts_by_key(lst, keyname):\n",
    "    return sorted(lst, key=lambda x: x[keyname])\n",
    "    pass\n",
    "\n",
    "def ex32_pandas_apply_lambda_uppercase(names_list):\n",
    "    df = pd.DataFrame({\"Nombre\": names_list})\n",
    "    df[\"Nombre_mayus\"] = df[\"Nombre\"].apply(lambda x: x.upper())\n",
    "    return df\n",
    "    pass"
   ]
  },
  {
   "cell_type": "code",
   "execution_count": 305,
   "id": "0935fb80-aeef-4d04-a4bd-01600ca4b6ee",
   "metadata": {},
   "outputs": [
    {
     "data": {
      "text/plain": [
       "[1, 8, 27, 64]"
      ]
     },
     "execution_count": 305,
     "metadata": {},
     "output_type": "execute_result"
    }
   ],
   "source": [
    "lst=[1, 2, 3, 4]\n",
    "ex29_map_lambda_cube(lst)"
   ]
  },
  {
   "cell_type": "code",
   "execution_count": 306,
   "id": "a053e46c-dfd7-4e2e-95ea-8cce30b3a71a",
   "metadata": {},
   "outputs": [
    {
     "name": "stdout",
     "output_type": "stream",
     "text": [
      "[2, 4]\n"
     ]
    }
   ],
   "source": [
    "print(ex30_filter_lambda_even(lst))"
   ]
  },
  {
   "cell_type": "code",
   "execution_count": 307,
   "id": "8fd16080-3bf9-4357-930f-92d2ff237e9d",
   "metadata": {},
   "outputs": [
    {
     "name": "stdout",
     "output_type": "stream",
     "text": [
      "[{'nombre': 'Ana', 'edad': 25}, {'nombre': 'Andrea', 'edad': 25}, {'nombre': 'Jade', 'edad': 27}, {'nombre': 'Salvador', 'edad': 50}]\n"
     ]
    }
   ],
   "source": [
    "lst = [{\"nombre\": \"Ana\", \"edad\": 25},\n",
    "    {\"nombre\": \"Salvador\", \"edad\": 50},\n",
    "    {\"nombre\": \"Andrea\", \"edad\": 25},\n",
    "    {\"nombre\": \"Jade\", \"edad\": 27}]\n",
    "\n",
    "\n",
    "print(ex31_sort_list_of_dicts_by_key(lst, \"edad\"))\n"
   ]
  },
  {
   "cell_type": "code",
   "execution_count": 314,
   "id": "ad22a423-cae8-4833-b84a-603f4a02615e",
   "metadata": {},
   "outputs": [
    {
     "name": "stdout",
     "output_type": "stream",
     "text": [
      "     Nombre Nombre_mayus\n",
      "0       Ana          ANA\n",
      "1  Salvador     SALVADOR\n",
      "2    Andrea       ANDREA\n",
      "3      Jade         JADE\n"
     ]
    }
   ],
   "source": [
    "names_list = [\"Ana\", \"Salvador\", \"Andrea\", \"Jade\"]\n",
    "print(ex32_pandas_apply_lambda_uppercase(names_list))\n"
   ]
  }
 ],
 "metadata": {
  "kernelspec": {
   "display_name": "Python 3 (ipykernel)",
   "language": "python",
   "name": "python3"
  },
  "language_info": {
   "codemirror_mode": {
    "name": "ipython",
    "version": 3
   },
   "file_extension": ".py",
   "mimetype": "text/x-python",
   "name": "python",
   "nbconvert_exporter": "python",
   "pygments_lexer": "ipython3",
   "version": "3.14.0"
  }
 },
 "nbformat": 4,
 "nbformat_minor": 5
}
