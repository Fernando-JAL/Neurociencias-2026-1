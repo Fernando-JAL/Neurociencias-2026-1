{
 "cells": [
  {
   "cell_type": "code",
   "execution_count": 2,
   "id": "714fca8d-1278-411b-8f37-37d981b4c335",
   "metadata": {},
   "outputs": [
    {
     "name": "stdout",
     "output_type": "stream",
     "text": [
      "all: False\n"
     ]
    }
   ],
   "source": [
    "numeros = [2, 32, 87]\n",
    "print(\"all:\", all(n > 0 for n in numeros)) "
   ]
  },
  {
   "cell_type": "code",
   "execution_count": 3,
   "id": "6aa0ce81-e7d5-4eeb-9d50-deb0af8b483d",
   "metadata": {},
   "outputs": [
    {
     "name": "stdout",
     "output_type": "stream",
     "text": [
      "any: True\n"
     ]
    }
   ],
   "source": [
    "numeros = [0, 0, 3, 0]\n",
    "print(\"any:\", any(n != 0 for n in numeros))  "
   ]
  },
  {
   "cell_type": "code",
   "execution_count": 4,
   "id": "717a76a5-6b27-4af0-bd1d-afe4b31eabed",
   "metadata": {},
   "outputs": [
    {
     "name": "stdout",
     "output_type": "stream",
     "text": [
      "abs: 10\n"
     ]
    }
   ],
   "source": [
    "print(\"abs:\", abs(-10))  # 10"
   ]
  },
  {
   "cell_type": "code",
   "execution_count": 8,
   "id": "e711ff04-5db9-4545-9a94-d27bc09804b4",
   "metadata": {},
   "outputs": [
    {
     "name": "stdin",
     "output_type": "stream",
     "text": [
      "Escribe tu nombre:  Javier\n"
     ]
    },
    {
     "name": "stdout",
     "output_type": "stream",
     "text": [
      "Hola, Javier\n"
     ]
    }
   ],
   "source": [
    "# El input es para pedirle una entrada al usuario \n",
    "nombre = input (\"¿Cómo te llamas?: \")\n",
    "print(\"Bienvenido,\", nombre)"
   ]
  },
  {
   "cell_type": "code",
   "execution_count": 11,
   "id": "ce50bcf5-ce0b-4306-bbbe-c5b52f45e0d8",
   "metadata": {},
   "outputs": [
    {
     "name": "stdout",
     "output_type": "stream",
     "text": [
      "max: 183\n"
     ]
    }
   ],
   "source": [
    "valores = [183, 53, 43, 103]\n",
    "print(\"Maximo:\", max(valores))  "
   ]
  },
  {
   "cell_type": "code",
   "execution_count": 19,
   "id": "e9a06332-5512-4096-b548-973608dd0e75",
   "metadata": {},
   "outputs": [
    {
     "name": "stdout",
     "output_type": "stream",
     "text": [
      "min: 2\n"
     ]
    }
   ],
   "source": [
    "valores= [142,342,543,53,3,7,985621,52,2]\n",
    "print(\"Minimo:\", min(valores))  "
   ]
  },
  {
   "cell_type": "code",
   "execution_count": 20,
   "id": "2dbdb1b7-06f8-41c2-8d9e-45dcbc379c4c",
   "metadata": {},
   "outputs": [
    {
     "name": "stdout",
     "output_type": "stream",
     "text": [
      "pow: 27\n"
     ]
    }
   ],
   "source": [
    "print(\"Potenciado:\", pow(3,3)) "
   ]
  },
  {
   "cell_type": "code",
   "execution_count": 21,
   "id": "111d1420-9fcf-479f-a818-ee7d3ef41059",
   "metadata": {},
   "outputs": [
    {
     "name": "stdout",
     "output_type": "stream",
     "text": [
      "reversed: [1, 2, 3, 4, 5, 6, 7, 8, 9, 10, 11, 12, 13, 14, 15]\n"
     ]
    }
   ],
   "source": [
    "lista = [15,14,13,12,11,10,9,8,7,6,5,4,3,2,1]\n",
    "print(\"Inversos:\", list(reversed(lista))) "
   ]
  },
  {
   "cell_type": "code",
   "execution_count": 23,
   "id": "ff599e14-0c3e-49bc-89d1-980d53bc8691",
   "metadata": {},
   "outputs": [
    {
     "name": "stdout",
     "output_type": "stream",
     "text": [
      "round: 3.14\n"
     ]
    }
   ],
   "source": [
    "print(\"Redondeados:\", round(14131.13122351245, 2))  "
   ]
  },
  {
   "cell_type": "code",
   "execution_count": null,
   "id": "3d4bc117-4df8-4da9-8eaf-ed37ac095ded",
   "metadata": {},
   "outputs": [],
   "source": [
    "numeros = [1,4,2,6,8,4,3,7]\n",
    "print(\"Acomodados:\", sorted(numeros))"
   ]
  },
  {
   "cell_type": "code",
   "execution_count": 25,
   "id": "1f8a3b9e-54e2-4183-b7bf-0473aae4c591",
   "metadata": {},
   "outputs": [
    {
     "name": "stdout",
     "output_type": "stream",
     "text": [
      "Total de la suma: 266\n"
     ]
    }
   ],
   "source": [
    "Numeros_a_sumar= [23,46,197]\n",
    "print(\"Total de la suma:\", sum(Numeros_a_sumar))"
   ]
  }
 ],
 "metadata": {
  "kernelspec": {
   "display_name": "Python 3 (ipykernel)",
   "language": "python",
   "name": "python3"
  },
  "language_info": {
   "codemirror_mode": {
    "name": "ipython",
    "version": 3
   },
   "file_extension": ".py",
   "mimetype": "text/x-python",
   "name": "python",
   "nbconvert_exporter": "python",
   "pygments_lexer": "ipython3",
   "version": "3.13.6"
  }
 },
 "nbformat": 4,
 "nbformat_minor": 5
}
