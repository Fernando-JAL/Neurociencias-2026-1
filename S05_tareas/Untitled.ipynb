{
 "cells": [
  {
   "cell_type": "markdown",
   "id": "c2d081e8-07df-4408-9e12-4f8cfc2566db",
   "metadata": {},
   "source": [
    "# Tarea: hacer formulas con funciones recursivas"
   ]
  },
  {
   "cell_type": "code",
   "execution_count": null,
   "id": "7465e76e-c6b2-4950-810c-606daf7d01e6",
   "metadata": {},
   "outputs": [],
   "source": []
  },
  {
   "cell_type": "code",
   "execution_count": null,
   "id": "95608b33-39a3-4682-931b-a1efdcd50de2",
   "metadata": {},
   "outputs": [],
   "source": []
  },
  {
   "cell_type": "code",
   "execution_count": null,
   "id": "4bd027cf-affd-4cb5-b218-c575625fe205",
   "metadata": {},
   "outputs": [],
   "source": []
  },
  {
   "cell_type": "code",
   "execution_count": null,
   "id": "700e740a-fb2a-40b0-b000-1d0f270e7aa9",
   "metadata": {},
   "outputs": [],
   "source": []
  },
  {
   "cell_type": "code",
   "execution_count": null,
   "id": "68595d7f-3a2c-43cc-b601-a8c84ad39286",
   "metadata": {},
   "outputs": [],
   "source": []
  },
  {
   "cell_type": "code",
   "execution_count": null,
   "id": "d82f755c-7cae-4140-aed3-170aad480dfe",
   "metadata": {},
   "outputs": [],
   "source": []
  },
  {
   "cell_type": "code",
   "execution_count": null,
   "id": "ba0f149d-9fd2-4679-9d6a-b2860eaf9fa7",
   "metadata": {},
   "outputs": [],
   "source": []
  },
  {
   "cell_type": "code",
   "execution_count": null,
   "id": "187b46e3-48dc-43ac-a984-dbf1af187930",
   "metadata": {},
   "outputs": [],
   "source": []
  }
 ],
 "metadata": {
  "kernelspec": {
   "display_name": "Python 3 (ipykernel)",
   "language": "python",
   "name": "python3"
  },
  "language_info": {
   "codemirror_mode": {
    "name": "ipython",
    "version": 3
   },
   "file_extension": ".py",
   "mimetype": "text/x-python",
   "name": "python",
   "nbconvert_exporter": "python",
   "pygments_lexer": "ipython3",
   "version": "3.13.7"
  }
 },
 "nbformat": 4,
 "nbformat_minor": 5
}
