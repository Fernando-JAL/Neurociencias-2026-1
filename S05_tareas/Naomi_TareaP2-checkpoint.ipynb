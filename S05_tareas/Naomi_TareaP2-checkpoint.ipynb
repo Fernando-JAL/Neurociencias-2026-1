{
 "cells": [
  {
   "cell_type": "markdown",
   "id": "eaf69d30",
   "metadata": {},
   "source": [
    "# TAREA\n",
    "\n",
    "## parea el 2do parcial\n",
    "\n",
    "\n",
    "Cada ejercicio está representado por una función con su docstring que contiene\n",
    "la instrucción (no incluye soluciones). Implementa las funciones por tu cuenta.\n",
    "\n"
   ]
  },
  {
   "cell_type": "code",
   "execution_count": 47,
   "id": "8ce0b772",
   "metadata": {},
   "outputs": [],
   "source": [
    "import pandas as pd\n",
    "import numpy as np"
   ]
  },
  {
   "cell_type": "code",
   "execution_count": 56,
   "id": "8f04e36b-4d4a-4c67-94dc-a06301cb5e08",
   "metadata": {},
   "outputs": [],
   "source": [
    "def ex1_concat_same_structure():\n",
    "    \"\"\"Ejercicio 1:\n",
    "    Crea dos DataFrame que compartan la misma estructura de columnas (por ejemplo,\n",
    "    'Nombre' y 'Edad'), con al menos 3 filas cada uno. Concaténalos verticalmente\n",
    "    en un único DataFrame. Retorna el DataFrame resultante.\n",
    "    \"\"\"\n",
    "    df1= pd.DataFrame({\"Nombre\":[\"chana\",\"juana\",\"marta\"],\n",
    "                      \"Edad\":[53,60,26]})\n",
    "    df2=pd.DataFrame({\"Nombre\":[\"Lucy\",\"Montse\",\"Rodri\"],\n",
    "                     \"Edad\":[14,13,18]})\n",
    "    return pd.concat([df1,df2], ignore_index=True)\n"
   ]
  },
  {
   "cell_type": "code",
   "execution_count": 57,
   "id": "6f785f5a-5913-4f20-9cf9-cb546156b90c",
   "metadata": {},
   "outputs": [],
   "source": [
    "def ex2_concat_with_month_column():\n",
    "    \"\"\"Ejercicio 2:\n",
    "    Tienes un DataFrame con ventas de enero y otro con ventas de febrero (mismas columnas).\n",
    "    Concaténalos en un solo DataFrame y añade una columna que indique el mes original\n",
    "    de cada fila (por ejemplo: 'Enero' o 'Febrero'). Retorna el DataFrame resultante.\n",
    "    \"\"\"\n",
    "    enero = pd.DataFrame({'Venta': [200, 150, 300], 'Producto': ['A', 'B', 'C']})\n",
    "    febrero = pd.DataFrame({'Venta': [250, 100, 350], 'Producto': ['A', 'B', 'C']})\n",
    "    enero['Mes'] = 'Enero'\n",
    "    febrero['Mes'] = 'Febrero'\n",
    "    return pd.concat([enero, febrero], ignore_index=True)\n"
   ]
  },
  {
   "cell_type": "code",
   "execution_count": 58,
   "id": "b8f93c5c-c2b7-4eaa-ae07-1c4af81985f2",
   "metadata": {},
   "outputs": [],
   "source": [
    "def ex3_concat_diff_columns_fillna():\n",
    "    \"\"\"Ejercicio 3:\n",
    "    Crea dos DataFrame que no tengan exactamente las mismas columnas (ej.: uno tiene\n",
    "    'Producto' y 'Ventas', el otro 'Producto' y 'Descuento'). Concaténalos y asegura\n",
    "    que los valores faltantes queden rellenados con 0. Retorna el DataFrame resultante.\n",
    "    \"\"\"\n",
    "    df1 = pd.DataFrame({'Producto': ['A', 'B'], 'Ventas': [100, 150]})\n",
    "    df2 = pd.DataFrame({'Producto': ['C', 'D'], 'Descuento': [5, 10]})\n",
    "    result = pd.concat([df1, df2], ignore_index=True).fillna(0)\n",
    "    return result\n"
   ]
  },
  {
   "cell_type": "code",
   "execution_count": 59,
   "id": "41b9566d-43be-40d8-8b0b-1dacedb374da",
   "metadata": {},
   "outputs": [],
   "source": [
    "def ex4_concat_three_groups():\n",
    "    \"\"\"Ejercicio 4:\n",
    "    Genera tres DataFrame pequeños (cada uno con, por ejemplo, 3 filas) que representen\n",
    "    notas de distintos grupos de alumnos. Concaténalos verticalmente en un solo DataFrame\n",
    "    que contenga todas las notas. Retorna el DataFrame resultante.\n",
    "    \"\"\"\n",
    "    g1 = pd.DataFrame({'Alumno': ['A1', 'A2', 'A3'], 'Nota': [8, 7, 9]})\n",
    "    g2 = pd.DataFrame({'Alumno': ['B1', 'B2', 'B3'], 'Nota': [6, 9, 7]})\n",
    "    g3 = pd.DataFrame({'Alumno': ['C1', 'C2', 'C3'], 'Nota': [10, 8, 9]})\n",
    "    return pd.concat([g1, g2, g3], ignore_index=True)\n"
   ]
  },
  {
   "cell_type": "code",
   "execution_count": 60,
   "id": "d3bec642-9f39-4c6a-9a20-4ac0db52b18a",
   "metadata": {},
   "outputs": [
    {
     "name": "stdout",
     "output_type": "stream",
     "text": [
      "[1, 2, 3, 4]\n"
     ]
    }
   ],
   "source": [
    "def ex5_remove_duplicates_preserve_order(lst):\n",
    "    \"\"\"Ejercicio 5:\n",
    "    Dada una lista de enteros (o strings) que puede contener duplicados, devuelve una\n",
    "    nueva lista sin duplicados preservando el orden original. No uses directamente set()\n",
    "    para eliminar duplicados (escribe la lógica que preserve el orden). Retorna la nueva \n",
    "    lista sin duplicados.\"\"\"\n",
    "    \n",
    "def ex5_remove_duplicates_preserve_order(lst):\n",
    "    result = []\n",
    "    for i in lst:\n",
    "        if i not in result:\n",
    "            result.append(i)\n",
    "    return result\n",
    "mi_lista = [1, 2, 2, 3, 1, 4]\n",
    "print(ex5_remove_duplicates_preserve_order(mi_lista))\n"
   ]
  },
  {
   "cell_type": "code",
   "execution_count": 61,
   "id": "bb899218-d308-4851-aee3-53610baa3ca6",
   "metadata": {},
   "outputs": [
    {
     "name": "stdout",
     "output_type": "stream",
     "text": [
      "[('b', 1), ('c', 2), ('a', 3)]\n"
     ]
    }
   ],
   "source": [
    "def ex6_sort_tuples_by_second_element(tuples_list):\n",
    "    \"\"\"Ejercicio 6:\n",
    "    Dada una lista de tuplas, por ejemplo [(\"a\", 3), (\"b\", 1), (\"c\", 2)], ordénala\n",
    "    por el segundo elemento de cada tupla y devuelve la lista ordenada. Usa una función\n",
    "    anónima si lo deseas. Retorna la lista ordenada.\n",
    "    \"\"\"\n",
    "    return sorted(tuples_list, key=lambda x: x[1])\n",
    "print(ex6_sort_tuples_by_second_element([(\"a\", 3), (\"b\", 1), (\"c\", 2)]))\n"
   ]
  },
  {
   "cell_type": "code",
   "execution_count": 62,
   "id": "d1dfe4ee-91c2-4d50-8cd6-7842d2e5407a",
   "metadata": {},
   "outputs": [],
   "source": [
    "def ex7_first_n_multiples_of_7(n):\n",
    "    return [7 * i for i in range(1, n + 1)]\n",
    "    \"\"\"Ejercicio 7:\n",
    "    Devuelve una lista con los primeros n múltiplos de 7 (por ejemplo, n=5 -> [7,14,21,28,35]).\n",
    "    Retorna la lista generada.\n",
    "    \"\"\""
   ]
  },
  {
   "cell_type": "code",
   "execution_count": 63,
   "id": "01e28202-5ad3-4cc1-baa7-ddb720d3df18",
   "metadata": {},
   "outputs": [
    {
     "name": "stdout",
     "output_type": "stream",
     "text": [
      "['oso', 'ana', 'reconocer']\n"
     ]
    }
   ],
   "source": [
    "def ex8_filter_palindromes(strings):\n",
    "    return [s for s in strings if s == s[::-1]]\n",
    "print(ex8_filter_palindromes([\"oso\", \"casa\", \"ana\", \"reconocer\"]))"
   ]
  },
  {
   "cell_type": "code",
   "execution_count": 64,
   "id": "13370713-ea20-4c22-a0b8-e0d821a6a14d",
   "metadata": {},
   "outputs": [],
   "source": [
    "def ex9_set_intersection_and_difference(set_a, set_b):\n",
    "    return (set_a & set_b, set_a - set_b)\n",
    "    \"\"\"Ejercicio 9:\n",
    "    Dado dos conjuntos, devuelve su intersección y la diferencia (elementos de A que no\n",
    "    están en B). Retorna una tupla (intersección, diferencia).\n",
    "    \"\"\"\n"
   ]
  },
  {
   "cell_type": "code",
   "execution_count": 65,
   "id": "de3b53e6-0bfc-49c8-aeea-0fcdc8d7b578",
   "metadata": {},
   "outputs": [],
   "source": [
    "def ex10_is_subset(set_a, set_b):\n",
    "    return set_a.issubset(set_b)\n",
    "    \"\"\"Ejercicio 10:\n",
    "    Verifica si set_a es subconjunto de set_b. Devuelve True o False.\n",
    "    \"\"\"\n"
   ]
  },
  {
   "cell_type": "code",
   "execution_count": 66,
   "id": "16557132-1f3b-4bfd-b797-e29572b53ede",
   "metadata": {},
   "outputs": [],
   "source": [
    "def ex11_count_unique_elements(lst):\n",
    "    return len(set(lst))\n",
    "    \"\"\"Ejercicio 11:\n",
    "    Dada una lista, cuenta cuántos elementos únicos contiene (usa set para obtener el conteo).\n",
    "    Retorna el número de elementos únicos.\n",
    "    \"\"\"\n"
   ]
  },
  {
   "cell_type": "code",
   "execution_count": 67,
   "id": "fc96f714-0ae9-4731-b3be-280c058149f6",
   "metadata": {},
   "outputs": [
    {
     "name": "stdout",
     "output_type": "stream",
     "text": [
      "Ejercicio 12: {'juan', 'profe', 'perez', 'fer'}\n"
     ]
    }
   ],
   "source": [
    "\n",
    "def ex12_unique_words_from_phrases(phrases):\n",
    "    words = set()\n",
    "    for p in phrases:\n",
    "        for w in p.split():\n",
    "            words.add(w)\n",
    "    return words\n",
    "\n",
    "frases = [\"juan perez\", \"profe fer\", \"perez profe\"]\n",
    "print(\"Ejercicio 12:\", ex12_unique_words_from_phrases(frases))"
   ]
  },
  {
   "cell_type": "code",
   "execution_count": 68,
   "id": "bf757219-ed52-4754-9cb3-ab99404bbd3c",
   "metadata": {},
   "outputs": [
    {
     "name": "stdout",
     "output_type": "stream",
     "text": [
      "Ejercicio 13: ('rorigo', 31)\n"
     ]
    }
   ],
   "source": [
    "def ex13_oldest_person(tuple_list):\n",
    "    \"\"\"Ejercicio 13:\n",
    "    Recibe una lista de tuplas (nombre, edad). Devuelve la tupla de la persona con mayor edad.\n",
    "    \"\"\"\n",
    "    return max(tuple_list, key=lambda x: x[1])\n",
    "\n",
    "personas = [(\"pancha\", 22), (\"rorigo\", 31), (\"maya\", 27)]\n",
    "print(\"Ejercicio 13:\", ex13_oldest_person(personas))"
   ]
  },
  {
   "cell_type": "code",
   "execution_count": 69,
   "id": "5fe6598e-20db-45c3-8e70-63930b3ce514",
   "metadata": {},
   "outputs": [
    {
     "name": "stdout",
     "output_type": "stream",
     "text": [
      "[(1, 2), (3, 4), (5, 6)]\n"
     ]
    }
   ],
   "source": [
    "def ex14_convert_list_of_lists_to_tuples(list_of_lists):\n",
    "    return [tuple(sublista) for sublista in list_of_lists]\n",
    "\n",
    "listas = [[1, 2], [3, 4], [5, 6]]\n",
    "print( ex14_convert_list_of_lists_to_tuples(listas))\n",
    "    "
   ]
  },
  {
   "cell_type": "code",
   "execution_count": 70,
   "id": "5dc05156-563a-49a4-af5a-cc420cefe049",
   "metadata": {},
   "outputs": [
    {
     "name": "stdout",
     "output_type": "stream",
     "text": [
      "10\n"
     ]
    }
   ],
   "source": [
    "def ex15_sum_of_tuple_abc(t):\n",
    "    \"\"\"Ejercicio 15:\n",
    "    Recibe una tupla de tres números (a, b, c). Desempaquétala y devuelve la suma a+b+c.\n",
    "    \"\"\"\n",
    "    a, b, c = t\n",
    "    return a + b + c\n",
    "\n",
    "tupla = (3, 5, 2)\n",
    "print( ex15_sum_of_tuple_abc(tupla))"
   ]
  },
  {
   "cell_type": "code",
   "execution_count": 71,
   "id": "4ece1481-89e0-4e95-bec1-588cd496b21b",
   "metadata": {},
   "outputs": [
    {
     "name": "stdout",
     "output_type": "stream",
     "text": [
      "[('Banana', 5), ('Pera', 9), ('Manzana', 12)]\n"
     ]
    }
   ],
   "source": [
    "def ex16_sort_product_price(prod_price_list):\n",
    "    \"\"\"Ejercicio 16:\n",
    "    Dada una lista de tuplas (producto, precio), ordénala por precio de menor a mayor.\n",
    "    Retorna la lista ordenada.\n",
    "    \"\"\"\n",
    "    return sorted(prod_price_list, key=lambda x: x[1])\n",
    "productos = [(\"Manzana\", 12), (\"Banana\", 5), (\"Pera\", 9)]\n",
    "print( ex16_sort_product_price(productos))"
   ]
  },
  {
   "cell_type": "code",
   "execution_count": 72,
   "id": "e6bfc167-7a92-4b8c-aff5-369ce796b1f1",
   "metadata": {},
   "outputs": [
    {
     "name": "stdout",
     "output_type": "stream",
     "text": [
      "Ejercicio 17: {'b': 1, 'a': 3, 'n': 2}\n"
     ]
    }
   ],
   "source": [
    "def ex17_char_frequency(s):\n",
    "    \"\"\"Ejercicio 17:\n",
    "    Cuenta la frecuencia de cada carácter en una cadena usando un diccionario.\n",
    "    Retorna un diccionario {carácter: frecuencia}.\n",
    "    \"\"\"\n",
    "    freq = {}\n",
    "    for ch in s:\n",
    "        freq[ch] = freq.get(ch, 0) + 1\n",
    "    return freq\n",
    "\n",
    "texto = \"banana\"\n",
    "print(\"Ejercicio 17:\", ex17_char_frequency(texto))"
   ]
  },
  {
   "cell_type": "code",
   "execution_count": 73,
   "id": "7d524d35-3433-4406-874c-732777d3fd87",
   "metadata": {},
   "outputs": [
    {
     "name": "stdout",
     "output_type": "stream",
     "text": [
      "('jack', 9.5)\n"
     ]
    }
   ],
   "source": [
    "def ex18_best_student(grades_dict):\n",
    "    \"\"\"Ejercicio 18:\n",
    "    Dado un diccionario {alumno: calificación}, devuelve al mejor estudiante.\n",
    "    Retorna una tupla (nombre, calificación).\n",
    "    \"\"\"\n",
    "    return max(grades_dict.items(), key=lambda x: x[1])\n",
    "\n",
    "calificaciones = {\"laura\": 8.7, \"jack\": 9.5, \"karen\": 9.2}\n",
    "print( ex18_best_student(calificaciones))"
   ]
  },
  {
   "cell_type": "code",
   "execution_count": 74,
   "id": "369f078b-27d3-464c-b3d9-2439cd7bbd06",
   "metadata": {},
   "outputs": [
    {
     "name": "stdout",
     "output_type": "stream",
     "text": [
      "{1: 'a', 2: 'b', 3: 'c'}\n"
     ]
    }
   ],
   "source": [
    "def ex19_invert_dictionary(d):\n",
    "    \"\"\"Ejercicio 19:\n",
    "    Invierte un diccionario, intercambiando claves y valores.\n",
    "    Retorna el diccionario invertido.\n",
    "    \"\"\"\n",
    "    return {v: k for k, v in d.items()}\n",
    "\n",
    "dic = {\"a\": 1, \"b\": 2, \"c\": 3}\n",
    "print( ex19_invert_dictionary(dic))"
   ]
  },
  {
   "cell_type": "code",
   "execution_count": 75,
   "id": "e3163f5e-b4dc-41cd-b09e-22b22fcee7ab",
   "metadata": {},
   "outputs": [
    {
     "name": "stdout",
     "output_type": "stream",
     "text": [
      "{'a': 3, 'b': 7, 'c': 4}\n"
     ]
    }
   ],
   "source": [
    "def ex20_merge_dicts_sum_values(d1, d2):\n",
    "    \"\"\"Ejercicio 20:\n",
    "    Fusiona dos diccionarios sumando los valores de las claves que se repitan.\n",
    "    Devuelve el diccionario resultante.\n",
    "    \"\"\"\n",
    "    merged = d1.copy()\n",
    "    for k, v in d2.items():\n",
    "        merged[k] = merged.get(k, 0) + v\n",
    "    return merged\n",
    "\n",
    "d1 = {\"a\": 3, \"b\": 5}\n",
    "d2 = {\"b\": 2, \"c\": 4}\n",
    "print( ex20_merge_dicts_sum_values(d1, d2))"
   ]
  },
  {
   "cell_type": "code",
   "execution_count": 76,
   "id": "2fbe8f1d-af9a-4b9f-a203-26cefa3fa980",
   "metadata": {},
   "outputs": [
    {
     "name": "stdout",
     "output_type": "stream",
     "text": [
      "[0 0 0 0 1 0 0 0 0 0]\n"
     ]
    }
   ],
   "source": [
    "def ex21_numpy_array_set_fifth():\n",
    "    \"\"\"Ejercicio 21:\n",
    "    Crea un arreglo de NumPy de 10 ceros y cambia el quinto elemento (índice 4) a 1.\n",
    "    \"\"\"\n",
    "    arr = np.zeros(10, dtype=int)\n",
    "    arr[4] = 1\n",
    "    return arr\n",
    "\n",
    "print( ex21_numpy_array_set_fifth())"
   ]
  },
  {
   "cell_type": "code",
   "execution_count": 77,
   "id": "01555c3e-7593-4617-b096-4f18db0205be",
   "metadata": {},
   "outputs": [
    {
     "name": "stdout",
     "output_type": "stream",
     "text": [
      "[[0 1 2]\n",
      " [3 4 5]\n",
      " [6 7 8]]\n"
     ]
    }
   ],
   "source": [
    "def ex22_numpy_matrix_3x3():\n",
    "    \"\"\"Ejercicio 22:\n",
    "    Genera una matriz 3x3 con los valores del 0 al 8.\n",
    "    \"\"\"\n",
    "    return np.arange(9).reshape(3, 3)\n",
    "\n",
    "print(ex22_numpy_matrix_3x3())\n"
   ]
  },
  {
   "cell_type": "code",
   "execution_count": 78,
   "id": "17b73a57-ef4a-456e-a8e3-883d8520f84a",
   "metadata": {},
   "outputs": [
    {
     "name": "stdout",
     "output_type": "stream",
     "text": [
      "(np.float64(34.25), np.float64(34.5), np.float64(22.183045327456732))\n"
     ]
    }
   ],
   "source": [
    "def ex23_numpy_statistics():\n",
    "    \"\"\"Ejercicio 23:\n",
    "    Genera un array aleatorio de 20 enteros y calcula la media, mediana y desviación estándar.\n",
    "    \"\"\"\n",
    "    arr = np.random.randint(0, 100, 20)\n",
    "    mean = np.mean(arr)\n",
    "    median = np.median(arr)\n",
    "    std = np.std(arr)\n",
    "    return mean, median, std\n",
    "\n",
    "print(ex23_numpy_statistics())"
   ]
  },
  {
   "cell_type": "code",
   "execution_count": 79,
   "id": "e8669e44-7473-4be6-a74b-1a7224ae3073",
   "metadata": {},
   "outputs": [
    {
     "name": "stdout",
     "output_type": "stream",
     "text": [
      "[ 5 10  3 10]\n"
     ]
    }
   ],
   "source": [
    "def ex24_numpy_clip_values(arr):\n",
    "    \"\"\"Ejercicio 24:\n",
    "    Dado un array (o lista) de números, reemplaza todos los valores mayores que 10 por 10.\n",
    "    \"\"\"\n",
    "    arr = np.array(arr)\n",
    "    return np.clip(arr, None, 10)\n",
    "\n",
    "print(ex24_numpy_clip_values([5, 11, 3, 15]))"
   ]
  },
  {
   "cell_type": "code",
   "execution_count": 80,
   "id": "b73ed733-c9c4-49ca-996d-d63b73c46b39",
   "metadata": {},
   "outputs": [
    {
     "name": "stdout",
     "output_type": "stream",
     "text": [
      "  Nombre  Edad     Ciudad\n",
      "1   Luis    42  Querétaro\n",
      "2  María    37  Monterrey\n"
     ]
    }
   ],
   "source": [
    "def ex25_filter_rows_age_over_30():\n",
    "    \"\"\"Ejercicio 25:\n",
    "    Crea un DataFrame con columnas 'Nombre', 'Edad' y 'Ciudad'.\n",
    "    Filtra y retorna solo las filas con Edad > 30.\n",
    "    \"\"\"\n",
    "    data = {\n",
    "        \"Nombre\": [\"Ana\", \"Luis\", \"María\", \"Pedro\"],\n",
    "        \"Edad\": [25, 42, 37, 19],\n",
    "        \"Ciudad\": [\"CDMX\", \"Querétaro\", \"Monterrey\", \"Toluca\"]\n",
    "    }\n",
    "    df = pd.DataFrame(data)\n",
    "    return df[df[\"Edad\"] > 30]\n",
    "\n",
    "print(ex25_filter_rows_age_over_30())"
   ]
  },
  {
   "cell_type": "code",
   "execution_count": 81,
   "id": "fbf373a4-2b5a-41b3-bf83-7b4d8f0680aa",
   "metadata": {},
   "outputs": [
    {
     "name": "stdout",
     "output_type": "stream",
     "text": [
      "  Nombre  Puntaje\n",
      "1   Luis       95\n",
      "2  María       88\n",
      "0    Ana       80\n"
     ]
    }
   ],
   "source": [
    "def ex26_load_dict_into_dataframe_and_sort():\n",
    "    \"\"\"Ejercicio 26:\n",
    "    Carga un diccionario en un DataFrame y ordénalo por la columna de puntaje de mayor a menor.\n",
    "    \"\"\"\n",
    "    data = {\"Nombre\": [\"Ana\", \"Luis\", \"María\"], \"Puntaje\": [80, 95, 88]}\n",
    "    df = pd.DataFrame(data)\n",
    "    return df.sort_values(\"Puntaje\", ascending=False)\n",
    "\n",
    "print(ex26_load_dict_into_dataframe_and_sort())\n"
   ]
  },
  {
   "cell_type": "code",
   "execution_count": 82,
   "id": "d40c0547-aa7e-4441-8c67-3dfb5285bea5",
   "metadata": {},
   "outputs": [
    {
     "name": "stdout",
     "output_type": "stream",
     "text": [
      "  Grupo  Valor\n",
      "0     A   15.0\n",
      "1     B   35.0\n",
      "2     C   50.0\n"
     ]
    }
   ],
   "source": [
    "def ex27_groupby_mean_value():\n",
    "    \"\"\"Ejercicio 27:\n",
    "    Dado un DataFrame con columnas 'Grupo' y 'Valor', calcula el promedio de 'Valor' por grupo.\n",
    "    \"\"\"\n",
    "    data = {\n",
    "        \"Grupo\": [\"A\", \"A\", \"B\", \"B\", \"C\"],\n",
    "        \"Valor\": [10, 20, 30, 40, 50]\n",
    "    }\n",
    "    df = pd.DataFrame(data)\n",
    "    return df.groupby(\"Grupo\", as_index=False)[\"Valor\"].mean()\n",
    "\n",
    "print(ex27_groupby_mean_value())"
   ]
  },
  {
   "cell_type": "code",
   "execution_count": 83,
   "id": "aa8ae1a4-a2ab-4b0c-a2e4-0cd7c34f20fe",
   "metadata": {},
   "outputs": [
    {
     "name": "stdout",
     "output_type": "stream",
     "text": [
      "('Plátano', np.int64(10))\n"
     ]
    }
   ],
   "source": [
    "def ex28_most_sold_product_from_sales_df():\n",
    "    \"\"\"Ejercicio 28:\n",
    "    Determina el producto más vendido según la suma total de la columna 'Cantidad'.\n",
    "    \"\"\"\n",
    "    data = {\n",
    "        \"Producto\": [\"Manzana\", \"Pera\", \"Manzana\", \"Plátano\", \"Pera\"],\n",
    "        \"Cantidad\": [5, 7, 3, 10, 2]\n",
    "    }\n",
    "    df = pd.DataFrame(data)\n",
    "    total = df.groupby(\"Producto\")[\"Cantidad\"].sum()\n",
    "    producto = total.idxmax()\n",
    "    return producto, total[producto]\n",
    "\n",
    "print(ex28_most_sold_product_from_sales_df())"
   ]
  },
  {
   "cell_type": "code",
   "execution_count": 84,
   "id": "3d6c4ef3-c10c-4fba-bea4-9f7a0d7e77cb",
   "metadata": {},
   "outputs": [
    {
     "name": "stdout",
     "output_type": "stream",
     "text": [
      "[1, 8, 27]\n"
     ]
    }
   ],
   "source": [
    "def ex29_map_lambda_cube(lst):\n",
    "    \"\"\"Ejercicio 29:\n",
    "    Usa map junto con una lambda para elevar al cubo cada número en una lista.\n",
    "    \"\"\"\n",
    "    return list(map(lambda x: x**3, lst))\n",
    "\n",
    "print(ex29_map_lambda_cube([1, 2, 3]))"
   ]
  },
  {
   "cell_type": "code",
   "execution_count": 85,
   "id": "aaf51778-8382-4d5d-ab9f-89c410e035a2",
   "metadata": {},
   "outputs": [],
   "source": [
    "def ex30_filter_lambda_even(lst):\n",
    "    \"\"\"Ejercicio 30:\n",
    "    Usa filter y una lambda para quedarte sólo con los números pares de una lista.\n",
    "    \"\"\"\n",
    "    return list(filter(lambda x: x % 2 == 0, lst))\n",
    "    print(ex30_filter_lambda_even([1, 2, 3, 4, 5, 6]))"
   ]
  },
  {
   "cell_type": "code",
   "execution_count": 86,
   "id": "32169f11-ddd1-4a83-9249-646cdf40b34c",
   "metadata": {},
   "outputs": [
    {
     "name": "stdout",
     "output_type": "stream",
     "text": [
      "[{'nombre': 'fer', 'edad': 19}, {'nombre': 'rana', 'edad': 25}, {'nombre': 'moco', 'edad': 30}]\n"
     ]
    }
   ],
   "source": [
    "def ex31_sort_list_of_dicts_by_key(lst, keyname):\n",
    "    \"\"\"Ejercicio 31:\n",
    "    Dada una lista de diccionarios, ordénala por el valor asociado a 'keyname'.\n",
    "    \"\"\"\n",
    "    return sorted(lst, key=lambda x: x[keyname])\n",
    "\n",
    "# Ejemplo\n",
    "datos = [\n",
    "    {\"nombre\": \"rana\", \"edad\": 25},\n",
    "    {\"nombre\": \"fer\", \"edad\": 19},\n",
    "    {\"nombre\": \"moco\", \"edad\": 30}\n",
    "]\n",
    "print(ex31_sort_list_of_dicts_by_key(datos, \"edad\"))"
   ]
  },
  {
   "cell_type": "code",
   "execution_count": 87,
   "id": "4a4cc9e4-cd54-4782-ac39-9ef2c938ddd4",
   "metadata": {},
   "outputs": [
    {
     "name": "stdout",
     "output_type": "stream",
     "text": [
      "  Nombre Mayuscula\n",
      "0    ana       ANA\n",
      "1   luis      LUIS\n",
      "2  maría     MARÍA\n"
     ]
    }
   ],
   "source": [
    "def ex32_pandas_apply_lambda_uppercase(names_list):\n",
    "    \"\"\"Ejercicio 32:\n",
    "    Crea un DataFrame con una columna 'Nombre' y usa apply + lambda para crear una nueva columna con los nombres en mayúsculas.\n",
    "    \"\"\"\n",
    "    df = pd.DataFrame({\"Nombre\": names_list})\n",
    "    df[\"Mayuscula\"] = df[\"Nombre\"].apply(lambda x: x.upper())\n",
    "    return df\n",
    "\n",
    "print(ex32_pandas_apply_lambda_uppercase([\"ana\", \"luis\", \"maría\"]))"
   ]
  },
  {
   "cell_type": "code",
   "execution_count": null,
   "id": "bca2a464",
   "metadata": {},
   "outputs": [],
   "source": [
    "\n"
   ]
  },
  {
   "cell_type": "code",
   "execution_count": null,
   "id": "fcd27317-5e09-4332-8fed-967d1e24100b",
   "metadata": {},
   "outputs": [],
   "source": []
  }
 ],
 "metadata": {
  "kernelspec": {
   "display_name": "Python 3 (ipykernel)",
   "language": "python",
   "name": "python3"
  },
  "language_info": {
   "codemirror_mode": {
    "name": "ipython",
    "version": 3
   },
   "file_extension": ".py",
   "mimetype": "text/x-python",
   "name": "python",
   "nbconvert_exporter": "python",
   "pygments_lexer": "ipython3",
   "version": "3.13.5"
  }
 },
 "nbformat": 4,
 "nbformat_minor": 5
}
