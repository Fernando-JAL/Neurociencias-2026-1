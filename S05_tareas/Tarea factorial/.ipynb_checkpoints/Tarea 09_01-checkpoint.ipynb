{
 "cells": [
  {
   "cell_type": "markdown",
   "id": "6e8cf750-0440-4d31-9fc7-3d8475d6e34a",
   "metadata": {},
   "source": [
    "# Tarea "
   ]
  },
  {
   "cell_type": "code",
   "execution_count": null,
   "id": "b61646f8-6520-4445-bdf6-4f3e6feba625",
   "metadata": {},
   "outputs": [],
   "source": [
    "# Hacer una función que calculé la factorial y una función que calculé la sumatoria de potencias de 5, usando funciones recursivas"
   ]
  },
  {
   "cell_type": "code",
   "execution_count": 1,
   "id": "efac10f2-001d-4358-bbec-224728c70da5",
   "metadata": {},
   "outputs": [],
   "source": [
    "# Calcular factorial \n",
    "def factorial(n):\n",
    "    if n == 0 or n == 1: \n",
    "        return 1\n",
    "    else:\n",
    "        return n * factorial(n - 1) \n"
   ]
  },
  {
   "cell_type": "code",
   "execution_count": 2,
   "id": "d946779b-bd3e-4736-ba9b-d1804fdea2de",
   "metadata": {},
   "outputs": [
    {
     "name": "stdout",
     "output_type": "stream",
     "text": [
      "120\n"
     ]
    }
   ],
   "source": [
    "print(factorial(5))"
   ]
  },
  {
   "cell_type": "code",
   "execution_count": null,
   "id": "417725b4-cfc0-4556-a2f4-2cad886f45d6",
   "metadata": {},
   "outputs": [],
   "source": [
    "#Sumatoria de potencias de 5"
   ]
  },
  {
   "cell_type": "code",
   "execution_count": 4,
   "id": "c7d73d58-648c-4fa7-b906-9842fc0cb197",
   "metadata": {},
   "outputs": [],
   "source": [
    "def suma_potencias(n):\n",
    "    if n == 1:  \n",
    "        return 5\n",
    "    else:\n",
    "        return 5**n + suma_potencias(n - 1)  \n"
   ]
  },
  {
   "cell_type": "code",
   "execution_count": 5,
   "id": "144bb792-8cb2-4678-8405-fd7456b48ca7",
   "metadata": {},
   "outputs": [
    {
     "name": "stdout",
     "output_type": "stream",
     "text": [
      "155\n"
     ]
    }
   ],
   "source": [
    "print(suma_potencias(3))  \n"
   ]
  }
 ],
 "metadata": {
  "kernelspec": {
   "display_name": "Python 3 (ipykernel)",
   "language": "python",
   "name": "python3"
  },
  "language_info": {
   "codemirror_mode": {
    "name": "ipython",
    "version": 3
   },
   "file_extension": ".py",
   "mimetype": "text/x-python",
   "name": "python",
   "nbconvert_exporter": "python",
   "pygments_lexer": "ipython3",
   "version": "3.10.9"
  }
 },
 "nbformat": 4,
 "nbformat_minor": 5
}
