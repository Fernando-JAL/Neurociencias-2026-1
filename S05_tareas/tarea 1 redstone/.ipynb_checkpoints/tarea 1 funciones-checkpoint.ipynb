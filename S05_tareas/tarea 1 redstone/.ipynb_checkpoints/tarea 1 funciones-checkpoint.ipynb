{
 "cells": [
  {
   "cell_type": "markdown",
   "id": "f5b66afe-1f2a-4ef5-9d81-ab55cee4be31",
   "metadata": {},
   "source": [
    "# TAREA 1 ANA-SOPH "
   ]
  },
  {
   "cell_type": "code",
   "execution_count": 1,
   "id": "0305330d-4529-48e5-9f10-fdb2951d8c79",
   "metadata": {},
   "outputs": [
    {
     "name": "stdout",
     "output_type": "stream",
     "text": [
      "False\n",
      "True\n",
      "15\n"
     ]
    },
    {
     "name": "stdin",
     "output_type": "stream",
     "text": [
      "Sophia:  c-\n"
     ]
    },
    {
     "name": "stdout",
     "output_type": "stream",
     "text": [
      "Hola, c-\n",
      "9\n",
      "2\n",
      "8\n",
      "['n', 'o', 'h', 't', 'y', 'p']\n",
      "3.14\n",
      "[1, 2, 5, 9]\n",
      "21\n"
     ]
    }
   ],
   "source": [
    "valores = [True, True, False]\n",
    "print(all(valores))  \n",
    "\n",
    "\n",
    "print(any(valores))  \n",
    "\n",
    "\n",
    "print(abs(-15)) \n",
    "\n",
    "\n",
    "nombre = input(\"Sophia: \")\n",
    "print(\"Hola,\", nombre)\n",
    "\n",
    "\n",
    "numeros = [3, 9, 2, 7]\n",
    "print(max(numeros))  \n",
    "\n",
    "\n",
    "print(min(numeros))  \n",
    "\n",
    "\n",
    "print(pow(2, 3))  \n",
    "\n",
    "texto = \"python\"\n",
    "print(list(reversed(texto)))  \n",
    "\n",
    "\n",
    "print(round(3.14159, 2))  \n",
    "\n",
    "\n",
    "desordenados = [5, 2, 9, 1]\n",
    "print(sorted(desordenados))  \n",
    "\n",
    "\n",
    "print(sum(numeros))  "
   ]
  },
  {
   "cell_type": "code",
   "execution_count": null,
   "id": "9ffabf42-7078-4d5a-9076-f90a73b0eda6",
   "metadata": {},
   "outputs": [],
   "source": []
  }
 ],
 "metadata": {
  "kernelspec": {
   "display_name": "Python 3 (ipykernel)",
   "language": "python",
   "name": "python3"
  },
  "language_info": {
   "codemirror_mode": {
    "name": "ipython",
    "version": 3
   },
   "file_extension": ".py",
   "mimetype": "text/x-python",
   "name": "python",
   "nbconvert_exporter": "python",
   "pygments_lexer": "ipython3",
   "version": "3.10.4"
  }
 },
 "nbformat": 4,
 "nbformat_minor": 5
}
