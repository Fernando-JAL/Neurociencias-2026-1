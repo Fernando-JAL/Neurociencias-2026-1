{
 "cells": [
  {
   "cell_type": "markdown",
   "id": "eaf69d30",
   "metadata": {},
   "source": [
    "# TAREA\n",
    "\n",
    "## parea el 2do parcial\n",
    "\n",
    "\n",
    "Cada ejercicio está representado por una función con su docstring que contiene\n",
    "la instrucción (no incluye soluciones). Implementa las funciones por tu cuenta.\n",
    "\n"
   ]
  },
  {
   "cell_type": "code",
   "id": "8ce0b772",
   "metadata": {
    "ExecuteTime": {
     "end_time": "2025-10-24T23:50:48.968615Z",
     "start_time": "2025-10-24T23:50:44.944846Z"
    }
   },
   "source": [
    "import pandas as pd\n",
    "import numpy as np\n"
   ],
   "outputs": [],
   "execution_count": 2
  },
  {
   "cell_type": "code",
   "execution_count": null,
   "id": "bca2a464",
   "metadata": {},
   "outputs": [],
   "source": [
    "\"\"\"\n",
    "Archivo: ejercicios_python_estructuras_numpy_pandas_instrucciones.py\n",
    "Descripción: 32 ejercicios (SOLO INSTRUCCIONES) sobre:\n",
    "- pandas (concatenación y otras operaciones), listas, conjuntos, tuplas, diccionarios,\n",
    "  NumPy y uso de lambdas (map, filter, sorted, apply).\n",
    "\n",
    "Cada ejercicio está representado por una función con su docstring que contiene\n",
    "la instrucción (no incluye soluciones). Implementa las funciones por tu cuenta.\n",
    "\"\"\"\n",
    "\n",
    "# Nota: este archivo contiene únicamente las instrucciones de cada ejercicio.\n",
    "# Implementa cada función en tu entorno (o pégalas en una plataforma tipo HackerRank/LeetCode).\n",
    "\n",
    "import pandas as pd\n",
    "import numpy as np\n",
    "\n",
    "# -----------------------------\n",
    "# 1-4: Pandas (concatenación)\n",
    "# -----------------------------\n",
    "\n",
    "def ex1_concat_same_structure():\n",
    "    \"\"\"Ejercicio 1:\n",
    "    Crea dos DataFrame que compartan la misma estructura de columnas (por ejemplo,\n",
    "    'Nombre' y 'Edad'), con al menos 3 filas cada uno. Concaténalos verticalmente\n",
    "    en un único DataFrame. Retorna el DataFrame resultante.\n",
    "    \"\"\"\n",
    "    pass\n",
    "\n",
    "\n",
    "def ex2_concat_with_month_column():\n",
    "    \"\"\"Ejercicio 2:\n",
    "    Tienes un DataFrame con ventas de enero y otro con ventas de febrero (mismas columnas).\n",
    "    Concaténalos en un solo DataFrame y añade una columna que indique el mes original\n",
    "    de cada fila (por ejemplo: 'Enero' o 'Febrero'). Retorna el DataFrame resultante.\n",
    "    \"\"\"\n",
    "    pass\n",
    "\n",
    "\n",
    "def ex3_concat_diff_columns_fillna():\n",
    "    \"\"\"Ejercicio 3:\n",
    "    Crea dos DataFrame que no tengan exactamente las mismas columnas (ej.: uno tiene\n",
    "    'Producto' y 'Ventas', el otro 'Producto' y 'Descuento'). Concaténalos y asegura\n",
    "    que los valores faltantes queden rellenados con 0. Retorna el DataFrame resultante.\n",
    "    \"\"\"\n",
    "    pass\n",
    "\n",
    "\n",
    "def ex4_concat_three_groups():\n",
    "    \"\"\"Ejercicio 4:\n",
    "    Genera tres DataFrame pequeños (cada uno con, por ejemplo, 3 filas) que representen\n",
    "    notas de distintos grupos de alumnos. Concaténalos verticalmente en un solo DataFrame\n",
    "    que contenga todas las notas. Retorna el DataFrame resultante.\n",
    "    \"\"\"\n",
    "    pass\n",
    "\n",
    "\n",
    "# -----------------------------\n",
    "# 5-8: Listas\n",
    "# -----------------------------\n",
    "\n",
    "def ex5_remove_duplicates_preserve_order(lst):\n",
    "    \"\"\"Ejercicio 5:\n",
    "    Dada una lista de enteros (o strings) que puede contener duplicados, devuelve una\n",
    "    nueva lista sin duplicados preservando el orden original. No uses directamente set()\n",
    "    para eliminar duplicados (escribe la lógica que preserve el orden). Retorna la nueva \n",
    "    lista sin duplicados.\n",
    "    \"\"\"\n",
    "    pass\n",
    "\n",
    "\n",
    "def ex6_sort_tuples_by_second_element(tuples_list):\n",
    "    \"\"\"Ejercicio 6:\n",
    "    Dada una lista de tuplas, por ejemplo [(\"a\", 3), (\"b\", 1), (\"c\", 2)], ordénala\n",
    "    por el segundo elemento de cada tupla y devuelve la lista ordenada. Usa una función\n",
    "    anónima si lo deseas. Retorna la lista ordenada.\n",
    "    \"\"\"\n",
    "    pass\n",
    "\n",
    "\n",
    "def ex7_first_n_multiples_of_7(n):\n",
    "    \"\"\"Ejercicio 7:\n",
    "    Devuelve una lista con los primeros n múltiplos de 7 (por ejemplo, n=5 -> [7,14,21,28,35]).\n",
    "    Retorna la lista generada.\n",
    "    \"\"\"\n",
    "    pass\n",
    "\n",
    "\n",
    "def ex8_filter_palindromes(strings):\n",
    "    \"\"\"Ejercicio 8:\n",
    "    Dada una lista de cadenas, devuelve sólo aquellas que son palíndromos (se leen igual\n",
    "    al derecho y al revés). Retorna una lista con los palíndromos encontrados.\n",
    "    \"\"\"\n",
    "    pass\n",
    "\n",
    "\n",
    "# -----------------------------\n",
    "# 9-12: Conjuntos\n",
    "# -----------------------------\n",
    "\n",
    "def ex9_set_intersection_and_difference(set_a, set_b):\n",
    "    \"\"\"Ejercicio 9:\n",
    "    Dado dos conjuntos, devuelve su intersección y la diferencia (elementos de A que no\n",
    "    están en B). Retorna una tupla (intersección, diferencia).\n",
    "    \"\"\"\n",
    "    pass\n",
    "\n",
    "\n",
    "def ex10_is_subset(set_a, set_b):\n",
    "    \"\"\"Ejercicio 10:\n",
    "    Verifica si set_a es subconjunto de set_b. Devuelve True o False.\n",
    "    \"\"\"\n",
    "    pass\n",
    "\n",
    "\n",
    "def ex11_count_unique_elements(lst):\n",
    "    \"\"\"Ejercicio 11:\n",
    "    Dada una lista, cuenta cuántos elementos únicos contiene (usa set para obtener el conteo).\n",
    "    Retorna el número de elementos únicos.\n",
    "    \"\"\"\n",
    "    pass\n",
    "\n",
    "\n",
    "def ex12_unique_words_from_phrases(phrases):\n",
    "    \"\"\"Ejercicio 12:\n",
    "    Dada una lista de frases (strings), extrae y devuelve el conjunto de todas las palabras\n",
    "    únicas que aparecen en todas las frases. Retorna un conjunto con las palabras únicas.\n",
    "    \"\"\"\n",
    "    pass\n",
    "\n",
    "\n",
    "# -----------------------------\n",
    "# 13-16: Tuplas\n",
    "# -----------------------------\n",
    "\n",
    "def ex13_oldest_person(tuple_list):\n",
    "    \"\"\"Ejercicio 13:\n",
    "    Recibe una lista de tuplas (nombre, edad). Devuelve la tupla de la persona con mayor edad.\n",
    "    \"\"\"\n",
    "    pass\n",
    "\n",
    "\n",
    "def ex14_convert_list_of_lists_to_tuples(list_of_lists):\n",
    "    \"\"\"Ejercicio 14:\n",
    "    Convierte una lista de listas en una lista de tuplas. Retorna la nueva lista de tuplas.\n",
    "    \"\"\"\n",
    "    pass\n",
    "\n",
    "\n",
    "def ex15_sum_of_tuple_abc(t):\n",
    "    \"\"\"Ejercicio 15:\n",
    "    Recibe una tupla de tres números (a, b, c). Desempaquétala y devuelve la suma a+b+c. \n",
    "    Retorna un número entero o flotante.\n",
    "    \"\"\"\n",
    "    pass\n",
    "\n",
    "\n",
    "def ex16_sort_product_price(prod_price_list):\n",
    "    \"\"\"Ejercicio 16:\n",
    "    Dada una lista de tuplas (producto, precio), ordénala por precio de menor a mayor.\n",
    "    Retorna la lista ordenada.\n",
    "    \"\"\"\n",
    "    pass\n",
    "\n",
    "\n",
    "# -----------------------------\n",
    "# 17-20: Diccionarios\n",
    "# -----------------------------\n",
    "\n",
    "def ex17_char_frequency(s):\n",
    "    \"\"\"Ejercicio 17:\n",
    "    Cuenta la frecuencia de cada carácter en una cadena usando un diccionario.\n",
    "    Retorna un diccionario {carácter: frecuencia}.\n",
    "    \"\"\"\n",
    "    pass\n",
    "\n",
    "\n",
    "def ex18_best_student(grades_dict):\n",
    "    \"\"\"Ejercicio 18:\n",
    "    Dado un diccionario {alumno: calificación}, devuelve al mejor estudiante.\n",
    "    Retorna una tupla (nombre, calificación).\n",
    "    \"\"\"\n",
    "    pass\n",
    "\n",
    "\n",
    "def ex19_invert_dictionary(d):\n",
    "    \"\"\"Ejercicio 19:\n",
    "    Invierte un diccionario, intercambiando claves y valores.\n",
    "    Retorna el diccionario invertido.\n",
    "    \"\"\"\n",
    "    pass\n",
    "\n",
    "\n",
    "def ex20_merge_dicts_sum_values(d1, d2):\n",
    "    \"\"\"Ejercicio 20:\n",
    "    Fusiona dos diccionarios sumando los valores de las claves que se repitan. \n",
    "    Devuelve el diccionario resultante.\n",
    "    \"\"\"\n",
    "    pass\n",
    "\n",
    "\n",
    "# -----------------------------\n",
    "# 21-24: NumPy\n",
    "# -----------------------------\n",
    "\n",
    "def ex21_numpy_array_set_fifth():\n",
    "    \"\"\"Ejercicio 21:\n",
    "    Crea un arreglo de NumPy de 10 ceros y cambia el quinto elemento (índice 4) a 1.\n",
    "    Retorna el array resultante.\n",
    "    \"\"\"\n",
    "    pass\n",
    "\n",
    "\n",
    "def ex22_numpy_matrix_3x3():\n",
    "    \"\"\"Ejercicio 22:\n",
    "    Genera una matriz 3x3 con los valores del 0 al 8. \n",
    "    Retorna la matriz como array de NumPy.\n",
    "    \"\"\"\n",
    "    pass\n",
    "\n",
    "\n",
    "def ex23_numpy_statistics():\n",
    "    \"\"\"Ejercicio 23:\n",
    "    Genera un array aleatorio de 20 enteros y calcula la media, mediana y desviación estándar.\n",
    "    Retorna una tupla (media, mediana, desviación estándar).\n",
    "    \"\"\"\n",
    "    pass\n",
    "\n",
    "\n",
    "def ex24_numpy_clip_values(arr):\n",
    "    \"\"\"Ejercicio 24:\n",
    "    Dado un array (o lista) de números, reemplaza todos los valores mayores que 10 por 10\n",
    "    (es decir, limita/\"clip\" los valores máximos).\n",
    "    Retorna el array modificado.\n",
    "    \"\"\"\n",
    "    pass\n",
    "\n",
    "\n",
    "# -----------------------------\n",
    "# 25-28: Pandas (otros)\n",
    "# -----------------------------\n",
    "\n",
    "def ex25_filter_rows_age_over_30():\n",
    "    \"\"\"Ejercicio 25:\n",
    "    Crea un DataFrame con columnas 'Nombre', 'Edad' y 'Ciudad'.\n",
    "    Filtra y retorna solo las filas con `Edad` > 30.\n",
    "    \"\"\"\n",
    "    pass\n",
    "\n",
    "\n",
    "def ex26_load_dict_into_dataframe_and_sort():\n",
    "    \"\"\"Ejercicio 26:\n",
    "    Carga un diccionario en un DataFrame (por ejemplo {'Nombre': [...], 'Puntaje': [...]})\n",
    "    y ordénalo por la columna de puntaje de mayor a menor.\n",
    "    Retorna el DataFrame ordenado.\n",
    "    \"\"\"\n",
    "    pass\n",
    "\n",
    "\n",
    "def ex27_groupby_mean_value():\n",
    "    \"\"\"Ejercicio 27:\n",
    "    Dado un DataFrame con columnas 'Grupo' y 'Valor', calcula el promedio de 'Valor'\n",
    "    por cada 'Grupo' usando groupby. \n",
    "    Retorna el DataFrame agrupado con promedios.\n",
    "    \"\"\"\n",
    "    pass\n",
    "\n",
    "\n",
    "def ex28_most_sold_product_from_sales_df():\n",
    "    \"\"\"Ejercicio 28:\n",
    "    Dado un DataFrame de ventas con columnas 'Producto' y 'Cantidad', determina cuál\n",
    "    es el producto con la mayor suma total de 'Cantidad' (es decir, el más vendido).\n",
    "    Retorna una tupla (Producto, Ventas).\n",
    "    \"\"\"\n",
    "    pass\n",
    "\n",
    "\n",
    "# -----------------------------\n",
    "# 29-32: Lambdas y funciones anónimas\n",
    "# -----------------------------\n",
    "\n",
    "def ex29_map_lambda_cube(lst):\n",
    "    \"\"\"Ejercicio 29:\n",
    "    Usa map junto con una función lambda para elevar al cubo cada número en una lista.\n",
    "    Devuelve la lista resultante.\n",
    "    \"\"\"\n",
    "    pass\n",
    "\n",
    "\n",
    "def ex30_filter_lambda_even(lst):\n",
    "    \"\"\"Ejercicio 30:\n",
    "    Usa filter y una lambda para quedarte sólo con los números pares de una lista.\n",
    "    Devuelve la lista filtrada.\n",
    "    \"\"\"\n",
    "    pass\n",
    "\n",
    "\n",
    "def ex31_sort_list_of_dicts_by_key(lst, keyname):\n",
    "    \"\"\"Ejercicio 31:\n",
    "    Dada una lista de diccionarios, ordénala por el valor asociado a 'keyname' usando\n",
    "    sorted con una lambda. Devuelve la lista ordenada.\n",
    "    \"\"\"\n",
    "    pass\n",
    "\n",
    "\n",
    "def ex32_pandas_apply_lambda_uppercase(names_list):\n",
    "    \"\"\"Ejercicio 32:\n",
    "    Crea un DataFrame con una columna 'Nombre' a partir de names_list y usa apply con\n",
    "    una función lambda para crear una nueva columna con los nombres en mayúsculas.\n",
    "    Devuelve el DataFrame modificado.\n",
    "    \"\"\"\n",
    "    pass\n"
   ]
  },
  {
   "metadata": {},
   "cell_type": "markdown",
   "source": [
    " ## Ejercicio 1:\n",
    "    Crea dos DataFrame que compartan la misma estructura de columnas (por ejemplo,\n",
    "    'Nombre' y 'Edad'), con al menos 3 filas cada uno. Concaténalos verticalmente\n",
    "    en un único DataFrame. Retorna el DataFrame resultante."
   ],
   "id": "d28fa97510939b30"
  },
  {
   "metadata": {
    "ExecuteTime": {
     "end_time": "2025-10-23T04:08:39.391616Z",
     "start_time": "2025-10-23T04:08:39.349949Z"
    }
   },
   "cell_type": "code",
   "source": [
    "def ex1_concat_same_structure(df1,df2):\n",
    "\n",
    "    df_concatenado = pd.concat([df1, df2], ignore_index=True)\n",
    "    return df_concatenado\n",
    "datos1 = {\n",
    "        'Nombre': ['Karem', 'Luis', 'Lucy'],\n",
    "        'Edad': [23, 34, 45]\n",
    "    }\n",
    "df1 = pd.DataFrame(datos1)\n",
    "datos2 = {\n",
    "        'Nombre': ['Sebastian', 'Renata', 'David'],\n",
    "        'Edad': [29, 31, 25]\n",
    "    }\n",
    "df2 = pd.DataFrame(datos2)\n",
    "ex1_concat_same_structure(df1,df2)"
   ],
   "id": "a5c67ebbf5905e27",
   "outputs": [
    {
     "data": {
      "text/plain": [
       "      Nombre  Edad\n",
       "0      Karem    23\n",
       "1       Luis    34\n",
       "2       Lucy    45\n",
       "3  Sebastian    29\n",
       "4     Renata    31\n",
       "5      David    25"
      ],
      "text/html": [
       "<div>\n",
       "<style scoped>\n",
       "    .dataframe tbody tr th:only-of-type {\n",
       "        vertical-align: middle;\n",
       "    }\n",
       "\n",
       "    .dataframe tbody tr th {\n",
       "        vertical-align: top;\n",
       "    }\n",
       "\n",
       "    .dataframe thead th {\n",
       "        text-align: right;\n",
       "    }\n",
       "</style>\n",
       "<table border=\"1\" class=\"dataframe\">\n",
       "  <thead>\n",
       "    <tr style=\"text-align: right;\">\n",
       "      <th></th>\n",
       "      <th>Nombre</th>\n",
       "      <th>Edad</th>\n",
       "    </tr>\n",
       "  </thead>\n",
       "  <tbody>\n",
       "    <tr>\n",
       "      <th>0</th>\n",
       "      <td>Karem</td>\n",
       "      <td>23</td>\n",
       "    </tr>\n",
       "    <tr>\n",
       "      <th>1</th>\n",
       "      <td>Luis</td>\n",
       "      <td>34</td>\n",
       "    </tr>\n",
       "    <tr>\n",
       "      <th>2</th>\n",
       "      <td>Lucy</td>\n",
       "      <td>45</td>\n",
       "    </tr>\n",
       "    <tr>\n",
       "      <th>3</th>\n",
       "      <td>Sebastian</td>\n",
       "      <td>29</td>\n",
       "    </tr>\n",
       "    <tr>\n",
       "      <th>4</th>\n",
       "      <td>Renata</td>\n",
       "      <td>31</td>\n",
       "    </tr>\n",
       "    <tr>\n",
       "      <th>5</th>\n",
       "      <td>David</td>\n",
       "      <td>25</td>\n",
       "    </tr>\n",
       "  </tbody>\n",
       "</table>\n",
       "</div>"
      ]
     },
     "execution_count": 2,
     "metadata": {},
     "output_type": "execute_result"
    }
   ],
   "execution_count": 2
  },
  {
   "metadata": {},
   "cell_type": "markdown",
   "source": [
    "## Ejercicio 2\n",
    "    Tienes un DataFrame con ventas de enero y otro con ventas de febrero (mismas columnas).\n",
    "    Concaténalos en un solo DataFrame y añade una columna que indique el mes original\n",
    "    de cada fila (por ejemplo: 'Enero' o 'Febrero'). Retorna el DataFrame resultante."
   ],
   "id": "6be0249885549952"
  },
  {
   "metadata": {
    "ExecuteTime": {
     "end_time": "2025-10-23T04:16:18.368056Z",
     "start_time": "2025-10-23T04:16:18.352313Z"
    }
   },
   "cell_type": "code",
   "source": [
    "def ex2_concat_with_month_column(dfA,dfB):\n",
    "    total_sales=pd.concat([dfA,dfB], ignore_index=True)\n",
    "    return total_sales\n",
    "pass"
   ],
   "id": "ff7bcd529f0b7faf",
   "outputs": [],
   "execution_count": 3
  },
  {
   "metadata": {
    "ExecuteTime": {
     "end_time": "2025-10-23T04:16:33.947387Z",
     "start_time": "2025-10-23T04:16:33.915587Z"
    }
   },
   "cell_type": "code",
   "source": [
    "sales_jan=pd.DataFrame({\n",
    "    'Producto':['Teclado','Mouse','Monitor'],\n",
    "    'Cantidad':[23,34,45]\n",
    "})\n",
    "sales_jan['Mes']='Enero'\n",
    "\n",
    "sales_feb=pd.DataFrame({\n",
    "    'Producto':['Teclado','Mouse','Audifonos'],\n",
    "    'Cantidad':[42,87,75]\n",
    "})\n",
    "sales_feb['Mes']='Febrero'\n",
    "\n",
    "ex2_concat_with_month_column(sales_jan,sales_feb)"
   ],
   "id": "f68d5add1c852f59",
   "outputs": [
    {
     "data": {
      "text/plain": [
       "    Producto  Cantidad      Mes\n",
       "0    Teclado        23    Enero\n",
       "1      Mouse        34    Enero\n",
       "2    Monitor        45    Enero\n",
       "3    Teclado        42  Febrero\n",
       "4      Mouse        87  Febrero\n",
       "5  Audifonos        75  Febrero"
      ],
      "text/html": [
       "<div>\n",
       "<style scoped>\n",
       "    .dataframe tbody tr th:only-of-type {\n",
       "        vertical-align: middle;\n",
       "    }\n",
       "\n",
       "    .dataframe tbody tr th {\n",
       "        vertical-align: top;\n",
       "    }\n",
       "\n",
       "    .dataframe thead th {\n",
       "        text-align: right;\n",
       "    }\n",
       "</style>\n",
       "<table border=\"1\" class=\"dataframe\">\n",
       "  <thead>\n",
       "    <tr style=\"text-align: right;\">\n",
       "      <th></th>\n",
       "      <th>Producto</th>\n",
       "      <th>Cantidad</th>\n",
       "      <th>Mes</th>\n",
       "    </tr>\n",
       "  </thead>\n",
       "  <tbody>\n",
       "    <tr>\n",
       "      <th>0</th>\n",
       "      <td>Teclado</td>\n",
       "      <td>23</td>\n",
       "      <td>Enero</td>\n",
       "    </tr>\n",
       "    <tr>\n",
       "      <th>1</th>\n",
       "      <td>Mouse</td>\n",
       "      <td>34</td>\n",
       "      <td>Enero</td>\n",
       "    </tr>\n",
       "    <tr>\n",
       "      <th>2</th>\n",
       "      <td>Monitor</td>\n",
       "      <td>45</td>\n",
       "      <td>Enero</td>\n",
       "    </tr>\n",
       "    <tr>\n",
       "      <th>3</th>\n",
       "      <td>Teclado</td>\n",
       "      <td>42</td>\n",
       "      <td>Febrero</td>\n",
       "    </tr>\n",
       "    <tr>\n",
       "      <th>4</th>\n",
       "      <td>Mouse</td>\n",
       "      <td>87</td>\n",
       "      <td>Febrero</td>\n",
       "    </tr>\n",
       "    <tr>\n",
       "      <th>5</th>\n",
       "      <td>Audifonos</td>\n",
       "      <td>75</td>\n",
       "      <td>Febrero</td>\n",
       "    </tr>\n",
       "  </tbody>\n",
       "</table>\n",
       "</div>"
      ]
     },
     "execution_count": 4,
     "metadata": {},
     "output_type": "execute_result"
    }
   ],
   "execution_count": 4
  },
  {
   "metadata": {},
   "cell_type": "markdown",
   "source": [
    "## Ejercicio 3\n",
    "Dataframes de diferentes tamaños concatenados y los nan=0"
   ],
   "id": "8d7c45646fcc86e4"
  },
  {
   "metadata": {
    "ExecuteTime": {
     "end_time": "2025-10-23T04:24:30.927518Z",
     "start_time": "2025-10-23T04:24:30.911855Z"
    }
   },
   "cell_type": "code",
   "source": [
    "def ex3_concat_diff_columns_fillna(dfA,dfB):\n",
    "\n",
    "    concatenados=pd.concat([dfA,dfB], ignore_index=True)\n",
    "    sin_nan=concatenados.fillna(0)\n",
    "    return sin_nan\n",
    "pass\n"
   ],
   "id": "6c5b27e167cca4a7",
   "outputs": [],
   "execution_count": 11
  },
  {
   "metadata": {
    "ExecuteTime": {
     "end_time": "2025-10-23T04:24:35.398301Z",
     "start_time": "2025-10-23T04:24:35.373463Z"
    }
   },
   "cell_type": "code",
   "source": [
    "df_ventas=pd.DataFrame({\n",
    "    'Producto':['Teclado','Mouse','Audifonos'],\n",
    "    'Ventas':[42,87,75]\n",
    "})\n",
    "df_descuentos=pd.DataFrame({\n",
    "    'Producto':['Escritorio','Mouse','Pilas'],\n",
    "    'Descuentos':[40,15,55]\n",
    "})\n",
    "ex3_concat_diff_columns_fillna(df_ventas,df_descuentos)"
   ],
   "id": "2c3fa511f142eaa5",
   "outputs": [
    {
     "data": {
      "text/plain": [
       "     Producto  Ventas  Descuentos\n",
       "0     Teclado    42.0         0.0\n",
       "1       Mouse    87.0         0.0\n",
       "2   Audifonos    75.0         0.0\n",
       "3  Escritorio     0.0        40.0\n",
       "4       Mouse     0.0        15.0\n",
       "5       Pilas     0.0        55.0"
      ],
      "text/html": [
       "<div>\n",
       "<style scoped>\n",
       "    .dataframe tbody tr th:only-of-type {\n",
       "        vertical-align: middle;\n",
       "    }\n",
       "\n",
       "    .dataframe tbody tr th {\n",
       "        vertical-align: top;\n",
       "    }\n",
       "\n",
       "    .dataframe thead th {\n",
       "        text-align: right;\n",
       "    }\n",
       "</style>\n",
       "<table border=\"1\" class=\"dataframe\">\n",
       "  <thead>\n",
       "    <tr style=\"text-align: right;\">\n",
       "      <th></th>\n",
       "      <th>Producto</th>\n",
       "      <th>Ventas</th>\n",
       "      <th>Descuentos</th>\n",
       "    </tr>\n",
       "  </thead>\n",
       "  <tbody>\n",
       "    <tr>\n",
       "      <th>0</th>\n",
       "      <td>Teclado</td>\n",
       "      <td>42.0</td>\n",
       "      <td>0.0</td>\n",
       "    </tr>\n",
       "    <tr>\n",
       "      <th>1</th>\n",
       "      <td>Mouse</td>\n",
       "      <td>87.0</td>\n",
       "      <td>0.0</td>\n",
       "    </tr>\n",
       "    <tr>\n",
       "      <th>2</th>\n",
       "      <td>Audifonos</td>\n",
       "      <td>75.0</td>\n",
       "      <td>0.0</td>\n",
       "    </tr>\n",
       "    <tr>\n",
       "      <th>3</th>\n",
       "      <td>Escritorio</td>\n",
       "      <td>0.0</td>\n",
       "      <td>40.0</td>\n",
       "    </tr>\n",
       "    <tr>\n",
       "      <th>4</th>\n",
       "      <td>Mouse</td>\n",
       "      <td>0.0</td>\n",
       "      <td>15.0</td>\n",
       "    </tr>\n",
       "    <tr>\n",
       "      <th>5</th>\n",
       "      <td>Pilas</td>\n",
       "      <td>0.0</td>\n",
       "      <td>55.0</td>\n",
       "    </tr>\n",
       "  </tbody>\n",
       "</table>\n",
       "</div>"
      ]
     },
     "execution_count": 12,
     "metadata": {},
     "output_type": "execute_result"
    }
   ],
   "execution_count": 12
  },
  {
   "metadata": {},
   "cell_type": "markdown",
   "source": [
    "## Ejercicio 4\n",
    "Concatenar tres DF pequeños, reprensentando diferentes grupos de alumnos, concat verticalmente"
   ],
   "id": "7fd7d77f4353a693"
  },
  {
   "metadata": {
    "ExecuteTime": {
     "end_time": "2025-10-23T04:32:42.025790Z",
     "start_time": "2025-10-23T04:32:42.010060Z"
    }
   },
   "cell_type": "code",
   "source": [
    "def ex4_concat_three_groups(A,B,C):\n",
    "    all_groups=pd.concat([A,B,C], ignore_index=True)\n",
    "    return all_groups\n",
    "pass"
   ],
   "id": "a08fc46b2797a60f",
   "outputs": [],
   "execution_count": 13
  },
  {
   "metadata": {
    "ExecuteTime": {
     "end_time": "2025-10-23T04:33:03.460242Z",
     "start_time": "2025-10-23T04:33:03.431061Z"
    }
   },
   "cell_type": "code",
   "source": [
    "grupoA=pd.DataFrame({\n",
    "    'Alumnos':['Paul','Edgar', 'Axel'],\n",
    "    'Calificación':[9.8,4.2,8.6]\n",
    "})\n",
    "grupoA['Grupo']='A'\n",
    "\n",
    "grupoB= pd.DataFrame({\n",
    "    'Alumnos':['Daniel','Azael', 'Bernal'],\n",
    "    'Calificación':[5.7,8.9,9.7]\n",
    "})\n",
    "grupoB['Grupo']='B'\n",
    "\n",
    "grupoC= pd.DataFrame({\n",
    "    'Alumnos':['Diana','Mirian', 'Rebeca'],\n",
    "    'Calificación':[4.3,9.4,6.1]\n",
    "})\n",
    "grupoC['Grupo']='C'\n",
    "\n",
    "ex4_concat_three_groups(grupoA,grupoB,grupoC)"
   ],
   "id": "e267ca3da8a53b6e",
   "outputs": [
    {
     "data": {
      "text/plain": [
       "  Alumnos  Calificación Grupo\n",
       "0    Paul           9.8     A\n",
       "1   Edgar           4.2     A\n",
       "2    Axel           8.6     A\n",
       "3  Daniel           5.7     B\n",
       "4   Azael           8.9     B\n",
       "5  Bernal           9.7     B\n",
       "6   Diana           4.3     C\n",
       "7  Mirian           9.4     C\n",
       "8  Rebeca           6.1     C"
      ],
      "text/html": [
       "<div>\n",
       "<style scoped>\n",
       "    .dataframe tbody tr th:only-of-type {\n",
       "        vertical-align: middle;\n",
       "    }\n",
       "\n",
       "    .dataframe tbody tr th {\n",
       "        vertical-align: top;\n",
       "    }\n",
       "\n",
       "    .dataframe thead th {\n",
       "        text-align: right;\n",
       "    }\n",
       "</style>\n",
       "<table border=\"1\" class=\"dataframe\">\n",
       "  <thead>\n",
       "    <tr style=\"text-align: right;\">\n",
       "      <th></th>\n",
       "      <th>Alumnos</th>\n",
       "      <th>Calificación</th>\n",
       "      <th>Grupo</th>\n",
       "    </tr>\n",
       "  </thead>\n",
       "  <tbody>\n",
       "    <tr>\n",
       "      <th>0</th>\n",
       "      <td>Paul</td>\n",
       "      <td>9.8</td>\n",
       "      <td>A</td>\n",
       "    </tr>\n",
       "    <tr>\n",
       "      <th>1</th>\n",
       "      <td>Edgar</td>\n",
       "      <td>4.2</td>\n",
       "      <td>A</td>\n",
       "    </tr>\n",
       "    <tr>\n",
       "      <th>2</th>\n",
       "      <td>Axel</td>\n",
       "      <td>8.6</td>\n",
       "      <td>A</td>\n",
       "    </tr>\n",
       "    <tr>\n",
       "      <th>3</th>\n",
       "      <td>Daniel</td>\n",
       "      <td>5.7</td>\n",
       "      <td>B</td>\n",
       "    </tr>\n",
       "    <tr>\n",
       "      <th>4</th>\n",
       "      <td>Azael</td>\n",
       "      <td>8.9</td>\n",
       "      <td>B</td>\n",
       "    </tr>\n",
       "    <tr>\n",
       "      <th>5</th>\n",
       "      <td>Bernal</td>\n",
       "      <td>9.7</td>\n",
       "      <td>B</td>\n",
       "    </tr>\n",
       "    <tr>\n",
       "      <th>6</th>\n",
       "      <td>Diana</td>\n",
       "      <td>4.3</td>\n",
       "      <td>C</td>\n",
       "    </tr>\n",
       "    <tr>\n",
       "      <th>7</th>\n",
       "      <td>Mirian</td>\n",
       "      <td>9.4</td>\n",
       "      <td>C</td>\n",
       "    </tr>\n",
       "    <tr>\n",
       "      <th>8</th>\n",
       "      <td>Rebeca</td>\n",
       "      <td>6.1</td>\n",
       "      <td>C</td>\n",
       "    </tr>\n",
       "  </tbody>\n",
       "</table>\n",
       "</div>"
      ]
     },
     "execution_count": 15,
     "metadata": {},
     "output_type": "execute_result"
    }
   ],
   "execution_count": 15
  },
  {
   "metadata": {},
   "cell_type": "markdown",
   "source": [
    "## Ejercicio 5\n",
    "Eliminar duplicados pero preservando orden de una lista o string, sin usar directamente set()"
   ],
   "id": "b28f2c066cad0c49"
  },
  {
   "metadata": {
    "ExecuteTime": {
     "end_time": "2025-10-23T04:38:38.087300Z",
     "start_time": "2025-10-23T04:38:38.033966Z"
    }
   },
   "cell_type": "code",
   "source": [
    "def ex5_remove_duplicates_preserve_order(lst):\n",
    "    seen=set()\n",
    "    result=[]\n",
    "    if obj in lst:\n",
    "        if obj not in seen:\n",
    "            seen.add(obj)\n",
    "            result.append(obj)\n",
    "\n",
    "    return result\n",
    "\n",
    "lista_random=[1, 4, 2, 5, 2, 4, 1, 6, 4, 7]\n",
    "ex5_remove_duplicates_preserve_order(lista_random)"
   ],
   "id": "7545ffd4ad2b7f8e",
   "outputs": [
    {
     "ename": "NameError",
     "evalue": "name 'obj' is not defined",
     "output_type": "error",
     "traceback": [
      "\u001B[1;31m---------------------------------------------------------------------------\u001B[0m",
      "\u001B[1;31mNameError\u001B[0m                                 Traceback (most recent call last)",
      "Cell \u001B[1;32mIn[18], line 12\u001B[0m\n\u001B[0;32m      9\u001B[0m     \u001B[38;5;28;01mreturn\u001B[39;00m result\n\u001B[0;32m     11\u001B[0m lista_random\u001B[38;5;241m=\u001B[39m[\u001B[38;5;241m1\u001B[39m, \u001B[38;5;241m4\u001B[39m, \u001B[38;5;241m2\u001B[39m, \u001B[38;5;241m5\u001B[39m, \u001B[38;5;241m2\u001B[39m, \u001B[38;5;241m4\u001B[39m, \u001B[38;5;241m1\u001B[39m, \u001B[38;5;241m6\u001B[39m, \u001B[38;5;241m4\u001B[39m, \u001B[38;5;241m7\u001B[39m]\n\u001B[1;32m---> 12\u001B[0m \u001B[43mex5_remove_duplicates_preserve_order\u001B[49m\u001B[43m(\u001B[49m\u001B[43mlista_random\u001B[49m\u001B[43m)\u001B[49m\n",
      "Cell \u001B[1;32mIn[18], line 4\u001B[0m, in \u001B[0;36mex5_remove_duplicates_preserve_order\u001B[1;34m(lst)\u001B[0m\n\u001B[0;32m      2\u001B[0m seen\u001B[38;5;241m=\u001B[39m\u001B[38;5;28mset\u001B[39m()\n\u001B[0;32m      3\u001B[0m result\u001B[38;5;241m=\u001B[39m[]\n\u001B[1;32m----> 4\u001B[0m \u001B[38;5;28;01mif\u001B[39;00m \u001B[43mobj\u001B[49m \u001B[38;5;129;01min\u001B[39;00m lst:\n\u001B[0;32m      5\u001B[0m     \u001B[38;5;28;01mif\u001B[39;00m obj \u001B[38;5;129;01mnot\u001B[39;00m \u001B[38;5;129;01min\u001B[39;00m seen:\n\u001B[0;32m      6\u001B[0m         seen\u001B[38;5;241m.\u001B[39madd(obj)\n",
      "\u001B[1;31mNameError\u001B[0m: name 'obj' is not defined"
     ]
    }
   ],
   "execution_count": 18
  },
  {
   "metadata": {},
   "cell_type": "markdown",
   "source": [
    "## Ejercicio 6:\n",
    "    Dada una lista de tuplas, por ejemplo [(\"a\", 3), (\"b\", 1), (\"c\", 2)], ordénala\n",
    "    por el segundo elemento de cada tupla y devuelve la lista ordenada. Usa una función\n",
    "    anónima si lo deseas. Retorna la lista ordenada."
   ],
   "id": "9f79835987b477c"
  },
  {
   "metadata": {},
   "cell_type": "code",
   "outputs": [],
   "execution_count": null,
   "source": [
    "def ex6_sort_tuples_dy_second_element(tuples_lis):\n",
    "    tuples_lis.sort()\n",
    "    return tuples_lis"
   ],
   "id": "23cdad5fcc2303c"
  },
  {
   "metadata": {},
   "cell_type": "code",
   "outputs": [],
   "execution_count": null,
   "source": "",
   "id": "6b9892e3ee578bf4"
  },
  {
   "metadata": {
    "ExecuteTime": {
     "end_time": "2025-10-24T20:00:05.707238Z",
     "start_time": "2025-10-24T20:00:05.665636Z"
    }
   },
   "cell_type": "markdown",
   "source": [
    "## Ejercicio 7\n",
    "lista de numeros primos"
   ],
   "id": "ed4b509d4ea2a321"
  },
  {
   "metadata": {},
   "cell_type": "code",
   "outputs": [],
   "execution_count": null,
   "source": [
    "def ex7_first_n_multiples_of_7(n):\n",
    "    n+=1\n",
    "    if n%2==0:\n",
    "        return n\n",
    "    else:\n",
    "        return n//2\n"
   ],
   "id": "8a97dd92d77ef616"
  },
  {
   "metadata": {},
   "cell_type": "code",
   "outputs": [],
   "execution_count": null,
   "source": "",
   "id": "b8efbe91aad5b31d"
  },
  {
   "metadata": {},
   "cell_type": "markdown",
   "source": [
    "## Ejercicio 8\n",
    "    Dada una lista de cadenas, devuelve sólo aquellas que son palíndromos (se leen igual\n",
    "    al derecho y al revés). Retorna una lista con los palíndromos encontrados."
   ],
   "id": "840a13b6d9f7ddde"
  },
  {
   "metadata": {},
   "cell_type": "code",
   "outputs": [],
   "execution_count": null,
   "source": [
    "ef ex8_filter_palindromes(strings):\n",
    "\n",
    "    pass\n"
   ],
   "id": "fd915db3a43e9de"
  },
  {
   "metadata": {},
   "cell_type": "code",
   "outputs": [],
   "execution_count": null,
   "source": "",
   "id": "14c777ccd688d8ce"
  },
  {
   "metadata": {},
   "cell_type": "markdown",
   "source": [
    "## Ejercicio 9\n",
    "Intersección y la diferencia de dos conjuntos"
   ],
   "id": "758f74bc3b5ed3e6"
  },
  {
   "metadata": {
    "ExecuteTime": {
     "end_time": "2025-10-24T23:50:43.453488Z",
     "start_time": "2025-10-24T23:50:43.437771Z"
    }
   },
   "cell_type": "code",
   "source": [
    "def ex9_set_intersection_and_difference(set_a,set_b):\n",
    "    intersection=set_a.intersection(set_b)\n",
    "    difference=set_a.difference(set_b)\n",
    "    return (intersection, difference)"
   ],
   "id": "81260543e42e7b0c",
   "outputs": [],
   "execution_count": 1
  },
  {
   "metadata": {
    "ExecuteTime": {
     "end_time": "2025-10-24T23:51:44.847054Z",
     "start_time": "2025-10-24T23:51:44.819587Z"
    }
   },
   "cell_type": "code",
   "source": [
    "conjunto_a = {1, 2, 3, 4}\n",
    "conjunto_b = {3, 4, 5, 6}\n",
    "ex9_set_intersection_and_difference(conjunto_a, conjunto_b)"
   ],
   "id": "1d1ba29fe596b615",
   "outputs": [
    {
     "data": {
      "text/plain": [
       "({3, 4}, {1, 2})"
      ]
     },
     "execution_count": 3,
     "metadata": {},
     "output_type": "execute_result"
    }
   ],
   "execution_count": 3
  },
  {
   "metadata": {},
   "cell_type": "markdown",
   "source": [
    "## Ejercicio 10\n",
    "Verificar subconjuntos"
   ],
   "id": "b3aa8f0bfc0fd141"
  },
  {
   "metadata": {
    "ExecuteTime": {
     "end_time": "2025-10-24T20:10:54.950652Z",
     "start_time": "2025-10-24T20:10:54.941012Z"
    }
   },
   "cell_type": "code",
   "source": [
    "def ex10_is_subset(set_a,set_b):\n",
    "    response=set_a.issubset(set_b)\n",
    "    return response\n",
    "pass"
   ],
   "id": "f913e7cecc39ebfd",
   "outputs": [],
   "execution_count": 2
  },
  {
   "metadata": {},
   "cell_type": "markdown",
   "source": [
    "## Ejercicio 11\n",
    "Contar elementos unicos en una lista"
   ],
   "id": "f5c1e60ffed6407c"
  },
  {
   "metadata": {},
   "cell_type": "code",
   "outputs": [],
   "execution_count": null,
   "source": [
    "def ex11_count_unique_elements(lst):\n",
    "    unique_words=set(lst)\n",
    "    return len(unique_words)"
   ],
   "id": "a04ad8a26924872f"
  },
  {
   "metadata": {},
   "cell_type": "markdown",
   "source": [
    "## Ejercicio 12\n",
    "Extraer palabras que sean unicas en frases"
   ],
   "id": "d00b7df75bd9e393"
  },
  {
   "metadata": {},
   "cell_type": "code",
   "outputs": [],
   "execution_count": null,
   "source": [
    "def ex12_unique_words_from_phrases(phrases):\n",
    "    unique_words=set()\n",
    "    for phrase in phrases:\n",
    "        words=phrase.split()\n",
    "        unique_words.update(words)\n",
    "        return unique_words"
   ],
   "id": "9771aa3cd2e55cf0"
  },
  {
   "metadata": {},
   "cell_type": "markdown",
   "source": [
    "## Ejercicio 13\n",
    "Encontrar persona con mayor edad"
   ],
   "id": "918f66b5376bb8c7"
  },
  {
   "metadata": {
    "ExecuteTime": {
     "end_time": "2025-10-25T00:02:11.426985Z",
     "start_time": "2025-10-25T00:02:11.411029Z"
    }
   },
   "cell_type": "code",
   "source": [
    "def ex13_oldest_person(tuple_list):\n",
    "    oldest=max(tuple_list, key=lambda persona:persona[1])\n",
    "    return oldest"
   ],
   "id": "bc1e432fc06c7aeb",
   "outputs": [],
   "execution_count": 4
  },
  {
   "metadata": {},
   "cell_type": "markdown",
   "source": [
    "## Ejercicio 14\n",
    "Convertir lista de lista a lista de tuplas"
   ],
   "id": "58454895bfd937cb"
  },
  {
   "metadata": {
    "ExecuteTime": {
     "end_time": "2025-10-25T00:04:59.707089Z",
     "start_time": "2025-10-25T00:04:59.692141Z"
    }
   },
   "cell_type": "code",
   "source": [
    "def ex14_convert_list_of_lists_to_tuples(list_of_lists):\n",
    "    return [tuple(sublista) for sublista in list_of_lists]"
   ],
   "id": "cb5d98c909d045d5",
   "outputs": [],
   "execution_count": 6
  },
  {
   "metadata": {
    "ExecuteTime": {
     "end_time": "2025-10-25T00:05:23.123487Z",
     "start_time": "2025-10-25T00:05:23.110215Z"
    }
   },
   "cell_type": "code",
   "source": [
    "lista_de_listas = [[1, 2], [3, 4], [5, 6]]\n",
    "ex14_convert_list_of_lists_to_tuples(lista_de_listas)"
   ],
   "id": "62ef4e9b24ed841e",
   "outputs": [
    {
     "data": {
      "text/plain": [
       "[(1, 2), (3, 4), (5, 6)]"
      ]
     },
     "execution_count": 7,
     "metadata": {},
     "output_type": "execute_result"
    }
   ],
   "execution_count": 7
  },
  {
   "metadata": {},
   "cell_type": "markdown",
   "source": [
    "## Ejercicio 15\n",
    "Suma de los elementos de una tupla"
   ],
   "id": "cf40e47dc08a8fc6"
  },
  {
   "metadata": {
    "ExecuteTime": {
     "end_time": "2025-10-25T00:07:39.794824Z",
     "start_time": "2025-10-25T00:07:39.776719Z"
    }
   },
   "cell_type": "code",
   "source": [
    "def ex15_sum_of_tuple_abc(t):\n",
    "    a,b,c=t\n",
    "    return a + b+ c"
   ],
   "id": "3325a3a6a4e2acf8",
   "outputs": [],
   "execution_count": 8
  },
  {
   "metadata": {
    "ExecuteTime": {
     "end_time": "2025-10-25T00:07:56.610962Z",
     "start_time": "2025-10-25T00:07:56.598203Z"
    }
   },
   "cell_type": "code",
   "source": "mi_tupla = (10, 20, 30)",
   "id": "22536bceea68c81e",
   "outputs": [],
   "execution_count": 9
  },
  {
   "metadata": {},
   "cell_type": "markdown",
   "source": [
    "## Ejercicio 16\n",
    "Ordenar una lista de tuplas por precio"
   ],
   "id": "d9901bdea49f9a66"
  },
  {
   "metadata": {
    "ExecuteTime": {
     "end_time": "2025-10-25T00:09:42.778191Z",
     "start_time": "2025-10-25T00:09:42.763223Z"
    }
   },
   "cell_type": "code",
   "source": [
    "def ex16_sort_product_price(prod_price_list):\n",
    "    prod_price_list.sort()\n",
    "    return prod_price_list"
   ],
   "id": "1563e78853d8726b",
   "outputs": [],
   "execution_count": 11
  },
  {
   "metadata": {
    "ExecuteTime": {
     "end_time": "2025-10-25T00:09:44.481747Z",
     "start_time": "2025-10-25T00:09:44.462923Z"
    }
   },
   "cell_type": "code",
   "source": [
    "productos = [(\"Manzana\", 1.5), (\"Plátano\", 0.75), (\"Naranja\", 1.25)]\n",
    "productos_ordenados = ex16_sort_product_price(productos)\n",
    "print(f\"Productos ordenados por precio: {productos_ordenados}\")"
   ],
   "id": "cf35e21a9a848da4",
   "outputs": [
    {
     "name": "stdout",
     "output_type": "stream",
     "text": [
      "Productos ordenados por precio: [('Manzana', 1.5), ('Naranja', 1.25), ('Plátano', 0.75)]\n"
     ]
    }
   ],
   "execution_count": 12
  },
  {
   "metadata": {},
   "cell_type": "markdown",
   "source": [
    "## Ejercicio 17\n",
    "Frecuencia de caracteres "
   ],
   "id": "ecb7c2ec02ddf16f"
  },
  {
   "metadata": {
    "ExecuteTime": {
     "end_time": "2025-10-25T00:12:24.258741Z",
     "start_time": "2025-10-25T00:12:24.243130Z"
    }
   },
   "cell_type": "code",
   "source": [
    "def ex17_char_frequency(s):\n",
    "    frecuencia={}\n",
    "    for caracter in s:\n",
    "        frecuencia[caracter]=frecuencia.get(caracter, 0)+1\n",
    "        return frecuencia"
   ],
   "id": "3a4c89696653cf83",
   "outputs": [],
   "execution_count": 13
  },
  {
   "metadata": {
    "ExecuteTime": {
     "end_time": "2025-10-25T00:15:03.663831Z",
     "start_time": "2025-10-25T00:15:03.656503Z"
    }
   },
   "cell_type": "code",
   "source": [
    "texto = 'hola fer'\n",
    "print(f\"Frecuencia de caracteres en '{texto}': {ex17_char_frequency(texto)}\")"
   ],
   "id": "9cfacbd506640814",
   "outputs": [
    {
     "name": "stdout",
     "output_type": "stream",
     "text": [
      "Frecuencia de caracteres en 'hola fer': {'h': 1}\n"
     ]
    }
   ],
   "execution_count": 17
  },
  {
   "metadata": {},
   "cell_type": "markdown",
   "source": [
    "## Ejercicio 18\n",
    "encontrar al mejor estudiante"
   ],
   "id": "2201aed09e6502ba"
  },
  {
   "metadata": {
    "ExecuteTime": {
     "end_time": "2025-10-25T03:59:57.262300Z",
     "start_time": "2025-10-25T03:59:57.246971Z"
    }
   },
   "cell_type": "code",
   "source": [
    "def ex18_best_student(grades_dict):\n",
    "    best=max(grades_dict.items(), key=lambda item: item[1])\n",
    "    return best"
   ],
   "id": "e357eede3494418a",
   "outputs": [],
   "execution_count": 20
  },
  {
   "metadata": {
    "ExecuteTime": {
     "end_time": "2025-10-25T04:00:02.650371Z",
     "start_time": "2025-10-25T04:00:02.634972Z"
    }
   },
   "cell_type": "code",
   "source": [
    "calificaciones = {\"Sebas\": 8, \"Ana\": 9.5, \"Luis\": 7, \"Marta\": 9.5}\n",
    "ex18_best_student(calificaciones)"
   ],
   "id": "a3d9dc366a0af2a1",
   "outputs": [
    {
     "data": {
      "text/plain": [
       "('Ana', 9.5)"
      ]
     },
     "execution_count": 21,
     "metadata": {},
     "output_type": "execute_result"
    }
   ],
   "execution_count": 21
  },
  {
   "metadata": {},
   "cell_type": "markdown",
   "source": [
    "## Ejercicio 19\n",
    "Invertir un diccionario"
   ],
   "id": "3351782420e0afd8"
  },
  {
   "metadata": {
    "ExecuteTime": {
     "end_time": "2025-10-25T04:08:11.062044Z",
     "start_time": "2025-10-25T04:08:11.045954Z"
    }
   },
   "cell_type": "code",
   "source": [
    "def ex19_invert_dictionary(d):\n",
    "    return {valor: clave for clave, valor in d.items()}\n"
   ],
   "id": "4a40cfaa72d1f149",
   "outputs": [],
   "execution_count": 22
  },
  {
   "metadata": {
    "ExecuteTime": {
     "end_time": "2025-10-25T04:08:13.611442Z",
     "start_time": "2025-10-25T04:08:13.595556Z"
    }
   },
   "cell_type": "code",
   "source": [
    "diccionario_original = {\"a\": 1, \"b\": 2, \"c\": 3}\n",
    "ex19_invert_dictionary(diccionario_original)"
   ],
   "id": "b0d32a354094e4e5",
   "outputs": [
    {
     "data": {
      "text/plain": [
       "{1: 'a', 2: 'b', 3: 'c'}"
      ]
     },
     "execution_count": 23,
     "metadata": {},
     "output_type": "execute_result"
    }
   ],
   "execution_count": 23
  },
  {
   "metadata": {},
   "cell_type": "markdown",
   "source": [
    "## Ejercicio 20\n",
    "Fusionar diccionarios sumando valores"
   ],
   "id": "d4e7a32515d57ed4"
  },
  {
   "metadata": {
    "ExecuteTime": {
     "end_time": "2025-10-25T04:12:33.583358Z",
     "start_time": "2025-10-25T04:12:33.567949Z"
    }
   },
   "cell_type": "code",
   "source": [
    "def ex20_merge_dicts_sum_values(d1, d2):\n",
    "    resultado=d1.copy()\n",
    "    for clave, valor in d2.items():\n",
    "        resultado[clave] = resultado.get(clave, 0) + valor\n",
    "\n",
    "        return resultado"
   ],
   "id": "bc1b5fca299ec624",
   "outputs": [],
   "execution_count": 24
  },
  {
   "metadata": {
    "ExecuteTime": {
     "end_time": "2025-10-25T04:12:57.734778Z",
     "start_time": "2025-10-25T04:12:57.720107Z"
    }
   },
   "cell_type": "code",
   "source": [
    "dict1 = {'a': 10, 'b': 20, 'c': 30}\n",
    "dict2 = {'b': 5, 'c': 15, 'd': 40}\n",
    "ex20_merge_dicts_sum_values(dict1, dict2)"
   ],
   "id": "4a5bb54bd68664ed",
   "outputs": [
    {
     "data": {
      "text/plain": [
       "{'a': 10, 'b': 25, 'c': 30}"
      ]
     },
     "execution_count": 25,
     "metadata": {},
     "output_type": "execute_result"
    }
   ],
   "execution_count": 25
  },
  {
   "metadata": {},
   "cell_type": "markdown",
   "source": [
    "## Ejercicio 21\n",
    "crear y modificar un array de numpy"
   ],
   "id": "6d409f7e7404be4e"
  },
  {
   "metadata": {
    "ExecuteTime": {
     "end_time": "2025-10-25T04:21:25.640764Z",
     "start_time": "2025-10-25T04:21:25.625005Z"
    }
   },
   "cell_type": "code",
   "source": [
    "def ex21_numpy_array_set_fifth():\n",
    "    array_de_ceros=np.zeros(10)\n",
    "    array_de_ceros[4]=1\n",
    "    return array_de_ceros\n"
   ],
   "id": "dd3afdf28edbcc23",
   "outputs": [],
   "execution_count": 26
  },
  {
   "metadata": {},
   "cell_type": "markdown",
   "source": [
    "## Ejercicio 22\n",
    "Generar una matriz con np con valores del 0 al 8"
   ],
   "id": "a0260848bc14df6c"
  },
  {
   "metadata": {
    "ExecuteTime": {
     "end_time": "2025-10-25T04:24:09.417371Z",
     "start_time": "2025-10-25T04:24:09.410867Z"
    }
   },
   "cell_type": "code",
   "source": [
    "def ex22_numpy_matrix_3x3():\n",
    "    array_secuencia=np.arange(9)\n",
    "    m_3x3=array_secuencia.reshape(3,3)\n",
    "    return m_3x3"
   ],
   "id": "ca3b35d922b73530",
   "outputs": [],
   "execution_count": 27
  },
  {
   "metadata": {},
   "cell_type": "markdown",
   "source": [
    "## Ejercicio 23\n",
    "Media, mediana y sd de un array aleatorio con NP"
   ],
   "id": "10407d6bfc159aed"
  },
  {
   "metadata": {
    "ExecuteTime": {
     "end_time": "2025-10-25T04:27:14.078313Z",
     "start_time": "2025-10-25T04:27:14.062329Z"
    }
   },
   "cell_type": "code",
   "source": [
    "def ex23_numpy_statistics():\n",
    "    array_aleatorio=np.random.randint(0,100,20)\n",
    "    media=np.mean(array_aleatorio)\n",
    "    mediana=np.median(array_aleatorio)\n",
    "    sd=np.std(array_aleatorio)\n",
    "    return (media, mediana, sd)\n"
   ],
   "id": "5f25de8705582241",
   "outputs": [],
   "execution_count": 28
  },
  {
   "metadata": {},
   "cell_type": "markdown",
   "source": [
    "## Ejercicio 24\n",
    "Reemplazar todos los valores mayores que 10 por 10 de un array con np"
   ],
   "id": "109f7c493bf4b93c"
  },
  {
   "metadata": {
    "ExecuteTime": {
     "end_time": "2025-10-25T04:30:52.804015Z",
     "start_time": "2025-10-25T04:30:52.791033Z"
    }
   },
   "cell_type": "code",
   "source": [
    "def ex24_numpy_clip_values(arr):\n",
    "    array_num=np.array(arr)\n",
    "    array_modificado=np.clip(array_num, a_min=None, a_max=10)\n",
    "    return array_modificado"
   ],
   "id": "19ad483ae676b2f6",
   "outputs": [],
   "execution_count": 29
  },
  {
   "metadata": {},
   "cell_type": "markdown",
   "source": [
    "## Ejercicio 25\n",
    "    Filtrar filas de un dataframe de pandas"
   ],
   "id": "93e10cb66a3f15bf"
  },
  {
   "metadata": {
    "ExecuteTime": {
     "end_time": "2025-10-25T04:47:57.215648Z",
     "start_time": "2025-10-25T04:47:57.201018Z"
    }
   },
   "cell_type": "code",
   "source": [
    "def ex25_filter_rows_age_over_30(datos):\n",
    "    df=pd.DataFrame(datos)\n",
    "    df_filtrado= df[df['Edad']>30]\n",
    "    return df_filtrado"
   ],
   "id": "d1d94383db9744b4",
   "outputs": [],
   "execution_count": 33
  },
  {
   "metadata": {
    "ExecuteTime": {
     "end_time": "2025-10-25T04:48:01.044900Z",
     "start_time": "2025-10-25T04:48:01.012859Z"
    }
   },
   "cell_type": "code",
   "source": [
    "datos = {\n",
    "        'Nombre': ['Ana', 'Juan', 'María', 'Pedro', 'Sofía'],\n",
    "        'Edad': [28, 35, 42, 25, 31],\n",
    "        'Ciudad': ['Madrid', 'Barcelona', 'Valencia', 'Sevilla', 'Bilbao']\n",
    "    }\n",
    "ex25_filter_rows_age_over_30(datos)"
   ],
   "id": "52bf038eda16269e",
   "outputs": [
    {
     "data": {
      "text/plain": [
       "  Nombre  Edad     Ciudad\n",
       "1   Juan    35  Barcelona\n",
       "2  María    42   Valencia\n",
       "4  Sofía    31     Bilbao"
      ],
      "text/html": [
       "<div>\n",
       "<style scoped>\n",
       "    .dataframe tbody tr th:only-of-type {\n",
       "        vertical-align: middle;\n",
       "    }\n",
       "\n",
       "    .dataframe tbody tr th {\n",
       "        vertical-align: top;\n",
       "    }\n",
       "\n",
       "    .dataframe thead th {\n",
       "        text-align: right;\n",
       "    }\n",
       "</style>\n",
       "<table border=\"1\" class=\"dataframe\">\n",
       "  <thead>\n",
       "    <tr style=\"text-align: right;\">\n",
       "      <th></th>\n",
       "      <th>Nombre</th>\n",
       "      <th>Edad</th>\n",
       "      <th>Ciudad</th>\n",
       "    </tr>\n",
       "  </thead>\n",
       "  <tbody>\n",
       "    <tr>\n",
       "      <th>1</th>\n",
       "      <td>Juan</td>\n",
       "      <td>35</td>\n",
       "      <td>Barcelona</td>\n",
       "    </tr>\n",
       "    <tr>\n",
       "      <th>2</th>\n",
       "      <td>María</td>\n",
       "      <td>42</td>\n",
       "      <td>Valencia</td>\n",
       "    </tr>\n",
       "    <tr>\n",
       "      <th>4</th>\n",
       "      <td>Sofía</td>\n",
       "      <td>31</td>\n",
       "      <td>Bilbao</td>\n",
       "    </tr>\n",
       "  </tbody>\n",
       "</table>\n",
       "</div>"
      ]
     },
     "execution_count": 34,
     "metadata": {},
     "output_type": "execute_result"
    }
   ],
   "execution_count": 34
  },
  {
   "metadata": {},
   "cell_type": "markdown",
   "source": [
    "## Ejercicio 26\n",
    "Cargar dic en df y ordenarlo"
   ],
   "id": "67a67d251643e680"
  },
  {
   "metadata": {
    "ExecuteTime": {
     "end_time": "2025-10-25T04:51:42.404031Z",
     "start_time": "2025-10-25T04:51:42.385902Z"
    }
   },
   "cell_type": "code",
   "source": [
    "def ex26_load_dict_into_dataframe_and_sort(dict):\n",
    "    df=pd.DataFrame(dict)\n",
    "    df_ordenado= df.sort_values(by='Puntaje', ascending=False)\n",
    "    return df_ordenado"
   ],
   "id": "3bd273f66a6ad106",
   "outputs": [],
   "execution_count": 35
  },
  {
   "metadata": {
    "ExecuteTime": {
     "end_time": "2025-10-25T04:52:20.771705Z",
     "start_time": "2025-10-25T04:52:20.739884Z"
    }
   },
   "cell_type": "code",
   "source": [
    " datos_dict = {\n",
    "        'Nombre': ['Carlos', 'Beatriz', 'David', 'Elena'],\n",
    "        'Puntaje': [88, 95, 72, 95]\n",
    "    }\n",
    " ex26_load_dict_into_dataframe_and_sort(datos_dict)"
   ],
   "id": "b0838fc26168313b",
   "outputs": [
    {
     "data": {
      "text/plain": [
       "    Nombre  Puntaje\n",
       "1  Beatriz       95\n",
       "3    Elena       95\n",
       "0   Carlos       88\n",
       "2    David       72"
      ],
      "text/html": [
       "<div>\n",
       "<style scoped>\n",
       "    .dataframe tbody tr th:only-of-type {\n",
       "        vertical-align: middle;\n",
       "    }\n",
       "\n",
       "    .dataframe tbody tr th {\n",
       "        vertical-align: top;\n",
       "    }\n",
       "\n",
       "    .dataframe thead th {\n",
       "        text-align: right;\n",
       "    }\n",
       "</style>\n",
       "<table border=\"1\" class=\"dataframe\">\n",
       "  <thead>\n",
       "    <tr style=\"text-align: right;\">\n",
       "      <th></th>\n",
       "      <th>Nombre</th>\n",
       "      <th>Puntaje</th>\n",
       "    </tr>\n",
       "  </thead>\n",
       "  <tbody>\n",
       "    <tr>\n",
       "      <th>1</th>\n",
       "      <td>Beatriz</td>\n",
       "      <td>95</td>\n",
       "    </tr>\n",
       "    <tr>\n",
       "      <th>3</th>\n",
       "      <td>Elena</td>\n",
       "      <td>95</td>\n",
       "    </tr>\n",
       "    <tr>\n",
       "      <th>0</th>\n",
       "      <td>Carlos</td>\n",
       "      <td>88</td>\n",
       "    </tr>\n",
       "    <tr>\n",
       "      <th>2</th>\n",
       "      <td>David</td>\n",
       "      <td>72</td>\n",
       "    </tr>\n",
       "  </tbody>\n",
       "</table>\n",
       "</div>"
      ]
     },
     "execution_count": 37,
     "metadata": {},
     "output_type": "execute_result"
    }
   ],
   "execution_count": 37
  },
  {
   "metadata": {},
   "cell_type": "markdown",
   "source": [
    "## Ejercicio 27\n",
    "Agrupar por grupo y calcular promedio"
   ],
   "id": "c2f59b419a4768b"
  },
  {
   "metadata": {
    "ExecuteTime": {
     "end_time": "2025-10-25T04:56:29.433546Z",
     "start_time": "2025-10-25T04:56:29.417878Z"
    }
   },
   "cell_type": "code",
   "source": [
    "def ex27_groupby_mean_value(data):\n",
    "    df=pd.DataFrame(data)\n",
    "    promedios=df.groupby('Grupo') ['Valor'].mean().reset_index()\n",
    "    return promedios\n"
   ],
   "id": "5af04bb0bf84bf99",
   "outputs": [],
   "execution_count": 38
  },
  {
   "metadata": {
    "ExecuteTime": {
     "end_time": "2025-10-25T04:56:49.449504Z",
     "start_time": "2025-10-25T04:56:49.418342Z"
    }
   },
   "cell_type": "code",
   "source": [
    " datos = {\n",
    "        'Grupo': ['A', 'B', 'A', 'B', 'A', 'C', 'C', 'B'],\n",
    "        'Valor': [10, 15, 12, 18, 11, 20, 22, 16]\n",
    "    }\n",
    " ex27_groupby_mean_value(datos)"
   ],
   "id": "79d3e95de7a42507",
   "outputs": [
    {
     "data": {
      "text/plain": [
       "  Grupo      Valor\n",
       "0     A  11.000000\n",
       "1     B  16.333333\n",
       "2     C  21.000000"
      ],
      "text/html": [
       "<div>\n",
       "<style scoped>\n",
       "    .dataframe tbody tr th:only-of-type {\n",
       "        vertical-align: middle;\n",
       "    }\n",
       "\n",
       "    .dataframe tbody tr th {\n",
       "        vertical-align: top;\n",
       "    }\n",
       "\n",
       "    .dataframe thead th {\n",
       "        text-align: right;\n",
       "    }\n",
       "</style>\n",
       "<table border=\"1\" class=\"dataframe\">\n",
       "  <thead>\n",
       "    <tr style=\"text-align: right;\">\n",
       "      <th></th>\n",
       "      <th>Grupo</th>\n",
       "      <th>Valor</th>\n",
       "    </tr>\n",
       "  </thead>\n",
       "  <tbody>\n",
       "    <tr>\n",
       "      <th>0</th>\n",
       "      <td>A</td>\n",
       "      <td>11.000000</td>\n",
       "    </tr>\n",
       "    <tr>\n",
       "      <th>1</th>\n",
       "      <td>B</td>\n",
       "      <td>16.333333</td>\n",
       "    </tr>\n",
       "    <tr>\n",
       "      <th>2</th>\n",
       "      <td>C</td>\n",
       "      <td>21.000000</td>\n",
       "    </tr>\n",
       "  </tbody>\n",
       "</table>\n",
       "</div>"
      ]
     },
     "execution_count": 39,
     "metadata": {},
     "output_type": "execute_result"
    }
   ],
   "execution_count": 39
  },
  {
   "metadata": {},
   "cell_type": "markdown",
   "source": [
    "## Ejercicio 28\n",
    "Producto más vendido de un df"
   ],
   "id": "f4f6c6636c9d922a"
  },
  {
   "metadata": {
    "ExecuteTime": {
     "end_time": "2025-10-25T05:04:05.177564Z",
     "start_time": "2025-10-25T05:04:05.161914Z"
    }
   },
   "cell_type": "code",
   "source": [
    "def ex28_most_sold_product_from_sales_df(datos_ventas):\n",
    "    df_ventas = pd.DataFrame(datos_ventas)\n",
    "    por_producto=df_ventas.groupby('Producto')['Cantidad'].sum()\n",
    "    best_seller=por_producto.idxmax()\n",
    "    cantidad_mas_vendida=por_producto.max()\n",
    "    return (best_seller, cantidad_mas_vendida)"
   ],
   "id": "3858b4a1fe85279a",
   "outputs": [],
   "execution_count": 44
  },
  {
   "metadata": {
    "ExecuteTime": {
     "end_time": "2025-10-25T05:04:29.063237Z",
     "start_time": "2025-10-25T05:04:29.047985Z"
    }
   },
   "cell_type": "code",
   "source": [
    "datos_ventas = {\n",
    "        'Producto': ['Laptop', 'Teclado', 'Mouse', 'Laptop', 'Monitor', 'Teclado', 'Laptop'],\n",
    "        'Cantidad': [5, 10, 15, 8, 3, 12, 7]}\n",
    "ex28_most_sold_product_from_sales_df(datos_ventas)"
   ],
   "id": "a5a184dcbd2dbae4",
   "outputs": [
    {
     "data": {
      "text/plain": [
       "('Teclado', np.int64(22))"
      ]
     },
     "execution_count": 45,
     "metadata": {},
     "output_type": "execute_result"
    }
   ],
   "execution_count": 45
  },
  {
   "metadata": {},
   "cell_type": "markdown",
   "source": [
    "## Ejercicio 29\n",
    "Usar map junto lamdsa para elevar al cubo cada numero en una lista"
   ],
   "id": "db3dbfd7e948d5dc"
  },
  {
   "metadata": {
    "ExecuteTime": {
     "end_time": "2025-10-25T05:07:47.622043Z",
     "start_time": "2025-10-25T05:07:47.606370Z"
    }
   },
   "cell_type": "code",
   "source": [
    "def ex29_map_lambda_cube(lst):\n",
    "    lista_al_cubo=map(lambda numero:numero ** 3,lst)\n",
    "    return list(lista_al_cubo)"
   ],
   "id": "ae84d2d50c3c426e",
   "outputs": [],
   "execution_count": 46
  },
  {
   "metadata": {
    "ExecuteTime": {
     "end_time": "2025-10-25T05:08:07.233980Z",
     "start_time": "2025-10-25T05:08:07.218528Z"
    }
   },
   "cell_type": "code",
   "source": [
    "numeros = [1, 2, 3, 4, 5]\n",
    "ex29_map_lambda_cube(numeros)"
   ],
   "id": "cfc5d6a1e0d2d96d",
   "outputs": [
    {
     "data": {
      "text/plain": [
       "[1, 8, 27, 64, 125]"
      ]
     },
     "execution_count": 47,
     "metadata": {},
     "output_type": "execute_result"
    }
   ],
   "execution_count": 47
  },
  {
   "metadata": {},
   "cell_type": "markdown",
   "source": [
    "## Ejercicio 30\n",
    "Usa filter y lambda para quedarse solo con numero pares de una lista"
   ],
   "id": "848666bf75ea030e"
  },
  {
   "metadata": {
    "ExecuteTime": {
     "end_time": "2025-10-25T05:10:47.678463Z",
     "start_time": "2025-10-25T05:10:47.659321Z"
    }
   },
   "cell_type": "code",
   "source": [
    "def ex30_filter_lambda_even(lst):\n",
    "    numeros_pares=filter(lambda  numero : numero % 2 == 0, lst)\n",
    "    return list(numeros_pares)"
   ],
   "id": "18722e3a0fe17661",
   "outputs": [],
   "execution_count": 48
  },
  {
   "metadata": {},
   "cell_type": "markdown",
   "source": [
    "## Ejercicio 31\n",
    "Lista de diccionarios, ordenarla por valor asociado usando sorted don un lambda"
   ],
   "id": "6b7f2d469cb3df47"
  },
  {
   "metadata": {
    "ExecuteTime": {
     "end_time": "2025-10-25T05:12:26.927392Z",
     "start_time": "2025-10-25T05:12:26.912797Z"
    }
   },
   "cell_type": "code",
   "source": [
    "def ex31_sort_list_of_dicts_by_key(lst, keyname):\n",
    "    return sorted(lst, key=lambda  d: d[keyname])"
   ],
   "id": "93bc2e552c447331",
   "outputs": [],
   "execution_count": 49
  },
  {
   "metadata": {},
   "cell_type": "markdown",
   "source": [
    "## Ejercicio 32\n",
    "Crear df con 'Nombre' y aplicar función para crear columna con mayusculas"
   ],
   "id": "1d4fb5b6f5c3fea9"
  },
  {
   "metadata": {
    "ExecuteTime": {
     "end_time": "2025-10-25T05:16:02.662647Z",
     "start_time": "2025-10-25T05:16:02.647269Z"
    }
   },
   "cell_type": "code",
   "source": [
    "def ex32_pandas_apply_lambda_uppercase(names_list):\n",
    "    df=pd.DataFrame({'Nombres':names_list})\n",
    "    df['Nombre_Mayusculas']=df['Nombres'].apply(lambda nombre: nombre.upper())\n",
    "    return df"
   ],
   "id": "6f9e79039de9c1f3",
   "outputs": [],
   "execution_count": 50
  }
 ],
 "metadata": {
  "kernelspec": {
   "display_name": "Python 3 (ipykernel)",
   "language": "python",
   "name": "python3"
  },
  "language_info": {
   "codemirror_mode": {
    "name": "ipython",
    "version": 3
   },
   "file_extension": ".py",
   "mimetype": "text/x-python",
   "name": "python",
   "nbconvert_exporter": "python",
   "pygments_lexer": "ipython3",
   "version": "3.9.7"
  }
 },
 "nbformat": 4,
 "nbformat_minor": 5
}
