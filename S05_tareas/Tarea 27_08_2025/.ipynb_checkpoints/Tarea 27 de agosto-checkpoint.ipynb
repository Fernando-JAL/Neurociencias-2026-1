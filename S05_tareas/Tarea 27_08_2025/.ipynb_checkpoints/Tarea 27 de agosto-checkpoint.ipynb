{
 "cells": [
  {
   "cell_type": "markdown",
   "id": "276c8ba2-5061-4c5f-988f-1d6edd60d4f3",
   "metadata": {},
   "source": [
    "# Tarea \n",
    "Hacer un ejemplo de las siguientes built-in functions \n",
    "- all\n",
    "- any\n",
    "- abs\n",
    "- input\n",
    "- max\n",
    "- min\n",
    "- pow\n",
    "- reversed\n",
    "- round\n",
    "- sorted\n",
    "- sum"
   ]
  },
  {
   "cell_type": "code",
   "execution_count": 1,
   "id": "19aaa8d2-890d-4425-8767-48945ab895b4",
   "metadata": {},
   "outputs": [
    {
     "name": "stdout",
     "output_type": "stream",
     "text": [
      "¿Todos mis experimentos salieron bien? True\n"
     ]
    }
   ],
   "source": [
    "# All\n",
    "resultados = [True, True, True]  \n",
    "print(\"¿Todos mis experimentos salieron bien?\", all(resultados))"
   ]
  },
  {
   "cell_type": "code",
   "execution_count": 2,
   "id": "c4322352-4a12-4779-8c30-3247f2789cdd",
   "metadata": {},
   "outputs": [
    {
     "name": "stdout",
     "output_type": "stream",
     "text": [
      "¿Algún perrito vino cuando lo llamé? True\n"
     ]
    }
   ],
   "source": [
    "# Any \n",
    "perritos = [False, False, True]  \n",
    "print(\"¿Algún perrito vino cuando lo llamé?\", any(perritos)) "
   ]
  },
  {
   "cell_type": "markdown",
   "id": "f87dcc78-bfe7-4bb4-aa84-f1e91f630c75",
   "metadata": {},
   "source": [
    "#### Diferencia entre all y any \n",
    "##### all() → Todos deben ser True.\n",
    "##### any() → Con que uno sea True alcanza"
   ]
  },
  {
   "cell_type": "code",
   "execution_count": 3,
   "id": "c1bbbb34-2c6b-42a8-a61f-d3fe25110b6a",
   "metadata": {},
   "outputs": [
    {
     "name": "stdout",
     "output_type": "stream",
     "text": [
      "Magnitud de la diferencia de potencial: 70\n"
     ]
    }
   ],
   "source": [
    "# Abs\n",
    "diferencia = -70  \n",
    "print(\"Magnitud de la diferencia de potencial:\", abs(diferencia))"
   ]
  },
  {
   "cell_type": "code",
   "execution_count": 4,
   "id": "bd3b747c-c2ab-4af3-add0-0e5ffec5585e",
   "metadata": {},
   "outputs": [
    {
     "name": "stdin",
     "output_type": "stream",
     "text": [
      "¿Cuántos años tienes?:  20\n"
     ]
    },
    {
     "name": "stdout",
     "output_type": "stream",
     "text": [
      "20 <class 'str'>\n"
     ]
    }
   ],
   "source": [
    "# Input\n",
    "edad = input(\"¿Cuántos años tienes?: \")\n",
    "print(edad, type(edad))\n"
   ]
  },
  {
   "cell_type": "code",
   "execution_count": 9,
   "id": "423400eb-f610-48bd-b2ce-ccd0312e3734",
   "metadata": {},
   "outputs": [
    {
     "name": "stdout",
     "output_type": "stream",
     "text": [
      "Que personaje es mas guapo: Roy Mustang\n"
     ]
    }
   ],
   "source": [
    "# Max\n",
    "guapura = {\"Inuyasha\":9.99 , \"Levi\": 9.8, \"Roy Mustang\": 10}\n",
    "print(\"Que personaje es mas atractivo:\", max(guapura, key=guapura.get))"
   ]
  },
  {
   "cell_type": "code",
   "execution_count": 10,
   "id": "dd6e0b37-9c71-47e3-9352-2d3e73914ab3",
   "metadata": {},
   "outputs": [
    {
     "name": "stdout",
     "output_type": "stream",
     "text": [
      "Que personaje es mas atractivo: Levi\n"
     ]
    }
   ],
   "source": [
    "# Min\n",
    "guapura = {\"Inuyasha\":9.99 , \"Levi\": 9.8, \"Roy Mustang\": 10}\n",
    "print(\"Que personaje es mas atractivo:\", min(guapura, key=guapura.get))"
   ]
  },
  {
   "cell_type": "code",
   "execution_count": 11,
   "id": "29b66d22-acd1-44eb-a9ab-3e238286744e",
   "metadata": {},
   "outputs": [
    {
     "name": "stdout",
     "output_type": "stream",
     "text": [
      "Intensidad de la señal neuronal al cuadrado: 0.6400000000000001\n"
     ]
    }
   ],
   "source": [
    "# pow\n",
    "señal = 0.8\n",
    "print(\"Intensidad de la señal neuronal al cuadrado:\", pow(señal, 2))"
   ]
  },
  {
   "cell_type": "code",
   "execution_count": 12,
   "id": "d9218941-48c1-4893-bfa9-6c197186b34c",
   "metadata": {},
   "outputs": [
    {
     "name": "stdout",
     "output_type": "stream",
     "text": [
      "Fullmetal al revés: latemlluF\n"
     ]
    }
   ],
   "source": [
    "# reversed \n",
    "print(\"Fullmetal al revés:\", \"\".join(reversed(\"Fullmetal\")))"
   ]
  },
  {
   "cell_type": "code",
   "execution_count": 21,
   "id": "6529527b-6887-4c54-8f20-fbb881432655",
   "metadata": {},
   "outputs": [
    {
     "name": "stdout",
     "output_type": "stream",
     "text": [
      "Nivel de carisma: 19.996\n"
     ]
    }
   ],
   "source": [
    "### Round\n",
    "carisma = 19.9959773\n",
    "print(\"Nivel de carisma:\", round(carisma,3)) \n"
   ]
  },
  {
   "cell_type": "code",
   "execution_count": 22,
   "id": "edcc2bf8-6565-48af-a790-db7dda153665",
   "metadata": {},
   "outputs": [
    {
     "name": "stdout",
     "output_type": "stream",
     "text": [
      "Frases ordenadas: ['El hombre sabio no se aflige por lo que no tiene.', 'El que no se engaña a sí mismo, no engaña a los demás.', 'Para llegar al cielo hay que empezar por el infierno.']\n"
     ]
    }
   ],
   "source": [
    "# sorted\n",
    "frases = [\n",
    "    \"Para llegar al cielo hay que empezar por el infierno.\", \n",
    "    \"El que no se engaña a sí mismo, no engaña a los demás.\",  \n",
    "    \"El hombre sabio no se aflige por lo que no tiene.\"         \n",
    "]\n",
    "\n",
    "print(\"Frases ordenadas:\", sorted(frases))"
   ]
  },
  {
   "cell_type": "code",
   "execution_count": 24,
   "id": "0f1850ae-044b-436a-8f02-1ff68ab92bb5",
   "metadata": {},
   "outputs": [
    {
     "name": "stdout",
     "output_type": "stream",
     "text": [
      "55\n"
     ]
    }
   ],
   "source": [
    "# Sum\n",
    "print(sum([1, 2, 3, 4, 5, 6, 7, 8, 9, 10]))  "
   ]
  }
 ],
 "metadata": {
  "kernelspec": {
   "display_name": "Python 3 (ipykernel)",
   "language": "python",
   "name": "python3"
  },
  "language_info": {
   "codemirror_mode": {
    "name": "ipython",
    "version": 3
   },
   "file_extension": ".py",
   "mimetype": "text/x-python",
   "name": "python",
   "nbconvert_exporter": "python",
   "pygments_lexer": "ipython3",
   "version": "3.13.5"
  }
 },
 "nbformat": 4,
 "nbformat_minor": 5
}
