{
 "cells": [
  {
   "cell_type": "code",
   "execution_count": 4,
   "id": "6da56d9a-f2a9-488b-879e-d2544c00f464",
   "metadata": {},
   "outputs": [],
   "source": [
    "# tarea hacer factorial y suma(formulas)\n",
    "def factorial(n):\n",
    "    if n > 1:    \n",
    "        return factorial(n-1)*n\n",
    "    else:\n",
    "        return n\n",
    "        "
   ]
  },
  {
   "cell_type": "code",
   "execution_count": 5,
   "id": "35049280-4d84-42e4-bf6e-3d3e4235527d",
   "metadata": {},
   "outputs": [
    {
     "data": {
      "text/plain": [
       "120"
      ]
     },
     "execution_count": 5,
     "metadata": {},
     "output_type": "execute_result"
    }
   ],
   "source": [
    "factorial(5)"
   ]
  },
  {
   "cell_type": "code",
   "execution_count": 9,
   "id": "a80d74ba-bf53-41b0-9f96-eb677ca1fdc4",
   "metadata": {},
   "outputs": [],
   "source": [
    "def sumatoria_5(n): \n",
    "   if n>0:  \n",
    "       return sumatoria_5(n-1)+5**n\n",
    "   else:\n",
    "       return n+1"
   ]
  },
  {
   "cell_type": "code",
   "execution_count": 12,
   "id": "da46e7e9-bce6-4763-8e08-b35cecae2047",
   "metadata": {},
   "outputs": [
    {
     "data": {
      "text/plain": [
       "156"
      ]
     },
     "execution_count": 12,
     "metadata": {},
     "output_type": "execute_result"
    }
   ],
   "source": [
    "sumatoria_5(3)"
   ]
  },
  {
   "cell_type": "code",
   "execution_count": null,
   "id": "c5d00b5d-ff65-49a5-b1bd-bec9e1409ab2",
   "metadata": {},
   "outputs": [],
   "source": []
  }
 ],
 "metadata": {
  "kernelspec": {
   "display_name": "Python 3 (ipykernel)",
   "language": "python",
   "name": "python3"
  },
  "language_info": {
   "codemirror_mode": {
    "name": "ipython",
    "version": 3
   },
   "file_extension": ".py",
   "mimetype": "text/x-python",
   "name": "python",
   "nbconvert_exporter": "python",
   "pygments_lexer": "ipython3",
   "version": "3.10.4"
  }
 },
 "nbformat": 4,
 "nbformat_minor": 5
}
