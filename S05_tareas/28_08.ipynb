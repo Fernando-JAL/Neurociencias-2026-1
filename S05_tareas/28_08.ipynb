{
 "cells": [
  {
   "cell_type": "markdown",
   "id": "cd230ce7-18d9-48ea-953d-ce3ba1c62033",
   "metadata": {},
   "source": [
    "# Ejercicios\n",
    "#### Ahyllón Lpoez Mariana\n",
    "\n",
    "1. Crear una función que cuente las vocales de un string y regrese dicho número.\n",
    "2. Crear una función que determine si un número es par o impar e imprima si es par o impar.\n",
    "3. Crear una función para convertir de grados celsius a fahrenheit, dicha función.\n",
    "4. recibirá la temperatura en grados celsius y deberá regresar los grados fahrenheit.\n",
    "5. Crear una función que reciba un entero y devuelva la suma de sus dígitos.\n",
    "6. Crear una función que cuente las palabras de un string y devuelva dicho número.\n",
    "7. Crear una función que reciba una lista con al menos 3 enteros y regrese el mínimo de todos los números de la lista.\n",
    "8. Crear una función que reciba dos string (frase, letra) y cuente cuántas veces aparece la letra en la frase y regrese ese número."
   ]
  },
  {
   "cell_type": "markdown",
   "id": "da4c3f47-3394-4766-ba04-24d0ea9440be",
   "metadata": {},
   "source": [
    "### EJERCICIO 1"
   ]
  },
  {
   "cell_type": "code",
   "execution_count": 2,
   "id": "c49d6802-4804-41e2-bd53-66a2985e9ae9",
   "metadata": {},
   "outputs": [],
   "source": [
    "def contar_vocales(holiprofe):\n",
    "    vocales = \"aeiouAEIOU\"\n",
    "    contador = 0\n",
    "    for letra in texto:\n",
    "        if letra in vocales:\n",
    "            contador += 1\n",
    "    return contador        "
   ]
  },
  {
   "cell_type": "code",
   "execution_count": 5,
   "id": "8bc01dcb-69b5-42ee-ad17-f77fc9f37b03",
   "metadata": {},
   "outputs": [
    {
     "name": "stdout",
     "output_type": "stream",
     "text": [
      "4\n"
     ]
    }
   ],
   "source": [
    "print(contar_vocales(\"holiprofe\"))"
   ]
  },
  {
   "cell_type": "code",
   "execution_count": 7,
   "id": "fe678c0b-e900-4381-9ed4-5fee8b9fe8c4",
   "metadata": {},
   "outputs": [
    {
     "data": {
      "text/plain": [
       "4"
      ]
     },
     "execution_count": 7,
     "metadata": {},
     "output_type": "execute_result"
    }
   ],
   "source": [
    "def contar_vocales(botella):\n",
    "    total = 0\n",
    "    vocales = [\"a\", \"e\", \"i\", \"o\", \"u\" ]\n",
    "    for letra in botella:\n",
    "        if letra in vocales:\n",
    "            total += 1\n",
    "\n",
    "    return total\n",
    "\n",
    "contar_vocales(\"holiwii\")"
   ]
  },
  {
   "cell_type": "markdown",
   "id": "2199b71d-ec14-4498-84e4-d53ad47d6848",
   "metadata": {},
   "source": [
    "### EJERCICIO 2"
   ]
  },
  {
   "cell_type": "code",
   "execution_count": 8,
   "id": "cb2acd51-ede7-4cab-b01f-ec14069fc6b0",
   "metadata": {},
   "outputs": [],
   "source": [
    "def par_o_impar(numero):\n",
    "    if numero % 2 == 0:\n",
    "        print(\"El número es par\")\n",
    "    else:\n",
    "        print(\"El número es impar\") "
   ]
  },
  {
   "cell_type": "code",
   "execution_count": 10,
   "id": "5b32d1b9-99fb-479e-9776-0e4635f0bd4b",
   "metadata": {},
   "outputs": [
    {
     "name": "stdout",
     "output_type": "stream",
     "text": [
      "El número es impar\n"
     ]
    }
   ],
   "source": [
    "par_o_impar(7)"
   ]
  },
  {
   "cell_type": "markdown",
   "id": "51474569-b32c-42ed-b2b3-0c58cbf3d0f8",
   "metadata": {},
   "source": [
    "### EJERCICIO 3"
   ]
  },
  {
   "cell_type": "code",
   "execution_count": 11,
   "id": "54828f13-838c-458e-867d-3ce37e7f47de",
   "metadata": {},
   "outputs": [],
   "source": [
    "def celsius_a_fahrenheit(celsius):\n",
    "    fahrenheit = (celsius * 9/5) + 32\n",
    "    return fahrenheit"
   ]
  },
  {
   "cell_type": "code",
   "execution_count": 12,
   "id": "8a1b9f66-ecc8-4eca-9b96-5a26b6cfaceb",
   "metadata": {},
   "outputs": [
    {
     "name": "stdout",
     "output_type": "stream",
     "text": [
      "77.0\n"
     ]
    }
   ],
   "source": [
    "print(celsius_a_fahrenheit(25))"
   ]
  },
  {
   "cell_type": "markdown",
   "id": "af011b04-389d-420a-87cf-6b57a9661195",
   "metadata": {},
   "source": [
    "### EJERCICIO 4"
   ]
  },
  {
   "cell_type": "code",
   "execution_count": 33,
   "id": "759bbfb2-0d0e-4833-91bf-5c3808547d21",
   "metadata": {},
   "outputs": [
    {
     "data": {
      "text/plain": [
       "3"
      ]
     },
     "execution_count": 33,
     "metadata": {},
     "output_type": "execute_result"
    }
   ],
   "source": [
    "def suma(numero):\n",
    "    str_n = str(numero)\n",
    "    total = 0\n",
    "    for digito in str_n: # aquí ya dividimos el entero\n",
    "        total += int(digito) # aquí lo sumamos y transformamos a entero de regreso\n",
    "\n",
    "    return total\n",
    "    \n",
    "suma(111)    "
   ]
  },
  {
   "cell_type": "markdown",
   "id": "83ff8e8c-53e4-4b2b-9c9c-ce12920ff1e0",
   "metadata": {},
   "source": [
    "### EJERCICIO 5"
   ]
  },
  {
   "cell_type": "code",
   "execution_count": 13,
   "id": "f5270534-600b-41a1-a59b-cf47e3c8b21d",
   "metadata": {},
   "outputs": [],
   "source": [
    "def contar_palabras(fresita):\n",
    "    palabras = fresita.split()\n",
    "    return len(palabras)"
   ]
  },
  {
   "cell_type": "code",
   "execution_count": 14,
   "id": "c6b6701e-5cb9-44ab-bf22-1f99deff8de3",
   "metadata": {},
   "outputs": [
    {
     "name": "stdout",
     "output_type": "stream",
     "text": [
      "5\n"
     ]
    }
   ],
   "source": [
    "print(contar_palabras(\"Hola soy estudiante de Python\"))"
   ]
  },
  {
   "cell_type": "markdown",
   "id": "a4b6ed7c-5538-4b38-96b6-e8bb81411fd3",
   "metadata": {},
   "source": [
    "### EJERCICIO 6"
   ]
  },
  {
   "cell_type": "code",
   "execution_count": 15,
   "id": "f1be683c-f8ae-48dc-a542-4ff3cf95a6cd",
   "metadata": {},
   "outputs": [],
   "source": [
    "def minimo_lista(lista):\n",
    "    return min(lista)  "
   ]
  },
  {
   "cell_type": "code",
   "execution_count": 16,
   "id": "66d32258-ad7f-4195-a5cb-7a932e7807b7",
   "metadata": {},
   "outputs": [
    {
     "name": "stdout",
     "output_type": "stream",
     "text": [
      "-2\n"
     ]
    }
   ],
   "source": [
    "print(minimo_lista([10, 3, 45, -2, 7]))"
   ]
  },
  {
   "cell_type": "markdown",
   "id": "08ca4b23-c98c-4698-9089-b2ea0ec5e733",
   "metadata": {},
   "source": [
    "### EJERCICIO 7"
   ]
  },
  {
   "cell_type": "code",
   "execution_count": 17,
   "id": "90da4b9c-9df2-4360-bd0b-e0d61a626507",
   "metadata": {},
   "outputs": [],
   "source": [
    "def contar_letra(frase, letra):\n",
    "    contador = 0\n",
    "    for caracter in frase:\n",
    "        if caracter == letra:\n",
    "            contador += 1\n",
    "    return contador"
   ]
  },
  {
   "cell_type": "code",
   "execution_count": 18,
   "id": "845c8b5e-5f0c-4406-ba41-54b821fb97c4",
   "metadata": {},
   "outputs": [
    {
     "name": "stdout",
     "output_type": "stream",
     "text": [
      "3\n"
     ]
    }
   ],
   "source": [
    "print(contar_letra(\"programacion en python\", \"o\"))"
   ]
  },
  {
   "cell_type": "markdown",
   "id": "daf91d36-71fb-4c61-9178-c8caea74c6db",
   "metadata": {},
   "source": [
    "### EJERCICIO 8"
   ]
  },
  {
   "cell_type": "code",
   "execution_count": 4,
   "id": "ef1a6e61-5185-4e9f-bca8-be212a81143f",
   "metadata": {},
   "outputs": [
    {
     "name": "stdin",
     "output_type": "stream",
     "text": [
      "Escribe una frase:  HOLA HOLA\n"
     ]
    },
    {
     "data": {
      "text/plain": [
       "'hola hola'"
      ]
     },
     "execution_count": 4,
     "metadata": {},
     "output_type": "execute_result"
    }
   ],
   "source": [
    "def min_a_MAY():\n",
    "    frase = input(\"Escribe una frase: \")\n",
    "    resultado = \"\"\n",
    "    for letra in frase:\n",
    "        if letra == letra.upper():\n",
    "            resultado += letra.lower()\n",
    "        else:\n",
    "            resultado += letra.upper()\n",
    "    return resultado\n",
    "\n",
    "min_a_MAY()"
   ]
  },
  {
   "cell_type": "markdown",
   "id": "6ed808a6-5480-48fc-8369-67cf9734ca3c",
   "metadata": {},
   "source": [
    "### EJERCICIO 9"
   ]
  },
  {
   "cell_type": "code",
   "execution_count": 14,
   "id": "85a41270-9b03-4ce0-a71a-d734aa94c0ee",
   "metadata": {},
   "outputs": [
    {
     "name": "stdin",
     "output_type": "stream",
     "text": [
      "Escribe una frase:  aaaaa bbbb cccc\n"
     ]
    },
    {
     "data": {
      "text/plain": [
       "'aaaaabbbbcccc'"
      ]
     },
     "execution_count": 14,
     "metadata": {},
     "output_type": "execute_result"
    }
   ],
   "source": [
    "def sin_espacios():\n",
    "    frase = input(\"Escribe una frase: \")\n",
    "    return \"\".join(frase.split())\n",
    "\n",
    "sin_espacios()"
   ]
  },
  {
   "cell_type": "code",
   "execution_count": 5,
   "id": "1c015a71-5a31-4e19-9176-3624067dd7a7",
   "metadata": {},
   "outputs": [
    {
     "data": {
      "text/plain": [
       "True"
      ]
     },
     "execution_count": 5,
     "metadata": {},
     "output_type": "execute_result"
    }
   ],
   "source": [
    "isinstance(5, int) # para verificar el tipo de la variable, nos regresa True o False."
   ]
  }
 ],
 "metadata": {
  "kernelspec": {
   "display_name": "Python 3 (ipykernel)",
   "language": "python",
   "name": "python3"
  },
  "language_info": {
   "codemirror_mode": {
    "name": "ipython",
    "version": 3
   },
   "file_extension": ".py",
   "mimetype": "text/x-python",
   "name": "python",
   "nbconvert_exporter": "python",
   "pygments_lexer": "ipython3",
   "version": "3.10.4"
  }
 },
 "nbformat": 4,
 "nbformat_minor": 5
}
