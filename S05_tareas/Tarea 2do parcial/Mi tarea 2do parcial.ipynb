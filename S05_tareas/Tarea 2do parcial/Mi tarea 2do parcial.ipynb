{
 "cells": [
  {
   "cell_type": "code",
   "execution_count": null,
   "id": "285a9121-c9df-448f-8fe8-7097c392692f",
   "metadata": {},
   "outputs": [],
   "source": [
    "#Mercedes Arantza Juárez Cerecedo"
   ]
  },
  {
   "cell_type": "code",
   "execution_count": 1,
   "id": "43065853-95f2-414b-b7c5-54fe2280f4ee",
   "metadata": {},
   "outputs": [],
   "source": [
    "import pandas as pd\n",
    "import numpy as np"
   ]
  },
  {
   "cell_type": "code",
   "execution_count": null,
   "id": "51b70ba4-a320-4363-ae25-dc7697600790",
   "metadata": {},
   "outputs": [],
   "source": [
    "def ex1_concat_same_structure():\n",
    "    \"\"\"Ejercicio 1:\n",
    "    Crea dos DataFrame que compartan la misma estructura de columnas (por ejemplo,\n",
    "    'Nombre' y 'Edad'), con al menos 3 filas cada uno. Concaténalos verticalmente\n",
    "    en un único DataFrame. Retorna el DataFrame resultante.\n",
    "    \"\"\"\n",
    "    pass"
   ]
  },
  {
   "cell_type": "code",
   "execution_count": 17,
   "id": "ec9d42b8-20d3-49d5-a3dd-c073c7ec441d",
   "metadata": {},
   "outputs": [],
   "source": [
    "def ex1_concat_same_structure():\n",
    "    df1 =pd.DataFrame({'Nombre':['Pao',' Pau', 'Soff'],\n",
    "                      'Edad':[21,20,23]\n",
    "        })\n",
    "    df2 = pd.DataFrame({'Nombre':['Maff','Maquita','Anita'],\n",
    "                       'Edad': [19,21,22]\n",
    "        })\n",
    "    df_final = pd.concat([df1, df2], ignore_index= True)\n",
    "    return df_final\n",
    "    "
   ]
  },
  {
   "cell_type": "code",
   "execution_count": 18,
   "id": "98338e82-abf7-4c23-b09b-cd4822d7c1d1",
   "metadata": {},
   "outputs": [
    {
     "data": {
      "text/html": [
       "<div>\n",
       "<style scoped>\n",
       "    .dataframe tbody tr th:only-of-type {\n",
       "        vertical-align: middle;\n",
       "    }\n",
       "\n",
       "    .dataframe tbody tr th {\n",
       "        vertical-align: top;\n",
       "    }\n",
       "\n",
       "    .dataframe thead th {\n",
       "        text-align: right;\n",
       "    }\n",
       "</style>\n",
       "<table border=\"1\" class=\"dataframe\">\n",
       "  <thead>\n",
       "    <tr style=\"text-align: right;\">\n",
       "      <th></th>\n",
       "      <th>Nombre</th>\n",
       "      <th>Edad</th>\n",
       "    </tr>\n",
       "  </thead>\n",
       "  <tbody>\n",
       "    <tr>\n",
       "      <th>0</th>\n",
       "      <td>Pao</td>\n",
       "      <td>21</td>\n",
       "    </tr>\n",
       "    <tr>\n",
       "      <th>1</th>\n",
       "      <td>Pau</td>\n",
       "      <td>20</td>\n",
       "    </tr>\n",
       "    <tr>\n",
       "      <th>2</th>\n",
       "      <td>Soff</td>\n",
       "      <td>23</td>\n",
       "    </tr>\n",
       "    <tr>\n",
       "      <th>3</th>\n",
       "      <td>Maff</td>\n",
       "      <td>19</td>\n",
       "    </tr>\n",
       "    <tr>\n",
       "      <th>4</th>\n",
       "      <td>Maquita</td>\n",
       "      <td>21</td>\n",
       "    </tr>\n",
       "    <tr>\n",
       "      <th>5</th>\n",
       "      <td>Anita</td>\n",
       "      <td>22</td>\n",
       "    </tr>\n",
       "  </tbody>\n",
       "</table>\n",
       "</div>"
      ],
      "text/plain": [
       "    Nombre  Edad\n",
       "0      Pao    21\n",
       "1      Pau    20\n",
       "2     Soff    23\n",
       "3     Maff    19\n",
       "4  Maquita    21\n",
       "5    Anita    22"
      ]
     },
     "execution_count": 18,
     "metadata": {},
     "output_type": "execute_result"
    }
   ],
   "source": [
    "ex1_concat_same_structure()"
   ]
  },
  {
   "cell_type": "code",
   "execution_count": null,
   "id": "dcf02066-a15f-48bc-b4f3-d1f39d314dc1",
   "metadata": {},
   "outputs": [],
   "source": [
    "def ex2_concat_with_month_column():\n",
    "    \"\"\"Ejercicio 2:\n",
    "    Tienes un DataFrame con ventas de enero y otro con ventas de febrero (mismas columnas).\n",
    "    Concaténalos en un solo DataFrame y añade una columna que indique el mes original\n",
    "    de cada fila (por ejemplo: 'Enero' o 'Febrero'). Retorna el DataFrame resultante.\n",
    "    \"\"\"\n",
    "    pass"
   ]
  },
  {
   "cell_type": "code",
   "execution_count": 41,
   "id": "3f04f308-5206-44c3-92be-c0d3ad0e6961",
   "metadata": {},
   "outputs": [],
   "source": [
    "def ex2_concat_with_month_column():\n",
    "     df_enero = pd.DataFrame({'Venta':[80,140, 92],'Mes':['Enero']*3})\n",
    "     df_febrero = pd.DataFrame({'Venta':[45,154,56],'Mes':['Febrero']*3})\n",
    "     df_final = pd.concat([df_enero, df_febrero], ignore_index= True)\n",
    "     return df_final"
   ]
  },
  {
   "cell_type": "code",
   "execution_count": 42,
   "id": "16a82486-0d33-4df7-a984-fb0f66697fc4",
   "metadata": {},
   "outputs": [
    {
     "data": {
      "text/html": [
       "<div>\n",
       "<style scoped>\n",
       "    .dataframe tbody tr th:only-of-type {\n",
       "        vertical-align: middle;\n",
       "    }\n",
       "\n",
       "    .dataframe tbody tr th {\n",
       "        vertical-align: top;\n",
       "    }\n",
       "\n",
       "    .dataframe thead th {\n",
       "        text-align: right;\n",
       "    }\n",
       "</style>\n",
       "<table border=\"1\" class=\"dataframe\">\n",
       "  <thead>\n",
       "    <tr style=\"text-align: right;\">\n",
       "      <th></th>\n",
       "      <th>Venta</th>\n",
       "      <th>Mes</th>\n",
       "    </tr>\n",
       "  </thead>\n",
       "  <tbody>\n",
       "    <tr>\n",
       "      <th>0</th>\n",
       "      <td>80</td>\n",
       "      <td>Enero</td>\n",
       "    </tr>\n",
       "    <tr>\n",
       "      <th>1</th>\n",
       "      <td>140</td>\n",
       "      <td>Enero</td>\n",
       "    </tr>\n",
       "    <tr>\n",
       "      <th>2</th>\n",
       "      <td>92</td>\n",
       "      <td>Enero</td>\n",
       "    </tr>\n",
       "    <tr>\n",
       "      <th>3</th>\n",
       "      <td>45</td>\n",
       "      <td>Febrero</td>\n",
       "    </tr>\n",
       "    <tr>\n",
       "      <th>4</th>\n",
       "      <td>154</td>\n",
       "      <td>Febrero</td>\n",
       "    </tr>\n",
       "    <tr>\n",
       "      <th>5</th>\n",
       "      <td>56</td>\n",
       "      <td>Febrero</td>\n",
       "    </tr>\n",
       "  </tbody>\n",
       "</table>\n",
       "</div>"
      ],
      "text/plain": [
       "   Venta      Mes\n",
       "0     80    Enero\n",
       "1    140    Enero\n",
       "2     92    Enero\n",
       "3     45  Febrero\n",
       "4    154  Febrero\n",
       "5     56  Febrero"
      ]
     },
     "execution_count": 42,
     "metadata": {},
     "output_type": "execute_result"
    }
   ],
   "source": [
    "ex2_concat_with_month_column()"
   ]
  },
  {
   "cell_type": "code",
   "execution_count": null,
   "id": "88ad7b25-3112-4585-bb24-d6f501de6eab",
   "metadata": {},
   "outputs": [],
   "source": [
    "def ex3_concat_diff_columns_fillna():\n",
    "    \"\"\"Ejercicio 3:\n",
    "    Crea dos DataFrame que no tengan exactamente las mismas columnas (ej.: uno tiene\n",
    "    'Producto' y 'Ventas', el otro 'Producto' y 'Descuento'). Concaténalos y asegura\n",
    "    que los valores faltantes queden rellenados con 0. Retorna el DataFrame resultante.\n",
    "    \"\"\"\n",
    "    pass"
   ]
  },
  {
   "cell_type": "code",
   "execution_count": 49,
   "id": "dd14fc05-fc79-4f5c-b9af-4da7109ed64b",
   "metadata": {},
   "outputs": [],
   "source": [
    "def ex3_concat_diff_columns_fillna():\n",
    "     df_ventas =pd.DataFrame({'Producto':['Estufa','Lavadora'],\n",
    "                      'Ventas':[136,66,]\n",
    "        })\n",
    "     df_descuento = pd.DataFrame({'Producto':['Impresora', 'Licuadora','Televisión'],\n",
    "                       'Descuento': [25,15,10 ]\n",
    "        })\n",
    "     df_final = pd.concat([df_ventas, df_descuento], ignore_index= True)\n",
    "\n",
    "     df_final=df_final.fillna(0)\n",
    "     return df_final\n",
    "    "
   ]
  },
  {
   "cell_type": "code",
   "execution_count": 50,
   "id": "e3a74799-ea87-4a23-9786-1393ac985ed6",
   "metadata": {},
   "outputs": [
    {
     "data": {
      "text/html": [
       "<div>\n",
       "<style scoped>\n",
       "    .dataframe tbody tr th:only-of-type {\n",
       "        vertical-align: middle;\n",
       "    }\n",
       "\n",
       "    .dataframe tbody tr th {\n",
       "        vertical-align: top;\n",
       "    }\n",
       "\n",
       "    .dataframe thead th {\n",
       "        text-align: right;\n",
       "    }\n",
       "</style>\n",
       "<table border=\"1\" class=\"dataframe\">\n",
       "  <thead>\n",
       "    <tr style=\"text-align: right;\">\n",
       "      <th></th>\n",
       "      <th>Producto</th>\n",
       "      <th>Ventas</th>\n",
       "      <th>Descuento</th>\n",
       "    </tr>\n",
       "  </thead>\n",
       "  <tbody>\n",
       "    <tr>\n",
       "      <th>0</th>\n",
       "      <td>Estufa</td>\n",
       "      <td>136.0</td>\n",
       "      <td>0.0</td>\n",
       "    </tr>\n",
       "    <tr>\n",
       "      <th>1</th>\n",
       "      <td>Lavadora</td>\n",
       "      <td>66.0</td>\n",
       "      <td>0.0</td>\n",
       "    </tr>\n",
       "    <tr>\n",
       "      <th>2</th>\n",
       "      <td>Impresora</td>\n",
       "      <td>0.0</td>\n",
       "      <td>25.0</td>\n",
       "    </tr>\n",
       "    <tr>\n",
       "      <th>3</th>\n",
       "      <td>Licuadora</td>\n",
       "      <td>0.0</td>\n",
       "      <td>15.0</td>\n",
       "    </tr>\n",
       "    <tr>\n",
       "      <th>4</th>\n",
       "      <td>Televisión</td>\n",
       "      <td>0.0</td>\n",
       "      <td>10.0</td>\n",
       "    </tr>\n",
       "  </tbody>\n",
       "</table>\n",
       "</div>"
      ],
      "text/plain": [
       "     Producto  Ventas  Descuento\n",
       "0      Estufa   136.0        0.0\n",
       "1    Lavadora    66.0        0.0\n",
       "2   Impresora     0.0       25.0\n",
       "3   Licuadora     0.0       15.0\n",
       "4  Televisión     0.0       10.0"
      ]
     },
     "execution_count": 50,
     "metadata": {},
     "output_type": "execute_result"
    }
   ],
   "source": [
    "ex3_concat_diff_columns_fillna()"
   ]
  },
  {
   "cell_type": "code",
   "execution_count": 51,
   "id": "77f3685a-cc80-47c8-8f2a-60dca53173de",
   "metadata": {},
   "outputs": [],
   "source": [
    "def ex4_concat_three_groups():\n",
    "    \"\"\"Ejercicio 4:\n",
    "    Genera tres DataFrame pequeños (cada uno con, por ejemplo, 3 filas) que representen\n",
    "    notas de distintos grupos de alumnos. Concaténalos verticalmente en un solo DataFrame\n",
    "    que contenga todas las notas. Retorna el DataFrame resultante.\n",
    "    \"\"\"\n",
    "    pass"
   ]
  },
  {
   "cell_type": "code",
   "execution_count": 63,
   "id": "7ed11f59-a7c2-413a-bc4d-48c2fb46478a",
   "metadata": {},
   "outputs": [],
   "source": [
    "def ex4_concat_three_groups():\n",
    "     df_grupo1 =pd.DataFrame({'Alumno':['Pao','Pau', 'Maff'],\n",
    "                      'Ingles':[5,5.5,6],\n",
    "                      'Matematicas':[8,7.2,7]\n",
    "        })\n",
    "     df_grupo2 = pd.DataFrame({'Alumno':['Ana','James', 'Harry'],\n",
    "                      'Ingles':[9.5,10,10],\n",
    "                      'Matematicas':[6,8,7.6]\n",
    "        })\n",
    "     df_grupo3 =pd.DataFrame({'Alumno':['Max','Carlos', 'Soff'],\n",
    "                      'Ingles':[10,5,7.9],\n",
    "                      'Matematicas':[10,5.8,8]\n",
    "        })\n",
    "     df_final = pd.concat([df_grupo1, df_grupo2,df_grupo3], ignore_index= True)\n",
    "     return df_final\n",
    "    "
   ]
  },
  {
   "cell_type": "code",
   "execution_count": 64,
   "id": "b7a0f6a1-3c87-4065-bcd6-2348f065054e",
   "metadata": {},
   "outputs": [
    {
     "data": {
      "text/html": [
       "<div>\n",
       "<style scoped>\n",
       "    .dataframe tbody tr th:only-of-type {\n",
       "        vertical-align: middle;\n",
       "    }\n",
       "\n",
       "    .dataframe tbody tr th {\n",
       "        vertical-align: top;\n",
       "    }\n",
       "\n",
       "    .dataframe thead th {\n",
       "        text-align: right;\n",
       "    }\n",
       "</style>\n",
       "<table border=\"1\" class=\"dataframe\">\n",
       "  <thead>\n",
       "    <tr style=\"text-align: right;\">\n",
       "      <th></th>\n",
       "      <th>Alumno</th>\n",
       "      <th>Ingles</th>\n",
       "      <th>Matematicas</th>\n",
       "    </tr>\n",
       "  </thead>\n",
       "  <tbody>\n",
       "    <tr>\n",
       "      <th>0</th>\n",
       "      <td>Pao</td>\n",
       "      <td>5.0</td>\n",
       "      <td>8.0</td>\n",
       "    </tr>\n",
       "    <tr>\n",
       "      <th>1</th>\n",
       "      <td>Pau</td>\n",
       "      <td>5.5</td>\n",
       "      <td>7.2</td>\n",
       "    </tr>\n",
       "    <tr>\n",
       "      <th>2</th>\n",
       "      <td>Maff</td>\n",
       "      <td>6.0</td>\n",
       "      <td>7.0</td>\n",
       "    </tr>\n",
       "    <tr>\n",
       "      <th>3</th>\n",
       "      <td>Ana</td>\n",
       "      <td>9.5</td>\n",
       "      <td>6.0</td>\n",
       "    </tr>\n",
       "    <tr>\n",
       "      <th>4</th>\n",
       "      <td>James</td>\n",
       "      <td>10.0</td>\n",
       "      <td>8.0</td>\n",
       "    </tr>\n",
       "    <tr>\n",
       "      <th>5</th>\n",
       "      <td>Harry</td>\n",
       "      <td>10.0</td>\n",
       "      <td>7.6</td>\n",
       "    </tr>\n",
       "    <tr>\n",
       "      <th>6</th>\n",
       "      <td>Max</td>\n",
       "      <td>10.0</td>\n",
       "      <td>10.0</td>\n",
       "    </tr>\n",
       "    <tr>\n",
       "      <th>7</th>\n",
       "      <td>Carlos</td>\n",
       "      <td>5.0</td>\n",
       "      <td>5.8</td>\n",
       "    </tr>\n",
       "    <tr>\n",
       "      <th>8</th>\n",
       "      <td>Soff</td>\n",
       "      <td>7.9</td>\n",
       "      <td>8.0</td>\n",
       "    </tr>\n",
       "  </tbody>\n",
       "</table>\n",
       "</div>"
      ],
      "text/plain": [
       "   Alumno  Ingles  Matematicas\n",
       "0     Pao     5.0          8.0\n",
       "1     Pau     5.5          7.2\n",
       "2    Maff     6.0          7.0\n",
       "3     Ana     9.5          6.0\n",
       "4   James    10.0          8.0\n",
       "5   Harry    10.0          7.6\n",
       "6     Max    10.0         10.0\n",
       "7  Carlos     5.0          5.8\n",
       "8    Soff     7.9          8.0"
      ]
     },
     "execution_count": 64,
     "metadata": {},
     "output_type": "execute_result"
    }
   ],
   "source": [
    "ex4_concat_three_groups()"
   ]
  },
  {
   "cell_type": "code",
   "execution_count": null,
   "id": "dba27874-c3d2-4ef3-8c52-71d75d1f4ed1",
   "metadata": {},
   "outputs": [],
   "source": [
    "def ex5_remove_duplicates_preserve_order(lst):\n",
    "    \"\"\"Ejercicio 5:\n",
    "    Dada una lista de enteros (o strings) que puede contener duplicados, devuelve una\n",
    "    nueva lista sin duplicados preservando el orden original. No uses directamente set()\n",
    "    para eliminar duplicados (escribe la lógica que preserve el orden). Retorna la nueva \n",
    "    lista sin duplicados.\n",
    "    \"\"\"\n",
    "    pass"
   ]
  },
  {
   "cell_type": "code",
   "execution_count": 70,
   "id": "300c02d1-4020-4974-98aa-979dd148b41d",
   "metadata": {},
   "outputs": [],
   "source": [
    "def ex5_remove_duplicates_preserve_order(lst):\n",
    "    resultado=[]\n",
    "    for item in lst:\n",
    "     if item not in resultado:\n",
    "        resultado.append(item)\n",
    "    return resultado"
   ]
  },
  {
   "cell_type": "code",
   "execution_count": 72,
   "id": "92d5b142-56f8-4c30-b3bf-02011d5eb5f7",
   "metadata": {},
   "outputs": [
    {
     "data": {
      "text/plain": [
       "[1, 2, 3, 4, 5]"
      ]
     },
     "execution_count": 72,
     "metadata": {},
     "output_type": "execute_result"
    }
   ],
   "source": [
    "lst=(1,2,3,4,5,2,3,4)\n",
    "ex5_remove_duplicates_preserve_order(lst)"
   ]
  },
  {
   "cell_type": "code",
   "execution_count": null,
   "id": "f4725bab-ebd7-4ded-805b-c86e2a9fdbd3",
   "metadata": {},
   "outputs": [],
   "source": [
    "def ex6_sort_tuples_by_second_element(tuples_list):\n",
    "    \"\"\"Ejercicio 6:\n",
    "    Dada una lista de tuplas, por ejemplo [(\"a\", 3), (\"b\", 1), (\"c\", 2)], ordénala\n",
    "    por el segundo elemento de cada tupla y devuelve la lista ordenada. Usa una función\n",
    "    anónima si lo deseas. Retorna la lista ordenada.\n",
    "    \"\"\"\n",
    "    pass"
   ]
  },
  {
   "cell_type": "code",
   "execution_count": 75,
   "id": "85a3e766-4174-4d80-8490-dbf7617f53b4",
   "metadata": {},
   "outputs": [],
   "source": [
    "def ex6_sort_tuples_by_second_element(tuples_list):\n",
    "    lista_ordenada = sorted (tuples_list, key=lambda x:x[1])\n",
    "    return lista_ordenada"
   ]
  },
  {
   "cell_type": "code",
   "execution_count": 79,
   "id": "2f4aa491-2e0f-46d0-931e-6fb3a8166d0e",
   "metadata": {},
   "outputs": [
    {
     "data": {
      "text/plain": [
       "[('b', 1), ('c', 2), ('a', 3)]"
      ]
     },
     "execution_count": 79,
     "metadata": {},
     "output_type": "execute_result"
    }
   ],
   "source": [
    "tuples_list=([(\"a\", 3), (\"b\", 1), (\"c\", 2)])\n",
    "ex6_sort_tuples_by_second_element(tuples_list)"
   ]
  },
  {
   "cell_type": "code",
   "execution_count": null,
   "id": "0b3f8285-4dc0-458b-91a6-accb83e67d61",
   "metadata": {},
   "outputs": [],
   "source": [
    "def ex7_first_n_multiples_of_7(n):\n",
    "    \"\"\"Ejercicio 7:\n",
    "    Devuelve una lista con los primeros n múltiplos de 7 (por ejemplo, n=5 -> [7,14,21,28,35]).\n",
    "    Retorna la lista generada.\n",
    "    \"\"\"\n",
    "    pass"
   ]
  },
  {
   "cell_type": "code",
   "execution_count": 86,
   "id": "716d1430-146b-4781-bad0-52eff0c3c785",
   "metadata": {},
   "outputs": [],
   "source": [
    "def ex7_first_n_multiples_of_7(n):\n",
    "    multiplos=[]\n",
    "    for i in range (1,n+1):\n",
    "        multiplos.append(7*i)\n",
    "    return multiplos"
   ]
  },
  {
   "cell_type": "code",
   "execution_count": 90,
   "id": "7e0bf654-3548-4586-949c-2aaed6514499",
   "metadata": {},
   "outputs": [
    {
     "data": {
      "text/plain": [
       "[7, 14, 21, 28, 35]"
      ]
     },
     "execution_count": 90,
     "metadata": {},
     "output_type": "execute_result"
    }
   ],
   "source": [
    "ex7_first_n_multiples_of_7(5)"
   ]
  },
  {
   "cell_type": "code",
   "execution_count": null,
   "id": "4dacc192-805e-4bb4-8d63-835dfedbd4c6",
   "metadata": {},
   "outputs": [],
   "source": [
    "def ex8_filter_palindromes(strings):\n",
    "    \"\"\"Ejercicio 8:\n",
    "    Dada una lista de cadenas, devuelve sólo aquellas que son palíndromos (se leen igual\n",
    "    al derecho y al revés). Retorna una lista con los palíndromos encontrados.\n",
    "    \"\"\"\n",
    "    pass"
   ]
  },
  {
   "cell_type": "code",
   "execution_count": 91,
   "id": "eef76883-8cdc-47b8-b913-0ad9a4dc0d1e",
   "metadata": {},
   "outputs": [],
   "source": [
    "def ex8_filter_palindromes(strings):\n",
    "    palindromos=[]\n",
    "    for s in strings:\n",
    "        if s == s[::-1]:\n",
    "            palindromos.append(s)\n",
    "    return palindromos"
   ]
  },
  {
   "cell_type": "code",
   "execution_count": 93,
   "id": "c72bed10-4e79-4172-975f-55600c1380a7",
   "metadata": {},
   "outputs": [
    {
     "data": {
      "text/plain": [
       "['reconocer', 'ana', 'oso']"
      ]
     },
     "execution_count": 93,
     "metadata": {},
     "output_type": "execute_result"
    }
   ],
   "source": [
    "strings=[\"reconocer\", \"lobo\", \"ana\", \"oso\",\"vestido\"]\n",
    "ex8_filter_palindromes(strings)"
   ]
  },
  {
   "cell_type": "code",
   "execution_count": null,
   "id": "e374142b-e065-4d60-a6ad-2d2b2059792e",
   "metadata": {},
   "outputs": [],
   "source": [
    "def ex9_set_intersection_and_difference(set_a, set_b):\n",
    "    \"\"\"Ejercicio 9:\n",
    "    Dado dos conjuntos, devuelve su intersección y la diferencia (elementos de A que no\n",
    "    están en B). Retorna una tupla (intersección, diferencia).\n",
    "    \"\"\"\n",
    "    pass"
   ]
  },
  {
   "cell_type": "code",
   "execution_count": 98,
   "id": "d58f61a3-0c25-4515-95b4-463b320d1589",
   "metadata": {},
   "outputs": [],
   "source": [
    "def ex9_set_intersection_and_difference(set_a, set_b):\n",
    "    interseccion = set_a & set_b\n",
    "    diferencia = set_a - set_b\n",
    "    return (interseccion, diferencia)\n",
    "    "
   ]
  },
  {
   "cell_type": "code",
   "execution_count": 102,
   "id": "c6068e0e-0e54-46ff-97fa-acb8f1d11191",
   "metadata": {},
   "outputs": [
    {
     "data": {
      "text/plain": [
       "({2, 4}, {1, 3})"
      ]
     },
     "execution_count": 102,
     "metadata": {},
     "output_type": "execute_result"
    }
   ],
   "source": [
    "set_a={1,2,3,4}\n",
    "set_b={2,7,4,9}\n",
    "ex9_set_intersection_and_difference(set_a, set_b)"
   ]
  },
  {
   "cell_type": "code",
   "execution_count": null,
   "id": "2b9322ed-270d-4b95-b333-c8cea9bea2a5",
   "metadata": {},
   "outputs": [],
   "source": [
    "def ex10_is_subset(set_a, set_b):\n",
    "    \"\"\"Ejercicio 10:\n",
    "    Verifica si set_a es subconjunto de set_b. Devuelve True o False.\n",
    "    \"\"\"\n",
    "    pass"
   ]
  },
  {
   "cell_type": "code",
   "execution_count": 103,
   "id": "7f437256-a421-4920-9abd-65a13a118c09",
   "metadata": {},
   "outputs": [],
   "source": [
    "def ex10_is_subset(set_a, set_b):\n",
    "    return set_a.issubset(set_b)"
   ]
  },
  {
   "cell_type": "code",
   "execution_count": 105,
   "id": "7be33eee-50ee-4544-ae06-b778f576bb9c",
   "metadata": {},
   "outputs": [
    {
     "data": {
      "text/plain": [
       "False"
      ]
     },
     "execution_count": 105,
     "metadata": {},
     "output_type": "execute_result"
    }
   ],
   "source": [
    "ex10_is_subset(set_a, set_b)"
   ]
  },
  {
   "cell_type": "code",
   "execution_count": null,
   "id": "f60dfd41-a56f-478b-a8fd-eb001613b32b",
   "metadata": {},
   "outputs": [],
   "source": [
    "def ex11_count_unique_elements(lst):\n",
    "    \"\"\"Ejercicio 11:\n",
    "    Dada una lista, cuenta cuántos elementos únicos contiene (usa set para obtener el conteo).\n",
    "    Retorna el número de elementos únicos.\n",
    "    \"\"\"\n",
    "    pass"
   ]
  },
  {
   "cell_type": "code",
   "execution_count": 106,
   "id": "f4da0ca5-bdd2-4d7f-a7ff-eee8e4602408",
   "metadata": {},
   "outputs": [],
   "source": [
    "def ex11_count_unique_elements(lst):\n",
    "    elementos_unicos= set(lst)\n",
    "    return len(elementos_unicos)"
   ]
  },
  {
   "cell_type": "code",
   "execution_count": 107,
   "id": "42ccd040-49e8-4dcc-bee5-ee7f41f8f45c",
   "metadata": {},
   "outputs": [
    {
     "data": {
      "text/plain": [
       "4"
      ]
     },
     "execution_count": 107,
     "metadata": {},
     "output_type": "execute_result"
    }
   ],
   "source": [
    "lst=[1,2,3,4,3,2,2,3]\n",
    "ex11_count_unique_elements(lst)"
   ]
  },
  {
   "cell_type": "code",
   "execution_count": null,
   "id": "65784ff4-ac05-4cfe-ab75-2574427d6c0c",
   "metadata": {},
   "outputs": [],
   "source": [
    "def ex12_unique_words_from_phrases(phrases):\n",
    "    \"\"\"Ejercicio 12:\n",
    "    Dada una lista de frases (strings), extrae y devuelve el conjunto de todas las palabras\n",
    "    únicas que aparecen en todas las frases. Retorna un conjunto con las palabras únicas.\n",
    "    \"\"\"\n",
    "    pass"
   ]
  },
  {
   "cell_type": "code",
   "execution_count": 116,
   "id": "9ee6d8ad-e196-4888-a812-68334a238054",
   "metadata": {},
   "outputs": [],
   "source": [
    "def ex12_unique_words_from_phrases(phrases):\n",
    "    palabras_unicas = set()\n",
    "    for frase in phrases:\n",
    "     palabras=frase.split()\n",
    "     palabras_unicas.update(palabras)\n",
    "    return palabras_unicas"
   ]
  },
  {
   "cell_type": "code",
   "execution_count": 117,
   "id": "5bd735cf-5a52-4eb0-affe-b1e1e133d3fa",
   "metadata": {},
   "outputs": [
    {
     "data": {
      "text/plain": [
       "{'hambre', 'no', 'sueño', 'tengo'}"
      ]
     },
     "execution_count": 117,
     "metadata": {},
     "output_type": "execute_result"
    }
   ],
   "source": [
    "phrases = [\"tengo hambre\", \"tengo sueño\", \"no sueño\"]\n",
    "ex12_unique_words_from_phrases(phrases)"
   ]
  },
  {
   "cell_type": "code",
   "execution_count": null,
   "id": "d6a7a116-3376-4d17-966f-7d1a0d6fd99b",
   "metadata": {},
   "outputs": [],
   "source": [
    "def ex13_oldest_person(tuple_list):\n",
    "    \"\"\"Ejercicio 13:\n",
    "    Recibe una lista de tuplas (nombre, edad). Devuelve la tupla de la persona con mayor edad.\n",
    "    \"\"\"\n",
    "    pass"
   ]
  },
  {
   "cell_type": "code",
   "execution_count": 121,
   "id": "d5049cdc-b427-4ea5-9855-ad35c31ead7f",
   "metadata": {},
   "outputs": [],
   "source": [
    "def ex13_oldest_person(tuple_list):\n",
    "   if not tuple_list:\n",
    "    return None \n",
    "   return max(tuple_list, key = lambda x:x[1])"
   ]
  },
  {
   "cell_type": "code",
   "execution_count": 123,
   "id": "8edcd216-6d4c-4b1c-835f-02225fb8d834",
   "metadata": {},
   "outputs": [
    {
     "data": {
      "text/plain": [
       "('Dylan', 34)"
      ]
     },
     "execution_count": 123,
     "metadata": {},
     "output_type": "execute_result"
    }
   ],
   "source": [
    "tuple_list = [(\"James\",25), (\"Harry\", 30), (\"Dylan\", 34)]\n",
    "ex13_oldest_person(tuple_list)"
   ]
  },
  {
   "cell_type": "code",
   "execution_count": null,
   "id": "23a9de57-d94b-4903-8686-5930c0723a82",
   "metadata": {},
   "outputs": [],
   "source": [
    "def ex14_convert_list_of_lists_to_tuples(list_of_lists):\n",
    "    \"\"\"Ejercicio 14:\n",
    "    Convierte una lista de listas en una lista de tuplas. Retorna la nueva lista de tuplas.\n",
    "    \"\"\"\n",
    "    pass"
   ]
  },
  {
   "cell_type": "code",
   "execution_count": 124,
   "id": "d67bdd18-cd2c-4b01-b4fa-a5cb39316dde",
   "metadata": {},
   "outputs": [],
   "source": [
    "def ex14_convert_list_of_lists_to_tuples(list_of_lists):\n",
    "    return [tuple(sublista) for sublista in list_of_lists]"
   ]
  },
  {
   "cell_type": "code",
   "execution_count": 125,
   "id": "25341982-6e0a-4cd7-8b36-426cec55bc8c",
   "metadata": {},
   "outputs": [
    {
     "data": {
      "text/plain": [
       "[(1, 2), (6, 7, 8), (9, 10)]"
      ]
     },
     "execution_count": 125,
     "metadata": {},
     "output_type": "execute_result"
    }
   ],
   "source": [
    "list_of_lists = [[ 1,2],[6,7,8],[9,10]]\n",
    "ex14_convert_list_of_lists_to_tuples(list_of_lists)"
   ]
  },
  {
   "cell_type": "code",
   "execution_count": null,
   "id": "e08344ac-011e-4d33-873d-bd8105380f63",
   "metadata": {},
   "outputs": [],
   "source": [
    "def ex15_sum_of_tuple_abc(t):\n",
    "    \"\"\"Ejercicio 15:\n",
    "    Recibe una tupla de tres números (a, b, c). Desempaquétala y devuelve la suma a+b+c. \n",
    "    Retorna un número entero o flotante.\n",
    "    \"\"\"\n",
    "    pass"
   ]
  },
  {
   "cell_type": "code",
   "execution_count": 127,
   "id": "1baad407-ff31-4b5a-a5b2-27d77005fb1c",
   "metadata": {},
   "outputs": [],
   "source": [
    "def ex15_sum_of_tuple_abc(t):\n",
    "    a,b,c = t\n",
    "    return a+b+c\n"
   ]
  },
  {
   "cell_type": "code",
   "execution_count": 131,
   "id": "8ff171ec-dd62-4f37-af5d-21c03f987c6a",
   "metadata": {},
   "outputs": [
    {
     "data": {
      "text/plain": [
       "6"
      ]
     },
     "execution_count": 131,
     "metadata": {},
     "output_type": "execute_result"
    }
   ],
   "source": [
    "t=[1,2,3]\n",
    "ex15_sum_of_tuple_abc(t)"
   ]
  },
  {
   "cell_type": "code",
   "execution_count": null,
   "id": "afaf9914-adcd-4b47-baaa-d40beacb7c88",
   "metadata": {},
   "outputs": [],
   "source": [
    "def ex16_sort_product_price(prod_price_list):\n",
    "    \"\"\"Ejercicio 16:\n",
    "    Dada una lista de tuplas (producto, precio), ordénala por precio de menor a mayor.\n",
    "    Retorna la lista ordenada.\n",
    "    \"\"\"\n",
    "    pass"
   ]
  },
  {
   "cell_type": "code",
   "execution_count": 132,
   "id": "b47ea1e7-b18b-41a7-b44a-8e7371c24904",
   "metadata": {},
   "outputs": [],
   "source": [
    "def ex16_sort_product_price(prod_price_list):\n",
    "    return sorted(prod_price_list, key = lambda x:x[1])"
   ]
  },
  {
   "cell_type": "code",
   "execution_count": 134,
   "id": "854a579d-814e-4f7f-8fae-9dc8c9bfad8e",
   "metadata": {},
   "outputs": [
    {
     "data": {
      "text/plain": [
       "[('Muñeca', 60), ('Juguete carro', 74), ('libro', 384)]"
      ]
     },
     "execution_count": 134,
     "metadata": {},
     "output_type": "execute_result"
    }
   ],
   "source": [
    "prod_price_list=[(\"libro\", 384),(\"Juguete carro\", 74),(\"Muñeca\",60)]\n",
    "ex16_sort_product_price(prod_price_list)"
   ]
  },
  {
   "cell_type": "code",
   "execution_count": null,
   "id": "56626006-0cad-42c5-9404-0f314d8db2ca",
   "metadata": {},
   "outputs": [],
   "source": [
    "def ex17_char_frequency(s):\n",
    "    \"\"\"Ejercicio 17:\n",
    "    Cuenta la frecuencia de cada carácter en una cadena usando un diccionario.\n",
    "    Retorna un diccionario {carácter: frecuencia}.\n",
    "    \"\"\"\n",
    "    pass"
   ]
  },
  {
   "cell_type": "code",
   "execution_count": 152,
   "id": "47efcfb4-2e62-42f6-8924-eefc331020c1",
   "metadata": {},
   "outputs": [],
   "source": [
    "def ex17_char_frequency(s):\n",
    "    frecuencia = {}\n",
    "    for char in s:\n",
    "        if char in frecuencia:\n",
    "            frecuencia[char] += 1\n",
    "        else:\n",
    "            frecuencia[char] = 1\n",
    "    return frecuencia\n"
   ]
  },
  {
   "cell_type": "code",
   "execution_count": 155,
   "id": "21e69c6f-3864-43d0-932d-118305ad306a",
   "metadata": {},
   "outputs": [
    {
     "data": {
      "text/plain": [
       "{'c': 3, 'u': 1, 'a': 3, 'r': 1, 'h': 1}"
      ]
     },
     "execution_count": 155,
     "metadata": {},
     "output_type": "execute_result"
    }
   ],
   "source": [
    "s=\"cucaracha\"\n",
    "ex17_char_frequency(s)"
   ]
  },
  {
   "cell_type": "code",
   "execution_count": null,
   "id": "04f246e1-9d89-49aa-8079-3bc8f0d91208",
   "metadata": {},
   "outputs": [],
   "source": [
    "def ex18_best_student(grades_dict):\n",
    "    \"\"\"Ejercicio 18:\n",
    "    Dado un diccionario {alumno: calificación}, devuelve al mejor estudiante.\n",
    "    Retorna una tupla (nombre, calificación).\n",
    "    \"\"\"\n",
    "    pass"
   ]
  },
  {
   "cell_type": "code",
   "execution_count": 166,
   "id": "8b3cd6d2-334e-41b6-9472-99138cd40c58",
   "metadata": {},
   "outputs": [],
   "source": [
    "def ex18_best_student(grades_dict):\n",
    "    mejor_nota= max(grades_dict.items(), key=lambda x:x[1])\n",
    "    return mejor_nota\n"
   ]
  },
  {
   "cell_type": "code",
   "execution_count": 167,
   "id": "1e0f2c9a-b491-417b-a047-1c119532c25a",
   "metadata": {},
   "outputs": [
    {
     "data": {
      "text/plain": [
       "('Julio', 9.5)"
      ]
     },
     "execution_count": 167,
     "metadata": {},
     "output_type": "execute_result"
    }
   ],
   "source": [
    "grades_dict = {\"Johny\": 8.5, \"Lando\": 9.2, \"Ran\": 7.8, \"Julio\": 9.5}\n",
    "ex18_best_student(grades_dict)"
   ]
  },
  {
   "cell_type": "code",
   "execution_count": null,
   "id": "56d8366d-54c2-4bad-9d33-4e7f89549c3b",
   "metadata": {},
   "outputs": [],
   "source": [
    "def ex19_invert_dictionary(d):\n",
    "    \"\"\"Ejercicio 19:\n",
    "    Invierte un diccionario, intercambiando claves y valores.\n",
    "    Retorna el diccionario invertido.\n",
    "    \"\"\"\n",
    "    pass"
   ]
  },
  {
   "cell_type": "code",
   "execution_count": 168,
   "id": "8d358645-7756-4e36-88e6-8e7a8705707d",
   "metadata": {},
   "outputs": [],
   "source": [
    "def ex19_invert_dictionary(d):\n",
    "    dicc_invertido = {valor: clave for clave, valor in d.items()}\n",
    "    return dicc_invertido"
   ]
  },
  {
   "cell_type": "code",
   "execution_count": 170,
   "id": "afe5ea4f-936d-4a03-9e57-7c7c71252947",
   "metadata": {},
   "outputs": [
    {
     "data": {
      "text/plain": [
       "{5: 'gato', 2: 'perro', 3: 'león', 4: 'tigre'}"
      ]
     },
     "execution_count": 170,
     "metadata": {},
     "output_type": "execute_result"
    }
   ],
   "source": [
    "d={\"gato\":5, \"perro\":2,\"león\":3,\"tigre\":4}\n",
    "ex19_invert_dictionary(d)"
   ]
  },
  {
   "cell_type": "code",
   "execution_count": null,
   "id": "9c4c3dd4-105c-43e0-8a6e-ef483301c07a",
   "metadata": {},
   "outputs": [],
   "source": [
    "def ex20_merge_dicts_sum_values(d1, d2):\n",
    "    \"\"\"Ejercicio 20:\n",
    "    Fusiona dos diccionarios sumando los valores de las claves que se repitan. \n",
    "    Devuelve el diccionario resultante.\n",
    "    \"\"\"\n",
    "    pass"
   ]
  },
  {
   "cell_type": "code",
   "execution_count": 171,
   "id": "dd2e7555-496b-449b-b8da-76707dc6f5c4",
   "metadata": {},
   "outputs": [],
   "source": [
    "def ex20_merge_dicts_sum_values(d1, d2):\n",
    "    resultado= d1.copy()\n",
    "    for clave, valor in d2.items():\n",
    "        resultado[clave] = resultado.get(clave,0)+valor\n",
    "    return resultado"
   ]
  },
  {
   "cell_type": "code",
   "execution_count": 173,
   "id": "3d616d3a-6d9e-4562-8c6c-4eb5cc0cf0d5",
   "metadata": {},
   "outputs": [
    {
     "data": {
      "text/plain": [
       "{'a': 11, 'f': 7, 'j': 14, 'r': 2}"
      ]
     },
     "execution_count": 173,
     "metadata": {},
     "output_type": "execute_result"
    }
   ],
   "source": [
    "d1={\"a\":3,\"f\":7,\"j\":9}\n",
    "d2={\"a\":8,\"j\":5,\"r\":2}\n",
    "ex20_merge_dicts_sum_values(d1, d2)"
   ]
  },
  {
   "cell_type": "code",
   "execution_count": null,
   "id": "8e4f80e2-248a-4397-abca-cacd012ff7b5",
   "metadata": {},
   "outputs": [],
   "source": [
    "def ex21_numpy_array_set_fifth():\n",
    "    \"\"\"Ejercicio 21:\n",
    "    Crea un arreglo de NumPy de 10 ceros y cambia el quinto elemento (índice 4) a 1.\n",
    "    Retorna el array resultante.\n",
    "    \"\"\"\n",
    "    pass"
   ]
  },
  {
   "cell_type": "code",
   "execution_count": 174,
   "id": "6690e3a9-3059-472a-b4eb-b0fb844e463b",
   "metadata": {},
   "outputs": [],
   "source": [
    "def ex21_numpy_array_set_fifth():\n",
    "    arreglo=np.zeros(10)\n",
    "    arreglo[4] =1\n",
    "    return arreglo"
   ]
  },
  {
   "cell_type": "code",
   "execution_count": 175,
   "id": "2240aba0-85f8-4196-b7b0-bc9cdc690314",
   "metadata": {},
   "outputs": [
    {
     "data": {
      "text/plain": [
       "array([0., 0., 0., 0., 1., 0., 0., 0., 0., 0.])"
      ]
     },
     "execution_count": 175,
     "metadata": {},
     "output_type": "execute_result"
    }
   ],
   "source": [
    "ex21_numpy_array_set_fifth()"
   ]
  },
  {
   "cell_type": "code",
   "execution_count": null,
   "id": "6230fc40-79ef-44c7-9301-6b509f949954",
   "metadata": {},
   "outputs": [],
   "source": [
    "def ex22_numpy_matrix_3x3():\n",
    "    \"\"\"Ejercicio 22:\n",
    "    Genera una matriz 3x3 con los valores del 0 al 8. \n",
    "    Retorna la matriz como array de NumPy.\n",
    "    \"\"\"\n",
    "    pass"
   ]
  },
  {
   "cell_type": "code",
   "execution_count": 186,
   "id": "ae8b47ae-a75b-4f73-9c55-4903d8160bc8",
   "metadata": {},
   "outputs": [],
   "source": [
    "def ex22_numpy_matrix_3x3():\n",
    "    matriz = np.arange(9).reshape(3, 3)\n",
    "    return matriz"
   ]
  },
  {
   "cell_type": "code",
   "execution_count": 187,
   "id": "fc0dd668-5243-4d42-b7e0-e11855143ce5",
   "metadata": {},
   "outputs": [
    {
     "data": {
      "text/plain": [
       "array([[0, 1, 2],\n",
       "       [3, 4, 5],\n",
       "       [6, 7, 8]])"
      ]
     },
     "execution_count": 187,
     "metadata": {},
     "output_type": "execute_result"
    }
   ],
   "source": [
    "ex22_numpy_matrix_3x3()"
   ]
  },
  {
   "cell_type": "code",
   "execution_count": null,
   "id": "6ef0a858-4b88-4f5a-ae30-8e5113309472",
   "metadata": {},
   "outputs": [],
   "source": [
    "def ex23_numpy_statistics():\n",
    "    \"\"\"Ejercicio 23:\n",
    "    Genera un array aleatorio de 20 enteros y calcula la media, mediana y desviación estándar.\n",
    "    Retorna una tupla (media, mediana, desviación estándar).\n",
    "    \"\"\"\n",
    "    pass"
   ]
  },
  {
   "cell_type": "code",
   "execution_count": 193,
   "id": "2df27a79-8b00-47ff-b464-5beaeea62630",
   "metadata": {},
   "outputs": [],
   "source": [
    "def ex23_numpy_statistics():\n",
    "    array_al=np.random.randint(0,100,20)\n",
    "    media=np.mean(array_al)\n",
    "    mediana=np.median(array_al)\n",
    "    desviacion=np.std(array_al)\n",
    "    return (media, mediana, desviacion)"
   ]
  },
  {
   "cell_type": "code",
   "execution_count": 194,
   "id": "03b59372-1a4a-4172-b2f4-38ceece0a773",
   "metadata": {},
   "outputs": [
    {
     "data": {
      "text/plain": [
       "(np.float64(60.25), np.float64(67.5), np.float64(26.626819186677178))"
      ]
     },
     "execution_count": 194,
     "metadata": {},
     "output_type": "execute_result"
    }
   ],
   "source": [
    " ex23_numpy_statistics()"
   ]
  },
  {
   "cell_type": "code",
   "execution_count": null,
   "id": "05ab693b-c95e-4c49-839f-0d21ce96a677",
   "metadata": {},
   "outputs": [],
   "source": [
    "def ex24_numpy_clip_values(arr):\n",
    "    \"\"\"Ejercicio 24:\n",
    "    Dado un array (o lista) de números, reemplaza todos los valores mayores que 10 por 10\n",
    "    (es decir, limita/\"clip\" los valores máximos).\n",
    "    Retorna el array modificado.\n",
    "    \"\"\"\n",
    "    pass"
   ]
  },
  {
   "cell_type": "code",
   "execution_count": 195,
   "id": "deea23b5-e81a-4a53-9af2-7a4a9f675d27",
   "metadata": {},
   "outputs": [],
   "source": [
    "def ex24_numpy_clip_values(arr):\n",
    "    arr=np.array(arr)\n",
    "    arr=np.clip(arr,None,10)\n",
    "    return arr"
   ]
  },
  {
   "cell_type": "code",
   "execution_count": 197,
   "id": "2bdb4e81-2a35-4685-9c5b-09b1ff2114bb",
   "metadata": {},
   "outputs": [
    {
     "data": {
      "text/plain": [
       "array([ 3,  4,  5, 10, 10, 10])"
      ]
     },
     "execution_count": 197,
     "metadata": {},
     "output_type": "execute_result"
    }
   ],
   "source": [
    "arr=[3,4,5,14,16,10]\n",
    "ex24_numpy_clip_values(arr)"
   ]
  },
  {
   "cell_type": "code",
   "execution_count": null,
   "id": "9012d43d-d44f-4d7c-9727-22a22d669e19",
   "metadata": {},
   "outputs": [],
   "source": [
    "def ex25_filter_rows_age_over_30():\n",
    "    \"\"\"Ejercicio 25:\n",
    "    Crea un DataFrame con columnas 'Nombre', 'Edad' y 'Ciudad'.\n",
    "    Filtra y retorna solo las filas con `Edad` > 30.\n",
    "    \"\"\"\n",
    "    pass"
   ]
  },
  {
   "cell_type": "code",
   "execution_count": 216,
   "id": "795865ea-7887-4d07-b221-3c2b000b4c67",
   "metadata": {},
   "outputs": [],
   "source": [
    "def ex25_filter_rows_age_over_30():\n",
    "    df = pd.DataFrame({\n",
    "        'Nombre': ['Pao', 'Pau', 'Soff', 'Luis', 'Ana'],\n",
    "        'Edad': [21, 20, 23, 35, 40],\n",
    "        'Ciudad': [\"Qro\", \"Jerez\", \"Orizaba\", \"CDMX\", \"Monterrey\"]\n",
    "    })\n",
    "    df_filtrado = df[df['Edad']>30]\n",
    "    return df_filtrado"
   ]
  },
  {
   "cell_type": "code",
   "execution_count": 217,
   "id": "7ff4d799-0a19-46ae-9889-531cdc356798",
   "metadata": {},
   "outputs": [
    {
     "data": {
      "text/html": [
       "<div>\n",
       "<style scoped>\n",
       "    .dataframe tbody tr th:only-of-type {\n",
       "        vertical-align: middle;\n",
       "    }\n",
       "\n",
       "    .dataframe tbody tr th {\n",
       "        vertical-align: top;\n",
       "    }\n",
       "\n",
       "    .dataframe thead th {\n",
       "        text-align: right;\n",
       "    }\n",
       "</style>\n",
       "<table border=\"1\" class=\"dataframe\">\n",
       "  <thead>\n",
       "    <tr style=\"text-align: right;\">\n",
       "      <th></th>\n",
       "      <th>Nombre</th>\n",
       "      <th>Edad</th>\n",
       "      <th>Ciudad</th>\n",
       "    </tr>\n",
       "  </thead>\n",
       "  <tbody>\n",
       "    <tr>\n",
       "      <th>3</th>\n",
       "      <td>Luis</td>\n",
       "      <td>35</td>\n",
       "      <td>CDMX</td>\n",
       "    </tr>\n",
       "    <tr>\n",
       "      <th>4</th>\n",
       "      <td>Ana</td>\n",
       "      <td>40</td>\n",
       "      <td>Monterrey</td>\n",
       "    </tr>\n",
       "  </tbody>\n",
       "</table>\n",
       "</div>"
      ],
      "text/plain": [
       "  Nombre  Edad     Ciudad\n",
       "3   Luis    35       CDMX\n",
       "4    Ana    40  Monterrey"
      ]
     },
     "execution_count": 217,
     "metadata": {},
     "output_type": "execute_result"
    }
   ],
   "source": [
    "ex25_filter_rows_age_over_30()"
   ]
  },
  {
   "cell_type": "code",
   "execution_count": null,
   "id": "1f72e2ff-e185-484c-bc79-acd6acb9b47d",
   "metadata": {},
   "outputs": [],
   "source": [
    "def ex26_load_dict_into_dataframe_and_sort():\n",
    "    \"\"\"Ejercicio 26:\n",
    "    Carga un diccionario en un DataFrame (por ejemplo {'Nombre': [...], 'Puntaje': [...]})\n",
    "    y ordénalo por la columna de puntaje de mayor a menor.\n",
    "    Retorna el DataFrame ordenado.\n",
    "    \"\"\"\n",
    "    pass"
   ]
  },
  {
   "cell_type": "code",
   "execution_count": 218,
   "id": "2ea7e06c-9ffa-4ffe-9e9d-906af084a93b",
   "metadata": {},
   "outputs": [],
   "source": [
    "def ex26_load_dict_into_dataframe_and_sort():\n",
    "    return pd.DataFrame({'Nombre':['Pao', 'Pau', 'Soff', 'Luis', 'Ana'],\n",
    "                         'Puntaje':[90,90,68,64,45]}).sort_values(by='Puntaje',ascending=False)"
   ]
  },
  {
   "cell_type": "code",
   "execution_count": 219,
   "id": "5662ca69-a982-463b-b4ff-a1506cf80c40",
   "metadata": {},
   "outputs": [
    {
     "data": {
      "text/html": [
       "<div>\n",
       "<style scoped>\n",
       "    .dataframe tbody tr th:only-of-type {\n",
       "        vertical-align: middle;\n",
       "    }\n",
       "\n",
       "    .dataframe tbody tr th {\n",
       "        vertical-align: top;\n",
       "    }\n",
       "\n",
       "    .dataframe thead th {\n",
       "        text-align: right;\n",
       "    }\n",
       "</style>\n",
       "<table border=\"1\" class=\"dataframe\">\n",
       "  <thead>\n",
       "    <tr style=\"text-align: right;\">\n",
       "      <th></th>\n",
       "      <th>Nombre</th>\n",
       "      <th>Puntaje</th>\n",
       "    </tr>\n",
       "  </thead>\n",
       "  <tbody>\n",
       "    <tr>\n",
       "      <th>0</th>\n",
       "      <td>Pao</td>\n",
       "      <td>90</td>\n",
       "    </tr>\n",
       "    <tr>\n",
       "      <th>1</th>\n",
       "      <td>Pau</td>\n",
       "      <td>90</td>\n",
       "    </tr>\n",
       "    <tr>\n",
       "      <th>2</th>\n",
       "      <td>Soff</td>\n",
       "      <td>68</td>\n",
       "    </tr>\n",
       "    <tr>\n",
       "      <th>3</th>\n",
       "      <td>Luis</td>\n",
       "      <td>64</td>\n",
       "    </tr>\n",
       "    <tr>\n",
       "      <th>4</th>\n",
       "      <td>Ana</td>\n",
       "      <td>45</td>\n",
       "    </tr>\n",
       "  </tbody>\n",
       "</table>\n",
       "</div>"
      ],
      "text/plain": [
       "  Nombre  Puntaje\n",
       "0    Pao       90\n",
       "1    Pau       90\n",
       "2   Soff       68\n",
       "3   Luis       64\n",
       "4    Ana       45"
      ]
     },
     "execution_count": 219,
     "metadata": {},
     "output_type": "execute_result"
    }
   ],
   "source": [
    "ex26_load_dict_into_dataframe_and_sort()"
   ]
  },
  {
   "cell_type": "code",
   "execution_count": null,
   "id": "65d83705-1cc7-49b9-8598-17f65be639b8",
   "metadata": {},
   "outputs": [],
   "source": [
    "def ex27_groupby_mean_value():\n",
    "    \"\"\"Ejercicio 27:\n",
    "    Dado un DataFrame con columnas 'Grupo' y 'Valor', calcula el promedio de 'Valor'\n",
    "    por cada 'Grupo' usando groupby. \n",
    "    Retorna el DataFrame agrupado con promedios.\n",
    "    \"\"\"\n",
    "    pass"
   ]
  },
  {
   "cell_type": "code",
   "execution_count": 220,
   "id": "f1cd6627-776f-4e90-82f4-1a906c7756f8",
   "metadata": {},
   "outputs": [],
   "source": [
    "def ex27_groupby_mean_value():\n",
    "    df = pd.DataFrame({\n",
    "        'Grupo': ['A', 'B', 'A', 'B', 'C', 'A'],\n",
    "        'Valor': [10, 20, 30, 40, 50, 60]\n",
    "    })\n",
    "    df_promedio = df.groupby('Grupo', as_index=False)['Valor'].mean()\n",
    "    return df_promedio"
   ]
  },
  {
   "cell_type": "code",
   "execution_count": 221,
   "id": "344744c0-557e-4d20-98d5-ae41c8e4ceb0",
   "metadata": {},
   "outputs": [
    {
     "data": {
      "text/html": [
       "<div>\n",
       "<style scoped>\n",
       "    .dataframe tbody tr th:only-of-type {\n",
       "        vertical-align: middle;\n",
       "    }\n",
       "\n",
       "    .dataframe tbody tr th {\n",
       "        vertical-align: top;\n",
       "    }\n",
       "\n",
       "    .dataframe thead th {\n",
       "        text-align: right;\n",
       "    }\n",
       "</style>\n",
       "<table border=\"1\" class=\"dataframe\">\n",
       "  <thead>\n",
       "    <tr style=\"text-align: right;\">\n",
       "      <th></th>\n",
       "      <th>Grupo</th>\n",
       "      <th>Valor</th>\n",
       "    </tr>\n",
       "  </thead>\n",
       "  <tbody>\n",
       "    <tr>\n",
       "      <th>0</th>\n",
       "      <td>A</td>\n",
       "      <td>33.333333</td>\n",
       "    </tr>\n",
       "    <tr>\n",
       "      <th>1</th>\n",
       "      <td>B</td>\n",
       "      <td>30.000000</td>\n",
       "    </tr>\n",
       "    <tr>\n",
       "      <th>2</th>\n",
       "      <td>C</td>\n",
       "      <td>50.000000</td>\n",
       "    </tr>\n",
       "  </tbody>\n",
       "</table>\n",
       "</div>"
      ],
      "text/plain": [
       "  Grupo      Valor\n",
       "0     A  33.333333\n",
       "1     B  30.000000\n",
       "2     C  50.000000"
      ]
     },
     "execution_count": 221,
     "metadata": {},
     "output_type": "execute_result"
    }
   ],
   "source": [
    "ex27_groupby_mean_value()"
   ]
  },
  {
   "cell_type": "code",
   "execution_count": null,
   "id": "6aaff81e-d512-4454-9379-8bcbb9cfe8b8",
   "metadata": {},
   "outputs": [],
   "source": [
    "def ex28_most_sold_product_from_sales_df():\n",
    "    \"\"\"Ejercicio 28:\n",
    "    Dado un DataFrame de ventas con columnas 'Producto' y 'Cantidad', determina cuál\n",
    "    es el producto con la mayor suma total de 'Cantidad' (es decir, el más vendido).\n",
    "    Retorna una tupla (Producto, Ventas).\n",
    "    \"\"\"\n",
    "    pass"
   ]
  },
  {
   "cell_type": "code",
   "execution_count": 223,
   "id": "b5157048-8c4b-46fc-a040-861f258e5376",
   "metadata": {},
   "outputs": [],
   "source": [
    "def ex28_most_sold_product_from_sales_df():\n",
    "    df = pd.DataFrame({\n",
    "        'Producto': ['A', 'B', 'A', 'B', 'C', 'A'],\n",
    "        'Cantidad': [45, 86, 14, 40, 56, 61]\n",
    "    })\n",
    "    ventas_totales = df.groupby('Producto')['Cantidad'].sum()\n",
    "    producto_max = ventas_totales.idxmax()\n",
    "    cantidad_max = ventas_totales.max()\n",
    "    \n",
    "    return (producto_max, cantidad_max)\n",
    "    return df_promedio"
   ]
  },
  {
   "cell_type": "code",
   "execution_count": 224,
   "id": "e63ea604-2e07-4093-ba63-ddcb26b6c229",
   "metadata": {},
   "outputs": [
    {
     "data": {
      "text/plain": [
       "('B', np.int64(126))"
      ]
     },
     "execution_count": 224,
     "metadata": {},
     "output_type": "execute_result"
    }
   ],
   "source": [
    "ex28_most_sold_product_from_sales_df()"
   ]
  },
  {
   "cell_type": "code",
   "execution_count": null,
   "id": "cef6c750-0ee3-4ac0-be5e-e68dc99a8f5d",
   "metadata": {},
   "outputs": [],
   "source": [
    "def ex29_map_lambda_cube(lst):\n",
    "    \"\"\"Ejercicio 29:\n",
    "    Usa map junto con una función lambda para elevar al cubo cada número en una lista.\n",
    "    Devuelve la lista resultante.\n",
    "    \"\"\"\n",
    "    pass"
   ]
  },
  {
   "cell_type": "code",
   "execution_count": 226,
   "id": "2671e61a-7004-46bc-b5c2-b5e735c53fd8",
   "metadata": {},
   "outputs": [],
   "source": [
    "def ex29_map_lambda_cube(lst):\n",
    "    return list(map(lambda x: x**3, lst))"
   ]
  },
  {
   "cell_type": "code",
   "execution_count": 228,
   "id": "fda45f8e-4f37-44c2-9e0a-b122a56192b1",
   "metadata": {},
   "outputs": [
    {
     "data": {
      "text/plain": [
       "[8, 64, 216]"
      ]
     },
     "execution_count": 228,
     "metadata": {},
     "output_type": "execute_result"
    }
   ],
   "source": [
    "lst=[2,4,6]\n",
    "ex29_map_lambda_cube(lst)"
   ]
  },
  {
   "cell_type": "code",
   "execution_count": null,
   "id": "61333c96-773a-4f5a-a32a-5e8eb0081154",
   "metadata": {},
   "outputs": [],
   "source": [
    "def ex30_filter_lambda_even(lst):\n",
    "    \"\"\"Ejercicio 30:\n",
    "    Usa filter y una lambda para quedarte sólo con los números pares de una lista.\n",
    "    Devuelve la lista filtrada.\n",
    "    \"\"\"\n",
    "    pass"
   ]
  },
  {
   "cell_type": "code",
   "execution_count": 229,
   "id": "86062ff5-b56a-496b-aa96-b53d6e494312",
   "metadata": {},
   "outputs": [],
   "source": [
    "def ex30_filter_lambda_even(lst):\n",
    "    return list(filter(lambda x:x % 2 == 0, lst))"
   ]
  },
  {
   "cell_type": "code",
   "execution_count": 231,
   "id": "eec93ebb-04b1-4932-8b04-d9096ad65c8f",
   "metadata": {},
   "outputs": [
    {
     "data": {
      "text/plain": [
       "[2, 4]"
      ]
     },
     "execution_count": 231,
     "metadata": {},
     "output_type": "execute_result"
    }
   ],
   "source": [
    "lst =[1,2,4,5,7,11]\n",
    "ex30_filter_lambda_even(lst)"
   ]
  },
  {
   "cell_type": "code",
   "execution_count": null,
   "id": "ed7dd7f3-145f-4132-9fdd-538395346fe0",
   "metadata": {},
   "outputs": [],
   "source": [
    "def ex31_sort_list_of_dicts_by_key(lst, keyname):\n",
    "    \"\"\"Ejercicio 31:\n",
    "    Dada una lista de diccionarios, ordénala por el valor asociado a 'keyname' usando\n",
    "    sorted con una lambda. Devuelve la lista ordenada.\n",
    "    \"\"\"\n",
    "    pass"
   ]
  },
  {
   "cell_type": "code",
   "execution_count": 234,
   "id": "e5b909d7-55bf-4df2-856b-d8c4077915b1",
   "metadata": {},
   "outputs": [],
   "source": [
    "def ex31_sort_list_of_dicts_by_key(lst, keyname):\n",
    " return sorted (lst, key=lambda d: d[keyname])"
   ]
  },
  {
   "cell_type": "code",
   "execution_count": 244,
   "id": "98915dea-8cc2-408f-a694-a8a53f959a24",
   "metadata": {},
   "outputs": [],
   "source": [
    "def ex31_sort_list_of_dicts_by_key(lst, keyname):\n",
    "    return sorted(lst, key=lambda d: d[keyname])"
   ]
  },
  {
   "cell_type": "code",
   "execution_count": 247,
   "id": "d4992610-3784-44b3-99f0-88b641235901",
   "metadata": {},
   "outputs": [
    {
     "name": "stdout",
     "output_type": "stream",
     "text": [
      "[{'nombre': 'Pao', 'edad': 19}, {'nombre': 'Pau', 'edad': 20}, {'nombre': 'Ana', 'edad': 22}]\n"
     ]
    }
   ],
   "source": [
    "lst = [\n",
    "    {'nombre': 'Pao', 'edad': 19},\n",
    "    {'nombre': 'Pau', 'edad': 20},\n",
    "    {'nombre': 'Ana', 'edad': 22}\n",
    "]\n",
    "resultado = ex31_sort_list_of_dicts_by_key(lst, 'edad')\n",
    "print(resultado)"
   ]
  },
  {
   "cell_type": "code",
   "execution_count": null,
   "id": "1ee9f3b7-58a7-44d2-b542-22add2a82c24",
   "metadata": {},
   "outputs": [],
   "source": [
    "def ex32_pandas_apply_lambda_uppercase(names_list):\n",
    "    \"\"\"Ejercicio 32:\n",
    "    Crea un DataFrame con una columna 'Nombre' a partir de names_list y usa apply con\n",
    "    una función lambda para crear una nueva columna con los nombres en mayúsculas.\n",
    "    Devuelve el DataFrame modificado.\n",
    "    \"\"\"\n",
    "    pass"
   ]
  },
  {
   "cell_type": "code",
   "execution_count": 238,
   "id": "dfd85eb3-3be3-4b38-b38e-906f68db4f9d",
   "metadata": {},
   "outputs": [],
   "source": [
    "def ex32_pandas_apply_lambda_uppercase(names_list):\n",
    "    df = pd.DataFrame({'Nombre': names_list})\n",
    "    df['Nombre_Mayus'] = df['Nombre'].apply(lambda x: x.upper())\n",
    "    return df"
   ]
  },
  {
   "cell_type": "code",
   "execution_count": 241,
   "id": "81535326-c871-4267-9374-fd1172eb8470",
   "metadata": {},
   "outputs": [
    {
     "data": {
      "text/html": [
       "<div>\n",
       "<style scoped>\n",
       "    .dataframe tbody tr th:only-of-type {\n",
       "        vertical-align: middle;\n",
       "    }\n",
       "\n",
       "    .dataframe tbody tr th {\n",
       "        vertical-align: top;\n",
       "    }\n",
       "\n",
       "    .dataframe thead th {\n",
       "        text-align: right;\n",
       "    }\n",
       "</style>\n",
       "<table border=\"1\" class=\"dataframe\">\n",
       "  <thead>\n",
       "    <tr style=\"text-align: right;\">\n",
       "      <th></th>\n",
       "      <th>Nombre</th>\n",
       "      <th>Nombre_Mayus</th>\n",
       "    </tr>\n",
       "  </thead>\n",
       "  <tbody>\n",
       "    <tr>\n",
       "      <th>0</th>\n",
       "      <td>Pao</td>\n",
       "      <td>PAO</td>\n",
       "    </tr>\n",
       "    <tr>\n",
       "      <th>1</th>\n",
       "      <td>Pau</td>\n",
       "      <td>PAU</td>\n",
       "    </tr>\n",
       "    <tr>\n",
       "      <th>2</th>\n",
       "      <td>Ana</td>\n",
       "      <td>ANA</td>\n",
       "    </tr>\n",
       "  </tbody>\n",
       "</table>\n",
       "</div>"
      ],
      "text/plain": [
       "  Nombre Nombre_Mayus\n",
       "0    Pao          PAO\n",
       "1    Pau          PAU\n",
       "2    Ana          ANA"
      ]
     },
     "execution_count": 241,
     "metadata": {},
     "output_type": "execute_result"
    }
   ],
   "source": [
    "names_list=['Pao','Pau','Ana']\n",
    "ex32_pandas_apply_lambda_uppercase(names_list)"
   ]
  }
 ],
 "metadata": {
  "kernelspec": {
   "display_name": "Python 3 (ipykernel)",
   "language": "python",
   "name": "python3"
  },
  "language_info": {
   "codemirror_mode": {
    "name": "ipython",
    "version": 3
   },
   "file_extension": ".py",
   "mimetype": "text/x-python",
   "name": "python",
   "nbconvert_exporter": "python",
   "pygments_lexer": "ipython3",
   "version": "3.10.9"
  }
 },
 "nbformat": 4,
 "nbformat_minor": 5
}
