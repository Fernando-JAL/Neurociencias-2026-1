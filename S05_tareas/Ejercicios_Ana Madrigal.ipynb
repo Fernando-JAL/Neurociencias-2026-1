{
 "cells": [
  {
   "cell_type": "markdown",
   "id": "0dde06a1-275a-43e0-ba1d-ed364ba29a4b",
   "metadata": {},
   "source": [
    "## Ejercicios\n",
    "1. Crear una función que cuente las vocales de un string y regrese dicho número\n",
    "2. crear una funcion que determine si un número es par o impar e imprima si es par o impar\n",
    "3. crear una funcion para convertir de grados celcius a grado fahrenheit, dicha funcion recibira la temperatura en grados celcius y debera regresar los grados\n",
    "4. Crear una función que reciba un entenro y devuelva la suma de sus digitas"
   ]
  },
  {
   "cell_type": "code",
   "execution_count": 1,
   "id": "00f50d37-2522-46fa-b111-ce6fa60c3b10",
   "metadata": {},
   "outputs": [
    {
     "name": "stdin",
     "output_type": "stream",
     "text": [
      "Frase a contar vocales:  Team Agua de Horchata\n"
     ]
    },
    {
     "name": "stdout",
     "output_type": "stream",
     "text": [
      "tiene 9 vocales :P\n"
     ]
    }
   ],
   "source": [
    "##1\n",
    "def cuenta_vocales(palabra):\n",
    "    palabra = palabra.lower() \n",
    "    return (palabra.count('a') + palabra.count('e') + \n",
    "            palabra.count('i') + palabra.count('o') + \n",
    "            palabra.count('u'))\n",
    "\n",
    "\n",
    "frase=input(\"Frase a contar vocales: \")\n",
    "resultado=cuenta_vocales(frase)\n",
    "print(f\"tiene {resultado} vocales :P\")"
   ]
  },
  {
   "cell_type": "code",
   "execution_count": 40,
   "id": "41762ceb-e0ef-470a-ad9a-711a5e787ad2",
   "metadata": {},
   "outputs": [
    {
     "name": "stdout",
     "output_type": "stream",
     "text": [
      "9 es impar\n"
     ]
    }
   ],
   "source": [
    "##2 \n",
    "def impar_par (numero):\n",
    "    if  (num %2) == 0: \n",
    "        return \"par\"\n",
    "    else:\n",
    "        return \"impar\"\n",
    "\n",
    "num=9\n",
    "resultado=impar_par(num)\n",
    "print(f\"{num} es {resultado}\")"
   ]
  },
  {
   "cell_type": "code",
   "execution_count": 41,
   "id": "b81678b2-70e3-48f6-b341-44e13fcaa26d",
   "metadata": {},
   "outputs": [
    {
     "name": "stdout",
     "output_type": "stream",
     "text": [
      "71.6 °F\n"
     ]
    }
   ],
   "source": [
    "#3 \n",
    "\n",
    "def temperatura (numero):\n",
    "    F = (9/5)*numero+(32)\n",
    "    return F\n",
    "\n",
    "temp_en_c= 22\n",
    "resultado_f=temperatura(temp_en_c)\n",
    "print(f\"{resultado_f} °F\")\n",
    "\n",
    "\n"
   ]
  },
  {
   "cell_type": "code",
   "execution_count": 44,
   "id": "e8d81d33-033e-430d-87ff-39fd46f3de69",
   "metadata": {},
   "outputs": [
    {
     "data": {
      "text/plain": [
       "4"
      ]
     },
     "execution_count": 44,
     "metadata": {},
     "output_type": "execute_result"
    }
   ],
   "source": [
    "#4\n",
    "def entero_suma (numero):\n",
    "    strn=str(numero)\n",
    "    total = 0\n",
    "    for digito in strn:\n",
    "        total += int(digito) # total = total + int(digito)\n",
    "\n",
    "    return total\n",
    "\n",
    "entero_suma(13)"
   ]
  },
  {
   "cell_type": "markdown",
   "id": "f95d8a48-5484-4c3e-a9f1-d1aa1a12ece3",
   "metadata": {},
   "source": [
    " 5. Crear una funcion que cuente las palabras de un string y devuelva dicho numero"
   ]
  },
  {
   "cell_type": "code",
   "execution_count": 48,
   "id": "c379c78b-e46e-4579-a139-8e092f2012fa",
   "metadata": {},
   "outputs": [
    {
     "name": "stdout",
     "output_type": "stream",
     "text": [
      "3\n"
     ]
    }
   ],
   "source": [
    "\n",
    "\n",
    "def contador_palabras (palabras):\n",
    "    div_palabras=palabras.split()\n",
    "    return len(div_palabras)\n",
    "    \n",
    "print(contador_palabras(\"ana es ana\"))"
   ]
  },
  {
   "cell_type": "markdown",
   "id": "95df5ace-8e46-49ad-a455-c9e127fd463c",
   "metadata": {},
   "source": [
    "6. Crea una funcion que reciba una lista con al menos 3 enteros y regrese el minimo de todos los numeros de la lista\n"
   ]
  },
  {
   "cell_type": "code",
   "execution_count": 54,
   "id": "ddf5bdc4-da51-4635-a905-475b4a2d3be6",
   "metadata": {},
   "outputs": [
    {
     "name": "stdout",
     "output_type": "stream",
     "text": [
      "23004\n"
     ]
    }
   ],
   "source": [
    "\n",
    "def minimo (numeros):\n",
    "    resultado= min(numeros)\n",
    "    return resultado\n",
    "\n",
    "\n",
    "lista=[100000,23004,34567989,345678]\n",
    "resultado_min=minimo(lista)\n",
    "print(resultado_min)\n",
    "\n"
   ]
  },
  {
   "cell_type": "markdown",
   "id": "c67974ca-77ab-4cf6-ab7b-7388adb14106",
   "metadata": {},
   "source": [
    "-7.-crea una función que reciba 2 strings(frase,letra), y cuente cuantas veces aparece la letra en la frase y regrese ese numero"
   ]
  },
  {
   "cell_type": "code",
   "execution_count": 65,
   "id": "31552315-ab4c-427b-9489-2acd183cd845",
   "metadata": {},
   "outputs": [
    {
     "name": "stdout",
     "output_type": "stream",
     "text": [
      "5\n"
     ]
    }
   ],
   "source": [
    "\n",
    "\n",
    "def contar_letra(frase,letra):\n",
    "    return frase.count(letra)\n",
    "\n",
    "resultado=contar_letra(\"Hoy cene medio burrito porque estan muy caros\", \"e\")\n",
    "print(resultado)\n",
    "\n"
   ]
  },
  {
   "cell_type": "code",
   "execution_count": 68,
   "id": "9c0feeae-6734-4cf5-a0de-b7a221f2d869",
   "metadata": {},
   "outputs": [
    {
     "name": "stdin",
     "output_type": "stream",
     "text": [
      "Pon tu frase: Probando si funciona esto\n",
      "¿Qué letra buscas? s\n"
     ]
    },
    {
     "name": "stdout",
     "output_type": "stream",
     "text": [
      "2\n"
     ]
    }
   ],
   "source": [
    "## si lo quiero hacer interactivo\n",
    "def contar_letra(frase,letra):\n",
    "    return frase.count(letra)\n",
    "\n",
    "frase=input(\"Pon tu frase:\")\n",
    "letra= input(\"¿Qué letra buscas?\")\n",
    "resultado=contar_letra(frase,letra)\n",
    "print(resultado)\n",
    "\n",
    "\n",
    "\n"
   ]
  },
  {
   "cell_type": "markdown",
   "id": "82ca08da-00b0-41f5-95e6-f59cab285d26",
   "metadata": {},
   "source": [
    "num.8 crear una función que reciba un string y cambie todas las minusculas a mayusculas y las mayusculas a minusculas\n"
   ]
  },
  {
   "cell_type": "code",
   "execution_count": 110,
   "id": "00d57405-eac4-4c28-b03b-4a25b03beaac",
   "metadata": {},
   "outputs": [
    {
     "name": "stdout",
     "output_type": "stream",
     "text": [
      "pERO sin EMBARGO, nO SE pORQUE cEnE tantooo\n"
     ]
    }
   ],
   "source": [
    "def inversas (palabra):\n",
    "    resultado= \"\"\n",
    "    for letra in palabra:\n",
    "        if letra == letra.upper():\n",
    "            resultado +=letra.lower()\n",
    "        else:\n",
    "            resultado +=letra.upper()\n",
    "    return resultado\n",
    "        \n",
    "respuesta=inversas(\"Pero SIN embargo, No se Porque CeNe TANTOOO\")\n",
    "print(respuesta)\n"
   ]
  },
  {
   "cell_type": "code",
   "execution_count": 113,
   "id": "567f617b-6d59-4296-90a8-1e8ca89d13c8",
   "metadata": {},
   "outputs": [
    {
     "name": "stdin",
     "output_type": "stream",
     "text": [
      "Pon algo, te lo invierto de mayusculas a min y viceversa :0 taylor swift SE VA A CASAR \n"
     ]
    },
    {
     "name": "stdout",
     "output_type": "stream",
     "text": [
      "TAYLOR SWIFT se va a casar \n"
     ]
    }
   ],
   "source": [
    "##INTERACTIVO INTERACTIVO\n",
    "def inversas (palabra):\n",
    "    resultado= \"\"\n",
    "    for letra in palabra:\n",
    "        if letra == letra.upper():\n",
    "            resultado +=letra.lower()\n",
    "        else:\n",
    "            resultado +=letra.upper()\n",
    "    return resultado\n",
    "\n",
    "frase=input(\"Pon algo, te lo invierto de mayusculas a min y viceversa :0 \")\n",
    "resultado=inversas(frase)\n",
    "print(resultado)\n",
    "\n",
    "\n",
    "\n"
   ]
  },
  {
   "cell_type": "markdown",
   "id": "82d088fa-32cd-42a4-9369-7929dc8e706f",
   "metadata": {},
   "source": [
    "9. crear una función que reciba un string y elimine todos los espacios y regrese el string sin espacios "
   ]
  },
  {
   "cell_type": "code",
   "execution_count": 123,
   "id": "ff46905b-ecdd-4afd-8f43-daa5dc18bfc2",
   "metadata": {},
   "outputs": [
    {
     "name": "stdout",
     "output_type": "stream",
     "text": [
      "quitaespaciosono\n"
     ]
    }
   ],
   "source": [
    "\n",
    "def eliminación(frase):\n",
    "    valorrandom=\"\"\n",
    "    for caracter in frase:\n",
    "        if caracter != \" \":\n",
    "            valorrandom += caracter\n",
    "    return valorrandom \n",
    "\n",
    "frase=(\"quita espacios o no\")\n",
    "resultado=eliminación(frase)\n",
    "print(resultado)\n",
    "\n"
   ]
  }
 ],
 "metadata": {
  "kernelspec": {
   "display_name": "Python 3 (ipykernel)",
   "language": "python",
   "name": "python3"
  },
  "language_info": {
   "codemirror_mode": {
    "name": "ipython",
    "version": 3
   },
   "file_extension": ".py",
   "mimetype": "text/x-python",
   "name": "python",
   "nbconvert_exporter": "python",
   "pygments_lexer": "ipython3",
   "version": "3.10.4"
  }
 },
 "nbformat": 4,
 "nbformat_minor": 5
}
