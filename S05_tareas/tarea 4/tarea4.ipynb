{
 "cells": [
  {
   "cell_type": "code",
   "execution_count": 3,
   "id": "2f25faf1-ef4e-480e-8a67-e33fb7a3f4be",
   "metadata": {},
   "outputs": [],
   "source": [
    "# tarea devolver la columna del medio 5,20,35\n",
    "matriz=np.array([[0,5,10],\n",
    "                [15,20,25],\n",
    "                [99,35,40]])"
   ]
  },
  {
   "cell_type": "code",
   "execution_count": 2,
   "id": "7d4d09fc-331d-4cb7-9c7b-8000afbe1cfe",
   "metadata": {},
   "outputs": [],
   "source": [
    "import numpy as np"
   ]
  },
  {
   "cell_type": "code",
   "execution_count": 22,
   "id": "4f217993-2d31-4333-9500-fc54e0e89254",
   "metadata": {},
   "outputs": [
    {
     "data": {
      "text/plain": [
       "array([[ 5],\n",
       "       [20],\n",
       "       [35]])"
      ]
     },
     "execution_count": 22,
     "metadata": {},
     "output_type": "execute_result"
    }
   ],
   "source": [
    "matriz[[0,1,2]][:,[1]]"
   ]
  },
  {
   "cell_type": "code",
   "execution_count": null,
   "id": "f33bc41a-02d4-4ef8-8de8-53f95090d39a",
   "metadata": {},
   "outputs": [],
   "source": []
  }
 ],
 "metadata": {
  "kernelspec": {
   "display_name": "Python 3 (ipykernel)",
   "language": "python",
   "name": "python3"
  },
  "language_info": {
   "codemirror_mode": {
    "name": "ipython",
    "version": 3
   },
   "file_extension": ".py",
   "mimetype": "text/x-python",
   "name": "python",
   "nbconvert_exporter": "python",
   "pygments_lexer": "ipython3",
   "version": "3.11.1"
  }
 },
 "nbformat": 4,
 "nbformat_minor": 5
}
