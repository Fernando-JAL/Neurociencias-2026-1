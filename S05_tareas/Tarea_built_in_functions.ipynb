{
 "cells": [
  {
   "cell_type": "markdown",
   "id": "4c85fa35-10d7-4735-9d5b-fdd74aaa4fa6",
   "metadata": {},
   "source": [
    "#### Instrucción\n",
    "Hacer un ejemplo de las siguientes \"built in functions\"\n",
    "1. all\n",
    "2. any\n",
    "3. abs\n",
    "4. input\n",
    "5. max\n",
    "6. min\n",
    "7. pow\n",
    "8. reversed\n",
    "9. round\n",
    "10. sorted\n",
    "11. sum"
   ]
  },
  {
   "cell_type": "code",
   "execution_count": 3,
   "id": "af8638b7-6cef-4b02-be87-e2af1f34db9e",
   "metadata": {},
   "outputs": [
    {
     "data": {
      "text/plain": [
       "True"
      ]
     },
     "execution_count": 3,
     "metadata": {},
     "output_type": "execute_result"
    }
   ],
   "source": [
    "### all\n",
    "friends=[3,4,8,10,'amigo',[2,3,4]]\n",
    "all(friends)\n",
    "           # -->regresa True si todos los elementos son true, si uno no es true, regresa false"
   ]
  },
  {
   "cell_type": "code",
   "execution_count": 7,
   "id": "38bb3ed3-2ccc-44ff-8187-d9bc30ea7581",
   "metadata": {},
   "outputs": [
    {
     "data": {
      "text/plain": [
       "False"
      ]
     },
     "execution_count": 7,
     "metadata": {},
     "output_type": "execute_result"
    }
   ],
   "source": [
    "### any\n",
    "colors=[]\n",
    "any(colors)\n",
    "            #-->regresa true si algun elemento es true, regresa false si está vacío"
   ]
  },
  {
   "cell_type": "code",
   "execution_count": 19,
   "id": "b0b1b158-3eee-4338-9bc0-18e931264878",
   "metadata": {},
   "outputs": [
    {
     "data": {
      "text/plain": [
       "3.1415926535897833"
      ]
     },
     "execution_count": 19,
     "metadata": {},
     "output_type": "execute_result"
    }
   ],
   "source": [
    "### abs\n",
    "abs(-3.14159265358978323383279502)\n",
    "            #-->regresa el valor absoluto"
   ]
  },
  {
   "cell_type": "code",
   "execution_count": 21,
   "id": "f57b275a-0df5-4eda-8173-85a68a26d7c7",
   "metadata": {},
   "outputs": [
    {
     "name": "stdin",
     "output_type": "stream",
     "text": [
      "¿te gustan los cheetos? si\n"
     ]
    },
    {
     "data": {
      "text/plain": [
       "'si'"
      ]
     },
     "execution_count": 21,
     "metadata": {},
     "output_type": "execute_result"
    }
   ],
   "source": [
    "### input\n",
    "input(\"¿te gustan los cheetos?\")"
   ]
  },
  {
   "cell_type": "code",
   "execution_count": 22,
   "id": "4e13a7bb-52e5-4c67-9d74-31fdb03800d6",
   "metadata": {},
   "outputs": [
    {
     "data": {
      "text/plain": [
       "105"
      ]
     },
     "execution_count": 22,
     "metadata": {},
     "output_type": "execute_result"
    }
   ],
   "source": [
    "### max\n",
    "edades=[10,100,13,20,105,80,23,45,2,37]\n",
    "max(edades)"
   ]
  },
  {
   "cell_type": "code",
   "execution_count": 23,
   "id": "4f302e87-a7a8-47fc-9d31-b571d0b2a69b",
   "metadata": {},
   "outputs": [
    {
     "data": {
      "text/plain": [
       "-82736827392"
      ]
     },
     "execution_count": 23,
     "metadata": {},
     "output_type": "execute_result"
    }
   ],
   "source": [
    "### min\n",
    "min(-82383,-828213873-818737627,-82736827392,0.626272)"
   ]
  },
  {
   "cell_type": "code",
   "execution_count": 29,
   "id": "5fd8a884-1ea7-41e6-9e92-b6c7d6b89db5",
   "metadata": {},
   "outputs": [
    {
     "data": {
      "text/plain": [
       "25"
      ]
     },
     "execution_count": 29,
     "metadata": {},
     "output_type": "execute_result"
    }
   ],
   "source": [
    "### pow\n",
    "pow(5,2)\n",
    "        #--> eleva a la potencia, es como ** \n",
    "                            ##pow(base,exp, mod=?) mod es residuo de (base^exp)=mod"
   ]
  },
  {
   "cell_type": "code",
   "execution_count": 36,
   "id": "96da956a-cfb2-45bb-89ad-f0c7fb334dbd",
   "metadata": {},
   "outputs": [
    {
     "name": "stdout",
     "output_type": "stream",
     "text": [
      "[10, 9, 8, 7, 6, 5, 4, 3, 2, 1]\n"
     ]
    }
   ],
   "source": [
    "### reversed\n",
    "reversear=[1,2,3,4,5,6,7,8,9,10]\n",
    "print(list(reversed(reversear)))\n",
    "                                ### devuelve el reverso solo si lo conviertes a lista"
   ]
  },
  {
   "cell_type": "code",
   "execution_count": 38,
   "id": "8df3930e-656d-4407-b1b2-e2247ce8100e",
   "metadata": {},
   "outputs": [
    {
     "data": {
      "text/plain": [
       "3.1416"
      ]
     },
     "execution_count": 38,
     "metadata": {},
     "output_type": "execute_result"
    }
   ],
   "source": [
    "### round\n",
    "round(3.1415926535897932384626433832795028841, ndigits=4)\n",
    "            #--> redonde al número de decimales que le digas"
   ]
  },
  {
   "cell_type": "code",
   "execution_count": 41,
   "id": "5252370d-7724-4c9a-b11e-985e8f048d4e",
   "metadata": {},
   "outputs": [
    {
     "data": {
      "text/plain": [
       "[-23, 0.8, 1, 2, 3, 4, 5, 7, 8]"
      ]
     },
     "execution_count": 41,
     "metadata": {},
     "output_type": "execute_result"
    }
   ],
   "source": [
    "### sorted\n",
    "listita=[4,7,3,8,0.8,2,-23,5,1]\n",
    "sorted(listita)"
   ]
  },
  {
   "cell_type": "code",
   "execution_count": 47,
   "id": "7165143c-77e5-4389-8f4a-39a62667971d",
   "metadata": {},
   "outputs": [
    {
     "data": {
      "text/plain": [
       "-21536271"
      ]
     },
     "execution_count": 47,
     "metadata": {},
     "output_type": "execute_result"
    }
   ],
   "source": [
    "### sum\n",
    "items_a_sumar=[-39,88,59,1000,-827837873,929283,5363849,-1,7362,800000001]\n",
    "sum(items_a_sumar)"
   ]
  },
  {
   "cell_type": "code",
   "execution_count": null,
   "id": "4f3a2d12-f911-4a75-a48b-c0888c95674e",
   "metadata": {},
   "outputs": [],
   "source": []
  }
 ],
 "metadata": {
  "kernelspec": {
   "display_name": "Python 3 (ipykernel)",
   "language": "python",
   "name": "python3"
  },
  "language_info": {
   "codemirror_mode": {
    "name": "ipython",
    "version": 3
   },
   "file_extension": ".py",
   "mimetype": "text/x-python",
   "name": "python",
   "nbconvert_exporter": "python",
   "pygments_lexer": "ipython3",
   "version": "3.10.4"
  }
 },
 "nbformat": 4,
 "nbformat_minor": 5
}
