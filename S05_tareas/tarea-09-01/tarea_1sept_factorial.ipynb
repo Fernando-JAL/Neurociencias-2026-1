{
 "cells": [
  {
   "cell_type": "code",
   "execution_count": null,
   "id": "7cfc3c62-dead-45ad-800b-a533f3434272",
   "metadata": {},
   "outputs": [],
   "source": [
    "# TAREA 1-sept: Hacer fórmula del factorial con funciones recursivas y suma del factorial"
   ]
  },
  {
   "cell_type": "code",
   "execution_count": 2,
   "id": "438faf28-f54c-4166-b4f1-5f9c7fc9f081",
   "metadata": {},
   "outputs": [],
   "source": [
    "# Función recursiva para el factorial\n",
    "def factorial(n):\n",
    "    if n == 0 or n ==1:\n",
    "        return 1\n",
    "    else:\n",
    "        return n * factorial(n-1)"
   ]
  },
  {
   "cell_type": "code",
   "execution_count": 3,
   "id": "8396ef3d-676d-4c0e-a503-cbcbeb197711",
   "metadata": {},
   "outputs": [
    {
     "data": {
      "text/plain": [
       "120"
      ]
     },
     "execution_count": 3,
     "metadata": {},
     "output_type": "execute_result"
    }
   ],
   "source": [
    "factorial(5)"
   ]
  },
  {
   "cell_type": "code",
   "execution_count": 8,
   "id": "a6849bd9-076b-4766-a42c-94c93d2a4eb3",
   "metadata": {},
   "outputs": [],
   "source": [
    "# Función para sumar factoriales \n",
    "def suma_factoriales(n):\n",
    "    inicio = 0\n",
    "    for i in range(1, n+1):\n",
    "        inicio += factorial(i)\n",
    "    return inicio"
   ]
  },
  {
   "cell_type": "code",
   "execution_count": 9,
   "id": "dc4d91ee-7d73-4962-aef0-f947d91642fe",
   "metadata": {},
   "outputs": [
    {
     "data": {
      "text/plain": [
       "153"
      ]
     },
     "execution_count": 9,
     "metadata": {},
     "output_type": "execute_result"
    }
   ],
   "source": [
    "suma_factoriales(5)"
   ]
  }
 ],
 "metadata": {
  "kernelspec": {
   "display_name": "Python 3 (ipykernel)",
   "language": "python",
   "name": "python3"
  },
  "language_info": {
   "codemirror_mode": {
    "name": "ipython",
    "version": 3
   },
   "file_extension": ".py",
   "mimetype": "text/x-python",
   "name": "python",
   "nbconvert_exporter": "python",
   "pygments_lexer": "ipython3",
   "version": "3.13.7"
  }
 },
 "nbformat": 4,
 "nbformat_minor": 5
}
