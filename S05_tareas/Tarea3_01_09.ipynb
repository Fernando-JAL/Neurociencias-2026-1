{
 "cells": [
  {
   "cell_type": "markdown",
   "id": "2f644c24-42a7-4cea-bbe3-4e95b95df7b4",
   "metadata": {},
   "source": [
    "# Tarea Funciones Recursivas\n",
    "- Sofia Macarena Castillo Badilla\n",
    "\n",
    "Factorial y suma de factorial"
   ]
  },
  {
   "cell_type": "code",
   "execution_count": 20,
   "id": "5bbfcd1d-208d-4c75-88b7-ba5c7c520ae1",
   "metadata": {},
   "outputs": [
    {
     "name": "stdout",
     "output_type": "stream",
     "text": [
      "El factorial de 3 es 6\n"
     ]
    }
   ],
   "source": [
    "def factorial(n):\n",
    "    if n == 0 or n == 1:\n",
    "        return 1\n",
    "    else:\n",
    "        return n * factorial(n - 1)\n",
    "\n",
    "numero = 3\n",
    "print(f\"El factorial de {numero} es {factorial(numero)}\")"
   ]
  },
  {
   "cell_type": "code",
   "execution_count": null,
   "id": "45103512-2af7-44cc-ac55-49f2a9f00ac6",
   "metadata": {},
   "outputs": [],
   "source": []
  },
  {
   "cell_type": "code",
   "execution_count": null,
   "id": "2a688660-fc8e-4b9a-8208-90c51e8461ce",
   "metadata": {},
   "outputs": [],
   "source": []
  },
  {
   "cell_type": "code",
   "execution_count": 19,
   "id": "52dd9316-1be0-47c2-b25f-e5d15c4d2c2f",
   "metadata": {},
   "outputs": [
    {
     "name": "stdout",
     "output_type": "stream",
     "text": [
      "La suma de factoriales hasta 2! es 3\n"
     ]
    }
   ],
   "source": [
    "def factorial(n):\n",
    "    if n == 0 or n == 1:\n",
    "        return 1\n",
    "    return n * factorial(n - 1)\n",
    "\n",
    "# suma factoriales\n",
    "def suma_factoriales(n):\n",
    "    if n == 1:\n",
    "        return 1 \n",
    "    return factorial(n) + suma_factoriales(n - 1)\n",
    "\n",
    "numero = 2\n",
    "print(f\"La suma de factoriales hasta {numero}! es {suma_factoriales(numero)}\")\n"
   ]
  }
 ],
 "metadata": {
  "kernelspec": {
   "display_name": "Python 3 (ipykernel)",
   "language": "python",
   "name": "python3"
  },
  "language_info": {
   "codemirror_mode": {
    "name": "ipython",
    "version": 3
   },
   "file_extension": ".py",
   "mimetype": "text/x-python",
   "name": "python",
   "nbconvert_exporter": "python",
   "pygments_lexer": "ipython3",
   "version": "3.13.6"
  }
 },
 "nbformat": 4,
 "nbformat_minor": 5
}
