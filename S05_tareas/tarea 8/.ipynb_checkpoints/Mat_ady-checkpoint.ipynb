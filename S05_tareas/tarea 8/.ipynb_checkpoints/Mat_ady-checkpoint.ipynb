{
 "cells": [
  {
   "cell_type": "markdown",
   "id": "c5ce4e4c-ed64-4acb-8003-dff51923c14e",
   "metadata": {},
   "source": [
    "### Matriz de correlación de pearson:\n",
    "- medir y visualizar la relación lineal entre múltiples variables cuantitativas\n",
    "- trata de cuantificar la dependencia lineal entre dos variables aleatorias cuantitativas.\n",
    "- Finanzas: Relación entre activos. Medicina: Efecto de fármacos vs. recuperación. Psicometría: relación de rasgos\n",
    "- Investigación genética y genómica: relaciones entre diferentes genes y sus niveles de expresión.\n",
    "- Neurociencia:conectividad funcional entre diferentes regiones del cerebro.\n",
    "### Matriz de coherencia espectral:\n",
    "- analizar la relación entre múltiples señales en el dominio de la frecuencia.Mide qué tan similares son las componentes de frecuencia de las señales, es decir, su coherencia o conexión lógica. \n",
    "- análisis de electroencefalogramas (EEG) para estudiar la actividad cerebral, identificar asimetrías o localizar focos epilépticos.\n",
    "- Permite cuantificar la correlación espacial entre variables\n",
    "### Matriz de phase locking value\n",
    "- medir la conectividad funcional del cerebro a partir de señales de electroencefalografía (EEG), magnetoencefalografía (MEG) y otras bioseñales\n",
    "- mide el grado de sincronía de fase entre dos o más señales en una frecuencia específica, lo que ayuda a entender cómo diferentes regiones cerebrales se comunican entre sí.\n",
    "- Mide sincronía: Cuantifica la sincronización de fase entre señales, no su amplitud.\n",
    "Es no direccional: El PLV estándar no indica la dirección de la influencia, solo la existencia de la sincronía. 0-1"
   ]
  },
  {
   "cell_type": "markdown",
   "id": "29c6b8ac-80b5-47bd-afb9-d79c9e9bafb1",
   "metadata": {},
   "source": [
    "#### coherence(x, y, fs=1.0, window='hann', nperseg=None, noverlap=None, nfft=None, detrend='constant', axis=-1)\n",
    "##### Parametros:\n",
    "- x:Series temporales de valores de medición\n",
    "\n",
    "- y: Series temporales de valores de medición\n",
    "\n",
    "- fsfloat: Frecuencia de muestreo de las series temporales x e y. Defectos a 1.0.\n",
    "\n",
    "- window: Ventana deseada para usar. Si window es una cadena o tupla, es para generar los valores de ventana, que son DFT-incluso de forma predeterminada. Consulte para obtener una lista de ventanas y parámetros obligatorios. Si la ventana está array_like se usará directamente como la ventana y su longitud deben ser nperseg. Defectos a una ventana de Hann.\n",
    "\n",
    "- nperseg: Longitud de cada segmento. El valor predeterminado es None, pero si window es str o tupla, se establece en 256, y si window es array_like, se establece en el longitud de la ventana.\n",
    "\n",
    "- noverlap: Número de puntos que se superponen entre segmentos. Si es Ninguno, . El valor predeterminado es Ninguno.noverlap = nperseg // 2\n",
    "\n",
    "- nfftint: Longitud de la FFT utilizada, si se desea una FFT acolchada por cero. Si es None, la longitud de FFT es nperseg. El valor predeterminado es Ninguno.\n",
    "\n",
    "- detrend: Especifica cómo quitar la tendencia de cada segmento. Si es un string, se pasa como argumento de tipo a la función. Si es una función, toma un segmento y devuelve un segmento sin tendencia. Si es False, no hay eliminación de tendencia hecho. El valor predeterminado es 'constante'.\n",
    "\n",
    "- Axis: Eje a lo largo del cual se calcula la coherencia para ambas entradas; el por defecto está sobre el último eje (es decir, ).axis=-1"
   ]
  },
  {
   "cell_type": "code",
   "execution_count": null,
   "id": "055408d0-c194-439e-aa66-bea8c6c44d7d",
   "metadata": {},
   "outputs": [],
   "source": []
  }
 ],
 "metadata": {
  "kernelspec": {
   "display_name": "Python 3 (ipykernel)",
   "language": "python",
   "name": "python3"
  },
  "language_info": {
   "codemirror_mode": {
    "name": "ipython",
    "version": 3
   },
   "file_extension": ".py",
   "mimetype": "text/x-python",
   "name": "python",
   "nbconvert_exporter": "python",
   "pygments_lexer": "ipython3",
   "version": "3.10.4"
  }
 },
 "nbformat": 4,
 "nbformat_minor": 5
}
