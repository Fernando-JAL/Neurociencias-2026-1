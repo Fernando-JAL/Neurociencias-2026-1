{
 "cells": [
  {
   "cell_type": "markdown",
   "id": "2f644c24-42a7-4cea-bbe3-4e95b95df7b4",
   "metadata": {},
   "source": [
    "# Tarea Funciones Recursivas\n",
    "#### MARINAA AHYLLÓN lÓPEZ\n",
    "\n",
    "Factorial y suma de factorial"
   ]
  },
  {
   "cell_type": "code",
   "execution_count": 5,
   "id": "42f64da6-94f6-48a3-9aeb-3bc4931554b8",
   "metadata": {},
   "outputs": [
    {
     "data": {
      "text/plain": [
       "6"
      ]
     },
     "execution_count": 5,
     "metadata": {},
     "output_type": "execute_result"
    }
   ],
   "source": [
    "def factorial(n):\n",
    "    if n == 0 or n == 1:\n",
    "        return 1\n",
    "    else:\n",
    "        return n * factorial(n - 1)\n",
    "\n",
    "numero = 3\n",
    "factorial(numero)"
   ]
  },
  {
   "cell_type": "code",
   "execution_count": 1,
   "id": "45103512-2af7-44cc-ac55-49f2a9f00ac6",
   "metadata": {},
   "outputs": [
    {
     "data": {
      "text/plain": [
       "155"
      ]
     },
     "execution_count": 1,
     "metadata": {},
     "output_type": "execute_result"
    }
   ],
   "source": [
    "# Suma potencias de 5\n",
    "def suma_potencias(base, exponente):\n",
    "    if exponente == 0:\n",
    "        return 0\n",
    "    else: \n",
    "        return base ** exponente + suma_potencias(base, exponente - 1)\n",
    "\n",
    "base = 5\n",
    "exponente_max = 3\n",
    "\n",
    "suma_potencias(base, exponente_max)"
   ]
  }
 ],
 "metadata": {
  "kernelspec": {
   "display_name": "Python 3 (ipykernel)",
   "language": "python",
   "name": "python3"
  },
  "language_info": {
   "codemirror_mode": {
    "name": "ipython",
    "version": 3
   },
   "file_extension": ".py",
   "mimetype": "text/x-python",
   "name": "python",
   "nbconvert_exporter": "python",
   "pygments_lexer": "ipython3",
   "version": "3.10.4"
  }
 },
 "nbformat": 4,
 "nbformat_minor": 5
}
