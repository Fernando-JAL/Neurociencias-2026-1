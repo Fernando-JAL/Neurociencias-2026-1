{
 "cells": [
  {
   "cell_type": "code",
   "execution_count": 1,
   "id": "86794251-2507-49fa-bf47-88d83af7b770",
   "metadata": {},
   "outputs": [
    {
     "name": "stdout",
     "output_type": "stream",
     "text": [
      "True\n"
     ]
    }
   ],
   "source": [
    "# ¿Todos los números son mayores que 0?\n",
    "numeros = [2, 4, 5, 8]\n",
    "resultado = all(n > 0 for n in numeros)\n",
    "print(resultado)  \n"
   ]
  },
  {
   "cell_type": "code",
   "execution_count": 2,
   "id": "56c473d7-358a-4f03-9fd1-92f1077fddad",
   "metadata": {},
   "outputs": [
    {
     "name": "stdout",
     "output_type": "stream",
     "text": [
      "True\n"
     ]
    }
   ],
   "source": [
    "# ¿Hay algún número par?\n",
    "numeros = [1, 3, 5, 6]\n",
    "resultado = any(n % 2 == 0 for n in numeros)\n",
    "print(resultado)  \n"
   ]
  },
  {
   "cell_type": "code",
   "execution_count": 3,
   "id": "bd9fae6b-e525-4513-a179-2ce5c66d1c88",
   "metadata": {},
   "outputs": [
    {
     "name": "stdout",
     "output_type": "stream",
     "text": [
      "Diferencia sin signo: 15\n"
     ]
    }
   ],
   "source": [
    "diferencia = abs(10 - 25)\n",
    "print(\"Diferencia sin signo:\", diferencia)  \n"
   ]
  },
  {
   "cell_type": "code",
   "execution_count": 5,
   "id": "0461f6dc-88e4-4426-b5f5-da8b59048abf",
   "metadata": {},
   "outputs": [
    {
     "name": "stdin",
     "output_type": "stream",
     "text": [
      "¿Cuál es tu edad?  21\n"
     ]
    },
    {
     "name": "stdout",
     "output_type": "stream",
     "text": [
      "Eres mayor de edad.\n"
     ]
    }
   ],
   "source": [
    "#input\n",
    "edad = int(input(\"¿Cuál es tu edad? \"))\n",
    "if edad >= 18:\n",
    "    print(\"Eres mayor de edad.\")\n",
    "else:\n",
    "    print(\"Eres menor de edad.\")\n"
   ]
  },
  {
   "cell_type": "code",
   "execution_count": 6,
   "id": "aa60d2a5-2f5d-499f-aedd-d6695c74025b",
   "metadata": {},
   "outputs": [
    {
     "name": "stdout",
     "output_type": "stream",
     "text": [
      "Nota más alta: 90\n"
     ]
    }
   ],
   "source": [
    "#max\n",
    "calificaciones = [70, 85, 90, 88]\n",
    "print(\"Nota más alta:\", max(calificaciones))  \n"
   ]
  },
  {
   "cell_type": "code",
   "execution_count": 7,
   "id": "b84ba4bd-5af2-45e3-b5ae-3b0af500f9fd",
   "metadata": {},
   "outputs": [
    {
     "name": "stdout",
     "output_type": "stream",
     "text": [
      "Nota más baja: 70\n"
     ]
    }
   ],
   "source": [
    "#min\n",
    "calificaciones = [70, 85, 90, 88]\n",
    "print(\"Nota más baja:\", min(calificaciones))  \n"
   ]
  },
  {
   "cell_type": "code",
   "execution_count": 8,
   "id": "c60c1baa-2d59-49f9-b5d5-e292fd245e68",
   "metadata": {},
   "outputs": [
    {
     "name": "stdout",
     "output_type": "stream",
     "text": [
      "3^4 = 4782969\n"
     ]
    }
   ],
   "source": [
    "#Pow\n",
    "base = 9\n",
    "exponente = 7\n",
    "resultado = pow(base, exponente)\n",
    "print(\"3^4 =\", resultado)  \n"
   ]
  },
  {
   "cell_type": "code",
   "execution_count": 9,
   "id": "922a79a3-67b4-4b2e-943a-890b443fdd53",
   "metadata": {},
   "outputs": [
    {
     "name": "stdout",
     "output_type": "stream",
     "text": [
      "odot edreV\n"
     ]
    }
   ],
   "source": [
    "#reversed\n",
    "palabra = \"Verde todo\"\n",
    "invertida = \"\".join(reversed(palabra))\n",
    "print(invertida)  \n"
   ]
  },
  {
   "cell_type": "code",
   "execution_count": 10,
   "id": "e222c845-f000-4058-a53e-9bf9496ffb2b",
   "metadata": {},
   "outputs": [
    {
     "name": "stdout",
     "output_type": "stream",
     "text": [
      "20\n",
      "19.88\n"
     ]
    }
   ],
   "source": [
    "#round redondear\n",
    "precio = 19.876\n",
    "print(round(precio))      \n",
    "print(round(precio, 2))   \n"
   ]
  },
  {
   "cell_type": "code",
   "execution_count": 11,
   "id": "cd6b64db-3a8a-4f66-8e47-0f02fac31319",
   "metadata": {},
   "outputs": [
    {
     "name": "stdout",
     "output_type": "stream",
     "text": [
      "['Anette', 'Lucy', 'Nicole', 'Xime']\n"
     ]
    }
   ],
   "source": [
    "#sorted ordenar\n",
    "nombres = [\"Xime\", \"Nicole\", \"Lucy\", \"Anette\"]\n",
    "ordenados = sorted(nombres)\n",
    "print(ordenados)  \n"
   ]
  },
  {
   "cell_type": "code",
   "execution_count": 12,
   "id": "63c4994c-0fc9-4399-90e2-7dc681f99816",
   "metadata": {},
   "outputs": [
    {
     "name": "stdout",
     "output_type": "stream",
     "text": [
      "Total vendido: 750\n"
     ]
    }
   ],
   "source": [
    "#sum sumar elementos\n",
    "ventas = [100, 200, 150, 300]\n",
    "total = sum(ventas)\n",
    "print(\"Total vendido:\", total) \n"
   ]
  },
  {
   "cell_type": "code",
   "execution_count": null,
   "id": "72fd8497-1544-4a55-9bdf-a343270977b2",
   "metadata": {},
   "outputs": [],
   "source": []
  }
 ],
 "metadata": {
  "kernelspec": {
   "display_name": "Python 3 (ipykernel)",
   "language": "python",
   "name": "python3"
  },
  "language_info": {
   "codemirror_mode": {
    "name": "ipython",
    "version": 3
   },
   "file_extension": ".py",
   "mimetype": "text/x-python",
   "name": "python",
   "nbconvert_exporter": "python",
   "pygments_lexer": "ipython3",
   "version": "3.10.4"
  }
 },
 "nbformat": 4,
 "nbformat_minor": 5
}
