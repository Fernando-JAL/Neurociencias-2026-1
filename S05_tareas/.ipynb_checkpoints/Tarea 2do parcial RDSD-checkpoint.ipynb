{
 "cells": [
  {
   "cell_type": "code",
   "execution_count": 79,
   "id": "49788500-0b09-48b0-a1f4-30de701eeb9d",
   "metadata": {},
   "outputs": [],
   "source": [
    "import pandas as pd\n",
    "import numpy as np\n",
    "import matplotlib.pyplot as plt"
   ]
  },
  {
   "cell_type": "code",
   "execution_count": null,
   "id": "e624884e-93ea-4599-ac32-bdb2d48fd97d",
   "metadata": {},
   "outputs": [],
   "source": [
    "def ex1_concat_same_structure():\n",
    "    df1 = pd.DataFrame({'A':['1A', '2A', '3A'],'B':['1B', '2B','3B'],'C':['1C', '2C','3C']})\n",
    "    df2 = pd.DataFrame({'A':['6A', '7A', '8A'],'B':['6B', '7B', '8B'],'C':['6C', '7C', '8C']})\n",
    "    df3 = pd.concat([df1,df2], ignore_index= True)\n",
    "    return df3\n",
    "\n",
    "ex1_concat_same_structure()"
   ]
  },
  {
   "cell_type": "code",
   "execution_count": 170,
   "id": "b0eb73e1-d43a-4605-9cd0-d56b26bb7ba5",
   "metadata": {},
   "outputs": [
    {
     "data": {
      "text/html": [
       "<div>\n",
       "<style scoped>\n",
       "    .dataframe tbody tr th:only-of-type {\n",
       "        vertical-align: middle;\n",
       "    }\n",
       "\n",
       "    .dataframe tbody tr th {\n",
       "        vertical-align: top;\n",
       "    }\n",
       "\n",
       "    .dataframe thead th {\n",
       "        text-align: right;\n",
       "    }\n",
       "</style>\n",
       "<table border=\"1\" class=\"dataframe\">\n",
       "  <thead>\n",
       "    <tr style=\"text-align: right;\">\n",
       "      <th></th>\n",
       "      <th>Producto</th>\n",
       "      <th>Ventas</th>\n",
       "      <th>Mes</th>\n",
       "    </tr>\n",
       "  </thead>\n",
       "  <tbody>\n",
       "    <tr>\n",
       "      <th>0</th>\n",
       "      <td>A</td>\n",
       "      <td>100</td>\n",
       "      <td>Enero</td>\n",
       "    </tr>\n",
       "    <tr>\n",
       "      <th>1</th>\n",
       "      <td>B</td>\n",
       "      <td>200</td>\n",
       "      <td>Enero</td>\n",
       "    </tr>\n",
       "    <tr>\n",
       "      <th>2</th>\n",
       "      <td>C</td>\n",
       "      <td>150</td>\n",
       "      <td>Enero</td>\n",
       "    </tr>\n",
       "    <tr>\n",
       "      <th>3</th>\n",
       "      <td>A</td>\n",
       "      <td>120</td>\n",
       "      <td>Febrero</td>\n",
       "    </tr>\n",
       "    <tr>\n",
       "      <th>4</th>\n",
       "      <td>B</td>\n",
       "      <td>180</td>\n",
       "      <td>Febrero</td>\n",
       "    </tr>\n",
       "    <tr>\n",
       "      <th>5</th>\n",
       "      <td>C</td>\n",
       "      <td>160</td>\n",
       "      <td>Febrero</td>\n",
       "    </tr>\n",
       "  </tbody>\n",
       "</table>\n",
       "</div>"
      ],
      "text/plain": [
       "  Producto  Ventas      Mes\n",
       "0        A     100    Enero\n",
       "1        B     200    Enero\n",
       "2        C     150    Enero\n",
       "3        A     120  Febrero\n",
       "4        B     180  Febrero\n",
       "5        C     160  Febrero"
      ]
     },
     "execution_count": 170,
     "metadata": {},
     "output_type": "execute_result"
    }
   ],
   "source": [
    "def ex2_concat_with_month_column():\n",
    "    df_enero = pd.DataFrame({\n",
    "        'Producto': ['A', 'B', 'C'],\n",
    "        'Ventas': [100, 200, 150]\n",
    "    })\n",
    "    \n",
    "    df_febrero = pd.DataFrame({\n",
    "        'Producto': ['A', 'B', 'C'],\n",
    "        'Ventas': [120, 180, 160]\n",
    "    })\n",
    "    \n",
    "    df_enero['Mes'] = 'Enero'\n",
    "    df_febrero['Mes'] = 'Febrero'\n",
    "    \n",
    "    df_total = pd.concat([df_enero, df_febrero], ignore_index=True)\n",
    "    return df_total\n",
    "    \n",
    "ex2_concat_with_month_column()"
   ]
  },
  {
   "cell_type": "code",
   "execution_count": null,
   "id": "b0344a63-0964-4606-9721-a9e388a8d88d",
   "metadata": {},
   "outputs": [],
   "source": [
    "def ex3_concat_diff_columns_fillna():\n",
    "    data = np.random.randint(0,30, size = [3,2])\n",
    "    df1 = pd.DataFrame(columns = ['Producto', 'Ventas'], data = data)\n",
    "    data = np.random.randint(0,30, size = [3,2])\n",
    "    df2 = pd.DataFrame(columns = ['Producto', 'Descuento'], data = data)\n",
    "    df3 = pd.concat([df1,df2], ignore_index= True)\n",
    "    df3 = df3.fillna(0)\n",
    "    return df3\n",
    "\n",
    "ex3_concat_diff_columns_fillna()"
   ]
  },
  {
   "cell_type": "code",
   "execution_count": null,
   "id": "6da4b32e-b43d-4684-829c-cd8d67b0f4a1",
   "metadata": {},
   "outputs": [],
   "source": [
    "def ex4_concat_three_groups():\n",
    "    data = np.random.randint(0,10, size = [3,3])\n",
    "    df1 = pd.DataFrame(columns = ['Alumno1', 'Alumno2', 'Alumno3'], data = data, \n",
    "                       index = ['Materia1','Materia2','Materia3'])\n",
    "    data = np.random.randint(0,10, size = [3,3])\n",
    "    df2 = pd.DataFrame(columns = ['Alumno3', 'Alumno4', 'Alumno5'], data = data, \n",
    "                       index = ['Materia1','Materia2','Materia3'])\n",
    "    data = np.random.randint(0,10, size = [3,3])\n",
    "    df3 = pd.DataFrame(columns = ['Alumno6', 'Alumno7', 'Alumno8'], data = data, \n",
    "                       index = ['Materia1','Materia2','Materia3'])\n",
    "    df4 = pd.concat([df1.T,df2.T,df3.T])\n",
    "    df4 = df4.T\n",
    "    return df4\n",
    "ex4_concat_three_groups()"
   ]
  },
  {
   "cell_type": "code",
   "execution_count": 56,
   "id": "edc629db-f748-4a64-b1b4-afde7d6cf768",
   "metadata": {},
   "outputs": [
    {
     "data": {
      "text/plain": [
       "[3, 5, 67, 12, 21, 8, 90, 13, 4, 1, 2, 9, 15, 6]"
      ]
     },
     "execution_count": 56,
     "metadata": {},
     "output_type": "execute_result"
    }
   ],
   "source": [
    "def ex5_remove_duplicates_preserve_order(lst):\n",
    "    lista2 = []\n",
    "    for numero in lst:\n",
    "        if numero not in lista2:\n",
    "            lista2.append(numero)\n",
    "    return lista2\n",
    "lista = [3,3,5,67,12,21,5,5,8,90,12,90,13,21,3,4,67,4,1,2,9,15,21,8,6,3,1]\n",
    "ex5_remove_duplicates_preserve_order(lista)"
   ]
  },
  {
   "cell_type": "code",
   "execution_count": 36,
   "id": "abb39a4e-218c-42bd-99d2-4e2782b914a6",
   "metadata": {},
   "outputs": [
    {
     "data": {
      "text/plain": [
       "[('b', 1), ('c', 2), ('a', 3)]"
      ]
     },
     "execution_count": 36,
     "metadata": {},
     "output_type": "execute_result"
    }
   ],
   "source": [
    "def ex6_sort_tuples_by_second_element(tuples_list):\n",
    "    return sorted(tuples_list, key=lambda x: x[1])\n",
    "\n",
    "tup_list = [(\"a\", 3), (\"b\", 1), (\"c\", 2)]\n",
    "ex6_sort_tuples_by_second_element(tup_list)"
   ]
  },
  {
   "cell_type": "code",
   "execution_count": 42,
   "id": "36a8fd06-4843-430f-90cf-71bd8a07ffa2",
   "metadata": {},
   "outputs": [
    {
     "data": {
      "text/plain": [
       "[7, 14, 21, 28, 35, 42, 49, 56]"
      ]
     },
     "execution_count": 42,
     "metadata": {},
     "output_type": "execute_result"
    }
   ],
   "source": [
    "def ex7_first_n_multiples_of_7(n):\n",
    "    maxi = 7*n\n",
    "    i = 0\n",
    "    lista = []\n",
    "    for j in range(n):\n",
    "        lista.append(maxi-(7*i))\n",
    "        i +=1\n",
    "    lista.sort(reverse=False)\n",
    "    return lista\n",
    "\n",
    "ex7_first_n_multiples_of_7(8)"
   ]
  },
  {
   "cell_type": "code",
   "execution_count": 44,
   "id": "f17edbf8-b1c8-48f0-8d2e-3de2eed97e0e",
   "metadata": {},
   "outputs": [
    {
     "data": {
      "text/plain": [
       "['reconocer', 'ana', 'lol', 'oso']"
      ]
     },
     "execution_count": 44,
     "metadata": {},
     "output_type": "execute_result"
    }
   ],
   "source": [
    "def ex8_filter_palindromes(strings):\n",
    "    lista = []\n",
    "    for string in strings:\n",
    "        if string == string[::-1]:\n",
    "            lista.append(string)\n",
    "    return lista\n",
    "\n",
    "strings = ['reconocer', 'ana', 'seis', 'hola', 'yo', 'lol', 'risa', 'oso'] \n",
    "ex8_filter_palindromes(strings)"
   ]
  },
  {
   "cell_type": "code",
   "execution_count": 50,
   "id": "cace5277-2d2e-4931-8bcf-12a0b9dc5f27",
   "metadata": {},
   "outputs": [
    {
     "data": {
      "text/plain": [
       "([5, 6, 7, 8, 9, 0], [1, 2, 3, 4])"
      ]
     },
     "execution_count": 50,
     "metadata": {},
     "output_type": "execute_result"
    }
   ],
   "source": [
    "def ex9_set_intersection_and_difference(set_a, set_b):\n",
    "    inter =  []\n",
    "    dif = []\n",
    "    for elemento in set_a:\n",
    "        if elemento in set_b:\n",
    "            inter.append(elemento)\n",
    "        else:\n",
    "            dif.append(elemento)\n",
    "    tupla = (inter,dif)\n",
    "    return tupla\n",
    "\n",
    "set_a = [1,2,3,4,5,6,7,8,9,0]\n",
    "set_b = [5,6,7,8,9,0,11,12,13]\n",
    "ex9_set_intersection_and_difference(set_a, set_b)"
   ]
  },
  {
   "cell_type": "code",
   "execution_count": 54,
   "id": "76910d9b-f9e7-4e74-8396-0c73fa23e43f",
   "metadata": {},
   "outputs": [
    {
     "data": {
      "text/plain": [
       "True"
      ]
     },
     "execution_count": 54,
     "metadata": {},
     "output_type": "execute_result"
    }
   ],
   "source": [
    "def ex10_is_subset(set_a, set_b):\n",
    "    for elemento in set_a:\n",
    "        if elemento not in set_b:\n",
    "            return False\n",
    "    return True\n",
    "\n",
    "set_a = [5,6,7,8,9,0]\n",
    "set_b = [5,6,7,8,9,0,11,12,13]\n",
    "ex10_is_subset(set_a, set_b)"
   ]
  },
  {
   "cell_type": "code",
   "execution_count": 55,
   "id": "f9364f87-66d5-422c-bad3-1b6cc303eb9d",
   "metadata": {},
   "outputs": [
    {
     "data": {
      "text/plain": [
       "14"
      ]
     },
     "execution_count": 55,
     "metadata": {},
     "output_type": "execute_result"
    }
   ],
   "source": [
    "def ex11_count_unique_elements(lst):\n",
    "    result = set(lst)\n",
    "    return len(result)\n",
    "lista = [3,3,5,67,12,21,5,5,8,90,12,90,13,21,3,4,67,4,1,2,9,15,21,8,6,3,1]\n",
    "ex11_count_unique_elements(lista)"
   ]
  },
  {
   "cell_type": "code",
   "execution_count": 65,
   "id": "7c7e9bb6-6047-47a4-92eb-4f1f1a89aefa",
   "metadata": {},
   "outputs": [
    {
     "data": {
      "text/plain": [
       "{'estoy', 'haciendo', 'no', 'python', 'tardé', 'ya'}"
      ]
     },
     "execution_count": 65,
     "metadata": {},
     "output_type": "execute_result"
    }
   ],
   "source": [
    "def ex12_unique_words_from_phrases(phrases):\n",
    "    lista = []\n",
    "    for frase in phrases:\n",
    "        palabras = frase.split(sep=' ')\n",
    "        for palabra in palabras:\n",
    "            lista.append(palabra)\n",
    "        lista_unica = [p for p in lista if lista.count(p) == 1]\n",
    "    return set(lista_unica)\n",
    "\n",
    "phrases = ['estoy haciendo esto','ya tardé mucho','no me gusta esto','python me gusta mucho']\n",
    "ex12_unique_words_from_phrases(phrases)"
   ]
  },
  {
   "cell_type": "code",
   "execution_count": 73,
   "id": "73a52e2c-c78f-439e-859f-c545568131ee",
   "metadata": {},
   "outputs": [
    {
     "data": {
      "text/plain": [
       "49"
      ]
     },
     "execution_count": 73,
     "metadata": {},
     "output_type": "execute_result"
    }
   ],
   "source": [
    "def ex15_sum_of_tuple_abc(t):\n",
    "    return sum(t)\n",
    "\n",
    "\n",
    "t = (45,2,2)\n",
    "ex15_sum_of_tuple_abc(t)"
   ]
  },
  {
   "cell_type": "code",
   "execution_count": 75,
   "id": "dde61955-9d2b-40b2-b8e4-e221b157cb24",
   "metadata": {},
   "outputs": [
    {
     "data": {
      "text/plain": [
       "[('agua', 12), ('pan', 32), ('leche', 45), ('galletas', 65)]"
      ]
     },
     "execution_count": 75,
     "metadata": {},
     "output_type": "execute_result"
    }
   ],
   "source": [
    "def ex16_sort_product_price(prod_price_list):\n",
    "    return sorted(prod_price_list, key=lambda x: x[1])\n",
    "\n",
    "lista_tup = [('leche', 45), ('pan', 32), ('agua',12), ('galletas', 65)]\n",
    "ex16_sort_product_price(lista_tup)"
   ]
  },
  {
   "cell_type": "code",
   "execution_count": 90,
   "id": "db180a74-b754-49f6-b1e2-c0e1c7f1c5e5",
   "metadata": {},
   "outputs": [
    {
     "data": {
      "text/plain": [
       "{'e': 8,\n",
       " 'l': 4,\n",
       " ' ': 7,\n",
       " 'u': 4,\n",
       " 'r': 5,\n",
       " 'a': 6,\n",
       " 'n': 6,\n",
       " 'i': 4,\n",
       " 'o': 3,\n",
       " 'q': 1,\n",
       " 'c': 5,\n",
       " 'd': 1,\n",
       " 'h': 1,\n",
       " 'f': 1,\n",
       " 's': 3,\n",
       " 't': 1}"
      ]
     },
     "execution_count": 90,
     "metadata": {},
     "output_type": "execute_result"
    }
   ],
   "source": [
    "s = 'el uranio enriquecido hace funcionar las centrales nucleares'\n",
    "def ex17_char_frequency(s):\n",
    "    freq = {}\n",
    "    for char in s:\n",
    "        if char in freq:\n",
    "            freq[char] += 1 \n",
    "        else:\n",
    "            freq[char] = 1 \n",
    "    return freq\n",
    "        \n",
    "ex17_char_frequency(s)"
   ]
  },
  {
   "cell_type": "code",
   "execution_count": 104,
   "id": "d8994c45-e428-47cc-a438-e8618950ec37",
   "metadata": {},
   "outputs": [
    {
     "data": {
      "text/plain": [
       "'Alumno6'"
      ]
     },
     "execution_count": 104,
     "metadata": {},
     "output_type": "execute_result"
    }
   ],
   "source": [
    "dictt = {'Alumno1':np.random.randint(0,10),\n",
    "       'Alumno2':np.random.randint(0,10),\n",
    "       'Alumno3':np.random.randint(0,10),\n",
    "       'Alumno4':np.random.randint(0,10),\n",
    "       'Alumno5':np.random.randint(0,10),\n",
    "       'Alumno6':np.random.randint(0,10)}\n",
    "def ex18_best_student(grades_dict):\n",
    "    lista = []\n",
    "    lista = sorted(dictt, key = dictt.get)\n",
    "    r=lista[0]\n",
    "    return lista[0]\n",
    "\n",
    "ex18_best_student(dictt)"
   ]
  },
  {
   "cell_type": "code",
   "execution_count": 113,
   "id": "10c7671a-8b73-45dd-86e7-c7db95611719",
   "metadata": {},
   "outputs": [
    {
     "name": "stdout",
     "output_type": "stream",
     "text": [
      "{10: 'Alumno1', 5: 'Alumno2', 6: 'Alumno3', 9: 'Alumno4', 8: 'Alumno5', 4: 'Alumno6'}\n"
     ]
    }
   ],
   "source": [
    "def ex19_invert_dictionary(d):\n",
    "    dicc = {}\n",
    "    for clave, valor in d.items():  \n",
    "        dicc[valor] = clave         \n",
    "    return dicc\n",
    "\n",
    "dictt = {'Alumno1':10,\n",
    "         'Alumno2':5,\n",
    "         'Alumno3':6,\n",
    "         'Alumno4':9,\n",
    "         'Alumno5':8,\n",
    "         'Alumno6':4}\n",
    "\n",
    "print(ex19_invert_dictionary(dictt))\n",
    "\n"
   ]
  },
  {
   "cell_type": "code",
   "execution_count": 119,
   "id": "08c9e8bb-ee28-4f32-8880-052833767da1",
   "metadata": {},
   "outputs": [
    {
     "data": {
      "text/plain": [
       "{'Alumno1': 11,\n",
       " 'Alumno2': 5,\n",
       " 'Alumno3': 14,\n",
       " 'Alumno4': 9,\n",
       " 'Alumno5': 13,\n",
       " 'Alumno6': 6,\n",
       " 'Alumno8': 9,\n",
       " 'Alumno7': 8}"
      ]
     },
     "execution_count": 119,
     "metadata": {},
     "output_type": "execute_result"
    }
   ],
   "source": [
    "dictt1 = {'Alumno1':10,\n",
    "         'Alumno2':5,\n",
    "         'Alumno3':6,\n",
    "         'Alumno4':9,\n",
    "         'Alumno5':8,\n",
    "         'Alumno6':4}\n",
    "dictt2 = {'Alumno1':1,\n",
    "         'Alumno5':5,\n",
    "         'Alumno3':8,\n",
    "         'Alumno8':9,\n",
    "         'Alumno7':8,\n",
    "         'Alumno6':2}\n",
    "def ex20_merge_dicts_sum_values(d1, d2):\n",
    "    listak1 = list(dictt1.keys())\n",
    "    listak2 = list(dictt2.keys())\n",
    "    listak = listak1 + listak2\n",
    "    dictt3 = {}\n",
    "    for key in listak:\n",
    "        dictt3[key] = dictt3[key] = d1.get(key, 0) + d2.get(key, 0)\n",
    "    return dictt3\n",
    "\n",
    "ex20_merge_dicts_sum_values(dictt1, dictt2)"
   ]
  },
  {
   "cell_type": "code",
   "execution_count": 123,
   "id": "85776ff1-974d-4983-be5e-7ccc1efe0a88",
   "metadata": {},
   "outputs": [
    {
     "data": {
      "text/plain": [
       "array([0., 0., 0., 0., 1., 0., 0., 0., 0., 0.])"
      ]
     },
     "execution_count": 123,
     "metadata": {},
     "output_type": "execute_result"
    }
   ],
   "source": [
    "def ex21_numpy_array_set_fifth():\n",
    "    zeros = np.zeros(10)\n",
    "    zeros[4] = 1\n",
    "    return zeros\n",
    "\n",
    "ex21_numpy_array_set_fifth()"
   ]
  },
  {
   "cell_type": "code",
   "execution_count": 124,
   "id": "06d8ad58-c8ee-409d-8bc7-88528e8e7c24",
   "metadata": {},
   "outputs": [
    {
     "data": {
      "text/plain": [
       "array([[0, 1, 2],\n",
       "       [3, 4, 5],\n",
       "       [6, 7, 8]])"
      ]
     },
     "execution_count": 124,
     "metadata": {},
     "output_type": "execute_result"
    }
   ],
   "source": [
    "def ex22_numpy_matrix_3x3():\n",
    "    matriz = np.arange(9).reshape(3, 3)\n",
    "    return matriz\n",
    "ex22_numpy_matrix_3x3()"
   ]
  },
  {
   "cell_type": "code",
   "execution_count": 135,
   "id": "9cacfdbb-3d4b-42f2-af31-34d0ac2a89e0",
   "metadata": {},
   "outputs": [
    {
     "data": {
      "text/plain": [
       "(np.float64(11.55), np.float64(12.5), np.float64(5.499772722576815))"
      ]
     },
     "execution_count": 135,
     "metadata": {},
     "output_type": "execute_result"
    }
   ],
   "source": [
    "def ex23_numpy_statistics():\n",
    "    mat = np.random.randint(0,20,size = 20)\n",
    "    mean, median, sd = np.mean(mat), np.median(mat), np.std(mat)\n",
    "    result = (mean, median, sd)\n",
    "    return result\n",
    "ex23_numpy_statistics()"
   ]
  },
  {
   "cell_type": "code",
   "execution_count": 138,
   "id": "1ef14cee-b3ac-4279-88f5-c1fc83d11566",
   "metadata": {},
   "outputs": [
    {
     "data": {
      "text/plain": [
       "array([10,  1,  9,  2,  4, 10, 10,  1, 10, 10, 10,  8, 10,  1,  3, 10, 10,\n",
       "       10,  4,  0], dtype=int32)"
      ]
     },
     "execution_count": 138,
     "metadata": {},
     "output_type": "execute_result"
    }
   ],
   "source": [
    "mat = np.random.randint(0,20,size = 20)\n",
    "def ex24_numpy_clip_values(arr):\n",
    "    return np.clip(arr, a_min=None, a_max=10)\n",
    "\n",
    "ex24_numpy_clip_values(mat)"
   ]
  },
  {
   "cell_type": "code",
   "execution_count": 147,
   "id": "0faf6d79-2629-447d-8fc2-d42f8162e048",
   "metadata": {},
   "outputs": [
    {
     "data": {
      "text/html": [
       "<div>\n",
       "<style scoped>\n",
       "    .dataframe tbody tr th:only-of-type {\n",
       "        vertical-align: middle;\n",
       "    }\n",
       "\n",
       "    .dataframe tbody tr th {\n",
       "        vertical-align: top;\n",
       "    }\n",
       "\n",
       "    .dataframe thead th {\n",
       "        text-align: right;\n",
       "    }\n",
       "</style>\n",
       "<table border=\"1\" class=\"dataframe\">\n",
       "  <thead>\n",
       "    <tr style=\"text-align: right;\">\n",
       "      <th></th>\n",
       "      <th>Nombre</th>\n",
       "      <th>Edad</th>\n",
       "      <th>Ciudad</th>\n",
       "    </tr>\n",
       "  </thead>\n",
       "  <tbody>\n",
       "    <tr>\n",
       "      <th>1</th>\n",
       "      <td>Juan</td>\n",
       "      <td>31</td>\n",
       "      <td>Irapuato</td>\n",
       "    </tr>\n",
       "    <tr>\n",
       "      <th>3</th>\n",
       "      <td>Roy</td>\n",
       "      <td>54</td>\n",
       "      <td>Torreón</td>\n",
       "    </tr>\n",
       "  </tbody>\n",
       "</table>\n",
       "</div>"
      ],
      "text/plain": [
       "  Nombre  Edad    Ciudad\n",
       "1   Juan    31  Irapuato\n",
       "3    Roy    54   Torreón"
      ]
     },
     "execution_count": 147,
     "metadata": {},
     "output_type": "execute_result"
    }
   ],
   "source": [
    "def ex25_filter_rows_age_over_30():\n",
    "    df = pd.DataFrame({'Nombre':['Rodrigo', 'Juan', 'Pablo', 'Roy'],\n",
    "                 'Edad':[14,31,28,54],\n",
    "                'Ciudad':['Acapulco', 'Irapuato', 'San José de los Olvera', 'Torreón']})\n",
    "    df2 = df[df.Edad > 30]\n",
    "    return df2\n",
    "\n",
    "ex25_filter_rows_age_over_30()"
   ]
  },
  {
   "cell_type": "code",
   "execution_count": 153,
   "id": "7f2b0c63-4663-4339-8aac-e55ca3d71bbe",
   "metadata": {},
   "outputs": [
    {
     "data": {
      "text/html": [
       "<div>\n",
       "<style scoped>\n",
       "    .dataframe tbody tr th:only-of-type {\n",
       "        vertical-align: middle;\n",
       "    }\n",
       "\n",
       "    .dataframe tbody tr th {\n",
       "        vertical-align: top;\n",
       "    }\n",
       "\n",
       "    .dataframe thead th {\n",
       "        text-align: right;\n",
       "    }\n",
       "</style>\n",
       "<table border=\"1\" class=\"dataframe\">\n",
       "  <thead>\n",
       "    <tr style=\"text-align: right;\">\n",
       "      <th></th>\n",
       "      <th>Nombre</th>\n",
       "      <th>Puntaje</th>\n",
       "      <th>Ciudad</th>\n",
       "    </tr>\n",
       "  </thead>\n",
       "  <tbody>\n",
       "    <tr>\n",
       "      <th>3</th>\n",
       "      <td>Roy</td>\n",
       "      <td>54</td>\n",
       "      <td>Torreón</td>\n",
       "    </tr>\n",
       "    <tr>\n",
       "      <th>1</th>\n",
       "      <td>Juan</td>\n",
       "      <td>31</td>\n",
       "      <td>Irapuato</td>\n",
       "    </tr>\n",
       "    <tr>\n",
       "      <th>2</th>\n",
       "      <td>Pablo</td>\n",
       "      <td>28</td>\n",
       "      <td>San José de los Olvera</td>\n",
       "    </tr>\n",
       "    <tr>\n",
       "      <th>0</th>\n",
       "      <td>Rodrigo</td>\n",
       "      <td>14</td>\n",
       "      <td>Acapulco</td>\n",
       "    </tr>\n",
       "  </tbody>\n",
       "</table>\n",
       "</div>"
      ],
      "text/plain": [
       "    Nombre  Puntaje                  Ciudad\n",
       "3      Roy       54                 Torreón\n",
       "1     Juan       31                Irapuato\n",
       "2    Pablo       28  San José de los Olvera\n",
       "0  Rodrigo       14                Acapulco"
      ]
     },
     "execution_count": 153,
     "metadata": {},
     "output_type": "execute_result"
    }
   ],
   "source": [
    "def ex26_load_dict_into_dataframe_and_sort():\n",
    "    df = pd.DataFrame({'Nombre':['Rodrigo', 'Juan', 'Pablo', 'Roy'],\n",
    "                 'Puntaje':[14,31,28,54],\n",
    "                'Ciudad':['Acapulco', 'Irapuato', 'San José de los Olvera', 'Torreón']})\n",
    "    return df.sort_values(by = 'Puntaje', ascending = False)\n",
    "ex26_load_dict_into_dataframe_and_sort()"
   ]
  },
  {
   "cell_type": "code",
   "execution_count": 155,
   "id": "d23fd0f1-c318-40b3-9fe8-4df61981636b",
   "metadata": {},
   "outputs": [
    {
     "data": {
      "text/plain": [
       "('Galletas', np.int64(10123))"
      ]
     },
     "execution_count": 155,
     "metadata": {},
     "output_type": "execute_result"
    }
   ],
   "source": [
    "def ex28_most_sold_product_from_sales_df():\n",
    "    df1 = pd.DataFrame({'Producto':['Leche', 'Pan', 'Galletas'], 'Ventas':\n",
    "                       [3211,456,10123]})\n",
    "    df1 = df1.sort_values(by = 'Ventas', ascending = False)\n",
    "    producto, ventas = df1.iloc[0,0], df1.iloc[0,1]\n",
    "    resultado = (producto, ventas)\n",
    "    return resultado\n",
    "ex28_most_sold_product_from_sales_df()"
   ]
  },
  {
   "cell_type": "code",
   "execution_count": 162,
   "id": "8c91806d-af89-4b06-a8ff-7bfd6d8e036c",
   "metadata": {},
   "outputs": [
    {
     "data": {
      "text/plain": [
       "[1, 8, 27, 64, 125]"
      ]
     },
     "execution_count": 162,
     "metadata": {},
     "output_type": "execute_result"
    }
   ],
   "source": [
    "def ex29_cube_numbers(lst):\n",
    "    return list(map(lambda x: x**3, lst))\n",
    "\n",
    "numeros = [1, 2, 3, 4, 5]\n",
    "ex29_cube_numbers(numeros)\n"
   ]
  },
  {
   "cell_type": "code",
   "execution_count": 163,
   "id": "3e8bf72b-726e-4284-a14c-5f63103cad7b",
   "metadata": {},
   "outputs": [
    {
     "data": {
      "text/plain": [
       "[2, 4, 6]"
      ]
     },
     "execution_count": 163,
     "metadata": {},
     "output_type": "execute_result"
    }
   ],
   "source": [
    "def ex30_filter_lambda_even(lst):\n",
    "    return list(filter(lambda x: x % 2 == 0, lst))\n",
    "numeros = [1, 2, 3, 4, 5, 6]\n",
    "ex30_filter_lambda_even(numeros)"
   ]
  },
  {
   "cell_type": "code",
   "execution_count": 167,
   "id": "56f4c38a-c6b1-4cf5-884c-779ee3c2acd1",
   "metadata": {},
   "outputs": [
    {
     "data": {
      "text/plain": [
       "[{'nombre': 'Juan', 'edad': 20},\n",
       " {'nombre': 'Ana', 'edad': 25},\n",
       " {'nombre': 'Pablo', 'edad': 30}]"
      ]
     },
     "execution_count": 167,
     "metadata": {},
     "output_type": "execute_result"
    }
   ],
   "source": [
    "def ex31_sort_list_of_dicts_by_key(lst, keyname):\n",
    "    return sorted(lst, key=lambda d: d[keyname])\n",
    "lista_dic = [\n",
    "    {'nombre':'Ana', 'edad':25},\n",
    "    {'nombre':'Juan', 'edad':20},\n",
    "    {'nombre':'Pablo', 'edad':30}\n",
    "]\n",
    "\n",
    "ex31_sort_list_of_dicts_by_key(lista_dic, 'edad')"
   ]
  },
  {
   "cell_type": "code",
   "execution_count": 169,
   "id": "f55c4287-b01c-4516-a480-b03fcc52ae7f",
   "metadata": {},
   "outputs": [
    {
     "data": {
      "text/html": [
       "<div>\n",
       "<style scoped>\n",
       "    .dataframe tbody tr th:only-of-type {\n",
       "        vertical-align: middle;\n",
       "    }\n",
       "\n",
       "    .dataframe tbody tr th {\n",
       "        vertical-align: top;\n",
       "    }\n",
       "\n",
       "    .dataframe thead th {\n",
       "        text-align: right;\n",
       "    }\n",
       "</style>\n",
       "<table border=\"1\" class=\"dataframe\">\n",
       "  <thead>\n",
       "    <tr style=\"text-align: right;\">\n",
       "      <th></th>\n",
       "      <th>Nombre</th>\n",
       "      <th>Nombre_mayus</th>\n",
       "    </tr>\n",
       "  </thead>\n",
       "  <tbody>\n",
       "    <tr>\n",
       "      <th>0</th>\n",
       "      <td>Ana</td>\n",
       "      <td>ANA</td>\n",
       "    </tr>\n",
       "    <tr>\n",
       "      <th>1</th>\n",
       "      <td>Juan</td>\n",
       "      <td>JUAN</td>\n",
       "    </tr>\n",
       "    <tr>\n",
       "      <th>2</th>\n",
       "      <td>Pablo</td>\n",
       "      <td>PABLO</td>\n",
       "    </tr>\n",
       "  </tbody>\n",
       "</table>\n",
       "</div>"
      ],
      "text/plain": [
       "  Nombre Nombre_mayus\n",
       "0    Ana          ANA\n",
       "1   Juan         JUAN\n",
       "2  Pablo        PABLO"
      ]
     },
     "execution_count": 169,
     "metadata": {},
     "output_type": "execute_result"
    }
   ],
   "source": [
    "def ex32_pandas_apply_lambda_uppercase(names_list):\n",
    "    df = pd.DataFrame({'Nombre': names_list})\n",
    "    df['Nombre_mayus'] = df['Nombre'].apply(lambda x: x.upper())\n",
    "    return df\n",
    "\n",
    "nombres = ['Ana', 'Juan', 'Pablo']\n",
    "ex32_pandas_apply_lambda_uppercase(nombres)"
   ]
  }
 ],
 "metadata": {
  "kernelspec": {
   "display_name": "Python 3 (ipykernel)",
   "language": "python",
   "name": "python3"
  },
  "language_info": {
   "codemirror_mode": {
    "name": "ipython",
    "version": 3
   },
   "file_extension": ".py",
   "mimetype": "text/x-python",
   "name": "python",
   "nbconvert_exporter": "python",
   "pygments_lexer": "ipython3",
   "version": "3.10.4"
  }
 },
 "nbformat": 4,
 "nbformat_minor": 5
}
