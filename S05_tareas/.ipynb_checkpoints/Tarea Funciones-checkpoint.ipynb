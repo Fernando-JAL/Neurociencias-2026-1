{
 "cells": [
  {
   "cell_type": "markdown",
   "id": "c40f9309-ecb3-42e1-b685-5592391d5755",
   "metadata": {},
   "source": [
    "# Ejercicios\n",
    "\n",
    "1. Crear una función que cuente las vocales de un string y regrese dicho número\n",
    "2. Crear una función que determine si un número es par o impar e imprima si es par o impar\n",
    "3. Crear una función para convertir de grados celcius a grados fahrenheit, dicha función recibirá la temperatura en grados celcius y deberá regresar grados fahrenheit\n",
    "4. Crear una función que reciba un entero y devuelva la suma de sus dígitos\n",
    "5. Crear una función que cuente las palabras de un string y devuelva dicho número\n",
    "6. Crear una función que reciba una lista con al menos 3 enteros y regrese el mínimo de todos los números de la lista\n",
    "7. Crear una función que reciba dos string (frase,letra) y cuente cuántas veces aparece la letra en la frase y regrese ese número\n",
    "8. Crear una función que reciba un string y cambie todas las minúsculas a mayúsculas y las mayúsculas a minúsculas\n",
    "9. Crear una función que reciba un string y elimine todos los espacios y regrese el string sin espacios"
   ]
  },
  {
   "cell_type": "code",
   "execution_count": 45,
   "id": "304bd1fa-71fc-495a-b899-6c294ce75544",
   "metadata": {},
   "outputs": [
    {
     "data": {
      "text/plain": [
       "('CADENA', 'alfabeto', 'Mientras', True, True)"
      ]
     },
     "execution_count": 45,
     "metadata": {},
     "output_type": "execute_result"
    }
   ],
   "source": [
    "'cadena'. upper(), 'ALFABETO'.lower(), 'mientras'.capitalize(), 'a'.islower(), 'A'.isupper()"
   ]
  },
  {
   "cell_type": "code",
   "execution_count": 47,
   "id": "bb04252e-4667-462c-b2ea-d5499441d01a",
   "metadata": {},
   "outputs": [
    {
     "name": "stdout",
     "output_type": "stream",
     "text": [
      "5\n"
     ]
    }
   ],
   "source": [
    "# 1\n",
    "def contar_vocales(cadena):\n",
    "    total=0\n",
    "    vocales= ['a','e','i','o','u']\n",
    "    for letra in cadena:\n",
    "        if letra in vocales:\n",
    "            total += 1      \n",
    "    return total\n",
    "\n",
    "print(contar_vocales('Yuli mi amor'))"
   ]
  },
  {
   "cell_type": "code",
   "execution_count": 9,
   "id": "b626ece7-db8b-4d6a-b8b4-80d4d02f76e9",
   "metadata": {},
   "outputs": [
    {
     "name": "stdout",
     "output_type": "stream",
     "text": [
      "El número 10 es par.\n"
     ]
    }
   ],
   "source": [
    "#2\n",
    "def par_o_impar(numero):\n",
    "    if numero % 2 == 0:      # Si el residuo de dividir entre 2 es 0, es par\n",
    "        print(f\"El número {numero} es par.\")\n",
    "    else:\n",
    "        print(f\"El número {numero} es impar.\")\n",
    "par_o_impar(10) \n",
    "\n"
   ]
  },
  {
   "cell_type": "code",
   "execution_count": 16,
   "id": "6523a27e-4d87-4189-a214-1a1858b4be04",
   "metadata": {},
   "outputs": [
    {
     "name": "stdin",
     "output_type": "stream",
     "text": [
      "Dame el valor en grados celcius 33\n"
     ]
    },
    {
     "data": {
      "text/plain": [
       "91.4"
      ]
     },
     "execution_count": 16,
     "metadata": {},
     "output_type": "execute_result"
    }
   ],
   "source": [
    "#3\n",
    "def conv_celcius_a_farenheit():\n",
    "    celcius= input('Dame el valor en grados celcius')\n",
    "    farenheit = float(celcius)*(9/5)+32\n",
    "    return farenheit\n",
    "\n",
    "conv_celcius_a_farenheit()"
   ]
  },
  {
   "cell_type": "code",
   "execution_count": 29,
   "id": "7b77bac7-30c5-48dc-a083-cb2cbfe6720f",
   "metadata": {},
   "outputs": [
    {
     "data": {
      "text/plain": [
       "6"
      ]
     },
     "execution_count": 29,
     "metadata": {},
     "output_type": "execute_result"
    }
   ],
   "source": [
    "#4\n",
    "def sumar_digitos(n):\n",
    "    str_n = str(n)\n",
    "    total = 0\n",
    "    for digito in str_n:\n",
    "        total += int(digito)\n",
    "\n",
    "    return total\n",
    "sumar_digitos(123)"
   ]
  },
  {
   "cell_type": "code",
   "execution_count": 58,
   "id": "4b036850-5e6d-49ff-b536-459ea5be1b05",
   "metadata": {},
   "outputs": [
    {
     "name": "stdout",
     "output_type": "stream",
     "text": [
      "3\n"
     ]
    }
   ],
   "source": [
    "#5\n",
    "def contar_palabras(texto):\n",
    "    palabras = texto.split() \n",
    "    total = len(palabras)     \n",
    "    return total\n",
    "\n",
    "frase = \"Yuli tiene hambre\"\n",
    "print(contar_palabras(frase))\n"
   ]
  },
  {
   "cell_type": "code",
   "execution_count": 67,
   "id": "7f18a732-ea02-44ff-83dc-4ec13fc4b540",
   "metadata": {},
   "outputs": [
    {
     "name": "stdout",
     "output_type": "stream",
     "text": [
      "2\n"
     ]
    }
   ],
   "source": [
    "#6\n",
    "def num_minimo():\n",
    "    numeros = [4, 5, 6, 7, 8, 9, 3, 2]\n",
    "    minimo = min(numeros) \n",
    "    return minimo\n",
    "\n",
    "print(num_minimo()) \n"
   ]
  },
  {
   "cell_type": "code",
   "execution_count": 78,
   "id": "7b06f276-0c77-4178-bf93-a18d9c95d44c",
   "metadata": {},
   "outputs": [
    {
     "name": "stdout",
     "output_type": "stream",
     "text": [
      "3\n"
     ]
    }
   ],
   "source": [
    "#7\n",
    "def frase_letra(frase, letra):\n",
    "    total = 0\n",
    "    for e in frase:         \n",
    "        if e == letra:      \n",
    "            total += 1\n",
    "    return total\n",
    "\n",
    "print(frase_letra('Yuli no quiere a Rodrigo', 'i'))"
   ]
  },
  {
   "cell_type": "code",
   "execution_count": 85,
   "id": "598d137c-acc0-4669-8feb-0ae21a2e6eae",
   "metadata": {},
   "outputs": [
    {
     "name": "stdout",
     "output_type": "stream",
     "text": [
      "Rodrigo Salazar es EL MERO BUENO\n"
     ]
    }
   ],
   "source": [
    "#8\n",
    "def mayusculas_minusculas(texto):\n",
    "    resultado = \"\"\n",
    "    for letra in texto:\n",
    "        if letra.islower():        \n",
    "            resultado += letra.upper()\n",
    "        elif letra.isupper():      \n",
    "            resultado += letra.lower()\n",
    "        else:                     \n",
    "            resultado += letra\n",
    "    return resultado\n",
    "\n",
    "print(mayusculas_minusculas('rODRIGO sALAZAR ES el mero bueno'))\n"
   ]
  },
  {
   "cell_type": "code",
   "execution_count": 96,
   "id": "7fc56251-c1f9-4f47-832e-68756ad59ef4",
   "metadata": {},
   "outputs": [
    {
     "name": "stdout",
     "output_type": "stream",
     "text": [
      "MegustamuchoMontse\n"
     ]
    }
   ],
   "source": [
    "9#\n",
    "def sin_espacios(texto):\n",
    "    return texto.replace(\" \",\"\")\n",
    "\n",
    "print(sin_espacios('Me gusta mucho Montse'))"
   ]
  },
  {
   "cell_type": "code",
   "execution_count": 4,
   "id": "307f8b20-15d2-453b-9979-a7cf10987963",
   "metadata": {},
   "outputs": [
    {
     "ename": "IndentationError",
     "evalue": "unexpected indent (929577523.py, line 2)",
     "output_type": "error",
     "traceback": [
      "\u001b[1;36m  Cell \u001b[1;32mIn[4], line 2\u001b[1;36m\u001b[0m\n\u001b[1;33m    isinstance(variable, int)\u001b[0m\n\u001b[1;37m    ^\u001b[0m\n\u001b[1;31mIndentationError\u001b[0m\u001b[1;31m:\u001b[0m unexpected indent\n"
     ]
    }
   ],
   "source": [
    "variable = 5.\n",
    "    isinstance(variable, int)"
   ]
  },
  {
   "cell_type": "code",
   "execution_count": null,
   "id": "8d711898-6f41-444e-afad-c6511dddf8e8",
   "metadata": {},
   "outputs": [],
   "source": []
  }
 ],
 "metadata": {
  "kernelspec": {
   "display_name": "Python 3 (ipykernel)",
   "language": "python",
   "name": "python3"
  },
  "language_info": {
   "codemirror_mode": {
    "name": "ipython",
    "version": 3
   },
   "file_extension": ".py",
   "mimetype": "text/x-python",
   "name": "python",
   "nbconvert_exporter": "python",
   "pygments_lexer": "ipython3",
   "version": "3.10.4"
  }
 },
 "nbformat": 4,
 "nbformat_minor": 5
}
