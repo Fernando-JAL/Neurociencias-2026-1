{
 "cells": [
  {
   "cell_type": "markdown",
   "id": "cd230ce7-18d9-48ea-953d-ce3ba1c62033",
   "metadata": {},
   "source": [
    "# Ejercicios\n",
    "\n",
    "1. Crear una función que cuente las vocales de un string y regrese dicho número\n",
    "2. Crear una función que determine si un número es par o impar e imprima si es par o impar\n",
    "3. Crear una función para convertir de grados celsius a fahrenheit, dicha función recibirá la temperatura en grados celsius y deberá regresar los grados fahrenheit\n",
    "4. Crear una función que reciba un entero y devuelva la suma de sus dígitos\n",
    "\n",
    "5. Crear una función que cuente las palabras de un string y devuelva dicho número\n",
    "6. Crear una función que reciba una lista con al menos 3 enteros y regrese el mínimo de todos los números de la lista\n",
    "7. Crear una función que reciba dos string (frase, letra) y cuente cuántas veces aparece la letra en la frase y regrese ese número"
   ]
  },
  {
   "cell_type": "markdown",
   "id": "da4c3f47-3394-4766-ba04-24d0ea9440be",
   "metadata": {},
   "source": []
  },
  {
   "cell_type": "code",
   "execution_count": 1,
   "id": "c49d6802-4804-41e2-bd53-66a2985e9ae9",
   "metadata": {},
   "outputs": [
    {
     "data": {
      "text/plain": [
       "3"
      ]
     },
     "execution_count": 1,
     "metadata": {},
     "output_type": "execute_result"
    }
   ],
   "source": [
    "# ejericcio 1 \n",
    "def vocales(palabra):\n",
    "    vocal = (\"aeiouAEIOU\")\n",
    "    return sum(1 for letra in palabra if letra in vocal)\n",
    "    \n",
    "vocales(\"aaa\")        "
   ]
  },
  {
   "cell_type": "code",
   "execution_count": 2,
   "id": "fe678c0b-e900-4381-9ed4-5fee8b9fe8c4",
   "metadata": {},
   "outputs": [
    {
     "data": {
      "text/plain": [
       "4"
      ]
     },
     "execution_count": 2,
     "metadata": {},
     "output_type": "execute_result"
    }
   ],
   "source": [
    "#ejercicio  2 \n",
    "def contar_vocales(cadena):\n",
    "    total = 0\n",
    "    vocales = [\"a\", \"e\", \"i\", \"o\", \"u\" ]\n",
    "    for letra in cadena:\n",
    "        if letra in vocales:\n",
    "            total += 1\n",
    "\n",
    "    return total\n",
    "\n",
    "contar_vocales(\"hola hola\")"
   ]
  },
  {
   "cell_type": "code",
   "execution_count": 3,
   "id": "cb2acd51-ede7-4cab-b01f-ec14069fc6b0",
   "metadata": {},
   "outputs": [],
   "source": [
    "#Ejercicio 3 \n",
    "def par_impar(numero):\n",
    "    if numero % 2 == 0:\n",
    "        print(\"El número es par\")\n",
    "    elif numero % 2 != 0:\n",
    "        print(\"El número es impar\")   "
   ]
  },
  {
   "cell_type": "code",
   "execution_count": 4,
   "id": "5b32d1b9-99fb-479e-9776-0e4635f0bd4b",
   "metadata": {},
   "outputs": [
    {
     "name": "stdout",
     "output_type": "stream",
     "text": [
      "El número es impar\n"
     ]
    }
   ],
   "source": [
    "par_impar(5)"
   ]
  },
  {
   "cell_type": "markdown",
   "id": "51474569-b32c-42ed-b2b3-0c58cbf3d0f8",
   "metadata": {},
   "source": []
  },
  {
   "cell_type": "code",
   "execution_count": 4,
   "id": "54828f13-838c-458e-867d-3ce37e7f47de",
   "metadata": {},
   "outputs": [
    {
     "name": "stdin",
     "output_type": "stream",
     "text": [
      "Ingresa los grados Celsius que deseas convertir:  35\n"
     ]
    },
    {
     "data": {
      "text/plain": [
       "95.0"
      ]
     },
     "execution_count": 4,
     "metadata": {},
     "output_type": "execute_result"
    }
   ],
   "source": [
    "#Ejercicio 4 \n",
    "def grados_CaF():\n",
    "    grado = float(input(\"Ingresa los grados Celsius que deseas convertir: \", )) #debemos convertirlo a float, input regresa un string\n",
    "    resultado = (grado * 9/5) + 32\n",
    "    return resultado\n",
    "\n",
    "grados_CaF()"
   ]
  },
  {
   "cell_type": "markdown",
   "id": "af011b04-389d-420a-87cf-6b57a9661195",
   "metadata": {},
   "source": []
  },
  {
   "cell_type": "code",
   "execution_count": 33,
   "id": "759bbfb2-0d0e-4833-91bf-5c3808547d21",
   "metadata": {},
   "outputs": [
    {
     "data": {
      "text/plain": [
       "3"
      ]
     },
     "execution_count": 33,
     "metadata": {},
     "output_type": "execute_result"
    }
   ],
   "source": [
    "def suma(numero):\n",
    "    str_n = str(numero)\n",
    "    total = 0\n",
    "    for digito in str_n: # aquí ya dividimos el entero\n",
    "        total += int(digito) # aquí lo sumamos y transformamos a entero de regreso\n",
    "\n",
    "    return total\n",
    "    \n",
    "suma(111)    "
   ]
  },
  {
   "cell_type": "code",
   "execution_count": 42,
   "id": "f5270534-600b-41a1-a59b-cf47e3c8b21d",
   "metadata": {},
   "outputs": [
    {
     "data": {
      "text/plain": [
       "3"
      ]
     },
     "execution_count": 42,
     "metadata": {},
     "output_type": "execute_result"
    }
   ],
   "source": [
    "## Ejericio 5 \n",
    "def palabras(frase):\n",
    "    return len(frase.split(sep = \" \"))\n",
    "\n",
    "palabras(\"hola hola hello\")"
   ]
  },
  {
   "cell_type": "code",
   "execution_count": 38,
   "id": "f1be683c-f8ae-48dc-a542-4ff3cf95a6cd",
   "metadata": {},
   "outputs": [
    {
     "data": {
      "text/plain": [
       "2"
      ]
     },
     "execution_count": 38,
     "metadata": {},
     "output_type": "execute_result"
    }
   ],
   "source": [
    "##Ejercicio 6\n",
    "def suma_n():\n",
    "    # numeros = float(input(\"Ingresa tres números separados por un espacio: \"))\n",
    "    numeros = [4, 5, 2]\n",
    "    minimo = min(numeros)\n",
    "\n",
    "    return minimo\n",
    "\n",
    "suma_n()    "
   ]
  },
  {
   "cell_type": "code",
   "execution_count": 5,
   "id": "90da4b9c-9df2-4360-bd0b-e0d61a626507",
   "metadata": {},
   "outputs": [
    {
     "data": {
      "text/plain": [
       "2"
      ]
     },
     "execution_count": 5,
     "metadata": {},
     "output_type": "execute_result"
    }
   ],
   "source": [
    "#Ejericcio 7 \n",
    "def letra_en_f(frase, letra):\n",
    "    return frase.count(letra) # cuenta cuántas veces aparece el substring que le indiquemos, en este caso es letra. \n",
    "    \n",
    "letra_en_f(\"hola hola\", \"a\")      "
   ]
  },
  {
   "cell_type": "code",
   "execution_count": 34,
   "id": "4309d072-6eb5-4138-9f87-ca058ab0259c",
   "metadata": {},
   "outputs": [
    {
     "data": {
      "text/plain": [
       "(True, True)"
      ]
     },
     "execution_count": 34,
     "metadata": {},
     "output_type": "execute_result"
    }
   ],
   "source": [
    "# .upper transforma todo a mayúscula.\n",
    "# .lower a minúsculas\n",
    "# .capitalize vuelve la primera en mayúscula\n",
    "\"cadena\".upper(), \"ALFABETO\".lower(), \"mientras\".capitalize()\n",
    "\n",
    "\"a\".islower(), \"A\".isupper()"
   ]
  },
  {
   "cell_type": "markdown",
   "id": "44af2630-320e-45d0-abbe-fd12a9ce842e",
   "metadata": {},
   "source": [
    "8. Crear una función que reciba un string y cambie todas las minúsculas a mayúsculas y las mayúsculas a minúsculas\n",
    "9. Crear una función que recibe un string y elimine todos los espacios y regrese el string sin espacios"
   ]
  },
  {
   "cell_type": "code",
   "execution_count": 35,
   "id": "07612307-0a35-4dc9-88b9-7dfd75ed24ff",
   "metadata": {},
   "outputs": [
    {
     "data": {
      "text/plain": [
       "'a-b-c'"
      ]
     },
     "execution_count": 35,
     "metadata": {},
     "output_type": "execute_result"
    }
   ],
   "source": [
    "# .join va a juntar\n",
    "\"-\".join([\"a\", \"b\", \"c\"])"
   ]
  },
  {
   "cell_type": "code",
   "execution_count": 4,
   "id": "ef1a6e61-5185-4e9f-bca8-be212a81143f",
   "metadata": {},
   "outputs": [
    {
     "name": "stdin",
     "output_type": "stream",
     "text": [
      "Escribe una frase:  HOLA HOLA\n"
     ]
    },
    {
     "data": {
      "text/plain": [
       "'hola hola'"
      ]
     },
     "execution_count": 4,
     "metadata": {},
     "output_type": "execute_result"
    }
   ],
   "source": [
    "#Ejericio 8 \n",
    "def min_a_MAY():\n",
    "    frase = input(\"Escribe una frase: \")\n",
    "    resultado = \"\"\n",
    "    for letra in frase:\n",
    "        if letra == letra.upper():\n",
    "            resultado += letra.lower()\n",
    "        else:\n",
    "            resultado += letra.upper()\n",
    "    return resultado\n",
    "\n",
    "min_a_MAY()"
   ]
  },
  {
   "cell_type": "code",
   "execution_count": 14,
   "id": "85a41270-9b03-4ce0-a71a-d734aa94c0ee",
   "metadata": {},
   "outputs": [
    {
     "name": "stdin",
     "output_type": "stream",
     "text": [
      "Escribe una frase:  aaaaa bbbb cccc\n"
     ]
    },
    {
     "data": {
      "text/plain": [
       "'aaaaabbbbcccc'"
      ]
     },
     "execution_count": 14,
     "metadata": {},
     "output_type": "execute_result"
    }
   ],
   "source": [
    "## Ejericio 9 \n",
    "def sin_espacios():\n",
    "    frase = input(\"Escribe una frase: \")\n",
    "    return \"\".join(frase.split())\n",
    "\n",
    "sin_espacios()"
   ]
  },
  {
   "cell_type": "code",
   "execution_count": 5,
   "id": "1c015a71-5a31-4e19-9176-3624067dd7a7",
   "metadata": {},
   "outputs": [
    {
     "data": {
      "text/plain": [
       "True"
      ]
     },
     "execution_count": 5,
     "metadata": {},
     "output_type": "execute_result"
    }
   ],
   "source": [
    "isinstance(5, int) # para verificar el tipo de la variable, nos regresa True o False."
   ]
  }
 ],
 "metadata": {
  "kernelspec": {
   "display_name": "Python 3 (ipykernel)",
   "language": "python",
   "name": "python3"
  },
  "language_info": {
   "codemirror_mode": {
    "name": "ipython",
    "version": 3
   },
   "file_extension": ".py",
   "mimetype": "text/x-python",
   "name": "python",
   "nbconvert_exporter": "python",
   "pygments_lexer": "ipython3",
   "version": "3.10.7"
  }
 },
 "nbformat": 4,
 "nbformat_minor": 5
}
