{
 "cells": [
  {
   "cell_type": "markdown",
   "id": "23545657-df48-4ce0-88a5-be8332fa9f40",
   "metadata": {},
   "source": [
    "# Iteraciones\n",
    "\n",
    "Iterar, significa realizar una acción varias veces. A cada vez que se repite el conjunto de acciones, se dice que es una iteración.\n",
    "\n",
    "# Sentencia While\n",
    "\n",
    "Se basa en repetir un bloque de código a partir de una condición lógica. Dicho bloque de código se repetira __mientras__ que la condición sea True."
   ]
  },
  {
   "attachments": {
    "368999cb-dc71-400c-ad4b-bc734f92322a.png": {
     "image/png": "[encoded data removed]"
    }
   },
   "cell_type": "markdown",
   "id": "dd9ac077-f9b1-4bd4-bf71-fb95b91c180c",
   "metadata": {},
   "source": [
    "![image.png](attachment:368999cb-dc71-400c-ad4b-bc734f92322a.png)"
   ]
  },
  {
   "cell_type": "code",
   "execution_count": 1,
   "id": "e1242c6f-8f07-4540-acf3-53846d477566",
   "metadata": {},
   "outputs": [
    {
     "name": "stdout",
     "output_type": "stream",
     "text": [
      "el valor de la variable es 0\n",
      "el valor de la variable es 2\n",
      "el valor de la variable es 4\n",
      "el valor de la variable es 6\n",
      "el valor de la variable es 8\n",
      "codigo después del while\n"
     ]
    }
   ],
   "source": [
    "variable = 0\n",
    "\n",
    "while variable < 10:\n",
    "    print('el valor de la variable es', variable)\n",
    "    variable += 2\n",
    "\n",
    "print('codigo después del while')"
   ]
  },
  {
   "cell_type": "code",
   "execution_count": 2,
   "id": "7d8a9224-42b8-4ac2-927b-d72eaf65170b",
   "metadata": {},
   "outputs": [
    {
     "name": "stdout",
     "output_type": "stream",
     "text": [
      "el valor de la variable es 0\n",
      "codigo después del while\n"
     ]
    }
   ],
   "source": [
    "variable = 0\n",
    "\n",
    "if variable < 10:\n",
    "    print('el valor de la variable es', variable)\n",
    "    variable += 2\n",
    "\n",
    "print('codigo después del while')"
   ]
  },
  {
   "cell_type": "code",
   "execution_count": 3,
   "id": "dd0a1c60-4097-4740-bfc8-8fbc978bf278",
   "metadata": {},
   "outputs": [
    {
     "name": "stdout",
     "output_type": "stream",
     "text": [
      "1\n",
      "2\n",
      "3\n",
      "4\n",
      "5\n",
      "6\n",
      "codigo en el else del while\n",
      "código después del while\n"
     ]
    }
   ],
   "source": [
    "variable = 0\n",
    "\n",
    "while variable <= 5:\n",
    "    variable += 1\n",
    "    print(variable)\n",
    "else:\n",
    "    print('codigo en el else del while')\n",
    "\n",
    "print('código después del while')"
   ]
  },
  {
   "cell_type": "markdown",
   "id": "b4e6a0ce-a1b2-43da-a1a0-0c98e734fbd7",
   "metadata": {},
   "source": [
    "# Palabras reservadas relacionadas al while\n",
    "\n",
    "## continue y el break"
   ]
  },
  {
   "cell_type": "code",
   "execution_count": 6,
   "id": "4ce63ab9-7579-4c29-ae9e-081e0be44889",
   "metadata": {},
   "outputs": [
    {
     "name": "stdout",
     "output_type": "stream",
     "text": [
      "1\n",
      "código después del condicional del break\n",
      "2\n",
      "código después del condicional del break\n",
      "3\n",
      "entró al condicional para activar el break\n",
      "código después del while\n"
     ]
    }
   ],
   "source": [
    "variable = 0\n",
    "\n",
    "while variable <= 5:\n",
    "    variable += 1\n",
    "    print(variable)\n",
    "    if variable == 3:\n",
    "        print('entró al condicional para activar el break')\n",
    "        break\n",
    "    print('código después del condicional del break')\n",
    "else:\n",
    "    print('codigo en el else del while')\n",
    "\n",
    "print('código después del while')"
   ]
  },
  {
   "cell_type": "code",
   "execution_count": 7,
   "id": "12510189-021a-4372-a6b7-b38537f63248",
   "metadata": {},
   "outputs": [
    {
     "name": "stdout",
     "output_type": "stream",
     "text": [
      "1\n",
      "código después del condicional del continue\n",
      "2\n",
      "código después del condicional del continue\n",
      "3\n",
      "entró al condicional para activar el continue\n",
      "4\n",
      "código después del condicional del continue\n",
      "5\n",
      "código después del condicional del continue\n",
      "6\n",
      "código después del condicional del continue\n",
      "codigo en el else del while\n",
      "código después del while\n"
     ]
    }
   ],
   "source": [
    "variable = 0\n",
    "\n",
    "while variable <= 5:\n",
    "    variable += 1\n",
    "    print(variable)\n",
    "    if variable == 3:\n",
    "        print('entró al condicional para activar el continue')\n",
    "        continue\n",
    "    print('código después del condicional del continue')\n",
    "else:\n",
    "    print('codigo en el else del while')\n",
    "\n",
    "print('código después del while')"
   ]
  },
  {
   "cell_type": "markdown",
   "id": "1cabb4d7-1da7-4bb4-9084-95f4b5fcc676",
   "metadata": {},
   "source": [
    "# Controlador de flujo for"
   ]
  },
  {
   "cell_type": "code",
   "execution_count": 9,
   "id": "e2fb13d6-0162-4d58-b440-e373c7fb2461",
   "metadata": {},
   "outputs": [
    {
     "name": "stdout",
     "output_type": "stream",
     "text": [
      "2\n",
      "4\n",
      "6\n",
      "8\n",
      "10\n"
     ]
    }
   ],
   "source": [
    "listas = [2, 4, 6, 8, 10]\n",
    "\n",
    "for valor in listas:\n",
    "    print(valor)"
   ]
  },
  {
   "cell_type": "code",
   "execution_count": 11,
   "id": "69c2a325-5c3f-437a-a1d1-110d6e9cba68",
   "metadata": {},
   "outputs": [
    {
     "name": "stdout",
     "output_type": "stream",
     "text": [
      "0\n",
      "1\n",
      "2\n",
      "3\n",
      "4\n"
     ]
    }
   ],
   "source": [
    "# range(pos_i, pos_f+1, salto)\n",
    "for valor in range(5):\n",
    "    print(valor)"
   ]
  },
  {
   "cell_type": "code",
   "execution_count": 12,
   "id": "8dc3802f-801b-4bd7-9f6a-99770192326f",
   "metadata": {},
   "outputs": [
    {
     "name": "stdout",
     "output_type": "stream",
     "text": [
      "c\n",
      "a\n",
      "d\n",
      "e\n",
      "n\n",
      "a\n"
     ]
    }
   ],
   "source": [
    "for letra in \"cadena\":\n",
    "    print(letra)"
   ]
  },
  {
   "cell_type": "code",
   "execution_count": 14,
   "id": "0999f7a1-71e2-481a-9510-dafec9c1e6cf",
   "metadata": {},
   "outputs": [
    {
     "name": "stdout",
     "output_type": "stream",
     "text": [
      "key1\n",
      "key2\n",
      "key3\n"
     ]
    }
   ],
   "source": [
    "diccionario = {'key1': 'val1', 'key2': 'val2', 'key3': 'val3'}\n",
    "\n",
    "for llave in diccionario:\n",
    "    print(llave)"
   ]
  },
  {
   "cell_type": "code",
   "execution_count": 17,
   "id": "1835f228-9bbd-4e0f-8d05-402ba6c99ace",
   "metadata": {},
   "outputs": [
    {
     "name": "stdout",
     "output_type": "stream",
     "text": [
      "la lista tiene  5  elementos\n"
     ]
    }
   ],
   "source": [
    "listas = [2, 4, 6, 8, 10]\n",
    "\n",
    "longitud = 0\n",
    "for _ in listas:\n",
    "    longitud += 1\n",
    "\n",
    "print('la lista tiene ', longitud, ' elementos')"
   ]
  },
  {
   "cell_type": "code",
   "execution_count": 19,
   "id": "70454789-83b4-4aea-85fc-f23c01ee06d2",
   "metadata": {},
   "outputs": [
    {
     "name": "stdout",
     "output_type": "stream",
     "text": [
      "El promedio de los valores de la lista es  6.0\n"
     ]
    }
   ],
   "source": [
    "listas = [2, 4, 6, 8, 10]\n",
    "\n",
    "promedio = 0\n",
    "for valor in listas:\n",
    "    promedio += valor\n",
    "\n",
    "promedio /= len(listas)\n",
    "print('El promedio de los valores de la lista es ', promedio)"
   ]
  },
  {
   "cell_type": "markdown",
   "id": "8d583677-7ad1-4543-b0e8-27555c1eba58",
   "metadata": {},
   "source": [
    "# Ejercicio\n",
    "Usando la lista listas = [2, 3, 4, 5, 6, 7, 8, 9, 10]\n",
    "\n",
    "Sobre cada valor de listas determine:\n",
    "- Si el valor de la lista es par, calcule e imprime su cuadrado\n",
    "- Si el valor de la lista es impar, sume uno al valor y dividalo sobre 2 e imprima el resultado"
   ]
  },
  {
   "cell_type": "markdown",
   "id": "40301495-9a14-4b4d-a2f9-694db9a80947",
   "metadata": {},
   "source": [
    "# Modificar una lista al vuelo"
   ]
  },
  {
   "cell_type": "code",
   "execution_count": 20,
   "id": "df34c38f-0304-4d86-9308-c03c48f5ad5c",
   "metadata": {},
   "outputs": [
    {
     "data": {
      "text/plain": [
       "[2, 4, 6, 8, 10]"
      ]
     },
     "execution_count": 20,
     "metadata": {},
     "output_type": "execute_result"
    }
   ],
   "source": [
    "listas = [2, 4, 6, 8, 10]\n",
    "\n",
    "for valor in listas:\n",
    "    valor += 50\n",
    "\n",
    "listas"
   ]
  },
  {
   "cell_type": "code",
   "execution_count": 21,
   "id": "0bd8bd00-410d-49c2-8a07-86b4f47d3585",
   "metadata": {},
   "outputs": [
    {
     "data": {
      "text/plain": [
       "[52, 54, 56, 58, 60]"
      ]
     },
     "execution_count": 21,
     "metadata": {},
     "output_type": "execute_result"
    }
   ],
   "source": [
    "listas = [2, 4, 6, 8, 10]\n",
    "\n",
    "indice = 0\n",
    "for _ in listas:\n",
    "    listas[indice] += 50\n",
    "    indice += 1\n",
    "\n",
    "listas"
   ]
  },
  {
   "cell_type": "markdown",
   "id": "f0f4cc5e-ea25-4f2c-a8d7-412b5a14fb60",
   "metadata": {},
   "source": [
    "# método enumerate(iterable, start = 0)\n",
    "\n",
    "Regresará un objeto enumerate. Esté método regresará una tupla de pares, donde el primer elemento será un entero que comenzará en start y el segundo elemento de la tupla tendrá el valor del objeto iterable"
   ]
  },
  {
   "cell_type": "code",
   "execution_count": 22,
   "id": "f14c917a-77e9-40e8-b21a-1231b5389649",
   "metadata": {},
   "outputs": [
    {
     "data": {
      "text/plain": [
       "['cadena', 'con', 'espacios']"
      ]
     },
     "execution_count": 22,
     "metadata": {},
     "output_type": "execute_result"
    }
   ],
   "source": [
    "\"cadena con espacios\".split(sep=\" \") # método"
   ]
  },
  {
   "cell_type": "code",
   "execution_count": 26,
   "id": "32f389d5-72ea-4f9b-9a23-39fb82538a85",
   "metadata": {},
   "outputs": [
    {
     "data": {
      "text/plain": [
       "[(-20, 2), (-19, 4), (-18, 6), (-17, 8), (-16, 10)]"
      ]
     },
     "execution_count": 26,
     "metadata": {},
     "output_type": "execute_result"
    }
   ],
   "source": [
    "list(enumerate([2, 4, 6, 8, 10], start=-20))"
   ]
  },
  {
   "cell_type": "code",
   "execution_count": 28,
   "id": "03135ddd-67f9-4686-9f91-69fb66dd9a3f",
   "metadata": {},
   "outputs": [
    {
     "data": {
      "text/plain": [
       "[(0, 'c'), (1, 'a'), (2, 'd'), (3, 'e'), (4, 'n'), (5, 'a')]"
      ]
     },
     "execution_count": 28,
     "metadata": {},
     "output_type": "execute_result"
    }
   ],
   "source": [
    "list(enumerate(\"cadena\"))"
   ]
  },
  {
   "cell_type": "code",
   "execution_count": 29,
   "id": "e43349b2-61db-4a23-9366-96ffe605dd0b",
   "metadata": {},
   "outputs": [
    {
     "data": {
      "text/plain": [
       "[(1, 'primavera'), (2, 'verano'), (3, 'otoño'), (4, 'invierno')]"
      ]
     },
     "execution_count": 29,
     "metadata": {},
     "output_type": "execute_result"
    }
   ],
   "source": [
    "list(enumerate(['primavera', 'verano', 'otoño', 'invierno'], start=1))"
   ]
  },
  {
   "cell_type": "code",
   "execution_count": 30,
   "id": "365535be-f16f-42ab-a40d-39bcf784e40c",
   "metadata": {},
   "outputs": [
    {
     "data": {
      "text/plain": [
       "[52, 54, 56, 58, 60]"
      ]
     },
     "execution_count": 30,
     "metadata": {},
     "output_type": "execute_result"
    }
   ],
   "source": [
    "listas = [2, 4, 6, 8, 10]\n",
    "\n",
    "indice = 0\n",
    "for _ in listas:\n",
    "    listas[indice] += 50\n",
    "    indice += 1\n",
    "\n",
    "listas"
   ]
  },
  {
   "cell_type": "code",
   "execution_count": 32,
   "id": "63de85bb-5bcc-47e7-9ae4-37e8a8ba5a58",
   "metadata": {},
   "outputs": [
    {
     "data": {
      "text/plain": [
       "[52, 54, 56, 58, 60]"
      ]
     },
     "execution_count": 32,
     "metadata": {},
     "output_type": "execute_result"
    }
   ],
   "source": [
    "listas = [2, 4, 6, 8, 10]\n",
    "\n",
    "for indice, _ in enumerate(listas):\n",
    "    listas[indice] += 50\n",
    "    indice += 1\n",
    "\n",
    "listas"
   ]
  },
  {
   "cell_type": "markdown",
   "id": "05a7b6df-4b4e-4ed1-b3fc-3053bae65e1c",
   "metadata": {},
   "source": [
    "# Built in functions\n",
    "\n",
    "https://docs.python.org/3/library/functions.html"
   ]
  },
  {
   "cell_type": "markdown",
   "id": "adaf93cc-bce3-49d3-ad46-6ba7c4f06ec0",
   "metadata": {},
   "source": [
    "# Tarea\n",
    "\n",
    "Hacer un ejemplo de las siguientes built-in functions\n",
    "\n",
    "- all\n",
    "- any\n",
    "- abs\n",
    "- input\n",
    "- max\n",
    "- min\n",
    "- pow\n",
    "- reversed\n",
    "- round\n",
    "- sorted\n",
    "- sum"
   ]
  },
  {
   "cell_type": "code",
   "execution_count": null,
   "id": "65748695-9c31-4bf8-acd3-163595933c4c",
   "metadata": {},
   "outputs": [],
   "source": []
  }
 ],
 "metadata": {
  "kernelspec": {
   "display_name": "Python 3 (ipykernel)",
   "language": "python",
   "name": "python3"
  },
  "language_info": {
   "codemirror_mode": {
    "name": "ipython",
    "version": 3
   },
   "file_extension": ".py",
   "mimetype": "text/x-python",
   "name": "python",
   "nbconvert_exporter": "python",
   "pygments_lexer": "ipython3",
   "version": "3.10.4"
  }
 },
 "nbformat": 4,
 "nbformat_minor": 5
}
