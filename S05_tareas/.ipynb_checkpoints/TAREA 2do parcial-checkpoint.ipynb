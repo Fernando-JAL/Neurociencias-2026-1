{
 "cells": [
  {
   "cell_type": "markdown",
   "id": "eaf69d30",
   "metadata": {},
   "source": [
    "# TAREA\n",
    "\n",
    "## parea el 2do parcial\n",
    "\n",
    "\n",
    "Cada ejercicio está representado por una función con su docstring que contiene\n",
    "la instrucción (no incluye soluciones). Implementa las funciones por tu cuenta.\n",
    "\n"
   ]
  },
  {
   "cell_type": "code",
   "execution_count": 1,
   "id": "8ce0b772",
   "metadata": {},
   "outputs": [],
   "source": [
    "import pandas as pd\n",
    "import numpy as np"
   ]
  },
  {
   "cell_type": "code",
   "execution_count": null,
   "id": "bca2a464",
   "metadata": {},
   "outputs": [],
   "source": [
    "\"\"\"\n",
    "Archivo: ejercicios_python_estructuras_numpy_pandas_instrucciones.py\n",
    "Descripción: 32 ejercicios (SOLO INSTRUCCIONES) sobre:\n",
    "- pandas (concatenación y otras operaciones), listas, conjuntos, tuplas, diccionarios,\n",
    "  NumPy y uso de lambdas (map, filter, sorted, apply).\n",
    "\n",
    "Cada ejercicio está representado por una función con su docstring que contiene\n",
    "la instrucción (no incluye soluciones). Implementa las funciones por tu cuenta.\n",
    "\"\"\"\n",
    "\n",
    "# Nota: este archivo contiene únicamente las instrucciones de cada ejercicio.\n",
    "# Implementa cada función en tu entorno (o pégalas en una plataforma tipo HackerRank/LeetCode).\n",
    "\n",
    "import pandas as pd\n",
    "import numpy as np\n",
    "\n",
    "# -----------------------------\n",
    "# 1-4: Pandas (concatenación)\n",
    "# -----------------------------\n",
    "\n",
    "def ex1_concat_same_structure():\n",
    "    \"\"\"Ejercicio 1:\n",
    "    Crea dos DataFrame que compartan la misma estructura de columnas (por ejemplo,\n",
    "    'Nombre' y 'Edad'), con al menos 3 filas cada uno. Concaténalos verticalmente\n",
    "    en un único DataFrame. Retorna el DataFrame resultante.\n",
    "    \"\"\"\n",
    "    pass\n",
    "\n",
    "\n",
    "def ex2_concat_with_month_column():\n",
    "    \"\"\"Ejercicio 2:\n",
    "    Tienes un DataFrame con ventas de enero y otro con ventas de febrero (mismas columnas).\n",
    "    Concaténalos en un solo DataFrame y añade una columna que indique el mes original\n",
    "    de cada fila (por ejemplo: 'Enero' o 'Febrero'). Retorna el DataFrame resultante.\n",
    "    \"\"\"\n",
    "    pass\n",
    "\n",
    "\n",
    "def ex3_concat_diff_columns_fillna():\n",
    "    \"\"\"Ejercicio 3:\n",
    "    Crea dos DataFrame que no tengan exactamente las mismas columnas (ej.: uno tiene\n",
    "    'Producto' y 'Ventas', el otro 'Producto' y 'Descuento'). Concaténalos y asegura\n",
    "    que los valores faltantes queden rellenados con 0. Retorna el DataFrame resultante.\n",
    "    \"\"\"\n",
    "    pass\n",
    "\n",
    "\n",
    "def ex4_concat_three_groups():\n",
    "    \"\"\"Ejercicio 4:\n",
    "    Genera tres DataFrame pequeños (cada uno con, por ejemplo, 3 filas) que representen\n",
    "    notas de distintos grupos de alumnos. Concaténalos verticalmente en un solo DataFrame\n",
    "    que contenga todas las notas. Retorna el DataFrame resultante.\n",
    "    \"\"\"\n",
    "    pass\n",
    "\n",
    "\n",
    "# -----------------------------\n",
    "# 5-8: Listas\n",
    "# -----------------------------\n",
    "\n",
    "def ex5_remove_duplicates_preserve_order(lst):\n",
    "    \"\"\"Ejercicio 5:\n",
    "    Dada una lista de enteros (o strings) que puede contener duplicados, devuelve una\n",
    "    nueva lista sin duplicados preservando el orden original. No uses directamente set()\n",
    "    para eliminar duplicados (escribe la lógica que preserve el orden). Retorna la nueva \n",
    "    lista sin duplicados.\n",
    "    \"\"\"\n",
    "    pass\n",
    "\n",
    "\n",
    "def ex6_sort_tuples_by_second_element(tuples_list):\n",
    "    \"\"\"Ejercicio 6:\n",
    "    Dada una lista de tuplas, por ejemplo [(\"a\", 3), (\"b\", 1), (\"c\", 2)], ordénala\n",
    "    por el segundo elemento de cada tupla y devuelve la lista ordenada. Usa una función\n",
    "    anónima si lo deseas. Retorna la lista ordenada.\n",
    "    \"\"\"\n",
    "    pass\n",
    "\n",
    "\n",
    "def ex7_first_n_multiples_of_7(n):\n",
    "    \"\"\"Ejercicio 7:\n",
    "    Devuelve una lista con los primeros n múltiplos de 7 (por ejemplo, n=5 -> [7,14,21,28,35]).\n",
    "    Retorna la lista generada.\n",
    "    \"\"\"\n",
    "    pass\n",
    "\n",
    "\n",
    "def ex8_filter_palindromes(strings):\n",
    "    \"\"\"Ejercicio 8:\n",
    "    Dada una lista de cadenas, devuelve sólo aquellas que son palíndromos (se leen igual\n",
    "    al derecho y al revés). Retorna una lista con los palíndromos encontrados.\n",
    "    \"\"\"\n",
    "    pass\n",
    "\n",
    "\n",
    "# -----------------------------\n",
    "# 9-12: Conjuntos\n",
    "# -----------------------------\n",
    "\n",
    "def ex9_set_intersection_and_difference(set_a, set_b):\n",
    "    \"\"\"Ejercicio 9:\n",
    "    Dado dos conjuntos, devuelve su intersección y la diferencia (elementos de A que no\n",
    "    están en B). Retorna una tupla (intersección, diferencia).\n",
    "    \"\"\"\n",
    "    pass\n",
    "\n",
    "\n",
    "def ex10_is_subset(set_a, set_b):\n",
    "    \"\"\"Ejercicio 10:\n",
    "    Verifica si set_a es subconjunto de set_b. Devuelve True o False.\n",
    "    \"\"\"\n",
    "    pass\n",
    "\n",
    "\n",
    "def ex11_count_unique_elements(lst):\n",
    "    \"\"\"Ejercicio 11:\n",
    "    Dada una lista, cuenta cuántos elementos únicos contiene (usa set para obtener el conteo).\n",
    "    Retorna el número de elementos únicos.\n",
    "    \"\"\"\n",
    "    pass\n",
    "\n",
    "\n",
    "def ex12_unique_words_from_phrases(phrases):\n",
    "    \"\"\"Ejercicio 12:\n",
    "    Dada una lista de frases (strings), extrae y devuelve el conjunto de todas las palabras\n",
    "    únicas que aparecen en todas las frases. Retorna un conjunto con las palabras únicas.\n",
    "    \"\"\"\n",
    "    pass\n",
    "\n",
    "\n",
    "# -----------------------------\n",
    "# 13-16: Tuplas\n",
    "# -----------------------------\n",
    "\n",
    "def ex13_oldest_person(tuple_list):\n",
    "    \"\"\"Ejercicio 13:\n",
    "    Recibe una lista de tuplas (nombre, edad). Devuelve la tupla de la persona con mayor edad.\n",
    "    \"\"\"\n",
    "    pass\n",
    "\n",
    "\n",
    "def ex14_convert_list_of_lists_to_tuples(list_of_lists):\n",
    "    \"\"\"Ejercicio 14:\n",
    "    Convierte una lista de listas en una lista de tuplas. Retorna la nueva lista de tuplas.\n",
    "    \"\"\"\n",
    "    pass\n",
    "\n",
    "\n",
    "def ex15_sum_of_tuple_abc(t):\n",
    "    \"\"\"Ejercicio 15:\n",
    "    Recibe una tupla de tres números (a, b, c). Desempaquétala y devuelve la suma a+b+c. \n",
    "    Retorna un número entero o flotante.\n",
    "    \"\"\"\n",
    "    pass\n",
    "\n",
    "\n",
    "def ex16_sort_product_price(prod_price_list):\n",
    "    \"\"\"Ejercicio 16:\n",
    "    Dada una lista de tuplas (producto, precio), ordénala por precio de menor a mayor.\n",
    "    Retorna la lista ordenada.\n",
    "    \"\"\"\n",
    "    pass\n",
    "\n",
    "\n",
    "# -----------------------------\n",
    "# 17-20: Diccionarios\n",
    "# -----------------------------\n",
    "\n",
    "def ex17_char_frequency(s):\n",
    "    \"\"\"Ejercicio 17:\n",
    "    Cuenta la frecuencia de cada carácter en una cadena usando un diccionario.\n",
    "    Retorna un diccionario {carácter: frecuencia}.\n",
    "    \"\"\"\n",
    "    pass\n",
    "\n",
    "\n",
    "def ex18_best_student(grades_dict):\n",
    "    \"\"\"Ejercicio 18:\n",
    "    Dado un diccionario {alumno: calificación}, devuelve al mejor estudiante.\n",
    "    Retorna una tupla (nombre, calificación).\n",
    "    \"\"\"\n",
    "    pass\n",
    "\n",
    "\n",
    "def ex19_invert_dictionary(d):\n",
    "    \"\"\"Ejercicio 19:\n",
    "    Invierte un diccionario, intercambiando claves y valores.\n",
    "    Retorna el diccionario invertido.\n",
    "    \"\"\"\n",
    "    pass\n",
    "\n",
    "\n",
    "def ex20_merge_dicts_sum_values(d1, d2):\n",
    "    \"\"\"Ejercicio 20:\n",
    "    Fusiona dos diccionarios sumando los valores de las claves que se repitan. \n",
    "    Devuelve el diccionario resultante.\n",
    "    \"\"\"\n",
    "    pass\n",
    "\n",
    "\n",
    "# -----------------------------\n",
    "# 21-24: NumPy\n",
    "# -----------------------------\n",
    "\n",
    "def ex21_numpy_array_set_fifth():\n",
    "    \"\"\"Ejercicio 21:\n",
    "    Crea un arreglo de NumPy de 10 ceros y cambia el quinto elemento (índice 4) a 1.\n",
    "    Retorna el array resultante.\n",
    "    \"\"\"\n",
    "    pass\n",
    "\n",
    "\n",
    "def ex22_numpy_matrix_3x3():\n",
    "    \"\"\"Ejercicio 22:\n",
    "    Genera una matriz 3x3 con los valores del 0 al 8. \n",
    "    Retorna la matriz como array de NumPy.\n",
    "    \"\"\"\n",
    "    pass\n",
    "\n",
    "\n",
    "def ex23_numpy_statistics():\n",
    "    \"\"\"Ejercicio 23:\n",
    "    Genera un array aleatorio de 20 enteros y calcula la media, mediana y desviación estándar.\n",
    "    Retorna una tupla (media, mediana, desviación estándar).\n",
    "    \"\"\"\n",
    "    pass\n",
    "\n",
    "\n",
    "def ex24_numpy_clip_values(arr):\n",
    "    \"\"\"Ejercicio 24:\n",
    "    Dado un array (o lista) de números, reemplaza todos los valores mayores que 10 por 10\n",
    "    (es decir, limita/\"clip\" los valores máximos).\n",
    "    Retorna el array modificado.\n",
    "    \"\"\"\n",
    "    pass\n",
    "\n",
    "\n",
    "# -----------------------------\n",
    "# 25-28: Pandas (otros)\n",
    "# -----------------------------\n",
    "\n",
    "def ex25_filter_rows_age_over_30():\n",
    "    \"\"\"Ejercicio 25:\n",
    "    Crea un DataFrame con columnas 'Nombre', 'Edad' y 'Ciudad'.\n",
    "    Filtra y retorna solo las filas con `Edad` > 30.\n",
    "    \"\"\"\n",
    "    pass\n",
    "\n",
    "\n",
    "def ex26_load_dict_into_dataframe_and_sort():\n",
    "    \"\"\"Ejercicio 26:\n",
    "    Carga un diccionario en un DataFrame (por ejemplo {'Nombre': [...], 'Puntaje': [...]})\n",
    "    y ordénalo por la columna de puntaje de mayor a menor.\n",
    "    Retorna el DataFrame ordenado.\n",
    "    \"\"\"\n",
    "    pass\n",
    "\n",
    "\n",
    "def ex27_groupby_mean_value():\n",
    "    \"\"\"Ejercicio 27:\n",
    "    Dado un DataFrame con columnas 'Grupo' y 'Valor', calcula el promedio de 'Valor'\n",
    "    por cada 'Grupo' usando groupby. \n",
    "    Retorna el DataFrame agrupado con promedios.\n",
    "    \"\"\"\n",
    "    pass\n",
    "\n",
    "\n",
    "def ex28_most_sold_product_from_sales_df():\n",
    "    \"\"\"Ejercicio 28:\n",
    "    Dado un DataFrame de ventas con columnas 'Producto' y 'Cantidad', determina cuál\n",
    "    es el producto con la mayor suma total de 'Cantidad' (es decir, el más vendido).\n",
    "    Retorna una tupla (Producto, Ventas).\n",
    "    \"\"\"\n",
    "    pass\n",
    "\n",
    "\n",
    "# -----------------------------\n",
    "# 29-32: Lambdas y funciones anónimas\n",
    "# -----------------------------\n",
    "\n",
    "def ex29_map_lambda_cube(lst):\n",
    "    \"\"\"Ejercicio 29:\n",
    "    Usa map junto con una función lambda para elevar al cubo cada número en una lista.\n",
    "    Devuelve la lista resultante.\n",
    "    \"\"\"\n",
    "    pass\n",
    "\n",
    "\n",
    "def ex30_filter_lambda_even(lst):\n",
    "    \"\"\"Ejercicio 30:\n",
    "    Usa filter y una lambda para quedarte sólo con los números pares de una lista.\n",
    "    Devuelve la lista filtrada.\n",
    "    \"\"\"\n",
    "    pass\n",
    "\n",
    "\n",
    "def ex31_sort_list_of_dicts_by_key(lst, keyname):\n",
    "    \"\"\"Ejercicio 31:\n",
    "    Dada una lista de diccionarios, ordénala por el valor asociado a 'keyname' usando\n",
    "    sorted con una lambda. Devuelve la lista ordenada.\n",
    "    \"\"\"\n",
    "    pass\n",
    "\n",
    "\n",
    "def ex32_pandas_apply_lambda_uppercase(names_list):\n",
    "    \"\"\"Ejercicio 32:\n",
    "    Crea un DataFrame con una columna 'Nombre' a partir de names_list y usa apply con\n",
    "    una función lambda para crear una nueva columna con los nombres en mayúsculas.\n",
    "    Devuelve el DataFrame modificado.\n",
    "    \"\"\"\n",
    "    pass\n"
   ]
  },
  {
   "cell_type": "markdown",
   "id": "47c8468d-9bb2-44ec-8ce0-479bd4ec922f",
   "metadata": {},
   "source": [
    "## Sección 1-4"
   ]
  },
  {
   "cell_type": "code",
   "execution_count": 9,
   "id": "3dd0fa8b-c03c-4f69-ac5d-14d01918c4dd",
   "metadata": {},
   "outputs": [
    {
     "data": {
      "text/html": [
       "<div>\n",
       "<style scoped>\n",
       "    .dataframe tbody tr th:only-of-type {\n",
       "        vertical-align: middle;\n",
       "    }\n",
       "\n",
       "    .dataframe tbody tr th {\n",
       "        vertical-align: top;\n",
       "    }\n",
       "\n",
       "    .dataframe thead th {\n",
       "        text-align: right;\n",
       "    }\n",
       "</style>\n",
       "<table border=\"1\" class=\"dataframe\">\n",
       "  <thead>\n",
       "    <tr style=\"text-align: right;\">\n",
       "      <th></th>\n",
       "      <th>nombre</th>\n",
       "      <th>edad</th>\n",
       "    </tr>\n",
       "  </thead>\n",
       "  <tbody>\n",
       "    <tr>\n",
       "      <th>0</th>\n",
       "      <td>Julia</td>\n",
       "      <td>15</td>\n",
       "    </tr>\n",
       "    <tr>\n",
       "      <th>1</th>\n",
       "      <td>Agustina</td>\n",
       "      <td>34</td>\n",
       "    </tr>\n",
       "    <tr>\n",
       "      <th>2</th>\n",
       "      <td>Luisa</td>\n",
       "      <td>28</td>\n",
       "    </tr>\n",
       "    <tr>\n",
       "      <th>0</th>\n",
       "      <td>Julio</td>\n",
       "      <td>34</td>\n",
       "    </tr>\n",
       "    <tr>\n",
       "      <th>1</th>\n",
       "      <td>Agustín</td>\n",
       "      <td>14</td>\n",
       "    </tr>\n",
       "    <tr>\n",
       "      <th>2</th>\n",
       "      <td>Luis</td>\n",
       "      <td>32</td>\n",
       "    </tr>\n",
       "  </tbody>\n",
       "</table>\n",
       "</div>"
      ],
      "text/plain": [
       "     nombre  edad\n",
       "0     Julia    15\n",
       "1  Agustina    34\n",
       "2     Luisa    28\n",
       "0     Julio    34\n",
       "1   Agustín    14\n",
       "2      Luis    32"
      ]
     },
     "execution_count": 9,
     "metadata": {},
     "output_type": "execute_result"
    }
   ],
   "source": [
    "# Ejercicio 1: Crea dos DataFrame que compartan la misma estructura de columnas (por ejemplo, 'Nombre' y 'Edad'), \n",
    "# con al menos 3 filas cada uno. Concaténalos verticalmente en un único DataFrame. Retorna el DataFrame resultante.\n",
    "\n",
    "def ex1_concat_same_structure():\n",
    "    df_1 = pd.DataFrame({\"nombre\" : [\"Julia\", \"Agustina\", \"Luisa\"], \"edad\" : [15, 34, 28]})\n",
    "    df_2 = pd.DataFrame({\"nombre\" : [\"Julio\", \"Agustín\", \"Luis\"], \"edad\"  : [34, 14, 32]})\n",
    "    concatenado = pd.concat([df_1, df_2])\n",
    "    return concatenado\n",
    "\n",
    "ex1_concat_same_structure()"
   ]
  },
  {
   "cell_type": "code",
   "execution_count": 22,
   "id": "b57c9758-38ef-4a43-857c-77bfe196f68e",
   "metadata": {
    "scrolled": true
   },
   "outputs": [
    {
     "data": {
      "text/html": [
       "<div>\n",
       "<style scoped>\n",
       "    .dataframe tbody tr th:only-of-type {\n",
       "        vertical-align: middle;\n",
       "    }\n",
       "\n",
       "    .dataframe tbody tr th {\n",
       "        vertical-align: top;\n",
       "    }\n",
       "\n",
       "    .dataframe thead th {\n",
       "        text-align: right;\n",
       "    }\n",
       "</style>\n",
       "<table border=\"1\" class=\"dataframe\">\n",
       "  <thead>\n",
       "    <tr style=\"text-align: right;\">\n",
       "      <th></th>\n",
       "      <th>Venta</th>\n",
       "      <th>Mes</th>\n",
       "    </tr>\n",
       "  </thead>\n",
       "  <tbody>\n",
       "    <tr>\n",
       "      <th>0</th>\n",
       "      <td>353</td>\n",
       "      <td>Enero</td>\n",
       "    </tr>\n",
       "    <tr>\n",
       "      <th>1</th>\n",
       "      <td>557</td>\n",
       "      <td>Enero</td>\n",
       "    </tr>\n",
       "    <tr>\n",
       "      <th>2</th>\n",
       "      <td>620</td>\n",
       "      <td>Enero</td>\n",
       "    </tr>\n",
       "    <tr>\n",
       "      <th>3</th>\n",
       "      <td>757</td>\n",
       "      <td>Enero</td>\n",
       "    </tr>\n",
       "    <tr>\n",
       "      <th>4</th>\n",
       "      <td>417</td>\n",
       "      <td>Enero</td>\n",
       "    </tr>\n",
       "    <tr>\n",
       "      <th>5</th>\n",
       "      <td>858</td>\n",
       "      <td>Enero</td>\n",
       "    </tr>\n",
       "    <tr>\n",
       "      <th>6</th>\n",
       "      <td>382</td>\n",
       "      <td>Enero</td>\n",
       "    </tr>\n",
       "    <tr>\n",
       "      <th>7</th>\n",
       "      <td>284</td>\n",
       "      <td>Enero</td>\n",
       "    </tr>\n",
       "    <tr>\n",
       "      <th>8</th>\n",
       "      <td>493</td>\n",
       "      <td>Enero</td>\n",
       "    </tr>\n",
       "    <tr>\n",
       "      <th>9</th>\n",
       "      <td>459</td>\n",
       "      <td>Enero</td>\n",
       "    </tr>\n",
       "    <tr>\n",
       "      <th>10</th>\n",
       "      <td>759</td>\n",
       "      <td>Enero</td>\n",
       "    </tr>\n",
       "    <tr>\n",
       "      <th>11</th>\n",
       "      <td>457</td>\n",
       "      <td>Enero</td>\n",
       "    </tr>\n",
       "    <tr>\n",
       "      <th>12</th>\n",
       "      <td>631</td>\n",
       "      <td>Enero</td>\n",
       "    </tr>\n",
       "    <tr>\n",
       "      <th>13</th>\n",
       "      <td>171</td>\n",
       "      <td>Enero</td>\n",
       "    </tr>\n",
       "    <tr>\n",
       "      <th>14</th>\n",
       "      <td>638</td>\n",
       "      <td>Enero</td>\n",
       "    </tr>\n",
       "    <tr>\n",
       "      <th>15</th>\n",
       "      <td>380</td>\n",
       "      <td>Enero</td>\n",
       "    </tr>\n",
       "    <tr>\n",
       "      <th>16</th>\n",
       "      <td>827</td>\n",
       "      <td>Enero</td>\n",
       "    </tr>\n",
       "    <tr>\n",
       "      <th>17</th>\n",
       "      <td>797</td>\n",
       "      <td>Enero</td>\n",
       "    </tr>\n",
       "    <tr>\n",
       "      <th>18</th>\n",
       "      <td>474</td>\n",
       "      <td>Enero</td>\n",
       "    </tr>\n",
       "    <tr>\n",
       "      <th>19</th>\n",
       "      <td>942</td>\n",
       "      <td>Enero</td>\n",
       "    </tr>\n",
       "    <tr>\n",
       "      <th>20</th>\n",
       "      <td>519</td>\n",
       "      <td>Enero</td>\n",
       "    </tr>\n",
       "    <tr>\n",
       "      <th>21</th>\n",
       "      <td>866</td>\n",
       "      <td>Enero</td>\n",
       "    </tr>\n",
       "    <tr>\n",
       "      <th>22</th>\n",
       "      <td>140</td>\n",
       "      <td>Enero</td>\n",
       "    </tr>\n",
       "    <tr>\n",
       "      <th>23</th>\n",
       "      <td>533</td>\n",
       "      <td>Enero</td>\n",
       "    </tr>\n",
       "    <tr>\n",
       "      <th>24</th>\n",
       "      <td>679</td>\n",
       "      <td>Enero</td>\n",
       "    </tr>\n",
       "    <tr>\n",
       "      <th>25</th>\n",
       "      <td>260</td>\n",
       "      <td>Enero</td>\n",
       "    </tr>\n",
       "    <tr>\n",
       "      <th>26</th>\n",
       "      <td>977</td>\n",
       "      <td>Enero</td>\n",
       "    </tr>\n",
       "    <tr>\n",
       "      <th>27</th>\n",
       "      <td>695</td>\n",
       "      <td>Enero</td>\n",
       "    </tr>\n",
       "    <tr>\n",
       "      <th>28</th>\n",
       "      <td>338</td>\n",
       "      <td>Enero</td>\n",
       "    </tr>\n",
       "    <tr>\n",
       "      <th>29</th>\n",
       "      <td>887</td>\n",
       "      <td>Enero</td>\n",
       "    </tr>\n",
       "    <tr>\n",
       "      <th>0</th>\n",
       "      <td>331</td>\n",
       "      <td>Febrero</td>\n",
       "    </tr>\n",
       "    <tr>\n",
       "      <th>1</th>\n",
       "      <td>584</td>\n",
       "      <td>Febrero</td>\n",
       "    </tr>\n",
       "    <tr>\n",
       "      <th>2</th>\n",
       "      <td>540</td>\n",
       "      <td>Febrero</td>\n",
       "    </tr>\n",
       "    <tr>\n",
       "      <th>3</th>\n",
       "      <td>453</td>\n",
       "      <td>Febrero</td>\n",
       "    </tr>\n",
       "    <tr>\n",
       "      <th>4</th>\n",
       "      <td>474</td>\n",
       "      <td>Febrero</td>\n",
       "    </tr>\n",
       "    <tr>\n",
       "      <th>5</th>\n",
       "      <td>436</td>\n",
       "      <td>Febrero</td>\n",
       "    </tr>\n",
       "    <tr>\n",
       "      <th>6</th>\n",
       "      <td>398</td>\n",
       "      <td>Febrero</td>\n",
       "    </tr>\n",
       "    <tr>\n",
       "      <th>7</th>\n",
       "      <td>287</td>\n",
       "      <td>Febrero</td>\n",
       "    </tr>\n",
       "    <tr>\n",
       "      <th>8</th>\n",
       "      <td>636</td>\n",
       "      <td>Febrero</td>\n",
       "    </tr>\n",
       "    <tr>\n",
       "      <th>9</th>\n",
       "      <td>207</td>\n",
       "      <td>Febrero</td>\n",
       "    </tr>\n",
       "    <tr>\n",
       "      <th>10</th>\n",
       "      <td>838</td>\n",
       "      <td>Febrero</td>\n",
       "    </tr>\n",
       "    <tr>\n",
       "      <th>11</th>\n",
       "      <td>297</td>\n",
       "      <td>Febrero</td>\n",
       "    </tr>\n",
       "    <tr>\n",
       "      <th>12</th>\n",
       "      <td>777</td>\n",
       "      <td>Febrero</td>\n",
       "    </tr>\n",
       "    <tr>\n",
       "      <th>13</th>\n",
       "      <td>425</td>\n",
       "      <td>Febrero</td>\n",
       "    </tr>\n",
       "    <tr>\n",
       "      <th>14</th>\n",
       "      <td>170</td>\n",
       "      <td>Febrero</td>\n",
       "    </tr>\n",
       "    <tr>\n",
       "      <th>15</th>\n",
       "      <td>741</td>\n",
       "      <td>Febrero</td>\n",
       "    </tr>\n",
       "    <tr>\n",
       "      <th>16</th>\n",
       "      <td>324</td>\n",
       "      <td>Febrero</td>\n",
       "    </tr>\n",
       "    <tr>\n",
       "      <th>17</th>\n",
       "      <td>583</td>\n",
       "      <td>Febrero</td>\n",
       "    </tr>\n",
       "    <tr>\n",
       "      <th>18</th>\n",
       "      <td>807</td>\n",
       "      <td>Febrero</td>\n",
       "    </tr>\n",
       "    <tr>\n",
       "      <th>19</th>\n",
       "      <td>240</td>\n",
       "      <td>Febrero</td>\n",
       "    </tr>\n",
       "    <tr>\n",
       "      <th>20</th>\n",
       "      <td>885</td>\n",
       "      <td>Febrero</td>\n",
       "    </tr>\n",
       "    <tr>\n",
       "      <th>21</th>\n",
       "      <td>558</td>\n",
       "      <td>Febrero</td>\n",
       "    </tr>\n",
       "    <tr>\n",
       "      <th>22</th>\n",
       "      <td>166</td>\n",
       "      <td>Febrero</td>\n",
       "    </tr>\n",
       "    <tr>\n",
       "      <th>23</th>\n",
       "      <td>432</td>\n",
       "      <td>Febrero</td>\n",
       "    </tr>\n",
       "    <tr>\n",
       "      <th>24</th>\n",
       "      <td>703</td>\n",
       "      <td>Febrero</td>\n",
       "    </tr>\n",
       "    <tr>\n",
       "      <th>25</th>\n",
       "      <td>925</td>\n",
       "      <td>Febrero</td>\n",
       "    </tr>\n",
       "    <tr>\n",
       "      <th>26</th>\n",
       "      <td>863</td>\n",
       "      <td>Febrero</td>\n",
       "    </tr>\n",
       "    <tr>\n",
       "      <th>27</th>\n",
       "      <td>857</td>\n",
       "      <td>Febrero</td>\n",
       "    </tr>\n",
       "    <tr>\n",
       "      <th>28</th>\n",
       "      <td>693</td>\n",
       "      <td>Febrero</td>\n",
       "    </tr>\n",
       "    <tr>\n",
       "      <th>29</th>\n",
       "      <td>701</td>\n",
       "      <td>Febrero</td>\n",
       "    </tr>\n",
       "  </tbody>\n",
       "</table>\n",
       "</div>"
      ],
      "text/plain": [
       "    Venta      Mes\n",
       "0     353    Enero\n",
       "1     557    Enero\n",
       "2     620    Enero\n",
       "3     757    Enero\n",
       "4     417    Enero\n",
       "5     858    Enero\n",
       "6     382    Enero\n",
       "7     284    Enero\n",
       "8     493    Enero\n",
       "9     459    Enero\n",
       "10    759    Enero\n",
       "11    457    Enero\n",
       "12    631    Enero\n",
       "13    171    Enero\n",
       "14    638    Enero\n",
       "15    380    Enero\n",
       "16    827    Enero\n",
       "17    797    Enero\n",
       "18    474    Enero\n",
       "19    942    Enero\n",
       "20    519    Enero\n",
       "21    866    Enero\n",
       "22    140    Enero\n",
       "23    533    Enero\n",
       "24    679    Enero\n",
       "25    260    Enero\n",
       "26    977    Enero\n",
       "27    695    Enero\n",
       "28    338    Enero\n",
       "29    887    Enero\n",
       "0     331  Febrero\n",
       "1     584  Febrero\n",
       "2     540  Febrero\n",
       "3     453  Febrero\n",
       "4     474  Febrero\n",
       "5     436  Febrero\n",
       "6     398  Febrero\n",
       "7     287  Febrero\n",
       "8     636  Febrero\n",
       "9     207  Febrero\n",
       "10    838  Febrero\n",
       "11    297  Febrero\n",
       "12    777  Febrero\n",
       "13    425  Febrero\n",
       "14    170  Febrero\n",
       "15    741  Febrero\n",
       "16    324  Febrero\n",
       "17    583  Febrero\n",
       "18    807  Febrero\n",
       "19    240  Febrero\n",
       "20    885  Febrero\n",
       "21    558  Febrero\n",
       "22    166  Febrero\n",
       "23    432  Febrero\n",
       "24    703  Febrero\n",
       "25    925  Febrero\n",
       "26    863  Febrero\n",
       "27    857  Febrero\n",
       "28    693  Febrero\n",
       "29    701  Febrero"
      ]
     },
     "execution_count": 22,
     "metadata": {},
     "output_type": "execute_result"
    }
   ],
   "source": [
    "#Ejercicio 2: Tienes un DataFrame con ventas de enero y otro con ventas de febrero (mismas columnas).\n",
    "# Concaténalos en un solo DataFrame y añade una columna que indique el mes original de cada fila (por ejemplo: 'Enero' o 'Febrero'). \n",
    "# Retorna el DataFrame resultante.\n",
    "\n",
    "def ex2_concat_with_month_column():\n",
    "    ventas_enero = pd.DataFrame({\"Venta\" : np.random.randint(100, 1000, size = 30)})\n",
    "    ventas_febrero = pd.DataFrame({\"Venta\" : np.random.randint(100, 1000, size = 30)})\n",
    "\n",
    "    ventas_enero['Mes'] = 'Enero'\n",
    "    ventas_febrero['Mes'] = 'Febrero'\n",
    "    \n",
    "    ventas = pd.concat([ventas_enero, ventas_febrero])\n",
    "    return ventas\n",
    "\n",
    "ex2_concat_with_month_column()"
   ]
  },
  {
   "cell_type": "code",
   "execution_count": 24,
   "id": "cbac66a5-b4b0-4110-9794-898ff004989d",
   "metadata": {},
   "outputs": [
    {
     "data": {
      "text/html": [
       "<div>\n",
       "<style scoped>\n",
       "    .dataframe tbody tr th:only-of-type {\n",
       "        vertical-align: middle;\n",
       "    }\n",
       "\n",
       "    .dataframe tbody tr th {\n",
       "        vertical-align: top;\n",
       "    }\n",
       "\n",
       "    .dataframe thead th {\n",
       "        text-align: right;\n",
       "    }\n",
       "</style>\n",
       "<table border=\"1\" class=\"dataframe\">\n",
       "  <thead>\n",
       "    <tr style=\"text-align: right;\">\n",
       "      <th></th>\n",
       "      <th>Producto</th>\n",
       "      <th>Ventas</th>\n",
       "      <th>Descuento</th>\n",
       "    </tr>\n",
       "  </thead>\n",
       "  <tbody>\n",
       "    <tr>\n",
       "      <th>0</th>\n",
       "      <td>flores</td>\n",
       "      <td>200.0</td>\n",
       "      <td>0.0</td>\n",
       "    </tr>\n",
       "    <tr>\n",
       "      <th>1</th>\n",
       "      <td>chocolate</td>\n",
       "      <td>350.0</td>\n",
       "      <td>0.0</td>\n",
       "    </tr>\n",
       "    <tr>\n",
       "      <th>2</th>\n",
       "      <td>dulces</td>\n",
       "      <td>180.0</td>\n",
       "      <td>0.0</td>\n",
       "    </tr>\n",
       "    <tr>\n",
       "      <th>0</th>\n",
       "      <td>tazas</td>\n",
       "      <td>0.0</td>\n",
       "      <td>10.0</td>\n",
       "    </tr>\n",
       "    <tr>\n",
       "      <th>1</th>\n",
       "      <td>marcos</td>\n",
       "      <td>0.0</td>\n",
       "      <td>5.0</td>\n",
       "    </tr>\n",
       "    <tr>\n",
       "      <th>2</th>\n",
       "      <td>fotos</td>\n",
       "      <td>0.0</td>\n",
       "      <td>15.0</td>\n",
       "    </tr>\n",
       "  </tbody>\n",
       "</table>\n",
       "</div>"
      ],
      "text/plain": [
       "    Producto  Ventas  Descuento\n",
       "0     flores   200.0        0.0\n",
       "1  chocolate   350.0        0.0\n",
       "2     dulces   180.0        0.0\n",
       "0      tazas     0.0       10.0\n",
       "1     marcos     0.0        5.0\n",
       "2      fotos     0.0       15.0"
      ]
     },
     "execution_count": 24,
     "metadata": {},
     "output_type": "execute_result"
    }
   ],
   "source": [
    "# Ejercicio 3: Crea dos DataFrame que no tengan exactamente las mismas columnas (ej.: uno tiene \n",
    "#'Producto' y 'Ventas', el otro 'Producto' y 'Descuento'). Concaténalos y asegura que los valores faltantes queden rellenados con 0. \n",
    "# Retorna el DataFrame resultante.\n",
    "\n",
    "def ex3_concat_diff_columns_fillna():\n",
    "    p_ventas = pd.DataFrame({\"Producto\" : [\"flores\", \"chocolate\", \"dulces\"], \"Ventas\" : [200, 350, 180]})\n",
    "    p_descuento = pd.DataFrame({\"Producto\" : [\"tazas\", \"marcos\", \"fotos\"], \"Descuento\" : [10, 5, 15]})\n",
    "    df_ventas = pd.concat([p_ventas, p_descuento]).fillna(0)\n",
    "    return df_ventas\n",
    "    \n",
    "ex3_concat_diff_columns_fillna()"
   ]
  },
  {
   "cell_type": "code",
   "execution_count": 26,
   "id": "3bfaec96-c3a9-453b-96e7-5aa585a0397e",
   "metadata": {},
   "outputs": [
    {
     "data": {
      "text/html": [
       "<div>\n",
       "<style scoped>\n",
       "    .dataframe tbody tr th:only-of-type {\n",
       "        vertical-align: middle;\n",
       "    }\n",
       "\n",
       "    .dataframe tbody tr th {\n",
       "        vertical-align: top;\n",
       "    }\n",
       "\n",
       "    .dataframe thead th {\n",
       "        text-align: right;\n",
       "    }\n",
       "</style>\n",
       "<table border=\"1\" class=\"dataframe\">\n",
       "  <thead>\n",
       "    <tr style=\"text-align: right;\">\n",
       "      <th></th>\n",
       "      <th>Notas</th>\n",
       "    </tr>\n",
       "  </thead>\n",
       "  <tbody>\n",
       "    <tr>\n",
       "      <th>0</th>\n",
       "      <td>2</td>\n",
       "    </tr>\n",
       "    <tr>\n",
       "      <th>1</th>\n",
       "      <td>6</td>\n",
       "    </tr>\n",
       "    <tr>\n",
       "      <th>2</th>\n",
       "      <td>8</td>\n",
       "    </tr>\n",
       "    <tr>\n",
       "      <th>0</th>\n",
       "      <td>3</td>\n",
       "    </tr>\n",
       "    <tr>\n",
       "      <th>1</th>\n",
       "      <td>7</td>\n",
       "    </tr>\n",
       "    <tr>\n",
       "      <th>2</th>\n",
       "      <td>9</td>\n",
       "    </tr>\n",
       "    <tr>\n",
       "      <th>0</th>\n",
       "      <td>9</td>\n",
       "    </tr>\n",
       "    <tr>\n",
       "      <th>1</th>\n",
       "      <td>1</td>\n",
       "    </tr>\n",
       "    <tr>\n",
       "      <th>2</th>\n",
       "      <td>3</td>\n",
       "    </tr>\n",
       "  </tbody>\n",
       "</table>\n",
       "</div>"
      ],
      "text/plain": [
       "   Notas\n",
       "0      2\n",
       "1      6\n",
       "2      8\n",
       "0      3\n",
       "1      7\n",
       "2      9\n",
       "0      9\n",
       "1      1\n",
       "2      3"
      ]
     },
     "execution_count": 26,
     "metadata": {},
     "output_type": "execute_result"
    }
   ],
   "source": [
    "# Ejercicio 4: Genera tres DataFrame pequeños (cada uno con, por ejemplo, 3 filas) que representen notas de distintos grupos de alumnos. \n",
    "# Concaténalos verticalmente en un solo DataFrame que contenga todas las notas. Retorna el DataFrame resultante.\n",
    "\n",
    "def ex4_concat_three_groups():\n",
    "    tomas = pd.DataFrame({\"Notas\" : np.random.randint(1, 10, size = 3)})\n",
    "    julieta = pd.DataFrame({\"Notas\" : np.random.randint(1, 10, size = 3)})\n",
    "    pepe = pd.DataFrame({\"Notas\" : np.random.randint(1, 10, size = 3)})\n",
    "    notas = pd.concat([tomas, julieta, pepe])\n",
    "    return notas\n",
    "\n",
    "ex4_concat_three_groups()  "
   ]
  },
  {
   "cell_type": "markdown",
   "id": "bf7593e9-d17e-4d42-9061-5f97a8a0853d",
   "metadata": {},
   "source": [
    "## Sección 5-8"
   ]
  },
  {
   "cell_type": "code",
   "execution_count": 27,
   "id": "8c4dde69-8c81-4890-b4ba-354a603c16b5",
   "metadata": {},
   "outputs": [
    {
     "data": {
      "text/plain": [
       "['dulce', 'truco', 'verde']"
      ]
     },
     "execution_count": 27,
     "metadata": {},
     "output_type": "execute_result"
    }
   ],
   "source": [
    "# Ejercicio 5: Dada una lista de enteros (o strings) que puede contener duplicados, devuelve una\n",
    "# nueva lista sin duplicados preservando el orden original. No uses directamente set() para eliminar duplicados \n",
    "# (escribe la lógica que preserve el orden). Retorna la nueva lista sin duplicados.\n",
    "\n",
    "def ex5_remove_duplicates_preserve_order(lst):\n",
    "    no_duplicados = []\n",
    "    for item in lst:\n",
    "        if item not in no_duplicados:\n",
    "            no_duplicados.append(item)\n",
    "    return no_duplicados\n",
    "\n",
    "ex5_remove_duplicates_preserve_order([\"dulce\", \"truco\", \"verde\", \"verde\"])"
   ]
  },
  {
   "cell_type": "code",
   "execution_count": 30,
   "id": "5d297ed6-e213-4ea1-9deb-cfd2efe06f8e",
   "metadata": {},
   "outputs": [
    {
     "data": {
      "text/plain": [
       "[(3, 1), ('rojo', 2), ('verde', 3)]"
      ]
     },
     "execution_count": 30,
     "metadata": {},
     "output_type": "execute_result"
    }
   ],
   "source": [
    "# Ejercicio 6: Dada una lista de tuplas, por ejemplo [(\"a\", 3), (\"b\", 1), (\"c\", 2)], ordénala\n",
    "# por el segundo elemento de cada tupla y devuelve la lista ordenada. Usa una función anónima si lo deseas. Retorna la lista ordenada.\n",
    "\n",
    "def ex6_sort_tuples_by_second_element(tuples_list):\n",
    "    return sorted(tuples_list, key=lambda x: x[1])\n",
    "\n",
    "ex6_sort_tuples_by_second_element([(\"rojo\", 2), (3, 1), (\"verde\", 3)])"
   ]
  },
  {
   "cell_type": "code",
   "execution_count": 32,
   "id": "433d8493-98da-4797-833f-42a9270c7a07",
   "metadata": {},
   "outputs": [
    {
     "data": {
      "text/plain": [
       "[7, 14, 21, 28, 35, 42, 49, 56, 63]"
      ]
     },
     "execution_count": 32,
     "metadata": {},
     "output_type": "execute_result"
    }
   ],
   "source": [
    "#Ejercicio 7: Devuelve una lista con los primeros n múltiplos de 7 (por ejemplo, n=5 -> [7,14,21,28,35]).\n",
    "#Retorna la lista generada.\n",
    "\n",
    "def ex7_first_n_multiples_of_7(n):\n",
    "    return [7 * i for i in range(1, n + 1)]\n",
    "\n",
    "ex7_first_n_multiples_of_7(9)"
   ]
  },
  {
   "cell_type": "code",
   "execution_count": 33,
   "id": "bafe409b-1f02-44bf-be73-749c75f3d0c9",
   "metadata": {},
   "outputs": [
    {
     "data": {
      "text/plain": [
       "['reconocer', 'oso']"
      ]
     },
     "execution_count": 33,
     "metadata": {},
     "output_type": "execute_result"
    }
   ],
   "source": [
    "#Ejercicio 8:Dada una lista de cadenas, devuelve sólo aquellas que son palíndromos (se leen igual al derecho y al revés). \n",
    "# Retorna una lista con los palíndromos encontrados.\n",
    "\n",
    "def ex8_filter_palindromes(strings):\n",
    "    return [s for s in strings if s == s[::-1]]\n",
    "\n",
    "ex8_filter_palindromes([\"hola\", \"reconocer\", \"oso\", \"tigre\"])"
   ]
  },
  {
   "cell_type": "markdown",
   "id": "44ac7090-cd80-4262-9320-6f9ae8c4b056",
   "metadata": {},
   "source": [
    "## Secciones: 9-12 Conjuntos"
   ]
  },
  {
   "cell_type": "code",
   "execution_count": 38,
   "id": "07d9a343-9d58-4361-a3c3-12c0dcb75f80",
   "metadata": {},
   "outputs": [
    {
     "data": {
      "text/plain": [
       "({3}, {4, 'azul', 'hola'})"
      ]
     },
     "execution_count": 38,
     "metadata": {},
     "output_type": "execute_result"
    }
   ],
   "source": [
    "# Ejercicio 9:Dado dos conjuntos, devuelve su intersección y la diferencia (elementos de A que no están en B). \n",
    "# Retorna una tupla (intersección, diferencia).\n",
    "\n",
    "def ex9_set_intersection_and_difference(set_a, set_b):\n",
    "    set_a, set_b = set(set_a), set(set_b)\n",
    "    return (set_a & set_b, set_a - set_b)\n",
    "\n",
    "ex9_set_intersection_and_difference([\"hola\", \"azul\", 3, 4], [\"tigre\", \"elefante\", 3])"
   ]
  },
  {
   "cell_type": "code",
   "execution_count": 39,
   "id": "9336acb9-1ef9-43f7-9af5-7ca976b0df0c",
   "metadata": {},
   "outputs": [
    {
     "data": {
      "text/plain": [
       "True"
      ]
     },
     "execution_count": 39,
     "metadata": {},
     "output_type": "execute_result"
    }
   ],
   "source": [
    "#Ejercicio 10: Verifica si set_a es subconjunto de set_b. Devuelve True o False.\n",
    "\n",
    "def ex10_is_subset(set_a, set_b):\n",
    "    set_a, set_b = set(set_a), set(set_b)\n",
    "    return set_a.issubset(set_b)\n",
    "\n",
    "ex10_is_subset([\"azul\", \"verde\",\"amarillo\"], [\"amarillo\", \"azul\", \"verde\", \"rojo\", \"morado\"])"
   ]
  },
  {
   "cell_type": "code",
   "execution_count": 40,
   "id": "d4d22209-48e6-4402-a451-f7f4466f2f54",
   "metadata": {},
   "outputs": [
    {
     "data": {
      "text/plain": [
       "3"
      ]
     },
     "execution_count": 40,
     "metadata": {},
     "output_type": "execute_result"
    }
   ],
   "source": [
    "# Ejercicio 11: Dada una lista, cuenta cuántos elementos únicos contiene (usa set para obtener el conteo).\n",
    "# Retorna el número de elementos únicos.\n",
    " \n",
    "def ex11_count_unique_elements(lst):\n",
    "    return len(set(lst))\n",
    "\n",
    "ex11_count_unique_elements([\"amarillo\", \"azul\", \"verde\", \"azul\", \"verde\"])"
   ]
  },
  {
   "cell_type": "code",
   "execution_count": 42,
   "id": "3fa96bd5-a701-4e44-a903-6fc152aa8c22",
   "metadata": {},
   "outputs": [
    {
     "data": {
      "text/plain": [
       "{'azul', 'el', 'gusta', 'hola', 'me', 'y'}"
      ]
     },
     "execution_count": 42,
     "metadata": {},
     "output_type": "execute_result"
    }
   ],
   "source": [
    "# Ejercicio 12:Dada una lista de frases (strings), extrae y devuelve el conjunto de todas las palabras únicas \n",
    "# que aparecen en todas las frases. Retorna un conjunto con las palabras únicas.\n",
    "\n",
    "def ex12_unique_words_from_phrases(phrases):\n",
    "    palabra = set()\n",
    "    for frase in phrases:\n",
    "        for p in frase.split():\n",
    "            palabra.add(p.lower())\n",
    "    return palabra\n",
    "\n",
    "ex12_unique_words_from_phrases([\"hola hola\", \"azul y azul\", \"me gusta el azul\"])"
   ]
  },
  {
   "cell_type": "markdown",
   "id": "6e0101d2-17b2-4b7f-a3fd-594a04e520e5",
   "metadata": {},
   "source": [
    "## Sección 13-16: Tuplas"
   ]
  },
  {
   "cell_type": "code",
   "execution_count": 44,
   "id": "b678cabf-0472-441b-9aad-fa9c80adc95b",
   "metadata": {},
   "outputs": [
    {
     "data": {
      "text/plain": [
       "('Carmen', 45)"
      ]
     },
     "execution_count": 44,
     "metadata": {},
     "output_type": "execute_result"
    }
   ],
   "source": [
    "# Ejercicio 13: Recibe una lista de tuplas (nombre, edad). Devuelve la tupla de la persona con mayor edad.\n",
    "\n",
    "def ex13_oldest_person(tuple_list):\n",
    "    return max(tuple_list, key=lambda x: x[1])\n",
    "\n",
    "ex13_oldest_person([(\"Luis\", 30), (\"Carmen\", 45), (\"Jorge\", 14)])"
   ]
  },
  {
   "cell_type": "code",
   "execution_count": 52,
   "id": "eb37bcac-dc84-4de9-9b85-fe302dbd5f57",
   "metadata": {},
   "outputs": [
    {
     "data": {
      "text/plain": [
       "[('hola',), ('azul',), ('amarillo',)]"
      ]
     },
     "execution_count": 52,
     "metadata": {},
     "output_type": "execute_result"
    }
   ],
   "source": [
    "# Ejercicio 14: Convierte una lista de listas en una lista de tuplas. Retorna la nueva lista de tuplas.\n",
    "\n",
    "def ex14_convert_list_of_lists_to_tuples(list_of_lists):\n",
    "    return [tuple(sublist) for sublist in list_of_lists]\n",
    "\n",
    "ex14_convert_list_of_lists_to_tuples([[\"hola\"],[\"azul\"],[\"amarillo\"]])"
   ]
  },
  {
   "cell_type": "code",
   "execution_count": 54,
   "id": "5242d27a-a213-4f0e-bd25-17f30ca55a17",
   "metadata": {},
   "outputs": [
    {
     "data": {
      "text/plain": [
       "12"
      ]
     },
     "execution_count": 54,
     "metadata": {},
     "output_type": "execute_result"
    }
   ],
   "source": [
    "# Ejercicio 15: Recibe una tupla de tres números (a, b, c). Desempaquétala y devuelve la suma a+b+c. \n",
    "# Retorna un número entero o flotante.\n",
    "    \n",
    "def ex15_sum_of_tuple_abc(t):\n",
    "    a, b, c = t\n",
    "    return a + b + c\n",
    "    \n",
    "ex15_sum_of_tuple_abc([4, 2, 6])"
   ]
  },
  {
   "cell_type": "code",
   "execution_count": 55,
   "id": "db7dfc79-ec7e-4d49-8eea-78f7fc590334",
   "metadata": {},
   "outputs": [
    {
     "data": {
      "text/plain": [
       "[('chocolate', 45), ('pizza', 100), ('flores', 120)]"
      ]
     },
     "execution_count": 55,
     "metadata": {},
     "output_type": "execute_result"
    }
   ],
   "source": [
    "# Ejercicio 16: Dada una lista de tuplas (producto, precio), ordénala por precio de menor a mayor.\n",
    "# Retorna la lista ordenada.\n",
    "\n",
    "def ex16_sort_product_price(prod_price_list):\n",
    "    return sorted(prod_price_list, key=lambda x: x[1])\n",
    "\n",
    "ex16_sort_product_price([(\"pizza\", 100), (\"chocolate\", 45), (\"flores\", 120)])"
   ]
  },
  {
   "cell_type": "markdown",
   "id": "8a6aedf7-bf3d-4537-a251-b81bd5fe2745",
   "metadata": {},
   "source": [
    "## Sección 17-20: Diccionarios"
   ]
  },
  {
   "cell_type": "code",
   "execution_count": 58,
   "id": "bafd98ed-9f77-42cb-ad60-9744c35573d5",
   "metadata": {},
   "outputs": [
    {
     "data": {
      "text/plain": [
       "{'m': 1,\n",
       " 'e': 3,\n",
       " ' ': 3,\n",
       " 'g': 1,\n",
       " 'u': 1,\n",
       " 's': 1,\n",
       " 't': 2,\n",
       " 'a': 2,\n",
       " 'l': 2,\n",
       " 'c': 2,\n",
       " 'h': 1,\n",
       " 'o': 2,\n",
       " '.': 1}"
      ]
     },
     "execution_count": 58,
     "metadata": {},
     "output_type": "execute_result"
    }
   ],
   "source": [
    "# Ejercicio 17: Cuenta la frecuencia de cada carácter en una cadena usando un diccionario.\n",
    "# Retorna un diccionario {carácter: frecuencia}.\n",
    "\n",
    "def ex17_char_frequency(s):\n",
    "    frecuencia = {}\n",
    "    for valor in s:\n",
    "        frecuencia[valor] = frecuencia.get(valor, 0) + 1\n",
    "    return frecuencia\n",
    "\n",
    "ex17_char_frequency(\"me gusta el chocolate.\")"
   ]
  },
  {
   "cell_type": "code",
   "execution_count": 59,
   "id": "5f40e7de-23e7-4fae-a459-6b3b9307e76e",
   "metadata": {},
   "outputs": [
    {
     "data": {
      "text/plain": [
       "('Tom', 10)"
      ]
     },
     "execution_count": 59,
     "metadata": {},
     "output_type": "execute_result"
    }
   ],
   "source": [
    "# Ejercicio 18: Dado un diccionario {alumno: calificación}, devuelve al mejor estudiante. \n",
    "# Retorna una tupla (nombre, calificación).\n",
    "\n",
    "def ex18_best_student(grades_dict):\n",
    "    mejor = max(grades_dict.items(), key=lambda x: x[1])\n",
    "    return mejor\n",
    "\n",
    "ex18_best_student({\"Pepe\" : 7, \"Tom\" : 10, \"Julia\": 8})"
   ]
  },
  {
   "cell_type": "code",
   "execution_count": 60,
   "id": "b4e28fdb-f018-49f5-a203-de4ca19095fb",
   "metadata": {},
   "outputs": [
    {
     "data": {
      "text/plain": [
       "{7: 'Pepe', 10: 'Tom', 8: 'Julia'}"
      ]
     },
     "execution_count": 60,
     "metadata": {},
     "output_type": "execute_result"
    }
   ],
   "source": [
    "# Ejercicio 19: Invierte un diccionario, intercambiando claves y valores. Retorna el diccionario invertido.\n",
    "\n",
    "def ex19_invert_dictionary(d):\n",
    "    return {v: k for k, v in d.items()}\n",
    "\n",
    "ex19_invert_dictionary({\"Pepe\" : 7, \"Tom\" : 10, \"Julia\": 8})"
   ]
  },
  {
   "cell_type": "code",
   "execution_count": 62,
   "id": "14d19a65-226a-4e52-94f0-8ef28bd2bd9d",
   "metadata": {},
   "outputs": [
    {
     "data": {
      "text/plain": [
       "{'Pepe': 10, 'Tom': 10, 'Julia': 8, 'Abraham': 10, 'Tere': 9}"
      ]
     },
     "execution_count": 62,
     "metadata": {},
     "output_type": "execute_result"
    }
   ],
   "source": [
    "# Ejercicio 20: Fusiona dos diccionarios sumando los valores de las claves que se repitan. \n",
    "# Devuelve el diccionario resultante.\n",
    "\n",
    "def ex20_merge_dicts_sum_values(d1, d2):\n",
    "    resultado = d1.copy()\n",
    "    for k, v in d2.items():\n",
    "        resultado[k] = resultado.get(k, 0) + v\n",
    "    return resultado\n",
    "\n",
    "ex20_merge_dicts_sum_values({\"Pepe\" : 7, \"Tom\" : 10, \"Julia\": 8}, {\"Pepe\" : 3, \"Abraham\" : 10, \"Tere\": 9})"
   ]
  },
  {
   "cell_type": "markdown",
   "id": "1aa8b7ca-bff3-4b66-864e-1ede80feba68",
   "metadata": {},
   "source": [
    "## Sección 21-24: NumPy"
   ]
  },
  {
   "cell_type": "code",
   "execution_count": 64,
   "id": "f9505963-d134-43c5-b88a-4d67586b04c6",
   "metadata": {},
   "outputs": [
    {
     "data": {
      "text/plain": [
       "array([0., 0., 0., 0., 1., 0., 0., 0., 0., 0.])"
      ]
     },
     "execution_count": 64,
     "metadata": {},
     "output_type": "execute_result"
    }
   ],
   "source": [
    "# Ejercicio 21: Crea un arreglo de NumPy de 10 ceros y cambia el quinto elemento (índice 4) a 1.\n",
    "# Retorna el array resultante.\n",
    "\n",
    "def ex21_numpy_array_set_fifth():\n",
    "    ceros = np.zeros(10)\n",
    "    ceros[4] = 1\n",
    "    return ceros\n",
    "\n",
    "ex21_numpy_array_set_fifth()"
   ]
  },
  {
   "cell_type": "code",
   "execution_count": 76,
   "id": "eccf7bb3-952e-45cc-824a-b8671720b283",
   "metadata": {},
   "outputs": [
    {
     "data": {
      "text/plain": [
       "array([[9, 7, 3],\n",
       "       [9, 0, 9],\n",
       "       [3, 8, 6]])"
      ]
     },
     "execution_count": 76,
     "metadata": {},
     "output_type": "execute_result"
    }
   ],
   "source": [
    "# Ejercicio 22: Genera una matriz 3x3 con los valores del 0 al 8. \n",
    "# Retorna la matriz como array de NumPy.\n",
    "\n",
    "def ex22_numpy_matrix_3x3():\n",
    "    matriz = pd.DataFrame(np.random.randint(0, 10, size=(3,3)))\n",
    "    return matriz.to_numpy()\n",
    "\n",
    "ex22_numpy_matrix_3x3()"
   ]
  },
  {
   "cell_type": "code",
   "execution_count": 80,
   "id": "b6e9202b-78a7-41a9-b22d-b2f9b83c4bf9",
   "metadata": {},
   "outputs": [
    {
     "data": {
      "text/plain": [
       "(np.float64(7.3), np.float64(7.5), np.float64(4.428317965096905))"
      ]
     },
     "execution_count": 80,
     "metadata": {},
     "output_type": "execute_result"
    }
   ],
   "source": [
    "# Ejercicio 23: Genera un array aleatorio de 20 enteros y calcula la media, mediana y desviación estándar.\n",
    "# Retorna una tupla (media, mediana, desviación estándar).\n",
    "\n",
    "def ex23_numpy_statistics():\n",
    "    enteros = np.random.randint(15, size = 20)\n",
    "    return (np.mean(enteros), np.median(enteros), np.std(enteros))\n",
    "    \n",
    "ex23_numpy_statistics()"
   ]
  },
  {
   "cell_type": "code",
   "execution_count": 83,
   "id": "8fd0964f-62ae-48cc-ad53-262149508238",
   "metadata": {},
   "outputs": [
    {
     "data": {
      "text/plain": [
       "[3, 4, 10, 10, 8]"
      ]
     },
     "execution_count": 83,
     "metadata": {},
     "output_type": "execute_result"
    }
   ],
   "source": [
    "# Ejercicio 24: Dado un array (o lista) de números, reemplaza todos los valores mayores que 10 por 10 \n",
    "# (es decir, limita/\"clip\" los valores máximos).\n",
    "# Retorna el array modificado.\n",
    "\n",
    "def ex24_numpy_clip_values(arr):\n",
    "    for i in range(len(arr)):\n",
    "        if arr[i] > 10:\n",
    "            arr[i] = 10\n",
    "    return arr\n",
    "    \n",
    "ex24_numpy_clip_values([3, 4, 19, 29, 8])"
   ]
  },
  {
   "cell_type": "markdown",
   "id": "28b3fc68-72b7-4f69-88c4-511463856418",
   "metadata": {},
   "source": [
    "## Sección 25-28: Pandas (otros)\n",
    "\n",
    "\n",
    "def ex26_load_dict_into_dataframe_and_sort():\n",
    "    \"\"\"Ejercicio 26:\n",
    "    Carga un diccionario en un DataFrame (por ejemplo {'Nombre': [...], 'Puntaje': [...]})\n",
    "    y ordénalo por la columna de puntaje de mayor a menor.\n",
    "    Retorna el DataFrame ordenado.\n",
    "    \"\"\"\n",
    "    pass\n",
    "\n",
    "\n",
    "def ex27_groupby_mean_value():\n",
    "    \"\"\"Ejercicio 27:\n",
    "    Dado un DataFrame con columnas 'Grupo' y 'Valor', calcula el promedio de 'Valor'\n",
    "    por cada 'Grupo' usando groupby. \n",
    "    Retorna el DataFrame agrupado con promedios.\n",
    "    \"\"\"\n",
    "    pass\n",
    "\n",
    "\n",
    "def ex28_most_sold_product_from_sales_df():\n",
    "    \"\"\"Ejercicio 28:\n",
    "    Dado un DataFrame de ventas con columnas 'Producto' y 'Cantidad', determina cuál\n",
    "    es el producto con la mayor suma total de 'Cantidad' (es decir, el más vendido).\n",
    "    Retorna una tupla (Producto, Ventas).\n",
    "    \"\"\"\n",
    "    pass\n"
   ]
  },
  {
   "cell_type": "code",
   "execution_count": 87,
   "id": "bcb495de-fbaa-496c-87d8-ec2c73ead898",
   "metadata": {},
   "outputs": [
    {
     "data": {
      "text/html": [
       "<div>\n",
       "<style scoped>\n",
       "    .dataframe tbody tr th:only-of-type {\n",
       "        vertical-align: middle;\n",
       "    }\n",
       "\n",
       "    .dataframe tbody tr th {\n",
       "        vertical-align: top;\n",
       "    }\n",
       "\n",
       "    .dataframe thead th {\n",
       "        text-align: right;\n",
       "    }\n",
       "</style>\n",
       "<table border=\"1\" class=\"dataframe\">\n",
       "  <thead>\n",
       "    <tr style=\"text-align: right;\">\n",
       "      <th></th>\n",
       "      <th>Nombre</th>\n",
       "      <th>Edad</th>\n",
       "      <th>Ciudad</th>\n",
       "    </tr>\n",
       "  </thead>\n",
       "  <tbody>\n",
       "    <tr>\n",
       "      <th>0</th>\n",
       "      <td>Luis</td>\n",
       "      <td>35</td>\n",
       "      <td>Londres</td>\n",
       "    </tr>\n",
       "    <tr>\n",
       "      <th>1</th>\n",
       "      <td>Carla</td>\n",
       "      <td>34</td>\n",
       "      <td>Santiago</td>\n",
       "    </tr>\n",
       "  </tbody>\n",
       "</table>\n",
       "</div>"
      ],
      "text/plain": [
       "  Nombre  Edad    Ciudad\n",
       "0   Luis    35   Londres\n",
       "1  Carla    34  Santiago"
      ]
     },
     "execution_count": 87,
     "metadata": {},
     "output_type": "execute_result"
    }
   ],
   "source": [
    "# Ejercicio 25: Crea un DataFrame con columnas 'Nombre', 'Edad' y 'Ciudad'.\n",
    "# Filtra y retorna solo las filas con `Edad` > 30.\n",
    "\n",
    "def ex25_filter_rows_age_over_30():\n",
    "    df = pd.DataFrame({\"Nombre\": [\"Luis\", \"Carla\", \"Sofía\"], \"Edad\" : [35, 34, 27], \"Ciudad\" : [\"Londres\", \"Santiago\", \"Buenos Aires\"]})\n",
    "    return df[df['Edad'] > 30]\n",
    "\n",
    "ex25_filter_rows_age_over_30()"
   ]
  },
  {
   "cell_type": "code",
   "execution_count": null,
   "id": "da711f2d-d4b9-4ad1-9578-12e98ff8a96e",
   "metadata": {},
   "outputs": [],
   "source": []
  },
  {
   "cell_type": "code",
   "execution_count": null,
   "id": "79e19f01-0252-4a04-9576-e85193af9bbe",
   "metadata": {},
   "outputs": [],
   "source": []
  },
  {
   "cell_type": "code",
   "execution_count": null,
   "id": "824719b0-ac7b-468c-adf3-1309b4f285cc",
   "metadata": {},
   "outputs": [],
   "source": []
  },
  {
   "cell_type": "code",
   "execution_count": null,
   "id": "743d0d41-8bdc-4817-81b1-b7888a84f237",
   "metadata": {},
   "outputs": [],
   "source": []
  },
  {
   "cell_type": "code",
   "execution_count": null,
   "id": "0e44029d-769e-42e0-85ec-e3752d7e5311",
   "metadata": {},
   "outputs": [],
   "source": []
  }
 ],
 "metadata": {
  "kernelspec": {
   "display_name": "Python 3 (ipykernel)",
   "language": "python",
   "name": "python3"
  },
  "language_info": {
   "codemirror_mode": {
    "name": "ipython",
    "version": 3
   },
   "file_extension": ".py",
   "mimetype": "text/x-python",
   "name": "python",
   "nbconvert_exporter": "python",
   "pygments_lexer": "ipython3",
   "version": "3.13.6"
  }
 },
 "nbformat": 4,
 "nbformat_minor": 5
}
