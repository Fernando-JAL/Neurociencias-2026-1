{
 "cells": [
  {
   "cell_type": "code",
   "execution_count": 2,
   "id": "b66ba469-2694-4347-bee5-2b0106e5cfa6",
   "metadata": {},
   "outputs": [],
   "source": [
    "import networkx as nx\n"
   ]
  },
  {
   "cell_type": "code",
   "execution_count": 3,
   "id": "d5c23545-a8db-4cb9-8ec2-fd9fd9ca41d4",
   "metadata": {},
   "outputs": [],
   "source": [
    "G = nx.Graph()"
   ]
  },
  {
   "cell_type": "code",
   "execution_count": 4,
   "id": "6c6ca54a-3d7f-4540-8430-3196d1930b95",
   "metadata": {},
   "outputs": [
    {
     "data": {
      "text/plain": [
       "(NodeView(()), EdgeView([]))"
      ]
     },
     "execution_count": 4,
     "metadata": {},
     "output_type": "execute_result"
    }
   ],
   "source": [
    "G.nodes(), G.edges()"
   ]
  },
  {
   "cell_type": "code",
   "execution_count": 9,
   "id": "5e645c18-64ef-4442-8d92-128957adf2e5",
   "metadata": {},
   "outputs": [],
   "source": [
    "G.add_nodes_from(['A','B','C','D','E'])"
   ]
  },
  {
   "cell_type": "code",
   "execution_count": 10,
   "id": "eca4b23e-91cd-476c-9737-0f8ebe6fc169",
   "metadata": {},
   "outputs": [
    {
     "data": {
      "text/plain": [
       "(NodeView(('A', 'B', 'C', 'D', 'E')), EdgeView([]))"
      ]
     },
     "execution_count": 10,
     "metadata": {},
     "output_type": "execute_result"
    }
   ],
   "source": [
    "G.nodes(), G.edges()"
   ]
  },
  {
   "cell_type": "code",
   "execution_count": 13,
   "id": "dd063528-8115-4dd8-8f29-de60d557a87d",
   "metadata": {},
   "outputs": [],
   "source": [
    "G.add_edges_from([ ('B','C'),('C','A'), ('D','E') ])"
   ]
  },
  {
   "cell_type": "code",
   "execution_count": 14,
   "id": "6b7bb72c-983d-48c6-addf-b7cec8ba8459",
   "metadata": {},
   "outputs": [
    {
     "data": {
      "image/png": "[encoded data removed]",
      "text/plain": [
       "<Figure size 640x480 with 1 Axes>"
      ]
     },
     "metadata": {},
     "output_type": "display_data"
    }
   ],
   "source": [
    "nx.draw_spring(G)"
   ]
  },
  {
   "cell_type": "code",
   "execution_count": null,
   "id": "1f36da7b-2dc2-4fa0-87a2-71a8340531ab",
   "metadata": {},
   "outputs": [],
   "source": []
  }
 ],
 "metadata": {
  "kernelspec": {
   "display_name": "Python 3 (ipykernel)",
   "language": "python",
   "name": "python3"
  },
  "language_info": {
   "codemirror_mode": {
    "name": "ipython",
    "version": 3
   },
   "file_extension": ".py",
   "mimetype": "text/x-python",
   "name": "python",
   "nbconvert_exporter": "python",
   "pygments_lexer": "ipython3",
   "version": "3.10.7"
  }
 },
 "nbformat": 4,
 "nbformat_minor": 5
}
