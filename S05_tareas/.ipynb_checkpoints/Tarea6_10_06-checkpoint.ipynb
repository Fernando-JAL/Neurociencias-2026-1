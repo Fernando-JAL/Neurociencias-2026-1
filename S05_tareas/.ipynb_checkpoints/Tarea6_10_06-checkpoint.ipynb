{
 "cells": [
  {
   "cell_type": "markdown",
   "id": "8ce981c7-b0d7-4106-b112-7fd3a0821537",
   "metadata": {},
   "source": [
    "# TAREA\n",
    "\n",
    "Sofia Macarena Castillo Badilla\n",
    "\n",
    "- subir archivos EEG de excel, obtener de la primera hoja un grafo bidimensional\n",
    "- de la matriz EEG usando las coordenadas de EEG_3D_coordinates"
   ]
  },
  {
   "cell_type": "code",
   "execution_count": null,
   "id": "ca893eff-7228-4c91-a59a-70c7e056526a",
   "metadata": {},
   "outputs": [],
   "source": [
    "import pandas as pd\n",
    "import networkx as nx"
   ]
  },
  {
   "cell_type": "code",
   "execution_count": null,
   "id": "e268c794-a142-40b9-9fa6-e20cd3f73acb",
   "metadata": {},
   "outputs": [],
   "source": [
    "EEG_path = r\"/Users/Maca/Desktop/Todo todo/UNAM/5º Semestre/Modelos computacionales I/Neurociencias-2026-1/S03_datasets/EEG.xlsx\""
   ]
  },
  {
   "cell_type": "code",
   "execution_count": null,
   "id": "959b81cb-d9f6-49e6-b250-87fe97f74575",
   "metadata": {},
   "outputs": [],
   "source": []
  },
  {
   "cell_type": "code",
   "execution_count": null,
   "id": "ffa6c5e5-f2ab-475c-9ba6-8ecfcc7d127f",
   "metadata": {},
   "outputs": [],
   "source": []
  },
  {
   "cell_type": "code",
   "execution_count": null,
   "id": "ee1fe8be-cc48-4d42-8fd2-1087d26468a9",
   "metadata": {},
   "outputs": [],
   "source": []
  },
  {
   "cell_type": "code",
   "execution_count": null,
   "id": "4db0ce7b-b155-452c-ab61-54202d930edd",
   "metadata": {},
   "outputs": [],
   "source": []
  },
  {
   "cell_type": "code",
   "execution_count": null,
   "id": "4278d99d-94ef-44f0-a96b-ee527bf5103f",
   "metadata": {},
   "outputs": [],
   "source": []
  }
 ],
 "metadata": {
  "kernelspec": {
   "display_name": "Python 3 (ipykernel)",
   "language": "python",
   "name": "python3"
  },
  "language_info": {
   "codemirror_mode": {
    "name": "ipython",
    "version": 3
   },
   "file_extension": ".py",
   "mimetype": "text/x-python",
   "name": "python",
   "nbconvert_exporter": "python",
   "pygments_lexer": "ipython3",
   "version": "3.13.6"
  }
 },
 "nbformat": 4,
 "nbformat_minor": 5
}
