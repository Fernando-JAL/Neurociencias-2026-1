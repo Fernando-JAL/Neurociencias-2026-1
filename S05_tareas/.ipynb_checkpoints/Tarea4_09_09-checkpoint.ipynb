{
 "cells": [
  {
   "cell_type": "markdown",
   "id": "b5eedef8-22f3-45a4-988e-6a67deaae9ce",
   "metadata": {},
   "source": [
    "# Tarea 4\n",
    "\n",
    "Terminar en casa"
   ]
  },
  {
   "cell_type": "code",
   "execution_count": 2,
   "id": "628f7217-515c-46dc-856c-ea8ed1673209",
   "metadata": {},
   "outputs": [],
   "source": [
    "import numpy as np"
   ]
  },
  {
   "cell_type": "code",
   "execution_count": 3,
   "id": "489d0d9b-6a38-44f7-b48f-4895d611fa8e",
   "metadata": {},
   "outputs": [
    {
     "data": {
      "text/plain": [
       "array([[ 0,  5, 10],\n",
       "       [15, 20, 25],\n",
       "       [99, 35, 40]])"
      ]
     },
     "execution_count": 3,
     "metadata": {},
     "output_type": "execute_result"
    }
   ],
   "source": [
    "matriz = np.array([[0, 5, 10],\n",
    "                  [15, 20, 25],\n",
    "                  [99, 35, 40]])\n",
    "matriz"
   ]
  },
  {
   "cell_type": "code",
   "execution_count": 6,
   "id": "25cb781d-598c-4651-aa74-773cad7acd66",
   "metadata": {},
   "outputs": [
    {
     "data": {
      "text/plain": [
       "(np.int64(5), np.int64(20), np.int64(35))"
      ]
     },
     "execution_count": 6,
     "metadata": {},
     "output_type": "execute_result"
    }
   ],
   "source": [
    "matriz[0][1],matriz[1][1],matriz[2][1]"
   ]
  },
  {
   "cell_type": "code",
   "execution_count": 16,
   "id": "9706d229-14da-4aff-af1e-8d97de88fb04",
   "metadata": {},
   "outputs": [
    {
     "data": {
      "text/plain": [
       "array([ 5, 20, 35])"
      ]
     },
     "execution_count": 16,
     "metadata": {},
     "output_type": "execute_result"
    }
   ],
   "source": [
    "# [fila, columna]\n",
    "matriz[:,1]"
   ]
  },
  {
   "cell_type": "code",
   "execution_count": null,
   "id": "204a09c8-d9ca-487c-8b86-2940b8528dc2",
   "metadata": {},
   "outputs": [],
   "source": []
  },
  {
   "cell_type": "code",
   "execution_count": null,
   "id": "cb30a70b-a94d-4b16-9dbc-7067a3fe79d3",
   "metadata": {},
   "outputs": [],
   "source": []
  }
 ],
 "metadata": {
  "kernelspec": {
   "display_name": "Python 3 (ipykernel)",
   "language": "python",
   "name": "python3"
  },
  "language_info": {
   "codemirror_mode": {
    "name": "ipython",
    "version": 3
   },
   "file_extension": ".py",
   "mimetype": "text/x-python",
   "name": "python",
   "nbconvert_exporter": "python",
   "pygments_lexer": "ipython3",
   "version": "3.10.7"
  }
 },
 "nbformat": 4,
 "nbformat_minor": 5
}
