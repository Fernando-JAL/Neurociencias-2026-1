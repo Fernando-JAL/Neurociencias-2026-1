{
 "cells": [
  {
   "cell_type": "code",
   "execution_count": 1,
   "id": "19c1a2fc-e439-433e-b6a2-0f501b4f4cca",
   "metadata": {},
   "outputs": [],
   "source": [
    "import pandas as pd\n",
    "import numpy as np"
   ]
  },
  {
   "cell_type": "markdown",
   "id": "8e3c0252-2350-4df7-a4d5-ce4633fbac9b",
   "metadata": {},
   "source": [
    "### Ejercicio 1\n",
    "Crea dos DataFrame que compartan la misma estructura de columnas (por ejemplo,\n",
    "    'Nombre' y 'Edad'), con al menos 3 filas cada uno. Concaténalos verticalmente\n",
    "    en un único DataFrame. Retorna el DataFrame resultante."
   ]
  },
  {
   "cell_type": "code",
   "execution_count": 7,
   "id": "effcc74a-db2d-439f-adf5-611df2d6177d",
   "metadata": {},
   "outputs": [],
   "source": [
    "def ex1_concat_same_structure(dataframe1, dataframe2):\n",
    "    df_concatenada = pd.concat([dataframe1, dataframe2]).reset_index(drop=True)\n",
    "    print(df_concatenada)\n",
    "    pass"
   ]
  },
  {
   "cell_type": "code",
   "execution_count": 8,
   "id": "5094db0a-12b0-4777-acbc-de0d58b7ed86",
   "metadata": {},
   "outputs": [
    {
     "name": "stdout",
     "output_type": "stream",
     "text": [
      "     Nombre  Edad\n",
      "0   Gabriel    14\n",
      "1     Pedro    85\n",
      "2   Ernesto    40\n",
      "3  Marietta     3\n",
      "4    Alyssa    55\n",
      "5      Yara    20\n"
     ]
    }
   ],
   "source": [
    "diccionario_1= {'Nombre': ['Gabriel', 'Pedro', 'Ernesto'], 'Edad': [14, 85, 40]}\n",
    "diccionario_2= {'Nombre': ['Marietta', 'Alyssa', 'Yara'], 'Edad': [3, 55, 20]}\n",
    "df_hombres= pd.DataFrame(diccionario_1)\n",
    "df_mujeres= pd.DataFrame(diccionario_2)\n",
    "ex1_concat_same_structure(df_hombres,df_mujeres)"
   ]
  },
  {
   "cell_type": "markdown",
   "id": "8fac1429-c1eb-41a9-a488-8e74418ade6c",
   "metadata": {},
   "source": [
    "### Ejercicio 2\n",
    "Tienes un DataFrame con ventas de enero y otro con ventas de febrero (mismas columnas).\n",
    "    Concaténalos en un solo DataFrame y añade una columna que indique el mes original\n",
    "    de cada fila (por ejemplo: 'Enero' o 'Febrero'). Retorna el DataFrame resultante."
   ]
  },
  {
   "cell_type": "code",
   "execution_count": 11,
   "id": "94180f79-f13f-4790-953b-a2108ecc7801",
   "metadata": {},
   "outputs": [],
   "source": [
    "def ex2_concat_with_month_column(dataframe1, dataframe2, mes1, mes2):\n",
    "    df_concatenada = pd.concat([dataframe1, dataframe2]).reset_index(drop=True)\n",
    "    df_concatenada['Mes']= [ mes1, mes1, mes1, mes1, mes2, mes2, mes2, mes2]\n",
    "    print(df_concatenada)\n",
    "    pass"
   ]
  },
  {
   "cell_type": "code",
   "execution_count": 12,
   "id": "61aefab8-a47f-4138-a8bc-3b723b892be2",
   "metadata": {},
   "outputs": [
    {
     "name": "stdout",
     "output_type": "stream",
     "text": [
      "     Semana  Chips Picafresas Gelatinas Bolis      Mes\n",
      "0  Semana 1  $1000        $78      $508  $843    Enero\n",
      "1  Semana 2   $976    $102.50      $765  $756    Enero\n",
      "2  Semana 3  $3005        $43      $688  $357    Enero\n",
      "3  Semana 4  $2564        $94      $398  $753    Enero\n",
      "4  Semana 1   $887       $190      $308  $769  Febrero\n",
      "5  Semana 2  $1003        $70      $502  $587  Febrero\n",
      "6  Semana 3   $790        $54      $462  $672  Febrero\n",
      "7  Semana 4  $3078        $49      $713  $593  Febrero\n"
     ]
    }
   ],
   "source": [
    "Mes_1= 'Enero'\n",
    "Mes_2= 'Febrero'\n",
    "data_enero= {'Semana':['Semana 1', 'Semana 2', 'Semana 3', 'Semana 4'], 'Chips':['$1000', '$976', '$3005', '$2564'],\n",
    "             'Picafresas':['$78', '$102.50', '$43', '$94'], 'Gelatinas':['$508', '$765', '$688', '$398'], 'Bolis':['$843', '$756', '$357', '$753']}\n",
    "data_febrero= {'Semana':['Semana 1', 'Semana 2', 'Semana 3', 'Semana 4'], 'Chips':['$887', '$1003', '$790', '$3078'], \n",
    "               'Picafresas':['$190', '$70', '$54', '$49'],'Gelatinas':['$308', '$502', '$462', '$713'],'Bolis':['$769', '$587', '$672', '$593']}\n",
    "df_enero= pd.DataFrame(data_enero)\n",
    "df_febrero= pd.DataFrame(data_febrero)\n",
    "ex2_concat_with_month_column(df_enero, df_febrero, Mes_1, Mes_2)                                             "
   ]
  },
  {
   "cell_type": "markdown",
   "id": "92ac3ba2-f975-4942-a7b9-1690eff5a25c",
   "metadata": {},
   "source": [
    "### Ejercicio 3\n",
    "Crea dos DataFrame que no tengan exactamente las mismas columnas (ej.: uno tiene\n",
    "    'Producto' y 'Ventas', el otro 'Producto' y 'Descuento'). Concaténalos y asegura\n",
    "    que los valores faltantes queden rellenados con 0. Retorna el DataFrame resultante."
   ]
  },
  {
   "cell_type": "code",
   "execution_count": 25,
   "id": "31779754-d5b6-4afc-ab53-00ec141247d9",
   "metadata": {},
   "outputs": [],
   "source": [
    "def ex3_concat_diff_columns_fillna(dataframe1, dataframe2,columna_comun):\n",
    "    df_concatenada = pd.merge(dataframe1, dataframe2, on=columna_comun, how='outer')\n",
    "    print(df_concatenada.fillna(0))\n",
    "    pass"
   ]
  },
  {
   "cell_type": "code",
   "execution_count": 26,
   "id": "b7d83fae-6f89-42ce-9961-a029e9f0ab8b",
   "metadata": {},
   "outputs": [
    {
     "name": "stdout",
     "output_type": "stream",
     "text": [
      "     Nombre  Edad   Color\n",
      "0    Alyssa   0.0   Verde\n",
      "1   Ernesto  40.0       0\n",
      "2   Gabriel  14.0       0\n",
      "3  Marietta   0.0    Rosa\n",
      "4     Pedro  85.0       0\n",
      "5      Yara   0.0  Dorado\n"
     ]
    }
   ],
   "source": [
    "diccionario_1= {'Nombre': ['Gabriel', 'Pedro', 'Ernesto'], 'Edad': [14, 85, 40]}\n",
    "diccionario_2= {'Nombre': ['Marietta', 'Alyssa', 'Yara'], 'Color': ['Rosa', 'Verde', 'Dorado']}\n",
    "df_hombres= pd.DataFrame(diccionario_1)\n",
    "df_mujeres= pd.DataFrame(diccionario_2)\n",
    "ex3_concat_diff_columns_fillna(df_hombres,df_mujeres,'Nombre')"
   ]
  },
  {
   "cell_type": "markdown",
   "id": "850d4331-9075-4718-88a2-54dc2dbe2f72",
   "metadata": {},
   "source": [
    "### Ejercicio 4\n",
    "Genera tres DataFrame pequeños (cada uno con, por ejemplo, 3 filas) que representen\n",
    "    notas de distintos grupos de alumnos. Concaténalos verticalmente en un solo DataFrame\n",
    "    que contenga todas las notas. Retorna el DataFrame resultante."
   ]
  },
  {
   "cell_type": "code",
   "execution_count": 28,
   "id": "c03278cd-0891-42b8-8632-070500df0506",
   "metadata": {},
   "outputs": [],
   "source": [
    "def ex4_concat_three_groups(dataframe1, dataframe2, dataframe3):\n",
    "    df_concatenada = pd.concat([dataframe1, dataframe2, dataframe3],axis=0).reset_index(drop=True)\n",
    "    print(df_concatenada)\n",
    "    pass"
   ]
  },
  {
   "cell_type": "code",
   "execution_count": 29,
   "id": "6c300b88-a63f-4ae8-839a-c95faae14b50",
   "metadata": {},
   "outputs": [
    {
     "name": "stdout",
     "output_type": "stream",
     "text": [
      "     Nombre  Matemáticas  Español  Historia\n",
      "0     María           10        6         7\n",
      "1      José            9        9        10\n",
      "2     Uriel            8        7         9\n",
      "3   Roberto            8        5         6\n",
      "4   Alfredo            9        9         9\n",
      "5   Valeria            7        7         9\n",
      "6  Virginia            7        8         6\n",
      "7      Rosa            9        8         9\n",
      "8   Bárbara            8       10         8\n"
     ]
    }
   ],
   "source": [
    "df_1= pd.DataFrame({'Nombre':['María', 'José', 'Uriel'], 'Matemáticas':[10, 9, 8], 'Español':[6, 9, 7], 'Historia':[7,10, 9]})\n",
    "df_2= pd.DataFrame({'Nombre':['Roberto', 'Alfredo', 'Valeria'], 'Matemáticas':[8, 9, 7], 'Español':[5, 9, 7], 'Historia':[6,9, 9]})\n",
    "df_3= pd.DataFrame({'Nombre':['Virginia', 'Rosa', 'Bárbara'], 'Matemáticas':[7, 9, 8], 'Español':[8, 8, 10], 'Historia':[6,9, 8]})\n",
    "ex4_concat_three_groups(df_1, df_2, df_3)"
   ]
  },
  {
   "cell_type": "markdown",
   "id": "ebc92dca-5434-49e5-b778-55eb50baa46f",
   "metadata": {},
   "source": [
    "### Ejercicio 5\n",
    " Dada una lista de enteros (o strings) que puede contener duplicados, devuelve una\n",
    "    nueva lista sin duplicados preservando el orden original. No uses directamente set()\n",
    "    para eliminar duplicados (escribe la lógica que preserve el orden). Retorna la nueva \n",
    "    lista sin duplicados."
   ]
  },
  {
   "cell_type": "code",
   "execution_count": 34,
   "id": "ea6c718a-a282-4d58-a7cc-74acc27ff850",
   "metadata": {},
   "outputs": [],
   "source": [
    "def ex5_remove_duplicates_preserve_order(lista):\n",
    "    nueva_lista=[]\n",
    "    for elemento in lista:\n",
    "        if elemento not in nueva_lista:\n",
    "            nueva_lista.append(elemento)\n",
    "    return nueva_lista\n",
    "    pass"
   ]
  },
  {
   "cell_type": "code",
   "execution_count": 35,
   "id": "577557de-28d4-4f8d-93a6-bd52850c644f",
   "metadata": {},
   "outputs": [
    {
     "data": {
      "text/plain": [
       "['oso', 'cabra', 'borrego', 'perro', 'gato']"
      ]
     },
     "execution_count": 35,
     "metadata": {},
     "output_type": "execute_result"
    }
   ],
   "source": [
    "ex5_remove_duplicates_preserve_order(['oso', 'cabra', 'borrego', 'cabra', 'perro', 'gato', 'gato', 'oso'] )"
   ]
  },
  {
   "cell_type": "markdown",
   "id": "7f84d4db-83ed-4c4c-bfba-b6409c528734",
   "metadata": {},
   "source": [
    "### Ejercicio 6\n",
    " Dada una lista de tuplas, por ejemplo [(\"a\", 3), (\"b\", 1), (\"c\", 2)], ordénala\n",
    "    por el segundo elemento de cada tupla y devuelve la lista ordenada. Usa una función\n",
    "    anónima si lo deseas. Retorna la lista ordenada."
   ]
  },
  {
   "cell_type": "code",
   "execution_count": 37,
   "id": "b0a3564f-660e-4b84-9b84-95e80fb354bc",
   "metadata": {},
   "outputs": [],
   "source": [
    "def ex6_sort_tuples_by_second_element(tuples_list):\n",
    "    tuples_list_ordenada = sorted(tuples_list, key=lambda x: x[1])\n",
    "    print(tuples_list_ordenada)\n",
    "    pass"
   ]
  },
  {
   "cell_type": "code",
   "execution_count": 38,
   "id": "59566254-e153-4a64-88d6-6172efc908f8",
   "metadata": {},
   "outputs": [
    {
     "name": "stdout",
     "output_type": "stream",
     "text": [
      "[('b', 1), ('c', 2), ('a', 3)]\n"
     ]
    }
   ],
   "source": [
    "ex6_sort_tuples_by_second_element([(\"a\", 3), (\"b\", 1), (\"c\", 2)])"
   ]
  },
  {
   "cell_type": "markdown",
   "id": "ce6b4826-383d-4f77-8e42-a07b195100bd",
   "metadata": {},
   "source": [
    "### Ejercicio 7\n",
    "Devuelve una lista con los primeros n múltiplos de 7 (por ejemplo, n=5 -> [7,14,21,28,35]).\n",
    "    Retorna la lista generada."
   ]
  },
  {
   "cell_type": "code",
   "execution_count": 44,
   "id": "10d3b4f9-0ace-490b-ba88-298fb4507f3a",
   "metadata": {},
   "outputs": [],
   "source": [
    "def ex7_first_n_multiples_of_7(n):\n",
    "    multiplos=[]\n",
    "    for i in range(1,n+1):\n",
    "        multiplos.append( 7*i)\n",
    "    return multiplos\n",
    "    pass"
   ]
  },
  {
   "cell_type": "code",
   "execution_count": 45,
   "id": "ce68efc5-84ef-453a-b414-337be30816ff",
   "metadata": {},
   "outputs": [
    {
     "data": {
      "text/plain": [
       "[7, 14, 21, 28, 35]"
      ]
     },
     "execution_count": 45,
     "metadata": {},
     "output_type": "execute_result"
    }
   ],
   "source": [
    "ex7_first_n_multiples_of_7(5)"
   ]
  },
  {
   "cell_type": "markdown",
   "id": "23027d7f-d3b9-487e-963a-d6e56e31899e",
   "metadata": {},
   "source": [
    "### Ejercicio 8\n",
    " Dada una lista de cadenas, devuelve sólo aquellas que son palíndromos (se leen igual\n",
    "    al derecho y al revés). Retorna una lista con los palíndromos encontrados."
   ]
  },
  {
   "cell_type": "code",
   "execution_count": 47,
   "id": "f49dc241-3108-48a1-aa05-32c428ebad44",
   "metadata": {},
   "outputs": [],
   "source": [
    "def ex8_filter_palindromes(strings):\n",
    "    palindromos=[]\n",
    "    for palabra in strings:\n",
    "        if palabra == palabra[::-1]:\n",
    "            palindromos.append(palabra)\n",
    "    return palindromos\n",
    "    pass"
   ]
  },
  {
   "cell_type": "code",
   "execution_count": 48,
   "id": "59a2e7d7-1a2d-49ba-a354-bfaaba5f780f",
   "metadata": {},
   "outputs": [
    {
     "data": {
      "text/plain": [
       "['oso', 'ana', 'reconocer']"
      ]
     },
     "execution_count": 48,
     "metadata": {},
     "output_type": "execute_result"
    }
   ],
   "source": [
    "ex8_filter_palindromes(['oso', 'agua', 'ana', 'arroz', 'reconocer'])"
   ]
  },
  {
   "cell_type": "markdown",
   "id": "915ff986-721a-45fd-bca4-ad904193f691",
   "metadata": {},
   "source": [
    "### Ejercicio 9\n",
    "  Dado dos conjuntos, devuelve su intersección y la diferencia (elementos de A que no\n",
    "    están en B). Retorna una tupla (intersección, diferencia)."
   ]
  },
  {
   "cell_type": "code",
   "execution_count": 55,
   "id": "e2b695dd-fe73-4b89-9a23-d85035506c2d",
   "metadata": {},
   "outputs": [],
   "source": [
    "def ex9_set_intersection_and_difference(set_a, set_b):\n",
    "    interseccion=[]\n",
    "    differencia=[]\n",
    "    for elemento in set_a:\n",
    "        if elemento in set_b:\n",
    "            interseccion.append(elemento)\n",
    "        else:\n",
    "            differencia.append(elemento) \n",
    "    for elemento in set_b:\n",
    "        if elemento not in set_a:\n",
    "            differencia.append(elemento)\n",
    "    tupla= ((interseccion[0],differencia[0]))\n",
    "    return interseccion, differencia, tupla\n",
    "    pass"
   ]
  },
  {
   "cell_type": "code",
   "execution_count": 56,
   "id": "be36443c-fbe7-4905-a150-4e718db4e7de",
   "metadata": {},
   "outputs": [
    {
     "data": {
      "text/plain": [
       "([5, 9], [3, 7, 2, 8, 4, 1], (5, 3))"
      ]
     },
     "execution_count": 56,
     "metadata": {},
     "output_type": "execute_result"
    }
   ],
   "source": [
    "ex9_set_intersection_and_difference([3, 5, 7, 9, 2], [5, 8, 4, 9, 1])"
   ]
  },
  {
   "cell_type": "markdown",
   "id": "8f6b4352-7a5a-4297-9a11-b7c61a895017",
   "metadata": {},
   "source": [
    "### Ejercicio 10\n",
    " Verifica si set_a es subconjunto de set_b. Devuelve True o False."
   ]
  },
  {
   "cell_type": "code",
   "execution_count": null,
   "id": "4034a7c6-23e9-492c-8c98-98ecb379c8c8",
   "metadata": {},
   "outputs": [],
   "source": [
    "def ex10_is_subset(set_a, set_b):\n",
    "    pass"
   ]
  },
  {
   "cell_type": "markdown",
   "id": "9c9f8613-add7-4d9e-9b6e-c46c87df6c11",
   "metadata": {},
   "source": [
    "### Ejercicio 11\n",
    "Dada una lista, cuenta cuántos elementos únicos contiene (usa set para obtener el conteo).\n",
    "    Retorna el número de elementos únicos."
   ]
  },
  {
   "cell_type": "code",
   "execution_count": null,
   "id": "55da5b8b-867a-4730-b54a-1a7fb9ae7f8d",
   "metadata": {},
   "outputs": [],
   "source": [
    "def ex11_count_unique_elements(lst):\n",
    "    pass"
   ]
  },
  {
   "cell_type": "markdown",
   "id": "031086db-d91c-48cc-be45-9632021899bd",
   "metadata": {},
   "source": [
    "### Ejercicio 12\n",
    " Dada una lista de frases (strings), extrae y devuelve el conjunto de todas las palabras\n",
    "    únicas que aparecen en todas las frases. Retorna un conjunto con las palabras únicas."
   ]
  },
  {
   "cell_type": "code",
   "execution_count": null,
   "id": "c94c1c50-2c08-40a4-874e-2bbeb07c60fe",
   "metadata": {},
   "outputs": [],
   "source": [
    "def ex12_unique_words_from_phrases(phrases):\n",
    "    pass"
   ]
  },
  {
   "cell_type": "markdown",
   "id": "039fcee3-4d8c-4a0d-9a7e-f5b5814cc5b6",
   "metadata": {},
   "source": [
    "### Ejercicio 13\n",
    " Recibe una lista de tuplas (nombre, edad). Devuelve la tupla de la persona con mayor edad."
   ]
  },
  {
   "cell_type": "code",
   "execution_count": null,
   "id": "ae8bdc9e-cddf-48c0-97c8-020d9a0d359d",
   "metadata": {},
   "outputs": [],
   "source": [
    "def ex13_oldest_person(tuple_list):\n",
    "    pass"
   ]
  },
  {
   "cell_type": "markdown",
   "id": "747c319b-daad-49d7-adde-828173ee0a44",
   "metadata": {},
   "source": [
    "### Ejercicio 14\n",
    " Convierte una lista de listas en una lista de tuplas. Retorna la nueva lista de tuplas."
   ]
  },
  {
   "cell_type": "code",
   "execution_count": null,
   "id": "db699e1d-d790-4ecd-9349-5cad89431a8d",
   "metadata": {},
   "outputs": [],
   "source": [
    "def ex14_convert_list_of_lists_to_tuples(list_of_lists):\n",
    "    pass"
   ]
  },
  {
   "cell_type": "markdown",
   "id": "dc104621-6ddb-43e3-9e0b-c9365cf14178",
   "metadata": {},
   "source": [
    "### Ejercicio 15\n",
    "  Recibe una tupla de tres números (a, b, c). Desempaquétala y devuelve la suma a+b+c. \n",
    "    Retorna un número entero o flotante."
   ]
  },
  {
   "cell_type": "code",
   "execution_count": null,
   "id": "f1071e2b-4713-4ee1-b6b7-3858a41ed69a",
   "metadata": {},
   "outputs": [],
   "source": [
    "def ex15_sum_of_tuple_abc(t):\n",
    "    pass"
   ]
  },
  {
   "cell_type": "markdown",
   "id": "d513612f-eaf4-4d61-a324-7c80cf48ed52",
   "metadata": {},
   "source": [
    "### Ejercicio 16\n",
    " Dada una lista de tuplas (producto, precio), ordénala por precio de menor a mayor.\n",
    "    Retorna la lista ordenada."
   ]
  },
  {
   "cell_type": "code",
   "execution_count": null,
   "id": "242786b7-1802-41ac-90bd-3d075cb453c4",
   "metadata": {},
   "outputs": [],
   "source": [
    "def ex16_sort_product_price(prod_price_list):\n",
    "    pass"
   ]
  }
 ],
 "metadata": {
  "kernelspec": {
   "display_name": "Python 3 (ipykernel)",
   "language": "python",
   "name": "python3"
  },
  "language_info": {
   "codemirror_mode": {
    "name": "ipython",
    "version": 3
   },
   "file_extension": ".py",
   "mimetype": "text/x-python",
   "name": "python",
   "nbconvert_exporter": "python",
   "pygments_lexer": "ipython3",
   "version": "3.10.4"
  }
 },
 "nbformat": 4,
 "nbformat_minor": 5
}
