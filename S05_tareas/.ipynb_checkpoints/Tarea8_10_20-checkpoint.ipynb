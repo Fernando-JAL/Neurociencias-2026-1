{
 "cells": [
  {
   "cell_type": "markdown",
   "id": "39e87349-63ce-497b-8007-5c2dbcaa653f",
   "metadata": {},
   "source": [
    "## Investigar como calcular en networkx, para el jueves\n",
    "- Arquitectura de mundo pequeño\n",
    "- Modularidad/comunidades\n",
    "- Hubs (nodos centrales)\n",
    "- Eficiencia global vs eficiencia local"
   ]
  },
  {
   "cell_type": "markdown",
   "id": "aad521ec-af2a-4905-9c05-f429124d8b17",
   "metadata": {},
   "source": [
    "## Mundo pequeño\n",
    "random_reference(G[, nitro, conectividad, semilla])\n",
    "\n",
    "- Calcular un gráfico aleatorio intercambiando los bordes de un gráfico dado.\n",
    "\n",
    "lattice_reference(G[, nitro, D, ...])\n",
    "\n",
    "- Reticular el gráfico dado intercambiando los bordes.\n",
    "\n",
    "sigma(G[, nitro, nrand, semilla])\n",
    "\n",
    "- Devuelve el coeficiente de mundo pequeño (sigma) del gráfico dado.\n",
    "\n",
    "omega(G[, nitro, nrand, semilla])\n",
    "\n",
    "- Devuelve el coeficiente de mundo pequeño (omega) de un gráfico"
   ]
  },
  {
   "cell_type": "markdown",
   "id": "c37c53f2-1c40-4c7a-aeec-90fa64d40ba8",
   "metadata": {},
   "source": [
    "## Modularidad\n",
    "modularidad ( G , comunidades , peso = 'peso' , resolución = 1 )\n",
    "Devuelve la modularidad de la partición dada del gráfico."
   ]
  },
  {
   "cell_type": "markdown",
   "id": "06a3a020-d57c-439d-b973-07972b1b6442",
   "metadata": {},
   "source": [
    "## Hubs\n",
    "hits ( G , max_iter = 100 , tol = 1e-08 , nstart = Ninguno , normalizado = Verdadero )"
   ]
  },
  {
   "cell_type": "markdown",
   "id": "c990239b-de2e-4a91-b4ea-556bc8a349e1",
   "metadata": {},
   "source": [
    "## Eficiencia global y local\n",
    "efficiency(Sol, u, v)\n",
    "\n",
    "- Devuelve la eficiencia de un par de nodos en un gráfico.\n",
    "\n",
    "local_efficiency(GRAMO)\n",
    "\n",
    "- Devuelve la eficiencia local promedio del gráfico.\n",
    "\n",
    "global_efficiency(GRAMO)\n",
    "\n",
    "- Devuelve la eficiencia global promedio del gráfico."
   ]
  }
 ],
 "metadata": {
  "kernelspec": {
   "display_name": "Python 3 (ipykernel)",
   "language": "python",
   "name": "python3"
  },
  "language_info": {
   "codemirror_mode": {
    "name": "ipython",
    "version": 3
   },
   "file_extension": ".py",
   "mimetype": "text/x-python",
   "name": "python",
   "nbconvert_exporter": "python",
   "pygments_lexer": "ipython3",
   "version": "3.13.6"
  }
 },
 "nbformat": 4,
 "nbformat_minor": 5
}
