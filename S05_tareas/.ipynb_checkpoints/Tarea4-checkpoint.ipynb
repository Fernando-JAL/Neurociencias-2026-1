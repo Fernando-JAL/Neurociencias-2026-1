{
 "cells": [
  {
   "cell_type": "code",
   "execution_count": 1,
   "id": "3c65d670-76b0-481f-9336-d27ceb9725a4",
   "metadata": {},
   "outputs": [],
   "source": [
    "import numpy as np "
   ]
  },
  {
   "cell_type": "code",
   "execution_count": 6,
   "id": "af2c7ba1-c861-4d41-adfa-2a10b4fc5170",
   "metadata": {},
   "outputs": [],
   "source": [
    "matriz = np.array ([[0, 5, 10],\n",
    "                   [15, 20, 25],\n",
    "                   [99, 35, 40]])"
   ]
  },
  {
   "cell_type": "code",
   "execution_count": 16,
   "id": "cdb26f1d-e78b-4384-99b2-7c2275fe1b73",
   "metadata": {},
   "outputs": [
    {
     "data": {
      "text/plain": [
       "array([ 5, 20, 35])"
      ]
     },
     "execution_count": 16,
     "metadata": {},
     "output_type": "execute_result"
    }
   ],
   "source": [
    "matriz[:,1]"
   ]
  },
  {
   "cell_type": "code",
   "execution_count": null,
   "id": "b687d2c8-8154-420f-8456-50aa0d83207e",
   "metadata": {},
   "outputs": [],
   "source": []
  }
 ],
 "metadata": {
  "kernelspec": {
   "display_name": "Python 3 (ipykernel)",
   "language": "python",
   "name": "python3"
  },
  "language_info": {
   "codemirror_mode": {
    "name": "ipython",
    "version": 3
   },
   "file_extension": ".py",
   "mimetype": "text/x-python",
   "name": "python",
   "nbconvert_exporter": "python",
   "pygments_lexer": "ipython3",
   "version": "3.13.6"
  }
 },
 "nbformat": 4,
 "nbformat_minor": 5
}
