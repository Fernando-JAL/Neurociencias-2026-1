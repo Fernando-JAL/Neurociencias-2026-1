{
 "cells": [
  {
   "cell_type": "markdown",
   "id": "eaf69d30",
   "metadata": {},
   "source": [
    "## Elaboró: Anette Paulina González Solano\n",
    "\n",
    "# TAREA: 2° Parcial\n",
    "\n",
    "\n",
    "Cada ejercicio está representado por una función con su docstring que contiene\n",
    "la instrucción (no incluye soluciones). Implementa las funciones por tu cuenta.\n",
    "\n"
   ]
  },
  {
   "cell_type": "code",
   "execution_count": null,
   "id": "8ce0b772",
   "metadata": {},
   "outputs": [],
   "source": [
    "import pandas as pd\n",
    "import numpy as np"
   ]
  },
  {
   "cell_type": "code",
   "execution_count": null,
   "id": "16decae9-b2fe-4f41-8ae4-b18b8f5ba13b",
   "metadata": {},
   "outputs": [],
   "source": [
    "\"\"\"\n",
    "Archivo: ejercicios_python_estructuras_numpy_pandas_instrucciones.py\n",
    "Descripción: 32 ejercicios (SOLO INSTRUCCIONES) sobre:\n",
    "- pandas (concatenación y otras operaciones), listas, conjuntos, tuplas, diccionarios,\n",
    "  NumPy y uso de lambdas (map, filter, sorted, apply).\n",
    "\n",
    "Cada ejercicio está representado por una función con su docstring que contiene\n",
    "la instrucción (no incluye soluciones). Implementa las funciones por tu cuenta.\n",
    "\"\"\"\n",
    "\n",
    "# Nota: este archivo contiene únicamente las instrucciones de cada ejercicio.\n",
    "# Implementa cada función en tu entorno (o pégalas en una plataforma tipo HackerRank/LeetCode).\n",
    "\n",
    "import pandas as pd\n",
    "import numpy as np"
   ]
  },
  {
   "cell_type": "code",
   "execution_count": null,
   "id": "97f0935a-54ec-4037-9fb0-f0f99226d47d",
   "metadata": {},
   "outputs": [],
   "source": [
    "# -----------------------------\n",
    "# 1-4: Pandas (concatenación)\n",
    "# -----------------------------"
   ]
  },
  {
   "cell_type": "code",
   "execution_count": 23,
   "id": "b883ae8d-29fd-495c-80dc-76ff4737048b",
   "metadata": {},
   "outputs": [
    {
     "data": {
      "text/html": [
       "<div>\n",
       "<style scoped>\n",
       "    .dataframe tbody tr th:only-of-type {\n",
       "        vertical-align: middle;\n",
       "    }\n",
       "\n",
       "    .dataframe tbody tr th {\n",
       "        vertical-align: top;\n",
       "    }\n",
       "\n",
       "    .dataframe thead th {\n",
       "        text-align: right;\n",
       "    }\n",
       "</style>\n",
       "<table border=\"1\" class=\"dataframe\">\n",
       "  <thead>\n",
       "    <tr style=\"text-align: right;\">\n",
       "      <th></th>\n",
       "      <th>Nombre</th>\n",
       "      <th>Edad</th>\n",
       "    </tr>\n",
       "  </thead>\n",
       "  <tbody>\n",
       "    <tr>\n",
       "      <th>0</th>\n",
       "      <td>Lorelai</td>\n",
       "      <td>32</td>\n",
       "    </tr>\n",
       "    <tr>\n",
       "      <th>1</th>\n",
       "      <td>Rory</td>\n",
       "      <td>16</td>\n",
       "    </tr>\n",
       "    <tr>\n",
       "      <th>2</th>\n",
       "      <td>Emily</td>\n",
       "      <td>64</td>\n",
       "    </tr>\n",
       "    <tr>\n",
       "      <th>3</th>\n",
       "      <td>Walter</td>\n",
       "      <td>50</td>\n",
       "    </tr>\n",
       "    <tr>\n",
       "      <th>4</th>\n",
       "      <td>Jesse</td>\n",
       "      <td>27</td>\n",
       "    </tr>\n",
       "    <tr>\n",
       "      <th>5</th>\n",
       "      <td>Gustavo</td>\n",
       "      <td>55</td>\n",
       "    </tr>\n",
       "  </tbody>\n",
       "</table>\n",
       "</div>"
      ],
      "text/plain": [
       "    Nombre  Edad\n",
       "0  Lorelai    32\n",
       "1     Rory    16\n",
       "2    Emily    64\n",
       "3   Walter    50\n",
       "4    Jesse    27\n",
       "5  Gustavo    55"
      ]
     },
     "execution_count": 23,
     "metadata": {},
     "output_type": "execute_result"
    }
   ],
   "source": [
    "def ex1_concat_same_structure():\n",
    "    \"\"\"Ejercicio 1:\n",
    "    Crea dos DataFrame que compartan la misma estructura de columnas (por ejemplo,\n",
    "    'Nombre' y 'Edad'), con al menos 3 filas cada uno. Concaténalos verticalmente\n",
    "    en un único DataFrame. Retorna el DataFrame resultante.\n",
    "    \"\"\"\n",
    "    df1 = pd.DataFrame({'Nombre': ['Lorelai', 'Rory', 'Emily'], 'Edad': [32, 16, 64]})\n",
    "    df2 = pd.DataFrame({'Nombre': ['Walter', 'Jesse', 'Gustavo'], 'Edad': [50, 27, 55]})\n",
    "    return pd.concat([df1, df2], ignore_index = True)\n",
    "\n",
    "# Comprobar que sirve\n",
    "ex1_concat_same_structure()"
   ]
  },
  {
   "cell_type": "code",
   "execution_count": 22,
   "id": "b60cd2f5-dde0-4448-a76b-70f66eb82d3a",
   "metadata": {},
   "outputs": [
    {
     "data": {
      "text/html": [
       "<div>\n",
       "<style scoped>\n",
       "    .dataframe tbody tr th:only-of-type {\n",
       "        vertical-align: middle;\n",
       "    }\n",
       "\n",
       "    .dataframe tbody tr th {\n",
       "        vertical-align: top;\n",
       "    }\n",
       "\n",
       "    .dataframe thead th {\n",
       "        text-align: right;\n",
       "    }\n",
       "</style>\n",
       "<table border=\"1\" class=\"dataframe\">\n",
       "  <thead>\n",
       "    <tr style=\"text-align: right;\">\n",
       "      <th></th>\n",
       "      <th>Producto</th>\n",
       "      <th>Ventas</th>\n",
       "      <th>Mes</th>\n",
       "    </tr>\n",
       "  </thead>\n",
       "  <tbody>\n",
       "    <tr>\n",
       "      <th>0</th>\n",
       "      <td>Silla</td>\n",
       "      <td>5</td>\n",
       "      <td>Enero</td>\n",
       "    </tr>\n",
       "    <tr>\n",
       "      <th>1</th>\n",
       "      <td>Mesa</td>\n",
       "      <td>2</td>\n",
       "      <td>Enero</td>\n",
       "    </tr>\n",
       "    <tr>\n",
       "      <th>2</th>\n",
       "      <td>Sofá</td>\n",
       "      <td>3</td>\n",
       "      <td>Enero</td>\n",
       "    </tr>\n",
       "    <tr>\n",
       "      <th>3</th>\n",
       "      <td>Silla</td>\n",
       "      <td>8</td>\n",
       "      <td>Febrero</td>\n",
       "    </tr>\n",
       "    <tr>\n",
       "      <th>4</th>\n",
       "      <td>Mesa</td>\n",
       "      <td>7</td>\n",
       "      <td>Febrero</td>\n",
       "    </tr>\n",
       "    <tr>\n",
       "      <th>5</th>\n",
       "      <td>Sofá</td>\n",
       "      <td>1</td>\n",
       "      <td>Febrero</td>\n",
       "    </tr>\n",
       "  </tbody>\n",
       "</table>\n",
       "</div>"
      ],
      "text/plain": [
       "  Producto  Ventas      Mes\n",
       "0    Silla       5    Enero\n",
       "1     Mesa       2    Enero\n",
       "2     Sofá       3    Enero\n",
       "3    Silla       8  Febrero\n",
       "4     Mesa       7  Febrero\n",
       "5     Sofá       1  Febrero"
      ]
     },
     "execution_count": 22,
     "metadata": {},
     "output_type": "execute_result"
    }
   ],
   "source": [
    "def ex2_concat_with_month_column():\n",
    "    \"\"\"Ejercicio 2:\n",
    "    Tienes un DataFrame con ventas de enero y otro con ventas de febrero (mismas columnas).\n",
    "    Concaténalos en un solo DataFrame y añade una columna que indique el mes original\n",
    "    de cada fila (por ejemplo: 'Enero' o 'Febrero'). Retorna el DataFrame resultante.\n",
    "    \"\"\"\n",
    "    enero = pd.DataFrame({'Producto': ['Silla', 'Mesa', 'Sofá'], 'Ventas': [5, 2, 3]})\n",
    "    febrero = pd.DataFrame({'Producto': ['Silla', 'Mesa', 'Sofá'], 'Ventas': [8, 7, 1]})\n",
    "    enero['Mes'] = 'Enero'\n",
    "    febrero['Mes'] = 'Febrero'\n",
    "    return pd.concat([enero, febrero], ignore_index = True)\n",
    "\n",
    "# Comprobar que sirve\n",
    "ex2_concat_with_month_column()"
   ]
  },
  {
   "cell_type": "code",
   "execution_count": 29,
   "id": "bfebca32-7cb9-4d2d-9bd5-80b77576be3d",
   "metadata": {},
   "outputs": [
    {
     "data": {
      "text/html": [
       "<div>\n",
       "<style scoped>\n",
       "    .dataframe tbody tr th:only-of-type {\n",
       "        vertical-align: middle;\n",
       "    }\n",
       "\n",
       "    .dataframe tbody tr th {\n",
       "        vertical-align: top;\n",
       "    }\n",
       "\n",
       "    .dataframe thead th {\n",
       "        text-align: right;\n",
       "    }\n",
       "</style>\n",
       "<table border=\"1\" class=\"dataframe\">\n",
       "  <thead>\n",
       "    <tr style=\"text-align: right;\">\n",
       "      <th></th>\n",
       "      <th>Producto</th>\n",
       "      <th>Ventas</th>\n",
       "      <th>Descuento</th>\n",
       "    </tr>\n",
       "  </thead>\n",
       "  <tbody>\n",
       "    <tr>\n",
       "      <th>0</th>\n",
       "      <td>Cama</td>\n",
       "      <td>3.0</td>\n",
       "      <td>0.0</td>\n",
       "    </tr>\n",
       "    <tr>\n",
       "      <th>1</th>\n",
       "      <td>Librero</td>\n",
       "      <td>9.0</td>\n",
       "      <td>0.0</td>\n",
       "    </tr>\n",
       "    <tr>\n",
       "      <th>2</th>\n",
       "      <td>Escritorio</td>\n",
       "      <td>11.0</td>\n",
       "      <td>0.0</td>\n",
       "    </tr>\n",
       "    <tr>\n",
       "      <th>3</th>\n",
       "      <td>Cama</td>\n",
       "      <td>0.0</td>\n",
       "      <td>20.0</td>\n",
       "    </tr>\n",
       "    <tr>\n",
       "      <th>4</th>\n",
       "      <td>Librero</td>\n",
       "      <td>0.0</td>\n",
       "      <td>25.0</td>\n",
       "    </tr>\n",
       "    <tr>\n",
       "      <th>5</th>\n",
       "      <td>Escritorio</td>\n",
       "      <td>0.0</td>\n",
       "      <td>10.0</td>\n",
       "    </tr>\n",
       "  </tbody>\n",
       "</table>\n",
       "</div>"
      ],
      "text/plain": [
       "     Producto  Ventas  Descuento\n",
       "0        Cama     3.0        0.0\n",
       "1     Librero     9.0        0.0\n",
       "2  Escritorio    11.0        0.0\n",
       "3        Cama     0.0       20.0\n",
       "4     Librero     0.0       25.0\n",
       "5  Escritorio     0.0       10.0"
      ]
     },
     "execution_count": 29,
     "metadata": {},
     "output_type": "execute_result"
    }
   ],
   "source": [
    "def ex3_concat_diff_columns_fillna():\n",
    "    \"\"\"Ejercicio 3:\n",
    "    Crea dos DataFrame que no tengan exactamente las mismas columnas (ej.: uno tiene\n",
    "    'Producto' y 'Ventas', el otro 'Producto' y 'Descuento'). Concaténalos y asegura\n",
    "    que los valores faltantes queden rellenados con 0. Retorna el DataFrame resultante.\n",
    "    \"\"\"\n",
    "    df1 = pd.DataFrame({'Producto': ['Cama', 'Librero', 'Escritorio'], 'Ventas': [3, 9, 11]})\n",
    "    df2 = pd.DataFrame({'Producto': ['Cama', 'Librero', 'Escritorio'], 'Descuento': [20, 25, 10]})\n",
    "    return pd.concat([df1, df2], ignore_index = True).fillna(0) # .fillna(0) reemplaza NaN → 0\n",
    "\n",
    "# Comprobar que sirve\n",
    "ex3_concat_diff_columns_fillna()"
   ]
  },
  {
   "cell_type": "code",
   "execution_count": 38,
   "id": "3c237f73-6e1c-4163-adfc-9e5b65b652bf",
   "metadata": {},
   "outputs": [
    {
     "data": {
      "text/html": [
       "<div>\n",
       "<style scoped>\n",
       "    .dataframe tbody tr th:only-of-type {\n",
       "        vertical-align: middle;\n",
       "    }\n",
       "\n",
       "    .dataframe tbody tr th {\n",
       "        vertical-align: top;\n",
       "    }\n",
       "\n",
       "    .dataframe thead th {\n",
       "        text-align: right;\n",
       "    }\n",
       "</style>\n",
       "<table border=\"1\" class=\"dataframe\">\n",
       "  <thead>\n",
       "    <tr style=\"text-align: right;\">\n",
       "      <th></th>\n",
       "      <th>Alumno</th>\n",
       "      <th>Nota</th>\n",
       "    </tr>\n",
       "  </thead>\n",
       "  <tbody>\n",
       "    <tr>\n",
       "      <th>0</th>\n",
       "      <td>Majo</td>\n",
       "      <td>5.5</td>\n",
       "    </tr>\n",
       "    <tr>\n",
       "      <th>1</th>\n",
       "      <td>Alessa</td>\n",
       "      <td>8.0</td>\n",
       "    </tr>\n",
       "    <tr>\n",
       "      <th>2</th>\n",
       "      <td>Pavel</td>\n",
       "      <td>7.2</td>\n",
       "    </tr>\n",
       "    <tr>\n",
       "      <th>3</th>\n",
       "      <td>Adrián</td>\n",
       "      <td>8.0</td>\n",
       "    </tr>\n",
       "    <tr>\n",
       "      <th>4</th>\n",
       "      <td>Óscar</td>\n",
       "      <td>6.5</td>\n",
       "    </tr>\n",
       "    <tr>\n",
       "      <th>5</th>\n",
       "      <td>Jonathan</td>\n",
       "      <td>7.7</td>\n",
       "    </tr>\n",
       "    <tr>\n",
       "      <th>6</th>\n",
       "      <td>Geraldine</td>\n",
       "      <td>2.0</td>\n",
       "    </tr>\n",
       "    <tr>\n",
       "      <th>7</th>\n",
       "      <td>Michelle</td>\n",
       "      <td>7.0</td>\n",
       "    </tr>\n",
       "    <tr>\n",
       "      <th>8</th>\n",
       "      <td>Aura</td>\n",
       "      <td>6.5</td>\n",
       "    </tr>\n",
       "  </tbody>\n",
       "</table>\n",
       "</div>"
      ],
      "text/plain": [
       "      Alumno  Nota\n",
       "0       Majo   5.5\n",
       "1     Alessa   8.0\n",
       "2      Pavel   7.2\n",
       "3     Adrián   8.0\n",
       "4      Óscar   6.5\n",
       "5   Jonathan   7.7\n",
       "6  Geraldine   2.0\n",
       "7   Michelle   7.0\n",
       "8       Aura   6.5"
      ]
     },
     "execution_count": 38,
     "metadata": {},
     "output_type": "execute_result"
    }
   ],
   "source": [
    "def ex4_concat_three_groups():\n",
    "    \"\"\"Ejercicio 4:\n",
    "    Genera tres DataFrame pequeños (cada uno con, por ejemplo, 3 filas) que representen\n",
    "    notas de distintos grupos de alumnos. Concaténalos verticalmente en un solo DataFrame\n",
    "    que contenga todas las notas. Retorna el DataFrame resultante.\n",
    "    \"\"\"\n",
    "    ng1 = pd.DataFrame({'Alumno': ['Majo', 'Alessa', 'Pavel'], 'Nota': [5.5, 8, 7.2]})\n",
    "    ng2 = pd.DataFrame({'Alumno': ['Adrián', 'Óscar', 'Jonathan'], 'Nota': [8, 6.5, 7.7]})\n",
    "    ng3 = pd.DataFrame({'Alumno': ['Geraldine', 'Michelle', 'Aura'], 'Nota': [2, 7, 6.5]})\n",
    "    return pd.concat([ng1, ng2, ng3], ignore_index=True)\n",
    "\n",
    "# Comprobar que sirve\n",
    "ex4_concat_three_groups()"
   ]
  },
  {
   "cell_type": "code",
   "execution_count": null,
   "id": "713721bf-93eb-4cff-8907-5a03edbafee6",
   "metadata": {},
   "outputs": [],
   "source": [
    "# -----------------------------\n",
    "# 5-8: Listas\n",
    "# -----------------------------"
   ]
  },
  {
   "cell_type": "code",
   "execution_count": 45,
   "id": "5edea401-40ec-4b6c-88d6-4bd64f10522b",
   "metadata": {},
   "outputs": [
    {
     "data": {
      "text/plain": [
       "(['ojo', 'boca'], [3, 4, 7])"
      ]
     },
     "execution_count": 45,
     "metadata": {},
     "output_type": "execute_result"
    }
   ],
   "source": [
    "def ex5_remove_duplicates_preserve_order(lst):\n",
    "    \"\"\"Ejercicio 5:\n",
    "    Dada una lista de enteros (o strings) que puede contener duplicados, devuelve una\n",
    "    nueva lista sin duplicados preservando el orden original. No uses directamente set()\n",
    "    para eliminar duplicados (escribe la lógica que preserve el orden). Retorna la nueva \n",
    "    lista sin duplicados.\n",
    "    \"\"\"\n",
    "    resultado = [] # Aquí se irán guardando los items s/duplicar\n",
    "    for item in lst:\n",
    "        if item not in resultado:\n",
    "            resultado.append(item) # Añadir item a 'resultado'\n",
    "    return resultado\n",
    "\n",
    "# Comprobar que sirve\n",
    "ex5_remove_duplicates_preserve_order(['ojo', 'boca', 'ojo']), ex5_remove_duplicates_preserve_order([3, 4, 7, 4])"
   ]
  },
  {
   "cell_type": "code",
   "execution_count": 46,
   "id": "a5a3921a-e4a7-4f15-8c02-7f3414305329",
   "metadata": {},
   "outputs": [
    {
     "data": {
      "text/plain": [
       "[('b', 1), ('c', 2), ('a', 3)]"
      ]
     },
     "execution_count": 46,
     "metadata": {},
     "output_type": "execute_result"
    }
   ],
   "source": [
    "def ex6_sort_tuples_by_second_element(tuples_list):\n",
    "    \"\"\"Ejercicio 6:\n",
    "    Dada una lista de tuplas, por ejemplo [(\"a\", 3), (\"b\", 1), (\"c\", 2)], ordénala\n",
    "    por el segundo elemento de cada tupla y devuelve la lista ordenada. Usa una función\n",
    "    anónima si lo deseas. Retorna la lista ordenada.\n",
    "    \"\"\"\n",
    "    return sorted(tuples_list, key = lambda x: x[1]) # lambda = función anónima, x = elemento de la lista, x[1] = devuelve 2do elemento de la lista\n",
    "\n",
    "# Comprobar que sirve\n",
    "ex6_sort_tuples_by_second_element([(\"a\", 3), (\"b\", 1), (\"c\", 2)])"
   ]
  },
  {
   "cell_type": "code",
   "execution_count": 51,
   "id": "53a7c230-0c29-4670-98a6-2ac00b926f3e",
   "metadata": {},
   "outputs": [
    {
     "data": {
      "text/plain": [
       "[7, 14, 21, 28, 35]"
      ]
     },
     "execution_count": 51,
     "metadata": {},
     "output_type": "execute_result"
    }
   ],
   "source": [
    "def ex7_first_n_multiples_of_7(n):\n",
    "    \"\"\"Ejercicio 7:\n",
    "    Devuelve una lista con los primeros n múltiplos de 7 (por ejemplo, n=5 -> [7,14,21,28,35]).\n",
    "    Retorna la lista generada.\n",
    "    \"\"\"\n",
    "    return [7 * i for i in range(1, n + 1)] # Si solo pusiéramos n, tendríamos en realidad n-1 (lim sup no se incluye)\n",
    "\n",
    "# Comprobar que sirve\n",
    "ex7_first_n_multiples_of_7(5)"
   ]
  },
  {
   "cell_type": "code",
   "execution_count": 63,
   "id": "9340cc1c-1051-4571-b7bb-7e049b208f30",
   "metadata": {},
   "outputs": [
    {
     "data": {
      "text/plain": [
       "['Hannah', 'oro']"
      ]
     },
     "execution_count": 63,
     "metadata": {},
     "output_type": "execute_result"
    }
   ],
   "source": [
    "def ex8_filter_palindromes(strings): \n",
    "    \"\"\"Ejercicio 8: Dada una lista de cadenas, devuelve sólo aquellas que son palíndromos \n",
    "    (se leen igual al derecho y al revés). Retorna una lista con los palíndromos encontrados. \"\"\"\n",
    "    palíndromos = []\n",
    "    for s in strings:\n",
    "        if s.lower() == s[::-1].lower():  # Compara s con su reverso, tomando como igual minúsculas y mayúsculas\n",
    "            palíndromos.append(s) # Añade s a 'palíndromos'\n",
    "    return palíndromos\n",
    "\n",
    "# Comprobar que sirve\n",
    "ex8_filter_palindromes(['Hannah', 'oro', 'sujeto'])"
   ]
  },
  {
   "cell_type": "code",
   "execution_count": null,
   "id": "f95fe417-1054-460d-b92c-4f975d2b4e46",
   "metadata": {},
   "outputs": [],
   "source": [
    "# -----------------------------\n",
    "# 9-12: Conjuntos\n",
    "# -----------------------------"
   ]
  },
  {
   "cell_type": "code",
   "execution_count": 66,
   "id": "ffd6c9a8-b8af-46eb-81ed-132dafee9060",
   "metadata": {},
   "outputs": [
    {
     "data": {
      "text/plain": [
       "({'azul', 'rojo'}, {'amarillo'})"
      ]
     },
     "execution_count": 66,
     "metadata": {},
     "output_type": "execute_result"
    }
   ],
   "source": [
    "def ex9_set_intersection_and_difference(set_a, set_b):\n",
    "    \"\"\"Ejercicio 9:\n",
    "    Dado dos conjuntos, devuelve su intersección y la diferencia (elementos de A que no\n",
    "    están en B). Retorna una tupla (intersección, diferencia).\n",
    "    \"\"\"\n",
    "    intersección = set_a & set_b # Elementos en común\n",
    "    diferencia = set_a - set_b # Están en A, pero no en B\n",
    "    return (intersección, diferencia)\n",
    "\n",
    "# Comprobar que sirve\n",
    "ex9_set_intersection_and_difference(set_a = {'rojo', 'azul', 'amarillo'}, set_b = {'rojo', 'verde', 'azul'})"
   ]
  },
  {
   "cell_type": "code",
   "execution_count": 69,
   "id": "cdb5e06b-fca2-48bc-9267-dec3d4d82476",
   "metadata": {},
   "outputs": [
    {
     "data": {
      "text/plain": [
       "(True, False)"
      ]
     },
     "execution_count": 69,
     "metadata": {},
     "output_type": "execute_result"
    }
   ],
   "source": [
    "def ex10_is_subset(set_a, set_b):\n",
    "    \"\"\"Ejercicio 10:\n",
    "    Verifica si set_a es subconjunto de set_b. Devuelve True o False.\n",
    "    \"\"\"\n",
    "    return set_a.issubset(set_b)\n",
    "\n",
    "# Comprobar que sirve\n",
    "ex10_is_subset(set_a = {2, 4, 7}, set_b = {2, 3, 4, 6, 7}), ex10_is_subset(set_a = {2, 4, 7}, set_b = {3, 5, 6})"
   ]
  },
  {
   "cell_type": "code",
   "execution_count": 71,
   "id": "23a47eff-22be-4ff9-8d42-2ca621acb7c1",
   "metadata": {},
   "outputs": [
    {
     "data": {
      "text/plain": [
       "3"
      ]
     },
     "execution_count": 71,
     "metadata": {},
     "output_type": "execute_result"
    }
   ],
   "source": [
    "def ex11_count_unique_elements(lst):\n",
    "    \"\"\"Ejercicio 11:\n",
    "    Dada una lista, cuenta cuántos elementos únicos contiene (usa set para obtener el conteo).\n",
    "    Retorna el número de elementos únicos.\n",
    "    \"\"\"\n",
    "    return len(set(lst))\n",
    "\n",
    "# Comprobar que sirve\n",
    "ex11_count_unique_elements(['a', 'a', 'b', 'c', 'c'])"
   ]
  },
  {
   "cell_type": "code",
   "execution_count": 78,
   "id": "2dac8012-ec30-459a-ae7a-dee2d460de40",
   "metadata": {},
   "outputs": [
    {
     "data": {
      "text/plain": [
       "{'con', 'no', 'o', 'paga', 'se', 'somos', 'traición'}"
      ]
     },
     "execution_count": 78,
     "metadata": {},
     "output_type": "execute_result"
    }
   ],
   "source": [
    "def ex12_unique_words_from_phrases(phrases):\n",
    "    \"\"\"Ejercicio 12:\n",
    "    Dada una lista de frases (strings), extrae y devuelve el conjunto de todas las palabras\n",
    "    únicas que aparecen en todas las frases. Retorna un conjunto con las palabras únicas.\n",
    "    \"\"\"\n",
    "    únicas = set() # Aquí se irán almacenando las palabras únicas\n",
    "    for f in phrases:\n",
    "        únicas.update(f.lower().split()) # Toma como iguales minúsculas y minúsculas, divide frase en palabras\n",
    "    return únicas\n",
    "    # .update() agrega varios elementos a un set, .add() agrega un solo elemento\n",
    "    \n",
    "# Comprobar que sirve\n",
    "ex12_unique_words_from_phrases([\n",
    "    'Somos o no somos', \n",
    "    'Traición con traición se paga'])"
   ]
  },
  {
   "cell_type": "code",
   "execution_count": 79,
   "id": "63f1cbde-a68a-42cf-b357-6aa1078fa844",
   "metadata": {},
   "outputs": [],
   "source": [
    "# -----------------------------\n",
    "# 13-16: Tuplas\n",
    "# -----------------------------"
   ]
  },
  {
   "cell_type": "code",
   "execution_count": 82,
   "id": "0249591a-3dad-4649-9f91-6ac6e7c3d2cd",
   "metadata": {},
   "outputs": [
    {
     "data": {
      "text/plain": [
       "('Óscar', 23)"
      ]
     },
     "execution_count": 82,
     "metadata": {},
     "output_type": "execute_result"
    }
   ],
   "source": [
    "def ex13_oldest_person(tuple_list):\n",
    "    \"\"\"Ejercicio 13:\n",
    "    Recibe una lista de tuplas (nombre, edad). Devuelve la tupla de la persona con mayor edad.\n",
    "    \"\"\"\n",
    "    return max(tuple_list, key = lambda x: x[1])\n",
    "\n",
    "# Comprobar que sirve\n",
    "ex13_oldest_person([('Anette', 22), ('Adrián', 22), ('Óscar', 23)])"
   ]
  },
  {
   "cell_type": "code",
   "execution_count": 83,
   "id": "f7c2b1c4-48d6-47b2-8362-7b4250b49559",
   "metadata": {},
   "outputs": [
    {
     "data": {
      "text/plain": [
       "[(3, 4), (7, 8), (11, 12)]"
      ]
     },
     "execution_count": 83,
     "metadata": {},
     "output_type": "execute_result"
    }
   ],
   "source": [
    "def ex14_convert_list_of_lists_to_tuples(list_of_lists):\n",
    "    \"\"\"Ejercicio 14:\n",
    "    Convierte una lista de listas en una lista de tuplas. Retorna la nueva lista de tuplas.\n",
    "    \"\"\"\n",
    "    return [tuple(nueva) for nueva in list_of_lists] # tuple(nueva) convierte la nueva en tupla, 'for nueva in list_of_lists' recorre cada lista (elemento) dentro de la lista principal\n",
    "\n",
    "# Comprobar que sirve\n",
    "ex14_convert_list_of_lists_to_tuples([[3, 4], [7, 8], [11, 12]]) # [3, 4] es una lista dentro de una lista"
   ]
  },
  {
   "cell_type": "code",
   "execution_count": 85,
   "id": "c81872d0-526b-44d9-bf6c-823943bd151b",
   "metadata": {},
   "outputs": [
    {
     "data": {
      "text/plain": [
       "10"
      ]
     },
     "execution_count": 85,
     "metadata": {},
     "output_type": "execute_result"
    }
   ],
   "source": [
    "def ex15_sum_of_tuple_abc(t):\n",
    "    \"\"\"Ejercicio 15:\n",
    "    Recibe una tupla de tres números (a, b, c). Desempaquétala y devuelve la suma a+b+c. \n",
    "    Retorna un número entero o flotante.\n",
    "    \"\"\"\n",
    "    a, b, c = t\n",
    "    return a + b + c\n",
    "\n",
    "# Comprobar que sirve\n",
    "ex15_sum_of_tuple_abc((6, 2, 2))"
   ]
  },
  {
   "cell_type": "code",
   "execution_count": 88,
   "id": "21e6e2b7-400b-4c28-acdf-ea7b59faa611",
   "metadata": {},
   "outputs": [
    {
     "data": {
      "text/plain": [
       "[('Anillo', 25), ('Aretes', 30), ('Colar', 50)]"
      ]
     },
     "execution_count": 88,
     "metadata": {},
     "output_type": "execute_result"
    }
   ],
   "source": [
    "def ex16_sort_product_price(prod_price_list):\n",
    "    \"\"\"Ejercicio 16:\n",
    "    Dada una lista de tuplas (producto, precio), ordénala por precio de menor a mayor.\n",
    "    Retorna la lista ordenada.\n",
    "    \"\"\"\n",
    "    return sorted(prod_price_list, key = lambda x: x[1])\n",
    "\n",
    "# Comprobar que sirve\n",
    "ex16_sort_product_price([('Colar', 50), ('Anillo', 25), ('Aretes', 30)])"
   ]
  },
  {
   "cell_type": "code",
   "execution_count": null,
   "id": "a6643b05-ae45-41f4-9a32-0e9f5d606743",
   "metadata": {},
   "outputs": [],
   "source": [
    "# -----------------------------\n",
    "# 17-20: Diccionarios\n",
    "# -----------------------------"
   ]
  },
  {
   "cell_type": "code",
   "execution_count": 90,
   "id": "652b4aa0-3b44-4781-b9a7-fa74f76cd107",
   "metadata": {},
   "outputs": [
    {
     "data": {
      "text/plain": [
       "{'V': 1, 'e': 2, 'r': 1, 'd': 1}"
      ]
     },
     "execution_count": 90,
     "metadata": {},
     "output_type": "execute_result"
    }
   ],
   "source": [
    "def ex17_char_frequency(s):\n",
    "    \"\"\"Ejercicio 17:\n",
    "    Cuenta la frecuencia de cada carácter en una cadena usando un diccionario.\n",
    "    Retorna un diccionario {carácter: frecuencia}.\n",
    "    \"\"\"\n",
    "    frecuencia = {} # Aquí se irán almacenando las frecuencias de cada caracter\n",
    "    for c in s:\n",
    "      if c in frecuencia:\n",
    "          frecuencia[c] += 1 # Si ya está, sumar 1\n",
    "      else:\n",
    "          frecuencia[c] = 1\n",
    "    return frecuencia\n",
    "\n",
    "# Comprobar que sirve\n",
    "ex17_char_frequency('Verde')"
   ]
  },
  {
   "cell_type": "code",
   "execution_count": 94,
   "id": "b7492724-3834-4542-8432-1bafea2b85c5",
   "metadata": {},
   "outputs": [
    {
     "data": {
      "text/plain": [
       "('Alumno 2', 8.7)"
      ]
     },
     "execution_count": 94,
     "metadata": {},
     "output_type": "execute_result"
    }
   ],
   "source": [
    "def ex18_best_student(grades_dict):\n",
    "    \"\"\"Ejercicio 18:\n",
    "    Dado un diccionario {alumno: calificación}, devuelve al mejor estudiante.\n",
    "    Retorna una tupla (nombre, calificación).\n",
    "    \"\"\"\n",
    "    return max(grades_dict.items(), key = lambda x: x[1]) # .items() devuelve un iterable de tuplas (key, valor), no solo key\n",
    "\n",
    "# Comprobar que sirve\n",
    "ex18_best_student({'Alumno 1': 8.0, 'Alumno 2': 8.7, 'Alumno 3': 7.6})"
   ]
  },
  {
   "cell_type": "code",
   "execution_count": 96,
   "id": "8471dcfe-a89a-4bff-bd51-baab3d45fb00",
   "metadata": {},
   "outputs": [
    {
     "data": {
      "text/plain": [
       "{8.0: 'Alumno 1', 8.7: 'Alumno 2', 7.6: 'Alumno 3'}"
      ]
     },
     "execution_count": 96,
     "metadata": {},
     "output_type": "execute_result"
    }
   ],
   "source": [
    "def ex19_invert_dictionary(d):\n",
    "    \"\"\"Ejercicio 19:\n",
    "    Invierte un diccionario, intercambiando claves y valores.\n",
    "    Retorna el diccionario invertido.\n",
    "    \"\"\"\n",
    "    return {valor: key for key, valor in d.items()}\n",
    "\n",
    "# Comprobar que sirve\n",
    "ex19_invert_dictionary({'Alumno 1': 8.0, 'Alumno 2': 8.7, 'Alumno 3': 7.6})"
   ]
  },
  {
   "cell_type": "code",
   "execution_count": 97,
   "id": "ab8e819c-a9b8-4624-866b-604be64d3436",
   "metadata": {},
   "outputs": [
    {
     "data": {
      "text/plain": [
       "{'a': 4, 'b': 11, 'c': 2}"
      ]
     },
     "execution_count": 97,
     "metadata": {},
     "output_type": "execute_result"
    }
   ],
   "source": [
    "def ex20_merge_dicts_sum_values(d1, d2):\n",
    "    \"\"\"Ejercicio 20:\n",
    "    Fusiona dos diccionarios sumando los valores de las claves que se repitan. \n",
    "    Devuelve el diccionario resultante.\n",
    "    \"\"\"\n",
    "    dicc_resultante = dict(d1)\n",
    "    for key, valor, in d2.items():\n",
    "        dicc_resultante[key] = dicc_resultante.get(key, 0) + valor\n",
    "    return dicc_resultante\n",
    "\n",
    "# Comprobar que sirve\n",
    "ex20_merge_dicts_sum_values({'a': 4, 'b': 3}, {'b': 8, 'c': 2})"
   ]
  },
  {
   "cell_type": "code",
   "execution_count": null,
   "id": "487475d1-1da7-4b95-9cfc-8a079dd278af",
   "metadata": {},
   "outputs": [],
   "source": [
    "# -----------------------------\n",
    "# 21-24: NumPy\n",
    "# -----------------------------"
   ]
  },
  {
   "cell_type": "code",
   "execution_count": 98,
   "id": "a429c23b-c50a-40ce-a9ec-4ae2ee7582f3",
   "metadata": {},
   "outputs": [
    {
     "data": {
      "text/plain": [
       "array([0., 0., 0., 0., 1., 0., 0., 0., 0., 0.])"
      ]
     },
     "execution_count": 98,
     "metadata": {},
     "output_type": "execute_result"
    }
   ],
   "source": [
    "def ex21_numpy_array_set_fifth():\n",
    "    \"\"\"Ejercicio 21:\n",
    "    Crea un arreglo de NumPy de 10 ceros y cambia el quinto elemento (índice 4) a 1.\n",
    "    Retorna el array resultante.\n",
    "    \"\"\"\n",
    "    array = np.zeros(10)\n",
    "    array[4] = 1\n",
    "    return array\n",
    "\n",
    "# Comprobar que sirve\n",
    "ex21_numpy_array_set_fifth()"
   ]
  },
  {
   "cell_type": "code",
   "execution_count": 101,
   "id": "20e87336-84a6-44a1-b389-561b22797c05",
   "metadata": {},
   "outputs": [
    {
     "data": {
      "text/plain": [
       "array([[0, 1, 2],\n",
       "       [3, 4, 5],\n",
       "       [6, 7, 8]])"
      ]
     },
     "execution_count": 101,
     "metadata": {},
     "output_type": "execute_result"
    }
   ],
   "source": [
    "def ex22_numpy_matrix_3x3():\n",
    "    \"\"\"Ejercicio 22:\n",
    "    Genera una matriz 3x3 con los valores del 0 al 8. \n",
    "    Retorna la matriz como array de NumPy.\n",
    "    \"\"\"\n",
    "    return np.arange(9).reshape(3, 3) # .arange() crea array con valores 0-8, .reshape() da formato 3x3 al array\n",
    "\n",
    "# Comprobar que sirve\n",
    "ex22_numpy_matrix_3x3()"
   ]
  },
  {
   "cell_type": "code",
   "execution_count": 104,
   "id": "32be8b03-ea73-4d68-9a3b-b1286e4f0209",
   "metadata": {},
   "outputs": [
    {
     "data": {
      "text/plain": [
       "(np.float64(44.1), np.float64(46.5), np.float64(31.317566955304812))"
      ]
     },
     "execution_count": 104,
     "metadata": {},
     "output_type": "execute_result"
    }
   ],
   "source": [
    "def ex23_numpy_statistics():\n",
    "    \"\"\"Ejercicio 23:\n",
    "    Genera un array aleatorio de 20 enteros y calcula la media, mediana y desviación estándar.\n",
    "    Retorna una tupla (media, mediana, desviación estándar).\n",
    "    \"\"\"\n",
    "    array = np.random.randint(0, 100, 20)\n",
    "    return array.mean(), np.median(array), array.std()\n",
    "\n",
    "# Comprobar que sirve\n",
    "ex23_numpy_statistics()"
   ]
  },
  {
   "cell_type": "code",
   "execution_count": 107,
   "id": "1fea5833-9f41-415b-8127-a22504b708d2",
   "metadata": {},
   "outputs": [
    {
     "data": {
      "text/plain": [
       "array([10,  3,  4, 10,  8, 10])"
      ]
     },
     "execution_count": 107,
     "metadata": {},
     "output_type": "execute_result"
    }
   ],
   "source": [
    "def ex24_numpy_clip_values(arr):\n",
    "    \"\"\"Ejercicio 24:\n",
    "    Dado un array (o lista) de números, reemplaza todos los valores mayores que 10 por 10\n",
    "    (es decir, limita/\"clip\" los valores máximos).\n",
    "    Retorna el array modificado.\n",
    "    \"\"\"\n",
    "    return np.clip(np.array(arr), None, 10) # np.array() asegura que arr sea una lista, None = sin límite inferior\n",
    "\n",
    "# Comprobar que sirve\n",
    "ex24_numpy_clip_values([50, 3, 4, 60, 8, 11])"
   ]
  },
  {
   "cell_type": "code",
   "execution_count": null,
   "id": "ccc39db6-a900-478a-b06c-0c0318aac0fb",
   "metadata": {},
   "outputs": [],
   "source": [
    "# -----------------------------\n",
    "# 25-28: Pandas (otros)\n",
    "# -----------------------------"
   ]
  },
  {
   "cell_type": "code",
   "execution_count": 111,
   "id": "4c5cfca2-aabf-4583-b62f-e8f42e24cb90",
   "metadata": {},
   "outputs": [
    {
     "data": {
      "text/html": [
       "<div>\n",
       "<style scoped>\n",
       "    .dataframe tbody tr th:only-of-type {\n",
       "        vertical-align: middle;\n",
       "    }\n",
       "\n",
       "    .dataframe tbody tr th {\n",
       "        vertical-align: top;\n",
       "    }\n",
       "\n",
       "    .dataframe thead th {\n",
       "        text-align: right;\n",
       "    }\n",
       "</style>\n",
       "<table border=\"1\" class=\"dataframe\">\n",
       "  <thead>\n",
       "    <tr style=\"text-align: right;\">\n",
       "      <th></th>\n",
       "      <th>Nombre</th>\n",
       "      <th>Edad</th>\n",
       "      <th>Ciudad</th>\n",
       "    </tr>\n",
       "  </thead>\n",
       "  <tbody>\n",
       "    <tr>\n",
       "      <th>0</th>\n",
       "      <td>Marie</td>\n",
       "      <td>40</td>\n",
       "      <td>París</td>\n",
       "    </tr>\n",
       "    <tr>\n",
       "      <th>2</th>\n",
       "      <td>Guadalupe</td>\n",
       "      <td>35</td>\n",
       "      <td>CDMX</td>\n",
       "    </tr>\n",
       "  </tbody>\n",
       "</table>\n",
       "</div>"
      ],
      "text/plain": [
       "      Nombre  Edad Ciudad\n",
       "0      Marie    40  París\n",
       "2  Guadalupe    35   CDMX"
      ]
     },
     "execution_count": 111,
     "metadata": {},
     "output_type": "execute_result"
    }
   ],
   "source": [
    "def ex25_filter_rows_age_over_30():\n",
    "    \"\"\"Ejercicio 25:\n",
    "    Crea un DataFrame con columnas 'Nombre', 'Edad' y 'Ciudad'.\n",
    "    Filtra y retorna solo las filas con `Edad` > 30.\n",
    "    \"\"\"\n",
    "    df = pd.DataFrame({\n",
    "        'Nombre': ['Marie', 'Mónica', 'Guadalupe'],\n",
    "        'Edad': [40, 29, 35],\n",
    "        'Ciudad': ['París', 'Puebla', 'CDMX']})\n",
    "    return df[df['Edad'] > 30]\n",
    "\n",
    "# Comprobar que sirve\n",
    "ex25_filter_rows_age_over_30()"
   ]
  },
  {
   "cell_type": "code",
   "execution_count": 113,
   "id": "6fac7e04-d4c7-488d-bb87-31ceb1e97894",
   "metadata": {},
   "outputs": [
    {
     "data": {
      "text/html": [
       "<div>\n",
       "<style scoped>\n",
       "    .dataframe tbody tr th:only-of-type {\n",
       "        vertical-align: middle;\n",
       "    }\n",
       "\n",
       "    .dataframe tbody tr th {\n",
       "        vertical-align: top;\n",
       "    }\n",
       "\n",
       "    .dataframe thead th {\n",
       "        text-align: right;\n",
       "    }\n",
       "</style>\n",
       "<table border=\"1\" class=\"dataframe\">\n",
       "  <thead>\n",
       "    <tr style=\"text-align: right;\">\n",
       "      <th></th>\n",
       "      <th>Nombre</th>\n",
       "      <th>Puntaje</th>\n",
       "    </tr>\n",
       "  </thead>\n",
       "  <tbody>\n",
       "    <tr>\n",
       "      <th>1</th>\n",
       "      <td>Oswaldo</td>\n",
       "      <td>94</td>\n",
       "    </tr>\n",
       "    <tr>\n",
       "      <th>2</th>\n",
       "      <td>José</td>\n",
       "      <td>91</td>\n",
       "    </tr>\n",
       "    <tr>\n",
       "      <th>0</th>\n",
       "      <td>Javier</td>\n",
       "      <td>85</td>\n",
       "    </tr>\n",
       "  </tbody>\n",
       "</table>\n",
       "</div>"
      ],
      "text/plain": [
       "    Nombre  Puntaje\n",
       "1  Oswaldo       94\n",
       "2     José       91\n",
       "0   Javier       85"
      ]
     },
     "execution_count": 113,
     "metadata": {},
     "output_type": "execute_result"
    }
   ],
   "source": [
    "def ex26_load_dict_into_dataframe_and_sort():\n",
    "    \"\"\"Ejercicio 26:\n",
    "    Carga un diccionario en un DataFrame (por ejemplo {'Nombre': [...], 'Puntaje': [...]})\n",
    "    y ordénalo por la columna de puntaje de mayor a menor.\n",
    "    Retorna el DataFrame ordenado.\n",
    "    \"\"\"\n",
    "    diccionario = {'Nombre': ['Javier', 'Oswaldo', 'José'], 'Puntaje': [85, 94, 91]}\n",
    "    df = pd.DataFrame(diccionario)\n",
    "    return df.sort_values('Puntaje', ascending = False) # sorted() no aplica para DataFrames, porque este no es directamente iterable por filas\n",
    "\n",
    "# Comprobar que sirve\n",
    "ex26_load_dict_into_dataframe_and_sort()"
   ]
  },
  {
   "cell_type": "code",
   "execution_count": 120,
   "id": "97ca233f-05ae-4b22-9903-22cd514ff8ae",
   "metadata": {},
   "outputs": [
    {
     "data": {
      "text/html": [
       "<div>\n",
       "<style scoped>\n",
       "    .dataframe tbody tr th:only-of-type {\n",
       "        vertical-align: middle;\n",
       "    }\n",
       "\n",
       "    .dataframe tbody tr th {\n",
       "        vertical-align: top;\n",
       "    }\n",
       "\n",
       "    .dataframe thead th {\n",
       "        text-align: right;\n",
       "    }\n",
       "</style>\n",
       "<table border=\"1\" class=\"dataframe\">\n",
       "  <thead>\n",
       "    <tr style=\"text-align: right;\">\n",
       "      <th></th>\n",
       "      <th>Grupo</th>\n",
       "      <th>Valor</th>\n",
       "    </tr>\n",
       "  </thead>\n",
       "  <tbody>\n",
       "    <tr>\n",
       "      <th>0</th>\n",
       "      <td>A</td>\n",
       "      <td>2.5</td>\n",
       "    </tr>\n",
       "    <tr>\n",
       "      <th>1</th>\n",
       "      <td>B</td>\n",
       "      <td>6.5</td>\n",
       "    </tr>\n",
       "    <tr>\n",
       "      <th>2</th>\n",
       "      <td>C</td>\n",
       "      <td>1.5</td>\n",
       "    </tr>\n",
       "  </tbody>\n",
       "</table>\n",
       "</div>"
      ],
      "text/plain": [
       "  Grupo  Valor\n",
       "0     A    2.5\n",
       "1     B    6.5\n",
       "2     C    1.5"
      ]
     },
     "execution_count": 120,
     "metadata": {},
     "output_type": "execute_result"
    }
   ],
   "source": [
    "def ex27_groupby_mean_value():\n",
    "    \"\"\"Ejercicio 27:\n",
    "    Dado un DataFrame con columnas 'Grupo' y 'Valor', calcula el promedio de 'Valor'\n",
    "    por cada 'Grupo' usando groupby. \n",
    "    Retorna el DataFrame agrupado con promedios.\n",
    "    \"\"\"\n",
    "    df = pd.DataFrame({\n",
    "        'Grupo': ['A', 'A', 'B', 'B', 'C', 'C'],\n",
    "        'Valor': [3, 2, 5, 8, 1, 2]})\n",
    "    return df.groupby('Grupo')['Valor'].mean().reset_index()\n",
    "    # .groupby('Grupo') agrupa las filas por la columna 'Grupo'; \n",
    "    # ['Valor'].mean() calcula la media de la columna 'Valor' para cada grupo formado\n",
    "    # .reset_index() deja a 'Grupo' como columna normal en vez de índice del resultado\n",
    "\n",
    "# Comprobar que sirve\n",
    "ex27_groupby_mean_value()"
   ]
  },
  {
   "cell_type": "code",
   "execution_count": 125,
   "id": "94382113-b40f-4da9-8500-8ce888f9361b",
   "metadata": {},
   "outputs": [
    {
     "data": {
      "text/plain": [
       "('Matcha', np.int64(23))"
      ]
     },
     "execution_count": 125,
     "metadata": {},
     "output_type": "execute_result"
    }
   ],
   "source": [
    "def ex28_most_sold_product_from_sales_df():\n",
    "    \"\"\"Ejercicio 28:\n",
    "    Dado un DataFrame de ventas con columnas 'Producto' y 'Cantidad', determina cuál\n",
    "    es el producto con la mayor suma total de 'Cantidad' (es decir, el más vendido).\n",
    "    Retorna una tupla (Producto, Ventas).\n",
    "    \"\"\"\n",
    "    df = pd.DataFrame({\n",
    "        'Producto': ['Café', 'Café', 'Té', 'Matcha', 'Matcha', 'Matcha'],\n",
    "        'Cantidad': [10, 5, 7, 9, 11, 3]})\n",
    "    suma_cantidad = df.groupby('Producto')['Cantidad'].sum()\n",
    "    return (suma_cantidad.idxmax(), suma_cantidad.max())\n",
    "    # .idxmax() devuelve etiqueta de 'Producto' más vendido\n",
    "    # .max() devuelve cantidad de 'Cantidad' máxima\n",
    "\n",
    "# Comprobar que sirve\n",
    "ex28_most_sold_product_from_sales_df()"
   ]
  },
  {
   "cell_type": "code",
   "execution_count": null,
   "id": "616a9dbc-012e-46df-b914-54c8c560d92d",
   "metadata": {},
   "outputs": [],
   "source": [
    "# -----------------------------\n",
    "# 29-32: Lambdas y funciones anónimas\n",
    "# -----------------------------"
   ]
  },
  {
   "cell_type": "code",
   "execution_count": 131,
   "id": "915d64fd-cce0-460a-ba09-18c417ba1e21",
   "metadata": {},
   "outputs": [
    {
     "data": {
      "text/plain": [
       "([1, 8, 27], [125, 1, 729])"
      ]
     },
     "execution_count": 131,
     "metadata": {},
     "output_type": "execute_result"
    }
   ],
   "source": [
    "def ex29_map_lambda_cube(lst):\n",
    "    \"\"\"Ejercicio 29:\n",
    "    Usa map junto con una función lambda para elevar al cubo cada número en una lista.\n",
    "    Devuelve la lista resultante.\n",
    "    \"\"\"\n",
    "    return list(map(lambda x: x**3, lst)) # map(func, iterable) aplica una función a cada elemento de in iterable (lista, tubla, etc.)\n",
    "\n",
    "# Comprobar que sirve (para tupla y lista)\n",
    "ex29_map_lambda_cube((1, 2, 3)), ex29_map_lambda_cube([5, 1, 9]) "
   ]
  },
  {
   "cell_type": "code",
   "execution_count": 134,
   "id": "cb428403-4391-448f-a6b6-5ec3751836c1",
   "metadata": {},
   "outputs": [
    {
     "data": {
      "text/plain": [
       "([2, 4, 8], [24])"
      ]
     },
     "execution_count": 134,
     "metadata": {},
     "output_type": "execute_result"
    }
   ],
   "source": [
    "def ex30_filter_lambda_even(lst):\n",
    "    \"\"\"Ejercicio 30:\n",
    "    Usa filter y una lambda para quedarte sólo con los números pares de una lista.\n",
    "    Devuelve la lista filtrada.\n",
    "    \"\"\"\n",
    "    return list(filter(lambda x: x % 2 == 0, lst))\n",
    "\n",
    "# Comprobar que sirve (para tupla y lista)\n",
    "ex30_filter_lambda_even((2, 3, 4, 8)), ex30_filter_lambda_even([24, 7, 9, 11])"
   ]
  },
  {
   "cell_type": "code",
   "execution_count": 143,
   "id": "23ca3175-e8ec-4c34-ab7f-aac9a6c21492",
   "metadata": {},
   "outputs": [
    {
     "data": {
      "text/plain": [
       "[{'Candidato': 'Azul', 'Votos': 12},\n",
       " {'Candidato': 'Rojo', 'Votos': 34},\n",
       " {'Candidato': 'Amarillo', 'Votos': 72}]"
      ]
     },
     "execution_count": 143,
     "metadata": {},
     "output_type": "execute_result"
    }
   ],
   "source": [
    "def ex31_sort_list_of_dicts_by_key(lst, keyname):\n",
    "    \"\"\"Ejercicio 31:\n",
    "    Dada una lista de diccionarios, ordénala por el valor asociado a 'keyname' usando\n",
    "    sorted con una lambda. Devuelve la lista ordenada.\n",
    "    \"\"\"\n",
    "    return sorted(lst, key = lambda x: x[keyname])\n",
    "\n",
    "# Comprobar que sirve\n",
    "ex31_sort_list_of_dicts_by_key([\n",
    "    {'Candidato': 'Rojo', 'Votos': 34}, \n",
    "    {'Candidato': 'Azul', 'Votos': 12},\n",
    "    {'Candidato': 'Amarillo', 'Votos': 72}], 'Votos')"
   ]
  },
  {
   "cell_type": "code",
   "execution_count": 142,
   "id": "bca2a464",
   "metadata": {},
   "outputs": [
    {
     "data": {
      "text/html": [
       "<div>\n",
       "<style scoped>\n",
       "    .dataframe tbody tr th:only-of-type {\n",
       "        vertical-align: middle;\n",
       "    }\n",
       "\n",
       "    .dataframe tbody tr th {\n",
       "        vertical-align: top;\n",
       "    }\n",
       "\n",
       "    .dataframe thead th {\n",
       "        text-align: right;\n",
       "    }\n",
       "</style>\n",
       "<table border=\"1\" class=\"dataframe\">\n",
       "  <thead>\n",
       "    <tr style=\"text-align: right;\">\n",
       "      <th></th>\n",
       "      <th>Nombre</th>\n",
       "      <th>NOMBRE</th>\n",
       "    </tr>\n",
       "  </thead>\n",
       "  <tbody>\n",
       "    <tr>\n",
       "      <th>0</th>\n",
       "      <td>Anette</td>\n",
       "      <td>ANETTE</td>\n",
       "    </tr>\n",
       "    <tr>\n",
       "      <th>1</th>\n",
       "      <td>Paulina</td>\n",
       "      <td>PAULINA</td>\n",
       "    </tr>\n",
       "  </tbody>\n",
       "</table>\n",
       "</div>"
      ],
      "text/plain": [
       "    Nombre   NOMBRE\n",
       "0   Anette   ANETTE\n",
       "1  Paulina  PAULINA"
      ]
     },
     "execution_count": 142,
     "metadata": {},
     "output_type": "execute_result"
    }
   ],
   "source": [
    "def ex32_pandas_apply_lambda_uppercase(names_list):\n",
    "    \"\"\"Ejercicio 32:\n",
    "    Crea un DataFrame con una columna 'Nombre' a partir de names_list y usa apply con\n",
    "    una función lambda para crear una nueva columna con los nombres en mayúsculas.\n",
    "    Devuelve el DataFrame modificado.\n",
    "    \"\"\"\n",
    "    df = pd.DataFrame({'Nombre': names_list})\n",
    "    df['NOMBRE'] = df['Nombre'].apply(lambda x: x.upper())\n",
    "    return df\n",
    "\n",
    "# Comprobar que sirve\n",
    "ex32_pandas_apply_lambda_uppercase(['Anette', 'Paulina'])"
   ]
  }
 ],
 "metadata": {
  "kernelspec": {
   "display_name": "Python 3 (ipykernel)",
   "language": "python",
   "name": "python3"
  },
  "language_info": {
   "codemirror_mode": {
    "name": "ipython",
    "version": 3
   },
   "file_extension": ".py",
   "mimetype": "text/x-python",
   "name": "python",
   "nbconvert_exporter": "python",
   "pygments_lexer": "ipython3",
   "version": "3.13.7"
  }
 },
 "nbformat": 4,
 "nbformat_minor": 5
}
