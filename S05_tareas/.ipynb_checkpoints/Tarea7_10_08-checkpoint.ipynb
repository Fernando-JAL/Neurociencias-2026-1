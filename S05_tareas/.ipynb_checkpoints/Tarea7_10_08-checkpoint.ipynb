{
 "cells": [
  {
   "cell_type": "markdown",
   "id": "e80e0b55-75c1-4964-b598-577eb646ad56",
   "metadata": {},
   "source": [
    "# Tareaa\n",
    "\n",
    "Sofia Macarena Castillo Badilla\n",
    "\n",
    "- calcular mapa de calor\n",
    "- calcular los cuartiles\n",
    "- seleccionar el umbral al 50% y hacer el mapa de calor (con ese umbral)"
   ]
  },
  {
   "cell_type": "code",
   "execution_count": 7,
   "id": "021805cf-bf51-44de-af2d-d81e65c15189",
   "metadata": {},
   "outputs": [],
   "source": [
    "import networkx as nx\n",
    "import matplotlib.pyplot as plt\n",
    "import pandas as pd\n",
    "import seaborn as sns\n",
    "import numpy as np"
   ]
  },
  {
   "cell_type": "code",
   "execution_count": 2,
   "id": "36077f7b-2199-4b47-890f-488e0767a11c",
   "metadata": {},
   "outputs": [
    {
     "name": "stderr",
     "output_type": "stream",
     "text": [
      "/var/folders/48/5mv2c8bn0mn_vl9c6chb0flm0000gp/T/ipykernel_32792/3376596695.py:15: FutureWarning: Downcasting object dtype arrays on .fillna, .ffill, .bfill is deprecated and will change in a future version. Call result.infer_objects(copy=False) instead. To opt-in to the future behavior, set `pd.set_option('future.no_silent_downcasting', True)`\n",
      "  df.fillna(0.00, inplace = True)\n"
     ]
    }
   ],
   "source": [
    "df = pd.DataFrame(index = [\"A\", \"B\", \"C\", \"D\", \"E\"], columns = [\"A\", \"B\", \"C\", \"D\", \"E\"])\n",
    "\n",
    "df.loc[\"A\", \"A\"] = 0\n",
    "df.loc[\"A\", \"B\"] = 2.1\n",
    "df.loc[\"B\", \"A\"] = 8.6\n",
    "df.loc[\"B\", \"C\"] = 10.2\n",
    "df.loc[\"C\", \"B\"] = 7.3\n",
    "df.loc[\"C\", \"E\"] = 1.1\n",
    "df.loc[\"E\", \"C\"] = 3.56\n",
    "df.loc[\"E\", \"D\"] = 0.8\n",
    "df.loc[\"D\", \"E\"] = 4.2\n",
    "df.loc[\"D\", \"A\"] = 5.6\n",
    "df.loc[\"A\", \"D\"] = 7.5\n",
    "\n",
    "df.fillna(0.00, inplace = True)"
   ]
  },
  {
   "cell_type": "markdown",
   "id": "a93d947c-0277-40e6-aa9d-ce5a22a9f626",
   "metadata": {},
   "source": [
    "## 1. Mapa de calor"
   ]
  },
  {
   "cell_type": "code",
   "execution_count": 3,
   "id": "4191f2b1-2802-4219-b5f4-8687fd4824c8",
   "metadata": {},
   "outputs": [
    {
     "data": {
      "image/png": "[encoded data removed]",
      "text/plain": [
       "<Figure size 640x480 with 2 Axes>"
      ]
     },
     "metadata": {},
     "output_type": "display_data"
    }
   ],
   "source": [
    "ax = sns.heatmap(df.values, \n",
    "                 annot = True, cmap = \"hot\", fmt = \".2f\",\n",
    "                 xticklabels = df.columns, yticklabels = df.columns)\n",
    "plt.show()"
   ]
  },
  {
   "cell_type": "markdown",
   "id": "1df77829-bc2b-43d8-ab9e-fbde4d303cc0",
   "metadata": {},
   "source": [
    "## 2. Cálculo de cuartiles"
   ]
  },
  {
   "cell_type": "code",
   "execution_count": 6,
   "id": "31aa7ab5-4201-4b52-8936-684f47c3afc7",
   "metadata": {},
   "outputs": [
    {
     "data": {
      "text/html": [
       "<div>\n",
       "<style scoped>\n",
       "    .dataframe tbody tr th:only-of-type {\n",
       "        vertical-align: middle;\n",
       "    }\n",
       "\n",
       "    .dataframe tbody tr th {\n",
       "        vertical-align: top;\n",
       "    }\n",
       "\n",
       "    .dataframe thead th {\n",
       "        text-align: right;\n",
       "    }\n",
       "</style>\n",
       "<table border=\"1\" class=\"dataframe\">\n",
       "  <thead>\n",
       "    <tr style=\"text-align: right;\">\n",
       "      <th></th>\n",
       "      <th>A</th>\n",
       "      <th>B</th>\n",
       "      <th>C</th>\n",
       "      <th>D</th>\n",
       "      <th>E</th>\n",
       "    </tr>\n",
       "  </thead>\n",
       "  <tbody>\n",
       "    <tr>\n",
       "      <th>count</th>\n",
       "      <td>5.000000</td>\n",
       "      <td>5.000000</td>\n",
       "      <td>5.000000</td>\n",
       "      <td>5.000000</td>\n",
       "      <td>5.000000</td>\n",
       "    </tr>\n",
       "    <tr>\n",
       "      <th>mean</th>\n",
       "      <td>2.840000</td>\n",
       "      <td>1.880000</td>\n",
       "      <td>2.752000</td>\n",
       "      <td>1.660000</td>\n",
       "      <td>1.060000</td>\n",
       "    </tr>\n",
       "    <tr>\n",
       "      <th>std</th>\n",
       "      <td>4.030881</td>\n",
       "      <td>3.163384</td>\n",
       "      <td>4.439766</td>\n",
       "      <td>3.282986</td>\n",
       "      <td>1.818791</td>\n",
       "    </tr>\n",
       "    <tr>\n",
       "      <th>min</th>\n",
       "      <td>0.000000</td>\n",
       "      <td>0.000000</td>\n",
       "      <td>0.000000</td>\n",
       "      <td>0.000000</td>\n",
       "      <td>0.000000</td>\n",
       "    </tr>\n",
       "    <tr>\n",
       "      <th>25%</th>\n",
       "      <td>0.000000</td>\n",
       "      <td>0.000000</td>\n",
       "      <td>0.000000</td>\n",
       "      <td>0.000000</td>\n",
       "      <td>0.000000</td>\n",
       "    </tr>\n",
       "    <tr>\n",
       "      <th>50%</th>\n",
       "      <td>0.000000</td>\n",
       "      <td>0.000000</td>\n",
       "      <td>0.000000</td>\n",
       "      <td>0.000000</td>\n",
       "      <td>0.000000</td>\n",
       "    </tr>\n",
       "    <tr>\n",
       "      <th>75%</th>\n",
       "      <td>5.600000</td>\n",
       "      <td>2.100000</td>\n",
       "      <td>3.560000</td>\n",
       "      <td>0.800000</td>\n",
       "      <td>1.100000</td>\n",
       "    </tr>\n",
       "    <tr>\n",
       "      <th>max</th>\n",
       "      <td>8.600000</td>\n",
       "      <td>7.300000</td>\n",
       "      <td>10.200000</td>\n",
       "      <td>7.500000</td>\n",
       "      <td>4.200000</td>\n",
       "    </tr>\n",
       "  </tbody>\n",
       "</table>\n",
       "</div>"
      ],
      "text/plain": [
       "              A         B          C         D         E\n",
       "count  5.000000  5.000000   5.000000  5.000000  5.000000\n",
       "mean   2.840000  1.880000   2.752000  1.660000  1.060000\n",
       "std    4.030881  3.163384   4.439766  3.282986  1.818791\n",
       "min    0.000000  0.000000   0.000000  0.000000  0.000000\n",
       "25%    0.000000  0.000000   0.000000  0.000000  0.000000\n",
       "50%    0.000000  0.000000   0.000000  0.000000  0.000000\n",
       "75%    5.600000  2.100000   3.560000  0.800000  1.100000\n",
       "max    8.600000  7.300000  10.200000  7.500000  4.200000"
      ]
     },
     "execution_count": 6,
     "metadata": {},
     "output_type": "execute_result"
    }
   ],
   "source": [
    "df.describe()\n"
   ]
  },
  {
   "cell_type": "markdown",
   "id": "664ace1e-ae28-44b5-b461-5cbb1931ded1",
   "metadata": {},
   "source": [
    "Así obtenemos por columna, si lo queremos en general..."
   ]
  },
  {
   "cell_type": "code",
   "execution_count": 8,
   "id": "3f8daa3f-c8ff-41ac-b17c-7bf994c47a19",
   "metadata": {},
   "outputs": [
    {
     "name": "stdout",
     "output_type": "stream",
     "text": [
      "[0.   0.   3.56]\n"
     ]
    }
   ],
   "source": [
    "valores = df.to_numpy().flatten()\n",
    "cuartiles = np.percentile(valores, [25, 50, 75])\n",
    "print(cuartiles)"
   ]
  },
  {
   "cell_type": "markdown",
   "id": "d57baaf0-207b-4a5c-9d2a-cd7338908da7",
   "metadata": {},
   "source": [
    "## 3. Mapa de calor, umbral al 50%"
   ]
  },
  {
   "cell_type": "code",
   "execution_count": 12,
   "id": "7616d8d3-0562-4ace-9ca3-5612d026e369",
   "metadata": {},
   "outputs": [
    {
     "data": {
      "text/html": [
       "<div>\n",
       "<style scoped>\n",
       "    .dataframe tbody tr th:only-of-type {\n",
       "        vertical-align: middle;\n",
       "    }\n",
       "\n",
       "    .dataframe tbody tr th {\n",
       "        vertical-align: top;\n",
       "    }\n",
       "\n",
       "    .dataframe thead th {\n",
       "        text-align: right;\n",
       "    }\n",
       "</style>\n",
       "<table border=\"1\" class=\"dataframe\">\n",
       "  <thead>\n",
       "    <tr style=\"text-align: right;\">\n",
       "      <th></th>\n",
       "      <th>A</th>\n",
       "      <th>B</th>\n",
       "      <th>C</th>\n",
       "      <th>D</th>\n",
       "      <th>E</th>\n",
       "    </tr>\n",
       "  </thead>\n",
       "  <tbody>\n",
       "    <tr>\n",
       "      <th>A</th>\n",
       "      <td>NaN</td>\n",
       "      <td>2.1</td>\n",
       "      <td>NaN</td>\n",
       "      <td>7.5</td>\n",
       "      <td>NaN</td>\n",
       "    </tr>\n",
       "    <tr>\n",
       "      <th>B</th>\n",
       "      <td>8.6</td>\n",
       "      <td>NaN</td>\n",
       "      <td>10.20</td>\n",
       "      <td>NaN</td>\n",
       "      <td>NaN</td>\n",
       "    </tr>\n",
       "    <tr>\n",
       "      <th>C</th>\n",
       "      <td>NaN</td>\n",
       "      <td>7.3</td>\n",
       "      <td>NaN</td>\n",
       "      <td>NaN</td>\n",
       "      <td>1.1</td>\n",
       "    </tr>\n",
       "    <tr>\n",
       "      <th>D</th>\n",
       "      <td>5.6</td>\n",
       "      <td>NaN</td>\n",
       "      <td>NaN</td>\n",
       "      <td>NaN</td>\n",
       "      <td>4.2</td>\n",
       "    </tr>\n",
       "    <tr>\n",
       "      <th>E</th>\n",
       "      <td>NaN</td>\n",
       "      <td>NaN</td>\n",
       "      <td>3.56</td>\n",
       "      <td>0.8</td>\n",
       "      <td>NaN</td>\n",
       "    </tr>\n",
       "  </tbody>\n",
       "</table>\n",
       "</div>"
      ],
      "text/plain": [
       "     A    B      C    D    E\n",
       "A  NaN  2.1    NaN  7.5  NaN\n",
       "B  8.6  NaN  10.20  NaN  NaN\n",
       "C  NaN  7.3    NaN  NaN  1.1\n",
       "D  5.6  NaN    NaN  NaN  4.2\n",
       "E  NaN  NaN   3.56  0.8  NaN"
      ]
     },
     "execution_count": 12,
     "metadata": {},
     "output_type": "execute_result"
    }
   ],
   "source": [
    "df_filtrado = df.where(df > cuartiles[1]) # cuartiles[1] = 0 (cuartil 50%)\n",
    "df_filtrado"
   ]
  },
  {
   "cell_type": "code",
   "execution_count": 15,
   "id": "33920b05-50e5-4573-a0ec-594616d01f63",
   "metadata": {},
   "outputs": [
    {
     "data": {
      "image/png": "[encoded data removed]",
      "text/plain": [
       "<Figure size 640x480 with 2 Axes>"
      ]
     },
     "metadata": {},
     "output_type": "display_data"
    }
   ],
   "source": [
    "df_filtrado_mapa = sns.heatmap(df_filtrado.values, \n",
    "                 annot = True, cmap = \"magma\", fmt = \".2f\",\n",
    "                 xticklabels = df.columns, yticklabels = df.columns)\n",
    "plt.show()"
   ]
  },
  {
   "cell_type": "code",
   "execution_count": null,
   "id": "7e8786f8-ef9b-42fc-bbd8-de5336d83c24",
   "metadata": {},
   "outputs": [],
   "source": []
  },
  {
   "cell_type": "code",
   "execution_count": null,
   "id": "df7c8413-97a5-4e63-a0e0-139acd47ca2e",
   "metadata": {},
   "outputs": [],
   "source": []
  },
  {
   "cell_type": "code",
   "execution_count": null,
   "id": "3ce7bc84-26f6-4d5e-8bb0-4276be62fd51",
   "metadata": {},
   "outputs": [],
   "source": []
  }
 ],
 "metadata": {
  "kernelspec": {
   "display_name": "Python 3 (ipykernel)",
   "language": "python",
   "name": "python3"
  },
  "language_info": {
   "codemirror_mode": {
    "name": "ipython",
    "version": 3
   },
   "file_extension": ".py",
   "mimetype": "text/x-python",
   "name": "python",
   "nbconvert_exporter": "python",
   "pygments_lexer": "ipython3",
   "version": "3.13.6"
  }
 },
 "nbformat": 4,
 "nbformat_minor": 5
}
