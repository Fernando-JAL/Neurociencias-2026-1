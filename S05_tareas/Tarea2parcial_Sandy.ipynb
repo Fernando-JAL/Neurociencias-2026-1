{
 "cells": [
  {
   "cell_type": "markdown",
   "id": "608b9450-f393-4355-b44e-08ed0aaec57f",
   "metadata": {},
   "source": [
    "# tarea 2"
   ]
  },
  {
   "cell_type": "code",
   "execution_count": 5,
   "id": "7eb388c3-2c1f-4e50-994e-0f5b4ffd812e",
   "metadata": {},
   "outputs": [],
   "source": [
    "import pandas as pd\n",
    "import numpy as np"
   ]
  },
  {
   "cell_type": "code",
   "execution_count": 6,
   "id": "aba43f25-e521-4f9e-8134-15da9a254191",
   "metadata": {},
   "outputs": [],
   "source": [
    "def ex1_concat_same_structure():\n",
    "    \"\"\"Ejercicio 1:\n",
    "    Crea dos DataFrame que compartan la misma estructura de columnas (por ejemplo,\n",
    "    'Nombre' y 'Edad'), con al menos 3 filas cada uno. Concaténalos verticalmente\n",
    "    en un único DataFrame. Retorna el DataFrame resultante.\n",
    "    \"\"\"\n",
    "    pass"
   ]
  },
  {
   "cell_type": "code",
   "execution_count": 106,
   "id": "1cc4dba9-36bf-4921-b088-f637dffd3502",
   "metadata": {},
   "outputs": [],
   "source": [
    "def ex1_concat_same_structure():\n",
    "    data = [['Ana', '23'], ['Monce', '20'], ['Nat','19']]\n",
    "    df1 = pd.DataFrame(data, columns= ['Nombre','Edad'])\n",
    "    df1\n",
    "\n",
    "    data2 = [['Mariana', '19'], ['Valentina', '22'], ['Melisa','23']]\n",
    "    df2 = pd.DataFrame(data2, columns= ['Nombre','Edad'])\n",
    "    df2\n",
    "\n",
    "    df_vertical = pd.concat([df1, df2], ignore_index=True)\n",
    "    return df_vertical"
   ]
  },
  {
   "cell_type": "code",
   "execution_count": 108,
   "id": "a0095c5a-edf1-487d-8ed1-43c333803fd5",
   "metadata": {},
   "outputs": [
    {
     "data": {
      "text/html": [
       "<div>\n",
       "<style scoped>\n",
       "    .dataframe tbody tr th:only-of-type {\n",
       "        vertical-align: middle;\n",
       "    }\n",
       "\n",
       "    .dataframe tbody tr th {\n",
       "        vertical-align: top;\n",
       "    }\n",
       "\n",
       "    .dataframe thead th {\n",
       "        text-align: right;\n",
       "    }\n",
       "</style>\n",
       "<table border=\"1\" class=\"dataframe\">\n",
       "  <thead>\n",
       "    <tr style=\"text-align: right;\">\n",
       "      <th></th>\n",
       "      <th>Nombre</th>\n",
       "      <th>Edad</th>\n",
       "    </tr>\n",
       "  </thead>\n",
       "  <tbody>\n",
       "    <tr>\n",
       "      <th>0</th>\n",
       "      <td>Ana</td>\n",
       "      <td>23</td>\n",
       "    </tr>\n",
       "    <tr>\n",
       "      <th>1</th>\n",
       "      <td>Monce</td>\n",
       "      <td>20</td>\n",
       "    </tr>\n",
       "    <tr>\n",
       "      <th>2</th>\n",
       "      <td>Nat</td>\n",
       "      <td>19</td>\n",
       "    </tr>\n",
       "    <tr>\n",
       "      <th>3</th>\n",
       "      <td>Mariana</td>\n",
       "      <td>19</td>\n",
       "    </tr>\n",
       "    <tr>\n",
       "      <th>4</th>\n",
       "      <td>Valentina</td>\n",
       "      <td>22</td>\n",
       "    </tr>\n",
       "    <tr>\n",
       "      <th>5</th>\n",
       "      <td>Melisa</td>\n",
       "      <td>23</td>\n",
       "    </tr>\n",
       "  </tbody>\n",
       "</table>\n",
       "</div>"
      ],
      "text/plain": [
       "      Nombre Edad\n",
       "0        Ana   23\n",
       "1      Monce   20\n",
       "2        Nat   19\n",
       "3    Mariana   19\n",
       "4  Valentina   22\n",
       "5     Melisa   23"
      ]
     },
     "execution_count": 108,
     "metadata": {},
     "output_type": "execute_result"
    }
   ],
   "source": [
    "ex1_concat_same_structure()"
   ]
  },
  {
   "cell_type": "code",
   "execution_count": null,
   "id": "2922b2cf-5bae-468f-8b36-097ce5feef48",
   "metadata": {},
   "outputs": [],
   "source": [
    "def ex2_concat_with_month_column():\n",
    "    \"\"\"Ejercicio 2:\n",
    "    Tienes un DataFrame con ventas de enero y otro con ventas de febrero (mismas columnas).\n",
    "    Concaténalos en un solo DataFrame y añade una columna que indique el mes original\n",
    "    de cada fila (por ejemplo: 'Enero' o 'Febrero'). Retorna el DataFrame resultante.\n",
    "    \"\"\"\n",
    "    pass\n"
   ]
  },
  {
   "cell_type": "code",
   "execution_count": 431,
   "id": "84f32e1d-85b1-400e-bbf1-5b80a348acbb",
   "metadata": {},
   "outputs": [],
   "source": [
    "def ex2_concat_with_month_column():\n",
    "    data = np.round(np.random.uniform(5000, 20000, 7), 2)\n",
    "    ventas_enero = pd.DataFrame({'Día':range (1,8), 'Venta': data})\n",
    "    ventas_enero\n",
    "\n",
    "    data = np.round(np.random.uniform(5000, 20000, 7), 2)\n",
    "    ventas_feb = pd.DataFrame({'Día':range (1,8), 'Venta': data})\n",
    "    ventas_feb\n",
    "\n",
    "    ventas = pd.concat([ventas_enero, ventas_feb], ignore_index=True)\n",
    "    ventas['Mes'] = ['Enero']*7 + ['Febrero']*7\n",
    "    return ventas"
   ]
  },
  {
   "cell_type": "code",
   "execution_count": 432,
   "id": "2bccfae9-58a3-41cf-8e5d-9cebdecfe0a7",
   "metadata": {},
   "outputs": [
    {
     "data": {
      "text/html": [
       "<div>\n",
       "<style scoped>\n",
       "    .dataframe tbody tr th:only-of-type {\n",
       "        vertical-align: middle;\n",
       "    }\n",
       "\n",
       "    .dataframe tbody tr th {\n",
       "        vertical-align: top;\n",
       "    }\n",
       "\n",
       "    .dataframe thead th {\n",
       "        text-align: right;\n",
       "    }\n",
       "</style>\n",
       "<table border=\"1\" class=\"dataframe\">\n",
       "  <thead>\n",
       "    <tr style=\"text-align: right;\">\n",
       "      <th></th>\n",
       "      <th>Día</th>\n",
       "      <th>Venta</th>\n",
       "      <th>Mes</th>\n",
       "    </tr>\n",
       "  </thead>\n",
       "  <tbody>\n",
       "    <tr>\n",
       "      <th>0</th>\n",
       "      <td>1</td>\n",
       "      <td>19176.51</td>\n",
       "      <td>Enero</td>\n",
       "    </tr>\n",
       "    <tr>\n",
       "      <th>1</th>\n",
       "      <td>2</td>\n",
       "      <td>10837.75</td>\n",
       "      <td>Enero</td>\n",
       "    </tr>\n",
       "    <tr>\n",
       "      <th>2</th>\n",
       "      <td>3</td>\n",
       "      <td>12822.37</td>\n",
       "      <td>Enero</td>\n",
       "    </tr>\n",
       "    <tr>\n",
       "      <th>3</th>\n",
       "      <td>4</td>\n",
       "      <td>5871.44</td>\n",
       "      <td>Enero</td>\n",
       "    </tr>\n",
       "    <tr>\n",
       "      <th>4</th>\n",
       "      <td>5</td>\n",
       "      <td>9791.17</td>\n",
       "      <td>Enero</td>\n",
       "    </tr>\n",
       "    <tr>\n",
       "      <th>5</th>\n",
       "      <td>6</td>\n",
       "      <td>5627.54</td>\n",
       "      <td>Enero</td>\n",
       "    </tr>\n",
       "    <tr>\n",
       "      <th>6</th>\n",
       "      <td>7</td>\n",
       "      <td>9577.13</td>\n",
       "      <td>Enero</td>\n",
       "    </tr>\n",
       "    <tr>\n",
       "      <th>7</th>\n",
       "      <td>1</td>\n",
       "      <td>17512.38</td>\n",
       "      <td>Febrero</td>\n",
       "    </tr>\n",
       "    <tr>\n",
       "      <th>8</th>\n",
       "      <td>2</td>\n",
       "      <td>9130.49</td>\n",
       "      <td>Febrero</td>\n",
       "    </tr>\n",
       "    <tr>\n",
       "      <th>9</th>\n",
       "      <td>3</td>\n",
       "      <td>10371.20</td>\n",
       "      <td>Febrero</td>\n",
       "    </tr>\n",
       "    <tr>\n",
       "      <th>10</th>\n",
       "      <td>4</td>\n",
       "      <td>16208.98</td>\n",
       "      <td>Febrero</td>\n",
       "    </tr>\n",
       "    <tr>\n",
       "      <th>11</th>\n",
       "      <td>5</td>\n",
       "      <td>14461.13</td>\n",
       "      <td>Febrero</td>\n",
       "    </tr>\n",
       "    <tr>\n",
       "      <th>12</th>\n",
       "      <td>6</td>\n",
       "      <td>7329.77</td>\n",
       "      <td>Febrero</td>\n",
       "    </tr>\n",
       "    <tr>\n",
       "      <th>13</th>\n",
       "      <td>7</td>\n",
       "      <td>19388.29</td>\n",
       "      <td>Febrero</td>\n",
       "    </tr>\n",
       "  </tbody>\n",
       "</table>\n",
       "</div>"
      ],
      "text/plain": [
       "    Día     Venta      Mes\n",
       "0     1  19176.51    Enero\n",
       "1     2  10837.75    Enero\n",
       "2     3  12822.37    Enero\n",
       "3     4   5871.44    Enero\n",
       "4     5   9791.17    Enero\n",
       "5     6   5627.54    Enero\n",
       "6     7   9577.13    Enero\n",
       "7     1  17512.38  Febrero\n",
       "8     2   9130.49  Febrero\n",
       "9     3  10371.20  Febrero\n",
       "10    4  16208.98  Febrero\n",
       "11    5  14461.13  Febrero\n",
       "12    6   7329.77  Febrero\n",
       "13    7  19388.29  Febrero"
      ]
     },
     "execution_count": 432,
     "metadata": {},
     "output_type": "execute_result"
    }
   ],
   "source": [
    "ex2_concat_with_month_column()"
   ]
  },
  {
   "cell_type": "code",
   "execution_count": null,
   "id": "f56c1eee-5fb1-4e83-a719-67d7ad08d75d",
   "metadata": {},
   "outputs": [],
   "source": [
    "def ex3_concat_diff_columns_fillna():\n",
    "    \"\"\"Ejercicio 3:\n",
    "    Crea dos DataFrame que no tengan exactamente las mismas columnas (ej.: uno tiene\n",
    "    'Producto' y 'Ventas', el otro 'Producto' y 'Descuento'). Concaténalos y asegura\n",
    "    que los valores faltantes queden rellenados con 0. Retorna el DataFrame resultante.\n",
    "    \"\"\"\n",
    "    pass"
   ]
  },
  {
   "cell_type": "code",
   "execution_count": 116,
   "id": "bc276b89-c7c6-47c8-a377-44364e07ed97",
   "metadata": {},
   "outputs": [],
   "source": [
    "def ex3_concat_diff_columns_fillna():\n",
    "    data = np.random.randint(0, 30, 5)\n",
    "    ventas = pd.DataFrame({'Producto': ['cafe', 'pan', 'chocolate', 'te', 'pastel'] , 'Ventas': data})\n",
    "    ventas\n",
    "\n",
    "    descuento = pd.DataFrame({'Producto': ['cafe', 'pan', 'chocolate', 'te', 'pastel'] , 'Descuento': [10, 25, 10, 15, 25]})\n",
    "\n",
    "    ventascon = pd.concat([ventas, descuento], ignore_index=True)\n",
    "\n",
    "    return ventascon.fillna(value='0')"
   ]
  },
  {
   "cell_type": "code",
   "execution_count": 117,
   "id": "a74606d6-0e2a-4872-9583-57b6673c3e2d",
   "metadata": {},
   "outputs": [
    {
     "data": {
      "text/html": [
       "<div>\n",
       "<style scoped>\n",
       "    .dataframe tbody tr th:only-of-type {\n",
       "        vertical-align: middle;\n",
       "    }\n",
       "\n",
       "    .dataframe tbody tr th {\n",
       "        vertical-align: top;\n",
       "    }\n",
       "\n",
       "    .dataframe thead th {\n",
       "        text-align: right;\n",
       "    }\n",
       "</style>\n",
       "<table border=\"1\" class=\"dataframe\">\n",
       "  <thead>\n",
       "    <tr style=\"text-align: right;\">\n",
       "      <th></th>\n",
       "      <th>Producto</th>\n",
       "      <th>Ventas</th>\n",
       "      <th>Descuento</th>\n",
       "    </tr>\n",
       "  </thead>\n",
       "  <tbody>\n",
       "    <tr>\n",
       "      <th>0</th>\n",
       "      <td>cafe</td>\n",
       "      <td>16.0</td>\n",
       "      <td>0</td>\n",
       "    </tr>\n",
       "    <tr>\n",
       "      <th>1</th>\n",
       "      <td>pan</td>\n",
       "      <td>21.0</td>\n",
       "      <td>0</td>\n",
       "    </tr>\n",
       "    <tr>\n",
       "      <th>2</th>\n",
       "      <td>chocolate</td>\n",
       "      <td>14.0</td>\n",
       "      <td>0</td>\n",
       "    </tr>\n",
       "    <tr>\n",
       "      <th>3</th>\n",
       "      <td>te</td>\n",
       "      <td>20.0</td>\n",
       "      <td>0</td>\n",
       "    </tr>\n",
       "    <tr>\n",
       "      <th>4</th>\n",
       "      <td>pastel</td>\n",
       "      <td>13.0</td>\n",
       "      <td>0</td>\n",
       "    </tr>\n",
       "    <tr>\n",
       "      <th>5</th>\n",
       "      <td>cafe</td>\n",
       "      <td>0</td>\n",
       "      <td>10.0</td>\n",
       "    </tr>\n",
       "    <tr>\n",
       "      <th>6</th>\n",
       "      <td>pan</td>\n",
       "      <td>0</td>\n",
       "      <td>25.0</td>\n",
       "    </tr>\n",
       "    <tr>\n",
       "      <th>7</th>\n",
       "      <td>chocolate</td>\n",
       "      <td>0</td>\n",
       "      <td>10.0</td>\n",
       "    </tr>\n",
       "    <tr>\n",
       "      <th>8</th>\n",
       "      <td>te</td>\n",
       "      <td>0</td>\n",
       "      <td>15.0</td>\n",
       "    </tr>\n",
       "    <tr>\n",
       "      <th>9</th>\n",
       "      <td>pastel</td>\n",
       "      <td>0</td>\n",
       "      <td>25.0</td>\n",
       "    </tr>\n",
       "  </tbody>\n",
       "</table>\n",
       "</div>"
      ],
      "text/plain": [
       "    Producto Ventas Descuento\n",
       "0       cafe   16.0         0\n",
       "1        pan   21.0         0\n",
       "2  chocolate   14.0         0\n",
       "3         te   20.0         0\n",
       "4     pastel   13.0         0\n",
       "5       cafe      0      10.0\n",
       "6        pan      0      25.0\n",
       "7  chocolate      0      10.0\n",
       "8         te      0      15.0\n",
       "9     pastel      0      25.0"
      ]
     },
     "execution_count": 117,
     "metadata": {},
     "output_type": "execute_result"
    }
   ],
   "source": [
    "ex3_concat_diff_columns_fillna()"
   ]
  },
  {
   "cell_type": "code",
   "execution_count": null,
   "id": "93f6b1e6-00f6-49ac-8b60-b9cc903a8930",
   "metadata": {},
   "outputs": [],
   "source": [
    "def ex4_concat_three_groups():\n",
    "    \"\"\"Ejercicio 4:\n",
    "    Genera tres DataFrame pequeños (cada uno con, por ejemplo, 3 filas) que representen\n",
    "    notas de distintos grupos de alumnos. Concaténalos verticalmente en un solo DataFrame\n",
    "    que contenga todas las notas. Retorna el DataFrame resultante.\n",
    "    \"\"\"\n",
    "    pass\n"
   ]
  },
  {
   "cell_type": "code",
   "execution_count": 119,
   "id": "6fe225df-7b50-4026-8fe9-d4371251cf17",
   "metadata": {},
   "outputs": [],
   "source": [
    "def ex4_concat_three_groups():\n",
    "    data = [['Ana', '9'], ['Monce', '9'], ['Xim','8.5']]\n",
    "    df1 = pd.DataFrame(data, columns= ['Nombre','Calificación'])\n",
    "\n",
    "    data2 = [['Rodrigo', '9.8'], ['Javi', '9'], ['Roy','8.9']]\n",
    "    df2 = pd.DataFrame(data2, columns= ['Nombre','Calificación'])\n",
    "\n",
    "    data3 = [['Pao', '8'], ['Pau', '9'], ['Meche','9.1']]\n",
    "    df3 = pd.DataFrame(data3, columns= ['Nombre','Calificación'])\n",
    "\n",
    "    calificaciones= pd.concat([df1, df2, df3], ignore_index=True)\n",
    "    return calificaciones"
   ]
  },
  {
   "cell_type": "code",
   "execution_count": 120,
   "id": "8306bf20-ea8a-4694-bc94-7360b1dc8b4a",
   "metadata": {},
   "outputs": [
    {
     "data": {
      "text/html": [
       "<div>\n",
       "<style scoped>\n",
       "    .dataframe tbody tr th:only-of-type {\n",
       "        vertical-align: middle;\n",
       "    }\n",
       "\n",
       "    .dataframe tbody tr th {\n",
       "        vertical-align: top;\n",
       "    }\n",
       "\n",
       "    .dataframe thead th {\n",
       "        text-align: right;\n",
       "    }\n",
       "</style>\n",
       "<table border=\"1\" class=\"dataframe\">\n",
       "  <thead>\n",
       "    <tr style=\"text-align: right;\">\n",
       "      <th></th>\n",
       "      <th>Nombre</th>\n",
       "      <th>Calificación</th>\n",
       "    </tr>\n",
       "  </thead>\n",
       "  <tbody>\n",
       "    <tr>\n",
       "      <th>0</th>\n",
       "      <td>Ana</td>\n",
       "      <td>9</td>\n",
       "    </tr>\n",
       "    <tr>\n",
       "      <th>1</th>\n",
       "      <td>Monce</td>\n",
       "      <td>9</td>\n",
       "    </tr>\n",
       "    <tr>\n",
       "      <th>2</th>\n",
       "      <td>Xim</td>\n",
       "      <td>8.5</td>\n",
       "    </tr>\n",
       "    <tr>\n",
       "      <th>3</th>\n",
       "      <td>Rodrigo</td>\n",
       "      <td>9.8</td>\n",
       "    </tr>\n",
       "    <tr>\n",
       "      <th>4</th>\n",
       "      <td>Javi</td>\n",
       "      <td>9</td>\n",
       "    </tr>\n",
       "    <tr>\n",
       "      <th>5</th>\n",
       "      <td>Roy</td>\n",
       "      <td>8.9</td>\n",
       "    </tr>\n",
       "    <tr>\n",
       "      <th>6</th>\n",
       "      <td>Pao</td>\n",
       "      <td>8</td>\n",
       "    </tr>\n",
       "    <tr>\n",
       "      <th>7</th>\n",
       "      <td>Pau</td>\n",
       "      <td>9</td>\n",
       "    </tr>\n",
       "    <tr>\n",
       "      <th>8</th>\n",
       "      <td>Meche</td>\n",
       "      <td>9.1</td>\n",
       "    </tr>\n",
       "  </tbody>\n",
       "</table>\n",
       "</div>"
      ],
      "text/plain": [
       "    Nombre Calificación\n",
       "0      Ana            9\n",
       "1    Monce            9\n",
       "2      Xim          8.5\n",
       "3  Rodrigo          9.8\n",
       "4     Javi            9\n",
       "5      Roy          8.9\n",
       "6      Pao            8\n",
       "7      Pau            9\n",
       "8    Meche          9.1"
      ]
     },
     "execution_count": 120,
     "metadata": {},
     "output_type": "execute_result"
    }
   ],
   "source": [
    "ex4_concat_three_groups()"
   ]
  },
  {
   "cell_type": "code",
   "execution_count": null,
   "id": "0874ba51-14b5-43ac-a638-2c937a6c03ae",
   "metadata": {},
   "outputs": [],
   "source": [
    "def ex5_remove_duplicates_preserve_order(lst):\n",
    "    \"\"\"Ejercicio 5:\n",
    "    Dada una lista de enteros (o strings) que puede contener duplicados, devuelve una\n",
    "    nueva lista sin duplicados preservando el orden original. No uses directamente set()\n",
    "    para eliminar duplicados (escribe la lógica que preserve el orden). Retorna la nueva \n",
    "    lista sin duplicados.\n",
    "    \"\"\"\n",
    "    pass"
   ]
  },
  {
   "cell_type": "code",
   "execution_count": 146,
   "id": "fd588f3b-4e45-4117-bb2d-9427c62a5f11",
   "metadata": {},
   "outputs": [],
   "source": [
    "def ex5_remove_duplicates_preserve_order(lst):\n",
    "    resultado = []\n",
    "\n",
    "    for elem in lst:\n",
    "        if elem not in resultado:\n",
    "            resultado.append(elem)\n",
    "    return resultado"
   ]
  },
  {
   "cell_type": "code",
   "execution_count": 149,
   "id": "9ce4e4bb-655f-4d28-8a04-cdb7e56f4f95",
   "metadata": {},
   "outputs": [
    {
     "data": {
      "text/plain": [
       "[8, 5, 3, 1, 9, 0]"
      ]
     },
     "execution_count": 149,
     "metadata": {},
     "output_type": "execute_result"
    }
   ],
   "source": [
    "lst = [8, 5, 3, 5, 1, 9, 8, 0]\n",
    "ex5_remove_duplicates_preserve_order(lst)"
   ]
  },
  {
   "cell_type": "code",
   "execution_count": 65,
   "id": "5d76bb6f-9a65-4c0c-aeed-a45491cc4b98",
   "metadata": {},
   "outputs": [],
   "source": [
    "def ex6_sort_tuples_by_second_element(tuples_list):\n",
    "    \"\"\"Ejercicio 6:\n",
    "    Dada una lista de tuplas, por ejemplo [(\"a\", 3), (\"b\", 1), (\"c\", 2)], ordénala\n",
    "    por el segundo elemento de cada tupla y devuelve la lista ordenada. Usa una función\n",
    "    anónima si lo deseas. Retorna la lista ordenada.\n",
    "    \"\"\"\n",
    "    pass"
   ]
  },
  {
   "cell_type": "code",
   "execution_count": 153,
   "id": "fc11728c-819b-4e40-b956-186a65f006c2",
   "metadata": {},
   "outputs": [],
   "source": [
    "def ex6_sort_tuples_by_second_element(tuples_list):\n",
    "    return sorted(tupla, key=lambda x: x[1])"
   ]
  },
  {
   "cell_type": "code",
   "execution_count": 154,
   "id": "5ebf670c-d5db-4ce2-ad47-4c1cb63b3336",
   "metadata": {},
   "outputs": [
    {
     "data": {
      "text/plain": [
       "[('b', 1), ('c', 2), ('a', 3)]"
      ]
     },
     "execution_count": 154,
     "metadata": {},
     "output_type": "execute_result"
    }
   ],
   "source": [
    "ex6_sort_tuples_by_second_element([(\"a\", 3), (\"b\", 1), (\"c\", 2)])"
   ]
  },
  {
   "cell_type": "code",
   "execution_count": null,
   "id": "288df048-60db-40fd-aeec-fb8500d5aa37",
   "metadata": {},
   "outputs": [],
   "source": [
    "def ex7_first_n_multiples_of_7(n):\n",
    "    \"\"\"Ejercicio 7:\n",
    "    Devuelve una lista con los primeros n múltiplos de 7 (por ejemplo, n=5 -> [7,14,21,28,35]).\n",
    "    Retorna la lista generada.\n",
    "    \"\"\"\n",
    "    pass"
   ]
  },
  {
   "cell_type": "code",
   "execution_count": 91,
   "id": "39ea00b4-8357-4dca-82fa-ec42d29ed2ce",
   "metadata": {},
   "outputs": [],
   "source": [
    "def ex7_first_n_multiples_of_7(n):\n",
    "    multiplo = []\n",
    "    for i in range (1, n + 1):\n",
    "       multiplo.append(7 * i)\n",
    "    return multiplo\n"
   ]
  },
  {
   "cell_type": "code",
   "execution_count": 92,
   "id": "94e0cfcc-a231-494a-bc81-e4acb5c82b7f",
   "metadata": {},
   "outputs": [
    {
     "name": "stdout",
     "output_type": "stream",
     "text": [
      "[7, 14, 21, 28, 35]\n"
     ]
    }
   ],
   "source": [
    "print (ex7_first_n_multiples_of_7(5))"
   ]
  },
  {
   "cell_type": "code",
   "execution_count": null,
   "id": "a5edfb26-5ca0-40ad-bc65-971ca49e60fd",
   "metadata": {},
   "outputs": [],
   "source": [
    "def ex8_filter_palindromes(strings):\n",
    "    \"\"\"Ejercicio 8:\n",
    "    Dada una lista de cadenas, devuelve sólo aquellas que son palíndromos (se leen igual\n",
    "    al derecho y al revés). Retorna una lista con los palíndromos encontrados.\n",
    "    \"\"\"\n",
    "    pass"
   ]
  },
  {
   "cell_type": "code",
   "execution_count": 164,
   "id": "26ab487e-6e16-48e9-b341-84dae15f9c4a",
   "metadata": {},
   "outputs": [],
   "source": [
    "def ex8_filter_palindromes(strings):\n",
    "    palindromo = []\n",
    "    for palabra in strings:\n",
    "       if palabra == palabra[::-1]:\n",
    "           palindromo.append(palabra)\n",
    "    return palindromo"
   ]
  },
  {
   "cell_type": "code",
   "execution_count": 168,
   "id": "77218199-68f3-4b93-b0f2-4070da8c951e",
   "metadata": {},
   "outputs": [
    {
     "data": {
      "text/plain": [
       "['ana', 'somos', 'oso']"
      ]
     },
     "execution_count": 168,
     "metadata": {},
     "output_type": "execute_result"
    }
   ],
   "source": [
    "strings = [\"ana\", \"libro\", \"somos\", \"gato\", \"oso\"]\n",
    "ex8_filter_palindromes(strings)"
   ]
  },
  {
   "cell_type": "code",
   "execution_count": null,
   "id": "dc53c93f-4343-4d86-8e80-dddd41751214",
   "metadata": {},
   "outputs": [],
   "source": [
    "def ex9_set_intersection_and_difference(set_a, set_b):\n",
    "    \"\"\"Ejercicio 9:\n",
    "    Dado dos conjuntos, devuelve su intersección y la diferencia (elementos de A que no\n",
    "    están en B). Retorna una tupla (intersección, diferencia).\n",
    "    \"\"\"\n",
    "    pass"
   ]
  },
  {
   "cell_type": "code",
   "execution_count": 176,
   "id": "48d3afb0-fe70-4c7d-9f0d-908532e75195",
   "metadata": {},
   "outputs": [],
   "source": [
    "def ex9_set_intersection_and_difference(set_a, set_b):\n",
    "    interseccion =  set_a & set_b\n",
    "    diferencia =  set_a - set_b\n",
    "    return (interseccion, diferencia)"
   ]
  },
  {
   "cell_type": "code",
   "execution_count": 179,
   "id": "c664f68e-8e73-4e43-be9b-e51c3fea14a7",
   "metadata": {},
   "outputs": [
    {
     "data": {
      "text/plain": [
       "({5}, {1, 3, 6})"
      ]
     },
     "execution_count": 179,
     "metadata": {},
     "output_type": "execute_result"
    }
   ],
   "source": [
    "set_a = {3, 5, 6, 1}\n",
    "set_b = {5, 8, 9, 0}\n",
    "\n",
    "ex9_set_intersection_and_difference(set_a, set_b)"
   ]
  },
  {
   "cell_type": "code",
   "execution_count": null,
   "id": "39c06f80-0c14-4abf-9f5a-64ee9c16f1bd",
   "metadata": {},
   "outputs": [],
   "source": [
    "def ex10_is_subset(set_a, set_b):\n",
    "    \"\"\"Ejercicio 10:\n",
    "    Verifica si set_a es subconjunto de set_b. Devuelve True o False.\n",
    "    \"\"\"\n",
    "    pass"
   ]
  },
  {
   "cell_type": "code",
   "execution_count": 180,
   "id": "2fa90a1c-cc62-47f3-b9f1-f9c5ab6bba63",
   "metadata": {},
   "outputs": [],
   "source": [
    "def ex10_is_subset(set_a, set_b):\n",
    "    subconjunto = set_a <= set_b\n",
    "    return subconjunto"
   ]
  },
  {
   "cell_type": "code",
   "execution_count": 181,
   "id": "6cae18e9-4bc8-42ec-ab45-3ea9978429da",
   "metadata": {},
   "outputs": [
    {
     "data": {
      "text/plain": [
       "True"
      ]
     },
     "execution_count": 181,
     "metadata": {},
     "output_type": "execute_result"
    }
   ],
   "source": [
    "set_a = {3, 5}\n",
    "set_b = {5, 8, 9, 3}\n",
    "\n",
    "ex10_is_subset(set_a, set_b)"
   ]
  },
  {
   "cell_type": "code",
   "execution_count": null,
   "id": "478dd142-88f4-4436-904f-9d0f616cfa1f",
   "metadata": {},
   "outputs": [],
   "source": [
    "def ex11_count_unique_elements(lst):\n",
    "    \"\"\"Ejercicio 11:\n",
    "    Dada una lista, cuenta cuántos elementos únicos contiene (usa set para obtener el conteo).\n",
    "    Retorna el número de elementos únicos.\n",
    "    \"\"\"\n",
    "    pass"
   ]
  },
  {
   "cell_type": "code",
   "execution_count": 183,
   "id": "89721f9f-37fb-4f45-b403-951551874589",
   "metadata": {},
   "outputs": [],
   "source": [
    "def ex11_count_unique_elements(lst):\n",
    "    return len(set(lista))"
   ]
  },
  {
   "cell_type": "code",
   "execution_count": 185,
   "id": "f38344f1-b7e5-453c-abc0-61854930b854",
   "metadata": {},
   "outputs": [
    {
     "data": {
      "text/plain": [
       "5"
      ]
     },
     "execution_count": 185,
     "metadata": {},
     "output_type": "execute_result"
    }
   ],
   "source": [
    "lista = [1, 2, 3, 1, 1, 4, 8]\n",
    "ex11_count_unique_elements(lst)"
   ]
  },
  {
   "cell_type": "code",
   "execution_count": null,
   "id": "25ab6a7a-b9db-450c-8ae1-ad78bf1948eb",
   "metadata": {},
   "outputs": [],
   "source": [
    "def ex12_unique_words_from_phrases(phrases):\n",
    "    \"\"\"Ejercicio 12:\n",
    "    Dada una lista de frases (strings), extrae y devuelve el conjunto de todas las palabras\n",
    "    únicas que aparecen en todas las frases. Retorna un conjunto con las palabras únicas.\n",
    "    \"\"\"\n",
    "    pass"
   ]
  },
  {
   "cell_type": "code",
   "execution_count": 207,
   "id": "4206b4ce-7645-4238-b0a4-88c2386f443d",
   "metadata": {},
   "outputs": [],
   "source": [
    "def ex12_unique_words_from_phrases(phrases):\n",
    "    palabrasunicas = set()\n",
    "\n",
    "    for frase in phrases: \n",
    "        palabrasunicas.update(frase.split())\n",
    "    \n",
    "    return palabrasunicas"
   ]
  },
  {
   "cell_type": "code",
   "execution_count": 208,
   "id": "e8e20449-474f-4729-8c47-e3d9ed2b79b3",
   "metadata": {},
   "outputs": [
    {
     "data": {
      "text/plain": [
       "{'avena', 'chispas', 'de', 'galletas', 'panque', 'y', 'zanahoria'}"
      ]
     },
     "execution_count": 208,
     "metadata": {},
     "output_type": "execute_result"
    }
   ],
   "source": [
    "phrases = [\"galletas de avena y zanahoria\",\n",
    "    \"galletas de chispas\",\n",
    "    \"panque de zanahoria\"]\n",
    "\n",
    "ex12_unique_words_from_phrases(phrases)"
   ]
  },
  {
   "cell_type": "code",
   "execution_count": null,
   "id": "e28639b4-56d2-48b9-b1fa-3afe33baf66c",
   "metadata": {},
   "outputs": [],
   "source": [
    "def ex13_oldest_person(tuple_list):\n",
    "    \"\"\"Ejercicio 13:\n",
    "    Recibe una lista de tuplas (nombre, edad). Devuelve la tupla de la persona con mayor edad.\n",
    "    \"\"\"\n",
    "    pass"
   ]
  },
  {
   "cell_type": "code",
   "execution_count": 209,
   "id": "afcc6a48-4475-4b42-9fb8-3433cff796ba",
   "metadata": {},
   "outputs": [],
   "source": [
    "def ex13_oldest_person(tuple_list):\n",
    "    return max(personas, key=lambda x: x[1])"
   ]
  },
  {
   "cell_type": "code",
   "execution_count": 211,
   "id": "7198bf45-4a48-4ff4-9e02-ff3caf7d6be6",
   "metadata": {},
   "outputs": [
    {
     "data": {
      "text/plain": [
       "('Ana', 23)"
      ]
     },
     "execution_count": 211,
     "metadata": {},
     "output_type": "execute_result"
    }
   ],
   "source": [
    "personas = [(\"Ana\", 23), (\"Monce\", 20), (\"Nat\", 19)]\n",
    "ex13_oldest_person(personas)"
   ]
  },
  {
   "cell_type": "code",
   "execution_count": null,
   "id": "893bc78f-d978-4d18-83a2-60a962af27be",
   "metadata": {},
   "outputs": [],
   "source": [
    "def ex14_convert_list_of_lists_to_tuples(list_of_lists):\n",
    "    \"\"\"Ejercicio 14:\n",
    "    Convierte una lista de listas en una lista de tuplas. Retorna la nueva lista de tuplas.\n",
    "    \"\"\"\n",
    "    pass"
   ]
  },
  {
   "cell_type": "code",
   "execution_count": 213,
   "id": "51156d8a-0fbc-495c-b8f3-1c39dbd1e152",
   "metadata": {},
   "outputs": [],
   "source": [
    "def ex14_convert_list_of_lists_to_tuples(list_of_lists):\n",
    "    listatupla = []\n",
    "    for sublista in list_of_lists:\n",
    "        listatupla.append(tuple(sublista))  \n",
    "    return listatupla"
   ]
  },
  {
   "cell_type": "code",
   "execution_count": 214,
   "id": "1569c893-8863-4506-881e-5c5552ef04e2",
   "metadata": {},
   "outputs": [
    {
     "data": {
      "text/plain": [
       "[(1, 2), (3, 4), (5, 6)]"
      ]
     },
     "execution_count": 214,
     "metadata": {},
     "output_type": "execute_result"
    }
   ],
   "source": [
    "list_of_lists = [[1, 2], [3, 4], [5, 6]]\n",
    "\n",
    "ex14_convert_list_of_lists_to_tuples(list_of_lists)"
   ]
  },
  {
   "cell_type": "code",
   "execution_count": null,
   "id": "7eaf188b-8d79-4a4b-acd4-78a763437e00",
   "metadata": {},
   "outputs": [],
   "source": [
    "def ex15_sum_of_tuple_abc(t):\n",
    "    \"\"\"Ejercicio 15:\n",
    "    Recibe una tupla de tres números (a, b, c). Desempaquétala y devuelve la suma a+b+c. \n",
    "    Retorna un número entero o flotante.\n",
    "    \"\"\"\n",
    "    pass"
   ]
  },
  {
   "cell_type": "code",
   "execution_count": 223,
   "id": "2b2f05ab-6e0f-4f30-96a0-9ce6ad86031a",
   "metadata": {},
   "outputs": [],
   "source": [
    "def ex15_sum_of_tuple_abc(t):\n",
    "    a, b, c  = t\n",
    "    return a + b + c"
   ]
  },
  {
   "cell_type": "code",
   "execution_count": 224,
   "id": "6cd2d15c-fdab-4d4c-95ae-2f64e6807407",
   "metadata": {},
   "outputs": [
    {
     "data": {
      "text/plain": [
       "14"
      ]
     },
     "execution_count": 224,
     "metadata": {},
     "output_type": "execute_result"
    }
   ],
   "source": [
    "t = (2, 5, 7)\n",
    "ex15_sum_of_tuple_abc(t)"
   ]
  },
  {
   "cell_type": "code",
   "execution_count": null,
   "id": "ae795509-84ad-4364-b4d3-5e4c1f0e7bca",
   "metadata": {},
   "outputs": [],
   "source": [
    "def ex16_sort_product_price(prod_price_list):\n",
    "    \"\"\"Ejercicio 16:\n",
    "    Dada una lista de tuplas (producto, precio), ordénala por precio de menor a mayor.\n",
    "    Retorna la lista ordenada.\n",
    "    \"\"\"\n",
    "    pass"
   ]
  },
  {
   "cell_type": "code",
   "execution_count": 227,
   "id": "a147e0a9-e258-4435-8f9c-f6b705cbaa47",
   "metadata": {},
   "outputs": [],
   "source": [
    "def ex16_sort_product_price(prod_price_list):\n",
    "    return sorted(prod_price_list, key=lambda x: x[1])"
   ]
  },
  {
   "cell_type": "code",
   "execution_count": 228,
   "id": "6f7d8b52-01b5-4d4f-8a3a-8db73c6e277c",
   "metadata": {},
   "outputs": [
    {
     "data": {
      "text/plain": [
       "[('pan', 18), ('cafe', 25), ('chocolate', 30)]"
      ]
     },
     "execution_count": 228,
     "metadata": {},
     "output_type": "execute_result"
    }
   ],
   "source": [
    "prod_price_list = [('cafe', 25), ('pan', 18), ('chocolate', 30)]\n",
    "ex16_sort_product_price(prod_price_list)"
   ]
  },
  {
   "cell_type": "code",
   "execution_count": null,
   "id": "c7bbd195-a325-40ea-a385-f6e2ca10e93d",
   "metadata": {},
   "outputs": [],
   "source": [
    "def ex17_char_frequency(s):\n",
    "    \"\"\"Ejercicio 17:\n",
    "    Cuenta la frecuencia de cada carácter en una cadena usando un diccionario.\n",
    "    Retorna un diccionario {carácter: frecuencia}.\n",
    "    \"\"\"\n",
    "    pass"
   ]
  },
  {
   "cell_type": "code",
   "execution_count": 229,
   "id": "8fddfc70-effc-4a7b-b7f0-7e30ecddd174",
   "metadata": {},
   "outputs": [],
   "source": [
    "def ex17_char_frequency(s):\n",
    "    frecuencia= {}\n",
    "\n",
    "    for c in s:\n",
    "        if c in frecuencia:\n",
    "            frecuencia[c] += 1\n",
    "        else:\n",
    "            frecuencia[c] = 1\n",
    "    return frecuencia\n",
    "    "
   ]
  },
  {
   "cell_type": "code",
   "execution_count": 230,
   "id": "6ef05409-f669-49e3-8d1d-82a669879a5b",
   "metadata": {},
   "outputs": [
    {
     "data": {
      "text/plain": [
       "{'h': 1, 'a': 1, 'l': 2, 'o': 1, 'w': 1, 'e': 2, 'n': 1}"
      ]
     },
     "execution_count": 230,
     "metadata": {},
     "output_type": "execute_result"
    }
   ],
   "source": [
    "s = \"halloween\"\n",
    "ex17_char_frequency(s)"
   ]
  },
  {
   "cell_type": "code",
   "execution_count": null,
   "id": "f6d345ba-c491-4194-bb86-5ab01d34899d",
   "metadata": {},
   "outputs": [],
   "source": [
    "def ex18_best_student(grades_dict):\n",
    "    \"\"\"Ejercicio 18:\n",
    "    Dado un diccionario {alumno: calificación}, devuelve al mejor estudiante.\n",
    "    Retorna una tupla (nombre, calificación).\n",
    "    \"\"\"\n",
    "    pass"
   ]
  },
  {
   "cell_type": "code",
   "execution_count": 235,
   "id": "60e65cba-6396-4a55-bbdc-04fd978aa684",
   "metadata": {},
   "outputs": [],
   "source": [
    "def ex18_best_student(grades_dict):\n",
    "    return max(grades_dict.items(), key=lambda x: x[1])"
   ]
  },
  {
   "cell_type": "code",
   "execution_count": 236,
   "id": "18d7ae30-ead0-4ebb-b9ee-4df07bb2834b",
   "metadata": {},
   "outputs": [
    {
     "data": {
      "text/plain": [
       "('Rodrigo', 9.8)"
      ]
     },
     "execution_count": 236,
     "metadata": {},
     "output_type": "execute_result"
    }
   ],
   "source": [
    "grades_dict = {'Rodrigo': 9.8, 'Javi': 9, 'Roy':8.9}\n",
    "ex18_best_student(grades_dict)"
   ]
  },
  {
   "cell_type": "code",
   "execution_count": null,
   "id": "79e9e2a0-a2df-46b7-9eaf-bfbcb1f14496",
   "metadata": {},
   "outputs": [],
   "source": [
    "def ex19_invert_dictionary(d):\n",
    "    \"\"\"Ejercicio 19:\n",
    "    Invierte un diccionario, intercambiando claves y valores.\n",
    "    Retorna el diccionario invertido.\n",
    "    \"\"\"\n",
    "    pass"
   ]
  },
  {
   "cell_type": "code",
   "execution_count": 237,
   "id": "a638936e-cd37-4e09-87db-6c6570735bf0",
   "metadata": {},
   "outputs": [],
   "source": [
    "def ex19_invert_dictionary(d):\n",
    "    dinvertido = {}\n",
    "    for clave, valor in d.items():\n",
    "        dinvertido[valor] = clave\n",
    "    return dinvertido"
   ]
  },
  {
   "cell_type": "code",
   "execution_count": 239,
   "id": "a819fc8f-f983-4fdd-9e0e-d53d596e870f",
   "metadata": {},
   "outputs": [
    {
     "data": {
      "text/plain": [
       "{9.8: 'Rodrigo', 9: 'Javi', 8.9: 'Roy'}"
      ]
     },
     "execution_count": 239,
     "metadata": {},
     "output_type": "execute_result"
    }
   ],
   "source": [
    "d = {'Rodrigo': 9.8, 'Javi': 9, 'Roy':8.9}\n",
    "ex19_invert_dictionary(d)"
   ]
  },
  {
   "cell_type": "code",
   "execution_count": null,
   "id": "07606e01-7bae-4604-ae76-92c49304ba12",
   "metadata": {},
   "outputs": [],
   "source": [
    "def ex20_merge_dicts_sum_values(d1, d2):\n",
    "    \"\"\"Ejercicio 20:\n",
    "    Fusiona dos diccionarios sumando los valores de las claves que se repitan. \n",
    "    Devuelve el diccionario resultante.\n",
    "    \"\"\"\n",
    "    pass"
   ]
  },
  {
   "cell_type": "code",
   "execution_count": 249,
   "id": "6c472831-48ec-4b60-babd-a3bc531cde3e",
   "metadata": {},
   "outputs": [],
   "source": [
    "def ex20_merge_dicts_sum_values(d1, d2):\n",
    "    fusion = d1.copy()\n",
    "    for clave, valor in d2.items():\n",
    "        if clave in fusion:\n",
    "            fusion[clave] += valor\n",
    "        else:\n",
    "            fusion[clave] = valor\n",
    "    return fusion"
   ]
  },
  {
   "cell_type": "code",
   "execution_count": 250,
   "id": "e35a2ea5-034f-4241-9133-a3c4a4bef64f",
   "metadata": {},
   "outputs": [
    {
     "data": {
      "text/plain": [
       "{'a': 2, 'b': 7, 'c': 3, 'd': 5}"
      ]
     },
     "execution_count": 250,
     "metadata": {},
     "output_type": "execute_result"
    }
   ],
   "source": [
    "d1 = {\"a\": 2, \"b\": 3, \"c\": 1}\n",
    "d2 = {\"b\": 4, \"c\": 2, \"d\": 5}\n",
    "\n",
    "ex20_merge_dicts_sum_values(d1, d2)"
   ]
  },
  {
   "cell_type": "code",
   "execution_count": null,
   "id": "2a1edb10-3e2b-4a81-a7bd-d28947d024ec",
   "metadata": {},
   "outputs": [],
   "source": [
    "def ex21_numpy_array_set_fifth():\n",
    "    \"\"\"Ejercicio 21:\n",
    "    Crea un arreglo de NumPy de 10 ceros y cambia el quinto elemento (índice 4) a 1.\n",
    "    Retorna el array resultante.\n",
    "    \"\"\"\n",
    "    pass"
   ]
  },
  {
   "cell_type": "code",
   "execution_count": 258,
   "id": "ee667bde-fe96-44e7-9f6d-19c9bcd23086",
   "metadata": {},
   "outputs": [],
   "source": [
    "def ex21_numpy_array_set_fifth():\n",
    "    ceros = np.zeros(10)\n",
    "    ceros [4] = 1\n",
    "    return ceros"
   ]
  },
  {
   "cell_type": "code",
   "execution_count": 259,
   "id": "330f21ad-5ce7-44c8-b6c6-62949c0360bc",
   "metadata": {},
   "outputs": [
    {
     "data": {
      "text/plain": [
       "array([0., 0., 0., 0., 1., 0., 0., 0., 0., 0.])"
      ]
     },
     "execution_count": 259,
     "metadata": {},
     "output_type": "execute_result"
    }
   ],
   "source": [
    "ex21_numpy_array_set_fifth()"
   ]
  },
  {
   "cell_type": "code",
   "execution_count": null,
   "id": "d50545e3-b1e0-426b-824a-145e47090f36",
   "metadata": {},
   "outputs": [],
   "source": [
    "def ex22_numpy_matrix_3x3():\n",
    "    \"\"\"Ejercicio 22:\n",
    "    Genera una matriz 3x3 con los valores del 0 al 8. \n",
    "    Retorna la matriz como array de NumPy.\n",
    "    \"\"\"\n",
    "    pass"
   ]
  },
  {
   "cell_type": "code",
   "execution_count": 261,
   "id": "4c8dbc69-df51-4f02-b2be-aa258d477d0e",
   "metadata": {},
   "outputs": [],
   "source": [
    "def ex22_numpy_matrix_3x3():\n",
    "    matriz = np.array ([[0,5,8],\n",
    "                    [3,4,5],\n",
    "                    [1,8,9]])\n",
    "    return matriz"
   ]
  },
  {
   "cell_type": "code",
   "execution_count": 262,
   "id": "1258bd89-1b69-4ef0-b3b8-8042d2a8f556",
   "metadata": {},
   "outputs": [
    {
     "data": {
      "text/plain": [
       "array([[0, 5, 8],\n",
       "       [3, 4, 5],\n",
       "       [1, 8, 9]])"
      ]
     },
     "execution_count": 262,
     "metadata": {},
     "output_type": "execute_result"
    }
   ],
   "source": [
    "ex22_numpy_matrix_3x3()"
   ]
  },
  {
   "cell_type": "code",
   "execution_count": null,
   "id": "c3b0c291-1a6c-48a8-b4bb-d1d3b0fc7785",
   "metadata": {},
   "outputs": [],
   "source": [
    "def ex23_numpy_statistics():\n",
    "    \"\"\"Ejercicio 23:\n",
    "    Genera un array aleatorio de 20 enteros y calcula la media, mediana y desviación estándar.\n",
    "    Retorna una tupla (media, mediana, desviación estándar).\n",
    "    \"\"\"\n",
    "    pass"
   ]
  },
  {
   "cell_type": "code",
   "execution_count": 273,
   "id": "03290359-19dd-447c-aa7d-500d72da558a",
   "metadata": {},
   "outputs": [],
   "source": [
    "def ex23_numpy_statistics():\n",
    "    aleat = np.random.randint(0, 38, size =20)\n",
    "\n",
    "    media= np.mean(aleat)\n",
    "    mediana = np.median(aleat)\n",
    "    desviacion = round(np.std(aleat),2)\n",
    "\n",
    "    return print(f\"(Media: {media}, Mediana: {mediana}, Desviación estándar: {desviacion})\")"
   ]
  },
  {
   "cell_type": "code",
   "execution_count": 274,
   "id": "107aacda-1f50-4b61-8850-a65c494aad4e",
   "metadata": {},
   "outputs": [
    {
     "name": "stdout",
     "output_type": "stream",
     "text": [
      "(Media: 23.3, Mediana: 23.0, Desviación estándar: 8.4)\n"
     ]
    }
   ],
   "source": [
    "ex23_numpy_statistics()"
   ]
  },
  {
   "cell_type": "code",
   "execution_count": null,
   "id": "b1e3aa9f-40b1-48a9-a4af-34f4786b8a2b",
   "metadata": {},
   "outputs": [],
   "source": [
    "def ex24_numpy_clip_values(arr):\n",
    "    \"\"\"Ejercicio 24:\n",
    "    Dado un array (o lista) de números, reemplaza todos los valores mayores que 10 por 10\n",
    "    (es decir, limita/\"clip\" los valores máximos).\n",
    "    Retorna el array modificado.\n",
    "    \"\"\"\n",
    "    pass"
   ]
  },
  {
   "cell_type": "code",
   "execution_count": 278,
   "id": "221064c5-1293-4af8-a1b6-e735a31b2a37",
   "metadata": {},
   "outputs": [],
   "source": [
    "def ex24_numpy_clip_values(arr):\n",
    "\n",
    "    for n in range(len(arr)):\n",
    "        if arr[n] > 10:\n",
    "            arr[n] = 10\n",
    "    return arr\n",
    "    "
   ]
  },
  {
   "cell_type": "code",
   "execution_count": 280,
   "id": "6468258c-eaea-45ba-963b-ac48b52db0ae",
   "metadata": {},
   "outputs": [
    {
     "data": {
      "text/plain": [
       "array([ 9,  5, 10, 10,  1,  6,  7,  0,  0, 10,  0,  3,  9, 10,  0],\n",
       "      dtype=int32)"
      ]
     },
     "execution_count": 280,
     "metadata": {},
     "output_type": "execute_result"
    }
   ],
   "source": [
    "arr = np.random.randint(0, 15, size =15)\n",
    "ex24_numpy_clip_values(arr)"
   ]
  },
  {
   "cell_type": "code",
   "execution_count": null,
   "id": "0fb45f98-6698-4054-8232-92bd13ded1ca",
   "metadata": {},
   "outputs": [],
   "source": [
    "def ex25_filter_rows_age_over_30():\n",
    "    \"\"\"Ejercicio 25:\n",
    "    Crea un DataFrame con columnas 'Nombre', 'Edad' y 'Ciudad'.\n",
    "    Filtra y retorna solo las filas con `Edad` > 30.\n",
    "    \"\"\"\n",
    "    pass"
   ]
  },
  {
   "cell_type": "code",
   "execution_count": 293,
   "id": "e645db16-91a8-4cbd-bcf3-2eb75cf8dc38",
   "metadata": {},
   "outputs": [],
   "source": [
    "def ex25_filter_rows_age_over_30():\n",
    "    data = [['Ana', '33', 'Guanajuato'], \n",
    "            ['Monce', '19', 'Cuernavaca'], \n",
    "            ['Xim','31','Toluca']]\n",
    "    \n",
    "    df1 = pd.DataFrame(data, columns= ['Nombre','Edad','Ciudad'])\n",
    "    df1['Edad'] = df1['Edad'].astype(int)\n",
    "\n",
    "    df_f = df1 [df1 ['Edad'] > 30]\n",
    "    return df_f"
   ]
  },
  {
   "cell_type": "code",
   "execution_count": 294,
   "id": "684ec73a-1160-431f-b0c7-c36ad646b70c",
   "metadata": {},
   "outputs": [
    {
     "data": {
      "text/html": [
       "<div>\n",
       "<style scoped>\n",
       "    .dataframe tbody tr th:only-of-type {\n",
       "        vertical-align: middle;\n",
       "    }\n",
       "\n",
       "    .dataframe tbody tr th {\n",
       "        vertical-align: top;\n",
       "    }\n",
       "\n",
       "    .dataframe thead th {\n",
       "        text-align: right;\n",
       "    }\n",
       "</style>\n",
       "<table border=\"1\" class=\"dataframe\">\n",
       "  <thead>\n",
       "    <tr style=\"text-align: right;\">\n",
       "      <th></th>\n",
       "      <th>Nombre</th>\n",
       "      <th>Edad</th>\n",
       "      <th>Ciudad</th>\n",
       "    </tr>\n",
       "  </thead>\n",
       "  <tbody>\n",
       "    <tr>\n",
       "      <th>0</th>\n",
       "      <td>Ana</td>\n",
       "      <td>33</td>\n",
       "      <td>Guanajuato</td>\n",
       "    </tr>\n",
       "    <tr>\n",
       "      <th>2</th>\n",
       "      <td>Xim</td>\n",
       "      <td>31</td>\n",
       "      <td>Toluca</td>\n",
       "    </tr>\n",
       "  </tbody>\n",
       "</table>\n",
       "</div>"
      ],
      "text/plain": [
       "  Nombre  Edad      Ciudad\n",
       "0    Ana    33  Guanajuato\n",
       "2    Xim    31      Toluca"
      ]
     },
     "execution_count": 294,
     "metadata": {},
     "output_type": "execute_result"
    }
   ],
   "source": [
    "ex25_filter_rows_age_over_30()"
   ]
  },
  {
   "cell_type": "code",
   "execution_count": null,
   "id": "d7ea9950-14ac-421a-9a6b-9e05cdbb74e7",
   "metadata": {},
   "outputs": [],
   "source": [
    "def ex26_load_dict_into_dataframe_and_sort():\n",
    "    \"\"\"Ejercicio 26:\n",
    "    Carga un diccionario en un DataFrame (por ejemplo {'Nombre': [...], 'Puntaje': [...]})\n",
    "    y ordénalo por la columna de puntaje de mayor a menor.\n",
    "    Retorna el DataFrame ordenado.\n",
    "    \"\"\"\n",
    "    pass"
   ]
  },
  {
   "cell_type": "code",
   "execution_count": 315,
   "id": "515d4560-61e6-45e9-a6d5-8bceb2caaf7b",
   "metadata": {},
   "outputs": [],
   "source": [
    "def ex26_load_dict_into_dataframe_and_sort():\n",
    "    data = {'Nombre': ['Ana', 'Arely', 'Angeles', 'Alan'],\n",
    "        'Puntaje': [85, 92, 78, 90]}\n",
    "    \n",
    "    df = pd.DataFrame(data)\n",
    "\n",
    "    df_ordenado = df.sort_values(by='Puntaje', ascending=False)\n",
    "    \n",
    "    return df_ordenado"
   ]
  },
  {
   "cell_type": "code",
   "execution_count": 316,
   "id": "07c05c1e-890c-4b02-b305-3ed3c62550fc",
   "metadata": {},
   "outputs": [
    {
     "data": {
      "text/html": [
       "<div>\n",
       "<style scoped>\n",
       "    .dataframe tbody tr th:only-of-type {\n",
       "        vertical-align: middle;\n",
       "    }\n",
       "\n",
       "    .dataframe tbody tr th {\n",
       "        vertical-align: top;\n",
       "    }\n",
       "\n",
       "    .dataframe thead th {\n",
       "        text-align: right;\n",
       "    }\n",
       "</style>\n",
       "<table border=\"1\" class=\"dataframe\">\n",
       "  <thead>\n",
       "    <tr style=\"text-align: right;\">\n",
       "      <th></th>\n",
       "      <th>Nombre</th>\n",
       "      <th>Puntaje</th>\n",
       "    </tr>\n",
       "  </thead>\n",
       "  <tbody>\n",
       "    <tr>\n",
       "      <th>1</th>\n",
       "      <td>Arely</td>\n",
       "      <td>92</td>\n",
       "    </tr>\n",
       "    <tr>\n",
       "      <th>3</th>\n",
       "      <td>Alan</td>\n",
       "      <td>90</td>\n",
       "    </tr>\n",
       "    <tr>\n",
       "      <th>0</th>\n",
       "      <td>Ana</td>\n",
       "      <td>85</td>\n",
       "    </tr>\n",
       "    <tr>\n",
       "      <th>2</th>\n",
       "      <td>Angeles</td>\n",
       "      <td>78</td>\n",
       "    </tr>\n",
       "  </tbody>\n",
       "</table>\n",
       "</div>"
      ],
      "text/plain": [
       "    Nombre  Puntaje\n",
       "1    Arely       92\n",
       "3     Alan       90\n",
       "0      Ana       85\n",
       "2  Angeles       78"
      ]
     },
     "execution_count": 316,
     "metadata": {},
     "output_type": "execute_result"
    }
   ],
   "source": [
    "ex26_load_dict_into_dataframe_and_sort()"
   ]
  },
  {
   "cell_type": "code",
   "execution_count": null,
   "id": "202694b4-57f9-4466-bef3-108d909dce6d",
   "metadata": {},
   "outputs": [],
   "source": [
    "def ex27_groupby_mean_value():\n",
    "    \"\"\"Ejercicio 27:\n",
    "    Dado un DataFrame con columnas 'Grupo' y 'Valor', calcula el promedio de 'Valor'\n",
    "    por cada 'Grupo' usando groupby. \n",
    "    Retorna el DataFrame agrupado con promedios.\n",
    "    \"\"\"\n",
    "    pass"
   ]
  },
  {
   "cell_type": "code",
   "execution_count": 356,
   "id": "6ad8fd76-7d01-4bad-8b01-a55e554f1c09",
   "metadata": {},
   "outputs": [],
   "source": [
    "def ex27_groupby_mean_value():\n",
    "    data = {'Grupo': ['A', 'B', 'A', 'B', 'D', 'C', 'C', 'D'],\n",
    "            'Valor': [85, 92, 78, 90, 99, 87, 91, 89]}\n",
    "    \n",
    "    df = pd.DataFrame(data)\n",
    "\n",
    "    promedios = df.groupby('Grupo')['Valor'].mean()\n",
    "\n",
    "    df ['promedios'] = promedios\n",
    "    return df\n"
   ]
  },
  {
   "cell_type": "code",
   "execution_count": 357,
   "id": "ef624869-e8ba-4026-bed5-ff0f93ef4cee",
   "metadata": {},
   "outputs": [
    {
     "data": {
      "text/html": [
       "<div>\n",
       "<style scoped>\n",
       "    .dataframe tbody tr th:only-of-type {\n",
       "        vertical-align: middle;\n",
       "    }\n",
       "\n",
       "    .dataframe tbody tr th {\n",
       "        vertical-align: top;\n",
       "    }\n",
       "\n",
       "    .dataframe thead th {\n",
       "        text-align: right;\n",
       "    }\n",
       "</style>\n",
       "<table border=\"1\" class=\"dataframe\">\n",
       "  <thead>\n",
       "    <tr style=\"text-align: right;\">\n",
       "      <th></th>\n",
       "      <th>Grupo</th>\n",
       "      <th>Valor</th>\n",
       "      <th>promedios</th>\n",
       "    </tr>\n",
       "  </thead>\n",
       "  <tbody>\n",
       "    <tr>\n",
       "      <th>0</th>\n",
       "      <td>A</td>\n",
       "      <td>85</td>\n",
       "      <td>NaN</td>\n",
       "    </tr>\n",
       "    <tr>\n",
       "      <th>1</th>\n",
       "      <td>B</td>\n",
       "      <td>92</td>\n",
       "      <td>NaN</td>\n",
       "    </tr>\n",
       "    <tr>\n",
       "      <th>2</th>\n",
       "      <td>A</td>\n",
       "      <td>78</td>\n",
       "      <td>NaN</td>\n",
       "    </tr>\n",
       "    <tr>\n",
       "      <th>3</th>\n",
       "      <td>B</td>\n",
       "      <td>90</td>\n",
       "      <td>NaN</td>\n",
       "    </tr>\n",
       "    <tr>\n",
       "      <th>4</th>\n",
       "      <td>D</td>\n",
       "      <td>99</td>\n",
       "      <td>NaN</td>\n",
       "    </tr>\n",
       "    <tr>\n",
       "      <th>5</th>\n",
       "      <td>C</td>\n",
       "      <td>87</td>\n",
       "      <td>NaN</td>\n",
       "    </tr>\n",
       "    <tr>\n",
       "      <th>6</th>\n",
       "      <td>C</td>\n",
       "      <td>91</td>\n",
       "      <td>NaN</td>\n",
       "    </tr>\n",
       "    <tr>\n",
       "      <th>7</th>\n",
       "      <td>D</td>\n",
       "      <td>89</td>\n",
       "      <td>NaN</td>\n",
       "    </tr>\n",
       "  </tbody>\n",
       "</table>\n",
       "</div>"
      ],
      "text/plain": [
       "  Grupo  Valor  promedios\n",
       "0     A     85        NaN\n",
       "1     B     92        NaN\n",
       "2     A     78        NaN\n",
       "3     B     90        NaN\n",
       "4     D     99        NaN\n",
       "5     C     87        NaN\n",
       "6     C     91        NaN\n",
       "7     D     89        NaN"
      ]
     },
     "execution_count": 357,
     "metadata": {},
     "output_type": "execute_result"
    }
   ],
   "source": [
    "ex27_groupby_mean_value()"
   ]
  },
  {
   "cell_type": "code",
   "execution_count": null,
   "id": "3b0f90c8-2fcd-4c7d-ac4c-b9cfecc698c7",
   "metadata": {},
   "outputs": [],
   "source": [
    "def ex28_most_sold_product_from_sales_df():\n",
    "    \"\"\"Ejercicio 28:\n",
    "    Dado un DataFrame de ventas con columnas 'Producto' y 'Cantidad', determina cuál\n",
    "    es el producto con la mayor suma total de 'Cantidad' (es decir, el más vendido).\n",
    "    Retorna una tupla (Producto, Ventas).\n",
    "    \"\"\"\n",
    "    pass"
   ]
  },
  {
   "cell_type": "code",
   "execution_count": 409,
   "id": "a2bc5413-71a7-4ad4-ae35-221f8b40f034",
   "metadata": {},
   "outputs": [],
   "source": [
    "def ex28_most_sold_product_from_sales_df():\n",
    "    data = np.random.randint(0, 30, 10)\n",
    "    ventas = pd.DataFrame({'Producto': ['cafe', 'cafe', 'pan', 'pan', 'chocolate', 'pastel', 'te', 'pastel', 'chocolate', 'te'] , 'Cantidad': data})\n",
    "\n",
    "    suma = ventas.groupby('Producto')['Cantidad'].sum()\n",
    "    max_categoria = suma.idxmax() \n",
    "    max_valor = suma.max()  \n",
    "    return (max_categoria, max_valor)"
   ]
  },
  {
   "cell_type": "code",
   "execution_count": 410,
   "id": "fca0dc3d-da63-4265-a7ff-212bc48b193c",
   "metadata": {},
   "outputs": [
    {
     "data": {
      "text/plain": [
       "('pan', np.int32(52))"
      ]
     },
     "execution_count": 410,
     "metadata": {},
     "output_type": "execute_result"
    }
   ],
   "source": [
    "ex28_most_sold_product_from_sales_df()"
   ]
  },
  {
   "cell_type": "code",
   "execution_count": null,
   "id": "8ee78591-ed38-44ca-82f8-4eb94de9404f",
   "metadata": {},
   "outputs": [],
   "source": [
    "def ex29_map_lambda_cube(lst):\n",
    "    \"\"\"Ejercicio 29:\n",
    "    Usa map junto con una función lambda para elevar al cubo cada número en una lista.\n",
    "    Devuelve la lista resultante.\n",
    "    \"\"\"\n",
    "    pass"
   ]
  },
  {
   "cell_type": "code",
   "execution_count": 384,
   "id": "a9250146-a39b-4e2b-a6b9-1b8f0dff78d2",
   "metadata": {},
   "outputs": [],
   "source": [
    "def ex29_map_lambda_cube(lst):\n",
    "    return list(map(lambda x: x** 3, lst))"
   ]
  },
  {
   "cell_type": "code",
   "execution_count": 385,
   "id": "8dd610b4-e984-4705-8a9e-f6ff80d712db",
   "metadata": {},
   "outputs": [
    {
     "data": {
      "text/plain": [
       "[8, 27, 1, 64]"
      ]
     },
     "execution_count": 385,
     "metadata": {},
     "output_type": "execute_result"
    }
   ],
   "source": [
    "lst = (2, 3, 1, 4)\n",
    "ex29_map_lambda_cube(lst)"
   ]
  },
  {
   "cell_type": "code",
   "execution_count": null,
   "id": "0a5e99e3-0781-4f0c-a8e0-a8338f983266",
   "metadata": {},
   "outputs": [],
   "source": [
    "def ex30_filter_lambda_even(lst):\n",
    "    \"\"\"Ejercicio 30:\n",
    "    Usa filter y una lambda para quedarte sólo con los números pares de una lista.\n",
    "    Devuelve la lista filtrada.\n",
    "    \"\"\"\n",
    "    pass"
   ]
  },
  {
   "cell_type": "code",
   "execution_count": 390,
   "id": "8175cb55-e173-4981-99e1-e97bbfc77394",
   "metadata": {},
   "outputs": [],
   "source": [
    "def ex30_filter_lambda_even(lst):\n",
    "    return list(filter(lambda x: x % 2 == 0, lst))"
   ]
  },
  {
   "cell_type": "code",
   "execution_count": 391,
   "id": "bb363e7a-f3b8-41ae-9a10-1ed74e85c505",
   "metadata": {},
   "outputs": [
    {
     "data": {
      "text/plain": [
       "[2, 4, 64]"
      ]
     },
     "execution_count": 391,
     "metadata": {},
     "output_type": "execute_result"
    }
   ],
   "source": [
    "lst = (2, 3, 1, 4, 23, 35, 64)\n",
    "ex30_filter_lambda_even(lst)"
   ]
  },
  {
   "cell_type": "code",
   "execution_count": 413,
   "id": "e23a33fc-306e-4381-8d75-4155c69bfde5",
   "metadata": {},
   "outputs": [],
   "source": [
    "def ex31_sort_list_of_dicts_by_key(lst, keyname):\n",
    "    \"\"\"Ejercicio 31:\n",
    "    Dada una lista de diccionarios, ordénala por el valor asociado a 'keyname' usando\n",
    "    sorted con una lambda. Devuelve la lista ordenada.\n",
    "    \"\"\"\n",
    "    pass"
   ]
  },
  {
   "cell_type": "code",
   "execution_count": 414,
   "id": "b12aefcf-f40b-419d-a6ba-868d98d98dd3",
   "metadata": {},
   "outputs": [],
   "source": [
    "def ex31_sort_list_of_dicts_by_key(lst, keyname):\n",
    "    return sorted(lst, key=lambda x: x[keyname])"
   ]
  },
  {
   "cell_type": "code",
   "execution_count": 416,
   "id": "ffaa71dd-a279-44d1-85f8-b7697f94416c",
   "metadata": {},
   "outputs": [
    {
     "data": {
      "text/plain": [
       "[{'nombre': 'Mariana', 'edad': 20},\n",
       " {'nombre': 'Ana', 'edad': 25},\n",
       " {'nombre': 'Luis', 'edad': 30}]"
      ]
     },
     "execution_count": 416,
     "metadata": {},
     "output_type": "execute_result"
    }
   ],
   "source": [
    "keyname = 'edad'\n",
    "lst = [{'nombre': 'Ana', 'edad': 25},\n",
    "    {'nombre': 'Luis', 'edad': 30},\n",
    "    {'nombre': 'Mariana', 'edad': 20}]\n",
    "\n",
    "ex31_sort_list_of_dicts_by_key(lst, keyname)"
   ]
  },
  {
   "cell_type": "code",
   "execution_count": null,
   "id": "e7297234-b582-46db-9aea-e6e72fadeef1",
   "metadata": {},
   "outputs": [],
   "source": [
    "def ex32_pandas_apply_lambda_uppercase(names_list):\n",
    "    \"\"\"Ejercicio 32:\n",
    "    Crea un DataFrame con una columna 'Nombre' a partir de names_list y usa apply con\n",
    "    una función lambda para crear una nueva columna con los nombres en mayúsculas.\n",
    "    Devuelve el DataFrame modificado.\n",
    "    \"\"\"\n",
    "    pass"
   ]
  },
  {
   "cell_type": "code",
   "execution_count": 426,
   "id": "3f01bb5e-17f3-4222-b493-8f996ae962a0",
   "metadata": {},
   "outputs": [],
   "source": [
    "def ex32_pandas_apply_lambda_uppercase(names_list): \n",
    "    df = pd.DataFrame({'Nombre': names_list})\n",
    "    df['NombreM'] = df['Nombre'].apply(lambda x: x.upper())\n",
    "    return df"
   ]
  },
  {
   "cell_type": "code",
   "execution_count": 428,
   "id": "66958ac2-6181-4c8d-a9ef-5c1a0d5c4d90",
   "metadata": {},
   "outputs": [
    {
     "data": {
      "text/html": [
       "<div>\n",
       "<style scoped>\n",
       "    .dataframe tbody tr th:only-of-type {\n",
       "        vertical-align: middle;\n",
       "    }\n",
       "\n",
       "    .dataframe tbody tr th {\n",
       "        vertical-align: top;\n",
       "    }\n",
       "\n",
       "    .dataframe thead th {\n",
       "        text-align: right;\n",
       "    }\n",
       "</style>\n",
       "<table border=\"1\" class=\"dataframe\">\n",
       "  <thead>\n",
       "    <tr style=\"text-align: right;\">\n",
       "      <th></th>\n",
       "      <th>Nombre</th>\n",
       "      <th>NombreM</th>\n",
       "    </tr>\n",
       "  </thead>\n",
       "  <tbody>\n",
       "    <tr>\n",
       "      <th>0</th>\n",
       "      <td>Ana</td>\n",
       "      <td>ANA</td>\n",
       "    </tr>\n",
       "    <tr>\n",
       "      <th>1</th>\n",
       "      <td>Beatriz</td>\n",
       "      <td>BEATRIZ</td>\n",
       "    </tr>\n",
       "    <tr>\n",
       "      <th>2</th>\n",
       "      <td>Camila</td>\n",
       "      <td>CAMILA</td>\n",
       "    </tr>\n",
       "  </tbody>\n",
       "</table>\n",
       "</div>"
      ],
      "text/plain": [
       "    Nombre  NombreM\n",
       "0      Ana      ANA\n",
       "1  Beatriz  BEATRIZ\n",
       "2   Camila   CAMILA"
      ]
     },
     "execution_count": 428,
     "metadata": {},
     "output_type": "execute_result"
    }
   ],
   "source": [
    "names_list = ('Ana', 'Beatriz', 'Camila')\n",
    "ex32_pandas_apply_lambda_uppercase(names_list)"
   ]
  }
 ],
 "metadata": {
  "kernelspec": {
   "display_name": "Python 3 (ipykernel)",
   "language": "python",
   "name": "python3"
  },
  "language_info": {
   "codemirror_mode": {
    "name": "ipython",
    "version": 3
   },
   "file_extension": ".py",
   "mimetype": "text/x-python",
   "name": "python",
   "nbconvert_exporter": "python",
   "pygments_lexer": "ipython3",
   "version": "3.13.6"
  }
 },
 "nbformat": 4,
 "nbformat_minor": 5
}
