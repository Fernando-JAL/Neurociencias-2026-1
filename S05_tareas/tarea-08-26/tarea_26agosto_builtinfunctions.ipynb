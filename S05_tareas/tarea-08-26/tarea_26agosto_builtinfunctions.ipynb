{
 "cells": [
  {
   "cell_type": "markdown",
   "id": "1646728e-8f2c-4036-938c-05694edd7d50",
   "metadata": {},
   "source": [
    "# Built in functions"
   ]
  },
  {
   "cell_type": "markdown",
   "id": "4ddca470-bba8-4969-8bfa-2e881d3e992c",
   "metadata": {},
   "source": [
    "### Tarea\n",
    "Hacer un ejemplo de las siguientes built-in functions:\n",
    "- all\n",
    "- any\n",
    "- abs\n",
    "- input\n",
    "- max\n",
    "- min\n",
    "- pow\n",
    "- reversed\n",
    "- round\n",
    "- sorted\n",
    "- sum"
   ]
  },
  {
   "cell_type": "code",
   "execution_count": 1,
   "id": "8bb7d340-3054-4875-8925-619982f4d625",
   "metadata": {},
   "outputs": [
    {
     "data": {
      "text/plain": [
       "True"
      ]
     },
     "execution_count": 1,
     "metadata": {},
     "output_type": "execute_result"
    }
   ],
   "source": [
    "# all() devuelve True si todos son verdaderos\n",
    "lista = [1,2,3]\n",
    "all(lista)"
   ]
  },
  {
   "cell_type": "code",
   "execution_count": 2,
   "id": "82b73e61-d53c-4b0b-adca-b112e4fff1c2",
   "metadata": {},
   "outputs": [
    {
     "data": {
      "text/plain": [
       "False"
      ]
     },
     "execution_count": 2,
     "metadata": {},
     "output_type": "execute_result"
    }
   ],
   "source": [
    "lista2 = [1,0,0]\n",
    "all(lista2)"
   ]
  },
  {
   "cell_type": "code",
   "execution_count": 3,
   "id": "ae81dcc7-3ea3-462b-a9a0-5893e9ecd75e",
   "metadata": {},
   "outputs": [
    {
     "data": {
      "text/plain": [
       "True"
      ]
     },
     "execution_count": 3,
     "metadata": {},
     "output_type": "execute_result"
    }
   ],
   "source": [
    "# any() devuelve True si alguno es verdadero\n",
    "lista = [1,0,0]\n",
    "any(lista)"
   ]
  },
  {
   "cell_type": "code",
   "execution_count": 4,
   "id": "7a36a355-7f55-454f-b810-f15b5793bfb8",
   "metadata": {},
   "outputs": [
    {
     "data": {
      "text/plain": [
       "False"
      ]
     },
     "execution_count": 4,
     "metadata": {},
     "output_type": "execute_result"
    }
   ],
   "source": [
    "lista2 = [0,0,0]\n",
    "any(lista2)"
   ]
  },
  {
   "cell_type": "code",
   "execution_count": null,
   "id": "c52d45ab-3654-4bef-94a7-339a4cdc6d5c",
   "metadata": {},
   "outputs": [],
   "source": [
    "# abs() devuelve el valor absoluto\n",
    "abs(-8)"
   ]
  },
  {
   "cell_type": "code",
   "execution_count": 5,
   "id": "256a0b92-fb0f-4d8c-9637-98309622560a",
   "metadata": {},
   "outputs": [
    {
     "name": "stdin",
     "output_type": "stream",
     "text": [
      "Enter your name:  Anette\n"
     ]
    },
    {
     "name": "stdout",
     "output_type": "stream",
     "text": [
      "Hello, Anette!\n"
     ]
    }
   ],
   "source": [
    "# input() pide al usuario insertar texto\n",
    "name = input(\"Enter your name: \")\n",
    "print(f\"Hello, {name}!\")"
   ]
  },
  {
   "cell_type": "code",
   "execution_count": 6,
   "id": "9f3dec90-01ac-44c4-93bb-c4127c93fe89",
   "metadata": {},
   "outputs": [
    {
     "data": {
      "text/plain": [
       "8"
      ]
     },
     "execution_count": 6,
     "metadata": {},
     "output_type": "execute_result"
    }
   ],
   "source": [
    "# max() devuelve el valor máximo\n",
    "lista = [2,4,8]\n",
    "max(lista)"
   ]
  },
  {
   "cell_type": "code",
   "execution_count": 7,
   "id": "ea0d8f80-865e-4462-991c-e282e105c2fe",
   "metadata": {},
   "outputs": [
    {
     "data": {
      "text/plain": [
       "2"
      ]
     },
     "execution_count": 7,
     "metadata": {},
     "output_type": "execute_result"
    }
   ],
   "source": [
    "# min devuelve el valor mínimo \n",
    "lista = [2,4,8]\n",
    "min(lista)"
   ]
  },
  {
   "cell_type": "code",
   "execution_count": 8,
   "id": "a2fe73ba-2600-485d-bab1-cf972f169b03",
   "metadata": {},
   "outputs": [
    {
     "data": {
      "text/plain": [
       "8"
      ]
     },
     "execution_count": 8,
     "metadata": {},
     "output_type": "execute_result"
    }
   ],
   "source": [
    "# pow() devuelve potencia con módulo opcional\n",
    "pow(2,3) # Sin módulo, 2^3"
   ]
  },
  {
   "cell_type": "code",
   "execution_count": 9,
   "id": "41c26528-5e0f-4992-b850-a44515a91dc8",
   "metadata": {},
   "outputs": [
    {
     "data": {
      "text/plain": [
       "3"
      ]
     },
     "execution_count": 9,
     "metadata": {},
     "output_type": "execute_result"
    }
   ],
   "source": [
    "pow(2,3,5) # Con módulo, (2^3)%5"
   ]
  },
  {
   "cell_type": "code",
   "execution_count": 10,
   "id": "1e91eea7-50c9-407e-a61d-6074bba2f686",
   "metadata": {},
   "outputs": [
    {
     "data": {
      "text/plain": [
       "[3, 2, 1]"
      ]
     },
     "execution_count": 10,
     "metadata": {},
     "output_type": "execute_result"
    }
   ],
   "source": [
    "#reversed() devuelve elementos al revés\n",
    "list(reversed([1,2,3]))"
   ]
  },
  {
   "cell_type": "code",
   "execution_count": 11,
   "id": "105b568e-f801-4979-8f4b-f6a0b2dc762d",
   "metadata": {},
   "outputs": [
    {
     "data": {
      "text/plain": [
       "3"
      ]
     },
     "execution_count": 11,
     "metadata": {},
     "output_type": "execute_result"
    }
   ],
   "source": [
    "# round() redondea a un número específico\n",
    "round(3.1416) # Sin especificar cantidad de decimales"
   ]
  },
  {
   "cell_type": "code",
   "execution_count": 12,
   "id": "080d02ca-0dd9-4bf3-8f99-2cca94ef61b4",
   "metadata": {},
   "outputs": [
    {
     "data": {
      "text/plain": [
       "3.142"
      ]
     },
     "execution_count": 12,
     "metadata": {},
     "output_type": "execute_result"
    }
   ],
   "source": [
    "round(3.1416, 3) # Especificando decimales"
   ]
  },
  {
   "cell_type": "code",
   "execution_count": 13,
   "id": "ce404a9b-ca35-4e37-9c90-8000487c44c8",
   "metadata": {},
   "outputs": [
    {
     "data": {
      "text/plain": [
       "[1, 2, 4, 5, 6, 7]"
      ]
     },
     "execution_count": 13,
     "metadata": {},
     "output_type": "execute_result"
    }
   ],
   "source": [
    "# sorted() devuelve los elementos ordenados\n",
    "lista = [1,5,2,7,6,4]\n",
    "sorted(lista)"
   ]
  },
  {
   "cell_type": "code",
   "execution_count": 14,
   "id": "a9ba451d-ff68-42a0-8e0b-24990eec5420",
   "metadata": {},
   "outputs": [
    {
     "data": {
      "text/plain": [
       "12"
      ]
     },
     "execution_count": 14,
     "metadata": {},
     "output_type": "execute_result"
    }
   ],
   "source": [
    "# sum() suma todos los elementos de una lista\n",
    "lista = [2,4,6]\n",
    "sum(lista) # Sin especificar a partir de cuál"
   ]
  },
  {
   "cell_type": "code",
   "execution_count": 15,
   "id": "6578fcfc-4b17-47a3-9c60-d57e1665f388",
   "metadata": {},
   "outputs": [
    {
     "data": {
      "text/plain": [
       "22"
      ]
     },
     "execution_count": 15,
     "metadata": {},
     "output_type": "execute_result"
    }
   ],
   "source": [
    "lista = [2,4,6]\n",
    "sum(lista, start = 10) # Especificando a partir de dónde"
   ]
  }
 ],
 "metadata": {
  "kernelspec": {
   "display_name": "Python 3 (ipykernel)",
   "language": "python",
   "name": "python3"
  },
  "language_info": {
   "codemirror_mode": {
    "name": "ipython",
    "version": 3
   },
   "file_extension": ".py",
   "mimetype": "text/x-python",
   "name": "python",
   "nbconvert_exporter": "python",
   "pygments_lexer": "ipython3",
   "version": "3.13.7"
  }
 },
 "nbformat": 4,
 "nbformat_minor": 5
}
