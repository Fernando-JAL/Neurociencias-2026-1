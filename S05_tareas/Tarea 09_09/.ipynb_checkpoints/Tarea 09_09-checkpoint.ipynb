{
 "cells": [
  {
   "cell_type": "markdown",
   "id": "69f49e64-78d4-4799-8dd5-85dbca750548",
   "metadata": {},
   "source": [
    "# Tarea "
   ]
  },
  {
   "cell_type": "code",
   "execution_count": 1,
   "id": "41417c52-2106-4f73-b7cc-421f696459f2",
   "metadata": {},
   "outputs": [],
   "source": [
    "#quedarme con la columna de en medio (5,20,35)"
   ]
  },
  {
   "cell_type": "code",
   "execution_count": 4,
   "id": "f0bddafd-e8bf-492f-9207-313729dcb9d0",
   "metadata": {},
   "outputs": [],
   "source": [
    "import numpy as np"
   ]
  },
  {
   "cell_type": "code",
   "execution_count": 5,
   "id": "1807cd5a-2f9f-485f-ad74-e107dd8ea2fd",
   "metadata": {},
   "outputs": [],
   "source": [
    "matriz = np.array([[0,5,10],\n",
    "                   [15,20,25],\n",
    "                   [99,35,40]])"
   ]
  },
  {
   "cell_type": "code",
   "execution_count": 10,
   "id": "c87a8460-a029-4f5b-b6f3-928591e16533",
   "metadata": {
    "scrolled": true
   },
   "outputs": [
    {
     "data": {
      "text/plain": [
       "array([ 5, 20, 35])"
      ]
     },
     "execution_count": 10,
     "metadata": {},
     "output_type": "execute_result"
    }
   ],
   "source": [
    "matriz[:,1]"
   ]
  }
 ],
 "metadata": {
  "kernelspec": {
   "display_name": "Python 3 (ipykernel)",
   "language": "python",
   "name": "python3"
  },
  "language_info": {
   "codemirror_mode": {
    "name": "ipython",
    "version": 3
   },
   "file_extension": ".py",
   "mimetype": "text/x-python",
   "name": "python",
   "nbconvert_exporter": "python",
   "pygments_lexer": "ipython3",
   "version": "3.10.9"
  }
 },
 "nbformat": 4,
 "nbformat_minor": 5
}
