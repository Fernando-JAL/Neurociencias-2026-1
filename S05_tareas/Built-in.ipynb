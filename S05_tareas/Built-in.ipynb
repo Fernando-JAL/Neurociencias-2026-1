{
 "cells": [
  {
   "cell_type": "code",
   "execution_count": null,
   "id": "8ea6bed0-8c68-48bc-868d-a3448eff7e1b",
   "metadata": {},
   "outputs": [],
   "source": [
    "Tarea : Hacer un ejemplo de las siguientes built-in functions\n",
    "all\n",
    "any\n",
    "abs\n",
    "input\n",
    "max\n",
    "min\n",
    "pow\n",
    "reversed\n",
    "round\n",
    "sorted\n",
    "sum\n"
   ]
  },
  {
   "cell_type": "code",
   "execution_count": 2,
   "id": "1f11378e-4465-48df-879b-519fa4aaca91",
   "metadata": {},
   "outputs": [
    {
     "name": "stdout",
     "output_type": "stream",
     "text": [
      "¿Todos son pares? True\n"
     ]
    }
   ],
   "source": [
    "# ALL : Si todos\n",
    "numeros = [2, 4, 6, 8]\n",
    "print(\"¿Todos son pares?\", all(n % 2 == 0 for n in numeros))  # True"
   ]
  },
  {
   "cell_type": "code",
   "execution_count": 3,
   "id": "3c66f870-b1c3-475f-8d03-c3aab6074389",
   "metadata": {},
   "outputs": [
    {
     "name": "stdout",
     "output_type": "stream",
     "text": [
      "True\n"
     ]
    }
   ],
   "source": [
    "# ANY : Si al menos un elemento\n",
    "valores = [0, \"\", None, 3]\n",
    "print(any(valores)) #True, porque 3 es True"
   ]
  },
  {
   "cell_type": "code",
   "execution_count": 4,
   "id": "98024f58-722e-45ef-96e2-5d8d82035d85",
   "metadata": {},
   "outputs": [
    {
     "data": {
      "text/plain": [
       "22.5"
      ]
     },
     "execution_count": 4,
     "metadata": {},
     "output_type": "execute_result"
    }
   ],
   "source": [
    "# ABS : devuelve el valor absoluto de un número\n",
    "abs(-22.5)"
   ]
  },
  {
   "cell_type": "code",
   "execution_count": null,
   "id": "95118488-788e-443a-9170-35c6156d4737",
   "metadata": {},
   "outputs": [],
   "source": [
    "# INPUT : información ingresada por el usuario y que puede ser variable\n",
    "nombre = input(\"¿Cuál es tu nombre?\")"
   ]
  },
  {
   "cell_type": "code",
   "execution_count": 6,
   "id": "6d3abfb6-657c-41db-8987-c1a0fa390ae3",
   "metadata": {},
   "outputs": [
    {
     "data": {
      "text/plain": [
       "306"
      ]
     },
     "execution_count": 6,
     "metadata": {},
     "output_type": "execute_result"
    }
   ],
   "source": [
    "# MAX : devuelve el elemento mayor\n",
    "a = [205, 306, 27, 2, -10]\n",
    "max(a)"
   ]
  },
  {
   "cell_type": "code",
   "execution_count": null,
   "id": "a0bb85f9-a80e-4a5b-8ca8-ed2fffc0004e",
   "metadata": {},
   "outputs": [],
   "source": []
  },
  {
   "cell_type": "code",
   "execution_count": null,
   "id": "f7713f94-d163-4edb-b03c-a80db0a8608b",
   "metadata": {},
   "outputs": [],
   "source": []
  },
  {
   "cell_type": "code",
   "execution_count": null,
   "id": "4257d5cf-9d25-4312-85b4-0a32a683a7c3",
   "metadata": {},
   "outputs": [],
   "source": []
  }
 ],
 "metadata": {
  "kernelspec": {
   "display_name": "Python 3 (ipykernel)",
   "language": "python",
   "name": "python3"
  },
  "language_info": {
   "codemirror_mode": {
    "name": "ipython",
    "version": 3
   },
   "file_extension": ".py",
   "mimetype": "text/x-python",
   "name": "python",
   "nbconvert_exporter": "python",
   "pygments_lexer": "ipython3",
   "version": "3.10.4"
  }
 },
 "nbformat": 4,
 "nbformat_minor": 5
}
