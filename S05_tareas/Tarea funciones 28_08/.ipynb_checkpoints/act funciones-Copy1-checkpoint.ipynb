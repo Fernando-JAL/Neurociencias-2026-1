{
 "cells": [
  {
   "cell_type": "markdown",
   "id": "e5bc32e5-c0aa-4079-af18-598d888f6275",
   "metadata": {},
   "source": [
    "# Ejercicios\n",
    "1. Crear una función que cuente las vocales de un string y regrese dicho numero\n",
    "2. Crear una función que determine si un número es par o impar e imprima si es par o impar\n",
    "3. Crear una función para convertir de grados celcius a grados fahrenheit, dicha función recibirá la temperatura en grados celcius y deberá regresar los grados fahrenheit\n",
    "4. Crear una función que reciba un entero y devuelva la suma de sus dígitos.\n",
    "5. Crear una función que cuente las palabras de un string y devuelva dicho número\n",
    "6. Crear una función que reciba una lista con al menos 3 enteros y regrese el mínimo de todos los números de las lista\n",
    "7. Crear una función que reciba dos strings (frase, letra) y cuente cuantas veces aparece la letra en la frase y regrese ese número\n",
    "8. Crear un string que reciba un string y cambie todas las minusculas a mayusculas y viceversa.\n",
    "9. Craer una función que reciba un string y elimina todos los espacios y regrese el string sin espacios "
   ]
  },
  {
   "cell_type": "code",
   "execution_count": 40,
   "id": "3e9f36b3-900e-4ad0-8195-e000725651e3",
   "metadata": {},
   "outputs": [
    {
     "data": {
      "text/plain": [
       "('CADENA', 'alfabeto', <function str.capitalize()>)"
      ]
     },
     "execution_count": 40,
     "metadata": {},
     "output_type": "execute_result"
    }
   ],
   "source": [
    "\"cadena\".upper(),\"ALFABETO\".lower(), \"mientras\".capitalize"
   ]
  },
  {
   "cell_type": "code",
   "execution_count": 44,
   "id": "2f7ffbe8-a4c5-462a-a4bf-70a5e9eb8a2b",
   "metadata": {},
   "outputs": [
    {
     "data": {
      "text/plain": [
       "(['a', 'b', 'c', 'd'], 'a-b-c')"
      ]
     },
     "execution_count": 44,
     "metadata": {},
     "output_type": "execute_result"
    }
   ],
   "source": [
    "\"a b c d\".split (sep = \" \"),\"-\".join (['a', 'b', 'c'])"
   ]
  },
  {
   "cell_type": "code",
   "execution_count": 6,
   "id": "110d0af4-f1f3-430f-a784-d5fa994262ad",
   "metadata": {},
   "outputs": [],
   "source": [
    "def contar_vocales (cadena):\n",
    "    vocales = \"aeiouAEIOU\"\n",
    "    contador = sum(1 for letra in texto if letra in vocales)\n",
    "    return contador "
   ]
  },
  {
   "cell_type": "code",
   "execution_count": 7,
   "id": "4877db85-b1e2-487f-b415-31fa900f80b5",
   "metadata": {},
   "outputs": [
    {
     "name": "stdout",
     "output_type": "stream",
     "text": [
      "Número de vocales 14\n"
     ]
    }
   ],
   "source": [
    "frase= \"tengo sueño y quiero un chocolate\"\n",
    "print(\"Número de vocales\", contar_vocales(frase))"
   ]
  },
  {
   "cell_type": "code",
   "execution_count": 11,
   "id": "cc911d5c-c38f-4cd3-8c7d-049fb3265c3b",
   "metadata": {},
   "outputs": [],
   "source": [
    "def contar_vocales (cadena):\n",
    "    total = 0\n",
    "    vocales=['a','e','i','o','u']\n",
    "    for letra in cadena:\n",
    "        if letra in vocales:\n",
    "            total +=1\n",
    "    return total"
   ]
  },
  {
   "cell_type": "code",
   "execution_count": null,
   "id": "00d6d8eb-5b8a-41af-98de-55006e68e531",
   "metadata": {},
   "outputs": [],
   "source": [
    "for letra in ["
   ]
  },
  {
   "cell_type": "code",
   "execution_count": 17,
   "id": "b3ad2685-c5da-477e-a659-36482e1a16b6",
   "metadata": {},
   "outputs": [],
   "source": [
    "def par_o_impar (numero):\n",
    "    if numero % 2==0:\n",
    "       print(f\"El número {numero} es Par\")\n",
    "    else:\n",
    "       print(f\"el número{numero} es Impar\")"
   ]
  },
  {
   "cell_type": "code",
   "execution_count": 18,
   "id": "bee86674-223c-445a-9f0c-51f7fac0b5bc",
   "metadata": {},
   "outputs": [
    {
     "name": "stdout",
     "output_type": "stream",
     "text": [
      "El número 80 es Par\n"
     ]
    }
   ],
   "source": [
    "par_o_impar (80)"
   ]
  },
  {
   "cell_type": "code",
   "execution_count": 1,
   "id": "3b68d01a-6994-47f3-ad04-93c160ac640c",
   "metadata": {},
   "outputs": [],
   "source": [
    "def celsius_a_fahrenheit(celsius):\n",
    "    return (celsius * 9/5) + 32"
   ]
  },
  {
   "cell_type": "code",
   "execution_count": 4,
   "id": "b0f1a44a-9d69-4b6e-8ae5-1526767265e1",
   "metadata": {},
   "outputs": [
    {
     "data": {
      "text/plain": [
       "86.0"
      ]
     },
     "execution_count": 4,
     "metadata": {},
     "output_type": "execute_result"
    }
   ],
   "source": [
    "celsius_a_fahrenheit (30)"
   ]
  },
  {
   "cell_type": "code",
   "execution_count": 31,
   "id": "37d17ac3-2201-48ba-bc36-359629759512",
   "metadata": {},
   "outputs": [],
   "source": [
    "def sumar_digitos(n):\n",
    "    str_n = str(n)\n",
    "    total = 0\n",
    "    for digito in str_n:\n",
    "        total += int(digito)\n",
    "    return total"
   ]
  },
  {
   "cell_type": "code",
   "execution_count": 32,
   "id": "b641f9b4-1a8e-4dbe-a7bc-7b066775ab6e",
   "metadata": {},
   "outputs": [
    {
     "data": {
      "text/plain": [
       "6"
      ]
     },
     "execution_count": 32,
     "metadata": {},
     "output_type": "execute_result"
    }
   ],
   "source": [
    "\n",
    "sumar_digitos(123)"
   ]
  },
  {
   "cell_type": "code",
   "execution_count": 47,
   "id": "f757c2f4-92db-4de7-b386-0740eee7965e",
   "metadata": {},
   "outputs": [],
   "source": [
    "def contar_palabras(texto):\n",
    "    palabras = texto.split()\n",
    "    return len(palabras)"
   ]
  },
  {
   "cell_type": "code",
   "execution_count": 48,
   "id": "bde516c0-69bd-4578-9d42-411022b1acb0",
   "metadata": {},
   "outputs": [
    {
     "name": "stdout",
     "output_type": "stream",
     "text": [
      "# palabras 10\n"
     ]
    }
   ],
   "source": [
    "frase= \"Tengo ganas de un café y de ir a dormir\"\n",
    "resultado = contar_palabras(frase)\n",
    "print(\"# palabras\", resultado)"
   ]
  },
  {
   "cell_type": "code",
   "execution_count": 4,
   "id": "4d7429e8-2d37-42d0-959d-bb0a80092ac8",
   "metadata": {},
   "outputs": [],
   "source": [
    "def contador_palabras(string):\n",
    "    return len(string.split())\n",
    "   "
   ]
  },
  {
   "cell_type": "code",
   "execution_count": 5,
   "id": "cdcfa510-92cb-4859-8abf-25d8778f7008",
   "metadata": {},
   "outputs": [
    {
     "data": {
      "text/plain": [
       "1"
      ]
     },
     "execution_count": 5,
     "metadata": {},
     "output_type": "execute_result"
    }
   ],
   "source": [
    " contador_palabras(\"fuck\")"
   ]
  },
  {
   "cell_type": "code",
   "execution_count": 5,
   "id": "bfc345c4-75e1-4027-b081-86992e0800bd",
   "metadata": {},
   "outputs": [],
   "source": [
    "def minimo_lista(lista):\n",
    "    return min(lista)"
   ]
  },
  {
   "cell_type": "code",
   "execution_count": 6,
   "id": "ebb2a0ca-6786-436e-a911-09010d61eafb",
   "metadata": {},
   "outputs": [
    {
     "name": "stdout",
     "output_type": "stream",
     "text": [
      "9\n"
     ]
    }
   ],
   "source": [
    "print(minimo_lista([9, 52, 68, 14])) "
   ]
  },
  {
   "cell_type": "code",
   "execution_count": 7,
   "id": "cec99ee0-f17d-4037-9124-4f2e9bd811b5",
   "metadata": {},
   "outputs": [],
   "source": [
    "def contar_letra(frase, letra):\n",
    "    return frase.count(letra)"
   ]
  },
  {
   "cell_type": "code",
   "execution_count": 10,
   "id": "2efeba32-67d8-4fe1-87d6-b7e826558e61",
   "metadata": {},
   "outputs": [
    {
     "name": "stdout",
     "output_type": "stream",
     "text": [
      "2\n"
     ]
    }
   ],
   "source": [
    "print(contar_letra(\"homogeneizar\", \"e\"))"
   ]
  },
  {
   "cell_type": "code",
   "execution_count": 11,
   "id": "f451d605-963b-4bfa-aa27-8a0dc691877a",
   "metadata": {},
   "outputs": [],
   "source": [
    "def cambiar_mayus_minus(texto):\n",
    "    return texto.swapcase()"
   ]
  },
  {
   "cell_type": "code",
   "execution_count": 12,
   "id": "6da91f1f-f805-4a41-afbd-8ac008c282c7",
   "metadata": {},
   "outputs": [
    {
     "name": "stdout",
     "output_type": "stream",
     "text": [
      " rAN takahashi\n"
     ]
    }
   ],
   "source": [
    "print(cambiar_mayus_minus(\" Ran TAKAHASHI\"))"
   ]
  },
  {
   "cell_type": "code",
   "execution_count": 13,
   "id": "a4bd4aa5-d019-460b-a651-c8c4d2d78312",
   "metadata": {},
   "outputs": [],
   "source": [
    "def eliminar_espacios(texto):\n",
    "    return texto.replace(\" \", \"\")"
   ]
  },
  {
   "cell_type": "code",
   "execution_count": 14,
   "id": "bbfefe08-72a5-44ed-b844-467cecfe0e33",
   "metadata": {},
   "outputs": [
    {
     "name": "stdout",
     "output_type": "stream",
     "text": [
      "I'mjustadeadmanwalkingtonight\n"
     ]
    }
   ],
   "source": [
    "print(eliminar_espacios(\"I'm just a dead man walking tonight\")) "
   ]
  },
  {
   "cell_type": "code",
   "execution_count": null,
   "id": "92398609-ba07-439f-95ce-d49daca02407",
   "metadata": {},
   "outputs": [],
   "source": [
    "def no_space(string):\n",
    "    total=\"\"\n",
    "    for spacion in string:\n",
    "        if spacio !=\"\":\n",
    "            total +=spacio \n",
    "            return total"
   ]
  },
  {
   "cell_type": "code",
   "execution_count": 8,
   "id": "c8fb5004-27bf-4df7-8af8-c8d0539317a0",
   "metadata": {},
   "outputs": [],
   "source": [
    "def sin_espacio(string):\n",
    "    return \"\".join (string.split(\" \"))"
   ]
  },
  {
   "cell_type": "code",
   "execution_count": null,
   "id": "5b8769eb-50c7-44d8-a6db-65f29a03d472",
   "metadata": {},
   "outputs": [],
   "source": []
  }
 ],
 "metadata": {
  "kernelspec": {
   "display_name": "Python 3 (ipykernel)",
   "language": "python",
   "name": "python3"
  },
  "language_info": {
   "codemirror_mode": {
    "name": "ipython",
    "version": 3
   },
   "file_extension": ".py",
   "mimetype": "text/x-python",
   "name": "python",
   "nbconvert_exporter": "python",
   "pygments_lexer": "ipython3",
   "version": "3.11.1"
  }
 },
 "nbformat": 4,
 "nbformat_minor": 5
}
