{
 "cells": [
  {
   "cell_type": "code",
   "execution_count": 1,
   "id": "0fc86906-f347-4a08-83e1-ed506626e9db",
   "metadata": {},
   "outputs": [],
   "source": [
    "import pandas as pd\n",
    "import numpy as np"
   ]
  },
  {
   "cell_type": "markdown",
   "id": "f8c176c2-77e4-4cab-80fb-a81ec77dcbd2",
   "metadata": {},
   "source": [
    "# \"\"\"Ejercicio 1:\n",
    "    Crea dos DataFrame que compartan la misma estructura de columnas (por ejemplo,\n",
    "    'Nombre' y 'Edad'), con al menos 3 filas cada uno. Concaténalos verticalmente\n",
    "    en un único DataFrame. Retorna el DataFrame resultante.\n"
   ]
  },
  {
   "cell_type": "code",
   "execution_count": 8,
   "id": "634fdabd-e199-47b9-9711-bf0b8f2941c5",
   "metadata": {},
   "outputs": [
    {
     "name": "stdout",
     "output_type": "stream",
     "text": [
      "     Nombre  Edad\n",
      "0      Lulú    60\n",
      "1   Ricardo    30\n",
      "2     Marco    58\n",
      "3     Sofía    24\n",
      "4    Carlos    21\n",
      "5  Leonardo    11\n"
     ]
    }
   ],
   "source": [
    "import pandas as pd\n",
    "\n",
    "def ex1_concat_same_structure():\n",
    "    df1 = pd.DataFrame({\n",
    "        \"Nombre\": [\"Lulú\", \"Ricardo\", \"Marco\"],\n",
    "        \"Edad\": [60, 30, 58]\n",
    "})\n",
    "\n",
    "    df2 = pd.DataFrame({\n",
    "        \"Nombre\": [\"Sofía\", \"Carlos\", \"Leonardo\"],\n",
    "        \"Edad\": [24, 21, 11]\n",
    "})\n",
    "\n",
    "    df_concat = pd.concat([df1, df2], ignore_index=True)\n",
    "    return df_concat\n",
    "print(ex1_concat_same_structure())\n"
   ]
  },
  {
   "cell_type": "markdown",
   "id": "dc908411-d452-4e29-a3f2-75280b891f32",
   "metadata": {},
   "source": [
    "# \"Ejercicio 2:\n",
    "    Tienes un DataFrame con ventas de enero y otro con ventas de febrero (mismas columnas).\n",
    "    Concaténalos en un solo DataFrame y añade una columna que indique el mes original\n",
    "    de cada fila (por ejemplo: 'Enero' o 'Febrero'). Retorna el DataFrame resultante.\n",
    "    \"\"\""
   ]
  },
  {
   "cell_type": "code",
   "execution_count": 11,
   "id": "c19372f5-ba56-4aa9-8850-d01664ad4bb0",
   "metadata": {},
   "outputs": [
    {
     "name": "stdout",
     "output_type": "stream",
     "text": [
      "   Productos  Ventas      Mes\n",
      "0    Mochila     150    Enero\n",
      "1       Goma      13    Enero\n",
      "2   Lapicero      40    Enero\n",
      "3  Impresora    2000    Enero\n",
      "4    Mochila     150  Febrero\n",
      "5       Goma      15  Febrero\n",
      "6   Lapicero      60  Febrero\n",
      "7  Impresora    2200  Febrero\n"
     ]
    }
   ],
   "source": [
    "import pandas as pd\n",
    "\n",
    "def ex2_concat_with_month_column():\n",
    "    df_Enero = pd.DataFrame({\n",
    "        \"Productos\": [\"Mochila\", \"Goma\", \"Lapicero\", \"Impresora\"],\n",
    "        \"Ventas\": [150, 13, 40, 2000]\n",
    "    })\n",
    "    df_Enero[\"Mes\"] = \"Enero\" \n",
    "\n",
    "    df_Febrero = pd.DataFrame({\n",
    "        \"Productos\": [\"Mochila\", \"Goma\", \"Lapicero\", \"Impresora\"],\n",
    "        \"Ventas\": [150, 15, 60, 2200]\n",
    "    })\n",
    "    df_Febrero[\"Mes\"] = \"Febrero\"\n",
    "\n",
    "    df_concat = pd.concat([df_Enero, df_Febrero], ignore_index=True)\n",
    "\n",
    "    return df_concat\n",
    "print(ex2_concat_with_month_column())\n"
   ]
  },
  {
   "cell_type": "markdown",
   "id": "d67bd6d1-5fef-4eb6-ac6a-524d3dd28360",
   "metadata": {},
   "source": [
    "# Ejercicio 3:\n",
    "    Crea dos DataFrame que no tengan exactamente las mismas columnas (ej.: uno tiene\n",
    "    'Producto' y 'Ventas', el otro 'Producto' y 'Descuento'). Concaténalos y asegura\n",
    "    que los valores faltantes queden rellenados con 0. Retorna el DataFrame resultante.\n",
    "    \"\"\""
   ]
  },
  {
   "cell_type": "code",
   "execution_count": 18,
   "id": "8adaa630-9010-4a83-b35e-882784a0b7ba",
   "metadata": {},
   "outputs": [
    {
     "name": "stdout",
     "output_type": "stream",
     "text": [
      "      Producto  Ventas  Descuento\n",
      "0      Mochila   150.0        0.0\n",
      "1         Goma    13.0        0.0\n",
      "2     Lapicero    40.0        0.0\n",
      "3    Impresora  2000.0        0.0\n",
      "4  Marcatextos     0.0       10.0\n",
      "5   Escritorio     0.0       20.0\n",
      "6  Computadora     0.0       15.0\n"
     ]
    }
   ],
   "source": [
    "import pandas as pd\n",
    "\n",
    "def ex3_concat_diff_columns_fillna():\n",
    "    df_ventas = pd.DataFrame({\n",
    "        \"Producto\": [\"Mochila\", \"Goma\", \"Lapicero\", \"Impresora\"],\n",
    "        \"Ventas\": [150, 13, 40, 2000]\n",
    "    })\n",
    "\n",
    "    df_descuentos = pd.DataFrame({\n",
    "        \"Producto\": [\"Marcatextos\", \"Escritorio\", \"Computadora\"],\n",
    "        \"Descuento\": [10, 20, 15]\n",
    "    })\n",
    "\n",
    "    df_concat = pd.concat([df_ventas, df_descuentos], ignore_index=True)\n",
    "    df_concat = df_concat.fillna(0)\n",
    "\n",
    "    return df_concat\n",
    "print(ex3_concat_diff_columns_fillna())\n"
   ]
  },
  {
   "cell_type": "markdown",
   "id": "d32b50cf-d8b0-46f3-bf21-3f649107ef96",
   "metadata": {},
   "source": [
    "# Ejercicio 4:\n",
    "    Genera tres DataFrame pequeños (cada uno con, por ejemplo, 3 filas) que representen\n",
    "    notas de distintos grupos de alumnos. Concaténalos verticalmente en un solo DataFrame\n",
    "    que contenga todas las notas. Retorna el DataFrame resultante.\n",
    "    \"\"\""
   ]
  },
  {
   "cell_type": "code",
   "execution_count": 15,
   "id": "8bb4277f-e861-432f-88c8-1aacd4ec1d7c",
   "metadata": {},
   "outputs": [
    {
     "name": "stdout",
     "output_type": "stream",
     "text": [
      "    Alumno  Nota Grupo\n",
      "0     Luis   8.5     A\n",
      "1   Javier   7.0     A\n",
      "2    Paola   9.0     A\n",
      "3    Yanin   6.5     B\n",
      "4    Elena   8.0     B\n",
      "5   Manuel   7.5     B\n",
      "6    Celia   9.5     C\n",
      "7   Andrés   6.0     C\n",
      "8  Enrique   8.0     C\n"
     ]
    }
   ],
   "source": [
    "import pandas as pd\n",
    "\n",
    "def ex4_concat_three_groups():\n",
    "    df_GrupoA = pd.DataFrame({\n",
    "        'Alumno': ['Luis', 'Javier', 'Paola'],\n",
    "        'Nota': [8.5, 7.0, 9.0],\n",
    "        'Grupo': 'A'\n",
    "})\n",
    "\n",
    "    df_GrupoB = pd.DataFrame({\n",
    "        'Alumno': ['Yanin', 'Elena', 'Manuel'],\n",
    "        'Nota': [6.5, 8.0, 7.5],\n",
    "        'Grupo': 'B'\n",
    "})\n",
    "\n",
    "    df_GrupoC = pd.DataFrame({\n",
    "        'Alumno': ['Celia', 'Andrés', 'Enrique'],\n",
    "        'Nota': [9.5, 6.0, 8.0],\n",
    "        'Grupo': 'C'\n",
    "})\n",
    "\n",
    "    df_total = pd.concat([df_GrupoA, df_GrupoB, df_GrupoC], ignore_index=True)\n",
    "\n",
    "    return df_total\n",
    "print(ex4_concat_three_groups())\n"
   ]
  },
  {
   "cell_type": "markdown",
   "id": "f9c6e582-c6ee-4aac-b685-e43e17812232",
   "metadata": {},
   "source": [
    " # Ejercicio 5:\n",
    "    Dada una lista de enteros (o strings) que puede contener duplicados, devuelve una\n",
    "    nueva lista sin duplicados preservando el orden original. No uses directamente set()\n",
    "    para eliminar duplicados (escribe la lógica que preserve el orden). Retorna la nueva \n",
    "    lista sin duplicados."
   ]
  },
  {
   "cell_type": "code",
   "execution_count": 91,
   "id": "2a85a26d-18af-4dc6-8f40-1862ace75a98",
   "metadata": {},
   "outputs": [
    {
     "data": {
      "text/plain": [
       "[2, 4, 6, 8, 10]"
      ]
     },
     "execution_count": 91,
     "metadata": {},
     "output_type": "execute_result"
    }
   ],
   "source": [
    "def ex5_remove_duplicates(lista):\n",
    "    nueva_lista = []  \n",
    "    for elemento in lista:\n",
    "        if elemento not in nueva_lista:  \n",
    "            nueva_lista.append(elemento)\n",
    "    return nueva_lista\n",
    "ex5_remove_duplicates([2, 2, 2, 4, 4, 6, 8, 8,8, 8, 10])\n",
    "\n"
   ]
  },
  {
   "cell_type": "markdown",
   "id": "132053ae-2d17-44fb-9125-1e22fe5d0340",
   "metadata": {},
   "source": [
    "#  Ejercicio 6:\n",
    "    Dada una lista de tuplas, por ejemplo [(\"a\", 3), (\"b\", 1), (\"c\", 2)], ordénala\n",
    "    por el segundo elemento de cada tupla y devuelve la lista ordenada. Usa una función\n",
    "    anónima si lo deseas. Retorna la lista ordenada.\n",
    "    \"\"\""
   ]
  },
  {
   "cell_type": "code",
   "execution_count": 99,
   "id": "3f6780d3-4155-44f7-8027-d07a1949a6f9",
   "metadata": {},
   "outputs": [
    {
     "data": {
      "text/plain": [
       "[('b', 1), ('c', 2), ('a', 3)]"
      ]
     },
     "execution_count": 99,
     "metadata": {},
     "output_type": "execute_result"
    }
   ],
   "source": [
    "def ex6_sort_by_second_element(lista):\n",
    "    ordenada = sorted(lista, key=lambda x: x[1])\n",
    "    return ordenada\n",
    "(ex6_sort_by_second_element([(\"a\", 3), (\"b\", 1), (\"c\", 2)]))\n",
    "\n"
   ]
  },
  {
   "cell_type": "markdown",
   "id": "9e938469-4a5a-4fda-9ea6-c758b81677c9",
   "metadata": {},
   "source": [
    "# Ejercicio 7:\n",
    "    Devuelve una lista con los primeros n múltiplos de 7 (por ejemplo, n=5 -> [7,14,21,28,35]).\n",
    "    Retorna la lista generada.\n",
    "    \"\"\""
   ]
  },
  {
   "cell_type": "code",
   "execution_count": 96,
   "id": "04e8dae5-42b3-4643-b1e4-9fabd4805389",
   "metadata": {},
   "outputs": [
    {
     "data": {
      "text/plain": [
       "[7, 14, 21, 28, 35]"
      ]
     },
     "execution_count": 96,
     "metadata": {},
     "output_type": "execute_result"
    }
   ],
   "source": [
    "def ex7_first_n_multiples_of_7(n):\n",
    "    multiplos = [7 * i for i in range(1, n + 1)]\n",
    "    return multiplos\n",
    "(ex7_first_n_multiples_of_7(5))\n"
   ]
  },
  {
   "cell_type": "markdown",
   "id": "1089c10a-a069-4127-95af-3a583e4410e7",
   "metadata": {},
   "source": [
    "#  Ejercicio 8:\n",
    "    Dada una lista de cadenas, devuelve sólo aquellas que son palíndromos (se leen igual\n",
    "    al derecho y al revés). Retorna una lista con los palíndromos encontrados.\n",
    "    \"\"\""
   ]
  },
  {
   "cell_type": "code",
   "execution_count": 101,
   "id": "08c3ce7e-7972-4aec-a10e-bb5dca184ec5",
   "metadata": {},
   "outputs": [
    {
     "data": {
      "text/plain": [
       "['12321', '78987']"
      ]
     },
     "execution_count": 101,
     "metadata": {},
     "output_type": "execute_result"
    }
   ],
   "source": [
    "def ex8_filter_palindromes(strings):\n",
    "    palindromos = [s for s in strings if s == s[::-1]]\n",
    "    return palindromos\n",
    "(ex8_filter_palindromes([\"12321\", \"456\", \"78987\", \"12\"]))"
   ]
  },
  {
   "cell_type": "markdown",
   "id": "0f79caf0-98a1-46cb-bf7d-716e4a59a0c7",
   "metadata": {},
   "source": [
    "#  Ejercicio 9:\n",
    "    Dado dos conjuntos, devuelve su intersección y la diferencia (elementos de A que no\n",
    "    están en B). Retorna una tupla (intersección, diferencia).\n",
    "    \"\"\""
   ]
  },
  {
   "cell_type": "code",
   "execution_count": 98,
   "id": "851270e0-5f5c-477b-979b-7c1870920e06",
   "metadata": {},
   "outputs": [
    {
     "data": {
      "text/plain": [
       "({7, 8}, {6, 9})"
      ]
     },
     "execution_count": 98,
     "metadata": {},
     "output_type": "execute_result"
    }
   ],
   "source": [
    "def ex9_set_intersection_and_difference(set_a, set_b):\n",
    "    interseccion = set_a & set_b      \n",
    "    diferencia = set_a - set_b         \n",
    "    return (interseccion, diferencia)\n",
    "A = {9, 8, 7, 6}\n",
    "B = {1, 2, 8, 7}\n",
    "(ex9_set_intersection_and_difference(A, B))"
   ]
  },
  {
   "cell_type": "markdown",
   "id": "ef6a7635-6615-471b-9eb5-c5271ef7452b",
   "metadata": {},
   "source": [
    "# Ejercicio 10:\n",
    "    Verifica si set_a es subconjunto de set_b. Devuelve True o False.\n",
    "    \"\"\""
   ]
  },
  {
   "cell_type": "code",
   "execution_count": 102,
   "id": "1ecb7968-0b9d-41b7-a68a-8162aa4a6dc2",
   "metadata": {},
   "outputs": [
    {
     "data": {
      "text/plain": [
       "False"
      ]
     },
     "execution_count": 102,
     "metadata": {},
     "output_type": "execute_result"
    }
   ],
   "source": [
    "def ex10_is_subset(set_a, set_b):\n",
    "    return set_a.issubset(set_b)\n",
    "A = {100, 200}\n",
    "B = {100, 200, 35, 48}\n",
    "(ex10_is_subset(A, B))  \n",
    "(ex10_is_subset(B, A))  "
   ]
  },
  {
   "cell_type": "markdown",
   "id": "4feffb1a-b3e7-4ebb-a84c-dcf7dde559ff",
   "metadata": {},
   "source": [
    "#  Ejercicio 11:\n",
    "    Dada una lista, cuenta cuántos elementos únicos contiene (usa set para obtener el conteo).\n",
    "    Retorna el número de elementos únicos.\n",
    "    \"\"\""
   ]
  },
  {
   "cell_type": "code",
   "execution_count": 103,
   "id": "281ff066-4bc5-462c-8351-1a0cdbc2ff84",
   "metadata": {},
   "outputs": [
    {
     "data": {
      "text/plain": [
       "6"
      ]
     },
     "execution_count": 103,
     "metadata": {},
     "output_type": "execute_result"
    }
   ],
   "source": [
    "def ex11_count_unique_elements(lst):\n",
    "    return len(set(lst))\n",
    "lista = [15, 20, 78, 200, 96, 20 , 600, 600]\n",
    "(ex11_count_unique_elements(lista))  "
   ]
  },
  {
   "cell_type": "markdown",
   "id": "478f34ab-a41b-4460-8c58-7a5ec1aab158",
   "metadata": {},
   "source": [
    "#  Ejercicio 12:\n",
    "    Dada una lista de frases (strings), extrae y devuelve el conjunto de todas las palabras\n",
    "    únicas que aparecen en todas las frases. Retorna un conjunto con las palabras únicas.\n",
    "    \"\"\""
   ]
  },
  {
   "cell_type": "code",
   "execution_count": 104,
   "id": "894cefc7-7f54-4e91-8ea4-36fc9a89a7bb",
   "metadata": {},
   "outputs": [
    {
     "data": {
      "text/plain": [
       "{'Estoy',\n",
       " 'Me',\n",
       " 'chocolate',\n",
       " 'comer',\n",
       " 'cuando',\n",
       " 'feliz',\n",
       " 'gusta',\n",
       " 'lo',\n",
       " 'me',\n",
       " 'muy',\n",
       " 'recompensan'}"
      ]
     },
     "execution_count": 104,
     "metadata": {},
     "output_type": "execute_result"
    }
   ],
   "source": [
    "def ex12_unique_words_from_phrases(phrases):\n",
    "    palabras_unicas = set() \n",
    "    for frase in phrases:\n",
    "        palabras = frase.split()     \n",
    "        palabras_unicas.update(palabras)  \n",
    "    return palabras_unicas\n",
    "\n",
    "frases = [\n",
    "    \"Estoy muy feliz\",\n",
    "    \"Me gusta comer chocolate\",\n",
    "    \"cuando me lo recompensan\"\n",
    "]\n",
    "(ex12_unique_words_from_phrases(frases))"
   ]
  },
  {
   "cell_type": "markdown",
   "id": "83ba888e-1a8d-49c3-ac81-6bf6a82d32b2",
   "metadata": {},
   "source": [
    "#  Ejercicio 13:\n",
    "    Recibe una lista de tuplas (nombre, edad). Devuelve la tupla de la persona con mayor edad.\n",
    "    \"\"\""
   ]
  },
  {
   "cell_type": "code",
   "execution_count": 105,
   "id": "0d2fb37d-deed-486e-9dd9-48afb3ca20f3",
   "metadata": {},
   "outputs": [
    {
     "data": {
      "text/plain": [
       "('Claudia', 80)"
      ]
     },
     "execution_count": 105,
     "metadata": {},
     "output_type": "execute_result"
    }
   ],
   "source": [
    "def ex13_oldest_person(tuple_list):\n",
    "    return max(tuple_list, key=lambda x: x[1])\n",
    "personas = [(\"Sofía\", 24), (\"Lulú\", 50), (\"Lionel\", 11), (\"Martha\", 21), (\"Claudia\", 80)]\n",
    "(ex13_oldest_person(personas)) "
   ]
  },
  {
   "cell_type": "markdown",
   "id": "9ba1e0ac-6cdb-40be-a271-6dccbf9d418a",
   "metadata": {},
   "source": [
    "# Ejercicio 14:\n",
    "    Convierte una lista de listas en una lista de tuplas. Retorna la nueva lista de tuplas.\n",
    "    \"\"\""
   ]
  },
  {
   "cell_type": "code",
   "execution_count": 106,
   "id": "5fb826ac-4384-4858-9cc4-610b8527d3d2",
   "metadata": {},
   "outputs": [
    {
     "data": {
      "text/plain": [
       "[('A', 'B'), ('C', 'D'), ('E', 'F')]"
      ]
     },
     "execution_count": 106,
     "metadata": {},
     "output_type": "execute_result"
    }
   ],
   "source": [
    "def ex14_convert_list_of_lists_to_tuples(list_of_lists):\n",
    "    return [tuple(sublist) for sublist in list_of_lists]\n",
    "lista = [[\"A\", \"B\"], [\"C\", \"D\"], [\"E\", \"F\"]]\n",
    "(ex14_convert_list_of_lists_to_tuples(lista))"
   ]
  },
  {
   "cell_type": "markdown",
   "id": "49db9f08-cb18-44a0-9e5f-4c350698d19a",
   "metadata": {},
   "source": [
    "# Ejercicio 15:\n",
    "    Recibe una tupla de tres números (a, b, c). Desempaquétala y devuelve la suma a+b+c. \n",
    "    Retorna un número entero o flotante.\n",
    "    \"\"\""
   ]
  },
  {
   "cell_type": "code",
   "execution_count": 108,
   "id": "dfd8b256-62cb-434d-b72b-cd94c29f4912",
   "metadata": {},
   "outputs": [
    {
     "name": "stdout",
     "output_type": "stream",
     "text": [
      "60\n",
      "10.2\n",
      "-3\n"
     ]
    }
   ],
   "source": [
    "def ex15_sum_of_tuple_abc(t):\n",
    "    a, b, c = t\n",
    "    return a + b + c\n",
    "print(ex15_sum_of_tuple_abc((10, 20, 30)))  \n",
    "print(ex15_sum_of_tuple_abc((1.2, 3.4, 5.6)))  \n",
    "print(ex15_sum_of_tuple_abc((-1, -5, 3)))  "
   ]
  },
  {
   "cell_type": "markdown",
   "id": "2a4afc8a-b666-4050-9a1c-a56f7ee921e3",
   "metadata": {},
   "source": [
    "#  Ejercicio 16:\n",
    "    Dada una lista de tuplas (producto, precio), ordénala por precio de menor a mayor.\n",
    "    Retorna la lista ordenada.\n",
    "    \"\"\""
   ]
  },
  {
   "cell_type": "code",
   "execution_count": 110,
   "id": "a56d2f8d-fb0a-4b7e-9c1a-977a49b7ee7e",
   "metadata": {},
   "outputs": [
    {
     "name": "stdout",
     "output_type": "stream",
     "text": [
      "[('Goma', 3), ('Lápiz', 5), ('Cuaderno', 12), ('Marcatextos', 15)]\n"
     ]
    },
    {
     "data": {
      "text/plain": [
       "[('Cargador', 25), ('Teclado', 40), ('Audífonos', 75), ('IPad', 350)]"
      ]
     },
     "execution_count": 110,
     "metadata": {},
     "output_type": "execute_result"
    }
   ],
   "source": [
    "def ex16_sort_product_price(prod_price_list):\n",
    "    return sorted(prod_price_list, key=lambda x: x[1])\n",
    "productos1 = [(\"Goma\", 3), (\"Marcatextos\", 15), (\"Cuaderno\", 12), (\"Lápiz\", 5)]\n",
    "print(ex16_sort_product_price(productos1))\n",
    "productos2 = [(\"Audífonos\", 75), (\"Cargador\", 25), (\"IPad\", 350), (\"Teclado\", 40)]\n",
    "(ex16_sort_product_price(productos2))"
   ]
  },
  {
   "cell_type": "markdown",
   "id": "7da47469-67ac-4eae-b0fb-5633bd6ccbe6",
   "metadata": {},
   "source": [
    "# Ejercicio 17:\n",
    "    Cuenta la frecuencia de cada carácter en una cadena usando un diccionario.\n",
    "    Retorna un diccionario {carácter: frecuencia}.\n",
    "    \"\"\""
   ]
  },
  {
   "cell_type": "code",
   "execution_count": 115,
   "id": "21690730-0d27-4477-86ca-e4004dfb71c6",
   "metadata": {},
   "outputs": [
    {
     "data": {
      "text/plain": [
       "{'T': 1,\n",
       " 'e': 3,\n",
       " 'n': 2,\n",
       " 'g': 2,\n",
       " 'o': 5,\n",
       " ' ': 5,\n",
       " 'a': 4,\n",
       " 's': 2,\n",
       " 'd': 2,\n",
       " 'c': 1,\n",
       " 'm': 1,\n",
       " 'r': 1,\n",
       " 'p': 1,\n",
       " 'l': 2}"
      ]
     },
     "execution_count": 115,
     "metadata": {},
     "output_type": "execute_result"
    }
   ],
   "source": [
    "def ex17_char_frequency(s):\n",
    "    freq = {}  \n",
    "    for char in s:\n",
    "        if char in freq:\n",
    "            freq[char] += 1\n",
    "        else:\n",
    "            freq[char] = 1\n",
    "    return freq\n",
    "frecuencia = \"Tengo ganas de comer pollo asado\"\n",
    "(ex17_char_frequency(frecuencia))"
   ]
  },
  {
   "cell_type": "markdown",
   "id": "c2bd3d41-d29a-49b7-86ca-83e8973d1172",
   "metadata": {},
   "source": [
    "#  Ejercicio 18:\n",
    "    Dado un diccionario {alumno: calificación}, devuelve al mejor estudiante.\n",
    "    Retorna una tupla (nombre, calificación).\n",
    "    \"\"\""
   ]
  },
  {
   "cell_type": "code",
   "execution_count": 114,
   "id": "2741c9d0-7561-4658-a38e-a047e44b4168",
   "metadata": {},
   "outputs": [
    {
     "data": {
      "text/plain": [
       "('Carlos2', 99.8)"
      ]
     },
     "execution_count": 114,
     "metadata": {},
     "output_type": "execute_result"
    }
   ],
   "source": [
    "def ex18_best_student(grades_dict):\n",
    "    return max(grades_dict.items(), key=lambda x: x[1])\n",
    "grades_dict= {\"Diego\": 85.5, \"Sebastián\": 92.6, \"Carlos\": 78.0, \"Valeria\":67.1, \"Carlos2\": 99.8, \"Marco\": 99.6, \"Santiago\": 89.9}\n",
    "(ex18_best_student(grades_dict))\n"
   ]
  },
  {
   "cell_type": "markdown",
   "id": "531a78aa-a4f9-4600-bb95-237b60aeb76b",
   "metadata": {},
   "source": [
    "# Ejercicio 19:\n",
    "    Invierte un diccionario, intercambiando claves y valores.\n",
    "    Retorna el diccionario invertido.\n",
    "    \"\"\""
   ]
  },
  {
   "cell_type": "code",
   "execution_count": 116,
   "id": "0a99a13b-205e-4923-8dd3-7a71709812cd",
   "metadata": {},
   "outputs": [
    {
     "data": {
      "text/plain": [
       "{'Primer lugar': 'ANA',\n",
       " 'Segundo lugar': 'Sofía',\n",
       " 'Tercer lugar': 'Juan Carlos'}"
      ]
     },
     "execution_count": 116,
     "metadata": {},
     "output_type": "execute_result"
    }
   ],
   "source": [
    "def ex19_invert_dictionary(d):\n",
    "    return {v: k for k, v in d.items()}\n",
    "d= {\"ANA\": \"Primer lugar\", \"Sofía\": \"Segundo lugar\", \"Juan Carlos\": \"Tercer lugar\"}\n",
    "(ex19_invert_dictionary(d))"
   ]
  },
  {
   "cell_type": "markdown",
   "id": "e66df29c-6a86-4d23-8af5-d03625723dcc",
   "metadata": {},
   "source": [
    "# Ejercicio 20:\n",
    "    Fusiona dos diccionarios sumando los valores de las claves que se repitan. \n",
    "    Devuelve el diccionario resultante.\n",
    "    \"\"\""
   ]
  },
  {
   "cell_type": "code",
   "execution_count": 120,
   "id": "ad83f7e0-33c1-4e04-b08d-1cc4b15eab7e",
   "metadata": {},
   "outputs": [
    {
     "data": {
      "text/plain": [
       "{'a': 6, 'b': 12.5, 'c': 12.9, 'd': 6}"
      ]
     },
     "execution_count": 120,
     "metadata": {},
     "output_type": "execute_result"
    }
   ],
   "source": [
    "def ex20_merge_dicts_sum_values(d1, d2):\n",
    "    claves = d1.copy()  \n",
    "    for k, v in d2.items():\n",
    "        if k in claves:\n",
    "            claves[k] += v\n",
    "        else:\n",
    "            claves[k] = v\n",
    "    return claves\n",
    "d1 = {\"a\": 6, \"b\": 6.5, \"c\": 6.0}\n",
    "d2= {\"b\": 6, \"c\": 6.9, \"d\": 6}\n",
    "(ex20_merge_dicts_sum_values(d1, d2))"
   ]
  },
  {
   "cell_type": "markdown",
   "id": "6a939477-7cd8-46eb-8c5e-b488f05f4943",
   "metadata": {},
   "source": [
    "#  Ejercicio 21:\n",
    "    Crea un arreglo de NumPy de 10 ceros y cambia el quinto elemento (índice 4) a 1.\n",
    "    Retorna el array resultante.\n",
    "    \"\"\""
   ]
  },
  {
   "cell_type": "code",
   "execution_count": 121,
   "id": "a4f7f7fa-68f4-4503-a7ba-acadbf297bba",
   "metadata": {},
   "outputs": [
    {
     "data": {
      "text/plain": [
       "array([0., 0., 0., 0., 1., 0., 0., 0., 0., 0.])"
      ]
     },
     "execution_count": 121,
     "metadata": {},
     "output_type": "execute_result"
    }
   ],
   "source": [
    "def ex21_numpy_array_set_fifth():\n",
    "    arr = np.zeros(10) \n",
    "    arr[4] = 1           \n",
    "    return arr\n",
    "(ex21_numpy_array_set_fifth())"
   ]
  },
  {
   "cell_type": "markdown",
   "id": "b5615b96-8c2f-4d80-9d98-898177be1371",
   "metadata": {},
   "source": [
    "# Ejercicio 22:\n",
    "    Genera una matriz 3x3 con los valores del 0 al 8. \n",
    "    Retorna la matriz como array de NumPy.\n",
    "    \"\"\""
   ]
  },
  {
   "cell_type": "code",
   "execution_count": 122,
   "id": "efc8a369-b1c3-4fc5-adc5-87a15b761ea5",
   "metadata": {},
   "outputs": [
    {
     "data": {
      "text/plain": [
       "array([[0, 1, 2],\n",
       "       [3, 4, 5],\n",
       "       [6, 7, 8]])"
      ]
     },
     "execution_count": 122,
     "metadata": {},
     "output_type": "execute_result"
    }
   ],
   "source": [
    "def ex22_numpy_matrix_3x3():\n",
    "    matrix = np.arange(9).reshape(3, 3)\n",
    "    return matrix\n",
    "(ex22_numpy_matrix_3x3())\n"
   ]
  },
  {
   "cell_type": "markdown",
   "id": "2ad72ef4-c8c5-4231-b128-0883f6adf7ee",
   "metadata": {},
   "source": [
    "#  Ejercicio 23:\n",
    "    Genera un array aleatorio de 20 enteros y calcula la media, mediana y desviación estándar.\n",
    "    Retorna una tupla (media, mediana, desviación estándar).\n",
    "    \"\"\""
   ]
  },
  {
   "cell_type": "code",
   "execution_count": 124,
   "id": "c5ca4f0d-93f7-43c1-87ea-64f6617066eb",
   "metadata": {},
   "outputs": [
    {
     "data": {
      "text/plain": [
       "(np.float64(52.45), np.float64(61.0), np.float64(34.607044080649246))"
      ]
     },
     "execution_count": 124,
     "metadata": {},
     "output_type": "execute_result"
    }
   ],
   "source": [
    "def ex23_numpy_statistics():\n",
    "    array = np.random.randint(1, 101, size=20)  \n",
    "    media = np.mean(array)\n",
    "    mediana = np.median(array)\n",
    "    desviacion_estandar = np.std(array)\n",
    "    return (media, mediana, desviacion_estandar)\n",
    "(ex23_numpy_statistics())"
   ]
  },
  {
   "cell_type": "markdown",
   "id": "6e45877e-2a1e-4677-a6d5-a9813224f0b6",
   "metadata": {},
   "source": [
    "# Ejercicio 24:\n",
    "    Dado un array (o lista) de números, reemplaza todos los valores mayores que 10 por 10\n",
    "    (es decir, limita/\"clip\" los valores máximos).\n",
    "    Retorna el array modificado.\n",
    "    \"\"\""
   ]
  },
  {
   "cell_type": "code",
   "execution_count": 126,
   "id": "8c3c7283-ad35-458a-9280-bd02d4d6e691",
   "metadata": {},
   "outputs": [
    {
     "data": {
      "text/plain": [
       "array([ 3,  7, 10,  5, 10,  9])"
      ]
     },
     "execution_count": 126,
     "metadata": {},
     "output_type": "execute_result"
    }
   ],
   "source": [
    "def ex24_numpy_clip_values(arr):\n",
    "    lista = np.array(arr)  \n",
    "    lista_clipped = np.clip(arr, None, 10)  \n",
    "    return lista_clipped\n",
    "(ex24_numpy_clip_values([3, 7, 12, 5, 15, 9]))"
   ]
  },
  {
   "cell_type": "markdown",
   "id": "023a7ead-5e6f-496f-9392-62521bb651df",
   "metadata": {},
   "source": [
    "#  Ejercicio 25:\n",
    "    Crea un DataFrame con columnas 'Nombre', 'Edad' y 'Ciudad'.\n",
    "    Filtra y retorna solo las filas con `Edad` > 30.\n",
    "    \"\"\""
   ]
  },
  {
   "cell_type": "code",
   "execution_count": 127,
   "id": "4ddfba83-c9a9-4760-8c37-840ec35fdb83",
   "metadata": {},
   "outputs": [
    {
     "data": {
      "text/html": [
       "<div>\n",
       "<style scoped>\n",
       "    .dataframe tbody tr th:only-of-type {\n",
       "        vertical-align: middle;\n",
       "    }\n",
       "\n",
       "    .dataframe tbody tr th {\n",
       "        vertical-align: top;\n",
       "    }\n",
       "\n",
       "    .dataframe thead th {\n",
       "        text-align: right;\n",
       "    }\n",
       "</style>\n",
       "<table border=\"1\" class=\"dataframe\">\n",
       "  <thead>\n",
       "    <tr style=\"text-align: right;\">\n",
       "      <th></th>\n",
       "      <th>Nombre</th>\n",
       "      <th>Edad</th>\n",
       "      <th>Ciudad</th>\n",
       "    </tr>\n",
       "  </thead>\n",
       "  <tbody>\n",
       "    <tr>\n",
       "      <th>2</th>\n",
       "      <td>Gustavo</td>\n",
       "      <td>60</td>\n",
       "      <td>Guadalajara</td>\n",
       "    </tr>\n",
       "    <tr>\n",
       "      <th>4</th>\n",
       "      <td>Araceli</td>\n",
       "      <td>58</td>\n",
       "      <td>Toluca</td>\n",
       "    </tr>\n",
       "  </tbody>\n",
       "</table>\n",
       "</div>"
      ],
      "text/plain": [
       "    Nombre  Edad       Ciudad\n",
       "2  Gustavo    60  Guadalajara\n",
       "4  Araceli    58       Toluca"
      ]
     },
     "execution_count": 127,
     "metadata": {},
     "output_type": "execute_result"
    }
   ],
   "source": [
    "def ex25_filter_rows_age_over_30():\n",
    "    df = pd.DataFrame({\n",
    "        \"Nombre\": [\"Sofía\", \"Carlos\", \"Gustavo\", \"Fernanda\", \"Araceli\"],\n",
    "        \"Edad\": [24, 21, 60, 18, 58],\n",
    "        \"Ciudad\": [\"CDMX\", \"Monterrey\", \"Guadalajara\", \"Puebla\", \"Toluca\"]\n",
    "    })\n",
    "    df_filtrado = df[df[\"Edad\"] > 30]\n",
    "    return df_filtrado\n",
    "(ex25_filter_rows_age_over_30())"
   ]
  },
  {
   "cell_type": "markdown",
   "id": "64a82e15-235a-4134-9760-a5a6500f48c3",
   "metadata": {},
   "source": [
    "#  Ejercicio 26:\n",
    "    Carga un diccionario en un DataFrame (por ejemplo {'Nombre': [...], 'Puntaje': [...]})\n",
    "    y ordénalo por la columna de puntaje de mayor a menor.\n",
    "    Retorna el DataFrame ordenado.\n",
    "    \"\"\""
   ]
  },
  {
   "cell_type": "code",
   "execution_count": 128,
   "id": "359fd8ee-db3e-41a9-b945-2fbdfd19542a",
   "metadata": {},
   "outputs": [
    {
     "data": {
      "text/html": [
       "<div>\n",
       "<style scoped>\n",
       "    .dataframe tbody tr th:only-of-type {\n",
       "        vertical-align: middle;\n",
       "    }\n",
       "\n",
       "    .dataframe tbody tr th {\n",
       "        vertical-align: top;\n",
       "    }\n",
       "\n",
       "    .dataframe thead th {\n",
       "        text-align: right;\n",
       "    }\n",
       "</style>\n",
       "<table border=\"1\" class=\"dataframe\">\n",
       "  <thead>\n",
       "    <tr style=\"text-align: right;\">\n",
       "      <th></th>\n",
       "      <th>Nombre</th>\n",
       "      <th>Puntaje</th>\n",
       "    </tr>\n",
       "  </thead>\n",
       "  <tbody>\n",
       "    <tr>\n",
       "      <th>0</th>\n",
       "      <td>Sofía</td>\n",
       "      <td>100</td>\n",
       "    </tr>\n",
       "    <tr>\n",
       "      <th>1</th>\n",
       "      <td>Carlos</td>\n",
       "      <td>95</td>\n",
       "    </tr>\n",
       "    <tr>\n",
       "      <th>6</th>\n",
       "      <td>Yanin</td>\n",
       "      <td>89</td>\n",
       "    </tr>\n",
       "    <tr>\n",
       "      <th>3</th>\n",
       "      <td>Fernanda</td>\n",
       "      <td>80</td>\n",
       "    </tr>\n",
       "    <tr>\n",
       "      <th>4</th>\n",
       "      <td>Araceli</td>\n",
       "      <td>72</td>\n",
       "    </tr>\n",
       "    <tr>\n",
       "      <th>2</th>\n",
       "      <td>Gustavo</td>\n",
       "      <td>70</td>\n",
       "    </tr>\n",
       "    <tr>\n",
       "      <th>5</th>\n",
       "      <td>Jorge</td>\n",
       "      <td>50</td>\n",
       "    </tr>\n",
       "  </tbody>\n",
       "</table>\n",
       "</div>"
      ],
      "text/plain": [
       "     Nombre  Puntaje\n",
       "0     Sofía      100\n",
       "1    Carlos       95\n",
       "6     Yanin       89\n",
       "3  Fernanda       80\n",
       "4   Araceli       72\n",
       "2   Gustavo       70\n",
       "5     Jorge       50"
      ]
     },
     "execution_count": 128,
     "metadata": {},
     "output_type": "execute_result"
    }
   ],
   "source": [
    "def ex26_load_dict_into_dataframe_and_sort():\n",
    "    datos = {\n",
    "        \"Nombre\":[\"Sofía\", \"Carlos\", \"Gustavo\", \"Fernanda\", \"Araceli\", \"Jorge\", \"Yanin\"],\n",
    "        \"Puntaje\": [100, 95, 70, 80, 72, 50, 89]\n",
    "    }\n",
    "    df = pd.DataFrame(datos)\n",
    "    df_ordenado = df.sort_values(by=\"Puntaje\", ascending=False)\n",
    "    return df_ordenado\n",
    "(ex26_load_dict_into_dataframe_and_sort())"
   ]
  },
  {
   "cell_type": "markdown",
   "id": "69705ab6-8b1a-4abb-922f-845ad6578aaa",
   "metadata": {},
   "source": [
    "# Ejercicio 27:\n",
    "    Dado un DataFrame con columnas 'Grupo' y 'Valor', calcula el promedio de 'Valor'\n",
    "    por cada 'Grupo' usando groupby. \n",
    "    Retorna el DataFrame agrupado con promedios.\n",
    "    \"\"\""
   ]
  },
  {
   "cell_type": "code",
   "execution_count": 129,
   "id": "147c90fd-6d96-441d-9341-93d9c6b4f578",
   "metadata": {},
   "outputs": [
    {
     "data": {
      "text/html": [
       "<div>\n",
       "<style scoped>\n",
       "    .dataframe tbody tr th:only-of-type {\n",
       "        vertical-align: middle;\n",
       "    }\n",
       "\n",
       "    .dataframe tbody tr th {\n",
       "        vertical-align: top;\n",
       "    }\n",
       "\n",
       "    .dataframe thead th {\n",
       "        text-align: right;\n",
       "    }\n",
       "</style>\n",
       "<table border=\"1\" class=\"dataframe\">\n",
       "  <thead>\n",
       "    <tr style=\"text-align: right;\">\n",
       "      <th></th>\n",
       "      <th>Grupo</th>\n",
       "      <th>Valor</th>\n",
       "    </tr>\n",
       "  </thead>\n",
       "  <tbody>\n",
       "    <tr>\n",
       "      <th>0</th>\n",
       "      <td>A</td>\n",
       "      <td>12.0</td>\n",
       "    </tr>\n",
       "    <tr>\n",
       "      <th>1</th>\n",
       "      <td>B</td>\n",
       "      <td>40.0</td>\n",
       "    </tr>\n",
       "    <tr>\n",
       "      <th>2</th>\n",
       "      <td>C</td>\n",
       "      <td>47.5</td>\n",
       "    </tr>\n",
       "    <tr>\n",
       "      <th>3</th>\n",
       "      <td>D</td>\n",
       "      <td>37.5</td>\n",
       "    </tr>\n",
       "    <tr>\n",
       "      <th>4</th>\n",
       "      <td>E</td>\n",
       "      <td>35.0</td>\n",
       "    </tr>\n",
       "  </tbody>\n",
       "</table>\n",
       "</div>"
      ],
      "text/plain": [
       "  Grupo  Valor\n",
       "0     A   12.0\n",
       "1     B   40.0\n",
       "2     C   47.5\n",
       "3     D   37.5\n",
       "4     E   35.0"
      ]
     },
     "execution_count": 129,
     "metadata": {},
     "output_type": "execute_result"
    }
   ],
   "source": [
    "def ex27_groupby_mean_value():\n",
    "    df = pd.DataFrame({\n",
    "        \"Grupo\": [\"A\", \"B\", \"C\", \"D\", \"E\", \"E\", \"D\", \"C\", \"B\", \"A\"],\n",
    "        \"Valor\": [10, 20, 15, 25, 30, 40, 50, 80, 60, 14 ]\n",
    "    })\n",
    "    df_promedio = df.groupby(\"Grupo\", as_index=False)[\"Valor\"].mean()\n",
    "    return df_promedio\n",
    "(ex27_groupby_mean_value())\n"
   ]
  },
  {
   "cell_type": "markdown",
   "id": "f9ccf43a-4133-4f56-8bff-709246068892",
   "metadata": {},
   "source": [
    "#  Ejercicio 28:\n",
    "    Dado un DataFrame de ventas con columnas 'Producto' y 'Cantidad', determina cuál\n",
    "    es el producto con la mayor suma total de 'Cantidad' (es decir, el más vendido).\n",
    "    Retorna una tupla (Producto, Ventas).\n",
    "    \"\"\""
   ]
  },
  {
   "cell_type": "code",
   "execution_count": 130,
   "id": "b3fc872d-153a-48ad-beb1-176c831f9004",
   "metadata": {},
   "outputs": [
    {
     "data": {
      "text/plain": [
       "('Cuaderno', np.int64(13))"
      ]
     },
     "execution_count": 130,
     "metadata": {},
     "output_type": "execute_result"
    }
   ],
   "source": [
    "def ex28_most_sold_product_from_sales_df():\n",
    "    df = pd.DataFrame({\n",
    "        \"Producto\": [\"Cuaderno\", \"Mochila\", \"Cuaderno\", \"Mochila\", \"Libro\"],\n",
    "        \"Cantidad\": [5, 10, 8, 3, 7]\n",
    "    })\n",
    "    ventas= df.groupby(\"Producto\")[\"Cantidad\"].sum()\n",
    "    mas_ventas= ventas.idxmax()\n",
    "    cantidad_vendida = ventas.max()\n",
    "    return (mas_ventas, cantidad_vendida)\n",
    "(ex28_most_sold_product_from_sales_df())\n"
   ]
  },
  {
   "cell_type": "markdown",
   "id": "047320cd-6495-440e-b4c2-5aaaf18aa5ea",
   "metadata": {},
   "source": [
    "#  Ejercicio 29:\n",
    "    Usa map junto con una función lambda para elevar al cubo cada número en una lista.\n",
    "    Devuelve la lista resultante.\n",
    "    \"\"\""
   ]
  },
  {
   "cell_type": "code",
   "execution_count": 131,
   "id": "4308ef07-5e69-4b5e-bdb1-42c66f61a020",
   "metadata": {},
   "outputs": [
    {
     "data": {
      "text/plain": [
       "[8, 64, 216, 512, 1000, 1728, 15625, 21484952, 0]"
      ]
     },
     "execution_count": 131,
     "metadata": {},
     "output_type": "execute_result"
    }
   ],
   "source": [
    "def ex29_map_lambda_cube(lst):\n",
    "    elevacion_al_cubo= list(map(lambda x: x**3, lst))\n",
    "    return elevacion_al_cubo\n",
    "(ex29_map_lambda_cube([2, 4, 6, 8, 10, 12, 25, 278, 0]))\n"
   ]
  },
  {
   "cell_type": "markdown",
   "id": "64a7dca2-e399-4bcf-aacd-0be8c453c909",
   "metadata": {},
   "source": [
    "#  Ejercicio 30:\n",
    "    Usa filter y una lambda para quedarte sólo con los números pares de una lista.\n",
    "    Devuelve la lista filtrada.\n",
    "    \"\"\""
   ]
  },
  {
   "cell_type": "code",
   "execution_count": 132,
   "id": "1138decb-206c-422d-9a0d-8798979bf5c4",
   "metadata": {},
   "outputs": [
    {
     "data": {
      "text/plain": [
       "[10, 8, 6, 4, 2, 0]"
      ]
     },
     "execution_count": 132,
     "metadata": {},
     "output_type": "execute_result"
    }
   ],
   "source": [
    "def ex30_filter_lambda_even(lst):\n",
    "    pares = list(filter(lambda x: x % 2 == 0, lst))\n",
    "    return pares\n",
    "(ex30_filter_lambda_even([10, 9, 8, 7, 6, 5, 4, 3, 2, 1, 0]))\n"
   ]
  },
  {
   "cell_type": "markdown",
   "id": "6654c40f-28a3-4f8b-a35d-5a4a54fec150",
   "metadata": {},
   "source": [
    "#   Ejercicio 31:\n",
    "    Dada una lista de diccionarios, ordénala por el valor asociado a 'keyname' usando\n",
    "    sorted con una lambda. Devuelve la lista ordenada.\n",
    "    \"\"\""
   ]
  },
  {
   "cell_type": "code",
   "execution_count": 134,
   "id": "d7073503-7f7b-4acc-b371-f0f613306c1e",
   "metadata": {},
   "outputs": [
    {
     "data": {
      "text/plain": [
       "[{'Nombre': 'Kenya', 'Edad': 18},\n",
       " {'Nombre': 'Meche', 'Edad': 19},\n",
       " {'Nombre': 'Paola', 'Edad': 21},\n",
       " {'Nombre': 'Luis', 'Edad': 30}]"
      ]
     },
     "execution_count": 134,
     "metadata": {},
     "output_type": "execute_result"
    }
   ],
   "source": [
    "def ex31_sort_list_of_dicts_by_key(lst, keyname):\n",
    "    return sorted(lst, key=lambda x: x[keyname])\n",
    "lista = [\n",
    "    {\"Nombre\": \"Kenya\", \"Edad\": 18},\n",
    "    {\"Nombre\": \"Luis\", \"Edad\": 30},\n",
    "    {\"Nombre\": \"Paola\", \"Edad\": 21},\n",
    "    {\"Nombre\": \"Meche\", \"Edad\": 19}\n",
    "]\n",
    "(ex31_sort_list_of_dicts_by_key(lista, \"Edad\"))\n"
   ]
  },
  {
   "cell_type": "markdown",
   "id": "4c21672a-c469-4312-89bf-d534a44fd6d9",
   "metadata": {},
   "source": [
    "#  Ejercicio 32:\n",
    "    Crea un DataFrame con una columna 'Nombre' a partir de names_list y usa apply con\n",
    "    una función lambda para crear una nueva columna con los nombres en mayúsculas.\n",
    "    Devuelve el DataFrame modificado.\n",
    "    \"\"\""
   ]
  },
  {
   "cell_type": "code",
   "execution_count": 135,
   "id": "352edc56-a7df-447b-a2e4-06cedc51148f",
   "metadata": {},
   "outputs": [
    {
     "data": {
      "text/html": [
       "<div>\n",
       "<style scoped>\n",
       "    .dataframe tbody tr th:only-of-type {\n",
       "        vertical-align: middle;\n",
       "    }\n",
       "\n",
       "    .dataframe tbody tr th {\n",
       "        vertical-align: top;\n",
       "    }\n",
       "\n",
       "    .dataframe thead th {\n",
       "        text-align: right;\n",
       "    }\n",
       "</style>\n",
       "<table border=\"1\" class=\"dataframe\">\n",
       "  <thead>\n",
       "    <tr style=\"text-align: right;\">\n",
       "      <th></th>\n",
       "      <th>Nombre</th>\n",
       "      <th>Nombre_Mayus</th>\n",
       "    </tr>\n",
       "  </thead>\n",
       "  <tbody>\n",
       "    <tr>\n",
       "      <th>0</th>\n",
       "      <td>lourdes</td>\n",
       "      <td>LOURDES</td>\n",
       "    </tr>\n",
       "    <tr>\n",
       "      <th>1</th>\n",
       "      <td>marco</td>\n",
       "      <td>MARCO</td>\n",
       "    </tr>\n",
       "    <tr>\n",
       "      <th>2</th>\n",
       "      <td>ricardo</td>\n",
       "      <td>RICARDO</td>\n",
       "    </tr>\n",
       "    <tr>\n",
       "      <th>3</th>\n",
       "      <td>claudia</td>\n",
       "      <td>CLAUDIA</td>\n",
       "    </tr>\n",
       "  </tbody>\n",
       "</table>\n",
       "</div>"
      ],
      "text/plain": [
       "    Nombre Nombre_Mayus\n",
       "0  lourdes      LOURDES\n",
       "1    marco        MARCO\n",
       "2  ricardo      RICARDO\n",
       "3  claudia      CLAUDIA"
      ]
     },
     "execution_count": 135,
     "metadata": {},
     "output_type": "execute_result"
    }
   ],
   "source": [
    "def ex32_pandas_apply_lambda_uppercase(names_list):\n",
    "    df = pd.DataFrame({\"Nombre\": names_list})\n",
    "    df[\"Nombre_Mayus\"] = df[\"Nombre\"].apply(lambda x: x.upper())\n",
    "    return df\n",
    "Nombre = [\"lourdes\", \"marco\", \"ricardo\", \"claudia\"]\n",
    "(ex32_pandas_apply_lambda_uppercase(Nombre))\n"
   ]
  },
  {
   "cell_type": "code",
   "execution_count": null,
   "id": "d17c9223-aff7-4027-becb-4b0faacbdee0",
   "metadata": {},
   "outputs": [],
   "source": []
  }
 ],
 "metadata": {
  "kernelspec": {
   "display_name": "Python 3 (ipykernel)",
   "language": "python",
   "name": "python3"
  },
  "language_info": {
   "codemirror_mode": {
    "name": "ipython",
    "version": 3
   },
   "file_extension": ".py",
   "mimetype": "text/x-python",
   "name": "python",
   "nbconvert_exporter": "python",
   "pygments_lexer": "ipython3",
   "version": "3.13.7"
  }
 },
 "nbformat": 4,
 "nbformat_minor": 5
}
