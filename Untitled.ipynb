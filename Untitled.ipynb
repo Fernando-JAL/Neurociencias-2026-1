{
 "cells": [
  {
   "cell_type": "code",
   "execution_count": null,
   "id": "84a71c5b-365d-4473-8dc5-3e79856215d7",
   "metadata": {},
   "outputs": [],
   "source": [
    "#Ejerccios \n",
    "1.Crear una funcion que cuente las vocales de un string y regrese docho numero \n",
    "2. Crear una funcion que determine si un numero es par o impar e imprima si es par o impar\n",
    "3. Crear una funcion para convertir de grados celcius a grados fahrenheit, dicha funcion recibira la temperatura en grados celcius y debera regresar ls grado sfarenheit \n",
    "4. Crear una funcion que reciba un entero y devuelva la suma de sus digitos \n",
    "5. Crear una funcion que cunete las palabras de un string y devuleva dicho numero \n",
    "6. Crear una funcion que reciba una lista con al menos 3 enteros y regrese el minimo de todos los numeros de la lista\n",
    "7. Crear una funcion que reciba dos string (frase, letra) y cuenta cuantas veces aparece la letra en la frase y regrese ese numero \n",
    "8. Crear una funcion que reciba un string y cambien todas las minusculas a mayusculas y las mayuscilas a minusculas.\n",
    "9.Crear una funcion que reciba un string y eleimine todos los espacio y regrese el strimg sin espacios \n"
   ]
  },
  {
   "cell_type": "code",
   "execution_count": 1,
   "id": "51a30231-fd74-437d-b700-a25ce8e2732f",
   "metadata": {},
   "outputs": [
    {
     "ename": "SyntaxError",
     "evalue": "incomplete input (4008425739.py, line 3)",
     "output_type": "error",
     "traceback": [
      "\u001b[1;36m  Cell \u001b[1;32mIn[1], line 3\u001b[1;36m\u001b[0m\n\u001b[1;33m    \u001b[0m\n\u001b[1;37m    ^\u001b[0m\n\u001b[1;31mSyntaxError\u001b[0m\u001b[1;31m:\u001b[0m incomplete input\n"
     ]
    }
   ],
   "source": [
    "def contar_vocales(cadena):\n",
    "    vocales= \"aeiouAEIOU\"\n",
    "    return sum(1 for letra in cadena if letra in vocales)"
   ]
  },
  {
   "cell_type": "code",
   "execution_count": null,
   "id": "b85c8cde-aa4e-4c5c-8760-01686afe2af8",
   "metadata": {},
   "outputs": [],
   "source": [
    "numero=input(\"digite el numero par o impar:\")\n",
    "\n",
    "calculo=numero/2\n",
    "if numero % 2 == 0:\n",
    "    print(\"El numero es par\")\n",
    "else print(\"el numero es impar\")\n"
   ]
  },
  {
   "cell_type": "code",
   "execution_count": null,
   "id": "2babc84c-5019-4e20-87a8-a821d81ad261",
   "metadata": {},
   "outputs": [],
   "source": [
    "Grados=int(input(\"ingresa la temperatura en grados Celcius\"))\n",
    "Operacion= Grados + 32\n",
    "print(\"Los grados en fahrenheit son:\",Operacion) "
   ]
  },
  {
   "cell_type": "code",
   "execution_count": 2,
   "id": "674ceaa7-d38a-45aa-9705-66ec32e1853a",
   "metadata": {},
   "outputs": [
    {
     "ename": "IndentationError",
     "evalue": "expected an indented block after function definition on line 1 (662715338.py, line 2)",
     "output_type": "error",
     "traceback": [
      "\u001b[1;36m  Cell \u001b[1;32mIn[2], line 2\u001b[1;36m\u001b[0m\n\u001b[1;33m    str_n=str(n)\u001b[0m\n\u001b[1;37m    ^\u001b[0m\n\u001b[1;31mIndentationError\u001b[0m\u001b[1;31m:\u001b[0m expected an indented block after function definition on line 1\n"
     ]
    }
   ],
   "source": [
    "\n",
    "def sumar_digitos(n):\n",
    "    str_n=str(n)\n",
    "    total=0\n",
    "    for digito in str_n:\n",
    "        total += int (digito) \n",
    "\n",
    "    return total\n",
    "    sumar_digitos(123)\n",
    "\n"
   ]
  },
  {
   "cell_type": "code",
   "execution_count": null,
   "id": "5956b4c7-5b31-45aa-b938-a716549caa7c",
   "metadata": {},
   "outputs": [],
   "source": [
    "5. Crear una funcion que cunete las palabras de un string y devuleva dicho numero\n",
    "string=input(\"Digite un string\")\n",
    "print(len(string))\n"
   ]
  },
  {
   "cell_type": "code",
   "execution_count": null,
   "id": "4ea52735-50a7-427d-bef2-ffb6347a51dc",
   "metadata": {},
   "outputs": [],
   "source": [
    "# 6. Crear una funcion que reciba una lista con al menos 3 enteros y regrese el minimo de todos los numeros de la lista.\n",
    "numero=input(\n"
   ]
  }
 ],
 "metadata": {
  "kernelspec": {
   "display_name": "Python 3 (ipykernel)",
   "language": "python",
   "name": "python3"
  },
  "language_info": {
   "codemirror_mode": {
    "name": "ipython",
    "version": 3
   },
   "file_extension": ".py",
   "mimetype": "text/x-python",
   "name": "python",
   "nbconvert_exporter": "python",
   "pygments_lexer": "ipython3",
   "version": "3.10.7"
  }
 },
 "nbformat": 4,
 "nbformat_minor": 5
}
