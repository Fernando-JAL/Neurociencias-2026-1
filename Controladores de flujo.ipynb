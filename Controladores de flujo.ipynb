{
 "cells": [
  {
   "cell_type": "code",
   "execution_count": 4,
   "id": "70429687-e50a-4a63-9bee-6880647260d9",
   "metadata": {},
   "outputs": [
    {
     "name": "stdout",
     "output_type": "stream",
     "text": [
      "a en lista\n",
      "hay que seguirle\n"
     ]
    }
   ],
   "source": [
    "lista = [5,7,9,10]\n",
    "a,b = 5, 17\n",
    "\n",
    "if a in lista:\n",
    "    print('a en lista')\n",
    "elif a % 2 == 0:\n",
    "    print('a es par')\n",
    "else:\n",
    "    print('nada')\n",
    "\n",
    "print('hay que seguirle')"
   ]
  },
  {
   "cell_type": "code",
   "execution_count": null,
   "id": "f1ebe88a-a7bc-404b-aa8c-a1abb8b56b31",
   "metadata": {},
   "outputs": [],
   "source": []
  },
  {
   "cell_type": "code",
   "execution_count": null,
   "id": "8d606125-b7c0-4dea-95c7-06b34a8e3471",
   "metadata": {},
   "outputs": [],
   "source": []
  },
  {
   "cell_type": "code",
   "execution_count": null,
   "id": "c28f3add-6480-4ee5-87e5-0181de452a03",
   "metadata": {},
   "outputs": [],
   "source": []
  },
  {
   "cell_type": "code",
   "execution_count": null,
   "id": "30d0acd3-75bc-425f-925c-183df8e7651b",
   "metadata": {},
   "outputs": [],
   "source": []
  },
  {
   "cell_type": "code",
   "execution_count": null,
   "id": "94cbce43-15da-43a1-9cad-0785bf2a669d",
   "metadata": {},
   "outputs": [],
   "source": []
  },
  {
   "cell_type": "code",
   "execution_count": null,
   "id": "5a9c9d63-2bf3-4475-969d-984ab062c96e",
   "metadata": {},
   "outputs": [],
   "source": []
  },
  {
   "cell_type": "code",
   "execution_count": null,
   "id": "9c4f7fd6-5440-4a9e-840e-c18dca909afe",
   "metadata": {},
   "outputs": [],
   "source": []
  }
 ],
 "metadata": {
  "kernelspec": {
   "display_name": "Python 3 (ipykernel)",
   "language": "python",
   "name": "python3"
  },
  "language_info": {
   "codemirror_mode": {
    "name": "ipython",
    "version": 3
   },
   "file_extension": ".py",
   "mimetype": "text/x-python",
   "name": "python",
   "nbconvert_exporter": "python",
   "pygments_lexer": "ipython3",
   "version": "3.13.5"
  }
 },
 "nbformat": 4,
 "nbformat_minor": 5
}
