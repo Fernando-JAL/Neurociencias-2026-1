{
 "cells": [
  {
   "cell_type": "markdown",
   "id": "5e685f29-cb8e-46b8-bb17-48a45d8e9601",
   "metadata": {},
   "source": [
    "# 1. Tipos de datos"
   ]
  },
  {
   "cell_type": "markdown",
   "id": "d7bca5cf-f414-4b45-9fc0-0de9d5bd2210",
   "metadata": {},
   "source": [
    "a) Declara tres variables con valores de tipo int y float y muestra sus tipos."
   ]
  },
  {
   "cell_type": "code",
   "execution_count": 1,
   "id": "cfce320b-2ee0-4576-ba0b-f7b0aaeaf306",
   "metadata": {},
   "outputs": [
    {
     "data": {
      "text/plain": [
       "(int, float)"
      ]
     },
     "execution_count": 1,
     "metadata": {},
     "output_type": "execute_result"
    }
   ],
   "source": [
    "a = 3\n",
    "b = 3.1416\n",
    "type(a), type(b)"
   ]
  },
  {
   "cell_type": "markdown",
   "id": "5f2cefd8-76ae-4e09-9081-228018b437a6",
   "metadata": {},
   "source": [
    "b) Evalúa bool() sobre: 0, \"\", [], {}, \"Python\", 1."
   ]
  },
  {
   "cell_type": "code",
   "execution_count": 2,
   "id": "43a429ee-696a-47a8-97ad-25e19442cb82",
   "metadata": {},
   "outputs": [
    {
     "data": {
      "text/plain": [
       "(False, False, False, False, True, True)"
      ]
     },
     "execution_count": 2,
     "metadata": {},
     "output_type": "execute_result"
    }
   ],
   "source": [
    "bool(0), bool(\"\"), bool([]), bool({}), bool(\"Python\"), bool(1) # 1 y strings siempre son True"
   ]
  },
  {
   "cell_type": "markdown",
   "id": "a1e26cf4-68b2-40d0-80a0-10f3cefd634a",
   "metadata": {},
   "source": [
    "c) Crea una variable x = 3.99 y conviértela en int y en str. ¿Qué cambia?"
   ]
  },
  {
   "cell_type": "code",
   "execution_count": 3,
   "id": "8e49dec9-6d95-492c-aba5-abda187ad872",
   "metadata": {},
   "outputs": [
    {
     "data": {
      "text/plain": [
       "3"
      ]
     },
     "execution_count": 3,
     "metadata": {},
     "output_type": "execute_result"
    }
   ],
   "source": [
    "x = 3.99\n",
    "int(x) # Un float convertido en int trunca el número decimal (no redondea)"
   ]
  },
  {
   "cell_type": "code",
   "execution_count": 4,
   "id": "7331aff3-6c64-4428-b652-286296e061b5",
   "metadata": {},
   "outputs": [
    {
     "data": {
      "text/plain": [
       "'3.99'"
      ]
     },
     "execution_count": 4,
     "metadata": {},
     "output_type": "execute_result"
    }
   ],
   "source": [
    "str(x) # Un float convertido en str aparece entre comillas"
   ]
  },
  {
   "cell_type": "markdown",
   "id": "a8d43b96-3f83-4def-bba3-050d258f0e4b",
   "metadata": {},
   "source": [
    "## Convertir tipos de datos"
   ]
  },
  {
   "cell_type": "markdown",
   "id": "742ea391-bff9-4ba0-9c84-661cca50aeb5",
   "metadata": {},
   "source": [
    "a) Convierte \"100\" en entero y súmale 50."
   ]
  },
  {
   "cell_type": "code",
   "execution_count": 37,
   "id": "97c56757-e322-4268-93d4-b5b23a71ecbf",
   "metadata": {},
   "outputs": [
    {
     "data": {
      "text/plain": [
       "150"
      ]
     },
     "execution_count": 37,
     "metadata": {},
     "output_type": "execute_result"
    }
   ],
   "source": [
    "# \"100\" es un string, no un entero per se\n",
    "int(\"100\")+50"
   ]
  },
  {
   "cell_type": "markdown",
   "id": "7752181a-829d-45cf-858a-0e268688ab17",
   "metadata": {},
   "source": [
    "b) Convierte 45 en string y concaténalo con \" años\"."
   ]
  },
  {
   "cell_type": "code",
   "execution_count": 38,
   "id": "7d58e063-f674-4106-8cf1-b38f64b6ce2f",
   "metadata": {},
   "outputs": [
    {
     "data": {
      "text/plain": [
       "'45 años'"
      ]
     },
     "execution_count": 38,
     "metadata": {},
     "output_type": "execute_result"
    }
   ],
   "source": [
    "str(45)+\" años\""
   ]
  },
  {
   "cell_type": "markdown",
   "id": "a9aac3de-fc95-4301-9631-d2bf2556aab7",
   "metadata": {},
   "source": [
    "c) Convierte \"Anette Solano\" a lista y muestra solo las vocales."
   ]
  },
  {
   "cell_type": "code",
   "execution_count": 39,
   "id": "409714b4-d6c0-4aed-ac1e-4b99e4851f71",
   "metadata": {},
   "outputs": [
    {
     "data": {
      "text/plain": [
       "['A', 'n', 'e', 't', 't', 'e', ' ', 'S', 'o', 'l', 'a', 'n', 'o']"
      ]
     },
     "execution_count": 39,
     "metadata": {},
     "output_type": "execute_result"
    }
   ],
   "source": [
    "lista = list(\"Anette Solano\")\n",
    "lista # Los espacios de un string también son elementos en una lista"
   ]
  },
  {
   "cell_type": "code",
   "execution_count": 40,
   "id": "0265fa74-eeba-4c99-8b00-e11784c1df0c",
   "metadata": {},
   "outputs": [
    {
     "name": "stdout",
     "output_type": "stream",
     "text": [
      "A\n",
      "e\n",
      "e\n",
      "o\n",
      "a\n",
      "o\n"
     ]
    }
   ],
   "source": [
    "for vocal in lista:\n",
    "    if vocal in \"aeiouAEIOU\":\n",
    "        print(vocal)"
   ]
  },
  {
   "cell_type": "markdown",
   "id": "1b3ccc6f-0510-4087-9732-1d51716779ab",
   "metadata": {},
   "source": [
    "# 2. Operaciones matemáticas"
   ]
  },
  {
   "cell_type": "markdown",
   "id": "53a647d5-2c49-4e4b-ad31-dc1f299286cb",
   "metadata": {},
   "source": [
    "a) Calcula el área de un rectángulo con base=12 y altura=8."
   ]
  },
  {
   "cell_type": "code",
   "execution_count": 5,
   "id": "751d7022-38d9-4ad4-8431-1f56981ca348",
   "metadata": {},
   "outputs": [
    {
     "data": {
      "text/plain": [
       "96"
      ]
     },
     "execution_count": 5,
     "metadata": {},
     "output_type": "execute_result"
    }
   ],
   "source": [
    "b = 12\n",
    "h = 8\n",
    "area = b*h\n",
    "area"
   ]
  },
  {
   "cell_type": "markdown",
   "id": "a17258c5-adbb-4229-a588-0096079a60a5",
   "metadata": {},
   "source": [
    "b) Calcula el perímetro de un círculo de radio 5 usando la fórmula 2*π*r (usa math.pi)."
   ]
  },
  {
   "cell_type": "code",
   "execution_count": 6,
   "id": "937958ef-f3b2-48f6-bff0-ba2bf4aa57b3",
   "metadata": {},
   "outputs": [
    {
     "data": {
      "text/plain": [
       "31.41592653589793"
      ]
     },
     "execution_count": 6,
     "metadata": {},
     "output_type": "execute_result"
    }
   ],
   "source": [
    "import math # Para importar math.pi\n",
    "r = 5\n",
    "perimetro = 2*math.pi*r\n",
    "perimetro"
   ]
  },
  {
   "cell_type": "markdown",
   "id": "c42654f3-3a79-4b3c-84d7-1d208308b3a0",
   "metadata": {},
   "source": [
    "c) Divide 100 entre 7 mostrando resultado con / y con //."
   ]
  },
  {
   "cell_type": "code",
   "execution_count": 7,
   "id": "cfb90a55-0b5d-4c5d-8aa6-dcc9f4b08749",
   "metadata": {},
   "outputs": [
    {
     "data": {
      "text/plain": [
       "(14.285714285714286, 14)"
      ]
     },
     "execution_count": 7,
     "metadata": {},
     "output_type": "execute_result"
    }
   ],
   "source": [
    "division_float = 100/7\n",
    "division_int = 100//7\n",
    "division_float, division_int # Es decir, / arroja un float, mientras que // arroja un int"
   ]
  },
  {
   "cell_type": "markdown",
   "id": "1d8e3149-3f1b-49f5-98d7-a4a2a31961fd",
   "metadata": {},
   "source": [
    "d) Calcula el módulo de dividir 37 entre 6."
   ]
  },
  {
   "cell_type": "code",
   "execution_count": 8,
   "id": "d02a6aa9-84f7-4d42-9532-33f4c071bb43",
   "metadata": {},
   "outputs": [
    {
     "data": {
      "text/plain": [
       "1"
      ]
     },
     "execution_count": 8,
     "metadata": {},
     "output_type": "execute_result"
    }
   ],
   "source": [
    "37%6 # Esto equivale a: 37//6 = 6, luego 37-36 = 1 ← módulo"
   ]
  },
  {
   "cell_type": "markdown",
   "id": "62a75fc6-0911-41ac-9760-a7d28f488739",
   "metadata": {},
   "source": [
    "e) Da un ejemplo de potencia y de raíz cuadrada."
   ]
  },
  {
   "cell_type": "code",
   "execution_count": 9,
   "id": "3a9e788a-6bd8-464d-bd9b-c2d80a136239",
   "metadata": {},
   "outputs": [
    {
     "data": {
      "text/plain": [
       "(9, 4.0)"
      ]
     },
     "execution_count": 9,
     "metadata": {},
     "output_type": "execute_result"
    }
   ],
   "source": [
    "3**2, 16**(1/2)"
   ]
  },
  {
   "cell_type": "markdown",
   "id": "503b8538-8d27-4487-a143-dcb56dbf051d",
   "metadata": {},
   "source": [
    "# 3. Strings"
   ]
  },
  {
   "cell_type": "markdown",
   "id": "68b51a3c-c95e-4a3d-8635-57d5a7dabd41",
   "metadata": {},
   "source": [
    "a) Declara palabra = \"Python\" y:\n",
    "- Imprime la primera, tercera y última letra.\n",
    "- Extrae \"Pyt\" y \"hon\".\n",
    "- Inviértela."
   ]
  },
  {
   "cell_type": "code",
   "execution_count": 10,
   "id": "a1a2c1c2-c6cc-40b2-9422-b0e37165438a",
   "metadata": {},
   "outputs": [
    {
     "data": {
      "text/plain": [
       "('P', 't', 'n')"
      ]
     },
     "execution_count": 10,
     "metadata": {},
     "output_type": "execute_result"
    }
   ],
   "source": [
    "string = \"Python\"\n",
    "string[0], string[2], string[5] # Recuerda, inicia desde 0"
   ]
  },
  {
   "cell_type": "code",
   "execution_count": 11,
   "id": "8e7e9fda-ee17-4d5f-9cc1-577cade6dd26",
   "metadata": {},
   "outputs": [
    {
     "name": "stdout",
     "output_type": "stream",
     "text": [
      "Primera letra: P\n"
     ]
    }
   ],
   "source": [
    "# Extra: simplemente para imprimir con un string que diga \"Primera letra:\"\n",
    "print(\"Primera letra:\", string[0])"
   ]
  },
  {
   "cell_type": "code",
   "execution_count": 12,
   "id": "793d2e33-f1a4-4ee2-9b4f-7f7074005e26",
   "metadata": {},
   "outputs": [
    {
     "data": {
      "text/plain": [
       "('Pyt', 'hon')"
      ]
     },
     "execution_count": 12,
     "metadata": {},
     "output_type": "execute_result"
    }
   ],
   "source": [
    "string[:3], string[3:] \n",
    "# string[:3] → toma desde el inicio (índice 0) hasta el índice 3, sin incluirlo\n",
    "# string[3:] → toma desde el índice 3 hasta el final, incluyéndolo"
   ]
  },
  {
   "cell_type": "code",
   "execution_count": 13,
   "id": "e4c72866-79fd-4f5b-82f6-51c25e6671c9",
   "metadata": {},
   "outputs": [
    {
     "data": {
      "text/plain": [
       "'nohtyP'"
      ]
     },
     "execution_count": 13,
     "metadata": {},
     "output_type": "execute_result"
    }
   ],
   "source": [
    "string[::-1] # Recordando el formato \"string[inicio:fin:paso]\" → inicio = ∅ (toma todo), final = ∅ (toma todo), paso = -1 (o sea, n)"
   ]
  },
  {
   "cell_type": "markdown",
   "id": "7f4d35b3-b587-4bd7-859b-599b905a7c8a",
   "metadata": {},
   "source": [
    "b) Crea una frase \"Aprender Python es genial\" y:\n",
    "- Cuenta cuántos caracteres tiene.\n",
    "- Concatena \"!!!\" al final.\n",
    "- Repite 3 veces la palabra \"Python\"."
   ]
  },
  {
   "cell_type": "code",
   "execution_count": 14,
   "id": "88a6eccd-ae4b-4aea-9f8c-e01b2ced798a",
   "metadata": {},
   "outputs": [
    {
     "data": {
      "text/plain": [
       "25"
      ]
     },
     "execution_count": 14,
     "metadata": {},
     "output_type": "execute_result"
    }
   ],
   "source": [
    "string = \"Aprender Pyhton es genial\"\n",
    "len(string) # Cuenta caracteres con espacios"
   ]
  },
  {
   "cell_type": "code",
   "execution_count": 15,
   "id": "cb2e9daa-48a4-4bdb-91db-773e9c44f7ac",
   "metadata": {},
   "outputs": [
    {
     "data": {
      "text/plain": [
       "'Aprender Pyhton es genial!!!'"
      ]
     },
     "execution_count": 15,
     "metadata": {},
     "output_type": "execute_result"
    }
   ],
   "source": [
    "string+\"!!!\""
   ]
  },
  {
   "cell_type": "code",
   "execution_count": 16,
   "id": "80b91503-c53c-415e-8126-5a3174ae2375",
   "metadata": {},
   "outputs": [
    {
     "data": {
      "text/plain": [
       "('PyhtonPyhtonPyhton', 'PyhtonPyhtonPyhton')"
      ]
     },
     "execution_count": 16,
     "metadata": {},
     "output_type": "execute_result"
    }
   ],
   "source": [
    "string[9:15]*3, string.split()[1]*3\n",
    "# split() divide el string por espacios en blanco; [1] significa que toma la segunda palabra"
   ]
  },
  {
   "cell_type": "code",
   "execution_count": 17,
   "id": "87229628-a924-461b-b9ce-6b4eb118f182",
   "metadata": {},
   "outputs": [
    {
     "data": {
      "text/plain": [
       "'PythonPythonPython'"
      ]
     },
     "execution_count": 17,
     "metadata": {},
     "output_type": "execute_result"
    }
   ],
   "source": [
    "# Si por ejemplo, tuviéramos...\n",
    "string = \"Aprender,Python,es,genial\"\n",
    "string.split(',')[1]*3 \n",
    "# split(\",\") divide el string por comas "
   ]
  },
  {
   "cell_type": "markdown",
   "id": "21822de7-59b0-4f30-a1b5-1a755aac8d1b",
   "metadata": {},
   "source": [
    "# 4. Listas"
   ]
  },
  {
   "cell_type": "markdown",
   "id": "145b8b1d-2cf3-43ee-97e6-22c67fdfc9a3",
   "metadata": {},
   "source": [
    "a) Crea lista = [10,20,30,40] y:\n",
    "- Cambia el valor 20 por 25.\n",
    "- Agrega 50.\n",
    "- Elimina el primer elemento.\n",
    "- Muestra el último elemento."
   ]
  },
  {
   "cell_type": "code",
   "execution_count": 18,
   "id": "213e751b-b1be-4f15-8410-dcdc6464bb63",
   "metadata": {},
   "outputs": [
    {
     "data": {
      "text/plain": [
       "[10, 25, 30, 40]"
      ]
     },
     "execution_count": 18,
     "metadata": {},
     "output_type": "execute_result"
    }
   ],
   "source": [
    "lista = [10, 20, 30, 40]\n",
    "lista[1] = 25\n",
    "lista # En las listas, también el primer elemento es 0"
   ]
  },
  {
   "cell_type": "code",
   "execution_count": 19,
   "id": "50bc2a6d-3049-4f9c-beff-49ea016c8e24",
   "metadata": {},
   "outputs": [
    {
     "data": {
      "text/plain": [
       "[10, 25, 30, 40, 50]"
      ]
     },
     "execution_count": 19,
     "metadata": {},
     "output_type": "execute_result"
    }
   ],
   "source": [
    "lista+[50]"
   ]
  },
  {
   "cell_type": "code",
   "execution_count": 20,
   "id": "87d55faa-fbf8-470a-a80a-3c9f86119060",
   "metadata": {},
   "outputs": [
    {
     "data": {
      "text/plain": [
       "[25, 30, 40]"
      ]
     },
     "execution_count": 20,
     "metadata": {},
     "output_type": "execute_result"
    }
   ],
   "source": [
    "del lista[0]\n",
    "lista # Recuerda que lista = [10, 20, 30, 40]"
   ]
  },
  {
   "cell_type": "code",
   "execution_count": 21,
   "id": "1ae54908-a6ae-48d0-98e2-9fa7ce9e3c43",
   "metadata": {},
   "outputs": [
    {
     "data": {
      "text/plain": [
       "40"
      ]
     },
     "execution_count": 21,
     "metadata": {},
     "output_type": "execute_result"
    }
   ],
   "source": [
    "lista[-1]"
   ]
  },
  {
   "cell_type": "markdown",
   "id": "d86a8232-2427-4985-a3f2-e0112228453a",
   "metadata": {},
   "source": [
    "b) Declara nombres = [\"Ana\",\"Luis\",\"Sofia\"] y:\n",
    "- Agrega \"Pedro\".\n",
    "- Reemplaza \"Luis\" por \"Lucas\".\n",
    "- Imprime cuántos nombres hay en la lista."
   ]
  },
  {
   "cell_type": "code",
   "execution_count": 22,
   "id": "ad7ae4e1-fb75-4c49-ac67-9ae969e2ee87",
   "metadata": {},
   "outputs": [
    {
     "data": {
      "text/plain": [
       "['Ana', 'Luis', 'Sofia', 'Pedro']"
      ]
     },
     "execution_count": 22,
     "metadata": {},
     "output_type": "execute_result"
    }
   ],
   "source": [
    "nombres = [\"Ana\", \"Luis\", \"Sofia\"]\n",
    "nombres+[\"Pedro\"]"
   ]
  },
  {
   "cell_type": "code",
   "execution_count": 23,
   "id": "b07bb18c-09f2-4943-8a48-915f93ee9d90",
   "metadata": {},
   "outputs": [
    {
     "data": {
      "text/plain": [
       "['Ana', 'Lucas', 'Sofia']"
      ]
     },
     "execution_count": 23,
     "metadata": {},
     "output_type": "execute_result"
    }
   ],
   "source": [
    "nombres[1] = \"Lucas\"\n",
    "nombres"
   ]
  },
  {
   "cell_type": "code",
   "execution_count": 24,
   "id": "a8418425-5e44-41cd-8b90-fb9ad21c587f",
   "metadata": {},
   "outputs": [
    {
     "data": {
      "text/plain": [
       "3"
      ]
     },
     "execution_count": 24,
     "metadata": {},
     "output_type": "execute_result"
    }
   ],
   "source": [
    "len(nombres)"
   ]
  },
  {
   "cell_type": "markdown",
   "id": "f53bb92f-96bf-45d8-8395-ecb0ea29f461",
   "metadata": {},
   "source": [
    "c) Declara una matriz [[1,2,3],[4,5,6],[7,8,9]] y:\n",
    "- Muestra la segunda fila.\n",
    "- Muestra el número 9."
   ]
  },
  {
   "cell_type": "code",
   "execution_count": 25,
   "id": "e982a2b4-e3c6-48fc-8434-81c6dba38f2d",
   "metadata": {},
   "outputs": [
    {
     "data": {
      "text/plain": [
       "[4, 5, 6]"
      ]
     },
     "execution_count": 25,
     "metadata": {},
     "output_type": "execute_result"
    }
   ],
   "source": [
    "matriz = [\n",
    "    [1,2,3],\n",
    "    [4,5,6],\n",
    "    [7,8,9]\n",
    "]\n",
    "matriz[1]"
   ]
  },
  {
   "cell_type": "code",
   "execution_count": 26,
   "id": "c12047c4-95a7-4a0a-a940-fc6553eb53f4",
   "metadata": {},
   "outputs": [
    {
     "data": {
      "text/plain": [
       "9"
      ]
     },
     "execution_count": 26,
     "metadata": {},
     "output_type": "execute_result"
    }
   ],
   "source": [
    "matriz[2][2] # Accede al segundo elemento \"[7,8,9]\" y luego al segundo elemento de este \"9\""
   ]
  },
  {
   "cell_type": "markdown",
   "id": "80a2d4d2-3ff3-4ae4-b5e5-d296f3ae799d",
   "metadata": {},
   "source": [
    "c) Crea una lista vacía.\n",
    "- Ve agregando 5 números que ingrese el usuario.\n",
    "- Ordena los números con sorted() (sin modificar la lista original).\n",
    "- Calcula el promedio de los números.\n",
    "- Imprime la lista original, la lista ordenada y el promedio."
   ]
  },
  {
   "cell_type": "code",
   "execution_count": 100,
   "id": "ad0312a8-8f4c-4e54-a808-de6dce2cf295",
   "metadata": {},
   "outputs": [
    {
     "name": "stdin",
     "output_type": "stream",
     "text": [
      "Ingrese el número 1:  6\n",
      "Ingrese el número 2:  12\n",
      "Ingrese el número 3:  24\n",
      "Ingrese el número 4:  8\n",
      "Ingrese el número 5:  2\n"
     ]
    },
    {
     "name": "stdout",
     "output_type": "stream",
     "text": [
      "Lista original: [6.0, 12.0, 24.0, 8.0, 2.0]\n",
      "Lista ordenada: [2.0, 6.0, 8.0, 12.0, 24.0]\n",
      "Promedio: 10.4\n"
     ]
    }
   ],
   "source": [
    "numeros = [] # Almacena los números que ingrese el usuario\n",
    "\n",
    "for i in range(5):\n",
    "    num = float(input(f\"Ingrese el número {i+1}: \"))\n",
    "    numeros.append(num) # Toma el valor de \"num\" y lo agrega al final de la lista \"numeros\"\n",
    "\n",
    "numeros_ord = sorted(numeros)\n",
    "numeros_prom = sum(numeros) / len(numeros)\n",
    "\n",
    "print(\"Lista original:\", numeros)\n",
    "print(\"Lista ordenada:\", numeros_ord)\n",
    "print(\"Promedio:\", numeros_prom)"
   ]
  },
  {
   "cell_type": "markdown",
   "id": "005f3b97-156f-4510-aad9-07a2859380fe",
   "metadata": {},
   "source": [
    "d) Crea una lista llamada _matriz 3x3_ que contenga 3 listas, cada una con 3 números enteros.\n",
    "- Imprime la diagonal principal.\n",
    "- Intercambia la primera fila con la última."
   ]
  },
  {
   "cell_type": "code",
   "execution_count": 120,
   "id": "e799dcba-e88f-44d7-9a95-0390d0d854de",
   "metadata": {},
   "outputs": [
    {
     "data": {
      "text/plain": [
       "[1, 1, 1]"
      ]
     },
     "execution_count": 120,
     "metadata": {},
     "output_type": "execute_result"
    }
   ],
   "source": [
    "matriz = [[1,0,0], [0,1,0], [0,0,1]]\n",
    "diagonal = [matriz[0][0], matriz[1][1], matriz[2][2]] # matriz[elemento][subelemento]\n",
    "diagonal"
   ]
  },
  {
   "cell_type": "code",
   "execution_count": 121,
   "id": "c547bddb-a870-49dd-8365-864d14f03ca7",
   "metadata": {},
   "outputs": [
    {
     "data": {
      "text/plain": [
       "[[0, 0, 1], [0, 1, 0], [1, 0, 0]]"
      ]
     },
     "execution_count": 121,
     "metadata": {},
     "output_type": "execute_result"
    }
   ],
   "source": [
    "matriz[0], matriz[2] = matriz[2], matriz[0]\n",
    "matriz"
   ]
  },
  {
   "cell_type": "markdown",
   "id": "cfeef4c9-0430-47df-a718-141e4760b04f",
   "metadata": {},
   "source": [
    "# 5. Tuplas"
   ]
  },
  {
   "cell_type": "markdown",
   "id": "01f09f43-20db-4885-8ce3-8d9fbcc23034",
   "metadata": {},
   "source": [
    "a) Declara t = (1,2,3,4) y:\n",
    "- Muestra el primer y último valor.\n",
    "- Concaténala con (5,6,7).\n",
    "- Repite la tupla dos veces."
   ]
  },
  {
   "cell_type": "code",
   "execution_count": 27,
   "id": "8a34d906-02da-4ec3-83ea-bbf81c538f62",
   "metadata": {},
   "outputs": [
    {
     "data": {
      "text/plain": [
       "(1, 4, 4)"
      ]
     },
     "execution_count": 27,
     "metadata": {},
     "output_type": "execute_result"
    }
   ],
   "source": [
    "t = (1, 2, 3, 4)\n",
    "t[0], t[-1], t[3] # Dos formas de mostrar el último valor"
   ]
  },
  {
   "cell_type": "code",
   "execution_count": 28,
   "id": "fa0504a7-44de-4a2a-8641-c40ee154f731",
   "metadata": {},
   "outputs": [
    {
     "data": {
      "text/plain": [
       "(1, 2, 3, 4, 5, 6, 7)"
      ]
     },
     "execution_count": 28,
     "metadata": {},
     "output_type": "execute_result"
    }
   ],
   "source": [
    "t+(5, 6, 7) # Aquí no es necesario poner [(5, 6, 7)]"
   ]
  },
  {
   "cell_type": "code",
   "execution_count": 29,
   "id": "e28c9167-f98b-4e81-9a94-c3c5da099922",
   "metadata": {},
   "outputs": [
    {
     "data": {
      "text/plain": [
       "(1, 2, 3, 4, 1, 2, 3, 4)"
      ]
     },
     "execution_count": 29,
     "metadata": {},
     "output_type": "execute_result"
    }
   ],
   "source": [
    "t*2"
   ]
  },
  {
   "cell_type": "markdown",
   "id": "eaa5868e-e8f8-4aa1-8b0c-e9686c38ba4a",
   "metadata": {},
   "source": [
    "b) Usa una tupla para guardar las coordenadas de un punto (x,y) y muéstralas."
   ]
  },
  {
   "cell_type": "code",
   "execution_count": 30,
   "id": "85ece147-3be4-4f87-882b-90f9e08fb824",
   "metadata": {},
   "outputs": [
    {
     "data": {
      "text/plain": [
       "(3, 5)"
      ]
     },
     "execution_count": 30,
     "metadata": {},
     "output_type": "execute_result"
    }
   ],
   "source": [
    "coordenadas = (3,5)\n",
    "coordenadas[0], coordenadas[1]"
   ]
  },
  {
   "cell_type": "markdown",
   "id": "73323fe2-3991-4162-a18d-814a82542868",
   "metadata": {},
   "source": [
    "# 6. Diccionarios"
   ]
  },
  {
   "cell_type": "markdown",
   "id": "5286d3db-5319-4d53-aaab-fda17eeece08",
   "metadata": {},
   "source": [
    "a) Declara alumno = {\"nombre\":\"Ana\",\"edad\":20,\"curso\":\"Python\"} y:\n",
    "- Cambia la edad a 21.\n",
    "- Agrega la clave \"nota\": 9.5.\n",
    "- Elimina \"curso\".\n",
    "- Muestra solo las llaves y solo los valores."
   ]
  },
  {
   "cell_type": "code",
   "execution_count": 31,
   "id": "00e63ed4-d3cc-468a-b889-ae608d61d7fd",
   "metadata": {},
   "outputs": [
    {
     "data": {
      "text/plain": [
       "{'Nombre': 'Ana', 'Edad': 21, 'Curso': 'Python'}"
      ]
     },
     "execution_count": 31,
     "metadata": {},
     "output_type": "execute_result"
    }
   ],
   "source": [
    "alumno = {\"Nombre\": \"Ana\", \"Edad\": 20, \"Curso\": \"Python\"}\n",
    "alumno[\"Edad\"] = 21\n",
    "alumno"
   ]
  },
  {
   "cell_type": "code",
   "execution_count": 32,
   "id": "fb5ef9a2-8200-402e-bb92-7caa09af56b9",
   "metadata": {},
   "outputs": [
    {
     "data": {
      "text/plain": [
       "{'Nombre': 'Ana', 'Edad': 21, 'Curso': 'Python', 'Nota': 9.5}"
      ]
     },
     "execution_count": 32,
     "metadata": {},
     "output_type": "execute_result"
    }
   ],
   "source": [
    "alumno[\"Nota\"] = 9.5\n",
    "alumno # Para añadir claves en un diccionario, es muy diferente a como se hace en listas [] y tuplas ()"
   ]
  },
  {
   "cell_type": "code",
   "execution_count": 33,
   "id": "fec0fc05-77b3-4d39-8107-e5c6cc948790",
   "metadata": {},
   "outputs": [
    {
     "data": {
      "text/plain": [
       "{'Nombre': 'Ana', 'Edad': 21, 'Nota': 9.5}"
      ]
     },
     "execution_count": 33,
     "metadata": {},
     "output_type": "execute_result"
    }
   ],
   "source": [
    "del alumno[\"Curso\"]\n",
    "alumno"
   ]
  },
  {
   "cell_type": "code",
   "execution_count": 34,
   "id": "d4405633-0368-422d-b91e-743b9b14a45f",
   "metadata": {},
   "outputs": [
    {
     "data": {
      "text/plain": [
       "(dict_keys(['Nombre', 'Edad', 'Nota']), dict_values(['Ana', 21, 9.5]))"
      ]
     },
     "execution_count": 34,
     "metadata": {},
     "output_type": "execute_result"
    }
   ],
   "source": [
    "alumno.keys(), alumno.values()"
   ]
  },
  {
   "cell_type": "markdown",
   "id": "d8ed99cc-f7a8-4004-88da-b0267eec36be",
   "metadata": {},
   "source": [
    "b) Declara un diccionario vacío y agrega las claves usuario, contraseña, correo."
   ]
  },
  {
   "cell_type": "code",
   "execution_count": 35,
   "id": "32aaccc1-d456-4b1c-9e68-5cff0b88f5fc",
   "metadata": {},
   "outputs": [
    {
     "data": {
      "text/plain": [
       "{}"
      ]
     },
     "execution_count": 35,
     "metadata": {},
     "output_type": "execute_result"
    }
   ],
   "source": [
    "datos = {}\n",
    "datos"
   ]
  },
  {
   "cell_type": "code",
   "execution_count": 36,
   "id": "13ce6cff-8e0d-4ab8-9664-8f282bf8c576",
   "metadata": {},
   "outputs": [
    {
     "name": "stdout",
     "output_type": "stream",
     "text": [
      "{'Usuario': 'apgsolano', 'Contraseña': 2003, 'Correo': 'a.p.g.solano@gmail.com'}\n"
     ]
    }
   ],
   "source": [
    "datos[\"Usuario\"] = \"apgsolano\"\n",
    "datos[\"Contraseña\"] = 2003\n",
    "datos[\"Correo\"] = \"a.p.g.solano@gmail.com\"\n",
    "print(datos)\n",
    "# Aquí cada clave nueva tiene que ir en un renglón diferente, no añadas comas\n",
    "# print() te arroja los resultados en fila, mientras que datos te los arroja en 3 renglones, elige como tú prefieras"
   ]
  },
  {
   "cell_type": "markdown",
   "id": "e04add9d-8899-4073-b4ee-2485c63c37b2",
   "metadata": {},
   "source": [
    "# 7. Control de flujo"
   ]
  },
  {
   "cell_type": "markdown",
   "id": "979d9743-8c2d-4581-90a4-f5e6214e87fa",
   "metadata": {},
   "source": [
    "¿Cuándo usar...?\n",
    "- if → Decidir una sola vez (sí o no).\n",
    "- for → Repetir con un número fijo de vueltas (lista, texto, rango).\n",
    "- while → Repetir mientras la condición siga siendo True."
   ]
  },
  {
   "cell_type": "markdown",
   "id": "31ac8265-7d83-4e73-b827-f6fa45dd67bf",
   "metadata": {},
   "source": [
    "a) Pide al usuario un número y determina si es par o impar."
   ]
  },
  {
   "cell_type": "code",
   "execution_count": 41,
   "id": "47fa449a-8ebd-4b2f-bce7-028966431e59",
   "metadata": {},
   "outputs": [
    {
     "name": "stdin",
     "output_type": "stream",
     "text": [
      "Ingresa un número:  45\n"
     ]
    },
    {
     "name": "stdout",
     "output_type": "stream",
     "text": [
      "45 es impar\n"
     ]
    }
   ],
   "source": [
    "numero = int(input(\"Ingresa un número: \")) # Lo que el usuario escribe, se guarda como string → int → se guarda en variable \"numero\"\n",
    "    \n",
    "if numero % 2 == 0: # == significa \"igual a\", si el número dividido entre 2 tiene módulo 0, entonces es par\n",
    "    print(f\"{numero} es par\")\n",
    "else:\n",
    "    print(f\"{numero} es impar\")"
   ]
  },
  {
   "cell_type": "markdown",
   "id": "3413cdf3-3a76-43bb-ba69-d5ea81b66765",
   "metadata": {},
   "source": [
    "b) Pide dos números reales y muestra cuál es mayor o si son iguales."
   ]
  },
  {
   "cell_type": "code",
   "execution_count": 42,
   "id": "15df2814-4dbb-4349-8788-5fcc51c52866",
   "metadata": {},
   "outputs": [
    {
     "name": "stdin",
     "output_type": "stream",
     "text": [
      "Ingresa un número:  23\n",
      "Ingresa otro número:  27\n"
     ]
    },
    {
     "name": "stdout",
     "output_type": "stream",
     "text": [
      "27 es mayor que 23\n"
     ]
    }
   ],
   "source": [
    "num1 = input(\"Ingresa un número: \")\n",
    "num2 = input(\"Ingresa otro número: \")\n",
    "\n",
    "if num1 > num2:\n",
    "    print(f\"{num1} es mayor que {num2}\")\n",
    "elif num2 > num1:\n",
    "    print(f\"{num2} es mayor que {num1}\")\n",
    "else: \n",
    "    print(f\"{num1} es igual que {num2}\")"
   ]
  },
  {
   "cell_type": "markdown",
   "id": "f14507c1-c974-4adf-b367-7d8924d82ff0",
   "metadata": {},
   "source": [
    "c) Con un for, imprime la tabla de multiplicar del 5."
   ]
  },
  {
   "cell_type": "code",
   "execution_count": 43,
   "id": "ad4d2a5c-0565-46ed-bf23-8f336a6cbb96",
   "metadata": {},
   "outputs": [
    {
     "name": "stdout",
     "output_type": "stream",
     "text": [
      "5 x 1 = 5\n",
      "5 x 2 = 10\n",
      "5 x 3 = 15\n",
      "5 x 4 = 20\n",
      "5 x 5 = 25\n",
      "5 x 6 = 30\n",
      "5 x 7 = 35\n",
      "5 x 8 = 40\n",
      "5 x 9 = 45\n",
      "5 x 10 = 50\n"
     ]
    }
   ],
   "source": [
    "for i in range(1,11): # range() no incluye el último número, por eso ponemos 11 y no 10\n",
    "    print(f\"5 x {i} = {5 * i}\") # En un f-string, {} sirve para poner una variable o cálculo dentro de un texto. Python reemplaza lo que hay dentro de {} por su valor"
   ]
  },
  {
   "cell_type": "markdown",
   "id": "0945b909-e5ab-49e3-832c-822fac7201d9",
   "metadata": {},
   "source": [
    "d) Con un while, imprime los números del 1 al 20, pero solo los múltiplos de 3."
   ]
  },
  {
   "cell_type": "code",
   "execution_count": 46,
   "id": "b119fff9-70eb-4687-9b2e-4304e92e8022",
   "metadata": {},
   "outputs": [
    {
     "name": "stdout",
     "output_type": "stream",
     "text": [
      "3\n",
      "6\n",
      "9\n",
      "12\n",
      "15\n",
      "18\n"
     ]
    }
   ],
   "source": [
    "n = 1 # Inicia en 1\n",
    "while n <= 20: # El bucle se ejecuta mientras n sea menor o igual a 20\n",
    "    if n % 3 == 0: # Si el módulo de n entre 3 es 0, significa que n es múltiplo de 3\n",
    "        print(n)\n",
    "    n += 1 # Aumenta n en 1 en cada vuelta, evitando que el bucle sea infinito\n",
    "\n",
    "# Si la condición de while siempre es True, el bucle nunca termina\n",
    "# Cuando n llega a 21, la condición n <= 20 se vuelve False y el bucle termina"
   ]
  },
  {
   "cell_type": "markdown",
   "id": "5fbe0fb9-34ab-47dc-ac7b-915b3eb247a9",
   "metadata": {},
   "source": [
    "e) Crea un programa que sume los números del 1 al 100."
   ]
  },
  {
   "cell_type": "code",
   "execution_count": 58,
   "id": "16ac8c37-c6b5-45a5-8488-18dd46bcaa2d",
   "metadata": {},
   "outputs": [
    {
     "name": "stdout",
     "output_type": "stream",
     "text": [
      "1\n",
      "3\n",
      "6\n",
      "10\n",
      "15\n",
      "21\n",
      "28\n",
      "36\n",
      "45\n",
      "55\n",
      "66\n",
      "78\n",
      "91\n",
      "105\n",
      "120\n",
      "136\n",
      "153\n",
      "171\n",
      "190\n",
      "210\n",
      "231\n",
      "253\n",
      "276\n",
      "300\n",
      "325\n",
      "351\n",
      "378\n",
      "406\n",
      "435\n",
      "465\n",
      "496\n",
      "528\n",
      "561\n",
      "595\n",
      "630\n",
      "666\n",
      "703\n",
      "741\n",
      "780\n",
      "820\n",
      "861\n",
      "903\n",
      "946\n",
      "990\n",
      "1035\n",
      "1081\n",
      "1128\n",
      "1176\n",
      "1225\n",
      "1275\n",
      "1326\n",
      "1378\n",
      "1431\n",
      "1485\n",
      "1540\n",
      "1596\n",
      "1653\n",
      "1711\n",
      "1770\n",
      "1830\n",
      "1891\n",
      "1953\n",
      "2016\n",
      "2080\n",
      "2145\n",
      "2211\n",
      "2278\n",
      "2346\n",
      "2415\n",
      "2485\n",
      "2556\n",
      "2628\n",
      "2701\n",
      "2775\n",
      "2850\n",
      "2926\n",
      "3003\n",
      "3081\n",
      "3160\n",
      "3240\n",
      "3321\n",
      "3403\n",
      "3486\n",
      "3570\n",
      "3655\n",
      "3741\n",
      "3828\n",
      "3916\n",
      "4005\n",
      "4095\n",
      "4186\n",
      "4278\n",
      "4371\n",
      "4465\n",
      "4560\n",
      "4656\n",
      "4753\n",
      "4851\n",
      "4950\n",
      "5050\n"
     ]
    }
   ],
   "source": [
    "suma = 0 # Acumulador (guarda la suma parcial mientras recorremos i)\n",
    "for i in range(1, 101):\n",
    "    suma += i\n",
    "    print(suma) # print() dentro del bucle muestra la suma parcial en cada vuelta"
   ]
  },
  {
   "cell_type": "code",
   "execution_count": 61,
   "id": "94e21828-5124-4097-9e26-b4c2d3eaa4ed",
   "metadata": {},
   "outputs": [
    {
     "name": "stdout",
     "output_type": "stream",
     "text": [
      "5050\n"
     ]
    }
   ],
   "source": [
    "print(suma) # print() fuera del bucle muestra el total"
   ]
  },
  {
   "cell_type": "markdown",
   "id": "2251ba0a-0fb5-4a7d-a5f0-5bc639c69187",
   "metadata": {},
   "source": [
    "La ubicación de _print()_  determina qué se muestra y cuándo.\n",
    "- Indentación dentro del bucle → imprime cada paso.\n",
    "- Indentación fuera del bucle → imprime el resultado final."
   ]
  },
  {
   "cell_type": "markdown",
   "id": "0af9fd81-0d8f-4ad6-8f4b-fc8cccac3439",
   "metadata": {},
   "source": [
    "f) Comprueba si un número ingresado por el usuario es mayor que 18 y menor que 30."
   ]
  },
  {
   "cell_type": "code",
   "execution_count": 78,
   "id": "1c3921c4-5c5f-479c-a330-16fa14618670",
   "metadata": {},
   "outputs": [
    {
     "name": "stdin",
     "output_type": "stream",
     "text": [
      "Ingresa un número:  24.5\n"
     ]
    },
    {
     "name": "stdout",
     "output_type": "stream",
     "text": [
      "True\n"
     ]
    }
   ],
   "source": [
    "numero = float(input(\"Ingresa un número: \")) # float() convierte el input() del usuario en número real\n",
    "if numero > 18 and numero < 30:\n",
    "    print(\"True\")\n",
    "else:\n",
    "    print(\"False\")"
   ]
  },
  {
   "cell_type": "markdown",
   "id": "eb3de5f3-7b47-479a-bcfb-eed77f954ad1",
   "metadata": {},
   "source": [
    "g) Verifica si un número ingresado es divisible por 2 o por 5."
   ]
  },
  {
   "cell_type": "code",
   "execution_count": 88,
   "id": "b46c71a0-9fc3-4dbb-9585-c5ef32ff3808",
   "metadata": {},
   "outputs": [
    {
     "name": "stdin",
     "output_type": "stream",
     "text": [
      "Ingresa un número entero: 10\n"
     ]
    },
    {
     "name": "stdout",
     "output_type": "stream",
     "text": [
      "10 es divisible entre 2 y 5\n"
     ]
    }
   ],
   "source": [
    "numero = int(input(\"Ingresa un número entero:\"))\n",
    "if numero % 2 == 0 and numero % 5 == 0:\n",
    "    print(f\"{numero} es divisible entre 2 y 5\")\n",
    "elif numero % 2 == 0:\n",
    "    print(f\"{numero} es divisible entre 2\")\n",
    "elif numero % 5 == 0:\n",
    "    print(f\"{numero} es divisible entre 5\")\n",
    "else:\n",
    "    print(f\"{numero} no es divisible entre 2 ni 5\")"
   ]
  },
  {
   "cell_type": "code",
   "execution_count": 90,
   "id": "e64155b8-715a-4341-95aa-24a34227df5a",
   "metadata": {},
   "outputs": [
    {
     "name": "stdin",
     "output_type": "stream",
     "text": [
      "Ingresa un número entero: 13\n"
     ]
    },
    {
     "name": "stdout",
     "output_type": "stream",
     "text": [
      "13 no es divisible entre 2 o 5\n"
     ]
    }
   ],
   "source": [
    "# Otra forma que se me ocurre utilizando or es...\n",
    "numero = int(input(\"Ingresa un número entero:\"))\n",
    "if numero % 2 == 0 or numero % 5 == 0:\n",
    "    print(f\"{numero} es divisible entre 2, 5 o ambos\")\n",
    "else:\n",
    "    print(f\"{numero} no es divisible entre 2 o 5\")"
   ]
  },
  {
   "cell_type": "markdown",
   "id": "5998e28d-4542-4bc8-93c4-d33d0103792c",
   "metadata": {},
   "source": [
    "# 8. Built-in functions"
   ]
  }
 ],
 "metadata": {
  "kernelspec": {
   "display_name": "Python 3 (ipykernel)",
   "language": "python",
   "name": "python3"
  },
  "language_info": {
   "codemirror_mode": {
    "name": "ipython",
    "version": 3
   },
   "file_extension": ".py",
   "mimetype": "text/x-python",
   "name": "python",
   "nbconvert_exporter": "python",
   "pygments_lexer": "ipython3",
   "version": "3.13.7"
  }
 },
 "nbformat": 4,
 "nbformat_minor": 5
}
