{
 "cells": [
  {
   "cell_type": "markdown",
   "id": "607535c8-afaf-4533-8844-230fe8412284",
   "metadata": {},
   "source": [
    "## TAREA PARA EL JUEVES O SEA ANTES DEL EXAMEN \n",
    "\n",
    "como sacar en network x lo siguiente: arquitectura de mundo pequeño , modularidad/ comunidades, hubs (nodos centrales) y eficiencia global vs eficiencia local"
   ]
  },
  {
   "cell_type": "markdown",
   "id": "9c3d741d-6092-43fd-8211-7588058e10ff",
   "metadata": {},
   "source": [
    "1. Validar contraseña segura Escribe una función es_contraseña_segura(passw) que verifique si una contraseña:\n",
    "Tiene al menos 8 caracteres\n",
    "\n",
    "Incluye mayúsculas, minúsculas, números y un carácter especial (@, #, $, %, &, etc.) Usa funciones built-in como any(), str.isdigit(), str.isupper(), etc.\n",
    "\n",
    "2. Palabra más larga en una frase\n",
    "Define palabra_mas_larga(frase) que encuentre la palabra con más caracteres dentro de un texto.\n",
    "\n",
    "3. Simulador de calculadora básica Crea una función calculadora(a, b, operador) donde operador puede ser \"+\", \"-\", \"*\", \"/\". Usa if/elif para decidir la operación\n",
    "\n",
    "4. Suma de números impares\n",
    "Dada una lista de enteros, escribe una función que devuelva la suma de todos los números impares. Ejemplo → [1, 2, 3, 4, 5] → 9.\n",
    "\n",
    "5. Palabras que comienzan con vocal\n",
    "Dada una lista de palabras, devuelve una nueva lista solo con las que empiezan con vocal. Ejemplo → [\"oso\", \"perro\", \"agua\", \"luz\"] → [\"oso\", \"agua\"].\n",
    "\n",
    "6. Unir listas alternando elementos. Investigar la built-in function zip\n",
    "Dados dos listas del mismo tamaño, genera una tercera lista intercalando sus elementos. Ejemplo → [1,2,3], [‘a’,‘b’,‘c’] → [1,‘a’,2,‘b’,3,‘c’].\n",
    "\n",
    "7. Rotar una lista n posiciones\n",
    "Dada una lista y un número entero n, rota la lista hacia la derecha n posiciones. Ejemplo → [1,2,3,4,5], n=2 → [4,5,1,2,3]"
   ]
  },
  {
   "cell_type": "code",
   "execution_count": 2,
   "id": "6b541cdc-2e89-42fd-a0dc-4d34e78c9a50",
   "metadata": {},
   "outputs": [],
   "source": [
    "#1 validar contraseña segura \n",
    "\n",
    "def es_contraseña_segura(passw):\n",
    "    especiales = \"@#$%&\"\n",
    "    return (\n",
    "        len(passw) >= 8 and\n",
    "        any(c.isupper() for c in passw) and\n",
    "        any(c.islower() for c in passw) and\n",
    "        any(c.isdigit() for c in passw) and\n",
    "        any(c in especiales for c in passw)\n",
    "    )"
   ]
  },
  {
   "cell_type": "code",
   "execution_count": 3,
   "id": "a2b9592e-fcf7-4eaa-a096-4b21c15db9cd",
   "metadata": {},
   "outputs": [],
   "source": [
    "#2 Palabra más larga \n",
    "\n",
    "def palabra_mas_larga(frase):\n",
    "    palabras = frase.split()\n",
    "    return max(palabras, key=len)"
   ]
  },
  {
   "cell_type": "code",
   "execution_count": 11,
   "id": "1d18695b-92b4-47f1-b22c-5a18a8c2adad",
   "metadata": {},
   "outputs": [
    {
     "ename": "ZeroDivisionError",
     "evalue": "division by zero",
     "output_type": "error",
     "traceback": [
      "\u001b[1;31m---------------------------------------------------------------------------\u001b[0m",
      "\u001b[1;31mZeroDivisionError\u001b[0m                         Traceback (most recent call last)",
      "Cell \u001b[1;32mIn[11], line 15\u001b[0m\n\u001b[0;32m     12\u001b[0m     \u001b[38;5;28;01melse\u001b[39;00m:\n\u001b[0;32m     13\u001b[0m         \u001b[38;5;28;01mreturn\u001b[39;00m \u001b[38;5;124m\"\u001b[39m\u001b[38;5;124mOperador inválido\u001b[39m\u001b[38;5;124m\"\u001b[39m\n\u001b[1;32m---> 15\u001b[0m \u001b[43mcalculadora\u001b[49m\u001b[43m(\u001b[49m\u001b[38;5;241;43m0\u001b[39;49m\u001b[43m,\u001b[49m\u001b[43m \u001b[49m\u001b[38;5;241;43m0\u001b[39;49m\u001b[43m,\u001b[49m\u001b[43m \u001b[49m\u001b[38;5;124;43m\"\u001b[39;49m\u001b[38;5;124;43m/\u001b[39;49m\u001b[38;5;124;43m\"\u001b[39;49m\u001b[43m)\u001b[49m\n",
      "Cell \u001b[1;32mIn[11], line 11\u001b[0m, in \u001b[0;36mcalculadora\u001b[1;34m(a, b, operador)\u001b[0m\n\u001b[0;32m      9\u001b[0m     \u001b[38;5;28;01mreturn\u001b[39;00m a \u001b[38;5;241m*\u001b[39m b\n\u001b[0;32m     10\u001b[0m \u001b[38;5;28;01melif\u001b[39;00m operador \u001b[38;5;241m==\u001b[39m \u001b[38;5;124m\"\u001b[39m\u001b[38;5;124m/\u001b[39m\u001b[38;5;124m\"\u001b[39m:\n\u001b[1;32m---> 11\u001b[0m     \u001b[38;5;28;01mreturn\u001b[39;00m \u001b[43ma\u001b[49m\u001b[43m \u001b[49m\u001b[38;5;241;43m/\u001b[39;49m\u001b[43m \u001b[49m\u001b[43mb\u001b[49m\n\u001b[0;32m     12\u001b[0m \u001b[38;5;28;01melse\u001b[39;00m:\n\u001b[0;32m     13\u001b[0m     \u001b[38;5;28;01mreturn\u001b[39;00m \u001b[38;5;124m\"\u001b[39m\u001b[38;5;124mOperador inválido\u001b[39m\u001b[38;5;124m\"\u001b[39m\n",
      "\u001b[1;31mZeroDivisionError\u001b[0m: division by zero"
     ]
    }
   ],
   "source": [
    "#3 simulador de calculadora \n",
    "\n",
    "def calculadora(a, b, operador):\n",
    "    if operador == \"+\":\n",
    "        return a + b\n",
    "    elif operador == \"-\":\n",
    "        return a - b\n",
    "    elif operador == \"*\":\n",
    "        return a * b\n",
    "    elif operador == \"/\":\n",
    "        return a / b\n",
    "    else:\n",
    "        return \"Operador inválido\"\n",
    "\n",
    "calculadora(0, 0, \"/\")"
   ]
  },
  {
   "cell_type": "code",
   "execution_count": 10,
   "id": "0fd471a3-ac01-43d9-be69-3412ed7306a5",
   "metadata": {},
   "outputs": [],
   "source": [
    "#4 Suma de numeros impares \n",
    "\n",
    "def suma_impares(lista):\n",
    "    return sum(x for x in lista if x % 2 != 0)"
   ]
  },
  {
   "cell_type": "code",
   "execution_count": 6,
   "id": "6e48f2b2-a720-428e-a903-e2dd24649cdf",
   "metadata": {},
   "outputs": [],
   "source": [
    "#5 Palabras que comienzan con una vocal \n",
    "\n",
    "def palabras_con_vocal(lista):\n",
    "    vocales = \"aeiouAEIOU\"\n",
    "    return [palabra for palabra in lista if palabra[0] in vocales]"
   ]
  },
  {
   "cell_type": "code",
   "execution_count": 12,
   "id": "7eeb02e5-ffdf-4b86-9590-36cfe1230819",
   "metadata": {},
   "outputs": [
    {
     "data": {
      "text/plain": [
       "[1, 'a', 2, 'b', 3, 'c', 4, 'd']"
      ]
     },
     "execution_count": 12,
     "metadata": {},
     "output_type": "execute_result"
    }
   ],
   "source": [
    "#6 Unir listas\n",
    "\n",
    "def intercalar_listas(lista1, lista2):\n",
    "    resultado = []\n",
    "    for a, b in zip(lista1, lista2):\n",
    "        resultado.extend([a, b])\n",
    "    return resultado\n",
    "\n",
    "intercalar_listas([1, 2, 3, 4], ['a', 'b', 'c', 'd'])"
   ]
  },
  {
   "cell_type": "code",
   "execution_count": 8,
   "id": "d7a585d5-cb13-45c9-ace0-5810c050c075",
   "metadata": {},
   "outputs": [],
   "source": [
    "#7 Rotar una lista \n",
    "\n",
    "def rotar_lista(lista, n):\n",
    "    n = n % len(lista)  # por si n es mayor que la longitud\n",
    "    return lista[-n:] + lista[:-n]"
   ]
  },
  {
   "cell_type": "code",
   "execution_count": 13,
   "id": "e68d9e04-c37b-4685-bffe-df0a1acbb749",
   "metadata": {},
   "outputs": [
    {
     "data": {
      "text/plain": [
       "['b', 'c', 'd', 1, 2, 3, 4, 'a']"
      ]
     },
     "execution_count": 13,
     "metadata": {},
     "output_type": "execute_result"
    }
   ],
   "source": [
    "rotar_lista([1, 2, 3, 4, 'a', 'b', 'c', 'd'], 3\n",
    "           )"
   ]
  },
  {
   "cell_type": "code",
   "execution_count": 9,
   "id": "83bbf035-a0b5-4c86-8d3a-1a25dc172d8d",
   "metadata": {},
   "outputs": [
    {
     "ename": "NameError",
     "evalue": "name 'nx' is not defined",
     "output_type": "error",
     "traceback": [
      "\u001b[1;31m---------------------------------------------------------------------------\u001b[0m",
      "\u001b[1;31mNameError\u001b[0m                                 Traceback (most recent call last)",
      "Cell \u001b[1;32mIn[9], line 5\u001b[0m\n\u001b[0;32m      1\u001b[0m \u001b[38;5;66;03m# TAREA DEL JUEVES \u001b[39;00m\n\u001b[0;32m      2\u001b[0m \n\u001b[0;32m      3\u001b[0m \u001b[38;5;66;03m# Arquitectura de mundo pequeño -> \u001b[39;00m\n\u001b[1;32m----> 5\u001b[0m \u001b[43mnx\u001b[49m\u001b[38;5;241m.\u001b[39maverage_clustering(G) \u001b[38;5;66;03m# coeficiente de clustering o agrupamiento \u001b[39;00m\n\u001b[0;32m      7\u001b[0m nx\u001b[38;5;241m.\u001b[39maverage_shortes_path_lenght(G)  \u001b[38;5;66;03m# Longitud promedio del camino o path más corto\u001b[39;00m\n\u001b[0;32m      9\u001b[0m \u001b[38;5;66;03m# Ojo piojo para que una red sea considerada de mundo pequeño debe contar con un alto coef de clustering y baja longitud de path promedio\u001b[39;00m\n\u001b[0;32m     10\u001b[0m \n\u001b[0;32m     11\u001b[0m \u001b[38;5;66;03m# Modularidad y Comunidades -> \u001b[39;00m\n",
      "\u001b[1;31mNameError\u001b[0m: name 'nx' is not defined"
     ]
    }
   ],
   "source": [
    "# TAREA DEL JUEVES \n",
    "\n",
    "# Arquitectura de mundo pequeño -> \n",
    "\n",
    "nx.average_clustering(G) # coeficiente de clustering o agrupamiento \n",
    "\n",
    "nx.average_shortes_path_lenght(G)  # Longitud promedio del camino o path más corto\n",
    "\n",
    "# Ojo piojo para que una red sea considerada de mundo pequeño debe contar con un alto coef de clustering y baja longitud de path promedio\n",
    "\n",
    "# Modularidad y Comunidades -> \n",
    "\n",
    "partition = comunity.best_partition(G) # el partition es un diccionario \n",
    "\n",
    "Modularity = comunity.modularity (partition, G) # modularity se refiere a que tan separadas están las comunidades\n",
    "\n",
    "# Hubs \n",
    "\n",
    "G.degree(n) # es el Grado \n",
    "\n",
    "nx.betweeness_centrality(G) # centralidad de intermediación\n",
    "\n",
    "nx.closeness_centrality(G) # centralidad de cercanía \n",
    "\n",
    "nx.eigenvector_centrality(G) # centralidad de eigenvector\n",
    "\n",
    "# Eficiencia global vs local\n",
    "\n",
    "#eficiencia global significa que mide cuán eficiente es la red para transmitir info de manera \"completa\" o global\n",
    "\n",
    "#eficiencia local significa que mide la eficiencia dentro de cada nodo ( o sea el tipo digamos fraccionamiento o vecindario\n",
    "\n",
    "global_eff = global_efficiency(G)\n",
    "local_eff = local_efficiency(G) \n"
   ]
  },
  {
   "cell_type": "code",
   "execution_count": null,
   "id": "1f4b0bfd-60ac-4d63-8568-64297d02883d",
   "metadata": {},
   "outputs": [],
   "source": [
    "||"
   ]
  }
 ],
 "metadata": {
  "kernelspec": {
   "display_name": "Python 3 (ipykernel)",
   "language": "python",
   "name": "python3"
  },
  "language_info": {
   "codemirror_mode": {
    "name": "ipython",
    "version": 3
   },
   "file_extension": ".py",
   "mimetype": "text/x-python",
   "name": "python",
   "nbconvert_exporter": "python",
   "pygments_lexer": "ipython3",
   "version": "3.10.4"
  }
 },
 "nbformat": 4,
 "nbformat_minor": 5
}
