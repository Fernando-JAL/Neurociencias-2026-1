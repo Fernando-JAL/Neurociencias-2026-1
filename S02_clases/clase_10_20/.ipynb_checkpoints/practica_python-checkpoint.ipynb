{
 "cells": [
  {
   "cell_type": "markdown",
   "id": "d20eb0fb-08f3-412d-80c6-09894d40f1bf",
   "metadata": {},
   "source": [
    "1. Validar contraseña segura\n",
    "Escribe una función es_contraseña_segura(passw) que verifique si una contraseña:\n",
    "\n",
    "Tiene al menos 8 caracteres\n",
    "\n",
    "Incluye mayúsculas, minúsculas, números y un carácter especial (@, #, $, %, &, etc.)\n",
    "Usa funciones built-in como any(), str.isdigit(), str.isupper(), etc."
   ]
  },
  {
   "cell_type": "markdown",
   "id": "b49f0cec-5dbe-48e6-bb10-fdbda187eb4a",
   "metadata": {},
   "source": [
    "2. Palabra más larga en una frase\n",
    "\n",
    "Define palabra_mas_larga(frase) que encuentre la palabra con más caracteres dentro de un texto."
   ]
  },
  {
   "cell_type": "markdown",
   "id": "ac94284c-c72e-414c-9332-a5a1e3299ac8",
   "metadata": {},
   "source": [
    "3. Simulador de calculadora básica\n",
    "Crea una función calculadora(a, b, operador) donde operador puede ser \"+\", \"-\", \"*\", \"/\".\n",
    "Usa if/elif para decidir la operación"
   ]
  },
  {
   "cell_type": "markdown",
   "id": "3cca8c2f-384c-4e43-a3ee-f93a9ff17489",
   "metadata": {},
   "source": [
    "4. Suma de números impares\n",
    "\n",
    "Dada una lista de enteros, escribe una función que devuelva la suma de todos los números impares.\n",
    "Ejemplo → [1, 2, 3, 4, 5] → 9."
   ]
  },
  {
   "cell_type": "markdown",
   "id": "cb1b695d-545d-4800-b498-e632a8d1110e",
   "metadata": {},
   "source": [
    "5. Palabras que comienzan con vocal\n",
    "\n",
    "Dada una lista de palabras, devuelve una nueva lista solo con las que empiezan con vocal.\n",
    "Ejemplo → [\"oso\", \"perro\", \"agua\", \"luz\"] → [\"oso\", \"agua\"]."
   ]
  },
  {
   "cell_type": "markdown",
   "id": "50ab5e3a-e94f-45c7-ae64-791ee320058f",
   "metadata": {},
   "source": [
    "6. Unir listas alternando elementos. Investigar la built-in function zip\n",
    "\n",
    "Dados dos listas del mismo tamaño, genera una tercera lista intercalando sus elementos.\n",
    "Ejemplo → [1,2,3], [‘a’,‘b’,‘c’] → [1,‘a’,2,‘b’,3,‘c’]."
   ]
  },
  {
   "cell_type": "markdown",
   "id": "54ca3a6a-3d60-42b5-81eb-7863d99ff644",
   "metadata": {},
   "source": [
    "7. Rotar una lista n posiciones\n",
    "\n",
    "Dada una lista y un número entero n, rota la lista hacia la derecha n posiciones.\n",
    "Ejemplo → [1,2,3,4,5], n=2 → [4,5,1,2,3]"
   ]
  },
  {
   "cell_type": "code",
   "execution_count": null,
   "id": "548305a6-f256-4428-bf3c-07e77b380a83",
   "metadata": {},
   "outputs": [],
   "source": []
  }
 ],
 "metadata": {
  "kernelspec": {
   "display_name": "Python 3 (ipykernel)",
   "language": "python",
   "name": "python3"
  },
  "language_info": {
   "codemirror_mode": {
    "name": "ipython",
    "version": 3
   },
   "file_extension": ".py",
   "mimetype": "text/x-python",
   "name": "python",
   "nbconvert_exporter": "python",
   "pygments_lexer": "ipython3",
   "version": "3.10.4"
  }
 },
 "nbformat": 4,
 "nbformat_minor": 5
}
