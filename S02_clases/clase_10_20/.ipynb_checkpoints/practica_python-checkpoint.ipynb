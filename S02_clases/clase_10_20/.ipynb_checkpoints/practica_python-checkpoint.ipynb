{
 "cells": [
  {
   "cell_type": "markdown",
   "id": "d20eb0fb-08f3-412d-80c6-09894d40f1bf",
   "metadata": {},
   "source": [
    "1. Validar contraseña segura\n",
    "Escribe una función es_contraseña_segura(passw) que verifique si una contraseña:\n",
    "\n",
    "Tiene al menos 8 caracteres\n",
    "\n",
    "Incluye mayúsculas, minúsculas, números y un carácter especial (@, #, $, %, &, etc.)\n",
    "Usa funciones built-in como any(), str.isdigit(), str.isupper(), etc."
   ]
  },
  {
   "cell_type": "code",
   "execution_count": 39,
   "id": "e17cb9b7-fb16-4d74-8675-5029b03a02b6",
   "metadata": {},
   "outputs": [],
   "source": [
    "def es_contraseña_segura(passw):\n",
    "    if len(passw) >=8:\n",
    "        if any(string.isupper() and string.isdigit() and string.islower() for string in passw):\n",
    "            if any(string.isalnum() for string in passw):\n",
    "                return 'Minimo un caracter especial'\n",
    "            else:\n",
    "                return 'Contraseña válida'\n",
    "        else:\n",
    "            return 'Minimo 1 mayuscula, minuscula, numero'\n",
    "    else:\n",
    "        return 'Minimo 8 caracteres'\n",
    "                "
   ]
  },
  {
   "cell_type": "code",
   "execution_count": 42,
   "id": "96601a5f-b079-45d3-9251-e3958c96071c",
   "metadata": {},
   "outputs": [
    {
     "name": "stdout",
     "output_type": "stream",
     "text": [
      "Minimo 1 mayuscula, minuscula, numero\n"
     ]
    }
   ],
   "source": [
    "passw='Hola123m'\n",
    "print(es_contraseña_segura(passw))"
   ]
  },
  {
   "cell_type": "markdown",
   "id": "b49f0cec-5dbe-48e6-bb10-fdbda187eb4a",
   "metadata": {},
   "source": [
    "2. Palabra más larga en una frase\n",
    "\n",
    "Define palabra_mas_larga(frase) que encuentre la palabra con más caracteres dentro de un texto."
   ]
  },
  {
   "cell_type": "code",
   "execution_count": 78,
   "id": "f2e2f671-a3d2-410e-872f-0054537f1c51",
   "metadata": {},
   "outputs": [],
   "source": [
    "def palabra_mas_larga(frase):\n",
    "    frases=frase.split(' ')\n",
    "    return max(len(frases))\n",
    "        \n",
    "        "
   ]
  },
  {
   "cell_type": "code",
   "execution_count": 59,
   "id": "15ba0814-020d-4a2c-bd67-a586afacd805",
   "metadata": {},
   "outputs": [
    {
     "ename": "TypeError",
     "evalue": "'int' object is not iterable",
     "output_type": "error",
     "traceback": [
      "\u001b[1;31m---------------------------------------------------------------------------\u001b[0m",
      "\u001b[1;31mTypeError\u001b[0m                                 Traceback (most recent call last)",
      "Cell \u001b[1;32mIn[59], line 2\u001b[0m\n\u001b[0;32m      1\u001b[0m frase\u001b[38;5;241m=\u001b[39m\u001b[38;5;124m'\u001b[39m\u001b[38;5;124mUno nunca sabe\u001b[39m\u001b[38;5;124m'\u001b[39m\n\u001b[1;32m----> 2\u001b[0m \u001b[38;5;28;43mmax\u001b[39;49m\u001b[43m(\u001b[49m\u001b[38;5;28;43mlen\u001b[39;49m\u001b[43m(\u001b[49m\u001b[43mfrase\u001b[49m\u001b[38;5;241;43m.\u001b[39;49m\u001b[43msplit\u001b[49m\u001b[43m(\u001b[49m\u001b[38;5;124;43m'\u001b[39;49m\u001b[38;5;124;43m \u001b[39;49m\u001b[38;5;124;43m'\u001b[39;49m\u001b[43m)\u001b[49m\u001b[43m)\u001b[49m\u001b[43m)\u001b[49m\n",
      "\u001b[1;31mTypeError\u001b[0m: 'int' object is not iterable"
     ]
    }
   ],
   "source": [
    "frase='Uno nunca sabe'\n",
    "max(len(frase.split(' ')))"
   ]
  },
  {
   "cell_type": "markdown",
   "id": "ac94284c-c72e-414c-9332-a5a1e3299ac8",
   "metadata": {},
   "source": [
    "3. Simulador de calculadora básica\n",
    "Crea una función calculadora(a, b, operador) donde operador puede ser \"+\", \"-\", \"*\", \"/\".\n",
    "Usa if/elif para decidir la operación"
   ]
  },
  {
   "cell_type": "code",
   "execution_count": 77,
   "id": "9817f534-7f39-454c-a825-a985f3c3cddd",
   "metadata": {},
   "outputs": [],
   "source": [
    "def calculadora(a, b, operador):\n",
    "    if operador== '+':\n",
    "        return a+b\n",
    "    elif operador== '-':\n",
    "        return a-b\n",
    "    elif operador== '*':\n",
    "        return a*b\n",
    "    elif operador=='/':\n",
    "        if b==0:\n",
    "            return 'error'\n",
    "        else:\n",
    "            return a/b\n",
    "        "
   ]
  },
  {
   "cell_type": "code",
   "execution_count": 79,
   "id": "74bd54e2-d205-4331-b4a7-375d41aa626a",
   "metadata": {},
   "outputs": [
    {
     "data": {
      "text/plain": [
       "'error'"
      ]
     },
     "execution_count": 79,
     "metadata": {},
     "output_type": "execute_result"
    }
   ],
   "source": [
    "calculadora(4, 0, '/')"
   ]
  },
  {
   "cell_type": "markdown",
   "id": "3cca8c2f-384c-4e43-a3ee-f93a9ff17489",
   "metadata": {},
   "source": [
    "4. Suma de números impares\n",
    "\n",
    "Dada una lista de enteros, escribe una función que devuelva la suma de todos los números impares.\n",
    "Ejemplo → [1, 2, 3, 4, 5] → 9."
   ]
  },
  {
   "cell_type": "code",
   "execution_count": 54,
   "id": "19402c50-4f8b-4766-aaf4-e9a601faa496",
   "metadata": {},
   "outputs": [],
   "source": [
    "def suma_impares(lista):\n",
    "    impares=[]\n",
    "    for i in lista:\n",
    "        if i%2!=0:\n",
    "            impares.append(i)\n",
    "    return sum(impares)\n",
    "            "
   ]
  },
  {
   "cell_type": "code",
   "execution_count": 55,
   "id": "0d6bc27b-7b06-4b34-94a8-4b9566a0a297",
   "metadata": {},
   "outputs": [
    {
     "data": {
      "text/plain": [
       "9"
      ]
     },
     "execution_count": 55,
     "metadata": {},
     "output_type": "execute_result"
    }
   ],
   "source": [
    "suma_impares( [1, 2, 3, 4, 5])"
   ]
  },
  {
   "cell_type": "markdown",
   "id": "cb1b695d-545d-4800-b498-e632a8d1110e",
   "metadata": {},
   "source": [
    "5. Palabras que comienzan con vocal\n",
    "\n",
    "Dada una lista de palabras, devuelve una nueva lista solo con las que empiezan con vocal.\n",
    "Ejemplo → [\"oso\", \"perro\", \"agua\", \"luz\"] → [\"oso\", \"agua\"]."
   ]
  },
  {
   "cell_type": "code",
   "execution_count": 56,
   "id": "fcdb24b9-50e0-49a2-82b7-2662b35641c3",
   "metadata": {},
   "outputs": [],
   "source": [
    "def inicio_vocal(lista):\n",
    "    vocal=[]\n",
    "    vocales='a','e','i','o','u','A','E','I','O','U'\n",
    "    for i in lista:\n",
    "        if i[0] in vocales:\n",
    "            vocal.append(i)\n",
    "    return vocal"
   ]
  },
  {
   "cell_type": "code",
   "execution_count": 57,
   "id": "f1628017-2f16-4672-9bf6-56f8cf4cbd1a",
   "metadata": {},
   "outputs": [
    {
     "data": {
      "text/plain": [
       "['oso', 'agua']"
      ]
     },
     "execution_count": 57,
     "metadata": {},
     "output_type": "execute_result"
    }
   ],
   "source": [
    "inicio_vocal([\"oso\", \"perro\", \"agua\", \"luz\"])"
   ]
  },
  {
   "cell_type": "markdown",
   "id": "50ab5e3a-e94f-45c7-ae64-791ee320058f",
   "metadata": {},
   "source": [
    "6. Unir listas alternando elementos. Investigar la built-in function zip\n",
    "\n",
    "Dados dos listas del mismo tamaño, genera una tercera lista intercalando sus elementos.\n",
    "Ejemplo → [1,2,3], [‘a’,‘b’,‘c’] → [1,‘a’,2,‘b’,3,‘c’]."
   ]
  },
  {
   "cell_type": "code",
   "execution_count": 65,
   "id": "bdf8e944-e1c7-46c1-83e9-ef27c6a2262b",
   "metadata": {},
   "outputs": [],
   "source": [
    "def tercera_lista(lista1,lista2):\n",
    "    intercalado=list(zip(lista1,lista2))\n",
    "    return list(sum(intercalado, ()))"
   ]
  },
  {
   "cell_type": "code",
   "execution_count": 66,
   "id": "29d2d1b2-afdb-4d09-bb67-8293ea165db2",
   "metadata": {},
   "outputs": [
    {
     "data": {
      "text/plain": [
       "[1, 'a', 2, 'b', 3, 'c']"
      ]
     },
     "execution_count": 66,
     "metadata": {},
     "output_type": "execute_result"
    }
   ],
   "source": [
    "tercera_lista([1,2,3], ['a','b','c'])"
   ]
  },
  {
   "cell_type": "markdown",
   "id": "54ca3a6a-3d60-42b5-81eb-7863d99ff644",
   "metadata": {},
   "source": [
    "7. Rotar una lista n posiciones\n",
    "\n",
    "Dada una lista y un número entero n, rota la lista hacia la derecha n posiciones.\n",
    "Ejemplo → [1,2,3,4,5], n=2 → [4,5,1,2,3]"
   ]
  },
  {
   "cell_type": "code",
   "execution_count": 67,
   "id": "548305a6-f256-4428-bf3c-07e77b380a83",
   "metadata": {},
   "outputs": [],
   "source": [
    "def rotar_derecha(lista,n):\n",
    "    return lista[-n:] + lista[:-n]"
   ]
  },
  {
   "cell_type": "code",
   "execution_count": 68,
   "id": "ceeb82d1-92f6-44f6-a596-d6826353508a",
   "metadata": {},
   "outputs": [
    {
     "data": {
      "text/plain": [
       "[4, 5, 1, 2, 3]"
      ]
     },
     "execution_count": 68,
     "metadata": {},
     "output_type": "execute_result"
    }
   ],
   "source": [
    "rotar_derecha([1,2,3,4,5],2)"
   ]
  },
  {
   "cell_type": "code",
   "execution_count": null,
   "id": "7ee05540-25ee-4542-8d9a-2af5e68c24d1",
   "metadata": {},
   "outputs": [],
   "source": []
  }
 ],
 "metadata": {
  "kernelspec": {
   "display_name": "Python 3 (ipykernel)",
   "language": "python",
   "name": "python3"
  },
  "language_info": {
   "codemirror_mode": {
    "name": "ipython",
    "version": 3
   },
   "file_extension": ".py",
   "mimetype": "text/x-python",
   "name": "python",
   "nbconvert_exporter": "python",
   "pygments_lexer": "ipython3",
   "version": "3.10.4"
  }
 },
 "nbformat": 4,
 "nbformat_minor": 5
}
