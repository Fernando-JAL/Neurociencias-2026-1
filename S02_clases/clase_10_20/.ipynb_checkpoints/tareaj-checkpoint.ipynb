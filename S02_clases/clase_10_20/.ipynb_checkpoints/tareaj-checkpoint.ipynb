{
 "cells": [
  {
   "cell_type": "markdown",
   "id": "103a2cfa-2ba1-46ae-84d9-178dbbf5a197",
   "metadata": {},
   "source": [
    "TAREA JUEVES\n",
    "- investigar en networkx como sacar modularidad, arquitectura de mundo pequeño, eficiencia global, hubs:\n",
    "- Modularidad:modularity(G, communities, weight='weight', resolution=1)\n",
    "- Mundo pequeño:\n",
    "random_reference(G[, niter, connectivity, seed]): Compute a random graph by swapping edges of a given graph.\n",
    "\n",
    "lattice_reference(G[, niter, D, ...]): Latticize the given graph by swapping edges.\n",
    "\n",
    "sigma(G[, niter, nrand, seed]): Returns the small-world coefficient (sigma) of the given graph.\n",
    "\n",
    "omega(G[, niter, nrand, seed]):Returns the small-world coefficient (omega) of a graph\n",
    "- Eficacia: global_efficiency(G)[source]\n",
    "- Hubs:hits(G, max_iter=100, tol=1e-08, nstart=None, normalized=True)[source]:Returns HITS hubs and authorities values for nodes."
   ]
  },
  {
   "cell_type": "code",
   "execution_count": null,
   "id": "342e93ba-e4c3-4baa-bd73-409c9c2ab2a1",
   "metadata": {},
   "outputs": [],
   "source": []
  }
 ],
 "metadata": {
  "kernelspec": {
   "display_name": "Python 3 (ipykernel)",
   "language": "python",
   "name": "python3"
  },
  "language_info": {
   "codemirror_mode": {
    "name": "ipython",
    "version": 3
   },
   "file_extension": ".py",
   "mimetype": "text/x-python",
   "name": "python",
   "nbconvert_exporter": "python",
   "pygments_lexer": "ipython3",
   "version": "3.10.4"
  }
 },
 "nbformat": 4,
 "nbformat_minor": 5
}
