{
 "cells": [
  {
   "cell_type": "markdown",
   "id": "103a2cfa-2ba1-46ae-84d9-178dbbf5a197",
   "metadata": {},
   "source": [
    "TAREA JUEVES\n",
    "- investigar en networkx como sacar modularidad, arquitectura de mundo pequeño, eficiencia global, hubs:\n",
    "- Modularidad\n",
    "- Mundo pequeño:random_reference(G[, niter, connectivity, seed])\n",
    "\n",
    "Compute a random graph by swapping edges of a given graph.\n",
    "\n",
    "lattice_reference(G[, niter, D, ...])\n",
    "\n",
    "Latticize the given graph by swapping edges.\n",
    "\n",
    "sigma(G[, niter, nrand, seed])\n",
    "\n",
    "Returns the small-world coefficient (sigma) of the given graph.\n",
    "\n",
    "omega(G[, niter, nrand, seed])\n",
    "\n",
    "Returns the small-world coefficient (omega) of a graph\n",
    "- Eficacia\n",
    "- Hubs"
   ]
  }
 ],
 "metadata": {
  "kernelspec": {
   "display_name": "Python 3 (ipykernel)",
   "language": "python",
   "name": "python3"
  },
  "language_info": {
   "codemirror_mode": {
    "name": "ipython",
    "version": 3
   },
   "file_extension": ".py",
   "mimetype": "text/x-python",
   "name": "python",
   "nbconvert_exporter": "python",
   "pygments_lexer": "ipython3",
   "version": "3.10.4"
  }
 },
 "nbformat": 4,
 "nbformat_minor": 5
}
