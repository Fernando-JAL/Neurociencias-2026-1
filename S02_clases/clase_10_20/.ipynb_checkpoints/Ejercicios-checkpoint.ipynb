{
 "cells": [
  {
   "cell_type": "markdown",
   "id": "01356de1-f85e-4e03-83cf-ed8cfc081451",
   "metadata": {},
   "source": [
    "## Investigar como calcular en networkx, para el jueves\n",
    "- Arquitectura de mundo pequeño\n",
    "- Modularidad/comunidades\n",
    "- Hubs (nodos centrales)\n",
    "- Eficiencia global vs eficiencia local"
   ]
  },
  {
   "cell_type": "markdown",
   "id": "a257bba1-2517-47ef-9a2b-e85ee9a109d9",
   "metadata": {},
   "source": [
    "# Ejercicios \n",
    "1. Validar contraseña segura Escribe una función es_contraseña_segura(passw) que verifique si una contraseña:\n",
    "- Tiene al menos 8 caracteres\n",
    "\n",
    "- Incluye mayúsculas, minúsculas, números y un carácter especial (@, #, $, %, &, etc.) Usa funciones built-in como any(), str.isdigit(), str.isupper(), etc.\n",
    "\n",
    "2.  Palabra más larga en una frase\n",
    "Define palabra_mas_larga(frase) que encuentre la palabra con más caracteres dentro de un texto.\n",
    "\n",
    "3. Simulador de calculadora básica Crea una función calculadora(a, b, operador) donde operador puede ser \"+\", \"-\", \"*\", \"/\". Usa if/elif para decidir la operación\n",
    "\n",
    "4. Suma de números impares\n",
    "Dada una lista de enteros, escribe una función que devuelva la suma de todos los números impares. Ejemplo → [1, 2, 3, 4, 5] → 9.\n",
    "\n",
    "5. Palabras que comienzan con vocal\n",
    "Dada una lista de palabras, devuelve una nueva lista solo con las que empiezan con vocal. Ejemplo → [\"oso\", \"perro\", \"agua\", \"luz\"] → [\"oso\", \"agua\"].\n",
    "\n",
    "6. Unir listas alternando elementos. Investigar la built-in function zip\n",
    "Dados dos listas del mismo tamaño, genera una tercera lista intercalando sus elementos. Ejemplo → [1,2,3], [‘a’,‘b’,‘c’] → [1,‘a’,2,‘b’,3,‘c’].\n",
    "\n",
    "7. Rotar una lista n posiciones\n",
    "Dada una lista y un número entero n, rota la lista hacia la derecha n posiciones. Ejemplo → [1,2,3,4,5], n=2 → [4,5,1,2,3]"
   ]
  },
  {
   "cell_type": "code",
   "execution_count": 1,
   "id": "491f265c-860e-42e1-8499-a58a03f36f20",
   "metadata": {},
   "outputs": [],
   "source": [
    "import networkx as nx\n",
    "import matplotlib.pyplot as plt\n",
    "import pandas as pd\n",
    "import numpy as np"
   ]
  },
  {
   "cell_type": "code",
   "execution_count": 2,
   "id": "bd848aeb-f0f5-4a87-b4ab-26f983b8aa29",
   "metadata": {},
   "outputs": [
    {
     "data": {
      "text/plain": [
       "False"
      ]
     },
     "execution_count": 2,
     "metadata": {},
     "output_type": "execute_result"
    }
   ],
   "source": [
    "# EJERCICIO 1\n",
    "\n",
    "def es_contraseña_segura(passw): \n",
    "    especiales = \"@#$%&-\"\n",
    "    return (\n",
    "        len(passw) >= 8 and\n",
    "        any(c.isupper() for c in passw) and\n",
    "        any(c.islower() for c in passw) and\n",
    "        any(c.isdigit() for c in passw) and\n",
    "        any(c in especiales for c in passw)\n",
    "    )\n",
    "\n",
    "es_contraseña_segura(\"asdjk\")\n",
    "\n"
   ]
  },
  {
   "cell_type": "code",
   "execution_count": 10,
   "id": "68df0738-fdbb-40b9-b4ba-9a7de82b275e",
   "metadata": {},
   "outputs": [
    {
     "name": "stdin",
     "output_type": "stream",
     "text": [
      "Contraseña:  Modelos_1234\n"
     ]
    },
    {
     "name": "stdout",
     "output_type": "stream",
     "text": [
      "Contraseña segura\n"
     ]
    }
   ],
   "source": [
    "def contraseña_segura(passw):\n",
    "    errores = []\n",
    "\n",
    "    if len(passw) < 8:\n",
    "        errores.append(\"La contraseña debe tener al menos 8 caracteres\")\n",
    "    if not any(c.isupper() for c in passw):\n",
    "        errores.append(\"Debe incluir al menos una letra mayúscula\")\n",
    "    if not any(c.islower() for c in passw):\n",
    "        errores.append(\"Debe incluir al menos una letra minúscula\")\n",
    "    if not any(c.isdigit() for c in passw):\n",
    "        errores.append(\"Debe incluir al menos un número\")\n",
    "    if not any(c in \"@#$%&*!?_-\" for c in passw):\n",
    "        errores.append(\"Debe incluir al menos un carácter especial (@, #, $, %, &, *, !, ?)\")\n",
    "\n",
    "    # Mostrar resultados\n",
    "    if errores:\n",
    "        print(\"\\n\".join(errores))\n",
    "        print(\"Contraseña poco segura\")\n",
    "    else:\n",
    "        print(\"Contraseña segura\")\n",
    "\n",
    "\n",
    "# --- Ejecución interactiva ---\n",
    "password_usuario = input(\"Contraseña: \")\n",
    "contraseña_segura(password_usuario)\n"
   ]
  },
  {
   "cell_type": "code",
   "execution_count": 3,
   "id": "2fe480b8-4342-4de6-ad99-124168dcabf3",
   "metadata": {},
   "outputs": [
    {
     "data": {
      "text/plain": [
       "'hello'"
      ]
     },
     "execution_count": 3,
     "metadata": {},
     "output_type": "execute_result"
    }
   ],
   "source": [
    "# EJERCICIO 2\n",
    "\n",
    "def palabra_mas_larga(frase):\n",
    "        palabras = frase.split(sep = \" \")\n",
    "        return max(palabras, key = len)\n",
    "\n",
    "palabra_mas_larga(\"hola hola hello\")\n"
   ]
  },
  {
   "cell_type": "code",
   "execution_count": 4,
   "id": "2e4e8218-dfa5-4136-963d-30fcc9959d1a",
   "metadata": {},
   "outputs": [
    {
     "data": {
      "text/plain": [
       "'Error: división entre cero'"
      ]
     },
     "execution_count": 4,
     "metadata": {},
     "output_type": "execute_result"
    }
   ],
   "source": [
    "# EJERCICIO 3\n",
    "def calculadora(a, b, operador):\n",
    "    if operador == \"+\":\n",
    "        return a + b\n",
    "    elif operador == \"-\":\n",
    "        return  a-b\n",
    "    elif operador == \"*\":\n",
    "        return  a*b\n",
    "    elif operador == \"/\":\n",
    "        #return a/b\n",
    "        if b == 0:\n",
    "            return \"Error: división entre cero\"\n",
    "        else:\n",
    "            return a/b\n",
    "        \n",
    "    \n",
    "\n",
    "calculadora(4, 0, \"/\")"
   ]
  },
  {
   "cell_type": "code",
   "execution_count": 5,
   "id": "a9214ca0-b194-4daa-8a17-c461f9355bfb",
   "metadata": {},
   "outputs": [
    {
     "data": {
      "text/plain": [
       "6"
      ]
     },
     "execution_count": 5,
     "metadata": {},
     "output_type": "execute_result"
    }
   ],
   "source": [
    "# EJERCICIO 4\n",
    "def suma_impares(lista):\n",
    "    return sum(num for num in lista if num % 2 != 0)\n",
    "\n",
    "suma_impares([4, 5, 6, 1])"
   ]
  },
  {
   "cell_type": "code",
   "execution_count": 6,
   "id": "1635c7c5-0133-413e-bb02-70650870c56d",
   "metadata": {},
   "outputs": [
    {
     "data": {
      "text/plain": [
       "['elefante']"
      ]
     },
     "execution_count": 6,
     "metadata": {},
     "output_type": "execute_result"
    }
   ],
   "source": [
    "# EJERCICIO 5\n",
    "def palabras_con_vocal(lista):\n",
    "    vocales = \"aeiouAEIOU\"\n",
    "    return [p for p in lista if p[0] in vocales]\n",
    "\n",
    "palabras_con_vocal([\"hipopótamo\", \"elefante\", \"tigre\"])"
   ]
  },
  {
   "cell_type": "code",
   "execution_count": 7,
   "id": "a8f28446-7999-4254-b2a0-457d9998f670",
   "metadata": {},
   "outputs": [
    {
     "data": {
      "text/plain": [
       "['a', 'j', 'b', 'k', 'c', 'l']"
      ]
     },
     "execution_count": 7,
     "metadata": {},
     "output_type": "execute_result"
    }
   ],
   "source": [
    "# EJERCICIO 6\n",
    "def unir_alternando(lista1, lista2):\n",
    "    combinada = [elem for par in zip(lista1, lista2) for elem in par]\n",
    "    return combinada\n",
    "\n",
    "unir_alternando([\"a\", \"b\", \"c\"], [\"j\", \"k\", \"l\"])"
   ]
  },
  {
   "cell_type": "code",
   "execution_count": 8,
   "id": "c06ccfad-2d92-4708-8e7c-3458e000eef1",
   "metadata": {},
   "outputs": [
    {
     "data": {
      "text/plain": [
       "['b', 'A', 'a', 'B']"
      ]
     },
     "execution_count": 8,
     "metadata": {},
     "output_type": "execute_result"
    }
   ],
   "source": [
    "# EJERCICIO 7\n",
    "def rotar_lista(lista, n):\n",
    "    n = n % len(lista) \n",
    "    return lista[-n:] + lista[:-n]\n",
    "\n",
    "rotar_lista([\"A\", \"a\", \"B\", \"b\"], 1)"
   ]
  },
  {
   "cell_type": "code",
   "execution_count": null,
   "id": "91ad3783-31d1-41b6-bd4d-2b7535e55362",
   "metadata": {},
   "outputs": [],
   "source": []
  },
  {
   "cell_type": "code",
   "execution_count": null,
   "id": "000e853d-b239-451e-bac5-aaffbe287c81",
   "metadata": {},
   "outputs": [],
   "source": []
  }
 ],
 "metadata": {
  "kernelspec": {
   "display_name": "Python 3 (ipykernel)",
   "language": "python",
   "name": "python3"
  },
  "language_info": {
   "codemirror_mode": {
    "name": "ipython",
    "version": 3
   },
   "file_extension": ".py",
   "mimetype": "text/x-python",
   "name": "python",
   "nbconvert_exporter": "python",
   "pygments_lexer": "ipython3",
   "version": "3.13.6"
  }
 },
 "nbformat": 4,
 "nbformat_minor": 5
}
