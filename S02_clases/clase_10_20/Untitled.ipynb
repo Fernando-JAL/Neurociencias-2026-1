{
 "cells": [
  {
   "cell_type": "markdown",
   "id": "30560d19-624f-4a9e-814f-8d7018d108bf",
   "metadata": {},
   "source": [
    "# tarea\n",
    "#### investigar en networkx coomo se saca \n",
    "- arquitectura de mundo pequeño\n",
    "- modularidad o comunidades\n",
    "- hubs nodos centrales\n",
    "- eficiencia global vs eficiencia local\n"
   ]
  },
  {
   "cell_type": "markdown",
   "id": "fc08e81e-dd91-4049-877a-f193a6dc37b5",
   "metadata": {},
   "source": [
    "## Validar contraseña segura Escribe una funcion es"
   ]
  }
 ],
 "metadata": {
  "kernelspec": {
   "display_name": "Python 3 (ipykernel)",
   "language": "python",
   "name": "python3"
  },
  "language_info": {
   "codemirror_mode": {
    "name": "ipython",
    "version": 3
   },
   "file_extension": ".py",
   "mimetype": "text/x-python",
   "name": "python",
   "nbconvert_exporter": "python",
   "pygments_lexer": "ipython3",
   "version": "3.10.4"
  }
 },
 "nbformat": 4,
 "nbformat_minor": 5
}
