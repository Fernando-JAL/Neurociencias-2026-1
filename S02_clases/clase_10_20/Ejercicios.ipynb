{
 "cells": [
  {
   "cell_type": "markdown",
   "id": "01356de1-f85e-4e03-83cf-ed8cfc081451",
   "metadata": {},
   "source": [
    "## Investigar como calcular en networkx, para el jueves\n",
    "- Arquitectura de mundo pequeño\n",
    "- Modularidad/comunidades\n",
    "- Hubs (nodos centrales)\n",
    "- Eficiencia global vs eficiencia local"
   ]
  },
  {
   "cell_type": "markdown",
   "id": "a257bba1-2517-47ef-9a2b-e85ee9a109d9",
   "metadata": {},
   "source": [
    "# Ejercicios \n",
    "1. Validar contraseña segura Escribe una función es_contraseña_segura(passw) que verifique si una contraseña:\n",
    "- Tiene al menos 8 caracteres\n",
    "\n",
    "- Incluye mayúsculas, minúsculas, números y un carácter especial (@, #, $, %, &, etc.) Usa funciones built-in como any(), str.isdigit(), str.isupper(), etc.\n",
    "\n",
    "2.  Palabra más larga en una frase\n",
    "Define palabra_mas_larga(frase) que encuentre la palabra con más caracteres dentro de un texto.\n",
    "\n",
    "3. Simulador de calculadora básica Crea una función calculadora(a, b, operador) donde operador puede ser \"+\", \"-\", \"*\", \"/\". Usa if/elif para decidir la operación\n",
    "\n",
    "4. Suma de números impares\n",
    "Dada una lista de enteros, escribe una función que devuelva la suma de todos los números impares. Ejemplo → [1, 2, 3, 4, 5] → 9.\n",
    "\n",
    "5. Palabras que comienzan con vocal\n",
    "Dada una lista de palabras, devuelve una nueva lista solo con las que empiezan con vocal. Ejemplo → [\"oso\", \"perro\", \"agua\", \"luz\"] → [\"oso\", \"agua\"].\n",
    "\n",
    "6. Unir listas alternando elementos. Investigar la built-in function zip\n",
    "Dados dos listas del mismo tamaño, genera una tercera lista intercalando sus elementos. Ejemplo → [1,2,3], [‘a’,‘b’,‘c’] → [1,‘a’,2,‘b’,3,‘c’].\n",
    "\n",
    "7. Rotar una lista n posiciones\n",
    "Dada una lista y un número entero n, rota la lista hacia la derecha n posiciones. Ejemplo → [1,2,3,4,5], n=2 → [4,5,1,2,3]"
   ]
  },
  {
   "cell_type": "code",
   "execution_count": 1,
   "id": "491f265c-860e-42e1-8499-a58a03f36f20",
   "metadata": {},
   "outputs": [],
   "source": [
    "import networkx as nx\n",
    "import matplotlib.pyplot as plt\n",
    "import pandas as pd\n",
    "import numpy as np"
   ]
  },
  {
   "cell_type": "code",
   "execution_count": 38,
   "id": "bd848aeb-f0f5-4a87-b4ab-26f983b8aa29",
   "metadata": {},
   "outputs": [
    {
     "data": {
      "text/plain": [
       "False"
      ]
     },
     "execution_count": 38,
     "metadata": {},
     "output_type": "execute_result"
    }
   ],
   "source": [
    "# EJERCICIO 1\n",
    "\n",
    "def es_contraseña_segura(passw): \n",
    "    especiales = \"@#$%&-\"\n",
    "    return (\n",
    "        len(passw) >= 8 and\n",
    "        any(c.isupper() for c in passw) and\n",
    "        any(c.islower() for c in passw) and\n",
    "        any(c.isdigit() for c in passw) and\n",
    "        any(c in especiales for c in passw)\n",
    "    )\n",
    "\n",
    "es_contraseña_segura(\"asdjk\")\n",
    "\n"
   ]
  },
  {
   "cell_type": "code",
   "execution_count": 37,
   "id": "2fe480b8-4342-4de6-ad99-124168dcabf3",
   "metadata": {},
   "outputs": [
    {
     "ename": "TypeError",
     "evalue": "'int' object is not iterable",
     "output_type": "error",
     "traceback": [
      "\u001b[31m---------------------------------------------------------------------------\u001b[39m",
      "\u001b[31mTypeError\u001b[39m                                 Traceback (most recent call last)",
      "\u001b[36mCell\u001b[39m\u001b[36m \u001b[39m\u001b[32mIn[37]\u001b[39m\u001b[32m, line 8\u001b[39m\n\u001b[32m      5\u001b[39m         longitud = \u001b[38;5;28mlen\u001b[39m(frase.split(sep = \u001b[33m\"\u001b[39m\u001b[33m \u001b[39m\u001b[33m\"\u001b[39m))\n\u001b[32m      6\u001b[39m         \u001b[38;5;28;01mreturn\u001b[39;00m \u001b[38;5;28mmax\u001b[39m(longitud)\n\u001b[32m----> \u001b[39m\u001b[32m8\u001b[39m \u001b[43mpalabra_mas_larga\u001b[49m\u001b[43m(\u001b[49m\u001b[33;43m\"\u001b[39;49m\u001b[33;43mhola hola hello\u001b[39;49m\u001b[33;43m\"\u001b[39;49m\u001b[43m)\u001b[49m\n",
      "\u001b[36mCell\u001b[39m\u001b[36m \u001b[39m\u001b[32mIn[37]\u001b[39m\u001b[32m, line 6\u001b[39m, in \u001b[36mpalabra_mas_larga\u001b[39m\u001b[34m(frase)\u001b[39m\n\u001b[32m      4\u001b[39m \u001b[38;5;28;01mfor\u001b[39;00m palabra \u001b[38;5;129;01min\u001b[39;00m frase:\n\u001b[32m      5\u001b[39m     longitud = \u001b[38;5;28mlen\u001b[39m(frase.split(sep = \u001b[33m\"\u001b[39m\u001b[33m \u001b[39m\u001b[33m\"\u001b[39m))\n\u001b[32m----> \u001b[39m\u001b[32m6\u001b[39m     \u001b[38;5;28;01mreturn\u001b[39;00m \u001b[38;5;28;43mmax\u001b[39;49m\u001b[43m(\u001b[49m\u001b[43mlongitud\u001b[49m\u001b[43m)\u001b[49m\n",
      "\u001b[31mTypeError\u001b[39m: 'int' object is not iterable"
     ]
    }
   ],
   "source": [
    "# EJERCICIO 2\n",
    "\n",
    "def palabra_mas_larga(frase):\n",
    "    for palabra in frase:\n",
    "        longitud = len(frase.split(sep = \" \"))\n",
    "        return max(longitud)\n",
    "\n",
    "palabra_mas_larga(\"hola hola hello\")"
   ]
  },
  {
   "cell_type": "code",
   "execution_count": 52,
   "id": "2e4e8218-dfa5-4136-963d-30fcc9959d1a",
   "metadata": {},
   "outputs": [
    {
     "data": {
      "text/plain": [
       "4.0"
      ]
     },
     "execution_count": 52,
     "metadata": {},
     "output_type": "execute_result"
    }
   ],
   "source": [
    "# EJERCICIO 3\n",
    "def calculadora(a, b, operador):\n",
    "    if operador == \"+\":\n",
    "        resultado = a + b\n",
    "    elif operador == \"-\":\n",
    "        resultado = a-b\n",
    "    elif operador == \"*\":\n",
    "        resultado = a*b\n",
    "    if operador == \"/\":\n",
    "        resultado = a/b\n",
    "        if b == 0:\n",
    "            resultado = print(\"error, división entre 0\")\n",
    "            \n",
    "    return resultado\n",
    "\n",
    "calculadora(4, 1, \"/\")"
   ]
  },
  {
   "cell_type": "code",
   "execution_count": 39,
   "id": "a9214ca0-b194-4daa-8a17-c461f9355bfb",
   "metadata": {},
   "outputs": [
    {
     "ename": "NameError",
     "evalue": "name 'digito' is not defined",
     "output_type": "error",
     "traceback": [
      "\u001b[31m---------------------------------------------------------------------------\u001b[39m",
      "\u001b[31mNameError\u001b[39m                                 Traceback (most recent call last)",
      "\u001b[36mCell\u001b[39m\u001b[36m \u001b[39m\u001b[32mIn[39]\u001b[39m\u001b[32m, line 8\u001b[39m\n\u001b[32m      5\u001b[39m         total = \u001b[38;5;28msum\u001b[39m(numeros)    \n\u001b[32m      6\u001b[39m     \u001b[38;5;28;01mreturn\u001b[39;00m total\n\u001b[32m----> \u001b[39m\u001b[32m8\u001b[39m \u001b[43msuma_impares\u001b[49m\u001b[43m(\u001b[49m\u001b[32;43m111\u001b[39;49m\u001b[43m)\u001b[49m\n",
      "\u001b[36mCell\u001b[39m\u001b[36m \u001b[39m\u001b[32mIn[39]\u001b[39m\u001b[32m, line 4\u001b[39m, in \u001b[36msuma_impares\u001b[39m\u001b[34m(numeros)\u001b[39m\n\u001b[32m      2\u001b[39m \u001b[38;5;28;01mdef\u001b[39;00m\u001b[38;5;250m \u001b[39m\u001b[34msuma_impares\u001b[39m(numeros):\n\u001b[32m      3\u001b[39m     impares = [\u001b[32m1\u001b[39m, \u001b[32m3\u001b[39m, \u001b[32m5\u001b[39m, \u001b[32m7\u001b[39m, \u001b[32m9\u001b[39m] \n\u001b[32m----> \u001b[39m\u001b[32m4\u001b[39m     \u001b[38;5;28;01mif\u001b[39;00m \u001b[43mdigito\u001b[49m \u001b[38;5;129;01min\u001b[39;00m numeros.any(impares):  \n\u001b[32m      5\u001b[39m         total = \u001b[38;5;28msum\u001b[39m(numeros)    \n\u001b[32m      6\u001b[39m     \u001b[38;5;28;01mreturn\u001b[39;00m total\n",
      "\u001b[31mNameError\u001b[39m: name 'digito' is not defined"
     ]
    }
   ],
   "source": [
    "# EJERCICIO 4\n",
    "def suma_impares(numeros):\n",
    "    impares = [1, 3, 5, 7, 9] \n",
    "    if digito in numeros.any(impares):  \n",
    "        total = sum(numeros)    \n",
    "    return total\n",
    "\n",
    "suma_impares(111)"
   ]
  },
  {
   "cell_type": "code",
   "execution_count": null,
   "id": "1635c7c5-0133-413e-bb02-70650870c56d",
   "metadata": {},
   "outputs": [],
   "source": [
    "# EJERCICIO 5\n",
    "\n",
    "def palabras_vocales(palabras):\n",
    "    "
   ]
  },
  {
   "cell_type": "code",
   "execution_count": null,
   "id": "a8f28446-7999-4254-b2a0-457d9998f670",
   "metadata": {},
   "outputs": [],
   "source": [
    "# EJERCICIO 6"
   ]
  },
  {
   "cell_type": "code",
   "execution_count": null,
   "id": "c06ccfad-2d92-4708-8e7c-3458e000eef1",
   "metadata": {},
   "outputs": [],
   "source": [
    "# EJERCICIO 7"
   ]
  },
  {
   "cell_type": "code",
   "execution_count": null,
   "id": "91ad3783-31d1-41b6-bd4d-2b7535e55362",
   "metadata": {},
   "outputs": [],
   "source": []
  },
  {
   "cell_type": "code",
   "execution_count": null,
   "id": "000e853d-b239-451e-bac5-aaffbe287c81",
   "metadata": {},
   "outputs": [],
   "source": []
  }
 ],
 "metadata": {
  "kernelspec": {
   "display_name": "Python 3 (ipykernel)",
   "language": "python",
   "name": "python3"
  },
  "language_info": {
   "codemirror_mode": {
    "name": "ipython",
    "version": 3
   },
   "file_extension": ".py",
   "mimetype": "text/x-python",
   "name": "python",
   "nbconvert_exporter": "python",
   "pygments_lexer": "ipython3",
   "version": "3.13.6"
  }
 },
 "nbformat": 4,
 "nbformat_minor": 5
}
