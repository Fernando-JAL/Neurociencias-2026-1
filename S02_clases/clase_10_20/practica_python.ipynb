{
 "cells": [
  {
   "cell_type": "markdown",
   "id": "d20eb0fb-08f3-412d-80c6-09894d40f1bf",
   "metadata": {},
   "source": [
    "1. Validar contraseña segura\n",
    "Escribe una función es_contraseña_segura(passw) que verifique si una contraseña:\n",
    "\n",
    "Tiene al menos 8 caracteres\n",
    "\n",
    "Incluye mayúsculas, minúsculas, números y un carácter especial (@, #, $, %, &, etc.)\n",
    "Usa funciones built-in como any(), str.isdigit(), str.isupper(), etc."
   ]
  },
  {
   "cell_type": "code",
   "execution_count": 29,
   "id": "7663ded0-595a-4445-90bf-8325cc30f2b4",
   "metadata": {},
   "outputs": [],
   "source": [
    "def es_contraseña_segura(passw) :\n",
    "   return( \n",
    "       len(passw)>8 and\n",
    "any(c.isupper() for c in passw) and\n",
    " any(c.islower() for c in passw) and\n",
    " any (c.isdigit() for c in passw)and\n",
    " any(c in \"@#$%&\" for c in passw)\n",
    ")"
   ]
  },
  {
   "cell_type": "code",
   "execution_count": 32,
   "id": "336d8682-1653-4ac6-a820-c55650b23c6d",
   "metadata": {},
   "outputs": [
    {
     "name": "stdout",
     "output_type": "stream",
     "text": [
      "False\n"
     ]
    }
   ],
   "source": [
    "print (es_contraseña_segura([\"Teng@hambre14\"]))"
   ]
  },
  {
   "cell_type": "markdown",
   "id": "b49f0cec-5dbe-48e6-bb10-fdbda187eb4a",
   "metadata": {},
   "source": [
    "2. Palabra más larga en una frase\n",
    "\n",
    "Define palabra_mas_larga(frase) que encuentre la palabra con más caracteres dentro de un texto."
   ]
  },
  {
   "cell_type": "code",
   "execution_count": 20,
   "id": "06cca6c5-291f-4582-98e4-f2f2601a638c",
   "metadata": {},
   "outputs": [],
   "source": [
    "def palabra_mas_larga(frase) :\n",
    "    palabras = frase.split()\n",
    "    palabra_larga = max(palabra, key= len)\n",
    "    return palabra_larga"
   ]
  },
  {
   "cell_type": "markdown",
   "id": "ac94284c-c72e-414c-9332-a5a1e3299ac8",
   "metadata": {},
   "source": [
    "3. Simulador de calculadora básica\n",
    "Crea una función calculadora(a, b, operador) donde operador puede ser \"+\", \"-\", \"*\", \"/\".\n",
    "Usa if/elif para decidir la operación"
   ]
  },
  {
   "cell_type": "code",
   "execution_count": 21,
   "id": "7d5f301a-ea9a-4f35-873b-1e878168c2e0",
   "metadata": {},
   "outputs": [],
   "source": [
    "def calculadora (a,b,operador):\n",
    "    if operador == '+':\n",
    "        return a+b\n",
    "    elif operador == '-':\n",
    "          return a-b\n",
    "    elif operador == '*':\n",
    "          return a*b\n",
    "    elif operador == '/':\n",
    "        if b !=0:\n",
    "            return a/b\n",
    "        "
   ]
  },
  {
   "cell_type": "markdown",
   "id": "3cca8c2f-384c-4e43-a3ee-f93a9ff17489",
   "metadata": {},
   "source": [
    "4. Suma de números impares\n",
    "\n",
    "Dada una lista de enteros, escribe una función que devuelva la suma de todos los números impares.\n",
    "Ejemplo → [1, 2, 3, 4, 5] → 9."
   ]
  },
  {
   "cell_type": "code",
   "execution_count": 22,
   "id": "0b5d081a-e764-4a15-b461-234fbd927561",
   "metadata": {},
   "outputs": [],
   "source": [
    "def suma_impares(lista):\n",
    "    suma = sum(num for num in numeros if num % 2 !=0)\n",
    "    return sum "
   ]
  },
  {
   "cell_type": "markdown",
   "id": "cb1b695d-545d-4800-b498-e632a8d1110e",
   "metadata": {},
   "source": [
    "5. Palabras que comienzan con vocal\n",
    "\n",
    "Dada una lista de palabras, devuelve una nueva lista solo con las que empiezan con vocal.\n",
    "Ejemplo → [\"oso\", \"perro\", \"agua\", \"luz\"] → [\"oso\", \"agua\"]."
   ]
  },
  {
   "cell_type": "code",
   "execution_count": 23,
   "id": "24555b19-446d-49a3-a2cf-77a37fb248a2",
   "metadata": {},
   "outputs": [],
   "source": [
    "def palabras_con_vocal(lista_palabra):\n",
    "    vocales=\"aeiouAEIOU\"\n",
    "    return[palabra for palabra in lista_palabra if palabra[0] in vocales]"
   ]
  },
  {
   "cell_type": "markdown",
   "id": "50ab5e3a-e94f-45c7-ae64-791ee320058f",
   "metadata": {},
   "source": [
    "6. Unir listas alternando elementos. Investigar la built-in function zip\n",
    "\n",
    "Dados dos listas del mismo tamaño, genera una tercera lista intercalando sus elementos.\n",
    "Ejemplo → [1,2,3], [‘a’,‘b’,‘c’] → [1,‘a’,2,‘b’,3,‘c’]."
   ]
  },
  {
   "cell_type": "code",
   "execution_count": 24,
   "id": "f74a57b9-7481-4280-a8ea-b092c0137680",
   "metadata": {},
   "outputs": [],
   "source": [
    "def unir_lista_alternadas(lista1, lista2):\n",
    "    resultado=[]\n",
    "    for a,b in zip(lista1,lista2):\n",
    "        resultado.append(a)\n",
    "        resultado.append(b)\n",
    "        return resultado "
   ]
  },
  {
   "cell_type": "markdown",
   "id": "54ca3a6a-3d60-42b5-81eb-7863d99ff644",
   "metadata": {},
   "source": [
    "7. Rotar una lista n posiciones\n",
    "\n",
    "Dada una lista y un número entero n, rota la lista hacia la derecha n posiciones.\n",
    "Ejemplo → [1,2,3,4,5], n=2 → [4,5,1,2,3]"
   ]
  },
  {
   "cell_type": "code",
   "execution_count": null,
   "id": "548305a6-f256-4428-bf3c-07e77b380a83",
   "metadata": {},
   "outputs": [],
   "source": []
  }
 ],
 "metadata": {
  "kernelspec": {
   "display_name": "Python 3 (ipykernel)",
   "language": "python",
   "name": "python3"
  },
  "language_info": {
   "codemirror_mode": {
    "name": "ipython",
    "version": 3
   },
   "file_extension": ".py",
   "mimetype": "text/x-python",
   "name": "python",
   "nbconvert_exporter": "python",
   "pygments_lexer": "ipython3",
   "version": "3.11.1"
  }
 },
 "nbformat": 4,
 "nbformat_minor": 5
}
