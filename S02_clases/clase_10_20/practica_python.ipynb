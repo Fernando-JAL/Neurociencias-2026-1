{
 "cells": [
  {
   "cell_type": "markdown",
   "id": "d20eb0fb-08f3-412d-80c6-09894d40f1bf",
   "metadata": {},
   "source": [
    "1. Validar contraseña segura\n",
    "Escribe una función es_contraseña_segura(passw) que verifique si una contraseña:\n",
    "\n",
    "Tiene al menos 8 caracteres\n",
    "\n",
    "Incluye mayúsculas, minúsculas, números y un carácter especial (@, #, $, %, &, etc.)\n",
    "Usa funciones built-in como any(), str.isdigit(), str.isupper(), etc."
   ]
  },
  {
   "cell_type": "markdown",
   "id": "b49f0cec-5dbe-48e6-bb10-fdbda187eb4a",
   "metadata": {},
   "source": [
    "2. Palabra más larga en una frase\n",
    "\n",
    "Define palabra_mas_larga(frase) que encuentre la palabra con más caracteres dentro de un texto."
   ]
  },
  {
   "cell_type": "markdown",
   "id": "ac94284c-c72e-414c-9332-a5a1e3299ac8",
   "metadata": {},
   "source": [
    "3. Simulador de calculadora básica\n",
    "Crea una función calculadora(a, b, operador) donde operador puede ser \"+\", \"-\", \"*\", \"/\".\n",
    "Usa if/elif para decidir la operación"
   ]
  },
  {
   "cell_type": "markdown",
   "id": "3cca8c2f-384c-4e43-a3ee-f93a9ff17489",
   "metadata": {},
   "source": [
    "4. Suma de números impares\n",
    "\n",
    "Dada una lista de enteros, escribe una función que devuelva la suma de todos los números impares.\n",
    "Ejemplo → [1, 2, 3, 4, 5] → 9."
   ]
  },
  {
   "cell_type": "markdown",
   "id": "cb1b695d-545d-4800-b498-e632a8d1110e",
   "metadata": {},
   "source": [
    "5. Palabras que comienzan con vocal\n",
    "\n",
    "Dada una lista de palabras, devuelve una nueva lista solo con las que empiezan con vocal.\n",
    "Ejemplo → [\"oso\", \"perro\", \"agua\", \"luz\"] → [\"oso\", \"agua\"]."
   ]
  },
  {
   "cell_type": "markdown",
   "id": "50ab5e3a-e94f-45c7-ae64-791ee320058f",
   "metadata": {},
   "source": [
    "6. Unir listas alternando elementos. Investigar la built-in function zip\n",
    "\n",
    "Dados dos listas del mismo tamaño, genera una tercera lista intercalando sus elementos.\n",
    "Ejemplo → [1,2,3], [‘a’,‘b’,‘c’] → [1,‘a’,2,‘b’,3,‘c’]."
   ]
  },
  {
   "cell_type": "markdown",
   "id": "54ca3a6a-3d60-42b5-81eb-7863d99ff644",
   "metadata": {},
   "source": [
    "7. Rotar una lista n posiciones\n",
    "\n",
    "Dada una lista y un número entero n, rota la lista hacia la derecha n posiciones.\n",
    "Ejemplo → [1,2,3,4,5], n=2 → [4,5,1,2,3]"
   ]
  },
  {
   "cell_type": "code",
   "execution_count": 5,
   "id": "548305a6-f256-4428-bf3c-07e77b380a83",
   "metadata": {},
   "outputs": [
    {
     "ename": "SyntaxError",
     "evalue": "invalid syntax (980521492.py, line 8)",
     "output_type": "error",
     "traceback": [
      "  \u001b[36mCell\u001b[39m\u001b[36m \u001b[39m\u001b[32mIn[5]\u001b[39m\u001b[32m, line 8\u001b[39m\n\u001b[31m    \u001b[39m\u001b[31mcaracteres= any (c. in \"@, #, $, %, &, =, ?, !\" for c in passw)\u001b[39m\n                        ^\n\u001b[31mSyntaxError\u001b[39m\u001b[31m:\u001b[39m invalid syntax\n"
     ]
    }
   ],
   "source": [
    "def es_contraseña_segura(passw):\n",
    "    if len(passw)<8:\n",
    "        return False\n",
    "\n",
    "Mayuscula= any (str.isupper() for str in passw)\n",
    "Minuscula= any (str.islower() for str in passw)\n",
    "Numeros= any (str.isdigit() for str in passw)\n",
    "caracteres= any (str. in \"@, #, $, %, &, =, ?, !\" for c in passw)\n",
    "\n",
    "return Mayuscula and Minuscula and Numeros and caracteres"
   ]
  },
  {
   "cell_type": "code",
   "execution_count": 8,
   "id": "c36dafdc-5b77-4dee-b675-490e7d390169",
   "metadata": {},
   "outputs": [
    {
     "name": "stdout",
     "output_type": "stream",
     "text": [
      "usando\n"
     ]
    }
   ],
   "source": [
    "def palabra_mas_larga(frase):\n",
    "    palabras= frase.split()\n",
    "    return max(palabras, key=len)\n",
    "\n",
    "print (palabra_mas_larga(\"Hola mundo estoy usando Python\"))"
   ]
  },
  {
   "cell_type": "code",
   "execution_count": 11,
   "id": "b89e7d36-3937-478d-b33e-fd5908a5d533",
   "metadata": {},
   "outputs": [
    {
     "name": "stdout",
     "output_type": "stream",
     "text": [
      "0.1\n"
     ]
    }
   ],
   "source": [
    "def calculadora(a,b,operador):\n",
    "    if operador ==\"+\":\n",
    "        return a+b\n",
    "    elif operador == \"*\":\n",
    "        return a*b\n",
    "    elif operador == \"-\":\n",
    "        return a-b\n",
    "    elif operador == \"/\":\n",
    "        return a/b\n",
    "print (calculadora(10,100, \"/\"))    \n",
    "    "
   ]
  },
  {
   "cell_type": "code",
   "execution_count": 13,
   "id": "fe148f69-62e0-4efd-b21c-f1bd7c3f7f7f",
   "metadata": {},
   "outputs": [
    {
     "name": "stdout",
     "output_type": "stream",
     "text": [
      "25\n"
     ]
    }
   ],
   "source": [
    "def suma_impares (lista):\n",
    "    return sum(num for num in lista if num % 2 !=0)\n",
    "\n",
    "print (suma_impares([1, 2, 3, 4 ,5 ,6 ,7 , 8, 9]))"
   ]
  },
  {
   "cell_type": "code",
   "execution_count": 14,
   "id": "6d75610b-a768-4698-b298-12176889e975",
   "metadata": {},
   "outputs": [
    {
     "name": "stdout",
     "output_type": "stream",
     "text": [
      "['oso', 'agua']\n"
     ]
    }
   ],
   "source": [
    "def palabras_vocales(lista):\n",
    "    vocales= \"a e i o u\"\n",
    "    return [p for p in lista if p[0] in vocales]\n",
    "\n",
    "print(palabras_vocales([\"oso\", \"perro\", \"agua\", \"luz\"]))"
   ]
  },
  {
   "cell_type": "code",
   "execution_count": 15,
   "id": "64d160b3-11a8-46af-9042-57be7f8e2bf8",
   "metadata": {},
   "outputs": [
    {
     "ename": "NameError",
     "evalue": "name 'a' is not defined",
     "output_type": "error",
     "traceback": [
      "\u001b[31m---------------------------------------------------------------------------\u001b[39m",
      "\u001b[31mNameError\u001b[39m                                 Traceback (most recent call last)",
      "\u001b[36mCell\u001b[39m\u001b[36m \u001b[39m\u001b[32mIn[15]\u001b[39m\u001b[32m, line 4\u001b[39m\n\u001b[32m      1\u001b[39m \u001b[38;5;28;01mdef\u001b[39;00m\u001b[38;5;250m \u001b[39m\u001b[34mlistas_alternados\u001b[39m(lista1, lista2):\n\u001b[32m      2\u001b[39m     \u001b[38;5;28;01mreturn\u001b[39;00m [elem \u001b[38;5;28;01mfor\u001b[39;00m par \u001b[38;5;129;01min\u001b[39;00m \u001b[38;5;28mzip\u001b[39m(lista1, lista2) \u001b[38;5;28;01mfor\u001b[39;00m elem \u001b[38;5;129;01min\u001b[39;00m par]\n\u001b[32m----> \u001b[39m\u001b[32m4\u001b[39m \u001b[38;5;28mprint\u001b[39m(listas_alternados([\u001b[32m1\u001b[39m, \u001b[32m2\u001b[39m, \u001b[32m3\u001b[39m], [\u001b[43ma\u001b[49m, b, c]))\n",
      "\u001b[31mNameError\u001b[39m: name 'a' is not defined"
     ]
    }
   ],
   "source": [
    "def listas_alternados(lista1, lista2):\n",
    "    return [elem for par in zip(lista1, lista2) for elem in par]\n",
    "\n",
    "print(listas_alternados([1, 2, 3], [a, b, c]))"
   ]
  },
  {
   "cell_type": "code",
   "execution_count": null,
   "id": "91715657-e4b9-4e57-a07b-c12710908f8c",
   "metadata": {},
   "outputs": [],
   "source": []
  }
 ],
 "metadata": {
  "kernelspec": {
   "display_name": "Python 3 (ipykernel)",
   "language": "python",
   "name": "python3"
  },
  "language_info": {
   "codemirror_mode": {
    "name": "ipython",
    "version": 3
   },
   "file_extension": ".py",
   "mimetype": "text/x-python",
   "name": "python",
   "nbconvert_exporter": "python",
   "pygments_lexer": "ipython3",
   "version": "3.13.7"
  }
 },
 "nbformat": 4,
 "nbformat_minor": 5
}
