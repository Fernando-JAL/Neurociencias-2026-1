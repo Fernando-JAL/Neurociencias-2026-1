{
 "cells": [
  {
   "cell_type": "markdown",
   "id": "d20eb0fb-08f3-412d-80c6-09894d40f1bf",
   "metadata": {},
   "source": [
    "1. Validar contraseña segura\n",
    "Escribe una función es_contraseña_segura(passw) que verifique si una contraseña:\n",
    "\n",
    "Tiene al menos 8 caracteres\n",
    "\n",
    "Incluye mayúsculas, minúsculas, números y un carácter especial (@, #, $, %, &, etc.)\n",
    "Usa funciones built-in como any(), str.isdigit(), str.isupper(), etc."
   ]
  },
  {
   "cell_type": "code",
   "execution_count": 85,
   "id": "78b3f6b2-f73e-4e26-bd5e-1436284a21c2",
   "metadata": {},
   "outputs": [],
   "source": [
    "def es_contraseña_segura(passw):\n",
    "    if len(passw) < 8:\n",
    "        return 'No contiene al menos 8 caracteres'\n",
    "    caracteres_especiales = '@#$%&_!-¡?¿,.;:'\n",
    "    mayusculas = 'ABCDEFGHIJKLMNÑOPQRSTUVWXYZ'\n",
    "    minusculas = 'abcdefghijklmnñopqrstuvwxyz'\n",
    "    si_contiene_mayuscula = any(letra in mayusculas for letra in passw)\n",
    "    si_contiene_minuscula = any(letra in minusculas for letra in passw)\n",
    "    si_contiene_numero = any(letra.isdigit() for letra in passw)\n",
    "    si_contiene_caracter_especial = any(letra in caracteres_especiales for letra in passw)\n",
    "    if si_contiene_mayuscula and si_contiene_minuscula and si_contiene_numero and si_contiene_caracter_especial:\n",
    "        return 'Contraseña segura'\n",
    "    else:\n",
    "        return 'Contraseña no segura'"
   ]
  },
  {
   "cell_type": "code",
   "execution_count": 95,
   "id": "ffe70386-3659-45cd-8917-11154f311dda",
   "metadata": {},
   "outputs": [
    {
     "data": {
      "text/plain": [
       "'Contraseña segura'"
      ]
     },
     "execution_count": 95,
     "metadata": {},
     "output_type": "execute_result"
    }
   ],
   "source": [
    "es_contraseña_segura('o.8Dlyla') "
   ]
  },
  {
   "cell_type": "markdown",
   "id": "b49f0cec-5dbe-48e6-bb10-fdbda187eb4a",
   "metadata": {},
   "source": [
    "2. Palabra más larga en una frase\n",
    "\n",
    "Define palabra_mas_larga(frase) que encuentre la palabra con más caracteres dentro de un texto."
   ]
  },
  {
   "cell_type": "code",
   "execution_count": 98,
   "id": "10da984b-7bea-408d-968e-67e0a1b56b8a",
   "metadata": {},
   "outputs": [],
   "source": [
    "def palabra_mas_larga(frase):\n",
    "    palabrota = ''\n",
    "    lista_de_palabras = frase.split()\n",
    "    for palabra in lista_de_palabras:\n",
    "        longitud = len(palabra)\n",
    "        if longitud > len(palabrota):\n",
    "            palabrota = palabra\n",
    "    return palabrota"
   ]
  },
  {
   "cell_type": "code",
   "execution_count": 99,
   "id": "f68b150c-7469-4c8d-967a-f94836e39441",
   "metadata": {},
   "outputs": [
    {
     "data": {
      "text/plain": [
       "'maldonado'"
      ]
     },
     "execution_count": 99,
     "metadata": {},
     "output_type": "execute_result"
    }
   ],
   "source": [
    "palabra_mas_larga('hola mi nombre es javier maldonado amaya')"
   ]
  },
  {
   "cell_type": "markdown",
   "id": "ac94284c-c72e-414c-9332-a5a1e3299ac8",
   "metadata": {},
   "source": [
    "3. Simulador de calculadora básica\n",
    "Crea una función calculadora(a, b, operador) donde operador puede ser \"+\", \"-\", \"*\", \"/\".\n",
    "Usa if/elif para decidir la operación"
   ]
  },
  {
   "cell_type": "code",
   "execution_count": 39,
   "id": "8b503cf8-8073-4998-82f4-91f848f85127",
   "metadata": {},
   "outputs": [],
   "source": [
    "def calculadora(a, b, operador):\n",
    "    if operador == '+':\n",
    "        resultado = a+b\n",
    "        return resultado\n",
    "    elif operador == '-':\n",
    "        resultado = a-b\n",
    "        return resultado\n",
    "    elif operador == '*':\n",
    "        resultado = a*b\n",
    "        return resultado\n",
    "    elif operador == '/':\n",
    "        resultado = a/b\n",
    "        return resultado"
   ]
  },
  {
   "cell_type": "code",
   "execution_count": 41,
   "id": "435e5237-1f9a-4f9a-9f70-50317a717d09",
   "metadata": {},
   "outputs": [
    {
     "data": {
      "text/plain": [
       "2.0"
      ]
     },
     "execution_count": 41,
     "metadata": {},
     "output_type": "execute_result"
    }
   ],
   "source": [
    "calculadora(10, 5, '/')"
   ]
  },
  {
   "cell_type": "markdown",
   "id": "3cca8c2f-384c-4e43-a3ee-f93a9ff17489",
   "metadata": {},
   "source": [
    "4. Suma de números impares\n",
    "\n",
    "Dada una lista de enteros, escribe una función que devuelva la suma de todos los números impares.\n",
    "Ejemplo → [1, 2, 3, 4, 5] → 9."
   ]
  },
  {
   "cell_type": "code",
   "execution_count": 78,
   "id": "ff5d627e-d328-4314-ad85-395f0087609c",
   "metadata": {},
   "outputs": [],
   "source": [
    "def suma_impares(lista):\n",
    "    impares= 0\n",
    "    for num in lista:\n",
    "        division= num%2\n",
    "        if division != 0:\n",
    "            impares += num\n",
    "    return impares"
   ]
  },
  {
   "cell_type": "code",
   "execution_count": 79,
   "id": "674b75ac-5042-490a-82f4-44dd068047d2",
   "metadata": {},
   "outputs": [
    {
     "data": {
      "text/plain": [
       "4"
      ]
     },
     "execution_count": 79,
     "metadata": {},
     "output_type": "execute_result"
    }
   ],
   "source": [
    "suma_impares([1, 3, 4, 6])"
   ]
  },
  {
   "cell_type": "markdown",
   "id": "cb1b695d-545d-4800-b498-e632a8d1110e",
   "metadata": {},
   "source": [
    "5. Palabras que comienzan con vocal\n",
    "\n",
    "Dada una lista de palabras, devuelve una nueva lista solo con las que empiezan con vocal.\n",
    "Ejemplo → [\"oso\", \"perro\", \"agua\", \"luz\"] → [\"oso\", \"agua\"]."
   ]
  },
  {
   "cell_type": "code",
   "execution_count": 102,
   "id": "725d00e0-e1d9-451b-80d9-8aa7a96e7c26",
   "metadata": {},
   "outputs": [],
   "source": [
    "def empieza_con_vocal(lista):\n",
    "    nueva_lista = []\n",
    "    for palabra in lista:\n",
    "        if palabra[0] in ('a', 'e', 'i', 'o', 'u', 'A', 'E', 'I', 'O', 'U'):\n",
    "            nueva_lista.append(palabra)\n",
    "    return nueva_lista"
   ]
  },
  {
   "cell_type": "code",
   "execution_count": 103,
   "id": "15f42bde-0cc3-4adb-b6f1-3a307ba11cd7",
   "metadata": {},
   "outputs": [
    {
     "data": {
      "text/plain": [
       "['oso', 'arcoiris']"
      ]
     },
     "execution_count": 103,
     "metadata": {},
     "output_type": "execute_result"
    }
   ],
   "source": [
    "empieza_con_vocal(['oso', 'foca', 'loro', 'arcoiris'])"
   ]
  },
  {
   "cell_type": "markdown",
   "id": "50ab5e3a-e94f-45c7-ae64-791ee320058f",
   "metadata": {},
   "source": [
    "6. Unir listas alternando elementos. Investigar la built-in function zip\n",
    "\n",
    "Dados dos listas del mismo tamaño, genera una tercera lista intercalando sus elementos.\n",
    "Ejemplo → [1,2,3], [‘a’,‘b’,‘c’] → [1,‘a’,2,‘b’,3,‘c’]."
   ]
  },
  {
   "cell_type": "code",
   "execution_count": 76,
   "id": "ff3a5c0c-9572-426e-acf0-897cfa376476",
   "metadata": {},
   "outputs": [],
   "source": [
    "def unir_listas(lista1, lista2):\n",
    "    tercera_lista= zip(lista1,lista2)\n",
    "    tuplas= list(tercera_lista)\n",
    "    tercera_lista_destuplas = [item for tupla in tuplas for item in tupla]\n",
    "    print (tercera_lista_destuplas)"
   ]
  },
  {
   "cell_type": "code",
   "execution_count": 77,
   "id": "b1b8b684-5c1d-444b-8599-3fc9bee6bd60",
   "metadata": {},
   "outputs": [
    {
     "name": "stdout",
     "output_type": "stream",
     "text": [
      "[1, 'a', 2, 'b', 3, 'c']\n"
     ]
    }
   ],
   "source": [
    "unir_listas([1,2,3],['a','b','c'])"
   ]
  },
  {
   "cell_type": "markdown",
   "id": "54ca3a6a-3d60-42b5-81eb-7863d99ff644",
   "metadata": {},
   "source": [
    "7. Rotar una lista n posiciones\n",
    "\n",
    "Dada una lista y un número entero n, rota la lista hacia la derecha n posiciones.\n",
    "Ejemplo → [1,2,3,4,5], n=2 → [4,5,1,2,3]"
   ]
  },
  {
   "cell_type": "code",
   "execution_count": null,
   "id": "548305a6-f256-4428-bf3c-07e77b380a83",
   "metadata": {},
   "outputs": [],
   "source": []
  }
 ],
 "metadata": {
  "kernelspec": {
   "display_name": "Python 3 (ipykernel)",
   "language": "python",
   "name": "python3"
  },
  "language_info": {
   "codemirror_mode": {
    "name": "ipython",
    "version": 3
   },
   "file_extension": ".py",
   "mimetype": "text/x-python",
   "name": "python",
   "nbconvert_exporter": "python",
   "pygments_lexer": "ipython3",
   "version": "3.10.4"
  }
 },
 "nbformat": 4,
 "nbformat_minor": 5
}
