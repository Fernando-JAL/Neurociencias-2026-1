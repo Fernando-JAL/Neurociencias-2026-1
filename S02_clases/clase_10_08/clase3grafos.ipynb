{
 "cells": [
  {
   "cell_type": "markdown",
   "id": "ea1f6807-bcf5-464f-9b4b-08225e52b0ab",
   "metadata": {},
   "source": [
    "# Grafo dirigido "
   ]
  },
  {
   "cell_type": "code",
   "execution_count": 7,
   "id": "72f1d5b9-744a-4bfc-b15a-7073c3aaae04",
   "metadata": {},
   "outputs": [],
   "source": [
    "import networkx as nx\n",
    "import matplotlib.pyplot as plt\n",
    "import pandas as pd\n",
    "import numpy as np"
   ]
  },
  {
   "cell_type": "code",
   "execution_count": 8,
   "id": "ac9de897-575c-42c6-a042-88dcc7118b7f",
   "metadata": {},
   "outputs": [],
   "source": [
    "#creación del grafo \n",
    "G = nx.DiGraph ()\n",
    "\n",
    "G.add_nodes_from(['A', 'B', 'C', 'D', 'E'])\n",
    "G.add_edges_from([('A', 'B'), \n",
    "                  ('A', 'D'),\n",
    "                  ('B', 'C'),\n",
    "                  ('C', 'E'),\n",
    "                  ('D', 'E'),])"
   ]
  },
  {
   "cell_type": "code",
   "execution_count": 10,
   "id": "c3cd5554-7828-4628-bd93-f7c4cd29e14d",
   "metadata": {},
   "outputs": [
    {
     "data": {
      "text/plain": [
       "array([[3., 3.],\n",
       "       [4., 6.]])"
      ]
     },
     "execution_count": 10,
     "metadata": {},
     "output_type": "execute_result"
    }
   ],
   "source": [
    "df = pd.DataFrame([[2,3],[4,5]])\n",
    "df = df.values + np.eye(2)\n",
    "df"
   ]
  },
  {
   "cell_type": "code",
   "execution_count": 11,
   "id": "e19118ca-204f-49c2-b0e4-eafcac5d534d",
   "metadata": {},
   "outputs": [
    {
     "data": {
      "image/png": "[encoded data removed]",
      "text/plain": [
       "<Figure size 200x200 with 1 Axes>"
      ]
     },
     "metadata": {},
     "output_type": "display_data"
    }
   ],
   "source": [
    "plt.figure(figsize=(2,2))\n",
    "nx.draw_networkx(G, arrows=True , arrowstyle='-|>')"
   ]
  },
  {
   "cell_type": "code",
   "execution_count": 13,
   "id": "b5d524b3-1c24-434f-9496-b498343a9cbb",
   "metadata": {},
   "outputs": [],
   "source": [
    "df = pd.DataFrame([[2,3],[4,5]])\n",
    "np.fill_diagonal(df.values, 0)\n",
    "df.fillna(0, inplace= True)"
   ]
  },
  {
   "cell_type": "code",
   "execution_count": 15,
   "id": "0517811b-ed4e-433e-a47e-30d03b9dd502",
   "metadata": {},
   "outputs": [],
   "source": [
    "# mapa de calor cuartiles y hacer mapa de calor con el 50% y mapa de calor con el umbral"
   ]
  },
  {
   "cell_type": "code",
   "execution_count": null,
   "id": "4400f1c0-9d2b-4cb4-b8cd-52baa06ca9fc",
   "metadata": {},
   "outputs": [],
   "source": []
  }
 ],
 "metadata": {
  "kernelspec": {
   "display_name": "Python 3 (ipykernel)",
   "language": "python",
   "name": "python3"
  },
  "language_info": {
   "codemirror_mode": {
    "name": "ipython",
    "version": 3
   },
   "file_extension": ".py",
   "mimetype": "text/x-python",
   "name": "python",
   "nbconvert_exporter": "python",
   "pygments_lexer": "ipython3",
   "version": "3.10.4"
  }
 },
 "nbformat": 4,
 "nbformat_minor": 5
}
