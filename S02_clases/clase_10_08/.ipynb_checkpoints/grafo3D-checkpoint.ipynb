{
 "cells": [
  {
   "cell_type": "code",
   "execution_count": 8,
   "id": "d5049253-aa7f-4f2b-ba43-d74fa32399a8",
   "metadata": {
    "scrolled": true
   },
   "outputs": [],
   "source": [
    "import numpy as np\n",
    "import pandas as pd\n",
    "import matplotlib.pyplot as plt\n",
    "import networkx as nx"
   ]
  },
  {
   "cell_type": "code",
   "execution_count": 9,
   "id": "63d92300-d9b3-471e-8412-ca3b25a7d6e9",
   "metadata": {},
   "outputs": [],
   "source": [
    "# Defino los archivos a usar\n",
    "excel_conectividad = r\"C:\\Users\\Ana-Sophia Redstone\\OneDrive\\Documents\\GitHub\\Neurociencias-2026-1\\S03_datasets\\EEG.xlsx\"\n",
    "excel_coordenadas = r\"C:\\Users\\Ana-Sophia Redstone\\OneDrive\\Documents\\GitHub\\Neurociencias-2026-1\\S03_datasets\\EEG_3D_coordinates.xlsx\"\n"
   ]
  },
  {
   "cell_type": "code",
   "execution_count": 10,
   "id": "df472327-bb7d-4aa2-b7cc-6070c537c473",
   "metadata": {},
   "outputs": [],
   "source": [
    "# Leo los archivos de excel, como diccionarios\n",
    "conectividad_dict = pd.read_excel(excel_conectividad, sheet_name=None)\n",
    "coordenadas_dict = pd.read_excel(excel_coordenadas, sheet_name=None)\n",
    "\n",
    "# Especifico cuál hoja de cada excel voy a leer, posición 0\n",
    "motor_df = conectividad_dict[list(conectividad_dict.keys())[0]]\n",
    "coordenadas_df = coordenadas_dict[list(coordenadas_dict.keys())[0]]\n",
    "\n",
    "# Redefino el índice para que sea más fácil convertirlo a grafo\n",
    "motor_df.set_index(\"Unnamed: 0\", inplace=True, drop= True)\n",
    "coordenadas_df.set_index(\"Canal\", inplace=True, drop= True)\n"
   ]
  },
  {
   "cell_type": "code",
   "execution_count": 11,
   "id": "2d62ac5e-ab55-4129-9c71-e69697e90b37",
   "metadata": {},
   "outputs": [],
   "source": [
    "# Dibujemos el grafo\n",
    "G = nx.from_pandas_adjacency(motor_df)"
   ]
  },
  {
   "cell_type": "code",
   "execution_count": 12,
   "id": "21efa33f-91b3-488e-8f98-5842245e569c",
   "metadata": {},
   "outputs": [
    {
     "name": "stdout",
     "output_type": "stream",
     "text": [
      "Requirement already satisfied: ipympl in c:\\users\\ana-sophia redstone\\appdata\\local\\programs\\python\\python310\\lib\\site-packages (0.9.7)\n",
      "Requirement already satisfied: numpy in c:\\users\\ana-sophia redstone\\appdata\\local\\programs\\python\\python310\\lib\\site-packages (from ipympl) (2.2.6)\n",
      "Requirement already satisfied: ipywidgets<9,>=7.6.0 in c:\\users\\ana-sophia redstone\\appdata\\local\\programs\\python\\python310\\lib\\site-packages (from ipympl) (8.1.7)\n",
      "Requirement already satisfied: traitlets<6 in c:\\users\\ana-sophia redstone\\appdata\\local\\programs\\python\\python310\\lib\\site-packages (from ipympl) (5.14.3)\n",
      "Requirement already satisfied: pillow in c:\\users\\ana-sophia redstone\\appdata\\local\\programs\\python\\python310\\lib\\site-packages (from ipympl) (11.3.0)\n",
      "Requirement already satisfied: matplotlib<4,>=3.5.0 in c:\\users\\ana-sophia redstone\\appdata\\local\\programs\\python\\python310\\lib\\site-packages (from ipympl) (3.10.6)\n",
      "Requirement already satisfied: ipython<10 in c:\\users\\ana-sophia redstone\\appdata\\local\\programs\\python\\python310\\lib\\site-packages (from ipympl) (8.37.0)\n",
      "Requirement already satisfied: pygments>=2.4.0 in c:\\users\\ana-sophia redstone\\appdata\\local\\programs\\python\\python310\\lib\\site-packages (from ipython<10->ipympl) (2.19.2)\n",
      "Requirement already satisfied: colorama in c:\\users\\ana-sophia redstone\\appdata\\local\\programs\\python\\python310\\lib\\site-packages (from ipython<10->ipympl) (0.4.6)\n",
      "Requirement already satisfied: decorator in c:\\users\\ana-sophia redstone\\appdata\\local\\programs\\python\\python310\\lib\\site-packages (from ipython<10->ipympl) (5.2.1)\n",
      "Requirement already satisfied: stack_data in c:\\users\\ana-sophia redstone\\appdata\\local\\programs\\python\\python310\\lib\\site-packages (from ipython<10->ipympl) (0.6.3)\n",
      "Requirement already satisfied: exceptiongroup in c:\\users\\ana-sophia redstone\\appdata\\local\\programs\\python\\python310\\lib\\site-packages (from ipython<10->ipympl) (1.3.0)\n",
      "Requirement already satisfied: prompt_toolkit<3.1.0,>=3.0.41 in c:\\users\\ana-sophia redstone\\appdata\\local\\programs\\python\\python310\\lib\\site-packages (from ipython<10->ipympl) (3.0.51)\n",
      "Requirement already satisfied: typing_extensions>=4.6 in c:\\users\\ana-sophia redstone\\appdata\\local\\programs\\python\\python310\\lib\\site-packages (from ipython<10->ipympl) (4.14.1)\n",
      "Requirement already satisfied: jedi>=0.16 in c:\\users\\ana-sophia redstone\\appdata\\local\\programs\\python\\python310\\lib\\site-packages (from ipython<10->ipympl) (0.19.2)\n",
      "Requirement already satisfied: matplotlib-inline in c:\\users\\ana-sophia redstone\\appdata\\local\\programs\\python\\python310\\lib\\site-packages (from ipython<10->ipympl) (0.1.7)\n",
      "Requirement already satisfied: comm>=0.1.3 in c:\\users\\ana-sophia redstone\\appdata\\local\\programs\\python\\python310\\lib\\site-packages (from ipywidgets<9,>=7.6.0->ipympl) (0.2.3)\n",
      "Requirement already satisfied: widgetsnbextension~=4.0.14 in c:\\users\\ana-sophia redstone\\appdata\\local\\programs\\python\\python310\\lib\\site-packages (from ipywidgets<9,>=7.6.0->ipympl) (4.0.14)\n",
      "Requirement already satisfied: jupyterlab_widgets~=3.0.15 in c:\\users\\ana-sophia redstone\\appdata\\local\\programs\\python\\python310\\lib\\site-packages (from ipywidgets<9,>=7.6.0->ipympl) (3.0.15)\n",
      "Requirement already satisfied: contourpy>=1.0.1 in c:\\users\\ana-sophia redstone\\appdata\\local\\programs\\python\\python310\\lib\\site-packages (from matplotlib<4,>=3.5.0->ipympl) (1.3.2)\n",
      "Requirement already satisfied: kiwisolver>=1.3.1 in c:\\users\\ana-sophia redstone\\appdata\\local\\programs\\python\\python310\\lib\\site-packages (from matplotlib<4,>=3.5.0->ipympl) (1.4.9)\n",
      "Requirement already satisfied: packaging>=20.0 in c:\\users\\ana-sophia redstone\\appdata\\local\\programs\\python\\python310\\lib\\site-packages (from matplotlib<4,>=3.5.0->ipympl) (25.0)\n",
      "Requirement already satisfied: cycler>=0.10 in c:\\users\\ana-sophia redstone\\appdata\\local\\programs\\python\\python310\\lib\\site-packages (from matplotlib<4,>=3.5.0->ipympl) (0.12.1)\n",
      "Requirement already satisfied: fonttools>=4.22.0 in c:\\users\\ana-sophia redstone\\appdata\\local\\programs\\python\\python310\\lib\\site-packages (from matplotlib<4,>=3.5.0->ipympl) (4.59.2)\n",
      "Requirement already satisfied: python-dateutil>=2.7 in c:\\users\\ana-sophia redstone\\appdata\\local\\programs\\python\\python310\\lib\\site-packages (from matplotlib<4,>=3.5.0->ipympl) (2.9.0.post0)\n",
      "Requirement already satisfied: pyparsing>=2.3.1 in c:\\users\\ana-sophia redstone\\appdata\\local\\programs\\python\\python310\\lib\\site-packages (from matplotlib<4,>=3.5.0->ipympl) (3.2.3)\n",
      "Requirement already satisfied: parso<0.9.0,>=0.8.4 in c:\\users\\ana-sophia redstone\\appdata\\local\\programs\\python\\python310\\lib\\site-packages (from jedi>=0.16->ipython<10->ipympl) (0.8.4)\n",
      "Requirement already satisfied: wcwidth in c:\\users\\ana-sophia redstone\\appdata\\local\\programs\\python\\python310\\lib\\site-packages (from prompt_toolkit<3.1.0,>=3.0.41->ipython<10->ipympl) (0.2.13)\n",
      "Requirement already satisfied: six>=1.5 in c:\\users\\ana-sophia redstone\\appdata\\local\\programs\\python\\python310\\lib\\site-packages (from python-dateutil>=2.7->matplotlib<4,>=3.5.0->ipympl) (1.17.0)\n",
      "Requirement already satisfied: asttokens>=2.1.0 in c:\\users\\ana-sophia redstone\\appdata\\local\\programs\\python\\python310\\lib\\site-packages (from stack_data->ipython<10->ipympl) (3.0.0)\n",
      "Requirement already satisfied: pure-eval in c:\\users\\ana-sophia redstone\\appdata\\local\\programs\\python\\python310\\lib\\site-packages (from stack_data->ipython<10->ipympl) (0.2.3)\n",
      "Requirement already satisfied: executing>=1.2.0 in c:\\users\\ana-sophia redstone\\appdata\\local\\programs\\python\\python310\\lib\\site-packages (from stack_data->ipython<10->ipympl) (2.2.0)\n",
      "Note: you may need to restart the kernel to use updated packages.\n"
     ]
    },
    {
     "name": "stderr",
     "output_type": "stream",
     "text": [
      "WARNING: You are using pip version 22.0.4; however, version 25.2 is available.\n",
      "You should consider upgrading via the 'C:\\Users\\Ana-Sophia Redstone\\AppData\\Local\\Programs\\Python\\Python310\\python.exe -m pip install --upgrade pip' command.\n"
     ]
    }
   ],
   "source": [
    "pip install ipympl"
   ]
  },
  {
   "cell_type": "code",
   "execution_count": 13,
   "id": "54833d87-215d-493f-a2f9-efd9fe7ba797",
   "metadata": {},
   "outputs": [],
   "source": [
    "%matplotlib inline"
   ]
  },
  {
   "cell_type": "code",
   "execution_count": 14,
   "id": "9929bc24-d751-47d0-9c5c-ea2504bf162b",
   "metadata": {},
   "outputs": [
    {
     "ename": "RuntimeError",
     "evalue": "'widget' is not a recognised GUI loop or backend name",
     "output_type": "error",
     "traceback": [
      "\u001b[1;31m---------------------------------------------------------------------------\u001b[0m",
      "\u001b[1;31mRuntimeError\u001b[0m                              Traceback (most recent call last)",
      "File \u001b[1;32m~\\AppData\\Local\\Programs\\Python\\Python310\\lib\\site-packages\\matplotlib\\backends\\registry.py:407\u001b[0m, in \u001b[0;36mBackendRegistry.resolve_gui_or_backend\u001b[1;34m(self, gui_or_backend)\u001b[0m\n\u001b[0;32m    406\u001b[0m \u001b[38;5;28;01mtry\u001b[39;00m:\n\u001b[1;32m--> 407\u001b[0m     \u001b[38;5;28;01mreturn\u001b[39;00m \u001b[38;5;28;43mself\u001b[39;49m\u001b[38;5;241;43m.\u001b[39;49m\u001b[43mresolve_backend\u001b[49m\u001b[43m(\u001b[49m\u001b[43mgui_or_backend\u001b[49m\u001b[43m)\u001b[49m\n\u001b[0;32m    408\u001b[0m \u001b[38;5;28;01mexcept\u001b[39;00m \u001b[38;5;167;01mException\u001b[39;00m:  \u001b[38;5;66;03m# KeyError ?\u001b[39;00m\n",
      "File \u001b[1;32m~\\AppData\\Local\\Programs\\Python\\Python310\\lib\\site-packages\\matplotlib\\backends\\registry.py:369\u001b[0m, in \u001b[0;36mBackendRegistry.resolve_backend\u001b[1;34m(self, backend)\u001b[0m\n\u001b[0;32m    368\u001b[0m \u001b[38;5;28;01mif\u001b[39;00m gui \u001b[38;5;129;01mis\u001b[39;00m \u001b[38;5;28;01mNone\u001b[39;00m:\n\u001b[1;32m--> 369\u001b[0m     \u001b[38;5;28;01mraise\u001b[39;00m \u001b[38;5;167;01mRuntimeError\u001b[39;00m(\u001b[38;5;124mf\u001b[39m\u001b[38;5;124m\"\u001b[39m\u001b[38;5;124m'\u001b[39m\u001b[38;5;132;01m{\u001b[39;00mbackend\u001b[38;5;132;01m}\u001b[39;00m\u001b[38;5;124m'\u001b[39m\u001b[38;5;124m is not a recognised backend name\u001b[39m\u001b[38;5;124m\"\u001b[39m)\n\u001b[0;32m    371\u001b[0m \u001b[38;5;28;01mreturn\u001b[39;00m backend, gui \u001b[38;5;28;01mif\u001b[39;00m gui \u001b[38;5;241m!=\u001b[39m \u001b[38;5;124m\"\u001b[39m\u001b[38;5;124mheadless\u001b[39m\u001b[38;5;124m\"\u001b[39m \u001b[38;5;28;01melse\u001b[39;00m \u001b[38;5;28;01mNone\u001b[39;00m\n",
      "\u001b[1;31mRuntimeError\u001b[0m: 'widget' is not a recognised backend name",
      "\nDuring handling of the above exception, another exception occurred:\n",
      "\u001b[1;31mRuntimeError\u001b[0m                              Traceback (most recent call last)",
      "Cell \u001b[1;32mIn[14], line 1\u001b[0m\n\u001b[1;32m----> 1\u001b[0m \u001b[43mget_ipython\u001b[49m\u001b[43m(\u001b[49m\u001b[43m)\u001b[49m\u001b[38;5;241;43m.\u001b[39;49m\u001b[43mrun_line_magic\u001b[49m\u001b[43m(\u001b[49m\u001b[38;5;124;43m'\u001b[39;49m\u001b[38;5;124;43mmatplotlib\u001b[39;49m\u001b[38;5;124;43m'\u001b[39;49m\u001b[43m,\u001b[49m\u001b[43m \u001b[49m\u001b[38;5;124;43m'\u001b[39;49m\u001b[38;5;124;43mwidget\u001b[39;49m\u001b[38;5;124;43m'\u001b[39;49m\u001b[43m)\u001b[49m\n\u001b[0;32m      3\u001b[0m \u001b[38;5;66;03m# Creamos el plot3D del grafo\u001b[39;00m\n\u001b[0;32m      4\u001b[0m pos3D \u001b[38;5;241m=\u001b[39m {canal: (coordenadas_df\u001b[38;5;241m.\u001b[39mloc[canal, \u001b[38;5;124m'\u001b[39m\u001b[38;5;124mx\u001b[39m\u001b[38;5;124m'\u001b[39m],\n\u001b[0;32m      5\u001b[0m                  coordenadas_df\u001b[38;5;241m.\u001b[39mloc[canal, \u001b[38;5;124m'\u001b[39m\u001b[38;5;124my\u001b[39m\u001b[38;5;124m'\u001b[39m],\n\u001b[0;32m      6\u001b[0m                  coordenadas_df\u001b[38;5;241m.\u001b[39mloc[canal, \u001b[38;5;124m'\u001b[39m\u001b[38;5;124mz\u001b[39m\u001b[38;5;124m'\u001b[39m]) \u001b[38;5;28;01mfor\u001b[39;00m canal \u001b[38;5;129;01min\u001b[39;00m coordenadas_df\u001b[38;5;241m.\u001b[39mindex}\n",
      "File \u001b[1;32m~\\AppData\\Local\\Programs\\Python\\Python310\\lib\\site-packages\\IPython\\core\\interactiveshell.py:2482\u001b[0m, in \u001b[0;36mInteractiveShell.run_line_magic\u001b[1;34m(self, magic_name, line, _stack_depth)\u001b[0m\n\u001b[0;32m   2480\u001b[0m     kwargs[\u001b[38;5;124m'\u001b[39m\u001b[38;5;124mlocal_ns\u001b[39m\u001b[38;5;124m'\u001b[39m] \u001b[38;5;241m=\u001b[39m \u001b[38;5;28mself\u001b[39m\u001b[38;5;241m.\u001b[39mget_local_scope(stack_depth)\n\u001b[0;32m   2481\u001b[0m \u001b[38;5;28;01mwith\u001b[39;00m \u001b[38;5;28mself\u001b[39m\u001b[38;5;241m.\u001b[39mbuiltin_trap:\n\u001b[1;32m-> 2482\u001b[0m     result \u001b[38;5;241m=\u001b[39m fn(\u001b[38;5;241m*\u001b[39margs, \u001b[38;5;241m*\u001b[39m\u001b[38;5;241m*\u001b[39mkwargs)\n\u001b[0;32m   2484\u001b[0m \u001b[38;5;66;03m# The code below prevents the output from being displayed\u001b[39;00m\n\u001b[0;32m   2485\u001b[0m \u001b[38;5;66;03m# when using magics with decorator @output_can_be_silenced\u001b[39;00m\n\u001b[0;32m   2486\u001b[0m \u001b[38;5;66;03m# when the last Python token in the expression is a ';'.\u001b[39;00m\n\u001b[0;32m   2487\u001b[0m \u001b[38;5;28;01mif\u001b[39;00m \u001b[38;5;28mgetattr\u001b[39m(fn, magic\u001b[38;5;241m.\u001b[39mMAGIC_OUTPUT_CAN_BE_SILENCED, \u001b[38;5;28;01mFalse\u001b[39;00m):\n",
      "File \u001b[1;32m~\\AppData\\Local\\Programs\\Python\\Python310\\lib\\site-packages\\IPython\\core\\magics\\pylab.py:103\u001b[0m, in \u001b[0;36mPylabMagics.matplotlib\u001b[1;34m(self, line)\u001b[0m\n\u001b[0;32m     98\u001b[0m     \u001b[38;5;28mprint\u001b[39m(\n\u001b[0;32m     99\u001b[0m         \u001b[38;5;124m\"\u001b[39m\u001b[38;5;124mAvailable matplotlib backends: \u001b[39m\u001b[38;5;132;01m%s\u001b[39;00m\u001b[38;5;124m\"\u001b[39m\n\u001b[0;32m    100\u001b[0m         \u001b[38;5;241m%\u001b[39m _list_matplotlib_backends_and_gui_loops()\n\u001b[0;32m    101\u001b[0m     )\n\u001b[0;32m    102\u001b[0m \u001b[38;5;28;01melse\u001b[39;00m:\n\u001b[1;32m--> 103\u001b[0m     gui, backend \u001b[38;5;241m=\u001b[39m \u001b[38;5;28;43mself\u001b[39;49m\u001b[38;5;241;43m.\u001b[39;49m\u001b[43mshell\u001b[49m\u001b[38;5;241;43m.\u001b[39;49m\u001b[43menable_matplotlib\u001b[49m\u001b[43m(\u001b[49m\u001b[43margs\u001b[49m\u001b[38;5;241;43m.\u001b[39;49m\u001b[43mgui\u001b[49m\u001b[43m)\u001b[49m\n\u001b[0;32m    104\u001b[0m     \u001b[38;5;28mself\u001b[39m\u001b[38;5;241m.\u001b[39m_show_matplotlib_backend(args\u001b[38;5;241m.\u001b[39mgui, backend)\n",
      "File \u001b[1;32m~\\AppData\\Local\\Programs\\Python\\Python310\\lib\\site-packages\\IPython\\core\\interactiveshell.py:3667\u001b[0m, in \u001b[0;36mInteractiveShell.enable_matplotlib\u001b[1;34m(self, gui)\u001b[0m\n\u001b[0;32m   3664\u001b[0m     \u001b[38;5;28;01mimport\u001b[39;00m\u001b[38;5;250m \u001b[39m\u001b[38;5;21;01mmatplotlib_inline\u001b[39;00m\u001b[38;5;21;01m.\u001b[39;00m\u001b[38;5;21;01mbackend_inline\u001b[39;00m\n\u001b[0;32m   3666\u001b[0m \u001b[38;5;28;01mfrom\u001b[39;00m\u001b[38;5;250m \u001b[39m\u001b[38;5;21;01mIPython\u001b[39;00m\u001b[38;5;21;01m.\u001b[39;00m\u001b[38;5;21;01mcore\u001b[39;00m\u001b[38;5;250m \u001b[39m\u001b[38;5;28;01mimport\u001b[39;00m pylabtools \u001b[38;5;28;01mas\u001b[39;00m pt\n\u001b[1;32m-> 3667\u001b[0m gui, backend \u001b[38;5;241m=\u001b[39m \u001b[43mpt\u001b[49m\u001b[38;5;241;43m.\u001b[39;49m\u001b[43mfind_gui_and_backend\u001b[49m\u001b[43m(\u001b[49m\u001b[43mgui\u001b[49m\u001b[43m,\u001b[49m\u001b[43m \u001b[49m\u001b[38;5;28;43mself\u001b[39;49m\u001b[38;5;241;43m.\u001b[39;49m\u001b[43mpylab_gui_select\u001b[49m\u001b[43m)\u001b[49m\n\u001b[0;32m   3669\u001b[0m \u001b[38;5;28;01mif\u001b[39;00m gui \u001b[38;5;241m!=\u001b[39m \u001b[38;5;28;01mNone\u001b[39;00m:\n\u001b[0;32m   3670\u001b[0m     \u001b[38;5;66;03m# If we have our first gui selection, store it\u001b[39;00m\n\u001b[0;32m   3671\u001b[0m     \u001b[38;5;28;01mif\u001b[39;00m \u001b[38;5;28mself\u001b[39m\u001b[38;5;241m.\u001b[39mpylab_gui_select \u001b[38;5;129;01mis\u001b[39;00m \u001b[38;5;28;01mNone\u001b[39;00m:\n",
      "File \u001b[1;32m~\\AppData\\Local\\Programs\\Python\\Python310\\lib\\site-packages\\IPython\\core\\pylabtools.py:349\u001b[0m, in \u001b[0;36mfind_gui_and_backend\u001b[1;34m(gui, gui_select)\u001b[0m\n\u001b[0;32m    347\u001b[0m \u001b[38;5;28;01melse\u001b[39;00m:\n\u001b[0;32m    348\u001b[0m     gui \u001b[38;5;241m=\u001b[39m _convert_gui_to_matplotlib(gui)\n\u001b[1;32m--> 349\u001b[0m     backend, gui \u001b[38;5;241m=\u001b[39m \u001b[43mbackend_registry\u001b[49m\u001b[38;5;241;43m.\u001b[39;49m\u001b[43mresolve_gui_or_backend\u001b[49m\u001b[43m(\u001b[49m\u001b[43mgui\u001b[49m\u001b[43m)\u001b[49m\n\u001b[0;32m    351\u001b[0m gui \u001b[38;5;241m=\u001b[39m _convert_gui_from_matplotlib(gui)\n\u001b[0;32m    352\u001b[0m \u001b[38;5;28;01mreturn\u001b[39;00m gui, backend\n",
      "File \u001b[1;32m~\\AppData\\Local\\Programs\\Python\\Python310\\lib\\site-packages\\matplotlib\\backends\\registry.py:409\u001b[0m, in \u001b[0;36mBackendRegistry.resolve_gui_or_backend\u001b[1;34m(self, gui_or_backend)\u001b[0m\n\u001b[0;32m    407\u001b[0m     \u001b[38;5;28;01mreturn\u001b[39;00m \u001b[38;5;28mself\u001b[39m\u001b[38;5;241m.\u001b[39mresolve_backend(gui_or_backend)\n\u001b[0;32m    408\u001b[0m \u001b[38;5;28;01mexcept\u001b[39;00m \u001b[38;5;167;01mException\u001b[39;00m:  \u001b[38;5;66;03m# KeyError ?\u001b[39;00m\n\u001b[1;32m--> 409\u001b[0m     \u001b[38;5;28;01mraise\u001b[39;00m \u001b[38;5;167;01mRuntimeError\u001b[39;00m(\n\u001b[0;32m    410\u001b[0m         \u001b[38;5;124mf\u001b[39m\u001b[38;5;124m\"\u001b[39m\u001b[38;5;124m'\u001b[39m\u001b[38;5;132;01m{\u001b[39;00mgui_or_backend\u001b[38;5;132;01m}\u001b[39;00m\u001b[38;5;124m'\u001b[39m\u001b[38;5;124m is not a recognised GUI loop or backend name\u001b[39m\u001b[38;5;124m\"\u001b[39m)\n",
      "\u001b[1;31mRuntimeError\u001b[0m: 'widget' is not a recognised GUI loop or backend name"
     ]
    }
   ],
   "source": [
    "%matplotlib widget\n",
    "\n",
    "# Creamos el plot3D del grafo\n",
    "pos3D = {canal: (coordenadas_df.loc[canal, 'x'],\n",
    "                 coordenadas_df.loc[canal, 'y'],\n",
    "                 coordenadas_df.loc[canal, 'z']) for canal in coordenadas_df.index}\n",
    "\n",
    "fig = plt.figure(figsize=(4, 4))\n",
    "ax = fig.add_subplot(111, projection='3d')\n",
    "\n",
    "# Dibujar los nodos en 3d\n",
    "for canal, (x, y, z) in pos3D.items():\n",
    "    ax.scatter(x, y, z, s=100)\n",
    "    ax.text(x, y, z+0.03, canal, fontsize=10, ha='center')\n",
    "\n",
    "for i, j, data in G.edges(data=True):\n",
    "    x = [pos3D[i][0], pos3D[j][0]]\n",
    "    y = [pos3D[i][1], pos3D[j][1]]\n",
    "    z = [pos3D[i][2], pos3D[j][2]]\n",
    "    ax.plot(x, y, z, linewidth=data['weight']*10)\n",
    "\n",
    "ax.set_xlabel('x')\n",
    "ax.set_ylabel('y')\n",
    "ax.set_zlabel('z')\n",
    "ax.set_title('Red de conectividad EEG (3D)')\n",
    "plt.show()"
   ]
  },
  {
   "cell_type": "code",
   "execution_count": 15,
   "id": "44c076f3-20e4-40d4-b7a7-b435ee18d3a7",
   "metadata": {},
   "outputs": [
    {
     "ename": "ModuleNotFoundError",
     "evalue": "No module named 'seaborn'",
     "output_type": "error",
     "traceback": [
      "\u001b[1;31m---------------------------------------------------------------------------\u001b[0m",
      "\u001b[1;31mModuleNotFoundError\u001b[0m                       Traceback (most recent call last)",
      "Cell \u001b[1;32mIn[15], line 2\u001b[0m\n\u001b[0;32m      1\u001b[0m \u001b[38;5;66;03m# Crear mapa de calor\u001b[39;00m\n\u001b[1;32m----> 2\u001b[0m \u001b[38;5;28;01mimport\u001b[39;00m\u001b[38;5;250m \u001b[39m\u001b[38;5;21;01mseaborn\u001b[39;00m\u001b[38;5;250m \u001b[39m\u001b[38;5;28;01mas\u001b[39;00m\u001b[38;5;250m \u001b[39m\u001b[38;5;21;01msns\u001b[39;00m\n\u001b[0;32m      4\u001b[0m np\u001b[38;5;241m.\u001b[39mfill_diagonal(motor_df\u001b[38;5;241m.\u001b[39mvalues, \u001b[38;5;241m0\u001b[39m)\n\u001b[0;32m      5\u001b[0m ax \u001b[38;5;241m=\u001b[39m sns\u001b[38;5;241m.\u001b[39mheatmap(motor_df\u001b[38;5;241m.\u001b[39mvalues,\n\u001b[0;32m      6\u001b[0m                  annot\u001b[38;5;241m=\u001b[39m\u001b[38;5;28;01mTrue\u001b[39;00m, cmap\u001b[38;5;241m=\u001b[39m\u001b[38;5;124m'\u001b[39m\u001b[38;5;124mhot\u001b[39m\u001b[38;5;124m'\u001b[39m, fmt\u001b[38;5;241m=\u001b[39m\u001b[38;5;124m\"\u001b[39m\u001b[38;5;124m.2f\u001b[39m\u001b[38;5;124m\"\u001b[39m,\n\u001b[0;32m      7\u001b[0m                  xticklabels\u001b[38;5;241m=\u001b[39mmotor_df\u001b[38;5;241m.\u001b[39mcolumns, yticklabels\u001b[38;5;241m=\u001b[39mmotor_df\u001b[38;5;241m.\u001b[39mindex)\n",
      "\u001b[1;31mModuleNotFoundError\u001b[0m: No module named 'seaborn'"
     ]
    }
   ],
   "source": [
    "\n",
    "# Crear mapa de calor\n",
    "import seaborn as sns\n",
    "\n",
    "np.fill_diagonal(motor_df.values, 0)\n",
    "ax = sns.heatmap(motor_df.values,\n",
    "                 annot=True, cmap='hot', fmt=\".2f\",\n",
    "                 xticklabels=motor_df.columns, yticklabels=motor_df.index)\n",
    "ax.set(xlabel=\"channels\", ylabel=\"channels\")\n",
    "plt.show()"
   ]
  },
  {
   "cell_type": "code",
   "execution_count": null,
   "id": "ac6e97f2-1bc8-4057-8fdb-13cdc94f043c",
   "metadata": {},
   "outputs": [],
   "source": []
  }
 ],
 "metadata": {
  "kernelspec": {
   "display_name": "Python 3 (ipykernel)",
   "language": "python",
   "name": "python3"
  },
  "language_info": {
   "codemirror_mode": {
    "name": "ipython",
    "version": 3
   },
   "file_extension": ".py",
   "mimetype": "text/x-python",
   "name": "python",
   "nbconvert_exporter": "python",
   "pygments_lexer": "ipython3",
   "version": "3.10.4"
  }
 },
 "nbformat": 4,
 "nbformat_minor": 5
}
