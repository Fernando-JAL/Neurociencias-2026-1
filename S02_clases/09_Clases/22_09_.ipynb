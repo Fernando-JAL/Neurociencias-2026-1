{
 "cells": [
  {
   "cell_type": "code",
   "execution_count": 1,
   "id": "d7d24d94-94f7-4f95-bdf8-0f07ef800f81",
   "metadata": {},
   "outputs": [],
   "source": [
    "import pandas as pd\n",
    "import numpy as np"
   ]
  },
  {
   "cell_type": "code",
   "execution_count": null,
   "id": "ada7689b-8574-4dc1-885d-39344e01e91a",
   "metadata": {},
   "outputs": [],
   "source": [
    "experimento = {\n",
    "    'sujeto'\n",
    "}"
   ]
  },
  {
   "cell_type": "code",
   "execution_count": null,
   "id": "3e0e518d-fcfa-4a78-8350-508222372b1e",
   "metadata": {},
   "outputs": [],
   "source": [
    "porque tu eras la estrella y yo solo una fan\n",
    "porque tu eras mi todo y yo sólo una más"
   ]
  },
  {
   "cell_type": "code",
   "execution_count": null,
   "id": "11ff8cd8-d0d5-48ec-9d48-860122fd6c6a",
   "metadata": {},
   "outputs": [],
   "source": []
  },
  {
   "cell_type": "code",
   "execution_count": null,
   "id": "b2410389-9d1c-492a-afe1-a05fe19a5a6f",
   "metadata": {},
   "outputs": [],
   "source": []
  },
  {
   "cell_type": "code",
   "execution_count": null,
   "id": "aaf71cb7-aaa2-471d-9bc0-5a49d4d752df",
   "metadata": {},
   "outputs": [],
   "source": []
  },
  {
   "cell_type": "code",
   "execution_count": null,
   "id": "3af24642-38b2-4d86-8dee-eae3406c9684",
   "metadata": {},
   "outputs": [],
   "source": []
  },
  {
   "cell_type": "code",
   "execution_count": null,
   "id": "0fe33a75-cf5b-4ebf-995b-53409e6123cd",
   "metadata": {},
   "outputs": [],
   "source": []
  },
  {
   "cell_type": "code",
   "execution_count": null,
   "id": "445da873-868c-4826-ab0a-fe6003a6cf30",
   "metadata": {},
   "outputs": [],
   "source": []
  },
  {
   "cell_type": "code",
   "execution_count": null,
   "id": "c6c49e3b-3a9b-42a0-a407-ec8d51b4e536",
   "metadata": {},
   "outputs": [],
   "source": []
  },
  {
   "cell_type": "code",
   "execution_count": null,
   "id": "fe643596-1ef4-4d23-a6e8-1c7363a5de0a",
   "metadata": {},
   "outputs": [],
   "source": []
  },
  {
   "cell_type": "code",
   "execution_count": null,
   "id": "13abc0aa-6a24-420e-9329-e9b1c2825dde",
   "metadata": {},
   "outputs": [],
   "source": []
  },
  {
   "cell_type": "code",
   "execution_count": null,
   "id": "fad5637c-b429-43b6-b945-4d5f7f85374d",
   "metadata": {},
   "outputs": [],
   "source": []
  },
  {
   "cell_type": "code",
   "execution_count": null,
   "id": "a177dfc2-8aae-4d69-a7d1-6e014278904e",
   "metadata": {},
   "outputs": [],
   "source": []
  },
  {
   "cell_type": "code",
   "execution_count": null,
   "id": "36aeb152-ca89-4f63-862e-ea65d82fcb64",
   "metadata": {},
   "outputs": [],
   "source": []
  }
 ],
 "metadata": {
  "kernelspec": {
   "display_name": "Python 3 (ipykernel)",
   "language": "python",
   "name": "python3"
  },
  "language_info": {
   "codemirror_mode": {
    "name": "ipython",
    "version": 3
   },
   "file_extension": ".py",
   "mimetype": "text/x-python",
   "name": "python",
   "nbconvert_exporter": "python",
   "pygments_lexer": "ipython3",
   "version": "3.10.4"
  }
 },
 "nbformat": 4,
 "nbformat_minor": 5
}
