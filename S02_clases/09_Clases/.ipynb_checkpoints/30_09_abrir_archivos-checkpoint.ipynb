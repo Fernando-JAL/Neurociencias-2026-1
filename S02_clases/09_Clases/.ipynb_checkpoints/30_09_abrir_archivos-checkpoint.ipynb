{
 "cells": [
  {
   "cell_type": "markdown",
   "id": "a88c7221-112b-403a-9e72-d2c6a2d2048c",
   "metadata": {},
   "source": [
    "# Abrir archivos"
   ]
  },
  {
   "cell_type": "code",
   "execution_count": 1,
   "id": "83e3bdae-eed3-44ea-a7c8-ffcea733298d",
   "metadata": {},
   "outputs": [],
   "source": [
    "import pandas as pd"
   ]
  },
  {
   "cell_type": "code",
   "execution_count": 5,
   "id": "522e496e-dcd2-4888-ab87-b0ff239eec97",
   "metadata": {},
   "outputs": [],
   "source": [
    "# abrir excel \n",
    "excel_path_file = r\"/Users/Maca/Desktop/Todo todo/UNAM/5º Semestre/Modelos computacionales I/Neurociencias-2026-1/S03_datasets/EEG.xlsx\""
   ]
  },
  {
   "cell_type": "code",
   "execution_count": 7,
   "id": "165196be-478e-4233-90bf-69d07ec72807",
   "metadata": {},
   "outputs": [],
   "source": [
    "excel_dict = pd.read_excel(excel_path_file)"
   ]
  },
  {
   "cell_type": "code",
   "execution_count": 8,
   "id": "ee25a664-ccb1-4471-846f-0369099813eb",
   "metadata": {},
   "outputs": [
    {
     "data": {
      "text/plain": [
       "pandas.core.frame.DataFrame"
      ]
     },
     "execution_count": 8,
     "metadata": {},
     "output_type": "execute_result"
    }
   ],
   "source": [
    "type(excel_dict)"
   ]
  },
  {
   "cell_type": "code",
   "execution_count": 10,
   "id": "ea945107-6be1-4402-bc1f-d4f1f53f61c4",
   "metadata": {},
   "outputs": [
    {
     "data": {
      "text/html": [
       "<div>\n",
       "<style scoped>\n",
       "    .dataframe tbody tr th:only-of-type {\n",
       "        vertical-align: middle;\n",
       "    }\n",
       "\n",
       "    .dataframe tbody tr th {\n",
       "        vertical-align: top;\n",
       "    }\n",
       "\n",
       "    .dataframe thead th {\n",
       "        text-align: right;\n",
       "    }\n",
       "</style>\n",
       "<table border=\"1\" class=\"dataframe\">\n",
       "  <thead>\n",
       "    <tr style=\"text-align: right;\">\n",
       "      <th></th>\n",
       "      <th>Unnamed: 0</th>\n",
       "      <th>FP1</th>\n",
       "      <th>F7</th>\n",
       "      <th>T3</th>\n",
       "      <th>C3</th>\n",
       "      <th>C4</th>\n",
       "      <th>T4</th>\n",
       "      <th>F8</th>\n",
       "      <th>FP2</th>\n",
       "    </tr>\n",
       "  </thead>\n",
       "  <tbody>\n",
       "    <tr>\n",
       "      <th>0</th>\n",
       "      <td>FP1</td>\n",
       "      <td>1.00</td>\n",
       "      <td>0.25</td>\n",
       "      <td>0.18</td>\n",
       "      <td>0.12</td>\n",
       "      <td>0.10</td>\n",
       "      <td>0.09</td>\n",
       "      <td>0.07</td>\n",
       "      <td>0.06</td>\n",
       "    </tr>\n",
       "    <tr>\n",
       "      <th>1</th>\n",
       "      <td>F7</td>\n",
       "      <td>0.25</td>\n",
       "      <td>1.00</td>\n",
       "      <td>0.20</td>\n",
       "      <td>0.15</td>\n",
       "      <td>0.12</td>\n",
       "      <td>0.10</td>\n",
       "      <td>0.08</td>\n",
       "      <td>0.07</td>\n",
       "    </tr>\n",
       "    <tr>\n",
       "      <th>2</th>\n",
       "      <td>T3</td>\n",
       "      <td>0.18</td>\n",
       "      <td>0.20</td>\n",
       "      <td>1.00</td>\n",
       "      <td>0.28</td>\n",
       "      <td>0.22</td>\n",
       "      <td>0.18</td>\n",
       "      <td>0.11</td>\n",
       "      <td>0.10</td>\n",
       "    </tr>\n",
       "    <tr>\n",
       "      <th>3</th>\n",
       "      <td>C3</td>\n",
       "      <td>0.12</td>\n",
       "      <td>0.15</td>\n",
       "      <td>0.28</td>\n",
       "      <td>1.00</td>\n",
       "      <td>0.30</td>\n",
       "      <td>0.25</td>\n",
       "      <td>0.12</td>\n",
       "      <td>0.11</td>\n",
       "    </tr>\n",
       "    <tr>\n",
       "      <th>4</th>\n",
       "      <td>C4</td>\n",
       "      <td>0.10</td>\n",
       "      <td>0.12</td>\n",
       "      <td>0.22</td>\n",
       "      <td>0.30</td>\n",
       "      <td>1.00</td>\n",
       "      <td>0.35</td>\n",
       "      <td>0.14</td>\n",
       "      <td>0.13</td>\n",
       "    </tr>\n",
       "    <tr>\n",
       "      <th>5</th>\n",
       "      <td>T4</td>\n",
       "      <td>0.09</td>\n",
       "      <td>0.10</td>\n",
       "      <td>0.18</td>\n",
       "      <td>0.25</td>\n",
       "      <td>0.35</td>\n",
       "      <td>1.00</td>\n",
       "      <td>0.13</td>\n",
       "      <td>0.12</td>\n",
       "    </tr>\n",
       "    <tr>\n",
       "      <th>6</th>\n",
       "      <td>F8</td>\n",
       "      <td>0.07</td>\n",
       "      <td>0.08</td>\n",
       "      <td>0.11</td>\n",
       "      <td>0.12</td>\n",
       "      <td>0.14</td>\n",
       "      <td>0.13</td>\n",
       "      <td>1.00</td>\n",
       "      <td>0.40</td>\n",
       "    </tr>\n",
       "    <tr>\n",
       "      <th>7</th>\n",
       "      <td>FP2</td>\n",
       "      <td>0.06</td>\n",
       "      <td>0.07</td>\n",
       "      <td>0.10</td>\n",
       "      <td>0.11</td>\n",
       "      <td>0.13</td>\n",
       "      <td>0.12</td>\n",
       "      <td>0.40</td>\n",
       "      <td>1.00</td>\n",
       "    </tr>\n",
       "  </tbody>\n",
       "</table>\n",
       "</div>"
      ],
      "text/plain": [
       "  Unnamed: 0   FP1    F7    T3    C3    C4    T4    F8   FP2\n",
       "0        FP1  1.00  0.25  0.18  0.12  0.10  0.09  0.07  0.06\n",
       "1         F7  0.25  1.00  0.20  0.15  0.12  0.10  0.08  0.07\n",
       "2         T3  0.18  0.20  1.00  0.28  0.22  0.18  0.11  0.10\n",
       "3         C3  0.12  0.15  0.28  1.00  0.30  0.25  0.12  0.11\n",
       "4         C4  0.10  0.12  0.22  0.30  1.00  0.35  0.14  0.13\n",
       "5         T4  0.09  0.10  0.18  0.25  0.35  1.00  0.13  0.12\n",
       "6         F8  0.07  0.08  0.11  0.12  0.14  0.13  1.00  0.40\n",
       "7        FP2  0.06  0.07  0.10  0.11  0.13  0.12  0.40  1.00"
      ]
     },
     "execution_count": 10,
     "metadata": {},
     "output_type": "execute_result"
    }
   ],
   "source": [
    "# el excel tiene más hojas, cómo puedo entrar a una en específico?\n",
    "# sheet_name = nombre de la hoja\n",
    "pd.read_excel(excel_path_file, sheet_name = \"coherence_chbmit_interictal\")"
   ]
  },
  {
   "cell_type": "markdown",
   "id": "c285d6cb-fa65-4d35-b2c5-41971bf85abf",
   "metadata": {},
   "source": [
    "Si no tengo el nombre de la hoja, o quiera más de una...\n",
    "\n",
    "- genera un diccionario con toda la información, donde las llaves son los nombres de las hojas y el valor es la info de la hoja"
   ]
  },
  {
   "cell_type": "code",
   "execution_count": 12,
   "id": "4216f51d-eb27-4545-89ed-ea18dfd20c3b",
   "metadata": {},
   "outputs": [],
   "source": [
    "excel_file_dict = pd.read_excel(excel_path_file, sheet_name =None)"
   ]
  },
  {
   "cell_type": "code",
   "execution_count": 13,
   "id": "a48c5a10-4f5f-4b20-845b-d0cb775c7fcb",
   "metadata": {},
   "outputs": [
    {
     "data": {
      "text/plain": [
       "dict_keys(['coherence_motorimagery_alpha', 'coherence_chbmit_interictal', 'coherence_chbmit_ictal'])"
      ]
     },
     "execution_count": 13,
     "metadata": {},
     "output_type": "execute_result"
    }
   ],
   "source": [
    "excel_file_dict.keys()"
   ]
  },
  {
   "cell_type": "markdown",
   "id": "2a3b01db-1077-4bee-a5c6-8af257db0fdf",
   "metadata": {},
   "source": [
    "Así podemos llamar a la hoja de nuestro interés.\n",
    "\n",
    "Al ponerla en una variable ya nos quedamos con el dataframe"
   ]
  },
  {
   "cell_type": "code",
   "execution_count": 16,
   "id": "cdab68b2-fa1b-4e65-b4e1-1a3247b84969",
   "metadata": {},
   "outputs": [
    {
     "data": {
      "text/html": [
       "<div>\n",
       "<style scoped>\n",
       "    .dataframe tbody tr th:only-of-type {\n",
       "        vertical-align: middle;\n",
       "    }\n",
       "\n",
       "    .dataframe tbody tr th {\n",
       "        vertical-align: top;\n",
       "    }\n",
       "\n",
       "    .dataframe thead th {\n",
       "        text-align: right;\n",
       "    }\n",
       "</style>\n",
       "<table border=\"1\" class=\"dataframe\">\n",
       "  <thead>\n",
       "    <tr style=\"text-align: right;\">\n",
       "      <th></th>\n",
       "      <th>Unnamed: 0</th>\n",
       "      <th>FP1</th>\n",
       "      <th>F7</th>\n",
       "      <th>T3</th>\n",
       "      <th>C3</th>\n",
       "      <th>C4</th>\n",
       "      <th>T4</th>\n",
       "      <th>F8</th>\n",
       "      <th>FP2</th>\n",
       "    </tr>\n",
       "  </thead>\n",
       "  <tbody>\n",
       "    <tr>\n",
       "      <th>0</th>\n",
       "      <td>FP1</td>\n",
       "      <td>1.00</td>\n",
       "      <td>0.48</td>\n",
       "      <td>0.42</td>\n",
       "      <td>0.35</td>\n",
       "      <td>0.32</td>\n",
       "      <td>0.30</td>\n",
       "      <td>0.20</td>\n",
       "      <td>0.18</td>\n",
       "    </tr>\n",
       "    <tr>\n",
       "      <th>1</th>\n",
       "      <td>F7</td>\n",
       "      <td>0.48</td>\n",
       "      <td>1.00</td>\n",
       "      <td>0.45</td>\n",
       "      <td>0.38</td>\n",
       "      <td>0.35</td>\n",
       "      <td>0.33</td>\n",
       "      <td>0.22</td>\n",
       "      <td>0.20</td>\n",
       "    </tr>\n",
       "    <tr>\n",
       "      <th>2</th>\n",
       "      <td>T3</td>\n",
       "      <td>0.42</td>\n",
       "      <td>0.45</td>\n",
       "      <td>1.00</td>\n",
       "      <td>0.58</td>\n",
       "      <td>0.52</td>\n",
       "      <td>0.48</td>\n",
       "      <td>0.28</td>\n",
       "      <td>0.26</td>\n",
       "    </tr>\n",
       "    <tr>\n",
       "      <th>3</th>\n",
       "      <td>C3</td>\n",
       "      <td>0.35</td>\n",
       "      <td>0.38</td>\n",
       "      <td>0.58</td>\n",
       "      <td>1.00</td>\n",
       "      <td>0.60</td>\n",
       "      <td>0.55</td>\n",
       "      <td>0.30</td>\n",
       "      <td>0.28</td>\n",
       "    </tr>\n",
       "    <tr>\n",
       "      <th>4</th>\n",
       "      <td>C4</td>\n",
       "      <td>0.32</td>\n",
       "      <td>0.35</td>\n",
       "      <td>0.52</td>\n",
       "      <td>0.60</td>\n",
       "      <td>1.00</td>\n",
       "      <td>0.62</td>\n",
       "      <td>0.33</td>\n",
       "      <td>0.30</td>\n",
       "    </tr>\n",
       "    <tr>\n",
       "      <th>5</th>\n",
       "      <td>T4</td>\n",
       "      <td>0.30</td>\n",
       "      <td>0.33</td>\n",
       "      <td>0.48</td>\n",
       "      <td>0.55</td>\n",
       "      <td>0.62</td>\n",
       "      <td>1.00</td>\n",
       "      <td>0.31</td>\n",
       "      <td>0.29</td>\n",
       "    </tr>\n",
       "    <tr>\n",
       "      <th>6</th>\n",
       "      <td>F8</td>\n",
       "      <td>0.20</td>\n",
       "      <td>0.22</td>\n",
       "      <td>0.28</td>\n",
       "      <td>0.30</td>\n",
       "      <td>0.33</td>\n",
       "      <td>0.31</td>\n",
       "      <td>1.00</td>\n",
       "      <td>0.45</td>\n",
       "    </tr>\n",
       "    <tr>\n",
       "      <th>7</th>\n",
       "      <td>FP2</td>\n",
       "      <td>0.18</td>\n",
       "      <td>0.20</td>\n",
       "      <td>0.26</td>\n",
       "      <td>0.28</td>\n",
       "      <td>0.30</td>\n",
       "      <td>0.29</td>\n",
       "      <td>0.45</td>\n",
       "      <td>1.00</td>\n",
       "    </tr>\n",
       "  </tbody>\n",
       "</table>\n",
       "</div>"
      ],
      "text/plain": [
       "  Unnamed: 0   FP1    F7    T3    C3    C4    T4    F8   FP2\n",
       "0        FP1  1.00  0.48  0.42  0.35  0.32  0.30  0.20  0.18\n",
       "1         F7  0.48  1.00  0.45  0.38  0.35  0.33  0.22  0.20\n",
       "2         T3  0.42  0.45  1.00  0.58  0.52  0.48  0.28  0.26\n",
       "3         C3  0.35  0.38  0.58  1.00  0.60  0.55  0.30  0.28\n",
       "4         C4  0.32  0.35  0.52  0.60  1.00  0.62  0.33  0.30\n",
       "5         T4  0.30  0.33  0.48  0.55  0.62  1.00  0.31  0.29\n",
       "6         F8  0.20  0.22  0.28  0.30  0.33  0.31  1.00  0.45\n",
       "7        FP2  0.18  0.20  0.26  0.28  0.30  0.29  0.45  1.00"
      ]
     },
     "execution_count": 16,
     "metadata": {},
     "output_type": "execute_result"
    }
   ],
   "source": [
    "variable = excel_file_dict[\"coherence_chbmit_ictal\"]\n",
    "variable"
   ]
  },
  {
   "cell_type": "markdown",
   "id": "bc258987-e0d2-42b1-96ce-aea7ca230495",
   "metadata": {},
   "source": [
    "### Tarea - investigar \n",
    "- conectividad funcional y efectiva\n",
    "- Métricas para construir la matriz de conectividad"
   ]
  },
  {
   "cell_type": "markdown",
   "id": "9bcb63dd-652c-413b-8a44-51e8295c5646",
   "metadata": {},
   "source": [
    "En este caso, como métrica, utilizamos correlación de Pearson"
   ]
  },
  {
   "cell_type": "code",
   "execution_count": null,
   "id": "06754844-5854-4fc5-8060-b61d5f8ea71d",
   "metadata": {},
   "outputs": [],
   "source": []
  },
  {
   "cell_type": "code",
   "execution_count": null,
   "id": "20cb2a4b-79ab-4cdd-9f3a-201a5b586fb5",
   "metadata": {},
   "outputs": [],
   "source": []
  },
  {
   "cell_type": "code",
   "execution_count": null,
   "id": "4da47af2-dc42-4b18-acfe-7a75fcff6514",
   "metadata": {},
   "outputs": [],
   "source": []
  },
  {
   "cell_type": "code",
   "execution_count": null,
   "id": "4a891e91-f24b-44cb-9cf1-0ec69c50b0a8",
   "metadata": {},
   "outputs": [],
   "source": []
  },
  {
   "cell_type": "code",
   "execution_count": null,
   "id": "1a21ec15-3bf4-4623-bc40-148903513cc7",
   "metadata": {},
   "outputs": [],
   "source": []
  },
  {
   "cell_type": "code",
   "execution_count": null,
   "id": "ee3b4d32-2d1e-4d92-8932-3844d5bdc8c2",
   "metadata": {},
   "outputs": [],
   "source": []
  },
  {
   "cell_type": "code",
   "execution_count": null,
   "id": "d738eebd-cbaf-4ae8-90b4-fbd3ea90e463",
   "metadata": {},
   "outputs": [],
   "source": []
  },
  {
   "cell_type": "code",
   "execution_count": null,
   "id": "80eed2cb-f11f-4f39-84b3-5659641d22a7",
   "metadata": {},
   "outputs": [],
   "source": []
  }
 ],
 "metadata": {
  "kernelspec": {
   "display_name": "Python 3 (ipykernel)",
   "language": "python",
   "name": "python3"
  },
  "language_info": {
   "codemirror_mode": {
    "name": "ipython",
    "version": 3
   },
   "file_extension": ".py",
   "mimetype": "text/x-python",
   "name": "python",
   "nbconvert_exporter": "python",
   "pygments_lexer": "ipython3",
   "version": "3.13.6"
  }
 },
 "nbformat": 4,
 "nbformat_minor": 5
}
