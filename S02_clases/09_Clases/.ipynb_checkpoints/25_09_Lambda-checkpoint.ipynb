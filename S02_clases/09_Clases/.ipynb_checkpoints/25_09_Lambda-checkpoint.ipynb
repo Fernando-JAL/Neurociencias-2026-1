{
 "cells": [
  {
   "cell_type": "markdown",
   "id": "3957c3bb-ecb6-4f39-9794-135a862bcb36",
   "metadata": {},
   "source": [
    "# Funciones lambda\n",
    "Para funciones compactas"
   ]
  },
  {
   "cell_type": "code",
   "execution_count": null,
   "id": "5f140c54-7ed0-4ab6-9b0a-f8401603533d",
   "metadata": {},
   "outputs": [],
   "source": [
    "def funcion(x):\n",
    "    return x**2\n",
    "\n",
    "funcion(5)"
   ]
  },
  {
   "cell_type": "code",
   "execution_count": null,
   "id": "bab8cd88-d90a-4646-a6b6-a6cf9609fc79",
   "metadata": {},
   "outputs": [],
   "source": [
    "func_lambda=lambda x: x**2\n",
    "func_lambda(5)"
   ]
  },
  {
   "cell_type": "code",
   "execution_count": null,
   "id": "a064c0a6-62aa-4f3e-9d36-e970982f4a2b",
   "metadata": {},
   "outputs": [],
   "source": [
    "def funcion_str(string):\n",
    "    return string[::-1]\n",
    "funcion_str('ave maria')"
   ]
  },
  {
   "cell_type": "code",
   "execution_count": null,
   "id": "f4f480c2-baca-46cf-8f27-0cd4c9383736",
   "metadata": {},
   "outputs": [],
   "source": [
    "func_str=lambda string: string[::-1]\n",
    "func_str('ave maria')"
   ]
  },
  {
   "cell_type": "code",
   "execution_count": null,
   "id": "ae64bbf1-ea82-450c-9b6f-2cca47f343f0",
   "metadata": {},
   "outputs": [],
   "source": [
    "def funcion(x,y):\n",
    "    return x+y\n",
    "funcion(5,8)"
   ]
  },
  {
   "cell_type": "code",
   "execution_count": null,
   "id": "b342dfc4-85c9-4b8e-acf3-8bea8d6703bd",
   "metadata": {},
   "outputs": [],
   "source": [
    "fun_lda=lambda x, y: x+y\n",
    "fun_lda(5, 8)"
   ]
  },
  {
   "cell_type": "code",
   "execution_count": null,
   "id": "e6d9f072-5b9e-47ab-a1b8-022bd26bf773",
   "metadata": {},
   "outputs": [],
   "source": [
    "# de manera automatica cuando regresas varios elementos \n",
    "def funcion(a,b,c):\n",
    "    return a+b, a-c\n",
    "funcion(1,2,3)"
   ]
  },
  {
   "cell_type": "code",
   "execution_count": null,
   "id": "0ffaa0b5-79bd-44ac-92fc-b967dc8c690a",
   "metadata": {},
   "outputs": [],
   "source": [
    "fun_lda=lambda a,b,c: (a+b,a-c)\n",
    "fun_lda(1,2,3)\n"
   ]
  },
  {
   "cell_type": "code",
   "execution_count": null,
   "id": "e587b252-e10a-4230-8bb0-e3ab744e6260",
   "metadata": {},
   "outputs": [],
   "source": [
    "# ordenar de mayor a menor según el segundo número de cada tupla\n",
    "def funcion(x):\n",
    "    return x[1] # prdenar según segundo elemento\n",
    "lista=[(1,8),(7,5),(12,-52),(2,0)]\n",
    "lista.sort(reverse=True,key=funcion)\n",
    "lista"
   ]
  },
  {
   "cell_type": "code",
   "execution_count": null,
   "id": "8683f1c2-ddd7-456b-a279-f114db55a051",
   "metadata": {},
   "outputs": [],
   "source": [
    "# más corto\n",
    "lista.sort(reverse=True,key=lambda x:x[1])\n",
    "lista"
   ]
  },
  {
   "cell_type": "code",
   "execution_count": null,
   "id": "09975c8c-c586-4da0-9e88-3be3c134fcf1",
   "metadata": {},
   "outputs": [],
   "source": [
    "import numpy as np\n",
    "import pandas as pd"
   ]
  },
  {
   "cell_type": "code",
   "execution_count": null,
   "id": "e5a42716-9aac-4018-8b68-7a8ef7ce4487",
   "metadata": {},
   "outputs": [],
   "source": [
    "tipos_sujetos= ['S'+str(i).zfill(2) for i in range(4)]\n",
    "generos=['M','F']\n",
    "condicion=['control','experimental']\n",
    "region=['hipocampo','cortex prefrontal','amigdala']\n",
    "neurotransmisor=['dopamina','serotonina']\n",
    "\n",
    "mu=0.92\n",
    "sigma=0.08\n",
    "precision= np.random.normal(mu,sigma,200)\n",
    "enteros=np.random.randint(0,4,size=200)\n",
    "sujetos=['S'+str(i).zfill(2) for i in enteros]\n",
    "\n",
    "ops_sujetos= np.random.randint(len(tipos_sujetos),size=200)\n",
    "sujetos2=[tipos_sujetos[i] for i in ops_sujetos]\n",
    "\n",
    "ops_gens=np.random.randint(len(generos),size=200)\n",
    "lista_generos=[generos[i] for i in ops_gens]\n",
    "ops_condicion=np.random.randint(len(condicion),size=200)\n",
    "lista_condicion=[condicion[i] for i in ops_condicion]\n",
    "\n",
    "ops_region=np.random.randint(len(region),size=200)\n",
    "lista_region=[region[i] for i in ops_region]\n",
    "\n",
    "ops_nt=np.random.randint(len(neurotransmisor),size=200)\n",
    "lista_nt=[neurotransmisor[i] for i in ops_nt]\n",
    "\n",
    "\n",
    "df=pd.DataFrame({\n",
    "    'Sujetos': sujetos2,\n",
    "    'Género': lista_generos,\n",
    "    'Condición': lista_condicion,\n",
    "    'Región': lista_region,\n",
    "    'Neurotransmisor': lista_nt\n",
    "})\n",
    "df['precision']=precision"
   ]
  },
  {
   "cell_type": "code",
   "execution_count": null,
   "id": "887f7a66-c43e-4f5f-a298-bdea213a426d",
   "metadata": {},
   "outputs": [],
   "source": [
    "def funcion(string):\n",
    "    return string.upper()\n",
    "\n",
    "df['Región'].apply(funcion) #aplicar función sobre un dataframe"
   ]
  },
  {
   "cell_type": "code",
   "execution_count": null,
   "id": "648c21a0-f07c-4fd8-b227-6d1d28522aa6",
   "metadata": {},
   "outputs": [],
   "source": []
  },
  {
   "cell_type": "code",
   "execution_count": null,
   "id": "1bc7be8e-3a2c-494d-95bc-ebce92c18797",
   "metadata": {},
   "outputs": [],
   "source": []
  },
  {
   "cell_type": "code",
   "execution_count": null,
   "id": "0d6d7d74-7456-4e00-bb3b-347f5088524f",
   "metadata": {},
   "outputs": [],
   "source": []
  },
  {
   "cell_type": "code",
   "execution_count": null,
   "id": "d3208c37-1103-4687-bd69-0c6858004af4",
   "metadata": {},
   "outputs": [],
   "source": []
  },
  {
   "cell_type": "code",
   "execution_count": null,
   "id": "0dc65150-dffe-44bf-9541-054239b652f1",
   "metadata": {},
   "outputs": [],
   "source": []
  },
  {
   "cell_type": "code",
   "execution_count": null,
   "id": "6c206e6a-a2ee-44e7-b252-a8030455dfcf",
   "metadata": {},
   "outputs": [],
   "source": []
  },
  {
   "cell_type": "code",
   "execution_count": null,
   "id": "710fe0e2-ca16-4c4b-b53a-23174a78d21f",
   "metadata": {},
   "outputs": [],
   "source": []
  },
  {
   "cell_type": "code",
   "execution_count": null,
   "id": "ffa4d6e5-c813-4d11-afec-2d8e96c95cad",
   "metadata": {},
   "outputs": [],
   "source": []
  }
 ],
 "metadata": {
  "kernelspec": {
   "display_name": "Python 3 (ipykernel)",
   "language": "python",
   "name": "python3"
  },
  "language_info": {
   "codemirror_mode": {
    "name": "ipython",
    "version": 3
   },
   "file_extension": ".py",
   "mimetype": "text/x-python",
   "name": "python",
   "nbconvert_exporter": "python",
   "pygments_lexer": "ipython3",
   "version": "3.13.6"
  }
 },
 "nbformat": 4,
 "nbformat_minor": 5
}
