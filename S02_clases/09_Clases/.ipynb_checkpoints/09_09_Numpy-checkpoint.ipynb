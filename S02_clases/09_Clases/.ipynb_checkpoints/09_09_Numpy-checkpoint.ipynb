{
 "cells": [
  {
   "cell_type": "markdown",
   "id": "a7f87abe-b66e-4e3e-9874-bfa889d0d1b6",
   "metadata": {},
   "source": [
    "# Paquete numpy"
   ]
  },
  {
   "cell_type": "markdown",
   "id": "028b6fcf-fc6e-4964-bd37-de995ff4b333",
   "metadata": {},
   "source": [
    "propiedad no lleva paréntesis\n",
    "método lleva paréntesis"
   ]
  },
  {
   "cell_type": "code",
   "execution_count": 3,
   "id": "59f0e7e2-1aad-4a0c-9a9f-cf7d6ae45ce1",
   "metadata": {},
   "outputs": [],
   "source": [
    "import numpy as np  # importar los paquetes que vamos a utilizar"
   ]
  },
  {
   "cell_type": "code",
   "execution_count": 4,
   "id": "2a7f9f47-744e-42ed-a4a8-98f5fbbf1212",
   "metadata": {},
   "outputs": [
    {
     "name": "stdout",
     "output_type": "stream",
     "text": [
      "value = {5, 'string'}, data type = <class 'numpy.ndarray'>\n"
     ]
    }
   ],
   "source": [
    "# convertir datos a arreglos\n",
    "\n",
    "value = np.array({5, \"string\"})\n",
    "\n",
    "print(f\"value = {value}, data type = {type(value)}\")"
   ]
  },
  {
   "cell_type": "code",
   "execution_count": 8,
   "id": "89e20537-8b3b-4c0c-93e0-2581645ffa7f",
   "metadata": {},
   "outputs": [
    {
     "data": {
      "text/plain": [
       "array([-5, -4, -3, -2])"
      ]
     },
     "execution_count": 8,
     "metadata": {},
     "output_type": "execute_result"
    }
   ],
   "source": [
    "# se puede aplicar el slicing, ya que son objetos iterables. \n",
    "\n",
    "np.array(range(-7, 6))[2:6] "
   ]
  },
  {
   "cell_type": "markdown",
   "id": "5a1f9c2b-268e-4b2e-828c-dffffe17ffa6",
   "metadata": {},
   "source": [
    "### Operaciones con arrays"
   ]
  },
  {
   "cell_type": "code",
   "execution_count": 10,
   "id": "03d22317-b1d7-4d85-981c-ef5e3cae8a4f",
   "metadata": {},
   "outputs": [
    {
     "data": {
      "text/plain": [
       "(array([0, 1, 2, 3, 4]), array([-10,  -9,  -8,  -7,  -6]))"
      ]
     },
     "execution_count": 10,
     "metadata": {},
     "output_type": "execute_result"
    }
   ],
   "source": [
    "a, b = np.arange(5), np.arange(-10, -5)\n",
    "a,b "
   ]
  },
  {
   "cell_type": "code",
   "execution_count": 11,
   "id": "196cbbe2-dfe7-4f16-a90b-4438b66922a7",
   "metadata": {},
   "outputs": [
    {
     "data": {
      "text/plain": [
       "array([-10,  -8,  -6,  -4,  -2])"
      ]
     },
     "execution_count": 11,
     "metadata": {},
     "output_type": "execute_result"
    }
   ],
   "source": [
    "a + b"
   ]
  },
  {
   "cell_type": "code",
   "execution_count": 12,
   "id": "bbb32d9f-2739-45f0-a809-790d6cc2d421",
   "metadata": {},
   "outputs": [
    {
     "data": {
      "text/plain": [
       "array([-10, -10, -10, -10, -10])"
      ]
     },
     "execution_count": 12,
     "metadata": {},
     "output_type": "execute_result"
    }
   ],
   "source": [
    "b-a"
   ]
  },
  {
   "cell_type": "code",
   "execution_count": 13,
   "id": "a73424cf-0691-435a-a5ef-aebb96adadce",
   "metadata": {},
   "outputs": [
    {
     "data": {
      "text/plain": [
       "array([ 0,  6, 12, 18, 24])"
      ]
     },
     "execution_count": 13,
     "metadata": {},
     "output_type": "execute_result"
    }
   ],
   "source": [
    "6  * a"
   ]
  },
  {
   "cell_type": "code",
   "execution_count": 14,
   "id": "83dd65a6-4415-48b4-aa98-a9acd1e71463",
   "metadata": {},
   "outputs": [
    {
     "data": {
      "text/plain": [
       "array([-3.33333333, -3.        , -2.66666667, -2.33333333, -2.        ])"
      ]
     },
     "execution_count": 14,
     "metadata": {},
     "output_type": "execute_result"
    }
   ],
   "source": [
    "b / 3"
   ]
  },
  {
   "cell_type": "code",
   "execution_count": 17,
   "id": "91bd1d9d-4ab0-4955-a1e9-da2c68ce764b",
   "metadata": {},
   "outputs": [
    {
     "data": {
      "text/plain": [
       "array([  0,  -9, -16, -21, -24])"
      ]
     },
     "execution_count": 17,
     "metadata": {},
     "output_type": "execute_result"
    }
   ],
   "source": [
    "a * b"
   ]
  },
  {
   "cell_type": "code",
   "execution_count": 20,
   "id": "09c4da2d-5436-44ae-8bbf-88090eab9573",
   "metadata": {},
   "outputs": [
    {
     "data": {
      "text/plain": [
       "array([   1,   -9,   64, -343, 1296])"
      ]
     },
     "execution_count": 20,
     "metadata": {},
     "output_type": "execute_result"
    }
   ],
   "source": [
    "b**a"
   ]
  },
  {
   "cell_type": "code",
   "execution_count": 28,
   "id": "26c87f37-8f7c-4783-a3dc-77151ce53697",
   "metadata": {},
   "outputs": [
    {
     "name": "stderr",
     "output_type": "stream",
     "text": [
      "/var/folders/48/5mv2c8bn0mn_vl9c6chb0flm0000gp/T/ipykernel_22426/1607177895.py:1: RuntimeWarning: divide by zero encountered in divide\n",
      "  b**(1/a)\n",
      "/var/folders/48/5mv2c8bn0mn_vl9c6chb0flm0000gp/T/ipykernel_22426/1607177895.py:1: RuntimeWarning: invalid value encountered in power\n",
      "  b**(1/a)\n"
     ]
    },
    {
     "data": {
      "text/plain": [
       "array([inf, -9., nan, nan, nan])"
      ]
     },
     "execution_count": 28,
     "metadata": {},
     "output_type": "execute_result"
    }
   ],
   "source": [
    "b**(1/a)\n",
    "\n",
    "# nan = not a number\n",
    "# en este caso las operaciones si se pueden hacer, pero no en los arreglos"
   ]
  },
  {
   "cell_type": "code",
   "execution_count": 29,
   "id": "dc14e678-9498-42ac-bc99-390abc99a70d",
   "metadata": {},
   "outputs": [
    {
     "data": {
      "text/plain": [
       "-1.5650845800732873"
      ]
     },
     "execution_count": 29,
     "metadata": {},
     "output_type": "execute_result"
    }
   ],
   "source": [
    "# no es un error numérico si no uno en numpy\n",
    "-6**(1/4)"
   ]
  },
  {
   "cell_type": "code",
   "execution_count": 30,
   "id": "e2d76f9d-c87c-451f-8160-1b85592c243e",
   "metadata": {},
   "outputs": [
    {
     "data": {
      "text/plain": [
       "array([ 5, 10])"
      ]
     },
     "execution_count": 30,
     "metadata": {},
     "output_type": "execute_result"
    }
   ],
   "source": [
    "vec = np.array([5, 10])\n",
    "vec"
   ]
  },
  {
   "cell_type": "code",
   "execution_count": 31,
   "id": "2e7340d7-1a88-4799-bd53-d5e5733da7b3",
   "metadata": {},
   "outputs": [
    {
     "data": {
      "text/plain": [
       "array([ 5, 10])"
      ]
     },
     "execution_count": 31,
     "metadata": {},
     "output_type": "execute_result"
    }
   ],
   "source": [
    "# para transponer .transpose()\n",
    "vec.transpose()"
   ]
  },
  {
   "cell_type": "code",
   "execution_count": 33,
   "id": "9c8f98ce-3575-4eca-aed3-cb0c6b8c49a7",
   "metadata": {},
   "outputs": [
    {
     "data": {
      "text/plain": [
       "array([[ 4, -1],\n",
       "       [-7,  2]])"
      ]
     },
     "execution_count": 33,
     "metadata": {},
     "output_type": "execute_result"
    }
   ],
   "source": [
    "vec2D = np.array([[4, -1], [-7, 2]])\n",
    "vec2D"
   ]
  },
  {
   "cell_type": "code",
   "execution_count": 35,
   "id": "fbc2f1cc-fb1a-4f7a-afe6-ad631c740e82",
   "metadata": {},
   "outputs": [
    {
     "data": {
      "text/plain": [
       "(array([[ 4, -7],\n",
       "        [-1,  2]]),\n",
       " array([[ 4, -7],\n",
       "        [-1,  2]]))"
      ]
     },
     "execution_count": 35,
     "metadata": {},
     "output_type": "execute_result"
    }
   ],
   "source": [
    "# con método .transpose() o la propiedad .T\n",
    "vec2D.transpose(), vec2D.T"
   ]
  },
  {
   "cell_type": "code",
   "execution_count": 38,
   "id": "90c9a237-e37c-4420-91a4-a6405fe53ea7",
   "metadata": {},
   "outputs": [
    {
     "data": {
      "text/plain": [
       "(array([[1, 2],\n",
       "        [3, 4]]),\n",
       " array([[ 4, -1],\n",
       "        [-7,  2]]))"
      ]
     },
     "execution_count": 38,
     "metadata": {},
     "output_type": "execute_result"
    }
   ],
   "source": [
    "vec_2D = np.array([[1,2], [3, 4]])\n",
    "vec_2D, vec2D"
   ]
  },
  {
   "cell_type": "code",
   "execution_count": 41,
   "id": "78a70c7a-97ea-4f08-a1bb-6595e256d38c",
   "metadata": {},
   "outputs": [
    {
     "data": {
      "text/plain": [
       "array([[-10,   3],\n",
       "       [-16,   5]])"
      ]
     },
     "execution_count": 41,
     "metadata": {},
     "output_type": "execute_result"
    }
   ],
   "source": [
    "# utilizando el @ hacemos un producto matricial --> se multiplican filas por columnas\n",
    "resultado = vec_2D @ vec2D\n",
    "resultado"
   ]
  },
  {
   "cell_type": "code",
   "execution_count": 45,
   "id": "8d9c2996-8a9d-42d2-80fc-1856c9aa3d75",
   "metadata": {},
   "outputs": [
    {
     "data": {
      "text/plain": [
       "np.int64(-16)"
      ]
     },
     "execution_count": 45,
     "metadata": {},
     "output_type": "execute_result"
    }
   ],
   "source": [
    "# doble slicing --> hacer el slicing de un slicing\n",
    "resultado[1][0]"
   ]
  },
  {
   "cell_type": "code",
   "execution_count": 44,
   "id": "2e7a8655-d846-4d50-9f06-568ee1bb8a35",
   "metadata": {},
   "outputs": [
    {
     "data": {
      "text/plain": [
       "array([-16,   5])"
      ]
     },
     "execution_count": 44,
     "metadata": {},
     "output_type": "execute_result"
    }
   ],
   "source": [
    "resultado[1]"
   ]
  },
  {
   "cell_type": "code",
   "execution_count": 48,
   "id": "717344ce-fd1d-464b-b651-44651ee01664",
   "metadata": {},
   "outputs": [
    {
     "data": {
      "text/plain": [
       "array([[ 0,  5, 10],\n",
       "       [15, 20, 25],\n",
       "       [99, 35, 40]])"
      ]
     },
     "execution_count": 48,
     "metadata": {},
     "output_type": "execute_result"
    }
   ],
   "source": [
    "matriz = np.array([[0, 5, 10],\n",
    "                  [15, 20, 25],\n",
    "                  [99, 35, 40]])\n",
    "matriz"
   ]
  },
  {
   "cell_type": "code",
   "execution_count": 50,
   "id": "b867c94b-35d1-4ec7-a143-59e613fa2d6e",
   "metadata": {},
   "outputs": [
    {
     "data": {
      "text/plain": [
       "np.int64(5)"
      ]
     },
     "execution_count": 50,
     "metadata": {},
     "output_type": "execute_result"
    }
   ],
   "source": [
    "# para quedarme con 5\n",
    "matriz[0][1]"
   ]
  },
  {
   "cell_type": "code",
   "execution_count": 56,
   "id": "8abd4773-77dd-4a52-b2ae-a62095ccd02f",
   "metadata": {},
   "outputs": [
    {
     "data": {
      "text/plain": [
       "array([99, 35])"
      ]
     },
     "execution_count": 56,
     "metadata": {},
     "output_type": "execute_result"
    }
   ],
   "source": [
    "# para tener 99 y 35\n",
    "matriz[2][:-1] # o [:2]"
   ]
  },
  {
   "cell_type": "code",
   "execution_count": 57,
   "id": "76dbc0f4-8429-4597-ac83-f98d0fdc4225",
   "metadata": {},
   "outputs": [
    {
     "data": {
      "text/plain": [
       "array([[ 0,  5, 10],\n",
       "       [15, 20, 25],\n",
       "       [99, 35, 40]])"
      ]
     },
     "execution_count": 57,
     "metadata": {},
     "output_type": "execute_result"
    }
   ],
   "source": [
    "matriz[:][:]"
   ]
  },
  {
   "cell_type": "code",
   "execution_count": 58,
   "id": "d3b450dd-3158-428a-93a2-e0e922d19367",
   "metadata": {},
   "outputs": [
    {
     "data": {
      "text/plain": [
       "array([[15, 20, 25],\n",
       "       [99, 35, 40]])"
      ]
     },
     "execution_count": 58,
     "metadata": {},
     "output_type": "execute_result"
    }
   ],
   "source": [
    "# las dos últimas filas\n",
    "matriz[1:]"
   ]
  },
  {
   "cell_type": "markdown",
   "id": "fa818d22-d67a-469e-b640-68640e6ff0bd",
   "metadata": {},
   "source": [
    "### Tarea\n",
    "\n",
    "Quedarme con la columna del medio"
   ]
  },
  {
   "cell_type": "code",
   "execution_count": null,
   "id": "d1b85927-09ca-4521-b0b5-ea36808f35fc",
   "metadata": {},
   "outputs": [],
   "source": []
  },
  {
   "cell_type": "code",
   "execution_count": 60,
   "id": "0a0f01ee-aa7f-4f5e-a1dc-6d89158299e8",
   "metadata": {},
   "outputs": [
    {
     "data": {
      "text/plain": [
       "array([[  0,   5,  10],\n",
       "       [-20,  20,  25],\n",
       "       [ 99,  35,  40]])"
      ]
     },
     "execution_count": 60,
     "metadata": {},
     "output_type": "execute_result"
    }
   ],
   "source": [
    "# estoy cambiando el 15\n",
    "matriz[1][0] = -20\n",
    "matriz"
   ]
  },
  {
   "cell_type": "markdown",
   "id": "8cfd3fd1-6fd6-49a0-aba8-78383ca5d697",
   "metadata": {},
   "source": [
    "para generar números aleatorios usamos la clase .random.\n",
    "\n",
    "clase es equivalente a un módulo"
   ]
  },
  {
   "cell_type": "code",
   "execution_count": 61,
   "id": "0fdea4a3-a9c5-4e95-b030-433603801965",
   "metadata": {},
   "outputs": [
    {
     "name": "stdout",
     "output_type": "stream",
     "text": [
      "0.29322167335525895\n",
      "0.6631778848694065\n",
      "0.31764996787339317\n",
      "0.3849584935473368\n",
      "0.2284281125246913\n"
     ]
    }
   ],
   "source": [
    "# .rand() --> valores entre 0 y 1\n",
    "for _ in range (5):\n",
    "    print(np.random.rand())"
   ]
  },
  {
   "cell_type": "code",
   "execution_count": 65,
   "id": "bac200d1-02a9-4a53-badc-d2654107973d",
   "metadata": {},
   "outputs": [
    {
     "data": {
      "text/plain": [
       "array([[0.58448885, 0.73673564, 0.24304634],\n",
       "       [0.97478225, 0.88964142, 0.88007194],\n",
       "       [0.89497765, 0.22919669, 0.40230283],\n",
       "       [0.68125378, 0.72996664, 0.11894534],\n",
       "       [0.45129105, 0.45034595, 0.80317327]])"
      ]
     },
     "execution_count": 65,
     "metadata": {},
     "output_type": "execute_result"
    }
   ],
   "source": [
    "np.random.rand(5, 3) # nos lo regresa como un arreglo, este puede ser multidimensional"
   ]
  },
  {
   "cell_type": "code",
   "execution_count": null,
   "id": "c0c5a420-2ce0-41f8-837c-e348e0c0d8df",
   "metadata": {},
   "outputs": [],
   "source": []
  },
  {
   "cell_type": "code",
   "execution_count": null,
   "id": "526174c2-0217-41ff-bdc5-44c0e2bd7c99",
   "metadata": {},
   "outputs": [],
   "source": []
  }
 ],
 "metadata": {
  "kernelspec": {
   "display_name": "Python 3 (ipykernel)",
   "language": "python",
   "name": "python3"
  },
  "language_info": {
   "codemirror_mode": {
    "name": "ipython",
    "version": 3
   },
   "file_extension": ".py",
   "mimetype": "text/x-python",
   "name": "python",
   "nbconvert_exporter": "python",
   "pygments_lexer": "ipython3",
   "version": "3.10.4"
  }
 },
 "nbformat": 4,
 "nbformat_minor": 5
}
