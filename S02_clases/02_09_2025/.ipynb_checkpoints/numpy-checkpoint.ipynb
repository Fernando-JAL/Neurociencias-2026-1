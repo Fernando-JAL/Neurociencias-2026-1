{
 "cells": [
  {
   "cell_type": "code",
   "execution_count": 3,
   "id": "fc63ff47-4fd5-41e4-99f2-5573980916a6",
   "metadata": {},
   "outputs": [],
   "source": [
    "from modulo import *"
   ]
  },
  {
   "cell_type": "code",
   "execution_count": 5,
   "id": "84b4aaa4-eb02-49a7-bf3c-07a22158cf83",
   "metadata": {},
   "outputs": [
    {
     "name": "stdout",
     "output_type": "stream",
     "text": [
      "Hola!!!!!\n"
     ]
    }
   ],
   "source": [
    "saludo()"
   ]
  },
  {
   "cell_type": "code",
   "execution_count": 6,
   "id": "19d6ce77-8751-439a-bc3b-9c72dfb4b548",
   "metadata": {},
   "outputs": [
    {
     "name": "stdout",
     "output_type": "stream",
     "text": [
      "otra función\n"
     ]
    }
   ],
   "source": [
    "funcion()"
   ]
  },
  {
   "cell_type": "code",
   "execution_count": 7,
   "id": "1ca17c1d-7c3b-4ab2-b0a7-8c4baffc3aea",
   "metadata": {},
   "outputs": [
    {
     "data": {
      "text/plain": [
       "5"
      ]
     },
     "execution_count": 7,
     "metadata": {},
     "output_type": "execute_result"
    }
   ],
   "source": [
    "suma (2, 3)"
   ]
  },
  {
   "cell_type": "markdown",
   "id": "480a8cc7-a7b0-4048-ad5d-eea3051072b3",
   "metadata": {},
   "source": [
    "### Paquete numpy\n",
    "Es un paquete enfocado en manipular información en estructuras conocidas como vectore, arreglo y matrices.\n",
    "\n",
    "La contribución más significativa del paquete numpy es la introducción de un tipo de dato llmado _array_"
   ]
  },
  {
   "cell_type": "code",
   "execution_count": 15,
   "id": "f0a06768-37bf-49be-9bf6-14c17a2aa0da",
   "metadata": {},
   "outputs": [],
   "source": [
    "import numpy as np"
   ]
  },
  {
   "cell_type": "code",
   "execution_count": 16,
   "id": "4cc4ba01-ce1d-4681-bcf3-336a19daaa08",
   "metadata": {},
   "outputs": [
    {
     "data": {
      "text/plain": [
       "numpy.ndarray"
      ]
     },
     "execution_count": 16,
     "metadata": {},
     "output_type": "execute_result"
    }
   ],
   "source": [
    "lista = [3, 4, 5]\n",
    "\n",
    "variable = np.array(lista)\n",
    "type(variable)"
   ]
  },
  {
   "cell_type": "code",
   "execution_count": 17,
   "id": "841f52f4-c0a4-4a1b-8e33-3f0970cc1277",
   "metadata": {},
   "outputs": [
    {
     "data": {
      "text/plain": [
       "array([3, 4, 5])"
      ]
     },
     "execution_count": 17,
     "metadata": {},
     "output_type": "execute_result"
    }
   ],
   "source": [
    "variable"
   ]
  },
  {
   "cell_type": "code",
   "execution_count": 18,
   "id": "8c0ead4e-2b82-4af9-b949-2357651fcc1b",
   "metadata": {},
   "outputs": [
    {
     "data": {
      "text/plain": [
       "1"
      ]
     },
     "execution_count": 18,
     "metadata": {},
     "output_type": "execute_result"
    }
   ],
   "source": [
    "variable.ndim"
   ]
  },
  {
   "cell_type": "code",
   "execution_count": 31,
   "id": "faeb21f8-7e31-483d-b62e-b7a7dd2581e5",
   "metadata": {},
   "outputs": [
    {
     "data": {
      "text/plain": [
       "(numpy.ndarray, 2, (2, 3))"
      ]
     },
     "execution_count": 31,
     "metadata": {},
     "output_type": "execute_result"
    }
   ],
   "source": [
    "variable2d = np.array([\n",
    "    [4,5,6],\n",
    "    [7, 8, 9]\n",
    "])\n",
    "type(variable2d), variable2d.ndim, variable2d.shape\n",
    "# Arreglos en python, matrices en matlab"
   ]
  },
  {
   "cell_type": "code",
   "execution_count": 32,
   "id": "97d91648-f8ec-4d7a-9f6f-b4d11734aa0b",
   "metadata": {},
   "outputs": [
    {
     "data": {
      "text/plain": [
       "array([[4, 5, 6],\n",
       "       [7, 8, 9]])"
      ]
     },
     "execution_count": 32,
     "metadata": {},
     "output_type": "execute_result"
    }
   ],
   "source": [
    "variable2d"
   ]
  },
  {
   "cell_type": "code",
   "execution_count": 33,
   "id": "11bdf578-cb3c-4b35-b220-adc4f6cac8c3",
   "metadata": {},
   "outputs": [
    {
     "data": {
      "text/plain": [
       "1"
      ]
     },
     "execution_count": 33,
     "metadata": {},
     "output_type": "execute_result"
    }
   ],
   "source": [
    "variable.ndim"
   ]
  },
  {
   "cell_type": "code",
   "execution_count": 34,
   "id": "5feaed92-f431-40cf-b493-b1bcf797d55a",
   "metadata": {},
   "outputs": [
    {
     "data": {
      "text/plain": [
       "(3,)"
      ]
     },
     "execution_count": 34,
     "metadata": {},
     "output_type": "execute_result"
    }
   ],
   "source": [
    "variable.shape"
   ]
  },
  {
   "cell_type": "markdown",
   "id": "b4c6fd2d-ed03-41d1-9193-d7f35d7b3c66",
   "metadata": {},
   "source": [
    "### Funciones de numpy"
   ]
  },
  {
   "cell_type": "code",
   "execution_count": 36,
   "id": "343444ff-da33-40b6-b89d-ca81f8c5a784",
   "metadata": {},
   "outputs": [
    {
     "data": {
      "text/plain": [
       "(array([0., 0., 0., 0., 0., 0.]),\n",
       " array([[0., 0., 0., 0.],\n",
       "        [0., 0., 0., 0.],\n",
       "        [0., 0., 0., 0.]]))"
      ]
     },
     "execution_count": 36,
     "metadata": {},
     "output_type": "execute_result"
    }
   ],
   "source": [
    "np.zeros(6), np.zeros([3, 4])"
   ]
  },
  {
   "cell_type": "code",
   "execution_count": 38,
   "id": "11822a8b-0797-4863-82a2-4bf39d6aec1d",
   "metadata": {},
   "outputs": [
    {
     "data": {
      "text/plain": [
       "(array([1., 1., 1., 1.]),\n",
       " array([[[1., 1., 1., 1.],\n",
       "         [1., 1., 1., 1.],\n",
       "         [1., 1., 1., 1.]],\n",
       " \n",
       "        [[1., 1., 1., 1.],\n",
       "         [1., 1., 1., 1.],\n",
       "         [1., 1., 1., 1.]]]))"
      ]
     },
     "execution_count": 38,
     "metadata": {},
     "output_type": "execute_result"
    }
   ],
   "source": [
    "np.ones(4), np.ones([2, 3, 4])"
   ]
  },
  {
   "cell_type": "code",
   "execution_count": 40,
   "id": "591a1d9f-e4c2-4e79-8a54-10bbb50a1f87",
   "metadata": {},
   "outputs": [
    {
     "data": {
      "text/plain": [
       "array([[1., 0., 0., 0., 0.],\n",
       "       [0., 1., 0., 0., 0.],\n",
       "       [0., 0., 1., 0., 0.],\n",
       "       [0., 0., 0., 1., 0.],\n",
       "       [0., 0., 0., 0., 1.]])"
      ]
     },
     "execution_count": 40,
     "metadata": {},
     "output_type": "execute_result"
    }
   ],
   "source": [
    "np.eye(5)"
   ]
  },
  {
   "cell_type": "code",
   "execution_count": 42,
   "id": "aeaac26d-f098-4a54-b43d-0b0c3cbb5b0d",
   "metadata": {},
   "outputs": [],
   "source": [
    "# Ejercicio. Crear un arreglo de 4x4 cuyos elementos sean igual a 8 pero fuera de la diagonal sea igual a -10"
   ]
  },
  {
   "cell_type": "code",
   "execution_count": 49,
   "id": "2c52b5d9-a801-4c5c-bc44-2caf707495cc",
   "metadata": {},
   "outputs": [
    {
     "data": {
      "text/plain": [
       "(array([1., 1., 1., 1.]),\n",
       " array([[1., 1.],\n",
       "        [1., 1.]]))"
      ]
     },
     "execution_count": 49,
     "metadata": {},
     "output_type": "execute_result"
    }
   ],
   "source": [
    "np.ones(4), np.ones([2,2]), "
   ]
  },
  {
   "cell_type": "code",
   "execution_count": 53,
   "id": "560e7dfe-a5dd-40c4-aae9-208bef175846",
   "metadata": {},
   "outputs": [
    {
     "data": {
      "text/plain": [
       "array([[  8., -10., -10., -10.],\n",
       "       [-10.,   8., -10., -10.],\n",
       "       [-10., -10.,   8., -10.],\n",
       "       [-10., -10., -10.,   8.]])"
      ]
     },
     "execution_count": 53,
     "metadata": {},
     "output_type": "execute_result"
    }
   ],
   "source": [
    "valor = -10*np.ones([4,4]) + 18*np.eye(4)\n",
    "valor"
   ]
  },
  {
   "cell_type": "code",
   "execution_count": 52,
   "id": "c8114fcd-a6da-48ee-bbe0-a0572c894c19",
   "metadata": {},
   "outputs": [
    {
     "data": {
      "text/plain": [
       "[1,\n",
       " 1,\n",
       " 1,\n",
       " 1,\n",
       " 1,\n",
       " 1,\n",
       " 1,\n",
       " 1,\n",
       " 1,\n",
       " 1,\n",
       " 1,\n",
       " 1,\n",
       " 1,\n",
       " 1,\n",
       " 1,\n",
       " 1,\n",
       " 1,\n",
       " 1,\n",
       " 1,\n",
       " 1,\n",
       " 1,\n",
       " 1,\n",
       " 1,\n",
       " 1,\n",
       " 1,\n",
       " 1,\n",
       " 1,\n",
       " 1,\n",
       " 1,\n",
       " 1,\n",
       " 1,\n",
       " 1,\n",
       " 1,\n",
       " 1,\n",
       " 1,\n",
       " 1,\n",
       " 1,\n",
       " 1,\n",
       " 1,\n",
       " 1]"
      ]
     },
     "execution_count": 52,
     "metadata": {},
     "output_type": "execute_result"
    }
   ],
   "source": [
    "10*[1, 1, 1, 1]"
   ]
  },
  {
   "cell_type": "code",
   "execution_count": 57,
   "id": "24f62256-f3a7-4f18-9c7e-325212220245",
   "metadata": {},
   "outputs": [
    {
     "name": "stderr",
     "output_type": "stream",
     "text": [
      "C:\\Users\\V304-18\\AppData\\Local\\Temp\\ipykernel_3556\\1006119973.py:1: RuntimeWarning: invalid value encountered in sqrt\n",
      "  valor**0.5\n"
     ]
    },
    {
     "data": {
      "text/plain": [
       "array([[2.82842712,        nan,        nan,        nan],\n",
       "       [       nan, 2.82842712,        nan,        nan],\n",
       "       [       nan,        nan, 2.82842712,        nan],\n",
       "       [       nan,        nan,        nan, 2.82842712]])"
      ]
     },
     "execution_count": 57,
     "metadata": {},
     "output_type": "execute_result"
    }
   ],
   "source": [
    "valor**0.5"
   ]
  },
  {
   "cell_type": "code",
   "execution_count": 54,
   "id": "e68f41a8-e261-47a4-897c-1b2abb552f82",
   "metadata": {},
   "outputs": [
    {
     "data": {
      "text/plain": [
       "array([[ 4., -5., -5., -5.],\n",
       "       [-5.,  4., -5., -5.],\n",
       "       [-5., -5.,  4., -5.],\n",
       "       [-5., -5., -5.,  4.]])"
      ]
     },
     "execution_count": 54,
     "metadata": {},
     "output_type": "execute_result"
    }
   ],
   "source": [
    "valor/2"
   ]
  },
  {
   "cell_type": "code",
   "execution_count": 56,
   "id": "712637c3-1cdf-431c-8e29-00ef37f6fe53",
   "metadata": {},
   "outputs": [
    {
     "data": {
      "text/plain": [
       "array([[ 0.125, -0.1  , -0.1  , -0.1  ],\n",
       "       [-0.1  ,  0.125, -0.1  , -0.1  ],\n",
       "       [-0.1  , -0.1  ,  0.125, -0.1  ],\n",
       "       [-0.1  , -0.1  , -0.1  ,  0.125]])"
      ]
     },
     "execution_count": 56,
     "metadata": {},
     "output_type": "execute_result"
    }
   ],
   "source": [
    "1/valor"
   ]
  },
  {
   "cell_type": "code",
   "execution_count": null,
   "id": "3061e598-8848-4e85-b867-7995be8124c6",
   "metadata": {},
   "outputs": [],
   "source": []
  }
 ],
 "metadata": {
  "kernelspec": {
   "display_name": "Python 3 (ipykernel)",
   "language": "python",
   "name": "python3"
  },
  "language_info": {
   "codemirror_mode": {
    "name": "ipython",
    "version": 3
   },
   "file_extension": ".py",
   "mimetype": "text/x-python",
   "name": "python",
   "nbconvert_exporter": "python",
   "pygments_lexer": "ipython3",
   "version": "3.11.1"
  }
 },
 "nbformat": 4,
 "nbformat_minor": 5
}
