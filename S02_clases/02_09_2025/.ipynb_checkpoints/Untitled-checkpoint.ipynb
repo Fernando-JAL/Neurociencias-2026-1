{
 "cells": [
  {
   "cell_type": "code",
   "execution_count": 9,
   "id": "147fd9d7-9827-4162-8d77-7ed68de3673b",
   "metadata": {},
   "outputs": [
    {
     "ename": "NameError",
     "evalue": "name 'saludo' is not defined",
     "output_type": "error",
     "traceback": [
      "\u001b[31m---------------------------------------------------------------------------\u001b[39m",
      "\u001b[31mNameError\u001b[39m                                 Traceback (most recent call last)",
      "\u001b[36mCell\u001b[39m\u001b[36m \u001b[39m\u001b[32mIn[9]\u001b[39m\u001b[32m, line 2\u001b[39m\n\u001b[32m      1\u001b[39m \u001b[38;5;28;01mfrom\u001b[39;00m\u001b[38;5;250m \u001b[39m\u001b[34;01mmodulo\u001b[39;00m\u001b[38;5;250m \u001b[39m\u001b[38;5;28;01mimport\u001b[39;00m*\n\u001b[32m----> \u001b[39m\u001b[32m2\u001b[39m \u001b[43msaludo\u001b[49m()\n",
      "\u001b[31mNameError\u001b[39m: name 'saludo' is not defined"
     ]
    }
   ],
   "source": [
    "from modulo import*\n",
    "saludo()"
   ]
  },
  {
   "cell_type": "code",
   "execution_count": 10,
   "id": "0c822326-c9df-4186-ab08-71cc1a6aa9a8",
   "metadata": {},
   "outputs": [
    {
     "ename": "NameError",
     "evalue": "name 'funcion' is not defined",
     "output_type": "error",
     "traceback": [
      "\u001b[31m---------------------------------------------------------------------------\u001b[39m",
      "\u001b[31mNameError\u001b[39m                                 Traceback (most recent call last)",
      "\u001b[36mCell\u001b[39m\u001b[36m \u001b[39m\u001b[32mIn[10]\u001b[39m\u001b[32m, line 1\u001b[39m\n\u001b[32m----> \u001b[39m\u001b[32m1\u001b[39m \u001b[43mfuncion\u001b[49m()\n",
      "\u001b[31mNameError\u001b[39m: name 'funcion' is not defined"
     ]
    }
   ],
   "source": [
    "funcion()"
   ]
  }
 ],
 "metadata": {
  "kernelspec": {
   "display_name": "Python 3 (ipykernel)",
   "language": "python",
   "name": "python3"
  },
  "language_info": {
   "codemirror_mode": {
    "name": "ipython",
    "version": 3
   },
   "file_extension": ".py",
   "mimetype": "text/x-python",
   "name": "python",
   "nbconvert_exporter": "python",
   "pygments_lexer": "ipython3",
   "version": "3.13.5"
  }
 },
 "nbformat": 4,
 "nbformat_minor": 5
}
