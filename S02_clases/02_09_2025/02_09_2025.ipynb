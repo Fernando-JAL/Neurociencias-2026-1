{
 "cells": [
  {
   "cell_type": "code",
   "execution_count": 3,
   "id": "0b452d4c-e79f-4cec-b125-8f6bbd5e5b49",
   "metadata": {},
   "outputs": [],
   "source": [
    "from modulo import *"
   ]
  },
  {
   "cell_type": "code",
   "execution_count": 4,
   "id": "233208aa-bccf-45f3-b597-13903e38b923",
   "metadata": {},
   "outputs": [
    {
     "name": "stdout",
     "output_type": "stream",
     "text": [
      "Holiwissss Polinesiosssssss\n"
     ]
    }
   ],
   "source": [
    "saludos()"
   ]
  },
  {
   "cell_type": "code",
   "execution_count": 5,
   "id": "817bad16-2a26-4639-8474-1d53620f0c10",
   "metadata": {},
   "outputs": [
    {
     "name": "stdout",
     "output_type": "stream",
     "text": [
      "otra funcion\n"
     ]
    }
   ],
   "source": [
    "funcion()"
   ]
  },
  {
   "cell_type": "code",
   "execution_count": 6,
   "id": "1ea96336-7a15-4ffc-bfe5-da86130b557d",
   "metadata": {},
   "outputs": [
    {
     "name": "stdout",
     "output_type": "stream",
     "text": [
      "5\n"
     ]
    }
   ],
   "source": [
    "suma(2, 3)"
   ]
  },
  {
   "cell_type": "code",
   "execution_count": 1,
   "id": "b4438f59-b36a-426b-b568-4091ca3ba33a",
   "metadata": {},
   "outputs": [],
   "source": [
    "import numpy as np\n"
   ]
  },
  {
   "cell_type": "code",
   "execution_count": null,
   "id": "9c73f2ae-6761-42ba-a288-0e6290c1235a",
   "metadata": {},
   "outputs": [],
   "source": [
    "numpy."
   ]
  },
  {
   "cell_type": "markdown",
   "id": "f541c2a6-88b9-4ceb-81f5-430ba2ce5ce1",
   "metadata": {},
   "source": [
    "### Paquete numpy\n",
    "\n",
    "Es un paquete enfocado en manipular informacion en estructuras conocidas como vectores, arreglo y matrices.\n",
    "\n",
    "La contribucion mas significativa del paquete numpy es laintroduccion de un  tipo de dato llamado array. "
   ]
  },
  {
   "cell_type": "code",
   "execution_count": 17,
   "id": "b024bb5f-b736-4435-92a6-59481672cf71",
   "metadata": {},
   "outputs": [
    {
     "data": {
      "text/plain": [
       "numpy.ndarray"
      ]
     },
     "execution_count": 17,
     "metadata": {},
     "output_type": "execute_result"
    }
   ],
   "source": [
    "lista = [3,4,5]\n",
    "\n",
    "variable = np.array(lista)\n",
    "type(variable) "
   ]
  },
  {
   "cell_type": "code",
   "execution_count": 18,
   "id": "eae51a7e-1ba5-4ede-8ac0-827b8dd27214",
   "metadata": {},
   "outputs": [
    {
     "data": {
      "text/plain": [
       "array([3, 4, 5])"
      ]
     },
     "execution_count": 18,
     "metadata": {},
     "output_type": "execute_result"
    }
   ],
   "source": [
    "variable"
   ]
  },
  {
   "cell_type": "code",
   "execution_count": 19,
   "id": "e1cd4e76-31a9-4638-af5f-b758a06b7238",
   "metadata": {},
   "outputs": [
    {
     "data": {
      "text/plain": [
       "1"
      ]
     },
     "execution_count": 19,
     "metadata": {},
     "output_type": "execute_result"
    }
   ],
   "source": [
    "variable.ndim"
   ]
  },
  {
   "cell_type": "code",
   "execution_count": 27,
   "id": "f88f7af1-b364-4705-892a-f0be84bda195",
   "metadata": {},
   "outputs": [
    {
     "data": {
      "text/plain": [
       "(numpy.ndarray, 2, (2, 3))"
      ]
     },
     "execution_count": 27,
     "metadata": {},
     "output_type": "execute_result"
    }
   ],
   "source": [
    "variable2d = np.array([\n",
    "    [4, 5, 6],\n",
    "    [7, 8, 9]\n",
    "])\n",
    "\n",
    "type(variable2d), variable2d.ndim, variable2d.shape\n",
    "\n",
    "# Arreglos en python, matrices en matlab\n"
   ]
  },
  {
   "cell_type": "code",
   "execution_count": 25,
   "id": "26a7e0a6-0c82-4564-82b2-2e36194021cf",
   "metadata": {},
   "outputs": [
    {
     "data": {
      "text/plain": [
       "array([[4, 5, 6],\n",
       "       [7, 8, 9]])"
      ]
     },
     "execution_count": 25,
     "metadata": {},
     "output_type": "execute_result"
    }
   ],
   "source": [
    "variable2d"
   ]
  },
  {
   "cell_type": "code",
   "execution_count": 26,
   "id": "b528e20b-a732-4a4f-ba05-199d01a5300b",
   "metadata": {},
   "outputs": [
    {
     "data": {
      "text/plain": [
       "(2, 3)"
      ]
     },
     "execution_count": 26,
     "metadata": {},
     "output_type": "execute_result"
    }
   ],
   "source": [
    "variable2d.shape"
   ]
  },
  {
   "cell_type": "markdown",
   "id": "544641e6-5bdc-4d5e-9877-7001f1908ea9",
   "metadata": {},
   "source": [
    " # Funciones de numpy"
   ]
  },
  {
   "cell_type": "code",
   "execution_count": 33,
   "id": "568b3974-4f65-4952-b13c-d56e41a9fe45",
   "metadata": {},
   "outputs": [
    {
     "data": {
      "text/plain": [
       "(array([0., 0., 0., 0., 0., 0.]),\n",
       " array([[0., 0., 0., 0.],\n",
       "        [0., 0., 0., 0.],\n",
       "        [0., 0., 0., 0.]]))"
      ]
     },
     "execution_count": 33,
     "metadata": {},
     "output_type": "execute_result"
    }
   ],
   "source": [
    "np.zeros(6), np.zeros([3,4])"
   ]
  },
  {
   "cell_type": "code",
   "execution_count": 34,
   "id": "02d8b676-06a6-4189-b41b-48213b8e12d6",
   "metadata": {},
   "outputs": [
    {
     "data": {
      "text/plain": [
       "(array([1., 1., 1., 1.]), array(1.))"
      ]
     },
     "execution_count": 34,
     "metadata": {},
     "output_type": "execute_result"
    }
   ],
   "source": [
    "np.ones(4), np.ones([])"
   ]
  },
  {
   "cell_type": "code",
   "execution_count": 38,
   "id": "3d972afd-07fa-414e-a8ae-00f11cd9a537",
   "metadata": {},
   "outputs": [
    {
     "data": {
      "text/plain": [
       "array([[1., 0., 0.],\n",
       "       [0., 1., 0.],\n",
       "       [0., 0., 1.]])"
      ]
     },
     "execution_count": 38,
     "metadata": {},
     "output_type": "execute_result"
    }
   ],
   "source": [
    "np.eye(3)"
   ]
  },
  {
   "cell_type": "code",
   "execution_count": null,
   "id": "30089d60-5db7-488e-a1b7-96670e1c7907",
   "metadata": {},
   "outputs": [],
   "source": [
    "#Ejercicio. Crear un arreglo de 4x4 cuyos elementos sean igual a 8 pero fuera de la diagonal sea igual a -10"
   ]
  },
  {
   "cell_type": "code",
   "execution_count": 60,
   "id": "9df844f0-689b-478a-9f68-76a7a64c518a",
   "metadata": {},
   "outputs": [
    {
     "data": {
      "text/plain": [
       "array([[  8., -10., -10., -10.],\n",
       "       [-10.,   8., -10., -10.],\n",
       "       [-10., -10.,   8., -10.],\n",
       "       [-10., -10., -10.,   8.]])"
      ]
     },
     "execution_count": 60,
     "metadata": {},
     "output_type": "execute_result"
    }
   ],
   "source": [
    "valor = -10*np.ones([4, 4]) + 18*np.eye(4)\n",
    "valor"
   ]
  },
  {
   "cell_type": "code",
   "execution_count": 61,
   "id": "d4e669ef-feb2-41d6-af60-d647499b7edd",
   "metadata": {},
   "outputs": [
    {
     "data": {
      "text/plain": [
       "array([[ 4., -5., -5., -5.],\n",
       "       [-5.,  4., -5., -5.],\n",
       "       [-5., -5.,  4., -5.],\n",
       "       [-5., -5., -5.,  4.]])"
      ]
     },
     "execution_count": 61,
     "metadata": {},
     "output_type": "execute_result"
    }
   ],
   "source": [
    "valor/2"
   ]
  },
  {
   "cell_type": "code",
   "execution_count": 62,
   "id": "66125dd9-6429-4fa0-bbab-88b3a9d60873",
   "metadata": {},
   "outputs": [
    {
     "data": {
      "text/plain": [
       "[1,\n",
       " 1,\n",
       " 1,\n",
       " 1,\n",
       " 1,\n",
       " 1,\n",
       " 1,\n",
       " 1,\n",
       " 1,\n",
       " 1,\n",
       " 1,\n",
       " 1,\n",
       " 1,\n",
       " 1,\n",
       " 1,\n",
       " 1,\n",
       " 1,\n",
       " 1,\n",
       " 1,\n",
       " 1,\n",
       " 1,\n",
       " 1,\n",
       " 1,\n",
       " 1,\n",
       " 1,\n",
       " 1,\n",
       " 1,\n",
       " 1,\n",
       " 1,\n",
       " 1]"
      ]
     },
     "execution_count": 62,
     "metadata": {},
     "output_type": "execute_result"
    }
   ],
   "source": [
    "10* [1,1,1]"
   ]
  },
  {
   "cell_type": "code",
   "execution_count": 63,
   "id": "bd9fe08d-fc13-4bd3-9fa2-582cc9ee1ea3",
   "metadata": {},
   "outputs": [
    {
     "data": {
      "text/plain": [
       "array([[ 0.125, -0.1  , -0.1  , -0.1  ],\n",
       "       [-0.1  ,  0.125, -0.1  , -0.1  ],\n",
       "       [-0.1  , -0.1  ,  0.125, -0.1  ],\n",
       "       [-0.1  , -0.1  , -0.1  ,  0.125]])"
      ]
     },
     "execution_count": 63,
     "metadata": {},
     "output_type": "execute_result"
    }
   ],
   "source": [
    "1/valor"
   ]
  },
  {
   "cell_type": "code",
   "execution_count": null,
   "id": "4be03c21-2129-46de-8569-6be34800975c",
   "metadata": {},
   "outputs": [],
   "source": []
  }
 ],
 "metadata": {
  "kernelspec": {
   "display_name": "Python 3 (ipykernel)",
   "language": "python",
   "name": "python3"
  },
  "language_info": {
   "codemirror_mode": {
    "name": "ipython",
    "version": 3
   },
   "file_extension": ".py",
   "mimetype": "text/x-python",
   "name": "python",
   "nbconvert_exporter": "python",
   "pygments_lexer": "ipython3",
   "version": "3.13.5"
  }
 },
 "nbformat": 4,
 "nbformat_minor": 5
}
