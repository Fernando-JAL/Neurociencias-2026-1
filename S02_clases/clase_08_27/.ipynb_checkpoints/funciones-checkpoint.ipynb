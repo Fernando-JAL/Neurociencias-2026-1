{
 "cells": [
  {
   "cell_type": "markdown",
   "id": "b7af8b20-9287-4ee7-9d4b-50bb3d3d2ce7",
   "metadata": {},
   "source": [
    "# funciones\n",
    "\n",
    "Son fragmentos de código que se pueden ejecutar múltiples veces. Pueden recibir y/o devolver información/datos/variables para comunicarse con el código/proceso principal.\n"
   ]
  },
  {
   "cell_type": "code",
   "execution_count": 1,
   "id": "8df81a13-9790-4fe8-a77b-ca2d24146dfe",
   "metadata": {},
   "outputs": [
    {
     "name": "stdout",
     "output_type": "stream",
     "text": [
      "Hello world, Dennis Ritchie \n"
     ]
    }
   ],
   "source": [
    "def saludar():\n",
    "    print('Hello world, Dennis Ritchie ')\n",
    "\n",
    "saludar()"
   ]
  },
  {
   "cell_type": "code",
   "execution_count": 2,
   "id": "fd36119a-c469-43a0-a93e-318df995359a",
   "metadata": {},
   "outputs": [
    {
     "name": "stdout",
     "output_type": "stream",
     "text": [
      "Hello world, Dennis Ritchie \n",
      "Hello world, Dennis Ritchie \n",
      "Hello world, Dennis Ritchie \n"
     ]
    }
   ],
   "source": [
    "for _ in range(3):\n",
    "    saludar()"
   ]
  },
  {
   "cell_type": "code",
   "execution_count": 7,
   "id": "dabf878b-6d5b-4883-9e8f-edf88b02ae4f",
   "metadata": {},
   "outputs": [],
   "source": [
    "numeritos = [3, 5, 7, 9, 11]"
   ]
  },
  {
   "cell_type": "code",
   "execution_count": 5,
   "id": "61a57c6f-9fde-42cd-8d39-085379130d7a",
   "metadata": {},
   "outputs": [],
   "source": [
    "def promedio(numeros):\n",
    "    valor_promedio = sum(numeros)/len(numeros)\n",
    "    print(f'El promedio de los numeros es {valor_promedio}')\n",
    "    return valor_promedio"
   ]
  },
  {
   "cell_type": "code",
   "execution_count": 8,
   "id": "e5e82dbc-63e9-4d36-aebc-4f69e6c66650",
   "metadata": {},
   "outputs": [
    {
     "name": "stdout",
     "output_type": "stream",
     "text": [
      "El promedio de los numeros es 7.0\n"
     ]
    }
   ],
   "source": [
    "valor_f = promedio(numeritos)"
   ]
  },
  {
   "cell_type": "code",
   "execution_count": 9,
   "id": "17425168-c899-44a1-a5a8-2b6e8aee593d",
   "metadata": {},
   "outputs": [
    {
     "data": {
      "text/plain": [
       "7.0"
      ]
     },
     "execution_count": 9,
     "metadata": {},
     "output_type": "execute_result"
    }
   ],
   "source": [
    "valor_f"
   ]
  },
  {
   "cell_type": "code",
   "execution_count": 10,
   "id": "9d3ef42b-85c4-47da-90b6-31326b2ce3d7",
   "metadata": {},
   "outputs": [],
   "source": [
    "def minimo(val_a, val_b):\n",
    "    val_minimo = min(val_a, val_b)\n",
    "    return val_minimo"
   ]
  },
  {
   "cell_type": "code",
   "execution_count": 11,
   "id": "1df6d779-b612-45f9-8318-99ebf8e7a9bf",
   "metadata": {},
   "outputs": [
    {
     "data": {
      "text/plain": [
       "-50"
      ]
     },
     "execution_count": 11,
     "metadata": {},
     "output_type": "execute_result"
    }
   ],
   "source": [
    "minimo(-10, -50)"
   ]
  },
  {
   "cell_type": "markdown",
   "id": "84582476-421e-454f-9e70-74530e116d3d",
   "metadata": {},
   "source": [
    "# Ejercicio\n",
    "Hacer una función para calcular el factorial de un número"
   ]
  },
  {
   "cell_type": "code",
   "execution_count": 19,
   "id": "311c1faf-e45b-4790-862f-f44668ac7d97",
   "metadata": {},
   "outputs": [
    {
     "data": {
      "text/plain": [
       "1307674368000"
      ]
     },
     "execution_count": 19,
     "metadata": {},
     "output_type": "execute_result"
    }
   ],
   "source": [
    "def factorial(valor):\n",
    "    resultado = 1\n",
    "    for val in range(1, valor+1):\n",
    "        resultado *= val\n",
    "    return resultado\n",
    "\n",
    "factorial(15)"
   ]
  },
  {
   "cell_type": "code",
   "execution_count": null,
   "id": "bc68beba-673a-4f97-b28f-8b0bceb8a4b8",
   "metadata": {},
   "outputs": [],
   "source": []
  },
  {
   "cell_type": "code",
   "execution_count": null,
   "id": "ef597acb-4207-44f5-8360-9937c67fc7c6",
   "metadata": {},
   "outputs": [],
   "source": []
  },
  {
   "cell_type": "code",
   "execution_count": null,
   "id": "30c4407e-23d7-49f4-85bf-d9654f408849",
   "metadata": {},
   "outputs": [],
   "source": []
  },
  {
   "cell_type": "code",
   "execution_count": null,
   "id": "ef64d892-f4b2-426b-8f91-3fbcc7edfec7",
   "metadata": {},
   "outputs": [],
   "source": []
  }
 ],
 "metadata": {
  "kernelspec": {
   "display_name": "Python (dl_env)",
   "language": "python",
   "name": "dl_env"
  },
  "language_info": {
   "codemirror_mode": {
    "name": "ipython",
    "version": 3
   },
   "file_extension": ".py",
   "mimetype": "text/x-python",
   "name": "python",
   "nbconvert_exporter": "python",
   "pygments_lexer": "ipython3",
   "version": "3.10.4"
  }
 },
 "nbformat": 4,
 "nbformat_minor": 5
}
