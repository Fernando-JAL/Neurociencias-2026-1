{
 "cells": [
  {
   "cell_type": "markdown",
   "id": "d77f1aa0-c53e-4f00-9b7c-d7d545a7a97e",
   "metadata": {},
   "source": [
    "# FUNCIONES\n",
    "\n",
    "son fragmentos de código que se pueden ejecutar múltiples veces. Pueden recibir y/o devolver información/datos/variables para comunicarse con el código/proceso principal"
   ]
  },
  {
   "cell_type": "code",
   "execution_count": 1,
   "id": "20816bb8-282a-4b89-aa43-350226c81a88",
   "metadata": {},
   "outputs": [
    {
     "name": "stdout",
     "output_type": "stream",
     "text": [
      "Hello world, Dennis Ritche\n"
     ]
    }
   ],
   "source": [
    "def saludar ():\n",
    "    print ('Hello world, Dennis Ritche')\n",
    "\n",
    "saludar()"
   ]
  },
  {
   "cell_type": "code",
   "execution_count": 2,
   "id": "cdff22fa-a077-4228-8cdf-bec71b84d4a2",
   "metadata": {},
   "outputs": [
    {
     "data": {
      "text/plain": [
       "7.0"
      ]
     },
     "execution_count": 2,
     "metadata": {},
     "output_type": "execute_result"
    }
   ],
   "source": [
    "lista = [3,5,7,9,11]\n",
    "\n",
    "sum(lista)/len(lista)"
   ]
  },
  {
   "cell_type": "code",
   "execution_count": 3,
   "id": "45eeaa04-601d-48e0-86a3-e43008f9572c",
   "metadata": {},
   "outputs": [],
   "source": [
    "def promedio (numeros):\n",
    "    valor_promedio = sum(numeros)/len(numeros)\n",
    "    print ( f' el promedio de los numeros es {valor_promedio}')\n",
    "    return valor_promedio "
   ]
  },
  {
   "cell_type": "code",
   "execution_count": 7,
   "id": "18819aa0-5b5c-4d2d-96aa-d3a2caa6b6ce",
   "metadata": {},
   "outputs": [
    {
     "name": "stdout",
     "output_type": "stream",
     "text": [
      " el promedio de los numeros es 7.0\n"
     ]
    }
   ],
   "source": [
    "valor_f = promedio(lista)"
   ]
  },
  {
   "cell_type": "code",
   "execution_count": 8,
   "id": "f69418c1-b550-40f1-a50c-73c930b3dfc3",
   "metadata": {},
   "outputs": [
    {
     "data": {
      "text/plain": [
       "7.0"
      ]
     },
     "execution_count": 8,
     "metadata": {},
     "output_type": "execute_result"
    }
   ],
   "source": [
    "valor_f"
   ]
  },
  {
   "cell_type": "code",
   "execution_count": 9,
   "id": "d95683e2-de03-4d94-aefc-9713e6020164",
   "metadata": {},
   "outputs": [],
   "source": [
    "def minimo(val_a,val_b):\n",
    "    val_minimo = min(val_a,val_b)\n",
    "\n",
    "    return val_minimo"
   ]
  },
  {
   "cell_type": "code",
   "execution_count": 10,
   "id": "9838ffd2-d1f0-4cba-862b-2b6b3570c38b",
   "metadata": {},
   "outputs": [
    {
     "data": {
      "text/plain": [
       "-50"
      ]
     },
     "execution_count": 10,
     "metadata": {},
     "output_type": "execute_result"
    }
   ],
   "source": [
    "minimo (-10, -50)"
   ]
  },
  {
   "cell_type": "markdown",
   "id": "a27d5bb4-95a4-4f72-b4fc-5471c9a4a361",
   "metadata": {},
   "source": [
    "# EJERCICIO \n",
    "\n",
    "hacer una función para calcular el factorial de un numero"
   ]
  },
  {
   "cell_type": "code",
   "execution_count": 11,
   "id": "94f42ec5-b266-4da4-879b-9fb5c0788291",
   "metadata": {},
   "outputs": [
    {
     "name": "stdout",
     "output_type": "stream",
     "text": [
      "El factorial de 18 es 6402373705728000\n"
     ]
    }
   ],
   "source": [
    "import math\n",
    "\n",
    "numero = 18\n",
    "resultado = math.factorial(numero)\n",
    "print(f\"El factorial de {numero} es {resultado}\")"
   ]
  },
  {
   "cell_type": "code",
   "execution_count": 13,
   "id": "0b75b132-0ebc-4f77-b8d9-6c7764fcff7e",
   "metadata": {},
   "outputs": [
    {
     "data": {
      "text/plain": [
       "120"
      ]
     },
     "execution_count": 13,
     "metadata": {},
     "output_type": "execute_result"
    }
   ],
   "source": [
    "n = 5 \n",
    "\n",
    "resultado = 1\n",
    "for val in range (1, n+1):\n",
    "    resultado *= val\n",
    "\n",
    "resultado"
   ]
  },
  {
   "cell_type": "code",
   "execution_count": null,
   "id": "9c5cc521-fad7-4d08-a17f-978b6edc34f0",
   "metadata": {},
   "outputs": [],
   "source": []
  }
 ],
 "metadata": {
  "kernelspec": {
   "display_name": "Python 3 (ipykernel)",
   "language": "python",
   "name": "python3"
  },
  "language_info": {
   "codemirror_mode": {
    "name": "ipython",
    "version": 3
   },
   "file_extension": ".py",
   "mimetype": "text/x-python",
   "name": "python",
   "nbconvert_exporter": "python",
   "pygments_lexer": "ipython3",
   "version": "3.10.4"
  }
 },
 "nbformat": 4,
 "nbformat_minor": 5
}
