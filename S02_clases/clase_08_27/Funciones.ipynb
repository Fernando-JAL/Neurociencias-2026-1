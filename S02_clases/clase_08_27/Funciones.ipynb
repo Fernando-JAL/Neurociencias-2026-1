{
 "cells": [
  {
   "cell_type": "markdown",
   "id": "ed4fb725-e998-41ad-b6d7-092535891804",
   "metadata": {},
   "source": [
    "# Funciones\n",
    "son fragmentos de codigo que se pueden ejecutar múltiples veces.Pueden recibir y/o devolver información,datos,variables\n",
    "para comunicarse con el código/proceso principal"
   ]
  },
  {
   "cell_type": "code",
   "execution_count": 9,
   "id": "9ef26105-777c-4e0a-94ce-d7180943fccd",
   "metadata": {},
   "outputs": [
    {
     "name": "stdout",
     "output_type": "stream",
     "text": [
      "Hello world,Dennis Ritchie\n"
     ]
    }
   ],
   "source": [
    "def saludar():\n",
    "    print('Hello world,Dennis Ritchie')\n",
    "\n",
    "saludar()"
   ]
  },
  {
   "cell_type": "code",
   "execution_count": 10,
   "id": "d95d22b7-70e6-43e3-b295-2ee2f6fcb15a",
   "metadata": {},
   "outputs": [
    {
     "name": "stdout",
     "output_type": "stream",
     "text": [
      "Hello world,Dennis Ritchie\n",
      "Hello world,Dennis Ritchie\n",
      "Hello world,Dennis Ritchie\n"
     ]
    }
   ],
   "source": [
    "for _ in range (3):\n",
    "    saludar()"
   ]
  },
  {
   "cell_type": "code",
   "execution_count": 11,
   "id": "9e1f72b5-e2a3-442d-b693-7b0e58793255",
   "metadata": {},
   "outputs": [
    {
     "data": {
      "text/plain": [
       "7.0"
      ]
     },
     "execution_count": 11,
     "metadata": {},
     "output_type": "execute_result"
    }
   ],
   "source": [
    "lista= [3,5,7,9,11 ]\n",
    "sum(lista)/len(lista)"
   ]
  },
  {
   "cell_type": "code",
   "execution_count": 12,
   "id": "4603399c-c178-47eb-9ac6-3a8f1df0d143",
   "metadata": {},
   "outputs": [],
   "source": [
    "numeritos =[3,5,7,9,11 ]"
   ]
  },
  {
   "cell_type": "code",
   "execution_count": 13,
   "id": "e1f5c767-e248-4792-aa42-089652215e3c",
   "metadata": {},
   "outputs": [],
   "source": [
    "def promedio(numeros):     #numeros es parámetro\n",
    "    valor_promedio= sum(numeros)/len(numeros)\n",
    "    print(f'El promedio de los numeros es {valor_promedio }')\n",
    "    return valor_promedio"
   ]
  },
  {
   "cell_type": "code",
   "execution_count": 15,
   "id": "071514e2-247b-444d-885f-6bd6ebbbaae4",
   "metadata": {},
   "outputs": [
    {
     "name": "stdout",
     "output_type": "stream",
     "text": [
      "El promedio de los numeros es 7.0\n"
     ]
    },
    {
     "data": {
      "text/plain": [
       "7.0"
      ]
     },
     "execution_count": 15,
     "metadata": {},
     "output_type": "execute_result"
    }
   ],
   "source": [
    "promedio(numeritos) #numeritos es el argumento"
   ]
  },
  {
   "cell_type": "code",
   "execution_count": 16,
   "id": "58a403ad-7ba8-47e8-85b8-cdf5bb79df9e",
   "metadata": {},
   "outputs": [
    {
     "name": "stdout",
     "output_type": "stream",
     "text": [
      "El promedio de los numeros es 7.0\n"
     ]
    }
   ],
   "source": [
    "valor_f = promedio(numeritos)"
   ]
  },
  {
   "cell_type": "code",
   "execution_count": 17,
   "id": "95b204dd-03b4-4234-9ceb-9ab165b60e86",
   "metadata": {},
   "outputs": [],
   "source": [
    "def minimo(val_a, val_b):\n",
    "    val_minimo = min(val_a, val_b)\n",
    "    return val_minimo"
   ]
  },
  {
   "cell_type": "code",
   "execution_count": 18,
   "id": "c69fb85e-c9a4-4065-bb1a-9fc96809c6f8",
   "metadata": {},
   "outputs": [
    {
     "data": {
      "text/plain": [
       "-50"
      ]
     },
     "execution_count": 18,
     "metadata": {},
     "output_type": "execute_result"
    }
   ],
   "source": [
    "minimo(-10,-50)"
   ]
  },
  {
   "cell_type": "markdown",
   "id": "41c3a396-74eb-4a32-be1c-eeedbcb3f884",
   "metadata": {},
   "source": [
    "# Ejercicio\n",
    "Hacer una función para calcular el factorial de un número"
   ]
  },
  {
   "cell_type": "code",
   "execution_count": 27,
   "id": "84b47efe-bd47-4c69-a95d-9ae4fe5ca1e1",
   "metadata": {},
   "outputs": [
    {
     "name": "stdout",
     "output_type": "stream",
     "text": [
      "1\n",
      "2\n",
      "3\n",
      "4\n",
      "5\n",
      "6\n",
      "7\n",
      "8\n",
      "9\n"
     ]
    },
    {
     "data": {
      "text/plain": [
       "362880"
      ]
     },
     "execution_count": 27,
     "metadata": {},
     "output_type": "execute_result"
    }
   ],
   "source": [
    "n = 9\n",
    "resultado =1\n",
    "for val in range(1,n + 1):\n",
    "    print(val)\n",
    "    resultado *= val\n",
    "\n",
    "resultado"
   ]
  },
  {
   "cell_type": "code",
   "execution_count": 30,
   "id": "347da878-ca06-43c7-8b1a-b83a89cabeec",
   "metadata": {},
   "outputs": [
    {
     "data": {
      "text/plain": [
       "1307674368000"
      ]
     },
     "execution_count": 30,
     "metadata": {},
     "output_type": "execute_result"
    }
   ],
   "source": [
    "def factorial(valor):\n",
    "    resultado = 1\n",
    "    for val in range(1,valor + 1):\n",
    "        resultado *= val\n",
    "    return resultado\n",
    "\n",
    "factorial(15)"
   ]
  },
  {
   "cell_type": "code",
   "execution_count": null,
   "id": "45a72ffd-ec03-4e00-9e83-98e4df7f7d86",
   "metadata": {},
   "outputs": [],
   "source": []
  }
 ],
 "metadata": {
  "kernelspec": {
   "display_name": "Python 3 (ipykernel)",
   "language": "python",
   "name": "python3"
  },
  "language_info": {
   "codemirror_mode": {
    "name": "ipython",
    "version": 3
   },
   "file_extension": ".py",
   "mimetype": "text/x-python",
   "name": "python",
   "nbconvert_exporter": "python",
   "pygments_lexer": "ipython3",
   "version": "3.10.4"
  }
 },
 "nbformat": 4,
 "nbformat_minor": 5
}
