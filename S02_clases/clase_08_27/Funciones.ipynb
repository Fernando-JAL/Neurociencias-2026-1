{
 "cells": [
  {
   "cell_type": "markdown",
   "id": "082fc00c-3411-4e4c-b75e-7197167ef53e",
   "metadata": {},
   "source": [
    "# Funciones \n",
    "\n",
    "Son fragmentos de código que se pueden ejecutar múltiples veces. Pueden recibir y/o devolver información/datos/variables para comunicarse con el código/proceso principal. "
   ]
  },
  {
   "cell_type": "code",
   "execution_count": 2,
   "id": "d9cfd600-527e-4ee7-8e4a-c607ae286283",
   "metadata": {},
   "outputs": [
    {
     "name": "stdout",
     "output_type": "stream",
     "text": [
      "Hello world, Dennis Ritchie \n"
     ]
    }
   ],
   "source": [
    "# def nombre():   --> para definir las funciones \n",
    "\n",
    "def saludar():\n",
    "    print(\"Hello world, Dennis Ritchie \")\n",
    "\n",
    "saludar()"
   ]
  },
  {
   "cell_type": "code",
   "execution_count": 4,
   "id": "e1e6998a-8fcf-4f81-b377-a96c5383adf8",
   "metadata": {},
   "outputs": [
    {
     "name": "stdout",
     "output_type": "stream",
     "text": [
      "Hello world, Dennis Ritchie \n",
      "Hello world, Dennis Ritchie \n",
      "Hello world, Dennis Ritchie \n"
     ]
    }
   ],
   "source": [
    "for _ in range(3):\n",
    "    saludar()"
   ]
  },
  {
   "cell_type": "code",
   "execution_count": 7,
   "id": "9e48df5c-7fc6-406a-8d39-1d1a915a0861",
   "metadata": {},
   "outputs": [
    {
     "data": {
      "text/plain": [
       "7.0"
      ]
     },
     "execution_count": 7,
     "metadata": {},
     "output_type": "execute_result"
    }
   ],
   "source": [
    "lista = [3, 5, 7, 9, 11]\n",
    "\n",
    "sum(lista)/len(lista)  # promedio"
   ]
  },
  {
   "cell_type": "markdown",
   "id": "9781665e-082a-48d2-b3a2-6330c297e884",
   "metadata": {},
   "source": [
    "en la función def nombre(): \n",
    "\n",
    "dentro del paréntesis --> __parámetros__, cuando llamo la función lo que esté dentro del paréntesis son __argumentos__ \n",
    "\n",
    "- tiene que haber la misma cantidad de argumentos que de parámetros"
   ]
  },
  {
   "cell_type": "code",
   "execution_count": 8,
   "id": "4f95c1a4-a77e-4cdf-9f2f-8bcba11b5846",
   "metadata": {},
   "outputs": [],
   "source": [
    "def promedio(numeros):\n",
    "    valor_promedio = sum(numeros)/len(numeros)\n",
    "\n",
    "    return valor_promedio"
   ]
  },
  {
   "cell_type": "code",
   "execution_count": 11,
   "id": "b67bc46f-ae7c-4161-99ee-ab415d0202f1",
   "metadata": {},
   "outputs": [],
   "source": [
    "# aquí se van a guardar los valores de return\n",
    "valor_f = promedio(lista)"
   ]
  },
  {
   "cell_type": "code",
   "execution_count": 12,
   "id": "c1705036-f66e-4b9c-afcf-19bfbe6d4b71",
   "metadata": {},
   "outputs": [
    {
     "data": {
      "text/plain": [
       "7.0"
      ]
     },
     "execution_count": 12,
     "metadata": {},
     "output_type": "execute_result"
    }
   ],
   "source": [
    "valor_f"
   ]
  },
  {
   "cell_type": "code",
   "execution_count": 13,
   "id": "f7bfa530-88bd-47e8-bb4e-249322d4c6d6",
   "metadata": {},
   "outputs": [],
   "source": [
    "def minimo(val_a, val_b):\n",
    "    val_minimo = min(val_a, val_b)\n",
    "\n",
    "    return val_minimo"
   ]
  },
  {
   "cell_type": "code",
   "execution_count": 14,
   "id": "90484a99-7dd8-4f90-b910-4bed2c32167d",
   "metadata": {},
   "outputs": [
    {
     "data": {
      "text/plain": [
       "-50"
      ]
     },
     "execution_count": 14,
     "metadata": {},
     "output_type": "execute_result"
    }
   ],
   "source": [
    "minimo(-10, -50)"
   ]
  },
  {
   "cell_type": "markdown",
   "id": "563c431c-18b8-4de1-8d96-a35d8942ec2f",
   "metadata": {},
   "source": [
    "### Ejercicio\n",
    "\n",
    "Hacer una función para calcular el factorial de un numero"
   ]
  },
  {
   "cell_type": "code",
   "execution_count": 36,
   "id": "24ca8b70-c6d1-454c-9dd0-ee1708d2fc84",
   "metadata": {},
   "outputs": [
    {
     "data": {
      "text/plain": [
       "120"
      ]
     },
     "execution_count": 36,
     "metadata": {},
     "output_type": "execute_result"
    }
   ],
   "source": [
    "n = 5\n",
    "\n",
    "resultado = 1\n",
    "for val in range(1, n+1):\n",
    "    resultado *= val\n",
    "    \n",
    "resultado"
   ]
  },
  {
   "cell_type": "code",
   "execution_count": 38,
   "id": "772437b3-28cf-457c-9278-ccd4cebfd187",
   "metadata": {},
   "outputs": [
    {
     "data": {
      "text/plain": [
       "120"
      ]
     },
     "execution_count": 38,
     "metadata": {},
     "output_type": "execute_result"
    }
   ],
   "source": [
    "# ahora en función\n",
    "\n",
    "def factorial(numero):\n",
    "    resultado = 1\n",
    "    for val in range(1, n+1):\n",
    "        resultado *= val\n",
    "\n",
    "    return resultado\n",
    "\n",
    "factorial(5) "
   ]
  },
  {
   "cell_type": "code",
   "execution_count": null,
   "id": "1fbdd1ec-f792-4f58-830c-4497a663cb42",
   "metadata": {},
   "outputs": [],
   "source": []
  },
  {
   "cell_type": "code",
   "execution_count": null,
   "id": "fbbda0f6-ddbe-4d52-90f2-9d5d395bfc9f",
   "metadata": {},
   "outputs": [],
   "source": []
  },
  {
   "cell_type": "code",
   "execution_count": null,
   "id": "2dee7eb2-c5b8-4ae7-a48c-96e4b0f35c5b",
   "metadata": {},
   "outputs": [],
   "source": []
  }
 ],
 "metadata": {
  "kernelspec": {
   "display_name": "Python 3 (ipykernel)",
   "language": "python",
   "name": "python3"
  },
  "language_info": {
   "codemirror_mode": {
    "name": "ipython",
    "version": 3
   },
   "file_extension": ".py",
   "mimetype": "text/x-python",
   "name": "python",
   "nbconvert_exporter": "python",
   "pygments_lexer": "ipython3",
   "version": "3.13.6"
  }
 },
 "nbformat": 4,
 "nbformat_minor": 5
}
