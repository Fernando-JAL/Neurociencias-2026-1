{
 "cells": [
  {
   "cell_type": "markdown",
   "id": "bdd070d4-3c7c-455f-bfb0-1275109cac24",
   "metadata": {},
   "source": [
    "# Funciones"
   ]
  },
  {
   "cell_type": "markdown",
   "id": "f11aaff7-ce38-4024-a2a9-e6dbeb306c5e",
   "metadata": {},
   "source": [
    "Son fragmentos de código que se pueden ejecutar múltiples veces. Pueden recibir y/o devolver información/datos/variables para comunicarse con el código/proceso principal."
   ]
  },
  {
   "cell_type": "code",
   "execution_count": 1,
   "id": "af007255-7c7b-428d-884c-18a531b9b4d1",
   "metadata": {},
   "outputs": [
    {
     "name": "stdout",
     "output_type": "stream",
     "text": [
      "Hello world, Dennis Ritchie \n"
     ]
    }
   ],
   "source": [
    "def saludar():\n",
    "    print('Hello world, Dennis Ritchie ')\n",
    "\n",
    "saludar()"
   ]
  },
  {
   "cell_type": "code",
   "execution_count": 2,
   "id": "23815eea-5ead-400a-9f31-3f983fa9c7c8",
   "metadata": {},
   "outputs": [
    {
     "name": "stdout",
     "output_type": "stream",
     "text": [
      "Hello world, Dennis Ritchie \n"
     ]
    }
   ],
   "source": [
    "saludar()"
   ]
  },
  {
   "cell_type": "code",
   "execution_count": 3,
   "id": "7f30f86a-f636-4f88-9cb8-a8dc5671c917",
   "metadata": {},
   "outputs": [
    {
     "name": "stdout",
     "output_type": "stream",
     "text": [
      "Hello world, Dennis Ritchie \n",
      "Hello world, Dennis Ritchie \n",
      "Hello world, Dennis Ritchie \n"
     ]
    }
   ],
   "source": [
    "for _ in range(3):\n",
    "    saludar()"
   ]
  },
  {
   "cell_type": "code",
   "execution_count": 4,
   "id": "da592aa7-8fa1-41f9-a9bb-edf148435daf",
   "metadata": {},
   "outputs": [
    {
     "data": {
      "text/plain": [
       "7.0"
      ]
     },
     "execution_count": 4,
     "metadata": {},
     "output_type": "execute_result"
    }
   ],
   "source": [
    "lista= [3,5,7,9,11]\n",
    "sum(lista)/len(lista)"
   ]
  },
  {
   "cell_type": "code",
   "execution_count": 6,
   "id": "c04a3624-d6d1-4ee2-b09b-dca09d01c3e2",
   "metadata": {},
   "outputs": [],
   "source": [
    "def promedio(numeros):\n",
    "    valor_promedio= sum(numeros)/len(numeros)\n",
    "    print(f'El promedio de los numeros es {valor_promedio}')\n",
    "    return valor_promedio"
   ]
  },
  {
   "cell_type": "code",
   "execution_count": 10,
   "id": "a0751c5d-bb42-4bf4-a30a-972e7c744e84",
   "metadata": {},
   "outputs": [
    {
     "name": "stdout",
     "output_type": "stream",
     "text": [
      "El promedio de los numeros es 7.0\n"
     ]
    }
   ],
   "source": [
    "valor_f = promedio(lista)"
   ]
  },
  {
   "cell_type": "code",
   "execution_count": 11,
   "id": "3fcce513-310c-4222-a67c-55e4dd3dbb93",
   "metadata": {},
   "outputs": [
    {
     "data": {
      "text/plain": [
       "7.0"
      ]
     },
     "execution_count": 11,
     "metadata": {},
     "output_type": "execute_result"
    }
   ],
   "source": [
    "valor_f"
   ]
  },
  {
   "cell_type": "code",
   "execution_count": 13,
   "id": "3e7df5f5-dc58-4601-8ad6-5823db758977",
   "metadata": {},
   "outputs": [],
   "source": [
    "def minimo(val_a, val_b):\n",
    "    val_minimo= min(val_a, val_b)\n",
    "    return val_minimo"
   ]
  },
  {
   "cell_type": "code",
   "execution_count": 14,
   "id": "e24c95fa-9792-4564-a92a-5538b3194c52",
   "metadata": {},
   "outputs": [
    {
     "data": {
      "text/plain": [
       "-50"
      ]
     },
     "execution_count": 14,
     "metadata": {},
     "output_type": "execute_result"
    }
   ],
   "source": [
    "minimo(-10,-50)"
   ]
  },
  {
   "cell_type": "markdown",
   "id": "7d6a5e87-a253-4e61-ae90-5f87cbe15e29",
   "metadata": {},
   "source": [
    "# Ejercicio\n",
    "Hacer una función de un sólo parámetro para calcular el factorial de un número"
   ]
  },
  {
   "cell_type": "code",
   "execution_count": 23,
   "id": "631c2477-90e2-4135-b7b9-85e2a6a7062e",
   "metadata": {},
   "outputs": [],
   "source": [
    "def factorial(numero):\n",
    "    resultado= 1\n",
    "    for val in range (1, numero+1):\n",
    "              resultado *= val \n",
    "             \n",
    "    return resultado"
   ]
  },
  {
   "cell_type": "code",
   "execution_count": 24,
   "id": "768facd9-3876-493a-8801-142f2e288d21",
   "metadata": {},
   "outputs": [
    {
     "data": {
      "text/plain": [
       "6402373705728000"
      ]
     },
     "execution_count": 24,
     "metadata": {},
     "output_type": "execute_result"
    }
   ],
   "source": [
    "factorial(18)"
   ]
  },
  {
   "cell_type": "code",
   "execution_count": null,
   "id": "ed6c4d7c-c89d-491d-a203-2d5db727b927",
   "metadata": {},
   "outputs": [],
   "source": []
  },
  {
   "cell_type": "code",
   "execution_count": null,
   "id": "2901249f-db1d-4e4e-8001-3d50e3506ade",
   "metadata": {},
   "outputs": [],
   "source": []
  }
 ],
 "metadata": {
  "kernelspec": {
   "display_name": "Python 3 (ipykernel)",
   "language": "python",
   "name": "python3"
  },
  "language_info": {
   "codemirror_mode": {
    "name": "ipython",
    "version": 3
   },
   "file_extension": ".py",
   "mimetype": "text/x-python",
   "name": "python",
   "nbconvert_exporter": "python",
   "pygments_lexer": "ipython3",
   "version": "3.10.4"
  }
 },
 "nbformat": 4,
 "nbformat_minor": 5
}
