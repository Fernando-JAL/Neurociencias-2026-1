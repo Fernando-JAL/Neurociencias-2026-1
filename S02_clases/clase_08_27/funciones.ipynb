{
 "cells": [
  {
   "cell_type": "markdown",
   "id": "d77f1aa0-c53e-4f00-9b7c-d7d545a7a97e",
   "metadata": {},
   "source": [
    "# FUNCIONES\n",
    "\n",
    "son fragmentos de código que se pueden ejecutar múltiples veces. Pueden recibir y/o devolver información/datos/variables para comunicarse con el código/proceso principal"
   ]
  },
  {
   "cell_type": "code",
   "execution_count": 1,
   "id": "20816bb8-282a-4b89-aa43-350226c81a88",
   "metadata": {},
   "outputs": [
    {
     "name": "stdout",
     "output_type": "stream",
     "text": [
      "Hello world, Dennis Ritche\n"
     ]
    }
   ],
   "source": [
    "def saludar ():\n",
    "    print ('Hello world, Dennis Ritche')\n",
    "\n",
    "saludar()"
   ]
  },
  {
   "cell_type": "code",
   "execution_count": 2,
   "id": "cdff22fa-a077-4228-8cdf-bec71b84d4a2",
   "metadata": {},
   "outputs": [
    {
     "data": {
      "text/plain": [
       "7.0"
      ]
     },
     "execution_count": 2,
     "metadata": {},
     "output_type": "execute_result"
    }
   ],
   "source": [
    "lista = [3,5,7,9,11]\n",
    "\n",
    "sum(lista)/len(lista)"
   ]
  },
  {
   "cell_type": "code",
   "execution_count": null,
   "id": "45eeaa04-601d-48e0-86a3-e43008f9572c",
   "metadata": {},
   "outputs": [],
   "source": []
  }
 ],
 "metadata": {
  "kernelspec": {
   "display_name": "Python 3 (ipykernel)",
   "language": "python",
   "name": "python3"
  },
  "language_info": {
   "codemirror_mode": {
    "name": "ipython",
    "version": 3
   },
   "file_extension": ".py",
   "mimetype": "text/x-python",
   "name": "python",
   "nbconvert_exporter": "python",
   "pygments_lexer": "ipython3",
   "version": "3.10.4"
  }
 },
 "nbformat": 4,
 "nbformat_minor": 5
}
