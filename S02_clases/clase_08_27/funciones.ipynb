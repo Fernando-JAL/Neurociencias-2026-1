{
 "cells": [
  {
   "cell_type": "markdown",
   "id": "ee876735-07b1-43ee-8a39-96458b6cce24",
   "metadata": {},
   "source": [
    "#  Funciones\n"
   ]
  },
  {
   "cell_type": "code",
   "execution_count": 2,
   "id": "a31108a7-77a9-4e18-b36e-20bc550d7bbc",
   "metadata": {},
   "outputs": [
    {
     "name": "stdout",
     "output_type": "stream",
     "text": [
      "Hello world, Dennis Ritchie\n"
     ]
    }
   ],
   "source": [
    "def saludar():\n",
    "    print('Hello world, Dennis Ritchie')\n",
    "saludar()"
   ]
  },
  {
   "cell_type": "code",
   "execution_count": 3,
   "id": "8e28f169-fc4f-4164-83b6-d6b919b6ad69",
   "metadata": {},
   "outputs": [
    {
     "name": "stdout",
     "output_type": "stream",
     "text": [
      "Hello world, Dennis Ritchie\n",
      "Hello world, Dennis Ritchie\n",
      "Hello world, Dennis Ritchie\n"
     ]
    }
   ],
   "source": [
    "for _ in range(3):\n",
    "    saludar()"
   ]
  },
  {
   "cell_type": "code",
   "execution_count": 5,
   "id": "cbd2db6c-5bfd-4c6a-87b8-7b4164852f0c",
   "metadata": {},
   "outputs": [
    {
     "data": {
      "text/plain": [
       "7.0"
      ]
     },
     "execution_count": 5,
     "metadata": {},
     "output_type": "execute_result"
    }
   ],
   "source": [
    "lista=[3,5,7,9,11]\n",
    "prom=sum(lista)/len(lista)\n",
    "prom"
   ]
  },
  {
   "cell_type": "code",
   "execution_count": 9,
   "id": "36a8a0ba-9f6c-44f9-b9e5-7f5e3ce8316f",
   "metadata": {},
   "outputs": [],
   "source": [
    "# lo que esta entre parentesis es un PARAMETRO\n",
    "def promedio(numeros):\n",
    "    valor_promedio= sum(numeros)/len(numeros)\n",
    "    print(f'El promedio de los numeros es {valor_promedio}')\n",
    "    return valor_promedio"
   ]
  },
  {
   "cell_type": "code",
   "execution_count": 11,
   "id": "a29483fc-719d-4441-93d1-d75041db1188",
   "metadata": {},
   "outputs": [
    {
     "name": "stdout",
     "output_type": "stream",
     "text": [
      "El promedio de los numeros es 7.0\n"
     ]
    }
   ],
   "source": [
    "# Lo que esta entre parentesis se llama ARGUMENTO\n",
    "valor_f=promedio(lista)"
   ]
  },
  {
   "cell_type": "code",
   "execution_count": 12,
   "id": "9f78012c-9f5f-440b-850b-a92dd3bad9b6",
   "metadata": {},
   "outputs": [
    {
     "data": {
      "text/plain": [
       "7.0"
      ]
     },
     "execution_count": 12,
     "metadata": {},
     "output_type": "execute_result"
    }
   ],
   "source": [
    "valor_f"
   ]
  },
  {
   "cell_type": "code",
   "execution_count": 13,
   "id": "785548f5-e1b3-4fd2-ad52-849333bf59c1",
   "metadata": {},
   "outputs": [],
   "source": [
    "def minimo(val_a,val_b):\n",
    "    val_minimo=min(val_a,val_b)\n",
    "    return val_minimo"
   ]
  },
  {
   "cell_type": "code",
   "execution_count": 14,
   "id": "3ada2e7b-ef74-4da3-9e98-f091312f73fe",
   "metadata": {},
   "outputs": [
    {
     "data": {
      "text/plain": [
       "-50"
      ]
     },
     "execution_count": 14,
     "metadata": {},
     "output_type": "execute_result"
    }
   ],
   "source": [
    "minimo(-10,-50)"
   ]
  },
  {
   "cell_type": "markdown",
   "id": "88143d32-6778-48cf-8cff-c3d814a150ab",
   "metadata": {},
   "source": [
    "# Ejercicio\n",
    "Hacer una función para calcular el factorial de un número "
   ]
  },
  {
   "cell_type": "code",
   "execution_count": 35,
   "id": "755bd6bf-e384-402e-8dee-daaa65ffa1e1",
   "metadata": {},
   "outputs": [],
   "source": [
    "def factorial(numero):\n",
    "    resultado=1\n",
    "    for _ in range(1,numero+1):\n",
    "        resultado*= _\n",
    "    return resultado"
   ]
  },
  {
   "cell_type": "code",
   "execution_count": 36,
   "id": "8c70c4e7-62d1-42c2-99db-6b6e5580cf65",
   "metadata": {},
   "outputs": [
    {
     "data": {
      "text/plain": [
       "120"
      ]
     },
     "execution_count": 36,
     "metadata": {},
     "output_type": "execute_result"
    }
   ],
   "source": [
    "factorial(5)"
   ]
  },
  {
   "cell_type": "code",
   "execution_count": null,
   "id": "84c36858-ec34-4724-a9fd-f54e2d62e809",
   "metadata": {},
   "outputs": [],
   "source": []
  }
 ],
 "metadata": {
  "kernelspec": {
   "display_name": "Python 3 (ipykernel)",
   "language": "python",
   "name": "python3"
  },
  "language_info": {
   "codemirror_mode": {
    "name": "ipython",
    "version": 3
   },
   "file_extension": ".py",
   "mimetype": "text/x-python",
   "name": "python",
   "nbconvert_exporter": "python",
   "pygments_lexer": "ipython3",
   "version": "3.11.1"
  }
 },
 "nbformat": 4,
 "nbformat_minor": 5
}
