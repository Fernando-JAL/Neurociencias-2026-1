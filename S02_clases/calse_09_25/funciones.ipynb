{
 "cells": [
  {
   "cell_type": "code",
   "execution_count": 4,
   "id": "37a3afce-2c60-4514-8744-885f4043c194",
   "metadata": {},
   "outputs": [],
   "source": [
    "# función división de 2 numeros\n",
    "def division(dividendo,divisor):\n",
    "    return dividendo/divisor\n"
   ]
  },
  {
   "cell_type": "code",
   "execution_count": 5,
   "id": "d44b2cd1-15e8-4637-873c-a4e6de1b1644",
   "metadata": {},
   "outputs": [
    {
     "data": {
      "text/plain": [
       "2.0"
      ]
     },
     "execution_count": 5,
     "metadata": {},
     "output_type": "execute_result"
    }
   ],
   "source": [
    "# llamado de función por posición\n",
    "division(4,2)"
   ]
  },
  {
   "cell_type": "markdown",
   "id": "84b21a3d-fd68-4382-85fb-c26a58e87e31",
   "metadata": {},
   "source": [
    "#### Definir parametro por nombre\n"
   ]
  },
  {
   "cell_type": "code",
   "execution_count": 6,
   "id": "57460a58-9ad2-4aea-8f92-b9ee11caedfb",
   "metadata": {},
   "outputs": [
    {
     "data": {
      "text/plain": [
       "2.0"
      ]
     },
     "execution_count": 6,
     "metadata": {},
     "output_type": "execute_result"
    }
   ],
   "source": [
    "# llamado de función por nombre\n",
    "division(divisor=4, dividendo=8)"
   ]
  },
  {
   "cell_type": "code",
   "execution_count": 7,
   "id": "db66801e-8d4d-4ccb-8e0f-66f8e5aebcf4",
   "metadata": {},
   "outputs": [
    {
     "data": {
      "text/plain": [
       "2.0"
      ]
     },
     "execution_count": 7,
     "metadata": {},
     "output_type": "execute_result"
    }
   ],
   "source": [
    "division(dividendo=8,divisor=4)"
   ]
  },
  {
   "cell_type": "code",
   "execution_count": 8,
   "id": "af3bc07d-d157-4d3c-9b71-59129db2627b",
   "metadata": {},
   "outputs": [
    {
     "data": {
      "text/plain": [
       "(2.0, 12.0)"
      ]
     },
     "execution_count": 8,
     "metadata": {},
     "output_type": "execute_result"
    }
   ],
   "source": [
    "# Definir argumento por default, que se puede modificar o no caudno utlizas la función\n",
    "def division(dividendo,divisor,extra= 0):\n",
    "    return dividendo/divisor + extra\n",
    "\n",
    "\n",
    "\n",
    "division(8,4),division(8,4,10)"
   ]
  },
  {
   "cell_type": "markdown",
   "id": "fd05f8a0-8a5b-4da0-8782-d06f04f1c4ed",
   "metadata": {},
   "source": [
    "# Funciones recursivas\n",
    "Función que se manda a llamar a si misma en su propio código\n"
   ]
  },
  {
   "cell_type": "code",
   "execution_count": 10,
   "id": "17586254-7540-4c37-aa9f-19627034a91d",
   "metadata": {},
   "outputs": [
    {
     "name": "stdout",
     "output_type": "stream",
     "text": [
      "3\n",
      "2\n",
      "1\n",
      "booom!!\n",
      "fin de la función 0\n",
      "fin de la función 1\n",
      "fin de la función 2\n",
      "fin de la función 3\n"
     ]
    }
   ],
   "source": [
    "# Función que se manda a llamar a si misma en su propio código\n",
    "def cuenta_atras(n):\n",
    "    if n > 0:\n",
    "        print(n)\n",
    "        cuenta_atras(n-1)\n",
    "    else:\n",
    "        print(\"booom!!\")\n",
    "    print(\"fin de la función\",n)\n",
    "\n",
    "cuenta_atras(3)"
   ]
  },
  {
   "cell_type": "markdown",
   "id": "77e0a10e-06f6-445a-9969-0a0bb77eed67",
   "metadata": {},
   "source": [
    "# Función print\n",
    "        "
   ]
  },
  {
   "cell_type": "code",
   "execution_count": 13,
   "id": "1400d50e-a8fb-4085-b19d-f09eec3a544d",
   "metadata": {},
   "outputs": [
    {
     "name": "stdout",
     "output_type": "stream",
     "text": [
      "el valor de la variable es 46.2 8\n"
     ]
    }
   ],
   "source": [
    "variable, variable2= 46.2,8\n",
    "print('el valor de la variable es', variable, variable2)\n",
    "\n"
   ]
  },
  {
   "cell_type": "code",
   "execution_count": 16,
   "id": "623da955-c1d7-4dd3-8065-f8fda17229b0",
   "metadata": {},
   "outputs": [
    {
     "name": "stdout",
     "output_type": "stream",
     "text": [
      "el valor de la variable es 46.2, 8\n"
     ]
    }
   ],
   "source": [
    "print(f'el valor de la variable es {variable}, {variable2}')"
   ]
  },
  {
   "cell_type": "code",
   "execution_count": 19,
   "id": "78ac9c7e-f40c-49b8-90bc-689cfb37ebed",
   "metadata": {},
   "outputs": [
    {
     "name": "stdout",
     "output_type": "stream",
     "text": [
      "el valor de la variable es 46.2, 8\n",
      "el valor de la variable es 8, 46.2\n"
     ]
    }
   ],
   "source": [
    "# si no se le pone nad aen las llaves es la posicion defalt\n",
    "print('el valor de la variable es {}, {}'.format(variable,variable2))\n",
    "# se puede indicar posicíon, cambio de posición\n",
    "print('el valor de la variable es {1}, {0}'.format(variable,variable2))\n"
   ]
  },
  {
   "cell_type": "code",
   "execution_count": 22,
   "id": "775c0942-393c-4d6d-a81a-6ccbaa5172be",
   "metadata": {},
   "outputs": [],
   "source": [
    "import numpy"
   ]
  },
  {
   "cell_type": "code",
   "execution_count": 21,
   "id": "269f8838-fe19-45d9-a9b4-494fede35d22",
   "metadata": {},
   "outputs": [
    {
     "name": "stdout",
     "output_type": "stream",
     "text": [
      "Collecting numpy\n",
      "  Downloading numpy-2.3.2-cp311-cp311-win_amd64.whl (13.1 MB)\n",
      "     --------------------------------------- 13.1/13.1 MB 38.4 MB/s eta 0:00:00\n",
      "Collecting pandas\n",
      "  Downloading pandas-2.3.2-cp311-cp311-win_amd64.whl (11.3 MB)\n",
      "     --------------------------------------- 11.3/11.3 MB 50.1 MB/s eta 0:00:00\n",
      "Collecting matplotlib\n",
      "  Downloading matplotlib-3.10.6-cp311-cp311-win_amd64.whl (8.1 MB)\n",
      "     ---------------------------------------- 8.1/8.1 MB 51.6 MB/s eta 0:00:00\n",
      "Requirement already satisfied: python-dateutil>=2.8.2 in c:\\users\\v304-16\\appdata\\local\\programs\\python\\python311\\lib\\site-packages (from pandas) (2.9.0.post0)\n",
      "Collecting pytz>=2020.1\n",
      "  Downloading pytz-2025.2-py2.py3-none-any.whl (509 kB)\n",
      "     ------------------------------------- 509.2/509.2 kB 31.2 MB/s eta 0:00:00\n",
      "Collecting tzdata>=2022.7\n",
      "  Downloading tzdata-2025.2-py2.py3-none-any.whl (347 kB)\n",
      "     ------------------------------------- 347.8/347.8 kB 10.9 MB/s eta 0:00:00\n",
      "Collecting contourpy>=1.0.1\n",
      "  Downloading contourpy-1.3.3-cp311-cp311-win_amd64.whl (225 kB)\n",
      "     ---------------------------------------- 225.2/225.2 kB ? eta 0:00:00\n",
      "Collecting cycler>=0.10\n",
      "  Downloading cycler-0.12.1-py3-none-any.whl (8.3 kB)\n",
      "Collecting fonttools>=4.22.0\n",
      "  Downloading fonttools-4.59.2-cp311-cp311-win_amd64.whl (2.3 MB)\n",
      "     ---------------------------------------- 2.3/2.3 MB 48.0 MB/s eta 0:00:00\n",
      "Collecting kiwisolver>=1.3.1\n",
      "  Downloading kiwisolver-1.4.9-cp311-cp311-win_amd64.whl (73 kB)\n",
      "     ---------------------------------------- 73.8/73.8 kB 2.1 MB/s eta 0:00:00\n",
      "Requirement already satisfied: packaging>=20.0 in c:\\users\\v304-16\\appdata\\local\\programs\\python\\python311\\lib\\site-packages (from matplotlib) (25.0)\n",
      "Collecting pillow>=8\n",
      "  Downloading pillow-11.3.0-cp311-cp311-win_amd64.whl (7.0 MB)\n",
      "     ---------------------------------------- 7.0/7.0 MB 55.8 MB/s eta 0:00:00\n",
      "Collecting pyparsing>=2.3.1\n",
      "  Downloading pyparsing-3.2.3-py3-none-any.whl (111 kB)\n",
      "     -------------------------------------- 111.1/111.1 kB 6.3 MB/s eta 0:00:00\n",
      "Requirement already satisfied: six>=1.5 in c:\\users\\v304-16\\appdata\\local\\programs\\python\\python311\\lib\\site-packages (from python-dateutil>=2.8.2->pandas) (1.17.0)\n",
      "Installing collected packages: pytz, tzdata, pyparsing, pillow, numpy, kiwisolver, fonttools, cycler, pandas, contourpy, matplotlib\n",
      "Successfully installed contourpy-1.3.3 cycler-0.12.1 fonttools-4.59.2 kiwisolver-1.4.9 matplotlib-3.10.6 numpy-2.3.2 pandas-2.3.2 pillow-11.3.0 pyparsing-3.2.3 pytz-2025.2 tzdata-2025.2\n"
     ]
    },
    {
     "name": "stderr",
     "output_type": "stream",
     "text": [
      "\n",
      "[notice] A new release of pip available: 22.3.1 -> 25.2\n",
      "[notice] To update, run: python.exe -m pip install --upgrade pip\n"
     ]
    }
   ],
   "source": [
    "!pip install numpy pandas matplotlib"
   ]
  },
  {
   "cell_type": "code",
   "execution_count": null,
   "id": "3303981c-cd5c-4ff7-afbd-8e86eed6e80d",
   "metadata": {},
   "outputs": [],
   "source": []
  }
 ],
 "metadata": {
  "kernelspec": {
   "display_name": "Python 3 (ipykernel)",
   "language": "python",
   "name": "python3"
  },
  "language_info": {
   "codemirror_mode": {
    "name": "ipython",
    "version": 3
   },
   "file_extension": ".py",
   "mimetype": "text/x-python",
   "name": "python",
   "nbconvert_exporter": "python",
   "pygments_lexer": "ipython3",
   "version": "3.11.1"
  }
 },
 "nbformat": 4,
 "nbformat_minor": 5
}
