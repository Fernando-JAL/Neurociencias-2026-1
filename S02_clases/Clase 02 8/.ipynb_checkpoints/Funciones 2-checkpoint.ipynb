{
 "cells": [
  {
   "cell_type": "code",
   "execution_count": 2,
   "id": "4bd26d6d-d6d9-453a-ac77-fbb8eb1bb903",
   "metadata": {},
   "outputs": [
    {
     "data": {
      "text/plain": [
       "4.0"
      ]
     },
     "execution_count": 2,
     "metadata": {},
     "output_type": "execute_result"
    }
   ],
   "source": [
    "def división(dividendo, divisor):\n",
    "    return dividendo / divisor\n",
    "\n",
    "división (8, 2)    "
   ]
  },
  {
   "cell_type": "code",
   "execution_count": 4,
   "id": "169c1d2e-d555-4cc5-943e-589db45c3da1",
   "metadata": {},
   "outputs": [
    {
     "data": {
      "text/plain": [
       "4.0"
      ]
     },
     "execution_count": 4,
     "metadata": {},
     "output_type": "execute_result"
    }
   ],
   "source": [
    "división(divisor=2, dividendo=8)"
   ]
  },
  {
   "cell_type": "code",
   "execution_count": 9,
   "id": "2352c171-514a-4f0c-934f-8cf10776dc8d",
   "metadata": {},
   "outputs": [
    {
     "data": {
      "text/plain": [
       "9.0"
      ]
     },
     "execution_count": 9,
     "metadata": {},
     "output_type": "execute_result"
    }
   ],
   "source": [
    "def división2(dividendo, divisor, extra = 0):\n",
    "    return dividendo / divisor + extra\n",
    "\n",
    "# Llamada de función por posición\n",
    "división2(8, 2, 5)   "
   ]
  },
  {
   "cell_type": "markdown",
   "id": "2408e63d-98c1-427f-bce9-78e0622327e7",
   "metadata": {},
   "source": [
    "# Funciones Recursivas"
   ]
  },
  {
   "cell_type": "code",
   "execution_count": 13,
   "id": "a4b45aeb-5873-4013-99f5-c850a09529b4",
   "metadata": {},
   "outputs": [
    {
     "name": "stdout",
     "output_type": "stream",
     "text": [
      "5\n",
      "4\n",
      "3\n",
      "2\n",
      "1\n",
      "boom!!!\n",
      "fin de la función 0\n",
      "fin de la función 1\n",
      "fin de la función 2\n",
      "fin de la función 3\n",
      "fin de la función 4\n",
      "fin de la función 5\n"
     ]
    }
   ],
   "source": [
    "def cuenta_atras(n):\n",
    "    if n > 0:\n",
    "        print(n)\n",
    "        cuenta_atras(n-1)\n",
    "    else:\n",
    "        print(\"boom!!!\")\n",
    "    print('fin de la función', n)\n",
    "\n",
    "cuenta_atras(5)"
   ]
  },
  {
   "cell_type": "code",
   "execution_count": 14,
   "id": "7b9dba25-976e-40b9-ab3c-bc0a44a2f8d4",
   "metadata": {},
   "outputs": [],
   "source": [
    "# Hacer las fórmulas con recursuiva"
   ]
  },
  {
   "cell_type": "code",
   "execution_count": 15,
   "id": "e84a387f-5991-4feb-8834-49a693acc223",
   "metadata": {},
   "outputs": [],
   "source": [
    "# n! =nx(n-1)!"
   ]
  },
  {
   "cell_type": "markdown",
   "id": "17c1d20f-12b2-4103-9ffb-abbe6ab0663b",
   "metadata": {},
   "source": [
    "# Función Print"
   ]
  },
  {
   "cell_type": "code",
   "execution_count": 23,
   "id": "2c96fe3a-f279-441c-bb56-7480fea98bf0",
   "metadata": {},
   "outputs": [
    {
     "name": "stdout",
     "output_type": "stream",
     "text": [
      "el valor de la variable es 46.2 8\n"
     ]
    }
   ],
   "source": [
    "variable, variable2= 46.2, 8\n",
    "print('el valor de la variable es', variable, variable2)"
   ]
  },
  {
   "cell_type": "code",
   "execution_count": 24,
   "id": "27727102-0d12-4c75-bc2d-25564f7f8946",
   "metadata": {},
   "outputs": [
    {
     "name": "stdout",
     "output_type": "stream",
     "text": [
      "el valor de la variable es 46.2, 8\n"
     ]
    }
   ],
   "source": [
    "print(f\"el valor de la variable es {variable}, {variable2}\")"
   ]
  },
  {
   "cell_type": "code",
   "execution_count": 25,
   "id": "83322a8d-cfc1-4f5d-9e6b-b03805053e88",
   "metadata": {},
   "outputs": [
    {
     "name": "stdout",
     "output_type": "stream",
     "text": [
      "el valor de la variable 46.2, 8\n"
     ]
    }
   ],
   "source": [
    "print('el valor de la variable {}, {}'.format(variable, variable2))"
   ]
  },
  {
   "cell_type": "code",
   "execution_count": 26,
   "id": "a19b700a-6d19-4631-9886-5e1fe3467e09",
   "metadata": {},
   "outputs": [
    {
     "name": "stdout",
     "output_type": "stream",
     "text": [
      "el valor de la variable 8, 46.2\n"
     ]
    }
   ],
   "source": [
    "print('el valor de la variable {1}, {0}'.format(variable, variable2))"
   ]
  },
  {
   "cell_type": "code",
   "execution_count": 35,
   "id": "602d6e67-f0eb-41cf-8291-aacdcc91d353",
   "metadata": {},
   "outputs": [],
   "source": [
    "import numpy"
   ]
  },
  {
   "cell_type": "code",
   "execution_count": null,
   "id": "9b4a4ba5-6dc7-4c33-8d6f-8b2fc26ed8f3",
   "metadata": {},
   "outputs": [],
   "source": []
  },
  {
   "cell_type": "code",
   "execution_count": null,
   "id": "3af6c50b-356b-40ec-9116-c7070c244cc6",
   "metadata": {},
   "outputs": [],
   "source": []
  }
 ],
 "metadata": {
  "kernelspec": {
   "display_name": "Python 3 (ipykernel)",
   "language": "python",
   "name": "python3"
  },
  "language_info": {
   "codemirror_mode": {
    "name": "ipython",
    "version": 3
   },
   "file_extension": ".py",
   "mimetype": "text/x-python",
   "name": "python",
   "nbconvert_exporter": "python",
   "pygments_lexer": "ipython3",
   "version": "3.10.4"
  }
 },
 "nbformat": 4,
 "nbformat_minor": 5
}
