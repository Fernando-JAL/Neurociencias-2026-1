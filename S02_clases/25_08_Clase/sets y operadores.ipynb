{
 "cells": [
  {
   "cell_type": "markdown",
   "id": "2c7a53f8-572d-45bf-a298-1be167b97ac0",
   "metadata": {},
   "source": [
    "# Conversión de tipos de datos "
   ]
  },
  {
   "cell_type": "code",
   "execution_count": 1,
   "id": "0660de21-b294-45f4-b49e-0b752b6868e3",
   "metadata": {},
   "outputs": [
    {
     "data": {
      "text/plain": [
       "(-82, 631.0, 1j)"
      ]
     },
     "execution_count": 1,
     "metadata": {},
     "output_type": "execute_result"
    }
   ],
   "source": [
    "entero, flotante, complejo = -82, 631., complex(0, 1)\n",
    "entero, flotante, complejo"
   ]
  },
  {
   "cell_type": "code",
   "execution_count": 9,
   "id": "efbe70c9-474d-42f1-9fa8-358c89fe732c",
   "metadata": {},
   "outputs": [
    {
     "data": {
      "text/plain": [
       "'631.0'"
      ]
     },
     "execution_count": 9,
     "metadata": {},
     "output_type": "execute_result"
    }
   ],
   "source": [
    "str(flotante)"
   ]
  },
  {
   "cell_type": "code",
   "execution_count": 10,
   "id": "2933689f-e08e-4486-8144-bdbcc3014578",
   "metadata": {},
   "outputs": [
    {
     "data": {
      "text/plain": [
       "'46.23'"
      ]
     },
     "execution_count": 10,
     "metadata": {},
     "output_type": "execute_result"
    }
   ],
   "source": [
    "cadena = \"46.23\"\n",
    "cadena"
   ]
  },
  {
   "cell_type": "code",
   "execution_count": 12,
   "id": "bb143ce7-30b6-41fb-9448-e86897afa127",
   "metadata": {},
   "outputs": [
    {
     "data": {
      "text/plain": [
       "float"
      ]
     },
     "execution_count": 12,
     "metadata": {},
     "output_type": "execute_result"
    }
   ],
   "source": [
    "type(float(cadena))"
   ]
  },
  {
   "cell_type": "code",
   "execution_count": 14,
   "id": "c3c4c466-ba0f-4c5b-bce3-db13a6fe5602",
   "metadata": {},
   "outputs": [
    {
     "data": {
      "text/plain": [
       "('4', '6', '.', '2', '3')"
      ]
     },
     "execution_count": 14,
     "metadata": {},
     "output_type": "execute_result"
    }
   ],
   "source": [
    "tuple(cadena)"
   ]
  },
  {
   "cell_type": "code",
   "execution_count": 16,
   "id": "f0e0edf5-d8c3-4fba-aa14-374d4cfc1e97",
   "metadata": {},
   "outputs": [
    {
     "data": {
      "text/plain": [
       "-78"
      ]
     },
     "execution_count": 16,
     "metadata": {},
     "output_type": "execute_result"
    }
   ],
   "source": [
    "int(\"-78\")"
   ]
  },
  {
   "cell_type": "markdown",
   "id": "44ffa6e1-d2a8-4185-a696-053f715d7ec1",
   "metadata": {},
   "source": [
    "## tipos de dato : Boolean\n",
    "- verdadero o falso"
   ]
  },
  {
   "cell_type": "code",
   "execution_count": 18,
   "id": "584aabfe-86e1-4ffe-9bf0-949b7345c94a",
   "metadata": {},
   "outputs": [
    {
     "data": {
      "text/plain": [
       "(True, False)"
      ]
     },
     "execution_count": 18,
     "metadata": {},
     "output_type": "execute_result"
    }
   ],
   "source": [
    "value1, value2 = True, False\n",
    "value1, value2"
   ]
  },
  {
   "cell_type": "code",
   "execution_count": 19,
   "id": "e392e76a-41c7-424d-93bb-8b8d3f0d2a6b",
   "metadata": {},
   "outputs": [
    {
     "data": {
      "text/plain": [
       "bool"
      ]
     },
     "execution_count": 19,
     "metadata": {},
     "output_type": "execute_result"
    }
   ],
   "source": [
    "type(value1)"
   ]
  },
  {
   "cell_type": "code",
   "execution_count": 20,
   "id": "17034421-8977-44b0-aa92-3554cdadf040",
   "metadata": {},
   "outputs": [
    {
     "data": {
      "text/plain": [
       "False"
      ]
     },
     "execution_count": 20,
     "metadata": {},
     "output_type": "execute_result"
    }
   ],
   "source": [
    "bool(0)"
   ]
  },
  {
   "cell_type": "code",
   "execution_count": 21,
   "id": "485c1281-6052-4ce7-a33e-4249483aec73",
   "metadata": {},
   "outputs": [
    {
     "data": {
      "text/plain": [
       "True"
      ]
     },
     "execution_count": 21,
     "metadata": {},
     "output_type": "execute_result"
    }
   ],
   "source": [
    "bool(1)"
   ]
  },
  {
   "cell_type": "code",
   "execution_count": 22,
   "id": "73732b47-a905-4eb9-91b2-8c9fe74ab76f",
   "metadata": {},
   "outputs": [
    {
     "data": {
      "text/plain": [
       "True"
      ]
     },
     "execution_count": 22,
     "metadata": {},
     "output_type": "execute_result"
    }
   ],
   "source": [
    "bool(\"Hola\")"
   ]
  },
  {
   "cell_type": "code",
   "execution_count": 23,
   "id": "0d0b9928-8bcc-48ce-9f96-adc42e228b15",
   "metadata": {},
   "outputs": [
    {
     "data": {
      "text/plain": [
       "True"
      ]
     },
     "execution_count": 23,
     "metadata": {},
     "output_type": "execute_result"
    }
   ],
   "source": [
    "bool(2)"
   ]
  },
  {
   "cell_type": "markdown",
   "id": "150f969c-48ff-4b08-9ca0-263929b401e1",
   "metadata": {},
   "source": [
    "Los numéricos únicamente el 0 es False, el resto es True"
   ]
  },
  {
   "cell_type": "code",
   "execution_count": 28,
   "id": "8483d2d3-26a9-4257-a0a7-6efbff741fb3",
   "metadata": {},
   "outputs": [
    {
     "data": {
      "text/plain": [
       "(False, True)"
      ]
     },
     "execution_count": 28,
     "metadata": {},
     "output_type": "execute_result"
    }
   ],
   "source": [
    "bool(\"\"), bool(\"aiuda\")"
   ]
  },
  {
   "cell_type": "markdown",
   "id": "31416dad-e041-4b3b-bf48-5dda02d4bd88",
   "metadata": {},
   "source": [
    "Cadenas vacías son falsas, el resto son true"
   ]
  },
  {
   "cell_type": "code",
   "execution_count": 30,
   "id": "796b6e7c-0851-4b8c-a82e-5b87fb66b5d7",
   "metadata": {},
   "outputs": [
    {
     "data": {
      "text/plain": [
       "(False, True)"
      ]
     },
     "execution_count": 30,
     "metadata": {},
     "output_type": "execute_result"
    }
   ],
   "source": [
    "bool([]), bool([\"f\", 9])"
   ]
  },
  {
   "cell_type": "markdown",
   "id": "63cfa5cb-f626-4035-80b6-be6c20ef0652",
   "metadata": {},
   "source": [
    "lista vacía es falso, el resto es true"
   ]
  },
  {
   "cell_type": "code",
   "execution_count": 32,
   "id": "3180b75f-c35c-49b9-995f-5360988f66e5",
   "metadata": {},
   "outputs": [
    {
     "data": {
      "text/plain": [
       "(False, True)"
      ]
     },
     "execution_count": 32,
     "metadata": {},
     "output_type": "execute_result"
    }
   ],
   "source": [
    "# los mismo con las tuplas\n",
    "bool(()), bool((5, ))"
   ]
  },
  {
   "cell_type": "code",
   "execution_count": 33,
   "id": "cd2d9aee-3d64-428a-90b8-f0e09b99a293",
   "metadata": {},
   "outputs": [
    {
     "data": {
      "text/plain": [
       "(False, True)"
      ]
     },
     "execution_count": 33,
     "metadata": {},
     "output_type": "execute_result"
    }
   ],
   "source": [
    "# también con los diccionarios\n",
    "bool({}), bool({\"key\":\"value\"})"
   ]
  },
  {
   "cell_type": "markdown",
   "id": "b40e2e61-a919-4d9d-9ca1-772df301dc2a",
   "metadata": {},
   "source": [
    "Si está vacío es falso, cuando tiene algo es true"
   ]
  },
  {
   "cell_type": "markdown",
   "id": "86abb3dd-2da6-46eb-a06c-f166f0b73bbf",
   "metadata": {},
   "source": [
    "## Conjuntos - Sets\n",
    "- Colección de elementos"
   ]
  },
  {
   "cell_type": "code",
   "execution_count": 35,
   "id": "8d405a56-4c35-4945-9d3d-2ef5291d59ab",
   "metadata": {},
   "outputs": [
    {
     "data": {
      "text/plain": [
       "set"
      ]
     },
     "execution_count": 35,
     "metadata": {},
     "output_type": "execute_result"
    }
   ],
   "source": [
    "# los definimos con llaves\n",
    "type({4, \"cosa\"})"
   ]
  },
  {
   "cell_type": "code",
   "execution_count": 36,
   "id": "f7e06e44-f3e1-498f-901f-3c1db89c9566",
   "metadata": {},
   "outputs": [],
   "source": [
    "conjunto = {4, \"cosa\", 1, 2, 3, 4, \"a\", \"b\", \"c\", \"a\"}"
   ]
  },
  {
   "cell_type": "code",
   "execution_count": 37,
   "id": "69b2293b-c9cb-4e73-9f0f-5943be5c25fd",
   "metadata": {},
   "outputs": [
    {
     "data": {
      "text/plain": [
       "8"
      ]
     },
     "execution_count": 37,
     "metadata": {},
     "output_type": "execute_result"
    }
   ],
   "source": [
    "len(conjunto)"
   ]
  },
  {
   "cell_type": "code",
   "execution_count": 38,
   "id": "aa663bf5-4c1a-47d2-8f2d-f871300844f8",
   "metadata": {},
   "outputs": [
    {
     "data": {
      "text/plain": [
       "{1, 2, 3, 4, 'a', 'b', 'c', 'cosa'}"
      ]
     },
     "execution_count": 38,
     "metadata": {},
     "output_type": "execute_result"
    }
   ],
   "source": [
    "conjunto"
   ]
  },
  {
   "cell_type": "markdown",
   "id": "9646ee36-5ea3-4bb7-b60c-840c35abc7ed",
   "metadata": {},
   "source": [
    "En los conjuntos no se cuentas los repetidos, principal diferencia con las listas.\n",
    "\n",
    "Además las ordena "
   ]
  },
  {
   "cell_type": "markdown",
   "id": "6af11ec5-3d9e-4717-8d2f-ab413fefcb04",
   "metadata": {},
   "source": [
    "# Operadores de asignación\n",
    "- donde se asigna algo\n",
    "\n",
    "=, +=, -=, *=, /=, //=, %=, **="
   ]
  },
  {
   "cell_type": "code",
   "execution_count": 40,
   "id": "afa8c9e7-c582-403b-bc6d-be9bd125fc9c",
   "metadata": {},
   "outputs": [
    {
     "data": {
      "text/plain": [
       "32"
      ]
     },
     "execution_count": 40,
     "metadata": {},
     "output_type": "execute_result"
    }
   ],
   "source": [
    "a = 10\n",
    "a = a + 22\n",
    "a"
   ]
  },
  {
   "cell_type": "code",
   "execution_count": 42,
   "id": "beb4d1d0-ab80-4cb8-9453-2b63b0d07b1d",
   "metadata": {},
   "outputs": [
    {
     "data": {
      "text/plain": [
       "32"
      ]
     },
     "execution_count": 42,
     "metadata": {},
     "output_type": "execute_result"
    }
   ],
   "source": [
    "# otra forma de expresar lo anterior\n",
    "a = 10\n",
    "a += 22\n",
    "a"
   ]
  },
  {
   "cell_type": "code",
   "execution_count": 45,
   "id": "a120e559-7453-481b-8656-21236761e43f",
   "metadata": {},
   "outputs": [
    {
     "data": {
      "text/plain": [
       "'hace más frío que antes'"
      ]
     },
     "execution_count": 45,
     "metadata": {},
     "output_type": "execute_result"
    }
   ],
   "source": [
    "cadena = \"hace más frío\"\n",
    "cadena += \" que antes\"\n",
    "cadena"
   ]
  },
  {
   "cell_type": "code",
   "execution_count": 47,
   "id": "bbe67956-7643-4301-b218-f34991090150",
   "metadata": {},
   "outputs": [
    {
     "data": {
      "text/plain": [
       "15"
      ]
     },
     "execution_count": 47,
     "metadata": {},
     "output_type": "execute_result"
    }
   ],
   "source": [
    "a = 25\n",
    "a -= 10\n",
    "a"
   ]
  },
  {
   "cell_type": "code",
   "execution_count": 48,
   "id": "28fd857a-fa1d-46d9-8ca5-4ecaa273ccb6",
   "metadata": {},
   "outputs": [
    {
     "data": {
      "text/plain": [
       "35"
      ]
     },
     "execution_count": 48,
     "metadata": {},
     "output_type": "execute_result"
    }
   ],
   "source": [
    "a = 7\n",
    "a *= 5\n",
    "a"
   ]
  },
  {
   "cell_type": "code",
   "execution_count": 49,
   "id": "ce69fe9e-ba14-4df9-83da-ec8735e6bdb7",
   "metadata": {},
   "outputs": [
    {
     "data": {
      "text/plain": [
       "12.0"
      ]
     },
     "execution_count": 49,
     "metadata": {},
     "output_type": "execute_result"
    }
   ],
   "source": [
    "a = 144 # 144 = 12*12\n",
    "a /= 12\n",
    "a"
   ]
  },
  {
   "cell_type": "code",
   "execution_count": 50,
   "id": "446bbb94-b394-477d-abbf-e151652d9738",
   "metadata": {},
   "outputs": [
    {
     "data": {
      "text/plain": [
       "32"
      ]
     },
     "execution_count": 50,
     "metadata": {},
     "output_type": "execute_result"
    }
   ],
   "source": [
    "a = 2\n",
    "a **= 5\n",
    "a"
   ]
  },
  {
   "cell_type": "code",
   "execution_count": 53,
   "id": "7daf769f-3d5b-4006-b71a-ef20cf111705",
   "metadata": {},
   "outputs": [
    {
     "data": {
      "text/plain": [
       "[3,\n",
       " 6,\n",
       " 8,\n",
       " 'azul como el mar azul',\n",
       " 'l',\n",
       " 'a',\n",
       " 's',\n",
       " ' ',\n",
       " 'd',\n",
       " 'o',\n",
       " 'c',\n",
       " 'e',\n",
       " ' ',\n",
       " 'c',\n",
       " 'a',\n",
       " 's',\n",
       " 'a',\n",
       " 's']"
      ]
     },
     "execution_count": 53,
     "metadata": {},
     "output_type": "execute_result"
    }
   ],
   "source": [
    "a = [3, 6, 8, \"azul como el mar azul\"]\n",
    "a += list(\"las doce casas\")\n",
    "a"
   ]
  },
  {
   "cell_type": "markdown",
   "id": "1c7c8760-817d-4d02-be15-166bd4bef766",
   "metadata": {},
   "source": [
    "# Operadores relacionales\n",
    "- relacionar cosas a través de los operadores\n",
    "\n",
    "<, >, ==, !="
   ]
  },
  {
   "cell_type": "code",
   "execution_count": 60,
   "id": "e5f26b43-cf96-4134-9292-2a497358d8fb",
   "metadata": {},
   "outputs": [
    {
     "data": {
      "text/plain": [
       "(False, True, False, True)"
      ]
     },
     "execution_count": 60,
     "metadata": {},
     "output_type": "execute_result"
    }
   ],
   "source": [
    "a, b = 5, 18\n",
    "a > b, a < b, a == b, a != b     # != diferente de"
   ]
  },
  {
   "cell_type": "code",
   "execution_count": 63,
   "id": "71a8f027-d7fc-43be-a9a8-13b701921088",
   "metadata": {},
   "outputs": [
    {
     "data": {
      "text/plain": [
       "False"
      ]
     },
     "execution_count": 63,
     "metadata": {},
     "output_type": "execute_result"
    }
   ],
   "source": [
    "a, b, c = -45.2 , 22, 100\n",
    "\n",
    "(((a - b) < 567) != 0) == c*0"
   ]
  },
  {
   "cell_type": "code",
   "execution_count": 64,
   "id": "214e1507-d123-4cfd-b41f-8c5149eb0fda",
   "metadata": {},
   "outputs": [
    {
     "data": {
      "text/plain": [
       "(True, True, True)"
      ]
     },
     "execution_count": 64,
     "metadata": {},
     "output_type": "execute_result"
    }
   ],
   "source": [
    "True != 0, True == 1, False == 0"
   ]
  },
  {
   "cell_type": "code",
   "execution_count": 65,
   "id": "a14c5f71-51c9-404d-863e-11526b39f1dd",
   "metadata": {},
   "outputs": [
    {
     "data": {
      "text/plain": [
       "True"
      ]
     },
     "execution_count": 65,
     "metadata": {},
     "output_type": "execute_result"
    }
   ],
   "source": [
    "False < True"
   ]
  },
  {
   "cell_type": "code",
   "execution_count": 66,
   "id": "c304b3d5-70f5-4e3f-84f8-d3e6ac35ec8b",
   "metadata": {},
   "outputs": [
    {
     "data": {
      "text/plain": [
       "True"
      ]
     },
     "execution_count": 66,
     "metadata": {},
     "output_type": "execute_result"
    }
   ],
   "source": [
    "False + 1 <= True"
   ]
  },
  {
   "cell_type": "code",
   "execution_count": 67,
   "id": "40f47bf3-87a9-4433-b5be-6394426b581a",
   "metadata": {},
   "outputs": [
    {
     "data": {
      "text/plain": [
       "True"
      ]
     },
     "execution_count": 67,
     "metadata": {},
     "output_type": "execute_result"
    }
   ],
   "source": [
    "5 < 10 < 58"
   ]
  },
  {
   "cell_type": "code",
   "execution_count": 68,
   "id": "a067c445-4421-4512-a556-03968255f0cb",
   "metadata": {},
   "outputs": [
    {
     "data": {
      "text/plain": [
       "False"
      ]
     },
     "execution_count": 68,
     "metadata": {},
     "output_type": "execute_result"
    }
   ],
   "source": [
    "5 < 10 < 3"
   ]
  },
  {
   "cell_type": "markdown",
   "id": "5c5a8c59-eac7-4c38-a4fe-ea94451072db",
   "metadata": {},
   "source": [
    "# Operadores lógicos \n",
    "\n",
    "or, and, not"
   ]
  },
  {
   "cell_type": "code",
   "execution_count": 72,
   "id": "5fd9bd6e-c2dc-4f54-884b-3d228f81bc92",
   "metadata": {},
   "outputs": [
    {
     "data": {
      "text/plain": [
       "(True, False, False, False)"
      ]
     },
     "execution_count": 72,
     "metadata": {},
     "output_type": "execute_result"
    }
   ],
   "source": [
    "# tablas de verdad del and --> ambos tienen que ser verdad\n",
    "True and True, True and False, False and True, False and False "
   ]
  },
  {
   "cell_type": "code",
   "execution_count": 73,
   "id": "9dbfa17b-9f34-46e5-a033-36a8350b0d24",
   "metadata": {},
   "outputs": [
    {
     "data": {
      "text/plain": [
       "(True, True, True, False)"
      ]
     },
     "execution_count": 73,
     "metadata": {},
     "output_type": "execute_result"
    }
   ],
   "source": [
    "# tabla de verdad del or --> solo uno tiene que ser verdad\n",
    "True or True, True or False, False or True, False or False "
   ]
  },
  {
   "cell_type": "code",
   "execution_count": 74,
   "id": "d0234a54-d500-4fe2-bf32-5e2625b6e3cf",
   "metadata": {},
   "outputs": [
    {
     "data": {
      "text/plain": [
       "(False, True)"
      ]
     },
     "execution_count": 74,
     "metadata": {},
     "output_type": "execute_result"
    }
   ],
   "source": [
    "# tabla de verdad del not \n",
    "not True, not False"
   ]
  },
  {
   "cell_type": "code",
   "execution_count": 75,
   "id": "370a6684-5b14-455b-959c-b384a5774395",
   "metadata": {},
   "outputs": [
    {
     "data": {
      "text/plain": [
       "True"
      ]
     },
     "execution_count": 75,
     "metadata": {},
     "output_type": "execute_result"
    }
   ],
   "source": [
    "# 3 < 5 < 10\n",
    "3 < 5 and 5 < 10"
   ]
  },
  {
   "cell_type": "code",
   "execution_count": 76,
   "id": "2f21f3b1-ea68-4f68-adae-d23a8b341268",
   "metadata": {},
   "outputs": [
    {
     "data": {
      "text/plain": [
       "False"
      ]
     },
     "execution_count": 76,
     "metadata": {},
     "output_type": "execute_result"
    }
   ],
   "source": [
    "# 3 < 8 < 5\n",
    "3 < 8 and 8 < 5"
   ]
  },
  {
   "cell_type": "code",
   "execution_count": 79,
   "id": "1f63ff37-e465-4e32-82f7-b537e52afcda",
   "metadata": {},
   "outputs": [
    {
     "data": {
      "text/plain": [
       "False"
      ]
     },
     "execution_count": 79,
     "metadata": {},
     "output_type": "execute_result"
    }
   ],
   "source": [
    "c = \"hola mundo\"\n",
    "len(c) >= 10 and c[0] == \"H\""
   ]
  },
  {
   "cell_type": "code",
   "execution_count": null,
   "id": "116af423-f432-4ff5-b099-943eca52a910",
   "metadata": {},
   "outputs": [],
   "source": []
  },
  {
   "cell_type": "code",
   "execution_count": null,
   "id": "1a82f8c6-62d7-4762-bea6-390fe390a66f",
   "metadata": {},
   "outputs": [],
   "source": []
  },
  {
   "cell_type": "code",
   "execution_count": null,
   "id": "4ccb7cef-d489-4746-9374-4c97305ea4fa",
   "metadata": {},
   "outputs": [],
   "source": []
  },
  {
   "cell_type": "code",
   "execution_count": null,
   "id": "78d27586-8bf6-459e-91b3-4b62b8709825",
   "metadata": {},
   "outputs": [],
   "source": []
  },
  {
   "cell_type": "code",
   "execution_count": null,
   "id": "2e59ddf2-3670-4d1a-a32d-f405394879f2",
   "metadata": {},
   "outputs": [],
   "source": []
  },
  {
   "cell_type": "code",
   "execution_count": null,
   "id": "23e938ca-7b24-4f92-8437-30a9d069daea",
   "metadata": {},
   "outputs": [],
   "source": []
  }
 ],
 "metadata": {
  "kernelspec": {
   "display_name": "Python 3 (ipykernel)",
   "language": "python",
   "name": "python3"
  },
  "language_info": {
   "codemirror_mode": {
    "name": "ipython",
    "version": 3
   },
   "file_extension": ".py",
   "mimetype": "text/x-python",
   "name": "python",
   "nbconvert_exporter": "python",
   "pygments_lexer": "ipython3",
   "version": "3.13.6"
  }
 },
 "nbformat": 4,
 "nbformat_minor": 5
}
