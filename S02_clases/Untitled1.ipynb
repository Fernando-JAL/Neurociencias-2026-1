{
 "cells": [
  {
<<<<<<< HEAD
   "cell_type": "markdown",
   "id": "4ca7de48-f914-42c9-be08-9f1bfe5cb981",
   "metadata": {},
   "source": []
  },
  {
   "cell_type": "code",
   "execution_count": 2,
   "id": "907b265f-ac84-4d2c-9070-6dea85984ef5",
   "metadata": {},
   "outputs": [
    {
     "data": {
      "text/plain": [
       "25"
      ]
     },
     "execution_count": 2,
     "metadata": {},
     "output_type": "execute_result"
    }
   ],
   "source": [
    "#funcio es lambda\n",
    "def función (x):\n",
    "    return x**2\n",
    "\n",
    "función(5) ##() los parentesi esepcidficanc que el tipo de datos que  va a regresar la función esu n tupla"
   ]
  },
  {
   "cell_type": "code",
   "execution_count": 8,
   "id": "52170780-b8e5-45cb-8f7d-3aafd2e8bde0",
   "metadata": {},
   "outputs": [
    {
     "data": {
      "text/plain": [
       "25"
      ]
     },
     "execution_count": 8,
     "metadata": {},
     "output_type": "execute_result"
    }
   ],
   "source": [
    "## la función lambda permite crear funciones sin usar def\n",
    "f=lambda x,y: x**y ## sin returno, sin indetacion, sin nombre pero solo con funciones pequeñas y compactas\n",
    "f(5,2)"
   ]
  },
  {
   "cell_type": "code",
   "execution_count": 24,
   "id": "b5707a70-17a5-4b8b-be87-3a51323597de",
   "metadata": {},
   "outputs": [
    {
     "data": {
      "text/plain": [
       "[(1, 8), (7, 5), (2, 0), (12, -52)]"
      ]
     },
     "execution_count": 24,
     "metadata": {},
     "output_type": "execute_result"
    }
   ],
   "source": [
    "lista=[(1,8),(7,5),(12,-52),(2,0)]\n",
    "funcion=lambda x : x[1]\n",
    "lista.sort(key=lambda x : x[1], reverse=True) ##key es para decidir con base a que se va a ordenar\n",
    "lista\n"
   ]
  },
  {
   "cell_type": "code",
   "execution_count": 25,
   "id": "d5e481ba-2547-4b28-83a6-bfb8282e53e3",
   "metadata": {},
   "outputs": [],
   "source": [
    "import numpy as np\n",
    "import pandas as pd"
   ]
  },
  {
   "cell_type": "code",
   "execution_count": null,
   "id": "86ae0281-107a-45b7-b03b-bbb898a73f68",
   "metadata": {},
   "outputs": [],
   "source": []
  },
  {
   "cell_type": "code",
   "execution_count": null,
   "id": "a8acf2fe-20f6-4fd8-ba34-f12df2944ac1",
   "metadata": {},
   "outputs": [],
   "source": []
  },
  {
   "cell_type": "code",
   "execution_count": null,
   "id": "7228c3fa-2515-4920-8178-5a85c4e72bb4",
   "metadata": {},
   "outputs": [],
   "source": []
  },
  {
   "cell_type": "code",
   "execution_count": null,
   "id": "4f462af6-4e12-44b7-8964-970a849e58bf",
   "metadata": {},
   "outputs": [],
   "source": []
  },
  {
   "cell_type": "code",
   "execution_count": null,
   "id": "014f887b-cf27-4f0b-9778-ec6b2994f37e",
   "metadata": {},
   "outputs": [],
   "source": []
  },
  {
   "cell_type": "code",
   "execution_count": null,
   "id": "b2e419d6-9667-455b-87df-d86cec8ecb6a",
=======
   "cell_type": "code",
   "execution_count": null,
   "id": "ecfa3c55-8272-4a76-8a34-f3c7e8a21cdd",
>>>>>>> main
   "metadata": {},
   "outputs": [],
   "source": []
  }
 ],
 "metadata": {
  "kernelspec": {
   "display_name": "Python 3 (ipykernel)",
   "language": "python",
   "name": "python3"
  },
  "language_info": {
   "codemirror_mode": {
    "name": "ipython",
    "version": 3
   },
   "file_extension": ".py",
   "mimetype": "text/x-python",
   "name": "python",
   "nbconvert_exporter": "python",
   "pygments_lexer": "ipython3",
   "version": "3.10.4"
  }
 },
 "nbformat": 4,
 "nbformat_minor": 5
}
