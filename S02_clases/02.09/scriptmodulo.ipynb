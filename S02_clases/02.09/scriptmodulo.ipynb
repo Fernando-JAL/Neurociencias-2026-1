{
 "cells": [
  {
   "cell_type": "code",
   "execution_count": 7,
   "id": "576f20a5-b2d5-4d4c-a4b8-add04004b924",
   "metadata": {
    "scrolled": true
   },
   "outputs": [],
   "source": [
    "from cosas import saludo"
   ]
  },
  {
   "cell_type": "code",
   "execution_count": 11,
   "id": "c48c3c68-d743-4711-8c6b-2ea0ecc20f34",
   "metadata": {
    "scrolled": true
   },
   "outputs": [
    {
     "name": "stdout",
     "output_type": "stream",
     "text": [
      "hola desde el paquete\n"
     ]
    }
   ],
   "source": [
    "saludo()"
   ]
  },
  {
   "cell_type": "code",
   "execution_count": 9,
   "id": "665fdd4e-2a8f-4e5a-9121-0dc88ea1e06c",
   "metadata": {},
   "outputs": [],
   "source": [
    "from cosas import funcion"
   ]
  },
  {
   "cell_type": "code",
   "execution_count": 12,
   "id": "b168b01e-8b7c-465c-8a69-420eb69f192d",
   "metadata": {},
   "outputs": [
    {
     "name": "stdout",
     "output_type": "stream",
     "text": [
      "otra función\n"
     ]
    }
   ],
   "source": [
    "funcion()"
   ]
  },
  {
   "cell_type": "code",
   "execution_count": 13,
   "id": "f91f6bf5-2f25-4643-bbac-af94bca7c860",
   "metadata": {},
   "outputs": [
    {
     "name": "stdout",
     "output_type": "stream",
     "text": [
      "hola desde el paquete\n"
     ]
    }
   ],
   "source": [
    "### si queremos mandar a llamar a todas las funciones solo ponemos asteristicos\n",
    "from cosas import *\n",
    "saludo()"
   ]
  },
  {
   "cell_type": "code",
   "execution_count": 8,
   "id": "a71cd861-d910-43b3-8524-4b920d9058e0",
   "metadata": {},
   "outputs": [
    {
     "data": {
      "text/plain": [
       "5"
      ]
     },
     "execution_count": 8,
     "metadata": {},
     "output_type": "execute_result"
    }
   ],
   "source": [
    "suma(2,3)"
   ]
  },
  {
   "cell_type": "code",
   "execution_count": 7,
   "id": "badccb5d-02b9-4616-bb7a-5ddf0a4f80ee",
   "metadata": {},
   "outputs": [
    {
     "name": "stdout",
     "output_type": "stream",
     "text": [
      "otra cosa\n"
     ]
    }
   ],
   "source": [
    "from cosas import *\n",
    "funcion2()"
   ]
  },
  {
   "cell_type": "markdown",
   "id": "beb02e2b-dee1-4a2f-8e0c-f83ea7ed11a2",
   "metadata": {},
   "source": [
    "## NUMPY\n",
    "es un paquete enfocado en manipular informacion en estructuras conocidas como vectores, arreglo y matrices\n",
    "La contribucion mas significativa es la introduccion de un tipo de dato llamado array "
   ]
  },
  {
   "cell_type": "code",
   "execution_count": 5,
   "id": "6bf105cd-a85b-41ff-b0e4-80519cc6feef",
   "metadata": {},
   "outputs": [],
   "source": [
    "import numpy as np"
   ]
  },
  {
   "cell_type": "code",
   "execution_count": 6,
   "id": "5607776c-d226-4c18-8d12-ed9005210a7f",
   "metadata": {},
   "outputs": [
    {
     "data": {
      "text/plain": [
       "numpy.ndarray"
      ]
     },
     "execution_count": 6,
     "metadata": {},
     "output_type": "execute_result"
    }
   ],
   "source": [
    "lista = [3,4,5]\n",
    "\n",
    "variable = np.array(lista)\n",
    "type(variable)"
   ]
  },
  {
   "cell_type": "code",
   "execution_count": null,
   "id": "f2702d6f-84a7-4b1f-9fe2-da2bd41ff8cb",
   "metadata": {},
   "outputs": [],
   "source": [
    "### un arreglo lista numerica con n dimensiones\n",
    "### una matriz es "
   ]
  },
  {
   "cell_type": "code",
   "execution_count": 16,
   "id": "71cccf50-c4d5-4a8f-a1dc-269ab2841373",
   "metadata": {},
   "outputs": [
    {
     "data": {
      "text/plain": [
       "(1, (3,))"
      ]
     },
     "execution_count": 16,
     "metadata": {},
     "output_type": "execute_result"
    }
   ],
   "source": [
    "variable.ndim, variable.shape\n",
    "## ndim dimension numerica, shape dice la forma "
   ]
  },
  {
   "cell_type": "code",
   "execution_count": 18,
   "id": "86d29e51-dd25-407a-bece-596ee805ff24",
   "metadata": {},
   "outputs": [
    {
     "data": {
      "text/plain": [
       "(numpy.ndarray, 2, (2, 3))"
      ]
     },
     "execution_count": 18,
     "metadata": {},
     "output_type": "execute_result"
    }
   ],
   "source": [
    "variable2d = np.array([\n",
    "    [4,5,6],\n",
    "    [7,8,9]\n",
    "])\n",
    "type(variable2d), variable2d.ndim, variable2d.shape\n",
    "\n",
    "### en python todos son arreglos, matrices en matlab\n",
    "## array es un tipo de dentro de un py??"
   ]
  },
  {
   "cell_type": "code",
   "execution_count": 15,
   "id": "81e0836c-0207-4a26-871e-c53b0af51c3d",
   "metadata": {},
   "outputs": [
    {
     "data": {
      "text/plain": [
       "array([[4, 5, 6],\n",
       "       [7, 8, 9]])"
      ]
     },
     "execution_count": 15,
     "metadata": {},
     "output_type": "execute_result"
    }
   ],
   "source": [
    "variable2d"
   ]
  },
  {
   "cell_type": "markdown",
   "id": "24dc6e57-033a-41a5-8912-a8de13cbdba1",
   "metadata": {},
   "source": [
    "### funciones de numpy "
   ]
  },
  {
   "cell_type": "code",
   "execution_count": 19,
   "id": "6355c91c-1652-422c-9068-df488866187e",
   "metadata": {},
   "outputs": [
    {
     "data": {
      "text/plain": [
       "(array([0., 0., 0., 0., 0., 0.]),\n",
       " array([[0., 0., 0., 0.],\n",
       "        [0., 0., 0., 0.],\n",
       "        [0., 0., 0., 0.]]))"
      ]
     },
     "execution_count": 19,
     "metadata": {},
     "output_type": "execute_result"
    }
   ],
   "source": [
    "np.zeros(6), np.zeros([3,4])"
   ]
  },
  {
   "cell_type": "code",
   "execution_count": 20,
   "id": "8a7275e7-095c-4f39-bf14-7a0cc3481f33",
   "metadata": {},
   "outputs": [
    {
     "data": {
      "text/plain": [
       "(array([1., 1., 1., 1.]), array(1.))"
      ]
     },
     "execution_count": 20,
     "metadata": {},
     "output_type": "execute_result"
    }
   ],
   "source": [
    "np.ones(4), np.ones([])"
   ]
  },
  {
   "cell_type": "code",
   "execution_count": 21,
   "id": "0ed9905b-e768-40f8-b1b2-09f4fac95c30",
   "metadata": {},
   "outputs": [
    {
     "data": {
      "text/plain": [
       "(array([1., 1., 1., 1.]),\n",
       " array([[[1., 1., 1., 1.],\n",
       "         [1., 1., 1., 1.],\n",
       "         [1., 1., 1., 1.]],\n",
       " \n",
       "        [[1., 1., 1., 1.],\n",
       "         [1., 1., 1., 1.],\n",
       "         [1., 1., 1., 1.]]]))"
      ]
     },
     "execution_count": 21,
     "metadata": {},
     "output_type": "execute_result"
    }
   ],
   "source": [
    "np.ones(4), np.ones([2,3,4])"
   ]
  },
  {
   "cell_type": "code",
   "execution_count": 22,
   "id": "e34ece4e-b030-453a-b3fe-868a71c23f0d",
   "metadata": {},
   "outputs": [
    {
     "data": {
      "text/plain": [
       "array([[1., 0., 0.],\n",
       "       [0., 1., 0.],\n",
       "       [0., 0., 1.]])"
      ]
     },
     "execution_count": 22,
     "metadata": {},
     "output_type": "execute_result"
    }
   ],
   "source": [
    "### matriz identidad??\n",
    "np.eye(3)"
   ]
  },
  {
   "cell_type": "code",
   "execution_count": 24,
   "id": "b980bb7d-8177-4b13-8e2e-91873a7f0ecd",
   "metadata": {},
   "outputs": [
    {
     "data": {
      "text/plain": [
       "array([[1., 0., 0., 0., 0.],\n",
       "       [0., 1., 0., 0., 0.],\n",
       "       [0., 0., 1., 0., 0.],\n",
       "       [0., 0., 0., 1., 0.],\n",
       "       [0., 0., 0., 0., 1.]])"
      ]
     },
     "execution_count": 24,
     "metadata": {},
     "output_type": "execute_result"
    }
   ],
   "source": [
    "np.eye(5)\n",
    "## de 5x5, no puedo hacer una de 2x5 porque siempre son cuadradas "
   ]
  },
  {
   "cell_type": "code",
   "execution_count": null,
   "id": "9c138820-391f-466b-a04d-7e88d0484d09",
   "metadata": {},
   "outputs": [],
   "source": [
    "## ejer: crear un arreglo de 4x4 cuyos elementos en la diagonal sean igual a 8\n",
    "# pero fuera de la diagonal sea igual a -10"
   ]
  },
  {
   "cell_type": "code",
   "execution_count": 65,
   "id": "8e8ac436-f634-413e-8e2c-ceb4ef693de8",
   "metadata": {},
   "outputs": [
    {
     "data": {
      "text/plain": [
       "array([[  8., -10., -10., -10.],\n",
       "       [-10.,   8., -10., -10.],\n",
       "       [-10., -10.,   8., -10.],\n",
       "       [-10., -10., -10.,   8.]])"
      ]
     },
     "execution_count": 65,
     "metadata": {},
     "output_type": "execute_result"
    }
   ],
   "source": [
    "valor= -10*np.ones([4,4]) + 18*np.eye(4)\n",
    "valor"
   ]
  },
  {
   "cell_type": "code",
   "execution_count": 66,
   "id": "5d2e5ee3-c94c-45bf-ae57-cb4369b73cc3",
   "metadata": {},
   "outputs": [
    {
     "data": {
      "text/plain": [
       "array([[ 4., -5., -5., -5.],\n",
       "       [-5.,  4., -5., -5.],\n",
       "       [-5., -5.,  4., -5.],\n",
       "       [-5., -5., -5.,  4.]])"
      ]
     },
     "execution_count": 66,
     "metadata": {},
     "output_type": "execute_result"
    }
   ],
   "source": [
    "valor/2"
   ]
  },
  {
   "cell_type": "code",
   "execution_count": 67,
   "id": "6d61d3ce-f58f-43c8-936c-5d94c630af30",
   "metadata": {},
   "outputs": [
    {
     "data": {
      "text/plain": [
       "array([[ 64., 100., 100., 100.],\n",
       "       [100.,  64., 100., 100.],\n",
       "       [100., 100.,  64., 100.],\n",
       "       [100., 100., 100.,  64.]])"
      ]
     },
     "execution_count": 67,
     "metadata": {},
     "output_type": "execute_result"
    }
   ],
   "source": [
    "valor**2"
   ]
  },
  {
   "cell_type": "code",
   "execution_count": 68,
   "id": "4f52bda5-5be6-42f7-ba16-3de660bd985c",
   "metadata": {},
   "outputs": [
    {
     "name": "stderr",
     "output_type": "stream",
     "text": [
      "C:\\Users\\HP\\AppData\\Local\\Temp\\ipykernel_38916\\1006119973.py:1: RuntimeWarning: invalid value encountered in sqrt\n",
      "  valor**0.5\n"
     ]
    },
    {
     "data": {
      "text/plain": [
       "array([[2.82842712,        nan,        nan,        nan],\n",
       "       [       nan, 2.82842712,        nan,        nan],\n",
       "       [       nan,        nan, 2.82842712,        nan],\n",
       "       [       nan,        nan,        nan, 2.82842712]])"
      ]
     },
     "execution_count": 68,
     "metadata": {},
     "output_type": "execute_result"
    }
   ],
   "source": [
    "valor**0.5"
   ]
  },
  {
   "cell_type": "code",
   "execution_count": 69,
   "id": "23248086-8771-430a-94dd-f59ea593c0d9",
   "metadata": {},
   "outputs": [
    {
     "data": {
      "text/plain": [
       "array([[ 0.125, -0.1  , -0.1  , -0.1  ],\n",
       "       [-0.1  ,  0.125, -0.1  , -0.1  ],\n",
       "       [-0.1  , -0.1  ,  0.125, -0.1  ],\n",
       "       [-0.1  , -0.1  , -0.1  ,  0.125]])"
      ]
     },
     "execution_count": 69,
     "metadata": {},
     "output_type": "execute_result"
    }
   ],
   "source": [
    "1/valor\n",
    "# matematicamente esta operacon no tiene sentido pero en python si "
   ]
  },
  {
   "cell_type": "code",
   "execution_count": null,
   "id": "511d0017-0142-44a7-8fc3-40be380e8327",
   "metadata": {},
   "outputs": [],
   "source": [
    "tarea cuanto vale 0 a la 0 y porque"
   ]
  }
 ],
 "metadata": {
  "kernelspec": {
   "display_name": "Python 3 (ipykernel)",
   "language": "python",
   "name": "python3"
  },
  "language_info": {
   "codemirror_mode": {
    "name": "ipython",
    "version": 3
   },
   "file_extension": ".py",
   "mimetype": "text/x-python",
   "name": "python",
   "nbconvert_exporter": "python",
   "pygments_lexer": "ipython3",
   "version": "3.13.6"
  }
 },
 "nbformat": 4,
 "nbformat_minor": 5
}
