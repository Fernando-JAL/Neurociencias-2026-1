{
 "cells": [
  {
   "cell_type": "markdown",
   "id": "f1292f5b-22c3-4756-a6cf-86b58b238cd2",
   "metadata": {},
   "source": [
    "# Más de listas"
   ]
  },
  {
   "cell_type": "code",
   "execution_count": 20,
   "id": "a1391f91-80ba-4073-98ef-19e202d2dabc",
   "metadata": {},
   "outputs": [
    {
     "data": {
      "text/plain": [
       "['rojo', 2.3, 100, 'chocolate']"
      ]
     },
     "execution_count": 20,
     "metadata": {},
     "output_type": "execute_result"
    }
   ],
   "source": [
    "lista = [\"rojo\", 2.3, 100, \"chocolate\"]\n",
    "lista"
   ]
  },
  {
   "cell_type": "code",
   "execution_count": 21,
   "id": "3adb5c3b-f721-4cce-a562-07578727df81",
   "metadata": {},
   "outputs": [
    {
     "data": {
      "text/plain": [
       "['rojo', 2.3, 100, 'chocolate', 'nuez']"
      ]
     },
     "execution_count": 21,
     "metadata": {},
     "output_type": "execute_result"
    }
   ],
   "source": [
    "lista.append(\"nuez\")\n",
    "lista"
   ]
  },
  {
   "cell_type": "code",
   "execution_count": 22,
   "id": "c80b4abd-fab8-47ef-bdec-e5b4311ae21c",
   "metadata": {},
   "outputs": [
    {
     "data": {
      "text/plain": [
       "['rojo', 2.3, 100, 'chocolate', 'nuez']"
      ]
     },
     "execution_count": 22,
     "metadata": {},
     "output_type": "execute_result"
    }
   ],
   "source": [
    "lista_vacia= []\n",
    "lista"
   ]
  },
  {
   "cell_type": "code",
   "execution_count": 23,
   "id": "ac9bd72a-fba4-42fa-bcca-398c377f552b",
   "metadata": {},
   "outputs": [
    {
     "data": {
      "text/plain": [
       "'nuez'"
      ]
     },
     "execution_count": 23,
     "metadata": {},
     "output_type": "execute_result"
    }
   ],
   "source": [
    "lista[-1]"
   ]
  },
  {
   "cell_type": "code",
   "execution_count": 24,
   "id": "269fceea-2a7e-40d9-bc26-8d2d5d4d77d6",
   "metadata": {},
   "outputs": [
    {
     "data": {
      "text/plain": [
       "100"
      ]
     },
     "execution_count": 24,
     "metadata": {},
     "output_type": "execute_result"
    }
   ],
   "source": [
    "lista[-3]"
   ]
  },
  {
   "cell_type": "code",
   "execution_count": 25,
   "id": "ac2b7fbb-be91-446a-b379-46996349102f",
   "metadata": {},
   "outputs": [
    {
     "data": {
      "text/plain": [
       "7"
      ]
     },
     "execution_count": 25,
     "metadata": {},
     "output_type": "execute_result"
    }
   ],
   "source": [
    "lista[-1:]= [4,2,6]\n",
    "len(lista)"
   ]
  },
  {
   "cell_type": "code",
   "execution_count": 26,
   "id": "7405eeac-9d43-4964-aa19-70c6831d75bc",
   "metadata": {},
   "outputs": [
    {
     "data": {
      "text/plain": [
       "['rojo', 2.3, 'chocolate', 4, 2, 6]"
      ]
     },
     "execution_count": 26,
     "metadata": {},
     "output_type": "execute_result"
    }
   ],
   "source": [
    "del lista [2]\n",
    "lista"
   ]
  },
  {
   "cell_type": "code",
   "execution_count": 27,
   "id": "c42fdf22-7042-4929-9ec5-351333ef3bcd",
   "metadata": {},
   "outputs": [
    {
     "data": {
      "text/plain": [
       "['rojo', 2.3, 2, 6]"
      ]
     },
     "execution_count": 27,
     "metadata": {},
     "output_type": "execute_result"
    }
   ],
   "source": [
    "del lista[2:4]\n",
    "lista"
   ]
  },
  {
   "cell_type": "code",
   "execution_count": 28,
   "id": "9cbdbd37-f858-49c0-86fe-0c6dc0630169",
   "metadata": {},
   "outputs": [
    {
     "data": {
      "text/plain": [
       "[2.3, 2, 6]"
      ]
     },
     "execution_count": 28,
     "metadata": {},
     "output_type": "execute_result"
    }
   ],
   "source": [
    "del lista [0]\n",
    "lista"
   ]
  },
  {
   "cell_type": "code",
   "execution_count": 29,
   "id": "b1b014ec-4aac-4d61-b8e1-88f9acde8754",
   "metadata": {},
   "outputs": [
    {
     "data": {
      "text/plain": [
       "[2, 6]"
      ]
     },
     "execution_count": 29,
     "metadata": {},
     "output_type": "execute_result"
    }
   ],
   "source": [
    "del lista[0]\n",
    "lista"
   ]
  },
  {
   "cell_type": "code",
   "execution_count": 32,
   "id": "17ef7034-a646-4178-a5d4-9aca1333692c",
   "metadata": {},
   "outputs": [
    {
     "data": {
      "text/plain": [
       "[[1, 2, 3], [4, 5, 6], [7, 8, 9]]"
      ]
     },
     "execution_count": 32,
     "metadata": {},
     "output_type": "execute_result"
    }
   ],
   "source": [
    "matriz= [[1, 2, 3,],\n",
    "         [4, 5, 6,],\n",
    "         [7, 8, 9]]\n",
    "matriz\n"
   ]
  },
  {
   "cell_type": "code",
   "execution_count": 37,
   "id": "9199acde-58bc-4e6f-a82c-cca14294c647",
   "metadata": {},
   "outputs": [
    {
     "data": {
      "text/plain": [
       "[7, 8, 9]"
      ]
     },
     "execution_count": 37,
     "metadata": {},
     "output_type": "execute_result"
    }
   ],
   "source": [
    "matriz[2]"
   ]
  },
  {
   "cell_type": "code",
   "execution_count": 34,
   "id": "1c2da7b8-a805-4ca5-bed4-74fb0a2e6f21",
   "metadata": {},
   "outputs": [
    {
     "data": {
      "text/plain": [
       "[1, 2, 3]"
      ]
     },
     "execution_count": 34,
     "metadata": {},
     "output_type": "execute_result"
    }
   ],
   "source": [
    "matriz[0]"
   ]
  },
  {
   "cell_type": "code",
   "execution_count": 35,
   "id": "c3970f2e-4f2c-491c-bd4c-db515116d803",
   "metadata": {},
   "outputs": [
    {
     "data": {
      "text/plain": [
       "[[1, 2, 3], [4, 5, 6]]"
      ]
     },
     "execution_count": 35,
     "metadata": {},
     "output_type": "execute_result"
    }
   ],
   "source": [
    "matriz[0:2]"
   ]
  },
  {
   "cell_type": "code",
   "execution_count": 39,
   "id": "f3b87364-83e6-485c-96ab-539ac3e09d0e",
   "metadata": {},
   "outputs": [],
   "source": [
    "a = matriz[2]"
   ]
  },
  {
   "cell_type": "code",
   "execution_count": 40,
   "id": "2cdee820-1a50-4b5c-87b6-f9b5a56353c7",
   "metadata": {},
   "outputs": [
    {
     "data": {
      "text/plain": [
       "9"
      ]
     },
     "execution_count": 40,
     "metadata": {},
     "output_type": "execute_result"
    }
   ],
   "source": [
    "a[2]"
   ]
  },
  {
   "cell_type": "code",
   "execution_count": 41,
   "id": "f554fb7c-fba9-4857-8b70-d2b88c48efa8",
   "metadata": {},
   "outputs": [
    {
     "data": {
      "text/plain": [
       "9"
      ]
     },
     "execution_count": 41,
     "metadata": {},
     "output_type": "execute_result"
    }
   ],
   "source": [
    "matriz[2][-1]"
   ]
  },
  {
   "cell_type": "code",
   "execution_count": 43,
   "id": "5a2c4b67-5476-43fe-b867-9c8608b85089",
   "metadata": {},
   "outputs": [
    {
     "data": {
      "text/plain": [
       "5"
      ]
     },
     "execution_count": 43,
     "metadata": {},
     "output_type": "execute_result"
    }
   ],
   "source": [
    "matriz[1][-2]"
   ]
  },
  {
   "cell_type": "code",
   "execution_count": 44,
   "id": "21e0cf15-a172-4c77-8302-dab7300b8070",
   "metadata": {},
   "outputs": [
    {
     "data": {
      "text/plain": [
       "4"
      ]
     },
     "execution_count": 44,
     "metadata": {},
     "output_type": "execute_result"
    }
   ],
   "source": [
    "matriz[1][-3]"
   ]
  },
  {
   "cell_type": "code",
   "execution_count": 45,
   "id": "33804f52-c0a6-495b-a82a-d1f101f80b7d",
   "metadata": {},
   "outputs": [
    {
     "data": {
      "text/plain": [
       "4"
      ]
     },
     "execution_count": 45,
     "metadata": {},
     "output_type": "execute_result"
    }
   ],
   "source": [
    "matriz[1][0]"
   ]
  },
  {
   "cell_type": "code",
   "execution_count": 46,
   "id": "a974d2ac-a651-411e-8561-049c7ad33b90",
   "metadata": {},
   "outputs": [
    {
     "data": {
      "text/plain": [
       "5"
      ]
     },
     "execution_count": 46,
     "metadata": {},
     "output_type": "execute_result"
    }
   ],
   "source": [
    "matriz[1][1]"
   ]
  },
  {
   "cell_type": "markdown",
   "id": "0a3c8505-3f8b-42de-9a63-73b05d1b4f6b",
   "metadata": {},
   "source": [
    "# Tuplas"
   ]
  },
  {
   "cell_type": "code",
   "execution_count": 51,
   "id": "d1ed2cca-4d40-4c7b-af3a-fdd3538758a6",
   "metadata": {},
   "outputs": [
    {
     "data": {
      "text/plain": [
       "(5, 2, '-1', [4, 2, 1], 'pasa')"
      ]
     },
     "execution_count": 51,
     "metadata": {},
     "output_type": "execute_result"
    }
   ],
   "source": [
    "variable=(5, 2, \"-1\", [4, 2, 1], \"pasa\")\n",
    "variable"
   ]
  },
  {
   "cell_type": "code",
   "execution_count": 50,
   "id": "030279e5-3495-4f25-9ec8-fe37d493ae02",
   "metadata": {},
   "outputs": [
    {
     "data": {
      "text/plain": [
       "tuple"
      ]
     },
     "execution_count": 50,
     "metadata": {},
     "output_type": "execute_result"
    }
   ],
   "source": [
    "type(variable)"
   ]
  },
  {
   "cell_type": "code",
   "execution_count": 52,
   "id": "b2472a21-8d2e-4b73-81ba-725bfd9185a1",
   "metadata": {},
   "outputs": [
    {
     "data": {
      "text/plain": [
       "'pasa'"
      ]
     },
     "execution_count": 52,
     "metadata": {},
     "output_type": "execute_result"
    }
   ],
   "source": [
    "variable[-1]"
   ]
  },
  {
   "cell_type": "code",
   "execution_count": 59,
   "id": "b59c4346-6084-41a6-a931-b2bc2e9e3407",
   "metadata": {},
   "outputs": [
    {
     "data": {
      "text/plain": [
       "(2, '-1')"
      ]
     },
     "execution_count": 59,
     "metadata": {},
     "output_type": "execute_result"
    }
   ],
   "source": [
    "variable[1:-2]"
   ]
  },
  {
   "cell_type": "code",
   "execution_count": 60,
   "id": "9a209938-1f08-42e1-b85e-2e58a99f8f42",
   "metadata": {},
   "outputs": [
    {
     "data": {
      "text/plain": [
       "(2, '-1', [4, 2, 1])"
      ]
     },
     "execution_count": 60,
     "metadata": {},
     "output_type": "execute_result"
    }
   ],
   "source": [
    "variable[1:-1]"
   ]
  },
  {
   "cell_type": "code",
   "execution_count": 61,
   "id": "ced0df2b-02ab-415d-9e6e-748cd67ce7e0",
   "metadata": {},
   "outputs": [
    {
     "data": {
      "text/plain": [
       "()"
      ]
     },
     "execution_count": 61,
     "metadata": {},
     "output_type": "execute_result"
    }
   ],
   "source": [
    "variable[1:0]"
   ]
  },
  {
   "cell_type": "code",
   "execution_count": 62,
   "id": "632da423-09c6-4102-9cea-5bc56a18ab9e",
   "metadata": {},
   "outputs": [
    {
     "data": {
      "text/plain": [
       "('-1', [4, 2, 1])"
      ]
     },
     "execution_count": 62,
     "metadata": {},
     "output_type": "execute_result"
    }
   ],
   "source": [
    "variable[2:-1]"
   ]
  },
  {
   "cell_type": "code",
   "execution_count": 63,
   "id": "28978d42-b0d2-4c30-a4d0-ff3828fae2d1",
   "metadata": {},
   "outputs": [
    {
     "data": {
      "text/plain": [
       "'pasa'"
      ]
     },
     "execution_count": 63,
     "metadata": {},
     "output_type": "execute_result"
    }
   ],
   "source": [
    "variable[-1]"
   ]
  },
  {
   "cell_type": "code",
   "execution_count": 64,
   "id": "5782b3c1-b799-4d42-b737-ede6d684b2a1",
   "metadata": {},
   "outputs": [
    {
     "data": {
      "text/plain": [
       "()"
      ]
     },
     "execution_count": 64,
     "metadata": {},
     "output_type": "execute_result"
    }
   ],
   "source": [
    "variable[1:1]"
   ]
  },
  {
   "cell_type": "code",
   "execution_count": 65,
   "id": "5c14359a-3973-4831-856e-7d7b545983e0",
   "metadata": {},
   "outputs": [
    {
     "data": {
      "text/plain": [
       "(5, 2, '-1')"
      ]
     },
     "execution_count": 65,
     "metadata": {},
     "output_type": "execute_result"
    }
   ],
   "source": [
    "variable[0:3]"
   ]
  },
  {
   "cell_type": "code",
   "execution_count": 66,
   "id": "9adf53b1-ef43-4a89-ae0f-dbf2eb318b67",
   "metadata": {},
   "outputs": [
    {
     "data": {
      "text/plain": [
       "()"
      ]
     },
     "execution_count": 66,
     "metadata": {},
     "output_type": "execute_result"
    }
   ],
   "source": [
    "variable[-1:-3]"
   ]
  },
  {
   "cell_type": "code",
   "execution_count": 67,
   "id": "c731a3af-7665-4f48-8118-c01af537fae2",
   "metadata": {},
   "outputs": [
    {
     "data": {
      "text/plain": [
       "(5, 2, '-1')"
      ]
     },
     "execution_count": 67,
     "metadata": {},
     "output_type": "execute_result"
    }
   ],
   "source": [
    "pos_i, pos_f= 0, 2\n",
    "variable[pos_i: pos_f+1]"
   ]
  },
  {
   "cell_type": "code",
   "execution_count": 68,
   "id": "86bbf417-fcbd-4fd3-9e68-d55d085694e0",
   "metadata": {},
   "outputs": [
    {
     "data": {
      "text/plain": [
       "(5, 2)"
      ]
     },
     "execution_count": 68,
     "metadata": {},
     "output_type": "execute_result"
    }
   ],
   "source": [
    "pos_i, pos_f= 0, 2\n",
    "variable[pos_i:pos_f]"
   ]
  },
  {
   "cell_type": "code",
   "execution_count": 70,
   "id": "9b5b7eff-a122-4dfe-82ce-c3a6fde55aa2",
   "metadata": {},
   "outputs": [
    {
     "data": {
      "text/plain": [
       "(2, '-1', [4, 2, 1], 'pasa')"
      ]
     },
     "execution_count": 70,
     "metadata": {},
     "output_type": "execute_result"
    }
   ],
   "source": [
    "pos_i, pos_f= 1,5\n",
    "variable[pos_i:pos_f]"
   ]
  },
  {
   "cell_type": "code",
   "execution_count": 71,
   "id": "d0a9460c-d97e-4702-9e7e-6de72f67d65a",
   "metadata": {},
   "outputs": [
    {
     "data": {
      "text/plain": [
       "(2, '-1', [4, 2, 1])"
      ]
     },
     "execution_count": 71,
     "metadata": {},
     "output_type": "execute_result"
    }
   ],
   "source": [
    "variable[-4:4]"
   ]
  },
  {
   "cell_type": "code",
   "execution_count": 72,
   "id": "395122c2-0106-4032-95fe-aca0d5a9d78a",
   "metadata": {},
   "outputs": [
    {
     "data": {
      "text/plain": [
       "(2, '-1', [4, 2, 1], 'pasa')"
      ]
     },
     "execution_count": 72,
     "metadata": {},
     "output_type": "execute_result"
    }
   ],
   "source": [
    "variable[-4:5]"
   ]
  },
  {
   "cell_type": "code",
   "execution_count": 78,
   "id": "dca2b984-a7ea-4b52-99b2-c0868cb5de42",
   "metadata": {},
   "outputs": [
    {
     "data": {
      "text/plain": [
       "(5,)"
      ]
     },
     "execution_count": 78,
     "metadata": {},
     "output_type": "execute_result"
    }
   ],
   "source": [
    "tupla=(5,)\n",
    "tupla"
   ]
  },
  {
   "cell_type": "code",
   "execution_count": 74,
   "id": "dd39e1bc-419e-49b1-b9c0-b10face03976",
   "metadata": {},
   "outputs": [
    {
     "data": {
      "text/plain": [
       "2"
      ]
     },
     "execution_count": 74,
     "metadata": {},
     "output_type": "execute_result"
    }
   ],
   "source": [
    "len(tupla)"
   ]
  },
  {
   "cell_type": "code",
   "execution_count": 75,
   "id": "cad74547-2dc3-4209-abd6-91abb9bbf7e9",
   "metadata": {},
   "outputs": [
    {
     "data": {
      "text/plain": [
       "tuple"
      ]
     },
     "execution_count": 75,
     "metadata": {},
     "output_type": "execute_result"
    }
   ],
   "source": [
    "type(tupla)"
   ]
  },
  {
   "cell_type": "code",
   "execution_count": 76,
   "id": "244b3f78-7fcb-4ace-af95-6299cdba35e6",
   "metadata": {},
   "outputs": [
    {
     "data": {
      "text/plain": [
       "5"
      ]
     },
     "execution_count": 76,
     "metadata": {},
     "output_type": "execute_result"
    }
   ],
   "source": [
    "tupla=(5)\n",
    "tupla"
   ]
  },
  {
   "cell_type": "code",
   "execution_count": 79,
   "id": "f3c7b5f8-3938-4007-8e9e-c1c9e6e189e7",
   "metadata": {},
   "outputs": [
    {
     "data": {
      "text/plain": [
       "tuple"
      ]
     },
     "execution_count": 79,
     "metadata": {},
     "output_type": "execute_result"
    }
   ],
   "source": [
    "type(tupla)"
   ]
  },
  {
   "cell_type": "code",
   "execution_count": 80,
   "id": "21c89be4-86ba-491d-b1a9-b53d0995360f",
   "metadata": {},
   "outputs": [],
   "source": [
    "t1, t2, t3= (4,5), (6,7),(8,9)"
   ]
  },
  {
   "cell_type": "code",
   "execution_count": 81,
   "id": "8723d243-28a0-48c6-a749-95384bc45cf2",
   "metadata": {},
   "outputs": [
    {
     "data": {
      "text/plain": [
       "(6, 7, 6, 7, 6, 7)"
      ]
     },
     "execution_count": 81,
     "metadata": {},
     "output_type": "execute_result"
    }
   ],
   "source": [
    "3*t2"
   ]
  },
  {
   "cell_type": "code",
   "execution_count": 86,
   "id": "c34f8bf7-fddd-4311-b8fa-4ebf020e2c21",
   "metadata": {},
   "outputs": [
    {
     "data": {
      "text/plain": [
       "[7, 7, 7]"
      ]
     },
     "execution_count": 86,
     "metadata": {},
     "output_type": "execute_result"
    }
   ],
   "source": [
    "3*[(3*t2)[3]]"
   ]
  },
  {
   "cell_type": "code",
   "execution_count": 87,
   "id": "49760b86-2bb9-4d14-8b70-1e04744254d3",
   "metadata": {},
   "outputs": [
    {
     "data": {
      "text/plain": [
       "21"
      ]
     },
     "execution_count": 87,
     "metadata": {},
     "output_type": "execute_result"
    }
   ],
   "source": [
    "3*(3*t2)[3]"
   ]
  },
  {
   "cell_type": "code",
   "execution_count": 88,
   "id": "b9d0f56a-0410-47c6-8e7e-3c3d67eef19c",
   "metadata": {},
   "outputs": [
    {
     "data": {
      "text/plain": [
       "7"
      ]
     },
     "execution_count": 88,
     "metadata": {},
     "output_type": "execute_result"
    }
   ],
   "source": [
    "(3*t2)[3]"
   ]
  },
  {
   "cell_type": "code",
   "execution_count": 89,
   "id": "74bfe0ae-98f0-4270-a3fb-5d6065b0a8af",
   "metadata": {},
   "outputs": [
    {
     "ename": "TypeError",
     "evalue": "'tuple' object does not support item assignment",
     "output_type": "error",
     "traceback": [
      "\u001b[31m---------------------------------------------------------------------------\u001b[39m",
      "\u001b[31mTypeError\u001b[39m                                 Traceback (most recent call last)",
      "\u001b[36mCell\u001b[39m\u001b[36m \u001b[39m\u001b[32mIn[89]\u001b[39m\u001b[32m, line 1\u001b[39m\n\u001b[32m----> \u001b[39m\u001b[32m1\u001b[39m \u001b[43mt2\u001b[49m\u001b[43m[\u001b[49m\u001b[32;43m0\u001b[39;49m\u001b[43m]\u001b[49m= \u001b[32m5\u001b[39m\n",
      "\u001b[31mTypeError\u001b[39m: 'tuple' object does not support item assignment"
     ]
    }
   ],
   "source": [
    "t2[0]= 5"
   ]
  },
  {
   "cell_type": "markdown",
   "id": "f46fa30d-f76b-4044-8801-a882766db3ef",
   "metadata": {},
   "source": [
    "# Mapping: diccionarios"
   ]
  },
  {
   "cell_type": "code",
   "execution_count": 95,
   "id": "0638e44b-0108-4980-afbe-4c99b0c258dd",
   "metadata": {},
   "outputs": [
    {
     "data": {
      "text/plain": [
       "{'key': 'valor', 'llave2': 'valor2', 'llave3': 5, 'llave4': [2, 3], 5: [-2]}"
      ]
     },
     "execution_count": 95,
     "metadata": {},
     "output_type": "execute_result"
    }
   ],
   "source": [
    "diccionario= {\"key\": \"valor\", \"llave2\": \"valor2\", \"llave3\":5, \"llave4\": [2,3],5:[-2]}\n",
    "diccionario"
   ]
  },
  {
   "cell_type": "code",
   "execution_count": 96,
   "id": "9f4dd224-8fe2-4144-94a6-8d64573ae7f2",
   "metadata": {},
   "outputs": [
    {
     "data": {
      "text/plain": [
       "[-2]"
      ]
     },
     "execution_count": 96,
     "metadata": {},
     "output_type": "execute_result"
    }
   ],
   "source": [
    "diccionario[5]"
   ]
  },
  {
   "cell_type": "code",
   "execution_count": 99,
   "id": "e57417de-9b34-4501-b91f-4dbd63a36af9",
   "metadata": {},
   "outputs": [
    {
     "data": {
      "text/plain": [
       "[2, 3]"
      ]
     },
     "execution_count": 99,
     "metadata": {},
     "output_type": "execute_result"
    }
   ],
   "source": [
    "diccionario[\"llave4\"]"
   ]
  },
  {
   "cell_type": "code",
   "execution_count": 100,
   "id": "8ce9dfb6-a330-4695-b50e-fa493bfb5f2d",
   "metadata": {},
   "outputs": [
    {
     "data": {
      "text/plain": [
       "dict_keys(['key', 'llave2', 'llave3', 'llave4', 5])"
      ]
     },
     "execution_count": 100,
     "metadata": {},
     "output_type": "execute_result"
    }
   ],
   "source": [
    "diccionario.keys() #Se está utilizando el método \"keys\""
   ]
  },
  {
   "cell_type": "code",
   "execution_count": 102,
   "id": "0c08fc84-7b01-4324-9d57-3c81bd66bee0",
   "metadata": {},
   "outputs": [
    {
     "data": {
      "text/plain": [
       "dict_values(['valor', 'valor2', 5, [2, 3], [-2]])"
      ]
     },
     "execution_count": 102,
     "metadata": {},
     "output_type": "execute_result"
    }
   ],
   "source": [
    "diccionario.values()  #Se está utilizando el método \"values\""
   ]
  },
  {
   "cell_type": "code",
   "execution_count": 103,
   "id": "bbfcaaac-6cba-41a2-81a0-a968b65c2862",
   "metadata": {},
   "outputs": [
    {
     "data": {
      "text/plain": [
       "dict_values(['valor', 'valor2', 5, [2, 3], [-2]])"
      ]
     },
     "execution_count": 103,
     "metadata": {},
     "output_type": "execute_result"
    }
   ],
   "source": [
    "var = diccionario.values()\n",
    "var"
   ]
  },
  {
   "cell_type": "code",
   "execution_count": 104,
   "id": "328afda2-923f-4819-b28c-62142831139e",
   "metadata": {},
   "outputs": [
    {
     "data": {
      "text/plain": [
       "dict_values"
      ]
     },
     "execution_count": 104,
     "metadata": {},
     "output_type": "execute_result"
    }
   ],
   "source": [
    "type(var)"
   ]
  },
  {
   "cell_type": "code",
   "execution_count": 105,
   "id": "56dd2d62-5391-4ec1-bcd0-ab560447b2c1",
   "metadata": {},
   "outputs": [
    {
     "data": {
      "text/plain": [
       "['valor', 'valor2', 5, [2, 3], [-2]]"
      ]
     },
     "execution_count": 105,
     "metadata": {},
     "output_type": "execute_result"
    }
   ],
   "source": [
    "list(var)"
   ]
  },
  {
   "cell_type": "code",
   "execution_count": 106,
   "id": "98b38d0f-7cc4-42ca-8c44-2eb668957cb1",
   "metadata": {},
   "outputs": [
    {
     "data": {
      "text/plain": [
       "('valor', 'valor2', 5, [2, 3], [-2])"
      ]
     },
     "execution_count": 106,
     "metadata": {},
     "output_type": "execute_result"
    }
   ],
   "source": [
    "tuple(var)"
   ]
  },
  {
   "cell_type": "code",
   "execution_count": 107,
   "id": "e20d57a3-0361-4d2e-aa49-d7826f0cd874",
   "metadata": {},
   "outputs": [
    {
     "data": {
      "text/plain": [
       "{'key': 'valor', 'llave2': 45, 'llave3': 5, 'llave4': [2, 3], 5: [-2]}"
      ]
     },
     "execution_count": 107,
     "metadata": {},
     "output_type": "execute_result"
    }
   ],
   "source": [
    "diccionario[\"llave2\"] = 45\n",
    "diccionario"
   ]
  },
  {
   "cell_type": "code",
   "execution_count": 108,
   "id": "4eb74565-10fa-4ffb-bb45-cde160f838ed",
   "metadata": {},
   "outputs": [
    {
     "data": {
      "text/plain": [
       "{'key': 'valor',\n",
       " 'llave2': 45,\n",
       " 'llave3': 5,\n",
       " 'llave4': [2, 3],\n",
       " 5: [-2],\n",
       " 'vamonos': 'a mimir'}"
      ]
     },
     "execution_count": 108,
     "metadata": {},
     "output_type": "execute_result"
    }
   ],
   "source": [
    "diccionario[\"vamonos\"] = \"a mimir\"\n",
    "diccionario"
   ]
  },
  {
   "cell_type": "code",
   "execution_count": 109,
   "id": "c7d4bf94-f2c7-4aa0-b38f-1c049ae26073",
   "metadata": {},
   "outputs": [
    {
     "data": {
      "text/plain": [
       "'a mimir'"
      ]
     },
     "execution_count": 109,
     "metadata": {},
     "output_type": "execute_result"
    }
   ],
   "source": [
    "diccionario.pop(\"vamonos\")"
   ]
  },
  {
   "cell_type": "code",
   "execution_count": null,
   "id": "0ab09554-e95e-47d0-b259-30695ed2a48e",
   "metadata": {},
   "outputs": [],
   "source": []
  }
 ],
 "metadata": {
  "kernelspec": {
   "display_name": "Python 3 (ipykernel)",
   "language": "python",
   "name": "python3"
  },
  "language_info": {
   "codemirror_mode": {
    "name": "ipython",
    "version": 3
   },
   "file_extension": ".py",
   "mimetype": "text/x-python",
   "name": "python",
   "nbconvert_exporter": "python",
   "pygments_lexer": "ipython3",
   "version": "3.11.1"
  }
 },
 "nbformat": 4,
 "nbformat_minor": 5
}
