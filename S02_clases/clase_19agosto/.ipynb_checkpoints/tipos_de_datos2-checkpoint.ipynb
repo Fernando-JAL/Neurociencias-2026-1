{
 "cells": [
  {
   "cell_type": "markdown",
   "id": "4f459887-dc56-4216-b2b7-1e24980f3f33",
   "metadata": {},
   "source": [
    "# Más de listas"
   ]
  },
  {
   "cell_type": "code",
   "execution_count": 8,
   "id": "16c4d2c7-3548-412d-aa4d-6536bcd0e6fd",
   "metadata": {},
   "outputs": [
    {
     "data": {
      "text/plain": [
       "['rojo', 2.3, 100, 'chocolate', 'nuez']"
      ]
     },
     "execution_count": 8,
     "metadata": {},
     "output_type": "execute_result"
    }
   ],
   "source": [
    "lista = ['rojo', 2.3, 100, 'chocolate']\n",
    "# Agregar elemento a lista preexistente\n",
    "lista.append('nuez')\n",
    "lista"
   ]
  },
  {
   "cell_type": "code",
   "execution_count": 9,
   "id": "42647262-e68b-4045-8dd8-73bb25b41fa2",
   "metadata": {},
   "outputs": [
    {
     "data": {
      "text/plain": [
       "list"
      ]
     },
     "execution_count": 9,
     "metadata": {},
     "output_type": "execute_result"
    }
   ],
   "source": [
    "lista_vacia = [] \n",
    "# ¿Cómo podemos confirmar que lista_vacia es una lista?\n",
    "type(lista_vacia)"
   ]
  },
  {
   "cell_type": "code",
   "execution_count": 10,
   "id": "b9056978-d448-4784-b094-b9b25524a2e5",
   "metadata": {},
   "outputs": [
    {
     "data": {
      "text/plain": [
       "['rojo', 2.3, 100, 'chocolate', 4, 2, 6]"
      ]
     },
     "execution_count": 10,
     "metadata": {},
     "output_type": "execute_result"
    }
   ],
   "source": [
    "# Modificar elemento en lista preexistente: nuez → [4,2,6]\n",
    "lista[-1:] = [4,2,6] # Si solo fuera [-1], nuez → 4; el \":\" dentro de [-1] toma toda la lista tal que nuez → [4,2,6] \n",
    "lista"
   ]
  },
  {
   "cell_type": "code",
   "execution_count": 11,
   "id": "e17841a5-0923-469d-a5b4-fb2570fb165f",
   "metadata": {},
   "outputs": [
    {
     "data": {
      "text/plain": [
       "7"
      ]
     },
     "execution_count": 11,
     "metadata": {},
     "output_type": "execute_result"
    }
   ],
   "source": [
    "len(lista)"
   ]
  },
  {
   "cell_type": "code",
   "execution_count": 12,
   "id": "2298bc86-243d-40ea-af62-5141ff9af981",
   "metadata": {},
   "outputs": [
    {
     "data": {
      "text/plain": [
       "['rojo', 2.3, 'chocolate', 4, 2, 6]"
      ]
     },
     "execution_count": 12,
     "metadata": {},
     "output_type": "execute_result"
    }
   ],
   "source": [
    "# Eliminar elemento de una lista, supongamos \"100\" (posición 2, no olvides que toda lista comienza con 0) \n",
    "del lista[2]\n",
    "lista"
   ]
  },
  {
   "cell_type": "code",
   "execution_count": 14,
   "id": "11d924ae-029c-4417-b5c9-532937591eb1",
   "metadata": {},
   "outputs": [
    {
     "data": {
      "text/plain": [
       "['rojo', 2.3]"
      ]
     },
     "execution_count": 14,
     "metadata": {},
     "output_type": "execute_result"
    }
   ],
   "source": [
    "del lista[2:5]\n",
    "lista"
   ]
  },
  {
   "cell_type": "code",
   "execution_count": 15,
   "id": "9b56b676-4ba3-4de2-9373-0e895b1a42ff",
   "metadata": {},
   "outputs": [
    {
     "data": {
      "text/plain": [
       "[2.3]"
      ]
     },
     "execution_count": 15,
     "metadata": {},
     "output_type": "execute_result"
    }
   ],
   "source": [
    "del lista[0]\n",
    "lista"
   ]
  },
  {
   "cell_type": "code",
   "execution_count": 16,
   "id": "06894b0a-a550-45c4-a387-d0d61556d12a",
   "metadata": {},
   "outputs": [
    {
     "data": {
      "text/plain": [
       "[]"
      ]
     },
     "execution_count": 16,
     "metadata": {},
     "output_type": "execute_result"
    }
   ],
   "source": [
    "del lista[0]\n",
    "lista"
   ]
  },
  {
   "cell_type": "code",
   "execution_count": 29,
   "id": "f437f032-762e-4b50-981a-879f8bf8e8d9",
   "metadata": {},
   "outputs": [
    {
     "data": {
      "text/plain": [
       "[7, 8, 9]"
      ]
     },
     "execution_count": 29,
     "metadata": {},
     "output_type": "execute_result"
    }
   ],
   "source": [
    "matriz = [[1,2,3], [4,5,6], [7,8,9], [10,11,12]]\n",
    "a = matriz[2]\n",
    "a"
   ]
  },
  {
   "cell_type": "code",
   "execution_count": 30,
   "id": "9ce46762-765a-41af-980a-9037a3d5629b",
   "metadata": {},
   "outputs": [
    {
     "data": {
      "text/plain": [
       "9"
      ]
     },
     "execution_count": 30,
     "metadata": {},
     "output_type": "execute_result"
    }
   ],
   "source": [
    "a[-1] # Esto también puede verse como matriz[2][-1]"
   ]
  },
  {
   "cell_type": "code",
   "execution_count": 31,
   "id": "825ac405-848b-40e8-8660-3a2d9e8a2bbc",
   "metadata": {},
   "outputs": [
    {
     "data": {
      "text/plain": [
       "4"
      ]
     },
     "execution_count": 31,
     "metadata": {},
     "output_type": "execute_result"
    }
   ],
   "source": [
    "matriz[1][0] # Elemento 1 ([4,5,6]) de matriz = [[1,2,3], [4,5,6], [7,8,9], [10,11,12]], subelemento 0 (4)"
   ]
  },
  {
   "cell_type": "markdown",
   "id": "1f6a2044-f793-4a0c-86df-9b9f6027b8be",
   "metadata": {},
   "source": [
    "# Tuplas"
   ]
  },
  {
   "cell_type": "code",
   "execution_count": 35,
   "id": "0fbdd1e0-5215-44d9-8586-7f85d45af3ea",
   "metadata": {},
   "outputs": [
    {
     "data": {
      "text/plain": [
       "tuple"
      ]
     },
     "execution_count": 35,
     "metadata": {},
     "output_type": "execute_result"
    }
   ],
   "source": [
    "variable = (5,2,'-1', [4,2,1], 'pasa')\n",
    "# ¿Cómo confirmar que variable es una tupla?\n",
    "type(variable)"
   ]
  },
  {
   "cell_type": "code",
   "execution_count": 36,
   "id": "5d26c980-3834-46ec-bf64-9dcc55442661",
   "metadata": {},
   "outputs": [
    {
     "data": {
      "text/plain": [
       "'pasa'"
      ]
     },
     "execution_count": 36,
     "metadata": {},
     "output_type": "execute_result"
    }
   ],
   "source": [
    "variable[-1]"
   ]
  },
  {
   "cell_type": "code",
   "execution_count": 37,
   "id": "be8aa141-022b-4886-b60d-f54fec3d8434",
   "metadata": {},
   "outputs": [
    {
     "data": {
      "text/plain": [
       "(2, '-1')"
      ]
     },
     "execution_count": 37,
     "metadata": {},
     "output_type": "execute_result"
    }
   ],
   "source": [
    "variable[1:-2]"
   ]
  },
  {
   "cell_type": "code",
   "execution_count": 38,
   "id": "2a3c2708-154c-4bb7-926d-fd1c405a90c2",
   "metadata": {},
   "outputs": [
    {
     "data": {
      "text/plain": [
       "(5, 2, '-1', [4, 2, 1], 'pasa')"
      ]
     },
     "execution_count": 38,
     "metadata": {},
     "output_type": "execute_result"
    }
   ],
   "source": [
    "variable"
   ]
  },
  {
   "cell_type": "code",
   "execution_count": 39,
   "id": "c39b6c05-320e-4af8-bfa8-0370de1a4a23",
   "metadata": {},
   "outputs": [
    {
     "data": {
      "text/plain": [
       "(5, 2, '-1')"
      ]
     },
     "execution_count": 39,
     "metadata": {},
     "output_type": "execute_result"
    }
   ],
   "source": [
    "pos_i, pos_f = 0,2\n",
    "variable[pos_i: pos_f+1]"
   ]
  },
  {
   "cell_type": "code",
   "execution_count": 41,
   "id": "ae647e31-8bd9-446c-a8ce-2d9420611988",
   "metadata": {},
   "outputs": [
    {
     "data": {
      "text/plain": [
       "(2, '-1', [4, 2, 1])"
      ]
     },
     "execution_count": 41,
     "metadata": {},
     "output_type": "execute_result"
    }
   ],
   "source": [
    "# NOTA: no estamos modificando la tupla (esta es inmutable), solo estamos haciéndole slicing\n",
    "variable[-4:4]"
   ]
  },
  {
   "cell_type": "code",
   "execution_count": 51,
   "id": "1c99ec2b-dab3-41d0-9193-4e9eba4178ab",
   "metadata": {},
   "outputs": [
    {
     "data": {
      "text/plain": [
       "int"
      ]
     },
     "execution_count": 51,
     "metadata": {},
     "output_type": "execute_result"
    }
   ],
   "source": [
    "tupla = (5)\n",
    "type(tupla)\n",
    "# No existen tuplas de un solo elemento, básicamente se interpreta como una variable"
   ]
  },
  {
   "cell_type": "code",
   "execution_count": 48,
   "id": "3ad62692-6fb0-4711-b883-6987b09d23a3",
   "metadata": {},
   "outputs": [
    {
     "data": {
      "text/plain": [
       "1"
      ]
     },
     "execution_count": 48,
     "metadata": {},
     "output_type": "execute_result"
    }
   ],
   "source": [
    "# No obstante, si agregamos una \",\"...\n",
    "tupla = (5, )\n",
    "type(tupla), len(tupla)"
   ]
  },
  {
   "cell_type": "code",
   "execution_count": 52,
   "id": "aa813861-9d1d-4045-a6e3-737b66af0acb",
   "metadata": {},
   "outputs": [
    {
     "data": {
      "text/plain": [
       "(4, 5, 6, 7)"
      ]
     },
     "execution_count": 52,
     "metadata": {},
     "output_type": "execute_result"
    }
   ],
   "source": [
    "# ¿Podemos operar las tuplas? \n",
    "t1, t2, t3 = (4,5), (6,7), (8,9)\n",
    "t1 + t2"
   ]
  },
  {
   "cell_type": "code",
   "execution_count": 55,
   "id": "106b9bb0-0a58-41b0-a130-74249fe7a8f4",
   "metadata": {},
   "outputs": [
    {
     "data": {
      "text/plain": [
       "(6, 7, 6, 7, 6, 7)"
      ]
     },
     "execution_count": 55,
     "metadata": {},
     "output_type": "execute_result"
    }
   ],
   "source": [
    "3*t2"
   ]
  },
  {
   "cell_type": "code",
   "execution_count": 54,
   "id": "7ae227f4-d62a-45ca-ad22-e3e44a9b83f9",
   "metadata": {},
   "outputs": [
    {
     "data": {
      "text/plain": [
       "7"
      ]
     },
     "execution_count": 54,
     "metadata": {},
     "output_type": "execute_result"
    }
   ],
   "source": [
    "(3*t2)[3]"
   ]
  },
  {
   "cell_type": "code",
   "execution_count": 56,
   "id": "8843a471-54af-4bff-8f72-ceefd8df0b20",
   "metadata": {},
   "outputs": [
    {
     "data": {
      "text/plain": [
       "[7, 7, 7]"
      ]
     },
     "execution_count": 56,
     "metadata": {},
     "output_type": "execute_result"
    }
   ],
   "source": [
    "[(3*t2)[3]]*3"
   ]
  },
  {
   "cell_type": "code",
   "execution_count": 58,
   "id": "11db92f1-a011-40ae-8778-748490c86f9b",
   "metadata": {},
   "outputs": [
    {
     "ename": "TypeError",
     "evalue": "'tuple' object does not support item assignment",
     "output_type": "error",
     "traceback": [
      "\u001b[31m---------------------------------------------------------------------------\u001b[39m",
      "\u001b[31mTypeError\u001b[39m                                 Traceback (most recent call last)",
      "\u001b[36mCell\u001b[39m\u001b[36m \u001b[39m\u001b[32mIn[58]\u001b[39m\u001b[32m, line 1\u001b[39m\n\u001b[32m----> \u001b[39m\u001b[32m1\u001b[39m \u001b[43mt2\u001b[49m\u001b[43m[\u001b[49m\u001b[32;43m0\u001b[39;49m\u001b[43m]\u001b[49m = \u001b[32m5\u001b[39m\n",
      "\u001b[31mTypeError\u001b[39m: 'tuple' object does not support item assignment"
     ]
    }
   ],
   "source": [
    "t2[0] = 5 # Recordemos que las tuplas NO son modificables"
   ]
  },
  {
   "cell_type": "markdown",
   "id": "97a711a0-4aec-4f90-bb21-6a8122708ded",
   "metadata": {},
   "source": [
    "# Mapping: diccionarios"
   ]
  },
  {
   "cell_type": "code",
   "execution_count": 59,
   "id": "d666ebd3-c3d7-4778-aa23-e666def80438",
   "metadata": {},
   "outputs": [
    {
     "data": {
      "text/plain": [
       "{'key': 'valor'}"
      ]
     },
     "execution_count": 59,
     "metadata": {},
     "output_type": "execute_result"
    }
   ],
   "source": [
    "# Se define como diccionario = {'key': 'valor'} i.e., una colección de asociaciones por pares\n",
    "diccionario = {'key': 'valor'}\n",
    "diccionario"
   ]
  },
  {
   "cell_type": "code",
   "execution_count": 60,
   "id": "c624bf92-c9cd-4c6a-9c68-c25faab86383",
   "metadata": {},
   "outputs": [
    {
     "data": {
      "text/plain": [
       "dict"
      ]
     },
     "execution_count": 60,
     "metadata": {},
     "output_type": "execute_result"
    }
   ],
   "source": [
    "type(diccionario)"
   ]
  },
  {
   "cell_type": "code",
   "execution_count": 62,
   "id": "dee80b82-a6a7-4bca-92d6-84e1f733b7c3",
   "metadata": {},
   "outputs": [
    {
     "data": {
      "text/plain": [
       "{'key': 'valor', 'key2': 'valor2', 'key3': '5', 'key4': [2, 3], 5: [-2]}"
      ]
     },
     "execution_count": 62,
     "metadata": {},
     "output_type": "execute_result"
    }
   ],
   "source": [
    "diccionario = {'key': 'valor', 'key2': 'valor2', 'key3': '5', 'key4':[2,3], 5:[-2]} # Nótese que no es necesario encerrar entre comillas ni a las llaves ni al valor\n",
    "diccionario\n",
    "# Nótese que en los diccionarios, la primera posición es 1, no 0 como en tuplas y listas"
   ]
  },
  {
   "cell_type": "code",
   "execution_count": 63,
   "id": "893e2b65-2114-4582-949d-29fca53bbe24",
   "metadata": {},
   "outputs": [
    {
     "data": {
      "text/plain": [
       "[-2]"
      ]
     },
     "execution_count": 63,
     "metadata": {},
     "output_type": "execute_result"
    }
   ],
   "source": [
    "diccionario[5]"
   ]
  },
  {
   "cell_type": "code",
   "execution_count": 65,
   "id": "c172ed32-b449-4fb5-891e-a45504676fbe",
   "metadata": {},
   "outputs": [
    {
     "data": {
      "text/plain": [
       "dict_keys(['key', 'key2', 'key3', 'key4', 5])"
      ]
     },
     "execution_count": 65,
     "metadata": {},
     "output_type": "execute_result"
    }
   ],
   "source": [
    "# ¿Cómo obtener todas las llaves sin sus valores?\n",
    "diccionario.keys()"
   ]
  },
  {
   "cell_type": "code",
   "execution_count": 69,
   "id": "b53a0d04-8844-423b-be12-c9aeb1255db9",
   "metadata": {},
   "outputs": [
    {
     "data": {
      "text/plain": [
       "dict_values(['valor', 'valor2', '5', [2, 3], [-2]])"
      ]
     },
     "execution_count": 69,
     "metadata": {},
     "output_type": "execute_result"
    }
   ],
   "source": [
    "# Caso contrario, ¿cómo obtener todas los valores sin sus llaves?\n",
    "diccionario.values()"
   ]
  },
  {
   "cell_type": "code",
   "execution_count": 75,
   "id": "3b5af868-684d-450a-a302-23b7a238291d",
   "metadata": {},
   "outputs": [
    {
     "data": {
      "text/plain": [
       "dict_values(['valor', 'valor2', '5', [2, 3], [-2]])"
      ]
     },
     "execution_count": 75,
     "metadata": {},
     "output_type": "execute_result"
    }
   ],
   "source": [
    "var = diccionario.values()\n",
    "var"
   ]
  },
  {
   "cell_type": "markdown",
   "id": "bc600098-8420-44ac-a3f0-1685121b5ce9",
   "metadata": {},
   "source": [
    "# Convertir tipos de datos"
   ]
  },
  {
   "cell_type": "code",
   "execution_count": 76,
   "id": "c3f4196c-5f92-43d2-9c2c-b537286c90e2",
   "metadata": {},
   "outputs": [
    {
     "data": {
      "text/plain": [
       "['valor', 'valor2', '5', [2, 3], [-2]]"
      ]
     },
     "execution_count": 76,
     "metadata": {},
     "output_type": "execute_result"
    }
   ],
   "source": [
    "list(var)"
   ]
  },
  {
   "cell_type": "code",
   "execution_count": 79,
   "id": "f48e75cf-e5d1-497a-953c-f0d8ca949ce0",
   "metadata": {},
   "outputs": [
    {
     "data": {
      "text/plain": [
       "{'key': 'valor', 'key2': 45, 'key3': '5', 'key4': [2, 3], 5: [-2]}"
      ]
     },
     "execution_count": 79,
     "metadata": {},
     "output_type": "execute_result"
    }
   ],
   "source": [
    "# ¿Un diccionario es mutable? Probémoslo\n",
    "diccionario['key2'] = 45\n",
    "diccionario # En efecto, es mutable"
   ]
  },
  {
   "cell_type": "code",
   "execution_count": 80,
   "id": "dae6602d-0243-4808-90ed-b3f8b5a0871b",
   "metadata": {},
   "outputs": [
    {
     "data": {
      "text/plain": [
       "{'key': 'valor',\n",
       " 'key2': 45,\n",
       " 'key3': '5',\n",
       " 'key4': [2, 3],\n",
       " 5: [-2],\n",
       " 'vámonos': 'a dormir'}"
      ]
     },
     "execution_count": 80,
     "metadata": {},
     "output_type": "execute_result"
    }
   ],
   "source": [
    "diccionario['vámonos'] = 'a dormir' # Simplemente agregamos un nuevo par de datos\n",
    "diccionario"
   ]
  },
  {
   "cell_type": "code",
   "execution_count": 83,
   "id": "b9472f8d-9886-46da-9c54-5edad2b81abd",
   "metadata": {},
   "outputs": [
    {
     "ename": "KeyError",
     "evalue": "'vámonos'",
     "output_type": "error",
     "traceback": [
      "\u001b[31m---------------------------------------------------------------------------\u001b[39m",
      "\u001b[31mKeyError\u001b[39m                                  Traceback (most recent call last)",
      "\u001b[36mCell\u001b[39m\u001b[36m \u001b[39m\u001b[32mIn[83]\u001b[39m\u001b[32m, line 1\u001b[39m\n\u001b[32m----> \u001b[39m\u001b[32m1\u001b[39m \u001b[43mdiccionario\u001b[49m\u001b[43m.\u001b[49m\u001b[43mpop\u001b[49m\u001b[43m(\u001b[49m\u001b[33;43m'\u001b[39;49m\u001b[33;43mvámonos\u001b[39;49m\u001b[33;43m'\u001b[39;49m\u001b[43m)\u001b[49m \u001b[38;5;66;03m# FALTA CORREGIR\u001b[39;00m\n",
      "\u001b[31mKeyError\u001b[39m: 'vámonos'"
     ]
    }
   ],
   "source": [
    "diccionario.pop('vámonos') # FALTA CORREGIR, debería salir 'a dormir'"
   ]
  },
  {
   "cell_type": "code",
   "execution_count": 84,
   "id": "81ace4b0-ec7a-42d9-ad9d-b2f823b6eea9",
   "metadata": {},
   "outputs": [
    {
     "data": {
      "text/plain": [
       "{'key': 'valor', 'key2': 45, 'key3': '5', 'key4': [2, 3], 5: [-2]}"
      ]
     },
     "execution_count": 84,
     "metadata": {},
     "output_type": "execute_result"
    }
   ],
   "source": [
    "diccionario"
   ]
  }
 ],
 "metadata": {
  "kernelspec": {
   "display_name": "Python 3 (ipykernel)",
   "language": "python",
   "name": "python3"
  },
  "language_info": {
   "codemirror_mode": {
    "name": "ipython",
    "version": 3
   },
   "file_extension": ".py",
   "mimetype": "text/x-python",
   "name": "python",
   "nbconvert_exporter": "python",
   "pygments_lexer": "ipython3",
   "version": "3.13.7"
  }
 },
 "nbformat": 4,
 "nbformat_minor": 5
}
