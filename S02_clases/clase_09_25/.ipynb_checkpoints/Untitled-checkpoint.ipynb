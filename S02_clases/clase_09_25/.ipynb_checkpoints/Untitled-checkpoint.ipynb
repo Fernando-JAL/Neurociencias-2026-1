{
 "cells": [
  {
   "cell_type": "code",
   "execution_count": 1,
   "id": "c8f9d768-2d7e-4a6c-8c94-fe3735070cad",
   "metadata": {},
   "outputs": [
    {
     "data": {
      "text/plain": [
       "25"
      ]
     },
     "execution_count": 1,
     "metadata": {},
     "output_type": "execute_result"
    }
   ],
   "source": [
    "# Funciones lambda\n",
    "\n",
    "def funcion(x):\n",
    "    return x**2\n",
    "\n",
    "funcion(5)"
   ]
  },
  {
   "cell_type": "code",
   "execution_count": 3,
   "id": "7f573c9a-0703-4ad7-82d2-7ec1ab246884",
   "metadata": {},
   "outputs": [
    {
     "data": {
      "text/plain": [
       "25"
      ]
     },
     "execution_count": 3,
     "metadata": {},
     "output_type": "execute_result"
    }
   ],
   "source": [
    "func_lambda = lambda x: x**2\n",
    "func_lambda(5)"
   ]
  },
  {
   "cell_type": "code",
   "execution_count": null,
   "id": "703b43c5-26c0-4882-9f1a-0ac892deb248",
   "metadata": {},
   "outputs": [],
   "source": [
    "lista =  []"
   ]
  },
  {
   "cell_type": "code",
   "execution_count": 4,
   "id": "3ddcee2d-4995-48c8-b516-908fb23404d3",
   "metadata": {},
   "outputs": [
    {
     "data": {
      "text/plain": [
       "13"
      ]
     },
     "execution_count": 4,
     "metadata": {},
     "output_type": "execute_result"
    }
   ],
   "source": [
    "lambda2 = lambda x,y: x+y\n",
    "lambda2(5,8) #Dos argumentos"
   ]
  },
  {
   "cell_type": "code",
   "execution_count": 5,
   "id": "5b7f2278-7a3f-48dc-bb6e-baf3acde3371",
   "metadata": {},
   "outputs": [
    {
     "data": {
      "text/plain": [
       "(3, -2)"
      ]
     },
     "execution_count": 5,
     "metadata": {},
     "output_type": "execute_result"
    }
   ],
   "source": [
    "fun_lma = lambda a,b,c: (a+b, a-c) #Que regrese varias cosas\n",
    "fun_lma(1,2,3)"
   ]
  },
  {
   "cell_type": "code",
   "execution_count": 8,
   "id": "02edbb21-7813-4868-92be-189b15dd083c",
   "metadata": {},
   "outputs": [],
   "source": [
    "lista = [(1,2), (5,6), (-4,8), (3,1)]\n",
    "lista.sort(reverse = True)"
   ]
  },
  {
   "cell_type": "code",
   "execution_count": 9,
   "id": "2b17d95e-c7aa-4f6d-b445-0e78d0d60e55",
   "metadata": {},
   "outputs": [
    {
     "data": {
      "text/plain": [
       "[(5, 6), (3, 1), (1, 2), (-4, 8)]"
      ]
     },
     "execution_count": 9,
     "metadata": {},
     "output_type": "execute_result"
    }
   ],
   "source": [
    "lista"
   ]
  },
  {
   "cell_type": "code",
   "execution_count": 14,
   "id": "1c1e030e-7a1f-4e6f-b966-ae520d780338",
   "metadata": {},
   "outputs": [],
   "source": [
    "def funcion(x):\n",
    "    return x[1]\n",
    "lista.sort(key=funcion, reverse = True) #key aplica una funcion y en base a eso ordena"
   ]
  },
  {
   "cell_type": "code",
   "execution_count": 15,
   "id": "e314903d-90a6-4f78-99ea-3cecd83c1a63",
   "metadata": {},
   "outputs": [
    {
     "data": {
      "text/plain": [
       "[(-4, 8), (5, 6), (1, 2), (3, 1)]"
      ]
     },
     "execution_count": 15,
     "metadata": {},
     "output_type": "execute_result"
    }
   ],
   "source": [
    "lista"
   ]
  },
  {
   "cell_type": "code",
   "execution_count": null,
   "id": "d14c3570-2e12-4671-b0c1-9bde510845c7",
   "metadata": {},
   "outputs": [],
   "source": []
  }
 ],
 "metadata": {
  "kernelspec": {
   "display_name": "Python 3 (ipykernel)",
   "language": "python",
   "name": "python3"
  },
  "language_info": {
   "codemirror_mode": {
    "name": "ipython",
    "version": 3
   },
   "file_extension": ".py",
   "mimetype": "text/x-python",
   "name": "python",
   "nbconvert_exporter": "python",
   "pygments_lexer": "ipython3",
   "version": "3.10.4"
  }
 },
 "nbformat": 4,
 "nbformat_minor": 5
}
