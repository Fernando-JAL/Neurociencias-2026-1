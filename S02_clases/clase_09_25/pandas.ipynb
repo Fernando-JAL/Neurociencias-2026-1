{
 "cells": [
  {
   "cell_type": "markdown",
   "id": "fda314d0-54bc-49f0-99d1-2eebd148ff89",
   "metadata": {},
   "source": [
    "### Pandas es para series y dataframes"
   ]
  },
  {
   "cell_type": "code",
   "execution_count": 1,
   "id": "90e049a1-4599-48ab-a733-573bd31621ab",
   "metadata": {},
   "outputs": [],
   "source": [
    "import pandas as pd "
   ]
  },
  {
   "cell_type": "code",
   "execution_count": 2,
   "id": "52c79079-d120-42cb-95f3-5e17ef74d4d2",
   "metadata": {},
   "outputs": [
    {
     "data": {
      "text/plain": [
       "0       4\n",
       "1       5\n",
       "2       6\n",
       "3       7\n",
       "4       8\n",
       "5       9\n",
       "6    casa\n",
       "dtype: object"
      ]
     },
     "execution_count": 2,
     "metadata": {},
     "output_type": "execute_result"
    }
   ],
   "source": [
    "pd.Series([4,5,6,7,8,9,'casa']) # primera columna es el índice"
   ]
  },
  {
   "cell_type": "code",
   "execution_count": 3,
   "id": "430d0c00-9231-41a7-ab30-6aa782720d8a",
   "metadata": {},
   "outputs": [
    {
     "data": {
      "text/plain": [
       "0    4\n",
       "1    5\n",
       "2    6\n",
       "3    7\n",
       "4    8\n",
       "5    9\n",
       "dtype: int64"
      ]
     },
     "execution_count": 3,
     "metadata": {},
     "output_type": "execute_result"
    }
   ],
   "source": [
    "pd.Series([4,5,6,7,8,9])"
   ]
  },
  {
   "cell_type": "code",
   "execution_count": 5,
   "id": "b1a39341-357e-4fbc-b237-f9342dd4fbf1",
   "metadata": {},
   "outputs": [
    {
     "data": {
      "text/plain": [
       "0    4.0\n",
       "1    5.0\n",
       "2    6.0\n",
       "3    7.0\n",
       "4    8.0\n",
       "5    9.0\n",
       "dtype: float64"
      ]
     },
     "execution_count": 5,
     "metadata": {},
     "output_type": "execute_result"
    }
   ],
   "source": [
    "pd.Series([4,5,6,7,8,9.]) # si hay al menos un tipo de dato  es dif va a convertirlos en ese tipo de datos"
   ]
  },
  {
   "cell_type": "code",
   "execution_count": 7,
   "id": "2401070c-6ac2-4ff9-97fe-ecc22d75e0cc",
   "metadata": {},
   "outputs": [
    {
     "data": {
      "text/plain": [
       "a    50\n",
       "b    51\n",
       "c    52\n",
       "d    53\n",
       "e    54\n",
       "f    55\n",
       "dtype: int64"
      ]
     },
     "execution_count": 7,
     "metadata": {},
     "output_type": "execute_result"
    }
   ],
   "source": [
    "pd.Series(range(50,56),index=['a','b','c','d','e','f'])"
   ]
  },
  {
   "cell_type": "code",
   "execution_count": 10,
   "id": "436bc0ce-957d-4a05-9400-f8581002c707",
   "metadata": {},
   "outputs": [
    {
     "data": {
      "text/plain": [
       "np.int64(6)"
      ]
     },
     "execution_count": 10,
     "metadata": {},
     "output_type": "execute_result"
    }
   ],
   "source": [
    "serie=pd.Series([5,6,7,8,9],index=['a','b','c','d','e']) # para hacer slicing tienes que especificar el indice\n",
    "serie['b']"
   ]
  },
  {
   "cell_type": "code",
   "execution_count": null,
   "id": "34994be1-8ce4-45a5-8553-9a6034115df1",
   "metadata": {},
   "outputs": [],
   "source": []
  }
 ],
 "metadata": {
  "kernelspec": {
   "display_name": "Python 3 (ipykernel)",
   "language": "python",
   "name": "python3"
  },
  "language_info": {
   "codemirror_mode": {
    "name": "ipython",
    "version": 3
   },
   "file_extension": ".py",
   "mimetype": "text/x-python",
   "name": "python",
   "nbconvert_exporter": "python",
   "pygments_lexer": "ipython3",
   "version": "3.11.1"
  }
 },
 "nbformat": 4,
 "nbformat_minor": 5
}
