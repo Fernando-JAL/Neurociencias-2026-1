{
 "cells": [
  {
   "cell_type": "code",
   "execution_count": 1,
   "id": "a21cb002-acfd-4c76-930c-b58001cec0dd",
   "metadata": {},
   "outputs": [
    {
     "data": {
      "text/plain": [
       "25"
      ]
     },
     "execution_count": 1,
     "metadata": {},
     "output_type": "execute_result"
    }
   ],
   "source": [
    "# funciones lambda\n",
    "def funcion(x):\n",
    "    return x**2\n",
    "funcion(5)"
   ]
  },
  {
   "cell_type": "code",
   "execution_count": 4,
   "id": "87c00d87-e931-4ad5-b4ce-ef6a91634a2e",
   "metadata": {},
   "outputs": [],
   "source": [
    "func_lambda = lambda x: x**2"
   ]
  },
  {
   "cell_type": "code",
   "execution_count": 5,
   "id": "2b800a2b-df67-466b-a880-46644f8e7c05",
   "metadata": {},
   "outputs": [
    {
     "data": {
      "text/plain": [
       "25"
      ]
     },
     "execution_count": 5,
     "metadata": {},
     "output_type": "execute_result"
    }
   ],
   "source": [
    "func_lambda(5)"
   ]
  },
  {
   "cell_type": "code",
   "execution_count": 7,
   "id": "cbb22734-9361-45f8-a78f-2296dfee5980",
   "metadata": {},
   "outputs": [
    {
     "data": {
      "text/plain": [
       "'airam eva'"
      ]
     },
     "execution_count": 7,
     "metadata": {},
     "output_type": "execute_result"
    }
   ],
   "source": [
    "def funcion_str(string):\n",
    "    return string[::-1]\n",
    "funcion_str('ave maria')"
   ]
  },
  {
   "cell_type": "code",
   "execution_count": 8,
   "id": "cf843004-a8db-4c5b-b5df-6ca43e9631f7",
   "metadata": {},
   "outputs": [
    {
     "data": {
      "text/plain": [
       "'airam eva'"
      ]
     },
     "execution_count": 8,
     "metadata": {},
     "output_type": "execute_result"
    }
   ],
   "source": [
    "func_str = lambda string: string[::-1]\n",
    "func_str (\"ave maria\")"
   ]
  },
  {
   "cell_type": "code",
   "execution_count": 9,
   "id": "a35fef23-dd89-4a96-b3f6-8205f1a115e1",
   "metadata": {},
   "outputs": [
    {
     "data": {
      "text/plain": [
       "13"
      ]
     },
     "execution_count": 9,
     "metadata": {},
     "output_type": "execute_result"
    }
   ],
   "source": [
    "def funcion(x,y):\n",
    "    return x + y\n",
    "funcion(5,8)"
   ]
  },
  {
   "cell_type": "code",
   "execution_count": 10,
   "id": "39a293f8-5400-416f-a46d-2ef46199ca65",
   "metadata": {},
   "outputs": [
    {
     "data": {
      "text/plain": [
       "13"
      ]
     },
     "execution_count": 10,
     "metadata": {},
     "output_type": "execute_result"
    }
   ],
   "source": [
    "fun_lda = lambda x,y: x+y\n",
    "fun_lda(5,8)"
   ]
  },
  {
   "cell_type": "code",
   "execution_count": 11,
   "id": "6233f991-f824-4a76-82fa-93d018a823cf",
   "metadata": {},
   "outputs": [
    {
     "data": {
      "text/plain": [
       "(3, -2)"
      ]
     },
     "execution_count": 11,
     "metadata": {},
     "output_type": "execute_result"
    }
   ],
   "source": [
    "def funcion(a,b,c):\n",
    "    return a+b, a-c\n",
    "funcion(1,2,3)"
   ]
  },
  {
   "cell_type": "code",
   "execution_count": 12,
   "id": "736118d6-5359-431e-a313-652d3330fa31",
   "metadata": {},
   "outputs": [
    {
     "data": {
      "text/plain": [
       "tuple"
      ]
     },
     "execution_count": 12,
     "metadata": {},
     "output_type": "execute_result"
    }
   ],
   "source": [
    "type(funcion(1,2,3))"
   ]
  },
  {
   "cell_type": "code",
   "execution_count": 13,
   "id": "3034b963-6b90-4e6d-b8d4-4d97861e6de2",
   "metadata": {},
   "outputs": [
    {
     "data": {
      "text/plain": [
       "(3, -2)"
      ]
     },
     "execution_count": 13,
     "metadata": {},
     "output_type": "execute_result"
    }
   ],
   "source": [
    "fun_lda = lambda a,b,c: (a+b, a-c)\n",
    "fun_lda(1,2,3)"
   ]
  },
  {
   "cell_type": "code",
   "execution_count": 14,
   "id": "9b5dc434-ed7c-4e84-86d6-85ca73abb99b",
   "metadata": {},
   "outputs": [],
   "source": [
    "lista = [(1,8), (7,5), (12,-52), (2,0)]\n",
    "lista.sort()"
   ]
  },
  {
   "cell_type": "code",
   "execution_count": 15,
   "id": "2038e925-0c58-4234-aafe-8c5558113b5f",
   "metadata": {},
   "outputs": [
    {
     "data": {
      "text/plain": [
       "[(1, 8), (2, 0), (7, 5), (12, -52)]"
      ]
     },
     "execution_count": 15,
     "metadata": {},
     "output_type": "execute_result"
    }
   ],
   "source": [
    "lista"
   ]
  },
  {
   "cell_type": "code",
   "execution_count": 16,
   "id": "75ede794-7da7-4814-ad65-249802a245bc",
   "metadata": {},
   "outputs": [],
   "source": [
    "lista = [(1,8), (7,5), (12,-52), (2,0)]\n",
    "lista.sort(reverse = True)"
   ]
  },
  {
   "cell_type": "code",
   "execution_count": 17,
   "id": "f8cbb650-20e6-470e-b94a-baae0688a66c",
   "metadata": {},
   "outputs": [
    {
     "data": {
      "text/plain": [
       "[(12, -52), (7, 5), (2, 0), (1, 8)]"
      ]
     },
     "execution_count": 17,
     "metadata": {},
     "output_type": "execute_result"
    }
   ],
   "source": [
    "lista"
   ]
  },
  {
   "cell_type": "code",
   "execution_count": 18,
   "id": "14e8f8b7-c71b-49fa-adb9-3a4ea5c04382",
   "metadata": {},
   "outputs": [],
   "source": [
    "def funcion(x):\n",
    "    return x[0]\n",
    "lista = lista = [(1,8), (7,5), (12,-52), (2,0)]\n",
    "lista.sort(key=funcion, reverse=True)"
   ]
  },
  {
   "cell_type": "code",
   "execution_count": 19,
   "id": "77d4d151-131a-47da-9676-ca3fa47cd99b",
   "metadata": {},
   "outputs": [
    {
     "data": {
      "text/plain": [
       "[(12, -52), (7, 5), (2, 0), (1, 8)]"
      ]
     },
     "execution_count": 19,
     "metadata": {},
     "output_type": "execute_result"
    }
   ],
   "source": [
    "lista"
   ]
  },
  {
   "cell_type": "code",
   "execution_count": 20,
   "id": "a9ccf23b-fa5b-490a-bd96-59f93e439579",
   "metadata": {},
   "outputs": [],
   "source": [
    "def funcion(x):\n",
    "    return x[1]\n",
    "lista = lista = [(1,8), (7,5), (12,-52), (2,0)]\n",
    "lista.sort(key=funcion, reverse=True)"
   ]
  },
  {
   "cell_type": "code",
   "execution_count": 21,
   "id": "c47f90a4-a585-4b50-b3db-7b87809c897c",
   "metadata": {},
   "outputs": [
    {
     "data": {
      "text/plain": [
       "[(1, 8), (7, 5), (2, 0), (12, -52)]"
      ]
     },
     "execution_count": 21,
     "metadata": {},
     "output_type": "execute_result"
    }
   ],
   "source": [
    "lista"
   ]
  },
  {
   "cell_type": "code",
   "execution_count": 22,
   "id": "a0f78572-29ee-4cbe-9842-bcc9950d70ce",
   "metadata": {},
   "outputs": [],
   "source": [
    "lista.sort(key=lambda x: x[1], reverse=True)"
   ]
  },
  {
   "cell_type": "code",
   "execution_count": 23,
   "id": "0f4ed31a-8358-4908-a785-fff124bbae79",
   "metadata": {},
   "outputs": [
    {
     "data": {
      "text/plain": [
       "[(1, 8), (7, 5), (2, 0), (12, -52)]"
      ]
     },
     "execution_count": 23,
     "metadata": {},
     "output_type": "execute_result"
    }
   ],
   "source": [
    "lista"
   ]
  },
  {
   "cell_type": "code",
   "execution_count": 28,
   "id": "9d174aa0-abb9-41d9-9f03-db2af115c20c",
   "metadata": {},
   "outputs": [],
   "source": [
    "import pandas as pd\n",
    "import numpy as np"
   ]
  },
  {
   "cell_type": "code",
   "execution_count": 29,
   "id": "c351e65a-60a1-47f2-8d9e-96b07e0cca37",
   "metadata": {},
   "outputs": [],
   "source": [
    "sujetos = ['S'+str(i).zfill(2) for i in range(4)]\n",
    "generos = ['M','F']\n",
    "condición = ['control','experimental']\n",
    "region = ['hipocampo','cortex prefrontal','amigdala']\n",
    "neurotransmisores =['dopamina','serotonina']\n",
    "longitud = 200\n",
    "variables = [sujetos, generos, condición, region, neurotransmisores] \n",
    "data = []\n",
    "for variable in variables:\n",
    "    opciones = np.random.randint(len(variable),size=longitud)\n",
    "    data.append([variable[i]for i in opciones])\n",
    "df = pd.DataFrame(data).transpose()\n",
    "df.columns = ['sujetos','generos2','condición2','region2','NT']"
   ]
  },
  {
   "cell_type": "code",
   "execution_count": 30,
   "id": "842f0e46-c4a8-4d15-987a-989e5e4b9439",
   "metadata": {},
   "outputs": [
    {
     "data": {
      "text/html": [
       "<div>\n",
       "<style scoped>\n",
       "    .dataframe tbody tr th:only-of-type {\n",
       "        vertical-align: middle;\n",
       "    }\n",
       "\n",
       "    .dataframe tbody tr th {\n",
       "        vertical-align: top;\n",
       "    }\n",
       "\n",
       "    .dataframe thead th {\n",
       "        text-align: right;\n",
       "    }\n",
       "</style>\n",
       "<table border=\"1\" class=\"dataframe\">\n",
       "  <thead>\n",
       "    <tr style=\"text-align: right;\">\n",
       "      <th></th>\n",
       "      <th>sujetos</th>\n",
       "      <th>generos2</th>\n",
       "      <th>condición2</th>\n",
       "      <th>region2</th>\n",
       "      <th>NT</th>\n",
       "    </tr>\n",
       "  </thead>\n",
       "  <tbody>\n",
       "    <tr>\n",
       "      <th>0</th>\n",
       "      <td>S03</td>\n",
       "      <td>F</td>\n",
       "      <td>control</td>\n",
       "      <td>amigdala</td>\n",
       "      <td>dopamina</td>\n",
       "    </tr>\n",
       "    <tr>\n",
       "      <th>1</th>\n",
       "      <td>S03</td>\n",
       "      <td>F</td>\n",
       "      <td>experimental</td>\n",
       "      <td>hipocampo</td>\n",
       "      <td>serotonina</td>\n",
       "    </tr>\n",
       "    <tr>\n",
       "      <th>2</th>\n",
       "      <td>S03</td>\n",
       "      <td>F</td>\n",
       "      <td>control</td>\n",
       "      <td>hipocampo</td>\n",
       "      <td>serotonina</td>\n",
       "    </tr>\n",
       "    <tr>\n",
       "      <th>3</th>\n",
       "      <td>S01</td>\n",
       "      <td>M</td>\n",
       "      <td>experimental</td>\n",
       "      <td>cortex prefrontal</td>\n",
       "      <td>dopamina</td>\n",
       "    </tr>\n",
       "    <tr>\n",
       "      <th>4</th>\n",
       "      <td>S02</td>\n",
       "      <td>F</td>\n",
       "      <td>experimental</td>\n",
       "      <td>cortex prefrontal</td>\n",
       "      <td>dopamina</td>\n",
       "    </tr>\n",
       "    <tr>\n",
       "      <th>...</th>\n",
       "      <td>...</td>\n",
       "      <td>...</td>\n",
       "      <td>...</td>\n",
       "      <td>...</td>\n",
       "      <td>...</td>\n",
       "    </tr>\n",
       "    <tr>\n",
       "      <th>195</th>\n",
       "      <td>S01</td>\n",
       "      <td>F</td>\n",
       "      <td>experimental</td>\n",
       "      <td>amigdala</td>\n",
       "      <td>serotonina</td>\n",
       "    </tr>\n",
       "    <tr>\n",
       "      <th>196</th>\n",
       "      <td>S03</td>\n",
       "      <td>M</td>\n",
       "      <td>experimental</td>\n",
       "      <td>hipocampo</td>\n",
       "      <td>dopamina</td>\n",
       "    </tr>\n",
       "    <tr>\n",
       "      <th>197</th>\n",
       "      <td>S00</td>\n",
       "      <td>F</td>\n",
       "      <td>control</td>\n",
       "      <td>hipocampo</td>\n",
       "      <td>serotonina</td>\n",
       "    </tr>\n",
       "    <tr>\n",
       "      <th>198</th>\n",
       "      <td>S03</td>\n",
       "      <td>F</td>\n",
       "      <td>control</td>\n",
       "      <td>amigdala</td>\n",
       "      <td>dopamina</td>\n",
       "    </tr>\n",
       "    <tr>\n",
       "      <th>199</th>\n",
       "      <td>S03</td>\n",
       "      <td>M</td>\n",
       "      <td>control</td>\n",
       "      <td>hipocampo</td>\n",
       "      <td>dopamina</td>\n",
       "    </tr>\n",
       "  </tbody>\n",
       "</table>\n",
       "<p>200 rows × 5 columns</p>\n",
       "</div>"
      ],
      "text/plain": [
       "    sujetos generos2    condición2            region2          NT\n",
       "0       S03        F       control           amigdala    dopamina\n",
       "1       S03        F  experimental          hipocampo  serotonina\n",
       "2       S03        F       control          hipocampo  serotonina\n",
       "3       S01        M  experimental  cortex prefrontal    dopamina\n",
       "4       S02        F  experimental  cortex prefrontal    dopamina\n",
       "..      ...      ...           ...                ...         ...\n",
       "195     S01        F  experimental           amigdala  serotonina\n",
       "196     S03        M  experimental          hipocampo    dopamina\n",
       "197     S00        F       control          hipocampo  serotonina\n",
       "198     S03        F       control           amigdala    dopamina\n",
       "199     S03        M       control          hipocampo    dopamina\n",
       "\n",
       "[200 rows x 5 columns]"
      ]
     },
     "execution_count": 30,
     "metadata": {},
     "output_type": "execute_result"
    }
   ],
   "source": [
    "df"
   ]
  },
  {
   "cell_type": "code",
   "execution_count": 31,
   "id": "d173b0e7-d843-42ff-ae64-1a440f329d51",
   "metadata": {},
   "outputs": [
    {
     "data": {
      "text/html": [
       "<div>\n",
       "<style scoped>\n",
       "    .dataframe tbody tr th:only-of-type {\n",
       "        vertical-align: middle;\n",
       "    }\n",
       "\n",
       "    .dataframe tbody tr th {\n",
       "        vertical-align: top;\n",
       "    }\n",
       "\n",
       "    .dataframe thead th {\n",
       "        text-align: right;\n",
       "    }\n",
       "</style>\n",
       "<table border=\"1\" class=\"dataframe\">\n",
       "  <thead>\n",
       "    <tr style=\"text-align: right;\">\n",
       "      <th></th>\n",
       "      <th>sujetos</th>\n",
       "      <th>generos2</th>\n",
       "      <th>condición2</th>\n",
       "      <th>region2</th>\n",
       "      <th>NT</th>\n",
       "    </tr>\n",
       "  </thead>\n",
       "  <tbody>\n",
       "    <tr>\n",
       "      <th>0</th>\n",
       "      <td>S03</td>\n",
       "      <td>F</td>\n",
       "      <td>control</td>\n",
       "      <td>amigdala</td>\n",
       "      <td>dopamina</td>\n",
       "    </tr>\n",
       "    <tr>\n",
       "      <th>1</th>\n",
       "      <td>S03</td>\n",
       "      <td>F</td>\n",
       "      <td>experimental</td>\n",
       "      <td>hipocampo</td>\n",
       "      <td>serotonina</td>\n",
       "    </tr>\n",
       "    <tr>\n",
       "      <th>2</th>\n",
       "      <td>S03</td>\n",
       "      <td>F</td>\n",
       "      <td>control</td>\n",
       "      <td>hipocampo</td>\n",
       "      <td>serotonina</td>\n",
       "    </tr>\n",
       "    <tr>\n",
       "      <th>3</th>\n",
       "      <td>S01</td>\n",
       "      <td>M</td>\n",
       "      <td>experimental</td>\n",
       "      <td>cortex prefrontal</td>\n",
       "      <td>dopamina</td>\n",
       "    </tr>\n",
       "    <tr>\n",
       "      <th>4</th>\n",
       "      <td>S02</td>\n",
       "      <td>F</td>\n",
       "      <td>experimental</td>\n",
       "      <td>cortex prefrontal</td>\n",
       "      <td>dopamina</td>\n",
       "    </tr>\n",
       "  </tbody>\n",
       "</table>\n",
       "</div>"
      ],
      "text/plain": [
       "  sujetos generos2    condición2            region2          NT\n",
       "0     S03        F       control           amigdala    dopamina\n",
       "1     S03        F  experimental          hipocampo  serotonina\n",
       "2     S03        F       control          hipocampo  serotonina\n",
       "3     S01        M  experimental  cortex prefrontal    dopamina\n",
       "4     S02        F  experimental  cortex prefrontal    dopamina"
      ]
     },
     "execution_count": 31,
     "metadata": {},
     "output_type": "execute_result"
    }
   ],
   "source": [
    "df.head()"
   ]
  },
  {
   "cell_type": "code",
   "execution_count": 36,
   "id": "b0d5a337-2664-4abb-8e0a-59dfee32d575",
   "metadata": {},
   "outputs": [
    {
     "data": {
      "text/plain": [
       "0               AMIGDALA\n",
       "1              HIPOCAMPO\n",
       "2              HIPOCAMPO\n",
       "3      CORTEX PREFRONTAL\n",
       "4      CORTEX PREFRONTAL\n",
       "             ...        \n",
       "195             AMIGDALA\n",
       "196            HIPOCAMPO\n",
       "197            HIPOCAMPO\n",
       "198             AMIGDALA\n",
       "199            HIPOCAMPO\n",
       "Name: region2, Length: 200, dtype: object"
      ]
     },
     "execution_count": 36,
     "metadata": {},
     "output_type": "execute_result"
    }
   ],
   "source": [
    "def funcion(string):\n",
    "    return string.upper()\n",
    "df['region2'].apply(funcion)"
   ]
  },
  {
   "cell_type": "code",
   "execution_count": 37,
   "id": "1980769e-0d5a-4faf-b6a5-1d9c14dbb792",
   "metadata": {},
   "outputs": [
    {
     "data": {
      "text/plain": [
       "0               AMIGDALA\n",
       "1              HIPOCAMPO\n",
       "2              HIPOCAMPO\n",
       "3      CORTEX PREFRONTAL\n",
       "4      CORTEX PREFRONTAL\n",
       "             ...        \n",
       "195             AMIGDALA\n",
       "196            HIPOCAMPO\n",
       "197            HIPOCAMPO\n",
       "198             AMIGDALA\n",
       "199            HIPOCAMPO\n",
       "Name: region2, Length: 200, dtype: object"
      ]
     },
     "execution_count": 37,
     "metadata": {},
     "output_type": "execute_result"
    }
   ],
   "source": [
    "def funcion(string):\n",
    "    return string.upper()\n",
    "df['region2'].apply(lambda string: string.upper())"
   ]
  },
  {
   "cell_type": "code",
   "execution_count": 41,
   "id": "4351c1bd-fb57-4928-8c53-a342f381d47c",
   "metadata": {},
   "outputs": [
    {
     "data": {
      "text/html": [
       "<div>\n",
       "<style scoped>\n",
       "    .dataframe tbody tr th:only-of-type {\n",
       "        vertical-align: middle;\n",
       "    }\n",
       "\n",
       "    .dataframe tbody tr th {\n",
       "        vertical-align: top;\n",
       "    }\n",
       "\n",
       "    .dataframe thead th {\n",
       "        text-align: right;\n",
       "    }\n",
       "</style>\n",
       "<table border=\"1\" class=\"dataframe\">\n",
       "  <thead>\n",
       "    <tr style=\"text-align: right;\">\n",
       "      <th></th>\n",
       "      <th>region2</th>\n",
       "      <th>condición2</th>\n",
       "      <th>NT</th>\n",
       "    </tr>\n",
       "  </thead>\n",
       "  <tbody>\n",
       "    <tr>\n",
       "      <th>0</th>\n",
       "      <td>AMIGDALA</td>\n",
       "      <td>CONTROL</td>\n",
       "      <td>DOPAMINA</td>\n",
       "    </tr>\n",
       "    <tr>\n",
       "      <th>1</th>\n",
       "      <td>HIPOCAMPO</td>\n",
       "      <td>EXPERIMENTAL</td>\n",
       "      <td>SEROTONINA</td>\n",
       "    </tr>\n",
       "    <tr>\n",
       "      <th>2</th>\n",
       "      <td>HIPOCAMPO</td>\n",
       "      <td>CONTROL</td>\n",
       "      <td>SEROTONINA</td>\n",
       "    </tr>\n",
       "    <tr>\n",
       "      <th>3</th>\n",
       "      <td>CORTEX PREFRONTAL</td>\n",
       "      <td>EXPERIMENTAL</td>\n",
       "      <td>DOPAMINA</td>\n",
       "    </tr>\n",
       "    <tr>\n",
       "      <th>4</th>\n",
       "      <td>CORTEX PREFRONTAL</td>\n",
       "      <td>EXPERIMENTAL</td>\n",
       "      <td>DOPAMINA</td>\n",
       "    </tr>\n",
       "    <tr>\n",
       "      <th>...</th>\n",
       "      <td>...</td>\n",
       "      <td>...</td>\n",
       "      <td>...</td>\n",
       "    </tr>\n",
       "    <tr>\n",
       "      <th>195</th>\n",
       "      <td>AMIGDALA</td>\n",
       "      <td>EXPERIMENTAL</td>\n",
       "      <td>SEROTONINA</td>\n",
       "    </tr>\n",
       "    <tr>\n",
       "      <th>196</th>\n",
       "      <td>HIPOCAMPO</td>\n",
       "      <td>EXPERIMENTAL</td>\n",
       "      <td>DOPAMINA</td>\n",
       "    </tr>\n",
       "    <tr>\n",
       "      <th>197</th>\n",
       "      <td>HIPOCAMPO</td>\n",
       "      <td>CONTROL</td>\n",
       "      <td>SEROTONINA</td>\n",
       "    </tr>\n",
       "    <tr>\n",
       "      <th>198</th>\n",
       "      <td>AMIGDALA</td>\n",
       "      <td>CONTROL</td>\n",
       "      <td>DOPAMINA</td>\n",
       "    </tr>\n",
       "    <tr>\n",
       "      <th>199</th>\n",
       "      <td>HIPOCAMPO</td>\n",
       "      <td>CONTROL</td>\n",
       "      <td>DOPAMINA</td>\n",
       "    </tr>\n",
       "  </tbody>\n",
       "</table>\n",
       "<p>200 rows × 3 columns</p>\n",
       "</div>"
      ],
      "text/plain": [
       "               region2    condición2          NT\n",
       "0             AMIGDALA       CONTROL    DOPAMINA\n",
       "1            HIPOCAMPO  EXPERIMENTAL  SEROTONINA\n",
       "2            HIPOCAMPO       CONTROL  SEROTONINA\n",
       "3    CORTEX PREFRONTAL  EXPERIMENTAL    DOPAMINA\n",
       "4    CORTEX PREFRONTAL  EXPERIMENTAL    DOPAMINA\n",
       "..                 ...           ...         ...\n",
       "195           AMIGDALA  EXPERIMENTAL  SEROTONINA\n",
       "196          HIPOCAMPO  EXPERIMENTAL    DOPAMINA\n",
       "197          HIPOCAMPO       CONTROL  SEROTONINA\n",
       "198           AMIGDALA       CONTROL    DOPAMINA\n",
       "199          HIPOCAMPO       CONTROL    DOPAMINA\n",
       "\n",
       "[200 rows x 3 columns]"
      ]
     },
     "execution_count": 41,
     "metadata": {},
     "output_type": "execute_result"
    }
   ],
   "source": [
    "df[[\"region2\", \"condición2\", \"NT\"]].apply(lambda serie :[string.upper() for string in serie])"
   ]
  }
 ],
 "metadata": {
  "kernelspec": {
   "display_name": "Python 3 (ipykernel)",
   "language": "python",
   "name": "python3"
  },
  "language_info": {
   "codemirror_mode": {
    "name": "ipython",
    "version": 3
   },
   "file_extension": ".py",
   "mimetype": "text/x-python",
   "name": "python",
   "nbconvert_exporter": "python",
   "pygments_lexer": "ipython3",
   "version": "3.11.1"
  }
 },
 "nbformat": 4,
 "nbformat_minor": 5
}
