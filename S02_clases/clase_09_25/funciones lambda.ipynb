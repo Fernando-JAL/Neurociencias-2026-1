{
 "cells": [
  {
   "cell_type": "code",
   "execution_count": 3,
   "id": "bc7a3a02-9d06-46e4-95e7-7aae8310be92",
   "metadata": {},
   "outputs": [
    {
     "data": {
      "text/plain": [
       "25"
      ]
     },
     "execution_count": 3,
     "metadata": {},
     "output_type": "execute_result"
    }
   ],
   "source": [
    "# funciones Lambda \n",
    "\n",
    "def funcion(x):\n",
    "    return x**2\n",
    "\n",
    "funcion(5)"
   ]
  },
  {
   "cell_type": "code",
   "execution_count": 4,
   "id": "a6699049-b1de-4808-898d-d8c64947ee8e",
   "metadata": {},
   "outputs": [
    {
     "data": {
      "text/plain": [
       "25"
      ]
     },
     "execution_count": 4,
     "metadata": {},
     "output_type": "execute_result"
    }
   ],
   "source": [
    "func_lambda = lambda x: x**2 \n",
    "func_lambda(5)"
   ]
  },
  {
   "cell_type": "code",
   "execution_count": 8,
   "id": "9dd11461-a8b5-4b50-963d-c5caa0c5a6ad",
   "metadata": {},
   "outputs": [
    {
     "data": {
      "text/plain": [
       "'airam eva'"
      ]
     },
     "execution_count": 8,
     "metadata": {},
     "output_type": "execute_result"
    }
   ],
   "source": [
    "def funcion_str(string):\n",
    "    return string[:: -1]\n",
    "funcion_str('ave maria')"
   ]
  },
  {
   "cell_type": "code",
   "execution_count": 6,
   "id": "19fe2a8c-b01a-4abd-92ec-9963245a4d75",
   "metadata": {},
   "outputs": [
    {
     "data": {
      "text/plain": [
       "'airam eva'"
      ]
     },
     "execution_count": 6,
     "metadata": {},
     "output_type": "execute_result"
    }
   ],
   "source": [
    "func_str = lambda string: string [::-1]\n",
    "func_str(\"ave maria\")"
   ]
  },
  {
   "cell_type": "code",
   "execution_count": null,
   "id": "e9c82bc5-aa6e-4312-bd9c-60fafa97aa12",
   "metadata": {},
   "outputs": [],
   "source": [
    "lista = [(1,)]"
   ]
  },
  {
   "cell_type": "code",
   "execution_count": 9,
   "id": "f2cd4d37-a08c-497b-9ea2-37aa6a4b1527",
   "metadata": {},
   "outputs": [
    {
     "data": {
      "text/plain": [
       "13"
      ]
     },
     "execution_count": 9,
     "metadata": {},
     "output_type": "execute_result"
    }
   ],
   "source": [
    "def funcion(x,y): \n",
    "    return x + y \n",
    "funcion(5,8)"
   ]
  },
  {
   "cell_type": "code",
   "execution_count": 10,
   "id": "3ce972e6-56fb-4a11-acc0-9a3b19e286ad",
   "metadata": {},
   "outputs": [
    {
     "data": {
      "text/plain": [
       "13"
      ]
     },
     "execution_count": 10,
     "metadata": {},
     "output_type": "execute_result"
    }
   ],
   "source": [
    "fun_lda = lambda x,y : x + y \n",
    "fun_lda(5, 8)"
   ]
  },
  {
   "cell_type": "code",
   "execution_count": 11,
   "id": "f87403d4-859c-4500-888f-6fe4b722c67a",
   "metadata": {},
   "outputs": [
    {
     "data": {
      "text/plain": [
       "(3, -2)"
      ]
     },
     "execution_count": 11,
     "metadata": {},
     "output_type": "execute_result"
    }
   ],
   "source": [
    "def funcion (a, b, c) :\n",
    "    return a+b, a-c \n",
    "funcion (1,2,3) "
   ]
  },
  {
   "cell_type": "code",
   "execution_count": 14,
   "id": "93ecce47-f0bd-4902-8943-cee92d753cd3",
   "metadata": {},
   "outputs": [
    {
     "data": {
      "text/plain": [
       "(3, -2)"
      ]
     },
     "execution_count": 14,
     "metadata": {},
     "output_type": "execute_result"
    }
   ],
   "source": [
    "fun_lda = lambda a,b,c: (a+b, a-c)\n",
    "fun_lda(1,2,3)"
   ]
  },
  {
   "cell_type": "code",
   "execution_count": 20,
   "id": "f6874ced-053d-48ea-be55-910271d4d3b7",
   "metadata": {},
   "outputs": [
    {
     "data": {
      "text/plain": [
       "[(12, -52), (7, 5), (2, 0), (1, 8)]"
      ]
     },
     "execution_count": 20,
     "metadata": {},
     "output_type": "execute_result"
    }
   ],
   "source": [
    "lista = [(1, 8), (7, 5), (12, -52), (2, 0)]\n",
    "\n",
    "lista.sort(reverse= True)\n",
    "lista"
   ]
  },
  {
   "cell_type": "code",
   "execution_count": 24,
   "id": "82599e33-23b5-409c-8915-8f4d1fcad1de",
   "metadata": {},
   "outputs": [
    {
     "data": {
      "text/plain": [
       "[(1, 8), (7, 5), (2, 0), (12, -52)]"
      ]
     },
     "execution_count": 24,
     "metadata": {},
     "output_type": "execute_result"
    }
   ],
   "source": [
    "def funcion (x): \n",
    "    return x[1]\n",
    "\n",
    "lista = [(1, 8), (7, 5), (12, -52), (2, 0)]\n",
    "\n",
    "lista.sort(key= funcion, reverse= True)\n",
    "lista"
   ]
  },
  {
   "cell_type": "code",
   "execution_count": 25,
   "id": "47462e36-57b5-4d3f-b1b8-581dce5d1bd0",
   "metadata": {},
   "outputs": [
    {
     "data": {
      "text/plain": [
       "[(1, 8), (7, 5), (2, 0), (12, -52)]"
      ]
     },
     "execution_count": 25,
     "metadata": {},
     "output_type": "execute_result"
    }
   ],
   "source": [
    "lista"
   ]
  },
  {
   "cell_type": "code",
   "execution_count": 26,
   "id": "e978f88f-3c91-41d7-833c-68700a3d8924",
   "metadata": {},
   "outputs": [
    {
     "data": {
      "text/plain": [
       "[(1, 8), (7, 5), (2, 0), (12, -52)]"
      ]
     },
     "execution_count": 26,
     "metadata": {},
     "output_type": "execute_result"
    }
   ],
   "source": [
    "lista.sort(key= lambda x : x[1], reverse= True)\n",
    "lista"
   ]
  },
  {
   "cell_type": "code",
   "execution_count": null,
   "id": "796836a1-645e-4c55-befd-e3d669ce23a0",
   "metadata": {},
   "outputs": [],
   "source": []
  }
 ],
 "metadata": {
  "kernelspec": {
   "display_name": "Python 3 (ipykernel)",
   "language": "python",
   "name": "python3"
  },
  "language_info": {
   "codemirror_mode": {
    "name": "ipython",
    "version": 3
   },
   "file_extension": ".py",
   "mimetype": "text/x-python",
   "name": "python",
   "nbconvert_exporter": "python",
   "pygments_lexer": "ipython3",
   "version": "3.10.4"
  }
 },
 "nbformat": 4,
 "nbformat_minor": 5
}
