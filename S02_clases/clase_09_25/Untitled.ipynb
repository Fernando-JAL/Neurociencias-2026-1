{
 "cells": [
  {
   "cell_type": "code",
   "execution_count": 1,
   "id": "be1a69c2-92a8-4392-be64-5e3cdd40eee8",
   "metadata": {},
   "outputs": [],
   "source": [
    "#funciones lambda\n",
    "def funcion(x):\n",
    "    return x**2"
   ]
  },
  {
   "cell_type": "code",
   "execution_count": 2,
   "id": "4bfeecb5-84a3-433f-b750-af771cd54e4e",
   "metadata": {},
   "outputs": [
    {
     "data": {
      "text/plain": [
       "36"
      ]
     },
     "execution_count": 2,
     "metadata": {},
     "output_type": "execute_result"
    }
   ],
   "source": [
    "funcion(6)"
   ]
  },
  {
   "cell_type": "code",
   "execution_count": 3,
   "id": "9f1e55f5-805f-4385-b90e-3c3d2400aa4c",
   "metadata": {},
   "outputs": [
    {
     "data": {
      "text/plain": [
       "25"
      ]
     },
     "execution_count": 3,
     "metadata": {},
     "output_type": "execute_result"
    }
   ],
   "source": [
    "func_lambda= lambda x: x**2\n",
    "func_lambda(5)"
   ]
  },
  {
   "cell_type": "code",
   "execution_count": 4,
   "id": "d7504680-535d-42d3-82d7-9460a40c3cdb",
   "metadata": {},
   "outputs": [
    {
     "data": {
      "text/plain": [
       "'airam eva'"
      ]
     },
     "execution_count": 4,
     "metadata": {},
     "output_type": "execute_result"
    }
   ],
   "source": [
    "def funcion_str(string):\n",
    "    return string[::-1]\n",
    "funcion_str('ave maria')"
   ]
  },
  {
   "cell_type": "code",
   "execution_count": 5,
   "id": "e4173d5a-bcee-439e-ba60-e38415f15606",
   "metadata": {},
   "outputs": [
    {
     "data": {
      "text/plain": [
       "'airam eva'"
      ]
     },
     "execution_count": 5,
     "metadata": {},
     "output_type": "execute_result"
    }
   ],
   "source": [
    "func_str=lambda string: string[::-1]\n",
    "func_str('ave maria')"
   ]
  },
  {
   "cell_type": "code",
   "execution_count": 6,
   "id": "011e3aea-5bdd-430a-bf30-58312e98027a",
   "metadata": {},
   "outputs": [
    {
     "data": {
      "text/plain": [
       "13"
      ]
     },
     "execution_count": 6,
     "metadata": {},
     "output_type": "execute_result"
    }
   ],
   "source": [
    "def funcion(x,y):\n",
    "    return x+y\n",
    "funcion(5,8)"
   ]
  },
  {
   "cell_type": "code",
   "execution_count": 7,
   "id": "f11e6375-0323-4861-b65c-35e9a7d38025",
   "metadata": {},
   "outputs": [
    {
     "data": {
      "text/plain": [
       "13"
      ]
     },
     "execution_count": 7,
     "metadata": {},
     "output_type": "execute_result"
    }
   ],
   "source": [
    "fun_lda= lambda x,y: x+y\n",
    "fun_lda(5,8)"
   ]
  },
  {
   "cell_type": "code",
   "execution_count": 8,
   "id": "18236c55-6abf-490f-8b84-44371a2b92ba",
   "metadata": {},
   "outputs": [
    {
     "data": {
      "text/plain": [
       "(3, -2)"
      ]
     },
     "execution_count": 8,
     "metadata": {},
     "output_type": "execute_result"
    }
   ],
   "source": [
    "def funcion(a,b,c):\n",
    "    return a+b, a-c\n",
    "funcion(1,2,3)"
   ]
  },
  {
   "cell_type": "code",
   "execution_count": 12,
   "id": "1d49e12b-7e8b-498f-8759-e55b28b4519f",
   "metadata": {},
   "outputs": [
    {
     "data": {
      "text/plain": [
       "(3, -2)"
      ]
     },
     "execution_count": 12,
     "metadata": {},
     "output_type": "execute_result"
    }
   ],
   "source": [
    "fun_lda= lambda a,b,c: (a+b, a-c)\n",
    "fun_lda(1,2,3)"
   ]
  },
  {
   "cell_type": "code",
   "execution_count": 29,
   "id": "50eb7c1f-671a-4b98-bcfa-ef173804601b",
   "metadata": {},
   "outputs": [
    {
     "data": {
      "text/plain": [
       "[(1, 8), (7, 5), (2, 0), (12, -52)]"
      ]
     },
     "execution_count": 29,
     "metadata": {},
     "output_type": "execute_result"
    }
   ],
   "source": [
    "def funcion(x):\n",
    "    return x[1]\n",
    "lista= [(1,8),(7,5),(12,-52),(2,0)]\n",
    "lista.sort(key=funcion, reverse=True)\n",
    "lista\n",
    "#key decide con base a que se va a ordenar\n"
   ]
  },
  {
   "cell_type": "code",
   "execution_count": 30,
   "id": "18b6333f-4041-4702-8ccf-db367d0cb091",
   "metadata": {},
   "outputs": [
    {
     "data": {
      "text/plain": [
       "[(1, 8), (7, 5), (2, 0), (12, -52)]"
      ]
     },
     "execution_count": 30,
     "metadata": {},
     "output_type": "execute_result"
    }
   ],
   "source": [
    "lista.sort(key=lambda x: x[1], reverse=True)\n",
    "lista"
   ]
  },
  {
   "cell_type": "code",
   "execution_count": 38,
   "id": "19c3938a-afeb-45cf-8d0a-be310d6e67de",
   "metadata": {},
   "outputs": [
    {
     "data": {
      "text/html": [
       "<div>\n",
       "<style scoped>\n",
       "    .dataframe tbody tr th:only-of-type {\n",
       "        vertical-align: middle;\n",
       "    }\n",
       "\n",
       "    .dataframe tbody tr th {\n",
       "        vertical-align: top;\n",
       "    }\n",
       "\n",
       "    .dataframe thead th {\n",
       "        text-align: right;\n",
       "    }\n",
       "</style>\n",
       "<table border=\"1\" class=\"dataframe\">\n",
       "  <thead>\n",
       "    <tr style=\"text-align: right;\">\n",
       "      <th></th>\n",
       "      <th>sujeto</th>\n",
       "      <th>genero</th>\n",
       "      <th>condicion</th>\n",
       "      <th>region</th>\n",
       "      <th>neuro</th>\n",
       "      <th>precision</th>\n",
       "    </tr>\n",
       "  </thead>\n",
       "  <tbody>\n",
       "    <tr>\n",
       "      <th>0</th>\n",
       "      <td>S02</td>\n",
       "      <td>M</td>\n",
       "      <td>experimental</td>\n",
       "      <td>hipocampo</td>\n",
       "      <td>dopamina</td>\n",
       "      <td>0.86532</td>\n",
       "    </tr>\n",
       "    <tr>\n",
       "      <th>1</th>\n",
       "      <td>S01</td>\n",
       "      <td>F</td>\n",
       "      <td>control</td>\n",
       "      <td>cortex prefrontal</td>\n",
       "      <td>dopamina</td>\n",
       "      <td>0.86532</td>\n",
       "    </tr>\n",
       "    <tr>\n",
       "      <th>2</th>\n",
       "      <td>S03</td>\n",
       "      <td>M</td>\n",
       "      <td>control</td>\n",
       "      <td>cortex prefrontal</td>\n",
       "      <td>dopamina</td>\n",
       "      <td>0.86532</td>\n",
       "    </tr>\n",
       "    <tr>\n",
       "      <th>3</th>\n",
       "      <td>S03</td>\n",
       "      <td>F</td>\n",
       "      <td>control</td>\n",
       "      <td>amigdala</td>\n",
       "      <td>dopamina</td>\n",
       "      <td>0.86532</td>\n",
       "    </tr>\n",
       "    <tr>\n",
       "      <th>4</th>\n",
       "      <td>S00</td>\n",
       "      <td>M</td>\n",
       "      <td>experimental</td>\n",
       "      <td>cortex prefrontal</td>\n",
       "      <td>dopamina</td>\n",
       "      <td>0.86532</td>\n",
       "    </tr>\n",
       "  </tbody>\n",
       "</table>\n",
       "</div>"
      ],
      "text/plain": [
       "  sujeto genero     condicion             region     neuro  precision\n",
       "0    S02      M  experimental          hipocampo  dopamina    0.86532\n",
       "1    S01      F       control  cortex prefrontal  dopamina    0.86532\n",
       "2    S03      M       control  cortex prefrontal  dopamina    0.86532\n",
       "3    S03      F       control           amigdala  dopamina    0.86532\n",
       "4    S00      M  experimental  cortex prefrontal  dopamina    0.86532"
      ]
     },
     "execution_count": 38,
     "metadata": {},
     "output_type": "execute_result"
    }
   ],
   "source": [
    "df.head()"
   ]
  },
  {
   "cell_type": "code",
   "execution_count": 37,
   "id": "bf794269-f1e9-46bb-a508-a5c38e1d7fbd",
   "metadata": {},
   "outputs": [
    {
     "data": {
      "text/html": [
       "<div>\n",
       "<style scoped>\n",
       "    .dataframe tbody tr th:only-of-type {\n",
       "        vertical-align: middle;\n",
       "    }\n",
       "\n",
       "    .dataframe tbody tr th {\n",
       "        vertical-align: top;\n",
       "    }\n",
       "\n",
       "    .dataframe thead th {\n",
       "        text-align: right;\n",
       "    }\n",
       "</style>\n",
       "<table border=\"1\" class=\"dataframe\">\n",
       "  <thead>\n",
       "    <tr style=\"text-align: right;\">\n",
       "      <th></th>\n",
       "      <th>sujeto</th>\n",
       "      <th>genero</th>\n",
       "      <th>condicion</th>\n",
       "      <th>region</th>\n",
       "      <th>neuro</th>\n",
       "      <th>precision</th>\n",
       "    </tr>\n",
       "  </thead>\n",
       "  <tbody>\n",
       "    <tr>\n",
       "      <th>0</th>\n",
       "      <td>S02</td>\n",
       "      <td>M</td>\n",
       "      <td>experimental</td>\n",
       "      <td>hipocampo</td>\n",
       "      <td>dopamina</td>\n",
       "      <td>0.86532</td>\n",
       "    </tr>\n",
       "    <tr>\n",
       "      <th>1</th>\n",
       "      <td>S01</td>\n",
       "      <td>F</td>\n",
       "      <td>control</td>\n",
       "      <td>cortex prefrontal</td>\n",
       "      <td>dopamina</td>\n",
       "      <td>0.86532</td>\n",
       "    </tr>\n",
       "    <tr>\n",
       "      <th>2</th>\n",
       "      <td>S03</td>\n",
       "      <td>M</td>\n",
       "      <td>control</td>\n",
       "      <td>cortex prefrontal</td>\n",
       "      <td>dopamina</td>\n",
       "      <td>0.86532</td>\n",
       "    </tr>\n",
       "    <tr>\n",
       "      <th>3</th>\n",
       "      <td>S03</td>\n",
       "      <td>F</td>\n",
       "      <td>control</td>\n",
       "      <td>amigdala</td>\n",
       "      <td>dopamina</td>\n",
       "      <td>0.86532</td>\n",
       "    </tr>\n",
       "    <tr>\n",
       "      <th>4</th>\n",
       "      <td>S00</td>\n",
       "      <td>M</td>\n",
       "      <td>experimental</td>\n",
       "      <td>cortex prefrontal</td>\n",
       "      <td>dopamina</td>\n",
       "      <td>0.86532</td>\n",
       "    </tr>\n",
       "    <tr>\n",
       "      <th>...</th>\n",
       "      <td>...</td>\n",
       "      <td>...</td>\n",
       "      <td>...</td>\n",
       "      <td>...</td>\n",
       "      <td>...</td>\n",
       "      <td>...</td>\n",
       "    </tr>\n",
       "    <tr>\n",
       "      <th>195</th>\n",
       "      <td>S01</td>\n",
       "      <td>F</td>\n",
       "      <td>experimental</td>\n",
       "      <td>amigdala</td>\n",
       "      <td>dopamina</td>\n",
       "      <td>0.86532</td>\n",
       "    </tr>\n",
       "    <tr>\n",
       "      <th>196</th>\n",
       "      <td>S02</td>\n",
       "      <td>M</td>\n",
       "      <td>control</td>\n",
       "      <td>cortex prefrontal</td>\n",
       "      <td>serotonina</td>\n",
       "      <td>0.86532</td>\n",
       "    </tr>\n",
       "    <tr>\n",
       "      <th>197</th>\n",
       "      <td>S00</td>\n",
       "      <td>M</td>\n",
       "      <td>experimental</td>\n",
       "      <td>hipocampo</td>\n",
       "      <td>serotonina</td>\n",
       "      <td>0.86532</td>\n",
       "    </tr>\n",
       "    <tr>\n",
       "      <th>198</th>\n",
       "      <td>S00</td>\n",
       "      <td>F</td>\n",
       "      <td>experimental</td>\n",
       "      <td>amigdala</td>\n",
       "      <td>dopamina</td>\n",
       "      <td>0.86532</td>\n",
       "    </tr>\n",
       "    <tr>\n",
       "      <th>199</th>\n",
       "      <td>S03</td>\n",
       "      <td>F</td>\n",
       "      <td>experimental</td>\n",
       "      <td>hipocampo</td>\n",
       "      <td>dopamina</td>\n",
       "      <td>0.86532</td>\n",
       "    </tr>\n",
       "  </tbody>\n",
       "</table>\n",
       "<p>200 rows × 6 columns</p>\n",
       "</div>"
      ],
      "text/plain": [
       "    sujeto genero     condicion             region       neuro  precision\n",
       "0      S02      M  experimental          hipocampo    dopamina    0.86532\n",
       "1      S01      F       control  cortex prefrontal    dopamina    0.86532\n",
       "2      S03      M       control  cortex prefrontal    dopamina    0.86532\n",
       "3      S03      F       control           amigdala    dopamina    0.86532\n",
       "4      S00      M  experimental  cortex prefrontal    dopamina    0.86532\n",
       "..     ...    ...           ...                ...         ...        ...\n",
       "195    S01      F  experimental           amigdala    dopamina    0.86532\n",
       "196    S02      M       control  cortex prefrontal  serotonina    0.86532\n",
       "197    S00      M  experimental          hipocampo  serotonina    0.86532\n",
       "198    S00      F  experimental           amigdala    dopamina    0.86532\n",
       "199    S03      F  experimental          hipocampo    dopamina    0.86532\n",
       "\n",
       "[200 rows x 6 columns]"
      ]
     },
     "execution_count": 37,
     "metadata": {},
     "output_type": "execute_result"
    }
   ],
   "source": [
    "tipos_sujetos= ['S'+str(i).zfill(2) for i in range(4)]\n",
    "longitud= 200\n",
    "enteros= np.random.randint(0,4, size=longitud)\n",
    "sujetos= ['S'+str(i).zfill(2) for i in enteros]\n",
    "\n",
    "ops_sujetos= np.random.randint(len(tipos_sujetos), size=longitud)\n",
    "sujetos2= [tipos_sujetos[i] for i in ops_sujetos]\n",
    "generos= ['M', 'F']\n",
    "longitud= 200\n",
    "ops_generos= np.random.randint(len(generos), size=longitud)\n",
    "generos2=[generos[i] for i in ops_generos]\n",
    "condicion=['control','experimental']\n",
    "longitud= 200\n",
    "ops_condicion= np.random.randint(len(condicion), size=longitud)\n",
    "condicion2=[condicion[i] for i in ops_condicion]\n",
    "region=['hipocampo','cortex prefrontal','amigdala']\n",
    "longitud= 200\n",
    "ops_region= np.random.randint(len(region), size=longitud)\n",
    "region2=[region[i] for i in ops_region]\n",
    "neurotransmision= ['dopamina', 'serotonina']\n",
    "longitud= 200\n",
    "ops_neurotransmision= np.random.randint(len(neurotransmision), size=longitud)\n",
    "neurotransmision2=[neurotransmision[i] for i in ops_neurotransmision]\n",
    "variables= [tipos_sujetos, generos, condicion, region, neurotransmision]\n",
    "data= []\n",
    "for variable in variables:\n",
    "    opciones= np.random.randint(len(variable), size=longitud)\n",
    "    data.append([variable[i] for i in opciones])\n",
    "\n",
    "df= pd.DataFrame(data).transpose()\n",
    "df.columns= ['sujeto', 'genero', 'condicion', 'region', 'neuro']\n",
    "df['precision']= np.random.normal(loc=0.92, scale=0.08)\n",
    "df\n",
    "\n"
   ]
  },
  {
   "cell_type": "code",
   "execution_count": 36,
   "id": "e7fb107b-db22-4286-9d17-ec26adc6009b",
   "metadata": {},
   "outputs": [],
   "source": [
    "import numpy as np\n",
    "import pandas as pd"
   ]
  },
  {
   "cell_type": "code",
   "execution_count": 40,
   "id": "03175990-5046-4bbc-8766-a018f02331c5",
   "metadata": {},
   "outputs": [
    {
     "data": {
      "text/html": [
       "<div>\n",
       "<style scoped>\n",
       "    .dataframe tbody tr th:only-of-type {\n",
       "        vertical-align: middle;\n",
       "    }\n",
       "\n",
       "    .dataframe tbody tr th {\n",
       "        vertical-align: top;\n",
       "    }\n",
       "\n",
       "    .dataframe thead th {\n",
       "        text-align: right;\n",
       "    }\n",
       "</style>\n",
       "<table border=\"1\" class=\"dataframe\">\n",
       "  <thead>\n",
       "    <tr style=\"text-align: right;\">\n",
       "      <th></th>\n",
       "      <th>sujeto</th>\n",
       "      <th>genero</th>\n",
       "      <th>condicion</th>\n",
       "      <th>region</th>\n",
       "      <th>neuro</th>\n",
       "      <th>precision</th>\n",
       "    </tr>\n",
       "  </thead>\n",
       "  <tbody>\n",
       "    <tr>\n",
       "      <th>0</th>\n",
       "      <td>S02</td>\n",
       "      <td>M</td>\n",
       "      <td>experimental</td>\n",
       "      <td>hipocampo</td>\n",
       "      <td>dopamina</td>\n",
       "      <td>0.86532</td>\n",
       "    </tr>\n",
       "    <tr>\n",
       "      <th>1</th>\n",
       "      <td>S01</td>\n",
       "      <td>F</td>\n",
       "      <td>control</td>\n",
       "      <td>cortex prefrontal</td>\n",
       "      <td>dopamina</td>\n",
       "      <td>0.86532</td>\n",
       "    </tr>\n",
       "    <tr>\n",
       "      <th>2</th>\n",
       "      <td>S03</td>\n",
       "      <td>M</td>\n",
       "      <td>control</td>\n",
       "      <td>cortex prefrontal</td>\n",
       "      <td>dopamina</td>\n",
       "      <td>0.86532</td>\n",
       "    </tr>\n",
       "    <tr>\n",
       "      <th>3</th>\n",
       "      <td>S03</td>\n",
       "      <td>F</td>\n",
       "      <td>control</td>\n",
       "      <td>amigdala</td>\n",
       "      <td>dopamina</td>\n",
       "      <td>0.86532</td>\n",
       "    </tr>\n",
       "    <tr>\n",
       "      <th>4</th>\n",
       "      <td>S00</td>\n",
       "      <td>M</td>\n",
       "      <td>experimental</td>\n",
       "      <td>cortex prefrontal</td>\n",
       "      <td>dopamina</td>\n",
       "      <td>0.86532</td>\n",
       "    </tr>\n",
       "  </tbody>\n",
       "</table>\n",
       "</div>"
      ],
      "text/plain": [
       "  sujeto genero     condicion             region     neuro  precision\n",
       "0    S02      M  experimental          hipocampo  dopamina    0.86532\n",
       "1    S01      F       control  cortex prefrontal  dopamina    0.86532\n",
       "2    S03      M       control  cortex prefrontal  dopamina    0.86532\n",
       "3    S03      F       control           amigdala  dopamina    0.86532\n",
       "4    S00      M  experimental  cortex prefrontal  dopamina    0.86532"
      ]
     },
     "execution_count": 40,
     "metadata": {},
     "output_type": "execute_result"
    }
   ],
   "source": [
    "df.head()"
   ]
  },
  {
   "cell_type": "code",
   "execution_count": 41,
   "id": "08f9ad44-2d64-4467-8d2d-afcc6d3ea1ea",
   "metadata": {},
   "outputs": [
    {
     "data": {
      "text/plain": [
       "0              HIPOCAMPO\n",
       "1      CORTEX PREFRONTAL\n",
       "2      CORTEX PREFRONTAL\n",
       "3               AMIGDALA\n",
       "4      CORTEX PREFRONTAL\n",
       "             ...        \n",
       "195             AMIGDALA\n",
       "196    CORTEX PREFRONTAL\n",
       "197            HIPOCAMPO\n",
       "198             AMIGDALA\n",
       "199            HIPOCAMPO\n",
       "Name: region, Length: 200, dtype: object"
      ]
     },
     "execution_count": 41,
     "metadata": {},
     "output_type": "execute_result"
    }
   ],
   "source": [
    "def funcion(string):\n",
    "    return string.upper()\n",
    "\n",
    "df['region'].apply(funcion)"
   ]
  },
  {
   "cell_type": "code",
   "execution_count": 42,
   "id": "17337df3-4716-4f75-9543-ed7cc588ba9e",
   "metadata": {},
   "outputs": [
    {
     "data": {
      "text/plain": [
       "0              HIPOCAMPO\n",
       "1      CORTEX PREFRONTAL\n",
       "2      CORTEX PREFRONTAL\n",
       "3               AMIGDALA\n",
       "4      CORTEX PREFRONTAL\n",
       "             ...        \n",
       "195             AMIGDALA\n",
       "196    CORTEX PREFRONTAL\n",
       "197            HIPOCAMPO\n",
       "198             AMIGDALA\n",
       "199            HIPOCAMPO\n",
       "Name: region, Length: 200, dtype: object"
      ]
     },
     "execution_count": 42,
     "metadata": {},
     "output_type": "execute_result"
    }
   ],
   "source": [
    "def funcion(string):\n",
    "    return string.upper()\n",
    "\n",
    "df['region'].apply(lambda string: string.upper())"
   ]
  },
  {
   "cell_type": "code",
   "execution_count": 47,
   "id": "8bf800e3-e2b3-4913-a347-7076469eb120",
   "metadata": {},
   "outputs": [
    {
     "data": {
      "text/html": [
       "<div>\n",
       "<style scoped>\n",
       "    .dataframe tbody tr th:only-of-type {\n",
       "        vertical-align: middle;\n",
       "    }\n",
       "\n",
       "    .dataframe tbody tr th {\n",
       "        vertical-align: top;\n",
       "    }\n",
       "\n",
       "    .dataframe thead th {\n",
       "        text-align: right;\n",
       "    }\n",
       "</style>\n",
       "<table border=\"1\" class=\"dataframe\">\n",
       "  <thead>\n",
       "    <tr style=\"text-align: right;\">\n",
       "      <th></th>\n",
       "      <th>region</th>\n",
       "      <th>condicion</th>\n",
       "      <th>neuro</th>\n",
       "    </tr>\n",
       "  </thead>\n",
       "  <tbody>\n",
       "    <tr>\n",
       "      <th>0</th>\n",
       "      <td>HIPOCAMPO</td>\n",
       "      <td>EXPERIMENTAL</td>\n",
       "      <td>DOPAMINA</td>\n",
       "    </tr>\n",
       "    <tr>\n",
       "      <th>1</th>\n",
       "      <td>CORTEX PREFRONTAL</td>\n",
       "      <td>CONTROL</td>\n",
       "      <td>DOPAMINA</td>\n",
       "    </tr>\n",
       "    <tr>\n",
       "      <th>2</th>\n",
       "      <td>CORTEX PREFRONTAL</td>\n",
       "      <td>CONTROL</td>\n",
       "      <td>DOPAMINA</td>\n",
       "    </tr>\n",
       "    <tr>\n",
       "      <th>3</th>\n",
       "      <td>AMIGDALA</td>\n",
       "      <td>CONTROL</td>\n",
       "      <td>DOPAMINA</td>\n",
       "    </tr>\n",
       "    <tr>\n",
       "      <th>4</th>\n",
       "      <td>CORTEX PREFRONTAL</td>\n",
       "      <td>EXPERIMENTAL</td>\n",
       "      <td>DOPAMINA</td>\n",
       "    </tr>\n",
       "    <tr>\n",
       "      <th>...</th>\n",
       "      <td>...</td>\n",
       "      <td>...</td>\n",
       "      <td>...</td>\n",
       "    </tr>\n",
       "    <tr>\n",
       "      <th>195</th>\n",
       "      <td>AMIGDALA</td>\n",
       "      <td>EXPERIMENTAL</td>\n",
       "      <td>DOPAMINA</td>\n",
       "    </tr>\n",
       "    <tr>\n",
       "      <th>196</th>\n",
       "      <td>CORTEX PREFRONTAL</td>\n",
       "      <td>CONTROL</td>\n",
       "      <td>SEROTONINA</td>\n",
       "    </tr>\n",
       "    <tr>\n",
       "      <th>197</th>\n",
       "      <td>HIPOCAMPO</td>\n",
       "      <td>EXPERIMENTAL</td>\n",
       "      <td>SEROTONINA</td>\n",
       "    </tr>\n",
       "    <tr>\n",
       "      <th>198</th>\n",
       "      <td>AMIGDALA</td>\n",
       "      <td>EXPERIMENTAL</td>\n",
       "      <td>DOPAMINA</td>\n",
       "    </tr>\n",
       "    <tr>\n",
       "      <th>199</th>\n",
       "      <td>HIPOCAMPO</td>\n",
       "      <td>EXPERIMENTAL</td>\n",
       "      <td>DOPAMINA</td>\n",
       "    </tr>\n",
       "  </tbody>\n",
       "</table>\n",
       "<p>200 rows × 3 columns</p>\n",
       "</div>"
      ],
      "text/plain": [
       "                region     condicion       neuro\n",
       "0            HIPOCAMPO  EXPERIMENTAL    DOPAMINA\n",
       "1    CORTEX PREFRONTAL       CONTROL    DOPAMINA\n",
       "2    CORTEX PREFRONTAL       CONTROL    DOPAMINA\n",
       "3             AMIGDALA       CONTROL    DOPAMINA\n",
       "4    CORTEX PREFRONTAL  EXPERIMENTAL    DOPAMINA\n",
       "..                 ...           ...         ...\n",
       "195           AMIGDALA  EXPERIMENTAL    DOPAMINA\n",
       "196  CORTEX PREFRONTAL       CONTROL  SEROTONINA\n",
       "197          HIPOCAMPO  EXPERIMENTAL  SEROTONINA\n",
       "198           AMIGDALA  EXPERIMENTAL    DOPAMINA\n",
       "199          HIPOCAMPO  EXPERIMENTAL    DOPAMINA\n",
       "\n",
       "[200 rows x 3 columns]"
      ]
     },
     "execution_count": 47,
     "metadata": {},
     "output_type": "execute_result"
    }
   ],
   "source": [
    "df[['region','condicion','neuro']].apply(lambda serie: [string.upper() for string in serie])"
   ]
  },
  {
   "cell_type": "code",
   "execution_count": null,
   "id": "25290ea7-1b94-4bf6-8099-7e6504b3d2f2",
   "metadata": {},
   "outputs": [],
   "source": []
  }
 ],
 "metadata": {
  "kernelspec": {
   "display_name": "Python 3 (ipykernel)",
   "language": "python",
   "name": "python3"
  },
  "language_info": {
   "codemirror_mode": {
    "name": "ipython",
    "version": 3
   },
   "file_extension": ".py",
   "mimetype": "text/x-python",
   "name": "python",
   "nbconvert_exporter": "python",
   "pygments_lexer": "ipython3",
   "version": "3.10.4"
  }
 },
 "nbformat": 4,
 "nbformat_minor": 5
}
