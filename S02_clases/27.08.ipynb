{
 "cells": [
  {
   "cell_type": "markdown",
   "id": "20eb85bc-95d0-4ebc-b3a5-3c56860147fe",
   "metadata": {},
   "source": [
    "# funciones\n",
    "\n",
    "fragmentos de codigo que se pueden ejecutar multiples veces. pueden recibir y/o devolver info/datos/variables para comunicarse con el codigo/proceso principal "
   ]
  },
  {
   "cell_type": "code",
   "execution_count": 6,
   "id": "bd931868-891a-483e-bd7c-075fed75ff89",
   "metadata": {},
   "outputs": [
    {
     "name": "stdout",
     "output_type": "stream",
     "text": [
      "hello world, Dennis Ritchie\n"
     ]
    }
   ],
   "source": [
    "def saludar():\n",
    "    print('hello world, Dennis Ritchie')\n",
    "saludar()\n",
    "## def es definicion de una funcion\n"
   ]
  },
  {
   "cell_type": "code",
   "execution_count": 8,
   "id": "b90418e0-b9b7-476f-824a-1314fab0e271",
   "metadata": {},
   "outputs": [
    {
     "name": "stdout",
     "output_type": "stream",
     "text": [
      "hello world, Dennis Ritchie\n",
      "hello world, Dennis Ritchie\n",
      "hello world, Dennis Ritchie\n"
     ]
    }
   ],
   "source": [
    "for _ in range (3): \n",
    "    saludar()"
   ]
  },
  {
   "cell_type": "code",
   "execution_count": 15,
   "id": "0165e600-bea6-477e-a93f-15244611bc76",
   "metadata": {},
   "outputs": [
    {
     "data": {
      "text/plain": [
       "7.0"
      ]
     },
     "execution_count": 15,
     "metadata": {},
     "output_type": "execute_result"
    }
   ],
   "source": [
    "numeritos= [3,5,7,9,11]\n",
    "\n",
    "sum (numeritos)/len(numeritos)\n",
    "### una forma mas facil de sacar promedio"
   ]
  },
  {
   "cell_type": "code",
   "execution_count": 25,
   "id": "edb65282-343a-45cf-8c93-cfaa817c2cac",
   "metadata": {},
   "outputs": [],
   "source": [
    "def promedio (numeros):\n",
    "    for letra in texto:\n",
    "        if letra in 'aeiou':\n",
    "            contador += 1\n",
    "    return valor_promedio\n",
    "\n",
    "    ##numeros es un solo un parametro"
   ]
  },
  {
   "cell_type": "code",
   "execution_count": 28,
   "id": "0ec50b70-f35f-4237-b3a4-a8577064ee22",
   "metadata": {},
   "outputs": [
    {
     "name": "stdout",
     "output_type": "stream",
     "text": [
      "el promedio de los numeros es 7.0\n"
     ]
    }
   ],
   "source": [
    "valor_f= promedio (numeritos)"
   ]
  },
  {
   "cell_type": "code",
   "execution_count": 29,
   "id": "ef605827-4fc8-452f-9061-15ce4f31d6f9",
   "metadata": {},
   "outputs": [
    {
     "data": {
      "text/plain": [
       "7.0"
      ]
     },
     "execution_count": 29,
     "metadata": {},
     "output_type": "execute_result"
    }
   ],
   "source": [
    "valor_f"
   ]
  },
  {
   "cell_type": "code",
   "execution_count": 31,
   "id": "8fad867c-36e2-48c7-92f6-68fb3b1ca0be",
   "metadata": {},
   "outputs": [],
   "source": [
    "def minimo(val_a, val_b):\n",
    "    val_minimo =min(val_a, val_b)\n",
    "    return val_minimo\n",
    "## aqui si son dos variables por eso debo de establecer dos valores abajo "
   ]
  },
  {
   "cell_type": "code",
   "execution_count": 32,
   "id": "7191bd3b-c1bf-4de3-a4f3-ad781efc5788",
   "metadata": {},
   "outputs": [
    {
     "data": {
      "text/plain": [
       "-50"
      ]
     },
     "execution_count": 32,
     "metadata": {},
     "output_type": "execute_result"
    }
   ],
   "source": [
    "minimo(-10,-50)"
   ]
  },
  {
   "cell_type": "markdown",
   "id": "d44275eb-22c4-4550-bc04-87782b6dbb5c",
   "metadata": {},
   "source": [
    "### funcion para factorial"
   ]
  },
  {
   "cell_type": "code",
   "execution_count": 45,
   "id": "2edafb74-befc-45c5-b157-f5b01a58666a",
   "metadata": {},
   "outputs": [
    {
     "name": "stdout",
     "output_type": "stream",
     "text": [
      "1\n",
      "2\n",
      "3\n",
      "4\n",
      "5\n"
     ]
    }
   ],
   "source": [
    "n= 5\n",
    "for val in range(1, n + 1):\n",
    "    print(val)"
   ]
  },
  {
   "cell_type": "code",
   "execution_count": 4,
   "id": "c4f66507-645d-4d72-93b4-ab80f27c9978",
   "metadata": {},
   "outputs": [
    {
     "ename": "SyntaxError",
     "evalue": "invalid syntax (3416595904.py, line 5)",
     "output_type": "error",
     "traceback": [
      "  \u001b[36mCell\u001b[39m\u001b[36m \u001b[39m\u001b[32mIn[4]\u001b[39m\u001b[32m, line 5\u001b[39m\n\u001b[31m    \u001b[39m\u001b[31mresultado *=val:\u001b[39m\n                   ^\n\u001b[31mSyntaxError\u001b[39m\u001b[31m:\u001b[39m invalid syntax\n"
     ]
    }
   ],
   "source": [
    "n= 5\n",
    "\n",
    "resultado =1\n",
    "for val in range(1, n + 1):\n",
    "    resultado *=val\n",
    "    return resultado\n",
    "\n",
    "factorial(15)\n",
    "\n",
    "## resultado *=val es igual a que yo ponga resultado = resultado * val"
   ]
  },
  {
   "cell_type": "code",
   "execution_count": null,
   "id": "df4d2d60-e169-46cb-b28a-db0585d9886b",
   "metadata": {},
   "outputs": [],
   "source": []
  },
  {
   "cell_type": "code",
   "execution_count": null,
   "id": "2bb064e6-5e42-4980-9ff0-b73492ea3b70",
   "metadata": {},
   "outputs": [],
   "source": []
  }
 ],
 "metadata": {
  "kernelspec": {
   "display_name": "Python 3 (ipykernel)",
   "language": "python",
   "name": "python3"
  },
  "language_info": {
   "codemirror_mode": {
    "name": "ipython",
    "version": 3
   },
   "file_extension": ".py",
   "mimetype": "text/x-python",
   "name": "python",
   "nbconvert_exporter": "python",
   "pygments_lexer": "ipython3",
   "version": "3.13.6"
  }
 },
 "nbformat": 4,
 "nbformat_minor": 5
}
