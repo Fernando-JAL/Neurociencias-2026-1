{
 "cells": [
  {
   "cell_type": "code",
   "execution_count": 1,
   "id": "11ee644c-e143-4e92-9cd0-04f90284fac7",
   "metadata": {},
   "outputs": [],
   "source": [
    "import pandas as pd"
   ]
  },
  {
   "cell_type": "code",
   "execution_count": 18,
   "id": "22328544-56b7-4378-a6e9-8760a9cd3e03",
   "metadata": {},
   "outputs": [
    {
     "data": {
      "text/plain": [
       "0     6\n",
       "1     8\n",
       "2    34\n",
       "3    94\n",
       "4    78\n",
       "dtype: int64"
      ]
     },
     "execution_count": 18,
     "metadata": {},
     "output_type": "execute_result"
    }
   ],
   "source": [
    "valores = [6,8, 34, 94, 78]\n",
    "indice = range (len(valores))\n",
    "\n",
    "serie1= pd.Series(data = valores, index = indice)\n",
    "serie1"
   ]
  },
  {
   "cell_type": "code",
   "execution_count": 19,
   "id": "99d4dfd3-8889-41d6-98a2-3fd782d54e2b",
   "metadata": {},
   "outputs": [
    {
     "data": {
      "text/plain": [
       "0     28\n",
       "1     45\n",
       "2    852\n",
       "3      3\n",
       "4     16\n",
       "dtype: int64"
      ]
     },
     "execution_count": 19,
     "metadata": {},
     "output_type": "execute_result"
    }
   ],
   "source": [
    "valores2 = [28, 45, 852, 3, 16]\n",
    "serie2 = pd.Series(index= indice, data=valores2)\n",
    "serie2"
   ]
  },
  {
   "cell_type": "code",
   "execution_count": 15,
   "id": "870e59ea-1a03-469b-b44f-cdb1ac517350",
   "metadata": {},
   "outputs": [
    {
     "data": {
      "text/plain": [
       "0     34\n",
       "1     53\n",
       "2   -818\n",
       "3     97\n",
       "4    -62\n",
       "dtype: int64"
      ]
     },
     "execution_count": 15,
     "metadata": {},
     "output_type": "execute_result"
    }
   ],
   "source": [
    "serie1 + serie2"
   ]
  },
  {
   "cell_type": "code",
   "execution_count": 16,
   "id": "cc5c9f0a-facf-4fa1-bea5-2c02bf3b118a",
   "metadata": {},
   "outputs": [
    {
     "data": {
      "text/plain": [
       "0     0.214286\n",
       "1     0.177778\n",
       "2    -0.039906\n",
       "3    31.333333\n",
       "4    -4.875000\n",
       "dtype: float64"
      ]
     },
     "execution_count": 16,
     "metadata": {},
     "output_type": "execute_result"
    }
   ],
   "source": [
    "serie1 / serie2"
   ]
  },
  {
   "cell_type": "code",
   "execution_count": 20,
   "id": "3277ddf5-526a-4aed-b475-c0bb2de6c2e1",
   "metadata": {},
   "outputs": [
    {
     "data": {
      "text/plain": [
       "0   -1823562080465190912\n",
       "1                      0\n",
       "2                      0\n",
       "3                 830584\n",
       "4    3945326505906733056\n",
       "dtype: int64"
      ]
     },
     "execution_count": 20,
     "metadata": {},
     "output_type": "execute_result"
    }
   ],
   "source": [
    "serie1 ** serie2"
   ]
  },
  {
   "cell_type": "code",
   "execution_count": 21,
   "id": "cb6eea47-33ac-4791-9713-ccf1d9a65684",
   "metadata": {},
   "outputs": [],
   "source": [
    "import numpy as np"
   ]
  },
  {
   "cell_type": "code",
   "execution_count": 22,
   "id": "7bb638ff-91bd-4bd6-82cb-ae791b602950",
   "metadata": {},
   "outputs": [
    {
     "data": {
      "text/plain": [
       "array([[ -4.07722384, -17.33696883,   3.2856241 ,   3.22611145],\n",
       "       [  1.29940481, -27.2238882 ,   7.73952724, -12.97990182],\n",
       "       [-32.07815322,   6.67455675, -14.57230757, -13.95841207],\n",
       "       [ -9.51803791, -10.08210149,   1.65211226,  -1.40807184]])"
      ]
     },
     "execution_count": 22,
     "metadata": {},
     "output_type": "execute_result"
    }
   ],
   "source": [
    "array = np.random.normal (-10,10, size = [4,4])\n",
    "array"
   ]
  },
  {
   "cell_type": "code",
   "execution_count": 23,
   "id": "2910a928-50d6-4ae2-9bee-7b3bf1b2b916",
   "metadata": {},
   "outputs": [
    {
     "data": {
      "text/html": [
       "<div>\n",
       "<style scoped>\n",
       "    .dataframe tbody tr th:only-of-type {\n",
       "        vertical-align: middle;\n",
       "    }\n",
       "\n",
       "    .dataframe tbody tr th {\n",
       "        vertical-align: top;\n",
       "    }\n",
       "\n",
       "    .dataframe thead th {\n",
       "        text-align: right;\n",
       "    }\n",
       "</style>\n",
       "<table border=\"1\" class=\"dataframe\">\n",
       "  <thead>\n",
       "    <tr style=\"text-align: right;\">\n",
       "      <th></th>\n",
       "      <th>W</th>\n",
       "      <th>X</th>\n",
       "    </tr>\n",
       "  </thead>\n",
       "  <tbody>\n",
       "    <tr>\n",
       "      <th>a</th>\n",
       "      <td>2</td>\n",
       "      <td>3</td>\n",
       "    </tr>\n",
       "    <tr>\n",
       "      <th>b</th>\n",
       "      <td>4</td>\n",
       "      <td>5</td>\n",
       "    </tr>\n",
       "  </tbody>\n",
       "</table>\n",
       "</div>"
      ],
      "text/plain": [
       "   W  X\n",
       "a  2  3\n",
       "b  4  5"
      ]
     },
     "execution_count": 23,
     "metadata": {},
     "output_type": "execute_result"
    }
   ],
   "source": [
    "pd.DataFrame ([[2,3], [4,5]], index=['a','b'],columns=['W','X'])"
   ]
  },
  {
   "cell_type": "code",
   "execution_count": 24,
   "id": "71af18c2-102f-4d5f-8c47-215709341034",
   "metadata": {},
   "outputs": [
    {
     "data": {
      "text/html": [
       "<div>\n",
       "<style scoped>\n",
       "    .dataframe tbody tr th:only-of-type {\n",
       "        vertical-align: middle;\n",
       "    }\n",
       "\n",
       "    .dataframe tbody tr th {\n",
       "        vertical-align: top;\n",
       "    }\n",
       "\n",
       "    .dataframe thead th {\n",
       "        text-align: right;\n",
       "    }\n",
       "</style>\n",
       "<table border=\"1\" class=\"dataframe\">\n",
       "  <thead>\n",
       "    <tr style=\"text-align: right;\">\n",
       "      <th></th>\n",
       "      <th>0</th>\n",
       "      <th>1</th>\n",
       "      <th>2</th>\n",
       "      <th>3</th>\n",
       "    </tr>\n",
       "  </thead>\n",
       "  <tbody>\n",
       "    <tr>\n",
       "      <th>0</th>\n",
       "      <td>-4.077224</td>\n",
       "      <td>-17.336969</td>\n",
       "      <td>3.285624</td>\n",
       "      <td>3.226111</td>\n",
       "    </tr>\n",
       "    <tr>\n",
       "      <th>1</th>\n",
       "      <td>1.299405</td>\n",
       "      <td>-27.223888</td>\n",
       "      <td>7.739527</td>\n",
       "      <td>-12.979902</td>\n",
       "    </tr>\n",
       "    <tr>\n",
       "      <th>2</th>\n",
       "      <td>-32.078153</td>\n",
       "      <td>6.674557</td>\n",
       "      <td>-14.572308</td>\n",
       "      <td>-13.958412</td>\n",
       "    </tr>\n",
       "    <tr>\n",
       "      <th>3</th>\n",
       "      <td>-9.518038</td>\n",
       "      <td>-10.082101</td>\n",
       "      <td>1.652112</td>\n",
       "      <td>-1.408072</td>\n",
       "    </tr>\n",
       "  </tbody>\n",
       "</table>\n",
       "</div>"
      ],
      "text/plain": [
       "           0          1          2          3\n",
       "0  -4.077224 -17.336969   3.285624   3.226111\n",
       "1   1.299405 -27.223888   7.739527 -12.979902\n",
       "2 -32.078153   6.674557 -14.572308 -13.958412\n",
       "3  -9.518038 -10.082101   1.652112  -1.408072"
      ]
     },
     "execution_count": 24,
     "metadata": {},
     "output_type": "execute_result"
    }
   ],
   "source": [
    "pd.DataFrame(array)"
   ]
  },
  {
   "cell_type": "code",
   "execution_count": 51,
   "id": "da60f5c0-d8bf-40ca-830a-903cd7408af5",
   "metadata": {},
   "outputs": [
    {
     "data": {
      "text/html": [
       "<div>\n",
       "<style scoped>\n",
       "    .dataframe tbody tr th:only-of-type {\n",
       "        vertical-align: middle;\n",
       "    }\n",
       "\n",
       "    .dataframe tbody tr th {\n",
       "        vertical-align: top;\n",
       "    }\n",
       "\n",
       "    .dataframe thead th {\n",
       "        text-align: right;\n",
       "    }\n",
       "</style>\n",
       "<table border=\"1\" class=\"dataframe\">\n",
       "  <thead>\n",
       "    <tr style=\"text-align: right;\">\n",
       "      <th></th>\n",
       "      <th>W</th>\n",
       "      <th>X</th>\n",
       "      <th>Y</th>\n",
       "      <th>Z</th>\n",
       "    </tr>\n",
       "  </thead>\n",
       "  <tbody>\n",
       "    <tr>\n",
       "      <th>1</th>\n",
       "      <td>-4.077224</td>\n",
       "      <td>-17.336969</td>\n",
       "      <td>3.285624</td>\n",
       "      <td>3.226111</td>\n",
       "    </tr>\n",
       "    <tr>\n",
       "      <th>2</th>\n",
       "      <td>1.299405</td>\n",
       "      <td>-27.223888</td>\n",
       "      <td>7.739527</td>\n",
       "      <td>-12.979902</td>\n",
       "    </tr>\n",
       "    <tr>\n",
       "      <th>3</th>\n",
       "      <td>-32.078153</td>\n",
       "      <td>6.674557</td>\n",
       "      <td>-14.572308</td>\n",
       "      <td>-13.958412</td>\n",
       "    </tr>\n",
       "    <tr>\n",
       "      <th>4</th>\n",
       "      <td>-9.518038</td>\n",
       "      <td>-10.082101</td>\n",
       "      <td>1.652112</td>\n",
       "      <td>-1.408072</td>\n",
       "    </tr>\n",
       "  </tbody>\n",
       "</table>\n",
       "</div>"
      ],
      "text/plain": [
       "           W          X          Y          Z\n",
       "1  -4.077224 -17.336969   3.285624   3.226111\n",
       "2   1.299405 -27.223888   7.739527 -12.979902\n",
       "3 -32.078153   6.674557 -14.572308 -13.958412\n",
       "4  -9.518038 -10.082101   1.652112  -1.408072"
      ]
     },
     "execution_count": 51,
     "metadata": {},
     "output_type": "execute_result"
    }
   ],
   "source": [
    "df = pd.DataFrame(array, index=range(1, len(array)+1), columns= ['W', 'X','Y','Z'])\n",
    "df"
   ]
  },
  {
   "cell_type": "code",
   "execution_count": 32,
   "id": "f41fe188-8f81-435b-95fd-a78aceea3de8",
   "metadata": {},
   "outputs": [
    {
     "data": {
      "text/plain": [
       "np.float64(-27.22388820115693)"
      ]
     },
     "execution_count": 32,
     "metadata": {},
     "output_type": "execute_result"
    }
   ],
   "source": [
    "df ['X'][2]\n",
    "## indexar "
   ]
  },
  {
   "cell_type": "code",
   "execution_count": 33,
   "id": "3c6a83ff-8d35-49dd-a856-d024dd908a9a",
   "metadata": {},
   "outputs": [
    {
     "data": {
      "text/plain": [
       "1   -17.336969\n",
       "2   -27.223888\n",
       "3     6.674557\n",
       "4   -10.082101\n",
       "Name: X, dtype: float64"
      ]
     },
     "execution_count": 33,
     "metadata": {},
     "output_type": "execute_result"
    }
   ],
   "source": [
    "df ['X']"
   ]
  },
  {
   "cell_type": "code",
   "execution_count": null,
   "id": "af290954-fcfc-4b0a-a6c3-14c491f89827",
   "metadata": {},
   "outputs": [],
   "source": []
  },
  {
   "cell_type": "code",
   "execution_count": 35,
   "id": "3665504f-3ab9-4e18-bb75-152f62d0050d",
   "metadata": {},
   "outputs": [
    {
     "data": {
      "text/html": [
       "<div>\n",
       "<style scoped>\n",
       "    .dataframe tbody tr th:only-of-type {\n",
       "        vertical-align: middle;\n",
       "    }\n",
       "\n",
       "    .dataframe tbody tr th {\n",
       "        vertical-align: top;\n",
       "    }\n",
       "\n",
       "    .dataframe thead th {\n",
       "        text-align: right;\n",
       "    }\n",
       "</style>\n",
       "<table border=\"1\" class=\"dataframe\">\n",
       "  <thead>\n",
       "    <tr style=\"text-align: right;\">\n",
       "      <th></th>\n",
       "      <th>W</th>\n",
       "      <th>Y</th>\n",
       "    </tr>\n",
       "  </thead>\n",
       "  <tbody>\n",
       "    <tr>\n",
       "      <th>1</th>\n",
       "      <td>-4.077224</td>\n",
       "      <td>3.285624</td>\n",
       "    </tr>\n",
       "    <tr>\n",
       "      <th>2</th>\n",
       "      <td>1.299405</td>\n",
       "      <td>7.739527</td>\n",
       "    </tr>\n",
       "    <tr>\n",
       "      <th>3</th>\n",
       "      <td>-32.078153</td>\n",
       "      <td>-14.572308</td>\n",
       "    </tr>\n",
       "    <tr>\n",
       "      <th>4</th>\n",
       "      <td>-9.518038</td>\n",
       "      <td>1.652112</td>\n",
       "    </tr>\n",
       "  </tbody>\n",
       "</table>\n",
       "</div>"
      ],
      "text/plain": [
       "           W          Y\n",
       "1  -4.077224   3.285624\n",
       "2   1.299405   7.739527\n",
       "3 -32.078153 -14.572308\n",
       "4  -9.518038   1.652112"
      ]
     },
     "execution_count": 35,
     "metadata": {},
     "output_type": "execute_result"
    }
   ],
   "source": [
    "df[['W','Y']]\n",
    "\n",
    "## el primer corchete es para hacer un slicing, el segundo es para decirle las columnas que nos interesan, slicing sobre una lista "
   ]
  },
  {
   "cell_type": "code",
   "execution_count": 36,
   "id": "168e49d8-d9f9-4ee9-a707-7365a98ebd78",
   "metadata": {},
   "outputs": [
    {
     "data": {
      "text/plain": [
       "1   -14.110857\n",
       "2   -40.203790\n",
       "3    -7.283855\n",
       "4   -11.490173\n",
       "dtype: float64"
      ]
     },
     "execution_count": 36,
     "metadata": {},
     "output_type": "execute_result"
    }
   ],
   "source": [
    "df.X + df.Z"
   ]
  },
  {
   "cell_type": "code",
   "execution_count": null,
   "id": "a618fe16-d759-4079-817a-96cbe47a97c2",
   "metadata": {},
   "outputs": [],
   "source": [
    "## los dataframe son mutables \n"
   ]
  },
  {
   "cell_type": "code",
   "execution_count": 62,
   "id": "e07395a5-68df-48b1-a69f-650911c057a4",
   "metadata": {},
   "outputs": [
    {
     "data": {
      "text/html": [
       "<div>\n",
       "<style scoped>\n",
       "    .dataframe tbody tr th:only-of-type {\n",
       "        vertical-align: middle;\n",
       "    }\n",
       "\n",
       "    .dataframe tbody tr th {\n",
       "        vertical-align: top;\n",
       "    }\n",
       "\n",
       "    .dataframe thead th {\n",
       "        text-align: right;\n",
       "    }\n",
       "</style>\n",
       "<table border=\"1\" class=\"dataframe\">\n",
       "  <thead>\n",
       "    <tr style=\"text-align: right;\">\n",
       "      <th></th>\n",
       "      <th>W</th>\n",
       "      <th>X</th>\n",
       "      <th>Z</th>\n",
       "      <th>suma_X_Z</th>\n",
       "    </tr>\n",
       "  </thead>\n",
       "  <tbody>\n",
       "    <tr>\n",
       "      <th>1</th>\n",
       "      <td>-4.077224</td>\n",
       "      <td>-17.336969</td>\n",
       "      <td>3.226111</td>\n",
       "      <td>-14.110857</td>\n",
       "    </tr>\n",
       "    <tr>\n",
       "      <th>2</th>\n",
       "      <td>1.299405</td>\n",
       "      <td>-27.223888</td>\n",
       "      <td>-12.979902</td>\n",
       "      <td>-40.203790</td>\n",
       "    </tr>\n",
       "    <tr>\n",
       "      <th>3</th>\n",
       "      <td>-32.078153</td>\n",
       "      <td>6.674557</td>\n",
       "      <td>-13.958412</td>\n",
       "      <td>-7.283855</td>\n",
       "    </tr>\n",
       "    <tr>\n",
       "      <th>4</th>\n",
       "      <td>-9.518038</td>\n",
       "      <td>-10.082101</td>\n",
       "      <td>-1.408072</td>\n",
       "      <td>-11.490173</td>\n",
       "    </tr>\n",
       "  </tbody>\n",
       "</table>\n",
       "</div>"
      ],
      "text/plain": [
       "           W          X          Z   suma_X_Z\n",
       "1  -4.077224 -17.336969   3.226111 -14.110857\n",
       "2   1.299405 -27.223888 -12.979902 -40.203790\n",
       "3 -32.078153   6.674557 -13.958412  -7.283855\n",
       "4  -9.518038 -10.082101  -1.408072 -11.490173"
      ]
     },
     "execution_count": 62,
     "metadata": {},
     "output_type": "execute_result"
    }
   ],
   "source": [
    "df['suma_X_Z']= df.X + df.Z\n",
    "df"
   ]
  },
  {
   "cell_type": "code",
   "execution_count": 52,
   "id": "7b3c5acf-7200-4c4a-b106-fe72c79d99fa",
   "metadata": {},
   "outputs": [
    {
     "data": {
      "text/html": [
       "<div>\n",
       "<style scoped>\n",
       "    .dataframe tbody tr th:only-of-type {\n",
       "        vertical-align: middle;\n",
       "    }\n",
       "\n",
       "    .dataframe tbody tr th {\n",
       "        vertical-align: top;\n",
       "    }\n",
       "\n",
       "    .dataframe thead th {\n",
       "        text-align: right;\n",
       "    }\n",
       "</style>\n",
       "<table border=\"1\" class=\"dataframe\">\n",
       "  <thead>\n",
       "    <tr style=\"text-align: right;\">\n",
       "      <th></th>\n",
       "      <th>W</th>\n",
       "      <th>X</th>\n",
       "      <th>Z</th>\n",
       "    </tr>\n",
       "  </thead>\n",
       "  <tbody>\n",
       "    <tr>\n",
       "      <th>1</th>\n",
       "      <td>-4.077224</td>\n",
       "      <td>-17.336969</td>\n",
       "      <td>3.226111</td>\n",
       "    </tr>\n",
       "    <tr>\n",
       "      <th>2</th>\n",
       "      <td>1.299405</td>\n",
       "      <td>-27.223888</td>\n",
       "      <td>-12.979902</td>\n",
       "    </tr>\n",
       "    <tr>\n",
       "      <th>3</th>\n",
       "      <td>-32.078153</td>\n",
       "      <td>6.674557</td>\n",
       "      <td>-13.958412</td>\n",
       "    </tr>\n",
       "    <tr>\n",
       "      <th>4</th>\n",
       "      <td>-9.518038</td>\n",
       "      <td>-10.082101</td>\n",
       "      <td>-1.408072</td>\n",
       "    </tr>\n",
       "  </tbody>\n",
       "</table>\n",
       "</div>"
      ],
      "text/plain": [
       "           W          X          Z\n",
       "1  -4.077224 -17.336969   3.226111\n",
       "2   1.299405 -27.223888 -12.979902\n",
       "3 -32.078153   6.674557 -13.958412\n",
       "4  -9.518038 -10.082101  -1.408072"
      ]
     },
     "execution_count": 52,
     "metadata": {},
     "output_type": "execute_result"
    }
   ],
   "source": [
    "## para borrar una columna \n",
    "# se usa el metodo dropear \n",
    "\n",
    "df.drop('Y', axis=1)\n",
    "\n",
    "## axis es un eje de 0 a 1, para especificar 1 es para columnas y 0 es para filas "
   ]
  },
  {
   "cell_type": "code",
   "execution_count": 61,
   "id": "e078883f-04e6-44cc-ad76-f1a11df01db0",
   "metadata": {},
   "outputs": [
    {
     "data": {
      "text/html": [
       "<div>\n",
       "<style scoped>\n",
       "    .dataframe tbody tr th:only-of-type {\n",
       "        vertical-align: middle;\n",
       "    }\n",
       "\n",
       "    .dataframe tbody tr th {\n",
       "        vertical-align: top;\n",
       "    }\n",
       "\n",
       "    .dataframe thead th {\n",
       "        text-align: right;\n",
       "    }\n",
       "</style>\n",
       "<table border=\"1\" class=\"dataframe\">\n",
       "  <thead>\n",
       "    <tr style=\"text-align: right;\">\n",
       "      <th></th>\n",
       "      <th>W</th>\n",
       "      <th>X</th>\n",
       "      <th>Z</th>\n",
       "    </tr>\n",
       "  </thead>\n",
       "  <tbody>\n",
       "    <tr>\n",
       "      <th>1</th>\n",
       "      <td>-4.077224</td>\n",
       "      <td>-17.336969</td>\n",
       "      <td>3.226111</td>\n",
       "    </tr>\n",
       "    <tr>\n",
       "      <th>2</th>\n",
       "      <td>1.299405</td>\n",
       "      <td>-27.223888</td>\n",
       "      <td>-12.979902</td>\n",
       "    </tr>\n",
       "    <tr>\n",
       "      <th>3</th>\n",
       "      <td>-32.078153</td>\n",
       "      <td>6.674557</td>\n",
       "      <td>-13.958412</td>\n",
       "    </tr>\n",
       "    <tr>\n",
       "      <th>4</th>\n",
       "      <td>-9.518038</td>\n",
       "      <td>-10.082101</td>\n",
       "      <td>-1.408072</td>\n",
       "    </tr>\n",
       "  </tbody>\n",
       "</table>\n",
       "</div>"
      ],
      "text/plain": [
       "           W          X          Z\n",
       "1  -4.077224 -17.336969   3.226111\n",
       "2   1.299405 -27.223888 -12.979902\n",
       "3 -32.078153   6.674557 -13.958412\n",
       "4  -9.518038 -10.082101  -1.408072"
      ]
     },
     "execution_count": 61,
     "metadata": {},
     "output_type": "execute_result"
    }
   ],
   "source": [
    "df\n",
    "\n",
    "### si lo vuelvo a imprimir sale otra vez sale Y, porque el drop solo es un borrador, para eso tendriamos que reemplazar las columnas "
   ]
  },
  {
   "cell_type": "code",
   "execution_count": 53,
   "id": "73476b8a-372f-4e62-81f3-1c1ebe5fe5b8",
   "metadata": {},
   "outputs": [
    {
     "data": {
      "text/html": [
       "<div>\n",
       "<style scoped>\n",
       "    .dataframe tbody tr th:only-of-type {\n",
       "        vertical-align: middle;\n",
       "    }\n",
       "\n",
       "    .dataframe tbody tr th {\n",
       "        vertical-align: top;\n",
       "    }\n",
       "\n",
       "    .dataframe thead th {\n",
       "        text-align: right;\n",
       "    }\n",
       "</style>\n",
       "<table border=\"1\" class=\"dataframe\">\n",
       "  <thead>\n",
       "    <tr style=\"text-align: right;\">\n",
       "      <th></th>\n",
       "      <th>W</th>\n",
       "      <th>X</th>\n",
       "      <th>Z</th>\n",
       "    </tr>\n",
       "  </thead>\n",
       "  <tbody>\n",
       "    <tr>\n",
       "      <th>1</th>\n",
       "      <td>-4.077224</td>\n",
       "      <td>-17.336969</td>\n",
       "      <td>3.226111</td>\n",
       "    </tr>\n",
       "    <tr>\n",
       "      <th>2</th>\n",
       "      <td>1.299405</td>\n",
       "      <td>-27.223888</td>\n",
       "      <td>-12.979902</td>\n",
       "    </tr>\n",
       "    <tr>\n",
       "      <th>3</th>\n",
       "      <td>-32.078153</td>\n",
       "      <td>6.674557</td>\n",
       "      <td>-13.958412</td>\n",
       "    </tr>\n",
       "    <tr>\n",
       "      <th>4</th>\n",
       "      <td>-9.518038</td>\n",
       "      <td>-10.082101</td>\n",
       "      <td>-1.408072</td>\n",
       "    </tr>\n",
       "  </tbody>\n",
       "</table>\n",
       "</div>"
      ],
      "text/plain": [
       "           W          X          Z\n",
       "1  -4.077224 -17.336969   3.226111\n",
       "2   1.299405 -27.223888 -12.979902\n",
       "3 -32.078153   6.674557 -13.958412\n",
       "4  -9.518038 -10.082101  -1.408072"
      ]
     },
     "execution_count": 53,
     "metadata": {},
     "output_type": "execute_result"
    }
   ],
   "source": [
    "df.drop('Y', axis=1, inplace=True)\n",
    "df"
   ]
  },
  {
   "cell_type": "code",
   "execution_count": 54,
   "id": "497b9df6-0631-4e9b-9a55-c3e2e17d7ee6",
   "metadata": {},
   "outputs": [
    {
     "data": {
      "text/html": [
       "<div>\n",
       "<style scoped>\n",
       "    .dataframe tbody tr th:only-of-type {\n",
       "        vertical-align: middle;\n",
       "    }\n",
       "\n",
       "    .dataframe tbody tr th {\n",
       "        vertical-align: top;\n",
       "    }\n",
       "\n",
       "    .dataframe thead th {\n",
       "        text-align: right;\n",
       "    }\n",
       "</style>\n",
       "<table border=\"1\" class=\"dataframe\">\n",
       "  <thead>\n",
       "    <tr style=\"text-align: right;\">\n",
       "      <th></th>\n",
       "      <th>W</th>\n",
       "      <th>X</th>\n",
       "      <th>Z</th>\n",
       "    </tr>\n",
       "  </thead>\n",
       "  <tbody>\n",
       "    <tr>\n",
       "      <th>1</th>\n",
       "      <td>-4.077224</td>\n",
       "      <td>-17.336969</td>\n",
       "      <td>3.226111</td>\n",
       "    </tr>\n",
       "    <tr>\n",
       "      <th>2</th>\n",
       "      <td>1.299405</td>\n",
       "      <td>-27.223888</td>\n",
       "      <td>-12.979902</td>\n",
       "    </tr>\n",
       "    <tr>\n",
       "      <th>4</th>\n",
       "      <td>-9.518038</td>\n",
       "      <td>-10.082101</td>\n",
       "      <td>-1.408072</td>\n",
       "    </tr>\n",
       "  </tbody>\n",
       "</table>\n",
       "</div>"
      ],
      "text/plain": [
       "          W          X          Z\n",
       "1 -4.077224 -17.336969   3.226111\n",
       "2  1.299405 -27.223888 -12.979902\n",
       "4 -9.518038 -10.082101  -1.408072"
      ]
     },
     "execution_count": 54,
     "metadata": {},
     "output_type": "execute_result"
    }
   ],
   "source": [
    "df.drop(3, axis=0)"
   ]
  },
  {
   "cell_type": "code",
   "execution_count": 55,
   "id": "fdc6c3b3-1a2c-438a-8ad7-dd1f4493ea2d",
   "metadata": {},
   "outputs": [
    {
     "data": {
      "text/plain": [
       "W   -32.078153\n",
       "X     6.674557\n",
       "Z   -13.958412\n",
       "Name: 3, dtype: float64"
      ]
     },
     "execution_count": 55,
     "metadata": {},
     "output_type": "execute_result"
    }
   ],
   "source": [
    "df.loc[3]\n",
    "\n",
    "## para filas, loc es localizar "
   ]
  },
  {
   "cell_type": "code",
   "execution_count": 56,
   "id": "813988e2-4b2f-4fbf-85f3-9b7fc44d5b81",
   "metadata": {},
   "outputs": [
    {
     "data": {
      "text/plain": [
       "W    -4.077224\n",
       "X   -17.336969\n",
       "Z     3.226111\n",
       "Name: 1, dtype: float64"
      ]
     },
     "execution_count": 56,
     "metadata": {},
     "output_type": "execute_result"
    }
   ],
   "source": [
    "### otra forma de acceder a las filas es con la localizacion de \n",
    "df.iloc [0]"
   ]
  },
  {
   "cell_type": "code",
   "execution_count": 57,
   "id": "06368acd-79b0-4885-ada8-e9813496ccb0",
   "metadata": {},
   "outputs": [
    {
     "data": {
      "text/html": [
       "<div>\n",
       "<style scoped>\n",
       "    .dataframe tbody tr th:only-of-type {\n",
       "        vertical-align: middle;\n",
       "    }\n",
       "\n",
       "    .dataframe tbody tr th {\n",
       "        vertical-align: top;\n",
       "    }\n",
       "\n",
       "    .dataframe thead th {\n",
       "        text-align: right;\n",
       "    }\n",
       "</style>\n",
       "<table border=\"1\" class=\"dataframe\">\n",
       "  <thead>\n",
       "    <tr style=\"text-align: right;\">\n",
       "      <th></th>\n",
       "      <th>W</th>\n",
       "      <th>X</th>\n",
       "      <th>Z</th>\n",
       "    </tr>\n",
       "  </thead>\n",
       "  <tbody>\n",
       "    <tr>\n",
       "      <th>1</th>\n",
       "      <td>-4.077224</td>\n",
       "      <td>-17.336969</td>\n",
       "      <td>3.226111</td>\n",
       "    </tr>\n",
       "    <tr>\n",
       "      <th>3</th>\n",
       "      <td>-32.078153</td>\n",
       "      <td>6.674557</td>\n",
       "      <td>-13.958412</td>\n",
       "    </tr>\n",
       "  </tbody>\n",
       "</table>\n",
       "</div>"
      ],
      "text/plain": [
       "           W          X          Z\n",
       "1  -4.077224 -17.336969   3.226111\n",
       "3 -32.078153   6.674557 -13.958412"
      ]
     },
     "execution_count": 57,
     "metadata": {},
     "output_type": "execute_result"
    }
   ],
   "source": [
    "df.iloc [[0,2]]"
   ]
  },
  {
   "cell_type": "code",
   "execution_count": null,
   "id": "25ec3b23-0c77-4677-aadf-f8b2420385fa",
   "metadata": {},
   "outputs": [],
   "source": [
    "## si yo quiero acceder a un solo valor puedo hacer una combinacion de estas dos "
   ]
  },
  {
   "cell_type": "code",
   "execution_count": 58,
   "id": "59b1810d-4fe3-4f38-abd4-d14fda5fd359",
   "metadata": {},
   "outputs": [
    {
     "data": {
      "text/plain": [
       "np.float64(6.674556745906088)"
      ]
     },
     "execution_count": 58,
     "metadata": {},
     "output_type": "execute_result"
    }
   ],
   "source": [
    "df.loc[3, 'X']"
   ]
  },
  {
   "cell_type": "code",
   "execution_count": 63,
   "id": "5d5267e9-000f-4eba-8a0d-67aa8eae39cf",
   "metadata": {},
   "outputs": [
    {
     "data": {
      "text/html": [
       "<div>\n",
       "<style scoped>\n",
       "    .dataframe tbody tr th:only-of-type {\n",
       "        vertical-align: middle;\n",
       "    }\n",
       "\n",
       "    .dataframe tbody tr th {\n",
       "        vertical-align: top;\n",
       "    }\n",
       "\n",
       "    .dataframe thead th {\n",
       "        text-align: right;\n",
       "    }\n",
       "</style>\n",
       "<table border=\"1\" class=\"dataframe\">\n",
       "  <thead>\n",
       "    <tr style=\"text-align: right;\">\n",
       "      <th></th>\n",
       "      <th>X</th>\n",
       "      <th>suma_X_Z</th>\n",
       "    </tr>\n",
       "  </thead>\n",
       "  <tbody>\n",
       "    <tr>\n",
       "      <th>2</th>\n",
       "      <td>-27.223888</td>\n",
       "      <td>-40.203790</td>\n",
       "    </tr>\n",
       "    <tr>\n",
       "      <th>4</th>\n",
       "      <td>-10.082101</td>\n",
       "      <td>-11.490173</td>\n",
       "    </tr>\n",
       "  </tbody>\n",
       "</table>\n",
       "</div>"
      ],
      "text/plain": [
       "           X   suma_X_Z\n",
       "2 -27.223888 -40.203790\n",
       "4 -10.082101 -11.490173"
      ]
     },
     "execution_count": 63,
     "metadata": {},
     "output_type": "execute_result"
    }
   ],
   "source": [
    "df.loc[[2,4], ['X', 'suma_X_Z']]"
   ]
  },
  {
   "cell_type": "code",
   "execution_count": null,
   "id": "c4edafc5-b376-42b8-b49a-f9ae295f3c6e",
   "metadata": {},
   "outputs": [],
   "source": []
  },
  {
   "cell_type": "code",
   "execution_count": null,
   "id": "cc285bc1-0e6d-49d6-9437-bfbbdb9d4ce7",
   "metadata": {},
   "outputs": [],
   "source": []
  }
 ],
 "metadata": {
  "kernelspec": {
   "display_name": "Python 3 (ipykernel)",
   "language": "python",
   "name": "python3"
  },
  "language_info": {
   "codemirror_mode": {
    "name": "ipython",
    "version": 3
   },
   "file_extension": ".py",
   "mimetype": "text/x-python",
   "name": "python",
   "nbconvert_exporter": "python",
   "pygments_lexer": "ipython3",
   "version": "3.13.6"
  }
 },
 "nbformat": 4,
 "nbformat_minor": 5
}
