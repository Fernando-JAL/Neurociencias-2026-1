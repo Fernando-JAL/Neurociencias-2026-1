{
 "cells": [
  {
   "cell_type": "code",
   "execution_count": 1,
   "id": "85267797-fdfc-4903-882a-5ff504d08870",
   "metadata": {},
   "outputs": [],
   "source": [
    "import pandas as pd\n",
    "import numpy as np"
   ]
  },
  {
   "cell_type": "code",
   "execution_count": 2,
   "id": "c8b76772-6cc3-45c8-bfa0-25fc8ae6c455",
   "metadata": {},
   "outputs": [],
   "source": [
    "# activación de la corteza pre-frontal al escoger una elección de helado\n",
    "experimento = {\n",
    "    'sujeto': ['S01', 'S02', 'S03', 'S02', 'S01', 'S01', 'S02'], \n",
    "    'sabor': ['choco', 'piñon', 'queso', 'chango', 'choco', 'queso', 'angel'], \n",
    "    'precio': [45, 105, 30, 60, 85, 45, 120], \n",
    "    'tamaño': ['m', 'g', 'ch', 'ch', 'g', 'm', 'g']\n",
    "}"
   ]
  },
  {
   "cell_type": "code",
   "execution_count": 3,
   "id": "79857d1a-3944-4e77-a166-37178f600e57",
   "metadata": {},
   "outputs": [],
   "source": [
    "df = pd.DataFrame(experimento)"
   ]
  },
  {
   "cell_type": "code",
   "execution_count": 4,
   "id": "8683b3a4-6c7e-4c5b-a0d6-31c61d47b200",
   "metadata": {},
   "outputs": [],
   "source": [
    "df['activación'] = [True, True, False, False, True, True, False]"
   ]
  },
  {
   "cell_type": "code",
   "execution_count": 5,
   "id": "b6c8e96c-36cf-43e2-ab51-c3a058bd2758",
   "metadata": {},
   "outputs": [
    {
     "data": {
      "text/html": [
       "<div>\n",
       "<style scoped>\n",
       "    .dataframe tbody tr th:only-of-type {\n",
       "        vertical-align: middle;\n",
       "    }\n",
       "\n",
       "    .dataframe tbody tr th {\n",
       "        vertical-align: top;\n",
       "    }\n",
       "\n",
       "    .dataframe thead th {\n",
       "        text-align: right;\n",
       "    }\n",
       "</style>\n",
       "<table border=\"1\" class=\"dataframe\">\n",
       "  <thead>\n",
       "    <tr style=\"text-align: right;\">\n",
       "      <th></th>\n",
       "      <th>sujeto</th>\n",
       "      <th>sabor</th>\n",
       "      <th>precio</th>\n",
       "      <th>tamaño</th>\n",
       "      <th>activación</th>\n",
       "    </tr>\n",
       "  </thead>\n",
       "  <tbody>\n",
       "    <tr>\n",
       "      <th>0</th>\n",
       "      <td>S01</td>\n",
       "      <td>choco</td>\n",
       "      <td>45</td>\n",
       "      <td>m</td>\n",
       "      <td>True</td>\n",
       "    </tr>\n",
       "    <tr>\n",
       "      <th>4</th>\n",
       "      <td>S01</td>\n",
       "      <td>choco</td>\n",
       "      <td>85</td>\n",
       "      <td>g</td>\n",
       "      <td>True</td>\n",
       "    </tr>\n",
       "    <tr>\n",
       "      <th>5</th>\n",
       "      <td>S01</td>\n",
       "      <td>queso</td>\n",
       "      <td>45</td>\n",
       "      <td>m</td>\n",
       "      <td>True</td>\n",
       "    </tr>\n",
       "  </tbody>\n",
       "</table>\n",
       "</div>"
      ],
      "text/plain": [
       "  sujeto  sabor  precio tamaño  activación\n",
       "0    S01  choco      45      m        True\n",
       "4    S01  choco      85      g        True\n",
       "5    S01  queso      45      m        True"
      ]
     },
     "execution_count": 5,
     "metadata": {},
     "output_type": "execute_result"
    }
   ],
   "source": [
    "df[ df['sujeto'] == 'S01' ]"
   ]
  },
  {
   "cell_type": "code",
   "execution_count": 6,
   "id": "d926ec69-c26f-4828-a220-57d86ced21f0",
   "metadata": {},
   "outputs": [
    {
     "data": {
      "text/html": [
       "<div>\n",
       "<style scoped>\n",
       "    .dataframe tbody tr th:only-of-type {\n",
       "        vertical-align: middle;\n",
       "    }\n",
       "\n",
       "    .dataframe tbody tr th {\n",
       "        vertical-align: top;\n",
       "    }\n",
       "\n",
       "    .dataframe thead th {\n",
       "        text-align: right;\n",
       "    }\n",
       "</style>\n",
       "<table border=\"1\" class=\"dataframe\">\n",
       "  <thead>\n",
       "    <tr style=\"text-align: right;\">\n",
       "      <th></th>\n",
       "      <th>sujeto</th>\n",
       "      <th>sabor</th>\n",
       "      <th>precio</th>\n",
       "      <th>tamaño</th>\n",
       "      <th>activación</th>\n",
       "    </tr>\n",
       "  </thead>\n",
       "  <tbody>\n",
       "    <tr>\n",
       "      <th>1</th>\n",
       "      <td>S02</td>\n",
       "      <td>piñon</td>\n",
       "      <td>105</td>\n",
       "      <td>g</td>\n",
       "      <td>True</td>\n",
       "    </tr>\n",
       "    <tr>\n",
       "      <th>3</th>\n",
       "      <td>S02</td>\n",
       "      <td>chango</td>\n",
       "      <td>60</td>\n",
       "      <td>ch</td>\n",
       "      <td>False</td>\n",
       "    </tr>\n",
       "    <tr>\n",
       "      <th>6</th>\n",
       "      <td>S02</td>\n",
       "      <td>angel</td>\n",
       "      <td>120</td>\n",
       "      <td>g</td>\n",
       "      <td>False</td>\n",
       "    </tr>\n",
       "  </tbody>\n",
       "</table>\n",
       "</div>"
      ],
      "text/plain": [
       "  sujeto   sabor  precio tamaño  activación\n",
       "1    S02   piñon     105      g        True\n",
       "3    S02  chango      60     ch       False\n",
       "6    S02   angel     120      g       False"
      ]
     },
     "execution_count": 6,
     "metadata": {},
     "output_type": "execute_result"
    }
   ],
   "source": [
    "df[ df['sujeto'] == 'S02' ]"
   ]
  },
  {
   "cell_type": "code",
   "execution_count": 7,
   "id": "16136856-24b8-4114-b33c-c697187c7f5a",
   "metadata": {},
   "outputs": [
    {
     "data": {
      "text/html": [
       "<div>\n",
       "<style scoped>\n",
       "    .dataframe tbody tr th:only-of-type {\n",
       "        vertical-align: middle;\n",
       "    }\n",
       "\n",
       "    .dataframe tbody tr th {\n",
       "        vertical-align: top;\n",
       "    }\n",
       "\n",
       "    .dataframe thead th {\n",
       "        text-align: right;\n",
       "    }\n",
       "</style>\n",
       "<table border=\"1\" class=\"dataframe\">\n",
       "  <thead>\n",
       "    <tr style=\"text-align: right;\">\n",
       "      <th></th>\n",
       "      <th>sujeto</th>\n",
       "      <th>sabor</th>\n",
       "      <th>precio</th>\n",
       "      <th>tamaño</th>\n",
       "      <th>activación</th>\n",
       "    </tr>\n",
       "  </thead>\n",
       "  <tbody>\n",
       "    <tr>\n",
       "      <th>2</th>\n",
       "      <td>S03</td>\n",
       "      <td>queso</td>\n",
       "      <td>30</td>\n",
       "      <td>ch</td>\n",
       "      <td>False</td>\n",
       "    </tr>\n",
       "  </tbody>\n",
       "</table>\n",
       "</div>"
      ],
      "text/plain": [
       "  sujeto  sabor  precio tamaño  activación\n",
       "2    S03  queso      30     ch       False"
      ]
     },
     "execution_count": 7,
     "metadata": {},
     "output_type": "execute_result"
    }
   ],
   "source": [
    "df[ df['sujeto'] == 'S03' ]"
   ]
  },
  {
   "cell_type": "code",
   "execution_count": 8,
   "id": "7d8a089d-c754-4c78-80c4-e0d546888640",
   "metadata": {},
   "outputs": [
    {
     "data": {
      "text/plain": [
       "<pandas.core.groupby.generic.DataFrameGroupBy object at 0x00000198FFBFFD00>"
      ]
     },
     "execution_count": 8,
     "metadata": {},
     "output_type": "execute_result"
    }
   ],
   "source": [
    "df.groupby( by='sujeto' )"
   ]
  },
  {
   "cell_type": "code",
   "execution_count": 9,
   "id": "3b84815a-0b39-48ae-bb7c-3dfa144b0e53",
   "metadata": {},
   "outputs": [
    {
     "data": {
      "text/html": [
       "<div>\n",
       "<style scoped>\n",
       "    .dataframe tbody tr th:only-of-type {\n",
       "        vertical-align: middle;\n",
       "    }\n",
       "\n",
       "    .dataframe tbody tr th {\n",
       "        vertical-align: top;\n",
       "    }\n",
       "\n",
       "    .dataframe thead tr th {\n",
       "        text-align: left;\n",
       "    }\n",
       "\n",
       "    .dataframe thead tr:last-of-type th {\n",
       "        text-align: right;\n",
       "    }\n",
       "</style>\n",
       "<table border=\"1\" class=\"dataframe\">\n",
       "  <thead>\n",
       "    <tr>\n",
       "      <th></th>\n",
       "      <th colspan=\"10\" halign=\"left\">sabor</th>\n",
       "      <th>...</th>\n",
       "      <th colspan=\"10\" halign=\"left\">activación</th>\n",
       "    </tr>\n",
       "    <tr>\n",
       "      <th></th>\n",
       "      <th>count</th>\n",
       "      <th>unique</th>\n",
       "      <th>top</th>\n",
       "      <th>freq</th>\n",
       "      <th>mean</th>\n",
       "      <th>std</th>\n",
       "      <th>min</th>\n",
       "      <th>25%</th>\n",
       "      <th>50%</th>\n",
       "      <th>75%</th>\n",
       "      <th>...</th>\n",
       "      <th>unique</th>\n",
       "      <th>top</th>\n",
       "      <th>freq</th>\n",
       "      <th>mean</th>\n",
       "      <th>std</th>\n",
       "      <th>min</th>\n",
       "      <th>25%</th>\n",
       "      <th>50%</th>\n",
       "      <th>75%</th>\n",
       "      <th>max</th>\n",
       "    </tr>\n",
       "    <tr>\n",
       "      <th>sujeto</th>\n",
       "      <th></th>\n",
       "      <th></th>\n",
       "      <th></th>\n",
       "      <th></th>\n",
       "      <th></th>\n",
       "      <th></th>\n",
       "      <th></th>\n",
       "      <th></th>\n",
       "      <th></th>\n",
       "      <th></th>\n",
       "      <th></th>\n",
       "      <th></th>\n",
       "      <th></th>\n",
       "      <th></th>\n",
       "      <th></th>\n",
       "      <th></th>\n",
       "      <th></th>\n",
       "      <th></th>\n",
       "      <th></th>\n",
       "      <th></th>\n",
       "      <th></th>\n",
       "    </tr>\n",
       "  </thead>\n",
       "  <tbody>\n",
       "    <tr>\n",
       "      <th>S01</th>\n",
       "      <td>3</td>\n",
       "      <td>2</td>\n",
       "      <td>choco</td>\n",
       "      <td>2</td>\n",
       "      <td>NaN</td>\n",
       "      <td>NaN</td>\n",
       "      <td>NaN</td>\n",
       "      <td>NaN</td>\n",
       "      <td>NaN</td>\n",
       "      <td>NaN</td>\n",
       "      <td>...</td>\n",
       "      <td>1</td>\n",
       "      <td>True</td>\n",
       "      <td>3</td>\n",
       "      <td>NaN</td>\n",
       "      <td>NaN</td>\n",
       "      <td>NaN</td>\n",
       "      <td>NaN</td>\n",
       "      <td>NaN</td>\n",
       "      <td>NaN</td>\n",
       "      <td>NaN</td>\n",
       "    </tr>\n",
       "    <tr>\n",
       "      <th>S02</th>\n",
       "      <td>3</td>\n",
       "      <td>3</td>\n",
       "      <td>piñon</td>\n",
       "      <td>1</td>\n",
       "      <td>NaN</td>\n",
       "      <td>NaN</td>\n",
       "      <td>NaN</td>\n",
       "      <td>NaN</td>\n",
       "      <td>NaN</td>\n",
       "      <td>NaN</td>\n",
       "      <td>...</td>\n",
       "      <td>2</td>\n",
       "      <td>False</td>\n",
       "      <td>2</td>\n",
       "      <td>NaN</td>\n",
       "      <td>NaN</td>\n",
       "      <td>NaN</td>\n",
       "      <td>NaN</td>\n",
       "      <td>NaN</td>\n",
       "      <td>NaN</td>\n",
       "      <td>NaN</td>\n",
       "    </tr>\n",
       "    <tr>\n",
       "      <th>S03</th>\n",
       "      <td>1</td>\n",
       "      <td>1</td>\n",
       "      <td>queso</td>\n",
       "      <td>1</td>\n",
       "      <td>NaN</td>\n",
       "      <td>NaN</td>\n",
       "      <td>NaN</td>\n",
       "      <td>NaN</td>\n",
       "      <td>NaN</td>\n",
       "      <td>NaN</td>\n",
       "      <td>...</td>\n",
       "      <td>1</td>\n",
       "      <td>False</td>\n",
       "      <td>1</td>\n",
       "      <td>NaN</td>\n",
       "      <td>NaN</td>\n",
       "      <td>NaN</td>\n",
       "      <td>NaN</td>\n",
       "      <td>NaN</td>\n",
       "      <td>NaN</td>\n",
       "      <td>NaN</td>\n",
       "    </tr>\n",
       "  </tbody>\n",
       "</table>\n",
       "<p>3 rows × 44 columns</p>\n",
       "</div>"
      ],
      "text/plain": [
       "       sabor                                                   ... activación  \\\n",
       "       count unique    top freq mean  std  min  25%  50%  75%  ...     unique   \n",
       "sujeto                                                         ...              \n",
       "S01        3      2  choco    2  NaN  NaN  NaN  NaN  NaN  NaN  ...          1   \n",
       "S02        3      3  piñon    1  NaN  NaN  NaN  NaN  NaN  NaN  ...          2   \n",
       "S03        1      1  queso    1  NaN  NaN  NaN  NaN  NaN  NaN  ...          1   \n",
       "\n",
       "                                                       \n",
       "          top freq mean  std  min  25%  50%  75%  max  \n",
       "sujeto                                                 \n",
       "S01      True    3  NaN  NaN  NaN  NaN  NaN  NaN  NaN  \n",
       "S02     False    2  NaN  NaN  NaN  NaN  NaN  NaN  NaN  \n",
       "S03     False    1  NaN  NaN  NaN  NaN  NaN  NaN  NaN  \n",
       "\n",
       "[3 rows x 44 columns]"
      ]
     },
     "execution_count": 9,
     "metadata": {},
     "output_type": "execute_result"
    }
   ],
   "source": [
    "df_por_sujeto = df.groupby( by='sujeto' )\n",
    "df_por_sujeto.describe(include='all')"
   ]
  },
  {
   "cell_type": "code",
   "execution_count": 10,
   "id": "180a17aa-6104-473a-996e-93c2ab2ba7f3",
   "metadata": {},
   "outputs": [
    {
     "data": {
      "text/html": [
       "<div>\n",
       "<style scoped>\n",
       "    .dataframe tbody tr th:only-of-type {\n",
       "        vertical-align: middle;\n",
       "    }\n",
       "\n",
       "    .dataframe tbody tr th {\n",
       "        vertical-align: top;\n",
       "    }\n",
       "\n",
       "    .dataframe thead th {\n",
       "        text-align: right;\n",
       "    }\n",
       "</style>\n",
       "<table border=\"1\" class=\"dataframe\">\n",
       "  <thead>\n",
       "    <tr style=\"text-align: right;\">\n",
       "      <th></th>\n",
       "      <th>sujeto</th>\n",
       "      <th>sabor</th>\n",
       "      <th>precio</th>\n",
       "      <th>tamaño</th>\n",
       "      <th>activación</th>\n",
       "    </tr>\n",
       "  </thead>\n",
       "  <tbody>\n",
       "    <tr>\n",
       "      <th>count</th>\n",
       "      <td>7</td>\n",
       "      <td>7</td>\n",
       "      <td>7.00000</td>\n",
       "      <td>7</td>\n",
       "      <td>7</td>\n",
       "    </tr>\n",
       "    <tr>\n",
       "      <th>unique</th>\n",
       "      <td>3</td>\n",
       "      <td>5</td>\n",
       "      <td>NaN</td>\n",
       "      <td>3</td>\n",
       "      <td>2</td>\n",
       "    </tr>\n",
       "    <tr>\n",
       "      <th>top</th>\n",
       "      <td>S01</td>\n",
       "      <td>choco</td>\n",
       "      <td>NaN</td>\n",
       "      <td>g</td>\n",
       "      <td>True</td>\n",
       "    </tr>\n",
       "    <tr>\n",
       "      <th>freq</th>\n",
       "      <td>3</td>\n",
       "      <td>2</td>\n",
       "      <td>NaN</td>\n",
       "      <td>3</td>\n",
       "      <td>4</td>\n",
       "    </tr>\n",
       "    <tr>\n",
       "      <th>mean</th>\n",
       "      <td>NaN</td>\n",
       "      <td>NaN</td>\n",
       "      <td>70.00000</td>\n",
       "      <td>NaN</td>\n",
       "      <td>NaN</td>\n",
       "    </tr>\n",
       "    <tr>\n",
       "      <th>std</th>\n",
       "      <td>NaN</td>\n",
       "      <td>NaN</td>\n",
       "      <td>33.91165</td>\n",
       "      <td>NaN</td>\n",
       "      <td>NaN</td>\n",
       "    </tr>\n",
       "    <tr>\n",
       "      <th>min</th>\n",
       "      <td>NaN</td>\n",
       "      <td>NaN</td>\n",
       "      <td>30.00000</td>\n",
       "      <td>NaN</td>\n",
       "      <td>NaN</td>\n",
       "    </tr>\n",
       "    <tr>\n",
       "      <th>25%</th>\n",
       "      <td>NaN</td>\n",
       "      <td>NaN</td>\n",
       "      <td>45.00000</td>\n",
       "      <td>NaN</td>\n",
       "      <td>NaN</td>\n",
       "    </tr>\n",
       "    <tr>\n",
       "      <th>50%</th>\n",
       "      <td>NaN</td>\n",
       "      <td>NaN</td>\n",
       "      <td>60.00000</td>\n",
       "      <td>NaN</td>\n",
       "      <td>NaN</td>\n",
       "    </tr>\n",
       "    <tr>\n",
       "      <th>75%</th>\n",
       "      <td>NaN</td>\n",
       "      <td>NaN</td>\n",
       "      <td>95.00000</td>\n",
       "      <td>NaN</td>\n",
       "      <td>NaN</td>\n",
       "    </tr>\n",
       "    <tr>\n",
       "      <th>max</th>\n",
       "      <td>NaN</td>\n",
       "      <td>NaN</td>\n",
       "      <td>120.00000</td>\n",
       "      <td>NaN</td>\n",
       "      <td>NaN</td>\n",
       "    </tr>\n",
       "  </tbody>\n",
       "</table>\n",
       "</div>"
      ],
      "text/plain": [
       "       sujeto  sabor     precio tamaño activación\n",
       "count       7      7    7.00000      7          7\n",
       "unique      3      5        NaN      3          2\n",
       "top       S01  choco        NaN      g       True\n",
       "freq        3      2        NaN      3          4\n",
       "mean      NaN    NaN   70.00000    NaN        NaN\n",
       "std       NaN    NaN   33.91165    NaN        NaN\n",
       "min       NaN    NaN   30.00000    NaN        NaN\n",
       "25%       NaN    NaN   45.00000    NaN        NaN\n",
       "50%       NaN    NaN   60.00000    NaN        NaN\n",
       "75%       NaN    NaN   95.00000    NaN        NaN\n",
       "max       NaN    NaN  120.00000    NaN        NaN"
      ]
     },
     "execution_count": 10,
     "metadata": {},
     "output_type": "execute_result"
    }
   ],
   "source": [
    "df.describe(include='all')"
   ]
  },
  {
   "cell_type": "code",
   "execution_count": 11,
   "id": "fa77d2da-a3e3-49c0-adff-179cd6f3548c",
   "metadata": {},
   "outputs": [],
   "source": [
    "tipos_sujetos = ['S'+str(i).zfill(2) for i in range(4)]\n",
    "generos = ['M', 'F']\n",
    "condicion = ['control', 'experimental']\n",
    "region = ['hipocampo', 'cortex prefrontal', 'amigdala']\n",
    "neurotransmisor = ['dopamina', 'serotonina']\n",
    "\n",
    "# Crear un dataframe de 200 filas\n",
    "# con las columnas: tipos_sujetos, generos, condicion, region, neurotransmisor; \n",
    "# estas columnas deben tener una distribución uniforme\n",
    "# agregar una columna llamada \"precisión\" q tenga una distribución normal con mu=0.92, sigma=0.08\n",
    "# Este dataset pretende simular los resultados de un estudio en el que se miden variables congnitivas\n",
    "# y fisiológicas en diferentes regiones cerebrales, sujetos y condiciones experimentales"
   ]
  },
  {
   "cell_type": "code",
   "execution_count": 12,
   "id": "c03e294a-c20e-4d7b-a504-044265c70d9a",
   "metadata": {},
   "outputs": [],
   "source": [
    "tipos_sujetos = ['S'+str(i).zfill(2) for i in range(4)]\n",
    "\n",
    "longitud = 200\n",
    "enteros = np.random.randint(0, 4, size=longitud)\n",
    "sujetos = ['S'+str(i).zfill(2) for i in enteros]"
   ]
  },
  {
   "cell_type": "code",
   "execution_count": 13,
   "id": "8218163b-351a-40b1-8391-5f5bc7999219",
   "metadata": {},
   "outputs": [],
   "source": [
    "tipos_sujetos = ['S'+str(i).zfill(2) for i in range(4)]\n",
    "longitud = 200\n",
    "ops_sujetos = np.random.randint(len(tipos_sujetos), size=longitud)\n",
    "sujetos2 = [tipos_sujetos[i] for i in ops_sujetos]"
   ]
  },
  {
   "cell_type": "code",
   "execution_count": 14,
   "id": "4d233211-c901-4656-8473-a0dc1aeec082",
   "metadata": {},
   "outputs": [],
   "source": [
    "generos = ['M', 'F']\n",
    "longitud = 200\n",
    "ops_gens = np.random.randint(len(generos), size=longitud)\n",
    "lista_generos = [generos[i] for i in ops_gens]"
   ]
  },
  {
   "cell_type": "code",
   "execution_count": 15,
   "id": "9225c122-63c2-4ca9-b3c8-88076813049a",
   "metadata": {},
   "outputs": [],
   "source": [
    "generos = ['M', 'F']\n",
    "longitud = 200\n",
    "ops_generos = np.random.randint(len(generos), size=longitud)\n",
    "gen = []\n",
    "for x in ops_generos:\n",
    "    if x == 0:\n",
    "        gen.append('M')\n",
    "    else:\n",
    "        gen.append('F')"
   ]
  },
  {
   "cell_type": "code",
   "execution_count": 16,
   "id": "71f971da-1a64-4bcf-a0e5-375fbd5250bc",
   "metadata": {},
   "outputs": [],
   "source": [
    "# generar el histograma de cuántos datos por sujeto se tienen\n",
    "# mostrar en un histograma la proporción de neurotransmisor"
   ]
  },
  {
   "cell_type": "code",
   "execution_count": 2,
   "id": "7905ecf0-d09f-4498-8739-885e4e2c6674",
   "metadata": {},
   "outputs": [],
   "source": [
    "tipos_sujetos = ['S'+str(i).zfill(2) for i in range(4)]\n",
    "generos = ['M', 'F']\n",
    "condicion = ['control', 'experimental']\n",
    "region = ['hipocampo', 'cortex prefrontal', 'amigdala']\n",
    "neurotransmisor = ['dopamina', 'serotonina']\n",
    "\n",
    "longitud = 200\n",
    "variables = [tipos_sujetos, generos, condicion, region, neurotransmisor]\n",
    "data = []\n",
    "\n",
    "for variable in variables:\n",
    "    opciones = np.random.randint(len(variable), size=longitud)\n",
    "    data.append([variable[i] for i in opciones])\n",
    "\n",
    "df = pd.DataFrame(data).transpose()\n",
    "df.columns = ['sujeto', 'genero', 'condicion', 'region', 'neuro']\n",
    "\n",
    "# agregar una columna llamada \"precisión\" q tenga una distribución normal con mu=0.92, sigma=0.08\n",
    "df['precision'] = np.random.normal(loc=0.92, scale=0.08, size=longitud)"
   ]
  },
  {
   "cell_type": "code",
   "execution_count": 3,
   "id": "0a129c22-19ee-4af0-ba64-a89f5b3d24fd",
   "metadata": {
    "scrolled": true
   },
   "outputs": [
    {
     "data": {
      "text/html": [
       "<div>\n",
       "<style scoped>\n",
       "    .dataframe tbody tr th:only-of-type {\n",
       "        vertical-align: middle;\n",
       "    }\n",
       "\n",
       "    .dataframe tbody tr th {\n",
       "        vertical-align: top;\n",
       "    }\n",
       "\n",
       "    .dataframe thead th {\n",
       "        text-align: right;\n",
       "    }\n",
       "</style>\n",
       "<table border=\"1\" class=\"dataframe\">\n",
       "  <thead>\n",
       "    <tr style=\"text-align: right;\">\n",
       "      <th></th>\n",
       "      <th>sujeto</th>\n",
       "      <th>genero</th>\n",
       "      <th>condicion</th>\n",
       "      <th>region</th>\n",
       "      <th>neuro</th>\n",
       "      <th>precision</th>\n",
       "    </tr>\n",
       "  </thead>\n",
       "  <tbody>\n",
       "    <tr>\n",
       "      <th>0</th>\n",
       "      <td>S02</td>\n",
       "      <td>M</td>\n",
       "      <td>experimental</td>\n",
       "      <td>amigdala</td>\n",
       "      <td>serotonina</td>\n",
       "      <td>0.790639</td>\n",
       "    </tr>\n",
       "    <tr>\n",
       "      <th>1</th>\n",
       "      <td>S00</td>\n",
       "      <td>M</td>\n",
       "      <td>experimental</td>\n",
       "      <td>hipocampo</td>\n",
       "      <td>dopamina</td>\n",
       "      <td>0.876136</td>\n",
       "    </tr>\n",
       "    <tr>\n",
       "      <th>2</th>\n",
       "      <td>S01</td>\n",
       "      <td>M</td>\n",
       "      <td>experimental</td>\n",
       "      <td>cortex prefrontal</td>\n",
       "      <td>serotonina</td>\n",
       "      <td>0.864738</td>\n",
       "    </tr>\n",
       "  </tbody>\n",
       "</table>\n",
       "</div>"
      ],
      "text/plain": [
       "  sujeto genero     condicion             region       neuro  precision\n",
       "0    S02      M  experimental           amigdala  serotonina   0.790639\n",
       "1    S00      M  experimental          hipocampo    dopamina   0.876136\n",
       "2    S01      M  experimental  cortex prefrontal  serotonina   0.864738"
      ]
     },
     "execution_count": 3,
     "metadata": {},
     "output_type": "execute_result"
    }
   ],
   "source": [
    "df.head(3)"
   ]
  },
  {
   "cell_type": "code",
   "execution_count": null,
   "id": "34c215cb-d97f-44b6-a589-21a87078eb0f",
   "metadata": {},
   "outputs": [],
   "source": [
    "# generar el histograma de cuántos datos por sujeto se tienen\n",
    "# mostrar en un histograma la proporción de neurotransmisor"
   ]
  },
  {
   "cell_type": "code",
   "execution_count": 4,
   "id": "6d76ed6c-1dc9-489e-9b5f-e8dfa076ad68",
   "metadata": {},
   "outputs": [],
   "source": [
    "import matplotlib.pyplot as plt"
   ]
  },
  {
   "cell_type": "code",
   "execution_count": 9,
   "id": "901c241b-535e-4493-9a18-6b1250c91091",
   "metadata": {},
   "outputs": [
    {
     "data": {
      "image/png": "[encoded data removed]",
      "text/plain": [
       "<Figure size 300x300 with 1 Axes>"
      ]
     },
     "metadata": {},
     "output_type": "display_data"
    }
   ],
   "source": [
    "plt.figure(figsize=(3, 3)) \n",
    "plt.hist(df['sujeto'], color='tab:orange', alpha=0.5);"
   ]
  },
  {
   "cell_type": "code",
   "execution_count": 10,
   "id": "90b4b0ec-960f-4a97-aa4e-8bbec38b4bd3",
   "metadata": {},
   "outputs": [
    {
     "data": {
      "image/png": "[encoded data removed]",
      "text/plain": [
       "<Figure size 300x300 with 1 Axes>"
      ]
     },
     "metadata": {},
     "output_type": "display_data"
    }
   ],
   "source": [
    "plt.figure(figsize=(3, 3))\n",
    "plt.hist(df['neuro'], color='tab:blue', alpha=0.5);"
   ]
  },
  {
   "cell_type": "code",
   "execution_count": null,
   "id": "219fff59-fe84-49a9-b877-b48822f6d68e",
   "metadata": {},
   "outputs": [],
   "source": [
    "# para cada sujeto, sacar la proporción del tipo de condición\n",
    "# para cada sujeto, calcular el máximo, el mínimo y la media de su precisión\n",
    "# para cada condición, hacer el histograma de las regiones activadas\n",
    "\n",
    "# hacerlo mediante 2 métodos: filtrado de dataframes y usando groupby"
   ]
  },
  {
   "cell_type": "code",
   "execution_count": 13,
   "id": "590c92e4",
   "metadata": {},
   "outputs": [
    {
     "data": {
      "text/html": [
       "<div>\n",
       "<style scoped>\n",
       "    .dataframe tbody tr th:only-of-type {\n",
       "        vertical-align: middle;\n",
       "    }\n",
       "\n",
       "    .dataframe tbody tr th {\n",
       "        vertical-align: top;\n",
       "    }\n",
       "\n",
       "    .dataframe thead th {\n",
       "        text-align: right;\n",
       "    }\n",
       "</style>\n",
       "<table border=\"1\" class=\"dataframe\">\n",
       "  <thead>\n",
       "    <tr style=\"text-align: right;\">\n",
       "      <th></th>\n",
       "      <th>sujeto</th>\n",
       "      <th>genero</th>\n",
       "      <th>condicion</th>\n",
       "      <th>region</th>\n",
       "      <th>neuro</th>\n",
       "      <th>precision</th>\n",
       "    </tr>\n",
       "  </thead>\n",
       "  <tbody>\n",
       "    <tr>\n",
       "      <th>0</th>\n",
       "      <td>S02</td>\n",
       "      <td>M</td>\n",
       "      <td>experimental</td>\n",
       "      <td>amigdala</td>\n",
       "      <td>serotonina</td>\n",
       "      <td>0.790639</td>\n",
       "    </tr>\n",
       "    <tr>\n",
       "      <th>1</th>\n",
       "      <td>S00</td>\n",
       "      <td>M</td>\n",
       "      <td>experimental</td>\n",
       "      <td>hipocampo</td>\n",
       "      <td>dopamina</td>\n",
       "      <td>0.876136</td>\n",
       "    </tr>\n",
       "    <tr>\n",
       "      <th>2</th>\n",
       "      <td>S01</td>\n",
       "      <td>M</td>\n",
       "      <td>experimental</td>\n",
       "      <td>cortex prefrontal</td>\n",
       "      <td>serotonina</td>\n",
       "      <td>0.864738</td>\n",
       "    </tr>\n",
       "  </tbody>\n",
       "</table>\n",
       "</div>"
      ],
      "text/plain": [
       "  sujeto genero     condicion             region       neuro  precision\n",
       "0    S02      M  experimental           amigdala  serotonina   0.790639\n",
       "1    S00      M  experimental          hipocampo    dopamina   0.876136\n",
       "2    S01      M  experimental  cortex prefrontal  serotonina   0.864738"
      ]
     },
     "execution_count": 13,
     "metadata": {},
     "output_type": "execute_result"
    }
   ],
   "source": [
    "df.head(3)"
   ]
  },
  {
   "cell_type": "code",
   "execution_count": 20,
   "id": "97a203c0-e4c5-496c-b27a-0b1c8a23f510",
   "metadata": {
    "scrolled": true
   },
   "outputs": [
    {
     "data": {
      "image/png": "[encoded data removed]",
      "text/plain": [
       "<Figure size 300x300 with 1 Axes>"
      ]
     },
     "metadata": {},
     "output_type": "display_data"
    },
    {
     "data": {
      "image/png": "[encoded data removed]",
      "text/plain": [
       "<Figure size 300x300 with 1 Axes>"
      ]
     },
     "metadata": {},
     "output_type": "display_data"
    },
    {
     "data": {
      "image/png": "[encoded data removed]",
      "text/plain": [
       "<Figure size 300x300 with 1 Axes>"
      ]
     },
     "metadata": {},
     "output_type": "display_data"
    },
    {
     "data": {
      "image/png": "[encoded data removed]",
      "text/plain": [
       "<Figure size 300x300 with 1 Axes>"
      ]
     },
     "metadata": {},
     "output_type": "display_data"
    }
   ],
   "source": [
    "# para cada sujeto, sacar la proporción del tipo de condición\n",
    "for sujeto in df.sujeto.unique():\n",
    "    plt.figure(figsize=(3, 3))\n",
    "    plt.hist(df[ df['sujeto']==sujeto ][\"condicion\"])\n",
    "    plt.title(sujeto)\n",
    "    plt.show()"
   ]
  },
  {
   "cell_type": "code",
   "execution_count": 30,
   "id": "0ca465a8-01eb-4430-b913-85cb87f9cd20",
   "metadata": {
    "scrolled": true
   },
   "outputs": [
    {
     "data": {
      "image/png": "[encoded data removed]",
      "text/plain": [
       "<Figure size 300x300 with 1 Axes>"
      ]
     },
     "metadata": {},
     "output_type": "display_data"
    },
    {
     "data": {
      "image/png": "[encoded data removed]",
      "text/plain": [
       "<Figure size 300x300 with 1 Axes>"
      ]
     },
     "metadata": {},
     "output_type": "display_data"
    },
    {
     "data": {
      "image/png": "[encoded data removed]",
      "text/plain": [
       "<Figure size 300x300 with 1 Axes>"
      ]
     },
     "metadata": {},
     "output_type": "display_data"
    },
    {
     "data": {
      "image/png": "[encoded data removed]",
      "text/plain": [
       "<Figure size 300x300 with 1 Axes>"
      ]
     },
     "metadata": {},
     "output_type": "display_data"
    }
   ],
   "source": [
    "for sujeto, grupo in df.groupby(by=\"sujeto\")[\"condicion\"]:\n",
    "    plt.figure(figsize=(3, 3))\n",
    "    plt.hist(grupo)\n",
    "    plt.title(sujeto)\n",
    "    plt.show()"
   ]
  },
  {
   "cell_type": "code",
   "execution_count": 36,
   "id": "719057fd-ed53-4240-9393-0fbb96c2946e",
   "metadata": {},
   "outputs": [
    {
     "name": "stdout",
     "output_type": "stream",
     "text": [
      "El sujeto S02 tiene precisión máxima = 1.1, \n",
      "          mínima = 0.73, media = 0.94\n",
      "El sujeto S00 tiene precisión máxima = 1.14, \n",
      "          mínima = 0.76, media = 0.93\n",
      "El sujeto S01 tiene precisión máxima = 1.04, \n",
      "          mínima = 0.63, media = 0.93\n",
      "El sujeto S03 tiene precisión máxima = 1.1, \n",
      "          mínima = 0.72, media = 0.93\n"
     ]
    }
   ],
   "source": [
    "# para cada sujeto, calcular el máximo, el mínimo y la media de su precisión\n",
    "for sujeto in df.sujeto.unique():\n",
    "    grupo = df[ df['sujeto']==sujeto ][\"precision\"]\n",
    "    print(f\"\"\"El sujeto {sujeto} tiene precisión máxima = {round(grupo.max(), 2)}, \n",
    "          mínima = {round(grupo.min(), 2)}, media = {round(grupo.mean(), 2)}\"\"\")"
   ]
  },
  {
   "cell_type": "code",
   "execution_count": 37,
   "id": "f26de75c",
   "metadata": {},
   "outputs": [
    {
     "name": "stdout",
     "output_type": "stream",
     "text": [
      "El sujeto S00 tiene precisión máxima = 1.14, \n",
      "          mínima = 0.76, media = 0.93\n",
      "El sujeto S01 tiene precisión máxima = 1.04, \n",
      "          mínima = 0.63, media = 0.93\n",
      "El sujeto S02 tiene precisión máxima = 1.1, \n",
      "          mínima = 0.73, media = 0.94\n",
      "El sujeto S03 tiene precisión máxima = 1.1, \n",
      "          mínima = 0.72, media = 0.93\n"
     ]
    }
   ],
   "source": [
    "for sujeto, grupo in df.groupby(by=\"sujeto\")[\"precision\"]:\n",
    "    print(f\"\"\"El sujeto {sujeto} tiene precisión máxima = {round(grupo.max(), 2)}, \n",
    "          mínima = {round(grupo.min(), 2)}, media = {round(grupo.mean(), 2)}\"\"\")"
   ]
  },
  {
   "cell_type": "code",
   "execution_count": 38,
   "id": "eea0e405",
   "metadata": {},
   "outputs": [
    {
     "data": {
      "text/html": [
       "<div>\n",
       "<style scoped>\n",
       "    .dataframe tbody tr th:only-of-type {\n",
       "        vertical-align: middle;\n",
       "    }\n",
       "\n",
       "    .dataframe tbody tr th {\n",
       "        vertical-align: top;\n",
       "    }\n",
       "\n",
       "    .dataframe thead th {\n",
       "        text-align: right;\n",
       "    }\n",
       "</style>\n",
       "<table border=\"1\" class=\"dataframe\">\n",
       "  <thead>\n",
       "    <tr style=\"text-align: right;\">\n",
       "      <th></th>\n",
       "      <th>sujeto</th>\n",
       "      <th>genero</th>\n",
       "      <th>condicion</th>\n",
       "      <th>region</th>\n",
       "      <th>neuro</th>\n",
       "      <th>precision</th>\n",
       "    </tr>\n",
       "  </thead>\n",
       "  <tbody>\n",
       "    <tr>\n",
       "      <th>0</th>\n",
       "      <td>S02</td>\n",
       "      <td>M</td>\n",
       "      <td>experimental</td>\n",
       "      <td>amigdala</td>\n",
       "      <td>serotonina</td>\n",
       "      <td>0.790639</td>\n",
       "    </tr>\n",
       "    <tr>\n",
       "      <th>1</th>\n",
       "      <td>S00</td>\n",
       "      <td>M</td>\n",
       "      <td>experimental</td>\n",
       "      <td>hipocampo</td>\n",
       "      <td>dopamina</td>\n",
       "      <td>0.876136</td>\n",
       "    </tr>\n",
       "    <tr>\n",
       "      <th>2</th>\n",
       "      <td>S01</td>\n",
       "      <td>M</td>\n",
       "      <td>experimental</td>\n",
       "      <td>cortex prefrontal</td>\n",
       "      <td>serotonina</td>\n",
       "      <td>0.864738</td>\n",
       "    </tr>\n",
       "  </tbody>\n",
       "</table>\n",
       "</div>"
      ],
      "text/plain": [
       "  sujeto genero     condicion             region       neuro  precision\n",
       "0    S02      M  experimental           amigdala  serotonina   0.790639\n",
       "1    S00      M  experimental          hipocampo    dopamina   0.876136\n",
       "2    S01      M  experimental  cortex prefrontal  serotonina   0.864738"
      ]
     },
     "execution_count": 38,
     "metadata": {},
     "output_type": "execute_result"
    }
   ],
   "source": [
    "df.head(3)"
   ]
  },
  {
   "cell_type": "code",
   "execution_count": 40,
   "id": "a2541a34",
   "metadata": {
    "scrolled": true
   },
   "outputs": [
    {
     "data": {
      "image/png": "[encoded data removed]",
      "text/plain": [
       "<Figure size 300x300 with 1 Axes>"
      ]
     },
     "metadata": {},
     "output_type": "display_data"
    },
    {
     "data": {
      "image/png": "[encoded data removed]",
      "text/plain": [
       "<Figure size 300x300 with 1 Axes>"
      ]
     },
     "metadata": {},
     "output_type": "display_data"
    }
   ],
   "source": [
    "# para cada condición, hacer el histograma de las regiones activadas\n",
    "for condicion in df.condicion.unique():\n",
    "    grupo = df[ df['condicion']==condicion ]['region']\n",
    "    plt.figure(figsize=(3, 3))\n",
    "    plt.hist(grupo)\n",
    "    plt.title(condicion)\n",
    "    plt.show()"
   ]
  },
  {
   "cell_type": "code",
   "execution_count": 41,
   "id": "e11653d0",
   "metadata": {
    "scrolled": true
   },
   "outputs": [
    {
     "data": {
      "image/png": "[encoded data removed]",
      "text/plain": [
       "<Figure size 300x300 with 1 Axes>"
      ]
     },
     "metadata": {},
     "output_type": "display_data"
    },
    {
     "data": {
      "image/png": "[encoded data removed]",
      "text/plain": [
       "<Figure size 300x300 with 1 Axes>"
      ]
     },
     "metadata": {},
     "output_type": "display_data"
    }
   ],
   "source": [
    "for condicion, grupo in df.groupby(by=\"condicion\")[\"region\"]:\n",
    "    plt.figure(figsize=(3, 3))\n",
    "    plt.hist(grupo)\n",
    "    plt.title(condicion)\n",
    "    plt.show()"
   ]
  },
  {
   "cell_type": "code",
   "execution_count": null,
   "id": "ae340bd1",
   "metadata": {},
   "outputs": [],
   "source": []
  }
 ],
 "metadata": {
  "kernelspec": {
   "display_name": "Python 3 (ipykernel)",
   "language": "python",
   "name": "python3"
  },
  "language_info": {
   "codemirror_mode": {
    "name": "ipython",
    "version": 3
   },
   "file_extension": ".py",
   "mimetype": "text/x-python",
   "name": "python",
   "nbconvert_exporter": "python",
   "pygments_lexer": "ipython3",
   "version": "3.9.7"
  }
 },
 "nbformat": 4,
 "nbformat_minor": 5
}
