{
 "cells": [
  {
   "cell_type": "code",
   "execution_count": 9,
   "id": "0e8c7c74-d5f3-4b5a-abff-3880d9a516de",
   "metadata": {},
   "outputs": [
    {
     "name": "stdout",
     "output_type": "stream",
     "text": [
      "openpyxl instalado correctamente \n"
     ]
    }
   ],
   "source": [
    "import pandas as pd\n",
    "\n",
    "import openpyxl\n",
    "print(\"openpyxl instalado correctamente \")\n",
    "\n"
   ]
  },
  {
   "cell_type": "code",
   "execution_count": 12,
   "id": "18d5e2ec-9b10-42d9-8702-ecd0f3988dd0",
   "metadata": {},
   "outputs": [
    {
     "name": "stdout",
     "output_type": "stream",
     "text": [
      "  Unnamed: 0    F3    F4    C3    C4    P3    P4    O1    O2\n",
      "0         F3  1.00  0.58  0.46  0.40  0.22  0.18  0.12  0.10\n",
      "1         F4  0.58  1.00  0.44  0.39  0.20  0.17  0.11  0.09\n",
      "2         C3  0.46  0.44  1.00  0.62  0.25  0.22  0.13  0.11\n",
      "3         C4  0.40  0.39  0.62  1.00  0.23  0.21  0.12  0.10\n",
      "4         P3  0.22  0.20  0.25  0.23  1.00  0.55  0.28  0.20\n"
     ]
    }
   ],
   "source": [
    "excel_path_file = r\"/Users/sofish/Documents/GitHub/Neurociencias-2026-1/S03_datasets/EEG.xlsx\"\n",
    "df = pd.read_excel(excel_path_file, sheet_name=\"coherence_motorimagery_alpha\")\n",
    "print(df.head())\n",
    "\n"
   ]
  },
  {
   "cell_type": "code",
   "execution_count": 13,
   "id": "ab5f5990-9a80-4098-aa38-d2f497dc6654",
   "metadata": {},
   "outputs": [
    {
     "name": "stdout",
     "output_type": "stream",
     "text": [
      "     F3    F4\n",
      "0  1.00  0.58\n",
      "1  0.58  1.00\n",
      "2  0.46  0.44\n",
      "3  0.40  0.39\n",
      "4  0.22  0.20\n",
      "5  0.18  0.17\n",
      "6  0.12  0.11\n",
      "7  0.10  0.09\n"
     ]
    }
   ],
   "source": [
    "coords = df[['F3', 'F4']]\n",
    "print(coords)\n"
   ]
  },
  {
   "cell_type": "code",
   "execution_count": 14,
   "id": "8adacf0d-8d8a-4a0a-8488-3ff6b11e829f",
   "metadata": {},
   "outputs": [],
   "source": [
    "import matplotlib.pyplot as plt"
   ]
  },
  {
   "cell_type": "code",
   "execution_count": 15,
   "id": "89d7e1e0-4d7b-4ec3-9696-a373a0ed2196",
   "metadata": {},
   "outputs": [],
   "source": [
    "df.set_index('Unnamed: 0', inplace=True)"
   ]
  },
  {
   "cell_type": "code",
   "execution_count": 16,
   "id": "3c959460-6acc-4930-9cbe-e0fd81ecdb97",
   "metadata": {},
   "outputs": [],
   "source": [
    "import networkx as nx\n",
    "\n"
   ]
  },
  {
   "cell_type": "code",
   "execution_count": 17,
   "id": "28280ad0-b96a-4ae1-97e4-2f8c177c00ae",
   "metadata": {},
   "outputs": [
    {
     "data": {
      "text/plain": [
       "(NodeView(()), EdgeView([]))"
      ]
     },
     "execution_count": 17,
     "metadata": {},
     "output_type": "execute_result"
    }
   ],
   "source": [
    "G = nx.Graph()\n",
    "G.nodes(), G.edges()"
   ]
  },
  {
   "cell_type": "code",
   "execution_count": 18,
   "id": "2356b7ee-0829-4d97-a2af-aa2c771750bf",
   "metadata": {},
   "outputs": [],
   "source": [
    "nodos = ['F3', 'F4']\n",
    "G.add_nodes_from(nodos)\n"
   ]
  },
  {
   "cell_type": "code",
   "execution_count": 21,
   "id": "e49a8d15-27f4-4d75-84e3-c27942f07aaa",
   "metadata": {},
   "outputs": [],
   "source": [
    "peso = df.loc['F3', 'F4']  \n",
    "G.add_edge('F3', 'F4', weight=peso)\n",
    "positions = nx.spring_layout(G) "
   ]
  },
  {
   "cell_type": "code",
   "execution_count": 22,
   "id": "f20be15f-1b63-4fcc-b5e8-874549923caa",
   "metadata": {},
   "outputs": [
    {
     "data": {
      "image/png": "[encoded data removed]",
      "text/plain": [
       "<Figure size 400x400 with 1 Axes>"
      ]
     },
     "metadata": {},
     "output_type": "display_data"
    }
   ],
   "source": [
    "plt.figure(figsize=(4,4))\n",
    "nx.draw_networkx(G, pos=positions, node_size=500, font_size=12, width=3)\n",
    "weights = nx.get_edge_attributes(G, 'weight')\n",
    "nx.draw_networkx_edge_labels(G, pos=positions, edge_labels=weights, font_size=10)\n",
    "plt.title(\"Grafo: F3 - F4\")\n",
    "plt.axis('off')\n",
    "plt.show()"
   ]
  },
  {
   "cell_type": "code",
   "execution_count": null,
   "id": "2a89c19a-492f-467d-af10-0169b0c8a09d",
   "metadata": {},
   "outputs": [],
   "source": []
  }
 ],
 "metadata": {
  "kernelspec": {
   "display_name": "Python 3 (ipykernel)",
   "language": "python",
   "name": "python3"
  },
  "language_info": {
   "codemirror_mode": {
    "name": "ipython",
    "version": 3
   },
   "file_extension": ".py",
   "mimetype": "text/x-python",
   "name": "python",
   "nbconvert_exporter": "python",
   "pygments_lexer": "ipython3",
   "version": "3.13.7"
  }
 },
 "nbformat": 4,
 "nbformat_minor": 5
}
