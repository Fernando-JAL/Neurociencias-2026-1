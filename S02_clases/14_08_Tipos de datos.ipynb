{
 "cells": [
  {
   "cell_type": "markdown",
   "id": "0f7c8ee6-864d-4588-a626-8834a742fda2",
   "metadata": {},
   "source": [
    "# tipos de datos \n",
    "- numérico\n",
    "- string\n",
    "- secuencias\n",
    "- diccionario -> dict"
   ]
  },
  {
   "cell_type": "code",
   "execution_count": 1,
   "id": "85cb433d-e54a-44e1-923d-3e4260aa31e0",
   "metadata": {},
   "outputs": [],
   "source": [
    "a = 1"
   ]
  },
  {
   "cell_type": "code",
   "execution_count": 2,
   "id": "f8ae2e7f-7d97-4c11-96c6-29a494412119",
   "metadata": {},
   "outputs": [],
   "source": [
    "b = 236498236928347"
   ]
  },
  {
   "cell_type": "code",
   "execution_count": 6,
   "id": "753c591f-28e8-4df1-9198-474a4ac34484",
   "metadata": {},
   "outputs": [
    {
     "data": {
      "text/plain": [
       "(int, int)"
      ]
     },
     "execution_count": 6,
     "metadata": {},
     "output_type": "execute_result"
    }
   ],
   "source": [
    "type (a), type(b)"
   ]
  },
  {
   "cell_type": "code",
   "execution_count": 7,
   "id": "1d9796ff-28fb-4462-8f24-979bf28005b9",
   "metadata": {},
   "outputs": [
    {
     "data": {
      "text/plain": [
       "float"
      ]
     },
     "execution_count": 7,
     "metadata": {},
     "output_type": "execute_result"
    }
   ],
   "source": [
    "type(1.2)"
   ]
  },
  {
   "cell_type": "markdown",
   "id": "6a20b4b7-2d86-4d8c-a6b9-451ba4b4efb8",
   "metadata": {},
   "source": [
    "### definición de complejos"
   ]
  },
  {
   "cell_type": "code",
   "execution_count": 8,
   "id": "62bd6d35-f016-43c5-8704-3115b093cfdf",
   "metadata": {},
   "outputs": [
    {
     "data": {
      "text/plain": [
       "(1+3j)"
      ]
     },
     "execution_count": 8,
     "metadata": {},
     "output_type": "execute_result"
    }
   ],
   "source": [
    "complex(1, 3)"
   ]
  },
  {
   "cell_type": "code",
   "execution_count": 9,
   "id": "971747e8-0b5a-4163-9890-73e3e4f49e13",
   "metadata": {},
   "outputs": [
    {
     "data": {
      "text/plain": [
       "(4+7j)"
      ]
     },
     "execution_count": 9,
     "metadata": {},
     "output_type": "execute_result"
    }
   ],
   "source": [
    "complex(4, 7)"
   ]
  },
  {
   "cell_type": "code",
   "execution_count": 10,
   "id": "85f03e52-1f05-4694-af30-476e6c395e75",
   "metadata": {},
   "outputs": [
    {
     "data": {
      "text/plain": [
       "(3+1j)"
      ]
     },
     "execution_count": 10,
     "metadata": {},
     "output_type": "execute_result"
    }
   ],
   "source": [
    "complex(3, 1)"
   ]
  },
  {
   "cell_type": "code",
   "execution_count": 12,
   "id": "8349f603-9bcf-4e0f-8321-15ac5da8c0a0",
   "metadata": {},
   "outputs": [
    {
     "data": {
      "text/plain": [
       "(3+1j)"
      ]
     },
     "execution_count": 12,
     "metadata": {},
     "output_type": "execute_result"
    }
   ],
   "source": [
    "complex(0, 1) + 3"
   ]
  },
  {
   "cell_type": "code",
   "execution_count": 16,
   "id": "f910bbdb-3247-4a7a-b797-331ada8918e7",
   "metadata": {},
   "outputs": [
    {
     "data": {
      "text/plain": [
       "(3+3j)"
      ]
     },
     "execution_count": 16,
     "metadata": {},
     "output_type": "execute_result"
    }
   ],
   "source": [
    "# quiero sumar 2j\n",
    "complex(3, 1) + complex(0 , 2)"
   ]
  },
  {
   "cell_type": "code",
   "execution_count": 17,
   "id": "a098fdcb-ccf0-4a3c-83ee-80ed63d77bdc",
   "metadata": {},
   "outputs": [
    {
     "data": {
      "text/plain": [
       "2j"
      ]
     },
     "execution_count": 17,
     "metadata": {},
     "output_type": "execute_result"
    }
   ],
   "source": [
    "complex(0, 2)"
   ]
  },
  {
   "cell_type": "code",
   "execution_count": 18,
   "id": "b211b55a-40df-4ed2-b58a-55a40d6b41bb",
   "metadata": {},
   "outputs": [],
   "source": [
    "c  = complex(3, 1)"
   ]
  },
  {
   "cell_type": "code",
   "execution_count": 19,
   "id": "7283fbfa-c12c-4ab7-9301-0438f1cb623f",
   "metadata": {},
   "outputs": [
    {
     "data": {
      "text/plain": [
       "complex"
      ]
     },
     "execution_count": 19,
     "metadata": {},
     "output_type": "execute_result"
    }
   ],
   "source": [
    "type(c)"
   ]
  },
  {
   "cell_type": "markdown",
   "id": "711bad58-c248-41e4-b81c-cc774076a3e8",
   "metadata": {},
   "source": [
    "### operaciones con tipos de datos numéricos"
   ]
  },
  {
   "cell_type": "code",
   "execution_count": 20,
   "id": "0d2c9a7f-d3b8-42eb-96c1-779a70107b17",
   "metadata": {},
   "outputs": [
    {
     "data": {
      "text/plain": [
       "100"
      ]
     },
     "execution_count": 20,
     "metadata": {},
     "output_type": "execute_result"
    }
   ],
   "source": [
    "56 + 44"
   ]
  },
  {
   "cell_type": "code",
   "execution_count": 21,
   "id": "881e040c-c8f0-446f-bfc1-ed89f7054f6b",
   "metadata": {},
   "outputs": [
    {
     "data": {
      "text/plain": [
       "720"
      ]
     },
     "execution_count": 21,
     "metadata": {},
     "output_type": "execute_result"
    }
   ],
   "source": [
    "800 - 80"
   ]
  },
  {
   "cell_type": "code",
   "execution_count": 22,
   "id": "a4a4b669-c42b-4e03-a6eb-af9c22c430b7",
   "metadata": {},
   "outputs": [
    {
     "data": {
      "text/plain": [
       "783"
      ]
     },
     "execution_count": 22,
     "metadata": {},
     "output_type": "execute_result"
    }
   ],
   "source": [
    "87*9"
   ]
  },
  {
   "cell_type": "code",
   "execution_count": 23,
   "id": "25a8a37a-e390-4f79-a304-ea2a0ff78e44",
   "metadata": {},
   "outputs": [
    {
     "data": {
      "text/plain": [
       "1.8521739130434782"
      ]
     },
     "execution_count": 23,
     "metadata": {},
     "output_type": "execute_result"
    }
   ],
   "source": [
    "85.2/46"
   ]
  },
  {
   "cell_type": "code",
   "execution_count": 25,
   "id": "db547292-b8e3-4fcf-a2e7-9161e5f0f2c6",
   "metadata": {},
   "outputs": [
    {
     "data": {
      "text/plain": [
       "9"
      ]
     },
     "execution_count": 25,
     "metadata": {},
     "output_type": "execute_result"
    }
   ],
   "source": [
    "#potencia va con doble asterisco\n",
    "3**2"
   ]
  },
  {
   "cell_type": "code",
   "execution_count": 27,
   "id": "597cd2e9-a3c5-4eba-aa10-d8ba5d749983",
   "metadata": {},
   "outputs": [
    {
     "data": {
      "text/plain": [
       "3.0"
      ]
     },
     "execution_count": 27,
     "metadata": {},
     "output_type": "execute_result"
    }
   ],
   "source": [
    "#para la raíz cuadrada elevamos a 0.5\n",
    "9**0.5"
   ]
  },
  {
   "cell_type": "code",
   "execution_count": 29,
   "id": "ab2862f9-3c12-4692-a5c1-4ef9bfc32b61",
   "metadata": {},
   "outputs": [
    {
     "data": {
      "text/plain": [
       "0"
      ]
     },
     "execution_count": 29,
     "metadata": {},
     "output_type": "execute_result"
    }
   ],
   "source": [
    "#para obtener el residuo de la división\n",
    "16%4"
   ]
  },
  {
   "cell_type": "code",
   "execution_count": 31,
   "id": "f172fc4a-f409-45fa-8226-240bea1d324b",
   "metadata": {},
   "outputs": [
    {
     "data": {
      "text/plain": [
       "4"
      ]
     },
     "execution_count": 31,
     "metadata": {},
     "output_type": "execute_result"
    }
   ],
   "source": [
    "#para calcular el cociente o división entera\n",
    "16//4"
   ]
  },
  {
   "cell_type": "code",
   "execution_count": 32,
   "id": "eeeb2f7d-8481-4046-9d1c-2f7151bee692",
   "metadata": {},
   "outputs": [],
   "source": [
    "a = 8\n",
    "b = 3\n",
    "c = 42"
   ]
  },
  {
   "cell_type": "code",
   "execution_count": 36,
   "id": "cd90bd63-d795-4ab2-ada5-18f09914c490",
   "metadata": {},
   "outputs": [
    {
     "data": {
      "text/plain": [
       "(8, 3, 42)"
      ]
     },
     "execution_count": 36,
     "metadata": {},
     "output_type": "execute_result"
    }
   ],
   "source": [
    "a, b, c = 8, 3, 42\n",
    "a, b, c"
   ]
  },
  {
   "cell_type": "code",
   "execution_count": 38,
   "id": "827f778f-d785-4e17-a8c5-5c75d8ec42aa",
   "metadata": {},
   "outputs": [
    {
     "ename": "ZeroDivisionError",
     "evalue": "division by zero",
     "output_type": "error",
     "traceback": [
      "\u001b[31m---------------------------------------------------------------------------\u001b[39m",
      "\u001b[31mZeroDivisionError\u001b[39m                         Traceback (most recent call last)",
      "\u001b[36mCell\u001b[39m\u001b[36m \u001b[39m\u001b[32mIn[38]\u001b[39m\u001b[32m, line 1\u001b[39m\n\u001b[32m----> \u001b[39m\u001b[32m1\u001b[39m (c/a) + (b * a) - \u001b[43m(\u001b[49m\u001b[43ma\u001b[49m\u001b[43m*\u001b[49m\u001b[43m*\u001b[49m\u001b[43mb\u001b[49m\u001b[43m)\u001b[49m\u001b[43m/\u001b[49m\u001b[43m(\u001b[49m\u001b[43mc\u001b[49m\u001b[43m%\u001b[49m\u001b[43mb\u001b[49m\u001b[43m)\u001b[49m\n",
      "\u001b[31mZeroDivisionError\u001b[39m: division by zero"
     ]
    }
   ],
   "source": [
    "# los paréntesis no son necesarios, ya se sigue la jerarquía. Solo es necesario para hacer la división del residuo. \n",
    "c/a + b * a - a**b/(c%b)"
   ]
  },
  {
   "cell_type": "markdown",
   "id": "d480558c-bf63-43ab-b4a0-a70af0c3951c",
   "metadata": {},
   "source": [
    "### strings"
   ]
  },
  {
   "cell_type": "code",
   "execution_count": 39,
   "id": "988beffc-a3f2-4fd2-a24c-7831370b7681",
   "metadata": {},
   "outputs": [
    {
     "data": {
      "text/plain": [
       "'cadena de texto'"
      ]
     },
     "execution_count": 39,
     "metadata": {},
     "output_type": "execute_result"
    }
   ],
   "source": [
    "\"cadena de texto\""
   ]
  },
  {
   "cell_type": "code",
   "execution_count": 40,
   "id": "d554fe0c-ff02-4640-b7f5-eb23c372d378",
   "metadata": {},
   "outputs": [
    {
     "data": {
      "text/plain": [
       "'otra cadena de texto'"
      ]
     },
     "execution_count": 40,
     "metadata": {},
     "output_type": "execute_result"
    }
   ],
   "source": [
    "'otra cadena de texto'"
   ]
  },
  {
   "cell_type": "code",
   "execution_count": 41,
   "id": "09e15ca2-e0d7-4130-88b4-38502a86acb9",
   "metadata": {},
   "outputs": [
    {
     "data": {
      "text/plain": [
       "('cadena de texto 1', 'cadena 2')"
      ]
     },
     "execution_count": 41,
     "metadata": {},
     "output_type": "execute_result"
    }
   ],
   "source": [
    "a, b ='cadena de texto 1', 'cadena 2'\n",
    "a, b"
   ]
  },
  {
   "cell_type": "code",
   "execution_count": 46,
   "id": "3c725d58-cc94-4889-ad71-71943f84ec74",
   "metadata": {},
   "outputs": [
    {
     "name": "stdout",
     "output_type": "stream",
     "text": [
      "cadena de texto 1 cadena 2 otra cosa 89\n"
     ]
    }
   ],
   "source": [
    "print(a, b, 'otra cosa', 89)"
   ]
  },
  {
   "cell_type": "code",
   "execution_count": 49,
   "id": "fc610d17-6814-4cb5-a85a-ca74e2d480c7",
   "metadata": {},
   "outputs": [
    {
     "name": "stdout",
     "output_type": "stream",
     "text": [
      "cadena de texto 1 \t cadena 2\n"
     ]
    }
   ],
   "source": [
    "# '\\t' es un tabulador\n",
    "print(a, '\\t', b)"
   ]
  },
  {
   "cell_type": "code",
   "execution_count": 50,
   "id": "a5850af8-ce71-4548-809a-75526b5aadea",
   "metadata": {},
   "outputs": [
    {
     "name": "stdout",
     "output_type": "stream",
     "text": [
      "cadena de texto 1 \n",
      " cadena 2\n"
     ]
    }
   ],
   "source": [
    "# '\\n' es un salto de línea\n",
    "print(a, '\\n', b)"
   ]
  },
  {
   "cell_type": "code",
   "execution_count": 53,
   "id": "2149e09c-fc11-4530-9be3-1136e212eab5",
   "metadata": {},
   "outputs": [
    {
     "name": "stdout",
     "output_type": "stream",
     "text": [
      "C:\\nombre_1\\tarea\n"
     ]
    }
   ],
   "source": [
    "# r genera que los datos sean \"crudos\", si existe un \\n o \\t no los va a ejecutar \n",
    "print(r'C:\\nombre_1\\tarea')"
   ]
  },
  {
   "cell_type": "code",
   "execution_count": 54,
   "id": "43a14b44-daa9-4645-a1f4-876b6d758dad",
   "metadata": {},
   "outputs": [
    {
     "name": "stdout",
     "output_type": "stream",
     "text": [
      "primera línea\n",
      "segunda\n",
      "tercera\n"
     ]
    }
   ],
   "source": [
    "# con tres dobles comillas podemos hacer un salto de línea son necesidad de \\n\n",
    "print(\"\"\"primera línea\n",
    "segunda\n",
    "tercera\"\"\")"
   ]
  },
  {
   "cell_type": "code",
   "execution_count": 57,
   "id": "d82fc3f6-332d-49f7-ba80-ac306afc1061",
   "metadata": {},
   "outputs": [],
   "source": [
    "a, b = 'ah', 'be'"
   ]
  },
  {
   "cell_type": "code",
   "execution_count": 58,
   "id": "f8fbb105-4dd4-48fd-a558-3669b91d9359",
   "metadata": {},
   "outputs": [
    {
     "data": {
      "text/plain": [
       "'ahbe'"
      ]
     },
     "execution_count": 58,
     "metadata": {},
     "output_type": "execute_result"
    }
   ],
   "source": [
    "a + b"
   ]
  },
  {
   "cell_type": "code",
   "execution_count": 63,
   "id": "d657a772-8bf9-46cf-a0a9-be137a695212",
   "metadata": {},
   "outputs": [
    {
     "data": {
      "text/plain": [
       "'ahahah'"
      ]
     },
     "execution_count": 63,
     "metadata": {},
     "output_type": "execute_result"
    }
   ],
   "source": [
    "# operaciones entre números y cadena si se puede\n",
    "3 * a"
   ]
  },
  {
   "cell_type": "code",
   "execution_count": 64,
   "id": "3728b84c-6c02-4ed2-b574-1602226f7981",
   "metadata": {},
   "outputs": [
    {
     "data": {
      "text/plain": [
       "'ahahahbebeah'"
      ]
     },
     "execution_count": 64,
     "metadata": {},
     "output_type": "execute_result"
    }
   ],
   "source": [
    "3 * a + 2*b + a"
   ]
  },
  {
   "cell_type": "code",
   "execution_count": 67,
   "id": "ef59679f-deb6-4c50-a3ad-c8763ec49dd0",
   "metadata": {},
   "outputs": [
    {
     "data": {
      "text/plain": [
       "('ahbe', 'beah')"
      ]
     },
     "execution_count": 67,
     "metadata": {},
     "output_type": "execute_result"
    }
   ],
   "source": [
    "# cuando sumamos cadenas si importa el orden de las cadenas\n",
    "a + b, b + a"
   ]
  },
  {
   "cell_type": "markdown",
   "id": "33e1edac-ef82-4941-9205-d69c92521d7c",
   "metadata": {},
   "source": [
    "### slicing"
   ]
  },
  {
   "cell_type": "code",
   "execution_count": 68,
   "id": "9699a1dc-85d6-4874-9cca-1449a6ba7a3b",
   "metadata": {},
   "outputs": [],
   "source": [
    "a = \"hola jolines chayotes verdes\""
   ]
  },
  {
   "cell_type": "code",
   "execution_count": 69,
   "id": "32f0eb76-0655-43a6-b81d-5b2d9ccc3718",
   "metadata": {},
   "outputs": [],
   "source": [
    "b = \"cadena\""
   ]
  },
  {
   "cell_type": "code",
   "execution_count": 72,
   "id": "5228c9fa-42c4-4cba-b196-431625ba9e43",
   "metadata": {},
   "outputs": [
    {
     "data": {
      "text/plain": [
       "'d'"
      ]
     },
     "execution_count": 72,
     "metadata": {},
     "output_type": "execute_result"
    }
   ],
   "source": [
    "# en python la posición comienza en 0\n",
    "b[2]"
   ]
  },
  {
   "cell_type": "code",
   "execution_count": 71,
   "id": "172820a6-f9a8-46a1-8025-0e6e35a51281",
   "metadata": {},
   "outputs": [
    {
     "data": {
      "text/plain": [
       "'n'"
      ]
     },
     "execution_count": 71,
     "metadata": {},
     "output_type": "execute_result"
    }
   ],
   "source": [
    "b[4]"
   ]
  },
  {
   "cell_type": "code",
   "execution_count": 73,
   "id": "25491fa3-50c2-45d9-981a-720386191c85",
   "metadata": {},
   "outputs": [
    {
     "data": {
      "text/plain": [
       "6"
      ]
     },
     "execution_count": 73,
     "metadata": {},
     "output_type": "execute_result"
    }
   ],
   "source": [
    "len(b)"
   ]
  },
  {
   "cell_type": "code",
   "execution_count": 77,
   "id": "b54d60dc-30ee-47d6-8669-cf91991e6cc8",
   "metadata": {},
   "outputs": [
    {
     "data": {
      "text/plain": [
       "'chayotes'"
      ]
     },
     "execution_count": 77,
     "metadata": {},
     "output_type": "execute_result"
    }
   ],
   "source": [
    "# c está en 13 y s en 20\n",
    "pos_i = 13\n",
    "pos_f = 20\n",
    "a[13:21]"
   ]
  },
  {
   "cell_type": "code",
   "execution_count": 76,
   "id": "74b8710a-7eb5-4018-a9c3-954233625353",
   "metadata": {},
   "outputs": [
    {
     "data": {
      "text/plain": [
       "'chayotes'"
      ]
     },
     "execution_count": 76,
     "metadata": {},
     "output_type": "execute_result"
    }
   ],
   "source": [
    "a[pos_i: pos_f+1]"
   ]
  },
  {
   "cell_type": "code",
   "execution_count": 80,
   "id": "26d6df2b-a0b1-4778-b1a8-3697361eb4e4",
   "metadata": {},
   "outputs": [
    {
     "data": {
      "text/plain": [
       "' oie hyt'"
      ]
     },
     "execution_count": 80,
     "metadata": {},
     "output_type": "execute_result"
    }
   ],
   "source": [
    "a[4: 20: 2]\n",
    "# rango funciona como -> range(pos_i, pos_f, salto)"
   ]
  },
  {
   "cell_type": "code",
   "execution_count": 81,
   "id": "a8f94728-31f6-4a29-b3cb-21cab4a0d946",
   "metadata": {},
   "outputs": [
    {
     "data": {
      "text/plain": [
       "28"
      ]
     },
     "execution_count": 81,
     "metadata": {},
     "output_type": "execute_result"
    }
   ],
   "source": [
    "len(a)"
   ]
  },
  {
   "cell_type": "code",
   "execution_count": 84,
   "id": "08e7ae0b-4814-464c-b0e5-9e35a1c6999b",
   "metadata": {},
   "outputs": [
    {
     "data": {
      "text/plain": [
       "('s', 's')"
      ]
     },
     "execution_count": 84,
     "metadata": {},
     "output_type": "execute_result"
    }
   ],
   "source": [
    "a[27], a[len(a)-1]"
   ]
  },
  {
   "cell_type": "code",
   "execution_count": 86,
   "id": "fae7a98c-64ca-4f8c-8c6a-659f5b4a6f20",
   "metadata": {},
   "outputs": [
    {
     "data": {
      "text/plain": [
       "'s'"
      ]
     },
     "execution_count": 86,
     "metadata": {},
     "output_type": "execute_result"
    }
   ],
   "source": [
    "# con - vamos de atrás hacia delante, la \"s\" es de verdes\n",
    "a[-1]"
   ]
  },
  {
   "cell_type": "code",
   "execution_count": 90,
   "id": "ce37752f-c25c-4399-9e5f-7fff49cecc19",
   "metadata": {},
   "outputs": [
    {
     "data": {
      "text/plain": [
       "'verdes'"
      ]
     },
     "execution_count": 90,
     "metadata": {},
     "output_type": "execute_result"
    }
   ],
   "source": [
    "# si no especificamos el final del rango lo corre hasta el final final\n",
    "a[-6:]"
   ]
  },
  {
   "cell_type": "code",
   "execution_count": 94,
   "id": "0e89b4d5-e1d8-480c-99fa-c83c40a0ee87",
   "metadata": {},
   "outputs": [
    {
     "data": {
      "text/plain": [
       "'hola'"
      ]
     },
     "execution_count": 94,
     "metadata": {},
     "output_type": "execute_result"
    }
   ],
   "source": [
    "# tampoco tenemos que especificar el inicio, solo corre desde el inicio\n",
    "a[:4]"
   ]
  },
  {
   "cell_type": "code",
   "execution_count": 93,
   "id": "6ef4f623-7ca3-461b-b6a8-1f2a00f877af",
   "metadata": {},
   "outputs": [
    {
     "data": {
      "text/plain": [
       "'hola jolines chayotes verdes'"
      ]
     },
     "execution_count": 93,
     "metadata": {},
     "output_type": "execute_result"
    }
   ],
   "source": [
    "a[:]"
   ]
  },
  {
   "cell_type": "code",
   "execution_count": 95,
   "id": "8c7a28e4-ccd4-4b3c-82ea-f7d4ecbf5b71",
   "metadata": {},
   "outputs": [
    {
     "data": {
      "text/plain": [
       "'sedrev setoyahc seniloj aloh'"
      ]
     },
     "execution_count": 95,
     "metadata": {},
     "output_type": "execute_result"
    }
   ],
   "source": [
    "a[::-1]"
   ]
  },
  {
   "cell_type": "markdown",
   "id": "7396608c-4a35-45ce-9c67-2f1d3195336e",
   "metadata": {},
   "source": [
    "## tarea\n",
    "¿qué es una cadena sea inmutable?"
   ]
  },
  {
   "cell_type": "code",
   "execution_count": null,
   "id": "8912f951-eb53-4006-902f-9cc7e71de1cc",
   "metadata": {},
   "outputs": [],
   "source": []
  },
  {
   "cell_type": "code",
   "execution_count": null,
   "id": "dee3fe09-7764-4897-b31d-63576a717baf",
   "metadata": {},
   "outputs": [],
   "source": []
  },
  {
   "cell_type": "code",
   "execution_count": null,
   "id": "0c5b9c5e-ad18-46d0-aaaa-1f053a86468a",
   "metadata": {},
   "outputs": [],
   "source": []
  },
  {
   "cell_type": "code",
   "execution_count": null,
   "id": "2089ba75-b796-4e29-96b7-d065102bb624",
   "metadata": {},
   "outputs": [],
   "source": []
  }
 ],
 "metadata": {
  "kernelspec": {
   "display_name": "Python 3 (ipykernel)",
   "language": "python",
   "name": "python3"
  },
  "language_info": {
   "codemirror_mode": {
    "name": "ipython",
    "version": 3
   },
   "file_extension": ".py",
   "mimetype": "text/x-python",
   "name": "python",
   "nbconvert_exporter": "python",
   "pygments_lexer": "ipython3",
   "version": "3.13.6"
  }
 },
 "nbformat": 4,
 "nbformat_minor": 5
}
