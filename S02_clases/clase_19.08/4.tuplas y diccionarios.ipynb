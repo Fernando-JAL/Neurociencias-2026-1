{
 "cells": [
  {
   "cell_type": "code",
   "execution_count": 97,
   "id": "c553c448-364a-45cb-b9e5-2bf21834d96b",
   "metadata": {},
   "outputs": [
    {
     "data": {
      "text/plain": [
       "['rojo', 2.3, 100, 'chocolate']"
      ]
     },
     "execution_count": 97,
     "metadata": {},
     "output_type": "execute_result"
    }
   ],
   "source": [
    "lista= ['rojo', 2.3, 100, 'chocolate']\n",
    "lista\n"
   ]
  },
  {
   "cell_type": "code",
   "execution_count": 98,
   "id": "74d7f711-3c5e-45a3-9831-23f240bb1e50",
   "metadata": {},
   "outputs": [
    {
     "data": {
      "text/plain": [
       "['rojo', 2.3, 100, 'chocolate', 'nuez']"
      ]
     },
     "execution_count": 98,
     "metadata": {},
     "output_type": "execute_result"
    }
   ],
   "source": [
    "lista.append('nuez')\n",
    "lista\n",
    "\n",
    "#para agregar un nuevo elemento a la lista "
   ]
  },
  {
   "cell_type": "code",
   "execution_count": 99,
   "id": "14adf4fa-8f49-4bc7-8250-1b89b8bab012",
   "metadata": {},
   "outputs": [
    {
     "data": {
      "text/plain": [
       "[]"
      ]
     },
     "execution_count": 99,
     "metadata": {},
     "output_type": "execute_result"
    }
   ],
   "source": [
    "lista_vacia= []\n",
    "lista_vacia"
   ]
  },
  {
   "cell_type": "code",
   "execution_count": 100,
   "id": "d1541d24-9ea0-42e8-803b-4d5b3830362a",
   "metadata": {},
   "outputs": [
    {
     "data": {
      "text/plain": [
       "'nuez'"
      ]
     },
     "execution_count": 100,
     "metadata": {},
     "output_type": "execute_result"
    }
   ],
   "source": [
    "lista [-1]"
   ]
  },
  {
   "cell_type": "code",
   "execution_count": 101,
   "id": "60d9b4a7-cda7-4577-a776-0226bd8be227",
   "metadata": {},
   "outputs": [
    {
     "data": {
      "text/plain": [
       "['rojo', 2.3, 100, 'chocolate', 4, 2, 6]"
      ]
     },
     "execution_count": 101,
     "metadata": {},
     "output_type": "execute_result"
    }
   ],
   "source": [
    "lista[-1:]= [4,2,6]\n",
    "lista"
   ]
  },
  {
   "cell_type": "code",
   "execution_count": 102,
   "id": "590f2022-7e26-48bb-9b85-d2dfdacbd291",
   "metadata": {},
   "outputs": [
    {
     "data": {
      "text/plain": [
       "9"
      ]
     },
     "execution_count": 102,
     "metadata": {},
     "output_type": "execute_result"
    }
   ],
   "source": [
    "lista[-1:]= [4,2,6]\n",
    "len(lista)"
   ]
  },
  {
   "cell_type": "code",
   "execution_count": 103,
   "id": "a2666dd9-e2bf-456e-89c5-9054bb603498",
   "metadata": {},
   "outputs": [
    {
     "data": {
      "text/plain": [
       "['rojo', 2.3, 'chocolate', 4, 2, 4, 2, 6]"
      ]
     },
     "execution_count": 103,
     "metadata": {},
     "output_type": "execute_result"
    }
   ],
   "source": [
    "del lista[2]\n",
    "lista\n",
    "\n",
    "## del de delete"
   ]
  },
  {
   "cell_type": "code",
   "execution_count": 104,
   "id": "38a05a2f-940f-4d46-a667-6bebaef614f8",
   "metadata": {},
   "outputs": [
    {
     "data": {
      "text/plain": [
       "['rojo', 2.3, 2, 4, 2, 6]"
      ]
     },
     "execution_count": 104,
     "metadata": {},
     "output_type": "execute_result"
    }
   ],
   "source": [
    "del lista[2:4]\n",
    "lista"
   ]
  },
  {
   "cell_type": "code",
   "execution_count": 105,
   "id": "747f0a7d-d1a0-4a81-b6d2-76a4dc856280",
   "metadata": {},
   "outputs": [
    {
     "data": {
      "text/plain": [
       "[2.3, 2, 4, 2, 6]"
      ]
     },
     "execution_count": 105,
     "metadata": {},
     "output_type": "execute_result"
    }
   ],
   "source": [
    "del lista[0]\n",
    "lista"
   ]
  },
  {
   "cell_type": "code",
   "execution_count": 106,
   "id": "3700ff31-031f-48fe-934b-0994dcc4ac17",
   "metadata": {},
   "outputs": [
    {
     "data": {
      "text/plain": [
       "[2, 4, 2, 6]"
      ]
     },
     "execution_count": 106,
     "metadata": {},
     "output_type": "execute_result"
    }
   ],
   "source": [
    "del lista[0]\n",
    "lista"
   ]
  },
  {
   "cell_type": "code",
   "execution_count": 107,
   "id": "d7ea2316-d857-4611-8321-c9822bea7571",
   "metadata": {},
   "outputs": [
    {
     "data": {
      "text/plain": [
       "[4, 2, 6]"
      ]
     },
     "execution_count": 107,
     "metadata": {},
     "output_type": "execute_result"
    }
   ],
   "source": [
    "del lista[0]\n",
    "lista\n"
   ]
  },
  {
   "cell_type": "code",
   "execution_count": 108,
   "id": "3bf71974-cbc5-4f3c-a704-1a39a161e9ec",
   "metadata": {},
   "outputs": [
    {
     "data": {
      "text/plain": [
       "[2, 6]"
      ]
     },
     "execution_count": 108,
     "metadata": {},
     "output_type": "execute_result"
    }
   ],
   "source": [
    "del lista[0]\n",
    "lista"
   ]
  },
  {
   "cell_type": "code",
   "execution_count": 109,
   "id": "34f1558d-91e7-439e-92f0-b1df054817e8",
   "metadata": {},
   "outputs": [
    {
     "data": {
      "text/plain": [
       "[6]"
      ]
     },
     "execution_count": 109,
     "metadata": {},
     "output_type": "execute_result"
    }
   ],
   "source": [
    "del lista[0]\n",
    "lista"
   ]
  },
  {
   "cell_type": "code",
   "execution_count": 118,
   "id": "caa55d5d-9d3c-4c39-a7d3-b96a8435806e",
   "metadata": {},
   "outputs": [
    {
     "data": {
      "text/plain": [
       "[[1, 2, 3], [4, 5, 6], [7, 8, 9], [8, 7, 6]]"
      ]
     },
     "execution_count": 118,
     "metadata": {},
     "output_type": "execute_result"
    }
   ],
   "source": [
    "matriz= [[1,2,3],\n",
    "         [4,5,6],\n",
    "         [7,8,9],\n",
    "         [8,7,6]]\n",
    "matriz"
   ]
  },
  {
   "cell_type": "code",
   "execution_count": 120,
   "id": "962d8291-ac44-46f0-a8b3-2c796f36475e",
   "metadata": {},
   "outputs": [
    {
     "data": {
      "text/plain": [
       "[7, 8, 9]"
      ]
     },
     "execution_count": 120,
     "metadata": {},
     "output_type": "execute_result"
    }
   ],
   "source": [
    "a=matriz[2]\n",
    "a"
   ]
  },
  {
   "cell_type": "code",
   "execution_count": 121,
   "id": "312e6e0b-6305-48ad-934f-b993f3d0df22",
   "metadata": {},
   "outputs": [
    {
     "data": {
      "text/plain": [
       "9"
      ]
     },
     "execution_count": 121,
     "metadata": {},
     "output_type": "execute_result"
    }
   ],
   "source": [
    "a[2]"
   ]
  },
  {
   "cell_type": "code",
   "execution_count": 122,
   "id": "a0e618a1-c526-4bd3-8bd3-4c8e9225df48",
   "metadata": {},
   "outputs": [
    {
     "data": {
      "text/plain": [
       "[[1, 2, 3], [4, 5, 6], [7, 8, 9], [8, 7, 6]]"
      ]
     },
     "execution_count": 122,
     "metadata": {},
     "output_type": "execute_result"
    }
   ],
   "source": [
    "matriz"
   ]
  },
  {
   "cell_type": "code",
   "execution_count": 124,
   "id": "23ba2a19-4591-485d-9820-58701d518de0",
   "metadata": {},
   "outputs": [
    {
     "data": {
      "text/plain": [
       "[[1, 2, 3], [4, 5, 6], [7, 8, 9], [8, 7, 6]]"
      ]
     },
     "execution_count": 124,
     "metadata": {},
     "output_type": "execute_result"
    }
   ],
   "source": [
    "matriz [2][-1]\n",
    "matriz"
   ]
  },
  {
   "cell_type": "code",
   "execution_count": 125,
   "id": "e7d8839b-bf9a-49bb-ba0b-9a76f7c90006",
   "metadata": {},
   "outputs": [
    {
     "data": {
      "text/plain": [
       "4"
      ]
     },
     "execution_count": 125,
     "metadata": {},
     "output_type": "execute_result"
    }
   ],
   "source": [
    "matriz[1][0]"
   ]
  },
  {
   "cell_type": "markdown",
   "id": "ac1f8cf9-c388-44e6-943c-ace9b35b36b0",
   "metadata": {},
   "source": [
    "## tuplas"
   ]
  },
  {
   "cell_type": "code",
   "execution_count": 131,
   "id": "db7d6b59-628d-472c-85d0-bc12fbd46a82",
   "metadata": {},
   "outputs": [
    {
     "data": {
      "text/plain": [
       "(5, 2, '-1', [4, 2, 1], 'pasa')"
      ]
     },
     "execution_count": 131,
     "metadata": {},
     "output_type": "execute_result"
    }
   ],
   "source": [
    "variable =(5, 2, '-1', [4,2,1], 'pasa')\n",
    "variable"
   ]
  },
  {
   "cell_type": "code",
   "execution_count": 133,
   "id": "e543fa80-e375-4357-b7e7-0c4a8a2a17c1",
   "metadata": {},
   "outputs": [
    {
     "data": {
      "text/plain": [
       "tuple"
      ]
     },
     "execution_count": 133,
     "metadata": {},
     "output_type": "execute_result"
    }
   ],
   "source": [
    "type (variable)"
   ]
  },
  {
   "cell_type": "code",
   "execution_count": 135,
   "id": "bf65d937-5fc8-47c7-aba4-3f67bc1324f9",
   "metadata": {},
   "outputs": [
    {
     "data": {
      "text/plain": [
       "(5, 2, '-1', [4, 2, 1], 'pasa')"
      ]
     },
     "execution_count": 135,
     "metadata": {},
     "output_type": "execute_result"
    }
   ],
   "source": [
    "variable"
   ]
  },
  {
   "cell_type": "code",
   "execution_count": 136,
   "id": "c1d7e9cc-dbe6-4663-949a-3dbe098da3a3",
   "metadata": {},
   "outputs": [
    {
     "data": {
      "text/plain": [
       "'pasa'"
      ]
     },
     "execution_count": 136,
     "metadata": {},
     "output_type": "execute_result"
    }
   ],
   "source": [
    "variable [-1]"
   ]
  },
  {
   "cell_type": "code",
   "execution_count": 137,
   "id": "73a147ac-04b5-4261-9bb2-afaefcd1493c",
   "metadata": {},
   "outputs": [
    {
     "data": {
      "text/plain": [
       "(2, '-1')"
      ]
     },
     "execution_count": 137,
     "metadata": {},
     "output_type": "execute_result"
    }
   ],
   "source": [
    "variable [1:-2]\n",
    "\n",
    "##la posición 1 es 2, y la posición -2 es [4, 2, 1], y en slicing no se toma en cuenta el ultimo"
   ]
  },
  {
   "cell_type": "code",
   "execution_count": 138,
   "id": "120d19d7-1422-4bb9-bb77-d4884139fe7a",
   "metadata": {},
   "outputs": [
    {
     "data": {
      "text/plain": [
       "(5, 2, '-1')"
      ]
     },
     "execution_count": 138,
     "metadata": {},
     "output_type": "execute_result"
    }
   ],
   "source": [
    "\n",
    "variable [0:3]"
   ]
  },
  {
   "cell_type": "code",
   "execution_count": 143,
   "id": "ae4f9abb-b33f-4b88-b178-0e51673487c4",
   "metadata": {},
   "outputs": [
    {
     "data": {
      "text/plain": [
       "(5, 2, '-1')"
      ]
     },
     "execution_count": 143,
     "metadata": {},
     "output_type": "execute_result"
    }
   ],
   "source": [
    "pos_i, pos_f= 0,2\n",
    "variable[pos_i: pos_f+1]"
   ]
  },
  {
   "cell_type": "code",
   "execution_count": 144,
   "id": "7a697d1e-f2af-472a-ab0e-8510edbda6a1",
   "metadata": {},
   "outputs": [
    {
     "data": {
      "text/plain": [
       "(2, '-1', [4, 2, 1])"
      ]
     },
     "execution_count": 144,
     "metadata": {},
     "output_type": "execute_result"
    }
   ],
   "source": [
    "variable [-4:4]"
   ]
  },
  {
   "cell_type": "code",
   "execution_count": 147,
   "id": "24345d59-096a-42b3-9f95-c108acc53d3a",
   "metadata": {},
   "outputs": [
    {
     "data": {
      "text/plain": [
       "(5, 2)"
      ]
     },
     "execution_count": 147,
     "metadata": {},
     "output_type": "execute_result"
    }
   ],
   "source": [
    "tupla= (5,2)\n",
    "tupla"
   ]
  },
  {
   "cell_type": "code",
   "execution_count": 152,
   "id": "511c807a-ee54-44b1-b68e-d1c3659377a4",
   "metadata": {},
   "outputs": [
    {
     "data": {
      "text/plain": [
       "(5,)"
      ]
     },
     "execution_count": 152,
     "metadata": {},
     "output_type": "execute_result"
    }
   ],
   "source": [
    "tupla=(5,)\n",
    "tupla\n",
    "\n",
    "# las tuplas no pueden ser un solo elemento si no le pones coma "
   ]
  },
  {
   "cell_type": "code",
   "execution_count": 153,
   "id": "c48f7b9e-15c9-4d9e-8079-60261ae558bc",
   "metadata": {},
   "outputs": [
    {
     "data": {
      "text/plain": [
       "tuple"
      ]
     },
     "execution_count": 153,
     "metadata": {},
     "output_type": "execute_result"
    }
   ],
   "source": [
    "type(tupla)"
   ]
  },
  {
   "cell_type": "code",
   "execution_count": 154,
   "id": "a05ddd78-672b-488c-b058-98ca47392a75",
   "metadata": {},
   "outputs": [
    {
     "data": {
      "text/plain": [
       "1"
      ]
     },
     "execution_count": 154,
     "metadata": {},
     "output_type": "execute_result"
    }
   ],
   "source": [
    "len(tupla)"
   ]
  },
  {
   "cell_type": "code",
   "execution_count": 156,
   "id": "4192c686-1f5a-4359-9e00-d5bdfab6215c",
   "metadata": {},
   "outputs": [
    {
     "data": {
      "text/plain": [
       "((4, 5), (6, 7), (8, 9))"
      ]
     },
     "execution_count": 156,
     "metadata": {},
     "output_type": "execute_result"
    }
   ],
   "source": [
    "t1, t2, t3 = (4,5), (6,7), (8,9)\n",
    "t1, t2, t3"
   ]
  },
  {
   "cell_type": "code",
   "execution_count": 157,
   "id": "c109829a-ccb7-4ad8-a048-92fbfe9d16a7",
   "metadata": {},
   "outputs": [
    {
     "data": {
      "text/plain": [
       "(4, 5, 6, 7)"
      ]
     },
     "execution_count": 157,
     "metadata": {},
     "output_type": "execute_result"
    }
   ],
   "source": [
    "t1 + t2\n",
    "### la resta y multiplicacion no se puede"
   ]
  },
  {
   "cell_type": "code",
   "execution_count": 158,
   "id": "056f2173-c9b2-48fd-8e19-616e16fe0d65",
   "metadata": {},
   "outputs": [
    {
     "data": {
      "text/plain": [
       "(6, 7, 6, 7, 6, 7)"
      ]
     },
     "execution_count": 158,
     "metadata": {},
     "output_type": "execute_result"
    }
   ],
   "source": [
    "3*t2"
   ]
  },
  {
   "cell_type": "code",
   "execution_count": 159,
   "id": "0e4a98a9-4260-41ab-b0f1-7f58ec784af5",
   "metadata": {},
   "outputs": [
    {
     "ename": "IndexError",
     "evalue": "tuple index out of range",
     "output_type": "error",
     "traceback": [
      "\u001b[31m---------------------------------------------------------------------------\u001b[39m",
      "\u001b[31mIndexError\u001b[39m                                Traceback (most recent call last)",
      "\u001b[36mCell\u001b[39m\u001b[36m \u001b[39m\u001b[32mIn[159]\u001b[39m\u001b[32m, line 1\u001b[39m\n\u001b[32m----> \u001b[39m\u001b[32m1\u001b[39m \u001b[32m3\u001b[39m*\u001b[43mt2\u001b[49m\u001b[43m[\u001b[49m\u001b[32;43m3\u001b[39;49m\u001b[43m]\u001b[49m\n",
      "\u001b[31mIndexError\u001b[39m: tuple index out of range"
     ]
    }
   ],
   "source": [
    "3*t2[3]\n",
    "\n",
    "## sale error "
   ]
  },
  {
   "cell_type": "code",
   "execution_count": 160,
   "id": "0a058616-2607-462f-a09f-d2926a920486",
   "metadata": {},
   "outputs": [
    {
     "data": {
      "text/plain": [
       "7"
      ]
     },
     "execution_count": 160,
     "metadata": {},
     "output_type": "execute_result"
    }
   ],
   "source": [
    "(3*t2)[3]"
   ]
  },
  {
   "cell_type": "code",
   "execution_count": 162,
   "id": "294253a5-e699-4bf2-8a84-8138ad691e83",
   "metadata": {},
   "outputs": [
    {
     "data": {
      "text/plain": [
       "[7, 7, 7]"
      ]
     },
     "execution_count": 162,
     "metadata": {},
     "output_type": "execute_result"
    }
   ],
   "source": [
    "[(3*t2)[3]]*3"
   ]
  },
  {
   "cell_type": "code",
   "execution_count": 163,
   "id": "d2906ba6-124b-46b1-8045-3fdf1f65a940",
   "metadata": {},
   "outputs": [
    {
     "ename": "TypeError",
     "evalue": "'tuple' object does not support item assignment",
     "output_type": "error",
     "traceback": [
      "\u001b[31m---------------------------------------------------------------------------\u001b[39m",
      "\u001b[31mTypeError\u001b[39m                                 Traceback (most recent call last)",
      "\u001b[36mCell\u001b[39m\u001b[36m \u001b[39m\u001b[32mIn[163]\u001b[39m\u001b[32m, line 1\u001b[39m\n\u001b[32m----> \u001b[39m\u001b[32m1\u001b[39m \u001b[43mt2\u001b[49m\u001b[43m[\u001b[49m\u001b[32;43m0\u001b[39;49m\u001b[43m]\u001b[49m= \u001b[32m5\u001b[39m\n",
      "\u001b[31mTypeError\u001b[39m: 'tuple' object does not support item assignment"
     ]
    }
   ],
   "source": [
    "t2[0]= 5\n",
    "\n",
    "## las tuplas son inmutables "
   ]
  },
  {
   "cell_type": "markdown",
   "id": "888872c1-6ddc-4a1f-926b-eefe4c2867fc",
   "metadata": {},
   "source": [
    "# mapping: dictionarios"
   ]
  },
  {
   "cell_type": "code",
   "execution_count": 170,
   "id": "67ce97b4-84c8-41ea-a465-f1484bb4cfa2",
   "metadata": {},
   "outputs": [
    {
     "data": {
      "text/plain": [
       "{'key': 'valor', 'llave2': 'valor2', 'llave3': 5, 'llave4': [2, 3], 5: [-2]}"
      ]
     },
     "execution_count": 170,
     "metadata": {},
     "output_type": "execute_result"
    }
   ],
   "source": [
    "diccionario= {'key': 'valor', 'llave2': 'valor2', 'llave3': 5, 'llave4' : [2,3], 5: [-2]}\n",
    "diccionario\n",
    "\n",
    "### el diccionario es una asociacion en pares, es decir un valor vendra acompañado de otro "
   ]
  },
  {
   "cell_type": "code",
   "execution_count": 168,
   "id": "0f83ff90-e3f4-4c00-a604-97d023ad3fe3",
   "metadata": {},
   "outputs": [
    {
     "data": {
      "text/plain": [
       "dict"
      ]
     },
     "execution_count": 168,
     "metadata": {},
     "output_type": "execute_result"
    }
   ],
   "source": [
    "type(diccionario)"
   ]
  },
  {
   "cell_type": "code",
   "execution_count": 171,
   "id": "6dcce490-47fd-4391-83d1-4cf419687f31",
   "metadata": {},
   "outputs": [
    {
     "data": {
      "text/plain": [
       "[-2]"
      ]
     },
     "execution_count": 171,
     "metadata": {},
     "output_type": "execute_result"
    }
   ],
   "source": [
    "diccionario [5]"
   ]
  },
  {
   "cell_type": "code",
   "execution_count": 173,
   "id": "422e76b1-e142-4a66-b875-496b2c3dc0a8",
   "metadata": {},
   "outputs": [
    {
     "data": {
      "text/plain": [
       "'valor2'"
      ]
     },
     "execution_count": 173,
     "metadata": {},
     "output_type": "execute_result"
    }
   ],
   "source": [
    "diccionario ['llave2']"
   ]
  },
  {
   "cell_type": "code",
   "execution_count": 174,
   "id": "e27da684-0ae4-4138-955d-dc13a27ce0da",
   "metadata": {},
   "outputs": [
    {
     "data": {
      "text/plain": [
       "dict_keys(['key', 'llave2', 'llave3', 'llave4', 5])"
      ]
     },
     "execution_count": 174,
     "metadata": {},
     "output_type": "execute_result"
    }
   ],
   "source": [
    "diccionario.keys() \n",
    "\n",
    "## sirve para recuperar las llaves con el metodo keys "
   ]
  },
  {
   "cell_type": "code",
   "execution_count": 175,
   "id": "d53c3c56-5400-4e24-b5b8-b5f95c3f30af",
   "metadata": {},
   "outputs": [
    {
     "data": {
      "text/plain": [
       "dict_values(['valor', 'valor2', 5, [2, 3], [-2]])"
      ]
     },
     "execution_count": 175,
     "metadata": {},
     "output_type": "execute_result"
    }
   ],
   "source": [
    "diccionario.values() "
   ]
  },
  {
   "cell_type": "code",
   "execution_count": 176,
   "id": "33ba21f4-76d9-4574-a8cf-c3ac6532bd20",
   "metadata": {},
   "outputs": [
    {
     "data": {
      "text/plain": [
       "dict_values(['valor', 'valor2', 5, [2, 3], [-2]])"
      ]
     },
     "execution_count": 176,
     "metadata": {},
     "output_type": "execute_result"
    }
   ],
   "source": [
    "var= diccionario.values()\n",
    "var"
   ]
  },
  {
   "cell_type": "markdown",
   "id": "79131489-04ad-480a-a429-99f130f12f8f",
   "metadata": {},
   "source": [
    "### convertir a otro tipo de datos "
   ]
  },
  {
   "cell_type": "code",
   "execution_count": 179,
   "id": "3a213a09-4c56-454e-8138-b48af4d57ac5",
   "metadata": {},
   "outputs": [
    {
     "data": {
      "text/plain": [
       "['valor', 'valor2', 5, [2, 3], [-2]]"
      ]
     },
     "execution_count": 179,
     "metadata": {},
     "output_type": "execute_result"
    }
   ],
   "source": [
    "list(var)"
   ]
  },
  {
   "cell_type": "code",
   "execution_count": 180,
   "id": "73258409-ca88-4c8c-8198-b7c36a111487",
   "metadata": {},
   "outputs": [
    {
     "data": {
      "text/plain": [
       "dict_values"
      ]
     },
     "execution_count": 180,
     "metadata": {},
     "output_type": "execute_result"
    }
   ],
   "source": [
    "type(var)"
   ]
  },
  {
   "cell_type": "code",
   "execution_count": 183,
   "id": "4de70d29-8b32-42c1-a6e1-79d2c8a06e15",
   "metadata": {},
   "outputs": [
    {
     "data": {
      "text/plain": [
       "{'key': 'valor', 'llave2': 45, 'llave3': 5, 'llave4': [2, 3], 5: [-2]}"
      ]
     },
     "execution_count": 183,
     "metadata": {},
     "output_type": "execute_result"
    }
   ],
   "source": [
    "diccionario ['llave2']=45\n",
    "diccionario\n",
    "\n",
    "### los diccionarios son mutables "
   ]
  },
  {
   "cell_type": "code",
   "execution_count": 184,
   "id": "559c85a2-0176-4ea9-b93e-d7b7b6f67f03",
   "metadata": {},
   "outputs": [
    {
     "data": {
      "text/plain": [
       "{'key': 'valor',\n",
       " 'llave2': 45,\n",
       " 'llave3': 5,\n",
       " 'llave4': [2, 3],\n",
       " 5: [-2],\n",
       " 'vamosnos': 'a mimir'}"
      ]
     },
     "execution_count": 184,
     "metadata": {},
     "output_type": "execute_result"
    }
   ],
   "source": [
    "diccionario ['vamosnos']= 'a mimir'\n",
    "diccionario\n",
    "\n",
    "### agrega un nuevo elelmento"
   ]
  },
  {
   "cell_type": "code",
   "execution_count": 185,
   "id": "9a9d3301-b14b-4052-b89d-aa777002e929",
   "metadata": {},
   "outputs": [
    {
     "data": {
      "text/plain": [
       "'a mimir'"
      ]
     },
     "execution_count": 185,
     "metadata": {},
     "output_type": "execute_result"
    }
   ],
   "source": [
    "diccionario.pop('vamosnos')\n",
    "\n",
    "## nos ayuda a eliminar una llave "
   ]
  },
  {
   "cell_type": "code",
   "execution_count": 186,
   "id": "dc77b3fa-83f7-44f9-b53b-1f5399ffa070",
   "metadata": {},
   "outputs": [
    {
     "data": {
      "text/plain": [
       "{'key': 'valor', 'llave2': 45, 'llave3': 5, 'llave4': [2, 3], 5: [-2]}"
      ]
     },
     "execution_count": 186,
     "metadata": {},
     "output_type": "execute_result"
    }
   ],
   "source": [
    "diccionario"
   ]
  },
  {
   "cell_type": "markdown",
   "id": "2fc8f3a6-ad15-461d-9cbe-ba0faf31fe3d",
   "metadata": {},
   "source": []
  },
  {
   "cell_type": "markdown",
   "id": "db0942a3-b3be-4168-91ac-2c14a7367e3b",
   "metadata": {},
   "source": []
  },
  {
   "cell_type": "code",
   "execution_count": null,
   "id": "ca137a6c-c8c7-4b0f-8e73-3832d4b549a9",
   "metadata": {},
   "outputs": [],
   "source": []
  },
  {
   "cell_type": "code",
   "execution_count": null,
   "id": "6d050cc5-a02b-4a8a-ab43-99a7275811cb",
   "metadata": {},
   "outputs": [],
   "source": []
  }
 ],
 "metadata": {
  "kernelspec": {
   "display_name": "Python 3 (ipykernel)",
   "language": "python",
   "name": "python3"
  },
  "language_info": {
   "codemirror_mode": {
    "name": "ipython",
    "version": 3
   },
   "file_extension": ".py",
   "mimetype": "text/x-python",
   "name": "python",
   "nbconvert_exporter": "python",
   "pygments_lexer": "ipython3",
   "version": "3.13.6"
  }
 },
 "nbformat": 4,
 "nbformat_minor": 5
}
