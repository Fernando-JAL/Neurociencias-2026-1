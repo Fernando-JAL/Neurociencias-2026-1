{
 "cells": [
  {
   "cell_type": "markdown",
   "id": "1a6a741f-9f66-4ee3-ae62-cb77dd5a1409",
   "metadata": {},
   "source": [
    "# Ejercicios\n",
    "1. Crear una función que cuente las vocales de un string y regrese dicho número\n",
    "2. Crear una función que determine si un número es par o impar e imprima si es par o impar\n",
    "3. Crear una función para convertir de °C a °F, dicha función recibirá la temperatura en °C y deberá regresarlos en °F\n",
    "4. Crear una función que reciba un entero y devuelva la suma de sus dígitos\n",
    "5. Crear una función que cuente las palabras de un string y devuelva dicho número\n",
    "6. Crear una función que reciba una lista con al menos 3 enteros y regrese el mínimo de todos los números de la lista\n",
    "7. Crear una función que reciba dos string (frase, letra) y cuente cuántas veces aparece la letra en la frase y regrese ese número\n",
    "8. Crear una función que reciba un string y cambie todas las minúsculas a mayúsculas y viceversa\n",
    "9. Crear una función que reciba un string y elimine todos los espacios y regrese el string sin espacios"
   ]
  },
  {
   "cell_type": "code",
   "execution_count": 23,
   "id": "f594934e-d429-4e20-8d6b-6ab688320e79",
   "metadata": {},
   "outputs": [],
   "source": [
    "# Función que cuenta vocales de un string\n",
    "def contador_vocales(cadena):\n",
    "    vocales = \"aeiouAEIOU\"\n",
    "    total = 0 # A partir de dónde iniciar a contar (i.e., inicia desde 0)\n",
    "    for letra in cadena:\n",
    "        if letra in vocales:\n",
    "            inicio += 1\n",
    "    return inicio"
   ]
  },
  {
   "cell_type": "code",
   "execution_count": 24,
   "id": "7db385da-1065-4341-a6bc-f35710c08410",
   "metadata": {},
   "outputs": [
    {
     "data": {
      "text/plain": [
       "8"
      ]
     },
     "execution_count": 24,
     "metadata": {},
     "output_type": "execute_result"
    }
   ],
   "source": [
    "contador_vocales(\"Naomi es un minion\")"
   ]
  },
  {
   "cell_type": "code",
   "execution_count": null,
   "id": "4558a2b1-7f8f-47de-bbb3-1ee6c373897b",
   "metadata": {},
   "outputs": [],
   "source": [
    "# ¿Cómo lo haría el profe?\n",
    "def contador_vocales(cadena):\n",
    "    total = 0\n",
    "    vocales = ['a','e','i','o','u','A','E','I','O','U']\n",
    "    for letra in cadena:\n",
    "        if letra in vocales:\n",
    "            total += 1\n",
    "    return total "
   ]
  },
  {
   "cell_type": "code",
   "execution_count": 25,
   "id": "9afcabc2-2528-4de4-92af-db5e67d7799c",
   "metadata": {},
   "outputs": [
    {
     "data": {
      "text/plain": [
       "4"
      ]
     },
     "execution_count": 25,
     "metadata": {},
     "output_type": "execute_result"
    }
   ],
   "source": [
    "contador_vocales(\"Tengo hambre\")"
   ]
  },
  {
   "cell_type": "code",
   "execution_count": 6,
   "id": "3b7bbcb2-d183-4050-88f9-2c72b8aa720d",
   "metadata": {},
   "outputs": [],
   "source": [
    "# Función que determina paridad de un número\n",
    "def paridad(numero):\n",
    "    if numero % 2 == 0:\n",
    "        print(f\"{numero} es par\")\n",
    "    else: \n",
    "        print(f\"{numero} es impar\")"
   ]
  },
  {
   "cell_type": "code",
   "execution_count": 7,
   "id": "7261d2b2-04f9-459e-a03b-20ba271dfd90",
   "metadata": {},
   "outputs": [
    {
     "name": "stdout",
     "output_type": "stream",
     "text": [
      "84 es par\n"
     ]
    }
   ],
   "source": [
    "paridad(84)"
   ]
  },
  {
   "cell_type": "code",
   "execution_count": 8,
   "id": "28fcfbbc-ebb6-4d21-847f-758ac9ec8eea",
   "metadata": {},
   "outputs": [
    {
     "name": "stdout",
     "output_type": "stream",
     "text": [
      "7 es impar\n"
     ]
    }
   ],
   "source": [
    "paridad(7)"
   ]
  },
  {
   "cell_type": "code",
   "execution_count": 10,
   "id": "bd1e2777-0b6d-4935-b903-0ea6c8d40d93",
   "metadata": {},
   "outputs": [],
   "source": [
    "# Función que convierte °C → °F\n",
    "def temperatura(celcius):\n",
    "    farenheit = (celcius * 9/5) + 32\n",
    "    return farenheit"
   ]
  },
  {
   "cell_type": "code",
   "execution_count": 11,
   "id": "19ff6485-751a-423f-b236-ef49a13558ec",
   "metadata": {},
   "outputs": [
    {
     "data": {
      "text/plain": [
       "53.6"
      ]
     },
     "execution_count": 11,
     "metadata": {},
     "output_type": "execute_result"
    }
   ],
   "source": [
    "temperatura(12)"
   ]
  },
  {
   "cell_type": "code",
   "execution_count": 36,
   "id": "998648dd-2756-40c0-b9c9-81c825c2ff83",
   "metadata": {},
   "outputs": [],
   "source": [
    "# ¿Cómo lo haría el profe?\n",
    "def conv_celcius_farenheit():\n",
    "    celcius = input('Dame el valor en °C')\n",
    "    print(type(celcius), celcius)\n",
    "    farenheit = float(celcius)*(9/5)+32\n",
    "    return farenheit"
   ]
  },
  {
   "cell_type": "code",
   "execution_count": 37,
   "id": "abee2f4e-f68c-4ce9-93f8-8e825fc98d2b",
   "metadata": {},
   "outputs": [
    {
     "ename": "TypeError",
     "evalue": "conv_celcius_farenheit() takes 0 positional arguments but 1 was given",
     "output_type": "error",
     "traceback": [
      "\u001b[31m---------------------------------------------------------------------------\u001b[39m",
      "\u001b[31mTypeError\u001b[39m                                 Traceback (most recent call last)",
      "\u001b[36mCell\u001b[39m\u001b[36m \u001b[39m\u001b[32mIn[37]\u001b[39m\u001b[32m, line 1\u001b[39m\n\u001b[32m----> \u001b[39m\u001b[32m1\u001b[39m \u001b[43mconv_celcius_farenheit\u001b[49m\u001b[43m(\u001b[49m\u001b[32;43m12\u001b[39;49m\u001b[43m)\u001b[49m\n",
      "\u001b[31mTypeError\u001b[39m: conv_celcius_farenheit() takes 0 positional arguments but 1 was given"
     ]
    }
   ],
   "source": [
    "conv_celcius_farenheit(12)\n",
    "# PUES MARCA ERROR"
   ]
  },
  {
   "cell_type": "code",
   "execution_count": 21,
   "id": "cb248582-7ff1-44ad-9d8d-dc579e704618",
   "metadata": {},
   "outputs": [],
   "source": [
    "# Función que suma los dígitos de un entero\n",
    "def suma_digitos_entero(entero):\n",
    "    entero = abs(entero) # Dado sea el caso, convertir todo negativo a positivo\n",
    "    inicio = 0\n",
    "    for digito in str(entero):\n",
    "        inicio += int(digito)\n",
    "    return inicio"
   ]
  },
  {
   "cell_type": "code",
   "execution_count": 22,
   "id": "25b6c5b8-86bd-4589-be72-5fb17b742305",
   "metadata": {},
   "outputs": [
    {
     "data": {
      "text/plain": [
       "7"
      ]
     },
     "execution_count": 22,
     "metadata": {},
     "output_type": "execute_result"
    }
   ],
   "source": [
    "suma_digitos_entero(-43)"
   ]
  },
  {
   "cell_type": "code",
   "execution_count": 39,
   "id": "84819412-3b19-44cc-8eb1-bc09cb740be0",
   "metadata": {},
   "outputs": [],
   "source": [
    "# ¿Cómo lo haría el profe?\n",
    "def sumar_digitos(entero):\n",
    "    str_entero = str(entero)\n",
    "    total = 0\n",
    "    for digito in str_entero:\n",
    "        total += int(digito) # Total = total + int(digito)\n",
    "    return total"
   ]
  },
  {
   "cell_type": "code",
   "execution_count": 41,
   "id": "84b416cb-b03d-4b30-8a67-ac8895e03c01",
   "metadata": {},
   "outputs": [
    {
     "ename": "ValueError",
     "evalue": "invalid literal for int() with base 10: '-'",
     "output_type": "error",
     "traceback": [
      "\u001b[31m---------------------------------------------------------------------------\u001b[39m",
      "\u001b[31mValueError\u001b[39m                                Traceback (most recent call last)",
      "\u001b[36mCell\u001b[39m\u001b[36m \u001b[39m\u001b[32mIn[41]\u001b[39m\u001b[32m, line 1\u001b[39m\n\u001b[32m----> \u001b[39m\u001b[32m1\u001b[39m \u001b[43msumar_digitos\u001b[49m\u001b[43m(\u001b[49m\u001b[43m-\u001b[49m\u001b[32;43m12\u001b[39;49m\u001b[43m)\u001b[49m\n",
      "\u001b[36mCell\u001b[39m\u001b[36m \u001b[39m\u001b[32mIn[39]\u001b[39m\u001b[32m, line 6\u001b[39m, in \u001b[36msumar_digitos\u001b[39m\u001b[34m(entero)\u001b[39m\n\u001b[32m      4\u001b[39m total = \u001b[32m0\u001b[39m\n\u001b[32m      5\u001b[39m \u001b[38;5;28;01mfor\u001b[39;00m digito \u001b[38;5;129;01min\u001b[39;00m str_entero:\n\u001b[32m----> \u001b[39m\u001b[32m6\u001b[39m     total += \u001b[38;5;28;43mint\u001b[39;49m\u001b[43m(\u001b[49m\u001b[43mdigito\u001b[49m\u001b[43m)\u001b[49m \u001b[38;5;66;03m# Total = total + int(digito)\u001b[39;00m\n\u001b[32m      7\u001b[39m \u001b[38;5;28;01mreturn\u001b[39;00m total\n",
      "\u001b[31mValueError\u001b[39m: invalid literal for int() with base 10: '-'"
     ]
    }
   ],
   "source": [
    "sumar_digitos(-12) # Lol, esta forma solo admite números positivos (falta entero = abs(entero))"
   ]
  },
  {
   "cell_type": "code",
   "execution_count": 26,
   "id": "0ce5f58f-e867-4c61-b36f-dc1b25dbf6c9",
   "metadata": {},
   "outputs": [],
   "source": [
    "# Función que cuenta palabras de un string \n",
    "def contador_palabras(cadena):\n",
    "    palabras = cadena.split()\n",
    "    return len(palabras)"
   ]
  },
  {
   "cell_type": "code",
   "execution_count": 27,
   "id": "aa656e55-a67d-45c9-a884-4eb873d0e576",
   "metadata": {},
   "outputs": [
    {
     "data": {
      "text/plain": [
       "7"
      ]
     },
     "execution_count": 27,
     "metadata": {},
     "output_type": "execute_result"
    }
   ],
   "source": [
    "contador_palabras(\"Ya me quiero ir a mi casa\")"
   ]
  },
  {
   "cell_type": "code",
   "execution_count": 38,
   "id": "4453299e-017e-49e0-8c37-265cf0f903ba",
   "metadata": {},
   "outputs": [],
   "source": [
    "# Función que recibe una lista con >= 3 enteros y regresa el mínimo\n",
    "def min_lista_enteros(lista):\n",
    "    if len(lista) < 3:\n",
    "        raise error(\"La lista debe contener al menos 3 enteros\")\n",
    "    return min(lista)"
   ]
  },
  {
   "cell_type": "code",
   "execution_count": 43,
   "id": "9ece1b26-8be8-4d23-8394-add96c9d80be",
   "metadata": {},
   "outputs": [
    {
     "data": {
      "text/plain": [
       "-8"
      ]
     },
     "execution_count": 43,
     "metadata": {},
     "output_type": "execute_result"
    }
   ],
   "source": [
    "min_lista_enteros([2,67,3.14,2.71,9,-8]) # También funciona para números negativos"
   ]
  },
  {
   "cell_type": "code",
   "execution_count": 51,
   "id": "1d4e7389-5402-4713-9ed9-283efaf213b4",
   "metadata": {},
   "outputs": [],
   "source": [
    "# Función que cuenta cuántas veces aparece una letra en una frase/cadena\n",
    "def contador_letra(frase, letra):\n",
    "    contador = 0\n",
    "    for l in frase:\n",
    "        if l == letra:\n",
    "            contador += 1\n",
    "    return contador"
   ]
  },
  {
   "cell_type": "code",
   "execution_count": 54,
   "id": "424f0b6e-81a1-4ecd-8928-544b7a9e2ebb",
   "metadata": {},
   "outputs": [
    {
     "data": {
      "text/plain": [
       "10"
      ]
     },
     "execution_count": 54,
     "metadata": {},
     "output_type": "execute_result"
    }
   ],
   "source": [
    "contador_letra(\"Arremangala empujala, arremengala empujala\", \"a\")"
   ]
  },
  {
   "cell_type": "code",
   "execution_count": 46,
   "id": "cd905e6d-f935-44ce-a7a7-d71384defbff",
   "metadata": {},
   "outputs": [
    {
     "data": {
      "text/plain": [
       "('CADENA', 'alfabeto', 'Mientras', True, True)"
      ]
     },
     "execution_count": 46,
     "metadata": {},
     "output_type": "execute_result"
    }
   ],
   "source": [
    "\"cadena\".upper(), \"ALFABETO\".lower(), \"mientras\".capitalize(), \"a\".islower(), \"A\".isupper()"
   ]
  },
  {
   "cell_type": "code",
   "execution_count": 47,
   "id": "8405230e-d385-48a1-be17-93e282bb0487",
   "metadata": {},
   "outputs": [
    {
     "data": {
      "text/plain": [
       "(['a', 'b', 'c', 'd'], 'a-b-c-d')"
      ]
     },
     "execution_count": 47,
     "metadata": {},
     "output_type": "execute_result"
    }
   ],
   "source": [
    "\"a b c d\".split(sep = \" \"), \"-\".join(['a','b','c','d'])"
   ]
  },
  {
   "cell_type": "code",
   "execution_count": 58,
   "id": "b2b01550-26c6-4757-8694-fb051d94e4a6",
   "metadata": {},
   "outputs": [],
   "source": [
    "# Función que recibe un string y cambia minúsculas a mayúsculas y viceversa\n",
    "def cambiar_min_mayu(cadena):\n",
    "    cadena_cambiada = \" \"\n",
    "    for letra in cadena:\n",
    "        if letra.islower(): # Convertir min → mayu\n",
    "            cadena_cambiada += letra.upper() \n",
    "        elif letra.isupper(): # Convertir mayu → min\n",
    "            cadena_cambiada += letra.lower() \n",
    "        else:\n",
    "            cadena_cambiada += letra\n",
    "    return cadena_cambiada"
   ]
  },
  {
   "cell_type": "code",
   "execution_count": 59,
   "id": "8909ff3d-37fb-49e1-9478-35cc3861da20",
   "metadata": {},
   "outputs": [
    {
     "data": {
      "text/plain": [
       "' pOU SOY YO, YO SOY pOU'"
      ]
     },
     "execution_count": 59,
     "metadata": {},
     "output_type": "execute_result"
    }
   ],
   "source": [
    "cambiar_min_mayu(\"Pou soy yo, yo soy Pou\")"
   ]
  },
  {
   "cell_type": "code",
   "execution_count": null,
   "id": "b01e4564-d908-4398-84a5-d7ea24d6d639",
   "metadata": {},
   "outputs": [],
   "source": [
    "# Falta terminar último ejercio (TAREA)"
   ]
  }
 ],
 "metadata": {
  "kernelspec": {
   "display_name": "Python 3 (ipykernel)",
   "language": "python",
   "name": "python3"
  },
  "language_info": {
   "codemirror_mode": {
    "name": "ipython",
    "version": 3
   },
   "file_extension": ".py",
   "mimetype": "text/x-python",
   "name": "python",
   "nbconvert_exporter": "python",
   "pygments_lexer": "ipython3",
   "version": "3.13.7"
  }
 },
 "nbformat": 4,
 "nbformat_minor": 5
}
