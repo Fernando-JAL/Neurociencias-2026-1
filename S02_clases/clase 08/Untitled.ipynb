{
 "cells": [
  {
   "cell_type": "code",
   "execution_count": 1,
   "id": "0806adef-178d-42d0-86fe-e6a368913e89",
   "metadata": {},
   "outputs": [
    {
     "data": {
      "text/plain": [
       "(1+3j)"
      ]
     },
     "execution_count": 1,
     "metadata": {},
     "output_type": "execute_result"
    }
   ],
   "source": [
    "a=1 \n",
    "b=3\n",
    "\n",
    "complex(1, 3)"
   ]
  },
  {
   "cell_type": "code",
   "execution_count": 7,
   "id": "a8148b5a-ca2c-4eee-bfff-93e6e6c4dbe3",
   "metadata": {},
   "outputs": [
    {
     "name": "stdout",
     "output_type": "stream",
     "text": [
      "cadena de texto 1 \t cadena de texto 2\n"
     ]
    }
   ],
   "source": [
    "a= \"cadena de texto 1\" \n",
    "b= \"cadena de texto 2\"\n",
    "\n",
    "print(a, \"\\t\", b)\n"
   ]
  },
  {
   "cell_type": "code",
   "execution_count": 8,
   "id": "3552a1f1-e741-4c16-95f8-f1505b81374b",
   "metadata": {},
   "outputs": [],
   "source": [
    "# Sliciing\n"
   ]
  },
  {
   "cell_type": "code",
   "execution_count": null,
   "id": "0031b6bf-f70b-4d0a-a111-ac2be51f2b63",
   "metadata": {},
   "outputs": [],
   "source": [
    "a= \"hola jolines chayotes vertes\"\n"
   ]
  },
  {
   "cell_type": "code",
   "execution_count": 9,
   "id": "35c88512-c48a-444c-ac84-088c67b512c6",
   "metadata": {},
   "outputs": [
    {
     "data": {
      "text/plain": [
       "'d'"
      ]
     },
     "execution_count": 9,
     "metadata": {},
     "output_type": "execute_result"
    }
   ],
   "source": [
    "a[2]"
   ]
  },
  {
   "cell_type": "code",
   "execution_count": null,
   "id": "fd332f19-2c50-4264-9ce2-ca7e5124aec0",
   "metadata": {},
   "outputs": [],
   "source": [
    "a= []"
   ]
  }
 ],
 "metadata": {
  "kernelspec": {
   "display_name": "Python 3 (ipykernel)",
   "language": "python",
   "name": "python3"
  },
  "language_info": {
   "codemirror_mode": {
    "name": "ipython",
    "version": 3
   },
   "file_extension": ".py",
   "mimetype": "text/x-python",
   "name": "python",
   "nbconvert_exporter": "python",
   "pygments_lexer": "ipython3",
   "version": "3.10.7"
  }
 },
 "nbformat": 4,
 "nbformat_minor": 5
}
