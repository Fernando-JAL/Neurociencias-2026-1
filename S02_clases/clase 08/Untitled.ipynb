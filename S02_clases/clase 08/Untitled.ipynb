{
 "cells": [
  {
   "cell_type": "code",
   "execution_count": 10,
   "id": "a8b4bbb0-5588-4950-94cd-e3f8649adcda",
   "metadata": {},
   "outputs": [
    {
     "ename": "SyntaxError",
     "evalue": "invalid syntax (3631379880.py, line 3)",
     "output_type": "error",
     "traceback": [
      "  \u001b[36mCell\u001b[39m\u001b[36m \u001b[39m\u001b[32mIn[10]\u001b[39m\u001b[32m, line 3\u001b[39m\n\u001b[31m    \u001b[39m\u001b[31m1.- Crear una función que cuente las vocales de un string y regrese dicho número\u001b[39m\n              ^\n\u001b[31mSyntaxError\u001b[39m\u001b[31m:\u001b[39m invalid syntax\n"
     ]
    }
   ],
   "source": [
    "# Ejercicios \n",
    "\n",
    "1.- Crear una función que cuente las vocales de un string y regrese dicho número \n",
    "2.- Crear una función que determine si un número es par o impar e imprima si es par o impar \n",
    "3.- Crear una función para convertir de grados celcius"
   ]
  },
  {
   "cell_type": "code",
   "execution_count": 15,
   "id": "0819c9ab-a5cb-420a-852e-052d9bc80627",
   "metadata": {},
   "outputs": [
    {
     "ename": "IndentationError",
     "evalue": "unindent does not match any outer indentation level (<string>, line 5)",
     "output_type": "error",
     "traceback": [
      "  \u001b[36mFile \u001b[39m\u001b[32m<string>:5\u001b[39m\n\u001b[31m    \u001b[39m\u001b[31mcontar_vocales(\"ababababa\")\u001b[39m\n                                  ^\n\u001b[31mIndentationError\u001b[39m\u001b[31m:\u001b[39m unindent does not match any outer indentation level\n"
     ]
    }
   ],
   "source": [
    "def contar_vocales(cadena):\n",
    "    vocales = \"aeiouAEIOU\"\n",
    "    return sum(1 for letra in cadena if letra in vocales)\n",
    "\n",
    " contar_vocales(\"ababababa\")   "
   ]
  },
  {
   "cell_type": "code",
   "execution_count": null,
   "id": "30844c3d-2c57-42f6-923c-aaa19da8f67c",
   "metadata": {},
   "outputs": [],
   "source": [
    "def contar_vocales2(cadena):\n",
    "    total = 0\n",
    "    vocales = [\"a\", \"e\", \"i\", \"o\", \"u\"]\n",
    "    for letra in cadena:\n",
    "        if letra in vocales:\n",
    "            total +=1\n",
    "    return total \n",
    "            "
   ]
  },
  {
   "cell_type": "code",
   "execution_count": null,
   "id": "1daf4c42-f889-4620-b4e9-2f893e4a4e5e",
   "metadata": {},
   "outputs": [],
   "source": []
  }
 ],
 "metadata": {
  "kernelspec": {
   "display_name": "Python 3 (ipykernel)",
   "language": "python",
   "name": "python3"
  },
  "language_info": {
   "codemirror_mode": {
    "name": "ipython",
    "version": 3
   },
   "file_extension": ".py",
   "mimetype": "text/x-python",
   "name": "python",
   "nbconvert_exporter": "python",
   "pygments_lexer": "ipython3",
   "version": "3.13.7"
  }
 },
 "nbformat": 4,
 "nbformat_minor": 5
}
