{
 "cells": [
  {
   "cell_type": "code",
   "execution_count": null,
   "id": "a8b4bbb0-5588-4950-94cd-e3f8649adcda",
   "metadata": {},
   "outputs": [],
   "source": [
    "# Ejercicios \n",
    "\n",
    "1.- Crear una funci"
   ]
  },
  {
   "cell_type": "code",
   "execution_count": null,
   "id": "0819c9ab-a5cb-420a-852e-052d9bc80627",
   "metadata": {},
   "outputs": [],
   "source": [
    "def contar_vocales(cadena):\n",
    "    vocales = \"aeiouAEIOU\"\n",
    "    contador = sum(1 for letra in cadena if)\n",
    "    return contador\n",
    "\n",
    "    print (\"Ejercicio 1\")\n",
    "    print(\n"
   ]
  }
 ],
 "metadata": {
  "kernelspec": {
   "display_name": "Python 3 (ipykernel)",
   "language": "python",
   "name": "python3"
  },
  "language_info": {
   "codemirror_mode": {
    "name": "ipython",
    "version": 3
   },
   "file_extension": ".py",
   "mimetype": "text/x-python",
   "name": "python",
   "nbconvert_exporter": "python",
   "pygments_lexer": "ipython3",
   "version": "3.13.7"
  }
 },
 "nbformat": 4,
 "nbformat_minor": 5
}
