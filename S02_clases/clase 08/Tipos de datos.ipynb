{
 "cells": [
  {
   "cell_type": "markdown",
   "id": "e7ec5a98-26c5-4369-b201-04d4db24bdf7",
   "metadata": {},
   "source": [
    "# Cadenas inmutables"
   ]
  },
  {
   "cell_type": "code",
   "execution_count": 1,
   "id": "b6907cbc-fdda-434a-8cde-d0f3a4a55f93",
   "metadata": {},
   "outputs": [
    {
     "data": {
      "text/plain": [
       "'cadena'"
      ]
     },
     "execution_count": 1,
     "metadata": {},
     "output_type": "execute_result"
    }
   ],
   "source": [
    "cadena = \"cadena\"\n",
    "cadena"
   ]
  },
  {
   "cell_type": "code",
   "execution_count": 2,
   "id": "0654b07f-52e3-4dce-8993-52af8cf900fb",
   "metadata": {},
   "outputs": [
    {
     "data": {
      "text/plain": [
       "'n'"
      ]
     },
     "execution_count": 2,
     "metadata": {},
     "output_type": "execute_result"
    }
   ],
   "source": [
    "cadena[-2]"
   ]
  },
  {
   "cell_type": "code",
   "execution_count": 3,
   "id": "15324538-3e2f-4d83-b31d-c1c0caa4cf63",
   "metadata": {},
   "outputs": [
    {
     "ename": "TypeError",
     "evalue": "'str' object does not support item assignment",
     "output_type": "error",
     "traceback": [
      "\u001b[31m---------------------------------------------------------------------------\u001b[39m",
      "\u001b[31mTypeError\u001b[39m                                 Traceback (most recent call last)",
      "\u001b[36mCell\u001b[39m\u001b[36m \u001b[39m\u001b[32mIn[3]\u001b[39m\u001b[32m, line 1\u001b[39m\n\u001b[32m----> \u001b[39m\u001b[32m1\u001b[39m \u001b[43mcadena\u001b[49m\u001b[43m[\u001b[49m\u001b[43m-\u001b[49m\u001b[32;43m2\u001b[39;49m\u001b[43m]\u001b[49m= \u001b[33m\"\u001b[39m\u001b[33mp\u001b[39m\u001b[33m\"\u001b[39m\n",
      "\u001b[31mTypeError\u001b[39m: 'str' object does not support item assignment"
     ]
    }
   ],
   "source": [
    "cadena[-2]= \"p\""
   ]
  },
  {
   "cell_type": "markdown",
   "id": "002af440-deaa-4353-b945-087cdaaa0551",
   "metadata": {},
   "source": [
    "# Alternativas a la inmutabilidad"
   ]
  },
  {
   "cell_type": "code",
   "execution_count": 4,
   "id": "f9feae9a-27d4-498e-a9f4-db589b7fccb8",
   "metadata": {},
   "outputs": [],
   "source": [
    "cadena = \"donde esta oswaldo\"\n",
    "cadena2 = \"viva la programación\"\n",
    "cadena3 = \"bts volvió del ejército\""
   ]
  },
  {
   "cell_type": "code",
   "execution_count": 5,
   "id": "2e874fb3-799d-4afd-91db-e465a8692b43",
   "metadata": {},
   "outputs": [
    {
     "data": {
      "text/plain": [
       "'oswaldo'"
      ]
     },
     "execution_count": 5,
     "metadata": {},
     "output_type": "execute_result"
    }
   ],
   "source": [
    "cadena[-7:]"
   ]
  },
  {
   "cell_type": "code",
   "execution_count": 7,
   "id": "a3fe464e-81b3-4d92-a636-d7f3c9951b1e",
   "metadata": {},
   "outputs": [
    {
     "data": {
      "text/plain": [
       "'donde esta la programaciónque volvió del ejército'"
      ]
     },
     "execution_count": 7,
     "metadata": {},
     "output_type": "execute_result"
    }
   ],
   "source": [
    "# Ejercicio Con slicing, crear la frase\n",
    "#donde esta la programacion que volvió del ejército\"\n",
    "\n",
    "cadena[:10] + cadena2[4:] + \"que\" + cadena3[3:]"
   ]
  },
  {
   "cell_type": "code",
   "execution_count": 8,
   "id": "6b11bbf2-8fcc-49b6-8c38-cb9e1509dca5",
   "metadata": {},
   "outputs": [
    {
     "data": {
      "text/plain": [
       "'onde esta oswaldo'"
      ]
     },
     "execution_count": 8,
     "metadata": {},
     "output_type": "execute_result"
    }
   ],
   "source": [
    "# Oswaldo volvió a la programación de óivlov stb"
   ]
  },
  {
   "cell_type": "code",
   "execution_count": 12,
   "id": "d6025fbf-dddc-4ee3-b434-69173127beaf",
   "metadata": {},
   "outputs": [
    {
     "data": {
      "text/plain": [
       "'oswaldo volvió ala programación ed óivlov stb'"
      ]
     },
     "execution_count": 12,
     "metadata": {},
     "output_type": "execute_result"
    }
   ],
   "source": [
    "cadena[-7:] + cadena3[3:11] + \"a\" + cadena2[5:] + \" \" + cadena3[-11::-1]"
   ]
  },
  {
   "cell_type": "code",
   "execution_count": null,
   "id": "d6f085f4-e50c-4eef-8b9f-95dad8cd2b41",
   "metadata": {},
   "outputs": [],
   "source": [
    "ruta= #dirección\n"
   ]
  },
  {
   "cell_type": "markdown",
   "id": "862a2339-6e6c-4a9e-bec3-e914ac73a26b",
   "metadata": {},
   "source": [
    "# Tipos de datos"
   ]
  },
  {
   "cell_type": "code",
   "execution_count": 36,
   "id": "3d6e9b48-6232-4e61-8632-32c8428946b3",
   "metadata": {},
   "outputs": [
    {
     "data": {
      "text/plain": [
       "[5, 4, 2, 90.3, (-7+6j), 'strings', 'alá', [3, 2, 5]]"
      ]
     },
     "execution_count": 36,
     "metadata": {},
     "output_type": "execute_result"
    }
   ],
   "source": [
    "lista = [5, 4, 2, 90.3, complex(-7,6),  \"strings\", \"alá\", [3, 2, 5]]\n",
    "lista"
   ]
  },
  {
   "cell_type": "code",
   "execution_count": 37,
   "id": "653555c6-f882-4b0f-b741-d7836163ed6b",
   "metadata": {},
   "outputs": [
    {
     "data": {
      "text/plain": [
       "list"
      ]
     },
     "execution_count": 37,
     "metadata": {},
     "output_type": "execute_result"
    }
   ],
   "source": [
    "type(lista)"
   ]
  },
  {
   "cell_type": "code",
   "execution_count": 19,
   "id": "83b80ca4-de65-498e-af0e-d6aa225e051f",
   "metadata": {},
   "outputs": [
    {
     "data": {
      "text/plain": [
       "(-7+6j)"
      ]
     },
     "execution_count": 19,
     "metadata": {},
     "output_type": "execute_result"
    }
   ],
   "source": [
    "lista[4]"
   ]
  },
  {
   "cell_type": "code",
   "execution_count": 20,
   "id": "0430f172-5c16-4d38-8f94-e35309ee573f",
   "metadata": {},
   "outputs": [
    {
     "data": {
      "text/plain": [
       "4"
      ]
     },
     "execution_count": 20,
     "metadata": {},
     "output_type": "execute_result"
    }
   ],
   "source": [
    "lista[1]"
   ]
  },
  {
   "cell_type": "code",
   "execution_count": 21,
   "id": "e541759d-be05-4345-a22a-70fcfc927beb",
   "metadata": {},
   "outputs": [
    {
     "data": {
      "text/plain": [
       "'strings'"
      ]
     },
     "execution_count": 21,
     "metadata": {},
     "output_type": "execute_result"
    }
   ],
   "source": [
    "lista[1+4]"
   ]
  },
  {
   "cell_type": "code",
   "execution_count": 22,
   "id": "039d6786-672f-44e1-b3a6-bfc0f7c9cfbc",
   "metadata": {},
   "outputs": [
    {
     "data": {
      "text/plain": [
       "(-3+6j)"
      ]
     },
     "execution_count": 22,
     "metadata": {},
     "output_type": "execute_result"
    }
   ],
   "source": [
    "lista[1] + lista[4]"
   ]
  },
  {
   "cell_type": "code",
   "execution_count": 23,
   "id": "4e825da6-d59e-4105-90be-4d612d987703",
   "metadata": {},
   "outputs": [
    {
     "data": {
      "text/plain": [
       "'aláalá'"
      ]
     },
     "execution_count": 23,
     "metadata": {},
     "output_type": "execute_result"
    }
   ],
   "source": [
    "lista[2] * lista[-2]"
   ]
  },
  {
   "cell_type": "code",
   "execution_count": 24,
   "id": "d38a6472-d822-45a9-a6b5-dcfebb880e95",
   "metadata": {},
   "outputs": [
    {
     "data": {
      "text/plain": [
       "[3, 2, 5, 3, 2, 5, 3, 2, 5, 3, 2, 5]"
      ]
     },
     "execution_count": 24,
     "metadata": {},
     "output_type": "execute_result"
    }
   ],
   "source": [
    "lista[1] * lista[-1]"
   ]
  },
  {
   "cell_type": "code",
   "execution_count": 40,
   "id": "3ec892b0-c244-4cce-8fc9-2d8a110ff337",
   "metadata": {},
   "outputs": [
    {
     "data": {
      "text/plain": [
       "[5, 4, 2, 'chale', (-7+6j), 'strings', 'alá', [3, 2, 5]]"
      ]
     },
     "execution_count": 40,
     "metadata": {},
     "output_type": "execute_result"
    }
   ],
   "source": [
    "lista[3]= 'chale'\n",
    "lista"
   ]
  },
  {
   "cell_type": "code",
   "execution_count": 41,
   "id": "265fb9a1-7df3-4bc9-b2ba-2c515a20294f",
   "metadata": {},
   "outputs": [
    {
     "name": "stdout",
     "output_type": "stream",
     "text": [
      "17 [5, 4, ' ', 'm', 'a', 'l', 'u', 'm', 'a', ' ', 'b', 'a', 'b', 'y', 'strings', 'alá', [3, 2, 5]]\n"
     ]
    }
   ],
   "source": [
    "lista[2:5]= \" maluma baby\"\n",
    "print(len(lista), lista)"
   ]
  },
  {
   "cell_type": "code",
   "execution_count": 42,
   "id": "2c3f5235-1ce4-41e1-be5f-af4966d0bfd0",
   "metadata": {},
   "outputs": [
    {
     "data": {
      "text/plain": [
       "17"
      ]
     },
     "execution_count": 42,
     "metadata": {},
     "output_type": "execute_result"
    }
   ],
   "source": [
    "len(lista)"
   ]
  },
  {
   "cell_type": "code",
   "execution_count": 43,
   "id": "5e9e0e34-7871-4a2b-b0ba-3d92742444b2",
   "metadata": {},
   "outputs": [
    {
     "data": {
      "text/plain": [
       "'strings'"
      ]
     },
     "execution_count": 43,
     "metadata": {},
     "output_type": "execute_result"
    }
   ],
   "source": [
    "lista[-3]"
   ]
  },
  {
   "cell_type": "code",
   "execution_count": 44,
   "id": "2e85ead6-52f8-47ad-819c-008e852c2adb",
   "metadata": {},
   "outputs": [
    {
     "data": {
      "text/plain": [
       "[3, 2, 5]"
      ]
     },
     "execution_count": 44,
     "metadata": {},
     "output_type": "execute_result"
    }
   ],
   "source": [
    "lista[-1]"
   ]
  },
  {
   "cell_type": "code",
   "execution_count": 45,
   "id": "734abb18-1812-478b-9b7e-206268c90ccb",
   "metadata": {},
   "outputs": [
    {
     "data": {
      "text/plain": [
       "['y', 'strings', 'alá']"
      ]
     },
     "execution_count": 45,
     "metadata": {},
     "output_type": "execute_result"
    }
   ],
   "source": [
    "lista[-4:-1]"
   ]
  },
  {
   "cell_type": "code",
   "execution_count": 51,
   "id": "8ef0d83c-1fe7-40bf-b462-ec261550e8b8",
   "metadata": {},
   "outputs": [
    {
     "data": {
      "text/plain": [
       "'C:\\\\Users\\\\V304-23\\\\Documents\\\\GitHub\\\\Neurociencias-2026-1\\\\S01_presentacion\\\\Temario python.pdf'"
      ]
     },
     "execution_count": 51,
     "metadata": {},
     "output_type": "execute_result"
    }
   ],
   "source": [
    "ruta = r\"C:\\Users\\V304-23\\Documents\\GitHub\\Neurociencias-2026-1\\S01_presentacion\\Temario python.pdf\"\n",
    "ruta"
   ]
  },
  {
   "cell_type": "code",
   "execution_count": 54,
   "id": "1f18b0f3-7266-4379-aaaf-9927f99f545e",
   "metadata": {},
   "outputs": [
    {
     "data": {
      "text/plain": [
       "['C:\\\\Users\\\\V304',\n",
       " '23\\\\Documents\\\\GitHub\\\\Neurociencias',\n",
       " '2026',\n",
       " '1\\\\S01_presentacion\\\\Temario python.pdf']"
      ]
     },
     "execution_count": 54,
     "metadata": {},
     "output_type": "execute_result"
    }
   ],
   "source": [
    "ruta.split(sep=\"-\")"
   ]
  },
  {
   "cell_type": "code",
   "execution_count": 56,
   "id": "65535881-6ba7-4f4a-9f59-b84fbfab9f4a",
   "metadata": {},
   "outputs": [
    {
     "data": {
      "text/plain": [
       "'Temario python'"
      ]
     },
     "execution_count": 56,
     "metadata": {},
     "output_type": "execute_result"
    }
   ],
   "source": [
    "var1 = ruta.split(sep = \"\\\\\")\n",
    "var2 = var1[-1]\n",
    "var3 = var2.split(sep = \".pdf\")\n",
    "var3[0]"
   ]
  },
  {
   "cell_type": "code",
   "execution_count": 57,
   "id": "96089d2b-e1d3-4baf-801a-573c5617bf41",
   "metadata": {},
   "outputs": [
    {
     "data": {
      "text/plain": [
       "['C:',\n",
       " 'Users',\n",
       " 'V304-23',\n",
       " 'Documents',\n",
       " 'GitHub',\n",
       " 'Neurociencias-2026-1',\n",
       " 'S01_presentacion',\n",
       " 'Temario python.pdf']"
      ]
     },
     "execution_count": 57,
     "metadata": {},
     "output_type": "execute_result"
    }
   ],
   "source": [
    "var1 = ruta.split(sep = \"\\\\\")\n",
    "var1"
   ]
  },
  {
   "cell_type": "code",
   "execution_count": 58,
   "id": "e75d0f1e-efa0-4075-ac40-10225f084d9b",
   "metadata": {},
   "outputs": [
    {
     "data": {
      "text/plain": [
       "'Temario python'"
      ]
     },
     "execution_count": 58,
     "metadata": {},
     "output_type": "execute_result"
    }
   ],
   "source": [
    "var1 = ruta.split(sep = \"\\\\\") [-1].split(sep = \".pdf\") [0]\n",
    "var1"
   ]
  },
  {
   "cell_type": "code",
   "execution_count": null,
   "id": "f5d87915-cb85-4733-8f17-f4a3037f965e",
   "metadata": {},
   "outputs": [],
   "source": []
  }
 ],
 "metadata": {
  "kernelspec": {
   "display_name": "Python 3 (ipykernel)",
   "language": "python",
   "name": "python3"
  },
  "language_info": {
   "codemirror_mode": {
    "name": "ipython",
    "version": 3
   },
   "file_extension": ".py",
   "mimetype": "text/x-python",
   "name": "python",
   "nbconvert_exporter": "python",
   "pygments_lexer": "ipython3",
   "version": "3.13.7"
  }
 },
 "nbformat": 4,
 "nbformat_minor": 5
}
