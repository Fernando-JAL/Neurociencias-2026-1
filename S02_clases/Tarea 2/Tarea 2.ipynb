{
 "cells": [
  {
   "cell_type": "code",
   "execution_count": null,
   "id": "93c45a51-c041-4a81-9510-8643855a2680",
   "metadata": {},
   "outputs": [],
   "source": [
    "# Tarea 2\n",
    "Usar funciones recursivas para sacar la factorial"
   ]
  },
  {
   "cell_type": "code",
   "execution_count": 2,
   "id": "d717d7ff-d61c-4687-b743-ca9374e523f3",
   "metadata": {},
   "outputs": [
    {
     "name": "stdout",
     "output_type": "stream",
     "text": [
      "fin de la función 0\n",
      "fin de la función 1 -> 1\n",
      "fin de la función 2 -> 2\n",
      "fin de la función 3 -> 6\n",
      "fin de la función 4 -> 24\n",
      "fin de la función 5 -> 120\n",
      "Resultado final: 120\n"
     ]
    }
   ],
   "source": [
    "def factorial(n):\n",
    "    if n == 0:\n",
    "        print(\"fin de la función\", n)\n",
    "        return 1\n",
    "    else:\n",
    "        resultado = n * factorial(n-1)\n",
    "        print(\"fin de la función\", n, \"->\", resultado)\n",
    "        return resultado\n",
    "\n",
    "print(\"Resultado final:\", factorial(5))\n"
   ]
  },
  {
   "cell_type": "code",
   "execution_count": null,
   "id": "6a783012-8a4e-46a1-8752-ef05450adb6f",
   "metadata": {},
   "outputs": [],
   "source": []
  }
 ],
 "metadata": {
  "kernelspec": {
   "display_name": "Python 3 (ipykernel)",
   "language": "python",
   "name": "python3"
  },
  "language_info": {
   "codemirror_mode": {
    "name": "ipython",
    "version": 3
   },
   "file_extension": ".py",
   "mimetype": "text/x-python",
   "name": "python",
   "nbconvert_exporter": "python",
   "pygments_lexer": "ipython3",
   "version": "3.13.7"
  }
 },
 "nbformat": 4,
 "nbformat_minor": 5
}
