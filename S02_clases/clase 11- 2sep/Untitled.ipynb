{
 "cells": [
  {
   "cell_type": "code",
   "execution_count": 1,
   "id": "9409c070-83e3-47a3-a687-360e16692306",
   "metadata": {},
   "outputs": [],
   "source": [
    "from modulo import saludo"
   ]
  },
  {
   "cell_type": "code",
   "execution_count": 3,
   "id": "3687d429-8a1e-4190-a46e-002c067c4c7a",
   "metadata": {},
   "outputs": [
    {
     "name": "stdout",
     "output_type": "stream",
     "text": [
      "Saludo\n"
     ]
    }
   ],
   "source": [
    "saludo()"
   ]
  },
  {
   "cell_type": "markdown",
   "id": "b871e436-c3ea-4d82-aa9e-d6b67a92c695",
   "metadata": {},
   "source": [
    "# Paquete numpy\n",
    "\n",
    "Es un paquete enfocado en manipular información en estructuras conocidas como vectores, arreglo y matrices\n",
    "\n",
    "La contribución más significativa del paquete numpy es la introducción de un tipo de dato llamado array"
   ]
  },
  {
   "cell_type": "code",
   "execution_count": 13,
   "id": "08f70632-5765-423f-a49f-f11430c2c467",
   "metadata": {},
   "outputs": [],
   "source": [
    "import numpy"
   ]
  },
  {
   "cell_type": "code",
   "execution_count": 15,
   "id": "006a8e3d-b32c-41ce-bf0e-cf177b954c9f",
   "metadata": {},
   "outputs": [],
   "source": [
    "import numpy as np"
   ]
  },
  {
   "cell_type": "code",
   "execution_count": 16,
   "id": "beff4ae7-7765-4cd1-abf0-20d0a1136e49",
   "metadata": {},
   "outputs": [
    {
     "data": {
      "text/plain": [
       "numpy.ndarray"
      ]
     },
     "execution_count": 16,
     "metadata": {},
     "output_type": "execute_result"
    }
   ],
   "source": [
    "lista = [3, 4, 5]\n",
    "\n",
    "variable = np.array(lista)\n",
    "type(variable)"
   ]
  },
  {
   "cell_type": "code",
   "execution_count": 18,
   "id": "8099391d-5787-4e08-8799-6e5e57656a12",
   "metadata": {},
   "outputs": [
    {
     "data": {
      "text/plain": [
       "1"
      ]
     },
     "execution_count": 18,
     "metadata": {},
     "output_type": "execute_result"
    }
   ],
   "source": [
    "variable.ndim"
   ]
  },
  {
   "cell_type": "code",
   "execution_count": 22,
   "id": "0f061b22-696a-48dd-ab82-4cfcb989009d",
   "metadata": {},
   "outputs": [
    {
     "data": {
      "text/plain": [
       "(numpy.ndarray, 2, (3,))"
      ]
     },
     "execution_count": 22,
     "metadata": {},
     "output_type": "execute_result"
    }
   ],
   "source": [
    "#Matriz (son arreglos) - tipo de dato adentro de un py\n",
    "\n",
    "variable2d = np.array([\n",
    "    [4, 5 , 6],  #primera dimension\n",
    "    [7, 8 ,9]    #segunda dimensión [listas de listas]\n",
    "])\n",
    "type(variable2d), variable2d.ndim, variable.shape  #Dimension numerica"
   ]
  },
  {
   "cell_type": "code",
   "execution_count": 21,
   "id": "6a347063-6700-4f2a-a25d-e03e7a5e6ea7",
   "metadata": {},
   "outputs": [
    {
     "data": {
      "text/plain": [
       "(1, (3,))"
      ]
     },
     "execution_count": 21,
     "metadata": {},
     "output_type": "execute_result"
    }
   ],
   "source": [
    "variable.ndim, variable.shape"
   ]
  },
  {
   "cell_type": "markdown",
   "id": "3484fd14-777c-45dc-b057-cecb6c933412",
   "metadata": {},
   "source": [
    "### Funciones numpy\n"
   ]
  },
  {
   "cell_type": "code",
   "execution_count": 26,
   "id": "220a0b31-754f-4e77-b700-91e18e6a0f87",
   "metadata": {},
   "outputs": [
    {
     "data": {
      "text/plain": [
       "(array([0., 0., 0., 0., 0., 0.]),\n",
       " array([[0., 0., 0., 0.],\n",
       "        [0., 0., 0., 0.],\n",
       "        [0., 0., 0., 0.]]))"
      ]
     },
     "execution_count": 26,
     "metadata": {},
     "output_type": "execute_result"
    }
   ],
   "source": [
    "np.zeros(6), np.zeros((3,4))"
   ]
  },
  {
   "cell_type": "code",
   "execution_count": 27,
   "id": "9fe5f75c-b7ee-4bf0-b5b3-9d44c4533f9b",
   "metadata": {},
   "outputs": [
    {
     "data": {
      "text/plain": [
       "array([1., 1., 1., 1.])"
      ]
     },
     "execution_count": 27,
     "metadata": {},
     "output_type": "execute_result"
    }
   ],
   "source": [
    "np.ones(4)"
   ]
  },
  {
   "cell_type": "code",
   "execution_count": 29,
   "id": "eafa09e5-ffed-40d1-a907-46b92990706b",
   "metadata": {},
   "outputs": [
    {
     "data": {
      "text/plain": [
       "array([2., 2., 2., 2., 2., 2., 2., 2., 2.])"
      ]
     },
     "execution_count": 29,
     "metadata": {},
     "output_type": "execute_result"
    }
   ],
   "source": [
    "2* np.ones(9)"
   ]
  },
  {
   "cell_type": "code",
   "execution_count": 30,
   "id": "deee94e7-f03c-4df5-9d78-660de0dbc303",
   "metadata": {},
   "outputs": [
    {
     "data": {
      "text/plain": [
       "array([[1., 0., 0.],\n",
       "       [0., 1., 0.],\n",
       "       [0., 0., 1.]])"
      ]
     },
     "execution_count": 30,
     "metadata": {},
     "output_type": "execute_result"
    }
   ],
   "source": [
    "np.eye(3)"
   ]
  },
  {
   "cell_type": "code",
   "execution_count": 31,
   "id": "2123aff8-2e59-4c45-bd85-3e6f9e1942be",
   "metadata": {},
   "outputs": [
    {
     "data": {
      "text/plain": [
       "array([0., 0., 0., 0., 0., 0.])"
      ]
     },
     "execution_count": 31,
     "metadata": {},
     "output_type": "execute_result"
    }
   ],
   "source": [
    "5* np.zeros(6)"
   ]
  },
  {
   "cell_type": "code",
   "execution_count": 32,
   "id": "187e2412-c3d8-48ee-9f79-9cca28b7f79f",
   "metadata": {},
   "outputs": [
    {
     "data": {
      "text/plain": [
       "array([[1., 0., 0., 0., 0.],\n",
       "       [0., 1., 0., 0., 0.],\n",
       "       [0., 0., 1., 0., 0.],\n",
       "       [0., 0., 0., 1., 0.],\n",
       "       [0., 0., 0., 0., 1.]])"
      ]
     },
     "execution_count": 32,
     "metadata": {},
     "output_type": "execute_result"
    }
   ],
   "source": [
    "np.eye(5)"
   ]
  },
  {
   "cell_type": "code",
   "execution_count": 49,
   "id": "9af00006-ed35-413b-9ffd-e781d855a6db",
   "metadata": {},
   "outputs": [
    {
     "data": {
      "text/plain": [
       "array([[  8., -10., -10., -10.],\n",
       "       [-10.,   8., -10., -10.],\n",
       "       [-10., -10.,   8., -10.],\n",
       "       [-10., -10., -10.,   8.]])"
      ]
     },
     "execution_count": 49,
     "metadata": {},
     "output_type": "execute_result"
    }
   ],
   "source": [
    "# Ejercicio: Crear un arreglo de 4x4 cuyos elementos en la diagonal sea igual a 8, pero fuera de la diagonal sea igual a -10\n",
    "\n",
    "valor = -10*np.ones([4,4]) + 18*np.eye(4)\n",
    "valor\n"
   ]
  },
  {
   "cell_type": "code",
   "execution_count": 50,
   "id": "26581480-cd3a-4b10-a283-1fee405b432d",
   "metadata": {},
   "outputs": [
    {
     "data": {
      "text/plain": [
       "array([[ 4., -5., -5., -5.],\n",
       "       [-5.,  4., -5., -5.],\n",
       "       [-5., -5.,  4., -5.],\n",
       "       [-5., -5., -5.,  4.]])"
      ]
     },
     "execution_count": 50,
     "metadata": {},
     "output_type": "execute_result"
    }
   ],
   "source": [
    "valor/2"
   ]
  },
  {
   "cell_type": "code",
   "execution_count": 51,
   "id": "f3fff0a1-e758-4b26-b4a9-c6e1960c5001",
   "metadata": {},
   "outputs": [
    {
     "data": {
      "text/plain": [
       "array([[ 64., 100., 100., 100.],\n",
       "       [100.,  64., 100., 100.],\n",
       "       [100., 100.,  64., 100.],\n",
       "       [100., 100., 100.,  64.]])"
      ]
     },
     "execution_count": 51,
     "metadata": {},
     "output_type": "execute_result"
    }
   ],
   "source": [
    "valor**2"
   ]
  },
  {
   "cell_type": "code",
   "execution_count": 56,
   "id": "6d25aa9b-a8f3-4965-aed1-c59c3ff817a3",
   "metadata": {},
   "outputs": [
    {
     "data": {
      "text/plain": [
       "array([[ 0.125, -0.1  , -0.1  , -0.1  ],\n",
       "       [-0.1  ,  0.125, -0.1  , -0.1  ],\n",
       "       [-0.1  , -0.1  ,  0.125, -0.1  ],\n",
       "       [-0.1  , -0.1  , -0.1  ,  0.125]])"
      ]
     },
     "execution_count": 56,
     "metadata": {},
     "output_type": "execute_result"
    }
   ],
   "source": [
    "1/valor"
   ]
  },
  {
   "cell_type": "code",
   "execution_count": 57,
   "id": "d6858ec4-d012-4703-8af6-aca7f7b19385",
   "metadata": {},
   "outputs": [
    {
     "name": "stderr",
     "output_type": "stream",
     "text": [
      "C:\\Users\\V304_29\\AppData\\Local\\Temp\\ipykernel_6716\\1006119973.py:1: RuntimeWarning: invalid value encountered in sqrt\n",
      "  valor**0.5\n"
     ]
    },
    {
     "data": {
      "text/plain": [
       "array([[2.82842712,        nan,        nan,        nan],\n",
       "       [       nan, 2.82842712,        nan,        nan],\n",
       "       [       nan,        nan, 2.82842712,        nan],\n",
       "       [       nan,        nan,        nan, 2.82842712]])"
      ]
     },
     "execution_count": 57,
     "metadata": {},
     "output_type": "execute_result"
    }
   ],
   "source": [
    "valor**0.5"
   ]
  },
  {
   "cell_type": "code",
   "execution_count": null,
   "id": "ff78ea1e-6908-413e-a248-dc455c9e43d2",
   "metadata": {},
   "outputs": [],
   "source": []
  }
 ],
 "metadata": {
  "kernelspec": {
   "display_name": "Python 3 (ipykernel)",
   "language": "python",
   "name": "python3"
  },
  "language_info": {
   "codemirror_mode": {
    "name": "ipython",
    "version": 3
   },
   "file_extension": ".py",
   "mimetype": "text/x-python",
   "name": "python",
   "nbconvert_exporter": "python",
   "pygments_lexer": "ipython3",
   "version": "3.11.1"
  }
 },
 "nbformat": 4,
 "nbformat_minor": 5
}
