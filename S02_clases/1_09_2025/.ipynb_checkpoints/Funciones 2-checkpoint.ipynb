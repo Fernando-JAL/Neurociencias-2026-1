{
 "cells": [
  {
   "cell_type": "markdown",
   "id": "d85e130b-b59f-4917-ae08-aa2d18e90334",
   "metadata": {},
   "source": [
    "### FUNCIONES"
   ]
  },
  {
   "cell_type": "code",
   "execution_count": 7,
   "id": "ed73f957-7c18-43aa-8940-c9e218f69b20",
   "metadata": {},
   "outputs": [
    {
     "data": {
      "text/plain": [
       "5.0"
      ]
     },
     "execution_count": 7,
     "metadata": {},
     "output_type": "execute_result"
    }
   ],
   "source": [
    "def division_n(dividendo, divisor):\n",
    "    return dividendo / divisor\n",
    " # Llamada de funcióm por posición\n",
    "division_n(10,2)"
   ]
  },
  {
   "cell_type": "code",
   "execution_count": 9,
   "id": "f58ddd6e-5ffd-45ec-9a32-d317a4ac54db",
   "metadata": {},
   "outputs": [
    {
     "data": {
      "text/plain": [
       "2.0"
      ]
     },
     "execution_count": 9,
     "metadata": {},
     "output_type": "execute_result"
    }
   ],
   "source": [
    "# Llamada de función por nombre\n",
    "division_n(divisor=4, dividendo=8)"
   ]
  },
  {
   "cell_type": "code",
   "execution_count": 10,
   "id": "34275bc1-24ba-4b37-9d3a-c101a672c76d",
   "metadata": {},
   "outputs": [
    {
     "data": {
      "text/plain": [
       "0.5"
      ]
     },
     "execution_count": 10,
     "metadata": {},
     "output_type": "execute_result"
    }
   ],
   "source": [
    "division_n(divisor=8, dividendo=4)"
   ]
  },
  {
   "cell_type": "code",
   "execution_count": 16,
   "id": "4bd83f87-1968-4059-86ab-edf514635c6b",
   "metadata": {},
   "outputs": [
    {
     "data": {
      "text/plain": [
       "12.0"
      ]
     },
     "execution_count": 16,
     "metadata": {},
     "output_type": "execute_result"
    }
   ],
   "source": [
    "def division_n(dividendo, divisor, extra = 0):\n",
    "    return dividendo / divisor + extra\n",
    " # Llamada de funcióm por posición\n",
    "division_n(8, 4, 10)"
   ]
  },
  {
   "cell_type": "markdown",
   "id": "7ca7cb3b-01d2-4e27-ab12-4cca33744693",
   "metadata": {},
   "source": [
    "### Funciones recursivas"
   ]
  },
  {
   "cell_type": "code",
   "execution_count": 21,
   "id": "5101db6e-301b-498f-aba8-2988692e9e0e",
   "metadata": {},
   "outputs": [
    {
     "name": "stdout",
     "output_type": "stream",
     "text": [
      "3\n",
      "2\n",
      "1\n",
      "booommm!!!\n",
      "fin de la función 0\n",
      "fin de la función 1\n",
      "fin de la función 2\n",
      "fin de la función 3\n"
     ]
    }
   ],
   "source": [
    "def cuenta_atras(n):\n",
    "    if n>0:\n",
    "        print(n)\n",
    "        cuenta_atras(n-1)\n",
    "    else:\n",
    "        print(\"booommm!!!\")\n",
    "    print(\"fin de la función\",n)\n",
    "\n",
    "cuenta_atras(3)"
   ]
  },
  {
   "cell_type": "markdown",
   "id": "a549c782-8c6e-4b9d-9d2d-43ac5d32e583",
   "metadata": {},
   "source": [
    "### Función print"
   ]
  },
  {
   "cell_type": "code",
   "execution_count": 29,
   "id": "81006e25-bc24-4ab5-955f-8fdfde551725",
   "metadata": {},
   "outputs": [
    {
     "name": "stdout",
     "output_type": "stream",
     "text": [
      "el valor de la variable es 46.2 8\n"
     ]
    }
   ],
   "source": [
    "variable, variable2 = 46.2, 8\n",
    "print(\"el valor de la variable es\", variable, variable2)"
   ]
  },
  {
   "cell_type": "code",
   "execution_count": 31,
   "id": "e64758fc-6bdc-48cb-ab12-6ea1601c1a2a",
   "metadata": {},
   "outputs": [
    {
     "name": "stdout",
     "output_type": "stream",
     "text": [
      "el valor de la variable es 46.2, 8\n"
     ]
    }
   ],
   "source": [
    "print(f\"el valor de la variable es {variable}, {variable2}\")"
   ]
  },
  {
   "cell_type": "code",
   "execution_count": 32,
   "id": "0c726551-38b4-4ed4-a862-8d26d692f8fc",
   "metadata": {},
   "outputs": [
    {
     "name": "stdout",
     "output_type": "stream",
     "text": [
      "el valor de la variable es 46.2, 8\n"
     ]
    }
   ],
   "source": [
    "print(\"el valor de la variable es {}, {}\".format(variable, variable2))"
   ]
  },
  {
   "cell_type": "code",
   "execution_count": 33,
   "id": "047a1bd7-2c42-469a-b5f0-08aded29f2f1",
   "metadata": {},
   "outputs": [
    {
     "name": "stdout",
     "output_type": "stream",
     "text": [
      "el valor de la variable es 8, 46.2\n"
     ]
    }
   ],
   "source": [
    "print(\"el valor de la variable es {1}, {0}\".format(variable, variable2))"
   ]
  },
  {
   "cell_type": "code",
   "execution_count": 36,
   "id": "4f45c0e1-7292-4818-807c-c7a66b33b65d",
   "metadata": {},
   "outputs": [],
   "source": [
    "import numpy"
   ]
  },
  {
   "cell_type": "code",
   "execution_count": 35,
   "id": "f117e974-b100-4262-9b77-12276a0b840a",
   "metadata": {},
   "outputs": [
    {
     "name": "stdout",
     "output_type": "stream",
     "text": [
      "Collecting numpy\n",
      "  Downloading numpy-2.3.2-cp311-cp311-win_amd64.whl (13.1 MB)\n",
      "     --------------------------------------- 13.1/13.1 MB 25.2 MB/s eta 0:00:00\n",
      "Collecting pandas\n",
      "  Downloading pandas-2.3.2-cp311-cp311-win_amd64.whl (11.3 MB)\n",
      "     --------------------------------------- 11.3/11.3 MB 32.8 MB/s eta 0:00:00\n",
      "Collecting matplotlib\n",
      "  Downloading matplotlib-3.10.6-cp311-cp311-win_amd64.whl (8.1 MB)\n",
      "     ---------------------------------------- 8.1/8.1 MB 30.5 MB/s eta 0:00:00\n",
      "Requirement already satisfied: python-dateutil>=2.8.2 in c:\\users\\v304-18\\appdata\\local\\programs\\python\\python311\\lib\\site-packages (from pandas) (2.9.0.post0)\n",
      "Collecting pytz>=2020.1\n",
      "  Downloading pytz-2025.2-py2.py3-none-any.whl (509 kB)\n",
      "     -------------------------------------- 509.2/509.2 kB 8.0 MB/s eta 0:00:00\n",
      "Collecting tzdata>=2022.7\n",
      "  Downloading tzdata-2025.2-py2.py3-none-any.whl (347 kB)\n",
      "     ------------------------------------- 347.8/347.8 kB 21.1 MB/s eta 0:00:00\n",
      "Collecting contourpy>=1.0.1\n",
      "  Downloading contourpy-1.3.3-cp311-cp311-win_amd64.whl (225 kB)\n",
      "     ---------------------------------------- 225.2/225.2 kB ? eta 0:00:00\n",
      "Collecting cycler>=0.10\n",
      "  Downloading cycler-0.12.1-py3-none-any.whl (8.3 kB)\n",
      "Collecting fonttools>=4.22.0\n",
      "  Downloading fonttools-4.59.2-cp311-cp311-win_amd64.whl (2.3 MB)\n",
      "     ---------------------------------------- 2.3/2.3 MB 28.9 MB/s eta 0:00:00\n",
      "Collecting kiwisolver>=1.3.1\n",
      "  Downloading kiwisolver-1.4.9-cp311-cp311-win_amd64.whl (73 kB)\n",
      "     ---------------------------------------- 73.8/73.8 kB ? eta 0:00:00\n",
      "Requirement already satisfied: packaging>=20.0 in c:\\users\\v304-18\\appdata\\local\\programs\\python\\python311\\lib\\site-packages (from matplotlib) (25.0)\n",
      "Collecting pillow>=8\n",
      "  Downloading pillow-11.3.0-cp311-cp311-win_amd64.whl (7.0 MB)\n",
      "     ---------------------------------------- 7.0/7.0 MB 37.3 MB/s eta 0:00:00\n",
      "Collecting pyparsing>=2.3.1\n",
      "  Downloading pyparsing-3.2.3-py3-none-any.whl (111 kB)\n",
      "     -------------------------------------- 111.1/111.1 kB 6.3 MB/s eta 0:00:00\n",
      "Requirement already satisfied: six>=1.5 in c:\\users\\v304-18\\appdata\\local\\programs\\python\\python311\\lib\\site-packages (from python-dateutil>=2.8.2->pandas) (1.17.0)\n",
      "Installing collected packages: pytz, tzdata, pyparsing, pillow, numpy, kiwisolver, fonttools, cycler, pandas, contourpy, matplotlib\n",
      "Successfully installed contourpy-1.3.3 cycler-0.12.1 fonttools-4.59.2 kiwisolver-1.4.9 matplotlib-3.10.6 numpy-2.3.2 pandas-2.3.2 pillow-11.3.0 pyparsing-3.2.3 pytz-2025.2 tzdata-2025.2\n"
     ]
    },
    {
     "name": "stderr",
     "output_type": "stream",
     "text": [
      "\n",
      "[notice] A new release of pip available: 22.3.1 -> 25.2\n",
      "[notice] To update, run: python.exe -m pip install --upgrade pip\n"
     ]
    }
   ],
   "source": [
    "!pip install numpy pandas matplotlib"
   ]
  }
 ],
 "metadata": {
  "kernelspec": {
   "display_name": "Python 3 (ipykernel)",
   "language": "python",
   "name": "python3"
  },
  "language_info": {
   "codemirror_mode": {
    "name": "ipython",
    "version": 3
   },
   "file_extension": ".py",
   "mimetype": "text/x-python",
   "name": "python",
   "nbconvert_exporter": "python",
   "pygments_lexer": "ipython3",
   "version": "3.11.1"
  }
 },
 "nbformat": 4,
 "nbformat_minor": 5
}
