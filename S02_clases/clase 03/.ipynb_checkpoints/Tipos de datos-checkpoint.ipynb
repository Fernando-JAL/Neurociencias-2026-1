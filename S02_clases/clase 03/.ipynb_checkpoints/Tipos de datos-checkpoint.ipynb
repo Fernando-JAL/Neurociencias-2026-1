{
 "cells": [
  {
   "cell_type": "code",
   "execution_count": null,
   "id": "afe9131f-ea4f-4d99-b8cd-70f97cb65a91",
   "metadata": {},
   "outputs": [],
   "source": [
    "Tipos de datos \n",
    "- numerico\n",
    "- sting\n",
    "- sequence\n",
    "- dict "
   ]
  },
  {
   "cell_type": "code",
   "execution_count": null,
   "id": "a4909b57-4a78-415a-9d90-86b377df1923",
   "metadata": {},
   "outputs": [],
   "source": [
    "a = 1\n",
    "a"
   ]
  },
  {
   "cell_type": "code",
   "execution_count": null,
   "id": "9c012fc5-6e7a-401f-87db-dcf7f5572f43",
   "metadata": {},
   "outputs": [],
   "source": [
    "b= -123456789\n",
    "b"
   ]
  },
  {
   "cell_type": "code",
   "execution_count": null,
   "id": "e488bd9c-00df-4db2-b337-b6d3d317856b",
   "metadata": {},
   "outputs": [],
   "source": [
    "type(a), type(b)"
   ]
  },
  {
   "cell_type": "code",
   "execution_count": null,
   "id": "2875a330-ae77-4c57-89da-366ccac39f51",
   "metadata": {},
   "outputs": [],
   "source": [
    "(int, int)"
   ]
  },
  {
   "cell_type": "code",
   "execution_count": 4,
   "id": "def0832a-d685-4cbf-89cb-bd804df428a7",
   "metadata": {},
   "outputs": [
    {
     "ename": "TypeError",
     "evalue": "type() takes 1 or 3 arguments",
     "output_type": "error",
     "traceback": [
      "\u001b[31m---------------------------------------------------------------------------\u001b[39m",
      "\u001b[31mTypeError\u001b[39m                                 Traceback (most recent call last)",
      "\u001b[36mCell\u001b[39m\u001b[36m \u001b[39m\u001b[32mIn[4]\u001b[39m\u001b[32m, line 1\u001b[39m\n\u001b[32m----> \u001b[39m\u001b[32m1\u001b[39m \u001b[38;5;28;43mtype\u001b[39;49m\u001b[43m(\u001b[49m\u001b[32;43m1\u001b[39;49m\u001b[43m,\u001b[49m\u001b[32;43m2\u001b[39;49m\u001b[43m)\u001b[49m\n",
      "\u001b[31mTypeError\u001b[39m: type() takes 1 or 3 arguments"
     ]
    }
   ],
   "source": [
    "type(1,2)"
   ]
  },
  {
   "cell_type": "code",
   "execution_count": null,
   "id": "36152c96-5ee9-4f43-b367-97d9aa53ac1b",
   "metadata": {},
   "outputs": [],
   "source": [
    "float"
   ]
  },
  {
   "cell_type": "markdown",
   "id": "b9ad370d-5697-460c-a673-aff4fd067b7b",
   "metadata": {},
   "source": [
    "## Definición de complejos \n"
   ]
  },
  {
   "cell_type": "code",
   "execution_count": 5,
   "id": "c9131155-f547-42ae-aec7-eac88ff2457f",
   "metadata": {},
   "outputs": [
    {
     "data": {
      "text/plain": [
       "(1+3j)"
      ]
     },
     "execution_count": 5,
     "metadata": {},
     "output_type": "execute_result"
    }
   ],
   "source": [
    "complex(1, 3)"
   ]
  },
  {
   "cell_type": "code",
   "execution_count": 6,
   "id": "afd3bc1f-e29b-46c1-8f3a-b46e50ae0c8c",
   "metadata": {},
   "outputs": [
    {
     "data": {
      "text/plain": [
       "(4+7j)"
      ]
     },
     "execution_count": 6,
     "metadata": {},
     "output_type": "execute_result"
    }
   ],
   "source": [
    "complex(4,7)"
   ]
  },
  {
   "cell_type": "code",
   "execution_count": 7,
   "id": "03cc4f8b-74aa-45e6-b197-0e218cc1c45e",
   "metadata": {},
   "outputs": [
    {
     "data": {
      "text/plain": [
       "(1+0j)"
      ]
     },
     "execution_count": 7,
     "metadata": {},
     "output_type": "execute_result"
    }
   ],
   "source": [
    "complex(1)"
   ]
  },
  {
   "cell_type": "code",
   "execution_count": 9,
   "id": "1012f46a-baaf-411b-8a90-11773962fe0a",
   "metadata": {},
   "outputs": [
    {
     "data": {
      "text/plain": [
       "1j"
      ]
     },
     "execution_count": 9,
     "metadata": {},
     "output_type": "execute_result"
    }
   ],
   "source": [
    "complex(0,1)"
   ]
  },
  {
   "cell_type": "code",
   "execution_count": 13,
   "id": "21cd5432-03e9-433f-84c7-caf4681ffb3b",
   "metadata": {},
   "outputs": [
    {
     "data": {
      "text/plain": [
       "(3+1j)"
      ]
     },
     "execution_count": 13,
     "metadata": {},
     "output_type": "execute_result"
    }
   ],
   "source": [
    "c= complex(3,1)\n",
    "c"
   ]
  },
  {
   "cell_type": "code",
   "execution_count": 11,
   "id": "e76522ce-2b65-4e64-a815-447ed6d2d5ca",
   "metadata": {},
   "outputs": [
    {
     "data": {
      "text/plain": [
       "(3+1j)"
      ]
     },
     "execution_count": 11,
     "metadata": {},
     "output_type": "execute_result"
    }
   ],
   "source": [
    "complex (0,1) +3 "
   ]
  },
  {
   "cell_type": "markdown",
   "id": "7bccef2c-5f9e-4ab0-8825-c6aa086f333f",
   "metadata": {},
   "source": [
    "# Quiero sumar 2j al valor de c\n",
    "c + complex (0,2)"
   ]
  },
  {
   "cell_type": "code",
   "execution_count": 14,
   "id": "534b8300-f9f3-4d08-89f6-f442703f9943",
   "metadata": {},
   "outputs": [
    {
     "data": {
      "text/plain": [
       "(3+3j)"
      ]
     },
     "execution_count": 14,
     "metadata": {},
     "output_type": "execute_result"
    }
   ],
   "source": [
    "c + complex (0,2)"
   ]
  },
  {
   "cell_type": "markdown",
   "id": "0b144e03-f43c-4cdd-a61c-4d3839dee661",
   "metadata": {},
   "source": [
    "# Operaciones de datos numéricos\n"
   ]
  },
  {
   "cell_type": "code",
   "execution_count": 17,
   "id": "776bd713-14fd-49fa-987d-c4f9f1123552",
   "metadata": {},
   "outputs": [
    {
     "data": {
      "text/plain": [
       "100"
      ]
     },
     "execution_count": 17,
     "metadata": {},
     "output_type": "execute_result"
    }
   ],
   "source": [
    "56 + 44"
   ]
  },
  {
   "cell_type": "code",
   "execution_count": 18,
   "id": "7688be2b-e41a-479e-a730-62f44e4e84a8",
   "metadata": {},
   "outputs": [
    {
     "data": {
      "text/plain": [
       "720"
      ]
     },
     "execution_count": 18,
     "metadata": {},
     "output_type": "execute_result"
    }
   ],
   "source": [
    "800-80"
   ]
  },
  {
   "cell_type": "code",
   "execution_count": 20,
   "id": "b20ffde9-c75e-40ba-aea6-44b42a00c753",
   "metadata": {},
   "outputs": [
    {
     "data": {
      "text/plain": [
       "783"
      ]
     },
     "execution_count": 20,
     "metadata": {},
     "output_type": "execute_result"
    }
   ],
   "source": [
    "87*9"
   ]
  },
  {
   "cell_type": "code",
   "execution_count": 21,
   "id": "524e8e0b-458e-4d39-b2d6-9ee32bdb062a",
   "metadata": {},
   "outputs": [
    {
     "data": {
      "text/plain": [
       "1.8521739130434782"
      ]
     },
     "execution_count": 21,
     "metadata": {},
     "output_type": "execute_result"
    }
   ],
   "source": [
    "85.2/46"
   ]
  },
  {
   "cell_type": "code",
   "execution_count": 22,
   "id": "121fd349-32ea-4da2-aa0c-fa703507c388",
   "metadata": {},
   "outputs": [
    {
     "data": {
      "text/plain": [
       "9"
      ]
     },
     "execution_count": 22,
     "metadata": {},
     "output_type": "execute_result"
    }
   ],
   "source": [
    "# para sacar potencia \n",
    "3**2"
   ]
  },
  {
   "cell_type": "code",
   "execution_count": 23,
   "id": "3cc65eec-76c4-4e84-808f-4040b6c8d398",
   "metadata": {},
   "outputs": [
    {
     "data": {
      "text/plain": [
       "125"
      ]
     },
     "execution_count": 23,
     "metadata": {},
     "output_type": "execute_result"
    }
   ],
   "source": [
    "5**3"
   ]
  },
  {
   "cell_type": "code",
   "execution_count": 24,
   "id": "958e7aca-95b8-4103-bb2b-7eefd0bbcf41",
   "metadata": {},
   "outputs": [
    {
     "data": {
      "text/plain": [
       "2.23606797749979"
      ]
     },
     "execution_count": 24,
     "metadata": {},
     "output_type": "execute_result"
    }
   ],
   "source": [
    "# para sacar raiz\n",
    "5**0.5"
   ]
  },
  {
   "cell_type": "code",
   "execution_count": 25,
   "id": "5dd06d9d-ad40-467a-954b-dbbdef2b892f",
   "metadata": {},
   "outputs": [
    {
     "data": {
      "text/plain": [
       "3.0"
      ]
     },
     "execution_count": 25,
     "metadata": {},
     "output_type": "execute_result"
    }
   ],
   "source": [
    "9**0.5"
   ]
  },
  {
   "cell_type": "code",
   "execution_count": 26,
   "id": "fa9a3da7-497d-4f45-bad5-7b1dd2da3300",
   "metadata": {},
   "outputs": [
    {
     "data": {
      "text/plain": [
       "0"
      ]
     },
     "execution_count": 26,
     "metadata": {},
     "output_type": "execute_result"
    }
   ],
   "source": [
    "# para calcular el residuo de la división\n",
    "\n",
    "16% 4"
   ]
  },
  {
   "cell_type": "code",
   "execution_count": 27,
   "id": "323b5136-a430-4a44-84fe-976ea2ec3964",
   "metadata": {},
   "outputs": [
    {
     "data": {
      "text/plain": [
       "4"
      ]
     },
     "execution_count": 27,
     "metadata": {},
     "output_type": "execute_result"
    }
   ],
   "source": [
    "# para calcular el cociente\n",
    "\n",
    "16 // 4"
   ]
  },
  {
   "cell_type": "code",
   "execution_count": 28,
   "id": "0b3726f2-c2d7-41c1-b73f-ad84d983a2f8",
   "metadata": {},
   "outputs": [],
   "source": [
    "a = 8\n",
    "b = 3\n",
    "c = 42"
   ]
  },
  {
   "cell_type": "code",
   "execution_count": 29,
   "id": "f77da1fa-90b5-455f-af53-ffc601a1981c",
   "metadata": {},
   "outputs": [
    {
     "data": {
      "text/plain": [
       "8"
      ]
     },
     "execution_count": 29,
     "metadata": {},
     "output_type": "execute_result"
    }
   ],
   "source": [
    "a"
   ]
  },
  {
   "cell_type": "code",
   "execution_count": 30,
   "id": "94878562-8ff5-4497-9f07-c5cd33599c33",
   "metadata": {},
   "outputs": [
    {
     "data": {
      "text/plain": [
       "(8, 3, 42)"
      ]
     },
     "execution_count": 30,
     "metadata": {},
     "output_type": "execute_result"
    }
   ],
   "source": [
    "a, b, c"
   ]
  },
  {
   "cell_type": "code",
   "execution_count": 32,
   "id": "512febc9-42fd-4a2f-bd4f-7b0278c6bb10",
   "metadata": {},
   "outputs": [
    {
     "data": {
      "text/plain": [
       "(8, 3, 42)"
      ]
     },
     "execution_count": 32,
     "metadata": {},
     "output_type": "execute_result"
    }
   ],
   "source": [
    "a, b, c = 8, 3, 42\n",
    "a,b,c"
   ]
  },
  {
   "cell_type": "code",
   "execution_count": 35,
   "id": "870286b5-2b24-482c-9913-ba905f7d9bbe",
   "metadata": {},
   "outputs": [
    {
     "ename": "ZeroDivisionError",
     "evalue": "division by zero",
     "output_type": "error",
     "traceback": [
      "\u001b[31m---------------------------------------------------------------------------\u001b[39m",
      "\u001b[31mZeroDivisionError\u001b[39m                         Traceback (most recent call last)",
      "\u001b[36mCell\u001b[39m\u001b[36m \u001b[39m\u001b[32mIn[35]\u001b[39m\u001b[32m, line 1\u001b[39m\n\u001b[32m----> \u001b[39m\u001b[32m1\u001b[39m c/a + a*b-\u001b[43ma\u001b[49m\u001b[43m*\u001b[49m\u001b[43m*\u001b[49m\u001b[43mb\u001b[49m\u001b[43m/\u001b[49m\u001b[43m(\u001b[49m\u001b[32;43m42\u001b[39;49m\u001b[43m%\u001b[49m\u001b[32;43m3\u001b[39;49m\u001b[43m)\u001b[49m\n",
      "\u001b[31mZeroDivisionError\u001b[39m: division by zero"
     ]
    }
   ],
   "source": [
    "c/a + a*b-a**b/(42%3)"
   ]
  },
  {
   "cell_type": "code",
   "execution_count": 36,
   "id": "02b76c9e-200c-4089-b4fb-a45ec1edab26",
   "metadata": {},
   "outputs": [
    {
     "ename": "ZeroDivisionError",
     "evalue": "division by zero",
     "output_type": "error",
     "traceback": [
      "\u001b[31m---------------------------------------------------------------------------\u001b[39m",
      "\u001b[31mZeroDivisionError\u001b[39m                         Traceback (most recent call last)",
      "\u001b[36mCell\u001b[39m\u001b[36m \u001b[39m\u001b[32mIn[36]\u001b[39m\u001b[32m, line 1\u001b[39m\n\u001b[32m----> \u001b[39m\u001b[32m1\u001b[39m c/a + a*b - \u001b[43ma\u001b[49m\u001b[43m*\u001b[49m\u001b[43m*\u001b[49m\u001b[43mb\u001b[49m\u001b[43m/\u001b[49m\u001b[43m(\u001b[49m\u001b[43mc\u001b[49m\u001b[43m \u001b[49m\u001b[43m%\u001b[49m\u001b[43m \u001b[49m\u001b[43mb\u001b[49m\u001b[43m)\u001b[49m\n",
      "\u001b[31mZeroDivisionError\u001b[39m: division by zero"
     ]
    }
   ],
   "source": [
    "c/a + a*b - a**b/(c % b)"
   ]
  },
  {
   "cell_type": "markdown",
   "id": "7713236b-ca5c-47e9-b735-ae1b5686ffec",
   "metadata": {},
   "source": [
    "# strings"
   ]
  },
  {
   "cell_type": "code",
   "execution_count": 37,
   "id": "ca587872-e908-4151-a998-93a0fbf4d301",
   "metadata": {},
   "outputs": [
    {
     "data": {
      "text/plain": [
       "'esto es una cadena de texto'"
      ]
     },
     "execution_count": 37,
     "metadata": {},
     "output_type": "execute_result"
    }
   ],
   "source": [
    "\"esto es una cadena de texto\""
   ]
  },
  {
   "cell_type": "code",
   "execution_count": 38,
   "id": "1ec84cf3-0561-4300-8b36-ee2754d7b9da",
   "metadata": {},
   "outputs": [
    {
     "data": {
      "text/plain": [
       "'esto es una cadena de texto'"
      ]
     },
     "execution_count": 38,
     "metadata": {},
     "output_type": "execute_result"
    }
   ],
   "source": [
    "'esto es una cadena de texto'"
   ]
  },
  {
   "cell_type": "code",
   "execution_count": 39,
   "id": "7ed9b711-4f22-4448-a9ab-1dacb34fd251",
   "metadata": {},
   "outputs": [
    {
     "data": {
      "text/plain": [
       "('cadena de texto 1', 'cadena de texto 2')"
      ]
     },
     "execution_count": 39,
     "metadata": {},
     "output_type": "execute_result"
    }
   ],
   "source": [
    "a, b= 'cadena de texto 1', 'cadena de texto 2'\n",
    "a, b"
   ]
  },
  {
   "cell_type": "code",
   "execution_count": 40,
   "id": "75fbe0e9-bc4f-4f84-a41c-f1656ea00175",
   "metadata": {},
   "outputs": [
    {
     "name": "stdout",
     "output_type": "stream",
     "text": [
      "cadena de texto 1\n"
     ]
    }
   ],
   "source": [
    "print(a)"
   ]
  },
  {
   "cell_type": "code",
   "execution_count": 41,
   "id": "092eb2b1-8c68-485e-8a08-4b646e64963d",
   "metadata": {},
   "outputs": [
    {
     "name": "stdout",
     "output_type": "stream",
     "text": [
      "cadena de texto 2\n"
     ]
    }
   ],
   "source": [
    "print(b)"
   ]
  },
  {
   "cell_type": "code",
   "execution_count": 42,
   "id": "e1c88ebb-663d-494e-9a25-4f080b556be5",
   "metadata": {},
   "outputs": [
    {
     "name": "stdout",
     "output_type": "stream",
     "text": [
      "cadena de texto 1 cadena de texto 2\n"
     ]
    }
   ],
   "source": [
    "print(a,b)"
   ]
  },
  {
   "cell_type": "code",
   "execution_count": 43,
   "id": "014fbf0c-4022-46cc-bb89-4b72a5454ab4",
   "metadata": {},
   "outputs": [
    {
     "name": "stdout",
     "output_type": "stream",
     "text": [
      "cadena de texto 1 cadena de texto 2 otra cosa\n"
     ]
    }
   ],
   "source": [
    "print(a, b, 'otra cosa')"
   ]
  },
  {
   "cell_type": "code",
   "execution_count": 44,
   "id": "d4f5b1af-d55c-4ce6-b1f3-c0de3cc2d7dc",
   "metadata": {},
   "outputs": [
    {
     "name": "stdout",
     "output_type": "stream",
     "text": [
      "primera línea de texto\n",
      "segunda línea de texto\n",
      "tercera línea de texto\n"
     ]
    }
   ],
   "source": [
    "print(\"\"\"primera línea de texto\n",
    "segunda línea de texto\n",
    "tercera línea de texto\"\"\")"
   ]
  },
  {
   "cell_type": "code",
   "execution_count": 45,
   "id": "c9acd120-1d72-456f-a159-b6d86370971f",
   "metadata": {},
   "outputs": [
    {
     "data": {
      "text/plain": [
       "('cadena de texto 1', 'cadena de texto 2')"
      ]
     },
     "execution_count": 45,
     "metadata": {},
     "output_type": "execute_result"
    }
   ],
   "source": [
    "a,b"
   ]
  },
  {
   "cell_type": "code",
   "execution_count": 46,
   "id": "b7a6a374-e346-4bd6-a9e0-ff2fcb8f2cb6",
   "metadata": {},
   "outputs": [
    {
     "data": {
      "text/plain": [
       "'cadena de texto 1cadena de texto 2'"
      ]
     },
     "execution_count": 46,
     "metadata": {},
     "output_type": "execute_result"
    }
   ],
   "source": [
    "a + b"
   ]
  },
  {
   "cell_type": "code",
   "execution_count": 54,
   "id": "9cb9e21c-845d-4ee4-856e-1512fc57223a",
   "metadata": {},
   "outputs": [],
   "source": [
    "a, b = \"ah\", \"be\""
   ]
  },
  {
   "cell_type": "code",
   "execution_count": 49,
   "id": "b2e91630-8d64-48ea-a7e7-00f402a3f34f",
   "metadata": {},
   "outputs": [
    {
     "data": {
      "text/plain": [
       "'ahbe'"
      ]
     },
     "execution_count": 49,
     "metadata": {},
     "output_type": "execute_result"
    }
   ],
   "source": [
    "a + b"
   ]
  },
  {
   "cell_type": "code",
   "execution_count": 50,
   "id": "064e1430-d853-4cb1-9342-6e81ef160cf7",
   "metadata": {},
   "outputs": [],
   "source": [
    "a, b = \"ho\", \"la\""
   ]
  },
  {
   "cell_type": "code",
   "execution_count": 51,
   "id": "3c24130d-2696-4766-b1d4-173eaf468344",
   "metadata": {},
   "outputs": [
    {
     "data": {
      "text/plain": [
       "'hola'"
      ]
     },
     "execution_count": 51,
     "metadata": {},
     "output_type": "execute_result"
    }
   ],
   "source": [
    "a + b"
   ]
  },
  {
   "cell_type": "code",
   "execution_count": 52,
   "id": "dc71baa8-0294-482a-a98f-e6cb5893cacb",
   "metadata": {},
   "outputs": [],
   "source": [
    "a, b, c ,d= \"ho\", \"la\", \"Ni\", \"cole\""
   ]
  },
  {
   "cell_type": "code",
   "execution_count": 53,
   "id": "ec08c101-0c92-4f27-9fdf-3d243472fca1",
   "metadata": {},
   "outputs": [
    {
     "data": {
      "text/plain": [
       "'holaNicole'"
      ]
     },
     "execution_count": 53,
     "metadata": {},
     "output_type": "execute_result"
    }
   ],
   "source": [
    "a + b +c +d"
   ]
  },
  {
   "cell_type": "code",
   "execution_count": 55,
   "id": "23f7931c-bdd9-41bf-a718-7074b82dc705",
   "metadata": {},
   "outputs": [
    {
     "data": {
      "text/plain": [
       "'ahahahbebeah'"
      ]
     },
     "execution_count": 55,
     "metadata": {},
     "output_type": "execute_result"
    }
   ],
   "source": [
    "3* a + 2*b + a"
   ]
  },
  {
   "cell_type": "code",
   "execution_count": 56,
   "id": "3e7f7341-5b8c-4770-8b33-da174613ddd5",
   "metadata": {},
   "outputs": [
    {
     "data": {
      "text/plain": [
       "'ahahah'"
      ]
     },
     "execution_count": 56,
     "metadata": {},
     "output_type": "execute_result"
    }
   ],
   "source": [
    "3*a"
   ]
  },
  {
   "cell_type": "code",
   "execution_count": 57,
   "id": "d51cbec5-a755-4d31-8f43-ce86da8f5d24",
   "metadata": {},
   "outputs": [
    {
     "data": {
      "text/plain": [
       "'ahahah'"
      ]
     },
     "execution_count": 57,
     "metadata": {},
     "output_type": "execute_result"
    }
   ],
   "source": [
    "a * 3"
   ]
  },
  {
   "cell_type": "code",
   "execution_count": 58,
   "id": "6825bf1a-15da-4009-bca5-f9a23b03955d",
   "metadata": {},
   "outputs": [
    {
     "data": {
      "text/plain": [
       "('ahbe', 'beah')"
      ]
     },
     "execution_count": 58,
     "metadata": {},
     "output_type": "execute_result"
    }
   ],
   "source": [
    "a + b, b+ a"
   ]
  },
  {
   "cell_type": "markdown",
   "id": "dfbcadf8-c929-4694-a5b8-53171c6ee17e",
   "metadata": {},
   "source": [
    "# slicing= rebanando\n"
   ]
  },
  {
   "cell_type": "code",
   "execution_count": 59,
   "id": "1fc82917-31c4-484b-8c48-2f919397967d",
   "metadata": {},
   "outputs": [],
   "source": [
    "b= \"cadena\""
   ]
  },
  {
   "cell_type": "code",
   "execution_count": 60,
   "id": "ea01931c-06c3-44fd-8496-89251da3bc10",
   "metadata": {},
   "outputs": [
    {
     "data": {
      "text/plain": [
       "'d'"
      ]
     },
     "execution_count": 60,
     "metadata": {},
     "output_type": "execute_result"
    }
   ],
   "source": [
    "b[2]"
   ]
  },
  {
   "cell_type": "code",
   "execution_count": 61,
   "id": "438a1ce7-ac6a-4cc7-ab75-9afba1de5df5",
   "metadata": {},
   "outputs": [
    {
     "data": {
      "text/plain": [
       "'a'"
      ]
     },
     "execution_count": 61,
     "metadata": {},
     "output_type": "execute_result"
    }
   ],
   "source": [
    "b[5]"
   ]
  },
  {
   "cell_type": "code",
   "execution_count": 62,
   "id": "82f2850d-5612-4e27-998b-6492691e14e4",
   "metadata": {},
   "outputs": [
    {
     "data": {
      "text/plain": [
       "'n'"
      ]
     },
     "execution_count": 62,
     "metadata": {},
     "output_type": "execute_result"
    }
   ],
   "source": [
    "b[4]"
   ]
  },
  {
   "cell_type": "code",
   "execution_count": 88,
   "id": "075286c1-7358-4602-97ec-24c4fd5e5dc4",
   "metadata": {},
   "outputs": [],
   "source": [
    "a= 'hola jolines chayote verdes'"
   ]
  },
  {
   "cell_type": "code",
   "execution_count": 77,
   "id": "45827204-2de6-426a-9674-fcc7a2ef9bbf",
   "metadata": {},
   "outputs": [
    {
     "data": {
      "text/plain": [
       "'chayote '"
      ]
     },
     "execution_count": 77,
     "metadata": {},
     "output_type": "execute_result"
    }
   ],
   "source": [
    "# c tiene la posición 13\n",
    "# s tiene la posición 20\n",
    "pos_i = 13\n",
    "pos_f = 20 \n",
    "a[pos_i: pos_f+1]"
   ]
  },
  {
   "cell_type": "code",
   "execution_count": 79,
   "id": "efd88571-3381-4773-b98b-70c0eba49381",
   "metadata": {},
   "outputs": [
    {
     "data": {
      "text/plain": [
       "' oie hyt'"
      ]
     },
     "execution_count": 79,
     "metadata": {},
     "output_type": "execute_result"
    }
   ],
   "source": [
    "a[4: 20: 2]\n",
    "# el rango funciona como range (pos_i, pos_f, salto)"
   ]
  },
  {
   "cell_type": "code",
   "execution_count": 89,
   "id": "dbd9fe1a-b2cd-4bb6-a45c-e8bde207b910",
   "metadata": {},
   "outputs": [
    {
     "data": {
      "text/plain": [
       "(27, 'd', 's')"
      ]
     },
     "execution_count": 89,
     "metadata": {},
     "output_type": "execute_result"
    }
   ],
   "source": [
    "len(a), a[24], a[len(a)-1]"
   ]
  },
  {
   "cell_type": "code",
   "execution_count": 86,
   "id": "284473ba-785d-4115-b996-2dcac70c7f29",
   "metadata": {},
   "outputs": [
    {
     "data": {
      "text/plain": [
       "'s'"
      ]
     },
     "execution_count": 86,
     "metadata": {},
     "output_type": "execute_result"
    }
   ],
   "source": [
    "a[-1]"
   ]
  },
  {
   "cell_type": "code",
   "execution_count": 90,
   "id": "a2710d46-7e75-47fe-9667-c89cf489a895",
   "metadata": {},
   "outputs": [
    {
     "data": {
      "text/plain": [
       "'verde'"
      ]
     },
     "execution_count": 90,
     "metadata": {},
     "output_type": "execute_result"
    }
   ],
   "source": [
    "a[-6:-1]"
   ]
  },
  {
   "cell_type": "code",
   "execution_count": 91,
   "id": "c844d182-4431-4ec3-82e2-a1bfd7fdb921",
   "metadata": {},
   "outputs": [
    {
     "data": {
      "text/plain": [
       "'verdes'"
      ]
     },
     "execution_count": 91,
     "metadata": {},
     "output_type": "execute_result"
    }
   ],
   "source": [
    "a[-6:]"
   ]
  },
  {
   "cell_type": "code",
   "execution_count": 92,
   "id": "4435d602-177b-4ef6-94da-a82c0c78ed1f",
   "metadata": {},
   "outputs": [
    {
     "data": {
      "text/plain": [
       "'hola'"
      ]
     },
     "execution_count": 92,
     "metadata": {},
     "output_type": "execute_result"
    }
   ],
   "source": [
    "a[:4]"
   ]
  },
  {
   "cell_type": "code",
   "execution_count": 95,
   "id": "7e917bb2-ba89-46b2-8edf-6539af5fc3af",
   "metadata": {},
   "outputs": [
    {
     "data": {
      "text/plain": [
       "'chayote '"
      ]
     },
     "execution_count": 95,
     "metadata": {},
     "output_type": "execute_result"
    }
   ],
   "source": [
    "a[-14:-6]"
   ]
  },
  {
   "cell_type": "code",
   "execution_count": 96,
   "id": "37d3eb7a-168d-45d1-88dc-c40f5bdd1e56",
   "metadata": {},
   "outputs": [
    {
     "data": {
      "text/plain": [
       "'sde tyh eio lh'"
      ]
     },
     "execution_count": 96,
     "metadata": {},
     "output_type": "execute_result"
    }
   ],
   "source": [
    "a[::-2]"
   ]
  },
  {
   "cell_type": "code",
   "execution_count": null,
   "id": "80ae300c-8c3e-4078-8f8f-6562b693e39a",
   "metadata": {},
   "outputs": [],
   "source": []
  }
 ],
 "metadata": {
  "kernelspec": {
   "display_name": "Python 3 (ipykernel)",
   "language": "python",
   "name": "python3"
  },
  "language_info": {
   "codemirror_mode": {
    "name": "ipython",
    "version": 3
   },
   "file_extension": ".py",
   "mimetype": "text/x-python",
   "name": "python",
   "nbconvert_exporter": "python",
   "pygments_lexer": "ipython3",
   "version": "3.11.1"
  }
 },
 "nbformat": 4,
 "nbformat_minor": 5
}
