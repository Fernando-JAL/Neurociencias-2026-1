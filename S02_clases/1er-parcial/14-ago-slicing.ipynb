{
 "cells": [
  {
   "cell_type": "markdown",
   "id": "ae7d9b52-8fcf-41a9-94d2-f2b4cff44811",
   "metadata": {},
   "source": [
    "# Silicing"
   ]
  },
  {
   "cell_type": "code",
   "execution_count": 1,
   "id": "e310c705-f87b-40de-93a4-12cacce8faef",
   "metadata": {},
   "outputs": [],
   "source": [
    "a = 'Hola jolines chayotes verdes'"
   ]
  },
  {
   "cell_type": "code",
   "execution_count": 2,
   "id": "65a9cae7-c499-4069-b302-160d498ab783",
   "metadata": {},
   "outputs": [],
   "source": [
    "b = 'Adiós'"
   ]
  },
  {
   "cell_type": "code",
   "execution_count": 3,
   "id": "ba6ef915-e85f-4149-bdf9-a7559c0653ed",
   "metadata": {},
   "outputs": [
    {
     "data": {
      "text/plain": [
       "'A'"
      ]
     },
     "execution_count": 3,
     "metadata": {},
     "output_type": "execute_result"
    }
   ],
   "source": [
    "b[0]"
   ]
  },
  {
   "cell_type": "code",
   "execution_count": 4,
   "id": "b1c2ec9c-5655-41eb-b9ff-b3405b618d0b",
   "metadata": {},
   "outputs": [
    {
     "data": {
      "text/plain": [
       "'s'"
      ]
     },
     "execution_count": 4,
     "metadata": {},
     "output_type": "execute_result"
    }
   ],
   "source": [
    "b[4]"
   ]
  },
  {
   "cell_type": "code",
   "execution_count": 5,
   "id": "4cd1fc2a-1eb0-4c3b-b18f-6cc4ea595304",
   "metadata": {},
   "outputs": [
    {
     "data": {
      "text/plain": [
       "5"
      ]
     },
     "execution_count": 5,
     "metadata": {},
     "output_type": "execute_result"
    }
   ],
   "source": [
    "# Medir el tamaño de la variable\n",
    "len(b)"
   ]
  },
  {
   "cell_type": "code",
   "execution_count": 6,
   "id": "74bece2e-dfe4-476e-a65f-c0014c4b6f4f",
   "metadata": {},
   "outputs": [
    {
     "data": {
      "text/plain": [
       "' chay'"
      ]
     },
     "execution_count": 6,
     "metadata": {},
     "output_type": "execute_result"
    }
   ],
   "source": [
    "# c tiene la posición 12\n",
    "# y tiene la posición 16\n",
    "pos_i = 12\n",
    "pos_f = 16\n",
    "a[pos_i:pos_f+1]\n",
    "# El +1 es porque considera el tamaño de la cadena = tamaño de caracteres incluyendo espacios"
   ]
  },
  {
   "cell_type": "code",
   "execution_count": 7,
   "id": "11d8731c-a740-42ea-bbc4-144749e10828",
   "metadata": {},
   "outputs": [
    {
     "data": {
      "text/plain": [
       "'s'"
      ]
     },
     "execution_count": 7,
     "metadata": {},
     "output_type": "execute_result"
    }
   ],
   "source": [
    "a[-1]"
   ]
  },
  {
   "cell_type": "code",
   "execution_count": 8,
   "id": "c7128534-94e0-43fc-a1c6-7c88f05a8af5",
   "metadata": {},
   "outputs": [
    {
     "data": {
      "text/plain": [
       "'verdes'"
      ]
     },
     "execution_count": 8,
     "metadata": {},
     "output_type": "execute_result"
    }
   ],
   "source": [
    "a[-6:]"
   ]
  },
  {
   "cell_type": "code",
   "execution_count": 9,
   "id": "974526f4-86d8-4806-a9f8-8524688b8265",
   "metadata": {},
   "outputs": [
    {
     "data": {
      "text/plain": [
       "'Hola'"
      ]
     },
     "execution_count": 9,
     "metadata": {},
     "output_type": "execute_result"
    }
   ],
   "source": [
    "a[:4]"
   ]
  },
  {
   "cell_type": "code",
   "execution_count": 10,
   "id": "f4f68e8b-3e24-4883-a3f6-b7b14474ca34",
   "metadata": {},
   "outputs": [
    {
     "data": {
      "text/plain": [
       "'sde eoacsnljao'"
      ]
     },
     "execution_count": 10,
     "metadata": {},
     "output_type": "execute_result"
    }
   ],
   "source": [
    "a[::-2]\n",
    "# :: → toma toda la cadena\n",
    "# -2 → recórrela al revés y ve tomando cada 2 caracteres"
   ]
  },
  {
   "cell_type": "code",
   "execution_count": 11,
   "id": "e9bb8e37-5f14-4c6a-8102-97e79c7d941f",
   "metadata": {},
   "outputs": [
    {
     "data": {
      "text/plain": [
       "'a la '"
      ]
     },
     "execution_count": 11,
     "metadata": {},
     "output_type": "execute_result"
    }
   ],
   "source": [
    "c = \"Dora la exploradora\"\n",
    "c[3:7+1]"
   ]
  }
 ],
 "metadata": {
  "kernelspec": {
   "display_name": "Python 3 (ipykernel)",
   "language": "python",
   "name": "python3"
  },
  "language_info": {
   "codemirror_mode": {
    "name": "ipython",
    "version": 3
   },
   "file_extension": ".py",
   "mimetype": "text/x-python",
   "name": "python",
   "nbconvert_exporter": "python",
   "pygments_lexer": "ipython3",
   "version": "3.13.7"
  }
 },
 "nbformat": 4,
 "nbformat_minor": 5
}
