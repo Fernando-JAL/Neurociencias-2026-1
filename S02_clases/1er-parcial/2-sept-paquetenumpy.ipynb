{
 "cells": [
  {
   "cell_type": "markdown",
   "id": "dad5230f-1e03-46a0-ae00-250c039c596e",
   "metadata": {},
   "source": [
    "# Paquetes y módulos"
   ]
  },
  {
   "cell_type": "code",
   "execution_count": 5,
   "id": "b8d76dd5-8859-4b8b-b4cd-cf78c80d993c",
   "metadata": {},
   "outputs": [],
   "source": [
    "# Importar paquete modulo.py previamente descargado\n",
    "from modulo import *"
   ]
  },
  {
   "cell_type": "code",
   "execution_count": 2,
   "id": "646e5e04-11c6-4c82-bcff-2aafdf439308",
   "metadata": {},
   "outputs": [
    {
     "name": "stdout",
     "output_type": "stream",
     "text": [
      "saludo desde paquete\n"
     ]
    }
   ],
   "source": [
    "saludo()"
   ]
  },
  {
   "cell_type": "code",
   "execution_count": 3,
   "id": "2a5fdcd3-9435-434b-a551-7b9e95b0a11d",
   "metadata": {},
   "outputs": [
    {
     "name": "stdout",
     "output_type": "stream",
     "text": [
      "otra funcion\n"
     ]
    }
   ],
   "source": [
    "funcion()"
   ]
  },
  {
   "cell_type": "code",
   "execution_count": 4,
   "id": "c8985e1f-f84f-430d-b560-319b2f4caaea",
   "metadata": {},
   "outputs": [
    {
     "data": {
      "text/plain": [
       "5"
      ]
     },
     "execution_count": 4,
     "metadata": {},
     "output_type": "execute_result"
    }
   ],
   "source": [
    "suma(2, 3)"
   ]
  },
  {
   "cell_type": "markdown",
   "id": "5628ff0d-ce7f-4c7a-b598-08e68d7ca07c",
   "metadata": {},
   "source": [
    "## Paquete NumPy"
   ]
  },
  {
   "cell_type": "markdown",
   "id": "f48cf341-d2d1-4e82-8749-8fbce0f45a57",
   "metadata": {},
   "source": [
    "Es un paquete enfocado en manipular información en estructuras conocidas como vectores, arreglos y matrices. La contribución más significativa del paquete es la introducción de un nuevo tipo de dato → array."
   ]
  },
  {
   "cell_type": "code",
   "execution_count": 10,
   "id": "ea2b7fa8-660c-4b87-ae40-d2f5d497a249",
   "metadata": {},
   "outputs": [
    {
     "name": "stdout",
     "output_type": "stream",
     "text": [
      "Collecting numpy\n",
      "  Downloading numpy-2.3.2-cp313-cp313-win_amd64.whl.metadata (60 kB)\n",
      "Downloading numpy-2.3.2-cp313-cp313-win_amd64.whl (12.8 MB)\n",
      "   ---------------------------------------- 0.0/12.8 MB ? eta -:--:--\n",
      "   ---------------------------------------- 0.0/12.8 MB ? eta -:--:--\n",
      "   ---------------------------------------- 0.0/12.8 MB ? eta -:--:--\n",
      "   ---------------------------------------- 0.0/12.8 MB ? eta -:--:--\n",
      "    --------------------------------------- 0.3/12.8 MB ? eta -:--:--\n",
      "   - -------------------------------------- 0.5/12.8 MB 907.0 kB/s eta 0:00:14\n",
      "   - -------------------------------------- 0.5/12.8 MB 907.0 kB/s eta 0:00:14\n",
      "   - -------------------------------------- 0.5/12.8 MB 907.0 kB/s eta 0:00:14\n",
      "   -- ------------------------------------- 0.8/12.8 MB 617.3 kB/s eta 0:00:20\n",
      "   --- ------------------------------------ 1.0/12.8 MB 701.1 kB/s eta 0:00:17\n",
      "   --- ------------------------------------ 1.0/12.8 MB 701.1 kB/s eta 0:00:17\n",
      "   ---- ----------------------------------- 1.3/12.8 MB 689.7 kB/s eta 0:00:17\n",
      "   ---- ----------------------------------- 1.3/12.8 MB 689.7 kB/s eta 0:00:17\n",
      "   ---- ----------------------------------- 1.6/12.8 MB 695.9 kB/s eta 0:00:17\n",
      "   ----- ---------------------------------- 1.8/12.8 MB 726.2 kB/s eta 0:00:16\n",
      "   ------ --------------------------------- 2.1/12.8 MB 791.3 kB/s eta 0:00:14\n",
      "   ------ --------------------------------- 2.1/12.8 MB 791.3 kB/s eta 0:00:14\n",
      "   -------- ------------------------------- 2.6/12.8 MB 830.9 kB/s eta 0:00:13\n",
      "   --------- ------------------------------ 3.1/12.8 MB 946.5 kB/s eta 0:00:11\n",
      "   ---------- ----------------------------- 3.4/12.8 MB 994.6 kB/s eta 0:00:10\n",
      "   ------------ --------------------------- 3.9/12.8 MB 1.0 MB/s eta 0:00:09\n",
      "   ------------- -------------------------- 4.2/12.8 MB 1.1 MB/s eta 0:00:09\n",
      "   -------------- ------------------------- 4.7/12.8 MB 1.1 MB/s eta 0:00:08\n",
      "   --------------- ------------------------ 5.0/12.8 MB 1.1 MB/s eta 0:00:07\n",
      "   --------------- ------------------------ 5.0/12.8 MB 1.1 MB/s eta 0:00:07\n",
      "   ---------------- ----------------------- 5.2/12.8 MB 1.1 MB/s eta 0:00:07\n",
      "   ------------------ --------------------- 5.8/12.8 MB 1.1 MB/s eta 0:00:07\n",
      "   ------------------ --------------------- 5.8/12.8 MB 1.1 MB/s eta 0:00:07\n",
      "   ------------------- -------------------- 6.3/12.8 MB 1.2 MB/s eta 0:00:06\n",
      "   --------------------- ------------------ 6.8/12.8 MB 1.2 MB/s eta 0:00:06\n",
      "   ---------------------- ----------------- 7.1/12.8 MB 1.2 MB/s eta 0:00:05\n",
      "   ---------------------- ----------------- 7.3/12.8 MB 1.2 MB/s eta 0:00:05\n",
      "   ----------------------- ---------------- 7.6/12.8 MB 1.2 MB/s eta 0:00:05\n",
      "   ------------------------ --------------- 7.9/12.8 MB 1.2 MB/s eta 0:00:05\n",
      "   ------------------------- -------------- 8.1/12.8 MB 1.2 MB/s eta 0:00:04\n",
      "   --------------------------- ------------ 8.7/12.8 MB 1.2 MB/s eta 0:00:04\n",
      "   --------------------------- ------------ 8.9/12.8 MB 1.2 MB/s eta 0:00:04\n",
      "   ---------------------------- ----------- 9.2/12.8 MB 1.3 MB/s eta 0:00:03\n",
      "   ----------------------------- ---------- 9.4/12.8 MB 1.3 MB/s eta 0:00:03\n",
      "   ------------------------------- -------- 10.2/12.8 MB 1.3 MB/s eta 0:00:02\n",
      "   --------------------------------- ------ 10.7/12.8 MB 1.3 MB/s eta 0:00:02\n",
      "   ----------------------------------- ---- 11.3/12.8 MB 1.4 MB/s eta 0:00:02\n",
      "   ------------------------------------- -- 12.1/12.8 MB 1.4 MB/s eta 0:00:01\n",
      "   ---------------------------------------  12.6/12.8 MB 1.5 MB/s eta 0:00:01\n",
      "   ---------------------------------------- 12.8/12.8 MB 1.5 MB/s  0:00:09\n",
      "Installing collected packages: numpy\n",
      "Successfully installed numpy-2.3.2\n"
     ]
    },
    {
     "name": "stderr",
     "output_type": "stream",
     "text": [
      "  WARNING: The scripts f2py.exe and numpy-config.exe are installed in 'C:\\Users\\apgso\\AppData\\Local\\Programs\\Python\\Python313\\Scripts' which is not on PATH.\n",
      "  Consider adding this directory to PATH or, if you prefer to suppress this warning, use --no-warn-script-location.\n"
     ]
    }
   ],
   "source": [
    "!py -m pip install numpy # Instalar paquete numpy"
   ]
  },
  {
   "cell_type": "code",
   "execution_count": 12,
   "id": "61900e36-bca8-4f99-a428-a59ffa449dcb",
   "metadata": {},
   "outputs": [],
   "source": [
    "import numpy as np"
   ]
  },
  {
   "cell_type": "code",
   "execution_count": 13,
   "id": "ab53df05-0956-4310-aa75-442914ecc7ca",
   "metadata": {},
   "outputs": [
    {
     "data": {
      "text/plain": [
       "numpy.ndarray"
      ]
     },
     "execution_count": 13,
     "metadata": {},
     "output_type": "execute_result"
    }
   ],
   "source": [
    "lista = [3,4,5]\n",
    "variable = np.array(lista)\n",
    "type(variable)"
   ]
  },
  {
   "cell_type": "markdown",
   "id": "7049e60f-0148-4464-9d0c-bc4be82fb5d0",
   "metadata": {},
   "source": [
    "Arreglo: lista de datos numéricos unidimensional (vector).\n",
    "Matriz: colección de datos numéricos en dos dimensiones (filas y columnas).\n",
    "\n",
    "En Python puro no existen \"arreglos\" como tal, sino listas (list) y tuplas (tuple).\n",
    "En NumPy, tanto los vectores como las matrices y tensores se representan con la misma estructura: numpy.ndarray. → En Python (con NumPy) son todos arreglos (ndarray), que pueden ser unidimensionales (vector), bidimensionales (matriz) o de más dimensiones (tensor)."
   ]
  },
  {
   "cell_type": "code",
   "execution_count": 14,
   "id": "a0bfe664-1ed6-43a3-9cb6-96979e0413b5",
   "metadata": {},
   "outputs": [
    {
     "data": {
      "text/plain": [
       "1"
      ]
     },
     "execution_count": 14,
     "metadata": {},
     "output_type": "execute_result"
    }
   ],
   "source": [
    "# .ndim permite conocer la dimensión del array\n",
    "variable.ndim"
   ]
  },
  {
   "cell_type": "code",
   "execution_count": 17,
   "id": "49763dcf-cb83-4955-807d-d020b357c44d",
   "metadata": {},
   "outputs": [
    {
     "data": {
      "text/plain": [
       "(numpy.ndarray, 2, (2, 3))"
      ]
     },
     "execution_count": 17,
     "metadata": {},
     "output_type": "execute_result"
    }
   ],
   "source": [
    "variable2d = np.array([\n",
    "    [4,5,6],\n",
    "    [7,8,9]\n",
    "]) # Crear un array. Como la entrada es una lista de listas, NumPy lo interpreta como una matriz 2D.\n",
    "type(variable2d), variable2d.ndim, variable2d.shape # .shape devuelve la forma del array: (n_filas, n_columnas)"
   ]
  },
  {
   "cell_type": "code",
   "execution_count": 18,
   "id": "abe752e6-2108-4cdc-9b7a-57beb3686646",
   "metadata": {},
   "outputs": [
    {
     "data": {
      "text/plain": [
       "array([[4, 5, 6],\n",
       "       [7, 8, 9]])"
      ]
     },
     "execution_count": 18,
     "metadata": {},
     "output_type": "execute_result"
    }
   ],
   "source": [
    "variable2d"
   ]
  },
  {
   "cell_type": "markdown",
   "id": "c5a388e5-8bb4-4bed-a3ab-4655f5f94e17",
   "metadata": {},
   "source": [
    "### ¿Qué funciones tiene el paquete NumPy?"
   ]
  },
  {
   "cell_type": "code",
   "execution_count": 20,
   "id": "d8c126c7-3c28-4d0a-bbd6-a9cb43e20611",
   "metadata": {},
   "outputs": [
    {
     "data": {
      "text/plain": [
       "(array([0., 0., 0., 0., 0., 0.]),\n",
       " array([[0., 0., 0., 0.],\n",
       "        [0., 0., 0., 0.],\n",
       "        [0., 0., 0., 0.]]))"
      ]
     },
     "execution_count": 20,
     "metadata": {},
     "output_type": "execute_result"
    }
   ],
   "source": [
    "# Arrays de ceros\n",
    "np.zeros(6), np.zeros([3,4])"
   ]
  },
  {
   "cell_type": "code",
   "execution_count": 21,
   "id": "9dadc9ad-2aa1-4a0c-a5e4-c33ccf8b21e5",
   "metadata": {},
   "outputs": [
    {
     "data": {
      "text/plain": [
       "(array([1., 1., 1., 1.]),\n",
       " array([[[1., 1., 1., 1.],\n",
       "         [1., 1., 1., 1.],\n",
       "         [1., 1., 1., 1.]],\n",
       " \n",
       "        [[1., 1., 1., 1.],\n",
       "         [1., 1., 1., 1.],\n",
       "         [1., 1., 1., 1.]]]))"
      ]
     },
     "execution_count": 21,
     "metadata": {},
     "output_type": "execute_result"
    }
   ],
   "source": [
    "# Arrays de unos\n",
    "np.ones(4), np.ones((2,3,4)) # Crea un array 1D con 4 elementos (todos iguales a 1) # Pasa una tupla de dimensiones (2,3,4) = 2 bloques, c/u 3 filas y 4 columnas = array 3D"
   ]
  },
  {
   "cell_type": "code",
   "execution_count": 23,
   "id": "d9451538-25a9-42ad-a08d-c56fbbad471f",
   "metadata": {},
   "outputs": [
    {
     "data": {
      "text/plain": [
       "array([[1., 0., 0., 0., 0.],\n",
       "       [0., 1., 0., 0., 0.],\n",
       "       [0., 0., 1., 0., 0.],\n",
       "       [0., 0., 0., 1., 0.],\n",
       "       [0., 0., 0., 0., 1.]])"
      ]
     },
     "execution_count": 23,
     "metadata": {},
     "output_type": "execute_result"
    }
   ],
   "source": [
    "# Array equivalente a la matriz identidad → Diagonal = 1, fuera = 0 # Tiene que ser una matriz cuadrad\n",
    "np.eye(5) # Matriz 5x5, donde diagonal = 1"
   ]
  },
  {
   "cell_type": "code",
   "execution_count": 24,
   "id": "a0de3916-29ee-4c62-aadd-aad44965cb8e",
   "metadata": {},
   "outputs": [
    {
     "data": {
      "text/plain": [
       "array([[8., 0., 0., 0.],\n",
       "       [0., 8., 0., 0.],\n",
       "       [0., 0., 8., 0.],\n",
       "       [0., 0., 0., 8.]])"
      ]
     },
     "execution_count": 24,
     "metadata": {},
     "output_type": "execute_result"
    }
   ],
   "source": [
    "# Ejercicio: Crear un array 4x4 cuyos elementos en la diagonal sean iguales a 8, fuera de la diagonal iguales a -10\n",
    "np.eye(4)*8 # Matriz 4x4, donde diagonal = 8"
   ]
  },
  {
   "cell_type": "code",
   "execution_count": 37,
   "id": "4c11e962-f7f8-41d7-ac07-7261d3794690",
   "metadata": {},
   "outputs": [
    {
     "data": {
      "text/plain": [
       "array([[  8., -10., -10., -10.],\n",
       "       [-10.,   8., -10., -10.],\n",
       "       [-10., -10.,   8., -10.],\n",
       "       [-10., -10., -10.,   8.]])"
      ]
     },
     "execution_count": 37,
     "metadata": {},
     "output_type": "execute_result"
    }
   ],
   "source": [
    "funcionej = -10 * np.ones((4, 4)) + 18 * np.eye(4)\n",
    "# np.ones((4, 4)) → matriz 4×4 de unos.\n",
    "# np.eye(4) → matriz identidad 4×4.\n",
    "# -10 * np.ones(...) + 18 * np.eye(...) → da la matriz con diagonal 8 y fuera de diagonal -10.\n",
    "funcionej"
   ]
  },
  {
   "cell_type": "code",
   "execution_count": 36,
   "id": "f9b8cb10-05c6-4876-ba58-51132327f985",
   "metadata": {},
   "outputs": [
    {
     "data": {
      "text/plain": [
       "array([[ 4., -5., -5., -5.],\n",
       "       [-5.,  4., -5., -5.],\n",
       "       [-5., -5.,  4., -5.],\n",
       "       [-5., -5., -5.,  4.]])"
      ]
     },
     "execution_count": 36,
     "metadata": {},
     "output_type": "execute_result"
    }
   ],
   "source": [
    "funcionej/2"
   ]
  },
  {
   "cell_type": "code",
   "execution_count": 38,
   "id": "2a52fbeb-8239-4853-8c41-954797aa0fb5",
   "metadata": {},
   "outputs": [
    {
     "data": {
      "text/plain": [
       "array([[ 64., 100., 100., 100.],\n",
       "       [100.,  64., 100., 100.],\n",
       "       [100., 100.,  64., 100.],\n",
       "       [100., 100., 100.,  64.]])"
      ]
     },
     "execution_count": 38,
     "metadata": {},
     "output_type": "execute_result"
    }
   ],
   "source": [
    "funcionej**2"
   ]
  },
  {
   "cell_type": "code",
   "execution_count": 39,
   "id": "dd9cfbde-544f-4207-a038-d852a66bb31b",
   "metadata": {},
   "outputs": [
    {
     "data": {
      "text/plain": [
       "array([[ 0.125, -0.1  , -0.1  , -0.1  ],\n",
       "       [-0.1  ,  0.125, -0.1  , -0.1  ],\n",
       "       [-0.1  , -0.1  ,  0.125, -0.1  ],\n",
       "       [-0.1  , -0.1  , -0.1  ,  0.125]])"
      ]
     },
     "execution_count": 39,
     "metadata": {},
     "output_type": "execute_result"
    }
   ],
   "source": [
    "# En Python, sí está definida la división entre matrices\n",
    "1/funcionej"
   ]
  }
 ],
 "metadata": {
  "kernelspec": {
   "display_name": "Python 3 (ipykernel)",
   "language": "python",
   "name": "python3"
  },
  "language_info": {
   "codemirror_mode": {
    "name": "ipython",
    "version": 3
   },
   "file_extension": ".py",
   "mimetype": "text/x-python",
   "name": "python",
   "nbconvert_exporter": "python",
   "pygments_lexer": "ipython3",
   "version": "3.13.7"
  }
 },
 "nbformat": 4,
 "nbformat_minor": 5
}
