{
 "cells": [
  {
   "cell_type": "markdown",
   "id": "966a4589-f292-4005-91fe-f3480d4de74a",
   "metadata": {},
   "source": [
    "# Matemáticas básicas"
   ]
  },
  {
   "cell_type": "code",
   "execution_count": 1,
   "id": "7eafd13f-fb06-47ba-bf46-1d3b96070f0e",
   "metadata": {},
   "outputs": [],
   "source": [
    "b = 310930131098309"
   ]
  },
  {
   "cell_type": "code",
   "execution_count": 2,
   "id": "639ee2c1-18b8-43fd-9f57-b4828c145e45",
   "metadata": {
    "scrolled": true
   },
   "outputs": [
    {
     "data": {
      "text/plain": [
       "int"
      ]
     },
     "execution_count": 2,
     "metadata": {},
     "output_type": "execute_result"
    }
   ],
   "source": [
    "type(b)\n",
    "# Número entero = int"
   ]
  },
  {
   "cell_type": "code",
   "execution_count": 3,
   "id": "62e1ba97-b550-4692-ba0c-45292d4fd414",
   "metadata": {},
   "outputs": [
    {
     "data": {
      "text/plain": [
       "float"
      ]
     },
     "execution_count": 3,
     "metadata": {},
     "output_type": "execute_result"
    }
   ],
   "source": [
    "type(1.2)\n",
    "# Número racional = float"
   ]
  },
  {
   "cell_type": "code",
   "execution_count": 4,
   "id": "99af2512-1fc8-47fc-850b-4c44208a1091",
   "metadata": {},
   "outputs": [
    {
     "ename": "NameError",
     "evalue": "name 'i' is not defined",
     "output_type": "error",
     "traceback": [
      "\u001b[31m---------------------------------------------------------------------------\u001b[39m",
      "\u001b[31mNameError\u001b[39m                                 Traceback (most recent call last)",
      "\u001b[36mCell\u001b[39m\u001b[36m \u001b[39m\u001b[32mIn[4]\u001b[39m\u001b[32m, line 1\u001b[39m\n\u001b[32m----> \u001b[39m\u001b[32m1\u001b[39m \u001b[38;5;28mtype\u001b[39m(\u001b[43mi\u001b[49m)\n\u001b[32m      2\u001b[39m \u001b[38;5;66;03m# La máquina no admite números irracionales\u001b[39;00m\n",
      "\u001b[31mNameError\u001b[39m: name 'i' is not defined"
     ]
    }
   ],
   "source": [
    "type(i)\n",
    "# La máquina no admite números irracionales"
   ]
  },
  {
   "cell_type": "code",
   "execution_count": 5,
   "id": "235b3ef5-3d79-4e6e-becc-ffb064e495c2",
   "metadata": {},
   "outputs": [
    {
     "data": {
      "text/plain": [
       "(1+3j)"
      ]
     },
     "execution_count": 5,
     "metadata": {},
     "output_type": "execute_result"
    }
   ],
   "source": [
    "complex(1,3)\n",
    "# Los números imaginarios son complejos. Número imaginario = a + bi"
   ]
  },
  {
   "cell_type": "code",
   "execution_count": 6,
   "id": "2d9868e5-d63f-44ce-aefc-dc289a50f8ef",
   "metadata": {},
   "outputs": [
    {
     "data": {
      "text/plain": [
       "complex"
      ]
     },
     "execution_count": 6,
     "metadata": {},
     "output_type": "execute_result"
    }
   ],
   "source": [
    "type(3+1j)"
   ]
  },
  {
   "cell_type": "code",
   "execution_count": 7,
   "id": "eb8f0acb-3d46-455d-8e6b-134514f76e86",
   "metadata": {},
   "outputs": [
    {
     "data": {
      "text/plain": [
       "(1+5j)"
      ]
     },
     "execution_count": 7,
     "metadata": {},
     "output_type": "execute_result"
    }
   ],
   "source": [
    "complex(1,3) + complex(0,2)"
   ]
  },
  {
   "cell_type": "code",
   "execution_count": 8,
   "id": "90d62ce4-87a6-46a4-906f-83ac39afc047",
   "metadata": {},
   "outputs": [
    {
     "data": {
      "text/plain": [
       "100"
      ]
     },
     "execution_count": 8,
     "metadata": {},
     "output_type": "execute_result"
    }
   ],
   "source": [
    "56 + 44"
   ]
  },
  {
   "cell_type": "code",
   "execution_count": 9,
   "id": "04fbdc20-45be-4c8c-89e1-3cc62e66baf0",
   "metadata": {},
   "outputs": [
    {
     "data": {
      "text/plain": [
       "4"
      ]
     },
     "execution_count": 9,
     "metadata": {},
     "output_type": "execute_result"
    }
   ],
   "source": [
    "8 - 4"
   ]
  },
  {
   "cell_type": "code",
   "execution_count": 10,
   "id": "86d50b3a-fef3-4806-9c5f-28e595627505",
   "metadata": {},
   "outputs": [
    {
     "data": {
      "text/plain": [
       "70"
      ]
     },
     "execution_count": 10,
     "metadata": {},
     "output_type": "execute_result"
    }
   ],
   "source": [
    "10 * 7"
   ]
  },
  {
   "cell_type": "code",
   "execution_count": 11,
   "id": "3d243e41-9d1e-48ff-b190-fb3a3d8d89a6",
   "metadata": {},
   "outputs": [
    {
     "data": {
      "text/plain": [
       "4.0"
      ]
     },
     "execution_count": 11,
     "metadata": {},
     "output_type": "execute_result"
    }
   ],
   "source": [
    "12 / 3"
   ]
  },
  {
   "cell_type": "code",
   "execution_count": 12,
   "id": "d3df8f40-d68d-4679-9667-e45d8c7001a9",
   "metadata": {},
   "outputs": [
    {
     "data": {
      "text/plain": [
       "9"
      ]
     },
     "execution_count": 12,
     "metadata": {},
     "output_type": "execute_result"
    }
   ],
   "source": [
    "3**2"
   ]
  },
  {
   "cell_type": "code",
   "execution_count": 13,
   "id": "20f0c803-9df7-4846-adbc-e1c13d7412bb",
   "metadata": {},
   "outputs": [
    {
     "data": {
      "text/plain": [
       "3.0"
      ]
     },
     "execution_count": 13,
     "metadata": {},
     "output_type": "execute_result"
    }
   ],
   "source": [
    "9**(1/2)"
   ]
  },
  {
   "cell_type": "code",
   "execution_count": 14,
   "id": "5cb5afd1-fa26-47d9-a4a5-d0e1fa399176",
   "metadata": {},
   "outputs": [
    {
     "data": {
      "text/plain": [
       "0"
      ]
     },
     "execution_count": 14,
     "metadata": {},
     "output_type": "execute_result"
    }
   ],
   "source": [
    "16%4\n",
    "# Calcular residuo"
   ]
  },
  {
   "cell_type": "code",
   "execution_count": 15,
   "id": "f58baa7b-8b99-419f-9d59-8db325c85592",
   "metadata": {},
   "outputs": [
    {
     "data": {
      "text/plain": [
       "4"
      ]
     },
     "execution_count": 15,
     "metadata": {},
     "output_type": "execute_result"
    }
   ],
   "source": [
    "16//4\n",
    "# Calcular cociente"
   ]
  },
  {
   "cell_type": "code",
   "execution_count": 16,
   "id": "e157169a-7940-4446-9d80-f23bf6a7cef3",
   "metadata": {},
   "outputs": [],
   "source": [
    "a = 8\n",
    "b = 3\n",
    "c = 42"
   ]
  },
  {
   "cell_type": "code",
   "execution_count": 17,
   "id": "046158ad-376b-4cb8-bcd2-40ebe87a59f9",
   "metadata": {},
   "outputs": [
    {
     "data": {
      "text/plain": [
       "(8, 3, 42)"
      ]
     },
     "execution_count": 17,
     "metadata": {},
     "output_type": "execute_result"
    }
   ],
   "source": [
    "a, b, c"
   ]
  },
  {
   "cell_type": "code",
   "execution_count": 22,
   "id": "3ddca4cb-34b0-4436-bb33-235891f0aa78",
   "metadata": {},
   "outputs": [],
   "source": [
    "a, b, c = 8, 3, 42"
   ]
  },
  {
   "cell_type": "code",
   "execution_count": 23,
   "id": "74887c91-f1e6-43c9-b189-8d371f3dc870",
   "metadata": {},
   "outputs": [
    {
     "ename": "ZeroDivisionError",
     "evalue": "division by zero",
     "output_type": "error",
     "traceback": [
      "\u001b[31m---------------------------------------------------------------------------\u001b[39m",
      "\u001b[31mZeroDivisionError\u001b[39m                         Traceback (most recent call last)",
      "\u001b[36mCell\u001b[39m\u001b[36m \u001b[39m\u001b[32mIn[23]\u001b[39m\u001b[32m, line 1\u001b[39m\n\u001b[32m----> \u001b[39m\u001b[32m1\u001b[39m c/a + b*a - \u001b[43ma\u001b[49m\u001b[43m*\u001b[49m\u001b[43m*\u001b[49m\u001b[43mb\u001b[49m\u001b[43m \u001b[49m\u001b[43m/\u001b[49m\u001b[43m \u001b[49m\u001b[43m(\u001b[49m\u001b[43mc\u001b[49m\u001b[43m%\u001b[49m\u001b[43mb\u001b[49m\u001b[43m)\u001b[49m\n",
      "\u001b[31mZeroDivisionError\u001b[39m: division by zero"
     ]
    }
   ],
   "source": [
    "c/a + b*a - a**b / (c%b)"
   ]
  }
 ],
 "metadata": {
  "kernelspec": {
   "display_name": "Python 3 (ipykernel)",
   "language": "python",
   "name": "python3"
  },
  "language_info": {
   "codemirror_mode": {
    "name": "ipython",
    "version": 3
   },
   "file_extension": ".py",
   "mimetype": "text/x-python",
   "name": "python",
   "nbconvert_exporter": "python",
   "pygments_lexer": "ipython3",
   "version": "3.13.7"
  }
 },
 "nbformat": 4,
 "nbformat_minor": 5
}
