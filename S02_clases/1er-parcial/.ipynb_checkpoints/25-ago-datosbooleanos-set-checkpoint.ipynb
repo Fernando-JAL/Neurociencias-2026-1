{
 "cells": [
  {
   "cell_type": "markdown",
   "id": "6194c439-9bbb-4b2c-8e93-51f0e0b4b806",
   "metadata": {},
   "source": [
    "# Datos booleanos"
   ]
  },
  {
   "cell_type": "code",
   "execution_count": 14,
   "id": "2220bb1d-73e9-44f4-ab51-49937844a0bc",
   "metadata": {},
   "outputs": [
    {
     "data": {
      "text/plain": [
       "(True, False)"
      ]
     },
     "execution_count": 14,
     "metadata": {},
     "output_type": "execute_result"
    }
   ],
   "source": [
    "value1, value2 = True, False\n",
    "value1, value2"
   ]
  },
  {
   "cell_type": "code",
   "execution_count": 16,
   "id": "95009c05-f6c9-481b-9d59-bec5a7ade04c",
   "metadata": {},
   "outputs": [
    {
     "data": {
      "text/plain": [
       "bool"
      ]
     },
     "execution_count": 16,
     "metadata": {},
     "output_type": "execute_result"
    }
   ],
   "source": [
    "type(value1)"
   ]
  },
  {
   "cell_type": "code",
   "execution_count": 17,
   "id": "3f9be1de-dc9b-41e4-800d-5253769bc1f5",
   "metadata": {},
   "outputs": [
    {
     "data": {
      "text/plain": [
       "False"
      ]
     },
     "execution_count": 17,
     "metadata": {},
     "output_type": "execute_result"
    }
   ],
   "source": [
    "bool(0)"
   ]
  },
  {
   "cell_type": "code",
   "execution_count": 18,
   "id": "87c37066-d93c-4e6a-a812-966f268620f2",
   "metadata": {},
   "outputs": [
    {
     "data": {
      "text/plain": [
       "True"
      ]
     },
     "execution_count": 18,
     "metadata": {},
     "output_type": "execute_result"
    }
   ],
   "source": [
    "bool(1)"
   ]
  },
  {
   "cell_type": "code",
   "execution_count": 19,
   "id": "80be029c-e9de-4bd1-b0c8-d0ff2c2052d5",
   "metadata": {},
   "outputs": [
    {
     "data": {
      "text/plain": [
       "True"
      ]
     },
     "execution_count": 19,
     "metadata": {},
     "output_type": "execute_result"
    }
   ],
   "source": [
    "bool('Hola')"
   ]
  },
  {
   "cell_type": "code",
   "execution_count": 20,
   "id": "6d158789-87ad-48e1-ac9f-6baa06eb6686",
   "metadata": {},
   "outputs": [
    {
     "data": {
      "text/plain": [
       "True"
      ]
     },
     "execution_count": 20,
     "metadata": {},
     "output_type": "execute_result"
    }
   ],
   "source": [
    "bool(2)"
   ]
  },
  {
   "cell_type": "code",
   "execution_count": 21,
   "id": "a927cdd7-a614-48dc-92f1-788b2864f723",
   "metadata": {},
   "outputs": [
    {
     "data": {
      "text/plain": [
       "False"
      ]
     },
     "execution_count": 21,
     "metadata": {},
     "output_type": "execute_result"
    }
   ],
   "source": [
    "bool([])"
   ]
  },
  {
   "cell_type": "code",
   "execution_count": 22,
   "id": "d0999ea3-6491-40eb-8091-3d2f375365e6",
   "metadata": {},
   "outputs": [
    {
     "data": {
      "text/plain": [
       "True"
      ]
     },
     "execution_count": 22,
     "metadata": {},
     "output_type": "execute_result"
    }
   ],
   "source": [
    "bool((5, ))"
   ]
  },
  {
   "cell_type": "code",
   "execution_count": 25,
   "id": "6d9d2deb-f760-46e6-a3f8-5c5cf9729b34",
   "metadata": {},
   "outputs": [
    {
     "data": {
      "text/plain": [
       "(False, True)"
      ]
     },
     "execution_count": 25,
     "metadata": {},
     "output_type": "execute_result"
    }
   ],
   "source": [
    "bool({}), bool({'key': \"value\"})"
   ]
  },
  {
   "cell_type": "markdown",
   "id": "948bc41b-5449-40b4-bc0d-7366598f88b1",
   "metadata": {},
   "source": [
    "# Set"
   ]
  },
  {
   "cell_type": "code",
   "execution_count": 29,
   "id": "56c29a1a-6639-4b42-aa28-6280c68f1b58",
   "metadata": {},
   "outputs": [
    {
     "data": {
      "text/plain": [
       "10"
      ]
     },
     "execution_count": 29,
     "metadata": {},
     "output_type": "execute_result"
    }
   ],
   "source": [
    "conjunto = (4, 'cosa', 1,2,3,4,'a','b','c','a')\n",
    "len(conjunto) # Wtf? Me salen 10, deberían ser 8 (descontando la repetición)"
   ]
  }
 ],
 "metadata": {
  "kernelspec": {
   "display_name": "Python 3 (ipykernel)",
   "language": "python",
   "name": "python3"
  },
  "language_info": {
   "codemirror_mode": {
    "name": "ipython",
    "version": 3
   },
   "file_extension": ".py",
   "mimetype": "text/x-python",
   "name": "python",
   "nbconvert_exporter": "python",
   "pygments_lexer": "ipython3",
   "version": "3.13.7"
  }
 },
 "nbformat": 4,
 "nbformat_minor": 5
}
