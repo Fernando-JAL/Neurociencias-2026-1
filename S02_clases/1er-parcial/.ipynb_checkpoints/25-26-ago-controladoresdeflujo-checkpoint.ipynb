{
 "cells": [
  {
   "cell_type": "markdown",
   "id": "ee4e6ab7-a3aa-4306-b74a-bdf8d07c6098",
   "metadata": {},
   "source": [
    "# Controladores de flujo\n",
    "\n",
    "Estructuras de control _condicionada_. Nos permiten evaluar si una o más condiciones se cumplen para decidir la próxima acción a tomar. Nótese que la evaluación de condiciones solo puede arrojar como resulteado un boolean.\n",
    "\n",
    "Los posibles controladores de flujo son:\n",
    "- if\n",
    "- elif\n",
    "- else\n",
    "- while\n",
    "- for"
   ]
  },
  {
   "cell_type": "code",
   "execution_count": 1,
   "id": "83ad3f18-8a09-4f8f-b580-15a216e954ac",
   "metadata": {},
   "outputs": [
    {
     "name": "stdout",
     "output_type": "stream",
     "text": [
      "bienvenido al True\n"
     ]
    }
   ],
   "source": [
    "# Mientras if contenga True, arrojará True (esto no pasa con False)\n",
    "if True:\n",
    "    print('bienvenido al True')"
   ]
  },
  {
   "cell_type": "code",
   "execution_count": 2,
   "id": "3a868c04-e40b-458e-b973-12cc5248367f",
   "metadata": {},
   "outputs": [
    {
     "name": "stdout",
     "output_type": "stream",
     "text": [
      "entró al if\n"
     ]
    }
   ],
   "source": [
    "a = 2\n",
    "if a > 0:\n",
    "        print('entró al if')"
   ]
  },
  {
   "cell_type": "code",
   "execution_count": 3,
   "id": "fe4551de-a32b-40ec-bad3-3721ad944bc0",
   "metadata": {},
   "outputs": [
    {
     "name": "stdout",
     "output_type": "stream",
     "text": [
      "pues a no es mayor que 5\n",
      "código después del if\n"
     ]
    }
   ],
   "source": [
    "a = 5\n",
    "if a > 5:\n",
    "        print('a mayor que 5')\n",
    "else:\n",
    "        print('pues a no es mayor que 5')\n",
    "print('código después del if')"
   ]
  },
  {
   "cell_type": "code",
   "execution_count": 4,
   "id": "285c7276-94fe-42dd-a608-02d61482dcbe",
   "metadata": {},
   "outputs": [
    {
     "name": "stdout",
     "output_type": "stream",
     "text": [
      "a es impar y b no me importa\n",
      "continuamos\n"
     ]
    }
   ],
   "source": [
    "a, b = 17.5, -15\n",
    "if a % 2 == 0:\n",
    "    print('a es par')\n",
    "    if b > 0:\n",
    "        print('b es positivo')\n",
    "    else:\n",
    "        print('b es gruñón')\n",
    "else:\n",
    "    print('a es impar y b no me importa')\n",
    "\n",
    "print('continuamos')"
   ]
  },
  {
   "cell_type": "code",
   "execution_count": 5,
   "id": "396f3c0b-41a6-4511-9259-91cd8ca1f920",
   "metadata": {},
   "outputs": [
    {
     "name": "stdout",
     "output_type": "stream",
     "text": [
      "a en la lista\n",
      "hay que seguirle\n"
     ]
    }
   ],
   "source": [
    "lista = [5, 7, 9, 10]\n",
    "a, b = 9, 17 \n",
    "\n",
    "if a in lista:\n",
    "    print('a en la lista')\n",
    "elif a % 2 == 0:\n",
    "    print('a es par')\n",
    "else:\n",
    "    print('pues nadota')\n",
    "\n",
    "print('hay que seguirle')"
   ]
  },
  {
   "cell_type": "markdown",
   "id": "666febca-563d-4138-8869-de697840908d",
   "metadata": {},
   "source": [
    "# Controlador de flujo _for_"
   ]
  },
  {
   "cell_type": "code",
   "execution_count": 6,
   "id": "89cfef42-fafa-4828-a96b-de1111b63c49",
   "metadata": {},
   "outputs": [
    {
     "name": "stdout",
     "output_type": "stream",
     "text": [
      "2\n",
      "4\n",
      "6\n",
      "8\n",
      "10\n",
      "12\n",
      "14\n",
      "16\n",
      "18\n"
     ]
    }
   ],
   "source": [
    "listas = [2, 4, 6, 8, 10, 12, 14, 16, 18]\n",
    "for valor in listas:\n",
    "    print(valor)"
   ]
  },
  {
   "cell_type": "code",
   "execution_count": 7,
   "id": "52afefd8-7d98-4bc6-8d31-0890b2d806af",
   "metadata": {},
   "outputs": [
    {
     "name": "stdout",
     "output_type": "stream",
     "text": [
      "C\n",
      "a\n",
      "d\n",
      "e\n",
      "n\n",
      "a\n"
     ]
    }
   ],
   "source": [
    "for letra in \"Cadena\":\n",
    "    print(letra)"
   ]
  },
  {
   "cell_type": "code",
   "execution_count": 8,
   "id": "36995157-7e89-44e4-bf83-7037664561db",
   "metadata": {},
   "outputs": [
    {
     "name": "stdout",
     "output_type": "stream",
     "text": [
      "key1\n",
      "key2\n",
      "key3\n"
     ]
    }
   ],
   "source": [
    "diccionario = {'key1': 'val1', 'key2': 'val2', 'key3': 'val3'}\n",
    "\n",
    "for llave in diccionario:\n",
    "    print(llave)"
   ]
  },
  {
   "cell_type": "code",
   "execution_count": 9,
   "id": "a993c633-8ca7-45d7-ae9f-4c20cefc2bfe",
   "metadata": {},
   "outputs": [
    {
     "name": "stdout",
     "output_type": "stream",
     "text": [
      "La lista tiene 5 elementos\n"
     ]
    }
   ],
   "source": [
    "listas = [2, 4, 6, 8, 10]\n",
    "\n",
    "longitud = 0\n",
    "for valor in listas:\n",
    "    longitud += 1\n",
    "print('La lista tiene', longitud, 'elementos') # nótese que en este renglón no usamos 'valor'"
   ]
  },
  {
   "cell_type": "code",
   "execution_count": 10,
   "id": "5cde8c43-88cf-451a-8c6a-632942cfae5e",
   "metadata": {},
   "outputs": [
    {
     "name": "stdout",
     "output_type": "stream",
     "text": [
      "El promedio de los valores de la lista es 6.0\n"
     ]
    }
   ],
   "source": [
    "listas = [2, 4, 6, 8, 10]\n",
    "\n",
    "promedio = 0\n",
    "for valor in listas:\n",
    "    promedio += valor\n",
    "\n",
    "promedio /= len(listas)\n",
    "print('El promedio de los valores de la lista es', promedio)"
   ]
  },
  {
   "cell_type": "code",
   "execution_count": 11,
   "id": "b4bffc64-5d5b-4783-b751-78417a27f2ab",
   "metadata": {},
   "outputs": [
    {
     "name": "stdout",
     "output_type": "stream",
     "text": [
      "El valor 2 es par, su cuadrado es 4\n",
      "El valor 4 es par, su cuadrado es 16\n",
      "El valor 6 es par, su cuadrado es 36\n",
      "El valor 8 es par, su cuadrado es 64\n",
      "El valor 10 es par, su cuadrado es 100\n",
      "El valor 11 es impar, (n+1)//2 es 6\n"
     ]
    }
   ],
   "source": [
    "# Usando \"listas = [2, 4, 6, 8, 10]\", sobre cada valor de listas determine:\n",
    "# Si el valor de la lista es par, calcule e imprime su valor cuadrado\n",
    "# Si el valor de la lista es impar, sume uno al valor y divídalo sobre 2 e imprima el resultado\n",
    "\n",
    "listas = [2, 4, 6, 8, 10, 11]\n",
    "\n",
    "for n in listas:\n",
    "    if n % 2 == 0:\n",
    "        print('El valor', n, 'es par, su cuadrado es', n**2)\n",
    "    else:\n",
    "        print('El valor', n, 'es impar, (n+1)//2 es', (n+1)//2)"
   ]
  }
 ],
 "metadata": {
  "kernelspec": {
   "display_name": "Python 3 (ipykernel)",
   "language": "python",
   "name": "python3"
  },
  "language_info": {
   "codemirror_mode": {
    "name": "ipython",
    "version": 3
   },
   "file_extension": ".py",
   "mimetype": "text/x-python",
   "name": "python",
   "nbconvert_exporter": "python",
   "pygments_lexer": "ipython3",
   "version": "3.13.7"
  }
 },
 "nbformat": 4,
 "nbformat_minor": 5
}
