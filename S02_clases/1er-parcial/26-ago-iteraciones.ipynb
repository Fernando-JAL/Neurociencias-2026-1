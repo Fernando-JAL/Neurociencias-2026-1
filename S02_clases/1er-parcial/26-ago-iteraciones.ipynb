{
 "cells": [
  {
   "cell_type": "markdown",
   "id": "c13d94a1-2a52-4166-ac51-1c5d4ca62152",
   "metadata": {},
   "source": [
    "# Iteraciones"
   ]
  },
  {
   "cell_type": "markdown",
   "id": "0ae93079-8dfb-4bd4-b631-7e2b6daf5a3b",
   "metadata": {},
   "source": [
    "### Sentencia While\n",
    "Se basa en repetir un bloque de código a partir de una condición lógica. Mientras la condición sea __True__, el bloque se repetirá."
   ]
  },
  {
   "cell_type": "code",
   "execution_count": 1,
   "id": "1a5368a0-779c-450d-a83a-75880ef2223f",
   "metadata": {},
   "outputs": [
    {
     "name": "stdout",
     "output_type": "stream",
     "text": [
      "El valor de la variable es 0\n",
      "Código después del while\n",
      "El valor de la variable es 2\n",
      "Código después del while\n",
      "El valor de la variable es 4\n",
      "Código después del while\n",
      "El valor de la variable es 6\n",
      "Código después del while\n",
      "El valor de la variable es 8\n",
      "Código después del while\n",
      "El valor de la variable es 10\n",
      "Código después del while\n",
      "El valor de la variable es 12\n",
      "Código después del while\n",
      "El valor de la variable es 14\n",
      "Código después del while\n",
      "El valor de la variable es 16\n",
      "Código después del while\n",
      "El valor de la variable es 18\n",
      "Código después del while\n"
     ]
    }
   ],
   "source": [
    "variable = 0\n",
    "while variable < 20:\n",
    "    print('El valor de la variable es', variable)\n",
    "    variable +=2\n",
    "    print('Código después del while') "
   ]
  },
  {
   "cell_type": "markdown",
   "id": "b27836e9-0ef5-4937-b3f7-3489a6541796",
   "metadata": {},
   "source": [
    "### Break"
   ]
  },
  {
   "cell_type": "code",
   "execution_count": 2,
   "id": "95060359-d1b5-424e-a19f-992a72faa80d",
   "metadata": {},
   "outputs": [
    {
     "name": "stdout",
     "output_type": "stream",
     "text": [
      "1\n",
      "2\n",
      "3\n",
      "4\n",
      "5\n",
      "6\n",
      "Código en el else del while\n",
      "Código después del while\n"
     ]
    }
   ],
   "source": [
    "variable = 0\n",
    "while variable <= 5:\n",
    "    variable += 1\n",
    "    print(variable)\n",
    "else:\n",
    "    print('Código en el else del while')\n",
    "\n",
    "print('Código después del while')"
   ]
  },
  {
   "cell_type": "code",
   "execution_count": 3,
   "id": "4252cad1-c0f5-4bc4-808f-84ef86c44833",
   "metadata": {},
   "outputs": [
    {
     "name": "stdout",
     "output_type": "stream",
     "text": [
      "1\n",
      "2\n",
      "3\n",
      "Entro al condicional para activar el break\n",
      "Código después del while\n"
     ]
    }
   ],
   "source": [
    "variable = 0\n",
    "while variable <= 5:\n",
    "    variable += 1\n",
    "    print(variable)\n",
    "    if variable == 3:\n",
    "        print('Entro al condicional para activar el break')\n",
    "        break # Termina todo\n",
    "else:\n",
    "    print('Código en el else del while')\n",
    "\n",
    "print('Código después del while')\n",
    "\n",
    "# Es decir, una vez llegas al break, bye a lo demás"
   ]
  },
  {
   "cell_type": "markdown",
   "id": "09376e04-6aa5-4bb0-b8a2-b0180819491e",
   "metadata": {},
   "source": [
    "### Continue"
   ]
  },
  {
   "cell_type": "code",
   "execution_count": 4,
   "id": "fb560fca-b189-4ad5-a6b3-117583b1ffd9",
   "metadata": {},
   "outputs": [
    {
     "name": "stdout",
     "output_type": "stream",
     "text": [
      "1\n",
      "Código después del condicional del continue\n",
      "2\n",
      "Código después del condicional del continue\n",
      "3\n",
      "Entro al condicional para activar el continue\n",
      "4\n",
      "Código después del condicional del continue\n",
      "5\n",
      "Código después del condicional del continue\n",
      "6\n",
      "Código después del condicional del continue\n",
      "Código en el else del while\n",
      "Código después del while\n"
     ]
    }
   ],
   "source": [
    "variable = 0\n",
    "while variable <= 5:\n",
    "    variable += 1\n",
    "    print(variable)\n",
    "    if variable == 3:\n",
    "        print('Entro al condicional para activar el continue')\n",
    "        continue # Termina solo esa iteración\n",
    "    print('Código después del condicional del continue')\n",
    "else:\n",
    "    print('Código en el else del while')\n",
    "\n",
    "print('Código después del while')"
   ]
  },
  {
   "cell_type": "markdown",
   "id": "8bc12b71-d573-42d5-a584-6ea2e78386e5",
   "metadata": {},
   "source": [
    "# Modificar una lista al vuelo"
   ]
  },
  {
   "cell_type": "code",
   "execution_count": 5,
   "id": "0cbe6e4f-b117-4cbb-b60d-990beb7781f1",
   "metadata": {},
   "outputs": [
    {
     "data": {
      "text/plain": [
       "[52, 54, 56, 58, 60, 61]"
      ]
     },
     "execution_count": 5,
     "metadata": {},
     "output_type": "execute_result"
    }
   ],
   "source": [
    "listas = [2, 4, 6, 8, 10, 11]\n",
    "\n",
    "indice = 0\n",
    "for _ in listas:\n",
    "    listas[indice] += 50\n",
    "    indice += 1\n",
    "\n",
    "listas"
   ]
  },
  {
   "cell_type": "markdown",
   "id": "5a925556-bc0f-4411-8399-8ba70cd01056",
   "metadata": {},
   "source": [
    "# Método enumerate (iterable, start = 0)\n",
    "Regresará un objeto _enumerate_. Este método regresará una tupla de pares, donde el primer elemento será un entero que comenzará en _start_, y el segundo elemento de la tupla tendrá el valor del objeto _iterable_."
   ]
  },
  {
   "cell_type": "code",
   "execution_count": 6,
   "id": "b51c4cb1-7ba5-4909-80da-26ec7533af5e",
   "metadata": {},
   "outputs": [
    {
     "data": {
      "text/plain": [
       "['Cadena', 'con', 'espacios']"
      ]
     },
     "execution_count": 6,
     "metadata": {},
     "output_type": "execute_result"
    }
   ],
   "source": [
    "\"Cadena con espacios\".split(sep=\" \") # Método"
   ]
  },
  {
   "cell_type": "code",
   "execution_count": 7,
   "id": "921dce5a-ae1c-4b8a-8615-465ae22add31",
   "metadata": {},
   "outputs": [
    {
     "data": {
      "text/plain": [
       "[(-20, 2), (-19, 4), (-18, 6), (-17, 8), (-16, 10)]"
      ]
     },
     "execution_count": 7,
     "metadata": {},
     "output_type": "execute_result"
    }
   ],
   "source": [
    "list(enumerate([2,4,6,8,10], start = -20))"
   ]
  },
  {
   "cell_type": "code",
   "execution_count": 8,
   "id": "09702555-97d8-4be8-ae87-476a7f4a293a",
   "metadata": {},
   "outputs": [
    {
     "data": {
      "text/plain": [
       "[(0, 'C'), (1, 'a'), (2, 'd'), (3, 'e'), (4, 'n'), (5, 'a')]"
      ]
     },
     "execution_count": 8,
     "metadata": {},
     "output_type": "execute_result"
    }
   ],
   "source": [
    "list(enumerate('Cadena')) # No es obligatorio especificar el valor de start"
   ]
  },
  {
   "cell_type": "code",
   "execution_count": 9,
   "id": "1077ae23-f68e-48cb-8ab1-bf06222993e6",
   "metadata": {},
   "outputs": [
    {
     "data": {
      "text/plain": [
       "[102, 104, 106, 108, 110, 111]"
      ]
     },
     "execution_count": 9,
     "metadata": {},
     "output_type": "execute_result"
    }
   ],
   "source": [
    "list = [2,4,6,8,10]\n",
    "\n",
    "for indice, _ in enumerate(listas):\n",
    "    listas[indice] += 50\n",
    "    indice += 1\n",
    "listas"
   ]
  }
 ],
 "metadata": {
  "kernelspec": {
   "display_name": "Python 3 (ipykernel)",
   "language": "python",
   "name": "python3"
  },
  "language_info": {
   "codemirror_mode": {
    "name": "ipython",
    "version": 3
   },
   "file_extension": ".py",
   "mimetype": "text/x-python",
   "name": "python",
   "nbconvert_exporter": "python",
   "pygments_lexer": "ipython3",
   "version": "3.13.7"
  }
 },
 "nbformat": 4,
 "nbformat_minor": 5
}
