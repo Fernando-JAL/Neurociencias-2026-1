{
 "cells": [
  {
   "cell_type": "markdown",
   "id": "4f459887-dc56-4216-b2b7-1e24980f3f33",
   "metadata": {},
   "source": [
    "# Listas"
   ]
  },
  {
   "cell_type": "code",
   "execution_count": 8,
   "id": "16c4d2c7-3548-412d-aa4d-6536bcd0e6fd",
   "metadata": {},
   "outputs": [
    {
     "data": {
      "text/plain": [
       "['rojo', 2.3, 100, 'chocolate', 'nuez']"
      ]
     },
     "execution_count": 8,
     "metadata": {},
     "output_type": "execute_result"
    }
   ],
   "source": [
    "lista = ['rojo', 2.3, 100, 'chocolate']\n",
    "# Agregar elemento a lista preexistente\n",
    "lista.append('nuez')\n",
    "lista"
   ]
  },
  {
   "cell_type": "code",
   "execution_count": 9,
   "id": "42647262-e68b-4045-8dd8-73bb25b41fa2",
   "metadata": {},
   "outputs": [
    {
     "data": {
      "text/plain": [
       "list"
      ]
     },
     "execution_count": 9,
     "metadata": {},
     "output_type": "execute_result"
    }
   ],
   "source": [
    "lista_vacia = [] \n",
    "# ¿Cómo podemos confirmar que lista_vacia es una lista?\n",
    "type(lista_vacia)"
   ]
  },
  {
   "cell_type": "code",
   "execution_count": 10,
   "id": "b9056978-d448-4784-b094-b9b25524a2e5",
   "metadata": {},
   "outputs": [
    {
     "data": {
      "text/plain": [
       "['rojo', 2.3, 100, 'chocolate', 4, 2, 6]"
      ]
     },
     "execution_count": 10,
     "metadata": {},
     "output_type": "execute_result"
    }
   ],
   "source": [
    "# Modificar elemento en lista preexistente: nuez → [4,2,6]\n",
    "lista[-1:] = [4,2,6] # Si solo fuera [-1], nuez → 4; el \":\" dentro de [-1] toma toda la lista tal que nuez → [4,2,6] \n",
    "lista"
   ]
  },
  {
   "cell_type": "code",
   "execution_count": 11,
   "id": "e17841a5-0923-469d-a5b4-fb2570fb165f",
   "metadata": {},
   "outputs": [
    {
     "data": {
      "text/plain": [
       "7"
      ]
     },
     "execution_count": 11,
     "metadata": {},
     "output_type": "execute_result"
    }
   ],
   "source": [
    "len(lista)"
   ]
  },
  {
   "cell_type": "code",
   "execution_count": 12,
   "id": "2298bc86-243d-40ea-af62-5141ff9af981",
   "metadata": {},
   "outputs": [
    {
     "data": {
      "text/plain": [
       "['rojo', 2.3, 'chocolate', 4, 2, 6]"
      ]
     },
     "execution_count": 12,
     "metadata": {},
     "output_type": "execute_result"
    }
   ],
   "source": [
    "# Eliminar elemento de una lista, supongamos \"100\" (posición 2, no olvides que toda lista comienza con 0) \n",
    "del lista[2]\n",
    "lista"
   ]
  },
  {
   "cell_type": "code",
   "execution_count": 14,
   "id": "11d924ae-029c-4417-b5c9-532937591eb1",
   "metadata": {},
   "outputs": [
    {
     "data": {
      "text/plain": [
       "['rojo', 2.3]"
      ]
     },
     "execution_count": 14,
     "metadata": {},
     "output_type": "execute_result"
    }
   ],
   "source": [
    "del lista[2:5]\n",
    "lista"
   ]
  },
  {
   "cell_type": "code",
   "execution_count": 15,
   "id": "9b56b676-4ba3-4de2-9373-0e895b1a42ff",
   "metadata": {},
   "outputs": [
    {
     "data": {
      "text/plain": [
       "[2.3]"
      ]
     },
     "execution_count": 15,
     "metadata": {},
     "output_type": "execute_result"
    }
   ],
   "source": [
    "del lista[0]\n",
    "lista"
   ]
  },
  {
   "cell_type": "code",
   "execution_count": 16,
   "id": "06894b0a-a550-45c4-a387-d0d61556d12a",
   "metadata": {},
   "outputs": [
    {
     "data": {
      "text/plain": [
       "[]"
      ]
     },
     "execution_count": 16,
     "metadata": {},
     "output_type": "execute_result"
    }
   ],
   "source": [
    "del lista[0]\n",
    "lista"
   ]
  },
  {
   "cell_type": "code",
   "execution_count": 29,
   "id": "f437f032-762e-4b50-981a-879f8bf8e8d9",
   "metadata": {},
   "outputs": [
    {
     "data": {
      "text/plain": [
       "[7, 8, 9]"
      ]
     },
     "execution_count": 29,
     "metadata": {},
     "output_type": "execute_result"
    }
   ],
   "source": [
    "matriz = [[1,2,3], [4,5,6], [7,8,9], [10,11,12]]\n",
    "a = matriz[2]\n",
    "a"
   ]
  },
  {
   "cell_type": "code",
   "execution_count": 30,
   "id": "9ce46762-765a-41af-980a-9037a3d5629b",
   "metadata": {},
   "outputs": [
    {
     "data": {
      "text/plain": [
       "9"
      ]
     },
     "execution_count": 30,
     "metadata": {},
     "output_type": "execute_result"
    }
   ],
   "source": [
    "a[-1] # Esto también puede verse como matriz[2][-1]"
   ]
  },
  {
   "cell_type": "code",
   "execution_count": 31,
   "id": "825ac405-848b-40e8-8660-3a2d9e8a2bbc",
   "metadata": {},
   "outputs": [
    {
     "data": {
      "text/plain": [
       "4"
      ]
     },
     "execution_count": 31,
     "metadata": {},
     "output_type": "execute_result"
    }
   ],
   "source": [
    "matriz[1][0] # Elemento 1 ([4,5,6]) de matriz = [[1,2,3], [4,5,6], [7,8,9], [10,11,12]], subelemento 0 (4)"
   ]
  }
 ],
 "metadata": {
  "kernelspec": {
   "display_name": "Python 3 (ipykernel)",
   "language": "python",
   "name": "python3"
  },
  "language_info": {
   "codemirror_mode": {
    "name": "ipython",
    "version": 3
   },
   "file_extension": ".py",
   "mimetype": "text/x-python",
   "name": "python",
   "nbconvert_exporter": "python",
   "pygments_lexer": "ipython3",
   "version": "3.13.7"
  }
 },
 "nbformat": 4,
 "nbformat_minor": 5
}
