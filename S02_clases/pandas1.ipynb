{
 "cells": [
  {
   "cell_type": "code",
   "execution_count": 2,
   "id": "162d54a9-d1ed-4edd-81f3-c3a31a70c535",
   "metadata": {},
   "outputs": [],
   "source": [
    "import pandas as pd   "
   ]
  },
  {
   "cell_type": "code",
   "execution_count": 18,
   "id": "df24e1ba-f9ea-4c98-971f-53cd216242ca",
   "metadata": {},
   "outputs": [],
   "source": [
    "valores=[6,8,9,13]\n",
    "indice= range(len(valores))\n",
    "\n",
    "\n",
    "serie1=pd.Series(data=valores, index = indice)"
   ]
  },
  {
   "cell_type": "code",
   "execution_count": 20,
   "id": "a4f8a9ab-4ccf-48d9-94fb-8abc82d1f815",
   "metadata": {},
   "outputs": [
    {
     "data": {
      "text/plain": [
       "0    34.00\n",
       "1    11.16\n",
       "2    12.00\n",
       "3    58.00\n",
       "dtype: float64"
      ]
     },
     "execution_count": 20,
     "metadata": {},
     "output_type": "execute_result"
    }
   ],
   "source": [
    "valores2=[28,3.16,3,45]\n",
    "serie2=pd.Series(index=indice, data=valores2)\n",
    "serie1+serie2"
   ]
  },
  {
   "cell_type": "code",
   "execution_count": 21,
   "id": "d4bb11c3-1a19-48a3-a9ca-0b5c35ffef49",
   "metadata": {},
   "outputs": [
    {
     "data": {
      "text/plain": [
       "0    6.140942e+21\n",
       "1    7.141088e+02\n",
       "2    7.290000e+02\n",
       "3    1.341068e+50\n",
       "dtype: float64"
      ]
     },
     "execution_count": 21,
     "metadata": {},
     "output_type": "execute_result"
    }
   ],
   "source": [
    "serie1**serie2"
   ]
  },
  {
   "cell_type": "code",
   "execution_count": 24,
   "id": "b804af4f-cae9-4417-896d-8b2f4c432472",
   "metadata": {},
   "outputs": [],
   "source": [
    "import numpy as np"
   ]
  },
  {
   "cell_type": "code",
   "execution_count": 27,
   "id": "91ec3fdd-e132-4a95-9f7a-1dd14f6eb92f",
   "metadata": {},
   "outputs": [
    {
     "data": {
      "text/plain": [
       "array([[-22.43420449, -17.65364004,  -9.5745452 , -14.95862204],\n",
       "       [  5.38305521,  -8.18840205,  -5.07849113,  -6.2097033 ],\n",
       "       [  3.45169744,  11.02744415,   2.09309561,  -3.82711515],\n",
       "       [-24.100262  , -19.27098553, -22.98514462, -18.01061576]])"
      ]
     },
     "execution_count": 27,
     "metadata": {},
     "output_type": "execute_result"
    }
   ],
   "source": [
    "array= np.random.normal(-10, 10, size=[4,4\n",
    "                                      ])\n",
    "array"
   ]
  },
  {
   "cell_type": "code",
   "execution_count": 31,
   "id": "f7c92578-0bb6-429f-9525-12a7dcdc7e8f",
   "metadata": {},
   "outputs": [
    {
     "data": {
      "text/html": [
       "<div>\n",
       "<style scoped>\n",
       "    .dataframe tbody tr th:only-of-type {\n",
       "        vertical-align: middle;\n",
       "    }\n",
       "\n",
       "    .dataframe tbody tr th {\n",
       "        vertical-align: top;\n",
       "    }\n",
       "\n",
       "    .dataframe thead th {\n",
       "        text-align: right;\n",
       "    }\n",
       "</style>\n",
       "<table border=\"1\" class=\"dataframe\">\n",
       "  <thead>\n",
       "    <tr style=\"text-align: right;\">\n",
       "      <th></th>\n",
       "      <th>w</th>\n",
       "      <th>x</th>\n",
       "    </tr>\n",
       "  </thead>\n",
       "  <tbody>\n",
       "    <tr>\n",
       "      <th>a</th>\n",
       "      <td>2</td>\n",
       "      <td>3</td>\n",
       "    </tr>\n",
       "    <tr>\n",
       "      <th>b</th>\n",
       "      <td>4</td>\n",
       "      <td>5</td>\n",
       "    </tr>\n",
       "  </tbody>\n",
       "</table>\n",
       "</div>"
      ],
      "text/plain": [
       "   w  x\n",
       "a  2  3\n",
       "b  4  5"
      ]
     },
     "execution_count": 31,
     "metadata": {},
     "output_type": "execute_result"
    }
   ],
   "source": [
    "pd.DataFrame([[2,3], [4,5]],index=['a', 'b'], columns=['w','x'])##por default, los indices empiezan en 0, pero se pueden\n",
    "# especificar. Es importante encerrar en corchetes los datos."
   ]
  },
  {
   "cell_type": "code",
   "execution_count": 73,
   "id": "ef35f4a9-7a1a-4f5e-a2b9-083c46723a54",
   "metadata": {},
   "outputs": [
    {
     "data": {
      "text/html": [
       "<div>\n",
       "<style scoped>\n",
       "    .dataframe tbody tr th:only-of-type {\n",
       "        vertical-align: middle;\n",
       "    }\n",
       "\n",
       "    .dataframe tbody tr th {\n",
       "        vertical-align: top;\n",
       "    }\n",
       "\n",
       "    .dataframe thead th {\n",
       "        text-align: right;\n",
       "    }\n",
       "</style>\n",
       "<table border=\"1\" class=\"dataframe\">\n",
       "  <thead>\n",
       "    <tr style=\"text-align: right;\">\n",
       "      <th></th>\n",
       "      <th>w</th>\n",
       "      <th>x</th>\n",
       "      <th>y</th>\n",
       "      <th>z</th>\n",
       "    </tr>\n",
       "  </thead>\n",
       "  <tbody>\n",
       "    <tr>\n",
       "      <th>1</th>\n",
       "      <td>-22.434204</td>\n",
       "      <td>-17.653640</td>\n",
       "      <td>-9.574545</td>\n",
       "      <td>-14.958622</td>\n",
       "    </tr>\n",
       "    <tr>\n",
       "      <th>2</th>\n",
       "      <td>5.383055</td>\n",
       "      <td>-8.188402</td>\n",
       "      <td>-5.078491</td>\n",
       "      <td>-6.209703</td>\n",
       "    </tr>\n",
       "    <tr>\n",
       "      <th>3</th>\n",
       "      <td>3.451697</td>\n",
       "      <td>11.027444</td>\n",
       "      <td>2.093096</td>\n",
       "      <td>-3.827115</td>\n",
       "    </tr>\n",
       "    <tr>\n",
       "      <th>4</th>\n",
       "      <td>-24.100262</td>\n",
       "      <td>-19.270986</td>\n",
       "      <td>-22.985145</td>\n",
       "      <td>-18.010616</td>\n",
       "    </tr>\n",
       "  </tbody>\n",
       "</table>\n",
       "</div>"
      ],
      "text/plain": [
       "           w          x          y          z\n",
       "1 -22.434204 -17.653640  -9.574545 -14.958622\n",
       "2   5.383055  -8.188402  -5.078491  -6.209703\n",
       "3   3.451697  11.027444   2.093096  -3.827115\n",
       "4 -24.100262 -19.270986 -22.985145 -18.010616"
      ]
     },
     "execution_count": 73,
     "metadata": {},
     "output_type": "execute_result"
    }
   ],
   "source": [
    "df=pd.DataFrame(array, index=range(1,len(array)+1), columns=['w','x','y','z'])\n",
    "df"
   ]
  },
  {
   "cell_type": "code",
   "execution_count": 40,
   "id": "bd52b677-2419-4c5b-9a1d-bc8aee40f334",
   "metadata": {},
   "outputs": [
    {
     "data": {
      "text/plain": [
       "pandas.core.series.Series"
      ]
     },
     "execution_count": 40,
     "metadata": {},
     "output_type": "execute_result"
    }
   ],
   "source": [
    "type(df['x'])"
   ]
  },
  {
   "cell_type": "code",
   "execution_count": 41,
   "id": "39b5a9a4-8e74-4409-a1bf-179aaf8e5129",
   "metadata": {},
   "outputs": [
    {
     "data": {
      "text/plain": [
       "1   -17.653640\n",
       "2    -8.188402\n",
       "3    11.027444\n",
       "4   -19.270986\n",
       "Name: x, dtype: float64"
      ]
     },
     "execution_count": 41,
     "metadata": {},
     "output_type": "execute_result"
    }
   ],
   "source": [
    "df['x']"
   ]
  },
  {
   "cell_type": "code",
   "execution_count": 44,
   "id": "d10d3698-f6b7-4504-80de-d33ac6389dde",
   "metadata": {},
   "outputs": [
    {
     "data": {
      "text/plain": [
       "np.float64(11.027444153176855)"
      ]
     },
     "execution_count": 44,
     "metadata": {},
     "output_type": "execute_result"
    }
   ],
   "source": [
    "df['x'][3]"
   ]
  },
  {
   "cell_type": "code",
   "execution_count": 51,
   "id": "af252f92-ad96-4bc2-ae2a-243fa0989742",
   "metadata": {},
   "outputs": [
    {
     "ename": "SyntaxError",
     "evalue": "invalid syntax (1007170697.py, line 2)",
     "output_type": "error",
     "traceback": [
      "\u001b[1;36m  Cell \u001b[1;32mIn[51], line 2\u001b[1;36m\u001b[0m\n\u001b[1;33m    df.1\u001b[0m\n\u001b[1;37m      ^\u001b[0m\n\u001b[1;31mSyntaxError\u001b[0m\u001b[1;31m:\u001b[0m invalid syntax\n"
     ]
    }
   ],
   "source": [
    "df.X ##puedes mandar a llamar variables como propiedades"
   ]
  },
  {
   "cell_type": "code",
   "execution_count": 61,
   "id": "f8ff82bc-51fd-4aa7-88b0-9db5ce2459e5",
   "metadata": {},
   "outputs": [
    {
     "data": {
      "text/plain": [
       "1   -32.612262\n",
       "2   -14.398105\n",
       "3     7.200329\n",
       "4   -37.281601\n",
       "dtype: float64"
      ]
     },
     "execution_count": 61,
     "metadata": {},
     "output_type": "execute_result"
    }
   ],
   "source": [
    "df"
   ]
  },
  {
   "cell_type": "code",
   "execution_count": 53,
   "id": "949719f7-7c56-4611-bf2c-4c9a8de86d2a",
   "metadata": {},
   "outputs": [
    {
     "data": {
      "text/html": [
       "<div>\n",
       "<style scoped>\n",
       "    .dataframe tbody tr th:only-of-type {\n",
       "        vertical-align: middle;\n",
       "    }\n",
       "\n",
       "    .dataframe tbody tr th {\n",
       "        vertical-align: top;\n",
       "    }\n",
       "\n",
       "    .dataframe thead th {\n",
       "        text-align: right;\n",
       "    }\n",
       "</style>\n",
       "<table border=\"1\" class=\"dataframe\">\n",
       "  <thead>\n",
       "    <tr style=\"text-align: right;\">\n",
       "      <th></th>\n",
       "      <th>w</th>\n",
       "      <th>y</th>\n",
       "    </tr>\n",
       "  </thead>\n",
       "  <tbody>\n",
       "    <tr>\n",
       "      <th>1</th>\n",
       "      <td>-22.434204</td>\n",
       "      <td>-9.574545</td>\n",
       "    </tr>\n",
       "    <tr>\n",
       "      <th>2</th>\n",
       "      <td>5.383055</td>\n",
       "      <td>-5.078491</td>\n",
       "    </tr>\n",
       "    <tr>\n",
       "      <th>3</th>\n",
       "      <td>3.451697</td>\n",
       "      <td>2.093096</td>\n",
       "    </tr>\n",
       "    <tr>\n",
       "      <th>4</th>\n",
       "      <td>-24.100262</td>\n",
       "      <td>-22.985145</td>\n",
       "    </tr>\n",
       "  </tbody>\n",
       "</table>\n",
       "</div>"
      ],
      "text/plain": [
       "           w          y\n",
       "1 -22.434204  -9.574545\n",
       "2   5.383055  -5.078491\n",
       "3   3.451697   2.093096\n",
       "4 -24.100262 -22.985145"
      ]
     },
     "execution_count": 53,
     "metadata": {},
     "output_type": "execute_result"
    }
   ],
   "source": [
    "df[['w', 'y']] ##primeros corchetes son para sliceaf, y os otros para enlistar"
   ]
  },
  {
   "cell_type": "code",
   "execution_count": 55,
   "id": "4d7b35a0-8628-46f6-b015-34c48bfdb14c",
   "metadata": {},
   "outputs": [
    {
     "data": {
      "text/html": [
       "<div>\n",
       "<style scoped>\n",
       "    .dataframe tbody tr th:only-of-type {\n",
       "        vertical-align: middle;\n",
       "    }\n",
       "\n",
       "    .dataframe tbody tr th {\n",
       "        vertical-align: top;\n",
       "    }\n",
       "\n",
       "    .dataframe thead th {\n",
       "        text-align: right;\n",
       "    }\n",
       "</style>\n",
       "<table border=\"1\" class=\"dataframe\">\n",
       "  <thead>\n",
       "    <tr style=\"text-align: right;\">\n",
       "      <th></th>\n",
       "      <th>w</th>\n",
       "      <th>x</th>\n",
       "      <th>y</th>\n",
       "      <th>z</th>\n",
       "    </tr>\n",
       "  </thead>\n",
       "  <tbody>\n",
       "    <tr>\n",
       "      <th>1</th>\n",
       "      <td>-22.434204</td>\n",
       "      <td>-17.653640</td>\n",
       "      <td>-9.574545</td>\n",
       "      <td>-14.958622</td>\n",
       "    </tr>\n",
       "    <tr>\n",
       "      <th>2</th>\n",
       "      <td>5.383055</td>\n",
       "      <td>-8.188402</td>\n",
       "      <td>-5.078491</td>\n",
       "      <td>-6.209703</td>\n",
       "    </tr>\n",
       "    <tr>\n",
       "      <th>3</th>\n",
       "      <td>3.451697</td>\n",
       "      <td>11.027444</td>\n",
       "      <td>2.093096</td>\n",
       "      <td>-3.827115</td>\n",
       "    </tr>\n",
       "    <tr>\n",
       "      <th>4</th>\n",
       "      <td>-24.100262</td>\n",
       "      <td>-19.270986</td>\n",
       "      <td>-22.985145</td>\n",
       "      <td>-18.010616</td>\n",
       "    </tr>\n",
       "  </tbody>\n",
       "</table>\n",
       "</div>"
      ],
      "text/plain": [
       "           w          x          y          z\n",
       "1 -22.434204 -17.653640  -9.574545 -14.958622\n",
       "2   5.383055  -8.188402  -5.078491  -6.209703\n",
       "3   3.451697  11.027444   2.093096  -3.827115\n",
       "4 -24.100262 -19.270986 -22.985145 -18.010616"
      ]
     },
     "execution_count": 55,
     "metadata": {},
     "output_type": "execute_result"
    }
   ],
   "source": [
    "df"
   ]
  },
  {
   "cell_type": "code",
   "execution_count": 69,
   "id": "780d1515-bf24-423f-8ba7-50be68a8ab95",
   "metadata": {},
   "outputs": [
    {
     "data": {
      "text/html": [
       "<div>\n",
       "<style scoped>\n",
       "    .dataframe tbody tr th:only-of-type {\n",
       "        vertical-align: middle;\n",
       "    }\n",
       "\n",
       "    .dataframe tbody tr th {\n",
       "        vertical-align: top;\n",
       "    }\n",
       "\n",
       "    .dataframe thead th {\n",
       "        text-align: right;\n",
       "    }\n",
       "</style>\n",
       "<table border=\"1\" class=\"dataframe\">\n",
       "  <thead>\n",
       "    <tr style=\"text-align: right;\">\n",
       "      <th></th>\n",
       "      <th>w</th>\n",
       "      <th>x</th>\n",
       "      <th>y</th>\n",
       "      <th>z</th>\n",
       "      <th>suma_x_z</th>\n",
       "    </tr>\n",
       "  </thead>\n",
       "  <tbody>\n",
       "    <tr>\n",
       "      <th>1</th>\n",
       "      <td>-22.434204</td>\n",
       "      <td>-17.653640</td>\n",
       "      <td>-9.574545</td>\n",
       "      <td>-14.958622</td>\n",
       "      <td>-32.612262</td>\n",
       "    </tr>\n",
       "    <tr>\n",
       "      <th>2</th>\n",
       "      <td>5.383055</td>\n",
       "      <td>-8.188402</td>\n",
       "      <td>-5.078491</td>\n",
       "      <td>-6.209703</td>\n",
       "      <td>-14.398105</td>\n",
       "    </tr>\n",
       "    <tr>\n",
       "      <th>3</th>\n",
       "      <td>3.451697</td>\n",
       "      <td>11.027444</td>\n",
       "      <td>2.093096</td>\n",
       "      <td>-3.827115</td>\n",
       "      <td>7.200329</td>\n",
       "    </tr>\n",
       "    <tr>\n",
       "      <th>4</th>\n",
       "      <td>-24.100262</td>\n",
       "      <td>-19.270986</td>\n",
       "      <td>-22.985145</td>\n",
       "      <td>-18.010616</td>\n",
       "      <td>-37.281601</td>\n",
       "    </tr>\n",
       "  </tbody>\n",
       "</table>\n",
       "</div>"
      ],
      "text/plain": [
       "           w          x          y          z   suma_x_z\n",
       "1 -22.434204 -17.653640  -9.574545 -14.958622 -32.612262\n",
       "2   5.383055  -8.188402  -5.078491  -6.209703 -14.398105\n",
       "3   3.451697  11.027444   2.093096  -3.827115   7.200329\n",
       "4 -24.100262 -19.270986 -22.985145 -18.010616 -37.281601"
      ]
     },
     "execution_count": 69,
     "metadata": {},
     "output_type": "execute_result"
    }
   ],
   "source": [
    "df['suma_x_z']= df.x+ df.z\n",
    "df"
   ]
  },
  {
   "cell_type": "code",
   "execution_count": 74,
   "id": "5fee6b64-10f6-4547-9abb-fbe49c3b8383",
   "metadata": {},
   "outputs": [
    {
     "data": {
      "text/html": [
       "<div>\n",
       "<style scoped>\n",
       "    .dataframe tbody tr th:only-of-type {\n",
       "        vertical-align: middle;\n",
       "    }\n",
       "\n",
       "    .dataframe tbody tr th {\n",
       "        vertical-align: top;\n",
       "    }\n",
       "\n",
       "    .dataframe thead th {\n",
       "        text-align: right;\n",
       "    }\n",
       "</style>\n",
       "<table border=\"1\" class=\"dataframe\">\n",
       "  <thead>\n",
       "    <tr style=\"text-align: right;\">\n",
       "      <th></th>\n",
       "      <th>w</th>\n",
       "      <th>x</th>\n",
       "      <th>z</th>\n",
       "    </tr>\n",
       "  </thead>\n",
       "  <tbody>\n",
       "    <tr>\n",
       "      <th>1</th>\n",
       "      <td>-22.434204</td>\n",
       "      <td>-17.653640</td>\n",
       "      <td>-14.958622</td>\n",
       "    </tr>\n",
       "    <tr>\n",
       "      <th>2</th>\n",
       "      <td>5.383055</td>\n",
       "      <td>-8.188402</td>\n",
       "      <td>-6.209703</td>\n",
       "    </tr>\n",
       "    <tr>\n",
       "      <th>3</th>\n",
       "      <td>3.451697</td>\n",
       "      <td>11.027444</td>\n",
       "      <td>-3.827115</td>\n",
       "    </tr>\n",
       "    <tr>\n",
       "      <th>4</th>\n",
       "      <td>-24.100262</td>\n",
       "      <td>-19.270986</td>\n",
       "      <td>-18.010616</td>\n",
       "    </tr>\n",
       "  </tbody>\n",
       "</table>\n",
       "</div>"
      ],
      "text/plain": [
       "           w          x          z\n",
       "1 -22.434204 -17.653640 -14.958622\n",
       "2   5.383055  -8.188402  -6.209703\n",
       "3   3.451697  11.027444  -3.827115\n",
       "4 -24.100262 -19.270986 -18.010616"
      ]
     },
     "execution_count": 74,
     "metadata": {},
     "output_type": "execute_result"
    }
   ],
   "source": [
    "df.drop('y', axis=1) ##axis=1 es especificar que quieres borrar columnas, axis=0 es paera borrar filas"
   ]
  },
  {
   "cell_type": "code",
   "execution_count": 75,
   "id": "b7c7ff50-f304-40f9-801f-1476cea96352",
   "metadata": {},
   "outputs": [
    {
     "data": {
      "text/html": [
       "<div>\n",
       "<style scoped>\n",
       "    .dataframe tbody tr th:only-of-type {\n",
       "        vertical-align: middle;\n",
       "    }\n",
       "\n",
       "    .dataframe tbody tr th {\n",
       "        vertical-align: top;\n",
       "    }\n",
       "\n",
       "    .dataframe thead th {\n",
       "        text-align: right;\n",
       "    }\n",
       "</style>\n",
       "<table border=\"1\" class=\"dataframe\">\n",
       "  <thead>\n",
       "    <tr style=\"text-align: right;\">\n",
       "      <th></th>\n",
       "      <th>w</th>\n",
       "      <th>x</th>\n",
       "      <th>y</th>\n",
       "      <th>z</th>\n",
       "    </tr>\n",
       "  </thead>\n",
       "  <tbody>\n",
       "    <tr>\n",
       "      <th>1</th>\n",
       "      <td>-22.434204</td>\n",
       "      <td>-17.653640</td>\n",
       "      <td>-9.574545</td>\n",
       "      <td>-14.958622</td>\n",
       "    </tr>\n",
       "    <tr>\n",
       "      <th>2</th>\n",
       "      <td>5.383055</td>\n",
       "      <td>-8.188402</td>\n",
       "      <td>-5.078491</td>\n",
       "      <td>-6.209703</td>\n",
       "    </tr>\n",
       "    <tr>\n",
       "      <th>3</th>\n",
       "      <td>3.451697</td>\n",
       "      <td>11.027444</td>\n",
       "      <td>2.093096</td>\n",
       "      <td>-3.827115</td>\n",
       "    </tr>\n",
       "    <tr>\n",
       "      <th>4</th>\n",
       "      <td>-24.100262</td>\n",
       "      <td>-19.270986</td>\n",
       "      <td>-22.985145</td>\n",
       "      <td>-18.010616</td>\n",
       "    </tr>\n",
       "  </tbody>\n",
       "</table>\n",
       "</div>"
      ],
      "text/plain": [
       "           w          x          y          z\n",
       "1 -22.434204 -17.653640  -9.574545 -14.958622\n",
       "2   5.383055  -8.188402  -5.078491  -6.209703\n",
       "3   3.451697  11.027444   2.093096  -3.827115\n",
       "4 -24.100262 -19.270986 -22.985145 -18.010616"
      ]
     },
     "execution_count": 75,
     "metadata": {},
     "output_type": "execute_result"
    }
   ],
   "source": [
    "df"
   ]
  },
  {
   "cell_type": "code",
   "execution_count": 77,
   "id": "10e8f344-b5d2-4d9a-afd4-b47ab672e8d2",
   "metadata": {},
   "outputs": [],
   "source": [
    "df.drop('y', axis=1, inplace=True) ##hacer el dorping permanente"
   ]
  },
  {
   "cell_type": "code",
   "execution_count": 78,
   "id": "24bcf278-cc42-4020-ab4f-2b5b52a50d0f",
   "metadata": {},
   "outputs": [
    {
     "data": {
      "text/html": [
       "<div>\n",
       "<style scoped>\n",
       "    .dataframe tbody tr th:only-of-type {\n",
       "        vertical-align: middle;\n",
       "    }\n",
       "\n",
       "    .dataframe tbody tr th {\n",
       "        vertical-align: top;\n",
       "    }\n",
       "\n",
       "    .dataframe thead th {\n",
       "        text-align: right;\n",
       "    }\n",
       "</style>\n",
       "<table border=\"1\" class=\"dataframe\">\n",
       "  <thead>\n",
       "    <tr style=\"text-align: right;\">\n",
       "      <th></th>\n",
       "      <th>w</th>\n",
       "      <th>x</th>\n",
       "      <th>z</th>\n",
       "    </tr>\n",
       "  </thead>\n",
       "  <tbody>\n",
       "    <tr>\n",
       "      <th>1</th>\n",
       "      <td>-22.434204</td>\n",
       "      <td>-17.653640</td>\n",
       "      <td>-14.958622</td>\n",
       "    </tr>\n",
       "    <tr>\n",
       "      <th>2</th>\n",
       "      <td>5.383055</td>\n",
       "      <td>-8.188402</td>\n",
       "      <td>-6.209703</td>\n",
       "    </tr>\n",
       "    <tr>\n",
       "      <th>4</th>\n",
       "      <td>-24.100262</td>\n",
       "      <td>-19.270986</td>\n",
       "      <td>-18.010616</td>\n",
       "    </tr>\n",
       "  </tbody>\n",
       "</table>\n",
       "</div>"
      ],
      "text/plain": [
       "           w          x          z\n",
       "1 -22.434204 -17.653640 -14.958622\n",
       "2   5.383055  -8.188402  -6.209703\n",
       "4 -24.100262 -19.270986 -18.010616"
      ]
     },
     "execution_count": 78,
     "metadata": {},
     "output_type": "execute_result"
    }
   ],
   "source": [
    "df.drop(3, axis=0)"
   ]
  },
  {
   "cell_type": "code",
   "execution_count": 79,
   "id": "0c6257ac-871c-4f4c-87e8-aab1096bdd6d",
   "metadata": {},
   "outputs": [
    {
     "data": {
      "text/plain": [
       "w     3.451697\n",
       "x    11.027444\n",
       "z    -3.827115\n",
       "Name: 3, dtype: float64"
      ]
     },
     "execution_count": 79,
     "metadata": {},
     "output_type": "execute_result"
    }
   ],
   "source": [
    "df.loc[3] ##esto es para poder acceder a las filas, con la propiedad localizacipon"
   ]
  },
  {
   "cell_type": "code",
   "execution_count": 81,
   "id": "72c33553-666c-4c0b-9c56-e37a674a16b3",
   "metadata": {},
   "outputs": [
    {
     "data": {
      "text/html": [
       "<div>\n",
       "<style scoped>\n",
       "    .dataframe tbody tr th:only-of-type {\n",
       "        vertical-align: middle;\n",
       "    }\n",
       "\n",
       "    .dataframe tbody tr th {\n",
       "        vertical-align: top;\n",
       "    }\n",
       "\n",
       "    .dataframe thead th {\n",
       "        text-align: right;\n",
       "    }\n",
       "</style>\n",
       "<table border=\"1\" class=\"dataframe\">\n",
       "  <thead>\n",
       "    <tr style=\"text-align: right;\">\n",
       "      <th></th>\n",
       "      <th>w</th>\n",
       "      <th>x</th>\n",
       "      <th>z</th>\n",
       "    </tr>\n",
       "  </thead>\n",
       "  <tbody>\n",
       "    <tr>\n",
       "      <th>1</th>\n",
       "      <td>-22.434204</td>\n",
       "      <td>-17.653640</td>\n",
       "      <td>-14.958622</td>\n",
       "    </tr>\n",
       "    <tr>\n",
       "      <th>3</th>\n",
       "      <td>3.451697</td>\n",
       "      <td>11.027444</td>\n",
       "      <td>-3.827115</td>\n",
       "    </tr>\n",
       "  </tbody>\n",
       "</table>\n",
       "</div>"
      ],
      "text/plain": [
       "           w          x          z\n",
       "1 -22.434204 -17.653640 -14.958622\n",
       "3   3.451697  11.027444  -3.827115"
      ]
     },
     "execution_count": 81,
     "metadata": {},
     "output_type": "execute_result"
    }
   ],
   "source": [
    "df.iloc[[0,2]]##index location, fila 0 y la fila 2"
   ]
  },
  {
   "cell_type": "code",
   "execution_count": 84,
   "id": "9a6043aa-7a4e-40ca-a938-08dacd851449",
   "metadata": {},
   "outputs": [
    {
     "data": {
      "text/plain": [
       "1   -17.653640\n",
       "3    11.027444\n",
       "Name: x, dtype: float64"
      ]
     },
     "execution_count": 84,
     "metadata": {},
     "output_type": "execute_result"
    }
   ],
   "source": [
    "df.loc[[1,3],'x'] ##3era fil"
   ]
  },
  {
   "cell_type": "code",
   "execution_count": null,
   "id": "175a9118-6fcb-443e-b215-7894f5523f51",
   "metadata": {},
   "outputs": [],
   "source": []
  },
  {
   "cell_type": "code",
   "execution_count": null,
   "id": "d18a18e9-e687-4386-a137-56976d56b01f",
   "metadata": {},
   "outputs": [],
   "source": []
  },
  {
   "cell_type": "code",
   "execution_count": null,
   "id": "95fdd880-2d6a-498e-ba03-1e8e05e2a283",
   "metadata": {},
   "outputs": [],
   "source": []
  },
  {
   "cell_type": "code",
   "execution_count": null,
   "id": "4023b1a3-16c0-4f0a-9ff3-a730a167651e",
   "metadata": {},
   "outputs": [],
   "source": []
  },
  {
   "cell_type": "code",
   "execution_count": null,
   "id": "c2e4eb68-c38e-4542-bc1d-7c26f6787a16",
   "metadata": {},
   "outputs": [],
   "source": []
  }
 ],
 "metadata": {
  "kernelspec": {
   "display_name": "Python 3 (ipykernel)",
   "language": "python",
   "name": "python3"
  },
  "language_info": {
   "codemirror_mode": {
    "name": "ipython",
    "version": 3
   },
   "file_extension": ".py",
   "mimetype": "text/x-python",
   "name": "python",
   "nbconvert_exporter": "python",
   "pygments_lexer": "ipython3",
   "version": "3.10.4"
  }
 },
 "nbformat": 4,
 "nbformat_minor": 5
}
