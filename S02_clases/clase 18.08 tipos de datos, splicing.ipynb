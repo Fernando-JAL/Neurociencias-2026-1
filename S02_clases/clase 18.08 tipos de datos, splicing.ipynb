{
 "cells": [
  {
   "cell_type": "code",
   "execution_count": 2,
   "id": "25257a9d-daeb-43b1-a602-5a7d2c4ad527",
   "metadata": {},
   "outputs": [
    {
     "data": {
      "text/plain": [
       "'cadena'"
      ]
     },
     "execution_count": 2,
     "metadata": {},
     "output_type": "execute_result"
    }
   ],
   "source": [
    "cadena = \"cadena\"\n",
    "cadena"
   ]
  },
  {
   "cell_type": "code",
   "execution_count": 4,
   "id": "bb411cc9-1080-4608-9cc2-aff8ec22d587",
   "metadata": {},
   "outputs": [
    {
     "ename": "TypeError",
     "evalue": "'str' object does not support item assignment",
     "output_type": "error",
     "traceback": [
      "\u001b[31m---------------------------------------------------------------------------\u001b[39m",
      "\u001b[31mTypeError\u001b[39m                                 Traceback (most recent call last)",
      "\u001b[36mCell\u001b[39m\u001b[36m \u001b[39m\u001b[32mIn[4]\u001b[39m\u001b[32m, line 2\u001b[39m\n\u001b[32m      1\u001b[39m \u001b[38;5;66;03m#esto es inmutable porque no se puede cambiar \u001b[39;00m\n\u001b[32m----> \u001b[39m\u001b[32m2\u001b[39m \u001b[43mcadena\u001b[49m\u001b[43m[\u001b[49m\u001b[43m-\u001b[49m\u001b[32;43m2\u001b[39;49m\u001b[43m]\u001b[49m= \u001b[33m'\u001b[39m\u001b[33mp\u001b[39m\u001b[33m'\u001b[39m\n",
      "\u001b[31mTypeError\u001b[39m: 'str' object does not support item assignment"
     ]
    }
   ],
   "source": [
    "#esto es inmutable porque no se puede cambiar \n",
    "cadena[-2]= 'p'"
   ]
  },
  {
   "cell_type": "code",
   "execution_count": 7,
   "id": "e5fb0275-340a-4061-96b5-e78f184c3634",
   "metadata": {},
   "outputs": [],
   "source": [
    "cadena = \"donde esta oswaldo\"\n",
    "cadena2 =\"viva la programacion\"\n",
    "cadena3 =\"bts volvio del ejercito\""
   ]
  },
  {
   "cell_type": "code",
   "execution_count": null,
   "id": "a1a638f8-de82-4d2c-b27f-84ba9fb29112",
   "metadata": {},
   "outputs": [],
   "source": [
    "# ejercicio, con slincing crear la frase: donde esta la programacion que volvio del ejercito"
   ]
  },
  {
   "cell_type": "code",
   "execution_count": 18,
   "id": "892a94c3-005e-4665-8ac4-223c31b1548b",
   "metadata": {},
   "outputs": [
    {
     "data": {
      "text/plain": [
       "'donde esta la programacion que volvio del ejercito'"
      ]
     },
     "execution_count": 18,
     "metadata": {},
     "output_type": "execute_result"
    }
   ],
   "source": [
    "8cadena [0:10]+ cadena2 [4:] + \" que\" + cadena3 [3:]"
   ]
  },
  {
   "cell_type": "code",
   "execution_count": 32,
   "id": "265f1ec8-de02-4d2a-a013-cacbe323740a",
   "metadata": {},
   "outputs": [
    {
     "data": {
      "text/plain": [
       "'oswaldo volvio a la programacion ed oivlov stb'"
      ]
     },
     "execution_count": 32,
     "metadata": {},
     "output_type": "execute_result"
    }
   ],
   "source": [
    "# eje: oswaldo volvio a la programacion de oivlov stb\"\n",
    "cadena [11:] + cadena3 [3:10] + \" a\" + cadena2 [4:] + \" \" + cadena3 [-11::-1]"
   ]
  },
  {
   "cell_type": "markdown",
   "id": "9d53b4e1-043f-4e6a-ae59-5351ea53788f",
   "metadata": {},
   "source": [
    "### split"
   ]
  },
  {
   "cell_type": "code",
   "execution_count": 1,
   "id": "1219ef1a-1fdd-4015-942a-ae9bbe315728",
   "metadata": {},
   "outputs": [
    {
     "ename": "AttributeError",
     "evalue": "'int' object has no attribute 'split'",
     "output_type": "error",
     "traceback": [
      "\u001b[31m---------------------------------------------------------------------------\u001b[39m",
      "\u001b[31mAttributeError\u001b[39m                            Traceback (most recent call last)",
      "\u001b[36mCell\u001b[39m\u001b[36m \u001b[39m\u001b[32mIn[1]\u001b[39m\u001b[32m, line 3\u001b[39m\n\u001b[32m      1\u001b[39m ruta = \u001b[32m3\u001b[39m\n\u001b[32m----> \u001b[39m\u001b[32m3\u001b[39m \u001b[43mruta\u001b[49m\u001b[43m.\u001b[49m\u001b[43msplit\u001b[49m  \n",
      "\u001b[31mAttributeError\u001b[39m: 'int' object has no attribute 'split'"
     ]
    }
   ],
   "source": [
    "ruta = \n",
    "\n",
    "ruta.split  "
   ]
  },
  {
   "cell_type": "markdown",
   "id": "be4681e8-7707-4366-9745-0485b431b8ff",
   "metadata": {},
   "source": [
    "### tipo de datos: lista"
   ]
  },
  {
   "cell_type": "code",
   "execution_count": 37,
   "id": "91ea1337-d424-4721-8dde-53d48d735c2b",
   "metadata": {},
   "outputs": [
    {
     "data": {
      "text/plain": [
       "[5, 4, 2, 90.3, 'strings', 'ola']"
      ]
     },
     "execution_count": 37,
     "metadata": {},
     "output_type": "execute_result"
    }
   ],
   "source": [
    "lista= [5, 4, 2, 90.3, 'strings','ola']\n",
    "lista"
   ]
  },
  {
   "cell_type": "code",
   "execution_count": 38,
   "id": "2c63622b-546d-4a13-8622-202df1d15715",
   "metadata": {},
   "outputs": [
    {
     "data": {
      "text/plain": [
       "list"
      ]
     },
     "execution_count": 38,
     "metadata": {},
     "output_type": "execute_result"
    }
   ],
   "source": [
    "type (lista)"
   ]
  },
  {
   "cell_type": "code",
   "execution_count": 54,
   "id": "1b234906-52c8-485d-8126-51f980e4b6ee",
   "metadata": {},
   "outputs": [
    {
     "data": {
      "text/plain": [
       "[5, 4, 2, 90.3, (-7+6j), 'strings', 'alá', [3, 2, 5]]"
      ]
     },
     "execution_count": 54,
     "metadata": {},
     "output_type": "execute_result"
    }
   ],
   "source": [
    "lista = [5, 4, 2, 90.3, complex (-7, 6),'strings', 'alá', [3,2,5]]\n",
    "lista"
   ]
  },
  {
   "cell_type": "code",
   "execution_count": 56,
   "id": "0c52c120-ae84-4e88-8ab6-b803cc0b46be",
   "metadata": {},
   "outputs": [
    {
     "data": {
      "text/plain": [
       "(-3+6j)"
      ]
     },
     "execution_count": 56,
     "metadata": {},
     "output_type": "execute_result"
    }
   ],
   "source": [
    "lista [4] + lista [1]\n",
    "\n",
    "# hay que recordar qeu incia desde 0, 1, 2, :"
   ]
  },
  {
   "cell_type": "code",
   "execution_count": 49,
   "id": "68662ff1-42f0-4624-ae2b-7019f09f5538",
   "metadata": {},
   "outputs": [
    {
     "data": {
      "text/plain": [
       "[5, 4, 2, 'chale', (-7+6j), 'strings', 'alá', [3, 2, 5]]"
      ]
     },
     "execution_count": 49,
     "metadata": {},
     "output_type": "execute_result"
    }
   ],
   "source": [
    "lista [3]= 'chale'\n",
    "lista"
   ]
  },
  {
   "cell_type": "code",
   "execution_count": 51,
   "id": "ee94bb81-e199-4dfc-b92b-fcf243951e9d",
   "metadata": {},
   "outputs": [
    {
     "data": {
      "text/plain": [
       "8"
      ]
     },
     "execution_count": 51,
     "metadata": {},
     "output_type": "execute_result"
    }
   ],
   "source": [
    "len (lista)"
   ]
  },
  {
   "cell_type": "code",
   "execution_count": 52,
   "id": "8e129c40-2fec-4116-963e-45832de9bd0c",
   "metadata": {},
   "outputs": [
    {
     "name": "stdout",
     "output_type": "stream",
     "text": [
      "16 [5, 4, 'm', 'a', 'l', 'u', 'm', 'a', ' ', 'b', 'a', 'b', 'y', 'strings', 'alá', [3, 2, 5]]\n"
     ]
    }
   ],
   "source": [
    "lista [2:5] = 'maluma baby'\n",
    "print(len(lista), lista)"
   ]
  },
  {
   "cell_type": "code",
   "execution_count": 53,
   "id": "51d25ddd-a026-4a2e-bb0f-2abf6a621024",
   "metadata": {},
   "outputs": [
    {
     "name": "stdout",
     "output_type": "stream",
     "text": [
      "18 [5, 4, 'maluma baby', 'maluma baby', 'maluma baby', 'maluma baby', 'maluma baby', 'u', 'm', 'a', ' ', 'b', 'a', 'b', 'y', 'strings', 'alá', [3, 2, 5]]\n"
     ]
    }
   ],
   "source": [
    "lista [2:5] = 5* ['maluma baby']\n",
    "print(len(lista), lista)"
   ]
  },
  {
   "cell_type": "code",
   "execution_count": 57,
   "id": "bfd6c937-40cd-4481-9002-5a6e56cfa7c4",
   "metadata": {},
   "outputs": [
    {
     "data": {
      "text/plain": [
       "'strings'"
      ]
     },
     "execution_count": 57,
     "metadata": {},
     "output_type": "execute_result"
    }
   ],
   "source": [
    "lista [-3]"
   ]
  },
  {
   "cell_type": "code",
   "execution_count": 58,
   "id": "b494304b-b5b1-47f1-8488-9963cec0c9f4",
   "metadata": {},
   "outputs": [
    {
     "data": {
      "text/plain": [
       "[(-7+6j), 'strings', 'alá']"
      ]
     },
     "execution_count": 58,
     "metadata": {},
     "output_type": "execute_result"
    }
   ],
   "source": [
    "lista [-4: -1]"
   ]
  },
  {
   "cell_type": "code",
   "execution_count": 65,
   "id": "e5979b24-d742-42c4-b180-5b91501cc46e",
   "metadata": {},
   "outputs": [
    {
     "data": {
      "text/plain": [
       "'C:\\\\Users\\\\HP\\\\Documents\\\\GitHub\\\\Neurociencias-2026-1\\\\S01_presentacion\\\\GitHub-La-Colaboracion-Redefinida-en-el-Desarrollo-de-Software.pdf'"
      ]
     },
     "execution_count": 65,
     "metadata": {},
     "output_type": "execute_result"
    }
   ],
   "source": [
    "ruta = r\"C:\\Users\\HP\\Documents\\GitHub\\Neurociencias-2026-1\\S01_presentacion\\GitHub-La-Colaboracion-Redefinida-en-el-Desarrollo-de-Software.pdf\"\n",
    "ruta\n",
    "\n",
    "# no olvidar la r del inicio de raw (crudo) para que no tome en cuenta los simbolos"
   ]
  },
  {
   "cell_type": "code",
   "execution_count": 71,
   "id": "cbf4b5a1-1a4b-4798-8511-f2c866d75520",
   "metadata": {},
   "outputs": [
    {
     "data": {
      "text/plain": [
       "'GitHub-La-Colaboracion-Redefinida-en-el-Desarrollo-de-Software.pdf'"
      ]
     },
     "execution_count": 71,
     "metadata": {},
     "output_type": "execute_result"
    }
   ],
   "source": [
    "var1= ruta.split (sep =\"\\\\\")\n",
    "var1 [-1]\n",
    "# la sep significa separador \n"
   ]
  },
  {
   "cell_type": "code",
   "execution_count": 72,
   "id": "7e39a364-1d1c-4abc-8d68-3b94d7345f7e",
   "metadata": {},
   "outputs": [
    {
     "ename": "SyntaxError",
     "evalue": "invalid syntax (381330044.py, line 3)",
     "output_type": "error",
     "traceback": [
      "  \u001b[36mCell\u001b[39m\u001b[36m \u001b[39m\u001b[32mIn[72]\u001b[39m\u001b[32m, line 3\u001b[39m\n\u001b[31m    \u001b[39m\u001b[31mvar2= [: -3]\u001b[39m\n           ^\n\u001b[31mSyntaxError\u001b[39m\u001b[31m:\u001b[39m invalid syntax\n"
     ]
    }
   ],
   "source": [
    "# y para elimiar el pdf \n",
    "var2= var[-1]\n",
    "var2= [: -3]"
   ]
  },
  {
   "cell_type": "code",
   "execution_count": null,
   "id": "c6613cc8-6f67-4c87-b113-048567067f7a",
   "metadata": {},
   "outputs": [],
   "source": [
    "var1= ruta.split (sep =\"\\\\\") [-1].spli(sep=\".pptx\")"
   ]
  },
  {
   "cell_type": "code",
   "execution_count": null,
   "id": "cd5a20fd-d037-403f-a660-c11a1aa110de",
   "metadata": {},
   "outputs": [],
   "source": []
  }
 ],
 "metadata": {
  "kernelspec": {
   "display_name": "Python 3 (ipykernel)",
   "language": "python",
   "name": "python3"
  },
  "language_info": {
   "codemirror_mode": {
    "name": "ipython",
    "version": 3
   },
   "file_extension": ".py",
   "mimetype": "text/x-python",
   "name": "python",
   "nbconvert_exporter": "python",
   "pygments_lexer": "ipython3",
   "version": "3.13.6"
  }
 },
 "nbformat": 4,
 "nbformat_minor": 5
}
