{
 "cells": [
  {
   "cell_type": "markdown",
   "id": "f02ba1a6-b076-4198-a860-b440aff05b13",
   "metadata": {},
   "source": [
    "### Más de listas"
   ]
  },
  {
   "cell_type": "code",
   "execution_count": 1,
   "id": "1803298a-e62c-4f52-b675-cb0850025d6a",
   "metadata": {},
   "outputs": [
    {
     "data": {
      "text/plain": [
       "['rojo', 2.3, 100, 'chocolate']"
      ]
     },
     "execution_count": 1,
     "metadata": {},
     "output_type": "execute_result"
    }
   ],
   "source": [
    "lista = ['rojo', 2.3, 100, 'chocolate']\n",
    "lista"
   ]
  },
  {
   "cell_type": "code",
   "execution_count": 19,
   "id": "53f50c04-5fb9-4a41-8f11-cda97b09cd04",
   "metadata": {
    "scrolled": true
   },
   "outputs": [
    {
     "data": {
      "text/plain": [
       "['rojo',\n",
       " 2.3,\n",
       " 100,\n",
       " 'chocolate',\n",
       " 'nuez',\n",
       " 'nuez',\n",
       " 'nuez',\n",
       " 'nuez',\n",
       " 'nuez',\n",
       " [4, 2, 6],\n",
       " 'nuez',\n",
       " 'nuez',\n",
       " 'nuez',\n",
       " 'nuez',\n",
       " 'nuez',\n",
       " 'nuez',\n",
       " 'nuez',\n",
       " 'nuez',\n",
       " 'nuez']"
      ]
     },
     "execution_count": 19,
     "metadata": {},
     "output_type": "execute_result"
    }
   ],
   "source": [
    "lista.append('nuez')\n",
    "lista"
   ]
  },
  {
   "cell_type": "code",
   "execution_count": 9,
   "id": "8d326564-95cb-44ab-a55b-2ee115ce9912",
   "metadata": {},
   "outputs": [
    {
     "data": {
      "text/plain": [
       "[]"
      ]
     },
     "execution_count": 9,
     "metadata": {},
     "output_type": "execute_result"
    }
   ],
   "source": [
    "lista_vacia=[]\n",
    "lista_vacia"
   ]
  },
  {
   "cell_type": "code",
   "execution_count": 20,
   "id": "9a07f0dd-fce0-4b4f-ac34-0a2c342c75f7",
   "metadata": {},
   "outputs": [
    {
     "data": {
      "text/plain": [
       "19"
      ]
     },
     "execution_count": 20,
     "metadata": {},
     "output_type": "execute_result"
    }
   ],
   "source": [
    "lista[-1] = [4, 2, 6]\n",
    "len(lista)"
   ]
  },
  {
   "cell_type": "code",
   "execution_count": 100,
   "id": "5e5abe28-1fe8-421c-85f5-be1d3e25d30f",
   "metadata": {},
   "outputs": [
    {
     "ename": "TypeError",
     "evalue": "'set' object is not subscriptable",
     "output_type": "error",
     "traceback": [
      "\u001b[31m---------------------------------------------------------------------------\u001b[39m",
      "\u001b[31mTypeError\u001b[39m                                 Traceback (most recent call last)",
      "\u001b[36mCell\u001b[39m\u001b[36m \u001b[39m\u001b[32mIn[100]\u001b[39m\u001b[32m, line 5\u001b[39m\n\u001b[32m      1\u001b[39m \u001b[38;5;66;03m#diccionario \u001b[39;00m\n\u001b[32m      2\u001b[39m diccionario = {\u001b[33m'\u001b[39m\u001b[33muwu\u001b[39m\u001b[33m'\u001b[39m == \u001b[33m'\u001b[39m\u001b[33mMech\u001b[39m\u001b[33m'\u001b[39m,\n\u001b[32m      3\u001b[39m \u001b[33m'\u001b[39m\u001b[33mOwO\u001b[39m\u001b[33m'\u001b[39m== \u001b[33m'\u001b[39m\u001b[33mPao\u001b[39m\u001b[33m'\u001b[39m,\n\u001b[32m      4\u001b[39m \u001b[33m'\u001b[39m\u001b[33mPau\u001b[39m\u001b[33m'\u001b[39m== \u001b[33m'\u001b[39m\u001b[33msol\u001b[39m\u001b[33m'\u001b[39m}\n\u001b[32m----> \u001b[39m\u001b[32m5\u001b[39m \u001b[38;5;28mprint\u001b[39m(\u001b[43mdiccionario\u001b[49m\u001b[43m \u001b[49m\u001b[43m[\u001b[49m\u001b[33;43m'\u001b[39;49m\u001b[33;43mOwO\u001b[39;49m\u001b[33;43m'\u001b[39;49m\u001b[43m]\u001b[49m)\n",
      "\u001b[31mTypeError\u001b[39m: 'set' object is not subscriptable"
     ]
    }
   ],
   "source": [
    "#diccionario \n",
    "diccionario = {'uwu' == 'Mech',\n",
    "'OwO'== 'Pao',\n",
    "'Pau'== 'sol'}\n",
    "print(diccionario ['OwO'])"
   ]
  },
  {
   "cell_type": "code",
   "execution_count": 22,
   "id": "4f94e57b-cf9b-4c34-b6b7-b514816966fb",
   "metadata": {},
   "outputs": [
    {
     "data": {
      "text/plain": [
       "['rojo',\n",
       " 2.3,\n",
       " [],\n",
       " 'chocolate',\n",
       " 'nuez',\n",
       " 'nuez',\n",
       " 'nuez',\n",
       " 'nuez',\n",
       " 'nuez',\n",
       " [4, 2, 6],\n",
       " 'nuez',\n",
       " 'nuez',\n",
       " 'nuez',\n",
       " 'nuez',\n",
       " 'nuez',\n",
       " 'nuez',\n",
       " 'nuez',\n",
       " 'nuez',\n",
       " [4, 2, 6]]"
      ]
     },
     "execution_count": 22,
     "metadata": {},
     "output_type": "execute_result"
    }
   ],
   "source": [
    "lista[2]=[]\n",
    "lista"
   ]
  },
  {
   "cell_type": "code",
   "execution_count": 27,
   "id": "96843a37-9c65-43ad-824b-13d2a1977f5f",
   "metadata": {},
   "outputs": [
    {
     "data": {
      "text/plain": [
       "[2.3,\n",
       " 'nuez',\n",
       " 'nuez',\n",
       " 'nuez',\n",
       " 'nuez',\n",
       " 'nuez',\n",
       " [4, 2, 6],\n",
       " 'nuez',\n",
       " 'nuez',\n",
       " 'nuez',\n",
       " 'nuez',\n",
       " 'nuez',\n",
       " 'nuez',\n",
       " 'nuez',\n",
       " 'nuez',\n",
       " [4, 2, 6]]"
      ]
     },
     "execution_count": 27,
     "metadata": {},
     "output_type": "execute_result"
    }
   ],
   "source": [
    "del lista[0]\n",
    "lista"
   ]
  },
  {
   "cell_type": "code",
   "execution_count": 29,
   "id": "e3f733c1-1218-48e3-bfd5-c29f69764885",
   "metadata": {},
   "outputs": [
    {
     "data": {
      "text/plain": [
       "[2.3, 'nuez', 'nuez', [4, 2, 6]]"
      ]
     },
     "execution_count": 29,
     "metadata": {},
     "output_type": "execute_result"
    }
   ],
   "source": [
    "del lista[2:8]\n",
    "lista"
   ]
  },
  {
   "cell_type": "code",
   "execution_count": 30,
   "id": "7e7e28b6-2df2-4948-948f-bf22d712eff5",
   "metadata": {},
   "outputs": [
    {
     "data": {
      "text/plain": [
       "['nuez', 'nuez', [4, 2, 6]]"
      ]
     },
     "execution_count": 30,
     "metadata": {},
     "output_type": "execute_result"
    }
   ],
   "source": [
    "del lista [0]\n",
    "lista"
   ]
  },
  {
   "cell_type": "code",
   "execution_count": 31,
   "id": "f30775e3-c6f9-4584-821f-5203d804ece3",
   "metadata": {},
   "outputs": [
    {
     "data": {
      "text/plain": [
       "['nuez', [4, 2, 6]]"
      ]
     },
     "execution_count": 31,
     "metadata": {},
     "output_type": "execute_result"
    }
   ],
   "source": [
    "del lista[0]\n",
    "lista"
   ]
  },
  {
   "cell_type": "code",
   "execution_count": 32,
   "id": "e18a5e5c-28ce-433b-9412-8ce9e92313d2",
   "metadata": {},
   "outputs": [
    {
     "data": {
      "text/plain": [
       "[[4, 2, 6]]"
      ]
     },
     "execution_count": 32,
     "metadata": {},
     "output_type": "execute_result"
    }
   ],
   "source": [
    "del lista[0]\n",
    "lista"
   ]
  },
  {
   "cell_type": "code",
   "execution_count": 33,
   "id": "10b0bc73-1a7a-4a38-933f-1462c161c484",
   "metadata": {},
   "outputs": [
    {
     "data": {
      "text/plain": [
       "[]"
      ]
     },
     "execution_count": 33,
     "metadata": {},
     "output_type": "execute_result"
    }
   ],
   "source": [
    "del lista[0]\n",
    "lista\n"
   ]
  },
  {
   "cell_type": "code",
   "execution_count": 53,
   "id": "bd9ef1bc-4edc-4a77-a286-a361d2194930",
   "metadata": {},
   "outputs": [
    {
     "data": {
      "text/plain": [
       "[[1, 2, 3], [4, 5, 6], [7, 8, 9], [8, 7, 6]]"
      ]
     },
     "execution_count": 53,
     "metadata": {},
     "output_type": "execute_result"
    }
   ],
   "source": [
    "matriz =[[1, 2, 3], [4, 5 ,6], [7, 8, 9], [8, 7, 6]]\n",
    "matriz"
   ]
  },
  {
   "cell_type": "code",
   "execution_count": 54,
   "id": "0e911824-d897-4fbd-9520-00634829216e",
   "metadata": {},
   "outputs": [
    {
     "data": {
      "text/plain": [
       "[7, 8, 9]"
      ]
     },
     "execution_count": 54,
     "metadata": {},
     "output_type": "execute_result"
    }
   ],
   "source": [
    "matriz[2]"
   ]
  },
  {
   "cell_type": "code",
   "execution_count": 55,
   "id": "1846a2ba-efb7-469d-987c-dd3c42be172d",
   "metadata": {},
   "outputs": [
    {
     "data": {
      "text/plain": [
       "[7, 8, 9]"
      ]
     },
     "execution_count": 55,
     "metadata": {},
     "output_type": "execute_result"
    }
   ],
   "source": [
    "a = matriz[2]\n",
    "a"
   ]
  },
  {
   "cell_type": "code",
   "execution_count": 56,
   "id": "218838a8-4079-4a76-b980-51ee8ee201ef",
   "metadata": {},
   "outputs": [
    {
     "data": {
      "text/plain": [
       "9"
      ]
     },
     "execution_count": 56,
     "metadata": {},
     "output_type": "execute_result"
    }
   ],
   "source": [
    "a[2]"
   ]
  },
  {
   "cell_type": "code",
   "execution_count": 57,
   "id": "81a9ef94-4200-42e4-b6d8-45eefeffe174",
   "metadata": {},
   "outputs": [
    {
     "data": {
      "text/plain": [
       "[[1, 2, 3], [4, 5, 6], [7, 8, 9], [8, 7, 6]]"
      ]
     },
     "execution_count": 57,
     "metadata": {},
     "output_type": "execute_result"
    }
   ],
   "source": [
    "matriz"
   ]
  },
  {
   "cell_type": "code",
   "execution_count": 58,
   "id": "7ccc2932-d2f0-4083-89c7-b784398325bd",
   "metadata": {},
   "outputs": [
    {
     "data": {
      "text/plain": [
       "9"
      ]
     },
     "execution_count": 58,
     "metadata": {},
     "output_type": "execute_result"
    }
   ],
   "source": [
    "a= matriz[2][-1]\n",
    "a"
   ]
  },
  {
   "cell_type": "markdown",
   "id": "0b255d22-0ace-45f8-8fd8-9b745a9747a9",
   "metadata": {},
   "source": [
    "### Tuplas"
   ]
  },
  {
   "cell_type": "code",
   "execution_count": 62,
   "id": "08022a33-df93-4689-ad2f-4950d992b2e9",
   "metadata": {},
   "outputs": [
    {
     "data": {
      "text/plain": [
       "(5, 2, '-1', [4, 2, 1], 'pasa')"
      ]
     },
     "execution_count": 62,
     "metadata": {},
     "output_type": "execute_result"
    }
   ],
   "source": [
    "variable = (5, 2, '-1', [4, 2, 1], 'pasa')\n",
    "variable"
   ]
  },
  {
   "cell_type": "code",
   "execution_count": 63,
   "id": "eccd4bee-618a-416d-b8ba-b32b1994eb01",
   "metadata": {},
   "outputs": [
    {
     "data": {
      "text/plain": [
       "tuple"
      ]
     },
     "execution_count": 63,
     "metadata": {},
     "output_type": "execute_result"
    }
   ],
   "source": [
    "type(variable)"
   ]
  },
  {
   "cell_type": "code",
   "execution_count": 64,
   "id": "680cfe3a-7332-42aa-83e2-450d7a98e2ef",
   "metadata": {},
   "outputs": [
    {
     "data": {
      "text/plain": [
       "(5, 2, '-1', [4, 2, 1], 'pasa')"
      ]
     },
     "execution_count": 64,
     "metadata": {},
     "output_type": "execute_result"
    }
   ],
   "source": [
    "variable"
   ]
  },
  {
   "cell_type": "code",
   "execution_count": 66,
   "id": "1e44e0c5-2ac2-46a0-a2ae-096fca32ee14",
   "metadata": {},
   "outputs": [
    {
     "data": {
      "text/plain": [
       "'pasa'"
      ]
     },
     "execution_count": 66,
     "metadata": {},
     "output_type": "execute_result"
    }
   ],
   "source": [
    "variable[-1]"
   ]
  },
  {
   "cell_type": "code",
   "execution_count": 67,
   "id": "acb3b25f-23fa-4ec4-9d33-d230c7fc8dcd",
   "metadata": {},
   "outputs": [
    {
     "data": {
      "text/plain": [
       "(2, '-1')"
      ]
     },
     "execution_count": 67,
     "metadata": {},
     "output_type": "execute_result"
    }
   ],
   "source": [
    "variable[1:-2]"
   ]
  },
  {
   "cell_type": "code",
   "execution_count": 70,
   "id": "8ace547f-fc06-4da1-bef6-e5b2c4fd9796",
   "metadata": {},
   "outputs": [
    {
     "data": {
      "text/plain": [
       "(5, 2, '-1')"
      ]
     },
     "execution_count": 70,
     "metadata": {},
     "output_type": "execute_result"
    }
   ],
   "source": [
    "pos_i, pos_f = 0,2\n",
    "variable [pos_i:pos_f+1]"
   ]
  },
  {
   "cell_type": "code",
   "execution_count": 71,
   "id": "52d209d6-4de5-43ea-9c2a-d5ec38c62fa3",
   "metadata": {},
   "outputs": [
    {
     "data": {
      "text/plain": [
       "(2, '-1')"
      ]
     },
     "execution_count": 71,
     "metadata": {},
     "output_type": "execute_result"
    }
   ],
   "source": [
    "variable[1:-2]"
   ]
  },
  {
   "cell_type": "code",
   "execution_count": 72,
   "id": "890e854f-2974-420e-899d-cb2194489eaf",
   "metadata": {},
   "outputs": [
    {
     "data": {
      "text/plain": [
       "(2, '-1', [4, 2, 1])"
      ]
     },
     "execution_count": 72,
     "metadata": {},
     "output_type": "execute_result"
    }
   ],
   "source": [
    "variable [-4:4]"
   ]
  },
  {
   "cell_type": "code",
   "execution_count": 78,
   "id": "5af6c73a-06b7-498e-b535-252df1b6da69",
   "metadata": {},
   "outputs": [
    {
     "data": {
      "text/plain": [
       "(5,)"
      ]
     },
     "execution_count": 78,
     "metadata": {},
     "output_type": "execute_result"
    }
   ],
   "source": [
    "tupla = (5,)\n",
    "tupla"
   ]
  },
  {
   "cell_type": "code",
   "execution_count": 80,
   "id": "76d57fde-7a8f-423c-a6de-fd42d08074a3",
   "metadata": {},
   "outputs": [
    {
     "data": {
      "text/plain": [
       "(tuple, 1)"
      ]
     },
     "execution_count": 80,
     "metadata": {},
     "output_type": "execute_result"
    }
   ],
   "source": [
    "type(tupla), len(tupla)"
   ]
  },
  {
   "cell_type": "code",
   "execution_count": 88,
   "id": "d8fd7b97-f228-4c07-b759-30ec5ae26219",
   "metadata": {},
   "outputs": [],
   "source": [
    "t1,t2,t3= (4, 5), (6, 7), (8, 9)"
   ]
  },
  {
   "cell_type": "code",
   "execution_count": 90,
   "id": "5565f2b3-25e3-44bb-8e17-5df8099ee6c3",
   "metadata": {},
   "outputs": [
    {
     "data": {
      "text/plain": [
       "(4, 5, 6, 7)"
      ]
     },
     "execution_count": 90,
     "metadata": {},
     "output_type": "execute_result"
    }
   ],
   "source": [
    "t1+t2"
   ]
  },
  {
   "cell_type": "code",
   "execution_count": 92,
   "id": "a0141c2d-76c5-4ff0-85d3-de4bd1819a09",
   "metadata": {},
   "outputs": [
    {
     "data": {
      "text/plain": [
       "(6, 7, 6, 7, 6, 7)"
      ]
     },
     "execution_count": 92,
     "metadata": {},
     "output_type": "execute_result"
    }
   ],
   "source": [
    "(3*t2)"
   ]
  },
  {
   "cell_type": "code",
   "execution_count": 93,
   "id": "bce915c4-6788-4b8c-9579-02769b27b11a",
   "metadata": {},
   "outputs": [
    {
     "data": {
      "text/plain": [
       "7"
      ]
     },
     "execution_count": 93,
     "metadata": {},
     "output_type": "execute_result"
    }
   ],
   "source": [
    "(3*t2)[3]"
   ]
  },
  {
   "cell_type": "code",
   "execution_count": 94,
   "id": "cfae7336-d67c-4352-b1a6-cc7fc3e58f1a",
   "metadata": {},
   "outputs": [
    {
     "data": {
      "text/plain": [
       "[7, 7, 7]"
      ]
     },
     "execution_count": 94,
     "metadata": {},
     "output_type": "execute_result"
    }
   ],
   "source": [
    "[(3*t2)[3]]*3"
   ]
  },
  {
   "cell_type": "code",
   "execution_count": 96,
   "id": "3f738e5a-3701-4cae-a6ae-0048350f63c2",
   "metadata": {},
   "outputs": [
    {
     "ename": "TypeError",
     "evalue": "'tuple' object does not support item assignment",
     "output_type": "error",
     "traceback": [
      "\u001b[31m---------------------------------------------------------------------------\u001b[39m",
      "\u001b[31mTypeError\u001b[39m                                 Traceback (most recent call last)",
      "\u001b[36mCell\u001b[39m\u001b[36m \u001b[39m\u001b[32mIn[96]\u001b[39m\u001b[32m, line 1\u001b[39m\n\u001b[32m----> \u001b[39m\u001b[32m1\u001b[39m \u001b[43mt2\u001b[49m\u001b[43m[\u001b[49m\u001b[32;43m0\u001b[39;49m\u001b[43m]\u001b[49m = (\u001b[32m5\u001b[39m, )\n",
      "\u001b[31mTypeError\u001b[39m: 'tuple' object does not support item assignment"
     ]
    }
   ],
   "source": [
    "t2[0] = (5, )"
   ]
  },
  {
   "cell_type": "markdown",
   "id": "c25e5e34-1476-4263-994a-cddf9ed6a6cb",
   "metadata": {},
   "source": [
    "#### Mapping: diccionarios"
   ]
  },
  {
   "cell_type": "code",
   "execution_count": 107,
   "id": "76dedc6c-b627-4420-8c67-4f6395dec9f4",
   "metadata": {},
   "outputs": [
    {
     "data": {
      "text/plain": [
       "{'key': 'valor', 'llave2': 'valor2', 'llave3': 5, 'llave4': [2, 3], 5: [-2]}"
      ]
     },
     "execution_count": 107,
     "metadata": {},
     "output_type": "execute_result"
    }
   ],
   "source": [
    "diccionario = {'key': 'valor', 'llave2': 'valor2', 'llave3': 5, 'llave4': [2,3], 5: [-2]}\n",
    "diccionario"
   ]
  },
  {
   "cell_type": "code",
   "execution_count": 108,
   "id": "33566fe2-2cfb-44a7-a030-7e3d94a809ec",
   "metadata": {},
   "outputs": [
    {
     "data": {
      "text/plain": [
       "dict"
      ]
     },
     "execution_count": 108,
     "metadata": {},
     "output_type": "execute_result"
    }
   ],
   "source": [
    "type(diccionario)"
   ]
  },
  {
   "cell_type": "code",
   "execution_count": 109,
   "id": "7dde0ee2-4369-4bba-b1ef-71932137f614",
   "metadata": {},
   "outputs": [
    {
     "data": {
      "text/plain": [
       "[-2]"
      ]
     },
     "execution_count": 109,
     "metadata": {},
     "output_type": "execute_result"
    }
   ],
   "source": [
    "diccionario [5]"
   ]
  },
  {
   "cell_type": "code",
   "execution_count": 110,
   "id": "a4a78d9f-1d64-42e5-b38c-24bdb548af1d",
   "metadata": {},
   "outputs": [
    {
     "data": {
      "text/plain": [
       "'valor2'"
      ]
     },
     "execution_count": 110,
     "metadata": {},
     "output_type": "execute_result"
    }
   ],
   "source": [
    "diccionario ['llave2']"
   ]
  },
  {
   "cell_type": "code",
   "execution_count": 111,
   "id": "a603ae0a-f793-4261-a5da-346c165724fe",
   "metadata": {},
   "outputs": [
    {
     "data": {
      "text/plain": [
       "dict_keys(['key', 'llave2', 'llave3', 'llave4', 5])"
      ]
     },
     "execution_count": 111,
     "metadata": {},
     "output_type": "execute_result"
    }
   ],
   "source": [
    "diccionario.keys()"
   ]
  },
  {
   "cell_type": "code",
   "execution_count": 112,
   "id": "e94efcc5-a015-4f89-959c-69aaf08326b4",
   "metadata": {},
   "outputs": [
    {
     "data": {
      "text/plain": [
       "dict_values(['valor', 'valor2', 5, [2, 3], [-2]])"
      ]
     },
     "execution_count": 112,
     "metadata": {},
     "output_type": "execute_result"
    }
   ],
   "source": [
    "diccionario.values()"
   ]
  },
  {
   "cell_type": "code",
   "execution_count": 113,
   "id": "d43c248e-6c23-4814-a175-266209da0180",
   "metadata": {},
   "outputs": [
    {
     "data": {
      "text/plain": [
       "dict_values(['valor', 'valor2', 5, [2, 3], [-2]])"
      ]
     },
     "execution_count": 113,
     "metadata": {},
     "output_type": "execute_result"
    }
   ],
   "source": [
    "var= diccionario.values()\n",
    "var"
   ]
  },
  {
   "cell_type": "markdown",
   "id": "3a703370-5a56-427a-86a6-ac61bef5c671",
   "metadata": {},
   "source": [
    "### Convertir a otros tipos de datos"
   ]
  },
  {
   "cell_type": "code",
   "execution_count": 114,
   "id": "50e72d7c-feab-40b4-b06b-2c8772cbfab4",
   "metadata": {},
   "outputs": [
    {
     "data": {
      "text/plain": [
       "['valor', 'valor2', 5, [2, 3], [-2]]"
      ]
     },
     "execution_count": 114,
     "metadata": {},
     "output_type": "execute_result"
    }
   ],
   "source": [
    "list(var)"
   ]
  },
  {
   "cell_type": "code",
   "execution_count": 115,
   "id": "db7b2d0c-5794-4af1-a32e-023613135f63",
   "metadata": {},
   "outputs": [
    {
     "data": {
      "text/plain": [
       "{'key': 'valor', 'llave2': 'valor2', 'llave3': 5, 'llave4': [2, 3], 5: [-2]}"
      ]
     },
     "execution_count": 115,
     "metadata": {},
     "output_type": "execute_result"
    }
   ],
   "source": [
    "diccionario"
   ]
  },
  {
   "cell_type": "code",
   "execution_count": 116,
   "id": "e94ae0d8-da6b-493b-aab8-8fab38c454bf",
   "metadata": {},
   "outputs": [
    {
     "data": {
      "text/plain": [
       "{'key': 'valor', 'llave2': 45, 'llave3': 5, 'llave4': [2, 3], 5: [-2]}"
      ]
     },
     "execution_count": 116,
     "metadata": {},
     "output_type": "execute_result"
    }
   ],
   "source": [
    "diccionario['llave2'] = 45\n",
    "diccionario"
   ]
  },
  {
   "cell_type": "code",
   "execution_count": 117,
   "id": "3e2ad449-3579-4a51-a5b5-2b90dcf46dcd",
   "metadata": {},
   "outputs": [
    {
     "data": {
      "text/plain": [
       "{'key': 'valor',\n",
       " 'llave2': 45,\n",
       " 'llave3': 5,\n",
       " 'llave4': [2, 3],\n",
       " 5: [-2],\n",
       " 'vamosnos': 'a mimir'}"
      ]
     },
     "execution_count": 117,
     "metadata": {},
     "output_type": "execute_result"
    }
   ],
   "source": [
    "diccionario ['vamosnos'] = 'a mimir'\n",
    "diccionario"
   ]
  },
  {
   "cell_type": "code",
   "execution_count": 118,
   "id": "c3ea12b9-d462-4168-8426-15743b1ddb1f",
   "metadata": {},
   "outputs": [
    {
     "data": {
      "text/plain": [
       "'a mimir'"
      ]
     },
     "execution_count": 118,
     "metadata": {},
     "output_type": "execute_result"
    }
   ],
   "source": [
    "diccionario.pop('vamosnos')"
   ]
  },
  {
   "cell_type": "code",
   "execution_count": 119,
   "id": "df58a797-f591-4ea5-95e8-c5a95e35bf1e",
   "metadata": {},
   "outputs": [
    {
     "data": {
      "text/plain": [
       "{'key': 'valor', 'llave2': 45, 'llave3': 5, 'llave4': [2, 3], 5: [-2]}"
      ]
     },
     "execution_count": 119,
     "metadata": {},
     "output_type": "execute_result"
    }
   ],
   "source": [
    "diccionario"
   ]
  }
 ],
 "metadata": {
  "kernelspec": {
   "display_name": "Python 3 (ipykernel)",
   "language": "python",
   "name": "python3"
  },
  "language_info": {
   "codemirror_mode": {
    "name": "ipython",
    "version": 3
   },
   "file_extension": ".py",
   "mimetype": "text/x-python",
   "name": "python",
   "nbconvert_exporter": "python",
   "pygments_lexer": "ipython3",
   "version": "3.11.1"
  }
 },
 "nbformat": 4,
 "nbformat_minor": 5
}
