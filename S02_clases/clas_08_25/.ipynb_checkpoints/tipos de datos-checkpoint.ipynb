{
 "cells": [
  {
   "cell_type": "markdown",
   "id": "77932c6d-ce01-4afd-b619-a2c8dcfee9a7",
   "metadata": {},
   "source": [
    "# Conversión de tipos de datos"
   ]
  },
  {
   "cell_type": "code",
   "execution_count": 1,
   "id": "57b767d0-5707-48a6-8dea-91b666d323fb",
   "metadata": {},
   "outputs": [
    {
     "data": {
      "text/plain": [
       "(-82, 1j, 631.0)"
      ]
     },
     "execution_count": 1,
     "metadata": {},
     "output_type": "execute_result"
    }
   ],
   "source": [
    "entero, flotante, complejo=-82,631.,complex(0,1)\n",
    "entero, complejo, flotante"
   ]
  },
  {
   "cell_type": "code",
   "execution_count": 2,
   "id": "cdc8eee7-ddc2-473f-9ea2-dc19bcc3cc20",
   "metadata": {},
   "outputs": [
    {
     "data": {
      "text/plain": [
       "'-82'"
      ]
     },
     "execution_count": 2,
     "metadata": {},
     "output_type": "execute_result"
    }
   ],
   "source": [
    "str(entero)"
   ]
  },
  {
   "cell_type": "code",
   "execution_count": 3,
   "id": "151e7344-65a0-4f40-8668-301654fadb29",
   "metadata": {},
   "outputs": [
    {
     "data": {
      "text/plain": [
       "str"
      ]
     },
     "execution_count": 3,
     "metadata": {},
     "output_type": "execute_result"
    }
   ],
   "source": [
    "type(str(entero))"
   ]
  },
  {
   "cell_type": "code",
   "execution_count": 4,
   "id": "e80190aa-e8d9-43a9-9cc2-9902c8507d43",
   "metadata": {},
   "outputs": [
    {
     "data": {
      "text/plain": [
       "'1j'"
      ]
     },
     "execution_count": 4,
     "metadata": {},
     "output_type": "execute_result"
    }
   ],
   "source": [
    "str(complejo)"
   ]
  },
  {
   "cell_type": "code",
   "execution_count": 5,
   "id": "184b7e10-230f-49d4-b777-0a097fd1182b",
   "metadata": {},
   "outputs": [
    {
     "data": {
      "text/plain": [
       "'-46.23'"
      ]
     },
     "execution_count": 5,
     "metadata": {},
     "output_type": "execute_result"
    }
   ],
   "source": [
    "cadena= '-46.23'\n",
    "cadena"
   ]
  },
  {
   "cell_type": "code",
   "execution_count": 6,
   "id": "48bfb78e-ac9b-47cd-a37a-ae29357dd944",
   "metadata": {},
   "outputs": [
    {
     "data": {
      "text/plain": [
       "-46.23"
      ]
     },
     "execution_count": 6,
     "metadata": {},
     "output_type": "execute_result"
    }
   ],
   "source": [
    "float(cadena)"
   ]
  },
  {
   "cell_type": "code",
   "execution_count": 7,
   "id": "33477496-3b89-4170-9f4e-88466feb53c7",
   "metadata": {},
   "outputs": [
    {
     "data": {
      "text/plain": [
       "['-', '4', '6', '.', '2', '3']"
      ]
     },
     "execution_count": 7,
     "metadata": {},
     "output_type": "execute_result"
    }
   ],
   "source": [
    "list(cadena)"
   ]
  },
  {
   "cell_type": "code",
   "execution_count": 8,
   "id": "54a961be-6a95-4c70-bd33-67d1fc2dbc0b",
   "metadata": {},
   "outputs": [
    {
     "data": {
      "text/plain": [
       "('-', '4', '6', '.', '2', '3')"
      ]
     },
     "execution_count": 8,
     "metadata": {},
     "output_type": "execute_result"
    }
   ],
   "source": [
    "tuple(cadena)"
   ]
  },
  {
   "cell_type": "code",
   "execution_count": 9,
   "id": "724c1d4c-626b-4f98-b0de-dbcc547a1dfe",
   "metadata": {},
   "outputs": [
    {
     "ename": "ValueError",
     "evalue": "invalid literal for int() with base 10: '-78.4'",
     "output_type": "error",
     "traceback": [
      "\u001b[1;31m---------------------------------------------------------------------------\u001b[0m",
      "\u001b[1;31mValueError\u001b[0m                                Traceback (most recent call last)",
      "Cell \u001b[1;32mIn[9], line 1\u001b[0m\n\u001b[1;32m----> 1\u001b[0m \u001b[38;5;28;43mint\u001b[39;49m\u001b[43m(\u001b[49m\u001b[38;5;124;43m'\u001b[39;49m\u001b[38;5;124;43m-78.4\u001b[39;49m\u001b[38;5;124;43m'\u001b[39;49m\u001b[43m)\u001b[49m\n",
      "\u001b[1;31mValueError\u001b[0m: invalid literal for int() with base 10: '-78.4'"
     ]
    }
   ],
   "source": [
    "int('-78.4')"
   ]
  },
  {
   "cell_type": "code",
   "execution_count": 10,
   "id": "f0f92985-8f5f-4119-990c-6b90c467eeda",
   "metadata": {},
   "outputs": [
    {
     "data": {
      "text/plain": [
       "-78"
      ]
     },
     "execution_count": 10,
     "metadata": {},
     "output_type": "execute_result"
    }
   ],
   "source": [
    "int('-78')"
   ]
  },
  {
   "cell_type": "markdown",
   "id": "c2601e41-f5b6-4bda-a790-5c03c5a8f113",
   "metadata": {},
   "source": [
    "# Tipo de dato Booleana"
   ]
  },
  {
   "cell_type": "code",
   "execution_count": 11,
   "id": "e207cc32-895d-4232-bf41-068962d6ba1f",
   "metadata": {},
   "outputs": [
    {
     "data": {
      "text/plain": [
       "(True, False)"
      ]
     },
     "execution_count": 11,
     "metadata": {},
     "output_type": "execute_result"
    }
   ],
   "source": [
    "value1, value2 = True, False\n",
    "value1,value2"
   ]
  },
  {
   "cell_type": "code",
   "execution_count": 12,
   "id": "fdbe6bf0-b3f7-4a10-b501-2e9fecf1149c",
   "metadata": {},
   "outputs": [
    {
     "data": {
      "text/plain": [
       "bool"
      ]
     },
     "execution_count": 12,
     "metadata": {},
     "output_type": "execute_result"
    }
   ],
   "source": [
    "type(value1)"
   ]
  },
  {
   "cell_type": "code",
   "execution_count": 13,
   "id": "3e15c48b-2cc1-45e2-b1c3-f2ecbe1a595c",
   "metadata": {},
   "outputs": [
    {
     "data": {
      "text/plain": [
       "False"
      ]
     },
     "execution_count": 13,
     "metadata": {},
     "output_type": "execute_result"
    }
   ],
   "source": [
    "bool(0)"
   ]
  },
  {
   "cell_type": "code",
   "execution_count": 14,
   "id": "6ad93293-0bd8-4d11-ab97-23447dfe2477",
   "metadata": {},
   "outputs": [
    {
     "data": {
      "text/plain": [
       "True"
      ]
     },
     "execution_count": 14,
     "metadata": {},
     "output_type": "execute_result"
    }
   ],
   "source": [
    "bool(1)"
   ]
  },
  {
   "cell_type": "code",
   "execution_count": 15,
   "id": "e42e0de3-c5b6-4680-85a0-9df77381f6f3",
   "metadata": {},
   "outputs": [
    {
     "data": {
      "text/plain": [
       "True"
      ]
     },
     "execution_count": 15,
     "metadata": {},
     "output_type": "execute_result"
    }
   ],
   "source": [
    "bool('Hola')"
   ]
  },
  {
   "cell_type": "code",
   "execution_count": 16,
   "id": "fde9f5e5-b78c-450b-8d56-2a8219e11524",
   "metadata": {},
   "outputs": [
    {
     "data": {
      "text/plain": [
       "True"
      ]
     },
     "execution_count": 16,
     "metadata": {},
     "output_type": "execute_result"
    }
   ],
   "source": [
    "bool(2)"
   ]
  },
  {
   "cell_type": "code",
   "execution_count": 17,
   "id": "d0ff3a72-301c-4984-b907-7c2f4c725d11",
   "metadata": {},
   "outputs": [
    {
     "data": {
      "text/plain": [
       "True"
      ]
     },
     "execution_count": 17,
     "metadata": {},
     "output_type": "execute_result"
    }
   ],
   "source": [
    "bool(complex(0,1))"
   ]
  },
  {
   "cell_type": "code",
   "execution_count": 18,
   "id": "79027ffd-4a4a-4d99-8396-aac174f6eb41",
   "metadata": {},
   "outputs": [
    {
     "data": {
      "text/plain": [
       "(False, True)"
      ]
     },
     "execution_count": 18,
     "metadata": {},
     "output_type": "execute_result"
    }
   ],
   "source": [
    "bool(''),bool('algo')"
   ]
  },
  {
   "cell_type": "code",
   "execution_count": 20,
   "id": "b833a040-6e34-4f3f-b409-26df6923f5e1",
   "metadata": {},
   "outputs": [
    {
     "data": {
      "text/plain": [
       "(False, True)"
      ]
     },
     "execution_count": 20,
     "metadata": {},
     "output_type": "execute_result"
    }
   ],
   "source": [
    "bool([]),bool([0])"
   ]
  },
  {
   "cell_type": "code",
   "execution_count": 22,
   "id": "2bb551d4-5196-4ca9-b31d-01bb2fc5d41d",
   "metadata": {},
   "outputs": [
    {
     "data": {
      "text/plain": [
       "(False, True)"
      ]
     },
     "execution_count": 22,
     "metadata": {},
     "output_type": "execute_result"
    }
   ],
   "source": [
    "bool({}),bool({'key':'value'})"
   ]
  },
  {
   "cell_type": "markdown",
   "id": "4065ddd0-d062-474e-9f18-6e6c1aacc91f",
   "metadata": {},
   "source": [
    "# Sets"
   ]
  },
  {
   "cell_type": "code",
   "execution_count": 23,
   "id": "700598a8-3023-48b6-89a7-f32594198412",
   "metadata": {},
   "outputs": [
    {
     "data": {
      "text/plain": [
       "{4, 'cosa'}"
      ]
     },
     "execution_count": 23,
     "metadata": {},
     "output_type": "execute_result"
    }
   ],
   "source": [
    "# Los conjuntos se definan por llave y coma\n",
    "{4, 'cosa'}"
   ]
  },
  {
   "cell_type": "code",
   "execution_count": 25,
   "id": "35aca124-59e8-4dc4-a44e-3d212f8dd9db",
   "metadata": {},
   "outputs": [
    {
     "data": {
      "text/plain": [
       "set"
      ]
     },
     "execution_count": 25,
     "metadata": {},
     "output_type": "execute_result"
    }
   ],
   "source": [
    "type({4, 'cosa'})"
   ]
  },
  {
   "cell_type": "code",
   "execution_count": 26,
   "id": "15bb7622-67aa-4e95-b4bb-89f4e2efc78b",
   "metadata": {},
   "outputs": [],
   "source": [
    "conjunto ={4,'cosa',1,2,3,4,'a','b','c','a'}"
   ]
  },
  {
   "cell_type": "code",
   "execution_count": 27,
   "id": "dcc04d6e-8871-4578-a110-ca59b5046fb3",
   "metadata": {},
   "outputs": [
    {
     "data": {
      "text/plain": [
       "8"
      ]
     },
     "execution_count": 27,
     "metadata": {},
     "output_type": "execute_result"
    }
   ],
   "source": [
    "len(conjunto)"
   ]
  },
  {
   "cell_type": "code",
   "execution_count": 28,
   "id": "bba40448-724b-4a39-aff8-1d5db7a79a57",
   "metadata": {},
   "outputs": [
    {
     "data": {
      "text/plain": [
       "{1, 2, 3, 4, 'a', 'b', 'c', 'cosa'}"
      ]
     },
     "execution_count": 28,
     "metadata": {},
     "output_type": "execute_result"
    }
   ],
   "source": [
    "conjunto"
   ]
  },
  {
   "cell_type": "markdown",
   "id": "bba3582c-47aa-4248-8384-c40a143e03e1",
   "metadata": {},
   "source": [
    "# Operadores de asignación\n",
    "=,+=,-=,*=,/=,//=,%=,**="
   ]
  },
  {
   "cell_type": "code",
   "execution_count": 29,
   "id": "6846e862-72a3-4aed-9810-c8089fb6062f",
   "metadata": {},
   "outputs": [
    {
     "data": {
      "text/plain": [
       "32"
      ]
     },
     "execution_count": 29,
     "metadata": {},
     "output_type": "execute_result"
    }
   ],
   "source": [
    "a=10\n",
    "a=10+22\n",
    "a"
   ]
  },
  {
   "cell_type": "code",
   "execution_count": 31,
   "id": "259bfc48-29f2-4a8b-814a-a53ff89f718b",
   "metadata": {},
   "outputs": [
    {
     "data": {
      "text/plain": [
       "32"
      ]
     },
     "execution_count": 31,
     "metadata": {},
     "output_type": "execute_result"
    }
   ],
   "source": [
    "a=10\n",
    "a+=22\n",
    "a"
   ]
  },
  {
   "cell_type": "code",
   "execution_count": 33,
   "id": "efc98805-29c6-45c5-aa4d-e96dcd341519",
   "metadata": {},
   "outputs": [
    {
     "data": {
      "text/plain": [
       "'hace más frioque antes'"
      ]
     },
     "execution_count": 33,
     "metadata": {},
     "output_type": "execute_result"
    }
   ],
   "source": [
    "cadena='hace más frio'\n",
    "cadena += 'que antes'\n",
    "cadena\n"
   ]
  },
  {
   "cell_type": "code",
   "execution_count": 37,
   "id": "e37348b3-528e-47dc-a4d7-697a9b462b05",
   "metadata": {},
   "outputs": [],
   "source": [
    "a=144 \n"
   ]
  },
  {
   "cell_type": "code",
   "execution_count": 38,
   "id": "45e3f4f4-6ba5-4da5-8972-5eafc8f96d05",
   "metadata": {},
   "outputs": [
    {
     "data": {
      "text/plain": [
       "12.0"
      ]
     },
     "execution_count": 38,
     "metadata": {},
     "output_type": "execute_result"
    }
   ],
   "source": [
    "a/=12\n",
    "a"
   ]
  },
  {
   "cell_type": "code",
   "execution_count": 40,
   "id": "41f63480-9f96-40d7-8cc3-48a7377ffcde",
   "metadata": {},
   "outputs": [
    {
     "data": {
      "text/plain": [
       "[3,\n",
       " 6,\n",
       " 8,\n",
       " 'azul como el mar azul',\n",
       " 'l',\n",
       " 'a',\n",
       " 's',\n",
       " ' ',\n",
       " 'd',\n",
       " 'o',\n",
       " 'c',\n",
       " 'e',\n",
       " ' ',\n",
       " 'c',\n",
       " 'a',\n",
       " 's',\n",
       " 'a',\n",
       " 's',\n",
       " ' ',\n",
       " 'a',\n",
       " 'z',\n",
       " 'u',\n",
       " 'l',\n",
       " 'e',\n",
       " 's']"
      ]
     },
     "execution_count": 40,
     "metadata": {},
     "output_type": "execute_result"
    }
   ],
   "source": [
    "a=[3,6,8,'azul como el mar azul']\n",
    "a +=  list('las doce casas azules')\n",
    "a"
   ]
  },
  {
   "cell_type": "markdown",
   "id": "9450946c-5741-4d12-9b63-f40e14e4db1f",
   "metadata": {},
   "source": [
    "# Operadores relacionales\n",
    "\n",
    "<, >, ==, !="
   ]
  },
  {
   "cell_type": "code",
   "execution_count": 43,
   "id": "12e6b1c8-64ca-4d82-a442-9329a160e591",
   "metadata": {},
   "outputs": [
    {
     "data": {
      "text/plain": [
       "(False, True, False, True)"
      ]
     },
     "execution_count": 43,
     "metadata": {},
     "output_type": "execute_result"
    }
   ],
   "source": [
    "a, b= 5,18\n",
    "a>b, a<b, a== b, a != b"
   ]
  },
  {
   "cell_type": "code",
   "execution_count": 44,
   "id": "c2053d00-1c5c-4ab8-a933-bd2b443a30b0",
   "metadata": {},
   "outputs": [
    {
     "data": {
      "text/plain": [
       "False"
      ]
     },
     "execution_count": 44,
     "metadata": {},
     "output_type": "execute_result"
    }
   ],
   "source": [
    "a,b,c =-45.2,22,100\n",
    "(((a-b)<567) !=0) == c*0"
   ]
  },
  {
   "cell_type": "code",
   "execution_count": 46,
   "id": "7a5615e6-d799-4bbe-a12c-1893769c7199",
   "metadata": {},
   "outputs": [
    {
     "data": {
      "text/plain": [
       "(True, True, True)"
      ]
     },
     "execution_count": 46,
     "metadata": {},
     "output_type": "execute_result"
    }
   ],
   "source": [
    "True !=0, True == 1, False == 0"
   ]
  },
  {
   "cell_type": "code",
   "execution_count": null,
   "id": "32961070-9442-4654-85d7-62acb2976e1c",
   "metadata": {},
   "outputs": [],
   "source": [
    "# 0<1\n",
    "False < True"
   ]
  },
  {
   "cell_type": "code",
   "execution_count": 47,
   "id": "51cd4ff8-6d8c-44e1-aa84-22a81f40e1dc",
   "metadata": {},
   "outputs": [
    {
     "data": {
      "text/plain": [
       "True"
      ]
     },
     "execution_count": 47,
     "metadata": {},
     "output_type": "execute_result"
    }
   ],
   "source": [
    "False + 1<= True"
   ]
  },
  {
   "cell_type": "code",
   "execution_count": 48,
   "id": "b9227df4-509c-4749-9bcc-c0addcc2ace6",
   "metadata": {},
   "outputs": [
    {
     "data": {
      "text/plain": [
       "True"
      ]
     },
     "execution_count": 48,
     "metadata": {},
     "output_type": "execute_result"
    }
   ],
   "source": [
    "5<10<58"
   ]
  },
  {
   "cell_type": "markdown",
   "id": "758cca76-ddef-4a0f-af7f-e40dd9b9d707",
   "metadata": {},
   "source": [
    "# Operadores lógicos\n",
    "or, and, not"
   ]
  },
  {
   "cell_type": "code",
   "execution_count": 49,
   "id": "70a81fca-beeb-4817-ad58-89beea4dac84",
   "metadata": {},
   "outputs": [
    {
     "data": {
      "text/plain": [
       "(True, False, False, False)"
      ]
     },
     "execution_count": 49,
     "metadata": {},
     "output_type": "execute_result"
    }
   ],
   "source": [
    "#Tabla de verdad del and\n",
    "True and True, True and False, False and True, False and False"
   ]
  },
  {
   "cell_type": "code",
   "execution_count": 50,
   "id": "d856b982-94b8-4a90-a7eb-a09741daafe0",
   "metadata": {},
   "outputs": [
    {
     "data": {
      "text/plain": [
       "(True, True, True, False)"
      ]
     },
     "execution_count": 50,
     "metadata": {},
     "output_type": "execute_result"
    }
   ],
   "source": [
    "# Tabla de verdad del or\n",
    "True or True, True or False, False or True, False or False"
   ]
  },
  {
   "cell_type": "code",
   "execution_count": 51,
   "id": "7cffa7bb-24ad-41ef-82bd-ef662a5f6e0a",
   "metadata": {},
   "outputs": [
    {
     "data": {
      "text/plain": [
       "(False, True)"
      ]
     },
     "execution_count": 51,
     "metadata": {},
     "output_type": "execute_result"
    }
   ],
   "source": [
    "# Tabla de verdad del not\n",
    "not True, not False"
   ]
  },
  {
   "cell_type": "code",
   "execution_count": 52,
   "id": "f901793f-de4d-41f6-8cdc-248c6ff963c0",
   "metadata": {},
   "outputs": [
    {
     "data": {
      "text/plain": [
       "True"
      ]
     },
     "execution_count": 52,
     "metadata": {},
     "output_type": "execute_result"
    }
   ],
   "source": [
    "# 3<5<10\n",
    "3<5 and 5<10"
   ]
  },
  {
   "cell_type": "code",
   "execution_count": 53,
   "id": "9be92b2b-34bb-4726-8a0e-e0944b07561d",
   "metadata": {},
   "outputs": [
    {
     "data": {
      "text/plain": [
       "False"
      ]
     },
     "execution_count": 53,
     "metadata": {},
     "output_type": "execute_result"
    }
   ],
   "source": [
    "#3<8<5\n",
    "3<8 and 8<5"
   ]
  },
  {
   "cell_type": "code",
   "execution_count": 54,
   "id": "c30f2c64-e133-45aa-a171-3846379066f7",
   "metadata": {},
   "outputs": [
    {
     "data": {
      "text/plain": [
       "False"
      ]
     },
     "execution_count": 54,
     "metadata": {},
     "output_type": "execute_result"
    }
   ],
   "source": [
    "c= 'hola mundo'\n",
    "len(c) >= 10 and c[0] == 'H'"
   ]
  },
  {
   "cell_type": "code",
   "execution_count": null,
   "id": "14feb0a5-edf4-4205-8f9b-261e8fef6145",
   "metadata": {},
   "outputs": [],
   "source": []
  }
 ],
 "metadata": {
  "kernelspec": {
   "display_name": "Python 3 (ipykernel)",
   "language": "python",
   "name": "python3"
  },
  "language_info": {
   "codemirror_mode": {
    "name": "ipython",
    "version": 3
   },
   "file_extension": ".py",
   "mimetype": "text/x-python",
   "name": "python",
   "nbconvert_exporter": "python",
   "pygments_lexer": "ipython3",
   "version": "3.10.4"
  }
 },
 "nbformat": 4,
 "nbformat_minor": 5
}
