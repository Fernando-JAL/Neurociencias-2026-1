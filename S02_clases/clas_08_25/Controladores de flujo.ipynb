{
 "cells": [
  {
   "cell_type": "markdown",
   "id": "271b2bce-8360-4419-976b-8f14a99433f9",
   "metadata": {},
   "source": [
    " # Controladores de flujo\n",
    "Son estructuras de control __condicionada__ . \n",
    "    Nos permite evaluar si una o más condiciones se cumplen, para decidir que acciones se van a ejecutar\n",
    "Notese que la evaluación de condiciones solo puede dar como resultado un boolean\n",
    "Los posibles controladores de flujo son:\n",
    "- if\n",
    "- elif\n",
    "- else\n",
    "- while\n",
    "- for\n",
    "\n",
    "    "
   ]
  },
  {
   "cell_type": "markdown",
   "id": "8f1b8da7-5448-4399-a05d-c89a6dd2198a",
   "metadata": {},
   "source": [
    "# Sentencia if\n",
    "El if se ejecuta siempre que la expresión que la acompañe sea True"
   ]
  },
  {
   "cell_type": "code",
   "execution_count": 1,
   "id": "71b0244e-a038-4081-bbb8-77873484b96b",
   "metadata": {},
   "outputs": [
    {
     "name": "stdout",
     "output_type": "stream",
     "text": [
      "entro al if\n"
     ]
    }
   ],
   "source": [
    "if True:\n",
    "    print('entro al if')"
   ]
  },
  {
   "cell_type": "code",
   "execution_count": 5,
   "id": "61d23919-cdbd-494e-9c98-2276a98b1b5a",
   "metadata": {},
   "outputs": [
    {
     "name": "stdout",
     "output_type": "stream",
     "text": [
      "entro al if\n"
     ]
    }
   ],
   "source": [
    "a=2\n",
    "if a >0:\n",
    "    print('entro al if')"
   ]
  },
  {
   "cell_type": "code",
   "execution_count": 7,
   "id": "19163487-5e9e-4370-b51b-aed84189d306",
   "metadata": {},
   "outputs": [
    {
     "name": "stdout",
     "output_type": "stream",
     "text": [
      "a no es mayor que 5\n",
      "codigo después del if\n"
     ]
    }
   ],
   "source": [
    "a= 5\n",
    "if a  > 5:\n",
    "    print('a mayor que 5')\n",
    "else:\n",
    "    print('a no es mayor que 5')\n",
    "\n",
    "print('codigo después del if')"
   ]
  },
  {
   "cell_type": "code",
   "execution_count": 9,
   "id": "8a689bd8-dda9-4062-acd0-c540879b73a4",
   "metadata": {},
   "outputs": [
    {
     "name": "stdout",
     "output_type": "stream",
     "text": [
      "a es par\n",
      "b es positivo\n",
      "continuamos...\n"
     ]
    }
   ],
   "source": [
    "a,b= 10,5\n",
    "if a% 2== 0:\n",
    "    print('a es par')\n",
    "    if b>0:\n",
    "        print('b es positivo')\n",
    "    else:\n",
    "        print('b es gruñon')\n",
    "else:\n",
    "    print('a es impar y b no me importa')\n",
    "print('continuamos...')"
   ]
  },
  {
   "cell_type": "code",
   "execution_count": 12,
   "id": "61a5d236-4ff9-4fe4-9d5a-9cca75971041",
   "metadata": {},
   "outputs": [
    {
     "name": "stdout",
     "output_type": "stream",
     "text": [
      "a es par\n",
      "hay que seguirle\n"
     ]
    }
   ],
   "source": [
    "lista={5,7,9,10}\n",
    "a,b= 9,17\n",
    "if a in lista:\n",
    "    print('a es par')\n",
    "elif a % 2== 0:\n",
    "    print('a es par')\n",
    "else:\n",
    "    print('pos nadota')\n",
    "print('hay que seguirle')"
   ]
  },
  {
   "cell_type": "code",
   "execution_count": 14,
   "id": "688d9b28-f678-4cb4-b06e-a9f97bc100ce",
   "metadata": {},
   "outputs": [],
   "source": [
    "a = 5\n",
    "if a %2==0:\n",
    "    print('a es par')\n",
    "else:\n",
    "    pass"
   ]
  },
  {
   "cell_type": "code",
   "execution_count": null,
   "id": "1ee35c93-0d99-472d-844e-ee322bfd8383",
   "metadata": {},
   "outputs": [],
   "source": []
  }
 ],
 "metadata": {
  "kernelspec": {
   "display_name": "Python 3 (ipykernel)",
   "language": "python",
   "name": "python3"
  },
  "language_info": {
   "codemirror_mode": {
    "name": "ipython",
    "version": 3
   },
   "file_extension": ".py",
   "mimetype": "text/x-python",
   "name": "python",
   "nbconvert_exporter": "python",
   "pygments_lexer": "ipython3",
   "version": "3.10.4"
  }
 },
 "nbformat": 4,
 "nbformat_minor": 5
}
