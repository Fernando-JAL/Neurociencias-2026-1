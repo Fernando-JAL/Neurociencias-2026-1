{
 "cells": [
  {
   "cell_type": "code",
   "execution_count": 7,
   "id": "3393374c-57e6-4291-a82e-7e0df801c3d0",
   "metadata": {},
   "outputs": [],
   "source": [
    "import networkx as nx\n",
    "import matplotlib.pyplot as plt"
   ]
  },
  {
   "cell_type": "code",
   "execution_count": 2,
   "id": "04b58022-884b-4f07-a089-1c391fcaa103",
   "metadata": {},
   "outputs": [],
   "source": [
    "G= nx.Graph()"
   ]
  },
  {
   "cell_type": "code",
   "execution_count": 14,
   "id": "98ca7233-3b72-404c-aa38-bcc0155c02e5",
   "metadata": {},
   "outputs": [],
   "source": [
    "G.add_nodes_from([('A',{'pos':[3,3]}),\n",
    "                  ('B',{'pos':[2,-5]}),\n",
    "                  ('C',{'pos':[5,2]}),\n",
    "                  ('D',{'pos':[-1,2]}),\n",
    "                  ('E',{'pos':[4,-5]})])"
   ]
  },
  {
   "cell_type": "code",
   "execution_count": 15,
   "id": "ca8c7e68-558f-42e8-a680-ee065faf1b1c",
   "metadata": {},
   "outputs": [],
   "source": [
    "G.add_edges_from([('A','E',{'weight':2.2}),\n",
    "                  ('A','C',{'weight':3.9}),\n",
    "                  ('A','D',{'weight':1.3}),\n",
    "                  ('B','C',{'weight':0.6}),\n",
    "                  ('B','D',{'weight':3.4}),\n",
    "                  ('D','E',{'weight':0.8})])"
   ]
  },
  {
   "cell_type": "code",
   "execution_count": 28,
   "id": "1b78c59f-26e7-4cbd-a48c-c7a75e968529",
   "metadata": {},
   "outputs": [
    {
     "data": {
      "text/plain": [
       "{('A', 'E'): Text(3.5000026538036773, -1.00002123042941, '2.2'),\n",
       " ('A', 'C'): Text(3.9998626336455354, 2.500068683177232, '3.9'),\n",
       " ('A', 'D'): Text(1.0000662617385396, 2.5000165654346356, '1.3'),\n",
       " ('B', 'C'): Text(3.4999863668344924, -1.5000318107195199, '0.6'),\n",
       " ('B', 'D'): Text(0.5000136331655094, -1.5000318107195199, '3.4'),\n",
       " ('D', 'E'): Text(1.4999528075568387, -1.4999339305795711, '0.8')}"
      ]
     },
     "execution_count": 28,
     "metadata": {},
     "output_type": "execute_result"
    },
    {
     "data": {
      "image/png": "[encoded data removed]",
      "text/plain": [
       "<Figure size 200x200 with 1 Axes>"
      ]
     },
     "metadata": {},
     "output_type": "display_data"
    }
   ],
   "source": [
    "plt.figure(figsize=(2,2))\n",
    "#agregar posiciones a los nodos\n",
    "positions= nx.get_node_attributes(G,'pos')\n",
    "nx.draw_networkx(G,pos=positions, node_size=50, font_size=6, width=3, node_color='pink', edge_color='hotpink')\n",
    "#agregar los pesos a las aristas\n",
    "weights=nx.get_edge_attributes(G,'weight')\n",
    "nx.draw_networkx_edge_labels(G, pos=positions, edge_labels=weights)\n",
    "#nx.draw_networkx_edges(G, edgelist=G.edges())"
   ]
  },
  {
   "cell_type": "code",
   "execution_count": 29,
   "id": "6c74fcd4-3ea6-4875-a6d1-a10eb155152a",
   "metadata": {},
   "outputs": [
    {
     "data": {
      "text/html": [
       "<div>\n",
       "<style scoped>\n",
       "    .dataframe tbody tr th:only-of-type {\n",
       "        vertical-align: middle;\n",
       "    }\n",
       "\n",
       "    .dataframe tbody tr th {\n",
       "        vertical-align: top;\n",
       "    }\n",
       "\n",
       "    .dataframe thead th {\n",
       "        text-align: right;\n",
       "    }\n",
       "</style>\n",
       "<table border=\"1\" class=\"dataframe\">\n",
       "  <thead>\n",
       "    <tr style=\"text-align: right;\">\n",
       "      <th></th>\n",
       "      <th>source</th>\n",
       "      <th>target</th>\n",
       "      <th>weight</th>\n",
       "    </tr>\n",
       "  </thead>\n",
       "  <tbody>\n",
       "    <tr>\n",
       "      <th>0</th>\n",
       "      <td>A</td>\n",
       "      <td>E</td>\n",
       "      <td>2.2</td>\n",
       "    </tr>\n",
       "    <tr>\n",
       "      <th>1</th>\n",
       "      <td>A</td>\n",
       "      <td>C</td>\n",
       "      <td>3.9</td>\n",
       "    </tr>\n",
       "    <tr>\n",
       "      <th>2</th>\n",
       "      <td>A</td>\n",
       "      <td>D</td>\n",
       "      <td>1.3</td>\n",
       "    </tr>\n",
       "    <tr>\n",
       "      <th>3</th>\n",
       "      <td>B</td>\n",
       "      <td>C</td>\n",
       "      <td>0.6</td>\n",
       "    </tr>\n",
       "    <tr>\n",
       "      <th>4</th>\n",
       "      <td>B</td>\n",
       "      <td>D</td>\n",
       "      <td>3.4</td>\n",
       "    </tr>\n",
       "    <tr>\n",
       "      <th>5</th>\n",
       "      <td>D</td>\n",
       "      <td>E</td>\n",
       "      <td>0.8</td>\n",
       "    </tr>\n",
       "  </tbody>\n",
       "</table>\n",
       "</div>"
      ],
      "text/plain": [
       "  source target  weight\n",
       "0      A      E     2.2\n",
       "1      A      C     3.9\n",
       "2      A      D     1.3\n",
       "3      B      C     0.6\n",
       "4      B      D     3.4\n",
       "5      D      E     0.8"
      ]
     },
     "execution_count": 29,
     "metadata": {},
     "output_type": "execute_result"
    }
   ],
   "source": [
    "nx.to_pandas_edgelist(G)"
   ]
  },
  {
   "cell_type": "code",
   "execution_count": 30,
   "id": "0dc2f149-c812-4b0e-840d-b6809c1000c4",
   "metadata": {},
   "outputs": [
    {
     "data": {
      "text/plain": [
       "[('A', {'E': {'weight': 2.2}, 'C': {'weight': 3.9}, 'D': {'weight': 1.3}}),\n",
       " ('B', {'C': {'weight': 0.6}, 'D': {'weight': 3.4}}),\n",
       " ('C', {'A': {'weight': 3.9}, 'B': {'weight': 0.6}}),\n",
       " ('D', {'A': {'weight': 1.3}, 'B': {'weight': 3.4}, 'E': {'weight': 0.8}}),\n",
       " ('E', {'A': {'weight': 2.2}, 'D': {'weight': 0.8}})]"
      ]
     },
     "execution_count": 30,
     "metadata": {},
     "output_type": "execute_result"
    }
   ],
   "source": [
    "list(G.adjacency())"
   ]
  },
  {
   "cell_type": "code",
   "execution_count": 33,
   "id": "400cdd28-9602-4b5c-b739-a956a4ad08eb",
   "metadata": {},
   "outputs": [
    {
     "data": {
      "text/html": [
       "<div>\n",
       "<style scoped>\n",
       "    .dataframe tbody tr th:only-of-type {\n",
       "        vertical-align: middle;\n",
       "    }\n",
       "\n",
       "    .dataframe tbody tr th {\n",
       "        vertical-align: top;\n",
       "    }\n",
       "\n",
       "    .dataframe thead th {\n",
       "        text-align: right;\n",
       "    }\n",
       "</style>\n",
       "<table border=\"1\" class=\"dataframe\">\n",
       "  <thead>\n",
       "    <tr style=\"text-align: right;\">\n",
       "      <th></th>\n",
       "      <th>A</th>\n",
       "      <th>B</th>\n",
       "      <th>C</th>\n",
       "      <th>D</th>\n",
       "      <th>E</th>\n",
       "    </tr>\n",
       "  </thead>\n",
       "  <tbody>\n",
       "    <tr>\n",
       "      <th>A</th>\n",
       "      <td>0.0</td>\n",
       "      <td>0.0</td>\n",
       "      <td>3.9</td>\n",
       "      <td>1.3</td>\n",
       "      <td>2.2</td>\n",
       "    </tr>\n",
       "    <tr>\n",
       "      <th>B</th>\n",
       "      <td>0.0</td>\n",
       "      <td>0.0</td>\n",
       "      <td>0.6</td>\n",
       "      <td>3.4</td>\n",
       "      <td>0.0</td>\n",
       "    </tr>\n",
       "    <tr>\n",
       "      <th>C</th>\n",
       "      <td>3.9</td>\n",
       "      <td>0.6</td>\n",
       "      <td>0.0</td>\n",
       "      <td>0.0</td>\n",
       "      <td>0.0</td>\n",
       "    </tr>\n",
       "    <tr>\n",
       "      <th>D</th>\n",
       "      <td>1.3</td>\n",
       "      <td>3.4</td>\n",
       "      <td>0.0</td>\n",
       "      <td>0.0</td>\n",
       "      <td>0.8</td>\n",
       "    </tr>\n",
       "    <tr>\n",
       "      <th>E</th>\n",
       "      <td>2.2</td>\n",
       "      <td>0.0</td>\n",
       "      <td>0.0</td>\n",
       "      <td>0.8</td>\n",
       "      <td>0.0</td>\n",
       "    </tr>\n",
       "  </tbody>\n",
       "</table>\n",
       "</div>"
      ],
      "text/plain": [
       "     A    B    C    D    E\n",
       "A  0.0  0.0  3.9  1.3  2.2\n",
       "B  0.0  0.0  0.6  3.4  0.0\n",
       "C  3.9  0.6  0.0  0.0  0.0\n",
       "D  1.3  3.4  0.0  0.0  0.8\n",
       "E  2.2  0.0  0.0  0.8  0.0"
      ]
     },
     "execution_count": 33,
     "metadata": {},
     "output_type": "execute_result"
    }
   ],
   "source": [
    "adjacency= nx.to_pandas_adjacency(G)\n",
    "adjacency"
   ]
  },
  {
   "cell_type": "code",
   "execution_count": 37,
   "id": "7c76e00d-2bae-4e16-88ca-6725e6dcd51f",
   "metadata": {},
   "outputs": [],
   "source": [
    "adjacency.to_csv('adjacency.csv')"
   ]
  },
  {
   "cell_type": "code",
   "execution_count": 35,
   "id": "0ce9220d-c13d-4d8d-b5d2-2c026703c2d1",
   "metadata": {},
   "outputs": [],
   "source": [
    "import pandas as pd"
   ]
  },
  {
   "cell_type": "code",
   "execution_count": 46,
   "id": "84a48782-fae3-40bd-b84f-821c695873ea",
   "metadata": {},
   "outputs": [
    {
     "data": {
      "text/plain": [
       "Index(['Unnamed: 0', 'A', 'B', 'C', 'D', 'E'], dtype='object')"
      ]
     },
     "execution_count": 46,
     "metadata": {},
     "output_type": "execute_result"
    }
   ],
   "source": [
    "df= pd.read_csv('adjacency.csv')\n",
    "df.columns"
   ]
  },
  {
   "cell_type": "code",
   "execution_count": 47,
   "id": "3510addd-1cb9-40bf-93cb-97167b3e595f",
   "metadata": {},
   "outputs": [],
   "source": [
    "df.set_index('Unnamed: 0', drop=True, inplace=True)\n",
    "newG= nx.from_pandas_adjacency(df)"
   ]
  },
  {
   "cell_type": "code",
   "execution_count": 49,
   "id": "6bafd4f7-67c8-4017-a9c1-a68accf0e88e",
   "metadata": {},
   "outputs": [
    {
     "data": {
      "text/plain": [
       "<networkx.classes.graph.Graph at 0x2025d9cc6a0>"
      ]
     },
     "execution_count": 49,
     "metadata": {},
     "output_type": "execute_result"
    }
   ],
   "source": [
    "newG"
   ]
  },
  {
   "cell_type": "code",
   "execution_count": 52,
   "id": "28c4e318-435a-4d8a-82ac-e369930cfd48",
   "metadata": {},
   "outputs": [
    {
     "data": {
      "image/png": "[encoded data removed]",
      "text/plain": [
       "<Figure size 640x480 with 1 Axes>"
      ]
     },
     "metadata": {},
     "output_type": "display_data"
    }
   ],
   "source": [
    "nx.draw_networkx(newG)"
   ]
  },
  {
   "cell_type": "code",
   "execution_count": null,
   "id": "19db8897-6f4e-484d-958f-928dfd3eef89",
   "metadata": {},
   "outputs": [],
   "source": [
    "#tarea para mañana\n",
    "#dentro de data sets nos puso un archivo csv con 3 matrices de conectividad, solo hay que hacer la 1ra\n",
    "#en la branck  main son coordenadas asociadas a esos objetos\n",
    "#hay que hacer el grafo bidimensional del archivo 3D (tomando las primeras dos coordenadas)"
   ]
  }
 ],
 "metadata": {
  "kernelspec": {
   "display_name": "Python 3 (ipykernel)",
   "language": "python",
   "name": "python3"
  },
  "language_info": {
   "codemirror_mode": {
    "name": "ipython",
    "version": 3
   },
   "file_extension": ".py",
   "mimetype": "text/x-python",
   "name": "python",
   "nbconvert_exporter": "python",
   "pygments_lexer": "ipython3",
   "version": "3.10.4"
  }
 },
 "nbformat": 4,
 "nbformat_minor": 5
}
