{
 "cells": [
  {
   "cell_type": "code",
   "execution_count": 1,
   "id": "aa936c6f-2df6-4d31-8c73-032c9316481c",
   "metadata": {},
   "outputs": [
    {
     "name": "stdout",
     "output_type": "stream",
     "text": [
      "Collecting networkx\n",
      "  Downloading networkx-3.4.2-py3-none-any.whl (1.7 MB)\n",
      "     ---------------------------------------- 1.7/1.7 MB 4.8 MB/s eta 0:00:00\n",
      "Installing collected packages: networkx\n",
      "Successfully installed networkx-3.4.2\n"
     ]
    },
    {
     "name": "stderr",
     "output_type": "stream",
     "text": [
      "WARNING: You are using pip version 22.0.4; however, version 25.2 is available.\n",
      "You should consider upgrading via the 'C:\\Users\\mafig\\AppData\\Local\\Programs\\Python\\Python310\\python.exe -m pip install --upgrade pip' command.\n"
     ]
    }
   ],
   "source": [
    "!pip install networkx"
   ]
  },
  {
   "cell_type": "code",
   "execution_count": 11,
   "id": "c7f6ce66-e1e9-44f6-abf4-701df4720d02",
   "metadata": {},
   "outputs": [],
   "source": [
    "import networkx as nx\n",
    "import matplotlib.pyplot as plt"
   ]
  },
  {
   "cell_type": "code",
   "execution_count": 3,
   "id": "d950906a-7654-4168-bb41-d6a929419e98",
   "metadata": {},
   "outputs": [],
   "source": [
    "G=nx.Graph()"
   ]
  },
  {
   "cell_type": "code",
   "execution_count": 18,
   "id": "9d5e8b32-0660-4dda-8bd8-8e1f19edeab2",
   "metadata": {},
   "outputs": [],
   "source": [
    "G.add_nodes_from([('A',{'pos':[3,3]}),\n",
    "                  ('B',{'pos':[2,-5]}),\n",
    "                  ('C',{'pos':[5,2]}),\n",
    "                  ('D',{'pos':[-1,2]}),\n",
    "                  ('E',{'pos':[4,-5]})])"
   ]
  },
  {
   "cell_type": "code",
   "execution_count": 16,
   "id": "314f3ea8-09d5-4813-984c-b9d33bd44cbb",
   "metadata": {},
   "outputs": [],
   "source": [
    "G.add_edges_from([('D','A',{'weight':1.3}),\n",
    "                  ('A','C',{'weight':3.9}),\n",
    "                  ('D','E',{'weight':0.8}),\n",
    "                  ('B','C',{'weight':0.6}),\n",
    "                  ('A','E',{'weight':2.2}),\n",
    "                  ('D','B',{'weight':3.4})])"
   ]
  },
  {
   "cell_type": "code",
   "execution_count": 34,
   "id": "a77862fc-55de-44d5-91b2-75837fd20f47",
   "metadata": {},
   "outputs": [
    {
     "data": {
      "image/png": "[encoded data removed]",
      "text/plain": [
       "<Figure size 200x200 with 1 Axes>"
      ]
     },
     "metadata": {},
     "output_type": "display_data"
    }
   ],
   "source": [
    "plt.figure(figsize=(2,2))\n",
    "# agreagr posiciones a los nodos\n",
    "positions=nx.get_node_attributes(G,'pos')\n",
    "nx.draw_networkx(G,pos=positions,node_size=50,font_size=6,\n",
    "                 width=3,node_color='purple',edge_color='pink')\n",
    "# nx.draw_networkx(G,pos=positions, node_size=50)\n",
    "# agregando los pesos a las aristas\n",
    "\n",
    "weights=nx.get_edge_attributes(G,'weight')\n",
    "nx.draw_networkx_edge_labels(G,pos= positions,edge_labels=weights);"
   ]
  },
  {
   "cell_type": "code",
   "execution_count": 31,
   "id": "d14d26be-b072-44cd-8ceb-413460f2876a",
   "metadata": {},
   "outputs": [
    {
     "data": {
      "text/html": [
       "<div>\n",
       "<style scoped>\n",
       "    .dataframe tbody tr th:only-of-type {\n",
       "        vertical-align: middle;\n",
       "    }\n",
       "\n",
       "    .dataframe tbody tr th {\n",
       "        vertical-align: top;\n",
       "    }\n",
       "\n",
       "    .dataframe thead th {\n",
       "        text-align: right;\n",
       "    }\n",
       "</style>\n",
       "<table border=\"1\" class=\"dataframe\">\n",
       "  <thead>\n",
       "    <tr style=\"text-align: right;\">\n",
       "      <th></th>\n",
       "      <th>source</th>\n",
       "      <th>target</th>\n",
       "      <th>weight</th>\n",
       "    </tr>\n",
       "  </thead>\n",
       "  <tbody>\n",
       "    <tr>\n",
       "      <th>0</th>\n",
       "      <td>A</td>\n",
       "      <td>D</td>\n",
       "      <td>1.3</td>\n",
       "    </tr>\n",
       "    <tr>\n",
       "      <th>1</th>\n",
       "      <td>A</td>\n",
       "      <td>C</td>\n",
       "      <td>3.9</td>\n",
       "    </tr>\n",
       "    <tr>\n",
       "      <th>2</th>\n",
       "      <td>A</td>\n",
       "      <td>E</td>\n",
       "      <td>2.2</td>\n",
       "    </tr>\n",
       "    <tr>\n",
       "      <th>3</th>\n",
       "      <td>B</td>\n",
       "      <td>C</td>\n",
       "      <td>0.6</td>\n",
       "    </tr>\n",
       "    <tr>\n",
       "      <th>4</th>\n",
       "      <td>B</td>\n",
       "      <td>D</td>\n",
       "      <td>3.4</td>\n",
       "    </tr>\n",
       "    <tr>\n",
       "      <th>5</th>\n",
       "      <td>D</td>\n",
       "      <td>E</td>\n",
       "      <td>0.8</td>\n",
       "    </tr>\n",
       "  </tbody>\n",
       "</table>\n",
       "</div>"
      ],
      "text/plain": [
       "  source target  weight\n",
       "0      A      D     1.3\n",
       "1      A      C     3.9\n",
       "2      A      E     2.2\n",
       "3      B      C     0.6\n",
       "4      B      D     3.4\n",
       "5      D      E     0.8"
      ]
     },
     "execution_count": 31,
     "metadata": {},
     "output_type": "execute_result"
    }
   ],
   "source": [
    "edgelist=nx.to_pandas_edgelist(G)"
   ]
  },
  {
   "cell_type": "code",
   "execution_count": 32,
   "id": "c018485f-3b5a-4229-953c-61fcab2e98b9",
   "metadata": {},
   "outputs": [
    {
     "data": {
      "text/plain": [
       "[('A', {'D': {'weight': 1.3}, 'C': {'weight': 3.9}, 'E': {'weight': 2.2}}),\n",
       " ('B', {'C': {'weight': 0.6}, 'D': {'weight': 3.4}}),\n",
       " ('C', {'A': {'weight': 3.9}, 'B': {'weight': 0.6}}),\n",
       " ('D', {'A': {'weight': 1.3}, 'E': {'weight': 0.8}, 'B': {'weight': 3.4}}),\n",
       " ('E', {'D': {'weight': 0.8}, 'A': {'weight': 2.2}})]"
      ]
     },
     "execution_count": 32,
     "metadata": {},
     "output_type": "execute_result"
    }
   ],
   "source": [
    "list(G.adjacency())"
   ]
  },
  {
   "cell_type": "code",
   "execution_count": 36,
   "id": "505fe803-a3db-4e28-85a9-e1acf219585e",
   "metadata": {},
   "outputs": [
    {
     "data": {
      "text/html": [
       "<div>\n",
       "<style scoped>\n",
       "    .dataframe tbody tr th:only-of-type {\n",
       "        vertical-align: middle;\n",
       "    }\n",
       "\n",
       "    .dataframe tbody tr th {\n",
       "        vertical-align: top;\n",
       "    }\n",
       "\n",
       "    .dataframe thead th {\n",
       "        text-align: right;\n",
       "    }\n",
       "</style>\n",
       "<table border=\"1\" class=\"dataframe\">\n",
       "  <thead>\n",
       "    <tr style=\"text-align: right;\">\n",
       "      <th></th>\n",
       "      <th>A</th>\n",
       "      <th>B</th>\n",
       "      <th>C</th>\n",
       "      <th>D</th>\n",
       "      <th>E</th>\n",
       "    </tr>\n",
       "  </thead>\n",
       "  <tbody>\n",
       "    <tr>\n",
       "      <th>A</th>\n",
       "      <td>0.0</td>\n",
       "      <td>0.0</td>\n",
       "      <td>3.9</td>\n",
       "      <td>1.3</td>\n",
       "      <td>2.2</td>\n",
       "    </tr>\n",
       "    <tr>\n",
       "      <th>B</th>\n",
       "      <td>0.0</td>\n",
       "      <td>0.0</td>\n",
       "      <td>0.6</td>\n",
       "      <td>3.4</td>\n",
       "      <td>0.0</td>\n",
       "    </tr>\n",
       "    <tr>\n",
       "      <th>C</th>\n",
       "      <td>3.9</td>\n",
       "      <td>0.6</td>\n",
       "      <td>0.0</td>\n",
       "      <td>0.0</td>\n",
       "      <td>0.0</td>\n",
       "    </tr>\n",
       "    <tr>\n",
       "      <th>D</th>\n",
       "      <td>1.3</td>\n",
       "      <td>3.4</td>\n",
       "      <td>0.0</td>\n",
       "      <td>0.0</td>\n",
       "      <td>0.8</td>\n",
       "    </tr>\n",
       "    <tr>\n",
       "      <th>E</th>\n",
       "      <td>2.2</td>\n",
       "      <td>0.0</td>\n",
       "      <td>0.0</td>\n",
       "      <td>0.8</td>\n",
       "      <td>0.0</td>\n",
       "    </tr>\n",
       "  </tbody>\n",
       "</table>\n",
       "</div>"
      ],
      "text/plain": [
       "     A    B    C    D    E\n",
       "A  0.0  0.0  3.9  1.3  2.2\n",
       "B  0.0  0.0  0.6  3.4  0.0\n",
       "C  3.9  0.6  0.0  0.0  0.0\n",
       "D  1.3  3.4  0.0  0.0  0.8\n",
       "E  2.2  0.0  0.0  0.8  0.0"
      ]
     },
     "execution_count": 36,
     "metadata": {},
     "output_type": "execute_result"
    }
   ],
   "source": [
    "adjacency=nx.to_pandas_adjacency(G) #conexión entre nodos\n",
    "adjacency"
   ]
  },
  {
   "cell_type": "code",
   "execution_count": 37,
   "id": "81976c01-00df-4647-a8a1-dd66c2a11c68",
   "metadata": {},
   "outputs": [],
   "source": [
    "adjacency.to_csv('adjacency_ej.csv')"
   ]
  },
  {
   "cell_type": "code",
   "execution_count": 38,
   "id": "aaf8ecf2-f00f-4b64-be2e-709f80169d30",
   "metadata": {},
   "outputs": [],
   "source": [
    "import pandas as pd"
   ]
  },
  {
   "cell_type": "code",
   "execution_count": 39,
   "id": "c199baad-65fb-412c-a15d-bbf7720ecc3d",
   "metadata": {},
   "outputs": [],
   "source": [
    "df= pd.read_csv('adjacency_ej.csv')"
   ]
  },
  {
   "cell_type": "code",
   "execution_count": 42,
   "id": "6f57f8c3-a050-418c-8dbd-646945ee5a5d",
   "metadata": {},
   "outputs": [],
   "source": [
    "df.set_index('Unnamed: 0',drop=True,inplace=True)\n",
    "newG=nx.from_pandas_adjacency(df)"
   ]
  },
  {
   "cell_type": "code",
   "execution_count": 45,
   "id": "cdce7b34-b108-4511-bc02-055b868ebb49",
   "metadata": {},
   "outputs": [
    {
     "data": {
      "image/png": "[encoded data removed]",
      "text/plain": [
       "<Figure size 640x480 with 1 Axes>"
      ]
     },
     "metadata": {},
     "output_type": "display_data"
    }
   ],
   "source": [
    "nx.draw_networkx(newG)"
   ]
  },
  {
   "cell_type": "code",
   "execution_count": null,
   "id": "952d9401-727d-4fc9-a886-e16eb59f9b2c",
   "metadata": {},
   "outputs": [],
   "source": [
    "#crear grafo bidimensional, hacer la primera del archivo EEG, plotear grafo con coordenadas"
   ]
  }
 ],
 "metadata": {
  "kernelspec": {
   "display_name": "Python 3 (ipykernel)",
   "language": "python",
   "name": "python3"
  },
  "language_info": {
   "codemirror_mode": {
    "name": "ipython",
    "version": 3
   },
   "file_extension": ".py",
   "mimetype": "text/x-python",
   "name": "python",
   "nbconvert_exporter": "python",
   "pygments_lexer": "ipython3",
   "version": "3.10.4"
  }
 },
 "nbformat": 4,
 "nbformat_minor": 5
}
