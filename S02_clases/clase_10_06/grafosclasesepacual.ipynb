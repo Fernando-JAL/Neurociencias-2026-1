{
 "cells": [
  {
   "cell_type": "code",
   "execution_count": 3,
   "id": "d0bb3e71-f54d-412a-a6f3-92169960e0f5",
   "metadata": {},
   "outputs": [],
   "source": [
    "import networkx as nx"
   ]
  },
  {
   "cell_type": "code",
   "execution_count": 44,
   "id": "70d9012d-23ec-4995-9e1f-1596d8e88f6c",
   "metadata": {},
   "outputs": [],
   "source": [
    "G = nx.Graph ()"
   ]
  },
  {
   "cell_type": "code",
   "execution_count": 45,
   "id": "ee13088a-20c0-497c-a9bb-ebc4af8fb333",
   "metadata": {},
   "outputs": [],
   "source": [
    "G.add_nodes_from ( [('A', {'pos' : [3, 3]}),\n",
    "                    ('B', {'pos' : [2, -5]}),\n",
    "                   ('C', {'pos' : [5, 2]}),\n",
    "                   ('D',{'pos' : [-1 ,2]}),\n",
    "                   ('E', {'pos' : [4,-5]})] )"
   ]
  },
  {
   "cell_type": "code",
   "execution_count": 46,
   "id": "b0d8be90-eea5-4ec7-bb87-82ecbf9d1b05",
   "metadata": {},
   "outputs": [],
   "source": [
    "G.add_edges_from ([('D', 'A', {'weight' : 1.3}),('A', 'C', {'weight' : 3.9}),('D', 'E', {'weight' : 0.8}),('B', 'C',{'weight' : 0.6}),('A', 'E', {'weight' : 2.2}),('D', 'B', {'weight' : 3.4})])"
   ]
  },
  {
   "cell_type": "code",
   "execution_count": 47,
   "id": "52ae2909-0b7d-43a1-8d6e-3f5df2aa7b50",
   "metadata": {},
   "outputs": [],
   "source": [
    "import matplotlib.pyplot as plt"
   ]
  },
  {
   "cell_type": "code",
   "execution_count": 51,
   "id": "4f693eec-259d-4755-8ab4-cae1d6596fc0",
   "metadata": {},
   "outputs": [
    {
     "data": {
      "image/png": "[encoded data removed]",
      "text/plain": [
       "<Figure size 200x200 with 1 Axes>"
      ]
     },
     "metadata": {},
     "output_type": "display_data"
    }
   ],
   "source": [
    "plt.figure(figsize= (2,2))\n",
    "positions = nx.get_node_attributes(G, 'pos')\n",
    "#nx.draw_network_edge_Labels(G) \n",
    "nx.draw_networkx(G,pos=positions, node_size=50, font_size=6, width=3)\n",
    "weights = nx.get_edge_attributes (G , 'weight')\n",
    "nx.draw_networkx_edge_labels(G, pos=positions, edge_labels=weights);"
   ]
  },
  {
   "cell_type": "code",
   "execution_count": 55,
   "id": "cadff8d8-4035-4ec5-831e-e84b9678dc46",
   "metadata": {},
   "outputs": [],
   "source": [
    "nx.to_pandas_edgelist(G);"
   ]
  },
  {
   "cell_type": "code",
   "execution_count": 59,
   "id": "fb0d1ea1-300e-4e82-abb2-62ee44239324",
   "metadata": {},
   "outputs": [],
   "source": [
    "list (G.adjacency());"
   ]
  },
  {
   "cell_type": "code",
   "execution_count": 60,
   "id": "b80d9a5d-196c-4688-b13f-60184fa49e03",
   "metadata": {},
   "outputs": [
    {
     "data": {
      "text/html": [
       "<div>\n",
       "<style scoped>\n",
       "    .dataframe tbody tr th:only-of-type {\n",
       "        vertical-align: middle;\n",
       "    }\n",
       "\n",
       "    .dataframe tbody tr th {\n",
       "        vertical-align: top;\n",
       "    }\n",
       "\n",
       "    .dataframe thead th {\n",
       "        text-align: right;\n",
       "    }\n",
       "</style>\n",
       "<table border=\"1\" class=\"dataframe\">\n",
       "  <thead>\n",
       "    <tr style=\"text-align: right;\">\n",
       "      <th></th>\n",
       "      <th>A</th>\n",
       "      <th>B</th>\n",
       "      <th>C</th>\n",
       "      <th>D</th>\n",
       "      <th>E</th>\n",
       "    </tr>\n",
       "  </thead>\n",
       "  <tbody>\n",
       "    <tr>\n",
       "      <th>A</th>\n",
       "      <td>0.0</td>\n",
       "      <td>0.0</td>\n",
       "      <td>3.9</td>\n",
       "      <td>1.3</td>\n",
       "      <td>2.2</td>\n",
       "    </tr>\n",
       "    <tr>\n",
       "      <th>B</th>\n",
       "      <td>0.0</td>\n",
       "      <td>0.0</td>\n",
       "      <td>0.6</td>\n",
       "      <td>3.4</td>\n",
       "      <td>0.0</td>\n",
       "    </tr>\n",
       "    <tr>\n",
       "      <th>C</th>\n",
       "      <td>3.9</td>\n",
       "      <td>0.6</td>\n",
       "      <td>0.0</td>\n",
       "      <td>0.0</td>\n",
       "      <td>0.0</td>\n",
       "    </tr>\n",
       "    <tr>\n",
       "      <th>D</th>\n",
       "      <td>1.3</td>\n",
       "      <td>3.4</td>\n",
       "      <td>0.0</td>\n",
       "      <td>0.0</td>\n",
       "      <td>0.8</td>\n",
       "    </tr>\n",
       "    <tr>\n",
       "      <th>E</th>\n",
       "      <td>2.2</td>\n",
       "      <td>0.0</td>\n",
       "      <td>0.0</td>\n",
       "      <td>0.8</td>\n",
       "      <td>0.0</td>\n",
       "    </tr>\n",
       "  </tbody>\n",
       "</table>\n",
       "</div>"
      ],
      "text/plain": [
       "     A    B    C    D    E\n",
       "A  0.0  0.0  3.9  1.3  2.2\n",
       "B  0.0  0.0  0.6  3.4  0.0\n",
       "C  3.9  0.6  0.0  0.0  0.0\n",
       "D  1.3  3.4  0.0  0.0  0.8\n",
       "E  2.2  0.0  0.0  0.8  0.0"
      ]
     },
     "execution_count": 60,
     "metadata": {},
     "output_type": "execute_result"
    }
   ],
   "source": [
    "nx.to_pandas_adjacency(G)"
   ]
  },
  {
   "cell_type": "code",
   "execution_count": 62,
   "id": "66a8b02b-1d41-4e91-826a-2177dc07724c",
   "metadata": {},
   "outputs": [
    {
     "data": {
      "text/html": [
       "<div>\n",
       "<style scoped>\n",
       "    .dataframe tbody tr th:only-of-type {\n",
       "        vertical-align: middle;\n",
       "    }\n",
       "\n",
       "    .dataframe tbody tr th {\n",
       "        vertical-align: top;\n",
       "    }\n",
       "\n",
       "    .dataframe thead th {\n",
       "        text-align: right;\n",
       "    }\n",
       "</style>\n",
       "<table border=\"1\" class=\"dataframe\">\n",
       "  <thead>\n",
       "    <tr style=\"text-align: right;\">\n",
       "      <th></th>\n",
       "      <th>A</th>\n",
       "      <th>B</th>\n",
       "      <th>C</th>\n",
       "      <th>D</th>\n",
       "      <th>E</th>\n",
       "    </tr>\n",
       "  </thead>\n",
       "  <tbody>\n",
       "    <tr>\n",
       "      <th>A</th>\n",
       "      <td>0.0</td>\n",
       "      <td>0.0</td>\n",
       "      <td>3.9</td>\n",
       "      <td>1.3</td>\n",
       "      <td>2.2</td>\n",
       "    </tr>\n",
       "    <tr>\n",
       "      <th>B</th>\n",
       "      <td>0.0</td>\n",
       "      <td>0.0</td>\n",
       "      <td>0.6</td>\n",
       "      <td>3.4</td>\n",
       "      <td>0.0</td>\n",
       "    </tr>\n",
       "    <tr>\n",
       "      <th>C</th>\n",
       "      <td>3.9</td>\n",
       "      <td>0.6</td>\n",
       "      <td>0.0</td>\n",
       "      <td>0.0</td>\n",
       "      <td>0.0</td>\n",
       "    </tr>\n",
       "    <tr>\n",
       "      <th>D</th>\n",
       "      <td>1.3</td>\n",
       "      <td>3.4</td>\n",
       "      <td>0.0</td>\n",
       "      <td>0.0</td>\n",
       "      <td>0.8</td>\n",
       "    </tr>\n",
       "    <tr>\n",
       "      <th>E</th>\n",
       "      <td>2.2</td>\n",
       "      <td>0.0</td>\n",
       "      <td>0.0</td>\n",
       "      <td>0.8</td>\n",
       "      <td>0.0</td>\n",
       "    </tr>\n",
       "  </tbody>\n",
       "</table>\n",
       "</div>"
      ],
      "text/plain": [
       "     A    B    C    D    E\n",
       "A  0.0  0.0  3.9  1.3  2.2\n",
       "B  0.0  0.0  0.6  3.4  0.0\n",
       "C  3.9  0.6  0.0  0.0  0.0\n",
       "D  1.3  3.4  0.0  0.0  0.8\n",
       "E  2.2  0.0  0.0  0.8  0.0"
      ]
     },
     "execution_count": 62,
     "metadata": {},
     "output_type": "execute_result"
    }
   ],
   "source": [
    "adjacency = nx.to_pandas_adjacency(G)\n",
    "adjacency"
   ]
  },
  {
   "cell_type": "code",
   "execution_count": 63,
   "id": "ec7c18c6-aff2-48ff-8db4-3fe93df45e2e",
   "metadata": {},
   "outputs": [],
   "source": [
    "adjacency.to_csv('adjacency_ej.csv')"
   ]
  },
  {
   "cell_type": "code",
   "execution_count": 64,
   "id": "40175bcf-cf82-4305-b6b9-5653cf9192a9",
   "metadata": {},
   "outputs": [],
   "source": [
    "import pandas as pd"
   ]
  },
  {
   "cell_type": "code",
   "execution_count": 70,
   "id": "36123a4a-8330-4be0-aeb7-699c5396261b",
   "metadata": {},
   "outputs": [],
   "source": [
    "df = pd.read_csv('adjacency_ej.csv')\n",
    "\n",
    "df.set_index('Unnamed: 0', drop=True, inplace=True)\n",
    "\n",
    "newG= nx.from_pandas_adjacency(df)"
   ]
  },
  {
   "cell_type": "code",
   "execution_count": 71,
   "id": "fcd5ada9-e4c2-4d87-8da6-af2900833812",
   "metadata": {},
   "outputs": [
    {
     "data": {
      "image/png": "[encoded data removed]",
      "text/plain": [
       "<Figure size 640x480 with 1 Axes>"
      ]
     },
     "metadata": {},
     "output_type": "display_data"
    }
   ],
   "source": [
    "nx.draw_networkx(newG)"
   ]
  },
  {
   "cell_type": "code",
   "execution_count": null,
   "id": "69761045-02ad-45b0-8830-50c66383cb96",
   "metadata": {},
   "outputs": [],
   "source": [
    "# tarea pa mañana de la primera hoja del archivo de excel toamr primera y segunda coordenada , es de la matriz de conectividad y hacer un grafo "
   ]
  }
 ],
 "metadata": {
  "kernelspec": {
   "display_name": "Python 3 (ipykernel)",
   "language": "python",
   "name": "python3"
  },
  "language_info": {
   "codemirror_mode": {
    "name": "ipython",
    "version": 3
   },
   "file_extension": ".py",
   "mimetype": "text/x-python",
   "name": "python",
   "nbconvert_exporter": "python",
   "pygments_lexer": "ipython3",
   "version": "3.10.4"
  }
 },
 "nbformat": 4,
 "nbformat_minor": 5
}
