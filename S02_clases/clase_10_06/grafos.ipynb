{
 "cells": [
  {
   "cell_type": "code",
   "execution_count": 8,
   "id": "18371fa6-ba44-4dfc-958d-939355b0e8b4",
   "metadata": {},
   "outputs": [],
   "source": [
    "import networkx as nx\n",
    "import matplotlib.pyplot as plt"
   ]
  },
  {
   "cell_type": "code",
   "execution_count": 2,
   "id": "11341e22-8e7a-4efa-b8d4-8044e9409e21",
   "metadata": {},
   "outputs": [],
   "source": [
    "G = nx.Graph()"
   ]
  },
  {
   "cell_type": "code",
   "execution_count": 25,
   "id": "3ab33738-1da5-486a-8db5-8c976bbf9d46",
   "metadata": {},
   "outputs": [],
   "source": [
    "G.add_nodes_from( [('A', {'pos': [3, 3]}), \n",
    "                   ('B', {'pos': [2, -5]}),\n",
    "                   ('C', {'pos': [5, 2]}),\n",
    "                   ('D', {'pos': [-1, 2]}),\n",
    "                   ('E', {'pos': [4, -5]}) ] )"
   ]
  },
  {
   "cell_type": "code",
   "execution_count": 26,
   "id": "3947b848-6fa5-458c-9bf9-d21255a4e5a1",
   "metadata": {},
   "outputs": [],
   "source": [
    "G.add_edges_from( [ ('D', 'A', {'weight': 1.3}), \n",
    "                    ('A', 'C', {'weight': 3.9}), \n",
    "                    ('D', 'E', {'weight': 0.8}), \n",
    "                    ('B', 'C', {'weight': 0.6}), \n",
    "                    ('A', 'E', {'weight': 2.2}), \n",
    "                    ('D', 'B', {'weight': 3.4}) ] )"
   ]
  },
  {
   "cell_type": "code",
   "execution_count": 47,
   "id": "2f60ed9a-3f10-4ea6-bda9-fab607124f79",
   "metadata": {},
   "outputs": [
    {
     "data": {
      "image/png": "[encoded data removed]",
      "text/plain": [
       "<Figure size 200x200 with 1 Axes>"
      ]
     },
     "metadata": {},
     "output_type": "display_data"
    }
   ],
   "source": [
    "plt.figure(figsize=(2, 2) )\n",
    "# agregando posiciones a los nodos\n",
    "positions = nx.get_node_attributes(G, 'pos')\n",
    "nx.draw_networkx(G, pos=positions, \n",
    "                 node_size=70, font_size=6, width=3, \n",
    "                 node_color='pink', edge_color='green')\n",
    "# agregando los pesos a las aristas\n",
    "weights = nx.get_edge_attributes(G, 'weight')\n",
    "nx.draw_networkx_edge_labels(G, pos=positions, edge_labels=weights);\n",
    "# nx.draw_networkx_edges(G, edgelist=G.edges())"
   ]
  },
  {
   "cell_type": "code",
   "execution_count": 57,
   "id": "17ef290e-c9b3-4836-ab65-3c09a5ed40f8",
   "metadata": {},
   "outputs": [
    {
     "data": {
      "text/html": [
       "<div>\n",
       "<style scoped>\n",
       "    .dataframe tbody tr th:only-of-type {\n",
       "        vertical-align: middle;\n",
       "    }\n",
       "\n",
       "    .dataframe tbody tr th {\n",
       "        vertical-align: top;\n",
       "    }\n",
       "\n",
       "    .dataframe thead th {\n",
       "        text-align: right;\n",
       "    }\n",
       "</style>\n",
       "<table border=\"1\" class=\"dataframe\">\n",
       "  <thead>\n",
       "    <tr style=\"text-align: right;\">\n",
       "      <th></th>\n",
       "      <th>source</th>\n",
       "      <th>target</th>\n",
       "      <th>weight</th>\n",
       "    </tr>\n",
       "  </thead>\n",
       "  <tbody>\n",
       "    <tr>\n",
       "      <th>0</th>\n",
       "      <td>A</td>\n",
       "      <td>D</td>\n",
       "      <td>1.3</td>\n",
       "    </tr>\n",
       "    <tr>\n",
       "      <th>1</th>\n",
       "      <td>A</td>\n",
       "      <td>C</td>\n",
       "      <td>3.9</td>\n",
       "    </tr>\n",
       "    <tr>\n",
       "      <th>2</th>\n",
       "      <td>A</td>\n",
       "      <td>E</td>\n",
       "      <td>2.2</td>\n",
       "    </tr>\n",
       "    <tr>\n",
       "      <th>3</th>\n",
       "      <td>B</td>\n",
       "      <td>C</td>\n",
       "      <td>0.6</td>\n",
       "    </tr>\n",
       "    <tr>\n",
       "      <th>4</th>\n",
       "      <td>B</td>\n",
       "      <td>D</td>\n",
       "      <td>3.4</td>\n",
       "    </tr>\n",
       "    <tr>\n",
       "      <th>5</th>\n",
       "      <td>D</td>\n",
       "      <td>E</td>\n",
       "      <td>0.8</td>\n",
       "    </tr>\n",
       "  </tbody>\n",
       "</table>\n",
       "</div>"
      ],
      "text/plain": [
       "  source target  weight\n",
       "0      A      D     1.3\n",
       "1      A      C     3.9\n",
       "2      A      E     2.2\n",
       "3      B      C     0.6\n",
       "4      B      D     3.4\n",
       "5      D      E     0.8"
      ]
     },
     "execution_count": 57,
     "metadata": {},
     "output_type": "execute_result"
    }
   ],
   "source": [
    "edgelist = nx.to_pandas_edgelist(G)\n",
    "edgelist"
   ]
  },
  {
   "cell_type": "code",
   "execution_count": 55,
   "id": "fe0119f2-7f01-4663-bbd2-60eb25a25f06",
   "metadata": {},
   "outputs": [],
   "source": [
    "list(G.adjacency())"
   ]
  },
  {
   "cell_type": "code",
   "execution_count": 58,
   "id": "700fba60-4558-435c-97a3-75a21f6074c3",
   "metadata": {},
   "outputs": [
    {
     "data": {
      "text/html": [
       "<div>\n",
       "<style scoped>\n",
       "    .dataframe tbody tr th:only-of-type {\n",
       "        vertical-align: middle;\n",
       "    }\n",
       "\n",
       "    .dataframe tbody tr th {\n",
       "        vertical-align: top;\n",
       "    }\n",
       "\n",
       "    .dataframe thead th {\n",
       "        text-align: right;\n",
       "    }\n",
       "</style>\n",
       "<table border=\"1\" class=\"dataframe\">\n",
       "  <thead>\n",
       "    <tr style=\"text-align: right;\">\n",
       "      <th></th>\n",
       "      <th>A</th>\n",
       "      <th>B</th>\n",
       "      <th>C</th>\n",
       "      <th>D</th>\n",
       "      <th>E</th>\n",
       "    </tr>\n",
       "  </thead>\n",
       "  <tbody>\n",
       "    <tr>\n",
       "      <th>A</th>\n",
       "      <td>0.0</td>\n",
       "      <td>0.0</td>\n",
       "      <td>3.9</td>\n",
       "      <td>1.3</td>\n",
       "      <td>2.2</td>\n",
       "    </tr>\n",
       "    <tr>\n",
       "      <th>B</th>\n",
       "      <td>0.0</td>\n",
       "      <td>0.0</td>\n",
       "      <td>0.6</td>\n",
       "      <td>3.4</td>\n",
       "      <td>0.0</td>\n",
       "    </tr>\n",
       "    <tr>\n",
       "      <th>C</th>\n",
       "      <td>3.9</td>\n",
       "      <td>0.6</td>\n",
       "      <td>0.0</td>\n",
       "      <td>0.0</td>\n",
       "      <td>0.0</td>\n",
       "    </tr>\n",
       "    <tr>\n",
       "      <th>D</th>\n",
       "      <td>1.3</td>\n",
       "      <td>3.4</td>\n",
       "      <td>0.0</td>\n",
       "      <td>0.0</td>\n",
       "      <td>0.8</td>\n",
       "    </tr>\n",
       "    <tr>\n",
       "      <th>E</th>\n",
       "      <td>2.2</td>\n",
       "      <td>0.0</td>\n",
       "      <td>0.0</td>\n",
       "      <td>0.8</td>\n",
       "      <td>0.0</td>\n",
       "    </tr>\n",
       "  </tbody>\n",
       "</table>\n",
       "</div>"
      ],
      "text/plain": [
       "     A    B    C    D    E\n",
       "A  0.0  0.0  3.9  1.3  2.2\n",
       "B  0.0  0.0  0.6  3.4  0.0\n",
       "C  3.9  0.6  0.0  0.0  0.0\n",
       "D  1.3  3.4  0.0  0.0  0.8\n",
       "E  2.2  0.0  0.0  0.8  0.0"
      ]
     },
     "execution_count": 58,
     "metadata": {},
     "output_type": "execute_result"
    }
   ],
   "source": [
    "adjacency = nx.to_pandas_adjacency(G)\n",
    "adjacency"
   ]
  },
  {
   "cell_type": "code",
   "execution_count": 60,
   "id": "6029496e-5a4f-4df2-9ce4-3b23357a02ba",
   "metadata": {},
   "outputs": [],
   "source": [
    "adjacency.to_csv('adjacency_ej.csv')"
   ]
  },
  {
   "cell_type": "code",
   "execution_count": 61,
   "id": "24eb1dfe-5553-49ac-95b7-18c8055e57a6",
   "metadata": {},
   "outputs": [],
   "source": [
    "import pandas as pd"
   ]
  },
  {
   "cell_type": "code",
   "execution_count": 73,
   "id": "db343915-61c0-475d-b947-0d850bab3798",
   "metadata": {},
   "outputs": [],
   "source": [
    "df = pd.read_csv(\"adjacency_ej.csv\")\n",
    "\n",
    "df.set_index('Unnamed: 0', drop=True, inplace=True)\n",
    "\n",
    "newG = nx.from_pandas_adjacency(df)"
   ]
  },
  {
   "cell_type": "code",
   "execution_count": 74,
   "id": "85cb4419-d1d4-44e3-ae8f-e2b00aae6b49",
   "metadata": {},
   "outputs": [
    {
     "data": {
      "image/png": "[encoded data removed]",
      "text/plain": [
       "<Figure size 640x480 with 1 Axes>"
      ]
     },
     "metadata": {},
     "output_type": "display_data"
    }
   ],
   "source": [
    "nx.draw_networkx(newG)"
   ]
  },
  {
   "cell_type": "code",
   "execution_count": 72,
   "id": "7a0501ac-f94b-42ff-a255-1c1a29e4a86b",
   "metadata": {},
   "outputs": [],
   "source": []
  },
  {
   "cell_type": "code",
   "execution_count": null,
   "id": "a7edf3c3-d622-40c6-a6d8-37aa3137bd13",
   "metadata": {},
   "outputs": [],
   "source": []
  }
 ],
 "metadata": {
  "kernelspec": {
   "display_name": "Python 3 (ipykernel)",
   "language": "python",
   "name": "python3"
  },
  "language_info": {
   "codemirror_mode": {
    "name": "ipython",
    "version": 3
   },
   "file_extension": ".py",
   "mimetype": "text/x-python",
   "name": "python",
   "nbconvert_exporter": "python",
   "pygments_lexer": "ipython3",
   "version": "3.10.4"
  }
 },
 "nbformat": 4,
 "nbformat_minor": 5
}
