{
 "cells": [
  {
   "cell_type": "markdown",
   "id": "d8ea9fcd-2cd8-43dd-8dc3-4f1e755986ca",
   "metadata": {},
   "source": [
    "# Iteraciones\n",
    "Iterar, significa realizar una acción varias veces. A cada vez que se repite el conjunto de acciones, se dice que es una iteración.\n",
    "\n",
    "# Sentencia While\n",
    "se basa en repetir un bloque "
   ]
  },
  {
   "cell_type": "code",
   "execution_count": 1,
   "id": "18e66e9e-ae0a-44a5-9fd7-6f92a0b0abd2",
   "metadata": {},
   "outputs": [
    {
     "name": "stdout",
     "output_type": "stream",
     "text": [
      "el valor de la variable es 0\n",
      "el valor de la variable es 2\n",
      "el valor de la variable es 4\n",
      "el valor de la variable es 6\n",
      "el valor de la variable es 8\n",
      "codigo después del while\n"
     ]
    }
   ],
   "source": [
    "variable=0\n",
    "while variable<10:\n",
    "    print('el valor de la variable es', variable)\n",
    "    variable +=2\n",
    "print('codigo después del while')"
   ]
  },
  {
   "cell_type": "code",
   "execution_count": 2,
   "id": "1ab0d70c-25a1-440c-bdf5-0c04449416ac",
   "metadata": {},
   "outputs": [
    {
     "name": "stdout",
     "output_type": "stream",
     "text": [
      "1\n",
      "2\n",
      "3\n",
      "4\n",
      "5\n",
      "6\n",
      "codigo en el else del while\n",
      "codigo después del while\n"
     ]
    }
   ],
   "source": [
    "variable =0\n",
    "while variable <=5:\n",
    "    variable +=1\n",
    "    print(variable)\n",
    "else:\n",
    "    print('codigo en el else del while')\n",
    "print('codigo después del while')"
   ]
  },
  {
   "cell_type": "markdown",
   "id": "ba23fb4d-39b6-492c-882c-9c56a1d86c99",
   "metadata": {},
   "source": [
    "# Palabras resrvadas relacionadas al while\n",
    "## continue y break"
   ]
  },
  {
   "cell_type": "code",
   "execution_count": 3,
   "id": "4569632e-74c5-4bc7-b534-5768c5feaa65",
   "metadata": {},
   "outputs": [
    {
     "name": "stdout",
     "output_type": "stream",
     "text": [
      "1\n",
      "código después del condicional del break\n",
      "2\n",
      "código después del condicional del break\n",
      "3\n",
      "entro al condicional para activar el break\n",
      "codigo después del while\n"
     ]
    }
   ],
   "source": [
    "variable =0\n",
    "while variable <=5:\n",
    "    variable +=1\n",
    "    print(variable)\n",
    "    if variable == 3:\n",
    "        print('entro al condicional para activar el break')\n",
    "        break\n",
    "    print('código después del condicional del break')\n",
    "\n",
    "else:\n",
    "    print('codigo en el else del while')\n",
    "print('codigo después del while')"
   ]
  },
  {
   "cell_type": "code",
   "execution_count": 4,
   "id": "e09fce3c-69fd-48f5-a7b2-693cad6f0909",
   "metadata": {},
   "outputs": [
    {
     "name": "stdout",
     "output_type": "stream",
     "text": [
      "1\n",
      "código después del condicional del continue\n",
      "2\n",
      "código después del condicional del continue\n",
      "3\n",
      "entro al condicional para activar el continue\n",
      "4\n",
      "código después del condicional del continue\n",
      "5\n",
      "código después del condicional del continue\n",
      "6\n",
      "código después del condicional del continue\n",
      "codigo en el else del while\n",
      "codigo después del while\n"
     ]
    }
   ],
   "source": [
    "variable =0\n",
    "while variable <=5:\n",
    "    variable +=1\n",
    "    print(variable)\n",
    "    if variable == 3:\n",
    "        print('entro al condicional para activar el continue')\n",
    "        continue\n",
    "    print('código después del condicional del continue')\n",
    "else:\n",
    "    print('codigo en el else del while')\n",
    "print('codigo después del while')"
   ]
  },
  {
   "cell_type": "code",
   "execution_count": 5,
   "id": "8710df25-f588-41d0-be6d-17c748c44472",
   "metadata": {},
   "outputs": [
    {
     "name": "stdout",
     "output_type": "stream",
     "text": [
      "2\n",
      "4\n",
      "6\n",
      "8\n",
      "10\n",
      "12\n",
      "14\n",
      "16\n",
      "18\n"
     ]
    }
   ],
   "source": [
    "listas=[2,4,6,8,10,12,14,16,18]\n",
    "for idx in listas:\n",
    "    print(idx)"
   ]
  },
  {
   "cell_type": "code",
   "execution_count": 6,
   "id": "00ba00de-e1fa-46a4-90cb-1d2a73e3166a",
   "metadata": {},
   "outputs": [
    {
     "name": "stdout",
     "output_type": "stream",
     "text": [
      "0\n",
      "1\n",
      "2\n",
      "3\n",
      "4\n"
     ]
    }
   ],
   "source": [
    "for valor in range(5):\n",
    "    print(valor)"
   ]
  },
  {
   "cell_type": "code",
   "execution_count": 7,
   "id": "ad642a52-975f-488e-b18b-a6f024520986",
   "metadata": {},
   "outputs": [
    {
     "name": "stdout",
     "output_type": "stream",
     "text": [
      "c\n",
      "a\n",
      "d\n",
      "e\n",
      "n\n",
      "a\n"
     ]
    }
   ],
   "source": [
    "for letra in 'cadena':\n",
    "    print(letra) "
   ]
  },
  {
   "cell_type": "code",
   "execution_count": 8,
   "id": "1ab679e1-e2a7-4074-8ca0-09eb9da960d0",
   "metadata": {},
   "outputs": [
    {
     "name": "stdout",
     "output_type": "stream",
     "text": [
      "key1\n",
      "key2\n",
      "key3\n"
     ]
    }
   ],
   "source": [
    "diccionario={'key1':'val1', 'key2':'val2','key3':'val3'}\n",
    "for llave in diccionario:\n",
    "    print(llave)"
   ]
  },
  {
   "cell_type": "code",
   "execution_count": 9,
   "id": "e8505565-8503-4c28-8ea4-565c4559d099",
   "metadata": {},
   "outputs": [
    {
     "name": "stdout",
     "output_type": "stream",
     "text": [
      "la lista tiene 5 elementos\n"
     ]
    }
   ],
   "source": [
    "listas=[2,4,6,8,10]\n",
    "longitud=0\n",
    "for _ in  listas:\n",
    "    longitud+=1\n",
    "print('la lista tiene',longitud,'elementos')"
   ]
  },
  {
   "cell_type": "code",
   "execution_count": 10,
   "id": "6ecff9e7-6163-4d96-90bc-a1f42032a36e",
   "metadata": {},
   "outputs": [
    {
     "name": "stdout",
     "output_type": "stream",
     "text": [
      "El promedio de los valores de la lista es 6.0\n"
     ]
    }
   ],
   "source": [
    "listas=[2,4,6,8,10]\n",
    "promedio=0\n",
    "for valor in listas:\n",
    "    promedio+= valor\n",
    "promedio/= len (listas)\n",
    "print('El promedio de los valores de la lista es',promedio)"
   ]
  },
  {
   "cell_type": "markdown",
   "id": "7a09a240-6365-42bf-9f0a-6a3c704e5289",
   "metadata": {},
   "source": [
    "## Usando la lista listas= [2,3,4,5,6,7,8,9,10]\n",
    "\n",
    "##### Sobre cada valor de listas determine:\n",
    "- si el valor de la lista es par, calcule e imprime su cuadrado\n",
    "- si el valor de la lista es impar, sume uno al valor y dividalo sobre 2 e imprima el resultado"
   ]
  },
  {
   "cell_type": "code",
   "execution_count": 14,
   "id": "e4b4e5a0-c297-4dc2-b788-cad3dd34bc11",
   "metadata": {},
   "outputs": [
    {
     "name": "stdout",
     "output_type": "stream",
     "text": [
      "4\n",
      "2.0\n",
      "16\n",
      "3.0\n",
      "36\n",
      "4.0\n",
      "64\n",
      "5.0\n",
      "100\n"
     ]
    }
   ],
   "source": [
    " listas= [2,3,4,5,6,7,8,9,10]\n",
    " for _ in listas:\n",
    "    if _ %2 == 0:\n",
    "       print(_**2)\n",
    "    else:\n",
    "        print((_+1)/2)"
   ]
  },
  {
   "cell_type": "markdown",
   "id": "0ae5c759-1eb3-4c64-9da6-bee698ca79e5",
   "metadata": {},
   "source": [
    "# Modificar una lista al vuelo"
   ]
  },
  {
   "cell_type": "code",
   "execution_count": 15,
   "id": "f508aada-771d-4a25-a6c1-8dea0a54bf0c",
   "metadata": {},
   "outputs": [
    {
     "name": "stdout",
     "output_type": "stream",
     "text": [
      "[102, 104, 106, 108, 110]\n"
     ]
    }
   ],
   "source": [
    "listas = [2, 4, 6, 8, 10]\n",
    "\n",
    "for i in range(len(listas)):\n",
    "    listas[i] += 50\n",
    "    listas[i] += 50\n",
    "\n",
    "print(listas)"
   ]
  },
  {
   "cell_type": "code",
   "execution_count": 16,
   "id": "885fd82a-0788-4e35-ae04-b8850c161102",
   "metadata": {},
   "outputs": [
    {
     "data": {
      "text/plain": [
       "[52, 54, 56, 58, 60]"
      ]
     },
     "execution_count": 16,
     "metadata": {},
     "output_type": "execute_result"
    }
   ],
   "source": [
    "listas=[2,4,6,8,10]\n",
    "indice=0\n",
    "\n",
    "for valor in listas:\n",
    "    listas[indice]+=50\n",
    "    indice+=1\n",
    "listas"
   ]
  },
  {
   "cell_type": "markdown",
   "id": "d3516a79-5cd8-487c-a821-f578d801cc5b",
   "metadata": {},
   "source": [
    "# método enumerate(iterable,start=0)\n",
    "##### Regresera un objeto enumerate. Este metodo regerseara una tupla de pares, donde el priemr elemento será un entero que comenzara en start y  el segundo elemento de la tuplas tendrá el valor del objeto iterable."
   ]
  },
  {
   "cell_type": "code",
   "execution_count": 18,
   "id": "0c115914-18f1-438d-b8ce-f94dd542d515",
   "metadata": {},
   "outputs": [
    {
     "data": {
      "text/plain": [
       "['cadena', 'con', 'espacios']"
      ]
     },
     "execution_count": 18,
     "metadata": {},
     "output_type": "execute_result"
    }
   ],
   "source": [
    "\"cadena con espacios\".split(sep=' ')"
   ]
  },
  {
   "cell_type": "code",
   "execution_count": 19,
   "id": "e98d74d5-aeb4-4c51-b622-827724d05cd0",
   "metadata": {},
   "outputs": [
    {
     "data": {
      "text/plain": [
       "[(-20, 2), (-19, 4), (-18, 6), (-17, 8), (-16, 10)]"
      ]
     },
     "execution_count": 19,
     "metadata": {},
     "output_type": "execute_result"
    }
   ],
   "source": [
    "list(enumerate([2,4,6,8,10],start=-20))"
   ]
  },
  {
   "cell_type": "code",
   "execution_count": 20,
   "id": "0792846a-1aba-4ccc-9477-75b26feb78d8",
   "metadata": {},
   "outputs": [
    {
     "data": {
      "text/plain": [
       "[(0, 'c'), (1, 'a'), (2, 'd'), (3, 'e'), (4, 'n'), (5, 'a')]"
      ]
     },
     "execution_count": 20,
     "metadata": {},
     "output_type": "execute_result"
    }
   ],
   "source": [
    "list(enumerate('cadena'))"
   ]
  },
  {
   "cell_type": "code",
   "execution_count": 21,
   "id": "90c9f1b3-9df6-43a2-9a5a-175b563747c9",
   "metadata": {},
   "outputs": [
    {
     "data": {
      "text/plain": [
       "[(1, 'primavera'), (2, 'verano'), (3, 'otoño'), (4, 'invierno')]"
      ]
     },
     "execution_count": 21,
     "metadata": {},
     "output_type": "execute_result"
    }
   ],
   "source": [
    "list(enumerate(['primavera','verano','otoño','invierno'],start=1))"
   ]
  },
  {
   "cell_type": "code",
   "execution_count": 22,
   "id": "a65ae1a1-aeef-4d81-9123-e238ef4c774a",
   "metadata": {},
   "outputs": [
    {
     "data": {
      "text/plain": [
       "[52, 54, 56, 58, 60]"
      ]
     },
     "execution_count": 22,
     "metadata": {},
     "output_type": "execute_result"
    }
   ],
   "source": [
    "listas=[2,4,6,8,10]\n",
    "\n",
    "for indice,_ in enumerate(listas):\n",
    "    listas[indice]+=50\n",
    "    indice+=1\n",
    "listas"
   ]
  }
 ],
 "metadata": {
  "kernelspec": {
   "display_name": "Python 3 (ipykernel)",
   "language": "python",
   "name": "python3"
  },
  "language_info": {
   "codemirror_mode": {
    "name": "ipython",
    "version": 3
   },
   "file_extension": ".py",
   "mimetype": "text/x-python",
   "name": "python",
   "nbconvert_exporter": "python",
   "pygments_lexer": "ipython3",
   "version": "3.13.5"
  }
 },
 "nbformat": 4,
 "nbformat_minor": 5
}
