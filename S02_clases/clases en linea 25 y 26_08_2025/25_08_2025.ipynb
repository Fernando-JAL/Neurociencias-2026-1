{
 "cells": [
  {
   "cell_type": "markdown",
   "id": "5432b0cf-2e13-4874-b465-945c1ab9d7ae",
   "metadata": {},
   "source": [
    "# Conversion de tipos de datos "
   ]
  },
  {
   "cell_type": "code",
   "execution_count": 1,
   "id": "b858f853-7494-49be-84d6-c24ac7740e8f",
   "metadata": {},
   "outputs": [
    {
     "data": {
      "text/plain": [
       "(-82, 631, 1j)"
      ]
     },
     "execution_count": 1,
     "metadata": {},
     "output_type": "execute_result"
    }
   ],
   "source": [
    "entero, flotante, complejo = - 82, 631, complex (0,1)\n",
    "entero, flotante, complejo"
   ]
  },
  {
   "cell_type": "code",
   "execution_count": 2,
   "id": "336c945c-3287-4db4-9a50-f41ddc401cb5",
   "metadata": {},
   "outputs": [
    {
     "data": {
      "text/plain": [
       "'1j'"
      ]
     },
     "execution_count": 2,
     "metadata": {},
     "output_type": "execute_result"
    }
   ],
   "source": [
    "str (complejo)"
   ]
  },
  {
   "cell_type": "code",
   "execution_count": 3,
   "id": "4d822deb-ee35-499e-9ebb-c0c3d55b620e",
   "metadata": {},
   "outputs": [
    {
     "data": {
      "text/plain": [
       "'-46.23'"
      ]
     },
     "execution_count": 3,
     "metadata": {},
     "output_type": "execute_result"
    }
   ],
   "source": [
    "cadena = '-46.23'\n",
    "cadena"
   ]
  },
  {
   "cell_type": "code",
   "execution_count": 4,
   "id": "dfbb277b-4aac-4d52-a3f0-6ca9ec58d6f3",
   "metadata": {},
   "outputs": [
    {
     "data": {
      "text/plain": [
       "-46.23"
      ]
     },
     "execution_count": 4,
     "metadata": {},
     "output_type": "execute_result"
    }
   ],
   "source": [
    "float (cadena)"
   ]
  },
  {
   "cell_type": "code",
   "execution_count": 5,
   "id": "64f41a9c-b3ba-418c-a7a3-24ddfb3442a8",
   "metadata": {},
   "outputs": [
    {
     "data": {
      "text/plain": [
       "('-', '4', '6', '.', '2', '3')"
      ]
     },
     "execution_count": 5,
     "metadata": {},
     "output_type": "execute_result"
    }
   ],
   "source": [
    "tuple (cadena)"
   ]
  },
  {
   "cell_type": "code",
   "execution_count": 6,
   "id": "3f22c452-3c8e-428f-9bd9-3ab197a84557",
   "metadata": {},
   "outputs": [
    {
     "data": {
      "text/plain": [
       "-78"
      ]
     },
     "execution_count": 6,
     "metadata": {},
     "output_type": "execute_result"
    }
   ],
   "source": [
    "int ('-78')"
   ]
  },
  {
   "cell_type": "markdown",
   "id": "c0b7d424-28a6-4142-be28-90e910e24bb2",
   "metadata": {},
   "source": [
    "# Tipo de dato Boolean "
   ]
  },
  {
   "cell_type": "code",
   "execution_count": 10,
   "id": "0bfebd4e-ac62-427e-a6ee-4c9c9a331a81",
   "metadata": {},
   "outputs": [
    {
     "name": "stdout",
     "output_type": "stream",
     "text": [
      "True False\n"
     ]
    }
   ],
   "source": [
    "value1 = True   \n",
    "value2 = False  \n",
    "\n",
    "print(value1, value2)"
   ]
  },
  {
   "cell_type": "code",
   "execution_count": 11,
   "id": "06e29558-9dc6-4eef-8bed-d882dea067da",
   "metadata": {},
   "outputs": [
    {
     "data": {
      "text/plain": [
       "bool"
      ]
     },
     "execution_count": 11,
     "metadata": {},
     "output_type": "execute_result"
    }
   ],
   "source": [
    "type (value1)"
   ]
  },
  {
   "cell_type": "code",
   "execution_count": 12,
   "id": "3cb9f9ed-8f25-4489-a68a-2198aefe3196",
   "metadata": {},
   "outputs": [
    {
     "data": {
      "text/plain": [
       "False"
      ]
     },
     "execution_count": 12,
     "metadata": {},
     "output_type": "execute_result"
    }
   ],
   "source": [
    "bool (0)"
   ]
  },
  {
   "cell_type": "code",
   "execution_count": 13,
   "id": "824be680-d83f-42c0-b12c-047f4f2614f4",
   "metadata": {},
   "outputs": [
    {
     "data": {
      "text/plain": [
       "True"
      ]
     },
     "execution_count": 13,
     "metadata": {},
     "output_type": "execute_result"
    }
   ],
   "source": [
    "bool(1)"
   ]
  },
  {
   "cell_type": "code",
   "execution_count": 15,
   "id": "41e21286-54b5-4601-934b-a408744cc9db",
   "metadata": {},
   "outputs": [
    {
     "data": {
      "text/plain": [
       "True"
      ]
     },
     "execution_count": 15,
     "metadata": {},
     "output_type": "execute_result"
    }
   ],
   "source": [
    "bool ('hola') "
   ]
  },
  {
   "cell_type": "code",
   "execution_count": 14,
   "id": "46828a1a-8321-4eee-9767-10a88943d3a5",
   "metadata": {},
   "outputs": [
    {
     "data": {
      "text/plain": [
       "True"
      ]
     },
     "execution_count": 14,
     "metadata": {},
     "output_type": "execute_result"
    }
   ],
   "source": [
    "bool (2)"
   ]
  },
  {
   "cell_type": "code",
   "execution_count": 17,
   "id": "7e8df778-9e9a-4543-b6ae-c298503b3911",
   "metadata": {},
   "outputs": [
    {
     "data": {
      "text/plain": [
       "(True, True)"
      ]
     },
     "execution_count": 17,
     "metadata": {},
     "output_type": "execute_result"
    }
   ],
   "source": [
    "bool (-150.456), bool(complex(0,1))"
   ]
  },
  {
   "cell_type": "code",
   "execution_count": 18,
   "id": "0547b5db-fb9a-46cd-b07f-a0e204d72cee",
   "metadata": {},
   "outputs": [
    {
     "data": {
      "text/plain": [
       "(False, True)"
      ]
     },
     "execution_count": 18,
     "metadata": {},
     "output_type": "execute_result"
    }
   ],
   "source": [
    "bool(''), bool('aiuda')"
   ]
  },
  {
   "cell_type": "code",
   "execution_count": 20,
   "id": "2c88376b-aaac-4648-b812-305bfb2aaff4",
   "metadata": {},
   "outputs": [
    {
     "data": {
      "text/plain": [
       "(False, True)"
      ]
     },
     "execution_count": 20,
     "metadata": {},
     "output_type": "execute_result"
    }
   ],
   "source": [
    "bool([]), bool(['f',9])"
   ]
  },
  {
   "cell_type": "code",
   "execution_count": 21,
   "id": "29078a01-c425-46ab-b648-a7ba40ff5b15",
   "metadata": {},
   "outputs": [
    {
     "data": {
      "text/plain": [
       "(False, True)"
      ]
     },
     "execution_count": 21,
     "metadata": {},
     "output_type": "execute_result"
    }
   ],
   "source": [
    "bool(()),bool((5, ))"
   ]
  },
  {
   "cell_type": "code",
   "execution_count": 22,
   "id": "b3b996be-a5f4-49cc-bc0a-f27547ca89ab",
   "metadata": {},
   "outputs": [
    {
     "data": {
      "text/plain": [
       "(False, True)"
      ]
     },
     "execution_count": 22,
     "metadata": {},
     "output_type": "execute_result"
    }
   ],
   "source": [
    "bool({}),bool({'key':'value'})"
   ]
  },
  {
   "cell_type": "markdown",
   "id": "0c043a45-2719-40ba-a521-a58ccd148564",
   "metadata": {},
   "source": [
    "# Sets"
   ]
  },
  {
   "cell_type": "code",
   "execution_count": 23,
   "id": "9012dac9-4944-42c4-b113-7e9009e79c4c",
   "metadata": {},
   "outputs": [
    {
     "data": {
      "text/plain": [
       "set"
      ]
     },
     "execution_count": 23,
     "metadata": {},
     "output_type": "execute_result"
    }
   ],
   "source": [
    "type({4,'cosa'})"
   ]
  },
  {
   "cell_type": "code",
   "execution_count": 25,
   "id": "ceb51ab3-f4c7-41a5-9753-581484f513b5",
   "metadata": {},
   "outputs": [],
   "source": [
    "conjunto = {4, 'cosa', 1, 2, 3, 4, 'a', 'b', 'c', 'a'}"
   ]
  },
  {
   "cell_type": "code",
   "execution_count": 26,
   "id": "10613bb1-ec1d-413f-9b51-1c6adaebeb34",
   "metadata": {},
   "outputs": [
    {
     "data": {
      "text/plain": [
       "8"
      ]
     },
     "execution_count": 26,
     "metadata": {},
     "output_type": "execute_result"
    }
   ],
   "source": [
    "len (conjunto)"
   ]
  },
  {
   "cell_type": "code",
   "execution_count": 27,
   "id": "7a40e6a2-3955-4194-b79a-be58eb40653c",
   "metadata": {},
   "outputs": [
    {
     "data": {
      "text/plain": [
       "{1, 2, 3, 4, 'a', 'b', 'c', 'cosa'}"
      ]
     },
     "execution_count": 27,
     "metadata": {},
     "output_type": "execute_result"
    }
   ],
   "source": [
    "conjunto"
   ]
  },
  {
   "cell_type": "markdown",
   "id": "6ba7fb4c-eae6-4f96-8e45-d4f5787085d0",
   "metadata": {},
   "source": [
    "# Operadores de asignacion\n"
   ]
  },
  {
   "cell_type": "code",
   "execution_count": 28,
   "id": "9800d35b-7e24-4754-b64d-9e60f4290cab",
   "metadata": {},
   "outputs": [
    {
     "data": {
      "text/plain": [
       "32"
      ]
     },
     "execution_count": 28,
     "metadata": {},
     "output_type": "execute_result"
    }
   ],
   "source": [
    "a= 10\n",
    "a= a+ 22\n",
    "a"
   ]
  },
  {
   "cell_type": "code",
   "execution_count": 29,
   "id": "dc951eee-d194-446b-a80f-d73f3628bbd3",
   "metadata": {},
   "outputs": [
    {
     "data": {
      "text/plain": [
       "32"
      ]
     },
     "execution_count": 29,
     "metadata": {},
     "output_type": "execute_result"
    }
   ],
   "source": [
    "a=10\n",
    "a+=22\n",
    "a"
   ]
  },
  {
   "cell_type": "code",
   "execution_count": 30,
   "id": "f7f09d1e-784b-4214-aeff-8e45816e6421",
   "metadata": {},
   "outputs": [
    {
     "data": {
      "text/plain": [
       "'hace mas frioque antes'"
      ]
     },
     "execution_count": 30,
     "metadata": {},
     "output_type": "execute_result"
    }
   ],
   "source": [
    "cadena = 'hace mas frio'\n",
    "cadena= cadena + 'que antes'\n",
    "cadena"
   ]
  },
  {
   "cell_type": "code",
   "execution_count": 31,
   "id": "1adb721f-dc65-4e51-a314-9b06714f6474",
   "metadata": {},
   "outputs": [
    {
     "data": {
      "text/plain": [
       "'hace mas frioque antes'"
      ]
     },
     "execution_count": 31,
     "metadata": {},
     "output_type": "execute_result"
    }
   ],
   "source": [
    "cadena = 'hace mas frio'\n",
    "cadena += 'que antes'\n",
    "cadena"
   ]
  },
  {
   "cell_type": "code",
   "execution_count": 32,
   "id": "35d27d8e-1447-4c9f-9541-db496b43627d",
   "metadata": {},
   "outputs": [
    {
     "data": {
      "text/plain": [
       "32"
      ]
     },
     "execution_count": 32,
     "metadata": {},
     "output_type": "execute_result"
    }
   ],
   "source": [
    "a=2\n",
    "a**=5\n",
    "a"
   ]
  },
  {
   "cell_type": "code",
   "execution_count": 34,
   "id": "e3bf9a19-1437-4af7-9dd8-a6dde27af071",
   "metadata": {},
   "outputs": [
    {
     "data": {
      "text/plain": [
       "12.0"
      ]
     },
     "execution_count": 34,
     "metadata": {},
     "output_type": "execute_result"
    }
   ],
   "source": [
    "a=144\n",
    "a/=12\n",
    "a"
   ]
  },
  {
   "cell_type": "code",
   "execution_count": 35,
   "id": "c5b5d08b-1967-4b92-a428-291cc35e1b49",
   "metadata": {},
   "outputs": [
    {
     "data": {
      "text/plain": [
       "[3,\n",
       " 6,\n",
       " 8,\n",
       " 'azul como el mar azul',\n",
       " 'l',\n",
       " 'a',\n",
       " 's',\n",
       " ' ',\n",
       " 'd',\n",
       " 'o',\n",
       " 'c',\n",
       " 'e',\n",
       " ' ',\n",
       " 'c',\n",
       " 'a',\n",
       " 's',\n",
       " 'a',\n",
       " 's']"
      ]
     },
     "execution_count": 35,
     "metadata": {},
     "output_type": "execute_result"
    }
   ],
   "source": [
    "a = [3, 6, 8, 'azul como el mar azul']\n",
    "a += list ('las doce casas')\n",
    "a"
   ]
  },
  {
   "cell_type": "markdown",
   "id": "12ad5e39-c002-45c9-bcdc-2e15eb876b83",
   "metadata": {},
   "source": [
    "# Operadores relacionales"
   ]
  },
  {
   "cell_type": "code",
   "execution_count": 36,
   "id": "1a2fc185-a94c-4202-ad7e-4cfb0ae28ac1",
   "metadata": {},
   "outputs": [
    {
     "data": {
      "text/plain": [
       "(False, True, False, True)"
      ]
     },
     "execution_count": 36,
     "metadata": {},
     "output_type": "execute_result"
    }
   ],
   "source": [
    "a, b=5,18\n",
    "a>b, a<b, a==b, a !=b"
   ]
  },
  {
   "cell_type": "code",
   "execution_count": 38,
   "id": "2e8649dd-cb46-4cf2-95c9-ed36fd880c47",
   "metadata": {},
   "outputs": [
    {
     "data": {
      "text/plain": [
       "False"
      ]
     },
     "execution_count": 38,
     "metadata": {},
     "output_type": "execute_result"
    }
   ],
   "source": [
    "a, b, c = -45.2, 22, 100\n",
    "(((a-b) < 567) !=0)==c*0"
   ]
  },
  {
   "cell_type": "code",
   "execution_count": 39,
   "id": "ebe702ed-0f7b-420a-bb35-292a0530f9ca",
   "metadata": {},
   "outputs": [
    {
     "data": {
      "text/plain": [
       "True"
      ]
     },
     "execution_count": 39,
     "metadata": {},
     "output_type": "execute_result"
    }
   ],
   "source": [
    "((a-b)<567) !=0"
   ]
  },
  {
   "cell_type": "code",
   "execution_count": 40,
   "id": "888b1a7a-84bb-4c98-819e-d6bcb2681590",
   "metadata": {},
   "outputs": [
    {
     "data": {
      "text/plain": [
       "(True, True, True)"
      ]
     },
     "execution_count": 40,
     "metadata": {},
     "output_type": "execute_result"
    }
   ],
   "source": [
    "True != 0, True==1, False == 0"
   ]
  },
  {
   "cell_type": "code",
   "execution_count": 41,
   "id": "367f2f64-966b-4f71-9732-5b8b27495173",
   "metadata": {},
   "outputs": [
    {
     "data": {
      "text/plain": [
       "True"
      ]
     },
     "execution_count": 41,
     "metadata": {},
     "output_type": "execute_result"
    }
   ],
   "source": [
    "False<True"
   ]
  },
  {
   "cell_type": "markdown",
   "id": "4c84501e-5af1-49e6-98f5-9949222664ce",
   "metadata": {},
   "source": [
    "# Controladores de flujo\n",
    "\n",
    "#### son estructuras de control condicionado. Nos permite evaluar se una o mas condiciones, para decidie que acciones se va a ejecutas \n",
    "-if\n",
    "-elif\n",
    "-else\n",
    "-while\n",
    "-for"
   ]
  },
  {
   "cell_type": "markdown",
   "id": "1c1a6936-f38b-49f6-964c-de57b069c153",
   "metadata": {},
   "source": [
    "## Sentencia if "
   ]
  },
  {
   "cell_type": "code",
   "execution_count": 42,
   "id": "7dcce122-895a-45ac-a389-d773deb8021b",
   "metadata": {},
   "outputs": [
    {
     "name": "stdout",
     "output_type": "stream",
     "text": [
      "entro al if\n"
     ]
    }
   ],
   "source": [
    "if True: \n",
    "    print('entro al if')"
   ]
  },
  {
   "cell_type": "code",
   "execution_count": 43,
   "id": "b59d8707-2238-4cf2-b3d8-f59ceabb716b",
   "metadata": {},
   "outputs": [
    {
     "name": "stdout",
     "output_type": "stream",
     "text": [
      "entro al if\n"
     ]
    }
   ],
   "source": [
    "a= 2\n",
    "if a> 0:\n",
    "    print('entro al if')"
   ]
  },
  {
   "cell_type": "code",
   "execution_count": 44,
   "id": "8907a215-4cdd-4f64-bbfa-787eddaf79dd",
   "metadata": {},
   "outputs": [
    {
     "name": "stdout",
     "output_type": "stream",
     "text": [
      "entro al if\n"
     ]
    }
   ],
   "source": [
    "a=2\n",
    "if a > 0:\n",
    "    print ('entro al if')"
   ]
  },
  {
   "cell_type": "code",
   "execution_count": 47,
   "id": "89289aa1-3f6c-4c0b-910e-ee66eb7121de",
   "metadata": {},
   "outputs": [
    {
     "name": "stdout",
     "output_type": "stream",
     "text": [
      "a mayor que 5\n",
      "codigo despues del if\n"
     ]
    }
   ],
   "source": [
    "a= 10\n",
    "if a>5:\n",
    "    print ('a mayor que 5')\n",
    "else: \n",
    "    print ('pos a no es mayor que 5')\n",
    "print ('codigo despues del if')"
   ]
  },
  {
   "cell_type": "code",
   "execution_count": 48,
   "id": "468f5b5e-52a5-469e-8e4c-4cee082e4a94",
   "metadata": {},
   "outputs": [
    {
     "name": "stdout",
     "output_type": "stream",
     "text": [
      "a es par\n",
      "b es positivo\n",
      "continuamos...\n"
     ]
    }
   ],
   "source": [
    "a, b = 10, 5\n",
    "if a % 2== 0:\n",
    "    print ('a es par')\n",
    "    if b> 0:\n",
    "        print ('b es positivo')\n",
    "    else:\n",
    "        print('b es gruñon')\n",
    "else:\n",
    "    print ('a es impar y b no me importa')\n",
    "\n",
    "print('continuamos...')\n",
    "        "
   ]
  },
  {
   "cell_type": "code",
   "execution_count": 49,
   "id": "56a1e897-0bc7-403d-be85-cd74e9bbc8d2",
   "metadata": {},
   "outputs": [
    {
     "data": {
      "text/plain": [
       "True"
      ]
     },
     "execution_count": 49,
     "metadata": {},
     "output_type": "execute_result"
    }
   ],
   "source": [
    "lista = [5, 7, 9, 10]\n",
    "a,b = 9,17\n",
    "\n",
    "a in lista"
   ]
  },
  {
   "cell_type": "code",
   "execution_count": 50,
   "id": "dd726048-f13e-4e85-b2f5-f1aa1641e7af",
   "metadata": {},
   "outputs": [
    {
     "name": "stdout",
     "output_type": "stream",
     "text": [
      "no\n"
     ]
    }
   ],
   "source": [
    "a= 5\n",
    "if a % 2 == 0:\n",
    "    print('a es par')\n",
    "else:\n",
    "    print ('no')"
   ]
  }
 ],
 "metadata": {
  "kernelspec": {
   "display_name": "Python 3 (ipykernel)",
   "language": "python",
   "name": "python3"
  },
  "language_info": {
   "codemirror_mode": {
    "name": "ipython",
    "version": 3
   },
   "file_extension": ".py",
   "mimetype": "text/x-python",
   "name": "python",
   "nbconvert_exporter": "python",
   "pygments_lexer": "ipython3",
   "version": "3.13.5"
  }
 },
 "nbformat": 4,
 "nbformat_minor": 5
}
