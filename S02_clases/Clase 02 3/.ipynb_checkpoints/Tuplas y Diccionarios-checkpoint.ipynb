{
 "cells": [
  {
   "cell_type": "markdown",
   "id": "46fc983d-c07a-4ee6-8b75-7641b3c0167c",
   "metadata": {},
   "source": [
    "# MAS LISTAS"
   ]
  },
  {
   "cell_type": "code",
   "execution_count": 50,
   "id": "91fc0ff6-9766-470a-9cd0-5c84601c89da",
   "metadata": {},
   "outputs": [
    {
     "data": {
      "text/plain": [
       "['rojo', 2.3, 100, 'chocolate']"
      ]
     },
     "execution_count": 50,
     "metadata": {},
     "output_type": "execute_result"
    }
   ],
   "source": [
    "lista= ['rojo', 2.3, 100, 'chocolate']\n",
    "lista"
   ]
  },
  {
   "cell_type": "code",
   "execution_count": 51,
   "id": "2f9f4b6b-00c4-4d30-a4e3-ddd6b2e4f35e",
   "metadata": {},
   "outputs": [
    {
     "data": {
      "text/plain": [
       "['rojo', 2.3, 100, 'chocolate', 'nuez']"
      ]
     },
     "execution_count": 51,
     "metadata": {},
     "output_type": "execute_result"
    }
   ],
   "source": [
    "lista.append('nuez')\n",
    "lista"
   ]
  },
  {
   "cell_type": "code",
   "execution_count": 52,
   "id": "49d3e0fb-78f2-4113-a1de-9385c8054188",
   "metadata": {},
   "outputs": [],
   "source": [
    "lista_vacía=[]"
   ]
  },
  {
   "cell_type": "code",
   "execution_count": 53,
   "id": "e8d88852-492a-4213-a2c1-673750fb01eb",
   "metadata": {},
   "outputs": [
    {
     "data": {
      "text/plain": [
       "list"
      ]
     },
     "execution_count": 53,
     "metadata": {},
     "output_type": "execute_result"
    }
   ],
   "source": [
    "type(lista_vacía)"
   ]
  },
  {
   "cell_type": "code",
   "execution_count": 54,
   "id": "69320e6a-c68b-44f2-9ecd-73e6b1538e70",
   "metadata": {},
   "outputs": [
    {
     "data": {
      "text/plain": [
       "['rojo', 2.3, 100, 'chocolate', 'nuez']"
      ]
     },
     "execution_count": 54,
     "metadata": {},
     "output_type": "execute_result"
    }
   ],
   "source": [
    "lista"
   ]
  },
  {
   "cell_type": "code",
   "execution_count": 55,
   "id": "611e79d5-f176-48d0-8157-2ba145d8a40d",
   "metadata": {},
   "outputs": [
    {
     "data": {
      "text/plain": [
       "7"
      ]
     },
     "execution_count": 55,
     "metadata": {},
     "output_type": "execute_result"
    }
   ],
   "source": [
    "lista[-1:] = [4,2,6]\n",
    "len(lista)"
   ]
  },
  {
   "cell_type": "code",
   "execution_count": 56,
   "id": "3f2855f9-11cd-4fdd-b0c0-2231dae82b87",
   "metadata": {},
   "outputs": [
    {
     "data": {
      "text/plain": [
       "['rojo', 2.3, 4, 2, 6]"
      ]
     },
     "execution_count": 56,
     "metadata": {},
     "output_type": "execute_result"
    }
   ],
   "source": [
    "del lista[2:4]\n",
    "lista"
   ]
  },
  {
   "cell_type": "code",
   "execution_count": 57,
   "id": "6e211d24-2f3c-4bc2-aed9-8ca837559e5d",
   "metadata": {},
   "outputs": [
    {
     "data": {
      "text/plain": [
       "['rojo', 2.3, 4, 2, 6]"
      ]
     },
     "execution_count": 57,
     "metadata": {},
     "output_type": "execute_result"
    }
   ],
   "source": [
    "lista"
   ]
  },
  {
   "cell_type": "code",
   "execution_count": 59,
   "id": "77578156-e267-4687-81c3-e2ecec6c3c97",
   "metadata": {},
   "outputs": [
    {
     "data": {
      "text/plain": [
       "[2.3, 4, 2, 6]"
      ]
     },
     "execution_count": 59,
     "metadata": {},
     "output_type": "execute_result"
    }
   ],
   "source": [
    "del lista[0]\n",
    "lista"
   ]
  },
  {
   "cell_type": "code",
   "execution_count": 60,
   "id": "5d1a188c-0daa-4089-96e0-e6a906d61a26",
   "metadata": {},
   "outputs": [
    {
     "ename": "IndexError",
     "evalue": "list assignment index out of range",
     "output_type": "error",
     "traceback": [
      "\u001b[1;31m---------------------------------------------------------------------------\u001b[0m",
      "\u001b[1;31mIndexError\u001b[0m                                Traceback (most recent call last)",
      "Cell \u001b[1;32mIn[60], line 1\u001b[0m\n\u001b[1;32m----> 1\u001b[0m \u001b[38;5;28;01mdel\u001b[39;00m lista_vacía[\u001b[38;5;241m0\u001b[39m]\n\u001b[0;32m      2\u001b[0m lista\n",
      "\u001b[1;31mIndexError\u001b[0m: list assignment index out of range"
     ]
    }
   ],
   "source": [
    "del lista_vacía[0]\n",
    "lista"
   ]
  },
  {
   "cell_type": "code",
   "execution_count": 65,
   "id": "f5bc7a04-228a-4065-a397-8c2d88837887",
   "metadata": {},
   "outputs": [
    {
     "data": {
      "text/plain": [
       "[[1, 2, 4], [5, 6, 5], [5, 5, 5], [3, 3, 3]]"
      ]
     },
     "execution_count": 65,
     "metadata": {},
     "output_type": "execute_result"
    }
   ],
   "source": [
    "matriz=[[1,2,4],\n",
    "        [5,6,5],\n",
    "        [5,5,5],\n",
    "       [3,3,3]]\n",
    "matriz"
   ]
  },
  {
   "cell_type": "code",
   "execution_count": 64,
   "id": "49005294-2611-4247-bd52-a2575288b30d",
   "metadata": {},
   "outputs": [
    {
     "data": {
      "text/plain": [
       "[5, 5, 5]"
      ]
     },
     "execution_count": 64,
     "metadata": {},
     "output_type": "execute_result"
    }
   ],
   "source": [
    "matriz[2]"
   ]
  },
  {
   "cell_type": "code",
   "execution_count": 66,
   "id": "c7902c49-7e4c-443c-ac4e-b64dc298afce",
   "metadata": {},
   "outputs": [],
   "source": [
    "a=matriz[2]"
   ]
  },
  {
   "cell_type": "code",
   "execution_count": 67,
   "id": "e56d2d1a-89f5-45f5-bdd7-b3633a8af24f",
   "metadata": {},
   "outputs": [
    {
     "data": {
      "text/plain": [
       "[5, 5, 5]"
      ]
     },
     "execution_count": 67,
     "metadata": {},
     "output_type": "execute_result"
    }
   ],
   "source": [
    "a"
   ]
  },
  {
   "cell_type": "code",
   "execution_count": 68,
   "id": "1f5725a2-5f37-4464-9105-65e939574756",
   "metadata": {},
   "outputs": [
    {
     "data": {
      "text/plain": [
       "5"
      ]
     },
     "execution_count": 68,
     "metadata": {},
     "output_type": "execute_result"
    }
   ],
   "source": [
    "a[2]"
   ]
  },
  {
   "cell_type": "code",
   "execution_count": 69,
   "id": "ec5a9003-8ae0-4513-9a21-83ff9122cc37",
   "metadata": {},
   "outputs": [
    {
     "data": {
      "text/plain": [
       "5"
      ]
     },
     "execution_count": 69,
     "metadata": {},
     "output_type": "execute_result"
    }
   ],
   "source": [
    "matriz[2][-1]"
   ]
  },
  {
   "cell_type": "code",
   "execution_count": 70,
   "id": "c2f877b1-bd0c-492e-8da4-5ad4141a86dc",
   "metadata": {},
   "outputs": [
    {
     "data": {
      "text/plain": [
       "[[1, 2, 4], [5, 6, 5], [5, 5, 5], [3, 3, 3]]"
      ]
     },
     "execution_count": 70,
     "metadata": {},
     "output_type": "execute_result"
    }
   ],
   "source": [
    "matriz"
   ]
  },
  {
   "cell_type": "code",
   "execution_count": 71,
   "id": "18fdf609-9940-417a-b530-eb26687f792c",
   "metadata": {},
   "outputs": [
    {
     "data": {
      "text/plain": [
       "5"
      ]
     },
     "execution_count": 71,
     "metadata": {},
     "output_type": "execute_result"
    }
   ],
   "source": [
    "matriz[1][0]"
   ]
  },
  {
   "cell_type": "markdown",
   "id": "c8495196-b453-4ca7-b789-f8686351f80f",
   "metadata": {},
   "source": [
    "# Tuplass"
   ]
  },
  {
   "cell_type": "code",
   "execution_count": 77,
   "id": "2ce0c1a4-1a7c-47cd-9e8c-771345cee709",
   "metadata": {},
   "outputs": [
    {
     "data": {
      "text/plain": [
       "(5, 2, '-1', [4, 2, 1], 'pasa')"
      ]
     },
     "execution_count": 77,
     "metadata": {},
     "output_type": "execute_result"
    }
   ],
   "source": [
    "variable=(5,2,'-1', [4,2,1],'pasa')\n",
    "variable"
   ]
  },
  {
   "cell_type": "code",
   "execution_count": 78,
   "id": "b458977f-bc9d-426b-ae2a-28a87f256cb1",
   "metadata": {},
   "outputs": [
    {
     "data": {
      "text/plain": [
       "tuple"
      ]
     },
     "execution_count": 78,
     "metadata": {},
     "output_type": "execute_result"
    }
   ],
   "source": [
    "type(variable)"
   ]
  },
  {
   "cell_type": "code",
   "execution_count": 79,
   "id": "45d63d59-75c2-4f51-b189-e88ab955db3d",
   "metadata": {},
   "outputs": [
    {
     "data": {
      "text/plain": [
       "'pasa'"
      ]
     },
     "execution_count": 79,
     "metadata": {},
     "output_type": "execute_result"
    }
   ],
   "source": [
    "variable[-1]"
   ]
  },
  {
   "cell_type": "code",
   "execution_count": 82,
   "id": "fa931b37-b308-46d4-8313-99dd023b2aea",
   "metadata": {},
   "outputs": [
    {
     "data": {
      "text/plain": [
       "(2, '-1')"
      ]
     },
     "execution_count": 82,
     "metadata": {},
     "output_type": "execute_result"
    }
   ],
   "source": [
    "variable[1:-2]"
   ]
  },
  {
   "cell_type": "code",
   "execution_count": 83,
   "id": "048bfc5c-2487-41f4-a7b0-da31d240d6fe",
   "metadata": {},
   "outputs": [
    {
     "data": {
      "text/plain": [
       "(5, 2, '-1')"
      ]
     },
     "execution_count": 83,
     "metadata": {},
     "output_type": "execute_result"
    }
   ],
   "source": [
    "pos_i, pos_f=0,2\n",
    "variable[pos_i:pos_f+1]"
   ]
  },
  {
   "cell_type": "code",
   "execution_count": 85,
   "id": "cf634d66-90dd-4605-bc91-db210e528511",
   "metadata": {},
   "outputs": [
    {
     "data": {
      "text/plain": [
       "(2, '-1', [4, 2, 1])"
      ]
     },
     "execution_count": 85,
     "metadata": {},
     "output_type": "execute_result"
    }
   ],
   "source": [
    "variable[-4:4]"
   ]
  },
  {
   "cell_type": "code",
   "execution_count": 86,
   "id": "5647f5ec-86c0-410b-a101-d4c2e222d559",
   "metadata": {},
   "outputs": [
    {
     "data": {
      "text/plain": [
       "(2, '-1', [4, 2, 1], 'pasa')"
      ]
     },
     "execution_count": 86,
     "metadata": {},
     "output_type": "execute_result"
    }
   ],
   "source": [
    "variable[-4:4+1]"
   ]
  },
  {
   "cell_type": "code",
   "execution_count": 92,
   "id": "ae1b8e4b-1792-4526-b617-1d7d8b7f033b",
   "metadata": {},
   "outputs": [
    {
     "data": {
      "text/plain": [
       "(5,)"
      ]
     },
     "execution_count": 92,
     "metadata": {},
     "output_type": "execute_result"
    }
   ],
   "source": [
    "tupla=(5, )\n",
    "tupla"
   ]
  },
  {
   "cell_type": "code",
   "execution_count": 94,
   "id": "c8f47512-b993-439f-86a9-00d83e514427",
   "metadata": {},
   "outputs": [
    {
     "data": {
      "text/plain": [
       "(tuple, 1)"
      ]
     },
     "execution_count": 94,
     "metadata": {},
     "output_type": "execute_result"
    }
   ],
   "source": [
    "type(tupla), len(tupla)"
   ]
  },
  {
   "cell_type": "code",
   "execution_count": 96,
   "id": "67749b36-c0e8-40c0-892b-7b8ca8d321ea",
   "metadata": {},
   "outputs": [],
   "source": [
    "t1,t2,t3=(4,5),(6,7),(8,9)"
   ]
  },
  {
   "cell_type": "code",
   "execution_count": 97,
   "id": "32122a51-80db-452e-93cb-9cf19e6ded7e",
   "metadata": {},
   "outputs": [
    {
     "data": {
      "text/plain": [
       "(4, 5, 6, 7)"
      ]
     },
     "execution_count": 97,
     "metadata": {},
     "output_type": "execute_result"
    }
   ],
   "source": [
    "t1 + t2"
   ]
  },
  {
   "cell_type": "code",
   "execution_count": 98,
   "id": "40a7425b-b96b-4c7e-855b-24e3ffb540a6",
   "metadata": {},
   "outputs": [
    {
     "data": {
      "text/plain": [
       "(8, 9, 8, 9, 8, 9)"
      ]
     },
     "execution_count": 98,
     "metadata": {},
     "output_type": "execute_result"
    }
   ],
   "source": [
    "t3*3"
   ]
  },
  {
   "cell_type": "code",
   "execution_count": 104,
   "id": "c5fcdf0c-5eec-48a4-9320-996f7427b559",
   "metadata": {},
   "outputs": [
    {
     "data": {
      "text/plain": [
       "7"
      ]
     },
     "execution_count": 104,
     "metadata": {},
     "output_type": "execute_result"
    }
   ],
   "source": [
    "(3*t2)[3]"
   ]
  },
  {
   "cell_type": "code",
   "execution_count": 106,
   "id": "2e66b138-d244-462a-9083-96cf514dae3e",
   "metadata": {},
   "outputs": [
    {
     "data": {
      "text/plain": [
       "[7, 7, 7]"
      ]
     },
     "execution_count": 106,
     "metadata": {},
     "output_type": "execute_result"
    }
   ],
   "source": [
    "[(3*t2)[3]]*3"
   ]
  },
  {
   "cell_type": "code",
   "execution_count": 109,
   "id": "c4056c85-0c2f-47aa-9fde-5e3b439c1839",
   "metadata": {},
   "outputs": [
    {
     "data": {
      "text/plain": [
       "6"
      ]
     },
     "execution_count": 109,
     "metadata": {},
     "output_type": "execute_result"
    }
   ],
   "source": [
    "t2[0]"
   ]
  },
  {
   "cell_type": "markdown",
   "id": "cf0d19ca-e275-4ddd-9307-35436976973f",
   "metadata": {},
   "source": [
    "# Mapping: Diccionarios"
   ]
  },
  {
   "cell_type": "code",
   "execution_count": 113,
   "id": "93322cbe-a0ec-4363-bf49-828088470313",
   "metadata": {},
   "outputs": [
    {
     "data": {
      "text/plain": [
       "{'key': 'valor', 'llave2': 'valor2', 'llave3': 5, 'llave4': [2, 3], 5: [-2]}"
      ]
     },
     "execution_count": 113,
     "metadata": {},
     "output_type": "execute_result"
    }
   ],
   "source": [
    "diccionario= {'key':'valor', 'llave2' : 'valor2', 'llave3' : 5, 'llave4' : [2,3], 5:[-2]}\n",
    "diccionario"
   ]
  },
  {
   "cell_type": "code",
   "execution_count": 114,
   "id": "35075032-1b35-4a32-8513-f69f81d8d057",
   "metadata": {},
   "outputs": [
    {
     "data": {
      "text/plain": [
       "dict"
      ]
     },
     "execution_count": 114,
     "metadata": {},
     "output_type": "execute_result"
    }
   ],
   "source": [
    "type(diccionario)"
   ]
  },
  {
   "cell_type": "code",
   "execution_count": 115,
   "id": "a794e927-7046-4569-905b-48fa23e4abf0",
   "metadata": {},
   "outputs": [
    {
     "data": {
      "text/plain": [
       "[-2]"
      ]
     },
     "execution_count": 115,
     "metadata": {},
     "output_type": "execute_result"
    }
   ],
   "source": [
    "diccionario[5]"
   ]
  },
  {
   "cell_type": "code",
   "execution_count": 117,
   "id": "bd806618-644d-40da-8a71-3c126e0cdb7e",
   "metadata": {},
   "outputs": [
    {
     "data": {
      "text/plain": [
       "[2, 3]"
      ]
     },
     "execution_count": 117,
     "metadata": {},
     "output_type": "execute_result"
    }
   ],
   "source": [
    "diccionario['llave4']"
   ]
  },
  {
   "cell_type": "code",
   "execution_count": 118,
   "id": "d6f133ef-a1d8-485c-a2c5-7ba971f09620",
   "metadata": {},
   "outputs": [
    {
     "data": {
      "text/plain": [
       "dict_keys(['key', 'llave2', 'llave3', 'llave4', 5])"
      ]
     },
     "execution_count": 118,
     "metadata": {},
     "output_type": "execute_result"
    }
   ],
   "source": [
    "diccionario.keys()"
   ]
  },
  {
   "cell_type": "code",
   "execution_count": 119,
   "id": "df3dbefa-f6f4-4a56-9eab-8e644f3ca4da",
   "metadata": {},
   "outputs": [
    {
     "data": {
      "text/plain": [
       "dict_values(['valor', 'valor2', 5, [2, 3], [-2]])"
      ]
     },
     "execution_count": 119,
     "metadata": {},
     "output_type": "execute_result"
    }
   ],
   "source": [
    "diccionario.values()"
   ]
  },
  {
   "cell_type": "code",
   "execution_count": 121,
   "id": "6a39051a-1712-4502-860b-6ef01e6708c5",
   "metadata": {},
   "outputs": [
    {
     "data": {
      "text/plain": [
       "(5, [-2])"
      ]
     },
     "execution_count": 121,
     "metadata": {},
     "output_type": "execute_result"
    }
   ],
   "source": [
    "diccionario.popitem()"
   ]
  },
  {
   "cell_type": "code",
   "execution_count": 122,
   "id": "07ce8d2f-afc3-42c8-9b72-c0e3be11ae73",
   "metadata": {},
   "outputs": [
    {
     "data": {
      "text/plain": [
       "dict_values(['valor', 'valor2', 5, [2, 3]])"
      ]
     },
     "execution_count": 122,
     "metadata": {},
     "output_type": "execute_result"
    }
   ],
   "source": [
    "var=diccionario.values()\n",
    "var"
   ]
  },
  {
   "cell_type": "markdown",
   "id": "c99f6689-8c0b-42c6-8066-553a46cf1211",
   "metadata": {},
   "source": [
    "# Convertir a otro tipo de datos"
   ]
  },
  {
   "cell_type": "code",
   "execution_count": 126,
   "id": "2c9747eb-babc-4116-a1aa-3693f48a5298",
   "metadata": {},
   "outputs": [
    {
     "data": {
      "text/plain": [
       "list[dict_values(['valor', 'valor2', 5, [2, 3]])]"
      ]
     },
     "execution_count": 126,
     "metadata": {},
     "output_type": "execute_result"
    }
   ],
   "source": [
    "list[var]"
   ]
  },
  {
   "cell_type": "code",
   "execution_count": 127,
   "id": "5031ebb6-cbeb-4752-8cf8-13a03feb7c82",
   "metadata": {},
   "outputs": [
    {
     "data": {
      "text/plain": [
       "dict_values"
      ]
     },
     "execution_count": 127,
     "metadata": {},
     "output_type": "execute_result"
    }
   ],
   "source": [
    "type(var)"
   ]
  },
  {
   "cell_type": "code",
   "execution_count": 128,
   "id": "2743d32f-c085-46b1-a192-dbc1a47684a8",
   "metadata": {},
   "outputs": [
    {
     "data": {
      "text/plain": [
       "dict_values"
      ]
     },
     "execution_count": 128,
     "metadata": {},
     "output_type": "execute_result"
    }
   ],
   "source": [
    "list(var)\n",
    "type(var)"
   ]
  },
  {
   "cell_type": "code",
   "execution_count": 130,
   "id": "76f74335-5d56-4167-afb4-a7c1a1fde93a",
   "metadata": {},
   "outputs": [
    {
     "data": {
      "text/plain": [
       "{'key': 'valor', 'llave2': 45, 'llave3': 5, 'llave4': [2, 3]}"
      ]
     },
     "execution_count": 130,
     "metadata": {},
     "output_type": "execute_result"
    }
   ],
   "source": [
    "diccionario['llave2'] =45\n",
    "diccionario"
   ]
  },
  {
   "cell_type": "code",
   "execution_count": 132,
   "id": "03e8bf50-7e07-4e82-b688-1797691e02a7",
   "metadata": {},
   "outputs": [
    {
     "data": {
      "text/plain": [
       "{'key': 'valor',\n",
       " 'llave2': 45,\n",
       " 'llave3': 5,\n",
       " 'llave4': [2, 3],\n",
       " 'vamonos': 'a mimir'}"
      ]
     },
     "execution_count": 132,
     "metadata": {},
     "output_type": "execute_result"
    }
   ],
   "source": [
    "diccionario['vamonos']= 'a mimir'\n",
    "diccionario"
   ]
  },
  {
   "cell_type": "code",
   "execution_count": 133,
   "id": "da6d85a7-e081-4f4d-9db1-d94a13371fa6",
   "metadata": {},
   "outputs": [
    {
     "data": {
      "text/plain": [
       "'a mimir'"
      ]
     },
     "execution_count": 133,
     "metadata": {},
     "output_type": "execute_result"
    }
   ],
   "source": [
    "diccionario.pop('vamonos')"
   ]
  },
  {
   "cell_type": "code",
   "execution_count": 134,
   "id": "7980b8ec-b63a-47e7-b1b7-f7f1669f2e31",
   "metadata": {},
   "outputs": [
    {
     "data": {
      "text/plain": [
       "{'key': 'valor', 'llave2': 45, 'llave3': 5, 'llave4': [2, 3]}"
      ]
     },
     "execution_count": 134,
     "metadata": {},
     "output_type": "execute_result"
    }
   ],
   "source": [
    "diccionario"
   ]
  },
  {
   "cell_type": "code",
   "execution_count": null,
   "id": "9401dcfb-a46b-4bcc-b6f2-5acf0f1b59ab",
   "metadata": {},
   "outputs": [],
   "source": []
  }
 ],
 "metadata": {
  "kernelspec": {
   "display_name": "Python 3 (ipykernel)",
   "language": "python",
   "name": "python3"
  },
  "language_info": {
   "codemirror_mode": {
    "name": "ipython",
    "version": 3
   },
   "file_extension": ".py",
   "mimetype": "text/x-python",
   "name": "python",
   "nbconvert_exporter": "python",
   "pygments_lexer": "ipython3",
   "version": "3.10.4"
  }
 },
 "nbformat": 4,
 "nbformat_minor": 5
}
