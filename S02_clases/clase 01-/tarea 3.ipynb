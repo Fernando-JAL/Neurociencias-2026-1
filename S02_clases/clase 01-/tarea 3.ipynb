{
 "cells": [
  {
   "attachments": {
    "34d30e4c-53a9-4b12-96ba-6294b6885582.png": {
     "image/png": "[encoded data removed]"
    }
   },
   "cell_type": "markdown",
   "id": "e938e2be-673d-418e-9619-1e9c66ca5ee6",
   "metadata": {},
   "source": [
    "## tarea hacer las dos formulas de foto con for\n",
    "#### n!= n*(n-1)!\n",
    "![image.png](attachment:34d30e4c-53a9-4b12-96ba-6294b6885582.png)\n",
    "\n",
    "###### Sandy Patricia Aguilar Reyes"
   ]
  },
  {
   "cell_type": "code",
   "execution_count": 1,
   "id": "dad8c441-90f4-4f6a-8351-81c4335efd9e",
   "metadata": {},
   "outputs": [
    {
     "name": "stdout",
     "output_type": "stream",
     "text": [
      "5! = 120\n"
     ]
    }
   ],
   "source": [
    "n = 5\n",
    "resultado = 1\n",
    "\n",
    "for i in range (1, 6):\n",
    "    resultado *= i\n",
    "print(\"5! =\", resultado)\n"
   ]
  },
  {
   "cell_type": "code",
   "execution_count": 2,
   "id": "c0030860-3c6e-4f38-aa0c-ab5b8aae2d08",
   "metadata": {},
   "outputs": [
    {
     "name": "stdout",
     "output_type": "stream",
     "text": [
      "2520\n",
      "2520\n"
     ]
    }
   ],
   "source": [
    "resultado\n",
    "\n",
    "izq= 0\n",
    "for i in range (0, 21):\n",
    "    izq += resultado\n",
    "\n",
    "print (izq)\n",
    "\n",
    "der= resultado\n",
    "for i in range (1, 21):\n",
    "    der += resultado\n",
    "\n",
    "print (der)\n"
   ]
  }
 ],
 "metadata": {
  "kernelspec": {
   "display_name": "Python 3 (ipykernel)",
   "language": "python",
   "name": "python3"
  },
  "language_info": {
   "codemirror_mode": {
    "name": "ipython",
    "version": 3
   },
   "file_extension": ".py",
   "mimetype": "text/x-python",
   "name": "python",
   "nbconvert_exporter": "python",
   "pygments_lexer": "ipython3",
   "version": "3.13.6"
  }
 },
 "nbformat": 4,
 "nbformat_minor": 5
}
