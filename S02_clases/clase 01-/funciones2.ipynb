{
 "cells": [
  {
   "cell_type": "code",
   "execution_count": 3,
   "id": "565a50b2-068c-42d7-8740-ddf5aff5742f",
   "metadata": {},
   "outputs": [
    {
     "data": {
      "text/plain": [
       "2.0"
      ]
     },
     "execution_count": 3,
     "metadata": {},
     "output_type": "execute_result"
    }
   ],
   "source": [
    "## division entre 2 numeros\n",
    "def division (dividendo, divisor):\n",
    "    return dividendo / divisor\n",
    "division (8,4)"
   ]
  },
  {
   "cell_type": "code",
   "execution_count": 5,
   "id": "9bf69f2f-8645-4410-a979-65279f791d78",
   "metadata": {},
   "outputs": [
    {
     "data": {
      "text/plain": [
       "2.0"
      ]
     },
     "execution_count": 5,
     "metadata": {},
     "output_type": "execute_result"
    }
   ],
   "source": [
    "division (divisor=4, dividendo=8)\n",
    "\n",
    "### tambien se puede poner al reves y funciona\n",
    "division (dividendo=8, divisor=4)"
   ]
  },
  {
   "cell_type": "code",
   "execution_count": 15,
   "id": "76f50a95-85b8-47c8-bad5-f2b3ea6d208a",
   "metadata": {},
   "outputs": [
    {
     "data": {
      "text/plain": [
       "12.0"
      ]
     },
     "execution_count": 15,
     "metadata": {},
     "output_type": "execute_result"
    }
   ],
   "source": [
    "def division (dividendo, divisor, extra=6):\n",
    "    return dividendo / divisor + extra\n",
    "\n",
    "division (8, 4, 10)"
   ]
  },
  {
   "cell_type": "markdown",
   "id": "92cc6fda-b9ca-4aac-97c8-d9723fb2201b",
   "metadata": {},
   "source": [
    "## funciones recursivas"
   ]
  },
  {
   "cell_type": "code",
   "execution_count": 23,
   "id": "aeb6d3fc-8f37-4801-b24b-705bc7012e51",
   "metadata": {},
   "outputs": [
    {
     "name": "stdout",
     "output_type": "stream",
     "text": [
      "3\n",
      "2\n",
      "1\n",
      "booom!!!\n",
      "fin de la funcion 0\n",
      "fin de la funcion 1\n",
      "fin de la funcion 2\n",
      "fin de la funcion 3\n"
     ]
    }
   ],
   "source": [
    "def cuenta_atras (n):\n",
    "    if n > 0:\n",
    "        print (n)\n",
    "        cuenta_atras (n-1)\n",
    "    else: \n",
    "        print (\"booom!!!\")\n",
    "    print (\"fin de la funcion\", n)\n",
    "               \n",
    "cuenta_atras (3)"
   ]
  },
  {
   "cell_type": "markdown",
   "id": "15fac425-0b64-47fb-b8dd-2fc336eb44c2",
   "metadata": {},
   "source": [
    "### tarea hacer las dos formulas de foto con for "
   ]
  },
  {
   "cell_type": "markdown",
   "id": "1c67ae5d-e165-49a0-b550-63ab8ae234be",
   "metadata": {},
   "source": [
    "n!= n*(n-1)!"
   ]
  },
  {
   "cell_type": "markdown",
   "id": "0aecd54f-e74a-4e02-b7d8-8a8fc198ab99",
   "metadata": {},
   "source": [
    "## funcion print"
   ]
  },
  {
   "cell_type": "code",
   "execution_count": 25,
   "id": "bdb4f5f1-f204-4d33-b9e9-a05aa5cd2d0e",
   "metadata": {},
   "outputs": [
    {
     "name": "stdout",
     "output_type": "stream",
     "text": [
      "el valor de la variables es 46.2 8\n"
     ]
    }
   ],
   "source": [
    "variable, variable2= 46.2, 8\n",
    "print(\"el valor de la variables es\", variable, variable2)"
   ]
  },
  {
   "cell_type": "code",
   "execution_count": 26,
   "id": "3c317392-4c61-4dd7-bc17-61a0bad1fb4a",
   "metadata": {},
   "outputs": [
    {
     "name": "stdout",
     "output_type": "stream",
     "text": [
      "el valor de la variable es 46.2, 8\n"
     ]
    }
   ],
   "source": [
    "print(f\"el valor de la variable es {variable}, {variable2}\")\n",
    "\n",
    "### f es de formato, para decirle que imprima entre llaves el valor de la variable"
   ]
  },
  {
   "cell_type": "code",
   "execution_count": 29,
   "id": "f8787a5f-1352-44f1-8e97-8397294f2dd6",
   "metadata": {},
   "outputs": [
    {
     "name": "stdout",
     "output_type": "stream",
     "text": [
      "el valor de la variable es 46.2,8\n",
      "el valor de la variable es 8,46.2\n"
     ]
    }
   ],
   "source": [
    "print(\"el valor de la variable es {},{}\". format(variable, variable2))\n",
    "\n",
    "print(\"el valor de la variable es {1},{0}\". format(variable, variable2))"
   ]
  },
  {
   "cell_type": "code",
   "execution_count": 33,
   "id": "c9325883-05ac-473e-89f7-e61e3ec9c248",
   "metadata": {},
   "outputs": [
    {
     "name": "stdout",
     "output_type": "stream",
     "text": [
      "Requirement already satisfied: numpy in c:\\users\\hp\\appdata\\local\\programs\\python\\python313\\lib\\site-packages (2.3.2)\n",
      "Requirement already satisfied: pandas in c:\\users\\hp\\appdata\\local\\programs\\python\\python313\\lib\\site-packages (2.3.2)\n",
      "Requirement already satisfied: matplotlib in c:\\users\\hp\\appdata\\local\\programs\\python\\python313\\lib\\site-packages (3.10.6)\n",
      "Requirement already satisfied: python-dateutil>=2.8.2 in c:\\users\\hp\\appdata\\local\\programs\\python\\python313\\lib\\site-packages (from pandas) (2.9.0.post0)\n",
      "Requirement already satisfied: pytz>=2020.1 in c:\\users\\hp\\appdata\\local\\programs\\python\\python313\\lib\\site-packages (from pandas) (2025.2)\n",
      "Requirement already satisfied: tzdata>=2022.7 in c:\\users\\hp\\appdata\\local\\programs\\python\\python313\\lib\\site-packages (from pandas) (2025.2)\n",
      "Requirement already satisfied: contourpy>=1.0.1 in c:\\users\\hp\\appdata\\local\\programs\\python\\python313\\lib\\site-packages (from matplotlib) (1.3.3)\n",
      "Requirement already satisfied: cycler>=0.10 in c:\\users\\hp\\appdata\\local\\programs\\python\\python313\\lib\\site-packages (from matplotlib) (0.12.1)\n",
      "Requirement already satisfied: fonttools>=4.22.0 in c:\\users\\hp\\appdata\\local\\programs\\python\\python313\\lib\\site-packages (from matplotlib) (4.59.2)\n",
      "Requirement already satisfied: kiwisolver>=1.3.1 in c:\\users\\hp\\appdata\\local\\programs\\python\\python313\\lib\\site-packages (from matplotlib) (1.4.9)\n",
      "Requirement already satisfied: packaging>=20.0 in c:\\users\\hp\\appdata\\local\\programs\\python\\python313\\lib\\site-packages (from matplotlib) (25.0)\n",
      "Requirement already satisfied: pillow>=8 in c:\\users\\hp\\appdata\\local\\programs\\python\\python313\\lib\\site-packages (from matplotlib) (11.3.0)\n",
      "Requirement already satisfied: pyparsing>=2.3.1 in c:\\users\\hp\\appdata\\local\\programs\\python\\python313\\lib\\site-packages (from matplotlib) (3.2.3)\n",
      "Requirement already satisfied: six>=1.5 in c:\\users\\hp\\appdata\\local\\programs\\python\\python313\\lib\\site-packages (from python-dateutil>=2.8.2->pandas) (1.17.0)\n"
     ]
    }
   ],
   "source": [
    "!pip install numpy pandas matplotlib"
   ]
  },
  {
   "cell_type": "code",
   "execution_count": 35,
   "id": "a3fda7a6-34ec-4e1c-90c1-44430fba9d83",
   "metadata": {},
   "outputs": [],
   "source": [
    "import numpy"
   ]
  },
  {
   "cell_type": "code",
   "execution_count": null,
   "id": "df80d776-926e-40e1-bb7b-fe01a8de2297",
   "metadata": {},
   "outputs": [],
   "source": []
  },
  {
   "cell_type": "code",
   "execution_count": null,
   "id": "e0475d7d-58b1-4667-835b-61c5fd675461",
   "metadata": {},
   "outputs": [],
   "source": []
  },
  {
   "cell_type": "code",
   "execution_count": null,
   "id": "ef97d37c-4545-4473-abda-e5f5368dae37",
   "metadata": {},
   "outputs": [],
   "source": []
  }
 ],
 "metadata": {
  "kernelspec": {
   "display_name": "Python 3 (ipykernel)",
   "language": "python",
   "name": "python3"
  },
  "language_info": {
   "codemirror_mode": {
    "name": "ipython",
    "version": 3
   },
   "file_extension": ".py",
   "mimetype": "text/x-python",
   "name": "python",
   "nbconvert_exporter": "python",
   "pygments_lexer": "ipython3",
   "version": "3.13.6"
  }
 },
 "nbformat": 4,
 "nbformat_minor": 5
}
