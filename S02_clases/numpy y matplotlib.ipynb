{
 "cells": [
  {
   "cell_type": "code",
   "execution_count": 5,
   "id": "dca45c06-9f37-4bad-8b87-ec758b3f3246",
   "metadata": {},
   "outputs": [],
   "source": [
    "import numpy as np"
   ]
  },
  {
   "cell_type": "code",
   "execution_count": 6,
   "id": "e087199d-32dd-4859-a4a5-2dbb950528f1",
   "metadata": {},
   "outputs": [
    {
     "name": "stdout",
     "output_type": "stream",
     "text": [
      "value = {'string', 5}, data type= <class 'numpy.ndarray'>\n"
     ]
    }
   ],
   "source": [
    "#convertir datos a arreglos \n",
    "value = np.array ({5, \"string\"})\n",
    "print (f\"value = {value}, data type= {type(value)}\")"
   ]
  },
  {
   "cell_type": "code",
   "execution_count": 7,
   "id": "4017be84-b8a6-4650-901e-6382e676b1e7",
   "metadata": {},
   "outputs": [
    {
     "data": {
      "text/plain": [
       "array([-5, -4, -3, -2])"
      ]
     },
     "execution_count": 7,
     "metadata": {},
     "output_type": "execute_result"
    }
   ],
   "source": [
    "np.array(range(-7,6)) [2:6]\n"
   ]
  },
  {
   "cell_type": "code",
   "execution_count": 8,
   "id": "eefccc28-e569-4221-bf2d-4a7240d079d8",
   "metadata": {},
   "outputs": [
    {
     "data": {
      "text/plain": [
       "(array([0, 1, 2, 3, 4]), array([-10,  -9,  -8,  -7,  -6]))"
      ]
     },
     "execution_count": 8,
     "metadata": {},
     "output_type": "execute_result"
    }
   ],
   "source": [
    "a,b = np.arange(5), np.arange(-10,-5)\n",
    "a,b"
   ]
  },
  {
   "cell_type": "code",
   "execution_count": 9,
   "id": "ed01e03a-6501-4e75-a723-bf95d9c7edc4",
   "metadata": {},
   "outputs": [
    {
     "data": {
      "text/plain": [
       "array([  0,  -9, -16, -21, -24])"
      ]
     },
     "execution_count": 9,
     "metadata": {},
     "output_type": "execute_result"
    }
   ],
   "source": [
    "a * b"
   ]
  },
  {
   "cell_type": "code",
   "execution_count": 10,
   "id": "4c3f11ad-a02e-4d4f-908c-128daff432a2",
   "metadata": {},
   "outputs": [],
   "source": [
    "matriz = np.array ([[0, 5, 10],\n",
    "                    [15, 20, 25],\n",
    "                    [99,35,40]])"
   ]
  },
  {
   "cell_type": "code",
   "execution_count": 11,
   "id": "09365f37-68fc-41c4-8c46-98c95a45a93c",
   "metadata": {},
   "outputs": [
    {
     "data": {
      "text/plain": [
       "array([15, 20, 25])"
      ]
     },
     "execution_count": 11,
     "metadata": {},
     "output_type": "execute_result"
    }
   ],
   "source": [
    "matriz[0:2][1]"
   ]
  },
  {
   "cell_type": "code",
   "execution_count": 12,
   "id": "ccb6f9b1-1460-4822-81a1-c06e56133a8a",
   "metadata": {},
   "outputs": [
    {
     "data": {
      "text/plain": [
       "array([[0.53475226, 0.0151255 ],\n",
       "       [0.95586687, 0.90823336],\n",
       "       [0.37041238, 0.19295023],\n",
       "       [0.11713983, 0.76055795],\n",
       "       [0.08020697, 0.61707304],\n",
       "       [0.24303027, 0.1283265 ]])"
      ]
     },
     "execution_count": 12,
     "metadata": {},
     "output_type": "execute_result"
    }
   ],
   "source": [
    "np.random.rand (6,2)"
   ]
  },
  {
   "cell_type": "code",
   "execution_count": 13,
   "id": "0a261618-03e5-4ff8-9bbd-c34b91d76d40",
   "metadata": {},
   "outputs": [
    {
     "data": {
      "text/plain": [
       "array([[12.44187525, 10.24935496, 14.45375439, 11.85241901],\n",
       "       [14.89166736, 12.19920322, 11.82911867, 11.46737515],\n",
       "       [11.97831595, 12.69457332, 13.58061589, 10.97974196]])"
      ]
     },
     "execution_count": 13,
     "metadata": {},
     "output_type": "execute_result"
    }
   ],
   "source": [
    "a,b = 10, 15\n",
    "np.random.uniform (a,b ,size=[3,4])"
   ]
  },
  {
   "cell_type": "code",
   "execution_count": null,
   "id": "0e87d6ed-be7a-49f0-8bb6-ca6145ecb1cf",
   "metadata": {},
   "outputs": [],
   "source": [
    "np.random.randint(10, size = "
   ]
  },
  {
   "cell_type": "code",
   "execution_count": 14,
   "id": "fd08f216-8e59-45d8-be0f-2488746607e9",
   "metadata": {},
   "outputs": [
    {
     "data": {
      "text/plain": [
       "-1.1473043548279689"
      ]
     },
     "execution_count": 14,
     "metadata": {},
     "output_type": "execute_result"
    }
   ],
   "source": [
    "np.random.normal()"
   ]
  },
  {
   "cell_type": "code",
   "execution_count": 15,
   "id": "9905ddfd-f9c3-4da6-9733-f1220e8630e5",
   "metadata": {},
   "outputs": [],
   "source": [
    "import matplotlib.pyplot as plt"
   ]
  },
  {
   "cell_type": "code",
   "execution_count": 17,
   "id": "4f6f5031-07ce-4797-ad07-385d990f7b56",
   "metadata": {},
   "outputs": [
    {
     "data": {
      "text/plain": [
       "[<matplotlib.lines.Line2D at 0x2273fe55bd0>]"
      ]
     },
     "execution_count": 17,
     "metadata": {},
     "output_type": "execute_result"
    },
    {
     "data": {
      "image/png": "[encoded data removed]",
      "text/plain": [
       "<Figure size 640x480 with 1 Axes>"
      ]
     },
     "metadata": {},
     "output_type": "display_data"
    }
   ],
   "source": [
    "valores = np.arange(20) \n",
    "plt.plot(valores, \".\")"
   ]
  },
  {
   "cell_type": "code",
   "execution_count": null,
   "id": "779bad14-3d7c-4476-97ac-02944df702e2",
   "metadata": {},
   "outputs": [],
   "source": [
    "#crear un arreglo de numeros aleatorios con distribucion normal con media mu =0 y desviación estandar =1 de tamaño 100,000 y plotear su histograma"
   ]
  },
  {
   "cell_type": "code",
   "execution_count": 29,
   "id": "85d39169-6f33-4ab4-a2d1-067898df9f62",
   "metadata": {},
   "outputs": [
    {
     "data": {
      "text/plain": [
       "(array([2.000e+00, 1.000e+00, 0.000e+00, 0.000e+00, 3.000e+00, 2.000e+00,\n",
       "        0.000e+00, 3.000e+00, 5.000e+00, 8.000e+00, 1.400e+01, 2.200e+01,\n",
       "        2.400e+01, 7.000e+00, 3.100e+01, 5.100e+01, 6.000e+01, 7.000e+01,\n",
       "        7.900e+01, 1.210e+02, 1.330e+02, 1.880e+02, 1.980e+02, 2.640e+02,\n",
       "        3.630e+02, 4.030e+02, 4.850e+02, 5.870e+02, 6.790e+02, 7.940e+02,\n",
       "        9.020e+02, 1.068e+03, 1.250e+03, 1.392e+03, 1.547e+03, 1.727e+03,\n",
       "        2.064e+03, 2.124e+03, 2.263e+03, 2.570e+03, 2.678e+03, 2.881e+03,\n",
       "        3.048e+03, 3.232e+03, 3.243e+03, 3.431e+03, 3.518e+03, 3.486e+03,\n",
       "        3.527e+03, 3.620e+03, 3.545e+03, 3.374e+03, 3.451e+03, 3.171e+03,\n",
       "        3.059e+03, 2.987e+03, 2.730e+03, 2.707e+03, 2.346e+03, 2.329e+03,\n",
       "        2.091e+03, 1.955e+03, 1.757e+03, 1.473e+03, 1.356e+03, 1.229e+03,\n",
       "        1.024e+03, 8.940e+02, 7.710e+02, 6.530e+02, 5.500e+02, 4.480e+02,\n",
       "        3.800e+02, 3.240e+02, 2.410e+02, 2.180e+02, 1.800e+02, 1.180e+02,\n",
       "        1.060e+02, 8.600e+01, 7.800e+01, 4.600e+01, 3.600e+01, 3.200e+01,\n",
       "        1.700e+01, 1.900e+01, 1.600e+01, 5.000e+00, 1.200e+01, 6.000e+00,\n",
       "        4.000e+00, 4.000e+00, 0.000e+00, 1.000e+00, 0.000e+00, 1.000e+00,\n",
       "        1.000e+00, 0.000e+00, 0.000e+00, 1.000e+00]),\n",
       " array([-4.37584248, -4.28636092, -4.19687936, -4.1073978 , -4.01791623,\n",
       "        -3.92843467, -3.83895311, -3.74947155, -3.65998999, -3.57050843,\n",
       "        -3.48102687, -3.39154531, -3.30206374, -3.21258218, -3.12310062,\n",
       "        -3.03361906, -2.9441375 , -2.85465594, -2.76517438, -2.67569281,\n",
       "        -2.58621125, -2.49672969, -2.40724813, -2.31776657, -2.22828501,\n",
       "        -2.13880345, -2.04932189, -1.95984032, -1.87035876, -1.7808772 ,\n",
       "        -1.69139564, -1.60191408, -1.51243252, -1.42295096, -1.33346939,\n",
       "        -1.24398783, -1.15450627, -1.06502471, -0.97554315, -0.88606159,\n",
       "        -0.79658003, -0.70709847, -0.6176169 , -0.52813534, -0.43865378,\n",
       "        -0.34917222, -0.25969066, -0.1702091 , -0.08072754,  0.00875403,\n",
       "         0.09823559,  0.18771715,  0.27719871,  0.36668027,  0.45616183,\n",
       "         0.54564339,  0.63512495,  0.72460652,  0.81408808,  0.90356964,\n",
       "         0.9930512 ,  1.08253276,  1.17201432,  1.26149588,  1.35097745,\n",
       "         1.44045901,  1.52994057,  1.61942213,  1.70890369,  1.79838525,\n",
       "         1.88786681,  1.97734837,  2.06682994,  2.1563115 ,  2.24579306,\n",
       "         2.33527462,  2.42475618,  2.51423774,  2.6037193 ,  2.69320087,\n",
       "         2.78268243,  2.87216399,  2.96164555,  3.05112711,  3.14060867,\n",
       "         3.23009023,  3.31957179,  3.40905336,  3.49853492,  3.58801648,\n",
       "         3.67749804,  3.7669796 ,  3.85646116,  3.94594272,  4.03542429,\n",
       "         4.12490585,  4.21438741,  4.30386897,  4.39335053,  4.48283209,\n",
       "         4.57231365]),\n",
       " <BarContainer object of 100 artists>)"
      ]
     },
     "execution_count": 29,
     "metadata": {},
     "output_type": "execute_result"
    },
    {
     "data": {
      "image/png": "[encoded data removed]",
      "text/plain": [
       "<Figure size 640x480 with 1 Axes>"
      ]
     },
     "metadata": {},
     "output_type": "display_data"
    }
   ],
   "source": [
    "mu, sigma= 0,1\n",
    "ejercicio= np.random.normal (mu, sigma, size=100000)\n",
    "\n",
    "plt.hist(ejercicio, bins=100)"
   ]
  },
  {
   "cell_type": "code",
   "execution_count": null,
   "id": "eb68dc5c-fd41-4926-ba00-fa9c4e1d044d",
   "metadata": {},
   "outputs": [],
   "source": []
  },
  {
   "cell_type": "code",
   "execution_count": null,
   "id": "66539166-40e0-4765-ab2a-d6d1fde3b775",
   "metadata": {},
   "outputs": [],
   "source": []
  },
  {
   "cell_type": "code",
   "execution_count": null,
   "id": "0da04125-1b77-477d-a70a-1ee0d708e112",
   "metadata": {},
   "outputs": [],
   "source": []
  },
  {
   "cell_type": "code",
   "execution_count": null,
   "id": "c7ab00fe-fcbe-489d-ab58-5b2f178b43cc",
   "metadata": {},
   "outputs": [],
   "source": []
  }
 ],
 "metadata": {
  "kernelspec": {
   "display_name": "Python 3 (ipykernel)",
   "language": "python",
   "name": "python3"
  },
  "language_info": {
   "codemirror_mode": {
    "name": "ipython",
    "version": 3
   },
   "file_extension": ".py",
   "mimetype": "text/x-python",
   "name": "python",
   "nbconvert_exporter": "python",
   "pygments_lexer": "ipython3",
   "version": "3.13.7"
  }
 },
 "nbformat": 4,
 "nbformat_minor": 5
}
