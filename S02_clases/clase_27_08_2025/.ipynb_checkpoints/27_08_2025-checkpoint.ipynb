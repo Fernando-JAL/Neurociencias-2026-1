{
 "cells": [
  {
   "cell_type": "markdown",
   "id": "fc1af1aa-c050-4cc2-a77e-90a524963044",
   "metadata": {},
   "source": [
    "# Funciones\n",
    "#### Fragmento de codigo que se pueden ejecutar multiples veces. puede recibir y/o devolver informcion/datos/variables para comunicarse co e codigo/ proceso principal.\n"
   ]
  },
  {
   "cell_type": "code",
   "execution_count": 3,
   "id": "41b4c0a1-9603-46ac-8121-7d78c04553a2",
   "metadata": {},
   "outputs": [
    {
     "name": "stdout",
     "output_type": "stream",
     "text": [
      "hello world, Dennis Ritchie\n"
     ]
    }
   ],
   "source": [
    "def saludar ():\n",
    "    print ('hello world, Dennis Ritchie')\n",
    "\n",
    "saludar ()\n",
    "    "
   ]
  },
  {
   "cell_type": "code",
   "execution_count": 13,
   "id": "d249dff7-fbea-4d09-bbdc-234509148a2c",
   "metadata": {},
   "outputs": [
    {
     "name": "stdout",
     "output_type": "stream",
     "text": [
      "hello world, Dennis Ritchie\n",
      "hello world, Dennis Ritchie\n",
      "hello world, Dennis Ritchie\n"
     ]
    }
   ],
   "source": [
    "for _ in range (3):\n",
    "    saludar()"
   ]
  },
  {
   "cell_type": "code",
   "execution_count": 20,
   "id": "9d3a3385-8070-4ccb-b162-ffa07c27da57",
   "metadata": {},
   "outputs": [
    {
     "data": {
      "text/plain": [
       "7.0"
      ]
     },
     "execution_count": 20,
     "metadata": {},
     "output_type": "execute_result"
    }
   ],
   "source": [
    "lista = (3, 5, 7, 9, 11)\n",
    "sum (lista)/len (lista) "
   ]
  },
  {
   "cell_type": "code",
   "execution_count": 21,
   "id": "18213e51-b396-444f-8f4b-8d192b4e35c7",
   "metadata": {},
   "outputs": [
    {
     "name": "stdout",
     "output_type": "stream",
     "text": [
      "El promedio de los numeros es 7.0\n"
     ]
    },
    {
     "data": {
      "text/plain": [
       "7.0"
      ]
     },
     "execution_count": 21,
     "metadata": {},
     "output_type": "execute_result"
    }
   ],
   "source": [
    "def promedio (numeros):\n",
    "    valor_promedio = sum(numeros)/len(numeros)\n",
    "    print(f'El promedio de los numeros es {valor_promedio}') \n",
    "    return valor_promedio\n",
    "promedio (lista)"
   ]
  },
  {
   "cell_type": "code",
   "execution_count": null,
   "id": "b760275f-dd63-4b84-9dd3-df37bf59f101",
   "metadata": {},
   "outputs": [],
   "source": [
    "#return regresa a la funcion "
   ]
  },
  {
   "cell_type": "code",
   "execution_count": 22,
   "id": "c0a05fd1-c676-4d0c-9188-1bafd320810c",
   "metadata": {},
   "outputs": [
    {
     "name": "stdout",
     "output_type": "stream",
     "text": [
      "El promedio de los numeros es 7.0\n"
     ]
    }
   ],
   "source": [
    "valor_f = promedio (lista) "
   ]
  },
  {
   "cell_type": "code",
   "execution_count": 23,
   "id": "a66bc2a8-22b4-4a4c-8a67-641c57703b97",
   "metadata": {},
   "outputs": [],
   "source": [
    "def minimo(val_a, val_b):\n",
    "    val_minimo=min (val_a, val_b)\n",
    "    return val_minimo"
   ]
  },
  {
   "cell_type": "code",
   "execution_count": 24,
   "id": "f15fc1b7-5859-4ab3-a227-bdd8d22a60a8",
   "metadata": {},
   "outputs": [
    {
     "data": {
      "text/plain": [
       "-50"
      ]
     },
     "execution_count": 24,
     "metadata": {},
     "output_type": "execute_result"
    }
   ],
   "source": [
    "minimo(-10, -50)"
   ]
  },
  {
   "cell_type": "markdown",
   "id": "258be22e-d562-4267-8422-f0651fb8677d",
   "metadata": {},
   "source": [
    "# Ejercicio \n",
    "#### Hacer una funcion para calcular el factorial de un número"
   ]
  },
  {
   "cell_type": "code",
   "execution_count": 37,
   "id": "bd1a36ca-8f23-41ae-89f6-5508b3d2a1ad",
   "metadata": {},
   "outputs": [
    {
     "data": {
      "text/plain": [
       "120"
      ]
     },
     "execution_count": 37,
     "metadata": {},
     "output_type": "execute_result"
    }
   ],
   "source": [
    "n = 5\n",
    "resultado = 1\n",
    "for val in range (1, n+1): \n",
    "    resultado *= val\n",
    "\n",
    "resultado\n"
   ]
  },
  {
   "cell_type": "code",
   "execution_count": 32,
   "id": "84c3cb13-7e71-4b72-8dd7-2a080ead86fa",
   "metadata": {},
   "outputs": [
    {
     "name": "stdout",
     "output_type": "stream",
     "text": [
      "120\n"
     ]
    }
   ],
   "source": [
    "def factorial_math(n):\n",
    "    if n < 0:\n",
    "        return \"factorial\"\n",
    "    return math.factorial(n)\n",
    "    \n",
    "print(factorial_math(5))  "
   ]
  },
  {
   "cell_type": "code",
   "execution_count": null,
   "id": "a474d09f-6310-44a1-aa1a-1965244bdc46",
   "metadata": {},
   "outputs": [],
   "source": []
  }
 ],
 "metadata": {
  "kernelspec": {
   "display_name": "Python 3 (ipykernel)",
   "language": "python",
   "name": "python3"
  },
  "language_info": {
   "codemirror_mode": {
    "name": "ipython",
    "version": 3
   },
   "file_extension": ".py",
   "mimetype": "text/x-python",
   "name": "python",
   "nbconvert_exporter": "python",
   "pygments_lexer": "ipython3",
   "version": "3.13.5"
  }
 },
 "nbformat": 4,
 "nbformat_minor": 5
}
