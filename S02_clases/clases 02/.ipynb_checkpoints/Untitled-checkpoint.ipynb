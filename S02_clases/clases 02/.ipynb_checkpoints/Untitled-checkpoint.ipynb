{
 "cells": [
  {
   "cell_type": "markdown",
   "id": "870ec4b0-c9bb-4dcc-9b0e-7b7e4d27d9e9",
   "metadata": {},
   "source": [
    "title "
   ]
  },
  {
   "cell_type": "markdown",
   "id": "28e298d9-edb2-4912-8164-1fb517f3e18c",
   "metadata": {},
   "source": [
    "esc + m-> convierte la celda en markdown\n"
   ]
  },
  {
   "cell_type": "code",
   "execution_count": 2,
   "id": "1bfc69f6-981b-4adf-8aa3-2bb14c755564",
   "metadata": {},
   "outputs": [],
   "source": [
    "casa = 15 "
   ]
  },
  {
   "cell_type": "markdown",
   "id": "b1995827-2057-4fb2-a80c-b450d4213fe3",
   "metadata": {},
   "source": [
    "## listas\n",
    "\n",
    "- item 1\n",
    "- item 2\n",
    "- item 3\n",
    "1. cosa numerada 1\n",
    "1. cosa numerada 2\n",
    "   1. cosa subnumerada\n",
    "        1. cosa numerada\n",
    "            2. cosa numerada\n",
    "                3. cosa numerada \n",
    "            "
   ]
  },
  {
   "cell_type": "code",
   "execution_count": 8,
   "id": "a6350a82-1419-40ae-9f5f-8edb7333272a",
   "metadata": {},
   "outputs": [],
   "source": [
    "dictionary = {\"llave\":\"valor\", \"llave2\": \"valor2\", \"cosa\": 5, \"otra cosa\" : [3,2, \"k\"], \"llave3\":(1,2,\"1\") }"
   ]
  },
  {
   "cell_type": "code",
   "execution_count": 12,
   "id": "0e4315c5-73f0-47d1-8806-e503921e7d9d",
   "metadata": {},
   "outputs": [
    {
     "data": {
      "text/plain": [
       "(1, 2, '1')"
      ]
     },
     "execution_count": 12,
     "metadata": {},
     "output_type": "execute_result"
    }
   ],
   "source": [
    "dictionary [\"llave3\"]"
   ]
  },
  {
   "cell_type": "code",
   "execution_count": null,
   "id": "37adf245-11f9-4f02-849c-48a0ee894569",
   "metadata": {},
   "outputs": [],
   "source": []
  }
 ],
 "metadata": {
  "kernelspec": {
   "display_name": "Python 3 (ipykernel)",
   "language": "python",
   "name": "python3"
  },
  "language_info": {
   "codemirror_mode": {
    "name": "ipython",
    "version": 3
   },
   "file_extension": ".py",
   "mimetype": "text/x-python",
   "name": "python",
   "nbconvert_exporter": "python",
   "pygments_lexer": "ipython3",
   "version": "3.11.1"
  }
 },
 "nbformat": 4,
 "nbformat_minor": 5
}
