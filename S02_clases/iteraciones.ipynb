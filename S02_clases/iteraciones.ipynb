{
 "cells": [
  {
   "cell_type": "markdown",
   "id": "b080450a-09ba-4515-917b-fedd0e55b98e",
   "metadata": {},
   "source": [
    "# Iteraciones\n",
    "Iterar significa realizar algo muchas veces.\n",
    "# Sentencia while\n",
    "se basa en repetir un bloque de código a partir de una condición lógica. Dicho bloque se repetirá mientras la condicón sea TRUE(Se ejecuta, \n",
    "se vuelve a preguntar si es cierta, si es cierta se vuelve a ejecutar y es un ciclo cuidado con no matar a tú python, las computadoras no pueden\n",
    "hacer infinitos)\n"
   ]
  },
  {
   "cell_type": "code",
   "execution_count": 5,
   "id": "83ec6ae7-88e1-41b5-a086-b533d9831eb8",
   "metadata": {},
   "outputs": [
    {
     "name": "stdout",
     "output_type": "stream",
     "text": [
      "el valor de la variable es 0\n",
      "el valor de la variable es 2\n",
      "el valor de la variable es 4\n",
      "el valor de la variable es 6\n",
      "el valor de la variable es 8\n",
      "código después del while\n"
     ]
    }
   ],
   "source": [
    "variable = 0 \n",
    "while variable <10:\n",
    "    print('el valor de la variable es', variable)\n",
    "    variable+=2\n",
    "print ('código después del while')"
   ]
  },
  {
   "cell_type": "code",
   "execution_count": 6,
   "id": "b83103b0-fd9a-47b1-83ca-adcaa5d38153",
   "metadata": {},
   "outputs": [
    {
     "name": "stdout",
     "output_type": "stream",
     "text": [
      "el valor de la variable es 0\n",
      "código después del while\n"
     ]
    }
   ],
   "source": [
    "variable = 0 \n",
    "if variable <10: ## hazlo una vez si la condicional es verdad\n",
    "    print('el valor de la variable es', variable)\n",
    "    variable+=2\n",
    "print ('código después del while')"
   ]
  },
  {
   "cell_type": "code",
   "execution_count": 8,
   "id": "71419c7e-9209-417b-a364-e34b5393aa7b",
   "metadata": {},
   "outputs": [
    {
     "name": "stdout",
     "output_type": "stream",
     "text": [
      "3\n",
      "4\n",
      "5\n",
      "codigo en el else del while\n",
      "codigo después del while\n"
     ]
    }
   ],
   "source": [
    "variable2 = 0 \n",
    "while variable <5:\n",
    "    variable+= 1\n",
    "    print(variable)\n",
    "else:\n",
    "    print('codigo en el else del while')\n",
    "print ('codigo después del while')          "
   ]
  },
  {
   "cell_type": "markdown",
   "id": "bcd49558-934d-4cfa-9533-ff6e91f65616",
   "metadata": {},
   "source": [
    "# Palabras reservadas relacionadas al while\n",
    "\n",
    "### continue(siguele en el código, pero ya no regreses al bucle) y break(romper)"
   ]
  },
  {
   "cell_type": "code",
   "execution_count": 20,
   "id": "5ffd65e8-76cc-429c-b77c-9b701329fde2",
   "metadata": {},
   "outputs": [
    {
     "name": "stdout",
     "output_type": "stream",
     "text": [
      "1\n",
      "2\n",
      "3\n",
      "esto se va a ver hasta después de 3 bucles\n",
      "codigo después del while\n"
     ]
    }
   ],
   "source": [
    "variable2 = 0 \n",
    "while variable2 <5:\n",
    "    variable2+= 1\n",
    "    print(variable2)\n",
    "    if variable2 ==3:\n",
    "      print('esto se va a ver hasta después de 3 bucles')\n",
    "      break\n",
    "else:\n",
    "    print('codigo en el else del while')\n",
    "print ('codigo después del while')"
   ]
  },
  {
   "cell_type": "code",
   "execution_count": 21,
   "id": "df36dac1-626b-4f5f-a861-cddac273cdcb",
   "metadata": {},
   "outputs": [
    {
     "name": "stdout",
     "output_type": "stream",
     "text": [
      "1\n",
      "2\n",
      "3\n",
      "esto se va a ver hasta después de 3 bucles\n",
      "4\n",
      "5\n",
      "codigo en el else del while\n",
      "codigo después del while\n"
     ]
    }
   ],
   "source": [
    "variable = 0 \n",
    "while variable <5:\n",
    "    variable+= 1\n",
    "    print(variable)\n",
    "    if variable ==3:\n",
    "      print('esto se va a ver hasta después de 3 bucles')\n",
    "      continue\n",
    "else:\n",
    "    print('codigo en el else del while')\n",
    "print ('codigo después del while')"
   ]
  },
  {
   "cell_type": "markdown",
   "id": "27c09ab7-47a1-4957-91d5-e5ee58d6eb92",
   "metadata": {},
   "source": [
    "## Controladro de flujo for\n",
    "es para datos iterables (sintaxis: for valor in variable:)\n",
    "Cualquier variable es un objeto iterable, para cada eleemento del objeto iterable pues itera"
   ]
  },
  {
   "cell_type": "code",
   "execution_count": 24,
   "id": "5dac97de-fd2b-49a5-8553-9e4b2fd04a95",
   "metadata": {},
   "outputs": [
    {
     "name": "stdout",
     "output_type": "stream",
     "text": [
      "2\n",
      "4\n",
      "6\n",
      "8\n",
      "10\n",
      "12\n",
      "14\n",
      "16\n",
      "18\n"
     ]
    }
   ],
   "source": [
    "listas = [2,4,6,8,10,12,14,16,18]\n",
    "\n",
    "for valor in listas:\n",
    "    print (valor)\n"
   ]
  },
  {
   "cell_type": "code",
   "execution_count": 25,
   "id": "9fdd77cc-978c-4d12-a1d1-abb02c4a3701",
   "metadata": {},
   "outputs": [
    {
     "name": "stdout",
     "output_type": "stream",
     "text": [
      "0\n",
      "1\n",
      "2\n",
      "3\n",
      "4\n",
      "5\n",
      "6\n",
      "7\n",
      "8\n",
      "9\n"
     ]
    }
   ],
   "source": [
    "for valor in range(10):\n",
    "    print(valor)"
   ]
  },
  {
   "cell_type": "code",
   "execution_count": 26,
   "id": "e437c7a2-f408-4f80-8dbd-8ba0711bccb0",
   "metadata": {},
   "outputs": [
    {
     "name": "stdout",
     "output_type": "stream",
     "text": [
      "c\n",
      "a\n",
      "d\n",
      "e\n",
      "n\n",
      "a\n"
     ]
    }
   ],
   "source": [
    "for letra in 'cadena':\n",
    "    print(letra)\n",
    "  "
   ]
  },
  {
   "cell_type": "code",
   "execution_count": 33,
   "id": "1868bf1b-b2db-47f2-bed6-144c6b8ecd78",
   "metadata": {},
   "outputs": [
    {
     "name": "stdout",
     "output_type": "stream",
     "text": [
      "key1\n",
      "key2\n",
      "key3\n",
      "key4\n"
     ]
    }
   ],
   "source": [
    "diccionario= {'key1':'val1', 'key2':'val2','key3':'val3','key4':'val4'}\n",
    "for llave in diccionario:\n",
    "    print(llave)"
   ]
  },
  {
   "cell_type": "code",
   "execution_count": 47,
   "id": "9e90a861-92c2-4488-b377-9298e2b4708a",
   "metadata": {},
   "outputs": [
    {
     "ename": "IndentationError",
     "evalue": "unindent does not match any outer indentation level (<tokenize>, line 7)",
     "output_type": "error",
     "traceback": [
      "\u001b[1;36m  File \u001b[1;32m<tokenize>:7\u001b[1;36m\u001b[0m\n\u001b[1;33m    promedio /= len (listas)\u001b[0m\n\u001b[1;37m    ^\u001b[0m\n\u001b[1;31mIndentationError\u001b[0m\u001b[1;31m:\u001b[0m unindent does not match any outer indentation level\n"
     ]
    }
   ],
   "source": [
    "listas = [ 2, 4, 5, 6, 7]\n",
    "\n",
    "promedio = 0\n",
    "for valor in listas:\n",
    "    longitud+=  valor\n",
    "    \n",
    " promedio /= len (listas)\n",
    "print('El promedio de los valores de la lista es', promedio)"
   ]
  },
  {
   "cell_type": "code",
   "execution_count": 66,
   "id": "3a115916-2796-4049-bffe-8ef8f77f5d8c",
   "metadata": {},
   "outputs": [
    {
     "name": "stdout",
     "output_type": "stream",
     "text": [
      "El cuadrado de 2 es 4\n",
      "(3 + 1) / 2 = 2.0\n",
      "El cuadrado de 4 es 16\n",
      "(5 + 1) / 2 = 3.0\n",
      "El cuadrado de 6 es 36\n",
      "(7 + 1) / 2 = 4.0\n",
      "El cuadrado de 8 es 64\n",
      "(9 + 1) / 2 = 5.0\n",
      "El cuadrado de 10 es 100\n"
     ]
    }
   ],
   "source": [
    "listas = [2, 3, 4, 5, 6, 7, 8, 9,10]\n",
    "for valor in listas:\n",
    "    if  valor % 2 == 0:    #condición para par\n",
    "     print (f'El cuadrado de {valor} es {valor**2}')\n",
    "    else:                # si es impar\n",
    "        resultado = (valor + 1) / 2\n",
    "        print(f\"({valor} + 1) / 2 = {resultado}\")\n",
    "\n",
    "  "
   ]
  },
  {
   "cell_type": "code",
   "execution_count": 65,
   "id": "9dd7add3-76f9-498f-9afd-42b5c9a73163",
   "metadata": {},
   "outputs": [
    {
     "name": "stdout",
     "output_type": "stream",
     "text": [
      "El cuadrado de 2 es 4\n",
      "(3 + 1) / 2 = 2.0\n",
      "El cuadrado de 4 es 16\n",
      "(5 + 1) / 2 = 3.0\n",
      "El cuadrado de 6 es 36\n",
      "(7 + 1) / 2 = 4.0\n",
      "El cuadrado de 8 es 64\n",
      "(9 + 1) / 2 = 5.0\n",
      "El cuadrado de 10 es 100\n"
     ]
    }
   ],
   "source": [
    "listas = [2, 3, 4, 5, 6, 7, 8, 9, 10]\n",
    "\n",
    "for valor in listas:\n",
    "    if valor % 2 == 0:   # si es par\n",
    "        print(f\"El cuadrado de {valor} es {valor**2}\")\n",
    "    else:                # si es impar\n",
    "        resultado = (valor + 1) / 2\n",
    "        print(f\"({valor} + 1) / 2 = {resultado}\")\n",
    "        "
   ]
  },
  {
   "cell_type": "markdown",
   "id": "d87b0cc3-9f32-48dc-bc0b-ef10e53e67d8",
   "metadata": {},
   "source": [
    "# Método enumerate (iterable, start = 0 )\n",
    "\n",
    "regresaá un objeto enumerate. "
   ]
  },
  {
   "cell_type": "code",
   "execution_count": 70,
   "id": "bd943cb8-26e8-4997-ae3b-a35c7ce628ef",
   "metadata": {},
   "outputs": [
    {
     "data": {
      "text/plain": [
       "['cadena', 'con', 'espacios']"
      ]
     },
     "execution_count": 70,
     "metadata": {},
     "output_type": "execute_result"
    }
   ],
   "source": [
    "\"cadena con espacios\" .split(sep=\" \") #metodo\n"
   ]
  },
  {
   "cell_type": "code",
   "execution_count": 77,
   "id": "c69d3e37-9e85-4da4-8fb0-44414452f6b7",
   "metadata": {},
   "outputs": [
    {
     "data": {
      "text/plain": [
       "[(0, 2), (1, 4), (2, 6), (3, 8), (4, 19)]"
      ]
     },
     "execution_count": 77,
     "metadata": {},
     "output_type": "execute_result"
    }
   ],
   "source": [
    "list(enumerate([2, 4, 6, 8, 19], start=0))"
   ]
  },
  {
   "cell_type": "code",
   "execution_count": 78,
   "id": "820f4651-fcab-42fd-b9d8-81758598cf0f",
   "metadata": {},
   "outputs": [
    {
     "data": {
      "text/plain": [
       "[(0, 'c'), (1, 'a'), (2, 'd'), (3, 'e'), (4, 'n'), (5, 'a')]"
      ]
     },
     "execution_count": 78,
     "metadata": {},
     "output_type": "execute_result"
    }
   ],
   "source": [
    "list(enumerate(\"cadena\"))"
   ]
  },
  {
   "cell_type": "code",
   "execution_count": null,
   "id": "f4b8e330-0189-4c9b-a9c1-a03639ae5a9a",
   "metadata": {},
   "outputs": [],
   "source": [
    "## Tarea: Built in functions\n",
    "\n",
    "Hacer un ejemplo de las siguientes:\n",
    "-all shift up\n",
    "-any\n",
    "-abs\n",
    "-input\n",
    "-max\n",
    "-min\n",
    "-pow\n",
    "-reversed\n",
    "-round\n",
    "-sorted\n",
    "-sum"
   ]
  },
  {
   "cell_type": "code",
   "execution_count": null,
   "id": "4eb165ac-bc1f-48e0-99b1-2feab1b1f92b",
   "metadata": {},
   "outputs": [],
   "source": []
  },
  {
   "cell_type": "code",
   "execution_count": null,
   "id": "0113c3c8-e15d-4fe4-8678-0670514912a1",
   "metadata": {},
   "outputs": [],
   "source": []
  }
 ],
 "metadata": {
  "kernelspec": {
   "display_name": "Python 3 (ipykernel)",
   "language": "python",
   "name": "python3"
  },
  "language_info": {
   "codemirror_mode": {
    "name": "ipython",
    "version": 3
   },
   "file_extension": ".py",
   "mimetype": "text/x-python",
   "name": "python",
   "nbconvert_exporter": "python",
   "pygments_lexer": "ipython3",
   "version": "3.10.4"
  }
 },
 "nbformat": 4,
 "nbformat_minor": 5
}
