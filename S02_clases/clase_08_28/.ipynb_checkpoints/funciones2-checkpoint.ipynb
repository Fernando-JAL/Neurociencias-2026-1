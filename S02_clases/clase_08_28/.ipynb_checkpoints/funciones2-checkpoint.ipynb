{
 "cells": [
  {
   "cell_type": "markdown",
   "id": "2ef8c6c4-cbe0-4c00-9e01-dda93aaaee1f",
   "metadata": {},
   "source": [
    "# EJERCICIOS \n",
    "\n",
    "1- crear una funcion que cuente las vocales de un string \n",
    "\n",
    "2- crear una función que determine si un número es par o impar e imprima si es impar  o par \n",
    "\n",
    "3- crear una función para convertir de grados celsius a grados farenheit, dicha función recibirá la temperatura en grados celsius y deberá regresar a grados farenheit\n",
    "\n",
    "4- crear una función que recia un entero y devuelva la suma de sus digitos \n",
    "\n",
    "5- crear una función que cuente las palabras de un string y devuelva dicho número \n",
    "\n",
    "6- crear una función que reciba una lista con al menos 3 enteros y regrese el mínimo de todos los números de la lista\n",
    "\n",
    "7- crear una función que reciba dos string (frase,letra) y cuente cuántas veces aparece la letra en la frase y regrese ese número\n",
    "\n",
    "8- crear una función que reciba un string y cambie todas las minusculas a mayusculas y las mayusculas a minusculas \n",
    "\n",
    "9-  crear una función que reciba un string y elimine todos los espacios y regrese el string sin espacios"
   ]
  },
  {
   "cell_type": "code",
   "execution_count": 34,
   "id": "e2fc1b1e-4626-4726-af44-a86f7b587aac",
   "metadata": {},
   "outputs": [],
   "source": [
    "#1\n",
    "def contar_vocales(texto):\n",
    "    vocales = 'aeiouAEIOU'\n",
    "    return sum(1 for letra in texto if letra in vocales)\n",
    "\n",
    "def contar_vocales2(cadena):\n",
    "    total = 0\n",
    "    vocales = ['a','e','i','o','u']\n",
    "    for letra in cadena :\n",
    "        if letra in vocales: \n",
    "            total+= 1\n",
    "    return total\n"
   ]
  },
  {
   "cell_type": "code",
   "execution_count": 35,
   "id": "fc2e1683-92f7-4dcf-955d-12c0345d1384",
   "metadata": {},
   "outputs": [
    {
     "data": {
      "text/plain": [
       "12"
      ]
     },
     "execution_count": 35,
     "metadata": {},
     "output_type": "execute_result"
    }
   ],
   "source": [
    "contar_vocales(\"buenas tardes mi nombre es sophia\") "
   ]
  },
  {
   "cell_type": "code",
   "execution_count": 36,
   "id": "cc2c503d-cd53-4c5e-9526-761456b85b73",
   "metadata": {},
   "outputs": [],
   "source": [
    "#2\n",
    "def par_o_impar(numero):\n",
    "    if numero % 2 == 0:\n",
    "        print(\"Es par\")\n",
    "    else:\n",
    "        print(\"Es impar\")"
   ]
  },
  {
   "cell_type": "code",
   "execution_count": 37,
   "id": "d851b599-938e-4338-9634-971a569020bf",
   "metadata": {},
   "outputs": [
    {
     "name": "stdout",
     "output_type": "stream",
     "text": [
      "Es par\n"
     ]
    }
   ],
   "source": [
    "par_o_impar(8)"
   ]
  },
  {
   "cell_type": "code",
   "execution_count": 38,
   "id": "c72c48f7-6ecf-454c-83e4-458406fd0941",
   "metadata": {},
   "outputs": [],
   "source": [
    "#3\n",
    "def celsius_a_fahrenheit(celsius):\n",
    "    return (celsius * 9/5) + 32"
   ]
  },
  {
   "cell_type": "code",
   "execution_count": 39,
   "id": "f5f585a9-5f30-4a73-8f6b-0194ce522718",
   "metadata": {},
   "outputs": [
    {
     "data": {
      "text/plain": [
       "77.0"
      ]
     },
     "execution_count": 39,
     "metadata": {},
     "output_type": "execute_result"
    }
   ],
   "source": [
    "celsius_a_fahrenheit(25)"
   ]
  },
  {
   "cell_type": "code",
   "execution_count": 40,
   "id": "31e7f558-6c85-4576-89be-a58a951e09ba",
   "metadata": {},
   "outputs": [],
   "source": [
    "#4\n",
    "def suma_digitos(numero):\n",
    "    return sum(int(d) for d in str(abs(numero)))"
   ]
  },
  {
   "cell_type": "code",
   "execution_count": 41,
   "id": "ec12fecf-70d7-4cab-a15e-7b4f21811e2a",
   "metadata": {},
   "outputs": [
    {
     "data": {
      "text/plain": [
       "26"
      ]
     },
     "execution_count": 41,
     "metadata": {},
     "output_type": "execute_result"
    }
   ],
   "source": [
    "suma_digitos(5678) "
   ]
  },
  {
   "cell_type": "code",
   "execution_count": 42,
   "id": "618fc93c-4411-4573-8cfc-c9f5736035f3",
   "metadata": {},
   "outputs": [],
   "source": [
    "#5\n",
    "def contar_palabras(texto):\n",
    "    return len(texto.split())"
   ]
  },
  {
   "cell_type": "code",
   "execution_count": 43,
   "id": "b034298e-466e-4471-a418-b66863b5d72b",
   "metadata": {},
   "outputs": [
    {
     "name": "stdout",
     "output_type": "stream",
     "text": [
      "6\n"
     ]
    }
   ],
   "source": [
    "frase = \"las neuronas son la unidad fundamental\"\n",
    "print(contar_palabras(frase)) "
   ]
  },
  {
   "cell_type": "code",
   "execution_count": 44,
   "id": "1a722064-0107-49e0-8716-5f6135aadab8",
   "metadata": {},
   "outputs": [],
   "source": [
    "#6\n",
    "def minimo_lista(lista):\n",
    "    if len(lista) < 3:\n",
    "        return \"La lista debe tener al menos 3 elementos\"\n",
    "    return min(lista)"
   ]
  },
  {
   "cell_type": "code",
   "execution_count": 45,
   "id": "7d92fcbe-74d0-4ed0-8c57-5c2c5a1d61db",
   "metadata": {},
   "outputs": [
    {
     "name": "stdout",
     "output_type": "stream",
     "text": [
      "2\n"
     ]
    }
   ],
   "source": [
    "numeros = [8, 3, 15, 2]\n",
    "print(minimo_lista(numeros))"
   ]
  },
  {
   "cell_type": "code",
   "execution_count": 46,
   "id": "5a499c6b-1030-4187-9af2-fe7da4128f9d",
   "metadata": {},
   "outputs": [],
   "source": [
    "#7\n",
    "def contar_letra(frase, letra):\n",
    "    return frase.count(letra)"
   ]
  },
  {
   "cell_type": "code",
   "execution_count": 47,
   "id": "0775bf9d-d6b6-454a-b383-5376de5c41ea",
   "metadata": {},
   "outputs": [
    {
     "name": "stdout",
     "output_type": "stream",
     "text": [
      "2\n"
     ]
    }
   ],
   "source": [
    "frase = \"¿ Como estas ?\"\n",
    "letra = \"o\"\n",
    "print(contar_letra(frase, letra))"
   ]
  },
  {
   "cell_type": "code",
   "execution_count": 48,
   "id": "6296aa4b-03f0-45b4-bfa0-f11336f9f7f9",
   "metadata": {},
   "outputs": [],
   "source": [
    "#8\n",
    "def intercambiar_mayusculas_minusculas(texto):\n",
    "    return texto.swapcase()"
   ]
  },
  {
   "cell_type": "code",
   "execution_count": 49,
   "id": "1df4c203-647d-4d58-9648-34329d95570a",
   "metadata": {},
   "outputs": [
    {
     "name": "stdout",
     "output_type": "stream",
     "text": [
      "aEStHEtic\n"
     ]
    }
   ],
   "source": [
    "frase = \"AesTheTIC\"\n",
    "print(intercambiar_mayusculas_minusculas(frase))  # Resultado: hOLA mundo"
   ]
  },
  {
   "cell_type": "code",
   "execution_count": 52,
   "id": "f5b4150c-c1bf-405f-9bc8-11dfcec26535",
   "metadata": {},
   "outputs": [],
   "source": [
    "#9 \n",
    "def eliminar_espacios(texto):\n",
    "    return texto.replace(\" \", \"\")"
   ]
  },
  {
   "cell_type": "code",
   "execution_count": 53,
   "id": "d70e72e7-1e5f-4791-b85a-d0650615d410",
   "metadata": {},
   "outputs": [
    {
     "name": "stdout",
     "output_type": "stream",
     "text": [
      "boladetonotos\n"
     ]
    }
   ],
   "source": [
    "frase = \"bola de tonotos\"\n",
    "print(eliminar_espacios(frase)) "
   ]
  },
  {
   "cell_type": "code",
   "execution_count": null,
   "id": "40952a65-a3e9-4ff4-976d-677df257241c",
   "metadata": {},
   "outputs": [],
   "source": [
    "\n"
   ]
  },
  {
   "cell_type": "code",
   "execution_count": null,
   "id": "2b00f1fd-46b8-4184-a1e6-6473a8f08350",
   "metadata": {},
   "outputs": [],
   "source": []
  }
 ],
 "metadata": {
  "kernelspec": {
   "display_name": "Python 3 (ipykernel)",
   "language": "python",
   "name": "python3"
  },
  "language_info": {
   "codemirror_mode": {
    "name": "ipython",
    "version": 3
   },
   "file_extension": ".py",
   "mimetype": "text/x-python",
   "name": "python",
   "nbconvert_exporter": "python",
   "pygments_lexer": "ipython3",
   "version": "3.10.4"
  }
 },
 "nbformat": 4,
 "nbformat_minor": 5
}
