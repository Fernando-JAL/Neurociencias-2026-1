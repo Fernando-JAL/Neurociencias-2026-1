{
 "cells": [
  {
   "cell_type": "markdown",
   "id": "a8965717-0e84-47e8-8929-70fd5190aa7a",
   "metadata": {},
   "source": [
    "# Ejercicios\n",
    "\n",
    "1. Crear una función que cuente las vocales de un string y regrese dicho número\n",
    "2. Crear una función que determine si un número es par o impar e imprima si es par o impar\n",
    "3. Crear una función para convertir en grados celcius a grados farenheit, dicha función recibirá la temperatura en grados celcius y deberá regresar el valor en grados Farenheit\n",
    "4. Crear una función que reciba un entero y devuelva la suma de sus dígitos"
   ]
  },
  {
   "cell_type": "code",
   "execution_count": 45,
   "id": "0f2c4f30-13f6-4275-823f-718987a9ed57",
   "metadata": {},
   "outputs": [],
   "source": [
    "### 1\n",
    "def numero_de_vocales(string):\n",
    "    vowels= ['a' 'e' 'i' 'o' 'u' 'A' 'E' 'I' 'O' 'U']\n",
    "    return sum(1 for letra in string if letra in vowels)"
   ]
  },
  {
   "cell_type": "code",
   "execution_count": 46,
   "id": "d6838c71-a00e-4560-bd75-a9bfa136a9d1",
   "metadata": {},
   "outputs": [
    {
     "data": {
      "text/plain": [
       "3"
      ]
     },
     "execution_count": 46,
     "metadata": {},
     "output_type": "execute_result"
    }
   ],
   "source": [
    "numero_de_vocales('adios')"
   ]
  },
  {
   "cell_type": "code",
   "execution_count": 17,
   "id": "bd3f4170-3562-403a-a042-c951b0584f16",
   "metadata": {},
   "outputs": [],
   "source": [
    "### 2\n",
    "def par_impar(numero):\n",
    "    if (numero) % 2 == 0:\n",
    "        print('par')\n",
    "    else:\n",
    "        print('impar')"
   ]
  },
  {
   "cell_type": "code",
   "execution_count": 20,
   "id": "9bf5e23e-40d5-4e8b-bf80-5f0d74fe38a7",
   "metadata": {},
   "outputs": [
    {
     "name": "stdout",
     "output_type": "stream",
     "text": [
      "impar\n"
     ]
    }
   ],
   "source": [
    "par_impar(15)"
   ]
  },
  {
   "cell_type": "code",
   "execution_count": 30,
   "id": "68263fe4-23c1-4777-b627-00ca2824a1f2",
   "metadata": {},
   "outputs": [],
   "source": [
    "### 3\n",
    "def c_a_f(celcius):\n",
    "    resultado= celcius*(9/5)+32\n",
    "    print(resultado,'°Farenheit')"
   ]
  },
  {
   "cell_type": "code",
   "execution_count": 31,
   "id": "342d914c-2cb4-4e58-b747-c178f9a26618",
   "metadata": {},
   "outputs": [
    {
     "name": "stdout",
     "output_type": "stream",
     "text": [
      "50.0 °Farenheit\n"
     ]
    }
   ],
   "source": [
    "c_a_f(10)"
   ]
  },
  {
   "cell_type": "code",
   "execution_count": 4,
   "id": "75ce15a5-f5aa-4b6d-82d6-d81c87e9dbb2",
   "metadata": {},
   "outputs": [],
   "source": [
    "### 4\n",
    "def suma_dig(entero):\n",
    "    string= str(entero)\n",
    "    total = 0\n",
    "\n",
    "    for digito in string:\n",
    "        total += int(digito)\n",
    "\n",
    "    return total"
   ]
  },
  {
   "cell_type": "code",
   "execution_count": 5,
   "id": "66f5471f-f4eb-4032-914e-d70d869e95ba",
   "metadata": {},
   "outputs": [
    {
     "data": {
      "text/plain": [
       "5"
      ]
     },
     "execution_count": 5,
     "metadata": {},
     "output_type": "execute_result"
    }
   ],
   "source": [
    "suma_dig(1112)"
   ]
  },
  {
   "cell_type": "code",
   "execution_count": 95,
   "id": "20414ebc-974f-45b3-9473-a34af95b7c40",
   "metadata": {},
   "outputs": [],
   "source": [
    "# 5. Crear una función que cuente las palabras de un string y devuelva dicho numero\n",
    "def no_palabras(string):\n",
    "    for palabras in string:\n",
    "        return sum(1 for palabra in string)"
   ]
  },
  {
   "cell_type": "code",
   "execution_count": 94,
   "id": "5cb311c5-9ac8-4d8e-925b-57742a7d4af5",
   "metadata": {},
   "outputs": [
    {
     "data": {
      "text/plain": [
       "15"
      ]
     },
     "execution_count": 94,
     "metadata": {},
     "output_type": "execute_result"
    }
   ],
   "source": [
    "no_palabras('hola como estas')"
   ]
  },
  {
   "cell_type": "code",
   "execution_count": 96,
   "id": "f8f0a456-2c35-4abe-b014-c620a6b50405",
   "metadata": {},
   "outputs": [],
   "source": [
    "# 6. Crear una función que reciba una lista con al menos 3 enteros y regrese el mínimo de todos los números de la lista\n",
    "def minimo(numero1,numero2,numero3):\n",
    "    return min(numero1,numero2,numero3)"
   ]
  },
  {
   "cell_type": "code",
   "execution_count": 97,
   "id": "181be2f4-7703-4b0a-9ed0-79e77d49b954",
   "metadata": {},
   "outputs": [
    {
     "data": {
      "text/plain": [
       "3"
      ]
     },
     "execution_count": 97,
     "metadata": {},
     "output_type": "execute_result"
    }
   ],
   "source": [
    "minimo(8,3,6)"
   ]
  },
  {
   "cell_type": "code",
   "execution_count": 30,
   "id": "b9fbdda2-8d6b-4a8e-b4ea-20522af18d6a",
   "metadata": {},
   "outputs": [],
   "source": [
    "# 7. Crear una función que reciba dos string (frase, letra) y cuente cuántas veces aparece la letra en la frase y regrese ese número\n",
    "def how_many(string,letra):\n",
    "    letra= (letra)\n",
    "    lista = list(string)\n",
    "    total = 0\n",
    "    for letra in string:\n",
    "        total+= 1\n",
    "        return total\n",
    "    else:\n",
    "        print('no se encuentra esa vocal')\n"
   ]
  },
  {
   "cell_type": "code",
   "execution_count": 31,
   "id": "29c1af3e-3422-4ecd-bf78-15cfd9a17c32",
   "metadata": {},
   "outputs": [
    {
     "data": {
      "text/plain": [
       "1"
      ]
     },
     "execution_count": 31,
     "metadata": {},
     "output_type": "execute_result"
    }
   ],
   "source": [
    "how_many('baloon','i')"
   ]
  },
  {
   "cell_type": "code",
   "execution_count": 45,
   "id": "1e7adaca-3d9a-433b-a5ef-bec50f3fe952",
   "metadata": {},
   "outputs": [],
   "source": [
    "# 8. Crear una función que reciba un string y cambie todas las minusculas a mayusculas y las mayusculas a minusculas\n",
    "def mayus(string):\n",
    "    minusculas= {'a':'A', 'b':'B', 'c':'C', 'd':'D', 'e':'E', 'f':'F', 'g':'G', 'h':'H','i':'I','j':'J','k':'K','l':'L','m':'M','n':'N','ñ':'Ñ','o':'O','p':'P','q':'Q','r':'R','s':'S','t':'T','u':'U','v':'V','x':'X','y':'Y','z':'Z'}\n",
    "    mayuscula= ''\n",
    "    for minuscula in string:\n",
    "        if minuscula in minusculas:\n",
    "            mayuscula+= minusculas[minuscula]\n",
    "            return mayuscula\n",
    "        \n",
    "    "
   ]
  },
  {
   "cell_type": "code",
   "execution_count": 46,
   "id": "824dc20b-debd-45fc-a64c-385d6cf8100a",
   "metadata": {},
   "outputs": [
    {
     "data": {
      "text/plain": [
       "'N'"
      ]
     },
     "execution_count": 46,
     "metadata": {},
     "output_type": "execute_result"
    }
   ],
   "source": [
    "mayus('no estoy gritando')"
   ]
  },
  {
   "cell_type": "code",
   "execution_count": 1,
   "id": "2c461cdd-dd51-4b9e-b1b4-5c75d6f4d125",
   "metadata": {},
   "outputs": [],
   "source": [
    "# 9. Crear una función que reciba un string y elimine todos los espacios y regrese el string sin espacios"
   ]
  },
  {
   "cell_type": "code",
   "execution_count": 47,
   "id": "ef05df86-0b72-411c-83e1-d30c8304edae",
   "metadata": {},
   "outputs": [],
   "source": [
    "def no_space(string):\n",
    "    espacio= (' ')\n",
    "    if espacio in string:\n",
    "        espacio= ('')\n",
    "        "
   ]
  },
  {
   "cell_type": "code",
   "execution_count": 48,
   "id": "5c3049f8-2245-492a-8562-c045bac7e9de",
   "metadata": {},
   "outputs": [],
   "source": [
    "no_space('hola y adios')"
   ]
  },
  {
   "cell_type": "code",
   "execution_count": null,
   "id": "8dcfb170-d083-44ee-b2b1-61094da38a8c",
   "metadata": {},
   "outputs": [],
   "source": []
  }
 ],
 "metadata": {
  "kernelspec": {
   "display_name": "Python 3 (ipykernel)",
   "language": "python",
   "name": "python3"
  },
  "language_info": {
   "codemirror_mode": {
    "name": "ipython",
    "version": 3
   },
   "file_extension": ".py",
   "mimetype": "text/x-python",
   "name": "python",
   "nbconvert_exporter": "python",
   "pygments_lexer": "ipython3",
   "version": "3.10.4"
  }
 },
 "nbformat": 4,
 "nbformat_minor": 5
}
