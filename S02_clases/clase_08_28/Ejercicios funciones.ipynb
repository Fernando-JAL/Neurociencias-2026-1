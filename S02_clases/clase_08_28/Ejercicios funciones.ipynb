{
 "cells": [
  {
   "cell_type": "markdown",
   "id": "03ea74bc-1ae3-4604-bd3d-047c04fd3dcb",
   "metadata": {},
   "source": [
    "1 .- Crear una función que cuente las vocales de un string y regrese dicho número\n",
    "2.- Crear una función que determine si un número es par o impar e imprima si es par o impar\n",
    "3.- Crear una función para convertir de grados Celsisus a Farenheit, recibe en Celsis y regresa los Fareneheit\n",
    "4.- Crear una función que revib un entero y devuelva la suma de sus dígitos"
   ]
  },
  {
   "cell_type": "markdown",
   "id": "5ebb3fb7-500e-482f-8345-c265a8fecdb7",
   "metadata": {},
   "source": [
    "# 1.- Vocales"
   ]
  },
  {
   "cell_type": "code",
   "execution_count": 43,
   "id": "869d4121-ba51-4ff4-9c06-2b4aa34f4679",
   "metadata": {},
   "outputs": [
    {
     "data": {
      "text/plain": [
       "2"
      ]
     },
     "execution_count": 43,
     "metadata": {},
     "output_type": "execute_result"
    }
   ],
   "source": [
    "def vocalesc(palabra):\n",
    "    total = 0\n",
    "    vocales = ['a', 'e', 'i', 'o', 'u']\n",
    "    for letra in palabra:\n",
    "        if letra in vocales:\n",
    "            total += 1\n",
    "    return total\n",
    "\n",
    "vocalesc('yuli')"
   ]
  },
  {
   "cell_type": "markdown",
   "id": "7cfca8e6-bc07-40ce-b8a6-ad7a576f2116",
   "metadata": {},
   "source": [
    "# 2.- Par o impar"
   ]
  },
  {
   "cell_type": "code",
   "execution_count": 4,
   "id": "f2def25f-106a-4f5c-8436-4bc62480dab9",
   "metadata": {},
   "outputs": [
    {
     "name": "stdout",
     "output_type": "stream",
     "text": [
      "El numero 34 es par\n"
     ]
    }
   ],
   "source": [
    "def paroimpar(numero):\n",
    "    if numero % 2 == 0:\n",
    "        print('El numero', numero, 'es par')\n",
    "    else:\n",
    "        print('El numero', numero, 'es par')\n",
    "\n",
    "paroimpar(34)"
   ]
  },
  {
   "cell_type": "markdown",
   "id": "b9bcf2d2-708a-4861-911a-31bc133420a3",
   "metadata": {},
   "source": [
    "# 3.- Celsisus a Farenheit"
   ]
  },
  {
   "cell_type": "code",
   "execution_count": 6,
   "id": "ad458044-7cbd-49c7-9282-faa3de08de45",
   "metadata": {},
   "outputs": [
    {
     "data": {
      "text/plain": [
       "98.24"
      ]
     },
     "execution_count": 6,
     "metadata": {},
     "output_type": "execute_result"
    }
   ],
   "source": [
    "def convertCaF(tempCelsius):\n",
    "    tempFar = (tempCelsius*(9/5)) + 32\n",
    "    return tempFar\n",
    "\n",
    "convertCaF(36.8)"
   ]
  },
  {
   "cell_type": "markdown",
   "id": "009b4fa8-21c1-43c6-b2fa-829196baac67",
   "metadata": {},
   "source": [
    "# 4.- Entero y suma de sus dígitos"
   ]
  },
  {
   "cell_type": "code",
   "execution_count": 33,
   "id": "65f25013-2493-42ed-a7aa-76b9657a5920",
   "metadata": {},
   "outputs": [
    {
     "data": {
      "text/plain": [
       "4"
      ]
     },
     "execution_count": 33,
     "metadata": {},
     "output_type": "execute_result"
    }
   ],
   "source": [
    "def intandsum(entero):\n",
    "    entero_str = str(entero)\n",
    "    suma = 0\n",
    "    for digito in entero_str:\n",
    "        suma += int(digito)\n",
    "    return suma\n",
    "    \n",
    "intandsum(13)"
   ]
  },
  {
   "cell_type": "markdown",
   "id": "3334e888-87b3-419d-b347-b564b5c7e0d4",
   "metadata": {},
   "source": [
    "# Contar palabras\n",
    "\n",
    "Contar palabras de un string y devolver número"
   ]
  },
  {
   "cell_type": "code",
   "execution_count": 47,
   "id": "91132e15-8d8a-4e25-b742-3ed2bd5faa7f",
   "metadata": {},
   "outputs": [
    {
     "name": "stdout",
     "output_type": "stream",
     "text": [
      "El número de palabras es: 3\n"
     ]
    }
   ],
   "source": [
    "#\"a b c d\".split(sep=\" \")\n",
    "\n",
    "def contpalabras(palabra1):\n",
    "    total = 0\n",
    "    palabra1 = str(palabra1)\n",
    "    palabras = palabra1.split(sep=' ')\n",
    "    print('El número de palabras es:',len(palabras))\n",
    "\n",
    "contpalabras('vivir es increible')"
   ]
  },
  {
   "cell_type": "markdown",
   "id": "8c00d279-5cdf-48ee-ac25-3cc49cc07135",
   "metadata": {},
   "source": [
    "# Mínimo\n",
    "Recibe una lista con al menos 3 enteros y regresa el minimo de todos"
   ]
  },
  {
   "cell_type": "code",
   "execution_count": 51,
   "id": "70e11f1a-b0e2-491b-8495-0600a62e1ff4",
   "metadata": {},
   "outputs": [
    {
     "name": "stdout",
     "output_type": "stream",
     "text": [
      "El elemento más pequeño es: 2\n"
     ]
    }
   ],
   "source": [
    "def minimo(lista):\n",
    "    print('El elemento más pequeño es:',min(lista))\n",
    "    \n",
    "\n",
    "minimo([3,6,7,9,2,10,56,32])"
   ]
  },
  {
   "cell_type": "markdown",
   "id": "65789861-84e6-458c-853d-209b92c93799",
   "metadata": {},
   "source": [
    "# Letra en palabra\n",
    "\n",
    "Recibe dos strings (frase, letra) y contar cuantas veces aparece la letra en la frase y regresar el numero"
   ]
  },
  {
   "cell_type": "code",
   "execution_count": 60,
   "id": "8297ca53-d2d6-4fcd-aef5-523e625b7629",
   "metadata": {},
   "outputs": [
    {
     "ename": "IndentationError",
     "evalue": "expected an indented block after 'for' statement on line 3 (1238936164.py, line 7)",
     "output_type": "error",
     "traceback": [
      "\u001b[1;36m  Cell \u001b[1;32mIn[60], line 7\u001b[1;36m\u001b[0m\n\u001b[1;33m    letra_en_palabra('esdrujula','e')\u001b[0m\n\u001b[1;37m                                     ^\u001b[0m\n\u001b[1;31mIndentationError\u001b[0m\u001b[1;31m:\u001b[0m expected an indented block after 'for' statement on line 3\n"
     ]
    }
   ],
   "source": [
    "def letra_en_palabra(frase,letra):\n",
    "    total = 0\n",
    "    for palabras in frase:\n",
    "        \n",
    "\n",
    "\n",
    "letra_en_palabra('esdrujula','e')"
   ]
  },
  {
   "cell_type": "markdown",
   "id": "733e4406-2995-4113-93f8-3e061feb2da7",
   "metadata": {},
   "source": [
    "# Minusculas a Mayusculas\n",
    "\n",
    "Recibe un string y cambie todas las minusculas a mayusculas y las mayusculas a minusculas"
   ]
  },
  {
   "cell_type": "code",
   "execution_count": 38,
   "id": "d5ca1737-36a1-4693-b49a-2aee550977a8",
   "metadata": {},
   "outputs": [
    {
     "data": {
      "text/plain": [
       "('CADENA', 'alfabeto', 'Mientras', True, True)"
      ]
     },
     "execution_count": 38,
     "metadata": {},
     "output_type": "execute_result"
    }
   ],
   "source": [
    "\"cadena\".upper(), \"ALFABETO\".lower(), \"mientras\".capitalize(), \"a\".islower(), \"A\".isupper()"
   ]
  },
  {
   "cell_type": "markdown",
   "id": "1aaf4739-556e-4473-bfbb-5cc05badb007",
   "metadata": {},
   "source": [
    "# Eliminar espacios\n",
    "\n",
    "La funcion recibe un string y elimina todos los espacios y regrese el strin sin espacios"
   ]
  },
  {
   "cell_type": "code",
   "execution_count": null,
   "id": "5fdff591-5d88-4175-82ae-528c70e10989",
   "metadata": {},
   "outputs": [],
   "source": []
  }
 ],
 "metadata": {
  "kernelspec": {
   "display_name": "Python 3 (ipykernel)",
   "language": "python",
   "name": "python3"
  },
  "language_info": {
   "codemirror_mode": {
    "name": "ipython",
    "version": 3
   },
   "file_extension": ".py",
   "mimetype": "text/x-python",
   "name": "python",
   "nbconvert_exporter": "python",
   "pygments_lexer": "ipython3",
   "version": "3.10.4"
  }
 },
 "nbformat": 4,
 "nbformat_minor": 5
}
