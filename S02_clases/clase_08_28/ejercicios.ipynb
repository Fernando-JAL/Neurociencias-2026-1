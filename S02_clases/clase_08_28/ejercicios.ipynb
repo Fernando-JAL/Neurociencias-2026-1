{
 "cells": [
  {
   "cell_type": "markdown",
   "id": "b4481af1-c151-4b2d-ad08-05e95a8cfbea",
   "metadata": {},
   "source": [
    "# Ejercicios\n",
    "\n",
    "1. Crear una función que cuente las vocales de un string y regrese dicho número\n",
    "2. Crear una función que determine si un número es par o impar e imprima si es par o impar\n",
    "3. Crear una función para convertir de grados celcius a grados fahrenheit, dicha función recibirá la temperatura en grados celcius y deberá regresa los grados fahrenheit\n",
    "4. Crear una función que reciba un entero y devuelva la suma de sus dígitos\n",
    "\n",
    "5. Crear una función que cuente las palabras de un string y devuelva dicho número\n",
    "6. Crear una función que reciba una lista con al menos 3 enteros y regrese el mínimo de todos los números de la lista\n",
    "7. Crear una función que reciba dos string (frase, letra) y cuente cuántas veces aparece la letra en la frase y regrese ese número\n",
    "8. Crear una función que reciba un string y cambie todas las minusculas a mayúsculas y las mayúsculas a minusculas\n",
    "9. Crear una función que reciba un string y elimine todos los espacios y regrese el string sin espacios"
   ]
  },
  {
   "cell_type": "code",
   "execution_count": 13,
   "id": "5c18efa1-1dcd-4199-bd73-eec310bbb2dc",
   "metadata": {},
   "outputs": [
    {
     "data": {
      "text/plain": [
       "('CADENA', 'alfabeto', 'Mientras', True, True)"
      ]
     },
     "execution_count": 13,
     "metadata": {},
     "output_type": "execute_result"
    }
   ],
   "source": [
    "\"cadena\".upper(), \"ALFABETO\".lower(), \"mientras\".capitalize(), \"a\".islower(), \"A\".isupper()"
   ]
  },
  {
   "cell_type": "code",
   "execution_count": 15,
   "id": "8b8a98aa-b8ae-4d01-9d91-18dbd02338be",
   "metadata": {},
   "outputs": [
    {
     "data": {
      "text/plain": [
       "(['a', 'b', 'c', 'd'], 'a-b-c')"
      ]
     },
     "execution_count": 15,
     "metadata": {},
     "output_type": "execute_result"
    }
   ],
   "source": [
    "\"a b c d\".split(sep = \" \"), \"-\".join(['a', 'b', 'c'])"
   ]
  },
  {
   "cell_type": "code",
   "execution_count": 1,
   "id": "809f8122-90fc-4096-b33b-e086d97661f6",
   "metadata": {},
   "outputs": [
    {
     "data": {
      "text/plain": [
       "5"
      ]
     },
     "execution_count": 1,
     "metadata": {},
     "output_type": "execute_result"
    }
   ],
   "source": [
    "def contar_vocales(cadena):\n",
    "    vocales = 'aeiouAEIOU'\n",
    "    return sum(1 for letra in cadena if letra in vocales)\n",
    "\n",
    "def contar_vocales2(cadena):\n",
    "    total = 0\n",
    "    vocales = ['a', 'e', 'i', 'o', 'u']\n",
    "    for letra in cadena:\n",
    "        if letra in vocales:\n",
    "            total += 1\n",
    "    return total"
   ]
  },
  {
   "cell_type": "code",
   "execution_count": 6,
   "id": "075e9c3f-6d5d-4e5b-aade-d60fd9d5cfd8",
   "metadata": {},
   "outputs": [
    {
     "name": "stdin",
     "output_type": "stream",
     "text": [
      "Dame el valor en grados Celcius 55\n"
     ]
    },
    {
     "name": "stdout",
     "output_type": "stream",
     "text": [
      "<class 'str'> 55\n"
     ]
    },
    {
     "data": {
      "text/plain": [
       "131.0"
      ]
     },
     "execution_count": 6,
     "metadata": {},
     "output_type": "execute_result"
    }
   ],
   "source": [
    "def conv_Celsius_a_Fahrenheit():\n",
    "    Celsius = float(input('Dame el valor en grados Celcius'))\n",
    "    print(type(Celsius), Celsius)\n",
    "    Fahrenheit = Celsius*(9/5) + 32\n",
    "    return Fahrenheit\n",
    "\n",
    "conv_Celsius_a_Fahrenheit()"
   ]
  },
  {
   "cell_type": "code",
   "execution_count": 8,
   "id": "8f257466-8c75-4778-9fe4-1148a8d90760",
   "metadata": {},
   "outputs": [
    {
     "data": {
      "text/plain": [
       "6"
      ]
     },
     "execution_count": 8,
     "metadata": {},
     "output_type": "execute_result"
    }
   ],
   "source": [
    "def sumar_digitos(n):\n",
    "    str_n = str(n)\n",
    "    total = 0\n",
    "    for digito in str_n:\n",
    "        total += int(digito) # total = total + int(digito)\n",
    "\n",
    "    return total\n",
    "sumar_digitos(123)"
   ]
  },
  {
   "cell_type": "code",
   "execution_count": 5,
   "id": "d96e028a-2786-483a-92dc-cdff3f16b927",
   "metadata": {},
   "outputs": [
    {
     "data": {
      "text/plain": [
       "1"
      ]
     },
     "execution_count": 5,
     "metadata": {},
     "output_type": "execute_result"
    }
   ],
   "source": [
    "# 5. Crear una función que cuente las palabras de un string y devuelva dicho número\n",
    "\n",
    "def contador_palabras(string):\n",
    "    return len(string.split())\n",
    "\n",
    "contador_palabras(\" dos \")"
   ]
  },
  {
   "cell_type": "code",
   "execution_count": 10,
   "id": "f4a3dd84-5475-4949-8272-9dc3e8fb9dae",
   "metadata": {},
   "outputs": [
    {
     "data": {
      "text/plain": [
       "-5"
      ]
     },
     "execution_count": 10,
     "metadata": {},
     "output_type": "execute_result"
    }
   ],
   "source": [
    "# 6. Crear una función que reciba una lista con al menos 3 enteros y regrese el mínimo de todos los números de la lista\n",
    "\n",
    "def suma_de_n(lista):\n",
    "    return min(lista)\n",
    "def min_de_list(lista):\n",
    "    lista = list(lista)\n",
    "    len_de_list = len(lista)\n",
    "    if len(lista) < 3:\n",
    "        print(\"la lista no tiene el largo requerido\")\n",
    "    elif len(lista) >= 3:\n",
    "        out = min(lista)\n",
    "    return out\n",
    "\n",
    "min_de_list({3, 6, 9, -5})"
   ]
  },
  {
   "cell_type": "code",
   "execution_count": 7,
   "id": "5d5511ae-ba42-4e28-a66f-337651201036",
   "metadata": {},
   "outputs": [
    {
     "data": {
      "text/plain": [
       "4"
      ]
     },
     "execution_count": 7,
     "metadata": {},
     "output_type": "execute_result"
    }
   ],
   "source": [
    "\n",
    "# 7. Crear una función que reciba dos string (frase, letra) y cuente cuántas veces aparece la letra en la frase y regrese ese número\n",
    "def entrada_frase(frase, letra):\n",
    "    conteo = 0\n",
    "    for l in frase:\n",
    "        if l in letra:\n",
    "            conteo += 1\n",
    "\n",
    "    return conteo\n",
    "    \n",
    "entrada_frase('papalata', 'a')"
   ]
  },
  {
   "cell_type": "code",
   "execution_count": 11,
   "id": "026e0dc1-9c81-4b6e-b0a6-c77dfbbde53c",
   "metadata": {},
   "outputs": [
    {
     "data": {
      "text/plain": [
       "'fRgEwwWqREFt'"
      ]
     },
     "execution_count": 11,
     "metadata": {},
     "output_type": "execute_result"
    }
   ],
   "source": [
    "# 8. Crear una función que reciba un string y cambie todas las minusculas a mayúsculas y las mayúsculas a minusculas\n",
    "def inversas(palabras):\n",
    "    resultado = \"\"\n",
    "    for letra in palabras:\n",
    "        if letra == letra.upper():\n",
    "            resultado += letra.lower()\n",
    "        else:\n",
    "            resultado += letra.upper()\n",
    "    return resultado\n",
    "\n",
    "inversas(\"FrGeWWwQrefT\")"
   ]
  },
  {
   "cell_type": "code",
   "execution_count": 16,
   "id": "1b373af0-1ed9-40ab-ad4a-6d610d942ca9",
   "metadata": {},
   "outputs": [
    {
     "data": {
      "text/plain": [
       "'eraseunavezalgunosespacioquedeambulaban'"
      ]
     },
     "execution_count": 16,
     "metadata": {},
     "output_type": "execute_result"
    }
   ],
   "source": [
    "# 9. Crear una función que reciba un string y elimine todos los espacios y regrese el string sin espacios\n",
    "def no_space(string):\n",
    "    total = \"\"\n",
    "    for spacio in string:\n",
    "        if spacio != \" \":\n",
    "            total += spacio\n",
    "    return total\n",
    "def sin_espacio(string):\n",
    "    frase = string.split(\" \")\n",
    "    unir = \"\".join(frase)\n",
    "    return unir\n",
    "def otra(string):\n",
    "    return \"\".join(string.split(\" \"))\n",
    "\n",
    "otra(\"erase una vez algunos espacio que de ambulaban \")"
   ]
  },
  {
   "cell_type": "code",
   "execution_count": 20,
   "id": "4e07fa41-cd22-49ff-a577-ca129ec6c63f",
   "metadata": {},
   "outputs": [
    {
     "data": {
      "text/plain": [
       "False"
      ]
     },
     "execution_count": 20,
     "metadata": {},
     "output_type": "execute_result"
    }
   ],
   "source": [
    "variable = 5.\n",
    "isinstance(variable, int)"
   ]
  },
  {
   "cell_type": "code",
   "execution_count": null,
   "id": "32ce07c0-2587-47be-ab3e-f04416302b3c",
   "metadata": {},
   "outputs": [],
   "source": []
  },
  {
   "cell_type": "code",
   "execution_count": null,
   "id": "f7e3e6d4-fde4-4a5d-b20e-22e52d6565ed",
   "metadata": {},
   "outputs": [],
   "source": []
  },
  {
   "cell_type": "code",
   "execution_count": null,
   "id": "b1d1a52a-11c4-4d1c-8cab-f64272c8f9b7",
   "metadata": {},
   "outputs": [],
   "source": []
  },
  {
   "cell_type": "code",
   "execution_count": null,
   "id": "a03317d5-84ea-4f91-8cea-4db577896192",
   "metadata": {},
   "outputs": [],
   "source": []
  },
  {
   "cell_type": "code",
   "execution_count": null,
   "id": "fc699ca6-d01b-4bbf-bd17-18ff9535b352",
   "metadata": {},
   "outputs": [],
   "source": []
  }
 ],
 "metadata": {
  "kernelspec": {
   "display_name": "Python 3 (ipykernel)",
   "language": "python",
   "name": "python3"
  },
  "language_info": {
   "codemirror_mode": {
    "name": "ipython",
    "version": 3
   },
   "file_extension": ".py",
   "mimetype": "text/x-python",
   "name": "python",
   "nbconvert_exporter": "python",
   "pygments_lexer": "ipython3",
   "version": "3.10.4"
  }
 },
 "nbformat": 4,
 "nbformat_minor": 5
}
