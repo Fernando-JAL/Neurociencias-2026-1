{
 "cells": [
  {
   "cell_type": "markdown",
   "id": "a2a143fe-59d1-4e26-8e97-ac087a0eeea8",
   "metadata": {},
   "source": [
    "# Ejercicios\n",
    "\n",
    "1. Crear una función que cuente las vocales de un string y regrese dicho número\n",
    "2. Creaer una función que determine si un número es par o impar y que imprima si es par o impar\n",
    "3. Crear una función para convertir en grados celsius a grados fahrenheit, dicha función recbirá la temperatura en grados celsius y deberán regresar los grados fahrenheit\n",
    "4. Crear una función que reciba un entero y devuelva la suma de sus digitos\n",
    "5. Creaar una función que reciba un string y cambie todas las miniusculas a mayúsculas y las mayúsculas a minusculas.\n",
    "6. Crear una función que reciba un string y elimine todos los espacios y regrese el string sin espacios"
   ]
  },
  {
   "cell_type": "code",
   "execution_count": 77,
   "id": "39e8d32f-7513-4809-8ec9-5273e1e101ed",
   "metadata": {},
   "outputs": [],
   "source": [
    "# ej 1\n",
    "\n",
    "def vocales(string):\n",
    "    vocal='aeiou'\n",
    "    conteo=0\n",
    "    for letra in string:\n",
    "        if letra in vocal:\n",
    "            conteo += 1\n",
    "    return conteo\n",
    "def vocales2(string):\n",
    "    vocal='aeiouAEIOU'\n",
    "    return sum(1 for letra in string if letra in vocal)"
   ]
  },
  {
   "cell_type": "code",
   "execution_count": 78,
   "id": "4591a041-fb15-4ec3-869b-102c2b67e3f9",
   "metadata": {},
   "outputs": [
    {
     "data": {
      "text/plain": [
       "2"
      ]
     },
     "execution_count": 78,
     "metadata": {},
     "output_type": "execute_result"
    }
   ],
   "source": [
    "vocales('arbol')"
   ]
  },
  {
   "cell_type": "code",
   "execution_count": 34,
   "id": "6869d815-4782-4452-8579-299079bf7825",
   "metadata": {},
   "outputs": [],
   "source": [
    "# ej 2\n",
    "def espar(numero):\n",
    "    if numero %2 == 0:\n",
    "        print(\"El número es par\")\n",
    "    else:\n",
    "        print(\"El número es impar\")\n",
    "        "
   ]
  },
  {
   "cell_type": "code",
   "execution_count": 36,
   "id": "44c7ab91-e046-4654-a692-ce823c7e58fe",
   "metadata": {},
   "outputs": [
    {
     "name": "stdout",
     "output_type": "stream",
     "text": [
      "El número es par\n"
     ]
    }
   ],
   "source": [
    "espar(108)"
   ]
  },
  {
   "cell_type": "code",
   "execution_count": 79,
   "id": "e20974b0-75b6-44d7-8f3b-4baa140238db",
   "metadata": {},
   "outputs": [
    {
     "name": "stdin",
     "output_type": "stream",
     "text": [
      "Valor en grados Celsius: 0\n"
     ]
    },
    {
     "data": {
      "text/plain": [
       "32.0"
      ]
     },
     "execution_count": 79,
     "metadata": {},
     "output_type": "execute_result"
    }
   ],
   "source": [
    "def conversion():\n",
    "    celsius= int(input('Valor en grados Celsius:'))\n",
    "    fahrenheit=(celsius * 9/5) + 32\n",
    "    return fahrenheit\n",
    "\n",
    "conversion()"
   ]
  },
  {
   "cell_type": "code",
   "execution_count": 55,
   "id": "a5b0a4ea-e33b-4e2b-97e0-a864fe311800",
   "metadata": {},
   "outputs": [
    {
     "name": "stdin",
     "output_type": "stream",
     "text": [
      "Valo en grados Celsius: 0\n"
     ]
    },
    {
     "data": {
      "text/plain": [
       "32.0"
      ]
     },
     "execution_count": 55,
     "metadata": {},
     "output_type": "execute_result"
    }
   ],
   "source": []
  },
  {
   "cell_type": "code",
   "execution_count": 73,
   "id": "8458dcd1-4317-495d-b79f-bd66f800e39b",
   "metadata": {},
   "outputs": [],
   "source": [
    "def sum_digitos(entero):\n",
    "    str_ent=str(entero)\n",
    "    suma=0\n",
    "    for num in str_ent:\n",
    "        suma+=int(num)\n",
    "    return suma"
   ]
  },
  {
   "cell_type": "code",
   "execution_count": 74,
   "id": "4ecbeaf3-9510-4d5d-91a8-7ca35d9b9a83",
   "metadata": {},
   "outputs": [
    {
     "data": {
      "text/plain": [
       "5"
      ]
     },
     "execution_count": 74,
     "metadata": {},
     "output_type": "execute_result"
    }
   ],
   "source": [
    "sum_digitos(23)"
   ]
  },
  {
   "cell_type": "code",
   "execution_count": 84,
   "id": "7669d16c-c1b4-4155-8b6f-21d5257ffe23",
   "metadata": {},
   "outputs": [],
   "source": [
    "# ej 5\n",
    "def palabras(string):\n",
    "    division=string.split(' ')\n",
    "    return len(division)"
   ]
  },
  {
   "cell_type": "code",
   "execution_count": 85,
   "id": "acba23cc-a7be-4709-b815-ddfcecb24cd3",
   "metadata": {},
   "outputs": [
    {
     "data": {
      "text/plain": [
       "4"
      ]
     },
     "execution_count": 85,
     "metadata": {},
     "output_type": "execute_result"
    }
   ],
   "source": [
    "palabras('un elefante se columpiaba')"
   ]
  },
  {
   "cell_type": "code",
   "execution_count": 86,
   "id": "24afdcb1-bb2c-45bd-b6c2-5af85081bc9b",
   "metadata": {},
   "outputs": [
    {
     "ename": "SyntaxError",
     "evalue": "invalid syntax (1185500467.py, line 1)",
     "output_type": "error",
     "traceback": [
      "  \u001b[36mCell\u001b[39m\u001b[36m \u001b[39m\u001b[32mIn[86]\u001b[39m\u001b[32m, line 1\u001b[39m\n\u001b[31m    \u001b[39m\u001b[31m'cadena'.\u001b[39m\n             ^\n\u001b[31mSyntaxError\u001b[39m\u001b[31m:\u001b[39m invalid syntax\n"
     ]
    }
   ],
   "source": [
    "'cadena'."
   ]
  },
  {
   "cell_type": "code",
   "execution_count": 99,
   "id": "a10e15c5-942e-4d94-8e22-ffd4b86002ac",
   "metadata": {},
   "outputs": [
    {
     "name": "stdin",
     "output_type": "stream",
     "text": [
      "Da una lista de números: 2,4,6\n"
     ]
    },
    {
     "data": {
      "text/plain": [
       "'2'"
      ]
     },
     "execution_count": 99,
     "metadata": {},
     "output_type": "execute_result"
    }
   ],
   "source": [
    "# Ejercicio 6\n",
    "def min_lista():\n",
    "    lista=input('Da una lista de números:').split(',')\n",
    "    if len(lista) >= 3:\n",
    "        return min(lista)\n",
    "\n",
    "min_lista()"
   ]
  },
  {
   "cell_type": "code",
   "execution_count": 100,
   "id": "e188d873-7a9d-4808-89ee-499eda31ca47",
   "metadata": {},
   "outputs": [],
   "source": [
    "#Ej 7\n",
    "def letra_frase(frase,letra):\n",
    "    contar=0\n",
    "    for letra in frase:\n",
    "        if letra in frase:\n",
    "            contar+=1\n",
    "    return contar"
   ]
  },
  {
   "cell_type": "code",
   "execution_count": 102,
   "id": "803e1506-5b81-436b-9f7b-136f7f5e223b",
   "metadata": {},
   "outputs": [
    {
     "data": {
      "text/plain": [
       "6"
      ]
     },
     "execution_count": 102,
     "metadata": {},
     "output_type": "execute_result"
    }
   ],
   "source": [
    "letra_frase('triste','t')"
   ]
  },
  {
   "cell_type": "code",
   "execution_count": null,
   "id": "0400b99a-c5ff-4fb5-b7c6-3ad46baa328a",
   "metadata": {},
   "outputs": [],
   "source": []
  }
 ],
 "metadata": {
  "kernelspec": {
   "display_name": "Python 3 (ipykernel)",
   "language": "python",
   "name": "python3"
  },
  "language_info": {
   "codemirror_mode": {
    "name": "ipython",
    "version": 3
   },
   "file_extension": ".py",
   "mimetype": "text/x-python",
   "name": "python",
   "nbconvert_exporter": "python",
   "pygments_lexer": "ipython3",
   "version": "3.11.1"
  }
 },
 "nbformat": 4,
 "nbformat_minor": 5
}
