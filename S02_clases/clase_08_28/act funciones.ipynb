{
 "cells": [
  {
   "cell_type": "markdown",
   "id": "e5bc32e5-c0aa-4079-af18-598d888f6275",
   "metadata": {},
   "source": [
    "# Ejercicios\n",
    "1. Crear una función que cuente las vocales de un string y regrese dicho numero\n",
    "2. Crear una función que determine si un número es par o impar e imprima si es par o impar\n",
    "3. Crear una función para convertir de grados celcius a grados fahrenheit, dicha función recibirá la temperatura en grados celcius y deberá regresar los grados fahrenheit\n",
    "4. Crear una función que reciba un entero y devuelva la suma de sus dígitos.\n",
    "5. Crear una función que cuente las palabras de un string y devuelva dicho número\n",
    "6. Crear una función que reciba una lista con al menos 3 enteros y regrese el mínimo de todos los números de las lista\n",
    "7. Crear una función que reciba dos strings (frase, letra) y cuente cuantas veces aparece la letra en la frase y regrese ese número\n",
    "8. Crear un string que reciba un string y cambie todas las minusculas a mayusculas y viceversa.\n",
    "9. Craer una función que reciba un string y elimina todos los espacios y regrese el string sin espacios "
   ]
  },
  {
   "cell_type": "code",
   "execution_count": 40,
   "id": "3e9f36b3-900e-4ad0-8195-e000725651e3",
   "metadata": {},
   "outputs": [
    {
     "data": {
      "text/plain": [
       "('CADENA', 'alfabeto', <function str.capitalize()>)"
      ]
     },
     "execution_count": 40,
     "metadata": {},
     "output_type": "execute_result"
    }
   ],
   "source": [
    "\"cadena\".upper(),\"ALFABETO\".lower(), \"mientras\".capitalize"
   ]
  },
  {
   "cell_type": "code",
   "execution_count": 44,
   "id": "2f7ffbe8-a4c5-462a-a4bf-70a5e9eb8a2b",
   "metadata": {},
   "outputs": [
    {
     "data": {
      "text/plain": [
       "(['a', 'b', 'c', 'd'], 'a-b-c')"
      ]
     },
     "execution_count": 44,
     "metadata": {},
     "output_type": "execute_result"
    }
   ],
   "source": [
    "\"a b c d\".split (sep = \" \"),\"-\".join (['a', 'b', 'c'])"
   ]
  },
  {
   "cell_type": "code",
   "execution_count": 6,
   "id": "110d0af4-f1f3-430f-a784-d5fa994262ad",
   "metadata": {},
   "outputs": [],
   "source": [
    "def contar_vocales (cadena):\n",
    "    vocales = \"aeiouAEIOU\"\n",
    "    contador = sum(1 for letra in texto if letra in vocales)\n",
    "    return contador "
   ]
  },
  {
   "cell_type": "code",
   "execution_count": 7,
   "id": "4877db85-b1e2-487f-b415-31fa900f80b5",
   "metadata": {},
   "outputs": [
    {
     "name": "stdout",
     "output_type": "stream",
     "text": [
      "Número de vocales 14\n"
     ]
    }
   ],
   "source": [
    "frase= \"tengo sueño y quiero un chocolate\"\n",
    "print(\"Número de vocales\", contar_vocales(frase))"
   ]
  },
  {
   "cell_type": "code",
   "execution_count": 11,
   "id": "cc911d5c-c38f-4cd3-8c7d-049fb3265c3b",
   "metadata": {},
   "outputs": [],
   "source": [
    "def contar_vocales (cadena):\n",
    "    total = 0\n",
    "    vocales=['a','e','i','o','u']\n",
    "    for letra in cadena:\n",
    "        if letra in vocales:\n",
    "            total +=1\n",
    "    return total"
   ]
  },
  {
   "cell_type": "code",
   "execution_count": null,
   "id": "00d6d8eb-5b8a-41af-98de-55006e68e531",
   "metadata": {},
   "outputs": [],
   "source": [
    "for letra in ["
   ]
  },
  {
   "cell_type": "code",
   "execution_count": 17,
   "id": "b3ad2685-c5da-477e-a659-36482e1a16b6",
   "metadata": {},
   "outputs": [],
   "source": [
    "def par_o_impar (numero):\n",
    "    if numero % 2==0:\n",
    "       print(f\"El número {numero} es Par\")\n",
    "    else:\n",
    "       print(f\"el número{numero} es Impar\")"
   ]
  },
  {
   "cell_type": "code",
   "execution_count": 18,
   "id": "bee86674-223c-445a-9f0c-51f7fac0b5bc",
   "metadata": {},
   "outputs": [
    {
     "name": "stdout",
     "output_type": "stream",
     "text": [
      "El número 80 es Par\n"
     ]
    }
   ],
   "source": [
    "par_o_impar (80)"
   ]
  },
  {
   "cell_type": "code",
   "execution_count": 39,
   "id": "3b68d01a-6994-47f3-ad04-93c160ac640c",
   "metadata": {},
   "outputs": [
    {
     "ename": "IndentationError",
     "evalue": "unexpected indent (1923028487.py, line 3)",
     "output_type": "error",
     "traceback": [
      "  \u001b[36mCell\u001b[39m\u001b[36m \u001b[39m\u001b[32mIn[39]\u001b[39m\u001b[32m, line 3\u001b[39m\n\u001b[31m    \u001b[39m\u001b[31mreturn farenheit\u001b[39m\n    ^\n\u001b[31mIndentationError\u001b[39m\u001b[31m:\u001b[39m unexpected indent\n"
     ]
    }
   ],
   "source": [
    "def Celsius_a_Fahrenheit (celcius: float)-> float:\n",
    "  return(Celsius * 9/5)+32\n",
    "    return farenheit"
   ]
  },
  {
   "cell_type": "code",
   "execution_count": 31,
   "id": "37d17ac3-2201-48ba-bc36-359629759512",
   "metadata": {},
   "outputs": [],
   "source": [
    "def sumar_digitos(n):\n",
    "    str_n = str(n)\n",
    "    total = 0\n",
    "    for digito in str_n:\n",
    "        total += int(digito)\n",
    "    return total"
   ]
  },
  {
   "cell_type": "code",
   "execution_count": 32,
   "id": "b641f9b4-1a8e-4dbe-a7bc-7b066775ab6e",
   "metadata": {},
   "outputs": [
    {
     "data": {
      "text/plain": [
       "6"
      ]
     },
     "execution_count": 32,
     "metadata": {},
     "output_type": "execute_result"
    }
   ],
   "source": [
    "\n",
    "sumar_digitos(123)"
   ]
  },
  {
   "cell_type": "code",
   "execution_count": 47,
   "id": "f757c2f4-92db-4de7-b386-0740eee7965e",
   "metadata": {},
   "outputs": [],
   "source": [
    "def contar_palabras(texto):\n",
    "    palabras = texto.split()\n",
    "    return len(palabras)"
   ]
  },
  {
   "cell_type": "code",
   "execution_count": 48,
   "id": "bde516c0-69bd-4578-9d42-411022b1acb0",
   "metadata": {},
   "outputs": [
    {
     "name": "stdout",
     "output_type": "stream",
     "text": [
      "# palabras 10\n"
     ]
    }
   ],
   "source": [
    "frase= \"Tengo ganas de un café y de ir a dormir\"\n",
    "resultado = contar_palabras(frase)\n",
    "print(\"# palabras\", resultado)"
   ]
  },
  {
   "cell_type": "code",
   "execution_count": null,
   "id": "bfc345c4-75e1-4027-b081-86992e0800bd",
   "metadata": {},
   "outputs": [],
   "source": []
  }
 ],
 "metadata": {
  "kernelspec": {
   "display_name": "Python 3 (ipykernel)",
   "language": "python",
   "name": "python3"
  },
  "language_info": {
   "codemirror_mode": {
    "name": "ipython",
    "version": 3
   },
   "file_extension": ".py",
   "mimetype": "text/x-python",
   "name": "python",
   "nbconvert_exporter": "python",
   "pygments_lexer": "ipython3",
   "version": "3.11.1"
  }
 },
 "nbformat": 4,
 "nbformat_minor": 5
}
