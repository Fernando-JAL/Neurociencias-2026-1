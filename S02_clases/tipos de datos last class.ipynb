{
 "cells": [
  {
   "cell_type": "code",
   "execution_count": 2,
   "id": "20bda311-33d7-430e-9be9-c95130d21f94",
   "metadata": {},
   "outputs": [
    {
     "data": {
      "text/plain": [
       "(-82, 631.0, 1j)"
      ]
     },
     "execution_count": 2,
     "metadata": {},
     "output_type": "execute_result"
    }
   ],
   "source": [
    "entero, flotante, comlpejo = -82, 631., complex(0,1)\n",
    "entero, flotante, comlpejo \n"
   ]
  },
  {
   "cell_type": "code",
   "execution_count": 4,
   "id": "01df10bf-8566-4405-86cd-769122179532",
   "metadata": {},
   "outputs": [
    {
     "data": {
      "text/plain": [
       "int"
      ]
     },
     "execution_count": 4,
     "metadata": {},
     "output_type": "execute_result"
    }
   ],
   "source": [
    "type(-82)"
   ]
  },
  {
   "cell_type": "code",
   "execution_count": 3,
   "id": "9b8b961c-8971-46c4-9d5a-a972c0136a39",
   "metadata": {},
   "outputs": [
    {
     "data": {
      "text/plain": [
       "'-82'"
      ]
     },
     "execution_count": 3,
     "metadata": {},
     "output_type": "execute_result"
    }
   ],
   "source": [
    "str(entero) %%convertir un tipo de dato a otrom por ej, un entero a una cadena"
   ]
  },
  {
   "cell_type": "code",
   "execution_count": 5,
   "id": "4004954d-e610-4413-ae39-cc5e0b0b8e0b",
   "metadata": {},
   "outputs": [],
   "source": [
    "  cadena = \"-46.23\""
   ]
  },
  {
   "cell_type": "code",
   "execution_count": 7,
   "id": "d1f76015-ec22-4952-9558-b9c7403ed78e",
   "metadata": {},
   "outputs": [
    {
     "data": {
      "text/plain": [
       "-46.23"
      ]
     },
     "execution_count": 7,
     "metadata": {},
     "output_type": "execute_result"
    }
   ],
   "source": [
    "float(cadena) %%%"
   ]
  },
  {
   "cell_type": "code",
   "execution_count": 8,
   "id": "270866a3-a887-42bc-9e43-0dda43f5900f",
   "metadata": {},
   "outputs": [
    {
     "data": {
      "text/plain": [
       "str"
      ]
     },
     "execution_count": 8,
     "metadata": {},
     "output_type": "execute_result"
    }
   ],
   "source": [
    "type(cadena)"
   ]
  },
  {
   "cell_type": "code",
   "execution_count": 9,
   "id": "ce7fdf33-33e9-4bb9-8aac-6da53cd9c5de",
   "metadata": {},
   "outputs": [
    {
     "data": {
      "text/plain": [
       "('-', '4', '6', '.', '2', '3')"
      ]
     },
     "execution_count": 9,
     "metadata": {},
     "output_type": "execute_result"
    }
   ],
   "source": [
    "tuple(cadena)"
   ]
  },
  {
   "cell_type": "code",
   "execution_count": 13,
   "id": "b7384964-25a2-4e53-be9a-3f2deec8c560",
   "metadata": {},
   "outputs": [
    {
     "ename": "ValueError",
     "evalue": "invalid literal for int() with base 10: '-78.4'",
     "output_type": "error",
     "traceback": [
      "\u001b[1;31m---------------------------------------------------------------------------\u001b[0m",
      "\u001b[1;31mValueError\u001b[0m                                Traceback (most recent call last)",
      "Cell \u001b[1;32mIn[13], line 1\u001b[0m\n\u001b[1;32m----> 1\u001b[0m \u001b[38;5;28;43mint\u001b[39;49m\u001b[43m(\u001b[49m\u001b[38;5;124;43m\"\u001b[39;49m\u001b[38;5;124;43m-78.4\u001b[39;49m\u001b[38;5;124;43m\"\u001b[39;49m\u001b[43m)\u001b[49m\n",
      "\u001b[1;31mValueError\u001b[0m: invalid literal for int() with base 10: '-78.4'"
     ]
    }
   ],
   "source": [
    "int(\"-78.4\") %% recordar q se deben seguir reglas matématicas, \n",
    "no puedes convertir un -78.4 a entero"
   ]
  },
  {
   "cell_type": "code",
   "execution_count": 16,
   "id": "18b8091d-91df-4ffb-810f-949d7f53cad9",
   "metadata": {},
   "outputs": [
    {
     "data": {
      "text/plain": [
       "-78"
      ]
     },
     "execution_count": 16,
     "metadata": {},
     "output_type": "execute_result"
    }
   ],
   "source": [
    "int(\"-78\")"
   ]
  },
  {
   "cell_type": "markdown",
   "id": "b589de52-f7c2-4726-a889-015ab73246bb",
   "metadata": {},
   "source": [
    "### Tipos de datos booleanos"
   ]
  },
  {
   "cell_type": "code",
   "execution_count": 18,
   "id": "a151600f-f161-42ef-bac4-5f4495b53ed8",
   "metadata": {},
   "outputs": [
    {
     "data": {
      "text/plain": [
       "(True, False)"
      ]
     },
     "execution_count": 18,
     "metadata": {},
     "output_type": "execute_result"
    }
   ],
   "source": [
    "value1, value2 = True, False\n",
    "value1, value2 "
   ]
  },
  {
   "cell_type": "code",
   "execution_count": 19,
   "id": "8544a7a1-f593-4171-90e0-d2133a1da0f8",
   "metadata": {},
   "outputs": [
    {
     "data": {
      "text/plain": [
       "bool"
      ]
     },
     "execution_count": 19,
     "metadata": {},
     "output_type": "execute_result"
    }
   ],
   "source": [
    "type(value1)"
   ]
  },
  {
   "cell_type": "code",
   "execution_count": 21,
   "id": "99c9fc29-7ec2-4fab-8b5e-6373b1bbff0f",
   "metadata": {},
   "outputs": [
    {
     "data": {
      "text/plain": [
       "False"
      ]
     },
     "execution_count": 21,
     "metadata": {},
     "output_type": "execute_result"
    }
   ],
   "source": [
    "\n",
    "bool(0) %%el único falso es 0"
   ]
  },
  {
   "cell_type": "code",
   "execution_count": 22,
   "id": "a8a4ac54-2189-4970-a6fd-876a51225cc4",
   "metadata": {},
   "outputs": [
    {
     "data": {
      "text/plain": [
       "True"
      ]
     },
     "execution_count": 22,
     "metadata": {},
     "output_type": "execute_result"
    }
   ],
   "source": [
    "bool (\"Hola\")"
   ]
  },
  {
   "cell_type": "code",
   "execution_count": 23,
   "id": "d556710c-2ea7-4661-9b2e-140bce62b061",
   "metadata": {},
   "outputs": [
    {
     "data": {
      "text/plain": [
       "True"
      ]
     },
     "execution_count": 23,
     "metadata": {},
     "output_type": "execute_result"
    }
   ],
   "source": [
    "bool(1)"
   ]
  },
  {
   "cell_type": "code",
   "execution_count": 32,
   "id": "2b51883b-44d6-4331-ab54-0d82388a7c0f",
   "metadata": {},
   "outputs": [
    {
     "data": {
      "text/plain": [
       "True"
      ]
     },
     "execution_count": 32,
     "metadata": {},
     "output_type": "execute_result"
    }
   ],
   "source": [
    "bool(complex(5,1))"
   ]
  },
  {
   "cell_type": "code",
   "execution_count": 33,
   "id": "b5471c9d-c432-464d-990c-c99881033710",
   "metadata": {},
   "outputs": [
    {
     "data": {
      "text/plain": [
       "False"
      ]
     },
     "execution_count": 33,
     "metadata": {},
     "output_type": "execute_result"
    }
   ],
   "source": [
    "bool( \"\") %%cadena vacía false"
   ]
  },
  {
   "cell_type": "code",
   "execution_count": 35,
   "id": "e94e8241-62fe-4297-95c0-f155d034e34e",
   "metadata": {},
   "outputs": [
    {
     "data": {
      "text/plain": [
       "(False, True)"
      ]
     },
     "execution_count": 35,
     "metadata": {},
     "output_type": "execute_result"
    }
   ],
   "source": [
    "bool ([]) , bool ([\"f\", 9])"
   ]
  },
  {
   "cell_type": "code",
   "execution_count": 36,
   "id": "d6274213-3c22-4a30-b0a9-4836ad5a753a",
   "metadata": {},
   "outputs": [
    {
     "ename": "SyntaxError",
     "evalue": "invalid syntax (595285782.py, line 1)",
     "output_type": "error",
     "traceback": [
      "\u001b[1;36m  Cell \u001b[1;32mIn[36], line 1\u001b[1;36m\u001b[0m\n\u001b[1;33m    bool(())%tupla vaçia\u001b[0m\n\u001b[1;37m                   ^\u001b[0m\n\u001b[1;31mSyntaxError\u001b[0m\u001b[1;31m:\u001b[0m invalid syntax\n"
     ]
    }
   ],
   "source": [
    "bool(())%tupla vaçia"
   ]
  },
  {
   "cell_type": "code",
   "execution_count": 38,
   "id": "3d5161df-0076-44e4-9e04-a58b40428494",
   "metadata": {},
   "outputs": [
    {
     "data": {
      "text/plain": [
       "True"
      ]
     },
     "execution_count": 38,
     "metadata": {},
     "output_type": "execute_result"
    }
   ],
   "source": [
    "bool((5,1))"
   ]
  },
  {
   "cell_type": "code",
   "execution_count": 41,
   "id": "28727a69-c3c8-47be-837e-b9f995b9befe",
   "metadata": {},
   "outputs": [
    {
     "data": {
      "text/plain": [
       "(False, True)"
      ]
     },
     "execution_count": 41,
     "metadata": {},
     "output_type": "execute_result"
    }
   ],
   "source": [
    "bool({}), bool({\"key\":\"value\"})"
   ]
  },
  {
   "cell_type": "markdown",
   "id": "51970df2-1f1b-412e-b67d-736da616ae31",
   "metadata": {},
   "source": [
    "En resumen, lo booleano es falso si esta vacío y si es cualquier tipo de dato \n",
    "es true"
   ]
  },
  {
   "cell_type": "markdown",
   "id": "75ddb69c-5169-4bc1-8b9a-cdec0a95d118",
   "metadata": {},
   "source": [
    "### SETS(CONJUNTOS) \n",
    "Sintaxis ({4,\"cosa\",})"
   ]
  },
  {
   "cell_type": "code",
   "execution_count": 43,
   "id": "647d83e4-59eb-4204-a6c9-9cdf5492d7d0",
   "metadata": {},
   "outputs": [
    {
     "data": {
      "text/plain": [
       "set"
      ]
     },
     "execution_count": 43,
     "metadata": {},
     "output_type": "execute_result"
    }
   ],
   "source": [
    "conjunto =  ({4,\"cosa\",})\n",
    "type(conjunto)"
   ]
  },
  {
   "cell_type": "code",
   "execution_count": 45,
   "id": "1efa4d91-9337-4e70-8ed4-4dbed6c35d7a",
   "metadata": {},
   "outputs": [
    {
     "data": {
      "text/plain": [
       "8"
      ]
     },
     "execution_count": 45,
     "metadata": {},
     "output_type": "execute_result"
    }
   ],
   "source": [
    "conjunto2= {4,\"cosa\",1,2,3,4,\"a\",\"b\",\"c\", \"a\"} \n",
    "len(conjunto2) %%los conjuntos no cuentan los elementos repetidos"
   ]
  },
  {
   "cell_type": "markdown",
   "id": "a449a309-9838-4bc1-919d-9e3f998558d4",
   "metadata": {},
   "source": [
    "### Operados de asignación\n",
    "simbolos que asignan algo"
   ]
  },
  {
   "cell_type": "code",
   "execution_count": null,
   "id": "0a080e61-b9eb-4f94-ae42-20f8a8f9d967",
   "metadata": {},
   "outputs": [],
   "source": [
    "= , +=, -=, *=, /=, //=, %=, **=\n",
    "%               división, cociente, residuo, potencia"
   ]
  },
  {
   "cell_type": "code",
   "execution_count": 48,
   "id": "366d3a6c-5346-4297-bbbc-933fd9c5cf83",
   "metadata": {},
   "outputs": [
    {
     "data": {
      "text/plain": [
       "32"
      ]
     },
     "execution_count": 48,
     "metadata": {},
     "output_type": "execute_result"
    }
   ],
   "source": [
    "a = 10\n",
    "\n",
    "\n",
    "a = a+22\n",
    "\n",
    "a"
   ]
  },
  {
   "cell_type": "code",
   "execution_count": 54,
   "id": "c34c4109-0de8-4c62-bd2c-4b78c668bfb9",
   "metadata": {},
   "outputs": [
    {
     "data": {
      "text/plain": [
       "32"
      ]
     },
     "execution_count": 54,
     "metadata": {},
     "output_type": "execute_result"
    }
   ],
   "source": [
    "a=10\n",
    "a+=22\n",
    "a\n"
   ]
  },
  {
   "cell_type": "code",
   "execution_count": 60,
   "id": "2e175319-af2e-4102-80d2-d3c8d8b7f04d",
   "metadata": {},
   "outputs": [
    {
     "data": {
      "text/plain": [
       "'hace más frío  que antes'"
      ]
     },
     "execution_count": 60,
     "metadata": {},
     "output_type": "execute_result"
    }
   ],
   "source": [
    "cadena = \"hace más frío \"\n",
    "cadena = cadena + \" que antes\"\n",
    "cadena"
   ]
  },
  {
   "cell_type": "code",
   "execution_count": 62,
   "id": "81be70f7-6889-47c5-aa7b-ee8f7b98fd83",
   "metadata": {},
   "outputs": [
    {
     "data": {
      "text/plain": [
       "'hace más frío  que antes que antesque antes'"
      ]
     },
     "execution_count": 62,
     "metadata": {},
     "output_type": "execute_result"
    }
   ],
   "source": [
    "cadena += \"que antes\"\n",
    "cadena"
   ]
  },
  {
   "cell_type": "code",
   "execution_count": 64,
   "id": "08b5d13f-adbb-48df-bca7-bdef6a641183",
   "metadata": {},
   "outputs": [
    {
     "data": {
      "text/plain": [
       "12.0"
      ]
     },
     "execution_count": 64,
     "metadata": {},
     "output_type": "execute_result"
    }
   ],
   "source": [
    "a= 144 #nota q 144=12*12\n",
    "a/= 12\n",
    "a"
   ]
  },
  {
   "cell_type": "code",
   "execution_count": 66,
   "id": "ff0ad768-dbb1-45fd-a331-3cafd1b29b25",
   "metadata": {},
   "outputs": [
    {
     "data": {
      "text/plain": [
       "32"
      ]
     },
     "execution_count": 66,
     "metadata": {},
     "output_type": "execute_result"
    }
   ],
   "source": [
    "a=2\n",
    "a**=5\n",
    "a"
   ]
  },
  {
   "cell_type": "code",
   "execution_count": null,
   "id": "45228777-5c5c-43d6-84c3-682c2dee087b",
   "metadata": {},
   "outputs": [],
   "source": [
    "a = [ 3,6,8, \"azul como el mar azul\"]\n",
    "a+= list(\"las doce casa\")     \n",
    "a\n",
    "len(a)"
   ]
  },
  {
   "cell_type": "markdown",
   "id": "ac63adfb-fa41-4041-b731-722e413c7ef4",
   "metadata": {},
   "source": [
    "# Operadores racionales\n",
    "< > ==, !=(diferente de)"
   ]
  },
  {
   "cell_type": "code",
   "execution_count": 75,
   "id": "4e6cfd21-b3f5-44a3-95d4-93daeb8e4d6e",
   "metadata": {},
   "outputs": [
    {
     "data": {
      "text/plain": [
       "(False, True, False, True)"
      ]
     },
     "execution_count": 75,
     "metadata": {},
     "output_type": "execute_result"
    }
   ],
   "source": [
    "a,b = 5,18\n",
    "a>b, a<b ,  a == b, a!=b"
   ]
  },
  {
   "cell_type": "code",
   "execution_count": 81,
   "id": "84709903-e959-4912-a2ad-bffb29e07e92",
   "metadata": {},
   "outputs": [
    {
     "data": {
      "text/plain": [
       "False"
      ]
     },
     "execution_count": 81,
     "metadata": {},
     "output_type": "execute_result"
    }
   ],
   "source": [
    "a, b, c = -45.2, 22, 100\n",
    "(((a-b) < 567) !=0 )== c*0"
   ]
  },
  {
   "cell_type": "code",
   "execution_count": 82,
   "id": "1e199f55-c302-426a-aec7-3a31b4288c60",
   "metadata": {},
   "outputs": [
    {
     "data": {
      "text/plain": [
       "True"
      ]
     },
     "execution_count": 82,
     "metadata": {},
     "output_type": "execute_result"
    }
   ],
   "source": [
    "# podemos fingir q el true sea igual a 1\n",
    "False < True"
   ]
  },
  {
   "cell_type": "code",
   "execution_count": 86,
   "id": "2b224eed-bc1a-47e1-937e-1a8310dad777",
   "metadata": {},
   "outputs": [
    {
     "data": {
      "text/plain": [
       "False"
      ]
     },
     "execution_count": 86,
     "metadata": {},
     "output_type": "execute_result"
    }
   ],
   "source": [
    "False + 1 >True"
   ]
  },
  {
   "cell_type": "code",
   "execution_count": 88,
   "id": "2e76ee52-8c5a-4ec3-a54f-1d8ba95b1673",
   "metadata": {},
   "outputs": [
    {
     "data": {
      "text/plain": [
       "False"
      ]
     },
     "execution_count": 88,
     "metadata": {},
     "output_type": "execute_result"
    }
   ],
   "source": [
    "5 < 10 <3"
   ]
  },
  {
   "cell_type": "markdown",
   "id": "c32050da-fec3-4b15-9ed1-08d1dd1b965d",
   "metadata": {},
   "source": [
    "## Operadores lógicos\n",
    "or, and, not"
   ]
  },
  {
   "cell_type": "code",
   "execution_count": 90,
   "id": "e89ababa-2d0d-46d3-a378-a9339e19adc2",
   "metadata": {},
   "outputs": [
    {
     "data": {
      "text/plain": [
       "(True, False, False, False)"
      ]
     },
     "execution_count": 90,
     "metadata": {},
     "output_type": "execute_result"
    }
   ],
   "source": [
    "True and True, True and False, False and True, False and False"
   ]
  },
  {
   "cell_type": "code",
   "execution_count": 91,
   "id": "2f0846f0-6f94-41ff-ad70-c3bfe8215528",
   "metadata": {},
   "outputs": [
    {
     "data": {
      "text/plain": [
       "(True, True, True, False)"
      ]
     },
     "execution_count": 91,
     "metadata": {},
     "output_type": "execute_result"
    }
   ],
   "source": [
    "# Tabla de verdad del or\n",
    "True or True, True or False, False or True, False or False\n"
   ]
  },
  {
   "cell_type": "code",
   "execution_count": 92,
   "id": "7dd6f10b-dc77-4441-9055-22b4f262e3fa",
   "metadata": {},
   "outputs": [
    {
     "data": {
      "text/plain": [
       "(False, True)"
      ]
     },
     "execution_count": 92,
     "metadata": {},
     "output_type": "execute_result"
    }
   ],
   "source": [
    "not True, not False"
   ]
  },
  {
   "cell_type": "code",
   "execution_count": 94,
   "id": "ddaf6bd8-8cdd-4981-9668-340c8e158432",
   "metadata": {},
   "outputs": [
    {
     "data": {
      "text/plain": [
       "True"
      ]
     },
     "execution_count": 94,
     "metadata": {},
     "output_type": "execute_result"
    }
   ],
   "source": [
    " 3<5 and 5<10 ##true y true da true"
   ]
  },
  {
   "cell_type": "code",
   "execution_count": 98,
   "id": "d2698fc3-7f5d-414d-ba96-27910f49535f",
   "metadata": {},
   "outputs": [
    {
     "data": {
      "text/plain": [
       "False"
      ]
     },
     "execution_count": 98,
     "metadata": {},
     "output_type": "execute_result"
    }
   ],
   "source": [
    "3<8 and 8<5  ##true y false es false "
   ]
  },
  {
   "cell_type": "code",
   "execution_count": 101,
   "id": "e42da18a-0f90-4925-9555-8b380b3f0530",
   "metadata": {},
   "outputs": [
    {
     "data": {
      "text/plain": [
       "True"
      ]
     },
     "execution_count": 101,
     "metadata": {},
     "output_type": "execute_result"
    }
   ],
   "source": [
    "c = \"hola mundo\"\n",
    "len(c) >=10 and c[0] == \"h\" ### recordar q esto indica c en 0, \"h\" del hola muundo"
   ]
  },
  {
   "cell_type": "code",
   "execution_count": null,
   "id": "995e4efa-365f-4f47-8565-660e79a1903f",
   "metadata": {},
   "outputs": [],
   "source": []
  },
  {
   "cell_type": "code",
   "execution_count": null,
   "id": "babe9819-ce3f-472b-a7e6-f1c8d76c532d",
   "metadata": {},
   "outputs": [],
   "source": []
  },
  {
   "cell_type": "code",
   "execution_count": null,
   "id": "d9e752a6-d40c-432e-9844-696cc32f4915",
   "metadata": {},
   "outputs": [],
   "source": []
  }
 ],
 "metadata": {
  "kernelspec": {
   "display_name": "Python 3 (ipykernel)",
   "language": "python",
   "name": "python3"
  },
  "language_info": {
   "codemirror_mode": {
    "name": "ipython",
    "version": 3
   },
   "file_extension": ".py",
   "mimetype": "text/x-python",
   "name": "python",
   "nbconvert_exporter": "python",
   "pygments_lexer": "ipython3",
   "version": "3.10.4"
  }
 },
 "nbformat": 4,
 "nbformat_minor": 5
}
