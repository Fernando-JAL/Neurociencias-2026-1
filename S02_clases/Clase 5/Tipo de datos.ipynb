{
 "cells": [
  {
   "cell_type": "markdown",
   "id": "b5315349-16d1-4c35-af29-947a96437067",
   "metadata": {},
   "source": [
    "# Conversión de tipo de datos "
   ]
  },
  {
   "cell_type": "code",
   "execution_count": 1,
   "id": "7102c449-bcc8-40bd-bf17-af5fa86e9447",
   "metadata": {},
   "outputs": [
    {
     "data": {
      "text/plain": [
       "(-82, 631.0, 1j)"
      ]
     },
     "execution_count": 1,
     "metadata": {},
     "output_type": "execute_result"
    }
   ],
   "source": [
    "entero, flotante, complejo = -82, 631., complex(0,1)\n",
    "entero, flotante, complejo"
   ]
  },
  {
   "cell_type": "code",
   "execution_count": 2,
   "id": "c4c9a521-6042-4ad5-8300-6aa1a6208cdb",
   "metadata": {},
   "outputs": [
    {
     "data": {
      "text/plain": [
       "'1j'"
      ]
     },
     "execution_count": 2,
     "metadata": {},
     "output_type": "execute_result"
    }
   ],
   "source": [
    "str(complejo)"
   ]
  },
  {
   "cell_type": "code",
   "execution_count": 3,
   "id": "30bc1ca0-0af7-46c9-b3bd-34fb088ce259",
   "metadata": {},
   "outputs": [
    {
     "data": {
      "text/plain": [
       "'-46.23'"
      ]
     },
     "execution_count": 3,
     "metadata": {},
     "output_type": "execute_result"
    }
   ],
   "source": [
    "cadena = \"-46.23\"\n",
    "cadena"
   ]
  },
  {
   "cell_type": "code",
   "execution_count": 4,
   "id": "84638425-6aee-4d3c-9d76-869897ec013c",
   "metadata": {},
   "outputs": [
    {
     "data": {
      "text/plain": [
       "-46.23"
      ]
     },
     "execution_count": 4,
     "metadata": {},
     "output_type": "execute_result"
    }
   ],
   "source": [
    "float(cadena)"
   ]
  },
  {
   "cell_type": "code",
   "execution_count": 5,
   "id": "220373d2-87a9-4615-9131-6d40d7c235ce",
   "metadata": {},
   "outputs": [
    {
     "data": {
      "text/plain": [
       "('-', '4', '6', '.', '2', '3')"
      ]
     },
     "execution_count": 5,
     "metadata": {},
     "output_type": "execute_result"
    }
   ],
   "source": [
    "tuple(cadena)"
   ]
  },
  {
   "cell_type": "code",
   "execution_count": 6,
   "id": "1a7a22b6-1559-42d3-8b00-fd1f8d2ce7c2",
   "metadata": {},
   "outputs": [
    {
     "ename": "ValueError",
     "evalue": "invalid literal for int() with base 10: '-78.4'",
     "output_type": "error",
     "traceback": [
      "\u001b[31m---------------------------------------------------------------------------\u001b[39m",
      "\u001b[31mValueError\u001b[39m                                Traceback (most recent call last)",
      "\u001b[36mCell\u001b[39m\u001b[36m \u001b[39m\u001b[32mIn[6]\u001b[39m\u001b[32m, line 1\u001b[39m\n\u001b[32m----> \u001b[39m\u001b[32m1\u001b[39m \u001b[38;5;28;43mint\u001b[39;49m\u001b[43m(\u001b[49m\u001b[33;43m\"\u001b[39;49m\u001b[33;43m-78.4\u001b[39;49m\u001b[33;43m\"\u001b[39;49m\u001b[43m)\u001b[49m\n",
      "\u001b[31mValueError\u001b[39m: invalid literal for int() with base 10: '-78.4'"
     ]
    }
   ],
   "source": [
    "int(\"-78.4\")"
   ]
  },
  {
   "cell_type": "code",
   "execution_count": 7,
   "id": "6a99e96e-e357-497e-b066-77ca73e1eba5",
   "metadata": {},
   "outputs": [
    {
     "data": {
      "text/plain": [
       "-78"
      ]
     },
     "execution_count": 7,
     "metadata": {},
     "output_type": "execute_result"
    }
   ],
   "source": [
    "int(\"-78\")"
   ]
  },
  {
   "cell_type": "markdown",
   "id": "020da023-718d-46a5-9fbf-00def05a9673",
   "metadata": {},
   "source": [
    "# Tipo de dato Boolean"
   ]
  },
  {
   "cell_type": "code",
   "execution_count": 12,
   "id": "bc9fa5eb-321d-4a6e-9b9a-988d31f59ff0",
   "metadata": {},
   "outputs": [
    {
     "name": "stdout",
     "output_type": "stream",
     "text": [
      "True False\n"
     ]
    }
   ],
   "source": [
    "value1 = True\n",
    "value2 = False\n",
    "\n",
    "print(value1, value2)         # → True False\n",
    "\n"
   ]
  },
  {
   "cell_type": "code",
   "execution_count": 13,
   "id": "f017597a-9954-4f87-b7c5-37a0689e297a",
   "metadata": {},
   "outputs": [
    {
     "data": {
      "text/plain": [
       "bool"
      ]
     },
     "execution_count": 13,
     "metadata": {},
     "output_type": "execute_result"
    }
   ],
   "source": [
    "type(value1)"
   ]
  },
  {
   "cell_type": "code",
   "execution_count": 14,
   "id": "a43c1990-c8ca-4be1-94b5-a7af9f58d56f",
   "metadata": {},
   "outputs": [
    {
     "data": {
      "text/plain": [
       "False"
      ]
     },
     "execution_count": 14,
     "metadata": {},
     "output_type": "execute_result"
    }
   ],
   "source": [
    "bool(0)"
   ]
  },
  {
   "cell_type": "code",
   "execution_count": 15,
   "id": "316060a1-4970-4a58-a4cb-c2a10c4cd69d",
   "metadata": {},
   "outputs": [
    {
     "data": {
      "text/plain": [
       "True"
      ]
     },
     "execution_count": 15,
     "metadata": {},
     "output_type": "execute_result"
    }
   ],
   "source": [
    "bool(1)"
   ]
  },
  {
   "cell_type": "code",
   "execution_count": 16,
   "id": "da27924e-44bf-47cc-bda1-a1e4dd24df92",
   "metadata": {},
   "outputs": [
    {
     "data": {
      "text/plain": [
       "True"
      ]
     },
     "execution_count": 16,
     "metadata": {},
     "output_type": "execute_result"
    }
   ],
   "source": [
    "bool(\"Hola\")"
   ]
  },
  {
   "cell_type": "code",
   "execution_count": 17,
   "id": "ebf367a7-991d-4eb0-bbb4-e5d6c14d3cda",
   "metadata": {},
   "outputs": [
    {
     "data": {
      "text/plain": [
       "True"
      ]
     },
     "execution_count": 17,
     "metadata": {},
     "output_type": "execute_result"
    }
   ],
   "source": [
    "bool(2)"
   ]
  },
  {
   "cell_type": "code",
   "execution_count": 18,
   "id": "81ca8a59-264e-42f0-9abd-0d593f97c44a",
   "metadata": {},
   "outputs": [
    {
     "data": {
      "text/plain": [
       "True"
      ]
     },
     "execution_count": 18,
     "metadata": {},
     "output_type": "execute_result"
    }
   ],
   "source": [
    "bool(150)"
   ]
  },
  {
   "cell_type": "code",
   "execution_count": 19,
   "id": "6fa88336-f3c4-4d3f-b571-f943afe3bb2d",
   "metadata": {},
   "outputs": [
    {
     "data": {
      "text/plain": [
       "(True, True)"
      ]
     },
     "execution_count": 19,
     "metadata": {},
     "output_type": "execute_result"
    }
   ],
   "source": [
    "bool(-150.456), bool(complex(0,1))"
   ]
  },
  {
   "cell_type": "code",
   "execution_count": 20,
   "id": "cd5b3004-29fa-4ee0-883a-453a774b107c",
   "metadata": {},
   "outputs": [
    {
     "data": {
      "text/plain": [
       "(False, True)"
      ]
     },
     "execution_count": 20,
     "metadata": {},
     "output_type": "execute_result"
    }
   ],
   "source": [
    "bool(\"\"), bool(\"aiuda\")"
   ]
  },
  {
   "cell_type": "code",
   "execution_count": 21,
   "id": "db0a0a58-c9cc-4587-8785-bca0e3b76a95",
   "metadata": {},
   "outputs": [
    {
     "data": {
      "text/plain": [
       "(False, True)"
      ]
     },
     "execution_count": 21,
     "metadata": {},
     "output_type": "execute_result"
    }
   ],
   "source": [
    "bool([]), bool([\"f\",9])"
   ]
  },
  {
   "cell_type": "code",
   "execution_count": 22,
   "id": "47f74bab-5807-4b64-838b-4453dde37418",
   "metadata": {},
   "outputs": [
    {
     "data": {
      "text/plain": [
       "(False, True)"
      ]
     },
     "execution_count": 22,
     "metadata": {},
     "output_type": "execute_result"
    }
   ],
   "source": [
    "bool(()), bool((5, ))"
   ]
  },
  {
   "cell_type": "code",
   "execution_count": 23,
   "id": "45a3d924-7d11-4ed9-a5f8-93ebb2d20a72",
   "metadata": {},
   "outputs": [
    {
     "data": {
      "text/plain": [
       "(False, True)"
      ]
     },
     "execution_count": 23,
     "metadata": {},
     "output_type": "execute_result"
    }
   ],
   "source": [
    "bool({}), bool({\"key\":\"value\"})"
   ]
  },
  {
   "cell_type": "markdown",
   "id": "f6955ec2-34dc-4f27-adbe-3dbe9a8eeacd",
   "metadata": {},
   "source": [
    "# Sets"
   ]
  },
  {
   "cell_type": "code",
   "execution_count": 24,
   "id": "dbb33593-0040-4a4b-ba49-fdb1e39cb54d",
   "metadata": {},
   "outputs": [
    {
     "data": {
      "text/plain": [
       "set"
      ]
     },
     "execution_count": 24,
     "metadata": {},
     "output_type": "execute_result"
    }
   ],
   "source": [
    "type({4, \"cosa\"})"
   ]
  },
  {
   "cell_type": "code",
   "execution_count": 25,
   "id": "2ee277ad-096d-48d1-b6a7-30d3c5a74f11",
   "metadata": {},
   "outputs": [],
   "source": [
    "conjunto = {4,\"cosa\", 1, 2, 3, 4, \"a\", \"b\", \"c\", \"a\"}"
   ]
  },
  {
   "cell_type": "code",
   "execution_count": 26,
   "id": "3d4827fc-5b84-4c5d-ae86-b46e92d10046",
   "metadata": {},
   "outputs": [
    {
     "data": {
      "text/plain": [
       "8"
      ]
     },
     "execution_count": 26,
     "metadata": {},
     "output_type": "execute_result"
    }
   ],
   "source": [
    "len(conjunto)"
   ]
  },
  {
   "cell_type": "code",
   "execution_count": 27,
   "id": "8d60256c-b2b7-4b44-8dd4-625f948969e4",
   "metadata": {},
   "outputs": [
    {
     "data": {
      "text/plain": [
       "{1, 2, 3, 4, 'a', 'b', 'c', 'cosa'}"
      ]
     },
     "execution_count": 27,
     "metadata": {},
     "output_type": "execute_result"
    }
   ],
   "source": [
    "conjunto"
   ]
  },
  {
   "cell_type": "markdown",
   "id": "1d2a4dd7-9bdf-42b1-972e-e87caedb31a5",
   "metadata": {},
   "source": [
    "# Operadores de asignación\n",
    "\n",
    "=, +=, -=, *=, /=, //=, %=, **="
   ]
  },
  {
   "cell_type": "code",
   "execution_count": 30,
   "id": "42768ee8-5b52-44e1-a5cb-cea4569bd7e8",
   "metadata": {},
   "outputs": [
    {
     "data": {
      "text/plain": [
       "32"
      ]
     },
     "execution_count": 30,
     "metadata": {},
     "output_type": "execute_result"
    }
   ],
   "source": [
    "a = 10 \n",
    "a= a + 22\n",
    "a"
   ]
  },
  {
   "cell_type": "code",
   "execution_count": 31,
   "id": "67360207-2ad7-4748-af7e-a4c359d5a5cc",
   "metadata": {},
   "outputs": [
    {
     "data": {
      "text/plain": [
       "32"
      ]
     },
     "execution_count": 31,
     "metadata": {},
     "output_type": "execute_result"
    }
   ],
   "source": [
    "a = 10\n",
    "a += 22\n",
    "a"
   ]
  },
  {
   "cell_type": "code",
   "execution_count": null,
   "id": "f087fd20-1675-40d0-b84a-8d337f6fe1d4",
   "metadata": {},
   "outputs": [],
   "source": []
  },
  {
   "cell_type": "code",
   "execution_count": 33,
   "id": "4b493a2d-0f90-474e-a7d2-128b2accf453",
   "metadata": {},
   "outputs": [
    {
     "data": {
      "text/plain": [
       "'hace más frío que antes'"
      ]
     },
     "execution_count": 33,
     "metadata": {},
     "output_type": "execute_result"
    }
   ],
   "source": [
    "cadena = \"hace más frío\"\n",
    "cadena = cadena + \" que antes\"\n",
    "cadena"
   ]
  },
  {
   "cell_type": "code",
   "execution_count": 35,
   "id": "cf8c83ed-e9a6-4b7d-882c-8d21e7a495dc",
   "metadata": {},
   "outputs": [
    {
     "data": {
      "text/plain": [
       "'hace más frío que antes'"
      ]
     },
     "execution_count": 35,
     "metadata": {},
     "output_type": "execute_result"
    }
   ],
   "source": [
    "cadena = \"hace más frío\"\n",
    "cadena += \" que antes\"\n",
    "cadena"
   ]
  },
  {
   "cell_type": "code",
   "execution_count": 36,
   "id": "8a4d1d82-f7ec-40ca-bd30-8ab6ae303fdf",
   "metadata": {},
   "outputs": [
    {
     "data": {
      "text/plain": [
       "12.0"
      ]
     },
     "execution_count": 36,
     "metadata": {},
     "output_type": "execute_result"
    }
   ],
   "source": [
    "a = 144 #Nota que 144 = 12*12\n",
    "a /= 12\n",
    "a"
   ]
  },
  {
   "cell_type": "code",
   "execution_count": 37,
   "id": "3764c577-ba86-43a2-aeec-4e03e3827081",
   "metadata": {},
   "outputs": [
    {
     "data": {
      "text/plain": [
       "32"
      ]
     },
     "execution_count": 37,
     "metadata": {},
     "output_type": "execute_result"
    }
   ],
   "source": [
    "a = 2\n",
    "a **= 5\n",
    "a"
   ]
  },
  {
   "cell_type": "code",
   "execution_count": 38,
   "id": "efc9b17c-2e64-45fe-919a-3ec9a8f9718e",
   "metadata": {},
   "outputs": [
    {
     "data": {
      "text/plain": [
       "[3,\n",
       " 6,\n",
       " 8,\n",
       " 'azul como el mar azul',\n",
       " 'l',\n",
       " 'a',\n",
       " 's',\n",
       " ' ',\n",
       " 'd',\n",
       " 'o',\n",
       " 'c',\n",
       " 'e',\n",
       " ' ',\n",
       " 'c',\n",
       " 'a',\n",
       " 's',\n",
       " 'a',\n",
       " 's']"
      ]
     },
     "execution_count": 38,
     "metadata": {},
     "output_type": "execute_result"
    }
   ],
   "source": [
    "a = [3, 6, 8, \"azul como el mar azul\"]\n",
    "a += list(\"las doce casas\")\n",
    "a"
   ]
  },
  {
   "cell_type": "markdown",
   "id": "45630f90-9eb7-4d45-85f1-23aba0b5a2c0",
   "metadata": {},
   "source": [
    "# Operadores racionales\n",
    "\n",
    "<,>, ==, !="
   ]
  },
  {
   "cell_type": "code",
   "execution_count": 41,
   "id": "d421a047-00f3-453f-bd1e-085d101fd1d9",
   "metadata": {},
   "outputs": [
    {
     "data": {
      "text/plain": [
       "(False, True)"
      ]
     },
     "execution_count": 41,
     "metadata": {},
     "output_type": "execute_result"
    }
   ],
   "source": [
    "a, b = 5, 18\n",
    "a>b , a<b"
   ]
  },
  {
   "cell_type": "code",
   "execution_count": 42,
   "id": "57a1db8e-e87e-4e0d-abbe-cf1048b844d7",
   "metadata": {},
   "outputs": [
    {
     "data": {
      "text/plain": [
       "False"
      ]
     },
     "execution_count": 42,
     "metadata": {},
     "output_type": "execute_result"
    }
   ],
   "source": [
    "a, b, c =-45.2, 22, 100\n",
    "(((a-b) < 567) != 0) == c*0"
   ]
  },
  {
   "cell_type": "code",
   "execution_count": 43,
   "id": "ba48d666-2fd8-47c0-85bd-3fd91bf02e9d",
   "metadata": {},
   "outputs": [
    {
     "data": {
      "text/plain": [
       "True"
      ]
     },
     "execution_count": 43,
     "metadata": {},
     "output_type": "execute_result"
    }
   ],
   "source": [
    "((a-b) < 567) != 0"
   ]
  },
  {
   "cell_type": "code",
   "execution_count": 44,
   "id": "2f1faf6c-b56a-4e6a-a465-9693c22c9ae5",
   "metadata": {},
   "outputs": [
    {
     "data": {
      "text/plain": [
       "(True, True, True)"
      ]
     },
     "execution_count": 44,
     "metadata": {},
     "output_type": "execute_result"
    }
   ],
   "source": [
    "True != 0, True ==1, False == 0"
   ]
  },
  {
   "cell_type": "code",
   "execution_count": 45,
   "id": "4d53ea68-5490-4bb8-b7e2-0bcac918b789",
   "metadata": {},
   "outputs": [
    {
     "data": {
      "text/plain": [
       "True"
      ]
     },
     "execution_count": 45,
     "metadata": {},
     "output_type": "execute_result"
    }
   ],
   "source": [
    "# 0 < 1\n",
    "False < True"
   ]
  },
  {
   "cell_type": "code",
   "execution_count": 46,
   "id": "2c63d03e-06e4-44c3-b2a0-e53abf275244",
   "metadata": {},
   "outputs": [
    {
     "data": {
      "text/plain": [
       "True"
      ]
     },
     "execution_count": 46,
     "metadata": {},
     "output_type": "execute_result"
    }
   ],
   "source": [
    "# 0 + 1 <= 1\n",
    "False + 1 <= True"
   ]
  },
  {
   "cell_type": "code",
   "execution_count": 47,
   "id": "7a9045a2-9db3-4c06-b7c6-7c440ed318b9",
   "metadata": {},
   "outputs": [
    {
     "data": {
      "text/plain": [
       "True"
      ]
     },
     "execution_count": 47,
     "metadata": {},
     "output_type": "execute_result"
    }
   ],
   "source": [
    "5 < 10 < 58"
   ]
  },
  {
   "cell_type": "code",
   "execution_count": 49,
   "id": "3e32d6e6-6ec1-4ac3-9b52-20f290f430b0",
   "metadata": {},
   "outputs": [
    {
     "data": {
      "text/plain": [
       "False"
      ]
     },
     "execution_count": 49,
     "metadata": {},
     "output_type": "execute_result"
    }
   ],
   "source": [
    "5 < 22 < 4"
   ]
  },
  {
   "cell_type": "markdown",
   "id": "713db602-7c67-425a-a6ba-4b1560bedafa",
   "metadata": {},
   "source": [
    "# or, and, not"
   ]
  },
  {
   "cell_type": "code",
   "execution_count": 50,
   "id": "d4e26c6f-3d2d-4f59-973a-669c05110c94",
   "metadata": {},
   "outputs": [
    {
     "data": {
      "text/plain": [
       "(True, False, False, False)"
      ]
     },
     "execution_count": 50,
     "metadata": {},
     "output_type": "execute_result"
    }
   ],
   "source": [
    "# Tabla de verdad del and\n",
    "True and True, True and False, False and True, False and False"
   ]
  },
  {
   "cell_type": "code",
   "execution_count": 51,
   "id": "0e981fbd-3162-42ca-96cd-2e77f1dfd2e7",
   "metadata": {},
   "outputs": [
    {
     "data": {
      "text/plain": [
       "(True, True, True, False)"
      ]
     },
     "execution_count": 51,
     "metadata": {},
     "output_type": "execute_result"
    }
   ],
   "source": [
    "# Tabla de verdad del or\n",
    "True or True, True or False, False or True, False or False"
   ]
  },
  {
   "cell_type": "code",
   "execution_count": 52,
   "id": "8004a35d-a3d4-4616-9acb-10adbd7189fc",
   "metadata": {},
   "outputs": [
    {
     "data": {
      "text/plain": [
       "(False, True)"
      ]
     },
     "execution_count": 52,
     "metadata": {},
     "output_type": "execute_result"
    }
   ],
   "source": [
    "#Tabla de verdad del not\n",
    "not True, not False"
   ]
  },
  {
   "cell_type": "code",
   "execution_count": 53,
   "id": "9a31d4aa-ed10-4abf-9600-6b6feb411f8d",
   "metadata": {},
   "outputs": [
    {
     "data": {
      "text/plain": [
       "True"
      ]
     },
     "execution_count": 53,
     "metadata": {},
     "output_type": "execute_result"
    }
   ],
   "source": [
    "#3 < 5 < 10\n",
    "3 < 5 and 5 < 10"
   ]
  },
  {
   "cell_type": "code",
   "execution_count": 54,
   "id": "eae4b8b5-8bc6-4b69-b5d8-74c70e2423b8",
   "metadata": {},
   "outputs": [
    {
     "data": {
      "text/plain": [
       "False"
      ]
     },
     "execution_count": 54,
     "metadata": {},
     "output_type": "execute_result"
    }
   ],
   "source": [
    "3 < 8 < 5"
   ]
  },
  {
   "cell_type": "code",
   "execution_count": 55,
   "id": "14fd3fc2-b7b0-4313-864b-c7f7ce11fc45",
   "metadata": {},
   "outputs": [
    {
     "data": {
      "text/plain": [
       "False"
      ]
     },
     "execution_count": 55,
     "metadata": {},
     "output_type": "execute_result"
    }
   ],
   "source": [
    "3 < 8 and 8 < 5"
   ]
  },
  {
   "cell_type": "code",
   "execution_count": 57,
   "id": "1b81f0f8-8264-481b-9db7-838e62cb9ebd",
   "metadata": {},
   "outputs": [
    {
     "data": {
      "text/plain": [
       "False"
      ]
     },
     "execution_count": 57,
     "metadata": {},
     "output_type": "execute_result"
    }
   ],
   "source": [
    "c = \"hola mundo\"\n",
    "len(c) >= 10 and c[0] == \"H\""
   ]
  },
  {
   "cell_type": "markdown",
   "id": "8d69617e-2bc4-4988-9ffb-e5587489b5e9",
   "metadata": {},
   "source": [
    "# Controladores de flujo\n",
    "\n",
    "Son estructuras de control condicionada. Nos permite evaluar si una o más condiciones se cumplen, para decidir qué acciones se van a ejecutar \n",
    "Nótese que la evaluación de condiciones sólo puede dar como resultado un boolean\n",
    "\n",
    "Los posibles controladores de flujo son:\n",
    "- if\n",
    "- elif\n",
    "- else\n",
    "- while\n",
    "- for"
   ]
  },
  {
   "cell_type": "markdown",
   "id": "d89b292e-9ba8-4a95-a4bf-0e95abcd31c7",
   "metadata": {},
   "source": [
    "# Sentencia if\n",
    "\n",
    "El if se ejecuta siempre que la expresión que la acompañe sea True"
   ]
  },
  {
   "cell_type": "code",
   "execution_count": 58,
   "id": "9a45e406-cb72-49d8-ae2e-6a805da7eabd",
   "metadata": {},
   "outputs": [
    {
     "name": "stdout",
     "output_type": "stream",
     "text": [
      "entro al if\n",
      "The history saving thread hit an unexpected error (OperationalError('attempt to write a readonly database')).History will not be written to the database.\n"
     ]
    }
   ],
   "source": [
    "if True:\n",
    "    print(\"entro al if\")"
   ]
  },
  {
   "cell_type": "code",
   "execution_count": 59,
   "id": "de3f85ba-78f2-4de9-9aa7-8fe6145f116b",
   "metadata": {},
   "outputs": [
    {
     "name": "stdout",
     "output_type": "stream",
     "text": [
      "entró al if\n"
     ]
    }
   ],
   "source": [
    "a = 2\n",
    "\n",
    "if a > 0:\n",
    "    print(\"entró al if\")"
   ]
  },
  {
   "cell_type": "code",
   "execution_count": 60,
   "id": "9dea7faa-de63-49dd-97b1-ac3222d3d60f",
   "metadata": {},
   "outputs": [
    {
     "name": "stdout",
     "output_type": "stream",
     "text": [
      "entró al if\n"
     ]
    }
   ],
   "source": [
    "a = 2\n",
    "\n",
    "if a > 0:\n",
    "    print(\"entró al if\")"
   ]
  },
  {
   "cell_type": "code",
   "execution_count": 61,
   "id": "c4accea7-4194-4001-aecf-a8166c1c7442",
   "metadata": {},
   "outputs": [
    {
     "name": "stdout",
     "output_type": "stream",
     "text": [
      "pos a no es mayor que 5\n"
     ]
    }
   ],
   "source": [
    "a = 5 \n",
    "if a > 5:\n",
    "    print(\" a mayor que 5\")\n",
    "else:\n",
    "    print (\"pos a no es mayor que 5\")"
   ]
  },
  {
   "cell_type": "code",
   "execution_count": 63,
   "id": "ae3b8d69-c509-44bd-a399-957bfb11cf02",
   "metadata": {},
   "outputs": [
    {
     "name": "stdout",
     "output_type": "stream",
     "text": [
      " a mayor que 5\n"
     ]
    }
   ],
   "source": [
    "a = 10 \n",
    "if a > 5:\n",
    "    print(\" a mayor que 5\")\n",
    "else:\n",
    "    print (\"pos a no es mayor que 5\")"
   ]
  },
  {
   "cell_type": "code",
   "execution_count": 64,
   "id": "e0c4fe33-698d-4959-b54d-e28ef26cf789",
   "metadata": {},
   "outputs": [
    {
     "name": "stdout",
     "output_type": "stream",
     "text": [
      " a mayor que 5\n"
     ]
    }
   ],
   "source": [
    "a = 10 \n",
    "if a > 5:\n",
    "    print(\" a mayor que 5\")\n",
    "else:\n",
    "    print (\"pos a no es mayor que 5\")\n",
    "    print (\"código después del if\")"
   ]
  },
  {
   "cell_type": "code",
   "execution_count": 65,
   "id": "ee15925b-faf5-442a-9bdb-083eb7fca11f",
   "metadata": {},
   "outputs": [
    {
     "name": "stdout",
     "output_type": "stream",
     "text": [
      " a es par\n",
      "hay que seguirle\n"
     ]
    }
   ],
   "source": [
    "lista = [5, 7, 9 ,10]\n",
    "a, b = 8, 17\n",
    "\n",
    "if a in lista:\n",
    "    print(\"a en la lista\")\n",
    "elif a % 2 == 0:\n",
    "    print(\" a es par\")\n",
    "else:\n",
    "    print(\" pos ya nadota\")\n",
    "\n",
    "print(\"hay que seguirle\")"
   ]
  },
  {
   "cell_type": "code",
   "execution_count": 66,
   "id": "f6dd9bf9-068b-484d-b717-5337b4ff18a6",
   "metadata": {},
   "outputs": [
    {
     "name": "stdout",
     "output_type": "stream",
     "text": [
      "no\n"
     ]
    }
   ],
   "source": [
    "a = 5 \n",
    "if a % 2 == 0:\n",
    "    print(\"a es par\")\n",
    "else:\n",
    "    print(\"no\")"
   ]
  },
  {
   "cell_type": "code",
   "execution_count": null,
   "id": "ff4e9797-2c56-4750-b066-fb8a2cd78e83",
   "metadata": {},
   "outputs": [],
   "source": []
  }
 ],
 "metadata": {
  "kernelspec": {
   "display_name": "Python 3 (ipykernel)",
   "language": "python",
   "name": "python3"
  },
  "language_info": {
   "codemirror_mode": {
    "name": "ipython",
    "version": 3
   },
   "file_extension": ".py",
   "mimetype": "text/x-python",
   "name": "python",
   "nbconvert_exporter": "python",
   "pygments_lexer": "ipython3",
   "version": "3.11.1"
  }
 },
 "nbformat": 4,
 "nbformat_minor": 5
}
