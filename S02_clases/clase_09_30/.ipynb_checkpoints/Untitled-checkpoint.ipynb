{
 "cells": [
  {
   "cell_type": "code",
   "execution_count": null,
   "id": "390718e7",
   "metadata": {
    "scrolled": true
   },
   "outputs": [],
   "source": [
    "pip install mne"
   ]
  },
  {
   "cell_type": "code",
   "execution_count": 2,
   "id": "04a44979-2663-4f53-b329-322edb18a4f5",
   "metadata": {
    "scrolled": true
   },
   "outputs": [
    {
     "name": "stdout",
     "output_type": "stream",
     "text": [
      "Requirement already satisfied: mne-connectivity in c:\\users\\omen ci7\\appdata\\local\\programs\\python\\python310\\lib\\site-packages (0.7.0)\n",
      "Requirement already satisfied: mne>=1.6 in c:\\users\\omen ci7\\appdata\\local\\programs\\python\\python310\\lib\\site-packages (from mne-connectivity) (1.10.1)\n",
      "Requirement already satisfied: tqdm in c:\\users\\omen ci7\\appdata\\local\\programs\\python\\python310\\lib\\site-packages (from mne-connectivity) (4.67.1)\n",
      "Requirement already satisfied: numpy>=1.21 in c:\\users\\omen ci7\\appdata\\local\\programs\\python\\python310\\lib\\site-packages (from mne-connectivity) (2.2.5)\n",
      "Requirement already satisfied: pandas>=1.3.2 in c:\\users\\omen ci7\\appdata\\local\\programs\\python\\python310\\lib\\site-packages (from mne-connectivity) (2.2.3)\n",
      "Requirement already satisfied: scipy>=1.4.0 in c:\\users\\omen ci7\\appdata\\local\\programs\\python\\python310\\lib\\site-packages (from mne-connectivity) (1.15.3)\n",
      "Requirement already satisfied: xarray>=2023.11.0 in c:\\users\\omen ci7\\appdata\\local\\programs\\python\\python310\\lib\\site-packages (from mne-connectivity) (2025.6.1)\n",
      "Requirement already satisfied: netCDF4>=1.6.5 in c:\\users\\omen ci7\\appdata\\local\\programs\\python\\python310\\lib\\site-packages (from mne-connectivity) (1.7.2)\n",
      "Requirement already satisfied: jinja2 in c:\\users\\omen ci7\\appdata\\local\\programs\\python\\python310\\lib\\site-packages (from mne>=1.6->mne-connectivity) (3.1.6)\n",
      "Requirement already satisfied: decorator in c:\\users\\omen ci7\\appdata\\local\\programs\\python\\python310\\lib\\site-packages (from mne>=1.6->mne-connectivity) (5.2.1)\n",
      "Requirement already satisfied: pooch>=1.5 in c:\\users\\omen ci7\\appdata\\local\\programs\\python\\python310\\lib\\site-packages (from mne>=1.6->mne-connectivity) (1.8.2)\n",
      "Requirement already satisfied: packaging in c:\\users\\omen ci7\\appdata\\local\\programs\\python\\python310\\lib\\site-packages (from mne>=1.6->mne-connectivity) (25.0)\n",
      "Requirement already satisfied: matplotlib>=3.7 in c:\\users\\omen ci7\\appdata\\local\\programs\\python\\python310\\lib\\site-packages (from mne>=1.6->mne-connectivity) (3.10.3)\n",
      "Requirement already satisfied: lazy-loader>=0.3 in c:\\users\\omen ci7\\appdata\\local\\programs\\python\\python310\\lib\\site-packages (from mne>=1.6->mne-connectivity) (0.4)\n",
      "Requirement already satisfied: certifi in c:\\users\\omen ci7\\appdata\\local\\programs\\python\\python310\\lib\\site-packages (from netCDF4>=1.6.5->mne-connectivity) (2025.4.26)\n",
      "Requirement already satisfied: cftime in c:\\users\\omen ci7\\appdata\\local\\programs\\python\\python310\\lib\\site-packages (from netCDF4>=1.6.5->mne-connectivity) (1.6.4.post1)\n",
      "Requirement already satisfied: tzdata>=2022.7 in c:\\users\\omen ci7\\appdata\\local\\programs\\python\\python310\\lib\\site-packages (from pandas>=1.3.2->mne-connectivity) (2025.2)\n",
      "Requirement already satisfied: python-dateutil>=2.8.2 in c:\\users\\omen ci7\\appdata\\local\\programs\\python\\python310\\lib\\site-packages (from pandas>=1.3.2->mne-connectivity) (2.8.2)\n",
      "Requirement already satisfied: pytz>=2020.1 in c:\\users\\omen ci7\\appdata\\local\\programs\\python\\python310\\lib\\site-packages (from pandas>=1.3.2->mne-connectivity) (2025.2)\n",
      "Requirement already satisfied: colorama in c:\\users\\omen ci7\\appdata\\local\\programs\\python\\python310\\lib\\site-packages (from tqdm->mne-connectivity) (0.4.6)\n",
      "Requirement already satisfied: contourpy>=1.0.1 in c:\\users\\omen ci7\\appdata\\local\\programs\\python\\python310\\lib\\site-packages (from matplotlib>=3.7->mne>=1.6->mne-connectivity) (1.3.2)\n",
      "Requirement already satisfied: cycler>=0.10 in c:\\users\\omen ci7\\appdata\\local\\programs\\python\\python310\\lib\\site-packages (from matplotlib>=3.7->mne>=1.6->mne-connectivity) (0.11.0)\n",
      "Requirement already satisfied: pyparsing>=2.3.1 in c:\\users\\omen ci7\\appdata\\local\\programs\\python\\python310\\lib\\site-packages (from matplotlib>=3.7->mne>=1.6->mne-connectivity) (3.0.9)\n",
      "Requirement already satisfied: pillow>=8 in c:\\users\\omen ci7\\appdata\\local\\programs\\python\\python310\\lib\\site-packages (from matplotlib>=3.7->mne>=1.6->mne-connectivity) (9.1.1)\n",
      "Requirement already satisfied: fonttools>=4.22.0 in c:\\users\\omen ci7\\appdata\\local\\programs\\python\\python310\\lib\\site-packages (from matplotlib>=3.7->mne>=1.6->mne-connectivity) (4.33.3)\n",
      "Requirement already satisfied: kiwisolver>=1.3.1 in c:\\users\\omen ci7\\appdata\\local\\programs\\python\\python310\\lib\\site-packages (from matplotlib>=3.7->mne>=1.6->mne-connectivity) (1.4.2)\n",
      "Requirement already satisfied: platformdirs>=2.5.0 in c:\\users\\omen ci7\\appdata\\local\\programs\\python\\python310\\lib\\site-packages (from pooch>=1.5->mne>=1.6->mne-connectivity) (4.3.8)\n",
      "Requirement already satisfied: requests>=2.19.0 in c:\\users\\omen ci7\\appdata\\local\\programs\\python\\python310\\lib\\site-packages (from pooch>=1.5->mne>=1.6->mne-connectivity) (2.32.3)\n",
      "Requirement already satisfied: six>=1.5 in c:\\users\\omen ci7\\appdata\\local\\programs\\python\\python310\\lib\\site-packages (from python-dateutil>=2.8.2->pandas>=1.3.2->mne-connectivity) (1.16.0)\n",
      "Requirement already satisfied: MarkupSafe>=2.0 in c:\\users\\omen ci7\\appdata\\local\\programs\\python\\python310\\lib\\site-packages (from jinja2->mne>=1.6->mne-connectivity) (3.0.2)\n",
      "Requirement already satisfied: urllib3<3,>=1.21.1 in c:\\users\\omen ci7\\appdata\\local\\programs\\python\\python310\\lib\\site-packages (from requests>=2.19.0->pooch>=1.5->mne>=1.6->mne-connectivity) (2.4.0)\n",
      "Requirement already satisfied: idna<4,>=2.5 in c:\\users\\omen ci7\\appdata\\local\\programs\\python\\python310\\lib\\site-packages (from requests>=2.19.0->pooch>=1.5->mne>=1.6->mne-connectivity) (3.10)\n",
      "Requirement already satisfied: charset-normalizer<4,>=2 in c:\\users\\omen ci7\\appdata\\local\\programs\\python\\python310\\lib\\site-packages (from requests>=2.19.0->pooch>=1.5->mne>=1.6->mne-connectivity) (3.4.2)\n",
      "Note: you may need to restart the kernel to use updated packages.\n"
     ]
    },
    {
     "name": "stderr",
     "output_type": "stream",
     "text": [
      "WARNING: You are using pip version 22.0.4; however, version 25.2 is available.\n",
      "You should consider upgrading via the 'C:\\Users\\OMEN CI7\\AppData\\Local\\Programs\\Python\\Python310\\python.exe -m pip install --upgrade pip' command.\n"
     ]
    }
   ],
   "source": [
    "pip install -U mne-connectivity"
   ]
  },
  {
   "cell_type": "code",
   "execution_count": 3,
   "id": "3450587a",
   "metadata": {},
   "outputs": [
    {
     "ename": "ModuleNotFoundError",
     "evalue": "No module named 'mne.connectivity'",
     "output_type": "error",
     "traceback": [
      "\u001b[1;31m---------------------------------------------------------------------------\u001b[0m",
      "\u001b[1;31mModuleNotFoundError\u001b[0m                       Traceback (most recent call last)",
      "Cell \u001b[1;32mIn[3], line 3\u001b[0m\n\u001b[0;32m      1\u001b[0m \u001b[38;5;28;01mimport\u001b[39;00m\u001b[38;5;250m \u001b[39m\u001b[38;5;21;01mnumpy\u001b[39;00m\u001b[38;5;250m \u001b[39m\u001b[38;5;28;01mas\u001b[39;00m\u001b[38;5;250m \u001b[39m\u001b[38;5;21;01mnp\u001b[39;00m\n\u001b[0;32m      2\u001b[0m \u001b[38;5;28;01mimport\u001b[39;00m\u001b[38;5;250m \u001b[39m\u001b[38;5;21;01mmne\u001b[39;00m\n\u001b[1;32m----> 3\u001b[0m \u001b[38;5;28;01mfrom\u001b[39;00m\u001b[38;5;250m \u001b[39m\u001b[38;5;21;01mmne\u001b[39;00m\u001b[38;5;21;01m.\u001b[39;00m\u001b[38;5;21;01mconnectivity\u001b[39;00m\u001b[38;5;250m \u001b[39m\u001b[38;5;28;01mimport\u001b[39;00m spectral_connectivity\n\u001b[0;32m      4\u001b[0m \u001b[38;5;28;01mfrom\u001b[39;00m\u001b[38;5;250m \u001b[39m\u001b[38;5;21;01mscipy\u001b[39;00m\u001b[38;5;21;01m.\u001b[39;00m\u001b[38;5;21;01mstats\u001b[39;00m\u001b[38;5;250m \u001b[39m\u001b[38;5;28;01mimport\u001b[39;00m pearsonr\n\u001b[0;32m      5\u001b[0m \u001b[38;5;28;01mfrom\u001b[39;00m\u001b[38;5;250m \u001b[39m\u001b[38;5;21;01mscipy\u001b[39;00m\u001b[38;5;21;01m.\u001b[39;00m\u001b[38;5;21;01msignal\u001b[39;00m\u001b[38;5;250m \u001b[39m\u001b[38;5;28;01mimport\u001b[39;00m hilbert\n",
      "\u001b[1;31mModuleNotFoundError\u001b[0m: No module named 'mne.connectivity'"
     ]
    }
   ],
   "source": [
    "import numpy as np\n",
    "import mne\n",
    "from mne.connectivity import spectral_connectivity\n",
    "from scipy.stats import pearsonr\n",
    "from scipy.signal import hilbert"
   ]
  },
  {
   "cell_type": "code",
   "execution_count": null,
   "id": "2bd5dc5d",
   "metadata": {},
   "outputs": [],
   "source": [
    "ruta_archivo = r\"C:\\Users\\OMEN CI7\\Documents\\repository\\Neurociencias-2026-1\\S03_datasets\\S001R01.edf\"\n",
    "raw = mne.io.read_raw_edf(ruta_archivo, preload=True)\n",
    "raw.pick_types(eeg=True)  # solo canales EEG\n",
    "\n",
    "# Extraer datos (canales x tiempo)\n",
    "data = raw.get_data()\n",
    "\n",
    "n_channels = data.shape[0]"
   ]
  }
 ],
 "metadata": {
  "kernelspec": {
   "display_name": "Python 3 (ipykernel)",
   "language": "python",
   "name": "python3"
  },
  "language_info": {
   "codemirror_mode": {
    "name": "ipython",
    "version": 3
   },
   "file_extension": ".py",
   "mimetype": "text/x-python",
   "name": "python",
   "nbconvert_exporter": "python",
   "pygments_lexer": "ipython3",
   "version": "3.10.4"
  }
 },
 "nbformat": 4,
 "nbformat_minor": 5
}
