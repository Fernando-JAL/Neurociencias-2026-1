{
 "cells": [
  {
   "cell_type": "code",
   "execution_count": 23,
   "id": "0e2a3e5e-a655-422a-8ae3-58d60ce07ebd",
   "metadata": {},
   "outputs": [],
   "source": [
    "import pandas as pd "
   ]
  },
  {
   "cell_type": "code",
   "execution_count": 24,
   "id": "dfa93850-8e8e-4207-8c4b-0fbd3992cfb2",
   "metadata": {},
   "outputs": [],
   "source": [
    "excel_path_file = r\"C:\\Users\\Ana-Sophia Redstone\\OneDrive\\Documents\\GitHub\\Neurociencias-2026-1\\S03_datasets\\EEG.xlsx\""
   ]
  },
  {
   "cell_type": "code",
   "execution_count": 25,
   "id": "2c4f4834-5b28-4cdf-b2f0-84a38d1e4f4b",
   "metadata": {},
   "outputs": [],
   "source": [
    "excel_dict = pd.read_excel(excel_path_file, sheet_name = \"coherence_chbmit_interictal\") ; "
   ]
  },
  {
   "cell_type": "code",
   "execution_count": 26,
   "id": "91e96bc2-1b88-4e35-be27-54c4d9f6f793",
   "metadata": {},
   "outputs": [],
   "source": [
    "excel_file_dict = pd.read_excel(excel_path_file, sheet_name =None ) ; "
   ]
  },
  {
   "cell_type": "code",
   "execution_count": 27,
   "id": "8dec179d-0263-4a86-a421-b8eebc974c98",
   "metadata": {},
   "outputs": [
    {
     "data": {
      "text/plain": [
       "dict"
      ]
     },
     "execution_count": 27,
     "metadata": {},
     "output_type": "execute_result"
    }
   ],
   "source": [
    "type (excel_file_dict) "
   ]
  },
  {
   "cell_type": "code",
   "execution_count": 28,
   "id": "9970adae-e2a1-49a8-8b18-7c6eacd5e27f",
   "metadata": {},
   "outputs": [
    {
     "data": {
      "text/plain": [
       "dict_keys(['coherence_motorimagery_alpha', 'coherence_chbmit_interictal', 'coherence_chbmit_ictal'])"
      ]
     },
     "execution_count": 28,
     "metadata": {},
     "output_type": "execute_result"
    }
   ],
   "source": [
    "excel_file_dict.keys()"
   ]
  },
  {
   "cell_type": "code",
   "execution_count": 29,
   "id": "5fb2a837-780b-4808-97e8-baa3beebd558",
   "metadata": {},
   "outputs": [
    {
     "data": {
      "text/html": [
       "<div>\n",
       "<style scoped>\n",
       "    .dataframe tbody tr th:only-of-type {\n",
       "        vertical-align: middle;\n",
       "    }\n",
       "\n",
       "    .dataframe tbody tr th {\n",
       "        vertical-align: top;\n",
       "    }\n",
       "\n",
       "    .dataframe thead th {\n",
       "        text-align: right;\n",
       "    }\n",
       "</style>\n",
       "<table border=\"1\" class=\"dataframe\">\n",
       "  <thead>\n",
       "    <tr style=\"text-align: right;\">\n",
       "      <th></th>\n",
       "      <th>Unnamed: 0</th>\n",
       "      <th>FP1</th>\n",
       "      <th>F7</th>\n",
       "      <th>T3</th>\n",
       "      <th>C3</th>\n",
       "      <th>C4</th>\n",
       "      <th>T4</th>\n",
       "      <th>F8</th>\n",
       "      <th>FP2</th>\n",
       "    </tr>\n",
       "  </thead>\n",
       "  <tbody>\n",
       "    <tr>\n",
       "      <th>0</th>\n",
       "      <td>FP1</td>\n",
       "      <td>1.00</td>\n",
       "      <td>0.48</td>\n",
       "      <td>0.42</td>\n",
       "      <td>0.35</td>\n",
       "      <td>0.32</td>\n",
       "      <td>0.30</td>\n",
       "      <td>0.20</td>\n",
       "      <td>0.18</td>\n",
       "    </tr>\n",
       "    <tr>\n",
       "      <th>1</th>\n",
       "      <td>F7</td>\n",
       "      <td>0.48</td>\n",
       "      <td>1.00</td>\n",
       "      <td>0.45</td>\n",
       "      <td>0.38</td>\n",
       "      <td>0.35</td>\n",
       "      <td>0.33</td>\n",
       "      <td>0.22</td>\n",
       "      <td>0.20</td>\n",
       "    </tr>\n",
       "    <tr>\n",
       "      <th>2</th>\n",
       "      <td>T3</td>\n",
       "      <td>0.42</td>\n",
       "      <td>0.45</td>\n",
       "      <td>1.00</td>\n",
       "      <td>0.58</td>\n",
       "      <td>0.52</td>\n",
       "      <td>0.48</td>\n",
       "      <td>0.28</td>\n",
       "      <td>0.26</td>\n",
       "    </tr>\n",
       "    <tr>\n",
       "      <th>3</th>\n",
       "      <td>C3</td>\n",
       "      <td>0.35</td>\n",
       "      <td>0.38</td>\n",
       "      <td>0.58</td>\n",
       "      <td>1.00</td>\n",
       "      <td>0.60</td>\n",
       "      <td>0.55</td>\n",
       "      <td>0.30</td>\n",
       "      <td>0.28</td>\n",
       "    </tr>\n",
       "    <tr>\n",
       "      <th>4</th>\n",
       "      <td>C4</td>\n",
       "      <td>0.32</td>\n",
       "      <td>0.35</td>\n",
       "      <td>0.52</td>\n",
       "      <td>0.60</td>\n",
       "      <td>1.00</td>\n",
       "      <td>0.62</td>\n",
       "      <td>0.33</td>\n",
       "      <td>0.30</td>\n",
       "    </tr>\n",
       "    <tr>\n",
       "      <th>5</th>\n",
       "      <td>T4</td>\n",
       "      <td>0.30</td>\n",
       "      <td>0.33</td>\n",
       "      <td>0.48</td>\n",
       "      <td>0.55</td>\n",
       "      <td>0.62</td>\n",
       "      <td>1.00</td>\n",
       "      <td>0.31</td>\n",
       "      <td>0.29</td>\n",
       "    </tr>\n",
       "    <tr>\n",
       "      <th>6</th>\n",
       "      <td>F8</td>\n",
       "      <td>0.20</td>\n",
       "      <td>0.22</td>\n",
       "      <td>0.28</td>\n",
       "      <td>0.30</td>\n",
       "      <td>0.33</td>\n",
       "      <td>0.31</td>\n",
       "      <td>1.00</td>\n",
       "      <td>0.45</td>\n",
       "    </tr>\n",
       "    <tr>\n",
       "      <th>7</th>\n",
       "      <td>FP2</td>\n",
       "      <td>0.18</td>\n",
       "      <td>0.20</td>\n",
       "      <td>0.26</td>\n",
       "      <td>0.28</td>\n",
       "      <td>0.30</td>\n",
       "      <td>0.29</td>\n",
       "      <td>0.45</td>\n",
       "      <td>1.00</td>\n",
       "    </tr>\n",
       "  </tbody>\n",
       "</table>\n",
       "</div>"
      ],
      "text/plain": [
       "  Unnamed: 0   FP1    F7    T3    C3    C4    T4    F8   FP2\n",
       "0        FP1  1.00  0.48  0.42  0.35  0.32  0.30  0.20  0.18\n",
       "1         F7  0.48  1.00  0.45  0.38  0.35  0.33  0.22  0.20\n",
       "2         T3  0.42  0.45  1.00  0.58  0.52  0.48  0.28  0.26\n",
       "3         C3  0.35  0.38  0.58  1.00  0.60  0.55  0.30  0.28\n",
       "4         C4  0.32  0.35  0.52  0.60  1.00  0.62  0.33  0.30\n",
       "5         T4  0.30  0.33  0.48  0.55  0.62  1.00  0.31  0.29\n",
       "6         F8  0.20  0.22  0.28  0.30  0.33  0.31  1.00  0.45\n",
       "7        FP2  0.18  0.20  0.26  0.28  0.30  0.29  0.45  1.00"
      ]
     },
     "execution_count": 29,
     "metadata": {},
     "output_type": "execute_result"
    }
   ],
   "source": [
    "excel_file_dict['coherence_chbmit_ictal']"
   ]
  },
  {
   "cell_type": "code",
   "execution_count": 31,
   "id": "646a0767-c942-4c80-af84-ed92e80a67c7",
   "metadata": {},
   "outputs": [],
   "source": [
    "variable = excel_file_dict['coherence_chbmit_ictal']"
   ]
  },
  {
   "cell_type": "code",
   "execution_count": 32,
   "id": "73959b04-9ca3-49cb-988b-034e3de8dbdd",
   "metadata": {},
   "outputs": [
    {
     "data": {
      "text/html": [
       "<div>\n",
       "<style scoped>\n",
       "    .dataframe tbody tr th:only-of-type {\n",
       "        vertical-align: middle;\n",
       "    }\n",
       "\n",
       "    .dataframe tbody tr th {\n",
       "        vertical-align: top;\n",
       "    }\n",
       "\n",
       "    .dataframe thead th {\n",
       "        text-align: right;\n",
       "    }\n",
       "</style>\n",
       "<table border=\"1\" class=\"dataframe\">\n",
       "  <thead>\n",
       "    <tr style=\"text-align: right;\">\n",
       "      <th></th>\n",
       "      <th>Unnamed: 0</th>\n",
       "      <th>FP1</th>\n",
       "      <th>F7</th>\n",
       "      <th>T3</th>\n",
       "      <th>C3</th>\n",
       "      <th>C4</th>\n",
       "      <th>T4</th>\n",
       "      <th>F8</th>\n",
       "      <th>FP2</th>\n",
       "    </tr>\n",
       "  </thead>\n",
       "  <tbody>\n",
       "    <tr>\n",
       "      <th>0</th>\n",
       "      <td>FP1</td>\n",
       "      <td>1.00</td>\n",
       "      <td>0.48</td>\n",
       "      <td>0.42</td>\n",
       "      <td>0.35</td>\n",
       "      <td>0.32</td>\n",
       "      <td>0.30</td>\n",
       "      <td>0.20</td>\n",
       "      <td>0.18</td>\n",
       "    </tr>\n",
       "    <tr>\n",
       "      <th>1</th>\n",
       "      <td>F7</td>\n",
       "      <td>0.48</td>\n",
       "      <td>1.00</td>\n",
       "      <td>0.45</td>\n",
       "      <td>0.38</td>\n",
       "      <td>0.35</td>\n",
       "      <td>0.33</td>\n",
       "      <td>0.22</td>\n",
       "      <td>0.20</td>\n",
       "    </tr>\n",
       "    <tr>\n",
       "      <th>2</th>\n",
       "      <td>T3</td>\n",
       "      <td>0.42</td>\n",
       "      <td>0.45</td>\n",
       "      <td>1.00</td>\n",
       "      <td>0.58</td>\n",
       "      <td>0.52</td>\n",
       "      <td>0.48</td>\n",
       "      <td>0.28</td>\n",
       "      <td>0.26</td>\n",
       "    </tr>\n",
       "    <tr>\n",
       "      <th>3</th>\n",
       "      <td>C3</td>\n",
       "      <td>0.35</td>\n",
       "      <td>0.38</td>\n",
       "      <td>0.58</td>\n",
       "      <td>1.00</td>\n",
       "      <td>0.60</td>\n",
       "      <td>0.55</td>\n",
       "      <td>0.30</td>\n",
       "      <td>0.28</td>\n",
       "    </tr>\n",
       "    <tr>\n",
       "      <th>4</th>\n",
       "      <td>C4</td>\n",
       "      <td>0.32</td>\n",
       "      <td>0.35</td>\n",
       "      <td>0.52</td>\n",
       "      <td>0.60</td>\n",
       "      <td>1.00</td>\n",
       "      <td>0.62</td>\n",
       "      <td>0.33</td>\n",
       "      <td>0.30</td>\n",
       "    </tr>\n",
       "    <tr>\n",
       "      <th>5</th>\n",
       "      <td>T4</td>\n",
       "      <td>0.30</td>\n",
       "      <td>0.33</td>\n",
       "      <td>0.48</td>\n",
       "      <td>0.55</td>\n",
       "      <td>0.62</td>\n",
       "      <td>1.00</td>\n",
       "      <td>0.31</td>\n",
       "      <td>0.29</td>\n",
       "    </tr>\n",
       "    <tr>\n",
       "      <th>6</th>\n",
       "      <td>F8</td>\n",
       "      <td>0.20</td>\n",
       "      <td>0.22</td>\n",
       "      <td>0.28</td>\n",
       "      <td>0.30</td>\n",
       "      <td>0.33</td>\n",
       "      <td>0.31</td>\n",
       "      <td>1.00</td>\n",
       "      <td>0.45</td>\n",
       "    </tr>\n",
       "    <tr>\n",
       "      <th>7</th>\n",
       "      <td>FP2</td>\n",
       "      <td>0.18</td>\n",
       "      <td>0.20</td>\n",
       "      <td>0.26</td>\n",
       "      <td>0.28</td>\n",
       "      <td>0.30</td>\n",
       "      <td>0.29</td>\n",
       "      <td>0.45</td>\n",
       "      <td>1.00</td>\n",
       "    </tr>\n",
       "  </tbody>\n",
       "</table>\n",
       "</div>"
      ],
      "text/plain": [
       "  Unnamed: 0   FP1    F7    T3    C3    C4    T4    F8   FP2\n",
       "0        FP1  1.00  0.48  0.42  0.35  0.32  0.30  0.20  0.18\n",
       "1         F7  0.48  1.00  0.45  0.38  0.35  0.33  0.22  0.20\n",
       "2         T3  0.42  0.45  1.00  0.58  0.52  0.48  0.28  0.26\n",
       "3         C3  0.35  0.38  0.58  1.00  0.60  0.55  0.30  0.28\n",
       "4         C4  0.32  0.35  0.52  0.60  1.00  0.62  0.33  0.30\n",
       "5         T4  0.30  0.33  0.48  0.55  0.62  1.00  0.31  0.29\n",
       "6         F8  0.20  0.22  0.28  0.30  0.33  0.31  1.00  0.45\n",
       "7        FP2  0.18  0.20  0.26  0.28  0.30  0.29  0.45  1.00"
      ]
     },
     "execution_count": 32,
     "metadata": {},
     "output_type": "execute_result"
    }
   ],
   "source": [
    "variable"
   ]
  },
  {
   "cell_type": "code",
   "execution_count": 33,
   "id": "d5503396-bd13-4687-b179-1800e60119c8",
   "metadata": {},
   "outputs": [],
   "source": [
    "# tarea buscar que es la conectividad efectiva y funconal y busca diferentes tipos de metricas para la construcción de la matriz de conectividad "
   ]
  },
  {
   "cell_type": "code",
   "execution_count": null,
   "id": "9db4ec8b-4bb0-4f44-a370-0725c4b09090",
   "metadata": {},
   "outputs": [],
   "source": []
  }
 ],
 "metadata": {
  "kernelspec": {
   "display_name": "Python 3 (ipykernel)",
   "language": "python",
   "name": "python3"
  },
  "language_info": {
   "codemirror_mode": {
    "name": "ipython",
    "version": 3
   },
   "file_extension": ".py",
   "mimetype": "text/x-python",
   "name": "python",
   "nbconvert_exporter": "python",
   "pygments_lexer": "ipython3",
   "version": "3.10.4"
  }
 },
 "nbformat": 4,
 "nbformat_minor": 5
}
