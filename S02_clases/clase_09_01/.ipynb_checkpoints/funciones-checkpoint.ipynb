{
 "cells": [
  {
   "cell_type": "code",
   "execution_count": 1,
   "id": "396e0414-c9b3-4c06-9593-b88812f10993",
   "metadata": {},
   "outputs": [
    {
     "data": {
      "text/plain": [
       "2.0"
      ]
     },
     "execution_count": 1,
     "metadata": {},
     "output_type": "execute_result"
    }
   ],
   "source": [
    "def division_entre_dos_numeros(dividendo, divisor):\n",
    "    return dividendo / divisor\n",
    "\n",
    "# Llamada de función por posición\n",
    "division_entre_dos_numeros(8, 4)"
   ]
  },
  {
   "cell_type": "code",
   "execution_count": 2,
   "id": "4323b817-ea13-4d58-a83e-5f994d00f19c",
   "metadata": {},
   "outputs": [
    {
     "data": {
      "text/plain": [
       "2.0"
      ]
     },
     "execution_count": 2,
     "metadata": {},
     "output_type": "execute_result"
    }
   ],
   "source": [
    "# LLamada de función por nombre\n",
    "division_entre_dos_numeros(divisor=4, dividendo=8)"
   ]
  },
  {
   "cell_type": "code",
   "execution_count": 3,
   "id": "f2c6a4a5-0674-4260-8c4b-09d8d84797bb",
   "metadata": {},
   "outputs": [
    {
     "data": {
      "text/plain": [
       "2.0"
      ]
     },
     "execution_count": 3,
     "metadata": {},
     "output_type": "execute_result"
    }
   ],
   "source": [
    "# LLamada de función por nombre\n",
    "division_entre_dos_numeros(dividendo=8, divisor=4)"
   ]
  },
  {
   "cell_type": "code",
   "execution_count": 6,
   "id": "8e372409-4b05-4edb-bfca-c6b7558f3753",
   "metadata": {},
   "outputs": [
    {
     "data": {
      "text/plain": [
       "12.0"
      ]
     },
     "execution_count": 6,
     "metadata": {},
     "output_type": "execute_result"
    }
   ],
   "source": [
    "def division_entre_dos_numeros(dividendo, divisor, extra = 0):\n",
    "    return dividendo / divisor + extra\n",
    "\n",
    "# Llamada de función por posición\n",
    "division_entre_dos_numeros(8, 4, 10)"
   ]
  },
  {
   "cell_type": "markdown",
   "id": "6b82b814-87c2-4d6d-bae1-f014226309c1",
   "metadata": {},
   "source": [
    "# Funciones recursivas"
   ]
  },
  {
   "cell_type": "code",
   "execution_count": 11,
   "id": "c9b204fc-da2f-42ef-9fcb-2c14d34a5f3a",
   "metadata": {},
   "outputs": [
    {
     "name": "stdout",
     "output_type": "stream",
     "text": [
      "3\n",
      "2\n",
      "1\n",
      "booom!!!\n",
      "fin de la función 0\n",
      "fin de la función 1\n",
      "fin de la función 2\n",
      "fin de la función 3\n"
     ]
    }
   ],
   "source": [
    "def cuenta_atras(n):\n",
    "    if n > 0:\n",
    "        print(n)\n",
    "        cuenta_atras(n-1)\n",
    "    else:\n",
    "        print(\"booom!!!\")\n",
    "    print(\"fin de la función\", n)\n",
    "\n",
    "cuenta_atras(3)"
   ]
  },
  {
   "cell_type": "markdown",
   "id": "5b7c2457-815f-4273-9b61-bf40a8d85a56",
   "metadata": {},
   "source": [
    "# función print"
   ]
  },
  {
   "cell_type": "code",
   "execution_count": 14,
   "id": "7162f1d5-1230-4436-b21c-ddd694d5ec9f",
   "metadata": {},
   "outputs": [
    {
     "name": "stdout",
     "output_type": "stream",
     "text": [
      "el valor de la variable es 46.2 8\n"
     ]
    }
   ],
   "source": [
    "variable, variable2 = 46.2, 8\n",
    "print(\"el valor de la variable es\", variable, variable2)"
   ]
  },
  {
   "cell_type": "code",
   "execution_count": 16,
   "id": "7160b886-68b3-4645-bf10-44600378da87",
   "metadata": {},
   "outputs": [
    {
     "name": "stdout",
     "output_type": "stream",
     "text": [
      "el valor de la variable es 46.2, 8\n"
     ]
    }
   ],
   "source": [
    "print(f\"el valor de la variable es {variable}, {variable2}\")"
   ]
  },
  {
   "cell_type": "code",
   "execution_count": 19,
   "id": "d2874ee9-40b8-4d64-8f10-140de947bda6",
   "metadata": {},
   "outputs": [
    {
     "name": "stdout",
     "output_type": "stream",
     "text": [
      "el valor de la variable es 46.2, 8\n"
     ]
    }
   ],
   "source": [
    "print(\"el valor de la variable es {}, {}\".format(variable, variable2))"
   ]
  },
  {
   "cell_type": "code",
   "execution_count": 21,
   "id": "e86742c3-1308-4678-9a99-5d9ef7aa33d1",
   "metadata": {},
   "outputs": [
    {
     "name": "stdout",
     "output_type": "stream",
     "text": [
      "el valor de la variable es 8, 46.2\n"
     ]
    }
   ],
   "source": [
    "print(\"el valor de la variable es {1}, {0}\".format(variable, variable2))"
   ]
  },
  {
   "cell_type": "code",
   "execution_count": null,
   "id": "2fbe1f4c-676b-429b-b942-6288af051bb4",
   "metadata": {},
   "outputs": [],
   "source": []
  },
  {
   "cell_type": "code",
   "execution_count": null,
   "id": "ef89b17e-484f-47ca-8ab6-802f1b9d7437",
   "metadata": {},
   "outputs": [],
   "source": []
  },
  {
   "cell_type": "code",
   "execution_count": null,
   "id": "7a750b8c-3eab-4950-80f4-3223b7dbf30d",
   "metadata": {},
   "outputs": [],
   "source": []
  }
 ],
 "metadata": {
  "kernelspec": {
   "display_name": "Python 3 (ipykernel)",
   "language": "python",
   "name": "python3"
  },
  "language_info": {
   "codemirror_mode": {
    "name": "ipython",
    "version": 3
   },
   "file_extension": ".py",
   "mimetype": "text/x-python",
   "name": "python",
   "nbconvert_exporter": "python",
   "pygments_lexer": "ipython3",
   "version": "3.10.4"
  }
 },
 "nbformat": 4,
 "nbformat_minor": 5
}
