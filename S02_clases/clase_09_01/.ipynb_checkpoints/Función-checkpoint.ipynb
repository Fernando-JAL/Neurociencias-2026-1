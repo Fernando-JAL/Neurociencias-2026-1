{
 "cells": [
  {
   "cell_type": "code",
   "execution_count": 7,
   "id": "1468285a-2790-47f7-b4fd-6ea4ef282152",
   "metadata": {},
   "outputs": [],
   "source": [
    "def division(dividendo,divisor):\n",
    "    return dividendo/divisor\n"
   ]
  },
  {
   "cell_type": "code",
   "execution_count": 8,
   "id": "e58ea2e1-8220-41f8-a9d7-40b50387679e",
   "metadata": {},
   "outputs": [
    {
     "data": {
      "text/plain": [
       "5.0"
      ]
     },
     "execution_count": 8,
     "metadata": {},
     "output_type": "execute_result"
    }
   ],
   "source": [
    "division(10,2)"
   ]
  },
  {
   "cell_type": "markdown",
   "id": "3eff9c2a-86cf-47fb-a414-596d7d92196c",
   "metadata": {},
   "source": [
    "## Parámetros por nombre"
   ]
  },
  {
   "cell_type": "code",
   "execution_count": 9,
   "id": "4e7f72f7-b2ad-4172-9dd9-f9cda60ecc06",
   "metadata": {},
   "outputs": [
    {
     "data": {
      "text/plain": [
       "2.0"
      ]
     },
     "execution_count": 9,
     "metadata": {},
     "output_type": "execute_result"
    }
   ],
   "source": [
    "division(divisor=4,dividendo=8)"
   ]
  },
  {
   "cell_type": "code",
   "execution_count": 13,
   "id": "94bc0890-d6dc-4433-a2bd-a1a8c6d7c201",
   "metadata": {},
   "outputs": [
    {
     "data": {
      "text/plain": [
       "5.0"
      ]
     },
     "execution_count": 13,
     "metadata": {},
     "output_type": "execute_result"
    }
   ],
   "source": [
    "def division(dividendo,divisor, extra=0):\n",
    "     return dividendo/divisor+extra\n",
    "\n",
    "division(10,2)"
   ]
  },
  {
   "cell_type": "markdown",
   "id": "33041833-048e-40c6-8cf1-6d19388a89e8",
   "metadata": {},
   "source": [
    "## Funciones recursivas\n",
    "Es una función que se manda a llamar a sí misma"
   ]
  },
  {
   "cell_type": "code",
   "execution_count": 32,
   "id": "9fc4258b-a764-4af6-b15f-755f68d7b06b",
   "metadata": {},
   "outputs": [],
   "source": [
    "def cuenta_atras(n):\n",
    "    if n > 0:\n",
    "        print(n)\n",
    "        cuenta_atras(n-1)\n",
    "    else:\n",
    "        print('booom!!!')\n",
    "    print('fin de la función',n)\n",
    "   \n"
   ]
  },
  {
   "cell_type": "code",
   "execution_count": 33,
   "id": "63daba7c-6e51-4555-999f-149afa521b59",
   "metadata": {},
   "outputs": [
    {
     "name": "stdout",
     "output_type": "stream",
     "text": [
      "5\n",
      "4\n",
      "3\n",
      "2\n",
      "1\n",
      "booom!!!\n",
      "fin de la función 0\n",
      "fin de la función 1\n",
      "fin de la función 2\n",
      "fin de la función 3\n",
      "fin de la función 4\n",
      "fin de la función 5\n"
     ]
    }
   ],
   "source": [
    "cuenta_atras(5)"
   ]
  },
  {
   "cell_type": "markdown",
   "id": "e6e39351-0d29-4608-9f89-a9c85734cf33",
   "metadata": {},
   "source": [
    "### Tarea\n",
    "Hacer factorial con recursividad\n",
    "y suma de factorial"
   ]
  },
  {
   "cell_type": "markdown",
   "id": "aef3a04e-5143-4840-a830-8f28fdac911c",
   "metadata": {},
   "source": [
    "# Función print"
   ]
  },
  {
   "cell_type": "code",
   "execution_count": 35,
   "id": "28b4cee0-d2ee-4b68-b98d-aed402365de2",
   "metadata": {},
   "outputs": [
    {
     "name": "stdout",
     "output_type": "stream",
     "text": [
      "el valor de la variable es 46.2 8\n"
     ]
    }
   ],
   "source": [
    "variable, variable2= 46.2,8\n",
    "print('el valor de la variable es', variable, variable2)"
   ]
  },
  {
   "cell_type": "code",
   "execution_count": 36,
   "id": "cd7b6bc3-06dd-47f0-8538-60ba695abd45",
   "metadata": {},
   "outputs": [
    {
     "name": "stdout",
     "output_type": "stream",
     "text": [
      "el valor de la variable es {variable}, {variable2}\n"
     ]
    }
   ],
   "source": [
    "print('el valor de la variable es {variable}, {variable2}')"
   ]
  },
  {
   "cell_type": "code",
   "execution_count": 37,
   "id": "9216d5c1-9aff-449e-af57-f924c63091a1",
   "metadata": {},
   "outputs": [
    {
     "name": "stdout",
     "output_type": "stream",
     "text": [
      "el valor de la variable es 46.2, 8\n"
     ]
    }
   ],
   "source": [
    "print (f'el valor de la variable es {variable}, {variable2}')"
   ]
  },
  {
   "cell_type": "code",
   "execution_count": 38,
   "id": "0cfde85e-95af-4051-9443-11d547af1a00",
   "metadata": {},
   "outputs": [
    {
     "name": "stdout",
     "output_type": "stream",
     "text": [
      "el valor de la variable es 46.2, 8\n"
     ]
    }
   ],
   "source": [
    "print('el valor de la variable es {}, {}'.format(variable,variable2))"
   ]
  },
  {
   "cell_type": "code",
   "execution_count": 39,
   "id": "a99054b4-acd7-4720-bdef-adb2f4b941e5",
   "metadata": {},
   "outputs": [
    {
     "name": "stdout",
     "output_type": "stream",
     "text": [
      "el valor de la variable es 8, 46.2\n"
     ]
    }
   ],
   "source": [
    "print('el valor de la variable es {1}, {0}'.format(variable,variable2))"
   ]
  },
  {
   "cell_type": "code",
   "execution_count": 43,
   "id": "8b729563-6fcc-4b9b-958f-e49a7d732c88",
   "metadata": {},
   "outputs": [],
   "source": [
    "import numpy"
   ]
  },
  {
   "cell_type": "code",
   "execution_count": 41,
   "id": "4e0fc9e3-5545-44c9-89be-ed12ab8c7b74",
   "metadata": {},
   "outputs": [
    {
     "name": "stdout",
     "output_type": "stream",
     "text": [
      "Collecting numpy"
     ]
    },
    {
     "name": "stderr",
     "output_type": "stream",
     "text": [
      "WARNING: You are using pip version 22.0.4; however, version 25.2 is available.\n",
      "You should consider upgrading via the 'C:\\Users\\Luz María\\AppData\\Local\\Programs\\Python\\Python310\\python.exe -m pip install --upgrade pip' command.\n"
     ]
    },
    {
     "name": "stdout",
     "output_type": "stream",
     "text": [
      "\n",
      "  Downloading numpy-2.2.6-cp310-cp310-win_amd64.whl (12.9 MB)\n",
      "     ---------------------------------------- 12.9/12.9 MB 1.6 MB/s eta 0:00:00\n",
      "Collecting pandas\n",
      "  Downloading pandas-2.3.2-cp310-cp310-win_amd64.whl (11.3 MB)\n",
      "     ---------------------------------------- 11.3/11.3 MB 1.5 MB/s eta 0:00:00\n",
      "Collecting matplotlib\n",
      "  Downloading matplotlib-3.10.6-cp310-cp310-win_amd64.whl (8.1 MB)\n",
      "     ---------------------------------------- 8.1/8.1 MB 1.9 MB/s eta 0:00:00\n",
      "Requirement already satisfied: python-dateutil>=2.8.2 in c:\\users\\luz maría\\appdata\\local\\programs\\python\\python310\\lib\\site-packages (from pandas) (2.9.0.post0)\n",
      "Collecting pytz>=2020.1\n",
      "  Downloading pytz-2025.2-py2.py3-none-any.whl (509 kB)\n",
      "     -------------------------------------- 509.2/509.2 KB 1.9 MB/s eta 0:00:00\n",
      "Collecting tzdata>=2022.7\n",
      "  Downloading tzdata-2025.2-py2.py3-none-any.whl (347 kB)\n",
      "     -------------------------------------- 347.8/347.8 KB 1.7 MB/s eta 0:00:00\n",
      "Collecting contourpy>=1.0.1\n",
      "  Downloading contourpy-1.3.2-cp310-cp310-win_amd64.whl (221 kB)\n",
      "     -------------------------------------- 221.2/221.2 KB 1.9 MB/s eta 0:00:00\n",
      "Collecting kiwisolver>=1.3.1\n",
      "  Downloading kiwisolver-1.4.9-cp310-cp310-win_amd64.whl (73 kB)\n",
      "     ---------------------------------------- 73.7/73.7 KB 1.4 MB/s eta 0:00:00\n",
      "Collecting pillow>=8\n",
      "  Downloading pillow-11.3.0-cp310-cp310-win_amd64.whl (7.0 MB)\n",
      "     ---------------------------------------- 7.0/7.0 MB 2.1 MB/s eta 0:00:00\n",
      "Collecting fonttools>=4.22.0\n",
      "  Downloading fonttools-4.59.2-cp310-cp310-win_amd64.whl (2.3 MB)\n",
      "     ---------------------------------------- 2.3/2.3 MB 1.8 MB/s eta 0:00:00\n",
      "Requirement already satisfied: packaging>=20.0 in c:\\users\\luz maría\\appdata\\local\\programs\\python\\python310\\lib\\site-packages (from matplotlib) (25.0)\n",
      "Collecting pyparsing>=2.3.1\n",
      "  Downloading pyparsing-3.2.3-py3-none-any.whl (111 kB)\n",
      "     -------------------------------------- 111.1/111.1 KB 2.1 MB/s eta 0:00:00\n",
      "Collecting cycler>=0.10\n",
      "  Downloading cycler-0.12.1-py3-none-any.whl (8.3 kB)\n",
      "Requirement already satisfied: six>=1.5 in c:\\users\\luz maría\\appdata\\local\\programs\\python\\python310\\lib\\site-packages (from python-dateutil>=2.8.2->pandas) (1.17.0)\n",
      "Installing collected packages: pytz, tzdata, pyparsing, pillow, numpy, kiwisolver, fonttools, cycler, pandas, contourpy, matplotlib\n",
      "Successfully installed contourpy-1.3.2 cycler-0.12.1 fonttools-4.59.2 kiwisolver-1.4.9 matplotlib-3.10.6 numpy-2.2.6 pandas-2.3.2 pillow-11.3.0 pyparsing-3.2.3 pytz-2025.2 tzdata-2025.2\n"
     ]
    }
   ],
   "source": [
    "!pip install numpy pandas matplotlib"
   ]
  },
  {
   "cell_type": "markdown",
   "id": "c0fbfb56-bfa7-44b5-b25a-08f94de259d2",
   "metadata": {},
   "source": [
    "# qué significa numpy"
   ]
  }
 ],
 "metadata": {
  "kernelspec": {
   "display_name": "Python 3 (ipykernel)",
   "language": "python",
   "name": "python3"
  },
  "language_info": {
   "codemirror_mode": {
    "name": "ipython",
    "version": 3
   },
   "file_extension": ".py",
   "mimetype": "text/x-python",
   "name": "python",
   "nbconvert_exporter": "python",
   "pygments_lexer": "ipython3",
   "version": "3.10.4"
  }
 },
 "nbformat": 4,
 "nbformat_minor": 5
}
