{
 "cells": [
  {
   "cell_type": "code",
   "execution_count": 2,
   "id": "556108c1-6280-4a4f-8d14-ca10b3d66ae5",
   "metadata": {},
   "outputs": [],
   "source": [
    "\n",
    "def division_numero(dividendo,divisor):\n",
    "    return dividendo / divisor\n",
    "    \n",
    "#Función por posición"
   ]
  },
  {
   "cell_type": "code",
   "execution_count": 4,
   "id": "5b5c3a32-5c70-4f93-abd4-a453fb024b76",
   "metadata": {},
   "outputs": [
    {
     "data": {
      "text/plain": [
       "2.0"
      ]
     },
     "execution_count": 4,
     "metadata": {},
     "output_type": "execute_result"
    }
   ],
   "source": [
    "division_numero (10,5)"
   ]
  },
  {
   "cell_type": "code",
   "execution_count": 5,
   "id": "11f3d2ca-2955-4f8a-804c-49f2ab1a6c20",
   "metadata": {},
   "outputs": [
    {
     "data": {
      "text/plain": [
       "0.5"
      ]
     },
     "execution_count": 5,
     "metadata": {},
     "output_type": "execute_result"
    }
   ],
   "source": [
    "#Parametros por nombre\n",
    "division_numero (divisor=10, dividendo=5)"
   ]
  },
  {
   "cell_type": "code",
   "execution_count": 6,
   "id": "5dcca1ed-7046-4fe0-a1b0-45476eafeaa1",
   "metadata": {},
   "outputs": [
    {
     "data": {
      "text/plain": [
       "2.0"
      ]
     },
     "execution_count": 6,
     "metadata": {},
     "output_type": "execute_result"
    }
   ],
   "source": [
    "division_numero (dividendo=10, divisor=5)"
   ]
  },
  {
   "cell_type": "code",
   "execution_count": 13,
   "id": "8df0a233-eff7-4c91-954b-d1241dba48ac",
   "metadata": {},
   "outputs": [],
   "source": [
    "\n",
    "def division_numero(dividendo, divisor, extra = 0):\n",
    "    return dividendo / divisor + extra\n",
    " "
   ]
  },
  {
   "cell_type": "code",
   "execution_count": 14,
   "id": "06d23f3d-0ee2-46af-8546-940e194f6620",
   "metadata": {},
   "outputs": [
    {
     "data": {
      "text/plain": [
       "10.0"
      ]
     },
     "execution_count": 14,
     "metadata": {},
     "output_type": "execute_result"
    }
   ],
   "source": [
    "   division_numero (10,5,8)"
   ]
  },
  {
   "cell_type": "markdown",
   "id": "a86a8751-48c6-4889-a133-b02d79f2d373",
   "metadata": {},
   "source": [
    "# Funciones recursivas"
   ]
  },
  {
   "cell_type": "code",
   "execution_count": 31,
   "id": "c445b16a-3372-4c01-b69b-d827a6bec502",
   "metadata": {},
   "outputs": [],
   "source": [
    "def cuenta_atras(n) :\n",
    "    if n > 0:\n",
    "        print(n)\n",
    "        cuenta_atras(n-1)\n",
    "    else:\n",
    "        print(\"booom!!!\")\n",
    "    print(\"fin de la función\",n)\n",
    "\n"
   ]
  },
  {
   "cell_type": "code",
   "execution_count": 32,
   "id": "d73ff4e3-e5ed-4288-a0bb-fd4a032a0e96",
   "metadata": {},
   "outputs": [
    {
     "name": "stdout",
     "output_type": "stream",
     "text": [
      "3\n",
      "2\n",
      "1\n",
      "booom!!!\n",
      "fin de la función 0\n",
      "fin de la función 1\n",
      "fin de la función 2\n",
      "fin de la función 3\n"
     ]
    }
   ],
   "source": [
    " cuenta_atras(3)"
   ]
  },
  {
   "cell_type": "markdown",
   "id": "3322f722-db13-4fd6-ad3a-b0d0b93f8177",
   "metadata": {},
   "source": [
    "# Función print "
   ]
  },
  {
   "cell_type": "code",
   "execution_count": 36,
   "id": "19eba2ba-de8f-46a0-8abb-b0c665dce803",
   "metadata": {},
   "outputs": [
    {
     "name": "stdout",
     "output_type": "stream",
     "text": [
      "el valor de la variable es 46.2 8\n"
     ]
    }
   ],
   "source": [
    "variable, variable2 = 46.2, 8\n",
    "print(\"el valor de la variable es\", variable, variable2)"
   ]
  },
  {
   "cell_type": "code",
   "execution_count": 38,
   "id": "06e09e37-a16e-424a-bceb-94caaf61868e",
   "metadata": {},
   "outputs": [
    {
     "name": "stdout",
     "output_type": "stream",
     "text": [
      "el valor de la variable es 46.2, 8\n"
     ]
    }
   ],
   "source": [
    "print (f\"el valor de la variable es {variable}, {variable2}\") #f es de formato"
   ]
  },
  {
   "cell_type": "code",
   "execution_count": 41,
   "id": "32bc8f28-859d-481e-8776-8f7368d456e2",
   "metadata": {},
   "outputs": [
    {
     "name": "stdout",
     "output_type": "stream",
     "text": [
      "el valor de la variable es 46.2, 8\n"
     ]
    }
   ],
   "source": [
    "print(\"el valor de la variable es {}, {}\". format(variable, variable2))"
   ]
  },
  {
   "cell_type": "code",
   "execution_count": 43,
   "id": "548b6d33-5327-422e-9076-025a75d3679a",
   "metadata": {},
   "outputs": [
    {
     "name": "stdout",
     "output_type": "stream",
     "text": [
      "el valor de la variable es 8, 46.2\n"
     ]
    }
   ],
   "source": [
    "print(\"el valor de la variable es {1}, {0}\".format(variable, variable2))"
   ]
  },
  {
   "cell_type": "code",
   "execution_count": 47,
   "id": "ce10210b-284c-4b2d-bc6d-e347f50d8236",
   "metadata": {},
   "outputs": [],
   "source": [
    "import numpy"
   ]
  },
  {
   "cell_type": "code",
   "execution_count": 46,
   "id": "8c43838e-93e9-4431-b3d1-435f83d7f25e",
   "metadata": {},
   "outputs": [
    {
     "name": "stdout",
     "output_type": "stream",
     "text": [
      "Requirement already satisfied: numpy in c:\\users\\v304-17\\appdata\\local\\programs\\python\\python311\\lib\\site-packages (2.3.2)\n",
      "Requirement already satisfied: pandas in c:\\users\\v304-17\\appdata\\local\\programs\\python\\python311\\lib\\site-packages (2.3.2)\n",
      "Requirement already satisfied: matplotlib in c:\\users\\v304-17\\appdata\\local\\programs\\python\\python311\\lib\\site-packages (3.10.6)\n",
      "Requirement already satisfied: python-dateutil>=2.8.2 in c:\\users\\v304-17\\appdata\\local\\programs\\python\\python311\\lib\\site-packages (from pandas) (2.9.0.post0)\n",
      "Requirement already satisfied: pytz>=2020.1 in c:\\users\\v304-17\\appdata\\local\\programs\\python\\python311\\lib\\site-packages (from pandas) (2025.2)\n",
      "Requirement already satisfied: tzdata>=2022.7 in c:\\users\\v304-17\\appdata\\local\\programs\\python\\python311\\lib\\site-packages (from pandas) (2025.2)\n",
      "Requirement already satisfied: contourpy>=1.0.1 in c:\\users\\v304-17\\appdata\\local\\programs\\python\\python311\\lib\\site-packages (from matplotlib) (1.3.3)\n",
      "Requirement already satisfied: cycler>=0.10 in c:\\users\\v304-17\\appdata\\local\\programs\\python\\python311\\lib\\site-packages (from matplotlib) (0.12.1)\n",
      "Requirement already satisfied: fonttools>=4.22.0 in c:\\users\\v304-17\\appdata\\local\\programs\\python\\python311\\lib\\site-packages (from matplotlib) (4.59.2)\n",
      "Requirement already satisfied: kiwisolver>=1.3.1 in c:\\users\\v304-17\\appdata\\local\\programs\\python\\python311\\lib\\site-packages (from matplotlib) (1.4.9)\n",
      "Requirement already satisfied: packaging>=20.0 in c:\\users\\v304-17\\appdata\\local\\programs\\python\\python311\\lib\\site-packages (from matplotlib) (25.0)\n",
      "Requirement already satisfied: pillow>=8 in c:\\users\\v304-17\\appdata\\local\\programs\\python\\python311\\lib\\site-packages (from matplotlib) (11.3.0)\n",
      "Requirement already satisfied: pyparsing>=2.3.1 in c:\\users\\v304-17\\appdata\\local\\programs\\python\\python311\\lib\\site-packages (from matplotlib) (3.2.3)\n",
      "Requirement already satisfied: six>=1.5 in c:\\users\\v304-17\\appdata\\local\\programs\\python\\python311\\lib\\site-packages (from python-dateutil>=2.8.2->pandas) (1.17.0)\n"
     ]
    },
    {
     "name": "stderr",
     "output_type": "stream",
     "text": [
      "\n",
      "[notice] A new release of pip available: 22.3.1 -> 25.2\n",
      "[notice] To update, run: python.exe -m pip install --upgrade pip\n"
     ]
    }
   ],
   "source": [
    "!pip install numpy pandas matplotlib"
   ]
  }
 ],
 "metadata": {
  "kernelspec": {
   "display_name": "Python 3 (ipykernel)",
   "language": "python",
   "name": "python3"
  },
  "language_info": {
   "codemirror_mode": {
    "name": "ipython",
    "version": 3
   },
   "file_extension": ".py",
   "mimetype": "text/x-python",
   "name": "python",
   "nbconvert_exporter": "python",
   "pygments_lexer": "ipython3",
   "version": "3.11.1"
  }
 },
 "nbformat": 4,
 "nbformat_minor": 5
}
