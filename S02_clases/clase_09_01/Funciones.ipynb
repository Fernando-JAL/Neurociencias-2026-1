{
 "cells": [
  {
   "cell_type": "markdown",
   "id": "858f16ef-f2b8-4c4f-82c5-7fde478960c5",
   "metadata": {},
   "source": [
    "# Funciones"
   ]
  },
  {
   "cell_type": "code",
   "execution_count": 1,
   "id": "fc683766-ced6-4502-a063-87b421d3599e",
   "metadata": {},
   "outputs": [
    {
     "data": {
      "text/plain": [
       "True"
      ]
     },
     "execution_count": 1,
     "metadata": {},
     "output_type": "execute_result"
    }
   ],
   "source": [
    "isinstance(5, int) # para verificar el tipo de la variable, nos regresa True o False."
   ]
  },
  {
   "cell_type": "code",
   "execution_count": 5,
   "id": "3e536706-1e07-4b17-8c5f-e9e8ca52583c",
   "metadata": {},
   "outputs": [
    {
     "data": {
      "text/plain": [
       "5.0"
      ]
     },
     "execution_count": 5,
     "metadata": {},
     "output_type": "execute_result"
    }
   ],
   "source": [
    "# función para dividir dos números y dividirlos entre ellos\n",
    "def division(num1, num2):\n",
    "    return num1 / num2\n",
    "\n",
    "division(10, 2)"
   ]
  },
  {
   "cell_type": "markdown",
   "id": "935e29b5-fc99-4caa-9566-0c08387b3ca3",
   "metadata": {},
   "source": [
    "En la función anterior asignamos los argumentos _por posición_, si no lo queremos así hacemos __parámetros por nombre__"
   ]
  },
  {
   "cell_type": "code",
   "execution_count": 8,
   "id": "bb9ee5a1-9cf5-484a-9fda-e6c5c5bd8206",
   "metadata": {},
   "outputs": [
    {
     "data": {
      "text/plain": [
       "5.0"
      ]
     },
     "execution_count": 8,
     "metadata": {},
     "output_type": "execute_result"
    }
   ],
   "source": [
    "# aquí no importa el orden en el que lo pongamos\n",
    "division(num2=2, num1=10)"
   ]
  },
  {
   "cell_type": "code",
   "execution_count": 14,
   "id": "53c34cd9-da66-46e8-98ac-14c083c24ad3",
   "metadata": {},
   "outputs": [
    {
     "data": {
      "text/plain": [
       "12.0"
      ]
     },
     "execution_count": 14,
     "metadata": {},
     "output_type": "execute_result"
    }
   ],
   "source": [
    "# aquí extra tiene un valor por default, pero no siempre está obligada a ese valor\n",
    "def division_entre_numeros(dividendo, divisor, extra = 0):\n",
    "    return dividendo / divisor + extra\n",
    "\n",
    "division_entre_numeros(8, 4, 10)"
   ]
  },
  {
   "cell_type": "markdown",
   "id": "0a3351c5-9767-401a-89ac-a45c4c84da1a",
   "metadata": {},
   "source": [
    "## Funciones recursivas\n",
    "\n",
    "Una función que se manda a llamar a sí misma dentro de su mismo código"
   ]
  },
  {
   "cell_type": "code",
   "execution_count": 23,
   "id": "ae3a5c62-48d3-439a-9c55-0704e111b0d6",
   "metadata": {},
   "outputs": [
    {
     "name": "stdout",
     "output_type": "stream",
     "text": [
      "5\n",
      "4\n",
      "3\n",
      "2\n",
      "1\n",
      "tin tin\n",
      "fin de la función 0\n",
      "fin de la función 1\n",
      "fin de la función 2\n",
      "fin de la función 3\n",
      "fin de la función 4\n",
      "fin de la función 5\n"
     ]
    }
   ],
   "source": [
    "def cuenta_atras(n):\n",
    "    if n > 0:  # muy importante definir el límite, porque si no la función se correría infinitamente\n",
    "        print(n)\n",
    "        cuenta_atras(n-1)\n",
    "    else:\n",
    "        print(\"tin tin\")\n",
    "    print(\"fin de la función\", n) # se llama varias veces ya que la función se va anidando. Comienza de lo más anidado y se va regresando. (de adentro hacia afuera)\n",
    "\n",
    "cuenta_atras(5)"
   ]
  },
  {
   "cell_type": "markdown",
   "id": "f11b6627-4940-481e-b204-f8c643277097",
   "metadata": {},
   "source": [
    "#### Tarea, hacer fórmula del factorial con funciones recursivas y suma del factorial"
   ]
  },
  {
   "cell_type": "markdown",
   "id": "6617de35-6d28-4878-8e58-51078ed9120d",
   "metadata": {},
   "source": [
    "## Función print"
   ]
  },
  {
   "cell_type": "code",
   "execution_count": 24,
   "id": "627ae071-c96d-436e-bd0f-32339b55a79a",
   "metadata": {},
   "outputs": [
    {
     "name": "stdout",
     "output_type": "stream",
     "text": [
      "el valor de la variables es 46.2 8\n"
     ]
    }
   ],
   "source": [
    "variable, variable2 = 46.2, 8\n",
    "print(\"el valor de la variables es\" , variable, variable2)"
   ]
  },
  {
   "cell_type": "code",
   "execution_count": 27,
   "id": "b2a85f84-2ae8-434a-b6b6-0057271783cc",
   "metadata": {},
   "outputs": [
    {
     "name": "stdout",
     "output_type": "stream",
     "text": [
      "el valor de la variable es 46.2, 8\n"
     ]
    }
   ],
   "source": [
    "# f de formato.\n",
    "print(f\"el valor de la variable es {variable}, {variable2}\")"
   ]
  },
  {
   "cell_type": "code",
   "execution_count": 39,
   "id": "d6066ef1-5868-4e50-b4d5-7e406b990d8f",
   "metadata": {},
   "outputs": [
    {
     "name": "stdout",
     "output_type": "stream",
     "text": [
      "el valor de la variable es 46.2, 8\n"
     ]
    }
   ],
   "source": [
    "# llaves vacías --> asignación por posición default\n",
    "print(\"el valor de la variable es {}, {}\".format(variable, variable2))"
   ]
  },
  {
   "cell_type": "code",
   "execution_count": 40,
   "id": "f5aba7e5-5731-4952-9ce5-aa4710d84565",
   "metadata": {},
   "outputs": [
    {
     "name": "stdout",
     "output_type": "stream",
     "text": [
      "el valor de la variable es 8, 46.2\n"
     ]
    }
   ],
   "source": [
    "# llaves asignadas --> posición asignada, empezando desde el 0\n",
    "print(\"el valor de la variable es {1}, {0}\".format(variable, variable2))"
   ]
  },
  {
   "cell_type": "code",
   "execution_count": 43,
   "id": "ce2a1191-8878-49eb-970e-95316238821d",
   "metadata": {},
   "outputs": [],
   "source": [
    "import numpy"
   ]
  },
  {
   "cell_type": "code",
   "execution_count": 42,
   "id": "1e3c67ad-6ff1-4351-93a1-db3e31893ae3",
   "metadata": {},
   "outputs": [
    {
     "name": "stdout",
     "output_type": "stream",
     "text": [
      "zsh:1: command not found: pip\n"
     ]
    }
   ],
   "source": [
    "!pip install numpy pandas matplotlib"
   ]
  },
  {
   "cell_type": "code",
   "execution_count": null,
   "id": "b95373eb-58d4-42d3-b738-0cb8527df9f0",
   "metadata": {},
   "outputs": [],
   "source": []
  },
  {
   "cell_type": "code",
   "execution_count": null,
   "id": "a5b87c5d-3ee4-4ba1-8bd3-152ba92bed33",
   "metadata": {},
   "outputs": [],
   "source": []
  },
  {
   "cell_type": "code",
   "execution_count": null,
   "id": "80a5c0ad-5ce0-431e-bc97-0937c102e309",
   "metadata": {},
   "outputs": [],
   "source": []
  },
  {
   "cell_type": "code",
   "execution_count": null,
   "id": "3b114f47-6f05-4a85-bc55-e41711f82f3d",
   "metadata": {},
   "outputs": [],
   "source": []
  },
  {
   "cell_type": "code",
   "execution_count": null,
   "id": "3fad8508-3a60-437c-97c6-72b692186401",
   "metadata": {},
   "outputs": [],
   "source": []
  }
 ],
 "metadata": {
  "kernelspec": {
   "display_name": "Python 3 (ipykernel)",
   "language": "python",
   "name": "python3"
  },
  "language_info": {
   "codemirror_mode": {
    "name": "ipython",
    "version": 3
   },
   "file_extension": ".py",
   "mimetype": "text/x-python",
   "name": "python",
   "nbconvert_exporter": "python",
   "pygments_lexer": "ipython3",
   "version": "3.10.4"
  }
 },
 "nbformat": 4,
 "nbformat_minor": 5
}
