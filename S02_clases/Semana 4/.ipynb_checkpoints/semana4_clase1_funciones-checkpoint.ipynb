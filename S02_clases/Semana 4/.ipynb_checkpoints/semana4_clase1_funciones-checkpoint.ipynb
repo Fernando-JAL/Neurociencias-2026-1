{
 "cells": [
  {
   "cell_type": "code",
   "execution_count": 5,
   "id": "9e41df6e",
   "metadata": {},
   "outputs": [
    {
     "name": "stdout",
     "output_type": "stream",
     "text": [
      "Numero divisor 4\n",
      "Numero dividendo 2\n"
     ]
    },
    {
     "data": {
      "text/plain": [
       "2.0"
      ]
     },
     "execution_count": 5,
     "metadata": {},
     "output_type": "execute_result"
    }
   ],
   "source": [
    "def division():\n",
    "\n",
    "    divisor=float(input('Numero divisor '))\n",
    "    dividendo=float(input('Numero dividendo '))\n",
    "    return (divisor/dividendo)\n",
    "\n",
    "division()"
   ]
  },
  {
   "cell_type": "code",
   "execution_count": 7,
   "id": "38b603cf",
   "metadata": {},
   "outputs": [
    {
     "data": {
      "text/plain": [
       "0.5"
      ]
     },
     "execution_count": 7,
     "metadata": {},
     "output_type": "execute_result"
    }
   ],
   "source": [
    "#la que hizo el prof\n",
    "\n",
    "def division_entre_dos_numeros(divisor,dividendo):\n",
    "    return divisor/dividendo\n",
    "\n",
    "division_entre_dos_numeros(dividendo=8,divisor=4)"
   ]
  },
  {
   "cell_type": "code",
   "execution_count": null,
   "id": "29c38b1c",
   "metadata": {},
   "outputs": [],
   "source": [
    "#podemos asignar valores por default a variables de funciones pero estos se pueden modificar\n",
    "\n",
    "def divisionConExtra (dividendo,divisor,extra=0):\n",
    "    return dividendo/divisor+extra\n",
    "\n"
   ]
  },
  {
   "cell_type": "markdown",
   "id": "7786b714",
   "metadata": {},
   "source": [
    "Funciones recursivas\n",
    "\n",
    "##Funcion que se manda a llamar a asi misma en el mismo codigo"
   ]
  },
  {
   "cell_type": "code",
   "execution_count": 9,
   "id": "4ead6497",
   "metadata": {},
   "outputs": [
    {
     "name": "stdout",
     "output_type": "stream",
     "text": [
      "5\n",
      "4\n",
      "3\n",
      "2\n",
      "1\n",
      "boom!!!\n",
      "fin de la funcion 0\n",
      "fin de la funcion 1\n",
      "fin de la funcion 2\n",
      "fin de la funcion 3\n",
      "fin de la funcion 4\n",
      "fin de la funcion 5\n"
     ]
    }
   ],
   "source": [
    "def cuentaAtras(n):\n",
    "    if n > 0:\n",
    "        print(n)\n",
    "        cuentaAtras(n-1)\n",
    "        \n",
    "    else:\n",
    "        print('boom!!!')\n",
    "    print(\"fin de la funcion\", n)\n",
    "    \n",
    "cuentaAtras(5)"
   ]
  },
  {
   "cell_type": "markdown",
   "id": "5a234666",
   "metadata": {},
   "source": [
    "# funcion print"
   ]
  },
  {
   "cell_type": "code",
   "execution_count": 10,
   "id": "235bd475",
   "metadata": {},
   "outputs": [
    {
     "name": "stdout",
     "output_type": "stream",
     "text": [
      "el valor de la variable es 46.2 8\n"
     ]
    }
   ],
   "source": [
    "variable, variable2 = 46.2, 8\n",
    "print('el valor de la variable es', variable, variable2)"
   ]
  },
  {
   "cell_type": "code",
   "execution_count": 11,
   "id": "15a1b54e",
   "metadata": {},
   "outputs": [
    {
     "name": "stdout",
     "output_type": "stream",
     "text": [
      "el valor de la variable es 46.2, 8\n"
     ]
    }
   ],
   "source": [
    "print(f\"el valor de la variable es {variable}, {variable2}\") #f de formato"
   ]
  },
  {
   "cell_type": "code",
   "execution_count": 12,
   "id": "c2239083",
   "metadata": {},
   "outputs": [
    {
     "name": "stdout",
     "output_type": "stream",
     "text": [
      "el valor de la variable es 46.2, 8\n"
     ]
    }
   ],
   "source": [
    "print(\"el valor de la variable es {}, {}\".format(variable, variable2))"
   ]
  },
  {
   "cell_type": "code",
   "execution_count": 13,
   "id": "3e143742",
   "metadata": {},
   "outputs": [],
   "source": [
    "import numpy"
   ]
  },
  {
   "cell_type": "code",
   "execution_count": 14,
   "id": "1c056463",
   "metadata": {},
   "outputs": [],
   "source": [
    "import pandas"
   ]
  },
  {
   "cell_type": "code",
   "execution_count": 15,
   "id": "a54eef65",
   "metadata": {},
   "outputs": [],
   "source": [
    "import matplotlib"
   ]
  },
  {
   "cell_type": "markdown",
   "id": "1f07180d",
   "metadata": {},
   "source": []
  },
  {
   "cell_type": "code",
   "execution_count": null,
   "id": "580dc1f0",
   "metadata": {},
   "outputs": [],
   "source": []
  },
  {
   "cell_type": "code",
   "execution_count": null,
   "id": "ba4b2dd8",
   "metadata": {},
   "outputs": [],
   "source": []
  }
 ],
 "metadata": {
  "kernelspec": {
   "display_name": "Python 3 (ipykernel)",
   "language": "python",
   "name": "python3"
  },
  "language_info": {
   "codemirror_mode": {
    "name": "ipython",
    "version": 3
   },
   "file_extension": ".py",
   "mimetype": "text/x-python",
   "name": "python",
   "nbconvert_exporter": "python",
   "pygments_lexer": "ipython3",
   "version": "3.11.4"
  }
 },
 "nbformat": 4,
 "nbformat_minor": 5
}
