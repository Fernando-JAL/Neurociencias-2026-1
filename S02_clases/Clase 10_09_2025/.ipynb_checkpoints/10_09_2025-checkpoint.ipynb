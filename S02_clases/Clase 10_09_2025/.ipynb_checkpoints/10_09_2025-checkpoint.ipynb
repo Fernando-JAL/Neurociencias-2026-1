{
 "cells": [
  {
   "cell_type": "code",
   "execution_count": 3,
   "id": "28724715-ea9f-4a6c-ad29-7e4f58f83e03",
   "metadata": {},
   "outputs": [],
   "source": [
    "import numpy as np"
   ]
  },
  {
   "cell_type": "code",
   "execution_count": 4,
   "id": "79620aa0-327e-464a-a2a7-ed620b15c8d6",
   "metadata": {},
   "outputs": [
    {
     "data": {
      "text/plain": [
       "0.7952309594835808"
      ]
     },
     "execution_count": 4,
     "metadata": {},
     "output_type": "execute_result"
    }
   ],
   "source": [
    "np.random.rand()"
   ]
  },
  {
   "cell_type": "code",
   "execution_count": 5,
   "id": "1870314b-e934-4423-b75a-c553d0bd08f3",
   "metadata": {},
   "outputs": [
    {
     "data": {
      "text/plain": [
       "array([[0.87227042, 0.25851925],\n",
       "       [0.31675493, 0.92756994],\n",
       "       [0.64763308, 0.03004472],\n",
       "       [0.95726362, 0.47070017],\n",
       "       [0.8905035 , 0.29478602],\n",
       "       [0.89632194, 0.90976537]])"
      ]
     },
     "execution_count": 5,
     "metadata": {},
     "output_type": "execute_result"
    }
   ],
   "source": [
    "np.random.rand(6,2)"
   ]
  },
  {
   "cell_type": "code",
   "execution_count": 15,
   "id": "2588ca6c-9cdc-4a95-8196-b9f7b8726220",
   "metadata": {},
   "outputs": [
    {
     "data": {
      "text/plain": [
       "array([[12.74046357, 13.11518044, 13.55513969, 11.53611198],\n",
       "       [10.30174366, 11.81459521, 14.55488449, 14.06190079],\n",
       "       [14.93917466, 14.31799845, 13.74528249, 14.52271465]])"
      ]
     },
     "execution_count": 15,
     "metadata": {},
     "output_type": "execute_result"
    }
   ],
   "source": [
    "a,b = 10, 15\n",
    "np.random.uniform(a, b, size=[3,4])"
   ]
  },
  {
   "cell_type": "code",
   "execution_count": 17,
   "id": "db99f4d1-770b-4d42-a6a0-079450a1227a",
   "metadata": {},
   "outputs": [
    {
     "data": {
      "text/plain": [
       "array([4, 4, 8, 0, 3, 0, 8, 1, 9, 6, 6, 5, 5, 7, 6, 8, 6, 7, 2, 1, 3, 3],\n",
       "      dtype=int32)"
      ]
     },
     "execution_count": 17,
     "metadata": {},
     "output_type": "execute_result"
    }
   ],
   "source": [
    "np.random.randint(10, size=[22])"
   ]
  },
  {
   "cell_type": "code",
   "execution_count": 18,
   "id": "34da26d8-7255-4022-8198-fb1745954c90",
   "metadata": {},
   "outputs": [
    {
     "data": {
      "text/plain": [
       "1.0635710819755912"
      ]
     },
     "execution_count": 18,
     "metadata": {},
     "output_type": "execute_result"
    }
   ],
   "source": [
    "np.random.normal()"
   ]
  },
  {
   "cell_type": "code",
   "execution_count": 19,
   "id": "8c9aab08-1625-4e3b-8e13-e6a66402df11",
   "metadata": {},
   "outputs": [
    {
     "data": {
      "text/plain": [
       "array([[ -5.46490073,  -5.73945911,  -8.60464607,  -9.59261707,\n",
       "         -5.87675222,  -7.85020678],\n",
       "       [-10.55583346,  -7.59718133,  -9.87348272, -11.61617225,\n",
       "          0.96598966,  -9.97063829]])"
      ]
     },
     "execution_count": 19,
     "metadata": {},
     "output_type": "execute_result"
    }
   ],
   "source": [
    "mu, sigma = -8, 4 \n",
    "np.random.normal(mu,sigma, size=[2,6])"
   ]
  },
  {
   "cell_type": "code",
   "execution_count": 20,
   "id": "90b17fb0-1284-4d5f-a30e-c916963b806d",
   "metadata": {},
   "outputs": [
    {
     "data": {
      "text/plain": [
       "np.float64(-0.004450301139689807)"
      ]
     },
     "execution_count": 20,
     "metadata": {},
     "output_type": "execute_result"
    }
   ],
   "source": [
    "valores= np.random.normal(0,1, size = 100000) \n",
    "np.mean(valores) "
   ]
  },
  {
   "cell_type": "code",
   "execution_count": 22,
   "id": "4691fcbb-35f2-4b78-9c00-ce72eec01908",
   "metadata": {},
   "outputs": [
    {
     "data": {
      "text/plain": [
       "np.float64(-0.00022823582314701206)"
      ]
     },
     "execution_count": 22,
     "metadata": {},
     "output_type": "execute_result"
    }
   ],
   "source": [
    "valores= np.random.normal(0,1, size = 10000000) \n",
    "np.mean(valores), np.std(valores)"
   ]
  },
  {
   "cell_type": "code",
   "execution_count": 23,
   "id": "75f0694d-7db9-4247-b50d-db96c073413c",
   "metadata": {},
   "outputs": [
    {
     "data": {
      "text/plain": [
       "np.int64(-32)"
      ]
     },
     "execution_count": 23,
     "metadata": {},
     "output_type": "execute_result"
    }
   ],
   "source": [
    "vec1, vec2 = np.array([2,3,4]), np.array([-1,-10,0])\n",
    "np.vdot(vec1, vec2)"
   ]
  },
  {
   "cell_type": "code",
   "execution_count": 24,
   "id": "bf2c2009-0144-4f1b-b231-1b993144c530",
   "metadata": {},
   "outputs": [
    {
     "data": {
      "text/plain": [
       "array([-10,  -1,   0])"
      ]
     },
     "execution_count": 24,
     "metadata": {},
     "output_type": "execute_result"
    }
   ],
   "source": [
    "vec2.sort()\n",
    "vec2"
   ]
  },
  {
   "cell_type": "code",
   "execution_count": 25,
   "id": "3c149ba4-7581-4815-9131-b5af7dd49b13",
   "metadata": {},
   "outputs": [
    {
     "data": {
      "text/plain": [
       "array([  0,  -1, -10])"
      ]
     },
     "execution_count": 25,
     "metadata": {},
     "output_type": "execute_result"
    }
   ],
   "source": [
    "vec2.sort()\n",
    "vec2[::-1]"
   ]
  },
  {
   "cell_type": "code",
   "execution_count": 32,
   "id": "c7e5f9bc-f297-45c8-a73c-ac0c42d5e326",
   "metadata": {},
   "outputs": [],
   "source": [
    "import matplotlib.pyplot as plt #graficos"
   ]
  },
  {
   "cell_type": "code",
   "execution_count": 34,
   "id": "fea1b560-e2b8-4221-aca5-077abbbcc63f",
   "metadata": {},
   "outputs": [
    {
     "data": {
      "text/plain": [
       "[<matplotlib.lines.Line2D at 0x21efa7e5950>]"
      ]
     },
     "execution_count": 34,
     "metadata": {},
     "output_type": "execute_result"
    },
    {
     "data": {
      "image/png": "[encoded data removed]",
      "text/plain": [
       "<Figure size 640x480 with 1 Axes>"
      ]
     },
     "metadata": {},
     "output_type": "display_data"
    }
   ],
   "source": [
    "valores= np.arange (20)\n",
    "plt.plot(valores)"
   ]
  },
  {
   "cell_type": "code",
   "execution_count": 36,
   "id": "e0206611-64de-49f6-b412-f7c55eee06a0",
   "metadata": {},
   "outputs": [
    {
     "data": {
      "text/plain": [
       "(array([ 9848., 10067.,  9951., 10107., 10140.,  9947.,  9999., 10071.,\n",
       "         9930.,  9940.]),\n",
       " array([9.31533166e-06, 1.00008110e-01, 2.00006904e-01, 3.00005698e-01,\n",
       "        4.00004492e-01, 5.00003287e-01, 6.00002081e-01, 7.00000875e-01,\n",
       "        7.99999669e-01, 8.99998463e-01, 9.99997258e-01]),\n",
       " <BarContainer object of 10 artists>)"
      ]
     },
     "execution_count": 36,
     "metadata": {},
     "output_type": "execute_result"
    },
    {
     "data": {
      "image/png": "[encoded data removed]",
      "text/plain": [
       "<Figure size 640x480 with 1 Axes>"
      ]
     },
     "metadata": {},
     "output_type": "display_data"
    }
   ],
   "source": [
    "valores = np.random.uniform (size=100000)\n",
    "plt.hist(valores)"
   ]
  },
  {
   "cell_type": "code",
   "execution_count": 37,
   "id": "f9bbe9c8-15f6-4063-a67d-5b0d85c5c3ba",
   "metadata": {},
   "outputs": [],
   "source": [
    "#ejercicio\n",
    "#crea un arreglo de nuemeros aleatorios\n",
    "#con distribucion normal con media mu=0 y desviacion estandar= 1 \n",
    "#de tamaño 100,000 y plotear su histograma"
   ]
  },
  {
   "cell_type": "code",
   "execution_count": 44,
   "id": "0aafdd64-0050-4a3c-b5f0-9ecb38483999",
   "metadata": {},
   "outputs": [
    {
     "data": {
      "text/plain": [
       "(array([2.0000e+00, 0.0000e+00, 2.0000e+00, 1.0000e+00, 1.0000e+00,\n",
       "        6.0000e+00, 1.0000e+00, 9.0000e+00, 1.0000e+01, 1.8000e+01,\n",
       "        1.9000e+01, 3.3000e+01, 4.2000e+01, 6.3000e+01, 9.4000e+01,\n",
       "        1.2100e+02, 1.8000e+02, 2.4200e+02, 3.3000e+02, 4.4900e+02,\n",
       "        5.6200e+02, 8.0200e+02, 9.7900e+02, 1.3870e+03, 1.6950e+03,\n",
       "        2.1970e+03, 2.8260e+03, 3.4810e+03, 4.2030e+03, 5.2760e+03,\n",
       "        6.3410e+03, 7.7570e+03, 9.0770e+03, 1.0625e+04, 1.2574e+04,\n",
       "        1.4662e+04, 1.6625e+04, 1.8743e+04, 2.1201e+04, 2.3549e+04,\n",
       "        2.5748e+04, 2.7856e+04, 3.0309e+04, 3.2363e+04, 3.4185e+04,\n",
       "        3.5917e+04, 3.7174e+04, 3.8206e+04, 3.9297e+04, 3.9579e+04,\n",
       "        3.9460e+04, 3.8786e+04, 3.8264e+04, 3.6674e+04, 3.5742e+04,\n",
       "        3.3667e+04, 3.1612e+04, 2.9851e+04, 2.7128e+04, 2.4900e+04,\n",
       "        2.2550e+04, 2.0128e+04, 1.7948e+04, 1.5663e+04, 1.3862e+04,\n",
       "        1.1878e+04, 1.0195e+04, 8.5080e+03, 7.3050e+03, 5.9430e+03,\n",
       "        4.9040e+03, 3.9370e+03, 3.2550e+03, 2.6020e+03, 2.0160e+03,\n",
       "        1.6040e+03, 1.2270e+03, 9.3800e+02, 7.1500e+02, 5.3000e+02,\n",
       "        4.3200e+02, 2.7100e+02, 2.1800e+02, 1.5600e+02, 9.7000e+01,\n",
       "        7.0000e+01, 4.0000e+01, 3.5000e+01, 2.1000e+01, 6.0000e+00,\n",
       "        9.0000e+00, 1.6000e+01, 7.0000e+00, 6.0000e+00, 2.0000e+00,\n",
       "        1.0000e+00, 0.0000e+00, 1.0000e+00, 0.0000e+00, 1.0000e+00]),\n",
       " array([-4.92437545, -4.82553759, -4.72669973, -4.62786188, -4.52902402,\n",
       "        -4.43018616, -4.3313483 , -4.23251044, -4.13367259, -4.03483473,\n",
       "        -3.93599687, -3.83715901, -3.73832116, -3.6394833 , -3.54064544,\n",
       "        -3.44180758, -3.34296972, -3.24413187, -3.14529401, -3.04645615,\n",
       "        -2.94761829, -2.84878043, -2.74994258, -2.65110472, -2.55226686,\n",
       "        -2.453429  , -2.35459115, -2.25575329, -2.15691543, -2.05807757,\n",
       "        -1.95923971, -1.86040186, -1.761564  , -1.66272614, -1.56388828,\n",
       "        -1.46505042, -1.36621257, -1.26737471, -1.16853685, -1.06969899,\n",
       "        -0.97086114, -0.87202328, -0.77318542, -0.67434756, -0.5755097 ,\n",
       "        -0.47667185, -0.37783399, -0.27899613, -0.18015827, -0.08132041,\n",
       "         0.01751744,  0.1163553 ,  0.21519316,  0.31403102,  0.41286887,\n",
       "         0.51170673,  0.61054459,  0.70938245,  0.80822031,  0.90705816,\n",
       "         1.00589602,  1.10473388,  1.20357174,  1.3024096 ,  1.40124745,\n",
       "         1.50008531,  1.59892317,  1.69776103,  1.79659888,  1.89543674,\n",
       "         1.9942746 ,  2.09311246,  2.19195032,  2.29078817,  2.38962603,\n",
       "         2.48846389,  2.58730175,  2.68613961,  2.78497746,  2.88381532,\n",
       "         2.98265318,  3.08149104,  3.18032889,  3.27916675,  3.37800461,\n",
       "         3.47684247,  3.57568033,  3.67451818,  3.77335604,  3.8721939 ,\n",
       "         3.97103176,  4.06986961,  4.16870747,  4.26754533,  4.36638319,\n",
       "         4.46522105,  4.5640589 ,  4.66289676,  4.76173462,  4.86057248,\n",
       "         4.95941034]),\n",
       " <BarContainer object of 100 artists>)"
      ]
     },
     "execution_count": 44,
     "metadata": {},
     "output_type": "execute_result"
    },
    {
     "data": {
      "image/png": "[encoded data removed]",
      "text/plain": [
       "<Figure size 640x480 with 1 Axes>"
      ]
     },
     "metadata": {},
     "output_type": "display_data"
    }
   ],
   "source": [
    "valores= np.random.normal(0,1, size= 1000000) \n",
    "plt.hist(valores, bins= 100)\n"
   ]
  },
  {
   "cell_type": "code",
   "execution_count": 43,
   "id": "3a992a49-0aa2-41e6-b983-71c54018f2b5",
   "metadata": {},
   "outputs": [
    {
     "data": {
      "text/plain": [
       "(array([2.000e+00, 1.000e+00, 0.000e+00, 2.000e+00, 0.000e+00, 0.000e+00,\n",
       "        0.000e+00, 2.000e+00, 1.000e+00, 2.000e+00, 8.000e+00, 1.200e+01,\n",
       "        1.100e+01, 9.000e+00, 2.700e+01, 2.700e+01, 2.800e+01, 5.600e+01,\n",
       "        7.200e+01, 8.400e+01, 1.290e+02, 1.190e+02, 1.810e+02, 2.060e+02,\n",
       "        2.670e+02, 3.410e+02, 4.330e+02, 4.730e+02, 5.790e+02, 6.690e+02,\n",
       "        8.480e+02, 9.580e+02, 1.031e+03, 1.289e+03, 1.424e+03, 1.587e+03,\n",
       "        1.744e+03, 1.960e+03, 2.115e+03, 2.321e+03, 2.440e+03, 2.745e+03,\n",
       "        2.811e+03, 3.018e+03, 3.117e+03, 3.355e+03, 3.504e+03, 3.461e+03,\n",
       "        3.518e+03, 3.462e+03, 3.625e+03, 3.542e+03, 3.503e+03, 3.286e+03,\n",
       "        3.322e+03, 3.182e+03, 3.015e+03, 2.774e+03, 2.637e+03, 2.526e+03,\n",
       "        2.188e+03, 2.100e+03, 1.954e+03, 1.705e+03, 1.535e+03, 1.336e+03,\n",
       "        1.189e+03, 1.000e+03, 8.330e+02, 7.380e+02, 6.580e+02, 5.480e+02,\n",
       "        4.590e+02, 3.650e+02, 3.360e+02, 2.560e+02, 1.890e+02, 1.720e+02,\n",
       "        1.270e+02, 9.700e+01, 6.900e+01, 7.600e+01, 6.100e+01, 3.700e+01,\n",
       "        3.400e+01, 2.200e+01, 9.000e+00, 1.200e+01, 1.300e+01, 1.000e+01,\n",
       "        1.000e+00, 4.000e+00, 0.000e+00, 2.000e+00, 1.000e+00, 1.000e+00,\n",
       "        0.000e+00, 0.000e+00, 0.000e+00, 2.000e+00]),\n",
       " array([-4.47728822, -4.38749195, -4.29769568, -4.2078994 , -4.11810313,\n",
       "        -4.02830686, -3.93851059, -3.84871431, -3.75891804, -3.66912177,\n",
       "        -3.5793255 , -3.48952922, -3.39973295, -3.30993668, -3.22014041,\n",
       "        -3.13034413, -3.04054786, -2.95075159, -2.86095532, -2.77115904,\n",
       "        -2.68136277, -2.5915665 , -2.50177023, -2.41197396, -2.32217768,\n",
       "        -2.23238141, -2.14258514, -2.05278887, -1.96299259, -1.87319632,\n",
       "        -1.78340005, -1.69360378, -1.6038075 , -1.51401123, -1.42421496,\n",
       "        -1.33441869, -1.24462241, -1.15482614, -1.06502987, -0.9752336 ,\n",
       "        -0.88543732, -0.79564105, -0.70584478, -0.61604851, -0.52625223,\n",
       "        -0.43645596, -0.34665969, -0.25686342, -0.16706714, -0.07727087,\n",
       "         0.0125254 ,  0.10232167,  0.19211795,  0.28191422,  0.37171049,\n",
       "         0.46150676,  0.55130304,  0.64109931,  0.73089558,  0.82069185,\n",
       "         0.91048813,  1.0002844 ,  1.09008067,  1.17987694,  1.26967322,\n",
       "         1.35946949,  1.44926576,  1.53906203,  1.62885831,  1.71865458,\n",
       "         1.80845085,  1.89824712,  1.9880434 ,  2.07783967,  2.16763594,\n",
       "         2.25743221,  2.34722849,  2.43702476,  2.52682103,  2.6166173 ,\n",
       "         2.70641358,  2.79620985,  2.88600612,  2.97580239,  3.06559867,\n",
       "         3.15539494,  3.24519121,  3.33498748,  3.42478376,  3.51458003,\n",
       "         3.6043763 ,  3.69417257,  3.78396885,  3.87376512,  3.96356139,\n",
       "         4.05335766,  4.14315394,  4.23295021,  4.32274648,  4.41254275,\n",
       "         4.50233903]),\n",
       " <BarContainer object of 100 artists>)"
      ]
     },
     "execution_count": 43,
     "metadata": {},
     "output_type": "execute_result"
    },
    {
     "data": {
      "image/png": "[encoded data removed]",
      "text/plain": [
       "<Figure size 640x480 with 1 Axes>"
      ]
     },
     "metadata": {},
     "output_type": "display_data"
    }
   ],
   "source": [
    "mu,sigma=0,1\n",
    "valores=np.random.normal(mu, sigma, size= 100000)\n",
    "plt.hist(valores, bins=100)"
   ]
  },
  {
   "cell_type": "code",
   "execution_count": 45,
   "id": "645f07b4-138a-402e-a18d-145d53bf1bc2",
   "metadata": {},
   "outputs": [
    {
     "data": {
      "text/plain": [
       "12"
      ]
     },
     "execution_count": 45,
     "metadata": {},
     "output_type": "execute_result"
    }
   ],
   "source": [
    "def suma (a, b):\n",
    "    return a+b\n",
    "\n",
    "suma(a=5, b=7) "
   ]
  },
  {
   "cell_type": "code",
   "execution_count": null,
   "id": "602f3cb0-2949-4cf0-b327-953910affe52",
   "metadata": {},
   "outputs": [],
   "source": []
  }
 ],
 "metadata": {
  "kernelspec": {
   "display_name": "Python 3 (ipykernel)",
   "language": "python",
   "name": "python3"
  },
  "language_info": {
   "codemirror_mode": {
    "name": "ipython",
    "version": 3
   },
   "file_extension": ".py",
   "mimetype": "text/x-python",
   "name": "python",
   "nbconvert_exporter": "python",
   "pygments_lexer": "ipython3",
   "version": "3.13.5"
  }
 },
 "nbformat": 4,
 "nbformat_minor": 5
}
