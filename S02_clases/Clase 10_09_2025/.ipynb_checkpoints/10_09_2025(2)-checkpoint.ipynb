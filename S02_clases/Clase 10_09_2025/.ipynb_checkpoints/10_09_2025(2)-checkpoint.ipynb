{
 "cells": [
  {
   "cell_type": "code",
   "execution_count": 4,
   "id": "dd42e8c7-a211-4099-8f00-17db96d8448b",
   "metadata": {},
   "outputs": [],
   "source": [
    "import pandas as pd"
   ]
  },
  {
   "cell_type": "code",
   "execution_count": 5,
   "id": "f22b08e9-f7fb-4477-9755-0ee25b0e6bbf",
   "metadata": {},
   "outputs": [
    {
     "data": {
      "text/plain": [
       "0       4\n",
       "1       5\n",
       "2       6\n",
       "3       7\n",
       "4       8\n",
       "5       9\n",
       "6    casa\n",
       "dtype: object"
      ]
     },
     "execution_count": 5,
     "metadata": {},
     "output_type": "execute_result"
    }
   ],
   "source": [
    "pd.Series([4,5,6,7,8,9,'casa'])"
   ]
  },
  {
   "cell_type": "code",
   "execution_count": 8,
   "id": "81e8f2c9-d87b-4a0f-94cf-79a3da78d5d1",
   "metadata": {},
   "outputs": [
    {
     "data": {
      "text/plain": [
       "a    50\n",
       "b    51\n",
       "c    52\n",
       "d    53\n",
       "e    54\n",
       "f    55\n",
       "dtype: int64"
      ]
     },
     "execution_count": 8,
     "metadata": {},
     "output_type": "execute_result"
    }
   ],
   "source": [
    "pd.Series(range(50, 56), index= ['a','b','c','d','e', 'f'])"
   ]
  },
  {
   "cell_type": "code",
   "execution_count": 13,
   "id": "11c30b8e-1fa7-4b21-a2ad-c83b24cb6b04",
   "metadata": {},
   "outputs": [
    {
     "data": {
      "text/plain": [
       "np.int64(6)"
      ]
     },
     "execution_count": 13,
     "metadata": {},
     "output_type": "execute_result"
    }
   ],
   "source": [
    "serie= pd.Series([5,6,7,8,9], index=['a','b','c','d','e'])\n",
    "serie['b']"
   ]
  },
  {
   "cell_type": "code",
   "execution_count": null,
   "id": "d775c5e0-c487-4eb6-9187-e7528e799bb6",
   "metadata": {},
   "outputs": [],
   "source": []
  }
 ],
 "metadata": {
  "kernelspec": {
   "display_name": "Python 3 (ipykernel)",
   "language": "python",
   "name": "python3"
  },
  "language_info": {
   "codemirror_mode": {
    "name": "ipython",
    "version": 3
   },
   "file_extension": ".py",
   "mimetype": "text/x-python",
   "name": "python",
   "nbconvert_exporter": "python",
   "pygments_lexer": "ipython3",
   "version": "3.13.5"
  }
 },
 "nbformat": 4,
 "nbformat_minor": 5
}
