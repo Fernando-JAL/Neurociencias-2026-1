{
 "cells": [
  {
   "cell_type": "code",
   "execution_count": 23,
   "id": "babea3cd-1b1f-49cd-bb0c-795c3197a5ad",
   "metadata": {},
   "outputs": [],
   "source": [
    "import pandas as pd\n",
    "import numpy as np"
   ]
  },
  {
   "cell_type": "code",
   "execution_count": 28,
   "id": "8bc73367-a045-49df-816f-f01c8d91014f",
   "metadata": {},
   "outputs": [],
   "source": [
    "\n",
    "experimento = {\n",
    "    'sujeto' : ['S01', 'S02', 'S03', 'S02', 'S01', 'S01', 'S02'],\n",
    "    'sabor' : ['choco', 'piñon', 'queso', 'chango', 'choco', 'queso', 'angel'],\n",
    "    'precio' : [45, 105, 30, 60, 65, 85, 120],\n",
    "    'tamaño' : ['m', 'g', 'ch', 'ch', 'g', 'm', 'g']\n",
    "}"
   ]
  },
  {
   "cell_type": "code",
   "execution_count": 5,
   "id": "1df92f65-df6f-4471-8e79-404b4d5577fa",
   "metadata": {},
   "outputs": [
    {
     "data": {
      "text/plain": [
       "{'sujeto': ['S01', 'SO2', 'S03', 'S02', 'S01', 'S01', 'S02'],\n",
       " 'sabor': ['choco', 'piñon', 'queso', 'chango', 'choco', 'queso', 'angel'],\n",
       " 'precio': [45, 105, 30, 60, 85, 120],\n",
       " 'tamaño': ['m', 'g', 'ch', 'ch', 'g', 'm', 'g']}"
      ]
     },
     "execution_count": 5,
     "metadata": {},
     "output_type": "execute_result"
    }
   ],
   "source": [
    "experimento"
   ]
  },
  {
   "cell_type": "code",
   "execution_count": 29,
   "id": "7b8b3eda-a0be-4b4f-a929-0e0ba66ac3c6",
   "metadata": {},
   "outputs": [
    {
     "data": {
      "text/html": [
       "<div>\n",
       "<style scoped>\n",
       "    .dataframe tbody tr th:only-of-type {\n",
       "        vertical-align: middle;\n",
       "    }\n",
       "\n",
       "    .dataframe tbody tr th {\n",
       "        vertical-align: top;\n",
       "    }\n",
       "\n",
       "    .dataframe thead th {\n",
       "        text-align: right;\n",
       "    }\n",
       "</style>\n",
       "<table border=\"1\" class=\"dataframe\">\n",
       "  <thead>\n",
       "    <tr style=\"text-align: right;\">\n",
       "      <th></th>\n",
       "      <th>sujeto</th>\n",
       "      <th>sabor</th>\n",
       "      <th>precio</th>\n",
       "      <th>tamaño</th>\n",
       "    </tr>\n",
       "  </thead>\n",
       "  <tbody>\n",
       "    <tr>\n",
       "      <th>0</th>\n",
       "      <td>S01</td>\n",
       "      <td>choco</td>\n",
       "      <td>45</td>\n",
       "      <td>m</td>\n",
       "    </tr>\n",
       "    <tr>\n",
       "      <th>1</th>\n",
       "      <td>S02</td>\n",
       "      <td>piñon</td>\n",
       "      <td>105</td>\n",
       "      <td>g</td>\n",
       "    </tr>\n",
       "    <tr>\n",
       "      <th>2</th>\n",
       "      <td>S03</td>\n",
       "      <td>queso</td>\n",
       "      <td>30</td>\n",
       "      <td>ch</td>\n",
       "    </tr>\n",
       "    <tr>\n",
       "      <th>3</th>\n",
       "      <td>S02</td>\n",
       "      <td>chango</td>\n",
       "      <td>60</td>\n",
       "      <td>ch</td>\n",
       "    </tr>\n",
       "    <tr>\n",
       "      <th>4</th>\n",
       "      <td>S01</td>\n",
       "      <td>choco</td>\n",
       "      <td>65</td>\n",
       "      <td>g</td>\n",
       "    </tr>\n",
       "    <tr>\n",
       "      <th>5</th>\n",
       "      <td>S01</td>\n",
       "      <td>queso</td>\n",
       "      <td>85</td>\n",
       "      <td>m</td>\n",
       "    </tr>\n",
       "    <tr>\n",
       "      <th>6</th>\n",
       "      <td>S02</td>\n",
       "      <td>angel</td>\n",
       "      <td>120</td>\n",
       "      <td>g</td>\n",
       "    </tr>\n",
       "  </tbody>\n",
       "</table>\n",
       "</div>"
      ],
      "text/plain": [
       "  sujeto   sabor  precio tamaño\n",
       "0    S01   choco      45      m\n",
       "1    S02   piñon     105      g\n",
       "2    S03   queso      30     ch\n",
       "3    S02  chango      60     ch\n",
       "4    S01   choco      65      g\n",
       "5    S01   queso      85      m\n",
       "6    S02   angel     120      g"
      ]
     },
     "execution_count": 29,
     "metadata": {},
     "output_type": "execute_result"
    }
   ],
   "source": [
    "df=pd.DataFrame(experimento)\n",
    "df"
   ]
  },
  {
   "cell_type": "code",
   "execution_count": 30,
   "id": "a2e1e6a1-8adb-475f-81bc-b2b4200be615",
   "metadata": {},
   "outputs": [
    {
     "data": {
      "text/html": [
       "<div>\n",
       "<style scoped>\n",
       "    .dataframe tbody tr th:only-of-type {\n",
       "        vertical-align: middle;\n",
       "    }\n",
       "\n",
       "    .dataframe tbody tr th {\n",
       "        vertical-align: top;\n",
       "    }\n",
       "\n",
       "    .dataframe thead th {\n",
       "        text-align: right;\n",
       "    }\n",
       "</style>\n",
       "<table border=\"1\" class=\"dataframe\">\n",
       "  <thead>\n",
       "    <tr style=\"text-align: right;\">\n",
       "      <th></th>\n",
       "      <th>sujeto</th>\n",
       "      <th>sabor</th>\n",
       "      <th>precio</th>\n",
       "      <th>tamaño</th>\n",
       "      <th>activación</th>\n",
       "    </tr>\n",
       "  </thead>\n",
       "  <tbody>\n",
       "    <tr>\n",
       "      <th>0</th>\n",
       "      <td>S01</td>\n",
       "      <td>choco</td>\n",
       "      <td>45</td>\n",
       "      <td>m</td>\n",
       "      <td>True</td>\n",
       "    </tr>\n",
       "    <tr>\n",
       "      <th>1</th>\n",
       "      <td>S02</td>\n",
       "      <td>piñon</td>\n",
       "      <td>105</td>\n",
       "      <td>g</td>\n",
       "      <td>True</td>\n",
       "    </tr>\n",
       "    <tr>\n",
       "      <th>2</th>\n",
       "      <td>S03</td>\n",
       "      <td>queso</td>\n",
       "      <td>30</td>\n",
       "      <td>ch</td>\n",
       "      <td>False</td>\n",
       "    </tr>\n",
       "    <tr>\n",
       "      <th>3</th>\n",
       "      <td>S02</td>\n",
       "      <td>chango</td>\n",
       "      <td>60</td>\n",
       "      <td>ch</td>\n",
       "      <td>False</td>\n",
       "    </tr>\n",
       "    <tr>\n",
       "      <th>4</th>\n",
       "      <td>S01</td>\n",
       "      <td>choco</td>\n",
       "      <td>65</td>\n",
       "      <td>g</td>\n",
       "      <td>True</td>\n",
       "    </tr>\n",
       "    <tr>\n",
       "      <th>5</th>\n",
       "      <td>S01</td>\n",
       "      <td>queso</td>\n",
       "      <td>85</td>\n",
       "      <td>m</td>\n",
       "      <td>True</td>\n",
       "    </tr>\n",
       "    <tr>\n",
       "      <th>6</th>\n",
       "      <td>S02</td>\n",
       "      <td>angel</td>\n",
       "      <td>120</td>\n",
       "      <td>g</td>\n",
       "      <td>False</td>\n",
       "    </tr>\n",
       "  </tbody>\n",
       "</table>\n",
       "</div>"
      ],
      "text/plain": [
       "  sujeto   sabor  precio tamaño  activación\n",
       "0    S01   choco      45      m        True\n",
       "1    S02   piñon     105      g        True\n",
       "2    S03   queso      30     ch       False\n",
       "3    S02  chango      60     ch       False\n",
       "4    S01   choco      65      g        True\n",
       "5    S01   queso      85      m        True\n",
       "6    S02   angel     120      g       False"
      ]
     },
     "execution_count": 30,
     "metadata": {},
     "output_type": "execute_result"
    }
   ],
   "source": [
    "df['activación']=[True, True, False, False, True, True, False] #Asi se agregan columnas \n",
    "df"
   ]
  },
  {
   "cell_type": "code",
   "execution_count": 31,
   "id": "a92512f1-ffb7-477d-b335-ab8460c5671d",
   "metadata": {},
   "outputs": [
    {
     "data": {
      "text/html": [
       "<div>\n",
       "<style scoped>\n",
       "    .dataframe tbody tr th:only-of-type {\n",
       "        vertical-align: middle;\n",
       "    }\n",
       "\n",
       "    .dataframe tbody tr th {\n",
       "        vertical-align: top;\n",
       "    }\n",
       "\n",
       "    .dataframe thead th {\n",
       "        text-align: right;\n",
       "    }\n",
       "</style>\n",
       "<table border=\"1\" class=\"dataframe\">\n",
       "  <thead>\n",
       "    <tr style=\"text-align: right;\">\n",
       "      <th></th>\n",
       "      <th>sujeto</th>\n",
       "      <th>sabor</th>\n",
       "      <th>precio</th>\n",
       "      <th>tamaño</th>\n",
       "      <th>activación</th>\n",
       "    </tr>\n",
       "  </thead>\n",
       "  <tbody>\n",
       "    <tr>\n",
       "      <th>1</th>\n",
       "      <td>S02</td>\n",
       "      <td>piñon</td>\n",
       "      <td>105</td>\n",
       "      <td>g</td>\n",
       "      <td>True</td>\n",
       "    </tr>\n",
       "    <tr>\n",
       "      <th>6</th>\n",
       "      <td>S02</td>\n",
       "      <td>angel</td>\n",
       "      <td>120</td>\n",
       "      <td>g</td>\n",
       "      <td>False</td>\n",
       "    </tr>\n",
       "  </tbody>\n",
       "</table>\n",
       "</div>"
      ],
      "text/plain": [
       "  sujeto  sabor  precio tamaño  activación\n",
       "1    S02  piñon     105      g        True\n",
       "6    S02  angel     120      g       False"
      ]
     },
     "execution_count": 31,
     "metadata": {},
     "output_type": "execute_result"
    }
   ],
   "source": [
    "df[ df['precio']>100 ]"
   ]
  },
  {
   "cell_type": "code",
   "execution_count": 32,
   "id": "87880b69-ab74-46a2-ae53-2808d5782663",
   "metadata": {},
   "outputs": [
    {
     "data": {
      "text/html": [
       "<div>\n",
       "<style scoped>\n",
       "    .dataframe tbody tr th:only-of-type {\n",
       "        vertical-align: middle;\n",
       "    }\n",
       "\n",
       "    .dataframe tbody tr th {\n",
       "        vertical-align: top;\n",
       "    }\n",
       "\n",
       "    .dataframe thead th {\n",
       "        text-align: right;\n",
       "    }\n",
       "</style>\n",
       "<table border=\"1\" class=\"dataframe\">\n",
       "  <thead>\n",
       "    <tr style=\"text-align: right;\">\n",
       "      <th></th>\n",
       "      <th>sujeto</th>\n",
       "      <th>sabor</th>\n",
       "      <th>precio</th>\n",
       "      <th>tamaño</th>\n",
       "      <th>activación</th>\n",
       "    </tr>\n",
       "  </thead>\n",
       "  <tbody>\n",
       "    <tr>\n",
       "      <th>0</th>\n",
       "      <td>S01</td>\n",
       "      <td>choco</td>\n",
       "      <td>45</td>\n",
       "      <td>m</td>\n",
       "      <td>True</td>\n",
       "    </tr>\n",
       "    <tr>\n",
       "      <th>4</th>\n",
       "      <td>S01</td>\n",
       "      <td>choco</td>\n",
       "      <td>65</td>\n",
       "      <td>g</td>\n",
       "      <td>True</td>\n",
       "    </tr>\n",
       "    <tr>\n",
       "      <th>5</th>\n",
       "      <td>S01</td>\n",
       "      <td>queso</td>\n",
       "      <td>85</td>\n",
       "      <td>m</td>\n",
       "      <td>True</td>\n",
       "    </tr>\n",
       "  </tbody>\n",
       "</table>\n",
       "</div>"
      ],
      "text/plain": [
       "  sujeto  sabor  precio tamaño  activación\n",
       "0    S01  choco      45      m        True\n",
       "4    S01  choco      65      g        True\n",
       "5    S01  queso      85      m        True"
      ]
     },
     "execution_count": 32,
     "metadata": {},
     "output_type": "execute_result"
    }
   ],
   "source": [
    "df[ df['sujeto'] == 'S01' ]"
   ]
  },
  {
   "cell_type": "code",
   "execution_count": 33,
   "id": "43298f29-d97f-447c-8a80-7bbf4ffe733a",
   "metadata": {},
   "outputs": [
    {
     "data": {
      "text/html": [
       "<div>\n",
       "<style scoped>\n",
       "    .dataframe tbody tr th:only-of-type {\n",
       "        vertical-align: middle;\n",
       "    }\n",
       "\n",
       "    .dataframe tbody tr th {\n",
       "        vertical-align: top;\n",
       "    }\n",
       "\n",
       "    .dataframe thead th {\n",
       "        text-align: right;\n",
       "    }\n",
       "</style>\n",
       "<table border=\"1\" class=\"dataframe\">\n",
       "  <thead>\n",
       "    <tr style=\"text-align: right;\">\n",
       "      <th></th>\n",
       "      <th>sujeto</th>\n",
       "      <th>sabor</th>\n",
       "      <th>precio</th>\n",
       "      <th>tamaño</th>\n",
       "      <th>activación</th>\n",
       "    </tr>\n",
       "  </thead>\n",
       "  <tbody>\n",
       "    <tr>\n",
       "      <th>1</th>\n",
       "      <td>S02</td>\n",
       "      <td>piñon</td>\n",
       "      <td>105</td>\n",
       "      <td>g</td>\n",
       "      <td>True</td>\n",
       "    </tr>\n",
       "    <tr>\n",
       "      <th>3</th>\n",
       "      <td>S02</td>\n",
       "      <td>chango</td>\n",
       "      <td>60</td>\n",
       "      <td>ch</td>\n",
       "      <td>False</td>\n",
       "    </tr>\n",
       "    <tr>\n",
       "      <th>6</th>\n",
       "      <td>S02</td>\n",
       "      <td>angel</td>\n",
       "      <td>120</td>\n",
       "      <td>g</td>\n",
       "      <td>False</td>\n",
       "    </tr>\n",
       "  </tbody>\n",
       "</table>\n",
       "</div>"
      ],
      "text/plain": [
       "  sujeto   sabor  precio tamaño  activación\n",
       "1    S02   piñon     105      g        True\n",
       "3    S02  chango      60     ch       False\n",
       "6    S02   angel     120      g       False"
      ]
     },
     "execution_count": 33,
     "metadata": {},
     "output_type": "execute_result"
    }
   ],
   "source": [
    "df[ df['sujeto'] == 'S02' ]"
   ]
  },
  {
   "cell_type": "code",
   "execution_count": 34,
   "id": "bb0721e7-256a-4494-8856-63291ee96cb9",
   "metadata": {},
   "outputs": [
    {
     "data": {
      "text/html": [
       "<div>\n",
       "<style scoped>\n",
       "    .dataframe tbody tr th:only-of-type {\n",
       "        vertical-align: middle;\n",
       "    }\n",
       "\n",
       "    .dataframe tbody tr th {\n",
       "        vertical-align: top;\n",
       "    }\n",
       "\n",
       "    .dataframe thead th {\n",
       "        text-align: right;\n",
       "    }\n",
       "</style>\n",
       "<table border=\"1\" class=\"dataframe\">\n",
       "  <thead>\n",
       "    <tr style=\"text-align: right;\">\n",
       "      <th></th>\n",
       "      <th>sujeto</th>\n",
       "      <th>sabor</th>\n",
       "      <th>precio</th>\n",
       "      <th>tamaño</th>\n",
       "      <th>activación</th>\n",
       "    </tr>\n",
       "  </thead>\n",
       "  <tbody>\n",
       "    <tr>\n",
       "      <th>2</th>\n",
       "      <td>S03</td>\n",
       "      <td>queso</td>\n",
       "      <td>30</td>\n",
       "      <td>ch</td>\n",
       "      <td>False</td>\n",
       "    </tr>\n",
       "  </tbody>\n",
       "</table>\n",
       "</div>"
      ],
      "text/plain": [
       "  sujeto  sabor  precio tamaño  activación\n",
       "2    S03  queso      30     ch       False"
      ]
     },
     "execution_count": 34,
     "metadata": {},
     "output_type": "execute_result"
    }
   ],
   "source": [
    "df[ df['sujeto'] == 'S03' ]"
   ]
  },
  {
   "cell_type": "code",
   "execution_count": 35,
   "id": "b9936f49-8113-42c2-938e-ac98de476a01",
   "metadata": {},
   "outputs": [
    {
     "data": {
      "text/plain": [
       "<pandas.core.groupby.generic.DataFrameGroupBy object at 0x0000014D03CF3970>"
      ]
     },
     "execution_count": 35,
     "metadata": {},
     "output_type": "execute_result"
    }
   ],
   "source": [
    "df.groupby(by='sujeto')"
   ]
  },
  {
   "cell_type": "code",
   "execution_count": 37,
   "id": "e1a9cea0-9c10-4690-8970-2d8a744de40e",
   "metadata": {},
   "outputs": [
    {
     "data": {
      "text/html": [
       "<div>\n",
       "<style scoped>\n",
       "    .dataframe tbody tr th:only-of-type {\n",
       "        vertical-align: middle;\n",
       "    }\n",
       "\n",
       "    .dataframe tbody tr th {\n",
       "        vertical-align: top;\n",
       "    }\n",
       "\n",
       "    .dataframe thead tr th {\n",
       "        text-align: left;\n",
       "    }\n",
       "\n",
       "    .dataframe thead tr:last-of-type th {\n",
       "        text-align: right;\n",
       "    }\n",
       "</style>\n",
       "<table border=\"1\" class=\"dataframe\">\n",
       "  <thead>\n",
       "    <tr>\n",
       "      <th></th>\n",
       "      <th colspan=\"10\" halign=\"left\">sabor</th>\n",
       "      <th>...</th>\n",
       "      <th colspan=\"10\" halign=\"left\">activación</th>\n",
       "    </tr>\n",
       "    <tr>\n",
       "      <th></th>\n",
       "      <th>count</th>\n",
       "      <th>unique</th>\n",
       "      <th>top</th>\n",
       "      <th>freq</th>\n",
       "      <th>mean</th>\n",
       "      <th>std</th>\n",
       "      <th>min</th>\n",
       "      <th>25%</th>\n",
       "      <th>50%</th>\n",
       "      <th>75%</th>\n",
       "      <th>...</th>\n",
       "      <th>unique</th>\n",
       "      <th>top</th>\n",
       "      <th>freq</th>\n",
       "      <th>mean</th>\n",
       "      <th>std</th>\n",
       "      <th>min</th>\n",
       "      <th>25%</th>\n",
       "      <th>50%</th>\n",
       "      <th>75%</th>\n",
       "      <th>max</th>\n",
       "    </tr>\n",
       "    <tr>\n",
       "      <th>sujeto</th>\n",
       "      <th></th>\n",
       "      <th></th>\n",
       "      <th></th>\n",
       "      <th></th>\n",
       "      <th></th>\n",
       "      <th></th>\n",
       "      <th></th>\n",
       "      <th></th>\n",
       "      <th></th>\n",
       "      <th></th>\n",
       "      <th></th>\n",
       "      <th></th>\n",
       "      <th></th>\n",
       "      <th></th>\n",
       "      <th></th>\n",
       "      <th></th>\n",
       "      <th></th>\n",
       "      <th></th>\n",
       "      <th></th>\n",
       "      <th></th>\n",
       "      <th></th>\n",
       "    </tr>\n",
       "  </thead>\n",
       "  <tbody>\n",
       "    <tr>\n",
       "      <th>S01</th>\n",
       "      <td>3</td>\n",
       "      <td>2</td>\n",
       "      <td>choco</td>\n",
       "      <td>2</td>\n",
       "      <td>NaN</td>\n",
       "      <td>NaN</td>\n",
       "      <td>NaN</td>\n",
       "      <td>NaN</td>\n",
       "      <td>NaN</td>\n",
       "      <td>NaN</td>\n",
       "      <td>...</td>\n",
       "      <td>1</td>\n",
       "      <td>True</td>\n",
       "      <td>3</td>\n",
       "      <td>NaN</td>\n",
       "      <td>NaN</td>\n",
       "      <td>NaN</td>\n",
       "      <td>NaN</td>\n",
       "      <td>NaN</td>\n",
       "      <td>NaN</td>\n",
       "      <td>NaN</td>\n",
       "    </tr>\n",
       "    <tr>\n",
       "      <th>S02</th>\n",
       "      <td>3</td>\n",
       "      <td>3</td>\n",
       "      <td>piñon</td>\n",
       "      <td>1</td>\n",
       "      <td>NaN</td>\n",
       "      <td>NaN</td>\n",
       "      <td>NaN</td>\n",
       "      <td>NaN</td>\n",
       "      <td>NaN</td>\n",
       "      <td>NaN</td>\n",
       "      <td>...</td>\n",
       "      <td>2</td>\n",
       "      <td>False</td>\n",
       "      <td>2</td>\n",
       "      <td>NaN</td>\n",
       "      <td>NaN</td>\n",
       "      <td>NaN</td>\n",
       "      <td>NaN</td>\n",
       "      <td>NaN</td>\n",
       "      <td>NaN</td>\n",
       "      <td>NaN</td>\n",
       "    </tr>\n",
       "    <tr>\n",
       "      <th>S03</th>\n",
       "      <td>1</td>\n",
       "      <td>1</td>\n",
       "      <td>queso</td>\n",
       "      <td>1</td>\n",
       "      <td>NaN</td>\n",
       "      <td>NaN</td>\n",
       "      <td>NaN</td>\n",
       "      <td>NaN</td>\n",
       "      <td>NaN</td>\n",
       "      <td>NaN</td>\n",
       "      <td>...</td>\n",
       "      <td>1</td>\n",
       "      <td>False</td>\n",
       "      <td>1</td>\n",
       "      <td>NaN</td>\n",
       "      <td>NaN</td>\n",
       "      <td>NaN</td>\n",
       "      <td>NaN</td>\n",
       "      <td>NaN</td>\n",
       "      <td>NaN</td>\n",
       "      <td>NaN</td>\n",
       "    </tr>\n",
       "  </tbody>\n",
       "</table>\n",
       "<p>3 rows × 44 columns</p>\n",
       "</div>"
      ],
      "text/plain": [
       "       sabor                                                   ... activación  \\\n",
       "       count unique    top freq mean  std  min  25%  50%  75%  ...     unique   \n",
       "sujeto                                                         ...              \n",
       "S01        3      2  choco    2  NaN  NaN  NaN  NaN  NaN  NaN  ...          1   \n",
       "S02        3      3  piñon    1  NaN  NaN  NaN  NaN  NaN  NaN  ...          2   \n",
       "S03        1      1  queso    1  NaN  NaN  NaN  NaN  NaN  NaN  ...          1   \n",
       "\n",
       "                                                       \n",
       "          top freq mean  std  min  25%  50%  75%  max  \n",
       "sujeto                                                 \n",
       "S01      True    3  NaN  NaN  NaN  NaN  NaN  NaN  NaN  \n",
       "S02     False    2  NaN  NaN  NaN  NaN  NaN  NaN  NaN  \n",
       "S03     False    1  NaN  NaN  NaN  NaN  NaN  NaN  NaN  \n",
       "\n",
       "[3 rows x 44 columns]"
      ]
     },
     "execution_count": 37,
     "metadata": {},
     "output_type": "execute_result"
    }
   ],
   "source": [
    "df_por_sujeto = df.groupby(by='sujeto')\n",
    "df_por_sujeto.describe(include= 'all')"
   ]
  },
  {
   "cell_type": "code",
   "execution_count": 40,
   "id": "dd73425c-b0d1-457d-b139-9ee0fdc0cbfa",
   "metadata": {},
   "outputs": [
    {
     "data": {
      "text/html": [
       "<div>\n",
       "<style scoped>\n",
       "    .dataframe tbody tr th:only-of-type {\n",
       "        vertical-align: middle;\n",
       "    }\n",
       "\n",
       "    .dataframe tbody tr th {\n",
       "        vertical-align: top;\n",
       "    }\n",
       "\n",
       "    .dataframe thead th {\n",
       "        text-align: right;\n",
       "    }\n",
       "</style>\n",
       "<table border=\"1\" class=\"dataframe\">\n",
       "  <thead>\n",
       "    <tr style=\"text-align: right;\">\n",
       "      <th></th>\n",
       "      <th>sujeto</th>\n",
       "      <th>sabor</th>\n",
       "      <th>precio</th>\n",
       "      <th>tamaño</th>\n",
       "      <th>activación</th>\n",
       "    </tr>\n",
       "  </thead>\n",
       "  <tbody>\n",
       "    <tr>\n",
       "      <th>count</th>\n",
       "      <td>7</td>\n",
       "      <td>7</td>\n",
       "      <td>7.000000</td>\n",
       "      <td>7</td>\n",
       "      <td>7</td>\n",
       "    </tr>\n",
       "    <tr>\n",
       "      <th>unique</th>\n",
       "      <td>3</td>\n",
       "      <td>5</td>\n",
       "      <td>NaN</td>\n",
       "      <td>3</td>\n",
       "      <td>2</td>\n",
       "    </tr>\n",
       "    <tr>\n",
       "      <th>top</th>\n",
       "      <td>S01</td>\n",
       "      <td>choco</td>\n",
       "      <td>NaN</td>\n",
       "      <td>g</td>\n",
       "      <td>True</td>\n",
       "    </tr>\n",
       "    <tr>\n",
       "      <th>freq</th>\n",
       "      <td>3</td>\n",
       "      <td>2</td>\n",
       "      <td>NaN</td>\n",
       "      <td>3</td>\n",
       "      <td>4</td>\n",
       "    </tr>\n",
       "    <tr>\n",
       "      <th>mean</th>\n",
       "      <td>NaN</td>\n",
       "      <td>NaN</td>\n",
       "      <td>72.857143</td>\n",
       "      <td>NaN</td>\n",
       "      <td>NaN</td>\n",
       "    </tr>\n",
       "    <tr>\n",
       "      <th>std</th>\n",
       "      <td>NaN</td>\n",
       "      <td>NaN</td>\n",
       "      <td>32.256413</td>\n",
       "      <td>NaN</td>\n",
       "      <td>NaN</td>\n",
       "    </tr>\n",
       "    <tr>\n",
       "      <th>min</th>\n",
       "      <td>NaN</td>\n",
       "      <td>NaN</td>\n",
       "      <td>30.000000</td>\n",
       "      <td>NaN</td>\n",
       "      <td>NaN</td>\n",
       "    </tr>\n",
       "    <tr>\n",
       "      <th>25%</th>\n",
       "      <td>NaN</td>\n",
       "      <td>NaN</td>\n",
       "      <td>52.500000</td>\n",
       "      <td>NaN</td>\n",
       "      <td>NaN</td>\n",
       "    </tr>\n",
       "    <tr>\n",
       "      <th>50%</th>\n",
       "      <td>NaN</td>\n",
       "      <td>NaN</td>\n",
       "      <td>65.000000</td>\n",
       "      <td>NaN</td>\n",
       "      <td>NaN</td>\n",
       "    </tr>\n",
       "    <tr>\n",
       "      <th>75%</th>\n",
       "      <td>NaN</td>\n",
       "      <td>NaN</td>\n",
       "      <td>95.000000</td>\n",
       "      <td>NaN</td>\n",
       "      <td>NaN</td>\n",
       "    </tr>\n",
       "    <tr>\n",
       "      <th>max</th>\n",
       "      <td>NaN</td>\n",
       "      <td>NaN</td>\n",
       "      <td>120.000000</td>\n",
       "      <td>NaN</td>\n",
       "      <td>NaN</td>\n",
       "    </tr>\n",
       "  </tbody>\n",
       "</table>\n",
       "</div>"
      ],
      "text/plain": [
       "       sujeto  sabor      precio tamaño activación\n",
       "count       7      7    7.000000      7          7\n",
       "unique      3      5         NaN      3          2\n",
       "top       S01  choco         NaN      g       True\n",
       "freq        3      2         NaN      3          4\n",
       "mean      NaN    NaN   72.857143    NaN        NaN\n",
       "std       NaN    NaN   32.256413    NaN        NaN\n",
       "min       NaN    NaN   30.000000    NaN        NaN\n",
       "25%       NaN    NaN   52.500000    NaN        NaN\n",
       "50%       NaN    NaN   65.000000    NaN        NaN\n",
       "75%       NaN    NaN   95.000000    NaN        NaN\n",
       "max       NaN    NaN  120.000000    NaN        NaN"
      ]
     },
     "execution_count": 40,
     "metadata": {},
     "output_type": "execute_result"
    }
   ],
   "source": [
    "df.describe(include='all')"
   ]
  },
  {
   "cell_type": "code",
   "execution_count": 71,
   "id": "421ae9fe-43a1-43aa-9b5f-cfd3b93151c9",
   "metadata": {},
   "outputs": [],
   "source": [
    "tipos_sujetos = ['S'+ str(i).zfill(2) for i in range(4)] #str(3).zfill(2) nos va a a arrojar 02, ya que pone en la posición dos el valor  3\n",
    "generos=['M', 'F'],\n",
    "condición= ['control', 'experimental']\n",
    "region= ['hipocampo', 'cortex prefrontal', 'amigdala']\n",
    "neurotransmisores= ['dopamina', 'serotonina']\n",
    "\n",
    "\n",
    "#Crear un dataframe de 200 filas\n",
    "#Con las columnas: tipos_sujetos, condición, region, neurotransmisor;\n",
    "#Estas columnas deben tener una distribución uniforme \n",
    "#agregar una columna llamada 'presición' que tenga una distribución normal con mu=0.92, sigma=0.08\n",
    "#Este Dataset pretende simular los resultados de un estudio en el que se miden variables cognitivas y \n",
    "#fisiológicas en diferentes regiones cerebrales, sujetos y condiciones experimentales "
   ]
  },
  {
   "cell_type": "code",
   "execution_count": 70,
   "id": "19a344cf-efef-4198-b23d-3a01f80f853d",
   "metadata": {},
   "outputs": [
    {
     "data": {
      "text/plain": [
       "['S01', 'S01']"
      ]
     },
     "execution_count": 70,
     "metadata": {},
     "output_type": "execute_result"
    }
   ],
   "source": [
    "tipos_sujetos = ['S'+ str(i).zfill(2) for i in range(4)]\n",
    "\n",
    "longitud= 2\n",
    "enteros= np.random.randint(0,4, size=longitud)\n",
    "sujetos= ['S'+ str(i).zfill(2) for i in enteros]\n",
    "sujetos"
   ]
  },
  {
   "cell_type": "code",
   "execution_count": 69,
   "id": "f0a7007c-700f-410f-a060-3c5980f067ca",
   "metadata": {},
   "outputs": [
    {
     "data": {
      "text/plain": [
       "['S03', 'S01']"
      ]
     },
     "execution_count": 69,
     "metadata": {},
     "output_type": "execute_result"
    }
   ],
   "source": [
    "tipos_sujetos = ['S'+ str(i).zfill(2) for i in range(4)]\n",
    "longitud= 2\n",
    "ops_sujetos= np.random.randint(len(tipos_sujetos), size=longitud)\n",
    "sujetos2= [tipos_sujetos[i].zfill(2) for i in ops_sujetos]\n",
    "sujetos2"
   ]
  },
  {
   "cell_type": "code",
   "execution_count": 68,
   "id": "77cd5a45-da68-4f87-a857-a02174772dbf",
   "metadata": {},
   "outputs": [
    {
     "data": {
      "text/plain": [
       "['F', 'M']"
      ]
     },
     "execution_count": 68,
     "metadata": {},
     "output_type": "execute_result"
    }
   ],
   "source": [
    "generos=['M', 'F']\n",
    "longitud= 2\n",
    "ops_generos= np.random.randint(len(generos), size=longitud)\n",
    "generos2= [generos[i] for i in ops_generos]\n",
    "generos2"
   ]
  },
  {
   "cell_type": "code",
   "execution_count": 67,
   "id": "847fba2a-2606-46ad-99f4-1e3b3a3851eb",
   "metadata": {},
   "outputs": [
    {
     "data": {
      "text/plain": [
       "['experimental', 'experimental']"
      ]
     },
     "execution_count": 67,
     "metadata": {},
     "output_type": "execute_result"
    }
   ],
   "source": [
    "condición= ['control', 'experimental']\n",
    "longitud= 2\n",
    "ops_condición= np.random.randint(len(condición), size=longitud)\n",
    "condición2= [condición[i] for i in ops_condición]\n",
    "condición2"
   ]
  },
  {
   "cell_type": "code",
   "execution_count": 66,
   "id": "5bf330bc-fb14-49cc-ab93-ca4ae9661369",
   "metadata": {},
   "outputs": [
    {
     "data": {
      "text/plain": [
       "['amigdala',\n",
       " 'cortex prefrontal',\n",
       " 'hipocampo',\n",
       " 'cortex prefrontal',\n",
       " 'hipocampo',\n",
       " 'cortex prefrontal',\n",
       " 'cortex prefrontal',\n",
       " 'hipocampo',\n",
       " 'hipocampo',\n",
       " 'cortex prefrontal',\n",
       " 'hipocampo',\n",
       " 'cortex prefrontal',\n",
       " 'amigdala',\n",
       " 'cortex prefrontal',\n",
       " 'hipocampo',\n",
       " 'amigdala',\n",
       " 'amigdala',\n",
       " 'cortex prefrontal',\n",
       " 'cortex prefrontal',\n",
       " 'hipocampo']"
      ]
     },
     "execution_count": 66,
     "metadata": {},
     "output_type": "execute_result"
    }
   ],
   "source": [
    "region= ['hipocampo', 'cortex prefrontal', 'amigdala']\n",
    "longitud= 20\n",
    "ops_region= np.random.randint(len(region), size=longitud)\n",
    "region2= [region[i] for i in ops_region]\n",
    "region2"
   ]
  },
  {
   "cell_type": "code",
   "execution_count": 65,
   "id": "e661e3b6-1cea-42d0-99f2-dc3c2552dce2",
   "metadata": {},
   "outputs": [
    {
     "data": {
      "text/plain": [
       "['dopamina',\n",
       " 'dopamina',\n",
       " 'serotonina',\n",
       " 'dopamina',\n",
       " 'serotonina',\n",
       " 'dopamina',\n",
       " 'serotonina',\n",
       " 'dopamina',\n",
       " 'serotonina',\n",
       " 'dopamina',\n",
       " 'serotonina',\n",
       " 'serotonina',\n",
       " 'serotonina',\n",
       " 'dopamina',\n",
       " 'dopamina',\n",
       " 'dopamina',\n",
       " 'dopamina',\n",
       " 'serotonina',\n",
       " 'dopamina',\n",
       " 'dopamina']"
      ]
     },
     "execution_count": 65,
     "metadata": {},
     "output_type": "execute_result"
    }
   ],
   "source": [
    "neurotransmisores= ['dopamina', 'serotonina']\n",
    "longitud= 20\n",
    "ops_neurotransmisores= np.random.randint(len(neurotransmisores), size=longitud)\n",
    "neurotransmisores2= [neurotransmisores[i] for i in ops_neurotransmisores]\n",
    "neurotransmisores2"
   ]
  },
  {
   "cell_type": "code",
   "execution_count": 74,
   "id": "fa2fefac-1ae2-4ef9-9f56-ddf19f10e3f7",
   "metadata": {},
   "outputs": [
    {
     "data": {
      "text/html": [
       "<div>\n",
       "<style scoped>\n",
       "    .dataframe tbody tr th:only-of-type {\n",
       "        vertical-align: middle;\n",
       "    }\n",
       "\n",
       "    .dataframe tbody tr th {\n",
       "        vertical-align: top;\n",
       "    }\n",
       "\n",
       "    .dataframe thead th {\n",
       "        text-align: right;\n",
       "    }\n",
       "</style>\n",
       "<table border=\"1\" class=\"dataframe\">\n",
       "  <thead>\n",
       "    <tr style=\"text-align: right;\">\n",
       "      <th></th>\n",
       "      <th>sujeto</th>\n",
       "      <th>genero</th>\n",
       "      <th>condicion</th>\n",
       "      <th>region</th>\n",
       "      <th>neuro</th>\n",
       "      <th>presición</th>\n",
       "    </tr>\n",
       "  </thead>\n",
       "  <tbody>\n",
       "    <tr>\n",
       "      <th>0</th>\n",
       "      <td>S01</td>\n",
       "      <td>M</td>\n",
       "      <td>experimental</td>\n",
       "      <td>cortex prefrontal</td>\n",
       "      <td>dopamina</td>\n",
       "      <td>0.933076</td>\n",
       "    </tr>\n",
       "    <tr>\n",
       "      <th>1</th>\n",
       "      <td>S03</td>\n",
       "      <td>F</td>\n",
       "      <td>experimental</td>\n",
       "      <td>cortex prefrontal</td>\n",
       "      <td>dopamina</td>\n",
       "      <td>0.960015</td>\n",
       "    </tr>\n",
       "  </tbody>\n",
       "</table>\n",
       "</div>"
      ],
      "text/plain": [
       "  sujeto genero     condicion             region     neuro  presición\n",
       "0    S01      M  experimental  cortex prefrontal  dopamina   0.933076\n",
       "1    S03      F  experimental  cortex prefrontal  dopamina   0.960015"
      ]
     },
     "execution_count": 74,
     "metadata": {},
     "output_type": "execute_result"
    }
   ],
   "source": [
    "variables =[sujetos2,generos2, condición2, region2, neurotransmisores2]\n",
    "data= []\n",
    "\n",
    "for variable in variables:\n",
    "    opciones=np.random.randint(len(variable), size=longitud)\n",
    "    data.append([variable[i] for i in opciones])\n",
    "\n",
    "df= pd.DataFrame(data).transpose()\n",
    "df.columns= ['sujeto', 'genero', 'condicion', 'region', 'neuro']\n",
    "df['presición']= np.random.normal(loc=0.92, scale=0.08, size=longitud) #Agregar una nueva columna\n",
    "df"
   ]
  },
  {
   "cell_type": "code",
   "execution_count": 59,
   "id": "50382dd3-942e-431f-8e59-4aea7ebbd3f7",
   "metadata": {},
   "outputs": [],
   "source": [
    "import matplotlib.pyplot as plt"
   ]
  },
  {
   "cell_type": "code",
   "execution_count": null,
   "id": "f6b486df-2b6f-4296-8d5c-14763d7ad343",
   "metadata": {},
   "outputs": [],
   "source": [
    "#generar el histograma de cuantos datos por sujeto se tienen\n",
    "#Mostrar en un histograma la proporción de neurotransmisor"
   ]
  },
  {
   "cell_type": "code",
   "execution_count": 64,
   "id": "fe36dab6-78ef-4064-8f9c-4740b0f5f54d",
   "metadata": {},
   "outputs": [
    {
     "ename": "KeyError",
     "evalue": "'variables'",
     "output_type": "error",
     "traceback": [
      "\u001b[1;31m---------------------------------------------------------------------------\u001b[0m",
      "\u001b[1;31mKeyError\u001b[0m                                  Traceback (most recent call last)",
      "File \u001b[1;32m~\\AppData\\Local\\Programs\\Python\\Python310\\lib\\site-packages\\pandas\\core\\indexes\\base.py:3812\u001b[0m, in \u001b[0;36mIndex.get_loc\u001b[1;34m(self, key)\u001b[0m\n\u001b[0;32m   3811\u001b[0m \u001b[38;5;28;01mtry\u001b[39;00m:\n\u001b[1;32m-> 3812\u001b[0m     \u001b[38;5;28;01mreturn\u001b[39;00m \u001b[38;5;28;43mself\u001b[39;49m\u001b[38;5;241;43m.\u001b[39;49m\u001b[43m_engine\u001b[49m\u001b[38;5;241;43m.\u001b[39;49m\u001b[43mget_loc\u001b[49m\u001b[43m(\u001b[49m\u001b[43mcasted_key\u001b[49m\u001b[43m)\u001b[49m\n\u001b[0;32m   3813\u001b[0m \u001b[38;5;28;01mexcept\u001b[39;00m \u001b[38;5;167;01mKeyError\u001b[39;00m \u001b[38;5;28;01mas\u001b[39;00m err:\n",
      "File \u001b[1;32mpandas/_libs/index.pyx:167\u001b[0m, in \u001b[0;36mpandas._libs.index.IndexEngine.get_loc\u001b[1;34m()\u001b[0m\n",
      "File \u001b[1;32mpandas/_libs/index.pyx:196\u001b[0m, in \u001b[0;36mpandas._libs.index.IndexEngine.get_loc\u001b[1;34m()\u001b[0m\n",
      "File \u001b[1;32mpandas/_libs/hashtable_class_helper.pxi:7088\u001b[0m, in \u001b[0;36mpandas._libs.hashtable.PyObjectHashTable.get_item\u001b[1;34m()\u001b[0m\n",
      "File \u001b[1;32mpandas/_libs/hashtable_class_helper.pxi:7096\u001b[0m, in \u001b[0;36mpandas._libs.hashtable.PyObjectHashTable.get_item\u001b[1;34m()\u001b[0m\n",
      "\u001b[1;31mKeyError\u001b[0m: 'variables'",
      "\nThe above exception was the direct cause of the following exception:\n",
      "\u001b[1;31mKeyError\u001b[0m                                  Traceback (most recent call last)",
      "Cell \u001b[1;32mIn[64], line 1\u001b[0m\n\u001b[1;32m----> 1\u001b[0m plt\u001b[38;5;241m.\u001b[39mhist(\u001b[43mdf\u001b[49m\u001b[43m[\u001b[49m\u001b[38;5;124;43m'\u001b[39;49m\u001b[38;5;124;43mvariables\u001b[39;49m\u001b[38;5;124;43m'\u001b[39;49m\u001b[43m]\u001b[49m, color\u001b[38;5;241m=\u001b[39m\u001b[38;5;124m'\u001b[39m\u001b[38;5;124mtab:blue\u001b[39m\u001b[38;5;124m'\u001b[39m, alpha\u001b[38;5;241m=\u001b[39m\u001b[38;5;241m0.5\u001b[39m);\n",
      "File \u001b[1;32m~\\AppData\\Local\\Programs\\Python\\Python310\\lib\\site-packages\\pandas\\core\\frame.py:4107\u001b[0m, in \u001b[0;36mDataFrame.__getitem__\u001b[1;34m(self, key)\u001b[0m\n\u001b[0;32m   4105\u001b[0m \u001b[38;5;28;01mif\u001b[39;00m \u001b[38;5;28mself\u001b[39m\u001b[38;5;241m.\u001b[39mcolumns\u001b[38;5;241m.\u001b[39mnlevels \u001b[38;5;241m>\u001b[39m \u001b[38;5;241m1\u001b[39m:\n\u001b[0;32m   4106\u001b[0m     \u001b[38;5;28;01mreturn\u001b[39;00m \u001b[38;5;28mself\u001b[39m\u001b[38;5;241m.\u001b[39m_getitem_multilevel(key)\n\u001b[1;32m-> 4107\u001b[0m indexer \u001b[38;5;241m=\u001b[39m \u001b[38;5;28;43mself\u001b[39;49m\u001b[38;5;241;43m.\u001b[39;49m\u001b[43mcolumns\u001b[49m\u001b[38;5;241;43m.\u001b[39;49m\u001b[43mget_loc\u001b[49m\u001b[43m(\u001b[49m\u001b[43mkey\u001b[49m\u001b[43m)\u001b[49m\n\u001b[0;32m   4108\u001b[0m \u001b[38;5;28;01mif\u001b[39;00m is_integer(indexer):\n\u001b[0;32m   4109\u001b[0m     indexer \u001b[38;5;241m=\u001b[39m [indexer]\n",
      "File \u001b[1;32m~\\AppData\\Local\\Programs\\Python\\Python310\\lib\\site-packages\\pandas\\core\\indexes\\base.py:3819\u001b[0m, in \u001b[0;36mIndex.get_loc\u001b[1;34m(self, key)\u001b[0m\n\u001b[0;32m   3814\u001b[0m     \u001b[38;5;28;01mif\u001b[39;00m \u001b[38;5;28misinstance\u001b[39m(casted_key, \u001b[38;5;28mslice\u001b[39m) \u001b[38;5;129;01mor\u001b[39;00m (\n\u001b[0;32m   3815\u001b[0m         \u001b[38;5;28misinstance\u001b[39m(casted_key, abc\u001b[38;5;241m.\u001b[39mIterable)\n\u001b[0;32m   3816\u001b[0m         \u001b[38;5;129;01mand\u001b[39;00m \u001b[38;5;28many\u001b[39m(\u001b[38;5;28misinstance\u001b[39m(x, \u001b[38;5;28mslice\u001b[39m) \u001b[38;5;28;01mfor\u001b[39;00m x \u001b[38;5;129;01min\u001b[39;00m casted_key)\n\u001b[0;32m   3817\u001b[0m     ):\n\u001b[0;32m   3818\u001b[0m         \u001b[38;5;28;01mraise\u001b[39;00m InvalidIndexError(key)\n\u001b[1;32m-> 3819\u001b[0m     \u001b[38;5;28;01mraise\u001b[39;00m \u001b[38;5;167;01mKeyError\u001b[39;00m(key) \u001b[38;5;28;01mfrom\u001b[39;00m\u001b[38;5;250m \u001b[39m\u001b[38;5;21;01merr\u001b[39;00m\n\u001b[0;32m   3820\u001b[0m \u001b[38;5;28;01mexcept\u001b[39;00m \u001b[38;5;167;01mTypeError\u001b[39;00m:\n\u001b[0;32m   3821\u001b[0m     \u001b[38;5;66;03m# If we have a listlike key, _check_indexing_error will raise\u001b[39;00m\n\u001b[0;32m   3822\u001b[0m     \u001b[38;5;66;03m#  InvalidIndexError. Otherwise we fall through and re-raise\u001b[39;00m\n\u001b[0;32m   3823\u001b[0m     \u001b[38;5;66;03m#  the TypeError.\u001b[39;00m\n\u001b[0;32m   3824\u001b[0m     \u001b[38;5;28mself\u001b[39m\u001b[38;5;241m.\u001b[39m_check_indexing_error(key)\n",
      "\u001b[1;31mKeyError\u001b[0m: 'variables'"
     ]
    }
   ],
   "source": [
    "plt.hist(df[''], color='tab:blue', alpha=0.5);"
   ]
  },
  {
   "cell_type": "code",
   "execution_count": null,
   "id": "2bb9a77e-564c-4b87-9b95-c1562299ebb0",
   "metadata": {},
   "outputs": [],
   "source": [
    "# para cada sujeto, asacar la proporción del tipo de condición\n",
    "#para cada sujeto, clacule el maximo, el mínimo, y la media de su presición\n",
    "#para cada condición, hacer el histograma de las regiones activadas\n",
    "\n",
    "#hacerlo mediante 2 metodos filtrado de dataframes y usando groupby"
   ]
  },
  {
   "cell_type": "code",
   "execution_count": null,
   "id": "551ae1b7-d158-4d9d-9eb7-6859d9e21f1c",
   "metadata": {},
   "outputs": [],
   "source": []
  },
  {
   "cell_type": "code",
   "execution_count": null,
   "id": "ba82c968-35d7-4a06-84cb-e0b22a0df441",
   "metadata": {},
   "outputs": [],
   "source": []
  },
  {
   "cell_type": "code",
   "execution_count": null,
   "id": "646a96b6-e692-4675-90de-bc30f8caf28e",
   "metadata": {},
   "outputs": [],
   "source": []
  },
  {
   "cell_type": "code",
   "execution_count": null,
   "id": "54839e73-b31e-41be-992a-cf5533e6203a",
   "metadata": {},
   "outputs": [],
   "source": []
  },
  {
   "cell_type": "code",
   "execution_count": null,
   "id": "21c5219e-8c05-4885-9856-949f6caff52d",
   "metadata": {},
   "outputs": [],
   "source": []
  }
 ],
 "metadata": {
  "kernelspec": {
   "display_name": "Python 3 (ipykernel)",
   "language": "python",
   "name": "python3"
  },
  "language_info": {
   "codemirror_mode": {
    "name": "ipython",
    "version": 3
   },
   "file_extension": ".py",
   "mimetype": "text/x-python",
   "name": "python",
   "nbconvert_exporter": "python",
   "pygments_lexer": "ipython3",
   "version": "3.10.4"
  }
 },
 "nbformat": 4,
 "nbformat_minor": 5
}
