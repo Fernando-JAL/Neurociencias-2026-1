{
 "cells": [
  {
   "cell_type": "markdown",
   "id": "66b446d6-7ce0-4ba5-b0d5-07bd99c9fb9e",
   "metadata": {},
   "source": [
    "## Modulos\n",
    "¿que es un modulo?\n",
    "es un script que contiene varaibles, funciones y clases\n",
    "1) hacer un bloc de notas con la función\n",
    "2) guardar en formato .py\n",
    "3) from __ nombre archivo__ import * (importa todo lo que viene en el bloc de notas)\n",
    "4) si quiero solo llamar una en especifico pongo el nombre de la función que quiero llamar\n",
    "5) despues de cargarlas, ya puedo llamarlas"
   ]
  },
  {
   "cell_type": "code",
   "execution_count": 11,
   "id": "accf64d8-9c1e-4909-8fda-e5854892e09c",
   "metadata": {},
   "outputs": [],
   "source": [
    "from funcion_buena import * "
   ]
  },
  {
   "cell_type": "code",
   "execution_count": 12,
   "id": "af0d087c-53d5-410f-ae6f-1d3538ccebf8",
   "metadata": {},
   "outputs": [
    {
     "name": "stdout",
     "output_type": "stream",
     "text": [
      "Hola\n"
     ]
    }
   ],
   "source": [
    "saludo()"
   ]
  },
  {
   "cell_type": "markdown",
   "id": "e80ea28b-4995-4700-b937-b149d411d080",
   "metadata": {},
   "source": [
    "## Paquete numpy\n",
    "es un paquete enfocado en manipular arreglos de n dimensiones, es decir un arreglo. Un arreglo es una lista numerico con una sola dimension Numpy no hace ecuaciones matematicas\n"
   ]
  },
  {
   "cell_type": "code",
   "execution_count": 13,
   "id": "3e12f4d9-61ea-4536-95ee-e48c8a33bfb7",
   "metadata": {},
   "outputs": [],
   "source": [
    "import numpy as np"
   ]
  },
  {
   "cell_type": "code",
   "execution_count": 14,
   "id": "cbd9bac6-7eb8-418c-8314-af80a05bf6df",
   "metadata": {},
   "outputs": [
    {
     "data": {
      "text/plain": [
       "numpy.ndarray"
      ]
     },
     "execution_count": 14,
     "metadata": {},
     "output_type": "execute_result"
    }
   ],
   "source": [
    "lista= [3,4,5]\n",
    "\n",
    "variable=np.array(lista) # a esta variable hazmela un arreglo\n",
    "type(variable)"
   ]
  },
  {
   "cell_type": "code",
   "execution_count": 15,
   "id": "5e2d293e-66a2-4a9c-bb4e-c983993d0d19",
   "metadata": {},
   "outputs": [
    {
     "data": {
      "text/plain": [
       "(numpy.ndarray, 2)"
      ]
     },
     "execution_count": 15,
     "metadata": {},
     "output_type": "execute_result"
    }
   ],
   "source": [
    "var2=np.array([\n",
    "    [4,5,6],\n",
    "    [7,8,9]\n",
    "])\n",
    "type(var2), var2.ndim ##cuantas dimensiones tiene mi variable"
   ]
  },
  {
   "cell_type": "code",
   "execution_count": 16,
   "id": "ddf3d66a-d285-4290-b32d-7483d66c03e9",
   "metadata": {},
   "outputs": [
    {
     "data": {
      "text/plain": [
       "array([[4, 5, 6],\n",
       "       [7, 8, 9]])"
      ]
     },
     "execution_count": 16,
     "metadata": {},
     "output_type": "execute_result"
    }
   ],
   "source": [
    "var2"
   ]
  },
  {
   "cell_type": "code",
   "execution_count": 17,
   "id": "3c82709c-3949-48e4-8e38-5c6457824073",
   "metadata": {},
   "outputs": [
    {
     "data": {
      "text/plain": [
       "(2, 3)"
      ]
     },
     "execution_count": 17,
     "metadata": {},
     "output_type": "execute_result"
    }
   ],
   "source": [
    "var2.shape # los arreglos tmb tiene forma, dos filas 3 colunmans "
   ]
  },
  {
   "cell_type": "markdown",
   "id": "d4979c65-01ad-4385-ba16-cfc5df26ebc0",
   "metadata": {},
   "source": [
    "## funciones de numpy"
   ]
  },
  {
   "cell_type": "code",
   "execution_count": 18,
   "id": "5418bab3-5dec-4812-a402-e134ba45d0cc",
   "metadata": {},
   "outputs": [
    {
     "data": {
      "text/plain": [
       "(array([0., 0., 0., 0., 0., 0., 0., 0., 0., 0., 0., 0., 0., 0., 0., 0., 0.,\n",
       "        0., 0., 0.]),\n",
       " array([[0., 0., 0., 0.],\n",
       "        [0., 0., 0., 0.],\n",
       "        [0., 0., 0., 0.]]))"
      ]
     },
     "execution_count": 18,
     "metadata": {},
     "output_type": "execute_result"
    }
   ],
   "source": [
    "np.zeros(20), np.zeros([3,4]) ##arreglo de puros ceros, tú argumento son el número de ceros"
   ]
  },
  {
   "cell_type": "code",
   "execution_count": 19,
   "id": "a801b11b-9ede-464a-a858-5aabcf5aedec",
   "metadata": {},
   "outputs": [
    {
     "data": {
      "text/plain": [
       "array([[[[[1., 1., 1.],\n",
       "          [1., 1., 1.],\n",
       "          [1., 1., 1.]],\n",
       "\n",
       "         [[1., 1., 1.],\n",
       "          [1., 1., 1.],\n",
       "          [1., 1., 1.]],\n",
       "\n",
       "         [[1., 1., 1.],\n",
       "          [1., 1., 1.],\n",
       "          [1., 1., 1.]]],\n",
       "\n",
       "\n",
       "        [[[1., 1., 1.],\n",
       "          [1., 1., 1.],\n",
       "          [1., 1., 1.]],\n",
       "\n",
       "         [[1., 1., 1.],\n",
       "          [1., 1., 1.],\n",
       "          [1., 1., 1.]],\n",
       "\n",
       "         [[1., 1., 1.],\n",
       "          [1., 1., 1.],\n",
       "          [1., 1., 1.]]],\n",
       "\n",
       "\n",
       "        [[[1., 1., 1.],\n",
       "          [1., 1., 1.],\n",
       "          [1., 1., 1.]],\n",
       "\n",
       "         [[1., 1., 1.],\n",
       "          [1., 1., 1.],\n",
       "          [1., 1., 1.]],\n",
       "\n",
       "         [[1., 1., 1.],\n",
       "          [1., 1., 1.],\n",
       "          [1., 1., 1.]]]],\n",
       "\n",
       "\n",
       "\n",
       "       [[[[1., 1., 1.],\n",
       "          [1., 1., 1.],\n",
       "          [1., 1., 1.]],\n",
       "\n",
       "         [[1., 1., 1.],\n",
       "          [1., 1., 1.],\n",
       "          [1., 1., 1.]],\n",
       "\n",
       "         [[1., 1., 1.],\n",
       "          [1., 1., 1.],\n",
       "          [1., 1., 1.]]],\n",
       "\n",
       "\n",
       "        [[[1., 1., 1.],\n",
       "          [1., 1., 1.],\n",
       "          [1., 1., 1.]],\n",
       "\n",
       "         [[1., 1., 1.],\n",
       "          [1., 1., 1.],\n",
       "          [1., 1., 1.]],\n",
       "\n",
       "         [[1., 1., 1.],\n",
       "          [1., 1., 1.],\n",
       "          [1., 1., 1.]]],\n",
       "\n",
       "\n",
       "        [[[1., 1., 1.],\n",
       "          [1., 1., 1.],\n",
       "          [1., 1., 1.]],\n",
       "\n",
       "         [[1., 1., 1.],\n",
       "          [1., 1., 1.],\n",
       "          [1., 1., 1.]],\n",
       "\n",
       "         [[1., 1., 1.],\n",
       "          [1., 1., 1.],\n",
       "          [1., 1., 1.]]]],\n",
       "\n",
       "\n",
       "\n",
       "       [[[[1., 1., 1.],\n",
       "          [1., 1., 1.],\n",
       "          [1., 1., 1.]],\n",
       "\n",
       "         [[1., 1., 1.],\n",
       "          [1., 1., 1.],\n",
       "          [1., 1., 1.]],\n",
       "\n",
       "         [[1., 1., 1.],\n",
       "          [1., 1., 1.],\n",
       "          [1., 1., 1.]]],\n",
       "\n",
       "\n",
       "        [[[1., 1., 1.],\n",
       "          [1., 1., 1.],\n",
       "          [1., 1., 1.]],\n",
       "\n",
       "         [[1., 1., 1.],\n",
       "          [1., 1., 1.],\n",
       "          [1., 1., 1.]],\n",
       "\n",
       "         [[1., 1., 1.],\n",
       "          [1., 1., 1.],\n",
       "          [1., 1., 1.]]],\n",
       "\n",
       "\n",
       "        [[[1., 1., 1.],\n",
       "          [1., 1., 1.],\n",
       "          [1., 1., 1.]],\n",
       "\n",
       "         [[1., 1., 1.],\n",
       "          [1., 1., 1.],\n",
       "          [1., 1., 1.]],\n",
       "\n",
       "         [[1., 1., 1.],\n",
       "          [1., 1., 1.],\n",
       "          [1., 1., 1.]]]],\n",
       "\n",
       "\n",
       "\n",
       "       [[[[1., 1., 1.],\n",
       "          [1., 1., 1.],\n",
       "          [1., 1., 1.]],\n",
       "\n",
       "         [[1., 1., 1.],\n",
       "          [1., 1., 1.],\n",
       "          [1., 1., 1.]],\n",
       "\n",
       "         [[1., 1., 1.],\n",
       "          [1., 1., 1.],\n",
       "          [1., 1., 1.]]],\n",
       "\n",
       "\n",
       "        [[[1., 1., 1.],\n",
       "          [1., 1., 1.],\n",
       "          [1., 1., 1.]],\n",
       "\n",
       "         [[1., 1., 1.],\n",
       "          [1., 1., 1.],\n",
       "          [1., 1., 1.]],\n",
       "\n",
       "         [[1., 1., 1.],\n",
       "          [1., 1., 1.],\n",
       "          [1., 1., 1.]]],\n",
       "\n",
       "\n",
       "        [[[1., 1., 1.],\n",
       "          [1., 1., 1.],\n",
       "          [1., 1., 1.]],\n",
       "\n",
       "         [[1., 1., 1.],\n",
       "          [1., 1., 1.],\n",
       "          [1., 1., 1.]],\n",
       "\n",
       "         [[1., 1., 1.],\n",
       "          [1., 1., 1.],\n",
       "          [1., 1., 1.]]]]])"
      ]
     },
     "execution_count": 19,
     "metadata": {},
     "output_type": "execute_result"
    }
   ],
   "source": [
    "np.ones([4,3,3, 3, 3]) ##arreglos de puros unos"
   ]
  },
  {
   "cell_type": "code",
   "execution_count": 20,
   "id": "e27694fe-44a8-41a9-87f7-79672f35c27a",
   "metadata": {},
   "outputs": [
    {
     "data": {
      "text/plain": [
       "array([[1., 0., 0.],\n",
       "       [0., 1., 0.],\n",
       "       [0., 0., 1.]])"
      ]
     },
     "execution_count": 20,
     "metadata": {},
     "output_type": "execute_result"
    }
   ],
   "source": [
    "np.eye(3) ##función para crear una matriz de identidad, recordar q las matricez de identidad tienen q ser cuadradois"
   ]
  },
  {
   "cell_type": "code",
   "execution_count": 21,
   "id": "9c882ba1-3b90-48d8-a8e6-4109dab5c30e",
   "metadata": {},
   "outputs": [
    {
     "data": {
      "text/plain": [
       "array([[1., 0., 0., 0., 0.],\n",
       "       [0., 1., 0., 0., 0.],\n",
       "       [0., 0., 1., 0., 0.],\n",
       "       [0., 0., 0., 1., 0.],\n",
       "       [0., 0., 0., 0., 1.]])"
      ]
     },
     "execution_count": 21,
     "metadata": {},
     "output_type": "execute_result"
    }
   ],
   "source": [
    "np.eye(5) ## crea una matriz de 5*5"
   ]
  },
  {
   "cell_type": "code",
   "execution_count": null,
   "id": "11061a57-757a-4ec9-b0fb-667431b10a26",
   "metadata": {},
   "outputs": [],
   "source": [
    "## crar un arreglo de 4x4 cuyos elementos en la diagonal sean=8 y los de afuera=-10"
   ]
  },
  {
   "cell_type": "code",
   "execution_count": 22,
   "id": "89442655-80bc-47b7-bee1-f92d4a35273a",
   "metadata": {},
   "outputs": [
    {
     "name": "stdout",
     "output_type": "stream",
     "text": [
      "[[  8. -10. -10. -10.]\n",
      " [-10.   8. -10. -10.]\n",
      " [-10. -10.   8. -10.]\n",
      " [-10. -10. -10.   8.]]\n"
     ]
    }
   ],
   "source": [
    "valor= -10*np.ones([4,4])+ 18*np.eye(4) ##puedes sumar arregles, -10+18= 8\n",
    "print(valor)"
   ]
  },
  {
   "cell_type": "code",
   "execution_count": 23,
   "id": "eb42f8cf-2ece-4739-b761-06aa568c781d",
   "metadata": {},
   "outputs": [
    {
     "data": {
      "text/plain": [
       "array([[8., 0., 0., 0.],\n",
       "       [0., 8., 0., 0.],\n",
       "       [0., 0., 8., 0.],\n",
       "       [0., 0., 0., 8.]])"
      ]
     },
     "execution_count": 23,
     "metadata": {},
     "output_type": "execute_result"
    }
   ],
   "source": [
    "np.eye(4)*8## puedes multiplicar los argumentos de los arreglos"
   ]
  },
  {
   "cell_type": "code",
   "execution_count": 24,
   "id": "7a7ee539-f0b4-4a01-b7af-b203547e599e",
   "metadata": {},
   "outputs": [
    {
     "data": {
      "text/plain": [
       "array([[8., 0., 0., 0.],\n",
       "       [0., 8., 0., 0.],\n",
       "       [0., 0., 8., 0.],\n",
       "       [0., 0., 0., 8.]])"
      ]
     },
     "execution_count": 24,
     "metadata": {},
     "output_type": "execute_result"
    }
   ],
   "source": [
    "np.eye(4)*8## puedes multiplicar los argumentos de los arreglos"
   ]
  },
  {
   "cell_type": "code",
   "execution_count": 25,
   "id": "4859ff28-546d-42f5-abc5-e415c012a826",
   "metadata": {},
   "outputs": [
    {
     "data": {
      "text/plain": [
       "array([[ 4., -5., -5., -5.],\n",
       "       [-5.,  4., -5., -5.],\n",
       "       [-5., -5.,  4., -5.],\n",
       "       [-5., -5., -5.,  4.]])"
      ]
     },
     "execution_count": 25,
     "metadata": {},
     "output_type": "execute_result"
    }
   ],
   "source": [
    "valor/2 ### los arreglos se pueden dividir"
   ]
  },
  {
   "cell_type": "code",
   "execution_count": 26,
   "id": "b54a607f-7874-454b-824a-9c1826a0d285",
   "metadata": {},
   "outputs": [
    {
     "data": {
      "text/plain": [
       "array([[ 64., 100., 100., 100.],\n",
       "       [100.,  64., 100., 100.],\n",
       "       [100., 100.,  64., 100.],\n",
       "       [100., 100., 100.,  64.]])"
      ]
     },
     "execution_count": 26,
     "metadata": {},
     "output_type": "execute_result"
    }
   ],
   "source": [
    "valor**2"
   ]
  },
  {
   "cell_type": "code",
   "execution_count": 27,
   "id": "c624da49-23a8-4e10-93c1-e49a15550045",
   "metadata": {},
   "outputs": [
    {
     "data": {
      "text/plain": [
       "array([[ 0.125, -0.1  , -0.1  , -0.1  ],\n",
       "       [-0.1  ,  0.125, -0.1  , -0.1  ],\n",
       "       [-0.1  , -0.1  ,  0.125, -0.1  ],\n",
       "       [-0.1  , -0.1  , -0.1  ,  0.125]])"
      ]
     },
     "execution_count": 27,
     "metadata": {},
     "output_type": "execute_result"
    }
   ],
   "source": [
    "1/valor"
   ]
  }
 ],
 "metadata": {
  "kernelspec": {
   "display_name": "Python 3 (ipykernel)",
   "language": "python",
   "name": "python3"
  },
  "language_info": {
   "codemirror_mode": {
    "name": "ipython",
    "version": 3
   },
   "file_extension": ".py",
   "mimetype": "text/x-python",
   "name": "python",
   "nbconvert_exporter": "python",
   "pygments_lexer": "ipython3",
   "version": "3.10.4"
  }
 },
 "nbformat": 4,
 "nbformat_minor": 5
}
