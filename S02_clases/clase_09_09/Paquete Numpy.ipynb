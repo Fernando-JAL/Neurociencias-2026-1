{
 "cells": [
  {
   "cell_type": "code",
   "execution_count": 1,
   "id": "51c657d6-3db8-430e-b976-87f872fb660d",
   "metadata": {},
   "outputs": [],
   "source": [
    "import pandas "
   ]
  },
  {
   "cell_type": "code",
   "execution_count": 2,
   "id": "41afec7d-dfc4-4c97-bd9e-7692b609e497",
   "metadata": {},
   "outputs": [],
   "source": [
    "import matplotlib"
   ]
  },
  {
   "cell_type": "markdown",
   "id": "f9f691a4-97fc-486e-ba54-f6a7d4520b2d",
   "metadata": {},
   "source": [
    "# NUMPY"
   ]
  },
  {
   "cell_type": "code",
   "execution_count": 4,
   "id": "2e6b58ed-f13e-4e6b-ae0f-d2b5ff956750",
   "metadata": {},
   "outputs": [],
   "source": [
    "import numpy as np"
   ]
  },
  {
   "cell_type": "code",
   "execution_count": 6,
   "id": "8afd4c55-1f49-4504-894a-d5e208fe75a7",
   "metadata": {},
   "outputs": [
    {
     "name": "stdout",
     "output_type": "stream",
     "text": [
      "value = {'string', 5}, data type = type{'string', 5}\n"
     ]
    }
   ],
   "source": [
    "# convertir datos a arreglos \n",
    "value = np.array ({5, 'string'})\n",
    "print(f\"value = {value}, data type = type{(value)}\")"
   ]
  },
  {
   "cell_type": "code",
   "execution_count": 12,
   "id": "81cdfbd2-6776-469d-abbb-900517877574",
   "metadata": {},
   "outputs": [
    {
     "data": {
      "text/plain": [
       "array([-5, -4, -3, -2])"
      ]
     },
     "execution_count": 12,
     "metadata": {},
     "output_type": "execute_result"
    }
   ],
   "source": [
    "np.array(range(-7, 6))[2:6]"
   ]
  },
  {
   "cell_type": "code",
   "execution_count": 15,
   "id": "f7046c07-5900-4f04-bc3f-8d7da292f42a",
   "metadata": {},
   "outputs": [
    {
     "data": {
      "text/plain": [
       "(array([0, 1, 2, 3, 4]), array([-10,  -9,  -8,  -7,  -6]))"
      ]
     },
     "execution_count": 15,
     "metadata": {},
     "output_type": "execute_result"
    }
   ],
   "source": [
    "a, b = np.arange(5), np.arange(-10, -5)\n",
    "a, b "
   ]
  },
  {
   "cell_type": "code",
   "execution_count": 16,
   "id": "d97b794b-9e90-4c61-8641-ff7c1257a5b7",
   "metadata": {},
   "outputs": [
    {
     "data": {
      "text/plain": [
       "array([-10,  -8,  -6,  -4,  -2])"
      ]
     },
     "execution_count": 16,
     "metadata": {},
     "output_type": "execute_result"
    }
   ],
   "source": [
    "a + b"
   ]
  },
  {
   "cell_type": "code",
   "execution_count": 17,
   "id": "cb50aa87-a0ac-4de0-a410-677d714b471a",
   "metadata": {},
   "outputs": [
    {
     "data": {
      "text/plain": [
       "array([-10, -10, -10, -10, -10])"
      ]
     },
     "execution_count": 17,
     "metadata": {},
     "output_type": "execute_result"
    }
   ],
   "source": [
    "b - a"
   ]
  },
  {
   "cell_type": "code",
   "execution_count": 18,
   "id": "caafc27d-8e82-4f31-be2d-7098dbfaa03a",
   "metadata": {},
   "outputs": [
    {
     "data": {
      "text/plain": [
       "array([ 0,  6, 12, 18, 24])"
      ]
     },
     "execution_count": 18,
     "metadata": {},
     "output_type": "execute_result"
    }
   ],
   "source": []
  },
  {
   "cell_type": "code",
   "execution_count": 19,
   "id": "49fa4acf-c297-41c7-8791-5c1a97e85223",
   "metadata": {},
   "outputs": [
    {
     "data": {
      "text/plain": [
       "array([-3.33333333, -3.        , -2.66666667, -2.33333333, -2.        ])"
      ]
     },
     "execution_count": 19,
     "metadata": {},
     "output_type": "execute_result"
    }
   ],
   "source": [
    "b/3"
   ]
  },
  {
   "cell_type": "code",
   "execution_count": 20,
   "id": "adf08afd-9e9b-4022-b6af-ab1a55739cb9",
   "metadata": {},
   "outputs": [
    {
     "data": {
      "text/plain": [
       "array([18, 19, 20, 21, 22])"
      ]
     },
     "execution_count": 20,
     "metadata": {},
     "output_type": "execute_result"
    }
   ],
   "source": [
    "a + 18"
   ]
  },
  {
   "cell_type": "code",
   "execution_count": 21,
   "id": "924f7873-9514-4e9a-979b-99b01c44ca02",
   "metadata": {},
   "outputs": [
    {
     "data": {
      "text/plain": [
       "array([  0,  -9, -16, -21, -24])"
      ]
     },
     "execution_count": 21,
     "metadata": {},
     "output_type": "execute_result"
    }
   ],
   "source": [
    "a * b "
   ]
  },
  {
   "cell_type": "code",
   "execution_count": 23,
   "id": "cbcec7cf-f755-40a3-a035-f357e90dff4b",
   "metadata": {},
   "outputs": [
    {
     "data": {
      "text/plain": [
       "array([   1,   -9,   64, -343, 1296])"
      ]
     },
     "execution_count": 23,
     "metadata": {},
     "output_type": "execute_result"
    }
   ],
   "source": [
    "b**a"
   ]
  },
  {
   "cell_type": "code",
   "execution_count": 24,
   "id": "8e8d9470-1006-4562-a79a-dd4240737163",
   "metadata": {},
   "outputs": [
    {
     "data": {
      "text/plain": [
       "-1.5650845800732873"
      ]
     },
     "execution_count": 24,
     "metadata": {},
     "output_type": "execute_result"
    }
   ],
   "source": [
    "-6**(1/4)"
   ]
  },
  {
   "cell_type": "code",
   "execution_count": 25,
   "id": "125e12a5-0242-4583-b876-2c1634aac262",
   "metadata": {},
   "outputs": [
    {
     "data": {
      "text/plain": [
       "array([[ 4, -1],\n",
       "       [-7,  2]])"
      ]
     },
     "execution_count": 25,
     "metadata": {},
     "output_type": "execute_result"
    }
   ],
   "source": [
    "vec2D = np.array([[4,-1], [-7,2]])\n",
    "vec2D"
   ]
  },
  {
   "cell_type": "code",
   "execution_count": 26,
   "id": "ad4e4138-eb2d-44b4-a2fb-37d5b4b2989f",
   "metadata": {},
   "outputs": [
    {
     "data": {
      "text/plain": [
       "(array([[ 4, -7],\n",
       "        [-1,  2]]),\n",
       " array([[ 4, -7],\n",
       "        [-1,  2]]))"
      ]
     },
     "execution_count": 26,
     "metadata": {},
     "output_type": "execute_result"
    }
   ],
   "source": [
    "vec2D.transpose(),vec2D.T"
   ]
  },
  {
   "cell_type": "code",
   "execution_count": 29,
   "id": "ce325183-6509-4bc9-8c40-530207ac2f00",
   "metadata": {},
   "outputs": [
    {
     "data": {
      "text/plain": [
       "(array([[1, 2],\n",
       "        [3, 4]]),\n",
       " array([[ 4, -1],\n",
       "        [-7,  2]]))"
      ]
     },
     "execution_count": 29,
     "metadata": {},
     "output_type": "execute_result"
    }
   ],
   "source": [
    "vec_2D = np.array ([[1,2],[3,4]])\n",
    "vec_2D, vec2D"
   ]
  },
  {
   "cell_type": "code",
   "execution_count": 30,
   "id": "1fb0427e-adcc-40ec-9395-117a870990ba",
   "metadata": {},
   "outputs": [
    {
     "data": {
      "text/plain": [
       "array([[-10,   3],\n",
       "       [-16,   5]])"
      ]
     },
     "execution_count": 30,
     "metadata": {},
     "output_type": "execute_result"
    }
   ],
   "source": [
    "vec_2D @ vec2D"
   ]
  },
  {
   "cell_type": "code",
   "execution_count": 31,
   "id": "4b4d31c6-5a68-44b1-9e6d-efbbd73a02e0",
   "metadata": {},
   "outputs": [
    {
     "data": {
      "text/plain": [
       "array([[-10,   3],\n",
       "       [-16,   5]])"
      ]
     },
     "execution_count": 31,
     "metadata": {},
     "output_type": "execute_result"
    }
   ],
   "source": [
    "resultado = vec_2D @ vec2D\n",
    "resultado"
   ]
  },
  {
   "cell_type": "code",
   "execution_count": 34,
   "id": "ad8487e8-f1fa-4812-b2a7-2a3d1a02a50e",
   "metadata": {},
   "outputs": [
    {
     "data": {
      "text/plain": [
       "np.int64(-16)"
      ]
     },
     "execution_count": 34,
     "metadata": {},
     "output_type": "execute_result"
    }
   ],
   "source": [
    "resultado [1][0]"
   ]
  },
  {
   "cell_type": "code",
   "execution_count": 35,
   "id": "9b39f915-9392-428d-b235-0f40a9772fd2",
   "metadata": {},
   "outputs": [
    {
     "data": {
      "text/plain": [
       "array([-16,   5])"
      ]
     },
     "execution_count": 35,
     "metadata": {},
     "output_type": "execute_result"
    }
   ],
   "source": [
    "resultado [1]"
   ]
  },
  {
   "cell_type": "code",
   "execution_count": 36,
   "id": "4414d382-667d-43fd-a376-121943f24e1f",
   "metadata": {},
   "outputs": [],
   "source": [
    "matriz = np.array([[0, 5, 10],\n",
    "                   [15, 20, 25],\n",
    "                   [99, 35, 40]])"
   ]
  },
  {
   "cell_type": "code",
   "execution_count": 37,
   "id": "144b5301-ec4a-4ff3-a113-434925f1449c",
   "metadata": {},
   "outputs": [
    {
     "data": {
      "text/plain": [
       "array([99, 35])"
      ]
     },
     "execution_count": 37,
     "metadata": {},
     "output_type": "execute_result"
    }
   ],
   "source": [
    "matriz[2][:-1]"
   ]
  },
  {
   "cell_type": "code",
   "execution_count": 38,
   "id": "76e1d691-59d8-4314-9b94-e4b9f43ed72b",
   "metadata": {},
   "outputs": [
    {
     "data": {
      "text/plain": [
       "array([[ 0,  5, 10],\n",
       "       [15, 20, 25],\n",
       "       [99, 35, 40]])"
      ]
     },
     "execution_count": 38,
     "metadata": {},
     "output_type": "execute_result"
    }
   ],
   "source": [
    "matriz [:][:]"
   ]
  },
  {
   "cell_type": "code",
   "execution_count": 40,
   "id": "e92daa4d-0be9-43e8-b311-34e45c1180cf",
   "metadata": {},
   "outputs": [
    {
     "data": {
      "text/plain": [
       "array([[15, 20, 25],\n",
       "       [99, 35, 40]])"
      ]
     },
     "execution_count": 40,
     "metadata": {},
     "output_type": "execute_result"
    }
   ],
   "source": [
    "matriz [1 :]"
   ]
  },
  {
   "cell_type": "code",
   "execution_count": 41,
   "id": "4d3bf958-db63-4e2a-970e-cc6332cce1b1",
   "metadata": {},
   "outputs": [],
   "source": [
    "# hacer tarea de como nos quedamos con la columna de enmedio (5, 20, 35)"
   ]
  },
  {
   "cell_type": "code",
   "execution_count": 42,
   "id": "c61816ca-a371-40ef-96db-9c263d1edd03",
   "metadata": {},
   "outputs": [
    {
     "data": {
      "text/plain": [
       "array([[  0,   5,  10],\n",
       "       [-20,  20,  25],\n",
       "       [ 99,  35,  40]])"
      ]
     },
     "execution_count": 42,
     "metadata": {},
     "output_type": "execute_result"
    }
   ],
   "source": [
    "matriz [1][0] = -20\n",
    "matriz"
   ]
  },
  {
   "cell_type": "code",
   "execution_count": 43,
   "id": "58004e6e-7c41-4e70-83c7-a56014eb79f7",
   "metadata": {},
   "outputs": [
    {
     "data": {
      "text/plain": [
       "0.5900570189275377"
      ]
     },
     "execution_count": 43,
     "metadata": {},
     "output_type": "execute_result"
    }
   ],
   "source": [
    "np.random.rand()"
   ]
  },
  {
   "cell_type": "code",
   "execution_count": 44,
   "id": "8d2ea32f-6126-4b1b-ba6b-ff8f8bb7ecce",
   "metadata": {},
   "outputs": [
    {
     "name": "stdout",
     "output_type": "stream",
     "text": [
      "0.3545356642713926\n",
      "0.5931161129780403\n",
      "0.3477936532729613\n",
      "0.9890127037876233\n",
      "0.5055413622670404\n"
     ]
    }
   ],
   "source": [
    "for _ in range(5):\n",
    "    print (np.random.rand()) # genera nuemeros aleatorios entre 0 y 1"
   ]
  },
  {
   "cell_type": "code",
   "execution_count": 45,
   "id": "6590620b-9496-4e82-b608-5c903445caf0",
   "metadata": {},
   "outputs": [
    {
     "data": {
      "text/plain": [
       "array([0.56852836, 0.59097124, 0.61908889, 0.60845868, 0.72994306])"
      ]
     },
     "execution_count": 45,
     "metadata": {},
     "output_type": "execute_result"
    }
   ],
   "source": [
    "np.random.rand(5)"
   ]
  },
  {
   "cell_type": "code",
   "execution_count": 46,
   "id": "23e19083-686c-4817-a334-bb82f5d12e82",
   "metadata": {},
   "outputs": [
    {
     "data": {
      "text/plain": [
       "array([[0.98632219, 0.61000032, 0.88527424],\n",
       "       [0.54639015, 0.17679039, 0.98678182],\n",
       "       [0.97310148, 0.48037263, 0.01007792],\n",
       "       [0.72625945, 0.15514745, 0.75365319],\n",
       "       [0.6278919 , 0.7582127 , 0.42876175]])"
      ]
     },
     "execution_count": 46,
     "metadata": {},
     "output_type": "execute_result"
    }
   ],
   "source": [
    "np.random.rand(5,3)"
   ]
  },
  {
   "cell_type": "code",
   "execution_count": null,
   "id": "67d313d7-6931-4eec-8e7c-9c2715586f07",
   "metadata": {},
   "outputs": [],
   "source": []
  }
 ],
 "metadata": {
  "kernelspec": {
   "display_name": "Python 3 (ipykernel)",
   "language": "python",
   "name": "python3"
  },
  "language_info": {
   "codemirror_mode": {
    "name": "ipython",
    "version": 3
   },
   "file_extension": ".py",
   "mimetype": "text/x-python",
   "name": "python",
   "nbconvert_exporter": "python",
   "pygments_lexer": "ipython3",
   "version": "3.10.4"
  }
 },
 "nbformat": 4,
 "nbformat_minor": 5
}
