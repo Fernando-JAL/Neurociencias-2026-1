{
 "cells": [
  {
   "cell_type": "code",
   "execution_count": 4,
   "id": "f176fc9f-cf08-43d3-8072-5277bd4b6ad3",
   "metadata": {},
   "outputs": [
    {
     "name": "stdout",
     "output_type": "stream",
     "text": [
      "Collecting numpy\n",
      "  Downloading numpy-2.2.6-cp310-cp310-win_amd64.whl (12.9 MB)\n",
      "     ---------------------------------------- 12.9/12.9 MB 1.1 MB/s eta 0:00:00\n",
      "Installing collected packages: numpy\n",
      "Successfully installed numpy-2.2.6\n"
     ]
    },
    {
     "name": "stderr",
     "output_type": "stream",
     "text": [
      "WARNING: You are using pip version 22.0.4; however, version 25.2 is available.\n",
      "You should consider upgrading via the 'C:\\Users\\mafig\\AppData\\Local\\Programs\\Python\\Python310\\python.exe -m pip install --upgrade pip' command.\n"
     ]
    }
   ],
   "source": [
    "!pip install numpy"
   ]
  },
  {
   "cell_type": "code",
   "execution_count": 5,
   "id": "ec935c3d-aa8b-4c19-84f2-73831f84eefc",
   "metadata": {},
   "outputs": [],
   "source": [
    "# np.shape num elementos en cada dimensión\n",
    "import numpy as np"
   ]
  },
  {
   "cell_type": "code",
   "execution_count": 5,
   "id": "b58ba892-43a1-45b6-986c-f046447ab2b8",
   "metadata": {},
   "outputs": [
    {
     "name": "stdout",
     "output_type": "stream",
     "text": [
      "value=['5' 'string'],data type=<class 'numpy.ndarray'>\n"
     ]
    }
   ],
   "source": [
    "# convertir datos a arreglos, pueden ser listas, tuplas o conjuntos cualquier tipo de dato\n",
    "value=np.array([5,'string'])\n",
    "print(f'value={value},data type={type(value)}')"
   ]
  },
  {
   "cell_type": "code",
   "execution_count": 11,
   "id": "f8bfa5dd-3131-494d-ac17-dc339281dee2",
   "metadata": {},
   "outputs": [
    {
     "data": {
      "text/plain": [
       "array([-5, -4, -3, -2])"
      ]
     },
     "execution_count": 11,
     "metadata": {},
     "output_type": "execute_result"
    }
   ],
   "source": [
    "# slicing\n",
    "np.array(range(-7,6))[2:6]"
   ]
  },
  {
   "cell_type": "code",
   "execution_count": 33,
   "id": "a32905cd-8dbe-4a0e-80b4-126301983eae",
   "metadata": {},
   "outputs": [
    {
     "data": {
      "text/plain": [
       "(array([0, 1, 2, 3, 4]), array([-10,  -9,  -8,  -7,  -6]))"
      ]
     },
     "execution_count": 33,
     "metadata": {},
     "output_type": "execute_result"
    }
   ],
   "source": [
    "a , b= np.array(range(5)), np.array(range(-10,-5))\n",
    "a,b"
   ]
  },
  {
   "cell_type": "code",
   "execution_count": 34,
   "id": "25603156-acec-4c61-b2a3-daeabcd189e0",
   "metadata": {},
   "outputs": [
    {
     "data": {
      "text/plain": [
       "array([-10, -10, -10, -10, -10])"
      ]
     },
     "execution_count": 34,
     "metadata": {},
     "output_type": "execute_result"
    }
   ],
   "source": [
    "b - a"
   ]
  },
  {
   "cell_type": "code",
   "execution_count": 35,
   "id": "c1fbfff8-7ba5-4c30-94eb-15251cc47ca0",
   "metadata": {},
   "outputs": [
    {
     "data": {
      "text/plain": [
       "array([ 0,  6, 12, 18, 24])"
      ]
     },
     "execution_count": 35,
     "metadata": {},
     "output_type": "execute_result"
    }
   ],
   "source": [
    "6*a"
   ]
  },
  {
   "cell_type": "code",
   "execution_count": 36,
   "id": "0b4cea18-bfa7-468a-8fc4-a2605a287acd",
   "metadata": {},
   "outputs": [
    {
     "data": {
      "text/plain": [
       "array([0.        , 0.33333333, 0.66666667, 1.        , 1.33333333])"
      ]
     },
     "execution_count": 36,
     "metadata": {},
     "output_type": "execute_result"
    }
   ],
   "source": [
    "a/3"
   ]
  },
  {
   "cell_type": "code",
   "execution_count": 37,
   "id": "331bf915-18d2-4e05-94d9-7a8f49238b99",
   "metadata": {},
   "outputs": [
    {
     "data": {
      "text/plain": [
       "array([18, 19, 20, 21, 22])"
      ]
     },
     "execution_count": 37,
     "metadata": {},
     "output_type": "execute_result"
    }
   ],
   "source": [
    "a+18"
   ]
  },
  {
   "cell_type": "code",
   "execution_count": 38,
   "id": "ffcf7189-5aae-487c-a3a3-1f9290b06169",
   "metadata": {},
   "outputs": [
    {
     "name": "stderr",
     "output_type": "stream",
     "text": [
      "C:\\Users\\V304-16\\AppData\\Local\\Temp\\ipykernel_3160\\2243761560.py:1: RuntimeWarning: divide by zero encountered in divide\n",
      "  b/a\n"
     ]
    },
    {
     "data": {
      "text/plain": [
       "array([       -inf, -9.        , -4.        , -2.33333333, -1.5       ])"
      ]
     },
     "execution_count": 38,
     "metadata": {},
     "output_type": "execute_result"
    }
   ],
   "source": [
    "b/a"
   ]
  },
  {
   "cell_type": "code",
   "execution_count": 39,
   "id": "22eda9d8-41d2-4ba7-8b57-e41ebb399c8c",
   "metadata": {},
   "outputs": [
    {
     "data": {
      "text/plain": [
       "array([  0,  -9, -16, -21, -24])"
      ]
     },
     "execution_count": 39,
     "metadata": {},
     "output_type": "execute_result"
    }
   ],
   "source": [
    "a*b"
   ]
  },
  {
   "cell_type": "code",
   "execution_count": 41,
   "id": "1adf2155-363f-4fb0-9785-b9e997fb4389",
   "metadata": {},
   "outputs": [
    {
     "name": "stderr",
     "output_type": "stream",
     "text": [
      "C:\\Users\\V304-16\\AppData\\Local\\Temp\\ipykernel_3160\\3261360213.py:1: RuntimeWarning: divide by zero encountered in divide\n",
      "  b**(1/a)\n",
      "C:\\Users\\V304-16\\AppData\\Local\\Temp\\ipykernel_3160\\3261360213.py:1: RuntimeWarning: invalid value encountered in power\n",
      "  b**(1/a)\n"
     ]
    },
    {
     "data": {
      "text/plain": [
       "array([inf, -9., nan, nan, nan])"
      ]
     },
     "execution_count": 41,
     "metadata": {},
     "output_type": "execute_result"
    }
   ],
   "source": [
    "b**(1/a)\n",
    "# nan= not a number, lo marca asi por que esta dentro del arreglo, si lo haces explicito devuelve un num complejo\n",
    "pow(-8,0.5)"
   ]
  },
  {
   "cell_type": "code",
   "execution_count": 42,
   "id": "df67e921-4039-4207-a92b-24174ff7d6b8",
   "metadata": {},
   "outputs": [
    {
     "data": {
      "text/plain": [
       "1.5650845800732873"
      ]
     },
     "execution_count": 42,
     "metadata": {},
     "output_type": "execute_result"
    }
   ],
   "source": [
    "6**(1/4)"
   ]
  },
  {
   "cell_type": "code",
   "execution_count": 43,
   "id": "1ea74b87-1ea9-4415-b002-b900e55efc4b",
   "metadata": {},
   "outputs": [
    {
     "data": {
      "text/plain": [
       "3.0"
      ]
     },
     "execution_count": 43,
     "metadata": {},
     "output_type": "execute_result"
    }
   ],
   "source": [
    "27**(1/3)"
   ]
  },
  {
   "cell_type": "code",
   "execution_count": 45,
   "id": "e26b93b3-688e-4f8a-82da-82744a1686f9",
   "metadata": {},
   "outputs": [
    {
     "data": {
      "text/plain": [
       "11.0"
      ]
     },
     "execution_count": 45,
     "metadata": {},
     "output_type": "execute_result"
    }
   ],
   "source": [
    "pow(121,0.5)"
   ]
  },
  {
   "cell_type": "code",
   "execution_count": 47,
   "id": "a77391ff-5283-4bcd-b8ed-5a0f528ded09",
   "metadata": {},
   "outputs": [
    {
     "data": {
      "text/plain": [
       "(1.7319121124709868e-16+2.8284271247461903j)"
      ]
     },
     "execution_count": 47,
     "metadata": {},
     "output_type": "execute_result"
    }
   ],
   "source": [
    "pow(-8,0.5)"
   ]
  },
  {
   "cell_type": "code",
   "execution_count": 49,
   "id": "274fbcb4-1391-41c0-8f78-05267753a190",
   "metadata": {},
   "outputs": [
    {
     "data": {
      "text/plain": [
       "array([ 5, 10])"
      ]
     },
     "execution_count": 49,
     "metadata": {},
     "output_type": "execute_result"
    }
   ],
   "source": [
    "vec= np.array([5,10])\n",
    "vec"
   ]
  },
  {
   "cell_type": "code",
   "execution_count": 50,
   "id": "8718a1d9-a9ec-4baa-8740-db2edc4d3783",
   "metadata": {},
   "outputs": [
    {
     "data": {
      "text/plain": [
       "array([[ 4, -1],\n",
       "       [-7,  2]])"
      ]
     },
     "execution_count": 50,
     "metadata": {},
     "output_type": "execute_result"
    }
   ],
   "source": [
    "vec2D= np.array([[4,-1],\n",
    "                [-7,2]])\n",
    "vec2D"
   ]
  },
  {
   "cell_type": "code",
   "execution_count": 51,
   "id": "3eaa244a-377c-4048-a1b8-a00d47613ab0",
   "metadata": {},
   "outputs": [
    {
     "data": {
      "text/plain": [
       "(array([[ 4, -7],\n",
       "        [-1,  2]]),\n",
       " array([[ 4, -7],\n",
       "        [-1,  2]]))"
      ]
     },
     "execution_count": 51,
     "metadata": {},
     "output_type": "execute_result"
    }
   ],
   "source": [
    "vec2D.transpose(), vec2D.T # LAS DOS FUNCIONES TRANSPONEN"
   ]
  },
  {
   "cell_type": "code",
   "execution_count": 53,
   "id": "fa21d5f1-6d9f-4963-8b00-7a8cf4e63790",
   "metadata": {},
   "outputs": [
    {
     "data": {
      "text/plain": [
       "(array([[1, 2],\n",
       "        [3, 4]]),\n",
       " array([[ 4, -1],\n",
       "        [-7,  2]]))"
      ]
     },
     "execution_count": 53,
     "metadata": {},
     "output_type": "execute_result"
    }
   ],
   "source": [
    "vec1= np.array([[1,2],\n",
    "                [3,4]])\n",
    "vec1,vec2D"
   ]
  },
  {
   "cell_type": "code",
   "execution_count": 65,
   "id": "cbab75b7-2351-4cb2-8a78-bd9de1e63d75",
   "metadata": {},
   "outputs": [
    {
     "data": {
      "text/plain": [
       "array([[-10,   3],\n",
       "       [-16,   5]])"
      ]
     },
     "execution_count": 65,
     "metadata": {},
     "output_type": "execute_result"
    }
   ],
   "source": [
    "vector=vec1@ vec2D # producto matricial del álgebra\n",
    "vector"
   ]
  },
  {
   "cell_type": "code",
   "execution_count": 64,
   "id": "9e44f1b4-7de3-4856-bd7a-0513553cafd3",
   "metadata": {},
   "outputs": [
    {
     "data": {
      "text/plain": [
       "array([-16,   5])"
      ]
     },
     "execution_count": 64,
     "metadata": {},
     "output_type": "execute_result"
    }
   ],
   "source": [
    "# doble slicing, al resultado del slicing se le aplica otro slicing\n",
    "vector[1]"
   ]
  },
  {
   "cell_type": "code",
   "execution_count": 6,
   "id": "2fc01f1d-2243-485a-9e10-79d3a34abd66",
   "metadata": {},
   "outputs": [],
   "source": [
    "matriz=np.array([[0,5,10], # es mutable, se puede cambiar un elemento\n",
    "                [15,20,25],\n",
    "                [99,35,40]])"
   ]
  },
  {
   "cell_type": "code",
   "execution_count": 70,
   "id": "16f2da36-8a0d-454c-851f-b883bfad2550",
   "metadata": {},
   "outputs": [
    {
     "data": {
      "text/plain": [
       "array([99, 35])"
      ]
     },
     "execution_count": 70,
     "metadata": {},
     "output_type": "execute_result"
    }
   ],
   "source": [
    "matriz[2][:2] "
   ]
  },
  {
   "cell_type": "code",
   "execution_count": 71,
   "id": "0c89f9a7-9bbb-4cf8-b139-f6d24958e506",
   "metadata": {},
   "outputs": [
    {
     "data": {
      "text/plain": [
       "array([99, 35])"
      ]
     },
     "execution_count": 71,
     "metadata": {},
     "output_type": "execute_result"
    }
   ],
   "source": [
    "matriz[2][:-1] "
   ]
  },
  {
   "cell_type": "code",
   "execution_count": 72,
   "id": "8aab5572-1ef7-4bab-8e1f-c344a211289a",
   "metadata": {},
   "outputs": [
    {
     "data": {
      "text/plain": [
       "array([[ 0,  5, 10],\n",
       "       [15, 20, 25],\n",
       "       [99, 35, 40]])"
      ]
     },
     "execution_count": 72,
     "metadata": {},
     "output_type": "execute_result"
    }
   ],
   "source": [
    "matriz[:][:] # devuelve todo"
   ]
  },
  {
   "cell_type": "code",
   "execution_count": 75,
   "id": "60cf7dd6-302d-40d4-bb87-ba5a317e9881",
   "metadata": {},
   "outputs": [
    {
     "data": {
      "text/plain": [
       "array([[15, 20, 25],\n",
       "       [99, 35, 40]])"
      ]
     },
     "execution_count": 75,
     "metadata": {},
     "output_type": "execute_result"
    }
   ],
   "source": [
    "matriz[1:]"
   ]
  },
  {
   "cell_type": "code",
   "execution_count": 7,
   "id": "db6cc685-504d-4672-a2e5-b84e8f6979f1",
   "metadata": {},
   "outputs": [
    {
     "data": {
      "text/plain": [
       "(np.int64(5), np.int64(20), np.int64(35))"
      ]
     },
     "execution_count": 7,
     "metadata": {},
     "output_type": "execute_result"
    }
   ],
   "source": [
    "# tarea devolver la columna del medio 5,20,35\n",
    "matriz[0][1],matriz[1][1],matriz[2][1]\n"
   ]
  },
  {
   "cell_type": "code",
   "execution_count": 15,
   "id": "9f14be07-c120-47cc-883a-12eeba32159f",
   "metadata": {},
   "outputs": [
    {
     "data": {
      "text/plain": [
       "array([[ 5],\n",
       "       [20],\n",
       "       [35]])"
      ]
     },
     "execution_count": 15,
     "metadata": {},
     "output_type": "execute_result"
    }
   ],
   "source": [
    "matriz[[0,1,2]][:,[1]]"
   ]
  },
  {
   "cell_type": "code",
   "execution_count": 81,
   "id": "0bfda23b-6330-449d-b55a-04ffaa3273d0",
   "metadata": {},
   "outputs": [
    {
     "name": "stdout",
     "output_type": "stream",
     "text": [
      "0.0797839095899614\n",
      "0.7092823335136885\n",
      "0.20225241505143354\n",
      "0.20138881872263414\n",
      "0.2586005678497515\n"
     ]
    }
   ],
   "source": [
    "for  _ in range(5):\n",
    "   print( np.random.rand()) # genera numeros aleatorios del 0 al 1"
   ]
  },
  {
   "cell_type": "code",
   "execution_count": 82,
   "id": "541b2404-4176-446d-b6d0-97cc8e15831c",
   "metadata": {},
   "outputs": [
    {
     "data": {
      "text/plain": [
       "array([0.14073951, 0.36550091, 0.99071541, 0.24516492, 0.96537216])"
      ]
     },
     "execution_count": 82,
     "metadata": {},
     "output_type": "execute_result"
    }
   ],
   "source": [
    "np.random.rand(5)"
   ]
  },
  {
   "cell_type": "code",
   "execution_count": null,
   "id": "cb4d485d-59ca-485f-a846-aff6a17d8650",
   "metadata": {},
   "outputs": [],
   "source": []
  }
 ],
 "metadata": {
  "kernelspec": {
   "display_name": "Python 3 (ipykernel)",
   "language": "python",
   "name": "python3"
  },
  "language_info": {
   "codemirror_mode": {
    "name": "ipython",
    "version": 3
   },
   "file_extension": ".py",
   "mimetype": "text/x-python",
   "name": "python",
   "nbconvert_exporter": "python",
   "pygments_lexer": "ipython3",
   "version": "3.10.4"
  }
 },
 "nbformat": 4,
 "nbformat_minor": 5
}
