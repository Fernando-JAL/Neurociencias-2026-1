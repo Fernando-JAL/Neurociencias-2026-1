{
 "cells": [
  {
   "cell_type": "code",
   "execution_count": 1,
   "id": "84fbe76d-fa6b-4016-a7c1-ef91a91156cd",
   "metadata": {},
   "outputs": [],
   "source": [
    "import numpy as np"
   ]
  },
  {
   "cell_type": "code",
   "execution_count": 9,
   "id": "4655d6fb-c01c-4a34-b1d8-325570891fe7",
   "metadata": {},
   "outputs": [
    {
     "name": "stdout",
     "output_type": "stream",
     "text": [
      "value = {'string', 5}, data type = <class 'numpy.ndarray'>\n"
     ]
    }
   ],
   "source": [
    "# convertir datos a arreglos\n",
    "value = np.array({5, 'string'})\n",
    "print(f\"value = {value}, data type = {type(value)}\")"
   ]
  },
  {
   "cell_type": "code",
   "execution_count": 14,
   "id": "8c684292-50c3-4c24-8958-d9686b5b0aea",
   "metadata": {},
   "outputs": [
    {
     "data": {
      "text/plain": [
       "array([-5, -4, -3, -2])"
      ]
     },
     "execution_count": 14,
     "metadata": {},
     "output_type": "execute_result"
    }
   ],
   "source": [
    "np.array(range(-7, 6))[2:6]"
   ]
  },
  {
   "cell_type": "code",
   "execution_count": 16,
   "id": "7840a627-4176-4e8b-85c9-d6d939b27edd",
   "metadata": {},
   "outputs": [
    {
     "data": {
      "text/plain": [
       "(array([0, 1, 2, 3, 4]), array([-10,  -9,  -8,  -7,  -6]))"
      ]
     },
     "execution_count": 16,
     "metadata": {},
     "output_type": "execute_result"
    }
   ],
   "source": [
    "a, b = np.arange(5), np.arange(-10, -5)\n",
    "a, b"
   ]
  },
  {
   "cell_type": "code",
   "execution_count": 28,
   "id": "e0ae42fe-e639-49da-9503-3614e035862f",
   "metadata": {},
   "outputs": [
    {
     "name": "stderr",
     "output_type": "stream",
     "text": [
      "C:\\Users\\OMEN CI7\\AppData\\Local\\Temp\\ipykernel_10724\\3261360213.py:1: RuntimeWarning: divide by zero encountered in divide\n",
      "  b**(1/a)\n",
      "C:\\Users\\OMEN CI7\\AppData\\Local\\Temp\\ipykernel_10724\\3261360213.py:1: RuntimeWarning: invalid value encountered in power\n",
      "  b**(1/a)\n"
     ]
    },
    {
     "data": {
      "text/plain": [
       "array([inf, -9., nan, nan, nan])"
      ]
     },
     "execution_count": 28,
     "metadata": {},
     "output_type": "execute_result"
    }
   ],
   "source": [
    "b**(1/a)"
   ]
  },
  {
   "cell_type": "code",
   "execution_count": 31,
   "id": "6620d9f5-afe6-423d-bed0-cf48050f8897",
   "metadata": {},
   "outputs": [
    {
     "data": {
      "text/plain": [
       "((1.7319121124709868e-16+2.8284271247461903j),\n",
       " (1.1066819197003217+1.1066819197003217j))"
      ]
     },
     "execution_count": 31,
     "metadata": {},
     "output_type": "execute_result"
    }
   ],
   "source": [
    "(-8)**0.5, (-6)**(1/4)"
   ]
  },
  {
   "cell_type": "code",
   "execution_count": 32,
   "id": "29fdf002-5027-4666-bfbf-7a6b1e43d556",
   "metadata": {},
   "outputs": [
    {
     "data": {
      "text/plain": [
       "array([ 5, 10])"
      ]
     },
     "execution_count": 32,
     "metadata": {},
     "output_type": "execute_result"
    }
   ],
   "source": [
    "vec = np.array([5, 10])\n",
    "vec"
   ]
  },
  {
   "cell_type": "code",
   "execution_count": 33,
   "id": "2654288f-8279-4190-ae2f-4a0646e79881",
   "metadata": {},
   "outputs": [
    {
     "data": {
      "text/plain": [
       "array([ 5, 10])"
      ]
     },
     "execution_count": 33,
     "metadata": {},
     "output_type": "execute_result"
    }
   ],
   "source": [
    "vec.transpose()"
   ]
  },
  {
   "cell_type": "code",
   "execution_count": 34,
   "id": "afb1d87a-599d-48dc-928a-871d0d66c4b8",
   "metadata": {},
   "outputs": [
    {
     "data": {
      "text/plain": [
       "array([[ 4, -1],\n",
       "       [-7,  2]])"
      ]
     },
     "execution_count": 34,
     "metadata": {},
     "output_type": "execute_result"
    }
   ],
   "source": [
    "vec2D = np.array([[4, -1], [-7, 2]])\n",
    "vec2D"
   ]
  },
  {
   "cell_type": "code",
   "execution_count": 36,
   "id": "8c2d6b1a-c112-437b-9f3a-2ef04bed25ad",
   "metadata": {},
   "outputs": [
    {
     "data": {
      "text/plain": [
       "(array([[ 4, -7],\n",
       "        [-1,  2]]),\n",
       " array([[ 4, -7],\n",
       "        [-1,  2]]))"
      ]
     },
     "execution_count": 36,
     "metadata": {},
     "output_type": "execute_result"
    }
   ],
   "source": [
    "vec2D.transpose(), vec2D.T"
   ]
  },
  {
   "cell_type": "code",
   "execution_count": 38,
   "id": "e0e99bb6-1a85-4d43-a0d3-a6a438f3f4ae",
   "metadata": {},
   "outputs": [
    {
     "data": {
      "text/plain": [
       "(array([[1, 2],\n",
       "        [3, 4]]),\n",
       " array([[ 4, -1],\n",
       "        [-7,  2]]))"
      ]
     },
     "execution_count": 38,
     "metadata": {},
     "output_type": "execute_result"
    }
   ],
   "source": [
    "vec1 = np.array([[1, 2], [3, 4]])\n",
    "vec1, vec2D"
   ]
  },
  {
   "cell_type": "code",
   "execution_count": 40,
   "id": "424f4404-48ca-4f49-a5e0-da3787a2528a",
   "metadata": {},
   "outputs": [
    {
     "data": {
      "text/plain": [
       "array([[-10,   3],\n",
       "       [-16,   5]])"
      ]
     },
     "execution_count": 40,
     "metadata": {},
     "output_type": "execute_result"
    }
   ],
   "source": [
    "resultado = vec1 @ vec2D\n",
    "resultado"
   ]
  },
  {
   "cell_type": "code",
   "execution_count": 43,
   "id": "bd8930e7-aa07-4459-a333-dfde1a9cb807",
   "metadata": {},
   "outputs": [
    {
     "data": {
      "text/plain": [
       "array([-16,   5])"
      ]
     },
     "execution_count": 43,
     "metadata": {},
     "output_type": "execute_result"
    }
   ],
   "source": [
    "resultado[1]"
   ]
  },
  {
   "cell_type": "code",
   "execution_count": 46,
   "id": "3f790519-7715-46b4-a875-f32e78f12718",
   "metadata": {},
   "outputs": [],
   "source": [
    "matriz = np.array([[0, 5, 10], \n",
    "                   [15, 20, 25], \n",
    "                   [99, 35, 40]])"
   ]
  },
  {
   "cell_type": "code",
   "execution_count": 55,
   "id": "3d0e3fa4-d3b2-436a-ae55-267a3479d0c4",
   "metadata": {},
   "outputs": [
    {
     "data": {
      "text/plain": [
       "array([[  0,   5,  10],\n",
       "       [-20,  20,  25],\n",
       "       [ 99,  35,  40]])"
      ]
     },
     "execution_count": 55,
     "metadata": {},
     "output_type": "execute_result"
    }
   ],
   "source": [
    "matriz[1][0] = -20\n",
    "matriz"
   ]
  },
  {
   "cell_type": "code",
   "execution_count": 59,
   "id": "c55687b2-6391-496c-b877-4b4035bee5a2",
   "metadata": {},
   "outputs": [
    {
     "name": "stdout",
     "output_type": "stream",
     "text": [
      "0.49170329440724114\n",
      "0.2578986259706001\n",
      "0.4022541433042861\n",
      "0.2938257575267884\n",
      "0.27201913590045546\n"
     ]
    }
   ],
   "source": [
    "for _ in range(5):\n",
    "    print(np.random.rand()) # genera números aleatorios entre 0 y 1"
   ]
  },
  {
   "cell_type": "code",
   "execution_count": 62,
   "id": "7f0c3cc9-dbd3-4d63-a2ff-233d9222f156",
   "metadata": {},
   "outputs": [
    {
     "data": {
      "text/plain": [
       "array([[0.25258213, 0.22075809, 0.86468946],\n",
       "       [0.17269633, 0.45034782, 0.56166916],\n",
       "       [0.17005711, 0.92343453, 0.24309261],\n",
       "       [0.32281398, 0.49916833, 0.75110856],\n",
       "       [0.86634822, 0.46183875, 0.12481121]])"
      ]
     },
     "execution_count": 62,
     "metadata": {},
     "output_type": "execute_result"
    }
   ],
   "source": [
    "np.random.rand(5, 3)"
   ]
  },
  {
   "cell_type": "code",
   "execution_count": null,
   "id": "c718ce6d-f4c6-4d51-bf57-6fef6ef1f3e0",
   "metadata": {},
   "outputs": [],
   "source": []
  },
  {
   "cell_type": "code",
   "execution_count": null,
   "id": "a5d3205f-398b-44ac-971d-df8d2725baf1",
   "metadata": {},
   "outputs": [],
   "source": []
  },
  {
   "cell_type": "code",
   "execution_count": null,
   "id": "4f9e7bc6-bc02-449b-a908-f24fd8d87419",
   "metadata": {},
   "outputs": [],
   "source": []
  },
  {
   "cell_type": "code",
   "execution_count": null,
   "id": "24de6d41-b7ee-4963-b9f3-f811c6196c97",
   "metadata": {},
   "outputs": [],
   "source": []
  }
 ],
 "metadata": {
  "kernelspec": {
   "display_name": "Python 3 (ipykernel)",
   "language": "python",
   "name": "python3"
  },
  "language_info": {
   "codemirror_mode": {
    "name": "ipython",
    "version": 3
   },
   "file_extension": ".py",
   "mimetype": "text/x-python",
   "name": "python",
   "nbconvert_exporter": "python",
   "pygments_lexer": "ipython3",
   "version": "3.10.4"
  }
 },
 "nbformat": 4,
 "nbformat_minor": 5
}
