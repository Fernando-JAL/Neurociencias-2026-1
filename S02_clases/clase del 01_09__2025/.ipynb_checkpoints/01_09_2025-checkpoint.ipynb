{
 "cells": [
  {
   "cell_type": "code",
   "execution_count": 3,
   "id": "2d34ed7f-e078-4fd2-b338-cf80fe207191",
   "metadata": {},
   "outputs": [
    {
     "data": {
      "text/plain": [
       "False"
      ]
     },
     "execution_count": 3,
     "metadata": {},
     "output_type": "execute_result"
    }
   ],
   "source": [
    "variable= 5.\n",
    "isinstance(variable, int) "
   ]
  },
  {
   "cell_type": "markdown",
   "id": "a1d78053-07bf-4daf-98d9-6c9cf3036031",
   "metadata": {},
   "source": [
    "# Funciones"
   ]
  },
  {
   "cell_type": "code",
   "execution_count": 7,
   "id": "6f55bc43-ed80-4f97-bf6c-3095fd2f839b",
   "metadata": {},
   "outputs": [
    {
     "data": {
      "text/plain": [
       "2.0"
      ]
     },
     "execution_count": 7,
     "metadata": {},
     "output_type": "execute_result"
    }
   ],
   "source": [
    "def division_entre_dos_numeros(dividendo, divisor):\n",
    "    return dividendo / divisor \n",
    "\n",
    "division_entre_dos_numeros(8,4) "
   ]
  },
  {
   "cell_type": "code",
   "execution_count": 11,
   "id": "0aeb7ff6-9c52-403c-83de-84572482c98b",
   "metadata": {},
   "outputs": [
    {
     "data": {
      "text/plain": [
       "2.0"
      ]
     },
     "execution_count": 11,
     "metadata": {},
     "output_type": "execute_result"
    }
   ],
   "source": [
    "#parametros por nombre\n",
    "division_entre_dos_numeros(divisor=4, dividendo=8)"
   ]
  },
  {
   "cell_type": "code",
   "execution_count": 13,
   "id": "c2a496cb-3ad8-44a9-bd52-3678993bda99",
   "metadata": {},
   "outputs": [
    {
     "data": {
      "text/plain": [
       "2.0"
      ]
     },
     "execution_count": 13,
     "metadata": {},
     "output_type": "execute_result"
    }
   ],
   "source": [
    "#parametros por nombre\n",
    "division_entre_dos_numeros(dividendo=8,divisor=4)"
   ]
  },
  {
   "cell_type": "code",
   "execution_count": 20,
   "id": "aaad90a6-eba7-4afb-b1d8-d3d07e3a8f77",
   "metadata": {},
   "outputs": [
    {
     "data": {
      "text/plain": [
       "12.0"
      ]
     },
     "execution_count": 20,
     "metadata": {},
     "output_type": "execute_result"
    }
   ],
   "source": [
    "def division_entre_dos_numeros(dividendo,divisor,extra=0):\n",
    "    return dividendo / divisor + extra\n",
    "\n",
    "#Llamada de funcion por posición\n",
    "division_entre_dos_numeros (8,4,10) "
   ]
  },
  {
   "cell_type": "markdown",
   "id": "520d3bf7-e8d2-45d2-9456-275c66b09302",
   "metadata": {},
   "source": [
    "# funciones recursivas "
   ]
  },
  {
   "cell_type": "markdown",
   "id": "148b9173-4e3b-46d6-b1ae-dfcd9c7118f1",
   "metadata": {},
   "source": [
    "##### funcion que se manda a lllamar así misma dentro de su propio codigo "
   ]
  },
  {
   "cell_type": "code",
   "execution_count": 24,
   "id": "9788576b-4f44-4910-899a-f881813654ac",
   "metadata": {},
   "outputs": [
    {
     "name": "stdout",
     "output_type": "stream",
     "text": [
      "5\n",
      "4\n",
      "3\n",
      "2\n",
      "1\n",
      "boooom!!!\n",
      "fin de la funcion\n",
      "fin de la funcion\n",
      "fin de la funcion\n",
      "fin de la funcion\n",
      "fin de la funcion\n",
      "fin de la funcion\n"
     ]
    }
   ],
   "source": [
    "def cuenta_atras(n):\n",
    "    if n> 0:\n",
    "        print(n)\n",
    "        cuenta_atras(n-1)\n",
    "    else:\n",
    "        print(\"boooom!!!\")\n",
    "    print(\"fin de la funcion\")\n",
    "\n",
    "cuenta_atras(5)"
   ]
  },
  {
   "cell_type": "markdown",
   "id": "305f08c0-a88a-4336-9cf2-ff02e9e195e5",
   "metadata": {},
   "source": [
    "# FUncion Print"
   ]
  },
  {
   "cell_type": "code",
   "execution_count": 26,
   "id": "ba1a8f2e-a598-468c-a890-7a3330c28799",
   "metadata": {},
   "outputs": [
    {
     "name": "stdout",
     "output_type": "stream",
     "text": [
      "el valor de a variable es 46.2 8\n"
     ]
    }
   ],
   "source": [
    "variable, variable2= 46.2, 8\n",
    "print ('el valor de a variable es', variable, variable2)"
   ]
  },
  {
   "cell_type": "code",
   "execution_count": 28,
   "id": "8ff83aaf-9bce-49c5-87d1-e89aebf4279f",
   "metadata": {},
   "outputs": [
    {
     "name": "stdout",
     "output_type": "stream",
     "text": [
      "el valor de la variable es 46.2, 8\n"
     ]
    }
   ],
   "source": [
    "print(f\"el valor de la variable es {variable}, {variable2}\")"
   ]
  },
  {
   "cell_type": "code",
   "execution_count": 29,
   "id": "6aea4dc7-79c9-495b-afd0-32b8d16a8458",
   "metadata": {},
   "outputs": [
    {
     "name": "stdout",
     "output_type": "stream",
     "text": [
      "el valor  de la variable es 46.2,8\n"
     ]
    }
   ],
   "source": [
    "print (\"el valor  de la variable es {},{}\".format (variable,variable2))"
   ]
  },
  {
   "cell_type": "code",
   "execution_count": 30,
   "id": "339a4d57-f929-4a47-ba04-db6eb6387b3c",
   "metadata": {},
   "outputs": [
    {
     "name": "stdout",
     "output_type": "stream",
     "text": [
      "el valor  de la variable es 8,46.2\n"
     ]
    }
   ],
   "source": [
    "print (\"el valor  de la variable es {1},{0}\".format (variable,variable2))"
   ]
  },
  {
   "cell_type": "code",
   "execution_count": 36,
   "id": "ef039cba-50aa-446e-a3a1-4692a451d2d8",
   "metadata": {},
   "outputs": [],
   "source": [
    "import numpy"
   ]
  },
  {
   "cell_type": "raw",
   "id": "0c9f8301-e1e5-42e9-9d3e-90ab55f80244",
   "metadata": {},
   "source": [
    "!pip intall numpy pandas matplotlib"
   ]
  },
  {
   "cell_type": "code",
   "execution_count": null,
   "id": "615f36c6-f669-4d14-b2f9-4ee12b6e6404",
   "metadata": {},
   "outputs": [],
   "source": []
  }
 ],
 "metadata": {
  "kernelspec": {
   "display_name": "Python 3 (ipykernel)",
   "language": "python",
   "name": "python3"
  },
  "language_info": {
   "codemirror_mode": {
    "name": "ipython",
    "version": 3
   },
   "file_extension": ".py",
   "mimetype": "text/x-python",
   "name": "python",
   "nbconvert_exporter": "python",
   "pygments_lexer": "ipython3",
   "version": "3.13.5"
  }
 },
 "nbformat": 4,
 "nbformat_minor": 5
}
