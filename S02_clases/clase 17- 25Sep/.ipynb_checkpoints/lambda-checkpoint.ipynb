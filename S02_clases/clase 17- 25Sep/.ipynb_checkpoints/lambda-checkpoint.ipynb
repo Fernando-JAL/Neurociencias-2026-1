{
 "cells": [
  {
   "cell_type": "code",
   "execution_count": 2,
   "id": "81b79ed6-06e0-4376-bd92-0aaf9aff6b81",
   "metadata": {},
   "outputs": [
    {
     "data": {
      "text/plain": [
       "25"
      ]
     },
     "execution_count": 2,
     "metadata": {},
     "output_type": "execute_result"
    }
   ],
   "source": [
    "# Funciones lAMBDA- Crear funciones pequeñas que se definen en una sola línea \n",
    "\n",
    "def funcion(x):\n",
    "  return x**2\n",
    "\n",
    "funcion(5)"
   ]
  },
  {
   "cell_type": "code",
   "execution_count": 3,
   "id": "a0240a2f-e657-42da-8a97-878cabd9ee60",
   "metadata": {},
   "outputs": [
    {
     "data": {
      "text/plain": [
       "25"
      ]
     },
     "execution_count": 3,
     "metadata": {},
     "output_type": "execute_result"
    }
   ],
   "source": [
    "func_lambda = lambda x: x**2\n",
    "func_lambda(5)"
   ]
  },
  {
   "cell_type": "code",
   "execution_count": 4,
   "id": "5a12464d-4fb1-4425-995c-4f1c3feb2834",
   "metadata": {},
   "outputs": [
    {
     "data": {
      "text/plain": [
       "'airam eva'"
      ]
     },
     "execution_count": 4,
     "metadata": {},
     "output_type": "execute_result"
    }
   ],
   "source": [
    "def funcion_str(string):\n",
    "    return string[::-1]\n",
    "funcion_str(\"ave maria\")"
   ]
  },
  {
   "cell_type": "code",
   "execution_count": 5,
   "id": "956e57c1-23d5-45f4-bfa2-81331607529d",
   "metadata": {},
   "outputs": [
    {
     "data": {
      "text/plain": [
       "'airam eva'"
      ]
     },
     "execution_count": 5,
     "metadata": {},
     "output_type": "execute_result"
    }
   ],
   "source": [
    "func_str = lambda string: string[::-1]\n",
    "func_str(\"ave maria\")"
   ]
  },
  {
   "cell_type": "code",
   "execution_count": 6,
   "id": "d95ad6bc-1f89-40c9-8845-901db5d7e4e0",
   "metadata": {},
   "outputs": [
    {
     "data": {
      "text/plain": [
       "13"
      ]
     },
     "execution_count": 6,
     "metadata": {},
     "output_type": "execute_result"
    }
   ],
   "source": [
    "def funcion(x,y):\n",
    "    return x + y\n",
    "funcion(5,8)"
   ]
  },
  {
   "cell_type": "code",
   "execution_count": 7,
   "id": "0e86c14d-3bf7-4330-9e3e-fefb52d1c56c",
   "metadata": {},
   "outputs": [
    {
     "data": {
      "text/plain": [
       "13"
      ]
     },
     "execution_count": 7,
     "metadata": {},
     "output_type": "execute_result"
    }
   ],
   "source": [
    "fun_lda = lambda x, y: x+y\n",
    "fun_lda(5,8)"
   ]
  },
  {
   "cell_type": "code",
   "execution_count": 14,
   "id": "9a3ebfb2-1a05-4818-bdb6-d21a3a4602f0",
   "metadata": {},
   "outputs": [
    {
     "data": {
      "text/plain": [
       "(3, -2)"
      ]
     },
     "execution_count": 14,
     "metadata": {},
     "output_type": "execute_result"
    }
   ],
   "source": [
    "def funcion (a, b, c):\n",
    "    return a+b, a-c\n",
    "funcion(1, 2, 3)\n"
   ]
  },
  {
   "cell_type": "code",
   "execution_count": 11,
   "id": "97e87d68-973b-4b63-8e92-57a4424664a8",
   "metadata": {},
   "outputs": [
    {
     "data": {
      "text/plain": [
       "(3, -2)"
      ]
     },
     "execution_count": 11,
     "metadata": {},
     "output_type": "execute_result"
    }
   ],
   "source": [
    "fun_lda = lambda a,b,c: (a+b, a-c)\n",
    "fun_lda(1,2,3)"
   ]
  },
  {
   "cell_type": "code",
   "execution_count": 15,
   "id": "fbf468ec-8293-4db3-8660-7391a17d3ac2",
   "metadata": {},
   "outputs": [],
   "source": [
    "lista= [(1,8), (7,5), (12, -52), (2,0)]\n",
    "\n",
    "lista.sort()  #ordenar"
   ]
  },
  {
   "cell_type": "code",
   "execution_count": 16,
   "id": "791ad72e-0c40-4925-a5cc-9d014ccbfddf",
   "metadata": {},
   "outputs": [
    {
     "data": {
      "text/plain": [
       "[(1, 8), (2, 0), (7, 5), (12, -52)]"
      ]
     },
     "execution_count": 16,
     "metadata": {},
     "output_type": "execute_result"
    }
   ],
   "source": [
    "lista"
   ]
  },
  {
   "cell_type": "code",
   "execution_count": 17,
   "id": "3b24c0c1-9c1b-4952-b2c5-0628fdbd7549",
   "metadata": {},
   "outputs": [],
   "source": [
    "lista.sort (reverse=True)  # al revés"
   ]
  },
  {
   "cell_type": "code",
   "execution_count": 18,
   "id": "ded2b3ce-73c6-4e9d-95c9-78496ae65b25",
   "metadata": {},
   "outputs": [
    {
     "data": {
      "text/plain": [
       "[(12, -52), (7, 5), (2, 0), (1, 8)]"
      ]
     },
     "execution_count": 18,
     "metadata": {},
     "output_type": "execute_result"
    }
   ],
   "source": [
    "lista"
   ]
  },
  {
   "cell_type": "code",
   "execution_count": 22,
   "id": "7872675b-2155-45fd-bb9b-728f09a446a7",
   "metadata": {},
   "outputs": [
    {
     "data": {
      "text/plain": [
       "[(1, 8), (7, 5), (2, 0), (12, -52)]"
      ]
     },
     "execution_count": 22,
     "metadata": {},
     "output_type": "execute_result"
    }
   ],
   "source": [
    "def funcion (x):\n",
    "    return x[1]\n",
    "\n",
    "lista = [(1, 8), (7,5), (12, -52), (2,0)]\n",
    "lista.sort(key=funcion, reverse=True)\n",
    "lista"
   ]
  },
  {
   "cell_type": "code",
   "execution_count": 23,
   "id": "35eaa27e-2997-42da-a584-c3307e83fa97",
   "metadata": {},
   "outputs": [
    {
     "data": {
      "text/plain": [
       "[(1, 8), (7, 5), (2, 0), (12, -52)]"
      ]
     },
     "execution_count": 23,
     "metadata": {},
     "output_type": "execute_result"
    }
   ],
   "source": [
    "lista.sort(key=lambda x:x[1], reverse=True)\n",
    "lista"
   ]
  },
  {
   "cell_type": "code",
   "execution_count": null,
   "id": "e1bbc98f-3f63-4a2e-8a4f-57f6784b9b59",
   "metadata": {},
   "outputs": [],
   "source": []
  }
 ],
 "metadata": {
  "kernelspec": {
   "display_name": "Python 3 (ipykernel)",
   "language": "python",
   "name": "python3"
  },
  "language_info": {
   "codemirror_mode": {
    "name": "ipython",
    "version": 3
   },
   "file_extension": ".py",
   "mimetype": "text/x-python",
   "name": "python",
   "nbconvert_exporter": "python",
   "pygments_lexer": "ipython3",
   "version": "3.13.7"
  }
 },
 "nbformat": 4,
 "nbformat_minor": 5
}
