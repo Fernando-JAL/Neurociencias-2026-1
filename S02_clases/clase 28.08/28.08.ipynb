{
 "cells": [
  {
   "cell_type": "markdown",
   "id": "4fcfd3f4-fdbb-4ea9-893e-5a243aa54aca",
   "metadata": {},
   "source": [
    "### ejercicio Sandy Patricia Aguilar Reyes\n",
    "\n",
    "1. crea una funcion que cuente las vocales de un string y regrese dicho numero\n",
    "2. crea una funcion que determine si un numero es par o impar e imprima si es par o impar \n",
    "3. crea una funcion para convertir de grados celcius a grados fahrenheit, dicha funcion recibira la temperatura en grados celcius y debera regresar los grados farenheit \n",
    "4. crea una funcion que recibe un entero y devuelva la suma de sus digitos\n",
    "5. Crea una funcion que cuente las palabras de un string y devuelva dicho numero\n",
    "6. crear una funcion que reciba una lista con al menos 3 enteros y regrese el minimo de todos los numeros de la lista\n",
    "7. crear una funcion que reciba dos string (frase,letra) y cuente cuantas veces aparece la letra en la frase y regrese ese numero|\n",
    "8. crear una funcion que reciba un string y cambie todas las minusculas a mayusculas y las mayus a minus\n",
    "9. crear una funcion que reciba un sring y elimine todos los espacios y regrese el string sin espacios ."
   ]
  },
  {
   "cell_type": "code",
   "execution_count": null,
   "id": "03b699e8-e063-48ab-b6fc-c386e1a757b3",
   "metadata": {},
   "outputs": [],
   "source": [
    "\"cadena\".upper(), \"ALFABETO\".lower(), \"mientras\".capitalize(), \"a\".islower(), \"A\".isupper()"
   ]
  },
  {
   "cell_type": "code",
   "execution_count": 59,
   "id": "e644f124-a6d8-4651-9def-420a32aeb571",
   "metadata": {},
   "outputs": [
    {
     "data": {
      "text/plain": [
       "(['a', 'b', 'c', 'd'], 'a-b-c')"
      ]
     },
     "execution_count": 59,
     "metadata": {},
     "output_type": "execute_result"
    }
   ],
   "source": [
    "\"a b c d\".split(sep=\" \"), \"-\".join(['a', 'b', 'c'])"
   ]
  },
  {
   "cell_type": "code",
   "execution_count": 76,
   "id": "7123abe7-808f-4dca-bf31-79c834fc1f9d",
   "metadata": {},
   "outputs": [
    {
     "name": "stdout",
     "output_type": "stream",
     "text": [
      "4\n"
     ]
    }
   ],
   "source": [
    "## ejercicio 1 crea una funcion que cuente las vocales de un string y regrese dicho numero\n",
    "def valor_vocales(cadena):\n",
    "    total = 0\n",
    "    vocales = ['a', 'e', 'i', 'o', 'u']\n",
    "    for letra in cadena:\n",
    "        if letra in vocales:\n",
    "            total += 1\n",
    "    return total\n",
    "print(valor_vocales(\"hola mundo\"))"
   ]
  },
  {
   "cell_type": "code",
   "execution_count": 66,
   "id": "f6be4b44-7694-40b6-ad83-19e2a1bbdccb",
   "metadata": {},
   "outputs": [
    {
     "name": "stdout",
     "output_type": "stream",
     "text": [
      "el numero es impar\n"
     ]
    }
   ],
   "source": [
    "## 2 crea una funcion que determine si un numero es par o impar e imprima si es par o impar\n",
    "def par_o_impar(numero):\n",
    "    if numero % 2 == 0:\n",
    "        print(\"el numero es par\")\n",
    "    else:\n",
    "        print(\"el numero es impar\")\n",
    "par_o_impar(7)"
   ]
  },
  {
   "cell_type": "code",
   "execution_count": 79,
   "id": "c6629ecd-a108-4435-aed2-8a0e9cf15257",
   "metadata": {},
   "outputs": [
    {
     "name": "stdin",
     "output_type": "stream",
     "text": [
      "Dame el valor en grados Celcius:  54\n"
     ]
    },
    {
     "data": {
      "text/plain": [
       "129.2"
      ]
     },
     "execution_count": 79,
     "metadata": {},
     "output_type": "execute_result"
    }
   ],
   "source": [
    "# 3 crea una funcion para convertir de grados celcius a grados fahrenheit, dicha funcion recibira la \n",
    "#temperatura en grados celcius y debera regresar los grados farenheit\n",
    "def conv_Celcius_a_Fahrenheit():\n",
    "    Celcius= float(input('Dame el valor en grados Celcius: '))\n",
    "\n",
    "    Fahrenheit = Celcius*(9/5)+32\n",
    "    return Fahrenheit\n",
    "\n",
    "conv_Celcius_a_Fahrenheit()"
   ]
  },
  {
   "cell_type": "code",
   "execution_count": 49,
   "id": "f3b700ee-d728-4c21-922e-84fdf12c84e0",
   "metadata": {},
   "outputs": [
    {
     "data": {
      "text/plain": [
       "6"
      ]
     },
     "execution_count": 49,
     "metadata": {},
     "output_type": "execute_result"
    }
   ],
   "source": [
    "# 4 crea una funcion que recibe un entero y devuelva la suma de sus digitos\n",
    "def sumar_digitos(n):\n",
    "    str_n = str(n)\n",
    "    total = 0\n",
    "    for digito in str_n:\n",
    "        total += int (digito)\n",
    "    return total\n",
    "sumar_digitos(123)"
   ]
  },
  {
   "cell_type": "code",
   "execution_count": 55,
   "id": "bafc7b26-d6dd-44ae-954c-42349f16c1b2",
   "metadata": {},
   "outputs": [
    {
     "name": "stdout",
     "output_type": "stream",
     "text": [
      "3\n"
     ]
    }
   ],
   "source": [
    "#5 Crea una funcion que cuente las palabras de un string y devuelva dicho numero\n",
    "def contar_palabras(texto):\n",
    "    palabras = texto.split()\n",
    "    return len(palabras)\n",
    "\n",
    "frase = \"no esta definido\"\n",
    "resultado = contar_palabras(frase)\n",
    "print(resultado)"
   ]
  },
  {
   "cell_type": "code",
   "execution_count": 63,
   "id": "7dcc9310-021a-4245-b04e-c526c8e4fc71",
   "metadata": {},
   "outputs": [
    {
     "data": {
      "text/plain": [
       "1"
      ]
     },
     "execution_count": 63,
     "metadata": {},
     "output_type": "execute_result"
    }
   ],
   "source": [
    "### 6  crear una funcion que reciba una lista con al menos 3 enteros y regrese el minimo de todos los numeros de la lista\n",
    "def min_enteros(n):\n",
    "    str_n = str(n)\n",
    "    total = 0\n",
    "    for digito in str_n:\n",
    "        total += int (digito)\n",
    "    return total\n",
    "sumar_digitos(1)"
   ]
  },
  {
   "cell_type": "code",
   "execution_count": 97,
   "id": "d6f5f83a-f99b-4b53-bf0c-6ed2eedec48d",
   "metadata": {},
   "outputs": [
    {
     "name": "stdout",
     "output_type": "stream",
     "text": [
      "5\n"
     ]
    }
   ],
   "source": [
    "# 7 crear una funcion que reciba dos string (frase,letra) y cuente cuantas veces aparece la letra en la frase y regrese ese numero|\n",
    "def contar_letras(frase, letra):\n",
    "    return frase.count(letra)\n",
    "\n",
    "frase = \"ensalada, papas\"\n",
    "letra = \"a\"\n",
    "resultado = contar_letras(frase, letra)\n",
    "print(resultado)"
   ]
  },
  {
   "cell_type": "code",
   "execution_count": 91,
   "id": "538d5a28-04c7-494c-b15b-c23b414995df",
   "metadata": {},
   "outputs": [
    {
     "name": "stdout",
     "output_type": "stream",
     "text": [
      "conejos, LAGARTOS, gRIS\n"
     ]
    }
   ],
   "source": [
    "# 9. crear una funcion que reciba un string y cambie todas las minusculas a mayusculas y las mayus a minus\n",
    "def invertirmaymin(cadena):\n",
    "    nueva_cadena = ''\n",
    "    for caracter in cadena:\n",
    "        if caracter.islower():\n",
    "            nueva_cadena += caracter.upper()\n",
    "        elif caracter.isupper():\n",
    "            nueva_cadena += caracter.lower()\n",
    "        else:\n",
    "            nueva_cadena += caracter\n",
    " \n",
    "    return nueva_cadena\n",
    "\n",
    "texto = \"CONEJOS, lagartos, Gris\"\n",
    "resultado = invertirmaymin(cadena)\n",
    "print(resultado)"
   ]
  },
  {
   "cell_type": "code",
   "execution_count": 96,
   "id": "d402bdc9-c419-41df-8b6f-0b015fd6142b",
   "metadata": {},
   "outputs": [
    {
     "name": "stdout",
     "output_type": "stream",
     "text": [
      "funcionesmatematicassinespacio\n"
     ]
    }
   ],
   "source": [
    "# 10. crear una funcion que reciba un sring y elimine todos los espacios y regrese el string sin espacios\n",
    "def sinespacio(cadena):\n",
    "     return ''.join(cadena.split())\n",
    "\n",
    "texto = \"funciones matematicas sin espacio\"\n",
    "resultado = sinespacio(texto)\n",
    "print(resultado)"
   ]
  }
 ],
 "metadata": {
  "kernelspec": {
   "display_name": "Python 3 (ipykernel)",
   "language": "python",
   "name": "python3"
  },
  "language_info": {
   "codemirror_mode": {
    "name": "ipython",
    "version": 3
   },
   "file_extension": ".py",
   "mimetype": "text/x-python",
   "name": "python",
   "nbconvert_exporter": "python",
   "pygments_lexer": "ipython3",
   "version": "3.13.6"
  }
 },
 "nbformat": 4,
 "nbformat_minor": 5
}
