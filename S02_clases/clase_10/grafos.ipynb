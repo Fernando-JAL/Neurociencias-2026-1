{
 "cells": [
  {
   "cell_type": "code",
   "execution_count": 3,
   "id": "238ea3ed-f5c8-492c-94ad-22d322640b3d",
   "metadata": {},
   "outputs": [],
   "source": [
    "import numpy as np\n",
    "import pandas as pd\n",
    "import matplotlib.pyplot as pl\n",
    "import networkx as nx\n"
   ]
  },
  {
   "cell_type": "code",
   "execution_count": null,
   "id": "fe9b03fb-bf3f-4dbf-9319-557cb69edea5",
   "metadata": {},
   "outputs": [],
   "source": [
    "excel_conectividad= \"C:\\Users\\980041133\\Downloads\\EEG.xlsx\"\n",
    "excel_coordenadas = \"C:\\Users\\980041133\\Downloads\\Grafos.ipynb\"\n",
    "\n",
    "conectividad_dict = pd.read_excel(excel_conectividad, sheet_name=None)\n",
    "coordenadas_dict = pd.read_excel(excel_conectividad, sheet_name=None)\n",
    "motor_df = conectividsad.dict[List(conectividad_dict.keys())[0]]\n",
    "coordendas_df = coordenadas_dict[List(coordenadas_dict.keys())[0]]\n",
    "\n",
    "#redefina el indice para que sea mas facil convertirlo a grafo\n",
    "motor_df.set_index(keys:\"Unnamed:0\", inplace=True, drop =True)\n",
    "coordenadas_df.set_index(keys:\"Canal\", inplace=True, drop =True)\n",
    "\n",
    "#Dibujemos el grafo \n",
    "plt.figure(figsize=(5,5))\n",
    "G = nx.from_pandas_adjacency(motor_df)\n",
    "nx.draw_circular"
   ]
  }
 ],
 "metadata": {
  "kernelspec": {
   "display_name": "Python 3 (ipykernel)",
   "language": "python",
   "name": "python3"
  },
  "language_info": {
   "codemirror_mode": {
    "name": "ipython",
    "version": 3
   },
   "file_extension": ".py",
   "mimetype": "text/x-python",
   "name": "python",
   "nbconvert_exporter": "python",
   "pygments_lexer": "ipython3",
   "version": "3.10.7"
  }
 },
 "nbformat": 4,
 "nbformat_minor": 5
}
