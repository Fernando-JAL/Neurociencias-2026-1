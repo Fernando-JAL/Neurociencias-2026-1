{
 "cells": [
  {
   "cell_type": "markdown",
   "id": "1fa97316-f5c8-4e2b-bd17-dfa85b37cdfe",
   "metadata": {},
   "source": [
    "# Title"
   ]
  },
  {
   "cell_type": "markdown",
   "id": "03ab40b5-f75b-44d4-9137-3dde4042aba4",
   "metadata": {},
   "source": [
    "## Subtitle"
   ]
  },
  {
   "cell_type": "markdown",
   "id": "e278b3f8-2e90-4ca6-802a-886c037d174c",
   "metadata": {},
   "source": [
    "### Section"
   ]
  },
  {
   "cell_type": "markdown",
   "id": "e7915876-cc77-4bb2-a9ea-d72980906170",
   "metadata": {},
   "source": [
    "#### Subsection"
   ]
  },
  {
   "cell_type": "markdown",
   "id": "08c0d360-4b0b-48a1-88c6-6f0c14359f4c",
   "metadata": {},
   "source": [
    "##### Text"
   ]
  },
  {
   "cell_type": "markdown",
   "id": "dd35657e-3a7b-44b4-8678-c40153cae963",
   "metadata": {},
   "source": [
    "###### More text"
   ]
  },
  {
   "cell_type": "markdown",
   "id": "8271b224-6b91-45f7-b1d0-1bad89056341",
   "metadata": {},
   "source": [
    "Texto sin #"
   ]
  },
  {
   "cell_type": "markdown",
   "id": "799e2061-08b7-492c-8ee5-9053dddddcb4",
   "metadata": {},
   "source": [
    "*cursiva* \n",
    "_cursiva_\n",
    "**negritas** \n",
    "__más negritas__"
   ]
  },
  {
   "cell_type": "markdown",
   "id": "6ca8cd7a-d6f9-43ab-8bfc-547891c395fd",
   "metadata": {},
   "source": [
    "## Listas\n",
    "\n",
    "- item 1\n",
    "- item 2\n",
    "- item 3\n",
    "\n",
    "1. item 1\n",
    "2. item 2\n",
    "3. item 3\n",
    "   1. subitem\n",
    "      1. subsubitem"
   ]
  },
  {
   "cell_type": "markdown",
   "id": "98f06af7-ca61-461a-84eb-ebdcef8562e0",
   "metadata": {},
   "source": [
    "# Diccionario"
   ]
  },
  {
   "cell_type": "code",
   "execution_count": 7,
   "id": "d2f8fbb3-9ffd-4aee-8e26-7274d39a36b5",
   "metadata": {},
   "outputs": [],
   "source": [
    "dictionary = {'llave': 'valor', 'llave2': 'valor2', 'cosa': 5, 'otra cosa': [3, 2, 'k'], 'llave3': (1, 2, '1')}"
   ]
  },
  {
   "cell_type": "code",
   "execution_count": 8,
   "id": "b668c496-f2b8-4661-b2c1-cb3035898c23",
   "metadata": {},
   "outputs": [
    {
     "data": {
      "text/plain": [
       "'valor'"
      ]
     },
     "execution_count": 8,
     "metadata": {},
     "output_type": "execute_result"
    }
   ],
   "source": [
    "dictionary['llave']"
   ]
  },
  {
   "cell_type": "code",
   "execution_count": 9,
   "id": "518f65af-7516-46f6-8047-f100c2289944",
   "metadata": {},
   "outputs": [
    {
     "data": {
      "text/plain": [
       "'valor2'"
      ]
     },
     "execution_count": 9,
     "metadata": {},
     "output_type": "execute_result"
    }
   ],
   "source": [
    "dictionary['llave2']"
   ]
  },
  {
   "cell_type": "code",
   "execution_count": 15,
   "id": "468896ec-5deb-45b5-a874-cb707b36b5d7",
   "metadata": {},
   "outputs": [
    {
     "data": {
      "text/plain": [
       "6"
      ]
     },
     "execution_count": 15,
     "metadata": {},
     "output_type": "execute_result"
    }
   ],
   "source": [
    "dictionary['cosa'] + 1"
   ]
  },
  {
   "cell_type": "code",
   "execution_count": 11,
   "id": "a3b3e9a8-dd58-4d93-8e29-87817e66fd41",
   "metadata": {},
   "outputs": [
    {
     "data": {
      "text/plain": [
       "[3, 2, 'k']"
      ]
     },
     "execution_count": 11,
     "metadata": {},
     "output_type": "execute_result"
    }
   ],
   "source": [
    "dictionary['otra cosa']"
   ]
  },
  {
   "cell_type": "code",
   "execution_count": 14,
   "id": "1d8e8e1d-73eb-41e8-b1e4-dc0e9cbeaadb",
   "metadata": {},
   "outputs": [
    {
     "data": {
      "text/plain": [
       "(1, 2, '1')"
      ]
     },
     "execution_count": 14,
     "metadata": {},
     "output_type": "execute_result"
    }
   ],
   "source": [
    "dictionary['llave3']"
   ]
  }
 ],
 "metadata": {
  "kernelspec": {
   "display_name": "Python 3 (ipykernel)",
   "language": "python",
   "name": "python3"
  },
  "language_info": {
   "codemirror_mode": {
    "name": "ipython",
    "version": 3
   },
   "file_extension": ".py",
   "mimetype": "text/x-python",
   "name": "python",
   "nbconvert_exporter": "python",
   "pygments_lexer": "ipython3",
   "version": "3.11.1"
  }
 },
 "nbformat": 4,
 "nbformat_minor": 5
}
