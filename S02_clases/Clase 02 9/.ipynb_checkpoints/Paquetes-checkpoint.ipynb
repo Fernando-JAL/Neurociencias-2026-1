{
 "cells": [
  {
   "cell_type": "markdown",
   "id": "5b3ad135-d03b-4f06-acef-2e5b293e0166",
   "metadata": {},
   "source": [
    "Paquete = Múltiples módulos y clases"
   ]
  },
  {
   "cell_type": "code",
   "execution_count": 3,
   "id": "dba7ce5c-198b-4284-b912-4258edbcb45f",
   "metadata": {},
   "outputs": [
    {
     "name": "stdout",
     "output_type": "stream",
     "text": [
      "hola desde el paquete\n"
     ]
    }
   ],
   "source": [
    "from Cosas import saludo #DEL PAQUETE IMPORTA ESTA FUNCIÓN\n",
    "saludo()"
   ]
  },
  {
   "cell_type": "code",
   "execution_count": 2,
   "id": "2976d174-1111-422e-a2da-9b88882e1ad5",
   "metadata": {},
   "outputs": [],
   "source": [
    "from Cosas import * # * Significa todo"
   ]
  },
  {
   "cell_type": "code",
   "execution_count": 4,
   "id": "da9a8d43-11e6-49a6-813a-23e8b47fb182",
   "metadata": {},
   "outputs": [
    {
     "name": "stdout",
     "output_type": "stream",
     "text": [
      "otra función\n"
     ]
    }
   ],
   "source": [
    "función()"
   ]
  },
  {
   "cell_type": "code",
   "execution_count": 5,
   "id": "58fc9036-33de-4e04-ba7e-d6148f1a5e7d",
   "metadata": {},
   "outputs": [],
   "source": [
    "import numpy"
   ]
  },
  {
   "cell_type": "markdown",
   "id": "46ed79d6-8d59-4775-92e9-c511ae0da01b",
   "metadata": {},
   "source": [
    "# Paquete Numpy\n",
    "\n",
    "Paquete enfocado en manipular información en estructuras conocidas como vectores, arreglos y matrices. Los significativo de numpy son los arrays"
   ]
  },
  {
   "cell_type": "code",
   "execution_count": 6,
   "id": "130beafd-39aa-488a-9779-a5e7644f3ad6",
   "metadata": {},
   "outputs": [],
   "source": [
    "import numpy as np"
   ]
  },
  {
   "cell_type": "code",
   "execution_count": 7,
   "id": "432f1631-3ebc-48da-b92d-6cdbaf6c4a49",
   "metadata": {},
   "outputs": [],
   "source": [
    "lista= [3,4,5]"
   ]
  },
  {
   "cell_type": "code",
   "execution_count": 8,
   "id": "059f0a4a-1484-4767-9834-fcb79c0f29aa",
   "metadata": {},
   "outputs": [
    {
     "data": {
      "text/plain": [
       "numpy.ndarray"
      ]
     },
     "execution_count": 8,
     "metadata": {},
     "output_type": "execute_result"
    }
   ],
   "source": [
    "variable= np.array(lista)\n",
    "type(variable)"
   ]
  },
  {
   "cell_type": "code",
   "execution_count": 9,
   "id": "1cf2981e-8714-49a9-9170-0c1b357a4bf4",
   "metadata": {},
   "outputs": [
    {
     "data": {
      "text/plain": [
       "array([3, 4, 5])"
      ]
     },
     "execution_count": 9,
     "metadata": {},
     "output_type": "execute_result"
    }
   ],
   "source": [
    "variable"
   ]
  },
  {
   "cell_type": "code",
   "execution_count": 10,
   "id": "23557b8d-d8d1-4e2b-8704-94a0d9d645f5",
   "metadata": {},
   "outputs": [
    {
     "data": {
      "text/plain": [
       "1"
      ]
     },
     "execution_count": 10,
     "metadata": {},
     "output_type": "execute_result"
    }
   ],
   "source": [
    "variable.ndim # Un arreglo es una lista numérica de una sola dimensión"
   ]
  },
  {
   "cell_type": "code",
   "execution_count": 11,
   "id": "4d23c844-633f-4b02-87f4-d4c1323bcb53",
   "metadata": {},
   "outputs": [
    {
     "data": {
      "text/plain": [
       "2"
      ]
     },
     "execution_count": 11,
     "metadata": {},
     "output_type": "execute_result"
    }
   ],
   "source": [
    "variable2d = np.array([[4,5,6],[7,8,9]])\n",
    "variable2d.ndim"
   ]
  },
  {
   "cell_type": "code",
   "execution_count": 12,
   "id": "2833bbfc-81e8-4737-8b72-cabf80f578b8",
   "metadata": {},
   "outputs": [
    {
     "data": {
      "text/plain": [
       "array([[4, 5, 6],\n",
       "       [7, 8, 9]])"
      ]
     },
     "execution_count": 12,
     "metadata": {},
     "output_type": "execute_result"
    }
   ],
   "source": [
    "variable2d"
   ]
  },
  {
   "cell_type": "code",
   "execution_count": 13,
   "id": "8d2bedb2-d350-4157-8440-f0198fc2bbf1",
   "metadata": {},
   "outputs": [
    {
     "ename": "NameError",
     "evalue": "name 'array' is not defined",
     "output_type": "error",
     "traceback": [
      "\u001b[1;31m---------------------------------------------------------------------------\u001b[0m",
      "\u001b[1;31mNameError\u001b[0m                                 Traceback (most recent call last)",
      "Cell \u001b[1;32mIn[13], line 1\u001b[0m\n\u001b[1;32m----> 1\u001b[0m \u001b[43marray\u001b[49m \u001b[38;5;66;03m# Tipo de dato dentro \u001b[39;00m\n\u001b[0;32m      2\u001b[0m n\u001b[38;5;241m.\u001b[39mdim \u001b[38;5;66;03m#???\u001b[39;00m\n",
      "\u001b[1;31mNameError\u001b[0m: name 'array' is not defined"
     ]
    }
   ],
   "source": [
    "#array # Tipo de dato dentro \n",
    "#n.dim #???"
   ]
  },
  {
   "cell_type": "code",
   "execution_count": 18,
   "id": "d5103cda-04b0-4945-a88e-5fb062ff7998",
   "metadata": {},
   "outputs": [
    {
     "data": {
      "text/plain": [
       "(1, (3,))"
      ]
     },
     "execution_count": 18,
     "metadata": {},
     "output_type": "execute_result"
    }
   ],
   "source": [
    "variable.ndim, variable.shape # Shape es una propiedad que te da el numero de elementos "
   ]
  },
  {
   "cell_type": "code",
   "execution_count": 19,
   "id": "428f78ad-4b92-4964-90ec-3cdbdbb5b453",
   "metadata": {},
   "outputs": [
    {
     "data": {
      "text/plain": [
       "(2, (2, 3))"
      ]
     },
     "execution_count": 19,
     "metadata": {},
     "output_type": "execute_result"
    }
   ],
   "source": [
    "variable2d.ndim, variable2d.shape #En este caso da como resultado filas, columnas"
   ]
  },
  {
   "cell_type": "code",
   "execution_count": 20,
   "id": "24dae63f-c8c5-4bd6-9b6c-b46136708940",
   "metadata": {},
   "outputs": [
    {
     "data": {
      "text/plain": [
       "(array([0., 0., 0., 0., 0., 0.]),\n",
       " array([[0., 0., 0., 0.],\n",
       "        [0., 0., 0., 0.],\n",
       "        [0., 0., 0., 0.]]))"
      ]
     },
     "execution_count": 20,
     "metadata": {},
     "output_type": "execute_result"
    }
   ],
   "source": [
    "np.zeros(6), np.zeros((3,4)) # Pone ceros"
   ]
  },
  {
   "cell_type": "code",
   "execution_count": 21,
   "id": "010b7c37-9f67-430c-988d-578532752670",
   "metadata": {},
   "outputs": [
    {
     "data": {
      "text/plain": [
       "(array([1., 1., 1., 1., 1., 1.]),\n",
       " array([[1., 1., 1., 1.],\n",
       "        [1., 1., 1., 1.],\n",
       "        [1., 1., 1., 1.]]))"
      ]
     },
     "execution_count": 21,
     "metadata": {},
     "output_type": "execute_result"
    }
   ],
   "source": [
    "np.ones(6), np.ones((3,4)) # Pone unos"
   ]
  },
  {
   "cell_type": "code",
   "execution_count": 24,
   "id": "9b72a090-b476-4782-8107-8f3fd3bcd7cf",
   "metadata": {},
   "outputs": [
    {
     "data": {
      "text/plain": [
       "array([[1., 0., 0., 0., 0., 0.],\n",
       "       [0., 1., 0., 0., 0., 0.],\n",
       "       [0., 0., 1., 0., 0., 0.],\n",
       "       [0., 0., 0., 1., 0., 0.],\n",
       "       [0., 0., 0., 0., 1., 0.],\n",
       "       [0., 0., 0., 0., 0., 1.]])"
      ]
     },
     "execution_count": 24,
     "metadata": {},
     "output_type": "execute_result"
    }
   ],
   "source": [
    "np.eye(6) #Eye es la función para crear una matriz de identidad, el argumento es el nxn de la matriz "
   ]
  },
  {
   "cell_type": "code",
   "execution_count": 25,
   "id": "6fdcd248-85cd-43a3-9493-c5559429cae1",
   "metadata": {},
   "outputs": [],
   "source": [
    "# Ejercicio. Crear un arreglo de 4x4 cuyos elementos en la diagonal sean igual a 8 pero fuera de la diagonal sea igual a -10"
   ]
  },
  {
   "cell_type": "code",
   "execution_count": 37,
   "id": "3272cdfb-eb14-4554-a64a-1c4ab82c2370",
   "metadata": {},
   "outputs": [
    {
     "data": {
      "text/plain": [
       "array([[8., 0., 0., 0.],\n",
       "       [0., 8., 0., 0.],\n",
       "       [0., 0., 8., 0.],\n",
       "       [0., 0., 0., 8.]])"
      ]
     },
     "execution_count": 37,
     "metadata": {},
     "output_type": "execute_result"
    }
   ],
   "source": [
    "md8=np.eye(4)*8\n",
    "md8"
   ]
  },
  {
   "cell_type": "code",
   "execution_count": 69,
   "id": "c0ccf4e6-62a2-4165-b96c-e94c031a08fd",
   "metadata": {},
   "outputs": [
    {
     "data": {
      "text/plain": [
       "array([[10., 10., 10., 10.],\n",
       "       [10., 10., 10., 10.],\n",
       "       [10., 10., 10., 10.],\n",
       "       [10., 10., 10., 10.]])"
      ]
     },
     "execution_count": 69,
     "metadata": {},
     "output_type": "execute_result"
    }
   ],
   "source": [
    "md10=np.ones((4,4))*10\n",
    "md10"
   ]
  },
  {
   "cell_type": "code",
   "execution_count": 70,
   "id": "c43a61f4-0f9b-4ff7-bf0b-64940f357d1f",
   "metadata": {},
   "outputs": [],
   "source": [
    "matriz=md8+md10"
   ]
  },
  {
   "cell_type": "code",
   "execution_count": 71,
   "id": "11b8d74f-15af-4deb-859e-ea698595736e",
   "metadata": {},
   "outputs": [],
   "source": [
    "matriz2= np.eye(4)*(-10)"
   ]
  },
  {
   "cell_type": "code",
   "execution_count": 72,
   "id": "e14f22ff-e628-43ca-8028-243a8af6cc7e",
   "metadata": {},
   "outputs": [
    {
     "data": {
      "text/plain": [
       "array([[ 8., 10., 10., 10.],\n",
       "       [10.,  8., 10., 10.],\n",
       "       [10., 10.,  8., 10.],\n",
       "       [10., 10., 10.,  8.]])"
      ]
     },
     "execution_count": 72,
     "metadata": {},
     "output_type": "execute_result"
    }
   ],
   "source": [
    "Ejercicio=matriz+matriz2\n",
    "Ejercicio"
   ]
  },
  {
   "cell_type": "code",
   "execution_count": 73,
   "id": "c193c1b5-5ad0-421e-8e72-e0fbc58dfc82",
   "metadata": {},
   "outputs": [
    {
     "data": {
      "text/plain": [
       "array([[0.125, 0.1  , 0.1  , 0.1  ],\n",
       "       [0.1  , 0.125, 0.1  , 0.1  ],\n",
       "       [0.1  , 0.1  , 0.125, 0.1  ],\n",
       "       [0.1  , 0.1  , 0.1  , 0.125]])"
      ]
     },
     "execution_count": 73,
     "metadata": {},
     "output_type": "execute_result"
    }
   ],
   "source": [
    "1/Ejercicio #Esta operación matematicamente no esta definida, pero numpy lo interpreta como dividir"
   ]
  },
  {
   "cell_type": "code",
   "execution_count": null,
   "id": "6c3df09a-27ab-49ed-856f-4d0ee6d5820f",
   "metadata": {},
   "outputs": [],
   "source": []
  }
 ],
 "metadata": {
  "kernelspec": {
   "display_name": "Python 3 (ipykernel)",
   "language": "python",
   "name": "python3"
  },
  "language_info": {
   "codemirror_mode": {
    "name": "ipython",
    "version": 3
   },
   "file_extension": ".py",
   "mimetype": "text/x-python",
   "name": "python",
   "nbconvert_exporter": "python",
   "pygments_lexer": "ipython3",
   "version": "3.10.4"
  }
 },
 "nbformat": 4,
 "nbformat_minor": 5
}
