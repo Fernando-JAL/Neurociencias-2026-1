{
 "cells": [
  {
   "cell_type": "markdown",
   "id": "db84dd8e-ddc4-4f1c-90f0-d810308c98c8",
   "metadata": {},
   "source": [
    "# Cadenas"
   ]
  },
  {
   "cell_type": "code",
   "execution_count": 14,
   "id": "10e2c0f3-3070-43ef-a4dd-a64f86a950dc",
   "metadata": {},
   "outputs": [
    {
     "name": "stdout",
     "output_type": "stream",
     "text": [
      "¿Cómo te llamas?\n"
     ]
    },
    {
     "name": "stdin",
     "output_type": "stream",
     "text": [
      " mon\n"
     ]
    },
    {
     "name": "stdout",
     "output_type": "stream",
     "text": [
      "¿Cuántas veces quiéres que tú nombre aparezca en la pantalla?\n"
     ]
    },
    {
     "name": "stdin",
     "output_type": "stream",
     "text": [
      " 3\n"
     ]
    },
    {
     "name": "stdout",
     "output_type": "stream",
     "text": [
      "mon\n",
      "mon\n",
      "mon\n",
      "\n"
     ]
    }
   ],
   "source": [
    "print(\"¿Cómo te llamas?\")\n",
    "nombre=input()\n",
    "print(\"¿Cuántas veces quiéres que tú nombre aparezca en la pantalla?\")\n",
    "n=int(input())\n",
    "print((nombre +\"\\n\") * int(n))\n"
   ]
  },
  {
   "cell_type": "code",
   "execution_count": 18,
   "id": "450b7333-228d-43e1-bdc3-ce46a1df8e67",
   "metadata": {},
   "outputs": [
    {
     "data": {
      "text/plain": [
       "'mon\\nmon'"
      ]
     },
     "execution_count": 18,
     "metadata": {},
     "output_type": "execute_result"
    }
   ],
   "source": [
    "n= \"mon\" + \"\\n\"+ \"mon\"\n",
    "n"
   ]
  },
  {
   "cell_type": "code",
   "execution_count": 28,
   "id": "6b71bcb7-34ef-4769-86df-ebd328f821d0",
   "metadata": {},
   "outputs": [
    {
     "name": "stdin",
     "output_type": "stream",
     "text": [
      "¿cómo te llamas? moncesilla\n"
     ]
    },
    {
     "name": "stdout",
     "output_type": "stream",
     "text": [
      "MONCESILLA tiene 10 letras\n"
     ]
    }
   ],
   "source": [
    "nombre= input(\"¿cómo te llamas?\")\n",
    "print(nombre.upper()+\" tiene \"+ str(len(nombre))+\" letras\")"
   ]
  },
  {
   "cell_type": "code",
   "execution_count": 30,
   "id": "d02d99bd-c0ad-4580-8466-c63adc3b7da5",
   "metadata": {},
   "outputs": [
    {
     "name": "stdin",
     "output_type": "stream",
     "text": [
      "¿cuál es tú numero de telefono con el formato xx+xxxxxx+xx:? 52 4191227870 14\n"
     ]
    },
    {
     "name": "stdout",
     "output_type": "stream",
     "text": [
      "el numero es  4191227870\n"
     ]
    }
   ],
   "source": [
    "numero=input(\"¿cuál es tú numero de telefono con el formato xx+xxxxxx+xx:?\")\n",
    "print(\"el numero es\", numero[2:-3])"
   ]
  },
  {
   "cell_type": "code",
   "execution_count": 32,
   "id": "705f18e8-42d2-474b-921f-02658e6b5387",
   "metadata": {},
   "outputs": [
    {
     "name": "stdin",
     "output_type": "stream",
     "text": [
      "escribe tú frase favorita Hola mundo\n"
     ]
    },
    {
     "name": "stdout",
     "output_type": "stream",
     "text": [
      "odnum aloH\n"
     ]
    }
   ],
   "source": [
    "frase=input(\"escribe tú frase favorita\")\n",
    "print( frase[ :  :-1])"
   ]
  },
  {
   "cell_type": "code",
   "execution_count": 38,
   "id": "1a1d7cea-b7b3-43f4-ae02-be430e6b641b",
   "metadata": {},
   "outputs": [
    {
     "name": "stdin",
     "output_type": "stream",
     "text": [
      "escribe tú frase favorita hola mundp\n",
      "escribe una vocal a\n"
     ]
    },
    {
     "name": "stdout",
     "output_type": "stream",
     "text": [
      "holA mundp\n"
     ]
    }
   ],
   "source": [
    "frase=input(\"escribe tú frase favorita\")\n",
    "vocal= input(\"escribe una vocal\")\n",
    "print(frase.replace(vocal, vocal.upper())) ##reemplazar cosas"
   ]
  },
  {
   "cell_type": "code",
   "execution_count": 46,
   "id": "919bd61f-722c-43b4-8e14-b505fc031386",
   "metadata": {},
   "outputs": [
    {
     "data": {
      "text/plain": [
       "'monce es bonita y especial, monce es valiosa, tal y como monce es'"
      ]
     },
     "execution_count": 46,
     "metadata": {},
     "output_type": "execute_result"
    }
   ],
   "source": [
    "frase= \"eres bonita y especial, eres valiosa, tal y como eres\"\n",
    "frase.replace(\"eres\", \"monce es\")"
   ]
  },
  {
   "cell_type": "code",
   "execution_count": null,
   "id": "f0c6843b-2dde-4673-92d7-da2e11ac96de",
   "metadata": {},
   "outputs": [],
   "source": []
  },
  {
   "cell_type": "code",
   "execution_count": null,
   "id": "66ef284a-e38b-469c-a332-503eed977694",
   "metadata": {},
   "outputs": [],
   "source": []
  },
  {
   "cell_type": "code",
   "execution_count": null,
   "id": "8220f36c-eae7-4def-9027-40fa5cbb87d5",
   "metadata": {},
   "outputs": [],
   "source": []
  }
 ],
 "metadata": {
  "kernelspec": {
   "display_name": "Python 3 (ipykernel)",
   "language": "python",
   "name": "python3"
  },
  "language_info": {
   "codemirror_mode": {
    "name": "ipython",
    "version": 3
   },
   "file_extension": ".py",
   "mimetype": "text/x-python",
   "name": "python",
   "nbconvert_exporter": "python",
   "pygments_lexer": "ipython3",
   "version": "3.10.4"
  }
 },
 "nbformat": 4,
 "nbformat_minor": 5
}
