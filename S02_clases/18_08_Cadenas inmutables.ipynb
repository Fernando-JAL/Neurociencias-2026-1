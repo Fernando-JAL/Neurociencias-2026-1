{
 "cells": [
  {
   "cell_type": "markdown",
   "id": "fb7fe6b3-fb16-429f-b7c8-d933ba59279e",
   "metadata": {},
   "source": [
    "# Cadenas inmutables"
   ]
  },
  {
   "cell_type": "code",
   "execution_count": 1,
   "id": "28e64a69-1a6e-4309-aaba-b12b3c7e33d7",
   "metadata": {},
   "outputs": [],
   "source": [
    "cadena = \"cadena\""
   ]
  },
  {
   "cell_type": "code",
   "execution_count": 2,
   "id": "feaa9dac-a48c-4379-9bc7-300ceea7cc6c",
   "metadata": {},
   "outputs": [],
   "source": [
    "cadena = (\"cadena\")"
   ]
  },
  {
   "cell_type": "markdown",
   "id": "e8603e89-7179-4658-bab5-875ac30ea84c",
   "metadata": {},
   "source": [
    "Significa que sus _elementos_ no pueden ser modificados "
   ]
  },
  {
   "cell_type": "code",
   "execution_count": 7,
   "id": "4fde2ab5-aef6-47af-b9d4-8357e9428747",
   "metadata": {},
   "outputs": [
    {
     "ename": "TypeError",
     "evalue": "'str' object does not support item assignment",
     "output_type": "error",
     "traceback": [
      "\u001b[31m---------------------------------------------------------------------------\u001b[39m",
      "\u001b[31mTypeError\u001b[39m                                 Traceback (most recent call last)",
      "\u001b[36mCell\u001b[39m\u001b[36m \u001b[39m\u001b[32mIn[7]\u001b[39m\u001b[32m, line 1\u001b[39m\n\u001b[32m----> \u001b[39m\u001b[32m1\u001b[39m \u001b[43mcadena\u001b[49m\u001b[43m[\u001b[49m\u001b[43m-\u001b[49m\u001b[32;43m2\u001b[39;49m\u001b[43m]\u001b[49m = \u001b[33m\"\u001b[39m\u001b[33mp\u001b[39m\u001b[33m\"\u001b[39m\n",
      "\u001b[31mTypeError\u001b[39m: 'str' object does not support item assignment"
     ]
    }
   ],
   "source": [
    "cadena[-2] = \"p\"  #demostración de que la cadena es inmutable, no permite cambiar los elementos que la componen"
   ]
  },
  {
   "cell_type": "markdown",
   "id": "4f1a0acd-7739-466d-9bc4-64ded910812a",
   "metadata": {},
   "source": [
    "### Alternativas a la inmutabilidad"
   ]
  },
  {
   "cell_type": "code",
   "execution_count": 8,
   "id": "92e3e37d-54df-45a1-b7a5-e998d218dfa7",
   "metadata": {},
   "outputs": [],
   "source": [
    "cadena = \"donde esta oswaldo\"\n",
    "cadena2 = \"viva la programación\"\n",
    "cadena3 = \"bts volvió del ejercito\""
   ]
  },
  {
   "cell_type": "code",
   "execution_count": 11,
   "id": "7918d737-6b27-4963-960f-8fa5195a721d",
   "metadata": {},
   "outputs": [
    {
     "data": {
      "text/plain": [
       "'oswaldo'"
      ]
     },
     "execution_count": 11,
     "metadata": {},
     "output_type": "execute_result"
    }
   ],
   "source": [
    "cadena[-7:] "
   ]
  },
  {
   "cell_type": "code",
   "execution_count": 17,
   "id": "9fe9e38d-365b-44cf-aa5f-59f7b9c2da65",
   "metadata": {},
   "outputs": [
    {
     "data": {
      "text/plain": [
       "'donde esta la programación que volvió del ejercito'"
      ]
     },
     "execution_count": 17,
     "metadata": {},
     "output_type": "execute_result"
    }
   ],
   "source": [
    "# EJERCICIO: con slicing crear \"donde esta la programación que volvió del ejército\"\n",
    "cadena[:10] + cadena2[4:] + \" que\" + cadena3[3:]"
   ]
  },
  {
   "cell_type": "code",
   "execution_count": 38,
   "id": "ee341dd5-951f-41aa-96bd-bb9503125494",
   "metadata": {},
   "outputs": [
    {
     "data": {
      "text/plain": [
       "'oswaldo volvió a la programación ed óivlov stb'"
      ]
     },
     "execution_count": 38,
     "metadata": {},
     "output_type": "execute_result"
    }
   ],
   "source": [
    "# EJERCICIO : con slicing crear, \"oswaldo volvió a la programación ed óivlov stb\"\n",
    "cadena[-7:] + cadena3[3:10] + \" a\" + cadena2[4:] + \" \" + cadena3[-11::-1]"
   ]
  },
  {
   "cell_type": "code",
   "execution_count": 96,
   "id": "008e57d6-3360-454a-bab8-5448dbdf78c5",
   "metadata": {},
   "outputs": [],
   "source": [
    "ruta = \"/Users/Maca/Desktop/Todo todo/UNAM/5º Semestre/Modelos computacionales I.pptx\""
   ]
  },
  {
   "cell_type": "code",
   "execution_count": 40,
   "id": "343ada30-9e48-4f53-b3fd-d17299f5b6fb",
   "metadata": {},
   "outputs": [
    {
     "data": {
      "text/plain": [
       "['/Users/Maca/Desktop/Todo',\n",
       " 'todo/UNAM/5º',\n",
       " 'Semestre/Modelos',\n",
       " 'computacionales',\n",
       " 'I']"
      ]
     },
     "execution_count": 40,
     "metadata": {},
     "output_type": "execute_result"
    }
   ],
   "source": [
    "# de forma default usa el espacio como separador, pero se lo podemos asignar\n",
    "ruta.split()"
   ]
  },
  {
   "cell_type": "code",
   "execution_count": 42,
   "id": "e0427d32-0c23-43b3-bd41-37265afe3a3f",
   "metadata": {},
   "outputs": [
    {
     "data": {
      "text/plain": [
       "['',\n",
       " 'Users',\n",
       " 'Maca',\n",
       " 'Desktop',\n",
       " 'Todo todo',\n",
       " 'UNAM',\n",
       " '5º Semestre',\n",
       " 'Modelos computacionales I']"
      ]
     },
     "execution_count": 42,
     "metadata": {},
     "output_type": "execute_result"
    }
   ],
   "source": [
    "# aquí asignamos el / como separador.\n",
    "ruta.split(sep = \"/\")"
   ]
  },
  {
   "cell_type": "markdown",
   "id": "953f46f3-220a-4949-8863-7b5b166a3cf7",
   "metadata": {},
   "source": [
    "## Tipo de dato: lista"
   ]
  },
  {
   "cell_type": "markdown",
   "id": "0073b969-e134-434b-a71f-6831a525b5bc",
   "metadata": {},
   "source": [
    "conjunto de datos separado por comas y encerrado entre []"
   ]
  },
  {
   "cell_type": "code",
   "execution_count": 78,
   "id": "cd23061b-7856-407d-9761-11d0a8709556",
   "metadata": {},
   "outputs": [],
   "source": [
    "lista = [5, 4, 2, 90.3, complex(-7,6), \"strings\", \"wow\", [3, 2, 5]]"
   ]
  },
  {
   "cell_type": "code",
   "execution_count": 64,
   "id": "54c4638f-6082-484e-836c-78ae441113cb",
   "metadata": {},
   "outputs": [
    {
     "data": {
      "text/plain": [
       "8"
      ]
     },
     "execution_count": 64,
     "metadata": {},
     "output_type": "execute_result"
    }
   ],
   "source": [
    "len(lista)"
   ]
  },
  {
   "cell_type": "code",
   "execution_count": 47,
   "id": "13975397-8f91-40df-a560-304c3e5fab5f",
   "metadata": {},
   "outputs": [
    {
     "data": {
      "text/plain": [
       "list"
      ]
     },
     "execution_count": 47,
     "metadata": {},
     "output_type": "execute_result"
    }
   ],
   "source": [
    "type(lista)"
   ]
  },
  {
   "cell_type": "code",
   "execution_count": 48,
   "id": "d2cb4655-f7e5-418e-8353-0f764d287e4f",
   "metadata": {},
   "outputs": [
    {
     "data": {
      "text/plain": [
       "(-7+6j)"
      ]
     },
     "execution_count": 48,
     "metadata": {},
     "output_type": "execute_result"
    }
   ],
   "source": [
    "# también podemos utilizar el splicing y se utilizan el mismo orden que en cadenas. \n",
    "lista[4]"
   ]
  },
  {
   "cell_type": "code",
   "execution_count": 49,
   "id": "8adf1ecb-ebfd-4952-bc61-fad4ccc90f87",
   "metadata": {},
   "outputs": [
    {
     "data": {
      "text/plain": [
       "4"
      ]
     },
     "execution_count": 49,
     "metadata": {},
     "output_type": "execute_result"
    }
   ],
   "source": [
    "lista[1]"
   ]
  },
  {
   "cell_type": "code",
   "execution_count": 50,
   "id": "8ede65a4-674f-4cf9-b677-db9469e12440",
   "metadata": {},
   "outputs": [
    {
     "data": {
      "text/plain": [
       "(-3+6j)"
      ]
     },
     "execution_count": 50,
     "metadata": {},
     "output_type": "execute_result"
    }
   ],
   "source": [
    "lista[4] + lista[1]"
   ]
  },
  {
   "cell_type": "code",
   "execution_count": 53,
   "id": "1bb44812-4bc4-4cd0-b5ce-cda06f2da872",
   "metadata": {},
   "outputs": [
    {
     "data": {
      "text/plain": [
       "'wowwow'"
      ]
     },
     "execution_count": 53,
     "metadata": {},
     "output_type": "execute_result"
    }
   ],
   "source": [
    "lista[2]*lista[-2]"
   ]
  },
  {
   "cell_type": "code",
   "execution_count": 56,
   "id": "cbc8910b-5e8f-4b35-9d57-07a30de50ef8",
   "metadata": {},
   "outputs": [
    {
     "data": {
      "text/plain": [
       "[3, 2, 5, 3, 2, 5, 3, 2, 5, 3, 2, 5]"
      ]
     },
     "execution_count": 56,
     "metadata": {},
     "output_type": "execute_result"
    }
   ],
   "source": [
    "lista[1]*lista[-1]"
   ]
  },
  {
   "cell_type": "code",
   "execution_count": 59,
   "id": "62350051-40fa-4848-b278-6be10bee5edc",
   "metadata": {},
   "outputs": [
    {
     "data": {
      "text/plain": [
       "[5, 4, 2, 'chale', (-7+6j), 'strings', 'wow', [3, 2, 5]]"
      ]
     },
     "execution_count": 59,
     "metadata": {},
     "output_type": "execute_result"
    }
   ],
   "source": [
    "#las listas son mutables\n",
    "lista[3] = \"chale\"\n",
    "lista"
   ]
  },
  {
   "cell_type": "code",
   "execution_count": 66,
   "id": "e85a2361-d375-404a-b74b-efefda588d8a",
   "metadata": {},
   "outputs": [
    {
     "data": {
      "text/plain": [
       "[5,\n",
       " 4,\n",
       " 'm',\n",
       " 'a',\n",
       " 'l',\n",
       " 'u',\n",
       " 'm',\n",
       " 'a',\n",
       " ' ',\n",
       " 'b',\n",
       " 'a',\n",
       " 'b',\n",
       " 'y',\n",
       " 'strings',\n",
       " 'wow',\n",
       " [3, 2, 5]]"
      ]
     },
     "execution_count": 66,
     "metadata": {},
     "output_type": "execute_result"
    }
   ],
   "source": [
    "lista[2:5] = \"maluma baby\"\n",
    "lista"
   ]
  },
  {
   "cell_type": "code",
   "execution_count": 67,
   "id": "23cddfde-7a63-4345-8b15-a6c06dcb2401",
   "metadata": {},
   "outputs": [
    {
     "name": "stdout",
     "output_type": "stream",
     "text": [
      "16 [5, 4, 'm', 'a', 'l', 'u', 'm', 'a', ' ', 'b', 'a', 'b', 'y', 'strings', 'wow', [3, 2, 5]]\n"
     ]
    }
   ],
   "source": [
    "print(len(lista), lista)"
   ]
  },
  {
   "cell_type": "code",
   "execution_count": 79,
   "id": "4e8819a2-e5e7-4ded-b525-2ece3b30436e",
   "metadata": {},
   "outputs": [
    {
     "name": "stdout",
     "output_type": "stream",
     "text": [
      "10 [5, 4, 'maluma baby', 'maluma baby', 'maluma baby', 'maluma baby', 'maluma baby', 'strings', 'wow', [3, 2, 5]]\n"
     ]
    }
   ],
   "source": [
    "lista[2: 5] = 5*[\"maluma baby\"]\n",
    "print(len(lista), lista)"
   ]
  },
  {
   "cell_type": "code",
   "execution_count": 80,
   "id": "0f751452-35b4-495c-9f4a-7ab613fdf005",
   "metadata": {},
   "outputs": [
    {
     "data": {
      "text/plain": [
       "'strings'"
      ]
     },
     "execution_count": 80,
     "metadata": {},
     "output_type": "execute_result"
    }
   ],
   "source": [
    "lista[-3]"
   ]
  },
  {
   "cell_type": "code",
   "execution_count": 81,
   "id": "e14717d2-632f-4838-9e12-f272306edd3a",
   "metadata": {},
   "outputs": [
    {
     "data": {
      "text/plain": [
       "[3, 2, 5]"
      ]
     },
     "execution_count": 81,
     "metadata": {},
     "output_type": "execute_result"
    }
   ],
   "source": [
    "lista[-1]"
   ]
  },
  {
   "cell_type": "code",
   "execution_count": 82,
   "id": "3a495fad-469d-4616-a05c-1971bf287bd9",
   "metadata": {},
   "outputs": [
    {
     "data": {
      "text/plain": [
       "['maluma baby', 'strings', 'wow']"
      ]
     },
     "execution_count": 82,
     "metadata": {},
     "output_type": "execute_result"
    }
   ],
   "source": [
    "lista[-4:-1]"
   ]
  },
  {
   "cell_type": "code",
   "execution_count": 97,
   "id": "7fa46010-8ccc-4d16-80a1-4d97b9b031b1",
   "metadata": {},
   "outputs": [
    {
     "data": {
      "text/plain": [
       "'/Users/Maca/Desktop/Todo todo/UNAM/5º Semestre/Modelos computacionales I.pptx'"
      ]
     },
     "execution_count": 97,
     "metadata": {},
     "output_type": "execute_result"
    }
   ],
   "source": [
    "ruta"
   ]
  },
  {
   "cell_type": "code",
   "execution_count": 98,
   "id": "73c1a337-a228-48ac-b29e-ab35d27bd238",
   "metadata": {},
   "outputs": [
    {
     "data": {
      "text/plain": [
       "['',\n",
       " 'Users',\n",
       " 'Maca',\n",
       " 'Desktop',\n",
       " 'Todo todo',\n",
       " 'UNAM',\n",
       " '5º Semestre',\n",
       " 'Modelos computacionales I.pptx']"
      ]
     },
     "execution_count": 98,
     "metadata": {},
     "output_type": "execute_result"
    }
   ],
   "source": [
    "ruta2 = ruta.split(\"/\")\n",
    "ruta2"
   ]
  },
  {
   "cell_type": "code",
   "execution_count": 108,
   "id": "30f3dd8d-66b7-4f34-a227-55f51de67c63",
   "metadata": {},
   "outputs": [
    {
     "data": {
      "text/plain": [
       "'Modelos computacionales I'"
      ]
     },
     "execution_count": 108,
     "metadata": {},
     "output_type": "execute_result"
    }
   ],
   "source": [
    "# 1 forma de lograrlo\n",
    "var2 = ruta2[-1]\n",
    "var2\n",
    "var3 = var2.split(sep = \".pptx\")\n",
    "var3[0]"
   ]
  },
  {
   "cell_type": "code",
   "execution_count": 109,
   "id": "d5525655-e441-4c99-8708-f7b9e039bfde",
   "metadata": {},
   "outputs": [
    {
     "data": {
      "text/plain": [
       "'Modelos computacionales I'"
      ]
     },
     "execution_count": 109,
     "metadata": {},
     "output_type": "execute_result"
    }
   ],
   "source": [
    "# o de esta forma\n",
    "var2[:-5]"
   ]
  },
  {
   "cell_type": "code",
   "execution_count": 112,
   "id": "06679339-4be8-48f5-8bb9-7f09d1da7b7d",
   "metadata": {},
   "outputs": [
    {
     "data": {
      "text/plain": [
       "'Modelos computacionales I'"
      ]
     },
     "execution_count": 112,
     "metadata": {},
     "output_type": "execute_result"
    }
   ],
   "source": [
    "# o con incluso menos variables\n",
    "ruta2 = ruta.split(\"/\")[-1][:-5]\n",
    "ruta2"
   ]
  },
  {
   "cell_type": "code",
   "execution_count": 116,
   "id": "ee4dcacd-7072-43e1-830d-7ffd82ef49e6",
   "metadata": {},
   "outputs": [
    {
     "data": {
      "text/plain": [
       "str"
      ]
     },
     "execution_count": 116,
     "metadata": {},
     "output_type": "execute_result"
    }
   ],
   "source": [
    "# o de esta manera\n",
    "ruta2 = ruta.split(\"/\")[-1].split(sep = \".pptx\")[0]\n",
    "ruta2\n",
    "type(ruta2)"
   ]
  },
  {
   "cell_type": "markdown",
   "id": "32b9edcf-5282-41a2-bc27-0236c212270f",
   "metadata": {},
   "source": [
    "#### Tarea\n",
    "entrar a typingClub, ideal no tener que ver el teclado para escribir. "
   ]
  },
  {
   "cell_type": "code",
   "execution_count": null,
   "id": "a7326819-9bfd-4936-a078-8ed8cd224886",
   "metadata": {},
   "outputs": [],
   "source": []
  },
  {
   "cell_type": "code",
   "execution_count": null,
   "id": "4ba8489e-143b-482d-93c3-d63a116c46be",
   "metadata": {},
   "outputs": [],
   "source": []
  }
 ],
 "metadata": {
  "kernelspec": {
   "display_name": "Python 3 (ipykernel)",
   "language": "python",
   "name": "python3"
  },
  "language_info": {
   "codemirror_mode": {
    "name": "ipython",
    "version": 3
   },
   "file_extension": ".py",
   "mimetype": "text/x-python",
   "name": "python",
   "nbconvert_exporter": "python",
   "pygments_lexer": "ipython3",
   "version": "3.13.6"
  }
 },
 "nbformat": 4,
 "nbformat_minor": 5
}
