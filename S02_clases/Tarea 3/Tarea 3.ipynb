{
 "cells": [
  {
   "cell_type": "code",
   "execution_count": 1,
   "id": "feca963d-8f1b-4c57-bdab-55098a275188",
   "metadata": {},
   "outputs": [
    {
     "name": "stdout",
     "output_type": "stream",
     "text": [
      "2.3.3\n"
     ]
    }
   ],
   "source": [
    "#Tarea 3 - Ver el slicing para obtener los datos de la columna de enmedio\n",
    "\n",
    "import numpy as np\n",
    "print(np.__version__)\n"
   ]
  },
  {
   "cell_type": "code",
   "execution_count": 2,
   "id": "30de3f43-625d-4831-8acd-8ecb49fce3ff",
   "metadata": {},
   "outputs": [],
   "source": [
    "matriz = np.array([[0,5,10],\n",
    "                   [15, 20, 25],\n",
    "                   [99, 35, 40]])"
   ]
  },
  {
   "cell_type": "code",
   "execution_count": 4,
   "id": "76851b5e-e2fb-4ea1-a445-5cae7da803b4",
   "metadata": {},
   "outputs": [
    {
     "data": {
      "text/plain": [
       "array([ 5, 20, 35])"
      ]
     },
     "execution_count": 4,
     "metadata": {},
     "output_type": "execute_result"
    }
   ],
   "source": [
    "\n",
    "matriz [:,1]"
   ]
  },
  {
   "cell_type": "code",
   "execution_count": null,
   "id": "4e18522e-bc89-4b60-879b-0d6ea3516952",
   "metadata": {},
   "outputs": [],
   "source": []
  }
 ],
 "metadata": {
  "kernelspec": {
   "display_name": "Python 3 (ipykernel)",
   "language": "python",
   "name": "python3"
  },
  "language_info": {
   "codemirror_mode": {
    "name": "ipython",
    "version": 3
   },
   "file_extension": ".py",
   "mimetype": "text/x-python",
   "name": "python",
   "nbconvert_exporter": "python",
   "pygments_lexer": "ipython3",
   "version": "3.13.7"
  }
 },
 "nbformat": 4,
 "nbformat_minor": 5
}
