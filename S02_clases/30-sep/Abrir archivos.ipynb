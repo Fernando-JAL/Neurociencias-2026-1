{
 "cells": [
  {
   "cell_type": "markdown",
   "id": "abd19fc5-25a9-4f39-a072-92d93c6343a8",
   "metadata": {},
   "source": [
    "## Abrir archivos"
   ]
  },
  {
   "cell_type": "code",
   "execution_count": 1,
   "id": "104c3cd8-1fbd-431b-931b-2267b47e34b0",
   "metadata": {},
   "outputs": [],
   "source": [
    "import pandas as pd"
   ]
  },
  {
   "cell_type": "code",
   "execution_count": 21,
   "id": "8790ec02-708d-46bf-a76b-d96e11e40cb8",
   "metadata": {},
   "outputs": [],
   "source": [
    "# abrir excel \n",
    "excel_path_file = r\"C:\\Users\\Ana\\Desktop\\5to semestre\\Modelos Computacionales\\Neurociencias-2026-1\\S03_datasets\\EEG.xlsx\"\n"
   ]
  },
  {
   "cell_type": "code",
   "execution_count": 22,
   "id": "ffaa3160-cc88-41fc-b42c-f2dd40a5ff89",
   "metadata": {},
   "outputs": [],
   "source": [
    "\n",
    "excel_dict = pd.read_excel(excel_path_file)"
   ]
  },
  {
   "cell_type": "code",
   "execution_count": 23,
   "id": "0f00d7a1-13a8-45d8-ba82-6ea6e70458db",
   "metadata": {},
   "outputs": [
    {
     "data": {
      "text/plain": [
       "pandas.core.frame.DataFrame"
      ]
     },
     "execution_count": 23,
     "metadata": {},
     "output_type": "execute_result"
    }
   ],
   "source": [
    "\n",
    "type(excel_dict)"
   ]
  },
  {
   "cell_type": "code",
   "execution_count": 24,
   "id": "770fdb3a-2621-46d4-8617-fd9a8bd966ec",
   "metadata": {},
   "outputs": [
    {
     "data": {
      "text/html": [
       "<div>\n",
       "<style scoped>\n",
       "    .dataframe tbody tr th:only-of-type {\n",
       "        vertical-align: middle;\n",
       "    }\n",
       "\n",
       "    .dataframe tbody tr th {\n",
       "        vertical-align: top;\n",
       "    }\n",
       "\n",
       "    .dataframe thead th {\n",
       "        text-align: right;\n",
       "    }\n",
       "</style>\n",
       "<table border=\"1\" class=\"dataframe\">\n",
       "  <thead>\n",
       "    <tr style=\"text-align: right;\">\n",
       "      <th></th>\n",
       "      <th>Unnamed: 0</th>\n",
       "      <th>FP1</th>\n",
       "      <th>F7</th>\n",
       "      <th>T3</th>\n",
       "      <th>C3</th>\n",
       "      <th>C4</th>\n",
       "      <th>T4</th>\n",
       "      <th>F8</th>\n",
       "      <th>FP2</th>\n",
       "    </tr>\n",
       "  </thead>\n",
       "  <tbody>\n",
       "    <tr>\n",
       "      <th>0</th>\n",
       "      <td>FP1</td>\n",
       "      <td>1.00</td>\n",
       "      <td>0.25</td>\n",
       "      <td>0.18</td>\n",
       "      <td>0.12</td>\n",
       "      <td>0.10</td>\n",
       "      <td>0.09</td>\n",
       "      <td>0.07</td>\n",
       "      <td>0.06</td>\n",
       "    </tr>\n",
       "    <tr>\n",
       "      <th>1</th>\n",
       "      <td>F7</td>\n",
       "      <td>0.25</td>\n",
       "      <td>1.00</td>\n",
       "      <td>0.20</td>\n",
       "      <td>0.15</td>\n",
       "      <td>0.12</td>\n",
       "      <td>0.10</td>\n",
       "      <td>0.08</td>\n",
       "      <td>0.07</td>\n",
       "    </tr>\n",
       "    <tr>\n",
       "      <th>2</th>\n",
       "      <td>T3</td>\n",
       "      <td>0.18</td>\n",
       "      <td>0.20</td>\n",
       "      <td>1.00</td>\n",
       "      <td>0.28</td>\n",
       "      <td>0.22</td>\n",
       "      <td>0.18</td>\n",
       "      <td>0.11</td>\n",
       "      <td>0.10</td>\n",
       "    </tr>\n",
       "    <tr>\n",
       "      <th>3</th>\n",
       "      <td>C3</td>\n",
       "      <td>0.12</td>\n",
       "      <td>0.15</td>\n",
       "      <td>0.28</td>\n",
       "      <td>1.00</td>\n",
       "      <td>0.30</td>\n",
       "      <td>0.25</td>\n",
       "      <td>0.12</td>\n",
       "      <td>0.11</td>\n",
       "    </tr>\n",
       "    <tr>\n",
       "      <th>4</th>\n",
       "      <td>C4</td>\n",
       "      <td>0.10</td>\n",
       "      <td>0.12</td>\n",
       "      <td>0.22</td>\n",
       "      <td>0.30</td>\n",
       "      <td>1.00</td>\n",
       "      <td>0.35</td>\n",
       "      <td>0.14</td>\n",
       "      <td>0.13</td>\n",
       "    </tr>\n",
       "    <tr>\n",
       "      <th>5</th>\n",
       "      <td>T4</td>\n",
       "      <td>0.09</td>\n",
       "      <td>0.10</td>\n",
       "      <td>0.18</td>\n",
       "      <td>0.25</td>\n",
       "      <td>0.35</td>\n",
       "      <td>1.00</td>\n",
       "      <td>0.13</td>\n",
       "      <td>0.12</td>\n",
       "    </tr>\n",
       "    <tr>\n",
       "      <th>6</th>\n",
       "      <td>F8</td>\n",
       "      <td>0.07</td>\n",
       "      <td>0.08</td>\n",
       "      <td>0.11</td>\n",
       "      <td>0.12</td>\n",
       "      <td>0.14</td>\n",
       "      <td>0.13</td>\n",
       "      <td>1.00</td>\n",
       "      <td>0.40</td>\n",
       "    </tr>\n",
       "    <tr>\n",
       "      <th>7</th>\n",
       "      <td>FP2</td>\n",
       "      <td>0.06</td>\n",
       "      <td>0.07</td>\n",
       "      <td>0.10</td>\n",
       "      <td>0.11</td>\n",
       "      <td>0.13</td>\n",
       "      <td>0.12</td>\n",
       "      <td>0.40</td>\n",
       "      <td>1.00</td>\n",
       "    </tr>\n",
       "  </tbody>\n",
       "</table>\n",
       "</div>"
      ],
      "text/plain": [
       "  Unnamed: 0   FP1    F7    T3    C3    C4    T4    F8   FP2\n",
       "0        FP1  1.00  0.25  0.18  0.12  0.10  0.09  0.07  0.06\n",
       "1         F7  0.25  1.00  0.20  0.15  0.12  0.10  0.08  0.07\n",
       "2         T3  0.18  0.20  1.00  0.28  0.22  0.18  0.11  0.10\n",
       "3         C3  0.12  0.15  0.28  1.00  0.30  0.25  0.12  0.11\n",
       "4         C4  0.10  0.12  0.22  0.30  1.00  0.35  0.14  0.13\n",
       "5         T4  0.09  0.10  0.18  0.25  0.35  1.00  0.13  0.12\n",
       "6         F8  0.07  0.08  0.11  0.12  0.14  0.13  1.00  0.40\n",
       "7        FP2  0.06  0.07  0.10  0.11  0.13  0.12  0.40  1.00"
      ]
     },
     "execution_count": 24,
     "metadata": {},
     "output_type": "execute_result"
    }
   ],
   "source": [
    "# el excel tiene más hojas, cómo puedo entrar a una en específico?\n",
    "# sheet_name = nombre de la hoja\n",
    "pd.read_excel(excel_path_file, sheet_name = \"coherence_chbmit_interictal\")"
   ]
  },
  {
   "cell_type": "markdown",
   "id": "85e6273a-263c-4431-a588-70cef9a894ad",
   "metadata": {},
   "source": [
    "Si no tengo el nombre de la hoja, o quiera más de una...\n",
    "\n",
    "- genera un diccionario con toda la información, donde las llaves son los nombres de las hojas y el valor es la info de la hoja"
   ]
  },
  {
   "cell_type": "code",
   "execution_count": 25,
   "id": "9877e576-8725-432a-b2e5-9320873806e1",
   "metadata": {},
   "outputs": [],
   "source": [
    "\n",
    "excel_file_dict = pd.read_excel(excel_path_file, sheet_name =None)"
   ]
  },
  {
   "cell_type": "code",
   "execution_count": 26,
   "id": "fde1985c-4d89-451d-be1e-d715f2346fac",
   "metadata": {},
   "outputs": [
    {
     "data": {
      "text/plain": [
       "dict_keys(['coherence_motorimagery_alpha', 'coherence_chbmit_interictal', 'coherence_chbmit_ictal'])"
      ]
     },
     "execution_count": 26,
     "metadata": {},
     "output_type": "execute_result"
    }
   ],
   "source": [
    "\n",
    "excel_file_dict.keys()"
   ]
  },
  {
   "cell_type": "markdown",
   "id": "413bf2b5-5e90-4d94-a7ec-d3161a8fb7c5",
   "metadata": {},
   "source": [
    "Así podemos llamar a la hoja de nuestro interés.\n",
    "\n",
    "Al ponerla en una variable ya nos quedamos con el dataframe"
   ]
  },
  {
   "cell_type": "code",
   "execution_count": 27,
   "id": "8e2aab59-2844-4251-98bb-2e4e7091251e",
   "metadata": {},
   "outputs": [
    {
     "data": {
      "text/html": [
       "<div>\n",
       "<style scoped>\n",
       "    .dataframe tbody tr th:only-of-type {\n",
       "        vertical-align: middle;\n",
       "    }\n",
       "\n",
       "    .dataframe tbody tr th {\n",
       "        vertical-align: top;\n",
       "    }\n",
       "\n",
       "    .dataframe thead th {\n",
       "        text-align: right;\n",
       "    }\n",
       "</style>\n",
       "<table border=\"1\" class=\"dataframe\">\n",
       "  <thead>\n",
       "    <tr style=\"text-align: right;\">\n",
       "      <th></th>\n",
       "      <th>Unnamed: 0</th>\n",
       "      <th>FP1</th>\n",
       "      <th>F7</th>\n",
       "      <th>T3</th>\n",
       "      <th>C3</th>\n",
       "      <th>C4</th>\n",
       "      <th>T4</th>\n",
       "      <th>F8</th>\n",
       "      <th>FP2</th>\n",
       "    </tr>\n",
       "  </thead>\n",
       "  <tbody>\n",
       "    <tr>\n",
       "      <th>0</th>\n",
       "      <td>FP1</td>\n",
       "      <td>1.00</td>\n",
       "      <td>0.48</td>\n",
       "      <td>0.42</td>\n",
       "      <td>0.35</td>\n",
       "      <td>0.32</td>\n",
       "      <td>0.30</td>\n",
       "      <td>0.20</td>\n",
       "      <td>0.18</td>\n",
       "    </tr>\n",
       "    <tr>\n",
       "      <th>1</th>\n",
       "      <td>F7</td>\n",
       "      <td>0.48</td>\n",
       "      <td>1.00</td>\n",
       "      <td>0.45</td>\n",
       "      <td>0.38</td>\n",
       "      <td>0.35</td>\n",
       "      <td>0.33</td>\n",
       "      <td>0.22</td>\n",
       "      <td>0.20</td>\n",
       "    </tr>\n",
       "    <tr>\n",
       "      <th>2</th>\n",
       "      <td>T3</td>\n",
       "      <td>0.42</td>\n",
       "      <td>0.45</td>\n",
       "      <td>1.00</td>\n",
       "      <td>0.58</td>\n",
       "      <td>0.52</td>\n",
       "      <td>0.48</td>\n",
       "      <td>0.28</td>\n",
       "      <td>0.26</td>\n",
       "    </tr>\n",
       "    <tr>\n",
       "      <th>3</th>\n",
       "      <td>C3</td>\n",
       "      <td>0.35</td>\n",
       "      <td>0.38</td>\n",
       "      <td>0.58</td>\n",
       "      <td>1.00</td>\n",
       "      <td>0.60</td>\n",
       "      <td>0.55</td>\n",
       "      <td>0.30</td>\n",
       "      <td>0.28</td>\n",
       "    </tr>\n",
       "    <tr>\n",
       "      <th>4</th>\n",
       "      <td>C4</td>\n",
       "      <td>0.32</td>\n",
       "      <td>0.35</td>\n",
       "      <td>0.52</td>\n",
       "      <td>0.60</td>\n",
       "      <td>1.00</td>\n",
       "      <td>0.62</td>\n",
       "      <td>0.33</td>\n",
       "      <td>0.30</td>\n",
       "    </tr>\n",
       "    <tr>\n",
       "      <th>5</th>\n",
       "      <td>T4</td>\n",
       "      <td>0.30</td>\n",
       "      <td>0.33</td>\n",
       "      <td>0.48</td>\n",
       "      <td>0.55</td>\n",
       "      <td>0.62</td>\n",
       "      <td>1.00</td>\n",
       "      <td>0.31</td>\n",
       "      <td>0.29</td>\n",
       "    </tr>\n",
       "    <tr>\n",
       "      <th>6</th>\n",
       "      <td>F8</td>\n",
       "      <td>0.20</td>\n",
       "      <td>0.22</td>\n",
       "      <td>0.28</td>\n",
       "      <td>0.30</td>\n",
       "      <td>0.33</td>\n",
       "      <td>0.31</td>\n",
       "      <td>1.00</td>\n",
       "      <td>0.45</td>\n",
       "    </tr>\n",
       "    <tr>\n",
       "      <th>7</th>\n",
       "      <td>FP2</td>\n",
       "      <td>0.18</td>\n",
       "      <td>0.20</td>\n",
       "      <td>0.26</td>\n",
       "      <td>0.28</td>\n",
       "      <td>0.30</td>\n",
       "      <td>0.29</td>\n",
       "      <td>0.45</td>\n",
       "      <td>1.00</td>\n",
       "    </tr>\n",
       "  </tbody>\n",
       "</table>\n",
       "</div>"
      ],
      "text/plain": [
       "  Unnamed: 0   FP1    F7    T3    C3    C4    T4    F8   FP2\n",
       "0        FP1  1.00  0.48  0.42  0.35  0.32  0.30  0.20  0.18\n",
       "1         F7  0.48  1.00  0.45  0.38  0.35  0.33  0.22  0.20\n",
       "2         T3  0.42  0.45  1.00  0.58  0.52  0.48  0.28  0.26\n",
       "3         C3  0.35  0.38  0.58  1.00  0.60  0.55  0.30  0.28\n",
       "4         C4  0.32  0.35  0.52  0.60  1.00  0.62  0.33  0.30\n",
       "5         T4  0.30  0.33  0.48  0.55  0.62  1.00  0.31  0.29\n",
       "6         F8  0.20  0.22  0.28  0.30  0.33  0.31  1.00  0.45\n",
       "7        FP2  0.18  0.20  0.26  0.28  0.30  0.29  0.45  1.00"
      ]
     },
     "execution_count": 27,
     "metadata": {},
     "output_type": "execute_result"
    }
   ],
   "source": [
    "\n",
    "variable = excel_file_dict[\"coherence_chbmit_ictal\"]\n",
    "variable"
   ]
  },
  {
   "cell_type": "code",
   "execution_count": null,
   "id": "d3867d73-647a-4d05-aa09-e17d1b0c3968",
   "metadata": {},
   "outputs": [],
   "source": []
  },
  {
   "cell_type": "code",
   "execution_count": null,
   "id": "cea06663-8a17-4935-8dee-dccac0b6dbc5",
   "metadata": {},
   "outputs": [],
   "source": []
  },
  {
   "cell_type": "code",
   "execution_count": null,
   "id": "6b33161f-a26c-44b1-a5a8-556ea8434de5",
   "metadata": {},
   "outputs": [],
   "source": []
  }
 ],
 "metadata": {
  "kernelspec": {
   "display_name": "Python 3 (ipykernel)",
   "language": "python",
   "name": "python3"
  },
  "language_info": {
   "codemirror_mode": {
    "name": "ipython",
    "version": 3
   },
   "file_extension": ".py",
   "mimetype": "text/x-python",
   "name": "python",
   "nbconvert_exporter": "python",
   "pygments_lexer": "ipython3",
   "version": "3.14.0"
  }
 },
 "nbformat": 4,
 "nbformat_minor": 5
}
