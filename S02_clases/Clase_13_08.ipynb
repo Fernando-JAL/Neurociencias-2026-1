{
 "cells": [
  {
   "cell_type": "markdown",
   "id": "dad5ee25-ef03-4593-9cda-41287ca34a31",
   "metadata": {},
   "source": [
    "# titulo\n",
    "\n",
    "## subtitulo\n",
    "\n",
    "### section \n",
    "\n",
    "#### subsection\n",
    "\n",
    "##### text\n",
    "\n",
    "texto sin # "
   ]
  },
  {
   "cell_type": "markdown",
   "id": "22ed8a30-6024-408e-ba63-60a861f6561f",
   "metadata": {},
   "source": [
    "esc + m -> convertir la celda en markdown\n",
    "\n",
    "*texto* o _más texto_\n",
    "\n",
    "**texto otra vez** o __otro texto__  "
   ]
  },
  {
   "cell_type": "markdown",
   "id": "7342c829-5af5-47c3-9d80-184bef6e41a0",
   "metadata": {},
   "source": [
    "## listas\n",
    "\n",
    "- item 1\n",
    "- item 2\n",
    "- item 3\n",
    "\n",
    "1. primero\n",
    "1. segunda\n",
    "   1. segunda 2\n",
    "1. tercero\n",
    "   1. aa\n",
    "      1. aaa\n",
    "         1. aaaa\n",
    "            1. aaaaa\n",
    "               "
   ]
  },
  {
   "cell_type": "markdown",
   "id": "8d026b1b-8775-4624-b1e8-ae7843551f0b",
   "metadata": {},
   "source": [
    "esc + b -> insertar celda abajo"
   ]
  },
  {
   "cell_type": "markdown",
   "id": "9e31c13d-08d1-4119-a747-10c405561dbb",
   "metadata": {},
   "source": [
    "esc + a -> insertar celda arriba"
   ]
  },
  {
   "cell_type": "markdown",
   "id": "3b221cd8-2230-4119-97cc-d8cb5019124a",
   "metadata": {},
   "source": [
    "casa = 15 "
   ]
  },
  {
   "cell_type": "markdown",
   "id": "cd87330b-1e6f-434f-b0ad-7f57880c70c0",
   "metadata": {},
   "source": [
    "## diccionario"
   ]
  },
  {
   "cell_type": "markdown",
   "id": "2c21e299-3555-42bb-bd2d-781e2c903ddf",
   "metadata": {},
   "source": [
    "diccionario = {'llave' : 'valor' , 'llave2' : 'valor2', 'cosa' : 5, 'otra cosa' : [1, 2, 3], 'llave 3' : (1, 2, 3) }"
   ]
  },
  {
   "cell_type": "markdown",
   "id": "42dde4c2-8d5e-4090-979e-28eef9580c8d",
   "metadata": {},
   "source": [
    "diccionario"
   ]
  },
  {
   "cell_type": "markdown",
   "id": "de3ed9eb-f4f0-40bf-b731-6e8367c20d45",
   "metadata": {},
   "source": [
    "diccionario['cosa'] + 1"
   ]
  },
  {
   "cell_type": "markdown",
   "id": "a707195c-1279-48cb-b894-a3674ac0e7d5",
   "metadata": {},
   "source": [
    "casa = 7"
   ]
  },
  {
   "cell_type": "code",
   "execution_count": 2,
   "id": "a3a40cb8-3f63-4c37-a2e0-801529958a37",
   "metadata": {},
   "outputs": [],
   "source": [
    "b=8"
   ]
  },
  {
   "cell_type": "code",
   "execution_count": 5,
   "id": "a6de895e-bd4a-40f4-8e11-e35e60e4c758",
   "metadata": {},
   "outputs": [
    {
     "data": {
      "text/plain": [
       "7"
      ]
     },
     "execution_count": 5,
     "metadata": {},
     "output_type": "execute_result"
    }
   ],
   "source": [
    "casa"
   ]
  },
  {
   "cell_type": "code",
   "execution_count": null,
   "id": "7304e152-66b8-4476-9bb8-fc647816110c",
   "metadata": {},
   "outputs": [],
   "source": []
  }
 ],
 "metadata": {
  "kernelspec": {
   "display_name": "Python 3 (ipykernel)",
   "language": "python",
   "name": "python3"
  },
  "language_info": {
   "codemirror_mode": {
    "name": "ipython",
    "version": 3
   },
   "file_extension": ".py",
   "mimetype": "text/x-python",
   "name": "python",
   "nbconvert_exporter": "python",
   "pygments_lexer": "ipython3",
   "version": "3.10.4"
  }
 },
 "nbformat": 4,
 "nbformat_minor": 5
}
