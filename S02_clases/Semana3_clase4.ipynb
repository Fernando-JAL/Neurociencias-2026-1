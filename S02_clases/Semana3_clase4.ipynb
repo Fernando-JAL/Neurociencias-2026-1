{
 "cells": [
  {
   "cell_type": "markdown",
   "id": "e9108508",
   "metadata": {},
   "source": [
    "# "
   ]
  },
  {
   "cell_type": "markdown",
   "id": "7cd019ef",
   "metadata": {},
   "source": [
    "ejercicio \n",
    "1. crear una funcion que cuente las vocales de un string y regrese dicho numero\n",
    "2. crear una funcion que determine si un numero es par o impar e imprima si es par o impar\n",
    "3. crear una funcion para convertir de grados celcius a grados farenheit, dicha funcion recibira la temperaatura en grados celcius y debera regresar los grados farenheit\n",
    "4. crear una funcion que reciba un entero y devuelva la suma de sus digitos"
   ]
  },
  {
   "cell_type": "code",
   "execution_count": 18,
   "id": "347bde1d",
   "metadata": {},
   "outputs": [],
   "source": [
    "def contar_vocales(cadena):\n",
    "    vocales='aeiouAEIOU'\n",
    "    return sum(1 for letra in cadena if letra in vocales)"
   ]
  },
  {
   "cell_type": "code",
   "execution_count": 20,
   "id": "dfdc6727",
   "metadata": {},
   "outputs": [
    {
     "data": {
      "text/plain": [
       "3"
      ]
     },
     "execution_count": 20,
     "metadata": {},
     "output_type": "execute_result"
    }
   ],
   "source": [
    "contar_vocales('fukinshit')"
   ]
  },
  {
   "cell_type": "code",
   "execution_count": 15,
   "id": "824bf03b",
   "metadata": {},
   "outputs": [],
   "source": [
    "def num_letras (str):\n",
    "    cantidad=len(str)\n",
    "    return (cantidad)"
   ]
  },
  {
   "cell_type": "code",
   "execution_count": 17,
   "id": "6d68c02c",
   "metadata": {},
   "outputs": [
    {
     "data": {
      "text/plain": [
       "7"
      ]
     },
     "execution_count": 17,
     "metadata": {},
     "output_type": "execute_result"
    }
   ],
   "source": [
    "num_letras('manzana')"
   ]
  },
  {
   "cell_type": "code",
   "execution_count": 23,
   "id": "33eef9a6",
   "metadata": {},
   "outputs": [],
   "source": [
    "def primoonormal (numero):\n",
    "    if numero%2 == 0:\n",
    "        print('numero par')\n",
    "    elif numero%2 != 0:\n",
    "        print('numero es impar')"
   ]
  },
  {
   "cell_type": "code",
   "execution_count": 25,
   "id": "52f47de4",
   "metadata": {},
   "outputs": [
    {
     "name": "stdout",
     "output_type": "stream",
     "text": [
      "numero par\n"
     ]
    }
   ],
   "source": [
    "primoonormal(12)"
   ]
  },
  {
   "cell_type": "code",
   "execution_count": 43,
   "id": "eb0d8ed3",
   "metadata": {},
   "outputs": [],
   "source": [
    "def Cel2Fah():\n",
    "    gradosCel=input('Temperatura en grados celsius ')\n",
    "    \n",
    "    gradosFah=float(gradosCel)*(9/5)+32\n",
    "    print('La temperatura en grados Fahrenheit es ',gradosFah)\n",
    "    return(gradosFah)"
   ]
  },
  {
   "cell_type": "code",
   "execution_count": 44,
   "id": "cb1cb587",
   "metadata": {},
   "outputs": [
    {
     "name": "stdout",
     "output_type": "stream",
     "text": [
      "Temperatura en grados celsius 185\n",
      "La temperatura en grados Fahrenheit es  365.0\n"
     ]
    },
    {
     "data": {
      "text/plain": [
       "365.0"
      ]
     },
     "execution_count": 44,
     "metadata": {},
     "output_type": "execute_result"
    }
   ],
   "source": [
    "Cel2Fah()"
   ]
  },
  {
   "cell_type": "code",
   "execution_count": 50,
   "id": "c0c069e6",
   "metadata": {},
   "outputs": [],
   "source": [
    "def sumadedig(entero):\n",
    "    \n",
    "    spli(entero(0),entero(-1))\n",
    "    for i in entero:\n",
    "            resultado += resultado (i=1)\n",
    "    return resultado"
   ]
  },
  {
   "cell_type": "code",
   "execution_count": 51,
   "id": "729ba5b3",
   "metadata": {},
   "outputs": [
    {
     "ename": "NameError",
     "evalue": "name 'split' is not defined",
     "output_type": "error",
     "traceback": [
      "\u001b[1;31m---------------------------------------------------------------------------\u001b[0m",
      "\u001b[1;31mNameError\u001b[0m                                 Traceback (most recent call last)",
      "Cell \u001b[1;32mIn[51], line 1\u001b[0m\n\u001b[1;32m----> 1\u001b[0m sumadedig(\u001b[38;5;241m158\u001b[39m)\n",
      "Cell \u001b[1;32mIn[50], line 3\u001b[0m, in \u001b[0;36msumadedig\u001b[1;34m(entero)\u001b[0m\n\u001b[0;32m      1\u001b[0m \u001b[38;5;28;01mdef\u001b[39;00m \u001b[38;5;21msumadedig\u001b[39m(entero):\n\u001b[1;32m----> 3\u001b[0m     split(entero(\u001b[38;5;241m0\u001b[39m),entero(\u001b[38;5;241m-\u001b[39m\u001b[38;5;241m1\u001b[39m))\n\u001b[0;32m      4\u001b[0m     \u001b[38;5;28;01mfor\u001b[39;00m i \u001b[38;5;129;01min\u001b[39;00m entero:\n\u001b[0;32m      5\u001b[0m             resultado \u001b[38;5;241m+\u001b[39m\u001b[38;5;241m=\u001b[39m resultado (i\u001b[38;5;241m=\u001b[39m\u001b[38;5;241m1\u001b[39m)\n",
      "\u001b[1;31mNameError\u001b[0m: name 'split' is not defined"
     ]
    }
   ],
   "source": [
    "sumadedig(158)"
   ]
  },
  {
   "cell_type": "code",
   "execution_count": null,
   "id": "49f8649a",
   "metadata": {},
   "outputs": [],
   "source": [
    "slice"
   ]
  },
  {
   "cell_type": "code",
   "execution_count": null,
   "id": "2261ed52",
   "metadata": {},
   "outputs": [],
   "source": []
  },
  {
   "cell_type": "code",
   "execution_count": 68,
   "id": "3eec6bad",
   "metadata": {},
   "outputs": [
    {
     "data": {
      "text/plain": [
       "3"
      ]
     },
     "execution_count": 68,
     "metadata": {},
     "output_type": "execute_result"
    }
   ],
   "source": [
    "cuenta_palabras('ya no mas')"
   ]
  },
  {
   "cell_type": "code",
   "execution_count": 67,
   "id": "ffb8c36c",
   "metadata": {},
   "outputs": [],
   "source": [
    "def cuenta_palabras(frase):\n",
    "    \n",
    "    out=frase.split(sep = \" \")\n",
    "    return(len(out))\n",
    "    "
   ]
  },
  {
   "cell_type": "code",
   "execution_count": 78,
   "id": "3f01463e",
   "metadata": {},
   "outputs": [],
   "source": [
    "def MinDeList(lista):\n",
    "    list(lista)\n",
    "    len_list=len(lista)\n",
    "    if lista <3:\n",
    "        print('La lista no tiene el largo requerido')\n",
    "    \n",
    "    elif lista >3 & lista == 3:\n",
    "        out=min(lista)\n",
    "        return(out)"
   ]
  },
  {
   "cell_type": "code",
   "execution_count": 77,
   "id": "1316fa31",
   "metadata": {},
   "outputs": [],
   "source": [
    "lista=[7,8,9,10]"
   ]
  },
  {
   "cell_type": "code",
   "execution_count": null,
   "id": "8bdcc089",
   "metadata": {},
   "outputs": [],
   "source": []
  },
  {
   "cell_type": "code",
   "execution_count": null,
   "id": "10e52312",
   "metadata": {},
   "outputs": [],
   "source": []
  },
  {
   "cell_type": "code",
   "execution_count": null,
   "id": "4abec344",
   "metadata": {},
   "outputs": [],
   "source": []
  },
  {
   "cell_type": "code",
   "execution_count": null,
   "id": "efa9c2d3",
   "metadata": {},
   "outputs": [],
   "source": []
  }
 ],
 "metadata": {
  "kernelspec": {
   "display_name": "Python 3 (ipykernel)",
   "language": "python",
   "name": "python3"
  },
  "language_info": {
   "codemirror_mode": {
    "name": "ipython",
    "version": 3
   },
   "file_extension": ".py",
   "mimetype": "text/x-python",
   "name": "python",
   "nbconvert_exporter": "python",
   "pygments_lexer": "ipython3",
   "version": "3.11.4"
  }
 },
 "nbformat": 4,
 "nbformat_minor": 5
}
