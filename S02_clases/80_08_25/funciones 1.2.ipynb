{
 "cells": [
  {
   "cell_type": "markdown",
   "id": "3b332d80-541b-4d68-b8c0-825b03ebf9f0",
   "metadata": {},
   "source": [
    "## Ejericicios\n",
    "1. Crear una función que cuente las vocales de un string y regrese dicho número\n",
    "2.Crear una función que determine si un número es par o impar e imprima si es par o impar\n",
    "3. Crear una función para convertir de grados celcius a grados fahrenheit, dicha función recibirá la temperatura en grados \n",
    "celcius y deberá regresar los grados farenheit\n",
    "4. Crear una función que reciba un entere y devuelva la suma de sus dígitos\n",
    "5. Crear una función que cuente las palabras de una string y devuelva dicho numero\n",
    "    "
   ]
  },
  {
   "cell_type": "code",
   "execution_count": 2,
   "id": "79b2759c-94fa-4a8c-8344-6111bcf18d1d",
   "metadata": {},
   "outputs": [],
   "source": [
    "def contador_de_vocales(string):\n",
    "    vocales= \"aeiouAEIOU\" ##defina las vocales\n",
    "    contador= 0 #empezamos a contar en 0 vocales\n",
    "    for letra in string: ##recorremos las letras en la cadena, para cada letra en cadena cuentale si hay una vocal\n",
    "        contador+=1 ### si hay una vocal en la string \n",
    "    return contador"
   ]
  },
  {
   "cell_type": "code",
   "execution_count": 4,
   "id": "056ec7cb-b21e-4a65-bf10-e89228079b90",
   "metadata": {},
   "outputs": [
    {
     "data": {
      "text/plain": [
       "31"
      ]
     },
     "execution_count": 4,
     "metadata": {},
     "output_type": "execute_result"
    }
   ],
   "source": [
    "contador_de_vocales(\"Esto es demasiado dificil AYUDA\")"
   ]
  },
  {
   "cell_type": "code",
   "execution_count": 15,
   "id": "ed58ac2e-7474-484d-8f17-4ea33fe96f09",
   "metadata": {},
   "outputs": [],
   "source": [
    "def par_o_impar(numero):\n",
    "    if numero % 2 == 0: ## si el cociente de mi numero entre dos es igual a 0 es par\n",
    "        print (\"El numero es par\")## si esa condición se cumple, es par\n",
    "    else:## si esa condición no se cumple\n",
    "        print (\"El numero impar\")\n",
    "  "
   ]
  },
  {
   "cell_type": "code",
   "execution_count": 16,
   "id": "436e5bf6-aeb9-4d51-915d-1db38bd1962b",
   "metadata": {},
   "outputs": [
    {
     "name": "stdout",
     "output_type": "stream",
     "text": [
      "El numero es par\n"
     ]
    }
   ],
   "source": [
    "par_o_impar(54)"
   ]
  },
  {
   "cell_type": "code",
   "execution_count": 20,
   "id": "260d1b9f-f32e-4ef6-b9d7-0dcc8d7b86b3",
   "metadata": {},
   "outputs": [],
   "source": [
    "def celcius_a_farenheit(numero):\n",
    "    Celcius_a_Farenheit=(9/5*numero+32)\n",
    "    return Celcius_a_Farenheit"
   ]
  },
  {
   "cell_type": "code",
   "execution_count": 22,
   "id": "1ab016bb-6cd9-4e04-adb3-2f045ae22039",
   "metadata": {},
   "outputs": [
    {
     "data": {
      "text/plain": [
       "71.6"
      ]
     },
     "execution_count": 22,
     "metadata": {},
     "output_type": "execute_result"
    }
   ],
   "source": [
    "celcius_a_farenheit(22)"
   ]
  },
  {
   "cell_type": "code",
   "execution_count": 31,
   "id": "0d592131-b80d-47b4-9fc4-c265e844c0bb",
   "metadata": {},
   "outputs": [],
   "source": [
    "def suma_de_los_digitos_de_un_entero(numero):\n",
    "    cadena= str(numero)\n",
    "    total = 0\n",
    "    for numero in cadena:\n",
    "        total+= int(numero)## esto es lo mismo total=total+ int(numero)\n",
    "    \n",
    "    \n",
    "    return total"
   ]
  },
  {
   "cell_type": "code",
   "execution_count": 32,
   "id": "199644a5-08e1-4ecf-9fd6-74dcf2289855",
   "metadata": {},
   "outputs": [
    {
     "data": {
      "text/plain": [
       "6"
      ]
     },
     "execution_count": 32,
     "metadata": {},
     "output_type": "execute_result"
    }
   ],
   "source": [
    "suma_de_los_digitos_de_un_entero(24)"
   ]
  },
  {
   "cell_type": "code",
   "execution_count": 58,
   "id": "375bd36d-d785-4f2d-87fd-829d7821b796",
   "metadata": {},
   "outputs": [],
   "source": [
    "#5. Crear una función que cuente las palabras de una string y devuelva dicho numero\n",
    "def contador_de_palabras(cadena):\n",
    "     palabras= cadena.split() ##esta función separa la cadena en palabras \n",
    "     Resultado= len(palabras)\n",
    "     return Resultado\n",
    "\n"
   ]
  },
  {
   "cell_type": "code",
   "execution_count": 59,
   "id": "f3a16203-db2d-4933-96e1-32be782d97a3",
   "metadata": {},
   "outputs": [
    {
     "data": {
      "text/plain": [
       "6"
      ]
     },
     "execution_count": 59,
     "metadata": {},
     "output_type": "execute_result"
    }
   ],
   "source": [
    "contador_de_palabras(\"Ya se lo que significa pka\")"
   ]
  },
  {
   "cell_type": "code",
   "execution_count": null,
   "id": "5f0f31c4-d543-4f8d-b892-13984ab318b0",
   "metadata": {},
   "outputs": [],
   "source": [
    "##6. Crear una función que reciba una lista con al menos 3 enteor y regrese el min de todos los numeros de la lista "
   ]
  },
  {
   "cell_type": "code",
   "execution_count": 68,
   "id": "6c07079d-8546-4b36-921e-4e306214d632",
   "metadata": {},
   "outputs": [],
   "source": [
    "def min_de_3_enteros_en_una_lista(lista):\n",
    "     resultado= min(lista)\n",
    "     return(resultado)\n",
    "\n"
   ]
  },
  {
   "cell_type": "code",
   "execution_count": 69,
   "id": "819c3ce2-df83-439b-b37d-0668f08d773c",
   "metadata": {},
   "outputs": [
    {
     "ename": "TypeError",
     "evalue": "'<' not supported between instances of 'str' and 'int'",
     "output_type": "error",
     "traceback": [
      "\u001b[1;31m---------------------------------------------------------------------------\u001b[0m",
      "\u001b[1;31mTypeError\u001b[0m                                 Traceback (most recent call last)",
      "Cell \u001b[1;32mIn[69], line 1\u001b[0m\n\u001b[1;32m----> 1\u001b[0m \u001b[43mmin_de_3_enteros_en_una_lista\u001b[49m\u001b[43m(\u001b[49m\u001b[43m \u001b[49m\u001b[43m[\u001b[49m\u001b[38;5;241;43m1\u001b[39;49m\u001b[43m,\u001b[49m\u001b[38;5;241;43m2\u001b[39;49m\u001b[43m,\u001b[49m\u001b[38;5;241;43m3\u001b[39;49m\u001b[43m,\u001b[49m\u001b[38;5;241;43m4\u001b[39;49m\u001b[43m,\u001b[49m\u001b[38;5;241;43m5\u001b[39;49m\u001b[43m,\u001b[49m\u001b[43m \u001b[49m\u001b[38;5;124;43m\"\u001b[39;49m\u001b[38;5;124;43mhola\u001b[39;49m\u001b[38;5;124;43m\"\u001b[39;49m\u001b[43m,\u001b[49m\u001b[43m \u001b[49m\u001b[38;5;124;43m\"\u001b[39;49m\u001b[38;5;124;43mla vida es una barbaridad\u001b[39;49m\u001b[38;5;124;43m\"\u001b[39;49m\u001b[43m]\u001b[49m\u001b[43m)\u001b[49m\n",
      "Cell \u001b[1;32mIn[68], line 2\u001b[0m, in \u001b[0;36mmin_de_3_enteros_en_una_lista\u001b[1;34m(lista)\u001b[0m\n\u001b[0;32m      1\u001b[0m \u001b[38;5;28;01mdef\u001b[39;00m\u001b[38;5;250m \u001b[39m\u001b[38;5;21mmin_de_3_enteros_en_una_lista\u001b[39m(lista):\n\u001b[1;32m----> 2\u001b[0m      resultado\u001b[38;5;241m=\u001b[39m \u001b[38;5;28;43mmin\u001b[39;49m\u001b[43m(\u001b[49m\u001b[43mlista\u001b[49m\u001b[43m)\u001b[49m\n\u001b[0;32m      3\u001b[0m      \u001b[38;5;28;01mreturn\u001b[39;00m(resultado)\n",
      "\u001b[1;31mTypeError\u001b[0m: '<' not supported between instances of 'str' and 'int'"
     ]
    }
   ],
   "source": [
    "min_de_3_enteros_en_una_lista( [1,2,3,4,5, \"hola\", \"la vida es una barbaridad\"])"
   ]
  }
 ],
 "metadata": {
  "kernelspec": {
   "display_name": "Python 3 (ipykernel)",
   "language": "python",
   "name": "python3"
  },
  "language_info": {
   "codemirror_mode": {
    "name": "ipython",
    "version": 3
   },
   "file_extension": ".py",
   "mimetype": "text/x-python",
   "name": "python",
   "nbconvert_exporter": "python",
   "pygments_lexer": "ipython3",
   "version": "3.10.4"
  }
 },
 "nbformat": 4,
 "nbformat_minor": 5
}
