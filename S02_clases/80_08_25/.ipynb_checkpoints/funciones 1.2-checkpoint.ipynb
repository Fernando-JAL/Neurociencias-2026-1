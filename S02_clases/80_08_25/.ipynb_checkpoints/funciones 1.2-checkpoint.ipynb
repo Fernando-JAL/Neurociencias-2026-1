{
 "cells": [
  {
   "cell_type": "markdown",
   "id": "3b332d80-541b-4d68-b8c0-825b03ebf9f0",
   "metadata": {},
   "source": [
    "## Ejericicios\n",
    "1. Crear una función que cuente las vocales de un string y regrese dicho número\n",
    "2.Crear una función que determine si un número es par o impar e imprima si es par o impar\n",
    "3. Crear una función para convertir de grados celcius a grados fahrenheit, dicha función recibirá la temperatura en grados \n",
    "celcius y deberá regresar los grados farenheit\n",
    "4. Crear una función que reciba un entere y devuelva la suma de sus dígitos\n",
    "5. Crear una función que cuente las palabras de una string y devuelva dicho numero\n",
    "6.  Crear una función que reciba una lista con al menos 3 enteros y regrese el min de todos los numeros de la lista\n",
    "7. Crear una función que reciba dos string (frase, letra) y cuente cuantas veces aparece la letra en la frase y regrese ese númeor.\n",
    "8. Crear una función que reciba un string y cambie todas las minusculas a mayúsculas y las mayúsculas a minusculas.\n",
    "    "
   ]
  },
  {
   "cell_type": "code",
   "execution_count": 2,
   "id": "79b2759c-94fa-4a8c-8344-6111bcf18d1d",
   "metadata": {},
   "outputs": [],
   "source": [
    "def contador_de_vocales(string):\n",
    "    vocales= \"aeiouAEIOU\" ##defina las vocales\n",
    "    contador= 0 #empezamos a contar en 0 vocales\n",
    "    for letra in string: ##recorremos las letras en la cadena, para cada letra en cadena cuentale si hay una vocal\n",
    "        contador+=1 ### si hay una vocal en la string \n",
    "    return contador"
   ]
  },
  {
   "cell_type": "code",
   "execution_count": 4,
   "id": "056ec7cb-b21e-4a65-bf10-e89228079b90",
   "metadata": {},
   "outputs": [
    {
     "data": {
      "text/plain": [
       "31"
      ]
     },
     "execution_count": 4,
     "metadata": {},
     "output_type": "execute_result"
    }
   ],
   "source": [
    "contador_de_vocales(\"Esto es demasiado dificil AYUDA\")"
   ]
  },
  {
   "cell_type": "code",
   "execution_count": 15,
   "id": "ed58ac2e-7474-484d-8f17-4ea33fe96f09",
   "metadata": {},
   "outputs": [],
   "source": [
    "def par_o_impar(numero):\n",
    "    if numero % 2 == 0: ## si el cociente de mi numero entre dos es igual a 0 es par\n",
    "        print (\"El numero es par\")## si esa condición se cumple, es par\n",
    "    else:## si esa condición no se cumple\n",
    "        print (\"El numero impar\")\n",
    "  "
   ]
  },
  {
   "cell_type": "code",
   "execution_count": 16,
   "id": "436e5bf6-aeb9-4d51-915d-1db38bd1962b",
   "metadata": {},
   "outputs": [
    {
     "name": "stdout",
     "output_type": "stream",
     "text": [
      "El numero es par\n"
     ]
    }
   ],
   "source": [
    "par_o_impar(54)"
   ]
  },
  {
   "cell_type": "code",
   "execution_count": 20,
   "id": "260d1b9f-f32e-4ef6-b9d7-0dcc8d7b86b3",
   "metadata": {},
   "outputs": [],
   "source": [
    "def celcius_a_farenheit(numero):\n",
    "    Celcius_a_Farenheit=(9/5*numero+32)\n",
    "    return Celcius_a_Farenheit"
   ]
  },
  {
   "cell_type": "code",
   "execution_count": 22,
   "id": "1ab016bb-6cd9-4e04-adb3-2f045ae22039",
   "metadata": {},
   "outputs": [
    {
     "data": {
      "text/plain": [
       "71.6"
      ]
     },
     "execution_count": 22,
     "metadata": {},
     "output_type": "execute_result"
    }
   ],
   "source": [
    "celcius_a_farenheit(22)"
   ]
  },
  {
   "cell_type": "code",
   "execution_count": 31,
   "id": "0d592131-b80d-47b4-9fc4-c265e844c0bb",
   "metadata": {},
   "outputs": [],
   "source": [
    "def suma_de_los_digitos_de_un_entero(numero):\n",
    "    cadena= str(numero)\n",
    "    total = 0\n",
    "    for numero in cadena:\n",
    "        total+= int(numero)## esto es lo mismo total=total+ int(numero)\n",
    "    \n",
    "    \n",
    "    return total"
   ]
  },
  {
   "cell_type": "code",
   "execution_count": 32,
   "id": "199644a5-08e1-4ecf-9fd6-74dcf2289855",
   "metadata": {},
   "outputs": [
    {
     "data": {
      "text/plain": [
       "6"
      ]
     },
     "execution_count": 32,
     "metadata": {},
     "output_type": "execute_result"
    }
   ],
   "source": [
    "suma_de_los_digitos_de_un_entero(24)"
   ]
  },
  {
   "cell_type": "code",
   "execution_count": 58,
   "id": "375bd36d-d785-4f2d-87fd-829d7821b796",
   "metadata": {},
   "outputs": [],
   "source": [
    "#5. Crear una función que cuente las palabras de una string y devuelva dicho numero\n",
    "def contador_de_palabras(cadena):\n",
    "     palabras= cadena.split() ##esta función separa la cadena en palabras \n",
    "     Resultado= len(palabras)\n",
    "     return Resultado\n",
    "\n"
   ]
  },
  {
   "cell_type": "code",
   "execution_count": 59,
   "id": "f3a16203-db2d-4933-96e1-32be782d97a3",
   "metadata": {},
   "outputs": [
    {
     "data": {
      "text/plain": [
       "6"
      ]
     },
     "execution_count": 59,
     "metadata": {},
     "output_type": "execute_result"
    }
   ],
   "source": [
    "contador_de_palabras(\"Ya se lo que significa pka\")"
   ]
  },
  {
   "cell_type": "code",
   "execution_count": null,
   "id": "5f0f31c4-d543-4f8d-b892-13984ab318b0",
   "metadata": {},
   "outputs": [],
   "source": [
    "##6. Crear una función que reciba una lista con al menos 3 enteros y regrese el min de todos los numeros de la lista "
   ]
  },
  {
   "cell_type": "code",
   "execution_count": 76,
   "id": "6c07079d-8546-4b36-921e-4e306214d632",
   "metadata": {},
   "outputs": [],
   "source": [
    "def min_de_una_lista(lista):\n",
    "     resultado= min(lista)\n",
    "     return(resultado)\n",
    "\n"
   ]
  },
  {
   "cell_type": "code",
   "execution_count": 79,
   "id": "819c3ce2-df83-439b-b37d-0668f08d773c",
   "metadata": {},
   "outputs": [
    {
     "data": {
      "text/plain": [
       "1"
      ]
     },
     "execution_count": 79,
     "metadata": {},
     "output_type": "execute_result"
    }
   ],
   "source": [
    "min_de_3_enteros_en_una_lista( [1,2,3,4,5])"
   ]
  },
  {
   "cell_type": "code",
   "execution_count": null,
   "id": "fc99317a-2bf3-41bc-9d9f-ede63739ed98",
   "metadata": {},
   "outputs": [],
   "source": [
    "#7 Crear una función que reciba dos string (frase, letra) y cuente cuantas veces aparece la letra en la frase y regrese ese númeor."
   ]
  },
  {
   "cell_type": "code",
   "execution_count": 145,
   "id": "cc8c6701-749f-4daa-90fa-41e13ad89de1",
   "metadata": {},
   "outputs": [],
   "source": [
    "def  contador_de_letras(frase, letra):\n",
    "    contador=0\n",
    "    for caracter in frase:\n",
    "        if caracter == letra:\n",
    "            contador+=1\n",
    "    return contador ## cuidar la indetación, no olvides usar 4 espacios por cada nivel de indentación"
   ]
  },
  {
   "cell_type": "code",
   "execution_count": 146,
   "id": "692a84bb-943d-4634-accb-c269c29c898c",
   "metadata": {},
   "outputs": [
    {
     "data": {
      "text/plain": [
       "4"
      ]
     },
     "execution_count": 146,
     "metadata": {},
     "output_type": "execute_result"
    }
   ],
   "source": [
    "contador_de_letras(\"parangaricutirimicuaro\", \"r\")"
   ]
  },
  {
   "cell_type": "code",
   "execution_count": null,
   "id": "d8d60fc3-af0c-4c12-be6e-0eb3c76bca0f",
   "metadata": {},
   "outputs": [],
   "source": [
    "##8. Crear una función que reciba un string y cambie todas las minusculas a mayúsculas y las mayúsculas a minusculas."
   ]
  },
  {
   "cell_type": "code",
   "execution_count": 178,
   "id": "192fea45-66bf-4c47-8a01-ab3f8c97c747",
   "metadata": {},
   "outputs": [],
   "source": [
    "def minisculas_a_mayusculas (frase):\n",
    "    nueva_frase= \" \"\n",
    "    for caracter in frase:\n",
    "       if caracter.islower():\n",
    "        nueva_frase+= caracter.upper()\n",
    "       elif caracter.isupper():\n",
    "           nueva_frase+= caracter.lower()\n",
    "       else:\n",
    "           nueva_frase+= caracter\n",
    "    return nueva_frase          "
   ]
  },
  {
   "cell_type": "code",
   "execution_count": 182,
   "id": "689b42b2-66f1-4954-a343-979ed60c8fc4",
   "metadata": {},
   "outputs": [
    {
     "data": {
      "text/plain": [
       "' hola lOQUISIMO, rEAlmente QUIERO ir a ver A bts ALGUN diaa'"
      ]
     },
     "execution_count": 182,
     "metadata": {},
     "output_type": "execute_result"
    }
   ],
   "source": [
    "minisculas_a_mayusculas(\"HOLA Loquisimo, ReaLMENTE quiero IR A VER a BTS algun DIAA\")"
   ]
  },
  {
   "cell_type": "code",
   "execution_count": null,
   "id": "17ef704c-05e2-473a-bf8f-577ded02027c",
   "metadata": {},
   "outputs": [],
   "source": []
  }
 ],
 "metadata": {
  "kernelspec": {
   "display_name": "Python 3 (ipykernel)",
   "language": "python",
   "name": "python3"
  },
  "language_info": {
   "codemirror_mode": {
    "name": "ipython",
    "version": 3
   },
   "file_extension": ".py",
   "mimetype": "text/x-python",
   "name": "python",
   "nbconvert_exporter": "python",
   "pygments_lexer": "ipython3",
   "version": "3.10.4"
  }
 },
 "nbformat": 4,
 "nbformat_minor": 5
}
