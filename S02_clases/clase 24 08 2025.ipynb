{
 "cells": [
  {
   "cell_type": "markdown",
   "id": "4bc6ae56-2180-4ac0-9cc1-b8fff1ca9b70",
   "metadata": {},
   "source": [
    "# Conversión de tipo de datos "
   ]
  },
  {
   "cell_type": "code",
   "execution_count": 1,
   "id": "46acb59a-9466-4ae5-96e6-9a673848720d",
   "metadata": {},
   "outputs": [
    {
     "data": {
      "text/plain": [
       "(-82, 631.0, 1j)"
      ]
     },
     "execution_count": 1,
     "metadata": {},
     "output_type": "execute_result"
    }
   ],
   "source": [
    "entero, flotante, complejo= -82, 631., complex(0,1)\n",
    "entero, flotante, complejo "
   ]
  },
  {
   "cell_type": "code",
   "execution_count": 2,
   "id": "13a95412-4f4d-466d-8fc3-37bf6d5e58a1",
   "metadata": {},
   "outputs": [
    {
     "data": {
      "text/plain": [
       "'1j'"
      ]
     },
     "execution_count": 2,
     "metadata": {},
     "output_type": "execute_result"
    }
   ],
   "source": [
    "str(complejo)"
   ]
  },
  {
   "cell_type": "code",
   "execution_count": 3,
   "id": "7f1a35f9-626d-4f08-a334-df51f64a7f78",
   "metadata": {},
   "outputs": [
    {
     "data": {
      "text/plain": [
       "'-46.23'"
      ]
     },
     "execution_count": 3,
     "metadata": {},
     "output_type": "execute_result"
    }
   ],
   "source": [
    "cadena = '-46.23'\n",
    "cadena"
   ]
  },
  {
   "cell_type": "code",
   "execution_count": 4,
   "id": "5fab9738-a3b2-42d5-99bb-ca36eda538d3",
   "metadata": {},
   "outputs": [
    {
     "data": {
      "text/plain": [
       "-46.23"
      ]
     },
     "execution_count": 4,
     "metadata": {},
     "output_type": "execute_result"
    }
   ],
   "source": [
    "float(cadena)"
   ]
  },
  {
   "cell_type": "code",
   "execution_count": 5,
   "id": "0e67925b-c7d7-4d3e-bb25-52d5a3269dba",
   "metadata": {},
   "outputs": [
    {
     "data": {
      "text/plain": [
       "('-', '4', '6', '.', '2', '3')"
      ]
     },
     "execution_count": 5,
     "metadata": {},
     "output_type": "execute_result"
    }
   ],
   "source": [
    "tuple(cadena)"
   ]
  },
  {
   "cell_type": "code",
   "execution_count": 7,
   "id": "3d268183-0bd7-4d36-9e81-9db9d2542dc5",
   "metadata": {},
   "outputs": [
    {
     "data": {
      "text/plain": [
       "-78"
      ]
     },
     "execution_count": 7,
     "metadata": {},
     "output_type": "execute_result"
    }
   ],
   "source": [
    "int('-78')"
   ]
  },
  {
   "cell_type": "markdown",
   "id": "9af49c98-9362-4f34-bf91-b4c0e231bd9a",
   "metadata": {},
   "source": [
    "# Tipo de dato Boolean"
   ]
  },
  {
   "cell_type": "code",
   "execution_count": 10,
   "id": "d09c7f8c-e32a-46f9-91cd-9028ccc4a5a4",
   "metadata": {},
   "outputs": [
    {
     "data": {
      "text/plain": [
       "(True, False)"
      ]
     },
     "execution_count": 10,
     "metadata": {},
     "output_type": "execute_result"
    }
   ],
   "source": [
    "value1, value2 = True, False \n",
    "value1, value2"
   ]
  },
  {
   "cell_type": "code",
   "execution_count": 11,
   "id": "4446e4bd-82d3-463a-96d0-8f066b732b58",
   "metadata": {},
   "outputs": [
    {
     "data": {
      "text/plain": [
       "bool"
      ]
     },
     "execution_count": 11,
     "metadata": {},
     "output_type": "execute_result"
    }
   ],
   "source": [
    "type(value1)"
   ]
  },
  {
   "cell_type": "code",
   "execution_count": 12,
   "id": "9d5f15a3-ea6c-4932-91d0-68150683772d",
   "metadata": {},
   "outputs": [
    {
     "data": {
      "text/plain": [
       "False"
      ]
     },
     "execution_count": 12,
     "metadata": {},
     "output_type": "execute_result"
    }
   ],
   "source": [
    "bool(0)"
   ]
  },
  {
   "cell_type": "code",
   "execution_count": 14,
   "id": "d3b3be0f-d754-4cf2-8f4d-ef0054a7acf4",
   "metadata": {},
   "outputs": [
    {
     "data": {
      "text/plain": [
       "True"
      ]
     },
     "execution_count": 14,
     "metadata": {},
     "output_type": "execute_result"
    }
   ],
   "source": [
    "bool(1)"
   ]
  },
  {
   "cell_type": "code",
   "execution_count": 15,
   "id": "dcc523a4-af9a-487a-b5ba-3533dd1ce9b9",
   "metadata": {},
   "outputs": [
    {
     "data": {
      "text/plain": [
       "True"
      ]
     },
     "execution_count": 15,
     "metadata": {},
     "output_type": "execute_result"
    }
   ],
   "source": [
    "bool('Hola')"
   ]
  },
  {
   "cell_type": "code",
   "execution_count": 16,
   "id": "18bc0636-9efd-44c4-ad7a-2cb67ad6d2ff",
   "metadata": {},
   "outputs": [
    {
     "data": {
      "text/plain": [
       "True"
      ]
     },
     "execution_count": 16,
     "metadata": {},
     "output_type": "execute_result"
    }
   ],
   "source": [
    "bool(2)"
   ]
  },
  {
   "cell_type": "code",
   "execution_count": 17,
   "id": "975a2115-092a-4b15-b273-426c1a994ebe",
   "metadata": {},
   "outputs": [
    {
     "data": {
      "text/plain": [
       "True"
      ]
     },
     "execution_count": 17,
     "metadata": {},
     "output_type": "execute_result"
    }
   ],
   "source": [
    "bool(150)"
   ]
  },
  {
   "cell_type": "code",
   "execution_count": 18,
   "id": "3c5b4cf1-07d7-4d95-998a-1a6ab8a997c4",
   "metadata": {},
   "outputs": [
    {
     "data": {
      "text/plain": [
       "(True, True)"
      ]
     },
     "execution_count": 18,
     "metadata": {},
     "output_type": "execute_result"
    }
   ],
   "source": [
    "bool(-150.456), bool(complex(0,1))"
   ]
  },
  {
   "cell_type": "code",
   "execution_count": 19,
   "id": "074c1897-429c-432d-8c1b-86610bad78dd",
   "metadata": {},
   "outputs": [
    {
     "data": {
      "text/plain": [
       "(False, True)"
      ]
     },
     "execution_count": 19,
     "metadata": {},
     "output_type": "execute_result"
    }
   ],
   "source": [
    "bool(''), bool('aiuda')"
   ]
  },
  {
   "cell_type": "code",
   "execution_count": 20,
   "id": "71775582-7001-4708-bb13-ecd309504ac4",
   "metadata": {},
   "outputs": [
    {
     "data": {
      "text/plain": [
       "(False, True)"
      ]
     },
     "execution_count": 20,
     "metadata": {},
     "output_type": "execute_result"
    }
   ],
   "source": [
    "bool([]), bool(['f',9])"
   ]
  },
  {
   "cell_type": "code",
   "execution_count": 21,
   "id": "bc62d0bf-011a-4f19-9baa-ea1c4da21970",
   "metadata": {},
   "outputs": [
    {
     "data": {
      "text/plain": [
       "(False, True)"
      ]
     },
     "execution_count": 21,
     "metadata": {},
     "output_type": "execute_result"
    }
   ],
   "source": [
    "bool(()), bool((5,))"
   ]
  },
  {
   "cell_type": "code",
   "execution_count": 22,
   "id": "dc430dc2-d2fd-4659-9b56-04cf8a52a603",
   "metadata": {},
   "outputs": [
    {
     "data": {
      "text/plain": [
       "(False, True)"
      ]
     },
     "execution_count": 22,
     "metadata": {},
     "output_type": "execute_result"
    }
   ],
   "source": [
    "bool({}), bool({'key':'value'})"
   ]
  },
  {
   "cell_type": "markdown",
   "id": "e93eef4a-4bd1-458a-bd31-bc2b49186214",
   "metadata": {},
   "source": [
    "# Sets"
   ]
  },
  {
   "cell_type": "code",
   "execution_count": 23,
   "id": "85bd0ee4-ddaa-44fd-b750-932f83523a80",
   "metadata": {},
   "outputs": [
    {
     "data": {
      "text/plain": [
       "set"
      ]
     },
     "execution_count": 23,
     "metadata": {},
     "output_type": "execute_result"
    }
   ],
   "source": [
    "type({4,'cosa'})"
   ]
  },
  {
   "cell_type": "code",
   "execution_count": 24,
   "id": "11577188-1a9f-48e2-a78f-9455d8a27ec5",
   "metadata": {},
   "outputs": [],
   "source": [
    "conjunto={4, 'cosa', 1, 2, 3, 4, 'a', 'b', 'c', 'a'}"
   ]
  },
  {
   "cell_type": "code",
   "execution_count": 25,
   "id": "85e9022e-bc3a-4631-9f11-38d93c02e37a",
   "metadata": {},
   "outputs": [
    {
     "data": {
      "text/plain": [
       "8"
      ]
     },
     "execution_count": 25,
     "metadata": {},
     "output_type": "execute_result"
    }
   ],
   "source": [
    "len(conjunto)"
   ]
  },
  {
   "cell_type": "code",
   "execution_count": 26,
   "id": "f99d917a-47a9-493f-baf9-fcb16b0ea297",
   "metadata": {},
   "outputs": [
    {
     "data": {
      "text/plain": [
       "{1, 2, 3, 4, 'a', 'b', 'c', 'cosa'}"
      ]
     },
     "execution_count": 26,
     "metadata": {},
     "output_type": "execute_result"
    }
   ],
   "source": [
    "conjunto"
   ]
  },
  {
   "cell_type": "code",
   "execution_count": null,
   "id": "9384a83e-7242-4592-81f7-f87a495405e1",
   "metadata": {},
   "outputs": [],
   "source": [
    "##Caracteristicas de las estructiras de datos \n",
    "#- Indexado\n",
    "#-Ordenamiento\n",
    "#-Mutable\n",
    "#-Duplicados "
   ]
  },
  {
   "cell_type": "markdown",
   "id": "d3c733b4-7e64-4cc6-b48e-27d9621868aa",
   "metadata": {},
   "source": [
    "# Operadores de asignación \n"
   ]
  },
  {
   "cell_type": "code",
   "execution_count": null,
   "id": "76279b2d-8395-4c06-84a9-1523f16aae89",
   "metadata": {},
   "outputs": [],
   "source": [
    "=,+=,-=,*=,/=,//=,%=,**="
   ]
  },
  {
   "cell_type": "code",
   "execution_count": 29,
   "id": "4dd526f1-15c1-4c3a-9a32-d352a20aa212",
   "metadata": {},
   "outputs": [
    {
     "data": {
      "text/plain": [
       "32"
      ]
     },
     "execution_count": 29,
     "metadata": {},
     "output_type": "execute_result"
    }
   ],
   "source": [
    "a = 10\n",
    "a = a + 22\n",
    "a"
   ]
  },
  {
   "cell_type": "code",
   "execution_count": 30,
   "id": "68e9f8e2-e866-4ee5-98c3-b3bac5b339d5",
   "metadata": {},
   "outputs": [
    {
     "data": {
      "text/plain": [
       "'hace más frío que antes'"
      ]
     },
     "execution_count": 30,
     "metadata": {},
     "output_type": "execute_result"
    }
   ],
   "source": [
    "cadena='hace más frío'\n",
    "cadena= cadena + ' que antes' \n",
    "cadena "
   ]
  },
  {
   "cell_type": "code",
   "execution_count": 32,
   "id": "2a693796-e529-4386-ad56-86de16740b1c",
   "metadata": {},
   "outputs": [
    {
     "data": {
      "text/plain": [
       "' hace más frío que antes'"
      ]
     },
     "execution_count": 32,
     "metadata": {},
     "output_type": "execute_result"
    }
   ],
   "source": [
    "cadena = ' hace más frío'\n",
    "cadena += ' que antes'\n",
    "cadena"
   ]
  },
  {
   "cell_type": "code",
   "execution_count": 34,
   "id": "11f4cd3d-9219-440f-b0ef-34307583ab83",
   "metadata": {},
   "outputs": [
    {
     "data": {
      "text/plain": [
       "12.0"
      ]
     },
     "execution_count": 34,
     "metadata": {},
     "output_type": "execute_result"
    }
   ],
   "source": [
    "a = 144 \n",
    "a/= 12\n",
    "a"
   ]
  },
  {
   "cell_type": "code",
   "execution_count": 35,
   "id": "e7170182-3062-4fdc-ba6b-ad9fbb292323",
   "metadata": {},
   "outputs": [
    {
     "data": {
      "text/plain": [
       "32"
      ]
     },
     "execution_count": 35,
     "metadata": {},
     "output_type": "execute_result"
    }
   ],
   "source": [
    "a = 2\n",
    "a**=5\n",
    "a"
   ]
  },
  {
   "cell_type": "code",
   "execution_count": 36,
   "id": "f5297783-7bfa-4523-b9d4-85b46b946404",
   "metadata": {},
   "outputs": [
    {
     "data": {
      "text/plain": [
       "[3,\n",
       " 6,\n",
       " 8,\n",
       " 'azul como el mar azul',\n",
       " 'l',\n",
       " 'a',\n",
       " 's',\n",
       " ' ',\n",
       " 'd',\n",
       " 'o',\n",
       " 'c',\n",
       " 'e',\n",
       " ' ',\n",
       " 'c',\n",
       " 'a',\n",
       " 's',\n",
       " 'a',\n",
       " 's']"
      ]
     },
     "execution_count": 36,
     "metadata": {},
     "output_type": "execute_result"
    }
   ],
   "source": [
    "a=[3, 6, 8, 'azul como el mar azul']\n",
    "a += list('las doce casas')\n",
    "a"
   ]
  },
  {
   "cell_type": "markdown",
   "id": "e3e58a6e-6bb7-4ba2-aa4b-aa7636641a0f",
   "metadata": {},
   "source": [
    "# Operadores relacionales "
   ]
  },
  {
   "cell_type": "code",
   "execution_count": null,
   "id": "71b3ffe7-e86a-49d3-9628-841fe3d35b11",
   "metadata": {},
   "outputs": [],
   "source": [
    "<,>,==,!="
   ]
  },
  {
   "cell_type": "code",
   "execution_count": 37,
   "id": "18b73a96-fa77-423e-b515-985bcfe06cc6",
   "metadata": {},
   "outputs": [
    {
     "data": {
      "text/plain": [
       "(False, True, False, True)"
      ]
     },
     "execution_count": 37,
     "metadata": {},
     "output_type": "execute_result"
    }
   ],
   "source": [
    "a, b= 5, 18\n",
    "a > b, a < b, a==b, a!=b"
   ]
  },
  {
   "cell_type": "code",
   "execution_count": 39,
   "id": "40727f6b-828b-43fb-a2d5-b2c5c7d59b41",
   "metadata": {},
   "outputs": [
    {
     "data": {
      "text/plain": [
       "False"
      ]
     },
     "execution_count": 39,
     "metadata": {},
     "output_type": "execute_result"
    }
   ],
   "source": [
    "a, b, c=-45.2, 22, 100\n",
    "(((a-b)<567)!=0)==c*0"
   ]
  },
  {
   "cell_type": "code",
   "execution_count": 40,
   "id": "85ad643d-0686-427c-bbcd-ff51d1592bcd",
   "metadata": {},
   "outputs": [
    {
     "data": {
      "text/plain": [
       "True"
      ]
     },
     "execution_count": 40,
     "metadata": {},
     "output_type": "execute_result"
    }
   ],
   "source": [
    "((a-b)<567)!=0"
   ]
  },
  {
   "cell_type": "code",
   "execution_count": 41,
   "id": "a789e727-1f1c-47d4-849b-ab72d148f8fe",
   "metadata": {},
   "outputs": [
    {
     "data": {
      "text/plain": [
       "(True, True, True)"
      ]
     },
     "execution_count": 41,
     "metadata": {},
     "output_type": "execute_result"
    }
   ],
   "source": [
    "True !=0, True==1, False ==0"
   ]
  },
  {
   "cell_type": "code",
   "execution_count": 42,
   "id": "6de4fa76-8a65-47f4-a8bd-86f9c4587999",
   "metadata": {},
   "outputs": [
    {
     "data": {
      "text/plain": [
       "True"
      ]
     },
     "execution_count": 42,
     "metadata": {},
     "output_type": "execute_result"
    }
   ],
   "source": [
    "#0<1\n",
    "False<True"
   ]
  },
  {
   "cell_type": "markdown",
   "id": "34a8d168-796c-4275-82d3-72cbe0dabbc3",
   "metadata": {},
   "source": [
    "# Controladores de flujo \n",
    "##### Son estructuras de control condicionada. Nos permite evaluar si una o más condiciones se cumplen, para decidir que acciones se van a ejecutar. \n",
    "##### Notese que la evaluación de condiciones solo puede dar como resultadoun boolean \n",
    "##### Los posibles controladores de flujo son: \n",
    "- If \n",
    "- Elif\n",
    "- else \n",
    "- while \n",
    "- for "
   ]
  },
  {
   "cell_type": "markdown",
   "id": "7923ae0d-2d86-4930-85ea-ff3b739fe7f6",
   "metadata": {},
   "source": [
    "# Sentencia if "
   ]
  },
  {
   "cell_type": "markdown",
   "id": "e390db9f-b853-46f6-898b-694833308935",
   "metadata": {},
   "source": [
    "EL if se ejecuta siempre que la expresión que la acompañe sea True "
   ]
  },
  {
   "cell_type": "code",
   "execution_count": 43,
   "id": "f1d4fd8e-2034-4c0c-8e6d-0b63b86c56be",
   "metadata": {},
   "outputs": [
    {
     "name": "stdout",
     "output_type": "stream",
     "text": [
      " Entro al if\n"
     ]
    }
   ],
   "source": [
    "if True:\n",
    "    print(' Entro al if')"
   ]
  },
  {
   "cell_type": "code",
   "execution_count": 45,
   "id": "44d40bc5-87e9-4e1b-804e-703f55c87df5",
   "metadata": {},
   "outputs": [
    {
     "name": "stdout",
     "output_type": "stream",
     "text": [
      "entró al if\n"
     ]
    }
   ],
   "source": [
    "a=2\n",
    "if a > 0: \n",
    "    print('entró al if')"
   ]
  },
  {
   "cell_type": "code",
   "execution_count": 48,
   "id": "35f56c9c-17a4-4d3f-b485-8af1090e31c3",
   "metadata": {},
   "outputs": [
    {
     "name": "stdout",
     "output_type": "stream",
     "text": [
      " a mayor que 5\n",
      "código después del if\n"
     ]
    }
   ],
   "source": [
    "a = 10\n",
    "if a > 5: \n",
    "    print(' a mayor que 5')\n",
    "else:\n",
    "    print('pos a no es mayor que 5')\n",
    "print('código después del if')"
   ]
  },
  {
   "cell_type": "code",
   "execution_count": 52,
   "id": "fd7420f9-b7e6-4b89-a59a-52d27ee18f25",
   "metadata": {},
   "outputs": [
    {
     "name": "stdout",
     "output_type": "stream",
     "text": [
      " a es impar y b no me importa\n",
      "continuamos...\n"
     ]
    }
   ],
   "source": [
    "a, b = 17.5, -15\n",
    "if a % 2 ==0:\n",
    "    print('a es par')\n",
    "    if b > 0:\n",
    "        print('b es positivo')\n",
    "    else: \n",
    "        print('b es gruñon')\n",
    "else: \n",
    "    print(' a es impar y b no me importa')\n",
    "print ('continuamos...')"
   ]
  },
  {
   "cell_type": "code",
   "execution_count": 63,
   "id": "a59eaedb-6b1c-4f71-a9ee-18ea190493c1",
   "metadata": {},
   "outputs": [
    {
     "name": "stdout",
     "output_type": "stream",
     "text": [
      "pos nadota\n",
      "hay que seguirle\n"
     ]
    }
   ],
   "source": [
    "lista = [5,7,9,10]\n",
    "a, b = 3, 17\n",
    "\n",
    "if a in lista:\n",
    "    print('a en la lista')\n",
    "elif a % 2 == 0:\n",
    "    print('a es par')\n",
    "else:\n",
    "    print('pos nadota')\n",
    "\n",
    "print('hay que seguirle')\n"
   ]
  },
  {
   "cell_type": "code",
   "execution_count": 64,
   "id": "3f60119b-b34e-4d54-9861-3ceae689ff1d",
   "metadata": {},
   "outputs": [
    {
     "name": "stdout",
     "output_type": "stream",
     "text": [
      "no\n"
     ]
    }
   ],
   "source": [
    "a=5\n",
    "if a % 2==0:\n",
    "    print('a es par')\n",
    "else: \n",
    "    print('no')"
   ]
  }
 ],
 "metadata": {
  "kernelspec": {
   "display_name": "Python 3 (ipykernel)",
   "language": "python",
   "name": "python3"
  },
  "language_info": {
   "codemirror_mode": {
    "name": "ipython",
    "version": 3
   },
   "file_extension": ".py",
   "mimetype": "text/x-python",
   "name": "python",
   "nbconvert_exporter": "python",
   "pygments_lexer": "ipython3",
   "version": "3.10.9"
  }
 },
 "nbformat": 4,
 "nbformat_minor": 5
}
