{
 "cells": [
  {
   "cell_type": "code",
   "execution_count": null,
   "id": "84f5b374-f9e9-4f77-a906-601b55f24c52",
   "metadata": {},
   "outputs": [],
   "source": [
    "# Ejercicios \n",
    "1. Crear una funcion que cuente las vocales de un string y regrese dicho numero \n",
    "2. Crear una funcion que determine si un numero es par o impar e imprima se es par o impar \n",
    "3. Crear una funcion para convertit de grados celcius a grados fahrenheit, dicha funcincion recibira la temperatura en grados celcius y debera  reresar los grados en fahrenheit\n",
    "4. Crear una funcion que reciba un entero y devuelva la suma de sus digitos\n",
    "5. Crear una funcion que cuente las palabras de un string y deuva dicho numero \n",
    "6. Crear una funcion que reciba una lista con al menos 3 enteros y regrese al minimo de todos los numeros de la lista \n",
    "7. Crear una funcion que reciba string (frase, letra) y cuente cuantas veces aparece la letra en la frase y regrese ese numero \n",
    "8. Crear una funcion que reciba un string y cambie todas las minusculas a mayusculas y las mayusculas a minusculas \n",
    "9. Crear una fncion que reciba un stringy elimine todos los espacios y regrese el string sin espacios \n"
   ]
  },
  {
   "cell_type": "code",
   "execution_count": 54,
   "id": "bcd2a162-e630-430b-9f35-47f1c1e6bef9",
   "metadata": {},
   "outputs": [
    {
     "data": {
      "text/plain": [
       "True"
      ]
     },
     "execution_count": 54,
     "metadata": {},
     "output_type": "execute_result"
    }
   ],
   "source": [
    "\"cadena\".upper (), #convierte a mayusculas\n",
    "\"ALFABETO\".lower(), #convierte a minusculas \n",
    "\"mientras\".capitalize (),\n",
    "\"a\".islower(),\n",
    "\"A\".isupper()"
   ]
  },
  {
   "cell_type": "code",
   "execution_count": 60,
   "id": "7fee9d33-3601-4908-8e6b-c5b6dff681b3",
   "metadata": {},
   "outputs": [
    {
     "name": "stdout",
     "output_type": "stream",
     "text": [
      "Número de vocales: 30\n"
     ]
    }
   ],
   "source": [
    "#1\n",
    "def contar_vocales(texto):\n",
    "    vocales = \"aeiouAEIOU\"\n",
    "    return sum(1 for letra in texto if letra in vocales)\n",
    "\n",
    "print(\"Número de vocales:\", contar_vocales(\"Te hubieras ido antes, por qué no te marchaste cuando aun no eras tan indispensable?\"))\n"
   ]
  },
  {
   "cell_type": "code",
   "execution_count": 33,
   "id": "5fcefd56-83fc-44fe-b0f1-9b1a59605bcb",
   "metadata": {},
   "outputs": [
    {
     "ename": "SyntaxError",
     "evalue": "'return' outside function (2043152444.py, line 9)",
     "output_type": "error",
     "traceback": [
      "  \u001b[36mCell\u001b[39m\u001b[36m \u001b[39m\u001b[32mIn[33]\u001b[39m\u001b[32m, line 9\u001b[39m\n\u001b[31m    \u001b[39m\u001b[31mreturn total\u001b[39m\n    ^\n\u001b[31mSyntaxError\u001b[39m\u001b[31m:\u001b[39m 'return' outside function\n"
     ]
    }
   ],
   "source": [
    "#1\n",
    "def contar_vocales2(cadena):\n",
    "    total= 0\n",
    "    vocales= ['a', 'e', 'i','o','u']\n",
    "    for letras in cadena:\n",
    "        if letra in vocales:\n",
    "            total += 1\n",
    "        \n",
    "\n",
    "return total"
   ]
  },
  {
   "cell_type": "code",
   "execution_count": 8,
   "id": "c743cef7-8a34-4a94-ac06-c47425086e9d",
   "metadata": {},
   "outputs": [
    {
     "name": "stdout",
     "output_type": "stream",
     "text": [
      "8 es par\n",
      "5 es impar\n"
     ]
    }
   ],
   "source": [
    "#2\n",
    "def par_o_impar(numero):\n",
    "    if numero % 2 == 0:\n",
    "        print(f\"{numero} es par\")\n",
    "    else:\n",
    "        print(f\"{numero} es impar\")\n",
    "\n",
    "par_o_impar(8)\n",
    "par_o_impar(5)"
   ]
  },
  {
   "cell_type": "code",
   "execution_count": 25,
   "id": "08524d7d-5d96-48db-ae42-af99ffd30572",
   "metadata": {},
   "outputs": [
    {
     "name": "stdout",
     "output_type": "stream",
     "text": [
      "86.0\n"
     ]
    }
   ],
   "source": [
    "#3\n",
    "def celsius_a_fahrenheit(celsius):\n",
    "    return (celsius * 9/5) + 32\n",
    "print(celsius_a_fahrenheit(30))\n"
   ]
  },
  {
   "cell_type": "code",
   "execution_count": 47,
   "id": "1465ce63-5833-4ba9-adf9-01eafba902f5",
   "metadata": {},
   "outputs": [
    {
     "name": "stdout",
     "output_type": "stream",
     "text": [
      "45\n"
     ]
    }
   ],
   "source": [
    "#4\n",
    "def suma_digitos(numero):\n",
    "    return sum(int(digito) for digito in str(abs(numero)))\n",
    "\n",
    "print(suma_digitos(1234579374))"
   ]
  },
  {
   "cell_type": "code",
   "execution_count": 62,
   "id": "4a3a5a7f-f2bf-4e16-8a92-f271005aaf34",
   "metadata": {},
   "outputs": [
    {
     "data": {
      "text/plain": [
       "6"
      ]
     },
     "execution_count": 62,
     "metadata": {},
     "output_type": "execute_result"
    }
   ],
   "source": [
    "#4\n",
    "def sumar_digitos(n):\n",
    "    str_n=str (n) \n",
    "    total = 0\n",
    "    for digito  in str_n:\n",
    "        total += int (digito)\n",
    "\n",
    "    return total\n",
    "sumar_digitos (123)"
   ]
  },
  {
   "cell_type": "code",
   "execution_count": 61,
   "id": "8200e504-14c2-4ad3-847a-765455ef4a21",
   "metadata": {},
   "outputs": [
    {
     "name": "stdout",
     "output_type": "stream",
     "text": [
      "17\n"
     ]
    }
   ],
   "source": [
    "#5\n",
    "def contar_palabras(texto):\n",
    "    return len(texto.split())\n",
    "    \n",
    "print(contar_palabras(\"\"\"Blame it on the black star\n",
    "Blame it on the falling sky\n",
    "Blame it on the satellite\"\"\"))"
   ]
  },
  {
   "cell_type": "code",
   "execution_count": 53,
   "id": "a57341c5-5af8-4563-9678-a06483143408",
   "metadata": {},
   "outputs": [
    {
     "name": "stdout",
     "output_type": "stream",
     "text": [
      "1\n"
     ]
    }
   ],
   "source": [
    "#6\n",
    "def minimo_lista(lista):\n",
    "    return min(lista)\n",
    "\n",
    "print(minimo_lista([5, 8, 2, 9, 1]))"
   ]
  },
  {
   "cell_type": "code",
   "execution_count": 59,
   "id": "fc4b6dee-2524-4198-9f84-b215265df75b",
   "metadata": {},
   "outputs": [
    {
     "name": "stdout",
     "output_type": "stream",
     "text": [
      "26\n"
     ]
    }
   ],
   "source": [
    "#7\n",
    "def contar_letra(frase, letra):\n",
    "    return frase.count(letra)\n",
    "\n",
    "texto = \"\"\"And if I'm gonna talk\n",
    "I just wanna talk\n",
    "Please don't interrupt\n",
    "Just sit back and listen\n",
    "'Cause I can't face the evening straight\n",
    "You can offer me escape\n",
    "Houses move and houses speak\n",
    "If you take me there you'll get relief, relief\"\"\"\n",
    "\n",
    "print(contar_letra(texto, \"e\"))"
   ]
  },
  {
   "cell_type": "code",
   "execution_count": 58,
   "id": "2f279b05-8b0b-4220-892f-b45aed8ef316",
   "metadata": {},
   "outputs": [
    {
     "name": "stdout",
     "output_type": "stream",
     "text": [
      "tHEY LOVE ME LIKE i WAS A BROTHER\n",
      "tHEY PROTECT ME, LISTEN TO ME\n",
      "tHEY DUG ME MY VERY OWN GARDEN\n",
      "gAVE ME SUNSHINE, MADE ME HAPPY\n",
      "nICE DREAM\n",
      "nICE DREAM\n",
      "nICE DREAM\n"
     ]
    }
   ],
   "source": [
    "#8 \n",
    "def cambiar_mayus_minus(texto):\n",
    "    return texto.swapcase()\n",
    "\n",
    "letra = \"\"\"They love me like I was a brother\n",
    "They protect me, listen to me\n",
    "They dug me my very own garden\n",
    "Gave me sunshine, made me happy\n",
    "Nice dream\n",
    "Nice dream\n",
    "Nice dream\"\"\"\n",
    "\n",
    "print(cambiar_mayus_minus(letra))"
   ]
  },
  {
   "cell_type": "code",
   "execution_count": 1,
   "id": "1ff3f408-4397-4f19-9d26-ac36b6ea7df3",
   "metadata": {},
   "outputs": [
    {
     "name": "stdout",
     "output_type": "stream",
     "text": [
      "Faith,you'redrivingmeaway\n",
      "Youdoiteveryday\n",
      "Youdon'tmeanit\n",
      "Butithurtslikehell\n",
      "MybrainsaysI'mreceivingpain\n",
      "Alackofoxygen\n",
      "Frommylifesupport\n",
      "Myironlung\n"
     ]
    }
   ],
   "source": [
    "def eliminar_espacios(texto):\n",
    "    return texto.replace(\" \", \"\")\n",
    "\n",
    "\n",
    "frase = \"\"\"Faith, you're driving me away\n",
    "You do it everyday\n",
    "You don't mean it\n",
    "But it hurts like hell\n",
    "My brain says I'm receiving pain\n",
    "A lack of oxygen\n",
    "From my life support\n",
    "My iron lung\"\"\"\n",
    "\n",
    "resultado = eliminar_espacios(frase)\n",
    "print(resultado) \n"
   ]
  }
 ],
 "metadata": {
  "kernelspec": {
   "display_name": "Python 3 (ipykernel)",
   "language": "python",
   "name": "python3"
  },
  "language_info": {
   "codemirror_mode": {
    "name": "ipython",
    "version": 3
   },
   "file_extension": ".py",
   "mimetype": "text/x-python",
   "name": "python",
   "nbconvert_exporter": "python",
   "pygments_lexer": "ipython3",
   "version": "3.13.5"
  }
 },
 "nbformat": 4,
 "nbformat_minor": 5
}
