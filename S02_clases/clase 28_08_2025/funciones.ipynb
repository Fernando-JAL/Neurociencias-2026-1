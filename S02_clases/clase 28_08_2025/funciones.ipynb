{
 "cells": [
  {
   "cell_type": "markdown",
   "id": "57dee088-6562-4e57-ae49-d2bb4f99d039",
   "metadata": {},
   "source": [
    "#### Ejercicios\n",
    "\n",
    "1. Crear una funcion que cuente las vocales de un string y regrese dicho numero\n",
    "2. Crear una función que determine si un número es par o impar e imprima si es par o impar\n",
    "3. Crear una función para convertir de grados celcius a grados farenheit, dicha función recibirá la temperatura en grados celcius y deberá regresar los grados farenheit\n",
    "4. Crear una función que reciba un entero y devuelva la suma de sus digitos\n",
    "5. Crear una función que cuente las palabras de un string y devuelva dicho numero\n",
    "6. Crear una funcion que reciba una lista con al menos 3 enteros y regrese el minimo de todos los numeros de la lista\n",
    "7. Crear una función que reciba dos stings (frase, letra) y cuente cuántas veces aparece la letra en la frase y regrese ese numero\n",
    "8. Crear una funcion que reciba un string y cmabie todas las minusculas a mayusculas y las mayusculas a minusculas\n",
    "9. Crear una funcion que reciba un string y elimine todos los espacios y regrese el string sin espacios"
   ]
  },
  {
   "cell_type": "code",
   "execution_count": 30,
   "id": "47892e29-931f-4038-a3f0-2f873ed87cf1",
   "metadata": {},
   "outputs": [
    {
     "data": {
      "text/plain": [
       "('CADENA', 'alfabeto', 'Mientras', True, True)"
      ]
     },
     "execution_count": 30,
     "metadata": {},
     "output_type": "execute_result"
    }
   ],
   "source": [
    "\"cadena\".upper(), \"ALFABETO\".lower(), \"mientras\".capitalize(), \"a\".islower(), \"A\".isupper()"
   ]
  },
  {
   "cell_type": "code",
   "execution_count": 33,
   "id": "df033234-0d5a-418c-8cee-eb4cc6e1f21e",
   "metadata": {},
   "outputs": [
    {
     "data": {
      "text/plain": [
       "(['a', 'b', 'c', 'd'], 'a-b-c')"
      ]
     },
     "execution_count": 33,
     "metadata": {},
     "output_type": "execute_result"
    }
   ],
   "source": [
    "\"a b c d\".split(sep= \" \"), \"-\".join(['a', 'b', 'c'])"
   ]
  },
  {
   "cell_type": "code",
   "execution_count": 2,
   "id": "a4a04b0b-f59f-4f89-9a58-4bbb9afa01a9",
   "metadata": {},
   "outputs": [],
   "source": [
    "def contar_vocales(texto):\n",
    "    #Definir vocales\n",
    "    vocales = \"aeiouáéíóúAEIOUÁÉÍÓÚ\"\n",
    "    # contar cuantos caracteres del texto están en la lista de vocales\n",
    "    contador = sum(1 for letra in texto if letra in vocales)\n",
    "    return contador"
   ]
  },
  {
   "cell_type": "code",
   "execution_count": 3,
   "id": "72e8eadc-b500-495c-b151-ee4de5ffa136",
   "metadata": {},
   "outputs": [
    {
     "name": "stdout",
     "output_type": "stream",
     "text": [
      "Número de vocales: 6\n"
     ]
    }
   ],
   "source": [
    "frase = \"Hola, ¿cómo estás?\"\n",
    "print(\"Número de vocales:\", contar_vocales(frase))"
   ]
  },
  {
   "cell_type": "code",
   "execution_count": 4,
   "id": "2d5e54c8-d2f1-4725-b19d-5635d339d534",
   "metadata": {},
   "outputs": [],
   "source": [
    "def par_o_impar(numero):\n",
    "    # % es el residuo de una division, y 2==0 es cuando es par\n",
    "    if numero % 2==0:\n",
    "        print(f\"El número {numero} es Par\")\n",
    "    else:\n",
    "        print(f\"El número {numero} es Impar\")"
   ]
  },
  {
   "cell_type": "code",
   "execution_count": 5,
   "id": "76de4b0f-dd43-42df-89d8-92279deb23eb",
   "metadata": {},
   "outputs": [
    {
     "name": "stdout",
     "output_type": "stream",
     "text": [
      "El número 10 es Par\n"
     ]
    }
   ],
   "source": [
    "par_o_impar(10)"
   ]
  },
  {
   "cell_type": "code",
   "execution_count": 7,
   "id": "2773b6d8-e568-4a4a-8c0c-8a122b8862f7",
   "metadata": {},
   "outputs": [
    {
     "name": "stdout",
     "output_type": "stream",
     "text": [
      "El número 3 es Impar\n"
     ]
    }
   ],
   "source": [
    "par_o_impar(3)"
   ]
  },
  {
   "cell_type": "code",
   "execution_count": 9,
   "id": "5f33bda8-9f6c-493b-b746-03f70643f913",
   "metadata": {},
   "outputs": [],
   "source": [
    "def celcius_a_farenheit (celcius):\n",
    "    farenheit =(celcius * 9/5) +32\n",
    "    return farenheit"
   ]
  },
  {
   "cell_type": "code",
   "execution_count": 10,
   "id": "ddf2d1c6-2f44-4624-b919-bfdea771d80c",
   "metadata": {},
   "outputs": [
    {
     "name": "stdout",
     "output_type": "stream",
     "text": [
      "25 °C son 77.0°F\n"
     ]
    }
   ],
   "source": [
    "temp_c = 25\n",
    "print(f\"{temp_c} °C son {celcius_a_farenheit(temp_c)}°F\")"
   ]
  },
  {
   "cell_type": "code",
   "execution_count": 27,
   "id": "8fa9186f-3bbf-4cb3-b7aa-9dd4d3cfa585",
   "metadata": {},
   "outputs": [],
   "source": [
    "def sumar_digitos(n):\n",
    "    str_n = str(n)\n",
    "    total=0\n",
    "    for digito in str_n:\n",
    "        total += int(digito)\n",
    "\n",
    "    return total"
   ]
  },
  {
   "cell_type": "code",
   "execution_count": 28,
   "id": "52d473b3-76d9-4994-8567-951e559552f2",
   "metadata": {},
   "outputs": [
    {
     "data": {
      "text/plain": [
       "6"
      ]
     },
     "execution_count": 28,
     "metadata": {},
     "output_type": "execute_result"
    }
   ],
   "source": [
    "sumar_digitos(123)"
   ]
  },
  {
   "cell_type": "code",
   "execution_count": 31,
   "id": "62e5ca0a-33cc-4449-bc0a-0f4876b0771c",
   "metadata": {},
   "outputs": [],
   "source": [
    "def contar_palabras(texto):\n",
    "    palabras =texto.split()\n",
    "    return len(palabras)"
   ]
  },
  {
   "cell_type": "code",
   "execution_count": 32,
   "id": "d8b18521-6ca3-43f7-bc7a-eda9d0cbe70c",
   "metadata": {},
   "outputs": [
    {
     "name": "stdout",
     "output_type": "stream",
     "text": [
      "Número de palabras: 3\n"
     ]
    }
   ],
   "source": [
    "frase = \"Hola, ¿cómo estás?\"\n",
    "resultado = contar_palabras(frase)\n",
    "print(\"Número de palabras:\", resultado)"
   ]
  },
  {
   "cell_type": "code",
   "execution_count": 45,
   "id": "ebe2e699-1598-401a-a042-e91bbea9f940",
   "metadata": {},
   "outputs": [],
   "source": [
    "def minimo_lista(numeros):\n",
    "    if len(numeros) > 3:\n",
    "           return min(numeros)"
   ]
  },
  {
   "cell_type": "code",
   "execution_count": 46,
   "id": "89201da5-112e-4765-af17-5c7603315dc1",
   "metadata": {},
   "outputs": [
    {
     "name": "stdout",
     "output_type": "stream",
     "text": [
      "El minimo de la lista es: 3\n"
     ]
    }
   ],
   "source": [
    "lista = [15, 7, 22, 3, 9]\n",
    "resultado = minimo_lista(lista)\n",
    "print(\"El minimo de la lista es:\", resultado)"
   ]
  }
 ],
 "metadata": {
  "kernelspec": {
   "display_name": "Python 3 (ipykernel)",
   "language": "python",
   "name": "python3"
  },
  "language_info": {
   "codemirror_mode": {
    "name": "ipython",
    "version": 3
   },
   "file_extension": ".py",
   "mimetype": "text/x-python",
   "name": "python",
   "nbconvert_exporter": "python",
   "pygments_lexer": "ipython3",
   "version": "3.11.1"
  }
 },
 "nbformat": 4,
 "nbformat_minor": 5
}
