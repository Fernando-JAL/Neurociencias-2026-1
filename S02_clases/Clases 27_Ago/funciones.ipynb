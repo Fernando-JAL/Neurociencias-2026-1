{
 "cells": [
  {
   "cell_type": "markdown",
   "id": "5e311ce1-d8cc-4ff6-86ac-611fb7c64b04",
   "metadata": {},
   "source": [
    "## Funciones\n",
    "son fragmentos de códigos que se pueden ejecutar múltiples veces. Puedenn recibir y/o devolver información/datos/variables para comunicarse con el código/proceso principal"
   ]
  },
  {
   "cell_type": "code",
   "execution_count": 5,
   "id": "44d42ae2-7543-4fb2-b74a-280aa903da53",
   "metadata": {},
   "outputs": [
    {
     "name": "stdout",
     "output_type": "stream",
     "text": [
      "Hello World, Dennis Ritchie\n"
     ]
    }
   ],
   "source": [
    "def saludar():\n",
    "    print(\"Hello World, Dennis Ritchie\")\n",
    "\n",
    "saludar()"
   ]
  },
  {
   "cell_type": "code",
   "execution_count": 10,
   "id": "7235baa4-f1ea-4e97-aec2-497202af4f25",
   "metadata": {},
   "outputs": [
    {
     "name": "stdout",
     "output_type": "stream",
     "text": [
      "Hello World, Dennis Ritchie\n",
      "Hello World, Dennis Ritchie\n",
      "Hello World, Dennis Ritchie\n"
     ]
    }
   ],
   "source": [
    "for _ in range(3):\n",
    "    saludar()"
   ]
  },
  {
   "cell_type": "code",
   "execution_count": 16,
   "id": "f474042a-7c2b-49f7-aa2a-8e7453c95a5b",
   "metadata": {},
   "outputs": [
    {
     "data": {
      "text/plain": [
       "7.0"
      ]
     },
     "execution_count": 16,
     "metadata": {},
     "output_type": "execute_result"
    }
   ],
   "source": [
    "numeritos= [3, 5, 7, 9,11]\n",
    "\n",
    "sum(lista)/len(lista)"
   ]
  },
  {
   "cell_type": "code",
   "execution_count": 17,
   "id": "e49727ee-d12f-4061-ab86-b29d4b6bd1a5",
   "metadata": {},
   "outputs": [
    {
     "name": "stdout",
     "output_type": "stream",
     "text": [
      "el promedio de los numeros es 7.0\n"
     ]
    }
   ],
   "source": [
    "def promedio(numeros): ##del numeros de los parametros dependera el numero de argmuentos\n",
    "    valor_promedio=sum(numeros)/len(numeros)\n",
    "    print(f\"el promedio de los numeros es {valor_promedio}\")\n",
    "    return valor_promedio\n",
    "\n",
    "valor_f= promedio(numeritos)"
   ]
  },
  {
   "cell_type": "code",
   "execution_count": 18,
   "id": "08e47a9c-3fbe-4d10-8d02-ce6c24e55c30",
   "metadata": {},
   "outputs": [
    {
     "data": {
      "text/plain": [
       "7.0"
      ]
     },
     "execution_count": 18,
     "metadata": {},
     "output_type": "execute_result"
    }
   ],
   "source": [
    "valor_f"
   ]
  },
  {
   "cell_type": "code",
   "execution_count": 24,
   "id": "490a907c-2dd7-4651-afef-577f52d3c41a",
   "metadata": {},
   "outputs": [
    {
     "data": {
      "text/plain": [
       "-50"
      ]
     },
     "execution_count": 24,
     "metadata": {},
     "output_type": "execute_result"
    }
   ],
   "source": [
    "def minimo(val_a,val_b):\n",
    "    val_minimo= min(val_a,val_b)\n",
    "    return val_minimo\n",
    "\n",
    "minimo(-10,-50)"
   ]
  },
  {
   "cell_type": "markdown",
   "id": "c65db3d7-06bf-4151-abde-ac90e02b06aa",
   "metadata": {},
   "source": [
    "##Ejercicio\n",
    "hacer una función para calcular el factorial de un número\n",
    "funcion de un solo parametro que me regrese un entero que sea factorial"
   ]
  },
  {
   "cell_type": "code",
   "execution_count": 33,
   "id": "ce2cbe32-f1cf-4fee-8d37-74f7165e9bd7",
   "metadata": {},
   "outputs": [
    {
     "name": "stdout",
     "output_type": "stream",
     "text": [
      "5! = 120\n"
     ]
    }
   ],
   "source": [
    "\n",
    "def factorial(numero):\n",
    "    resultado=math.factorial(numero)\n",
    "    return resultado \n",
    "\n",
    "num = 5\n",
    "resultado_factorial = factorial(num)\n",
    "print(f\"{num}! = {resultado_factorial}\")"
   ]
  },
  {
   "cell_type": "code",
   "execution_count": 39,
   "id": "808cf14a-1cbd-4e32-bb44-f74960642487",
   "metadata": {},
   "outputs": [
    {
     "data": {
      "text/plain": [
       "720"
      ]
     },
     "execution_count": 39,
     "metadata": {},
     "output_type": "execute_result"
    }
   ],
   "source": [
    "n=6\n",
    "\n",
    "resultado= 1\n",
    "for val in range(1, n+1):\n",
    "    resultado=resultado * val\n",
    "\n",
    "resultado"
   ]
  },
  {
   "cell_type": "code",
   "execution_count": 40,
   "id": "4688bd74-0448-4cc9-bfc6-03a3cda413c4",
   "metadata": {},
   "outputs": [
    {
     "data": {
      "text/plain": [
       "1307674368000"
      ]
     },
     "execution_count": 40,
     "metadata": {},
     "output_type": "execute_result"
    }
   ],
   "source": [
    "def factorial(valor):\n",
    "    resultado = 1\n",
    "    for val in range(1,valor+1):\n",
    "        resultado *= val\n",
    "    return resultado\n",
    "\n",
    "factorial(15)"
   ]
  }
 ],
 "metadata": {
  "kernelspec": {
   "display_name": "Python 3 (ipykernel)",
   "language": "python",
   "name": "python3"
  },
  "language_info": {
   "codemirror_mode": {
    "name": "ipython",
    "version": 3
   },
   "file_extension": ".py",
   "mimetype": "text/x-python",
   "name": "python",
   "nbconvert_exporter": "python",
   "pygments_lexer": "ipython3",
   "version": "3.10.4"
  }
 },
 "nbformat": 4,
 "nbformat_minor": 5
}
