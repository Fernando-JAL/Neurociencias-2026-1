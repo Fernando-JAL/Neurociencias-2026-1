{
 "cells": [
  {
   "cell_type": "markdown",
   "id": "f6332fa6-8576-4238-8f93-205002dc86c5",
   "metadata": {},
   "source": [
    "## Más de Listas"
   ]
  },
  {
   "cell_type": "code",
   "execution_count": 42,
   "id": "9aaaddef-9ffc-44b3-834f-8510c5268bff",
   "metadata": {},
   "outputs": [
    {
     "data": {
      "text/plain": [
       "['rojo', '2.3', '100', 'chocolate']"
      ]
     },
     "execution_count": 42,
     "metadata": {},
     "output_type": "execute_result"
    }
   ],
   "source": [
    "lista=[\"rojo\",\"2.3\",\"100\",\"chocolate\"]\n",
    "lista"
   ]
  },
  {
   "cell_type": "code",
   "execution_count": 43,
   "id": "d21b0939-1b4b-4dd4-b420-b9e8a861486f",
   "metadata": {},
   "outputs": [
    {
     "data": {
      "text/plain": [
       "['rojo', '2.3', '100', 'chocolate', 'nuez']"
      ]
     },
     "execution_count": 43,
     "metadata": {},
     "output_type": "execute_result"
    }
   ],
   "source": [
    "lista.append(\"nuez\")\n",
    "lista\n",
    "##para agregar nuevos elementos a la lista"
   ]
  },
  {
   "cell_type": "code",
   "execution_count": 35,
   "id": "9d16848f-9de5-4023-9a47-a18e45cf476f",
   "metadata": {},
   "outputs": [
    {
     "data": {
      "text/plain": [
       "['rojo', '2.3', 'chocolate', 'nuez']"
      ]
     },
     "execution_count": 35,
     "metadata": {},
     "output_type": "execute_result"
    }
   ],
   "source": [
    "['rojo', '2.3', 'chocolate', 'nuez']"
   ]
  },
  {
   "cell_type": "code",
   "execution_count": 36,
   "id": "d49d04a5-82fd-4550-b021-c4daea8c44d8",
   "metadata": {},
   "outputs": [
    {
     "data": {
      "text/plain": [
       "[]"
      ]
     },
     "execution_count": 36,
     "metadata": {},
     "output_type": "execute_result"
    }
   ],
   "source": [
    "lista_vacia=[]\n",
    "lista_vacia"
   ]
  },
  {
   "cell_type": "code",
   "execution_count": 37,
   "id": "ceea3c92-6b74-4dbc-9af1-c5b9379acb7b",
   "metadata": {},
   "outputs": [
    {
     "data": {
      "text/plain": [
       "['rojo', '2.3', '100', 'chocolate', 'nuez']"
      ]
     },
     "execution_count": 37,
     "metadata": {},
     "output_type": "execute_result"
    }
   ],
   "source": [
    "lista"
   ]
  },
  {
   "cell_type": "code",
   "execution_count": 44,
   "id": "bea48f87-7a91-4bcc-8e00-53701929939b",
   "metadata": {},
   "outputs": [
    {
     "data": {
      "text/plain": [
       "['rojo', '2.3', '100', 'chocolate', 4, 2, 6]"
      ]
     },
     "execution_count": 44,
     "metadata": {},
     "output_type": "execute_result"
    }
   ],
   "source": [
    "lista[-1:]=[4,2,6]\n",
    "lista"
   ]
  },
  {
   "cell_type": "code",
   "execution_count": 45,
   "id": "cac59ed2-4384-4694-a799-5278d38e0cde",
   "metadata": {},
   "outputs": [
    {
     "data": {
      "text/plain": [
       "['rojo', '2.3', 'chocolate', 4, 2, 6]"
      ]
     },
     "execution_count": 45,
     "metadata": {},
     "output_type": "execute_result"
    }
   ],
   "source": [
    "del lista[2]\n",
    "lista\n",
    "##para eliminar de la lista"
   ]
  },
  {
   "cell_type": "code",
   "execution_count": 46,
   "id": "c0d29404-289e-452f-9375-61ee81d4e17c",
   "metadata": {},
   "outputs": [
    {
     "data": {
      "text/plain": [
       "['rojo', '2.3', 2, 6]"
      ]
     },
     "execution_count": 46,
     "metadata": {},
     "output_type": "execute_result"
    }
   ],
   "source": [
    "del lista[2:4]\n",
    "lista"
   ]
  },
  {
   "cell_type": "code",
   "execution_count": 47,
   "id": "e908a25d-5df3-417e-b544-1a8809834acb",
   "metadata": {},
   "outputs": [
    {
     "data": {
      "text/plain": [
       "['rojo', '2.3']"
      ]
     },
     "execution_count": 47,
     "metadata": {},
     "output_type": "execute_result"
    }
   ],
   "source": [
    "del lista[2:4]\n",
    "lista"
   ]
  },
  {
   "cell_type": "code",
   "execution_count": 48,
   "id": "99739921-0b2e-4b59-b7c9-7bb534f34b77",
   "metadata": {},
   "outputs": [
    {
     "data": {
      "text/plain": [
       "['rojo']"
      ]
     },
     "execution_count": 48,
     "metadata": {},
     "output_type": "execute_result"
    }
   ],
   "source": [
    "del lista[1]\n",
    "lista"
   ]
  },
  {
   "cell_type": "code",
   "execution_count": 49,
   "id": "8e002cb9-ad25-4374-bde5-f7bc440041ea",
   "metadata": {},
   "outputs": [
    {
     "data": {
      "text/plain": [
       "[]"
      ]
     },
     "execution_count": 49,
     "metadata": {},
     "output_type": "execute_result"
    }
   ],
   "source": [
    "del lista[0]\n",
    "lista"
   ]
  },
  {
   "cell_type": "code",
   "execution_count": 50,
   "id": "5b53b897-5248-44b0-a002-976b963aff1b",
   "metadata": {},
   "outputs": [
    {
     "ename": "IndexError",
     "evalue": "list assignment index out of range",
     "output_type": "error",
     "traceback": [
      "\u001b[1;31m---------------------------------------------------------------------------\u001b[0m",
      "\u001b[1;31mIndexError\u001b[0m                                Traceback (most recent call last)",
      "Cell \u001b[1;32mIn[50], line 1\u001b[0m\n\u001b[1;32m----> 1\u001b[0m \u001b[38;5;28;01mdel\u001b[39;00m lista[\u001b[38;5;241m0\u001b[39m]\n",
      "\u001b[1;31mIndexError\u001b[0m: list assignment index out of range"
     ]
    }
   ],
   "source": [
    "del lista[0]"
   ]
  },
  {
   "cell_type": "code",
   "execution_count": 56,
   "id": "c76f9612-6e1e-4a5d-907e-98f38636925a",
   "metadata": {},
   "outputs": [
    {
     "data": {
      "text/plain": [
       "[[1, 2, 3], [4, 5, 6], [7, 8, 9], [8, 7, 6]]"
      ]
     },
     "execution_count": 56,
     "metadata": {},
     "output_type": "execute_result"
    }
   ],
   "source": [
    "matriz= [[1,2,3],\n",
    "        [4,5,6],\n",
    "        [7,8,9],\n",
    "        [8,7,6]]\n",
    "matriz"
   ]
  },
  {
   "cell_type": "code",
   "execution_count": 58,
   "id": "7563d31e-56e8-4902-85d5-5bc59419a4e1",
   "metadata": {},
   "outputs": [
    {
     "data": {
      "text/plain": [
       "[7, 8, 9]"
      ]
     },
     "execution_count": 58,
     "metadata": {},
     "output_type": "execute_result"
    }
   ],
   "source": [
    "a= matriz[2]\n",
    "a"
   ]
  },
  {
   "cell_type": "code",
   "execution_count": 59,
   "id": "1b55af5e-c713-4d40-bde1-c99cf64a0a2f",
   "metadata": {},
   "outputs": [
    {
     "data": {
      "text/plain": [
       "9"
      ]
     },
     "execution_count": 59,
     "metadata": {},
     "output_type": "execute_result"
    }
   ],
   "source": [
    "a[-1]"
   ]
  },
  {
   "cell_type": "code",
   "execution_count": 61,
   "id": "393c1df5-2c02-4d5d-9011-458934601098",
   "metadata": {},
   "outputs": [
    {
     "data": {
      "text/plain": [
       "[[1, 2, 3], [4, 5, 6], [7, 8, 9], [8, 7, 6]]"
      ]
     },
     "execution_count": 61,
     "metadata": {},
     "output_type": "execute_result"
    }
   ],
   "source": [
    "matriz\n"
   ]
  },
  {
   "cell_type": "code",
   "execution_count": 63,
   "id": "15b51311-8f42-44ac-91d1-8c5c81697372",
   "metadata": {},
   "outputs": [
    {
     "data": {
      "text/plain": [
       "4"
      ]
     },
     "execution_count": 63,
     "metadata": {},
     "output_type": "execute_result"
    }
   ],
   "source": [
    "matriz[1][0]"
   ]
  },
  {
   "cell_type": "markdown",
   "id": "60aec6b1-22d4-48a6-b582-aa133d7009b4",
   "metadata": {},
   "source": [
    "## Tuplas"
   ]
  },
  {
   "cell_type": "code",
   "execution_count": 68,
   "id": "e6b02c39-4e0b-4d50-92fc-49b1567a7b02",
   "metadata": {},
   "outputs": [
    {
     "data": {
      "text/plain": [
       "(5, 2, '-1', [4, 2, 1], 'pasa')"
      ]
     },
     "execution_count": 68,
     "metadata": {},
     "output_type": "execute_result"
    }
   ],
   "source": [
    "variable=(5,2,\"-1\",[4,2,1],\"pasa\")\n",
    "variable"
   ]
  },
  {
   "cell_type": "code",
   "execution_count": 69,
   "id": "f5dabf01-eba7-405c-a20d-03e4d768962b",
   "metadata": {},
   "outputs": [
    {
     "data": {
      "text/plain": [
       "'pasa'"
      ]
     },
     "execution_count": 69,
     "metadata": {},
     "output_type": "execute_result"
    }
   ],
   "source": [
    "variable[-1]\n"
   ]
  },
  {
   "cell_type": "code",
   "execution_count": 70,
   "id": "76d1371a-d124-4f28-b407-cd140a24a5ef",
   "metadata": {},
   "outputs": [
    {
     "data": {
      "text/plain": [
       "(2, '-1')"
      ]
     },
     "execution_count": 70,
     "metadata": {},
     "output_type": "execute_result"
    }
   ],
   "source": [
    "variable[1:-2]"
   ]
  },
  {
   "cell_type": "code",
   "execution_count": 71,
   "id": "14f73be7-a43a-40d9-a96f-fe898c88ae0f",
   "metadata": {},
   "outputs": [
    {
     "data": {
      "text/plain": [
       "(5, 2, '-1', [4, 2, 1], 'pasa')"
      ]
     },
     "execution_count": 71,
     "metadata": {},
     "output_type": "execute_result"
    }
   ],
   "source": [
    "variable"
   ]
  },
  {
   "cell_type": "code",
   "execution_count": 77,
   "id": "41c8e057-0531-4ceb-a227-ad377739aa11",
   "metadata": {},
   "outputs": [
    {
     "data": {
      "text/plain": [
       "(5, 2, '-1')"
      ]
     },
     "execution_count": 77,
     "metadata": {},
     "output_type": "execute_result"
    }
   ],
   "source": [
    "pos_i, pos_f=0,2\n",
    "variable[pos_i:pos_f+1]"
   ]
  },
  {
   "cell_type": "code",
   "execution_count": 75,
   "id": "01b24ecf-82ec-4c8b-aaca-c096c8c7c218",
   "metadata": {},
   "outputs": [
    {
     "data": {
      "text/plain": [
       "(5, 2, '-1', [4, 2, 1], 'pasa')"
      ]
     },
     "execution_count": 75,
     "metadata": {},
     "output_type": "execute_result"
    }
   ],
   "source": [
    "variable"
   ]
  },
  {
   "cell_type": "code",
   "execution_count": 76,
   "id": "51c97960-8ada-476d-8d62-78ea0b7fc142",
   "metadata": {},
   "outputs": [
    {
     "data": {
      "text/plain": [
       "(2, '-1', [4, 2, 1])"
      ]
     },
     "execution_count": 76,
     "metadata": {},
     "output_type": "execute_result"
    }
   ],
   "source": [
    "variable[-4:4]"
   ]
  },
  {
   "cell_type": "code",
   "execution_count": 79,
   "id": "867212e7-965e-4dc9-8c87-3ac3fcf6b9ef",
   "metadata": {},
   "outputs": [
    {
     "data": {
      "text/plain": [
       "(5, 2)"
      ]
     },
     "execution_count": 79,
     "metadata": {},
     "output_type": "execute_result"
    }
   ],
   "source": [
    "tupla=(5,2)\n",
    "tupla"
   ]
  },
  {
   "cell_type": "code",
   "execution_count": 81,
   "id": "aceff8bc-6d40-4094-9a29-7dc74eaff398",
   "metadata": {},
   "outputs": [
    {
     "data": {
      "text/plain": [
       "2"
      ]
     },
     "execution_count": 81,
     "metadata": {},
     "output_type": "execute_result"
    }
   ],
   "source": [
    "len(tupla)"
   ]
  },
  {
   "cell_type": "code",
   "execution_count": null,
   "id": "4b53fbbd-e961-404f-aec6-423a99342dfd",
   "metadata": {},
   "outputs": [],
   "source": [
    "tupla=(5)\n",
    "## no lo lee como tupla, sino como una variable llamada tupla"
   ]
  },
  {
   "cell_type": "code",
   "execution_count": 83,
   "id": "6e046817-0422-4162-ab0f-b77e0ca00920",
   "metadata": {},
   "outputs": [
    {
     "data": {
      "text/plain": [
       "tuple"
      ]
     },
     "execution_count": 83,
     "metadata": {},
     "output_type": "execute_result"
    }
   ],
   "source": [
    "tupla=(5,)\n",
    "tupla\n",
    "type (tupla)"
   ]
  },
  {
   "cell_type": "code",
   "execution_count": 84,
   "id": "34e5411b-ec0e-4874-b895-b71dab794ed2",
   "metadata": {},
   "outputs": [],
   "source": [
    "t1,t2,t3=(4,5),(6,7),(8,9)"
   ]
  },
  {
   "cell_type": "code",
   "execution_count": 87,
   "id": "d40cfa0c-8afa-4d7d-8c66-2034ec9f172a",
   "metadata": {},
   "outputs": [
    {
     "data": {
      "text/plain": [
       "(6, 7, 6, 7, 6, 7)"
      ]
     },
     "execution_count": 87,
     "metadata": {},
     "output_type": "execute_result"
    }
   ],
   "source": [
    "3*t2"
   ]
  },
  {
   "cell_type": "code",
   "execution_count": 88,
   "id": "5a3e4d87-5e43-465f-ae0b-b524054f747c",
   "metadata": {},
   "outputs": [
    {
     "data": {
      "text/plain": [
       "7"
      ]
     },
     "execution_count": 88,
     "metadata": {},
     "output_type": "execute_result"
    }
   ],
   "source": [
    "(3*t2)[3]"
   ]
  },
  {
   "cell_type": "code",
   "execution_count": 91,
   "id": "759a29f1-9c98-4327-82c0-dbff3c6bdd11",
   "metadata": {},
   "outputs": [
    {
     "data": {
      "text/plain": [
       "[7, 7, 7]"
      ]
     },
     "execution_count": 91,
     "metadata": {},
     "output_type": "execute_result"
    }
   ],
   "source": [
    "3*[(3*t2)[3]]"
   ]
  },
  {
   "cell_type": "code",
   "execution_count": 92,
   "id": "a5e62b96-44fc-40ab-a626-6d17b45291d2",
   "metadata": {},
   "outputs": [
    {
     "data": {
      "text/plain": [
       "[7, 7, 7]"
      ]
     },
     "execution_count": 92,
     "metadata": {},
     "output_type": "execute_result"
    }
   ],
   "source": [
    "[(3*t2)[3]]*3"
   ]
  },
  {
   "cell_type": "markdown",
   "id": "36976f22-938b-479c-872f-fbaa733cd7fc",
   "metadata": {},
   "source": [
    "## Mapping: diccionarios "
   ]
  },
  {
   "cell_type": "code",
   "execution_count": 93,
   "id": "9a024fa5-938d-4eab-aa57-d763d223a94d",
   "metadata": {},
   "outputs": [
    {
     "data": {
      "text/plain": [
       "{'key': 'valor'}"
      ]
     },
     "execution_count": 93,
     "metadata": {},
     "output_type": "execute_result"
    }
   ],
   "source": [
    "diccionario = {\"key\":\"valor\"}\n",
    "diccionario"
   ]
  },
  {
   "cell_type": "code",
   "execution_count": 94,
   "id": "4c7df530-6fbe-4ac6-b4c2-741442ec9b23",
   "metadata": {},
   "outputs": [
    {
     "data": {
      "text/plain": [
       "dict"
      ]
     },
     "execution_count": 94,
     "metadata": {},
     "output_type": "execute_result"
    }
   ],
   "source": [
    "type(diccionario)"
   ]
  },
  {
   "cell_type": "code",
   "execution_count": 96,
   "id": "ed69bfea-41b5-4386-a328-b54ce1fab964",
   "metadata": {},
   "outputs": [
    {
     "data": {
      "text/plain": [
       "{'key': 'valor', 'llave2': 'valor 2', 'llave3': 5, 'llave4': 2.3, '2': '[4 5]'}"
      ]
     },
     "execution_count": 96,
     "metadata": {},
     "output_type": "execute_result"
    }
   ],
   "source": [
    "diccionario = {\"key\":\"valor\",\"llave2\":\"valor 2\",\"llave3\":5, \"llave4\":2.3,\"2\":\"[4 5]\"}\n",
    "diccionario"
   ]
  },
  {
   "cell_type": "code",
   "execution_count": 97,
   "id": "62ea034b-f46e-41d2-af49-57bb7ad8c981",
   "metadata": {},
   "outputs": [
    {
     "data": {
      "text/plain": [
       "'valor 2'"
      ]
     },
     "execution_count": 97,
     "metadata": {},
     "output_type": "execute_result"
    }
   ],
   "source": [
    "diccionario [\"llave2\"]"
   ]
  },
  {
   "cell_type": "code",
   "execution_count": 98,
   "id": "3fa747f6-0b83-4e94-9595-2c348a07485b",
   "metadata": {},
   "outputs": [
    {
     "data": {
      "text/plain": [
       "dict_keys(['key', 'llave2', 'llave3', 'llave4', '2'])"
      ]
     },
     "execution_count": 98,
     "metadata": {},
     "output_type": "execute_result"
    }
   ],
   "source": [
    "diccionario.keys() ## estamos utilizando método \"keys\""
   ]
  },
  {
   "cell_type": "code",
   "execution_count": 99,
   "id": "99bc7345-20f0-4b79-a9f6-b054e0ef2a71",
   "metadata": {},
   "outputs": [
    {
     "data": {
      "text/plain": [
       "dict_values(['valor', 'valor 2', 5, 2.3, '[4 5]'])"
      ]
     },
     "execution_count": 99,
     "metadata": {},
     "output_type": "execute_result"
    }
   ],
   "source": [
    "diccionario.values()  ## estamos utilizando método \"valores\""
   ]
  },
  {
   "cell_type": "code",
   "execution_count": 100,
   "id": "287df9b2-8a53-4ca2-bc3f-4ff70c30f184",
   "metadata": {},
   "outputs": [
    {
     "data": {
      "text/plain": [
       "dict_values(['valor', 'valor 2', 5, 2.3, '[4 5]'])"
      ]
     },
     "execution_count": 100,
     "metadata": {},
     "output_type": "execute_result"
    }
   ],
   "source": [
    "var = diccionario.values()\n",
    "var"
   ]
  },
  {
   "cell_type": "code",
   "execution_count": 101,
   "id": "0a2f1058-afcb-4621-b48b-70fbfc08097b",
   "metadata": {},
   "outputs": [
    {
     "data": {
      "text/plain": [
       "dict_values"
      ]
     },
     "execution_count": 101,
     "metadata": {},
     "output_type": "execute_result"
    }
   ],
   "source": [
    "type(var)"
   ]
  },
  {
   "cell_type": "code",
   "execution_count": null,
   "id": "7996ab70-1f7b-470f-87f9-2df908f56917",
   "metadata": {},
   "outputs": [],
   "source": [
    "##convertir a otros tipos de datos"
   ]
  },
  {
   "cell_type": "code",
   "execution_count": 103,
   "id": "6d185b65-4534-447c-95a2-fb26cb1a119c",
   "metadata": {},
   "outputs": [
    {
     "data": {
      "text/plain": [
       "['valor', 'valor 2', 5, 2.3, '[4 5]']"
      ]
     },
     "execution_count": 103,
     "metadata": {},
     "output_type": "execute_result"
    }
   ],
   "source": [
    "list(var)"
   ]
  },
  {
   "cell_type": "code",
   "execution_count": 106,
   "id": "3807a836-878b-4e69-bf0c-9ef51c8ee52e",
   "metadata": {},
   "outputs": [
    {
     "data": {
      "text/plain": [
       "{'key': 'valor',\n",
       " 'llave2': 'valor 2',\n",
       " 'llave3': 5,\n",
       " 'llave4': 2.3,\n",
       " '2': '[4 5]',\n",
       " 'llave': 45}"
      ]
     },
     "execution_count": 106,
     "metadata": {},
     "output_type": "execute_result"
    }
   ],
   "source": [
    "diccionario[\"llave\"]=45\n",
    "diccionario"
   ]
  },
  {
   "cell_type": "code",
   "execution_count": 107,
   "id": "4f8a7312-f4f2-453e-b230-6df75182ae42",
   "metadata": {},
   "outputs": [
    {
     "data": {
      "text/plain": [
       "{'key': 'valor',\n",
       " 'llave2': 'valor 2',\n",
       " 'llave3': 5,\n",
       " 'llave4': 2.3,\n",
       " '2': '[4 5]',\n",
       " 'llave': 45,\n",
       " 'vamonos': 'a mimir'}"
      ]
     },
     "execution_count": 107,
     "metadata": {},
     "output_type": "execute_result"
    }
   ],
   "source": [
    "diccionario[\"vamonos\"]=\"a mimir\"\n",
    "diccionario"
   ]
  },
  {
   "cell_type": "code",
   "execution_count": 108,
   "id": "2c4763b9-f151-4fcc-af80-0379a04147b2",
   "metadata": {},
   "outputs": [
    {
     "data": {
      "text/plain": [
       "'a mimir'"
      ]
     },
     "execution_count": 108,
     "metadata": {},
     "output_type": "execute_result"
    }
   ],
   "source": [
    "diccionario.pop(\"vamonos\")"
   ]
  },
  {
   "cell_type": "code",
   "execution_count": 109,
   "id": "7299dd31-d8a5-4f9f-98b6-356beb4b1d07",
   "metadata": {},
   "outputs": [
    {
     "data": {
      "text/plain": [
       "{'key': 'valor',\n",
       " 'llave2': 'valor 2',\n",
       " 'llave3': 5,\n",
       " 'llave4': 2.3,\n",
       " '2': '[4 5]',\n",
       " 'llave': 45}"
      ]
     },
     "execution_count": 109,
     "metadata": {},
     "output_type": "execute_result"
    }
   ],
   "source": [
    "diccionario"
   ]
  }
 ],
 "metadata": {
  "kernelspec": {
   "display_name": "Python 3 (ipykernel)",
   "language": "python",
   "name": "python3"
  },
  "language_info": {
   "codemirror_mode": {
    "name": "ipython",
    "version": 3
   },
   "file_extension": ".py",
   "mimetype": "text/x-python",
   "name": "python",
   "nbconvert_exporter": "python",
   "pygments_lexer": "ipython3",
   "version": "3.10.4"
  }
 },
 "nbformat": 4,
 "nbformat_minor": 5
}
