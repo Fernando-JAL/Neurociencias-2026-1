{
 "cells": [
  {
   "cell_type": "code",
   "execution_count": 17,
   "id": "c53843a9-7987-491b-8f8d-36e5d29d4559",
   "metadata": {},
   "outputs": [],
   "source": [
    "import pandas as pd"
   ]
  },
  {
   "cell_type": "code",
   "execution_count": 24,
   "id": "400459d3-d407-405a-b3a4-81e33119e4d8",
   "metadata": {},
   "outputs": [
    {
     "data": {
      "text/plain": [
       "'C:\\\\Users\\\\rayom\\\\OneDrive\\\\Documentos\\\\GitHub\\\\Neurociencias-2026-1\\\\S03_datasets\\\\EEG.xlsx'"
      ]
     },
     "execution_count": 24,
     "metadata": {},
     "output_type": "execute_result"
    }
   ],
   "source": [
    "excel_path_file = r\"C:\\Users\\rayom\\OneDrive\\Documentos\\GitHub\\Neurociencias-2026-1\\S03_datasets\\EEG.xlsx\"\n",
    "excel_path_file"
   ]
  },
  {
   "cell_type": "code",
   "execution_count": 19,
   "id": "de511009-a1b1-4dcb-af60-d321f2d94788",
   "metadata": {},
   "outputs": [],
   "source": [
    "pd.read_excel(excel_path_file, sheet_name= \"coherence_chbmit_interictal\");"
   ]
  },
  {
   "cell_type": "code",
   "execution_count": 20,
   "id": "906e3315-b3b5-4540-b0bc-64034a048a19",
   "metadata": {},
   "outputs": [],
   "source": [
    "excel_file_dict=pd.read_excel(excel_path_file, sheet_name=None)"
   ]
  },
  {
   "cell_type": "code",
   "execution_count": 21,
   "id": "598fa746-3305-4c0e-99a3-2cb490b7685a",
   "metadata": {},
   "outputs": [
    {
     "data": {
      "text/plain": [
       "dict"
      ]
     },
     "execution_count": 21,
     "metadata": {},
     "output_type": "execute_result"
    }
   ],
   "source": [
    "type(excel_file_dict)"
   ]
  },
  {
   "cell_type": "code",
   "execution_count": 22,
   "id": "197dff54-6cb5-4f8a-b00d-800e9b9fc413",
   "metadata": {},
   "outputs": [
    {
     "data": {
      "text/plain": [
       "dict_keys(['coherence_motorimagery_alpha', 'coherence_chbmit_interictal', 'coherence_chbmit_ictal'])"
      ]
     },
     "execution_count": 22,
     "metadata": {},
     "output_type": "execute_result"
    }
   ],
   "source": [
    "excel_file_dict.keys()"
   ]
  },
  {
   "cell_type": "code",
   "execution_count": 26,
   "id": "8a739d04-3fe3-45f1-b882-56e24a52280b",
   "metadata": {},
   "outputs": [],
   "source": [
    "variable = excel_file_dict['coherence_chbmit_interictal']"
   ]
  },
  {
   "cell_type": "code",
   "execution_count": 27,
   "id": "cb806301-817e-4d4e-8043-1a34a7be0926",
   "metadata": {},
   "outputs": [
    {
     "data": {
      "text/html": [
       "<div>\n",
       "<style scoped>\n",
       "    .dataframe tbody tr th:only-of-type {\n",
       "        vertical-align: middle;\n",
       "    }\n",
       "\n",
       "    .dataframe tbody tr th {\n",
       "        vertical-align: top;\n",
       "    }\n",
       "\n",
       "    .dataframe thead th {\n",
       "        text-align: right;\n",
       "    }\n",
       "</style>\n",
       "<table border=\"1\" class=\"dataframe\">\n",
       "  <thead>\n",
       "    <tr style=\"text-align: right;\">\n",
       "      <th></th>\n",
       "      <th>Unnamed: 0</th>\n",
       "      <th>FP1</th>\n",
       "      <th>F7</th>\n",
       "      <th>T3</th>\n",
       "      <th>C3</th>\n",
       "      <th>C4</th>\n",
       "      <th>T4</th>\n",
       "      <th>F8</th>\n",
       "      <th>FP2</th>\n",
       "    </tr>\n",
       "  </thead>\n",
       "  <tbody>\n",
       "    <tr>\n",
       "      <th>0</th>\n",
       "      <td>FP1</td>\n",
       "      <td>1.00</td>\n",
       "      <td>0.25</td>\n",
       "      <td>0.18</td>\n",
       "      <td>0.12</td>\n",
       "      <td>0.10</td>\n",
       "      <td>0.09</td>\n",
       "      <td>0.07</td>\n",
       "      <td>0.06</td>\n",
       "    </tr>\n",
       "    <tr>\n",
       "      <th>1</th>\n",
       "      <td>F7</td>\n",
       "      <td>0.25</td>\n",
       "      <td>1.00</td>\n",
       "      <td>0.20</td>\n",
       "      <td>0.15</td>\n",
       "      <td>0.12</td>\n",
       "      <td>0.10</td>\n",
       "      <td>0.08</td>\n",
       "      <td>0.07</td>\n",
       "    </tr>\n",
       "    <tr>\n",
       "      <th>2</th>\n",
       "      <td>T3</td>\n",
       "      <td>0.18</td>\n",
       "      <td>0.20</td>\n",
       "      <td>1.00</td>\n",
       "      <td>0.28</td>\n",
       "      <td>0.22</td>\n",
       "      <td>0.18</td>\n",
       "      <td>0.11</td>\n",
       "      <td>0.10</td>\n",
       "    </tr>\n",
       "    <tr>\n",
       "      <th>3</th>\n",
       "      <td>C3</td>\n",
       "      <td>0.12</td>\n",
       "      <td>0.15</td>\n",
       "      <td>0.28</td>\n",
       "      <td>1.00</td>\n",
       "      <td>0.30</td>\n",
       "      <td>0.25</td>\n",
       "      <td>0.12</td>\n",
       "      <td>0.11</td>\n",
       "    </tr>\n",
       "    <tr>\n",
       "      <th>4</th>\n",
       "      <td>C4</td>\n",
       "      <td>0.10</td>\n",
       "      <td>0.12</td>\n",
       "      <td>0.22</td>\n",
       "      <td>0.30</td>\n",
       "      <td>1.00</td>\n",
       "      <td>0.35</td>\n",
       "      <td>0.14</td>\n",
       "      <td>0.13</td>\n",
       "    </tr>\n",
       "    <tr>\n",
       "      <th>5</th>\n",
       "      <td>T4</td>\n",
       "      <td>0.09</td>\n",
       "      <td>0.10</td>\n",
       "      <td>0.18</td>\n",
       "      <td>0.25</td>\n",
       "      <td>0.35</td>\n",
       "      <td>1.00</td>\n",
       "      <td>0.13</td>\n",
       "      <td>0.12</td>\n",
       "    </tr>\n",
       "    <tr>\n",
       "      <th>6</th>\n",
       "      <td>F8</td>\n",
       "      <td>0.07</td>\n",
       "      <td>0.08</td>\n",
       "      <td>0.11</td>\n",
       "      <td>0.12</td>\n",
       "      <td>0.14</td>\n",
       "      <td>0.13</td>\n",
       "      <td>1.00</td>\n",
       "      <td>0.40</td>\n",
       "    </tr>\n",
       "    <tr>\n",
       "      <th>7</th>\n",
       "      <td>FP2</td>\n",
       "      <td>0.06</td>\n",
       "      <td>0.07</td>\n",
       "      <td>0.10</td>\n",
       "      <td>0.11</td>\n",
       "      <td>0.13</td>\n",
       "      <td>0.12</td>\n",
       "      <td>0.40</td>\n",
       "      <td>1.00</td>\n",
       "    </tr>\n",
       "  </tbody>\n",
       "</table>\n",
       "</div>"
      ],
      "text/plain": [
       "  Unnamed: 0   FP1    F7    T3    C3    C4    T4    F8   FP2\n",
       "0        FP1  1.00  0.25  0.18  0.12  0.10  0.09  0.07  0.06\n",
       "1         F7  0.25  1.00  0.20  0.15  0.12  0.10  0.08  0.07\n",
       "2         T3  0.18  0.20  1.00  0.28  0.22  0.18  0.11  0.10\n",
       "3         C3  0.12  0.15  0.28  1.00  0.30  0.25  0.12  0.11\n",
       "4         C4  0.10  0.12  0.22  0.30  1.00  0.35  0.14  0.13\n",
       "5         T4  0.09  0.10  0.18  0.25  0.35  1.00  0.13  0.12\n",
       "6         F8  0.07  0.08  0.11  0.12  0.14  0.13  1.00  0.40\n",
       "7        FP2  0.06  0.07  0.10  0.11  0.13  0.12  0.40  1.00"
      ]
     },
     "execution_count": 27,
     "metadata": {},
     "output_type": "execute_result"
    }
   ],
   "source": [
    "variable"
   ]
  },
  {
   "cell_type": "code",
   "execution_count": null,
   "id": "07a77301-1855-4a9a-8b3b-da92a2c0c2d6",
   "metadata": {},
   "outputs": [],
   "source": [
    "# Que es la conectividad funcional y efectiva y cuales son las métricas para generar la matriz de conectividad"
   ]
  },
  {
   "cell_type": "code",
   "execution_count": null,
   "id": "fd9c3649-ba18-48b7-9ebb-b898218c2cda",
   "metadata": {},
   "outputs": [],
   "source": []
  },
  {
   "cell_type": "code",
   "execution_count": null,
   "id": "ab6267aa-9db7-4cba-ae10-38ecf95278aa",
   "metadata": {},
   "outputs": [],
   "source": []
  },
  {
   "cell_type": "code",
   "execution_count": null,
   "id": "b162a9e5-0328-4f42-9c6d-6d78e244071d",
   "metadata": {},
   "outputs": [],
   "source": []
  },
  {
   "cell_type": "code",
   "execution_count": null,
   "id": "0acebb3a-21f3-4477-9f48-848436e086a3",
   "metadata": {},
   "outputs": [],
   "source": []
  },
  {
   "cell_type": "code",
   "execution_count": null,
   "id": "404778ec-5143-4e44-af6c-3c9b0fd04cfb",
   "metadata": {},
   "outputs": [],
   "source": []
  },
  {
   "cell_type": "code",
   "execution_count": null,
   "id": "5aa23f98-35db-4c5d-a49c-bb027a7281d9",
   "metadata": {},
   "outputs": [],
   "source": []
  }
 ],
 "metadata": {
  "kernelspec": {
   "display_name": "Python 3 (ipykernel)",
   "language": "python",
   "name": "python3"
  },
  "language_info": {
   "codemirror_mode": {
    "name": "ipython",
    "version": 3
   },
   "file_extension": ".py",
   "mimetype": "text/x-python",
   "name": "python",
   "nbconvert_exporter": "python",
   "pygments_lexer": "ipython3",
   "version": "3.10.4"
  }
 },
 "nbformat": 4,
 "nbformat_minor": 5
}
