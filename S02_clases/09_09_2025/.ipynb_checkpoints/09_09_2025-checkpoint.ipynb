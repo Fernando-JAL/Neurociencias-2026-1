{
 "cells": [
  {
   "cell_type": "code",
   "execution_count": 2,
   "id": "446eab3f-1d63-4ba2-83bd-34a8a042774b",
   "metadata": {},
   "outputs": [],
   "source": [
    "import numpy as np"
   ]
  },
  {
   "cell_type": "code",
   "execution_count": 4,
   "id": "145e6ee6-72aa-4f1a-8734-0409bbf74fcd",
   "metadata": {},
   "outputs": [
    {
     "name": "stdout",
     "output_type": "stream",
     "text": [
      "Value = {'string', 5}, data type = <class 'numpy.ndarray'>\n"
     ]
    }
   ],
   "source": [
    "# convertir datos a arreglos\n",
    "value = np.array({5, 'string'})\n",
    "print(f\"Value = {value}, data type = {type(value)}\")"
   ]
  },
  {
   "cell_type": "code",
   "execution_count": 8,
   "id": "4cb01810-e9c1-4b2d-866d-27ce3ae56925",
   "metadata": {},
   "outputs": [
    {
     "data": {
      "text/plain": [
       "array([-5, -4, -3, -2])"
      ]
     },
     "execution_count": 8,
     "metadata": {},
     "output_type": "execute_result"
    }
   ],
   "source": [
    "np.array(range(-7, 6))[2:6]"
   ]
  },
  {
   "cell_type": "code",
   "execution_count": 12,
   "id": "4955a684-b6c8-477d-ab7c-c4bd5f1d003e",
   "metadata": {},
   "outputs": [
    {
     "data": {
      "text/plain": [
       "(array([0, 1, 2, 3, 4]), array([-10,  -9,  -8,  -7,  -6]))"
      ]
     },
     "execution_count": 12,
     "metadata": {},
     "output_type": "execute_result"
    }
   ],
   "source": [
    "a, b = np.arange(5), np.arange(-10, -5)\n",
    "a, b"
   ]
  },
  {
   "cell_type": "code",
   "execution_count": 13,
   "id": "8a275f1c-020d-43de-a6ad-00a7aedae6d4",
   "metadata": {},
   "outputs": [
    {
     "data": {
      "text/plain": [
       "array([-10,  -8,  -6,  -4,  -2])"
      ]
     },
     "execution_count": 13,
     "metadata": {},
     "output_type": "execute_result"
    }
   ],
   "source": [
    "a + b"
   ]
  },
  {
   "cell_type": "code",
   "execution_count": 14,
   "id": "bd1fd4ea-0cb9-4e7b-b42e-613fdc369978",
   "metadata": {},
   "outputs": [
    {
     "data": {
      "text/plain": [
       "array([-10, -10, -10, -10, -10])"
      ]
     },
     "execution_count": 14,
     "metadata": {},
     "output_type": "execute_result"
    }
   ],
   "source": [
    "b - a"
   ]
  },
  {
   "cell_type": "code",
   "execution_count": 15,
   "id": "a26f625b-1a07-4336-99ac-9232bc0f6e3b",
   "metadata": {},
   "outputs": [
    {
     "data": {
      "text/plain": [
       "array([ 0,  6, 12, 18, 24])"
      ]
     },
     "execution_count": 15,
     "metadata": {},
     "output_type": "execute_result"
    }
   ],
   "source": [
    "6*a"
   ]
  },
  {
   "cell_type": "code",
   "execution_count": 16,
   "id": "ffc17e2a-33fb-4c39-b3a3-533a83ca4d1a",
   "metadata": {},
   "outputs": [
    {
     "data": {
      "text/plain": [
       "array([-3.33333333, -3.        , -2.66666667, -2.33333333, -2.        ])"
      ]
     },
     "execution_count": 16,
     "metadata": {},
     "output_type": "execute_result"
    }
   ],
   "source": [
    "b/3"
   ]
  },
  {
   "cell_type": "code",
   "execution_count": 17,
   "id": "8afe96bf-8c1e-477f-9139-308f0c961300",
   "metadata": {},
   "outputs": [
    {
     "data": {
      "text/plain": [
       "array([18, 19, 20, 21, 22])"
      ]
     },
     "execution_count": 17,
     "metadata": {},
     "output_type": "execute_result"
    }
   ],
   "source": [
    "a + 18"
   ]
  },
  {
   "cell_type": "code",
   "execution_count": 18,
   "id": "4ae691e4-4972-492a-b5b8-53899b4ddac2",
   "metadata": {},
   "outputs": [
    {
     "data": {
      "text/plain": [
       "array([-18, -17, -16, -15, -14])"
      ]
     },
     "execution_count": 18,
     "metadata": {},
     "output_type": "execute_result"
    }
   ],
   "source": [
    "a - 18"
   ]
  },
  {
   "cell_type": "code",
   "execution_count": 19,
   "id": "99337bcf-1e42-4e90-8a34-1132ac923945",
   "metadata": {},
   "outputs": [
    {
     "data": {
      "text/plain": [
       "array([  0,  -9, -16, -21, -24])"
      ]
     },
     "execution_count": 19,
     "metadata": {},
     "output_type": "execute_result"
    }
   ],
   "source": [
    "a * b"
   ]
  },
  {
   "cell_type": "code",
   "execution_count": 20,
   "id": "b3dabca6-35e3-4a92-bcf2-0d2f9fa49089",
   "metadata": {},
   "outputs": [
    {
     "name": "stderr",
     "output_type": "stream",
     "text": [
      "C:\\Users\\V304-18\\AppData\\Local\\Temp\\ipykernel_8364\\2243761560.py:1: RuntimeWarning: divide by zero encountered in divide\n",
      "  b/a\n"
     ]
    },
    {
     "data": {
      "text/plain": [
       "array([       -inf, -9.        , -4.        , -2.33333333, -1.5       ])"
      ]
     },
     "execution_count": 20,
     "metadata": {},
     "output_type": "execute_result"
    }
   ],
   "source": [
    "b/a"
   ]
  },
  {
   "cell_type": "code",
   "execution_count": 21,
   "id": "87d1c74d-d1d5-4d0c-b99a-baf253c11c39",
   "metadata": {},
   "outputs": [
    {
     "data": {
      "text/plain": [
       "array([ 0,  1,  4,  9, 16])"
      ]
     },
     "execution_count": 21,
     "metadata": {},
     "output_type": "execute_result"
    }
   ],
   "source": [
    "a**2\n",
    "# al cuadrado"
   ]
  },
  {
   "cell_type": "code",
   "execution_count": 23,
   "id": "3b0d49fb-4d50-4bee-8c1a-7cfa19c414db",
   "metadata": {},
   "outputs": [
    {
     "data": {
      "text/plain": [
       "array([0.        , 1.        , 1.41421356, 1.73205081, 2.        ])"
      ]
     },
     "execution_count": 23,
     "metadata": {},
     "output_type": "execute_result"
    }
   ],
   "source": [
    "a**(1/2)\n",
    "# raiz cuadrada"
   ]
  },
  {
   "cell_type": "code",
   "execution_count": 25,
   "id": "20320ade-c579-4b01-844f-2ef8d2a974a1",
   "metadata": {},
   "outputs": [
    {
     "data": {
      "text/plain": [
       "array([   1,   -9,   64, -343, 1296])"
      ]
     },
     "execution_count": 25,
     "metadata": {},
     "output_type": "execute_result"
    }
   ],
   "source": [
    "b**a\n",
    "# elevarlo potencia"
   ]
  },
  {
   "cell_type": "code",
   "execution_count": 26,
   "id": "4bdd7537-60a8-49eb-b70f-cc2245b57749",
   "metadata": {},
   "outputs": [
    {
     "name": "stderr",
     "output_type": "stream",
     "text": [
      "C:\\Users\\V304-18\\AppData\\Local\\Temp\\ipykernel_8364\\3261360213.py:1: RuntimeWarning: divide by zero encountered in divide\n",
      "  b**(1/a)\n",
      "C:\\Users\\V304-18\\AppData\\Local\\Temp\\ipykernel_8364\\3261360213.py:1: RuntimeWarning: invalid value encountered in power\n",
      "  b**(1/a)\n"
     ]
    },
    {
     "data": {
      "text/plain": [
       "array([inf, -9., nan, nan, nan])"
      ]
     },
     "execution_count": 26,
     "metadata": {},
     "output_type": "execute_result"
    }
   ],
   "source": [
    "b**(1/a)"
   ]
  },
  {
   "cell_type": "code",
   "execution_count": 27,
   "id": "7d208106-6503-4387-9d88-efb9661226d0",
   "metadata": {},
   "outputs": [
    {
     "data": {
      "text/plain": [
       "-0.0001286008230452675"
      ]
     },
     "execution_count": 27,
     "metadata": {},
     "output_type": "execute_result"
    }
   ],
   "source": [
    "(-6)**(-5)"
   ]
  },
  {
   "cell_type": "code",
   "execution_count": 28,
   "id": "b4351691-28e2-4368-af40-311c1510a331",
   "metadata": {},
   "outputs": [
    {
     "data": {
      "text/plain": [
       "3.0"
      ]
     },
     "execution_count": 28,
     "metadata": {},
     "output_type": "execute_result"
    }
   ],
   "source": [
    "27**(1/3)"
   ]
  },
  {
   "cell_type": "code",
   "execution_count": 29,
   "id": "ad323373-901e-4de8-bcd0-f9c1ef004c0e",
   "metadata": {},
   "outputs": [
    {
     "data": {
      "text/plain": [
       "11.0"
      ]
     },
     "execution_count": 29,
     "metadata": {},
     "output_type": "execute_result"
    }
   ],
   "source": [
    "121**(1/2)"
   ]
  },
  {
   "cell_type": "code",
   "execution_count": 30,
   "id": "4e3c1716-1bfa-4a35-b025-044700c580d3",
   "metadata": {},
   "outputs": [
    {
     "data": {
      "text/plain": [
       "array([ 5, 10])"
      ]
     },
     "execution_count": 30,
     "metadata": {},
     "output_type": "execute_result"
    }
   ],
   "source": [
    "vec = np.array([5, 10])\n",
    "vec"
   ]
  },
  {
   "cell_type": "code",
   "execution_count": 31,
   "id": "cbf72a36-6de9-4a7f-b64f-b0e1527df9da",
   "metadata": {},
   "outputs": [
    {
     "data": {
      "text/plain": [
       "array([ 5, 10])"
      ]
     },
     "execution_count": 31,
     "metadata": {},
     "output_type": "execute_result"
    }
   ],
   "source": [
    "vec.transpose()"
   ]
  },
  {
   "cell_type": "code",
   "execution_count": 34,
   "id": "8d7e9bb4-b34d-442d-af1c-ee5c47217621",
   "metadata": {},
   "outputs": [
    {
     "data": {
      "text/plain": [
       "array([[ 4, -1],\n",
       "       [-7,  2]])"
      ]
     },
     "execution_count": 34,
     "metadata": {},
     "output_type": "execute_result"
    }
   ],
   "source": [
    "vec2D = np.array([[4, -1], [-7, 2]])\n",
    "vec2D"
   ]
  },
  {
   "cell_type": "code",
   "execution_count": 35,
   "id": "5e381540-e459-4adf-a9c3-b7380b9aa40c",
   "metadata": {},
   "outputs": [
    {
     "data": {
      "text/plain": [
       "(array([[ 4, -7],\n",
       "        [-1,  2]]),\n",
       " array([[ 4, -7],\n",
       "        [-1,  2]]))"
      ]
     },
     "execution_count": 35,
     "metadata": {},
     "output_type": "execute_result"
    }
   ],
   "source": [
    "vec2D.transpose(), vec2D.T"
   ]
  },
  {
   "cell_type": "code",
   "execution_count": 38,
   "id": "5c5f1aa8-ce7a-4968-a795-8e9ab97c608f",
   "metadata": {},
   "outputs": [
    {
     "data": {
      "text/plain": [
       "(array([[1, 2],\n",
       "        [3, 4]]),\n",
       " array([[ 4, -1],\n",
       "        [-7,  2]]))"
      ]
     },
     "execution_count": 38,
     "metadata": {},
     "output_type": "execute_result"
    }
   ],
   "source": [
    "vec1 = np.array([[1, 2], [3, 4]])\n",
    "vec1, vec2D"
   ]
  },
  {
   "cell_type": "code",
   "execution_count": 40,
   "id": "1d6b052a-cb24-4f0a-a525-e056f1310018",
   "metadata": {},
   "outputs": [
    {
     "data": {
      "text/plain": [
       "array([[-10,   3],\n",
       "       [-16,   5]])"
      ]
     },
     "execution_count": 40,
     "metadata": {},
     "output_type": "execute_result"
    }
   ],
   "source": [
    "resultado = vec1 @ vec2D\n",
    "resultado"
   ]
  },
  {
   "cell_type": "code",
   "execution_count": 50,
   "id": "c568359e-6715-414c-99db-81e57991efa0",
   "metadata": {},
   "outputs": [
    {
     "data": {
      "text/plain": [
       "np.int64(-16)"
      ]
     },
     "execution_count": 50,
     "metadata": {},
     "output_type": "execute_result"
    }
   ],
   "source": [
    "resultado [1][0]"
   ]
  },
  {
   "cell_type": "code",
   "execution_count": 52,
   "id": "cb62c4b8-5d47-4cbe-b3c8-07b2d0179341",
   "metadata": {},
   "outputs": [],
   "source": [
    "matriz = np.array([[0, 5, 10], [15, 20, 25], [99, 35, 40]])"
   ]
  },
  {
   "cell_type": "code",
   "execution_count": 53,
   "id": "d23d0d92-1ff4-40f4-a336-1b801dd3cb58",
   "metadata": {},
   "outputs": [
    {
     "data": {
      "text/plain": [
       "np.int64(5)"
      ]
     },
     "execution_count": 53,
     "metadata": {},
     "output_type": "execute_result"
    }
   ],
   "source": [
    "matriz [0][1]"
   ]
  },
  {
   "cell_type": "code",
   "execution_count": 54,
   "id": "839860d1-d529-4a9f-a418-8c962d6ef25c",
   "metadata": {},
   "outputs": [
    {
     "data": {
      "text/plain": [
       "array([99, 35])"
      ]
     },
     "execution_count": 54,
     "metadata": {},
     "output_type": "execute_result"
    }
   ],
   "source": [
    "matriz [2][0:-1]"
   ]
  },
  {
   "cell_type": "code",
   "execution_count": 55,
   "id": "fac59390-5cb4-4404-b146-d74b6497de45",
   "metadata": {},
   "outputs": [
    {
     "data": {
      "text/plain": [
       "array([[ 0,  5, 10],\n",
       "       [15, 20, 25],\n",
       "       [99, 35, 40]])"
      ]
     },
     "execution_count": 55,
     "metadata": {},
     "output_type": "execute_result"
    }
   ],
   "source": [
    "matriz [:][:]"
   ]
  },
  {
   "cell_type": "code",
   "execution_count": 58,
   "id": "376f2bbe-9f30-4f3f-980a-e5285f5f2de4",
   "metadata": {},
   "outputs": [
    {
     "data": {
      "text/plain": [
       "array([[15, 20, 25],\n",
       "       [99, 35, 40]])"
      ]
     },
     "execution_count": 58,
     "metadata": {},
     "output_type": "execute_result"
    }
   ],
   "source": [
    "matriz[1:]"
   ]
  },
  {
   "cell_type": "code",
   "execution_count": 59,
   "id": "c8811737-415c-403a-9c94-649934a43fd7",
   "metadata": {},
   "outputs": [
    {
     "data": {
      "text/plain": [
       "array([[  0,   5,  10],\n",
       "       [-20,  20,  25],\n",
       "       [ 99,  35,  40]])"
      ]
     },
     "execution_count": 59,
     "metadata": {},
     "output_type": "execute_result"
    }
   ],
   "source": [
    "matriz [1][0] = -20\n",
    "matriz"
   ]
  },
  {
   "cell_type": "markdown",
   "id": "b6293e63-43b8-4e86-95e2-b25e6273513a",
   "metadata": {},
   "source": [
    "# tarea\n",
    "Quedarme con la columna de en medio "
   ]
  },
  {
   "cell_type": "code",
   "execution_count": 60,
   "id": "d685b5ad-053f-421f-b322-647ad45f4148",
   "metadata": {},
   "outputs": [
    {
     "name": "stdout",
     "output_type": "stream",
     "text": [
      "0.879356293045676\n",
      "0.38974687055224344\n",
      "0.7216659070629396\n",
      "0.2787954526335352\n",
      "0.133968912966278\n"
     ]
    }
   ],
   "source": [
    "for _ in range(5): \n",
    "    print(np.random.rand()) #generar numeros aleatorios entr 0 y 1"
   ]
  },
  {
   "cell_type": "code",
   "execution_count": 64,
   "id": "5ccf2391-de29-4797-9285-b73bb2757971",
   "metadata": {},
   "outputs": [
    {
     "data": {
      "text/plain": [
       "array([[0.14235709, 0.58049234, 0.70229651],\n",
       "       [0.67564832, 0.2674823 , 0.82463439],\n",
       "       [0.51851524, 0.76358753, 0.39521963],\n",
       "       [0.29876088, 0.86684176, 0.65462146],\n",
       "       [0.57245184, 0.53578137, 0.56499533]])"
      ]
     },
     "execution_count": 64,
     "metadata": {},
     "output_type": "execute_result"
    }
   ],
   "source": [
    "np.random.rand(5, 3)"
   ]
  },
  {
   "cell_type": "code",
   "execution_count": null,
   "id": "55ae789b-bbd9-4b17-9b30-774fb7890462",
   "metadata": {},
   "outputs": [],
   "source": []
  }
 ],
 "metadata": {
  "kernelspec": {
   "display_name": "Python 3 (ipykernel)",
   "language": "python",
   "name": "python3"
  },
  "language_info": {
   "codemirror_mode": {
    "name": "ipython",
    "version": 3
   },
   "file_extension": ".py",
   "mimetype": "text/x-python",
   "name": "python",
   "nbconvert_exporter": "python",
   "pygments_lexer": "ipython3",
   "version": "3.11.1"
  }
 },
 "nbformat": 4,
 "nbformat_minor": 5
}
