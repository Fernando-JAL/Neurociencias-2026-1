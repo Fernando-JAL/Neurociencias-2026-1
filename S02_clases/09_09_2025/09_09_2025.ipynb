{
 "cells": [
  {
   "cell_type": "code",
   "execution_count": 1,
   "id": "2944e88a-7d4f-46c9-8752-89336a4717be",
   "metadata": {},
   "outputs": [],
   "source": [
    "import numpy as np"
   ]
  },
  {
   "cell_type": "code",
   "execution_count": 2,
   "id": "e5171831-fcde-4eba-9643-69cd5cad93ea",
   "metadata": {},
   "outputs": [
    {
     "name": "stdout",
     "output_type": "stream",
     "text": [
      "value = {'string', 5}, data type = <class 'numpy.ndarray'>\n"
     ]
    }
   ],
   "source": [
    "#convertir datos en arreglos \n",
    "value = np.array ({5, 'string'}) \n",
    "print (f\"value = {value}, data type = {type(value)}\") "
   ]
  },
  {
   "cell_type": "code",
   "execution_count": 4,
   "id": "82825206-97fc-4a86-8289-8da8ea0a70a1",
   "metadata": {},
   "outputs": [
    {
     "data": {
      "text/plain": [
       "array([-5, -4, -3, -2])"
      ]
     },
     "execution_count": 4,
     "metadata": {},
     "output_type": "execute_result"
    }
   ],
   "source": [
    "np.array(range(-7, 6))[2:6]"
   ]
  },
  {
   "cell_type": "code",
   "execution_count": 12,
   "id": "ea14c726-6a92-4bb0-8ce7-0767860949b0",
   "metadata": {},
   "outputs": [
    {
     "data": {
      "text/plain": [
       "(array([0, 1, 2, 3, 4]), array([-10,  -9,  -8,  -7,  -6]))"
      ]
     },
     "execution_count": 12,
     "metadata": {},
     "output_type": "execute_result"
    }
   ],
   "source": [
    "a, b = np.arange(5), np.arange (-10, -5) \n",
    "a,b "
   ]
  },
  {
   "cell_type": "code",
   "execution_count": 13,
   "id": "b6f230e5-a1cb-4d50-bd22-2646bb41f7f4",
   "metadata": {},
   "outputs": [
    {
     "data": {
      "text/plain": [
       "array([-10, -10, -10, -10, -10])"
      ]
     },
     "execution_count": 13,
     "metadata": {},
     "output_type": "execute_result"
    }
   ],
   "source": [
    "b-a"
   ]
  },
  {
   "cell_type": "code",
   "execution_count": 14,
   "id": "2f895f13-f63b-417e-be61-3360cd28d51e",
   "metadata": {},
   "outputs": [
    {
     "data": {
      "text/plain": [
       "array([18, 19, 20, 21, 22])"
      ]
     },
     "execution_count": 14,
     "metadata": {},
     "output_type": "execute_result"
    }
   ],
   "source": [
    "a + 18\n"
   ]
  },
  {
   "cell_type": "code",
   "execution_count": 15,
   "id": "64d7d737-08c8-46e4-ac9d-750010db5de9",
   "metadata": {},
   "outputs": [
    {
     "data": {
      "text/plain": [
       "array([  0,  -9, -16, -21, -24])"
      ]
     },
     "execution_count": 15,
     "metadata": {},
     "output_type": "execute_result"
    }
   ],
   "source": [
    "a*b"
   ]
  },
  {
   "cell_type": "code",
   "execution_count": 16,
   "id": "778d4942-82dd-425d-a8af-e3af52deac2e",
   "metadata": {},
   "outputs": [
    {
     "name": "stderr",
     "output_type": "stream",
     "text": [
      "C:\\Users\\Lenovo\\AppData\\Local\\Temp\\ipykernel_5796\\2243761560.py:1: RuntimeWarning: divide by zero encountered in divide\n",
      "  b/a\n"
     ]
    },
    {
     "data": {
      "text/plain": [
       "array([       -inf, -9.        , -4.        , -2.33333333, -1.5       ])"
      ]
     },
     "execution_count": 16,
     "metadata": {},
     "output_type": "execute_result"
    }
   ],
   "source": [
    "b/a"
   ]
  },
  {
   "cell_type": "code",
   "execution_count": 17,
   "id": "f6003e33-a2ed-4951-8d2e-3be2839365ae",
   "metadata": {},
   "outputs": [
    {
     "data": {
      "text/plain": [
       "array([ 0,  1,  4,  9, 16])"
      ]
     },
     "execution_count": 17,
     "metadata": {},
     "output_type": "execute_result"
    }
   ],
   "source": [
    "a**2"
   ]
  },
  {
   "cell_type": "code",
   "execution_count": 18,
   "id": "0156c28f-abb7-483b-af45-f83aacdb8ed5",
   "metadata": {},
   "outputs": [
    {
     "data": {
      "text/plain": [
       "array([0.        , 1.        , 1.25992105, 1.44224957, 1.58740105])"
      ]
     },
     "execution_count": 18,
     "metadata": {},
     "output_type": "execute_result"
    }
   ],
   "source": [
    "a**(1/3)"
   ]
  },
  {
   "cell_type": "code",
   "execution_count": 19,
   "id": "00c0dfca-1e86-481c-927a-2c2c7ab72725",
   "metadata": {},
   "outputs": [
    {
     "data": {
      "text/plain": [
       "array([   1,   -9,   64, -343, 1296])"
      ]
     },
     "execution_count": 19,
     "metadata": {},
     "output_type": "execute_result"
    }
   ],
   "source": [
    "b**a"
   ]
  },
  {
   "cell_type": "code",
   "execution_count": 20,
   "id": "df2b1428-1d77-4768-a368-c4cf08230ad3",
   "metadata": {},
   "outputs": [
    {
     "name": "stderr",
     "output_type": "stream",
     "text": [
      "C:\\Users\\Lenovo\\AppData\\Local\\Temp\\ipykernel_5796\\3261360213.py:1: RuntimeWarning: divide by zero encountered in divide\n",
      "  b**(1/a)\n",
      "C:\\Users\\Lenovo\\AppData\\Local\\Temp\\ipykernel_5796\\3261360213.py:1: RuntimeWarning: invalid value encountered in power\n",
      "  b**(1/a)\n"
     ]
    },
    {
     "data": {
      "text/plain": [
       "array([inf, -9., nan, nan, nan])"
      ]
     },
     "execution_count": 20,
     "metadata": {},
     "output_type": "execute_result"
    }
   ],
   "source": [
    "b**(1/a)"
   ]
  },
  {
   "cell_type": "code",
   "execution_count": 21,
   "id": "a0d1d309-9a43-4bf4-9599-81b61dbc5256",
   "metadata": {},
   "outputs": [
    {
     "data": {
      "text/plain": [
       "3.0"
      ]
     },
     "execution_count": 21,
     "metadata": {},
     "output_type": "execute_result"
    }
   ],
   "source": [
    "27**(1/3)"
   ]
  },
  {
   "cell_type": "code",
   "execution_count": 22,
   "id": "3fe32765-c37f-4bdf-8528-28da4581bdef",
   "metadata": {},
   "outputs": [
    {
     "data": {
      "text/plain": [
       "11.0"
      ]
     },
     "execution_count": 22,
     "metadata": {},
     "output_type": "execute_result"
    }
   ],
   "source": [
    "121**(1/2)"
   ]
  },
  {
   "cell_type": "code",
   "execution_count": 23,
   "id": "23c26a9f-af8f-4e47-87d7-4f3cb4bde9ee",
   "metadata": {},
   "outputs": [
    {
     "data": {
      "text/plain": [
       "-2.8284271247461903"
      ]
     },
     "execution_count": 23,
     "metadata": {},
     "output_type": "execute_result"
    }
   ],
   "source": [
    "-8**(1/2)"
   ]
  },
  {
   "cell_type": "code",
   "execution_count": 25,
   "id": "5c88bb82-bd14-4db3-a002-457bee385e76",
   "metadata": {},
   "outputs": [
    {
     "data": {
      "text/plain": [
       "array([ 5, 10])"
      ]
     },
     "execution_count": 25,
     "metadata": {},
     "output_type": "execute_result"
    }
   ],
   "source": [
    "vec = np.array ([5, 10])\n",
    "vec"
   ]
  },
  {
   "cell_type": "code",
   "execution_count": 26,
   "id": "8a53bbff-f1bd-4e8f-b42b-d3bf19cde5f6",
   "metadata": {},
   "outputs": [
    {
     "data": {
      "text/plain": [
       "array([ 5, 10])"
      ]
     },
     "execution_count": 26,
     "metadata": {},
     "output_type": "execute_result"
    }
   ],
   "source": [
    "vec.transpose()"
   ]
  },
  {
   "cell_type": "code",
   "execution_count": 33,
   "id": "e77307c2-5b6f-45d9-b680-77764804faf0",
   "metadata": {},
   "outputs": [
    {
     "data": {
      "text/plain": [
       "array([[ 4, -1],\n",
       "       [-7,  2]])"
      ]
     },
     "execution_count": 33,
     "metadata": {},
     "output_type": "execute_result"
    }
   ],
   "source": [
    "vec2D= np.array([[4,-1], [-7,2]])\n",
    "vec2D"
   ]
  },
  {
   "cell_type": "code",
   "execution_count": 28,
   "id": "8fdea4c9-d705-4d3b-8abe-f5d1410ec401",
   "metadata": {},
   "outputs": [
    {
     "data": {
      "text/plain": [
       "(array([[ 4, -7],\n",
       "        [ 1,  2]]),\n",
       " array([[ 4, -7],\n",
       "        [ 1,  2]]))"
      ]
     },
     "execution_count": 28,
     "metadata": {},
     "output_type": "execute_result"
    }
   ],
   "source": [
    "vec2D.transpose(), vec2D.T"
   ]
  },
  {
   "cell_type": "code",
   "execution_count": 34,
   "id": "050cba5f-9ca8-4ab9-b808-b57d35001e79",
   "metadata": {},
   "outputs": [
    {
     "data": {
      "text/plain": [
       "(array([[1, 2],\n",
       "        [3, 4]]),\n",
       " array([[ 4, -1],\n",
       "        [-7,  2]]))"
      ]
     },
     "execution_count": 34,
     "metadata": {},
     "output_type": "execute_result"
    }
   ],
   "source": [
    "vec1= np.array ([[1,2], [3, 4]])\n",
    "vec1, vec2D"
   ]
  },
  {
   "cell_type": "code",
   "execution_count": 35,
   "id": "445fbd18-d7c0-4c3e-a09d-2df08df90909",
   "metadata": {},
   "outputs": [
    {
     "data": {
      "text/plain": [
       "array([[-10,   3],\n",
       "       [-16,   5]])"
      ]
     },
     "execution_count": 35,
     "metadata": {},
     "output_type": "execute_result"
    }
   ],
   "source": [
    "resultado= vec1 @ vec2D\n",
    "resultado"
   ]
  },
  {
   "cell_type": "code",
   "execution_count": 38,
   "id": "330b1ca5-7d8c-4814-995c-a5f23cdb7c7e",
   "metadata": {},
   "outputs": [
    {
     "data": {
      "text/plain": [
       "np.int64(-16)"
      ]
     },
     "execution_count": 38,
     "metadata": {},
     "output_type": "execute_result"
    }
   ],
   "source": [
    "resultado [1][0]"
   ]
  },
  {
   "cell_type": "code",
   "execution_count": 40,
   "id": "ac8cc0c4-1757-4fdd-96f6-5a1ff405edf1",
   "metadata": {},
   "outputs": [],
   "source": [
    "matriz = np.array ([[0,5,10],[15,20,25], [99,35,40]])"
   ]
  },
  {
   "cell_type": "code",
   "execution_count": 41,
   "id": "2e7d3205-8d97-4a6e-94e4-27450728cf4d",
   "metadata": {},
   "outputs": [
    {
     "data": {
      "text/plain": [
       "np.int64(5)"
      ]
     },
     "execution_count": 41,
     "metadata": {},
     "output_type": "execute_result"
    }
   ],
   "source": [
    "matriz [0][1]"
   ]
  },
  {
   "cell_type": "code",
   "execution_count": 42,
   "id": "ba57f875-b9ad-4a57-bf59-ab0d5f7f7f68",
   "metadata": {},
   "outputs": [
    {
     "data": {
      "text/plain": [
       "array([99, 35])"
      ]
     },
     "execution_count": 42,
     "metadata": {},
     "output_type": "execute_result"
    }
   ],
   "source": [
    "matriz [2] [0:-1]"
   ]
  },
  {
   "cell_type": "code",
   "execution_count": 43,
   "id": "3c4eb7d8-1fac-48df-b5fc-e2c2e0847f91",
   "metadata": {},
   "outputs": [
    {
     "data": {
      "text/plain": [
       "array([[ 0,  5, 10],\n",
       "       [15, 20, 25],\n",
       "       [99, 35, 40]])"
      ]
     },
     "execution_count": 43,
     "metadata": {},
     "output_type": "execute_result"
    }
   ],
   "source": [
    "matriz [:][:]"
   ]
  },
  {
   "cell_type": "code",
   "execution_count": 44,
   "id": "1975e20e-aa0c-4895-878a-e7fc9812e329",
   "metadata": {},
   "outputs": [
    {
     "data": {
      "text/plain": [
       "array([[15, 20, 25],\n",
       "       [99, 35, 40]])"
      ]
     },
     "execution_count": 44,
     "metadata": {},
     "output_type": "execute_result"
    }
   ],
   "source": [
    "matriz [1:]"
   ]
  },
  {
   "cell_type": "markdown",
   "id": "c74ff601-1578-4f59-9c97-960f5df58221",
   "metadata": {},
   "source": [
    "# tarea regresar la columna de en medio"
   ]
  },
  {
   "cell_type": "code",
   "execution_count": 46,
   "id": "20a129be-230c-47dd-a033-4364fc934ac6",
   "metadata": {},
   "outputs": [
    {
     "data": {
      "text/plain": [
       "array([[  0,   5,  10],\n",
       "       [-20,  20,  25],\n",
       "       [ 99,  35,  40]])"
      ]
     },
     "execution_count": 46,
     "metadata": {},
     "output_type": "execute_result"
    }
   ],
   "source": [
    "matriz [1][0] = -20\n",
    "matriz"
   ]
  },
  {
   "cell_type": "code",
   "execution_count": 52,
   "id": "f5dec006-814d-4b35-a2fb-3ea0d7986520",
   "metadata": {},
   "outputs": [
    {
     "name": "stdout",
     "output_type": "stream",
     "text": [
      "0.2183861342773452\n",
      "0.0218836459721089\n",
      "0.7102116235312076\n",
      "0.22560961860669648\n",
      "0.13352676659100093\n"
     ]
    }
   ],
   "source": [
    "for _ in range(5):\n",
    "    print(np.random.rand()) #generar numeros aleatorios entre 0 y 1"
   ]
  },
  {
   "cell_type": "code",
   "execution_count": 53,
   "id": "0f094209-4ce1-4912-9cf7-479cf9b088df",
   "metadata": {},
   "outputs": [
    {
     "data": {
      "text/plain": [
       "array([[0.99990298, 0.58832427, 0.79252263],\n",
       "       [0.8943533 , 0.73869379, 0.78072741],\n",
       "       [0.43636248, 0.66517734, 0.8085209 ],\n",
       "       [0.98910648, 0.99684274, 0.7927862 ],\n",
       "       [0.50512455, 0.8342927 , 0.5903271 ]])"
      ]
     },
     "execution_count": 53,
     "metadata": {},
     "output_type": "execute_result"
    }
   ],
   "source": [
    "np.random.rand(5,3) "
   ]
  },
  {
   "cell_type": "code",
   "execution_count": null,
   "id": "40d24291-8601-412b-82fc-a6c78c949570",
   "metadata": {},
   "outputs": [],
   "source": []
  }
 ],
 "metadata": {
  "kernelspec": {
   "display_name": "Python 3 (ipykernel)",
   "language": "python",
   "name": "python3"
  },
  "language_info": {
   "codemirror_mode": {
    "name": "ipython",
    "version": 3
   },
   "file_extension": ".py",
   "mimetype": "text/x-python",
   "name": "python",
   "nbconvert_exporter": "python",
   "pygments_lexer": "ipython3",
   "version": "3.13.5"
  }
 },
 "nbformat": 4,
 "nbformat_minor": 5
}
