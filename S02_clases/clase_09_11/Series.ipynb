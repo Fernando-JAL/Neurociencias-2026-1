{
 "cells": [
  {
   "cell_type": "code",
   "execution_count": 1,
   "id": "d5e2e611-f957-4d1e-b9d3-223f81abb8d8",
   "metadata": {},
   "outputs": [],
   "source": [
    "import pandas as pd"
   ]
  },
  {
   "cell_type": "code",
   "execution_count": 6,
   "id": "c68b5d50-915e-4466-b365-5f7f5022e0f9",
   "metadata": {},
   "outputs": [
    {
     "data": {
      "text/plain": [
       "0                   6\n",
       "1                   8\n",
       "2                azul\n",
       "3    {'key': 'value'}\n",
       "4                (3,)\n",
       "dtype: object"
      ]
     },
     "execution_count": 6,
     "metadata": {},
     "output_type": "execute_result"
    }
   ],
   "source": [
    "valores = [6,8,'azul', {'key':'value'}, (3,)]\n",
    "indice = range(len(valores))\n",
    "\n",
    "serie1= pd.Series(data = valores, index = indice) # Data = especificar de donde vienen los datos, Index = especificar de donde vienen los índices\n",
    "serie1"
   ]
  },
  {
   "cell_type": "code",
   "execution_count": 8,
   "id": "ee92ab81-560c-4065-848c-1614f210f82e",
   "metadata": {},
   "outputs": [
    {
     "data": {
      "text/plain": [
       "0                    28\n",
       "1                lentes\n",
       "2                (3+4j)\n",
       "3             conjuro 4\n",
       "4    {'llave': 'valor'}\n",
       "5                (4, 5)\n",
       "dtype: object"
      ]
     },
     "execution_count": 8,
     "metadata": {},
     "output_type": "execute_result"
    }
   ],
   "source": [
    "valores2 = [28, 'lentes', complex(3,4), 'conjuro 4', {'llave':'valor'}, (4,5,)]\n",
    "indice2 = range(len(valores2))\n",
    "serie2 = pd.Series(data = valores2, index = indice2)\n",
    "serie2"
   ]
  },
  {
   "cell_type": "code",
   "execution_count": null,
   "id": "60999373-52d3-4bef-8ec8-b15e18767bf2",
   "metadata": {},
   "outputs": [],
   "source": [
    "#Se pueden sumar, restar, multiplicar, dividir, etc. series siempre y cuando los tipos de datos elemento elemento soporten\n",
    "#hacer esas operaciones entre ellos"
   ]
  },
  {
   "cell_type": "code",
   "execution_count": 9,
   "id": "4d89bf01-8728-43f4-860b-ddeb46b3d3fa",
   "metadata": {},
   "outputs": [],
   "source": [
    "import numpy as np"
   ]
  },
  {
   "cell_type": "code",
   "execution_count": 10,
   "id": "fb3cbe9b-9626-405e-b093-69f4567c6639",
   "metadata": {},
   "outputs": [
    {
     "data": {
      "text/plain": [
       "array([[ -3.96686991, -11.53104883,  -8.86320307, -12.90608771],\n",
       "       [-15.60503435, -20.82165077,  -2.14591749,  -7.63732302],\n",
       "       [-11.02070958,  -3.60407253, -26.08294346, -15.89186943],\n",
       "       [ -1.6347788 , -22.28165641,  -0.61910171,  -4.94261621]])"
      ]
     },
     "execution_count": 10,
     "metadata": {},
     "output_type": "execute_result"
    }
   ],
   "source": [
    "array = np.random.normal(-10,10, size = [4,4])\n",
    "array"
   ]
  },
  {
   "cell_type": "code",
   "execution_count": 11,
   "id": "1b0a0526-a856-4c83-b38b-b94ae59d57e5",
   "metadata": {},
   "outputs": [
    {
     "data": {
      "text/html": [
       "<div>\n",
       "<style scoped>\n",
       "    .dataframe tbody tr th:only-of-type {\n",
       "        vertical-align: middle;\n",
       "    }\n",
       "\n",
       "    .dataframe tbody tr th {\n",
       "        vertical-align: top;\n",
       "    }\n",
       "\n",
       "    .dataframe thead th {\n",
       "        text-align: right;\n",
       "    }\n",
       "</style>\n",
       "<table border=\"1\" class=\"dataframe\">\n",
       "  <thead>\n",
       "    <tr style=\"text-align: right;\">\n",
       "      <th></th>\n",
       "      <th>w</th>\n",
       "      <th>x</th>\n",
       "    </tr>\n",
       "  </thead>\n",
       "  <tbody>\n",
       "    <tr>\n",
       "      <th>a</th>\n",
       "      <td>2</td>\n",
       "      <td>3</td>\n",
       "    </tr>\n",
       "    <tr>\n",
       "      <th>b</th>\n",
       "      <td>4</td>\n",
       "      <td>5</td>\n",
       "    </tr>\n",
       "  </tbody>\n",
       "</table>\n",
       "</div>"
      ],
      "text/plain": [
       "   w  x\n",
       "a  2  3\n",
       "b  4  5"
      ]
     },
     "execution_count": 11,
     "metadata": {},
     "output_type": "execute_result"
    }
   ],
   "source": [
    "pd.DataFrame([[2,3],[4,5]], index = ['a','b'], columns = ['w', 'x'])"
   ]
  },
  {
   "cell_type": "code",
   "execution_count": 13,
   "id": "71c6e55e-3a7d-40bf-9cb2-ee93f6478561",
   "metadata": {},
   "outputs": [
    {
     "data": {
      "text/html": [
       "<div>\n",
       "<style scoped>\n",
       "    .dataframe tbody tr th:only-of-type {\n",
       "        vertical-align: middle;\n",
       "    }\n",
       "\n",
       "    .dataframe tbody tr th {\n",
       "        vertical-align: top;\n",
       "    }\n",
       "\n",
       "    .dataframe thead th {\n",
       "        text-align: right;\n",
       "    }\n",
       "</style>\n",
       "<table border=\"1\" class=\"dataframe\">\n",
       "  <thead>\n",
       "    <tr style=\"text-align: right;\">\n",
       "      <th></th>\n",
       "      <th>0</th>\n",
       "      <th>1</th>\n",
       "      <th>2</th>\n",
       "      <th>3</th>\n",
       "    </tr>\n",
       "  </thead>\n",
       "  <tbody>\n",
       "    <tr>\n",
       "      <th>1</th>\n",
       "      <td>-3.966870</td>\n",
       "      <td>-11.531049</td>\n",
       "      <td>-8.863203</td>\n",
       "      <td>-12.906088</td>\n",
       "    </tr>\n",
       "    <tr>\n",
       "      <th>2</th>\n",
       "      <td>-15.605034</td>\n",
       "      <td>-20.821651</td>\n",
       "      <td>-2.145917</td>\n",
       "      <td>-7.637323</td>\n",
       "    </tr>\n",
       "    <tr>\n",
       "      <th>3</th>\n",
       "      <td>-11.020710</td>\n",
       "      <td>-3.604073</td>\n",
       "      <td>-26.082943</td>\n",
       "      <td>-15.891869</td>\n",
       "    </tr>\n",
       "    <tr>\n",
       "      <th>4</th>\n",
       "      <td>-1.634779</td>\n",
       "      <td>-22.281656</td>\n",
       "      <td>-0.619102</td>\n",
       "      <td>-4.942616</td>\n",
       "    </tr>\n",
       "  </tbody>\n",
       "</table>\n",
       "</div>"
      ],
      "text/plain": [
       "           0          1          2          3\n",
       "1  -3.966870 -11.531049  -8.863203 -12.906088\n",
       "2 -15.605034 -20.821651  -2.145917  -7.637323\n",
       "3 -11.020710  -3.604073 -26.082943 -15.891869\n",
       "4  -1.634779 -22.281656  -0.619102  -4.942616"
      ]
     },
     "execution_count": 13,
     "metadata": {},
     "output_type": "execute_result"
    }
   ],
   "source": [
    "pd.DataFrame(array, index = range(1, len(array)+1))"
   ]
  },
  {
   "cell_type": "code",
   "execution_count": 17,
   "id": "1749f3d8-07ec-431a-a89d-5d166f638a69",
   "metadata": {},
   "outputs": [
    {
     "data": {
      "text/html": [
       "<div>\n",
       "<style scoped>\n",
       "    .dataframe tbody tr th:only-of-type {\n",
       "        vertical-align: middle;\n",
       "    }\n",
       "\n",
       "    .dataframe tbody tr th {\n",
       "        vertical-align: top;\n",
       "    }\n",
       "\n",
       "    .dataframe thead th {\n",
       "        text-align: right;\n",
       "    }\n",
       "</style>\n",
       "<table border=\"1\" class=\"dataframe\">\n",
       "  <thead>\n",
       "    <tr style=\"text-align: right;\">\n",
       "      <th></th>\n",
       "      <th>W</th>\n",
       "      <th>X</th>\n",
       "      <th>Y</th>\n",
       "      <th>Z</th>\n",
       "    </tr>\n",
       "  </thead>\n",
       "  <tbody>\n",
       "    <tr>\n",
       "      <th>1</th>\n",
       "      <td>-3.966870</td>\n",
       "      <td>-11.531049</td>\n",
       "      <td>-8.863203</td>\n",
       "      <td>-12.906088</td>\n",
       "    </tr>\n",
       "    <tr>\n",
       "      <th>2</th>\n",
       "      <td>-15.605034</td>\n",
       "      <td>-20.821651</td>\n",
       "      <td>-2.145917</td>\n",
       "      <td>-7.637323</td>\n",
       "    </tr>\n",
       "    <tr>\n",
       "      <th>3</th>\n",
       "      <td>-11.020710</td>\n",
       "      <td>-3.604073</td>\n",
       "      <td>-26.082943</td>\n",
       "      <td>-15.891869</td>\n",
       "    </tr>\n",
       "    <tr>\n",
       "      <th>4</th>\n",
       "      <td>-1.634779</td>\n",
       "      <td>-22.281656</td>\n",
       "      <td>-0.619102</td>\n",
       "      <td>-4.942616</td>\n",
       "    </tr>\n",
       "  </tbody>\n",
       "</table>\n",
       "</div>"
      ],
      "text/plain": [
       "           W          X          Y          Z\n",
       "1  -3.966870 -11.531049  -8.863203 -12.906088\n",
       "2 -15.605034 -20.821651  -2.145917  -7.637323\n",
       "3 -11.020710  -3.604073 -26.082943 -15.891869\n",
       "4  -1.634779 -22.281656  -0.619102  -4.942616"
      ]
     },
     "execution_count": 17,
     "metadata": {},
     "output_type": "execute_result"
    }
   ],
   "source": [
    "df = pd.DataFrame(array, index = range(1, len(array)+1), columns = ['W', 'X', 'Y', 'Z'])\n",
    "df"
   ]
  },
  {
   "cell_type": "code",
   "execution_count": 20,
   "id": "67d4668d-4a6d-4d6d-830c-ab01db010ace",
   "metadata": {},
   "outputs": [
    {
     "data": {
      "text/plain": [
       "1   -11.531049\n",
       "2   -20.821651\n",
       "3    -3.604073\n",
       "4   -22.281656\n",
       "Name: X, dtype: float64"
      ]
     },
     "execution_count": 20,
     "metadata": {},
     "output_type": "execute_result"
    }
   ],
   "source": [
    "df['X'] #Saca columnas"
   ]
  },
  {
   "cell_type": "code",
   "execution_count": 21,
   "id": "f85ce69e-bb98-4e2e-b3cb-e0a4731fa420",
   "metadata": {},
   "outputs": [
    {
     "data": {
      "text/html": [
       "<div>\n",
       "<style scoped>\n",
       "    .dataframe tbody tr th:only-of-type {\n",
       "        vertical-align: middle;\n",
       "    }\n",
       "\n",
       "    .dataframe tbody tr th {\n",
       "        vertical-align: top;\n",
       "    }\n",
       "\n",
       "    .dataframe thead th {\n",
       "        text-align: right;\n",
       "    }\n",
       "</style>\n",
       "<table border=\"1\" class=\"dataframe\">\n",
       "  <thead>\n",
       "    <tr style=\"text-align: right;\">\n",
       "      <th></th>\n",
       "      <th>W</th>\n",
       "      <th>X</th>\n",
       "    </tr>\n",
       "  </thead>\n",
       "  <tbody>\n",
       "    <tr>\n",
       "      <th>1</th>\n",
       "      <td>-3.966870</td>\n",
       "      <td>-11.531049</td>\n",
       "    </tr>\n",
       "    <tr>\n",
       "      <th>2</th>\n",
       "      <td>-15.605034</td>\n",
       "      <td>-20.821651</td>\n",
       "    </tr>\n",
       "    <tr>\n",
       "      <th>3</th>\n",
       "      <td>-11.020710</td>\n",
       "      <td>-3.604073</td>\n",
       "    </tr>\n",
       "    <tr>\n",
       "      <th>4</th>\n",
       "      <td>-1.634779</td>\n",
       "      <td>-22.281656</td>\n",
       "    </tr>\n",
       "  </tbody>\n",
       "</table>\n",
       "</div>"
      ],
      "text/plain": [
       "           W          X\n",
       "1  -3.966870 -11.531049\n",
       "2 -15.605034 -20.821651\n",
       "3 -11.020710  -3.604073\n",
       "4  -1.634779 -22.281656"
      ]
     },
     "execution_count": 21,
     "metadata": {},
     "output_type": "execute_result"
    }
   ],
   "source": [
    "columnas = ['W','X']\n",
    "df[columnas]"
   ]
  },
  {
   "cell_type": "code",
   "execution_count": 22,
   "id": "9126b861-0258-4752-a5db-8a9559ba4172",
   "metadata": {},
   "outputs": [
    {
     "data": {
      "text/plain": [
       "1   -11.531049\n",
       "2   -20.821651\n",
       "3    -3.604073\n",
       "4   -22.281656\n",
       "Name: X, dtype: float64"
      ]
     },
     "execution_count": 22,
     "metadata": {},
     "output_type": "execute_result"
    }
   ],
   "source": [
    "df.X #Saca columnas"
   ]
  },
  {
   "cell_type": "code",
   "execution_count": 23,
   "id": "260ba049-2326-4269-afb2-cee8d5ed2e13",
   "metadata": {},
   "outputs": [
    {
     "data": {
      "text/plain": [
       "1   -20.394252\n",
       "2   -22.967568\n",
       "3   -29.687016\n",
       "4   -22.900758\n",
       "dtype: float64"
      ]
     },
     "execution_count": 23,
     "metadata": {},
     "output_type": "execute_result"
    }
   ],
   "source": [
    "df.X + df.Y #También se pueden hacer operaciones y son mutables"
   ]
  },
  {
   "cell_type": "code",
   "execution_count": 25,
   "id": "241e1375-7855-4af7-a002-3346f0d678fa",
   "metadata": {},
   "outputs": [
    {
     "data": {
      "text/html": [
       "<div>\n",
       "<style scoped>\n",
       "    .dataframe tbody tr th:only-of-type {\n",
       "        vertical-align: middle;\n",
       "    }\n",
       "\n",
       "    .dataframe tbody tr th {\n",
       "        vertical-align: top;\n",
       "    }\n",
       "\n",
       "    .dataframe thead th {\n",
       "        text-align: right;\n",
       "    }\n",
       "</style>\n",
       "<table border=\"1\" class=\"dataframe\">\n",
       "  <thead>\n",
       "    <tr style=\"text-align: right;\">\n",
       "      <th></th>\n",
       "      <th>W</th>\n",
       "      <th>X</th>\n",
       "      <th>Y</th>\n",
       "      <th>Z</th>\n",
       "      <th>suma_X_Z</th>\n",
       "    </tr>\n",
       "  </thead>\n",
       "  <tbody>\n",
       "    <tr>\n",
       "      <th>1</th>\n",
       "      <td>-3.966870</td>\n",
       "      <td>-11.531049</td>\n",
       "      <td>-8.863203</td>\n",
       "      <td>-12.906088</td>\n",
       "      <td>-24.437137</td>\n",
       "    </tr>\n",
       "    <tr>\n",
       "      <th>2</th>\n",
       "      <td>-15.605034</td>\n",
       "      <td>-20.821651</td>\n",
       "      <td>-2.145917</td>\n",
       "      <td>-7.637323</td>\n",
       "      <td>-28.458974</td>\n",
       "    </tr>\n",
       "    <tr>\n",
       "      <th>3</th>\n",
       "      <td>-11.020710</td>\n",
       "      <td>-3.604073</td>\n",
       "      <td>-26.082943</td>\n",
       "      <td>-15.891869</td>\n",
       "      <td>-19.495942</td>\n",
       "    </tr>\n",
       "    <tr>\n",
       "      <th>4</th>\n",
       "      <td>-1.634779</td>\n",
       "      <td>-22.281656</td>\n",
       "      <td>-0.619102</td>\n",
       "      <td>-4.942616</td>\n",
       "      <td>-27.224273</td>\n",
       "    </tr>\n",
       "  </tbody>\n",
       "</table>\n",
       "</div>"
      ],
      "text/plain": [
       "           W          X          Y          Z   suma_X_Z\n",
       "1  -3.966870 -11.531049  -8.863203 -12.906088 -24.437137\n",
       "2 -15.605034 -20.821651  -2.145917  -7.637323 -28.458974\n",
       "3 -11.020710  -3.604073 -26.082943 -15.891869 -19.495942\n",
       "4  -1.634779 -22.281656  -0.619102  -4.942616 -27.224273"
      ]
     },
     "execution_count": 25,
     "metadata": {},
     "output_type": "execute_result"
    }
   ],
   "source": [
    "df['suma_X_Z'] = df.X + df.Z #Agregar columnas\n",
    "df"
   ]
  },
  {
   "cell_type": "code",
   "execution_count": 29,
   "id": "e7e87cbe-2495-4cfc-b16a-e8533dffcb2a",
   "metadata": {
    "scrolled": true
   },
   "outputs": [
    {
     "data": {
      "text/html": [
       "<div>\n",
       "<style scoped>\n",
       "    .dataframe tbody tr th:only-of-type {\n",
       "        vertical-align: middle;\n",
       "    }\n",
       "\n",
       "    .dataframe tbody tr th {\n",
       "        vertical-align: top;\n",
       "    }\n",
       "\n",
       "    .dataframe thead th {\n",
       "        text-align: right;\n",
       "    }\n",
       "</style>\n",
       "<table border=\"1\" class=\"dataframe\">\n",
       "  <thead>\n",
       "    <tr style=\"text-align: right;\">\n",
       "      <th></th>\n",
       "      <th>W</th>\n",
       "      <th>Z</th>\n",
       "      <th>suma_X_Z</th>\n",
       "    </tr>\n",
       "  </thead>\n",
       "  <tbody>\n",
       "    <tr>\n",
       "      <th>1</th>\n",
       "      <td>-3.966870</td>\n",
       "      <td>-12.906088</td>\n",
       "      <td>-24.437137</td>\n",
       "    </tr>\n",
       "    <tr>\n",
       "      <th>2</th>\n",
       "      <td>-15.605034</td>\n",
       "      <td>-7.637323</td>\n",
       "      <td>-28.458974</td>\n",
       "    </tr>\n",
       "    <tr>\n",
       "      <th>3</th>\n",
       "      <td>-11.020710</td>\n",
       "      <td>-15.891869</td>\n",
       "      <td>-19.495942</td>\n",
       "    </tr>\n",
       "    <tr>\n",
       "      <th>4</th>\n",
       "      <td>-1.634779</td>\n",
       "      <td>-4.942616</td>\n",
       "      <td>-27.224273</td>\n",
       "    </tr>\n",
       "  </tbody>\n",
       "</table>\n",
       "</div>"
      ],
      "text/plain": [
       "           W          Z   suma_X_Z\n",
       "1  -3.966870 -12.906088 -24.437137\n",
       "2 -15.605034  -7.637323 -28.458974\n",
       "3 -11.020710 -15.891869 -19.495942\n",
       "4  -1.634779  -4.942616 -27.224273"
      ]
     },
     "execution_count": 29,
     "metadata": {},
     "output_type": "execute_result"
    }
   ],
   "source": [
    "df.drop('X', axis = 1, inplace=True) #axis = 1 es para borrar columnas, axis = 0 es para borrar filas\n",
    "df# inplace borra permamentemente, dropea en el dataframe original"
   ]
  },
  {
   "cell_type": "code",
   "execution_count": 30,
   "id": "9850f845-b862-49fc-85d9-d0eba7be9c88",
   "metadata": {},
   "outputs": [
    {
     "data": {
      "text/plain": [
       "W          -11.020710\n",
       "Z          -15.891869\n",
       "suma_X_Z   -19.495942\n",
       "Name: 3, dtype: float64"
      ]
     },
     "execution_count": 30,
     "metadata": {},
     "output_type": "execute_result"
    }
   ],
   "source": [
    "df.loc[3] #Acceder a filas"
   ]
  },
  {
   "cell_type": "code",
   "execution_count": 34,
   "id": "0523b9ef-0c59-498b-b717-1e9e40e6dc84",
   "metadata": {},
   "outputs": [
    {
     "data": {
      "text/html": [
       "<div>\n",
       "<style scoped>\n",
       "    .dataframe tbody tr th:only-of-type {\n",
       "        vertical-align: middle;\n",
       "    }\n",
       "\n",
       "    .dataframe tbody tr th {\n",
       "        vertical-align: top;\n",
       "    }\n",
       "\n",
       "    .dataframe thead th {\n",
       "        text-align: right;\n",
       "    }\n",
       "</style>\n",
       "<table border=\"1\" class=\"dataframe\">\n",
       "  <thead>\n",
       "    <tr style=\"text-align: right;\">\n",
       "      <th></th>\n",
       "      <th>W</th>\n",
       "      <th>suma_X_Z</th>\n",
       "    </tr>\n",
       "  </thead>\n",
       "  <tbody>\n",
       "    <tr>\n",
       "      <th>1</th>\n",
       "      <td>-3.96687</td>\n",
       "      <td>-24.437137</td>\n",
       "    </tr>\n",
       "    <tr>\n",
       "      <th>3</th>\n",
       "      <td>-11.02071</td>\n",
       "      <td>-19.495942</td>\n",
       "    </tr>\n",
       "  </tbody>\n",
       "</table>\n",
       "</div>"
      ],
      "text/plain": [
       "          W   suma_X_Z\n",
       "1  -3.96687 -24.437137\n",
       "3 -11.02071 -19.495942"
      ]
     },
     "execution_count": 34,
     "metadata": {},
     "output_type": "execute_result"
    }
   ],
   "source": [
    "df.iloc[[0,2],[0,2]] #Se basa en el índice original (empezando en 0 y sin considerar nombres)"
   ]
  },
  {
   "cell_type": "code",
   "execution_count": 32,
   "id": "de82b7af-80ce-41b5-b9cb-9ffc79d258b1",
   "metadata": {},
   "outputs": [
    {
     "data": {
      "text/html": [
       "<div>\n",
       "<style scoped>\n",
       "    .dataframe tbody tr th:only-of-type {\n",
       "        vertical-align: middle;\n",
       "    }\n",
       "\n",
       "    .dataframe tbody tr th {\n",
       "        vertical-align: top;\n",
       "    }\n",
       "\n",
       "    .dataframe thead th {\n",
       "        text-align: right;\n",
       "    }\n",
       "</style>\n",
       "<table border=\"1\" class=\"dataframe\">\n",
       "  <thead>\n",
       "    <tr style=\"text-align: right;\">\n",
       "      <th></th>\n",
       "      <th>W</th>\n",
       "      <th>Z</th>\n",
       "      <th>suma_X_Z</th>\n",
       "    </tr>\n",
       "  </thead>\n",
       "  <tbody>\n",
       "    <tr>\n",
       "      <th>1</th>\n",
       "      <td>-3.966870</td>\n",
       "      <td>-12.906088</td>\n",
       "      <td>-24.437137</td>\n",
       "    </tr>\n",
       "    <tr>\n",
       "      <th>2</th>\n",
       "      <td>-15.605034</td>\n",
       "      <td>-7.637323</td>\n",
       "      <td>-28.458974</td>\n",
       "    </tr>\n",
       "    <tr>\n",
       "      <th>3</th>\n",
       "      <td>-11.020710</td>\n",
       "      <td>-15.891869</td>\n",
       "      <td>-19.495942</td>\n",
       "    </tr>\n",
       "    <tr>\n",
       "      <th>4</th>\n",
       "      <td>-1.634779</td>\n",
       "      <td>-4.942616</td>\n",
       "      <td>-27.224273</td>\n",
       "    </tr>\n",
       "  </tbody>\n",
       "</table>\n",
       "</div>"
      ],
      "text/plain": [
       "           W          Z   suma_X_Z\n",
       "1  -3.966870 -12.906088 -24.437137\n",
       "2 -15.605034  -7.637323 -28.458974\n",
       "3 -11.020710 -15.891869 -19.495942\n",
       "4  -1.634779  -4.942616 -27.224273"
      ]
     },
     "execution_count": 32,
     "metadata": {},
     "output_type": "execute_result"
    }
   ],
   "source": [
    "df"
   ]
  },
  {
   "cell_type": "code",
   "execution_count": 33,
   "id": "75957184-e6ba-4f7e-bb28-8082626216dd",
   "metadata": {},
   "outputs": [
    {
     "data": {
      "text/plain": [
       "np.float64(-15.891869427080994)"
      ]
     },
     "execution_count": 33,
     "metadata": {},
     "output_type": "execute_result"
    }
   ],
   "source": [
    "df.loc[3,'Z'] #filas, columnas según como están llamadas"
   ]
  },
  {
   "cell_type": "code",
   "execution_count": 36,
   "id": "e3b8628b-e5b2-4184-92b2-c9cc4d14f69a",
   "metadata": {},
   "outputs": [
    {
     "data": {
      "text/html": [
       "<div>\n",
       "<style scoped>\n",
       "    .dataframe tbody tr th:only-of-type {\n",
       "        vertical-align: middle;\n",
       "    }\n",
       "\n",
       "    .dataframe tbody tr th {\n",
       "        vertical-align: top;\n",
       "    }\n",
       "\n",
       "    .dataframe thead th {\n",
       "        text-align: right;\n",
       "    }\n",
       "</style>\n",
       "<table border=\"1\" class=\"dataframe\">\n",
       "  <thead>\n",
       "    <tr style=\"text-align: right;\">\n",
       "      <th></th>\n",
       "      <th>W</th>\n",
       "      <th>suma_X_Z</th>\n",
       "    </tr>\n",
       "  </thead>\n",
       "  <tbody>\n",
       "    <tr>\n",
       "      <th>1</th>\n",
       "      <td>-3.966870</td>\n",
       "      <td>-24.437137</td>\n",
       "    </tr>\n",
       "    <tr>\n",
       "      <th>2</th>\n",
       "      <td>-15.605034</td>\n",
       "      <td>-28.458974</td>\n",
       "    </tr>\n",
       "  </tbody>\n",
       "</table>\n",
       "</div>"
      ],
      "text/plain": [
       "           W   suma_X_Z\n",
       "1  -3.966870 -24.437137\n",
       "2 -15.605034 -28.458974"
      ]
     },
     "execution_count": 36,
     "metadata": {},
     "output_type": "execute_result"
    }
   ],
   "source": [
    "df.loc[[1,2], ['W', 'suma_X_Z']]"
   ]
  },
  {
   "cell_type": "code",
   "execution_count": null,
   "id": "bf2c448c-23a7-4ad5-a936-5d2fd4f62826",
   "metadata": {},
   "outputs": [],
   "source": []
  }
 ],
 "metadata": {
  "kernelspec": {
   "display_name": "Python 3 (ipykernel)",
   "language": "python",
   "name": "python3"
  },
  "language_info": {
   "codemirror_mode": {
    "name": "ipython",
    "version": 3
   },
   "file_extension": ".py",
   "mimetype": "text/x-python",
   "name": "python",
   "nbconvert_exporter": "python",
   "pygments_lexer": "ipython3",
   "version": "3.10.4"
  }
 },
 "nbformat": 4,
 "nbformat_minor": 5
}
