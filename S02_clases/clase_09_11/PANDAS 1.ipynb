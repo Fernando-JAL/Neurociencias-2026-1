{
 "cells": [
  {
   "cell_type": "code",
   "execution_count": 3,
   "id": "09ef22d6-b729-4566-9ecd-741cb318ddba",
   "metadata": {},
   "outputs": [],
   "source": [
    "import pandas as pd"
   ]
  },
  {
   "cell_type": "code",
   "execution_count": 4,
   "id": "5dc4bdc6-37cd-4573-942f-fcb0d55f2a44",
   "metadata": {},
   "outputs": [
    {
     "data": {
      "text/plain": [
       "0     6\n",
       "1     8\n",
       "2    34\n",
       "3    94\n",
       "4   -78\n",
       "dtype: int64"
      ]
     },
     "execution_count": 4,
     "metadata": {},
     "output_type": "execute_result"
    }
   ],
   "source": [
    "valores = [6,8,34,94,-78]\n",
    "indice = range(len(valores))\n",
    "\n",
    "serie1 = pd.Series(data = valores, index = indice)\n",
    "serie1"
   ]
  },
  {
   "cell_type": "code",
   "execution_count": null,
   "id": "9e8d7c65-e807-4388-8a48-0d6ab4fd3bd5",
   "metadata": {},
   "outputs": [],
   "source": []
  },
  {
   "cell_type": "code",
   "execution_count": 5,
   "id": "f20b0436-3dd1-43af-a2eb-8d01ad818a3d",
   "metadata": {},
   "outputs": [
    {
     "data": {
      "text/plain": [
       "0     28\n",
       "1     45\n",
       "2   -852\n",
       "3      3\n",
       "4     16\n",
       "dtype: int64"
      ]
     },
     "execution_count": 5,
     "metadata": {},
     "output_type": "execute_result"
    }
   ],
   "source": [
    "valores2 = [28,45,-852, 3, 16]\n",
    "serie2 = pd.Series(index=indice, data=valores2)\n",
    "serie2\n"
   ]
  },
  {
   "cell_type": "code",
   "execution_count": 9,
   "id": "9d431606-c1e1-4f9c-b2e7-e054f3f1880c",
   "metadata": {},
   "outputs": [
    {
     "data": {
      "text/plain": [
       "0.0"
      ]
     },
     "execution_count": 9,
     "metadata": {},
     "output_type": "execute_result"
    }
   ],
   "source": [
    "34**(-852)"
   ]
  },
  {
   "cell_type": "code",
   "execution_count": 10,
   "id": "e6ab7ee5-3ae7-4aa4-960d-bfed5beb84f4",
   "metadata": {},
   "outputs": [],
   "source": [
    "import numpy as np"
   ]
  },
  {
   "cell_type": "code",
   "execution_count": 11,
   "id": "2957d372-f99b-4b09-b653-5d48a209d42d",
   "metadata": {},
   "outputs": [
    {
     "data": {
      "text/plain": [
       "array([[-10.7985219 ,  -4.35850644, -18.47188942,  10.03865283],\n",
       "       [-20.25164014, -12.3132208 , -28.74125708, -11.04089634],\n",
       "       [ -4.81654686, -10.73207034,   6.06051837, -17.62715355],\n",
       "       [-13.30984362,  -1.93176784,  -3.60875928,   8.00396351]])"
      ]
     },
     "execution_count": 11,
     "metadata": {},
     "output_type": "execute_result"
    }
   ],
   "source": [
    "array = np.random.normal(-10,10, size=[4,4])\n",
    "array"
   ]
  },
  {
   "cell_type": "code",
   "execution_count": 12,
   "id": "3da7ffd8-9d8c-4b5e-8d3a-82261bb3f54e",
   "metadata": {},
   "outputs": [
    {
     "data": {
      "text/html": [
       "<div>\n",
       "<style scoped>\n",
       "    .dataframe tbody tr th:only-of-type {\n",
       "        vertical-align: middle;\n",
       "    }\n",
       "\n",
       "    .dataframe tbody tr th {\n",
       "        vertical-align: top;\n",
       "    }\n",
       "\n",
       "    .dataframe thead th {\n",
       "        text-align: right;\n",
       "    }\n",
       "</style>\n",
       "<table border=\"1\" class=\"dataframe\">\n",
       "  <thead>\n",
       "    <tr style=\"text-align: right;\">\n",
       "      <th></th>\n",
       "      <th>W</th>\n",
       "      <th>X</th>\n",
       "    </tr>\n",
       "  </thead>\n",
       "  <tbody>\n",
       "    <tr>\n",
       "      <th>a</th>\n",
       "      <td>2</td>\n",
       "      <td>3</td>\n",
       "    </tr>\n",
       "    <tr>\n",
       "      <th>b</th>\n",
       "      <td>4</td>\n",
       "      <td>5</td>\n",
       "    </tr>\n",
       "  </tbody>\n",
       "</table>\n",
       "</div>"
      ],
      "text/plain": [
       "   W  X\n",
       "a  2  3\n",
       "b  4  5"
      ]
     },
     "execution_count": 12,
     "metadata": {},
     "output_type": "execute_result"
    }
   ],
   "source": [
    "pd. DataFrame([[2,3],[4,5]], index=['a','b'], columns=['W','X'])"
   ]
  },
  {
   "cell_type": "code",
   "execution_count": 13,
   "id": "85b0d4c8-9f7d-4c1c-940f-0b961cb56dab",
   "metadata": {},
   "outputs": [
    {
     "data": {
      "text/html": [
       "<div>\n",
       "<style scoped>\n",
       "    .dataframe tbody tr th:only-of-type {\n",
       "        vertical-align: middle;\n",
       "    }\n",
       "\n",
       "    .dataframe tbody tr th {\n",
       "        vertical-align: top;\n",
       "    }\n",
       "\n",
       "    .dataframe thead th {\n",
       "        text-align: right;\n",
       "    }\n",
       "</style>\n",
       "<table border=\"1\" class=\"dataframe\">\n",
       "  <thead>\n",
       "    <tr style=\"text-align: right;\">\n",
       "      <th></th>\n",
       "      <th>0</th>\n",
       "      <th>1</th>\n",
       "      <th>2</th>\n",
       "      <th>3</th>\n",
       "    </tr>\n",
       "  </thead>\n",
       "  <tbody>\n",
       "    <tr>\n",
       "      <th>0</th>\n",
       "      <td>-10.798522</td>\n",
       "      <td>-4.358506</td>\n",
       "      <td>-18.471889</td>\n",
       "      <td>10.038653</td>\n",
       "    </tr>\n",
       "    <tr>\n",
       "      <th>1</th>\n",
       "      <td>-20.251640</td>\n",
       "      <td>-12.313221</td>\n",
       "      <td>-28.741257</td>\n",
       "      <td>-11.040896</td>\n",
       "    </tr>\n",
       "    <tr>\n",
       "      <th>2</th>\n",
       "      <td>-4.816547</td>\n",
       "      <td>-10.732070</td>\n",
       "      <td>6.060518</td>\n",
       "      <td>-17.627154</td>\n",
       "    </tr>\n",
       "    <tr>\n",
       "      <th>3</th>\n",
       "      <td>-13.309844</td>\n",
       "      <td>-1.931768</td>\n",
       "      <td>-3.608759</td>\n",
       "      <td>8.003964</td>\n",
       "    </tr>\n",
       "  </tbody>\n",
       "</table>\n",
       "</div>"
      ],
      "text/plain": [
       "           0          1          2          3\n",
       "0 -10.798522  -4.358506 -18.471889  10.038653\n",
       "1 -20.251640 -12.313221 -28.741257 -11.040896\n",
       "2  -4.816547 -10.732070   6.060518 -17.627154\n",
       "3 -13.309844  -1.931768  -3.608759   8.003964"
      ]
     },
     "execution_count": 13,
     "metadata": {},
     "output_type": "execute_result"
    }
   ],
   "source": [
    "pd. DataFrame(array)"
   ]
  },
  {
   "cell_type": "code",
   "execution_count": 14,
   "id": "dbd71239-1ef3-495f-8c68-77216081d30a",
   "metadata": {},
   "outputs": [
    {
     "data": {
      "text/plain": [
       "4"
      ]
     },
     "execution_count": 14,
     "metadata": {},
     "output_type": "execute_result"
    }
   ],
   "source": [
    "len(array)"
   ]
  },
  {
   "cell_type": "code",
   "execution_count": 16,
   "id": "6ee87563-53a7-4894-80fa-d95eac7f109f",
   "metadata": {},
   "outputs": [
    {
     "data": {
      "text/html": [
       "<div>\n",
       "<style scoped>\n",
       "    .dataframe tbody tr th:only-of-type {\n",
       "        vertical-align: middle;\n",
       "    }\n",
       "\n",
       "    .dataframe tbody tr th {\n",
       "        vertical-align: top;\n",
       "    }\n",
       "\n",
       "    .dataframe thead th {\n",
       "        text-align: right;\n",
       "    }\n",
       "</style>\n",
       "<table border=\"1\" class=\"dataframe\">\n",
       "  <thead>\n",
       "    <tr style=\"text-align: right;\">\n",
       "      <th></th>\n",
       "      <th>0</th>\n",
       "      <th>1</th>\n",
       "      <th>2</th>\n",
       "      <th>3</th>\n",
       "    </tr>\n",
       "  </thead>\n",
       "  <tbody>\n",
       "    <tr>\n",
       "      <th>1</th>\n",
       "      <td>-10.798522</td>\n",
       "      <td>-4.358506</td>\n",
       "      <td>-18.471889</td>\n",
       "      <td>10.038653</td>\n",
       "    </tr>\n",
       "    <tr>\n",
       "      <th>2</th>\n",
       "      <td>-20.251640</td>\n",
       "      <td>-12.313221</td>\n",
       "      <td>-28.741257</td>\n",
       "      <td>-11.040896</td>\n",
       "    </tr>\n",
       "    <tr>\n",
       "      <th>3</th>\n",
       "      <td>-4.816547</td>\n",
       "      <td>-10.732070</td>\n",
       "      <td>6.060518</td>\n",
       "      <td>-17.627154</td>\n",
       "    </tr>\n",
       "    <tr>\n",
       "      <th>4</th>\n",
       "      <td>-13.309844</td>\n",
       "      <td>-1.931768</td>\n",
       "      <td>-3.608759</td>\n",
       "      <td>8.003964</td>\n",
       "    </tr>\n",
       "  </tbody>\n",
       "</table>\n",
       "</div>"
      ],
      "text/plain": [
       "           0          1          2          3\n",
       "1 -10.798522  -4.358506 -18.471889  10.038653\n",
       "2 -20.251640 -12.313221 -28.741257 -11.040896\n",
       "3  -4.816547 -10.732070   6.060518 -17.627154\n",
       "4 -13.309844  -1.931768  -3.608759   8.003964"
      ]
     },
     "execution_count": 16,
     "metadata": {},
     "output_type": "execute_result"
    }
   ],
   "source": [
    "df = pd. DataFrame(array, index=range(1, len(array)+1))\n",
    "df"
   ]
  },
  {
   "cell_type": "code",
   "execution_count": 17,
   "id": "f235d286-df75-46ea-a88a-c87a918fd016",
   "metadata": {},
   "outputs": [
    {
     "data": {
      "text/html": [
       "<div>\n",
       "<style scoped>\n",
       "    .dataframe tbody tr th:only-of-type {\n",
       "        vertical-align: middle;\n",
       "    }\n",
       "\n",
       "    .dataframe tbody tr th {\n",
       "        vertical-align: top;\n",
       "    }\n",
       "\n",
       "    .dataframe thead th {\n",
       "        text-align: right;\n",
       "    }\n",
       "</style>\n",
       "<table border=\"1\" class=\"dataframe\">\n",
       "  <thead>\n",
       "    <tr style=\"text-align: right;\">\n",
       "      <th></th>\n",
       "      <th>W</th>\n",
       "      <th>X</th>\n",
       "      <th>Y</th>\n",
       "      <th>Z</th>\n",
       "    </tr>\n",
       "  </thead>\n",
       "  <tbody>\n",
       "    <tr>\n",
       "      <th>1</th>\n",
       "      <td>-10.798522</td>\n",
       "      <td>-4.358506</td>\n",
       "      <td>-18.471889</td>\n",
       "      <td>10.038653</td>\n",
       "    </tr>\n",
       "    <tr>\n",
       "      <th>2</th>\n",
       "      <td>-20.251640</td>\n",
       "      <td>-12.313221</td>\n",
       "      <td>-28.741257</td>\n",
       "      <td>-11.040896</td>\n",
       "    </tr>\n",
       "    <tr>\n",
       "      <th>3</th>\n",
       "      <td>-4.816547</td>\n",
       "      <td>-10.732070</td>\n",
       "      <td>6.060518</td>\n",
       "      <td>-17.627154</td>\n",
       "    </tr>\n",
       "    <tr>\n",
       "      <th>4</th>\n",
       "      <td>-13.309844</td>\n",
       "      <td>-1.931768</td>\n",
       "      <td>-3.608759</td>\n",
       "      <td>8.003964</td>\n",
       "    </tr>\n",
       "  </tbody>\n",
       "</table>\n",
       "</div>"
      ],
      "text/plain": [
       "           W          X          Y          Z\n",
       "1 -10.798522  -4.358506 -18.471889  10.038653\n",
       "2 -20.251640 -12.313221 -28.741257 -11.040896\n",
       "3  -4.816547 -10.732070   6.060518 -17.627154\n",
       "4 -13.309844  -1.931768  -3.608759   8.003964"
      ]
     },
     "execution_count": 17,
     "metadata": {},
     "output_type": "execute_result"
    }
   ],
   "source": [
    "df = pd. DataFrame(array, index=range(1, len(array)+1), columns=['W', 'X', 'Y','Z'])\n",
    "df"
   ]
  },
  {
   "cell_type": "code",
   "execution_count": 18,
   "id": "0a9461a0-6928-4293-a01b-d8591f536129",
   "metadata": {},
   "outputs": [
    {
     "data": {
      "text/plain": [
       "pandas.core.frame.DataFrame"
      ]
     },
     "execution_count": 18,
     "metadata": {},
     "output_type": "execute_result"
    }
   ],
   "source": [
    "type(df)"
   ]
  },
  {
   "cell_type": "code",
   "execution_count": 19,
   "id": "fd5ad8fb-e543-424f-b02f-fdbf969bb20a",
   "metadata": {},
   "outputs": [
    {
     "data": {
      "text/plain": [
       "1    -4.358506\n",
       "2   -12.313221\n",
       "3   -10.732070\n",
       "4    -1.931768\n",
       "Name: X, dtype: float64"
      ]
     },
     "execution_count": 19,
     "metadata": {},
     "output_type": "execute_result"
    }
   ],
   "source": [
    "df['X']"
   ]
  },
  {
   "cell_type": "code",
   "execution_count": 20,
   "id": "db45e701-150c-40ac-a2a8-42bbb2ef16bf",
   "metadata": {},
   "outputs": [
    {
     "data": {
      "text/plain": [
       "np.float64(-12.313220796127254)"
      ]
     },
     "execution_count": 20,
     "metadata": {},
     "output_type": "execute_result"
    }
   ],
   "source": [
    "df['X'][2]"
   ]
  },
  {
   "cell_type": "code",
   "execution_count": 21,
   "id": "d4f7dbd5-31a9-4842-b25f-555b9db6fb17",
   "metadata": {},
   "outputs": [
    {
     "data": {
      "text/plain": [
       "1    -4.358506\n",
       "2   -12.313221\n",
       "3   -10.732070\n",
       "4    -1.931768\n",
       "Name: X, dtype: float64"
      ]
     },
     "execution_count": 21,
     "metadata": {},
     "output_type": "execute_result"
    }
   ],
   "source": [
    "df.X"
   ]
  },
  {
   "cell_type": "code",
   "execution_count": 23,
   "id": "72a6dd5e-0bc6-428d-9731-792fea41d584",
   "metadata": {},
   "outputs": [
    {
     "data": {
      "text/html": [
       "<div>\n",
       "<style scoped>\n",
       "    .dataframe tbody tr th:only-of-type {\n",
       "        vertical-align: middle;\n",
       "    }\n",
       "\n",
       "    .dataframe tbody tr th {\n",
       "        vertical-align: top;\n",
       "    }\n",
       "\n",
       "    .dataframe thead th {\n",
       "        text-align: right;\n",
       "    }\n",
       "</style>\n",
       "<table border=\"1\" class=\"dataframe\">\n",
       "  <thead>\n",
       "    <tr style=\"text-align: right;\">\n",
       "      <th></th>\n",
       "      <th>W</th>\n",
       "      <th>Y</th>\n",
       "    </tr>\n",
       "  </thead>\n",
       "  <tbody>\n",
       "    <tr>\n",
       "      <th>1</th>\n",
       "      <td>-10.798522</td>\n",
       "      <td>-18.471889</td>\n",
       "    </tr>\n",
       "    <tr>\n",
       "      <th>2</th>\n",
       "      <td>-20.251640</td>\n",
       "      <td>-28.741257</td>\n",
       "    </tr>\n",
       "    <tr>\n",
       "      <th>3</th>\n",
       "      <td>-4.816547</td>\n",
       "      <td>6.060518</td>\n",
       "    </tr>\n",
       "    <tr>\n",
       "      <th>4</th>\n",
       "      <td>-13.309844</td>\n",
       "      <td>-3.608759</td>\n",
       "    </tr>\n",
       "  </tbody>\n",
       "</table>\n",
       "</div>"
      ],
      "text/plain": [
       "           W          Y\n",
       "1 -10.798522 -18.471889\n",
       "2 -20.251640 -28.741257\n",
       "3  -4.816547   6.060518\n",
       "4 -13.309844  -3.608759"
      ]
     },
     "execution_count": 23,
     "metadata": {},
     "output_type": "execute_result"
    }
   ],
   "source": [
    "df[['W','Y']] #FILTADODE DF, PRIMER CORCHETE AVISA QUE VAS A HACER SLACING, SEGUNDA SON LAS COLUMNAS DE MI INTERES COMO LISTA"
   ]
  },
  {
   "cell_type": "code",
   "execution_count": 24,
   "id": "4c573557-b6c4-4370-8d25-274d9a9ee156",
   "metadata": {},
   "outputs": [
    {
     "data": {
      "text/html": [
       "<div>\n",
       "<style scoped>\n",
       "    .dataframe tbody tr th:only-of-type {\n",
       "        vertical-align: middle;\n",
       "    }\n",
       "\n",
       "    .dataframe tbody tr th {\n",
       "        vertical-align: top;\n",
       "    }\n",
       "\n",
       "    .dataframe thead th {\n",
       "        text-align: right;\n",
       "    }\n",
       "</style>\n",
       "<table border=\"1\" class=\"dataframe\">\n",
       "  <thead>\n",
       "    <tr style=\"text-align: right;\">\n",
       "      <th></th>\n",
       "      <th>W</th>\n",
       "      <th>Y</th>\n",
       "    </tr>\n",
       "  </thead>\n",
       "  <tbody>\n",
       "    <tr>\n",
       "      <th>1</th>\n",
       "      <td>-10.798522</td>\n",
       "      <td>-18.471889</td>\n",
       "    </tr>\n",
       "    <tr>\n",
       "      <th>2</th>\n",
       "      <td>-20.251640</td>\n",
       "      <td>-28.741257</td>\n",
       "    </tr>\n",
       "    <tr>\n",
       "      <th>3</th>\n",
       "      <td>-4.816547</td>\n",
       "      <td>6.060518</td>\n",
       "    </tr>\n",
       "    <tr>\n",
       "      <th>4</th>\n",
       "      <td>-13.309844</td>\n",
       "      <td>-3.608759</td>\n",
       "    </tr>\n",
       "  </tbody>\n",
       "</table>\n",
       "</div>"
      ],
      "text/plain": [
       "           W          Y\n",
       "1 -10.798522 -18.471889\n",
       "2 -20.251640 -28.741257\n",
       "3  -4.816547   6.060518\n",
       "4 -13.309844  -3.608759"
      ]
     },
     "execution_count": 24,
     "metadata": {},
     "output_type": "execute_result"
    }
   ],
   "source": [
    "columnas = ['W','Y']\n",
    "df[columnas]"
   ]
  },
  {
   "cell_type": "code",
   "execution_count": 25,
   "id": "dc44a447-6034-4693-a3ae-e1f8c1694821",
   "metadata": {},
   "outputs": [
    {
     "data": {
      "text/plain": [
       "1   -22.830396\n",
       "2   -41.054478\n",
       "3    -4.671552\n",
       "4    -5.540527\n",
       "dtype: float64"
      ]
     },
     "execution_count": 25,
     "metadata": {},
     "output_type": "execute_result"
    }
   ],
   "source": [
    "df.X+df.Y"
   ]
  },
  {
   "cell_type": "code",
   "execution_count": 28,
   "id": "9b23ca52-5f71-4cec-ad2f-02ea30176e70",
   "metadata": {},
   "outputs": [
    {
     "data": {
      "text/html": [
       "<div>\n",
       "<style scoped>\n",
       "    .dataframe tbody tr th:only-of-type {\n",
       "        vertical-align: middle;\n",
       "    }\n",
       "\n",
       "    .dataframe tbody tr th {\n",
       "        vertical-align: top;\n",
       "    }\n",
       "\n",
       "    .dataframe thead th {\n",
       "        text-align: right;\n",
       "    }\n",
       "</style>\n",
       "<table border=\"1\" class=\"dataframe\">\n",
       "  <thead>\n",
       "    <tr style=\"text-align: right;\">\n",
       "      <th></th>\n",
       "      <th>W</th>\n",
       "      <th>X</th>\n",
       "      <th>Y</th>\n",
       "      <th>Z</th>\n",
       "      <th>suma_X_Y</th>\n",
       "    </tr>\n",
       "  </thead>\n",
       "  <tbody>\n",
       "    <tr>\n",
       "      <th>1</th>\n",
       "      <td>-10.798522</td>\n",
       "      <td>-4.358506</td>\n",
       "      <td>-18.471889</td>\n",
       "      <td>10.038653</td>\n",
       "      <td>5.680146</td>\n",
       "    </tr>\n",
       "    <tr>\n",
       "      <th>2</th>\n",
       "      <td>-20.251640</td>\n",
       "      <td>-12.313221</td>\n",
       "      <td>-28.741257</td>\n",
       "      <td>-11.040896</td>\n",
       "      <td>-23.354117</td>\n",
       "    </tr>\n",
       "    <tr>\n",
       "      <th>3</th>\n",
       "      <td>-4.816547</td>\n",
       "      <td>-10.732070</td>\n",
       "      <td>6.060518</td>\n",
       "      <td>-17.627154</td>\n",
       "      <td>-28.359224</td>\n",
       "    </tr>\n",
       "    <tr>\n",
       "      <th>4</th>\n",
       "      <td>-13.309844</td>\n",
       "      <td>-1.931768</td>\n",
       "      <td>-3.608759</td>\n",
       "      <td>8.003964</td>\n",
       "      <td>6.072196</td>\n",
       "    </tr>\n",
       "  </tbody>\n",
       "</table>\n",
       "</div>"
      ],
      "text/plain": [
       "           W          X          Y          Z   suma_X_Y\n",
       "1 -10.798522  -4.358506 -18.471889  10.038653   5.680146\n",
       "2 -20.251640 -12.313221 -28.741257 -11.040896 -23.354117\n",
       "3  -4.816547 -10.732070   6.060518 -17.627154 -28.359224\n",
       "4 -13.309844  -1.931768  -3.608759   8.003964   6.072196"
      ]
     },
     "execution_count": 28,
     "metadata": {},
     "output_type": "execute_result"
    }
   ],
   "source": [
    "df['suma_X_Y'] = df.X+df.Z\n",
    "df"
   ]
  },
  {
   "cell_type": "code",
   "execution_count": 33,
   "id": "b5529b06-02f8-4c66-aef9-db94bd2bf8d2",
   "metadata": {},
   "outputs": [
    {
     "data": {
      "text/html": [
       "<div>\n",
       "<style scoped>\n",
       "    .dataframe tbody tr th:only-of-type {\n",
       "        vertical-align: middle;\n",
       "    }\n",
       "\n",
       "    .dataframe tbody tr th {\n",
       "        vertical-align: top;\n",
       "    }\n",
       "\n",
       "    .dataframe thead th {\n",
       "        text-align: right;\n",
       "    }\n",
       "</style>\n",
       "<table border=\"1\" class=\"dataframe\">\n",
       "  <thead>\n",
       "    <tr style=\"text-align: right;\">\n",
       "      <th></th>\n",
       "      <th>W</th>\n",
       "      <th>X</th>\n",
       "      <th>Z</th>\n",
       "      <th>suma_X_Y</th>\n",
       "    </tr>\n",
       "  </thead>\n",
       "  <tbody>\n",
       "    <tr>\n",
       "      <th>1</th>\n",
       "      <td>-10.798522</td>\n",
       "      <td>-4.358506</td>\n",
       "      <td>10.038653</td>\n",
       "      <td>5.680146</td>\n",
       "    </tr>\n",
       "    <tr>\n",
       "      <th>2</th>\n",
       "      <td>-20.251640</td>\n",
       "      <td>-12.313221</td>\n",
       "      <td>-11.040896</td>\n",
       "      <td>-23.354117</td>\n",
       "    </tr>\n",
       "    <tr>\n",
       "      <th>3</th>\n",
       "      <td>-4.816547</td>\n",
       "      <td>-10.732070</td>\n",
       "      <td>-17.627154</td>\n",
       "      <td>-28.359224</td>\n",
       "    </tr>\n",
       "    <tr>\n",
       "      <th>4</th>\n",
       "      <td>-13.309844</td>\n",
       "      <td>-1.931768</td>\n",
       "      <td>8.003964</td>\n",
       "      <td>6.072196</td>\n",
       "    </tr>\n",
       "  </tbody>\n",
       "</table>\n",
       "</div>"
      ],
      "text/plain": [
       "           W          X          Z   suma_X_Y\n",
       "1 -10.798522  -4.358506  10.038653   5.680146\n",
       "2 -20.251640 -12.313221 -11.040896 -23.354117\n",
       "3  -4.816547 -10.732070 -17.627154 -28.359224\n",
       "4 -13.309844  -1.931768   8.003964   6.072196"
      ]
     },
     "execution_count": 33,
     "metadata": {},
     "output_type": "execute_result"
    }
   ],
   "source": [
    "df.drop('Y', axis=1, inplace= True) #eliminar columna, axis=1 borras columna, si es axis=0 es fila\n",
    "df"
   ]
  },
  {
   "cell_type": "code",
   "execution_count": 34,
   "id": "251c3a23-2b28-4bb5-aafb-1a5d632cd16f",
   "metadata": {},
   "outputs": [
    {
     "data": {
      "text/html": [
       "<div>\n",
       "<style scoped>\n",
       "    .dataframe tbody tr th:only-of-type {\n",
       "        vertical-align: middle;\n",
       "    }\n",
       "\n",
       "    .dataframe tbody tr th {\n",
       "        vertical-align: top;\n",
       "    }\n",
       "\n",
       "    .dataframe thead th {\n",
       "        text-align: right;\n",
       "    }\n",
       "</style>\n",
       "<table border=\"1\" class=\"dataframe\">\n",
       "  <thead>\n",
       "    <tr style=\"text-align: right;\">\n",
       "      <th></th>\n",
       "      <th>W</th>\n",
       "      <th>X</th>\n",
       "      <th>Z</th>\n",
       "      <th>suma_X_Y</th>\n",
       "    </tr>\n",
       "  </thead>\n",
       "  <tbody>\n",
       "    <tr>\n",
       "      <th>1</th>\n",
       "      <td>-10.798522</td>\n",
       "      <td>-4.358506</td>\n",
       "      <td>10.038653</td>\n",
       "      <td>5.680146</td>\n",
       "    </tr>\n",
       "    <tr>\n",
       "      <th>2</th>\n",
       "      <td>-20.251640</td>\n",
       "      <td>-12.313221</td>\n",
       "      <td>-11.040896</td>\n",
       "      <td>-23.354117</td>\n",
       "    </tr>\n",
       "    <tr>\n",
       "      <th>4</th>\n",
       "      <td>-13.309844</td>\n",
       "      <td>-1.931768</td>\n",
       "      <td>8.003964</td>\n",
       "      <td>6.072196</td>\n",
       "    </tr>\n",
       "  </tbody>\n",
       "</table>\n",
       "</div>"
      ],
      "text/plain": [
       "           W          X          Z   suma_X_Y\n",
       "1 -10.798522  -4.358506  10.038653   5.680146\n",
       "2 -20.251640 -12.313221 -11.040896 -23.354117\n",
       "4 -13.309844  -1.931768   8.003964   6.072196"
      ]
     },
     "execution_count": 34,
     "metadata": {},
     "output_type": "execute_result"
    }
   ],
   "source": [
    "df.drop(3, axis=0)"
   ]
  },
  {
   "cell_type": "code",
   "execution_count": 35,
   "id": "3df6af36-97f5-4446-a482-07b1e0166c1b",
   "metadata": {},
   "outputs": [
    {
     "data": {
      "text/plain": [
       "W           -4.816547\n",
       "X          -10.732070\n",
       "Z          -17.627154\n",
       "suma_X_Y   -28.359224\n",
       "Name: 3, dtype: float64"
      ]
     },
     "execution_count": 35,
     "metadata": {},
     "output_type": "execute_result"
    }
   ],
   "source": [
    "df.loc[3] #acceder a una fila "
   ]
  },
  {
   "cell_type": "code",
   "execution_count": null,
   "id": "7d7261e2-2597-4a89-b1a3-a6a9c6d2366d",
   "metadata": {},
   "outputs": [],
   "source": [
    "df.loc[1] "
   ]
  },
  {
   "cell_type": "code",
   "execution_count": 36,
   "id": "2108d650-3faa-4371-9cd8-6c15692318bf",
   "metadata": {},
   "outputs": [
    {
     "data": {
      "text/plain": [
       "W          -10.798522\n",
       "X           -4.358506\n",
       "Z           10.038653\n",
       "suma_X_Y     5.680146\n",
       "Name: 1, dtype: float64"
      ]
     },
     "execution_count": 36,
     "metadata": {},
     "output_type": "execute_result"
    }
   ],
   "source": [
    "#localización del índice\n",
    "df.iloc[0]"
   ]
  },
  {
   "cell_type": "code",
   "execution_count": 37,
   "id": "b0cae9c2-ea74-4fe7-a3bc-c85241f5c4d8",
   "metadata": {},
   "outputs": [
    {
     "data": {
      "text/html": [
       "<div>\n",
       "<style scoped>\n",
       "    .dataframe tbody tr th:only-of-type {\n",
       "        vertical-align: middle;\n",
       "    }\n",
       "\n",
       "    .dataframe tbody tr th {\n",
       "        vertical-align: top;\n",
       "    }\n",
       "\n",
       "    .dataframe thead th {\n",
       "        text-align: right;\n",
       "    }\n",
       "</style>\n",
       "<table border=\"1\" class=\"dataframe\">\n",
       "  <thead>\n",
       "    <tr style=\"text-align: right;\">\n",
       "      <th></th>\n",
       "      <th>W</th>\n",
       "      <th>X</th>\n",
       "      <th>Z</th>\n",
       "      <th>suma_X_Y</th>\n",
       "    </tr>\n",
       "  </thead>\n",
       "  <tbody>\n",
       "    <tr>\n",
       "      <th>1</th>\n",
       "      <td>-10.798522</td>\n",
       "      <td>-4.358506</td>\n",
       "      <td>10.038653</td>\n",
       "      <td>5.680146</td>\n",
       "    </tr>\n",
       "    <tr>\n",
       "      <th>3</th>\n",
       "      <td>-4.816547</td>\n",
       "      <td>-10.732070</td>\n",
       "      <td>-17.627154</td>\n",
       "      <td>-28.359224</td>\n",
       "    </tr>\n",
       "  </tbody>\n",
       "</table>\n",
       "</div>"
      ],
      "text/plain": [
       "           W          X          Z   suma_X_Y\n",
       "1 -10.798522  -4.358506  10.038653   5.680146\n",
       "3  -4.816547 -10.732070 -17.627154 -28.359224"
      ]
     },
     "execution_count": 37,
     "metadata": {},
     "output_type": "execute_result"
    }
   ],
   "source": [
    "df. iloc[[0,2]]"
   ]
  },
  {
   "cell_type": "code",
   "execution_count": 38,
   "id": "471e285e-1e98-4d53-aba2-a80be8109703",
   "metadata": {},
   "outputs": [
    {
     "data": {
      "text/plain": [
       "np.float64(-10.732070344002484)"
      ]
     },
     "execution_count": 38,
     "metadata": {},
     "output_type": "execute_result"
    }
   ],
   "source": [
    "df.loc[3,'X']"
   ]
  },
  {
   "cell_type": "code",
   "execution_count": 41,
   "id": "e531f49b-f899-4c2f-9e54-e24311a1bbce",
   "metadata": {},
   "outputs": [
    {
     "data": {
      "text/html": [
       "<div>\n",
       "<style scoped>\n",
       "    .dataframe tbody tr th:only-of-type {\n",
       "        vertical-align: middle;\n",
       "    }\n",
       "\n",
       "    .dataframe tbody tr th {\n",
       "        vertical-align: top;\n",
       "    }\n",
       "\n",
       "    .dataframe thead th {\n",
       "        text-align: right;\n",
       "    }\n",
       "</style>\n",
       "<table border=\"1\" class=\"dataframe\">\n",
       "  <thead>\n",
       "    <tr style=\"text-align: right;\">\n",
       "      <th></th>\n",
       "      <th>X</th>\n",
       "      <th>suma_X_Y</th>\n",
       "    </tr>\n",
       "  </thead>\n",
       "  <tbody>\n",
       "    <tr>\n",
       "      <th>2</th>\n",
       "      <td>-12.313221</td>\n",
       "      <td>-23.354117</td>\n",
       "    </tr>\n",
       "    <tr>\n",
       "      <th>4</th>\n",
       "      <td>-1.931768</td>\n",
       "      <td>6.072196</td>\n",
       "    </tr>\n",
       "  </tbody>\n",
       "</table>\n",
       "</div>"
      ],
      "text/plain": [
       "           X   suma_X_Y\n",
       "2 -12.313221 -23.354117\n",
       "4  -1.931768   6.072196"
      ]
     },
     "execution_count": 41,
     "metadata": {},
     "output_type": "execute_result"
    }
   ],
   "source": [
    "df.loc[[2,4],['X','suma_X_Y']]"
   ]
  }
 ],
 "metadata": {
  "kernelspec": {
   "display_name": "Python 3 (ipykernel)",
   "language": "python",
   "name": "python3"
  },
  "language_info": {
   "codemirror_mode": {
    "name": "ipython",
    "version": 3
   },
   "file_extension": ".py",
   "mimetype": "text/x-python",
   "name": "python",
   "nbconvert_exporter": "python",
   "pygments_lexer": "ipython3",
   "version": "3.11.1"
  }
 },
 "nbformat": 4,
 "nbformat_minor": 5
}
