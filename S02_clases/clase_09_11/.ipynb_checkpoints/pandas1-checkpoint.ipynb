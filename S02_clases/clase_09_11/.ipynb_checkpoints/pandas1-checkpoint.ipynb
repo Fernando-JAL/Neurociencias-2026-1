{
 "cells": [
  {
   "cell_type": "code",
   "execution_count": 2,
   "id": "dc4348e0-dfd2-4895-901f-a3306dda0417",
   "metadata": {},
   "outputs": [],
   "source": [
    "import pandas as pd"
   ]
  },
  {
   "cell_type": "code",
   "execution_count": 12,
   "id": "47fa903c-c3d3-455c-a4c5-ff8c8121fad9",
   "metadata": {},
   "outputs": [
    {
     "data": {
      "text/plain": [
       "0     6\n",
       "1     8\n",
       "2    34\n",
       "3    94\n",
       "4    78\n",
       "dtype: int64"
      ]
     },
     "execution_count": 12,
     "metadata": {},
     "output_type": "execute_result"
    }
   ],
   "source": [
    "valores = [6,8,34,94,78]\n",
    "indice= range(len(valores))\n",
    "\n",
    "serie1= pd.Series(data=valores, index= indice)\n",
    "serie1"
   ]
  },
  {
   "cell_type": "code",
   "execution_count": 13,
   "id": "99b48ce5-13f5-423d-ae0d-bce8a7d70c17",
   "metadata": {},
   "outputs": [
    {
     "data": {
      "text/plain": [
       "0     28\n",
       "1     45\n",
       "2   -852\n",
       "3      3\n",
       "4     16\n",
       "dtype: int64"
      ]
     },
     "execution_count": 13,
     "metadata": {},
     "output_type": "execute_result"
    }
   ],
   "source": [
    "valores2= [28, 45,-852 , 3, 16]\n",
    "serie2= pd.Series(index=indice, data=valores2)\n",
    "serie2"
   ]
  },
  {
   "cell_type": "code",
   "execution_count": 17,
   "id": "188068de-3be0-45c1-92c5-9569ecd10d8b",
   "metadata": {},
   "outputs": [
    {
     "data": {
      "text/plain": [
       "0      168\n",
       "1      360\n",
       "2   -28968\n",
       "3      282\n",
       "4     1248\n",
       "dtype: int64"
      ]
     },
     "execution_count": 17,
     "metadata": {},
     "output_type": "execute_result"
    }
   ],
   "source": [
    "serie1 * serie2"
   ]
  },
  {
   "cell_type": "code",
   "execution_count": 18,
   "id": "cd99b646-0ab2-4c17-b699-c8c1d4869e27",
   "metadata": {},
   "outputs": [
    {
     "data": {
      "text/plain": [
       "0.0"
      ]
     },
     "execution_count": 18,
     "metadata": {},
     "output_type": "execute_result"
    }
   ],
   "source": [
    "34**(-852)"
   ]
  },
  {
   "cell_type": "code",
   "execution_count": 19,
   "id": "aadd0742-4fb1-4661-9666-5e9c5f1a95b9",
   "metadata": {},
   "outputs": [],
   "source": [
    "import numpy as np"
   ]
  },
  {
   "cell_type": "code",
   "execution_count": 20,
   "id": "35b0b5f9-4797-4d98-b716-3b3b4901c50c",
   "metadata": {},
   "outputs": [
    {
     "data": {
      "text/plain": [
       "array([[ -6.24196717,   1.1310278 ,  16.34793431, -20.13195698],\n",
       "       [ -0.80858773, -12.27218333, -20.00640429,  -9.34953532],\n",
       "       [ 10.93375316, -19.71735764, -35.82707948,   0.76991618],\n",
       "       [-26.77687809,   7.07674615, -20.23796625, -24.39176066]])"
      ]
     },
     "execution_count": 20,
     "metadata": {},
     "output_type": "execute_result"
    }
   ],
   "source": [
    "array= np.random.normal(-10,10, size=[4,4])\n",
    "array"
   ]
  },
  {
   "cell_type": "code",
   "execution_count": 22,
   "id": "dd6084d6-a489-4566-8cf3-b46a1c228e13",
   "metadata": {},
   "outputs": [
    {
     "data": {
      "text/html": [
       "<div>\n",
       "<style scoped>\n",
       "    .dataframe tbody tr th:only-of-type {\n",
       "        vertical-align: middle;\n",
       "    }\n",
       "\n",
       "    .dataframe tbody tr th {\n",
       "        vertical-align: top;\n",
       "    }\n",
       "\n",
       "    .dataframe thead th {\n",
       "        text-align: right;\n",
       "    }\n",
       "</style>\n",
       "<table border=\"1\" class=\"dataframe\">\n",
       "  <thead>\n",
       "    <tr style=\"text-align: right;\">\n",
       "      <th></th>\n",
       "      <th>W</th>\n",
       "      <th>X</th>\n",
       "    </tr>\n",
       "  </thead>\n",
       "  <tbody>\n",
       "    <tr>\n",
       "      <th>a</th>\n",
       "      <td>2</td>\n",
       "      <td>3</td>\n",
       "    </tr>\n",
       "    <tr>\n",
       "      <th>b</th>\n",
       "      <td>4</td>\n",
       "      <td>5</td>\n",
       "    </tr>\n",
       "  </tbody>\n",
       "</table>\n",
       "</div>"
      ],
      "text/plain": [
       "   W  X\n",
       "a  2  3\n",
       "b  4  5"
      ]
     },
     "execution_count": 22,
     "metadata": {},
     "output_type": "execute_result"
    }
   ],
   "source": [
    "pd.DataFrame([[2,3],[4,5]], index=['a','b'], columns=['W','X'])"
   ]
  },
  {
   "cell_type": "code",
   "execution_count": 23,
   "id": "173e9798-a509-4fa3-9283-1c6a0219bfe4",
   "metadata": {},
   "outputs": [
    {
     "data": {
      "text/html": [
       "<div>\n",
       "<style scoped>\n",
       "    .dataframe tbody tr th:only-of-type {\n",
       "        vertical-align: middle;\n",
       "    }\n",
       "\n",
       "    .dataframe tbody tr th {\n",
       "        vertical-align: top;\n",
       "    }\n",
       "\n",
       "    .dataframe thead th {\n",
       "        text-align: right;\n",
       "    }\n",
       "</style>\n",
       "<table border=\"1\" class=\"dataframe\">\n",
       "  <thead>\n",
       "    <tr style=\"text-align: right;\">\n",
       "      <th></th>\n",
       "      <th>0</th>\n",
       "      <th>1</th>\n",
       "      <th>2</th>\n",
       "      <th>3</th>\n",
       "    </tr>\n",
       "  </thead>\n",
       "  <tbody>\n",
       "    <tr>\n",
       "      <th>0</th>\n",
       "      <td>-6.241967</td>\n",
       "      <td>1.131028</td>\n",
       "      <td>16.347934</td>\n",
       "      <td>-20.131957</td>\n",
       "    </tr>\n",
       "    <tr>\n",
       "      <th>1</th>\n",
       "      <td>-0.808588</td>\n",
       "      <td>-12.272183</td>\n",
       "      <td>-20.006404</td>\n",
       "      <td>-9.349535</td>\n",
       "    </tr>\n",
       "    <tr>\n",
       "      <th>2</th>\n",
       "      <td>10.933753</td>\n",
       "      <td>-19.717358</td>\n",
       "      <td>-35.827079</td>\n",
       "      <td>0.769916</td>\n",
       "    </tr>\n",
       "    <tr>\n",
       "      <th>3</th>\n",
       "      <td>-26.776878</td>\n",
       "      <td>7.076746</td>\n",
       "      <td>-20.237966</td>\n",
       "      <td>-24.391761</td>\n",
       "    </tr>\n",
       "  </tbody>\n",
       "</table>\n",
       "</div>"
      ],
      "text/plain": [
       "           0          1          2          3\n",
       "0  -6.241967   1.131028  16.347934 -20.131957\n",
       "1  -0.808588 -12.272183 -20.006404  -9.349535\n",
       "2  10.933753 -19.717358 -35.827079   0.769916\n",
       "3 -26.776878   7.076746 -20.237966 -24.391761"
      ]
     },
     "execution_count": 23,
     "metadata": {},
     "output_type": "execute_result"
    }
   ],
   "source": [
    "pd.DataFrame(array)"
   ]
  },
  {
   "cell_type": "code",
   "execution_count": 24,
   "id": "5cbfb237-596a-4cc6-bec9-8ba90d9da22e",
   "metadata": {},
   "outputs": [
    {
     "data": {
      "text/plain": [
       "4"
      ]
     },
     "execution_count": 24,
     "metadata": {},
     "output_type": "execute_result"
    }
   ],
   "source": [
    "len(array)"
   ]
  },
  {
   "cell_type": "code",
   "execution_count": 28,
   "id": "ad5d4160-e213-494f-9880-42f1b4a03db2",
   "metadata": {},
   "outputs": [
    {
     "data": {
      "text/html": [
       "<div>\n",
       "<style scoped>\n",
       "    .dataframe tbody tr th:only-of-type {\n",
       "        vertical-align: middle;\n",
       "    }\n",
       "\n",
       "    .dataframe tbody tr th {\n",
       "        vertical-align: top;\n",
       "    }\n",
       "\n",
       "    .dataframe thead th {\n",
       "        text-align: right;\n",
       "    }\n",
       "</style>\n",
       "<table border=\"1\" class=\"dataframe\">\n",
       "  <thead>\n",
       "    <tr style=\"text-align: right;\">\n",
       "      <th></th>\n",
       "      <th>W</th>\n",
       "      <th>X</th>\n",
       "      <th>Y</th>\n",
       "      <th>Z</th>\n",
       "    </tr>\n",
       "  </thead>\n",
       "  <tbody>\n",
       "    <tr>\n",
       "      <th>1</th>\n",
       "      <td>-6.241967</td>\n",
       "      <td>1.131028</td>\n",
       "      <td>16.347934</td>\n",
       "      <td>-20.131957</td>\n",
       "    </tr>\n",
       "    <tr>\n",
       "      <th>2</th>\n",
       "      <td>-0.808588</td>\n",
       "      <td>-12.272183</td>\n",
       "      <td>-20.006404</td>\n",
       "      <td>-9.349535</td>\n",
       "    </tr>\n",
       "    <tr>\n",
       "      <th>3</th>\n",
       "      <td>10.933753</td>\n",
       "      <td>-19.717358</td>\n",
       "      <td>-35.827079</td>\n",
       "      <td>0.769916</td>\n",
       "    </tr>\n",
       "    <tr>\n",
       "      <th>4</th>\n",
       "      <td>-26.776878</td>\n",
       "      <td>7.076746</td>\n",
       "      <td>-20.237966</td>\n",
       "      <td>-24.391761</td>\n",
       "    </tr>\n",
       "  </tbody>\n",
       "</table>\n",
       "</div>"
      ],
      "text/plain": [
       "           W          X          Y          Z\n",
       "1  -6.241967   1.131028  16.347934 -20.131957\n",
       "2  -0.808588 -12.272183 -20.006404  -9.349535\n",
       "3  10.933753 -19.717358 -35.827079   0.769916\n",
       "4 -26.776878   7.076746 -20.237966 -24.391761"
      ]
     },
     "execution_count": 28,
     "metadata": {},
     "output_type": "execute_result"
    }
   ],
   "source": [
    "df=pd.DataFrame(array, index=range(1, len(array)+1), columns=['W','X','Y','Z'])\n",
    "df"
   ]
  },
  {
   "cell_type": "code",
   "execution_count": 29,
   "id": "7ffb0733-7c9f-4171-8578-40f916fc6b77",
   "metadata": {},
   "outputs": [
    {
     "data": {
      "text/plain": [
       "1     1.131028\n",
       "2   -12.272183\n",
       "3   -19.717358\n",
       "4     7.076746\n",
       "Name: X, dtype: float64"
      ]
     },
     "execution_count": 29,
     "metadata": {},
     "output_type": "execute_result"
    }
   ],
   "source": [
    "df['X']"
   ]
  },
  {
   "cell_type": "code",
   "execution_count": 30,
   "id": "502d2a6d-ed6d-4afb-b346-fa8d42483d7f",
   "metadata": {},
   "outputs": [
    {
     "data": {
      "text/plain": [
       "pandas.core.series.Series"
      ]
     },
     "execution_count": 30,
     "metadata": {},
     "output_type": "execute_result"
    }
   ],
   "source": [
    "type(df['X'])"
   ]
  },
  {
   "cell_type": "code",
   "execution_count": 31,
   "id": "be3156fb-fc43-4363-b5e7-0afa0d78b24e",
   "metadata": {},
   "outputs": [
    {
     "data": {
      "text/plain": [
       "pandas.core.frame.DataFrame"
      ]
     },
     "execution_count": 31,
     "metadata": {},
     "output_type": "execute_result"
    }
   ],
   "source": [
    "type(df)"
   ]
  },
  {
   "cell_type": "code",
   "execution_count": 32,
   "id": "cdabad37-b832-4794-bc88-fc5940492138",
   "metadata": {},
   "outputs": [
    {
     "data": {
      "text/plain": [
       "np.float64(-12.272183325742791)"
      ]
     },
     "execution_count": 32,
     "metadata": {},
     "output_type": "execute_result"
    }
   ],
   "source": [
    "df['X'][2]"
   ]
  },
  {
   "cell_type": "code",
   "execution_count": 33,
   "id": "8ffc0b5d-e471-45c1-be48-5f29c1806aec",
   "metadata": {},
   "outputs": [
    {
     "data": {
      "text/plain": [
       "1     1.131028\n",
       "2   -12.272183\n",
       "3   -19.717358\n",
       "4     7.076746\n",
       "Name: X, dtype: float64"
      ]
     },
     "execution_count": 33,
     "metadata": {},
     "output_type": "execute_result"
    }
   ],
   "source": [
    "df.X"
   ]
  },
  {
   "cell_type": "code",
   "execution_count": 34,
   "id": "9017b652-e853-4b1c-b0cc-fca20893f685",
   "metadata": {},
   "outputs": [
    {
     "data": {
      "text/html": [
       "<div>\n",
       "<style scoped>\n",
       "    .dataframe tbody tr th:only-of-type {\n",
       "        vertical-align: middle;\n",
       "    }\n",
       "\n",
       "    .dataframe tbody tr th {\n",
       "        vertical-align: top;\n",
       "    }\n",
       "\n",
       "    .dataframe thead th {\n",
       "        text-align: right;\n",
       "    }\n",
       "</style>\n",
       "<table border=\"1\" class=\"dataframe\">\n",
       "  <thead>\n",
       "    <tr style=\"text-align: right;\">\n",
       "      <th></th>\n",
       "      <th>W</th>\n",
       "      <th>Y</th>\n",
       "    </tr>\n",
       "  </thead>\n",
       "  <tbody>\n",
       "    <tr>\n",
       "      <th>1</th>\n",
       "      <td>-6.241967</td>\n",
       "      <td>16.347934</td>\n",
       "    </tr>\n",
       "    <tr>\n",
       "      <th>2</th>\n",
       "      <td>-0.808588</td>\n",
       "      <td>-20.006404</td>\n",
       "    </tr>\n",
       "    <tr>\n",
       "      <th>3</th>\n",
       "      <td>10.933753</td>\n",
       "      <td>-35.827079</td>\n",
       "    </tr>\n",
       "    <tr>\n",
       "      <th>4</th>\n",
       "      <td>-26.776878</td>\n",
       "      <td>-20.237966</td>\n",
       "    </tr>\n",
       "  </tbody>\n",
       "</table>\n",
       "</div>"
      ],
      "text/plain": [
       "           W          Y\n",
       "1  -6.241967  16.347934\n",
       "2  -0.808588 -20.006404\n",
       "3  10.933753 -35.827079\n",
       "4 -26.776878 -20.237966"
      ]
     },
     "execution_count": 34,
     "metadata": {},
     "output_type": "execute_result"
    }
   ],
   "source": [
    "df[ ['W', 'Y'] ]"
   ]
  },
  {
   "cell_type": "code",
   "execution_count": 35,
   "id": "6afba762-a69f-4499-8dba-ca10862e9685",
   "metadata": {},
   "outputs": [
    {
     "data": {
      "text/html": [
       "<div>\n",
       "<style scoped>\n",
       "    .dataframe tbody tr th:only-of-type {\n",
       "        vertical-align: middle;\n",
       "    }\n",
       "\n",
       "    .dataframe tbody tr th {\n",
       "        vertical-align: top;\n",
       "    }\n",
       "\n",
       "    .dataframe thead th {\n",
       "        text-align: right;\n",
       "    }\n",
       "</style>\n",
       "<table border=\"1\" class=\"dataframe\">\n",
       "  <thead>\n",
       "    <tr style=\"text-align: right;\">\n",
       "      <th></th>\n",
       "      <th>W</th>\n",
       "      <th>Y</th>\n",
       "    </tr>\n",
       "  </thead>\n",
       "  <tbody>\n",
       "    <tr>\n",
       "      <th>1</th>\n",
       "      <td>-6.241967</td>\n",
       "      <td>16.347934</td>\n",
       "    </tr>\n",
       "    <tr>\n",
       "      <th>2</th>\n",
       "      <td>-0.808588</td>\n",
       "      <td>-20.006404</td>\n",
       "    </tr>\n",
       "    <tr>\n",
       "      <th>3</th>\n",
       "      <td>10.933753</td>\n",
       "      <td>-35.827079</td>\n",
       "    </tr>\n",
       "    <tr>\n",
       "      <th>4</th>\n",
       "      <td>-26.776878</td>\n",
       "      <td>-20.237966</td>\n",
       "    </tr>\n",
       "  </tbody>\n",
       "</table>\n",
       "</div>"
      ],
      "text/plain": [
       "           W          Y\n",
       "1  -6.241967  16.347934\n",
       "2  -0.808588 -20.006404\n",
       "3  10.933753 -35.827079\n",
       "4 -26.776878 -20.237966"
      ]
     },
     "execution_count": 35,
     "metadata": {},
     "output_type": "execute_result"
    }
   ],
   "source": [
    "columnas= ['W','Y']\n",
    "df[columnas]"
   ]
  },
  {
   "cell_type": "code",
   "execution_count": 38,
   "id": "9d448a10-7673-4125-b4ab-70e079edea59",
   "metadata": {},
   "outputs": [
    {
     "data": {
      "text/html": [
       "<div>\n",
       "<style scoped>\n",
       "    .dataframe tbody tr th:only-of-type {\n",
       "        vertical-align: middle;\n",
       "    }\n",
       "\n",
       "    .dataframe tbody tr th {\n",
       "        vertical-align: top;\n",
       "    }\n",
       "\n",
       "    .dataframe thead th {\n",
       "        text-align: right;\n",
       "    }\n",
       "</style>\n",
       "<table border=\"1\" class=\"dataframe\">\n",
       "  <thead>\n",
       "    <tr style=\"text-align: right;\">\n",
       "      <th></th>\n",
       "      <th>W</th>\n",
       "      <th>X</th>\n",
       "      <th>Y</th>\n",
       "      <th>Z</th>\n",
       "      <th>suma_x_z</th>\n",
       "      <th>suma_X_Z</th>\n",
       "    </tr>\n",
       "  </thead>\n",
       "  <tbody>\n",
       "    <tr>\n",
       "      <th>1</th>\n",
       "      <td>-6.241967</td>\n",
       "      <td>1.131028</td>\n",
       "      <td>16.347934</td>\n",
       "      <td>-20.131957</td>\n",
       "      <td>-19.000929</td>\n",
       "      <td>-19.000929</td>\n",
       "    </tr>\n",
       "    <tr>\n",
       "      <th>2</th>\n",
       "      <td>-0.808588</td>\n",
       "      <td>-12.272183</td>\n",
       "      <td>-20.006404</td>\n",
       "      <td>-9.349535</td>\n",
       "      <td>-21.621719</td>\n",
       "      <td>-21.621719</td>\n",
       "    </tr>\n",
       "    <tr>\n",
       "      <th>3</th>\n",
       "      <td>10.933753</td>\n",
       "      <td>-19.717358</td>\n",
       "      <td>-35.827079</td>\n",
       "      <td>0.769916</td>\n",
       "      <td>-18.947441</td>\n",
       "      <td>-18.947441</td>\n",
       "    </tr>\n",
       "    <tr>\n",
       "      <th>4</th>\n",
       "      <td>-26.776878</td>\n",
       "      <td>7.076746</td>\n",
       "      <td>-20.237966</td>\n",
       "      <td>-24.391761</td>\n",
       "      <td>-17.315015</td>\n",
       "      <td>-17.315015</td>\n",
       "    </tr>\n",
       "  </tbody>\n",
       "</table>\n",
       "</div>"
      ],
      "text/plain": [
       "           W          X          Y          Z   suma_x_z   suma_X_Z\n",
       "1  -6.241967   1.131028  16.347934 -20.131957 -19.000929 -19.000929\n",
       "2  -0.808588 -12.272183 -20.006404  -9.349535 -21.621719 -21.621719\n",
       "3  10.933753 -19.717358 -35.827079   0.769916 -18.947441 -18.947441\n",
       "4 -26.776878   7.076746 -20.237966 -24.391761 -17.315015 -17.315015"
      ]
     },
     "execution_count": 38,
     "metadata": {},
     "output_type": "execute_result"
    }
   ],
   "source": [
    "df['suma_X_Z']=df.X +df.Z\n",
    "df"
   ]
  },
  {
   "cell_type": "code",
   "execution_count": 42,
   "id": "d580f5c0-33a5-419c-8c07-0dcee3996438",
   "metadata": {},
   "outputs": [],
   "source": [
    "df.drop('suma_x_z',axis=1, inplace=True) #inplace hace el cambio definitivo, no solo para ese comando"
   ]
  },
  {
   "cell_type": "code",
   "execution_count": 43,
   "id": "1c02c4e9-1076-4d25-9839-e010bd5d52df",
   "metadata": {},
   "outputs": [
    {
     "data": {
      "text/html": [
       "<div>\n",
       "<style scoped>\n",
       "    .dataframe tbody tr th:only-of-type {\n",
       "        vertical-align: middle;\n",
       "    }\n",
       "\n",
       "    .dataframe tbody tr th {\n",
       "        vertical-align: top;\n",
       "    }\n",
       "\n",
       "    .dataframe thead th {\n",
       "        text-align: right;\n",
       "    }\n",
       "</style>\n",
       "<table border=\"1\" class=\"dataframe\">\n",
       "  <thead>\n",
       "    <tr style=\"text-align: right;\">\n",
       "      <th></th>\n",
       "      <th>W</th>\n",
       "      <th>X</th>\n",
       "      <th>Z</th>\n",
       "      <th>suma_X_Z</th>\n",
       "    </tr>\n",
       "  </thead>\n",
       "  <tbody>\n",
       "    <tr>\n",
       "      <th>1</th>\n",
       "      <td>-6.241967</td>\n",
       "      <td>1.131028</td>\n",
       "      <td>-20.131957</td>\n",
       "      <td>-19.000929</td>\n",
       "    </tr>\n",
       "    <tr>\n",
       "      <th>2</th>\n",
       "      <td>-0.808588</td>\n",
       "      <td>-12.272183</td>\n",
       "      <td>-9.349535</td>\n",
       "      <td>-21.621719</td>\n",
       "    </tr>\n",
       "    <tr>\n",
       "      <th>3</th>\n",
       "      <td>10.933753</td>\n",
       "      <td>-19.717358</td>\n",
       "      <td>0.769916</td>\n",
       "      <td>-18.947441</td>\n",
       "    </tr>\n",
       "    <tr>\n",
       "      <th>4</th>\n",
       "      <td>-26.776878</td>\n",
       "      <td>7.076746</td>\n",
       "      <td>-24.391761</td>\n",
       "      <td>-17.315015</td>\n",
       "    </tr>\n",
       "  </tbody>\n",
       "</table>\n",
       "</div>"
      ],
      "text/plain": [
       "           W          X          Z   suma_X_Z\n",
       "1  -6.241967   1.131028 -20.131957 -19.000929\n",
       "2  -0.808588 -12.272183  -9.349535 -21.621719\n",
       "3  10.933753 -19.717358   0.769916 -18.947441\n",
       "4 -26.776878   7.076746 -24.391761 -17.315015"
      ]
     },
     "execution_count": 43,
     "metadata": {},
     "output_type": "execute_result"
    }
   ],
   "source": [
    "df.drop('Y',axis=1) # axis 1 borra columnas, axis 0 borra filas)"
   ]
  },
  {
   "cell_type": "code",
   "execution_count": 44,
   "id": "8f721d65-d2e9-4130-aee2-17970192b216",
   "metadata": {},
   "outputs": [],
   "source": [
    "df.drop('Y',axis=1, inplace=True)"
   ]
  },
  {
   "cell_type": "code",
   "execution_count": 45,
   "id": "141d6b1f-05bf-4ec9-b626-0349861d3495",
   "metadata": {},
   "outputs": [
    {
     "data": {
      "text/html": [
       "<div>\n",
       "<style scoped>\n",
       "    .dataframe tbody tr th:only-of-type {\n",
       "        vertical-align: middle;\n",
       "    }\n",
       "\n",
       "    .dataframe tbody tr th {\n",
       "        vertical-align: top;\n",
       "    }\n",
       "\n",
       "    .dataframe thead th {\n",
       "        text-align: right;\n",
       "    }\n",
       "</style>\n",
       "<table border=\"1\" class=\"dataframe\">\n",
       "  <thead>\n",
       "    <tr style=\"text-align: right;\">\n",
       "      <th></th>\n",
       "      <th>W</th>\n",
       "      <th>X</th>\n",
       "      <th>Z</th>\n",
       "      <th>suma_X_Z</th>\n",
       "    </tr>\n",
       "  </thead>\n",
       "  <tbody>\n",
       "    <tr>\n",
       "      <th>1</th>\n",
       "      <td>-6.241967</td>\n",
       "      <td>1.131028</td>\n",
       "      <td>-20.131957</td>\n",
       "      <td>-19.000929</td>\n",
       "    </tr>\n",
       "    <tr>\n",
       "      <th>2</th>\n",
       "      <td>-0.808588</td>\n",
       "      <td>-12.272183</td>\n",
       "      <td>-9.349535</td>\n",
       "      <td>-21.621719</td>\n",
       "    </tr>\n",
       "    <tr>\n",
       "      <th>3</th>\n",
       "      <td>10.933753</td>\n",
       "      <td>-19.717358</td>\n",
       "      <td>0.769916</td>\n",
       "      <td>-18.947441</td>\n",
       "    </tr>\n",
       "    <tr>\n",
       "      <th>4</th>\n",
       "      <td>-26.776878</td>\n",
       "      <td>7.076746</td>\n",
       "      <td>-24.391761</td>\n",
       "      <td>-17.315015</td>\n",
       "    </tr>\n",
       "  </tbody>\n",
       "</table>\n",
       "</div>"
      ],
      "text/plain": [
       "           W          X          Z   suma_X_Z\n",
       "1  -6.241967   1.131028 -20.131957 -19.000929\n",
       "2  -0.808588 -12.272183  -9.349535 -21.621719\n",
       "3  10.933753 -19.717358   0.769916 -18.947441\n",
       "4 -26.776878   7.076746 -24.391761 -17.315015"
      ]
     },
     "execution_count": 45,
     "metadata": {},
     "output_type": "execute_result"
    }
   ],
   "source": [
    "df"
   ]
  },
  {
   "cell_type": "code",
   "execution_count": 46,
   "id": "a3ba55bb-ea75-4902-ad86-8eadcc017ecb",
   "metadata": {},
   "outputs": [
    {
     "data": {
      "text/html": [
       "<div>\n",
       "<style scoped>\n",
       "    .dataframe tbody tr th:only-of-type {\n",
       "        vertical-align: middle;\n",
       "    }\n",
       "\n",
       "    .dataframe tbody tr th {\n",
       "        vertical-align: top;\n",
       "    }\n",
       "\n",
       "    .dataframe thead th {\n",
       "        text-align: right;\n",
       "    }\n",
       "</style>\n",
       "<table border=\"1\" class=\"dataframe\">\n",
       "  <thead>\n",
       "    <tr style=\"text-align: right;\">\n",
       "      <th></th>\n",
       "      <th>W</th>\n",
       "      <th>X</th>\n",
       "      <th>Z</th>\n",
       "      <th>suma_X_Z</th>\n",
       "    </tr>\n",
       "  </thead>\n",
       "  <tbody>\n",
       "    <tr>\n",
       "      <th>1</th>\n",
       "      <td>-6.241967</td>\n",
       "      <td>1.131028</td>\n",
       "      <td>-20.131957</td>\n",
       "      <td>-19.000929</td>\n",
       "    </tr>\n",
       "    <tr>\n",
       "      <th>2</th>\n",
       "      <td>-0.808588</td>\n",
       "      <td>-12.272183</td>\n",
       "      <td>-9.349535</td>\n",
       "      <td>-21.621719</td>\n",
       "    </tr>\n",
       "    <tr>\n",
       "      <th>4</th>\n",
       "      <td>-26.776878</td>\n",
       "      <td>7.076746</td>\n",
       "      <td>-24.391761</td>\n",
       "      <td>-17.315015</td>\n",
       "    </tr>\n",
       "  </tbody>\n",
       "</table>\n",
       "</div>"
      ],
      "text/plain": [
       "           W          X          Z   suma_X_Z\n",
       "1  -6.241967   1.131028 -20.131957 -19.000929\n",
       "2  -0.808588 -12.272183  -9.349535 -21.621719\n",
       "4 -26.776878   7.076746 -24.391761 -17.315015"
      ]
     },
     "execution_count": 46,
     "metadata": {},
     "output_type": "execute_result"
    }
   ],
   "source": [
    "df.drop(3,axis=0)"
   ]
  },
  {
   "cell_type": "code",
   "execution_count": 47,
   "id": "7f4bc3bc-f3c7-4f23-9a7e-5bab514122d8",
   "metadata": {},
   "outputs": [
    {
     "data": {
      "text/html": [
       "<div>\n",
       "<style scoped>\n",
       "    .dataframe tbody tr th:only-of-type {\n",
       "        vertical-align: middle;\n",
       "    }\n",
       "\n",
       "    .dataframe tbody tr th {\n",
       "        vertical-align: top;\n",
       "    }\n",
       "\n",
       "    .dataframe thead th {\n",
       "        text-align: right;\n",
       "    }\n",
       "</style>\n",
       "<table border=\"1\" class=\"dataframe\">\n",
       "  <thead>\n",
       "    <tr style=\"text-align: right;\">\n",
       "      <th></th>\n",
       "      <th>W</th>\n",
       "      <th>X</th>\n",
       "      <th>Z</th>\n",
       "      <th>suma_X_Z</th>\n",
       "    </tr>\n",
       "  </thead>\n",
       "  <tbody>\n",
       "    <tr>\n",
       "      <th>1</th>\n",
       "      <td>-6.241967</td>\n",
       "      <td>1.131028</td>\n",
       "      <td>-20.131957</td>\n",
       "      <td>-19.000929</td>\n",
       "    </tr>\n",
       "    <tr>\n",
       "      <th>2</th>\n",
       "      <td>-0.808588</td>\n",
       "      <td>-12.272183</td>\n",
       "      <td>-9.349535</td>\n",
       "      <td>-21.621719</td>\n",
       "    </tr>\n",
       "    <tr>\n",
       "      <th>3</th>\n",
       "      <td>10.933753</td>\n",
       "      <td>-19.717358</td>\n",
       "      <td>0.769916</td>\n",
       "      <td>-18.947441</td>\n",
       "    </tr>\n",
       "    <tr>\n",
       "      <th>4</th>\n",
       "      <td>-26.776878</td>\n",
       "      <td>7.076746</td>\n",
       "      <td>-24.391761</td>\n",
       "      <td>-17.315015</td>\n",
       "    </tr>\n",
       "  </tbody>\n",
       "</table>\n",
       "</div>"
      ],
      "text/plain": [
       "           W          X          Z   suma_X_Z\n",
       "1  -6.241967   1.131028 -20.131957 -19.000929\n",
       "2  -0.808588 -12.272183  -9.349535 -21.621719\n",
       "3  10.933753 -19.717358   0.769916 -18.947441\n",
       "4 -26.776878   7.076746 -24.391761 -17.315015"
      ]
     },
     "execution_count": 47,
     "metadata": {},
     "output_type": "execute_result"
    }
   ],
   "source": [
    "df"
   ]
  },
  {
   "cell_type": "code",
   "execution_count": 48,
   "id": "0e8848d6-dda3-4d2e-9092-529c56f85979",
   "metadata": {},
   "outputs": [
    {
     "data": {
      "text/plain": [
       "W           10.933753\n",
       "X          -19.717358\n",
       "Z            0.769916\n",
       "suma_X_Z   -18.947441\n",
       "Name: 3, dtype: float64"
      ]
     },
     "execution_count": 48,
     "metadata": {},
     "output_type": "execute_result"
    }
   ],
   "source": [
    "df.loc[3]"
   ]
  },
  {
   "cell_type": "code",
   "execution_count": 49,
   "id": "1aeaf222-efa0-48e0-87ba-11edea7507e9",
   "metadata": {},
   "outputs": [
    {
     "data": {
      "text/plain": [
       "W           -6.241967\n",
       "X            1.131028\n",
       "Z          -20.131957\n",
       "suma_X_Z   -19.000929\n",
       "Name: 1, dtype: float64"
      ]
     },
     "execution_count": 49,
     "metadata": {},
     "output_type": "execute_result"
    }
   ],
   "source": [
    "df.loc[1]"
   ]
  },
  {
   "cell_type": "code",
   "execution_count": 50,
   "id": "b1068628-9dfd-40ec-9519-f1dc404a37af",
   "metadata": {},
   "outputs": [
    {
     "data": {
      "text/plain": [
       "W           -6.241967\n",
       "X            1.131028\n",
       "Z          -20.131957\n",
       "suma_X_Z   -19.000929\n",
       "Name: 1, dtype: float64"
      ]
     },
     "execution_count": 50,
     "metadata": {},
     "output_type": "execute_result"
    }
   ],
   "source": [
    "df.iloc[0]"
   ]
  },
  {
   "cell_type": "code",
   "execution_count": 51,
   "id": "2f2d4323-7b58-4f17-8bf5-34d5c9035955",
   "metadata": {},
   "outputs": [
    {
     "data": {
      "text/html": [
       "<div>\n",
       "<style scoped>\n",
       "    .dataframe tbody tr th:only-of-type {\n",
       "        vertical-align: middle;\n",
       "    }\n",
       "\n",
       "    .dataframe tbody tr th {\n",
       "        vertical-align: top;\n",
       "    }\n",
       "\n",
       "    .dataframe thead th {\n",
       "        text-align: right;\n",
       "    }\n",
       "</style>\n",
       "<table border=\"1\" class=\"dataframe\">\n",
       "  <thead>\n",
       "    <tr style=\"text-align: right;\">\n",
       "      <th></th>\n",
       "      <th>W</th>\n",
       "      <th>X</th>\n",
       "      <th>Z</th>\n",
       "      <th>suma_X_Z</th>\n",
       "    </tr>\n",
       "  </thead>\n",
       "  <tbody>\n",
       "    <tr>\n",
       "      <th>1</th>\n",
       "      <td>-6.241967</td>\n",
       "      <td>1.131028</td>\n",
       "      <td>-20.131957</td>\n",
       "      <td>-19.000929</td>\n",
       "    </tr>\n",
       "    <tr>\n",
       "      <th>3</th>\n",
       "      <td>10.933753</td>\n",
       "      <td>-19.717358</td>\n",
       "      <td>0.769916</td>\n",
       "      <td>-18.947441</td>\n",
       "    </tr>\n",
       "  </tbody>\n",
       "</table>\n",
       "</div>"
      ],
      "text/plain": [
       "           W          X          Z   suma_X_Z\n",
       "1  -6.241967   1.131028 -20.131957 -19.000929\n",
       "3  10.933753 -19.717358   0.769916 -18.947441"
      ]
     },
     "execution_count": 51,
     "metadata": {},
     "output_type": "execute_result"
    }
   ],
   "source": [
    "df.iloc[ [0,2] ]"
   ]
  },
  {
   "cell_type": "code",
   "execution_count": 52,
   "id": "6acfefda-9f26-45ca-b3e2-192f00d12dd8",
   "metadata": {},
   "outputs": [
    {
     "data": {
      "text/plain": [
       "np.float64(-19.717357638665415)"
      ]
     },
     "execution_count": 52,
     "metadata": {},
     "output_type": "execute_result"
    }
   ],
   "source": [
    "df.loc[3,'X']"
   ]
  },
  {
   "cell_type": "code",
   "execution_count": 53,
   "id": "2ddfdb18-5011-4323-a17f-eb219bd3fbad",
   "metadata": {},
   "outputs": [
    {
     "data": {
      "text/html": [
       "<div>\n",
       "<style scoped>\n",
       "    .dataframe tbody tr th:only-of-type {\n",
       "        vertical-align: middle;\n",
       "    }\n",
       "\n",
       "    .dataframe tbody tr th {\n",
       "        vertical-align: top;\n",
       "    }\n",
       "\n",
       "    .dataframe thead th {\n",
       "        text-align: right;\n",
       "    }\n",
       "</style>\n",
       "<table border=\"1\" class=\"dataframe\">\n",
       "  <thead>\n",
       "    <tr style=\"text-align: right;\">\n",
       "      <th></th>\n",
       "      <th>X</th>\n",
       "      <th>suma_X_Z</th>\n",
       "    </tr>\n",
       "  </thead>\n",
       "  <tbody>\n",
       "    <tr>\n",
       "      <th>2</th>\n",
       "      <td>-12.272183</td>\n",
       "      <td>-21.621719</td>\n",
       "    </tr>\n",
       "    <tr>\n",
       "      <th>4</th>\n",
       "      <td>7.076746</td>\n",
       "      <td>-17.315015</td>\n",
       "    </tr>\n",
       "  </tbody>\n",
       "</table>\n",
       "</div>"
      ],
      "text/plain": [
       "           X   suma_X_Z\n",
       "2 -12.272183 -21.621719\n",
       "4   7.076746 -17.315015"
      ]
     },
     "execution_count": 53,
     "metadata": {},
     "output_type": "execute_result"
    }
   ],
   "source": [
    "df.loc[ [2,4], ['X', 'suma_X_Z']]"
   ]
  },
  {
   "cell_type": "code",
   "execution_count": null,
   "id": "eea2b92f-21f5-4923-a9ec-1a68d30ff25c",
   "metadata": {},
   "outputs": [],
   "source": []
  }
 ],
 "metadata": {
  "kernelspec": {
   "display_name": "Python 3 (ipykernel)",
   "language": "python",
   "name": "python3"
  },
  "language_info": {
   "codemirror_mode": {
    "name": "ipython",
    "version": 3
   },
   "file_extension": ".py",
   "mimetype": "text/x-python",
   "name": "python",
   "nbconvert_exporter": "python",
   "pygments_lexer": "ipython3",
   "version": "3.10.4"
  }
 },
 "nbformat": 4,
 "nbformat_minor": 5
}
