{
 "cells": [
  {
   "cell_type": "markdown",
   "id": "af2456a2-1dd2-431f-aec9-1cba42b3a1fd",
   "metadata": {},
   "source": [
    "# Pandas"
   ]
  },
  {
   "cell_type": "code",
   "execution_count": 28,
   "id": "961464c8-2ecb-47f0-89ab-8c15ca6b3d68",
   "metadata": {},
   "outputs": [],
   "source": [
    "import pandas as pd"
   ]
  },
  {
   "cell_type": "code",
   "execution_count": 29,
   "id": "90c451d6-badd-4b04-9036-ea771305eec8",
   "metadata": {},
   "outputs": [
    {
     "data": {
      "text/plain": [
       "0     6\n",
       "1     8\n",
       "2     9\n",
       "3    12\n",
       "4    13\n",
       "dtype: int64"
      ]
     },
     "execution_count": 29,
     "metadata": {},
     "output_type": "execute_result"
    }
   ],
   "source": [
    "valores=[6,8,9,12,13 ]\n",
    "indice=range(len(valores))\n",
    "\n",
    "serie1=pd.Series(data=valores, index=indice)\n",
    "serie1"
   ]
  },
  {
   "cell_type": "code",
   "execution_count": 30,
   "id": "0b0bad6d-a4b8-4331-b635-59c510c14ee2",
   "metadata": {},
   "outputs": [],
   "source": [
    "valores2= [28,45,852,3,16 ]\n",
    "serie2=pd.Series(index=indice,data=valores2)"
   ]
  },
  {
   "cell_type": "code",
   "execution_count": 31,
   "id": "16d32ffb-c6b4-4976-93af-201901018189",
   "metadata": {},
   "outputs": [
    {
     "data": {
      "text/plain": [
       "0     168\n",
       "1     360\n",
       "2    7668\n",
       "3      36\n",
       "4     208\n",
       "dtype: int64"
      ]
     },
     "execution_count": 31,
     "metadata": {},
     "output_type": "execute_result"
    }
   ],
   "source": [
    "serie1* serie2"
   ]
  },
  {
   "cell_type": "code",
   "execution_count": 32,
   "id": "4f591b30-b213-4877-92a2-658d159b5cbe",
   "metadata": {},
   "outputs": [],
   "source": [
    "import numpy as np"
   ]
  },
  {
   "cell_type": "code",
   "execution_count": 33,
   "id": "1c70bc42-3c62-4422-92b7-e197ac5ebd9a",
   "metadata": {},
   "outputs": [
    {
     "data": {
      "text/plain": [
       "array([[ -7.15707769, -15.91946935, -21.8154882 , -42.04224362],\n",
       "       [ -5.28744686, -14.62766796, -17.26919485, -15.35493992],\n",
       "       [ -9.00129917,  -8.40108428,  12.67378268, -18.51711883],\n",
       "       [-17.4208309 ,  -1.22268908,  -2.91692276, -20.57055015]])"
      ]
     },
     "execution_count": 33,
     "metadata": {},
     "output_type": "execute_result"
    }
   ],
   "source": [
    "array=np.random.normal(-10,10,size=[4,4 ])\n",
    "array"
   ]
  },
  {
   "cell_type": "code",
   "execution_count": 34,
   "id": "e0cd0776-2948-4a2d-af19-df05d91d617a",
   "metadata": {},
   "outputs": [
    {
     "data": {
      "text/html": [
       "<div>\n",
       "<style scoped>\n",
       "    .dataframe tbody tr th:only-of-type {\n",
       "        vertical-align: middle;\n",
       "    }\n",
       "\n",
       "    .dataframe tbody tr th {\n",
       "        vertical-align: top;\n",
       "    }\n",
       "\n",
       "    .dataframe thead th {\n",
       "        text-align: right;\n",
       "    }\n",
       "</style>\n",
       "<table border=\"1\" class=\"dataframe\">\n",
       "  <thead>\n",
       "    <tr style=\"text-align: right;\">\n",
       "      <th></th>\n",
       "      <th>W</th>\n",
       "      <th>X</th>\n",
       "    </tr>\n",
       "  </thead>\n",
       "  <tbody>\n",
       "    <tr>\n",
       "      <th>a</th>\n",
       "      <td>2</td>\n",
       "      <td>3</td>\n",
       "    </tr>\n",
       "    <tr>\n",
       "      <th>b</th>\n",
       "      <td>4</td>\n",
       "      <td>5</td>\n",
       "    </tr>\n",
       "  </tbody>\n",
       "</table>\n",
       "</div>"
      ],
      "text/plain": [
       "   W  X\n",
       "a  2  3\n",
       "b  4  5"
      ]
     },
     "execution_count": 34,
     "metadata": {},
     "output_type": "execute_result"
    }
   ],
   "source": [
    "pd.DataFrame([[2,3 ],[4,5]],index=['a','b'],columns=['W','X' ])"
   ]
  },
  {
   "cell_type": "code",
   "execution_count": 35,
   "id": "9a342fb6-f817-4825-b3e9-664ef0ec5424",
   "metadata": {},
   "outputs": [
    {
     "data": {
      "text/html": [
       "<div>\n",
       "<style scoped>\n",
       "    .dataframe tbody tr th:only-of-type {\n",
       "        vertical-align: middle;\n",
       "    }\n",
       "\n",
       "    .dataframe tbody tr th {\n",
       "        vertical-align: top;\n",
       "    }\n",
       "\n",
       "    .dataframe thead th {\n",
       "        text-align: right;\n",
       "    }\n",
       "</style>\n",
       "<table border=\"1\" class=\"dataframe\">\n",
       "  <thead>\n",
       "    <tr style=\"text-align: right;\">\n",
       "      <th></th>\n",
       "      <th>0</th>\n",
       "      <th>1</th>\n",
       "      <th>2</th>\n",
       "      <th>3</th>\n",
       "    </tr>\n",
       "  </thead>\n",
       "  <tbody>\n",
       "    <tr>\n",
       "      <th>0</th>\n",
       "      <td>-7.157078</td>\n",
       "      <td>-15.919469</td>\n",
       "      <td>-21.815488</td>\n",
       "      <td>-42.042244</td>\n",
       "    </tr>\n",
       "    <tr>\n",
       "      <th>1</th>\n",
       "      <td>-5.287447</td>\n",
       "      <td>-14.627668</td>\n",
       "      <td>-17.269195</td>\n",
       "      <td>-15.354940</td>\n",
       "    </tr>\n",
       "    <tr>\n",
       "      <th>2</th>\n",
       "      <td>-9.001299</td>\n",
       "      <td>-8.401084</td>\n",
       "      <td>12.673783</td>\n",
       "      <td>-18.517119</td>\n",
       "    </tr>\n",
       "    <tr>\n",
       "      <th>3</th>\n",
       "      <td>-17.420831</td>\n",
       "      <td>-1.222689</td>\n",
       "      <td>-2.916923</td>\n",
       "      <td>-20.570550</td>\n",
       "    </tr>\n",
       "  </tbody>\n",
       "</table>\n",
       "</div>"
      ],
      "text/plain": [
       "           0          1          2          3\n",
       "0  -7.157078 -15.919469 -21.815488 -42.042244\n",
       "1  -5.287447 -14.627668 -17.269195 -15.354940\n",
       "2  -9.001299  -8.401084  12.673783 -18.517119\n",
       "3 -17.420831  -1.222689  -2.916923 -20.570550"
      ]
     },
     "execution_count": 35,
     "metadata": {},
     "output_type": "execute_result"
    }
   ],
   "source": [
    "pd.DataFrame(array)"
   ]
  },
  {
   "cell_type": "code",
   "execution_count": 36,
   "id": "f9415207-f440-4b41-b368-2060c2b3c177",
   "metadata": {},
   "outputs": [
    {
     "data": {
      "text/html": [
       "<div>\n",
       "<style scoped>\n",
       "    .dataframe tbody tr th:only-of-type {\n",
       "        vertical-align: middle;\n",
       "    }\n",
       "\n",
       "    .dataframe tbody tr th {\n",
       "        vertical-align: top;\n",
       "    }\n",
       "\n",
       "    .dataframe thead th {\n",
       "        text-align: right;\n",
       "    }\n",
       "</style>\n",
       "<table border=\"1\" class=\"dataframe\">\n",
       "  <thead>\n",
       "    <tr style=\"text-align: right;\">\n",
       "      <th></th>\n",
       "      <th>W</th>\n",
       "      <th>X</th>\n",
       "      <th>Y</th>\n",
       "      <th>Z</th>\n",
       "    </tr>\n",
       "  </thead>\n",
       "  <tbody>\n",
       "    <tr>\n",
       "      <th>1</th>\n",
       "      <td>-7.157078</td>\n",
       "      <td>-15.919469</td>\n",
       "      <td>-21.815488</td>\n",
       "      <td>-42.042244</td>\n",
       "    </tr>\n",
       "    <tr>\n",
       "      <th>2</th>\n",
       "      <td>-5.287447</td>\n",
       "      <td>-14.627668</td>\n",
       "      <td>-17.269195</td>\n",
       "      <td>-15.354940</td>\n",
       "    </tr>\n",
       "    <tr>\n",
       "      <th>3</th>\n",
       "      <td>-9.001299</td>\n",
       "      <td>-8.401084</td>\n",
       "      <td>12.673783</td>\n",
       "      <td>-18.517119</td>\n",
       "    </tr>\n",
       "    <tr>\n",
       "      <th>4</th>\n",
       "      <td>-17.420831</td>\n",
       "      <td>-1.222689</td>\n",
       "      <td>-2.916923</td>\n",
       "      <td>-20.570550</td>\n",
       "    </tr>\n",
       "  </tbody>\n",
       "</table>\n",
       "</div>"
      ],
      "text/plain": [
       "           W          X          Y          Z\n",
       "1  -7.157078 -15.919469 -21.815488 -42.042244\n",
       "2  -5.287447 -14.627668 -17.269195 -15.354940\n",
       "3  -9.001299  -8.401084  12.673783 -18.517119\n",
       "4 -17.420831  -1.222689  -2.916923 -20.570550"
      ]
     },
     "execution_count": 36,
     "metadata": {},
     "output_type": "execute_result"
    }
   ],
   "source": [
    "df=pd.DataFrame(array,index=range(1,len(array)+1),columns=['W','X','Y','Z' ])\n",
    "df"
   ]
  },
  {
   "cell_type": "code",
   "execution_count": 37,
   "id": "5cb03443-99e6-494b-9dcf-dd1b745f7838",
   "metadata": {},
   "outputs": [
    {
     "data": {
      "text/plain": [
       "1   -15.919469\n",
       "2   -14.627668\n",
       "3    -8.401084\n",
       "4    -1.222689\n",
       "Name: X, dtype: float64"
      ]
     },
     "execution_count": 37,
     "metadata": {},
     "output_type": "execute_result"
    }
   ],
   "source": [
    "df['X']"
   ]
  },
  {
   "cell_type": "code",
   "execution_count": 38,
   "id": "d5915929-623c-4ca0-bafe-3b328460c33d",
   "metadata": {},
   "outputs": [
    {
     "data": {
      "text/plain": [
       "np.float64(-14.627667960852808)"
      ]
     },
     "execution_count": 38,
     "metadata": {},
     "output_type": "execute_result"
    }
   ],
   "source": [
    "#si por ejemplo queremos un valor en especifico,se pone primero la columna y luego la fila\n",
    "df['X'][2]"
   ]
  },
  {
   "cell_type": "code",
   "execution_count": 39,
   "id": "afeeaf73-a227-45a5-9918-e6782eb7949a",
   "metadata": {},
   "outputs": [
    {
     "data": {
      "text/plain": [
       "1   -15.919469\n",
       "2   -14.627668\n",
       "3    -8.401084\n",
       "4    -1.222689\n",
       "Name: X, dtype: float64"
      ]
     },
     "execution_count": 39,
     "metadata": {},
     "output_type": "execute_result"
    }
   ],
   "source": [
    "#no es necesario poner corchetes para obtener una columna del array\n",
    "df.X"
   ]
  },
  {
   "cell_type": "code",
   "execution_count": 40,
   "id": "b6ecd264-a5ea-4fb7-ba14-4a773c17cfb1",
   "metadata": {},
   "outputs": [
    {
     "data": {
      "text/html": [
       "<div>\n",
       "<style scoped>\n",
       "    .dataframe tbody tr th:only-of-type {\n",
       "        vertical-align: middle;\n",
       "    }\n",
       "\n",
       "    .dataframe tbody tr th {\n",
       "        vertical-align: top;\n",
       "    }\n",
       "\n",
       "    .dataframe thead th {\n",
       "        text-align: right;\n",
       "    }\n",
       "</style>\n",
       "<table border=\"1\" class=\"dataframe\">\n",
       "  <thead>\n",
       "    <tr style=\"text-align: right;\">\n",
       "      <th></th>\n",
       "      <th>W</th>\n",
       "      <th>Y</th>\n",
       "    </tr>\n",
       "  </thead>\n",
       "  <tbody>\n",
       "    <tr>\n",
       "      <th>1</th>\n",
       "      <td>-7.157078</td>\n",
       "      <td>-21.815488</td>\n",
       "    </tr>\n",
       "    <tr>\n",
       "      <th>2</th>\n",
       "      <td>-5.287447</td>\n",
       "      <td>-17.269195</td>\n",
       "    </tr>\n",
       "    <tr>\n",
       "      <th>3</th>\n",
       "      <td>-9.001299</td>\n",
       "      <td>12.673783</td>\n",
       "    </tr>\n",
       "    <tr>\n",
       "      <th>4</th>\n",
       "      <td>-17.420831</td>\n",
       "      <td>-2.916923</td>\n",
       "    </tr>\n",
       "  </tbody>\n",
       "</table>\n",
       "</div>"
      ],
      "text/plain": [
       "           W          Y\n",
       "1  -7.157078 -21.815488\n",
       "2  -5.287447 -17.269195\n",
       "3  -9.001299  12.673783\n",
       "4 -17.420831  -2.916923"
      ]
     },
     "execution_count": 40,
     "metadata": {},
     "output_type": "execute_result"
    }
   ],
   "source": [
    "#podemos mandar a llamar varias columnas,los primeros corchetes son para los slicings y los segundos son para crear la lista\n",
    "df[['W','Y' ]]"
   ]
  },
  {
   "cell_type": "code",
   "execution_count": 41,
   "id": "8f76d8b9-dfbc-4be5-9708-27f4bc820004",
   "metadata": {},
   "outputs": [
    {
     "data": {
      "text/html": [
       "<div>\n",
       "<style scoped>\n",
       "    .dataframe tbody tr th:only-of-type {\n",
       "        vertical-align: middle;\n",
       "    }\n",
       "\n",
       "    .dataframe tbody tr th {\n",
       "        vertical-align: top;\n",
       "    }\n",
       "\n",
       "    .dataframe thead th {\n",
       "        text-align: right;\n",
       "    }\n",
       "</style>\n",
       "<table border=\"1\" class=\"dataframe\">\n",
       "  <thead>\n",
       "    <tr style=\"text-align: right;\">\n",
       "      <th></th>\n",
       "      <th>W</th>\n",
       "      <th>X</th>\n",
       "      <th>Y</th>\n",
       "      <th>Z</th>\n",
       "      <th>suma_X_Z</th>\n",
       "    </tr>\n",
       "  </thead>\n",
       "  <tbody>\n",
       "    <tr>\n",
       "      <th>1</th>\n",
       "      <td>-7.157078</td>\n",
       "      <td>-15.919469</td>\n",
       "      <td>-21.815488</td>\n",
       "      <td>-42.042244</td>\n",
       "      <td>-57.961713</td>\n",
       "    </tr>\n",
       "    <tr>\n",
       "      <th>2</th>\n",
       "      <td>-5.287447</td>\n",
       "      <td>-14.627668</td>\n",
       "      <td>-17.269195</td>\n",
       "      <td>-15.354940</td>\n",
       "      <td>-29.982608</td>\n",
       "    </tr>\n",
       "    <tr>\n",
       "      <th>3</th>\n",
       "      <td>-9.001299</td>\n",
       "      <td>-8.401084</td>\n",
       "      <td>12.673783</td>\n",
       "      <td>-18.517119</td>\n",
       "      <td>-26.918203</td>\n",
       "    </tr>\n",
       "    <tr>\n",
       "      <th>4</th>\n",
       "      <td>-17.420831</td>\n",
       "      <td>-1.222689</td>\n",
       "      <td>-2.916923</td>\n",
       "      <td>-20.570550</td>\n",
       "      <td>-21.793239</td>\n",
       "    </tr>\n",
       "  </tbody>\n",
       "</table>\n",
       "</div>"
      ],
      "text/plain": [
       "           W          X          Y          Z   suma_X_Z\n",
       "1  -7.157078 -15.919469 -21.815488 -42.042244 -57.961713\n",
       "2  -5.287447 -14.627668 -17.269195 -15.354940 -29.982608\n",
       "3  -9.001299  -8.401084  12.673783 -18.517119 -26.918203\n",
       "4 -17.420831  -1.222689  -2.916923 -20.570550 -21.793239"
      ]
     },
     "execution_count": 41,
     "metadata": {},
     "output_type": "execute_result"
    }
   ],
   "source": [
    "#operaciones de los dataframes\n",
    "df['suma_X_Z' ]=df.X + df.Z\n",
    "df"
   ]
  },
  {
   "cell_type": "code",
   "execution_count": 42,
   "id": "85f72dcf-a87b-4abe-a867-db5b7baa509e",
   "metadata": {},
   "outputs": [
    {
     "data": {
      "text/html": [
       "<div>\n",
       "<style scoped>\n",
       "    .dataframe tbody tr th:only-of-type {\n",
       "        vertical-align: middle;\n",
       "    }\n",
       "\n",
       "    .dataframe tbody tr th {\n",
       "        vertical-align: top;\n",
       "    }\n",
       "\n",
       "    .dataframe thead th {\n",
       "        text-align: right;\n",
       "    }\n",
       "</style>\n",
       "<table border=\"1\" class=\"dataframe\">\n",
       "  <thead>\n",
       "    <tr style=\"text-align: right;\">\n",
       "      <th></th>\n",
       "      <th>W</th>\n",
       "      <th>X</th>\n",
       "      <th>Z</th>\n",
       "      <th>suma_X_Z</th>\n",
       "    </tr>\n",
       "  </thead>\n",
       "  <tbody>\n",
       "    <tr>\n",
       "      <th>1</th>\n",
       "      <td>-7.157078</td>\n",
       "      <td>-15.919469</td>\n",
       "      <td>-42.042244</td>\n",
       "      <td>-57.961713</td>\n",
       "    </tr>\n",
       "    <tr>\n",
       "      <th>2</th>\n",
       "      <td>-5.287447</td>\n",
       "      <td>-14.627668</td>\n",
       "      <td>-15.354940</td>\n",
       "      <td>-29.982608</td>\n",
       "    </tr>\n",
       "    <tr>\n",
       "      <th>3</th>\n",
       "      <td>-9.001299</td>\n",
       "      <td>-8.401084</td>\n",
       "      <td>-18.517119</td>\n",
       "      <td>-26.918203</td>\n",
       "    </tr>\n",
       "    <tr>\n",
       "      <th>4</th>\n",
       "      <td>-17.420831</td>\n",
       "      <td>-1.222689</td>\n",
       "      <td>-20.570550</td>\n",
       "      <td>-21.793239</td>\n",
       "    </tr>\n",
       "  </tbody>\n",
       "</table>\n",
       "</div>"
      ],
      "text/plain": [
       "           W          X          Z   suma_X_Z\n",
       "1  -7.157078 -15.919469 -42.042244 -57.961713\n",
       "2  -5.287447 -14.627668 -15.354940 -29.982608\n",
       "3  -9.001299  -8.401084 -18.517119 -26.918203\n",
       "4 -17.420831  -1.222689 -20.570550 -21.793239"
      ]
     },
     "execution_count": 42,
     "metadata": {},
     "output_type": "execute_result"
    }
   ],
   "source": [
    "# axis=1 es para borrar columnas, axis=0 es para borrar filas\n",
    "df.drop('Y',axis=1)"
   ]
  },
  {
   "cell_type": "code",
   "execution_count": 43,
   "id": "cf97c001-9c25-4e12-a092-694e79847746",
   "metadata": {},
   "outputs": [
    {
     "data": {
      "text/html": [
       "<div>\n",
       "<style scoped>\n",
       "    .dataframe tbody tr th:only-of-type {\n",
       "        vertical-align: middle;\n",
       "    }\n",
       "\n",
       "    .dataframe tbody tr th {\n",
       "        vertical-align: top;\n",
       "    }\n",
       "\n",
       "    .dataframe thead th {\n",
       "        text-align: right;\n",
       "    }\n",
       "</style>\n",
       "<table border=\"1\" class=\"dataframe\">\n",
       "  <thead>\n",
       "    <tr style=\"text-align: right;\">\n",
       "      <th></th>\n",
       "      <th>W</th>\n",
       "      <th>X</th>\n",
       "      <th>Y</th>\n",
       "      <th>Z</th>\n",
       "      <th>suma_X_Z</th>\n",
       "    </tr>\n",
       "  </thead>\n",
       "  <tbody>\n",
       "    <tr>\n",
       "      <th>1</th>\n",
       "      <td>-7.157078</td>\n",
       "      <td>-15.919469</td>\n",
       "      <td>-21.815488</td>\n",
       "      <td>-42.042244</td>\n",
       "      <td>-57.961713</td>\n",
       "    </tr>\n",
       "    <tr>\n",
       "      <th>2</th>\n",
       "      <td>-5.287447</td>\n",
       "      <td>-14.627668</td>\n",
       "      <td>-17.269195</td>\n",
       "      <td>-15.354940</td>\n",
       "      <td>-29.982608</td>\n",
       "    </tr>\n",
       "    <tr>\n",
       "      <th>3</th>\n",
       "      <td>-9.001299</td>\n",
       "      <td>-8.401084</td>\n",
       "      <td>12.673783</td>\n",
       "      <td>-18.517119</td>\n",
       "      <td>-26.918203</td>\n",
       "    </tr>\n",
       "    <tr>\n",
       "      <th>4</th>\n",
       "      <td>-17.420831</td>\n",
       "      <td>-1.222689</td>\n",
       "      <td>-2.916923</td>\n",
       "      <td>-20.570550</td>\n",
       "      <td>-21.793239</td>\n",
       "    </tr>\n",
       "  </tbody>\n",
       "</table>\n",
       "</div>"
      ],
      "text/plain": [
       "           W          X          Y          Z   suma_X_Z\n",
       "1  -7.157078 -15.919469 -21.815488 -42.042244 -57.961713\n",
       "2  -5.287447 -14.627668 -17.269195 -15.354940 -29.982608\n",
       "3  -9.001299  -8.401084  12.673783 -18.517119 -26.918203\n",
       "4 -17.420831  -1.222689  -2.916923 -20.570550 -21.793239"
      ]
     },
     "execution_count": 43,
     "metadata": {},
     "output_type": "execute_result"
    }
   ],
   "source": [
    "#lo anterior no borra en su totalidad la columna,para ello es necesario modificar la dataframe original\n",
    "df"
   ]
  },
  {
   "cell_type": "code",
   "execution_count": 45,
   "id": "63b85b7d-8b9b-4660-b08c-ecf3feea1bcb",
   "metadata": {},
   "outputs": [
    {
     "data": {
      "text/plain": [
       "W           -7.157078\n",
       "X          -15.919469\n",
       "Y          -21.815488\n",
       "Z          -42.042244\n",
       "suma_X_Z   -57.961713\n",
       "Name: 1, dtype: float64"
      ]
     },
     "execution_count": 45,
     "metadata": {},
     "output_type": "execute_result"
    }
   ],
   "source": [
    "# mediante loc es como se puede acceder a las filas del dataframe\n",
    "df.loc[1]"
   ]
  },
  {
   "cell_type": "code",
   "execution_count": 46,
   "id": "909d1fc7-cd3b-462b-b33c-08cc5a40815d",
   "metadata": {},
   "outputs": [
    {
     "data": {
      "text/html": [
       "<div>\n",
       "<style scoped>\n",
       "    .dataframe tbody tr th:only-of-type {\n",
       "        vertical-align: middle;\n",
       "    }\n",
       "\n",
       "    .dataframe tbody tr th {\n",
       "        vertical-align: top;\n",
       "    }\n",
       "\n",
       "    .dataframe thead th {\n",
       "        text-align: right;\n",
       "    }\n",
       "</style>\n",
       "<table border=\"1\" class=\"dataframe\">\n",
       "  <thead>\n",
       "    <tr style=\"text-align: right;\">\n",
       "      <th></th>\n",
       "      <th>W</th>\n",
       "      <th>X</th>\n",
       "      <th>Y</th>\n",
       "      <th>Z</th>\n",
       "      <th>suma_X_Z</th>\n",
       "    </tr>\n",
       "  </thead>\n",
       "  <tbody>\n",
       "    <tr>\n",
       "      <th>1</th>\n",
       "      <td>-7.157078</td>\n",
       "      <td>-15.919469</td>\n",
       "      <td>-21.815488</td>\n",
       "      <td>-42.042244</td>\n",
       "      <td>-57.961713</td>\n",
       "    </tr>\n",
       "    <tr>\n",
       "      <th>3</th>\n",
       "      <td>-9.001299</td>\n",
       "      <td>-8.401084</td>\n",
       "      <td>12.673783</td>\n",
       "      <td>-18.517119</td>\n",
       "      <td>-26.918203</td>\n",
       "    </tr>\n",
       "  </tbody>\n",
       "</table>\n",
       "</div>"
      ],
      "text/plain": [
       "          W          X          Y          Z   suma_X_Z\n",
       "1 -7.157078 -15.919469 -21.815488 -42.042244 -57.961713\n",
       "3 -9.001299  -8.401084  12.673783 -18.517119 -26.918203"
      ]
     },
     "execution_count": 46,
     "metadata": {},
     "output_type": "execute_result"
    }
   ],
   "source": [
    "df.iloc[[0,2 ] ]"
   ]
  },
  {
   "cell_type": "code",
   "execution_count": 47,
   "id": "0027ec6b-a8df-4d1a-972f-06ef3f3da47b",
   "metadata": {},
   "outputs": [
    {
     "data": {
      "text/plain": [
       "np.float64(-8.401084279464657)"
      ]
     },
     "execution_count": 47,
     "metadata": {},
     "output_type": "execute_result"
    }
   ],
   "source": [
    "df.loc[ 3,'X']"
   ]
  },
  {
   "cell_type": "code",
   "execution_count": 48,
   "id": "4d044e5f-51af-43c3-99ec-2ff356321f7f",
   "metadata": {},
   "outputs": [
    {
     "data": {
      "text/html": [
       "<div>\n",
       "<style scoped>\n",
       "    .dataframe tbody tr th:only-of-type {\n",
       "        vertical-align: middle;\n",
       "    }\n",
       "\n",
       "    .dataframe tbody tr th {\n",
       "        vertical-align: top;\n",
       "    }\n",
       "\n",
       "    .dataframe thead th {\n",
       "        text-align: right;\n",
       "    }\n",
       "</style>\n",
       "<table border=\"1\" class=\"dataframe\">\n",
       "  <thead>\n",
       "    <tr style=\"text-align: right;\">\n",
       "      <th></th>\n",
       "      <th>X</th>\n",
       "      <th>suma_X_Z</th>\n",
       "    </tr>\n",
       "  </thead>\n",
       "  <tbody>\n",
       "    <tr>\n",
       "      <th>2</th>\n",
       "      <td>-14.627668</td>\n",
       "      <td>-29.982608</td>\n",
       "    </tr>\n",
       "    <tr>\n",
       "      <th>4</th>\n",
       "      <td>-1.222689</td>\n",
       "      <td>-21.793239</td>\n",
       "    </tr>\n",
       "  </tbody>\n",
       "</table>\n",
       "</div>"
      ],
      "text/plain": [
       "           X   suma_X_Z\n",
       "2 -14.627668 -29.982608\n",
       "4  -1.222689 -21.793239"
      ]
     },
     "execution_count": 48,
     "metadata": {},
     "output_type": "execute_result"
    }
   ],
   "source": [
    "df.loc[[2,4 ], ['X','suma_X_Z' ] ]"
   ]
  },
  {
   "cell_type": "code",
   "execution_count": null,
   "id": "bd89aee5-6611-4551-a374-c060c3e269b8",
   "metadata": {},
   "outputs": [],
   "source": []
  }
 ],
 "metadata": {
  "kernelspec": {
   "display_name": "Python 3 (ipykernel)",
   "language": "python",
   "name": "python3"
  },
  "language_info": {
   "codemirror_mode": {
    "name": "ipython",
    "version": 3
   },
   "file_extension": ".py",
   "mimetype": "text/x-python",
   "name": "python",
   "nbconvert_exporter": "python",
   "pygments_lexer": "ipython3",
   "version": "3.10.4"
  }
 },
 "nbformat": 4,
 "nbformat_minor": 5
}
