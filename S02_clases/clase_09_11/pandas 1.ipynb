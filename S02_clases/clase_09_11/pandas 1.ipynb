{
 "cells": [
  {
   "cell_type": "code",
   "execution_count": 1,
   "id": "3d26a201-631c-4900-9a12-286e2c716f0b",
   "metadata": {},
   "outputs": [],
   "source": [
    "import pandas as pd "
   ]
  },
  {
   "cell_type": "code",
   "execution_count": 16,
   "id": "e20882a8-57d5-418e-9d19-076453ec044d",
   "metadata": {},
   "outputs": [
    {
     "data": {
      "text/plain": [
       "0     6\n",
       "1     8\n",
       "2    34\n",
       "3    94\n",
       "4    78\n",
       "dtype: int64"
      ]
     },
     "execution_count": 16,
     "metadata": {},
     "output_type": "execute_result"
    }
   ],
   "source": [
    "valores = [6,8, 34, 94, 78]\n",
    "indice = range(len(valores))\n",
    "\n",
    "pd.Series(data = valores, index = indice)"
   ]
  },
  {
   "cell_type": "code",
   "execution_count": 17,
   "id": "fada699a-b3c6-4fce-a9a2-e49d81c00703",
   "metadata": {},
   "outputs": [
    {
     "data": {
      "text/plain": [
       "0     6\n",
       "1     8\n",
       "2    34\n",
       "3    94\n",
       "4    78\n",
       "dtype: int64"
      ]
     },
     "execution_count": 17,
     "metadata": {},
     "output_type": "execute_result"
    }
   ],
   "source": [
    "valores = [6,8, 34, 94, 78]\n",
    "indice = range(len(valores))\n",
    "\n",
    "serie1 = pd.Series(data = valores, index = indice)\n",
    "serie1"
   ]
  },
  {
   "cell_type": "code",
   "execution_count": 18,
   "id": "d1acc76a-f560-4f9c-bef1-f7c214ebe925",
   "metadata": {},
   "outputs": [
    {
     "data": {
      "text/plain": [
       "0     28\n",
       "1     45\n",
       "2    852\n",
       "3      3\n",
       "4     16\n",
       "dtype: int64"
      ]
     },
     "execution_count": 18,
     "metadata": {},
     "output_type": "execute_result"
    }
   ],
   "source": [
    "valores2 = [28, 45, 852, 3, 16]\n",
    "serie2 = pd.Series(index = indice, data = valores2)\n",
    "serie2"
   ]
  },
  {
   "cell_type": "code",
   "execution_count": 19,
   "id": "29289901-4bdc-4b58-818c-f108e1cd4ab0",
   "metadata": {},
   "outputs": [
    {
     "data": {
      "text/plain": [
       "0     34\n",
       "1     53\n",
       "2    886\n",
       "3     97\n",
       "4     94\n",
       "dtype: int64"
      ]
     },
     "execution_count": 19,
     "metadata": {},
     "output_type": "execute_result"
    }
   ],
   "source": [
    "serie1 + serie2"
   ]
  },
  {
   "cell_type": "code",
   "execution_count": 20,
   "id": "ee0ebad6-cf86-4f2f-904e-5db4abea120b",
   "metadata": {},
   "outputs": [
    {
     "data": {
      "text/plain": [
       "0   -1823562080465190912\n",
       "1                      0\n",
       "2                      0\n",
       "3                 830584\n",
       "4    3945326505906733056\n",
       "dtype: int64"
      ]
     },
     "execution_count": 20,
     "metadata": {},
     "output_type": "execute_result"
    }
   ],
   "source": [
    "serie1 ** serie2"
   ]
  },
  {
   "cell_type": "code",
   "execution_count": 21,
   "id": "c7155267-f073-467b-9dc9-16e1ef3a9a8c",
   "metadata": {},
   "outputs": [
    {
     "data": {
      "text/plain": [
       "0.0"
      ]
     },
     "execution_count": 21,
     "metadata": {},
     "output_type": "execute_result"
    }
   ],
   "source": [
    "34 ** (-852)"
   ]
  },
  {
   "cell_type": "code",
   "execution_count": 23,
   "id": "184fb216-3b3e-4c95-be3c-b92c177d58a6",
   "metadata": {},
   "outputs": [],
   "source": [
    "import numpy as np"
   ]
  },
  {
   "cell_type": "code",
   "execution_count": 25,
   "id": "0700bbd5-b338-4625-8cc3-c952a7d95267",
   "metadata": {},
   "outputs": [
    {
     "data": {
      "text/plain": [
       "array([[  3.17846607,  -3.83842892, -12.88132272,  -6.51165528],\n",
       "       [-24.61160288,   2.57657423,  -4.59663317, -16.48844063],\n",
       "       [-21.97659643,   6.61660712, -21.09508896,  -4.31874616],\n",
       "       [-16.34328506, -14.36081709, -12.44210664, -32.7970923 ]])"
      ]
     },
     "execution_count": 25,
     "metadata": {},
     "output_type": "execute_result"
    }
   ],
   "source": [
    "array = np.random.normal(-10, 10, size = [4,4])\n",
    "array"
   ]
  },
  {
   "cell_type": "code",
   "execution_count": 26,
   "id": "54b5e6dd-1ebb-4344-8a90-486aaee38c2f",
   "metadata": {},
   "outputs": [
    {
     "data": {
      "text/html": [
       "<div>\n",
       "<style scoped>\n",
       "    .dataframe tbody tr th:only-of-type {\n",
       "        vertical-align: middle;\n",
       "    }\n",
       "\n",
       "    .dataframe tbody tr th {\n",
       "        vertical-align: top;\n",
       "    }\n",
       "\n",
       "    .dataframe thead th {\n",
       "        text-align: right;\n",
       "    }\n",
       "</style>\n",
       "<table border=\"1\" class=\"dataframe\">\n",
       "  <thead>\n",
       "    <tr style=\"text-align: right;\">\n",
       "      <th></th>\n",
       "      <th>w</th>\n",
       "      <th>x</th>\n",
       "    </tr>\n",
       "  </thead>\n",
       "  <tbody>\n",
       "    <tr>\n",
       "      <th>a</th>\n",
       "      <td>2</td>\n",
       "      <td>3</td>\n",
       "    </tr>\n",
       "    <tr>\n",
       "      <th>b</th>\n",
       "      <td>4</td>\n",
       "      <td>5</td>\n",
       "    </tr>\n",
       "  </tbody>\n",
       "</table>\n",
       "</div>"
      ],
      "text/plain": [
       "   w  x\n",
       "a  2  3\n",
       "b  4  5"
      ]
     },
     "execution_count": 26,
     "metadata": {},
     "output_type": "execute_result"
    }
   ],
   "source": [
    "pd.DataFrame([[2,3],[4,5]], index = ['a', 'b'], columns = ['w', 'x'])"
   ]
  },
  {
   "cell_type": "code",
   "execution_count": 27,
   "id": "0c1b5e1a-011a-4bdf-9354-47624b390be9",
   "metadata": {},
   "outputs": [
    {
     "data": {
      "text/html": [
       "<div>\n",
       "<style scoped>\n",
       "    .dataframe tbody tr th:only-of-type {\n",
       "        vertical-align: middle;\n",
       "    }\n",
       "\n",
       "    .dataframe tbody tr th {\n",
       "        vertical-align: top;\n",
       "    }\n",
       "\n",
       "    .dataframe thead th {\n",
       "        text-align: right;\n",
       "    }\n",
       "</style>\n",
       "<table border=\"1\" class=\"dataframe\">\n",
       "  <thead>\n",
       "    <tr style=\"text-align: right;\">\n",
       "      <th></th>\n",
       "      <th>0</th>\n",
       "      <th>1</th>\n",
       "      <th>2</th>\n",
       "      <th>3</th>\n",
       "    </tr>\n",
       "  </thead>\n",
       "  <tbody>\n",
       "    <tr>\n",
       "      <th>0</th>\n",
       "      <td>3.178466</td>\n",
       "      <td>-3.838429</td>\n",
       "      <td>-12.881323</td>\n",
       "      <td>-6.511655</td>\n",
       "    </tr>\n",
       "    <tr>\n",
       "      <th>1</th>\n",
       "      <td>-24.611603</td>\n",
       "      <td>2.576574</td>\n",
       "      <td>-4.596633</td>\n",
       "      <td>-16.488441</td>\n",
       "    </tr>\n",
       "    <tr>\n",
       "      <th>2</th>\n",
       "      <td>-21.976596</td>\n",
       "      <td>6.616607</td>\n",
       "      <td>-21.095089</td>\n",
       "      <td>-4.318746</td>\n",
       "    </tr>\n",
       "    <tr>\n",
       "      <th>3</th>\n",
       "      <td>-16.343285</td>\n",
       "      <td>-14.360817</td>\n",
       "      <td>-12.442107</td>\n",
       "      <td>-32.797092</td>\n",
       "    </tr>\n",
       "  </tbody>\n",
       "</table>\n",
       "</div>"
      ],
      "text/plain": [
       "           0          1          2          3\n",
       "0   3.178466  -3.838429 -12.881323  -6.511655\n",
       "1 -24.611603   2.576574  -4.596633 -16.488441\n",
       "2 -21.976596   6.616607 -21.095089  -4.318746\n",
       "3 -16.343285 -14.360817 -12.442107 -32.797092"
      ]
     },
     "execution_count": 27,
     "metadata": {},
     "output_type": "execute_result"
    }
   ],
   "source": [
    "pd.DataFrame(array)"
   ]
  },
  {
   "cell_type": "code",
   "execution_count": 28,
   "id": "b004e725-61af-4527-904e-95ab4a5af172",
   "metadata": {},
   "outputs": [
    {
     "data": {
      "text/plain": [
       "4"
      ]
     },
     "execution_count": 28,
     "metadata": {},
     "output_type": "execute_result"
    }
   ],
   "source": [
    "len(array)"
   ]
  },
  {
   "cell_type": "code",
   "execution_count": 31,
   "id": "6c55a19f-38c3-4b08-9edc-174f02c4d51a",
   "metadata": {},
   "outputs": [
    {
     "data": {
      "text/html": [
       "<div>\n",
       "<style scoped>\n",
       "    .dataframe tbody tr th:only-of-type {\n",
       "        vertical-align: middle;\n",
       "    }\n",
       "\n",
       "    .dataframe tbody tr th {\n",
       "        vertical-align: top;\n",
       "    }\n",
       "\n",
       "    .dataframe thead th {\n",
       "        text-align: right;\n",
       "    }\n",
       "</style>\n",
       "<table border=\"1\" class=\"dataframe\">\n",
       "  <thead>\n",
       "    <tr style=\"text-align: right;\">\n",
       "      <th></th>\n",
       "      <th>W</th>\n",
       "      <th>X</th>\n",
       "      <th>Y</th>\n",
       "      <th>Z</th>\n",
       "    </tr>\n",
       "  </thead>\n",
       "  <tbody>\n",
       "    <tr>\n",
       "      <th>1</th>\n",
       "      <td>3.178466</td>\n",
       "      <td>-3.838429</td>\n",
       "      <td>-12.881323</td>\n",
       "      <td>-6.511655</td>\n",
       "    </tr>\n",
       "    <tr>\n",
       "      <th>2</th>\n",
       "      <td>-24.611603</td>\n",
       "      <td>2.576574</td>\n",
       "      <td>-4.596633</td>\n",
       "      <td>-16.488441</td>\n",
       "    </tr>\n",
       "    <tr>\n",
       "      <th>3</th>\n",
       "      <td>-21.976596</td>\n",
       "      <td>6.616607</td>\n",
       "      <td>-21.095089</td>\n",
       "      <td>-4.318746</td>\n",
       "    </tr>\n",
       "    <tr>\n",
       "      <th>4</th>\n",
       "      <td>-16.343285</td>\n",
       "      <td>-14.360817</td>\n",
       "      <td>-12.442107</td>\n",
       "      <td>-32.797092</td>\n",
       "    </tr>\n",
       "  </tbody>\n",
       "</table>\n",
       "</div>"
      ],
      "text/plain": [
       "           W          X          Y          Z\n",
       "1   3.178466  -3.838429 -12.881323  -6.511655\n",
       "2 -24.611603   2.576574  -4.596633 -16.488441\n",
       "3 -21.976596   6.616607 -21.095089  -4.318746\n",
       "4 -16.343285 -14.360817 -12.442107 -32.797092"
      ]
     },
     "execution_count": 31,
     "metadata": {},
     "output_type": "execute_result"
    }
   ],
   "source": [
    "df = pd.DataFrame (array, index = range (1, len(array)+1), columns = ['W', 'X', 'Y', 'Z'])\n",
    "df"
   ]
  },
  {
   "cell_type": "code",
   "execution_count": 32,
   "id": "6d082360-82da-48c3-9e4c-a23bc99114d9",
   "metadata": {},
   "outputs": [
    {
     "data": {
      "text/plain": [
       "pandas.core.series.Series"
      ]
     },
     "execution_count": 32,
     "metadata": {},
     "output_type": "execute_result"
    }
   ],
   "source": [
    "type(df['X'])"
   ]
  },
  {
   "cell_type": "code",
   "execution_count": 33,
   "id": "a40c27f1-9875-4783-9072-d5d2f6dc68fe",
   "metadata": {},
   "outputs": [
    {
     "data": {
      "text/plain": [
       "1    -3.838429\n",
       "2     2.576574\n",
       "3     6.616607\n",
       "4   -14.360817\n",
       "Name: X, dtype: float64"
      ]
     },
     "execution_count": 33,
     "metadata": {},
     "output_type": "execute_result"
    }
   ],
   "source": [
    "df.X"
   ]
  },
  {
   "cell_type": "code",
   "execution_count": 34,
   "id": "09c9f332-13b4-4315-948f-ad85fb5f672c",
   "metadata": {},
   "outputs": [
    {
     "data": {
      "text/html": [
       "<div>\n",
       "<style scoped>\n",
       "    .dataframe tbody tr th:only-of-type {\n",
       "        vertical-align: middle;\n",
       "    }\n",
       "\n",
       "    .dataframe tbody tr th {\n",
       "        vertical-align: top;\n",
       "    }\n",
       "\n",
       "    .dataframe thead th {\n",
       "        text-align: right;\n",
       "    }\n",
       "</style>\n",
       "<table border=\"1\" class=\"dataframe\">\n",
       "  <thead>\n",
       "    <tr style=\"text-align: right;\">\n",
       "      <th></th>\n",
       "      <th>W</th>\n",
       "      <th>Y</th>\n",
       "    </tr>\n",
       "  </thead>\n",
       "  <tbody>\n",
       "    <tr>\n",
       "      <th>1</th>\n",
       "      <td>3.178466</td>\n",
       "      <td>-12.881323</td>\n",
       "    </tr>\n",
       "    <tr>\n",
       "      <th>2</th>\n",
       "      <td>-24.611603</td>\n",
       "      <td>-4.596633</td>\n",
       "    </tr>\n",
       "    <tr>\n",
       "      <th>3</th>\n",
       "      <td>-21.976596</td>\n",
       "      <td>-21.095089</td>\n",
       "    </tr>\n",
       "    <tr>\n",
       "      <th>4</th>\n",
       "      <td>-16.343285</td>\n",
       "      <td>-12.442107</td>\n",
       "    </tr>\n",
       "  </tbody>\n",
       "</table>\n",
       "</div>"
      ],
      "text/plain": [
       "           W          Y\n",
       "1   3.178466 -12.881323\n",
       "2 -24.611603  -4.596633\n",
       "3 -21.976596 -21.095089\n",
       "4 -16.343285 -12.442107"
      ]
     },
     "execution_count": 34,
     "metadata": {},
     "output_type": "execute_result"
    }
   ],
   "source": [
    "df[ ['W', 'Y'] ]"
   ]
  },
  {
   "cell_type": "code",
   "execution_count": 36,
   "id": "cca08846-be81-47d5-9923-981e886cb1ba",
   "metadata": {},
   "outputs": [
    {
     "data": {
      "text/html": [
       "<div>\n",
       "<style scoped>\n",
       "    .dataframe tbody tr th:only-of-type {\n",
       "        vertical-align: middle;\n",
       "    }\n",
       "\n",
       "    .dataframe tbody tr th {\n",
       "        vertical-align: top;\n",
       "    }\n",
       "\n",
       "    .dataframe thead th {\n",
       "        text-align: right;\n",
       "    }\n",
       "</style>\n",
       "<table border=\"1\" class=\"dataframe\">\n",
       "  <thead>\n",
       "    <tr style=\"text-align: right;\">\n",
       "      <th></th>\n",
       "      <th>W</th>\n",
       "      <th>X</th>\n",
       "      <th>Y</th>\n",
       "      <th>Z</th>\n",
       "      <th>suma_X_Z</th>\n",
       "    </tr>\n",
       "  </thead>\n",
       "  <tbody>\n",
       "    <tr>\n",
       "      <th>1</th>\n",
       "      <td>3.178466</td>\n",
       "      <td>-3.838429</td>\n",
       "      <td>-12.881323</td>\n",
       "      <td>-6.511655</td>\n",
       "      <td>-10.350084</td>\n",
       "    </tr>\n",
       "    <tr>\n",
       "      <th>2</th>\n",
       "      <td>-24.611603</td>\n",
       "      <td>2.576574</td>\n",
       "      <td>-4.596633</td>\n",
       "      <td>-16.488441</td>\n",
       "      <td>-13.911866</td>\n",
       "    </tr>\n",
       "    <tr>\n",
       "      <th>3</th>\n",
       "      <td>-21.976596</td>\n",
       "      <td>6.616607</td>\n",
       "      <td>-21.095089</td>\n",
       "      <td>-4.318746</td>\n",
       "      <td>2.297861</td>\n",
       "    </tr>\n",
       "    <tr>\n",
       "      <th>4</th>\n",
       "      <td>-16.343285</td>\n",
       "      <td>-14.360817</td>\n",
       "      <td>-12.442107</td>\n",
       "      <td>-32.797092</td>\n",
       "      <td>-47.157909</td>\n",
       "    </tr>\n",
       "  </tbody>\n",
       "</table>\n",
       "</div>"
      ],
      "text/plain": [
       "           W          X          Y          Z   suma_X_Z\n",
       "1   3.178466  -3.838429 -12.881323  -6.511655 -10.350084\n",
       "2 -24.611603   2.576574  -4.596633 -16.488441 -13.911866\n",
       "3 -21.976596   6.616607 -21.095089  -4.318746   2.297861\n",
       "4 -16.343285 -14.360817 -12.442107 -32.797092 -47.157909"
      ]
     },
     "execution_count": 36,
     "metadata": {},
     "output_type": "execute_result"
    }
   ],
   "source": [
    "df ['suma_X_Z'] = df.X +df.Z\n",
    "df"
   ]
  },
  {
   "cell_type": "code",
   "execution_count": 39,
   "id": "fb842cdf-45cd-4481-8842-428273d7544a",
   "metadata": {},
   "outputs": [],
   "source": [
    "df.drop('Y', axis=1, inplace = True) # axis = 1 es para borrar columnas y axis = 0 es para borrar filas"
   ]
  },
  {
   "cell_type": "code",
   "execution_count": 40,
   "id": "80d16b8f-1874-45fd-8df1-77049d639a70",
   "metadata": {},
   "outputs": [
    {
     "data": {
      "text/html": [
       "<div>\n",
       "<style scoped>\n",
       "    .dataframe tbody tr th:only-of-type {\n",
       "        vertical-align: middle;\n",
       "    }\n",
       "\n",
       "    .dataframe tbody tr th {\n",
       "        vertical-align: top;\n",
       "    }\n",
       "\n",
       "    .dataframe thead th {\n",
       "        text-align: right;\n",
       "    }\n",
       "</style>\n",
       "<table border=\"1\" class=\"dataframe\">\n",
       "  <thead>\n",
       "    <tr style=\"text-align: right;\">\n",
       "      <th></th>\n",
       "      <th>W</th>\n",
       "      <th>X</th>\n",
       "      <th>Z</th>\n",
       "      <th>suma_X_Z</th>\n",
       "    </tr>\n",
       "  </thead>\n",
       "  <tbody>\n",
       "    <tr>\n",
       "      <th>1</th>\n",
       "      <td>3.178466</td>\n",
       "      <td>-3.838429</td>\n",
       "      <td>-6.511655</td>\n",
       "      <td>-10.350084</td>\n",
       "    </tr>\n",
       "    <tr>\n",
       "      <th>2</th>\n",
       "      <td>-24.611603</td>\n",
       "      <td>2.576574</td>\n",
       "      <td>-16.488441</td>\n",
       "      <td>-13.911866</td>\n",
       "    </tr>\n",
       "    <tr>\n",
       "      <th>3</th>\n",
       "      <td>-21.976596</td>\n",
       "      <td>6.616607</td>\n",
       "      <td>-4.318746</td>\n",
       "      <td>2.297861</td>\n",
       "    </tr>\n",
       "    <tr>\n",
       "      <th>4</th>\n",
       "      <td>-16.343285</td>\n",
       "      <td>-14.360817</td>\n",
       "      <td>-32.797092</td>\n",
       "      <td>-47.157909</td>\n",
       "    </tr>\n",
       "  </tbody>\n",
       "</table>\n",
       "</div>"
      ],
      "text/plain": [
       "           W          X          Z   suma_X_Z\n",
       "1   3.178466  -3.838429  -6.511655 -10.350084\n",
       "2 -24.611603   2.576574 -16.488441 -13.911866\n",
       "3 -21.976596   6.616607  -4.318746   2.297861\n",
       "4 -16.343285 -14.360817 -32.797092 -47.157909"
      ]
     },
     "execution_count": 40,
     "metadata": {},
     "output_type": "execute_result"
    }
   ],
   "source": [
    "df"
   ]
  },
  {
   "cell_type": "code",
   "execution_count": 41,
   "id": "14d77814-cb10-4155-b298-06938e14bb43",
   "metadata": {},
   "outputs": [
    {
     "data": {
      "text/html": [
       "<div>\n",
       "<style scoped>\n",
       "    .dataframe tbody tr th:only-of-type {\n",
       "        vertical-align: middle;\n",
       "    }\n",
       "\n",
       "    .dataframe tbody tr th {\n",
       "        vertical-align: top;\n",
       "    }\n",
       "\n",
       "    .dataframe thead th {\n",
       "        text-align: right;\n",
       "    }\n",
       "</style>\n",
       "<table border=\"1\" class=\"dataframe\">\n",
       "  <thead>\n",
       "    <tr style=\"text-align: right;\">\n",
       "      <th></th>\n",
       "      <th>W</th>\n",
       "      <th>X</th>\n",
       "      <th>Z</th>\n",
       "      <th>suma_X_Z</th>\n",
       "    </tr>\n",
       "  </thead>\n",
       "  <tbody>\n",
       "    <tr>\n",
       "      <th>1</th>\n",
       "      <td>3.178466</td>\n",
       "      <td>-3.838429</td>\n",
       "      <td>-6.511655</td>\n",
       "      <td>-10.350084</td>\n",
       "    </tr>\n",
       "    <tr>\n",
       "      <th>2</th>\n",
       "      <td>-24.611603</td>\n",
       "      <td>2.576574</td>\n",
       "      <td>-16.488441</td>\n",
       "      <td>-13.911866</td>\n",
       "    </tr>\n",
       "    <tr>\n",
       "      <th>4</th>\n",
       "      <td>-16.343285</td>\n",
       "      <td>-14.360817</td>\n",
       "      <td>-32.797092</td>\n",
       "      <td>-47.157909</td>\n",
       "    </tr>\n",
       "  </tbody>\n",
       "</table>\n",
       "</div>"
      ],
      "text/plain": [
       "           W          X          Z   suma_X_Z\n",
       "1   3.178466  -3.838429  -6.511655 -10.350084\n",
       "2 -24.611603   2.576574 -16.488441 -13.911866\n",
       "4 -16.343285 -14.360817 -32.797092 -47.157909"
      ]
     },
     "execution_count": 41,
     "metadata": {},
     "output_type": "execute_result"
    }
   ],
   "source": [
    "df.drop(3, axis= 0)"
   ]
  },
  {
   "cell_type": "code",
   "execution_count": 42,
   "id": "f5e6302c-0855-4472-9982-5b00be9385c9",
   "metadata": {},
   "outputs": [
    {
     "data": {
      "text/html": [
       "<div>\n",
       "<style scoped>\n",
       "    .dataframe tbody tr th:only-of-type {\n",
       "        vertical-align: middle;\n",
       "    }\n",
       "\n",
       "    .dataframe tbody tr th {\n",
       "        vertical-align: top;\n",
       "    }\n",
       "\n",
       "    .dataframe thead th {\n",
       "        text-align: right;\n",
       "    }\n",
       "</style>\n",
       "<table border=\"1\" class=\"dataframe\">\n",
       "  <thead>\n",
       "    <tr style=\"text-align: right;\">\n",
       "      <th></th>\n",
       "      <th>W</th>\n",
       "      <th>X</th>\n",
       "      <th>Z</th>\n",
       "      <th>suma_X_Z</th>\n",
       "    </tr>\n",
       "  </thead>\n",
       "  <tbody>\n",
       "    <tr>\n",
       "      <th>1</th>\n",
       "      <td>3.178466</td>\n",
       "      <td>-3.838429</td>\n",
       "      <td>-6.511655</td>\n",
       "      <td>-10.350084</td>\n",
       "    </tr>\n",
       "    <tr>\n",
       "      <th>2</th>\n",
       "      <td>-24.611603</td>\n",
       "      <td>2.576574</td>\n",
       "      <td>-16.488441</td>\n",
       "      <td>-13.911866</td>\n",
       "    </tr>\n",
       "    <tr>\n",
       "      <th>3</th>\n",
       "      <td>-21.976596</td>\n",
       "      <td>6.616607</td>\n",
       "      <td>-4.318746</td>\n",
       "      <td>2.297861</td>\n",
       "    </tr>\n",
       "    <tr>\n",
       "      <th>4</th>\n",
       "      <td>-16.343285</td>\n",
       "      <td>-14.360817</td>\n",
       "      <td>-32.797092</td>\n",
       "      <td>-47.157909</td>\n",
       "    </tr>\n",
       "  </tbody>\n",
       "</table>\n",
       "</div>"
      ],
      "text/plain": [
       "           W          X          Z   suma_X_Z\n",
       "1   3.178466  -3.838429  -6.511655 -10.350084\n",
       "2 -24.611603   2.576574 -16.488441 -13.911866\n",
       "3 -21.976596   6.616607  -4.318746   2.297861\n",
       "4 -16.343285 -14.360817 -32.797092 -47.157909"
      ]
     },
     "execution_count": 42,
     "metadata": {},
     "output_type": "execute_result"
    }
   ],
   "source": [
    "df"
   ]
  },
  {
   "cell_type": "code",
   "execution_count": 43,
   "id": "d92f6d9c-2892-4404-80b7-68dffce65e9d",
   "metadata": {},
   "outputs": [
    {
     "data": {
      "text/plain": [
       "W            3.178466\n",
       "X           -3.838429\n",
       "Z           -6.511655\n",
       "suma_X_Z   -10.350084\n",
       "Name: 1, dtype: float64"
      ]
     },
     "execution_count": 43,
     "metadata": {},
     "output_type": "execute_result"
    }
   ],
   "source": [
    "df.loc[1]"
   ]
  },
  {
   "cell_type": "code",
   "execution_count": 44,
   "id": "b639bf40-8e88-4bb8-919d-895b4cc44f26",
   "metadata": {},
   "outputs": [
    {
     "data": {
      "text/html": [
       "<div>\n",
       "<style scoped>\n",
       "    .dataframe tbody tr th:only-of-type {\n",
       "        vertical-align: middle;\n",
       "    }\n",
       "\n",
       "    .dataframe tbody tr th {\n",
       "        vertical-align: top;\n",
       "    }\n",
       "\n",
       "    .dataframe thead th {\n",
       "        text-align: right;\n",
       "    }\n",
       "</style>\n",
       "<table border=\"1\" class=\"dataframe\">\n",
       "  <thead>\n",
       "    <tr style=\"text-align: right;\">\n",
       "      <th></th>\n",
       "      <th>W</th>\n",
       "      <th>X</th>\n",
       "      <th>Z</th>\n",
       "      <th>suma_X_Z</th>\n",
       "    </tr>\n",
       "  </thead>\n",
       "  <tbody>\n",
       "    <tr>\n",
       "      <th>1</th>\n",
       "      <td>3.178466</td>\n",
       "      <td>-3.838429</td>\n",
       "      <td>-6.511655</td>\n",
       "      <td>-10.350084</td>\n",
       "    </tr>\n",
       "    <tr>\n",
       "      <th>3</th>\n",
       "      <td>-21.976596</td>\n",
       "      <td>6.616607</td>\n",
       "      <td>-4.318746</td>\n",
       "      <td>2.297861</td>\n",
       "    </tr>\n",
       "  </tbody>\n",
       "</table>\n",
       "</div>"
      ],
      "text/plain": [
       "           W         X         Z   suma_X_Z\n",
       "1   3.178466 -3.838429 -6.511655 -10.350084\n",
       "3 -21.976596  6.616607 -4.318746   2.297861"
      ]
     },
     "execution_count": 44,
     "metadata": {},
     "output_type": "execute_result"
    }
   ],
   "source": [
    "df.iloc[[0,2]]"
   ]
  },
  {
   "cell_type": "code",
   "execution_count": 45,
   "id": "7655316a-9bee-44e0-9a82-019c95c5c388",
   "metadata": {},
   "outputs": [
    {
     "data": {
      "text/html": [
       "<div>\n",
       "<style scoped>\n",
       "    .dataframe tbody tr th:only-of-type {\n",
       "        vertical-align: middle;\n",
       "    }\n",
       "\n",
       "    .dataframe tbody tr th {\n",
       "        vertical-align: top;\n",
       "    }\n",
       "\n",
       "    .dataframe thead th {\n",
       "        text-align: right;\n",
       "    }\n",
       "</style>\n",
       "<table border=\"1\" class=\"dataframe\">\n",
       "  <thead>\n",
       "    <tr style=\"text-align: right;\">\n",
       "      <th></th>\n",
       "      <th>W</th>\n",
       "      <th>X</th>\n",
       "      <th>Z</th>\n",
       "      <th>suma_X_Z</th>\n",
       "    </tr>\n",
       "  </thead>\n",
       "  <tbody>\n",
       "    <tr>\n",
       "      <th>1</th>\n",
       "      <td>3.178466</td>\n",
       "      <td>-3.838429</td>\n",
       "      <td>-6.511655</td>\n",
       "      <td>-10.350084</td>\n",
       "    </tr>\n",
       "    <tr>\n",
       "      <th>2</th>\n",
       "      <td>-24.611603</td>\n",
       "      <td>2.576574</td>\n",
       "      <td>-16.488441</td>\n",
       "      <td>-13.911866</td>\n",
       "    </tr>\n",
       "    <tr>\n",
       "      <th>3</th>\n",
       "      <td>-21.976596</td>\n",
       "      <td>6.616607</td>\n",
       "      <td>-4.318746</td>\n",
       "      <td>2.297861</td>\n",
       "    </tr>\n",
       "    <tr>\n",
       "      <th>4</th>\n",
       "      <td>-16.343285</td>\n",
       "      <td>-14.360817</td>\n",
       "      <td>-32.797092</td>\n",
       "      <td>-47.157909</td>\n",
       "    </tr>\n",
       "  </tbody>\n",
       "</table>\n",
       "</div>"
      ],
      "text/plain": [
       "           W          X          Z   suma_X_Z\n",
       "1   3.178466  -3.838429  -6.511655 -10.350084\n",
       "2 -24.611603   2.576574 -16.488441 -13.911866\n",
       "3 -21.976596   6.616607  -4.318746   2.297861\n",
       "4 -16.343285 -14.360817 -32.797092 -47.157909"
      ]
     },
     "execution_count": 45,
     "metadata": {},
     "output_type": "execute_result"
    }
   ],
   "source": [
    "df"
   ]
  },
  {
   "cell_type": "code",
   "execution_count": 46,
   "id": "61f7b95e-c0ab-43fd-af88-66400286eb2f",
   "metadata": {},
   "outputs": [
    {
     "data": {
      "text/plain": [
       "np.float64(6.6166071203073855)"
      ]
     },
     "execution_count": 46,
     "metadata": {},
     "output_type": "execute_result"
    }
   ],
   "source": [
    "df.loc[3, 'X']"
   ]
  },
  {
   "cell_type": "code",
   "execution_count": 49,
   "id": "e1e33d5e-1738-48c5-8ff0-da73abbbd5ae",
   "metadata": {},
   "outputs": [
    {
     "data": {
      "text/html": [
       "<div>\n",
       "<style scoped>\n",
       "    .dataframe tbody tr th:only-of-type {\n",
       "        vertical-align: middle;\n",
       "    }\n",
       "\n",
       "    .dataframe tbody tr th {\n",
       "        vertical-align: top;\n",
       "    }\n",
       "\n",
       "    .dataframe thead th {\n",
       "        text-align: right;\n",
       "    }\n",
       "</style>\n",
       "<table border=\"1\" class=\"dataframe\">\n",
       "  <thead>\n",
       "    <tr style=\"text-align: right;\">\n",
       "      <th></th>\n",
       "      <th>W</th>\n",
       "      <th>X</th>\n",
       "      <th>Z</th>\n",
       "      <th>suma_X_Z</th>\n",
       "    </tr>\n",
       "  </thead>\n",
       "  <tbody>\n",
       "    <tr>\n",
       "      <th>1</th>\n",
       "      <td>3.178466</td>\n",
       "      <td>-3.838429</td>\n",
       "      <td>-6.511655</td>\n",
       "      <td>-10.350084</td>\n",
       "    </tr>\n",
       "    <tr>\n",
       "      <th>2</th>\n",
       "      <td>-24.611603</td>\n",
       "      <td>2.576574</td>\n",
       "      <td>-16.488441</td>\n",
       "      <td>-13.911866</td>\n",
       "    </tr>\n",
       "    <tr>\n",
       "      <th>3</th>\n",
       "      <td>-21.976596</td>\n",
       "      <td>6.616607</td>\n",
       "      <td>-4.318746</td>\n",
       "      <td>2.297861</td>\n",
       "    </tr>\n",
       "    <tr>\n",
       "      <th>4</th>\n",
       "      <td>-16.343285</td>\n",
       "      <td>-14.360817</td>\n",
       "      <td>-32.797092</td>\n",
       "      <td>-47.157909</td>\n",
       "    </tr>\n",
       "  </tbody>\n",
       "</table>\n",
       "</div>"
      ],
      "text/plain": [
       "           W          X          Z   suma_X_Z\n",
       "1   3.178466  -3.838429  -6.511655 -10.350084\n",
       "2 -24.611603   2.576574 -16.488441 -13.911866\n",
       "3 -21.976596   6.616607  -4.318746   2.297861\n",
       "4 -16.343285 -14.360817 -32.797092 -47.157909"
      ]
     },
     "execution_count": 49,
     "metadata": {},
     "output_type": "execute_result"
    }
   ],
   "source": [
    "df"
   ]
  },
  {
   "cell_type": "code",
   "execution_count": 51,
   "id": "672340a8-4fa7-49d1-91f0-f34eadbff593",
   "metadata": {},
   "outputs": [
    {
     "data": {
      "text/html": [
       "<div>\n",
       "<style scoped>\n",
       "    .dataframe tbody tr th:only-of-type {\n",
       "        vertical-align: middle;\n",
       "    }\n",
       "\n",
       "    .dataframe tbody tr th {\n",
       "        vertical-align: top;\n",
       "    }\n",
       "\n",
       "    .dataframe thead th {\n",
       "        text-align: right;\n",
       "    }\n",
       "</style>\n",
       "<table border=\"1\" class=\"dataframe\">\n",
       "  <thead>\n",
       "    <tr style=\"text-align: right;\">\n",
       "      <th></th>\n",
       "      <th>X</th>\n",
       "      <th>suma_X_Z</th>\n",
       "    </tr>\n",
       "  </thead>\n",
       "  <tbody>\n",
       "    <tr>\n",
       "      <th>2</th>\n",
       "      <td>2.576574</td>\n",
       "      <td>-13.911866</td>\n",
       "    </tr>\n",
       "    <tr>\n",
       "      <th>4</th>\n",
       "      <td>-14.360817</td>\n",
       "      <td>-47.157909</td>\n",
       "    </tr>\n",
       "  </tbody>\n",
       "</table>\n",
       "</div>"
      ],
      "text/plain": [
       "           X   suma_X_Z\n",
       "2   2.576574 -13.911866\n",
       "4 -14.360817 -47.157909"
      ]
     },
     "execution_count": 51,
     "metadata": {},
     "output_type": "execute_result"
    }
   ],
   "source": [
    "df.loc[ [2, 4],['X', 'suma_X_Z'] ]"
   ]
  },
  {
   "cell_type": "code",
   "execution_count": null,
   "id": "3ea2fcea-7e86-486f-864e-cad7c8180e79",
   "metadata": {},
   "outputs": [],
   "source": []
  }
 ],
 "metadata": {
  "kernelspec": {
   "display_name": "Python 3 (ipykernel)",
   "language": "python",
   "name": "python3"
  },
  "language_info": {
   "codemirror_mode": {
    "name": "ipython",
    "version": 3
   },
   "file_extension": ".py",
   "mimetype": "text/x-python",
   "name": "python",
   "nbconvert_exporter": "python",
   "pygments_lexer": "ipython3",
   "version": "3.10.4"
  }
 },
 "nbformat": 4,
 "nbformat_minor": 5
}
