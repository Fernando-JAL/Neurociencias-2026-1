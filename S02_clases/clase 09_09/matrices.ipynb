{
 "cells": [
  {
   "cell_type": "markdown",
   "id": "6974c579-a881-41d0-92c9-263303d6b464",
   "metadata": {},
   "source": [
    "###### "
   ]
  },
  {
   "cell_type": "code",
   "execution_count": 1,
   "id": "4c7c7fd2-c0b4-4b2c-b917-f89021c21c37",
   "metadata": {},
   "outputs": [],
   "source": [
    "import numpy as np"
   ]
  },
  {
   "cell_type": "code",
   "execution_count": 5,
   "id": "c33a6555-479b-42fb-90de-39884d6acd19",
   "metadata": {},
   "outputs": [
    {
     "name": "stdout",
     "output_type": "stream",
     "text": [
      "value = {'string', 5}, data type = <class 'numpy.ndarray'>\n"
     ]
    }
   ],
   "source": [
    "## convetir datos a arreglos\n",
    "value = np.array({5, 'string'})\n",
    "print (f'value = {value}, data type = {type(value)}')"
   ]
  },
  {
   "cell_type": "code",
   "execution_count": 8,
   "id": "0f27b38e-e69e-47d1-845f-6237d1914c4c",
   "metadata": {},
   "outputs": [
    {
     "data": {
      "text/plain": [
       "range(0, 4)"
      ]
     },
     "execution_count": 8,
     "metadata": {},
     "output_type": "execute_result"
    }
   ],
   "source": [
    "range(4)"
   ]
  },
  {
   "cell_type": "code",
   "execution_count": 11,
   "id": "af17be16-6d66-4d41-ac28-ec69db122286",
   "metadata": {},
   "outputs": [
    {
     "data": {
      "text/plain": [
       "array([-7, -6, -5, -4, -3, -2, -1,  0,  1,  2,  3,  4,  5])"
      ]
     },
     "execution_count": 11,
     "metadata": {},
     "output_type": "execute_result"
    }
   ],
   "source": [
    "np.array(range(-7, 6))"
   ]
  },
  {
   "cell_type": "code",
   "execution_count": 12,
   "id": "5d0c3072-aedf-484a-841e-a62284012420",
   "metadata": {},
   "outputs": [
    {
     "data": {
      "text/plain": [
       "array([-5, -4, -3, -2])"
      ]
     },
     "execution_count": 12,
     "metadata": {},
     "output_type": "execute_result"
    }
   ],
   "source": [
    "##  para quedarnos de -5 a -2\n",
    "np.array(range(-7, 6))[2:6]"
   ]
  },
  {
   "cell_type": "code",
   "execution_count": 13,
   "id": "dc9c5410-5710-4ca7-98de-798c3c063609",
   "metadata": {},
   "outputs": [
    {
     "data": {
      "text/plain": [
       "(array([0, 1, 2, 3, 4]), array([-10,  -9,  -8,  -7,  -6]))"
      ]
     },
     "execution_count": 13,
     "metadata": {},
     "output_type": "execute_result"
    }
   ],
   "source": [
    "a, b= np.arange(5), np.arange(-10, -5)\n",
    "a, b"
   ]
  },
  {
   "cell_type": "code",
   "execution_count": 14,
   "id": "ef9afa45-89ad-4d65-98b1-ef91edc406fc",
   "metadata": {},
   "outputs": [
    {
     "data": {
      "text/plain": [
       "array([-10, -10, -10, -10, -10])"
      ]
     },
     "execution_count": 14,
     "metadata": {},
     "output_type": "execute_result"
    }
   ],
   "source": [
    "b-a"
   ]
  },
  {
   "cell_type": "code",
   "execution_count": 15,
   "id": "0c6ffb3a-d655-4752-8be3-be0739eebc30",
   "metadata": {},
   "outputs": [
    {
     "data": {
      "text/plain": [
       "array([-3.33333333, -3.        , -2.66666667, -2.33333333, -2.        ])"
      ]
     },
     "execution_count": 15,
     "metadata": {},
     "output_type": "execute_result"
    }
   ],
   "source": [
    "b/3"
   ]
  },
  {
   "cell_type": "code",
   "execution_count": 16,
   "id": "f71e9e1f-17a3-4e89-9e47-243eb8441ff8",
   "metadata": {},
   "outputs": [
    {
     "data": {
      "text/plain": [
       "array([18, 19, 20, 21, 22])"
      ]
     },
     "execution_count": 16,
     "metadata": {},
     "output_type": "execute_result"
    }
   ],
   "source": [
    "a + 18"
   ]
  },
  {
   "cell_type": "code",
   "execution_count": 17,
   "id": "5966a1bb-9a20-4ebc-b17a-d34cd3ce81eb",
   "metadata": {},
   "outputs": [
    {
     "data": {
      "text/plain": [
       "array([10, 10, 10, 10, 10])"
      ]
     },
     "execution_count": 17,
     "metadata": {},
     "output_type": "execute_result"
    }
   ],
   "source": [
    "a - b"
   ]
  },
  {
   "cell_type": "code",
   "execution_count": 18,
   "id": "d22c5ca4-caff-41bd-b384-f23e5d96ece0",
   "metadata": {},
   "outputs": [
    {
     "data": {
      "text/plain": [
       "array([  0,  -9, -16, -21, -24])"
      ]
     },
     "execution_count": 18,
     "metadata": {},
     "output_type": "execute_result"
    }
   ],
   "source": [
    "a * b\n",
    "#matematicamente no existe el producto de vectores "
   ]
  },
  {
   "cell_type": "code",
   "execution_count": 19,
   "id": "967f5f44-fcbe-4659-bb62-d6c095e67139",
   "metadata": {},
   "outputs": [
    {
     "name": "stderr",
     "output_type": "stream",
     "text": [
      "C:\\Users\\HP\\AppData\\Local\\Temp\\ipykernel_31756\\1491818542.py:1: RuntimeWarning: divide by zero encountered in divide\n",
      "  b / a\n"
     ]
    },
    {
     "data": {
      "text/plain": [
       "array([       -inf, -9.        , -4.        , -2.33333333, -1.5       ])"
      ]
     },
     "execution_count": 19,
     "metadata": {},
     "output_type": "execute_result"
    }
   ],
   "source": [
    "b / a\n",
    "## -inf es infinito"
   ]
  },
  {
   "cell_type": "code",
   "execution_count": 20,
   "id": "292281a9-92a9-43f8-aeff-d957d4b8922e",
   "metadata": {},
   "outputs": [
    {
     "name": "stderr",
     "output_type": "stream",
     "text": [
      "C:\\Users\\HP\\AppData\\Local\\Temp\\ipykernel_31756\\1878905493.py:1: RuntimeWarning: divide by zero encountered in divide\n",
      "  b ** (1/a)\n",
      "C:\\Users\\HP\\AppData\\Local\\Temp\\ipykernel_31756\\1878905493.py:1: RuntimeWarning: invalid value encountered in power\n",
      "  b ** (1/a)\n"
     ]
    },
    {
     "data": {
      "text/plain": [
       "array([inf, -9., nan, nan, nan])"
      ]
     },
     "execution_count": 20,
     "metadata": {},
     "output_type": "execute_result"
    }
   ],
   "source": [
    "b ** (1/a)\n",
    "## los nan no son invalidos, solo no fue capaz de ejecutarlo por el tipo de datos, ojo con los warning "
   ]
  },
  {
   "cell_type": "code",
   "execution_count": 32,
   "id": "22fda3cd-087c-46d7-9790-bbd9225713f7",
   "metadata": {},
   "outputs": [
    {
     "data": {
      "text/plain": [
       "2.8284271247461903"
      ]
     },
     "execution_count": 32,
     "metadata": {},
     "output_type": "execute_result"
    }
   ],
   "source": [
    "(64) ** (1/4)"
   ]
  },
  {
   "cell_type": "code",
   "execution_count": 31,
   "id": "40a212d4-e8b7-4196-8ee4-f823d5033686",
   "metadata": {},
   "outputs": [
    {
     "data": {
      "text/plain": [
       "3.0"
      ]
     },
     "execution_count": 31,
     "metadata": {},
     "output_type": "execute_result"
    }
   ],
   "source": [
    "(27) ** (1/3)"
   ]
  },
  {
   "cell_type": "code",
   "execution_count": 27,
   "id": "f84a018c-2149-41c1-8de4-e8a3b594f1e5",
   "metadata": {},
   "outputs": [
    {
     "data": {
      "text/plain": [
       "(1.7319121124709868e-16+2.8284271247461903j)"
      ]
     },
     "execution_count": 27,
     "metadata": {},
     "output_type": "execute_result"
    }
   ],
   "source": [
    "(-8)** 0.5"
   ]
  },
  {
   "cell_type": "code",
   "execution_count": 33,
   "id": "1d89218c-d102-4c5a-a814-f0f8e034254a",
   "metadata": {},
   "outputs": [
    {
     "data": {
      "text/plain": [
       "(1.7319121124709868e-16+2.8284271247461903j)"
      ]
     },
     "execution_count": 33,
     "metadata": {},
     "output_type": "execute_result"
    }
   ],
   "source": [
    "(-8)** (1/2)"
   ]
  },
  {
   "cell_type": "code",
   "execution_count": 36,
   "id": "4e9dbead-e6ed-4dd1-9e99-286e1fd7ff53",
   "metadata": {},
   "outputs": [
    {
     "data": {
      "text/plain": [
       "array([ 5, 10])"
      ]
     },
     "execution_count": 36,
     "metadata": {},
     "output_type": "execute_result"
    }
   ],
   "source": [
    "vec= np.array ([5,10])\n",
    "vec"
   ]
  },
  {
   "cell_type": "code",
   "execution_count": 38,
   "id": "b5876967-bac5-4582-b36e-4dc5f7c6e68e",
   "metadata": {},
   "outputs": [
    {
     "data": {
      "text/plain": [
       "array([ 5, 10])"
      ]
     },
     "execution_count": 38,
     "metadata": {},
     "output_type": "execute_result"
    }
   ],
   "source": [
    "vec. transpose()"
   ]
  },
  {
   "cell_type": "code",
   "execution_count": 48,
   "id": "3632459d-e3b1-4dbd-b2d6-d9de66e4fef6",
   "metadata": {},
   "outputs": [
    {
     "data": {
      "text/plain": [
       "array([[ 4, -1],\n",
       "       [-7,  2]])"
      ]
     },
     "execution_count": 48,
     "metadata": {},
     "output_type": "execute_result"
    }
   ],
   "source": [
    "vec2D= np.array([[4, -1], [-7, 2]])\n",
    "vec2D"
   ]
  },
  {
   "cell_type": "code",
   "execution_count": 49,
   "id": "005f957c-2e63-40d0-bdd9-959ae0e77b42",
   "metadata": {},
   "outputs": [
    {
     "data": {
      "text/plain": [
       "(array([[ 4, -7],\n",
       "        [-1,  2]]),\n",
       " array([[ 4, -7],\n",
       "        [-1,  2]]))"
      ]
     },
     "execution_count": 49,
     "metadata": {},
     "output_type": "execute_result"
    }
   ],
   "source": [
    "vec2D.transpose(), vec2D.T"
   ]
  },
  {
   "cell_type": "code",
   "execution_count": 50,
   "id": "aae8dff4-7ad5-42a3-9b79-d89b0adbfe89",
   "metadata": {},
   "outputs": [
    {
     "data": {
      "text/plain": [
       "(array([[1, 2],\n",
       "        [3, 4]]),\n",
       " array([[ 4, -1],\n",
       "        [-7,  2]]))"
      ]
     },
     "execution_count": 50,
     "metadata": {},
     "output_type": "execute_result"
    }
   ],
   "source": [
    "vec1= np.array([[1, 2], [3, 4]])\n",
    "vec1, vec2D"
   ]
  },
  {
   "cell_type": "code",
   "execution_count": 52,
   "id": "3edf6827-ca2c-4d34-b057-4ac0663dd1cb",
   "metadata": {},
   "outputs": [
    {
     "data": {
      "text/plain": [
       "array([[-10,   3],\n",
       "       [-16,   5]])"
      ]
     },
     "execution_count": 52,
     "metadata": {},
     "output_type": "execute_result"
    }
   ],
   "source": [
    "resultado = vec1 @ vec2D\n",
    "resultado"
   ]
  },
  {
   "cell_type": "code",
   "execution_count": 59,
   "id": "522e0e1b-be7c-4422-8ffa-c55bc972e8dd",
   "metadata": {},
   "outputs": [
    {
     "data": {
      "text/plain": [
       "np.int64(-16)"
      ]
     },
     "execution_count": 59,
     "metadata": {},
     "output_type": "execute_result"
    }
   ],
   "source": [
    "resultado [1][0]"
   ]
  },
  {
   "cell_type": "code",
   "execution_count": 60,
   "id": "b4eb3a56-3cc4-4c4c-8ef8-f87bf1e4616b",
   "metadata": {},
   "outputs": [
    {
     "data": {
      "text/plain": [
       "array([-16,   5])"
      ]
     },
     "execution_count": 60,
     "metadata": {},
     "output_type": "execute_result"
    }
   ],
   "source": [
    "resultado [1]"
   ]
  },
  {
   "cell_type": "code",
   "execution_count": 62,
   "id": "7d5ab023-55a3-41a2-9001-e5a05cf8a9db",
   "metadata": {},
   "outputs": [],
   "source": [
    "matriz = np.array ([[0,5,10],\n",
    "                    [15,20,25],\n",
    "                    [99,35,40]])"
   ]
  },
  {
   "cell_type": "code",
   "execution_count": 64,
   "id": "3e2c985e-a08b-4430-bc21-7a9116ccb1e0",
   "metadata": {},
   "outputs": [
    {
     "data": {
      "text/plain": [
       "array([99, 35])"
      ]
     },
     "execution_count": 64,
     "metadata": {},
     "output_type": "execute_result"
    }
   ],
   "source": [
    "matriz [2][:-1]"
   ]
  },
  {
   "cell_type": "code",
   "execution_count": 67,
   "id": "191a35ce-e996-41bb-bbcb-9f8cf1734c51",
   "metadata": {},
   "outputs": [
    {
     "data": {
      "text/plain": [
       "array([99, 35])"
      ]
     },
     "execution_count": 67,
     "metadata": {},
     "output_type": "execute_result"
    }
   ],
   "source": [
    "matriz [2][:2]"
   ]
  },
  {
   "cell_type": "code",
   "execution_count": 68,
   "id": "1aa3dac0-9f78-4e43-9f3e-b835155b26a7",
   "metadata": {},
   "outputs": [
    {
     "data": {
      "text/plain": [
       "array([[ 0,  5, 10],\n",
       "       [15, 20, 25],\n",
       "       [99, 35, 40]])"
      ]
     },
     "execution_count": 68,
     "metadata": {},
     "output_type": "execute_result"
    }
   ],
   "source": [
    "matriz [:][:]"
   ]
  },
  {
   "cell_type": "code",
   "execution_count": 80,
   "id": "df3495b9-6060-4df0-8758-0c04c5b55a4a",
   "metadata": {},
   "outputs": [
    {
     "data": {
      "text/plain": [
       "array([[15, 20, 25],\n",
       "       [99, 35, 40]])"
      ]
     },
     "execution_count": 80,
     "metadata": {},
     "output_type": "execute_result"
    }
   ],
   "source": [
    "matriz [1:][:]"
   ]
  },
  {
   "cell_type": "code",
   "execution_count": 81,
   "id": "4f28acfd-fbf5-41a5-af10-2eace52a1e61",
   "metadata": {},
   "outputs": [
    {
     "data": {
      "text/plain": [
       "array([[15, 20, 25],\n",
       "       [99, 35, 40]])"
      ]
     },
     "execution_count": 81,
     "metadata": {},
     "output_type": "execute_result"
    }
   ],
   "source": [
    "matriz [1:]"
   ]
  },
  {
   "cell_type": "markdown",
   "id": "c9f42316-b772-40e8-a793-85ed138bc2e1",
   "metadata": {},
   "source": [
    "### tarea \n",
    "tener la columna de en medio"
   ]
  },
  {
   "cell_type": "code",
   "execution_count": 92,
   "id": "2f9787f1-7330-4c3e-a6cf-b304a1d21815",
   "metadata": {},
   "outputs": [
    {
     "data": {
      "text/plain": [
       "np.int64(5)"
      ]
     },
     "execution_count": 92,
     "metadata": {},
     "output_type": "execute_result"
    }
   ],
   "source": [
    "matriz [0,1]"
   ]
  },
  {
   "cell_type": "code",
   "execution_count": 86,
   "id": "9ad98e91-4058-42d7-999e-de6c506754a8",
   "metadata": {},
   "outputs": [
    {
     "data": {
      "text/plain": [
       "array([[  0,   5,  10],\n",
       "       [-20,  20,  25],\n",
       "       [ 99,  35,  40]])"
      ]
     },
     "execution_count": 86,
     "metadata": {},
     "output_type": "execute_result"
    }
   ],
   "source": [
    "matriz[1][0]=-20\n",
    "matriz\n",
    "## es mutable"
   ]
  },
  {
   "cell_type": "code",
   "execution_count": 88,
   "id": "fbef5339-27c4-4c9e-ba22-6c485032f979",
   "metadata": {},
   "outputs": [
    {
     "name": "stdout",
     "output_type": "stream",
     "text": [
      "0.8962307651466196\n",
      "0.5053457243771797\n",
      "0.2898833424501335\n",
      "0.7410572498088966\n",
      "0.5924095072486852\n"
     ]
    }
   ],
   "source": [
    "for _ in range (5):\n",
    "    print (np.random.rand())\n",
    "\n",
    "## esto ejecuta numeros aleatorios entre el cero y uno "
   ]
  },
  {
   "cell_type": "code",
   "execution_count": 93,
   "id": "b23502cc-98e1-4634-8491-f9f9f2b39273",
   "metadata": {},
   "outputs": [
    {
     "data": {
      "text/plain": [
       "array([[0.09285685, 0.84775871, 0.45974872],\n",
       "       [0.70103165, 0.9800986 , 0.35593888],\n",
       "       [0.47122481, 0.65116194, 0.34071412],\n",
       "       [0.61844674, 0.7277248 , 0.43567272],\n",
       "       [0.78575431, 0.48315947, 0.26484336]])"
      ]
     },
     "execution_count": 93,
     "metadata": {},
     "output_type": "execute_result"
    }
   ],
   "source": [
    "np.random.rand(5,3)"
   ]
  },
  {
   "cell_type": "code",
   "execution_count": null,
   "id": "eb52b75b-6355-4a5a-95ff-320fcc33f608",
   "metadata": {},
   "outputs": [],
   "source": [
    "## distribucion uniforme es la de dados, siempre es la misma probabilidad es recta "
   ]
  },
  {
   "cell_type": "code",
   "execution_count": null,
   "id": "1f7e2bf9-f2db-4f98-9bbb-3d458e7f083f",
   "metadata": {},
   "outputs": [],
   "source": []
  },
  {
   "cell_type": "code",
   "execution_count": null,
   "id": "51fc0bf5-1a9f-43e9-8fce-5597d3c5722f",
   "metadata": {},
   "outputs": [],
   "source": []
  }
 ],
 "metadata": {
  "kernelspec": {
   "display_name": "Python 3 (ipykernel)",
   "language": "python",
   "name": "python3"
  },
  "language_info": {
   "codemirror_mode": {
    "name": "ipython",
    "version": 3
   },
   "file_extension": ".py",
   "mimetype": "text/x-python",
   "name": "python",
   "nbconvert_exporter": "python",
   "pygments_lexer": "ipython3",
   "version": "3.13.6"
  }
 },
 "nbformat": 4,
 "nbformat_minor": 5
}
