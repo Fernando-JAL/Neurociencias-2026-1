{
 "cells": [
  {
   "cell_type": "code",
   "execution_count": 8,
   "id": "66a3e057-dada-45fb-b49d-89bbc2d4b60d",
   "metadata": {},
   "outputs": [],
   "source": [
    "casa = 3"
   ]
  },
  {
   "cell_type": "markdown",
   "id": "6ecf209b-46ac-45aa-a15f-9ed75b3a436b",
   "metadata": {},
   "source": []
  },
  {
   "cell_type": "code",
   "execution_count": 11,
   "id": "6e22d002-9ba7-4ce1-8e96-697a5bb2abee",
   "metadata": {},
   "outputs": [
    {
     "data": {
      "text/plain": [
       "3"
      ]
     },
     "execution_count": 11,
     "metadata": {},
     "output_type": "execute_result"
    }
   ],
   "source": [
    "casa"
   ]
  },
  {
   "cell_type": "code",
   "execution_count": 8,
   "id": "d6f2a94d-964b-483e-9c58-5c02b0cfd70f",
   "metadata": {},
   "outputs": [],
   "source": [
    "b=8"
   ]
  },
  {
   "cell_type": "code",
   "execution_count": 9,
   "id": "e35cc947-213c-427d-9572-92b4d6b5a554",
   "metadata": {},
   "outputs": [
    {
     "data": {
      "text/plain": [
       "8"
      ]
     },
     "execution_count": 9,
     "metadata": {},
     "output_type": "execute_result"
    }
   ],
   "source": [
    "b"
   ]
  },
  {
   "cell_type": "markdown",
   "id": "45320301-cdce-4a2e-962e-f41d8c370bb9",
   "metadata": {},
   "source": [
    "casa = 7"
   ]
  },
  {
   "cell_type": "markdown",
   "id": "6656a210-c9a5-449d-9678-e364db03a2f3",
   "metadata": {},
   "source": [
    "# title\n",
    "\n",
    "## subtitle\n",
    "\n",
    "## section \n",
    "\n",
    "### subsection \n",
    "\n",
    "#### text \n",
    "\n",
    "##### more text \n",
    "\n",
    "###### texto sin #\n",
    "\n",
    "texto sin #\n",
    "\n",
    "\n",
    "*texto*\n",
    "\n",
    "**mas texto**\n"
   ]
  },
  {
   "cell_type": "markdown",
   "id": "95c0680b-b321-4760-8249-56e3d8076e38",
   "metadata": {},
   "source": [
    "esc + a -> insentar celda arriba\n",
    "\n",
    "esc + b -> insentar celda arriba\n",
    "\n",
    "esc + m -> convierte celda en markdown \n",
    "\n"
   ]
  },
  {
   "cell_type": "markdown",
   "id": "d333695e-233c-4b24-8102-a983ae795f8d",
   "metadata": {},
   "source": [
    "## listas \n",
    "- item 1\n",
    "- item 2\n",
    "- item 3\n",
    "\n",
    "1. cosa 1\n",
    "1. cosa 2\n",
    "   1. subnumero\n",
    "      1. subnumero 2\n",
    "         1. subnumero 3\n",
    "   \n",
    "  "
   ]
  },
  {
   "cell_type": "markdown",
   "id": "637c202b-53b2-4920-be9b-91f09adf836f",
   "metadata": {},
   "source": [
    "### diccionario"
   ]
  },
  {
   "cell_type": "code",
   "execution_count": 3,
   "id": "e195029b-5355-4ea5-b3f5-2959af2fdd88",
   "metadata": {},
   "outputs": [],
   "source": [
    "dictionary = {'llave':'valor1', 'llave2':'valor2','cosa':5, 'otra cosa': [3, 2, 'k'], 'llave3': (1,2,'1')}"
   ]
  },
  {
   "cell_type": "code",
   "execution_count": 4,
   "id": "4dea666d-4327-4f4a-8eb7-fdb0558194e8",
   "metadata": {},
   "outputs": [
    {
     "data": {
      "text/plain": [
       "{'llave': 'valor1',\n",
       " 'llave2': 'valor2',\n",
       " 'cosa': 5,\n",
       " 'otra cosa': [3, 2, 'k'],\n",
       " 'llave3': (1, 2, '1')}"
      ]
     },
     "execution_count": 4,
     "metadata": {},
     "output_type": "execute_result"
    }
   ],
   "source": [
    "dictionary "
   ]
  },
  {
   "cell_type": "code",
   "execution_count": 5,
   "id": "af7c346c-1155-457c-bd91-6651a9e2d52b",
   "metadata": {},
   "outputs": [
    {
     "data": {
      "text/plain": [
       "5"
      ]
     },
     "execution_count": 5,
     "metadata": {},
     "output_type": "execute_result"
    }
   ],
   "source": [
    "dictionary ['cosa'] "
   ]
  },
  {
   "cell_type": "code",
   "execution_count": 6,
   "id": "3f4fd1b4-6c2e-48f1-a0f3-e63d4c2f8303",
   "metadata": {},
   "outputs": [
    {
     "data": {
      "text/plain": [
       "(1, 2, '1')"
      ]
     },
     "execution_count": 6,
     "metadata": {},
     "output_type": "execute_result"
    }
   ],
   "source": [
    "dictionary ['llave3']"
   ]
  },
  {
   "cell_type": "code",
   "execution_count": 7,
   "id": "280c7553-2d06-4eef-a552-579dc9d190d1",
   "metadata": {},
   "outputs": [
    {
     "data": {
      "text/plain": [
       "6"
      ]
     },
     "execution_count": 7,
     "metadata": {},
     "output_type": "execute_result"
    }
   ],
   "source": [
    "dictionary ['cosa'] + 1"
   ]
  },
  {
   "cell_type": "code",
   "execution_count": null,
   "id": "6a8223ec-36e0-4738-928d-d1553e08399f",
   "metadata": {},
   "outputs": [],
   "source": []
  }
 ],
 "metadata": {
  "kernelspec": {
   "display_name": "Python 3 (ipykernel)",
   "language": "python",
   "name": "python3"
  },
  "language_info": {
   "codemirror_mode": {
    "name": "ipython",
    "version": 3
   },
   "file_extension": ".py",
   "mimetype": "text/x-python",
   "name": "python",
   "nbconvert_exporter": "python",
   "pygments_lexer": "ipython3",
   "version": "3.13.6"
  }
 },
 "nbformat": 4,
 "nbformat_minor": 5
}
