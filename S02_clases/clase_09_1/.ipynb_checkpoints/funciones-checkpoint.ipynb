{
 "cells": [
  {
   "cell_type": "code",
   "execution_count": 1,
   "id": "eec1a6a9-4bc4-42f4-8e30-45c7789075d7",
   "metadata": {},
   "outputs": [
    {
     "data": {
      "text/plain": [
       "2.0"
      ]
     },
     "execution_count": 1,
     "metadata": {},
     "output_type": "execute_result"
    }
   ],
   "source": [
    "def division_entre_dos_numeros (dividendo, divisor):\n",
    "    return dividendo / divisor \n",
    "\n",
    "division_entre_dos_numeros(8,4)"
   ]
  },
  {
   "cell_type": "code",
   "execution_count": 2,
   "id": "809316c6-54c6-4026-abd1-b3bbed6669de",
   "metadata": {},
   "outputs": [
    {
     "data": {
      "text/plain": [
       "2.0"
      ]
     },
     "execution_count": 2,
     "metadata": {},
     "output_type": "execute_result"
    }
   ],
   "source": [
    "# parametros por nombre \n",
    "\n",
    "division_entre_dos_numeros(dividendo = 8,divisor=4)"
   ]
  },
  {
   "cell_type": "code",
   "execution_count": 4,
   "id": "24036d6c-4060-4609-8621-64b3af31abfe",
   "metadata": {},
   "outputs": [
    {
     "data": {
      "text/plain": [
       "2.0"
      ]
     },
     "execution_count": 4,
     "metadata": {},
     "output_type": "execute_result"
    }
   ],
   "source": [
    "division_entre_dos_numeros(divisor = 4,dividendo=8)"
   ]
  },
  {
   "cell_type": "code",
   "execution_count": 6,
   "id": "19324cd8-6871-4d26-bc29-a1c7aca284b0",
   "metadata": {},
   "outputs": [
    {
     "data": {
      "text/plain": [
       "12.0"
      ]
     },
     "execution_count": 6,
     "metadata": {},
     "output_type": "execute_result"
    }
   ],
   "source": [
    "def division_entre_dos_numeros (dividendo, divisor, extra = 0):\n",
    "    return dividendo / divisor + extra\n",
    "\n",
    "division_entre_dos_numeros(8,4,10)"
   ]
  },
  {
   "cell_type": "markdown",
   "id": "6dc31468-59f5-465f-bc04-4bcd0e452795",
   "metadata": {},
   "source": [
    "# FUNCIONES RECURSIVAS"
   ]
  },
  {
   "cell_type": "code",
   "execution_count": 11,
   "id": "ef9db018-1d66-4512-8206-a349b7ba9157",
   "metadata": {},
   "outputs": [
    {
     "name": "stdout",
     "output_type": "stream",
     "text": [
      "booom ! ! !\n",
      " fin de la función 0\n",
      " fin de la función 1\n",
      " fin de la función 2\n",
      " fin de la función 3\n",
      " fin de la función 4\n",
      " fin de la función 5\n"
     ]
    }
   ],
   "source": [
    "def cuenta_atras(n):\n",
    "    if n > 0:\n",
    "        cuenta_atras (n-1)\n",
    "    else:\n",
    "        print(\"booom ! ! !\")\n",
    "    print (\" fin de la función\",n)\n",
    "\n",
    "cuenta_atras(5)"
   ]
  },
  {
   "cell_type": "code",
   "execution_count": 12,
   "id": "a1238d32-9b67-4327-9a51-08b2ecc9c4fd",
   "metadata": {},
   "outputs": [
    {
     "name": "stdout",
     "output_type": "stream",
     "text": [
      "booom ! ! !\n",
      " fin de la función 0\n",
      " fin de la función 1\n",
      " fin de la función 2\n",
      " fin de la función 3\n"
     ]
    }
   ],
   "source": [
    "def cuenta_atras(n):\n",
    "    if n > 0:\n",
    "        cuenta_atras (n-1)\n",
    "    else:\n",
    "        print(\"booom ! ! !\")\n",
    "    print (\" fin de la función\",n)\n",
    "\n",
    "cuenta_atras(3)"
   ]
  },
  {
   "cell_type": "code",
   "execution_count": 13,
   "id": "e22e9a37-5550-4dcc-909d-c1ff82312c3e",
   "metadata": {},
   "outputs": [
    {
     "name": "stdout",
     "output_type": "stream",
     "text": [
      "booom ! ! !\n",
      " fin de la función 0\n",
      " fin de la función 1\n",
      " fin de la función 2\n"
     ]
    }
   ],
   "source": [
    "def cuenta_atras(n):\n",
    "    if n > 0:\n",
    "        cuenta_atras (n-1)\n",
    "    else:\n",
    "        print(\"booom ! ! !\")\n",
    "    print (\" fin de la función\",n)\n",
    "\n",
    "cuenta_atras(2)"
   ]
  },
  {
   "cell_type": "code",
   "execution_count": 15,
   "id": "ae76d1c7-6b25-4c94-a508-6c8ff77624a7",
   "metadata": {},
   "outputs": [
    {
     "name": "stdout",
     "output_type": "stream",
     "text": [
      "booom ! ! !\n",
      " fin de la función 0\n",
      " fin de la función 1\n"
     ]
    }
   ],
   "source": [
    "def cuenta_atras(n):\n",
    "    if n > 0:\n",
    "        cuenta_atras (n-1)\n",
    "    else:\n",
    "        print(\"booom ! ! !\")\n",
    "    print (\" fin de la función\",n)\n",
    "\n",
    "cuenta_atras(1)"
   ]
  },
  {
   "cell_type": "code",
   "execution_count": 16,
   "id": "1bc70151-ff4f-4125-90eb-7634e7142490",
   "metadata": {},
   "outputs": [
    {
     "name": "stdout",
     "output_type": "stream",
     "text": [
      "booom ! ! !\n",
      " fin de la función 0\n"
     ]
    }
   ],
   "source": [
    "def cuenta_atras(n):\n",
    "    if n > 0:\n",
    "        cuenta_atras (n-1)\n",
    "    else:\n",
    "        print(\"booom ! ! !\")\n",
    "    print (\" fin de la función\",n)\n",
    "\n",
    "cuenta_atras(0)"
   ]
  },
  {
   "cell_type": "code",
   "execution_count": 17,
   "id": "1396c263-441c-4b3a-a1ab-fb338bb0bc7d",
   "metadata": {},
   "outputs": [],
   "source": [
    "# TAREA hacer recursividad con factorial "
   ]
  },
  {
   "cell_type": "markdown",
   "id": "6516328d-9f4a-4431-bea4-4f5fabd86d23",
   "metadata": {},
   "source": [
    "# Función print"
   ]
  },
  {
   "cell_type": "code",
   "execution_count": 20,
   "id": "45ddf067-5a80-4eef-9281-52d2616d0bb8",
   "metadata": {},
   "outputs": [
    {
     "name": "stdout",
     "output_type": "stream",
     "text": [
      "el valor de la variable es 46.2 8\n"
     ]
    }
   ],
   "source": [
    "variable, variable2 = 46.2 , 8\n",
    "print (\"el valor de la variable es\", variable, variable2)"
   ]
  },
  {
   "cell_type": "code",
   "execution_count": 21,
   "id": "eb6f03f8-f825-469a-93ec-295b2c945496",
   "metadata": {},
   "outputs": [
    {
     "name": "stdout",
     "output_type": "stream",
     "text": [
      "el valor de la variable es 46.2, 8\n"
     ]
    }
   ],
   "source": [
    "print (f\"el valor de la variable es {variable}, {variable2}\")"
   ]
  },
  {
   "cell_type": "code",
   "execution_count": 22,
   "id": "38576f7e-1b0b-4f57-876b-e8943d866592",
   "metadata": {},
   "outputs": [
    {
     "name": "stdout",
     "output_type": "stream",
     "text": [
      "el valor de la variable es 8, 46.2\n"
     ]
    }
   ],
   "source": [
    "print(\"el valor de la variable es {1}, {0}\".format(variable,variable2))"
   ]
  },
  {
   "cell_type": "code",
   "execution_count": 23,
   "id": "e02a639e-d798-4b64-b8bc-b3c84babd623",
   "metadata": {},
   "outputs": [
    {
     "name": "stdout",
     "output_type": "stream",
     "text": [
      "el valor de la variable es 46.2, 8\n"
     ]
    }
   ],
   "source": [
    "print(\"el valor de la variable es {}, {}\".format(variable,variable2))"
   ]
  },
  {
   "cell_type": "code",
   "execution_count": 27,
   "id": "34f90685-56de-49cd-ae34-9797a6eeba55",
   "metadata": {},
   "outputs": [],
   "source": [
    "import numpy"
   ]
  },
  {
   "cell_type": "code",
   "execution_count": 26,
   "id": "bc65c477-800b-4541-93d2-e0e0e1ccffed",
   "metadata": {
    "scrolled": true
   },
   "outputs": [
    {
     "name": "stdout",
     "output_type": "stream",
     "text": [
      "Requirement already satisfied: numpy in c:\\users\\ana-sophia redstone\\appdata\\local\\programs\\python\\python310\\lib\\site-packages (2.2.6)\n",
      "Requirement already satisfied: pandas in c:\\users\\ana-sophia redstone\\appdata\\local\\programs\\python\\python310\\lib\\site-packages (2.3.2)\n",
      "Requirement already satisfied: matplotlib in c:\\users\\ana-sophia redstone\\appdata\\local\\programs\\python\\python310\\lib\\site-packages (3.10.6)\n",
      "Requirement already satisfied: pytz>=2020.1 in c:\\users\\ana-sophia redstone\\appdata\\local\\programs\\python\\python310\\lib\\site-packages (from pandas) (2025.2)\n",
      "Requirement already satisfied: tzdata>=2022.7 in c:\\users\\ana-sophia redstone\\appdata\\local\\programs\\python\\python310\\lib\\site-packages (from pandas) (2025.2)\n",
      "Requirement already satisfied: python-dateutil>=2.8.2 in c:\\users\\ana-sophia redstone\\appdata\\local\\programs\\python\\python310\\lib\\site-packages (from pandas) (2.9.0.post0)\n",
      "Requirement already satisfied: kiwisolver>=1.3.1 in c:\\users\\ana-sophia redstone\\appdata\\local\\programs\\python\\python310\\lib\\site-packages (from matplotlib) (1.4.9)\n",
      "Requirement already satisfied: contourpy>=1.0.1 in c:\\users\\ana-sophia redstone\\appdata\\local\\programs\\python\\python310\\lib\\site-packages (from matplotlib) (1.3.2)\n",
      "Requirement already satisfied: cycler>=0.10 in c:\\users\\ana-sophia redstone\\appdata\\local\\programs\\python\\python310\\lib\\site-packages (from matplotlib) (0.12.1)\n",
      "Requirement already satisfied: pillow>=8 in c:\\users\\ana-sophia redstone\\appdata\\local\\programs\\python\\python310\\lib\\site-packages (from matplotlib) (11.3.0)\n",
      "Requirement already satisfied: fonttools>=4.22.0 in c:\\users\\ana-sophia redstone\\appdata\\local\\programs\\python\\python310\\lib\\site-packages (from matplotlib) (4.59.2)\n",
      "Requirement already satisfied: pyparsing>=2.3.1 in c:\\users\\ana-sophia redstone\\appdata\\local\\programs\\python\\python310\\lib\\site-packages (from matplotlib) (3.2.3)\n",
      "Requirement already satisfied: packaging>=20.0 in c:\\users\\ana-sophia redstone\\appdata\\local\\programs\\python\\python310\\lib\\site-packages (from matplotlib) (25.0)\n",
      "Requirement already satisfied: six>=1.5 in c:\\users\\ana-sophia redstone\\appdata\\local\\programs\\python\\python310\\lib\\site-packages (from python-dateutil>=2.8.2->pandas) (1.17.0)\n"
     ]
    },
    {
     "name": "stderr",
     "output_type": "stream",
     "text": [
      "WARNING: You are using pip version 22.0.4; however, version 25.2 is available.\n",
      "You should consider upgrading via the 'C:\\Users\\Ana-Sophia Redstone\\AppData\\Local\\Programs\\Python\\Python310\\python.exe -m pip install --upgrade pip' command.\n"
     ]
    }
   ],
   "source": [
    "!pip install numpy pandas matplotlib"
   ]
  },
  {
   "cell_type": "code",
   "execution_count": null,
   "id": "f78b8a1a-9b2d-44ec-a14f-6e3f48e16c2b",
   "metadata": {},
   "outputs": [],
   "source": []
  }
 ],
 "metadata": {
  "kernelspec": {
   "display_name": "Python 3 (ipykernel)",
   "language": "python",
   "name": "python3"
  },
  "language_info": {
   "codemirror_mode": {
    "name": "ipython",
    "version": 3
   },
   "file_extension": ".py",
   "mimetype": "text/x-python",
   "name": "python",
   "nbconvert_exporter": "python",
   "pygments_lexer": "ipython3",
   "version": "3.10.4"
  }
 },
 "nbformat": 4,
 "nbformat_minor": 5
}
