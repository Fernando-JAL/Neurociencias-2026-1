{
 "cells": [
  {
   "cell_type": "code",
   "execution_count": 3,
   "id": "71f5ae9a-d0f9-4b53-bd9d-9e8cb5971b95",
   "metadata": {},
   "outputs": [],
   "source": [
    "import numpy as np"
   ]
  },
  {
   "cell_type": "code",
   "execution_count": 5,
   "id": "d5e015ca-3c86-45de-a299-bac525f50855",
   "metadata": {},
   "outputs": [
    {
     "name": "stdout",
     "output_type": "stream",
     "text": [
      "value={'string', 5}, data type = <class 'numpy.ndarray'>\n"
     ]
    }
   ],
   "source": [
    "# Convertir datos a arreglos \n",
    "value=np.array({5, 'string'})\n",
    "print(f'value={value}, data type = {type(value)}')"
   ]
  },
  {
   "cell_type": "code",
   "execution_count": 6,
   "id": "6bd8405d-c250-4a13-ac0e-ada3c72000b5",
   "metadata": {},
   "outputs": [
    {
     "data": {
      "text/plain": [
       "array([0, 1, 2, 3])"
      ]
     },
     "execution_count": 6,
     "metadata": {},
     "output_type": "execute_result"
    }
   ],
   "source": [
    "np.array(range(4))"
   ]
  },
  {
   "cell_type": "code",
   "execution_count": 138,
   "id": "733cf0e9-447c-42e8-b473-390fe5d8b7f3",
   "metadata": {},
   "outputs": [
    {
     "data": {
      "text/plain": [
       "array([[ 0,  5, 10],\n",
       "       [15, 20, 25],\n",
       "       [99, 35, 40]])"
      ]
     },
     "execution_count": 138,
     "metadata": {},
     "output_type": "execute_result"
    }
   ],
   "source": [
    "matriz= np.array([[0, 5, 10],\n",
    "                [15, 20, 25],\n",
    "                [99, 35, 40]])\n",
    "matriz"
   ]
  },
  {
   "cell_type": "code",
   "execution_count": 139,
   "id": "948be5a0-c7fe-4b39-9a8c-ce745d6032f5",
   "metadata": {},
   "outputs": [
    {
     "data": {
      "text/plain": [
       "array([99, 35, 40])"
      ]
     },
     "execution_count": 139,
     "metadata": {},
     "output_type": "execute_result"
    }
   ],
   "source": [
    "matriz[:][2]"
   ]
  },
  {
   "cell_type": "code",
   "execution_count": 140,
   "id": "8a3d03a7-60ba-4bca-ba01-7078f7b3fd1b",
   "metadata": {},
   "outputs": [
    {
     "data": {
      "text/plain": [
       "array([[ 0,  5, 10],\n",
       "       [15, 20, 25],\n",
       "       [99, 35, 40]])"
      ]
     },
     "execution_count": 140,
     "metadata": {},
     "output_type": "execute_result"
    }
   ],
   "source": [
    "matriz[:][:]"
   ]
  },
  {
   "cell_type": "code",
   "execution_count": 141,
   "id": "044e090d-55b5-468c-ab74-5cc4229d3fe4",
   "metadata": {},
   "outputs": [
    {
     "data": {
      "text/plain": [
       "array([15])"
      ]
     },
     "execution_count": 141,
     "metadata": {},
     "output_type": "execute_result"
    }
   ],
   "source": [
    "matriz[1][:-2]"
   ]
  },
  {
   "cell_type": "code",
   "execution_count": 186,
   "id": "53e0e1fe-631d-419f-a09a-c95a80277786",
   "metadata": {},
   "outputs": [
    {
     "data": {
      "text/plain": [
       "np.int64(20)"
      ]
     },
     "execution_count": 186,
     "metadata": {},
     "output_type": "execute_result"
    }
   ],
   "source": [
    "matriz[:][1][1]"
   ]
  },
  {
   "cell_type": "code",
   "execution_count": 205,
   "id": "b0c7d5d9-0a92-407e-bee0-fb06651ebe51",
   "metadata": {},
   "outputs": [
    {
     "data": {
      "text/plain": [
       "array([ 5, 20, 35])"
      ]
     },
     "execution_count": 205,
     "metadata": {},
     "output_type": "execute_result"
    }
   ],
   "source": [
    "matriz[:,1]"
   ]
  }
 ],
 "metadata": {
  "kernelspec": {
   "display_name": "Python 3 (ipykernel)",
   "language": "python",
   "name": "python3"
  },
  "language_info": {
   "codemirror_mode": {
    "name": "ipython",
    "version": 3
   },
   "file_extension": ".py",
   "mimetype": "text/x-python",
   "name": "python",
   "nbconvert_exporter": "python",
   "pygments_lexer": "ipython3",
   "version": "3.10.4"
  }
 },
 "nbformat": 4,
 "nbformat_minor": 5
}
