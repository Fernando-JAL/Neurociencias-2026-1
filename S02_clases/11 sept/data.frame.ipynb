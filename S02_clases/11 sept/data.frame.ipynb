{
 "cells": [
  {
   "cell_type": "code",
   "execution_count": 1,
   "id": "4d76dc5c-539d-4162-b165-884d93afa3c0",
   "metadata": {},
   "outputs": [],
   "source": [
    "import pandas as pd"
   ]
  },
  {
   "cell_type": "code",
   "execution_count": 2,
   "id": "b8dd1c0c-c216-4601-828b-f776cc679aba",
   "metadata": {},
   "outputs": [
    {
     "data": {
      "text/plain": [
       "0                   6\n",
       "1                   8\n",
       "2                azyk\n",
       "3    {'key': 'value'}\n",
       "4                (3,)\n",
       "dtype: object"
      ]
     },
     "execution_count": 2,
     "metadata": {},
     "output_type": "execute_result"
    }
   ],
   "source": [
    "valores = [6,8, \"azyk\", {\"key\":\"value\"},(3,)]\n",
    "indice= range(len(valores))\n",
    "serie1= pd.Series(data=valores, index=indice)"
   ]
  },
  {
   "cell_type": "code",
   "execution_count": 17,
   "id": "063910d9-b71c-43c8-bd48-dd1fa7a6878e",
   "metadata": {},
   "outputs": [
    {
     "data": {
      "text/plain": [
       "0     6\n",
       "1     8\n",
       "2    12\n",
       "3    40\n",
       "4     5\n",
       "dtype: int64"
      ]
     },
     "execution_count": 17,
     "metadata": {},
     "output_type": "execute_result"
    }
   ],
   "source": [
    "valores11 = [6,8, 12,40,5]\n",
    "serie11=pd.Series(data=valores11, index=indice)\n",
    "serie11"
   ]
  },
  {
   "cell_type": "code",
   "execution_count": 3,
   "id": "4bdd496c-b9cd-4d52-8eca-1ec00c49ac88",
   "metadata": {},
   "outputs": [
    {
     "data": {
      "text/plain": [
       "0                   6\n",
       "1                   8\n",
       "2                azyk\n",
       "3    {'key': 'value'}\n",
       "4                (3,)\n",
       "dtype: object"
      ]
     },
     "execution_count": 3,
     "metadata": {},
     "output_type": "execute_result"
    }
   ],
   "source": [
    "pd.Series(valores,indice)"
   ]
  },
  {
   "cell_type": "code",
   "execution_count": 18,
   "id": "76e93998-1383-406c-9cd5-22855a33caed",
   "metadata": {},
   "outputs": [
    {
     "data": {
      "text/plain": [
       "0     28\n",
       "1     45\n",
       "2    742\n",
       "3      3\n",
       "4     16\n",
       "dtype: int64"
      ]
     },
     "execution_count": 18,
     "metadata": {},
     "output_type": "execute_result"
    }
   ],
   "source": [
    "valores2=[28,45, 742, 3, 16]\n",
    "serie2= pd.Series(data=valores2, index=indice)\n",
    "serie2"
   ]
  },
  {
   "cell_type": "code",
   "execution_count": 19,
   "id": "a6939a0a-6fae-444d-88ca-bdb34a786496",
   "metadata": {},
   "outputs": [
    {
     "data": {
      "text/plain": [
       "0     34\n",
       "1     53\n",
       "2    754\n",
       "3     43\n",
       "4     21\n",
       "dtype: int64"
      ]
     },
     "execution_count": 19,
     "metadata": {},
     "output_type": "execute_result"
    }
   ],
   "source": [
    "serie11 + serie2"
   ]
  },
  {
   "cell_type": "code",
   "execution_count": 20,
   "id": "1202272a-a8b2-4ab4-9ad7-003cace1f683",
   "metadata": {},
   "outputs": [
    {
     "data": {
      "text/plain": [
       "0     0.214286\n",
       "1     0.177778\n",
       "2     0.016173\n",
       "3    13.333333\n",
       "4     0.312500\n",
       "dtype: float64"
      ]
     },
     "execution_count": 20,
     "metadata": {},
     "output_type": "execute_result"
    }
   ],
   "source": [
    "serie11/serie2"
   ]
  },
  {
   "cell_type": "code",
   "execution_count": 21,
   "id": "aff485f4-64c3-47d5-9cab-cba44c9da406",
   "metadata": {},
   "outputs": [
    {
     "data": {
      "text/plain": [
       "0   -1823562080465190912\n",
       "1                      0\n",
       "2                      0\n",
       "3                  64000\n",
       "4           152587890625\n",
       "dtype: int64"
      ]
     },
     "execution_count": 21,
     "metadata": {},
     "output_type": "execute_result"
    }
   ],
   "source": [
    "serie11**serie2"
   ]
  },
  {
   "cell_type": "code",
   "execution_count": 23,
   "id": "3bc95a86-0195-458c-af40-a6865d0af385",
   "metadata": {},
   "outputs": [],
   "source": [
    "import numpy as np"
   ]
  },
  {
   "cell_type": "code",
   "execution_count": 26,
   "id": "bd69028e-36ce-4023-81ba-ea59673b6a6c",
   "metadata": {},
   "outputs": [
    {
     "data": {
      "text/plain": [
       "array([[-41.73633251,   8.51327648,  -9.50931134, -23.53317079],\n",
       "       [-17.33175703, -10.28971794,  46.79275386,  -9.52842552],\n",
       "       [-26.96960056,  11.07097749, -30.49633737, -19.89274204],\n",
       "       [-16.30648951, -29.73130156, -17.6795378 ,   3.6279647 ]])"
      ]
     },
     "execution_count": 26,
     "metadata": {},
     "output_type": "execute_result"
    }
   ],
   "source": [
    "array=np.random.normal(-10,19,size=[4,4])\n",
    "array"
   ]
  },
  {
   "cell_type": "code",
   "execution_count": 29,
   "id": "193461e2-558b-47ad-9437-b56884f353bc",
   "metadata": {},
   "outputs": [
    {
     "data": {
      "text/html": [
       "<div>\n",
       "<style scoped>\n",
       "    .dataframe tbody tr th:only-of-type {\n",
       "        vertical-align: middle;\n",
       "    }\n",
       "\n",
       "    .dataframe tbody tr th {\n",
       "        vertical-align: top;\n",
       "    }\n",
       "\n",
       "    .dataframe thead th {\n",
       "        text-align: right;\n",
       "    }\n",
       "</style>\n",
       "<table border=\"1\" class=\"dataframe\">\n",
       "  <thead>\n",
       "    <tr style=\"text-align: right;\">\n",
       "      <th></th>\n",
       "      <th>W</th>\n",
       "      <th>X</th>\n",
       "    </tr>\n",
       "  </thead>\n",
       "  <tbody>\n",
       "    <tr>\n",
       "      <th>a</th>\n",
       "      <td>2</td>\n",
       "      <td>3</td>\n",
       "    </tr>\n",
       "    <tr>\n",
       "      <th>b</th>\n",
       "      <td>4</td>\n",
       "      <td>5</td>\n",
       "    </tr>\n",
       "  </tbody>\n",
       "</table>\n",
       "</div>"
      ],
      "text/plain": [
       "   W  X\n",
       "a  2  3\n",
       "b  4  5"
      ]
     },
     "execution_count": 29,
     "metadata": {},
     "output_type": "execute_result"
    }
   ],
   "source": [
    "pd.DataFrame([[2,3],[4,5]], index=[\"a\",\"b\"], columns=[\"W\",\"X\"])"
   ]
  },
  {
   "cell_type": "code",
   "execution_count": 30,
   "id": "337f6337-4542-4ba5-9ffc-410996c510e6",
   "metadata": {},
   "outputs": [
    {
     "data": {
      "text/html": [
       "<div>\n",
       "<style scoped>\n",
       "    .dataframe tbody tr th:only-of-type {\n",
       "        vertical-align: middle;\n",
       "    }\n",
       "\n",
       "    .dataframe tbody tr th {\n",
       "        vertical-align: top;\n",
       "    }\n",
       "\n",
       "    .dataframe thead th {\n",
       "        text-align: right;\n",
       "    }\n",
       "</style>\n",
       "<table border=\"1\" class=\"dataframe\">\n",
       "  <thead>\n",
       "    <tr style=\"text-align: right;\">\n",
       "      <th></th>\n",
       "      <th>0</th>\n",
       "      <th>1</th>\n",
       "      <th>2</th>\n",
       "      <th>3</th>\n",
       "    </tr>\n",
       "  </thead>\n",
       "  <tbody>\n",
       "    <tr>\n",
       "      <th>0</th>\n",
       "      <td>-41.736333</td>\n",
       "      <td>8.513276</td>\n",
       "      <td>-9.509311</td>\n",
       "      <td>-23.533171</td>\n",
       "    </tr>\n",
       "    <tr>\n",
       "      <th>1</th>\n",
       "      <td>-17.331757</td>\n",
       "      <td>-10.289718</td>\n",
       "      <td>46.792754</td>\n",
       "      <td>-9.528426</td>\n",
       "    </tr>\n",
       "    <tr>\n",
       "      <th>2</th>\n",
       "      <td>-26.969601</td>\n",
       "      <td>11.070977</td>\n",
       "      <td>-30.496337</td>\n",
       "      <td>-19.892742</td>\n",
       "    </tr>\n",
       "    <tr>\n",
       "      <th>3</th>\n",
       "      <td>-16.306490</td>\n",
       "      <td>-29.731302</td>\n",
       "      <td>-17.679538</td>\n",
       "      <td>3.627965</td>\n",
       "    </tr>\n",
       "  </tbody>\n",
       "</table>\n",
       "</div>"
      ],
      "text/plain": [
       "           0          1          2          3\n",
       "0 -41.736333   8.513276  -9.509311 -23.533171\n",
       "1 -17.331757 -10.289718  46.792754  -9.528426\n",
       "2 -26.969601  11.070977 -30.496337 -19.892742\n",
       "3 -16.306490 -29.731302 -17.679538   3.627965"
      ]
     },
     "execution_count": 30,
     "metadata": {},
     "output_type": "execute_result"
    }
   ],
   "source": [
    "pd.DataFrame(array)"
   ]
  },
  {
   "cell_type": "code",
   "execution_count": 71,
   "id": "188833f3-b5f4-4e57-8ee3-3fbc0d798a20",
   "metadata": {},
   "outputs": [
    {
     "data": {
      "text/html": [
       "<div>\n",
       "<style scoped>\n",
       "    .dataframe tbody tr th:only-of-type {\n",
       "        vertical-align: middle;\n",
       "    }\n",
       "\n",
       "    .dataframe tbody tr th {\n",
       "        vertical-align: top;\n",
       "    }\n",
       "\n",
       "    .dataframe thead th {\n",
       "        text-align: right;\n",
       "    }\n",
       "</style>\n",
       "<table border=\"1\" class=\"dataframe\">\n",
       "  <thead>\n",
       "    <tr style=\"text-align: right;\">\n",
       "      <th></th>\n",
       "      <th>W</th>\n",
       "      <th>X</th>\n",
       "      <th>Y</th>\n",
       "      <th>Z</th>\n",
       "    </tr>\n",
       "  </thead>\n",
       "  <tbody>\n",
       "    <tr>\n",
       "      <th>1</th>\n",
       "      <td>-41.736333</td>\n",
       "      <td>8.513276</td>\n",
       "      <td>-9.509311</td>\n",
       "      <td>-23.533171</td>\n",
       "    </tr>\n",
       "    <tr>\n",
       "      <th>2</th>\n",
       "      <td>-17.331757</td>\n",
       "      <td>-10.289718</td>\n",
       "      <td>46.792754</td>\n",
       "      <td>-9.528426</td>\n",
       "    </tr>\n",
       "    <tr>\n",
       "      <th>3</th>\n",
       "      <td>-26.969601</td>\n",
       "      <td>11.070977</td>\n",
       "      <td>-30.496337</td>\n",
       "      <td>-19.892742</td>\n",
       "    </tr>\n",
       "    <tr>\n",
       "      <th>4</th>\n",
       "      <td>-16.306490</td>\n",
       "      <td>-29.731302</td>\n",
       "      <td>-17.679538</td>\n",
       "      <td>3.627965</td>\n",
       "    </tr>\n",
       "  </tbody>\n",
       "</table>\n",
       "</div>"
      ],
      "text/plain": [
       "           W          X          Y          Z\n",
       "1 -41.736333   8.513276  -9.509311 -23.533171\n",
       "2 -17.331757 -10.289718  46.792754  -9.528426\n",
       "3 -26.969601  11.070977 -30.496337 -19.892742\n",
       "4 -16.306490 -29.731302 -17.679538   3.627965"
      ]
     },
     "execution_count": 71,
     "metadata": {},
     "output_type": "execute_result"
    }
   ],
   "source": [
    "df= pd.DataFrame(array,index=range(1,len(array)+1),  columns=[\"W\",\"X\",\"Y\",\"Z\"])\n",
    "df"
   ]
  },
  {
   "cell_type": "code",
   "execution_count": 37,
   "id": "a9d9dec5-9de9-4c15-8e83-a6efadc14108",
   "metadata": {},
   "outputs": [
    {
     "data": {
      "text/plain": [
       "1     8.513276\n",
       "2   -10.289718\n",
       "3    11.070977\n",
       "4   -29.731302\n",
       "Name: X, dtype: float64"
      ]
     },
     "execution_count": 37,
     "metadata": {},
     "output_type": "execute_result"
    }
   ],
   "source": [
    "df[\"X\"]"
   ]
  },
  {
   "cell_type": "code",
   "execution_count": 38,
   "id": "b1edd486-56e2-4ca2-a4b5-f80e8da71cb5",
   "metadata": {},
   "outputs": [
    {
     "data": {
      "text/plain": [
       "1     8.513276\n",
       "2   -10.289718\n",
       "3    11.070977\n",
       "4   -29.731302\n",
       "Name: X, dtype: float64"
      ]
     },
     "execution_count": 38,
     "metadata": {},
     "output_type": "execute_result"
    }
   ],
   "source": [
    "df.X"
   ]
  },
  {
   "cell_type": "code",
   "execution_count": 42,
   "id": "3155e5c0-74dd-43c7-8f7f-2f3366c6b7a0",
   "metadata": {},
   "outputs": [
    {
     "data": {
      "text/html": [
       "<div>\n",
       "<style scoped>\n",
       "    .dataframe tbody tr th:only-of-type {\n",
       "        vertical-align: middle;\n",
       "    }\n",
       "\n",
       "    .dataframe tbody tr th {\n",
       "        vertical-align: top;\n",
       "    }\n",
       "\n",
       "    .dataframe thead th {\n",
       "        text-align: right;\n",
       "    }\n",
       "</style>\n",
       "<table border=\"1\" class=\"dataframe\">\n",
       "  <thead>\n",
       "    <tr style=\"text-align: right;\">\n",
       "      <th></th>\n",
       "      <th>W</th>\n",
       "      <th>Y</th>\n",
       "    </tr>\n",
       "  </thead>\n",
       "  <tbody>\n",
       "    <tr>\n",
       "      <th>1</th>\n",
       "      <td>-41.736333</td>\n",
       "      <td>-9.509311</td>\n",
       "    </tr>\n",
       "    <tr>\n",
       "      <th>2</th>\n",
       "      <td>-17.331757</td>\n",
       "      <td>46.792754</td>\n",
       "    </tr>\n",
       "    <tr>\n",
       "      <th>3</th>\n",
       "      <td>-26.969601</td>\n",
       "      <td>-30.496337</td>\n",
       "    </tr>\n",
       "    <tr>\n",
       "      <th>4</th>\n",
       "      <td>-16.306490</td>\n",
       "      <td>-17.679538</td>\n",
       "    </tr>\n",
       "  </tbody>\n",
       "</table>\n",
       "</div>"
      ],
      "text/plain": [
       "           W          Y\n",
       "1 -41.736333  -9.509311\n",
       "2 -17.331757  46.792754\n",
       "3 -26.969601 -30.496337\n",
       "4 -16.306490 -17.679538"
      ]
     },
     "execution_count": 42,
     "metadata": {},
     "output_type": "execute_result"
    }
   ],
   "source": [
    "df[[\"W\",\"Y\"]] ##slicing mas columnas de interes "
   ]
  },
  {
   "cell_type": "code",
   "execution_count": 66,
   "id": "3277e988-ad1c-431d-9e6a-e56b1c3caaba",
   "metadata": {},
   "outputs": [
    {
     "data": {
      "text/html": [
       "<div>\n",
       "<style scoped>\n",
       "    .dataframe tbody tr th:only-of-type {\n",
       "        vertical-align: middle;\n",
       "    }\n",
       "\n",
       "    .dataframe tbody tr th {\n",
       "        vertical-align: top;\n",
       "    }\n",
       "\n",
       "    .dataframe thead th {\n",
       "        text-align: right;\n",
       "    }\n",
       "</style>\n",
       "<table border=\"1\" class=\"dataframe\">\n",
       "  <thead>\n",
       "    <tr style=\"text-align: right;\">\n",
       "      <th></th>\n",
       "      <th>W</th>\n",
       "      <th>Y</th>\n",
       "    </tr>\n",
       "  </thead>\n",
       "  <tbody>\n",
       "    <tr>\n",
       "      <th>1</th>\n",
       "      <td>-41.736333</td>\n",
       "      <td>-9.509311</td>\n",
       "    </tr>\n",
       "    <tr>\n",
       "      <th>2</th>\n",
       "      <td>-17.331757</td>\n",
       "      <td>46.792754</td>\n",
       "    </tr>\n",
       "    <tr>\n",
       "      <th>3</th>\n",
       "      <td>-26.969601</td>\n",
       "      <td>-30.496337</td>\n",
       "    </tr>\n",
       "    <tr>\n",
       "      <th>4</th>\n",
       "      <td>-16.306490</td>\n",
       "      <td>-17.679538</td>\n",
       "    </tr>\n",
       "  </tbody>\n",
       "</table>\n",
       "</div>"
      ],
      "text/plain": [
       "           W          Y\n",
       "1 -41.736333  -9.509311\n",
       "2 -17.331757  46.792754\n",
       "3 -26.969601 -30.496337\n",
       "4 -16.306490 -17.679538"
      ]
     },
     "execution_count": 66,
     "metadata": {},
     "output_type": "execute_result"
    }
   ],
   "source": [
    "## 1er corchete slicing de columnas\n",
    "columnas = [\"W\",\"Y\"]\n",
    "df[columnas]"
   ]
  },
  {
   "cell_type": "code",
   "execution_count": 83,
   "id": "8b31b8c0-f11a-46bc-94e6-44914699a0da",
   "metadata": {},
   "outputs": [
    {
     "data": {
      "text/html": [
       "<div>\n",
       "<style scoped>\n",
       "    .dataframe tbody tr th:only-of-type {\n",
       "        vertical-align: middle;\n",
       "    }\n",
       "\n",
       "    .dataframe tbody tr th {\n",
       "        vertical-align: top;\n",
       "    }\n",
       "\n",
       "    .dataframe thead th {\n",
       "        text-align: right;\n",
       "    }\n",
       "</style>\n",
       "<table border=\"1\" class=\"dataframe\">\n",
       "  <thead>\n",
       "    <tr style=\"text-align: right;\">\n",
       "      <th></th>\n",
       "      <th>W</th>\n",
       "      <th>X</th>\n",
       "      <th>Z</th>\n",
       "      <th>suma_X_Z</th>\n",
       "    </tr>\n",
       "  </thead>\n",
       "  <tbody>\n",
       "    <tr>\n",
       "      <th>1</th>\n",
       "      <td>-41.736333</td>\n",
       "      <td>8.513276</td>\n",
       "      <td>-23.533171</td>\n",
       "      <td>-15.019894</td>\n",
       "    </tr>\n",
       "    <tr>\n",
       "      <th>2</th>\n",
       "      <td>-17.331757</td>\n",
       "      <td>-10.289718</td>\n",
       "      <td>-9.528426</td>\n",
       "      <td>-19.818143</td>\n",
       "    </tr>\n",
       "    <tr>\n",
       "      <th>3</th>\n",
       "      <td>-26.969601</td>\n",
       "      <td>11.070977</td>\n",
       "      <td>-19.892742</td>\n",
       "      <td>-8.821765</td>\n",
       "    </tr>\n",
       "    <tr>\n",
       "      <th>4</th>\n",
       "      <td>-16.306490</td>\n",
       "      <td>-29.731302</td>\n",
       "      <td>3.627965</td>\n",
       "      <td>-26.103337</td>\n",
       "    </tr>\n",
       "  </tbody>\n",
       "</table>\n",
       "</div>"
      ],
      "text/plain": [
       "           W          X          Z   suma_X_Z\n",
       "1 -41.736333   8.513276 -23.533171 -15.019894\n",
       "2 -17.331757 -10.289718  -9.528426 -19.818143\n",
       "3 -26.969601  11.070977 -19.892742  -8.821765\n",
       "4 -16.306490 -29.731302   3.627965 -26.103337"
      ]
     },
     "execution_count": 83,
     "metadata": {},
     "output_type": "execute_result"
    }
   ],
   "source": [
    "df[\"suma_X_Z\"]= df.X + df.Z\n",
    "df"
   ]
  },
  {
   "cell_type": "code",
   "execution_count": 67,
   "id": "5dc46886-9be7-407f-8850-9f80a434ed36",
   "metadata": {},
   "outputs": [
    {
     "data": {
      "text/html": [
       "<div>\n",
       "<style scoped>\n",
       "    .dataframe tbody tr th:only-of-type {\n",
       "        vertical-align: middle;\n",
       "    }\n",
       "\n",
       "    .dataframe tbody tr th {\n",
       "        vertical-align: top;\n",
       "    }\n",
       "\n",
       "    .dataframe thead th {\n",
       "        text-align: right;\n",
       "    }\n",
       "</style>\n",
       "<table border=\"1\" class=\"dataframe\">\n",
       "  <thead>\n",
       "    <tr style=\"text-align: right;\">\n",
       "      <th></th>\n",
       "      <th>W</th>\n",
       "      <th>X</th>\n",
       "      <th>Z</th>\n",
       "      <th>suma_X_Z</th>\n",
       "    </tr>\n",
       "  </thead>\n",
       "  <tbody>\n",
       "    <tr>\n",
       "      <th>1</th>\n",
       "      <td>-41.736333</td>\n",
       "      <td>8.513276</td>\n",
       "      <td>-23.533171</td>\n",
       "      <td>-15.019894</td>\n",
       "    </tr>\n",
       "    <tr>\n",
       "      <th>2</th>\n",
       "      <td>-17.331757</td>\n",
       "      <td>-10.289718</td>\n",
       "      <td>-9.528426</td>\n",
       "      <td>-19.818143</td>\n",
       "    </tr>\n",
       "    <tr>\n",
       "      <th>3</th>\n",
       "      <td>-26.969601</td>\n",
       "      <td>11.070977</td>\n",
       "      <td>-19.892742</td>\n",
       "      <td>-8.821765</td>\n",
       "    </tr>\n",
       "    <tr>\n",
       "      <th>4</th>\n",
       "      <td>-16.306490</td>\n",
       "      <td>-29.731302</td>\n",
       "      <td>3.627965</td>\n",
       "      <td>-26.103337</td>\n",
       "    </tr>\n",
       "  </tbody>\n",
       "</table>\n",
       "</div>"
      ],
      "text/plain": [
       "           W          X          Z   suma_X_Z\n",
       "1 -41.736333   8.513276 -23.533171 -15.019894\n",
       "2 -17.331757 -10.289718  -9.528426 -19.818143\n",
       "3 -26.969601  11.070977 -19.892742  -8.821765\n",
       "4 -16.306490 -29.731302   3.627965 -26.103337"
      ]
     },
     "execution_count": 67,
     "metadata": {},
     "output_type": "execute_result"
    }
   ],
   "source": [
    "df.drop(\"Y\",axis=1) ##para borrar tengo que especificar que columna, y especificar el eje (x=1)"
   ]
  },
  {
   "cell_type": "code",
   "execution_count": 82,
   "id": "9aee5e87-c019-4065-9dc7-d90fb43acc6a",
   "metadata": {},
   "outputs": [
    {
     "data": {
      "text/html": [
       "<div>\n",
       "<style scoped>\n",
       "    .dataframe tbody tr th:only-of-type {\n",
       "        vertical-align: middle;\n",
       "    }\n",
       "\n",
       "    .dataframe tbody tr th {\n",
       "        vertical-align: top;\n",
       "    }\n",
       "\n",
       "    .dataframe thead th {\n",
       "        text-align: right;\n",
       "    }\n",
       "</style>\n",
       "<table border=\"1\" class=\"dataframe\">\n",
       "  <thead>\n",
       "    <tr style=\"text-align: right;\">\n",
       "      <th></th>\n",
       "      <th>W</th>\n",
       "      <th>X</th>\n",
       "      <th>Z</th>\n",
       "    </tr>\n",
       "  </thead>\n",
       "  <tbody>\n",
       "    <tr>\n",
       "      <th>1</th>\n",
       "      <td>-41.736333</td>\n",
       "      <td>8.513276</td>\n",
       "      <td>-23.533171</td>\n",
       "    </tr>\n",
       "    <tr>\n",
       "      <th>2</th>\n",
       "      <td>-17.331757</td>\n",
       "      <td>-10.289718</td>\n",
       "      <td>-9.528426</td>\n",
       "    </tr>\n",
       "    <tr>\n",
       "      <th>3</th>\n",
       "      <td>-26.969601</td>\n",
       "      <td>11.070977</td>\n",
       "      <td>-19.892742</td>\n",
       "    </tr>\n",
       "    <tr>\n",
       "      <th>4</th>\n",
       "      <td>-16.306490</td>\n",
       "      <td>-29.731302</td>\n",
       "      <td>3.627965</td>\n",
       "    </tr>\n",
       "  </tbody>\n",
       "</table>\n",
       "</div>"
      ],
      "text/plain": [
       "           W          X          Z\n",
       "1 -41.736333   8.513276 -23.533171\n",
       "2 -17.331757 -10.289718  -9.528426\n",
       "3 -26.969601  11.070977 -19.892742\n",
       "4 -16.306490 -29.731302   3.627965"
      ]
     },
     "execution_count": 82,
     "metadata": {},
     "output_type": "execute_result"
    }
   ],
   "source": [
    "df"
   ]
  },
  {
   "cell_type": "code",
   "execution_count": 72,
   "id": "9eb7513f-612b-464e-85e6-0a8842c87d71",
   "metadata": {},
   "outputs": [
    {
     "data": {
      "text/html": [
       "<div>\n",
       "<style scoped>\n",
       "    .dataframe tbody tr th:only-of-type {\n",
       "        vertical-align: middle;\n",
       "    }\n",
       "\n",
       "    .dataframe tbody tr th {\n",
       "        vertical-align: top;\n",
       "    }\n",
       "\n",
       "    .dataframe thead th {\n",
       "        text-align: right;\n",
       "    }\n",
       "</style>\n",
       "<table border=\"1\" class=\"dataframe\">\n",
       "  <thead>\n",
       "    <tr style=\"text-align: right;\">\n",
       "      <th></th>\n",
       "      <th>W</th>\n",
       "      <th>X</th>\n",
       "      <th>Z</th>\n",
       "    </tr>\n",
       "  </thead>\n",
       "  <tbody>\n",
       "    <tr>\n",
       "      <th>1</th>\n",
       "      <td>-41.736333</td>\n",
       "      <td>8.513276</td>\n",
       "      <td>-23.533171</td>\n",
       "    </tr>\n",
       "    <tr>\n",
       "      <th>2</th>\n",
       "      <td>-17.331757</td>\n",
       "      <td>-10.289718</td>\n",
       "      <td>-9.528426</td>\n",
       "    </tr>\n",
       "    <tr>\n",
       "      <th>3</th>\n",
       "      <td>-26.969601</td>\n",
       "      <td>11.070977</td>\n",
       "      <td>-19.892742</td>\n",
       "    </tr>\n",
       "    <tr>\n",
       "      <th>4</th>\n",
       "      <td>-16.306490</td>\n",
       "      <td>-29.731302</td>\n",
       "      <td>3.627965</td>\n",
       "    </tr>\n",
       "  </tbody>\n",
       "</table>\n",
       "</div>"
      ],
      "text/plain": [
       "           W          X          Z\n",
       "1 -41.736333   8.513276 -23.533171\n",
       "2 -17.331757 -10.289718  -9.528426\n",
       "3 -26.969601  11.070977 -19.892742\n",
       "4 -16.306490 -29.731302   3.627965"
      ]
     },
     "execution_count": 72,
     "metadata": {},
     "output_type": "execute_result"
    }
   ],
   "source": [
    "##si queremos que borrado sea permanente (inplace=true)\n",
    "df.drop(\"Y\",axis=1, inplace=True)\n",
    "df"
   ]
  },
  {
   "cell_type": "code",
   "execution_count": 73,
   "id": "3e5702a1-3b60-4d98-8e3c-0c7b3b911b17",
   "metadata": {},
   "outputs": [
    {
     "data": {
      "text/html": [
       "<div>\n",
       "<style scoped>\n",
       "    .dataframe tbody tr th:only-of-type {\n",
       "        vertical-align: middle;\n",
       "    }\n",
       "\n",
       "    .dataframe tbody tr th {\n",
       "        vertical-align: top;\n",
       "    }\n",
       "\n",
       "    .dataframe thead th {\n",
       "        text-align: right;\n",
       "    }\n",
       "</style>\n",
       "<table border=\"1\" class=\"dataframe\">\n",
       "  <thead>\n",
       "    <tr style=\"text-align: right;\">\n",
       "      <th></th>\n",
       "      <th>W</th>\n",
       "      <th>X</th>\n",
       "      <th>Z</th>\n",
       "    </tr>\n",
       "  </thead>\n",
       "  <tbody>\n",
       "    <tr>\n",
       "      <th>1</th>\n",
       "      <td>-41.736333</td>\n",
       "      <td>8.513276</td>\n",
       "      <td>-23.533171</td>\n",
       "    </tr>\n",
       "    <tr>\n",
       "      <th>2</th>\n",
       "      <td>-17.331757</td>\n",
       "      <td>-10.289718</td>\n",
       "      <td>-9.528426</td>\n",
       "    </tr>\n",
       "    <tr>\n",
       "      <th>4</th>\n",
       "      <td>-16.306490</td>\n",
       "      <td>-29.731302</td>\n",
       "      <td>3.627965</td>\n",
       "    </tr>\n",
       "  </tbody>\n",
       "</table>\n",
       "</div>"
      ],
      "text/plain": [
       "           W          X          Z\n",
       "1 -41.736333   8.513276 -23.533171\n",
       "2 -17.331757 -10.289718  -9.528426\n",
       "4 -16.306490 -29.731302   3.627965"
      ]
     },
     "execution_count": 73,
     "metadata": {},
     "output_type": "execute_result"
    }
   ],
   "source": [
    "df.drop(3,axis=0) ## quitamos filas (recuerda no permenentemente)"
   ]
  },
  {
   "cell_type": "code",
   "execution_count": 74,
   "id": "8f5d5396-e581-4d55-b647-d8ccab831bef",
   "metadata": {},
   "outputs": [
    {
     "data": {
      "text/html": [
       "<div>\n",
       "<style scoped>\n",
       "    .dataframe tbody tr th:only-of-type {\n",
       "        vertical-align: middle;\n",
       "    }\n",
       "\n",
       "    .dataframe tbody tr th {\n",
       "        vertical-align: top;\n",
       "    }\n",
       "\n",
       "    .dataframe thead th {\n",
       "        text-align: right;\n",
       "    }\n",
       "</style>\n",
       "<table border=\"1\" class=\"dataframe\">\n",
       "  <thead>\n",
       "    <tr style=\"text-align: right;\">\n",
       "      <th></th>\n",
       "      <th>W</th>\n",
       "      <th>X</th>\n",
       "      <th>Z</th>\n",
       "    </tr>\n",
       "  </thead>\n",
       "  <tbody>\n",
       "    <tr>\n",
       "      <th>1</th>\n",
       "      <td>-41.736333</td>\n",
       "      <td>8.513276</td>\n",
       "      <td>-23.533171</td>\n",
       "    </tr>\n",
       "    <tr>\n",
       "      <th>2</th>\n",
       "      <td>-17.331757</td>\n",
       "      <td>-10.289718</td>\n",
       "      <td>-9.528426</td>\n",
       "    </tr>\n",
       "    <tr>\n",
       "      <th>3</th>\n",
       "      <td>-26.969601</td>\n",
       "      <td>11.070977</td>\n",
       "      <td>-19.892742</td>\n",
       "    </tr>\n",
       "    <tr>\n",
       "      <th>4</th>\n",
       "      <td>-16.306490</td>\n",
       "      <td>-29.731302</td>\n",
       "      <td>3.627965</td>\n",
       "    </tr>\n",
       "  </tbody>\n",
       "</table>\n",
       "</div>"
      ],
      "text/plain": [
       "           W          X          Z\n",
       "1 -41.736333   8.513276 -23.533171\n",
       "2 -17.331757 -10.289718  -9.528426\n",
       "3 -26.969601  11.070977 -19.892742\n",
       "4 -16.306490 -29.731302   3.627965"
      ]
     },
     "execution_count": 74,
     "metadata": {},
     "output_type": "execute_result"
    }
   ],
   "source": [
    "df"
   ]
  },
  {
   "cell_type": "code",
   "execution_count": 75,
   "id": "86ded932-66e8-495f-a172-a2658d1bc4fa",
   "metadata": {},
   "outputs": [
    {
     "data": {
      "text/plain": [
       "W   -26.969601\n",
       "X    11.070977\n",
       "Z   -19.892742\n",
       "Name: 3, dtype: float64"
      ]
     },
     "execution_count": 75,
     "metadata": {},
     "output_type": "execute_result"
    }
   ],
   "source": [
    "## acceder a filas con .loc\n",
    "df.loc[3]"
   ]
  },
  {
   "cell_type": "code",
   "execution_count": 78,
   "id": "11fcb76a-7e1f-4d6a-b498-97d65d991d39",
   "metadata": {},
   "outputs": [
    {
     "data": {
      "text/plain": [
       "W   -41.736333\n",
       "X     8.513276\n",
       "Z   -23.533171\n",
       "Name: 1, dtype: float64"
      ]
     },
     "execution_count": 78,
     "metadata": {},
     "output_type": "execute_result"
    }
   ],
   "source": [
    "df.iloc[0] ## con el indice que no definimos "
   ]
  },
  {
   "cell_type": "code",
   "execution_count": 79,
   "id": "27251b12-7aed-4efc-9ab0-a89722e3db61",
   "metadata": {},
   "outputs": [
    {
     "data": {
      "text/html": [
       "<div>\n",
       "<style scoped>\n",
       "    .dataframe tbody tr th:only-of-type {\n",
       "        vertical-align: middle;\n",
       "    }\n",
       "\n",
       "    .dataframe tbody tr th {\n",
       "        vertical-align: top;\n",
       "    }\n",
       "\n",
       "    .dataframe thead th {\n",
       "        text-align: right;\n",
       "    }\n",
       "</style>\n",
       "<table border=\"1\" class=\"dataframe\">\n",
       "  <thead>\n",
       "    <tr style=\"text-align: right;\">\n",
       "      <th></th>\n",
       "      <th>W</th>\n",
       "      <th>X</th>\n",
       "      <th>Z</th>\n",
       "    </tr>\n",
       "  </thead>\n",
       "  <tbody>\n",
       "    <tr>\n",
       "      <th>1</th>\n",
       "      <td>-41.736333</td>\n",
       "      <td>8.513276</td>\n",
       "      <td>-23.533171</td>\n",
       "    </tr>\n",
       "    <tr>\n",
       "      <th>3</th>\n",
       "      <td>-26.969601</td>\n",
       "      <td>11.070977</td>\n",
       "      <td>-19.892742</td>\n",
       "    </tr>\n",
       "  </tbody>\n",
       "</table>\n",
       "</div>"
      ],
      "text/plain": [
       "           W          X          Z\n",
       "1 -41.736333   8.513276 -23.533171\n",
       "3 -26.969601  11.070977 -19.892742"
      ]
     },
     "execution_count": 79,
     "metadata": {},
     "output_type": "execute_result"
    }
   ],
   "source": [
    "df.iloc[[0,2]]"
   ]
  },
  {
   "cell_type": "code",
   "execution_count": 80,
   "id": "8cbc3def-a0cd-4aa5-b2e4-4a72f6ee67e6",
   "metadata": {},
   "outputs": [
    {
     "data": {
      "text/plain": [
       "np.float64(11.07097748981839)"
      ]
     },
     "execution_count": 80,
     "metadata": {},
     "output_type": "execute_result"
    }
   ],
   "source": [
    "## acceder a un valor especifico \n",
    "df.loc[3,\"X\"]"
   ]
  },
  {
   "cell_type": "code",
   "execution_count": 84,
   "id": "00d20406-bdbd-45a6-9f8a-feea561e8ac5",
   "metadata": {},
   "outputs": [
    {
     "data": {
      "text/html": [
       "<div>\n",
       "<style scoped>\n",
       "    .dataframe tbody tr th:only-of-type {\n",
       "        vertical-align: middle;\n",
       "    }\n",
       "\n",
       "    .dataframe tbody tr th {\n",
       "        vertical-align: top;\n",
       "    }\n",
       "\n",
       "    .dataframe thead th {\n",
       "        text-align: right;\n",
       "    }\n",
       "</style>\n",
       "<table border=\"1\" class=\"dataframe\">\n",
       "  <thead>\n",
       "    <tr style=\"text-align: right;\">\n",
       "      <th></th>\n",
       "      <th>X</th>\n",
       "      <th>suma_X_Z</th>\n",
       "    </tr>\n",
       "  </thead>\n",
       "  <tbody>\n",
       "    <tr>\n",
       "      <th>2</th>\n",
       "      <td>-10.289718</td>\n",
       "      <td>-19.818143</td>\n",
       "    </tr>\n",
       "    <tr>\n",
       "      <th>4</th>\n",
       "      <td>-29.731302</td>\n",
       "      <td>-26.103337</td>\n",
       "    </tr>\n",
       "  </tbody>\n",
       "</table>\n",
       "</div>"
      ],
      "text/plain": [
       "           X   suma_X_Z\n",
       "2 -10.289718 -19.818143\n",
       "4 -29.731302 -26.103337"
      ]
     },
     "execution_count": 84,
     "metadata": {},
     "output_type": "execute_result"
    }
   ],
   "source": [
    "df.loc[[2,4],[\"X\",\"suma_X_Z\"]]"
   ]
  }
 ],
 "metadata": {
  "kernelspec": {
   "display_name": "Python 3 (ipykernel)",
   "language": "python",
   "name": "python3"
  },
  "language_info": {
   "codemirror_mode": {
    "name": "ipython",
    "version": 3
   },
   "file_extension": ".py",
   "mimetype": "text/x-python",
   "name": "python",
   "nbconvert_exporter": "python",
   "pygments_lexer": "ipython3",
   "version": "3.10.4"
  }
 },
 "nbformat": 4,
 "nbformat_minor": 5
}
