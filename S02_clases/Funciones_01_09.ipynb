{
 "cells": [
  {
   "cell_type": "code",
   "execution_count": 19,
   "id": "0cc5c2f6-8a2b-488e-9b3f-901877c1d4be",
   "metadata": {},
   "outputs": [
    {
     "data": {
      "text/plain": [
       "2.0"
      ]
     },
     "execution_count": 19,
     "metadata": {},
     "output_type": "execute_result"
    }
   ],
   "source": [
    "def division_entre_dos_numeros(dividendo, divisor):\n",
    "    return dividendo / divisor\n",
    "\n",
    "division_entre_dos_numeros(8, 4)"
   ]
  },
  {
   "cell_type": "code",
   "execution_count": 20,
   "id": "e5dd30a9-f875-4340-97f4-191b92a196a0",
   "metadata": {},
   "outputs": [
    {
     "data": {
      "text/plain": [
       "2.0"
      ]
     },
     "execution_count": 20,
     "metadata": {},
     "output_type": "execute_result"
    }
   ],
   "source": [
    "division_entre_dos_numeros(divisor=4, dividendo=8)"
   ]
  },
  {
   "cell_type": "code",
   "execution_count": 21,
   "id": "6dd64ba7-ac7d-4a5c-83d6-4f28968a2a60",
   "metadata": {},
   "outputs": [
    {
     "data": {
      "text/plain": [
       "2.0"
      ]
     },
     "execution_count": 21,
     "metadata": {},
     "output_type": "execute_result"
    }
   ],
   "source": [
    "# llamada de función por nombre\n",
    "division_entre_dos_numeros(dividendo=8, divisor=4)"
   ]
  },
  {
   "cell_type": "code",
   "execution_count": 22,
   "id": "57852594-99cf-4865-b47a-35e7329ad2a1",
   "metadata": {},
   "outputs": [
    {
     "data": {
      "text/plain": [
       "12.0"
      ]
     },
     "execution_count": 22,
     "metadata": {},
     "output_type": "execute_result"
    }
   ],
   "source": [
    "def division_entre_dos_numeros(dividendo, divisor, extra = 0):\n",
    "    return dividendo / divisor + extra\n",
    "\n",
    "# llamada de función por posición\n",
    "division_entre_dos_numeros(8, 4, 10)"
   ]
  },
  {
   "cell_type": "markdown",
   "id": "7aa98e54-305c-4bcc-b76a-6ad730e6626f",
   "metadata": {},
   "source": [
    "# Funciones recursivas"
   ]
  },
  {
   "cell_type": "code",
   "execution_count": 29,
   "id": "4b622858-03f9-4e5f-817d-ec65c2a49d97",
   "metadata": {},
   "outputs": [
    {
     "name": "stdout",
     "output_type": "stream",
     "text": [
      "5\n",
      "4\n",
      "3\n",
      "2\n",
      "1\n",
      "booom!!!\n",
      "fin de la funcion 0\n",
      "fin de la funcion 1\n",
      "fin de la funcion 2\n",
      "fin de la funcion 3\n",
      "fin de la funcion 4\n",
      "fin de la funcion 5\n"
     ]
    }
   ],
   "source": [
    "def cuenta_atras(n):\n",
    "    if n > 0:\n",
    "        print(n)\n",
    "        cuenta_atras(n-1)\n",
    "    else:\n",
    "        print(\"booom!!!\")\n",
    "    print(\"fin de la funcion\", n)\n",
    "cuenta_atras(5)        "
   ]
  },
  {
   "cell_type": "markdown",
   "id": "3dc523f5-0398-4c62-9124-79673755bce4",
   "metadata": {},
   "source": [
    "# función print"
   ]
  },
  {
   "cell_type": "code",
   "execution_count": 30,
   "id": "9991f30c-2dc8-42e7-b70f-cabdfaf7d728",
   "metadata": {},
   "outputs": [
    {
     "name": "stdout",
     "output_type": "stream",
     "text": [
      "el valor de la variable es 46.2 8\n"
     ]
    }
   ],
   "source": [
    "variable, variable2 = 46.2, 8\n",
    "print(\"el valor de la variable es\", variable, variable2)"
   ]
  },
  {
   "cell_type": "code",
   "execution_count": 34,
   "id": "5d268f2a-6cd0-45c7-8d1a-b850457d4c14",
   "metadata": {},
   "outputs": [
    {
     "name": "stdout",
     "output_type": "stream",
     "text": [
      "el valor de la variable es 46.2, 8\n"
     ]
    }
   ],
   "source": [
    "# todo dentro de una misma cadena\n",
    "\n",
    "print(f\"el valor de la variable es {variable}, {variable2}\")\n",
    "# f es de formato"
   ]
  },
  {
   "cell_type": "code",
   "execution_count": 35,
   "id": "9bdbdf87-8f78-4527-92e1-4b39ba66e5ea",
   "metadata": {},
   "outputs": [
    {
     "name": "stdout",
     "output_type": "stream",
     "text": [
      "el valor de la variable es 46.2, 8\n"
     ]
    }
   ],
   "source": [
    "# haciendo más explícito el format\n",
    "\n",
    "print(\"el valor de la variable es {}, {}\".format(variable, variable2))"
   ]
  },
  {
   "cell_type": "code",
   "execution_count": 36,
   "id": "11209f32-205b-4059-b7ad-79bbc9eb4847",
   "metadata": {},
   "outputs": [
    {
     "name": "stdout",
     "output_type": "stream",
     "text": [
      "el valor de la variable es 8, 46.2\n"
     ]
    }
   ],
   "source": [
    "print(\"el valor de la variable es {1}, {0}\".format(variable, variable2))"
   ]
  },
  {
   "cell_type": "code",
   "execution_count": 37,
   "id": "0d8ae805-6df2-4099-a89f-da47d8efb7b5",
   "metadata": {},
   "outputs": [
    {
     "name": "stdout",
     "output_type": "stream",
     "text": [
      "el valor de la variable es 46.2, 8\n"
     ]
    }
   ],
   "source": [
    "print(\"el valor de la variable es {0}, {1}\".format(variable, variable2))"
   ]
  },
  {
   "cell_type": "code",
   "execution_count": 44,
   "id": "6fbca57e-e3d3-4cca-ae70-3af16f32a880",
   "metadata": {},
   "outputs": [],
   "source": [
    "import numpy"
   ]
  },
  {
   "cell_type": "code",
   "execution_count": null,
   "id": "b33f6b53-942b-4eb3-aa39-ec7ae8a6223f",
   "metadata": {},
   "outputs": [],
   "source": []
  },
  {
   "cell_type": "code",
   "execution_count": null,
   "id": "29623e95-95ec-4195-95ee-3918d163dc80",
   "metadata": {},
   "outputs": [],
   "source": []
  }
 ],
 "metadata": {
  "kernelspec": {
   "display_name": "Python 3 (ipykernel)",
   "language": "python",
   "name": "python3"
  },
  "language_info": {
   "codemirror_mode": {
    "name": "ipython",
    "version": 3
   },
   "file_extension": ".py",
   "mimetype": "text/x-python",
   "name": "python",
   "nbconvert_exporter": "python",
   "pygments_lexer": "ipython3",
   "version": "3.10.4"
  }
 },
 "nbformat": 4,
 "nbformat_minor": 5
}
