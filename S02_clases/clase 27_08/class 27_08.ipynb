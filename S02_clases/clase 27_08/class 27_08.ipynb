{
 "cells": [
  {
   "cell_type": "markdown",
   "id": "d0308c52-b8b0-4ee8-96cf-077da736c968",
   "metadata": {},
   "source": [
    "# funciones \n",
    "Son fragmentos de código que se pueden ejecutar múltiples veces. Pueden recibir y/o devolver información/ datos/ variables para comunicareswe con el código principal "
   ]
  },
  {
   "cell_type": "code",
   "execution_count": 5,
   "id": "61fab29c-ba75-4232-bb2e-207458303266",
   "metadata": {},
   "outputs": [
    {
     "name": "stdout",
     "output_type": "stream",
     "text": [
      "Hello world, Dennis Ritchie\n"
     ]
    }
   ],
   "source": [
    "def saludar():\n",
    "    print('Hello world, Dennis Ritchie')\n",
    "saludar()"
   ]
  },
  {
   "cell_type": "code",
   "execution_count": 9,
   "id": "6f034562-973f-4dda-941a-d9f0a6162684",
   "metadata": {},
   "outputs": [
    {
     "name": "stdout",
     "output_type": "stream",
     "text": [
      "Hello world, Dennis Ritchie\n",
      "Hello world, Dennis Ritchie\n",
      "Hello world, Dennis Ritchie\n"
     ]
    }
   ],
   "source": [
    "for _ in range(3):\n",
    "   saludar()"
   ]
  },
  {
   "cell_type": "code",
   "execution_count": 10,
   "id": "a362a473-0607-40e8-83d4-cda2bf84b918",
   "metadata": {},
   "outputs": [
    {
     "data": {
      "text/plain": [
       "7.0"
      ]
     },
     "execution_count": 10,
     "metadata": {},
     "output_type": "execute_result"
    }
   ],
   "source": [
    "lista = [3, 5, 7, 9, 11]\n",
    "sum(lista)/len(lista) #manera en la que se puede sacar el promedio "
   ]
  },
  {
   "cell_type": "code",
   "execution_count": 11,
   "id": "28fe2a8d-5d92-4bce-92d2-d8f57c58bfbb",
   "metadata": {},
   "outputs": [
    {
     "data": {
      "text/plain": [
       "5"
      ]
     },
     "execution_count": 11,
     "metadata": {},
     "output_type": "execute_result"
    }
   ],
   "source": [
    "list = 5\n",
    "list"
   ]
  },
  {
   "cell_type": "code",
   "execution_count": 21,
   "id": "a6f6ead4-b14f-4c0e-ae93-423fda19635d",
   "metadata": {},
   "outputs": [],
   "source": [
    "#numeros es un parámetro\n",
    "def promedio(numeros):\n",
    "    valor_promedio = sum(numeros)/len(numeros)\n",
    "    print(f'El promedio de los numeros es {valor_promedio}')\n",
    "    return valor_promedio \n",
    "    #return: regresa la función "
   ]
  },
  {
   "cell_type": "code",
   "execution_count": 24,
   "id": "ee842984-092c-43d7-8f46-0903917b3d9f",
   "metadata": {},
   "outputs": [
    {
     "name": "stdout",
     "output_type": "stream",
     "text": [
      "El promedio de los numeros es 7.0\n"
     ]
    }
   ],
   "source": [
    "valor_f = promedio(lista) #lo que esta dentro del () se llaman argumentos "
   ]
  },
  {
   "cell_type": "code",
   "execution_count": 25,
   "id": "ce7b54f8-f1eb-4e3b-b588-493cf658aeb0",
   "metadata": {},
   "outputs": [
    {
     "data": {
      "text/plain": [
       "7.0"
      ]
     },
     "execution_count": 25,
     "metadata": {},
     "output_type": "execute_result"
    }
   ],
   "source": [
    "valor_f"
   ]
  },
  {
   "cell_type": "code",
   "execution_count": 29,
   "id": "523d89e9-578e-4a77-b61c-32027271fadb",
   "metadata": {},
   "outputs": [],
   "source": [
    "def minimo(val_a, val_b):\n",
    "    val_minimo = min(val_a, val_b)\n",
    "    return val_minimo"
   ]
  },
  {
   "cell_type": "code",
   "execution_count": 30,
   "id": "157b851c-2d87-41ef-a7c9-452f760d3a3a",
   "metadata": {},
   "outputs": [
    {
     "data": {
      "text/plain": [
       "-50"
      ]
     },
     "execution_count": 30,
     "metadata": {},
     "output_type": "execute_result"
    }
   ],
   "source": [
    "minimo(-10, -50)"
   ]
  },
  {
   "cell_type": "markdown",
   "id": "6e4a3052-587f-421e-9914-df2625c4e4ee",
   "metadata": {},
   "source": [
    "# EJERCICIO"
   ]
  },
  {
   "cell_type": "code",
   "execution_count": null,
   "id": "8903841d-1cb4-44c4-bc95-2f45ce17b9b0",
   "metadata": {},
   "outputs": [],
   "source": [
    "Hacer una función para calcular el factural de un número"
   ]
  },
  {
   "cell_type": "code",
   "execution_count": 44,
   "id": "eac8d28d-2238-446d-bf53-17839b467c83",
   "metadata": {},
   "outputs": [
    {
     "data": {
      "text/plain": [
       "120"
      ]
     },
     "execution_count": 44,
     "metadata": {},
     "output_type": "execute_result"
    }
   ],
   "source": [
    "n = 5\n",
    "\n",
    "resultado = 1\n",
    "for val in range(1,n+1): #el primer 1 es el factorial \n",
    "    resultado *= val\n",
    "resultado"
   ]
  },
  {
   "cell_type": "code",
   "execution_count": 47,
   "id": "2781f10a-0ece-40a3-bf70-1cdfdbf3842f",
   "metadata": {},
   "outputs": [
    {
     "data": {
      "text/plain": [
       "1"
      ]
     },
     "execution_count": 47,
     "metadata": {},
     "output_type": "execute_result"
    }
   ],
   "source": [
    "def factorial(valor):\n",
    "    resultado = 1\n",
    "    for val in range(1, valor+1):\n",
    "        resultado *=val \n",
    "        return resultado \n",
    "        \n",
    "factorial (15)"
   ]
  }
 ],
 "metadata": {
  "kernelspec": {
   "display_name": "Python 3 (ipykernel)",
   "language": "python",
   "name": "python3"
  },
  "language_info": {
   "codemirror_mode": {
    "name": "ipython",
    "version": 3
   },
   "file_extension": ".py",
   "mimetype": "text/x-python",
   "name": "python",
   "nbconvert_exporter": "python",
   "pygments_lexer": "ipython3",
   "version": "3.11.1"
  }
 },
 "nbformat": 4,
 "nbformat_minor": 5
}
