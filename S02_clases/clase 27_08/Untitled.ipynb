{
 "cells": [
  {
   "cell_type": "markdown",
   "id": "d0308c52-b8b0-4ee8-96cf-077da736c968",
   "metadata": {},
   "source": [
    "# funciones \n",
    "Son fragmentos de código que se pueden ejecutar múltiples veces. Pueden recibir y/o devolver información/ datos/ variables para comunicareswe con el código principal "
   ]
  }
 ],
 "metadata": {
  "kernelspec": {
   "display_name": "Python 3 (ipykernel)",
   "language": "python",
   "name": "python3"
  },
  "language_info": {
   "codemirror_mode": {
    "name": "ipython",
    "version": 3
   },
   "file_extension": ".py",
   "mimetype": "text/x-python",
   "name": "python",
   "nbconvert_exporter": "python",
   "pygments_lexer": "ipython3",
   "version": "3.11.1"
  }
 },
 "nbformat": 4,
 "nbformat_minor": 5
}
