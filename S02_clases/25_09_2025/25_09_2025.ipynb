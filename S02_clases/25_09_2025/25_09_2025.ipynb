{
 "cells": [
  {
   "cell_type": "code",
   "execution_count": 39,
   "id": "c01f3d05-86db-427f-b347-2ccf61e85212",
   "metadata": {},
   "outputs": [],
   "source": [
    "import numpy as np\n",
    "import pandas as pd"
   ]
  },
  {
   "cell_type": "code",
   "execution_count": 1,
   "id": "2af2d2bb-0536-4a05-a452-9760b364651f",
   "metadata": {},
   "outputs": [
    {
     "data": {
      "text/plain": [
       "25"
      ]
     },
     "execution_count": 1,
     "metadata": {},
     "output_type": "execute_result"
    }
   ],
   "source": [
    "#funciuon lambda\n",
    "def funcion (x):\n",
    "    return x**2\n",
    "funcion(5)"
   ]
  },
  {
   "cell_type": "code",
   "execution_count": 6,
   "id": "25ce319d-a0a6-4a70-92f7-9d2a4ccd90fc",
   "metadata": {},
   "outputs": [
    {
     "data": {
      "text/plain": [
       "25"
      ]
     },
     "execution_count": 6,
     "metadata": {},
     "output_type": "execute_result"
    }
   ],
   "source": [
    "func_lambda = lambda x : x**2\n",
    "func_lambda(5)"
   ]
  },
  {
   "cell_type": "code",
   "execution_count": 9,
   "id": "1e559977-17fe-4772-b6ca-536364af8c68",
   "metadata": {},
   "outputs": [
    {
     "data": {
      "text/plain": [
       "'airam_eva'"
      ]
     },
     "execution_count": 9,
     "metadata": {},
     "output_type": "execute_result"
    }
   ],
   "source": [
    "def funcion_str(string):\n",
    "                return string[::-1]\n",
    "\n",
    "funcion_str('ave_maria')"
   ]
  },
  {
   "cell_type": "code",
   "execution_count": 10,
   "id": "25733610-00a5-4058-8f95-93cabe7713d7",
   "metadata": {},
   "outputs": [
    {
     "data": {
      "text/plain": [
       "'airam_eva'"
      ]
     },
     "execution_count": 10,
     "metadata": {},
     "output_type": "execute_result"
    }
   ],
   "source": [
    "func_str=lambda string: string[::-1]\n",
    "func_str('ave_maria')"
   ]
  },
  {
   "cell_type": "code",
   "execution_count": 15,
   "id": "737128bc-41eb-41a1-adfa-a7f0a0a384bc",
   "metadata": {},
   "outputs": [
    {
     "data": {
      "text/plain": [
       "13"
      ]
     },
     "execution_count": 15,
     "metadata": {},
     "output_type": "execute_result"
    }
   ],
   "source": [
    "def funcion(x,y):\n",
    "    return x + y\n",
    "funcion (5,8)"
   ]
  },
  {
   "cell_type": "code",
   "execution_count": 27,
   "id": "208e1ef3-d68b-4bf3-8d58-afaae601efb7",
   "metadata": {},
   "outputs": [
    {
     "data": {
      "text/plain": [
       "13"
      ]
     },
     "execution_count": 27,
     "metadata": {},
     "output_type": "execute_result"
    }
   ],
   "source": [
    "fun_lda=lambda x, y : x+y\n",
    "fun_lda(5,8)"
   ]
  },
  {
   "cell_type": "code",
   "execution_count": 21,
   "id": "235b0ca0-d5bd-489b-9ddc-466364ef9733",
   "metadata": {},
   "outputs": [
    {
     "data": {
      "text/plain": [
       "(3, -2)"
      ]
     },
     "execution_count": 21,
     "metadata": {},
     "output_type": "execute_result"
    }
   ],
   "source": [
    "def funcion (a,b, c):\n",
    "    return a+b, a-c\n",
    "funcion(1,2,3)"
   ]
  },
  {
   "cell_type": "code",
   "execution_count": 25,
   "id": "f264104f-f3b0-4a11-9fb0-46480a4bc973",
   "metadata": {},
   "outputs": [
    {
     "data": {
      "text/plain": [
       "(3, -2)"
      ]
     },
     "execution_count": 25,
     "metadata": {},
     "output_type": "execute_result"
    }
   ],
   "source": [
    "fun_lda= lambda a,b,c:(a+b,a-c)\n",
    "fun_lda(1,2,3)"
   ]
  },
  {
   "cell_type": "code",
   "execution_count": 29,
   "id": "201811a6-a449-4ce8-bf56-f0f64c2f2072",
   "metadata": {},
   "outputs": [],
   "source": [
    "lista= [(1,8), (7, 5),(12, -52), (2,0)]\n",
    "lista.sort(reverse=True)"
   ]
  },
  {
   "cell_type": "code",
   "execution_count": 30,
   "id": "0b84440f-523b-44d9-8ee6-82ab9a17730d",
   "metadata": {},
   "outputs": [
    {
     "data": {
      "text/plain": [
       "[(12, -52), (7, 5), (2, 0), (1, 8)]"
      ]
     },
     "execution_count": 30,
     "metadata": {},
     "output_type": "execute_result"
    }
   ],
   "source": [
    "lista "
   ]
  },
  {
   "cell_type": "code",
   "execution_count": 31,
   "id": "db70c9b9-a957-4ca6-8d2e-776f9242a375",
   "metadata": {},
   "outputs": [],
   "source": [
    "def funcion(x):\n",
    "    return x[0]\n",
    "lista = lista = [(1,8),(7,5), (12, -52),(2,0)]\n",
    "lista.sort(key=funcion, reverse=True)"
   ]
  },
  {
   "cell_type": "code",
   "execution_count": 32,
   "id": "07034ea9-6c9d-499e-96d9-5f83b1103f5b",
   "metadata": {},
   "outputs": [
    {
     "data": {
      "text/plain": [
       "[(12, -52), (7, 5), (2, 0), (1, 8)]"
      ]
     },
     "execution_count": 32,
     "metadata": {},
     "output_type": "execute_result"
    }
   ],
   "source": [
    "lista"
   ]
  },
  {
   "cell_type": "code",
   "execution_count": 33,
   "id": "bbbf0042-98d8-4c36-bca8-030751984cf5",
   "metadata": {},
   "outputs": [],
   "source": [
    "def funcion(x):\n",
    "    return x[1]\n",
    "lista = lista = [(1,8),(7,5), (12, -52),(2,0)]\n",
    "lista.sort(key=funcion, reverse=True)"
   ]
  },
  {
   "cell_type": "code",
   "execution_count": 34,
   "id": "0b4239ce-da08-442c-9fd4-4bfbdf25f2b8",
   "metadata": {},
   "outputs": [
    {
     "data": {
      "text/plain": [
       "[(1, 8), (7, 5), (2, 0), (12, -52)]"
      ]
     },
     "execution_count": 34,
     "metadata": {},
     "output_type": "execute_result"
    }
   ],
   "source": [
    "lista"
   ]
  },
  {
   "cell_type": "code",
   "execution_count": 37,
   "id": "dc6a2fa7-19e9-47a6-a09b-96c1f456652d",
   "metadata": {},
   "outputs": [
    {
     "data": {
      "text/plain": [
       "[(1, 8), (7, 5), (2, 0), (12, -52)]"
      ]
     },
     "execution_count": 37,
     "metadata": {},
     "output_type": "execute_result"
    }
   ],
   "source": [
    "lista.sort(key=lambda x: x[1], reverse=True)\n",
    "lista"
   ]
  },
  {
   "cell_type": "code",
   "execution_count": 43,
   "id": "9081338f-7106-4466-adc8-6188b4f3f71a",
   "metadata": {},
   "outputs": [
    {
     "data": {
      "text/html": [
       "<div>\n",
       "<style scoped>\n",
       "    .dataframe tbody tr th:only-of-type {\n",
       "        vertical-align: middle;\n",
       "    }\n",
       "\n",
       "    .dataframe tbody tr th {\n",
       "        vertical-align: top;\n",
       "    }\n",
       "\n",
       "    .dataframe thead th {\n",
       "        text-align: right;\n",
       "    }\n",
       "</style>\n",
       "<table border=\"1\" class=\"dataframe\">\n",
       "  <thead>\n",
       "    <tr style=\"text-align: right;\">\n",
       "      <th></th>\n",
       "      <th>sujeto</th>\n",
       "      <th>genero</th>\n",
       "      <th>condicion</th>\n",
       "      <th>region</th>\n",
       "      <th>neurotransmisores</th>\n",
       "    </tr>\n",
       "  </thead>\n",
       "  <tbody>\n",
       "    <tr>\n",
       "      <th>0</th>\n",
       "      <td>S01</td>\n",
       "      <td>M</td>\n",
       "      <td>experimental</td>\n",
       "      <td>hipocampo</td>\n",
       "      <td>serotonina</td>\n",
       "    </tr>\n",
       "    <tr>\n",
       "      <th>1</th>\n",
       "      <td>S00</td>\n",
       "      <td>F</td>\n",
       "      <td>control</td>\n",
       "      <td>cortex prefrontal</td>\n",
       "      <td>serotonina</td>\n",
       "    </tr>\n",
       "    <tr>\n",
       "      <th>2</th>\n",
       "      <td>S03</td>\n",
       "      <td>M</td>\n",
       "      <td>control</td>\n",
       "      <td>hipocampo</td>\n",
       "      <td>serotonina</td>\n",
       "    </tr>\n",
       "    <tr>\n",
       "      <th>3</th>\n",
       "      <td>S02</td>\n",
       "      <td>M</td>\n",
       "      <td>control</td>\n",
       "      <td>amigdala</td>\n",
       "      <td>dopamina</td>\n",
       "    </tr>\n",
       "    <tr>\n",
       "      <th>4</th>\n",
       "      <td>S01</td>\n",
       "      <td>M</td>\n",
       "      <td>control</td>\n",
       "      <td>amigdala</td>\n",
       "      <td>dopamina</td>\n",
       "    </tr>\n",
       "    <tr>\n",
       "      <th>...</th>\n",
       "      <td>...</td>\n",
       "      <td>...</td>\n",
       "      <td>...</td>\n",
       "      <td>...</td>\n",
       "      <td>...</td>\n",
       "    </tr>\n",
       "    <tr>\n",
       "      <th>195</th>\n",
       "      <td>S01</td>\n",
       "      <td>F</td>\n",
       "      <td>experimental</td>\n",
       "      <td>amigdala</td>\n",
       "      <td>dopamina</td>\n",
       "    </tr>\n",
       "    <tr>\n",
       "      <th>196</th>\n",
       "      <td>S03</td>\n",
       "      <td>M</td>\n",
       "      <td>experimental</td>\n",
       "      <td>cortex prefrontal</td>\n",
       "      <td>serotonina</td>\n",
       "    </tr>\n",
       "    <tr>\n",
       "      <th>197</th>\n",
       "      <td>S02</td>\n",
       "      <td>M</td>\n",
       "      <td>control</td>\n",
       "      <td>cortex prefrontal</td>\n",
       "      <td>dopamina</td>\n",
       "    </tr>\n",
       "    <tr>\n",
       "      <th>198</th>\n",
       "      <td>S01</td>\n",
       "      <td>F</td>\n",
       "      <td>experimental</td>\n",
       "      <td>hipocampo</td>\n",
       "      <td>serotonina</td>\n",
       "    </tr>\n",
       "    <tr>\n",
       "      <th>199</th>\n",
       "      <td>S00</td>\n",
       "      <td>M</td>\n",
       "      <td>experimental</td>\n",
       "      <td>cortex prefrontal</td>\n",
       "      <td>serotonina</td>\n",
       "    </tr>\n",
       "  </tbody>\n",
       "</table>\n",
       "<p>200 rows × 5 columns</p>\n",
       "</div>"
      ],
      "text/plain": [
       "    sujeto genero     condicion             region neurotransmisores\n",
       "0      S01      M  experimental          hipocampo        serotonina\n",
       "1      S00      F       control  cortex prefrontal        serotonina\n",
       "2      S03      M       control          hipocampo        serotonina\n",
       "3      S02      M       control           amigdala          dopamina\n",
       "4      S01      M       control           amigdala          dopamina\n",
       "..     ...    ...           ...                ...               ...\n",
       "195    S01      F  experimental           amigdala          dopamina\n",
       "196    S03      M  experimental  cortex prefrontal        serotonina\n",
       "197    S02      M       control  cortex prefrontal          dopamina\n",
       "198    S01      F  experimental          hipocampo        serotonina\n",
       "199    S00      M  experimental  cortex prefrontal        serotonina\n",
       "\n",
       "[200 rows x 5 columns]"
      ]
     },
     "execution_count": 43,
     "metadata": {},
     "output_type": "execute_result"
    }
   ],
   "source": [
    "import numpy as np\n",
    "import pandas as pd\n",
    "\n",
    "tipos_sujetos = ['S'+str(i).zfill(2) for i in range(4)]\n",
    "generos = ['M', 'F']\n",
    "condicion = ['control', 'experimental']\n",
    "region = ['hipocampo', 'cortex prefrontal', 'amigdala']\n",
    "neurotransmisor = ['dopamina', 'serotonina']\n",
    "\n",
    "longitud = 200\n",
    "variables = [tipos_sujetos, generos, condicion, region, neurotransmisor]\n",
    "\n",
    "data = []\n",
    "for variable in variables:\n",
    "    opciones = np.random.randint(len(variable), size=longitud)\n",
    "    data.append([variable[i] for i in opciones])\n",
    "    \n",
    "df = pd.DataFrame(data).transpose()\n",
    "df.columns = ['sujeto', 'genero', 'condicion', 'region', 'neurotransmisores']\n",
    "\n",
    "df"
   ]
  },
  {
   "cell_type": "code",
   "execution_count": 44,
   "id": "93415024-47e8-4f28-ba81-5ea4aa96468e",
   "metadata": {},
   "outputs": [
    {
     "data": {
      "text/html": [
       "<div>\n",
       "<style scoped>\n",
       "    .dataframe tbody tr th:only-of-type {\n",
       "        vertical-align: middle;\n",
       "    }\n",
       "\n",
       "    .dataframe tbody tr th {\n",
       "        vertical-align: top;\n",
       "    }\n",
       "\n",
       "    .dataframe thead th {\n",
       "        text-align: right;\n",
       "    }\n",
       "</style>\n",
       "<table border=\"1\" class=\"dataframe\">\n",
       "  <thead>\n",
       "    <tr style=\"text-align: right;\">\n",
       "      <th></th>\n",
       "      <th>sujeto</th>\n",
       "      <th>genero</th>\n",
       "      <th>condicion</th>\n",
       "      <th>region</th>\n",
       "      <th>neurotransmisores</th>\n",
       "    </tr>\n",
       "  </thead>\n",
       "  <tbody>\n",
       "    <tr>\n",
       "      <th>0</th>\n",
       "      <td>S01</td>\n",
       "      <td>M</td>\n",
       "      <td>experimental</td>\n",
       "      <td>hipocampo</td>\n",
       "      <td>serotonina</td>\n",
       "    </tr>\n",
       "    <tr>\n",
       "      <th>1</th>\n",
       "      <td>S00</td>\n",
       "      <td>F</td>\n",
       "      <td>control</td>\n",
       "      <td>cortex prefrontal</td>\n",
       "      <td>serotonina</td>\n",
       "    </tr>\n",
       "    <tr>\n",
       "      <th>2</th>\n",
       "      <td>S03</td>\n",
       "      <td>M</td>\n",
       "      <td>control</td>\n",
       "      <td>hipocampo</td>\n",
       "      <td>serotonina</td>\n",
       "    </tr>\n",
       "    <tr>\n",
       "      <th>3</th>\n",
       "      <td>S02</td>\n",
       "      <td>M</td>\n",
       "      <td>control</td>\n",
       "      <td>amigdala</td>\n",
       "      <td>dopamina</td>\n",
       "    </tr>\n",
       "    <tr>\n",
       "      <th>4</th>\n",
       "      <td>S01</td>\n",
       "      <td>M</td>\n",
       "      <td>control</td>\n",
       "      <td>amigdala</td>\n",
       "      <td>dopamina</td>\n",
       "    </tr>\n",
       "  </tbody>\n",
       "</table>\n",
       "</div>"
      ],
      "text/plain": [
       "  sujeto genero     condicion             region neurotransmisores\n",
       "0    S01      M  experimental          hipocampo        serotonina\n",
       "1    S00      F       control  cortex prefrontal        serotonina\n",
       "2    S03      M       control          hipocampo        serotonina\n",
       "3    S02      M       control           amigdala          dopamina\n",
       "4    S01      M       control           amigdala          dopamina"
      ]
     },
     "execution_count": 44,
     "metadata": {},
     "output_type": "execute_result"
    }
   ],
   "source": [
    "df.head()"
   ]
  },
  {
   "cell_type": "code",
   "execution_count": 48,
   "id": "40e1cdc8-c56d-45dc-b47a-cc264383a6b8",
   "metadata": {},
   "outputs": [
    {
     "data": {
      "text/plain": [
       "0              HIPOCAMPO\n",
       "1      CORTEX PREFRONTAL\n",
       "2              HIPOCAMPO\n",
       "3               AMIGDALA\n",
       "4               AMIGDALA\n",
       "             ...        \n",
       "195             AMIGDALA\n",
       "196    CORTEX PREFRONTAL\n",
       "197    CORTEX PREFRONTAL\n",
       "198            HIPOCAMPO\n",
       "199    CORTEX PREFRONTAL\n",
       "Name: region, Length: 200, dtype: object"
      ]
     },
     "execution_count": 48,
     "metadata": {},
     "output_type": "execute_result"
    }
   ],
   "source": [
    "def funcion(string):\n",
    "    return string.upper()\n",
    "df['region'].apply(funcion)"
   ]
  },
  {
   "cell_type": "code",
   "execution_count": 49,
   "id": "076a35b9-d787-4fa6-80fc-9eba5e0f7151",
   "metadata": {},
   "outputs": [
    {
     "data": {
      "text/plain": [
       "0              HIPOCAMPO\n",
       "1      CORTEX PREFRONTAL\n",
       "2              HIPOCAMPO\n",
       "3               AMIGDALA\n",
       "4               AMIGDALA\n",
       "             ...        \n",
       "195             AMIGDALA\n",
       "196    CORTEX PREFRONTAL\n",
       "197    CORTEX PREFRONTAL\n",
       "198            HIPOCAMPO\n",
       "199    CORTEX PREFRONTAL\n",
       "Name: region, Length: 200, dtype: object"
      ]
     },
     "execution_count": 49,
     "metadata": {},
     "output_type": "execute_result"
    }
   ],
   "source": [
    "def funcion(string):\n",
    "    return string.upper()\n",
    "df['region'].apply(lambda string: string.upper())"
   ]
  },
  {
   "cell_type": "code",
   "execution_count": 54,
   "id": "7663d3b0-8827-4403-adc9-421ea4af9500",
   "metadata": {},
   "outputs": [
    {
     "data": {
      "text/html": [
       "<div>\n",
       "<style scoped>\n",
       "    .dataframe tbody tr th:only-of-type {\n",
       "        vertical-align: middle;\n",
       "    }\n",
       "\n",
       "    .dataframe tbody tr th {\n",
       "        vertical-align: top;\n",
       "    }\n",
       "\n",
       "    .dataframe thead th {\n",
       "        text-align: right;\n",
       "    }\n",
       "</style>\n",
       "<table border=\"1\" class=\"dataframe\">\n",
       "  <thead>\n",
       "    <tr style=\"text-align: right;\">\n",
       "      <th></th>\n",
       "      <th>region</th>\n",
       "      <th>condicion</th>\n",
       "      <th>neurotransmisores</th>\n",
       "    </tr>\n",
       "  </thead>\n",
       "  <tbody>\n",
       "    <tr>\n",
       "      <th>0</th>\n",
       "      <td>HIPOCAMPO</td>\n",
       "      <td>EXPERIMENTAL</td>\n",
       "      <td>SEROTONINA</td>\n",
       "    </tr>\n",
       "    <tr>\n",
       "      <th>1</th>\n",
       "      <td>CORTEX PREFRONTAL</td>\n",
       "      <td>CONTROL</td>\n",
       "      <td>SEROTONINA</td>\n",
       "    </tr>\n",
       "    <tr>\n",
       "      <th>2</th>\n",
       "      <td>HIPOCAMPO</td>\n",
       "      <td>CONTROL</td>\n",
       "      <td>SEROTONINA</td>\n",
       "    </tr>\n",
       "    <tr>\n",
       "      <th>3</th>\n",
       "      <td>AMIGDALA</td>\n",
       "      <td>CONTROL</td>\n",
       "      <td>DOPAMINA</td>\n",
       "    </tr>\n",
       "    <tr>\n",
       "      <th>4</th>\n",
       "      <td>AMIGDALA</td>\n",
       "      <td>CONTROL</td>\n",
       "      <td>DOPAMINA</td>\n",
       "    </tr>\n",
       "    <tr>\n",
       "      <th>...</th>\n",
       "      <td>...</td>\n",
       "      <td>...</td>\n",
       "      <td>...</td>\n",
       "    </tr>\n",
       "    <tr>\n",
       "      <th>195</th>\n",
       "      <td>AMIGDALA</td>\n",
       "      <td>EXPERIMENTAL</td>\n",
       "      <td>DOPAMINA</td>\n",
       "    </tr>\n",
       "    <tr>\n",
       "      <th>196</th>\n",
       "      <td>CORTEX PREFRONTAL</td>\n",
       "      <td>EXPERIMENTAL</td>\n",
       "      <td>SEROTONINA</td>\n",
       "    </tr>\n",
       "    <tr>\n",
       "      <th>197</th>\n",
       "      <td>CORTEX PREFRONTAL</td>\n",
       "      <td>CONTROL</td>\n",
       "      <td>DOPAMINA</td>\n",
       "    </tr>\n",
       "    <tr>\n",
       "      <th>198</th>\n",
       "      <td>HIPOCAMPO</td>\n",
       "      <td>EXPERIMENTAL</td>\n",
       "      <td>SEROTONINA</td>\n",
       "    </tr>\n",
       "    <tr>\n",
       "      <th>199</th>\n",
       "      <td>CORTEX PREFRONTAL</td>\n",
       "      <td>EXPERIMENTAL</td>\n",
       "      <td>SEROTONINA</td>\n",
       "    </tr>\n",
       "  </tbody>\n",
       "</table>\n",
       "<p>200 rows × 3 columns</p>\n",
       "</div>"
      ],
      "text/plain": [
       "                region     condicion neurotransmisores\n",
       "0            HIPOCAMPO  EXPERIMENTAL        SEROTONINA\n",
       "1    CORTEX PREFRONTAL       CONTROL        SEROTONINA\n",
       "2            HIPOCAMPO       CONTROL        SEROTONINA\n",
       "3             AMIGDALA       CONTROL          DOPAMINA\n",
       "4             AMIGDALA       CONTROL          DOPAMINA\n",
       "..                 ...           ...               ...\n",
       "195           AMIGDALA  EXPERIMENTAL          DOPAMINA\n",
       "196  CORTEX PREFRONTAL  EXPERIMENTAL        SEROTONINA\n",
       "197  CORTEX PREFRONTAL       CONTROL          DOPAMINA\n",
       "198          HIPOCAMPO  EXPERIMENTAL        SEROTONINA\n",
       "199  CORTEX PREFRONTAL  EXPERIMENTAL        SEROTONINA\n",
       "\n",
       "[200 rows x 3 columns]"
      ]
     },
     "execution_count": 54,
     "metadata": {},
     "output_type": "execute_result"
    }
   ],
   "source": [
    "df[ ['region','condicion','neurotransmisores'] ].apply(lambda serie :[string.upper() for string in serie])"
   ]
  }
 ],
 "metadata": {
  "kernelspec": {
   "display_name": "Python 3 (ipykernel)",
   "language": "python",
   "name": "python3"
  },
  "language_info": {
   "codemirror_mode": {
    "name": "ipython",
    "version": 3
   },
   "file_extension": ".py",
   "mimetype": "text/x-python",
   "name": "python",
   "nbconvert_exporter": "python",
   "pygments_lexer": "ipython3",
   "version": "3.13.5"
  }
 },
 "nbformat": 4,
 "nbformat_minor": 5
}
