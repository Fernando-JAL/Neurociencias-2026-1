{
 "cells": [
  {
   "cell_type": "code",
   "execution_count": 37,
   "id": "8305dc6d-d986-4a68-9839-3b0ca169bbfe",
   "metadata": {},
   "outputs": [],
   "source": [
    "import numpy as np\n",
    "import pandas as pd"
   ]
  },
  {
   "cell_type": "code",
   "execution_count": 2,
   "id": "864e6e98-7b64-4b55-b44a-1b8cbdf373df",
   "metadata": {},
   "outputs": [
    {
     "data": {
      "text/plain": [
       "25"
      ]
     },
     "execution_count": 2,
     "metadata": {},
     "output_type": "execute_result"
    }
   ],
   "source": [
    "# funciones lambda\n",
    "\n",
    "def funcion(x):\n",
    "    return x**2\n",
    "\n",
    "funcion(5)"
   ]
  },
  {
   "cell_type": "code",
   "execution_count": 4,
   "id": "71eaa6d4-54ca-4548-a38b-2fcced2c9a4b",
   "metadata": {},
   "outputs": [
    {
     "data": {
      "text/plain": [
       "25"
      ]
     },
     "execution_count": 4,
     "metadata": {},
     "output_type": "execute_result"
    }
   ],
   "source": [
    "func_lambda= lambda x : x**2\n",
    "func_lambda(5)"
   ]
  },
  {
   "cell_type": "code",
   "execution_count": 10,
   "id": "c7f4dc05-b47c-4151-900a-d2203f8f0a62",
   "metadata": {},
   "outputs": [
    {
     "data": {
      "text/plain": [
       "'airam_eva'"
      ]
     },
     "execution_count": 10,
     "metadata": {},
     "output_type": "execute_result"
    }
   ],
   "source": [
    "def funcion_str(string):\n",
    "               return string[::-1]\n",
    "\n",
    "funcion_str('ave_maria')"
   ]
  },
  {
   "cell_type": "code",
   "execution_count": 11,
   "id": "1e4c65b7-592f-4dc3-b3f0-39596c965ec6",
   "metadata": {},
   "outputs": [
    {
     "data": {
      "text/plain": [
       "'airam_eva'"
      ]
     },
     "execution_count": 11,
     "metadata": {},
     "output_type": "execute_result"
    }
   ],
   "source": [
    "func_str =lambda string : string[::-1]\n",
    "func_str('ave_maria')"
   ]
  },
  {
   "cell_type": "code",
   "execution_count": 12,
   "id": "149643d9-b42f-422d-a238-b23045b1ca8d",
   "metadata": {},
   "outputs": [
    {
     "data": {
      "text/plain": [
       "13"
      ]
     },
     "execution_count": 12,
     "metadata": {},
     "output_type": "execute_result"
    }
   ],
   "source": [
    "def funcion (x, y):\n",
    "    return x+y\n",
    "funcion(5,8)"
   ]
  },
  {
   "cell_type": "code",
   "execution_count": 18,
   "id": "96b0d870-5582-42ea-840c-09ff2d1bdb72",
   "metadata": {},
   "outputs": [
    {
     "data": {
      "text/plain": [
       "13"
      ]
     },
     "execution_count": 18,
     "metadata": {},
     "output_type": "execute_result"
    }
   ],
   "source": [
    "fun_lda = lambda x, y : x+y\n",
    "fun_lda(5,8)"
   ]
  },
  {
   "cell_type": "code",
   "execution_count": 19,
   "id": "ee50231f-4df2-457b-b4b8-d904e89aca38",
   "metadata": {},
   "outputs": [
    {
     "data": {
      "text/plain": [
       "(3, -2)"
      ]
     },
     "execution_count": 19,
     "metadata": {},
     "output_type": "execute_result"
    }
   ],
   "source": [
    "def funcion(a,b, c):\n",
    "    return a+b, a-c\n",
    "\n",
    "funcion(1, 2, 3)"
   ]
  },
  {
   "cell_type": "code",
   "execution_count": 20,
   "id": "5bb747b5-79ee-4945-ad5f-2105dc60ba4a",
   "metadata": {},
   "outputs": [
    {
     "data": {
      "text/plain": [
       "(3, -2)"
      ]
     },
     "execution_count": 20,
     "metadata": {},
     "output_type": "execute_result"
    }
   ],
   "source": [
    "fun_lda= lambda a, b, c: (a+b, a-c)\n",
    "fun_lda(1, 2, 3)"
   ]
  },
  {
   "cell_type": "code",
   "execution_count": 21,
   "id": "1330763e-24bc-43ca-bc8d-d2afb4fab759",
   "metadata": {},
   "outputs": [],
   "source": [
    "lista = [(1,8), (7,5), (12, -52), (2,0)]\n",
    "lista.sort(reverse=True)"
   ]
  },
  {
   "cell_type": "code",
   "execution_count": 22,
   "id": "4331a3ab-3fa8-4af9-a8dc-b77364ba52fd",
   "metadata": {},
   "outputs": [
    {
     "data": {
      "text/plain": [
       "[(12, -52), (7, 5), (2, 0), (1, 8)]"
      ]
     },
     "execution_count": 22,
     "metadata": {},
     "output_type": "execute_result"
    }
   ],
   "source": [
    "lista"
   ]
  },
  {
   "cell_type": "code",
   "execution_count": 23,
   "id": "48aee9c9-7000-4652-bb2f-5f335979740f",
   "metadata": {},
   "outputs": [],
   "source": [
    "lista.sort(reverse=False)"
   ]
  },
  {
   "cell_type": "code",
   "execution_count": 25,
   "id": "d6d4d860-c267-4961-b569-6060e568af1b",
   "metadata": {},
   "outputs": [
    {
     "data": {
      "text/plain": [
       "[(1, 8), (2, 0), (7, 5), (12, -52)]"
      ]
     },
     "execution_count": 25,
     "metadata": {},
     "output_type": "execute_result"
    }
   ],
   "source": [
    "lista"
   ]
  },
  {
   "cell_type": "code",
   "execution_count": 29,
   "id": "bdded2eb-8c19-4565-ba4d-dcebbf4fa700",
   "metadata": {},
   "outputs": [],
   "source": [
    "def funcion(x):\n",
    "    return x[1]\n",
    "lista = [(1,8), (7,5), (12, -52), (2,0)]\n",
    "lista.sort(key=funcion, reverse=True)"
   ]
  },
  {
   "cell_type": "code",
   "execution_count": 30,
   "id": "e2b9d978-05b3-4dcd-a7b9-78aea3519349",
   "metadata": {},
   "outputs": [
    {
     "data": {
      "text/plain": [
       "[(1, 8), (7, 5), (2, 0), (12, -52)]"
      ]
     },
     "execution_count": 30,
     "metadata": {},
     "output_type": "execute_result"
    }
   ],
   "source": [
    "lista"
   ]
  },
  {
   "cell_type": "code",
   "execution_count": 31,
   "id": "491f3ce3-5fb7-4ead-998c-9892ab89dd0f",
   "metadata": {},
   "outputs": [
    {
     "data": {
      "text/plain": [
       "[(1, 8), (7, 5), (2, 0), (12, -52)]"
      ]
     },
     "execution_count": 31,
     "metadata": {},
     "output_type": "execute_result"
    }
   ],
   "source": [
    "lista.sort(key=lambda x: x[1], reverse=True)\n",
    "lista"
   ]
  },
  {
   "cell_type": "code",
   "execution_count": 38,
   "id": "47c70db6-1dd8-4722-844c-99fd8249153b",
   "metadata": {},
   "outputs": [
    {
     "data": {
      "text/html": [
       "<div>\n",
       "<style scoped>\n",
       "    .dataframe tbody tr th:only-of-type {\n",
       "        vertical-align: middle;\n",
       "    }\n",
       "\n",
       "    .dataframe tbody tr th {\n",
       "        vertical-align: top;\n",
       "    }\n",
       "\n",
       "    .dataframe thead th {\n",
       "        text-align: right;\n",
       "    }\n",
       "</style>\n",
       "<table border=\"1\" class=\"dataframe\">\n",
       "  <thead>\n",
       "    <tr style=\"text-align: right;\">\n",
       "      <th></th>\n",
       "      <th>sujeto</th>\n",
       "      <th>genero</th>\n",
       "      <th>condicion</th>\n",
       "      <th>region</th>\n",
       "      <th>neuro</th>\n",
       "    </tr>\n",
       "  </thead>\n",
       "  <tbody>\n",
       "    <tr>\n",
       "      <th>0</th>\n",
       "      <td>S03</td>\n",
       "      <td>F</td>\n",
       "      <td>experimental</td>\n",
       "      <td>amigdala</td>\n",
       "      <td>dopamina</td>\n",
       "    </tr>\n",
       "    <tr>\n",
       "      <th>1</th>\n",
       "      <td>S00</td>\n",
       "      <td>M</td>\n",
       "      <td>experimental</td>\n",
       "      <td>cortex prefrontal</td>\n",
       "      <td>serotonina</td>\n",
       "    </tr>\n",
       "    <tr>\n",
       "      <th>2</th>\n",
       "      <td>S02</td>\n",
       "      <td>M</td>\n",
       "      <td>experimental</td>\n",
       "      <td>amigdala</td>\n",
       "      <td>dopamina</td>\n",
       "    </tr>\n",
       "    <tr>\n",
       "      <th>3</th>\n",
       "      <td>S02</td>\n",
       "      <td>F</td>\n",
       "      <td>control</td>\n",
       "      <td>amigdala</td>\n",
       "      <td>serotonina</td>\n",
       "    </tr>\n",
       "    <tr>\n",
       "      <th>4</th>\n",
       "      <td>S03</td>\n",
       "      <td>F</td>\n",
       "      <td>experimental</td>\n",
       "      <td>cortex prefrontal</td>\n",
       "      <td>dopamina</td>\n",
       "    </tr>\n",
       "    <tr>\n",
       "      <th>...</th>\n",
       "      <td>...</td>\n",
       "      <td>...</td>\n",
       "      <td>...</td>\n",
       "      <td>...</td>\n",
       "      <td>...</td>\n",
       "    </tr>\n",
       "    <tr>\n",
       "      <th>195</th>\n",
       "      <td>S02</td>\n",
       "      <td>F</td>\n",
       "      <td>control</td>\n",
       "      <td>cortex prefrontal</td>\n",
       "      <td>serotonina</td>\n",
       "    </tr>\n",
       "    <tr>\n",
       "      <th>196</th>\n",
       "      <td>S00</td>\n",
       "      <td>M</td>\n",
       "      <td>control</td>\n",
       "      <td>cortex prefrontal</td>\n",
       "      <td>serotonina</td>\n",
       "    </tr>\n",
       "    <tr>\n",
       "      <th>197</th>\n",
       "      <td>S02</td>\n",
       "      <td>M</td>\n",
       "      <td>experimental</td>\n",
       "      <td>cortex prefrontal</td>\n",
       "      <td>dopamina</td>\n",
       "    </tr>\n",
       "    <tr>\n",
       "      <th>198</th>\n",
       "      <td>S02</td>\n",
       "      <td>F</td>\n",
       "      <td>experimental</td>\n",
       "      <td>cortex prefrontal</td>\n",
       "      <td>dopamina</td>\n",
       "    </tr>\n",
       "    <tr>\n",
       "      <th>199</th>\n",
       "      <td>S00</td>\n",
       "      <td>F</td>\n",
       "      <td>control</td>\n",
       "      <td>cortex prefrontal</td>\n",
       "      <td>dopamina</td>\n",
       "    </tr>\n",
       "  </tbody>\n",
       "</table>\n",
       "<p>200 rows × 5 columns</p>\n",
       "</div>"
      ],
      "text/plain": [
       "    sujeto genero     condicion             region       neuro\n",
       "0      S03      F  experimental           amigdala    dopamina\n",
       "1      S00      M  experimental  cortex prefrontal  serotonina\n",
       "2      S02      M  experimental           amigdala    dopamina\n",
       "3      S02      F       control           amigdala  serotonina\n",
       "4      S03      F  experimental  cortex prefrontal    dopamina\n",
       "..     ...    ...           ...                ...         ...\n",
       "195    S02      F       control  cortex prefrontal  serotonina\n",
       "196    S00      M       control  cortex prefrontal  serotonina\n",
       "197    S02      M  experimental  cortex prefrontal    dopamina\n",
       "198    S02      F  experimental  cortex prefrontal    dopamina\n",
       "199    S00      F       control  cortex prefrontal    dopamina\n",
       "\n",
       "[200 rows x 5 columns]"
      ]
     },
     "execution_count": 38,
     "metadata": {},
     "output_type": "execute_result"
    }
   ],
   "source": [
    "tipos_sujetos =['S'+str(i).zfill(2) for i in range(4)]\n",
    "generos = ['M', 'F']\n",
    "condicion = ['control', 'experimental']\n",
    "region = ['hipocampo', 'cortex prefrontal', 'amigdala']\n",
    "neurotransmisor = ['dopamina', 'serotonina']\n",
    "longitud = 200\n",
    "variables = [tipos_sujetos, generos, condicion, region, neurotransmisor]\n",
    "data =[]\n",
    "for variable in variables: \n",
    "    opciones = np.random.randint(len(variable), size=longitud)\n",
    "    data.append([variable[i] for i in opciones])\n",
    "\n",
    "df = pd.DataFrame(data).transpose()\n",
    "df.columns = ['sujeto', 'genero', 'condicion', 'region', 'neuro']\n",
    "df"
   ]
  },
  {
   "cell_type": "code",
   "execution_count": 39,
   "id": "36f8d24b-ef5b-4a69-8380-de26afa8cd29",
   "metadata": {},
   "outputs": [
    {
     "data": {
      "text/html": [
       "<div>\n",
       "<style scoped>\n",
       "    .dataframe tbody tr th:only-of-type {\n",
       "        vertical-align: middle;\n",
       "    }\n",
       "\n",
       "    .dataframe tbody tr th {\n",
       "        vertical-align: top;\n",
       "    }\n",
       "\n",
       "    .dataframe thead th {\n",
       "        text-align: right;\n",
       "    }\n",
       "</style>\n",
       "<table border=\"1\" class=\"dataframe\">\n",
       "  <thead>\n",
       "    <tr style=\"text-align: right;\">\n",
       "      <th></th>\n",
       "      <th>sujeto</th>\n",
       "      <th>genero</th>\n",
       "      <th>condicion</th>\n",
       "      <th>region</th>\n",
       "      <th>neuro</th>\n",
       "    </tr>\n",
       "  </thead>\n",
       "  <tbody>\n",
       "    <tr>\n",
       "      <th>0</th>\n",
       "      <td>S03</td>\n",
       "      <td>F</td>\n",
       "      <td>experimental</td>\n",
       "      <td>amigdala</td>\n",
       "      <td>dopamina</td>\n",
       "    </tr>\n",
       "    <tr>\n",
       "      <th>1</th>\n",
       "      <td>S00</td>\n",
       "      <td>M</td>\n",
       "      <td>experimental</td>\n",
       "      <td>cortex prefrontal</td>\n",
       "      <td>serotonina</td>\n",
       "    </tr>\n",
       "    <tr>\n",
       "      <th>2</th>\n",
       "      <td>S02</td>\n",
       "      <td>M</td>\n",
       "      <td>experimental</td>\n",
       "      <td>amigdala</td>\n",
       "      <td>dopamina</td>\n",
       "    </tr>\n",
       "    <tr>\n",
       "      <th>3</th>\n",
       "      <td>S02</td>\n",
       "      <td>F</td>\n",
       "      <td>control</td>\n",
       "      <td>amigdala</td>\n",
       "      <td>serotonina</td>\n",
       "    </tr>\n",
       "    <tr>\n",
       "      <th>4</th>\n",
       "      <td>S03</td>\n",
       "      <td>F</td>\n",
       "      <td>experimental</td>\n",
       "      <td>cortex prefrontal</td>\n",
       "      <td>dopamina</td>\n",
       "    </tr>\n",
       "  </tbody>\n",
       "</table>\n",
       "</div>"
      ],
      "text/plain": [
       "  sujeto genero     condicion             region       neuro\n",
       "0    S03      F  experimental           amigdala    dopamina\n",
       "1    S00      M  experimental  cortex prefrontal  serotonina\n",
       "2    S02      M  experimental           amigdala    dopamina\n",
       "3    S02      F       control           amigdala  serotonina\n",
       "4    S03      F  experimental  cortex prefrontal    dopamina"
      ]
     },
     "execution_count": 39,
     "metadata": {},
     "output_type": "execute_result"
    }
   ],
   "source": [
    "df.head()"
   ]
  },
  {
   "cell_type": "code",
   "execution_count": 40,
   "id": "22a28b80-32d8-401e-9c12-7f1a8ef12874",
   "metadata": {},
   "outputs": [
    {
     "data": {
      "text/plain": [
       "0               AMIGDALA\n",
       "1      CORTEX PREFRONTAL\n",
       "2               AMIGDALA\n",
       "3               AMIGDALA\n",
       "4      CORTEX PREFRONTAL\n",
       "             ...        \n",
       "195    CORTEX PREFRONTAL\n",
       "196    CORTEX PREFRONTAL\n",
       "197    CORTEX PREFRONTAL\n",
       "198    CORTEX PREFRONTAL\n",
       "199    CORTEX PREFRONTAL\n",
       "Name: region, Length: 200, dtype: object"
      ]
     },
     "execution_count": 40,
     "metadata": {},
     "output_type": "execute_result"
    }
   ],
   "source": [
    "def funcion(string):\n",
    "    return string.upper()\n",
    "\n",
    "df['region'].apply(funcion)"
   ]
  },
  {
   "cell_type": "code",
   "execution_count": 43,
   "id": "8b7ecd4f-cb4c-4ff7-9e40-1dba58d42890",
   "metadata": {},
   "outputs": [
    {
     "data": {
      "text/plain": [
       "0               AMIGDALA\n",
       "1      CORTEX PREFRONTAL\n",
       "2               AMIGDALA\n",
       "3               AMIGDALA\n",
       "4      CORTEX PREFRONTAL\n",
       "             ...        \n",
       "195    CORTEX PREFRONTAL\n",
       "196    CORTEX PREFRONTAL\n",
       "197    CORTEX PREFRONTAL\n",
       "198    CORTEX PREFRONTAL\n",
       "199    CORTEX PREFRONTAL\n",
       "Name: region, Length: 200, dtype: object"
      ]
     },
     "execution_count": 43,
     "metadata": {},
     "output_type": "execute_result"
    }
   ],
   "source": [
    "def funcion(string):\n",
    "    return string.upper()\n",
    "df['region'].apply(lambda string :string.upper())"
   ]
  },
  {
   "cell_type": "code",
   "execution_count": 44,
   "id": "4320defa-cd19-431a-8f98-79ddbba2aa34",
   "metadata": {},
   "outputs": [
    {
     "data": {
      "text/plain": [
       "0               AMIGDALA\n",
       "1      CORTEX PREFRONTAL\n",
       "2               AMIGDALA\n",
       "3               AMIGDALA\n",
       "4      CORTEX PREFRONTAL\n",
       "             ...        \n",
       "195    CORTEX PREFRONTAL\n",
       "196    CORTEX PREFRONTAL\n",
       "197    CORTEX PREFRONTAL\n",
       "198    CORTEX PREFRONTAL\n",
       "199    CORTEX PREFRONTAL\n",
       "Name: region, Length: 200, dtype: object"
      ]
     },
     "execution_count": 44,
     "metadata": {},
     "output_type": "execute_result"
    }
   ],
   "source": [
    "df['region'].apply(lambda string :string.upper())"
   ]
  },
  {
   "cell_type": "code",
   "execution_count": 47,
   "id": "8c746634-b765-43c0-9b88-04fbe5640d16",
   "metadata": {},
   "outputs": [
    {
     "data": {
      "text/html": [
       "<div>\n",
       "<style scoped>\n",
       "    .dataframe tbody tr th:only-of-type {\n",
       "        vertical-align: middle;\n",
       "    }\n",
       "\n",
       "    .dataframe tbody tr th {\n",
       "        vertical-align: top;\n",
       "    }\n",
       "\n",
       "    .dataframe thead th {\n",
       "        text-align: right;\n",
       "    }\n",
       "</style>\n",
       "<table border=\"1\" class=\"dataframe\">\n",
       "  <thead>\n",
       "    <tr style=\"text-align: right;\">\n",
       "      <th></th>\n",
       "      <th>region</th>\n",
       "      <th>condicion</th>\n",
       "      <th>neuro</th>\n",
       "    </tr>\n",
       "  </thead>\n",
       "  <tbody>\n",
       "    <tr>\n",
       "      <th>0</th>\n",
       "      <td>AMIGDALA</td>\n",
       "      <td>EXPERIMENTAL</td>\n",
       "      <td>DOPAMINA</td>\n",
       "    </tr>\n",
       "    <tr>\n",
       "      <th>1</th>\n",
       "      <td>CORTEX PREFRONTAL</td>\n",
       "      <td>EXPERIMENTAL</td>\n",
       "      <td>SEROTONINA</td>\n",
       "    </tr>\n",
       "    <tr>\n",
       "      <th>2</th>\n",
       "      <td>AMIGDALA</td>\n",
       "      <td>EXPERIMENTAL</td>\n",
       "      <td>DOPAMINA</td>\n",
       "    </tr>\n",
       "    <tr>\n",
       "      <th>3</th>\n",
       "      <td>AMIGDALA</td>\n",
       "      <td>CONTROL</td>\n",
       "      <td>SEROTONINA</td>\n",
       "    </tr>\n",
       "    <tr>\n",
       "      <th>4</th>\n",
       "      <td>CORTEX PREFRONTAL</td>\n",
       "      <td>EXPERIMENTAL</td>\n",
       "      <td>DOPAMINA</td>\n",
       "    </tr>\n",
       "    <tr>\n",
       "      <th>...</th>\n",
       "      <td>...</td>\n",
       "      <td>...</td>\n",
       "      <td>...</td>\n",
       "    </tr>\n",
       "    <tr>\n",
       "      <th>195</th>\n",
       "      <td>CORTEX PREFRONTAL</td>\n",
       "      <td>CONTROL</td>\n",
       "      <td>SEROTONINA</td>\n",
       "    </tr>\n",
       "    <tr>\n",
       "      <th>196</th>\n",
       "      <td>CORTEX PREFRONTAL</td>\n",
       "      <td>CONTROL</td>\n",
       "      <td>SEROTONINA</td>\n",
       "    </tr>\n",
       "    <tr>\n",
       "      <th>197</th>\n",
       "      <td>CORTEX PREFRONTAL</td>\n",
       "      <td>EXPERIMENTAL</td>\n",
       "      <td>DOPAMINA</td>\n",
       "    </tr>\n",
       "    <tr>\n",
       "      <th>198</th>\n",
       "      <td>CORTEX PREFRONTAL</td>\n",
       "      <td>EXPERIMENTAL</td>\n",
       "      <td>DOPAMINA</td>\n",
       "    </tr>\n",
       "    <tr>\n",
       "      <th>199</th>\n",
       "      <td>CORTEX PREFRONTAL</td>\n",
       "      <td>CONTROL</td>\n",
       "      <td>DOPAMINA</td>\n",
       "    </tr>\n",
       "  </tbody>\n",
       "</table>\n",
       "<p>200 rows × 3 columns</p>\n",
       "</div>"
      ],
      "text/plain": [
       "                region     condicion       neuro\n",
       "0             AMIGDALA  EXPERIMENTAL    DOPAMINA\n",
       "1    CORTEX PREFRONTAL  EXPERIMENTAL  SEROTONINA\n",
       "2             AMIGDALA  EXPERIMENTAL    DOPAMINA\n",
       "3             AMIGDALA       CONTROL  SEROTONINA\n",
       "4    CORTEX PREFRONTAL  EXPERIMENTAL    DOPAMINA\n",
       "..                 ...           ...         ...\n",
       "195  CORTEX PREFRONTAL       CONTROL  SEROTONINA\n",
       "196  CORTEX PREFRONTAL       CONTROL  SEROTONINA\n",
       "197  CORTEX PREFRONTAL  EXPERIMENTAL    DOPAMINA\n",
       "198  CORTEX PREFRONTAL  EXPERIMENTAL    DOPAMINA\n",
       "199  CORTEX PREFRONTAL       CONTROL    DOPAMINA\n",
       "\n",
       "[200 rows x 3 columns]"
      ]
     },
     "execution_count": 47,
     "metadata": {},
     "output_type": "execute_result"
    }
   ],
   "source": [
    "df[ ['region','condicion', 'neuro'] ].apply(lambda serie :[ string.upper() for string in serie])"
   ]
  },
  {
   "cell_type": "code",
   "execution_count": null,
   "id": "76074978-01f0-4f5b-bad4-182abdb3847e",
   "metadata": {},
   "outputs": [],
   "source": []
  }
 ],
 "metadata": {
  "kernelspec": {
   "display_name": "Python 3 (ipykernel)",
   "language": "python",
   "name": "python3"
  },
  "language_info": {
   "codemirror_mode": {
    "name": "ipython",
    "version": 3
   },
   "file_extension": ".py",
   "mimetype": "text/x-python",
   "name": "python",
   "nbconvert_exporter": "python",
   "pygments_lexer": "ipython3",
   "version": "3.11.1"
  }
 },
 "nbformat": 4,
 "nbformat_minor": 5
}
