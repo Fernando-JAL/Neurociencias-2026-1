{
 "cells": [
  {
   "cell_type": "code",
   "execution_count": 2,
   "id": "738d6157-d456-46a8-aff9-0f8ccfa362b8",
   "metadata": {},
   "outputs": [],
   "source": [
    "import pandas as pd"
   ]
  },
  {
   "cell_type": "code",
   "execution_count": 7,
   "id": "8fcb2860-e8a0-4058-aa52-4a1e2290fe75",
   "metadata": {},
   "outputs": [
    {
     "data": {
      "text/plain": [
       "0                    6\n",
       "1                    8\n",
       "2                 azyk\n",
       "3    {'key': 'values'}\n",
       "4                 (3,)\n",
       "dtype: object"
      ]
     },
     "execution_count": 7,
     "metadata": {},
     "output_type": "execute_result"
    }
   ],
   "source": [
    "valores = [6, 8, 'azyk',{'key':'values'}, (3,)]\n",
    "indice = range (len(valores))\n",
    "\n",
    "serie1 = pd.Series(data= valores, index=indice) \n",
    "serie1"
   ]
  },
  {
   "cell_type": "code",
   "execution_count": 8,
   "id": "2219f8aa-d436-4de3-9b9c-1084e87e43fa",
   "metadata": {},
   "outputs": [
    {
     "data": {
      "text/plain": [
       "0     28\n",
       "1     45\n",
       "2   -852\n",
       "3      3\n",
       "4     16\n",
       "dtype: int64"
      ]
     },
     "execution_count": 8,
     "metadata": {},
     "output_type": "execute_result"
    }
   ],
   "source": [
    "valores2= [28,45,-852, 3,16]\n",
    "serie2= pd.Series(index=indice, data= valores2) \n",
    "serie2"
   ]
  },
  {
   "cell_type": "code",
   "execution_count": 12,
   "id": "44a0bbc6-2a32-4040-90fc-12f206448365",
   "metadata": {},
   "outputs": [],
   "source": [
    "import numpy as np"
   ]
  },
  {
   "cell_type": "code",
   "execution_count": 13,
   "id": "3b13165d-8fce-439c-9c7e-e0e3a5c83782",
   "metadata": {},
   "outputs": [
    {
     "data": {
      "text/plain": [
       "array([[-21.99673414, -23.07076273, -17.5929768 ,  -2.16617303],\n",
       "       [-15.64594934,  -4.18286618, -13.2153799 ,  -9.37897647],\n",
       "       [ -6.77528693, -13.21380101, -22.03717431, -27.54779479],\n",
       "       [  2.74544951, -16.29988096, -14.93883178,  -9.70909424]])"
      ]
     },
     "execution_count": 13,
     "metadata": {},
     "output_type": "execute_result"
    }
   ],
   "source": [
    "array= np.random.normal(-10,10,size=[4,4])\n",
    "array"
   ]
  },
  {
   "cell_type": "code",
   "execution_count": 26,
   "id": "f64b946b-db31-4bbf-850a-bfb13c197abd",
   "metadata": {},
   "outputs": [
    {
     "data": {
      "text/html": [
       "<div>\n",
       "<style scoped>\n",
       "    .dataframe tbody tr th:only-of-type {\n",
       "        vertical-align: middle;\n",
       "    }\n",
       "\n",
       "    .dataframe tbody tr th {\n",
       "        vertical-align: top;\n",
       "    }\n",
       "\n",
       "    .dataframe thead th {\n",
       "        text-align: right;\n",
       "    }\n",
       "</style>\n",
       "<table border=\"1\" class=\"dataframe\">\n",
       "  <thead>\n",
       "    <tr style=\"text-align: right;\">\n",
       "      <th></th>\n",
       "      <th>W</th>\n",
       "      <th>X</th>\n",
       "    </tr>\n",
       "  </thead>\n",
       "  <tbody>\n",
       "    <tr>\n",
       "      <th>a</th>\n",
       "      <td>2</td>\n",
       "      <td>3</td>\n",
       "    </tr>\n",
       "    <tr>\n",
       "      <th>b</th>\n",
       "      <td>4</td>\n",
       "      <td>5</td>\n",
       "    </tr>\n",
       "  </tbody>\n",
       "</table>\n",
       "</div>"
      ],
      "text/plain": [
       "   W  X\n",
       "a  2  3\n",
       "b  4  5"
      ]
     },
     "execution_count": 26,
     "metadata": {},
     "output_type": "execute_result"
    }
   ],
   "source": [
    "pd.DataFrame([[2,3],[4,5]], index=['a','b'], columns= ['W','X'])"
   ]
  },
  {
   "cell_type": "code",
   "execution_count": 25,
   "id": "fa6ef9c3-5ba0-4600-be75-c7a8deb903da",
   "metadata": {},
   "outputs": [
    {
     "data": {
      "text/html": [
       "<div>\n",
       "<style scoped>\n",
       "    .dataframe tbody tr th:only-of-type {\n",
       "        vertical-align: middle;\n",
       "    }\n",
       "\n",
       "    .dataframe tbody tr th {\n",
       "        vertical-align: top;\n",
       "    }\n",
       "\n",
       "    .dataframe thead th {\n",
       "        text-align: right;\n",
       "    }\n",
       "</style>\n",
       "<table border=\"1\" class=\"dataframe\">\n",
       "  <thead>\n",
       "    <tr style=\"text-align: right;\">\n",
       "      <th></th>\n",
       "      <th>0</th>\n",
       "      <th>1</th>\n",
       "      <th>2</th>\n",
       "      <th>3</th>\n",
       "    </tr>\n",
       "  </thead>\n",
       "  <tbody>\n",
       "    <tr>\n",
       "      <th>0</th>\n",
       "      <td>-21.996734</td>\n",
       "      <td>-23.070763</td>\n",
       "      <td>-17.592977</td>\n",
       "      <td>-2.166173</td>\n",
       "    </tr>\n",
       "    <tr>\n",
       "      <th>1</th>\n",
       "      <td>-15.645949</td>\n",
       "      <td>-4.182866</td>\n",
       "      <td>-13.215380</td>\n",
       "      <td>-9.378976</td>\n",
       "    </tr>\n",
       "    <tr>\n",
       "      <th>2</th>\n",
       "      <td>-6.775287</td>\n",
       "      <td>-13.213801</td>\n",
       "      <td>-22.037174</td>\n",
       "      <td>-27.547795</td>\n",
       "    </tr>\n",
       "    <tr>\n",
       "      <th>3</th>\n",
       "      <td>2.745450</td>\n",
       "      <td>-16.299881</td>\n",
       "      <td>-14.938832</td>\n",
       "      <td>-9.709094</td>\n",
       "    </tr>\n",
       "  </tbody>\n",
       "</table>\n",
       "</div>"
      ],
      "text/plain": [
       "           0          1          2          3\n",
       "0 -21.996734 -23.070763 -17.592977  -2.166173\n",
       "1 -15.645949  -4.182866 -13.215380  -9.378976\n",
       "2  -6.775287 -13.213801 -22.037174 -27.547795\n",
       "3   2.745450 -16.299881 -14.938832  -9.709094"
      ]
     },
     "execution_count": 25,
     "metadata": {},
     "output_type": "execute_result"
    }
   ],
   "source": [
    "pd.DataFrame(array)"
   ]
  },
  {
   "cell_type": "code",
   "execution_count": 27,
   "id": "c13c51d5-c857-4ae6-85b2-4a16934100e0",
   "metadata": {},
   "outputs": [
    {
     "data": {
      "text/plain": [
       "4"
      ]
     },
     "execution_count": 27,
     "metadata": {},
     "output_type": "execute_result"
    }
   ],
   "source": [
    "len(array) "
   ]
  },
  {
   "cell_type": "code",
   "execution_count": 29,
   "id": "b936584e-67cd-4565-bef0-68c56ffec706",
   "metadata": {},
   "outputs": [
    {
     "data": {
      "text/html": [
       "<div>\n",
       "<style scoped>\n",
       "    .dataframe tbody tr th:only-of-type {\n",
       "        vertical-align: middle;\n",
       "    }\n",
       "\n",
       "    .dataframe tbody tr th {\n",
       "        vertical-align: top;\n",
       "    }\n",
       "\n",
       "    .dataframe thead th {\n",
       "        text-align: right;\n",
       "    }\n",
       "</style>\n",
       "<table border=\"1\" class=\"dataframe\">\n",
       "  <thead>\n",
       "    <tr style=\"text-align: right;\">\n",
       "      <th></th>\n",
       "      <th>0</th>\n",
       "      <th>1</th>\n",
       "      <th>2</th>\n",
       "      <th>3</th>\n",
       "    </tr>\n",
       "  </thead>\n",
       "  <tbody>\n",
       "    <tr>\n",
       "      <th>1</th>\n",
       "      <td>-21.996734</td>\n",
       "      <td>-23.070763</td>\n",
       "      <td>-17.592977</td>\n",
       "      <td>-2.166173</td>\n",
       "    </tr>\n",
       "    <tr>\n",
       "      <th>2</th>\n",
       "      <td>-15.645949</td>\n",
       "      <td>-4.182866</td>\n",
       "      <td>-13.215380</td>\n",
       "      <td>-9.378976</td>\n",
       "    </tr>\n",
       "    <tr>\n",
       "      <th>3</th>\n",
       "      <td>-6.775287</td>\n",
       "      <td>-13.213801</td>\n",
       "      <td>-22.037174</td>\n",
       "      <td>-27.547795</td>\n",
       "    </tr>\n",
       "    <tr>\n",
       "      <th>4</th>\n",
       "      <td>2.745450</td>\n",
       "      <td>-16.299881</td>\n",
       "      <td>-14.938832</td>\n",
       "      <td>-9.709094</td>\n",
       "    </tr>\n",
       "  </tbody>\n",
       "</table>\n",
       "</div>"
      ],
      "text/plain": [
       "           0          1          2          3\n",
       "1 -21.996734 -23.070763 -17.592977  -2.166173\n",
       "2 -15.645949  -4.182866 -13.215380  -9.378976\n",
       "3  -6.775287 -13.213801 -22.037174 -27.547795\n",
       "4   2.745450 -16.299881 -14.938832  -9.709094"
      ]
     },
     "execution_count": 29,
     "metadata": {},
     "output_type": "execute_result"
    }
   ],
   "source": [
    "df=pd.DataFrame(array, index= range(1, len(array)+1))\n",
    "df"
   ]
  },
  {
   "cell_type": "code",
   "execution_count": 38,
   "id": "5981d5e0-47bc-4b34-ad3b-4d73c8091e94",
   "metadata": {},
   "outputs": [
    {
     "data": {
      "text/html": [
       "<div>\n",
       "<style scoped>\n",
       "    .dataframe tbody tr th:only-of-type {\n",
       "        vertical-align: middle;\n",
       "    }\n",
       "\n",
       "    .dataframe tbody tr th {\n",
       "        vertical-align: top;\n",
       "    }\n",
       "\n",
       "    .dataframe thead th {\n",
       "        text-align: right;\n",
       "    }\n",
       "</style>\n",
       "<table border=\"1\" class=\"dataframe\">\n",
       "  <thead>\n",
       "    <tr style=\"text-align: right;\">\n",
       "      <th></th>\n",
       "      <th>W</th>\n",
       "      <th>X</th>\n",
       "      <th>Y</th>\n",
       "      <th>Z</th>\n",
       "    </tr>\n",
       "  </thead>\n",
       "  <tbody>\n",
       "    <tr>\n",
       "      <th>1</th>\n",
       "      <td>-21.996734</td>\n",
       "      <td>-23.070763</td>\n",
       "      <td>-17.592977</td>\n",
       "      <td>-2.166173</td>\n",
       "    </tr>\n",
       "    <tr>\n",
       "      <th>2</th>\n",
       "      <td>-15.645949</td>\n",
       "      <td>-4.182866</td>\n",
       "      <td>-13.215380</td>\n",
       "      <td>-9.378976</td>\n",
       "    </tr>\n",
       "    <tr>\n",
       "      <th>3</th>\n",
       "      <td>-6.775287</td>\n",
       "      <td>-13.213801</td>\n",
       "      <td>-22.037174</td>\n",
       "      <td>-27.547795</td>\n",
       "    </tr>\n",
       "    <tr>\n",
       "      <th>4</th>\n",
       "      <td>2.745450</td>\n",
       "      <td>-16.299881</td>\n",
       "      <td>-14.938832</td>\n",
       "      <td>-9.709094</td>\n",
       "    </tr>\n",
       "  </tbody>\n",
       "</table>\n",
       "</div>"
      ],
      "text/plain": [
       "           W          X          Y          Z\n",
       "1 -21.996734 -23.070763 -17.592977  -2.166173\n",
       "2 -15.645949  -4.182866 -13.215380  -9.378976\n",
       "3  -6.775287 -13.213801 -22.037174 -27.547795\n",
       "4   2.745450 -16.299881 -14.938832  -9.709094"
      ]
     },
     "execution_count": 38,
     "metadata": {},
     "output_type": "execute_result"
    }
   ],
   "source": [
    "df=pd.DataFrame(array, index= range(1, len(array)+1), columns=['W','X','Y','Z'])\n",
    "df"
   ]
  },
  {
   "cell_type": "code",
   "execution_count": 39,
   "id": "3bd3cffc-08f4-43d7-a729-da313c00f85c",
   "metadata": {},
   "outputs": [
    {
     "data": {
      "text/plain": [
       "1   -23.070763\n",
       "2    -4.182866\n",
       "3   -13.213801\n",
       "4   -16.299881\n",
       "Name: X, dtype: float64"
      ]
     },
     "execution_count": 39,
     "metadata": {},
     "output_type": "execute_result"
    }
   ],
   "source": [
    "df['X']"
   ]
  },
  {
   "cell_type": "code",
   "execution_count": 40,
   "id": "93f24dc3-6a8f-44e7-9558-16a09bb7a2ac",
   "metadata": {},
   "outputs": [
    {
     "data": {
      "text/plain": [
       "1   -23.070763\n",
       "2    -4.182866\n",
       "3   -13.213801\n",
       "4   -16.299881\n",
       "Name: X, dtype: float64"
      ]
     },
     "execution_count": 40,
     "metadata": {},
     "output_type": "execute_result"
    }
   ],
   "source": [
    "df.X"
   ]
  },
  {
   "cell_type": "code",
   "execution_count": 41,
   "id": "eda11476-093a-4888-a491-ac81f49cb44a",
   "metadata": {},
   "outputs": [
    {
     "data": {
      "text/html": [
       "<div>\n",
       "<style scoped>\n",
       "    .dataframe tbody tr th:only-of-type {\n",
       "        vertical-align: middle;\n",
       "    }\n",
       "\n",
       "    .dataframe tbody tr th {\n",
       "        vertical-align: top;\n",
       "    }\n",
       "\n",
       "    .dataframe thead th {\n",
       "        text-align: right;\n",
       "    }\n",
       "</style>\n",
       "<table border=\"1\" class=\"dataframe\">\n",
       "  <thead>\n",
       "    <tr style=\"text-align: right;\">\n",
       "      <th></th>\n",
       "      <th>W</th>\n",
       "      <th>Y</th>\n",
       "    </tr>\n",
       "  </thead>\n",
       "  <tbody>\n",
       "    <tr>\n",
       "      <th>1</th>\n",
       "      <td>-21.996734</td>\n",
       "      <td>-17.592977</td>\n",
       "    </tr>\n",
       "    <tr>\n",
       "      <th>2</th>\n",
       "      <td>-15.645949</td>\n",
       "      <td>-13.215380</td>\n",
       "    </tr>\n",
       "    <tr>\n",
       "      <th>3</th>\n",
       "      <td>-6.775287</td>\n",
       "      <td>-22.037174</td>\n",
       "    </tr>\n",
       "    <tr>\n",
       "      <th>4</th>\n",
       "      <td>2.745450</td>\n",
       "      <td>-14.938832</td>\n",
       "    </tr>\n",
       "  </tbody>\n",
       "</table>\n",
       "</div>"
      ],
      "text/plain": [
       "           W          Y\n",
       "1 -21.996734 -17.592977\n",
       "2 -15.645949 -13.215380\n",
       "3  -6.775287 -22.037174\n",
       "4   2.745450 -14.938832"
      ]
     },
     "execution_count": 41,
     "metadata": {},
     "output_type": "execute_result"
    }
   ],
   "source": [
    "columnas=['W','Y']\n",
    "df[ columnas] "
   ]
  },
  {
   "cell_type": "code",
   "execution_count": 42,
   "id": "16ba366a-e41c-4623-93cd-abdeb4370e33",
   "metadata": {},
   "outputs": [
    {
     "data": {
      "text/html": [
       "<div>\n",
       "<style scoped>\n",
       "    .dataframe tbody tr th:only-of-type {\n",
       "        vertical-align: middle;\n",
       "    }\n",
       "\n",
       "    .dataframe tbody tr th {\n",
       "        vertical-align: top;\n",
       "    }\n",
       "\n",
       "    .dataframe thead th {\n",
       "        text-align: right;\n",
       "    }\n",
       "</style>\n",
       "<table border=\"1\" class=\"dataframe\">\n",
       "  <thead>\n",
       "    <tr style=\"text-align: right;\">\n",
       "      <th></th>\n",
       "      <th>W</th>\n",
       "      <th>X</th>\n",
       "      <th>Y</th>\n",
       "      <th>Z</th>\n",
       "      <th>suma_X_Z</th>\n",
       "    </tr>\n",
       "  </thead>\n",
       "  <tbody>\n",
       "    <tr>\n",
       "      <th>1</th>\n",
       "      <td>-21.996734</td>\n",
       "      <td>-23.070763</td>\n",
       "      <td>-17.592977</td>\n",
       "      <td>-2.166173</td>\n",
       "      <td>-25.236936</td>\n",
       "    </tr>\n",
       "    <tr>\n",
       "      <th>2</th>\n",
       "      <td>-15.645949</td>\n",
       "      <td>-4.182866</td>\n",
       "      <td>-13.215380</td>\n",
       "      <td>-9.378976</td>\n",
       "      <td>-13.561843</td>\n",
       "    </tr>\n",
       "    <tr>\n",
       "      <th>3</th>\n",
       "      <td>-6.775287</td>\n",
       "      <td>-13.213801</td>\n",
       "      <td>-22.037174</td>\n",
       "      <td>-27.547795</td>\n",
       "      <td>-40.761596</td>\n",
       "    </tr>\n",
       "    <tr>\n",
       "      <th>4</th>\n",
       "      <td>2.745450</td>\n",
       "      <td>-16.299881</td>\n",
       "      <td>-14.938832</td>\n",
       "      <td>-9.709094</td>\n",
       "      <td>-26.008975</td>\n",
       "    </tr>\n",
       "  </tbody>\n",
       "</table>\n",
       "</div>"
      ],
      "text/plain": [
       "           W          X          Y          Z   suma_X_Z\n",
       "1 -21.996734 -23.070763 -17.592977  -2.166173 -25.236936\n",
       "2 -15.645949  -4.182866 -13.215380  -9.378976 -13.561843\n",
       "3  -6.775287 -13.213801 -22.037174 -27.547795 -40.761596\n",
       "4   2.745450 -16.299881 -14.938832  -9.709094 -26.008975"
      ]
     },
     "execution_count": 42,
     "metadata": {},
     "output_type": "execute_result"
    }
   ],
   "source": [
    "df['suma_X_Z'] = df.X+ df.Z\n",
    "df"
   ]
  },
  {
   "cell_type": "code",
   "execution_count": null,
   "id": "5a7b398f-f565-4c56-a760-ec55fd3bc8b1",
   "metadata": {},
   "outputs": [],
   "source": [
    "df.drop('Y', axis=1, inplace= True) #axis=1 es para borrar columnas, axis=0 es para borrar "
   ]
  },
  {
   "cell_type": "code",
   "execution_count": 53,
   "id": "f9aabe08-611a-4448-9e5e-85adbd392076",
   "metadata": {},
   "outputs": [
    {
     "data": {
      "text/html": [
       "<div>\n",
       "<style scoped>\n",
       "    .dataframe tbody tr th:only-of-type {\n",
       "        vertical-align: middle;\n",
       "    }\n",
       "\n",
       "    .dataframe tbody tr th {\n",
       "        vertical-align: top;\n",
       "    }\n",
       "\n",
       "    .dataframe thead th {\n",
       "        text-align: right;\n",
       "    }\n",
       "</style>\n",
       "<table border=\"1\" class=\"dataframe\">\n",
       "  <thead>\n",
       "    <tr style=\"text-align: right;\">\n",
       "      <th></th>\n",
       "      <th>W</th>\n",
       "      <th>X</th>\n",
       "      <th>Z</th>\n",
       "      <th>suma_X_Z</th>\n",
       "    </tr>\n",
       "  </thead>\n",
       "  <tbody>\n",
       "    <tr>\n",
       "      <th>1</th>\n",
       "      <td>-21.996734</td>\n",
       "      <td>-23.070763</td>\n",
       "      <td>-2.166173</td>\n",
       "      <td>-25.236936</td>\n",
       "    </tr>\n",
       "    <tr>\n",
       "      <th>2</th>\n",
       "      <td>-15.645949</td>\n",
       "      <td>-4.182866</td>\n",
       "      <td>-9.378976</td>\n",
       "      <td>-13.561843</td>\n",
       "    </tr>\n",
       "    <tr>\n",
       "      <th>3</th>\n",
       "      <td>-6.775287</td>\n",
       "      <td>-13.213801</td>\n",
       "      <td>-27.547795</td>\n",
       "      <td>-40.761596</td>\n",
       "    </tr>\n",
       "    <tr>\n",
       "      <th>4</th>\n",
       "      <td>2.745450</td>\n",
       "      <td>-16.299881</td>\n",
       "      <td>-9.709094</td>\n",
       "      <td>-26.008975</td>\n",
       "    </tr>\n",
       "  </tbody>\n",
       "</table>\n",
       "</div>"
      ],
      "text/plain": [
       "           W          X          Z   suma_X_Z\n",
       "1 -21.996734 -23.070763  -2.166173 -25.236936\n",
       "2 -15.645949  -4.182866  -9.378976 -13.561843\n",
       "3  -6.775287 -13.213801 -27.547795 -40.761596\n",
       "4   2.745450 -16.299881  -9.709094 -26.008975"
      ]
     },
     "execution_count": 53,
     "metadata": {},
     "output_type": "execute_result"
    }
   ],
   "source": [
    "df"
   ]
  },
  {
   "cell_type": "code",
   "execution_count": 48,
   "id": "ada33fd3-8adf-40cb-a1ec-dfbe7d3ad343",
   "metadata": {},
   "outputs": [
    {
     "data": {
      "text/html": [
       "<div>\n",
       "<style scoped>\n",
       "    .dataframe tbody tr th:only-of-type {\n",
       "        vertical-align: middle;\n",
       "    }\n",
       "\n",
       "    .dataframe tbody tr th {\n",
       "        vertical-align: top;\n",
       "    }\n",
       "\n",
       "    .dataframe thead th {\n",
       "        text-align: right;\n",
       "    }\n",
       "</style>\n",
       "<table border=\"1\" class=\"dataframe\">\n",
       "  <thead>\n",
       "    <tr style=\"text-align: right;\">\n",
       "      <th></th>\n",
       "      <th>W</th>\n",
       "      <th>X</th>\n",
       "      <th>Z</th>\n",
       "      <th>suma_X_Z</th>\n",
       "    </tr>\n",
       "  </thead>\n",
       "  <tbody>\n",
       "    <tr>\n",
       "      <th>1</th>\n",
       "      <td>-21.996734</td>\n",
       "      <td>-23.070763</td>\n",
       "      <td>-2.166173</td>\n",
       "      <td>-25.236936</td>\n",
       "    </tr>\n",
       "    <tr>\n",
       "      <th>2</th>\n",
       "      <td>-15.645949</td>\n",
       "      <td>-4.182866</td>\n",
       "      <td>-9.378976</td>\n",
       "      <td>-13.561843</td>\n",
       "    </tr>\n",
       "    <tr>\n",
       "      <th>4</th>\n",
       "      <td>2.745450</td>\n",
       "      <td>-16.299881</td>\n",
       "      <td>-9.709094</td>\n",
       "      <td>-26.008975</td>\n",
       "    </tr>\n",
       "  </tbody>\n",
       "</table>\n",
       "</div>"
      ],
      "text/plain": [
       "           W          X         Z   suma_X_Z\n",
       "1 -21.996734 -23.070763 -2.166173 -25.236936\n",
       "2 -15.645949  -4.182866 -9.378976 -13.561843\n",
       "4   2.745450 -16.299881 -9.709094 -26.008975"
      ]
     },
     "execution_count": 48,
     "metadata": {},
     "output_type": "execute_result"
    }
   ],
   "source": [
    "df.drop(3,axis=0)"
   ]
  },
  {
   "cell_type": "code",
   "execution_count": 54,
   "id": "7e94c779-da26-42fa-983e-05a1985e34d7",
   "metadata": {},
   "outputs": [
    {
     "data": {
      "text/plain": [
       "W          -21.996734\n",
       "X          -23.070763\n",
       "Z           -2.166173\n",
       "suma_X_Z   -25.236936\n",
       "Name: 1, dtype: float64"
      ]
     },
     "execution_count": 54,
     "metadata": {},
     "output_type": "execute_result"
    }
   ],
   "source": [
    "df.loc[1]"
   ]
  },
  {
   "cell_type": "code",
   "execution_count": 55,
   "id": "09406b0c-aaf2-418c-b061-3f1e84c808b0",
   "metadata": {},
   "outputs": [
    {
     "data": {
      "text/plain": [
       "np.float64(-2.166173029164441)"
      ]
     },
     "execution_count": 55,
     "metadata": {},
     "output_type": "execute_result"
    }
   ],
   "source": [
    "df.iloc[0,2]"
   ]
  },
  {
   "cell_type": "code",
   "execution_count": 59,
   "id": "69644e86-cff5-4e9c-8035-821b955a15e3",
   "metadata": {},
   "outputs": [
    {
     "data": {
      "text/html": [
       "<div>\n",
       "<style scoped>\n",
       "    .dataframe tbody tr th:only-of-type {\n",
       "        vertical-align: middle;\n",
       "    }\n",
       "\n",
       "    .dataframe tbody tr th {\n",
       "        vertical-align: top;\n",
       "    }\n",
       "\n",
       "    .dataframe thead th {\n",
       "        text-align: right;\n",
       "    }\n",
       "</style>\n",
       "<table border=\"1\" class=\"dataframe\">\n",
       "  <thead>\n",
       "    <tr style=\"text-align: right;\">\n",
       "      <th></th>\n",
       "      <th>X</th>\n",
       "      <th>suma_X_Z</th>\n",
       "    </tr>\n",
       "  </thead>\n",
       "  <tbody>\n",
       "    <tr>\n",
       "      <th>2</th>\n",
       "      <td>-4.182866</td>\n",
       "      <td>-13.561843</td>\n",
       "    </tr>\n",
       "    <tr>\n",
       "      <th>4</th>\n",
       "      <td>-16.299881</td>\n",
       "      <td>-26.008975</td>\n",
       "    </tr>\n",
       "  </tbody>\n",
       "</table>\n",
       "</div>"
      ],
      "text/plain": [
       "           X   suma_X_Z\n",
       "2  -4.182866 -13.561843\n",
       "4 -16.299881 -26.008975"
      ]
     },
     "execution_count": 59,
     "metadata": {},
     "output_type": "execute_result"
    }
   ],
   "source": [
    "df.loc[[2, 4], ['X','suma_X_Z']]"
   ]
  }
 ],
 "metadata": {
  "kernelspec": {
   "display_name": "Python 3 (ipykernel)",
   "language": "python",
   "name": "python3"
  },
  "language_info": {
   "codemirror_mode": {
    "name": "ipython",
    "version": 3
   },
   "file_extension": ".py",
   "mimetype": "text/x-python",
   "name": "python",
   "nbconvert_exporter": "python",
   "pygments_lexer": "ipython3",
   "version": "3.13.5"
  }
 },
 "nbformat": 4,
 "nbformat_minor": 5
}
