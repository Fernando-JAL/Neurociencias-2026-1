{
 "cells": [
  {
   "cell_type": "markdown",
   "id": "e88b488c-5c9c-4a84-adbd-48c076816b16",
   "metadata": {},
   "source": [
    "# Actividad de clase para irnos antes\n",
    "1. Abrir el dataset de cat.mat y usa la data de 'Names' y 'CIJctx'\n",
    "2. Generar el mapa de calor del dataframe asociado\n",
    "    Las columnas y las filas deben tener los nombres de los canales\n",
    "3. Generar el histograma del dataset y determinar el porcentaje de cada valor\n",
    "4. Filtrar el dataset con los valores =1, =2, =3\n",
    "    Con cada filtrado,que porcentaje de datos se están eliminando?\n",
    "5. Generar el mapa de calor de cada dataset filtrado\n",
    "6. Generar el grafo 2d de cada dataset filtrado"
   ]
  },
  {
   "cell_type": "code",
   "execution_count": null,
   "id": "9c17f85a-34ac-4c03-8977-7ffbab695b22",
   "metadata": {},
   "outputs": [],
   "source": []
  }
 ],
 "metadata": {
  "kernelspec": {
   "display_name": "Python 3 (ipykernel)",
   "language": "python",
   "name": "python3"
  },
  "language_info": {
   "codemirror_mode": {
    "name": "ipython",
    "version": 3
   },
   "file_extension": ".py",
   "mimetype": "text/x-python",
   "name": "python",
   "nbconvert_exporter": "python",
   "pygments_lexer": "ipython3",
   "version": "3.10.4"
  }
 },
 "nbformat": 4,
 "nbformat_minor": 5
}
