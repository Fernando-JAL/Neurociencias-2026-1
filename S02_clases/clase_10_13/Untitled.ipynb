{
 "cells": [
  {
   "cell_type": "code",
   "execution_count": 1,
   "id": "2d3f3e2b-7edd-4f43-8dcb-4439410e4267",
   "metadata": {},
   "outputs": [],
   "source": [
    "import numpy as np\n",
    "import pandas as pd\n",
    "import networkx as nx\n",
    "\n",
    "import seaborn as sns\n",
    "import matplotlib.pyplot as plt\n",
    "\n",
    "import scipy.io\n",
    "# pip install scipy SI ES Q NO LO TIENEN INSTALADO"
   ]
  },
  {
   "cell_type": "code",
   "execution_count": 2,
   "id": "dd3c1242-a74b-400d-a7ca-bad0e917cc31",
   "metadata": {},
   "outputs": [],
   "source": [
    "file_path = r\"C:\\Users\\OMEN CI7\\Documents\\repository\\Neurociencias-2026-1\\S03_datasets\\BCT\\Coactivation_matrix.mat\"\n",
    "\n",
    "# Leemos el contenido del archivo .mat\n",
    "file_dict = scipy.io.loadmat(file_path)"
   ]
  },
  {
   "cell_type": "code",
   "execution_count": 15,
   "id": "4b37b870-f126-4a15-90ab-b22b5cf1a0e3",
   "metadata": {},
   "outputs": [],
   "source": [
    "arr = file_dict['Coactivation_matrix'].flatten()"
   ]
  },
  {
   "cell_type": "code",
   "execution_count": 16,
   "id": "648d6791-9c1f-48e6-a5d1-e9222c377ad3",
   "metadata": {},
   "outputs": [
    {
     "data": {
      "image/png": "[encoded data removed]",
      "text/plain": [
       "<Figure size 640x480 with 1 Axes>"
      ]
     },
     "metadata": {},
     "output_type": "display_data"
    }
   ],
   "source": [
    "plt.hist( arr[arr > 0], bins=50 );"
   ]
  },
  {
   "cell_type": "code",
   "execution_count": 18,
   "id": "2c865981-ee91-40fd-b098-fe92ca18ad17",
   "metadata": {},
   "outputs": [
    {
     "data": {
      "text/plain": [
       "count    37250.000000\n",
       "mean         0.056314\n",
       "std          0.032076\n",
       "min          0.015576\n",
       "25%          0.038328\n",
       "50%          0.046053\n",
       "75%          0.060533\n",
       "max          0.335526\n",
       "dtype: float64"
      ]
     },
     "execution_count": 18,
     "metadata": {},
     "output_type": "execute_result"
    }
   ],
   "source": [
    "pd.Series(arr[arr > 0]).describe()"
   ]
  },
  {
   "cell_type": "code",
   "execution_count": null,
   "id": "35a59eed-1f00-47c2-a84c-bf1e2f40a576",
   "metadata": {},
   "outputs": [],
   "source": []
  }
 ],
 "metadata": {
  "kernelspec": {
   "display_name": "Python 3 (ipykernel)",
   "language": "python",
   "name": "python3"
  },
  "language_info": {
   "codemirror_mode": {
    "name": "ipython",
    "version": 3
   },
   "file_extension": ".py",
   "mimetype": "text/x-python",
   "name": "python",
   "nbconvert_exporter": "python",
   "pygments_lexer": "ipython3",
   "version": "3.10.4"
  }
 },
 "nbformat": 4,
 "nbformat_minor": 5
}
