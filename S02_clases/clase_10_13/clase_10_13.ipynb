{
 "cells": [
  {
   "cell_type": "code",
   "execution_count": 1,
   "id": "6a8c52d7-57aa-475a-8d07-a85b1ac77469",
   "metadata": {},
   "outputs": [],
   "source": [
    "import numpy as np\n",
    "import pandas as pd\n",
    "import networkx as nx\n",
    "\n",
    "import seaborn as sns\n",
    "import matplotlib.pyplot as plt\n",
    "\n",
    "import scipy.io\n",
    "# pip install scipy SI ES Q NO LO TIENEN INSTALADO"
   ]
  },
  {
   "cell_type": "code",
   "execution_count": 8,
   "id": "8350d888-5766-4bca-8343-41daa7ed7644",
   "metadata": {},
   "outputs": [],
   "source": [
    "# Definimos la ruta del archivo .mat\n",
    "file_path = r\"C:\\Users\\OMEN CI7\\Documents\\repository\\Neurociencias-2026-1\\S03_datasets\\BCT\\cat.mat\"\n",
    "\n",
    "# Leemos el contenido del archivo .mat\n",
    "file_dict = scipy.io.loadmat(file_path)"
   ]
  },
  {
   "cell_type": "code",
   "execution_count": 9,
   "id": "54e2c8d9-144f-4de6-8445-6bc41108c5a4",
   "metadata": {},
   "outputs": [
    {
     "data": {
      "text/plain": [
       "{'__header__': b'MATLAB 5.0 MAT-file, Platform: PCWIN, Created on: Wed May 29 16:24:29 2013',\n",
       " '__version__': '1.0',\n",
       " '__globals__': [],\n",
       " 'CIJall': array([[0, 3, 3, ..., 0, 0, 0],\n",
       "        [3, 0, 3, ..., 0, 0, 0],\n",
       "        [3, 3, 0, ..., 0, 0, 0],\n",
       "        ...,\n",
       "        [0, 0, 0, ..., 0, 0, 0],\n",
       "        [0, 0, 0, ..., 0, 0, 0],\n",
       "        [0, 0, 0, ..., 0, 0, 0]], shape=(95, 95), dtype=uint8),\n",
       " 'CIJctx': array([[0, 3, 3, ..., 0, 0, 0],\n",
       "        [3, 0, 3, ..., 0, 0, 0],\n",
       "        [3, 3, 0, ..., 0, 0, 0],\n",
       "        ...,\n",
       "        [0, 0, 0, ..., 0, 0, 3],\n",
       "        [0, 0, 0, ..., 2, 0, 2],\n",
       "        [0, 0, 0, ..., 2, 2, 0]], shape=(52, 52), dtype=uint8),\n",
       " 'Names': array(['    17', '    18', '    19', '  PLLS', '  PMLS', '  AMLS',\n",
       "        '  ALLS', '   VLS', '   DLS', '   21a', '   21b', '   20a',\n",
       "        '   20b', '     7', '   AES', '    PS', '    AI', '   AII',\n",
       "        '   AAF', '     P', '   VPc', '   EPp', '   Tem', '    3a',\n",
       "        '    3b', '     1', '     2', '   SII', '   SIV', '    4g',\n",
       "        '     4', '    6l', '    6m', '   5Am', '   5Al', '   5Bm',\n",
       "        '   5Bl', '  SSAi', '  SSAo', 'PFCMil', ' PFCMd', '  PFCL',\n",
       "        '    Ia', '    Ig', '   Cga', '   CGp', '    RS', '    35',\n",
       "        '    36', '   pSb', '    Sb', '   Enr'], dtype='<U6')}"
      ]
     },
     "execution_count": 9,
     "metadata": {},
     "output_type": "execute_result"
    }
   ],
   "source": [
    "file_dict"
   ]
  },
  {
   "cell_type": "markdown",
   "id": "4f7c1c1f-a885-4d9c-8dde-7ca60b182c82",
   "metadata": {},
   "source": [
    "# Actividad de clase para irnos antes: dice Naomi"
   ]
  },
  {
   "cell_type": "markdown",
   "id": "3999dc1a-b982-4ca0-96a3-341a6968414c",
   "metadata": {},
   "source": [
    "1. Abrir el dataset de cat.mat y usal la data de 'Names' y 'CIJctx'\n",
    "3. Generar el mapa de calor del dataframe asociado\n",
    "    1. Las columnas y las filas deben tener los nombres de los canales\n",
    "4. Generar el histograma del dataset y determinar el porcentaje de cada valor\n",
    "5. Filtrar el dataset con los valores <= 1, <= 2 y <= 3\n",
    "    1. Con cada filtrado, que porcentaje de datos se están eliminando?\n",
    "6. Generar el mapa de calor de cada dataset filtrado\n",
    "7. Generar el grafo 2d de cada dataset filtrado"
   ]
  },
  {
   "cell_type": "code",
   "execution_count": null,
   "id": "2fa44890-0527-439a-bc32-f65b121600a4",
   "metadata": {},
   "outputs": [],
   "source": []
  },
  {
   "cell_type": "code",
   "execution_count": null,
   "id": "5a7489f5-d889-4ab1-9342-3ae8e72bbe90",
   "metadata": {},
   "outputs": [],
   "source": []
  },
  {
   "cell_type": "code",
   "execution_count": null,
   "id": "05d6169d-404e-49b1-9f4d-7a2e00aed826",
   "metadata": {},
   "outputs": [],
   "source": []
  },
  {
   "cell_type": "code",
   "execution_count": null,
   "id": "277428aa-a2c7-4aec-bd13-9e3284fe0ad6",
   "metadata": {},
   "outputs": [],
   "source": []
  },
  {
   "cell_type": "code",
   "execution_count": null,
   "id": "ae75b9c4-0fa4-4896-ac83-4021605b2386",
   "metadata": {},
   "outputs": [],
   "source": []
  },
  {
   "cell_type": "code",
   "execution_count": null,
   "id": "4394be09-a16d-4292-a1cc-78b8659665fe",
   "metadata": {},
   "outputs": [],
   "source": []
  },
  {
   "cell_type": "code",
   "execution_count": null,
   "id": "1ab77f55-e132-4c8f-bf34-cd6fdedf8b6b",
   "metadata": {},
   "outputs": [],
   "source": []
  },
  {
   "cell_type": "code",
   "execution_count": null,
   "id": "a9f0e3a9-2148-4ccb-86ee-58d2f096a897",
   "metadata": {},
   "outputs": [],
   "source": []
  },
  {
   "cell_type": "code",
   "execution_count": null,
   "id": "3ba67d7d-8e5f-422a-a50c-ad364f79d846",
   "metadata": {},
   "outputs": [],
   "source": []
  },
  {
   "cell_type": "code",
   "execution_count": null,
   "id": "e756e84d-04aa-4d20-9d26-8093902ff87b",
   "metadata": {},
   "outputs": [],
   "source": []
  },
  {
   "cell_type": "code",
   "execution_count": null,
   "id": "5fc23f4a-a5ed-4f7f-bab7-43f83b493de9",
   "metadata": {},
   "outputs": [],
   "source": []
  },
  {
   "cell_type": "code",
   "execution_count": null,
   "id": "d4bab683-1573-48cf-a78d-4b14ad14c563",
   "metadata": {},
   "outputs": [],
   "source": []
  }
 ],
 "metadata": {
  "kernelspec": {
   "display_name": "Python 3 (ipykernel)",
   "language": "python",
   "name": "python3"
  },
  "language_info": {
   "codemirror_mode": {
    "name": "ipython",
    "version": 3
   },
   "file_extension": ".py",
   "mimetype": "text/x-python",
   "name": "python",
   "nbconvert_exporter": "python",
   "pygments_lexer": "ipython3",
   "version": "3.10.4"
  }
 },
 "nbformat": 4,
 "nbformat_minor": 5
}
