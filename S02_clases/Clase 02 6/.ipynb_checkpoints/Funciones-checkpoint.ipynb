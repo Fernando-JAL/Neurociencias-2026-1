{
 "cells": [
  {
   "cell_type": "markdown",
   "id": "ca72a072-7609-4459-b96f-3f15271435d1",
   "metadata": {},
   "source": [
    "# Funciones\n",
    "\n",
    "Son fragmentos de código que se pueden ejecutar múltoples veces. Pueden recibir y/o devolver información/datos/variables para comunicarse con el código/proceso principal"
   ]
  },
  {
   "cell_type": "code",
   "execution_count": 8,
   "id": "c7a1d9e0-2cdd-46c3-8d08-2e6a89575f77",
   "metadata": {},
   "outputs": [],
   "source": [
    "def saludar():\n",
    "    print('hello world, Dennis Ritchie')"
   ]
  },
  {
   "cell_type": "code",
   "execution_count": 9,
   "id": "6e08bfb4-19a0-41ee-b985-49b44a722b30",
   "metadata": {},
   "outputs": [
    {
     "name": "stdout",
     "output_type": "stream",
     "text": [
      "hello world, Dennis Ritchie\n"
     ]
    }
   ],
   "source": [
    "saludar()"
   ]
  },
  {
   "cell_type": "code",
   "execution_count": 10,
   "id": "07714a32-00d1-407e-94de-0f7e3a22dfbf",
   "metadata": {},
   "outputs": [
    {
     "name": "stdout",
     "output_type": "stream",
     "text": [
      "hello world, Dennis Ritchie\n",
      "hello world, Dennis Ritchie\n",
      "hello world, Dennis Ritchie\n"
     ]
    }
   ],
   "source": [
    "for _ in range(3):\n",
    "    saludar()"
   ]
  },
  {
   "cell_type": "code",
   "execution_count": 11,
   "id": "3ed0699f-7d4c-4161-b190-ebc79d8ffc0d",
   "metadata": {},
   "outputs": [
    {
     "data": {
      "text/plain": [
       "7.0"
      ]
     },
     "execution_count": 11,
     "metadata": {},
     "output_type": "execute_result"
    }
   ],
   "source": [
    "lista = [3,5,7,9,11]\n",
    "\n",
    "sum(lista) / len(lista)"
   ]
  },
  {
   "cell_type": "code",
   "execution_count": 27,
   "id": "04d5e70f-2a17-4dc8-92ed-496e849d3612",
   "metadata": {},
   "outputs": [],
   "source": [
    "def promedio(lista):\n",
    "    valor_promedio= sum(lista)/len(lista)\n",
    "    print(f'El promedio de los números es {valor_promedio}')\n",
    "    return valor_promedio"
   ]
  },
  {
   "cell_type": "code",
   "execution_count": 29,
   "id": "a56412d2-3485-4f4f-8646-c4d79ff8067d",
   "metadata": {},
   "outputs": [
    {
     "name": "stdout",
     "output_type": "stream",
     "text": [
      "El promedio de los números es 7.0\n"
     ]
    },
    {
     "data": {
      "text/plain": [
       "7.0"
      ]
     },
     "execution_count": 29,
     "metadata": {},
     "output_type": "execute_result"
    }
   ],
   "source": [
    "promedio (lista)"
   ]
  },
  {
   "cell_type": "code",
   "execution_count": 30,
   "id": "56bceac4-5d75-4162-8dd2-b3e864d3d902",
   "metadata": {},
   "outputs": [
    {
     "name": "stdout",
     "output_type": "stream",
     "text": [
      "El promedio de los números es 7.0\n"
     ]
    }
   ],
   "source": [
    "valor_f = promedio (lista)"
   ]
  },
  {
   "cell_type": "code",
   "execution_count": 38,
   "id": "e02f94de-4e22-4307-89ba-72fa45412ce5",
   "metadata": {},
   "outputs": [],
   "source": [
    "def minimo(val_a, val_b):\n",
    "    val_minimo = min(val_a, val_b)\n",
    "    return val_minimo"
   ]
  },
  {
   "cell_type": "code",
   "execution_count": 39,
   "id": "8931ceef-bbaf-49fb-9f35-3509af8cdf38",
   "metadata": {},
   "outputs": [
    {
     "data": {
      "text/plain": [
       "-50"
      ]
     },
     "execution_count": 39,
     "metadata": {},
     "output_type": "execute_result"
    }
   ],
   "source": [
    "minimo(-10, -50)"
   ]
  },
  {
   "cell_type": "markdown",
   "id": "5dac1577-e8e5-4fd5-92f7-3a693bc8a718",
   "metadata": {},
   "source": [
    "# Ejercicio\n",
    "Hacer una función para calcular el factorial de un número"
   ]
  },
  {
   "cell_type": "code",
   "execution_count": 76,
   "id": "64ce1886-4c7a-4c95-8396-30b61525caf7",
   "metadata": {},
   "outputs": [
    {
     "ename": "IndentationError",
     "evalue": "expected an indented block after function definition on line 2 (2188103679.py, line 3)",
     "output_type": "error",
     "traceback": [
      "\u001b[1;36m  Cell \u001b[1;32mIn[76], line 3\u001b[1;36m\u001b[0m\n\u001b[1;33m    resultado=1\u001b[0m\n\u001b[1;37m    ^\u001b[0m\n\u001b[1;31mIndentationError\u001b[0m\u001b[1;31m:\u001b[0m expected an indented block after function definition on line 2\n"
     ]
    }
   ],
   "source": [
    "n= 5\n",
    "def factorial (valor):\n",
    "resultado=1\n",
    "for val in range(1, n + 1):\n",
    "    resultado *= val\n",
    "    return resultado\n",
    "\n",
    "factorial(15)"
   ]
  },
  {
   "cell_type": "code",
   "execution_count": null,
   "id": "ce2ddb81-dd44-4f2f-af92-edea0b4b1aa4",
   "metadata": {},
   "outputs": [],
   "source": []
  },
  {
   "cell_type": "code",
   "execution_count": null,
   "id": "9f76802d-7ef7-4539-ab95-a94ae6f824b6",
   "metadata": {},
   "outputs": [],
   "source": []
  }
 ],
 "metadata": {
  "kernelspec": {
   "display_name": "Python 3 (ipykernel)",
   "language": "python",
   "name": "python3"
  },
  "language_info": {
   "codemirror_mode": {
    "name": "ipython",
    "version": 3
   },
   "file_extension": ".py",
   "mimetype": "text/x-python",
   "name": "python",
   "nbconvert_exporter": "python",
   "pygments_lexer": "ipython3",
   "version": "3.10.4"
  }
 },
 "nbformat": 4,
 "nbformat_minor": 5
}
