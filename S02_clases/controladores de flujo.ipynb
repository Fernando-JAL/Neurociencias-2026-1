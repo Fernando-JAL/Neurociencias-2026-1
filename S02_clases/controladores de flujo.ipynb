{
 "cells": [
  {
   "cell_type": "markdown",
   "id": "399feeab-ddf4-45e3-ad4e-63bf88de7663",
   "metadata": {},
   "source": [
    "# Controladores de flujo\n",
    "###### Nos permiten evaluar si una o más condiciones se cumplen, para decidir \n",
    "q acciones se van a ejecutar\n",
    "La evaluación de condiciones solo da como resultado un boleano\n",
    "\n",
    "Los contraloderes de flujo son:\n",
    "-if (haz esto si se cumple esta condición)\n",
    "-elif (alternativa para el if, pero q aun requiere condicional. osea, haz esto y tambien esto otro)\n",
    "-else(si no se cumple esta condición entonces haz esto otro)\n",
    "-while( crea bucles mienstras las condiciones sean verdaderas)\n",
    "-for(recorre cada elemento)\n",
    "\n",
    "\n"
   ]
  },
  {
   "cell_type": "code",
   "execution_count": 7,
   "id": "04206ed4-7933-496e-b1ea-179154919bc2",
   "metadata": {},
   "outputs": [
    {
     "name": "stdout",
     "output_type": "stream",
     "text": [
      "entro al if\n"
     ]
    }
   ],
   "source": [
    "if True:\n",
    "  print(\"entro al if\")\n"
   ]
  },
  {
   "cell_type": "code",
   "execution_count": 9,
   "id": "278b65f1-a3a7-4b8f-9073-02580ec8c71e",
   "metadata": {},
   "outputs": [],
   "source": [
    "a = 2\n",
    "\n",
    "if a>3:\n",
    "    print(\"entro al if\")"
   ]
  },
  {
   "cell_type": "markdown",
   "id": "553b747c-e797-4996-bf73-6aef3592ad06",
   "metadata": {},
   "source": [
    "al final del if hay que poner :\n",
    "hay que ponerle esos espacios tmb"
   ]
  },
  {
   "cell_type": "code",
   "execution_count": 19,
   "id": "9573625c-12ff-403f-bd1f-580b42072988",
   "metadata": {},
   "outputs": [
    {
     "name": "stdout",
     "output_type": "stream",
     "text": [
      "a mayor que 5\n"
     ]
    }
   ],
   "source": [
    "a = 6\n",
    "if a> 5:\n",
    "    print(\"a mayor que 5\")\n",
    "else:\n",
    "    print(\"pos a no es mayor que 5\")"
   ]
  },
  {
   "cell_type": "code",
   "execution_count": 25,
   "id": "622bd605-f452-4d52-87ad-ffa00a38ec87",
   "metadata": {},
   "outputs": [
    {
     "name": "stdout",
     "output_type": "stream",
     "text": [
      "a es par\n",
      "b es positivo\n",
      "continuamos...\n"
     ]
    }
   ],
   "source": [
    "a, b = 10,5\n",
    "if a % 2 == 0:\n",
    "   print(\"a es par\")\n",
    "   if b > 0:\n",
    "        print(\"b es positivo\")\n",
    "   else: \n",
    "        print( \"b es gruñon\")\n",
    "else:\n",
    "    print(\"a es impar y b no ne importa\")\n",
    "    \n",
    "print(\"continuamos...\")    \n",
    "        \n"
   ]
  },
  {
   "cell_type": "code",
   "execution_count": 30,
   "id": "6ae0212c-c5fa-4e79-83a8-e3bc0e570dc3",
   "metadata": {},
   "outputs": [
    {
     "name": "stdout",
     "output_type": "stream",
     "text": [
      "q es par\n"
     ]
    }
   ],
   "source": [
    "a= 2\n",
    "if a%2 ==0:\n",
    " print( \"q es par\")\n",
    "else: \n",
    "    pass\n"
   ]
  },
  {
   "cell_type": "code",
   "execution_count": null,
   "id": "94daf936-9364-43bc-965e-8a8b6c65179e",
   "metadata": {},
   "outputs": [],
   "source": [
    "lista = [5,6,7}\n",
    "         a, b ="
   ]
  },
  {
   "cell_type": "code",
   "execution_count": null,
   "id": "a1256619-aeea-4c7d-98b1-cdcab310d8fb",
   "metadata": {},
   "outputs": [],
   "source": []
  },
  {
   "cell_type": "code",
   "execution_count": null,
   "id": "a73968fd-e3e9-42db-bd31-1dbc89e394e4",
   "metadata": {},
   "outputs": [],
   "source": []
  },
  {
   "cell_type": "code",
   "execution_count": null,
   "id": "4f812457-1e17-4332-b74e-dd3f5c0e5c4d",
   "metadata": {},
   "outputs": [],
   "source": []
  }
 ],
 "metadata": {
  "kernelspec": {
   "display_name": "Python 3 (ipykernel)",
   "language": "python",
   "name": "python3"
  },
  "language_info": {
   "codemirror_mode": {
    "name": "ipython",
    "version": 3
   },
   "file_extension": ".py",
   "mimetype": "text/x-python",
   "name": "python",
   "nbconvert_exporter": "python",
   "pygments_lexer": "ipython3",
   "version": "3.10.4"
  }
 },
 "nbformat": 4,
 "nbformat_minor": 5
}
