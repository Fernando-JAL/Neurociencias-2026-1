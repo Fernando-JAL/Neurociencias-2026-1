{
 "cells": [
  {
   "cell_type": "code",
   "execution_count": 3,
   "id": "ed7ee20e-97c1-4caf-8c00-09fb6bc1bd72",
   "metadata": {},
   "outputs": [
    {
     "name": "stdout",
     "output_type": "stream",
     "text": [
      "zsh:1: command not found: pip\n"
     ]
    }
   ],
   "source": [
    "!pip install numpy"
   ]
  },
  {
   "cell_type": "code",
   "execution_count": 4,
   "id": "070bc1ac-2310-43f8-9da5-ad11ea966611",
   "metadata": {},
   "outputs": [
    {
     "ename": "ModuleNotFoundError",
     "evalue": "No module named 'numpy'",
     "output_type": "error",
     "traceback": [
      "\u001b[31m---------------------------------------------------------------------------\u001b[39m",
      "\u001b[31mModuleNotFoundError\u001b[39m                       Traceback (most recent call last)",
      "\u001b[36mCell\u001b[39m\u001b[36m \u001b[39m\u001b[32mIn[4]\u001b[39m\u001b[32m, line 1\u001b[39m\n\u001b[32m----> \u001b[39m\u001b[32m1\u001b[39m \u001b[38;5;28;01mimport\u001b[39;00m\u001b[38;5;250m \u001b[39m\u001b[34;01mnumpy\u001b[39;00m\u001b[38;5;250m \u001b[39m\u001b[38;5;28;01mas\u001b[39;00m\u001b[38;5;250m \u001b[39m\u001b[34;01mnp\u001b[39;00m\n",
      "\u001b[31mModuleNotFoundError\u001b[39m: No module named 'numpy'"
     ]
    }
   ],
   "source": [
    "import numpy as np"
   ]
  },
  {
   "cell_type": "code",
   "execution_count": 9,
   "id": "76658724-87a1-4e7c-ae7a-8705bba8a431",
   "metadata": {},
   "outputs": [
    {
     "name": "stdout",
     "output_type": "stream",
     "text": [
      "value = 5.0, data type = <class 'numpy.ndarray'>\n"
     ]
    }
   ],
   "source": [
    "# Convertir de datos a arreglos\n",
    "\n",
    "value = np.array(5.)\n",
    "print(f\"value = {value}, data type = {type(value)}\")"
   ]
  },
  {
   "cell_type": "code",
   "execution_count": 10,
   "id": "c6a5549c-2ab3-4a14-b1c5-d38428082d3a",
   "metadata": {},
   "outputs": [
    {
     "data": {
      "text/plain": [
       "array(5)"
      ]
     },
     "execution_count": 10,
     "metadata": {},
     "output_type": "execute_result"
    }
   ],
   "source": [
    "np.array(5)"
   ]
  },
  {
   "cell_type": "code",
   "execution_count": 11,
   "id": "c1bd3187-f2f7-42f9-9bdc-62db05039268",
   "metadata": {},
   "outputs": [
    {
     "data": {
      "text/plain": [
       "array([-5, -4, -3, -2])"
      ]
     },
     "execution_count": 11,
     "metadata": {},
     "output_type": "execute_result"
    }
   ],
   "source": [
    "np.array(range(-7,6))[2:6]"
   ]
  },
  {
   "cell_type": "code",
   "execution_count": 13,
   "id": "853a27b6-bce1-4343-afa3-023a9e520bcc",
   "metadata": {},
   "outputs": [
    {
     "data": {
      "text/plain": [
       "(array([0, 1, 2, 3, 4]), array([-10,  -9,  -8,  -7,  -6]))"
      ]
     },
     "execution_count": 13,
     "metadata": {},
     "output_type": "execute_result"
    }
   ],
   "source": [
    "a, b = np.arange(5), np.arange(-10, -5)\n",
    "a , b"
   ]
  },
  {
   "cell_type": "code",
   "execution_count": 14,
   "id": "a9c16d8a-f9d6-49be-af6d-d7aef0bb8faf",
   "metadata": {},
   "outputs": [
    {
     "data": {
      "text/plain": [
       "array([-10,  -8,  -6,  -4,  -2])"
      ]
     },
     "execution_count": 14,
     "metadata": {},
     "output_type": "execute_result"
    }
   ],
   "source": [
    "a + b"
   ]
  },
  {
   "cell_type": "code",
   "execution_count": 15,
   "id": "96005454-0bc2-4c2f-a02d-d421095fc262",
   "metadata": {},
   "outputs": [
    {
     "data": {
      "text/plain": [
       "array([-10, -10, -10, -10, -10])"
      ]
     },
     "execution_count": 15,
     "metadata": {},
     "output_type": "execute_result"
    }
   ],
   "source": [
    "b - a"
   ]
  },
  {
   "cell_type": "code",
   "execution_count": 16,
   "id": "8a311654-2f84-4444-ab43-5b7fe95c81f1",
   "metadata": {},
   "outputs": [
    {
     "data": {
      "text/plain": [
       "array([ 0,  6, 12, 18, 24])"
      ]
     },
     "execution_count": 16,
     "metadata": {},
     "output_type": "execute_result"
    }
   ],
   "source": [
    "6*a"
   ]
  },
  {
   "cell_type": "code",
   "execution_count": 17,
   "id": "ed7e5fd1-07af-42ae-ac96-3a8ec4833f3e",
   "metadata": {},
   "outputs": [
    {
     "data": {
      "text/plain": [
       "array([0.        , 0.33333333, 0.66666667, 1.        , 1.33333333])"
      ]
     },
     "execution_count": 17,
     "metadata": {},
     "output_type": "execute_result"
    }
   ],
   "source": [
    "a/3"
   ]
  },
  {
   "cell_type": "code",
   "execution_count": 18,
   "id": "420db669-7a38-4fa6-bdd0-2231b381fd08",
   "metadata": {},
   "outputs": [
    {
     "data": {
      "text/plain": [
       "array([18, 19, 20, 21, 22])"
      ]
     },
     "execution_count": 18,
     "metadata": {},
     "output_type": "execute_result"
    }
   ],
   "source": [
    "a + 18"
   ]
  },
  {
   "cell_type": "code",
   "execution_count": 19,
   "id": "28429ff3-8f11-48f1-a318-a62ac983b0f4",
   "metadata": {},
   "outputs": [
    {
     "data": {
      "text/plain": [
       "array([ 0,  1,  8, 27, 64])"
      ]
     },
     "execution_count": 19,
     "metadata": {},
     "output_type": "execute_result"
    }
   ],
   "source": [
    "a**3  # potencia"
   ]
  },
  {
   "cell_type": "code",
   "execution_count": 20,
   "id": "a74995bf-2ed9-4dff-aa42-06a01874772b",
   "metadata": {},
   "outputs": [
    {
     "data": {
      "text/plain": [
       "array([  0,  -9, -16, -21, -24])"
      ]
     },
     "execution_count": 20,
     "metadata": {},
     "output_type": "execute_result"
    }
   ],
   "source": [
    "a * b"
   ]
  },
  {
   "cell_type": "code",
   "execution_count": 21,
   "id": "7c5392dc-fc10-4839-b2db-13ced89c89f8",
   "metadata": {},
   "outputs": [
    {
     "data": {
      "text/plain": [
       "array([ 0, -1, -1, -1, -1])"
      ]
     },
     "execution_count": 21,
     "metadata": {},
     "output_type": "execute_result"
    }
   ],
   "source": []
  },
  {
   "cell_type": "code",
   "execution_count": 22,
   "id": "08a70b14-9ad4-4d67-84c4-cf9faf779735",
   "metadata": {},
   "outputs": [
    {
     "name": "stderr",
     "output_type": "stream",
     "text": [
      "C:\\Users\\V304-23\\AppData\\Local\\Temp\\ipykernel_9984\\1491818542.py:1: RuntimeWarning: divide by zero encountered in divide\n",
      "  b / a\n"
     ]
    },
    {
     "data": {
      "text/plain": [
       "array([       -inf, -9.        , -4.        , -2.33333333, -1.5       ])"
      ]
     },
     "execution_count": 22,
     "metadata": {},
     "output_type": "execute_result"
    }
   ],
   "source": [
    "b / a  #no se puede dividir entre 0"
   ]
  },
  {
   "cell_type": "code",
   "execution_count": 23,
   "id": "de564997-b128-43f3-96ac-83cab0d16693",
   "metadata": {},
   "outputs": [
    {
     "ename": "ValueError",
     "evalue": "Integers to negative integer powers are not allowed.",
     "output_type": "error",
     "traceback": [
      "\u001b[31m---------------------------------------------------------------------------\u001b[39m",
      "\u001b[31mValueError\u001b[39m                                Traceback (most recent call last)",
      "\u001b[36mCell\u001b[39m\u001b[36m \u001b[39m\u001b[32mIn[23]\u001b[39m\u001b[32m, line 1\u001b[39m\n\u001b[32m----> \u001b[39m\u001b[32m1\u001b[39m \u001b[43ma\u001b[49m\u001b[43m \u001b[49m\u001b[43m*\u001b[49m\u001b[43m*\u001b[49m\u001b[43m \u001b[49m\u001b[43mb\u001b[49m\n",
      "\u001b[31mValueError\u001b[39m: Integers to negative integer powers are not allowed."
     ]
    }
   ],
   "source": [
    "a ** b"
   ]
  },
  {
   "cell_type": "code",
   "execution_count": 24,
   "id": "8a9e92c0-e185-4201-8805-b49ff2e7e927",
   "metadata": {},
   "outputs": [
    {
     "data": {
      "text/plain": [
       "array([0.        , 1.        , 1.25992105, 1.44224957, 1.58740105])"
      ]
     },
     "execution_count": 24,
     "metadata": {},
     "output_type": "execute_result"
    }
   ],
   "source": [
    "a ** (1/3)  #raiz cubica"
   ]
  },
  {
   "cell_type": "code",
   "execution_count": 25,
   "id": "c060b444-f830-40c4-a7ce-1f4f69900c0d",
   "metadata": {},
   "outputs": [
    {
     "data": {
      "text/plain": [
       "array([   1,   -9,   64, -343, 1296])"
      ]
     },
     "execution_count": 25,
     "metadata": {},
     "output_type": "execute_result"
    }
   ],
   "source": [
    "b ** a"
   ]
  },
  {
   "cell_type": "code",
   "execution_count": 26,
   "id": "07db9132-1fd6-4b76-a925-edc53e6dffd6",
   "metadata": {},
   "outputs": [
    {
     "name": "stderr",
     "output_type": "stream",
     "text": [
      "C:\\Users\\V304-23\\AppData\\Local\\Temp\\ipykernel_9984\\3261360213.py:1: RuntimeWarning: divide by zero encountered in divide\n",
      "  b**(1/a)\n",
      "C:\\Users\\V304-23\\AppData\\Local\\Temp\\ipykernel_9984\\3261360213.py:1: RuntimeWarning: invalid value encountered in power\n",
      "  b**(1/a)\n"
     ]
    },
    {
     "data": {
      "text/plain": [
       "array([inf, -9., nan, nan, nan])"
      ]
     },
     "execution_count": 26,
     "metadata": {},
     "output_type": "execute_result"
    }
   ],
   "source": [
    "b**(1/a)  #El error viene del infinito y de 0"
   ]
  },
  {
   "cell_type": "code",
   "execution_count": 27,
   "id": "834ddd0f-2aef-4b1f-b091-5d20d397aae4",
   "metadata": {},
   "outputs": [
    {
     "data": {
      "text/plain": [
       "array([0.        , 1.        , 1.41421356, 1.73205081, 2.        ])"
      ]
     },
     "execution_count": 27,
     "metadata": {},
     "output_type": "execute_result"
    }
   ],
   "source": [
    "a ** (0.5)  #raiz cuadrada"
   ]
  },
  {
   "cell_type": "code",
   "execution_count": 28,
   "id": "f4d09f8f-d9bc-4bfb-b1b6-ae105c33f592",
   "metadata": {},
   "outputs": [
    {
     "data": {
      "text/plain": [
       "2.8284271247461903"
      ]
     },
     "execution_count": 28,
     "metadata": {},
     "output_type": "execute_result"
    }
   ],
   "source": [
    "64 ** (1/4)"
   ]
  },
  {
   "cell_type": "code",
   "execution_count": 29,
   "id": "5b6f1a17-4185-4915-93b5-9b6f375a7f4b",
   "metadata": {},
   "outputs": [
    {
     "data": {
      "text/plain": [
       "3.0"
      ]
     },
     "execution_count": 29,
     "metadata": {},
     "output_type": "execute_result"
    }
   ],
   "source": [
    "27 ** (1/3)"
   ]
  },
  {
   "cell_type": "code",
   "execution_count": 30,
   "id": "b1c4fba9-3d3f-4378-a334-76e10b3e5c02",
   "metadata": {},
   "outputs": [
    {
     "data": {
      "text/plain": [
       "11.0"
      ]
     },
     "execution_count": 30,
     "metadata": {},
     "output_type": "execute_result"
    }
   ],
   "source": [
    "121**(0.5)"
   ]
  },
  {
   "cell_type": "code",
   "execution_count": 31,
   "id": "5db5f96b-640a-44ca-9023-421556af323f",
   "metadata": {},
   "outputs": [
    {
     "data": {
      "text/plain": [
       "11.0"
      ]
     },
     "execution_count": 31,
     "metadata": {},
     "output_type": "execute_result"
    }
   ],
   "source": [
    "121**(1/2)"
   ]
  },
  {
   "cell_type": "code",
   "execution_count": 36,
   "id": "8d10c4ee-7b4b-4073-9d6a-29606c41ea60",
   "metadata": {},
   "outputs": [
    {
     "data": {
      "text/plain": [
       "(-2.8284271247461903, (1.1066819197003217+1.1066819197003217j))"
      ]
     },
     "execution_count": 36,
     "metadata": {},
     "output_type": "execute_result"
    }
   ],
   "source": [
    "-8 **(0.5), (-6) ** (1/4)"
   ]
  },
  {
   "cell_type": "code",
   "execution_count": 34,
   "id": "05196d00-5342-4af6-91cb-8dddb87d403c",
   "metadata": {},
   "outputs": [
    {
     "data": {
      "text/plain": [
       "(1.7319121124709868e-16+2.8284271247461903j)"
      ]
     },
     "execution_count": 34,
     "metadata": {},
     "output_type": "execute_result"
    }
   ],
   "source": [
    "(-8)**(1/2) #Forma un número complejo"
   ]
  },
  {
   "cell_type": "code",
   "execution_count": 35,
   "id": "3e0fc2d6-854c-45df-a9a6-6a7984636c65",
   "metadata": {},
   "outputs": [
    {
     "data": {
      "text/plain": [
       "(0.9564655913861947+1.656646999972302j)"
      ]
     },
     "execution_count": 35,
     "metadata": {},
     "output_type": "execute_result"
    }
   ],
   "source": [
    "(-7) ** (1/3)"
   ]
  },
  {
   "cell_type": "code",
   "execution_count": 37,
   "id": "3099e268-3c6e-4e50-910e-9610514422a6",
   "metadata": {},
   "outputs": [
    {
     "data": {
      "text/plain": [
       "array([ 5, 10])"
      ]
     },
     "execution_count": 37,
     "metadata": {},
     "output_type": "execute_result"
    }
   ],
   "source": [
    "vec = np.array([5, 10])\n",
    "vec"
   ]
  },
  {
   "cell_type": "code",
   "execution_count": 38,
   "id": "5496da26-57cb-43b7-9034-e3f6f327a136",
   "metadata": {},
   "outputs": [
    {
     "data": {
      "text/plain": [
       "array([ 5, 10])"
      ]
     },
     "execution_count": 38,
     "metadata": {},
     "output_type": "execute_result"
    }
   ],
   "source": [
    "vec.transpose()"
   ]
  },
  {
   "cell_type": "code",
   "execution_count": 40,
   "id": "c7549c1d-6881-4cf0-8b3a-1a27f7fd8940",
   "metadata": {},
   "outputs": [
    {
     "data": {
      "text/plain": [
       "array([[ 4, -1],\n",
       "       [-7,  2]])"
      ]
     },
     "execution_count": 40,
     "metadata": {},
     "output_type": "execute_result"
    }
   ],
   "source": [
    "vec2D = np.array([[4, -1], [-7,2]])\n",
    "vec2D     #MATRIZ"
   ]
  },
  {
   "cell_type": "code",
   "execution_count": 41,
   "id": "dc0b455c-6309-4ae3-ba58-40beeec2ba74",
   "metadata": {},
   "outputs": [
    {
     "data": {
      "text/plain": [
       "(array([[ 4, -7],\n",
       "        [-1,  2]]),\n",
       " array([[ 4, -7],\n",
       "        [-1,  2]]))"
      ]
     },
     "execution_count": 41,
     "metadata": {},
     "output_type": "execute_result"
    }
   ],
   "source": [
    "vec2D.transpose(), vec2D.T  #operacion arroba (producto matricial)"
   ]
  },
  {
   "cell_type": "code",
   "execution_count": 42,
   "id": "357029bb-5fb3-4e9a-8ea6-806b9923f5a5",
   "metadata": {},
   "outputs": [
    {
     "data": {
      "text/plain": [
       "(array([[1, 2],\n",
       "        [3, 4]]),\n",
       " array([[ 4, -1],\n",
       "        [-7,  2]]))"
      ]
     },
     "execution_count": 42,
     "metadata": {},
     "output_type": "execute_result"
    }
   ],
   "source": [
    "vec1= np.array([[1, 2], [3, 4]])\n",
    "vec1, vec2D"
   ]
  },
  {
   "cell_type": "code",
   "execution_count": 44,
   "id": "c29a26ed-4311-41e4-9972-79730faa8596",
   "metadata": {},
   "outputs": [
    {
     "data": {
      "text/plain": [
       "array([[-10,   3],\n",
       "       [-16,   5]])"
      ]
     },
     "execution_count": 44,
     "metadata": {},
     "output_type": "execute_result"
    }
   ],
   "source": [
    "resultado = vec1 @ vec2D  #Aquí multiplican filas con columnas\n",
    "resultado"
   ]
  },
  {
   "cell_type": "code",
   "execution_count": 49,
   "id": "da7a6973-8038-4bd1-8f75-12f632d0dcaf",
   "metadata": {},
   "outputs": [
    {
     "data": {
      "text/plain": [
       "np.int64(-16)"
      ]
     },
     "execution_count": 49,
     "metadata": {},
     "output_type": "execute_result"
    }
   ],
   "source": [
    "resultado[1] [0]  #Doble slicing"
   ]
  },
  {
   "cell_type": "code",
   "execution_count": 46,
   "id": "721fce1a-8025-4039-9ae6-5776a2b75cf6",
   "metadata": {},
   "outputs": [
    {
     "data": {
      "text/plain": [
       "array([-16,   5])"
      ]
     },
     "execution_count": 46,
     "metadata": {},
     "output_type": "execute_result"
    }
   ],
   "source": [
    "resultado[1]"
   ]
  },
  {
   "cell_type": "code",
   "execution_count": 47,
   "id": "4ab022da-4455-4e26-b81e-6c9bc6c5fa98",
   "metadata": {},
   "outputs": [
    {
     "data": {
      "text/plain": [
       "array([-10,   3])"
      ]
     },
     "execution_count": 47,
     "metadata": {},
     "output_type": "execute_result"
    }
   ],
   "source": [
    "resultado[0]"
   ]
  },
  {
   "cell_type": "code",
   "execution_count": 2,
   "id": "9bfa1da3-002e-475e-9867-4178fbdc8755",
   "metadata": {},
   "outputs": [
    {
     "ename": "NameError",
     "evalue": "name 'np' is not defined",
     "output_type": "error",
     "traceback": [
      "\u001b[31m---------------------------------------------------------------------------\u001b[39m",
      "\u001b[31mNameError\u001b[39m                                 Traceback (most recent call last)",
      "\u001b[36mCell\u001b[39m\u001b[36m \u001b[39m\u001b[32mIn[2]\u001b[39m\u001b[32m, line 1\u001b[39m\n\u001b[32m----> \u001b[39m\u001b[32m1\u001b[39m matriz = \u001b[43mnp\u001b[49m.array([[\u001b[32m0\u001b[39m,\u001b[32m5\u001b[39m,\u001b[32m10\u001b[39m],\n\u001b[32m      2\u001b[39m                    [\u001b[32m15\u001b[39m, \u001b[32m20\u001b[39m, \u001b[32m25\u001b[39m],\n\u001b[32m      3\u001b[39m                    [\u001b[32m99\u001b[39m, \u001b[32m35\u001b[39m, \u001b[32m40\u001b[39m]])\n",
      "\u001b[31mNameError\u001b[39m: name 'np' is not defined"
     ]
    }
   ],
   "source": [
    "matriz = np.array([[0,5,10],\n",
    "                   [15, 20, 25],\n",
    "                   [99, 35, 40]])"
   ]
  },
  {
   "cell_type": "code",
   "execution_count": 51,
   "id": "5a1ac389-eaea-4515-8b3d-04e6feba5a25",
   "metadata": {},
   "outputs": [
    {
     "data": {
      "text/plain": [
       "array([99, 35])"
      ]
     },
     "execution_count": 51,
     "metadata": {},
     "output_type": "execute_result"
    }
   ],
   "source": [
    "matriz [2][0:-1]"
   ]
  },
  {
   "cell_type": "code",
   "execution_count": 52,
   "id": "fd4ad5f5-113d-478b-8199-562c669b1123",
   "metadata": {},
   "outputs": [
    {
     "data": {
      "text/plain": [
       "array([[ 0,  5, 10],\n",
       "       [15, 20, 25],\n",
       "       [99, 35, 40]])"
      ]
     },
     "execution_count": 52,
     "metadata": {},
     "output_type": "execute_result"
    }
   ],
   "source": [
    "matriz [:][:]"
   ]
  },
  {
   "cell_type": "code",
   "execution_count": 64,
   "id": "8f668115-3f4b-460f-a0f0-d990355fb59c",
   "metadata": {},
   "outputs": [
    {
     "data": {
      "text/plain": [
       "array([[15, 20, 25],\n",
       "       [99, 35, 40]])"
      ]
     },
     "execution_count": 64,
     "metadata": {},
     "output_type": "execute_result"
    }
   ],
   "source": [
    "matriz [1:][:] "
   ]
  },
  {
   "cell_type": "code",
   "execution_count": 65,
   "id": "38e5c5ce-74c9-4983-be12-ce6a79787140",
   "metadata": {},
   "outputs": [
    {
     "data": {
      "text/plain": [
       "array([[15, 20, 25],\n",
       "       [99, 35, 40]])"
      ]
     },
     "execution_count": 65,
     "metadata": {},
     "output_type": "execute_result"
    }
   ],
   "source": [
    "matriz [1:]"
   ]
  },
  {
   "cell_type": "code",
   "execution_count": 1,
   "id": "1f857da0-8f35-4328-8d55-5cb06826c5a5",
   "metadata": {},
   "outputs": [
    {
     "ename": "NameError",
     "evalue": "name 'matriz' is not defined",
     "output_type": "error",
     "traceback": [
      "\u001b[31m---------------------------------------------------------------------------\u001b[39m",
      "\u001b[31mNameError\u001b[39m                                 Traceback (most recent call last)",
      "\u001b[36mCell\u001b[39m\u001b[36m \u001b[39m\u001b[32mIn[1]\u001b[39m\u001b[32m, line 3\u001b[39m\n\u001b[32m      1\u001b[39m \u001b[38;5;66;03m# Tarea ver el slicing para obtener los datos de la columna de enmedio\u001b[39;00m\n\u001b[32m----> \u001b[39m\u001b[32m3\u001b[39m \u001b[43mmatriz\u001b[49m [:,\u001b[32m1\u001b[39m]\n",
      "\u001b[31mNameError\u001b[39m: name 'matriz' is not defined"
     ]
    }
   ],
   "source": [
    "# Tarea ver el slicing para obtener los datos de la columna de enmedio\n",
    "\n",
    "matriz [:,1]"
   ]
  },
  {
   "cell_type": "code",
   "execution_count": 66,
   "id": "0f918bc4-17cb-4086-98b9-3afbe9b187f3",
   "metadata": {},
   "outputs": [
    {
     "data": {
      "text/plain": [
       "array([[  0,   5,  10],\n",
       "       [-20,  20,  25],\n",
       "       [ 99,  35,  40]])"
      ]
     },
     "execution_count": 66,
     "metadata": {},
     "output_type": "execute_result"
    }
   ],
   "source": [
    "matriz[1][0] = -20\n",
    "matriz"
   ]
  },
  {
   "cell_type": "code",
   "execution_count": 71,
   "id": "a25185e3-3d10-4ad1-82f1-01e0c34106ac",
   "metadata": {},
   "outputs": [
    {
     "name": "stdout",
     "output_type": "stream",
     "text": [
      "0.7442528585517413\n",
      "0.6841172288859179\n",
      "0.6732878698518411\n",
      "0.220551597852236\n",
      "0.9871316036201888\n"
     ]
    }
   ],
   "source": [
    "for _ in range (5):\n",
    "   print(np.random.rand())   #Números aleatorios entre 0 y 1"
   ]
  },
  {
   "cell_type": "code",
   "execution_count": 72,
   "id": "b021e98f-a1b1-46b2-b6ac-aca1c6f0bf1b",
   "metadata": {},
   "outputs": [
    {
     "data": {
      "text/plain": [
       "array([[0.50530137, 0.4806198 , 0.63053671],\n",
       "       [0.22832816, 0.21607094, 0.1521362 ],\n",
       "       [0.16503958, 0.75099994, 0.22580131],\n",
       "       [0.33918528, 0.11831692, 0.07822309],\n",
       "       [0.59332409, 0.02695806, 0.46024055]])"
      ]
     },
     "execution_count": 72,
     "metadata": {},
     "output_type": "execute_result"
    }
   ],
   "source": [
    "np.random.rand(5,3)  #Genera una matriz"
   ]
  },
  {
   "cell_type": "code",
   "execution_count": null,
   "id": "e5ab3de4-06bc-47c3-a66f-f57ee2efbcdd",
   "metadata": {},
   "outputs": [],
   "source": []
  }
 ],
 "metadata": {
  "kernelspec": {
   "display_name": "Python 3 (ipykernel)",
   "language": "python",
   "name": "python3"
  },
  "language_info": {
   "codemirror_mode": {
    "name": "ipython",
    "version": 3
   },
   "file_extension": ".py",
   "mimetype": "text/x-python",
   "name": "python",
   "nbconvert_exporter": "python",
   "pygments_lexer": "ipython3",
   "version": "3.13.7"
  }
 },
 "nbformat": 4,
 "nbformat_minor": 5
}
