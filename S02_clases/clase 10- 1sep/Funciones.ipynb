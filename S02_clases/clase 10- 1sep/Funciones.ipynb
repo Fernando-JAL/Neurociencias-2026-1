{
 "cells": [
  {
   "cell_type": "code",
   "execution_count": 2,
   "id": "12165af4-87bd-490a-8dc5-e0bb9df27c2b",
   "metadata": {},
   "outputs": [
    {
     "data": {
      "text/plain": [
       "0.5"
      ]
     },
     "execution_count": 2,
     "metadata": {},
     "output_type": "execute_result"
    }
   ],
   "source": [
    "def division_entre_dos_numeros(dividendo, divisor):\n",
    "    return dividendo/divisor\n",
    "\n",
    "#Función por posición\n",
    "division_entre_dos_numeros(4,8)"
   ]
  },
  {
   "cell_type": "code",
   "execution_count": 4,
   "id": "0c8bef77-be32-4686-9732-9f52d8e52e84",
   "metadata": {},
   "outputs": [
    {
     "data": {
      "text/plain": [
       "2.0"
      ]
     },
     "execution_count": 4,
     "metadata": {},
     "output_type": "execute_result"
    }
   ],
   "source": [
    "#Función por nombre\n",
    "division_entre_dos_numeros(dividendo=8, divisor=4)"
   ]
  },
  {
   "cell_type": "code",
   "execution_count": 6,
   "id": "3ea10984-e4e8-46c9-879e-517beb97e882",
   "metadata": {},
   "outputs": [
    {
     "data": {
      "text/plain": [
       "14.0"
      ]
     },
     "execution_count": 6,
     "metadata": {},
     "output_type": "execute_result"
    }
   ],
   "source": [
    "def division_entre_dos_numeros(dividendo, divisor, extra = 0):\n",
    "    return dividendo/divisor + extra\n",
    "#Función por posición\n",
    "division_entre_dos_numeros(8,4, 12)"
   ]
  },
  {
   "cell_type": "markdown",
   "id": "7fd946a0-66a4-4a42-a8d7-4977e9042b19",
   "metadata": {},
   "source": [
    "# Funciones recursivas"
   ]
  },
  {
   "cell_type": "code",
   "execution_count": 14,
   "id": "1f028e31-5603-4613-b6ab-4f6e8c9464c1",
   "metadata": {},
   "outputs": [
    {
     "name": "stdout",
     "output_type": "stream",
     "text": [
      "20\n",
      "18\n",
      "16\n",
      "14\n",
      "12\n",
      "10\n",
      "8\n",
      "6\n",
      "4\n",
      "2\n",
      "boom!!!\n",
      "fin de la función 0\n",
      "fin de la función 2\n",
      "fin de la función 4\n",
      "fin de la función 6\n",
      "fin de la función 8\n",
      "fin de la función 10\n",
      "fin de la función 12\n",
      "fin de la función 14\n",
      "fin de la función 16\n",
      "fin de la función 18\n",
      "fin de la función 20\n"
     ]
    }
   ],
   "source": [
    "#Cuenta regresiva anda a llamarse múltiples veces\n",
    "def cuenta_atras(n):\n",
    "    if n > 0:\n",
    "        print(n)\n",
    "        cuenta_atras(n-2)\n",
    "\n",
    "    else:\n",
    "        print (\"boom!!!\")\n",
    "    print(\"fin de la función\", n)\n",
    "\n",
    "cuenta_atras(20)"
   ]
  },
  {
   "cell_type": "markdown",
   "id": "ff7ad022-8383-4d74-b411-b2ea7203bf18",
   "metadata": {},
   "source": [
    "# Función print"
   ]
  },
  {
   "cell_type": "code",
   "execution_count": 19,
   "id": "f5b85b73-1734-4eed-8028-850f5319bba3",
   "metadata": {},
   "outputs": [
    {
     "name": "stdout",
     "output_type": "stream",
     "text": [
      "el valor de la variable es 46.2 9\n"
     ]
    }
   ],
   "source": [
    "variable, variable2= 46.2, 9\n",
    "print(\"el valor de la variable es\", variable, variable2)"
   ]
  },
  {
   "cell_type": "code",
   "execution_count": 21,
   "id": "e0209da6-e66d-4263-9e19-8b2e452bf848",
   "metadata": {},
   "outputs": [
    {
     "name": "stdout",
     "output_type": "stream",
     "text": [
      "el valor de la variable es 46.2, 9\n"
     ]
    }
   ],
   "source": [
    "print(f\"el valor de la variable es {variable}, {variable2}\")   #f de formato"
   ]
  },
  {
   "cell_type": "code",
   "execution_count": 23,
   "id": "e9942397-f86f-49f8-9bf8-93dd2efa77a0",
   "metadata": {},
   "outputs": [
    {
     "name": "stdout",
     "output_type": "stream",
     "text": [
      "el valor de la variable es 46.2, 9\n"
     ]
    }
   ],
   "source": [
    "print(\"el valor de la variable es {}, {}\". format(variable, variable2))"
   ]
  },
  {
   "cell_type": "code",
   "execution_count": 26,
   "id": "b1375eac-938c-42b9-ac6a-fe397e3ebb1d",
   "metadata": {},
   "outputs": [
    {
     "name": "stdout",
     "output_type": "stream",
     "text": [
      "el valor de la variable es 9, 46.2\n"
     ]
    }
   ],
   "source": [
    "print(\"el valor de la variable es {1}, {0}\". format(variable, variable2))"
   ]
  },
  {
   "cell_type": "code",
   "execution_count": 31,
   "id": "beaa232e-8d04-4a00-8fd9-10e7af12dd27",
   "metadata": {},
   "outputs": [],
   "source": [
    "import numpy"
   ]
  },
  {
   "cell_type": "code",
   "execution_count": 29,
   "id": "9a56af20-7a8c-4694-8589-cb6acabd8049",
   "metadata": {},
   "outputs": [],
   "source": []
  },
  {
   "cell_type": "code",
   "execution_count": null,
   "id": "29243f22-a0fe-48d9-ab34-66f7f940dc61",
   "metadata": {},
   "outputs": [],
   "source": []
  }
 ],
 "metadata": {
  "kernelspec": {
   "display_name": "Python 3 (ipykernel)",
   "language": "python",
   "name": "python3"
  },
  "language_info": {
   "codemirror_mode": {
    "name": "ipython",
    "version": 3
   },
   "file_extension": ".py",
   "mimetype": "text/x-python",
   "name": "python",
   "nbconvert_exporter": "python",
   "pygments_lexer": "ipython3",
   "version": "3.13.7"
  }
 },
 "nbformat": 4,
 "nbformat_minor": 5
}
