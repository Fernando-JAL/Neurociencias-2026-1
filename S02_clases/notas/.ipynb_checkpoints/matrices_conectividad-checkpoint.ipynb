{
 "cells": [
  {
   "cell_type": "code",
   "execution_count": 1,
   "id": "ad20c4ef-30f4-45e0-a8af-5e5e0defbc65",
   "metadata": {},
   "outputs": [],
   "source": [
    "import mne\n",
    "import numpy as np\n",
    "import pandas as pd\n",
    "from scipy.signal import coherence, hilbert"
   ]
  },
  {
   "cell_type": "code",
   "execution_count": 4,
   "id": "79367651-60c4-46b6-b002-caad5bbdb096",
   "metadata": {},
   "outputs": [],
   "source": [
    "# ====== CONFIGURACIÓN ======\n",
    "edf_path = r\"C:\\Users\\apgso\\OneDrive\\Documentos\\modelos-2026-1\\Neurociencias-2026-1\\S03_datasets\\EEG_practica\\chb01_01.edf\"\n",
    "sfreq_target = 256            # Frecuencia de muestreo a la que normalizamos (Hz)\n",
    "fmin, fmax = 8, 13            # Banda alfa para la coherencia (puedes ajustar)"
   ]
  },
  {
   "cell_type": "code",
   "execution_count": 5,
   "id": "f618e58a-4d9e-4a8d-a6e6-d1869f070ce2",
   "metadata": {
    "scrolled": true
   },
   "outputs": [
    {
     "name": "stdout",
     "output_type": "stream",
     "text": [
      "Extracting EDF parameters from C:\\Users\\apgso\\OneDrive\\Documentos\\modelos-2026-1\\Neurociencias-2026-1\\S03_datasets\\EEG_practica\\chb01_01.edf...\n",
      "EDF file detected\n",
      "Setting channel info structure...\n",
      "Creating raw.info structure...\n",
      "Reading 0 ... 921599  =      0.000 ...  3599.996 secs...\n"
     ]
    },
    {
     "name": "stderr",
     "output_type": "stream",
     "text": [
      "C:\\Users\\apgso\\AppData\\Local\\Temp\\ipykernel_5672\\1692581060.py:2: RuntimeWarning: Channel names are not unique, found duplicates for: {'T8-P8'}. Applying running numbers for duplicates.\n",
      "  raw = mne.io.read_raw_edf(edf_path, preload=True)\n"
     ]
    },
    {
     "name": "stdout",
     "output_type": "stream",
     "text": [
      "Sampling frequency of the instance is already 256.0, returning unmodified.\n",
      "Filtering raw data in 1 contiguous segment\n",
      "Setting up band-pass filter from 1 - 45 Hz\n",
      "\n",
      "FIR filter parameters\n",
      "---------------------\n",
      "Designing a one-pass, zero-phase, non-causal bandpass filter:\n",
      "- Windowed time-domain design (firwin) method\n",
      "- Hamming window with 0.0194 passband ripple and 53 dB stopband attenuation\n",
      "- Lower passband edge: 1.00\n",
      "- Lower transition bandwidth: 1.00 Hz (-6 dB cutoff frequency: 0.50 Hz)\n",
      "- Upper passband edge: 45.00 Hz\n",
      "- Upper transition bandwidth: 11.25 Hz (-6 dB cutoff frequency: 50.62 Hz)\n",
      "- Filter length: 845 samples (3.301 s)\n",
      "\n"
     ]
    }
   ],
   "source": [
    "# ====== CARGA Y PREPROCESAMIENTO ======\n",
    "raw = mne.io.read_raw_edf(edf_path, preload=True)\n",
    "raw.resample(sfreq_target)\n",
    "raw.filter(1., 45., fir_design='firwin')\n",
    "data = raw.get_data()\n",
    "ch_names = raw.info['ch_names']\n",
    "n_channels = len(ch_names)"
   ]
  },
  {
   "cell_type": "code",
   "execution_count": 6,
   "id": "3cdb7921-96bf-4fca-a140-555bb95b4d20",
   "metadata": {
    "scrolled": true
   },
   "outputs": [
    {
     "data": {
      "text/plain": [
       "array([[-6.26804381e-20,  9.96691423e-05,  1.56464544e-04, ...,\n",
       "        -3.25461886e-05, -2.44063872e-05, -3.38813179e-21],\n",
       "       [ 0.00000000e+00,  7.14210275e-05,  1.12391959e-04, ...,\n",
       "        -5.47231902e-06, -1.78326784e-06, -1.10114283e-20],\n",
       "       [-8.47032947e-21,  3.00249387e-05,  4.62387169e-05, ...,\n",
       "         1.76838641e-05,  1.13131737e-05, -8.47032947e-22],\n",
       "       ...,\n",
       "       [-5.08219768e-20,  1.84483340e-04,  2.87170890e-04, ...,\n",
       "         3.62255574e-05,  1.60453355e-05,  5.08219768e-21],\n",
       "       [-1.10114283e-20, -6.40667792e-05, -1.01071351e-04, ...,\n",
       "         7.34684870e-06,  1.44976840e-06, -1.27054942e-21],\n",
       "       [ 1.86347248e-20, -3.08754614e-05, -4.79904833e-05, ...,\n",
       "        -8.25147645e-06, -5.29050421e-06,  1.16467030e-21]],\n",
       "      shape=(23, 921600))"
      ]
     },
     "execution_count": 6,
     "metadata": {},
     "output_type": "execute_result"
    }
   ],
   "source": [
    "data"
   ]
  },
  {
   "cell_type": "code",
   "execution_count": 7,
   "id": "fe1ee92b-98ed-4e38-a3a1-cc4ef1466918",
   "metadata": {
    "scrolled": true
   },
   "outputs": [
    {
     "ename": "NameError",
     "evalue": "name 'corr_df' is not defined",
     "output_type": "error",
     "traceback": [
      "\u001b[31m---------------------------------------------------------------------------\u001b[39m",
      "\u001b[31mNameError\u001b[39m                                 Traceback (most recent call last)",
      "\u001b[36mCell\u001b[39m\u001b[36m \u001b[39m\u001b[32mIn[7]\u001b[39m\u001b[32m, line 1\u001b[39m\n\u001b[32m----> \u001b[39m\u001b[32m1\u001b[39m \u001b[43mcorr_df\u001b[49m.columns\n",
      "\u001b[31mNameError\u001b[39m: name 'corr_df' is not defined"
     ]
    }
   ],
   "source": [
    "corr_df.columns"
   ]
  },
  {
   "cell_type": "code",
   "execution_count": null,
   "id": "4e5a9a0f-07db-45d2-8326-ade84577c22f",
   "metadata": {},
   "outputs": [],
   "source": [
    "# ====== 1. MATRIZ DE CORRELACIÓN DE PEARSON ======\n",
    "corr_matrix = np.corrcoef(data)\n",
    "corr_df = pd.DataFrame(corr_matrix, index=ch_names, columns=ch_names)\n",
    "corr_df.to_csv(\"connectivity_pearson.csv\")\n",
    "\n",
    "# ====== 2. MATRIZ DE COHERENCIA ESPECTRAL ======\n",
    "coh_matrix = np.zeros((n_channels, n_channels))\n",
    "for i in range(n_channels):\n",
    "    for j in range(n_channels):\n",
    "        f, Cxy = coherence(data[i], data[j], fs=sfreq_target, nperseg=sfreq_target*2) \n",
    "        mask = (f >= fmin) & (f <= fmax)\n",
    "        coh_matrix[i, j] = np.mean(Cxy[mask])\n",
    "\n",
    "coh_df = pd.DataFrame(coh_matrix, index=ch_names, columns=ch_names)\n",
    "coh_df.to_csv(\"connectivity_coherence.csv\")\n",
    "\n",
    "# ====== 3. MATRIZ DE PHASE LOCKING VALUE (PLV) ======\n",
    "analytic_signal = hilbert(data)\n",
    "phase_data = np.angle(analytic_signal)\n",
    "\n",
    "plv_matrix = np.zeros((n_channels, n_channels))\n",
    "for i in range(n_channels):\n",
    "    for j in range(n_channels):\n",
    "        phase_diff = phase_data[i] - phase_data[j]\n",
    "        plv_matrix[i, j] = np.abs(np.sum(np.exp(1j * phase_diff)) / phase_diff.size)\n",
    "\n",
    "plv_df = pd.DataFrame(plv_matrix, index=ch_names, columns=ch_names)\n",
    "plv_df.to_csv(\"connectivity_plv.csv\")\n",
    "\n",
    "print(\"✅ Matrices de conectividad generadas:\")\n",
    "print(\"- connectivity_pearson.csv\")\n",
    "print(\"- connectivity_coherence.csv\")\n",
    "print(\"- connectivity_plv.csv\")\n"
   ]
  },
  {
   "cell_type": "code",
   "execution_count": null,
   "id": "a2e5da0c-41b6-4795-bb20-b998c6e52368",
   "metadata": {},
   "outputs": [],
   "source": [
    "import seaborn as sns\n",
    "import matplotlib.pyplot as plt"
   ]
  },
  {
   "cell_type": "code",
   "execution_count": null,
   "id": "2dc9cd62-9c41-4e4b-8dbc-90aa57134b18",
   "metadata": {},
   "outputs": [],
   "source": [
    "plt.figure(figsize=(5, 3))\n",
    "sns.heatmap(corr_df, cmap='hot')"
   ]
  },
  {
   "cell_type": "code",
   "execution_count": null,
   "id": "0888091f-801c-4dce-9d07-fb13db403c1f",
   "metadata": {},
   "outputs": [],
   "source": [
    "plt.figure(figsize=(5, 3))\n",
    "sns.heatmap(coh_df, cmap='hot')"
   ]
  },
  {
   "cell_type": "code",
   "execution_count": null,
   "id": "4cab1d11-29aa-486d-836b-5868478366f7",
   "metadata": {},
   "outputs": [],
   "source": [
    "plt.figure(figsize=(5, 3))\n",
    "sns.heatmap(plv_df, cmap='hot')"
   ]
  },
  {
   "cell_type": "code",
   "execution_count": null,
   "id": "9fc5c1f1-9f11-4d4b-9e53-063f7c22d749",
   "metadata": {},
   "outputs": [],
   "source": []
  }
 ],
 "metadata": {
  "kernelspec": {
   "display_name": "Python 3 (ipykernel)",
   "language": "python",
   "name": "python3"
  },
  "language_info": {
   "codemirror_mode": {
    "name": "ipython",
    "version": 3
   },
   "file_extension": ".py",
   "mimetype": "text/x-python",
   "name": "python",
   "nbconvert_exporter": "python",
   "pygments_lexer": "ipython3",
   "version": "3.13.7"
  }
 },
 "nbformat": 4,
 "nbformat_minor": 5
}
