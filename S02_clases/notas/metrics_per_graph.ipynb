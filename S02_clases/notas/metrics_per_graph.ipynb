{
 "cells": [
  {
   "cell_type": "code",
   "execution_count": null,
   "id": "8e62600c-c93b-48b2-9860-bffdc9158aee",
   "metadata": {},
   "outputs": [],
   "source": [
    "import numpy as np\n",
    "\n",
    "# Ejemplo: generar red aleatoria como prueba\n",
    "N = 100\n",
    "p = 0.1\n",
    "rng = np.random.RandomState(42)\n",
    "A = (rng.rand(N, N) < p).astype(int)\n",
    "# Hacer la matriz simétrica (no dirigida)\n",
    "A = np.triu(A, 1)\n",
    "A = A + A.T\n",
    "# Eliminar auto-conexiones\n",
    "np.fill_diagonal(A, 0)\n"
   ]
  },
  {
   "cell_type": "code",
   "execution_count": null,
   "id": "7ec5f5ca-dc3f-4ef0-b23b-b4763b1ed2cd",
   "metadata": {},
   "outputs": [],
   "source": [
    "import networkx as nx\n",
    "\n",
    "# Crear grafo\n",
    "G = nx.from_numpy_array(A)  # no ponderado\n",
    "\n",
    "# Métricas:\n",
    "# (a) Clustering promedio (coeficiente de agrupamiento)\n",
    "clust_coeff = nx.average_clustering(G)\n",
    "# (b) Longitud de camino promedio (camino más corto)\n",
    "try:\n",
    "    path_length = nx.average_shortest_path_length(G)\n",
    "except nx.NetworkXError:\n",
    "    path_length = np.nan  # red no conexa\n",
    "# (c) Small-worldness (ejemplo simplificado)\n",
    "# Comparar con grafo aleatorio de igual N, K\n",
    "G_rand = nx.gnm_random_graph(n=G.number_of_nodes(), m=G.number_of_edges())\n",
    "clust_rand = nx.average_clustering(G_rand)\n",
    "path_rand = nx.average_shortest_path_length(G_rand)\n",
    "small_world_sigma = (clust_coeff / clust_rand) / (path_length / path_rand)\n",
    "\n",
    "# (d) Modularidad — usando método de comunidades\n",
    "from networkx.algorithms import community\n",
    "communities = community.greedy_modularity_communities(G)\n",
    "modularity = community.modularity(G, communities)\n",
    "\n",
    "# (e) Hubs — grado, centralidad de intermediación\n",
    "degree_dict = dict(G.degree())\n",
    "betweenness = nx.betweenness_centrality(G)\n",
    "\n",
    "# (f) Eficiencia global y local\n",
    "global_eff = nx.global_efficiency(G)\n",
    "local_eff = nx.local_efficiency(G)\n",
    "\n",
    "print(\"Clustering:\", clust_coeff)\n",
    "print(\"Path length:\", path_length)\n",
    "print(\"Small-world sigma:\", small_world_sigma)\n",
    "print(\"Modularity:\", modularity)\n",
    "print(\"Top hubs (grado):\", sorted(degree_dict.items(), key=lambda x: x[1], reverse=True)[:5])\n",
    "print(\"Global efficiency:\", global_eff)\n",
    "print(\"Local efficiency:\", local_eff)\n"
   ]
  },
  {
   "cell_type": "code",
   "execution_count": null,
   "id": "69e1e3bd-c381-42b0-b254-bbef4b0497f1",
   "metadata": {},
   "outputs": [],
   "source": []
  },
  {
   "cell_type": "code",
   "execution_count": null,
   "id": "e16c1b8c-6e2d-485b-a834-e1b0419997b5",
   "metadata": {},
   "outputs": [],
   "source": []
  },
  {
   "cell_type": "code",
   "execution_count": null,
   "id": "f35b3249-0816-44e0-a1a5-cddd088052c9",
   "metadata": {},
   "outputs": [],
   "source": []
  },
  {
   "cell_type": "code",
   "execution_count": null,
   "id": "cdded62e-a68f-47b8-8cad-c51f01689404",
   "metadata": {},
   "outputs": [],
   "source": []
  },
  {
   "cell_type": "code",
   "execution_count": null,
   "id": "f7ef35d9-a4a3-4eab-8945-53774ab5c85c",
   "metadata": {},
   "outputs": [],
   "source": []
  },
  {
   "cell_type": "code",
   "execution_count": null,
   "id": "4ab885c6-877d-4d4e-9887-e66f7cfc2196",
   "metadata": {},
   "outputs": [],
   "source": []
  },
  {
   "cell_type": "code",
   "execution_count": null,
   "id": "3b425a6c-46bd-446d-b7ae-70be06e899cc",
   "metadata": {},
   "outputs": [],
   "source": []
  },
  {
   "cell_type": "code",
   "execution_count": null,
   "id": "2129af35-8a5e-4215-9fc5-1bf4565c7996",
   "metadata": {},
   "outputs": [],
   "source": []
  },
  {
   "cell_type": "code",
   "execution_count": null,
   "id": "8873e924-91a5-4cc3-be05-9f043b98e952",
   "metadata": {},
   "outputs": [],
   "source": []
  },
  {
   "cell_type": "code",
   "execution_count": null,
   "id": "d78cd820-c5ee-45ca-ae80-f89ea61aa6f6",
   "metadata": {},
   "outputs": [],
   "source": []
  },
  {
   "cell_type": "code",
   "execution_count": null,
   "id": "d4fc2355-d861-480c-b4e4-d4ef112b8b41",
   "metadata": {},
   "outputs": [],
   "source": []
  },
  {
   "cell_type": "code",
   "execution_count": null,
   "id": "781c722a-f242-4641-bb2f-4b5512c41242",
   "metadata": {},
   "outputs": [],
   "source": []
  },
  {
   "cell_type": "code",
   "execution_count": null,
   "id": "e442d4ec-b348-42fa-9775-86bebefb153c",
   "metadata": {},
   "outputs": [],
   "source": []
  },
  {
   "cell_type": "code",
   "execution_count": null,
   "id": "525a96bc-ae46-4117-98f7-04315e74aac1",
   "metadata": {},
   "outputs": [],
   "source": []
  },
  {
   "cell_type": "code",
   "execution_count": null,
   "id": "6b20637f-c2ff-4007-9ad6-58c9a9d3393d",
   "metadata": {},
   "outputs": [],
   "source": []
  }
 ],
 "metadata": {
  "kernelspec": {
   "display_name": "Python 3 (ipykernel)",
   "language": "python",
   "name": "python3"
  },
  "language_info": {
   "codemirror_mode": {
    "name": "ipython",
    "version": 3
   },
   "file_extension": ".py",
   "mimetype": "text/x-python",
   "name": "python",
   "nbconvert_exporter": "python",
   "pygments_lexer": "ipython3",
   "version": "3.11.1"
  }
 },
 "nbformat": 4,
 "nbformat_minor": 5
}
