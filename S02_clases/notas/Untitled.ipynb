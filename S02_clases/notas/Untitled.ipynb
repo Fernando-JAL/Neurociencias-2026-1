{
 "cells": [
  {
   "cell_type": "code",
   "execution_count": 1,
   "id": "ab0bc3eb-125b-44bf-ae3d-9d8e737bceb9",
   "metadata": {},
   "outputs": [],
   "source": [
    "import mne\n",
    "import numpy as np\n",
    "import pandas as pd\n",
    "from scipy.signal import coherence, hilbert"
   ]
  },
  {
   "cell_type": "code",
   "execution_count": 10,
   "id": "67c42e51-6c98-4783-9012-b48422534d17",
   "metadata": {},
   "outputs": [],
   "source": [
    "import seaborn as sns\n",
    "import matplotlib.pyplot as plt"
   ]
  },
  {
   "cell_type": "code",
   "execution_count": 2,
   "id": "63952e57-0119-4078-a81b-c9de50e42b78",
   "metadata": {},
   "outputs": [],
   "source": [
    "# ====== CONFIGURACIÓN ======\n",
    "edf_path = r\"..\\..\\S03_datasets\\chb01_01.edf\"\n",
    "sfreq_target = 256            # Frecuencia de muestreo a la que normalizamos (Hz)\n",
    "fmin, fmax = 8, 13            # Banda alfa para la coherencia (puedes ajustar)"
   ]
  },
  {
   "cell_type": "code",
   "execution_count": 3,
   "id": "5b62159f-0a8d-4f35-9138-8d40589912a2",
   "metadata": {
    "scrolled": true
   },
   "outputs": [
    {
     "name": "stdout",
     "output_type": "stream",
     "text": [
      "Extracting EDF parameters from C:\\Users\\OMEN CI7\\Documents\\repository\\Neurociencias-2026-1\\S03_datasets\\chb01_01.edf...\n",
      "EDF file detected\n",
      "Setting channel info structure...\n",
      "Creating raw.info structure...\n",
      "Reading 0 ... 921599  =      0.000 ...  3599.996 secs...\n"
     ]
    },
    {
     "name": "stderr",
     "output_type": "stream",
     "text": [
      "C:\\Users\\OMEN CI7\\AppData\\Local\\Temp\\ipykernel_11056\\1692581060.py:2: RuntimeWarning: Channel names are not unique, found duplicates for: {'T8-P8'}. Applying running numbers for duplicates.\n",
      "  raw = mne.io.read_raw_edf(edf_path, preload=True)\n"
     ]
    },
    {
     "name": "stdout",
     "output_type": "stream",
     "text": [
      "Sampling frequency of the instance is already 256.0, returning unmodified.\n",
      "Filtering raw data in 1 contiguous segment\n",
      "Setting up band-pass filter from 1 - 45 Hz\n",
      "\n",
      "FIR filter parameters\n",
      "---------------------\n",
      "Designing a one-pass, zero-phase, non-causal bandpass filter:\n",
      "- Windowed time-domain design (firwin) method\n",
      "- Hamming window with 0.0194 passband ripple and 53 dB stopband attenuation\n",
      "- Lower passband edge: 1.00\n",
      "- Lower transition bandwidth: 1.00 Hz (-6 dB cutoff frequency: 0.50 Hz)\n",
      "- Upper passband edge: 45.00 Hz\n",
      "- Upper transition bandwidth: 11.25 Hz (-6 dB cutoff frequency: 50.62 Hz)\n",
      "- Filter length: 845 samples (3.301 s)\n",
      "\n"
     ]
    }
   ],
   "source": [
    "# ====== CARGA Y PREPROCESAMIENTO ======\n",
    "raw = mne.io.read_raw_edf(edf_path, preload=True)\n",
    "raw.resample(sfreq_target)\n",
    "raw.filter(1., 45., fir_design='firwin')\n",
    "data = raw.get_data()\n",
    "ch_names = raw.info['ch_names']\n",
    "n_channels = len(ch_names)"
   ]
  },
  {
   "cell_type": "code",
   "execution_count": 4,
   "id": "7f1c80f9-9c8b-4cb4-8343-fb3810a3b5db",
   "metadata": {},
   "outputs": [],
   "source": [
    "# ====== 1. MATRIZ DE CORRELACIÓN DE PEARSON ======\n",
    "corr_matrix = np.corrcoef(data)\n",
    "corr_df = pd.DataFrame(corr_matrix, index=ch_names, columns=ch_names)"
   ]
  },
  {
   "cell_type": "code",
   "execution_count": 7,
   "id": "6cb0b970-ed3a-4b77-b018-739e3fd1b001",
   "metadata": {},
   "outputs": [
    {
     "data": {
      "text/html": [
       "<div>\n",
       "<style scoped>\n",
       "    .dataframe tbody tr th:only-of-type {\n",
       "        vertical-align: middle;\n",
       "    }\n",
       "\n",
       "    .dataframe tbody tr th {\n",
       "        vertical-align: top;\n",
       "    }\n",
       "\n",
       "    .dataframe thead th {\n",
       "        text-align: right;\n",
       "    }\n",
       "</style>\n",
       "<table border=\"1\" class=\"dataframe\">\n",
       "  <thead>\n",
       "    <tr style=\"text-align: right;\">\n",
       "      <th></th>\n",
       "      <th>FP1-F7</th>\n",
       "      <th>F7-T7</th>\n",
       "      <th>T7-P7</th>\n",
       "      <th>P7-O1</th>\n",
       "      <th>FP1-F3</th>\n",
       "      <th>F3-C3</th>\n",
       "      <th>C3-P3</th>\n",
       "      <th>P3-O1</th>\n",
       "      <th>FP2-F4</th>\n",
       "      <th>F4-C4</th>\n",
       "      <th>...</th>\n",
       "      <th>F8-T8</th>\n",
       "      <th>T8-P8-0</th>\n",
       "      <th>P8-O2</th>\n",
       "      <th>FZ-CZ</th>\n",
       "      <th>CZ-PZ</th>\n",
       "      <th>P7-T7</th>\n",
       "      <th>T7-FT9</th>\n",
       "      <th>FT9-FT10</th>\n",
       "      <th>FT10-T8</th>\n",
       "      <th>T8-P8-1</th>\n",
       "    </tr>\n",
       "  </thead>\n",
       "  <tbody>\n",
       "    <tr>\n",
       "      <th>FP1-F7</th>\n",
       "      <td>1.000000</td>\n",
       "      <td>0.103592</td>\n",
       "      <td>-0.070391</td>\n",
       "      <td>0.008550</td>\n",
       "      <td>0.792282</td>\n",
       "      <td>0.402987</td>\n",
       "      <td>0.221081</td>\n",
       "      <td>0.130110</td>\n",
       "      <td>0.744005</td>\n",
       "      <td>0.462771</td>\n",
       "      <td>...</td>\n",
       "      <td>0.487322</td>\n",
       "      <td>0.003882</td>\n",
       "      <td>0.100852</td>\n",
       "      <td>0.437392</td>\n",
       "      <td>0.210561</td>\n",
       "      <td>0.070391</td>\n",
       "      <td>0.282011</td>\n",
       "      <td>-0.246338</td>\n",
       "      <td>-0.040157</td>\n",
       "      <td>0.003882</td>\n",
       "    </tr>\n",
       "    <tr>\n",
       "      <th>F7-T7</th>\n",
       "      <td>0.103592</td>\n",
       "      <td>1.000000</td>\n",
       "      <td>0.138700</td>\n",
       "      <td>0.005079</td>\n",
       "      <td>0.491057</td>\n",
       "      <td>0.419551</td>\n",
       "      <td>0.195553</td>\n",
       "      <td>0.135568</td>\n",
       "      <td>0.384312</td>\n",
       "      <td>0.217138</td>\n",
       "      <td>...</td>\n",
       "      <td>0.137333</td>\n",
       "      <td>0.091827</td>\n",
       "      <td>-0.043687</td>\n",
       "      <td>0.309492</td>\n",
       "      <td>0.211246</td>\n",
       "      <td>-0.138700</td>\n",
       "      <td>-0.599087</td>\n",
       "      <td>0.395563</td>\n",
       "      <td>-0.099850</td>\n",
       "      <td>0.091827</td>\n",
       "    </tr>\n",
       "  </tbody>\n",
       "</table>\n",
       "<p>2 rows × 23 columns</p>\n",
       "</div>"
      ],
      "text/plain": [
       "          FP1-F7     F7-T7     T7-P7     P7-O1    FP1-F3     F3-C3     C3-P3  \\\n",
       "FP1-F7  1.000000  0.103592 -0.070391  0.008550  0.792282  0.402987  0.221081   \n",
       "F7-T7   0.103592  1.000000  0.138700  0.005079  0.491057  0.419551  0.195553   \n",
       "\n",
       "           P3-O1    FP2-F4     F4-C4  ...     F8-T8   T8-P8-0     P8-O2  \\\n",
       "FP1-F7  0.130110  0.744005  0.462771  ...  0.487322  0.003882  0.100852   \n",
       "F7-T7   0.135568  0.384312  0.217138  ...  0.137333  0.091827 -0.043687   \n",
       "\n",
       "           FZ-CZ     CZ-PZ     P7-T7    T7-FT9  FT9-FT10   FT10-T8   T8-P8-1  \n",
       "FP1-F7  0.437392  0.210561  0.070391  0.282011 -0.246338 -0.040157  0.003882  \n",
       "F7-T7   0.309492  0.211246 -0.138700 -0.599087  0.395563 -0.099850  0.091827  \n",
       "\n",
       "[2 rows x 23 columns]"
      ]
     },
     "execution_count": 7,
     "metadata": {},
     "output_type": "execute_result"
    }
   ],
   "source": [
    "corr_df.head(2)"
   ]
  },
  {
   "cell_type": "code",
   "execution_count": 8,
   "id": "fc560df1-8cd0-4617-a641-d8d9b10005d5",
   "metadata": {},
   "outputs": [
    {
     "data": {
      "text/plain": [
       "(23, 23)"
      ]
     },
     "execution_count": 8,
     "metadata": {},
     "output_type": "execute_result"
    }
   ],
   "source": [
    "corr_df.shape"
   ]
  },
  {
   "cell_type": "code",
   "execution_count": 9,
   "id": "1856edb6-4327-447e-af83-9a20dac2faa0",
   "metadata": {},
   "outputs": [
    {
     "data": {
      "text/plain": [
       "Index(['FP1-F7', 'F7-T7', 'T7-P7', 'P7-O1', 'FP1-F3', 'F3-C3', 'C3-P3',\n",
       "       'P3-O1', 'FP2-F4', 'F4-C4', 'C4-P4', 'P4-O2', 'FP2-F8', 'F8-T8',\n",
       "       'T8-P8-0', 'P8-O2', 'FZ-CZ', 'CZ-PZ', 'P7-T7', 'T7-FT9', 'FT9-FT10',\n",
       "       'FT10-T8', 'T8-P8-1'],\n",
       "      dtype='object')"
      ]
     },
     "execution_count": 9,
     "metadata": {},
     "output_type": "execute_result"
    }
   ],
   "source": [
    "corr_df.columns"
   ]
  },
  {
   "cell_type": "code",
   "execution_count": 12,
   "id": "8bf83631-907f-40c3-8f87-a1d8f41388b4",
   "metadata": {},
   "outputs": [],
   "source": [
    "np.fill_diagonal(corr_df.values, 0)"
   ]
  },
  {
   "cell_type": "code",
   "execution_count": 13,
   "id": "ee37555d-da92-4397-a0c2-6ef05ebec46f",
   "metadata": {},
   "outputs": [
    {
     "data": {
      "text/plain": [
       "<Axes: >"
      ]
     },
     "execution_count": 13,
     "metadata": {},
     "output_type": "execute_result"
    },
    {
     "data": {
      "image/png": "[encoded data removed]",
      "text/plain": [
       "<Figure size 500x300 with 2 Axes>"
      ]
     },
     "metadata": {},
     "output_type": "display_data"
    }
   ],
   "source": [
    "plt.figure(figsize=(5, 3))\n",
    "sns.heatmap(corr_df, cmap='hot')"
   ]
  },
  {
   "cell_type": "code",
   "execution_count": null,
   "id": "ad4e499a-9919-40a0-9583-5d91f091ce5d",
   "metadata": {},
   "outputs": [],
   "source": []
  }
 ],
 "metadata": {
  "kernelspec": {
   "display_name": "Python 3 (ipykernel)",
   "language": "python",
   "name": "python3"
  },
  "language_info": {
   "codemirror_mode": {
    "name": "ipython",
    "version": 3
   },
   "file_extension": ".py",
   "mimetype": "text/x-python",
   "name": "python",
   "nbconvert_exporter": "python",
   "pygments_lexer": "ipython3",
   "version": "3.10.4"
  }
 },
 "nbformat": 4,
 "nbformat_minor": 5
}
