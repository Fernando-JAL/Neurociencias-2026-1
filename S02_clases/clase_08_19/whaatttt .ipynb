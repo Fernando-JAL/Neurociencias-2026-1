{
 "cells": [
  {
   "cell_type": "markdown",
   "id": "38323005-ba72-4d8c-8119-4d3f092ab68c",
   "metadata": {},
   "source": [
    "# Más de listas "
   ]
  },
  {
   "cell_type": "code",
   "execution_count": 2,
   "id": "7facf150-3a31-474a-8ec8-ffb0afa6613e",
   "metadata": {},
   "outputs": [
    {
     "data": {
      "text/plain": [
       "['rojo', 2.3, 100, 'chocolate']"
      ]
     },
     "execution_count": 2,
     "metadata": {},
     "output_type": "execute_result"
    }
   ],
   "source": [
    "lista=['rojo',2.3,100,'chocolate']\n",
    "lista"
   ]
  },
  {
   "cell_type": "code",
   "execution_count": null,
   "id": "d94b1ce3-5b28-4bcf-9bb8-3c2cdfe34023",
   "metadata": {},
   "outputs": [],
   "source": [
    "#Manera de agregar elementos a lista "
   ]
  },
  {
   "cell_type": "code",
   "execution_count": 9,
   "id": "786c5f75-8101-45e7-addd-6117d12dbaa3",
   "metadata": {},
   "outputs": [
    {
     "data": {
      "text/plain": [
       "['rojo', 2.3, 100, 'chocolate', 'nuez', 'nuez', 'nuez', 'nuez', 'nuez', 'nuez']"
      ]
     },
     "execution_count": 9,
     "metadata": {},
     "output_type": "execute_result"
    }
   ],
   "source": [
    "lista.append('nuez') \n",
    "lista"
   ]
  },
  {
   "cell_type": "code",
   "execution_count": 8,
   "id": "92ec0feb-9df7-482d-983d-ca0448f03c3d",
   "metadata": {},
   "outputs": [
    {
     "data": {
      "text/plain": [
       "[]"
      ]
     },
     "execution_count": 8,
     "metadata": {},
     "output_type": "execute_result"
    }
   ],
   "source": [
    "lista_vacia=[]\n",
    "lista_vacia"
   ]
  },
  {
   "cell_type": "code",
   "execution_count": 12,
   "id": "4f549d54-3e4e-4333-81e9-8b98830c3b71",
   "metadata": {},
   "outputs": [
    {
     "data": {
      "text/plain": [
       "12"
      ]
     },
     "execution_count": 12,
     "metadata": {},
     "output_type": "execute_result"
    }
   ],
   "source": [
    "lista[-1:]=[4,2,6]\n",
    "len(lista)"
   ]
  },
  {
   "cell_type": "code",
   "execution_count": null,
   "id": "b293ae55-fd53-414c-a270-80e63831e861",
   "metadata": {},
   "outputs": [],
   "source": [
    "#Manera de eliminar elementos de la lista "
   ]
  },
  {
   "cell_type": "code",
   "execution_count": 15,
   "id": "48353a55-b0da-4f63-a1a4-6f0e65b00bc2",
   "metadata": {},
   "outputs": [
    {
     "data": {
      "text/plain": [
       "['rojo', 2.3, [], 'chocolate', 'nuez', 'nuez', 'nuez', 'nuez', 'nuez', 4, 2, 6]"
      ]
     },
     "execution_count": 15,
     "metadata": {},
     "output_type": "execute_result"
    }
   ],
   "source": [
    "lista[2]=[]\n",
    "lista"
   ]
  },
  {
   "cell_type": "code",
   "execution_count": 18,
   "id": "e945709a-9435-4158-83f7-047704949d12",
   "metadata": {},
   "outputs": [
    {
     "data": {
      "text/plain": [
       "['rojo', 2.3, 'nuez', 4, 2, 6]"
      ]
     },
     "execution_count": 18,
     "metadata": {},
     "output_type": "execute_result"
    }
   ],
   "source": [
    "del lista [2:4]\n",
    "lista"
   ]
  },
  {
   "cell_type": "code",
   "execution_count": 19,
   "id": "10c20100-7760-49f3-99b0-4fe34445bdf0",
   "metadata": {},
   "outputs": [
    {
     "data": {
      "text/plain": [
       "['rojo', 2.3, 2, 6]"
      ]
     },
     "execution_count": 19,
     "metadata": {},
     "output_type": "execute_result"
    }
   ],
   "source": [
    "del lista[2:4]\n",
    "lista"
   ]
  },
  {
   "cell_type": "code",
   "execution_count": 20,
   "id": "1c3bb4a1-b22f-4656-8ddb-2b703938125d",
   "metadata": {},
   "outputs": [
    {
     "data": {
      "text/plain": [
       "[2.3, 2, 6]"
      ]
     },
     "execution_count": 20,
     "metadata": {},
     "output_type": "execute_result"
    }
   ],
   "source": [
    "del lista[0]\n",
    "lista"
   ]
  },
  {
   "cell_type": "code",
   "execution_count": 22,
   "id": "280f84c7-1fed-4f48-8bef-82745e456ec9",
   "metadata": {},
   "outputs": [
    {
     "data": {
      "text/plain": [
       "[6]"
      ]
     },
     "execution_count": 22,
     "metadata": {},
     "output_type": "execute_result"
    }
   ],
   "source": [
    "del lista[0]\n",
    "lista"
   ]
  },
  {
   "cell_type": "code",
   "execution_count": 23,
   "id": "4e7720ae-2c83-435b-ae4b-2a30aa27ebb6",
   "metadata": {},
   "outputs": [
    {
     "data": {
      "text/plain": [
       "[]"
      ]
     },
     "execution_count": 23,
     "metadata": {},
     "output_type": "execute_result"
    }
   ],
   "source": [
    "del lista[0]\n",
    "lista"
   ]
  },
  {
   "cell_type": "code",
   "execution_count": 36,
   "id": "e516939b-900c-4b2c-b484-e870b4954a1a",
   "metadata": {},
   "outputs": [
    {
     "data": {
      "text/plain": [
       "[[1, 2, 3], [4, 5, 6], [7, 8, 9], [10, 11, 12]]"
      ]
     },
     "execution_count": 36,
     "metadata": {},
     "output_type": "execute_result"
    }
   ],
   "source": [
    "matriz=[[1, 2, 3],\n",
    "       [4, 5, 6],\n",
    "        [7, 8, 9], \n",
    "        [10, 11, 12]]\n",
    "matriz"
   ]
  },
  {
   "cell_type": "code",
   "execution_count": 34,
   "id": "8a98201c-05af-4bef-9dfe-439fcd2cedb8",
   "metadata": {},
   "outputs": [
    {
     "data": {
      "text/plain": [
       "[7, 8, 9]"
      ]
     },
     "execution_count": 34,
     "metadata": {},
     "output_type": "execute_result"
    }
   ],
   "source": [
    "a=matriz[2]\n",
    "a\n"
   ]
  },
  {
   "cell_type": "code",
   "execution_count": 35,
   "id": "782f2154-807b-4b71-a316-f15fd38b9d66",
   "metadata": {},
   "outputs": [
    {
     "data": {
      "text/plain": [
       "9"
      ]
     },
     "execution_count": 35,
     "metadata": {},
     "output_type": "execute_result"
    }
   ],
   "source": [
    "a[2]"
   ]
  },
  {
   "cell_type": "code",
   "execution_count": 38,
   "id": "20a06381-957f-4257-9766-8b19d465664e",
   "metadata": {},
   "outputs": [
    {
     "data": {
      "text/plain": [
       "9"
      ]
     },
     "execution_count": 38,
     "metadata": {},
     "output_type": "execute_result"
    }
   ],
   "source": [
    "a= matriz[2][-1]\n",
    "a"
   ]
  },
  {
   "cell_type": "code",
   "execution_count": 39,
   "id": "20417b42-5c9b-484d-ae7a-db626a33217b",
   "metadata": {},
   "outputs": [
    {
     "data": {
      "text/plain": [
       "4"
      ]
     },
     "execution_count": 39,
     "metadata": {},
     "output_type": "execute_result"
    }
   ],
   "source": [
    "matriz[1][0]"
   ]
  },
  {
   "cell_type": "markdown",
   "id": "e06f4424-ada3-4e08-8e58-1740c464d35e",
   "metadata": {},
   "source": [
    "# Tuplas"
   ]
  },
  {
   "cell_type": "code",
   "execution_count": 44,
   "id": "4e500c79-f16d-475c-9d5d-cf3eb831fcf9",
   "metadata": {},
   "outputs": [
    {
     "data": {
      "text/plain": [
       "(5, 2, '-1', [4, 2, 1], 'pasa')"
      ]
     },
     "execution_count": 44,
     "metadata": {},
     "output_type": "execute_result"
    }
   ],
   "source": [
    "variable=(5,2,'-1',[4,2,1],'pasa')\n",
    "variable"
   ]
  },
  {
   "cell_type": "code",
   "execution_count": 45,
   "id": "264cca0e-35ed-4593-afed-f5a208464dc9",
   "metadata": {},
   "outputs": [
    {
     "data": {
      "text/plain": [
       "tuple"
      ]
     },
     "execution_count": 45,
     "metadata": {},
     "output_type": "execute_result"
    }
   ],
   "source": [
    "type(variable)"
   ]
  },
  {
   "cell_type": "code",
   "execution_count": 46,
   "id": "74486437-06ef-4667-b8b9-010c89bca548",
   "metadata": {},
   "outputs": [
    {
     "data": {
      "text/plain": [
       "'pasa'"
      ]
     },
     "execution_count": 46,
     "metadata": {},
     "output_type": "execute_result"
    }
   ],
   "source": [
    "variable[-1]"
   ]
  },
  {
   "cell_type": "code",
   "execution_count": 48,
   "id": "f8068c41-5dbd-48e8-9c15-28dd33514622",
   "metadata": {},
   "outputs": [
    {
     "data": {
      "text/plain": [
       "(2, '-1')"
      ]
     },
     "execution_count": 48,
     "metadata": {},
     "output_type": "execute_result"
    }
   ],
   "source": [
    "variable[1:-2]"
   ]
  },
  {
   "cell_type": "code",
   "execution_count": 49,
   "id": "416024a3-3e19-4a63-ae54-69d170ade497",
   "metadata": {},
   "outputs": [
    {
     "data": {
      "text/plain": [
       "(5, 2, '-1')"
      ]
     },
     "execution_count": 49,
     "metadata": {},
     "output_type": "execute_result"
    }
   ],
   "source": [
    "variable[0:3]"
   ]
  },
  {
   "cell_type": "code",
   "execution_count": 50,
   "id": "ca9c4cd5-5bfa-4766-844b-718dfea5fdb2",
   "metadata": {},
   "outputs": [
    {
     "data": {
      "text/plain": [
       "(5, 2, '-1')"
      ]
     },
     "execution_count": 50,
     "metadata": {},
     "output_type": "execute_result"
    }
   ],
   "source": [
    "pos_i, pos_f=0,2\n",
    "variable[pos_i:pos_f+1]"
   ]
  },
  {
   "cell_type": "code",
   "execution_count": 52,
   "id": "a66016e1-be4d-4661-bc6f-213f800a86a6",
   "metadata": {},
   "outputs": [
    {
     "data": {
      "text/plain": [
       "(2, '-1')"
      ]
     },
     "execution_count": 52,
     "metadata": {},
     "output_type": "execute_result"
    }
   ],
   "source": [
    "variable[1:-2]"
   ]
  },
  {
   "cell_type": "code",
   "execution_count": 53,
   "id": "308667f3-84b7-4227-a7d0-6918b2616c58",
   "metadata": {},
   "outputs": [
    {
     "data": {
      "text/plain": [
       "(2, '-1', [4, 2, 1])"
      ]
     },
     "execution_count": 53,
     "metadata": {},
     "output_type": "execute_result"
    }
   ],
   "source": [
    "variable[-4:4]"
   ]
  },
  {
   "cell_type": "code",
   "execution_count": 65,
   "id": "12ca7e38-1fce-4e9c-a757-058d544152c9",
   "metadata": {},
   "outputs": [
    {
     "data": {
      "text/plain": [
       "(5,)"
      ]
     },
     "execution_count": 65,
     "metadata": {},
     "output_type": "execute_result"
    }
   ],
   "source": [
    "tupla=(5,)\n",
    "tupla"
   ]
  },
  {
   "cell_type": "code",
   "execution_count": 66,
   "id": "bb610470-fff0-4b07-88b5-6cd457a97fe5",
   "metadata": {},
   "outputs": [
    {
     "data": {
      "text/plain": [
       "tuple"
      ]
     },
     "execution_count": 66,
     "metadata": {},
     "output_type": "execute_result"
    }
   ],
   "source": [
    "type(tupla)"
   ]
  },
  {
   "cell_type": "code",
   "execution_count": 67,
   "id": "12e3c925-1548-4525-866f-8fdd182c7192",
   "metadata": {},
   "outputs": [
    {
     "data": {
      "text/plain": [
       "1"
      ]
     },
     "execution_count": 67,
     "metadata": {},
     "output_type": "execute_result"
    }
   ],
   "source": [
    "len(tupla)"
   ]
  },
  {
   "cell_type": "code",
   "execution_count": 68,
   "id": "12c633e1-905f-410c-b8d7-2d9f1c90df5e",
   "metadata": {},
   "outputs": [],
   "source": [
    "t1, t2, t3= (4,5),(6,7),(8,9)"
   ]
  },
  {
   "cell_type": "code",
   "execution_count": 69,
   "id": "78981e8b-b9bc-453c-af13-45c13ea49c7f",
   "metadata": {},
   "outputs": [
    {
     "data": {
      "text/plain": [
       "(4, 5, 6, 7)"
      ]
     },
     "execution_count": 69,
     "metadata": {},
     "output_type": "execute_result"
    }
   ],
   "source": [
    "t1+t2"
   ]
  },
  {
   "cell_type": "code",
   "execution_count": null,
   "id": "aecf6292-7cdf-497c-8433-61b7fd99f6be",
   "metadata": {},
   "outputs": [],
   "source": [
    "#Solo se puede suma, y multiplicación con número entero"
   ]
  },
  {
   "cell_type": "code",
   "execution_count": 70,
   "id": "92762bf8-cab1-496f-acf5-0b6f727ccaaa",
   "metadata": {},
   "outputs": [
    {
     "data": {
      "text/plain": [
       "(6, 7, 6, 7, 6, 7)"
      ]
     },
     "execution_count": 70,
     "metadata": {},
     "output_type": "execute_result"
    }
   ],
   "source": [
    "3*t2"
   ]
  },
  {
   "cell_type": "code",
   "execution_count": 73,
   "id": "99802f8d-21bf-40e7-8aea-c9fdebe6874a",
   "metadata": {},
   "outputs": [
    {
     "data": {
      "text/plain": [
       "7"
      ]
     },
     "execution_count": 73,
     "metadata": {},
     "output_type": "execute_result"
    }
   ],
   "source": [
    "(3*t2)[3]"
   ]
  },
  {
   "cell_type": "code",
   "execution_count": 75,
   "id": "65ae0907-5a1b-4939-950b-7e951501deab",
   "metadata": {},
   "outputs": [
    {
     "data": {
      "text/plain": [
       "[7, 7, 7]"
      ]
     },
     "execution_count": 75,
     "metadata": {},
     "output_type": "execute_result"
    }
   ],
   "source": [
    "[(3*t2)[3]]*3"
   ]
  },
  {
   "cell_type": "code",
   "execution_count": 76,
   "id": "7049b479-0f7c-41eb-8d5f-e41602cda7b2",
   "metadata": {},
   "outputs": [
    {
     "ename": "TypeError",
     "evalue": "'tuple' object does not support item assignment",
     "output_type": "error",
     "traceback": [
      "\u001b[31m---------------------------------------------------------------------------\u001b[39m",
      "\u001b[31mTypeError\u001b[39m                                 Traceback (most recent call last)",
      "\u001b[36mCell\u001b[39m\u001b[36m \u001b[39m\u001b[32mIn[76]\u001b[39m\u001b[32m, line 1\u001b[39m\n\u001b[32m----> \u001b[39m\u001b[32m1\u001b[39m \u001b[43mt2\u001b[49m\u001b[43m[\u001b[49m\u001b[32;43m0\u001b[39;49m\u001b[43m]\u001b[49m=\u001b[32m5\u001b[39m\n",
      "\u001b[31mTypeError\u001b[39m: 'tuple' object does not support item assignment"
     ]
    }
   ],
   "source": [
    "t2[0]=5"
   ]
  },
  {
   "cell_type": "code",
   "execution_count": null,
   "id": "58bad7ac-7e3e-4dd9-98b6-15e2b2132ef6",
   "metadata": {},
   "outputs": [],
   "source": [
    "#tupla es inmutable"
   ]
  },
  {
   "cell_type": "markdown",
   "id": "e2906c25-ab00-4446-92a1-2765740904a2",
   "metadata": {},
   "source": [
    "# Mapping: diccionarios "
   ]
  },
  {
   "cell_type": "code",
   "execution_count": 79,
   "id": "95291cd5-af2a-4e0d-a864-2256f217dcd3",
   "metadata": {},
   "outputs": [
    {
     "data": {
      "text/plain": [
       "{'key': 'valor', 'llave2': 'valor2', 'llave3': 5, 'llave4': [2, 3], 5: [-2]}"
      ]
     },
     "execution_count": 79,
     "metadata": {},
     "output_type": "execute_result"
    }
   ],
   "source": [
    "#2 caracteristicas en diccionario una llave y un valor \n",
    "diccionario={'key':'valor','llave2':'valor2','llave3':5,'llave4':[2,3],5:[-2]}\n",
    "diccionario"
   ]
  },
  {
   "cell_type": "code",
   "execution_count": 78,
   "id": "885dd1f2-00b9-4dbb-92d2-c386ba599c2d",
   "metadata": {},
   "outputs": [
    {
     "data": {
      "text/plain": [
       "dict"
      ]
     },
     "execution_count": 78,
     "metadata": {},
     "output_type": "execute_result"
    }
   ],
   "source": [
    "type(diccionario)"
   ]
  },
  {
   "cell_type": "code",
   "execution_count": 82,
   "id": "95fe04d2-7bc7-4d2c-b67b-ce0e4872a75e",
   "metadata": {},
   "outputs": [
    {
     "data": {
      "text/plain": [
       "5"
      ]
     },
     "execution_count": 82,
     "metadata": {},
     "output_type": "execute_result"
    }
   ],
   "source": [
    "diccionario['llave3']"
   ]
  },
  {
   "cell_type": "code",
   "execution_count": 83,
   "id": "6ca5167e-0ea9-4097-8170-679fa9271c8b",
   "metadata": {},
   "outputs": [
    {
     "data": {
      "text/plain": [
       "dict_keys(['key', 'llave2', 'llave3', 'llave4', 5])"
      ]
     },
     "execution_count": 83,
     "metadata": {},
     "output_type": "execute_result"
    }
   ],
   "source": [
    "diccionario.keys()"
   ]
  },
  {
   "cell_type": "code",
   "execution_count": 84,
   "id": "85239f19-905b-40f5-9294-7a9b7893e74e",
   "metadata": {},
   "outputs": [
    {
     "data": {
      "text/plain": [
       "dict_values(['valor', 'valor2', 5, [2, 3], [-2]])"
      ]
     },
     "execution_count": 84,
     "metadata": {},
     "output_type": "execute_result"
    }
   ],
   "source": [
    "diccionario.values()"
   ]
  },
  {
   "cell_type": "code",
   "execution_count": 85,
   "id": "2ae98702-6115-4044-ae6e-c1c3ee2c63fd",
   "metadata": {},
   "outputs": [
    {
     "data": {
      "text/plain": [
       "dict_values(['valor', 'valor2', 5, [2, 3], [-2]])"
      ]
     },
     "execution_count": 85,
     "metadata": {},
     "output_type": "execute_result"
    }
   ],
   "source": [
    "var=diccionario.values()\n",
    "var"
   ]
  },
  {
   "cell_type": "code",
   "execution_count": 87,
   "id": "a4619a6f-388f-4819-ac58-8c4635092700",
   "metadata": {},
   "outputs": [
    {
     "data": {
      "text/plain": [
       "dict_values"
      ]
     },
     "execution_count": 87,
     "metadata": {},
     "output_type": "execute_result"
    }
   ],
   "source": [
    "type(var)"
   ]
  },
  {
   "cell_type": "markdown",
   "id": "3ee24dd9-ff30-47e6-991e-da566588b671",
   "metadata": {},
   "source": [
    "# Convertir a otro tipos de datos"
   ]
  },
  {
   "cell_type": "code",
   "execution_count": 88,
   "id": "a4166c3a-3b41-4bfd-b62e-ea0d4a6c16d9",
   "metadata": {},
   "outputs": [
    {
     "data": {
      "text/plain": [
       "['valor', 'valor2', 5, [2, 3], [-2]]"
      ]
     },
     "execution_count": 88,
     "metadata": {},
     "output_type": "execute_result"
    }
   ],
   "source": [
    "list(var)"
   ]
  },
  {
   "cell_type": "code",
   "execution_count": 89,
   "id": "690a8aa8-e4ce-4e5f-916c-17ccda171f9f",
   "metadata": {},
   "outputs": [
    {
     "data": {
      "text/plain": [
       "{'key': 'valor', 'llave2': 'valor2', 'llave3': 5, 'llave4': [2, 3], 5: [-2]}"
      ]
     },
     "execution_count": 89,
     "metadata": {},
     "output_type": "execute_result"
    }
   ],
   "source": [
    "diccionario"
   ]
  },
  {
   "cell_type": "code",
   "execution_count": 92,
   "id": "acfe4979-44db-4c28-9ec8-5568e6078a67",
   "metadata": {},
   "outputs": [
    {
     "data": {
      "text/plain": [
       "{'key': 'valor', 'llave2': 45, 'llave3': 5, 'llave4': [2, 3], 5: [-2]}"
      ]
     },
     "execution_count": 92,
     "metadata": {},
     "output_type": "execute_result"
    }
   ],
   "source": [
    "#Cambiar valor\n",
    "diccionario['llave2']=45\n",
    "diccionario "
   ]
  },
  {
   "cell_type": "code",
   "execution_count": 103,
   "id": "59b6e2a3-1f9c-4563-a9dc-687f21096b83",
   "metadata": {},
   "outputs": [
    {
     "data": {
      "text/plain": [
       "{'key': 'valor',\n",
       " 'llave2': 45,\n",
       " 'llave3': 5,\n",
       " 'llave4': [2, 3],\n",
       " 5: [-2],\n",
       " 'vamonos': 'a dormir'}"
      ]
     },
     "execution_count": 103,
     "metadata": {},
     "output_type": "execute_result"
    }
   ],
   "source": [
    "#agregar elementos\n",
    "diccionario['vamonos']='a dormir'\n",
    "diccionario"
   ]
  },
  {
   "cell_type": "code",
   "execution_count": 104,
   "id": "bbe7797d-b811-4331-9d3c-dc6d972e089c",
   "metadata": {},
   "outputs": [
    {
     "data": {
      "text/plain": [
       "'a dormir'"
      ]
     },
     "execution_count": 104,
     "metadata": {},
     "output_type": "execute_result"
    }
   ],
   "source": [
    "#eliminar elemento diccionario\n",
    "diccionario.pop ('vamonos')"
   ]
  },
  {
   "cell_type": "code",
   "execution_count": null,
   "id": "11be2d03-edc0-493f-8c7b-838f2df64ef5",
   "metadata": {},
   "outputs": [],
   "source": []
  }
 ],
 "metadata": {
  "kernelspec": {
   "display_name": "Python 3 (ipykernel)",
   "language": "python",
   "name": "python3"
  },
  "language_info": {
   "codemirror_mode": {
    "name": "ipython",
    "version": 3
   },
   "file_extension": ".py",
   "mimetype": "text/x-python",
   "name": "python",
   "nbconvert_exporter": "python",
   "pygments_lexer": "ipython3",
   "version": "3.11.1"
  }
 },
 "nbformat": 4,
 "nbformat_minor": 5
}
