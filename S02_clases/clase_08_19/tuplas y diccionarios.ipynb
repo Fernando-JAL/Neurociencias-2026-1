{
 "cells": [
  {
   "cell_type": "markdown",
   "id": "7c0abf0a-ccab-4e49-b944-43e89ad580ed",
   "metadata": {},
   "source": [
    "# tipos de datos 3 , más listas "
   ]
  },
  {
   "cell_type": "code",
   "execution_count": 1,
   "id": "da7be10f-b20f-4d7d-b9e4-87636f2942ac",
   "metadata": {},
   "outputs": [
    {
     "data": {
      "text/plain": [
       "['rojo', 2.3, 100, 'chocolate']"
      ]
     },
     "execution_count": 1,
     "metadata": {},
     "output_type": "execute_result"
    }
   ],
   "source": [
    "lista = ['rojo', 2.3, 100, 'chocolate']\n",
    "lista "
   ]
  },
  {
   "cell_type": "code",
   "execution_count": 2,
   "id": "b2091615-5c2c-4d98-9d86-aef39c7b534c",
   "metadata": {},
   "outputs": [
    {
     "data": {
      "text/plain": [
       "['rojo', 2.3, 100, 'chocolate', 'nuez']"
      ]
     },
     "execution_count": 2,
     "metadata": {},
     "output_type": "execute_result"
    }
   ],
   "source": [
    "lista.append ('nuez')\n",
    "lista"
   ]
  },
  {
   "cell_type": "code",
   "execution_count": 3,
   "id": "89840f36-7b9e-4191-a2ad-629c3967d289",
   "metadata": {},
   "outputs": [
    {
     "data": {
      "text/plain": [
       "[]"
      ]
     },
     "execution_count": 3,
     "metadata": {},
     "output_type": "execute_result"
    }
   ],
   "source": [
    "lista_vacia = []\n",
    "lista_vacia"
   ]
  },
  {
   "cell_type": "code",
   "execution_count": 4,
   "id": "33b17687-c719-4d32-94bf-88722fd2b33c",
   "metadata": {},
   "outputs": [
    {
     "data": {
      "text/plain": [
       "list"
      ]
     },
     "execution_count": 4,
     "metadata": {},
     "output_type": "execute_result"
    }
   ],
   "source": [
    "type (lista_vacia)"
   ]
  },
  {
   "cell_type": "code",
   "execution_count": 7,
   "id": "06303c7c-24ed-499c-a024-4a3e597490e4",
   "metadata": {},
   "outputs": [
    {
     "data": {
      "text/plain": [
       "7"
      ]
     },
     "execution_count": 7,
     "metadata": {},
     "output_type": "execute_result"
    }
   ],
   "source": [
    "lista[-1:] = [4,2,6]\n",
    "len(lista)"
   ]
  },
  {
   "cell_type": "code",
   "execution_count": 8,
   "id": "e88fe15e-e454-471c-9a46-9a49dd5282fa",
   "metadata": {},
   "outputs": [
    {
     "data": {
      "text/plain": [
       "['rojo', 2.3, 100, 'chocolate', 4, 2, 6]"
      ]
     },
     "execution_count": 8,
     "metadata": {},
     "output_type": "execute_result"
    }
   ],
   "source": [
    "lista"
   ]
  },
  {
   "cell_type": "code",
   "execution_count": 9,
   "id": "eb57a328-0b81-40bd-bcf9-f3ade4e7fd39",
   "metadata": {},
   "outputs": [
    {
     "data": {
      "text/plain": [
       "['rojo', 2.3, 'chocolate', 4, 2, 6]"
      ]
     },
     "execution_count": 9,
     "metadata": {},
     "output_type": "execute_result"
    }
   ],
   "source": [
    "del lista [2] \n",
    "lista"
   ]
  },
  {
   "cell_type": "code",
   "execution_count": 11,
   "id": "0087acda-a90c-42a2-93fb-05827ddaca51",
   "metadata": {},
   "outputs": [
    {
     "data": {
      "text/plain": [
       "['rojo', 2.3]"
      ]
     },
     "execution_count": 11,
     "metadata": {},
     "output_type": "execute_result"
    }
   ],
   "source": [
    "del lista [2:4]\n",
    "lista"
   ]
  },
  {
   "cell_type": "code",
   "execution_count": 12,
   "id": "efd72375-7293-4f6e-93c4-d8e35ac94053",
   "metadata": {},
   "outputs": [
    {
     "data": {
      "text/plain": [
       "[2.3]"
      ]
     },
     "execution_count": 12,
     "metadata": {},
     "output_type": "execute_result"
    }
   ],
   "source": [
    "del lista [0]\n",
    "lista"
   ]
  },
  {
   "cell_type": "code",
   "execution_count": 13,
   "id": "056f4fa8-e6f4-4d0d-bcd8-0c76c5df8bec",
   "metadata": {},
   "outputs": [
    {
     "data": {
      "text/plain": [
       "[]"
      ]
     },
     "execution_count": 13,
     "metadata": {},
     "output_type": "execute_result"
    }
   ],
   "source": [
    "del lista [0]\n",
    "lista"
   ]
  },
  {
   "cell_type": "code",
   "execution_count": 16,
   "id": "69d004cf-f846-420e-9ab2-6fa14e38487c",
   "metadata": {},
   "outputs": [
    {
     "data": {
      "text/plain": [
       "[[1, 2, 3], [4, 5, 6], [7, 8, 9], [8, 7, 6]]"
      ]
     },
     "execution_count": 16,
     "metadata": {},
     "output_type": "execute_result"
    }
   ],
   "source": [
    "matriz = [[1,2,3],\n",
    "         [4,5,6],\n",
    "         [7,8,9],\n",
    "         [8,7,6]]\n",
    "matriz"
   ]
  },
  {
   "cell_type": "code",
   "execution_count": 20,
   "id": "a8c3f4d2-64c3-4727-b2eb-008dd50e484f",
   "metadata": {},
   "outputs": [
    {
     "data": {
      "text/plain": [
       "[7, 8, 9]"
      ]
     },
     "execution_count": 20,
     "metadata": {},
     "output_type": "execute_result"
    }
   ],
   "source": [
    "a =matriz[2]\n",
    "a"
   ]
  },
  {
   "cell_type": "code",
   "execution_count": 21,
   "id": "1e9e9374-9891-4308-ad14-c4d3014b82c4",
   "metadata": {},
   "outputs": [
    {
     "data": {
      "text/plain": [
       "9"
      ]
     },
     "execution_count": 21,
     "metadata": {},
     "output_type": "execute_result"
    }
   ],
   "source": [
    "a[2]"
   ]
  },
  {
   "cell_type": "code",
   "execution_count": 23,
   "id": "69006c31-511c-469f-a77b-3428666ca8fe",
   "metadata": {},
   "outputs": [
    {
     "data": {
      "text/plain": [
       "9"
      ]
     },
     "execution_count": 23,
     "metadata": {},
     "output_type": "execute_result"
    }
   ],
   "source": [
    "matriz[2][-1]"
   ]
  },
  {
   "cell_type": "code",
   "execution_count": 24,
   "id": "884f66fa-7dd6-4b2c-b133-181178bbeb58",
   "metadata": {},
   "outputs": [
    {
     "data": {
      "text/plain": [
       "4"
      ]
     },
     "execution_count": 24,
     "metadata": {},
     "output_type": "execute_result"
    }
   ],
   "source": [
    "matriz[1][0]"
   ]
  },
  {
   "cell_type": "markdown",
   "id": "2d66d75a-85fc-4a3e-a622-824ab4614578",
   "metadata": {},
   "source": [
    "# TUPLAS"
   ]
  },
  {
   "cell_type": "code",
   "execution_count": 33,
   "id": "e41f14a0-b42c-4228-a006-e76d9ae380bb",
   "metadata": {},
   "outputs": [
    {
     "data": {
      "text/plain": [
       "(5, 2, '-1', [4, 2, 1], 'pasa')"
      ]
     },
     "execution_count": 33,
     "metadata": {},
     "output_type": "execute_result"
    }
   ],
   "source": [
    "variable = (5,2,'-1',[4,2,1], 'pasa')\n",
    "variable "
   ]
  },
  {
   "cell_type": "code",
   "execution_count": 26,
   "id": "3ff22301-bb77-4e56-bc45-4a6bb50a4012",
   "metadata": {},
   "outputs": [
    {
     "data": {
      "text/plain": [
       "tuple"
      ]
     },
     "execution_count": 26,
     "metadata": {},
     "output_type": "execute_result"
    }
   ],
   "source": [
    "type(variable)"
   ]
  },
  {
   "cell_type": "code",
   "execution_count": 29,
   "id": "b996a8a3-a71d-4761-9912-257ef5c05c24",
   "metadata": {},
   "outputs": [
    {
     "data": {
      "text/plain": [
       "(5, 2, '-1', 4, 2, 1, 'pasa')"
      ]
     },
     "execution_count": 29,
     "metadata": {},
     "output_type": "execute_result"
    }
   ],
   "source": [
    "variable"
   ]
  },
  {
   "cell_type": "code",
   "execution_count": 30,
   "id": "5c0f4b6f-d830-404a-a651-3c315a1a4f34",
   "metadata": {},
   "outputs": [
    {
     "data": {
      "text/plain": [
       "'pasa'"
      ]
     },
     "execution_count": 30,
     "metadata": {},
     "output_type": "execute_result"
    }
   ],
   "source": [
    "variable [-1]"
   ]
  },
  {
   "cell_type": "code",
   "execution_count": 34,
   "id": "9b491785-18e5-433d-a6ee-0f9317ffb70f",
   "metadata": {},
   "outputs": [
    {
     "data": {
      "text/plain": [
       "(2, '-1')"
      ]
     },
     "execution_count": 34,
     "metadata": {},
     "output_type": "execute_result"
    }
   ],
   "source": [
    "variable [1: -2]"
   ]
  },
  {
   "cell_type": "code",
   "execution_count": 37,
   "id": "21eabd7f-eb55-4091-9835-bbed817b5b46",
   "metadata": {},
   "outputs": [
    {
     "data": {
      "text/plain": [
       "(5, 2, '-1')"
      ]
     },
     "execution_count": 37,
     "metadata": {},
     "output_type": "execute_result"
    }
   ],
   "source": [
    "pos_i, pos_f = 0, 2\n",
    "variable [pos_i : pos_f+1]"
   ]
  },
  {
   "cell_type": "code",
   "execution_count": 38,
   "id": "0ef84fe8-f9d0-4e3a-b326-a4239f165d25",
   "metadata": {},
   "outputs": [
    {
     "data": {
      "text/plain": [
       "(2, '-1', [4, 2, 1])"
      ]
     },
     "execution_count": 38,
     "metadata": {},
     "output_type": "execute_result"
    }
   ],
   "source": [
    "variable [-4:4]"
   ]
  },
  {
   "cell_type": "code",
   "execution_count": 40,
   "id": "ac8e4bae-4c0a-4c23-b0b6-152f6c4a1a03",
   "metadata": {},
   "outputs": [
    {
     "data": {
      "text/plain": [
       "(5, 2)"
      ]
     },
     "execution_count": 40,
     "metadata": {},
     "output_type": "execute_result"
    }
   ],
   "source": [
    "tupla = (5,2)\n",
    "tupla"
   ]
  },
  {
   "cell_type": "code",
   "execution_count": 41,
   "id": "a7d631cb-aebd-483b-93a7-6533fe6b2f33",
   "metadata": {},
   "outputs": [
    {
     "data": {
      "text/plain": [
       "2"
      ]
     },
     "execution_count": 41,
     "metadata": {},
     "output_type": "execute_result"
    }
   ],
   "source": [
    "len(tupla)"
   ]
  },
  {
   "cell_type": "code",
   "execution_count": 42,
   "id": "9ae1573a-82f0-43d2-8187-b88f2fc0d801",
   "metadata": {},
   "outputs": [
    {
     "data": {
      "text/plain": [
       "tuple"
      ]
     },
     "execution_count": 42,
     "metadata": {},
     "output_type": "execute_result"
    }
   ],
   "source": [
    "type(tupla)"
   ]
  },
  {
   "cell_type": "code",
   "execution_count": 43,
   "id": "eda3af43-f4e6-40d2-8a3f-9011213df934",
   "metadata": {},
   "outputs": [
    {
     "data": {
      "text/plain": [
       "(tuple, 2)"
      ]
     },
     "execution_count": 43,
     "metadata": {},
     "output_type": "execute_result"
    }
   ],
   "source": [
    "type(tupla), len(tupla)"
   ]
  },
  {
   "cell_type": "code",
   "execution_count": 44,
   "id": "47e254e9-e4ad-418e-ada5-69764daf5ae3",
   "metadata": {},
   "outputs": [],
   "source": [
    "t1, t2, t3 = (4,5), (6,7), (8,9)"
   ]
  },
  {
   "cell_type": "code",
   "execution_count": 45,
   "id": "2ed02991-4164-46cd-ba9f-47943bd9a1d4",
   "metadata": {},
   "outputs": [
    {
     "data": {
      "text/plain": [
       "(6, 7, 6, 7, 6, 7)"
      ]
     },
     "execution_count": 45,
     "metadata": {},
     "output_type": "execute_result"
    }
   ],
   "source": [
    "3*t2"
   ]
  },
  {
   "cell_type": "code",
   "execution_count": 47,
   "id": "63d8f51c-7503-4847-944d-4170e4effe9d",
   "metadata": {},
   "outputs": [
    {
     "data": {
      "text/plain": [
       "[7, 7, 7]"
      ]
     },
     "execution_count": 47,
     "metadata": {},
     "output_type": "execute_result"
    }
   ],
   "source": [
    "[(3*t2) [3]]*3"
   ]
  },
  {
   "cell_type": "code",
   "execution_count": 48,
   "id": "1531abd8-2f0e-4833-a73e-4b1d12eda37f",
   "metadata": {},
   "outputs": [
    {
     "data": {
      "text/plain": [
       "6"
      ]
     },
     "execution_count": 48,
     "metadata": {},
     "output_type": "execute_result"
    }
   ],
   "source": [
    "t2[0]"
   ]
  },
  {
   "cell_type": "markdown",
   "id": "ae408105-03e5-4736-bd66-185a2ab74093",
   "metadata": {},
   "source": [
    "# MAPING : DICCIONARIOS"
   ]
  },
  {
   "cell_type": "code",
   "execution_count": 51,
   "id": "d9311c10-4a55-4aff-b6ec-b6cc5aa3ee39",
   "metadata": {},
   "outputs": [
    {
     "data": {
      "text/plain": [
       "{'key': 'valor', 'llave2': 'valor2', 'llave3': 5, 'llave4': [2, 3], 5: [-2]}"
      ]
     },
     "execution_count": 51,
     "metadata": {},
     "output_type": "execute_result"
    }
   ],
   "source": [
    "diccionario = {'key' : 'valor', 'llave2':'valor2', 'llave3':5,'llave3': 5, 'llave4': [2,3],\n",
    "               5: [-2]}\n",
    "diccionario"
   ]
  },
  {
   "cell_type": "code",
   "execution_count": 53,
   "id": "5b52de6a-ff2d-4c11-b42b-40efe2f06d78",
   "metadata": {},
   "outputs": [
    {
     "data": {
      "text/plain": [
       "[-2]"
      ]
     },
     "execution_count": 53,
     "metadata": {},
     "output_type": "execute_result"
    }
   ],
   "source": [
    "diccionario[5]"
   ]
  },
  {
   "cell_type": "code",
   "execution_count": 54,
   "id": "faf40f3f-1df3-4ffd-85ef-9e2e0e78fceb",
   "metadata": {},
   "outputs": [
    {
     "data": {
      "text/plain": [
       "'valor2'"
      ]
     },
     "execution_count": 54,
     "metadata": {},
     "output_type": "execute_result"
    }
   ],
   "source": [
    "diccionario['llave2']"
   ]
  },
  {
   "cell_type": "code",
   "execution_count": 55,
   "id": "1921ba60-c872-4ce7-a478-808fd19da188",
   "metadata": {},
   "outputs": [
    {
     "data": {
      "text/plain": [
       "dict_keys(['key', 'llave2', 'llave3', 'llave4', 5])"
      ]
     },
     "execution_count": 55,
     "metadata": {},
     "output_type": "execute_result"
    }
   ],
   "source": [
    "diccionario.keys() # se está usando el método 'keyes'"
   ]
  },
  {
   "cell_type": "code",
   "execution_count": 56,
   "id": "a3f9f652-c65e-48d3-81e7-0efdda6df9c8",
   "metadata": {},
   "outputs": [
    {
     "data": {
      "text/plain": [
       "dict_values(['valor', 'valor2', 5, [2, 3], [-2]])"
      ]
     },
     "execution_count": 56,
     "metadata": {},
     "output_type": "execute_result"
    }
   ],
   "source": [
    "diccionario.values () # se está usando el método 'values'"
   ]
  },
  {
   "cell_type": "code",
   "execution_count": 57,
   "id": "15cb1034-3688-45d5-9450-6dccba6aaaee",
   "metadata": {},
   "outputs": [
    {
     "data": {
      "text/plain": [
       "dict_values(['valor', 'valor2', 5, [2, 3], [-2]])"
      ]
     },
     "execution_count": 57,
     "metadata": {},
     "output_type": "execute_result"
    }
   ],
   "source": [
    "var = diccionario.values ()\n",
    "var"
   ]
  },
  {
   "cell_type": "markdown",
   "id": "07ca0540-8298-4c76-acd0-a3b560ac5c1d",
   "metadata": {},
   "source": [
    "# convertir a otros tipos de datos"
   ]
  },
  {
   "cell_type": "code",
   "execution_count": 61,
   "id": "a974726a-3d29-4773-b147-af8dfd102698",
   "metadata": {},
   "outputs": [
    {
     "data": {
      "text/plain": [
       "['valor', 'valor2', 5, [2, 3], [-2], 'a mimir']"
      ]
     },
     "execution_count": 61,
     "metadata": {},
     "output_type": "execute_result"
    }
   ],
   "source": [
    "list(var)"
   ]
  },
  {
   "cell_type": "code",
   "execution_count": 62,
   "id": "1a013110-5eb9-4a58-b7ca-dfe63e64e1d7",
   "metadata": {},
   "outputs": [
    {
     "data": {
      "text/plain": [
       "('valor', 'valor2', 5, [2, 3], [-2], 'a mimir')"
      ]
     },
     "execution_count": 62,
     "metadata": {},
     "output_type": "execute_result"
    }
   ],
   "source": [
    "tuple(var)"
   ]
  },
  {
   "cell_type": "code",
   "execution_count": 67,
   "id": "7bcf1d6a-94db-4d99-8ea8-ddb897f5c791",
   "metadata": {},
   "outputs": [
    {
     "data": {
      "text/plain": [
       "{'key': 'valor',\n",
       " 'llave2': 'valor2',\n",
       " 'llave3': 5,\n",
       " 'llave4': [2, 3],\n",
       " 5: [-2],\n",
       " 'vamosnos': 'a mimir'}"
      ]
     },
     "execution_count": 67,
     "metadata": {},
     "output_type": "execute_result"
    }
   ],
   "source": [
    "#diciconario ['llave2'] = 45 \n",
    "diccionario"
   ]
  },
  {
   "cell_type": "code",
   "execution_count": 64,
   "id": "50cc06da-7799-4c69-8598-75d3dd5fed20",
   "metadata": {},
   "outputs": [
    {
     "data": {
      "text/plain": [
       "{'key': 'valor',\n",
       " 'llave2': 'valor2',\n",
       " 'llave3': 5,\n",
       " 'llave4': [2, 3],\n",
       " 5: [-2],\n",
       " 'vamosnos': 'a mimir'}"
      ]
     },
     "execution_count": 64,
     "metadata": {},
     "output_type": "execute_result"
    }
   ],
   "source": [
    "diccionario ['vamosnos'] = 'a mimir'\n",
    "diccionario "
   ]
  },
  {
   "cell_type": "code",
   "execution_count": 66,
   "id": "86fa0262-d5ab-45ed-bab1-f8341a1ea95f",
   "metadata": {},
   "outputs": [],
   "source": [
    "#diccionario.pop ('vamosnos ')"
   ]
  },
  {
   "cell_type": "code",
   "execution_count": null,
   "id": "f097d0d3-1cac-49c5-8e05-47dfaad2e6bb",
   "metadata": {},
   "outputs": [],
   "source": []
  }
 ],
 "metadata": {
  "kernelspec": {
   "display_name": "Python 3 (ipykernel)",
   "language": "python",
   "name": "python3"
  },
  "language_info": {
   "codemirror_mode": {
    "name": "ipython",
    "version": 3
   },
   "file_extension": ".py",
   "mimetype": "text/x-python",
   "name": "python",
   "nbconvert_exporter": "python",
   "pygments_lexer": "ipython3",
   "version": "3.10.4"
  }
 },
 "nbformat": 4,
 "nbformat_minor": 5
}
