{
 "cells": [
  {
   "cell_type": "code",
   "execution_count": 15,
   "id": "e2392d06-a1f8-4e05-bd5f-a10a039db1a5",
   "metadata": {},
   "outputs": [
    {
     "data": {
      "text/plain": [
       "['rojo', 2.3, 100, 'chocolate', (2+5j)]"
      ]
     },
     "execution_count": 15,
     "metadata": {},
     "output_type": "execute_result"
    }
   ],
   "source": [
    "lista=['rojo', 2.3, 100, 'chocolate', complex(2,5)]\n",
    "lista"
   ]
  },
  {
   "cell_type": "code",
   "execution_count": 16,
   "id": "aa4f9f51-583f-4ba6-aa2f-784cfe9d3a69",
   "metadata": {},
   "outputs": [
    {
     "data": {
      "text/plain": [
       "['rojo', 2.3, 100, 'chocolate', (2+5j), 'jose torres']"
      ]
     },
     "execution_count": 16,
     "metadata": {},
     "output_type": "execute_result"
    }
   ],
   "source": [
    "lista.append('jose torres')\n",
    "lista"
   ]
  },
  {
   "cell_type": "code",
   "execution_count": 17,
   "id": "8d3a00a7-0e82-476e-92b5-573a76c523f8",
   "metadata": {},
   "outputs": [
    {
     "data": {
      "text/plain": [
       "list"
      ]
     },
     "execution_count": 17,
     "metadata": {},
     "output_type": "execute_result"
    }
   ],
   "source": [
    "lista_vacia=[]\n",
    "type(lista_vacia)"
   ]
  },
  {
   "cell_type": "code",
   "execution_count": 18,
   "id": "29f9c7e5-6b63-441e-b4c0-64299355c067",
   "metadata": {},
   "outputs": [
    {
     "name": "stdout",
     "output_type": "stream",
     "text": [
      "6 ['rojo', 2.3, 100, 'chocolate', (2+5j), [4, 2, 6]]\n"
     ]
    }
   ],
   "source": [
    "lista[-1] = [4,2,6]\n",
    "print(len(lista), lista)"
   ]
  },
  {
   "cell_type": "code",
   "execution_count": 19,
   "id": "70038890-e251-4522-8233-420efc541f6c",
   "metadata": {},
   "outputs": [
    {
     "name": "stdout",
     "output_type": "stream",
     "text": [
      "8 ['rojo', 2.3, 100, 'chocolate', (2+5j), 4, 2, 6]\n"
     ]
    }
   ],
   "source": [
    "lista[-1:] = [4,2,6]\n",
    "print(len(lista), lista)"
   ]
  },
  {
   "cell_type": "code",
   "execution_count": 20,
   "id": "0028dbb6-6382-473a-a473-558422f48e0b",
   "metadata": {},
   "outputs": [
    {
     "data": {
      "text/plain": [
       "['rojo', 2.3, 'chocolate', (2+5j), 4, 2, 6]"
      ]
     },
     "execution_count": 20,
     "metadata": {},
     "output_type": "execute_result"
    }
   ],
   "source": [
    "#Borrar elemento\n",
    "\n",
    "del lista[2]\n",
    "lista"
   ]
  },
  {
   "cell_type": "code",
   "execution_count": 21,
   "id": "d8b1e7be-0402-462a-a303-27f10248aec6",
   "metadata": {},
   "outputs": [
    {
     "data": {
      "text/plain": [
       "['rojo', 2.3, 4, 2, 6]"
      ]
     },
     "execution_count": 21,
     "metadata": {},
     "output_type": "execute_result"
    }
   ],
   "source": [
    "del lista[2:4]\n",
    "lista"
   ]
  },
  {
   "cell_type": "code",
   "execution_count": 22,
   "id": "34724a59-4d29-47a8-9fc4-a1034b77a2e5",
   "metadata": {},
   "outputs": [
    {
     "data": {
      "text/plain": [
       "[]"
      ]
     },
     "execution_count": 22,
     "metadata": {},
     "output_type": "execute_result"
    }
   ],
   "source": [
    "del lista [:]\n",
    "lista"
   ]
  },
  {
   "cell_type": "code",
   "execution_count": 23,
   "id": "3f864883-95bd-4535-82e0-97b12def16ef",
   "metadata": {},
   "outputs": [
    {
     "ename": "IndexError",
     "evalue": "list assignment index out of range",
     "output_type": "error",
     "traceback": [
      "\u001b[1;31m---------------------------------------------------------------------------\u001b[0m",
      "\u001b[1;31mIndexError\u001b[0m                                Traceback (most recent call last)",
      "Cell \u001b[1;32mIn[23], line 1\u001b[0m\n\u001b[1;32m----> 1\u001b[0m \u001b[38;5;28;01mdel\u001b[39;00m lista[\u001b[38;5;241m0\u001b[39m]\n",
      "\u001b[1;31mIndexError\u001b[0m: list assignment index out of range"
     ]
    }
   ],
   "source": [
    "del lista[0]"
   ]
  },
  {
   "cell_type": "markdown",
   "id": "076c3841-bd65-4e8b-829f-e03c24e3c9e8",
   "metadata": {},
   "source": [
    "## Matrices"
   ]
  },
  {
   "cell_type": "code",
   "execution_count": 24,
   "id": "f6ace035-5652-42ac-bd9a-f83bdea41661",
   "metadata": {},
   "outputs": [
    {
     "data": {
      "text/plain": [
       "[[1, 2, 3], [4, 5, 6], [7, 8, 9], [8, 7, 6]]"
      ]
     },
     "execution_count": 24,
     "metadata": {},
     "output_type": "execute_result"
    }
   ],
   "source": [
    "matriz= [[1,2,3],\n",
    "         [4,5,6],\n",
    "         [7,8,9],\n",
    "         [8,7,6]]\n",
    "matriz"
   ]
  },
  {
   "cell_type": "code",
   "execution_count": 25,
   "id": "082150ca-474c-492b-8aa8-db629908a74b",
   "metadata": {},
   "outputs": [
    {
     "data": {
      "text/plain": [
       "list"
      ]
     },
     "execution_count": 25,
     "metadata": {},
     "output_type": "execute_result"
    }
   ],
   "source": [
    "type(matriz)"
   ]
  },
  {
   "cell_type": "code",
   "execution_count": 28,
   "id": "4c0fbdac-5eee-467e-a7ad-1ce98774dc1d",
   "metadata": {},
   "outputs": [
    {
     "data": {
      "text/plain": [
       "[7, 8, 9]"
      ]
     },
     "execution_count": 28,
     "metadata": {},
     "output_type": "execute_result"
    }
   ],
   "source": [
    "a=matriz[2]\n",
    "a"
   ]
  },
  {
   "cell_type": "code",
   "execution_count": 29,
   "id": "d3bb4f2e-e777-4137-9dd0-457230f4b091",
   "metadata": {},
   "outputs": [
    {
     "data": {
      "text/plain": [
       "9"
      ]
     },
     "execution_count": 29,
     "metadata": {},
     "output_type": "execute_result"
    }
   ],
   "source": [
    "a[2]"
   ]
  },
  {
   "cell_type": "code",
   "execution_count": 30,
   "id": "95331d08-4bb0-4675-ac75-5c62834202a9",
   "metadata": {},
   "outputs": [
    {
     "data": {
      "text/plain": [
       "9"
      ]
     },
     "execution_count": 30,
     "metadata": {},
     "output_type": "execute_result"
    }
   ],
   "source": [
    "matriz[2][-1]"
   ]
  },
  {
   "cell_type": "markdown",
   "id": "05b78a67-8d1f-4110-a64d-0ff6deaa41ec",
   "metadata": {},
   "source": [
    "## Tuplas"
   ]
  },
  {
   "cell_type": "code",
   "execution_count": 46,
   "id": "b5e0ec48-b666-47be-9a53-493928f4cf7c",
   "metadata": {},
   "outputs": [
    {
     "data": {
      "text/plain": [
       "(7, 8, 9, 0, 4, 3, 1, 8)"
      ]
     },
     "execution_count": 46,
     "metadata": {},
     "output_type": "execute_result"
    }
   ],
   "source": [
    "variable = (7,8,9,0,4,3,1,8)\n",
    "variable"
   ]
  },
  {
   "cell_type": "code",
   "execution_count": 47,
   "id": "153ab14e-a031-490b-b276-f7ad5c52dd45",
   "metadata": {},
   "outputs": [
    {
     "data": {
      "text/plain": [
       "tuple"
      ]
     },
     "execution_count": 47,
     "metadata": {},
     "output_type": "execute_result"
    }
   ],
   "source": [
    "type(variable)"
   ]
  },
  {
   "cell_type": "code",
   "execution_count": 33,
   "id": "025a83b4-c34a-453c-88a7-a119475f153f",
   "metadata": {},
   "outputs": [
    {
     "data": {
      "text/plain": [
       "8"
      ]
     },
     "execution_count": 33,
     "metadata": {},
     "output_type": "execute_result"
    }
   ],
   "source": [
    "variable[1]"
   ]
  },
  {
   "cell_type": "code",
   "execution_count": 36,
   "id": "d91e3131-adb8-42a8-b02f-e8ad719d5d6b",
   "metadata": {},
   "outputs": [
    {
     "data": {
      "text/plain": [
       "(7, 8, 9)"
      ]
     },
     "execution_count": 36,
     "metadata": {},
     "output_type": "execute_result"
    }
   ],
   "source": [
    "variable[0:3]"
   ]
  },
  {
   "cell_type": "code",
   "execution_count": 39,
   "id": "fbde52e2-2be3-4a7c-8543-f4bfbd4d3995",
   "metadata": {},
   "outputs": [
    {
     "data": {
      "text/plain": [
       "(7, 8, 9)"
      ]
     },
     "execution_count": 39,
     "metadata": {},
     "output_type": "execute_result"
    }
   ],
   "source": [
    "pos_i=0\n",
    "pos_f=2\n",
    "variable[pos_i:pos_f+1]"
   ]
  },
  {
   "cell_type": "code",
   "execution_count": 50,
   "id": "b77cd199-676b-4bad-aa06-341cdf2968af",
   "metadata": {},
   "outputs": [
    {
     "data": {
      "text/plain": [
       "()"
      ]
     },
     "execution_count": 50,
     "metadata": {},
     "output_type": "execute_result"
    }
   ],
   "source": [
    "variable[-1:1]"
   ]
  },
  {
   "cell_type": "code",
   "execution_count": 51,
   "id": "233819a4-0313-4ebb-92e1-ffbe8043be13",
   "metadata": {},
   "outputs": [
    {
     "data": {
      "text/plain": [
       "5"
      ]
     },
     "execution_count": 51,
     "metadata": {},
     "output_type": "execute_result"
    }
   ],
   "source": [
    "tupla = (5)\n",
    "tupla"
   ]
  },
  {
   "cell_type": "code",
   "execution_count": 52,
   "id": "2218d6d6-6e63-44f5-92da-0e18ce865b70",
   "metadata": {},
   "outputs": [
    {
     "data": {
      "text/plain": [
       "int"
      ]
     },
     "execution_count": 52,
     "metadata": {},
     "output_type": "execute_result"
    }
   ],
   "source": [
    "type(tupla)"
   ]
  },
  {
   "cell_type": "code",
   "execution_count": 53,
   "id": "d97a8a44-113b-467e-990d-3c44dab2c86c",
   "metadata": {},
   "outputs": [
    {
     "data": {
      "text/plain": [
       "(5,)"
      ]
     },
     "execution_count": 53,
     "metadata": {},
     "output_type": "execute_result"
    }
   ],
   "source": [
    "tupla = (5,)\n",
    "tupla"
   ]
  },
  {
   "cell_type": "code",
   "execution_count": 55,
   "id": "9f30e68c-9f50-417f-8071-0545dd460c16",
   "metadata": {},
   "outputs": [
    {
     "data": {
      "text/plain": [
       "tuple"
      ]
     },
     "execution_count": 55,
     "metadata": {},
     "output_type": "execute_result"
    }
   ],
   "source": [
    "type(tupla)"
   ]
  },
  {
   "cell_type": "code",
   "execution_count": 56,
   "id": "1bf071a1-eb1f-4a58-98b7-99af5e481303",
   "metadata": {},
   "outputs": [],
   "source": [
    "t1,t2,t3 = (4,5), (6,7), (8,9)"
   ]
  },
  {
   "cell_type": "code",
   "execution_count": 58,
   "id": "c09b17e1-741d-4258-be0f-5942424683bf",
   "metadata": {},
   "outputs": [
    {
     "data": {
      "text/plain": [
       "(6, 7, 6, 7, 6, 7)"
      ]
     },
     "execution_count": 58,
     "metadata": {},
     "output_type": "execute_result"
    }
   ],
   "source": [
    "3*t2"
   ]
  },
  {
   "cell_type": "code",
   "execution_count": 60,
   "id": "1640c9f1-cdac-406b-a1a9-3642c9de1a83",
   "metadata": {},
   "outputs": [
    {
     "data": {
      "text/plain": [
       "7"
      ]
     },
     "execution_count": 60,
     "metadata": {},
     "output_type": "execute_result"
    }
   ],
   "source": [
    "(3*t2)[3]"
   ]
  },
  {
   "cell_type": "code",
   "execution_count": 61,
   "id": "7de25b69-bf61-4d32-aa91-d9b11a683c30",
   "metadata": {},
   "outputs": [
    {
     "data": {
      "text/plain": [
       "[7, 7, 7]"
      ]
     },
     "execution_count": 61,
     "metadata": {},
     "output_type": "execute_result"
    }
   ],
   "source": [
    "# los [] convierten en lista\n",
    "\n",
    "[(3*t2)[3]]*3"
   ]
  },
  {
   "cell_type": "code",
   "execution_count": null,
   "id": "7c324f16-e450-43c9-9cd6-9d5aacdaf622",
   "metadata": {},
   "outputs": [],
   "source": [
    "t2[0] = "
   ]
  },
  {
   "cell_type": "code",
   "execution_count": 69,
   "id": "fe970066-b79a-449d-bf99-fddb0473cf4f",
   "metadata": {},
   "outputs": [
    {
     "data": {
      "text/plain": [
       "{'key1': 'valor1', 'llave2': 'valor2', 'llave3': 5, 'llave4': [2, 3], 5: [-2]}"
      ]
     },
     "execution_count": 69,
     "metadata": {},
     "output_type": "execute_result"
    }
   ],
   "source": [
    "diccionario = {'key1': 'valor1', 'llave2' : 'valor2', 'llave3':5, 'llave4':[2,3], 5:[-2] }\n",
    "diccionario"
   ]
  },
  {
   "cell_type": "code",
   "execution_count": 70,
   "id": "e94e526b-50f1-4040-bc85-41292e229e3f",
   "metadata": {},
   "outputs": [
    {
     "data": {
      "text/plain": [
       "'valor2'"
      ]
     },
     "execution_count": 70,
     "metadata": {},
     "output_type": "execute_result"
    }
   ],
   "source": [
    "diccionario['llave2']"
   ]
  },
  {
   "cell_type": "code",
   "execution_count": 72,
   "id": "f4c012a2-415c-423a-aeb7-1a0869ce77f3",
   "metadata": {},
   "outputs": [
    {
     "data": {
      "text/plain": [
       "dict_keys(['key1', 'llave2', 'llave3', 'llave4', 5])"
      ]
     },
     "execution_count": 72,
     "metadata": {},
     "output_type": "execute_result"
    }
   ],
   "source": [
    "#algo.algo() = método\n",
    "\n",
    "diccionario.keys()"
   ]
  },
  {
   "cell_type": "code",
   "execution_count": 73,
   "id": "bd41cc95-863f-4fcc-aeab-5491a25e9005",
   "metadata": {},
   "outputs": [
    {
     "data": {
      "text/plain": [
       "dict_values(['valor1', 'valor2', 5, [2, 3], [-2]])"
      ]
     },
     "execution_count": 73,
     "metadata": {},
     "output_type": "execute_result"
    }
   ],
   "source": [
    "diccionario.values()"
   ]
  },
  {
   "cell_type": "code",
   "execution_count": 74,
   "id": "97c67ecd-95c5-40cf-8dd9-16ca40edb661",
   "metadata": {},
   "outputs": [
    {
     "data": {
      "text/plain": [
       "dict_values(['valor1', 'valor2', 5, [2, 3], [-2]])"
      ]
     },
     "execution_count": 74,
     "metadata": {},
     "output_type": "execute_result"
    }
   ],
   "source": [
    "var = diccionario.values()\n",
    "var"
   ]
  },
  {
   "cell_type": "code",
   "execution_count": 75,
   "id": "1e31f7c1-fbd3-4f7a-a510-f182ca930f44",
   "metadata": {},
   "outputs": [
    {
     "data": {
      "text/plain": [
       "dict_values"
      ]
     },
     "execution_count": 75,
     "metadata": {},
     "output_type": "execute_result"
    }
   ],
   "source": [
    "type(var)"
   ]
  },
  {
   "cell_type": "code",
   "execution_count": null,
   "id": "f609930f-4afb-4d0a-a522-2c6a6393b806",
   "metadata": {},
   "outputs": [],
   "source": [
    "# Convertir a otros tipos de datos\n"
   ]
  },
  {
   "cell_type": "code",
   "execution_count": 78,
   "id": "53b4838c-803a-4bd3-86d4-61d322df4dc4",
   "metadata": {},
   "outputs": [
    {
     "data": {
      "text/plain": [
       "{'key1': 'valor1',\n",
       " 'llave2': 'valor2',\n",
       " 'llave3': 5,\n",
       " 'llave4': [2, 3],\n",
       " 5: [-2],\n",
       " 'ya': 'vamonos'}"
      ]
     },
     "execution_count": 78,
     "metadata": {},
     "output_type": "execute_result"
    }
   ],
   "source": [
    "#Agregar valores\n",
    "\n",
    "diccionario['ya'] = 'vamonos'\n",
    "diccionario"
   ]
  },
  {
   "cell_type": "code",
   "execution_count": 80,
   "id": "53e54bc1-0dde-4fdd-a6aa-c75d1caad1a3",
   "metadata": {},
   "outputs": [
    {
     "data": {
      "text/plain": [
       "'vamonos'"
      ]
     },
     "execution_count": 80,
     "metadata": {},
     "output_type": "execute_result"
    }
   ],
   "source": [
    "diccionario.pop('ya')"
   ]
  },
  {
   "cell_type": "code",
   "execution_count": null,
   "id": "5e3be962-8e3b-45ee-9f09-124f55f8c8f6",
   "metadata": {},
   "outputs": [],
   "source": []
  }
 ],
 "metadata": {
  "kernelspec": {
   "display_name": "Python 3 (ipykernel)",
   "language": "python",
   "name": "python3"
  },
  "language_info": {
   "codemirror_mode": {
    "name": "ipython",
    "version": 3
   },
   "file_extension": ".py",
   "mimetype": "text/x-python",
   "name": "python",
   "nbconvert_exporter": "python",
   "pygments_lexer": "ipython3",
   "version": "3.10.4"
  }
 },
 "nbformat": 4,
 "nbformat_minor": 5
}
