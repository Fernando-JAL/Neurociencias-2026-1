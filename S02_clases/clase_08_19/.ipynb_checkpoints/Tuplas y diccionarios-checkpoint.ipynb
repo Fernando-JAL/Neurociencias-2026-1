{
 "cells": [
  {
   "cell_type": "markdown",
   "id": "d9e53947-f906-436a-9f63-88369201120a",
   "metadata": {},
   "source": [
    "# Más listas"
   ]
  },
  {
   "cell_type": "code",
   "execution_count": 11,
   "id": "68ec5a71-0541-4ff8-85dd-ca574959ba57",
   "metadata": {},
   "outputs": [
    {
     "data": {
      "text/plain": [
       "['rojo', 2.3, 100, 'chocolate']"
      ]
     },
     "execution_count": 11,
     "metadata": {},
     "output_type": "execute_result"
    }
   ],
   "source": [
    "lista= ['rojo', 2.3, 100, 'chocolate']\n",
    "lista"
   ]
  },
  {
   "cell_type": "code",
   "execution_count": 12,
   "id": "03007ecf-7142-4a80-bc89-48dc051a239c",
   "metadata": {},
   "outputs": [
    {
     "data": {
      "text/plain": [
       "['rojo', 2.3, 100, 'chocolate', 'nuez']"
      ]
     },
     "execution_count": 12,
     "metadata": {},
     "output_type": "execute_result"
    }
   ],
   "source": [
    "lista.append('nuez')\n",
    "lista"
   ]
  },
  {
   "cell_type": "code",
   "execution_count": 13,
   "id": "c38705fb-522b-42a5-a57d-470bf70c207f",
   "metadata": {},
   "outputs": [
    {
     "data": {
      "text/plain": [
       "[]"
      ]
     },
     "execution_count": 13,
     "metadata": {},
     "output_type": "execute_result"
    }
   ],
   "source": [
    "lista_vacía= []\n",
    "lista_vacía"
   ]
  },
  {
   "cell_type": "code",
   "execution_count": 14,
   "id": "861057f4-7c36-42f0-8c50-5c4d683fe34a",
   "metadata": {},
   "outputs": [
    {
     "data": {
      "text/plain": [
       "list"
      ]
     },
     "execution_count": 14,
     "metadata": {},
     "output_type": "execute_result"
    }
   ],
   "source": [
    "type(lista_vacía)"
   ]
  },
  {
   "cell_type": "code",
   "execution_count": 15,
   "id": "0a850550-449e-4396-8d77-26ab2ff66bec",
   "metadata": {},
   "outputs": [
    {
     "data": {
      "text/plain": [
       "5"
      ]
     },
     "execution_count": 15,
     "metadata": {},
     "output_type": "execute_result"
    }
   ],
   "source": [
    "lista[-1]= [4, 2, 6]\n",
    "len(lista)"
   ]
  },
  {
   "cell_type": "code",
   "execution_count": 16,
   "id": "3215ba4a-61a6-46f8-9c59-e358cb26b3f7",
   "metadata": {},
   "outputs": [
    {
     "data": {
      "text/plain": [
       "7"
      ]
     },
     "execution_count": 16,
     "metadata": {},
     "output_type": "execute_result"
    }
   ],
   "source": [
    "lista[-1:]= [4, 2, 6]\n",
    "len(lista)"
   ]
  },
  {
   "cell_type": "code",
   "execution_count": 17,
   "id": "beee5a3c-c1d6-4830-a13e-604d64645036",
   "metadata": {},
   "outputs": [
    {
     "data": {
      "text/plain": [
       "['rojo', 2.3, 100, 'chocolate', 4, 2, 6]"
      ]
     },
     "execution_count": 17,
     "metadata": {},
     "output_type": "execute_result"
    }
   ],
   "source": [
    "lista"
   ]
  },
  {
   "cell_type": "code",
   "execution_count": 18,
   "id": "2e6ee4b0-fd86-482b-9d8e-dd8b382d773a",
   "metadata": {},
   "outputs": [
    {
     "data": {
      "text/plain": [
       "7"
      ]
     },
     "execution_count": 18,
     "metadata": {},
     "output_type": "execute_result"
    }
   ],
   "source": [
    "len(lista)"
   ]
  },
  {
   "cell_type": "code",
   "execution_count": 19,
   "id": "239f2b5f-8e3f-4b03-a5e3-942c59c39966",
   "metadata": {},
   "outputs": [],
   "source": [
    "lista[2]=[]"
   ]
  },
  {
   "cell_type": "code",
   "execution_count": 20,
   "id": "224884a9-25a0-4eae-b40e-f394692f2834",
   "metadata": {},
   "outputs": [
    {
     "data": {
      "text/plain": [
       "['rojo', 2.3, [], 'chocolate', 4, 2, 6]"
      ]
     },
     "execution_count": 20,
     "metadata": {},
     "output_type": "execute_result"
    }
   ],
   "source": [
    "lista"
   ]
  },
  {
   "cell_type": "code",
   "execution_count": 21,
   "id": "57287ff8-9e00-4cf2-9c39-f3c471951e52",
   "metadata": {},
   "outputs": [
    {
     "data": {
      "text/plain": [
       "['rojo', 2.3, 'chocolate', 4, 2, 6]"
      ]
     },
     "execution_count": 21,
     "metadata": {},
     "output_type": "execute_result"
    }
   ],
   "source": [
    "del lista [2]\n",
    "lista"
   ]
  },
  {
   "cell_type": "code",
   "execution_count": 23,
   "id": "b6c87a91-4fd7-4b89-8dd0-f9aca40beb99",
   "metadata": {},
   "outputs": [
    {
     "data": {
      "text/plain": [
       "['rojo', 2.3, 2, 6]"
      ]
     },
     "execution_count": 23,
     "metadata": {},
     "output_type": "execute_result"
    }
   ],
   "source": [
    "del lista[2:4]\n",
    "lista"
   ]
  },
  {
   "cell_type": "code",
   "execution_count": 24,
   "id": "186888a3-10a2-4973-86ec-f239525f7a18",
   "metadata": {},
   "outputs": [
    {
     "data": {
      "text/plain": [
       "['rojo', 2.3]"
      ]
     },
     "execution_count": 24,
     "metadata": {},
     "output_type": "execute_result"
    }
   ],
   "source": [
    "del lista[2:4]\n",
    "lista"
   ]
  },
  {
   "cell_type": "code",
   "execution_count": 25,
   "id": "761c453a-6de0-4f7c-bbc5-ee0574657ac5",
   "metadata": {},
   "outputs": [
    {
     "data": {
      "text/plain": [
       "[2.3]"
      ]
     },
     "execution_count": 25,
     "metadata": {},
     "output_type": "execute_result"
    }
   ],
   "source": [
    "del lista[0]\n",
    "lista"
   ]
  },
  {
   "cell_type": "code",
   "execution_count": 26,
   "id": "5ac91df5-09c4-4e21-b15a-f569ceb92f75",
   "metadata": {},
   "outputs": [
    {
     "data": {
      "text/plain": [
       "[]"
      ]
     },
     "execution_count": 26,
     "metadata": {},
     "output_type": "execute_result"
    }
   ],
   "source": [
    "del lista[0]\n",
    "lista"
   ]
  },
  {
   "cell_type": "code",
   "execution_count": 27,
   "id": "326fc3a6-4417-48dc-a6b1-39d0b2de76a7",
   "metadata": {},
   "outputs": [
    {
     "ename": "IndexError",
     "evalue": "list assignment index out of range",
     "output_type": "error",
     "traceback": [
      "\u001b[1;31m---------------------------------------------------------------------------\u001b[0m",
      "\u001b[1;31mIndexError\u001b[0m                                Traceback (most recent call last)",
      "Cell \u001b[1;32mIn[27], line 1\u001b[0m\n\u001b[1;32m----> 1\u001b[0m \u001b[38;5;28;01mdel\u001b[39;00m lista[\u001b[38;5;241m0\u001b[39m]\n\u001b[0;32m      2\u001b[0m lista\n",
      "\u001b[1;31mIndexError\u001b[0m: list assignment index out of range"
     ]
    }
   ],
   "source": [
    "del lista[0]\n",
    "lista"
   ]
  },
  {
   "cell_type": "code",
   "execution_count": 28,
   "id": "ba14bdf7-6e5e-41d8-b3ed-70d20f27ae49",
   "metadata": {},
   "outputs": [
    {
     "data": {
      "text/plain": [
       "[[1, 2, 3], [4, 5, 6], [7, 8, 9], [8, 7, 6]]"
      ]
     },
     "execution_count": 28,
     "metadata": {},
     "output_type": "execute_result"
    }
   ],
   "source": [
    "matriz= [[1,2,3],\n",
    "          [4,5,6],\n",
    "          [7,8,9],\n",
    "          [8,7,6]]\n",
    "matriz"
   ]
  },
  {
   "cell_type": "code",
   "execution_count": 31,
   "id": "6a43c3c5-e62c-4bc7-837b-4669b6053942",
   "metadata": {},
   "outputs": [],
   "source": [
    "a= matriz[2]"
   ]
  },
  {
   "cell_type": "code",
   "execution_count": 30,
   "id": "c8ecdbf7-6ada-4148-963c-8340572ad0e4",
   "metadata": {},
   "outputs": [
    {
     "data": {
      "text/plain": [
       "9"
      ]
     },
     "execution_count": 30,
     "metadata": {},
     "output_type": "execute_result"
    }
   ],
   "source": [
    "matriz[2][-1]"
   ]
  },
  {
   "cell_type": "code",
   "execution_count": 32,
   "id": "7827ce48-420b-43ef-b9e5-b92906c542ab",
   "metadata": {},
   "outputs": [
    {
     "data": {
      "text/plain": [
       "9"
      ]
     },
     "execution_count": 32,
     "metadata": {},
     "output_type": "execute_result"
    }
   ],
   "source": [
    "a[2]"
   ]
  },
  {
   "cell_type": "code",
   "execution_count": 33,
   "id": "79d93bf8-5c4e-4b6c-a8fe-bcf6ac91693f",
   "metadata": {},
   "outputs": [
    {
     "data": {
      "text/plain": [
       "[[1, 2, 3], [4, 5, 6], [7, 8, 9], [8, 7, 6]]"
      ]
     },
     "execution_count": 33,
     "metadata": {},
     "output_type": "execute_result"
    }
   ],
   "source": [
    "matriz"
   ]
  },
  {
   "cell_type": "code",
   "execution_count": 34,
   "id": "061c9d0d-ea3e-42da-96d2-79566a6fc6ff",
   "metadata": {},
   "outputs": [
    {
     "data": {
      "text/plain": [
       "4"
      ]
     },
     "execution_count": 34,
     "metadata": {},
     "output_type": "execute_result"
    }
   ],
   "source": [
    "matriz[1][0]"
   ]
  },
  {
   "cell_type": "markdown",
   "id": "55326804-ab6e-4fde-ac2e-f882edbcad4c",
   "metadata": {},
   "source": [
    "# Tuplas"
   ]
  },
  {
   "cell_type": "code",
   "execution_count": 37,
   "id": "e81c626c-8690-4c09-865a-f06ea1ee8da4",
   "metadata": {},
   "outputs": [
    {
     "data": {
      "text/plain": [
       "(5, 2, '-1', [4, 2, 1], 'pasa')"
      ]
     },
     "execution_count": 37,
     "metadata": {},
     "output_type": "execute_result"
    }
   ],
   "source": [
    "variable= (5,2,'-1',[4,2,1],'pasa')\n",
    "variable"
   ]
  },
  {
   "cell_type": "code",
   "execution_count": 36,
   "id": "3be00e6b-18c7-46db-b1c7-beb2e0e162ec",
   "metadata": {},
   "outputs": [
    {
     "data": {
      "text/plain": [
       "tuple"
      ]
     },
     "execution_count": 36,
     "metadata": {},
     "output_type": "execute_result"
    }
   ],
   "source": [
    "type(variable)"
   ]
  },
  {
   "cell_type": "code",
   "execution_count": 38,
   "id": "ac9b18c2-5cea-4413-a8d8-bc926f565eb9",
   "metadata": {},
   "outputs": [
    {
     "data": {
      "text/plain": [
       "(5, 2, '-1', [4, 2, 1], 'pasa')"
      ]
     },
     "execution_count": 38,
     "metadata": {},
     "output_type": "execute_result"
    }
   ],
   "source": [
    "variable"
   ]
  },
  {
   "cell_type": "code",
   "execution_count": 39,
   "id": "50408856-0046-4696-be3a-e1844ca5171b",
   "metadata": {},
   "outputs": [
    {
     "data": {
      "text/plain": [
       "'pasa'"
      ]
     },
     "execution_count": 39,
     "metadata": {},
     "output_type": "execute_result"
    }
   ],
   "source": [
    "variable[-1]"
   ]
  },
  {
   "cell_type": "code",
   "execution_count": 40,
   "id": "ef0d69ac-8d09-4d38-9dee-58bf678ad0d4",
   "metadata": {},
   "outputs": [
    {
     "data": {
      "text/plain": [
       "(2, '-1')"
      ]
     },
     "execution_count": 40,
     "metadata": {},
     "output_type": "execute_result"
    }
   ],
   "source": [
    "variable[1:-2]"
   ]
  },
  {
   "cell_type": "code",
   "execution_count": 41,
   "id": "14cf6b2b-eaf2-4b2a-8e50-a6043901593d",
   "metadata": {},
   "outputs": [
    {
     "data": {
      "text/plain": [
       "(5, 2, '-1')"
      ]
     },
     "execution_count": 41,
     "metadata": {},
     "output_type": "execute_result"
    }
   ],
   "source": [
    "variable[0:3]"
   ]
  },
  {
   "cell_type": "code",
   "execution_count": 45,
   "id": "da429057-85af-4cd6-8395-a4008a082dc6",
   "metadata": {},
   "outputs": [
    {
     "data": {
      "text/plain": [
       "(5, 2, '-1')"
      ]
     },
     "execution_count": 45,
     "metadata": {},
     "output_type": "execute_result"
    }
   ],
   "source": [
    "pos_i, pos_f= 0,2\n",
    "variable[pos_i: pos_f+1]"
   ]
  },
  {
   "cell_type": "code",
   "execution_count": 46,
   "id": "116592e9-c2ff-4211-9000-c142303f5535",
   "metadata": {},
   "outputs": [
    {
     "data": {
      "text/plain": [
       "(5, 2, '-1', [4, 2, 1], 'pasa')"
      ]
     },
     "execution_count": 46,
     "metadata": {},
     "output_type": "execute_result"
    }
   ],
   "source": [
    "variable"
   ]
  },
  {
   "cell_type": "code",
   "execution_count": 48,
   "id": "4081b579-c7ef-46f3-b7fa-0a28151b82bc",
   "metadata": {},
   "outputs": [
    {
     "data": {
      "text/plain": [
       "(2, '-1', [4, 2, 1])"
      ]
     },
     "execution_count": 48,
     "metadata": {},
     "output_type": "execute_result"
    }
   ],
   "source": [
    "variable[-4:4]"
   ]
  },
  {
   "cell_type": "code",
   "execution_count": 50,
   "id": "d31f88da-8b37-4d08-9f4e-7abb5c87c1b5",
   "metadata": {},
   "outputs": [
    {
     "data": {
      "text/plain": [
       "(5, 2)"
      ]
     },
     "execution_count": 50,
     "metadata": {},
     "output_type": "execute_result"
    }
   ],
   "source": [
    "tupla= (5,2)\n",
    "tupla"
   ]
  },
  {
   "cell_type": "code",
   "execution_count": 51,
   "id": "e5e5dada-df9d-4ef3-876d-b9c1ddc21128",
   "metadata": {},
   "outputs": [
    {
     "data": {
      "text/plain": [
       "2"
      ]
     },
     "execution_count": 51,
     "metadata": {},
     "output_type": "execute_result"
    }
   ],
   "source": [
    "len(tupla)"
   ]
  },
  {
   "cell_type": "code",
   "execution_count": 55,
   "id": "796978e8-990e-4629-b220-83e915b958ac",
   "metadata": {},
   "outputs": [
    {
     "data": {
      "text/plain": [
       "(5,)"
      ]
     },
     "execution_count": 55,
     "metadata": {},
     "output_type": "execute_result"
    }
   ],
   "source": [
    "tupla=(5, )\n",
    "tupla"
   ]
  },
  {
   "cell_type": "code",
   "execution_count": 56,
   "id": "11e002ed-cb6f-4ddc-8903-8dbe742e7fd5",
   "metadata": {},
   "outputs": [
    {
     "data": {
      "text/plain": [
       "tuple"
      ]
     },
     "execution_count": 56,
     "metadata": {},
     "output_type": "execute_result"
    }
   ],
   "source": [
    "type(tupla)"
   ]
  },
  {
   "cell_type": "code",
   "execution_count": 57,
   "id": "5a1838df-3efe-43e4-a335-6d59f6df27eb",
   "metadata": {},
   "outputs": [
    {
     "data": {
      "text/plain": [
       "1"
      ]
     },
     "execution_count": 57,
     "metadata": {},
     "output_type": "execute_result"
    }
   ],
   "source": [
    "len(tupla)"
   ]
  },
  {
   "cell_type": "code",
   "execution_count": 58,
   "id": "c8b56b51-c528-4cd4-acb5-bc320a7a5657",
   "metadata": {},
   "outputs": [],
   "source": [
    "t1, t2, t3= (4,5),(6,7),(8,9)"
   ]
  },
  {
   "cell_type": "code",
   "execution_count": 60,
   "id": "d330f164-4650-4c97-9b9a-55dced2ddce1",
   "metadata": {},
   "outputs": [
    {
     "data": {
      "text/plain": [
       "(4, 5, 6, 7)"
      ]
     },
     "execution_count": 60,
     "metadata": {},
     "output_type": "execute_result"
    }
   ],
   "source": [
    "t1+t2"
   ]
  },
  {
   "cell_type": "code",
   "execution_count": 61,
   "id": "0ec13995-8f97-4930-a046-4f6fcb7d41c3",
   "metadata": {},
   "outputs": [
    {
     "ename": "TypeError",
     "evalue": "unsupported operand type(s) for -: 'tuple' and 'tuple'",
     "output_type": "error",
     "traceback": [
      "\u001b[1;31m---------------------------------------------------------------------------\u001b[0m",
      "\u001b[1;31mTypeError\u001b[0m                                 Traceback (most recent call last)",
      "Cell \u001b[1;32mIn[61], line 1\u001b[0m\n\u001b[1;32m----> 1\u001b[0m \u001b[43mt1\u001b[49m\u001b[38;5;241;43m-\u001b[39;49m\u001b[43mt2\u001b[49m\n",
      "\u001b[1;31mTypeError\u001b[0m: unsupported operand type(s) for -: 'tuple' and 'tuple'"
     ]
    }
   ],
   "source": [
    "t1-t2"
   ]
  },
  {
   "cell_type": "code",
   "execution_count": 62,
   "id": "f82526a5-3119-4327-9283-52148b260c4f",
   "metadata": {},
   "outputs": [
    {
     "ename": "TypeError",
     "evalue": "can't multiply sequence by non-int of type 'tuple'",
     "output_type": "error",
     "traceback": [
      "\u001b[1;31m---------------------------------------------------------------------------\u001b[0m",
      "\u001b[1;31mTypeError\u001b[0m                                 Traceback (most recent call last)",
      "Cell \u001b[1;32mIn[62], line 1\u001b[0m\n\u001b[1;32m----> 1\u001b[0m \u001b[43mt1\u001b[49m\u001b[38;5;241;43m*\u001b[39;49m\u001b[43mt2\u001b[49m\n",
      "\u001b[1;31mTypeError\u001b[0m: can't multiply sequence by non-int of type 'tuple'"
     ]
    }
   ],
   "source": [
    "t1*t2"
   ]
  },
  {
   "cell_type": "code",
   "execution_count": 63,
   "id": "7404398b-4c8c-4b8b-b6d8-3e2a75b0d2d0",
   "metadata": {},
   "outputs": [
    {
     "data": {
      "text/plain": [
       "(6, 7, 6, 7, 6, 7)"
      ]
     },
     "execution_count": 63,
     "metadata": {},
     "output_type": "execute_result"
    }
   ],
   "source": [
    "3*t2"
   ]
  },
  {
   "cell_type": "code",
   "execution_count": 64,
   "id": "0273efa8-5f30-40fb-8e8b-b26a36533dc4",
   "metadata": {},
   "outputs": [
    {
     "ename": "IndexError",
     "evalue": "tuple index out of range",
     "output_type": "error",
     "traceback": [
      "\u001b[1;31m---------------------------------------------------------------------------\u001b[0m",
      "\u001b[1;31mIndexError\u001b[0m                                Traceback (most recent call last)",
      "Cell \u001b[1;32mIn[64], line 1\u001b[0m\n\u001b[1;32m----> 1\u001b[0m \u001b[38;5;241m3\u001b[39m\u001b[38;5;241m*\u001b[39m\u001b[43mt2\u001b[49m\u001b[43m[\u001b[49m\u001b[38;5;241;43m3\u001b[39;49m\u001b[43m]\u001b[49m\n",
      "\u001b[1;31mIndexError\u001b[0m: tuple index out of range"
     ]
    }
   ],
   "source": [
    "3*t2[3]"
   ]
  },
  {
   "cell_type": "code",
   "execution_count": 65,
   "id": "dd5c9973-4719-41f5-8f9b-0c9522d68d30",
   "metadata": {},
   "outputs": [
    {
     "data": {
      "text/plain": [
       "7"
      ]
     },
     "execution_count": 65,
     "metadata": {},
     "output_type": "execute_result"
    }
   ],
   "source": [
    "(3*t2)[3]"
   ]
  },
  {
   "cell_type": "code",
   "execution_count": 68,
   "id": "b831f4b8-04a6-4450-a1cb-b339fcf9e6d6",
   "metadata": {},
   "outputs": [
    {
     "data": {
      "text/plain": [
       "[7, 7, 7]"
      ]
     },
     "execution_count": 68,
     "metadata": {},
     "output_type": "execute_result"
    }
   ],
   "source": [
    "[(3*t2)[3]]*3"
   ]
  },
  {
   "cell_type": "code",
   "execution_count": 69,
   "id": "431eb6e8-2073-4589-b73e-42fca24e191b",
   "metadata": {},
   "outputs": [
    {
     "ename": "TypeError",
     "evalue": "'tuple' object does not support item assignment",
     "output_type": "error",
     "traceback": [
      "\u001b[1;31m---------------------------------------------------------------------------\u001b[0m",
      "\u001b[1;31mTypeError\u001b[0m                                 Traceback (most recent call last)",
      "Cell \u001b[1;32mIn[69], line 1\u001b[0m\n\u001b[1;32m----> 1\u001b[0m \u001b[43mt2\u001b[49m\u001b[43m[\u001b[49m\u001b[38;5;241;43m0\u001b[39;49m\u001b[43m]\u001b[49m\u001b[38;5;241m=\u001b[39m \u001b[38;5;241m5\u001b[39m\n",
      "\u001b[1;31mTypeError\u001b[0m: 'tuple' object does not support item assignment"
     ]
    }
   ],
   "source": [
    "t2[0]= 5"
   ]
  },
  {
   "cell_type": "markdown",
   "id": "277372b8-bc26-4c32-a139-72dfab3cdf7a",
   "metadata": {},
   "source": [
    "# Mapping: diccionarios"
   ]
  },
  {
   "cell_type": "code",
   "execution_count": 74,
   "id": "8f673623-35c2-40c8-9403-e157d9cf2dd6",
   "metadata": {},
   "outputs": [
    {
     "data": {
      "text/plain": [
       "{'key': 'valor', 'llave2': 'valor2', 'llave3': 5, 'llave4': [2, 3], 5: [-2]}"
      ]
     },
     "execution_count": 74,
     "metadata": {},
     "output_type": "execute_result"
    }
   ],
   "source": [
    "diccionario= {'key':'valor','llave2':'valor2','llave3':5,'llave4':[2,3],5:[-2]}\n",
    "diccionario"
   ]
  },
  {
   "cell_type": "code",
   "execution_count": 71,
   "id": "27b9bf51-5b55-442b-915d-4a8cdf7c613b",
   "metadata": {},
   "outputs": [
    {
     "data": {
      "text/plain": [
       "dict"
      ]
     },
     "execution_count": 71,
     "metadata": {},
     "output_type": "execute_result"
    }
   ],
   "source": [
    "type(diccionario)"
   ]
  },
  {
   "cell_type": "code",
   "execution_count": 75,
   "id": "9bbf7046-5860-410e-9328-8c0af0f4de70",
   "metadata": {},
   "outputs": [
    {
     "data": {
      "text/plain": [
       "[-2]"
      ]
     },
     "execution_count": 75,
     "metadata": {},
     "output_type": "execute_result"
    }
   ],
   "source": [
    "diccionario[5]"
   ]
  },
  {
   "cell_type": "code",
   "execution_count": 76,
   "id": "7fe74105-5cc2-442e-af73-9e33fff10fc8",
   "metadata": {},
   "outputs": [
    {
     "data": {
      "text/plain": [
       "'valor2'"
      ]
     },
     "execution_count": 76,
     "metadata": {},
     "output_type": "execute_result"
    }
   ],
   "source": [
    "diccionario['llave2']"
   ]
  },
  {
   "cell_type": "code",
   "execution_count": 77,
   "id": "8411da69-f812-4886-87de-a2f9c7d3f75b",
   "metadata": {},
   "outputs": [
    {
     "data": {
      "text/plain": [
       "dict_keys(['key', 'llave2', 'llave3', 'llave4', 5])"
      ]
     },
     "execution_count": 77,
     "metadata": {},
     "output_type": "execute_result"
    }
   ],
   "source": [
    "diccionario.keys()"
   ]
  },
  {
   "cell_type": "code",
   "execution_count": 78,
   "id": "c66d52c6-5aca-40cd-b870-95a2c0452fd5",
   "metadata": {},
   "outputs": [
    {
     "data": {
      "text/plain": [
       "dict_values(['valor', 'valor2', 5, [2, 3], [-2]])"
      ]
     },
     "execution_count": 78,
     "metadata": {},
     "output_type": "execute_result"
    }
   ],
   "source": [
    "diccionario.values()"
   ]
  },
  {
   "cell_type": "code",
   "execution_count": 79,
   "id": "847a02f3-5bf0-4cfc-8970-4345d30c4b03",
   "metadata": {},
   "outputs": [
    {
     "data": {
      "text/plain": [
       "dict_values(['valor', 'valor2', 5, [2, 3], [-2]])"
      ]
     },
     "execution_count": 79,
     "metadata": {},
     "output_type": "execute_result"
    }
   ],
   "source": [
    "var= diccionario.values()\n",
    "var"
   ]
  },
  {
   "cell_type": "markdown",
   "id": "3b19e34a-d948-4f00-8996-1e417a172f63",
   "metadata": {},
   "source": [
    "## Convertir a otros tipos de datos"
   ]
  },
  {
   "cell_type": "code",
   "execution_count": 80,
   "id": "fe2c985e-8ef8-4af0-bfd1-0879011ca112",
   "metadata": {},
   "outputs": [
    {
     "data": {
      "text/plain": [
       "['valor', 'valor2', 5, [2, 3], [-2]]"
      ]
     },
     "execution_count": 80,
     "metadata": {},
     "output_type": "execute_result"
    }
   ],
   "source": [
    "list(var)"
   ]
  },
  {
   "cell_type": "code",
   "execution_count": 81,
   "id": "9a1db9a2-ba27-4b04-854c-884baa337d6a",
   "metadata": {},
   "outputs": [
    {
     "data": {
      "text/plain": [
       "{'key': 'valor', 'llave2': 45, 'llave3': 5, 'llave4': [2, 3], 5: [-2]}"
      ]
     },
     "execution_count": 81,
     "metadata": {},
     "output_type": "execute_result"
    }
   ],
   "source": [
    "diccionario['llave2']= 45\n",
    "diccionario"
   ]
  },
  {
   "cell_type": "code",
   "execution_count": 82,
   "id": "2ab43771-d7a1-416f-b5b9-0546d05c413a",
   "metadata": {},
   "outputs": [],
   "source": [
    "diccionario['vamosnos']='a mimir'"
   ]
  },
  {
   "cell_type": "code",
   "execution_count": 83,
   "id": "24b20016-94f0-4dc7-8f66-90ea95179579",
   "metadata": {},
   "outputs": [
    {
     "data": {
      "text/plain": [
       "{'key': 'valor',\n",
       " 'llave2': 45,\n",
       " 'llave3': 5,\n",
       " 'llave4': [2, 3],\n",
       " 5: [-2],\n",
       " 'vamosnos': 'a mimir'}"
      ]
     },
     "execution_count": 83,
     "metadata": {},
     "output_type": "execute_result"
    }
   ],
   "source": [
    "diccionario"
   ]
  },
  {
   "cell_type": "code",
   "execution_count": 84,
   "id": "1afc9546-9616-4394-8181-2f9887eaddf7",
   "metadata": {},
   "outputs": [
    {
     "data": {
      "text/plain": [
       "'a mimir'"
      ]
     },
     "execution_count": 84,
     "metadata": {},
     "output_type": "execute_result"
    }
   ],
   "source": [
    "diccionario.pop('vamosnos')"
   ]
  },
  {
   "cell_type": "code",
   "execution_count": 85,
   "id": "bef372c4-7380-4884-b83a-dd32be69315f",
   "metadata": {},
   "outputs": [
    {
     "data": {
      "text/plain": [
       "{'key': 'valor', 'llave2': 45, 'llave3': 5, 'llave4': [2, 3], 5: [-2]}"
      ]
     },
     "execution_count": 85,
     "metadata": {},
     "output_type": "execute_result"
    }
   ],
   "source": [
    "diccionario"
   ]
  },
  {
   "cell_type": "code",
   "execution_count": null,
   "id": "965b5ab6-d680-4667-80b4-a7f04bd08703",
   "metadata": {},
   "outputs": [],
   "source": []
  }
 ],
 "metadata": {
  "kernelspec": {
   "display_name": "Python 3 (ipykernel)",
   "language": "python",
   "name": "python3"
  },
  "language_info": {
   "codemirror_mode": {
    "name": "ipython",
    "version": 3
   },
   "file_extension": ".py",
   "mimetype": "text/x-python",
   "name": "python",
   "nbconvert_exporter": "python",
   "pygments_lexer": "ipython3",
   "version": "3.10.4"
  }
 },
 "nbformat": 4,
 "nbformat_minor": 5
}
