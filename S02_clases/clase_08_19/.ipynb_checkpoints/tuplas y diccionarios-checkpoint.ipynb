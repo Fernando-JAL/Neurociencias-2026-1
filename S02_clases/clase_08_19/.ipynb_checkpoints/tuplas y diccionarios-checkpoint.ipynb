{
 "cells": [
  {
   "cell_type": "markdown",
   "id": "2f84c335-65c1-4ea0-aade-f9f792aeded5",
   "metadata": {},
   "source": [
    "# Más de listas"
   ]
  },
  {
   "cell_type": "code",
   "execution_count": 35,
   "id": "a74471a3-cd18-4383-b670-40b208331dd1",
   "metadata": {},
   "outputs": [
    {
     "data": {
      "text/plain": [
       "['rojo', 2.3, 100, 'chocolate']"
      ]
     },
     "execution_count": 35,
     "metadata": {},
     "output_type": "execute_result"
    }
   ],
   "source": [
    "lista= ['rojo',2.3,100,'chocolate' ]\n",
    "lista"
   ]
  },
  {
   "cell_type": "code",
   "execution_count": 36,
   "id": "c120d1f9-709a-439b-9082-499aefdb7934",
   "metadata": {},
   "outputs": [
    {
     "data": {
      "text/plain": [
       "['rojo', 2.3, 100, 'chocolate', 'nuez']"
      ]
     },
     "execution_count": 36,
     "metadata": {},
     "output_type": "execute_result"
    }
   ],
   "source": [
    "lista.append('nuez')\n",
    "lista"
   ]
  },
  {
   "cell_type": "code",
   "execution_count": 37,
   "id": "94bb55a3-4ee6-4039-9b43-13264bee5c96",
   "metadata": {},
   "outputs": [
    {
     "data": {
      "text/plain": [
       "[]"
      ]
     },
     "execution_count": 37,
     "metadata": {},
     "output_type": "execute_result"
    }
   ],
   "source": [
    "lista_vacía=[ ]\n",
    "lista_vacía"
   ]
  },
  {
   "cell_type": "code",
   "execution_count": 38,
   "id": "978ccd4e-8f75-4b8d-b201-9b8bec341007",
   "metadata": {},
   "outputs": [
    {
     "data": {
      "text/plain": [
       "5"
      ]
     },
     "execution_count": 38,
     "metadata": {},
     "output_type": "execute_result"
    }
   ],
   "source": [
    "lista[-1]=[4,2,6 ]\n",
    "lista\n",
    "len(lista)"
   ]
  },
  {
   "cell_type": "code",
   "execution_count": 39,
   "id": "2cc5e7b0-3b2c-4b76-a2b3-1f4783d8a294",
   "metadata": {},
   "outputs": [
    {
     "data": {
      "text/plain": [
       "['rojo', 2.3, 100, 'chocolate', [4, 2, 6]]"
      ]
     },
     "execution_count": 39,
     "metadata": {},
     "output_type": "execute_result"
    }
   ],
   "source": [
    "lista"
   ]
  },
  {
   "cell_type": "code",
   "execution_count": 40,
   "id": "abf9444a-a9b8-4add-af3f-6e31e79e5ee1",
   "metadata": {},
   "outputs": [
    {
     "data": {
      "text/plain": [
       "['rojo', 2.3, 'chocolate', [4, 2, 6]]"
      ]
     },
     "execution_count": 40,
     "metadata": {},
     "output_type": "execute_result"
    }
   ],
   "source": [
    "del lista[2]\n",
    "lista"
   ]
  },
  {
   "cell_type": "code",
   "execution_count": 41,
   "id": "3221e614-a6a7-4a84-9b3d-5c356aab8250",
   "metadata": {},
   "outputs": [
    {
     "data": {
      "text/plain": [
       "['rojo', 2.3]"
      ]
     },
     "execution_count": 41,
     "metadata": {},
     "output_type": "execute_result"
    }
   ],
   "source": [
    "del lista [2:4]\n",
    "lista"
   ]
  },
  {
   "cell_type": "code",
   "execution_count": 42,
   "id": "f1bf546f-4eeb-4ca1-8c91-3be116851894",
   "metadata": {},
   "outputs": [
    {
     "data": {
      "text/plain": [
       "[2.3]"
      ]
     },
     "execution_count": 42,
     "metadata": {},
     "output_type": "execute_result"
    }
   ],
   "source": [
    "del lista [0] \n",
    "lista"
   ]
  },
  {
   "cell_type": "code",
   "execution_count": 43,
   "id": "f7491e2b-9e6f-4a05-b033-7e7126f8c768",
   "metadata": {},
   "outputs": [
    {
     "data": {
      "text/plain": [
       "[[1, 2, 3], [4, 5, 6], [7, 8, 9]]"
      ]
     },
     "execution_count": 43,
     "metadata": {},
     "output_type": "execute_result"
    }
   ],
   "source": [
    "matriz=[[1,2,3],[4,5,6],[7,8,9]]\n",
    "matriz\n"
   ]
  },
  {
   "cell_type": "code",
   "execution_count": 44,
   "id": "b8084190-16da-4c68-9b06-e54ee72a8c3b",
   "metadata": {},
   "outputs": [
    {
     "data": {
      "text/plain": [
       "9"
      ]
     },
     "execution_count": 44,
     "metadata": {},
     "output_type": "execute_result"
    }
   ],
   "source": [
    "matriz[2][-1]"
   ]
  },
  {
   "cell_type": "code",
   "execution_count": 45,
   "id": "ad9c93ca-b74b-44de-9a38-54b2ddd797b8",
   "metadata": {},
   "outputs": [
    {
     "data": {
      "text/plain": [
       "[[1, 2, 3], [4, 5, 6], [7, 8, 9]]"
      ]
     },
     "execution_count": 45,
     "metadata": {},
     "output_type": "execute_result"
    }
   ],
   "source": [
    "matriz"
   ]
  },
  {
   "cell_type": "code",
   "execution_count": 46,
   "id": "5929827c-c439-4129-896b-b5ba77b02b5d",
   "metadata": {},
   "outputs": [
    {
     "data": {
      "text/plain": [
       "7"
      ]
     },
     "execution_count": 46,
     "metadata": {},
     "output_type": "execute_result"
    }
   ],
   "source": [
    "matriz[2][0]"
   ]
  },
  {
   "cell_type": "markdown",
   "id": "0f5dcfdf-e3eb-4083-896f-12f6e37c6c51",
   "metadata": {},
   "source": [
    "# Tuplas"
   ]
  },
  {
   "cell_type": "code",
   "execution_count": 51,
   "id": "424535b7-bf3b-4285-afce-7c3f106fdbde",
   "metadata": {},
   "outputs": [
    {
     "data": {
      "text/plain": [
       "(5, 2, '-1', [4, 2, 1], 'pasa')"
      ]
     },
     "execution_count": 51,
     "metadata": {},
     "output_type": "execute_result"
    }
   ],
   "source": [
    "variable=(5,2,'-1',[4,2,1],'pasa')\n",
    "variable"
   ]
  },
  {
   "cell_type": "code",
   "execution_count": 52,
   "id": "ca825a21-8e0b-498f-9528-06dbd462523c",
   "metadata": {},
   "outputs": [
    {
     "data": {
      "text/plain": [
       "tuple"
      ]
     },
     "execution_count": 52,
     "metadata": {},
     "output_type": "execute_result"
    }
   ],
   "source": [
    "type(variable)"
   ]
  },
  {
   "cell_type": "code",
   "execution_count": 53,
   "id": "37df69ec-d3af-40e2-97c7-4b7fecf4d257",
   "metadata": {},
   "outputs": [
    {
     "data": {
      "text/plain": [
       "'pasa'"
      ]
     },
     "execution_count": 53,
     "metadata": {},
     "output_type": "execute_result"
    }
   ],
   "source": [
    "variable[-1 ]"
   ]
  },
  {
   "cell_type": "code",
   "execution_count": 54,
   "id": "33e0632d-5f90-4fa7-8516-7050411603f7",
   "metadata": {},
   "outputs": [
    {
     "data": {
      "text/plain": [
       "(2, '-1')"
      ]
     },
     "execution_count": 54,
     "metadata": {},
     "output_type": "execute_result"
    }
   ],
   "source": [
    "variable[1:-2 ]"
   ]
  },
  {
   "cell_type": "code",
   "execution_count": 55,
   "id": "b641db8e-1800-46ef-8318-b06caa1694c4",
   "metadata": {},
   "outputs": [
    {
     "data": {
      "text/plain": [
       "(5, 2, '-1', [4, 2, 1], 'pasa')"
      ]
     },
     "execution_count": 55,
     "metadata": {},
     "output_type": "execute_result"
    }
   ],
   "source": [
    "variable\n"
   ]
  },
  {
   "cell_type": "code",
   "execution_count": 56,
   "id": "2c6df1bd-fb2a-46ca-8dc2-fa65de8eeaf6",
   "metadata": {},
   "outputs": [
    {
     "data": {
      "text/plain": [
       "(2, '-1', [4, 2, 1])"
      ]
     },
     "execution_count": 56,
     "metadata": {},
     "output_type": "execute_result"
    }
   ],
   "source": [
    "variable[ -4:4]"
   ]
  },
  {
   "cell_type": "code",
   "execution_count": 59,
   "id": "8b79b769-0bc8-450e-89d3-14d93491c828",
   "metadata": {},
   "outputs": [
    {
     "data": {
      "text/plain": [
       "(5, 2)"
      ]
     },
     "execution_count": 59,
     "metadata": {},
     "output_type": "execute_result"
    }
   ],
   "source": [
    "tupla=(5,2)\n",
    "tupla"
   ]
  },
  {
   "cell_type": "code",
   "execution_count": 60,
   "id": "28cbabec-9953-406b-9ada-a0b4cf252f2c",
   "metadata": {},
   "outputs": [
    {
     "data": {
      "text/plain": [
       "2"
      ]
     },
     "execution_count": 60,
     "metadata": {},
     "output_type": "execute_result"
    }
   ],
   "source": [
    "len(tupla)"
   ]
  },
  {
   "cell_type": "code",
   "execution_count": 61,
   "id": "f9bf1b5c-95a4-4b4a-980e-a88ae962214e",
   "metadata": {},
   "outputs": [
    {
     "data": {
      "text/plain": [
       "tuple"
      ]
     },
     "execution_count": 61,
     "metadata": {},
     "output_type": "execute_result"
    }
   ],
   "source": [
    "type(tupla)"
   ]
  },
  {
   "cell_type": "code",
   "execution_count": 62,
   "id": "4745de9e-9133-49d7-8e24-512f845ec6c1",
   "metadata": {},
   "outputs": [],
   "source": [
    "t1,t2,t3=(4,5),(6,7),(8,9)"
   ]
  },
  {
   "cell_type": "code",
   "execution_count": 63,
   "id": "ff2612c1-9a1b-489d-8567-d70f71e12bd0",
   "metadata": {},
   "outputs": [
    {
     "data": {
      "text/plain": [
       "(4, 5, 6, 7)"
      ]
     },
     "execution_count": 63,
     "metadata": {},
     "output_type": "execute_result"
    }
   ],
   "source": [
    "t1 + t2"
   ]
  },
  {
   "cell_type": "code",
   "execution_count": 65,
   "id": "bf21b524-5ed5-4798-9e5d-0d42f52c5bba",
   "metadata": {},
   "outputs": [
    {
     "ename": "TypeError",
     "evalue": "unsupported operand type(s) for -: 'tuple' and 'tuple'",
     "output_type": "error",
     "traceback": [
      "\u001b[1;31m---------------------------------------------------------------------------\u001b[0m",
      "\u001b[1;31mTypeError\u001b[0m                                 Traceback (most recent call last)",
      "Cell \u001b[1;32mIn[65], line 1\u001b[0m\n\u001b[1;32m----> 1\u001b[0m \u001b[43mt1\u001b[49m\u001b[43m \u001b[49m\u001b[38;5;241;43m-\u001b[39;49m\u001b[43m \u001b[49m\u001b[43mt2\u001b[49m\n\u001b[0;32m      2\u001b[0m \u001b[38;5;66;03m# no se puede hacer resta con tupla\u001b[39;00m\n",
      "\u001b[1;31mTypeError\u001b[0m: unsupported operand type(s) for -: 'tuple' and 'tuple'"
     ]
    }
   ],
   "source": [
    "t1 - t2\n",
    "# no se puede hacer resta con tupla"
   ]
  },
  {
   "cell_type": "code",
   "execution_count": 66,
   "id": "5b26080e-6e85-49d8-bdaf-43f708292b27",
   "metadata": {},
   "outputs": [
    {
     "data": {
      "text/plain": [
       "(6, 7, 6, 7, 6, 7)"
      ]
     },
     "execution_count": 66,
     "metadata": {},
     "output_type": "execute_result"
    }
   ],
   "source": [
    "3*t2"
   ]
  },
  {
   "cell_type": "code",
   "execution_count": 67,
   "id": "9448c866-6d80-4114-8db3-8bd508982497",
   "metadata": {},
   "outputs": [
    {
     "ename": "IndexError",
     "evalue": "tuple index out of range",
     "output_type": "error",
     "traceback": [
      "\u001b[1;31m---------------------------------------------------------------------------\u001b[0m",
      "\u001b[1;31mIndexError\u001b[0m                                Traceback (most recent call last)",
      "Cell \u001b[1;32mIn[67], line 1\u001b[0m\n\u001b[1;32m----> 1\u001b[0m \u001b[38;5;241m3\u001b[39m\u001b[38;5;241m*\u001b[39m\u001b[43mt2\u001b[49m\u001b[43m[\u001b[49m\u001b[43m \u001b[49m\u001b[38;5;241;43m3\u001b[39;49m\u001b[43m]\u001b[49m\n",
      "\u001b[1;31mIndexError\u001b[0m: tuple index out of range"
     ]
    }
   ],
   "source": [
    "3*t2[ 3]\n",
    "#sin parentesis no se puede realizar esta operación"
   ]
  },
  {
   "cell_type": "code",
   "execution_count": 69,
   "id": "6fa98181-fe1b-49a8-8237-2b1e135d518e",
   "metadata": {},
   "outputs": [
    {
     "data": {
      "text/plain": [
       "7"
      ]
     },
     "execution_count": 69,
     "metadata": {},
     "output_type": "execute_result"
    }
   ],
   "source": [
    "(3*t2)[ 3]"
   ]
  },
  {
   "cell_type": "code",
   "execution_count": 70,
   "id": "3c1af909-d0f1-497a-9ced-9b6a0c78323f",
   "metadata": {},
   "outputs": [
    {
     "data": {
      "text/plain": [
       "(6, 7)"
      ]
     },
     "execution_count": 70,
     "metadata": {},
     "output_type": "execute_result"
    }
   ],
   "source": [
    "t2"
   ]
  },
  {
   "cell_type": "code",
   "execution_count": 72,
   "id": "b3b73014-f5fe-4835-b91d-cc09d6ac0946",
   "metadata": {},
   "outputs": [
    {
     "data": {
      "text/plain": [
       "[7, 7, 7]"
      ]
     },
     "execution_count": 72,
     "metadata": {},
     "output_type": "execute_result"
    }
   ],
   "source": [
    "#para triplicar un elemento de la tupla\n",
    "3*[(3*t2)[ 3]]"
   ]
  },
  {
   "cell_type": "markdown",
   "id": "442f55c0-5303-4faf-999d-853808ab7f2b",
   "metadata": {},
   "source": [
    "# Mapping:Diccionarios"
   ]
  },
  {
   "cell_type": "code",
   "execution_count": 75,
   "id": "c88e1e98-570b-4919-aa85-fb79f9898386",
   "metadata": {},
   "outputs": [
    {
     "data": {
      "text/plain": [
       "{'key': 'valor', 'llave2': 'valor2', 'llave3': 5, 'llave4': [2, 3], 5: [-2]}"
      ]
     },
     "execution_count": 75,
     "metadata": {},
     "output_type": "execute_result"
    }
   ],
   "source": [
    "diccionario={ 'key':'valor','llave2':'valor2','llave3':5,'llave4':[ 2,3],5:[ -2]}\n",
    "diccionario"
   ]
  },
  {
   "cell_type": "code",
   "execution_count": 74,
   "id": "46a0589e-52c6-4d8f-8fb5-b1306cd11b85",
   "metadata": {},
   "outputs": [
    {
     "data": {
      "text/plain": [
       "dict"
      ]
     },
     "execution_count": 74,
     "metadata": {},
     "output_type": "execute_result"
    }
   ],
   "source": [
    "type(diccionario)"
   ]
  },
  {
   "cell_type": "code",
   "execution_count": 76,
   "id": "8fca9b0f-4cd7-45d1-894e-eb776ba59d7e",
   "metadata": {},
   "outputs": [
    {
     "data": {
      "text/plain": [
       "'valor2'"
      ]
     },
     "execution_count": 76,
     "metadata": {},
     "output_type": "execute_result"
    }
   ],
   "source": [
    "diccionario[ 'llave2']"
   ]
  },
  {
   "cell_type": "code",
   "execution_count": 78,
   "id": "87758708-9cca-4d8d-bed1-c7f0a24153aa",
   "metadata": {},
   "outputs": [
    {
     "data": {
      "text/plain": [
       "dict_keys(['key', 'llave2', 'llave3', 'llave4', 5])"
      ]
     },
     "execution_count": 78,
     "metadata": {},
     "output_type": "execute_result"
    }
   ],
   "source": [
    "diccionario.keys()\n",
    "#se esta usando el metodo keys"
   ]
  },
  {
   "cell_type": "code",
   "execution_count": 80,
   "id": "6c59ef61-8533-4eaa-986e-6bbcbb7f265f",
   "metadata": {},
   "outputs": [
    {
     "data": {
      "text/plain": [
       "dict_values(['valor', 'valor2', 5, [2, 3], [-2]])"
      ]
     },
     "execution_count": 80,
     "metadata": {},
     "output_type": "execute_result"
    }
   ],
   "source": [
    "diccionario.values()\n",
    "#se esta usando el metodo values,es para decir que te regrese los valores y no las llaves"
   ]
  },
  {
   "cell_type": "code",
   "execution_count": 81,
   "id": "3281a415-be56-4500-98ab-2d2a91af8c65",
   "metadata": {},
   "outputs": [
    {
     "data": {
      "text/plain": [
       "dict_values(['valor', 'valor2', 5, [2, 3], [-2]])"
      ]
     },
     "execution_count": 81,
     "metadata": {},
     "output_type": "execute_result"
    }
   ],
   "source": [
    "var=diccionario.values()\n",
    "var"
   ]
  },
  {
   "cell_type": "code",
   "execution_count": 82,
   "id": "99d9c04a-96ab-4262-9b6e-78dd70739695",
   "metadata": {},
   "outputs": [
    {
     "data": {
      "text/plain": [
       "dict_values"
      ]
     },
     "execution_count": 82,
     "metadata": {},
     "output_type": "execute_result"
    }
   ],
   "source": [
    "type(var)"
   ]
  },
  {
   "cell_type": "code",
   "execution_count": 83,
   "id": "4bf8055f-c1c2-40a4-99a6-779bc9597c6e",
   "metadata": {},
   "outputs": [
    {
     "data": {
      "text/plain": [
       "['valor', 'valor2', 5, [2, 3], [-2]]"
      ]
     },
     "execution_count": 83,
     "metadata": {},
     "output_type": "execute_result"
    }
   ],
   "source": [
    "#convertir a otro tipo de datos\n",
    "list(var)"
   ]
  },
  {
   "cell_type": "code",
   "execution_count": 84,
   "id": "f38de03d-acd3-45a4-bfc6-0aba44e9fa66",
   "metadata": {},
   "outputs": [
    {
     "data": {
      "text/plain": [
       "('valor', 'valor2', 5, [2, 3], [-2])"
      ]
     },
     "execution_count": 84,
     "metadata": {},
     "output_type": "execute_result"
    }
   ],
   "source": [
    "tuple(var)"
   ]
  },
  {
   "cell_type": "code",
   "execution_count": 85,
   "id": "5371535d-7171-4eb6-bdd4-d20d0fa05ec4",
   "metadata": {},
   "outputs": [
    {
     "data": {
      "text/plain": [
       "{'key': 'valor', 'llave2': 'valor2', 'llave3': 5, 'llave4': [2, 3], 5: [-2]}"
      ]
     },
     "execution_count": 85,
     "metadata": {},
     "output_type": "execute_result"
    }
   ],
   "source": [
    "diccionario\n"
   ]
  },
  {
   "cell_type": "code",
   "execution_count": 86,
   "id": "d61fd479-fbf0-41b0-a9e7-3bc47cc27910",
   "metadata": {},
   "outputs": [
    {
     "data": {
      "text/plain": [
       "{'key': 'valor', 'llave2': 45, 'llave3': 5, 'llave4': [2, 3], 5: [-2]}"
      ]
     },
     "execution_count": 86,
     "metadata": {},
     "output_type": "execute_result"
    }
   ],
   "source": [
    "diccionario['llave2' ]=45\n",
    "diccionario"
   ]
  },
  {
   "cell_type": "code",
   "execution_count": 87,
   "id": "391e93c4-92b4-4b8d-a623-ff2aa01cec3e",
   "metadata": {},
   "outputs": [
    {
     "data": {
      "text/plain": [
       "{'key': 'valor',\n",
       " 'llave2': 45,\n",
       " 'llave3': 5,\n",
       " 'llave4': [2, 3],\n",
       " 5: [-2],\n",
       " 'vamonos': 'a mimir'}"
      ]
     },
     "execution_count": 87,
     "metadata": {},
     "output_type": "execute_result"
    }
   ],
   "source": [
    "diccionario['vamonos' ]='a mimir'\n",
    "diccionario"
   ]
  },
  {
   "cell_type": "code",
   "execution_count": 88,
   "id": "3d181c9d-31a9-4955-a146-90d0d6864b73",
   "metadata": {},
   "outputs": [
    {
     "data": {
      "text/plain": [
       "'a mimir'"
      ]
     },
     "execution_count": 88,
     "metadata": {},
     "output_type": "execute_result"
    }
   ],
   "source": [
    "diccionario.pop('vamonos')"
   ]
  },
  {
   "cell_type": "code",
   "execution_count": null,
   "id": "bf0b85da-b081-40d6-80df-d13f35a56ed6",
   "metadata": {},
   "outputs": [],
   "source": []
  }
 ],
 "metadata": {
  "kernelspec": {
   "display_name": "Python 3 (ipykernel)",
   "language": "python",
   "name": "python3"
  },
  "language_info": {
   "codemirror_mode": {
    "name": "ipython",
    "version": 3
   },
   "file_extension": ".py",
   "mimetype": "text/x-python",
   "name": "python",
   "nbconvert_exporter": "python",
   "pygments_lexer": "ipython3",
   "version": "3.10.4"
  }
 },
 "nbformat": 4,
 "nbformat_minor": 5
}
