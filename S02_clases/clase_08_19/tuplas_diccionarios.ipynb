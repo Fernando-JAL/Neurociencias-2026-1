{
 "cells": [
  {
   "cell_type": "code",
   "execution_count": 13,
   "id": "12bfe85c-ae70-44be-a894-cd82541db9bd",
   "metadata": {},
   "outputs": [
    {
     "data": {
      "text/plain": [
       "['rojo', 2.3, 100, 'chocolate']"
      ]
     },
     "execution_count": 13,
     "metadata": {},
     "output_type": "execute_result"
    }
   ],
   "source": [
    "lista=['rojo',2.3,100,'chocolate']\n",
    "lista"
   ]
  },
  {
   "cell_type": "code",
   "execution_count": 14,
   "id": "c4798759-6b96-4e07-8610-32f2595f05ad",
   "metadata": {},
   "outputs": [
    {
     "data": {
      "text/plain": [
       "['rojo', 2.3, 100, 'chocolate', 'nuez']"
      ]
     },
     "execution_count": 14,
     "metadata": {},
     "output_type": "execute_result"
    }
   ],
   "source": [
    "# añadir un elemento a una lista\n",
    "lista.append('nuez')\n",
    "lista"
   ]
  },
  {
   "cell_type": "code",
   "execution_count": 15,
   "id": "78b79cc9-539b-4363-819d-c3d0a034d74a",
   "metadata": {},
   "outputs": [
    {
     "data": {
      "text/plain": [
       "['rojo', 2.3, 100, 'chocolate', 4, 2, 6]"
      ]
     },
     "execution_count": 15,
     "metadata": {},
     "output_type": "execute_result"
    }
   ],
   "source": [
    "# re,plazar elemento de una lista\n",
    "lista[-1:]=[4,2,6]\n",
    "lista"
   ]
  },
  {
   "cell_type": "code",
   "execution_count": 17,
   "id": "ce983d5c-6dda-439f-ad50-31d655a51de5",
   "metadata": {},
   "outputs": [
    {
     "data": {
      "text/plain": [
       "['rojo', 2.3, 'chocolate', 4, 2, 6]"
      ]
     },
     "execution_count": 17,
     "metadata": {},
     "output_type": "execute_result"
    }
   ],
   "source": [
    "# eliminar un elemento de la lista\n",
    "del lista[2]\n",
    "lista"
   ]
  },
  {
   "cell_type": "code",
   "execution_count": 19,
   "id": "6e7e33a0-8144-4205-a0d4-865a378c790e",
   "metadata": {},
   "outputs": [
    {
     "data": {
      "text/plain": [
       "['rojo', 2.3]"
      ]
     },
     "execution_count": 19,
     "metadata": {},
     "output_type": "execute_result"
    }
   ],
   "source": [
    "del lista[2:4]\n",
    "lista"
   ]
  },
  {
   "cell_type": "code",
   "execution_count": 21,
   "id": "c1aab7a0-0be8-4945-a96f-35a384b1de08",
   "metadata": {},
   "outputs": [
    {
     "data": {
      "text/plain": [
       "[]"
      ]
     },
     "execution_count": 21,
     "metadata": {},
     "output_type": "execute_result"
    }
   ],
   "source": [
    "del lista[0]\n",
    "lista"
   ]
  },
  {
   "cell_type": "code",
   "execution_count": 22,
   "id": "4e8dcde1-9d2a-4b18-92c1-a3e2da44bfd4",
   "metadata": {},
   "outputs": [
    {
     "ename": "IndexError",
     "evalue": "list assignment index out of range",
     "output_type": "error",
     "traceback": [
      "\u001b[31m---------------------------------------------------------------------------\u001b[39m",
      "\u001b[31mIndexError\u001b[39m                                Traceback (most recent call last)",
      "\u001b[36mCell\u001b[39m\u001b[36m \u001b[39m\u001b[32mIn[22]\u001b[39m\u001b[32m, line 1\u001b[39m\n\u001b[32m----> \u001b[39m\u001b[32m1\u001b[39m \u001b[38;5;28;01mdel\u001b[39;00m \u001b[43mlista\u001b[49m\u001b[43m[\u001b[49m\u001b[32;43m0\u001b[39;49m\u001b[43m]\u001b[49m\n\u001b[32m      2\u001b[39m lista\n",
      "\u001b[31mIndexError\u001b[39m: list assignment index out of range"
     ]
    }
   ],
   "source": [
    "del lista[0]\n",
    "lista"
   ]
  },
  {
   "cell_type": "markdown",
   "id": "948f36cc-0cbc-49aa-8aed-40104468556f",
   "metadata": {},
   "source": [
    "#### Matriz"
   ]
  },
  {
   "cell_type": "code",
   "execution_count": 23,
   "id": "943c38c4-2257-4e10-b827-37304516405e",
   "metadata": {},
   "outputs": [
    {
     "data": {
      "text/plain": [
       "[[1, 2, 3], [4, 5, 6], [7, 8, 9], [8, 7, 6]]"
      ]
     },
     "execution_count": 23,
     "metadata": {},
     "output_type": "execute_result"
    }
   ],
   "source": [
    "matriz=[[1,2,3],\n",
    "        [4,5,6],\n",
    "        [7,8,9],\n",
    "        [8,7,6]]\n",
    "matriz"
   ]
  },
  {
   "cell_type": "code",
   "execution_count": 27,
   "id": "ed9cca0d-1855-4db4-98c8-881bd283fd9e",
   "metadata": {},
   "outputs": [],
   "source": [
    "a=matriz[2]"
   ]
  },
  {
   "cell_type": "code",
   "execution_count": 28,
   "id": "c232e44b-a758-4320-9e9f-af71d7ec21aa",
   "metadata": {},
   "outputs": [
    {
     "data": {
      "text/plain": [
       "9"
      ]
     },
     "execution_count": 28,
     "metadata": {},
     "output_type": "execute_result"
    }
   ],
   "source": [
    "a[2]"
   ]
  },
  {
   "cell_type": "code",
   "execution_count": 29,
   "id": "3a85f468-e2de-4712-bb91-159eb51f0470",
   "metadata": {},
   "outputs": [
    {
     "data": {
      "text/plain": [
       "9"
      ]
     },
     "execution_count": 29,
     "metadata": {},
     "output_type": "execute_result"
    }
   ],
   "source": [
    "matriz[2][-1]"
   ]
  },
  {
   "cell_type": "code",
   "execution_count": 30,
   "id": "b134c488-1fbe-4a06-ad96-da3acc7ec47f",
   "metadata": {},
   "outputs": [
    {
     "data": {
      "text/plain": [
       "4"
      ]
     },
     "execution_count": 30,
     "metadata": {},
     "output_type": "execute_result"
    }
   ],
   "source": [
    "matriz[1][0]"
   ]
  },
  {
   "cell_type": "markdown",
   "id": "f27dc235-99b9-4344-bf85-9838fd0b5365",
   "metadata": {},
   "source": [
    "# Tupla"
   ]
  },
  {
   "cell_type": "code",
   "execution_count": 36,
   "id": "ef2a4f85-dedb-4c83-bafe-37a303372f92",
   "metadata": {},
   "outputs": [
    {
     "data": {
      "text/plain": [
       "(5, 2, '-1', [4, 2, 1], 'pasa')"
      ]
     },
     "execution_count": 36,
     "metadata": {},
     "output_type": "execute_result"
    }
   ],
   "source": [
    "variable=(5,2,'-1',[4,2,1],'pasa')\n",
    "variable"
   ]
  },
  {
   "cell_type": "code",
   "execution_count": 37,
   "id": "b6ffe461-08ff-4bb6-b530-e564fea4ef7f",
   "metadata": {},
   "outputs": [
    {
     "data": {
      "text/plain": [
       "tuple"
      ]
     },
     "execution_count": 37,
     "metadata": {},
     "output_type": "execute_result"
    }
   ],
   "source": [
    "type(variable)"
   ]
  },
  {
   "cell_type": "code",
   "execution_count": 38,
   "id": "5c1abd94-0682-45a2-a396-10ae27bd063d",
   "metadata": {},
   "outputs": [
    {
     "data": {
      "text/plain": [
       "'pasa'"
      ]
     },
     "execution_count": 38,
     "metadata": {},
     "output_type": "execute_result"
    }
   ],
   "source": [
    "variable[-1]"
   ]
  },
  {
   "cell_type": "code",
   "execution_count": 48,
   "id": "e1bede95-ccad-45bf-bd67-97d63d9fdad7",
   "metadata": {},
   "outputs": [
    {
     "data": {
      "text/plain": [
       "(2, '-1')"
      ]
     },
     "execution_count": 48,
     "metadata": {},
     "output_type": "execute_result"
    }
   ],
   "source": [
    "variable[1:-2]"
   ]
  },
  {
   "cell_type": "code",
   "execution_count": 49,
   "id": "25ad7d09-f55f-4d7c-83df-65bd72062ea8",
   "metadata": {},
   "outputs": [
    {
     "data": {
      "text/plain": [
       "(5, 2, '-1')"
      ]
     },
     "execution_count": 49,
     "metadata": {},
     "output_type": "execute_result"
    }
   ],
   "source": [
    "#se va a detener uno antes de lo que le indiquemos\n",
    "variable[0:3]"
   ]
  },
  {
   "cell_type": "code",
   "execution_count": 51,
   "id": "1123267a-c204-4f5e-9dca-14b605381ce4",
   "metadata": {},
   "outputs": [
    {
     "data": {
      "text/plain": [
       "(5, 2, '-1')"
      ]
     },
     "execution_count": 51,
     "metadata": {},
     "output_type": "execute_result"
    }
   ],
   "source": [
    "pos_i,pos_f=0,2\n",
    "variable[pos_i:pos_f+1]"
   ]
  },
  {
   "cell_type": "markdown",
   "id": "998c6590-3460-4a0f-b85c-fc3886cc85e9",
   "metadata": {},
   "source": [
    "variable[-4:4]"
   ]
  },
  {
   "cell_type": "code",
   "execution_count": 53,
   "id": "421e01f4-39ef-478f-a396-0c7d95395b91",
   "metadata": {},
   "outputs": [
    {
     "data": {
      "text/plain": [
       "(5, 2)"
      ]
     },
     "execution_count": 53,
     "metadata": {},
     "output_type": "execute_result"
    }
   ],
   "source": [
    "\n",
    "tupla=(5,2)\n",
    "tupla"
   ]
  },
  {
   "cell_type": "code",
   "execution_count": 54,
   "id": "31662fb2-9dfd-43e9-a62a-6bb6eab130e1",
   "metadata": {},
   "outputs": [
    {
     "data": {
      "text/plain": [
       "2"
      ]
     },
     "execution_count": 54,
     "metadata": {},
     "output_type": "execute_result"
    }
   ],
   "source": [
    "len(tupla)"
   ]
  },
  {
   "cell_type": "code",
   "execution_count": 55,
   "id": "6f79233d-a301-4042-8169-c4546cc2ed39",
   "metadata": {},
   "outputs": [],
   "source": [
    "# si existen las tuplas de un elemento si esta así:\n",
    "tuplas=(5,)"
   ]
  },
  {
   "cell_type": "code",
   "execution_count": 56,
   "id": "adc1ba85-e90b-47cc-828d-8d464a456783",
   "metadata": {},
   "outputs": [],
   "source": [
    "t1, t2, t3=(4,5),(6,7),(8,9)"
   ]
  },
  {
   "cell_type": "code",
   "execution_count": 57,
   "id": "2d613564-fdf1-4a2a-8ce1-07f9057856b8",
   "metadata": {},
   "outputs": [
    {
     "data": {
      "text/plain": [
       "(6, 7, 6, 7, 6, 7)"
      ]
     },
     "execution_count": 57,
     "metadata": {},
     "output_type": "execute_result"
    }
   ],
   "source": [
    "#operadores definidos para tuplas\n",
    "3*t2"
   ]
  },
  {
   "cell_type": "code",
   "execution_count": 58,
   "id": "b3092034-a36a-4f19-9dd1-c908c9c6ae93",
   "metadata": {},
   "outputs": [
    {
     "data": {
      "text/plain": [
       "7"
      ]
     },
     "execution_count": 58,
     "metadata": {},
     "output_type": "execute_result"
    }
   ],
   "source": [
    "(3*t2)[3]"
   ]
  },
  {
   "cell_type": "code",
   "execution_count": 59,
   "id": "3c6b14ca-5d12-42d7-8660-dfd6e7fd7e6e",
   "metadata": {},
   "outputs": [
    {
     "data": {
      "text/plain": [
       "[7, 7, 7]"
      ]
     },
     "execution_count": 59,
     "metadata": {},
     "output_type": "execute_result"
    }
   ],
   "source": [
    "[(3*t2)[3]]*3"
   ]
  },
  {
   "cell_type": "code",
   "execution_count": 60,
   "id": "24d81f48-cfa7-4a21-a393-fe52cebaa1aa",
   "metadata": {},
   "outputs": [
    {
     "data": {
      "text/plain": [
       "6"
      ]
     },
     "execution_count": 60,
     "metadata": {},
     "output_type": "execute_result"
    }
   ],
   "source": [
    "t2[0]"
   ]
  },
  {
   "cell_type": "markdown",
   "id": "bb6ae27a-be05-4b1f-816d-a5cb9dc6ba69",
   "metadata": {},
   "source": [
    "# Mapping: diccionarios"
   ]
  },
  {
   "cell_type": "code",
   "execution_count": 64,
   "id": "245af3b1-1bfa-48c4-a1f7-79a317290918",
   "metadata": {},
   "outputs": [
    {
     "data": {
      "text/plain": [
       "{'key': 'valor', 'llave2': 'valor2', 'llave3': 5, 'llave4': [2, 3], 5: [-2]}"
      ]
     },
     "execution_count": 64,
     "metadata": {},
     "output_type": "execute_result"
    }
   ],
   "source": [
    "diccionario={'key':'valor','llave2':'valor2','llave3':5,'llave4':[2,3],5:[-2]}\n",
    "diccionario"
   ]
  },
  {
   "cell_type": "code",
   "execution_count": 68,
   "id": "5a79a44a-9a07-4d8a-95f3-6586eade7daf",
   "metadata": {},
   "outputs": [
    {
     "data": {
      "text/plain": [
       "[-2]"
      ]
     },
     "execution_count": 68,
     "metadata": {},
     "output_type": "execute_result"
    }
   ],
   "source": [
    "diccionario[5]"
   ]
  },
  {
   "cell_type": "code",
   "execution_count": 71,
   "id": "7379db3a-3936-4a0e-9cb9-3bfafb4f398a",
   "metadata": {},
   "outputs": [
    {
     "data": {
      "text/plain": [
       "'valor2'"
      ]
     },
     "execution_count": 71,
     "metadata": {},
     "output_type": "execute_result"
    }
   ],
   "source": [
    "diccionario['llave2']"
   ]
  },
  {
   "cell_type": "code",
   "execution_count": 72,
   "id": "d04f82e1-b627-40f9-9a9c-d1475b62fa0b",
   "metadata": {},
   "outputs": [
    {
     "data": {
      "text/plain": [
       "dict_keys(['key', 'llave2', 'llave3', 'llave4', 5])"
      ]
     },
     "execution_count": 72,
     "metadata": {},
     "output_type": "execute_result"
    }
   ],
   "source": [
    "diccionario.keys() #\"se esta usando la función keys\""
   ]
  },
  {
   "cell_type": "code",
   "execution_count": 73,
   "id": "5734eba2-c393-4bc9-af02-bdea98f10a74",
   "metadata": {},
   "outputs": [
    {
     "data": {
      "text/plain": [
       "dict_values(['valor', 'valor2', 5, [2, 3], [-2]])"
      ]
     },
     "execution_count": 73,
     "metadata": {},
     "output_type": "execute_result"
    }
   ],
   "source": [
    "diccionario.values()#\"se esta usando la función values\""
   ]
  },
  {
   "cell_type": "code",
   "execution_count": 77,
   "id": "14dcde99-1a80-437e-b932-ab123da32db6",
   "metadata": {},
   "outputs": [
    {
     "data": {
      "text/plain": [
       "dict_values(['valor', 'valor2', 5, [2, 3], [-2]])"
      ]
     },
     "execution_count": 77,
     "metadata": {},
     "output_type": "execute_result"
    }
   ],
   "source": [
    "var=diccionario.values()\n",
    "var\n"
   ]
  },
  {
   "cell_type": "markdown",
   "id": "c392c199-a011-437b-9be5-ad058b778b89",
   "metadata": {},
   "source": [
    "# Convertir a otros tipos de datos"
   ]
  },
  {
   "cell_type": "code",
   "execution_count": 78,
   "id": "e24aeaf6-a0d8-4c12-b6b1-434ac157dcf4",
   "metadata": {},
   "outputs": [
    {
     "data": {
      "text/plain": [
       "['valor', 'valor2', 5, [2, 3], [-2]]"
      ]
     },
     "execution_count": 78,
     "metadata": {},
     "output_type": "execute_result"
    }
   ],
   "source": [
    "list(var)"
   ]
  },
  {
   "cell_type": "code",
   "execution_count": 79,
   "id": "71a7f900-9070-4673-a450-21b828486000",
   "metadata": {},
   "outputs": [
    {
     "data": {
      "text/plain": [
       "{'key': 'valor', 'llave2': 45, 'llave3': 5, 'llave4': [2, 3], 5: [-2]}"
      ]
     },
     "execution_count": 79,
     "metadata": {},
     "output_type": "execute_result"
    }
   ],
   "source": [
    "diccionario['llave2']= 45\n",
    "diccionario"
   ]
  },
  {
   "cell_type": "code",
   "execution_count": 81,
   "id": "465ffda1-d785-45d2-a0e8-d488876ebddc",
   "metadata": {},
   "outputs": [
    {
     "data": {
      "text/plain": [
       "{'key': 'valor',\n",
       " 'llave2': 45,\n",
       " 'llave3': 5,\n",
       " 'llave4': [2, 3],\n",
       " 5: [-2],\n",
       " 'vamosnos': 'a mimir'}"
      ]
     },
     "execution_count": 81,
     "metadata": {},
     "output_type": "execute_result"
    }
   ],
   "source": [
    "#agregar elementos a un diccionario\n",
    "diccionario['vamosnos']= 'a mimir'\n",
    "diccionario"
   ]
  },
  {
   "cell_type": "code",
   "execution_count": 82,
   "id": "0353814c-1cd9-4b54-882a-3c8eed8baa22",
   "metadata": {},
   "outputs": [
    {
     "data": {
      "text/plain": [
       "'a mimir'"
      ]
     },
     "execution_count": 82,
     "metadata": {},
     "output_type": "execute_result"
    }
   ],
   "source": [
    "#eliminar elemento de diccionario\n",
    "diccionario.pop('vamosnos')"
   ]
  },
  {
   "cell_type": "code",
   "execution_count": 83,
   "id": "e9714793-f720-45b5-9f40-f8f436c0c9c8",
   "metadata": {},
   "outputs": [
    {
     "data": {
      "text/plain": [
       "{'key': 'valor', 'llave2': 45, 'llave3': 5, 'llave4': [2, 3], 5: [-2]}"
      ]
     },
     "execution_count": 83,
     "metadata": {},
     "output_type": "execute_result"
    }
   ],
   "source": [
    "diccionario"
   ]
  },
  {
   "cell_type": "code",
   "execution_count": null,
   "id": "da9a57ff-cdbc-4558-8e22-c6e36ae9f9f0",
   "metadata": {},
   "outputs": [],
   "source": []
  }
 ],
 "metadata": {
  "kernelspec": {
   "display_name": "Python 3 (ipykernel)",
   "language": "python",
   "name": "python3"
  },
  "language_info": {
   "codemirror_mode": {
    "name": "ipython",
    "version": 3
   },
   "file_extension": ".py",
   "mimetype": "text/x-python",
   "name": "python",
   "nbconvert_exporter": "python",
   "pygments_lexer": "ipython3",
   "version": "3.11.1"
  }
 },
 "nbformat": 4,
 "nbformat_minor": 5
}
