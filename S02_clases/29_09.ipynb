{
 "cells": [
  {
   "cell_type": "markdown",
   "id": "532e9685-2fb2-4338-b64f-b3e78909dbd2",
   "metadata": {},
   "source": [
    "# Concatenacion de dataframes\n",
    "concatenar = juntar, unir o fusionar\n",
    "\n",
    "para dataf existen 3 formas de concatenar \n",
    "* concat (concatenar)\n",
    "* merge (fusionar)\n",
    "* join (unir)"
   ]
  },
  {
   "cell_type": "markdown",
   "id": "3708a6df-ede9-4fd8-b85f-6b828c196325",
   "metadata": {},
   "source": [
    "## concat\n",
    "\n",
    "esta tecnica basicamente se centra en bases de datos comunes, que tienen las mismas columnas y por tanto hay que juntar las filas "
   ]
  },
  {
   "cell_type": "code",
   "execution_count": 1,
   "id": "c2453b2f-be0c-4cb2-92db-37fb064b3868",
   "metadata": {},
   "outputs": [],
   "source": [
    "import pandas as pd"
   ]
  },
  {
   "cell_type": "code",
   "execution_count": 3,
   "id": "6254ed5b-5cfd-40fe-b8c0-39209000051d",
   "metadata": {},
   "outputs": [],
   "source": [
    "df1 = pd.DataFrame ({'A':['1A','2A'], 'B':['1B','2B'], 'C':['1C','2C']})\n",
    "df2 = pd.DataFrame ({'A':['6A','7A','8A'], 'B':['6B','7B','8B'], 'C':['6C','7C','8C']})\n",
    "\n",
    "## Es un diccionario por las llaves, pero por los parentesis se esta convirtiendo a un df "
   ]
  },
  {
   "cell_type": "code",
   "execution_count": 4,
   "id": "1f1a6db8-3a79-4ed4-a5aa-89fefcec100d",
   "metadata": {},
   "outputs": [
    {
     "data": {
      "text/html": [
       "<div>\n",
       "<style scoped>\n",
       "    .dataframe tbody tr th:only-of-type {\n",
       "        vertical-align: middle;\n",
       "    }\n",
       "\n",
       "    .dataframe tbody tr th {\n",
       "        vertical-align: top;\n",
       "    }\n",
       "\n",
       "    .dataframe thead th {\n",
       "        text-align: right;\n",
       "    }\n",
       "</style>\n",
       "<table border=\"1\" class=\"dataframe\">\n",
       "  <thead>\n",
       "    <tr style=\"text-align: right;\">\n",
       "      <th></th>\n",
       "      <th>A</th>\n",
       "      <th>B</th>\n",
       "      <th>C</th>\n",
       "    </tr>\n",
       "  </thead>\n",
       "  <tbody>\n",
       "    <tr>\n",
       "      <th>0</th>\n",
       "      <td>1A</td>\n",
       "      <td>1B</td>\n",
       "      <td>1C</td>\n",
       "    </tr>\n",
       "    <tr>\n",
       "      <th>1</th>\n",
       "      <td>2A</td>\n",
       "      <td>2B</td>\n",
       "      <td>2C</td>\n",
       "    </tr>\n",
       "  </tbody>\n",
       "</table>\n",
       "</div>"
      ],
      "text/plain": [
       "    A   B   C\n",
       "0  1A  1B  1C\n",
       "1  2A  2B  2C"
      ]
     },
     "execution_count": 4,
     "metadata": {},
     "output_type": "execute_result"
    }
   ],
   "source": [
    "df1"
   ]
  },
  {
   "cell_type": "code",
   "execution_count": 5,
   "id": "6a1cca6e-feaf-4472-8066-e9e82a581222",
   "metadata": {},
   "outputs": [
    {
     "data": {
      "text/html": [
       "<div>\n",
       "<style scoped>\n",
       "    .dataframe tbody tr th:only-of-type {\n",
       "        vertical-align: middle;\n",
       "    }\n",
       "\n",
       "    .dataframe tbody tr th {\n",
       "        vertical-align: top;\n",
       "    }\n",
       "\n",
       "    .dataframe thead th {\n",
       "        text-align: right;\n",
       "    }\n",
       "</style>\n",
       "<table border=\"1\" class=\"dataframe\">\n",
       "  <thead>\n",
       "    <tr style=\"text-align: right;\">\n",
       "      <th></th>\n",
       "      <th>A</th>\n",
       "      <th>B</th>\n",
       "      <th>C</th>\n",
       "    </tr>\n",
       "  </thead>\n",
       "  <tbody>\n",
       "    <tr>\n",
       "      <th>0</th>\n",
       "      <td>6A</td>\n",
       "      <td>6B</td>\n",
       "      <td>6C</td>\n",
       "    </tr>\n",
       "    <tr>\n",
       "      <th>1</th>\n",
       "      <td>7A</td>\n",
       "      <td>7B</td>\n",
       "      <td>7C</td>\n",
       "    </tr>\n",
       "    <tr>\n",
       "      <th>2</th>\n",
       "      <td>8A</td>\n",
       "      <td>8B</td>\n",
       "      <td>8C</td>\n",
       "    </tr>\n",
       "  </tbody>\n",
       "</table>\n",
       "</div>"
      ],
      "text/plain": [
       "    A   B   C\n",
       "0  6A  6B  6C\n",
       "1  7A  7B  7C\n",
       "2  8A  8B  8C"
      ]
     },
     "execution_count": 5,
     "metadata": {},
     "output_type": "execute_result"
    }
   ],
   "source": [
    "df2"
   ]
  },
  {
   "cell_type": "code",
   "execution_count": 6,
   "id": "62c0059a-f9b7-4be4-8af0-ea61332a0d14",
   "metadata": {},
   "outputs": [
    {
     "data": {
      "text/html": [
       "<div>\n",
       "<style scoped>\n",
       "    .dataframe tbody tr th:only-of-type {\n",
       "        vertical-align: middle;\n",
       "    }\n",
       "\n",
       "    .dataframe tbody tr th {\n",
       "        vertical-align: top;\n",
       "    }\n",
       "\n",
       "    .dataframe thead th {\n",
       "        text-align: right;\n",
       "    }\n",
       "</style>\n",
       "<table border=\"1\" class=\"dataframe\">\n",
       "  <thead>\n",
       "    <tr style=\"text-align: right;\">\n",
       "      <th></th>\n",
       "      <th>A</th>\n",
       "      <th>B</th>\n",
       "      <th>C</th>\n",
       "    </tr>\n",
       "  </thead>\n",
       "  <tbody>\n",
       "    <tr>\n",
       "      <th>0</th>\n",
       "      <td>1A</td>\n",
       "      <td>1B</td>\n",
       "      <td>1C</td>\n",
       "    </tr>\n",
       "    <tr>\n",
       "      <th>1</th>\n",
       "      <td>2A</td>\n",
       "      <td>2B</td>\n",
       "      <td>2C</td>\n",
       "    </tr>\n",
       "    <tr>\n",
       "      <th>0</th>\n",
       "      <td>6A</td>\n",
       "      <td>6B</td>\n",
       "      <td>6C</td>\n",
       "    </tr>\n",
       "    <tr>\n",
       "      <th>1</th>\n",
       "      <td>7A</td>\n",
       "      <td>7B</td>\n",
       "      <td>7C</td>\n",
       "    </tr>\n",
       "    <tr>\n",
       "      <th>2</th>\n",
       "      <td>8A</td>\n",
       "      <td>8B</td>\n",
       "      <td>8C</td>\n",
       "    </tr>\n",
       "  </tbody>\n",
       "</table>\n",
       "</div>"
      ],
      "text/plain": [
       "    A   B   C\n",
       "0  1A  1B  1C\n",
       "1  2A  2B  2C\n",
       "0  6A  6B  6C\n",
       "1  7A  7B  7C\n",
       "2  8A  8B  8C"
      ]
     },
     "execution_count": 6,
     "metadata": {},
     "output_type": "execute_result"
    }
   ],
   "source": [
    "pd.concat([df1,df2])\n",
    "\n",
    "### aqui podria arreglarse lo del 0,1,0,1"
   ]
  },
  {
   "cell_type": "code",
   "execution_count": 9,
   "id": "cce871c2-d9c7-44f6-b4ac-bde84d6828ee",
   "metadata": {},
   "outputs": [
    {
     "data": {
      "text/html": [
       "<div>\n",
       "<style scoped>\n",
       "    .dataframe tbody tr th:only-of-type {\n",
       "        vertical-align: middle;\n",
       "    }\n",
       "\n",
       "    .dataframe tbody tr th {\n",
       "        vertical-align: top;\n",
       "    }\n",
       "\n",
       "    .dataframe thead th {\n",
       "        text-align: right;\n",
       "    }\n",
       "</style>\n",
       "<table border=\"1\" class=\"dataframe\">\n",
       "  <thead>\n",
       "    <tr style=\"text-align: right;\">\n",
       "      <th></th>\n",
       "      <th>A</th>\n",
       "      <th>B</th>\n",
       "      <th>C</th>\n",
       "    </tr>\n",
       "  </thead>\n",
       "  <tbody>\n",
       "    <tr>\n",
       "      <th>0</th>\n",
       "      <td>1A</td>\n",
       "      <td>1B</td>\n",
       "      <td>1C</td>\n",
       "    </tr>\n",
       "    <tr>\n",
       "      <th>1</th>\n",
       "      <td>2A</td>\n",
       "      <td>2B</td>\n",
       "      <td>2C</td>\n",
       "    </tr>\n",
       "    <tr>\n",
       "      <th>2</th>\n",
       "      <td>6A</td>\n",
       "      <td>6B</td>\n",
       "      <td>6C</td>\n",
       "    </tr>\n",
       "    <tr>\n",
       "      <th>3</th>\n",
       "      <td>7A</td>\n",
       "      <td>7B</td>\n",
       "      <td>7C</td>\n",
       "    </tr>\n",
       "    <tr>\n",
       "      <th>4</th>\n",
       "      <td>8A</td>\n",
       "      <td>8B</td>\n",
       "      <td>8C</td>\n",
       "    </tr>\n",
       "  </tbody>\n",
       "</table>\n",
       "</div>"
      ],
      "text/plain": [
       "    A   B   C\n",
       "0  1A  1B  1C\n",
       "1  2A  2B  2C\n",
       "2  6A  6B  6C\n",
       "3  7A  7B  7C\n",
       "4  8A  8B  8C"
      ]
     },
     "execution_count": 9,
     "metadata": {},
     "output_type": "execute_result"
    }
   ],
   "source": [
    "pd.concat([df1,df2], ignore_index=True)\n",
    "## para solucionar el problema de arriba "
   ]
  },
  {
   "cell_type": "code",
   "execution_count": 10,
   "id": "0f73640f-83bb-4258-b033-f447de4e4cb7",
   "metadata": {},
   "outputs": [],
   "source": [
    "## si nuestro df tiene mas valores en uno de los df, al concatenar los vacios quedan con NaN\n",
    "\n",
    "df1 = pd.DataFrame ({'A':['1A','2A'], 'B':['1B','2B'], 'C':['1C','2C'], 'K':['1K','2K']})\n",
    "df2 = pd.DataFrame ({'A':['6A','7A','8A'], 'B':['6B','7B','8B'], 'C':['6C','7C','8C']})"
   ]
  },
  {
   "cell_type": "code",
   "execution_count": 11,
   "id": "3dac7739-87d1-46ff-8930-4159cdf89271",
   "metadata": {},
   "outputs": [
    {
     "data": {
      "text/html": [
       "<div>\n",
       "<style scoped>\n",
       "    .dataframe tbody tr th:only-of-type {\n",
       "        vertical-align: middle;\n",
       "    }\n",
       "\n",
       "    .dataframe tbody tr th {\n",
       "        vertical-align: top;\n",
       "    }\n",
       "\n",
       "    .dataframe thead th {\n",
       "        text-align: right;\n",
       "    }\n",
       "</style>\n",
       "<table border=\"1\" class=\"dataframe\">\n",
       "  <thead>\n",
       "    <tr style=\"text-align: right;\">\n",
       "      <th></th>\n",
       "      <th>A</th>\n",
       "      <th>B</th>\n",
       "      <th>C</th>\n",
       "      <th>K</th>\n",
       "    </tr>\n",
       "  </thead>\n",
       "  <tbody>\n",
       "    <tr>\n",
       "      <th>0</th>\n",
       "      <td>1A</td>\n",
       "      <td>1B</td>\n",
       "      <td>1C</td>\n",
       "      <td>1K</td>\n",
       "    </tr>\n",
       "    <tr>\n",
       "      <th>1</th>\n",
       "      <td>2A</td>\n",
       "      <td>2B</td>\n",
       "      <td>2C</td>\n",
       "      <td>2K</td>\n",
       "    </tr>\n",
       "    <tr>\n",
       "      <th>0</th>\n",
       "      <td>6A</td>\n",
       "      <td>6B</td>\n",
       "      <td>6C</td>\n",
       "      <td>NaN</td>\n",
       "    </tr>\n",
       "    <tr>\n",
       "      <th>1</th>\n",
       "      <td>7A</td>\n",
       "      <td>7B</td>\n",
       "      <td>7C</td>\n",
       "      <td>NaN</td>\n",
       "    </tr>\n",
       "    <tr>\n",
       "      <th>2</th>\n",
       "      <td>8A</td>\n",
       "      <td>8B</td>\n",
       "      <td>8C</td>\n",
       "      <td>NaN</td>\n",
       "    </tr>\n",
       "  </tbody>\n",
       "</table>\n",
       "</div>"
      ],
      "text/plain": [
       "    A   B   C    K\n",
       "0  1A  1B  1C   1K\n",
       "1  2A  2B  2C   2K\n",
       "0  6A  6B  6C  NaN\n",
       "1  7A  7B  7C  NaN\n",
       "2  8A  8B  8C  NaN"
      ]
     },
     "execution_count": 11,
     "metadata": {},
     "output_type": "execute_result"
    }
   ],
   "source": [
    "pd.concat([df1,df2])"
   ]
  },
  {
   "cell_type": "markdown",
   "id": "b7cdac21-180c-4689-b5cd-4aa47b00beb7",
   "metadata": {},
   "source": [
    "## Merge\n",
    "\n",
    "Esta tecnica fusiona diferentes df a partir de una columna (clave) en comun"
   ]
  },
  {
   "cell_type": "code",
   "execution_count": 27,
   "id": "1710f0f4-ac9e-40e3-9283-fa299d94487f",
   "metadata": {},
   "outputs": [],
   "source": [
    "df1 = pd.DataFrame ({'A':['1A','2A','3A'], 'B':['1B','2B','3B']})\n",
    "df2 = pd.DataFrame ({'A':['1A','2A'], 'C':['1C','2C'], 'K':['1K','2K']})"
   ]
  },
  {
   "cell_type": "code",
   "execution_count": 15,
   "id": "f13df2f7-aa5a-48a4-8c90-d53b852c12d4",
   "metadata": {},
   "outputs": [
    {
     "data": {
      "text/html": [
       "<div>\n",
       "<style scoped>\n",
       "    .dataframe tbody tr th:only-of-type {\n",
       "        vertical-align: middle;\n",
       "    }\n",
       "\n",
       "    .dataframe tbody tr th {\n",
       "        vertical-align: top;\n",
       "    }\n",
       "\n",
       "    .dataframe thead th {\n",
       "        text-align: right;\n",
       "    }\n",
       "</style>\n",
       "<table border=\"1\" class=\"dataframe\">\n",
       "  <thead>\n",
       "    <tr style=\"text-align: right;\">\n",
       "      <th></th>\n",
       "      <th>A</th>\n",
       "      <th>B</th>\n",
       "    </tr>\n",
       "  </thead>\n",
       "  <tbody>\n",
       "    <tr>\n",
       "      <th>0</th>\n",
       "      <td>1A</td>\n",
       "      <td>1B</td>\n",
       "    </tr>\n",
       "    <tr>\n",
       "      <th>1</th>\n",
       "      <td>2A</td>\n",
       "      <td>2B</td>\n",
       "    </tr>\n",
       "  </tbody>\n",
       "</table>\n",
       "</div>"
      ],
      "text/plain": [
       "    A   B\n",
       "0  1A  1B\n",
       "1  2A  2B"
      ]
     },
     "execution_count": 15,
     "metadata": {},
     "output_type": "execute_result"
    }
   ],
   "source": [
    "df1"
   ]
  },
  {
   "cell_type": "code",
   "execution_count": 16,
   "id": "d78b70cf-b0c4-495d-b063-70826899ad88",
   "metadata": {},
   "outputs": [
    {
     "data": {
      "text/html": [
       "<div>\n",
       "<style scoped>\n",
       "    .dataframe tbody tr th:only-of-type {\n",
       "        vertical-align: middle;\n",
       "    }\n",
       "\n",
       "    .dataframe tbody tr th {\n",
       "        vertical-align: top;\n",
       "    }\n",
       "\n",
       "    .dataframe thead th {\n",
       "        text-align: right;\n",
       "    }\n",
       "</style>\n",
       "<table border=\"1\" class=\"dataframe\">\n",
       "  <thead>\n",
       "    <tr style=\"text-align: right;\">\n",
       "      <th></th>\n",
       "      <th>A</th>\n",
       "      <th>C</th>\n",
       "      <th>K</th>\n",
       "    </tr>\n",
       "  </thead>\n",
       "  <tbody>\n",
       "    <tr>\n",
       "      <th>0</th>\n",
       "      <td>1A</td>\n",
       "      <td>1C</td>\n",
       "      <td>1K</td>\n",
       "    </tr>\n",
       "    <tr>\n",
       "      <th>1</th>\n",
       "      <td>2A</td>\n",
       "      <td>2C</td>\n",
       "      <td>2K</td>\n",
       "    </tr>\n",
       "  </tbody>\n",
       "</table>\n",
       "</div>"
      ],
      "text/plain": [
       "    A   C   K\n",
       "0  1A  1C  1K\n",
       "1  2A  2C  2K"
      ]
     },
     "execution_count": 16,
     "metadata": {},
     "output_type": "execute_result"
    }
   ],
   "source": [
    "df2"
   ]
  },
  {
   "cell_type": "code",
   "execution_count": 18,
   "id": "ebdc887a-de7b-45b4-8b85-e783641e86d3",
   "metadata": {},
   "outputs": [
    {
     "data": {
      "text/html": [
       "<div>\n",
       "<style scoped>\n",
       "    .dataframe tbody tr th:only-of-type {\n",
       "        vertical-align: middle;\n",
       "    }\n",
       "\n",
       "    .dataframe tbody tr th {\n",
       "        vertical-align: top;\n",
       "    }\n",
       "\n",
       "    .dataframe thead th {\n",
       "        text-align: right;\n",
       "    }\n",
       "</style>\n",
       "<table border=\"1\" class=\"dataframe\">\n",
       "  <thead>\n",
       "    <tr style=\"text-align: right;\">\n",
       "      <th></th>\n",
       "      <th>A</th>\n",
       "      <th>B</th>\n",
       "      <th>C</th>\n",
       "      <th>K</th>\n",
       "    </tr>\n",
       "  </thead>\n",
       "  <tbody>\n",
       "    <tr>\n",
       "      <th>0</th>\n",
       "      <td>1A</td>\n",
       "      <td>1B</td>\n",
       "      <td>1C</td>\n",
       "      <td>1K</td>\n",
       "    </tr>\n",
       "    <tr>\n",
       "      <th>1</th>\n",
       "      <td>2A</td>\n",
       "      <td>2B</td>\n",
       "      <td>2C</td>\n",
       "      <td>2K</td>\n",
       "    </tr>\n",
       "  </tbody>\n",
       "</table>\n",
       "</div>"
      ],
      "text/plain": [
       "    A   B   C   K\n",
       "0  1A  1B  1C  1K\n",
       "1  2A  2B  2C  2K"
      ]
     },
     "execution_count": 18,
     "metadata": {},
     "output_type": "execute_result"
    }
   ],
   "source": [
    "pd.merge(df1,df2, on=['A'])\n",
    " \n",
    "## aqui se fusiona de dos en dos, asi que tenemos que especificar que columna tomamos como pibote "
   ]
  },
  {
   "cell_type": "code",
   "execution_count": 21,
   "id": "597ce629-3c34-4ff9-83f8-7cec490fc8ff",
   "metadata": {},
   "outputs": [
    {
     "data": {
      "text/html": [
       "<div>\n",
       "<style scoped>\n",
       "    .dataframe tbody tr th:only-of-type {\n",
       "        vertical-align: middle;\n",
       "    }\n",
       "\n",
       "    .dataframe tbody tr th {\n",
       "        vertical-align: top;\n",
       "    }\n",
       "\n",
       "    .dataframe thead th {\n",
       "        text-align: right;\n",
       "    }\n",
       "</style>\n",
       "<table border=\"1\" class=\"dataframe\">\n",
       "  <thead>\n",
       "    <tr style=\"text-align: right;\">\n",
       "      <th></th>\n",
       "      <th>A</th>\n",
       "      <th>B</th>\n",
       "      <th>C</th>\n",
       "      <th>K</th>\n",
       "    </tr>\n",
       "  </thead>\n",
       "  <tbody>\n",
       "    <tr>\n",
       "      <th>0</th>\n",
       "      <td>1A</td>\n",
       "      <td>1B</td>\n",
       "      <td>1C</td>\n",
       "      <td>1K</td>\n",
       "    </tr>\n",
       "    <tr>\n",
       "      <th>1</th>\n",
       "      <td>2A</td>\n",
       "      <td>2B</td>\n",
       "      <td>2C</td>\n",
       "      <td>2K</td>\n",
       "    </tr>\n",
       "  </tbody>\n",
       "</table>\n",
       "</div>"
      ],
      "text/plain": [
       "    A   B   C   K\n",
       "0  1A  1B  1C  1K\n",
       "1  2A  2B  2C  2K"
      ]
     },
     "execution_count": 21,
     "metadata": {},
     "output_type": "execute_result"
    }
   ],
   "source": [
    "pd.merge(df1,df2, on=['k'])\n",
    "\n",
    "## si es fusion a la K sale error porque el primer df no tiene la columna k"
   ]
  },
  {
   "cell_type": "code",
   "execution_count": 28,
   "id": "ed8a4c36-29e2-4f33-9b73-b01a31b76b56",
   "metadata": {},
   "outputs": [
    {
     "data": {
      "text/html": [
       "<div>\n",
       "<style scoped>\n",
       "    .dataframe tbody tr th:only-of-type {\n",
       "        vertical-align: middle;\n",
       "    }\n",
       "\n",
       "    .dataframe tbody tr th {\n",
       "        vertical-align: top;\n",
       "    }\n",
       "\n",
       "    .dataframe thead th {\n",
       "        text-align: right;\n",
       "    }\n",
       "</style>\n",
       "<table border=\"1\" class=\"dataframe\">\n",
       "  <thead>\n",
       "    <tr style=\"text-align: right;\">\n",
       "      <th></th>\n",
       "      <th>A</th>\n",
       "      <th>B</th>\n",
       "      <th>C</th>\n",
       "      <th>K</th>\n",
       "    </tr>\n",
       "  </thead>\n",
       "  <tbody>\n",
       "    <tr>\n",
       "      <th>0</th>\n",
       "      <td>1A</td>\n",
       "      <td>1B</td>\n",
       "      <td>1C</td>\n",
       "      <td>1K</td>\n",
       "    </tr>\n",
       "    <tr>\n",
       "      <th>1</th>\n",
       "      <td>2A</td>\n",
       "      <td>2B</td>\n",
       "      <td>2C</td>\n",
       "      <td>2K</td>\n",
       "    </tr>\n",
       "    <tr>\n",
       "      <th>2</th>\n",
       "      <td>3A</td>\n",
       "      <td>3B</td>\n",
       "      <td>NaN</td>\n",
       "      <td>NaN</td>\n",
       "    </tr>\n",
       "  </tbody>\n",
       "</table>\n",
       "</div>"
      ],
      "text/plain": [
       "    A   B    C    K\n",
       "0  1A  1B   1C   1K\n",
       "1  2A  2B   2C   2K\n",
       "2  3A  3B  NaN  NaN"
      ]
     },
     "execution_count": 28,
     "metadata": {},
     "output_type": "execute_result"
    }
   ],
   "source": [
    "pd.merge(df1,df2, on=['A'], how='outer')\n",
    "\n",
    "## outer es todo"
   ]
  },
  {
   "cell_type": "code",
   "execution_count": 29,
   "id": "4a5628c0-a2eb-4231-929e-c9fd5d5555e6",
   "metadata": {},
   "outputs": [
    {
     "data": {
      "text/html": [
       "<div>\n",
       "<style scoped>\n",
       "    .dataframe tbody tr th:only-of-type {\n",
       "        vertical-align: middle;\n",
       "    }\n",
       "\n",
       "    .dataframe tbody tr th {\n",
       "        vertical-align: top;\n",
       "    }\n",
       "\n",
       "    .dataframe thead th {\n",
       "        text-align: right;\n",
       "    }\n",
       "</style>\n",
       "<table border=\"1\" class=\"dataframe\">\n",
       "  <thead>\n",
       "    <tr style=\"text-align: right;\">\n",
       "      <th></th>\n",
       "      <th>A</th>\n",
       "      <th>B</th>\n",
       "      <th>C</th>\n",
       "      <th>K</th>\n",
       "    </tr>\n",
       "  </thead>\n",
       "  <tbody>\n",
       "    <tr>\n",
       "      <th>0</th>\n",
       "      <td>1A</td>\n",
       "      <td>1B</td>\n",
       "      <td>1C</td>\n",
       "      <td>1K</td>\n",
       "    </tr>\n",
       "    <tr>\n",
       "      <th>1</th>\n",
       "      <td>2A</td>\n",
       "      <td>2B</td>\n",
       "      <td>2C</td>\n",
       "      <td>2K</td>\n",
       "    </tr>\n",
       "    <tr>\n",
       "      <th>2</th>\n",
       "      <td>3A</td>\n",
       "      <td>3B</td>\n",
       "      <td>NaN</td>\n",
       "      <td>NaN</td>\n",
       "    </tr>\n",
       "  </tbody>\n",
       "</table>\n",
       "</div>"
      ],
      "text/plain": [
       "    A   B    C    K\n",
       "0  1A  1B   1C   1K\n",
       "1  2A  2B   2C   2K\n",
       "2  3A  3B  NaN  NaN"
      ]
     },
     "execution_count": 29,
     "metadata": {},
     "output_type": "execute_result"
    }
   ],
   "source": [
    "pd.merge(df1,df2, on=['A'], how='left')\n",
    "\n",
    "## inner es solo lo de en medio "
   ]
  },
  {
   "cell_type": "markdown",
   "id": "a2bd0a1b-46a7-41cb-b9c4-b714d00992fb",
   "metadata": {},
   "source": [
    "## Join\n",
    "La idea de este dataframe es combinar las columnas de dos df indexados "
   ]
  },
  {
   "cell_type": "code",
   "execution_count": 32,
   "id": "cc6c5b7f-f18a-4ace-9df3-f248999c714d",
   "metadata": {},
   "outputs": [],
   "source": [
    "df1 = pd.DataFrame ({'Z':['1A','2A','3A'], 'B':['1B','2B','3B']}, index=['i1','i2','i3'])\n",
    "df2 = pd.DataFrame ({'A':['5A','6A'], 'C':['1C','2C'], 'K':['1K','2K']},  index=['i1','i2'])"
   ]
  },
  {
   "cell_type": "code",
   "execution_count": 34,
   "id": "f7264b67-cd21-4e1a-b23c-26dc81bde2d6",
   "metadata": {},
   "outputs": [
    {
     "data": {
      "text/html": [
       "<div>\n",
       "<style scoped>\n",
       "    .dataframe tbody tr th:only-of-type {\n",
       "        vertical-align: middle;\n",
       "    }\n",
       "\n",
       "    .dataframe tbody tr th {\n",
       "        vertical-align: top;\n",
       "    }\n",
       "\n",
       "    .dataframe thead th {\n",
       "        text-align: right;\n",
       "    }\n",
       "</style>\n",
       "<table border=\"1\" class=\"dataframe\">\n",
       "  <thead>\n",
       "    <tr style=\"text-align: right;\">\n",
       "      <th></th>\n",
       "      <th>Z</th>\n",
       "      <th>B</th>\n",
       "      <th>A</th>\n",
       "      <th>C</th>\n",
       "      <th>K</th>\n",
       "    </tr>\n",
       "  </thead>\n",
       "  <tbody>\n",
       "    <tr>\n",
       "      <th>i1</th>\n",
       "      <td>1A</td>\n",
       "      <td>1B</td>\n",
       "      <td>5A</td>\n",
       "      <td>1C</td>\n",
       "      <td>1K</td>\n",
       "    </tr>\n",
       "    <tr>\n",
       "      <th>i2</th>\n",
       "      <td>2A</td>\n",
       "      <td>2B</td>\n",
       "      <td>6A</td>\n",
       "      <td>2C</td>\n",
       "      <td>2K</td>\n",
       "    </tr>\n",
       "    <tr>\n",
       "      <th>i3</th>\n",
       "      <td>3A</td>\n",
       "      <td>3B</td>\n",
       "      <td>NaN</td>\n",
       "      <td>NaN</td>\n",
       "      <td>NaN</td>\n",
       "    </tr>\n",
       "  </tbody>\n",
       "</table>\n",
       "</div>"
      ],
      "text/plain": [
       "     Z   B    A    C    K\n",
       "i1  1A  1B   5A   1C   1K\n",
       "i2  2A  2B   6A   2C   2K\n",
       "i3  3A  3B  NaN  NaN  NaN"
      ]
     },
     "execution_count": 34,
     "metadata": {},
     "output_type": "execute_result"
    }
   ],
   "source": [
    "df1.join(df2)\n",
    "\n",
    "## los une a partir de los valores de los indices "
   ]
  },
  {
   "cell_type": "markdown",
   "id": "f8fcbb12-938d-4a85-9df7-9044aef85350",
   "metadata": {},
   "source": [
    "# entradas y salidas"
   ]
  },
  {
   "cell_type": "code",
   "execution_count": null,
   "id": "be1dadf1-074a-487e-baeb-711b9bb61df7",
   "metadata": {},
   "outputs": [],
   "source": [
    "## fichero es  un archivo que contiene una data: html, pdf, etc. \n",
    "# ej. si un pdf lo abres en bloc de notas aparece un codigo, que se llama codificaciones\n",
    "## una codificacion plana, la podemos abrir en cualquier lado como el bloc de notas "
   ]
  },
  {
   "cell_type": "code",
   "execution_count": 37,
   "id": "c5886678-31ca-4dc9-af32-9282fa1d4e9f",
   "metadata": {},
   "outputs": [
    {
     "data": {
      "text/html": [
       "<div>\n",
       "<style scoped>\n",
       "    .dataframe tbody tr th:only-of-type {\n",
       "        vertical-align: middle;\n",
       "    }\n",
       "\n",
       "    .dataframe tbody tr th {\n",
       "        vertical-align: top;\n",
       "    }\n",
       "\n",
       "    .dataframe thead th {\n",
       "        text-align: right;\n",
       "    }\n",
       "</style>\n",
       "<table border=\"1\" class=\"dataframe\">\n",
       "  <thead>\n",
       "    <tr style=\"text-align: right;\">\n",
       "      <th></th>\n",
       "      <th>Z</th>\n",
       "      <th>B</th>\n",
       "      <th>A</th>\n",
       "      <th>C</th>\n",
       "      <th>K</th>\n",
       "    </tr>\n",
       "  </thead>\n",
       "  <tbody>\n",
       "    <tr>\n",
       "      <th>i1</th>\n",
       "      <td>1A</td>\n",
       "      <td>1B</td>\n",
       "      <td>5A</td>\n",
       "      <td>1C</td>\n",
       "      <td>1K</td>\n",
       "    </tr>\n",
       "    <tr>\n",
       "      <th>i2</th>\n",
       "      <td>2A</td>\n",
       "      <td>2B</td>\n",
       "      <td>6A</td>\n",
       "      <td>2C</td>\n",
       "      <td>2K</td>\n",
       "    </tr>\n",
       "    <tr>\n",
       "      <th>i3</th>\n",
       "      <td>3A</td>\n",
       "      <td>3B</td>\n",
       "      <td>NaN</td>\n",
       "      <td>NaN</td>\n",
       "      <td>NaN</td>\n",
       "    </tr>\n",
       "  </tbody>\n",
       "</table>\n",
       "</div>"
      ],
      "text/plain": [
       "     Z   B    A    C    K\n",
       "i1  1A  1B   5A   1C   1K\n",
       "i2  2A  2B   6A   2C   2K\n",
       "i3  3A  3B  NaN  NaN  NaN"
      ]
     },
     "execution_count": 37,
     "metadata": {},
     "output_type": "execute_result"
    }
   ],
   "source": [
    "df3 = df1.join(df2)\n",
    "df3"
   ]
  },
  {
   "cell_type": "code",
   "execution_count": 48,
   "id": "98c7b2b6-9cde-46fc-a736-20ed26577683",
   "metadata": {},
   "outputs": [],
   "source": [
    "df3.to_csv('nombre.csv', index=False)\n",
    "\n",
    "## crea un archivo excel directamente en el folder "
   ]
  },
  {
   "cell_type": "code",
   "execution_count": 50,
   "id": "76c78f16-c1aa-431d-9827-ccb1ce9e3f7b",
   "metadata": {},
   "outputs": [
    {
     "data": {
      "text/html": [
       "<div>\n",
       "<style scoped>\n",
       "    .dataframe tbody tr th:only-of-type {\n",
       "        vertical-align: middle;\n",
       "    }\n",
       "\n",
       "    .dataframe tbody tr th {\n",
       "        vertical-align: top;\n",
       "    }\n",
       "\n",
       "    .dataframe thead th {\n",
       "        text-align: right;\n",
       "    }\n",
       "</style>\n",
       "<table border=\"1\" class=\"dataframe\">\n",
       "  <thead>\n",
       "    <tr style=\"text-align: right;\">\n",
       "      <th></th>\n",
       "      <th>Z</th>\n",
       "      <th>B</th>\n",
       "      <th>A</th>\n",
       "      <th>C</th>\n",
       "      <th>K</th>\n",
       "    </tr>\n",
       "  </thead>\n",
       "  <tbody>\n",
       "    <tr>\n",
       "      <th>0</th>\n",
       "      <td>1A</td>\n",
       "      <td>1B</td>\n",
       "      <td>5A</td>\n",
       "      <td>1C</td>\n",
       "      <td>1K</td>\n",
       "    </tr>\n",
       "    <tr>\n",
       "      <th>1</th>\n",
       "      <td>2A</td>\n",
       "      <td>2B</td>\n",
       "      <td>6A</td>\n",
       "      <td>2C</td>\n",
       "      <td>2K</td>\n",
       "    </tr>\n",
       "    <tr>\n",
       "      <th>2</th>\n",
       "      <td>3A</td>\n",
       "      <td>3B</td>\n",
       "      <td>NaN</td>\n",
       "      <td>NaN</td>\n",
       "      <td>NaN</td>\n",
       "    </tr>\n",
       "  </tbody>\n",
       "</table>\n",
       "</div>"
      ],
      "text/plain": [
       "    Z   B    A    C    K\n",
       "0  1A  1B   5A   1C   1K\n",
       "1  2A  2B   6A   2C   2K\n",
       "2  3A  3B  NaN  NaN  NaN"
      ]
     },
     "execution_count": 50,
     "metadata": {},
     "output_type": "execute_result"
    }
   ],
   "source": [
    "pd.read_csv(r\"C:\\Users\\HP\\Documents\\GitHub\\Neurociencias-2026-1\\S02_clases\\nombre.csv\")"
   ]
  },
  {
   "cell_type": "code",
   "execution_count": null,
   "id": "b6159456-cd11-47d2-87a9-f63b23fb209f",
   "metadata": {},
   "outputs": [],
   "source": []
  },
  {
   "cell_type": "code",
   "execution_count": null,
   "id": "c0d394ae-d662-4f7c-94e2-e0a9f9de6ae8",
   "metadata": {},
   "outputs": [],
   "source": []
  },
  {
   "cell_type": "code",
   "execution_count": null,
   "id": "b9d89635-75d0-453a-9f14-c9bc75f44825",
   "metadata": {},
   "outputs": [],
   "source": []
  },
  {
   "cell_type": "code",
   "execution_count": null,
   "id": "5c66bf65-c278-4908-94a7-88760db1c687",
   "metadata": {},
   "outputs": [],
   "source": []
  }
 ],
 "metadata": {
  "kernelspec": {
   "display_name": "Python 3 (ipykernel)",
   "language": "python",
   "name": "python3"
  },
  "language_info": {
   "codemirror_mode": {
    "name": "ipython",
    "version": 3
   },
   "file_extension": ".py",
   "mimetype": "text/x-python",
   "name": "python",
   "nbconvert_exporter": "python",
   "pygments_lexer": "ipython3",
   "version": "3.13.6"
  }
 },
 "nbformat": 4,
 "nbformat_minor": 5
}
