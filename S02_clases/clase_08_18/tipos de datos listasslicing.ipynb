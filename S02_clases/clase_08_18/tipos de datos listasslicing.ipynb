{
 "cells": [
  {
   "cell_type": "markdown",
   "id": "5df46525-635b-47a9-bf67-415748d6d313",
   "metadata": {},
   "source": [
    "# Cadenas inmutables\n"
   ]
  },
  {
   "cell_type": "code",
   "execution_count": 2,
   "id": "187eaf86-b265-45c3-aac3-5171fd1b2a35",
   "metadata": {},
   "outputs": [
    {
     "data": {
      "text/plain": [
       "'cadena'"
      ]
     },
     "execution_count": 2,
     "metadata": {},
     "output_type": "execute_result"
    }
   ],
   "source": [
    "cadena=\"cadena\"\n",
    "cadena"
   ]
  },
  {
   "cell_type": "code",
   "execution_count": 3,
   "id": "2bbd711b-80c6-4da0-a3cc-009200a883c0",
   "metadata": {},
   "outputs": [
    {
     "ename": "TypeError",
     "evalue": "'str' object does not support item assignment",
     "output_type": "error",
     "traceback": [
      "\u001b[1;31m---------------------------------------------------------------------------\u001b[0m",
      "\u001b[1;31mTypeError\u001b[0m                                 Traceback (most recent call last)",
      "Cell \u001b[1;32mIn[3], line 2\u001b[0m\n\u001b[0;32m      1\u001b[0m \u001b[38;5;66;03m#como compruebas que una cadena es inmutable (cadena inmutable= sus elementos no son modificables)\u001b[39;00m\n\u001b[1;32m----> 2\u001b[0m \u001b[43mcadena\u001b[49m\u001b[43m \u001b[49m\u001b[43m[\u001b[49m\u001b[38;5;241;43m-\u001b[39;49m\u001b[38;5;241;43m2\u001b[39;49m\u001b[43m \u001b[49m\u001b[43m]\u001b[49m\u001b[38;5;241m=\u001b[39m \u001b[38;5;124m'\u001b[39m\u001b[38;5;124mp\u001b[39m\u001b[38;5;124m'\u001b[39m\n",
      "\u001b[1;31mTypeError\u001b[0m: 'str' object does not support item assignment"
     ]
    }
   ],
   "source": [
    "#como compruebas que una cadena es inmutable (cadena inmutable= sus elementos no son modificables)\n",
    "cadena [-2 ]= 'p'\n"
   ]
  },
  {
   "cell_type": "markdown",
   "id": "fc080f96-de5e-41e8-9b1a-c3d190fcf235",
   "metadata": {},
   "source": [
    "# Alternativas a la inmutabilidad "
   ]
  },
  {
   "cell_type": "code",
   "execution_count": 4,
   "id": "5be7b06a-65a5-449d-8228-f8872bcfa8b8",
   "metadata": {},
   "outputs": [],
   "source": [
    "cadena=\"donde esta oswaldo\"\n",
    "cadena2=\"viva la programación\"\n",
    "cadena3=\"bts volvio del ejercito\""
   ]
  },
  {
   "cell_type": "code",
   "execution_count": 5,
   "id": "770cf815-c4db-4f19-896a-7506d7df5f26",
   "metadata": {},
   "outputs": [
    {
     "data": {
      "text/plain": [
       "'donde esta la programaciónque volvio del ejercito'"
      ]
     },
     "execution_count": 5,
     "metadata": {},
     "output_type": "execute_result"
    }
   ],
   "source": [
    "#Ejercicio: con slicing crear la frase \"donde esta la programación que volvio del ejercito\"\n",
    "cadena[ :10] +cadena2[4: ] + \"que\" + cadena3[3: ]"
   ]
  },
  {
   "cell_type": "code",
   "execution_count": 8,
   "id": "bd078251-7e0b-44f9-8194-72967c35002f",
   "metadata": {},
   "outputs": [
    {
     "data": {
      "text/plain": [
       "'oswaldo volvio a la programación ed oivlov stb'"
      ]
     },
     "execution_count": 8,
     "metadata": {},
     "output_type": "execute_result"
    }
   ],
   "source": [
    "#Crear \"oswaldo volvio a la programación de divlov stb\"\n",
    "cadena[-7: ] + cadena3[3:11] + \"a\"+' ' + cadena2[5: ] +' '+ cadena3[-11::-1]"
   ]
  },
  {
   "cell_type": "markdown",
   "id": "c7fc9644-ce0f-4632-a967-d57d9a11c271",
   "metadata": {},
   "source": [
    "# Tipo de dato.Listas"
   ]
  },
  {
   "cell_type": "code",
   "execution_count": 10,
   "id": "2c711940-4cb7-40e9-b50d-72fa4084c5b2",
   "metadata": {},
   "outputs": [],
   "source": [
    "lista=[5,4,2,90.3,complex(-7,6),'strings','wow',[1,2,3]]"
   ]
  },
  {
   "cell_type": "code",
   "execution_count": 11,
   "id": "8078cd20-5d41-4b31-889d-7ea1c10e1b8a",
   "metadata": {},
   "outputs": [
    {
     "data": {
      "text/plain": [
       "list"
      ]
     },
     "execution_count": 11,
     "metadata": {},
     "output_type": "execute_result"
    }
   ],
   "source": [
    "type(lista)"
   ]
  },
  {
   "cell_type": "code",
   "execution_count": 12,
   "id": "c3462454-df90-4f90-90b0-6ffc926d09c0",
   "metadata": {},
   "outputs": [
    {
     "data": {
      "text/plain": [
       "(-7+6j)"
      ]
     },
     "execution_count": 12,
     "metadata": {},
     "output_type": "execute_result"
    }
   ],
   "source": [
    "lista[4]"
   ]
  },
  {
   "cell_type": "code",
   "execution_count": 13,
   "id": "f118c4a1-ffc4-412f-b85a-a53cef4a5985",
   "metadata": {},
   "outputs": [
    {
     "data": {
      "text/plain": [
       "4"
      ]
     },
     "execution_count": 13,
     "metadata": {},
     "output_type": "execute_result"
    }
   ],
   "source": [
    "lista[1]"
   ]
  },
  {
   "cell_type": "code",
   "execution_count": 14,
   "id": "b4fa6503-e408-41e7-906d-5460fdf844be",
   "metadata": {},
   "outputs": [
    {
     "data": {
      "text/plain": [
       "(-3+6j)"
      ]
     },
     "execution_count": 14,
     "metadata": {},
     "output_type": "execute_result"
    }
   ],
   "source": [
    "lista[4] + lista[1]"
   ]
  },
  {
   "cell_type": "code",
   "execution_count": 15,
   "id": "20883b12-8205-4d0b-bb2f-9996bebaeb3a",
   "metadata": {},
   "outputs": [
    {
     "data": {
      "text/plain": [
       "'wowwow'"
      ]
     },
     "execution_count": 15,
     "metadata": {},
     "output_type": "execute_result"
    }
   ],
   "source": [
    "lista[2]*lista[-2]"
   ]
  },
  {
   "cell_type": "code",
   "execution_count": 19,
   "id": "2bfc1a05-3782-4221-a128-88d641a47cde",
   "metadata": {},
   "outputs": [
    {
     "data": {
      "text/plain": [
       "[1, 2, 3, 1, 2, 3, 1, 2, 3, 1, 2, 3]"
      ]
     },
     "execution_count": 19,
     "metadata": {},
     "output_type": "execute_result"
    }
   ],
   "source": [
    "lista[1] * lista[-1]"
   ]
  },
  {
   "cell_type": "code",
   "execution_count": 20,
   "id": "7a122039-02a1-4864-a4ac-c37748863126",
   "metadata": {},
   "outputs": [
    {
     "data": {
      "text/plain": [
       "[5, 4, 2, 'chale', (-7+6j), 'strings', 'wow', [1, 2, 3]]"
      ]
     },
     "execution_count": 20,
     "metadata": {},
     "output_type": "execute_result"
    }
   ],
   "source": [
    "lista[3]=\"chale\"\n",
    "lista"
   ]
  },
  {
   "cell_type": "code",
   "execution_count": 21,
   "id": "1cb313ab-0e5c-4b3a-9b25-ca722109e4c5",
   "metadata": {},
   "outputs": [
    {
     "data": {
      "text/plain": [
       "[5,\n",
       " 4,\n",
       " 'm',\n",
       " 'a',\n",
       " 'l',\n",
       " 'u',\n",
       " 'm',\n",
       " 'a',\n",
       " ' ',\n",
       " 'b',\n",
       " 'a',\n",
       " 'b',\n",
       " 'y',\n",
       " 'strings',\n",
       " 'wow',\n",
       " [1, 2, 3]]"
      ]
     },
     "execution_count": 21,
     "metadata": {},
     "output_type": "execute_result"
    }
   ],
   "source": [
    "lista[2:5]=\"maluma baby\"\n",
    "lista"
   ]
  },
  {
   "cell_type": "code",
   "execution_count": 22,
   "id": "9eafb36f-e091-42ea-a7a5-4b3a77c65dbe",
   "metadata": {},
   "outputs": [
    {
     "name": "stdout",
     "output_type": "stream",
     "text": [
      "16 [5, 4, 'm', 'a', 'l', 'u', 'm', 'a', ' ', 'b', 'a', 'b', 'y', 'strings', 'wow', [1, 2, 3]]\n"
     ]
    }
   ],
   "source": [
    "print(len(lista),lista)"
   ]
  },
  {
   "cell_type": "code",
   "execution_count": 26,
   "id": "5106c1b5-6eea-4be8-9b41-36cbd7957394",
   "metadata": {},
   "outputs": [
    {
     "name": "stdout",
     "output_type": "stream",
     "text": [
      "18 [5, 4, 'maluma baby', 'maluma baby', 'maluma baby', 'maluma baby', 'maluma baby', 'u', 'm', 'a', ' ', 'b', 'a', 'b', 'y', 'strings', 'wow', [1, 2, 3]]\n"
     ]
    }
   ],
   "source": [
    "lista[2: 5]=5 * [\"maluma baby\"]\n",
    "print(len(lista),lista)                "
   ]
  },
  {
   "cell_type": "code",
   "execution_count": 29,
   "id": "8c9e004d-034d-4211-8b11-893f198bc983",
   "metadata": {},
   "outputs": [
    {
     "data": {
      "text/plain": [
       "'C:\\\\Users\\\\nicol\\\\OneDrive\\\\Documentos\\\\GitHub\\\\Neurociencias-2026-1\\\\S02_clases\\\\clase_08_18'"
      ]
     },
     "execution_count": 29,
     "metadata": {},
     "output_type": "execute_result"
    }
   ],
   "source": [
    "ruta=r\"C:\\Users\\nicol\\OneDrive\\Documentos\\GitHub\\Neurociencias-2026-1\\S02_clases\\clase_08_18\"\n",
    "ruta"
   ]
  },
  {
   "cell_type": "code",
   "execution_count": 31,
   "id": "b9c3e616-b86c-4ecb-9348-6f428731e8c1",
   "metadata": {},
   "outputs": [
    {
     "data": {
      "text/plain": [
       "'clase_08_18'"
      ]
     },
     "execution_count": 31,
     "metadata": {},
     "output_type": "execute_result"
    }
   ],
   "source": [
    "var1=ruta.split(sep=\"\\\\\")\n",
    "var2=var1[-1]\n",
    "var3=var2.split(sep=\".pptx\")\n",
    "var3[0]"
   ]
  },
  {
   "cell_type": "code",
   "execution_count": 35,
   "id": "16e0afd9-70c7-4ff5-9785-bee7159d4627",
   "metadata": {},
   "outputs": [
    {
     "data": {
      "text/plain": [
       "'clase_08_18'"
      ]
     },
     "execution_count": 35,
     "metadata": {},
     "output_type": "execute_result"
    }
   ],
   "source": [
    "#otra forma de hacerlo\n",
    "var1=ruta.split(sep=\"\\\\\")[-1]\n",
    "var1"
   ]
  },
  {
   "cell_type": "code",
   "execution_count": null,
   "id": "37907ca9-ab07-4337-ab95-26283194cb0e",
   "metadata": {},
   "outputs": [],
   "source": []
  }
 ],
 "metadata": {
  "kernelspec": {
   "display_name": "Python 3 (ipykernel)",
   "language": "python",
   "name": "python3"
  },
  "language_info": {
   "codemirror_mode": {
    "name": "ipython",
    "version": 3
   },
   "file_extension": ".py",
   "mimetype": "text/x-python",
   "name": "python",
   "nbconvert_exporter": "python",
   "pygments_lexer": "ipython3",
   "version": "3.10.4"
  }
 },
 "nbformat": 4,
 "nbformat_minor": 5
}
