{
 "cells": [
  {
   "cell_type": "code",
   "execution_count": 2,
   "id": "f817b6bb-0d0e-4303-983a-abfe73ed5482",
   "metadata": {},
   "outputs": [],
   "source": [
    "cadena=\"donde esta oswaldo\"\n",
    "cadena2=\"viva la programacion\"\n",
    "cadena3=\"bts volvio del ejercito\""
   ]
  },
  {
   "cell_type": "code",
   "execution_count": 3,
   "id": "609b885a-a0bb-474f-b915-a423e27892bf",
   "metadata": {},
   "outputs": [],
   "source": [
    "#Ejercicio. con slicing, crear la frase:\n",
    "# \"donde esta la programacion que volvio del ejercito\""
   ]
  },
  {
   "cell_type": "code",
   "execution_count": 10,
   "id": "b4f98e26-4bf6-46a1-8d0c-11a573913ed4",
   "metadata": {},
   "outputs": [
    {
     "data": {
      "text/plain": [
       "'donde esta la programacion volvio del ejercito'"
      ]
     },
     "execution_count": 10,
     "metadata": {},
     "output_type": "execute_result"
    }
   ],
   "source": [
    "cadena[:10] + cadena2[4:] + \"que\" + cadena3[3:]"
   ]
  },
  {
   "cell_type": "code",
   "execution_count": 18,
   "id": "fababed5-b89e-4e2d-bd31-df492875709b",
   "metadata": {},
   "outputs": [
    {
     "data": {
      "text/plain": [
       "'oswaldos volvioa la programacion ed oivlov stb'"
      ]
     },
     "execution_count": 18,
     "metadata": {},
     "output_type": "execute_result"
    }
   ],
   "source": [
    "#Ejercicio. con slicing, crear la frase:\n",
    "# \"oswaldo volvio a la programacion ed oivlov stb\"\n",
    "cadena[-7:] + cadena3[2:9+1] + \"a\" + cadena2[4:] + \" \" + cadena3[-11::-1]"
   ]
  },
  {
   "cell_type": "code",
   "execution_count": 20,
   "id": "64a74770-8495-48be-a834-ef5492d5d312",
   "metadata": {},
   "outputs": [
    {
     "data": {
      "text/plain": [
       "'C:\\\\Users\\\\Luz María\\\\OneDrive\\\\Escritorio\\\\Neurociencias-2026-1'"
      ]
     },
     "execution_count": 20,
     "metadata": {},
     "output_type": "execute_result"
    }
   ],
   "source": [
    "ruta= r\"C:\\Users\\Luz María\\OneDrive\\Escritorio\\Neurociencias-2026-1\"\n",
    "ruta"
   ]
  },
  {
   "cell_type": "code",
   "execution_count": 21,
   "id": "d3aeb63b-2e51-43b6-8e6c-6af5b4e592bd",
   "metadata": {},
   "outputs": [
    {
     "data": {
      "text/plain": [
       "['C:\\\\Users\\\\Luz María\\\\OneDrive\\\\Escritorio\\\\Neurociencias-2026-1']"
      ]
     },
     "execution_count": 21,
     "metadata": {},
     "output_type": "execute_result"
    }
   ],
   "source": [
    "ruta.split(sep= \"//\")"
   ]
  },
  {
   "cell_type": "markdown",
   "id": "64868d37-f06f-471e-a418-41f254aa92c7",
   "metadata": {},
   "source": [
    "# Tipo de dato. Listas"
   ]
  },
  {
   "cell_type": "code",
   "execution_count": 23,
   "id": "94dfd86c-48ec-40ed-84be-e91d24224b62",
   "metadata": {},
   "outputs": [],
   "source": [
    "lista= [5, 4, 2, 90.3, complex(-7,6), 'strings', 'ala', [3, 2, 5]]"
   ]
  },
  {
   "cell_type": "code",
   "execution_count": 24,
   "id": "8be09ab6-10b7-4ad9-9cef-2e6d6abcae92",
   "metadata": {},
   "outputs": [
    {
     "data": {
      "text/plain": [
       "[5, 4, 2, 90.3, (-7+6j), 'strings', 'ala', [3, 2, 5]]"
      ]
     },
     "execution_count": 24,
     "metadata": {},
     "output_type": "execute_result"
    }
   ],
   "source": [
    "lista"
   ]
  },
  {
   "cell_type": "code",
   "execution_count": 25,
   "id": "234ccdea-3e83-4fc7-9c82-28de39744bda",
   "metadata": {},
   "outputs": [
    {
     "data": {
      "text/plain": [
       "list"
      ]
     },
     "execution_count": 25,
     "metadata": {},
     "output_type": "execute_result"
    }
   ],
   "source": [
    "type(lista)"
   ]
  },
  {
   "cell_type": "code",
   "execution_count": 26,
   "id": "c3f807e1-02f8-4316-9b10-2967b9b49650",
   "metadata": {},
   "outputs": [
    {
     "data": {
      "text/plain": [
       "(-7+6j)"
      ]
     },
     "execution_count": 26,
     "metadata": {},
     "output_type": "execute_result"
    }
   ],
   "source": [
    "lista[4]"
   ]
  },
  {
   "cell_type": "code",
   "execution_count": 27,
   "id": "0b2a2fbc-74e7-43cd-8eec-db1b5c8dd805",
   "metadata": {},
   "outputs": [
    {
     "data": {
      "text/plain": [
       "4"
      ]
     },
     "execution_count": 27,
     "metadata": {},
     "output_type": "execute_result"
    }
   ],
   "source": [
    "lista[1]"
   ]
  },
  {
   "cell_type": "code",
   "execution_count": 28,
   "id": "6c2c4cce-1e48-4cea-9cf2-502c534ecd08",
   "metadata": {},
   "outputs": [
    {
     "data": {
      "text/plain": [
       "(-3+6j)"
      ]
     },
     "execution_count": 28,
     "metadata": {},
     "output_type": "execute_result"
    }
   ],
   "source": [
    "lista[1] + lista[4]"
   ]
  },
  {
   "cell_type": "code",
   "execution_count": 29,
   "id": "0b174ad8-21e3-4269-a404-8bddd589d69d",
   "metadata": {},
   "outputs": [
    {
     "data": {
      "text/plain": [
       "'alaala'"
      ]
     },
     "execution_count": 29,
     "metadata": {},
     "output_type": "execute_result"
    }
   ],
   "source": [
    "lista[2]*lista[-2]"
   ]
  },
  {
   "cell_type": "code",
   "execution_count": 30,
   "id": "20ea83ed-ee09-47f5-94bb-78468f47ff60",
   "metadata": {},
   "outputs": [
    {
     "data": {
      "text/plain": [
       "[3, 2, 5, 3, 2, 5, 3, 2, 5, 3, 2, 5]"
      ]
     },
     "execution_count": 30,
     "metadata": {},
     "output_type": "execute_result"
    }
   ],
   "source": [
    "lista[1]*lista[-1]"
   ]
  },
  {
   "cell_type": "code",
   "execution_count": 31,
   "id": "3b8d675e-25a2-4655-803e-97916c7519ae",
   "metadata": {},
   "outputs": [],
   "source": [
    "lista[3]= 'chale'"
   ]
  },
  {
   "cell_type": "code",
   "execution_count": 32,
   "id": "91768b5f-cf98-4e8a-8c8a-84116c594881",
   "metadata": {},
   "outputs": [
    {
     "data": {
      "text/plain": [
       "[5, 4, 2, 'chale', (-7+6j), 'strings', 'ala', [3, 2, 5]]"
      ]
     },
     "execution_count": 32,
     "metadata": {},
     "output_type": "execute_result"
    }
   ],
   "source": [
    "lista"
   ]
  },
  {
   "cell_type": "code",
   "execution_count": 33,
   "id": "3b0073d0-e507-432f-a069-3dd9405f1432",
   "metadata": {},
   "outputs": [],
   "source": [
    "lista[2:5]= 'maluma baby'"
   ]
  },
  {
   "cell_type": "code",
   "execution_count": 34,
   "id": "70e0387c-f38f-48c3-bb9a-69c158faaab3",
   "metadata": {},
   "outputs": [
    {
     "data": {
      "text/plain": [
       "[5,\n",
       " 4,\n",
       " 'm',\n",
       " 'a',\n",
       " 'l',\n",
       " 'u',\n",
       " 'm',\n",
       " 'a',\n",
       " ' ',\n",
       " 'b',\n",
       " 'a',\n",
       " 'b',\n",
       " 'y',\n",
       " 'strings',\n",
       " 'ala',\n",
       " [3, 2, 5]]"
      ]
     },
     "execution_count": 34,
     "metadata": {},
     "output_type": "execute_result"
    }
   ],
   "source": [
    "lista"
   ]
  },
  {
   "cell_type": "code",
   "execution_count": 35,
   "id": "4341d8a3-bfe0-4a5a-933a-9e384bb1af72",
   "metadata": {},
   "outputs": [
    {
     "data": {
      "text/plain": [
       "16"
      ]
     },
     "execution_count": 35,
     "metadata": {},
     "output_type": "execute_result"
    }
   ],
   "source": [
    "len(lista)"
   ]
  },
  {
   "cell_type": "code",
   "execution_count": 36,
   "id": "a0a8681a-c536-48d7-8d47-443e8248531f",
   "metadata": {},
   "outputs": [
    {
     "name": "stdout",
     "output_type": "stream",
     "text": [
      "16 [5, 4, 'm', 'a', 'l', 'u', 'm', 'a', ' ', 'b', 'a', 'b', 'y', 'strings', 'ala', [3, 2, 5]]\n"
     ]
    }
   ],
   "source": [
    "print(len(lista), lista)"
   ]
  },
  {
   "cell_type": "code",
   "execution_count": 37,
   "id": "55bd732d-1364-4061-a0bb-60824b07006a",
   "metadata": {},
   "outputs": [
    {
     "name": "stdout",
     "output_type": "stream",
     "text": [
      "16 [5, 4, 'maluma baby', 'maluma baby', 'maluma baby', 'u', 'm', 'a', ' ', 'b', 'a', 'b', 'y', 'strings', 'ala', [3, 2, 5]]\n"
     ]
    }
   ],
   "source": [
    "lista[2:5]= 3*['maluma baby']\n",
    "print(len(lista), lista)"
   ]
  },
  {
   "cell_type": "code",
   "execution_count": 38,
   "id": "ee86e068-2fbf-46eb-bea4-52dbae26452f",
   "metadata": {},
   "outputs": [
    {
     "data": {
      "text/plain": [
       "'strings'"
      ]
     },
     "execution_count": 38,
     "metadata": {},
     "output_type": "execute_result"
    }
   ],
   "source": [
    "lista[-3]"
   ]
  },
  {
   "cell_type": "code",
   "execution_count": 39,
   "id": "88bbc7e4-71b1-4850-9c7e-8a2c5e29d29b",
   "metadata": {},
   "outputs": [
    {
     "data": {
      "text/plain": [
       "[3, 2, 5]"
      ]
     },
     "execution_count": 39,
     "metadata": {},
     "output_type": "execute_result"
    }
   ],
   "source": [
    "lista[-1]"
   ]
  },
  {
   "cell_type": "code",
   "execution_count": 40,
   "id": "952ff381-ea84-4fd1-8ff1-7dcb5cb46224",
   "metadata": {},
   "outputs": [
    {
     "data": {
      "text/plain": [
       "['y', 'strings', 'ala']"
      ]
     },
     "execution_count": 40,
     "metadata": {},
     "output_type": "execute_result"
    }
   ],
   "source": [
    "lista[-4:-1]"
   ]
  },
  {
   "cell_type": "code",
   "execution_count": 41,
   "id": "79602a4c-9adc-42de-a44f-905aee75bd44",
   "metadata": {},
   "outputs": [
    {
     "data": {
      "text/plain": [
       "'C:\\\\Users\\\\Luz María\\\\OneDrive\\\\Escritorio\\\\Neurociencias-2026-1'"
      ]
     },
     "execution_count": 41,
     "metadata": {},
     "output_type": "execute_result"
    }
   ],
   "source": [
    "ruta= r\"C:\\Users\\Luz María\\OneDrive\\Escritorio\\Neurociencias-2026-1\"\n",
    "ruta"
   ]
  },
  {
   "cell_type": "code",
   "execution_count": 42,
   "id": "7f415145-fd2d-48f2-8a0e-f3dfa3e5bc54",
   "metadata": {},
   "outputs": [
    {
     "data": {
      "text/plain": [
       "'C:\\\\Users\\\\Luz María\\\\OneDrive\\\\Escritorio\\\\Neurociencias-2026-1\\\\S02_clases\\\\clase_08_18\\\\Alternativas a la inmutabilidad.ipynb'"
      ]
     },
     "execution_count": 42,
     "metadata": {},
     "output_type": "execute_result"
    }
   ],
   "source": [
    "ruta= r'C:\\Users\\Luz María\\OneDrive\\Escritorio\\Neurociencias-2026-1\\S02_clases\\clase_08_18\\Alternativas a la inmutabilidad.ipynb'\n",
    "ruta"
   ]
  },
  {
   "cell_type": "code",
   "execution_count": 46,
   "id": "1b7d021b-c39c-4d03-801e-c221790d458b",
   "metadata": {},
   "outputs": [
    {
     "data": {
      "text/plain": [
       "'Alternativas a la inmutabilidad'"
      ]
     },
     "execution_count": 46,
     "metadata": {},
     "output_type": "execute_result"
    }
   ],
   "source": [
    "ruta[-37:-6]"
   ]
  },
  {
   "cell_type": "code",
   "execution_count": 48,
   "id": "10af5496-5177-464a-80d5-f3aa885e7fa5",
   "metadata": {},
   "outputs": [],
   "source": [
    "var1= ruta.split(sep = \"\\\\\")\n",
    "var2= var1[-1]"
   ]
  },
  {
   "cell_type": "code",
   "execution_count": 49,
   "id": "c6767ede-b707-4250-9ce0-6272e3a19224",
   "metadata": {},
   "outputs": [
    {
     "data": {
      "text/plain": [
       "'Alternativas a la inmutabilidad.ipynb'"
      ]
     },
     "execution_count": 49,
     "metadata": {},
     "output_type": "execute_result"
    }
   ],
   "source": [
    "var2"
   ]
  },
  {
   "cell_type": "code",
   "execution_count": 52,
   "id": "df6c15c1-16cd-4b6a-bfc0-1a3d9c18e1d7",
   "metadata": {},
   "outputs": [
    {
     "data": {
      "text/plain": [
       "['Alternativas a la inmutabilidad', '']"
      ]
     },
     "execution_count": 52,
     "metadata": {},
     "output_type": "execute_result"
    }
   ],
   "source": [
    "var3= var2.split(sep= \".ipynb\")\n",
    "var3"
   ]
  },
  {
   "cell_type": "code",
   "execution_count": 53,
   "id": "09e11097-b955-4a38-93f1-5576c1e82f77",
   "metadata": {},
   "outputs": [
    {
     "data": {
      "text/plain": [
       "'Alternativas a la inmutabilidad'"
      ]
     },
     "execution_count": 53,
     "metadata": {},
     "output_type": "execute_result"
    }
   ],
   "source": [
    "var3[0]"
   ]
  },
  {
   "cell_type": "code",
   "execution_count": 55,
   "id": "c9750d3b-c63b-4b58-a8ff-0c597c0dbd23",
   "metadata": {},
   "outputs": [
    {
     "data": {
      "text/plain": [
       "'Alternativas a la inmutabilidad'"
      ]
     },
     "execution_count": 55,
     "metadata": {},
     "output_type": "execute_result"
    }
   ],
   "source": [
    "var0= ruta.split(sep= \"\\\\\")[-1].split(sep=\".ipynb\")[0]\n",
    "var0"
   ]
  },
  {
   "cell_type": "markdown",
   "id": "aaa3ca3e-0265-4d8b-ba67-29e9d874f6a9",
   "metadata": {},
   "source": [
    "Practicar en Typing Club"
   ]
  }
 ],
 "metadata": {
  "kernelspec": {
   "display_name": "Python 3 (ipykernel)",
   "language": "python",
   "name": "python3"
  },
  "language_info": {
   "codemirror_mode": {
    "name": "ipython",
    "version": 3
   },
   "file_extension": ".py",
   "mimetype": "text/x-python",
   "name": "python",
   "nbconvert_exporter": "python",
   "pygments_lexer": "ipython3",
   "version": "3.10.4"
  }
 },
 "nbformat": 4,
 "nbformat_minor": 5
}
