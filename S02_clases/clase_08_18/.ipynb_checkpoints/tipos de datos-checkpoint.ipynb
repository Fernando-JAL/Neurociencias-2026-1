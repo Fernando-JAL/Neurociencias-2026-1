{
 "cells": [
  {
   "cell_type": "markdown",
   "id": "a56873bc-7422-4149-9762-da094cbdbb6d",
   "metadata": {},
   "source": [
    "# CADENAS INMUTABLES "
   ]
  },
  {
   "cell_type": "code",
   "execution_count": 1,
   "id": "3ab3404b-07f3-424f-99ed-cf84c6c5abfc",
   "metadata": {},
   "outputs": [],
   "source": [
    "cadena = \"cadena\""
   ]
  },
  {
   "cell_type": "code",
   "execution_count": 2,
   "id": "66e66122-5531-459f-9ad5-43f2d1638286",
   "metadata": {},
   "outputs": [],
   "source": [
    "cadena = (\"cadena\")\n",
    "#significa que sus elementos no pueden ser modificados "
   ]
  },
  {
   "cell_type": "code",
   "execution_count": 3,
   "id": "94fd4418-9a69-4c14-bad9-1fb1779e9da6",
   "metadata": {},
   "outputs": [
    {
     "ename": "TypeError",
     "evalue": "'str' object does not support item assignment",
     "output_type": "error",
     "traceback": [
      "\u001b[1;31m---------------------------------------------------------------------------\u001b[0m",
      "\u001b[1;31mTypeError\u001b[0m                                 Traceback (most recent call last)",
      "Cell \u001b[1;32mIn[3], line 1\u001b[0m\n\u001b[1;32m----> 1\u001b[0m \u001b[43mcadena\u001b[49m\u001b[43m \u001b[49m\u001b[43m[\u001b[49m\u001b[38;5;241;43m-\u001b[39;49m\u001b[38;5;241;43m2\u001b[39;49m\u001b[43m]\u001b[49m \u001b[38;5;241m=\u001b[39m \u001b[38;5;124m\"\u001b[39m\u001b[38;5;124mp\u001b[39m\u001b[38;5;124m\"\u001b[39m\n",
      "\u001b[1;31mTypeError\u001b[0m: 'str' object does not support item assignment"
     ]
    }
   ],
   "source": [
    "cadena [-2] = \"p\""
   ]
  },
  {
   "cell_type": "markdown",
   "id": "167ac1f7-b09d-489f-a8c4-d58c62333c71",
   "metadata": {},
   "source": [
    "#AlTERNATIVAS A LA INMUTABILIDAD\n"
   ]
  },
  {
   "cell_type": "code",
   "execution_count": 4,
   "id": "8d5b44a7-d004-4eaf-8140-bf9b8fa6dbe6",
   "metadata": {},
   "outputs": [],
   "source": [
    "cadena = \"donde esta oswaldo\"\n",
    "cadena2 = \"viva la programación\"\n",
    "cadena3 = \"bts volvió del ejercito\""
   ]
  },
  {
   "cell_type": "code",
   "execution_count": 5,
   "id": "caf9500e-ec6b-464b-9129-2496150cae90",
   "metadata": {},
   "outputs": [
    {
     "data": {
      "text/plain": [
       "'oswaldo'"
      ]
     },
     "execution_count": 5,
     "metadata": {},
     "output_type": "execute_result"
    }
   ],
   "source": [
    "cadena [-7:]"
   ]
  },
  {
   "cell_type": "code",
   "execution_count": 6,
   "id": "e452560a-bd28-4482-90a5-2b2cf7329fb2",
   "metadata": {},
   "outputs": [
    {
     "data": {
      "text/plain": [
       "'donde esta  volvió a la programación ed óivlov stb'"
      ]
     },
     "execution_count": 6,
     "metadata": {},
     "output_type": "execute_result"
    }
   ],
   "source": [
    "# EJERICIO : con slicing crear \" donde esta la programación que volvió del ejercito\"\n",
    "cadena [:-7:] + cadena3 [3:10] + \" a\" + cadena2 [4:] + \" \" + cadena3 [-11::-1]"
   ]
  },
  {
   "cell_type": "code",
   "execution_count": 8,
   "id": "7f310629-2fc5-4be0-a17b-a37146de6a70",
   "metadata": {},
   "outputs": [],
   "source": [
    "ruta = r\"C:\\Users\\Ana-Sophia Redstone\\OneDrive\\Documents\\GitHub\\Neurociencias-2026-1\\S02_clases\\clase_08_18\""
   ]
  },
  {
   "cell_type": "code",
   "execution_count": 9,
   "id": "811d6812-d4d3-410b-93da-487b656fe24d",
   "metadata": {},
   "outputs": [
    {
     "data": {
      "text/plain": [
       "['C:\\\\Users\\\\Ana-Sophia',\n",
       " 'Redstone\\\\OneDrive\\\\Documents\\\\GitHub\\\\Neurociencias-2026-1\\\\S02_clases\\\\clase_08_18']"
      ]
     },
     "execution_count": 9,
     "metadata": {},
     "output_type": "execute_result"
    }
   ],
   "source": [
    "# de forma default usa el espacio como separador, pero se lo podemos asignar\n",
    "ruta.split ()"
   ]
  },
  {
   "cell_type": "code",
   "execution_count": 11,
   "id": "2da76682-1ec5-44ab-bde5-4907e93bf23e",
   "metadata": {},
   "outputs": [
    {
     "data": {
      "text/plain": [
       "['C:\\\\Users\\\\Ana-Sophia Redstone\\\\OneDrive\\\\Documents\\\\GitHub\\\\Neurociencias-2026-1\\\\S02_clases\\\\clase_08_18']"
      ]
     },
     "execution_count": 11,
     "metadata": {},
     "output_type": "execute_result"
    }
   ],
   "source": [
    "# aquí asignamos el / como separador.\n",
    "ruta.split(sep = \"/\")"
   ]
  },
  {
   "cell_type": "markdown",
   "id": "a181dcb7-3ea6-4da9-96d1-30f4f4536658",
   "metadata": {},
   "source": [
    "# tipo de dato:lista"
   ]
  },
  {
   "cell_type": "markdown",
   "id": "3f2be362-b1d7-4ebc-9fc8-900adf6abd97",
   "metadata": {},
   "source": [
    "conjunto de datos separado por comas y encerrado entre []"
   ]
  },
  {
   "cell_type": "code",
   "execution_count": 12,
   "id": "ad4cc2bf-18aa-4716-9fdf-329e234d8025",
   "metadata": {},
   "outputs": [],
   "source": [
    "lista = [ 5,4,2, 90.3, complex (-7,6), \"string\", \"wow\",[3,2,5]]"
   ]
  },
  {
   "cell_type": "code",
   "execution_count": 13,
   "id": "34c6234c-15ef-40a3-a2ea-10c84b9b15b0",
   "metadata": {},
   "outputs": [
    {
     "data": {
      "text/plain": [
       "8"
      ]
     },
     "execution_count": 13,
     "metadata": {},
     "output_type": "execute_result"
    }
   ],
   "source": [
    "len (lista)"
   ]
  },
  {
   "cell_type": "code",
   "execution_count": 14,
   "id": "43c41c2e-0fa9-4b83-b74b-5c6c1494cb40",
   "metadata": {},
   "outputs": [
    {
     "data": {
      "text/plain": [
       "list"
      ]
     },
     "execution_count": 14,
     "metadata": {},
     "output_type": "execute_result"
    }
   ],
   "source": [
    "type (lista)"
   ]
  },
  {
   "cell_type": "code",
   "execution_count": 15,
   "id": "12c69ab4-27eb-4006-80d1-658db5bb2eb7",
   "metadata": {},
   "outputs": [
    {
     "data": {
      "text/plain": [
       "(-7+6j)"
      ]
     },
     "execution_count": 15,
     "metadata": {},
     "output_type": "execute_result"
    }
   ],
   "source": [
    "# también podemos utilizar el spling y se utilizan el mismo orden que en cadenas.\n",
    "lista[4]"
   ]
  },
  {
   "cell_type": "code",
   "execution_count": 16,
   "id": "87bb40e9-ebcf-4938-975b-ab4a79fa08ee",
   "metadata": {},
   "outputs": [
    {
     "data": {
      "text/plain": [
       "4"
      ]
     },
     "execution_count": 16,
     "metadata": {},
     "output_type": "execute_result"
    }
   ],
   "source": [
    "lista[1]"
   ]
  },
  {
   "cell_type": "code",
   "execution_count": 17,
   "id": "d012a47e-03e2-470a-bc2b-acfd85932cd5",
   "metadata": {},
   "outputs": [
    {
     "data": {
      "text/plain": [
       "(-3+6j)"
      ]
     },
     "execution_count": 17,
     "metadata": {},
     "output_type": "execute_result"
    }
   ],
   "source": [
    "lista [4] + lista[1]"
   ]
  },
  {
   "cell_type": "code",
   "execution_count": 18,
   "id": "26684a12-a5c8-48fd-9f56-ac2c28d95b8a",
   "metadata": {},
   "outputs": [
    {
     "data": {
      "text/plain": [
       "'wowwow'"
      ]
     },
     "execution_count": 18,
     "metadata": {},
     "output_type": "execute_result"
    }
   ],
   "source": [
    "lista[2]*lista [-2]"
   ]
  },
  {
   "cell_type": "code",
   "execution_count": 19,
   "id": "9584c58a-30ea-47cc-b1bd-05a71b1a63c5",
   "metadata": {},
   "outputs": [
    {
     "data": {
      "text/plain": [
       "[3, 2, 5, 3, 2, 5, 3, 2, 5, 3, 2, 5]"
      ]
     },
     "execution_count": 19,
     "metadata": {},
     "output_type": "execute_result"
    }
   ],
   "source": [
    "lista[1]*lista[-1]"
   ]
  },
  {
   "cell_type": "code",
   "execution_count": 20,
   "id": "9dff2fb3-ca3f-4eb5-aeb1-3b905ca57a93",
   "metadata": {},
   "outputs": [
    {
     "data": {
      "text/plain": [
       "[5,\n",
       " 4,\n",
       " 'm',\n",
       " 'a',\n",
       " 'l',\n",
       " 'u',\n",
       " 'm',\n",
       " 'a',\n",
       " ' ',\n",
       " 'b',\n",
       " 'a',\n",
       " 'b',\n",
       " 'y',\n",
       " 'string',\n",
       " 'wow',\n",
       " [3, 2, 5]]"
      ]
     },
     "execution_count": 20,
     "metadata": {},
     "output_type": "execute_result"
    }
   ],
   "source": [
    "lista[2:5] = \"maluma baby\"\n",
    "lista"
   ]
  },
  {
   "cell_type": "code",
   "execution_count": 21,
   "id": "1c252914-0d9e-4986-9b0f-a28b307d673e",
   "metadata": {},
   "outputs": [
    {
     "name": "stdout",
     "output_type": "stream",
     "text": [
      "16 [5, 4, 'm', 'a', 'l', 'u', 'm', 'a', ' ', 'b', 'a', 'b', 'y', 'string', 'wow', [3, 2, 5]]\n"
     ]
    }
   ],
   "source": [
    "print(len(lista), lista)"
   ]
  },
  {
   "cell_type": "code",
   "execution_count": 22,
   "id": "c4a33b86-4b5d-42d5-9ef1-544a93dd2959",
   "metadata": {},
   "outputs": [
    {
     "name": "stdout",
     "output_type": "stream",
     "text": [
      "18 [5, 4, 'maluma baby', 'maluma baby', 'maluma baby', 'maluma baby', 'maluma baby', 'u', 'm', 'a', ' ', 'b', 'a', 'b', 'y', 'string', 'wow', [3, 2, 5]]\n"
     ]
    }
   ],
   "source": [
    "lista [2:5] = 5*[\"maluma baby\"]\n",
    "print(len(lista), lista)"
   ]
  },
  {
   "cell_type": "code",
   "execution_count": 23,
   "id": "a3fabfaa-cd96-42bd-b679-d32ab902ee66",
   "metadata": {},
   "outputs": [
    {
     "data": {
      "text/plain": [
       "'string'"
      ]
     },
     "execution_count": 23,
     "metadata": {},
     "output_type": "execute_result"
    }
   ],
   "source": [
    "lista [-3]"
   ]
  },
  {
   "cell_type": "code",
   "execution_count": 24,
   "id": "9cced261-06d0-46a4-a6bc-3536f7e7a625",
   "metadata": {},
   "outputs": [
    {
     "data": {
      "text/plain": [
       "[3, 2, 5]"
      ]
     },
     "execution_count": 24,
     "metadata": {},
     "output_type": "execute_result"
    }
   ],
   "source": [
    "lista [-1]"
   ]
  },
  {
   "cell_type": "code",
   "execution_count": 25,
   "id": "1883c845-f633-4c64-ab84-9a37d5c73810",
   "metadata": {},
   "outputs": [
    {
     "data": {
      "text/plain": [
       "['y', 'string', 'wow']"
      ]
     },
     "execution_count": 25,
     "metadata": {},
     "output_type": "execute_result"
    }
   ],
   "source": [
    "lista [-4:-1]"
   ]
  },
  {
   "cell_type": "code",
   "execution_count": 26,
   "id": "1ee07596-74bb-4145-917b-f315afee746f",
   "metadata": {},
   "outputs": [
    {
     "data": {
      "text/plain": [
       "'C:\\\\Users\\\\Ana-Sophia Redstone\\\\OneDrive\\\\Documents\\\\GitHub\\\\Neurociencias-2026-1\\\\S02_clases\\\\clase_08_18'"
      ]
     },
     "execution_count": 26,
     "metadata": {},
     "output_type": "execute_result"
    }
   ],
   "source": [
    "ruta"
   ]
  },
  {
   "cell_type": "code",
   "execution_count": 27,
   "id": "76737aad-bba2-46a7-948a-bc33d1e7cf41",
   "metadata": {},
   "outputs": [
    {
     "data": {
      "text/plain": [
       "['C:\\\\Users\\\\Ana-Sophia Redstone\\\\OneDrive\\\\Documents\\\\GitHub\\\\Neurociencias-2026-1\\\\S02_clases\\\\clase_08_18']"
      ]
     },
     "execution_count": 27,
     "metadata": {},
     "output_type": "execute_result"
    }
   ],
   "source": [
    "ruta2 = ruta.split (\"/\")\n",
    "ruta2"
   ]
  },
  {
   "cell_type": "code",
   "execution_count": 29,
   "id": "0cf95a2f-d374-4cd3-b38c-f4fc3b2bbab5",
   "metadata": {},
   "outputs": [
    {
     "data": {
      "text/plain": [
       "'8'"
      ]
     },
     "execution_count": 29,
     "metadata": {},
     "output_type": "execute_result"
    }
   ],
   "source": [
    "# 1 forma de lograrlo \n",
    "var2 = ruta[-1]\n",
    "var2\n",
    "var3 = var2.split(sep = \"08_18\")\n",
    "var3[0]"
   ]
  },
  {
   "cell_type": "code",
   "execution_count": 30,
   "id": "8f8b7dde-912e-46db-b0ac-ee7926cf5e07",
   "metadata": {},
   "outputs": [
    {
     "data": {
      "text/plain": [
       "''"
      ]
     },
     "execution_count": 30,
     "metadata": {},
     "output_type": "execute_result"
    }
   ],
   "source": [
    "# o de esta forma \n",
    "var2[:-5]"
   ]
  },
  {
   "cell_type": "code",
   "execution_count": 31,
   "id": "daf4fb0d-1a27-44d3-8406-843544c17803",
   "metadata": {},
   "outputs": [
    {
     "data": {
      "text/plain": [
       "'C:\\\\Users\\\\Ana-Sophia Redstone\\\\OneDrive\\\\Documents\\\\GitHub\\\\Neurociencias-2026-1\\\\S02_clases\\\\clase_'"
      ]
     },
     "execution_count": 31,
     "metadata": {},
     "output_type": "execute_result"
    }
   ],
   "source": [
    "# o con incluso menos variables \n",
    "\n",
    "ruta2 = ruta.split(\"/\") [-1] [:-5]\n",
    "ruta2"
   ]
  },
  {
   "cell_type": "code",
   "execution_count": 32,
   "id": "297ed3b1-6da0-4b9f-9cb1-5a8d4022b756",
   "metadata": {},
   "outputs": [
    {
     "data": {
      "text/plain": [
       "str"
      ]
     },
     "execution_count": 32,
     "metadata": {},
     "output_type": "execute_result"
    }
   ],
   "source": [
    "# o de esta otra manera \n",
    "ruta2 = ruta.split(\"/\") [-1] [:-5]\n",
    "ruta2\n",
    "type (ruta2)"
   ]
  },
  {
   "cell_type": "code",
   "execution_count": null,
   "id": "a4091acf-6584-4505-b591-527b50150ccb",
   "metadata": {},
   "outputs": [],
   "source": []
  }
 ],
 "metadata": {
  "kernelspec": {
   "display_name": "Python 3 (ipykernel)",
   "language": "python",
   "name": "python3"
  },
  "language_info": {
   "codemirror_mode": {
    "name": "ipython",
    "version": 3
   },
   "file_extension": ".py",
   "mimetype": "text/x-python",
   "name": "python",
   "nbconvert_exporter": "python",
   "pygments_lexer": "ipython3",
   "version": "3.10.4"
  }
 },
 "nbformat": 4,
 "nbformat_minor": 5
}
