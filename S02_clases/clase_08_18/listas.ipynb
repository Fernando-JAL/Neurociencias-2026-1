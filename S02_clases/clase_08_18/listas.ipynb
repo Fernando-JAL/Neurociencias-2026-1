{
 "cells": [
  {
   "cell_type": "markdown",
   "id": "f0912c5f-ab5a-4d72-bc13-4d53e1bc076c",
   "metadata": {},
   "source": [
    "# Cadenas inmutables"
   ]
  },
  {
   "cell_type": "code",
   "execution_count": 6,
   "id": "287db23f-4d2a-4a88-9d82-f210c973afbc",
   "metadata": {},
   "outputs": [
    {
     "data": {
      "text/plain": [
       "'cadena'"
      ]
     },
     "execution_count": 6,
     "metadata": {},
     "output_type": "execute_result"
    }
   ],
   "source": [
    "cadena = \"cadena\"\n",
    "cadena"
   ]
  },
  {
   "cell_type": "code",
   "execution_count": 12,
   "id": "e543423f-0b98-4872-88ef-3f83f712e11c",
   "metadata": {},
   "outputs": [
    {
     "ename": "TypeError",
     "evalue": "'str' object does not support item assignment",
     "output_type": "error",
     "traceback": [
      "\u001b[1;31m---------------------------------------------------------------------------\u001b[0m",
      "\u001b[1;31mTypeError\u001b[0m                                 Traceback (most recent call last)",
      "Cell \u001b[1;32mIn[12], line 1\u001b[0m\n\u001b[1;32m----> 1\u001b[0m cadena[\u001b[38;5;241m-\u001b[39m\u001b[38;5;241m2\u001b[39m] \u001b[38;5;241m=\u001b[39m \u001b[38;5;124m'\u001b[39m\u001b[38;5;124mp\u001b[39m\u001b[38;5;124m'\u001b[39m\n",
      "\u001b[1;31mTypeError\u001b[0m: 'str' object does not support item assignment"
     ]
    }
   ],
   "source": [
    "cadena[-2] = 'p'"
   ]
  },
  {
   "cell_type": "markdown",
   "id": "07718554-8bf6-459b-8bea-225910405ce4",
   "metadata": {},
   "source": [
    "# Alternativas a la inmutabilidad"
   ]
  },
  {
   "cell_type": "code",
   "execution_count": 15,
   "id": "b35f309c-9f37-427f-9b92-70fbaa470a4f",
   "metadata": {},
   "outputs": [],
   "source": [
    "cadena = \"donde esta oswaldo\"\n",
    "cadena2 = \"viva la programación\"\n",
    "cadena3 = \"bts volvió del ejercito\""
   ]
  },
  {
   "cell_type": "code",
   "execution_count": 30,
   "id": "ed63680f-63b6-4cdb-b103-e08f3411e395",
   "metadata": {},
   "outputs": [
    {
     "data": {
      "text/plain": [
       "'donde esta la programación que volvió del ejercito'"
      ]
     },
     "execution_count": 30,
     "metadata": {},
     "output_type": "execute_result"
    }
   ],
   "source": [
    "# Ejercicio. Con slicing, crear la frase:\n",
    "# \"donde esta la programación que volvió del ejercito\"\n",
    "cadena[:10] + cadena2[4:] + \" que\" + cadena3[3:]"
   ]
  },
  {
   "cell_type": "code",
   "execution_count": 36,
   "id": "f3f82d93-d909-458f-9799-6f12d23a3024",
   "metadata": {},
   "outputs": [
    {
     "data": {
      "text/plain": [
       "'oswaldo volvió a la programación ed óivlov stb'"
      ]
     },
     "execution_count": 36,
     "metadata": {},
     "output_type": "execute_result"
    }
   ],
   "source": [
    "cadena = \"donde esta oswaldo\"\n",
    "cadena2 = \"viva la programación\"\n",
    "cadena3 = \"bts volvió del ejercito\"\n",
    "# Ejercicio. Con slicing, crear la frase:\n",
    "# \"oswaldo volvió a la programción ed óivlov stb\"\n",
    "cadena[-7:] + cadena3[3: 11] + 'a ' + cadena2[5:] + ' ' + cadena3[-11::-1]"
   ]
  },
  {
   "cell_type": "code",
   "execution_count": 42,
   "id": "95f191e9-ac7c-465d-98c7-6cdcb615ea5d",
   "metadata": {},
   "outputs": [
    {
     "data": {
      "text/plain": [
       "'C:\\\\Users\\\\Examen de ingreso\\\\Documents\\\\GitHub\\\\Neurociencias-2026-1\\\\S01_presentacion\\\\02 Tipos de datos.pptx'"
      ]
     },
     "execution_count": 42,
     "metadata": {},
     "output_type": "execute_result"
    }
   ],
   "source": [
    "ruta = r\"C:\\Users\\Examen de ingreso\\Documents\\GitHub\\Neurociencias-2026-1\\S01_presentacion\\02 Tipos de datos.pptx\"\n",
    "ruta"
   ]
  },
  {
   "cell_type": "code",
   "execution_count": 48,
   "id": "133e41f9-3d0e-4bb6-9e48-c16a578e34af",
   "metadata": {},
   "outputs": [
    {
     "data": {
      "text/plain": [
       "['C:',\n",
       " 'Users',\n",
       " 'Examen de ingreso',\n",
       " 'Documents',\n",
       " 'GitHub',\n",
       " 'Neurociencias-2026-1',\n",
       " 'S01_presentacion',\n",
       " '02 Tipos de datos.pptx']"
      ]
     },
     "execution_count": 48,
     "metadata": {},
     "output_type": "execute_result"
    }
   ],
   "source": [
    "ruta.split(sep = \"\\\\\")"
   ]
  },
  {
   "cell_type": "markdown",
   "id": "2fb7b74c-178b-40e5-8b3f-dff2ae25768b",
   "metadata": {},
   "source": [
    "# Tipo de dato. Listas"
   ]
  },
  {
   "cell_type": "code",
   "execution_count": 97,
   "id": "3e52fef1-3520-459e-a60f-307c495e7f99",
   "metadata": {},
   "outputs": [
    {
     "data": {
      "text/plain": [
       "[5, 4, 2, 90.3, (-7+6j), 'strings', 'alá', [3, 2, 5]]"
      ]
     },
     "execution_count": 97,
     "metadata": {},
     "output_type": "execute_result"
    }
   ],
   "source": [
    "lista = [5, 4, 2, 90.3, complex(-7, 6), 'strings', 'alá', [3, 2, 5]]\n",
    "lista"
   ]
  },
  {
   "cell_type": "code",
   "execution_count": 99,
   "id": "d1df9a6c-a199-4ad9-b1b3-d49b1d1f86ac",
   "metadata": {},
   "outputs": [
    {
     "data": {
      "text/plain": [
       "8"
      ]
     },
     "execution_count": 99,
     "metadata": {},
     "output_type": "execute_result"
    }
   ],
   "source": [
    "len(lista)"
   ]
  },
  {
   "cell_type": "code",
   "execution_count": 103,
   "id": "d7fc3a67-b4b2-4536-bbaa-70d7c3a62301",
   "metadata": {},
   "outputs": [
    {
     "name": "stdout",
     "output_type": "stream",
     "text": [
      "10 [5, 4, 'maluma baby', 'maluma baby', 'maluma baby', 'maluma baby', 'maluma baby', 'strings', 'alá', [3, 2, 5]]\n"
     ]
    }
   ],
   "source": [
    "lista[2: 5] = 5*['maluma baby']\n",
    "print(len(lista), lista)"
   ]
  },
  {
   "cell_type": "code",
   "execution_count": 79,
   "id": "878550e7-2e12-4b81-80b6-15fedba49c56",
   "metadata": {},
   "outputs": [
    {
     "data": {
      "text/plain": [
       "[5, 4, 2, 'chale', (-7+6j), 'strings', 'alá', [3, 2, 5]]"
      ]
     },
     "execution_count": 79,
     "metadata": {},
     "output_type": "execute_result"
    }
   ],
   "source": [
    "lista[3] = 'chale'\n",
    "lista"
   ]
  },
  {
   "cell_type": "code",
   "execution_count": 75,
   "id": "25a93527-e360-4b6e-ae37-66a0855b51b5",
   "metadata": {},
   "outputs": [
    {
     "data": {
      "text/plain": [
       "[3, 2, 5, 3, 2, 5, 3, 2, 5, 3, 2, 5]"
      ]
     },
     "execution_count": 75,
     "metadata": {},
     "output_type": "execute_result"
    }
   ],
   "source": [
    "lista[1]*lista[-1]"
   ]
  },
  {
   "cell_type": "code",
   "execution_count": 73,
   "id": "c6ee3bc9-d65e-4ba5-b847-68be27b4e3bc",
   "metadata": {},
   "outputs": [
    {
     "data": {
      "text/plain": [
       "'aláalá'"
      ]
     },
     "execution_count": 73,
     "metadata": {},
     "output_type": "execute_result"
    }
   ],
   "source": [
    "lista[2]*lista[-2]"
   ]
  },
  {
   "cell_type": "code",
   "execution_count": 71,
   "id": "c05f1477-3381-44c7-80fd-75ad1febce62",
   "metadata": {},
   "outputs": [
    {
     "data": {
      "text/plain": [
       "(-3+6j)"
      ]
     },
     "execution_count": 71,
     "metadata": {},
     "output_type": "execute_result"
    }
   ],
   "source": [
    "lista[4] + lista[1]"
   ]
  },
  {
   "cell_type": "code",
   "execution_count": 105,
   "id": "d63cd324-b692-4d41-927d-d2795c89be67",
   "metadata": {},
   "outputs": [
    {
     "data": {
      "text/plain": [
       "[5,\n",
       " 4,\n",
       " 'maluma baby',\n",
       " 'maluma baby',\n",
       " 'maluma baby',\n",
       " 'maluma baby',\n",
       " 'maluma baby',\n",
       " 'strings',\n",
       " 'alá',\n",
       " [3, 2, 5]]"
      ]
     },
     "execution_count": 105,
     "metadata": {},
     "output_type": "execute_result"
    }
   ],
   "source": [
    "lista"
   ]
  },
  {
   "cell_type": "code",
   "execution_count": 107,
   "id": "e545b408-86ef-4b4b-a068-7b0f2008a03d",
   "metadata": {},
   "outputs": [
    {
     "data": {
      "text/plain": [
       "'strings'"
      ]
     },
     "execution_count": 107,
     "metadata": {},
     "output_type": "execute_result"
    }
   ],
   "source": [
    "lista[-3]"
   ]
  },
  {
   "cell_type": "code",
   "execution_count": 113,
   "id": "ecbd90bd-fd6d-473e-86b4-718d0818ad7c",
   "metadata": {},
   "outputs": [
    {
     "data": {
      "text/plain": [
       "['maluma baby', 'strings', 'alá']"
      ]
     },
     "execution_count": 113,
     "metadata": {},
     "output_type": "execute_result"
    }
   ],
   "source": [
    "lista[-4: -1]"
   ]
  },
  {
   "cell_type": "code",
   "execution_count": 123,
   "id": "d6f067ef-f260-4b33-bed3-2adcde7dd3d9",
   "metadata": {},
   "outputs": [
    {
     "data": {
      "text/plain": [
       "'C:\\\\Users\\\\Examen de ingreso\\\\Documents\\\\GitHub\\\\Neurociencias-2026-1\\\\S01_presentacion\\\\02 Tipos de datos.pptx'"
      ]
     },
     "execution_count": 123,
     "metadata": {},
     "output_type": "execute_result"
    }
   ],
   "source": [
    "ruta = r\"C:\\Users\\Examen de ingreso\\Documents\\GitHub\\Neurociencias-2026-1\\S01_presentacion\\02 Tipos de datos.pptx\"\n",
    "ruta"
   ]
  },
  {
   "cell_type": "code",
   "execution_count": 157,
   "id": "28334be8-42c1-4c56-a4d0-87a88d243d79",
   "metadata": {},
   "outputs": [
    {
     "data": {
      "text/plain": [
       "'02 Tipos de datos'"
      ]
     },
     "execution_count": 157,
     "metadata": {},
     "output_type": "execute_result"
    }
   ],
   "source": [
    "var1 = ruta.split(sep = \"\\\\\")[-1].split(sep = \".pptx\")[0]\n",
    "var1"
   ]
  },
  {
   "cell_type": "code",
   "execution_count": 159,
   "id": "5497216a-39a2-443f-bf8e-a3ebe62e3405",
   "metadata": {},
   "outputs": [
    {
     "data": {
      "text/plain": [
       "str"
      ]
     },
     "execution_count": 159,
     "metadata": {},
     "output_type": "execute_result"
    }
   ],
   "source": [
    "type(var1)"
   ]
  },
  {
   "cell_type": "code",
   "execution_count": 147,
   "id": "47e5ad31-4404-445f-9c4e-4f93b378ead7",
   "metadata": {},
   "outputs": [
    {
     "data": {
      "text/plain": [
       "'02 Tipos de datos'"
      ]
     },
     "execution_count": 147,
     "metadata": {},
     "output_type": "execute_result"
    }
   ],
   "source": [
    "var1 = ruta.split(sep = \"\\\\\")[-1][:-5]\n",
    "var1"
   ]
  },
  {
   "cell_type": "code",
   "execution_count": null,
   "id": "5032dfcc-3ff0-47f6-9c6f-788d1c754c53",
   "metadata": {},
   "outputs": [],
   "source": []
  }
 ],
 "metadata": {
  "kernelspec": {
   "display_name": "Python 3 (ipykernel)",
   "language": "python",
   "name": "python3"
  },
  "language_info": {
   "codemirror_mode": {
    "name": "ipython",
    "version": 3
   },
   "file_extension": ".py",
   "mimetype": "text/x-python",
   "name": "python",
   "nbconvert_exporter": "python",
   "pygments_lexer": "ipython3",
   "version": "3.13.6"
  }
 },
 "nbformat": 4,
 "nbformat_minor": 5
}
