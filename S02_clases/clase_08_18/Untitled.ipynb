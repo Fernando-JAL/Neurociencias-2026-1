{
 "cells": [
  {
   "cell_type": "markdown",
   "id": "7e4f03b6-38b6-4dd5-9adb-b2286a61c132",
   "metadata": {},
   "source": [
    "# Cadenas inmutables\n"
   ]
  },
  {
   "cell_type": "code",
   "execution_count": null,
   "id": "ca1e9ab9-f0a3-4610-a482-56464e7ec154",
   "metadata": {},
   "outputs": [],
   "source": [
    "cadena=\"cadena\""
   ]
  },
  {
   "cell_type": "code",
   "execution_count": null,
   "id": "f744f412-8cb8-49aa-95d9-1a54da25239c",
   "metadata": {},
   "outputs": [],
   "source": [
    "cadena[-2]='p'\n",
    "#no se puede pq es inmutable"
   ]
  },
  {
   "cell_type": "code",
   "execution_count": null,
   "id": "b40e4002-0117-4e66-bbbe-7f4f3e4f3d8d",
   "metadata": {},
   "outputs": [],
   "source": []
  },
  {
   "cell_type": "markdown",
   "id": "2dea5217-6ee2-4d92-80c0-1154a5463011",
   "metadata": {},
   "source": [
    "# Alternativas a la inmutabilidad"
   ]
  },
  {
   "cell_type": "code",
   "execution_count": 3,
   "id": "7783346f-944b-40fc-92dc-bd5e86224d5c",
   "metadata": {},
   "outputs": [],
   "source": [
    "cadena=\"donde esta oswaldo\"\n",
    "cadena2= \"viva la programación\"\n",
    "cadena3=\"bts volvio del ejercito\""
   ]
  },
  {
   "cell_type": "code",
   "execution_count": 4,
   "id": "8cb67a5f-df3a-46bb-8cf5-22a0dbb66b59",
   "metadata": {},
   "outputs": [],
   "source": [
    "# Ejercicio: con slicing,crear la frase;\n",
    "# \"donde esta la programación que volvió del ejercito\""
   ]
  },
  {
   "cell_type": "code",
   "execution_count": 7,
   "id": "f42e1f61-2cbc-4cb8-bf33-02f285b9ca71",
   "metadata": {},
   "outputs": [
    {
     "data": {
      "text/plain": [
       "'donde esta la programación que volvio del ejercito'"
      ]
     },
     "execution_count": 7,
     "metadata": {},
     "output_type": "execute_result"
    }
   ],
   "source": [
    "cadena[0:10]+cadena2[4:]+\" que \"+cadena3[4:]"
   ]
  },
  {
   "cell_type": "code",
   "execution_count": null,
   "id": "ee61f09a-6f6f-4e22-8480-a9e2e4b0cb06",
   "metadata": {},
   "outputs": [],
   "source": [
    "# Ejercicio. Con slicing, crear la frase\n",
    "# \"oswaldo volvio a la programación de oivlov stb\""
   ]
  },
  {
   "cell_type": "code",
   "execution_count": 23,
   "id": "11d038d7-df32-4530-8f35-16448cb3394a",
   "metadata": {},
   "outputs": [
    {
     "data": {
      "text/plain": [
       "'oswaldo volvio a la programación de oivlov stb'"
      ]
     },
     "execution_count": 23,
     "metadata": {},
     "output_type": "execute_result"
    }
   ],
   "source": [
    "cadena[11:18]+cadena3[3:10]+\" a \"+cadena2[5:]+\" de \"+cadena3[-14::-1]"
   ]
  },
  {
   "cell_type": "code",
   "execution_count": 56,
   "id": "3848623c-9586-4bdf-a2c2-564a19489cbb",
   "metadata": {},
   "outputs": [
    {
     "data": {
      "text/plain": [
       "'C:\\\\Users\\\\V304-16\\\\Documents\\\\GitHub\\\\Neurociencias-2026-1\\\\S01_presentacion\\\\Temario python.pdf'"
      ]
     },
     "execution_count": 56,
     "metadata": {},
     "output_type": "execute_result"
    }
   ],
   "source": [
    "ruta=r\"C:\\Users\\V304-16\\Documents\\GitHub\\Neurociencias-2026-1\\S01_presentacion\\Temario python.pdf\"\n",
    "ruta"
   ]
  },
  {
   "cell_type": "code",
   "execution_count": 58,
   "id": "d1f851fb-c340-4a10-8b25-571d4e3a2590",
   "metadata": {},
   "outputs": [
    {
     "data": {
      "text/plain": [
       "['C:',\n",
       " 'Users',\n",
       " 'V304-16',\n",
       " 'Documents',\n",
       " 'GitHub',\n",
       " 'Neurociencias-2026-1',\n",
       " 'S01_presentacion',\n",
       " 'Temario python.pdf']"
      ]
     },
     "execution_count": 58,
     "metadata": {},
     "output_type": "execute_result"
    }
   ],
   "source": [
    "ruta.split(sep= \"\\\\\")"
   ]
  },
  {
   "cell_type": "markdown",
   "id": "a66449ae-dbfe-47e2-9cf4-519924bcd1d2",
   "metadata": {},
   "source": [
    "# Tipos de dato.Lista"
   ]
  },
  {
   "cell_type": "code",
   "execution_count": 31,
   "id": "3f3b7637-3587-4c41-89c5-13ac3d828052",
   "metadata": {},
   "outputs": [
    {
     "data": {
      "text/plain": [
       "[5, 4, 2, 90, (-7+6j), 'string', 'ala', [3, 2, 5]]"
      ]
     },
     "execution_count": 31,
     "metadata": {},
     "output_type": "execute_result"
    }
   ],
   "source": [
    "lista=[5,4,2,90,complex(-7,6),'string','ala',[3,2,5]]\n",
    "lista"
   ]
  },
  {
   "cell_type": "code",
   "execution_count": 34,
   "id": "e39a0540-3ab6-46a8-bccd-e5db5612a64a",
   "metadata": {},
   "outputs": [
    {
     "data": {
      "text/plain": [
       "(-3+6j)"
      ]
     },
     "execution_count": 34,
     "metadata": {},
     "output_type": "execute_result"
    }
   ],
   "source": [
    "lista[4]+lista[1]"
   ]
  },
  {
   "cell_type": "code",
   "execution_count": 35,
   "id": "a68eda97-ef98-478a-989a-309ee99ac212",
   "metadata": {},
   "outputs": [
    {
     "data": {
      "text/plain": [
       "'alaala'"
      ]
     },
     "execution_count": 35,
     "metadata": {},
     "output_type": "execute_result"
    }
   ],
   "source": [
    "lista[2]*lista[-2]"
   ]
  },
  {
   "cell_type": "code",
   "execution_count": 36,
   "id": "8bab8a41-d180-4201-99a3-35efd8e7cab0",
   "metadata": {},
   "outputs": [
    {
     "data": {
      "text/plain": [
       "[3, 2, 5, 3, 2, 5, 3, 2, 5, 3, 2, 5]"
      ]
     },
     "execution_count": 36,
     "metadata": {},
     "output_type": "execute_result"
    }
   ],
   "source": [
    "lista[1]*lista[-1]"
   ]
  },
  {
   "cell_type": "code",
   "execution_count": 46,
   "id": "e29c2030-2e40-4cfe-b7a8-f8f021b7c1e3",
   "metadata": {},
   "outputs": [
    {
     "name": "stdout",
     "output_type": "stream",
     "text": [
      "8 [5, 4, 'chale', 'chale', 'chale', 'string', 'ala', [3, 2, 5]]\n"
     ]
    }
   ],
   "source": [
    "lista[2:5]=3*['chale']\n",
    "print(len(lista),lista)"
   ]
  },
  {
   "cell_type": "code",
   "execution_count": 47,
   "id": "570c7d6e-ba31-4ba6-9f33-59f4bdc7cc00",
   "metadata": {},
   "outputs": [
    {
     "data": {
      "text/plain": [
       "'string'"
      ]
     },
     "execution_count": 47,
     "metadata": {},
     "output_type": "execute_result"
    }
   ],
   "source": [
    "lista[5]"
   ]
  },
  {
   "cell_type": "code",
   "execution_count": 48,
   "id": "61f91ce5-3eb4-40bb-9186-ba08c3a3ffb4",
   "metadata": {},
   "outputs": [
    {
     "data": {
      "text/plain": [
       "[3, 2, 5]"
      ]
     },
     "execution_count": 48,
     "metadata": {},
     "output_type": "execute_result"
    }
   ],
   "source": [
    "lista[-1]"
   ]
  },
  {
   "cell_type": "code",
   "execution_count": 52,
   "id": "7291a9b2-bcc1-4da2-b9c4-fa12a53bc919",
   "metadata": {},
   "outputs": [
    {
     "data": {
      "text/plain": [
       "['chale', 'chale', 'chale', 'string', 'ala']"
      ]
     },
     "execution_count": 52,
     "metadata": {},
     "output_type": "execute_result"
    }
   ],
   "source": [
    "lista[2:-1]"
   ]
  },
  {
   "cell_type": "code",
   "execution_count": 56,
   "id": "408dfdbe-e48f-45bf-ada4-61bb0a45e1da",
   "metadata": {},
   "outputs": [
    {
     "data": {
      "text/plain": [
       "'C:\\\\Users\\\\V304-16\\\\Documents\\\\GitHub\\\\Neurociencias-2026-1\\\\S01_presentacion\\\\Temario python.pdf'"
      ]
     },
     "execution_count": 56,
     "metadata": {},
     "output_type": "execute_result"
    }
   ],
   "source": [
    "ruta=r\"C:\\Users\\V304-16\\Documents\\GitHub\\Neurociencias-2026-1\\S01_presentacion\\Temario python.pdf\"\n",
    "ruta"
   ]
  },
  {
   "cell_type": "code",
   "execution_count": 68,
   "id": "18775e15-167b-4c2a-b365-e645e62bbcf5",
   "metadata": {},
   "outputs": [],
   "source": [
    "rutas=ruta.split(sep= \"\\\\\")\n",
    "rutas2=rutas[7].split(sep=\".pdf\")\n",
    "rutas2[0]"
   ]
  },
  {
   "cell_type": "code",
   "execution_count": 73,
   "id": "abd789f1-ab5a-46b1-94ee-91a8e36de706",
   "metadata": {},
   "outputs": [
    {
     "data": {
      "text/plain": [
       "[]"
      ]
     },
     "execution_count": 73,
     "metadata": {},
     "output_type": "execute_result"
    }
   ],
   "source": []
  },
  {
   "cell_type": "code",
   "execution_count": 76,
   "id": "a1ad41d4-d6cf-4162-9a99-741e70b69d86",
   "metadata": {},
   "outputs": [
    {
     "data": {
      "text/plain": [
       "'Temario python'"
      ]
     },
     "execution_count": 76,
     "metadata": {},
     "output_type": "execute_result"
    }
   ],
   "source": [
    "rutas=ruta.split(sep= \"\\\\\")[-1][:-4]\n",
    "rutas"
   ]
  },
  {
   "cell_type": "code",
   "execution_count": 78,
   "id": "d4ee4dec-c7c6-4707-ae0f-16dba0f1dd4c",
   "metadata": {},
   "outputs": [
    {
     "data": {
      "text/plain": [
       "'Temario python'"
      ]
     },
     "execution_count": 78,
     "metadata": {},
     "output_type": "execute_result"
    }
   ],
   "source": [
    "rutas=ruta.split(sep= \"\\\\\")[-1].split(sep=\".pdf\")[0]\n",
    "rutas"
   ]
  },
  {
   "cell_type": "code",
   "execution_count": null,
   "id": "da999f48-2ab6-44a7-a74e-ceea274e78bd",
   "metadata": {},
   "outputs": [],
   "source": []
  }
 ],
 "metadata": {
  "kernelspec": {
   "display_name": "Python 3 (ipykernel)",
   "language": "python",
   "name": "python3"
  },
  "language_info": {
   "codemirror_mode": {
    "name": "ipython",
    "version": 3
   },
   "file_extension": ".py",
   "mimetype": "text/x-python",
   "name": "python",
   "nbconvert_exporter": "python",
   "pygments_lexer": "ipython3",
   "version": "3.10.4"
  }
 },
 "nbformat": 4,
 "nbformat_minor": 5
}
