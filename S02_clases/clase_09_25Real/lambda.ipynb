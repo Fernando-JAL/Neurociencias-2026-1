{
 "cells": [
  {
   "cell_type": "markdown",
   "id": "987ebf17-3559-4837-8319-2955a5d2d1bb",
   "metadata": {},
   "source": [
    "# Funciones lambda\n",
    "Para funciones compactas"
   ]
  },
  {
   "cell_type": "code",
   "execution_count": 1,
   "id": "b9610cbf-ffa6-4867-a7f3-9c7d16e58bb0",
   "metadata": {},
   "outputs": [
    {
     "data": {
      "text/plain": [
       "25"
      ]
     },
     "execution_count": 1,
     "metadata": {},
     "output_type": "execute_result"
    }
   ],
   "source": [
    "def funcion(x):\n",
    "    return x**2\n",
    "\n",
    "funcion(5)"
   ]
  },
  {
   "cell_type": "code",
   "execution_count": 3,
   "id": "9674031e-76ad-4420-9d02-fe655dc428f2",
   "metadata": {},
   "outputs": [
    {
     "data": {
      "text/plain": [
       "25"
      ]
     },
     "execution_count": 3,
     "metadata": {},
     "output_type": "execute_result"
    }
   ],
   "source": [
    "func_lambda=lambda x: x**2\n",
    "func_lambda(5)"
   ]
  },
  {
   "cell_type": "code",
   "execution_count": 4,
   "id": "88ac48de-326d-4075-8a83-9da3b66827c0",
   "metadata": {},
   "outputs": [
    {
     "data": {
      "text/plain": [
       "'airam eva'"
      ]
     },
     "execution_count": 4,
     "metadata": {},
     "output_type": "execute_result"
    }
   ],
   "source": [
    "def funcion_str(string):\n",
    "    return string[::-1]\n",
    "funcion_str('ave maria')"
   ]
  },
  {
   "cell_type": "code",
   "execution_count": 5,
   "id": "d4107a0e-4b6d-4c79-810b-ff55736bf4cf",
   "metadata": {},
   "outputs": [
    {
     "data": {
      "text/plain": [
       "'airam eva'"
      ]
     },
     "execution_count": 5,
     "metadata": {},
     "output_type": "execute_result"
    }
   ],
   "source": [
    "func_str=lambda string: string[::-1]\n",
    "func_str('ave maria')"
   ]
  },
  {
   "cell_type": "code",
   "execution_count": 7,
   "id": "efd2ca72-397d-4442-ba29-d843684bceb2",
   "metadata": {},
   "outputs": [
    {
     "data": {
      "text/plain": [
       "13"
      ]
     },
     "execution_count": 7,
     "metadata": {},
     "output_type": "execute_result"
    }
   ],
   "source": [
    "def funcion(x,y):\n",
    "    return x+y\n",
    "funcion(5,8)"
   ]
  },
  {
   "cell_type": "code",
   "execution_count": 11,
   "id": "5c3f384b-3eef-4dab-abd1-f0d340201330",
   "metadata": {},
   "outputs": [
    {
     "data": {
      "text/plain": [
       "13"
      ]
     },
     "execution_count": 11,
     "metadata": {},
     "output_type": "execute_result"
    }
   ],
   "source": [
    "fun_lda=lambda x, y: x+y\n",
    "fun_lda(5, 8)"
   ]
  },
  {
   "cell_type": "code",
   "execution_count": 12,
   "id": "ee9d5691-0f57-4c93-855e-31cf61aae65a",
   "metadata": {},
   "outputs": [
    {
     "data": {
      "text/plain": [
       "(3, -2)"
      ]
     },
     "execution_count": 12,
     "metadata": {},
     "output_type": "execute_result"
    }
   ],
   "source": [
    "# de manera automatica cuando regresas varios elementos \n",
    "def funcion(a,b,c):\n",
    "    return a+b, a-c\n",
    "funcion(1,2,3)"
   ]
  },
  {
   "cell_type": "code",
   "execution_count": 13,
   "id": "985a98b8-cb03-4898-9929-a610140c57ca",
   "metadata": {},
   "outputs": [
    {
     "data": {
      "text/plain": [
       "(3, -2)"
      ]
     },
     "execution_count": 13,
     "metadata": {},
     "output_type": "execute_result"
    }
   ],
   "source": [
    "fun_lda=lambda a,b,c: (a+b,a-c)\n",
    "fun_lda(1,2,3)"
   ]
  },
  {
   "cell_type": "code",
   "execution_count": 23,
   "id": "ec3bc2a3-1876-40b8-a9e0-7ae55a319465",
   "metadata": {},
   "outputs": [
    {
     "data": {
      "text/plain": [
       "[(1, 8), (7, 5), (2, 0), (12, -52)]"
      ]
     },
     "execution_count": 23,
     "metadata": {},
     "output_type": "execute_result"
    }
   ],
   "source": [
    "# ordenar de mayor a menor según el segundo número de cada tupla\n",
    "def funcion(x):\n",
    "    return x[1] # prdenar según segundo elemento\n",
    "lista=[(1,8),(7,5),(12,-52),(2,0)]\n",
    "lista.sort(reverse=True,key=funcion)\n",
    "lista"
   ]
  },
  {
   "cell_type": "code",
   "execution_count": 25,
   "id": "de4c2e8b-5817-46bf-96b7-d0b92d110cc3",
   "metadata": {},
   "outputs": [
    {
     "data": {
      "text/plain": [
       "[(1, 8), (7, 5), (2, 0), (12, -52)]"
      ]
     },
     "execution_count": 25,
     "metadata": {},
     "output_type": "execute_result"
    }
   ],
   "source": [
    "# más corto\n",
    "lista.sort(reverse=True,key=lambda x:x[1])\n",
    "lista\n"
   ]
  },
  {
   "cell_type": "code",
   "execution_count": 29,
   "id": "03925c19-bf98-4207-8d72-ebe0a1933328",
   "metadata": {},
   "outputs": [],
   "source": [
    "import numpy as np\n",
    "import pandas as pd"
   ]
  },
  {
   "cell_type": "code",
   "execution_count": 30,
   "id": "b1105e50-f4cd-4691-9254-59c33f5c8c40",
   "metadata": {},
   "outputs": [],
   "source": [
    "tipos_sujetos= ['S'+str(i).zfill(2) for i in range(4)]\n",
    "generos=['M','F']\n",
    "condicion=['control','experimental']\n",
    "region=['hipocampo','cortex prefrontal','amigdala']\n",
    "neurotransmisor=['dopamina','serotonina']\n",
    "\n",
    "mu=0.92\n",
    "sigma=0.08\n",
    "precision= np.random.normal(mu,sigma,200)\n",
    "enteros=np.random.randint(0,4,size=200)\n",
    "sujetos=['S'+str(i).zfill(2) for i in enteros]\n",
    "\n",
    "ops_sujetos= np.random.randint(len(tipos_sujetos),size=200)\n",
    "sujetos2=[tipos_sujetos[i] for i in ops_sujetos]\n",
    "\n",
    "ops_gens=np.random.randint(len(generos),size=200)\n",
    "lista_generos=[generos[i] for i in ops_gens]\n",
    "ops_condicion=np.random.randint(len(condicion),size=200)\n",
    "lista_condicion=[condicion[i] for i in ops_condicion]\n",
    "\n",
    "ops_region=np.random.randint(len(region),size=200)\n",
    "lista_region=[region[i] for i in ops_region]\n",
    "\n",
    "ops_nt=np.random.randint(len(neurotransmisor),size=200)\n",
    "lista_nt=[neurotransmisor[i] for i in ops_nt]\n",
    "\n",
    "\n",
    "df=pd.DataFrame({\n",
    "    'Sujetos': sujetos2,\n",
    "    'Género': lista_generos,\n",
    "    'Condición': lista_condicion,\n",
    "    'Región': lista_region,\n",
    "    'Neurotransmisor': lista_nt\n",
    "})\n",
    "df['precision']=precision"
   ]
  },
  {
   "cell_type": "code",
   "execution_count": 31,
   "id": "36124ac8-211e-4b9e-8e8f-46fd9b088ba0",
   "metadata": {},
   "outputs": [
    {
     "data": {
      "text/plain": [
       "0      CORTEX PREFRONTAL\n",
       "1              HIPOCAMPO\n",
       "2               AMIGDALA\n",
       "3              HIPOCAMPO\n",
       "4      CORTEX PREFRONTAL\n",
       "             ...        \n",
       "195    CORTEX PREFRONTAL\n",
       "196    CORTEX PREFRONTAL\n",
       "197    CORTEX PREFRONTAL\n",
       "198             AMIGDALA\n",
       "199    CORTEX PREFRONTAL\n",
       "Name: Región, Length: 200, dtype: object"
      ]
     },
     "execution_count": 31,
     "metadata": {},
     "output_type": "execute_result"
    }
   ],
   "source": [
    "def funcion(string):\n",
    "    return string.upper()\n",
    "\n",
    "df['Región'].apply(funcion) #aplicar función sobre un dataframe"
   ]
  },
  {
   "cell_type": "code",
   "execution_count": 32,
   "id": "acafe082-eef1-48b5-b664-aa735f31fd9c",
   "metadata": {},
   "outputs": [
    {
     "data": {
      "text/plain": [
       "0      CORTEX PREFRONTAL\n",
       "1              HIPOCAMPO\n",
       "2               AMIGDALA\n",
       "3              HIPOCAMPO\n",
       "4      CORTEX PREFRONTAL\n",
       "             ...        \n",
       "195    CORTEX PREFRONTAL\n",
       "196    CORTEX PREFRONTAL\n",
       "197    CORTEX PREFRONTAL\n",
       "198             AMIGDALA\n",
       "199    CORTEX PREFRONTAL\n",
       "Name: Región, Length: 200, dtype: object"
      ]
     },
     "execution_count": 32,
     "metadata": {},
     "output_type": "execute_result"
    }
   ],
   "source": [
    "df['Región'].apply(lambda string: string.upper())"
   ]
  },
  {
   "cell_type": "code",
   "execution_count": 35,
   "id": "d0d7b122-7bc0-49d0-80c7-a7456de9a1ae",
   "metadata": {},
   "outputs": [
    {
     "data": {
      "text/html": [
       "<div>\n",
       "<style scoped>\n",
       "    .dataframe tbody tr th:only-of-type {\n",
       "        vertical-align: middle;\n",
       "    }\n",
       "\n",
       "    .dataframe tbody tr th {\n",
       "        vertical-align: top;\n",
       "    }\n",
       "\n",
       "    .dataframe thead th {\n",
       "        text-align: right;\n",
       "    }\n",
       "</style>\n",
       "<table border=\"1\" class=\"dataframe\">\n",
       "  <thead>\n",
       "    <tr style=\"text-align: right;\">\n",
       "      <th></th>\n",
       "      <th>Región</th>\n",
       "      <th>Condición</th>\n",
       "      <th>Neurotransmisor</th>\n",
       "    </tr>\n",
       "  </thead>\n",
       "  <tbody>\n",
       "    <tr>\n",
       "      <th>0</th>\n",
       "      <td>CORTEX PREFRONTAL</td>\n",
       "      <td>EXPERIMENTAL</td>\n",
       "      <td>DOPAMINA</td>\n",
       "    </tr>\n",
       "    <tr>\n",
       "      <th>1</th>\n",
       "      <td>HIPOCAMPO</td>\n",
       "      <td>CONTROL</td>\n",
       "      <td>DOPAMINA</td>\n",
       "    </tr>\n",
       "    <tr>\n",
       "      <th>2</th>\n",
       "      <td>AMIGDALA</td>\n",
       "      <td>CONTROL</td>\n",
       "      <td>SEROTONINA</td>\n",
       "    </tr>\n",
       "    <tr>\n",
       "      <th>3</th>\n",
       "      <td>HIPOCAMPO</td>\n",
       "      <td>CONTROL</td>\n",
       "      <td>SEROTONINA</td>\n",
       "    </tr>\n",
       "    <tr>\n",
       "      <th>4</th>\n",
       "      <td>CORTEX PREFRONTAL</td>\n",
       "      <td>EXPERIMENTAL</td>\n",
       "      <td>SEROTONINA</td>\n",
       "    </tr>\n",
       "    <tr>\n",
       "      <th>...</th>\n",
       "      <td>...</td>\n",
       "      <td>...</td>\n",
       "      <td>...</td>\n",
       "    </tr>\n",
       "    <tr>\n",
       "      <th>195</th>\n",
       "      <td>CORTEX PREFRONTAL</td>\n",
       "      <td>EXPERIMENTAL</td>\n",
       "      <td>DOPAMINA</td>\n",
       "    </tr>\n",
       "    <tr>\n",
       "      <th>196</th>\n",
       "      <td>CORTEX PREFRONTAL</td>\n",
       "      <td>CONTROL</td>\n",
       "      <td>SEROTONINA</td>\n",
       "    </tr>\n",
       "    <tr>\n",
       "      <th>197</th>\n",
       "      <td>CORTEX PREFRONTAL</td>\n",
       "      <td>CONTROL</td>\n",
       "      <td>SEROTONINA</td>\n",
       "    </tr>\n",
       "    <tr>\n",
       "      <th>198</th>\n",
       "      <td>AMIGDALA</td>\n",
       "      <td>CONTROL</td>\n",
       "      <td>SEROTONINA</td>\n",
       "    </tr>\n",
       "    <tr>\n",
       "      <th>199</th>\n",
       "      <td>CORTEX PREFRONTAL</td>\n",
       "      <td>CONTROL</td>\n",
       "      <td>DOPAMINA</td>\n",
       "    </tr>\n",
       "  </tbody>\n",
       "</table>\n",
       "<p>200 rows × 3 columns</p>\n",
       "</div>"
      ],
      "text/plain": [
       "                Región     Condición Neurotransmisor\n",
       "0    CORTEX PREFRONTAL  EXPERIMENTAL        DOPAMINA\n",
       "1            HIPOCAMPO       CONTROL        DOPAMINA\n",
       "2             AMIGDALA       CONTROL      SEROTONINA\n",
       "3            HIPOCAMPO       CONTROL      SEROTONINA\n",
       "4    CORTEX PREFRONTAL  EXPERIMENTAL      SEROTONINA\n",
       "..                 ...           ...             ...\n",
       "195  CORTEX PREFRONTAL  EXPERIMENTAL        DOPAMINA\n",
       "196  CORTEX PREFRONTAL       CONTROL      SEROTONINA\n",
       "197  CORTEX PREFRONTAL       CONTROL      SEROTONINA\n",
       "198           AMIGDALA       CONTROL      SEROTONINA\n",
       "199  CORTEX PREFRONTAL       CONTROL        DOPAMINA\n",
       "\n",
       "[200 rows x 3 columns]"
      ]
     },
     "execution_count": 35,
     "metadata": {},
     "output_type": "execute_result"
    }
   ],
   "source": [
    "df[['Región','Condición','Neurotransmisor']].apply(lambda serie: [string.upper() for string in serie])"
   ]
  },
  {
   "cell_type": "code",
   "execution_count": null,
   "id": "6ef54928-1265-446a-b1e0-f80f6d361fe5",
   "metadata": {},
   "outputs": [],
   "source": []
  }
 ],
 "metadata": {
  "kernelspec": {
   "display_name": "Python 3 (ipykernel)",
   "language": "python",
   "name": "python3"
  },
  "language_info": {
   "codemirror_mode": {
    "name": "ipython",
    "version": 3
   },
   "file_extension": ".py",
   "mimetype": "text/x-python",
   "name": "python",
   "nbconvert_exporter": "python",
   "pygments_lexer": "ipython3",
   "version": "3.11.1"
  }
 },
 "nbformat": 4,
 "nbformat_minor": 5
}
