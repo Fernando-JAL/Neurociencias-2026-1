{
 "cells": [
  {
   "cell_type": "code",
   "execution_count": 3,
   "id": "55e42cba-d3aa-4566-8205-e85c502b9536",
   "metadata": {},
   "outputs": [
    {
     "data": {
      "text/plain": [
       "'cadena'"
      ]
     },
     "execution_count": 3,
     "metadata": {},
     "output_type": "execute_result"
    }
   ],
   "source": [
    "cadena = \"cadena\"\n",
    "cadena"
   ]
  },
  {
   "cell_type": "code",
   "execution_count": 4,
   "id": "9b9aee07-6372-4505-a733-d9718efb46d4",
   "metadata": {},
   "outputs": [
    {
     "ename": "TypeError",
     "evalue": "'str' object does not support item assignment",
     "output_type": "error",
     "traceback": [
      "\u001b[1;31m---------------------------------------------------------------------------\u001b[0m",
      "\u001b[1;31mTypeError\u001b[0m                                 Traceback (most recent call last)",
      "Cell \u001b[1;32mIn[4], line 1\u001b[0m\n\u001b[1;32m----> 1\u001b[0m \u001b[43mcadena\u001b[49m\u001b[43m[\u001b[49m\u001b[38;5;241;43m-\u001b[39;49m\u001b[38;5;241;43m2\u001b[39;49m\u001b[43m]\u001b[49m\u001b[38;5;241m=\u001b[39m\u001b[38;5;124m\"\u001b[39m\u001b[38;5;124mp\u001b[39m\u001b[38;5;124m\"\u001b[39m\n",
      "\u001b[1;31mTypeError\u001b[0m: 'str' object does not support item assignment"
     ]
    }
   ],
   "source": [
    "cadena[-2]=\"p\""
   ]
  },
  {
   "cell_type": "markdown",
   "id": "a4681be5-e6e9-4f51-b268-42c7fe75b2fb",
   "metadata": {},
   "source": [
    "## Alternativas a la inmutabilidad"
   ]
  },
  {
   "cell_type": "code",
   "execution_count": 5,
   "id": "6756ab9c-0fd6-466f-941b-26f145b7c2d0",
   "metadata": {},
   "outputs": [
    {
     "data": {
      "text/plain": [
       "'oswaldo'"
      ]
     },
     "execution_count": 5,
     "metadata": {},
     "output_type": "execute_result"
    }
   ],
   "source": [
    "cadena= \"donde esta oswaldo\"\n",
    "cadena2= \"viva la programación\"\n",
    "cadena3= \"bts volvió del ejercito\"\n",
    "\n",
    "cadena[-7:]"
   ]
  },
  {
   "cell_type": "code",
   "execution_count": null,
   "id": "7b47dfa5-5e0c-4125-b842-4842f1f041b7",
   "metadata": {},
   "outputs": [],
   "source": [
    "#ejercicio, con slicing crea la frase: \"donde esta la programación que volvió del ejercito\""
   ]
  },
  {
   "cell_type": "code",
   "execution_count": 13,
   "id": "1f1dbe74-f4cc-4014-ba21-0a3451379146",
   "metadata": {},
   "outputs": [
    {
     "data": {
      "text/plain": [
       "'donde esta la programaciónque volvió del ejercito'"
      ]
     },
     "execution_count": 13,
     "metadata": {},
     "output_type": "execute_result"
    }
   ],
   "source": [
    "cadena[:10] + cadena2[4:] + \"que\" +  cadena3 [3:]"
   ]
  },
  {
   "cell_type": "code",
   "execution_count": 32,
   "id": "be543db1-342a-4222-bb0e-b3b92ae237fc",
   "metadata": {},
   "outputs": [
    {
     "data": {
      "text/plain": [
       "'oswaldo volvió ala programación ed óivlov stb'"
      ]
     },
     "execution_count": 32,
     "metadata": {},
     "output_type": "execute_result"
    }
   ],
   "source": [
    "cadena[-7:] + cadena3[3:11] + \"a\" + cadena2[5:] + \" \"+ cadena3[-11::-1]"
   ]
  },
  {
   "cell_type": "markdown",
   "id": "cd2d0119-9417-4122-b263-84e29d0d7fe5",
   "metadata": {},
   "source": [
    "## TIPO DE DATO.LISTAS"
   ]
  },
  {
   "cell_type": "code",
   "execution_count": 33,
   "id": "42ea2536-2aee-497c-87cf-927bf9e3083f",
   "metadata": {},
   "outputs": [
    {
     "data": {
      "text/plain": [
       "[5, 4, 2, 90, 3, 'string', 'alá']"
      ]
     },
     "execution_count": 33,
     "metadata": {},
     "output_type": "execute_result"
    }
   ],
   "source": [
    "lista=[5,4,2,90,3,\"string\",\"alá\"]\n",
    "lista"
   ]
  },
  {
   "cell_type": "code",
   "execution_count": 34,
   "id": "a56d5856-88f2-4e04-b456-cb8a5d0fe402",
   "metadata": {},
   "outputs": [
    {
     "data": {
      "text/plain": [
       "list"
      ]
     },
     "execution_count": 34,
     "metadata": {},
     "output_type": "execute_result"
    }
   ],
   "source": [
    "type (lista)"
   ]
  },
  {
   "cell_type": "code",
   "execution_count": 78,
   "id": "3ed3991e-f831-46c6-893c-7a05f592b46f",
   "metadata": {},
   "outputs": [
    {
     "data": {
      "text/plain": [
       "[5, 4, 2, 90.3, (-7+6j), 'string', 'alá', [3, 2, 4]]"
      ]
     },
     "execution_count": 78,
     "metadata": {},
     "output_type": "execute_result"
    }
   ],
   "source": [
    "lista=[5,4,2,90.3,complex(-7,6),\"string\",\"alá\",[3,2,4]]\n",
    "    \n",
    "lista"
   ]
  },
  {
   "cell_type": "code",
   "execution_count": 54,
   "id": "74d2bb4c-5973-4856-8bdb-367af0345134",
   "metadata": {},
   "outputs": [
    {
     "data": {
      "text/plain": [
       "(-3+6j)"
      ]
     },
     "execution_count": 54,
     "metadata": {},
     "output_type": "execute_result"
    }
   ],
   "source": [
    "lista[4] + lista[1]"
   ]
  },
  {
   "cell_type": "code",
   "execution_count": 55,
   "id": "c5308ea9-2c77-4215-85bc-1f56080db3c6",
   "metadata": {},
   "outputs": [
    {
     "data": {
      "text/plain": [
       "8"
      ]
     },
     "execution_count": 55,
     "metadata": {},
     "output_type": "execute_result"
    }
   ],
   "source": [
    "len(lista)"
   ]
  },
  {
   "cell_type": "code",
   "execution_count": 42,
   "id": "2f883d03-7830-4040-b60e-b7bcfb6d1e0f",
   "metadata": {},
   "outputs": [
    {
     "data": {
      "text/plain": [
       "'aláalá'"
      ]
     },
     "execution_count": 42,
     "metadata": {},
     "output_type": "execute_result"
    }
   ],
   "source": [
    "lista[2]*lista[-2]"
   ]
  },
  {
   "cell_type": "code",
   "execution_count": 43,
   "id": "084c4e03-715f-4ea0-a584-711bc5e26add",
   "metadata": {},
   "outputs": [
    {
     "data": {
      "text/plain": [
       "[3, 2, 4, 3, 2, 4, 3, 2, 4, 3, 2, 4]"
      ]
     },
     "execution_count": 43,
     "metadata": {},
     "output_type": "execute_result"
    }
   ],
   "source": [
    "lista[1]*lista[-1]"
   ]
  },
  {
   "cell_type": "code",
   "execution_count": 45,
   "id": "ca6137a3-0009-4543-825f-1c03d5da3391",
   "metadata": {},
   "outputs": [
    {
     "data": {
      "text/plain": [
       "[5, 4, 2, 'chale', (-7+6j), 'string', 'alá', [3, 2, 4]]"
      ]
     },
     "execution_count": 45,
     "metadata": {},
     "output_type": "execute_result"
    }
   ],
   "source": [
    "lista[3] = \"chale\"\n",
    "lista "
   ]
  },
  {
   "cell_type": "code",
   "execution_count": 58,
   "id": "55be4233-32f7-437c-b525-91f9bb47f71c",
   "metadata": {},
   "outputs": [
    {
     "data": {
      "text/plain": [
       "[5,\n",
       " 4,\n",
       " 'm',\n",
       " 'a',\n",
       " 'l',\n",
       " 'u',\n",
       " 'm',\n",
       " 'a',\n",
       " ' ',\n",
       " 'b',\n",
       " 'a',\n",
       " 'b',\n",
       " 'y',\n",
       " 'u',\n",
       " 'm',\n",
       " 'a',\n",
       " ' ',\n",
       " 'b',\n",
       " 'a',\n",
       " 'b',\n",
       " 'y',\n",
       " 'string',\n",
       " 'alá',\n",
       " [3, 2, 4]]"
      ]
     },
     "execution_count": 58,
     "metadata": {},
     "output_type": "execute_result"
    }
   ],
   "source": [
    "lista[2:5]= \"maluma baby\"\n",
    "lista"
   ]
  },
  {
   "cell_type": "code",
   "execution_count": 59,
   "id": "fc97372f-902e-4819-b32f-af532c042350",
   "metadata": {},
   "outputs": [
    {
     "data": {
      "text/plain": [
       "24"
      ]
     },
     "execution_count": 59,
     "metadata": {},
     "output_type": "execute_result"
    }
   ],
   "source": [
    "len(lista)"
   ]
  },
  {
   "cell_type": "code",
   "execution_count": 66,
   "id": "866c736e-9b3b-4f56-9499-47c0233a538c",
   "metadata": {},
   "outputs": [
    {
     "name": "stdout",
     "output_type": "stream",
     "text": [
      "6 [5, 4, 'maluma baby', 'string', 'alá', [3, 2, 4]]\n"
     ]
    }
   ],
   "source": [
    "lista[2: 5]= [\"maluma baby\"]\n",
    "print (len(lista),lista)"
   ]
  },
  {
   "cell_type": "code",
   "execution_count": 67,
   "id": "ee6f52fd-33fc-4e3c-bbd0-7d32b411243b",
   "metadata": {},
   "outputs": [
    {
     "name": "stdout",
     "output_type": "stream",
     "text": [
      "8 [5, 4, 'maluma baby', 'maluma baby', 'maluma baby', 'maluma baby', 'maluma baby', [3, 2, 4]]\n"
     ]
    }
   ],
   "source": [
    "lista[2: 5]= 5*[\"maluma baby\"]\n",
    "print (len(lista),lista)"
   ]
  },
  {
   "cell_type": "code",
   "execution_count": 79,
   "id": "24706354-4328-4bd0-8fcf-4ca102d6c25d",
   "metadata": {},
   "outputs": [
    {
     "data": {
      "text/plain": [
       "[5,\n",
       " 4,\n",
       " 'maluma baby',\n",
       " 'maluma baby',\n",
       " 'maluma baby',\n",
       " 'maluma baby',\n",
       " 'maluma baby',\n",
       " 'string',\n",
       " 'alá',\n",
       " [3, 2, 4]]"
      ]
     },
     "execution_count": 79,
     "metadata": {},
     "output_type": "execute_result"
    }
   ],
   "source": [
    "lista[2:5]= 5*[\"maluma baby\"]\n",
    "lista"
   ]
  },
  {
   "cell_type": "code",
   "execution_count": 80,
   "id": "b420de37-5659-40cd-b166-ac5719c9cfb4",
   "metadata": {},
   "outputs": [
    {
     "data": {
      "text/plain": [
       "'string'"
      ]
     },
     "execution_count": 80,
     "metadata": {},
     "output_type": "execute_result"
    }
   ],
   "source": [
    "lista[-3]"
   ]
  },
  {
   "cell_type": "code",
   "execution_count": 121,
   "id": "d752267f-8a41-43fe-8668-16c4480548de",
   "metadata": {},
   "outputs": [
    {
     "data": {
      "text/plain": [
       "'C:\\\\Users\\\\Ana\\\\Downloads\\\\comprobanteVigenciaDerechos44210273007 (1).pdf'"
      ]
     },
     "execution_count": 121,
     "metadata": {},
     "output_type": "execute_result"
    }
   ],
   "source": [
    "ruta=r\"C:\\Users\\Ana\\Downloads\\comprobanteVigenciaDerechos44210273007 (1).pdf\"\n",
    "ruta"
   ]
  },
  {
   "cell_type": "code",
   "execution_count": 116,
   "id": "3230842e-71f5-4e0d-9207-e3b9741c0f49",
   "metadata": {},
   "outputs": [
    {
     "data": {
      "text/plain": [
       "'comprobanteVigenciaDerechos44210273007 (1).'"
      ]
     },
     "execution_count": 116,
     "metadata": {},
     "output_type": "execute_result"
    }
   ],
   "source": [
    "ruta.split(\"\\\\\")[-1][:-3]"
   ]
  },
  {
   "cell_type": "code",
   "execution_count": 98,
   "id": "4749257b-7d2c-42f2-a7f7-b1f5a763ac8a",
   "metadata": {},
   "outputs": [
    {
     "data": {
      "text/plain": [
       "'comprobanteVigenciaDerechos44210273007 (1)'"
      ]
     },
     "execution_count": 98,
     "metadata": {},
     "output_type": "execute_result"
    }
   ],
   "source": [
    "var1 = ruta.split(sep=\"\\\\\")\n",
    "var2= var1[-1]\n",
    "var3= var2.split(sep=\".pdf\")\n",
    "var3[0]"
   ]
  },
  {
   "cell_type": "code",
   "execution_count": 122,
   "id": "1e057d57-8aed-426d-b5bc-d393ca786645",
   "metadata": {},
   "outputs": [
    {
     "data": {
      "text/plain": [
       "['C:',\n",
       " 'Users',\n",
       " 'Ana',\n",
       " 'Downloads',\n",
       " 'comprobanteVigenciaDerechos44210273007 (1).pdf']"
      ]
     },
     "execution_count": 122,
     "metadata": {},
     "output_type": "execute_result"
    }
   ],
   "source": [
    "ruta.split(\"\\\\\")"
   ]
  },
  {
   "cell_type": "code",
   "execution_count": 135,
   "id": "906ccf8c-d996-435f-b462-034ab96d1e4e",
   "metadata": {},
   "outputs": [
    {
     "data": {
      "text/plain": [
       "['C:',\n",
       " 'Users',\n",
       " 'Ana',\n",
       " 'Downloads',\n",
       " 'comprobanteVigenciaDerechos44210273007 (1).pdf']"
      ]
     },
     "execution_count": 135,
     "metadata": {},
     "output_type": "execute_result"
    }
   ],
   "source": [
    "prueba1=ruta.split(\"\\\\\")\n",
    "prueba1\n",
    "      \n"
   ]
  },
  {
   "cell_type": "code",
   "execution_count": 137,
   "id": "e0a66c9f-d743-4f78-84a5-4a7e5a561d64",
   "metadata": {},
   "outputs": [
    {
     "data": {
      "text/plain": [
       "'comprobanteVigenciaDerechos44210273007 (1).pdf'"
      ]
     },
     "execution_count": 137,
     "metadata": {},
     "output_type": "execute_result"
    }
   ],
   "source": [
    "prueba1[-1]"
   ]
  }
 ],
 "metadata": {
  "kernelspec": {
   "display_name": "Python 3 (ipykernel)",
   "language": "python",
   "name": "python3"
  },
  "language_info": {
   "codemirror_mode": {
    "name": "ipython",
    "version": 3
   },
   "file_extension": ".py",
   "mimetype": "text/x-python",
   "name": "python",
   "nbconvert_exporter": "python",
   "pygments_lexer": "ipython3",
   "version": "3.10.4"
  }
 },
 "nbformat": 4,
 "nbformat_minor": 5
}
