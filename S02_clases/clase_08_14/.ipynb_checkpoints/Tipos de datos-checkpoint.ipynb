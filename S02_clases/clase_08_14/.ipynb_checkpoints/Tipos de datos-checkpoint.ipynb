{
 "cells": [
  {
   "cell_type": "markdown",
   "id": "ec859a75-15c3-42e6-8adb-feede60035da",
   "metadata": {},
   "source": [
    "# Tipos de datos\n",
    "- numéricos (123456)\n",
    "- string\n",
    "- sequence\n",
    "- dict"
   ]
  },
  {
   "cell_type": "code",
   "execution_count": 2,
   "id": "d0be6791-5d88-4fc2-9415-85bf50830d5d",
   "metadata": {},
   "outputs": [
    {
     "data": {
      "text/plain": [
       "1"
      ]
     },
     "execution_count": 2,
     "metadata": {},
     "output_type": "execute_result"
    }
   ],
   "source": [
    "a= 1\n",
    "a"
   ]
  },
  {
   "cell_type": "code",
   "execution_count": 3,
   "id": "9a33d6d0-a7c4-47cf-a446-72f994b347e4",
   "metadata": {},
   "outputs": [
    {
     "data": {
      "text/plain": [
       "-1234561234566543211223456"
      ]
     },
     "execution_count": 3,
     "metadata": {},
     "output_type": "execute_result"
    }
   ],
   "source": [
    "b= -1234561234566543211223456\n",
    "b"
   ]
  },
  {
   "cell_type": "code",
   "execution_count": 5,
   "id": "2d2e5ddc-e967-455d-9a8b-f4001576ca3b",
   "metadata": {},
   "outputs": [
    {
     "data": {
      "text/plain": [
       "(int, int)"
      ]
     },
     "execution_count": 5,
     "metadata": {},
     "output_type": "execute_result"
    }
   ],
   "source": [
    "type(a), type (b)"
   ]
  },
  {
   "cell_type": "code",
   "execution_count": 6,
   "id": "f7aa125f-6d4a-4e64-94ad-82e463aac238",
   "metadata": {},
   "outputs": [
    {
     "data": {
      "text/plain": [
       "float"
      ]
     },
     "execution_count": 6,
     "metadata": {},
     "output_type": "execute_result"
    }
   ],
   "source": [
    "type(1.2)"
   ]
  },
  {
   "cell_type": "markdown",
   "id": "d5d792be-bd02-4be4-95cb-fdd6fe5f75da",
   "metadata": {},
   "source": [
    "### Definición de complejos\n"
   ]
  },
  {
   "cell_type": "code",
   "execution_count": 10,
   "id": "ccbab581-ec2a-4863-8e8b-d6a25549f98c",
   "metadata": {},
   "outputs": [
    {
     "data": {
      "text/plain": [
       "(1+3j)"
      ]
     },
     "execution_count": 10,
     "metadata": {},
     "output_type": "execute_result"
    }
   ],
   "source": [
    "complex(1, 3)\n",
    "### las funciones aparecen en verde "
   ]
  },
  {
   "cell_type": "code",
   "execution_count": 11,
   "id": "7a6781f7-333f-429e-8fdb-feedff6139c4",
   "metadata": {},
   "outputs": [
    {
     "data": {
      "text/plain": [
       "(4+7j)"
      ]
     },
     "execution_count": 11,
     "metadata": {},
     "output_type": "execute_result"
    }
   ],
   "source": [
    "complex(4, 7)"
   ]
  },
  {
   "cell_type": "code",
   "execution_count": 12,
   "id": "fe576b22-2faa-475f-9fc5-ddadd8759b89",
   "metadata": {},
   "outputs": [
    {
     "data": {
      "text/plain": [
       "(3+1j)"
      ]
     },
     "execution_count": 12,
     "metadata": {},
     "output_type": "execute_result"
    }
   ],
   "source": [
    "complex(3, 1)"
   ]
  },
  {
   "cell_type": "code",
   "execution_count": 13,
   "id": "4007026c-f336-4cf0-bb28-4732c88489c6",
   "metadata": {},
   "outputs": [
    {
     "data": {
      "text/plain": [
       "1j"
      ]
     },
     "execution_count": 13,
     "metadata": {},
     "output_type": "execute_result"
    }
   ],
   "source": [
    "complex(0,1)"
   ]
  },
  {
   "cell_type": "code",
   "execution_count": 14,
   "id": "4d604af0-e32f-45c7-b69b-9dbe1a6779a6",
   "metadata": {},
   "outputs": [
    {
     "data": {
      "text/plain": [
       "(3+1j)"
      ]
     },
     "execution_count": 14,
     "metadata": {},
     "output_type": "execute_result"
    }
   ],
   "source": [
    "complex(0,1)+3"
   ]
  },
  {
   "cell_type": "code",
   "execution_count": 15,
   "id": "f0a368d7-ea3c-488d-8ce8-984b32347b08",
   "metadata": {},
   "outputs": [
    {
     "data": {
      "text/plain": [
       "(3+1j)"
      ]
     },
     "execution_count": 15,
     "metadata": {},
     "output_type": "execute_result"
    }
   ],
   "source": [
    "c= complex(3,1)\n",
    "c"
   ]
  },
  {
   "cell_type": "code",
   "execution_count": 16,
   "id": "0b76a467-2130-40ea-82f8-06604697990c",
   "metadata": {},
   "outputs": [
    {
     "data": {
      "text/plain": [
       "(3+3j)"
      ]
     },
     "execution_count": 16,
     "metadata": {},
     "output_type": "execute_result"
    }
   ],
   "source": [
    "### quiero sumar \"2\" al valor de c\n",
    "c+ complex(0,2)"
   ]
  },
  {
   "cell_type": "code",
   "execution_count": 17,
   "id": "bd5023d2-00ab-4933-a268-d521ccf701de",
   "metadata": {},
   "outputs": [
    {
     "data": {
      "text/plain": [
       "complex"
      ]
     },
     "execution_count": 17,
     "metadata": {},
     "output_type": "execute_result"
    }
   ],
   "source": [
    "type(c)"
   ]
  },
  {
   "cell_type": "markdown",
   "id": "e45e7ea3-0067-40cd-aba7-70b07ab6f36b",
   "metadata": {},
   "source": [
    "# Operaciones con tipos de datos numéricos"
   ]
  },
  {
   "cell_type": "code",
   "execution_count": 18,
   "id": "eff51200-d9b3-4838-849d-5e52413eaf64",
   "metadata": {},
   "outputs": [
    {
     "data": {
      "text/plain": [
       "100"
      ]
     },
     "execution_count": 18,
     "metadata": {},
     "output_type": "execute_result"
    }
   ],
   "source": [
    "56+44"
   ]
  },
  {
   "cell_type": "code",
   "execution_count": 19,
   "id": "36ea72ae-15ab-4f87-a469-eb9619dee579",
   "metadata": {},
   "outputs": [
    {
     "data": {
      "text/plain": [
       "720"
      ]
     },
     "execution_count": 19,
     "metadata": {},
     "output_type": "execute_result"
    }
   ],
   "source": [
    "800-80"
   ]
  },
  {
   "cell_type": "code",
   "execution_count": 20,
   "id": "d7e3b802-8f1e-416a-bf7b-6cc9b6d3b4db",
   "metadata": {},
   "outputs": [
    {
     "data": {
      "text/plain": [
       "783"
      ]
     },
     "execution_count": 20,
     "metadata": {},
     "output_type": "execute_result"
    }
   ],
   "source": [
    "87*9"
   ]
  },
  {
   "cell_type": "code",
   "execution_count": 21,
   "id": "66b1ccab-256d-4e40-8839-882a76342b7a",
   "metadata": {},
   "outputs": [
    {
     "data": {
      "text/plain": [
       "1.8521739130434782"
      ]
     },
     "execution_count": 21,
     "metadata": {},
     "output_type": "execute_result"
    }
   ],
   "source": [
    "85.2/46"
   ]
  },
  {
   "cell_type": "code",
   "execution_count": 23,
   "id": "943142b1-f886-4369-9302-81903b33ad69",
   "metadata": {},
   "outputs": [
    {
     "data": {
      "text/plain": [
       "9"
      ]
     },
     "execution_count": 23,
     "metadata": {},
     "output_type": "execute_result"
    }
   ],
   "source": [
    "3**2\n",
    "#potencias"
   ]
  },
  {
   "cell_type": "code",
   "execution_count": 24,
   "id": "4b387aff-08f7-4f0c-baf4-fb4d45db7d34",
   "metadata": {},
   "outputs": [
    {
     "data": {
      "text/plain": [
       "2.23606797749979"
      ]
     },
     "execution_count": 24,
     "metadata": {},
     "output_type": "execute_result"
    }
   ],
   "source": [
    "5**0.5\n",
    "# sacar potencia"
   ]
  },
  {
   "cell_type": "code",
   "execution_count": 25,
   "id": "18412581-563c-42ed-9f36-f9149560339b",
   "metadata": {},
   "outputs": [
    {
     "data": {
      "text/plain": [
       "0"
      ]
     },
     "execution_count": 25,
     "metadata": {},
     "output_type": "execute_result"
    }
   ],
   "source": [
    "16%4\n",
    "# para calcular residuo"
   ]
  },
  {
   "cell_type": "code",
   "execution_count": 26,
   "id": "82248950-2212-452f-b27e-1d16118530f8",
   "metadata": {},
   "outputs": [
    {
     "data": {
      "text/plain": [
       "4"
      ]
     },
     "execution_count": 26,
     "metadata": {},
     "output_type": "execute_result"
    }
   ],
   "source": [
    "16//4\n",
    "# para calcular el cociente en división entera"
   ]
  },
  {
   "cell_type": "code",
   "execution_count": 27,
   "id": "6e078537-8632-4bda-bc0c-4ee4fa02a7dd",
   "metadata": {},
   "outputs": [],
   "source": [
    "a=8\n",
    "b=3\n",
    "c=42"
   ]
  },
  {
   "cell_type": "code",
   "execution_count": 29,
   "id": "51c3275f-4dda-44fe-9eb1-2e4847cabc62",
   "metadata": {},
   "outputs": [
    {
     "data": {
      "text/plain": [
       "(8, 3, 42)"
      ]
     },
     "execution_count": 29,
     "metadata": {},
     "output_type": "execute_result"
    }
   ],
   "source": [
    "(a, b, c) \n",
    "# lo otorga como tupla (no modificable)"
   ]
  },
  {
   "cell_type": "code",
   "execution_count": 30,
   "id": "d441ee4f-e728-4e96-802b-8559936cd3fd",
   "metadata": {},
   "outputs": [
    {
     "data": {
      "text/plain": [
       "(8, 3, 42)"
      ]
     },
     "execution_count": 30,
     "metadata": {},
     "output_type": "execute_result"
    }
   ],
   "source": [
    "a, b, c= 8, 3, 42\n",
    "a, b, c"
   ]
  },
  {
   "cell_type": "code",
   "execution_count": 32,
   "id": "e77a6bbb-531f-489a-a218-a063cef28918",
   "metadata": {},
   "outputs": [
    {
     "ename": "ZeroDivisionError",
     "evalue": "division by zero",
     "output_type": "error",
     "traceback": [
      "\u001b[1;31m---------------------------------------------------------------------------\u001b[0m",
      "\u001b[1;31mZeroDivisionError\u001b[0m                         Traceback (most recent call last)",
      "Cell \u001b[1;32mIn[32], line 1\u001b[0m\n\u001b[1;32m----> 1\u001b[0m c\u001b[38;5;241m/\u001b[39ma\u001b[38;5;241m+\u001b[39mb\u001b[38;5;241m*\u001b[39ma\u001b[38;5;241m-\u001b[39m\u001b[43ma\u001b[49m\u001b[38;5;241;43m*\u001b[39;49m\u001b[38;5;241;43m*\u001b[39;49m\u001b[43mb\u001b[49m\u001b[38;5;241;43m/\u001b[39;49m\u001b[43m(\u001b[49m\u001b[43mc\u001b[49m\u001b[38;5;241;43m%\u001b[39;49m\u001b[43mb\u001b[49m\u001b[43m)\u001b[49m\n",
      "\u001b[1;31mZeroDivisionError\u001b[0m: division by zero"
     ]
    }
   ],
   "source": [
    "c/a+b*a-a**b/(c%b)"
   ]
  },
  {
   "cell_type": "markdown",
   "id": "3ae45dce-54ae-480f-93cc-24db3cdc1425",
   "metadata": {},
   "source": [
    "# String"
   ]
  },
  {
   "cell_type": "code",
   "execution_count": 33,
   "id": "3ab20ab2-3142-4bfd-a66b-7f2b978d4046",
   "metadata": {},
   "outputs": [
    {
     "data": {
      "text/plain": [
       "'Esto es una cadena de texto'"
      ]
     },
     "execution_count": 33,
     "metadata": {},
     "output_type": "execute_result"
    }
   ],
   "source": [
    "\"Esto es una cadena de texto\""
   ]
  },
  {
   "cell_type": "code",
   "execution_count": 35,
   "id": "5fbf2923-7a46-4db2-a600-a6f552e6e580",
   "metadata": {},
   "outputs": [
    {
     "data": {
      "text/plain": [
       "('Cadena de texto 1', 'Cadena de texto 2')"
      ]
     },
     "execution_count": 35,
     "metadata": {},
     "output_type": "execute_result"
    }
   ],
   "source": [
    "a, b= 'Cadena de texto 1', 'Cadena de texto 2'\n",
    "a, b"
   ]
  },
  {
   "cell_type": "code",
   "execution_count": 36,
   "id": "edaf357f-5094-4a91-8a65-d9376696a422",
   "metadata": {},
   "outputs": [
    {
     "name": "stdout",
     "output_type": "stream",
     "text": [
      "Cadena de texto 1 Cadena de texto 2 otra cosa 89.5 lo que sea\n"
     ]
    }
   ],
   "source": [
    "print(a, b, 'otra cosa', 89.5, 'lo que sea')"
   ]
  },
  {
   "cell_type": "code",
   "execution_count": 37,
   "id": "df5bfd45-42e7-4b5c-92cc-7104d986e3e8",
   "metadata": {},
   "outputs": [
    {
     "name": "stdout",
     "output_type": "stream",
     "text": [
      "Cadena de texto 1 \t Cadena de texto 2 otra cosa 89.5 lo que sea\n"
     ]
    }
   ],
   "source": [
    "print(a, '\\t', b, 'otra cosa', 89.5, 'lo que sea')\n",
    "# La cadena '\\t' significa tabulación"
   ]
  },
  {
   "cell_type": "code",
   "execution_count": 38,
   "id": "8f2e694b-c7a1-447e-8d36-eb0656e36930",
   "metadata": {},
   "outputs": [
    {
     "name": "stdout",
     "output_type": "stream",
     "text": [
      "Cadena de texto 1 \n",
      " Cadena de texto 2 otra cosa 89.5 lo que sea\n"
     ]
    }
   ],
   "source": [
    "print(a, '\\n', b, 'otra cosa', 89.5, 'lo que sea')"
   ]
  },
  {
   "cell_type": "code",
   "execution_count": 39,
   "id": "f7604d04-cf41-4602-8ba7-400280c35aea",
   "metadata": {},
   "outputs": [
    {
     "name": "stdout",
     "output_type": "stream",
     "text": [
      "C:\\nombre_de_la_carpeta\\tareas\n"
     ]
    }
   ],
   "source": [
    "print(r'C:\\nombre_de_la_carpeta\\tareas')"
   ]
  },
  {
   "cell_type": "code",
   "execution_count": 40,
   "id": "fa5619d0-803e-4758-aeca-a1833b1e76d2",
   "metadata": {},
   "outputs": [
    {
     "ename": "SyntaxError",
     "evalue": "unterminated string literal (detected at line 1) (618867905.py, line 1)",
     "output_type": "error",
     "traceback": [
      "\u001b[1;36m  Cell \u001b[1;32mIn[40], line 1\u001b[1;36m\u001b[0m\n\u001b[1;33m    print(\"primera línea de texto\u001b[0m\n\u001b[1;37m          ^\u001b[0m\n\u001b[1;31mSyntaxError\u001b[0m\u001b[1;31m:\u001b[0m unterminated string literal (detected at line 1)\n"
     ]
    }
   ],
   "source": [
    "print(\"primera línea de texto\n",
    "      segunda línea de texto\n",
    "      tercera línea de texto)"
   ]
  },
  {
   "cell_type": "code",
   "execution_count": 41,
   "id": "65f444df-1937-4720-ad3f-ebde0910658c",
   "metadata": {},
   "outputs": [
    {
     "name": "stdout",
     "output_type": "stream",
     "text": [
      "primera línea de texto\n",
      "segunda línea de texto\n",
      "tercera línea de texto\n"
     ]
    }
   ],
   "source": [
    "print(\"\"\"primera línea de texto\n",
    "segunda línea de texto\n",
    "tercera línea de texto\"\"\")"
   ]
  },
  {
   "cell_type": "code",
   "execution_count": 42,
   "id": "6830187a-f9a5-40b7-a221-bd51f609216e",
   "metadata": {},
   "outputs": [
    {
     "data": {
      "text/plain": [
       "('Cadena de texto 1', 'Cadena de texto 2')"
      ]
     },
     "execution_count": 42,
     "metadata": {},
     "output_type": "execute_result"
    }
   ],
   "source": [
    "a, b"
   ]
  },
  {
   "cell_type": "code",
   "execution_count": 43,
   "id": "98a40ecc-7bb9-4b07-9b4c-55bca3ae0996",
   "metadata": {},
   "outputs": [],
   "source": [
    "a, b= 'ah', 'be'"
   ]
  },
  {
   "cell_type": "code",
   "execution_count": 44,
   "id": "113082ec-09ba-40c2-8658-53c0ca3a7ca8",
   "metadata": {},
   "outputs": [
    {
     "data": {
      "text/plain": [
       "'ahbe'"
      ]
     },
     "execution_count": 44,
     "metadata": {},
     "output_type": "execute_result"
    }
   ],
   "source": [
    "a + b"
   ]
  },
  {
   "cell_type": "code",
   "execution_count": 45,
   "id": "918414a6-7192-4173-8aa4-1efcfdf0ca78",
   "metadata": {},
   "outputs": [
    {
     "ename": "TypeError",
     "evalue": "unsupported operand type(s) for +: 'int' and 'str'",
     "output_type": "error",
     "traceback": [
      "\u001b[1;31m---------------------------------------------------------------------------\u001b[0m",
      "\u001b[1;31mTypeError\u001b[0m                                 Traceback (most recent call last)",
      "Cell \u001b[1;32mIn[45], line 1\u001b[0m\n\u001b[1;32m----> 1\u001b[0m \u001b[38;5;241;43m3\u001b[39;49m\u001b[43m \u001b[49m\u001b[38;5;241;43m+\u001b[39;49m\u001b[43m \u001b[49m\u001b[43ma\u001b[49m\n",
      "\u001b[1;31mTypeError\u001b[0m: unsupported operand type(s) for +: 'int' and 'str'"
     ]
    }
   ],
   "source": [
    "3 + a"
   ]
  },
  {
   "cell_type": "code",
   "execution_count": 46,
   "id": "3b366420-b66a-49c0-b322-dc476bc274fa",
   "metadata": {},
   "outputs": [
    {
     "data": {
      "text/plain": [
       "'ahahahbebeah'"
      ]
     },
     "execution_count": 46,
     "metadata": {},
     "output_type": "execute_result"
    }
   ],
   "source": [
    "3*a+2*b+a"
   ]
  },
  {
   "cell_type": "code",
   "execution_count": 47,
   "id": "a20ce164-b839-47f6-aae9-fa5077baaae4",
   "metadata": {},
   "outputs": [
    {
     "data": {
      "text/plain": [
       "'ahahah'"
      ]
     },
     "execution_count": 47,
     "metadata": {},
     "output_type": "execute_result"
    }
   ],
   "source": [
    "3*a"
   ]
  },
  {
   "cell_type": "code",
   "execution_count": 48,
   "id": "da3004a0-4b60-4186-975d-ae05c9a9c882",
   "metadata": {},
   "outputs": [
    {
     "data": {
      "text/plain": [
       "'ahahah'"
      ]
     },
     "execution_count": 48,
     "metadata": {},
     "output_type": "execute_result"
    }
   ],
   "source": [
    "a*3"
   ]
  },
  {
   "cell_type": "code",
   "execution_count": 49,
   "id": "3f2544bf-5aa7-4083-b35f-68e9d4b62ce6",
   "metadata": {},
   "outputs": [
    {
     "data": {
      "text/plain": [
       "('ahbe', 'beah')"
      ]
     },
     "execution_count": 49,
     "metadata": {},
     "output_type": "execute_result"
    }
   ],
   "source": [
    "a+b, b+a"
   ]
  },
  {
   "cell_type": "markdown",
   "id": "78a094cf-123e-42b3-ba77-963aa0ae72e9",
   "metadata": {},
   "source": [
    "# slicing = rebanando"
   ]
  },
  {
   "cell_type": "code",
   "execution_count": 50,
   "id": "79b21aac-10d6-4523-bd2f-961a34215607",
   "metadata": {},
   "outputs": [],
   "source": [
    "a= 'hola jolines chayotes verdes'"
   ]
  },
  {
   "cell_type": "markdown",
   "id": "3310a255-c941-4eb3-a16b-d41f2b3fce39",
   "metadata": {},
   "source": [
    "puedes rebanar conociendo la posición, es decir 'pos 0 pos 1 pos 2...'"
   ]
  },
  {
   "cell_type": "code",
   "execution_count": 51,
   "id": "94ebfa61-aebc-4504-a06d-8ac55b999180",
   "metadata": {},
   "outputs": [],
   "source": [
    "b= 'cadena'"
   ]
  },
  {
   "cell_type": "code",
   "execution_count": 53,
   "id": "9930ab4d-10eb-4d2c-8536-ceb92397363e",
   "metadata": {},
   "outputs": [
    {
     "data": {
      "text/plain": [
       "'n'"
      ]
     },
     "execution_count": 53,
     "metadata": {},
     "output_type": "execute_result"
    }
   ],
   "source": [
    "b[4]\n",
    "# toma la posición 2 del elemento b"
   ]
  },
  {
   "cell_type": "code",
   "execution_count": 54,
   "id": "d63c4356-7719-4284-89eb-a716b647b7c7",
   "metadata": {},
   "outputs": [
    {
     "data": {
      "text/plain": [
       "6"
      ]
     },
     "execution_count": 54,
     "metadata": {},
     "output_type": "execute_result"
    }
   ],
   "source": [
    "len(b)\n",
    "# otorga cuántos caracteres otorga la cadena"
   ]
  },
  {
   "cell_type": "code",
   "execution_count": 55,
   "id": "40398361-faef-4d48-93f1-b393125b3e1d",
   "metadata": {},
   "outputs": [
    {
     "data": {
      "text/plain": [
       "'hola jolines chayotes verdes'"
      ]
     },
     "execution_count": 55,
     "metadata": {},
     "output_type": "execute_result"
    }
   ],
   "source": [
    "a"
   ]
  },
  {
   "cell_type": "code",
   "execution_count": 58,
   "id": "011586b2-f64c-4035-b263-5e3a07cde466",
   "metadata": {},
   "outputs": [
    {
     "data": {
      "text/plain": [
       "'chayotes'"
      ]
     },
     "execution_count": 58,
     "metadata": {},
     "output_type": "execute_result"
    }
   ],
   "source": [
    "# la letra c tiene la posición 13\n",
    "# la letra s tiene la posición 20\n",
    "pos_i= 13\n",
    "pos_f= 20\n",
    "a[pos_i:pos_f+1]\n",
    "#tienes que agregar +1 para que no corte la cadena\n",
    "#Ejemplo del error\n",
    "# a[0:3] debería decir 'hola', pero al no sumar +1, corta la palabra a 'hol'\n"
   ]
  },
  {
   "cell_type": "code",
   "execution_count": 59,
   "id": "9b980b1f-3a60-45ab-88f1-095be563ebf8",
   "metadata": {},
   "outputs": [
    {
     "data": {
      "text/plain": [
       "'hol'"
      ]
     },
     "execution_count": 59,
     "metadata": {},
     "output_type": "execute_result"
    }
   ],
   "source": [
    "a[0:3]"
   ]
  },
  {
   "cell_type": "code",
   "execution_count": 60,
   "id": "b5a212e9-c740-4be9-901a-f0e242461f8a",
   "metadata": {},
   "outputs": [
    {
     "data": {
      "text/plain": [
       "' oie hyt'"
      ]
     },
     "execution_count": 60,
     "metadata": {},
     "output_type": "execute_result"
    }
   ],
   "source": [
    "a[4:20:2]\n",
    "# el rango funciona como range(pos_i, pos_f, salto)"
   ]
  },
  {
   "cell_type": "code",
   "execution_count": 62,
   "id": "64078bdf-03b7-47df-9524-4f54ffbe7e81",
   "metadata": {},
   "outputs": [
    {
     "data": {
      "text/plain": [
       "(28, 's', 's')"
      ]
     },
     "execution_count": 62,
     "metadata": {},
     "output_type": "execute_result"
    }
   ],
   "source": [
    "len(a), a[27], a[len(a)-1]\n",
    "# si tomas números negativos (que resten previo a la primera letra, se regresa al final de la cadena\n"
   ]
  },
  {
   "cell_type": "code",
   "execution_count": 63,
   "id": "afca81b8-d385-47fe-ab10-ea1455df17bb",
   "metadata": {},
   "outputs": [
    {
     "data": {
      "text/plain": [
       "'s'"
      ]
     },
     "execution_count": 63,
     "metadata": {},
     "output_type": "execute_result"
    }
   ],
   "source": [
    "a[-1]"
   ]
  },
  {
   "cell_type": "code",
   "execution_count": 64,
   "id": "2af03d06-7fec-4baf-afdd-bac411485f20",
   "metadata": {},
   "outputs": [
    {
     "data": {
      "text/plain": [
       "'v'"
      ]
     },
     "execution_count": 64,
     "metadata": {},
     "output_type": "execute_result"
    }
   ],
   "source": [
    "a[-6]"
   ]
  },
  {
   "cell_type": "code",
   "execution_count": 66,
   "id": "7651d1a5-4699-4d12-992a-19fd27cabbee",
   "metadata": {},
   "outputs": [
    {
     "data": {
      "text/plain": [
       "'verde'"
      ]
     },
     "execution_count": 66,
     "metadata": {},
     "output_type": "execute_result"
    }
   ],
   "source": [
    "a[-6:-1]"
   ]
  },
  {
   "cell_type": "markdown",
   "id": "f7f563e2-d64e-49e3-8652-b633b0fe7eae",
   "metadata": {},
   "source": [
    "¿y la 's'?"
   ]
  },
  {
   "cell_type": "code",
   "execution_count": 67,
   "id": "6f58ed78-bbdf-4ba2-94c3-377c97aa7537",
   "metadata": {},
   "outputs": [
    {
     "data": {
      "text/plain": [
       "'verdes'"
      ]
     },
     "execution_count": 67,
     "metadata": {},
     "output_type": "execute_result"
    }
   ],
   "source": [
    "a[-6:]\n",
    "# si no especificamos pos_f entonces el rango va hasta el final"
   ]
  },
  {
   "cell_type": "code",
   "execution_count": 69,
   "id": "3fb1360e-af52-44bf-a232-f50985db7dc5",
   "metadata": {},
   "outputs": [
    {
     "data": {
      "text/plain": [
       "'hola'"
      ]
     },
     "execution_count": 69,
     "metadata": {},
     "output_type": "execute_result"
    }
   ],
   "source": [
    "a[:4]\n",
    "# si no especifico pos_i entonces lo toma desde el inicio"
   ]
  },
  {
   "cell_type": "code",
   "execution_count": 70,
   "id": "52cae9fb-4c0a-4e96-8685-68636d03fb86",
   "metadata": {},
   "outputs": [
    {
     "data": {
      "text/plain": [
       "'hola jolines chayotes verdes'"
      ]
     },
     "execution_count": 70,
     "metadata": {},
     "output_type": "execute_result"
    }
   ],
   "source": [
    "a[:]"
   ]
  },
  {
   "cell_type": "code",
   "execution_count": 72,
   "id": "a603eea0-7461-4e8a-8731-568887d3c52c",
   "metadata": {},
   "outputs": [
    {
     "data": {
      "text/plain": [
       "'sedrev setoyahc seniloj aloh'"
      ]
     },
     "execution_count": 72,
     "metadata": {},
     "output_type": "execute_result"
    }
   ],
   "source": [
    "a[::-1]"
   ]
  },
  {
   "cell_type": "markdown",
   "id": "62a6c649-298e-4dc1-9a3e-b93facbf49a2",
   "metadata": {},
   "source": [
    "# Tarea"
   ]
  },
  {
   "cell_type": "code",
   "execution_count": null,
   "id": "dab011af-9122-45d2-994a-8be8300d6cd5",
   "metadata": {},
   "outputs": [],
   "source": [
    "¿qué es que una cadena sea inmutable?"
   ]
  }
 ],
 "metadata": {
  "kernelspec": {
   "display_name": "Python 3 (ipykernel)",
   "language": "python",
   "name": "python3"
  },
  "language_info": {
   "codemirror_mode": {
    "name": "ipython",
    "version": 3
   },
   "file_extension": ".py",
   "mimetype": "text/x-python",
   "name": "python",
   "nbconvert_exporter": "python",
   "pygments_lexer": "ipython3",
   "version": "3.10.4"
  }
 },
 "nbformat": 4,
 "nbformat_minor": 5
}
