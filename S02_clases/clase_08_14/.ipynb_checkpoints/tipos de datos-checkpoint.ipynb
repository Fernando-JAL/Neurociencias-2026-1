{
 "cells": [
  {
   "cell_type": "code",
   "execution_count": 1,
   "id": "04b9f986-02f5-49b8-aa57-d652bad82672",
   "metadata": {},
   "outputs": [],
   "source": [
    "a=1"
   ]
  },
  {
   "cell_type": "code",
   "execution_count": 2,
   "id": "514e0648-3e64-4431-9cae-73cd08bfa919",
   "metadata": {},
   "outputs": [],
   "source": [
    "b=2"
   ]
  },
  {
   "cell_type": "code",
   "execution_count": 3,
   "id": "01354aa3-82cd-43ac-9932-633c684ea378",
   "metadata": {},
   "outputs": [
    {
     "data": {
      "text/plain": [
       "(int, int)"
      ]
     },
     "execution_count": 3,
     "metadata": {},
     "output_type": "execute_result"
    }
   ],
   "source": [
    "type(a), type(b)"
   ]
  },
  {
   "cell_type": "code",
   "execution_count": 4,
   "id": "2cce8a80-7a39-4b42-ad3f-fc2a394b4470",
   "metadata": {},
   "outputs": [
    {
     "data": {
      "text/plain": [
       "float"
      ]
     },
     "execution_count": 4,
     "metadata": {},
     "output_type": "execute_result"
    }
   ],
   "source": [
    "type(1.2)"
   ]
  },
  {
   "cell_type": "markdown",
   "id": "8d30b2b9-0ae7-4539-bf14-db0b91f355a1",
   "metadata": {},
   "source": [
    "## Definición de complejos"
   ]
  },
  {
   "cell_type": "code",
   "execution_count": 5,
   "id": "38edc308-41a7-4ed7-8970-c7ffa0a82299",
   "metadata": {},
   "outputs": [
    {
     "data": {
      "text/plain": [
       "(1+3j)"
      ]
     },
     "execution_count": 5,
     "metadata": {},
     "output_type": "execute_result"
    }
   ],
   "source": [
    "complex(1,3)"
   ]
  },
  {
   "cell_type": "code",
   "execution_count": 6,
   "id": "b592c15d-b983-45de-85bb-69452d3a8be1",
   "metadata": {},
   "outputs": [
    {
     "data": {
      "text/plain": [
       "(4+7j)"
      ]
     },
     "execution_count": 6,
     "metadata": {},
     "output_type": "execute_result"
    }
   ],
   "source": [
    "complex(4,7)"
   ]
  },
  {
   "cell_type": "code",
   "execution_count": 7,
   "id": "ac470f74-b9e2-4f22-a7de-770ebb56fd4b",
   "metadata": {},
   "outputs": [
    {
     "data": {
      "text/plain": [
       "(8+17j)"
      ]
     },
     "execution_count": 7,
     "metadata": {},
     "output_type": "execute_result"
    }
   ],
   "source": [
    "complex(8,17)"
   ]
  },
  {
   "cell_type": "code",
   "execution_count": 8,
   "id": "88ba1923-4b33-41b8-9075-29ad823341c9",
   "metadata": {},
   "outputs": [
    {
     "data": {
      "text/plain": [
       "(3.21478+56j)"
      ]
     },
     "execution_count": 8,
     "metadata": {},
     "output_type": "execute_result"
    }
   ],
   "source": [
    "complex(3.21478, 56)"
   ]
  },
  {
   "cell_type": "code",
   "execution_count": 9,
   "id": "16f22944-7ded-45b1-ba88-c43dd8a1254b",
   "metadata": {},
   "outputs": [
    {
     "data": {
      "text/plain": [
       "1j"
      ]
     },
     "execution_count": 9,
     "metadata": {},
     "output_type": "execute_result"
    }
   ],
   "source": [
    "complex(0,1)"
   ]
  },
  {
   "cell_type": "code",
   "execution_count": 10,
   "id": "0782215c-0a67-42b4-9e6c-647afc7a3ae3",
   "metadata": {},
   "outputs": [
    {
     "data": {
      "text/plain": [
       "(3+3j)"
      ]
     },
     "execution_count": 10,
     "metadata": {},
     "output_type": "execute_result"
    }
   ],
   "source": [
    "complex(3,1) + complex(0,2)"
   ]
  },
  {
   "cell_type": "code",
   "execution_count": 11,
   "id": "038b8fa5-4fac-4423-9dff-bfd29ed82e64",
   "metadata": {},
   "outputs": [],
   "source": [
    "c=complex(3,1) + complex(0,2)"
   ]
  },
  {
   "cell_type": "code",
   "execution_count": 12,
   "id": "fb4d9900-8569-461d-89da-007b08fcbb8f",
   "metadata": {},
   "outputs": [
    {
     "data": {
      "text/plain": [
       "(3+3j)"
      ]
     },
     "execution_count": 12,
     "metadata": {},
     "output_type": "execute_result"
    }
   ],
   "source": [
    "c"
   ]
  },
  {
   "cell_type": "code",
   "execution_count": 13,
   "id": "6b6ee143-0d37-4caf-a0eb-8b0c7514c368",
   "metadata": {},
   "outputs": [
    {
     "data": {
      "text/plain": [
       "complex"
      ]
     },
     "execution_count": 13,
     "metadata": {},
     "output_type": "execute_result"
    }
   ],
   "source": [
    "type(c)"
   ]
  },
  {
   "cell_type": "markdown",
   "id": "ee8806b0-4ba2-4e92-b04e-b8d0ee673dba",
   "metadata": {},
   "source": [
    "## Operaciones con tipos de datos númericos"
   ]
  },
  {
   "cell_type": "code",
   "execution_count": 14,
   "id": "d22f4cd6-fb55-441a-9e41-d809990c48df",
   "metadata": {},
   "outputs": [
    {
     "data": {
      "text/plain": [
       "729"
      ]
     },
     "execution_count": 14,
     "metadata": {},
     "output_type": "execute_result"
    }
   ],
   "source": [
    "#Potencia\n",
    "\n",
    "3**6"
   ]
  },
  {
   "cell_type": "code",
   "execution_count": 15,
   "id": "4a358480-468a-4dd8-bd7e-6ccf7a8e4d2f",
   "metadata": {},
   "outputs": [
    {
     "ename": "SyntaxError",
     "evalue": "invalid syntax (33117700.py, line 1)",
     "output_type": "error",
     "traceback": [
      "\u001b[1;36m  Cell \u001b[1;32mIn[15], line 1\u001b[1;36m\u001b[0m\n\u001b[1;33m    //44\u001b[0m\n\u001b[1;37m    ^\u001b[0m\n\u001b[1;31mSyntaxError\u001b[0m\u001b[1;31m:\u001b[0m invalid syntax\n"
     ]
    }
   ],
   "source": [
    "//44"
   ]
  },
  {
   "cell_type": "code",
   "execution_count": 16,
   "id": "890daf96-00c7-44ad-a964-6490dac4c68d",
   "metadata": {},
   "outputs": [
    {
     "data": {
      "text/plain": [
       "3.1622776601683795"
      ]
     },
     "execution_count": 16,
     "metadata": {},
     "output_type": "execute_result"
    }
   ],
   "source": [
    "10**0.5"
   ]
  },
  {
   "cell_type": "code",
   "execution_count": 17,
   "id": "6fe0b5a9-bd52-4861-9c24-0b1b59a5b2d3",
   "metadata": {},
   "outputs": [
    {
     "data": {
      "text/plain": [
       "9.433981132056603"
      ]
     },
     "execution_count": 17,
     "metadata": {},
     "output_type": "execute_result"
    }
   ],
   "source": [
    "## Raíz cuadrada\n",
    "\n",
    "89**0.5"
   ]
  },
  {
   "cell_type": "code",
   "execution_count": 18,
   "id": "11f984a8-08ea-4432-8321-cb162b81ed5b",
   "metadata": {},
   "outputs": [
    {
     "data": {
      "text/plain": [
       "0"
      ]
     },
     "execution_count": 18,
     "metadata": {},
     "output_type": "execute_result"
    }
   ],
   "source": [
    "## Residuo\n",
    "\n",
    "16%4"
   ]
  },
  {
   "cell_type": "code",
   "execution_count": 1,
   "id": "eee2d0a6-5fab-46a6-b157-43bf328d747a",
   "metadata": {},
   "outputs": [],
   "source": [
    "a, b, c = 8, 3, 42"
   ]
  },
  {
   "cell_type": "code",
   "execution_count": 2,
   "id": "c6c1fb4e-4c24-414e-8b90-65cad3030a91",
   "metadata": {},
   "outputs": [
    {
     "data": {
      "text/plain": [
       "(8, 3, 42)"
      ]
     },
     "execution_count": 2,
     "metadata": {},
     "output_type": "execute_result"
    }
   ],
   "source": [
    "a,b,c"
   ]
  },
  {
   "cell_type": "code",
   "execution_count": 3,
   "id": "5c5074a7-cb13-4c46-adc9-938923d46808",
   "metadata": {},
   "outputs": [
    {
     "ename": "ZeroDivisionError",
     "evalue": "division by zero",
     "output_type": "error",
     "traceback": [
      "\u001b[1;31m---------------------------------------------------------------------------\u001b[0m",
      "\u001b[1;31mZeroDivisionError\u001b[0m                         Traceback (most recent call last)",
      "Cell \u001b[1;32mIn[3], line 1\u001b[0m\n\u001b[1;32m----> 1\u001b[0m c\u001b[38;5;241m/\u001b[39ma \u001b[38;5;241m+\u001b[39m a\u001b[38;5;241m*\u001b[39mb \u001b[38;5;241m-\u001b[39m \u001b[43ma\u001b[49m\u001b[38;5;241;43m*\u001b[39;49m\u001b[38;5;241;43m*\u001b[39;49m\u001b[43mb\u001b[49m\u001b[38;5;241;43m/\u001b[39;49m\u001b[43m(\u001b[49m\u001b[38;5;241;43m42\u001b[39;49m\u001b[38;5;241;43m%\u001b[39;49m\u001b[38;5;241;43m3\u001b[39;49m\u001b[43m)\u001b[49m\n",
      "\u001b[1;31mZeroDivisionError\u001b[0m: division by zero"
     ]
    }
   ],
   "source": [
    "c/a + a*b - a**b/(42%3)"
   ]
  },
  {
   "cell_type": "code",
   "execution_count": 4,
   "id": "6db8bbc9-fdf2-4e79-84bf-19dac89e6590",
   "metadata": {},
   "outputs": [
    {
     "data": {
      "text/plain": [
       "29.05952380952381"
      ]
     },
     "execution_count": 4,
     "metadata": {},
     "output_type": "execute_result"
    }
   ],
   "source": [
    "c/a + a*b - a**b/42%3"
   ]
  },
  {
   "cell_type": "markdown",
   "id": "7d636e72-aca2-4ff5-903a-baf3dc180e97",
   "metadata": {},
   "source": [
    "## Strings"
   ]
  },
  {
   "cell_type": "code",
   "execution_count": 5,
   "id": "68c8412a-9a1e-4407-aa7b-d3bebe48f4f6",
   "metadata": {},
   "outputs": [
    {
     "data": {
      "text/plain": [
       "'cadena de texto'"
      ]
     },
     "execution_count": 5,
     "metadata": {},
     "output_type": "execute_result"
    }
   ],
   "source": [
    "\"cadena de texto\""
   ]
  },
  {
   "cell_type": "code",
   "execution_count": 6,
   "id": "36339c28-36f2-490e-a305-dfd54d2ac0e4",
   "metadata": {},
   "outputs": [
    {
     "data": {
      "text/plain": [
       "'tambien cadena de texto'"
      ]
     },
     "execution_count": 6,
     "metadata": {},
     "output_type": "execute_result"
    }
   ],
   "source": [
    "'tambien cadena de texto'"
   ]
  },
  {
   "cell_type": "code",
   "execution_count": 7,
   "id": "45ba5c1e-0aec-4f44-9e70-bdae1e19d789",
   "metadata": {},
   "outputs": [],
   "source": [
    "a, b = 'cadena de texto 1', 'cadena de texto2'"
   ]
  },
  {
   "cell_type": "code",
   "execution_count": 8,
   "id": "680a7d0e-f2da-4ede-9845-663267ce8a73",
   "metadata": {},
   "outputs": [
    {
     "data": {
      "text/plain": [
       "('cadena de texto 1', 'cadena de texto2')"
      ]
     },
     "execution_count": 8,
     "metadata": {},
     "output_type": "execute_result"
    }
   ],
   "source": [
    "a,b"
   ]
  },
  {
   "cell_type": "code",
   "execution_count": 10,
   "id": "290fa59d-967e-4960-b1b4-4dab2e4243bb",
   "metadata": {},
   "outputs": [
    {
     "name": "stdout",
     "output_type": "stream",
     "text": [
      "cadena de texto 1 cadena de texto2 lolololol low-key\n"
     ]
    }
   ],
   "source": [
    "print(a,b,'lolololol', 'low-key')"
   ]
  },
  {
   "cell_type": "code",
   "execution_count": 12,
   "id": "472722b9-3835-45bf-a2f1-fb009661edb3",
   "metadata": {},
   "outputs": [
    {
     "name": "stdout",
     "output_type": "stream",
     "text": [
      "cadena de texto 1 cadena de texto2 \t lololol low-key\n"
     ]
    }
   ],
   "source": [
    "## /t es tabulador\n",
    "print(a,b,'\\t','lololol','low-key')"
   ]
  },
  {
   "cell_type": "code",
   "execution_count": 13,
   "id": "17373cdf-b1ca-48bf-84fd-cb4f2d68b29d",
   "metadata": {},
   "outputs": [
    {
     "name": "stdout",
     "output_type": "stream",
     "text": [
      "cadena de texto 1 cadena de texto2 \n",
      " lololol low-key\n"
     ]
    }
   ],
   "source": [
    "## \\n es salto de l[inea\n",
    "print(a,b,'\\n','lololol','low-key')"
   ]
  },
  {
   "cell_type": "code",
   "execution_count": 15,
   "id": "db95ac8a-e633-4756-8930-d62053c0680c",
   "metadata": {},
   "outputs": [
    {
     "name": "stdout",
     "output_type": "stream",
     "text": [
      "C:\n",
      "onono\tototo\n"
     ]
    }
   ],
   "source": [
    "print('C:\\nonono\\tototo')"
   ]
  },
  {
   "cell_type": "code",
   "execution_count": 16,
   "id": "2002a443-9413-4308-ad85-ab568707f4a6",
   "metadata": {},
   "outputs": [
    {
     "name": "stdout",
     "output_type": "stream",
     "text": [
      "C:\\nonono\\tototo\n"
     ]
    }
   ],
   "source": [
    "print(r'C:\\nonono\\tototo')"
   ]
  },
  {
   "cell_type": "code",
   "execution_count": 17,
   "id": "f44a13a9-3b43-4344-89b4-19fe4cd231ae",
   "metadata": {},
   "outputs": [
    {
     "name": "stdout",
     "output_type": "stream",
     "text": [
      "uno\n",
      "dos\n",
      "tres\n"
     ]
    }
   ],
   "source": [
    "print(\"\"\"uno\n",
    "dos\n",
    "tres\"\"\")"
   ]
  },
  {
   "cell_type": "code",
   "execution_count": 18,
   "id": "4e2bdbe9-9a4d-4543-b1b8-a7a8a228a211",
   "metadata": {},
   "outputs": [
    {
     "data": {
      "text/plain": [
       "'lololnonono'"
      ]
     },
     "execution_count": 18,
     "metadata": {},
     "output_type": "execute_result"
    }
   ],
   "source": [
    "## + con strings las concatena (junta)\n",
    "a='lolol'\n",
    "b='nonono'\n",
    "a+b"
   ]
  },
  {
   "cell_type": "code",
   "execution_count": 19,
   "id": "efde42c6-238f-465b-acc2-437dbb93cacf",
   "metadata": {},
   "outputs": [
    {
     "ename": "TypeError",
     "evalue": "can't multiply sequence by non-int of type 'str'",
     "output_type": "error",
     "traceback": [
      "\u001b[1;31m---------------------------------------------------------------------------\u001b[0m",
      "\u001b[1;31mTypeError\u001b[0m                                 Traceback (most recent call last)",
      "Cell \u001b[1;32mIn[19], line 1\u001b[0m\n\u001b[1;32m----> 1\u001b[0m \u001b[43ma\u001b[49m\u001b[38;5;241;43m*\u001b[39;49m\u001b[43mb\u001b[49m\n",
      "\u001b[1;31mTypeError\u001b[0m: can't multiply sequence by non-int of type 'str'"
     ]
    }
   ],
   "source": [
    "a*b"
   ]
  },
  {
   "cell_type": "code",
   "execution_count": 20,
   "id": "9c20416b-773b-4229-9e05-afa489530e4a",
   "metadata": {},
   "outputs": [
    {
     "ename": "TypeError",
     "evalue": "unsupported operand type(s) for -: 'str' and 'str'",
     "output_type": "error",
     "traceback": [
      "\u001b[1;31m---------------------------------------------------------------------------\u001b[0m",
      "\u001b[1;31mTypeError\u001b[0m                                 Traceback (most recent call last)",
      "Cell \u001b[1;32mIn[20], line 1\u001b[0m\n\u001b[1;32m----> 1\u001b[0m \u001b[43ma\u001b[49m\u001b[38;5;241;43m-\u001b[39;49m\u001b[43mb\u001b[49m\n",
      "\u001b[1;31mTypeError\u001b[0m: unsupported operand type(s) for -: 'str' and 'str'"
     ]
    }
   ],
   "source": [
    "a-b"
   ]
  },
  {
   "cell_type": "code",
   "execution_count": 21,
   "id": "dd3033cd-57bd-4001-9827-6e442a17f733",
   "metadata": {},
   "outputs": [
    {
     "ename": "TypeError",
     "evalue": "unsupported operand type(s) for /: 'str' and 'str'",
     "output_type": "error",
     "traceback": [
      "\u001b[1;31m---------------------------------------------------------------------------\u001b[0m",
      "\u001b[1;31mTypeError\u001b[0m                                 Traceback (most recent call last)",
      "Cell \u001b[1;32mIn[21], line 1\u001b[0m\n\u001b[1;32m----> 1\u001b[0m \u001b[43ma\u001b[49m\u001b[38;5;241;43m/\u001b[39;49m\u001b[43mb\u001b[49m\n",
      "\u001b[1;31mTypeError\u001b[0m: unsupported operand type(s) for /: 'str' and 'str'"
     ]
    }
   ],
   "source": [
    "a/b"
   ]
  },
  {
   "cell_type": "code",
   "execution_count": 22,
   "id": "dde59c83-8934-4f4b-929a-a563fc341238",
   "metadata": {},
   "outputs": [
    {
     "ename": "TypeError",
     "evalue": "unsupported operand type(s) for ** or pow(): 'str' and 'str'",
     "output_type": "error",
     "traceback": [
      "\u001b[1;31m---------------------------------------------------------------------------\u001b[0m",
      "\u001b[1;31mTypeError\u001b[0m                                 Traceback (most recent call last)",
      "Cell \u001b[1;32mIn[22], line 1\u001b[0m\n\u001b[1;32m----> 1\u001b[0m \u001b[43ma\u001b[49m\u001b[38;5;241;43m*\u001b[39;49m\u001b[38;5;241;43m*\u001b[39;49m\u001b[43mb\u001b[49m\n",
      "\u001b[1;31mTypeError\u001b[0m: unsupported operand type(s) for ** or pow(): 'str' and 'str'"
     ]
    }
   ],
   "source": [
    "a**b"
   ]
  },
  {
   "cell_type": "code",
   "execution_count": 23,
   "id": "b6092ab9-7cf8-4746-bceb-24c499bf9fea",
   "metadata": {},
   "outputs": [
    {
     "ename": "TypeError",
     "evalue": "not all arguments converted during string formatting",
     "output_type": "error",
     "traceback": [
      "\u001b[1;31m---------------------------------------------------------------------------\u001b[0m",
      "\u001b[1;31mTypeError\u001b[0m                                 Traceback (most recent call last)",
      "Cell \u001b[1;32mIn[23], line 1\u001b[0m\n\u001b[1;32m----> 1\u001b[0m \u001b[43ma\u001b[49m\u001b[38;5;241;43m%\u001b[39;49m\u001b[43mb\u001b[49m\n",
      "\u001b[1;31mTypeError\u001b[0m: not all arguments converted during string formatting"
     ]
    }
   ],
   "source": [
    "a%b"
   ]
  },
  {
   "cell_type": "code",
   "execution_count": 24,
   "id": "478e9597-a3a5-4a75-90a8-24b9dee5b343",
   "metadata": {},
   "outputs": [
    {
     "data": {
      "text/plain": [
       "'lolollolollolollolollolol'"
      ]
     },
     "execution_count": 24,
     "metadata": {},
     "output_type": "execute_result"
    }
   ],
   "source": [
    "# la multiplicación * repite la cadena y la concatena\n",
    "5*a"
   ]
  },
  {
   "cell_type": "code",
   "execution_count": 25,
   "id": "3b35e615-c04d-4320-ae8d-ecdc855c7a5c",
   "metadata": {},
   "outputs": [
    {
     "data": {
      "text/plain": [
       "'lolollolollololnonononononololol'"
      ]
     },
     "execution_count": 25,
     "metadata": {},
     "output_type": "execute_result"
    }
   ],
   "source": [
    "3*a+2*b+a"
   ]
  },
  {
   "cell_type": "markdown",
   "id": "8d177ce2-79bb-4e36-82bc-89615e26300e",
   "metadata": {},
   "source": [
    "## slicing"
   ]
  },
  {
   "cell_type": "code",
   "execution_count": 26,
   "id": "569c1a54-3c1e-4ec7-acc8-6bcb000a69db",
   "metadata": {},
   "outputs": [],
   "source": [
    "a='hola yuli arbol lluvia terreno avión'"
   ]
  },
  {
   "cell_type": "code",
   "execution_count": 27,
   "id": "20c4513c-af61-4eb4-9a9b-8de093b1eded",
   "metadata": {},
   "outputs": [
    {
     "data": {
      "text/plain": [
       "'hola yuli arbol lluvia terreno avión'"
      ]
     },
     "execution_count": 27,
     "metadata": {},
     "output_type": "execute_result"
    }
   ],
   "source": [
    "a"
   ]
  },
  {
   "cell_type": "code",
   "execution_count": 29,
   "id": "54bc743b-c340-41ea-87da-22ea5b100515",
   "metadata": {},
   "outputs": [
    {
     "data": {
      "text/plain": [
       "'y'"
      ]
     },
     "execution_count": 29,
     "metadata": {},
     "output_type": "execute_result"
    }
   ],
   "source": [
    "##la computadora asigna una posición partiendo del 0 a cada caracter\n",
    "a[5]"
   ]
  },
  {
   "cell_type": "code",
   "execution_count": 32,
   "id": "94d3352c-04f4-40b0-8c0e-dc449d1726e3",
   "metadata": {},
   "outputs": [
    {
     "data": {
      "text/plain": [
       "36"
      ]
     },
     "execution_count": 32,
     "metadata": {},
     "output_type": "execute_result"
    }
   ],
   "source": [
    "#longitud de la cadena\n",
    "len(a)"
   ]
  },
  {
   "cell_type": "code",
   "execution_count": 34,
   "id": "0aac4faa-37fc-43fb-8f56-841e8b4babfb",
   "metadata": {},
   "outputs": [
    {
     "data": {
      "text/plain": [
       "'yuli'"
      ]
     },
     "execution_count": 34,
     "metadata": {},
     "output_type": "execute_result"
    }
   ],
   "source": [
    "#obtener una palabra completa con un rango de posiciones\n",
    "a[5:9]"
   ]
  },
  {
   "cell_type": "code",
   "execution_count": 37,
   "id": "41bdced5-2a9c-43b6-ae85-491fb50b2bf6",
   "metadata": {},
   "outputs": [
    {
     "data": {
      "text/plain": [
       "'yuli'"
      ]
     },
     "execution_count": 37,
     "metadata": {},
     "output_type": "execute_result"
    }
   ],
   "source": [
    "pos_i=5\n",
    "pos_final=8\n",
    "a[pos_i: pos_final+1]"
   ]
  },
  {
   "cell_type": "code",
   "execution_count": 41,
   "id": "f465d133-d53d-4dd3-b700-4e1ec4dfaae9",
   "metadata": {},
   "outputs": [
    {
     "data": {
      "text/plain": [
       "'yl ro lv'"
      ]
     },
     "execution_count": 41,
     "metadata": {},
     "output_type": "execute_result"
    }
   ],
   "source": [
    "#el rango funciona como range(pos_inicial:pos_final:salto)\n",
    "a[5:20:2]"
   ]
  },
  {
   "cell_type": "code",
   "execution_count": 42,
   "id": "c436d9a3-dda1-4b8d-b218-e1eff362d00c",
   "metadata": {},
   "outputs": [
    {
     "data": {
      "text/plain": [
       "'n'"
      ]
     },
     "execution_count": 42,
     "metadata": {},
     "output_type": "execute_result"
    }
   ],
   "source": [
    "a[-1]"
   ]
  },
  {
   "cell_type": "code",
   "execution_count": 43,
   "id": "7395c745-3075-422f-b466-bf75bc09727a",
   "metadata": {},
   "outputs": [
    {
     "data": {
      "text/plain": [
       "'hola yuli arbol lluvia terreno avión'"
      ]
     },
     "execution_count": 43,
     "metadata": {},
     "output_type": "execute_result"
    }
   ],
   "source": [
    "# inicio:final\n",
    "a[:]"
   ]
  },
  {
   "cell_type": "code",
   "execution_count": 44,
   "id": "dd158d60-6f69-4341-bff9-9ae70e5f2d9b",
   "metadata": {},
   "outputs": [
    {
     "data": {
      "text/plain": [
       "' yuli arbol lluvia terreno avión'"
      ]
     },
     "execution_count": 44,
     "metadata": {},
     "output_type": "execute_result"
    }
   ],
   "source": [
    "a[4:]"
   ]
  },
  {
   "cell_type": "code",
   "execution_count": 45,
   "id": "fd72b481-8c88-4b5f-bcc7-df6c1b4a9cd4",
   "metadata": {},
   "outputs": [
    {
     "data": {
      "text/plain": [
       "' yuli '"
      ]
     },
     "execution_count": 45,
     "metadata": {},
     "output_type": "execute_result"
    }
   ],
   "source": [
    "a[4:10]"
   ]
  },
  {
   "cell_type": "code",
   "execution_count": 46,
   "id": "cddc14ba-e116-42fd-8aff-4c32a515d2ad",
   "metadata": {},
   "outputs": [
    {
     "data": {
      "text/plain": [
       "'hola yuli arbol'"
      ]
     },
     "execution_count": 46,
     "metadata": {},
     "output_type": "execute_result"
    }
   ],
   "source": [
    "a[:15]"
   ]
  },
  {
   "cell_type": "code",
   "execution_count": 47,
   "id": "1a29d0ea-4d0b-4846-b8fe-765606c3d54e",
   "metadata": {},
   "outputs": [
    {
     "data": {
      "text/plain": [
       "'nóiva onerret aivull lobra iluy aloh'"
      ]
     },
     "execution_count": 47,
     "metadata": {},
     "output_type": "execute_result"
    }
   ],
   "source": [
    "a[::-1]"
   ]
  },
  {
   "cell_type": "markdown",
   "id": "214d231c-3484-4a19-851b-ede8aba342d6",
   "metadata": {},
   "source": [
    "## tarea"
   ]
  },
  {
   "cell_type": "markdown",
   "id": "6b3d2445-1fe5-4616-97ca-645dacf286b9",
   "metadata": {},
   "source": [
    "¿que significa que una cadena sea inmutable"
   ]
  },
  {
   "cell_type": "code",
   "execution_count": null,
   "id": "f4b2169f-f82c-46d7-a233-47ed881acb61",
   "metadata": {},
   "outputs": [],
   "source": []
  }
 ],
 "metadata": {
  "kernelspec": {
   "display_name": "Python 3 (ipykernel)",
   "language": "python",
   "name": "python3"
  },
  "language_info": {
   "codemirror_mode": {
    "name": "ipython",
    "version": 3
   },
   "file_extension": ".py",
   "mimetype": "text/x-python",
   "name": "python",
   "nbconvert_exporter": "python",
   "pygments_lexer": "ipython3",
   "version": "3.10.4"
  }
 },
 "nbformat": 4,
 "nbformat_minor": 5
}
