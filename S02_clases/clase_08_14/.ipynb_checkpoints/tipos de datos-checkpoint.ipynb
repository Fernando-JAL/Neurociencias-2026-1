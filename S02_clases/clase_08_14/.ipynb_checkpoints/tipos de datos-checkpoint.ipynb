{
 "cells": [
  {
   "cell_type": "markdown",
   "id": "e268543b-8b1d-4e2f-91ea-d9b8fdb67c07",
   "metadata": {
    "jp-MarkdownHeadingCollapsed": true
   },
   "source": [
    "# Tipos de datos \n",
    "\n",
    "- numerico -> ej. 1,2,3\n",
    "- string\n",
    "- sequence\n",
    "- dict"
   ]
  },
  {
   "cell_type": "code",
   "execution_count": 4,
   "id": "6927a87f-65cd-429c-b752-2cab48c762fb",
   "metadata": {},
   "outputs": [],
   "source": [
    "a=1"
   ]
  },
  {
   "cell_type": "code",
   "execution_count": 5,
   "id": "2a010b89-b489-4583-8430-a87e6abb1aac",
   "metadata": {},
   "outputs": [],
   "source": [
    "b=-123456789"
   ]
  },
  {
   "cell_type": "code",
   "execution_count": 6,
   "id": "651382f7-43ae-4efc-9e44-8f74aa687fcf",
   "metadata": {},
   "outputs": [
    {
     "data": {
      "text/plain": [
       "(int, int)"
      ]
     },
     "execution_count": 6,
     "metadata": {},
     "output_type": "execute_result"
    }
   ],
   "source": [
    "type(a),type(b)"
   ]
  },
  {
   "cell_type": "code",
   "execution_count": 7,
   "id": "f5728480-e1d4-43e6-b168-4ad773828aa4",
   "metadata": {},
   "outputs": [
    {
     "data": {
      "text/plain": [
       "float"
      ]
     },
     "execution_count": 7,
     "metadata": {},
     "output_type": "execute_result"
    }
   ],
   "source": [
    "type(1.2)"
   ]
  },
  {
   "cell_type": "markdown",
   "id": "0cdc6c62-1679-4a0d-bac0-123a9c64b71f",
   "metadata": {
    "jp-MarkdownHeadingCollapsed": true
   },
   "source": [
    "## Definición de complejos\n"
   ]
  },
  {
   "cell_type": "code",
   "execution_count": 10,
   "id": "c8776d87-ab83-435f-a901-5203c4219ddc",
   "metadata": {},
   "outputs": [
    {
     "data": {
      "text/plain": [
       "(1+3j)"
      ]
     },
     "execution_count": 10,
     "metadata": {},
     "output_type": "execute_result"
    }
   ],
   "source": [
    "complex(1,3)"
   ]
  },
  {
   "cell_type": "code",
   "execution_count": 16,
   "id": "c6424dd6-c6ed-4606-9c0a-5b8196de81e7",
   "metadata": {},
   "outputs": [
    {
     "data": {
      "text/plain": [
       "1j"
      ]
     },
     "execution_count": 16,
     "metadata": {},
     "output_type": "execute_result"
    }
   ],
   "source": [
    "complex(0,1)"
   ]
  },
  {
   "cell_type": "code",
   "execution_count": 15,
   "id": "8b9f3151-f708-40a4-9118-83b8de77d0b6",
   "metadata": {},
   "outputs": [
    {
     "data": {
      "text/plain": [
       "(3+1j)"
      ]
     },
     "execution_count": 15,
     "metadata": {},
     "output_type": "execute_result"
    }
   ],
   "source": [
    "complex(0,1)+3"
   ]
  },
  {
   "cell_type": "code",
   "execution_count": 17,
   "id": "e1ca0b8c-136d-47e4-b992-bc5d8f6d17f2",
   "metadata": {},
   "outputs": [
    {
     "data": {
      "text/plain": [
       "(3+3j)"
      ]
     },
     "execution_count": 17,
     "metadata": {},
     "output_type": "execute_result"
    }
   ],
   "source": [
    "#quiero sumar 2j al valor de c\n",
    "complex(3,1)+complex(0,2)"
   ]
  },
  {
   "cell_type": "code",
   "execution_count": 18,
   "id": "6fd94a94-ae22-40af-b3de-7baa680324af",
   "metadata": {},
   "outputs": [],
   "source": [
    "#o tambien (lo que hizo el profe)\n",
    "c= complex(3,1)\n"
   ]
  },
  {
   "cell_type": "code",
   "execution_count": 19,
   "id": "e2a2f50d-78be-4781-9feb-bfdd7c9b7a48",
   "metadata": {},
   "outputs": [
    {
     "data": {
      "text/plain": [
       "(3+3j)"
      ]
     },
     "execution_count": 19,
     "metadata": {},
     "output_type": "execute_result"
    }
   ],
   "source": [
    "complex(0,2)+c"
   ]
  },
  {
   "cell_type": "code",
   "execution_count": 20,
   "id": "82dd43ac-e759-4e9a-b847-d461ce8201a3",
   "metadata": {},
   "outputs": [
    {
     "data": {
      "text/plain": [
       "complex"
      ]
     },
     "execution_count": 20,
     "metadata": {},
     "output_type": "execute_result"
    }
   ],
   "source": [
    "type(c)"
   ]
  },
  {
   "cell_type": "markdown",
   "id": "fedd07b2-4938-454c-bec3-61324a239a4e",
   "metadata": {
    "jp-MarkdownHeadingCollapsed": true
   },
   "source": [
    "# Operaciones con tipos de datos númericos"
   ]
  },
  {
   "cell_type": "code",
   "execution_count": 21,
   "id": "5ef4690f-68ca-4ead-aa11-01ef8af0e99e",
   "metadata": {},
   "outputs": [
    {
     "data": {
      "text/plain": [
       "783"
      ]
     },
     "execution_count": 21,
     "metadata": {},
     "output_type": "execute_result"
    }
   ],
   "source": [
    "56+44"
   ]
  },
  {
   "cell_type": "code",
   "execution_count": 22,
   "id": "36fe749f-741e-42e9-bfe2-8aa95a1ee1a4",
   "metadata": {},
   "outputs": [
    {
     "data": {
      "text/plain": [
       "720"
      ]
     },
     "execution_count": 22,
     "metadata": {},
     "output_type": "execute_result"
    }
   ],
   "source": [
    "800-80"
   ]
  },
  {
   "cell_type": "code",
   "execution_count": 23,
   "id": "53a6bb5f-f56a-44fa-8785-4a8001419d45",
   "metadata": {},
   "outputs": [
    {
     "data": {
      "text/plain": [
       "783"
      ]
     },
     "execution_count": 23,
     "metadata": {},
     "output_type": "execute_result"
    }
   ],
   "source": [
    "87*9"
   ]
  },
  {
   "cell_type": "code",
   "execution_count": 24,
   "id": "8207bd62-dd46-4a45-9443-9f8a00965960",
   "metadata": {},
   "outputs": [
    {
     "data": {
      "text/plain": [
       "1.8521739130434782"
      ]
     },
     "execution_count": 24,
     "metadata": {},
     "output_type": "execute_result"
    }
   ],
   "source": [
    "85.2/46"
   ]
  },
  {
   "cell_type": "code",
   "execution_count": 25,
   "id": "80d9c66d-10a4-4d3b-93e3-cbcc5178b8b6",
   "metadata": {},
   "outputs": [
    {
     "data": {
      "text/plain": [
       "9"
      ]
     },
     "execution_count": 25,
     "metadata": {},
     "output_type": "execute_result"
    }
   ],
   "source": [
    "# elevar al cuadrado\n",
    "3**2"
   ]
  },
  {
   "cell_type": "code",
   "execution_count": 27,
   "id": "1482b2b5-ce29-4327-8f8c-ed843faa3c19",
   "metadata": {},
   "outputs": [
    {
     "data": {
      "text/plain": [
       "3.0"
      ]
     },
     "execution_count": 27,
     "metadata": {},
     "output_type": "execute_result"
    }
   ],
   "source": [
    "#raíz cuadrada\n",
    "9**0.5"
   ]
  },
  {
   "cell_type": "code",
   "execution_count": 28,
   "id": "148a374d-7274-47a1-b6ca-c7d8d4740a40",
   "metadata": {},
   "outputs": [
    {
     "data": {
      "text/plain": [
       "0"
      ]
     },
     "execution_count": 28,
     "metadata": {},
     "output_type": "execute_result"
    }
   ],
   "source": [
    "# calcular residuo de una división\n",
    "16%4 "
   ]
  },
  {
   "cell_type": "code",
   "execution_count": 29,
   "id": "8261a1ec-5ce8-4ee3-9bd0-7bb16f0a94a7",
   "metadata": {},
   "outputs": [
    {
     "data": {
      "text/plain": [
       "4"
      ]
     },
     "execution_count": 29,
     "metadata": {},
     "output_type": "execute_result"
    }
   ],
   "source": [
    "# para calcular el cociente o división entera\n",
    "16//4"
   ]
  },
  {
   "cell_type": "code",
   "execution_count": 30,
   "id": "fa02d3b9-a8c3-48e0-a5b0-d6c8f6d2e310",
   "metadata": {},
   "outputs": [],
   "source": [
    "a=8\n",
    "b=3\n",
    "c=42"
   ]
  },
  {
   "cell_type": "code",
   "execution_count": 32,
   "id": "49421fab-8d44-435b-bcc8-66bc81f97df3",
   "metadata": {},
   "outputs": [
    {
     "data": {
      "text/plain": [
       "(8, 3, 42)"
      ]
     },
     "execution_count": 32,
     "metadata": {},
     "output_type": "execute_result"
    }
   ],
   "source": [
    "#tambien se pueden definir los valores en una sola línea\n",
    "a, b,c= 8,3,42"
   ]
  },
  {
   "cell_type": "code",
   "execution_count": 41,
   "id": "d19f8cca-578e-42c1-b2c5-ed8cb2c261f8",
   "metadata": {},
   "outputs": [
    {
     "ename": "ZeroDivisionError",
     "evalue": "division by zero",
     "output_type": "error",
     "traceback": [
      "\u001b[31m---------------------------------------------------------------------------\u001b[39m",
      "\u001b[31mZeroDivisionError\u001b[39m                         Traceback (most recent call last)",
      "\u001b[36mCell\u001b[39m\u001b[36m \u001b[39m\u001b[32mIn[41]\u001b[39m\u001b[32m, line 1\u001b[39m\n\u001b[32m----> \u001b[39m\u001b[32m1\u001b[39m (c/a)+(a*b)-(\u001b[43m(\u001b[49m\u001b[43ma\u001b[49m\u001b[43m*\u001b[49m\u001b[43m*\u001b[49m\u001b[43mb\u001b[49m\u001b[43m)\u001b[49m\u001b[43m/\u001b[49m\u001b[43m(\u001b[49m\u001b[32;43m42\u001b[39;49m\u001b[43m%\u001b[49m\u001b[32;43m3\u001b[39;49m\u001b[43m)\u001b[49m)\n",
      "\u001b[31mZeroDivisionError\u001b[39m: division by zero"
     ]
    }
   ],
   "source": [
    "c/a+a*b-a**b/(42%3)"
   ]
  },
  {
   "cell_type": "markdown",
   "id": "fd508969-9352-4497-9568-618dafdb384c",
   "metadata": {},
   "source": [
    "# Strings"
   ]
  },
  {
   "cell_type": "code",
   "execution_count": 42,
   "id": "e3e4f252-f3c3-4bc0-bdf7-91e958f4d719",
   "metadata": {},
   "outputs": [
    {
     "data": {
      "text/plain": [
       "'esto es una cadena de texto'"
      ]
     },
     "execution_count": 42,
     "metadata": {},
     "output_type": "execute_result"
    }
   ],
   "source": [
    "\"esto es una cadena de texto\""
   ]
  },
  {
   "cell_type": "code",
   "execution_count": 43,
   "id": "67739c51-ce71-4778-bc07-26eafc3636c9",
   "metadata": {},
   "outputs": [
    {
     "data": {
      "text/plain": [
       "'esto es una cadena de tecto'"
      ]
     },
     "execution_count": 43,
     "metadata": {},
     "output_type": "execute_result"
    }
   ],
   "source": [
    "'esto es una cadena de texto'"
   ]
  },
  {
   "cell_type": "code",
   "execution_count": 59,
   "id": "2d0fe51e-b35f-4dbf-a729-36a4af125287",
   "metadata": {},
   "outputs": [
    {
     "data": {
      "text/plain": [
       "('cadena de texto 1', 'cadena de texto 2')"
      ]
     },
     "execution_count": 59,
     "metadata": {},
     "output_type": "execute_result"
    }
   ],
   "source": [
    "a, b ='cadena de texto 1','cadena de texto 2'\n",
    "a, b"
   ]
  },
  {
   "cell_type": "code",
   "execution_count": 100,
   "id": "97b96271-6dd9-4c41-aaa6-91dcd9b20fcd",
   "metadata": {},
   "outputs": [],
   "source": [
    "del print"
   ]
  },
  {
   "cell_type": "code",
   "execution_count": 101,
   "id": "c5a2a973-ff6d-44df-8f6d-55b8ee69c17f",
   "metadata": {},
   "outputs": [
    {
     "name": "stdout",
     "output_type": "stream",
     "text": [
      "hola jolines chayotes verdes cadena otra cosa 89.5 lo que sea\n"
     ]
    }
   ],
   "source": [
    "\n",
    "print(a, b, 'otra cosa', 89.5, 'lo que sea')\n",
    "#la cadena \\t y \\n"
   ]
  },
  {
   "cell_type": "code",
   "execution_count": 102,
   "id": "6287607f-a4a2-4468-9313-7580633b9b85",
   "metadata": {},
   "outputs": [
    {
     "name": "stdout",
     "output_type": "stream",
     "text": [
      "C:\n",
      "ombre_de_la_carpeta\tareas\n"
     ]
    }
   ],
   "source": [
    "print('C:\\nombre_de_la_carpeta\\tareas')"
   ]
  },
  {
   "cell_type": "code",
   "execution_count": 103,
   "id": "864e7f87-7ea7-4887-a83e-08393cf0726c",
   "metadata": {},
   "outputs": [
    {
     "name": "stdout",
     "output_type": "stream",
     "text": [
      "C:\\nombre_de_la_carpeta\\tareas\n"
     ]
    }
   ],
   "source": [
    "print(r'C:\\nombre_de_la_carpeta\\tareas')"
   ]
  },
  {
   "cell_type": "code",
   "execution_count": 104,
   "id": "e4d1131f-56ef-40a8-8f99-03bf8d5b819e",
   "metadata": {},
   "outputs": [
    {
     "name": "stdout",
     "output_type": "stream",
     "text": [
      "primera línea de texto\n",
      "segunda línea de texto\n",
      "tercera línea de texto\n"
     ]
    }
   ],
   "source": [
    "print(\"\"\"primera línea de texto\n",
    "segunda línea de texto\n",
    "tercera línea de texto\"\"\")"
   ]
  },
  {
   "cell_type": "code",
   "execution_count": 68,
   "id": "fcddb8ea-db19-48a9-be9a-8996c014296a",
   "metadata": {},
   "outputs": [],
   "source": [
    "a, b = 'ah','be'"
   ]
  },
  {
   "cell_type": "code",
   "execution_count": 69,
   "id": "a0f7531c-8978-479c-ab11-00c30211d2f0",
   "metadata": {},
   "outputs": [
    {
     "data": {
      "text/plain": [
       "'ahbe'"
      ]
     },
     "execution_count": 69,
     "metadata": {},
     "output_type": "execute_result"
    }
   ],
   "source": [
    "a+b"
   ]
  },
  {
   "cell_type": "code",
   "execution_count": 71,
   "id": "48243640-33d7-46d4-92a3-6842337d35c5",
   "metadata": {},
   "outputs": [
    {
     "data": {
      "text/plain": [
       "'ahahahbebeah'"
      ]
     },
     "execution_count": 71,
     "metadata": {},
     "output_type": "execute_result"
    }
   ],
   "source": [
    "3*a + 2*b + a"
   ]
  },
  {
   "cell_type": "code",
   "execution_count": 72,
   "id": "0da1a75f-286c-41a4-a093-4ce3f992dc61",
   "metadata": {},
   "outputs": [
    {
     "data": {
      "text/plain": [
       "'ahahah'"
      ]
     },
     "execution_count": 72,
     "metadata": {},
     "output_type": "execute_result"
    }
   ],
   "source": [
    "a*3"
   ]
  },
  {
   "cell_type": "code",
   "execution_count": 73,
   "id": "3d83f7a7-1320-4b48-b462-ad4d373627fd",
   "metadata": {},
   "outputs": [
    {
     "data": {
      "text/plain": [
       "('ahbe', 'beah')"
      ]
     },
     "execution_count": 73,
     "metadata": {},
     "output_type": "execute_result"
    }
   ],
   "source": [
    "a+b,b+a"
   ]
  },
  {
   "cell_type": "markdown",
   "id": "bac9ef41-053c-4d1c-86a0-9edbea451c1e",
   "metadata": {},
   "source": [
    "## Slicing = rebanado"
   ]
  },
  {
   "cell_type": "code",
   "execution_count": 82,
   "id": "b25a4aa6-59b0-4389-91e7-de1811dc3bdd",
   "metadata": {},
   "outputs": [],
   "source": [
    "a= 'hola jolines chayotes verdes'"
   ]
  },
  {
   "cell_type": "code",
   "execution_count": 75,
   "id": "40a9b5e2-4d2e-4604-8cc9-3f60b847e877",
   "metadata": {},
   "outputs": [],
   "source": [
    "b='cadena'"
   ]
  },
  {
   "cell_type": "code",
   "execution_count": 76,
   "id": "379c3ff7-3233-4404-a7b5-1fe3a9661657",
   "metadata": {},
   "outputs": [
    {
     "data": {
      "text/plain": [
       "'d'"
      ]
     },
     "execution_count": 76,
     "metadata": {},
     "output_type": "execute_result"
    }
   ],
   "source": [
    "b[2]"
   ]
  },
  {
   "cell_type": "code",
   "execution_count": 77,
   "id": "59196434-faa5-40f6-9bc3-5fb4975463d9",
   "metadata": {},
   "outputs": [
    {
     "data": {
      "text/plain": [
       "6"
      ]
     },
     "execution_count": 77,
     "metadata": {},
     "output_type": "execute_result"
    }
   ],
   "source": [
    "len(b)"
   ]
  },
  {
   "cell_type": "code",
   "execution_count": 79,
   "id": "dcca193c-433d-4295-b63a-538841341c49",
   "metadata": {},
   "outputs": [
    {
     "data": {
      "text/plain": [
       "'hola chayotes verdes ah'"
      ]
     },
     "execution_count": 79,
     "metadata": {},
     "output_type": "execute_result"
    }
   ],
   "source": [
    "a"
   ]
  },
  {
   "cell_type": "code",
   "execution_count": 83,
   "id": "513a27a6-6674-4912-a71c-ad55f7471018",
   "metadata": {},
   "outputs": [
    {
     "data": {
      "text/plain": [
       "'chayotes'"
      ]
     },
     "execution_count": 83,
     "metadata": {},
     "output_type": "execute_result"
    }
   ],
   "source": [
    "# c tiene la posición 13\n",
    "# s tiene la posición 20\n",
    "pos_i=13\n",
    "pos_f=20\n",
    "a[pos_i:pos_f+1]"
   ]
  },
  {
   "cell_type": "code",
   "execution_count": 85,
   "id": "e5a51ef6-24f2-4d5b-8c03-26b4ed7d555e",
   "metadata": {},
   "outputs": [
    {
     "data": {
      "text/plain": [
       "'cadena'"
      ]
     },
     "execution_count": 85,
     "metadata": {},
     "output_type": "execute_result"
    }
   ],
   "source": [
    "b[0:6]"
   ]
  },
  {
   "cell_type": "code",
   "execution_count": 88,
   "id": "05a6ffa4-9282-46e2-a90d-534b73fbff8e",
   "metadata": {},
   "outputs": [
    {
     "data": {
      "text/plain": [
       "' oie hyt'"
      ]
     },
     "execution_count": 88,
     "metadata": {},
     "output_type": "execute_result"
    }
   ],
   "source": [
    "a[4:20:2]"
   ]
  },
  {
   "cell_type": "code",
   "execution_count": 91,
   "id": "f5fbc7b0-ea47-411f-aa75-6a295d7a5ee9",
   "metadata": {},
   "outputs": [
    {
     "data": {
      "text/plain": [
       "(28, 's', 's')"
      ]
     },
     "execution_count": 91,
     "metadata": {},
     "output_type": "execute_result"
    }
   ],
   "source": [
    "len(a), a[27], a[len(a)-1]"
   ]
  },
  {
   "cell_type": "code",
   "execution_count": 92,
   "id": "a790fcb4-5430-4fd8-b1cb-78c91b3bfe7a",
   "metadata": {},
   "outputs": [
    {
     "data": {
      "text/plain": [
       "'s'"
      ]
     },
     "execution_count": 92,
     "metadata": {},
     "output_type": "execute_result"
    }
   ],
   "source": [
    "a[-1]"
   ]
  },
  {
   "cell_type": "code",
   "execution_count": 96,
   "id": "8a00e917-35af-4fdf-951f-fbf8f4cccde7",
   "metadata": {},
   "outputs": [
    {
     "data": {
      "text/plain": [
       "'verdes'"
      ]
     },
     "execution_count": 96,
     "metadata": {},
     "output_type": "execute_result"
    }
   ],
   "source": [
    "a[-6:]"
   ]
  },
  {
   "cell_type": "code",
   "execution_count": 97,
   "id": "68bce615-0126-4816-a18d-4e2439363ef6",
   "metadata": {},
   "outputs": [
    {
     "data": {
      "text/plain": [
       "'hola'"
      ]
     },
     "execution_count": 97,
     "metadata": {},
     "output_type": "execute_result"
    }
   ],
   "source": [
    "a[:4]"
   ]
  },
  {
   "cell_type": "code",
   "execution_count": 98,
   "id": "428ba6e3-29c7-45dd-85ce-4838b3cef7c4",
   "metadata": {},
   "outputs": [
    {
     "data": {
      "text/plain": [
       "'hola jolines chayotes verdes'"
      ]
     },
     "execution_count": 98,
     "metadata": {},
     "output_type": "execute_result"
    }
   ],
   "source": [
    "a[:]"
   ]
  },
  {
   "cell_type": "code",
   "execution_count": 99,
   "id": "abad0258-67a6-44ea-ba68-d13a5a5d26df",
   "metadata": {},
   "outputs": [
    {
     "data": {
      "text/plain": [
       "'sedrev setoyahc seniloj aloh'"
      ]
     },
     "execution_count": 99,
     "metadata": {},
     "output_type": "execute_result"
    }
   ],
   "source": [
    "a[::-1]"
   ]
  },
  {
   "cell_type": "code",
   "execution_count": null,
   "id": "82d191b7-441f-43b7-863e-882ab0760159",
   "metadata": {},
   "outputs": [],
   "source": []
  }
 ],
 "metadata": {
  "kernelspec": {
   "display_name": "Python 3 (ipykernel)",
   "language": "python",
   "name": "python3"
  },
  "language_info": {
   "codemirror_mode": {
    "name": "ipython",
    "version": 3
   },
   "file_extension": ".py",
   "mimetype": "text/x-python",
   "name": "python",
   "nbconvert_exporter": "python",
   "pygments_lexer": "ipython3",
   "version": "3.11.1"
  }
 },
 "nbformat": 4,
 "nbformat_minor": 5
}
