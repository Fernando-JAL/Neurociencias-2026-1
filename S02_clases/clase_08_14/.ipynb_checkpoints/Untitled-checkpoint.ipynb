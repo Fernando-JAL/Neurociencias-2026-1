{
 "cells": [
  {
   "cell_type": "markdown",
   "id": "df986354-f3ed-4f89-aef0-23350feca9c5",
   "metadata": {},
   "source": [
    "# tipos de datos \n",
    "\n",
    "- numerico\n",
    "- strings\n",
    "- secuencias\n",
    "- dict"
   ]
  },
  {
   "cell_type": "code",
   "execution_count": 2,
   "id": "1c46d504-4602-4330-825a-33d186b31e07",
   "metadata": {},
   "outputs": [
    {
     "data": {
      "text/plain": [
       "1"
      ]
     },
     "execution_count": 2,
     "metadata": {},
     "output_type": "execute_result"
    }
   ],
   "source": [
    "a=1\n",
    "a"
   ]
  },
  {
   "cell_type": "code",
   "execution_count": 3,
   "id": "87877064-9df6-43d3-b277-0dec0a818d2c",
   "metadata": {},
   "outputs": [
    {
     "data": {
      "text/plain": [
       "-123568909049483"
      ]
     },
     "execution_count": 3,
     "metadata": {},
     "output_type": "execute_result"
    }
   ],
   "source": [
    "b= -123568909049483\n",
    "b"
   ]
  },
  {
   "cell_type": "code",
   "execution_count": 5,
   "id": "def185f4-434c-46c7-b1b8-9b22259702ee",
   "metadata": {},
   "outputs": [
    {
     "data": {
      "text/plain": [
       "(int, int)"
      ]
     },
     "execution_count": 5,
     "metadata": {},
     "output_type": "execute_result"
    }
   ],
   "source": [
    "type(a), type (b)\n"
   ]
  },
  {
   "cell_type": "code",
   "execution_count": 6,
   "id": "a7859196-90d1-40da-9fb7-e38a6384126d",
   "metadata": {},
   "outputs": [
    {
     "data": {
      "text/plain": [
       "float"
      ]
     },
     "execution_count": 6,
     "metadata": {},
     "output_type": "execute_result"
    }
   ],
   "source": [
    "type(1.2)"
   ]
  },
  {
   "cell_type": "markdown",
   "id": "37ba0dbb-3089-4136-8c9b-e25c1edf0d21",
   "metadata": {},
   "source": [
    "## definición de complejos "
   ]
  },
  {
   "cell_type": "code",
   "execution_count": 8,
   "id": "4c69d615-c13c-40a6-bcec-10ea38a2f387",
   "metadata": {},
   "outputs": [
    {
     "data": {
      "text/plain": [
       "(1+3j)"
      ]
     },
     "execution_count": 8,
     "metadata": {},
     "output_type": "execute_result"
    }
   ],
   "source": [
    "complex(1,3)"
   ]
  },
  {
   "cell_type": "code",
   "execution_count": 9,
   "id": "eadbe151-4995-4459-a799-4a6407ca3129",
   "metadata": {},
   "outputs": [
    {
     "data": {
      "text/plain": [
       "(4+7j)"
      ]
     },
     "execution_count": 9,
     "metadata": {},
     "output_type": "execute_result"
    }
   ],
   "source": [
    "complex(4,7)"
   ]
  },
  {
   "cell_type": "code",
   "execution_count": 10,
   "id": "b349a34b-e0d4-40c4-af6c-6c10251b2837",
   "metadata": {},
   "outputs": [
    {
     "data": {
      "text/plain": [
       "(3+1j)"
      ]
     },
     "execution_count": 10,
     "metadata": {},
     "output_type": "execute_result"
    }
   ],
   "source": [
    "complex(3,1)"
   ]
  },
  {
   "cell_type": "code",
   "execution_count": 12,
   "id": "64250fdf-ee8d-4b8b-9aa6-6c3486272e2b",
   "metadata": {},
   "outputs": [
    {
     "data": {
      "text/plain": [
       "(3+1j)"
      ]
     },
     "execution_count": 12,
     "metadata": {},
     "output_type": "execute_result"
    }
   ],
   "source": [
    "complex(0,1)+3"
   ]
  },
  {
   "cell_type": "code",
   "execution_count": 15,
   "id": "7a8a9192-3ad8-416e-a2fb-461fdb014007",
   "metadata": {},
   "outputs": [
    {
     "data": {
      "text/plain": [
       "(3+1j)"
      ]
     },
     "execution_count": 15,
     "metadata": {},
     "output_type": "execute_result"
    }
   ],
   "source": [
    "c=complex(3,1)\n",
    "c"
   ]
  },
  {
   "cell_type": "code",
   "execution_count": 16,
   "id": "34330395-2618-4ae3-9f2f-5b6860cc43f2",
   "metadata": {},
   "outputs": [
    {
     "data": {
      "text/plain": [
       "(3+3j)"
      ]
     },
     "execution_count": 16,
     "metadata": {},
     "output_type": "execute_result"
    }
   ],
   "source": [
    "# quiero sumar 2j al valor de c\n",
    "c + complex (0,2)"
   ]
  },
  {
   "cell_type": "code",
   "execution_count": 17,
   "id": "e8927111-decc-434f-9046-fbe7b7955a79",
   "metadata": {},
   "outputs": [
    {
     "data": {
      "text/plain": [
       "complex"
      ]
     },
     "execution_count": 17,
     "metadata": {},
     "output_type": "execute_result"
    }
   ],
   "source": [
    "type(c)"
   ]
  },
  {
   "cell_type": "markdown",
   "id": "7f0481ec-b11d-4d43-a1d6-128333fd6fda",
   "metadata": {},
   "source": [
    "# operaciones con tipos de datos numéricos "
   ]
  },
  {
   "cell_type": "code",
   "execution_count": 18,
   "id": "7baf5682-1c4f-4388-862d-4a233aed3d4f",
   "metadata": {},
   "outputs": [
    {
     "data": {
      "text/plain": [
       "100"
      ]
     },
     "execution_count": 18,
     "metadata": {},
     "output_type": "execute_result"
    }
   ],
   "source": [
    "56+44"
   ]
  },
  {
   "cell_type": "markdown",
   "id": "24cfdb3a-4052-43dc-9c5a-47a45e2441f1",
   "metadata": {},
   "source": [
    "# 800-80"
   ]
  },
  {
   "cell_type": "code",
   "execution_count": 20,
   "id": "fbe20a42-ad13-4090-99bb-ccc5b027cd5c",
   "metadata": {},
   "outputs": [
    {
     "data": {
      "text/plain": [
       "261"
      ]
     },
     "execution_count": 20,
     "metadata": {},
     "output_type": "execute_result"
    }
   ],
   "source": [
    "87*3"
   ]
  },
  {
   "cell_type": "code",
   "execution_count": 21,
   "id": "60f5a46f-097c-4362-9820-e5452749965f",
   "metadata": {},
   "outputs": [
    {
     "data": {
      "text/plain": [
       "1.8521739130434782"
      ]
     },
     "execution_count": 21,
     "metadata": {},
     "output_type": "execute_result"
    }
   ],
   "source": [
    "85.2/46"
   ]
  },
  {
   "cell_type": "code",
   "execution_count": null,
   "id": "0d772687-41e3-410f-a728-8ec4fa292b35",
   "metadata": {},
   "outputs": [],
   "source": [
    "##La forma de poner potencia es con **"
   ]
  },
  {
   "cell_type": "code",
   "execution_count": 22,
   "id": "a71e8938-9b6d-46eb-a668-9d0421abb8b3",
   "metadata": {},
   "outputs": [
    {
     "data": {
      "text/plain": [
       "125"
      ]
     },
     "execution_count": 22,
     "metadata": {},
     "output_type": "execute_result"
    }
   ],
   "source": [
    "5**3\n"
   ]
  },
  {
   "cell_type": "code",
   "execution_count": 23,
   "id": "388049e5-75d9-4029-8d5e-8ba6f4ad04b4",
   "metadata": {},
   "outputs": [
    {
     "data": {
      "text/plain": [
       "3.0"
      ]
     },
     "execution_count": 23,
     "metadata": {},
     "output_type": "execute_result"
    }
   ],
   "source": [
    "9**0.5"
   ]
  },
  {
   "cell_type": "code",
   "execution_count": 24,
   "id": "8db65a93-c325-467c-8920-028fe683eb42",
   "metadata": {},
   "outputs": [
    {
     "data": {
      "text/plain": [
       "0"
      ]
     },
     "execution_count": 24,
     "metadata": {},
     "output_type": "execute_result"
    }
   ],
   "source": [
    "16 % 4\n",
    "##para calcular el residuo"
   ]
  },
  {
   "cell_type": "code",
   "execution_count": 25,
   "id": "a870ebde-880f-43c8-b2b1-0b6d8270cbb0",
   "metadata": {},
   "outputs": [
    {
     "data": {
      "text/plain": [
       "4"
      ]
     },
     "execution_count": 25,
     "metadata": {},
     "output_type": "execute_result"
    }
   ],
   "source": [
    "##para calcular el cociente o división entera\n",
    "16//4"
   ]
  },
  {
   "cell_type": "code",
   "execution_count": 29,
   "id": "4a0b5a0e-37fb-49c2-9b77-4e8d0c276fad",
   "metadata": {},
   "outputs": [],
   "source": [
    "h= 8\n",
    "i= 3\n",
    "j= 42"
   ]
  },
  {
   "cell_type": "code",
   "execution_count": 30,
   "id": "c5c08d49-9742-4520-b6fa-3bf30b68b9f4",
   "metadata": {},
   "outputs": [
    {
     "data": {
      "text/plain": [
       "(8, 3, 42)"
      ]
     },
     "execution_count": 30,
     "metadata": {},
     "output_type": "execute_result"
    }
   ],
   "source": [
    "h,i,j"
   ]
  },
  {
   "cell_type": "code",
   "execution_count": 31,
   "id": "6c2c4aaa-484c-4405-8915-738443ac926e",
   "metadata": {},
   "outputs": [
    {
     "data": {
      "text/plain": [
       "(8, 3, 42)"
      ]
     },
     "execution_count": 31,
     "metadata": {},
     "output_type": "execute_result"
    }
   ],
   "source": [
    "h,i,j=8,3,42\n",
    "h,i,j"
   ]
  },
  {
   "cell_type": "code",
   "execution_count": 34,
   "id": "2acbd69b-2aea-4c53-8254-b3b3199fb387",
   "metadata": {},
   "outputs": [
    {
     "ename": "ZeroDivisionError",
     "evalue": "division by zero",
     "output_type": "error",
     "traceback": [
      "\u001b[31m---------------------------------------------------------------------------\u001b[39m",
      "\u001b[31mZeroDivisionError\u001b[39m                         Traceback (most recent call last)",
      "\u001b[36mCell\u001b[39m\u001b[36m \u001b[39m\u001b[32mIn[34]\u001b[39m\u001b[32m, line 1\u001b[39m\n\u001b[32m----> \u001b[39m\u001b[32m1\u001b[39m j/h+i*h-\u001b[43mh\u001b[49m\u001b[43m*\u001b[49m\u001b[43m*\u001b[49m\u001b[43mi\u001b[49m\u001b[43m/\u001b[49m\u001b[43m(\u001b[49m\u001b[43mj\u001b[49m\u001b[43m \u001b[49m\u001b[43m%\u001b[49m\u001b[43m \u001b[49m\u001b[43mi\u001b[49m\u001b[43m)\u001b[49m\n",
      "\u001b[31mZeroDivisionError\u001b[39m: division by zero"
     ]
    }
   ],
   "source": [
    "j/h+i*h-h**i/(j % i)"
   ]
  },
  {
   "cell_type": "markdown",
   "id": "56bfbad0-5692-4d32-8546-8a7057f49a74",
   "metadata": {},
   "source": [
    "## strings"
   ]
  },
  {
   "cell_type": "code",
   "execution_count": 35,
   "id": "69512cb8-0e96-46f5-a738-6dced8c63c1e",
   "metadata": {},
   "outputs": [
    {
     "data": {
      "text/plain": [
       "'esto es una cadena de texto'"
      ]
     },
     "execution_count": 35,
     "metadata": {},
     "output_type": "execute_result"
    }
   ],
   "source": [
    "'esto es una cadena de texto'"
   ]
  },
  {
   "cell_type": "code",
   "execution_count": 36,
   "id": "5386dded-c71e-451a-8eb3-82bfc51f8b23",
   "metadata": {},
   "outputs": [
    {
     "data": {
      "text/plain": [
       "'this too'"
      ]
     },
     "execution_count": 36,
     "metadata": {},
     "output_type": "execute_result"
    }
   ],
   "source": [
    "'this too'"
   ]
  },
  {
   "cell_type": "code",
   "execution_count": 37,
   "id": "e7ea1744-eeae-4679-ad67-cb63977aac02",
   "metadata": {},
   "outputs": [
    {
     "data": {
      "text/plain": [
       "('cadena de texto', 'cadena de texto 2')"
      ]
     },
     "execution_count": 37,
     "metadata": {},
     "output_type": "execute_result"
    }
   ],
   "source": [
    "a,b='cadena de texto','cadena de texto 2'\n",
    "a,b"
   ]
  },
  {
   "cell_type": "code",
   "execution_count": 42,
   "id": "f834f2f3-88d0-4320-9c0c-6d255c1e4fbb",
   "metadata": {},
   "outputs": [
    {
     "name": "stdout",
     "output_type": "stream",
     "text": [
      "cadena de texto \t cadena de texto 2 otra cosa 89.5\n"
     ]
    }
   ],
   "source": [
    "print(a,'\\t',b,'otra cosa',89.5)"
   ]
  },
  {
   "cell_type": "code",
   "execution_count": 44,
   "id": "c706faff-7dab-41c0-ad0d-39df4a216e83",
   "metadata": {},
   "outputs": [
    {
     "name": "stdout",
     "output_type": "stream",
     "text": [
      "cadena de texto \n",
      " cadena de texto 2 otra cosa 89.5 lo que sea\n"
     ]
    }
   ],
   "source": [
    "print(a,'\\n',b,'otra cosa',89.5,'lo que sea')\n",
    "##la cadena '\\n' significa salto de linea"
   ]
  },
  {
   "cell_type": "code",
   "execution_count": 45,
   "id": "fe2b387d-8c1a-4677-b4e0-2c92304efd49",
   "metadata": {},
   "outputs": [
    {
     "name": "stdout",
     "output_type": "stream",
     "text": [
      "c:\\nombre_de_la_carpeta\\tareas\n"
     ]
    }
   ],
   "source": [
    "print(r'c:\\nombre_de_la_carpeta\\tareas')"
   ]
  },
  {
   "cell_type": "code",
   "execution_count": null,
   "id": "9772c7ea-f06d-4476-9bad-2ecfd815e8b2",
   "metadata": {},
   "outputs": [],
   "source": [
    "print(\"primera línea de texto\n",
    "      segunda línea de texto\n",
    "      tercera línea de texto\")"
   ]
  },
  {
   "cell_type": "code",
   "execution_count": 46,
   "id": "b4b14b45-050e-44ee-bee0-56cbcb4692ab",
   "metadata": {},
   "outputs": [
    {
     "name": "stdout",
     "output_type": "stream",
     "text": [
      "primera línea de texto\n",
      "      segunda línea de texto\n",
      "      tercera línea de texto\n"
     ]
    }
   ],
   "source": [
    "print(\"\"\"primera línea de texto\n",
    "      segunda línea de texto\n",
    "      tercera línea de texto\"\"\")"
   ]
  },
  {
   "cell_type": "code",
   "execution_count": 50,
   "id": "c0cbaeeb-c09c-4607-935d-28b2df2b8c85",
   "metadata": {},
   "outputs": [],
   "source": [
    "a,b='ah','be'"
   ]
  },
  {
   "cell_type": "code",
   "execution_count": 51,
   "id": "d106a81c-65ba-4e8e-87af-214ed885a207",
   "metadata": {},
   "outputs": [
    {
     "data": {
      "text/plain": [
       "'ahbe'"
      ]
     },
     "execution_count": 51,
     "metadata": {},
     "output_type": "execute_result"
    }
   ],
   "source": [
    "a+b"
   ]
  },
  {
   "cell_type": "code",
   "execution_count": 55,
   "id": "0373b0fb-2bf5-4efb-b738-09520d22c14e",
   "metadata": {},
   "outputs": [
    {
     "data": {
      "text/plain": [
       "'ahahahbebeah'"
      ]
     },
     "execution_count": 55,
     "metadata": {},
     "output_type": "execute_result"
    }
   ],
   "source": [
    "3*a + 2*b + a"
   ]
  },
  {
   "cell_type": "code",
   "execution_count": 56,
   "id": "1fed8ab1-427d-4175-8f1b-3575bd928167",
   "metadata": {},
   "outputs": [
    {
     "data": {
      "text/plain": [
       "'ahahah'"
      ]
     },
     "execution_count": 56,
     "metadata": {},
     "output_type": "execute_result"
    }
   ],
   "source": [
    "a*3"
   ]
  },
  {
   "cell_type": "code",
   "execution_count": 57,
   "id": "a4070606-1fb8-476d-b5ee-2c83eda38070",
   "metadata": {},
   "outputs": [
    {
     "data": {
      "text/plain": [
       "('ahbe', 'beah')"
      ]
     },
     "execution_count": 57,
     "metadata": {},
     "output_type": "execute_result"
    }
   ],
   "source": [
    "a+b,b+a"
   ]
  },
  {
   "cell_type": "markdown",
   "id": "7c777e52-f10d-4e5f-a37d-bf3b683dd691",
   "metadata": {},
   "source": [
    "## slicing=rebanando"
   ]
  },
  {
   "cell_type": "code",
   "execution_count": 59,
   "id": "cd6e8d56-eb8c-4bd3-99dd-84b64136b8be",
   "metadata": {},
   "outputs": [],
   "source": [
    "a='hola jolines chayotes verdes'"
   ]
  },
  {
   "cell_type": "code",
   "execution_count": 61,
   "id": "39069677-c420-4d46-b5d8-ac82f4eea27d",
   "metadata": {},
   "outputs": [],
   "source": [
    "b= 'cadena'"
   ]
  },
  {
   "cell_type": "code",
   "execution_count": 62,
   "id": "21468aab-a722-46b2-9b17-53bbcf79a4ff",
   "metadata": {},
   "outputs": [
    {
     "data": {
      "text/plain": [
       "'n'"
      ]
     },
     "execution_count": 62,
     "metadata": {},
     "output_type": "execute_result"
    }
   ],
   "source": [
    "b[4]"
   ]
  },
  {
   "cell_type": "code",
   "execution_count": 63,
   "id": "7367c82d-eba8-4686-b7e7-f02685f62379",
   "metadata": {},
   "outputs": [
    {
     "data": {
      "text/plain": [
       "6"
      ]
     },
     "execution_count": 63,
     "metadata": {},
     "output_type": "execute_result"
    }
   ],
   "source": [
    "len(b)\n",
    "##longitud de palabra"
   ]
  },
  {
   "cell_type": "code",
   "execution_count": 64,
   "id": "171e9cb4-3f67-44da-a85a-3c9cff1853a7",
   "metadata": {},
   "outputs": [
    {
     "data": {
      "text/plain": [
       "'hola jolines chayotes verdes'"
      ]
     },
     "execution_count": 64,
     "metadata": {},
     "output_type": "execute_result"
    }
   ],
   "source": [
    "a"
   ]
  },
  {
   "cell_type": "code",
   "execution_count": 66,
   "id": "29859fbe-8f6f-4d83-9322-086e50865e82",
   "metadata": {},
   "outputs": [
    {
     "data": {
      "text/plain": [
       "'chayotes'"
      ]
     },
     "execution_count": 66,
     "metadata": {},
     "output_type": "execute_result"
    }
   ],
   "source": [
    "#c tiene la posición 13\n",
    "# s tiene la posición 20\n",
    "pos_i=13\n",
    "pos_f=20\n",
    "a[pos_i: pos_f+1]"
   ]
  },
  {
   "cell_type": "code",
   "execution_count": 67,
   "id": "5b768ec5-845d-4957-a47d-409fbf1ca1ac",
   "metadata": {},
   "outputs": [
    {
     "data": {
      "text/plain": [
       "'cadena'"
      ]
     },
     "execution_count": 67,
     "metadata": {},
     "output_type": "execute_result"
    }
   ],
   "source": [
    "b[0:6]"
   ]
  },
  {
   "cell_type": "code",
   "execution_count": 68,
   "id": "3121a8bd-5147-4216-b8d8-d65e0cf051c0",
   "metadata": {},
   "outputs": [
    {
     "data": {
      "text/plain": [
       "'hola jolines chayotes verdes'"
      ]
     },
     "execution_count": 68,
     "metadata": {},
     "output_type": "execute_result"
    }
   ],
   "source": [
    "a"
   ]
  },
  {
   "cell_type": "code",
   "execution_count": 70,
   "id": "55547699-9e13-49d9-995c-274ec7f2f120",
   "metadata": {},
   "outputs": [
    {
     "data": {
      "text/plain": [
       "' oie hyt'"
      ]
     },
     "execution_count": 70,
     "metadata": {},
     "output_type": "execute_result"
    }
   ],
   "source": [
    "a[4:20:2]"
   ]
  },
  {
   "cell_type": "code",
   "execution_count": 71,
   "id": "06de7829-f1ee-40ca-ac90-6ccb3ea06ad9",
   "metadata": {},
   "outputs": [
    {
     "data": {
      "text/plain": [
       "28"
      ]
     },
     "execution_count": 71,
     "metadata": {},
     "output_type": "execute_result"
    }
   ],
   "source": [
    "len(a)"
   ]
  },
  {
   "cell_type": "code",
   "execution_count": 72,
   "id": "c8d9c81c-24ce-4f5e-9a9d-65c8faabb621",
   "metadata": {},
   "outputs": [
    {
     "data": {
      "text/plain": [
       "(28, 's', 's')"
      ]
     },
     "execution_count": 72,
     "metadata": {},
     "output_type": "execute_result"
    }
   ],
   "source": [
    "len(a), a[27], a[len(a)-1]"
   ]
  },
  {
   "cell_type": "code",
   "execution_count": 73,
   "id": "1801348c-5905-4c01-9977-70625ecf22bd",
   "metadata": {},
   "outputs": [
    {
     "data": {
      "text/plain": [
       "'s'"
      ]
     },
     "execution_count": 73,
     "metadata": {},
     "output_type": "execute_result"
    }
   ],
   "source": [
    "a[-1]"
   ]
  },
  {
   "cell_type": "code",
   "execution_count": 74,
   "id": "f0fb107a-e55a-4520-96f0-c8b18c4f30c1",
   "metadata": {},
   "outputs": [
    {
     "data": {
      "text/plain": [
       "'v'"
      ]
     },
     "execution_count": 74,
     "metadata": {},
     "output_type": "execute_result"
    }
   ],
   "source": [
    "a[-6]"
   ]
  },
  {
   "cell_type": "code",
   "execution_count": 77,
   "id": "8b1200c7-e2cf-4a53-8aee-efebbca010b3",
   "metadata": {},
   "outputs": [
    {
     "data": {
      "text/plain": [
       "'verdes'"
      ]
     },
     "execution_count": 77,
     "metadata": {},
     "output_type": "execute_result"
    }
   ],
   "source": [
    "a[-6:]"
   ]
  },
  {
   "cell_type": "code",
   "execution_count": 78,
   "id": "a86db492-b142-4551-99f4-1b2b65723aa7",
   "metadata": {},
   "outputs": [
    {
     "data": {
      "text/plain": [
       "'hola'"
      ]
     },
     "execution_count": 78,
     "metadata": {},
     "output_type": "execute_result"
    }
   ],
   "source": [
    "a[:4]"
   ]
  },
  {
   "cell_type": "code",
   "execution_count": 79,
   "id": "75ca6d01-f43a-4194-b420-2f2dfe80c154",
   "metadata": {},
   "outputs": [
    {
     "data": {
      "text/plain": [
       "'hola jolines chayotes verdes'"
      ]
     },
     "execution_count": 79,
     "metadata": {},
     "output_type": "execute_result"
    }
   ],
   "source": [
    "a"
   ]
  },
  {
   "cell_type": "code",
   "execution_count": 80,
   "id": "15ce5d22-6f23-4c45-8e08-9b30647cd87e",
   "metadata": {},
   "outputs": [
    {
     "data": {
      "text/plain": [
       "'hola jolines chayotes verdes'"
      ]
     },
     "execution_count": 80,
     "metadata": {},
     "output_type": "execute_result"
    }
   ],
   "source": [
    "a[:]"
   ]
  },
  {
   "cell_type": "code",
   "execution_count": 81,
   "id": "a6fa933e-8884-4b93-9438-1d50b3d93649",
   "metadata": {},
   "outputs": [
    {
     "data": {
      "text/plain": [
       "'sde eoacsnljao'"
      ]
     },
     "execution_count": 81,
     "metadata": {},
     "output_type": "execute_result"
    }
   ],
   "source": [
    "a[::-2]"
   ]
  },
  {
   "cell_type": "markdown",
   "id": "8d51ec9b-3ebe-4041-933f-1c4f082887cc",
   "metadata": {},
   "source": [
    "# tarea"
   ]
  },
  {
   "cell_type": "code",
   "execution_count": null,
   "id": "84ff1cbc-bf51-4d2f-8bbc-cb569aced73f",
   "metadata": {},
   "outputs": [],
   "source": [
    "¿ Qué es que una cadena sea inmutable?"
   ]
  }
 ],
 "metadata": {
  "kernelspec": {
   "display_name": "Python 3 (ipykernel)",
   "language": "python",
   "name": "python3"
  },
  "language_info": {
   "codemirror_mode": {
    "name": "ipython",
    "version": 3
   },
   "file_extension": ".py",
   "mimetype": "text/x-python",
   "name": "python",
   "nbconvert_exporter": "python",
   "pygments_lexer": "ipython3",
   "version": "3.11.1"
  }
 },
 "nbformat": 4,
 "nbformat_minor": 5
}
