{
 "cells": [
  {
   "cell_type": "markdown",
   "id": "821c9db5-b313-4373-bf27-1a2f642d0539",
   "metadata": {},
   "source": [
    "# Tipos de datos"
   ]
  },
  {
   "cell_type": "code",
   "execution_count": 3,
   "id": "4530ccb6-803f-4195-8dbf-bf3c47832616",
   "metadata": {},
   "outputs": [
    {
     "data": {
      "text/plain": [
       "1"
      ]
     },
     "execution_count": 3,
     "metadata": {},
     "output_type": "execute_result"
    }
   ],
   "source": [
    "a=1\n",
    "a"
   ]
  },
  {
   "cell_type": "code",
   "execution_count": 4,
   "id": "1b69672d-90f7-45e5-af26-15d2b4be21eb",
   "metadata": {},
   "outputs": [
    {
     "data": {
      "text/plain": [
       "-320377203982073443"
      ]
     },
     "execution_count": 4,
     "metadata": {},
     "output_type": "execute_result"
    }
   ],
   "source": [
    "b=-320377203982073443\n",
    "b"
   ]
  },
  {
   "cell_type": "code",
   "execution_count": 5,
   "id": "af00714f-e979-48c9-bc76-d39ead8de09f",
   "metadata": {},
   "outputs": [
    {
     "data": {
      "text/plain": [
       "(int, int)"
      ]
     },
     "execution_count": 5,
     "metadata": {},
     "output_type": "execute_result"
    }
   ],
   "source": [
    "type(a),type(b)"
   ]
  },
  {
   "cell_type": "code",
   "execution_count": 6,
   "id": "d8f561a5-9bee-4da8-a944-834df9934ff3",
   "metadata": {},
   "outputs": [
    {
     "ename": "TypeError",
     "evalue": "type() takes 1 or 3 arguments",
     "output_type": "error",
     "traceback": [
      "\u001b[31m---------------------------------------------------------------------------\u001b[39m",
      "\u001b[31mTypeError\u001b[39m                                 Traceback (most recent call last)",
      "\u001b[36mCell\u001b[39m\u001b[36m \u001b[39m\u001b[32mIn[6]\u001b[39m\u001b[32m, line 1\u001b[39m\n\u001b[32m----> \u001b[39m\u001b[32m1\u001b[39m \u001b[38;5;28;43mtype\u001b[39;49m\u001b[43m(\u001b[49m\u001b[32;43m1\u001b[39;49m\u001b[43m,\u001b[49m\u001b[32;43m2\u001b[39;49m\u001b[43m)\u001b[49m\n",
      "\u001b[31mTypeError\u001b[39m: type() takes 1 or 3 arguments"
     ]
    }
   ],
   "source": [
    "type(1,2)"
   ]
  },
  {
   "cell_type": "code",
   "execution_count": 7,
   "id": "aecb0124-cf46-4a05-a3ba-15c5fceec51e",
   "metadata": {},
   "outputs": [
    {
     "data": {
      "text/plain": [
       "float"
      ]
     },
     "execution_count": 7,
     "metadata": {},
     "output_type": "execute_result"
    }
   ],
   "source": [
    "float"
   ]
  },
  {
   "cell_type": "markdown",
   "id": "09a0d0ad-6d18-4ceb-87f8-04ddf2f89ac8",
   "metadata": {},
   "source": [
    "# Definición de complejos\n"
   ]
  },
  {
   "cell_type": "code",
   "execution_count": 8,
   "id": "fed6c4bc-f024-46c6-a13a-1bae57b5f026",
   "metadata": {},
   "outputs": [
    {
     "data": {
      "text/plain": [
       "(1+3j)"
      ]
     },
     "execution_count": 8,
     "metadata": {},
     "output_type": "execute_result"
    }
   ],
   "source": [
    "complex(1,3)"
   ]
  },
  {
   "cell_type": "code",
   "execution_count": 9,
   "id": "107a56a7-c5b8-4b54-b09d-c03b677c64eb",
   "metadata": {},
   "outputs": [
    {
     "data": {
      "text/plain": [
       "(4+7j)"
      ]
     },
     "execution_count": 9,
     "metadata": {},
     "output_type": "execute_result"
    }
   ],
   "source": [
    "complex(4,7)"
   ]
  },
  {
   "cell_type": "code",
   "execution_count": 10,
   "id": "2034e8ba-1105-4013-bf50-ad8f0bb82dec",
   "metadata": {},
   "outputs": [
    {
     "data": {
      "text/plain": [
       "1j"
      ]
     },
     "execution_count": 10,
     "metadata": {},
     "output_type": "execute_result"
    }
   ],
   "source": [
    "complex(0,1)"
   ]
  },
  {
   "cell_type": "markdown",
   "id": "b8ee6dc7-4db9-4ec0-89a8-1c9db3adb7ce",
   "metadata": {},
   "source": [
    "# Operaciones con tipos de datos numericos"
   ]
  },
  {
   "cell_type": "code",
   "execution_count": 11,
   "id": "7eeef770-14e3-4361-b5a3-488fcf9b2055",
   "metadata": {},
   "outputs": [
    {
     "data": {
      "text/plain": [
       "100"
      ]
     },
     "execution_count": 11,
     "metadata": {},
     "output_type": "execute_result"
    }
   ],
   "source": [
    "56+44"
   ]
  },
  {
   "cell_type": "code",
   "execution_count": 13,
   "id": "899db571-e244-46e1-867e-620d0360525b",
   "metadata": {},
   "outputs": [
    {
     "data": {
      "text/plain": [
       "720"
      ]
     },
     "execution_count": 13,
     "metadata": {},
     "output_type": "execute_result"
    }
   ],
   "source": [
    "800-80"
   ]
  },
  {
   "cell_type": "code",
   "execution_count": 18,
   "id": "6d6bf220-bf8e-4116-b67e-c5bba47bc2a1",
   "metadata": {},
   "outputs": [
    {
     "data": {
      "text/plain": [
       "783"
      ]
     },
     "execution_count": 18,
     "metadata": {},
     "output_type": "execute_result"
    }
   ],
   "source": [
    "87*9"
   ]
  },
  {
   "cell_type": "code",
   "execution_count": 19,
   "id": "b48bb610-ff68-4ce8-b3a7-0da3466d356b",
   "metadata": {},
   "outputs": [
    {
     "data": {
      "text/plain": [
       "1.8521739130434782"
      ]
     },
     "execution_count": 19,
     "metadata": {},
     "output_type": "execute_result"
    }
   ],
   "source": [
    "85.2/46"
   ]
  },
  {
   "cell_type": "code",
   "execution_count": 20,
   "id": "f07ebd63-4c77-45ef-b71b-75fbe25ebac7",
   "metadata": {},
   "outputs": [
    {
     "data": {
      "text/plain": [
       "125"
      ]
     },
     "execution_count": 20,
     "metadata": {},
     "output_type": "execute_result"
    }
   ],
   "source": [
    "5**3"
   ]
  },
  {
   "cell_type": "code",
   "execution_count": 21,
   "id": "73deda3d-5931-4e0b-a0c0-99bcf885e294",
   "metadata": {},
   "outputs": [
    {
     "data": {
      "text/plain": [
       "3.0"
      ]
     },
     "execution_count": 21,
     "metadata": {},
     "output_type": "execute_result"
    }
   ],
   "source": [
    "9**0.5"
   ]
  },
  {
   "cell_type": "code",
   "execution_count": 22,
   "id": "a6f18d42-a3ca-461c-ad40-66bc691af160",
   "metadata": {},
   "outputs": [
    {
     "data": {
      "text/plain": [
       "0"
      ]
     },
     "execution_count": 22,
     "metadata": {},
     "output_type": "execute_result"
    }
   ],
   "source": [
    "16%4"
   ]
  },
  {
   "cell_type": "code",
   "execution_count": 23,
   "id": "eff11c40-a8a8-4e2c-aa51-a4dc4769fa15",
   "metadata": {},
   "outputs": [
    {
     "data": {
      "text/plain": [
       "4"
      ]
     },
     "execution_count": 23,
     "metadata": {},
     "output_type": "execute_result"
    }
   ],
   "source": [
    "16//4"
   ]
  },
  {
   "cell_type": "code",
   "execution_count": 24,
   "id": "c4524f83-4cc3-4288-8e10-d0e3eb616eef",
   "metadata": {},
   "outputs": [],
   "source": [
    "a=8\n",
    "b=3\n",
    "c=42"
   ]
  },
  {
   "cell_type": "code",
   "execution_count": 25,
   "id": "2d885190-f2b9-4033-8e59-defe1a03acbc",
   "metadata": {},
   "outputs": [
    {
     "data": {
      "text/plain": [
       "(8, 3, 42)"
      ]
     },
     "execution_count": 25,
     "metadata": {},
     "output_type": "execute_result"
    }
   ],
   "source": [
    "a,b,c"
   ]
  },
  {
   "cell_type": "code",
   "execution_count": 26,
   "id": "35455ed8-6704-4763-a49f-5e45bebe1264",
   "metadata": {},
   "outputs": [
    {
     "ename": "ZeroDivisionError",
     "evalue": "division by zero",
     "output_type": "error",
     "traceback": [
      "\u001b[31m---------------------------------------------------------------------------\u001b[39m",
      "\u001b[31mZeroDivisionError\u001b[39m                         Traceback (most recent call last)",
      "\u001b[36mCell\u001b[39m\u001b[36m \u001b[39m\u001b[32mIn[26]\u001b[39m\u001b[32m, line 1\u001b[39m\n\u001b[32m----> \u001b[39m\u001b[32m1\u001b[39m c/a + a*b - \u001b[43ma\u001b[49m\u001b[43m*\u001b[49m\u001b[43m*\u001b[49m\u001b[43mb\u001b[49m\u001b[43m/\u001b[49m\u001b[43m(\u001b[49m\u001b[32;43m42\u001b[39;49m\u001b[43m%\u001b[49m\u001b[32;43m3\u001b[39;49m\u001b[43m)\u001b[49m\n",
      "\u001b[31mZeroDivisionError\u001b[39m: division by zero"
     ]
    }
   ],
   "source": [
    " c/a + a*b - a**b/(42%3)"
   ]
  },
  {
   "cell_type": "markdown",
   "id": "72ebf254-d8a9-4c35-95c5-ac31d4db2126",
   "metadata": {},
   "source": [
    "## Strings"
   ]
  },
  {
   "cell_type": "code",
   "execution_count": 27,
   "id": "1f822ee8-0cbd-4568-a462-dae2fa2c0a44",
   "metadata": {},
   "outputs": [
    {
     "data": {
      "text/plain": [
       "'esto es una cadena de texto'"
      ]
     },
     "execution_count": 27,
     "metadata": {},
     "output_type": "execute_result"
    }
   ],
   "source": [
    "'esto es una cadena de texto'"
   ]
  },
  {
   "cell_type": "code",
   "execution_count": 28,
   "id": "aa6d09fe-7f87-4864-b999-36e39f0dfe54",
   "metadata": {},
   "outputs": [
    {
     "data": {
      "text/plain": [
       "'esto tambien es una cadena de texto'"
      ]
     },
     "execution_count": 28,
     "metadata": {},
     "output_type": "execute_result"
    }
   ],
   "source": [
    "'esto tambien es una cadena de texto'"
   ]
  },
  {
   "cell_type": "code",
   "execution_count": 32,
   "id": "2ee3db62-0702-4772-a0f1-62cd501a6fc7",
   "metadata": {},
   "outputs": [],
   "source": [
    "a,b = ('cadena de texto 1','cadena de texto 2')"
   ]
  },
  {
   "cell_type": "code",
   "execution_count": 33,
   "id": "05a0ac9e-1dc8-44b7-a43a-1e42a7e3fe5c",
   "metadata": {},
   "outputs": [
    {
     "name": "stdout",
     "output_type": "stream",
     "text": [
      "cadena de texto 1 cadena de texto 2\n"
     ]
    }
   ],
   "source": [
    "print(a,b)"
   ]
  },
  {
   "cell_type": "code",
   "execution_count": 34,
   "id": "6eea1d42-6c29-4047-abd5-9c86f3791920",
   "metadata": {},
   "outputs": [
    {
     "name": "stdout",
     "output_type": "stream",
     "text": [
      "cadena de texto 1 cadena de texto 2 otracosa 89.5 lo que sea\n"
     ]
    }
   ],
   "source": [
    "print(a,b,'otracosa',89.5, 'lo que sea')"
   ]
  },
  {
   "cell_type": "code",
   "execution_count": 36,
   "id": "261ce75a-55d0-4afe-b2ac-ba8042e886f5",
   "metadata": {},
   "outputs": [
    {
     "name": "stdout",
     "output_type": "stream",
     "text": [
      "cadena de texto 1 \t cadena de texto 2 otra cosa 89.5 lo que sea\n"
     ]
    }
   ],
   "source": [
    "print(a, '\\t', b, 'otra cosa',89.5, 'lo que sea')"
   ]
  },
  {
   "cell_type": "code",
   "execution_count": 37,
   "id": "47498269-338d-42a6-af2b-5395dc3d5987",
   "metadata": {},
   "outputs": [
    {
     "name": "stdout",
     "output_type": "stream",
     "text": [
      "cadena de texto 1 \n",
      " cadena de texto 2 otra cosa 89.5 lo que sea\n"
     ]
    }
   ],
   "source": [
    "print(a, '\\n', b, 'otra cosa',89.5, 'lo que sea')"
   ]
  },
  {
   "cell_type": "code",
   "execution_count": 38,
   "id": "e119a06d-0f7a-48d7-b132-418458815d25",
   "metadata": {},
   "outputs": [
    {
     "name": "stdout",
     "output_type": "stream",
     "text": [
      "C:nombre_de_la_carpeta\tareas\n"
     ]
    }
   ],
   "source": [
    "print('C:nombre_de_la_carpeta\\tareas')"
   ]
  },
  {
   "cell_type": "code",
   "execution_count": 39,
   "id": "28d5924e-098a-4185-8ab9-284907dd454e",
   "metadata": {},
   "outputs": [
    {
     "name": "stdout",
     "output_type": "stream",
     "text": [
      "C:nombre_de_la_carpeta\\tareas\n"
     ]
    }
   ],
   "source": [
    "print(r'C:nombre_de_la_carpeta\\tareas')"
   ]
  },
  {
   "cell_type": "code",
   "execution_count": 41,
   "id": "c6d89e6e-0c41-4573-80d3-c55ae17ca027",
   "metadata": {},
   "outputs": [
    {
     "ename": "SyntaxError",
     "evalue": "unterminated string literal (detected at line 1) (4248178014.py, line 1)",
     "output_type": "error",
     "traceback": [
      "  \u001b[36mCell\u001b[39m\u001b[36m \u001b[39m\u001b[32mIn[41]\u001b[39m\u001b[32m, line 1\u001b[39m\n\u001b[31m    \u001b[39m\u001b[31mprint('Primera linea de texto\u001b[39m\n          ^\n\u001b[31mSyntaxError\u001b[39m\u001b[31m:\u001b[39m unterminated string literal (detected at line 1)\n"
     ]
    }
   ],
   "source": [
    "print('Primera linea de texto\n",
    "segunda linea de texto\n",
    "tercera linea de texto')"
   ]
  },
  {
   "cell_type": "code",
   "execution_count": 43,
   "id": "5e6a230b-8d91-45b2-8b80-dcf51dd771e9",
   "metadata": {},
   "outputs": [
    {
     "name": "stdout",
     "output_type": "stream",
     "text": [
      "Primera linea de texto\n",
      "segunda linea de texto\n",
      "tercera linea de texto\n"
     ]
    }
   ],
   "source": [
    "print(\"\"\"Primera linea de texto\n",
    "segunda linea de texto\n",
    "tercera linea de texto\"\"\")"
   ]
  },
  {
   "cell_type": "code",
   "execution_count": 45,
   "id": "38c4b912-c01d-466b-ba36-08311767e516",
   "metadata": {},
   "outputs": [],
   "source": [
    "a,b= 'ah', 'be'"
   ]
  },
  {
   "cell_type": "code",
   "execution_count": 46,
   "id": "7c19333b-b34e-4fbd-960b-d85e01dae88b",
   "metadata": {},
   "outputs": [
    {
     "data": {
      "text/plain": [
       "'ahbe'"
      ]
     },
     "execution_count": 46,
     "metadata": {},
     "output_type": "execute_result"
    }
   ],
   "source": [
    "a+b"
   ]
  },
  {
   "cell_type": "markdown",
   "id": "e45b82dd-2414-4862-823c-9e6419dc3bd6",
   "metadata": {},
   "source": [
    " # slicing = Rebanado "
   ]
  },
  {
   "cell_type": "code",
   "execution_count": 47,
   "id": "382198d3-fe1d-421b-9a68-7e17d2e1dab7",
   "metadata": {},
   "outputs": [],
   "source": [
    "a= 'hola jolines chayotes verdes'"
   ]
  },
  {
   "cell_type": "code",
   "execution_count": 48,
   "id": "74af3e7e-5fb5-426d-b87f-bc6a6a2f9098",
   "metadata": {},
   "outputs": [],
   "source": [
    "b='cadena'"
   ]
  },
  {
   "cell_type": "code",
   "execution_count": 49,
   "id": "d5ed86bd-ee9e-4718-a752-336a52b2a056",
   "metadata": {},
   "outputs": [
    {
     "data": {
      "text/plain": [
       "'d'"
      ]
     },
     "execution_count": 49,
     "metadata": {},
     "output_type": "execute_result"
    }
   ],
   "source": [
    "b[2]"
   ]
  },
  {
   "cell_type": "code",
   "execution_count": 50,
   "id": "13d16f7c-21b5-4cee-91f6-604c0f09cb30",
   "metadata": {},
   "outputs": [
    {
     "data": {
      "text/plain": [
       "'n'"
      ]
     },
     "execution_count": 50,
     "metadata": {},
     "output_type": "execute_result"
    }
   ],
   "source": [
    "b[4]"
   ]
  },
  {
   "cell_type": "code",
   "execution_count": 51,
   "id": "fb08eb60-f8fe-484d-a255-111a172e54cb",
   "metadata": {},
   "outputs": [
    {
     "data": {
      "text/plain": [
       "6"
      ]
     },
     "execution_count": 51,
     "metadata": {},
     "output_type": "execute_result"
    }
   ],
   "source": [
    "len(b)"
   ]
  },
  {
   "cell_type": "code",
   "execution_count": 53,
   "id": "18104b9c-e80b-46b3-a4bd-9d04ebadd6eb",
   "metadata": {},
   "outputs": [
    {
     "data": {
      "text/plain": [
       "'chayotes'"
      ]
     },
     "execution_count": 53,
     "metadata": {},
     "output_type": "execute_result"
    }
   ],
   "source": [
    "a[13:21]"
   ]
  },
  {
   "cell_type": "code",
   "execution_count": 54,
   "id": "a8b65191-7fc4-4cff-9800-2d0454df558d",
   "metadata": {},
   "outputs": [
    {
     "data": {
      "text/plain": [
       "28"
      ]
     },
     "execution_count": 54,
     "metadata": {},
     "output_type": "execute_result"
    }
   ],
   "source": [
    "len(a)"
   ]
  },
  {
   "cell_type": "code",
   "execution_count": 55,
   "id": "9fc9fa0e-42bf-49c3-ba66-39aeb902903c",
   "metadata": {},
   "outputs": [
    {
     "data": {
      "text/plain": [
       "'chayotes verdes'"
      ]
     },
     "execution_count": 55,
     "metadata": {},
     "output_type": "execute_result"
    }
   ],
   "source": [
    "a[13:28]"
   ]
  },
  {
   "cell_type": "code",
   "execution_count": 58,
   "id": "77268226-7e05-42cf-972d-3272e7bcf281",
   "metadata": {},
   "outputs": [
    {
     "data": {
      "text/plain": [
       "'chayotes'"
      ]
     },
     "execution_count": 58,
     "metadata": {},
     "output_type": "execute_result"
    }
   ],
   "source": [
    "\n",
    "pos_i=13\n",
    "pos_f=20\n",
    "a[pos_i: pos_f+1]"
   ]
  },
  {
   "cell_type": "code",
   "execution_count": null,
   "id": "90bf36f7-4982-46c7-9f9a-2ad5a340d575",
   "metadata": {},
   "outputs": [],
   "source": []
  },
  {
   "cell_type": "code",
   "execution_count": 59,
   "id": "2d25ffb8-87bb-4ded-bf4b-5dcf58274c26",
   "metadata": {},
   "outputs": [
    {
     "data": {
      "text/plain": [
       "'cadena'"
      ]
     },
     "execution_count": 59,
     "metadata": {},
     "output_type": "execute_result"
    }
   ],
   "source": [
    "b[0:6]"
   ]
  },
  {
   "cell_type": "code",
   "execution_count": 60,
   "id": "56f32fbd-7fc3-45d5-8fd1-b119f137b169",
   "metadata": {},
   "outputs": [
    {
     "data": {
      "text/plain": [
       "'hola jolines chayotes verdes'"
      ]
     },
     "execution_count": 60,
     "metadata": {},
     "output_type": "execute_result"
    }
   ],
   "source": [
    "a"
   ]
  },
  {
   "cell_type": "code",
   "execution_count": 61,
   "id": "7002b1a2-4278-4471-8136-ae3b3afb645f",
   "metadata": {},
   "outputs": [
    {
     "data": {
      "text/plain": [
       "''"
      ]
     },
     "execution_count": 61,
     "metadata": {},
     "output_type": "execute_result"
    }
   ],
   "source": [
    "a[4:2:10]"
   ]
  },
  {
   "cell_type": "code",
   "execution_count": 62,
   "id": "d47b7626-d72f-45d6-8d33-41160a066011",
   "metadata": {},
   "outputs": [
    {
     "data": {
      "text/plain": [
       "' oie hyt'"
      ]
     },
     "execution_count": 62,
     "metadata": {},
     "output_type": "execute_result"
    }
   ],
   "source": [
    "a[4:20:2]"
   ]
  },
  {
   "cell_type": "code",
   "execution_count": 63,
   "id": "fb0cae36-a5ad-4f71-9643-89e209e28c84",
   "metadata": {},
   "outputs": [
    {
     "data": {
      "text/plain": [
       "(28, 's', 's')"
      ]
     },
     "execution_count": 63,
     "metadata": {},
     "output_type": "execute_result"
    }
   ],
   "source": [
    "len(a), a[27], a[len(a)-1]"
   ]
  },
  {
   "cell_type": "code",
   "execution_count": 64,
   "id": "5f5b8146-ef6b-489d-abc6-7d9d76141010",
   "metadata": {},
   "outputs": [
    {
     "data": {
      "text/plain": [
       "'hola jolines chayotes verdes'"
      ]
     },
     "execution_count": 64,
     "metadata": {},
     "output_type": "execute_result"
    }
   ],
   "source": [
    "a"
   ]
  },
  {
   "cell_type": "code",
   "execution_count": 65,
   "id": "2fa0f22e-77de-4183-b4d0-34d1af42d9c0",
   "metadata": {},
   "outputs": [
    {
     "data": {
      "text/plain": [
       "'s'"
      ]
     },
     "execution_count": 65,
     "metadata": {},
     "output_type": "execute_result"
    }
   ],
   "source": [
    "a[-1]"
   ]
  },
  {
   "cell_type": "code",
   "execution_count": 66,
   "id": "a14f0fe3-8e47-476b-82af-f747abc2c1e2",
   "metadata": {},
   "outputs": [
    {
     "data": {
      "text/plain": [
       "'s'"
      ]
     },
     "execution_count": 66,
     "metadata": {},
     "output_type": "execute_result"
    }
   ],
   "source": [
    "a[-1]"
   ]
  },
  {
   "cell_type": "code",
   "execution_count": 67,
   "id": "55127451-3a3c-4bf4-b2e7-35af791fa405",
   "metadata": {},
   "outputs": [
    {
     "data": {
      "text/plain": [
       "'v'"
      ]
     },
     "execution_count": 67,
     "metadata": {},
     "output_type": "execute_result"
    }
   ],
   "source": [
    "a[-6]"
   ]
  },
  {
   "cell_type": "code",
   "execution_count": 71,
   "id": "eb0535fd-bc32-4d81-9719-18e7a5b30e6a",
   "metadata": {},
   "outputs": [
    {
     "data": {
      "text/plain": [
       "'verde'"
      ]
     },
     "execution_count": 71,
     "metadata": {},
     "output_type": "execute_result"
    }
   ],
   "source": [
    "a[-6:-1]"
   ]
  },
  {
   "cell_type": "code",
   "execution_count": 72,
   "id": "6b687d29-0cec-4662-9c47-838d2f0cdb04",
   "metadata": {},
   "outputs": [
    {
     "data": {
      "text/plain": [
       "'verdes'"
      ]
     },
     "execution_count": 72,
     "metadata": {},
     "output_type": "execute_result"
    }
   ],
   "source": [
    "a[-6:]"
   ]
  },
  {
   "cell_type": "code",
   "execution_count": 73,
   "id": "f9673fa4-e24c-4ca0-a5d4-a83e680291c4",
   "metadata": {},
   "outputs": [
    {
     "data": {
      "text/plain": [
       "'hola jolines chayotes verdes'"
      ]
     },
     "execution_count": 73,
     "metadata": {},
     "output_type": "execute_result"
    }
   ],
   "source": [
    "a[:]"
   ]
  },
  {
   "cell_type": "code",
   "execution_count": 74,
   "id": "096ed28a-93bd-4be5-bc22-4de62e71fb6b",
   "metadata": {},
   "outputs": [
    {
     "data": {
      "text/plain": [
       "'sedrev setoyahc seniloj aloh'"
      ]
     },
     "execution_count": 74,
     "metadata": {},
     "output_type": "execute_result"
    }
   ],
   "source": [
    "a[::-1]"
   ]
  },
  {
   "cell_type": "code",
   "execution_count": null,
   "id": "260ad54b-92d4-4da3-afc5-9f0fcc5ba0fe",
   "metadata": {},
   "outputs": [],
   "source": []
  }
 ],
 "metadata": {
  "kernelspec": {
   "display_name": "Python 3 (ipykernel)",
   "language": "python",
   "name": "python3"
  },
  "language_info": {
   "codemirror_mode": {
    "name": "ipython",
    "version": 3
   },
   "file_extension": ".py",
   "mimetype": "text/x-python",
   "name": "python",
   "nbconvert_exporter": "python",
   "pygments_lexer": "ipython3",
   "version": "3.13.6"
  }
 },
 "nbformat": 4,
 "nbformat_minor": 5
}
