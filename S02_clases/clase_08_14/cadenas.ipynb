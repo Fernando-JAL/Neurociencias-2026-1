{
 "cells": [
  {
   "cell_type": "code",
   "execution_count": 2,
   "id": "4881b1f9-2de1-45af-8faa-f75175842e5c",
   "metadata": {},
   "outputs": [],
   "source": [
    "cadena ='cadena'"
   ]
  },
  {
   "cell_type": "code",
   "execution_count": 3,
   "id": "9999065f-18e3-42ea-913f-c64402abd2f3",
   "metadata": {},
   "outputs": [
    {
     "data": {
      "text/plain": [
       "'n'"
      ]
     },
     "execution_count": 3,
     "metadata": {},
     "output_type": "execute_result"
    }
   ],
   "source": [
    "cadena[4]"
   ]
  },
  {
   "cell_type": "code",
   "execution_count": 5,
   "id": "53fab4ac-65c6-4cb4-b606-e1ae1d1ee338",
   "metadata": {},
   "outputs": [
    {
     "ename": "TypeError",
     "evalue": "'str' object does not support item assignment",
     "output_type": "error",
     "traceback": [
      "\u001b[31m---------------------------------------------------------------------------\u001b[39m",
      "\u001b[31mTypeError\u001b[39m                                 Traceback (most recent call last)",
      "\u001b[36mCell\u001b[39m\u001b[36m \u001b[39m\u001b[32mIn[5]\u001b[39m\u001b[32m, line 1\u001b[39m\n\u001b[32m----> \u001b[39m\u001b[32m1\u001b[39m \u001b[43mcadena\u001b[49m\u001b[43m[\u001b[49m\u001b[32;43m4\u001b[39;49m\u001b[43m]\u001b[49m = \u001b[33m'\u001b[39m\u001b[33mj\u001b[39m\u001b[33m'\u001b[39m\n",
      "\u001b[31mTypeError\u001b[39m: 'str' object does not support item assignment"
     ]
    }
   ],
   "source": [
    "#La cadena es inmutable. No soporta la asignación de datos.\n",
    "\n",
    "cadena[4] = 'j'"
   ]
  },
  {
   "cell_type": "code",
   "execution_count": 6,
   "id": "57268e28-6369-454f-945b-e513e9bb89e9",
   "metadata": {},
   "outputs": [],
   "source": [
    "cadena_larga = 'hoy no vino javi'"
   ]
  },
  {
   "cell_type": "code",
   "execution_count": 9,
   "id": "b942fc6c-f189-41d6-97af-9fa4012677d5",
   "metadata": {},
   "outputs": [
    {
     "data": {
      "text/plain": [
       "'javi'"
      ]
     },
     "execution_count": 9,
     "metadata": {},
     "output_type": "execute_result"
    }
   ],
   "source": [
    "cadena_larga[-4:]"
   ]
  },
  {
   "cell_type": "code",
   "execution_count": 10,
   "id": "eaab4a19-9c28-45b1-9d6f-ea5affb86cd4",
   "metadata": {},
   "outputs": [
    {
     "ename": "TypeError",
     "evalue": "'str' object does not support item assignment",
     "output_type": "error",
     "traceback": [
      "\u001b[31m---------------------------------------------------------------------------\u001b[39m",
      "\u001b[31mTypeError\u001b[39m                                 Traceback (most recent call last)",
      "\u001b[36mCell\u001b[39m\u001b[36m \u001b[39m\u001b[32mIn[10]\u001b[39m\u001b[32m, line 1\u001b[39m\n\u001b[32m----> \u001b[39m\u001b[32m1\u001b[39m \u001b[43mcadena_larga\u001b[49m\u001b[43m[\u001b[49m\u001b[43m-\u001b[49m\u001b[32;43m4\u001b[39;49m\u001b[43m:\u001b[49m\u001b[43m]\u001b[49m = \u001b[33m'\u001b[39m\u001b[33myuli\u001b[39m\u001b[33m'\u001b[39m\n",
      "\u001b[31mTypeError\u001b[39m: 'str' object does not support item assignment"
     ]
    }
   ],
   "source": [
    "cadena_larga[-4:] = 'yuli'"
   ]
  },
  {
   "cell_type": "code",
   "execution_count": 11,
   "id": "0efa60af-cd1c-4e05-9a01-7153f14726ee",
   "metadata": {},
   "outputs": [],
   "source": [
    "cadena1 = 'donde esta oswaldo'\n",
    "cadena2 = 'viva la programación'\n",
    "cadena3 = 'bts volvió del ejército'"
   ]
  },
  {
   "cell_type": "code",
   "execution_count": 22,
   "id": "5e239d4b-4900-4d4c-bf47-2c0b3ec9dd66",
   "metadata": {},
   "outputs": [
    {
     "data": {
      "text/plain": [
       "'donde esta '"
      ]
     },
     "execution_count": 22,
     "metadata": {},
     "output_type": "execute_result"
    }
   ],
   "source": [
    "cadena1_1 = cadena1[:11]\n",
    "cadena1_1"
   ]
  },
  {
   "cell_type": "code",
   "execution_count": 16,
   "id": "cee20d2e-b3f3-4170-9b02-85e4967a3a2f",
   "metadata": {},
   "outputs": [
    {
     "data": {
      "text/plain": [
       "'la programación'"
      ]
     },
     "execution_count": 16,
     "metadata": {},
     "output_type": "execute_result"
    }
   ],
   "source": [
    "cadena2_2 = cadena2[5:]\n",
    "cadena2_2"
   ]
  },
  {
   "cell_type": "code",
   "execution_count": 19,
   "id": "137e574f-4f67-489a-a9f1-dbd019a83f56",
   "metadata": {},
   "outputs": [
    {
     "data": {
      "text/plain": [
       "'volvió del ejército'"
      ]
     },
     "execution_count": 19,
     "metadata": {},
     "output_type": "execute_result"
    }
   ],
   "source": [
    "cadena3_3 = cadena3[4:]\n",
    "cadena3_3"
   ]
  },
  {
   "cell_type": "code",
   "execution_count": 24,
   "id": "cb5663d8-749a-400d-bd41-3173d4b8ae1d",
   "metadata": {},
   "outputs": [
    {
     "data": {
      "text/plain": [
       "'donde esta la programación que volvió del ejército'"
      ]
     },
     "execution_count": 24,
     "metadata": {},
     "output_type": "execute_result"
    }
   ],
   "source": [
    "cadena1_1 + cadena2_2 + ' que ' + cadena3_3"
   ]
  },
  {
   "cell_type": "code",
   "execution_count": 46,
   "id": "c4e6a16c-b98d-4ee8-b561-4ce42772025f",
   "metadata": {},
   "outputs": [
    {
     "data": {
      "text/plain": [
       "'oswaldo volvió a la programación ed óivlov stb'"
      ]
     },
     "execution_count": 46,
     "metadata": {},
     "output_type": "execute_result"
    }
   ],
   "source": [
    "cadena1[-7:] + cadena3[3:11] +  'a ' + cadena2[5:] + ' ' + cadena3[-11::-1]"
   ]
  },
  {
   "cell_type": "markdown",
   "id": "948927cd-aae1-4402-aee0-75e1348088fa",
   "metadata": {},
   "source": [
    "## Listas"
   ]
  },
  {
   "cell_type": "code",
   "execution_count": 48,
   "id": "1a51a24a-aa93-4436-989d-7b29865ff14c",
   "metadata": {},
   "outputs": [
    {
     "data": {
      "text/plain": [
       "[2, 3, 6, 5, 'lololol', 2.34, (1+8j)]"
      ]
     },
     "execution_count": 48,
     "metadata": {},
     "output_type": "execute_result"
    }
   ],
   "source": [
    "lista = [2,3,6,5, 'lololol', 2.34, complex(1,8)]\n",
    "lista"
   ]
  },
  {
   "cell_type": "code",
   "execution_count": 49,
   "id": "74e15923-d565-4f83-99e0-fa2020404f1e",
   "metadata": {},
   "outputs": [
    {
     "data": {
      "text/plain": [
       "list"
      ]
     },
     "execution_count": 49,
     "metadata": {},
     "output_type": "execute_result"
    }
   ],
   "source": [
    "type(lista)"
   ]
  },
  {
   "cell_type": "code",
   "execution_count": 50,
   "id": "88a00285-89cf-43f8-976e-7cb1ef15828c",
   "metadata": {},
   "outputs": [
    {
     "data": {
      "text/plain": [
       "'lololol'"
      ]
     },
     "execution_count": 50,
     "metadata": {},
     "output_type": "execute_result"
    }
   ],
   "source": [
    "lista[4]"
   ]
  },
  {
   "cell_type": "code",
   "execution_count": 51,
   "id": "21060824-b258-4cc1-98c6-a1372aed7d21",
   "metadata": {},
   "outputs": [
    {
     "data": {
      "text/plain": [
       "2"
      ]
     },
     "execution_count": 51,
     "metadata": {},
     "output_type": "execute_result"
    }
   ],
   "source": [
    "lista[0]"
   ]
  },
  {
   "cell_type": "code",
   "execution_count": 52,
   "id": "68494011-2b5a-49aa-91ee-46d43de7e6c3",
   "metadata": {},
   "outputs": [
    {
     "data": {
      "text/plain": [
       "(3+8j)"
      ]
     },
     "execution_count": 52,
     "metadata": {},
     "output_type": "execute_result"
    }
   ],
   "source": [
    "lista[0] + lista[6]"
   ]
  },
  {
   "cell_type": "code",
   "execution_count": 53,
   "id": "b8526574-93f1-45ec-ac31-d30bc05fec61",
   "metadata": {},
   "outputs": [
    {
     "data": {
      "text/plain": [
       "'lololollololol'"
      ]
     },
     "execution_count": 53,
     "metadata": {},
     "output_type": "execute_result"
    }
   ],
   "source": [
    "lista[0] * lista[4]"
   ]
  },
  {
   "cell_type": "code",
   "execution_count": 54,
   "id": "01979337-95c3-4da3-9a94-72c4f45b71ad",
   "metadata": {},
   "outputs": [
    {
     "data": {
      "text/plain": [
       "6"
      ]
     },
     "execution_count": 54,
     "metadata": {},
     "output_type": "execute_result"
    }
   ],
   "source": [
    "lista[0] * lista[1]"
   ]
  },
  {
   "cell_type": "code",
   "execution_count": 56,
   "id": "14b2cf70-9019-48c6-8c09-77a70ddbc937",
   "metadata": {},
   "outputs": [
    {
     "data": {
      "text/plain": [
       "'roy'"
      ]
     },
     "execution_count": 56,
     "metadata": {},
     "output_type": "execute_result"
    }
   ],
   "source": [
    "lista[3] = 'roy'\n",
    "lista[3]"
   ]
  },
  {
   "cell_type": "code",
   "execution_count": 57,
   "id": "40faddfc-7aad-4fcd-bde2-11d7631a1c6c",
   "metadata": {},
   "outputs": [
    {
     "data": {
      "text/plain": [
       "7"
      ]
     },
     "execution_count": 57,
     "metadata": {},
     "output_type": "execute_result"
    }
   ],
   "source": [
    "len(lista)"
   ]
  },
  {
   "cell_type": "code",
   "execution_count": 60,
   "id": "5b4df672-2b6f-4472-bb7a-2af5f38679e1",
   "metadata": {},
   "outputs": [
    {
     "name": "stdout",
     "output_type": "stream",
     "text": [
      "58 [2, 3, 'e', 'l', ' ', 'n', 'e', 'g', 'r', 'i', 't', 'o', ' ', 'o', 'j', 'o', ' ', 'c', 'l', 'a', 'r', 'o', 'n', 'e', 'g', 'r', 'i', 't', 'o', ' ', 'o', 'j', 'o', ' ', 'c', 'l', 'a', 'r', 'o', 'n', 'e', 'g', 'r', 'i', 't', 'o', ' ', 'o', 'j', 'o', ' ', 'c', 'l', 'a', 'r', 'o', 2.34, (1+8j)]\n"
     ]
    }
   ],
   "source": [
    "lista[2:5] = 'el negrito ojo claro'\n",
    "print(len(lista), lista)"
   ]
  },
  {
   "cell_type": "code",
   "execution_count": 61,
   "id": "b50e3977-8776-405b-a889-49aac7e51819",
   "metadata": {},
   "outputs": [
    {
     "name": "stdout",
     "output_type": "stream",
     "text": [
      "58 [2, 3, 'el negrito ojo claro', 'el negrito ojo claro', 'el negrito ojo claro', 'n', 'e', 'g', 'r', 'i', 't', 'o', ' ', 'o', 'j', 'o', ' ', 'c', 'l', 'a', 'r', 'o', 'n', 'e', 'g', 'r', 'i', 't', 'o', ' ', 'o', 'j', 'o', ' ', 'c', 'l', 'a', 'r', 'o', 'n', 'e', 'g', 'r', 'i', 't', 'o', ' ', 'o', 'j', 'o', ' ', 'c', 'l', 'a', 'r', 'o', 2.34, (1+8j)]\n"
     ]
    }
   ],
   "source": [
    "lista[2:5] = 3 * ['el negrito ojo claro']\n",
    "print(len(lista), lista)"
   ]
  },
  {
   "cell_type": "code",
   "execution_count": 63,
   "id": "893bc146-3be2-4f0e-a719-400d6eaba8a4",
   "metadata": {},
   "outputs": [
    {
     "data": {
      "text/plain": [
       "[2,\n",
       " 3,\n",
       " 'el negrito ojo claro',\n",
       " 'el negrito ojo claro',\n",
       " 'el negrito ojo claro',\n",
       " 'n']"
      ]
     },
     "execution_count": 63,
     "metadata": {},
     "output_type": "execute_result"
    }
   ],
   "source": [
    "lista[6:56] = []\n",
    "lista"
   ]
  },
  {
   "cell_type": "code",
   "execution_count": 65,
   "id": "b7b9d9a4-6b4e-4fc7-82d1-e10ddd93cac2",
   "metadata": {},
   "outputs": [
    {
     "data": {
      "text/plain": [
       "['el negrito ojo claro', 'el negrito ojo claro', 'el negrito ojo claro', 'n']"
      ]
     },
     "execution_count": 65,
     "metadata": {},
     "output_type": "execute_result"
    }
   ],
   "source": [
    "lista[-4:]"
   ]
  },
  {
   "cell_type": "code",
   "execution_count": 68,
   "id": "c0feca37-1cd1-406f-8464-671415b58e3c",
   "metadata": {},
   "outputs": [
    {
     "data": {
      "text/plain": [
       "'C:\\\\Users\\\\V304_15\\\\Documents\\\\GitHub\\\\Neurociencias-2026-1\\\\S02_clases\\\\readme.md'"
      ]
     },
     "execution_count": 68,
     "metadata": {},
     "output_type": "execute_result"
    }
   ],
   "source": [
    "ruta = r\"C:\\Users\\V304_15\\Documents\\GitHub\\Neurociencias-2026-1\\S02_clases\\readme.md\"\n",
    "ruta"
   ]
  },
  {
   "cell_type": "code",
   "execution_count": null,
   "id": "434c23c2-08d2-49d8-83b1-d494051e1d2b",
   "metadata": {},
   "outputs": [],
   "source": []
  },
  {
   "cell_type": "code",
   "execution_count": null,
   "id": "215ada33-4b17-4268-a7a7-14aef3d7b28a",
   "metadata": {},
   "outputs": [],
   "source": []
  },
  {
   "cell_type": "code",
   "execution_count": null,
   "id": "344b57a4-76c4-44ca-a677-1bdbf7f199e0",
   "metadata": {},
   "outputs": [],
   "source": []
  }
 ],
 "metadata": {
  "kernelspec": {
   "display_name": "Python 3 (ipykernel)",
   "language": "python",
   "name": "python3"
  },
  "language_info": {
   "codemirror_mode": {
    "name": "ipython",
    "version": 3
   },
   "file_extension": ".py",
   "mimetype": "text/x-python",
   "name": "python",
   "nbconvert_exporter": "python",
   "pygments_lexer": "ipython3",
   "version": "3.11.1"
  }
 },
 "nbformat": 4,
 "nbformat_minor": 5
}
