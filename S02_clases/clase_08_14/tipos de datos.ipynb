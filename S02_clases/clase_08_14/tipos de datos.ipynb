{
 "cells": [
  {
   "cell_type": "markdown",
   "id": "bf98a075-502e-418d-bb8e-74fe6bcf5a90",
   "metadata": {},
   "source": [
    "# tipos de datos\n",
    "\n",
    "- numerico\n",
    "- string\n",
    "- sequence\n",
    "- dict"
   ]
  },
  {
   "cell_type": "code",
   "execution_count": 4,
   "id": "c625e22a-f33f-41c6-bd2f-8380162c3387",
   "metadata": {},
   "outputs": [
    {
     "data": {
      "text/plain": [
       "1"
      ]
     },
     "execution_count": 4,
     "metadata": {},
     "output_type": "execute_result"
    }
   ],
   "source": [
    "a = 1\n",
    "a"
   ]
  },
  {
   "cell_type": "code",
   "execution_count": 6,
   "id": "c3d56f09-7c98-4f9e-a410-444fe3cb30da",
   "metadata": {},
   "outputs": [
    {
     "data": {
      "text/plain": [
       "-123456789123456123456789123456123456789123456123456789123456"
      ]
     },
     "execution_count": 6,
     "metadata": {},
     "output_type": "execute_result"
    }
   ],
   "source": [
    "b = -123456789123456123456789123456123456789123456123456789123456\n",
    "b"
   ]
  },
  {
   "cell_type": "code",
   "execution_count": 11,
   "id": "6a4e76fa-c707-4160-9f63-ad933944f07f",
   "metadata": {},
   "outputs": [
    {
     "data": {
      "text/plain": [
       "(int, int)"
      ]
     },
     "execution_count": 11,
     "metadata": {},
     "output_type": "execute_result"
    }
   ],
   "source": [
    "type(a), type(b)"
   ]
  },
  {
   "cell_type": "code",
   "execution_count": 13,
   "id": "43ebaccb-5222-46e8-98ad-8d4517cd73c7",
   "metadata": {},
   "outputs": [
    {
     "data": {
      "text/plain": [
       "float"
      ]
     },
     "execution_count": 13,
     "metadata": {},
     "output_type": "execute_result"
    }
   ],
   "source": [
    "type(1.2)"
   ]
  },
  {
   "cell_type": "markdown",
   "id": "d7b73c82-fac6-4e9a-ac98-9c4707afb2f1",
   "metadata": {},
   "source": [
    "## definición de complejos"
   ]
  },
  {
   "cell_type": "code",
   "execution_count": 15,
   "id": "067b9fdc-da3d-4a5d-8569-a239ac446ddd",
   "metadata": {},
   "outputs": [
    {
     "data": {
      "text/plain": [
       "(1+3j)"
      ]
     },
     "execution_count": 15,
     "metadata": {},
     "output_type": "execute_result"
    }
   ],
   "source": [
    "complex(1, 3)"
   ]
  },
  {
   "cell_type": "code",
   "execution_count": 16,
   "id": "bff85a18-a040-4c3f-a95e-73dd9ce4a726",
   "metadata": {},
   "outputs": [
    {
     "data": {
      "text/plain": [
       "(4+7j)"
      ]
     },
     "execution_count": 16,
     "metadata": {},
     "output_type": "execute_result"
    }
   ],
   "source": [
    "complex(4, 7)"
   ]
  },
  {
   "cell_type": "code",
   "execution_count": 17,
   "id": "53dbb372-47c1-4c66-9d8f-5420cc2d0c58",
   "metadata": {},
   "outputs": [
    {
     "data": {
      "text/plain": [
       "(3+1j)"
      ]
     },
     "execution_count": 17,
     "metadata": {},
     "output_type": "execute_result"
    }
   ],
   "source": [
    "complex(3, 1)"
   ]
  },
  {
   "cell_type": "code",
   "execution_count": 23,
   "id": "3b0bbc5e-65a5-4a1b-9390-1d890ce51073",
   "metadata": {},
   "outputs": [
    {
     "data": {
      "text/plain": [
       "1j"
      ]
     },
     "execution_count": 23,
     "metadata": {},
     "output_type": "execute_result"
    }
   ],
   "source": [
    "complex(0, 1)"
   ]
  },
  {
   "cell_type": "code",
   "execution_count": 24,
   "id": "b8b80590-6b95-4c56-9c40-4cde23861ae0",
   "metadata": {},
   "outputs": [
    {
     "data": {
      "text/plain": [
       "(3+1j)"
      ]
     },
     "execution_count": 24,
     "metadata": {},
     "output_type": "execute_result"
    }
   ],
   "source": [
    "complex(0, 1) + 3"
   ]
  },
  {
   "cell_type": "code",
   "execution_count": 27,
   "id": "7e3fa51b-9f92-4ecc-a7ce-6f4310a08d31",
   "metadata": {},
   "outputs": [
    {
     "data": {
      "text/plain": [
       "(3+1j)"
      ]
     },
     "execution_count": 27,
     "metadata": {},
     "output_type": "execute_result"
    }
   ],
   "source": [
    "c = complex(3, 1)\n",
    "c"
   ]
  },
  {
   "cell_type": "code",
   "execution_count": 28,
   "id": "63db2729-49ed-4e74-8f3f-815a3fa0b2d6",
   "metadata": {},
   "outputs": [
    {
     "data": {
      "text/plain": [
       "(3+3j)"
      ]
     },
     "execution_count": 28,
     "metadata": {},
     "output_type": "execute_result"
    }
   ],
   "source": [
    "# quiero sumar 2j al valor de c\n",
    "c + complex(0, 2)"
   ]
  },
  {
   "cell_type": "code",
   "execution_count": 29,
   "id": "552f109f-d4c1-4e94-a4dd-596906a5968b",
   "metadata": {},
   "outputs": [
    {
     "data": {
      "text/plain": [
       "complex"
      ]
     },
     "execution_count": 29,
     "metadata": {},
     "output_type": "execute_result"
    }
   ],
   "source": [
    "type(c)"
   ]
  },
  {
   "cell_type": "markdown",
   "id": "fc93801e-237f-42d1-a4f2-8ba15630ff7e",
   "metadata": {},
   "source": [
    "# operaciones con tipos de datos numéricos"
   ]
  },
  {
   "cell_type": "code",
   "execution_count": 30,
   "id": "aa43fb6a-90e8-48f1-917f-defbebde8a71",
   "metadata": {},
   "outputs": [
    {
     "data": {
      "text/plain": [
       "100"
      ]
     },
     "execution_count": 30,
     "metadata": {},
     "output_type": "execute_result"
    }
   ],
   "source": [
    "56 + 44"
   ]
  },
  {
   "cell_type": "code",
   "execution_count": 31,
   "id": "17d38475-7416-4884-8d40-9d9040ff806f",
   "metadata": {},
   "outputs": [
    {
     "data": {
      "text/plain": [
       "720"
      ]
     },
     "execution_count": 31,
     "metadata": {},
     "output_type": "execute_result"
    }
   ],
   "source": [
    "800-80"
   ]
  },
  {
   "cell_type": "code",
   "execution_count": 32,
   "id": "48b38149-7052-47eb-b622-1b657a94492a",
   "metadata": {},
   "outputs": [
    {
     "data": {
      "text/plain": [
       "783"
      ]
     },
     "execution_count": 32,
     "metadata": {},
     "output_type": "execute_result"
    }
   ],
   "source": [
    "87*9"
   ]
  },
  {
   "cell_type": "code",
   "execution_count": 33,
   "id": "82bd0276-dafd-4f1f-94fb-26b995113572",
   "metadata": {},
   "outputs": [
    {
     "data": {
      "text/plain": [
       "1.8521739130434782"
      ]
     },
     "execution_count": 33,
     "metadata": {},
     "output_type": "execute_result"
    }
   ],
   "source": [
    "85.2/46"
   ]
  },
  {
   "cell_type": "code",
   "execution_count": 35,
   "id": "d76701fa-1bdb-4c6d-8633-012c1531eaa4",
   "metadata": {},
   "outputs": [
    {
     "data": {
      "text/plain": [
       "125"
      ]
     },
     "execution_count": 35,
     "metadata": {},
     "output_type": "execute_result"
    }
   ],
   "source": [
    "5**3"
   ]
  },
  {
   "cell_type": "code",
   "execution_count": 38,
   "id": "5d6bb933-2ec9-451f-a9ec-977858bbc220",
   "metadata": {},
   "outputs": [
    {
     "data": {
      "text/plain": [
       "3.0"
      ]
     },
     "execution_count": 38,
     "metadata": {},
     "output_type": "execute_result"
    }
   ],
   "source": [
    "9**0.5"
   ]
  },
  {
   "cell_type": "code",
   "execution_count": 39,
   "id": "980114d2-2dd8-41a6-9174-3582037286ef",
   "metadata": {},
   "outputs": [
    {
     "data": {
      "text/plain": [
       "0"
      ]
     },
     "execution_count": 39,
     "metadata": {},
     "output_type": "execute_result"
    }
   ],
   "source": [
    "# para calcular el residuo\n",
    "16 % 4"
   ]
  },
  {
   "cell_type": "code",
   "execution_count": 41,
   "id": "70f1296a-9e71-46a3-8d12-4f5e0d1e734d",
   "metadata": {},
   "outputs": [
    {
     "data": {
      "text/plain": [
       "4"
      ]
     },
     "execution_count": 41,
     "metadata": {},
     "output_type": "execute_result"
    }
   ],
   "source": [
    "# para calcular el cociente o división entera\n",
    "16 // 4"
   ]
  },
  {
   "cell_type": "code",
   "execution_count": 42,
   "id": "71a360b5-c560-43df-8593-20b51844e052",
   "metadata": {},
   "outputs": [],
   "source": [
    "a = 8\n",
    "b = 3\n",
    "c = 42"
   ]
  },
  {
   "cell_type": "code",
   "execution_count": 46,
   "id": "d231ac5a-4670-451c-a303-738c9d557d32",
   "metadata": {},
   "outputs": [
    {
     "data": {
      "text/plain": [
       "(8, 3, 42)"
      ]
     },
     "execution_count": 46,
     "metadata": {},
     "output_type": "execute_result"
    }
   ],
   "source": [
    "a, b, c = 8, 3, 42\n",
    "a, b, c"
   ]
  },
  {
   "cell_type": "code",
   "execution_count": 50,
   "id": "1b57682b-f0fb-4ea3-aa6f-71a40a5727ef",
   "metadata": {},
   "outputs": [
    {
     "ename": "ZeroDivisionError",
     "evalue": "division by zero",
     "output_type": "error",
     "traceback": [
      "\u001b[1;31m---------------------------------------------------------------------------\u001b[0m",
      "\u001b[1;31mZeroDivisionError\u001b[0m                         Traceback (most recent call last)",
      "Cell \u001b[1;32mIn[50], line 1\u001b[0m\n\u001b[1;32m----> 1\u001b[0m c\u001b[38;5;241m/\u001b[39ma \u001b[38;5;241m+\u001b[39m a\u001b[38;5;241m*\u001b[39mb \u001b[38;5;241m-\u001b[39m \u001b[43ma\u001b[49m\u001b[38;5;241;43m*\u001b[39;49m\u001b[38;5;241;43m*\u001b[39;49m\u001b[43mb\u001b[49m\u001b[38;5;241;43m/\u001b[39;49m\u001b[43m(\u001b[49m\u001b[43mc\u001b[49m\u001b[38;5;241;43m%\u001b[39;49m\u001b[43mb\u001b[49m\u001b[43m)\u001b[49m\n",
      "\u001b[1;31mZeroDivisionError\u001b[0m: division by zero"
     ]
    }
   ],
   "source": [
    "c/a + a*b - a**b/(c%b)"
   ]
  },
  {
   "cell_type": "markdown",
   "id": "24123979-c3ed-469a-ba74-bcae66608829",
   "metadata": {},
   "source": [
    "# strings"
   ]
  },
  {
   "cell_type": "code",
   "execution_count": 51,
   "id": "824c4f77-191c-483b-a9d2-3468fb418078",
   "metadata": {},
   "outputs": [
    {
     "data": {
      "text/plain": [
       "'esto es una cadena de texto'"
      ]
     },
     "execution_count": 51,
     "metadata": {},
     "output_type": "execute_result"
    }
   ],
   "source": [
    "\"esto es una cadena de texto\""
   ]
  },
  {
   "cell_type": "code",
   "execution_count": 52,
   "id": "96ad8555-4423-44fa-9626-7b869c0505a9",
   "metadata": {},
   "outputs": [
    {
     "data": {
      "text/plain": [
       "'estao también es una cadena de texto'"
      ]
     },
     "execution_count": 52,
     "metadata": {},
     "output_type": "execute_result"
    }
   ],
   "source": [
    "'estao también es una cadena de texto'"
   ]
  },
  {
   "cell_type": "code",
   "execution_count": 54,
   "id": "29b74490-233c-42c2-9157-39789d647968",
   "metadata": {},
   "outputs": [
    {
     "data": {
      "text/plain": [
       "('cadena de texto 1', 'cadena de texto 2')"
      ]
     },
     "execution_count": 54,
     "metadata": {},
     "output_type": "execute_result"
    }
   ],
   "source": [
    "a, b = 'cadena de texto 1', 'cadena de texto 2'\n",
    "a, b"
   ]
  },
  {
   "cell_type": "code",
   "execution_count": 60,
   "id": "67da0b0c-d962-4add-b130-ba3c6b239175",
   "metadata": {},
   "outputs": [
    {
     "name": "stdout",
     "output_type": "stream",
     "text": [
      "cadena de texto 1 cadena de texto 2 otra cosa 89.5 lo que sea\n"
     ]
    }
   ],
   "source": [
    "print(a, b, 'otra cosa', 89.5, 'lo que sea')"
   ]
  },
  {
   "cell_type": "code",
   "execution_count": 61,
   "id": "d4a9fa2b-5564-410a-b3b7-6ba413fa9e36",
   "metadata": {},
   "outputs": [
    {
     "name": "stdout",
     "output_type": "stream",
     "text": [
      "cadena de texto 1 \t cadena de texto 2 otra cosa 89.5 lo que sea\n"
     ]
    }
   ],
   "source": [
    "print(a, '\\t', b, 'otra cosa', 89.5, 'lo que sea')\n",
    "# la cadena '\\t' significa tabulación"
   ]
  },
  {
   "cell_type": "code",
   "execution_count": 65,
   "id": "401a639b-44a2-4762-9026-a6b037e93009",
   "metadata": {},
   "outputs": [
    {
     "name": "stdout",
     "output_type": "stream",
     "text": [
      "cadena de texto 1 \t cadena de texto 2 otra cosa 89.5 lo que sea\n"
     ]
    }
   ],
   "source": [
    "print(a, \"\\t\", b, 'otra cosa', 89.5, 'lo que sea')"
   ]
  },
  {
   "cell_type": "code",
   "execution_count": 62,
   "id": "7934a6fe-5e96-48dd-9cbd-a564227400b6",
   "metadata": {},
   "outputs": [
    {
     "name": "stdout",
     "output_type": "stream",
     "text": [
      "cadena de texto 1 \n",
      " cadena de texto 2 otra cosa 89.5 lo que sea\n"
     ]
    }
   ],
   "source": [
    "print(a, '\\n', b, 'otra cosa', 89.5, 'lo que sea')\n",
    "# la cadena '\\n' significa salto de línea"
   ]
  },
  {
   "cell_type": "code",
   "execution_count": 63,
   "id": "658bc9b1-133c-46b3-8aaf-2eac99b6c016",
   "metadata": {},
   "outputs": [
    {
     "name": "stdout",
     "output_type": "stream",
     "text": [
      "C:\n",
      "ombre_de_la_carpeta\tareas\n"
     ]
    }
   ],
   "source": [
    "print('C:\\nombre_de_la_carpeta\\tareas')"
   ]
  },
  {
   "cell_type": "code",
   "execution_count": 64,
   "id": "e034adee-a272-4e5e-a788-9533f489bc96",
   "metadata": {},
   "outputs": [
    {
     "name": "stdout",
     "output_type": "stream",
     "text": [
      "C:\\nombre_de_la_carpeta\\tareas\n"
     ]
    }
   ],
   "source": [
    "print(r'C:\\nombre_de_la_carpeta\\tareas')"
   ]
  },
  {
   "cell_type": "code",
   "execution_count": 66,
   "id": "aba5db48-ff91-48d5-b995-4472c90bb888",
   "metadata": {},
   "outputs": [
    {
     "ename": "SyntaxError",
     "evalue": "unterminated string literal (detected at line 1) (1833131014.py, line 1)",
     "output_type": "error",
     "traceback": [
      "\u001b[1;36m  Cell \u001b[1;32mIn[66], line 1\u001b[1;36m\u001b[0m\n\u001b[1;33m    print(\"primera línea de texto\u001b[0m\n\u001b[1;37m          ^\u001b[0m\n\u001b[1;31mSyntaxError\u001b[0m\u001b[1;31m:\u001b[0m unterminated string literal (detected at line 1)\n"
     ]
    }
   ],
   "source": [
    "print(\"primera línea de texto\n",
    "segunda línea de texto\n",
    "tercera línea de texto\")"
   ]
  },
  {
   "cell_type": "code",
   "execution_count": 67,
   "id": "ee8a193c-4749-4a24-bbd4-a7d00943bad6",
   "metadata": {},
   "outputs": [
    {
     "name": "stdout",
     "output_type": "stream",
     "text": [
      "primera línea de texto\n",
      "segunda línea de texto\n",
      "tercera línea de texto\n"
     ]
    }
   ],
   "source": [
    "print(\"\"\"primera línea de texto\n",
    "segunda línea de texto\n",
    "tercera línea de texto\"\"\")"
   ]
  },
  {
   "cell_type": "code",
   "execution_count": 70,
   "id": "0cc7abc7-26ee-4d8b-9220-f3ac17f6c7e6",
   "metadata": {},
   "outputs": [],
   "source": [
    "a, b = 'ah', 'be'"
   ]
  },
  {
   "cell_type": "code",
   "execution_count": 71,
   "id": "d59ddc64-098b-4bd3-b9bf-b893f36586c0",
   "metadata": {},
   "outputs": [
    {
     "data": {
      "text/plain": [
       "'ahbe'"
      ]
     },
     "execution_count": 71,
     "metadata": {},
     "output_type": "execute_result"
    }
   ],
   "source": [
    "a + b"
   ]
  },
  {
   "cell_type": "code",
   "execution_count": 75,
   "id": "e205c629-7657-47c9-b48a-3a7c38e52f25",
   "metadata": {},
   "outputs": [
    {
     "data": {
      "text/plain": [
       "'ahahahbebeah'"
      ]
     },
     "execution_count": 75,
     "metadata": {},
     "output_type": "execute_result"
    }
   ],
   "source": [
    "3 * a + 2*b + a"
   ]
  },
  {
   "cell_type": "code",
   "execution_count": 76,
   "id": "da130ed5-b0ea-4a59-a674-176393f4a4a1",
   "metadata": {},
   "outputs": [
    {
     "data": {
      "text/plain": [
       "'ahahah'"
      ]
     },
     "execution_count": 76,
     "metadata": {},
     "output_type": "execute_result"
    }
   ],
   "source": [
    "3*a"
   ]
  },
  {
   "cell_type": "code",
   "execution_count": 79,
   "id": "bc8e595e-5e07-4831-8724-5e66e93004f5",
   "metadata": {},
   "outputs": [
    {
     "data": {
      "text/plain": [
       "('ahbe', 'beah')"
      ]
     },
     "execution_count": 79,
     "metadata": {},
     "output_type": "execute_result"
    }
   ],
   "source": [
    "a + b, b + a"
   ]
  },
  {
   "cell_type": "markdown",
   "id": "2d37dded-20bc-4e00-aff3-ae37d4185287",
   "metadata": {},
   "source": [
    " # slicing = rebanando"
   ]
  },
  {
   "cell_type": "code",
   "execution_count": 80,
   "id": "6eae6a48-6793-4432-9a72-b090b6ac25e2",
   "metadata": {},
   "outputs": [],
   "source": [
    "a = 'hola jolines chayotes verdes'"
   ]
  },
  {
   "cell_type": "code",
   "execution_count": 81,
   "id": "244bb64f-ce0e-4b03-ac18-f99686b0b3be",
   "metadata": {},
   "outputs": [],
   "source": [
    "b = 'cadena'"
   ]
  },
  {
   "cell_type": "code",
   "execution_count": 83,
   "id": "4c864145-f289-40e7-a83f-afc89a5a2ae9",
   "metadata": {},
   "outputs": [
    {
     "data": {
      "text/plain": [
       "'n'"
      ]
     },
     "execution_count": 83,
     "metadata": {},
     "output_type": "execute_result"
    }
   ],
   "source": [
    "b[4]"
   ]
  },
  {
   "cell_type": "code",
   "execution_count": 84,
   "id": "17c34d41-988d-42aa-9de8-0d9898ae57cc",
   "metadata": {},
   "outputs": [
    {
     "data": {
      "text/plain": [
       "6"
      ]
     },
     "execution_count": 84,
     "metadata": {},
     "output_type": "execute_result"
    }
   ],
   "source": [
    "len(b)"
   ]
  },
  {
   "cell_type": "code",
   "execution_count": 85,
   "id": "379453f3-5f12-47d7-90fc-72559c77b86a",
   "metadata": {},
   "outputs": [
    {
     "data": {
      "text/plain": [
       "'hola jolines chayotes verdes'"
      ]
     },
     "execution_count": 85,
     "metadata": {},
     "output_type": "execute_result"
    }
   ],
   "source": [
    "a"
   ]
  },
  {
   "cell_type": "code",
   "execution_count": 88,
   "id": "1b72508b-8c27-48bb-a396-268e66fba77b",
   "metadata": {},
   "outputs": [
    {
     "data": {
      "text/plain": [
       "'chayotes'"
      ]
     },
     "execution_count": 88,
     "metadata": {},
     "output_type": "execute_result"
    }
   ],
   "source": [
    "# c tiene la posición 13\n",
    "# s tiene la poisición 20\n",
    "pos_i = 13\n",
    "pos_f = 20\n",
    "a[pos_i: pos_f+1]"
   ]
  },
  {
   "cell_type": "code",
   "execution_count": 91,
   "id": "a023b27b-39a4-4844-996b-fbcb74019d64",
   "metadata": {},
   "outputs": [
    {
     "data": {
      "text/plain": [
       "'cadena'"
      ]
     },
     "execution_count": 91,
     "metadata": {},
     "output_type": "execute_result"
    }
   ],
   "source": [
    "b[0: 6]"
   ]
  },
  {
   "cell_type": "code",
   "execution_count": 92,
   "id": "d6786010-8e5f-46ab-b138-49270b9c5fa6",
   "metadata": {},
   "outputs": [
    {
     "data": {
      "text/plain": [
       "'hola jolines chayotes verdes'"
      ]
     },
     "execution_count": 92,
     "metadata": {},
     "output_type": "execute_result"
    }
   ],
   "source": [
    "a"
   ]
  },
  {
   "cell_type": "code",
   "execution_count": 95,
   "id": "15a093ea-cf6f-4642-abec-0d17e15467e9",
   "metadata": {},
   "outputs": [
    {
     "data": {
      "text/plain": [
       "' oie hyt'"
      ]
     },
     "execution_count": 95,
     "metadata": {},
     "output_type": "execute_result"
    }
   ],
   "source": [
    "a[4: 20: 2]\n",
    "# el rango funciona como range(pos_i, pos_f, salto)"
   ]
  },
  {
   "cell_type": "code",
   "execution_count": 98,
   "id": "138ed337-a787-4c79-bb1f-8cd9b9170778",
   "metadata": {},
   "outputs": [
    {
     "data": {
      "text/plain": [
       "(28, 's', 's')"
      ]
     },
     "execution_count": 98,
     "metadata": {},
     "output_type": "execute_result"
    }
   ],
   "source": [
    "len(a), a[27], a[len(a)-1]"
   ]
  },
  {
   "cell_type": "code",
   "execution_count": 99,
   "id": "b79668d7-5826-4a5e-8fdd-a8f5a98e21b3",
   "metadata": {},
   "outputs": [
    {
     "data": {
      "text/plain": [
       "'hola jolines chayotes verdes'"
      ]
     },
     "execution_count": 99,
     "metadata": {},
     "output_type": "execute_result"
    }
   ],
   "source": [
    "a"
   ]
  },
  {
   "cell_type": "code",
   "execution_count": 101,
   "id": "d5eb6ded-62b3-458e-a563-c748672bbc43",
   "metadata": {},
   "outputs": [
    {
     "data": {
      "text/plain": [
       "'s'"
      ]
     },
     "execution_count": 101,
     "metadata": {},
     "output_type": "execute_result"
    }
   ],
   "source": [
    "a[-1]"
   ]
  },
  {
   "cell_type": "code",
   "execution_count": 105,
   "id": "20b75fd3-f2c5-4527-be29-23ef1636d88d",
   "metadata": {},
   "outputs": [
    {
     "data": {
      "text/plain": [
       "'verde'"
      ]
     },
     "execution_count": 105,
     "metadata": {},
     "output_type": "execute_result"
    }
   ],
   "source": [
    "a[-6:-1]"
   ]
  },
  {
   "cell_type": "code",
   "execution_count": 108,
   "id": "d9833072-aeec-4ca7-91fd-64d55a1dbaa5",
   "metadata": {},
   "outputs": [
    {
     "data": {
      "text/plain": [
       "'hola jolines chayotes verdes'"
      ]
     },
     "execution_count": 108,
     "metadata": {},
     "output_type": "execute_result"
    }
   ],
   "source": [
    "a"
   ]
  },
  {
   "cell_type": "code",
   "execution_count": 107,
   "id": "46d3b06c-4d93-430e-ac7d-6f406a8ac935",
   "metadata": {},
   "outputs": [
    {
     "data": {
      "text/plain": [
       "'verdes'"
      ]
     },
     "execution_count": 107,
     "metadata": {},
     "output_type": "execute_result"
    }
   ],
   "source": [
    "a[-6:]"
   ]
  },
  {
   "cell_type": "code",
   "execution_count": 111,
   "id": "ca07f5a7-048e-43a8-ae81-aff9e2fcd436",
   "metadata": {},
   "outputs": [
    {
     "data": {
      "text/plain": [
       "'hola'"
      ]
     },
     "execution_count": 111,
     "metadata": {},
     "output_type": "execute_result"
    }
   ],
   "source": [
    "a[:4]"
   ]
  },
  {
   "cell_type": "code",
   "execution_count": 113,
   "id": "bf948c12-b1e1-4977-ab98-3b0e8a6d0958",
   "metadata": {},
   "outputs": [
    {
     "data": {
      "text/plain": [
       "'hola jolines chayotes verdes'"
      ]
     },
     "execution_count": 113,
     "metadata": {},
     "output_type": "execute_result"
    }
   ],
   "source": [
    "a[:]"
   ]
  },
  {
   "cell_type": "code",
   "execution_count": 115,
   "id": "5ab247d4-150f-4fdf-9135-0d5fd8bdc207",
   "metadata": {},
   "outputs": [
    {
     "data": {
      "text/plain": [
       "'sde eoacsnljao'"
      ]
     },
     "execution_count": 115,
     "metadata": {},
     "output_type": "execute_result"
    }
   ],
   "source": [
    "a[::-2]"
   ]
  },
  {
   "cell_type": "code",
   "execution_count": null,
   "id": "0a6e88b2-6255-4661-9946-60ebad264659",
   "metadata": {},
   "outputs": [],
   "source": []
  },
  {
   "cell_type": "code",
   "execution_count": null,
   "id": "18421779-acb9-4e41-ac84-221e923c3f03",
   "metadata": {},
   "outputs": [],
   "source": []
  },
  {
   "cell_type": "code",
   "execution_count": null,
   "id": "9e0f52eb-b59e-443c-b579-5d9061b049a6",
   "metadata": {},
   "outputs": [],
   "source": []
  },
  {
   "cell_type": "code",
   "execution_count": null,
   "id": "e231de7b-9fed-4e37-bf9e-21cfb47215ec",
   "metadata": {},
   "outputs": [],
   "source": []
  },
  {
   "cell_type": "code",
   "execution_count": null,
   "id": "563bc2c9-6a6a-4123-be4e-1ec13d7525cb",
   "metadata": {},
   "outputs": [],
   "source": []
  },
  {
   "cell_type": "code",
   "execution_count": null,
   "id": "f326b919-342a-4b8d-82b5-d4d68a53bd87",
   "metadata": {},
   "outputs": [],
   "source": []
  },
  {
   "cell_type": "code",
   "execution_count": null,
   "id": "328900eb-dc83-4e8d-9440-d0a9d8d3625d",
   "metadata": {},
   "outputs": [],
   "source": []
  },
  {
   "cell_type": "code",
   "execution_count": null,
   "id": "e78c8da8-82d6-47b8-b5f7-11bc50e08b1b",
   "metadata": {},
   "outputs": [],
   "source": []
  }
 ],
 "metadata": {
  "kernelspec": {
   "display_name": "Python 3 (ipykernel)",
   "language": "python",
   "name": "python3"
  },
  "language_info": {
   "codemirror_mode": {
    "name": "ipython",
    "version": 3
   },
   "file_extension": ".py",
   "mimetype": "text/x-python",
   "name": "python",
   "nbconvert_exporter": "python",
   "pygments_lexer": "ipython3",
   "version": "3.10.4"
  }
 },
 "nbformat": 4,
 "nbformat_minor": 5
}
