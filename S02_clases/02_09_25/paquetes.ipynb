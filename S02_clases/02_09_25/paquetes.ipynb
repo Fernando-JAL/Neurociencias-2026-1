{
 "cells": [
  {
   "cell_type": "markdown",
   "id": "c01cf868-94af-4ac0-be93-6232563deb6f",
   "metadata": {},
   "source": [
    "## Bibliotecas, paquetes,modulos"
   ]
  },
  {
   "cell_type": "code",
   "execution_count": 1,
   "id": "e268e58d-04f2-43b3-87bc-92bb7170865c",
   "metadata": {},
   "outputs": [],
   "source": [
    "from cosas import * ##mando llamar a mi modulo \"cosas\", no olvidar actualizar con kernell"
   ]
  },
  {
   "cell_type": "code",
   "execution_count": 3,
   "id": "148b96de-34ae-46be-9598-e4666fda8b7f",
   "metadata": {},
   "outputs": [
    {
     "name": "stdout",
     "output_type": "stream",
     "text": [
      "hola mundo\n"
     ]
    }
   ],
   "source": [
    "funcion()"
   ]
  },
  {
   "cell_type": "code",
   "execution_count": 4,
   "id": "b33bbf3e-d4ed-4b7f-8cd7-cdc365a3fe44",
   "metadata": {},
   "outputs": [
    {
     "name": "stdout",
     "output_type": "stream",
     "text": [
      "hola desde el paquete\n"
     ]
    }
   ],
   "source": [
    "saludo() "
   ]
  },
  {
   "cell_type": "code",
   "execution_count": null,
   "id": "faa25b6a-7dee-468d-bd56-ef70614b74c9",
   "metadata": {},
   "outputs": [],
   "source": [
    "## ¡qué es un modulo? es script que contiene variables, funciones y clases "
   ]
  },
  {
   "cell_type": "code",
   "execution_count": 2,
   "id": "ee5fcc9f-4c36-4e93-8cae-edf41d53f4a4",
   "metadata": {},
   "outputs": [
    {
     "data": {
      "text/plain": [
       "3"
      ]
     },
     "execution_count": 2,
     "metadata": {},
     "output_type": "execute_result"
    }
   ],
   "source": [
    "suma(1,2)"
   ]
  },
  {
   "cell_type": "markdown",
   "id": "dc22df19-92db-4b0e-81e2-958fe986a878",
   "metadata": {},
   "source": [
    "# Paquete numpy\n",
    "Es un paquete enfocado en manipular arreglos de n dimensiones, es decir un arreglo. Un arreglo es una lista númerico con una sola dimension\n",
    "Numpy no hace matématicos\n",
    "\n"
   ]
  },
  {
   "cell_type": "code",
   "execution_count": 8,
   "id": "ed42ed41-f8a3-4720-95df-0a6b03a54176",
   "metadata": {},
   "outputs": [],
   "source": [
    "import numpy as np\n"
   ]
  },
  {
   "cell_type": "code",
   "execution_count": 9,
   "id": "5d4dd7b2-105d-4169-921f-9a17aa94fd5b",
   "metadata": {},
   "outputs": [
    {
     "data": {
      "text/plain": [
       "numpy.ndarray"
      ]
     },
     "execution_count": 9,
     "metadata": {},
     "output_type": "execute_result"
    }
   ],
   "source": [
    "lista = [3,4,5]\n",
    "\n",
    "variable = np.array(lista) ## a esta varible hazmela un arreglo\n",
    "type (variable)"
   ]
  },
  {
   "cell_type": "code",
   "execution_count": 25,
   "id": "c0a54e0b-6f3e-417d-b30d-6c22d90dd89e",
   "metadata": {},
   "outputs": [
    {
     "data": {
      "text/plain": [
       "1"
      ]
     },
     "execution_count": 25,
     "metadata": {},
     "output_type": "execute_result"
    }
   ],
   "source": [
    "variable.ndim"
   ]
  },
  {
   "cell_type": "code",
   "execution_count": 28,
   "id": "669ef816-e65c-4b44-b057-201db99dd011",
   "metadata": {},
   "outputs": [
    {
     "data": {
      "text/plain": [
       "(numpy.ndarray, 2)"
      ]
     },
     "execution_count": 28,
     "metadata": {},
     "output_type": "execute_result"
    }
   ],
   "source": [
    "var2= np.array([\n",
    "     [4,5,6],\n",
    "     [7,8,9]\n",
    "])\n",
    "type(var2), var2.ndim ## cuantas dimensiones tiene mi variable"
   ]
  },
  {
   "cell_type": "code",
   "execution_count": 29,
   "id": "2b435abd-7912-4460-a179-e0bb6861186f",
   "metadata": {},
   "outputs": [
    {
     "data": {
      "text/plain": [
       "array([[4, 5, 6],\n",
       "       [7, 8, 9]])"
      ]
     },
     "execution_count": 29,
     "metadata": {},
     "output_type": "execute_result"
    }
   ],
   "source": [
    "var2"
   ]
  },
  {
   "cell_type": "code",
   "execution_count": 30,
   "id": "8be668b6-f3a0-4600-a128-2d762a84eb2d",
   "metadata": {},
   "outputs": [
    {
     "data": {
      "text/plain": [
       "(2, 3)"
      ]
     },
     "execution_count": 30,
     "metadata": {},
     "output_type": "execute_result"
    }
   ],
   "source": [
    "var2.shape ##los arreglos tmb tienen forma, dos filas 3 columnas"
   ]
  },
  {
   "cell_type": "markdown",
   "id": "f632667c-7e51-4de4-8b7e-27e315ccb2bf",
   "metadata": {},
   "source": [
    "## funciones de numpy"
   ]
  },
  {
   "cell_type": "code",
   "execution_count": 31,
   "id": "c7531d7a-d236-4b96-bf30-8c7753f1f8a2",
   "metadata": {},
   "outputs": [
    {
     "data": {
      "text/plain": [
       "(array([0., 0., 0., 0., 0., 0., 0., 0., 0., 0., 0., 0., 0., 0., 0., 0., 0.,\n",
       "        0., 0., 0.]),\n",
       " array([[0., 0., 0., 0.],\n",
       "        [0., 0., 0., 0.],\n",
       "        [0., 0., 0., 0.]]))"
      ]
     },
     "execution_count": 31,
     "metadata": {},
     "output_type": "execute_result"
    }
   ],
   "source": [
    "np.zeros(20), np.zeros([3,4]) ##arreglo de puros ceros, tú argumento son el número de ceros"
   ]
  },
  {
   "cell_type": "code",
   "execution_count": 35,
   "id": "9f4bb8a9-6d62-4c2e-a19f-438afe1bc698",
   "metadata": {},
   "outputs": [
    {
     "data": {
      "text/plain": [
       "array([[[[[1., 1., 1.],\n",
       "          [1., 1., 1.],\n",
       "          [1., 1., 1.]],\n",
       "\n",
       "         [[1., 1., 1.],\n",
       "          [1., 1., 1.],\n",
       "          [1., 1., 1.]],\n",
       "\n",
       "         [[1., 1., 1.],\n",
       "          [1., 1., 1.],\n",
       "          [1., 1., 1.]]],\n",
       "\n",
       "\n",
       "        [[[1., 1., 1.],\n",
       "          [1., 1., 1.],\n",
       "          [1., 1., 1.]],\n",
       "\n",
       "         [[1., 1., 1.],\n",
       "          [1., 1., 1.],\n",
       "          [1., 1., 1.]],\n",
       "\n",
       "         [[1., 1., 1.],\n",
       "          [1., 1., 1.],\n",
       "          [1., 1., 1.]]],\n",
       "\n",
       "\n",
       "        [[[1., 1., 1.],\n",
       "          [1., 1., 1.],\n",
       "          [1., 1., 1.]],\n",
       "\n",
       "         [[1., 1., 1.],\n",
       "          [1., 1., 1.],\n",
       "          [1., 1., 1.]],\n",
       "\n",
       "         [[1., 1., 1.],\n",
       "          [1., 1., 1.],\n",
       "          [1., 1., 1.]]]],\n",
       "\n",
       "\n",
       "\n",
       "       [[[[1., 1., 1.],\n",
       "          [1., 1., 1.],\n",
       "          [1., 1., 1.]],\n",
       "\n",
       "         [[1., 1., 1.],\n",
       "          [1., 1., 1.],\n",
       "          [1., 1., 1.]],\n",
       "\n",
       "         [[1., 1., 1.],\n",
       "          [1., 1., 1.],\n",
       "          [1., 1., 1.]]],\n",
       "\n",
       "\n",
       "        [[[1., 1., 1.],\n",
       "          [1., 1., 1.],\n",
       "          [1., 1., 1.]],\n",
       "\n",
       "         [[1., 1., 1.],\n",
       "          [1., 1., 1.],\n",
       "          [1., 1., 1.]],\n",
       "\n",
       "         [[1., 1., 1.],\n",
       "          [1., 1., 1.],\n",
       "          [1., 1., 1.]]],\n",
       "\n",
       "\n",
       "        [[[1., 1., 1.],\n",
       "          [1., 1., 1.],\n",
       "          [1., 1., 1.]],\n",
       "\n",
       "         [[1., 1., 1.],\n",
       "          [1., 1., 1.],\n",
       "          [1., 1., 1.]],\n",
       "\n",
       "         [[1., 1., 1.],\n",
       "          [1., 1., 1.],\n",
       "          [1., 1., 1.]]]],\n",
       "\n",
       "\n",
       "\n",
       "       [[[[1., 1., 1.],\n",
       "          [1., 1., 1.],\n",
       "          [1., 1., 1.]],\n",
       "\n",
       "         [[1., 1., 1.],\n",
       "          [1., 1., 1.],\n",
       "          [1., 1., 1.]],\n",
       "\n",
       "         [[1., 1., 1.],\n",
       "          [1., 1., 1.],\n",
       "          [1., 1., 1.]]],\n",
       "\n",
       "\n",
       "        [[[1., 1., 1.],\n",
       "          [1., 1., 1.],\n",
       "          [1., 1., 1.]],\n",
       "\n",
       "         [[1., 1., 1.],\n",
       "          [1., 1., 1.],\n",
       "          [1., 1., 1.]],\n",
       "\n",
       "         [[1., 1., 1.],\n",
       "          [1., 1., 1.],\n",
       "          [1., 1., 1.]]],\n",
       "\n",
       "\n",
       "        [[[1., 1., 1.],\n",
       "          [1., 1., 1.],\n",
       "          [1., 1., 1.]],\n",
       "\n",
       "         [[1., 1., 1.],\n",
       "          [1., 1., 1.],\n",
       "          [1., 1., 1.]],\n",
       "\n",
       "         [[1., 1., 1.],\n",
       "          [1., 1., 1.],\n",
       "          [1., 1., 1.]]]],\n",
       "\n",
       "\n",
       "\n",
       "       [[[[1., 1., 1.],\n",
       "          [1., 1., 1.],\n",
       "          [1., 1., 1.]],\n",
       "\n",
       "         [[1., 1., 1.],\n",
       "          [1., 1., 1.],\n",
       "          [1., 1., 1.]],\n",
       "\n",
       "         [[1., 1., 1.],\n",
       "          [1., 1., 1.],\n",
       "          [1., 1., 1.]]],\n",
       "\n",
       "\n",
       "        [[[1., 1., 1.],\n",
       "          [1., 1., 1.],\n",
       "          [1., 1., 1.]],\n",
       "\n",
       "         [[1., 1., 1.],\n",
       "          [1., 1., 1.],\n",
       "          [1., 1., 1.]],\n",
       "\n",
       "         [[1., 1., 1.],\n",
       "          [1., 1., 1.],\n",
       "          [1., 1., 1.]]],\n",
       "\n",
       "\n",
       "        [[[1., 1., 1.],\n",
       "          [1., 1., 1.],\n",
       "          [1., 1., 1.]],\n",
       "\n",
       "         [[1., 1., 1.],\n",
       "          [1., 1., 1.],\n",
       "          [1., 1., 1.]],\n",
       "\n",
       "         [[1., 1., 1.],\n",
       "          [1., 1., 1.],\n",
       "          [1., 1., 1.]]]]])"
      ]
     },
     "execution_count": 35,
     "metadata": {},
     "output_type": "execute_result"
    }
   ],
   "source": [
    "np.ones([4,3,3, 3, 3]) ##arreglos de puros unos"
   ]
  },
  {
   "cell_type": "code",
   "execution_count": 38,
   "id": "a189af2a-64a8-4059-b2c3-7fa9f00c109a",
   "metadata": {},
   "outputs": [
    {
     "data": {
      "text/plain": [
       "array([[1., 0., 0.],\n",
       "       [0., 1., 0.],\n",
       "       [0., 0., 1.]])"
      ]
     },
     "execution_count": 38,
     "metadata": {},
     "output_type": "execute_result"
    }
   ],
   "source": [
    "np.eye(3) ##función para crear una matriz de identidad, recordar q las matricez de identidad tienen q ser cuadradois"
   ]
  },
  {
   "cell_type": "code",
   "execution_count": 37,
   "id": "c246e5ac-5fac-4d60-9eae-6501c330501d",
   "metadata": {},
   "outputs": [
    {
     "data": {
      "text/plain": [
       "array([[1., 0., 0., 0., 0.],\n",
       "       [0., 1., 0., 0., 0.],\n",
       "       [0., 0., 1., 0., 0.],\n",
       "       [0., 0., 0., 1., 0.],\n",
       "       [0., 0., 0., 0., 1.]])"
      ]
     },
     "execution_count": 37,
     "metadata": {},
     "output_type": "execute_result"
    }
   ],
   "source": [
    "np.eye(5) ## crea una matriz de 5*5"
   ]
  },
  {
   "cell_type": "code",
   "execution_count": 39,
   "id": "82c71d3b-553e-42e4-bfef-ede61e4f7510",
   "metadata": {},
   "outputs": [],
   "source": [
    "## crar un arreglo de 4x4 cuyos elementos en la diagonal sean=8 y los de afuera=-10"
   ]
  },
  {
   "cell_type": "code",
   "execution_count": 62,
   "id": "d3553b44-c2ea-4989-a9c2-7ec0d08c3509",
   "metadata": {},
   "outputs": [
    {
     "name": "stdout",
     "output_type": "stream",
     "text": [
      "[[  8. -10. -10. -10.]\n",
      " [-10.   8. -10. -10.]\n",
      " [-10. -10.   8. -10.]\n",
      " [-10. -10. -10.   8.]]\n"
     ]
    }
   ],
   "source": [
    "valor= -10*np.ones([4,4])+ 18*np.eye(4) ##puedes sumar arregles, -10+18= 8\n",
    "print(valor)"
   ]
  },
  {
   "cell_type": "code",
   "execution_count": 55,
   "id": "72f1a961-0f2a-4a8d-be16-9c92ae5247d5",
   "metadata": {},
   "outputs": [
    {
     "data": {
      "text/plain": [
       "array([[8., 0., 0., 0.],\n",
       "       [0., 8., 0., 0.],\n",
       "       [0., 0., 8., 0.],\n",
       "       [0., 0., 0., 8.]])"
      ]
     },
     "execution_count": 55,
     "metadata": {},
     "output_type": "execute_result"
    }
   ],
   "source": [
    "np.eye(4)*8## puedes multiplicar los argumentos de los arreglos"
   ]
  },
  {
   "cell_type": "code",
   "execution_count": 59,
   "id": "e9ccca64-8b9b-4e9f-8317-d0df2a261d1f",
   "metadata": {},
   "outputs": [
    {
     "data": {
      "text/plain": [
       "array([[ 4., -5., -5., -5.],\n",
       "       [-5.,  4., -5., -5.],\n",
       "       [-5., -5.,  4., -5.],\n",
       "       [-5., -5., -5.,  4.]])"
      ]
     },
     "execution_count": 59,
     "metadata": {},
     "output_type": "execute_result"
    }
   ],
   "source": [
    "valor/2 ### los arreglos se pueden dividir"
   ]
  },
  {
   "cell_type": "code",
   "execution_count": 60,
   "id": "d9d74742-d709-4913-a0fb-d83e0100bb9c",
   "metadata": {},
   "outputs": [
    {
     "data": {
      "text/plain": [
       "array([[ 64., 100., 100., 100.],\n",
       "       [100.,  64., 100., 100.],\n",
       "       [100., 100.,  64., 100.],\n",
       "       [100., 100., 100.,  64.]])"
      ]
     },
     "execution_count": 60,
     "metadata": {},
     "output_type": "execute_result"
    }
   ],
   "source": [
    "valor**2"
   ]
  },
  {
   "cell_type": "code",
   "execution_count": 63,
   "id": "2c3585d1-c697-4309-b64d-3198d6207626",
   "metadata": {},
   "outputs": [
    {
     "data": {
      "text/plain": [
       "array([[ 0.125, -0.1  , -0.1  , -0.1  ],\n",
       "       [-0.1  ,  0.125, -0.1  , -0.1  ],\n",
       "       [-0.1  , -0.1  ,  0.125, -0.1  ],\n",
       "       [-0.1  , -0.1  , -0.1  ,  0.125]])"
      ]
     },
     "execution_count": 63,
     "metadata": {},
     "output_type": "execute_result"
    }
   ],
   "source": [
    "1/valor"
   ]
  },
  {
   "cell_type": "code",
   "execution_count": null,
   "id": "9ea11e14-f0ca-4a87-9b79-c513de74e4ed",
   "metadata": {},
   "outputs": [],
   "source": []
  }
 ],
 "metadata": {
  "kernelspec": {
   "display_name": "Python 3 (ipykernel)",
   "language": "python",
   "name": "python3"
  },
  "language_info": {
   "codemirror_mode": {
    "name": "ipython",
    "version": 3
   },
   "file_extension": ".py",
   "mimetype": "text/x-python",
   "name": "python",
   "nbconvert_exporter": "python",
   "pygments_lexer": "ipython3",
   "version": "3.10.4"
  }
 },
 "nbformat": 4,
 "nbformat_minor": 5
}
