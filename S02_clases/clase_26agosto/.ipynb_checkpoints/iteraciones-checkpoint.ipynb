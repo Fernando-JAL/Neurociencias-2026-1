{
 "cells": [
  {
   "cell_type": "markdown",
   "id": "c13d94a1-2a52-4166-ac51-1c5d4ca62152",
   "metadata": {},
   "source": [
    "# Iteraciones"
   ]
  },
  {
   "cell_type": "markdown",
   "id": "0ae93079-8dfb-4bd4-b631-7e2b6daf5a3b",
   "metadata": {},
   "source": [
    "### Sentencia While\n",
    "Se basa en repetir un bloque de código a partir de una condición lógica. Mientras la condición sea __True__, el bloque se repetirá."
   ]
  },
  {
   "cell_type": "code",
   "execution_count": 2,
   "id": "1a5368a0-779c-450d-a83a-75880ef2223f",
   "metadata": {},
   "outputs": [
    {
     "name": "stdout",
     "output_type": "stream",
     "text": [
      "El valor de la variable es 0\n",
      "Código después del while\n",
      "El valor de la variable es 2\n",
      "Código después del while\n",
      "El valor de la variable es 4\n",
      "Código después del while\n",
      "El valor de la variable es 6\n",
      "Código después del while\n",
      "El valor de la variable es 8\n",
      "Código después del while\n",
      "El valor de la variable es 10\n",
      "Código después del while\n",
      "El valor de la variable es 12\n",
      "Código después del while\n",
      "El valor de la variable es 14\n",
      "Código después del while\n",
      "El valor de la variable es 16\n",
      "Código después del while\n",
      "El valor de la variable es 18\n",
      "Código después del while\n"
     ]
    }
   ],
   "source": [
    "variable = 0\n",
    "while variable < 20:\n",
    "    print('El valor de la variable es', variable)\n",
    "    variable +=2\n",
    "    print('Código después del while') "
   ]
  },
  {
   "cell_type": "markdown",
   "id": "b27836e9-0ef5-4937-b3f7-3489a6541796",
   "metadata": {},
   "source": [
    "### Break"
   ]
  },
  {
   "cell_type": "code",
   "execution_count": 3,
   "id": "95060359-d1b5-424e-a19f-992a72faa80d",
   "metadata": {},
   "outputs": [
    {
     "name": "stdout",
     "output_type": "stream",
     "text": [
      "1\n",
      "2\n",
      "3\n",
      "4\n",
      "5\n",
      "6\n",
      "Código en el else del while\n",
      "Código después del while\n"
     ]
    }
   ],
   "source": [
    "variable = 0\n",
    "while variable <= 5:\n",
    "    variable += 1\n",
    "    print(variable)\n",
    "else:\n",
    "    print('Código en el else del while')\n",
    "\n",
    "print('Código después del while')"
   ]
  },
  {
   "cell_type": "code",
   "execution_count": 4,
   "id": "4252cad1-c0f5-4bc4-808f-84ef86c44833",
   "metadata": {},
   "outputs": [
    {
     "name": "stdout",
     "output_type": "stream",
     "text": [
      "1\n",
      "2\n",
      "3\n",
      "Entro al condicional para activar el break\n",
      "Código después del while\n"
     ]
    }
   ],
   "source": [
    "variable = 0\n",
    "while variable <= 5:\n",
    "    variable += 1\n",
    "    print(variable)\n",
    "    if variable == 3:\n",
    "        print('Entro al condicional para activar el break')\n",
    "        break # Termina todo\n",
    "else:\n",
    "    print('Código en el else del while')\n",
    "\n",
    "print('Código después del while')\n",
    "\n",
    "# Es decir, una vez llegas al break, bye a lo demás"
   ]
  },
  {
   "cell_type": "markdown",
   "id": "09376e04-6aa5-4bb0-b8a2-b0180819491e",
   "metadata": {},
   "source": [
    "### Continue"
   ]
  },
  {
   "cell_type": "code",
   "execution_count": 5,
   "id": "fb560fca-b189-4ad5-a6b3-117583b1ffd9",
   "metadata": {},
   "outputs": [
    {
     "name": "stdout",
     "output_type": "stream",
     "text": [
      "1\n",
      "Código después del condicional del continue\n",
      "2\n",
      "Código después del condicional del continue\n",
      "3\n",
      "Entro al condicional para activar el continue\n",
      "4\n",
      "Código después del condicional del continue\n",
      "5\n",
      "Código después del condicional del continue\n",
      "6\n",
      "Código después del condicional del continue\n",
      "Código en el else del while\n",
      "Código después del while\n"
     ]
    }
   ],
   "source": [
    "variable = 0\n",
    "while variable <= 5:\n",
    "    variable += 1\n",
    "    print(variable)\n",
    "    if variable == 3:\n",
    "        print('Entro al condicional para activar el continue')\n",
    "        continue # Termina solo esa iteración\n",
    "    print('Código después del condicional del continue')\n",
    "else:\n",
    "    print('Código en el else del while')\n",
    "\n",
    "print('Código después del while')"
   ]
  },
  {
   "cell_type": "markdown",
   "id": "60600240-3705-47bc-8cda-b4b6ea152364",
   "metadata": {},
   "source": [
    "# Controlador de flujo _for_"
   ]
  },
  {
   "cell_type": "code",
   "execution_count": 10,
   "id": "1d66b088-467a-4c14-9920-c532af03fa61",
   "metadata": {},
   "outputs": [
    {
     "name": "stdout",
     "output_type": "stream",
     "text": [
      "2\n",
      "4\n",
      "6\n",
      "8\n",
      "10\n",
      "12\n",
      "14\n",
      "16\n",
      "18\n"
     ]
    }
   ],
   "source": [
    "listas = [2, 4, 6, 8, 10, 12, 14, 16, 18]\n",
    "for valor in listas:\n",
    "    print(valor)"
   ]
  },
  {
   "cell_type": "code",
   "execution_count": null,
   "id": "3c446024-2cd6-46ac-aa5d-dfe9480c0c44",
   "metadata": {},
   "outputs": [],
   "source": [
    "for letra in \"Cadena\"\n",
    "    print(letra)"
   ]
  },
  {
   "cell_type": "code",
   "execution_count": 9,
   "id": "8343ae0d-e9c1-489c-ab6d-af3878efedc2",
   "metadata": {},
   "outputs": [
    {
     "name": "stdout",
     "output_type": "stream",
     "text": [
      "key1\n",
      "key2\n",
      "key3\n"
     ]
    }
   ],
   "source": [
    "diccionario = {'key1': 'val1', 'key2': 'val2', 'key3': 'val3'}\n",
    "\n",
    "for llave in diccionario:\n",
    "    print(llave)"
   ]
  },
  {
   "cell_type": "code",
   "execution_count": 11,
   "id": "52ff46b8-38ef-44ad-bea5-18ad232673dd",
   "metadata": {},
   "outputs": [
    {
     "name": "stdout",
     "output_type": "stream",
     "text": [
      "La lista tiene 5 elementos\n"
     ]
    }
   ],
   "source": [
    "listas = [2, 4, 6, 8, 10]\n",
    "\n",
    "longitud = 0\n",
    "for valor in listas:\n",
    "    longitud += 1\n",
    "print('La lista tiene', longitud, 'elementos') # nótese que en este renglón no usamos 'valor'"
   ]
  },
  {
   "cell_type": "code",
   "execution_count": 12,
   "id": "e412e589-70ee-48b1-9bff-a3b55c69724f",
   "metadata": {},
   "outputs": [
    {
     "name": "stdout",
     "output_type": "stream",
     "text": [
      "El promedio de los valores de la lista es 6.0\n"
     ]
    }
   ],
   "source": [
    "listas = [2, 4, 6, 8, 10]\n",
    "\n",
    "promedio = 0\n",
    "for valor in listas:\n",
    "    promedio += valor\n",
    "\n",
    "promedio /= len(listas)\n",
    "print('El promedio de los valores de la lista es', promedio)"
   ]
  },
  {
   "cell_type": "code",
   "execution_count": 17,
   "id": "305082e9-627a-464b-993b-6e678597e195",
   "metadata": {},
   "outputs": [
    {
     "name": "stdout",
     "output_type": "stream",
     "text": [
      "El valor 2 es par, su cuadrado es 4\n",
      "El valor 4 es par, su cuadrado es 16\n",
      "El valor 6 es par, su cuadrado es 36\n",
      "El valor 8 es par, su cuadrado es 64\n",
      "El valor 10 es par, su cuadrado es 100\n",
      "El valor 11 es impar, (n+1)//2 es 6\n"
     ]
    }
   ],
   "source": [
    "# Usando \"listas = [2, 4, 6, 8, 10]\", sobre cada valor de listas determine:\n",
    "# Si el valor de la lista es par, calcule e imprime su valor cuadrado\n",
    "# Si el valor de la lista es impar, sume uno al valor y divídalo sobre 2 e imprima el resultado\n",
    "\n",
    "listas = [2, 4, 6, 8, 10, 11]\n",
    "\n",
    "for n in listas:\n",
    "    if n % 2 == 0:\n",
    "        print('El valor', n, 'es par, su cuadrado es', n**2)\n",
    "    else:\n",
    "        print('El valor', n, 'es impar, (n+1)//2 es', (n+1)//2)"
   ]
  },
  {
   "cell_type": "markdown",
   "id": "8bc12b71-d573-42d5-a584-6ea2e78386e5",
   "metadata": {},
   "source": [
    "# Modificar una lista al vuelo"
   ]
  },
  {
   "cell_type": "code",
   "execution_count": 20,
   "id": "0cbe6e4f-b117-4cbb-b60d-990beb7781f1",
   "metadata": {},
   "outputs": [
    {
     "data": {
      "text/plain": [
       "[52, 54, 56, 58, 60, 61]"
      ]
     },
     "execution_count": 20,
     "metadata": {},
     "output_type": "execute_result"
    }
   ],
   "source": [
    "listas = [2, 4, 6, 8, 10, 11]\n",
    "\n",
    "indice = 0\n",
    "for _ in listas:\n",
    "    listas[indice] += 50\n",
    "    indice += 1\n",
    "\n",
    "listas"
   ]
  },
  {
   "cell_type": "markdown",
   "id": "5a925556-bc0f-4411-8399-8ba70cd01056",
   "metadata": {},
   "source": [
    "# Método enumerate(iterable, start = 0)\n",
    "Regresará un objeto _enumerate_. Este método regresará una tupla de pares, donde el primer elemento será un entero que comenzará en _start_, y el segundo elemento de la tupla tendrá el valor del objeto _iterable_."
   ]
  },
  {
   "cell_type": "code",
   "execution_count": 23,
   "id": "b51c4cb1-7ba5-4909-80da-26ec7533af5e",
   "metadata": {},
   "outputs": [
    {
     "data": {
      "text/plain": [
       "['Cadena', 'con', 'espacios']"
      ]
     },
     "execution_count": 23,
     "metadata": {},
     "output_type": "execute_result"
    }
   ],
   "source": [
    "\"Cadena con espacios\".split(sep=\" \") # Método"
   ]
  },
  {
   "cell_type": "code",
   "execution_count": 24,
   "id": "921dce5a-ae1c-4b8a-8615-465ae22add31",
   "metadata": {},
   "outputs": [
    {
     "data": {
      "text/plain": [
       "[(-20, 2), (-19, 4), (-18, 6), (-17, 8), (-16, 10)]"
      ]
     },
     "execution_count": 24,
     "metadata": {},
     "output_type": "execute_result"
    }
   ],
   "source": [
    "list(enumerate([2,4,6,8,10], start = -20))"
   ]
  },
  {
   "cell_type": "code",
   "execution_count": 26,
   "id": "09702555-97d8-4be8-ae87-476a7f4a293a",
   "metadata": {},
   "outputs": [
    {
     "data": {
      "text/plain": [
       "[(0, 'C'), (1, 'a'), (2, 'd'), (3, 'e'), (4, 'n'), (5, 'a')]"
      ]
     },
     "execution_count": 26,
     "metadata": {},
     "output_type": "execute_result"
    }
   ],
   "source": [
    "list(enumerate('Cadena')) # No es obligatorio especificar el valor de start"
   ]
  },
  {
   "cell_type": "code",
   "execution_count": 28,
   "id": "1077ae23-f68e-48cb-8ab1-bf06222993e6",
   "metadata": {},
   "outputs": [
    {
     "data": {
      "text/plain": [
       "[152, 154, 156, 158, 160, 161]"
      ]
     },
     "execution_count": 28,
     "metadata": {},
     "output_type": "execute_result"
    }
   ],
   "source": [
    "list = [2,4,6,8,10]\n",
    "\n",
    "for indice, _ in enumerate(listas):\n",
    "    listas[indice] += 50\n",
    "    indice += 1\n",
    "listas"
   ]
  },
  {
   "cell_type": "markdown",
   "id": "0102a220-f2d7-4c8b-b16f-a8c690f8e8df",
   "metadata": {},
   "source": [
    "# Built in functions"
   ]
  },
  {
   "cell_type": "markdown",
   "id": "f4da574e-f1fc-4cc8-b274-8b4b1260833b",
   "metadata": {},
   "source": [
    "### Tarea\n",
    "Hacer un ejemplo de las siguientes built-in functions:\n",
    "- all\n",
    "- any\n",
    "- abs\n",
    "- input\n",
    "- max\n",
    "- min\n",
    "- pow\n",
    "- reversed\n",
    "- round\n",
    "- sorted\n",
    "- sum"
   ]
  },
  {
   "cell_type": "code",
   "execution_count": 3,
   "id": "5e910222-8849-44d1-be06-43fe1dec704c",
   "metadata": {},
   "outputs": [
    {
     "data": {
      "text/plain": [
       "True"
      ]
     },
     "execution_count": 3,
     "metadata": {},
     "output_type": "execute_result"
    }
   ],
   "source": [
    "# all() devuelve True si todos son verdaderos\n",
    "lista = [1,2,3]\n",
    "all(lista)"
   ]
  },
  {
   "cell_type": "code",
   "execution_count": 4,
   "id": "10fb767e-f5ef-4a90-9152-5b6291c2f254",
   "metadata": {},
   "outputs": [
    {
     "data": {
      "text/plain": [
       "False"
      ]
     },
     "execution_count": 4,
     "metadata": {},
     "output_type": "execute_result"
    }
   ],
   "source": [
    "lista2 = [1,0,0]\n",
    "all(lista2)"
   ]
  },
  {
   "cell_type": "code",
   "execution_count": 8,
   "id": "e05a538d-1416-4928-af9a-cd1a589a2fa6",
   "metadata": {},
   "outputs": [
    {
     "data": {
      "text/plain": [
       "True"
      ]
     },
     "execution_count": 8,
     "metadata": {},
     "output_type": "execute_result"
    }
   ],
   "source": [
    "# any() devuelve True si alguno es verdadero\n",
    "lista = [1,0,0]\n",
    "any(lista)"
   ]
  },
  {
   "cell_type": "code",
   "execution_count": 7,
   "id": "a8ac7586-6722-4078-b58a-46aa60c97d05",
   "metadata": {},
   "outputs": [
    {
     "data": {
      "text/plain": [
       "False"
      ]
     },
     "execution_count": 7,
     "metadata": {},
     "output_type": "execute_result"
    }
   ],
   "source": [
    "lista2 = [0,0,0]\n",
    "any(lista2)"
   ]
  },
  {
   "cell_type": "code",
   "execution_count": 9,
   "id": "91efb197-16d0-418a-94a7-8b481433e227",
   "metadata": {},
   "outputs": [
    {
     "data": {
      "text/plain": [
       "8"
      ]
     },
     "execution_count": 9,
     "metadata": {},
     "output_type": "execute_result"
    }
   ],
   "source": [
    "# abs() devuelve el valor absoluto\n",
    "abs(-8)"
   ]
  },
  {
   "cell_type": "code",
   "execution_count": 36,
   "id": "e948b548-190c-4b0b-afd6-5b1322162586",
   "metadata": {},
   "outputs": [
    {
     "name": "stdin",
     "output_type": "stream",
     "text": [
      "Enter your name:  Anette\n"
     ]
    },
    {
     "name": "stdout",
     "output_type": "stream",
     "text": [
      "Hello, Anette!\n"
     ]
    }
   ],
   "source": [
    "# input() pide al usuario insertar texto\n",
    "name = input(\"Enter your name: \")\n",
    "print(f\"Hello, {name}!\")"
   ]
  },
  {
   "cell_type": "code",
   "execution_count": 15,
   "id": "d927adfa-4401-427f-b778-a8cc5df00ba4",
   "metadata": {},
   "outputs": [
    {
     "data": {
      "text/plain": [
       "8"
      ]
     },
     "execution_count": 15,
     "metadata": {},
     "output_type": "execute_result"
    }
   ],
   "source": [
    "# max() devuelve el valor máximo\n",
    "lista = [2,4,8]\n",
    "max(lista)"
   ]
  },
  {
   "cell_type": "code",
   "execution_count": 18,
   "id": "15cdeb76-a396-43d7-a121-e068a516c49a",
   "metadata": {},
   "outputs": [
    {
     "data": {
      "text/plain": [
       "2"
      ]
     },
     "execution_count": 18,
     "metadata": {},
     "output_type": "execute_result"
    }
   ],
   "source": [
    "# min devuelve el valor mínimo \n",
    "lista = [2,4,8]\n",
    "min(lista)"
   ]
  },
  {
   "cell_type": "code",
   "execution_count": 19,
   "id": "d7bc362f-d49c-4ece-b622-15fca716c9cc",
   "metadata": {},
   "outputs": [
    {
     "data": {
      "text/plain": [
       "8"
      ]
     },
     "execution_count": 19,
     "metadata": {},
     "output_type": "execute_result"
    }
   ],
   "source": [
    "# pow() devuelve potencia con módulo opcional\n",
    "pow(2,3) # Sin módulo, 2^3"
   ]
  },
  {
   "cell_type": "code",
   "execution_count": 21,
   "id": "8d4388df-f6b8-4c4b-8795-47641f575ae5",
   "metadata": {},
   "outputs": [
    {
     "data": {
      "text/plain": [
       "3"
      ]
     },
     "execution_count": 21,
     "metadata": {},
     "output_type": "execute_result"
    }
   ],
   "source": [
    "pow(2,3,5) # Con módulo, (2^3)%5"
   ]
  },
  {
   "cell_type": "code",
   "execution_count": 28,
   "id": "2123ab42-efe7-46cd-a01f-974c9be83b3c",
   "metadata": {},
   "outputs": [
    {
     "data": {
      "text/plain": [
       "[3, 2, 1]"
      ]
     },
     "execution_count": 28,
     "metadata": {},
     "output_type": "execute_result"
    }
   ],
   "source": [
    "#reversed() devuelve elementos al revés\n",
    "list(reversed([1,2,3]))"
   ]
  },
  {
   "cell_type": "code",
   "execution_count": 29,
   "id": "0db92249-7ce6-45f3-895f-13c41171e9c8",
   "metadata": {},
   "outputs": [
    {
     "data": {
      "text/plain": [
       "3"
      ]
     },
     "execution_count": 29,
     "metadata": {},
     "output_type": "execute_result"
    }
   ],
   "source": [
    "# round() redondea a un número específico\n",
    "round(3.1416) # Sin especificar cantidad de decimales"
   ]
  },
  {
   "cell_type": "code",
   "execution_count": 30,
   "id": "3eb3943f-46d1-486c-b8df-2d7fc16cc451",
   "metadata": {},
   "outputs": [
    {
     "data": {
      "text/plain": [
       "3.142"
      ]
     },
     "execution_count": 30,
     "metadata": {},
     "output_type": "execute_result"
    }
   ],
   "source": [
    "round(3.1416, 3) # Especificando decimales"
   ]
  },
  {
   "cell_type": "code",
   "execution_count": 31,
   "id": "c85ff5c6-13ba-49ce-be44-6cb09025e020",
   "metadata": {},
   "outputs": [
    {
     "data": {
      "text/plain": [
       "[1, 2, 4, 5, 6, 7]"
      ]
     },
     "execution_count": 31,
     "metadata": {},
     "output_type": "execute_result"
    }
   ],
   "source": [
    "# sorted() devuelve los elementos ordenados\n",
    "lista = [1,5,2,7,6,4]\n",
    "sorted(lista)"
   ]
  },
  {
   "cell_type": "code",
   "execution_count": 34,
   "id": "948fcb86-264b-4029-8a8b-c657888f891a",
   "metadata": {},
   "outputs": [
    {
     "data": {
      "text/plain": [
       "12"
      ]
     },
     "execution_count": 34,
     "metadata": {},
     "output_type": "execute_result"
    }
   ],
   "source": [
    "# sum() suma todos los elementos de una lista\n",
    "lista = [2,4,6]\n",
    "sum(lista) # Sin especificar a partir de cuál"
   ]
  },
  {
   "cell_type": "code",
   "execution_count": 35,
   "id": "d8feac4c-3357-49a5-bc82-6d4232ff37f3",
   "metadata": {},
   "outputs": [
    {
     "data": {
      "text/plain": [
       "22"
      ]
     },
     "execution_count": 35,
     "metadata": {},
     "output_type": "execute_result"
    }
   ],
   "source": [
    "lista = [2,4,6]\n",
    "sum(lista, start = 10) # Especificando a partir de dónde"
   ]
  }
 ],
 "metadata": {
  "kernelspec": {
   "display_name": "Python 3 (ipykernel)",
   "language": "python",
   "name": "python3"
  },
  "language_info": {
   "codemirror_mode": {
    "name": "ipython",
    "version": 3
   },
   "file_extension": ".py",
   "mimetype": "text/x-python",
   "name": "python",
   "nbconvert_exporter": "python",
   "pygments_lexer": "ipython3",
   "version": "3.13.7"
  }
 },
 "nbformat": 4,
 "nbformat_minor": 5
}
