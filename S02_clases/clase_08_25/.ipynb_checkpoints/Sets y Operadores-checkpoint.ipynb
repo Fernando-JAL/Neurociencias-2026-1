{
 "cells": [
  {
   "cell_type": "markdown",
   "id": "9ac87db7-1cdc-4cab-8ae9-e8e7a99225ba",
   "metadata": {},
   "source": [
    "# Conversión de tipos de datos"
   ]
  },
  {
   "cell_type": "code",
   "execution_count": 1,
   "id": "93997a5d-7c01-4c34-96ba-67510b756f33",
   "metadata": {},
   "outputs": [
    {
     "data": {
      "text/plain": [
       "(-82, 631.0, 1j)"
      ]
     },
     "execution_count": 1,
     "metadata": {},
     "output_type": "execute_result"
    }
   ],
   "source": [
    "entero, flotante, complejo = -82, 631., complex(0, 1)\n",
    "entero, flotante, complejo"
   ]
  },
  {
   "cell_type": "code",
   "execution_count": 8,
   "id": "75d22faf-ac2b-4a2f-b611-8c2ab349b9e3",
   "metadata": {},
   "outputs": [
    {
     "data": {
      "text/plain": [
       "'1j'"
      ]
     },
     "execution_count": 8,
     "metadata": {},
     "output_type": "execute_result"
    }
   ],
   "source": [
    "str(complejo)"
   ]
  },
  {
   "cell_type": "code",
   "execution_count": 9,
   "id": "b248572e-5183-48b0-a1cc-bbdfe556f30d",
   "metadata": {},
   "outputs": [
    {
     "data": {
      "text/plain": [
       "'-46.23'"
      ]
     },
     "execution_count": 9,
     "metadata": {},
     "output_type": "execute_result"
    }
   ],
   "source": [
    "cadena = '-46.23'\n",
    "cadena"
   ]
  },
  {
   "cell_type": "code",
   "execution_count": 13,
   "id": "3ce54028-96e7-425a-b19e-1b833d584350",
   "metadata": {},
   "outputs": [
    {
     "data": {
      "text/plain": [
       "-46.23"
      ]
     },
     "execution_count": 13,
     "metadata": {},
     "output_type": "execute_result"
    }
   ],
   "source": [
    "float(cadena)"
   ]
  },
  {
   "cell_type": "code",
   "execution_count": 15,
   "id": "0b850645-1491-49a5-8c4a-b9ce413ec642",
   "metadata": {},
   "outputs": [
    {
     "data": {
      "text/plain": [
       "('-', '4', '6', '.', '2', '3')"
      ]
     },
     "execution_count": 15,
     "metadata": {},
     "output_type": "execute_result"
    }
   ],
   "source": [
    "tuple(cadena)"
   ]
  },
  {
   "cell_type": "code",
   "execution_count": 18,
   "id": "6b0ec886-e056-47c5-b6db-d93b1c6d474c",
   "metadata": {},
   "outputs": [
    {
     "data": {
      "text/plain": [
       "-78"
      ]
     },
     "execution_count": 18,
     "metadata": {},
     "output_type": "execute_result"
    }
   ],
   "source": [
    "int('-78')"
   ]
  },
  {
   "cell_type": "markdown",
   "id": "f91459f2-6d11-4d24-b828-81484cd130fc",
   "metadata": {},
   "source": [
    "# Tipo de dato Boolean"
   ]
  },
  {
   "cell_type": "code",
   "execution_count": 20,
   "id": "bb8a7989-0ef4-464f-b7de-e578140ac72c",
   "metadata": {},
   "outputs": [
    {
     "data": {
      "text/plain": [
       "(True, False)"
      ]
     },
     "execution_count": 20,
     "metadata": {},
     "output_type": "execute_result"
    }
   ],
   "source": [
    "value1, value2 = True, False\n",
    "value1, value2"
   ]
  },
  {
   "cell_type": "code",
   "execution_count": 21,
   "id": "8678319d-ceec-4000-ac2c-7ca24177b868",
   "metadata": {},
   "outputs": [
    {
     "data": {
      "text/plain": [
       "bool"
      ]
     },
     "execution_count": 21,
     "metadata": {},
     "output_type": "execute_result"
    }
   ],
   "source": [
    "type(value1)"
   ]
  },
  {
   "cell_type": "code",
   "execution_count": 22,
   "id": "87a5a041-6354-4e44-9ace-85f6a71d06fa",
   "metadata": {},
   "outputs": [
    {
     "data": {
      "text/plain": [
       "False"
      ]
     },
     "execution_count": 22,
     "metadata": {},
     "output_type": "execute_result"
    }
   ],
   "source": [
    "bool(0)"
   ]
  },
  {
   "cell_type": "code",
   "execution_count": 23,
   "id": "6b113dd9-7fdd-4625-acab-3cf6b8fa9e9f",
   "metadata": {},
   "outputs": [
    {
     "data": {
      "text/plain": [
       "True"
      ]
     },
     "execution_count": 23,
     "metadata": {},
     "output_type": "execute_result"
    }
   ],
   "source": [
    "bool(1)"
   ]
  },
  {
   "cell_type": "code",
   "execution_count": 24,
   "id": "f6fcd341-e347-4356-835b-4b42031825c3",
   "metadata": {},
   "outputs": [
    {
     "data": {
      "text/plain": [
       "True"
      ]
     },
     "execution_count": 24,
     "metadata": {},
     "output_type": "execute_result"
    }
   ],
   "source": [
    "bool('Hola')"
   ]
  },
  {
   "cell_type": "code",
   "execution_count": 33,
   "id": "af7d4899-6039-4f6f-8975-760a12531e71",
   "metadata": {},
   "outputs": [
    {
     "data": {
      "text/plain": [
       "(True, True)"
      ]
     },
     "execution_count": 33,
     "metadata": {},
     "output_type": "execute_result"
    }
   ],
   "source": [
    "bool(-150.456), bool(complex(0, 1))"
   ]
  },
  {
   "cell_type": "code",
   "execution_count": 37,
   "id": "69d10c7b-e384-4349-8e70-e381626557fd",
   "metadata": {},
   "outputs": [
    {
     "data": {
      "text/plain": [
       "(False, True)"
      ]
     },
     "execution_count": 37,
     "metadata": {},
     "output_type": "execute_result"
    }
   ],
   "source": [
    "bool(''), bool('aiuda')"
   ]
  },
  {
   "cell_type": "code",
   "execution_count": 41,
   "id": "ae999f77-2d74-4217-ab50-3a811fdbe6cc",
   "metadata": {},
   "outputs": [
    {
     "data": {
      "text/plain": [
       "(False, True)"
      ]
     },
     "execution_count": 41,
     "metadata": {},
     "output_type": "execute_result"
    }
   ],
   "source": [
    "bool([]), bool(['f', 9])"
   ]
  },
  {
   "cell_type": "code",
   "execution_count": 42,
   "id": "333fa0e5-beea-4ce5-bf67-520a18ecb5da",
   "metadata": {},
   "outputs": [
    {
     "data": {
      "text/plain": [
       "(False, True)"
      ]
     },
     "execution_count": 42,
     "metadata": {},
     "output_type": "execute_result"
    }
   ],
   "source": [
    "bool(()), bool((5, ))"
   ]
  },
  {
   "cell_type": "code",
   "execution_count": 44,
   "id": "aa667ee2-74a6-409e-a286-417c33939071",
   "metadata": {},
   "outputs": [
    {
     "data": {
      "text/plain": [
       "(False, True)"
      ]
     },
     "execution_count": 44,
     "metadata": {},
     "output_type": "execute_result"
    }
   ],
   "source": [
    "bool({}), bool({'key':'value'})"
   ]
  },
  {
   "cell_type": "markdown",
   "id": "5339e359-e79f-4740-bbb0-57ff34b10e74",
   "metadata": {},
   "source": [
    "# Sets"
   ]
  },
  {
   "cell_type": "code",
   "execution_count": 46,
   "id": "650fb148-b7b9-4778-8518-ecd3fbbf6a3d",
   "metadata": {},
   "outputs": [
    {
     "data": {
      "text/plain": [
       "set"
      ]
     },
     "execution_count": 46,
     "metadata": {},
     "output_type": "execute_result"
    }
   ],
   "source": [
    "type({4, 'cosa'})"
   ]
  },
  {
   "cell_type": "code",
   "execution_count": 47,
   "id": "71258e31-ef3b-4299-9613-86cf71b395c6",
   "metadata": {},
   "outputs": [],
   "source": [
    "conjunto = {4, 'cosa', 1, 2, 3, 4, 'a', 'b', 'c', 'a'}\n"
   ]
  },
  {
   "cell_type": "code",
   "execution_count": 48,
   "id": "c673a03e-1da0-42d2-91c9-b2abb97133c3",
   "metadata": {},
   "outputs": [
    {
     "data": {
      "text/plain": [
       "8"
      ]
     },
     "execution_count": 48,
     "metadata": {},
     "output_type": "execute_result"
    }
   ],
   "source": [
    "len(conjunto)"
   ]
  },
  {
   "cell_type": "code",
   "execution_count": 49,
   "id": "8f234086-8555-41e3-a92e-47576ffb897f",
   "metadata": {},
   "outputs": [
    {
     "data": {
      "text/plain": [
       "{1, 2, 3, 4, 'a', 'b', 'c', 'cosa'}"
      ]
     },
     "execution_count": 49,
     "metadata": {},
     "output_type": "execute_result"
    }
   ],
   "source": [
    "conjunto"
   ]
  },
  {
   "cell_type": "markdown",
   "id": "4eccf304-3580-4f91-9502-02ad80da9b94",
   "metadata": {},
   "source": [
    "# Operadores de asignación\n",
    "\n",
    "=, +=, -=, *=, /=, //=, %=, **="
   ]
  },
  {
   "cell_type": "code",
   "execution_count": 53,
   "id": "c53a5208-f134-46e2-94cf-133e64999951",
   "metadata": {},
   "outputs": [
    {
     "data": {
      "text/plain": [
       "32"
      ]
     },
     "execution_count": 53,
     "metadata": {},
     "output_type": "execute_result"
    }
   ],
   "source": [
    "a = 10\n",
    "a = a + 22\n",
    "a"
   ]
  },
  {
   "cell_type": "code",
   "execution_count": 54,
   "id": "1b304bcb-af94-41d3-88f9-e6d805e719f2",
   "metadata": {},
   "outputs": [
    {
     "data": {
      "text/plain": [
       "32"
      ]
     },
     "execution_count": 54,
     "metadata": {},
     "output_type": "execute_result"
    }
   ],
   "source": [
    "a = 10\n",
    "a += 22\n",
    "a"
   ]
  },
  {
   "cell_type": "code",
   "execution_count": 55,
   "id": "88bb4d9a-a676-4e58-abb6-59737b8b70a6",
   "metadata": {},
   "outputs": [
    {
     "data": {
      "text/plain": [
       "'hace más frío que antes'"
      ]
     },
     "execution_count": 55,
     "metadata": {},
     "output_type": "execute_result"
    }
   ],
   "source": [
    "cadena = 'hace más frío'\n",
    "cadena = cadena + ' que antes'\n",
    "cadena"
   ]
  },
  {
   "cell_type": "code",
   "execution_count": 56,
   "id": "a5d59f16-eaec-42f1-ad84-0834e5334c1c",
   "metadata": {},
   "outputs": [
    {
     "data": {
      "text/plain": [
       "'hace más frío que antes'"
      ]
     },
     "execution_count": 56,
     "metadata": {},
     "output_type": "execute_result"
    }
   ],
   "source": [
    "cadena = 'hace más frío'\n",
    "cadena += ' que antes'\n",
    "cadena"
   ]
  },
  {
   "cell_type": "code",
   "execution_count": 57,
   "id": "c37bf4b0-07cf-409b-acdf-07396ec57692",
   "metadata": {},
   "outputs": [
    {
     "data": {
      "text/plain": [
       "15"
      ]
     },
     "execution_count": 57,
     "metadata": {},
     "output_type": "execute_result"
    }
   ],
   "source": [
    "a = 25\n",
    "a -= 10\n",
    "a"
   ]
  },
  {
   "cell_type": "code",
   "execution_count": 58,
   "id": "780c01d8-f33d-4435-8eaf-bfc9818a82b0",
   "metadata": {},
   "outputs": [
    {
     "data": {
      "text/plain": [
       "35"
      ]
     },
     "execution_count": 58,
     "metadata": {},
     "output_type": "execute_result"
    }
   ],
   "source": [
    "a = 7\n",
    "a *= 5\n",
    "a"
   ]
  },
  {
   "cell_type": "code",
   "execution_count": 59,
   "id": "f2241a69-07b7-44eb-8076-371a748d19c1",
   "metadata": {},
   "outputs": [
    {
     "data": {
      "text/plain": [
       "12.0"
      ]
     },
     "execution_count": 59,
     "metadata": {},
     "output_type": "execute_result"
    }
   ],
   "source": [
    "a = 144 # Nota que 144 = 12*12\n",
    "a /= 12\n",
    "a"
   ]
  },
  {
   "cell_type": "code",
   "execution_count": 60,
   "id": "36716e13-873c-4e70-a7fa-32dec2e5c02b",
   "metadata": {},
   "outputs": [
    {
     "data": {
      "text/plain": [
       "32"
      ]
     },
     "execution_count": 60,
     "metadata": {},
     "output_type": "execute_result"
    }
   ],
   "source": [
    "a = 2\n",
    "a **= 5\n",
    "a"
   ]
  },
  {
   "cell_type": "code",
   "execution_count": 61,
   "id": "1712369a-c79c-4eb5-a907-f3f826c1e37a",
   "metadata": {
    "scrolled": true
   },
   "outputs": [
    {
     "data": {
      "text/plain": [
       "[3,\n",
       " 6,\n",
       " 8,\n",
       " 'azul como el mar azul',\n",
       " 'l',\n",
       " 'a',\n",
       " 's',\n",
       " ' ',\n",
       " 'd',\n",
       " 'o',\n",
       " 'c',\n",
       " 'e',\n",
       " ' ',\n",
       " 'c',\n",
       " 'a',\n",
       " 's',\n",
       " 'a',\n",
       " 's']"
      ]
     },
     "execution_count": 61,
     "metadata": {},
     "output_type": "execute_result"
    }
   ],
   "source": [
    "a = [3, 6, 8, 'azul como el mar azul']\n",
    "a += list('las doce casas')\n",
    "a"
   ]
  },
  {
   "cell_type": "markdown",
   "id": "b4e01c1d-5be7-4540-b48a-4be12894da41",
   "metadata": {},
   "source": [
    "# Operadores relacionales\n",
    "\n",
    "< , >, ==, !="
   ]
  },
  {
   "cell_type": "code",
   "execution_count": 64,
   "id": "02e0a5e2-36ee-4e55-9d48-ad9944324601",
   "metadata": {},
   "outputs": [
    {
     "data": {
      "text/plain": [
       "(False, True, False, True)"
      ]
     },
     "execution_count": 64,
     "metadata": {},
     "output_type": "execute_result"
    }
   ],
   "source": [
    "a, b = 5, 18\n",
    "a > b, a < b, a == b, a != b"
   ]
  },
  {
   "cell_type": "code",
   "execution_count": 65,
   "id": "0b6d078c-482e-4283-a84a-f7fd2ecdfd04",
   "metadata": {},
   "outputs": [
    {
     "data": {
      "text/plain": [
       "False"
      ]
     },
     "execution_count": 65,
     "metadata": {},
     "output_type": "execute_result"
    }
   ],
   "source": [
    "a, b, c = -45.2, 22, 100\n",
    "\n",
    "(((a-b) < 567) != 0) == c*0"
   ]
  },
  {
   "cell_type": "code",
   "execution_count": 71,
   "id": "8f1be0d4-f6c2-45d2-8c46-5050c65f9a87",
   "metadata": {},
   "outputs": [
    {
     "data": {
      "text/plain": [
       "(True, True, True)"
      ]
     },
     "execution_count": 71,
     "metadata": {},
     "output_type": "execute_result"
    }
   ],
   "source": [
    "True != 0, True == 1, False == 0"
   ]
  },
  {
   "cell_type": "code",
   "execution_count": 73,
   "id": "504f12e8-d636-4ecf-b3a0-c0699e96c0db",
   "metadata": {},
   "outputs": [
    {
     "data": {
      "text/plain": [
       "True"
      ]
     },
     "execution_count": 73,
     "metadata": {},
     "output_type": "execute_result"
    }
   ],
   "source": [
    "# 0 < 1\n",
    "False < True"
   ]
  },
  {
   "cell_type": "code",
   "execution_count": 74,
   "id": "af300213-558c-455c-aa74-d6c3c989c930",
   "metadata": {},
   "outputs": [
    {
     "data": {
      "text/plain": [
       "True"
      ]
     },
     "execution_count": 74,
     "metadata": {},
     "output_type": "execute_result"
    }
   ],
   "source": [
    "# 0 + 1 <= 1\n",
    "False + 1 <= True"
   ]
  },
  {
   "cell_type": "code",
   "execution_count": 75,
   "id": "0216f67c-107a-4496-a1b2-6496cd14d422",
   "metadata": {},
   "outputs": [
    {
     "data": {
      "text/plain": [
       "True"
      ]
     },
     "execution_count": 75,
     "metadata": {},
     "output_type": "execute_result"
    }
   ],
   "source": [
    "5 < 10 < 58"
   ]
  },
  {
   "cell_type": "code",
   "execution_count": 76,
   "id": "edcf0586-4775-461f-b92e-b71733189ede",
   "metadata": {},
   "outputs": [
    {
     "data": {
      "text/plain": [
       "False"
      ]
     },
     "execution_count": 76,
     "metadata": {},
     "output_type": "execute_result"
    }
   ],
   "source": [
    "5 < 10 < 3"
   ]
  },
  {
   "cell_type": "markdown",
   "id": "e7396f39-5298-4d94-ae97-45ccc0acbf0a",
   "metadata": {},
   "source": [
    "# Operadores lógicos\n",
    "\n",
    "or, and, not"
   ]
  },
  {
   "cell_type": "code",
   "execution_count": 77,
   "id": "9e05f9c8-2ec7-47a8-bbe5-f3775672f668",
   "metadata": {},
   "outputs": [
    {
     "data": {
      "text/plain": [
       "(True, False, False, False)"
      ]
     },
     "execution_count": 77,
     "metadata": {},
     "output_type": "execute_result"
    }
   ],
   "source": [
    "# Tabla de verdad del and\n",
    "True and True, True and False, False and True, False and False"
   ]
  },
  {
   "cell_type": "code",
   "execution_count": 78,
   "id": "43f44e2f-046f-434f-bb8a-760f7ea46640",
   "metadata": {},
   "outputs": [
    {
     "data": {
      "text/plain": [
       "(True, True, True, False)"
      ]
     },
     "execution_count": 78,
     "metadata": {},
     "output_type": "execute_result"
    }
   ],
   "source": [
    "# Tabla de verdad del or\n",
    "True or True, True or False, False or True, False or False"
   ]
  },
  {
   "cell_type": "code",
   "execution_count": 79,
   "id": "dbda5ae9-8a9a-4461-89c0-f1950f988f72",
   "metadata": {},
   "outputs": [
    {
     "data": {
      "text/plain": [
       "(False, True)"
      ]
     },
     "execution_count": 79,
     "metadata": {},
     "output_type": "execute_result"
    }
   ],
   "source": [
    "# Tabla de verdad del not\n",
    "not True, not False"
   ]
  },
  {
   "cell_type": "code",
   "execution_count": 81,
   "id": "9a30e05f-8475-4dfb-a3f3-ae9f981f5d10",
   "metadata": {},
   "outputs": [
    {
     "data": {
      "text/plain": [
       "True"
      ]
     },
     "execution_count": 81,
     "metadata": {},
     "output_type": "execute_result"
    }
   ],
   "source": [
    "# 3 < 5 < 10\n",
    "3 < 5 and 5 < 10"
   ]
  },
  {
   "cell_type": "code",
   "execution_count": 83,
   "id": "5e3a3446-c94d-4cbb-9537-5102dd752a3b",
   "metadata": {},
   "outputs": [
    {
     "data": {
      "text/plain": [
       "False"
      ]
     },
     "execution_count": 83,
     "metadata": {},
     "output_type": "execute_result"
    }
   ],
   "source": [
    "# 3 < 8 < 5\n",
    "3 < 8 and 8 < 5"
   ]
  },
  {
   "cell_type": "code",
   "execution_count": 87,
   "id": "e8211be0-fa5e-4f87-9e6c-a61570c1b0e0",
   "metadata": {},
   "outputs": [
    {
     "data": {
      "text/plain": [
       "False"
      ]
     },
     "execution_count": 87,
     "metadata": {},
     "output_type": "execute_result"
    }
   ],
   "source": [
    "c = \"hola mundo\"\n",
    "len(c) >= 10 and c[0] == 'H'"
   ]
  },
  {
   "cell_type": "code",
   "execution_count": null,
   "id": "8293fe04-b17a-427d-bbbb-3adbfd4d1a61",
   "metadata": {},
   "outputs": [],
   "source": []
  }
 ],
 "metadata": {
  "kernelspec": {
   "display_name": "Python 3 (ipykernel)",
   "language": "python",
   "name": "python3"
  },
  "language_info": {
   "codemirror_mode": {
    "name": "ipython",
    "version": 3
   },
   "file_extension": ".py",
   "mimetype": "text/x-python",
   "name": "python",
   "nbconvert_exporter": "python",
   "pygments_lexer": "ipython3",
   "version": "3.10.4"
  }
 },
 "nbformat": 4,
 "nbformat_minor": 5
}
