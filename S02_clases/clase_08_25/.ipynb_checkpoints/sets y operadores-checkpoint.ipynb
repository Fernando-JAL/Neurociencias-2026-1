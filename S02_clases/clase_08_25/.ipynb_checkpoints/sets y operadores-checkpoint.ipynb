{
 "cells": [
  {
   "cell_type": "markdown",
   "id": "fd2842f3-662a-485c-9059-b20aedd4d185",
   "metadata": {},
   "source": [
    "## CONVERSIÓN DE TIPOS DE DATOS"
   ]
  },
  {
   "cell_type": "code",
   "execution_count": 1,
   "id": "e76aed7b-3426-4018-b4e9-9b1ea9f52303",
   "metadata": {},
   "outputs": [
    {
     "data": {
      "text/plain": [
       "(-82, 631.0, 1j)"
      ]
     },
     "execution_count": 1,
     "metadata": {},
     "output_type": "execute_result"
    }
   ],
   "source": [
    "entero,flotante,complejo = -82,631., complex (0,1)\n",
    "entero,flotante,complejo"
   ]
  },
  {
   "cell_type": "code",
   "execution_count": 2,
   "id": "2a494a10-ef8c-42ce-8227-161eef464b00",
   "metadata": {},
   "outputs": [
    {
     "data": {
      "text/plain": [
       "'-82'"
      ]
     },
     "execution_count": 2,
     "metadata": {},
     "output_type": "execute_result"
    }
   ],
   "source": [
    "str(entero)"
   ]
  },
  {
   "cell_type": "code",
   "execution_count": 4,
   "id": "d6d42c35-053d-4391-b881-b51e76966bde",
   "metadata": {},
   "outputs": [
    {
     "data": {
      "text/plain": [
       "str"
      ]
     },
     "execution_count": 4,
     "metadata": {},
     "output_type": "execute_result"
    }
   ],
   "source": [
    "type(str(entero))"
   ]
  },
  {
   "cell_type": "raw",
   "id": "58df48f3-3a27-44ac-9521-e9c885410606",
   "metadata": {},
   "source": [
    "str(complejo)"
   ]
  },
  {
   "cell_type": "code",
   "execution_count": 5,
   "id": "eb43d0b8-820b-4f7d-8712-5d4f500a4521",
   "metadata": {},
   "outputs": [
    {
     "data": {
      "text/plain": [
       "'1j'"
      ]
     },
     "execution_count": 5,
     "metadata": {},
     "output_type": "execute_result"
    }
   ],
   "source": [
    "str(complejo)"
   ]
  },
  {
   "cell_type": "code",
   "execution_count": 6,
   "id": "b63ac33e-8c9c-4e66-8a05-637c45daa00f",
   "metadata": {},
   "outputs": [
    {
     "data": {
      "text/plain": [
       "'-46.23'"
      ]
     },
     "execution_count": 6,
     "metadata": {},
     "output_type": "execute_result"
    }
   ],
   "source": [
    "cadena = '-46.23'\n",
    "cadena"
   ]
  },
  {
   "cell_type": "code",
   "execution_count": 7,
   "id": "a61ff1f7-c26a-491f-98d6-1f5aa64d1f4a",
   "metadata": {},
   "outputs": [
    {
     "data": {
      "text/plain": [
       "-46.23"
      ]
     },
     "execution_count": 7,
     "metadata": {},
     "output_type": "execute_result"
    }
   ],
   "source": [
    "float (cadena)"
   ]
  },
  {
   "cell_type": "code",
   "execution_count": 8,
   "id": "23dbb9ae-b477-4aae-acb8-1fd99b4366d0",
   "metadata": {},
   "outputs": [
    {
     "data": {
      "text/plain": [
       "('-', '4', '6', '.', '2', '3')"
      ]
     },
     "execution_count": 8,
     "metadata": {},
     "output_type": "execute_result"
    }
   ],
   "source": [
    "tuple(cadena)"
   ]
  },
  {
   "cell_type": "code",
   "execution_count": 10,
   "id": "34001fee-19cb-43f5-b62f-01216e8ce2c2",
   "metadata": {},
   "outputs": [
    {
     "data": {
      "text/plain": [
       "-78"
      ]
     },
     "execution_count": 10,
     "metadata": {},
     "output_type": "execute_result"
    }
   ],
   "source": [
    "int('-78')"
   ]
  },
  {
   "cell_type": "markdown",
   "id": "f86ac43c-112b-40b7-be3f-48a232a7c6a3",
   "metadata": {},
   "source": [
    "## TIPOS DE DATOS BOOLEANOS"
   ]
  },
  {
   "cell_type": "code",
   "execution_count": 11,
   "id": "59245639-f2c6-4062-a96f-fa084f94dbfd",
   "metadata": {},
   "outputs": [
    {
     "data": {
      "text/plain": [
       "(True, False)"
      ]
     },
     "execution_count": 11,
     "metadata": {},
     "output_type": "execute_result"
    }
   ],
   "source": [
    "value1,value2 = True,False \n",
    "value1,value2"
   ]
  },
  {
   "cell_type": "code",
   "execution_count": 12,
   "id": "5c062581-fad4-4155-b65b-63aac75aa1e5",
   "metadata": {},
   "outputs": [
    {
     "data": {
      "text/plain": [
       "bool"
      ]
     },
     "execution_count": 12,
     "metadata": {},
     "output_type": "execute_result"
    }
   ],
   "source": [
    "type(value1) "
   ]
  },
  {
   "cell_type": "code",
   "execution_count": 13,
   "id": "025fd72c-f19d-41ac-8d42-31aaffe27c35",
   "metadata": {},
   "outputs": [
    {
     "data": {
      "text/plain": [
       "False"
      ]
     },
     "execution_count": 13,
     "metadata": {},
     "output_type": "execute_result"
    }
   ],
   "source": [
    "bool(0)"
   ]
  },
  {
   "cell_type": "code",
   "execution_count": 14,
   "id": "91c9490d-234e-4ddd-b64f-d3858132322a",
   "metadata": {},
   "outputs": [
    {
     "data": {
      "text/plain": [
       "True"
      ]
     },
     "execution_count": 14,
     "metadata": {},
     "output_type": "execute_result"
    }
   ],
   "source": [
    "bool(1)"
   ]
  },
  {
   "cell_type": "code",
   "execution_count": 15,
   "id": "3ba6f8de-e7fc-4725-a674-5a278210af2f",
   "metadata": {},
   "outputs": [
    {
     "data": {
      "text/plain": [
       "True"
      ]
     },
     "execution_count": 15,
     "metadata": {},
     "output_type": "execute_result"
    }
   ],
   "source": [
    "bool('Hola')"
   ]
  },
  {
   "cell_type": "code",
   "execution_count": 16,
   "id": "8890b930-ef65-44f7-8343-cac1cb78138b",
   "metadata": {},
   "outputs": [
    {
     "data": {
      "text/plain": [
       "True"
      ]
     },
     "execution_count": 16,
     "metadata": {},
     "output_type": "execute_result"
    }
   ],
   "source": [
    "bool(2)"
   ]
  },
  {
   "cell_type": "code",
   "execution_count": 17,
   "id": "a3d43aeb-d8da-429a-92b4-796d17c09fd7",
   "metadata": {},
   "outputs": [
    {
     "data": {
      "text/plain": [
       "True"
      ]
     },
     "execution_count": 17,
     "metadata": {},
     "output_type": "execute_result"
    }
   ],
   "source": [
    "bool(-150.456)"
   ]
  },
  {
   "cell_type": "code",
   "execution_count": 20,
   "id": "736bc3f5-43d7-4a51-a984-d7ccafca2f37",
   "metadata": {},
   "outputs": [
    {
     "data": {
      "text/plain": [
       "(True, True)"
      ]
     },
     "execution_count": 20,
     "metadata": {},
     "output_type": "execute_result"
    }
   ],
   "source": [
    "bool(-150.456), bool(complex(0,1))"
   ]
  },
  {
   "cell_type": "code",
   "execution_count": 21,
   "id": "e86d4810-ec4f-4794-aa09-15e5fc3db002",
   "metadata": {},
   "outputs": [
    {
     "data": {
      "text/plain": [
       "(True, True)"
      ]
     },
     "execution_count": 21,
     "metadata": {},
     "output_type": "execute_result"
    }
   ],
   "source": [
    "bool(' '), bool('aiuda')"
   ]
  },
  {
   "cell_type": "code",
   "execution_count": 22,
   "id": "698dcb99-45d3-423e-96c4-9f6175c4e253",
   "metadata": {},
   "outputs": [
    {
     "data": {
      "text/plain": [
       "(False, True)"
      ]
     },
     "execution_count": 22,
     "metadata": {},
     "output_type": "execute_result"
    }
   ],
   "source": [
    "bool([]), bool( ['f', 9])"
   ]
  },
  {
   "cell_type": "code",
   "execution_count": 23,
   "id": "c30e1e81-30f2-4e3b-95fb-42dfc4991796",
   "metadata": {},
   "outputs": [
    {
     "data": {
      "text/plain": [
       "(False, True)"
      ]
     },
     "execution_count": 23,
     "metadata": {},
     "output_type": "execute_result"
    }
   ],
   "source": [
    "bool(()), bool((5, ))"
   ]
  },
  {
   "cell_type": "code",
   "execution_count": 24,
   "id": "557d527d-e331-4cf0-9fc9-7befa4558114",
   "metadata": {},
   "outputs": [
    {
     "data": {
      "text/plain": [
       "(False, True)"
      ]
     },
     "execution_count": 24,
     "metadata": {},
     "output_type": "execute_result"
    }
   ],
   "source": [
    "bool({}), bool ({'key' : 'value'})"
   ]
  },
  {
   "cell_type": "markdown",
   "id": "9ad1bd9d-bf80-4c38-9c64-70247d1f7992",
   "metadata": {},
   "source": [
    "## SETS"
   ]
  },
  {
   "cell_type": "code",
   "execution_count": 26,
   "id": "72838283-462b-4fbe-960f-c8dd71a51073",
   "metadata": {},
   "outputs": [
    {
     "data": {
      "text/plain": [
       "set"
      ]
     },
     "execution_count": 26,
     "metadata": {},
     "output_type": "execute_result"
    }
   ],
   "source": [
    "type ({4, 'cosa'})"
   ]
  },
  {
   "cell_type": "code",
   "execution_count": 27,
   "id": "2ee52f4a-1226-40c9-99d7-9d39b8c82c7c",
   "metadata": {},
   "outputs": [],
   "source": [
    "conjunto= {4, 'cosa',1,2,3,4,'a','b','c','a'}"
   ]
  },
  {
   "cell_type": "code",
   "execution_count": 28,
   "id": "24e4d1f8-326a-46bd-9e58-96ba81fda694",
   "metadata": {},
   "outputs": [
    {
     "data": {
      "text/plain": [
       "8"
      ]
     },
     "execution_count": 28,
     "metadata": {},
     "output_type": "execute_result"
    }
   ],
   "source": [
    "len(conjunto)"
   ]
  },
  {
   "cell_type": "code",
   "execution_count": 29,
   "id": "c30007b9-90dd-42bd-aa09-2b39e15e4431",
   "metadata": {},
   "outputs": [
    {
     "data": {
      "text/plain": [
       "{1, 2, 3, 4, 'a', 'b', 'c', 'cosa'}"
      ]
     },
     "execution_count": 29,
     "metadata": {},
     "output_type": "execute_result"
    }
   ],
   "source": [
    "conjunto"
   ]
  },
  {
   "cell_type": "markdown",
   "id": "fda31474-4f93-43b0-9544-6e856643bfeb",
   "metadata": {},
   "source": [
    "## OPERADORES DE ASIGNACIÓN\n",
    "\n",
    "=,+=,-=,*=,/=, //=, %=, **="
   ]
  },
  {
   "cell_type": "code",
   "execution_count": 30,
   "id": "f8581fa2-151c-4d74-adc9-6f434850bc08",
   "metadata": {},
   "outputs": [
    {
     "data": {
      "text/plain": [
       "10"
      ]
     },
     "execution_count": 30,
     "metadata": {},
     "output_type": "execute_result"
    }
   ],
   "source": [
    "a = 10\n",
    "a"
   ]
  },
  {
   "cell_type": "code",
   "execution_count": 31,
   "id": "10f411d2-4a43-4fa2-8170-065fd7e41847",
   "metadata": {},
   "outputs": [
    {
     "data": {
      "text/plain": [
       "32"
      ]
     },
     "execution_count": 31,
     "metadata": {},
     "output_type": "execute_result"
    }
   ],
   "source": [
    "a=10\n",
    "a =a +22\n",
    "a"
   ]
  },
  {
   "cell_type": "code",
   "execution_count": 33,
   "id": "bbea23f4-a135-4518-828e-0d5bf408915f",
   "metadata": {},
   "outputs": [
    {
     "data": {
      "text/plain": [
       "32"
      ]
     },
     "execution_count": 33,
     "metadata": {},
     "output_type": "execute_result"
    }
   ],
   "source": [
    "a = 10\n",
    "a +=22\n",
    "a"
   ]
  },
  {
   "cell_type": "code",
   "execution_count": 34,
   "id": "cd60efa9-74fa-4fa7-af0a-f4afe4376f42",
   "metadata": {},
   "outputs": [
    {
     "data": {
      "text/plain": [
       "'hace más frióque antes'"
      ]
     },
     "execution_count": 34,
     "metadata": {},
     "output_type": "execute_result"
    }
   ],
   "source": [
    "cadena = 'hace más frió'\n",
    "cadena = cadena + 'que antes'\n",
    "cadena"
   ]
  },
  {
   "cell_type": "code",
   "execution_count": 35,
   "id": "5437a5ce-7cce-4fca-a18e-fce325f7371d",
   "metadata": {},
   "outputs": [
    {
     "data": {
      "text/plain": [
       "15"
      ]
     },
     "execution_count": 35,
     "metadata": {},
     "output_type": "execute_result"
    }
   ],
   "source": [
    "a = 25\n",
    "a -= 10\n",
    "a"
   ]
  },
  {
   "cell_type": "code",
   "execution_count": 36,
   "id": "0beb1016-aad2-4443-9867-57a050a57322",
   "metadata": {},
   "outputs": [
    {
     "data": {
      "text/plain": [
       "35"
      ]
     },
     "execution_count": 36,
     "metadata": {},
     "output_type": "execute_result"
    }
   ],
   "source": [
    "a =7 \n",
    "a *=5\n",
    "a"
   ]
  },
  {
   "cell_type": "code",
   "execution_count": 37,
   "id": "21452f9d-bab7-4c32-b513-793fb53e902f",
   "metadata": {},
   "outputs": [
    {
     "data": {
      "text/plain": [
       "12.0"
      ]
     },
     "execution_count": 37,
     "metadata": {},
     "output_type": "execute_result"
    }
   ],
   "source": [
    "a = 144 #Nota que 144 = 12*12\n",
    "a/= 12\n",
    "a"
   ]
  },
  {
   "cell_type": "code",
   "execution_count": 38,
   "id": "781808f4-6528-483e-9491-890e0bc7e179",
   "metadata": {},
   "outputs": [
    {
     "data": {
      "text/plain": [
       "32"
      ]
     },
     "execution_count": 38,
     "metadata": {},
     "output_type": "execute_result"
    }
   ],
   "source": [
    "a =2\n",
    "a **=5\n",
    "a"
   ]
  },
  {
   "cell_type": "code",
   "execution_count": 39,
   "id": "c7d860a3-7330-4663-8e66-8c38e0f6221d",
   "metadata": {},
   "outputs": [
    {
     "data": {
      "text/plain": [
       "[3,\n",
       " 6,\n",
       " 8,\n",
       " 'azul como el mar azul',\n",
       " 'l',\n",
       " 'a',\n",
       " 's',\n",
       " ' ',\n",
       " 'd',\n",
       " 'o',\n",
       " 'c',\n",
       " 'e',\n",
       " ' ',\n",
       " 'c',\n",
       " 'a',\n",
       " 's',\n",
       " 'a',\n",
       " 's']"
      ]
     },
     "execution_count": 39,
     "metadata": {},
     "output_type": "execute_result"
    }
   ],
   "source": [
    "a = [3,6,8, 'azul como el mar azul']\n",
    "a += list ('las doce casas')\n",
    "a"
   ]
  },
  {
   "cell_type": "markdown",
   "id": "ccd5637e-e6ce-4ed2-8621-0e8fc6645b72",
   "metadata": {},
   "source": [
    "## OPERADORES RELACIONALES "
   ]
  },
  {
   "cell_type": "code",
   "execution_count": 42,
   "id": "1b96c1da-3d34-4332-a941-999adcb6fee7",
   "metadata": {},
   "outputs": [],
   "source": [
    "#<,> , = =, !="
   ]
  },
  {
   "cell_type": "code",
   "execution_count": 45,
   "id": "4b691732-d61d-4829-885e-67ad04cf0b57",
   "metadata": {},
   "outputs": [
    {
     "data": {
      "text/plain": [
       "(False, True, False, True)"
      ]
     },
     "execution_count": 45,
     "metadata": {},
     "output_type": "execute_result"
    }
   ],
   "source": [
    "a , b = 5,18\n",
    "\n",
    "a>b, a<b, a == b, a!= b"
   ]
  },
  {
   "cell_type": "code",
   "execution_count": 55,
   "id": "642b5321-3b7c-45bc-b8a8-b4c822fd4dde",
   "metadata": {},
   "outputs": [
    {
     "ename": "SyntaxError",
     "evalue": "unmatched ')' (3220663090.py, line 2)",
     "output_type": "error",
     "traceback": [
      "\u001b[1;36m  Cell \u001b[1;32mIn[55], line 2\u001b[1;36m\u001b[0m\n\u001b[1;33m    (((a-b)) < 567) != 0)\u001b[0m\n\u001b[1;37m                        ^\u001b[0m\n\u001b[1;31mSyntaxError\u001b[0m\u001b[1;31m:\u001b[0m unmatched ')'\n"
     ]
    }
   ],
   "source": [
    "a,b,c = -45.2 , 22, 100\n",
    "(((a-b)) < 567) != 0)"
   ]
  },
  {
   "cell_type": "code",
   "execution_count": 53,
   "id": "87d31562-97b0-4044-82a0-5472a8fb458e",
   "metadata": {},
   "outputs": [
    {
     "data": {
      "text/plain": [
       "(True, True, True)"
      ]
     },
     "execution_count": 53,
     "metadata": {},
     "output_type": "execute_result"
    }
   ],
   "source": [
    "True != 0, True == 1, False == 0"
   ]
  },
  {
   "cell_type": "code",
   "execution_count": 56,
   "id": "8edb2cf6-8a62-4ff1-82e6-f4ec267c80fa",
   "metadata": {},
   "outputs": [
    {
     "data": {
      "text/plain": [
       "True"
      ]
     },
     "execution_count": 56,
     "metadata": {},
     "output_type": "execute_result"
    }
   ],
   "source": [
    "# 0<1\n",
    "False < True"
   ]
  },
  {
   "cell_type": "code",
   "execution_count": 57,
   "id": "597b66d8-01a2-4c17-bf0b-c4532788deef",
   "metadata": {},
   "outputs": [
    {
     "data": {
      "text/plain": [
       "True"
      ]
     },
     "execution_count": 57,
     "metadata": {},
     "output_type": "execute_result"
    }
   ],
   "source": [
    "False + 1 <= True"
   ]
  },
  {
   "cell_type": "code",
   "execution_count": 58,
   "id": "93178c17-3eef-4747-8719-82af17614245",
   "metadata": {},
   "outputs": [
    {
     "data": {
      "text/plain": [
       "True"
      ]
     },
     "execution_count": 58,
     "metadata": {},
     "output_type": "execute_result"
    }
   ],
   "source": [
    "# 0+1 <=1\n",
    "\n",
    "False + 1 <= True"
   ]
  },
  {
   "cell_type": "code",
   "execution_count": 59,
   "id": "2a9d05cc-83b3-4be6-af73-cea8c6f7a909",
   "metadata": {},
   "outputs": [
    {
     "data": {
      "text/plain": [
       "True"
      ]
     },
     "execution_count": 59,
     "metadata": {},
     "output_type": "execute_result"
    }
   ],
   "source": [
    "5 < 10<58"
   ]
  },
  {
   "cell_type": "code",
   "execution_count": 60,
   "id": "07c719b2-84f5-4f9d-9ab1-8a4796c53674",
   "metadata": {},
   "outputs": [
    {
     "data": {
      "text/plain": [
       "False"
      ]
     },
     "execution_count": 60,
     "metadata": {},
     "output_type": "execute_result"
    }
   ],
   "source": [
    "5 <10 <3"
   ]
  },
  {
   "cell_type": "markdown",
   "id": "fce7bf5e-2aea-43a2-b4f3-3099448e7935",
   "metadata": {},
   "source": [
    "## AND OR NOT (OPERADORES LÓGICOS)"
   ]
  },
  {
   "cell_type": "code",
   "execution_count": 61,
   "id": "335f4c32-1952-47e6-8072-427a4827976a",
   "metadata": {},
   "outputs": [
    {
     "data": {
      "text/plain": [
       "False"
      ]
     },
     "execution_count": 61,
     "metadata": {},
     "output_type": "execute_result"
    }
   ],
   "source": [
    "False and False"
   ]
  },
  {
   "cell_type": "code",
   "execution_count": 62,
   "id": "32a92f99-74ed-400f-bbd2-59a4cee9ff80",
   "metadata": {},
   "outputs": [
    {
     "data": {
      "text/plain": [
       "(True, False, False, False)"
      ]
     },
     "execution_count": 62,
     "metadata": {},
     "output_type": "execute_result"
    }
   ],
   "source": [
    "# Tabla de verdad del and \n",
    "True and True, True and False, False and True, False and False"
   ]
  },
  {
   "cell_type": "code",
   "execution_count": 63,
   "id": "d9eda34c-183d-4079-b20f-903d26898696",
   "metadata": {},
   "outputs": [
    {
     "data": {
      "text/plain": [
       "(True, True, True, False)"
      ]
     },
     "execution_count": 63,
     "metadata": {},
     "output_type": "execute_result"
    }
   ],
   "source": [
    "# Tabla de verdad del or \n",
    "True or True, True or False, False or True, False or False"
   ]
  },
  {
   "cell_type": "code",
   "execution_count": 65,
   "id": "052dbe23-8f52-4c01-84cd-6a15d450f784",
   "metadata": {},
   "outputs": [
    {
     "data": {
      "text/plain": [
       "(False, True)"
      ]
     },
     "execution_count": 65,
     "metadata": {},
     "output_type": "execute_result"
    }
   ],
   "source": [
    "# Tabla de verdad del not \n",
    "not True , not False"
   ]
  },
  {
   "cell_type": "code",
   "execution_count": 66,
   "id": "0965e44e-d4bd-4319-9b27-6df36dd4fe89",
   "metadata": {},
   "outputs": [
    {
     "data": {
      "text/plain": [
       "True"
      ]
     },
     "execution_count": 66,
     "metadata": {},
     "output_type": "execute_result"
    }
   ],
   "source": [
    "# 3<5<10\n",
    "3 < 5 and 5 < 10"
   ]
  },
  {
   "cell_type": "code",
   "execution_count": 67,
   "id": "1878a7e3-9a56-40ff-b19a-853386e173ac",
   "metadata": {},
   "outputs": [
    {
     "data": {
      "text/plain": [
       "False"
      ]
     },
     "execution_count": 67,
     "metadata": {},
     "output_type": "execute_result"
    }
   ],
   "source": [
    "# 3<8<8<5\n",
    "3 < 8 and 8 < 5"
   ]
  },
  {
   "cell_type": "code",
   "execution_count": 68,
   "id": "60c3a8c4-9e52-438b-b458-43bf8459ed10",
   "metadata": {},
   "outputs": [
    {
     "data": {
      "text/plain": [
       "False"
      ]
     },
     "execution_count": 68,
     "metadata": {},
     "output_type": "execute_result"
    }
   ],
   "source": [
    "c = \"hola demonio\"\n",
    "len(c) >= 10 and c[0] == 'H'"
   ]
  },
  {
   "cell_type": "code",
   "execution_count": null,
   "id": "07c6ceba-aafa-4b42-bdaf-4abb15c98383",
   "metadata": {},
   "outputs": [],
   "source": []
  }
 ],
 "metadata": {
  "kernelspec": {
   "display_name": "Python 3 (ipykernel)",
   "language": "python",
   "name": "python3"
  },
  "language_info": {
   "codemirror_mode": {
    "name": "ipython",
    "version": 3
   },
   "file_extension": ".py",
   "mimetype": "text/x-python",
   "name": "python",
   "nbconvert_exporter": "python",
   "pygments_lexer": "ipython3",
   "version": "3.10.4"
  }
 },
 "nbformat": 4,
 "nbformat_minor": 5
}
