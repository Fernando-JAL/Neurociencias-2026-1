{
 "cells": [
  {
   "cell_type": "markdown",
   "id": "67daacfc-e218-4ec9-bd88-3b1b84a18617",
   "metadata": {},
   "source": [
    "# Controladores de flujo\n",
    "\n",
    "son estructuras de control _condicionada_. Nos permite evaluar si una o más condiciones se cumplen, para decidir qué acciones se van a ejecutar.\n",
    "    notese que la evaluación de condiciones solo puede dar como resultado un boolean."
   ]
  },
  {
   "cell_type": "markdown",
   "id": "d6475424-450c-48a5-b9fb-a17e3eee6987",
   "metadata": {},
   "source": [
    "# los posibles controladores de flujo son: \n",
    "\n",
    "- if \n",
    "- elif\n",
    "- else\n",
    "- while\n",
    "- for"
   ]
  },
  {
   "cell_type": "markdown",
   "id": "146ac93e-018c-4fc4-b7db-ab50be24c338",
   "metadata": {},
   "source": [
    "# Sentencia _if_\n",
    "\n",
    "el if se ejecuta siempre que la expresión que la acompañe sea True"
   ]
  },
  {
   "cell_type": "code",
   "execution_count": 1,
   "id": "9d344b73-4f68-4702-bd25-da17d81fb809",
   "metadata": {},
   "outputs": [
    {
     "name": "stdout",
     "output_type": "stream",
     "text": [
      "entro al if\n"
     ]
    }
   ],
   "source": [
    "if True:\n",
    "    print ('entro al if')"
   ]
  },
  {
   "cell_type": "code",
   "execution_count": 4,
   "id": "f39670c6-2bb7-441e-96c6-410854e69e9b",
   "metadata": {},
   "outputs": [
    {
     "name": "stdout",
     "output_type": "stream",
     "text": [
      "entro al if\n"
     ]
    }
   ],
   "source": [
    "a = 2\n",
    "\n",
    "if a > 0:\n",
    "    print('entro al if')"
   ]
  },
  {
   "cell_type": "code",
   "execution_count": 5,
   "id": "79c444d4-587f-46e4-91c9-b08fc23b9761",
   "metadata": {},
   "outputs": [
    {
     "name": "stdout",
     "output_type": "stream",
     "text": [
      " pos a no es mayor que 5\n",
      "codigo despues del if\n"
     ]
    }
   ],
   "source": [
    "a = 5 \n",
    "if a > 5:\n",
    "    print ('a mayor que 5')\n",
    "else:\n",
    "    print (' pos a no es mayor que 5')\n",
    "\n",
    "    print ('codigo despues del if')"
   ]
  },
  {
   "cell_type": "code",
   "execution_count": 11,
   "id": "ec8d5fd3-ede6-4780-ba8f-c90c093874cd",
   "metadata": {},
   "outputs": [
    {
     "name": "stdout",
     "output_type": "stream",
     "text": [
      "a es par\n",
      "b es postivo\n",
      "continuamos ...\n"
     ]
    }
   ],
   "source": [
    "a , b = 10 , 15\n",
    "if a % 2 == 0: \n",
    "    print ('a es par')\n",
    "    if b>0:\n",
    "        print ('b es postivo')\n",
    "    else:\n",
    "        print ('b es gruñón')\n",
    "else: \n",
    "     print ('a es impar y b no me importa')\n",
    "\n",
    "print('continuamos ...')"
   ]
  },
  {
   "cell_type": "code",
   "execution_count": 14,
   "id": "696fa2ef-f8fb-44d2-aa69-0fb92b13b649",
   "metadata": {},
   "outputs": [
    {
     "name": "stdout",
     "output_type": "stream",
     "text": [
      "a es par\n",
      "hay que seguirle\n"
     ]
    }
   ],
   "source": [
    "lista = [5,7,9,10]\n",
    "a ,b = 8 , 17\n",
    "\n",
    "if a in lista:\n",
    "    print(' ')\n",
    "elif a % 2 == 0:\n",
    "    print ('a es par')\n",
    "else: \n",
    "    print('pos nadota')\n",
    "\n",
    "print ('hay que seguirle')"
   ]
  },
  {
   "cell_type": "code",
   "execution_count": 15,
   "id": "338009ac-7e94-44f8-a177-920460c497cc",
   "metadata": {},
   "outputs": [],
   "source": [
    "a = 5 \n",
    "if a % 2 == 0 :\n",
    "    print('a es par')"
   ]
  },
  {
   "cell_type": "code",
   "execution_count": null,
   "id": "b48ecf8b-c44d-43fa-a7c7-5f077d4f0b90",
   "metadata": {},
   "outputs": [],
   "source": []
  }
 ],
 "metadata": {
  "kernelspec": {
   "display_name": "Python 3 (ipykernel)",
   "language": "python",
   "name": "python3"
  },
  "language_info": {
   "codemirror_mode": {
    "name": "ipython",
    "version": 3
   },
   "file_extension": ".py",
   "mimetype": "text/x-python",
   "name": "python",
   "nbconvert_exporter": "python",
   "pygments_lexer": "ipython3",
   "version": "3.10.4"
  }
 },
 "nbformat": 4,
 "nbformat_minor": 5
}
