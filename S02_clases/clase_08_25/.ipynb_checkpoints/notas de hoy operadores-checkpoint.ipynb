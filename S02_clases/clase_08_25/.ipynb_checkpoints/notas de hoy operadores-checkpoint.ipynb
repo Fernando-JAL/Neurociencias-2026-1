{
 "cells": [
  {
   "cell_type": "markdown",
   "id": "536605d5-24e9-4e29-bfb5-81829f8d3898",
   "metadata": {},
   "source": [
    "# Conversión de tipos de datos"
   ]
  },
  {
   "cell_type": "code",
   "execution_count": 1,
   "id": "037e35fb-6090-49d4-9890-d5521ad7f5e3",
   "metadata": {},
   "outputs": [
    {
     "data": {
      "text/plain": [
       "(-82, 631.0, 1j)"
      ]
     },
     "execution_count": 1,
     "metadata": {},
     "output_type": "execute_result"
    }
   ],
   "source": [
    "entero, flotante, complejo= -82, 631., complex(0,1)\n",
    "entero, flotante, complejo"
   ]
  },
  {
   "cell_type": "code",
   "execution_count": 2,
   "id": "0ddedb9c-381c-40c3-ade1-63f024d19972",
   "metadata": {},
   "outputs": [
    {
     "data": {
      "text/plain": [
       "int"
      ]
     },
     "execution_count": 2,
     "metadata": {},
     "output_type": "execute_result"
    }
   ],
   "source": [
    "type(entero)"
   ]
  },
  {
   "cell_type": "code",
   "execution_count": 3,
   "id": "10f4d0dd-53eb-48d1-bf69-ad1c432789a2",
   "metadata": {},
   "outputs": [
    {
     "data": {
      "text/plain": [
       "float"
      ]
     },
     "execution_count": 3,
     "metadata": {},
     "output_type": "execute_result"
    }
   ],
   "source": [
    "type(flotante)"
   ]
  },
  {
   "cell_type": "code",
   "execution_count": 4,
   "id": "d6b71daf-5438-4a7e-9485-9d3b02aca163",
   "metadata": {},
   "outputs": [
    {
     "data": {
      "text/plain": [
       "complex"
      ]
     },
     "execution_count": 4,
     "metadata": {},
     "output_type": "execute_result"
    }
   ],
   "source": [
    "type(complejo)"
   ]
  },
  {
   "cell_type": "code",
   "execution_count": 5,
   "id": "ac6aa6ed-3131-4240-a1e5-2c5109d7d6db",
   "metadata": {},
   "outputs": [
    {
     "data": {
      "text/plain": [
       "'-82'"
      ]
     },
     "execution_count": 5,
     "metadata": {},
     "output_type": "execute_result"
    }
   ],
   "source": [
    "str(entero)"
   ]
  },
  {
   "cell_type": "code",
   "execution_count": 6,
   "id": "4133896d-b601-4720-9489-b84678253d5d",
   "metadata": {},
   "outputs": [
    {
     "data": {
      "text/plain": [
       "int"
      ]
     },
     "execution_count": 6,
     "metadata": {},
     "output_type": "execute_result"
    }
   ],
   "source": [
    "type(entero)"
   ]
  },
  {
   "cell_type": "code",
   "execution_count": 7,
   "id": "de3591ca-5365-4bf7-a2ca-64124a14b473",
   "metadata": {},
   "outputs": [
    {
     "data": {
      "text/plain": [
       "str"
      ]
     },
     "execution_count": 7,
     "metadata": {},
     "output_type": "execute_result"
    }
   ],
   "source": [
    "type(str(entero))"
   ]
  },
  {
   "cell_type": "code",
   "execution_count": 8,
   "id": "18c3ce37-9d99-4eb2-996a-597da3a7e1eb",
   "metadata": {},
   "outputs": [
    {
     "data": {
      "text/plain": [
       "'-46.23'"
      ]
     },
     "execution_count": 8,
     "metadata": {},
     "output_type": "execute_result"
    }
   ],
   "source": [
    "cadena= '-46.23'\n",
    "cadena"
   ]
  },
  {
   "cell_type": "code",
   "execution_count": 9,
   "id": "58e786a4-2b15-46f4-b859-c60064e467f9",
   "metadata": {},
   "outputs": [
    {
     "data": {
      "text/plain": [
       "float"
      ]
     },
     "execution_count": 9,
     "metadata": {},
     "output_type": "execute_result"
    }
   ],
   "source": [
    "type(float(cadena))"
   ]
  },
  {
   "cell_type": "code",
   "execution_count": 10,
   "id": "0dea5022-10bb-4132-b546-9e9ebf0bdd9b",
   "metadata": {},
   "outputs": [
    {
     "data": {
      "text/plain": [
       "['-', '4', '6', '.', '2', '3']"
      ]
     },
     "execution_count": 10,
     "metadata": {},
     "output_type": "execute_result"
    }
   ],
   "source": [
    "list(cadena)"
   ]
  },
  {
   "cell_type": "code",
   "execution_count": 11,
   "id": "7023109f-0d30-44fe-aa76-35a75e8a04af",
   "metadata": {},
   "outputs": [
    {
     "data": {
      "text/plain": [
       "('-', '4', '6', '.', '2', '3')"
      ]
     },
     "execution_count": 11,
     "metadata": {},
     "output_type": "execute_result"
    }
   ],
   "source": [
    "tuple(cadena)"
   ]
  },
  {
   "cell_type": "code",
   "execution_count": 12,
   "id": "c7627d80-f75e-45dd-aabe-2c4b0af32fcf",
   "metadata": {},
   "outputs": [
    {
     "ename": "ValueError",
     "evalue": "invalid literal for int() with base 10: '-78.4'",
     "output_type": "error",
     "traceback": [
      "\u001b[1;31m---------------------------------------------------------------------------\u001b[0m",
      "\u001b[1;31mValueError\u001b[0m                                Traceback (most recent call last)",
      "Cell \u001b[1;32mIn[12], line 1\u001b[0m\n\u001b[1;32m----> 1\u001b[0m \u001b[38;5;28;43mint\u001b[39;49m\u001b[43m(\u001b[49m\u001b[38;5;124;43m'\u001b[39;49m\u001b[38;5;124;43m-78.4\u001b[39;49m\u001b[38;5;124;43m'\u001b[39;49m\u001b[43m)\u001b[49m\n",
      "\u001b[1;31mValueError\u001b[0m: invalid literal for int() with base 10: '-78.4'"
     ]
    }
   ],
   "source": [
    "int('-78.4')"
   ]
  },
  {
   "cell_type": "code",
   "execution_count": 13,
   "id": "885beb45-0246-4769-916f-a15a7bb63612",
   "metadata": {},
   "outputs": [
    {
     "data": {
      "text/plain": [
       "-78"
      ]
     },
     "execution_count": 13,
     "metadata": {},
     "output_type": "execute_result"
    }
   ],
   "source": [
    "int('-78')"
   ]
  },
  {
   "cell_type": "code",
   "execution_count": 14,
   "id": "e04d55c8-78f3-43c4-9fbc-922819da7947",
   "metadata": {},
   "outputs": [
    {
     "ename": "NameError",
     "evalue": "name 'hola' is not defined",
     "output_type": "error",
     "traceback": [
      "\u001b[1;31m---------------------------------------------------------------------------\u001b[0m",
      "\u001b[1;31mNameError\u001b[0m                                 Traceback (most recent call last)",
      "Cell \u001b[1;32mIn[14], line 1\u001b[0m\n\u001b[1;32m----> 1\u001b[0m \u001b[38;5;28mint\u001b[39m(\u001b[43mhola\u001b[49m)\n",
      "\u001b[1;31mNameError\u001b[0m: name 'hola' is not defined"
     ]
    }
   ],
   "source": [
    "int(hola)"
   ]
  },
  {
   "cell_type": "markdown",
   "id": "5f7aa0b3-b2ed-47ec-b280-f92f08c36018",
   "metadata": {},
   "source": [
    "# Tipos de dato Boolean"
   ]
  },
  {
   "cell_type": "code",
   "execution_count": 15,
   "id": "582be60f-9a9b-4f88-90e2-5fd91f50204a",
   "metadata": {},
   "outputs": [
    {
     "data": {
      "text/plain": [
       "(True, False)"
      ]
     },
     "execution_count": 15,
     "metadata": {},
     "output_type": "execute_result"
    }
   ],
   "source": [
    "value1, value2= True, False\n",
    "value1, value2"
   ]
  },
  {
   "cell_type": "code",
   "execution_count": 17,
   "id": "d8094056-5702-4718-9164-504be6b65daa",
   "metadata": {},
   "outputs": [
    {
     "data": {
      "text/plain": [
       "bool"
      ]
     },
     "execution_count": 17,
     "metadata": {},
     "output_type": "execute_result"
    }
   ],
   "source": [
    "type(value1)"
   ]
  },
  {
   "cell_type": "code",
   "execution_count": 18,
   "id": "90660bfc-525a-4ddb-bd0b-f5ffcb419728",
   "metadata": {},
   "outputs": [
    {
     "data": {
      "text/plain": [
       "False"
      ]
     },
     "execution_count": 18,
     "metadata": {},
     "output_type": "execute_result"
    }
   ],
   "source": [
    "bool(0)"
   ]
  },
  {
   "cell_type": "code",
   "execution_count": 19,
   "id": "46d6f037-5fb7-4c5b-b392-d542d048d242",
   "metadata": {},
   "outputs": [
    {
     "data": {
      "text/plain": [
       "True"
      ]
     },
     "execution_count": 19,
     "metadata": {},
     "output_type": "execute_result"
    }
   ],
   "source": [
    "bool(1)"
   ]
  },
  {
   "cell_type": "code",
   "execution_count": 20,
   "id": "7b203331-e8c0-46f1-8749-9f634d5c7eee",
   "metadata": {},
   "outputs": [
    {
     "data": {
      "text/plain": [
       "True"
      ]
     },
     "execution_count": 20,
     "metadata": {},
     "output_type": "execute_result"
    }
   ],
   "source": [
    "bool('Hola')"
   ]
  },
  {
   "cell_type": "code",
   "execution_count": 21,
   "id": "89a27611-695f-4429-8fc8-5758150379b0",
   "metadata": {},
   "outputs": [
    {
     "data": {
      "text/plain": [
       "True"
      ]
     },
     "execution_count": 21,
     "metadata": {},
     "output_type": "execute_result"
    }
   ],
   "source": [
    "bool(2)"
   ]
  },
  {
   "cell_type": "code",
   "execution_count": 23,
   "id": "2e135ee5-19b0-4a2f-a159-b6c77f42a99a",
   "metadata": {},
   "outputs": [
    {
     "data": {
      "text/plain": [
       "(False, True)"
      ]
     },
     "execution_count": 23,
     "metadata": {},
     "output_type": "execute_result"
    }
   ],
   "source": [
    "bool(''), bool('aiuda')"
   ]
  },
  {
   "cell_type": "code",
   "execution_count": 24,
   "id": "42a694be-48d2-414c-857c-f70939bf65de",
   "metadata": {},
   "outputs": [
    {
     "data": {
      "text/plain": [
       "False"
      ]
     },
     "execution_count": 24,
     "metadata": {},
     "output_type": "execute_result"
    }
   ],
   "source": [
    "bool([])"
   ]
  },
  {
   "cell_type": "code",
   "execution_count": 26,
   "id": "46eab9b1-6a7b-482a-893f-fdbd5244bdf7",
   "metadata": {},
   "outputs": [
    {
     "data": {
      "text/plain": [
       "(False, True)"
      ]
     },
     "execution_count": 26,
     "metadata": {},
     "output_type": "execute_result"
    }
   ],
   "source": [
    "bool(()), bool(5, )"
   ]
  },
  {
   "cell_type": "code",
   "execution_count": 27,
   "id": "acefdc67-e66f-4567-8a41-fa21f2813cbc",
   "metadata": {},
   "outputs": [
    {
     "data": {
      "text/plain": [
       "(False, True)"
      ]
     },
     "execution_count": 27,
     "metadata": {},
     "output_type": "execute_result"
    }
   ],
   "source": [
    "bool([]), bool({'key':'value'})"
   ]
  },
  {
   "cell_type": "markdown",
   "id": "04059114-d2b5-4622-9d50-f3d310082002",
   "metadata": {},
   "source": [
    "# Sets"
   ]
  },
  {
   "cell_type": "code",
   "execution_count": 28,
   "id": "842dbd05-f535-46d7-8629-ef418faeab50",
   "metadata": {},
   "outputs": [
    {
     "data": {
      "text/plain": [
       "set"
      ]
     },
     "execution_count": 28,
     "metadata": {},
     "output_type": "execute_result"
    }
   ],
   "source": [
    "type({4, 'cosa'})"
   ]
  },
  {
   "cell_type": "code",
   "execution_count": 29,
   "id": "7e6417dd-e2c2-472f-9d9f-bd67e237f166",
   "metadata": {},
   "outputs": [],
   "source": [
    "conjunto= {4, 'cosa', 1, 2, 3, 4, 'a', 'b', 'c', 'a'}"
   ]
  },
  {
   "cell_type": "code",
   "execution_count": 30,
   "id": "920d9f16-1902-4008-b13e-50c944369361",
   "metadata": {},
   "outputs": [
    {
     "data": {
      "text/plain": [
       "8"
      ]
     },
     "execution_count": 30,
     "metadata": {},
     "output_type": "execute_result"
    }
   ],
   "source": [
    "len(conjunto)"
   ]
  },
  {
   "cell_type": "code",
   "execution_count": 31,
   "id": "4210ecbe-5140-494c-bcab-1f990c4d1d75",
   "metadata": {},
   "outputs": [
    {
     "data": {
      "text/plain": [
       "{1, 2, 3, 4, 'a', 'b', 'c', 'cosa'}"
      ]
     },
     "execution_count": 31,
     "metadata": {},
     "output_type": "execute_result"
    }
   ],
   "source": [
    "conjunto"
   ]
  },
  {
   "cell_type": "markdown",
   "id": "3430d151-239a-4888-9511-44604c013d39",
   "metadata": {},
   "source": [
    "# Operadores de asignación\n",
    "\n",
    "=, +=, -=, *=, /=, //=, %"
   ]
  },
  {
   "cell_type": "code",
   "execution_count": 33,
   "id": "6e610718-03df-45ff-93da-8b461597b1cd",
   "metadata": {},
   "outputs": [
    {
     "data": {
      "text/plain": [
       "32"
      ]
     },
     "execution_count": 33,
     "metadata": {},
     "output_type": "execute_result"
    }
   ],
   "source": [
    "a= 10\n",
    "a= a+22\n",
    "a"
   ]
  },
  {
   "cell_type": "code",
   "execution_count": 34,
   "id": "9dbc0959-ea20-44d6-9b97-70461d1c55bc",
   "metadata": {},
   "outputs": [
    {
     "ename": "SyntaxError",
     "evalue": "invalid syntax (1380372178.py, line 2)",
     "output_type": "error",
     "traceback": [
      "\u001b[1;36m  Cell \u001b[1;32mIn[34], line 2\u001b[1;36m\u001b[0m\n\u001b[1;33m    a+ =22\u001b[0m\n\u001b[1;37m       ^\u001b[0m\n\u001b[1;31mSyntaxError\u001b[0m\u001b[1;31m:\u001b[0m invalid syntax\n"
     ]
    }
   ],
   "source": [
    "a= 10\n",
    "a+ =22\n",
    "a"
   ]
  },
  {
   "cell_type": "code",
   "execution_count": 35,
   "id": "9c4f353a-9278-40da-a197-54e3058981b7",
   "metadata": {},
   "outputs": [
    {
     "data": {
      "text/plain": [
       "'hace más fríoque antes'"
      ]
     },
     "execution_count": 35,
     "metadata": {},
     "output_type": "execute_result"
    }
   ],
   "source": [
    "cadena = 'hace más frío'\n",
    "cadena= cadena+ ' que antes'\n",
    "cadena"
   ]
  },
  {
   "cell_type": "code",
   "execution_count": 36,
   "id": "ab9d5bbd-4ab1-41d0-a1fb-a9cbc4a7848d",
   "metadata": {},
   "outputs": [
    {
     "data": {
      "text/plain": [
       "15"
      ]
     },
     "execution_count": 36,
     "metadata": {},
     "output_type": "execute_result"
    }
   ],
   "source": [
    "a= 25\n",
    "a-= 10\n",
    "a"
   ]
  },
  {
   "cell_type": "code",
   "execution_count": 37,
   "id": "f537189c-9ac7-42ce-abd2-53909b5f2892",
   "metadata": {},
   "outputs": [
    {
     "data": {
      "text/plain": [
       "12"
      ]
     },
     "execution_count": 37,
     "metadata": {},
     "output_type": "execute_result"
    }
   ],
   "source": [
    "a = 7\n",
    "a +=5\n",
    "a"
   ]
  },
  {
   "cell_type": "code",
   "execution_count": 38,
   "id": "f32cc997-f6a6-47c2-90d5-f5256b4a7c2e",
   "metadata": {},
   "outputs": [
    {
     "data": {
      "text/plain": [
       "12.0"
      ]
     },
     "execution_count": 38,
     "metadata": {},
     "output_type": "execute_result"
    }
   ],
   "source": [
    "a= 144\n",
    "a /= 12\n",
    "a"
   ]
  },
  {
   "cell_type": "code",
   "execution_count": 39,
   "id": "d4024731-d468-4eb2-81a9-b363286b69b6",
   "metadata": {},
   "outputs": [
    {
     "data": {
      "text/plain": [
       "32"
      ]
     },
     "execution_count": 39,
     "metadata": {},
     "output_type": "execute_result"
    }
   ],
   "source": [
    "a= 2\n",
    "a **= 5\n",
    "a"
   ]
  },
  {
   "cell_type": "code",
   "execution_count": 40,
   "id": "74af9c3f-755f-4c4a-9368-633fba7580ec",
   "metadata": {},
   "outputs": [
    {
     "data": {
      "text/plain": [
       "[3,\n",
       " 6,\n",
       " 8,\n",
       " 'azul como el mar azul',\n",
       " 'l',\n",
       " 'a',\n",
       " 's',\n",
       " ' ',\n",
       " 'd',\n",
       " 'o',\n",
       " 'c',\n",
       " 'e',\n",
       " ' ',\n",
       " 'c',\n",
       " 'a',\n",
       " 's',\n",
       " 'a',\n",
       " 's']"
      ]
     },
     "execution_count": 40,
     "metadata": {},
     "output_type": "execute_result"
    }
   ],
   "source": [
    "a= [3, 6, 8, 'azul como el mar azul']\n",
    "a += list('las doce casas')\n",
    "a"
   ]
  },
  {
   "cell_type": "code",
   "execution_count": 41,
   "id": "a224406e-186f-47b3-9bf2-5e6bffd06820",
   "metadata": {},
   "outputs": [
    {
     "data": {
      "text/plain": [
       "18"
      ]
     },
     "execution_count": 41,
     "metadata": {},
     "output_type": "execute_result"
    }
   ],
   "source": [
    "len(a)"
   ]
  },
  {
   "cell_type": "markdown",
   "id": "2fb0c4b8-89e5-4f24-8ce0-d3b06fd721ee",
   "metadata": {},
   "source": [
    "# Operadores relacionales\n",
    "\n",
    "<, >, ==, !="
   ]
  },
  {
   "cell_type": "code",
   "execution_count": 42,
   "id": "03b666df-f196-4536-8bcd-d6f6d30bbc16",
   "metadata": {},
   "outputs": [
    {
     "data": {
      "text/plain": [
       "(False, True, False, True)"
      ]
     },
     "execution_count": 42,
     "metadata": {},
     "output_type": "execute_result"
    }
   ],
   "source": [
    "a, b= 5,18\n",
    "a> b, a<b, a== b, a!=b"
   ]
  },
  {
   "cell_type": "code",
   "execution_count": 43,
   "id": "5b590447-053f-4ffe-81bd-8bc65ce3d1a6",
   "metadata": {},
   "outputs": [
    {
     "data": {
      "text/plain": [
       "False"
      ]
     },
     "execution_count": 43,
     "metadata": {},
     "output_type": "execute_result"
    }
   ],
   "source": [
    "a, b, c= -45.2, 22, 100\n",
    "(((a-b) < 567) !=0) == c*0"
   ]
  },
  {
   "cell_type": "code",
   "execution_count": 44,
   "id": "55f57c41-b6b6-4f7c-a32a-d3be649e5f5e",
   "metadata": {},
   "outputs": [
    {
     "data": {
      "text/plain": [
       "True"
      ]
     },
     "execution_count": 44,
     "metadata": {},
     "output_type": "execute_result"
    }
   ],
   "source": [
    "(((a-b) < 567) !=0)"
   ]
  },
  {
   "cell_type": "code",
   "execution_count": 45,
   "id": "42ac87d3-7812-41b1-9850-a3a931b2da4f",
   "metadata": {},
   "outputs": [
    {
     "data": {
      "text/plain": [
       "(True, True, True)"
      ]
     },
     "execution_count": 45,
     "metadata": {},
     "output_type": "execute_result"
    }
   ],
   "source": [
    "True != 0, True == 1, False == 0"
   ]
  },
  {
   "cell_type": "code",
   "execution_count": 47,
   "id": "00db9d84-d214-45ec-9d56-34d36dac1197",
   "metadata": {},
   "outputs": [
    {
     "data": {
      "text/plain": [
       "True"
      ]
     },
     "execution_count": 47,
     "metadata": {},
     "output_type": "execute_result"
    }
   ],
   "source": [
    "False < True\n",
    "#0        #1"
   ]
  },
  {
   "cell_type": "code",
   "execution_count": 48,
   "id": "e3f1f996-9ed6-4d4c-bcea-c87e03e0243a",
   "metadata": {},
   "outputs": [
    {
     "data": {
      "text/plain": [
       "True"
      ]
     },
     "execution_count": 48,
     "metadata": {},
     "output_type": "execute_result"
    }
   ],
   "source": [
    "False + 1 <= True"
   ]
  },
  {
   "cell_type": "code",
   "execution_count": 49,
   "id": "a3ff8c7e-6092-4877-b288-42bf6163af77",
   "metadata": {},
   "outputs": [
    {
     "data": {
      "text/plain": [
       "True"
      ]
     },
     "execution_count": 49,
     "metadata": {},
     "output_type": "execute_result"
    }
   ],
   "source": [
    "5 < 10 < 58"
   ]
  },
  {
   "cell_type": "code",
   "execution_count": 50,
   "id": "90c1db86-91fa-4c23-8648-2acf58961638",
   "metadata": {},
   "outputs": [
    {
     "data": {
      "text/plain": [
       "False"
      ]
     },
     "execution_count": 50,
     "metadata": {},
     "output_type": "execute_result"
    }
   ],
   "source": [
    "5 < 10 < 3"
   ]
  },
  {
   "cell_type": "markdown",
   "id": "784f462e-efff-435d-aa8c-7f69d13e6867",
   "metadata": {},
   "source": [
    "# Operadores lógicos\n",
    "\n",
    "or, and, not"
   ]
  },
  {
   "cell_type": "code",
   "execution_count": 51,
   "id": "ad5e3988-b3f4-4bc4-b238-181046125c12",
   "metadata": {},
   "outputs": [
    {
     "data": {
      "text/plain": [
       "(True, False, False, False)"
      ]
     },
     "execution_count": 51,
     "metadata": {},
     "output_type": "execute_result"
    }
   ],
   "source": [
    "# Tabla de verdad del and\n",
    "True and True, True and False, False and True, False and False"
   ]
  },
  {
   "cell_type": "code",
   "execution_count": 52,
   "id": "0d6c14b3-adf9-4650-8ef0-1bfdca323d57",
   "metadata": {},
   "outputs": [
    {
     "data": {
      "text/plain": [
       "(True, True, True, False)"
      ]
     },
     "execution_count": 52,
     "metadata": {},
     "output_type": "execute_result"
    }
   ],
   "source": [
    "# Tabla de verdad del or\n",
    "True or True, True or False, False or True, False or False"
   ]
  },
  {
   "cell_type": "code",
   "execution_count": 53,
   "id": "5d6b118f-7110-4d21-b234-771f41f4561a",
   "metadata": {},
   "outputs": [
    {
     "data": {
      "text/plain": [
       "(False, True)"
      ]
     },
     "execution_count": 53,
     "metadata": {},
     "output_type": "execute_result"
    }
   ],
   "source": [
    "# Tabla de verdad del not\n",
    "not True, not False"
   ]
  },
  {
   "cell_type": "code",
   "execution_count": 54,
   "id": "09155528-440a-4781-8f1c-6927fd56b407",
   "metadata": {},
   "outputs": [
    {
     "data": {
      "text/plain": [
       "True"
      ]
     },
     "execution_count": 54,
     "metadata": {},
     "output_type": "execute_result"
    }
   ],
   "source": [
    "# 3<5<10\n",
    "3<5 and 5<10"
   ]
  },
  {
   "cell_type": "code",
   "execution_count": 55,
   "id": "beb6b5b2-330d-4148-ab25-d8aee61871fe",
   "metadata": {},
   "outputs": [
    {
     "data": {
      "text/plain": [
       "False"
      ]
     },
     "execution_count": 55,
     "metadata": {},
     "output_type": "execute_result"
    }
   ],
   "source": [
    "3<8<5"
   ]
  },
  {
   "cell_type": "code",
   "execution_count": 56,
   "id": "a2078793-fc06-4787-aca5-0863758f4c0b",
   "metadata": {},
   "outputs": [
    {
     "data": {
      "text/plain": [
       "False"
      ]
     },
     "execution_count": 56,
     "metadata": {},
     "output_type": "execute_result"
    }
   ],
   "source": [
    "3<8 and 8<5"
   ]
  },
  {
   "cell_type": "code",
   "execution_count": 58,
   "id": "7dbf778a-6f1c-4dea-a529-e4cf2fe49635",
   "metadata": {},
   "outputs": [
    {
     "data": {
      "text/plain": [
       "False"
      ]
     },
     "execution_count": 58,
     "metadata": {},
     "output_type": "execute_result"
    }
   ],
   "source": [
    "c = 'hola mundo'\n",
    "len(c) >= 10 and c[0] == 'H'"
   ]
  },
  {
   "cell_type": "markdown",
   "id": "d45e74ae-76bc-4b3b-859d-f73ca9a87a25",
   "metadata": {},
   "source": [
    "# Controladores de flujo\n",
    "\n",
    "Son estructuras de control condicionada, Nos permite evaluar si una o más condiciones se cumplen, para decidir que acciones se van a ejecutar"
   ]
  },
  {
   "cell_type": "markdown",
   "id": "aa2fe9e6-25ce-4024-b053-a26555a451f7",
   "metadata": {},
   "source": [
    "Los posibles controladores de flujo son:\n",
    "- if\n",
    "- elif\n",
    "- els\n",
    "- while\n",
    "- for"
   ]
  },
  {
   "cell_type": "markdown",
   "id": "c2a497d5-e487-4592-a098-bc58fb4a5ca9",
   "metadata": {},
   "source": [
    "# Sentencia if\n",
    "\n",
    "El if se ejecuta siempre que la expresión que la acompañe sea True"
   ]
  },
  {
   "cell_type": "code",
   "execution_count": 59,
   "id": "c2a442fa-38ff-4b63-a7c5-71007078bc61",
   "metadata": {},
   "outputs": [
    {
     "name": "stdout",
     "output_type": "stream",
     "text": [
      "entro al if\n"
     ]
    }
   ],
   "source": [
    "if True:\n",
    "    print('entro al if')\n",
    "    "
   ]
  },
  {
   "cell_type": "code",
   "execution_count": 61,
   "id": "021b17f1-a10b-4d1b-a372-579b4e109e05",
   "metadata": {},
   "outputs": [],
   "source": [
    "a =-2\n",
    "\n",
    "if a>0:\n",
    "    print('entró al if')"
   ]
  },
  {
   "cell_type": "code",
   "execution_count": 62,
   "id": "85824c3f-b0b0-4b8e-bbeb-a4cedfbd5849",
   "metadata": {},
   "outputs": [
    {
     "name": "stdout",
     "output_type": "stream",
     "text": [
      "entró al if\n"
     ]
    }
   ],
   "source": [
    "a =2\n",
    "\n",
    "if a>0:\n",
    "    print('entró al if')"
   ]
  },
  {
   "cell_type": "code",
   "execution_count": 63,
   "id": "9981f447-8c2e-4cfe-98c1-db44bbc7e17e",
   "metadata": {},
   "outputs": [
    {
     "name": "stdout",
     "output_type": "stream",
     "text": [
      "a mayor que 5\n",
      "codigo después del if\n"
     ]
    }
   ],
   "source": [
    "a= 10\n",
    "if a> 5:\n",
    "    print('a mayor que 5')\n",
    "else:\n",
    "    print('pos a no es mayor que 5')\n",
    "\n",
    "print('codigo después del if')"
   ]
  },
  {
   "cell_type": "code",
   "execution_count": 65,
   "id": "08c664fe-604a-4375-86df-a3ebd67eabaa",
   "metadata": {},
   "outputs": [
    {
     "name": "stdout",
     "output_type": "stream",
     "text": [
      "a es impar y b no me importa\n",
      "continuamos...\n"
     ]
    }
   ],
   "source": [
    "a, b= 17.5, -15\n",
    "if a % 2 == 0:\n",
    "    print('a es par')\n",
    "    if b>0:\n",
    "        print('b es positivo')\n",
    "    else:\n",
    "        print('b es gruñón')\n",
    "else:\n",
    "    print('a es impar y b no me importa')\n",
    "\n",
    "print('continuamos...')"
   ]
  },
  {
   "cell_type": "code",
   "execution_count": 67,
   "id": "4943b80c-405f-4120-8b7c-7b6e75f3441c",
   "metadata": {},
   "outputs": [
    {
     "name": "stdout",
     "output_type": "stream",
     "text": [
      "a en la lista\n",
      "hay q seguirle\n"
     ]
    }
   ],
   "source": [
    "lista = [5, 7, 9, 10]\n",
    "a, b= 9,17\n",
    "\n",
    "if a in lista:\n",
    "    print ('a en la lista')\n",
    "elif a % 2 == 0:\n",
    "    print('a es par')\n",
    "else:\n",
    "    print('pos nadota')\n",
    "\n",
    "print('hay q seguirle')"
   ]
  },
  {
   "cell_type": "code",
   "execution_count": 69,
   "id": "61ab02f3-40e0-458e-b25f-6d563f2521f2",
   "metadata": {},
   "outputs": [],
   "source": [
    "a= 5\n",
    "if a % 2== 0:\n",
    "    print('a es par')\n",
    "else:\n",
    "    pass"
   ]
  },
  {
   "cell_type": "code",
   "execution_count": null,
   "id": "03bcfc24-1ec3-47ef-a670-fbd226b05a72",
   "metadata": {},
   "outputs": [],
   "source": []
  }
 ],
 "metadata": {
  "kernelspec": {
   "display_name": "Python 3 (ipykernel)",
   "language": "python",
   "name": "python3"
  },
  "language_info": {
   "codemirror_mode": {
    "name": "ipython",
    "version": 3
   },
   "file_extension": ".py",
   "mimetype": "text/x-python",
   "name": "python",
   "nbconvert_exporter": "python",
   "pygments_lexer": "ipython3",
   "version": "3.10.4"
  }
 },
 "nbformat": 4,
 "nbformat_minor": 5
}
