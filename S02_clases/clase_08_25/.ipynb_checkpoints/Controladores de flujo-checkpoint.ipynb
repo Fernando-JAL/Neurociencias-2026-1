{
 "cells": [
  {
   "cell_type": "markdown",
   "id": "79a6ac7e-bcf8-4fd0-92cd-9ddb3db17758",
   "metadata": {},
   "source": [
    "# Controladores de flujo\n",
    "\n",
    "Son estructuras de control __condicionada__. Nos permite evaluar si una o más condiciones se cumplen, para decidir qué acciones se van a ejecutar. \n",
    "\n",
    "Nótese que la evaluación de condiciones sólo puede dar como resultado un boolean."
   ]
  },
  {
   "cell_type": "markdown",
   "id": "344d02e7-334a-4e06-96a4-42e2877aa02c",
   "metadata": {},
   "source": [
    "Los posibles controladores de flujo son:\n",
    "- if\n",
    "- elif\n",
    "- else\n",
    "- while\n",
    "- for"
   ]
  },
  {
   "cell_type": "markdown",
   "id": "d476eada-f16d-48ed-928a-ea278035db5f",
   "metadata": {},
   "source": [
    "# Sentencia __if__\n",
    "\n",
    "El if se ejecuta siempre que la expresión que la acompañe se True"
   ]
  },
  {
   "cell_type": "code",
   "execution_count": 3,
   "id": "2617be10-d09e-4ad1-906b-f0a3d599b2f8",
   "metadata": {},
   "outputs": [
    {
     "name": "stdout",
     "output_type": "stream",
     "text": [
      "entro al if\n"
     ]
    }
   ],
   "source": [
    "if True:\n",
    "    print('entro al if')"
   ]
  },
  {
   "cell_type": "code",
   "execution_count": 7,
   "id": "3e497c21-49d1-4ec5-86cc-b5dc2c9fac46",
   "metadata": {},
   "outputs": [
    {
     "name": "stdout",
     "output_type": "stream",
     "text": [
      "entró al if\n"
     ]
    }
   ],
   "source": [
    "a = 2\n",
    "\n",
    "if a > 0:\n",
    "    print('entró al if')"
   ]
  },
  {
   "cell_type": "code",
   "execution_count": 11,
   "id": "32da7759-c5a4-4c80-9407-f28d975c5473",
   "metadata": {},
   "outputs": [
    {
     "name": "stdout",
     "output_type": "stream",
     "text": [
      "pos a no es mayor que 5\n",
      "código después del if\n"
     ]
    }
   ],
   "source": [
    "a = -52.34\n",
    "if a > 5:\n",
    "    print('a mayor que 5')\n",
    "else:\n",
    "    print('pos a no es mayor que 5')\n",
    "    \n",
    "print('código después del if')"
   ]
  },
  {
   "cell_type": "code",
   "execution_count": 15,
   "id": "595e202d-d4b7-4121-adbc-28189925e249",
   "metadata": {},
   "outputs": [
    {
     "name": "stdout",
     "output_type": "stream",
     "text": [
      "a es impar y b no me importa\n",
      "continuamos...\n"
     ]
    }
   ],
   "source": [
    "a, b = 17.5, -15\n",
    "if a % 2 == 0:\n",
    "    print('a es par')\n",
    "    if b > 0:\n",
    "        print('b es positivo')\n",
    "    else:\n",
    "        print('b es gruñon')\n",
    "else:\n",
    "    print('a es impar y b no me importa')\n",
    "\n",
    "print('continuamos...')"
   ]
  },
  {
   "cell_type": "code",
   "execution_count": 20,
   "id": "0c8ac2a0-4ac6-4656-a28f-4bae8de0d090",
   "metadata": {},
   "outputs": [
    {
     "name": "stdout",
     "output_type": "stream",
     "text": [
      "pos nadota\n",
      "hay q seguirle\n"
     ]
    }
   ],
   "source": [
    "lista = [5, 7, 9, 10]\n",
    "a, b = 3, 17\n",
    "\n",
    "if a in lista:\n",
    "    print('a en la lista')\n",
    "elif a % 2 == 0:\n",
    "    print('a es par')\n",
    "else:\n",
    "    print('pos nadota')\n",
    "\n",
    "print('hay q seguirle')"
   ]
  },
  {
   "cell_type": "code",
   "execution_count": 23,
   "id": "f3c95b5c-55e8-4b65-ba86-8d8a208ae484",
   "metadata": {},
   "outputs": [],
   "source": [
    "a = 5\n",
    "if a % 2 == 0:\n",
    "    print('a es par')\n",
    "else:\n",
    "    pass\n"
   ]
  },
  {
   "cell_type": "code",
   "execution_count": null,
   "id": "0a9b69fa-e152-4af1-8591-eab394f3e8e0",
   "metadata": {},
   "outputs": [],
   "source": []
  }
 ],
 "metadata": {
  "kernelspec": {
   "display_name": "Python 3 (ipykernel)",
   "language": "python",
   "name": "python3"
  },
  "language_info": {
   "codemirror_mode": {
    "name": "ipython",
    "version": 3
   },
   "file_extension": ".py",
   "mimetype": "text/x-python",
   "name": "python",
   "nbconvert_exporter": "python",
   "pygments_lexer": "ipython3",
   "version": "3.10.4"
  }
 },
 "nbformat": 4,
 "nbformat_minor": 5
}
