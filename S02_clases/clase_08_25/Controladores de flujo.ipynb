{
 "cells": [
  {
   "cell_type": "markdown",
   "id": "c850e0ca-df21-4f97-ac1a-e2d1eb49e5e4",
   "metadata": {},
   "source": [
    "# Controladores de flujo\n",
    "estructuras de control condicionada.Nos permite el valor si una o más condiciones se cumplen,que acciones se van a ejecutar.\n",
    "Notese que la evaluación de condiciones solo puede dar como resultado un boolean"
   ]
  },
  {
   "cell_type": "markdown",
   "id": "cd604422-7d8a-426a-9d2e-72d80ae4f46a",
   "metadata": {},
   "source": [
    "Los posibles controladores de flujo son:\n",
    "- if\n",
    "- elif\n",
    "- else\n",
    "- while\n",
    "- for"
   ]
  },
  {
   "cell_type": "markdown",
   "id": "cc441084-fc23-42a2-a95c-c35f385df86d",
   "metadata": {},
   "source": [
    "# Sentencia if\n",
    "El if se ejecuta siempre que la expresión que la acompañe sea True"
   ]
  },
  {
   "cell_type": "code",
   "execution_count": 1,
   "id": "739f8c63-ec73-45dc-a6b8-dc2b7f59888e",
   "metadata": {},
   "outputs": [
    {
     "name": "stdout",
     "output_type": "stream",
     "text": [
      "entro al if\n"
     ]
    }
   ],
   "source": [
    "if True:\n",
    "    print('entro al if')"
   ]
  },
  {
   "cell_type": "code",
   "execution_count": 4,
   "id": "d4b66b37-2862-49c1-8814-54b54377f389",
   "metadata": {},
   "outputs": [
    {
     "name": "stdout",
     "output_type": "stream",
     "text": [
      "entró al if\n"
     ]
    }
   ],
   "source": [
    "a=2\n",
    "if a > 0:\n",
    "    print('entró al if')"
   ]
  },
  {
   "cell_type": "code",
   "execution_count": 8,
   "id": "20b02496-a5e4-4074-a21c-0b307b723ff3",
   "metadata": {},
   "outputs": [
    {
     "name": "stdout",
     "output_type": "stream",
     "text": [
      "pos a no es mayor que 5\n"
     ]
    }
   ],
   "source": [
    "a=-52.34\n",
    "if a>5:\n",
    "    print('a mayor que 5')\n",
    "else:\n",
    "    print('pos a no es mayor que 5')"
   ]
  },
  {
   "cell_type": "code",
   "execution_count": 12,
   "id": "f3419ae1-415f-4f44-b6b3-32861586736a",
   "metadata": {},
   "outputs": [
    {
     "name": "stdout",
     "output_type": "stream",
     "text": [
      "a es par\n",
      "b es positivo\n",
      "continuamos...\n"
     ]
    }
   ],
   "source": [
    "a,b=10,5\n",
    "if a% 2 ==0:\n",
    "    print('a es par')\n",
    "    if b> 0:\n",
    "        print('b es positivo')\n",
    "    else:\n",
    "        print('b es gruñon')\n",
    "else:\n",
    "    print('a es impar y b no me importa')\n",
    "\n",
    "print('continuamos...')"
   ]
  },
  {
   "cell_type": "code",
   "execution_count": 13,
   "id": "ce1566c1-4f46-47c3-8daf-ae75d251f6a2",
   "metadata": {},
   "outputs": [
    {
     "name": "stdout",
     "output_type": "stream",
     "text": [
      "a es impar y b no me importa\n",
      "continuamos...\n"
     ]
    }
   ],
   "source": [
    "a,b=17.5,-15\n",
    "if a% 2 ==0:\n",
    "    print('a es par')\n",
    "    if b> 0:\n",
    "        print('b es positivo')\n",
    "    else:\n",
    "        print('b es gruñon')\n",
    "else:\n",
    "    print('a es impar y b no me importa')\n",
    "\n",
    "print('continuamos...')"
   ]
  },
  {
   "cell_type": "code",
   "execution_count": 17,
   "id": "d721fb9f-b554-4fe4-96f2-7c9f82d76161",
   "metadata": {},
   "outputs": [
    {
     "name": "stdout",
     "output_type": "stream",
     "text": [
      "a es par\n",
      "hay que seguirle\n"
     ]
    }
   ],
   "source": [
    "lista=[ 5,7,9,10]\n",
    "a,b=8,17\n",
    "if a in lista:\n",
    "    print('a en la lista')\n",
    "elif a % 2 ==0:\n",
    "    print('a es par')\n",
    "else:\n",
    "    print('pos nadota')\n",
    "\n",
    "print('hay que seguirle')"
   ]
  },
  {
   "cell_type": "code",
   "execution_count": null,
   "id": "2db1ad8f-e923-46df-bc28-9889871ee559",
   "metadata": {},
   "outputs": [],
   "source": [
    "a= 5\n",
    "if a%2==0\n"
   ]
  }
 ],
 "metadata": {
  "kernelspec": {
   "display_name": "Python 3 (ipykernel)",
   "language": "python",
   "name": "python3"
  },
  "language_info": {
   "codemirror_mode": {
    "name": "ipython",
    "version": 3
   },
   "file_extension": ".py",
   "mimetype": "text/x-python",
   "name": "python",
   "nbconvert_exporter": "python",
   "pygments_lexer": "ipython3",
   "version": "3.10.4"
  }
 },
 "nbformat": 4,
 "nbformat_minor": 5
}
