{
 "cells": [
  {
   "cell_type": "markdown",
   "id": "b83bc5b8-0e6f-4726-82aa-c0633a5e595b",
   "metadata": {},
   "source": [
    "# Controladores de flujo \n",
    "\n",
    "Son estructuras de control _condicionada_. Nos permite evaluar si una o más condiciones se cumplen, para decidir qué acciones se van a ejecutar. \n",
    "\n",
    "Nótese que la evaluación de condiciones solo puede dar como resultado un booleano.\n",
    "\n",
    "Los posibles controladores: \n",
    "- if\n",
    "- elif\n",
    "- else\n",
    "- while\n",
    "- for"
   ]
  },
  {
   "cell_type": "markdown",
   "id": "cc660fe2-2fea-4c85-b742-bf5c0c1b61e8",
   "metadata": {},
   "source": [
    "### Sentencia __if__\n",
    "\n",
    "El if se ejecuta siempre que la expresión que la acompañe sea True"
   ]
  },
  {
   "cell_type": "code",
   "execution_count": 5,
   "id": "2dd5cf6e-88fc-42e4-aa26-da9e355a1f7c",
   "metadata": {},
   "outputs": [
    {
     "name": "stdout",
     "output_type": "stream",
     "text": [
      "entro al if\n"
     ]
    }
   ],
   "source": [
    "# al final de la sentencia se necesitan los :\n",
    "if True:\n",
    "    print(\"entro al if\")"
   ]
  },
  {
   "cell_type": "code",
   "execution_count": 4,
   "id": "4aeaade5-e0fc-4ee3-b6de-086e7145ff1a",
   "metadata": {},
   "outputs": [
    {
     "name": "stdout",
     "output_type": "stream",
     "text": [
      "entró al if\n"
     ]
    }
   ],
   "source": [
    "a = 2\n",
    "if a > 0 : \n",
    "    print(\"entró al if\") "
   ]
  },
  {
   "cell_type": "code",
   "execution_count": 10,
   "id": "7fef97c3-bf86-41c1-b99e-96dc5bbf2dc2",
   "metadata": {},
   "outputs": [
    {
     "name": "stdout",
     "output_type": "stream",
     "text": [
      "pos a no es mayor que 5\n",
      "código después del if\n"
     ]
    }
   ],
   "source": [
    "a = -52.34\n",
    "if a > 5:\n",
    "    print(\"a mayor que 5\")\n",
    "else:\n",
    "    print(\"pos a no es mayor que 5\")\n",
    "print(\"código después del if\")"
   ]
  },
  {
   "cell_type": "code",
   "execution_count": 13,
   "id": "2a8c729d-f52f-45b6-a1d3-0f2ca61e867b",
   "metadata": {},
   "outputs": [
    {
     "name": "stdout",
     "output_type": "stream",
     "text": [
      "a es impar y b no me importa\n",
      "continuamos...\n"
     ]
    }
   ],
   "source": [
    "a, b = 17.5, -15\n",
    "if a % 2 == 0:\n",
    "    print(\"a es par\")\n",
    "    if b > 0:\n",
    "        print(\"b es positivo\")\n",
    "    else:\n",
    "        print(\"b es gruñon\")\n",
    "else: \n",
    "    print(\"a es impar y b no me importa\")\n",
    "\n",
    "print(\"continuamos...\")"
   ]
  },
  {
   "cell_type": "code",
   "execution_count": 19,
   "id": "4c898ead-380c-4904-96bc-40723ad344f6",
   "metadata": {},
   "outputs": [
    {
     "name": "stdout",
     "output_type": "stream",
     "text": [
      "pos nadota\n",
      "hay que seguirle\n"
     ]
    }
   ],
   "source": [
    "lista = [5, 7, 9, 10]\n",
    "a, b = 3, 17\n",
    "\n",
    "if a in lista: # está el valor dentro de la lista?\n",
    "    print(\"a en la lista\")\n",
    "elif a % 2 == 0:  # intermedio entre else e if, alternativa para el if que necesita un condicional \n",
    "    print(\"a es par\")\n",
    "else:  # else no necesita una condición\n",
    "    print(\"pos nadota\")\n",
    "\n",
    "print(\"hay que seguirle\")\n"
   ]
  },
  {
   "cell_type": "code",
   "execution_count": 23,
   "id": "ab4055b7-4f71-4f89-8619-e748a8cd2e60",
   "metadata": {},
   "outputs": [],
   "source": [
    "a = 5\n",
    "if a % 2 == 0:\n",
    "    print(\"a es par\")\n",
    "else:\n",
    "     pass  # para simplemente pasar esa sección"
   ]
  },
  {
   "cell_type": "code",
   "execution_count": null,
   "id": "7ac33ad5-6253-41b3-879d-e99a1731e916",
   "metadata": {},
   "outputs": [],
   "source": []
  },
  {
   "cell_type": "code",
   "execution_count": null,
   "id": "f9d9a6e0-51f8-4528-a1b6-df94ba93051c",
   "metadata": {},
   "outputs": [],
   "source": []
  },
  {
   "cell_type": "code",
   "execution_count": null,
   "id": "499099e9-e6e0-4529-b601-4e74ea3da6bd",
   "metadata": {},
   "outputs": [],
   "source": []
  }
 ],
 "metadata": {
  "kernelspec": {
   "display_name": "Python 3 (ipykernel)",
   "language": "python",
   "name": "python3"
  },
  "language_info": {
   "codemirror_mode": {
    "name": "ipython",
    "version": 3
   },
   "file_extension": ".py",
   "mimetype": "text/x-python",
   "name": "python",
   "nbconvert_exporter": "python",
   "pygments_lexer": "ipython3",
   "version": "3.10.4"
  }
 },
 "nbformat": 4,
 "nbformat_minor": 5
}
