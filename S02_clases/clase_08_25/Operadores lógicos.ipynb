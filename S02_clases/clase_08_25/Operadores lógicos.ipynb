{
 "cells": [
  {
   "cell_type": "markdown",
   "id": "fc7f8416-2439-4d4f-8575-24df5d8590f2",
   "metadata": {},
   "source": [
    "# Conversion de tipos de datos\n"
   ]
  },
  {
   "cell_type": "code",
   "execution_count": 3,
   "id": "0f44b38a-d4fc-48c2-af5d-86adafa87d2d",
   "metadata": {},
   "outputs": [
    {
     "data": {
      "text/plain": [
       "(-82, 631.0, 1j)"
      ]
     },
     "execution_count": 3,
     "metadata": {},
     "output_type": "execute_result"
    }
   ],
   "source": [
    "entero,flotante,complejo=-82,631.,complex(0,1)\n",
    "entero,flotante,complejo"
   ]
  },
  {
   "cell_type": "code",
   "execution_count": 4,
   "id": "859d08e0-833b-4220-a139-d933ec07a517",
   "metadata": {},
   "outputs": [
    {
     "data": {
      "text/plain": [
       "'-82'"
      ]
     },
     "execution_count": 4,
     "metadata": {},
     "output_type": "execute_result"
    }
   ],
   "source": [
    "str(entero)"
   ]
  },
  {
   "cell_type": "code",
   "execution_count": 5,
   "id": "3f421401-c52c-4229-af49-ad4d7c25882f",
   "metadata": {},
   "outputs": [
    {
     "data": {
      "text/plain": [
       "'1j'"
      ]
     },
     "execution_count": 5,
     "metadata": {},
     "output_type": "execute_result"
    }
   ],
   "source": [
    "str(complejo)"
   ]
  },
  {
   "cell_type": "code",
   "execution_count": 6,
   "id": "9e29c9f1-ccf4-4be3-a7f1-499f2941adbb",
   "metadata": {},
   "outputs": [
    {
     "data": {
      "text/plain": [
       "'-46.23'"
      ]
     },
     "execution_count": 6,
     "metadata": {},
     "output_type": "execute_result"
    }
   ],
   "source": [
    "cadena='-46.23'\n",
    "cadena"
   ]
  },
  {
   "cell_type": "code",
   "execution_count": 7,
   "id": "b47a5189-d028-418c-a33b-c7228cf41641",
   "metadata": {},
   "outputs": [
    {
     "data": {
      "text/plain": [
       "-46.23"
      ]
     },
     "execution_count": 7,
     "metadata": {},
     "output_type": "execute_result"
    }
   ],
   "source": [
    "float(cadena)"
   ]
  },
  {
   "cell_type": "code",
   "execution_count": 8,
   "id": "7e691fba-1229-44be-94c9-d6e556de9946",
   "metadata": {},
   "outputs": [
    {
     "data": {
      "text/plain": [
       "['-', '4', '6', '.', '2', '3']"
      ]
     },
     "execution_count": 8,
     "metadata": {},
     "output_type": "execute_result"
    }
   ],
   "source": [
    "list (cadena)"
   ]
  },
  {
   "cell_type": "code",
   "execution_count": 10,
   "id": "efb59867-9338-47de-85a0-43eb5bc53d41",
   "metadata": {},
   "outputs": [
    {
     "data": {
      "text/plain": [
       "('-', '4', '6', '.', '2', '3')"
      ]
     },
     "execution_count": 10,
     "metadata": {},
     "output_type": "execute_result"
    }
   ],
   "source": [
    "tuple(cadena)"
   ]
  },
  {
   "cell_type": "code",
   "execution_count": 11,
   "id": "bed9af40-9a69-42c0-ad0a-5ad39aebbcaf",
   "metadata": {},
   "outputs": [
    {
     "ename": "ValueError",
     "evalue": "invalid literal for int() with base 10: '-78.4'",
     "output_type": "error",
     "traceback": [
      "\u001b[1;31m---------------------------------------------------------------------------\u001b[0m",
      "\u001b[1;31mValueError\u001b[0m                                Traceback (most recent call last)",
      "Cell \u001b[1;32mIn[11], line 1\u001b[0m\n\u001b[1;32m----> 1\u001b[0m \u001b[38;5;28;43mint\u001b[39;49m\u001b[43m(\u001b[49m\u001b[38;5;124;43m'\u001b[39;49m\u001b[38;5;124;43m-78.4\u001b[39;49m\u001b[38;5;124;43m'\u001b[39;49m\u001b[43m)\u001b[49m\n",
      "\u001b[1;31mValueError\u001b[0m: invalid literal for int() with base 10: '-78.4'"
     ]
    }
   ],
   "source": [
    "int('-78.4')"
   ]
  },
  {
   "cell_type": "code",
   "execution_count": 12,
   "id": "edce4ff1-7769-4da5-a385-1ff9866e22bb",
   "metadata": {},
   "outputs": [
    {
     "data": {
      "text/plain": [
       "-78"
      ]
     },
     "execution_count": 12,
     "metadata": {},
     "output_type": "execute_result"
    }
   ],
   "source": [
    "# pero si lo hacemos así si deja\n",
    "int('-78')"
   ]
  },
  {
   "cell_type": "markdown",
   "id": "e5095961-a18a-4647-8386-57f659a11d25",
   "metadata": {},
   "source": [
    "# Tipos de datos Boolean"
   ]
  },
  {
   "cell_type": "code",
   "execution_count": 13,
   "id": "6504729b-9d36-4fc0-82c8-5c572b116bb8",
   "metadata": {},
   "outputs": [
    {
     "data": {
      "text/plain": [
       "(True, False)"
      ]
     },
     "execution_count": 13,
     "metadata": {},
     "output_type": "execute_result"
    }
   ],
   "source": [
    "value1,value2= True,False\n",
    "value1,value2"
   ]
  },
  {
   "cell_type": "code",
   "execution_count": 14,
   "id": "b7797edf-c98a-4bc2-bed2-52c3b9e22ec1",
   "metadata": {},
   "outputs": [
    {
     "data": {
      "text/plain": [
       "bool"
      ]
     },
     "execution_count": 14,
     "metadata": {},
     "output_type": "execute_result"
    }
   ],
   "source": [
    "type(value1)"
   ]
  },
  {
   "cell_type": "code",
   "execution_count": 15,
   "id": "6f93019f-d094-48bf-8aaa-d0aa146537e2",
   "metadata": {},
   "outputs": [
    {
     "data": {
      "text/plain": [
       "False"
      ]
     },
     "execution_count": 15,
     "metadata": {},
     "output_type": "execute_result"
    }
   ],
   "source": [
    "bool(0)\n"
   ]
  },
  {
   "cell_type": "code",
   "execution_count": 16,
   "id": "941d1092-967f-40fe-b0bb-670e42de3536",
   "metadata": {},
   "outputs": [
    {
     "data": {
      "text/plain": [
       "True"
      ]
     },
     "execution_count": 16,
     "metadata": {},
     "output_type": "execute_result"
    }
   ],
   "source": [
    "bool(1)"
   ]
  },
  {
   "cell_type": "code",
   "execution_count": 17,
   "id": "aac0da2e-bb7c-44df-8c46-15782d97931b",
   "metadata": {},
   "outputs": [
    {
     "data": {
      "text/plain": [
       "True"
      ]
     },
     "execution_count": 17,
     "metadata": {},
     "output_type": "execute_result"
    }
   ],
   "source": [
    "bool('Hola')"
   ]
  },
  {
   "cell_type": "code",
   "execution_count": 18,
   "id": "147464b5-5af2-458e-8592-2430b278d75d",
   "metadata": {},
   "outputs": [
    {
     "data": {
      "text/plain": [
       "True"
      ]
     },
     "execution_count": 18,
     "metadata": {},
     "output_type": "execute_result"
    }
   ],
   "source": [
    "bool(2)"
   ]
  },
  {
   "cell_type": "code",
   "execution_count": 19,
   "id": "9291510a-afd0-4377-85c2-7cd836695753",
   "metadata": {},
   "outputs": [
    {
     "data": {
      "text/plain": [
       "True"
      ]
     },
     "execution_count": 19,
     "metadata": {},
     "output_type": "execute_result"
    }
   ],
   "source": [
    "bool(21)"
   ]
  },
  {
   "cell_type": "code",
   "execution_count": 21,
   "id": "f7daafbf-bb66-41be-94bf-416c142a3ffd",
   "metadata": {},
   "outputs": [
    {
     "data": {
      "text/plain": [
       "(True, True)"
      ]
     },
     "execution_count": 21,
     "metadata": {},
     "output_type": "execute_result"
    }
   ],
   "source": [
    "bool(-150.456),bool (complex(0,1))"
   ]
  },
  {
   "cell_type": "code",
   "execution_count": 23,
   "id": "c65af9f4-6e22-4fc4-bd24-6c7e70e51abb",
   "metadata": {},
   "outputs": [
    {
     "data": {
      "text/plain": [
       "(False, True)"
      ]
     },
     "execution_count": 23,
     "metadata": {},
     "output_type": "execute_result"
    }
   ],
   "source": [
    "bool(''),bool('aiuda')"
   ]
  },
  {
   "cell_type": "code",
   "execution_count": 25,
   "id": "f4ffb8d2-66df-4fe8-b126-60b9aff16152",
   "metadata": {},
   "outputs": [
    {
     "data": {
      "text/plain": [
       "(False, True)"
      ]
     },
     "execution_count": 25,
     "metadata": {},
     "output_type": "execute_result"
    }
   ],
   "source": [
    "bool([ ]),bool(['f',9 ])"
   ]
  },
  {
   "cell_type": "code",
   "execution_count": 26,
   "id": "3c17a999-1dbc-437b-96d9-8bc7e8dc6301",
   "metadata": {},
   "outputs": [
    {
     "data": {
      "text/plain": [
       "(False, True)"
      ]
     },
     "execution_count": 26,
     "metadata": {},
     "output_type": "execute_result"
    }
   ],
   "source": [
    "bool(()),bool((5, ))"
   ]
  },
  {
   "cell_type": "markdown",
   "id": "75ca184f-1743-4e8c-a0f0-700299f444fa",
   "metadata": {},
   "source": [
    "# Sets (conjuntos)\n",
    "    "
   ]
  },
  {
   "cell_type": "code",
   "execution_count": 29,
   "id": "d4007cb4-4824-422b-801b-12486ff03fd3",
   "metadata": {},
   "outputs": [
    {
     "data": {
      "text/plain": [
       "set"
      ]
     },
     "execution_count": 29,
     "metadata": {},
     "output_type": "execute_result"
    }
   ],
   "source": [
    "type({4,'cosa'})"
   ]
  },
  {
   "cell_type": "code",
   "execution_count": 30,
   "id": "6324d6ae-2e8f-4bf5-b1a1-f64122a247cf",
   "metadata": {},
   "outputs": [],
   "source": [
    "conjunto={4,'cosa',1,2,3,4,'a','b','c','a'}"
   ]
  },
  {
   "cell_type": "code",
   "execution_count": 32,
   "id": "df32aa35-d64e-4193-9e9b-b63d2987983a",
   "metadata": {},
   "outputs": [
    {
     "data": {
      "text/plain": [
       "8"
      ]
     },
     "execution_count": 32,
     "metadata": {},
     "output_type": "execute_result"
    }
   ],
   "source": [
    "# solo cuenta 8 elementos debido a que no toma en cuenta los que se repiten\n",
    "len(conjunto)"
   ]
  },
  {
   "cell_type": "code",
   "execution_count": 34,
   "id": "a58f7158-96aa-4a13-b95d-ac4ce6f467a9",
   "metadata": {},
   "outputs": [
    {
     "data": {
      "text/plain": [
       "{1, 2, 3, 4, 'a', 'b', 'c', 'cosa'}"
      ]
     },
     "execution_count": 34,
     "metadata": {},
     "output_type": "execute_result"
    }
   ],
   "source": [
    "conjunto"
   ]
  },
  {
   "cell_type": "markdown",
   "id": "5c21a8d2-8bb6-4ddc-a6a5-5c8e81ecc862",
   "metadata": {},
   "source": [
    "# Operadores de asignación\n",
    "=,+=,-=,*=,/=,//=,%=,**="
   ]
  },
  {
   "cell_type": "code",
   "execution_count": 36,
   "id": "4e9e9ef6-17fe-4804-8490-5b2a16808ab9",
   "metadata": {},
   "outputs": [
    {
     "data": {
      "text/plain": [
       "32"
      ]
     },
     "execution_count": 36,
     "metadata": {},
     "output_type": "execute_result"
    }
   ],
   "source": [
    "a=10\n",
    "a= a + 22\n",
    "a"
   ]
  },
  {
   "cell_type": "code",
   "execution_count": 42,
   "id": "2725d14f-1047-4610-9cba-a9b0fc10b0db",
   "metadata": {},
   "outputs": [
    {
     "data": {
      "text/plain": [
       "'hace más fríomás que antes'"
      ]
     },
     "execution_count": 42,
     "metadata": {},
     "output_type": "execute_result"
    }
   ],
   "source": [
    "cadena='hace más frío'\n",
    "cadena=cadena + 'más que antes'\n",
    "cadena\n"
   ]
  },
  {
   "cell_type": "code",
   "execution_count": 38,
   "id": "6e8b5fa7-e3ef-4c75-9234-782088922348",
   "metadata": {},
   "outputs": [
    {
     "data": {
      "text/plain": [
       "15"
      ]
     },
     "execution_count": 38,
     "metadata": {},
     "output_type": "execute_result"
    }
   ],
   "source": [
    "a=25\n",
    "a-=10\n",
    "a"
   ]
  },
  {
   "cell_type": "code",
   "execution_count": 39,
   "id": "43de6b01-e74e-40df-abb9-335c81a243e8",
   "metadata": {},
   "outputs": [
    {
     "data": {
      "text/plain": [
       "35"
      ]
     },
     "execution_count": 39,
     "metadata": {},
     "output_type": "execute_result"
    }
   ],
   "source": [
    "a=7\n",
    "a*=5\n",
    "a"
   ]
  },
  {
   "cell_type": "code",
   "execution_count": 40,
   "id": "b75566df-6939-4b80-b978-7ca39abcf8cc",
   "metadata": {},
   "outputs": [
    {
     "data": {
      "text/plain": [
       "12.0"
      ]
     },
     "execution_count": 40,
     "metadata": {},
     "output_type": "execute_result"
    }
   ],
   "source": [
    "a=144 #que 144 =12*12\n",
    "a/=12\n",
    "a"
   ]
  },
  {
   "cell_type": "code",
   "execution_count": 41,
   "id": "9a6e1f87-a28c-4147-a45b-609b5228cbf5",
   "metadata": {},
   "outputs": [
    {
     "data": {
      "text/plain": [
       "32"
      ]
     },
     "execution_count": 41,
     "metadata": {},
     "output_type": "execute_result"
    }
   ],
   "source": [
    "a=2\n",
    "a**=5\n",
    "a"
   ]
  },
  {
   "cell_type": "code",
   "execution_count": 43,
   "id": "8eb2be16-34e3-47b3-8104-cb7f3175cb81",
   "metadata": {},
   "outputs": [
    {
     "data": {
      "text/plain": [
       "[3,\n",
       " 6,\n",
       " 8,\n",
       " 'azul como el mar azul',\n",
       " 'l',\n",
       " 'a',\n",
       " 's',\n",
       " ' ',\n",
       " 'd',\n",
       " 'o',\n",
       " 'c',\n",
       " 'e',\n",
       " ' ',\n",
       " 'c',\n",
       " 'a',\n",
       " 's',\n",
       " 'a',\n",
       " 's']"
      ]
     },
     "execution_count": 43,
     "metadata": {},
     "output_type": "execute_result"
    }
   ],
   "source": [
    "a=[3,6,8,'azul como el mar azul' ]\n",
    "a+=list('las doce casas')\n",
    "a"
   ]
  },
  {
   "cell_type": "markdown",
   "id": "f170e1b2-1900-464f-bfd9-cc9eca8409c5",
   "metadata": {},
   "source": [
    "# Operadores relacionales\n",
    "<,>,==,!="
   ]
  },
  {
   "cell_type": "code",
   "execution_count": 44,
   "id": "3468ac52-6e94-46a4-9ef8-5da2e455a4a2",
   "metadata": {},
   "outputs": [
    {
     "data": {
      "text/plain": [
       "(False, True, False, True)"
      ]
     },
     "execution_count": 44,
     "metadata": {},
     "output_type": "execute_result"
    }
   ],
   "source": [
    "a,b=5,18\n",
    "a>b,a<b,a==b,a!=b"
   ]
  },
  {
   "cell_type": "code",
   "execution_count": 45,
   "id": "cb98c051-8320-423f-a8c6-bfa25cbd5ee4",
   "metadata": {},
   "outputs": [
    {
     "data": {
      "text/plain": [
       "True"
      ]
     },
     "execution_count": 45,
     "metadata": {},
     "output_type": "execute_result"
    }
   ],
   "source": [
    "a,b,c=-45.2,22,100\n",
    "((a-b) <567)!=0"
   ]
  },
  {
   "cell_type": "code",
   "execution_count": 47,
   "id": "54b0c3b7-6e62-4f61-b89b-87e4f3f23cbb",
   "metadata": {},
   "outputs": [
    {
     "data": {
      "text/plain": [
       "False"
      ]
     },
     "execution_count": 47,
     "metadata": {},
     "output_type": "execute_result"
    }
   ],
   "source": [
    "a,b,c=-45.2,22,100\n",
    "(((a-b) <567)!=0) == c*0"
   ]
  },
  {
   "cell_type": "code",
   "execution_count": 48,
   "id": "c7854fe8-c3da-4e02-9d49-66afdff3206c",
   "metadata": {},
   "outputs": [
    {
     "data": {
      "text/plain": [
       "(True, True, True)"
      ]
     },
     "execution_count": 48,
     "metadata": {},
     "output_type": "execute_result"
    }
   ],
   "source": [
    "True !=0,True==1,False==0"
   ]
  },
  {
   "cell_type": "code",
   "execution_count": 49,
   "id": "b19b2b86-0376-4c36-91e2-d6e329cbb67f",
   "metadata": {},
   "outputs": [
    {
     "data": {
      "text/plain": [
       "True"
      ]
     },
     "execution_count": 49,
     "metadata": {},
     "output_type": "execute_result"
    }
   ],
   "source": [
    "#0<1\n",
    "False <True"
   ]
  },
  {
   "cell_type": "code",
   "execution_count": 50,
   "id": "63ccf330-f8e1-4cd7-869a-19e51a984281",
   "metadata": {},
   "outputs": [
    {
     "data": {
      "text/plain": [
       "True"
      ]
     },
     "execution_count": 50,
     "metadata": {},
     "output_type": "execute_result"
    }
   ],
   "source": [
    "False + 1<=True"
   ]
  },
  {
   "cell_type": "code",
   "execution_count": 51,
   "id": "3565a093-af04-4b6e-81f1-9cd6dcc7a64c",
   "metadata": {},
   "outputs": [
    {
     "data": {
      "text/plain": [
       "True"
      ]
     },
     "execution_count": 51,
     "metadata": {},
     "output_type": "execute_result"
    }
   ],
   "source": [
    "5<10<58"
   ]
  },
  {
   "cell_type": "code",
   "execution_count": 52,
   "id": "9b0a04a0-1f38-4b97-bff9-24c00eac9174",
   "metadata": {},
   "outputs": [
    {
     "data": {
      "text/plain": [
       "False"
      ]
     },
     "execution_count": 52,
     "metadata": {},
     "output_type": "execute_result"
    }
   ],
   "source": [
    "5<10<3"
   ]
  },
  {
   "cell_type": "markdown",
   "id": "f18c269c-3c42-4685-9fb8-9ef605c53c0d",
   "metadata": {},
   "source": [
    "# Operadores lógicos\n",
    "or,and,not"
   ]
  },
  {
   "cell_type": "code",
   "execution_count": 53,
   "id": "d5d95a32-49ed-49c8-b82c-1aa552fb9fd1",
   "metadata": {},
   "outputs": [
    {
     "data": {
      "text/plain": [
       "False"
      ]
     },
     "execution_count": 53,
     "metadata": {},
     "output_type": "execute_result"
    }
   ],
   "source": [
    "False and False"
   ]
  },
  {
   "cell_type": "code",
   "execution_count": 54,
   "id": "15b21079-7692-4132-8f7a-f8b90bfa0d97",
   "metadata": {},
   "outputs": [
    {
     "data": {
      "text/plain": [
       "(True, False, False, False)"
      ]
     },
     "execution_count": 54,
     "metadata": {},
     "output_type": "execute_result"
    }
   ],
   "source": [
    "# Tabla de verdad del and\n",
    "True and True,True and False,False and True,False and False"
   ]
  },
  {
   "cell_type": "code",
   "execution_count": 56,
   "id": "29dbaa22-02b3-4240-aac1-04f7c590db91",
   "metadata": {},
   "outputs": [
    {
     "data": {
      "text/plain": [
       "(True, True, True, False)"
      ]
     },
     "execution_count": 56,
     "metadata": {},
     "output_type": "execute_result"
    }
   ],
   "source": [
    "#Tabla de verdad del or\n",
    "True or True,True or False,False or True,False or False"
   ]
  },
  {
   "cell_type": "code",
   "execution_count": 57,
   "id": "0474c231-c7b5-456a-a201-1313c01392b3",
   "metadata": {},
   "outputs": [
    {
     "data": {
      "text/plain": [
       "(False, True)"
      ]
     },
     "execution_count": 57,
     "metadata": {},
     "output_type": "execute_result"
    }
   ],
   "source": [
    "#Tabla de verdad del not\n",
    "not True,not False"
   ]
  },
  {
   "cell_type": "code",
   "execution_count": 58,
   "id": "f00fce3e-1424-404f-a70d-caa924dc6067",
   "metadata": {},
   "outputs": [
    {
     "data": {
      "text/plain": [
       "True"
      ]
     },
     "execution_count": 58,
     "metadata": {},
     "output_type": "execute_result"
    }
   ],
   "source": [
    "3<5 and 5<10"
   ]
  },
  {
   "cell_type": "code",
   "execution_count": 59,
   "id": "df57ab5d-cd27-4f04-a934-33947caf2586",
   "metadata": {},
   "outputs": [
    {
     "data": {
      "text/plain": [
       "False"
      ]
     },
     "execution_count": 59,
     "metadata": {},
     "output_type": "execute_result"
    }
   ],
   "source": [
    "3<8 and 8<5"
   ]
  },
  {
   "cell_type": "code",
   "execution_count": 61,
   "id": "b8045851-73d5-4e6f-913e-128377dcacb2",
   "metadata": {},
   "outputs": [
    {
     "data": {
      "text/plain": [
       "False"
      ]
     },
     "execution_count": 61,
     "metadata": {},
     "output_type": "execute_result"
    }
   ],
   "source": [
    "#es falso porque se compara una h minuscula con una mayuscula\n",
    "c=\"hola mundo\"\n",
    "len(c) >=10 and c[0]== 'H'"
   ]
  },
  {
   "cell_type": "code",
   "execution_count": null,
   "id": "e724bd6f-cfba-4447-91fb-bd56a8ef36ef",
   "metadata": {},
   "outputs": [],
   "source": []
  }
 ],
 "metadata": {
  "kernelspec": {
   "display_name": "Python 3 (ipykernel)",
   "language": "python",
   "name": "python3"
  },
  "language_info": {
   "codemirror_mode": {
    "name": "ipython",
    "version": 3
   },
   "file_extension": ".py",
   "mimetype": "text/x-python",
   "name": "python",
   "nbconvert_exporter": "python",
   "pygments_lexer": "ipython3",
   "version": "3.10.4"
  }
 },
 "nbformat": 4,
 "nbformat_minor": 5
}
