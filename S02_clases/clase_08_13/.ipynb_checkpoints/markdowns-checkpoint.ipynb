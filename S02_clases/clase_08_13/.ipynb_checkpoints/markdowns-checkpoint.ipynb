{
 "cells": [
  {
   "cell_type": "markdown",
   "id": "c91d254e-d681-4f2f-b49f-935e92b9ce77",
   "metadata": {},
   "source": [
    "esc+a -> insertar celda arriba"
   ]
  },
  {
   "cell_type": "markdown",
   "id": "ed830c73-af93-404c-93d2-a1c1186c92c6",
   "metadata": {},
   "source": [
    "esc+b -> insertar celda abajo"
   ]
  },
  {
   "cell_type": "markdown",
   "id": "1030ff9e-410d-4872-80d8-736ff12349c6",
   "metadata": {},
   "source": [
    "shift+enter -> run"
   ]
  },
  {
   "cell_type": "markdown",
   "id": "cc3448cc-9840-4ac4-8571-392c0da5ac77",
   "metadata": {},
   "source": [
    "gato + space + text -> título"
   ]
  },
  {
   "cell_type": "markdown",
   "id": "800df324-ea90-467f-9169-1c63d83b6232",
   "metadata": {},
   "source": [
    "esc + m -> convierte la celda a markdown"
   ]
  },
  {
   "cell_type": "markdown",
   "id": "e9f1d447-220d-48d1-bd99-2815baf8157c",
   "metadata": {},
   "source": [
    "texto entre asteriscos ->\n",
    "*cursive*"
   ]
  },
  {
   "cell_type": "markdown",
   "id": "e6ba229b-047e-4f4b-a577-f0b5fe4b4314",
   "metadata": {},
   "source": [
    "texto entre 2 asteriscos -> **negrite**"
   ]
  },
  {
   "cell_type": "markdown",
   "id": "66a38952-6d9c-41e4-b012-fa66d71625a5",
   "metadata": {},
   "source": [
    "# title\n",
    "## subtitle\n",
    "### section\n",
    "#### subsection\n",
    "##### text\n",
    "###### more text\n",
    "texto sin #\n"
   ]
  },
  {
   "cell_type": "markdown",
   "id": "1ae7cce0-25a7-48e3-8b8e-cd9d67ecd226",
   "metadata": {},
   "source": [
    "guion para viñetas\n",
    "- hola\n",
    "- hola 2\n",
    "\n",
    "uno punto espacio para numerar\n",
    "1. hola\n",
    "2. hola 2\n",
    "    1. con tab se subnumera\n"
   ]
  },
  {
   "cell_type": "markdown",
   "id": "9d23fb1a-9d5e-4e2d-8a9d-833ef2ce3afb",
   "metadata": {},
   "source": [
    "### listita\n",
    "- item 1\n",
    "- item 2\n",
    "- item 3\n",
    "\n",
    "1. pou numerado 1\n",
    "2. pou numerado 2\n",
    "   1. pou subnumerado 1\n",
    "        1. pou subsubnumerado\n",
    "            1. pou subsubsubnumerado"
   ]
  },
  {
   "cell_type": "markdown",
   "id": "59e07b79-4091-4cbb-b478-6a51f9db58a1",
   "metadata": {},
   "source": [
    "lista : se escribe entre corchetes, separado por comas, modificable\n",
    "tupla: se escribe entre paréntesis, separado por comas, no modificable\n",
    "rango: se escribe range abre parentesis, numeros separados por comas "
   ]
  },
  {
   "cell_type": "markdown",
   "id": "ee1736bd-a753-4797-9e60-fe616624fbeb",
   "metadata": {},
   "source": [
    "#### diccionario"
   ]
  },
  {
   "cell_type": "code",
   "execution_count": 4,
   "id": "c89af031-290c-41d6-bf86-326d2d896e62",
   "metadata": {},
   "outputs": [],
   "source": [
    "dictionary = {'llave':'valor','llave2':'valor2','cosa':5, 'otra cosa':[3,2,'k'],'llave3':(1,2,'l')}"
   ]
  },
  {
   "cell_type": "code",
   "execution_count": 5,
   "id": "28249119-b0cf-4d3a-8177-98136e596a27",
   "metadata": {},
   "outputs": [
    {
     "data": {
      "text/plain": [
       "{'llave': 'valor',\n",
       " 'llave2': 'valor2',\n",
       " 'cosa': 5,\n",
       " 'otra cosa': [3, 2, 'k'],\n",
       " 'llave3': (1, 2, 'l')}"
      ]
     },
     "execution_count": 5,
     "metadata": {},
     "output_type": "execute_result"
    }
   ],
   "source": [
    "dictionary"
   ]
  },
  {
   "cell_type": "code",
   "execution_count": 7,
   "id": "fe45f2c7-1a87-465c-9ab4-da98b2a0528c",
   "metadata": {},
   "outputs": [
    {
     "data": {
      "text/plain": [
       "6"
      ]
     },
     "execution_count": 7,
     "metadata": {},
     "output_type": "execute_result"
    }
   ],
   "source": [
    "dictionary['cosa'] + 1"
   ]
  },
  {
   "cell_type": "code",
   "execution_count": null,
   "id": "940d0c1e-a2b9-4a7d-a784-3558b1af655c",
   "metadata": {},
   "outputs": [],
   "source": []
  }
 ],
 "metadata": {
  "kernelspec": {
   "display_name": "Python 3 (ipykernel)",
   "language": "python",
   "name": "python3"
  },
  "language_info": {
   "codemirror_mode": {
    "name": "ipython",
    "version": 3
   },
   "file_extension": ".py",
   "mimetype": "text/x-python",
   "name": "python",
   "nbconvert_exporter": "python",
   "pygments_lexer": "ipython3",
   "version": "3.10.4"
  }
 },
 "nbformat": 4,
 "nbformat_minor": 5
}
