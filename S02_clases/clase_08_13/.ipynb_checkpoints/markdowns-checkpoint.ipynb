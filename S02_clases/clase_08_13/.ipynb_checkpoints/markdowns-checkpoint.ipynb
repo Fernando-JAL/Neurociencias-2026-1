{
 "cells": [
  {
   "cell_type": "markdown",
   "id": "37e9c0c6-8cd5-4e3e-9793-1e433764c587",
   "metadata": {},
   "source": [
    "# title\n",
    "## subtitle\n",
    "### section\n",
    "#### sub section\n",
    "##### text\n",
    "###### more text\n",
    "texto sin #\n",
    "\n",
    "*italic*\n",
    "_todavía más texto_\n",
    "\n",
    "**bold**\n",
    "__otro texto__"
   ]
  },
  {
   "cell_type": "markdown",
   "id": "e7a23530-aade-4c51-8246-43cf9c7d7c30",
   "metadata": {},
   "source": [
    "## listas\n",
    "- item 1\n",
    "- item 2\n",
    "- item 3\n",
    "1. cosa numerada\n",
    "2. cosa numerada 2\n",
    "   1. cosa subnumerada\n",
    "        1. aaa\n",
    "            1. aaa\n",
    "1. cosa numerada 3\n",
    "\n",
    "   "
   ]
  },
  {
   "cell_type": "markdown",
   "id": "249c4732-5f41-465c-9b92-0cc82a722a75",
   "metadata": {},
   "source": [
    "## Clases python\n",
    "range: range(1,100,5)-> del 1 al 100 de 5 en 5\n",
    "\n"
   ]
  },
  {
   "cell_type": "markdown",
   "id": "00e4af38-7da5-4f57-91d6-11fd872ac909",
   "metadata": {},
   "source": [
    "esc + a -> insertar celda arriba\n",
    "esc + b -> insertar celda abajo\n",
    "esc + m -> cambiar celda a markdown"
   ]
  },
  {
   "cell_type": "markdown",
   "id": "48d71033-dd42-4670-ba0b-dbf0b5b1d1bd",
   "metadata": {},
   "source": [
    "## Diccionario"
   ]
  },
  {
   "cell_type": "code",
   "execution_count": 14,
   "id": "bbbfca9a-8185-43b6-9163-1991f5834660",
   "metadata": {},
   "outputs": [],
   "source": [
    "dictionary={'llave': 'valor','llave2':\"valor2\", 'cosa':5, 'otra cosa':[3,2,'k'],'llave3':(1,2,'1')}"
   ]
  },
  {
   "cell_type": "code",
   "execution_count": 20,
   "id": "a88dd67b-ae70-415b-ae61-124f70c74e38",
   "metadata": {},
   "outputs": [
    {
     "data": {
      "text/plain": [
       "6"
      ]
     },
     "execution_count": 20,
     "metadata": {},
     "output_type": "execute_result"
    }
   ],
   "source": [
    "dictionary['cosa']+1"
   ]
  },
  {
   "cell_type": "code",
   "execution_count": null,
   "id": "ed152d2b-9f05-4cc5-8e3d-2025b66a59fb",
   "metadata": {},
   "outputs": [],
   "source": []
  },
  {
   "cell_type": "code",
   "execution_count": 11,
   "id": "df0435f3-8ff0-4092-9f13-e9dfce9662cc",
   "metadata": {},
   "outputs": [],
   "source": [
    "casa = 15"
   ]
  },
  {
   "cell_type": "code",
   "execution_count": null,
   "id": "e761358d-883e-4aec-9584-30f2ff9e45d0",
   "metadata": {},
   "outputs": [],
   "source": [
    "casa = 7"
   ]
  },
  {
   "cell_type": "code",
   "execution_count": null,
   "id": "3981bddb-7b2a-49d1-b482-0d1b616614c6",
   "metadata": {},
   "outputs": [],
   "source": [
    "casa"
   ]
  },
  {
   "cell_type": "code",
   "execution_count": null,
   "id": "4f4398bb-0831-4e6a-81e1-e7365954df5d",
   "metadata": {},
   "outputs": [],
   "source": []
  },
  {
   "cell_type": "markdown",
   "id": "45d940fc-d306-4897-94c9-f80caef67500",
   "metadata": {},
   "source": [
    "b = 8"
   ]
  },
  {
   "cell_type": "code",
   "execution_count": 7,
   "id": "4a7473b3-9425-4098-ae96-d2b62689876a",
   "metadata": {
    "scrolled": true
   },
   "outputs": [
    {
     "data": {
      "text/plain": [
       "8"
      ]
     },
     "execution_count": 7,
     "metadata": {},
     "output_type": "execute_result"
    }
   ],
   "source": [
    "b"
   ]
  },
  {
   "cell_type": "code",
   "execution_count": null,
   "id": "004fd069-19bc-428b-9d5e-c5b43546038f",
   "metadata": {},
   "outputs": [],
   "source": []
  }
 ],
 "metadata": {
  "kernelspec": {
   "display_name": "Python 3 (ipykernel)",
   "language": "python",
   "name": "python3"
  },
  "language_info": {
   "codemirror_mode": {
    "name": "ipython",
    "version": 3
   },
   "file_extension": ".py",
   "mimetype": "text/x-python",
   "name": "python",
   "nbconvert_exporter": "python",
   "pygments_lexer": "ipython3",
   "version": "3.11.1"
  }
 },
 "nbformat": 4,
 "nbformat_minor": 5
}
