{
 "cells": [
  {
   "cell_type": "code",
   "execution_count": null,
   "id": "fa2db117-8d75-4ca7-884b-c2f82726c780",
   "metadata": {},
   "outputs": [],
   "source": [
    "# title\n",
    "\n",
    "## subtitle\n",
    "\n",
    "### section\n",
    "\n",
    "#### subsection\n",
    "\n",
    "##### text\n",
    "\n",
    "###### more text \n",
    "\n",
    "texto sin #\n",
    "\n",
    "*texto* o _todavía más texto_ \n",
    "\n",
    "- 1\n",
    "- 2\n",
    "- 3\n",
    "\n",
    "1. 2\n",
    "2. 2\n",
    "3. 2\n",
    "    1. a\n",
    "        1. a\n",
    "            1. a\n"
   ]
  },
  {
   "cell_type": "code",
   "execution_count": 11,
   "id": "0fddaf59-1c0d-41d1-8f5f-78c51d0b1280",
   "metadata": {},
   "outputs": [],
   "source": [
    "dictionary = {'Llave':'valor','llave2':'valor2','cosa':5,'otra cosa':[3,2,'k'], 'llave3':(1,2,'l')}"
   ]
  },
  {
   "cell_type": "code",
   "execution_count": 14,
   "id": "9b9ba11b-7b2c-428f-b962-d38433c7e330",
   "metadata": {},
   "outputs": [
    {
     "data": {
      "text/plain": [
       "'valor'"
      ]
     },
     "execution_count": 14,
     "metadata": {},
     "output_type": "execute_result"
    }
   ],
   "source": [
    "dictionary ['Llave']"
   ]
  },
  {
   "cell_type": "code",
   "execution_count": null,
   "id": "c19ac2df-2ae1-4b3d-9273-fa08a98863c0",
   "metadata": {},
   "outputs": [],
   "source": []
  }
 ],
 "metadata": {
  "kernelspec": {
   "display_name": "Python 3 (ipykernel)",
   "language": "python",
   "name": "python3"
  },
  "language_info": {
   "codemirror_mode": {
    "name": "ipython",
    "version": 3
   },
   "file_extension": ".py",
   "mimetype": "text/x-python",
   "name": "python",
   "nbconvert_exporter": "python",
   "pygments_lexer": "ipython3",
   "version": "3.13.6"
  }
 },
 "nbformat": 4,
 "nbformat_minor": 5
}
