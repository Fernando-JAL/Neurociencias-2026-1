{
 "cells": [
  {
   "cell_type": "markdown",
   "id": "d3dc06ac-b1cb-4670-89f2-6ddc14dcbd53",
   "metadata": {},
   "source": [
    "# title\n",
    "\n",
    "## subtitle\n",
    "\n",
    "### section\n",
    "\n",
    "#### subsection\n",
    "\n",
    "##### text\n",
    "\n",
    "###### more text\n",
    "\n",
    "text sin #"
   ]
  },
  {
   "cell_type": "markdown",
   "id": "2c7b7603-752d-4865-850a-3d52c3bc1c67",
   "metadata": {},
   "source": [
    "esc + m -> convierte la celda en markdown\n",
    "\n",
    "**texto**\n",
    "\n",
    "** más texto ** o __otro texto__\n",
    "\n",
    " "
   ]
  },
  {
   "cell_type": "markdown",
   "id": "06fcddf0-0553-4fce-b734-8bb620b046e8",
   "metadata": {},
   "source": [
    "## listas \n",
    "\n",
    "-item 1\n",
    "-item 2\n",
    "-item 3\n",
    "\n",
    "1. cosa numerada 1\n",
    "2. cosa numerada 2\n",
    "\n",
    "    1. cosa numerada 1\n",
    "        1. cosa subnumerada 1\n",
    "            2. cosa subnumerada\n",
    "                3. cosa sub sub sub numerada \n",
    "       \n",
    "\n",
    "3. cosa numerada 3\n",
    "\n",
    "        "
   ]
  },
  {
   "cell_type": "code",
   "execution_count": null,
   "id": "87fc0bf8-588b-4980-bea8-3abbc90931f0",
   "metadata": {},
   "outputs": [],
   "source": [
    "esc + a -> insertar celda arriba \n",
    "esc + b -> insertar celda abajo "
   ]
  },
  {
   "cell_type": "code",
   "execution_count": null,
   "id": "158f8ec4-92b6-4961-ac18-9aa131ad8c6c",
   "metadata": {},
   "outputs": [],
   "source": [
    "a "
   ]
  },
  {
   "cell_type": "code",
   "execution_count": 6,
   "id": "b410fc0e-a4a5-4f5e-81b4-ef2258b04a6b",
   "metadata": {},
   "outputs": [],
   "source": [
    "casa = 10 "
   ]
  },
  {
   "cell_type": "markdown",
   "id": "c822de11-e47a-4f71-91f8-5a41c4c9f2dc",
   "metadata": {},
   "source": [
    "casa =15"
   ]
  },
  {
   "cell_type": "code",
   "execution_count": 7,
   "id": "bcc24ee0-525b-48e3-874e-3de0b93c95ce",
   "metadata": {},
   "outputs": [],
   "source": [
    "v = 8"
   ]
  },
  {
   "cell_type": "code",
   "execution_count": 4,
   "id": "d30ff56d-bbdc-42cf-8b8b-fbd750bafea2",
   "metadata": {},
   "outputs": [
    {
     "data": {
      "text/plain": [
       "8"
      ]
     },
     "execution_count": 4,
     "metadata": {},
     "output_type": "execute_result"
    }
   ],
   "source": [
    "v"
   ]
  },
  {
   "cell_type": "markdown",
   "id": "a9f4ae6a-7b7c-4fb2-a206-b1164ee55a46",
   "metadata": {},
   "source": [
    "casa = 15"
   ]
  },
  {
   "cell_type": "code",
   "execution_count": null,
   "id": "00bd6864-2ae8-4c82-960f-94d11827787f",
   "metadata": {},
   "outputs": [],
   "source": []
  },
  {
   "cell_type": "markdown",
   "id": "88b8b1b7-8eb1-4583-b7c2-2bf77aeb8c0a",
   "metadata": {},
   "source": [
    "# DICCIONARIO"
   ]
  },
  {
   "cell_type": "code",
   "execution_count": 15,
   "id": "9e2720ca-6e5e-4027-82c1-c836799243d4",
   "metadata": {},
   "outputs": [
    {
     "data": {
      "text/plain": [
       "{'llave': 'valor',\n",
       " 'llave2': 'valor2',\n",
       " 'cosa': 5,\n",
       " ' otra cosa': [3, 2, 'k'],\n",
       " 'llave3': (1, 2, '1')}"
      ]
     },
     "execution_count": 15,
     "metadata": {},
     "output_type": "execute_result"
    }
   ],
   "source": [
    " {'llave': 'valor', 'llave2': \"valor2\", 'cosa' : 5, ' otra cosa' : [ 3, 2, 'k'],'llave3' : (1,2,'1')}"
   ]
  },
  {
   "cell_type": "code",
   "execution_count": null,
   "id": "e3e231bc-6dde-4d3f-ab8a-547012472303",
   "metadata": {},
   "outputs": [],
   "source": []
  },
  {
   "cell_type": "code",
   "execution_count": 16,
   "id": "e30b47ec-e20c-48ff-ad1a-290a38e93785",
   "metadata": {},
   "outputs": [
    {
     "data": {
      "text/plain": [
       "6"
      ]
     },
     "execution_count": 16,
     "metadata": {},
     "output_type": "execute_result"
    }
   ],
   "source": [
    "dictionary [ 'cosa'] + 1"
   ]
  }
 ],
 "metadata": {
  "kernelspec": {
   "display_name": "Python 3 (ipykernel)",
   "language": "python",
   "name": "python3"
  },
  "language_info": {
   "codemirror_mode": {
    "name": "ipython",
    "version": 3
   },
   "file_extension": ".py",
   "mimetype": "text/x-python",
   "name": "python",
   "nbconvert_exporter": "python",
   "pygments_lexer": "ipython3",
   "version": "3.10.4"
  }
 },
 "nbformat": 4,
 "nbformat_minor": 5
}
