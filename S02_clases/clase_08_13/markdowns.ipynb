{
 "cells": [
  {
   "cell_type": "markdown",
   "id": "2ada3d68-023e-4851-a3b3-744aee6a1e57",
   "metadata": {},
   "source": [
    "# title\n",
    "\n",
    "## subtitle\n",
    "\n",
    "### section\n",
    "\n",
    "#### subsection\n",
    "\n",
    "##### text\n",
    "\n",
    "###### more text\n",
    "\n",
    "texto sin #"
   ]
  },
  {
   "cell_type": "markdown",
   "id": "c04d26b8-d56c-476d-b8ea-a2856d13636f",
   "metadata": {},
   "source": [
    "esc + m -> convierte la celda en markdown\n",
    "\n",
    "*texto* o _todavía más texto_\n",
    "\n",
    "**más texto** o __otro texto__\n",
    "\n",
    "$\\int_{a}^{b}x^2$"
   ]
  },
  {
   "cell_type": "markdown",
   "id": "fb966130-94f6-48bb-bb19-6de09150c6f7",
   "metadata": {},
   "source": [
    "## listas\n",
    "\n",
    "- item 1\n",
    "- item 2\n",
    "- item3\n",
    "\n",
    "1. cosa numerada 1\n",
    "1. cosa numerada 2\n",
    "    1. cosa subnumerada 1\n",
    "        1. cosa subsubnumerada\n",
    "            1. cosa sub sub sub numerada\n",
    "1. cosa numerada 3"
   ]
  },
  {
   "cell_type": "markdown",
   "id": "c8227e1d-12a0-4f42-a790-49363c796e94",
   "metadata": {},
   "source": [
    "esc + a -> insertar celda arriba\n",
    "\n",
    "esc + b -> insertar una celda abajo"
   ]
  },
  {
   "cell_type": "markdown",
   "id": "826a7149-a91e-4f68-ad79-086e5fd4d975",
   "metadata": {},
   "source": [
    "casa = 15"
   ]
  },
  {
   "cell_type": "code",
   "execution_count": 5,
   "id": "96b2775a-fa1c-4741-8eac-4de445776683",
   "metadata": {},
   "outputs": [],
   "source": [
    "casa = 7"
   ]
  },
  {
   "cell_type": "code",
   "execution_count": 7,
   "id": "17f92c61-3742-46be-9d30-423a28f84750",
   "metadata": {},
   "outputs": [
    {
     "data": {
      "text/plain": [
       "7"
      ]
     },
     "execution_count": 7,
     "metadata": {},
     "output_type": "execute_result"
    }
   ],
   "source": [
    "casa"
   ]
  },
  {
   "cell_type": "code",
   "execution_count": 2,
   "id": "a330dc55-7860-4e0b-94be-db80d861b8db",
   "metadata": {},
   "outputs": [],
   "source": [
    "b = 8"
   ]
  },
  {
   "cell_type": "code",
   "execution_count": 4,
   "id": "4e40fc13-f19d-4b4d-b60f-aa472b0c9fd7",
   "metadata": {},
   "outputs": [
    {
     "data": {
      "text/plain": [
       "8"
      ]
     },
     "execution_count": 4,
     "metadata": {},
     "output_type": "execute_result"
    }
   ],
   "source": [
    "b"
   ]
  },
  {
   "cell_type": "markdown",
   "id": "ee779d7a-4899-44eb-bf09-787f0ba8495d",
   "metadata": {},
   "source": [
    "### diccionario"
   ]
  },
  {
   "cell_type": "code",
   "execution_count": 15,
   "id": "89f2c9e2-0a1b-48a5-97c1-2e8bf98e78c5",
   "metadata": {},
   "outputs": [],
   "source": [
    "dictionary = {'llave': 'valor', 'llave2': \"valor2\", 'cosa': 5, 'otra cosa': [3, 2, 'k'], 'llave3': (1, 2, 'l')}"
   ]
  },
  {
   "cell_type": "code",
   "execution_count": 18,
   "id": "a6dcd1a9-049e-48d5-971d-5ca3932ee876",
   "metadata": {},
   "outputs": [
    {
     "data": {
      "text/plain": [
       "{'llave': 'valor',\n",
       " 'llave2': 'valor2',\n",
       " 'cosa': 5,\n",
       " 'otra cosa': [3, 2, 'k'],\n",
       " 'llave3': (1, 2, 'l')}"
      ]
     },
     "execution_count": 18,
     "metadata": {},
     "output_type": "execute_result"
    }
   ],
   "source": [
    "dictionary"
   ]
  },
  {
   "cell_type": "code",
   "execution_count": 21,
   "id": "83b42135-6c2c-4407-a540-7455f352e552",
   "metadata": {},
   "outputs": [
    {
     "data": {
      "text/plain": [
       "6"
      ]
     },
     "execution_count": 21,
     "metadata": {},
     "output_type": "execute_result"
    }
   ],
   "source": [
    "dictionary['cosa'] + 1"
   ]
  },
  {
   "cell_type": "code",
   "execution_count": null,
   "id": "1ca4a667-3d43-4e83-bb84-103440bdb168",
   "metadata": {},
   "outputs": [],
   "source": []
  },
  {
   "cell_type": "code",
   "execution_count": null,
   "id": "b78f5d2d-3245-4203-bb71-c24cae1487e1",
   "metadata": {},
   "outputs": [],
   "source": []
  },
  {
   "cell_type": "code",
   "execution_count": null,
   "id": "6d0a193f-4ce6-4201-a52d-faea729727fc",
   "metadata": {},
   "outputs": [],
   "source": []
  },
  {
   "cell_type": "code",
   "execution_count": null,
   "id": "96151c80-386e-41fb-b77f-e9c03d807827",
   "metadata": {},
   "outputs": [],
   "source": []
  },
  {
   "cell_type": "code",
   "execution_count": null,
   "id": "8133c6eb-9266-4b18-83cf-0d7b1b726426",
   "metadata": {},
   "outputs": [],
   "source": []
  },
  {
   "cell_type": "code",
   "execution_count": null,
   "id": "c789691e-a3c8-4a5a-a167-91b2a0c70ca4",
   "metadata": {},
   "outputs": [],
   "source": []
  },
  {
   "cell_type": "code",
   "execution_count": null,
   "id": "8016e2d6-709d-4af2-80eb-1b2755e5f757",
   "metadata": {},
   "outputs": [],
   "source": []
  },
  {
   "cell_type": "code",
   "execution_count": null,
   "id": "4f36fd2f-cc2a-42ca-8b72-c8629ec0cbd1",
   "metadata": {},
   "outputs": [],
   "source": []
  },
  {
   "cell_type": "code",
   "execution_count": null,
   "id": "2b5d438c-ccb5-412d-82d4-54b308ace936",
   "metadata": {},
   "outputs": [],
   "source": []
  }
 ],
 "metadata": {
  "kernelspec": {
   "display_name": "Python (dl_env)",
   "language": "python",
   "name": "dl_env"
  },
  "language_info": {
   "codemirror_mode": {
    "name": "ipython",
    "version": 3
   },
   "file_extension": ".py",
   "mimetype": "text/x-python",
   "name": "python",
   "nbconvert_exporter": "python",
   "pygments_lexer": "ipython3",
   "version": "3.10.4"
  }
 },
 "nbformat": 4,
 "nbformat_minor": 5
}
