{
 "cells": [
  {
   "cell_type": "markdown",
   "id": "e0940009-cbca-497d-8fd6-bf7069b9d049",
   "metadata": {},
   "source": [
    "# title"
   ]
  },
  {
   "cell_type": "markdown",
   "id": "c9871576-b2a9-48c5-b3ee-95090b197cd3",
   "metadata": {},
   "source": [
    "## subtitle\n",
    "### section \n",
    "#### subsection\n",
    "##### text\n",
    "###### more text"
   ]
  },
  {
   "cell_type": "markdown",
   "id": "7f2d32fe-d414-4aa9-be16-a641d0d3d9ef",
   "metadata": {},
   "source": [
    "Markdown (en code): es para hacerlo como nota. esc + m -> convierte code en markdown"
   ]
  },
  {
   "cell_type": "markdown",
   "id": "8b4add8b-820f-4894-95fd-a08d38a6e26d",
   "metadata": {},
   "source": [
    "*texto* o _texto_\n",
    "**más texto** o __otro texto__"
   ]
  },
  {
   "cell_type": "markdown",
   "id": "7f239239-e00c-45bd-a475-3c95d9a0d327",
   "metadata": {},
   "source": [
    "## listas\n",
    "- item1\n",
    "- item2\n",
    "- item3\n",
    "\n",
    "1. cosa numerada 1\n",
    "2. cosa subnumerada 2\n",
    "   1. cosa subnumerada\n",
    "      1. cosas subsubnumerada \n",
    "         1. cosas sub sub subnumerada \n",
    "3. cosa numerada 3"
   ]
  },
  {
   "cell_type": "markdown",
   "id": "79275c60-dcaf-4349-a75e-d2389d5b53b9",
   "metadata": {},
   "source": [
    "esc + a -> insertar celda arriba \n",
    "esc + b -> insertar celda abajo"
   ]
  },
  {
   "cell_type": "raw",
   "id": "62318adb-45ae-406c-8d1f-d04508090a9c",
   "metadata": {},
   "source": [
    "casa=15"
   ]
  },
  {
   "cell_type": "code",
   "execution_count": 6,
   "id": "4331e66d-58dd-4381-9752-e30a70232014",
   "metadata": {},
   "outputs": [],
   "source": [
    "casa=7"
   ]
  },
  {
   "cell_type": "code",
   "execution_count": 7,
   "id": "ce14f802-1664-4f7b-a8c2-d0041c5cf25f",
   "metadata": {},
   "outputs": [
    {
     "data": {
      "text/plain": [
       "7"
      ]
     },
     "execution_count": 7,
     "metadata": {},
     "output_type": "execute_result"
    }
   ],
   "source": [
    "casa"
   ]
  },
  {
   "cell_type": "code",
   "execution_count": 4,
   "id": "9c321eb4-958a-45dc-8965-bc2e6f3ae07a",
   "metadata": {},
   "outputs": [],
   "source": [
    "b=8"
   ]
  },
  {
   "cell_type": "code",
   "execution_count": 5,
   "id": "c595d148-5fe5-4365-a6b3-e3e0aa03bc8f",
   "metadata": {},
   "outputs": [
    {
     "data": {
      "text/plain": [
       "8"
      ]
     },
     "execution_count": 5,
     "metadata": {},
     "output_type": "execute_result"
    }
   ],
   "source": [
    "b"
   ]
  },
  {
   "cell_type": "markdown",
   "id": "9699a873-adfb-40c4-8bc5-a11b457129d9",
   "metadata": {},
   "source": [
    "#Diccionario"
   ]
  },
  {
   "cell_type": "code",
   "execution_count": 17,
   "id": "d4b7c2f8-5d07-4221-8092-131403b0cb68",
   "metadata": {},
   "outputs": [],
   "source": [
    "dictionary={'llave':'valor', 'llave2': \"valor2\", 'cosa':5, 'otra cosa':[3,2,'k'], 'llave3':(1,2,'l')}"
   ]
  },
  {
   "cell_type": "code",
   "execution_count": 19,
   "id": "cb46d2c6-2264-414b-a843-60787385afba",
   "metadata": {},
   "outputs": [
    {
     "data": {
      "text/plain": [
       "6"
      ]
     },
     "execution_count": 19,
     "metadata": {},
     "output_type": "execute_result"
    }
   ],
   "source": [
    "dictionary['cosa'] + 1"
   ]
  },
  {
   "cell_type": "code",
   "execution_count": null,
   "id": "a51f502b-1241-45ea-8aa7-b1517b244849",
   "metadata": {},
   "outputs": [],
   "source": []
  }
 ],
 "metadata": {
  "kernelspec": {
   "display_name": "Python 3 (ipykernel)",
   "language": "python",
   "name": "python3"
  },
  "language_info": {
   "codemirror_mode": {
    "name": "ipython",
    "version": 3
   },
   "file_extension": ".py",
   "mimetype": "text/x-python",
   "name": "python",
   "nbconvert_exporter": "python",
   "pygments_lexer": "ipython3",
   "version": "3.11.1"
  }
 },
 "nbformat": 4,
 "nbformat_minor": 5
}
