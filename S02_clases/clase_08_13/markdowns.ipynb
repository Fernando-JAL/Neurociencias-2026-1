{
 "cells": [
  {
   "cell_type": "markdown",
   "id": "4d763079-a5cf-4e60-a819-874cdd4cadb3",
   "metadata": {},
   "source": [
    "# Título\n",
    "\n",
    "## Subtítulo\n",
    "\n",
    "### Subsubtítulo\n",
    "\n",
    "#### Subsubsubtítulo\n",
    "\n",
    "##### Texto\n",
    "\n",
    "###### Texto chiquito\n",
    "\n",
    "texto no negritas"
   ]
  },
  {
   "cell_type": "markdown",
   "id": "bf1df820-5435-4401-bf61-91221650052d",
   "metadata": {},
   "source": [
    "no me sale ningun estado de nicole"
   ]
  },
  {
   "cell_type": "markdown",
   "id": "77ef84f5-c95c-4491-a8d2-34a89d0527f7",
   "metadata": {},
   "source": [
    "**no me sale** *ningun* _estado de nicole_"
   ]
  },
  {
   "cell_type": "markdown",
   "id": "d0d8a340-74a5-48a1-acbf-e136796b91d3",
   "metadata": {},
   "source": [
    "##### Esc+m convierte celda a markdown"
   ]
  },
  {
   "cell_type": "markdown",
   "id": "47ae2d04-68fe-4289-931f-5bfd3d9ee47d",
   "metadata": {},
   "source": [
    "- item3\n",
    "\n",
    "1. cosa numerada 1\n",
    "1. cosa numerada 2\n",
    "    1. cosa subnumerada 1\n",
    "        2. cosa subsubnumerada 1\n",
    "            3. cosa subsubsubnumerada 1"
   ]
  },
  {
   "cell_type": "markdown",
   "id": "06e2d89b-af65-4473-8468-03cf7a64953d",
   "metadata": {},
   "source": [
    "1. sin tab numera con numero\n",
    "    1. un tab numera con mayúsculas\n",
    "        1. dos tabs numeran con minúsuclas\n",
    "            1. tres tabs numeran con números romanos"
   ]
  },
  {
   "cell_type": "markdown",
   "id": "5bf29124-ce3e-4f15-9d34-780dcb551b26",
   "metadata": {},
   "source": [
    "## Diccionario"
   ]
  },
  {
   "cell_type": "code",
   "execution_count": 2,
   "id": "5bd182d3-356d-4f5d-bf74-2d3d221c10cf",
   "metadata": {},
   "outputs": [],
   "source": [
    "dictionary = {'llave':'valor','llave2':'valor2', 'llave3':'valor3', 'cosa':5, 'cosa2':5.34256, 'llave4':[3,2,'k']}"
   ]
  },
  {
   "cell_type": "code",
   "execution_count": 3,
   "id": "ac1fd5e4-4901-46dc-a0cb-7d02b8f48fa7",
   "metadata": {},
   "outputs": [
    {
     "data": {
      "text/plain": [
       "{'llave': 'valor',\n",
       " 'llave2': 'valor2',\n",
       " 'llave3': 'valor3',\n",
       " 'cosa': 5,\n",
       " 'cosa2': 5.34256,\n",
       " 'llave4': [3, 2, 'k']}"
      ]
     },
     "execution_count": 3,
     "metadata": {},
     "output_type": "execute_result"
    }
   ],
   "source": [
    "dictionary"
   ]
  },
  {
   "cell_type": "code",
   "execution_count": 4,
   "id": "f4e27bdc-6cdb-48a4-b0a2-b87b2e2a3233",
   "metadata": {},
   "outputs": [
    {
     "data": {
      "text/plain": [
       "5"
      ]
     },
     "execution_count": 4,
     "metadata": {},
     "output_type": "execute_result"
    }
   ],
   "source": [
    "dictionary['cosa']"
   ]
  },
  {
   "cell_type": "code",
   "execution_count": 5,
   "id": "4e175b0e-fdb5-45ec-9584-7fc63ff1aeaa",
   "metadata": {},
   "outputs": [
    {
     "data": {
      "text/plain": [
       "6"
      ]
     },
     "execution_count": 5,
     "metadata": {},
     "output_type": "execute_result"
    }
   ],
   "source": [
    "dictionary['cosa']+1"
   ]
  },
  {
   "cell_type": "code",
   "execution_count": null,
   "id": "e939df28-cd8e-4ab4-80b9-43a85fcc440e",
   "metadata": {},
   "outputs": [],
   "source": []
  }
 ],
 "metadata": {
  "kernelspec": {
   "display_name": "Python 3 (ipykernel)",
   "language": "python",
   "name": "python3"
  },
  "language_info": {
   "codemirror_mode": {
    "name": "ipython",
    "version": 3
   },
   "file_extension": ".py",
   "mimetype": "text/x-python",
   "name": "python",
   "nbconvert_exporter": "python",
   "pygments_lexer": "ipython3",
   "version": "3.10.4"
  }
 },
 "nbformat": 4,
 "nbformat_minor": 5
}
