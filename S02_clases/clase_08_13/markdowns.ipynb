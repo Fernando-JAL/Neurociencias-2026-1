{
 "cells": [
  {
   "cell_type": "markdown",
   "id": "42ff945e-cce7-45ca-9912-de3e0cf3cf93",
   "metadata": {},
   "source": [
    "# title\n",
    "\n",
    "## subtitle\n",
    "\n",
    "### section\n",
    "\n",
    "#### subsection\n",
    "\n",
    "##### text\n",
    "\n",
    "###### more rext"
   ]
  },
  {
   "cell_type": "markdown",
   "id": "a814b3f7-161a-4e18-b5a5-06b7473cf90e",
   "metadata": {},
   "source": [
    "esc + m -> convierte la celda en markdowns\n",
    "\n",
    "text o todavía más texto\n",
    "\n",
    "*texto* o _todovia mas texto_\n",
    "**mas texto** o **otro texto*\n"
   ]
  },
  {
   "cell_type": "markdown",
   "id": "1f667061-1639-4072-85ac-2bf750da13e2",
   "metadata": {
    "scrolled": true
   },
   "source": [
    "## listas \n",
    "\n",
    "- item1\n",
    "- item2\n",
    "- item3\n",
    "\n",
    "1. cosa numerada 1\n",
    "2. cosa numerada 2\n",
    "    2. cosa subnumerda 1\n",
    "        2. cosa subnumerada \n",
    "3. cosa numerada 3\n"
   ]
  },
  {
   "cell_type": "code",
   "execution_count": 13,
   "id": "aaf2f8cc-6864-4a5f-a074-54e73eeb9eb0",
   "metadata": {},
   "outputs": [
    {
     "name": "stdout",
     "output_type": "stream",
     "text": [
      "llave\n"
     ]
    }
   ],
   "source": [
    "#dicionario \n",
    "{\n",
    "    'llave': 'valor',\n",
    " 'llave' : 'valor',\n",
    " 'cosa' : 5,\n",
    " 'otra cosa' : [3,2, 'k'],\n",
    " 'llave 3' : (1,2, '1')\n",
    "}\n",
    "\n",
    "print('llave')"
   ]
  },
  {
   "cell_type": "markdown",
   "id": "584a9668-1f46-4bda-bf97-c62a21c97fe5",
   "metadata": {},
   "source": [
    "esc + a -> insertar celda arriba\n",
    "esc + b -> insertar una celda abajo "
   ]
  },
  {
   "cell_type": "code",
   "execution_count": 5,
   "id": "8d762c59-72cf-4c2b-a83f-146732924664",
   "metadata": {},
   "outputs": [],
   "source": [
    "casa=7"
   ]
  },
  {
   "cell_type": "code",
   "execution_count": 6,
   "id": "7166afbf-ac11-4667-9b7e-88226fdb4197",
   "metadata": {},
   "outputs": [
    {
     "data": {
      "text/plain": [
       "7"
      ]
     },
     "execution_count": 6,
     "metadata": {},
     "output_type": "execute_result"
    }
   ],
   "source": [
    "casa"
   ]
  },
  {
   "cell_type": "markdown",
   "id": "4eebf21b-abe5-4b5a-9007-35545fcdb4fe",
   "metadata": {},
   "source": []
  },
  {
   "cell_type": "code",
   "execution_count": null,
   "id": "8c3ef821-bd70-4e0f-aeae-65e3712efc0b",
   "metadata": {},
   "outputs": [],
   "source": []
  }
 ],
 "metadata": {
  "kernelspec": {
   "display_name": "Python 3 (ipykernel)",
   "language": "python",
   "name": "python3"
  },
  "language_info": {
   "codemirror_mode": {
    "name": "ipython",
    "version": 3
   },
   "file_extension": ".py",
   "mimetype": "text/x-python",
   "name": "python",
   "nbconvert_exporter": "python",
   "pygments_lexer": "ipython3",
   "version": "3.13.5"
  }
 },
 "nbformat": 4,
 "nbformat_minor": 5
}
