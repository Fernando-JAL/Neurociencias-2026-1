{
 "cells": [
  {
   "cell_type": "markdown",
   "id": "27895f83-2385-4c4c-8804-82a47915c756",
   "metadata": {},
   "source": [
    "# title"
   ]
  },
  {
   "cell_type": "markdown",
   "id": "6a4c70a4-ba42-4d26-80f4-3ee6437168f9",
   "metadata": {},
   "source": [
    "## subtitle\n",
    "\n",
    "\n",
    "### section\n",
    "\n",
    "#### subsection\n",
    "\n",
    "##### text\n",
    "\n",
    "\n",
    "###### more text \n",
    "\n",
    "text sin #"
   ]
  },
  {
   "cell_type": "markdown",
   "id": "76215aa3-d205-44b2-af31-072385522efb",
   "metadata": {},
   "source": [
    "## listas\n",
    "\n",
    "\n",
    "-item\n",
    "1. cosa numerada 1\n",
    "    1. cosa numerada 1.1\n",
    "1. cosa numerada 2\n",
    "    1. cosa subnumerada\n",
    "        1. cosa subsubnumerada\n",
    "            1. cosa subsubsubnumerada \n",
    "\n",
    "3. cos numerada 3 "
   ]
  },
  {
   "cell_type": "markdown",
   "id": "6b62b74e-afc4-4b1f-b191-9e15a8125728",
   "metadata": {},
   "source": [
    " esc+ m -> convierte la celda en markdown\n",
    " \n",
    "*texto* \n",
    "**más texto** o __ otro texto __\n",
    "\n",
    "\n"
   ]
  },
  {
   "cell_type": "markdown",
   "id": "ad5e4b45-5e3d-422f-898e-e395422f6df9",
   "metadata": {},
   "source": [
    "casa = 10"
   ]
  },
  {
   "cell_type": "code",
   "execution_count": null,
   "id": "fe6166f8-e8a2-43f2-acc8-0f967d9015c9",
   "metadata": {},
   "outputs": [],
   "source": []
  },
  {
   "cell_type": "markdown",
   "id": "1ed2dd18-4ffb-4055-b5a5-e1ddf3149349",
   "metadata": {},
   "source": [
    "esc + a -> insertar celda abajo ¿qué pedo?\n",
    "\n",
    "esc + b -> insertar una celda bajo"
   ]
  },
  {
   "cell_type": "code",
   "execution_count": 6,
   "id": "1e3e0101-828f-4547-8ece-3e363ab0ba0f",
   "metadata": {},
   "outputs": [
    {
     "data": {
      "text/plain": [
       "7"
      ]
     },
     "execution_count": 6,
     "metadata": {},
     "output_type": "execute_result"
    }
   ],
   "source": [
    "casa"
   ]
  },
  {
   "cell_type": "code",
   "execution_count": 9,
   "id": "ac87d5cc-7a86-4d51-8908-1e16535be85d",
   "metadata": {},
   "outputs": [],
   "source": [
    "b = 8"
   ]
  },
  {
   "cell_type": "code",
   "execution_count": 10,
   "id": "cd095326-c1d8-4796-9b3b-9313ca0d2924",
   "metadata": {},
   "outputs": [
    {
     "data": {
      "text/plain": [
       "8"
      ]
     },
     "execution_count": 10,
     "metadata": {},
     "output_type": "execute_result"
    }
   ],
   "source": [
    "b"
   ]
  },
  {
   "cell_type": "code",
   "execution_count": 21,
   "id": "d1160d74-68e9-4d28-b0cd-95d680dd6ce2",
   "metadata": {},
   "outputs": [
    {
     "data": {
      "text/plain": [
       "range(1, 5, 100)"
      ]
     },
     "execution_count": 21,
     "metadata": {},
     "output_type": "execute_result"
    }
   ],
   "source": [
    "range (1, 5, 100)"
   ]
  },
  {
   "cell_type": "markdown",
   "id": "1a4f4756-e095-4946-bd28-85d4adde6c43",
   "metadata": {},
   "source": [
    "# diccionario"
   ]
  },
  {
   "cell_type": "code",
   "execution_count": 23,
   "id": "0feac452-c8bc-4df5-8970-d7e213e83c28",
   "metadata": {},
   "outputs": [],
   "source": [
    "dictionary = { \"llave\": \"valor\",\"llave2\": \"valor\",  \"cosa\": \"5\", \"otra cosa\": [2, 2, \"k\"]}"
   ]
  },
  {
   "cell_type": "code",
   "execution_count": null,
   "id": "0b025a53-9cad-42df-9aea-472f2d5625f3",
   "metadata": {},
   "outputs": [],
   "source": []
  }
 ],
 "metadata": {
  "kernelspec": {
   "display_name": "Python 3 (ipykernel)",
   "language": "python",
   "name": "python3"
  },
  "language_info": {
   "codemirror_mode": {
    "name": "ipython",
    "version": 3
   },
   "file_extension": ".py",
   "mimetype": "text/x-python",
   "name": "python",
   "nbconvert_exporter": "python",
   "pygments_lexer": "ipython3",
   "version": "3.10.4"
  }
 },
 "nbformat": 4,
 "nbformat_minor": 5
}
