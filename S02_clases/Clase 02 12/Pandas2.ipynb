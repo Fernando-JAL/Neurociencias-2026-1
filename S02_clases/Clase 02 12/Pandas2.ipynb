{
 "cells": [
  {
   "cell_type": "code",
   "execution_count": 1,
   "id": "ff9cc5a7-62cf-44ea-ad02-f6ffbad9f070",
   "metadata": {},
   "outputs": [],
   "source": [
    "import numpy as np"
   ]
  },
  {
   "cell_type": "code",
   "execution_count": 4,
   "id": "dad1b2f8-2ee9-4417-8afa-7076c35ee8a3",
   "metadata": {},
   "outputs": [
    {
     "data": {
      "text/plain": [
       "array([[-25.40313825, -24.19717567,  -9.15781626, -14.2737396 ],\n",
       "       [-19.52647407,   1.40485958, -26.05607509, -14.9604029 ],\n",
       "       [  5.52446883, -22.32461255, -10.77366076,  -0.03954453],\n",
       "       [-16.95678401, -12.13347592,  -6.64274291,   9.44551199]])"
      ]
     },
     "execution_count": 4,
     "metadata": {},
     "output_type": "execute_result"
    }
   ],
   "source": [
    "array=np.random.normal(-10,10, size=[4, 4])\n",
    "array"
   ]
  },
  {
   "cell_type": "code",
   "execution_count": 5,
   "id": "f489ea13-1382-46fc-a971-89da3ef33e05",
   "metadata": {},
   "outputs": [],
   "source": [
    "import pandas as pd"
   ]
  },
  {
   "cell_type": "code",
   "execution_count": 6,
   "id": "24cad026-c811-427e-a89d-ea744297203f",
   "metadata": {},
   "outputs": [
    {
     "data": {
      "text/html": [
       "<div>\n",
       "<style scoped>\n",
       "    .dataframe tbody tr th:only-of-type {\n",
       "        vertical-align: middle;\n",
       "    }\n",
       "\n",
       "    .dataframe tbody tr th {\n",
       "        vertical-align: top;\n",
       "    }\n",
       "\n",
       "    .dataframe thead th {\n",
       "        text-align: right;\n",
       "    }\n",
       "</style>\n",
       "<table border=\"1\" class=\"dataframe\">\n",
       "  <thead>\n",
       "    <tr style=\"text-align: right;\">\n",
       "      <th></th>\n",
       "      <th>w</th>\n",
       "      <th>x</th>\n",
       "    </tr>\n",
       "  </thead>\n",
       "  <tbody>\n",
       "    <tr>\n",
       "      <th>a</th>\n",
       "      <td>2</td>\n",
       "      <td>3</td>\n",
       "    </tr>\n",
       "    <tr>\n",
       "      <th>b</th>\n",
       "      <td>4</td>\n",
       "      <td>5</td>\n",
       "    </tr>\n",
       "  </tbody>\n",
       "</table>\n",
       "</div>"
      ],
      "text/plain": [
       "   w  x\n",
       "a  2  3\n",
       "b  4  5"
      ]
     },
     "execution_count": 6,
     "metadata": {},
     "output_type": "execute_result"
    }
   ],
   "source": [
    "pd.DataFrame([[2,3], [4,5]], index=['a', 'b'], columns=['w', 'x'])"
   ]
  },
  {
   "cell_type": "code",
   "execution_count": 8,
   "id": "1697ab4c-8f49-4531-8f84-a3a521af6bd3",
   "metadata": {},
   "outputs": [
    {
     "data": {
      "text/plain": [
       "4"
      ]
     },
     "execution_count": 8,
     "metadata": {},
     "output_type": "execute_result"
    }
   ],
   "source": [
    "len(array)"
   ]
  },
  {
   "cell_type": "code",
   "execution_count": 7,
   "id": "d49236b0-bd9a-4c73-bc26-502f1134de5e",
   "metadata": {},
   "outputs": [
    {
     "data": {
      "text/html": [
       "<div>\n",
       "<style scoped>\n",
       "    .dataframe tbody tr th:only-of-type {\n",
       "        vertical-align: middle;\n",
       "    }\n",
       "\n",
       "    .dataframe tbody tr th {\n",
       "        vertical-align: top;\n",
       "    }\n",
       "\n",
       "    .dataframe thead th {\n",
       "        text-align: right;\n",
       "    }\n",
       "</style>\n",
       "<table border=\"1\" class=\"dataframe\">\n",
       "  <thead>\n",
       "    <tr style=\"text-align: right;\">\n",
       "      <th></th>\n",
       "      <th>0</th>\n",
       "      <th>1</th>\n",
       "      <th>2</th>\n",
       "      <th>3</th>\n",
       "    </tr>\n",
       "  </thead>\n",
       "  <tbody>\n",
       "    <tr>\n",
       "      <th>0</th>\n",
       "      <td>-25.403138</td>\n",
       "      <td>-24.197176</td>\n",
       "      <td>-9.157816</td>\n",
       "      <td>-14.273740</td>\n",
       "    </tr>\n",
       "    <tr>\n",
       "      <th>1</th>\n",
       "      <td>-19.526474</td>\n",
       "      <td>1.404860</td>\n",
       "      <td>-26.056075</td>\n",
       "      <td>-14.960403</td>\n",
       "    </tr>\n",
       "    <tr>\n",
       "      <th>2</th>\n",
       "      <td>5.524469</td>\n",
       "      <td>-22.324613</td>\n",
       "      <td>-10.773661</td>\n",
       "      <td>-0.039545</td>\n",
       "    </tr>\n",
       "    <tr>\n",
       "      <th>3</th>\n",
       "      <td>-16.956784</td>\n",
       "      <td>-12.133476</td>\n",
       "      <td>-6.642743</td>\n",
       "      <td>9.445512</td>\n",
       "    </tr>\n",
       "  </tbody>\n",
       "</table>\n",
       "</div>"
      ],
      "text/plain": [
       "           0          1          2          3\n",
       "0 -25.403138 -24.197176  -9.157816 -14.273740\n",
       "1 -19.526474   1.404860 -26.056075 -14.960403\n",
       "2   5.524469 -22.324613 -10.773661  -0.039545\n",
       "3 -16.956784 -12.133476  -6.642743   9.445512"
      ]
     },
     "execution_count": 7,
     "metadata": {},
     "output_type": "execute_result"
    }
   ],
   "source": [
    "pd.DataFrame(array)"
   ]
  },
  {
   "cell_type": "code",
   "execution_count": 15,
   "id": "ac1a4050-9c52-4bdc-bf09-858e0c85d126",
   "metadata": {},
   "outputs": [
    {
     "data": {
      "text/html": [
       "<div>\n",
       "<style scoped>\n",
       "    .dataframe tbody tr th:only-of-type {\n",
       "        vertical-align: middle;\n",
       "    }\n",
       "\n",
       "    .dataframe tbody tr th {\n",
       "        vertical-align: top;\n",
       "    }\n",
       "\n",
       "    .dataframe thead th {\n",
       "        text-align: right;\n",
       "    }\n",
       "</style>\n",
       "<table border=\"1\" class=\"dataframe\">\n",
       "  <thead>\n",
       "    <tr style=\"text-align: right;\">\n",
       "      <th></th>\n",
       "      <th>w</th>\n",
       "      <th>x</th>\n",
       "      <th>y</th>\n",
       "      <th>z</th>\n",
       "    </tr>\n",
       "  </thead>\n",
       "  <tbody>\n",
       "    <tr>\n",
       "      <th>1</th>\n",
       "      <td>-25.403138</td>\n",
       "      <td>-24.197176</td>\n",
       "      <td>-9.157816</td>\n",
       "      <td>-14.273740</td>\n",
       "    </tr>\n",
       "    <tr>\n",
       "      <th>2</th>\n",
       "      <td>-19.526474</td>\n",
       "      <td>1.404860</td>\n",
       "      <td>-26.056075</td>\n",
       "      <td>-14.960403</td>\n",
       "    </tr>\n",
       "    <tr>\n",
       "      <th>3</th>\n",
       "      <td>5.524469</td>\n",
       "      <td>-22.324613</td>\n",
       "      <td>-10.773661</td>\n",
       "      <td>-0.039545</td>\n",
       "    </tr>\n",
       "    <tr>\n",
       "      <th>4</th>\n",
       "      <td>-16.956784</td>\n",
       "      <td>-12.133476</td>\n",
       "      <td>-6.642743</td>\n",
       "      <td>9.445512</td>\n",
       "    </tr>\n",
       "  </tbody>\n",
       "</table>\n",
       "</div>"
      ],
      "text/plain": [
       "           w          x          y          z\n",
       "1 -25.403138 -24.197176  -9.157816 -14.273740\n",
       "2 -19.526474   1.404860 -26.056075 -14.960403\n",
       "3   5.524469 -22.324613 -10.773661  -0.039545\n",
       "4 -16.956784 -12.133476  -6.642743   9.445512"
      ]
     },
     "execution_count": 15,
     "metadata": {},
     "output_type": "execute_result"
    }
   ],
   "source": [
    "df= pd.DataFrame(array, index=range(1, len(array)+1), columns=['w', 'x', 'y', 'z'])\n",
    "df\n",
    "#Para que empiece en el índice 1"
   ]
  },
  {
   "cell_type": "code",
   "execution_count": 23,
   "id": "ceb07273-ac2f-4dcf-b4da-62b28066e427",
   "metadata": {},
   "outputs": [
    {
     "data": {
      "text/plain": [
       "np.float64(1.4048595772344434)"
      ]
     },
     "execution_count": 23,
     "metadata": {},
     "output_type": "execute_result"
    }
   ],
   "source": [
    "df['x'][2]\n",
    "#Slicing, prmero columna, luego fila"
   ]
  },
  {
   "cell_type": "code",
   "execution_count": 24,
   "id": "84eda43c-b84a-43d8-b12a-9413a4877f80",
   "metadata": {},
   "outputs": [
    {
     "data": {
      "text/plain": [
       "1   -24.197176\n",
       "2     1.404860\n",
       "3   -22.324613\n",
       "4   -12.133476\n",
       "Name: x, dtype: float64"
      ]
     },
     "execution_count": 24,
     "metadata": {},
     "output_type": "execute_result"
    }
   ],
   "source": [
    "df.x"
   ]
  },
  {
   "cell_type": "code",
   "execution_count": 27,
   "id": "e4bc426e-aa06-4c7f-9d84-628369cd5366",
   "metadata": {},
   "outputs": [
    {
     "data": {
      "text/html": [
       "<div>\n",
       "<style scoped>\n",
       "    .dataframe tbody tr th:only-of-type {\n",
       "        vertical-align: middle;\n",
       "    }\n",
       "\n",
       "    .dataframe tbody tr th {\n",
       "        vertical-align: top;\n",
       "    }\n",
       "\n",
       "    .dataframe thead th {\n",
       "        text-align: right;\n",
       "    }\n",
       "</style>\n",
       "<table border=\"1\" class=\"dataframe\">\n",
       "  <thead>\n",
       "    <tr style=\"text-align: right;\">\n",
       "      <th></th>\n",
       "      <th>w</th>\n",
       "      <th>y</th>\n",
       "    </tr>\n",
       "  </thead>\n",
       "  <tbody>\n",
       "    <tr>\n",
       "      <th>1</th>\n",
       "      <td>-25.403138</td>\n",
       "      <td>-9.157816</td>\n",
       "    </tr>\n",
       "    <tr>\n",
       "      <th>2</th>\n",
       "      <td>-19.526474</td>\n",
       "      <td>-26.056075</td>\n",
       "    </tr>\n",
       "    <tr>\n",
       "      <th>3</th>\n",
       "      <td>5.524469</td>\n",
       "      <td>-10.773661</td>\n",
       "    </tr>\n",
       "    <tr>\n",
       "      <th>4</th>\n",
       "      <td>-16.956784</td>\n",
       "      <td>-6.642743</td>\n",
       "    </tr>\n",
       "  </tbody>\n",
       "</table>\n",
       "</div>"
      ],
      "text/plain": [
       "           w          y\n",
       "1 -25.403138  -9.157816\n",
       "2 -19.526474 -26.056075\n",
       "3   5.524469 -10.773661\n",
       "4 -16.956784  -6.642743"
      ]
     },
     "execution_count": 27,
     "metadata": {},
     "output_type": "execute_result"
    }
   ],
   "source": [
    "columnas= ['w', 'y']\n",
    "df[columnas]"
   ]
  },
  {
   "cell_type": "code",
   "execution_count": 28,
   "id": "67f36c3c-e8cb-4c31-9647-b14ed232d47e",
   "metadata": {},
   "outputs": [
    {
     "data": {
      "text/plain": [
       "1   -33.354992\n",
       "2   -24.651216\n",
       "3   -33.098273\n",
       "4   -18.776219\n",
       "dtype: float64"
      ]
     },
     "execution_count": 28,
     "metadata": {},
     "output_type": "execute_result"
    }
   ],
   "source": [
    "df.x + df.y"
   ]
  },
  {
   "cell_type": "code",
   "execution_count": 29,
   "id": "6da654df-baeb-48f6-aaf5-d4ce9fc86845",
   "metadata": {},
   "outputs": [
    {
     "data": {
      "text/html": [
       "<div>\n",
       "<style scoped>\n",
       "    .dataframe tbody tr th:only-of-type {\n",
       "        vertical-align: middle;\n",
       "    }\n",
       "\n",
       "    .dataframe tbody tr th {\n",
       "        vertical-align: top;\n",
       "    }\n",
       "\n",
       "    .dataframe thead th {\n",
       "        text-align: right;\n",
       "    }\n",
       "</style>\n",
       "<table border=\"1\" class=\"dataframe\">\n",
       "  <thead>\n",
       "    <tr style=\"text-align: right;\">\n",
       "      <th></th>\n",
       "      <th>w</th>\n",
       "      <th>x</th>\n",
       "      <th>y</th>\n",
       "      <th>z</th>\n",
       "      <th>suma_x_z</th>\n",
       "    </tr>\n",
       "  </thead>\n",
       "  <tbody>\n",
       "    <tr>\n",
       "      <th>1</th>\n",
       "      <td>-25.403138</td>\n",
       "      <td>-24.197176</td>\n",
       "      <td>-9.157816</td>\n",
       "      <td>-14.273740</td>\n",
       "      <td>-38.470915</td>\n",
       "    </tr>\n",
       "    <tr>\n",
       "      <th>2</th>\n",
       "      <td>-19.526474</td>\n",
       "      <td>1.404860</td>\n",
       "      <td>-26.056075</td>\n",
       "      <td>-14.960403</td>\n",
       "      <td>-13.555543</td>\n",
       "    </tr>\n",
       "    <tr>\n",
       "      <th>3</th>\n",
       "      <td>5.524469</td>\n",
       "      <td>-22.324613</td>\n",
       "      <td>-10.773661</td>\n",
       "      <td>-0.039545</td>\n",
       "      <td>-22.364157</td>\n",
       "    </tr>\n",
       "    <tr>\n",
       "      <th>4</th>\n",
       "      <td>-16.956784</td>\n",
       "      <td>-12.133476</td>\n",
       "      <td>-6.642743</td>\n",
       "      <td>9.445512</td>\n",
       "      <td>-2.687964</td>\n",
       "    </tr>\n",
       "  </tbody>\n",
       "</table>\n",
       "</div>"
      ],
      "text/plain": [
       "           w          x          y          z   suma_x_z\n",
       "1 -25.403138 -24.197176  -9.157816 -14.273740 -38.470915\n",
       "2 -19.526474   1.404860 -26.056075 -14.960403 -13.555543\n",
       "3   5.524469 -22.324613 -10.773661  -0.039545 -22.364157\n",
       "4 -16.956784 -12.133476  -6.642743   9.445512  -2.687964"
      ]
     },
     "execution_count": 29,
     "metadata": {},
     "output_type": "execute_result"
    }
   ],
   "source": [
    "df['suma_x_z']=df.x + df.z\n",
    "df"
   ]
  },
  {
   "cell_type": "code",
   "execution_count": 31,
   "id": "ae57fc0e-48f3-47eb-bce0-dc9798636188",
   "metadata": {},
   "outputs": [
    {
     "data": {
      "text/html": [
       "<div>\n",
       "<style scoped>\n",
       "    .dataframe tbody tr th:only-of-type {\n",
       "        vertical-align: middle;\n",
       "    }\n",
       "\n",
       "    .dataframe tbody tr th {\n",
       "        vertical-align: top;\n",
       "    }\n",
       "\n",
       "    .dataframe thead th {\n",
       "        text-align: right;\n",
       "    }\n",
       "</style>\n",
       "<table border=\"1\" class=\"dataframe\">\n",
       "  <thead>\n",
       "    <tr style=\"text-align: right;\">\n",
       "      <th></th>\n",
       "      <th>w</th>\n",
       "      <th>x</th>\n",
       "      <th>z</th>\n",
       "      <th>suma_x_z</th>\n",
       "    </tr>\n",
       "  </thead>\n",
       "  <tbody>\n",
       "    <tr>\n",
       "      <th>1</th>\n",
       "      <td>-25.403138</td>\n",
       "      <td>-24.197176</td>\n",
       "      <td>-14.273740</td>\n",
       "      <td>-38.470915</td>\n",
       "    </tr>\n",
       "    <tr>\n",
       "      <th>2</th>\n",
       "      <td>-19.526474</td>\n",
       "      <td>1.404860</td>\n",
       "      <td>-14.960403</td>\n",
       "      <td>-13.555543</td>\n",
       "    </tr>\n",
       "    <tr>\n",
       "      <th>3</th>\n",
       "      <td>5.524469</td>\n",
       "      <td>-22.324613</td>\n",
       "      <td>-0.039545</td>\n",
       "      <td>-22.364157</td>\n",
       "    </tr>\n",
       "    <tr>\n",
       "      <th>4</th>\n",
       "      <td>-16.956784</td>\n",
       "      <td>-12.133476</td>\n",
       "      <td>9.445512</td>\n",
       "      <td>-2.687964</td>\n",
       "    </tr>\n",
       "  </tbody>\n",
       "</table>\n",
       "</div>"
      ],
      "text/plain": [
       "           w          x          z   suma_x_z\n",
       "1 -25.403138 -24.197176 -14.273740 -38.470915\n",
       "2 -19.526474   1.404860 -14.960403 -13.555543\n",
       "3   5.524469 -22.324613  -0.039545 -22.364157\n",
       "4 -16.956784 -12.133476   9.445512  -2.687964"
      ]
     },
     "execution_count": 31,
     "metadata": {},
     "output_type": "execute_result"
    }
   ],
   "source": [
    "df.drop('y', axis=1)\n",
    "#Axis=1 es para borrar columnas\n",
    "#Axis =0 es para borrar filas"
   ]
  },
  {
   "cell_type": "code",
   "execution_count": 32,
   "id": "6414c4e3-df14-4c6f-b5e9-b1a2f1706a76",
   "metadata": {},
   "outputs": [
    {
     "data": {
      "text/plain": [
       "w            5.524469\n",
       "x          -22.324613\n",
       "y          -10.773661\n",
       "z           -0.039545\n",
       "suma_x_z   -22.364157\n",
       "Name: 3, dtype: float64"
      ]
     },
     "execution_count": 32,
     "metadata": {},
     "output_type": "execute_result"
    }
   ],
   "source": [
    "df.loc[3]"
   ]
  },
  {
   "cell_type": "code",
   "execution_count": 33,
   "id": "b86415cb-1cd7-4598-8b79-e8d8510d0e10",
   "metadata": {},
   "outputs": [
    {
     "data": {
      "text/plain": [
       "w          -25.403138\n",
       "x          -24.197176\n",
       "y           -9.157816\n",
       "z          -14.273740\n",
       "suma_x_z   -38.470915\n",
       "Name: 1, dtype: float64"
      ]
     },
     "execution_count": 33,
     "metadata": {},
     "output_type": "execute_result"
    }
   ],
   "source": [
    "df.iloc[0]"
   ]
  },
  {
   "cell_type": "code",
   "execution_count": 35,
   "id": "b34aa587-6972-4801-baf2-e091bbad0be4",
   "metadata": {},
   "outputs": [
    {
     "data": {
      "text/html": [
       "<div>\n",
       "<style scoped>\n",
       "    .dataframe tbody tr th:only-of-type {\n",
       "        vertical-align: middle;\n",
       "    }\n",
       "\n",
       "    .dataframe tbody tr th {\n",
       "        vertical-align: top;\n",
       "    }\n",
       "\n",
       "    .dataframe thead th {\n",
       "        text-align: right;\n",
       "    }\n",
       "</style>\n",
       "<table border=\"1\" class=\"dataframe\">\n",
       "  <thead>\n",
       "    <tr style=\"text-align: right;\">\n",
       "      <th></th>\n",
       "      <th>w</th>\n",
       "      <th>x</th>\n",
       "      <th>y</th>\n",
       "      <th>z</th>\n",
       "      <th>suma_x_z</th>\n",
       "    </tr>\n",
       "  </thead>\n",
       "  <tbody>\n",
       "    <tr>\n",
       "      <th>1</th>\n",
       "      <td>-25.403138</td>\n",
       "      <td>-24.197176</td>\n",
       "      <td>-9.157816</td>\n",
       "      <td>-14.273740</td>\n",
       "      <td>-38.470915</td>\n",
       "    </tr>\n",
       "    <tr>\n",
       "      <th>3</th>\n",
       "      <td>5.524469</td>\n",
       "      <td>-22.324613</td>\n",
       "      <td>-10.773661</td>\n",
       "      <td>-0.039545</td>\n",
       "      <td>-22.364157</td>\n",
       "    </tr>\n",
       "  </tbody>\n",
       "</table>\n",
       "</div>"
      ],
      "text/plain": [
       "           w          x          y          z   suma_x_z\n",
       "1 -25.403138 -24.197176  -9.157816 -14.273740 -38.470915\n",
       "3   5.524469 -22.324613 -10.773661  -0.039545 -22.364157"
      ]
     },
     "execution_count": 35,
     "metadata": {},
     "output_type": "execute_result"
    }
   ],
   "source": [
    "df.iloc[ [ 0, 2]] "
   ]
  },
  {
   "cell_type": "code",
   "execution_count": 36,
   "id": "9a06df56-6d37-4c6b-b568-58677c7724ff",
   "metadata": {},
   "outputs": [
    {
     "data": {
      "text/plain": [
       "np.float64(-22.324612553692287)"
      ]
     },
     "execution_count": 36,
     "metadata": {},
     "output_type": "execute_result"
    }
   ],
   "source": [
    "df.loc[3, 'x'] #Fila columna"
   ]
  },
  {
   "cell_type": "code",
   "execution_count": 38,
   "id": "5fa9b443-0708-4f1d-9d0f-a98d2355ce19",
   "metadata": {},
   "outputs": [
    {
     "data": {
      "text/html": [
       "<div>\n",
       "<style scoped>\n",
       "    .dataframe tbody tr th:only-of-type {\n",
       "        vertical-align: middle;\n",
       "    }\n",
       "\n",
       "    .dataframe tbody tr th {\n",
       "        vertical-align: top;\n",
       "    }\n",
       "\n",
       "    .dataframe thead th {\n",
       "        text-align: right;\n",
       "    }\n",
       "</style>\n",
       "<table border=\"1\" class=\"dataframe\">\n",
       "  <thead>\n",
       "    <tr style=\"text-align: right;\">\n",
       "      <th></th>\n",
       "      <th>x</th>\n",
       "      <th>suma_x_z</th>\n",
       "    </tr>\n",
       "  </thead>\n",
       "  <tbody>\n",
       "    <tr>\n",
       "      <th>2</th>\n",
       "      <td>1.404860</td>\n",
       "      <td>-13.555543</td>\n",
       "    </tr>\n",
       "    <tr>\n",
       "      <th>4</th>\n",
       "      <td>-12.133476</td>\n",
       "      <td>-2.687964</td>\n",
       "    </tr>\n",
       "  </tbody>\n",
       "</table>\n",
       "</div>"
      ],
      "text/plain": [
       "           x   suma_x_z\n",
       "2   1.404860 -13.555543\n",
       "4 -12.133476  -2.687964"
      ]
     },
     "execution_count": 38,
     "metadata": {},
     "output_type": "execute_result"
    }
   ],
   "source": [
    "df.loc[ [2,4], ['x', 'suma_x_z'] ]"
   ]
  },
  {
   "cell_type": "code",
   "execution_count": 42,
   "id": "f3e24a3a-4770-459f-b9c9-ecef6d66f10a",
   "metadata": {},
   "outputs": [
    {
     "data": {
      "text/html": [
       "<div>\n",
       "<style scoped>\n",
       "    .dataframe tbody tr th:only-of-type {\n",
       "        vertical-align: middle;\n",
       "    }\n",
       "\n",
       "    .dataframe tbody tr th {\n",
       "        vertical-align: top;\n",
       "    }\n",
       "\n",
       "    .dataframe thead th {\n",
       "        text-align: right;\n",
       "    }\n",
       "</style>\n",
       "<table border=\"1\" class=\"dataframe\">\n",
       "  <thead>\n",
       "    <tr style=\"text-align: right;\">\n",
       "      <th></th>\n",
       "      <th>w</th>\n",
       "      <th>x</th>\n",
       "      <th>y</th>\n",
       "      <th>z</th>\n",
       "      <th>suma_x_z</th>\n",
       "    </tr>\n",
       "  </thead>\n",
       "  <tbody>\n",
       "    <tr>\n",
       "      <th>3</th>\n",
       "      <td>5.524469</td>\n",
       "      <td>-22.324613</td>\n",
       "      <td>-10.773661</td>\n",
       "      <td>-0.039545</td>\n",
       "      <td>-22.364157</td>\n",
       "    </tr>\n",
       "    <tr>\n",
       "      <th>4</th>\n",
       "      <td>-16.956784</td>\n",
       "      <td>-12.133476</td>\n",
       "      <td>-6.642743</td>\n",
       "      <td>9.445512</td>\n",
       "      <td>-2.687964</td>\n",
       "    </tr>\n",
       "  </tbody>\n",
       "</table>\n",
       "</div>"
      ],
      "text/plain": [
       "           w          x          y         z   suma_x_z\n",
       "3   5.524469 -22.324613 -10.773661 -0.039545 -22.364157\n",
       "4 -16.956784 -12.133476  -6.642743  9.445512  -2.687964"
      ]
     },
     "execution_count": 42,
     "metadata": {},
     "output_type": "execute_result"
    }
   ],
   "source": [
    "df.iloc[ [2,3]]"
   ]
  },
  {
   "cell_type": "code",
   "execution_count": null,
   "id": "271957ba-89e3-484b-ab8d-7a357143c923",
   "metadata": {},
   "outputs": [],
   "source": []
  },
  {
   "cell_type": "code",
   "execution_count": null,
   "id": "a40e68d8-137f-4af6-8fb9-5427da67f380",
   "metadata": {},
   "outputs": [],
   "source": []
  },
  {
   "cell_type": "code",
   "execution_count": null,
   "id": "61c6fc8f-412d-4fd0-8ccd-b585c5518242",
   "metadata": {},
   "outputs": [],
   "source": []
  },
  {
   "cell_type": "code",
   "execution_count": null,
   "id": "0346b7b8-2d79-4d34-a7b4-e6361d7cb908",
   "metadata": {},
   "outputs": [],
   "source": []
  },
  {
   "cell_type": "code",
   "execution_count": null,
   "id": "3ed150d1-2135-4d01-8b5a-ac1cc69c22a1",
   "metadata": {},
   "outputs": [],
   "source": []
  },
  {
   "cell_type": "code",
   "execution_count": null,
   "id": "2e909bfc-fac9-4df9-9e82-bc2719ed1c4d",
   "metadata": {},
   "outputs": [],
   "source": []
  },
  {
   "cell_type": "code",
   "execution_count": null,
   "id": "601d3d57-46a7-4fc4-9159-d4623ecf24b6",
   "metadata": {},
   "outputs": [],
   "source": []
  }
 ],
 "metadata": {
  "kernelspec": {
   "display_name": "Python 3 (ipykernel)",
   "language": "python",
   "name": "python3"
  },
  "language_info": {
   "codemirror_mode": {
    "name": "ipython",
    "version": 3
   },
   "file_extension": ".py",
   "mimetype": "text/x-python",
   "name": "python",
   "nbconvert_exporter": "python",
   "pygments_lexer": "ipython3",
   "version": "3.10.4"
  }
 },
 "nbformat": 4,
 "nbformat_minor": 5
}
