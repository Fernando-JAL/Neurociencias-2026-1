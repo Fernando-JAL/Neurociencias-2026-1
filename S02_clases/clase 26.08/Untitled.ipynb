{
 "cells": [
  {
   "cell_type": "markdown",
   "id": "56f8e553-ebdd-4c80-8f0f-0d1120fbe624",
   "metadata": {},
   "source": [
    "### iiteraciones\n",
    "\n",
    "iterar significa realizar una accion varias veces, A cada que se repite el conjunto de acciones, se dice que es una iteracion \n",
    "\n",
    "### sentencia while \n",
    "mientras sea true "
   ]
  },
  {
   "cell_type": "code",
   "execution_count": 1,
   "id": "6b8a3a73-63d6-4b70-b352-211f229e4746",
   "metadata": {},
   "outputs": [
    {
     "name": "stdout",
     "output_type": "stream",
     "text": [
      "el valor de la variable es 0\n",
      "el valor de la variable es 2\n",
      "el valor de la variable es 4\n",
      "el valor de la variable es 6\n",
      "el valor de la variable es 8\n",
      "codigo despues del while\n"
     ]
    }
   ],
   "source": [
    "variable=0\n",
    "\n",
    "while variable <10 :\n",
    "    print('el valor de la variable es', variable)\n",
    "    variable += 2\n",
    "print ('codigo despues del while')"
   ]
  },
  {
   "cell_type": "markdown",
   "id": "42e6854c-b348-4b9c-bbf3-133d1bde390c",
   "metadata": {},
   "source": [
    "### palabras reservadas relacionadas al while\n",
    "#### continue y break"
   ]
  },
  {
   "cell_type": "code",
   "execution_count": 5,
   "id": "28b73afc-2b33-4b7b-ac06-47aa5d9df643",
   "metadata": {},
   "outputs": [
    {
     "name": "stdout",
     "output_type": "stream",
     "text": [
      "1\n",
      "codigo despues del while\n"
     ]
    }
   ],
   "source": [
    "variable=0\n",
    "\n",
    "while variable <=5:\n",
    "    variable += 1\n",
    "    print (variable)\n",
    "    if variable==3:\n",
    "        print('entro al condicional para activar el break')\n",
    "    break\n",
    "else:\n",
    "    print('codigo en el else del while')\n",
    "print ('codigo despues del while')"
   ]
  },
  {
   "cell_type": "code",
   "execution_count": 6,
   "id": "d9b47fc0-b1b7-454a-9424-44a7a7affdc3",
   "metadata": {},
   "outputs": [
    {
     "name": "stdout",
     "output_type": "stream",
     "text": [
      "1\n",
      "2\n",
      "3\n",
      "entro al condicional para activar el break\n",
      "4\n",
      "5\n",
      "6\n",
      "codigo en el else del while\n",
      "codigo despues del while\n"
     ]
    }
   ],
   "source": [
    "variable=0\n",
    "\n",
    "while variable <=5:\n",
    "    variable += 1\n",
    "    print (variable)\n",
    "    if variable==3:\n",
    "        print('entro al condicional para activar el break')\n",
    "    continue\n",
    "else:\n",
    "    print('codigo en el else del while')\n",
    "print ('codigo despues del while')"
   ]
  },
  {
   "cell_type": "code",
   "execution_count": null,
   "id": "0b714ca2-9338-4ddf-9b0a-f69f15b50b84",
   "metadata": {},
   "outputs": [],
   "source": [
    "controlador de flujo for"
   ]
  },
  {
   "cell_type": "code",
   "execution_count": 7,
   "id": "ae8b9e90-a350-40ab-9d16-5467fb52558a",
   "metadata": {},
   "outputs": [
    {
     "name": "stdout",
     "output_type": "stream",
     "text": [
      "2\n",
      "4\n",
      "6\n",
      "8\n",
      "10\n",
      "12\n",
      "14\n",
      "16\n",
      "18\n"
     ]
    }
   ],
   "source": [
    "listas= [2,4,6,8,10,12,14,16,18]\n",
    "\n",
    "for valor in listas:\n",
    "    print(valor)\n",
    "\n",
    "## debemos especificar una variable "
   ]
  },
  {
   "cell_type": "code",
   "execution_count": 9,
   "id": "412ed11c-726b-445e-becd-e53e362b2e10",
   "metadata": {},
   "outputs": [
    {
     "name": "stdout",
     "output_type": "stream",
     "text": [
      "0\n",
      "1\n",
      "2\n",
      "3\n",
      "4\n"
     ]
    }
   ],
   "source": [
    "# range(pos_i, pos_f+1, salto)\n",
    "for valor in range(5):\n",
    "    print (valor)"
   ]
  },
  {
   "cell_type": "code",
   "execution_count": 10,
   "id": "3f638095-999f-454f-b4d2-7f6f3d48b121",
   "metadata": {},
   "outputs": [
    {
     "name": "stdout",
     "output_type": "stream",
     "text": [
      "c\n",
      "a\n",
      "d\n",
      "e\n",
      "n\n",
      "a\n"
     ]
    }
   ],
   "source": [
    "for letra in \"cadena\": \n",
    "    print (letra)\n",
    "    "
   ]
  },
  {
   "cell_type": "code",
   "execution_count": 14,
   "id": "84746156-9215-4ef8-b1ca-79f19f2f4a5c",
   "metadata": {},
   "outputs": [
    {
     "name": "stdout",
     "output_type": "stream",
     "text": [
      "el promedio de los valores de la lista es 6.0 6.0\n"
     ]
    }
   ],
   "source": [
    "listas= [2,4,6, 8, 10]\n",
    "\n",
    "promedio =0\n",
    "for valor in listas:\n",
    "    promedio += valor\n",
    "\n",
    "promedio /= len (listas)\n",
    "print('el promedio de los valores de la lista es 6.0', promedio)"
   ]
  },
  {
   "cell_type": "code",
   "execution_count": null,
   "id": "97ee0fb9-2105-4690-a055-a739396a41f9",
   "metadata": {},
   "outputs": [],
   "source": [
    "# ejercicio \n",
    "usando la lista listas= [2,3,4,5,6,7,8,9,10]\n",
    "\n",
    "sobre cada valor de listas determine:\n",
    "- si el valor de la lista es par, calcule e imprima su cuadrado\n",
    "- si el valor de la lista es impar, sume uno al valor y dividalo sobre 2 e imprima el resultado"
   ]
  },
  {
   "cell_type": "code",
   "execution_count": 28,
   "id": "134d7007-2b15-4d14-b111-46f8b324aa6d",
   "metadata": {},
   "outputs": [
    {
     "name": "stdout",
     "output_type": "stream",
     "text": [
      "numero 10 y su cuadrado 100\n"
     ]
    }
   ],
   "source": [
    "listas = [2,3,4,5,6,7,8,9,10]\n",
    "\n",
    "for numero in listas:\n",
    "    if numero %2 == 0:\n",
    "        cuadrado = numero **2\n",
    "print('numero', numero, 'y su cuadrado', cuadrado)\n",
    "\n",
    "\n"
   ]
  },
  {
   "cell_type": "code",
   "execution_count": 21,
   "id": "a4c9e5fd-d70c-42b3-955c-f07848f2fc7c",
   "metadata": {},
   "outputs": [
    {
     "data": {
      "text/plain": [
       "[52, 54, 56, 58, 60]"
      ]
     },
     "execution_count": 21,
     "metadata": {},
     "output_type": "execute_result"
    }
   ],
   "source": [
    "listas= [2,4,6,8,10]\n",
    "\n",
    "indice= 0\n",
    "for _ in listas:\n",
    "    listas[indice] += 50\n",
    "    indice += 1\n",
    "\n",
    "listas\n"
   ]
  },
  {
   "cell_type": "markdown",
   "id": "6b1d3b86-5320-4835-afd3-5ef477bf9851",
   "metadata": {},
   "source": [
    "# metodo enumerate (iterable, start=0)\n",
    "\n",
    "regresara un objeto enumerate. este metodo regresara una tupla de pares, donde el primer elemento sera "
   ]
  },
  {
   "cell_type": "code",
   "execution_count": null,
   "id": "0e61fa49-0981-4737-a307-bc9ca226ae47",
   "metadata": {},
   "outputs": [],
   "source": [
    "\" cadena con espacios\" "
   ]
  },
  {
   "cell_type": "code",
   "execution_count": null,
   "id": "ae92721e-0104-4c4e-bf0f-aa4d2b3a0810",
   "metadata": {},
   "outputs": [],
   "source": []
  },
  {
   "cell_type": "code",
   "execution_count": null,
   "id": "d94a4891-10c8-437a-bfae-c59637cbfacd",
   "metadata": {},
   "outputs": [],
   "source": []
  },
  {
   "cell_type": "code",
   "execution_count": null,
   "id": "4df30649-c397-4814-984f-de77e42e7290",
   "metadata": {},
   "outputs": [],
   "source": []
  }
 ],
 "metadata": {
  "kernelspec": {
   "display_name": "Python 3 (ipykernel)",
   "language": "python",
   "name": "python3"
  },
  "language_info": {
   "codemirror_mode": {
    "name": "ipython",
    "version": 3
   },
   "file_extension": ".py",
   "mimetype": "text/x-python",
   "name": "python",
   "nbconvert_exporter": "python",
   "pygments_lexer": "ipython3",
   "version": "3.13.6"
  }
 },
 "nbformat": 4,
 "nbformat_minor": 5
}
