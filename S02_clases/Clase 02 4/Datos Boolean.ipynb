{
 "cells": [
  {
   "cell_type": "markdown",
   "id": "31e6c1e6-e1d2-47f7-82c1-ef1ca1f9bd96",
   "metadata": {},
   "source": [
    "# Conversión de tipos de datos"
   ]
  },
  {
   "cell_type": "code",
   "execution_count": 1,
   "id": "934d2617-ed5d-40fa-b39a-298921a5240e",
   "metadata": {},
   "outputs": [
    {
     "data": {
      "text/plain": [
       "(-82, 631.0, 1j)"
      ]
     },
     "execution_count": 1,
     "metadata": {},
     "output_type": "execute_result"
    }
   ],
   "source": [
    "entero, flotante, complejo = -82, 631., complex(0,1)\n",
    "entero, flotante, complejo"
   ]
  },
  {
   "cell_type": "code",
   "execution_count": 2,
   "id": "ff562f1c-ca37-463b-8a21-b2a37f34de02",
   "metadata": {},
   "outputs": [
    {
     "data": {
      "text/plain": [
       "'631.0'"
      ]
     },
     "execution_count": 2,
     "metadata": {},
     "output_type": "execute_result"
    }
   ],
   "source": [
    "str(flotante)"
   ]
  },
  {
   "cell_type": "code",
   "execution_count": 3,
   "id": "f50b12e4-c59d-40cd-9225-8fb25e04a438",
   "metadata": {},
   "outputs": [
    {
     "data": {
      "text/plain": [
       "'1j'"
      ]
     },
     "execution_count": 3,
     "metadata": {},
     "output_type": "execute_result"
    }
   ],
   "source": [
    "str(complejo)"
   ]
  },
  {
   "cell_type": "code",
   "execution_count": 4,
   "id": "1444670c-eca8-4012-b280-61ab8a23dc33",
   "metadata": {},
   "outputs": [
    {
     "data": {
      "text/plain": [
       "'-46.23'"
      ]
     },
     "execution_count": 4,
     "metadata": {},
     "output_type": "execute_result"
    }
   ],
   "source": [
    "cadena= '-46.23'\n",
    "cadena"
   ]
  },
  {
   "cell_type": "code",
   "execution_count": 5,
   "id": "55937783-fadd-40a2-bd98-0c34a7b6f370",
   "metadata": {},
   "outputs": [
    {
     "data": {
      "text/plain": [
       "-46.23"
      ]
     },
     "execution_count": 5,
     "metadata": {},
     "output_type": "execute_result"
    }
   ],
   "source": [
    "float(cadena)"
   ]
  },
  {
   "cell_type": "code",
   "execution_count": 6,
   "id": "1ad36fa5-dc9d-4262-920d-728d28fe4818",
   "metadata": {},
   "outputs": [
    {
     "data": {
      "text/plain": [
       "['-', '4', '6', '.', '2', '3']"
      ]
     },
     "execution_count": 6,
     "metadata": {},
     "output_type": "execute_result"
    }
   ],
   "source": [
    "list(cadena)"
   ]
  },
  {
   "cell_type": "code",
   "execution_count": 8,
   "id": "b4673a6b-8627-46c8-b25d-c50eeb7e9ab6",
   "metadata": {},
   "outputs": [
    {
     "data": {
      "text/plain": [
       "('-', '4', '6', '.', '2', '3')"
      ]
     },
     "execution_count": 8,
     "metadata": {},
     "output_type": "execute_result"
    }
   ],
   "source": [
    "tuple(cadena)"
   ]
  },
  {
   "cell_type": "code",
   "execution_count": 9,
   "id": "e23befe6-804e-423c-9432-395cf798759e",
   "metadata": {},
   "outputs": [
    {
     "data": {
      "text/plain": [
       "-78"
      ]
     },
     "execution_count": 9,
     "metadata": {},
     "output_type": "execute_result"
    }
   ],
   "source": [
    "int('-78')"
   ]
  },
  {
   "cell_type": "markdown",
   "id": "ebb721bc-59e7-4109-85fa-37c3f3dde372",
   "metadata": {},
   "source": [
    "# Tipo de dato Boolean"
   ]
  },
  {
   "cell_type": "code",
   "execution_count": 10,
   "id": "5f496fab-4766-4dfd-8325-c6f3d35ca612",
   "metadata": {},
   "outputs": [
    {
     "data": {
      "text/plain": [
       "(True, False)"
      ]
     },
     "execution_count": 10,
     "metadata": {},
     "output_type": "execute_result"
    }
   ],
   "source": [
    "value1, value2= True, False \n",
    "value1, value2"
   ]
  },
  {
   "cell_type": "code",
   "execution_count": 11,
   "id": "77f5d015-0b67-438c-bd6a-e3cf053e4b7d",
   "metadata": {},
   "outputs": [
    {
     "data": {
      "text/plain": [
       "bool"
      ]
     },
     "execution_count": 11,
     "metadata": {},
     "output_type": "execute_result"
    }
   ],
   "source": [
    "type(value1)"
   ]
  },
  {
   "cell_type": "code",
   "execution_count": 12,
   "id": "8732e458-6bf1-4faf-a5b1-bce830be56df",
   "metadata": {},
   "outputs": [
    {
     "data": {
      "text/plain": [
       "False"
      ]
     },
     "execution_count": 12,
     "metadata": {},
     "output_type": "execute_result"
    }
   ],
   "source": [
    "bool(0)"
   ]
  },
  {
   "cell_type": "code",
   "execution_count": 13,
   "id": "2923ca62-4398-4c54-9f64-3ae6149bdbec",
   "metadata": {},
   "outputs": [
    {
     "data": {
      "text/plain": [
       "True"
      ]
     },
     "execution_count": 13,
     "metadata": {},
     "output_type": "execute_result"
    }
   ],
   "source": [
    "bool(1)"
   ]
  },
  {
   "cell_type": "code",
   "execution_count": 14,
   "id": "197263aa-5944-4e74-84e3-8fa80c75b176",
   "metadata": {},
   "outputs": [
    {
     "data": {
      "text/plain": [
       "True"
      ]
     },
     "execution_count": 14,
     "metadata": {},
     "output_type": "execute_result"
    }
   ],
   "source": [
    "bool('hola')"
   ]
  },
  {
   "cell_type": "code",
   "execution_count": 15,
   "id": "64db8780-768d-4ea5-8561-6e363d2d0cd7",
   "metadata": {},
   "outputs": [
    {
     "data": {
      "text/plain": [
       "(True, True)"
      ]
     },
     "execution_count": 15,
     "metadata": {},
     "output_type": "execute_result"
    }
   ],
   "source": [
    "bool(-150.456), bool(complex(0,1))"
   ]
  },
  {
   "cell_type": "code",
   "execution_count": 16,
   "id": "999881da-b4b5-473d-bd6b-882f4e4b86d5",
   "metadata": {},
   "outputs": [
    {
     "data": {
      "text/plain": [
       "(True, True)"
      ]
     },
     "execution_count": 16,
     "metadata": {},
     "output_type": "execute_result"
    }
   ],
   "source": [
    "bool(' '), bool('aiuda')"
   ]
  },
  {
   "cell_type": "code",
   "execution_count": 17,
   "id": "1682efbe-e256-4b0e-bb86-2b8dd09d2036",
   "metadata": {},
   "outputs": [
    {
     "data": {
      "text/plain": [
       "(False, True)"
      ]
     },
     "execution_count": 17,
     "metadata": {},
     "output_type": "execute_result"
    }
   ],
   "source": [
    "bool([]), bool(['f', 9])"
   ]
  },
  {
   "cell_type": "code",
   "execution_count": 18,
   "id": "9848f143-639d-4a1c-b2e3-ac4ef7abfa69",
   "metadata": {},
   "outputs": [
    {
     "data": {
      "text/plain": [
       "(False, True)"
      ]
     },
     "execution_count": 18,
     "metadata": {},
     "output_type": "execute_result"
    }
   ],
   "source": [
    "bool(()), bool((5, ))"
   ]
  },
  {
   "cell_type": "code",
   "execution_count": 20,
   "id": "3b94c225-723c-4779-a874-e171871ce8ab",
   "metadata": {},
   "outputs": [
    {
     "data": {
      "text/plain": [
       "(False, True)"
      ]
     },
     "execution_count": 20,
     "metadata": {},
     "output_type": "execute_result"
    }
   ],
   "source": [
    "bool({}), bool({'key':'value'})"
   ]
  },
  {
   "cell_type": "code",
   "execution_count": null,
   "id": "ac68cd65-9be8-4232-aea6-6353aed6a83b",
   "metadata": {},
   "outputs": [],
   "source": [
    "# Si esta vacío es falso, si esta vacío, es verdadero"
   ]
  },
  {
   "cell_type": "markdown",
   "id": "1ea69a3a-49e6-40b5-85de-5e27f7782f24",
   "metadata": {},
   "source": [
    "# Sets"
   ]
  },
  {
   "cell_type": "code",
   "execution_count": 21,
   "id": "e6f44eb1-2894-489e-a6cc-5532807ef002",
   "metadata": {},
   "outputs": [
    {
     "data": {
      "text/plain": [
       "set"
      ]
     },
     "execution_count": 21,
     "metadata": {},
     "output_type": "execute_result"
    }
   ],
   "source": [
    "type({4, 'cosa'})"
   ]
  },
  {
   "cell_type": "code",
   "execution_count": 22,
   "id": "d6a48eb0-6d76-4a5f-9e0f-3cb47a9b432d",
   "metadata": {},
   "outputs": [],
   "source": [
    "conjunto= {4, 'cosa', 1, 2, 3, 4, 'a', 'b', 'c', 'a'}"
   ]
  },
  {
   "cell_type": "code",
   "execution_count": 23,
   "id": "3675e0f8-077b-4f0b-8a9f-574671e2eab7",
   "metadata": {},
   "outputs": [
    {
     "data": {
      "text/plain": [
       "8"
      ]
     },
     "execution_count": 23,
     "metadata": {},
     "output_type": "execute_result"
    }
   ],
   "source": [
    "len(conjunto)"
   ]
  },
  {
   "cell_type": "code",
   "execution_count": 24,
   "id": "7cc90232-4277-42e8-8b42-b83cef127d6d",
   "metadata": {},
   "outputs": [
    {
     "data": {
      "text/plain": [
       "{1, 2, 3, 4, 'a', 'b', 'c', 'cosa'}"
      ]
     },
     "execution_count": 24,
     "metadata": {},
     "output_type": "execute_result"
    }
   ],
   "source": [
    "conjunto"
   ]
  },
  {
   "cell_type": "code",
   "execution_count": null,
   "id": "2492a33f-bfa0-4232-8449-eb5792902741",
   "metadata": {},
   "outputs": [],
   "source": [
    "## Por que se repiten"
   ]
  },
  {
   "cell_type": "markdown",
   "id": "9b37560d-2ce0-43b4-93f5-d91819d8c05a",
   "metadata": {},
   "source": [
    "# Operadores de Asignación"
   ]
  },
  {
   "cell_type": "markdown",
   "id": "74a4cac3-6894-486d-b44e-be43aaa8555c",
   "metadata": {},
   "source": [
    "=, +=, -=, +=, /=, //=, %="
   ]
  },
  {
   "cell_type": "code",
   "execution_count": 28,
   "id": "54df7ba7-b3dc-4494-acae-1634e3ee3042",
   "metadata": {},
   "outputs": [],
   "source": [
    "a=10\n",
    "a\n",
    "a= a+22"
   ]
  },
  {
   "cell_type": "code",
   "execution_count": null,
   "id": "e5bcc2c2-d6ad-4277-a32c-07172f6a489a",
   "metadata": {},
   "outputs": [],
   "source": []
  },
  {
   "cell_type": "code",
   "execution_count": null,
   "id": "58fd97e0-88ba-4af3-a3ef-993ebed03256",
   "metadata": {},
   "outputs": [],
   "source": []
  }
 ],
 "metadata": {
  "kernelspec": {
   "display_name": "Python 3 (ipykernel)",
   "language": "python",
   "name": "python3"
  },
  "language_info": {
   "codemirror_mode": {
    "name": "ipython",
    "version": 3
   },
   "file_extension": ".py",
   "mimetype": "text/x-python",
   "name": "python",
   "nbconvert_exporter": "python",
   "pygments_lexer": "ipython3",
   "version": "3.10.4"
  }
 },
 "nbformat": 4,
 "nbformat_minor": 5
}
