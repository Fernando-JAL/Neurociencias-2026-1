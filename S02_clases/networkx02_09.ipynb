{
 "cells": [
  {
   "cell_type": "code",
   "execution_count": 2,
   "id": "14309608-8794-439d-b4ab-5a6ffcf5ad9e",
   "metadata": {},
   "outputs": [
    {
     "name": "stdout",
     "output_type": "stream",
     "text": [
      "Collecting networkx\n",
      "  Downloading networkx-3.5-py3-none-any.whl.metadata (6.3 kB)\n",
      "Downloading networkx-3.5-py3-none-any.whl (2.0 MB)\n",
      "   ---------------------------------------- 0.0/2.0 MB ? eta -:--:--\n",
      "   ---------------------------------------- 0.0/2.0 MB ? eta -:--:--\n",
      "   ----- ---------------------------------- 0.3/2.0 MB ? eta -:--:--\n",
      "   --------------- ------------------------ 0.8/2.0 MB 1.3 MB/s eta 0:00:01\n",
      "   ------------------------- -------------- 1.3/2.0 MB 1.7 MB/s eta 0:00:01\n",
      "   ------------------------------------ --- 1.8/2.0 MB 1.9 MB/s eta 0:00:01\n",
      "   ---------------------------------------- 2.0/2.0 MB 1.7 MB/s  0:00:01\n",
      "Installing collected packages: networkx\n",
      "Successfully installed networkx-3.5\n",
      "Note: you may need to restart the kernel to use updated packages.\n"
     ]
    }
   ],
   "source": [
    "pip install networkx"
   ]
  },
  {
   "cell_type": "code",
   "execution_count": 5,
   "id": "2b46f71c-4526-4f2f-bee8-4d3e92e64734",
   "metadata": {},
   "outputs": [],
   "source": [
    "import networkx as nx"
   ]
  },
  {
   "cell_type": "code",
   "execution_count": 41,
   "id": "222ba65e-f978-446c-ad00-96fbed4b3b27",
   "metadata": {},
   "outputs": [],
   "source": [
    "G = nx.Graph ()"
   ]
  },
  {
   "cell_type": "code",
   "execution_count": 42,
   "id": "2b5a3570-a443-41de-83b2-e2f2c7544860",
   "metadata": {},
   "outputs": [
    {
     "data": {
      "text/plain": [
       "(NodeView(()), EdgeView([]))"
      ]
     },
     "execution_count": 42,
     "metadata": {},
     "output_type": "execute_result"
    }
   ],
   "source": [
    "G.nodes(), G.edges()"
   ]
  },
  {
   "cell_type": "code",
   "execution_count": 43,
   "id": "4fb6d811-741f-4581-9588-d190fd7fe465",
   "metadata": {},
   "outputs": [],
   "source": [
    "G.add_nodes_from(['A', 'B', 'C', 'D', 'E'])"
   ]
  },
  {
   "cell_type": "code",
   "execution_count": 44,
   "id": "5a438932-96b1-4f23-ac74-650bf667540e",
   "metadata": {},
   "outputs": [
    {
     "data": {
      "text/plain": [
       "(NodeView(('A', 'B', 'C', 'D', 'E')), EdgeView([]))"
      ]
     },
     "execution_count": 44,
     "metadata": {},
     "output_type": "execute_result"
    }
   ],
   "source": [
    "G.nodes(), G.edges()"
   ]
  },
  {
   "cell_type": "code",
   "execution_count": 45,
   "id": "19972726-22ec-40e2-8374-82b831a3e089",
   "metadata": {},
   "outputs": [],
   "source": [
    "G.add_edges_from( [ ('B', 'C'), ('C', 'A'), ('D','E') ] )"
   ]
  },
  {
   "cell_type": "code",
   "execution_count": 46,
   "id": "c98eb855-1e2e-4742-8ac7-189da7368b7c",
   "metadata": {},
   "outputs": [
    {
     "data": {
      "image/png": "[encoded data removed]",
      "text/plain": [
       "<Figure size 640x480 with 1 Axes>"
      ]
     },
     "metadata": {},
     "output_type": "display_data"
    }
   ],
   "source": [
    "G.add_edge(\"D\", \"A\")\n",
    "nx.draw_networkx(G)"
   ]
  },
  {
   "cell_type": "code",
   "execution_count": null,
   "id": "e5d4d0b2-7d6b-4f28-aa92-644fea165628",
   "metadata": {},
   "outputs": [],
   "source": []
  },
  {
   "cell_type": "code",
   "execution_count": null,
   "id": "96b32ec5-233b-40a4-a0e7-f162674572db",
   "metadata": {},
   "outputs": [],
   "source": []
  },
  {
   "cell_type": "code",
   "execution_count": null,
   "id": "2f7b08a9-1a40-4722-9b7e-fe00d3d461ab",
   "metadata": {},
   "outputs": [],
   "source": []
  },
  {
   "cell_type": "code",
   "execution_count": null,
   "id": "51a78c0c-4953-40b8-b83c-c6cd063fd38f",
   "metadata": {},
   "outputs": [],
   "source": []
  },
  {
   "cell_type": "code",
   "execution_count": null,
   "id": "0a494021-7e57-4dda-8053-adbf88af5a0b",
   "metadata": {},
   "outputs": [],
   "source": []
  },
  {
   "cell_type": "code",
   "execution_count": null,
   "id": "7d3bb72b-2a5e-4719-b6f7-280fda323cf0",
   "metadata": {},
   "outputs": [],
   "source": []
  }
 ],
 "metadata": {
  "kernelspec": {
   "display_name": "Python 3 (ipykernel)",
   "language": "python",
   "name": "python3"
  },
  "language_info": {
   "codemirror_mode": {
    "name": "ipython",
    "version": 3
   },
   "file_extension": ".py",
   "mimetype": "text/x-python",
   "name": "python",
   "nbconvert_exporter": "python",
   "pygments_lexer": "ipython3",
   "version": "3.13.6"
  }
 },
 "nbformat": 4,
 "nbformat_minor": 5
}
