{
 "cells": [
  {
   "cell_type": "markdown",
   "id": "0a797140-6a58-4ef1-90bc-8b662d683a04",
   "metadata": {},
   "source": [
    "# tipos de datos \n",
    "\n",
    "- numérico\n",
    "- strings\n",
    "- sequence\n",
    "- dict"
   ]
  },
  {
   "cell_type": "code",
   "execution_count": 10,
   "id": "2c62f77f-1e8c-4d72-8f37-4e91afda8c63",
   "metadata": {},
   "outputs": [
    {
     "data": {
      "text/plain": [
       "1"
      ]
     },
     "execution_count": 10,
     "metadata": {},
     "output_type": "execute_result"
    }
   ],
   "source": [
    "a = 1\n",
    "a"
   ]
  },
  {
   "cell_type": "code",
   "execution_count": 12,
   "id": "8bc19eeb-23ac-448b-b31a-b7d6c5a9a77f",
   "metadata": {},
   "outputs": [
    {
     "data": {
      "text/plain": [
       "-1937452920394639193746"
      ]
     },
     "execution_count": 12,
     "metadata": {},
     "output_type": "execute_result"
    }
   ],
   "source": [
    "b = -1937452920394639193746\n",
    "b"
   ]
  },
  {
   "cell_type": "code",
   "execution_count": 13,
   "id": "0b3991e4-a522-480d-8941-0e56ae808db8",
   "metadata": {},
   "outputs": [
    {
     "data": {
      "text/plain": [
       "(int, int)"
      ]
     },
     "execution_count": 13,
     "metadata": {},
     "output_type": "execute_result"
    }
   ],
   "source": [
    "type (a), type (b)"
   ]
  },
  {
   "cell_type": "code",
   "execution_count": 6,
   "id": "fd6152e1-b341-494e-84db-34186636c4ea",
   "metadata": {},
   "outputs": [
    {
     "data": {
      "text/plain": [
       "float"
      ]
     },
     "execution_count": 6,
     "metadata": {},
     "output_type": "execute_result"
    }
   ],
   "source": [
    "type (1.2)"
   ]
  },
  {
   "cell_type": "code",
   "execution_count": 14,
   "id": "a13bac52-fb11-4437-a76f-427c9cdbf388",
   "metadata": {},
   "outputs": [
    {
     "ename": "NameError",
     "evalue": "name 'i' is not defined",
     "output_type": "error",
     "traceback": [
      "\u001b[1;31m---------------------------------------------------------------------------\u001b[0m",
      "\u001b[1;31mNameError\u001b[0m                                 Traceback (most recent call last)",
      "Cell \u001b[1;32mIn[14], line 1\u001b[0m\n\u001b[1;32m----> 1\u001b[0m \u001b[38;5;28mtype\u001b[39m (\u001b[43mi\u001b[49m)\n",
      "\u001b[1;31mNameError\u001b[0m: name 'i' is not defined"
     ]
    }
   ],
   "source": [
    "type (i)"
   ]
  },
  {
   "cell_type": "markdown",
   "id": "e0643ec1-b02b-47db-bc6a-cfa539be4de4",
   "metadata": {},
   "source": [
    "## definición de complejos"
   ]
  },
  {
   "cell_type": "code",
   "execution_count": 15,
   "id": "ff46bac7-7bf7-4328-8479-26f3b522e83b",
   "metadata": {},
   "outputs": [
    {
     "data": {
      "text/plain": [
       "(1+3j)"
      ]
     },
     "execution_count": 15,
     "metadata": {},
     "output_type": "execute_result"
    }
   ],
   "source": [
    "complex (1, 3)"
   ]
  },
  {
   "cell_type": "code",
   "execution_count": 16,
   "id": "597a1274-a613-416b-a4f2-566ce20c54e1",
   "metadata": {},
   "outputs": [
    {
     "data": {
      "text/plain": [
       "(4+7j)"
      ]
     },
     "execution_count": 16,
     "metadata": {},
     "output_type": "execute_result"
    }
   ],
   "source": [
    "complex (4, 7)"
   ]
  },
  {
   "cell_type": "code",
   "execution_count": 17,
   "id": "aca1e94d-7b5a-4087-a343-be26d54c1ccb",
   "metadata": {},
   "outputs": [
    {
     "data": {
      "text/plain": [
       "1j"
      ]
     },
     "execution_count": 17,
     "metadata": {},
     "output_type": "execute_result"
    }
   ],
   "source": [
    "complex (0, 1)"
   ]
  },
  {
   "cell_type": "code",
   "execution_count": 18,
   "id": "a4f45fe3-852d-4b97-8ca0-1fb8d8fc1671",
   "metadata": {},
   "outputs": [
    {
     "data": {
      "text/plain": [
       "(3+1j)"
      ]
     },
     "execution_count": 18,
     "metadata": {},
     "output_type": "execute_result"
    }
   ],
   "source": [
    "complex (0, 1) + 3"
   ]
  },
  {
   "cell_type": "code",
   "execution_count": 19,
   "id": "ac432dfd-45db-4a5e-bd20-6df83ce349ea",
   "metadata": {},
   "outputs": [
    {
     "data": {
      "text/plain": [
       "(3+1j)"
      ]
     },
     "execution_count": 19,
     "metadata": {},
     "output_type": "execute_result"
    }
   ],
   "source": [
    "complex (3, 1)"
   ]
  },
  {
   "cell_type": "code",
   "execution_count": 21,
   "id": "55e13dd5-2fab-4cf1-9d7b-7afb36b49a31",
   "metadata": {},
   "outputs": [
    {
     "data": {
      "text/plain": [
       "(3+1j)"
      ]
     },
     "execution_count": 21,
     "metadata": {},
     "output_type": "execute_result"
    }
   ],
   "source": [
    "c = complex (3, 1)\n",
    "c"
   ]
  },
  {
   "cell_type": "code",
   "execution_count": 22,
   "id": "991ae0dc-d8f5-49ee-baea-201d7d810175",
   "metadata": {},
   "outputs": [
    {
     "data": {
      "text/plain": [
       "(3+3j)"
      ]
     },
     "execution_count": 22,
     "metadata": {},
     "output_type": "execute_result"
    }
   ],
   "source": [
    "# quiero sumar 2j al valor de c \n",
    "c + complex ( 0 , 2)"
   ]
  },
  {
   "cell_type": "code",
   "execution_count": 23,
   "id": "5ca6800a-9610-4469-be60-9ba1e144229a",
   "metadata": {},
   "outputs": [
    {
     "data": {
      "text/plain": [
       "complex"
      ]
     },
     "execution_count": 23,
     "metadata": {},
     "output_type": "execute_result"
    }
   ],
   "source": [
    "type (c)"
   ]
  },
  {
   "cell_type": "markdown",
   "id": "9f172f4c-927d-4c80-a393-afc0e05eb71e",
   "metadata": {},
   "source": [
    "# operaiones con tipos de datos numéricos "
   ]
  },
  {
   "cell_type": "code",
   "execution_count": 24,
   "id": "2d4e195a-0e82-4734-8413-531ba813f61e",
   "metadata": {},
   "outputs": [
    {
     "data": {
      "text/plain": [
       "100"
      ]
     },
     "execution_count": 24,
     "metadata": {},
     "output_type": "execute_result"
    }
   ],
   "source": [
    "56 + 44"
   ]
  },
  {
   "cell_type": "code",
   "execution_count": 25,
   "id": "e9193261-aac3-4bbc-870d-8a981badd6a1",
   "metadata": {},
   "outputs": [
    {
     "data": {
      "text/plain": [
       "720"
      ]
     },
     "execution_count": 25,
     "metadata": {},
     "output_type": "execute_result"
    }
   ],
   "source": [
    "800-80"
   ]
  },
  {
   "cell_type": "code",
   "execution_count": 26,
   "id": "e61d80b1-4156-4998-bda3-2a73a3d29174",
   "metadata": {},
   "outputs": [
    {
     "data": {
      "text/plain": [
       "783"
      ]
     },
     "execution_count": 26,
     "metadata": {},
     "output_type": "execute_result"
    }
   ],
   "source": [
    "87*9"
   ]
  },
  {
   "cell_type": "code",
   "execution_count": 27,
   "id": "b7d2e5a7-f464-4c10-96c0-19446f24282c",
   "metadata": {},
   "outputs": [
    {
     "data": {
      "text/plain": [
       "1.8521739130434782"
      ]
     },
     "execution_count": 27,
     "metadata": {},
     "output_type": "execute_result"
    }
   ],
   "source": [
    "85.2/46"
   ]
  },
  {
   "cell_type": "code",
   "execution_count": 28,
   "id": "ac38e977-727c-4df7-ad45-d6fa5763988a",
   "metadata": {},
   "outputs": [
    {
     "data": {
      "text/plain": [
       "9"
      ]
     },
     "execution_count": 28,
     "metadata": {},
     "output_type": "execute_result"
    }
   ],
   "source": [
    "3**2"
   ]
  },
  {
   "cell_type": "code",
   "execution_count": 29,
   "id": "32522ba8-a5a1-4a6f-a2d2-e5c7163338c5",
   "metadata": {},
   "outputs": [
    {
     "data": {
      "text/plain": [
       "125"
      ]
     },
     "execution_count": 29,
     "metadata": {},
     "output_type": "execute_result"
    }
   ],
   "source": [
    "5**3"
   ]
  },
  {
   "cell_type": "code",
   "execution_count": 30,
   "id": "04995e25-7647-4b2d-9342-47405cebb0de",
   "metadata": {},
   "outputs": [
    {
     "data": {
      "text/plain": [
       "2.23606797749979"
      ]
     },
     "execution_count": 30,
     "metadata": {},
     "output_type": "execute_result"
    }
   ],
   "source": [
    "5**0.5"
   ]
  },
  {
   "cell_type": "code",
   "execution_count": 31,
   "id": "e0d5229e-acc2-4461-8b1a-d467a182eac0",
   "metadata": {},
   "outputs": [
    {
     "data": {
      "text/plain": [
       "3.0"
      ]
     },
     "execution_count": 31,
     "metadata": {},
     "output_type": "execute_result"
    }
   ],
   "source": [
    "9**0.5"
   ]
  },
  {
   "cell_type": "code",
   "execution_count": null,
   "id": "2ba5b00b-aad8-49d5-b1fa-b18d863e45a2",
   "metadata": {},
   "outputs": [],
   "source": [
    "# para calcular el residuo "
   ]
  },
  {
   "cell_type": "code",
   "execution_count": 32,
   "id": "cde611b3-72d1-4201-a908-6d300a1c5e38",
   "metadata": {
    "collapsed": true,
    "jupyter": {
     "outputs_hidden": true
    }
   },
   "outputs": [
    {
     "data": {
      "text/plain": [
       "0"
      ]
     },
     "execution_count": 32,
     "metadata": {},
     "output_type": "execute_result"
    }
   ],
   "source": [
    "16% 4"
   ]
  },
  {
   "cell_type": "code",
   "execution_count": 33,
   "id": "6238167d-505c-434a-8c43-5bc65e753072",
   "metadata": {},
   "outputs": [
    {
     "data": {
      "text/plain": [
       "4"
      ]
     },
     "execution_count": 33,
     "metadata": {},
     "output_type": "execute_result"
    }
   ],
   "source": [
    "# para calcular el cociente o división entera\n",
    "16 // 4"
   ]
  },
  {
   "cell_type": "code",
   "execution_count": 35,
   "id": "cdcb0f8c-566d-47d3-a4a0-f2e9618d85aa",
   "metadata": {},
   "outputs": [],
   "source": [
    "a= 8\n",
    "b= 3\n",
    "c= 42"
   ]
  },
  {
   "cell_type": "code",
   "execution_count": 36,
   "id": "06d52b42-6764-4046-b275-c8275ef5e203",
   "metadata": {},
   "outputs": [
    {
     "data": {
      "text/plain": [
       "(8, 3, 42)"
      ]
     },
     "execution_count": 36,
     "metadata": {},
     "output_type": "execute_result"
    }
   ],
   "source": [
    "a, b, c"
   ]
  },
  {
   "cell_type": "code",
   "execution_count": 37,
   "id": "ff0ed9a1-a820-4f59-b98c-981c13e55296",
   "metadata": {},
   "outputs": [
    {
     "data": {
      "text/plain": [
       "(8, 3, 42)"
      ]
     },
     "execution_count": 37,
     "metadata": {},
     "output_type": "execute_result"
    }
   ],
   "source": [
    "a, b, c= 8,3,42\n",
    "a, b, c"
   ]
  },
  {
   "cell_type": "markdown",
   "id": "02087d16-b87e-4dc1-977a-545dd584541a",
   "metadata": {},
   "source": [
    "# strings"
   ]
  },
  {
   "cell_type": "code",
   "execution_count": 47,
   "id": "dd012f96-7758-4b7e-908b-3e46ec4e0288",
   "metadata": {},
   "outputs": [
    {
     "data": {
      "text/plain": [
       "' esto es una cadena de texto '"
      ]
     },
     "execution_count": 47,
     "metadata": {},
     "output_type": "execute_result"
    }
   ],
   "source": [
    "\" esto es una cadena de texto \""
   ]
  },
  {
   "cell_type": "code",
   "execution_count": 48,
   "id": "739b87e0-00d7-4087-ac21-6abb939c865c",
   "metadata": {},
   "outputs": [
    {
     "data": {
      "text/plain": [
       "'esto también es una cadena de texto '"
      ]
     },
     "execution_count": 48,
     "metadata": {},
     "output_type": "execute_result"
    }
   ],
   "source": [
    "'esto también es una cadena de texto '"
   ]
  },
  {
   "cell_type": "code",
   "execution_count": 49,
   "id": "c02021b6-1247-4342-83ce-f4914a4cda48",
   "metadata": {},
   "outputs": [
    {
     "data": {
      "text/plain": [
       "('çadena de texto 1', 'cadena de texto 2')"
      ]
     },
     "execution_count": 49,
     "metadata": {},
     "output_type": "execute_result"
    }
   ],
   "source": [
    "a, b = 'çadena de texto 1', 'cadena de texto 2'\n",
    "a, b"
   ]
  },
  {
   "cell_type": "code",
   "execution_count": 50,
   "id": "43fd3d82-e1af-4b12-b4b7-7def1c81eef2",
   "metadata": {},
   "outputs": [
    {
     "name": "stdout",
     "output_type": "stream",
     "text": [
      "çadena de texto 1\n"
     ]
    }
   ],
   "source": [
    "print(a)"
   ]
  },
  {
   "cell_type": "code",
   "execution_count": 51,
   "id": "a17679e1-5fc7-4ce5-82b2-5cd9a44393bc",
   "metadata": {},
   "outputs": [
    {
     "name": "stdout",
     "output_type": "stream",
     "text": [
      "cadena de texto 2\n"
     ]
    }
   ],
   "source": [
    "print (b)"
   ]
  },
  {
   "cell_type": "code",
   "execution_count": 52,
   "id": "4ddcb5c1-93e3-49ca-a159-5678fcc0198b",
   "metadata": {},
   "outputs": [
    {
     "name": "stdout",
     "output_type": "stream",
     "text": [
      "çadena de texto 1 cadena de texto 2\n"
     ]
    }
   ],
   "source": [
    "print (a, b)"
   ]
  },
  {
   "cell_type": "code",
   "execution_count": 54,
   "id": "c53a2983-1791-4c86-b25e-6bd90554380b",
   "metadata": {},
   "outputs": [
    {
     "name": "stdout",
     "output_type": "stream",
     "text": [
      "çadena de texto 1 cadena de texto 2 otra cosa 89.5\n"
     ]
    }
   ],
   "source": [
    "print (a, b, 'otra cosa', 89.5)"
   ]
  },
  {
   "cell_type": "code",
   "execution_count": 56,
   "id": "7556580a-3843-4ceb-a34b-fa391e47a873",
   "metadata": {},
   "outputs": [
    {
     "name": "stdout",
     "output_type": "stream",
     "text": [
      "çadena de texto 1 \t cadena de texto 2 otra cosa 89.5 lo que sea\n"
     ]
    }
   ],
   "source": [
    "print (a, '\\t', b, 'otra cosa', 89.5, 'lo que sea')\n",
    "#salto de tabulación"
   ]
  },
  {
   "cell_type": "code",
   "execution_count": 57,
   "id": "b20a4634-9f7c-43c2-b4ff-788a88766088",
   "metadata": {},
   "outputs": [
    {
     "name": "stdout",
     "output_type": "stream",
     "text": [
      "çadena de texto 1 \n",
      " cadena de texto 2 otra cosa 89.5 lo que sea\n"
     ]
    }
   ],
   "source": [
    "print (a , '\\n', b, 'otra cosa', 89.5, 'lo que sea')\n",
    "#salto de cadena"
   ]
  },
  {
   "cell_type": "code",
   "execution_count": 58,
   "id": "851b3e7b-1cd7-48c1-9e95-78fd004dbf79",
   "metadata": {},
   "outputs": [
    {
     "name": "stdout",
     "output_type": "stream",
     "text": [
      "C:\\nombre_de_la_carpeta\\tareas\n"
     ]
    }
   ],
   "source": [
    "print ( r'C:\\nombre_de_la_carpeta\\tareas')"
   ]
  },
  {
   "cell_type": "code",
   "execution_count": 59,
   "id": "a4a72cd7-3668-44ab-868c-06eae536816a",
   "metadata": {},
   "outputs": [
    {
     "name": "stdout",
     "output_type": "stream",
     "text": [
      "primera línea de texto\n",
      "segunda línea de texto\n",
      "tercera línea de texto\n"
     ]
    }
   ],
   "source": [
    "print (\"\"\"primera línea de texto\n",
    "segunda línea de texto\n",
    "tercera línea de texto\"\"\" )"
   ]
  },
  {
   "cell_type": "code",
   "execution_count": 60,
   "id": "4317a332-52d2-4c98-938d-7cde0ef90dfa",
   "metadata": {},
   "outputs": [
    {
     "data": {
      "text/plain": [
       "('çadena de texto 1', 'cadena de texto 2')"
      ]
     },
     "execution_count": 60,
     "metadata": {},
     "output_type": "execute_result"
    }
   ],
   "source": [
    "a, b"
   ]
  },
  {
   "cell_type": "code",
   "execution_count": 65,
   "id": "74c68c92-9aac-4a62-8c03-838239add726",
   "metadata": {},
   "outputs": [],
   "source": [
    "a , b = 'ah', 'be'"
   ]
  },
  {
   "cell_type": "code",
   "execution_count": 61,
   "id": "3756eca2-d3ee-4268-be76-67da06467737",
   "metadata": {},
   "outputs": [
    {
     "data": {
      "text/plain": [
       "'çadena de texto 1cadena de texto 2'"
      ]
     },
     "execution_count": 61,
     "metadata": {},
     "output_type": "execute_result"
    }
   ],
   "source": [
    "a + b "
   ]
  },
  {
   "cell_type": "code",
   "execution_count": 66,
   "id": "5f044c64-d495-4f41-a43e-5c66339e4ff2",
   "metadata": {},
   "outputs": [
    {
     "data": {
      "text/plain": [
       "'ahahah'"
      ]
     },
     "execution_count": 66,
     "metadata": {},
     "output_type": "execute_result"
    }
   ],
   "source": [
    "3 * a"
   ]
  },
  {
   "cell_type": "code",
   "execution_count": 67,
   "id": "f844a6ba-24dc-4437-ab7b-0774606c3074",
   "metadata": {},
   "outputs": [
    {
     "data": {
      "text/plain": [
       "'ahahahbebeah'"
      ]
     },
     "execution_count": 67,
     "metadata": {},
     "output_type": "execute_result"
    }
   ],
   "source": [
    "3 * a +2*b + a"
   ]
  },
  {
   "cell_type": "markdown",
   "id": "3a4c9851-8602-4efd-b7cb-2ab939ca7444",
   "metadata": {},
   "source": [
    "# slicing = rebanando"
   ]
  },
  {
   "cell_type": "code",
   "execution_count": 68,
   "id": "9224a1b0-3929-4160-871d-e5aa157de217",
   "metadata": {},
   "outputs": [],
   "source": [
    "a = 'hola jolines chayotes verdes'"
   ]
  },
  {
   "cell_type": "code",
   "execution_count": 72,
   "id": "02e4ff7d-d81e-4da5-a7f1-84188884b2db",
   "metadata": {},
   "outputs": [],
   "source": [
    "b = 'cadena'"
   ]
  },
  {
   "cell_type": "code",
   "execution_count": 73,
   "id": "f39f690e-e99a-4082-a9fc-8071403f766b",
   "metadata": {},
   "outputs": [
    {
     "data": {
      "text/plain": [
       "'d'"
      ]
     },
     "execution_count": 73,
     "metadata": {},
     "output_type": "execute_result"
    }
   ],
   "source": [
    "b[2]"
   ]
  },
  {
   "cell_type": "code",
   "execution_count": 74,
   "id": "66f5214b-64c2-4041-85b6-5bc8756d6341",
   "metadata": {},
   "outputs": [
    {
     "data": {
      "text/plain": [
       "'n'"
      ]
     },
     "execution_count": 74,
     "metadata": {},
     "output_type": "execute_result"
    }
   ],
   "source": [
    "b[4]"
   ]
  },
  {
   "cell_type": "code",
   "execution_count": 75,
   "id": "75baaa8f-ce00-4e67-95d9-087b79ca91aa",
   "metadata": {},
   "outputs": [
    {
     "data": {
      "text/plain": [
       "6"
      ]
     },
     "execution_count": 75,
     "metadata": {},
     "output_type": "execute_result"
    }
   ],
   "source": [
    "len(b)"
   ]
  },
  {
   "cell_type": "code",
   "execution_count": 76,
   "id": "1c6ac859-d745-4859-b996-01fa05eed507",
   "metadata": {},
   "outputs": [
    {
     "data": {
      "text/plain": [
       "'hola jolines chayotes verdes'"
      ]
     },
     "execution_count": 76,
     "metadata": {},
     "output_type": "execute_result"
    }
   ],
   "source": [
    "'hola jolines chayotes verdes'"
   ]
  },
  {
   "cell_type": "code",
   "execution_count": 78,
   "id": "21fd3d9a-2671-4620-880a-b9ac0c10a482",
   "metadata": {},
   "outputs": [
    {
     "data": {
      "text/plain": [
       "'chayotes'"
      ]
     },
     "execution_count": 78,
     "metadata": {},
     "output_type": "execute_result"
    }
   ],
   "source": [
    "# c tiene la posición 13\n",
    "# s tiene la posición 20\n",
    "pos_i= 13\n",
    "pos_f= 20\n",
    "a [pos_i :pos_f+1]\n",
    "#a [13 : 21]"
   ]
  },
  {
   "cell_type": "code",
   "execution_count": 79,
   "id": "7c5cb837-f27b-4fc5-8cf4-11adea36ef4f",
   "metadata": {},
   "outputs": [
    {
     "data": {
      "text/plain": [
       "'cadena'"
      ]
     },
     "execution_count": 79,
     "metadata": {},
     "output_type": "execute_result"
    }
   ],
   "source": [
    "b [0 :6]"
   ]
  },
  {
   "cell_type": "code",
   "execution_count": 82,
   "id": "3a50da33-99e6-4a66-843b-9b0862f2aac9",
   "metadata": {},
   "outputs": [
    {
     "data": {
      "text/plain": [
       "' oie hyt'"
      ]
     },
     "execution_count": 82,
     "metadata": {},
     "output_type": "execute_result"
    }
   ],
   "source": [
    "a [4: 20: 2]\n",
    "# el rango funciona como range (pos_i, pos_f, salto)"
   ]
  },
  {
   "cell_type": "code",
   "execution_count": 83,
   "id": "afd869d2-f551-4ef0-9b14-d861311a599e",
   "metadata": {},
   "outputs": [
    {
     "data": {
      "text/plain": [
       "28"
      ]
     },
     "execution_count": 83,
     "metadata": {},
     "output_type": "execute_result"
    }
   ],
   "source": [
    "len(a)"
   ]
  },
  {
   "cell_type": "code",
   "execution_count": 84,
   "id": "20f252c3-0908-49ff-b626-e0fe5f88ab01",
   "metadata": {},
   "outputs": [
    {
     "data": {
      "text/plain": [
       "'s'"
      ]
     },
     "execution_count": 84,
     "metadata": {},
     "output_type": "execute_result"
    }
   ],
   "source": [
    "a [27]"
   ]
  },
  {
   "cell_type": "code",
   "execution_count": 85,
   "id": "6efffa3e-e686-4774-b6c7-97593ca572fe",
   "metadata": {},
   "outputs": [
    {
     "data": {
      "text/plain": [
       "(28, 's', 's')"
      ]
     },
     "execution_count": 85,
     "metadata": {},
     "output_type": "execute_result"
    }
   ],
   "source": [
    "len(a), a[27], a[len(a)-1]"
   ]
  },
  {
   "cell_type": "code",
   "execution_count": 86,
   "id": "0108bafd-f807-429c-bde6-4b42f4021a36",
   "metadata": {},
   "outputs": [
    {
     "data": {
      "text/plain": [
       "'s'"
      ]
     },
     "execution_count": 86,
     "metadata": {},
     "output_type": "execute_result"
    }
   ],
   "source": [
    "a [-1]"
   ]
  },
  {
   "cell_type": "code",
   "execution_count": 87,
   "id": "996575b0-3a95-445f-84e2-948102b8c0a6",
   "metadata": {},
   "outputs": [
    {
     "data": {
      "text/plain": [
       "'v'"
      ]
     },
     "execution_count": 87,
     "metadata": {},
     "output_type": "execute_result"
    }
   ],
   "source": [
    "a[-6]"
   ]
  },
  {
   "cell_type": "code",
   "execution_count": 88,
   "id": "75588232-7c61-4f8d-822c-035c56c6b810",
   "metadata": {},
   "outputs": [
    {
     "data": {
      "text/plain": [
       "'hola'"
      ]
     },
     "execution_count": 88,
     "metadata": {},
     "output_type": "execute_result"
    }
   ],
   "source": [
    "a [0 : 4]"
   ]
  },
  {
   "cell_type": "code",
   "execution_count": 89,
   "id": "94f743f6-061d-4523-8f24-0c5cbea7b890",
   "metadata": {},
   "outputs": [
    {
     "data": {
      "text/plain": [
       "'hola jolines chayotes verdes'"
      ]
     },
     "execution_count": 89,
     "metadata": {},
     "output_type": "execute_result"
    }
   ],
   "source": [
    "a [:]"
   ]
  },
  {
   "cell_type": "code",
   "execution_count": 90,
   "id": "b9416d9b-6318-406b-92a9-bddcca52b622",
   "metadata": {},
   "outputs": [
    {
     "data": {
      "text/plain": [
       "'sde eoacsnljao'"
      ]
     },
     "execution_count": 90,
     "metadata": {},
     "output_type": "execute_result"
    }
   ],
   "source": [
    "a [::-2]"
   ]
  },
  {
   "cell_type": "markdown",
   "id": "7fdc19b3-3949-437b-a2b2-65921bfe297b",
   "metadata": {},
   "source": [
    "# TAREA\n",
    "# que es una cadena inmutable"
   ]
  },
  {
   "cell_type": "code",
   "execution_count": null,
   "id": "f7bacb39-d716-4c61-a55f-f850ad013e67",
   "metadata": {},
   "outputs": [],
   "source": []
  }
 ],
 "metadata": {
  "kernelspec": {
   "display_name": "Python 3 (ipykernel)",
   "language": "python",
   "name": "python3"
  },
  "language_info": {
   "codemirror_mode": {
    "name": "ipython",
    "version": 3
   },
   "file_extension": ".py",
   "mimetype": "text/x-python",
   "name": "python",
   "nbconvert_exporter": "python",
   "pygments_lexer": "ipython3",
   "version": "3.10.4"
  }
 },
 "nbformat": 4,
 "nbformat_minor": 5
}
