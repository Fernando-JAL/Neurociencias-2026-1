{
 "cells": [
  {
   "cell_type": "code",
   "execution_count": 1,
   "id": "6514cfea-ca34-4dac-89c2-43880ff8dc75",
   "metadata": {},
   "outputs": [],
   "source": [
    "from package import *"
   ]
  },
  {
   "cell_type": "code",
   "execution_count": 2,
   "id": "c04248a7-37c3-4a1e-b5d9-d3b5ee94f0d6",
   "metadata": {},
   "outputs": [
    {
     "name": "stdout",
     "output_type": "stream",
     "text": [
      "hola desde el paquete\n"
     ]
    }
   ],
   "source": [
    "saludo()"
   ]
  },
  {
   "cell_type": "code",
   "execution_count": 3,
   "id": "6efa6474-a56c-48c6-a794-5b092dd83a1a",
   "metadata": {},
   "outputs": [
    {
     "name": "stdout",
     "output_type": "stream",
     "text": [
      "otra funcion \n"
     ]
    }
   ],
   "source": [
    "funcion()"
   ]
  },
  {
   "cell_type": "code",
   "execution_count": 4,
   "id": "eba2ea12-b241-4968-9d92-519fc9c160d1",
   "metadata": {},
   "outputs": [
    {
     "data": {
      "text/plain": [
       "5"
      ]
     },
     "execution_count": 4,
     "metadata": {},
     "output_type": "execute_result"
    }
   ],
   "source": [
    "suma(2,3)"
   ]
  },
  {
   "cell_type": "code",
   "execution_count": 7,
   "id": "5e75c6fe-1cfd-42f5-ab38-bb6f207f7187",
   "metadata": {},
   "outputs": [],
   "source": [
    "import numpy as np"
   ]
  },
  {
   "cell_type": "code",
   "execution_count": 8,
   "id": "2accd213-6a7e-40e0-9fd1-a02c59253eec",
   "metadata": {},
   "outputs": [
    {
     "data": {
      "text/plain": [
       "numpy.ndarray"
      ]
     },
     "execution_count": 8,
     "metadata": {},
     "output_type": "execute_result"
    }
   ],
   "source": [
    "lista = [3,4,5]\n",
    "\n",
    "variable = np.array(lista)\n",
    "type(variable)"
   ]
  },
  {
   "cell_type": "code",
   "execution_count": 9,
   "id": "d4bdc4c9-0a98-49d1-82b2-ca44f5d0c931",
   "metadata": {},
   "outputs": [
    {
     "ename": "SyntaxError",
     "evalue": "invalid syntax (1564196859.py, line 2)",
     "output_type": "error",
     "traceback": [
      "\u001b[1;36m  Cell \u001b[1;32mIn[9], line 2\u001b[1;36m\u001b[0m\n\u001b[1;33m    Es un pquete enfoado en mainpular info en estructuras conocias como vectores, arreglo y matrices.\u001b[0m\n\u001b[1;37m       ^\u001b[0m\n\u001b[1;31mSyntaxError\u001b[0m\u001b[1;31m:\u001b[0m invalid syntax\n"
     ]
    }
   ],
   "source": [
    "# Paquete numpy \n",
    "Es un pquete enfoado en mainpular info en estructuras conocias como vectores, arreglo y matrices.\n",
    "\n",
    "La contribucion mas significatiba del paquete numpy es la introduccion de un tipo de dato llamado array "
   ]
  },
  {
   "cell_type": "code",
   "execution_count": 10,
   "id": "fca2ce65-1cc0-4b05-b043-3a968d0a1506",
   "metadata": {},
   "outputs": [
    {
     "data": {
      "text/plain": [
       "(numpy.ndarray, 2, (2, 3))"
      ]
     },
     "execution_count": 10,
     "metadata": {},
     "output_type": "execute_result"
    }
   ],
   "source": [
    "variable2d = np.array([ \n",
    "    [4,5,6],\n",
    "    [7,8,9]])\n",
    "type(variable2d), variable2d.ndim, variable2d.shape\n"
   ]
  },
  {
   "cell_type": "code",
   "execution_count": 13,
   "id": "26bdb928-f6da-491b-a851-1122ffb169a4",
   "metadata": {},
   "outputs": [
    {
     "name": "stderr",
     "output_type": "stream",
     "text": [
      "<>:1: SyntaxWarning: 'int' object is not callable; perhaps you missed a comma?\n",
      "<>:1: SyntaxWarning: 'int' object is not callable; perhaps you missed a comma?\n",
      "C:\\Users\\980041133\\AppData\\Local\\Temp\\ipykernel_20052\\3021142847.py:1: SyntaxWarning: 'int' object is not callable; perhaps you missed a comma?\n",
      "  numpy.ndarray,(2 (2,3))\n",
      "C:\\Users\\980041133\\AppData\\Local\\Temp\\ipykernel_20052\\3021142847.py:1: SyntaxWarning: 'int' object is not callable; perhaps you missed a comma?\n",
      "  numpy.ndarray,(2 (2,3))\n",
      "C:\\Users\\980041133\\AppData\\Local\\Temp\\ipykernel_20052\\3021142847.py:1: SyntaxWarning: 'int' object is not callable; perhaps you missed a comma?\n",
      "  numpy.ndarray,(2 (2,3))\n"
     ]
    },
    {
     "ename": "NameError",
     "evalue": "name 'numpy' is not defined",
     "output_type": "error",
     "traceback": [
      "\u001b[1;31m---------------------------------------------------------------------------\u001b[0m",
      "\u001b[1;31mNameError\u001b[0m                                 Traceback (most recent call last)",
      "Cell \u001b[1;32mIn[13], line 1\u001b[0m\n\u001b[1;32m----> 1\u001b[0m \u001b[43mnumpy\u001b[49m\u001b[38;5;241m.\u001b[39mndarray,(\u001b[38;5;241m2\u001b[39m (\u001b[38;5;241m2\u001b[39m,\u001b[38;5;241m3\u001b[39m))\n",
      "\u001b[1;31mNameError\u001b[0m: name 'numpy' is not defined"
     ]
    }
   ],
   "source": [
    "numpy.ndarray,(2 (2,3))"
   ]
  },
  {
   "cell_type": "code",
   "execution_count": 14,
   "id": "d2ecb3b3-1f49-4e05-a51d-8288d05fdec3",
   "metadata": {},
   "outputs": [
    {
     "data": {
      "text/plain": [
       "(3,)"
      ]
     },
     "execution_count": 14,
     "metadata": {},
     "output_type": "execute_result"
    }
   ],
   "source": [
    "variable.shape"
   ]
  },
  {
   "cell_type": "code",
   "execution_count": 15,
   "id": "249a51b8-2031-4f2e-bbc7-d46e4e016175",
   "metadata": {},
   "outputs": [
    {
     "ename": "SyntaxError",
     "evalue": "invalid syntax (480320040.py, line 1)",
     "output_type": "error",
     "traceback": [
      "\u001b[1;36m  Cell \u001b[1;32mIn[15], line 1\u001b[1;36m\u001b[0m\n\u001b[1;33m    Funciones de numpy\u001b[0m\n\u001b[1;37m              ^\u001b[0m\n\u001b[1;31mSyntaxError\u001b[0m\u001b[1;31m:\u001b[0m invalid syntax\n"
     ]
    }
   ],
   "source": [
    "Funciones de numpy "
   ]
  },
  {
   "cell_type": "code",
   "execution_count": 16,
   "id": "b8b7ea7d-814e-4ed0-9edc-797196a9ed3e",
   "metadata": {},
   "outputs": [
    {
     "data": {
      "text/plain": [
       "(array([0., 0., 0., 0., 0., 0.]),\n",
       " array([[0., 0., 0., 0.],\n",
       "        [0., 0., 0., 0.],\n",
       "        [0., 0., 0., 0.]]))"
      ]
     },
     "execution_count": 16,
     "metadata": {},
     "output_type": "execute_result"
    }
   ],
   "source": [
    "np.zeros(6) , np.zeros([3,4])"
   ]
  },
  {
   "cell_type": "code",
   "execution_count": 17,
   "id": "0d247dca-1d40-48a2-89dc-2921a2706a42",
   "metadata": {},
   "outputs": [
    {
     "data": {
      "text/plain": [
       "(array([1., 1., 1., 1.]),\n",
       " array([[[1., 1., 1., 1.],\n",
       "         [1., 1., 1., 1.],\n",
       "         [1., 1., 1., 1.]],\n",
       " \n",
       "        [[1., 1., 1., 1.],\n",
       "         [1., 1., 1., 1.],\n",
       "         [1., 1., 1., 1.]]]))"
      ]
     },
     "execution_count": 17,
     "metadata": {},
     "output_type": "execute_result"
    }
   ],
   "source": [
    "np.ones(4), np.ones([2,3,4])"
   ]
  },
  {
   "cell_type": "code",
   "execution_count": 18,
   "id": "867dd375-18f0-4cf9-af98-4dff236bcabc",
   "metadata": {},
   "outputs": [
    {
     "data": {
      "text/plain": [
       "array([[1., 0., 0.],\n",
       "       [0., 1., 0.],\n",
       "       [0., 0., 1.]])"
      ]
     },
     "execution_count": 18,
     "metadata": {},
     "output_type": "execute_result"
    }
   ],
   "source": [
    "np.eye(3)"
   ]
  },
  {
   "cell_type": "code",
   "execution_count": 21,
   "id": "26d430d2-7865-4ed8-8fb3-e7e0b203965d",
   "metadata": {},
   "outputs": [],
   "source": [
    "#Ejercicio. Crear un arreglo de 4x4 cuyos elementos en la diagonal sean igual a 8 \n",
    "#pero fuera de la diagonal sea igual a -10\n",
    "Valor =-10*np.ones([4,4])"
   ]
  },
  {
   "cell_type": "code",
   "execution_count": 23,
   "id": "19a9e3ab-2f24-4e94-be0d-9d21438ffa47",
   "metadata": {},
   "outputs": [
    {
     "data": {
      "text/plain": [
       "array([[-5., -5., -5., -5.],\n",
       "       [-5., -5., -5., -5.],\n",
       "       [-5., -5., -5., -5.],\n",
       "       [-5., -5., -5., -5.]])"
      ]
     },
     "execution_count": 23,
     "metadata": {},
     "output_type": "execute_result"
    }
   ],
   "source": [
    "Valor/2"
   ]
  },
  {
   "cell_type": "code",
   "execution_count": 24,
   "id": "aae49807-ac78-4070-b17a-bd332e5d8c6d",
   "metadata": {},
   "outputs": [
    {
     "data": {
      "text/plain": [
       "array([[-0.1, -0.1, -0.1, -0.1],\n",
       "       [-0.1, -0.1, -0.1, -0.1],\n",
       "       [-0.1, -0.1, -0.1, -0.1],\n",
       "       [-0.1, -0.1, -0.1, -0.1]])"
      ]
     },
     "execution_count": 24,
     "metadata": {},
     "output_type": "execute_result"
    }
   ],
   "source": [
    "1/Valor"
   ]
  },
  {
   "cell_type": "code",
   "execution_count": null,
   "id": "f876b463-9701-42c6-9e8b-ed6e55f0e08e",
   "metadata": {},
   "outputs": [],
   "source": [
    "#las matrices tienen su arreglo \n",
    "# pero python \n"
   ]
  }
 ],
 "metadata": {
  "kernelspec": {
   "display_name": "Python 3 (ipykernel)",
   "language": "python",
   "name": "python3"
  },
  "language_info": {
   "codemirror_mode": {
    "name": "ipython",
    "version": 3
   },
   "file_extension": ".py",
   "mimetype": "text/x-python",
   "name": "python",
   "nbconvert_exporter": "python",
   "pygments_lexer": "ipython3",
   "version": "3.10.7"
  }
 },
 "nbformat": 4,
 "nbformat_minor": 5
}
