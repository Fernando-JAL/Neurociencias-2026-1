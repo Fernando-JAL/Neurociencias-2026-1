{
 "cells": [
  {
   "cell_type": "code",
   "execution_count": null,
   "id": "351f7e45-3f10-4909-87a5-ae5908be0888",
   "metadata": {},
   "outputs": [],
   "source": [
    "#Ejercicios\n",
    "\n",
    "1.- Crear una función que cuente las vocales de un string y regrese dicho número\n",
    "2.- Crear una función que determine si un número es par o impar e imprima si es par o impar\n",
    "3.- Crear una función para convertir de grados Celsius a grados Fahrenheit, dicha función recibirá la temperatura en grados celsius y deberá regresar a los grados Fahrenheit\n",
    "4.- Crear una función que reciba un entero y devuelva la suma de sus dígitos \n",
    "5.- Crear un función que cuente las palabras de un string y devuelva dicho número \n",
    "6.- Crear una función que reciba una lista con al menos 3 enteros y regrese el mínimo de todos los números de la lista \n",
    "7.- Crear una función que reciba dos strings( frase, letra) y cuente cuántas veces aparece la letra en la frase y regrese a ese número \n",
    "8.- Crear una función que reciba un string y cambie todas las minúsculas a mayúsculas y las mayúsculas a minúsculas\n",
    "9.- Crear una función que reciba un string y elimine todos los espacios y regrese el string sin espacios "
   ]
  },
  {
   "cell_type": "code",
   "execution_count": 5,
   "id": "3a43ea94-d81d-44e6-a20d-9a0cad58f759",
   "metadata": {},
   "outputs": [
    {
     "name": "stdout",
     "output_type": "stream",
     "text": [
      "7\n"
     ]
    }
   ],
   "source": [
    "# Ejercicio 1\n",
    "\n",
    "def contar_vocales(texto):\n",
    "    vocales = \"aeiouAEIOU\"\n",
    "    contador = sum(1 for letra in texto if letra in vocales)\n",
    "    return contador\n",
    "\n",
    "print(contar_vocales(\"Me gusta mucho el café\"))\n"
   ]
  },
  {
   "cell_type": "code",
   "execution_count": 7,
   "id": "b41eeff5-5490-4d19-be85-19adc13bcc21",
   "metadata": {},
   "outputs": [
    {
     "name": "stdout",
     "output_type": "stream",
     "text": [
      "El número es impar\n",
      "El número es par\n"
     ]
    }
   ],
   "source": [
    "# Ejercicio 2\n",
    "\n",
    "def par_o_impar(numero):\n",
    "    if numero % 2 == 0:\n",
    "        print(\"El número es par\")\n",
    "    else:\n",
    "        print(\"El número es impar\")\n",
    "\n",
    "par_o_impar(199)\n",
    "par_o_impar(64)"
   ]
  },
  {
   "cell_type": "code",
   "execution_count": 8,
   "id": "703a53ca-847f-4a85-b008-f369edbf5f00",
   "metadata": {},
   "outputs": [
    {
     "name": "stdout",
     "output_type": "stream",
     "text": [
      "77.0\n"
     ]
    }
   ],
   "source": [
    "# Ejercicio 3\n",
    "\n",
    "def celsius_a_fahrenheit(celsius):\n",
    "    return (celsius * 9/5) + 32\n",
    "\n",
    "\n",
    "print(celsius_a_fahrenheit(25)) \n"
   ]
  },
  {
   "cell_type": "code",
   "execution_count": 9,
   "id": "3ab65284-1b32-4672-9191-7d7ffd97ed5c",
   "metadata": {},
   "outputs": [
    {
     "name": "stdout",
     "output_type": "stream",
     "text": [
      "14\n",
      "24\n"
     ]
    }
   ],
   "source": [
    "# Ejercicio 4\n",
    "\n",
    "def suma_digitos(numero):\n",
    "    return sum(int(digito) for digito in str(abs(numero)))\n",
    "\n",
    "\n",
    "print(suma_digitos(2345))   \n",
    "print(suma_digitos(-987))   \n"
   ]
  },
  {
   "cell_type": "code",
   "execution_count": 10,
   "id": "6c374930-2ebe-4229-99f4-2d02c031700e",
   "metadata": {},
   "outputs": [
    {
     "name": "stdout",
     "output_type": "stream",
     "text": [
      "11\n"
     ]
    }
   ],
   "source": [
    "# Ejercicio 5\n",
    "\n",
    "def contar_palabras(texto):\n",
    "    return len(texto.split())\n",
    "\n",
    "\n",
    "print(contar_palabras(\"El verde no es mi color preferido, es mejor el morado\"))  \n"
   ]
  },
  {
   "cell_type": "code",
   "execution_count": 11,
   "id": "192d4834-f89d-4a31-ac36-6c953350e41d",
   "metadata": {},
   "outputs": [
    {
     "name": "stdout",
     "output_type": "stream",
     "text": [
      "6\n"
     ]
    }
   ],
   "source": [
    "# Ejercicio 6\n",
    "\n",
    "def minimo_lista(lista):\n",
    "    if len(lista) < 3:\n",
    "        return \"La lista debe tener al menos 3 enteros\"\n",
    "    return min(lista)\n",
    "\n",
    "\n",
    "print(minimo_lista([45, 6, 8]))   \n"
   ]
  },
  {
   "cell_type": "code",
   "execution_count": 12,
   "id": "ef8e2500-75fb-4729-8bfe-0d0b1f969774",
   "metadata": {},
   "outputs": [
    {
     "name": "stdout",
     "output_type": "stream",
     "text": [
      "3\n"
     ]
    }
   ],
   "source": [
    "# Ejercicio 7\n",
    "\n",
    "def contar_letra(frase, letra):\n",
    "    return frase.count(letra)\n",
    "\n",
    "\n",
    "print(contar_letra(\"banana\", \"a\"))   \n"
   ]
  },
  {
   "cell_type": "code",
   "execution_count": 13,
   "id": "c4e2836b-a162-49a6-a2e2-24513ef1a607",
   "metadata": {},
   "outputs": [
    {
     "name": "stdout",
     "output_type": "stream",
     "text": [
      "Me gusta el chocolate\n"
     ]
    }
   ],
   "source": [
    "# Ejercicio 8\n",
    "\n",
    "def cambiar_mayus_minus(texto):\n",
    "    return texto.swapcase()\n",
    "\n",
    "\n",
    "print(cambiar_mayus_minus(\"mE GUSTA EL CHOCOLATE\"))   \n"
   ]
  },
  {
   "cell_type": "code",
   "execution_count": 15,
   "id": "6fbcf289-a81f-400c-bc13-81874244c6b5",
   "metadata": {},
   "outputs": [
    {
     "name": "stdout",
     "output_type": "stream",
     "text": [
      "#Soyneurocientífica\n"
     ]
    }
   ],
   "source": [
    "# Ejercicio 9\n",
    "\n",
    "def eliminar_espacios(texto):\n",
    "    return texto.replace(\" \", \"\")\n",
    "\n",
    "\n",
    "print(eliminar_espacios(\"#Soy neurocientífica\"))  \n"
   ]
  },
  {
   "cell_type": "code",
   "execution_count": null,
   "id": "12a50a79-9666-49a5-8ce8-cc9fd176bac9",
   "metadata": {},
   "outputs": [],
   "source": []
  }
 ],
 "metadata": {
  "kernelspec": {
   "display_name": "Python 3 (ipykernel)",
   "language": "python",
   "name": "python3"
  },
  "language_info": {
   "codemirror_mode": {
    "name": "ipython",
    "version": 3
   },
   "file_extension": ".py",
   "mimetype": "text/x-python",
   "name": "python",
   "nbconvert_exporter": "python",
   "pygments_lexer": "ipython3",
   "version": "3.13.7"
  }
 },
 "nbformat": 4,
 "nbformat_minor": 5
}
