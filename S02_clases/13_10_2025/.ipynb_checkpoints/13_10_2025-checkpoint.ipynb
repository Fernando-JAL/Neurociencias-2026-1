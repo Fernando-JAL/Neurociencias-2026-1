{
 "cells": [
  {
   "cell_type": "markdown",
   "id": "05f183e4-60a9-4d5c-920d-1102fccdd17b",
   "metadata": {},
   "source": [
    "### actividad\n",
    "1. Abrir el dataset de cat.mat y usar l adata de 'Names' y 'CIJctx'\n",
    "2. Generar el mapa de calor del dtaframe asociado\n",
    "   a. Las columnas y las filas deben de tener los nombres de los canales.\n",
    "3. Generar el histograma del dataset y detrminar el porentaje de cada valor\n",
    "4. Filtrar el dataset con los valores <=1, <=2 y <=3\n",
    "   a. Con cada filtrado, que porcentaje de datos se están eliminando?\n",
    "5. Generar el mapa de calor de cada datset filtrado\n",
    "6. Generar el grafo 2d de cada data set filtrado"
   ]
  },
  {
   "cell_type": "code",
   "execution_count": 2,
   "id": "d3bfbb3f-979b-4185-bc76-39d9ce74f22a",
   "metadata": {},
   "outputs": [],
   "source": [
    "import scipy.io\n",
    "import pandas as pd\n",
    "import numpy as np\n",
    "import seaborn as sns\n",
    "import matplotlib.pyplot as plt\n",
    "import networkx as nx"
   ]
  },
  {
   "cell_type": "code",
   "execution_count": 3,
   "id": "86273ad3-3376-4aa5-9d05-c4e2d8776f01",
   "metadata": {},
   "outputs": [
    {
     "data": {
      "text/plain": [
       "dict_keys(['__header__', '__version__', '__globals__', 'CIJall', 'CIJctx', 'Names'])"
      ]
     },
     "execution_count": 3,
     "metadata": {},
     "output_type": "execute_result"
    }
   ],
   "source": [
    "# 1. Abrir el dataset y usar la data de \"Names\"\n",
    "file_path = r\"C:\\Users\\V304-18\\Documents\\GitHub\\Neurociencias-2026-1\\S03_datasets\\BCT\\cat.mat\"\n",
    "\n",
    "file_dict= scipy.io.loadmat(file_path)\n",
    "file_dict.keys()"
   ]
  },
  {
   "cell_type": "code",
   "execution_count": 4,
   "id": "29c6113f-2367-451d-8bc3-61d661feba36",
   "metadata": {},
   "outputs": [
    {
     "ename": "KeyError",
     "evalue": "'CIJ'",
     "output_type": "error",
     "traceback": [
      "\u001b[31m---------------------------------------------------------------------------\u001b[39m",
      "\u001b[31mKeyError\u001b[39m                                  Traceback (most recent call last)",
      "\u001b[36mCell\u001b[39m\u001b[36m \u001b[39m\u001b[32mIn[4]\u001b[39m\u001b[32m, line 2\u001b[39m\n\u001b[32m      1\u001b[39m \u001b[38;5;66;03m# Extraer matriz y nombres\u001b[39;00m\n\u001b[32m----> \u001b[39m\u001b[32m2\u001b[39m matriz = \u001b[43mfile_dict\u001b[49m\u001b[43m[\u001b[49m\u001b[33;43m\"\u001b[39;49m\u001b[33;43mCIJ\u001b[39;49m\u001b[33;43m\"\u001b[39;49m\u001b[43m]\u001b[49m\n\u001b[32m      3\u001b[39m names_raw = file_dict[\u001b[33m\"\u001b[39m\u001b[33mNames\u001b[39m\u001b[33m\"\u001b[39m].squeeze()\n",
      "\u001b[31mKeyError\u001b[39m: 'CIJ'"
     ]
    }
   ],
   "source": [
    "# Extraer matriz y nombres\n",
    "matriz = file_dict[\"CIJ\"]\n",
    "names_raw = file_dict[\"Names\"].squeeze()"
   ]
  }
 ],
 "metadata": {
  "kernelspec": {
   "display_name": "Python 3 (ipykernel)",
   "language": "python",
   "name": "python3"
  },
  "language_info": {
   "codemirror_mode": {
    "name": "ipython",
    "version": 3
   },
   "file_extension": ".py",
   "mimetype": "text/x-python",
   "name": "python",
   "nbconvert_exporter": "python",
   "pygments_lexer": "ipython3",
   "version": "3.11.1"
  }
 },
 "nbformat": 4,
 "nbformat_minor": 5
}
