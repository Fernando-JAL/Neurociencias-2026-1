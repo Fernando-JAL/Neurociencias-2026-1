{
 "cells": [
  {
   "cell_type": "markdown",
   "id": "7d6fc809-442b-44bf-bc09-79356ac436b8",
   "metadata": {},
   "source": [
    "Elaboró: Anette Paulina González Solano"
   ]
  },
  {
   "cell_type": "markdown",
   "id": "ebca664d-fce8-4c14-b69b-387d91f7f125",
   "metadata": {},
   "source": [
    "1. Validar contraseña segura\n",
    "\n",
    "Escribe una función es_contraseña_segura(passw) que verifique si una contraseña:\n",
    "- Tiene al menos 8 caracteres\n",
    "- Incluye mayúsculas, minúsculas, números y un carácter especial (@, #, $, %, &, etc.) Usa funciones built-in como any(), str.isdigit(), str.isupper(), etc.\n",
    "\n",
    "2. Palabra más larga en una frase\n",
    "\n",
    "Define palabra_mas_larga(frase) que encuentre la palabra con más caracteres dentro de un texto.\n",
    "\n",
    "3. Simulador de calculadora básica\n",
    "\n",
    "Crea una función calculadora(a, b, operador) donde operador puede ser \"+\", \"-\", \"*\", \"/\". Usa if/elif para decidir la operación\n",
    "\n",
    "4. Suma de números impares\n",
    "\n",
    "Dada una lista de enteros, escribe una función que devuelva la suma de todos los números impares. Ejemplo → [1, 2, 3, 4, 5] → 9.\n",
    "\n",
    "\n",
    "5. Palabras que comienzan con vocal\n",
    "\n",
    "Dada una lista de palabras, devuelve una nueva lista solo con las que empiezan con vocal. Ejemplo → [\"oso\", \"perro\", \"agua\", \"luz\"] → [\"oso\", \"agua\"].\n",
    "\n",
    "6. Unir listas alternando elementos → Investigar la built-in function zip\n",
    "\n",
    "Dados dos listas del mismo tamaño, genera una tercera lista intercalando sus elementos. Ejemplo → [1,2,3], [‘a’,‘b’,‘c’] → [1,‘a’,2,‘b’,3,‘c’].\n",
    "\n",
    "7. Rotar una lista n posiciones\n",
    "\n",
    "Dada una lista y un número entero n, rota la lista hacia la derecha n posiciones. Ejemplo → [1,2,3,4,5], n=2 → [4,5,1,2,3]."
   ]
  },
  {
   "cell_type": "code",
   "execution_count": 10,
   "id": "28275c8e-8890-4fba-a6b3-dbb61250c737",
   "metadata": {},
   "outputs": [
    {
     "data": {
      "text/plain": [
       "(True, False)"
      ]
     },
     "execution_count": 10,
     "metadata": {},
     "output_type": "execute_result"
    }
   ],
   "source": [
    "# 1. \n",
    "\n",
    "# Crear función 'es_contraseña_segura()'\n",
    "def es_contraseña_segura(passw):\n",
    "    \n",
    "    car_esp = '@#$%&!?^-*_' # Definir caracteres especiales\n",
    "    \n",
    "    esp = any(c in car_esp for c in passw) # c = caracter\n",
    "    mayus = any(c.isupper() for c in passw)\n",
    "    minus = any(c.islower() for c in passw)\n",
    "    num = any(c.isdigit() for c in passw)\n",
    "    long = len(passw) >= 8\n",
    "    \n",
    "    if all([esp, mayus, minus, num, long]):\n",
    "        return True\n",
    "    else:\n",
    "        return False\n",
    "\n",
    "# Comprobar que sirve\n",
    "es_contraseña_segura('P-020503a'), es_contraseña_segura('P020503a')"
   ]
  },
  {
   "cell_type": "code",
   "execution_count": 11,
   "id": "3d91ec6c-d7d0-4894-8cfa-6f16ddba53de",
   "metadata": {},
   "outputs": [
    {
     "data": {
      "text/plain": [
       "'cumpleaños'"
      ]
     },
     "execution_count": 11,
     "metadata": {},
     "output_type": "execute_result"
    }
   ],
   "source": [
    "# 2.\n",
    "\n",
    "# Crear función 'palabra_más_larga()'\n",
    "def palabra_más_larga(frase):\n",
    "\n",
    "    sep_pal = frase.split() # Separar palabras de frase\n",
    "    return max(sep_pal, key = len) # Devolver el máximo de sep_pal según longitud\n",
    "\n",
    "# Comprobar que sirve\n",
    "palabra_más_larga('Mi cumpleaños es en mayo')"
   ]
  },
  {
   "cell_type": "code",
   "execution_count": 14,
   "id": "4b3cf59d-3bff-4de3-8837-26a5c0ddff65",
   "metadata": {},
   "outputs": [
    {
     "data": {
      "text/plain": [
       "(-3, 'Error, divisor es igual a cero')"
      ]
     },
     "execution_count": 14,
     "metadata": {},
     "output_type": "execute_result"
    }
   ],
   "source": [
    "# 3. \n",
    "\n",
    "# Crear función 'calculadora_básica()'\n",
    "def calculadora_básica(a, b, operador):\n",
    "    \n",
    "    if operador == '+':\n",
    "        return a + b\n",
    "    elif operador == '-':\n",
    "        return a - b\n",
    "    elif operador == '*':\n",
    "        return a * b\n",
    "    elif operador == '/':\n",
    "        if b != 0: # Si b ≠ 0\n",
    "            return a / b\n",
    "        else:\n",
    "            return 'Error, divisor es igual a cero'\n",
    "    else:\n",
    "        return 'Operador inválido'\n",
    "\n",
    "# Comprobar que sirve\n",
    "calculadora_básica(2, 5, '-'), calculadora_básica(2, 0, '/')"
   ]
  },
  {
   "cell_type": "code",
   "execution_count": 20,
   "id": "1123bfb8-2d03-4129-845e-6e13c4ba18ab",
   "metadata": {},
   "outputs": [
    {
     "data": {
      "text/plain": [
       "10"
      ]
     },
     "execution_count": 20,
     "metadata": {},
     "output_type": "execute_result"
    }
   ],
   "source": [
    "# 4. \n",
    "\n",
    "# Crear función 'sumar_num_impares()'\n",
    "def sumar_num_impares(lista):\n",
    "    \n",
    "    return sum(n for n in lista if n % 2 != 0) # n = elemento de la lista; Pora cada n en la lista, si ese n no se puede dividir entre 2 (impar), sumarlo\n",
    "\n",
    "# Comprobar que sirve\n",
    "sumar_num_impares([3, 4, 7, 8])"
   ]
  },
  {
   "cell_type": "code",
   "execution_count": 18,
   "id": "eb9b5fca-39e5-433f-a78a-1cfc839d1313",
   "metadata": {},
   "outputs": [
    {
     "data": {
      "text/plain": [
       "['Árbol', 'elefante']"
      ]
     },
     "execution_count": 18,
     "metadata": {},
     "output_type": "execute_result"
    }
   ],
   "source": [
    "# 5.\n",
    "\n",
    "# Crear función 'inicia_con_vocal()'\n",
    "def inicia_con_vocal(lista):\n",
    "\n",
    "    vocal = 'aeiouAEIOUáéíóúÁÉÍÓÚ'\n",
    "    return [p for p in lista if p[0] in vocal] # p = palabra en lista; Para cada p en lista, si p inicia con vocal, devolverlo\n",
    "\n",
    "# Comprobar que sirve\n",
    "inicia_con_vocal(['Joya', 'Árbol', 'elefante'])"
   ]
  },
  {
   "cell_type": "code",
   "execution_count": 22,
   "id": "6fcb117d-1a71-48d3-be73-54f221aeca57",
   "metadata": {},
   "outputs": [
    {
     "data": {
      "text/plain": [
       "[1, 'a', 2, 'b', 3, 'c']"
      ]
     },
     "execution_count": 22,
     "metadata": {},
     "output_type": "execute_result"
    }
   ],
   "source": [
    "# 6.\n",
    "\n",
    "# Crear función 'intercalar_listas()'\n",
    "def intercalar_listas(lista1, lista2):\n",
    "    \n",
    "    unir = [ ] # Crear lista vacía para ir guardando resultados\n",
    "    for a, b in zip(lista1, lista2): # a = elemento lista1, b = elemento lista2, zip() unirá pares (1, 'a')...\n",
    "        unir.extend([a, b]) # extend() agrega par al resultado\n",
    "    return unir\n",
    "\n",
    "# Comprobar que sirve\n",
    "intercalar_listas([1, 2, 3], ['a', 'b', 'c'])"
   ]
  },
  {
   "cell_type": "code",
   "execution_count": 29,
   "id": "2e7d8bb1-7b34-489b-a07e-3d31fd0f14ce",
   "metadata": {},
   "outputs": [
    {
     "data": {
      "text/plain": [
       "[3, 4, 5, 1, 2]"
      ]
     },
     "execution_count": 29,
     "metadata": {},
     "output_type": "execute_result"
    }
   ],
   "source": [
    "# 7. \n",
    "\n",
    "# Crear función 'rotar_lista()'\n",
    "def rotar_lista(lista, n):\n",
    "    \n",
    "    n = n % len(lista) # Evita errores sin n > len(lista)\n",
    "    return lista[-n:] + lista[:-n]\n",
    "\n",
    "# Comprobar que sirve\n",
    "rotar_lista([1, 2, 3, 4, 5], 3)"
   ]
  }
 ],
 "metadata": {
  "kernelspec": {
   "display_name": "Python 3 (ipykernel)",
   "language": "python",
   "name": "python3"
  },
  "language_info": {
   "codemirror_mode": {
    "name": "ipython",
    "version": 3
   },
   "file_extension": ".py",
   "mimetype": "text/x-python",
   "name": "python",
   "nbconvert_exporter": "python",
   "pygments_lexer": "ipython3",
   "version": "3.13.7"
  }
 },
 "nbformat": 4,
 "nbformat_minor": 5
}
