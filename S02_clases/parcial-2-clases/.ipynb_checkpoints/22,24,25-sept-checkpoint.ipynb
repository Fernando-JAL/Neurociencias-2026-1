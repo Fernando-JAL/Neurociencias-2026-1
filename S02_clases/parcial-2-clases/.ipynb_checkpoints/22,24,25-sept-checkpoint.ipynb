{
 "cells": [
  {
   "cell_type": "code",
   "execution_count": 1,
   "id": "9c28b6b0-b70f-4214-9936-d4fffe0f8a11",
   "metadata": {},
   "outputs": [],
   "source": [
    "import pandas as pd\n",
    "import numpy as np"
   ]
  },
  {
   "cell_type": "code",
   "execution_count": 2,
   "id": "a5bde9e4-ba2f-418e-9b10-50fb31b0ffb5",
   "metadata": {},
   "outputs": [
    {
     "data": {
      "text/plain": [
       "{'Sujeto': ['S01', 'S02', 'S03', 'S02', 'S01', 'S01', 'S02'],\n",
       " 'Sabor': ['Chocolate', 'Piñón', 'Queso', 'Chango', 'Choco', 'Queso', 'Ángel'],\n",
       " 'Precio': [45, 105, 30, 60, 85, 45, 120],\n",
       " 'Tamaño': ['M', 'G', 'Ch', 'Ch', 'G', 'M', 'G']}"
      ]
     },
     "execution_count": 2,
     "metadata": {},
     "output_type": "execute_result"
    }
   ],
   "source": [
    "# Diccionario para almacenar: {Sujeto:_}, {Sabor:_}, {Precio:_}, {Tamaño:_}\n",
    "experimento = {\n",
    "    'Sujeto': ['S01', 'S02', 'S03', 'S02', 'S01', 'S01', 'S02'],\n",
    "    'Sabor': ['Chocolate', 'Piñón', 'Queso', 'Chango', 'Choco', 'Queso', 'Ángel'],\n",
    "    'Precio': [45, 105, 30, 60, 85, 45, 120],\n",
    "    'Tamaño': ['M', 'G', 'Ch', 'Ch', 'G', 'M', 'G']\n",
    "}\n",
    "experimento"
   ]
  },
  {
   "cell_type": "code",
   "execution_count": 3,
   "id": "5f8982b0-ade4-4570-a9f4-97d9eb140b74",
   "metadata": {},
   "outputs": [
    {
     "data": {
      "text/html": [
       "<div>\n",
       "<style scoped>\n",
       "    .dataframe tbody tr th:only-of-type {\n",
       "        vertical-align: middle;\n",
       "    }\n",
       "\n",
       "    .dataframe tbody tr th {\n",
       "        vertical-align: top;\n",
       "    }\n",
       "\n",
       "    .dataframe thead th {\n",
       "        text-align: right;\n",
       "    }\n",
       "</style>\n",
       "<table border=\"1\" class=\"dataframe\">\n",
       "  <thead>\n",
       "    <tr style=\"text-align: right;\">\n",
       "      <th></th>\n",
       "      <th>Sujeto</th>\n",
       "      <th>Sabor</th>\n",
       "      <th>Precio</th>\n",
       "      <th>Tamaño</th>\n",
       "    </tr>\n",
       "  </thead>\n",
       "  <tbody>\n",
       "    <tr>\n",
       "      <th>0</th>\n",
       "      <td>S01</td>\n",
       "      <td>Chocolate</td>\n",
       "      <td>45</td>\n",
       "      <td>M</td>\n",
       "    </tr>\n",
       "    <tr>\n",
       "      <th>1</th>\n",
       "      <td>S02</td>\n",
       "      <td>Piñón</td>\n",
       "      <td>105</td>\n",
       "      <td>G</td>\n",
       "    </tr>\n",
       "    <tr>\n",
       "      <th>2</th>\n",
       "      <td>S03</td>\n",
       "      <td>Queso</td>\n",
       "      <td>30</td>\n",
       "      <td>Ch</td>\n",
       "    </tr>\n",
       "    <tr>\n",
       "      <th>3</th>\n",
       "      <td>S02</td>\n",
       "      <td>Chango</td>\n",
       "      <td>60</td>\n",
       "      <td>Ch</td>\n",
       "    </tr>\n",
       "    <tr>\n",
       "      <th>4</th>\n",
       "      <td>S01</td>\n",
       "      <td>Choco</td>\n",
       "      <td>85</td>\n",
       "      <td>G</td>\n",
       "    </tr>\n",
       "    <tr>\n",
       "      <th>5</th>\n",
       "      <td>S01</td>\n",
       "      <td>Queso</td>\n",
       "      <td>45</td>\n",
       "      <td>M</td>\n",
       "    </tr>\n",
       "    <tr>\n",
       "      <th>6</th>\n",
       "      <td>S02</td>\n",
       "      <td>Ángel</td>\n",
       "      <td>120</td>\n",
       "      <td>G</td>\n",
       "    </tr>\n",
       "  </tbody>\n",
       "</table>\n",
       "</div>"
      ],
      "text/plain": [
       "  Sujeto      Sabor  Precio Tamaño\n",
       "0    S01  Chocolate      45      M\n",
       "1    S02      Piñón     105      G\n",
       "2    S03      Queso      30     Ch\n",
       "3    S02     Chango      60     Ch\n",
       "4    S01      Choco      85      G\n",
       "5    S01      Queso      45      M\n",
       "6    S02      Ángel     120      G"
      ]
     },
     "execution_count": 3,
     "metadata": {},
     "output_type": "execute_result"
    }
   ],
   "source": [
    "# Creamos un DataFrame\n",
    "df = pd.DataFrame(experimento)\n",
    "df "
   ]
  },
  {
   "cell_type": "code",
   "execution_count": 4,
   "id": "63e732f5-aa14-4748-b09e-8b390c8eec47",
   "metadata": {},
   "outputs": [
    {
     "data": {
      "text/html": [
       "<div>\n",
       "<style scoped>\n",
       "    .dataframe tbody tr th:only-of-type {\n",
       "        vertical-align: middle;\n",
       "    }\n",
       "\n",
       "    .dataframe tbody tr th {\n",
       "        vertical-align: top;\n",
       "    }\n",
       "\n",
       "    .dataframe thead th {\n",
       "        text-align: right;\n",
       "    }\n",
       "</style>\n",
       "<table border=\"1\" class=\"dataframe\">\n",
       "  <thead>\n",
       "    <tr style=\"text-align: right;\">\n",
       "      <th></th>\n",
       "      <th>Sujeto</th>\n",
       "      <th>Sabor</th>\n",
       "      <th>Precio</th>\n",
       "      <th>Tamaño</th>\n",
       "      <th>¿Decide comprarlo?</th>\n",
       "    </tr>\n",
       "  </thead>\n",
       "  <tbody>\n",
       "    <tr>\n",
       "      <th>0</th>\n",
       "      <td>S01</td>\n",
       "      <td>Chocolate</td>\n",
       "      <td>45</td>\n",
       "      <td>M</td>\n",
       "      <td>True</td>\n",
       "    </tr>\n",
       "    <tr>\n",
       "      <th>1</th>\n",
       "      <td>S02</td>\n",
       "      <td>Piñón</td>\n",
       "      <td>105</td>\n",
       "      <td>G</td>\n",
       "      <td>True</td>\n",
       "    </tr>\n",
       "    <tr>\n",
       "      <th>2</th>\n",
       "      <td>S03</td>\n",
       "      <td>Queso</td>\n",
       "      <td>30</td>\n",
       "      <td>Ch</td>\n",
       "      <td>False</td>\n",
       "    </tr>\n",
       "    <tr>\n",
       "      <th>3</th>\n",
       "      <td>S02</td>\n",
       "      <td>Chango</td>\n",
       "      <td>60</td>\n",
       "      <td>Ch</td>\n",
       "      <td>False</td>\n",
       "    </tr>\n",
       "    <tr>\n",
       "      <th>4</th>\n",
       "      <td>S01</td>\n",
       "      <td>Choco</td>\n",
       "      <td>85</td>\n",
       "      <td>G</td>\n",
       "      <td>True</td>\n",
       "    </tr>\n",
       "    <tr>\n",
       "      <th>5</th>\n",
       "      <td>S01</td>\n",
       "      <td>Queso</td>\n",
       "      <td>45</td>\n",
       "      <td>M</td>\n",
       "      <td>True</td>\n",
       "    </tr>\n",
       "    <tr>\n",
       "      <th>6</th>\n",
       "      <td>S02</td>\n",
       "      <td>Ángel</td>\n",
       "      <td>120</td>\n",
       "      <td>G</td>\n",
       "      <td>False</td>\n",
       "    </tr>\n",
       "  </tbody>\n",
       "</table>\n",
       "</div>"
      ],
      "text/plain": [
       "  Sujeto      Sabor  Precio Tamaño  ¿Decide comprarlo?\n",
       "0    S01  Chocolate      45      M                True\n",
       "1    S02      Piñón     105      G                True\n",
       "2    S03      Queso      30     Ch               False\n",
       "3    S02     Chango      60     Ch               False\n",
       "4    S01      Choco      85      G                True\n",
       "5    S01      Queso      45      M                True\n",
       "6    S02      Ángel     120      G               False"
      ]
     },
     "execution_count": 4,
     "metadata": {},
     "output_type": "execute_result"
    }
   ],
   "source": [
    "# Añadir una columna al DataFrame\n",
    "df['¿Decide comprarlo?'] = [True, True, False, False, True, True, False]\n",
    "df"
   ]
  },
  {
   "cell_type": "code",
   "execution_count": 5,
   "id": "73c9341d-d7d6-4e88-ad22-87a7437ad678",
   "metadata": {},
   "outputs": [
    {
     "data": {
      "text/html": [
       "<div>\n",
       "<style scoped>\n",
       "    .dataframe tbody tr th:only-of-type {\n",
       "        vertical-align: middle;\n",
       "    }\n",
       "\n",
       "    .dataframe tbody tr th {\n",
       "        vertical-align: top;\n",
       "    }\n",
       "\n",
       "    .dataframe thead th {\n",
       "        text-align: right;\n",
       "    }\n",
       "</style>\n",
       "<table border=\"1\" class=\"dataframe\">\n",
       "  <thead>\n",
       "    <tr style=\"text-align: right;\">\n",
       "      <th></th>\n",
       "      <th>Sujeto</th>\n",
       "      <th>Sabor</th>\n",
       "      <th>Precio</th>\n",
       "      <th>Tamaño</th>\n",
       "      <th>¿Decide comprarlo?</th>\n",
       "    </tr>\n",
       "  </thead>\n",
       "  <tbody>\n",
       "    <tr>\n",
       "      <th>0</th>\n",
       "      <td>S01</td>\n",
       "      <td>Chocolate</td>\n",
       "      <td>45</td>\n",
       "      <td>M</td>\n",
       "      <td>True</td>\n",
       "    </tr>\n",
       "    <tr>\n",
       "      <th>4</th>\n",
       "      <td>S01</td>\n",
       "      <td>Choco</td>\n",
       "      <td>85</td>\n",
       "      <td>G</td>\n",
       "      <td>True</td>\n",
       "    </tr>\n",
       "    <tr>\n",
       "      <th>5</th>\n",
       "      <td>S01</td>\n",
       "      <td>Queso</td>\n",
       "      <td>45</td>\n",
       "      <td>M</td>\n",
       "      <td>True</td>\n",
       "    </tr>\n",
       "  </tbody>\n",
       "</table>\n",
       "</div>"
      ],
      "text/plain": [
       "  Sujeto      Sabor  Precio Tamaño  ¿Decide comprarlo?\n",
       "0    S01  Chocolate      45      M                True\n",
       "4    S01      Choco      85      G                True\n",
       "5    S01      Queso      45      M                True"
      ]
     },
     "execution_count": 5,
     "metadata": {},
     "output_type": "execute_result"
    }
   ],
   "source": [
    "# Filtrar filas del DataFrame con 'S01'\n",
    "df[df['Sujeto'] == 'S01']"
   ]
  },
  {
   "cell_type": "code",
   "execution_count": 6,
   "id": "91ddc81b-0cc6-48e4-b045-79e3cf4c88fc",
   "metadata": {},
   "outputs": [
    {
     "data": {
      "text/html": [
       "<div>\n",
       "<style scoped>\n",
       "    .dataframe tbody tr th:only-of-type {\n",
       "        vertical-align: middle;\n",
       "    }\n",
       "\n",
       "    .dataframe tbody tr th {\n",
       "        vertical-align: top;\n",
       "    }\n",
       "\n",
       "    .dataframe thead th {\n",
       "        text-align: right;\n",
       "    }\n",
       "</style>\n",
       "<table border=\"1\" class=\"dataframe\">\n",
       "  <thead>\n",
       "    <tr style=\"text-align: right;\">\n",
       "      <th></th>\n",
       "      <th>Sujeto</th>\n",
       "      <th>Sabor</th>\n",
       "      <th>Precio</th>\n",
       "      <th>Tamaño</th>\n",
       "      <th>¿Decide comprarlo?</th>\n",
       "    </tr>\n",
       "  </thead>\n",
       "  <tbody>\n",
       "    <tr>\n",
       "      <th>1</th>\n",
       "      <td>S02</td>\n",
       "      <td>Piñón</td>\n",
       "      <td>105</td>\n",
       "      <td>G</td>\n",
       "      <td>True</td>\n",
       "    </tr>\n",
       "    <tr>\n",
       "      <th>3</th>\n",
       "      <td>S02</td>\n",
       "      <td>Chango</td>\n",
       "      <td>60</td>\n",
       "      <td>Ch</td>\n",
       "      <td>False</td>\n",
       "    </tr>\n",
       "    <tr>\n",
       "      <th>6</th>\n",
       "      <td>S02</td>\n",
       "      <td>Ángel</td>\n",
       "      <td>120</td>\n",
       "      <td>G</td>\n",
       "      <td>False</td>\n",
       "    </tr>\n",
       "  </tbody>\n",
       "</table>\n",
       "</div>"
      ],
      "text/plain": [
       "  Sujeto   Sabor  Precio Tamaño  ¿Decide comprarlo?\n",
       "1    S02   Piñón     105      G                True\n",
       "3    S02  Chango      60     Ch               False\n",
       "6    S02   Ángel     120      G               False"
      ]
     },
     "execution_count": 6,
     "metadata": {},
     "output_type": "execute_result"
    }
   ],
   "source": [
    "# Filtrar filas del DataFrame con 'S02'\n",
    "df[df['Sujeto'] == 'S02']"
   ]
  },
  {
   "cell_type": "code",
   "execution_count": 7,
   "id": "cde5e402-b7f0-43d9-b0a4-e7e3cbb6f117",
   "metadata": {},
   "outputs": [
    {
     "data": {
      "text/html": [
       "<div>\n",
       "<style scoped>\n",
       "    .dataframe tbody tr th:only-of-type {\n",
       "        vertical-align: middle;\n",
       "    }\n",
       "\n",
       "    .dataframe tbody tr th {\n",
       "        vertical-align: top;\n",
       "    }\n",
       "\n",
       "    .dataframe thead th {\n",
       "        text-align: right;\n",
       "    }\n",
       "</style>\n",
       "<table border=\"1\" class=\"dataframe\">\n",
       "  <thead>\n",
       "    <tr style=\"text-align: right;\">\n",
       "      <th></th>\n",
       "      <th>Sujeto</th>\n",
       "      <th>Sabor</th>\n",
       "      <th>Precio</th>\n",
       "      <th>Tamaño</th>\n",
       "      <th>¿Decide comprarlo?</th>\n",
       "    </tr>\n",
       "  </thead>\n",
       "  <tbody>\n",
       "    <tr>\n",
       "      <th>2</th>\n",
       "      <td>S03</td>\n",
       "      <td>Queso</td>\n",
       "      <td>30</td>\n",
       "      <td>Ch</td>\n",
       "      <td>False</td>\n",
       "    </tr>\n",
       "  </tbody>\n",
       "</table>\n",
       "</div>"
      ],
      "text/plain": [
       "  Sujeto  Sabor  Precio Tamaño  ¿Decide comprarlo?\n",
       "2    S03  Queso      30     Ch               False"
      ]
     },
     "execution_count": 7,
     "metadata": {},
     "output_type": "execute_result"
    }
   ],
   "source": [
    "# Filtrar filas del DataFrame con 'S03'\n",
    "df[df['Sujeto'] == 'S03']"
   ]
  },
  {
   "cell_type": "code",
   "execution_count": 8,
   "id": "6fa9deb7-07f4-4b89-bbf2-95d16767e7d4",
   "metadata": {},
   "outputs": [
    {
     "data": {
      "text/plain": [
       "0    False\n",
       "1    False\n",
       "2     True\n",
       "3    False\n",
       "4    False\n",
       "5    False\n",
       "6    False\n",
       "Name: Sujeto, dtype: bool"
      ]
     },
     "execution_count": 8,
     "metadata": {},
     "output_type": "execute_result"
    }
   ],
   "source": [
    "# Si en el código anterior omites el df[] inicial, obtienes 'True' en la fila donde se encuentra 'S03'\n",
    "df['Sujeto'] == 'S03'"
   ]
  },
  {
   "cell_type": "code",
   "execution_count": 9,
   "id": "14157d72-5040-4c76-a5b8-f031be8c1aa5",
   "metadata": {},
   "outputs": [
    {
     "data": {
      "text/html": [
       "<div>\n",
       "<style scoped>\n",
       "    .dataframe tbody tr th:only-of-type {\n",
       "        vertical-align: middle;\n",
       "    }\n",
       "\n",
       "    .dataframe tbody tr th {\n",
       "        vertical-align: top;\n",
       "    }\n",
       "\n",
       "    .dataframe thead tr th {\n",
       "        text-align: left;\n",
       "    }\n",
       "\n",
       "    .dataframe thead tr:last-of-type th {\n",
       "        text-align: right;\n",
       "    }\n",
       "</style>\n",
       "<table border=\"1\" class=\"dataframe\">\n",
       "  <thead>\n",
       "    <tr>\n",
       "      <th></th>\n",
       "      <th colspan=\"8\" halign=\"left\">Precio</th>\n",
       "    </tr>\n",
       "    <tr>\n",
       "      <th></th>\n",
       "      <th>count</th>\n",
       "      <th>mean</th>\n",
       "      <th>std</th>\n",
       "      <th>min</th>\n",
       "      <th>25%</th>\n",
       "      <th>50%</th>\n",
       "      <th>75%</th>\n",
       "      <th>max</th>\n",
       "    </tr>\n",
       "    <tr>\n",
       "      <th>Sujeto</th>\n",
       "      <th></th>\n",
       "      <th></th>\n",
       "      <th></th>\n",
       "      <th></th>\n",
       "      <th></th>\n",
       "      <th></th>\n",
       "      <th></th>\n",
       "      <th></th>\n",
       "    </tr>\n",
       "  </thead>\n",
       "  <tbody>\n",
       "    <tr>\n",
       "      <th>S01</th>\n",
       "      <td>3.0</td>\n",
       "      <td>58.333333</td>\n",
       "      <td>23.094011</td>\n",
       "      <td>45.0</td>\n",
       "      <td>45.0</td>\n",
       "      <td>45.0</td>\n",
       "      <td>65.0</td>\n",
       "      <td>85.0</td>\n",
       "    </tr>\n",
       "    <tr>\n",
       "      <th>S02</th>\n",
       "      <td>3.0</td>\n",
       "      <td>95.000000</td>\n",
       "      <td>31.224990</td>\n",
       "      <td>60.0</td>\n",
       "      <td>82.5</td>\n",
       "      <td>105.0</td>\n",
       "      <td>112.5</td>\n",
       "      <td>120.0</td>\n",
       "    </tr>\n",
       "    <tr>\n",
       "      <th>S03</th>\n",
       "      <td>1.0</td>\n",
       "      <td>30.000000</td>\n",
       "      <td>NaN</td>\n",
       "      <td>30.0</td>\n",
       "      <td>30.0</td>\n",
       "      <td>30.0</td>\n",
       "      <td>30.0</td>\n",
       "      <td>30.0</td>\n",
       "    </tr>\n",
       "  </tbody>\n",
       "</table>\n",
       "</div>"
      ],
      "text/plain": [
       "       Precio                                                       \n",
       "        count       mean        std   min   25%    50%    75%    max\n",
       "Sujeto                                                              \n",
       "S01       3.0  58.333333  23.094011  45.0  45.0   45.0   65.0   85.0\n",
       "S02       3.0  95.000000  31.224990  60.0  82.5  105.0  112.5  120.0\n",
       "S03       1.0  30.000000        NaN  30.0  30.0   30.0   30.0   30.0"
      ]
     },
     "execution_count": 9,
     "metadata": {},
     "output_type": "execute_result"
    }
   ],
   "source": [
    "# Obtener resumen estadístico por 'Sujeto' \n",
    "df_por_sujeto = df.groupby(by = 'Sujeto') # df.groupby() agrupa las filas con el mismo valor, en este caso por 'Sujeto'\n",
    "df_por_sujeto.describe() # .describe() da el resumen estadístico de cada agrupación en 'Sujeto'\n",
    "# Nota que, si evalúas una columna categórica como 'Sabor', no obtienes la std"
   ]
  },
  {
   "cell_type": "markdown",
   "id": "bf7f7dea-5f91-4a0c-b301-710a50fc7671",
   "metadata": {},
   "source": [
    "# Ejercicio:\n",
    "1. Crear un DataFrame de 200 filas con las columnas listadas abajo. Las columnas deben seguir una distribución normal.\n",
    "2. Agregar una columna 'Precisión' que tenga una distribución normal con mu = 0.92 y sigma = 0.08.\n",
    "Este DataSet pretende simular los resultados de un estudio que mide variables cognitivas y fisiológicas de diferentes regiones cerebrales, sujetos y condiciones experimentales.\n",
    "3. Generar el histograma de cuántos datos por sujeto se tienen y la proporción del neurotransmisor."
   ]
  },
  {
   "cell_type": "code",
   "execution_count": 10,
   "id": "dee3a202-ad94-4025-b5c4-a4e98539af18",
   "metadata": {},
   "outputs": [
    {
     "data": {
      "text/plain": [
       "(['S00', 'S01', 'S02', 'S03'],\n",
       " ['M', 'F'],\n",
       " ['Control', 'Experimental'],\n",
       " ['Hipocampo', 'PFC', 'AMY'],\n",
       " ['DA', '5-HT'])"
      ]
     },
     "execution_count": 10,
     "metadata": {},
     "output_type": "execute_result"
    }
   ],
   "source": [
    "# Definir columnas y sus valores\n",
    "sujetos = ['S' + str(i).zfill(2) for i in range(4)]\n",
    "genero = ['M', 'F']\n",
    "condicion = ['Control', 'Experimental']\n",
    "region = ['Hipocampo', 'PFC', 'AMY']\n",
    "neurotransmisores = ['DA', '5-HT']\n",
    "sujetos, genero, condicion, region, neurotransmisores"
   ]
  },
  {
   "cell_type": "code",
   "execution_count": 11,
   "id": "4414b57f-0890-4bd1-8077-dd915103e549",
   "metadata": {},
   "outputs": [
    {
     "data": {
      "text/html": [
       "<div>\n",
       "<style scoped>\n",
       "    .dataframe tbody tr th:only-of-type {\n",
       "        vertical-align: middle;\n",
       "    }\n",
       "\n",
       "    .dataframe tbody tr th {\n",
       "        vertical-align: top;\n",
       "    }\n",
       "\n",
       "    .dataframe thead th {\n",
       "        text-align: right;\n",
       "    }\n",
       "</style>\n",
       "<table border=\"1\" class=\"dataframe\">\n",
       "  <thead>\n",
       "    <tr style=\"text-align: right;\">\n",
       "      <th></th>\n",
       "      <th>Sujetos</th>\n",
       "      <th>Género</th>\n",
       "      <th>Condición</th>\n",
       "      <th>Región</th>\n",
       "      <th>Neurotransmisores</th>\n",
       "    </tr>\n",
       "  </thead>\n",
       "  <tbody>\n",
       "    <tr>\n",
       "      <th>0</th>\n",
       "      <td>S00</td>\n",
       "      <td>M</td>\n",
       "      <td>Experimental</td>\n",
       "      <td>PFC</td>\n",
       "      <td>DA</td>\n",
       "    </tr>\n",
       "    <tr>\n",
       "      <th>1</th>\n",
       "      <td>S03</td>\n",
       "      <td>M</td>\n",
       "      <td>Control</td>\n",
       "      <td>Hipocampo</td>\n",
       "      <td>5-HT</td>\n",
       "    </tr>\n",
       "    <tr>\n",
       "      <th>2</th>\n",
       "      <td>S02</td>\n",
       "      <td>F</td>\n",
       "      <td>Control</td>\n",
       "      <td>Hipocampo</td>\n",
       "      <td>5-HT</td>\n",
       "    </tr>\n",
       "    <tr>\n",
       "      <th>3</th>\n",
       "      <td>S01</td>\n",
       "      <td>M</td>\n",
       "      <td>Experimental</td>\n",
       "      <td>Hipocampo</td>\n",
       "      <td>DA</td>\n",
       "    </tr>\n",
       "    <tr>\n",
       "      <th>4</th>\n",
       "      <td>S03</td>\n",
       "      <td>F</td>\n",
       "      <td>Experimental</td>\n",
       "      <td>AMY</td>\n",
       "      <td>5-HT</td>\n",
       "    </tr>\n",
       "    <tr>\n",
       "      <th>...</th>\n",
       "      <td>...</td>\n",
       "      <td>...</td>\n",
       "      <td>...</td>\n",
       "      <td>...</td>\n",
       "      <td>...</td>\n",
       "    </tr>\n",
       "    <tr>\n",
       "      <th>195</th>\n",
       "      <td>S02</td>\n",
       "      <td>M</td>\n",
       "      <td>Experimental</td>\n",
       "      <td>Hipocampo</td>\n",
       "      <td>5-HT</td>\n",
       "    </tr>\n",
       "    <tr>\n",
       "      <th>196</th>\n",
       "      <td>S00</td>\n",
       "      <td>F</td>\n",
       "      <td>Control</td>\n",
       "      <td>PFC</td>\n",
       "      <td>5-HT</td>\n",
       "    </tr>\n",
       "    <tr>\n",
       "      <th>197</th>\n",
       "      <td>S03</td>\n",
       "      <td>M</td>\n",
       "      <td>Control</td>\n",
       "      <td>Hipocampo</td>\n",
       "      <td>DA</td>\n",
       "    </tr>\n",
       "    <tr>\n",
       "      <th>198</th>\n",
       "      <td>S00</td>\n",
       "      <td>M</td>\n",
       "      <td>Experimental</td>\n",
       "      <td>Hipocampo</td>\n",
       "      <td>DA</td>\n",
       "    </tr>\n",
       "    <tr>\n",
       "      <th>199</th>\n",
       "      <td>S03</td>\n",
       "      <td>M</td>\n",
       "      <td>Experimental</td>\n",
       "      <td>PFC</td>\n",
       "      <td>DA</td>\n",
       "    </tr>\n",
       "  </tbody>\n",
       "</table>\n",
       "<p>200 rows × 5 columns</p>\n",
       "</div>"
      ],
      "text/plain": [
       "    Sujetos Género     Condición     Región Neurotransmisores\n",
       "0       S00      M  Experimental        PFC                DA\n",
       "1       S03      M       Control  Hipocampo              5-HT\n",
       "2       S02      F       Control  Hipocampo              5-HT\n",
       "3       S01      M  Experimental  Hipocampo                DA\n",
       "4       S03      F  Experimental        AMY              5-HT\n",
       "..      ...    ...           ...        ...               ...\n",
       "195     S02      M  Experimental  Hipocampo              5-HT\n",
       "196     S00      F       Control        PFC              5-HT\n",
       "197     S03      M       Control  Hipocampo                DA\n",
       "198     S00      M  Experimental  Hipocampo                DA\n",
       "199     S03      M  Experimental        PFC                DA\n",
       "\n",
       "[200 rows x 5 columns]"
      ]
     },
     "execution_count": 11,
     "metadata": {},
     "output_type": "execute_result"
    }
   ],
   "source": [
    "# Generar 200 valores aleatorios para cada columna, generando las 200 filas\n",
    "df = pd.DataFrame({\n",
    "    'Sujetos': [sujetos[i] for i in np.random.randint(len(sujetos), size = 200)],\n",
    "    'Género': [genero[i] for i in np.random.randint(len(genero), size = 200)],\n",
    "    'Condición': [condicion[i] for i in np.random.randint(len(condicion), size = 200)],\n",
    "    'Región': [region[i] for i in np.random.randint(len(region), size = 200)],\n",
    "    'Neurotransmisores': [neurotransmisores[i] for i in np.random.randint(len(neurotransmisores), size = 200)]\n",
    "})\n",
    "df"
   ]
  },
  {
   "cell_type": "code",
   "execution_count": 12,
   "id": "bd8def9c-f68f-46cc-b078-e268d39cf47b",
   "metadata": {},
   "outputs": [
    {
     "data": {
      "text/html": [
       "<div>\n",
       "<style scoped>\n",
       "    .dataframe tbody tr th:only-of-type {\n",
       "        vertical-align: middle;\n",
       "    }\n",
       "\n",
       "    .dataframe tbody tr th {\n",
       "        vertical-align: top;\n",
       "    }\n",
       "\n",
       "    .dataframe thead th {\n",
       "        text-align: right;\n",
       "    }\n",
       "</style>\n",
       "<table border=\"1\" class=\"dataframe\">\n",
       "  <thead>\n",
       "    <tr style=\"text-align: right;\">\n",
       "      <th></th>\n",
       "      <th>Sujetos</th>\n",
       "      <th>Género</th>\n",
       "      <th>Condición</th>\n",
       "      <th>Región</th>\n",
       "      <th>Neurotransmisores</th>\n",
       "      <th>Precisión</th>\n",
       "    </tr>\n",
       "  </thead>\n",
       "  <tbody>\n",
       "    <tr>\n",
       "      <th>0</th>\n",
       "      <td>S00</td>\n",
       "      <td>M</td>\n",
       "      <td>Experimental</td>\n",
       "      <td>PFC</td>\n",
       "      <td>DA</td>\n",
       "      <td>1.018530</td>\n",
       "    </tr>\n",
       "    <tr>\n",
       "      <th>1</th>\n",
       "      <td>S03</td>\n",
       "      <td>M</td>\n",
       "      <td>Control</td>\n",
       "      <td>Hipocampo</td>\n",
       "      <td>5-HT</td>\n",
       "      <td>1.009869</td>\n",
       "    </tr>\n",
       "    <tr>\n",
       "      <th>2</th>\n",
       "      <td>S02</td>\n",
       "      <td>F</td>\n",
       "      <td>Control</td>\n",
       "      <td>Hipocampo</td>\n",
       "      <td>5-HT</td>\n",
       "      <td>1.024311</td>\n",
       "    </tr>\n",
       "    <tr>\n",
       "      <th>3</th>\n",
       "      <td>S01</td>\n",
       "      <td>M</td>\n",
       "      <td>Experimental</td>\n",
       "      <td>Hipocampo</td>\n",
       "      <td>DA</td>\n",
       "      <td>0.972219</td>\n",
       "    </tr>\n",
       "    <tr>\n",
       "      <th>4</th>\n",
       "      <td>S03</td>\n",
       "      <td>F</td>\n",
       "      <td>Experimental</td>\n",
       "      <td>AMY</td>\n",
       "      <td>5-HT</td>\n",
       "      <td>0.990765</td>\n",
       "    </tr>\n",
       "    <tr>\n",
       "      <th>...</th>\n",
       "      <td>...</td>\n",
       "      <td>...</td>\n",
       "      <td>...</td>\n",
       "      <td>...</td>\n",
       "      <td>...</td>\n",
       "      <td>...</td>\n",
       "    </tr>\n",
       "    <tr>\n",
       "      <th>195</th>\n",
       "      <td>S02</td>\n",
       "      <td>M</td>\n",
       "      <td>Experimental</td>\n",
       "      <td>Hipocampo</td>\n",
       "      <td>5-HT</td>\n",
       "      <td>1.020129</td>\n",
       "    </tr>\n",
       "    <tr>\n",
       "      <th>196</th>\n",
       "      <td>S00</td>\n",
       "      <td>F</td>\n",
       "      <td>Control</td>\n",
       "      <td>PFC</td>\n",
       "      <td>5-HT</td>\n",
       "      <td>0.862402</td>\n",
       "    </tr>\n",
       "    <tr>\n",
       "      <th>197</th>\n",
       "      <td>S03</td>\n",
       "      <td>M</td>\n",
       "      <td>Control</td>\n",
       "      <td>Hipocampo</td>\n",
       "      <td>DA</td>\n",
       "      <td>0.748425</td>\n",
       "    </tr>\n",
       "    <tr>\n",
       "      <th>198</th>\n",
       "      <td>S00</td>\n",
       "      <td>M</td>\n",
       "      <td>Experimental</td>\n",
       "      <td>Hipocampo</td>\n",
       "      <td>DA</td>\n",
       "      <td>0.971447</td>\n",
       "    </tr>\n",
       "    <tr>\n",
       "      <th>199</th>\n",
       "      <td>S03</td>\n",
       "      <td>M</td>\n",
       "      <td>Experimental</td>\n",
       "      <td>PFC</td>\n",
       "      <td>DA</td>\n",
       "      <td>0.952672</td>\n",
       "    </tr>\n",
       "  </tbody>\n",
       "</table>\n",
       "<p>200 rows × 6 columns</p>\n",
       "</div>"
      ],
      "text/plain": [
       "    Sujetos Género     Condición     Región Neurotransmisores  Precisión\n",
       "0       S00      M  Experimental        PFC                DA   1.018530\n",
       "1       S03      M       Control  Hipocampo              5-HT   1.009869\n",
       "2       S02      F       Control  Hipocampo              5-HT   1.024311\n",
       "3       S01      M  Experimental  Hipocampo                DA   0.972219\n",
       "4       S03      F  Experimental        AMY              5-HT   0.990765\n",
       "..      ...    ...           ...        ...               ...        ...\n",
       "195     S02      M  Experimental  Hipocampo              5-HT   1.020129\n",
       "196     S00      F       Control        PFC              5-HT   0.862402\n",
       "197     S03      M       Control  Hipocampo                DA   0.748425\n",
       "198     S00      M  Experimental  Hipocampo                DA   0.971447\n",
       "199     S03      M  Experimental        PFC                DA   0.952672\n",
       "\n",
       "[200 rows x 6 columns]"
      ]
     },
     "execution_count": 12,
     "metadata": {},
     "output_type": "execute_result"
    }
   ],
   "source": [
    "df['Precisión'] = np.random.normal(loc = 0.92, scale = 0.08, size = 200)\n",
    "df"
   ]
  },
  {
   "cell_type": "code",
   "execution_count": 13,
   "id": "80375def-6965-4495-973b-7653505f0a50",
   "metadata": {},
   "outputs": [
    {
     "data": {
      "text/plain": [
       "<Axes: >"
      ]
     },
     "execution_count": 13,
     "metadata": {},
     "output_type": "execute_result"
    },
    {
     "data": {
      "image/png": "[encoded data removed]",
      "text/plain": [
       "<Figure size 640x480 with 1 Axes>"
      ]
     },
     "metadata": {},
     "output_type": "display_data"
    }
   ],
   "source": [
    "# Histograma de cuántos datos (filas) por sujetos se tienen\n",
    "df['Sujetos'].hist(\n",
    "    color='olive',\n",
    "    alpha = 0.3, # Transparencia\n",
    ")\n",
    "\n",
    "# PREGUNTA: ¿CÓMO HACER SORT() PARA PONER PRIMERO S00,..., S03?"
   ]
  },
  {
   "cell_type": "code",
   "execution_count": 14,
   "id": "f8d9409d-3e70-4777-8357-65bc4f0f67c3",
   "metadata": {},
   "outputs": [
    {
     "data": {
      "text/plain": [
       "<Axes: >"
      ]
     },
     "execution_count": 14,
     "metadata": {},
     "output_type": "execute_result"
    },
    {
     "data": {
      "image/png": "[encoded data removed]",
      "text/plain": [
       "<Figure size 640x480 with 1 Axes>"
      ]
     },
     "metadata": {},
     "output_type": "display_data"
    }
   ],
   "source": [
    "# Histograma de cuántos datos (filas) por neurotransmisores se tienen\n",
    "df['Neurotransmisores'].hist()"
   ]
  },
  {
   "cell_type": "markdown",
   "id": "50173aaa-26e8-4511-9a4d-b925f87bc6f0",
   "metadata": {},
   "source": [
    "El profesor utilizó otro método. Conviene echarle un ojo."
   ]
  },
  {
   "cell_type": "markdown",
   "id": "908a796c-dd9d-4019-a01a-b7f53bb2467e",
   "metadata": {},
   "source": [
    "# Tarea 24-sept:\n",
    "1. Para cada sujeto, sacar la proporción del tipo de condición.\n",
    "2. Para cada sujeto, calcular el máximo, el mínimo y la media de su precisión.\n",
    "3. Para cada condición, hacer el histograma de la región activada.\n",
    "4. Utilizando dos métodos: filtrado de DataFrames y usando groupby."
   ]
  },
  {
   "cell_type": "code",
   "execution_count": 16,
   "id": "61f0fd8f-a6e6-4243-bf35-4a4e85c7d7af",
   "metadata": {},
   "outputs": [
    {
     "data": {
      "text/plain": [
       "dict_keys(['S00', 'S01', 'S02', 'S03'])"
      ]
     },
     "execution_count": 16,
     "metadata": {},
     "output_type": "execute_result"
    }
   ],
   "source": [
    "df.groupby(by = 'Sujetos').groups.keys()"
   ]
  },
  {
   "cell_type": "code",
   "execution_count": 17,
   "id": "497f48b4-c410-4825-acbb-00e4a3ab0564",
   "metadata": {},
   "outputs": [
    {
     "data": {
      "text/html": [
       "<div>\n",
       "<style scoped>\n",
       "    .dataframe tbody tr th:only-of-type {\n",
       "        vertical-align: middle;\n",
       "    }\n",
       "\n",
       "    .dataframe tbody tr th {\n",
       "        vertical-align: top;\n",
       "    }\n",
       "\n",
       "    .dataframe thead th {\n",
       "        text-align: right;\n",
       "    }\n",
       "</style>\n",
       "<table border=\"1\" class=\"dataframe\">\n",
       "  <thead>\n",
       "    <tr style=\"text-align: right;\">\n",
       "      <th></th>\n",
       "      <th>Sujetos</th>\n",
       "      <th>Género</th>\n",
       "      <th>Condición</th>\n",
       "      <th>Región</th>\n",
       "      <th>Neurotransmisores</th>\n",
       "      <th>Precisión</th>\n",
       "    </tr>\n",
       "  </thead>\n",
       "  <tbody>\n",
       "    <tr>\n",
       "      <th>0</th>\n",
       "      <td>S00</td>\n",
       "      <td>M</td>\n",
       "      <td>Experimental</td>\n",
       "      <td>PFC</td>\n",
       "      <td>DA</td>\n",
       "      <td>1.018530</td>\n",
       "    </tr>\n",
       "    <tr>\n",
       "      <th>6</th>\n",
       "      <td>S00</td>\n",
       "      <td>F</td>\n",
       "      <td>Experimental</td>\n",
       "      <td>PFC</td>\n",
       "      <td>5-HT</td>\n",
       "      <td>0.879021</td>\n",
       "    </tr>\n",
       "    <tr>\n",
       "      <th>8</th>\n",
       "      <td>S00</td>\n",
       "      <td>M</td>\n",
       "      <td>Experimental</td>\n",
       "      <td>PFC</td>\n",
       "      <td>DA</td>\n",
       "      <td>0.917068</td>\n",
       "    </tr>\n",
       "  </tbody>\n",
       "</table>\n",
       "</div>"
      ],
      "text/plain": [
       "  Sujetos Género     Condición Región Neurotransmisores  Precisión\n",
       "0     S00      M  Experimental    PFC                DA   1.018530\n",
       "6     S00      F  Experimental    PFC              5-HT   0.879021\n",
       "8     S00      M  Experimental    PFC                DA   0.917068"
      ]
     },
     "execution_count": 17,
     "metadata": {},
     "output_type": "execute_result"
    }
   ],
   "source": [
    "df.groupby(by = 'Sujetos').get_group('S00').head(3)"
   ]
  },
  {
   "cell_type": "code",
   "execution_count": 21,
   "id": "17295505-40d4-45e6-890b-dbb17ef766a4",
   "metadata": {},
   "outputs": [
    {
     "data": {
      "text/plain": [
       "<pandas.core.groupby.generic.DataFrameGroupBy object at 0x00000267B2562D50>"
      ]
     },
     "execution_count": 21,
     "metadata": {},
     "output_type": "execute_result"
    }
   ],
   "source": [
    "grupos = df.groupby(by = ['Sujetos', 'Condición'])\n",
    "grupos"
   ]
  },
  {
   "cell_type": "code",
   "execution_count": 23,
   "id": "ece13a85-bc9d-4982-8bc0-a56801d96a04",
   "metadata": {},
   "outputs": [
    {
     "data": {
      "text/plain": [
       "dict_keys([('S00', 'Control'), ('S00', 'Experimental'), ('S01', 'Control'), ('S01', 'Experimental'), ('S02', 'Control'), ('S02', 'Experimental'), ('S03', 'Control'), ('S03', 'Experimental')])"
      ]
     },
     "execution_count": 23,
     "metadata": {},
     "output_type": "execute_result"
    }
   ],
   "source": [
    "llaves = grupos.groups.keys()\n",
    "llaves"
   ]
  },
  {
   "cell_type": "code",
   "execution_count": 24,
   "id": "099172c5-ba94-4042-9b6d-27b28b9fcc24",
   "metadata": {},
   "outputs": [
    {
     "data": {
      "text/html": [
       "<div>\n",
       "<style scoped>\n",
       "    .dataframe tbody tr th:only-of-type {\n",
       "        vertical-align: middle;\n",
       "    }\n",
       "\n",
       "    .dataframe tbody tr th {\n",
       "        vertical-align: top;\n",
       "    }\n",
       "\n",
       "    .dataframe thead th {\n",
       "        text-align: right;\n",
       "    }\n",
       "</style>\n",
       "<table border=\"1\" class=\"dataframe\">\n",
       "  <thead>\n",
       "    <tr style=\"text-align: right;\">\n",
       "      <th></th>\n",
       "      <th>Sujetos</th>\n",
       "      <th>Género</th>\n",
       "      <th>Condición</th>\n",
       "      <th>Región</th>\n",
       "      <th>Neurotransmisores</th>\n",
       "      <th>Precisión</th>\n",
       "    </tr>\n",
       "  </thead>\n",
       "  <tbody>\n",
       "    <tr>\n",
       "      <th>15</th>\n",
       "      <td>S00</td>\n",
       "      <td>F</td>\n",
       "      <td>Control</td>\n",
       "      <td>Hipocampo</td>\n",
       "      <td>DA</td>\n",
       "      <td>1.020244</td>\n",
       "    </tr>\n",
       "    <tr>\n",
       "      <th>22</th>\n",
       "      <td>S00</td>\n",
       "      <td>M</td>\n",
       "      <td>Control</td>\n",
       "      <td>Hipocampo</td>\n",
       "      <td>DA</td>\n",
       "      <td>0.987406</td>\n",
       "    </tr>\n",
       "    <tr>\n",
       "      <th>24</th>\n",
       "      <td>S00</td>\n",
       "      <td>F</td>\n",
       "      <td>Control</td>\n",
       "      <td>PFC</td>\n",
       "      <td>5-HT</td>\n",
       "      <td>0.891435</td>\n",
       "    </tr>\n",
       "  </tbody>\n",
       "</table>\n",
       "</div>"
      ],
      "text/plain": [
       "   Sujetos Género Condición     Región Neurotransmisores  Precisión\n",
       "15     S00      F   Control  Hipocampo                DA   1.020244\n",
       "22     S00      M   Control  Hipocampo                DA   0.987406\n",
       "24     S00      F   Control        PFC              5-HT   0.891435"
      ]
     },
     "execution_count": 24,
     "metadata": {},
     "output_type": "execute_result"
    }
   ],
   "source": [
    "grupos.get_group(list(llaves)[0]).head(3)"
   ]
  },
  {
   "cell_type": "code",
   "execution_count": 28,
   "id": "59e82f02-e65d-4cfa-85dc-eecba0ec0488",
   "metadata": {},
   "outputs": [
    {
     "data": {
      "text/html": [
       "<div>\n",
       "<style scoped>\n",
       "    .dataframe tbody tr th:only-of-type {\n",
       "        vertical-align: middle;\n",
       "    }\n",
       "\n",
       "    .dataframe tbody tr th {\n",
       "        vertical-align: top;\n",
       "    }\n",
       "\n",
       "    .dataframe thead th {\n",
       "        text-align: right;\n",
       "    }\n",
       "</style>\n",
       "<table border=\"1\" class=\"dataframe\">\n",
       "  <thead>\n",
       "    <tr style=\"text-align: right;\">\n",
       "      <th></th>\n",
       "      <th>Sujetos</th>\n",
       "      <th>Género</th>\n",
       "      <th>Condición</th>\n",
       "      <th>Región</th>\n",
       "      <th>Neurotransmisores</th>\n",
       "      <th>Precisión</th>\n",
       "    </tr>\n",
       "  </thead>\n",
       "  <tbody>\n",
       "    <tr>\n",
       "      <th>15</th>\n",
       "      <td>S00</td>\n",
       "      <td>F</td>\n",
       "      <td>Control</td>\n",
       "      <td>Hipocampo</td>\n",
       "      <td>DA</td>\n",
       "      <td>1.020244</td>\n",
       "    </tr>\n",
       "    <tr>\n",
       "      <th>22</th>\n",
       "      <td>S00</td>\n",
       "      <td>M</td>\n",
       "      <td>Control</td>\n",
       "      <td>Hipocampo</td>\n",
       "      <td>DA</td>\n",
       "      <td>0.987406</td>\n",
       "    </tr>\n",
       "    <tr>\n",
       "      <th>24</th>\n",
       "      <td>S00</td>\n",
       "      <td>F</td>\n",
       "      <td>Control</td>\n",
       "      <td>PFC</td>\n",
       "      <td>5-HT</td>\n",
       "      <td>0.891435</td>\n",
       "    </tr>\n",
       "  </tbody>\n",
       "</table>\n",
       "</div>"
      ],
      "text/plain": [
       "   Sujetos Género Condición     Región Neurotransmisores  Precisión\n",
       "15     S00      F   Control  Hipocampo                DA   1.020244\n",
       "22     S00      M   Control  Hipocampo                DA   0.987406\n",
       "24     S00      F   Control        PFC              5-HT   0.891435"
      ]
     },
     "execution_count": 28,
     "metadata": {},
     "output_type": "execute_result"
    }
   ],
   "source": [
    "# Método 1: agrupación doble\n",
    "control = df[df['Sujetos'] == 'S00']\n",
    "sujeto0 = control[control['Condición'] == 'Control']\n",
    "sujeto0.head(3)"
   ]
  },
  {
   "cell_type": "code",
   "execution_count": 34,
   "id": "9c0d0d13-8bc6-4121-b7b6-9cc7cc6f2f7c",
   "metadata": {},
   "outputs": [
    {
     "data": {
      "text/html": [
       "<div>\n",
       "<style scoped>\n",
       "    .dataframe tbody tr th:only-of-type {\n",
       "        vertical-align: middle;\n",
       "    }\n",
       "\n",
       "    .dataframe tbody tr th {\n",
       "        vertical-align: top;\n",
       "    }\n",
       "\n",
       "    .dataframe thead th {\n",
       "        text-align: right;\n",
       "    }\n",
       "</style>\n",
       "<table border=\"1\" class=\"dataframe\">\n",
       "  <thead>\n",
       "    <tr style=\"text-align: right;\">\n",
       "      <th></th>\n",
       "      <th>Sujetos</th>\n",
       "      <th>Género</th>\n",
       "      <th>Condición</th>\n",
       "      <th>Región</th>\n",
       "      <th>Neurotransmisores</th>\n",
       "      <th>Precisión</th>\n",
       "    </tr>\n",
       "  </thead>\n",
       "  <tbody>\n",
       "    <tr>\n",
       "      <th>0</th>\n",
       "      <td>S00</td>\n",
       "      <td>M</td>\n",
       "      <td>Experimental</td>\n",
       "      <td>PFC</td>\n",
       "      <td>DA</td>\n",
       "      <td>1.018530</td>\n",
       "    </tr>\n",
       "    <tr>\n",
       "      <th>6</th>\n",
       "      <td>S00</td>\n",
       "      <td>F</td>\n",
       "      <td>Experimental</td>\n",
       "      <td>PFC</td>\n",
       "      <td>5-HT</td>\n",
       "      <td>0.879021</td>\n",
       "    </tr>\n",
       "    <tr>\n",
       "      <th>8</th>\n",
       "      <td>S00</td>\n",
       "      <td>M</td>\n",
       "      <td>Experimental</td>\n",
       "      <td>PFC</td>\n",
       "      <td>DA</td>\n",
       "      <td>0.917068</td>\n",
       "    </tr>\n",
       "  </tbody>\n",
       "</table>\n",
       "</div>"
      ],
      "text/plain": [
       "  Sujetos Género     Condición Región Neurotransmisores  Precisión\n",
       "0     S00      M  Experimental    PFC                DA   1.018530\n",
       "6     S00      F  Experimental    PFC              5-HT   0.879021\n",
       "8     S00      M  Experimental    PFC                DA   0.917068"
      ]
     },
     "execution_count": 34,
     "metadata": {},
     "output_type": "execute_result"
    }
   ],
   "source": [
    "# Método 2: agrupación doble\n",
    "sujeto0 = df[(df.Sujetos == 'S00') & ~(df.Condición == 'Control')]\n",
    "sujeto0 = df[(df.Sujetos == 'S00') & (df.Condición != 'Control')]\n",
    "sujeto0.head(3)"
   ]
  }
 ],
 "metadata": {
  "kernelspec": {
   "display_name": "Python 3 (ipykernel)",
   "language": "python",
   "name": "python3"
  },
  "language_info": {
   "codemirror_mode": {
    "name": "ipython",
    "version": 3
   },
   "file_extension": ".py",
   "mimetype": "text/x-python",
   "name": "python",
   "nbconvert_exporter": "python",
   "pygments_lexer": "ipython3",
   "version": "3.13.7"
  }
 },
 "nbformat": 4,
 "nbformat_minor": 5
}
