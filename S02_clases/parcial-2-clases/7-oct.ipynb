{
 "cells": [
  {
   "cell_type": "code",
   "execution_count": 3,
   "id": "3dbddfc3-11c4-4fca-acf1-37eed13e0f22",
   "metadata": {},
   "outputs": [],
   "source": [
    "import seaborn as sns"
   ]
  },
  {
   "cell_type": "code",
   "execution_count": null,
   "id": "9cef634a-6d7a-44b2-bc7c-4d13d88ff473",
   "metadata": {},
   "outputs": [],
   "source": []
  },
  {
   "cell_type": "code",
   "execution_count": 4,
   "id": "4dfc5ee0-bccd-448d-9651-780569b22a45",
   "metadata": {},
   "outputs": [
    {
     "ename": "NameError",
     "evalue": "name 'motor_df' is not defined",
     "output_type": "error",
     "traceback": [
      "\u001b[31m---------------------------------------------------------------------------\u001b[39m",
      "\u001b[31mNameError\u001b[39m                                 Traceback (most recent call last)",
      "\u001b[36mCell\u001b[39m\u001b[36m \u001b[39m\u001b[32mIn[4]\u001b[39m\u001b[32m, line 2\u001b[39m\n\u001b[32m      1\u001b[39m \u001b[38;5;66;03m# Crear mapa de calor \u001b[39;00m\n\u001b[32m----> \u001b[39m\u001b[32m2\u001b[39m ax = sns.heatmap(\u001b[43mmotor_df\u001b[49m, \n\u001b[32m      3\u001b[39m                  annot = \u001b[38;5;28;01mTrue\u001b[39;00m, cmap = \u001b[33m'\u001b[39m\u001b[33mhot\u001b[39m\u001b[33m'\u001b[39m, fmt = \u001b[33m'\u001b[39m\u001b[33m.2f\u001b[39m\u001b[33m'\u001b[39m,\n\u001b[32m      4\u001b[39m                  xticklabels = motor_df.columns, yticklabels = motor_df.index)\n\u001b[32m      5\u001b[39m ax.set(xlabels = \u001b[33m'\u001b[39m\u001b[33mChannels\u001b[39m\u001b[33m'\u001b[39m, ylabel = \u001b[33m'\u001b[39m\u001b[33mChannels\u001b[39m\u001b[33m'\u001b[39m)\n\u001b[32m      6\u001b[39m plt.show()\n",
      "\u001b[31mNameError\u001b[39m: name 'motor_df' is not defined"
     ]
    }
   ],
   "source": [
    "# Crear mapa de calor \n",
    "ax = sns.heatmap(motord_df, \n",
    "                 annot = True, cmap = 'hot', fmt = '.2f',\n",
    "                 xticklabels = motor_df.columns, yticklabels = motor_df.index)\n",
    "ax.set(xlabels = 'Channels', ylabel = 'Channels')\n",
    "plt.show()"
   ]
  },
  {
   "cell_type": "code",
   "execution_count": null,
   "id": "f908bea4-3599-44eb-b301-56c5f40fa452",
   "metadata": {},
   "outputs": [],
   "source": [
    "# Tarea: qué habría que modificiar para que en la diagonal salgan cero"
   ]
  }
 ],
 "metadata": {
  "kernelspec": {
   "display_name": "Python 3 (ipykernel)",
   "language": "python",
   "name": "python3"
  },
  "language_info": {
   "codemirror_mode": {
    "name": "ipython",
    "version": 3
   },
   "file_extension": ".py",
   "mimetype": "text/x-python",
   "name": "python",
   "nbconvert_exporter": "python",
   "pygments_lexer": "ipython3",
   "version": "3.13.7"
  }
 },
 "nbformat": 4,
 "nbformat_minor": 5
}
