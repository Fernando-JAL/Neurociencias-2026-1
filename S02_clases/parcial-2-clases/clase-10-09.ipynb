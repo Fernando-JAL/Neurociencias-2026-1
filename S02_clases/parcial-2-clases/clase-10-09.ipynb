{
 "cells": [
  {
   "cell_type": "code",
   "execution_count": null,
   "id": "cf7170d5-8a21-4cf4-9f51-84d2d2b66f28",
   "metadata": {},
   "outputs": [],
   "source": []
  }
 ],
 "metadata": {
  "kernelspec": {
   "display_name": "",
   "name": ""
  },
  "language_info": {
   "name": ""
  }
 },
 "nbformat": 4,
 "nbformat_minor": 5
}
