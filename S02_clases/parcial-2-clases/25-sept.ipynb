{
 "cells": [
  {
   "cell_type": "code",
   "execution_count": 26,
   "id": "7b6ec9c3-61bc-427b-a0f9-46ec09f66fca",
   "metadata": {},
   "outputs": [
    {
     "data": {
      "text/plain": [
       "25"
      ]
     },
     "execution_count": 26,
     "metadata": {},
     "output_type": "execute_result"
    }
   ],
   "source": [
    "# Función Lambda\n",
    "def fx(x):\n",
    "    return x**2\n",
    "fx(5)"
   ]
  },
  {
   "cell_type": "code",
   "execution_count": 3,
   "id": "fca3376e-b01a-428f-bde3-02b11f426a5f",
   "metadata": {},
   "outputs": [
    {
     "data": {
      "text/plain": [
       "25"
      ]
     },
     "execution_count": 3,
     "metadata": {},
     "output_type": "execute_result"
    }
   ],
   "source": [
    "# Función Lambda Equivalente\n",
    "fx_lambda = lambda x: x**2\n",
    "fx_lambda(5)"
   ]
  },
  {
   "cell_type": "code",
   "execution_count": 4,
   "id": "02232f4d-a15e-4699-85af-7489e2ac5889",
   "metadata": {},
   "outputs": [
    {
     "data": {
      "text/plain": [
       "'aíraM evA'"
      ]
     },
     "execution_count": 4,
     "metadata": {},
     "output_type": "execute_result"
    }
   ],
   "source": [
    "def fx_str(string):\n",
    "    return string[::-1]\n",
    "fx_str('Ave María')"
   ]
  },
  {
   "cell_type": "code",
   "execution_count": 5,
   "id": "a641bc91-0e15-4e8a-9256-2daeb32eefc1",
   "metadata": {},
   "outputs": [
    {
     "data": {
      "text/plain": [
       "13"
      ]
     },
     "execution_count": 5,
     "metadata": {},
     "output_type": "execute_result"
    }
   ],
   "source": [
    "def fx(x,y):\n",
    "    return x + y\n",
    "fx(5, 8)"
   ]
  },
  {
   "cell_type": "code",
   "execution_count": 6,
   "id": "f340db7c-673e-4003-a2e5-678260d9cab5",
   "metadata": {},
   "outputs": [
    {
     "data": {
      "text/plain": [
       "13"
      ]
     },
     "execution_count": 6,
     "metadata": {},
     "output_type": "execute_result"
    }
   ],
   "source": [
    "fx_lda = lambda x, y: x + y\n",
    "fx_lda(5, 8)"
   ]
  },
  {
   "cell_type": "code",
   "execution_count": 7,
   "id": "9ced509e-933f-4039-867f-fc605961a6a5",
   "metadata": {},
   "outputs": [
    {
     "data": {
      "text/plain": [
       "(3, -2)"
      ]
     },
     "execution_count": 7,
     "metadata": {},
     "output_type": "execute_result"
    }
   ],
   "source": [
    "def fx(a, b, c):\n",
    "    return a + b, a - c\n",
    "fx(1, 2, 3)"
   ]
  },
  {
   "cell_type": "code",
   "execution_count": 12,
   "id": "156df779-ee7a-4288-bf93-9f9e89077c8d",
   "metadata": {},
   "outputs": [
    {
     "data": {
      "text/plain": [
       "(3, -2)"
      ]
     },
     "execution_count": 12,
     "metadata": {},
     "output_type": "execute_result"
    }
   ],
   "source": [
    "fx_lda = lambda a, b, c: (a + b, a - c)\n",
    "fx_lda(1, 2, 3)"
   ]
  },
  {
   "cell_type": "code",
   "execution_count": 17,
   "id": "9cbed6ef-bf41-49ac-9edb-06d02a80f505",
   "metadata": {},
   "outputs": [
    {
     "data": {
      "text/plain": [
       "[(12, -52), (7, 5), (2, 0), (1, 8)]"
      ]
     },
     "execution_count": 17,
     "metadata": {},
     "output_type": "execute_result"
    }
   ],
   "source": [
    "lista = [(1,8), (7,5), (12,-52), (2,0)]\n",
    "# Ordenar respecto al primer elemento de las tuplas\n",
    "lista.sort(reverse = True) \n",
    "lista"
   ]
  },
  {
   "cell_type": "code",
   "execution_count": 23,
   "id": "5496f9c3-ae63-4a64-af65-6ec635b256f9",
   "metadata": {},
   "outputs": [
    {
     "data": {
      "text/plain": [
       "[(1, 8), (7, 5), (2, 0), (12, -52)]"
      ]
     },
     "execution_count": 23,
     "metadata": {},
     "output_type": "execute_result"
    }
   ],
   "source": [
    "# Método 1: Ordenar respecto al segundo elemento de las tuplas\n",
    "def fx(x):\n",
    "    return x[1] # 1 = 2do elemento de la tupla; 0 = 1er elemento de la tupla\n",
    "lista.sort(key = fx, reverse = True)\n",
    "lista"
   ]
  },
  {
   "cell_type": "code",
   "execution_count": 25,
   "id": "20f72a6e-ecb9-4174-aa2d-7818b137d489",
   "metadata": {},
   "outputs": [
    {
     "data": {
      "text/plain": [
       "[(1, 8), (7, 5), (2, 0), (12, -52)]"
      ]
     },
     "execution_count": 25,
     "metadata": {},
     "output_type": "execute_result"
    }
   ],
   "source": [
    "# Método 2: Ordenar respecto al segundo elemento de las tuplas\n",
    "lista.sort(key = lambda x: x[1], reverse = True)\n",
    "lista"
   ]
  },
  {
   "cell_type": "code",
   "execution_count": 27,
   "id": "e840de04-9d74-4fb2-afc1-828838172fec",
   "metadata": {},
   "outputs": [],
   "source": [
    "import numpy as np\n",
    "import pandas as pd"
   ]
  },
  {
   "cell_type": "code",
   "execution_count": 28,
   "id": "dc3aecc8-891b-4141-b137-2f3d8531bd69",
   "metadata": {},
   "outputs": [
    {
     "data": {
      "text/html": [
       "<div>\n",
       "<style scoped>\n",
       "    .dataframe tbody tr th:only-of-type {\n",
       "        vertical-align: middle;\n",
       "    }\n",
       "\n",
       "    .dataframe tbody tr th {\n",
       "        vertical-align: top;\n",
       "    }\n",
       "\n",
       "    .dataframe thead th {\n",
       "        text-align: right;\n",
       "    }\n",
       "</style>\n",
       "<table border=\"1\" class=\"dataframe\">\n",
       "  <thead>\n",
       "    <tr style=\"text-align: right;\">\n",
       "      <th></th>\n",
       "      <th>Sujetos</th>\n",
       "      <th>Género</th>\n",
       "      <th>Condición</th>\n",
       "      <th>Región</th>\n",
       "      <th>Neurotransmisores</th>\n",
       "      <th>Precisión</th>\n",
       "    </tr>\n",
       "  </thead>\n",
       "  <tbody>\n",
       "    <tr>\n",
       "      <th>0</th>\n",
       "      <td>S01</td>\n",
       "      <td>F</td>\n",
       "      <td>Control</td>\n",
       "      <td>Hipocampo</td>\n",
       "      <td>5-HT</td>\n",
       "      <td>0.737127</td>\n",
       "    </tr>\n",
       "    <tr>\n",
       "      <th>1</th>\n",
       "      <td>S02</td>\n",
       "      <td>M</td>\n",
       "      <td>Control</td>\n",
       "      <td>PFC</td>\n",
       "      <td>DA</td>\n",
       "      <td>0.947609</td>\n",
       "    </tr>\n",
       "    <tr>\n",
       "      <th>2</th>\n",
       "      <td>S01</td>\n",
       "      <td>M</td>\n",
       "      <td>Control</td>\n",
       "      <td>AMY</td>\n",
       "      <td>DA</td>\n",
       "      <td>0.916540</td>\n",
       "    </tr>\n",
       "    <tr>\n",
       "      <th>3</th>\n",
       "      <td>S02</td>\n",
       "      <td>M</td>\n",
       "      <td>Experimental</td>\n",
       "      <td>Hipocampo</td>\n",
       "      <td>DA</td>\n",
       "      <td>1.052760</td>\n",
       "    </tr>\n",
       "    <tr>\n",
       "      <th>4</th>\n",
       "      <td>S00</td>\n",
       "      <td>M</td>\n",
       "      <td>Experimental</td>\n",
       "      <td>PFC</td>\n",
       "      <td>DA</td>\n",
       "      <td>0.969610</td>\n",
       "    </tr>\n",
       "    <tr>\n",
       "      <th>...</th>\n",
       "      <td>...</td>\n",
       "      <td>...</td>\n",
       "      <td>...</td>\n",
       "      <td>...</td>\n",
       "      <td>...</td>\n",
       "      <td>...</td>\n",
       "    </tr>\n",
       "    <tr>\n",
       "      <th>195</th>\n",
       "      <td>S01</td>\n",
       "      <td>F</td>\n",
       "      <td>Experimental</td>\n",
       "      <td>PFC</td>\n",
       "      <td>DA</td>\n",
       "      <td>0.775830</td>\n",
       "    </tr>\n",
       "    <tr>\n",
       "      <th>196</th>\n",
       "      <td>S03</td>\n",
       "      <td>F</td>\n",
       "      <td>Control</td>\n",
       "      <td>Hipocampo</td>\n",
       "      <td>DA</td>\n",
       "      <td>1.041976</td>\n",
       "    </tr>\n",
       "    <tr>\n",
       "      <th>197</th>\n",
       "      <td>S02</td>\n",
       "      <td>F</td>\n",
       "      <td>Control</td>\n",
       "      <td>AMY</td>\n",
       "      <td>5-HT</td>\n",
       "      <td>0.844098</td>\n",
       "    </tr>\n",
       "    <tr>\n",
       "      <th>198</th>\n",
       "      <td>S03</td>\n",
       "      <td>M</td>\n",
       "      <td>Control</td>\n",
       "      <td>AMY</td>\n",
       "      <td>DA</td>\n",
       "      <td>0.998886</td>\n",
       "    </tr>\n",
       "    <tr>\n",
       "      <th>199</th>\n",
       "      <td>S02</td>\n",
       "      <td>F</td>\n",
       "      <td>Control</td>\n",
       "      <td>PFC</td>\n",
       "      <td>5-HT</td>\n",
       "      <td>0.878249</td>\n",
       "    </tr>\n",
       "  </tbody>\n",
       "</table>\n",
       "<p>200 rows × 6 columns</p>\n",
       "</div>"
      ],
      "text/plain": [
       "    Sujetos Género     Condición     Región Neurotransmisores  Precisión\n",
       "0       S01      F       Control  Hipocampo              5-HT   0.737127\n",
       "1       S02      M       Control        PFC                DA   0.947609\n",
       "2       S01      M       Control        AMY                DA   0.916540\n",
       "3       S02      M  Experimental  Hipocampo                DA   1.052760\n",
       "4       S00      M  Experimental        PFC                DA   0.969610\n",
       "..      ...    ...           ...        ...               ...        ...\n",
       "195     S01      F  Experimental        PFC                DA   0.775830\n",
       "196     S03      F       Control  Hipocampo                DA   1.041976\n",
       "197     S02      F       Control        AMY              5-HT   0.844098\n",
       "198     S03      M       Control        AMY                DA   0.998886\n",
       "199     S02      F       Control        PFC              5-HT   0.878249\n",
       "\n",
       "[200 rows x 6 columns]"
      ]
     },
     "execution_count": 28,
     "metadata": {},
     "output_type": "execute_result"
    }
   ],
   "source": [
    "sujetos = ['S' + str(i).zfill(2) for i in range(4)]\n",
    "genero = ['M', 'F']\n",
    "condicion = ['Control', 'Experimental']\n",
    "region = ['Hipocampo', 'PFC', 'AMY']\n",
    "neurotransmisores = ['DA', '5-HT']\n",
    "sujetos, genero, condicion, region, neurotransmisores\n",
    "\n",
    "df = pd.DataFrame({\n",
    "    'Sujetos': [sujetos[i] for i in np.random.randint(len(sujetos), size = 200)],\n",
    "    'Género': [genero[i] for i in np.random.randint(len(genero), size = 200)],\n",
    "    'Condición': [condicion[i] for i in np.random.randint(len(condicion), size = 200)],\n",
    "    'Región': [region[i] for i in np.random.randint(len(region), size = 200)],\n",
    "    'Neurotransmisores': [neurotransmisores[i] for i in np.random.randint(len(neurotransmisores), size = 200)]\n",
    "})\n",
    "df\n",
    "\n",
    "df['Precisión'] = np.random.normal(loc = 0.92, scale = 0.08, size = 200)\n",
    "df"
   ]
  },
  {
   "cell_type": "code",
   "execution_count": 30,
   "id": "00aeea47-b81a-411e-acb2-ef5b40b90c0a",
   "metadata": {},
   "outputs": [
    {
     "data": {
      "text/plain": [
       "0      HIPOCAMPO\n",
       "1            PFC\n",
       "2            AMY\n",
       "3      HIPOCAMPO\n",
       "4            PFC\n",
       "         ...    \n",
       "195          PFC\n",
       "196    HIPOCAMPO\n",
       "197          AMY\n",
       "198          AMY\n",
       "199          PFC\n",
       "Name: Región, Length: 200, dtype: object"
      ]
     },
     "execution_count": 30,
     "metadata": {},
     "output_type": "execute_result"
    }
   ],
   "source": [
    "# Método 1:\n",
    "def fx(string):\n",
    "    return string.upper()\n",
    "df['Región'].apply(fx)"
   ]
  },
  {
   "cell_type": "code",
   "execution_count": 31,
   "id": "7ab6b7a9-8bdf-4424-b6c0-7e301105f2b2",
   "metadata": {},
   "outputs": [
    {
     "data": {
      "text/plain": [
       "0      HIPOCAMPO\n",
       "1            PFC\n",
       "2            AMY\n",
       "3      HIPOCAMPO\n",
       "4            PFC\n",
       "         ...    \n",
       "195          PFC\n",
       "196    HIPOCAMPO\n",
       "197          AMY\n",
       "198          AMY\n",
       "199          PFC\n",
       "Name: Región, Length: 200, dtype: object"
      ]
     },
     "execution_count": 31,
     "metadata": {},
     "output_type": "execute_result"
    }
   ],
   "source": [
    "# Método 2:\n",
    "df['Región'].apply(lambda string: string.upper())"
   ]
  },
  {
   "cell_type": "code",
   "execution_count": 36,
   "id": "99dcd638-c1ba-4924-b02e-af74d5543de7",
   "metadata": {},
   "outputs": [
    {
     "data": {
      "text/html": [
       "<div>\n",
       "<style scoped>\n",
       "    .dataframe tbody tr th:only-of-type {\n",
       "        vertical-align: middle;\n",
       "    }\n",
       "\n",
       "    .dataframe tbody tr th {\n",
       "        vertical-align: top;\n",
       "    }\n",
       "\n",
       "    .dataframe thead th {\n",
       "        text-align: right;\n",
       "    }\n",
       "</style>\n",
       "<table border=\"1\" class=\"dataframe\">\n",
       "  <thead>\n",
       "    <tr style=\"text-align: right;\">\n",
       "      <th></th>\n",
       "      <th>Región</th>\n",
       "      <th>Condición</th>\n",
       "      <th>Neurotransmisores</th>\n",
       "    </tr>\n",
       "  </thead>\n",
       "  <tbody>\n",
       "    <tr>\n",
       "      <th>0</th>\n",
       "      <td>HIPOCAMPO</td>\n",
       "      <td>CONTROL</td>\n",
       "      <td>5-HT</td>\n",
       "    </tr>\n",
       "    <tr>\n",
       "      <th>1</th>\n",
       "      <td>PFC</td>\n",
       "      <td>CONTROL</td>\n",
       "      <td>DA</td>\n",
       "    </tr>\n",
       "    <tr>\n",
       "      <th>2</th>\n",
       "      <td>AMY</td>\n",
       "      <td>CONTROL</td>\n",
       "      <td>DA</td>\n",
       "    </tr>\n",
       "    <tr>\n",
       "      <th>3</th>\n",
       "      <td>HIPOCAMPO</td>\n",
       "      <td>EXPERIMENTAL</td>\n",
       "      <td>DA</td>\n",
       "    </tr>\n",
       "    <tr>\n",
       "      <th>4</th>\n",
       "      <td>PFC</td>\n",
       "      <td>EXPERIMENTAL</td>\n",
       "      <td>DA</td>\n",
       "    </tr>\n",
       "    <tr>\n",
       "      <th>...</th>\n",
       "      <td>...</td>\n",
       "      <td>...</td>\n",
       "      <td>...</td>\n",
       "    </tr>\n",
       "    <tr>\n",
       "      <th>195</th>\n",
       "      <td>PFC</td>\n",
       "      <td>EXPERIMENTAL</td>\n",
       "      <td>DA</td>\n",
       "    </tr>\n",
       "    <tr>\n",
       "      <th>196</th>\n",
       "      <td>HIPOCAMPO</td>\n",
       "      <td>CONTROL</td>\n",
       "      <td>DA</td>\n",
       "    </tr>\n",
       "    <tr>\n",
       "      <th>197</th>\n",
       "      <td>AMY</td>\n",
       "      <td>CONTROL</td>\n",
       "      <td>5-HT</td>\n",
       "    </tr>\n",
       "    <tr>\n",
       "      <th>198</th>\n",
       "      <td>AMY</td>\n",
       "      <td>CONTROL</td>\n",
       "      <td>DA</td>\n",
       "    </tr>\n",
       "    <tr>\n",
       "      <th>199</th>\n",
       "      <td>PFC</td>\n",
       "      <td>CONTROL</td>\n",
       "      <td>5-HT</td>\n",
       "    </tr>\n",
       "  </tbody>\n",
       "</table>\n",
       "<p>200 rows × 3 columns</p>\n",
       "</div>"
      ],
      "text/plain": [
       "        Región     Condición Neurotransmisores\n",
       "0    HIPOCAMPO       CONTROL              5-HT\n",
       "1          PFC       CONTROL                DA\n",
       "2          AMY       CONTROL                DA\n",
       "3    HIPOCAMPO  EXPERIMENTAL                DA\n",
       "4          PFC  EXPERIMENTAL                DA\n",
       "..         ...           ...               ...\n",
       "195        PFC  EXPERIMENTAL                DA\n",
       "196  HIPOCAMPO       CONTROL                DA\n",
       "197        AMY       CONTROL              5-HT\n",
       "198        AMY       CONTROL                DA\n",
       "199        PFC       CONTROL              5-HT\n",
       "\n",
       "[200 rows x 3 columns]"
      ]
     },
     "execution_count": 36,
     "metadata": {},
     "output_type": "execute_result"
    }
   ],
   "source": [
    "df[['Región', 'Condición', 'Neurotransmisores']].apply(lambda serie: [string.upper() for string in serie])"
   ]
  }
 ],
 "metadata": {
  "kernelspec": {
   "display_name": "Python 3 (ipykernel)",
   "language": "python",
   "name": "python3"
  },
  "language_info": {
   "codemirror_mode": {
    "name": "ipython",
    "version": 3
   },
   "file_extension": ".py",
   "mimetype": "text/x-python",
   "name": "python",
   "nbconvert_exporter": "python",
   "pygments_lexer": "ipython3",
   "version": "3.13.7"
  }
 },
 "nbformat": 4,
 "nbformat_minor": 5
}
