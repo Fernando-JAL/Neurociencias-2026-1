{
 "cells": [
  {
   "cell_type": "code",
   "execution_count": 1,
   "id": "b53d92fa-a9d8-4897-a194-88707169edab",
   "metadata": {},
   "outputs": [],
   "source": [
    "import networkx as nx\n",
    "\n",
    "import matplotlib.pyplot as plt"
   ]
  },
  {
   "cell_type": "code",
   "execution_count": 2,
   "id": "e3ca9bad-db2f-463c-af06-13ceb2512938",
   "metadata": {},
   "outputs": [],
   "source": [
    "G = nx.Graph()"
   ]
  },
  {
   "cell_type": "code",
   "execution_count": 3,
   "id": "3b8d6cc7-45ca-4583-be64-a01a61f3fa5c",
   "metadata": {},
   "outputs": [],
   "source": [
    "G.add_nodes_from([(\"A\",{\"pos\": [3,3]}),\n",
    "                (\"B\",{\"pos\": [2, -5]}),\n",
    "                (\"C\",{\"pos\": [5, 2]}),\n",
    "                (\"D\", {\"pos\": [-1, 2]}),\n",
    "                (\"E\", {\"pos\": [4, -5]}) ] )  #son valores de las aristas"
   ]
  },
  {
   "cell_type": "code",
   "execution_count": 4,
   "id": "212f59d9-60d0-4dac-8f1f-e1e58a728941",
   "metadata": {},
   "outputs": [],
   "source": [
    "G.add_edges_from( [ (\"D\",\"A\",{\"weight\": 1.3}),\n",
    "                    (\"A\", \"C\",{\"weight\": 3.9}), \n",
    "                    (\"D\", \"E\", {\"weight\": 0.8}),\n",
    "                    (\"B\", \"C\",{\"weight\": 0.6}),\n",
    "                    (\"A\", \"E\",{\"weight\": 2.2}),\n",
    "                    (\"D\", \"B\", {\"weight\": 3.4}) ] )  #se les asignan pesos\n"
   ]
  },
  {
   "cell_type": "code",
   "execution_count": 5,
   "id": "5b38ff19-d502-44eb-80b3-0e8dee0c9744",
   "metadata": {},
   "outputs": [
    {
     "data": {
      "image/png": "[encoded data removed]",
      "text/plain": [
       "<Figure size 200x200 with 1 Axes>"
      ]
     },
     "metadata": {},
     "output_type": "display_data"
    }
   ],
   "source": [
    "plt.figure(figsize=(2,2))\n",
    "#agregando las posiciones a los nodos \n",
    "positions = nx.get_node_attributes(G, \"pos\")\n",
    "#nx.draw_networkx(G, pos=positions)\n",
    "nx.draw_networkx(G, pos=positions, node_size=50, font_size= 6, width=4)  #node_size se le modifica el tamaño del nodo y el font_size la letra y el width el grosor de la arista\n",
    "#Agregando los pesos a las aristas\n",
    "weights= nx.get_edge_attributes(G, \"weight\")\n",
    "nx.draw_networkx_edge_labels(G, pos=positions, edge_labels=weights);\n",
    "#nx.draw_networkx_edges(G, edgelist=g.edges())"
   ]
  },
  {
   "cell_type": "code",
   "execution_count": 7,
   "id": "f12d4c4f-8c95-49a2-82d1-1ca2758c9298",
   "metadata": {},
   "outputs": [
    {
     "name": "stdout",
     "output_type": "stream",
     "text": [
      "Collecting pandas\n",
      "  Downloading pandas-2.3.3-cp311-cp311-win_amd64.whl (11.3 MB)\n",
      "     --------------------------------------- 11.3/11.3 MB 32.8 MB/s eta 0:00:00\n",
      "Requirement already satisfied: numpy>=1.23.2 in c:\\users\\v304-23\\appdata\\local\\programs\\python\\python311\\lib\\site-packages (from pandas) (2.3.3)\n",
      "Requirement already satisfied: python-dateutil>=2.8.2 in c:\\users\\v304-23\\appdata\\local\\programs\\python\\python311\\lib\\site-packages (from pandas) (2.9.0.post0)\n",
      "Collecting pytz>=2020.1\n",
      "  Downloading pytz-2025.2-py2.py3-none-any.whl (509 kB)\n",
      "     ------------------------------------- 509.2/509.2 kB 31.2 MB/s eta 0:00:00\n",
      "Collecting tzdata>=2022.7\n",
      "  Downloading tzdata-2025.2-py2.py3-none-any.whl (347 kB)\n",
      "     ---------------------------------------- 347.8/347.8 kB ? eta 0:00:00\n",
      "Requirement already satisfied: six>=1.5 in c:\\users\\v304-23\\appdata\\local\\programs\\python\\python311\\lib\\site-packages (from python-dateutil>=2.8.2->pandas) (1.17.0)\n",
      "Installing collected packages: pytz, tzdata, pandas\n",
      "Successfully installed pandas-2.3.3 pytz-2025.2 tzdata-2025.2\n",
      "Note: you may need to restart the kernel to use updated packages.\n"
     ]
    },
    {
     "name": "stderr",
     "output_type": "stream",
     "text": [
      "\n",
      "[notice] A new release of pip available: 22.3.1 -> 25.2\n",
      "[notice] To update, run: python.exe -m pip install --upgrade pip\n"
     ]
    }
   ],
   "source": [
    "pip install pandas"
   ]
  },
  {
   "cell_type": "code",
   "execution_count": 8,
   "id": "78024255-f9b9-4040-b0d3-14b29652a5f8",
   "metadata": {},
   "outputs": [],
   "source": [
    "import pandas as pd\n",
    "\n",
    "edgelist= nx.to_pandas_edgelist(G);\n",
    "edgelist"
   ]
  },
  {
   "cell_type": "code",
   "execution_count": 9,
   "id": "5c53447c-6a0a-401d-9d2a-e773f755ada3",
   "metadata": {},
   "outputs": [
    {
     "data": {
      "text/plain": [
       "[('A', {'D': {'weight': 1.3}, 'C': {'weight': 3.9}, 'E': {'weight': 2.2}}),\n",
       " ('B', {'C': {'weight': 0.6}, 'D': {'weight': 3.4}}),\n",
       " ('C', {'A': {'weight': 3.9}, 'B': {'weight': 0.6}}),\n",
       " ('D', {'A': {'weight': 1.3}, 'E': {'weight': 0.8}, 'B': {'weight': 3.4}}),\n",
       " ('E', {'D': {'weight': 0.8}, 'A': {'weight': 2.2}})]"
      ]
     },
     "execution_count": 9,
     "metadata": {},
     "output_type": "execute_result"
    }
   ],
   "source": [
    "list(G.adjacency())"
   ]
  },
  {
   "cell_type": "code",
   "execution_count": 11,
   "id": "b2b9f867-71af-4a2d-bee3-4dbba825a680",
   "metadata": {},
   "outputs": [
    {
     "data": {
      "text/html": [
       "<div>\n",
       "<style scoped>\n",
       "    .dataframe tbody tr th:only-of-type {\n",
       "        vertical-align: middle;\n",
       "    }\n",
       "\n",
       "    .dataframe tbody tr th {\n",
       "        vertical-align: top;\n",
       "    }\n",
       "\n",
       "    .dataframe thead th {\n",
       "        text-align: right;\n",
       "    }\n",
       "</style>\n",
       "<table border=\"1\" class=\"dataframe\">\n",
       "  <thead>\n",
       "    <tr style=\"text-align: right;\">\n",
       "      <th></th>\n",
       "      <th>A</th>\n",
       "      <th>B</th>\n",
       "      <th>C</th>\n",
       "      <th>D</th>\n",
       "      <th>E</th>\n",
       "    </tr>\n",
       "  </thead>\n",
       "  <tbody>\n",
       "    <tr>\n",
       "      <th>A</th>\n",
       "      <td>0.0</td>\n",
       "      <td>0.0</td>\n",
       "      <td>3.9</td>\n",
       "      <td>1.3</td>\n",
       "      <td>2.2</td>\n",
       "    </tr>\n",
       "    <tr>\n",
       "      <th>B</th>\n",
       "      <td>0.0</td>\n",
       "      <td>0.0</td>\n",
       "      <td>0.6</td>\n",
       "      <td>3.4</td>\n",
       "      <td>0.0</td>\n",
       "    </tr>\n",
       "    <tr>\n",
       "      <th>C</th>\n",
       "      <td>3.9</td>\n",
       "      <td>0.6</td>\n",
       "      <td>0.0</td>\n",
       "      <td>0.0</td>\n",
       "      <td>0.0</td>\n",
       "    </tr>\n",
       "    <tr>\n",
       "      <th>D</th>\n",
       "      <td>1.3</td>\n",
       "      <td>3.4</td>\n",
       "      <td>0.0</td>\n",
       "      <td>0.0</td>\n",
       "      <td>0.8</td>\n",
       "    </tr>\n",
       "    <tr>\n",
       "      <th>E</th>\n",
       "      <td>2.2</td>\n",
       "      <td>0.0</td>\n",
       "      <td>0.0</td>\n",
       "      <td>0.8</td>\n",
       "      <td>0.0</td>\n",
       "    </tr>\n",
       "  </tbody>\n",
       "</table>\n",
       "</div>"
      ],
      "text/plain": [
       "     A    B    C    D    E\n",
       "A  0.0  0.0  3.9  1.3  2.2\n",
       "B  0.0  0.0  0.6  3.4  0.0\n",
       "C  3.9  0.6  0.0  0.0  0.0\n",
       "D  1.3  3.4  0.0  0.0  0.8\n",
       "E  2.2  0.0  0.0  0.8  0.0"
      ]
     },
     "execution_count": 11,
     "metadata": {},
     "output_type": "execute_result"
    }
   ],
   "source": [
    "adjacency= nx.to_pandas_adjacency(G)\n",
    "adjacency"
   ]
  },
  {
   "cell_type": "code",
   "execution_count": 12,
   "id": "4594658d-bee8-43c6-8dac-817d473262be",
   "metadata": {},
   "outputs": [],
   "source": [
    "adjacency.to_csv(\"adjaceny_ej.csv\")  #se guarda en el script de clase 21-0ct6"
   ]
  },
  {
   "cell_type": "code",
   "execution_count": 22,
   "id": "449624a9-9258-42cd-91c8-4783f4a0c41b",
   "metadata": {},
   "outputs": [
    {
     "data": {
      "text/plain": [
       "Index(['A', 'B', 'C', 'D', 'E'], dtype='object')"
      ]
     },
     "execution_count": 22,
     "metadata": {},
     "output_type": "execute_result"
    }
   ],
   "source": [
    "df.columns"
   ]
  },
  {
   "cell_type": "code",
   "execution_count": 24,
   "id": "89d2b13a-1b46-431e-be5c-2566f03c0563",
   "metadata": {},
   "outputs": [
    {
     "ename": "KeyError",
     "evalue": "'None of [\"[\\'A\\', \\'B\\', \\'C\\', \\'D\\', \\'E\\']\"] are in the columns'",
     "output_type": "error",
     "traceback": [
      "\u001b[31m---------------------------------------------------------------------------\u001b[39m",
      "\u001b[31mKeyError\u001b[39m                                  Traceback (most recent call last)",
      "\u001b[32m~\\AppData\\Local\\Temp\\ipykernel_13952\\4166491347.py\u001b[39m in \u001b[36m?\u001b[39m\u001b[34m()\u001b[39m\n\u001b[32m      1\u001b[39m df = pd.read_csv(\u001b[33m\"adjaceny_ej.csv\"\u001b[39m)\n\u001b[32m      2\u001b[39m \n\u001b[32m----> \u001b[39m\u001b[32m3\u001b[39m df.set_index(\u001b[33m\"['A', 'B', 'C', 'D', 'E']\"\u001b[39m,  drop=\u001b[38;5;28;01mTrue\u001b[39;00m, inplace=\u001b[38;5;28;01mTrue\u001b[39;00m)\n\u001b[32m      4\u001b[39m newG= nx.from_pandas_adjacency(df)\n\u001b[32m      5\u001b[39m newG()\n",
      "\u001b[32m~\\AppData\\Local\\Programs\\Python\\Python311\\Lib\\site-packages\\pandas\\core\\frame.py\u001b[39m in \u001b[36m?\u001b[39m\u001b[34m(self, keys, drop, append, inplace, verify_integrity)\u001b[39m\n\u001b[32m   6140\u001b[39m                     \u001b[38;5;28;01mif\u001b[39;00m \u001b[38;5;28;01mnot\u001b[39;00m found:\n\u001b[32m   6141\u001b[39m                         missing.append(col)\n\u001b[32m   6142\u001b[39m \n\u001b[32m   6143\u001b[39m         \u001b[38;5;28;01mif\u001b[39;00m missing:\n\u001b[32m-> \u001b[39m\u001b[32m6144\u001b[39m             \u001b[38;5;28;01mraise\u001b[39;00m KeyError(\u001b[33mf\"None of {missing} are in the columns\"\u001b[39m)\n\u001b[32m   6145\u001b[39m \n\u001b[32m   6146\u001b[39m         \u001b[38;5;28;01mif\u001b[39;00m inplace:\n\u001b[32m   6147\u001b[39m             frame = self\n",
      "\u001b[31mKeyError\u001b[39m: 'None of [\"[\\'A\\', \\'B\\', \\'C\\', \\'D\\', \\'E\\']\"] are in the columns'"
     ]
    }
   ],
   "source": [
    "df = pd.read_csv(\"adjaceny_ej.csv\")\n",
    "\n",
    "df.set_index(\"['A', 'B', 'C', 'D', 'E']\",  drop=True, inplace=True)\n",
    "newG= nx.from_pandas_adjacency(df)\n",
    "newG()"
   ]
  },
  {
   "cell_type": "code",
   "execution_count": 20,
   "id": "7f3aaab7-df2d-4f1e-9bce-174bd95da493",
   "metadata": {},
   "outputs": [
    {
     "ename": "NameError",
     "evalue": "name 'newG' is not defined",
     "output_type": "error",
     "traceback": [
      "\u001b[31m---------------------------------------------------------------------------\u001b[39m",
      "\u001b[31mNameError\u001b[39m                                 Traceback (most recent call last)",
      "\u001b[36mCell\u001b[39m\u001b[36m \u001b[39m\u001b[32mIn[20]\u001b[39m\u001b[32m, line 1\u001b[39m\n\u001b[32m----> \u001b[39m\u001b[32m1\u001b[39m nx.draw_networkx(\u001b[43mnewG\u001b[49m)\n",
      "\u001b[31mNameError\u001b[39m: name 'newG' is not defined"
     ]
    }
   ],
   "source": [
    "nx.draw_networkx(newG)"
   ]
  },
  {
   "cell_type": "code",
   "execution_count": null,
   "id": "652038ef-151c-4abe-8cc8-d07322c851f3",
   "metadata": {},
   "outputs": [],
   "source": []
  }
 ],
 "metadata": {
  "kernelspec": {
   "display_name": "Python 3 (ipykernel)",
   "language": "python",
   "name": "python3"
  },
  "language_info": {
   "codemirror_mode": {
    "name": "ipython",
    "version": 3
   },
   "file_extension": ".py",
   "mimetype": "text/x-python",
   "name": "python",
   "nbconvert_exporter": "python",
   "pygments_lexer": "ipython3",
   "version": "3.11.1"
  }
 },
 "nbformat": 4,
 "nbformat_minor": 5
}
