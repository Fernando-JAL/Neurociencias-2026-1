{
 "cells": [
  {
   "cell_type": "code",
   "execution_count": null,
   "id": "dbc48f4f-a39f-46cb-8d9c-7975ee79a12f",
   "metadata": {},
   "outputs": [],
   "source": [
    "1234567890342353647"
   ]
  },
  {
   "cell_type": "code",
   "execution_count": 11,
   "id": "29389b29-d62d-47c8-9ade-a543316c277e",
   "metadata": {},
   "outputs": [],
   "source": [
    "a=1"
   ]
  },
  {
   "cell_type": "code",
   "execution_count": 12,
   "id": "d3459f75-579c-4183-a571-b15c7b568c28",
   "metadata": {},
   "outputs": [],
   "source": [
    "b=2"
   ]
  },
  {
   "cell_type": "code",
   "execution_count": 3,
   "id": "94b45d59-cd06-4044-8ba1-8d39ca8deeb4",
   "metadata": {},
   "outputs": [
    {
     "data": {
      "text/plain": [
       "(int, int)"
      ]
     },
     "execution_count": 3,
     "metadata": {},
     "output_type": "execute_result"
    }
   ],
   "source": [
    "type(a), type(b)"
   ]
  },
  {
   "cell_type": "code",
   "execution_count": 5,
   "id": "ba7548cd-4ffd-465c-9693-12d1a86080b6",
   "metadata": {},
   "outputs": [
    {
     "data": {
      "text/plain": [
       "float"
      ]
     },
     "execution_count": 5,
     "metadata": {},
     "output_type": "execute_result"
    }
   ],
   "source": [
    "type(1.2)"
   ]
  },
  {
   "cell_type": "code",
   "execution_count": null,
   "id": "33087152-ce39-4c91-8d76-ab82a1987afa",
   "metadata": {},
   "outputs": [],
   "source": [
    "type(i)"
   ]
  },
  {
   "cell_type": "markdown",
   "id": "340c23be-00bd-4446-a288-240867a58534",
   "metadata": {},
   "source": [
    "# Definir Complejos"
   ]
  },
  {
   "cell_type": "code",
   "execution_count": 6,
   "id": "4d774d69-0063-4db9-a455-bf4f5c6051e4",
   "metadata": {},
   "outputs": [
    {
     "data": {
      "text/plain": [
       "(1+3j)"
      ]
     },
     "execution_count": 6,
     "metadata": {},
     "output_type": "execute_result"
    }
   ],
   "source": [
    "complex(1, 3)"
   ]
  },
  {
   "cell_type": "code",
   "execution_count": 13,
   "id": "fad3f4c5-d951-4a72-bc2c-a099a9fc6866",
   "metadata": {},
   "outputs": [
    {
     "data": {
      "text/plain": [
       "(3+1j)"
      ]
     },
     "execution_count": 13,
     "metadata": {},
     "output_type": "execute_result"
    }
   ],
   "source": [
    "complex(0,1) + 3"
   ]
  },
  {
   "cell_type": "code",
   "execution_count": 14,
   "id": "e5cd588e-8ee7-4947-bc3d-986205f0ea94",
   "metadata": {},
   "outputs": [
    {
     "data": {
      "text/plain": [
       "(3+1j)"
      ]
     },
     "execution_count": 14,
     "metadata": {},
     "output_type": "execute_result"
    }
   ],
   "source": [
    "complex(3,1)"
   ]
  },
  {
   "cell_type": "code",
   "execution_count": 20,
   "id": "3948d163-b346-4c95-ac31-255b5aef76ea",
   "metadata": {},
   "outputs": [],
   "source": [
    "c= 3+1j"
   ]
  },
  {
   "cell_type": "markdown",
   "id": "4286289d-362a-4171-b1e3-be5d6ebf9f5a",
   "metadata": {},
   "source": [
    "*Como puedo sumar 2j al valor de c*\n"
   ]
  },
  {
   "cell_type": "code",
   "execution_count": 21,
   "id": "70785885-981f-435a-a801-76897e33fd09",
   "metadata": {},
   "outputs": [
    {
     "data": {
      "text/plain": [
       "(3+3j)"
      ]
     },
     "execution_count": 21,
     "metadata": {},
     "output_type": "execute_result"
    }
   ],
   "source": [
    "c + complex(0,2)"
   ]
  },
  {
   "cell_type": "markdown",
   "id": "47bfe436-3498-41c1-8284-cca2288845ce",
   "metadata": {},
   "source": [
    "## Operaciones con tipos de datos"
   ]
  },
  {
   "cell_type": "code",
   "execution_count": 22,
   "id": "6ae3ef05-887c-487c-8b6c-f84b558f97ae",
   "metadata": {},
   "outputs": [
    {
     "data": {
      "text/plain": [
       "100"
      ]
     },
     "execution_count": 22,
     "metadata": {},
     "output_type": "execute_result"
    }
   ],
   "source": [
    "56+44"
   ]
  },
  {
   "cell_type": "code",
   "execution_count": 23,
   "id": "aebb34db-f240-4fe8-85dc-a0b90792dc4c",
   "metadata": {},
   "outputs": [
    {
     "data": {
      "text/plain": [
       "820"
      ]
     },
     "execution_count": 23,
     "metadata": {},
     "output_type": "execute_result"
    }
   ],
   "source": [
    "900-80"
   ]
  },
  {
   "cell_type": "code",
   "execution_count": 24,
   "id": "63198478-cc20-4513-ab50-2f3afea4a6bc",
   "metadata": {},
   "outputs": [
    {
     "data": {
      "text/plain": [
       "54"
      ]
     },
     "execution_count": 24,
     "metadata": {},
     "output_type": "execute_result"
    }
   ],
   "source": [
    "6*9"
   ]
  },
  {
   "cell_type": "code",
   "execution_count": 25,
   "id": "214a1706-3ff2-4d5a-bdda-fc803135a132",
   "metadata": {},
   "outputs": [
    {
     "data": {
      "text/plain": [
       "28.0"
      ]
     },
     "execution_count": 25,
     "metadata": {},
     "output_type": "execute_result"
    }
   ],
   "source": [
    "56/2"
   ]
  },
  {
   "cell_type": "code",
   "execution_count": 29,
   "id": "984c705a-92e9-4525-9635-5546ffbbaad6",
   "metadata": {},
   "outputs": [
    {
     "data": {
      "text/plain": [
       "27"
      ]
     },
     "execution_count": 29,
     "metadata": {},
     "output_type": "execute_result"
    }
   ],
   "source": [
    "3**3"
   ]
  },
  {
   "cell_type": "code",
   "execution_count": 30,
   "id": "59c6f3ea-70cb-4bdf-9324-3f130006f24f",
   "metadata": {},
   "outputs": [
    {
     "data": {
      "text/plain": [
       "0"
      ]
     },
     "execution_count": 30,
     "metadata": {},
     "output_type": "execute_result"
    }
   ],
   "source": [
    "# Para calcular el residduo\n",
    "16% 4"
   ]
  },
  {
   "cell_type": "code",
   "execution_count": 31,
   "id": "0e9a7609-46c5-438a-b98e-4301b294392a",
   "metadata": {},
   "outputs": [],
   "source": [
    "# Para obtener el cociente de una división entera\n"
   ]
  },
  {
   "cell_type": "code",
   "execution_count": 32,
   "id": "741da035-13e4-40f6-900d-1a59fe605708",
   "metadata": {},
   "outputs": [],
   "source": [
    "a= 8\n",
    "b= 3\n",
    "c= 4"
   ]
  },
  {
   "cell_type": "code",
   "execution_count": 33,
   "id": "c39041c4-7172-4019-8d4b-3d3a3754e400",
   "metadata": {},
   "outputs": [
    {
     "data": {
      "text/plain": [
       "(8, 3, 4)"
      ]
     },
     "execution_count": 33,
     "metadata": {},
     "output_type": "execute_result"
    }
   ],
   "source": [
    "a, b, c"
   ]
  },
  {
   "cell_type": "code",
   "execution_count": 42,
   "id": "a16f96f2-ebf2-4a8d-b829-87a466a0b208",
   "metadata": {},
   "outputs": [
    {
     "ename": "TypeError",
     "evalue": "unsupported operand type(s) for /: 'int' and 'str'",
     "output_type": "error",
     "traceback": [
      "\u001b[1;31m---------------------------------------------------------------------------\u001b[0m",
      "\u001b[1;31mTypeError\u001b[0m                                 Traceback (most recent call last)",
      "Cell \u001b[1;32mIn[42], line 1\u001b[0m\n\u001b[1;32m----> 1\u001b[0m \u001b[43mc\u001b[49m\u001b[38;5;241;43m/\u001b[39;49m\u001b[43ma\u001b[49m \u001b[38;5;241m+\u001b[39m a\u001b[38;5;241m*\u001b[39mb \u001b[38;5;241m-\u001b[39m a\u001b[38;5;241m*\u001b[39m\u001b[38;5;241m*\u001b[39mb\u001b[38;5;241m/\u001b[39m\u001b[38;5;241m42\u001b[39m\u001b[38;5;241m%\u001b[39m\u001b[38;5;241m3\u001b[39m\n",
      "\u001b[1;31mTypeError\u001b[0m: unsupported operand type(s) for /: 'int' and 'str'"
     ]
    }
   ],
   "source": [
    "c/a + a*b - a**b/42%3"
   ]
  },
  {
   "cell_type": "markdown",
   "id": "9fdf044b-e888-4ae7-9033-faf53bb6b596",
   "metadata": {},
   "source": [
    "## Strings"
   ]
  },
  {
   "cell_type": "code",
   "execution_count": 36,
   "id": "c463eddc-2b78-43b8-815c-0a5704801cfb",
   "metadata": {},
   "outputs": [
    {
     "data": {
      "text/plain": [
       "'Esto es una cadena de texto'"
      ]
     },
     "execution_count": 36,
     "metadata": {},
     "output_type": "execute_result"
    }
   ],
   "source": [
    "\"Esto es una cadena de texto\""
   ]
  },
  {
   "cell_type": "code",
   "execution_count": 37,
   "id": "2bdc4e5f-c9c7-4d1c-830f-aef13b1e852c",
   "metadata": {},
   "outputs": [
    {
     "data": {
      "text/plain": [
       "'Esto también es una cadena de texto'"
      ]
     },
     "execution_count": 37,
     "metadata": {},
     "output_type": "execute_result"
    }
   ],
   "source": [
    "'Esto también es una cadena de texto'"
   ]
  },
  {
   "cell_type": "code",
   "execution_count": 38,
   "id": "fd6d4311-8e86-442c-971a-3ff039906719",
   "metadata": {},
   "outputs": [
    {
     "data": {
      "text/plain": [
       "('cadena de texto 1', 'cadena de texto 2')"
      ]
     },
     "execution_count": 38,
     "metadata": {},
     "output_type": "execute_result"
    }
   ],
   "source": [
    "a, b='cadena de texto 1', 'cadena de texto 2'\n",
    "a,b"
   ]
  },
  {
   "cell_type": "code",
   "execution_count": 39,
   "id": "03e60337-7e58-40ec-abfb-16543757aefb",
   "metadata": {},
   "outputs": [
    {
     "name": "stdout",
     "output_type": "stream",
     "text": [
      "cadena de texto 1 cadena de texto 2\n"
     ]
    }
   ],
   "source": [
    "print(a, b)"
   ]
  },
  {
   "cell_type": "code",
   "execution_count": 43,
   "id": "d8a2c311-43d1-4580-b013-bf0ca022916e",
   "metadata": {},
   "outputs": [
    {
     "name": "stdout",
     "output_type": "stream",
     "text": [
      "cadena de texto 1 cadena de texto 2 orea cosa 89.5 lo que sea\n"
     ]
    }
   ],
   "source": [
    "print (a, b, 'orea cosa', 89.5, 'lo que sea') "
   ]
  },
  {
   "cell_type": "code",
   "execution_count": 46,
   "id": "d881c3b5-110d-44cd-b19f-20c2c6427cfb",
   "metadata": {},
   "outputs": [
    {
     "name": "stdout",
     "output_type": "stream",
     "text": [
      "cadena de texto 1 \t cadena de texto 2 otra cosa 89.5 lo que sea\n"
     ]
    }
   ],
   "source": [
    "print(a, '\\t', b, 'otra cosa', 89.5, 'lo que sea')"
   ]
  },
  {
   "cell_type": "code",
   "execution_count": 48,
   "id": "2960ac56-aa8d-43f7-be57-f669c864a335",
   "metadata": {},
   "outputs": [
    {
     "name": "stdout",
     "output_type": "stream",
     "text": [
      "cadena de texto 1 \n",
      " cadena de texto 2 otra cosa\n"
     ]
    }
   ],
   "source": [
    "print(a, '\\n', b, 'otra cosa')"
   ]
  },
  {
   "cell_type": "code",
   "execution_count": 49,
   "id": "57df3fa4-2ece-4620-989d-708da7914341",
   "metadata": {},
   "outputs": [
    {
     "name": "stdout",
     "output_type": "stream",
     "text": [
      "Primera linea de texto\n",
      "segunda linea de texto\n",
      "tercera linea de texto\n"
     ]
    }
   ],
   "source": [
    "print (\"\"\"Primera linea de texto\n",
    "segunda linea de texto\n",
    "tercera linea de texto\"\"\")"
   ]
  },
  {
   "cell_type": "code",
   "execution_count": 50,
   "id": "bfdb441a-e74a-4a89-a5bb-7f3a22567d39",
   "metadata": {},
   "outputs": [
    {
     "data": {
      "text/plain": [
       "('cadena de texto 1', 'cadena de texto 2')"
      ]
     },
     "execution_count": 50,
     "metadata": {},
     "output_type": "execute_result"
    }
   ],
   "source": [
    "a, b"
   ]
  },
  {
   "cell_type": "code",
   "execution_count": 51,
   "id": "d1ef8af0-ce97-40f0-a263-46dbb3ce5f38",
   "metadata": {},
   "outputs": [
    {
     "data": {
      "text/plain": [
       "'cadena de texto 1cadena de texto 2'"
      ]
     },
     "execution_count": 51,
     "metadata": {},
     "output_type": "execute_result"
    }
   ],
   "source": [
    "a+b"
   ]
  },
  {
   "cell_type": "code",
   "execution_count": 52,
   "id": "b15e895c-6350-482a-8238-3319ec6a132c",
   "metadata": {},
   "outputs": [],
   "source": [
    "a, b = 'ah', 'be'"
   ]
  },
  {
   "cell_type": "code",
   "execution_count": 53,
   "id": "95ed461c-47ad-4c2f-bc8c-8d7c7af3bacc",
   "metadata": {},
   "outputs": [
    {
     "data": {
      "text/plain": [
       "'ahbe'"
      ]
     },
     "execution_count": 53,
     "metadata": {},
     "output_type": "execute_result"
    }
   ],
   "source": [
    "a+b"
   ]
  },
  {
   "cell_type": "code",
   "execution_count": 54,
   "id": "a2e6cfea-e348-4728-a7d7-6bd4c0de9701",
   "metadata": {},
   "outputs": [
    {
     "data": {
      "text/plain": [
       "('ahbe', 'beah')"
      ]
     },
     "execution_count": 54,
     "metadata": {},
     "output_type": "execute_result"
    }
   ],
   "source": [
    "a+b, b+a"
   ]
  },
  {
   "cell_type": "markdown",
   "id": "1fea2c52-db9f-465a-806c-6369f3d13436",
   "metadata": {},
   "source": [
    "## Slicing = Rebanado"
   ]
  },
  {
   "cell_type": "code",
   "execution_count": 55,
   "id": "a10c8744-31be-48d1-b1a3-343f910d89f7",
   "metadata": {},
   "outputs": [],
   "source": [
    "a= 'Hola jolines rayomiado'"
   ]
  },
  {
   "cell_type": "code",
   "execution_count": 56,
   "id": "db2be72e-dd08-45bb-8c14-6ac5d9cf290c",
   "metadata": {},
   "outputs": [],
   "source": [
    "b='cadena'"
   ]
  },
  {
   "cell_type": "code",
   "execution_count": 57,
   "id": "211d314c-8a71-4940-8730-de72b7bc6a88",
   "metadata": {},
   "outputs": [
    {
     "data": {
      "text/plain": [
       "'d'"
      ]
     },
     "execution_count": 57,
     "metadata": {},
     "output_type": "execute_result"
    }
   ],
   "source": [
    "b[2]"
   ]
  },
  {
   "cell_type": "code",
   "execution_count": 58,
   "id": "50ba0392-c2d0-4adb-bce7-25674591a465",
   "metadata": {},
   "outputs": [
    {
     "data": {
      "text/plain": [
       "'n'"
      ]
     },
     "execution_count": 58,
     "metadata": {},
     "output_type": "execute_result"
    }
   ],
   "source": [
    "b[4]"
   ]
  },
  {
   "cell_type": "code",
   "execution_count": 60,
   "id": "ef9b093a-a37d-47da-a747-e18439120b68",
   "metadata": {},
   "outputs": [
    {
     "data": {
      "text/plain": [
       "6"
      ]
     },
     "execution_count": 60,
     "metadata": {},
     "output_type": "execute_result"
    }
   ],
   "source": [
    "# Cual es la longitud de la cadena\n",
    "len(b)"
   ]
  },
  {
   "cell_type": "code",
   "execution_count": 61,
   "id": "3abed160-2f61-4c2b-92c9-7a94ef6ceb50",
   "metadata": {},
   "outputs": [
    {
     "data": {
      "text/plain": [
       "'Hola jolines rayomiado'"
      ]
     },
     "execution_count": 61,
     "metadata": {},
     "output_type": "execute_result"
    }
   ],
   "source": [
    "a"
   ]
  },
  {
   "cell_type": "code",
   "execution_count": 66,
   "id": "99af20fe-afcd-4950-bc55-cc662a04e1a8",
   "metadata": {},
   "outputs": [
    {
     "data": {
      "text/plain": [
       "'jolines '"
      ]
     },
     "execution_count": 66,
     "metadata": {},
     "output_type": "execute_result"
    }
   ],
   "source": [
    "# J tiene la posición 6\n",
    "# s tiene la posición 12\n",
    "pos_i = 5\n",
    "pos_f = 12\n",
    "a[pos_i: pos_f+1]"
   ]
  },
  {
   "cell_type": "code",
   "execution_count": 69,
   "id": "3ce885ed-bc69-47ae-8de3-69eb39c4c586",
   "metadata": {},
   "outputs": [
    {
     "data": {
      "text/plain": [
       "'cadena'"
      ]
     },
     "execution_count": 69,
     "metadata": {},
     "output_type": "execute_result"
    }
   ],
   "source": [
    "# Para tomar una palabra de varias\n",
    "b[0:6]"
   ]
  },
  {
   "cell_type": "code",
   "execution_count": 70,
   "id": "11f36f3c-27f6-4a26-a3d2-922e425f78b6",
   "metadata": {},
   "outputs": [
    {
     "data": {
      "text/plain": [
       "'Hola jolines rayomiado'"
      ]
     },
     "execution_count": 70,
     "metadata": {},
     "output_type": "execute_result"
    }
   ],
   "source": [
    "a"
   ]
  },
  {
   "cell_type": "code",
   "execution_count": 71,
   "id": "d46e175a-7313-4fec-af6a-68f75cca01e4",
   "metadata": {},
   "outputs": [
    {
     "data": {
      "text/plain": [
       "'oajlnsry'"
      ]
     },
     "execution_count": 71,
     "metadata": {},
     "output_type": "execute_result"
    }
   ],
   "source": [
    "a[1: 17: 2]\n",
    "# El rango funciona como range(pos_i, pos_f, salto)"
   ]
  },
  {
   "cell_type": "code",
   "execution_count": 72,
   "id": "dd62773c-3247-4626-9924-5a21d5031766",
   "metadata": {},
   "outputs": [
    {
     "data": {
      "text/plain": [
       "22"
      ]
     },
     "execution_count": 72,
     "metadata": {},
     "output_type": "execute_result"
    }
   ],
   "source": [
    "len(a)"
   ]
  },
  {
   "cell_type": "code",
   "execution_count": 77,
   "id": "599a8a24-d533-4596-8b12-f2c641c619ea",
   "metadata": {},
   "outputs": [
    {
     "data": {
      "text/plain": [
       "'o'"
      ]
     },
     "execution_count": 77,
     "metadata": {},
     "output_type": "execute_result"
    }
   ],
   "source": [
    "a[-1]"
   ]
  },
  {
   "cell_type": "code",
   "execution_count": 87,
   "id": "0e19d47c-ced0-43cf-9ab7-4f83c7a50671",
   "metadata": {},
   "outputs": [
    {
     "data": {
      "text/plain": [
       "'Hola '"
      ]
     },
     "execution_count": 87,
     "metadata": {},
     "output_type": "execute_result"
    }
   ],
   "source": [
    "a[:5]"
   ]
  },
  {
   "cell_type": "code",
   "execution_count": 88,
   "id": "b257f6ec-60ed-465b-8705-df1168b2356c",
   "metadata": {},
   "outputs": [
    {
     "data": {
      "text/plain": [
       "'Hola jolines rayomiado'"
      ]
     },
     "execution_count": 88,
     "metadata": {},
     "output_type": "execute_result"
    }
   ],
   "source": [
    "a[:]"
   ]
  },
  {
   "cell_type": "code",
   "execution_count": 90,
   "id": "d27f52fd-6403-4112-a33d-cf272c0cc041",
   "metadata": {},
   "outputs": [
    {
     "data": {
      "text/plain": [
       "'odaimoyar seniloj aloH'"
      ]
     },
     "execution_count": 90,
     "metadata": {},
     "output_type": "execute_result"
    }
   ],
   "source": [
    "a[::-1]"
   ]
  },
  {
   "cell_type": "markdown",
   "id": "ee23c9df-f6f3-42fb-848a-a57c34a1793e",
   "metadata": {},
   "source": [
    "# TAREA"
   ]
  },
  {
   "cell_type": "code",
   "execution_count": 1,
   "id": "bdf5903c-b13c-4fcc-988b-38aff0f0ae10",
   "metadata": {},
   "outputs": [],
   "source": [
    "#Qué es que una cadena sea inmutable? "
   ]
  },
  {
   "cell_type": "code",
   "execution_count": null,
   "id": "6faddcee-fde0-4ffa-8ce1-63d6457b6153",
   "metadata": {},
   "outputs": [],
   "source": []
  }
 ],
 "metadata": {
  "kernelspec": {
   "display_name": "Python 3 (ipykernel)",
   "language": "python",
   "name": "python3"
  },
  "language_info": {
   "codemirror_mode": {
    "name": "ipython",
    "version": 3
   },
   "file_extension": ".py",
   "mimetype": "text/x-python",
   "name": "python",
   "nbconvert_exporter": "python",
   "pygments_lexer": "ipython3",
   "version": "3.10.4"
  }
 },
 "nbformat": 4,
 "nbformat_minor": 5
}
