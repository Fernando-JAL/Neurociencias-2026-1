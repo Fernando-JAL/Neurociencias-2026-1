{
 "cells": [
  {
   "cell_type": "code",
   "execution_count": 3,
   "id": "4a9bde1a-c510-4fe0-98b5-df33781ebef9",
   "metadata": {},
   "outputs": [
    {
     "data": {
      "text/plain": [
       "25"
      ]
     },
     "execution_count": 3,
     "metadata": {},
     "output_type": "execute_result"
    }
   ],
   "source": [
    "## funciones Lambda\n",
    "\n",
    "def funcion(x):\n",
    "    return x**2\n",
    "\n",
    "funcion(5)"
   ]
  },
  {
   "cell_type": "code",
   "execution_count": 6,
   "id": "d8d3fc01-0f34-49e5-9cc9-0cf384fa5ebf",
   "metadata": {},
   "outputs": [
    {
     "data": {
      "text/plain": [
       "25"
      ]
     },
     "execution_count": 6,
     "metadata": {},
     "output_type": "execute_result"
    }
   ],
   "source": [
    "## la funcion labda permite crear funciones sin usar def \n",
    "func_lambda= lambda x:x**2 # sin retorno, sin indetacion, sin nombre \n",
    "func_lambda(5)"
   ]
  },
  {
   "cell_type": "code",
   "execution_count": 7,
   "id": "0ff00a02-11b1-49ac-90ab-a304ccfb77e3",
   "metadata": {},
   "outputs": [
    {
     "data": {
      "text/plain": [
       "13"
      ]
     },
     "execution_count": 7,
     "metadata": {},
     "output_type": "execute_result"
    }
   ],
   "source": [
    "def funcion (x,y):\n",
    "    return x+ y \n",
    "funcion (5,8)"
   ]
  },
  {
   "cell_type": "code",
   "execution_count": 8,
   "id": "6a5963b8-aeea-4f9b-b3a5-834dc0f62d7d",
   "metadata": {},
   "outputs": [
    {
     "data": {
      "text/plain": [
       "13"
      ]
     },
     "execution_count": 8,
     "metadata": {},
     "output_type": "execute_result"
    }
   ],
   "source": [
    "fun_1= lambda x, y: x+y\n",
    "fun_1(5, 8)"
   ]
  },
  {
   "cell_type": "code",
   "execution_count": 9,
   "id": "b91c72fa-1de8-417b-97bb-2ee363d50328",
   "metadata": {},
   "outputs": [
    {
     "data": {
      "text/plain": [
       "(3, -2)"
      ]
     },
     "execution_count": 9,
     "metadata": {},
     "output_type": "execute_result"
    }
   ],
   "source": [
    "def funcion(a,b,c):\n",
    "    return a+b, a-c\n",
    "funcion (1,2,3)"
   ]
  },
  {
   "cell_type": "code",
   "execution_count": 10,
   "id": "022f2e19-0ab7-4221-87e4-6672d5259da2",
   "metadata": {},
   "outputs": [
    {
     "data": {
      "text/plain": [
       "(3, -2)"
      ]
     },
     "execution_count": 10,
     "metadata": {},
     "output_type": "execute_result"
    }
   ],
   "source": [
    "fun_lambda=lambda a,b,c: (a+b,a-c)\n",
    "fun_lambda(1,2,3)"
   ]
  },
  {
   "cell_type": "code",
   "execution_count": 16,
   "id": "9b1acc33-ef0b-41ef-968a-4ffc24afe60a",
   "metadata": {},
   "outputs": [
    {
     "data": {
      "text/plain": [
       "[(12, -52), (7, 5), (2, 0), (1, 8)]"
      ]
     },
     "execution_count": 16,
     "metadata": {},
     "output_type": "execute_result"
    }
   ],
   "source": [
    "lista=[(1,8),(7,5),(12,-52),(2,0)]\n",
    "lista.sort(reverse=True)\n",
    "lista"
   ]
  },
  {
   "cell_type": "code",
   "execution_count": 26,
   "id": "aae9ae0b-714e-4f81-82c2-0cc9f4ed0913",
   "metadata": {},
   "outputs": [
    {
     "data": {
      "text/plain": [
       "[(1, 8), (7, 5), (2, 0), (12, -52)]"
      ]
     },
     "execution_count": 26,
     "metadata": {},
     "output_type": "execute_result"
    }
   ],
   "source": [
    "## definiendo funcion que vamos a llamar en key\n",
    "\n",
    "def funcion(x):\n",
    "    return x[1]\n",
    "\n",
    "lista.sort(key=funcion,reverse=True) ## key --> se llama para decidir con base a que se va ordenar\n",
    "lista"
   ]
  },
  {
   "cell_type": "code",
   "execution_count": 28,
   "id": "c687b7a3-a9b5-4ad6-9b89-6fd0c3cbba17",
   "metadata": {},
   "outputs": [
    {
     "data": {
      "text/plain": [
       "[(1, 8), (7, 5), (2, 0), (12, -52)]"
      ]
     },
     "execution_count": 28,
     "metadata": {},
     "output_type": "execute_result"
    }
   ],
   "source": [
    "lista.sort(key=lambda x:x[1], reverse=True) ## resumiendo lineas, directo en key\n",
    "lista"
   ]
  },
  {
   "cell_type": "code",
   "execution_count": 34,
   "id": "4f6cf664-e516-48b5-a24d-8cc3583bfb4c",
   "metadata": {},
   "outputs": [
    {
     "data": {
      "text/html": [
       "<div>\n",
       "<style scoped>\n",
       "    .dataframe tbody tr th:only-of-type {\n",
       "        vertical-align: middle;\n",
       "    }\n",
       "\n",
       "    .dataframe tbody tr th {\n",
       "        vertical-align: top;\n",
       "    }\n",
       "\n",
       "    .dataframe thead th {\n",
       "        text-align: right;\n",
       "    }\n",
       "</style>\n",
       "<table border=\"1\" class=\"dataframe\">\n",
       "  <thead>\n",
       "    <tr style=\"text-align: right;\">\n",
       "      <th></th>\n",
       "      <th>sujeto</th>\n",
       "      <th>genero</th>\n",
       "      <th>condicion</th>\n",
       "      <th>region</th>\n",
       "      <th>neuro</th>\n",
       "    </tr>\n",
       "  </thead>\n",
       "  <tbody>\n",
       "    <tr>\n",
       "      <th>0</th>\n",
       "      <td>S03</td>\n",
       "      <td>F</td>\n",
       "      <td>control</td>\n",
       "      <td>hipocampo</td>\n",
       "      <td>serotonina</td>\n",
       "    </tr>\n",
       "    <tr>\n",
       "      <th>1</th>\n",
       "      <td>S00</td>\n",
       "      <td>M</td>\n",
       "      <td>experimental</td>\n",
       "      <td>cortex prefrontal</td>\n",
       "      <td>dopamina</td>\n",
       "    </tr>\n",
       "    <tr>\n",
       "      <th>2</th>\n",
       "      <td>S02</td>\n",
       "      <td>F</td>\n",
       "      <td>control</td>\n",
       "      <td>cortex prefrontal</td>\n",
       "      <td>serotonina</td>\n",
       "    </tr>\n",
       "    <tr>\n",
       "      <th>3</th>\n",
       "      <td>S01</td>\n",
       "      <td>F</td>\n",
       "      <td>control</td>\n",
       "      <td>amigdala</td>\n",
       "      <td>serotonina</td>\n",
       "    </tr>\n",
       "    <tr>\n",
       "      <th>4</th>\n",
       "      <td>S02</td>\n",
       "      <td>M</td>\n",
       "      <td>experimental</td>\n",
       "      <td>hipocampo</td>\n",
       "      <td>serotonina</td>\n",
       "    </tr>\n",
       "    <tr>\n",
       "      <th>...</th>\n",
       "      <td>...</td>\n",
       "      <td>...</td>\n",
       "      <td>...</td>\n",
       "      <td>...</td>\n",
       "      <td>...</td>\n",
       "    </tr>\n",
       "    <tr>\n",
       "      <th>195</th>\n",
       "      <td>S03</td>\n",
       "      <td>F</td>\n",
       "      <td>experimental</td>\n",
       "      <td>hipocampo</td>\n",
       "      <td>dopamina</td>\n",
       "    </tr>\n",
       "    <tr>\n",
       "      <th>196</th>\n",
       "      <td>S00</td>\n",
       "      <td>F</td>\n",
       "      <td>experimental</td>\n",
       "      <td>amigdala</td>\n",
       "      <td>dopamina</td>\n",
       "    </tr>\n",
       "    <tr>\n",
       "      <th>197</th>\n",
       "      <td>S03</td>\n",
       "      <td>F</td>\n",
       "      <td>experimental</td>\n",
       "      <td>hipocampo</td>\n",
       "      <td>serotonina</td>\n",
       "    </tr>\n",
       "    <tr>\n",
       "      <th>198</th>\n",
       "      <td>S03</td>\n",
       "      <td>M</td>\n",
       "      <td>control</td>\n",
       "      <td>cortex prefrontal</td>\n",
       "      <td>serotonina</td>\n",
       "    </tr>\n",
       "    <tr>\n",
       "      <th>199</th>\n",
       "      <td>S03</td>\n",
       "      <td>M</td>\n",
       "      <td>control</td>\n",
       "      <td>amigdala</td>\n",
       "      <td>serotonina</td>\n",
       "    </tr>\n",
       "  </tbody>\n",
       "</table>\n",
       "<p>200 rows × 5 columns</p>\n",
       "</div>"
      ],
      "text/plain": [
       "    sujeto genero     condicion             region       neuro\n",
       "0      S03      F       control          hipocampo  serotonina\n",
       "1      S00      M  experimental  cortex prefrontal    dopamina\n",
       "2      S02      F       control  cortex prefrontal  serotonina\n",
       "3      S01      F       control           amigdala  serotonina\n",
       "4      S02      M  experimental          hipocampo  serotonina\n",
       "..     ...    ...           ...                ...         ...\n",
       "195    S03      F  experimental          hipocampo    dopamina\n",
       "196    S00      F  experimental           amigdala    dopamina\n",
       "197    S03      F  experimental          hipocampo  serotonina\n",
       "198    S03      M       control  cortex prefrontal  serotonina\n",
       "199    S03      M       control           amigdala  serotonina\n",
       "\n",
       "[200 rows x 5 columns]"
      ]
     },
     "execution_count": 34,
     "metadata": {},
     "output_type": "execute_result"
    }
   ],
   "source": [
    "## copiar y pegar data frame \n",
    "import pandas as pd\n",
    "import numpy as np\n",
    "tipos_sujetos=[\"S\"+str(i).zfill(2) for i in range(4)] ##zfill --> cuantos espacio deja str(valor que quiero),.zfill(cuantos caracteres se llenan con 0)\n",
    "generos=[\"M\", \"F\"]\n",
    "condicion=[\"control\", \"experimental\"]\n",
    "region=[\"hipocampo\", \"cortex prefrontal\", \"amigdala\"]\n",
    "neurotransmisor=[\"dopamina\",\"serotonina\"]\n",
    "longitud=200\n",
    "variables=[tipos_sujetos,generos,condicion,region,neurotransmisor] ##creando una lista de listas \n",
    "data2=[]\n",
    "\n",
    "for var in variables: ##estas reccoriendo cada lista de la lista variables\n",
    "    opciones=np.random.randint(len(var),size=longitud)\n",
    "    data2.append([var[i] for i in opciones])  #seleccionas de var según los índices aleatorios generados.\n",
    "\n",
    "df=pd.DataFrame(data2).transpose() ## Con .transpose(), las filas y columnas se intercambian\n",
    "df.columns=[\"sujeto\",\"genero\",\"condicion\",\"region\",\"neuro\"]\n",
    "df"
   ]
  },
  {
   "cell_type": "code",
   "execution_count": 35,
   "id": "4ec77ec5-38dc-485a-b5c2-f8cba7ba6176",
   "metadata": {},
   "outputs": [
    {
     "data": {
      "text/plain": [
       "0              HIPOCAMPO\n",
       "1      CORTEX PREFRONTAL\n",
       "2      CORTEX PREFRONTAL\n",
       "3               AMIGDALA\n",
       "4              HIPOCAMPO\n",
       "             ...        \n",
       "195            HIPOCAMPO\n",
       "196             AMIGDALA\n",
       "197            HIPOCAMPO\n",
       "198    CORTEX PREFRONTAL\n",
       "199             AMIGDALA\n",
       "Name: region, Length: 200, dtype: object"
      ]
     },
     "execution_count": 35,
     "metadata": {},
     "output_type": "execute_result"
    }
   ],
   "source": [
    "def funcion(string):\n",
    "    return string.upper()\n",
    "\n",
    "df[\"region\"].apply(funcion)"
   ]
  },
  {
   "cell_type": "code",
   "execution_count": 36,
   "id": "3136c12c-2e19-4abd-ba8a-3370f68a5cf6",
   "metadata": {},
   "outputs": [
    {
     "data": {
      "text/plain": [
       "0              HIPOCAMPO\n",
       "1      CORTEX PREFRONTAL\n",
       "2      CORTEX PREFRONTAL\n",
       "3               AMIGDALA\n",
       "4              HIPOCAMPO\n",
       "             ...        \n",
       "195            HIPOCAMPO\n",
       "196             AMIGDALA\n",
       "197            HIPOCAMPO\n",
       "198    CORTEX PREFRONTAL\n",
       "199             AMIGDALA\n",
       "Name: region, Length: 200, dtype: object"
      ]
     },
     "execution_count": 36,
     "metadata": {},
     "output_type": "execute_result"
    }
   ],
   "source": [
    "df[\"region\"].apply(lambda string: string.upper())"
   ]
  },
  {
   "cell_type": "code",
   "execution_count": 37,
   "id": "4bf272a6-a592-45f2-942b-b5a7bcbd885f",
   "metadata": {},
   "outputs": [
    {
     "data": {
      "text/html": [
       "<div>\n",
       "<style scoped>\n",
       "    .dataframe tbody tr th:only-of-type {\n",
       "        vertical-align: middle;\n",
       "    }\n",
       "\n",
       "    .dataframe tbody tr th {\n",
       "        vertical-align: top;\n",
       "    }\n",
       "\n",
       "    .dataframe thead th {\n",
       "        text-align: right;\n",
       "    }\n",
       "</style>\n",
       "<table border=\"1\" class=\"dataframe\">\n",
       "  <thead>\n",
       "    <tr style=\"text-align: right;\">\n",
       "      <th></th>\n",
       "      <th>region</th>\n",
       "      <th>condicion</th>\n",
       "      <th>neuro</th>\n",
       "    </tr>\n",
       "  </thead>\n",
       "  <tbody>\n",
       "    <tr>\n",
       "      <th>0</th>\n",
       "      <td>HIPOCAMPO</td>\n",
       "      <td>CONTROL</td>\n",
       "      <td>SEROTONINA</td>\n",
       "    </tr>\n",
       "    <tr>\n",
       "      <th>1</th>\n",
       "      <td>CORTEX PREFRONTAL</td>\n",
       "      <td>EXPERIMENTAL</td>\n",
       "      <td>DOPAMINA</td>\n",
       "    </tr>\n",
       "    <tr>\n",
       "      <th>2</th>\n",
       "      <td>CORTEX PREFRONTAL</td>\n",
       "      <td>CONTROL</td>\n",
       "      <td>SEROTONINA</td>\n",
       "    </tr>\n",
       "    <tr>\n",
       "      <th>3</th>\n",
       "      <td>AMIGDALA</td>\n",
       "      <td>CONTROL</td>\n",
       "      <td>SEROTONINA</td>\n",
       "    </tr>\n",
       "    <tr>\n",
       "      <th>4</th>\n",
       "      <td>HIPOCAMPO</td>\n",
       "      <td>EXPERIMENTAL</td>\n",
       "      <td>SEROTONINA</td>\n",
       "    </tr>\n",
       "    <tr>\n",
       "      <th>...</th>\n",
       "      <td>...</td>\n",
       "      <td>...</td>\n",
       "      <td>...</td>\n",
       "    </tr>\n",
       "    <tr>\n",
       "      <th>195</th>\n",
       "      <td>HIPOCAMPO</td>\n",
       "      <td>EXPERIMENTAL</td>\n",
       "      <td>DOPAMINA</td>\n",
       "    </tr>\n",
       "    <tr>\n",
       "      <th>196</th>\n",
       "      <td>AMIGDALA</td>\n",
       "      <td>EXPERIMENTAL</td>\n",
       "      <td>DOPAMINA</td>\n",
       "    </tr>\n",
       "    <tr>\n",
       "      <th>197</th>\n",
       "      <td>HIPOCAMPO</td>\n",
       "      <td>EXPERIMENTAL</td>\n",
       "      <td>SEROTONINA</td>\n",
       "    </tr>\n",
       "    <tr>\n",
       "      <th>198</th>\n",
       "      <td>CORTEX PREFRONTAL</td>\n",
       "      <td>CONTROL</td>\n",
       "      <td>SEROTONINA</td>\n",
       "    </tr>\n",
       "    <tr>\n",
       "      <th>199</th>\n",
       "      <td>AMIGDALA</td>\n",
       "      <td>CONTROL</td>\n",
       "      <td>SEROTONINA</td>\n",
       "    </tr>\n",
       "  </tbody>\n",
       "</table>\n",
       "<p>200 rows × 3 columns</p>\n",
       "</div>"
      ],
      "text/plain": [
       "                region     condicion       neuro\n",
       "0            HIPOCAMPO       CONTROL  SEROTONINA\n",
       "1    CORTEX PREFRONTAL  EXPERIMENTAL    DOPAMINA\n",
       "2    CORTEX PREFRONTAL       CONTROL  SEROTONINA\n",
       "3             AMIGDALA       CONTROL  SEROTONINA\n",
       "4            HIPOCAMPO  EXPERIMENTAL  SEROTONINA\n",
       "..                 ...           ...         ...\n",
       "195          HIPOCAMPO  EXPERIMENTAL    DOPAMINA\n",
       "196           AMIGDALA  EXPERIMENTAL    DOPAMINA\n",
       "197          HIPOCAMPO  EXPERIMENTAL  SEROTONINA\n",
       "198  CORTEX PREFRONTAL       CONTROL  SEROTONINA\n",
       "199           AMIGDALA       CONTROL  SEROTONINA\n",
       "\n",
       "[200 rows x 3 columns]"
      ]
     },
     "execution_count": 37,
     "metadata": {},
     "output_type": "execute_result"
    }
   ],
   "source": [
    "df[[\"region\",\"condicion\",\"neuro\"]].apply(lambda serie: [string.upper() for string in serie])"
   ]
  }
 ],
 "metadata": {
  "kernelspec": {
   "display_name": "Python 3 (ipykernel)",
   "language": "python",
   "name": "python3"
  },
  "language_info": {
   "codemirror_mode": {
    "name": "ipython",
    "version": 3
   },
   "file_extension": ".py",
   "mimetype": "text/x-python",
   "name": "python",
   "nbconvert_exporter": "python",
   "pygments_lexer": "ipython3",
   "version": "3.14.0"
  }
 },
 "nbformat": 4,
 "nbformat_minor": 5
}
