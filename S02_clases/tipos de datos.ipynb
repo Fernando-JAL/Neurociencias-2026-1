{
 "cells": [
  {
   "cell_type": "markdown",
   "id": "2a8bc6db-538a-432c-bbc4-cf54d069a185",
   "metadata": {},
   "source": [
    "# tipos de datos \n",
    "numeros \n",
    "dict "
   ]
  },
  {
   "cell_type": "code",
   "execution_count": 2,
   "id": "29e5947d-47af-42ab-9422-4fa3037f5d24",
   "metadata": {},
   "outputs": [
    {
     "data": {
      "text/plain": [
       "1"
      ]
     },
     "execution_count": 2,
     "metadata": {},
     "output_type": "execute_result"
    }
   ],
   "source": [
    "a=1\n",
    "a"
   ]
  },
  {
   "cell_type": "code",
   "execution_count": 3,
   "id": "51cc124f-b122-4778-ad44-9bb7ab7880ee",
   "metadata": {},
   "outputs": [
    {
     "data": {
      "text/plain": [
       "-12345678"
      ]
     },
     "execution_count": 3,
     "metadata": {},
     "output_type": "execute_result"
    }
   ],
   "source": [
    "b= -12345678\n",
    "b"
   ]
  },
  {
   "cell_type": "code",
   "execution_count": 4,
   "id": "93eb885d-e897-4c69-8ba7-b1b0042503d3",
   "metadata": {},
   "outputs": [
    {
     "data": {
      "text/plain": [
       "(int, int)"
      ]
     },
     "execution_count": 4,
     "metadata": {},
     "output_type": "execute_result"
    }
   ],
   "source": [
    "type (a), type (b)"
   ]
  },
  {
   "cell_type": "code",
   "execution_count": 7,
   "id": "1f79dff8-4a0f-4fa3-aa5a-023278ac6077",
   "metadata": {},
   "outputs": [
    {
     "data": {
      "text/plain": [
       "float"
      ]
     },
     "execution_count": 7,
     "metadata": {},
     "output_type": "execute_result"
    }
   ],
   "source": [
    "type(1.2)"
   ]
  },
  {
   "cell_type": "markdown",
   "id": "7e32c1eb-8afa-4782-8228-5c01e7d10371",
   "metadata": {},
   "source": [
    "# definicion de complejos"
   ]
  },
  {
   "cell_type": "code",
   "execution_count": 8,
   "id": "861623ff-19f4-4210-9c17-2e6da7fe1348",
   "metadata": {},
   "outputs": [
    {
     "data": {
      "text/plain": [
       "(1+3j)"
      ]
     },
     "execution_count": 8,
     "metadata": {},
     "output_type": "execute_result"
    }
   ],
   "source": [
    "complex(1, 3)"
   ]
  },
  {
   "cell_type": "markdown",
   "id": "bb3ca41c-92cf-4288-a7c7-21c870b143bb",
   "metadata": {},
   "source": [
    "son numeros imaginarios de la forma \"a+bi\" pero en lugar de la i jupyter te pone una j  "
   ]
  },
  {
   "cell_type": "code",
   "execution_count": 9,
   "id": "7f40afbc-fd39-43c2-8023-300ec1bc2bc3",
   "metadata": {},
   "outputs": [
    {
     "data": {
      "text/plain": [
       "1j"
      ]
     },
     "execution_count": 9,
     "metadata": {},
     "output_type": "execute_result"
    }
   ],
   "source": [
    "complex(0,1)"
   ]
  },
  {
   "cell_type": "markdown",
   "id": "b7762356-7a0c-4210-8011-99c0ef867a8a",
   "metadata": {},
   "source": [
    "lo de arriba es para solo poner 1j, como es de la forma \"a+bj\" solo modifico \"bj\""
   ]
  },
  {
   "cell_type": "code",
   "execution_count": 71,
   "id": "d8a47fa0-12d1-44c7-875a-e3897f071244",
   "metadata": {},
   "outputs": [
    {
     "data": {
      "text/plain": [
       "(3+1j)"
      ]
     },
     "execution_count": 71,
     "metadata": {},
     "output_type": "execute_result"
    }
   ],
   "source": [
    "c= complex(0 , 1)+3\n",
    "c"
   ]
  },
  {
   "cell_type": "code",
   "execution_count": 12,
   "id": "e77312d3-c574-40f5-85ec-34bcea464290",
   "metadata": {},
   "outputs": [
    {
     "data": {
      "text/plain": [
       "(3+3j)"
      ]
     },
     "execution_count": 12,
     "metadata": {},
     "output_type": "execute_result"
    }
   ],
   "source": [
    "# quiero sumar 2j al valor de c, pero para eso defini c\n",
    "c + complex (0,2)"
   ]
  },
  {
   "cell_type": "code",
   "execution_count": 13,
   "id": "fbd62109-9ae7-4ef4-adaa-38e1f98bbc27",
   "metadata": {},
   "outputs": [
    {
     "data": {
      "text/plain": [
       "complex"
      ]
     },
     "execution_count": 13,
     "metadata": {},
     "output_type": "execute_result"
    }
   ],
   "source": [
    "type (c)"
   ]
  },
  {
   "cell_type": "markdown",
   "id": "630ded37-a656-48fd-a341-8473d2e88b09",
   "metadata": {},
   "source": [
    "# operaciones con tipos de datos numericos "
   ]
  },
  {
   "cell_type": "code",
   "execution_count": 14,
   "id": "fc0dec45-2b5b-49c8-b45d-147de17d0610",
   "metadata": {},
   "outputs": [
    {
     "data": {
      "text/plain": [
       "100"
      ]
     },
     "execution_count": 14,
     "metadata": {},
     "output_type": "execute_result"
    }
   ],
   "source": [
    "56 + 44"
   ]
  },
  {
   "cell_type": "code",
   "execution_count": 15,
   "id": "55875122-6d3d-49ef-a674-731d2f6a43bf",
   "metadata": {},
   "outputs": [
    {
     "data": {
      "text/plain": [
       "720"
      ]
     },
     "execution_count": 15,
     "metadata": {},
     "output_type": "execute_result"
    }
   ],
   "source": [
    "800 - 80"
   ]
  },
  {
   "cell_type": "code",
   "execution_count": 16,
   "id": "51602096-2605-4dc1-bc39-55de16ecf6cf",
   "metadata": {},
   "outputs": [
    {
     "data": {
      "text/plain": [
       "783"
      ]
     },
     "execution_count": 16,
     "metadata": {},
     "output_type": "execute_result"
    }
   ],
   "source": [
    "87*9"
   ]
  },
  {
   "cell_type": "code",
   "execution_count": 17,
   "id": "334c74cf-ba0a-4e8a-85b7-42faa6754cdd",
   "metadata": {},
   "outputs": [
    {
     "data": {
      "text/plain": [
       "1.8521739130434782"
      ]
     },
     "execution_count": 17,
     "metadata": {},
     "output_type": "execute_result"
    }
   ],
   "source": [
    "85.2/46"
   ]
  },
  {
   "cell_type": "code",
   "execution_count": 18,
   "id": "5debc83a-a678-4350-a19e-71946b2a432e",
   "metadata": {},
   "outputs": [
    {
     "data": {
      "text/plain": [
       "9"
      ]
     },
     "execution_count": 18,
     "metadata": {},
     "output_type": "execute_result"
    }
   ],
   "source": [
    "# potencia \n",
    "3**2"
   ]
  },
  {
   "cell_type": "code",
   "execution_count": 19,
   "id": "e174558c-f951-4f90-9258-af9307f39f1f",
   "metadata": {},
   "outputs": [],
   "source": [
    "# raiz cuadrada"
   ]
  },
  {
   "cell_type": "code",
   "execution_count": 20,
   "id": "8710cc9c-5953-4cac-a5a7-44bc053b6fd4",
   "metadata": {},
   "outputs": [
    {
     "data": {
      "text/plain": [
       "3.0"
      ]
     },
     "execution_count": 20,
     "metadata": {},
     "output_type": "execute_result"
    }
   ],
   "source": [
    "9**0.5"
   ]
  },
  {
   "cell_type": "code",
   "execution_count": 21,
   "id": "b5841733-e078-4d4a-9227-ba9399bfd02f",
   "metadata": {},
   "outputs": [
    {
     "data": {
      "text/plain": [
       "0"
      ]
     },
     "execution_count": 21,
     "metadata": {},
     "output_type": "execute_result"
    }
   ],
   "source": [
    "# residuo de una division \n",
    "16%4"
   ]
  },
  {
   "cell_type": "code",
   "execution_count": 22,
   "id": "ac53e8ab-b75c-453d-97ba-ee20e036aeb6",
   "metadata": {},
   "outputs": [
    {
     "data": {
      "text/plain": [
       "4"
      ]
     },
     "execution_count": 22,
     "metadata": {},
     "output_type": "execute_result"
    }
   ],
   "source": [
    "# para calcular el cociente o division entera\n",
    "16 // 4"
   ]
  },
  {
   "cell_type": "code",
   "execution_count": 75,
   "id": "43f0dcd4-7e4a-496e-a010-ff71da107934",
   "metadata": {},
   "outputs": [],
   "source": [
    "a=8\n",
    "b=3\n",
    "c=42\n"
   ]
  },
  {
   "cell_type": "code",
   "execution_count": 24,
   "id": "9b45a08a-5c50-408d-a001-a0cdbb8c0a1e",
   "metadata": {},
   "outputs": [
    {
     "data": {
      "text/plain": [
       "(8, 3, 42)"
      ]
     },
     "execution_count": 24,
     "metadata": {},
     "output_type": "execute_result"
    }
   ],
   "source": [
    "a,b,c"
   ]
  },
  {
   "cell_type": "code",
   "execution_count": 76,
   "id": "2fed208c-6fed-4350-905e-d2c529dc8b00",
   "metadata": {},
   "outputs": [
    {
     "ename": "ZeroDivisionError",
     "evalue": "division by zero",
     "output_type": "error",
     "traceback": [
      "\u001b[31m---------------------------------------------------------------------------\u001b[39m",
      "\u001b[31mZeroDivisionError\u001b[39m                         Traceback (most recent call last)",
      "\u001b[36mCell\u001b[39m\u001b[36m \u001b[39m\u001b[32mIn[76]\u001b[39m\u001b[32m, line 1\u001b[39m\n\u001b[32m----> \u001b[39m\u001b[32m1\u001b[39m c/a + b*a -- (\u001b[43ma\u001b[49m\u001b[43m*\u001b[49m\u001b[43m*\u001b[49m\u001b[43mb\u001b[49m\u001b[43m/\u001b[49m\u001b[43m(\u001b[49m\u001b[43mc\u001b[49m\u001b[43m%\u001b[49m\u001b[43mb\u001b[49m\u001b[43m)\u001b[49m)\n",
      "\u001b[31mZeroDivisionError\u001b[39m: division by zero"
     ]
    }
   ],
   "source": [
    "c/a + b*a -- (a**b/(c%b))"
   ]
  },
  {
   "cell_type": "markdown",
   "id": "b79fd199-447d-4ed0-b851-1ef4d0febc11",
   "metadata": {},
   "source": [
    "# strings"
   ]
  },
  {
   "cell_type": "code",
   "execution_count": 40,
   "id": "6ab3b89e-6196-4522-98f5-a139fd7ad76b",
   "metadata": {},
   "outputs": [
    {
     "data": {
      "text/plain": [
       "('cadena de texto', 'igual')"
      ]
     },
     "execution_count": 40,
     "metadata": {},
     "output_type": "execute_result"
    }
   ],
   "source": [
    "\"cadena de texto\", 'igual'"
   ]
  },
  {
   "cell_type": "code",
   "execution_count": 43,
   "id": "b1c03aa2-5563-4fd8-b697-9bbaf6dbb0bf",
   "metadata": {},
   "outputs": [
    {
     "data": {
      "text/plain": [
       "('texto1', 'texto2')"
      ]
     },
     "execution_count": 43,
     "metadata": {},
     "output_type": "execute_result"
    }
   ],
   "source": [
    "a, b= \"texto1\", 'texto2'\n",
    "a, b"
   ]
  },
  {
   "cell_type": "code",
   "execution_count": 44,
   "id": "41f292e1-6484-4893-9c21-b1884dfc8777",
   "metadata": {},
   "outputs": [
    {
     "name": "stdout",
     "output_type": "stream",
     "text": [
      "texto1 texto2 otra cosa\n"
     ]
    }
   ],
   "source": [
    "print (a, b, 'otra cosa')"
   ]
  },
  {
   "cell_type": "code",
   "execution_count": 46,
   "id": "8cc8d0e4-ecd7-4f27-9cfa-6fa6ed8c9818",
   "metadata": {},
   "outputs": [
    {
     "name": "stdout",
     "output_type": "stream",
     "text": [
      "texto1 \t texto2 otro 89.5\n"
     ]
    }
   ],
   "source": [
    "# para tabulacion \n",
    "print (a, '\\t', b, 'otro', 89.5)"
   ]
  },
  {
   "cell_type": "code",
   "execution_count": 47,
   "id": "65f03118-3fd8-413f-8bff-1bb061abdc49",
   "metadata": {},
   "outputs": [
    {
     "name": "stdout",
     "output_type": "stream",
     "text": [
      "texto1 \n",
      " texto2 otro 89.5\n"
     ]
    }
   ],
   "source": [
    "# para salto de pagina \n",
    "print (a, '\\n', b, 'otro', 89.5)"
   ]
  },
  {
   "cell_type": "code",
   "execution_count": 52,
   "id": "fe2c623c-35aa-4244-a34e-58b8f823e286",
   "metadata": {},
   "outputs": [
    {
     "name": "stdout",
     "output_type": "stream",
     "text": [
      "c:\\tadjijre\n"
     ]
    }
   ],
   "source": [
    "# para que muestre el texto sin hacerle modifcicaciones, le ponemos \"r\" de \n",
    "print(r'c:\\tadjijre')"
   ]
  },
  {
   "cell_type": "code",
   "execution_count": 53,
   "id": "210cff2f-5281-4ccf-9adb-f5291fd1329c",
   "metadata": {},
   "outputs": [],
   "source": [
    "a, b= 'se', 'jw'"
   ]
  },
  {
   "cell_type": "code",
   "execution_count": 54,
   "id": "c0934f78-c6b9-4a2b-8380-a58a8b9d14e7",
   "metadata": {},
   "outputs": [
    {
     "data": {
      "text/plain": [
       "'sejw'"
      ]
     },
     "execution_count": 54,
     "metadata": {},
     "output_type": "execute_result"
    }
   ],
   "source": [
    "a+b"
   ]
  },
  {
   "cell_type": "code",
   "execution_count": 55,
   "id": "b9d827d9-ca8e-4503-8204-83f889d2fcde",
   "metadata": {},
   "outputs": [
    {
     "data": {
      "text/plain": [
       "'sesese'"
      ]
     },
     "execution_count": 55,
     "metadata": {},
     "output_type": "execute_result"
    }
   ],
   "source": [
    "# no se puede hacer resta, division, pero si puedes multiplicar una variable \n",
    "3 * a"
   ]
  },
  {
   "cell_type": "code",
   "execution_count": 56,
   "id": "bfa1e8fd-169a-472c-8310-39fab99cdce9",
   "metadata": {},
   "outputs": [
    {
     "data": {
      "text/plain": [
       "'sesesejwjwse'"
      ]
     },
     "execution_count": 56,
     "metadata": {},
     "output_type": "execute_result"
    }
   ],
   "source": [
    "3*a+ 2*b +a"
   ]
  },
  {
   "cell_type": "code",
   "execution_count": 57,
   "id": "25aac86f-f330-4ab8-9a07-deaeb729b552",
   "metadata": {},
   "outputs": [
    {
     "data": {
      "text/plain": [
       "('sejw', 'jwse')"
      ]
     },
     "execution_count": 57,
     "metadata": {},
     "output_type": "execute_result"
    }
   ],
   "source": [
    "a+b, b+a"
   ]
  },
  {
   "cell_type": "markdown",
   "id": "d9a4c1a4-f7de-4d43-8caf-1030c154f1f8",
   "metadata": {},
   "source": [
    "# slicing = rebanar"
   ]
  },
  {
   "cell_type": "code",
   "execution_count": 61,
   "id": "a68703a8-c0a8-4ad3-aa19-e70817a82006",
   "metadata": {},
   "outputs": [],
   "source": [
    "a = 'cadena' "
   ]
  },
  {
   "cell_type": "code",
   "execution_count": 62,
   "id": "88d07c9a-352e-415c-a82f-e671fb22e2c2",
   "metadata": {},
   "outputs": [
    {
     "data": {
      "text/plain": [
       "'n'"
      ]
     },
     "execution_count": 62,
     "metadata": {},
     "output_type": "execute_result"
    }
   ],
   "source": [
    "a [4]"
   ]
  },
  {
   "cell_type": "code",
   "execution_count": 64,
   "id": "d3f87aec-0793-449d-8e52-912bc0d5e535",
   "metadata": {},
   "outputs": [],
   "source": [
    "# para saber la longitud de la variable\n"
   ]
  },
  {
   "cell_type": "code",
   "execution_count": 65,
   "id": "0f315dd0-5785-4046-8258-626f31512b69",
   "metadata": {},
   "outputs": [
    {
     "ename": "NameError",
     "evalue": "name 'pos_1' is not defined",
     "output_type": "error",
     "traceback": [
      "\u001b[31m---------------------------------------------------------------------------\u001b[39m",
      "\u001b[31mNameError\u001b[39m                                 Traceback (most recent call last)",
      "\u001b[36mCell\u001b[39m\u001b[36m \u001b[39m\u001b[32mIn[65]\u001b[39m\u001b[32m, line 2\u001b[39m\n\u001b[32m      1\u001b[39m \u001b[38;5;66;03m# pasa saber posisicoens \u001b[39;00m\n\u001b[32m----> \u001b[39m\u001b[32m2\u001b[39m \u001b[43mpos_1\u001b[49m\n",
      "\u001b[31mNameError\u001b[39m: name 'pos_1' is not defined"
     ]
    }
   ],
   "source": [
    "# pasa saber posisicoens \n",
    "pos_1"
   ]
  },
  {
   "cell_type": "code",
   "execution_count": null,
   "id": "59f80ccf-6086-4aaf-a3b9-bf6b85980e9e",
   "metadata": {},
   "outputs": [],
   "source": []
  },
  {
   "cell_type": "code",
   "execution_count": 67,
   "id": "c795bb08-13af-4e4b-a811-87c70a7a741f",
   "metadata": {},
   "outputs": [
    {
     "data": {
      "text/plain": [
       "'chayotes azules'"
      ]
     },
     "execution_count": 67,
     "metadata": {},
     "output_type": "execute_result"
    }
   ],
   "source": [
    "b = 'chayotes azules'\n",
    "b"
   ]
  },
  {
   "cell_type": "code",
   "execution_count": 68,
   "id": "120d7e83-9b20-4df6-8fcd-074ca5890883",
   "metadata": {},
   "outputs": [
    {
     "data": {
      "text/plain": [
       "'o'"
      ]
     },
     "execution_count": 68,
     "metadata": {},
     "output_type": "execute_result"
    }
   ],
   "source": [
    "b[4:6:11]\n"
   ]
  },
  {
   "cell_type": "markdown",
   "id": "1c97afae-fa4c-4c5e-95bb-fe8dd51a8229",
   "metadata": {},
   "source": [
    "tarea, que es que una cadena sea inmutable "
   ]
  }
 ],
 "metadata": {
  "kernelspec": {
   "display_name": "Python 3 (ipykernel)",
   "language": "python",
   "name": "python3"
  },
  "language_info": {
   "codemirror_mode": {
    "name": "ipython",
    "version": 3
   },
   "file_extension": ".py",
   "mimetype": "text/x-python",
   "name": "python",
   "nbconvert_exporter": "python",
   "pygments_lexer": "ipython3",
   "version": "3.13.6"
  }
 },
 "nbformat": 4,
 "nbformat_minor": 5
}
