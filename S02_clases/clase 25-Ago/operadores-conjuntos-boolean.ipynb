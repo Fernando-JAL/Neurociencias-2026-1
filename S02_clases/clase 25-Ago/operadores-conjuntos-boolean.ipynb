{
 "cells": [
  {
   "cell_type": "markdown",
   "id": "d264cbde-bac7-4a95-99e4-2158e6c8e092",
   "metadata": {},
   "source": [
    "## Conversion de tipos de datos"
   ]
  },
  {
   "cell_type": "code",
   "execution_count": 4,
   "id": "e55f886d-5e4b-4c5e-a6a3-6a467c04969d",
   "metadata": {},
   "outputs": [
    {
     "data": {
      "text/plain": [
       "(-82, 631.0, 1j)"
      ]
     },
     "execution_count": 4,
     "metadata": {},
     "output_type": "execute_result"
    }
   ],
   "source": [
    "entero, flotante, complejo= -82, 631.0, complex (0,1)\n",
    "entero, flotante,complejo"
   ]
  },
  {
   "cell_type": "code",
   "execution_count": 5,
   "id": "6aa26366-cf5a-41a0-b2c7-59f9f590d31a",
   "metadata": {},
   "outputs": [
    {
     "data": {
      "text/plain": [
       "'1j'"
      ]
     },
     "execution_count": 5,
     "metadata": {},
     "output_type": "execute_result"
    }
   ],
   "source": [
    "str(complejo)"
   ]
  },
  {
   "cell_type": "code",
   "execution_count": 6,
   "id": "5230584c-8feb-4372-9f27-f3b58aa340a9",
   "metadata": {},
   "outputs": [
    {
     "data": {
      "text/plain": [
       "'-46.23'"
      ]
     },
     "execution_count": 6,
     "metadata": {},
     "output_type": "execute_result"
    }
   ],
   "source": [
    "cadena = \"-46.23\"\n",
    "cadena"
   ]
  },
  {
   "cell_type": "code",
   "execution_count": 7,
   "id": "ab4cc6cb-06e2-4301-a795-58d089e3ec31",
   "metadata": {},
   "outputs": [
    {
     "data": {
      "text/plain": [
       "-46.23"
      ]
     },
     "execution_count": 7,
     "metadata": {},
     "output_type": "execute_result"
    }
   ],
   "source": [
    "float(cadena)"
   ]
  },
  {
   "cell_type": "code",
   "execution_count": 8,
   "id": "04776cd0-0788-411a-ae86-500b71f6d03b",
   "metadata": {},
   "outputs": [
    {
     "data": {
      "text/plain": [
       "['-', '4', '6', '.', '2', '3']"
      ]
     },
     "execution_count": 8,
     "metadata": {},
     "output_type": "execute_result"
    }
   ],
   "source": [
    "list(cadena)"
   ]
  },
  {
   "cell_type": "markdown",
   "id": "8dcb8a96-cf65-48d4-a596-bfd2562427d8",
   "metadata": {},
   "source": [
    "## TIPO DE DATO BOOLEAN"
   ]
  },
  {
   "cell_type": "code",
   "execution_count": 9,
   "id": "eddde677-b92e-4262-9261-95331f1fa2a5",
   "metadata": {},
   "outputs": [
    {
     "data": {
      "text/plain": [
       "(True, False)"
      ]
     },
     "execution_count": 9,
     "metadata": {},
     "output_type": "execute_result"
    }
   ],
   "source": [
    "value1, value2= True, False\n",
    "value1, value2"
   ]
  },
  {
   "cell_type": "code",
   "execution_count": 10,
   "id": "9fba38ec-cd3e-4733-8ba5-20cbee34352f",
   "metadata": {},
   "outputs": [
    {
     "data": {
      "text/plain": [
       "bool"
      ]
     },
     "execution_count": 10,
     "metadata": {},
     "output_type": "execute_result"
    }
   ],
   "source": [
    "type (value1)"
   ]
  },
  {
   "cell_type": "code",
   "execution_count": 11,
   "id": "e5410126-d939-4ab6-aaaa-490f63a26b81",
   "metadata": {},
   "outputs": [
    {
     "data": {
      "text/plain": [
       "(False, True)"
      ]
     },
     "execution_count": 11,
     "metadata": {},
     "output_type": "execute_result"
    }
   ],
   "source": [
    "bool({}), bool({\"key\":\"value\"})"
   ]
  },
  {
   "cell_type": "markdown",
   "id": "ab8e7a99-64f9-4277-a66d-85f7377b7af7",
   "metadata": {},
   "source": [
    "## CONJUNTOS"
   ]
  },
  {
   "cell_type": "code",
   "execution_count": 12,
   "id": "ef5092c4-49d5-455f-82b3-fea712663470",
   "metadata": {},
   "outputs": [
    {
     "data": {
      "text/plain": [
       "set"
      ]
     },
     "execution_count": 12,
     "metadata": {},
     "output_type": "execute_result"
    }
   ],
   "source": [
    "type({4,\"cosa\"})"
   ]
  },
  {
   "cell_type": "code",
   "execution_count": 13,
   "id": "16cf9bc2-0e73-49a6-92b3-5ebc41d75b08",
   "metadata": {},
   "outputs": [],
   "source": [
    "conjunto= { 4,\"cosa\", 1, 2, 3,4, \"a\", \"b\",\"c\", \"b\"}"
   ]
  },
  {
   "cell_type": "code",
   "execution_count": 14,
   "id": "619d89d9-5fb4-41d1-bbfe-a50d4cdf6fcf",
   "metadata": {},
   "outputs": [
    {
     "data": {
      "text/plain": [
       "8"
      ]
     },
     "execution_count": 14,
     "metadata": {},
     "output_type": "execute_result"
    }
   ],
   "source": [
    "len(conjunto)\n"
   ]
  },
  {
   "cell_type": "markdown",
   "id": "a586f488-e84d-4beb-9ff5-073151026147",
   "metadata": {},
   "source": [
    "## Operadores de asignación "
   ]
  },
  {
   "cell_type": "code",
   "execution_count": null,
   "id": "1f29b94d-a8d0-4dfa-b6ef-96dd9e24dcce",
   "metadata": {},
   "outputs": [],
   "source": [
    "=, +=, -=, *= , /=, //=, %=, **="
   ]
  },
  {
   "cell_type": "code",
   "execution_count": 16,
   "id": "be08505b-3fe6-4365-b707-25a46f31de73",
   "metadata": {},
   "outputs": [
    {
     "data": {
      "text/plain": [
       "10"
      ]
     },
     "execution_count": 16,
     "metadata": {},
     "output_type": "execute_result"
    }
   ],
   "source": [
    "a= 10\n",
    "a"
   ]
  },
  {
   "cell_type": "code",
   "execution_count": 23,
   "id": "0efbd1ba-9c3e-4028-91ff-8e8a1d1f5192",
   "metadata": {},
   "outputs": [
    {
     "data": {
      "text/plain": [
       "32"
      ]
     },
     "execution_count": 23,
     "metadata": {},
     "output_type": "execute_result"
    }
   ],
   "source": [
    "a= 10\n",
    "a= a + 22\n",
    "a"
   ]
  },
  {
   "cell_type": "code",
   "execution_count": 21,
   "id": "fe0d0374-d12f-434b-aba5-a2dbbdebe423",
   "metadata": {},
   "outputs": [
    {
     "data": {
      "text/plain": [
       "'hace más frio que antes'"
      ]
     },
     "execution_count": 21,
     "metadata": {},
     "output_type": "execute_result"
    }
   ],
   "source": [
    "cadena = \"hace más frio\"\n",
    "cadena += \" que antes\"\n",
    "cadena"
   ]
  },
  {
   "cell_type": "code",
   "execution_count": 25,
   "id": "34e43171-a29a-4390-b721-e8842540d89e",
   "metadata": {},
   "outputs": [
    {
     "data": {
      "text/plain": [
       "35"
      ]
     },
     "execution_count": 25,
     "metadata": {},
     "output_type": "execute_result"
    }
   ],
   "source": [
    "b= 7 \n",
    "b *= 5 \n",
    "b"
   ]
  },
  {
   "cell_type": "code",
   "execution_count": 26,
   "id": "3b67ab9f-f958-4da3-af98-cb6731b4ac41",
   "metadata": {},
   "outputs": [
    {
     "data": {
      "text/plain": [
       "12.0"
      ]
     },
     "execution_count": 26,
     "metadata": {},
     "output_type": "execute_result"
    }
   ],
   "source": [
    "a= 144 # Nota que 144= 12*12\n",
    "a /= 12\n",
    "a"
   ]
  },
  {
   "cell_type": "code",
   "execution_count": 27,
   "id": "d62bbfff-1f53-473d-9540-479811a10aa6",
   "metadata": {},
   "outputs": [
    {
     "data": {
      "text/plain": [
       "32"
      ]
     },
     "execution_count": 27,
     "metadata": {},
     "output_type": "execute_result"
    }
   ],
   "source": [
    "a = 2\n",
    "a **=5\n",
    "a"
   ]
  },
  {
   "cell_type": "code",
   "execution_count": 39,
   "id": "af5464d8-db58-4bf3-aab7-b34bd3ef7271",
   "metadata": {},
   "outputs": [
    {
     "data": {
      "text/plain": [
       "[3,\n",
       " 6,\n",
       " 8,\n",
       " 'azul como el mar azul',\n",
       " 'l',\n",
       " 'a',\n",
       " 's',\n",
       " ' ',\n",
       " 'd',\n",
       " 'o',\n",
       " 'c',\n",
       " 'e',\n",
       " ' ',\n",
       " 'c',\n",
       " 'a',\n",
       " 's',\n",
       " 'a',\n",
       " 's']"
      ]
     },
     "execution_count": 39,
     "metadata": {},
     "output_type": "execute_result"
    }
   ],
   "source": [
    "a= [3, 6, 8, \"azul como el mar azul\"]\n",
    "a += list(\"las doce casas\")\n",
    "a"
   ]
  },
  {
   "cell_type": "markdown",
   "id": "c89e72d8-d7a4-43c9-8a8c-d2d527dbc3ce",
   "metadata": {},
   "source": [
    "## Operadores relacionales"
   ]
  },
  {
   "cell_type": "markdown",
   "id": "1d835c5e-2880-4608-ab40-444f6f8c4935",
   "metadata": {},
   "source": [
    "<, >, ==, != "
   ]
  },
  {
   "cell_type": "code",
   "execution_count": 40,
   "id": "a41e5bab-0964-4d29-afdf-f5952238d719",
   "metadata": {},
   "outputs": [
    {
     "data": {
      "text/plain": [
       "(False, True, False, True)"
      ]
     },
     "execution_count": 40,
     "metadata": {},
     "output_type": "execute_result"
    }
   ],
   "source": [
    "a, b= 5, 18\n",
    "a>b, a<b, a==b, a!=b"
   ]
  },
  {
   "cell_type": "code",
   "execution_count": 43,
   "id": "57565e78-3feb-437a-ae78-f0d7150191f6",
   "metadata": {},
   "outputs": [
    {
     "data": {
      "text/plain": [
       "False"
      ]
     },
     "execution_count": 43,
     "metadata": {},
     "output_type": "execute_result"
    }
   ],
   "source": [
    "a, b, c= -45.2, 22, 100\n",
    "(((a-b) < 567) != 0) == c*0\n"
   ]
  },
  {
   "cell_type": "code",
   "execution_count": 44,
   "id": "1637b826-d2aa-4c44-b33f-70b6b3c94e6a",
   "metadata": {},
   "outputs": [
    {
     "data": {
      "text/plain": [
       "(True, True, True)"
      ]
     },
     "execution_count": 44,
     "metadata": {},
     "output_type": "execute_result"
    }
   ],
   "source": [
    "True !=0, True ==1, False== 0"
   ]
  },
  {
   "cell_type": "code",
   "execution_count": 45,
   "id": "826e8d7e-f59b-4b6c-8f71-ef4987279f99",
   "metadata": {},
   "outputs": [
    {
     "data": {
      "text/plain": [
       "True"
      ]
     },
     "execution_count": 45,
     "metadata": {},
     "output_type": "execute_result"
    }
   ],
   "source": [
    "False < True"
   ]
  },
  {
   "cell_type": "code",
   "execution_count": 47,
   "id": "9b038487-9901-4283-9876-a1d928a5b345",
   "metadata": {},
   "outputs": [
    {
     "data": {
      "text/plain": [
       "True"
      ]
     },
     "execution_count": 47,
     "metadata": {},
     "output_type": "execute_result"
    }
   ],
   "source": [
    "False + 1 <= True"
   ]
  },
  {
   "cell_type": "code",
   "execution_count": 48,
   "id": "06100e77-bacf-4cd5-8d19-b28cf24b1950",
   "metadata": {},
   "outputs": [
    {
     "data": {
      "text/plain": [
       "True"
      ]
     },
     "execution_count": 48,
     "metadata": {},
     "output_type": "execute_result"
    }
   ],
   "source": [
    "5<10<52"
   ]
  },
  {
   "cell_type": "markdown",
   "id": "a0c9f464-1a42-4e9a-ac98-dfe3517173a4",
   "metadata": {},
   "source": [
    "## operadores lógicos"
   ]
  },
  {
   "cell_type": "markdown",
   "id": "a3d09141-9f97-4da9-8ffa-02b802c79e14",
   "metadata": {},
   "source": [
    "or, and, not "
   ]
  },
  {
   "cell_type": "code",
   "execution_count": 50,
   "id": "3c2e96f5-8bd3-416f-abb0-4939ee31a0f9",
   "metadata": {},
   "outputs": [
    {
     "data": {
      "text/plain": [
       "(True, False, False, False)"
      ]
     },
     "execution_count": 50,
     "metadata": {},
     "output_type": "execute_result"
    }
   ],
   "source": [
    "# Tabla de verdad del and\n",
    "True and True, True and False, False and True, False and False"
   ]
  },
  {
   "cell_type": "code",
   "execution_count": 51,
   "id": "db970a59-c5be-4117-b67f-af1c63fe06ec",
   "metadata": {},
   "outputs": [
    {
     "data": {
      "text/plain": [
       "(True, True, True, False)"
      ]
     },
     "execution_count": 51,
     "metadata": {},
     "output_type": "execute_result"
    }
   ],
   "source": [
    "#Tabla de verdad del or \n",
    "True or True, True or False, False or True, False or False"
   ]
  },
  {
   "cell_type": "code",
   "execution_count": 52,
   "id": "e83b80c4-4e87-4330-94f2-5d223575d819",
   "metadata": {},
   "outputs": [
    {
     "data": {
      "text/plain": [
       "(False, True)"
      ]
     },
     "execution_count": 52,
     "metadata": {},
     "output_type": "execute_result"
    }
   ],
   "source": [
    "# Tabla de verdadero de not\n",
    "not True, not False"
   ]
  },
  {
   "cell_type": "code",
   "execution_count": 53,
   "id": "0afcb86f-e50e-4351-aa21-bb6f7a4c8d06",
   "metadata": {},
   "outputs": [
    {
     "data": {
      "text/plain": [
       "True"
      ]
     },
     "execution_count": 53,
     "metadata": {},
     "output_type": "execute_result"
    }
   ],
   "source": [
    "# 3 < 5 <10\n",
    "2<5 and 5<10"
   ]
  },
  {
   "cell_type": "code",
   "execution_count": 54,
   "id": "63f4eeb8-c2a5-4979-ae31-8f73a08647a5",
   "metadata": {},
   "outputs": [
    {
     "data": {
      "text/plain": [
       "False"
      ]
     },
     "execution_count": 54,
     "metadata": {},
     "output_type": "execute_result"
    }
   ],
   "source": [
    "# 3 <8 <5\n",
    "3<8 and 8<5"
   ]
  },
  {
   "cell_type": "code",
   "execution_count": 55,
   "id": "dbfd3ce3-122c-4d48-a721-045679d1809d",
   "metadata": {},
   "outputs": [
    {
     "data": {
      "text/plain": [
       "False"
      ]
     },
     "execution_count": 55,
     "metadata": {},
     "output_type": "execute_result"
    }
   ],
   "source": [
    "c= \"hola mundo\"\n",
    "len (c) >= 10 and c[0] ==\"H\""
   ]
  },
  {
   "cell_type": "code",
   "execution_count": 56,
   "id": "d1fc2952-5ff6-4252-8434-bd637eeb4e52",
   "metadata": {},
   "outputs": [
    {
     "data": {
      "text/plain": [
       "True"
      ]
     },
     "execution_count": 56,
     "metadata": {},
     "output_type": "execute_result"
    }
   ],
   "source": [
    "c= \"hola mundo\"\n",
    "len (c) >= 10 and c[0] ==\"h\""
   ]
  },
  {
   "cell_type": "code",
   "execution_count": null,
   "id": "01671dff-6ee0-4f8e-a676-eaa3fb1b9951",
   "metadata": {},
   "outputs": [],
   "source": []
  }
 ],
 "metadata": {
  "kernelspec": {
   "display_name": "Python 3 (ipykernel)",
   "language": "python",
   "name": "python3"
  },
  "language_info": {
   "codemirror_mode": {
    "name": "ipython",
    "version": 3
   },
   "file_extension": ".py",
   "mimetype": "text/x-python",
   "name": "python",
   "nbconvert_exporter": "python",
   "pygments_lexer": "ipython3",
   "version": "3.10.4"
  }
 },
 "nbformat": 4,
 "nbformat_minor": 5
}
