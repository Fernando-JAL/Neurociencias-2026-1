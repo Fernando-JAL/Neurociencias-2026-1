{
 "cells": [
  {
   "cell_type": "markdown",
   "id": "fed7a8df-3124-4e59-be9b-b688dee18f7b",
   "metadata": {},
   "source": [
    "## Controladores de flujo"
   ]
  },
  {
   "cell_type": "markdown",
   "id": "f0a8d5cf-5dd8-4c0c-857f-4430504d6adf",
   "metadata": {},
   "source": [
    "son estructruas de control *condicionada*. Nos permite evaluar si una o más condición se cumplen, para decidir qué acciones se van a ejecutar.\n",
    "\n",
    "Nótese que la evaluación de condiciones sólo puede dar como resultado un boolean \n",
    "\n",
    "los posibles controladores de flujo son:\n",
    "\n",
    "- if\n",
    "- elif\n",
    "- else\n",
    "- while\n",
    "- for"
   ]
  },
  {
   "cell_type": "code",
   "execution_count": null,
   "id": "fb7cb6ce-7d2c-4a70-9c35-b4b6fc3ef94c",
   "metadata": {},
   "outputs": [],
   "source": []
  },
  {
   "cell_type": "markdown",
   "id": "069a78e7-85cd-4d8a-aaa5-57abe4424d76",
   "metadata": {},
   "source": [
    "## Sentencia if\n",
    "\n",
    "el if se ejecuta siempre que la expresión que la acompañe sea True"
   ]
  },
  {
   "cell_type": "code",
   "execution_count": 1,
   "id": "6701dd13-b1a1-4c68-a28d-33c9c97fb478",
   "metadata": {},
   "outputs": [
    {
     "name": "stdout",
     "output_type": "stream",
     "text": [
      "entro al if\n"
     ]
    }
   ],
   "source": [
    "if True:\n",
    "    print(\"entro al if\")"
   ]
  },
  {
   "cell_type": "code",
   "execution_count": 2,
   "id": "8a3dc8ca-f223-4cbb-828a-0a4fd0a8beea",
   "metadata": {},
   "outputs": [
    {
     "name": "stdout",
     "output_type": "stream",
     "text": [
      "entro al if\n"
     ]
    }
   ],
   "source": [
    "a=2\n",
    "if a>0:\n",
    "    print(\"entro al if\")"
   ]
  },
  {
   "cell_type": "code",
   "execution_count": 3,
   "id": "7b9a782b-9371-473a-b796-c0050d55112b",
   "metadata": {},
   "outputs": [
    {
     "name": "stdout",
     "output_type": "stream",
     "text": [
      "evidentemente no es mayor que 5\n",
      "codigo despues del if\n"
     ]
    }
   ],
   "source": [
    "a= -52.34\n",
    "if a >5:\n",
    "    print(\"a mayor que 5\")\n",
    "else: \n",
    "    print(\"evidentemente no es mayor que 5\")\n",
    "\n",
    "print (\"codigo despues del if\")"
   ]
  },
  {
   "cell_type": "code",
   "execution_count": 19,
   "id": "c2174782-4533-4f4e-881e-993db46bd819",
   "metadata": {},
   "outputs": [
    {
     "name": "stdout",
     "output_type": "stream",
     "text": [
      "a es par\n",
      "b es positivo\n",
      "continuamos...\n"
     ]
    }
   ],
   "source": [
    "a, b = 10, 5\n",
    "\n",
    "if a % 2 == 0:\n",
    "    print(\"a es par\")\n",
    "    if b > 0:\n",
    "        print(\"b es positivo\")\n",
    "    else:\n",
    "        print(\"b es gruñon\")\n",
    "else: \n",
    "    print(\"a es impar y b no me importa\")\n",
    "\n",
    "print(\"continuamos...\")"
   ]
  },
  {
   "cell_type": "code",
   "execution_count": 24,
   "id": "d459c571-5be6-44a8-a411-c1d7fc329aa1",
   "metadata": {},
   "outputs": [
    {
     "name": "stdout",
     "output_type": "stream",
     "text": [
      "a esta en la lista\n",
      "a seguir\n"
     ]
    }
   ],
   "source": [
    "lista = [5, 7, 9, 10]\n",
    "a, b= 9, 17\n",
    "if a in lista:\n",
    "    print(\"a esta en la lista\")\n",
    "elif a % 2 == 0:\n",
    "    print(\"a es par\")\n",
    "else:\n",
    "    print(\"nada de nada\")\n",
    "\n",
    "print(\"a seguir\")"
   ]
  },
  {
   "cell_type": "code",
   "execution_count": 25,
   "id": "f1c4be32-03c9-412c-a52e-866537abec44",
   "metadata": {},
   "outputs": [],
   "source": [
    "a = 5\n",
    "if a %2 == 0:\n",
    "    print(\"a es par\")\n",
    "else: \n",
    "    pass"
   ]
  },
  {
   "cell_type": "code",
   "execution_count": null,
   "id": "c08c913d-5bf1-42ae-b1ca-a2db71f3cc1d",
   "metadata": {},
   "outputs": [],
   "source": [
    "if condicional:\n",
    "    codigo1\n",
    "    codigo2\n",
    "    codigo3\n",
    "else: \n",
    "    codigo_Del_else_1\n",
    "    codigo_del_else2\n",
    "\n",
    "codigo que no es afectado por el if "
   ]
  },
  {
   "cell_type": "code",
   "execution_count": null,
   "id": "bad6f527-40f2-4dca-af64-44792ad9df6e",
   "metadata": {},
   "outputs": [],
   "source": [
    "if condicional:\n",
    "    codigo1\n",
    "    codigo2\n",
    "    codigo3\n",
    "\n",
    "    if condicional 2:\n",
    "    codigo1_Del_condicional2\n",
    "    codigo_del condicional_que_no_Es_Afectado_por:condicional2\n",
    "else: \n",
    "    codigo_Del_else_1\n",
    "    codigo_del_else2\n",
    "\n",
    "codigo que no es afectado por el if "
   ]
  },
  {
   "cell_type": "markdown",
   "id": "d9c48bb6-58a5-4289-8bc6-4b84fd1bf460",
   "metadata": {},
   "source": [
    "## iteración \n",
    "Una iteración es cada repetición o paso dentro de un bucle"
   ]
  },
  {
   "cell_type": "markdown",
   "id": "6a2b4595-caea-4927-9b7d-ed8ced9b3fc5",
   "metadata": {},
   "source": [
    "## Sentencia While\n",
    "se basa en repetir un bloque códipo a partir de una condición lógica. Dicho bloqueo se repitera mientras que la condición sea True"
   ]
  },
  {
   "cell_type": "code",
   "execution_count": 3,
   "id": "dd2b8324-d867-4b2b-9071-6e5a5195d012",
   "metadata": {},
   "outputs": [
    {
     "name": "stdout",
     "output_type": "stream",
     "text": [
      "el valor de la variable es 0\n",
      "el valor de la variable es 2\n",
      "el valor de la variable es 4\n",
      "el valor de la variable es 6\n",
      "el valor de la variable es 8\n",
      "codigo despues del while\n"
     ]
    }
   ],
   "source": [
    "variable= 0 \n",
    "\n",
    "while variable <10:\n",
    "    print (\"el valor de la variable es\", variable)\n",
    "    variable += 2\n",
    "\n",
    "print (\"codigo despues del while\")\n",
    "## el while se repite mientras la variable sea menor que 10 y"
   ]
  },
  {
   "cell_type": "code",
   "execution_count": 4,
   "id": "e943effa-1f99-4aa3-a9f3-1efd70a9ba01",
   "metadata": {},
   "outputs": [
    {
     "name": "stdout",
     "output_type": "stream",
     "text": [
      "el valor de la variable es 0\n",
      "codigo despues del while\n"
     ]
    }
   ],
   "source": [
    "variable= 0 \n",
    "\n",
    "if variable <10:\n",
    "    print (\"el valor de la variable es\", variable)\n",
    "    variable += 2\n",
    "\n",
    "print (\"codigo despues del while\")"
   ]
  },
  {
   "cell_type": "code",
   "execution_count": null,
   "id": "4cc90ffd-6a01-4ee5-86ae-a9367163af6b",
   "metadata": {},
   "outputs": [],
   "source": [
    "## Diferencia entre while & if \n",
    "#if --> verifica la condición 1 sola Vez\n",
    "#While --> verifica la condición Varias veces (hasta que sea False) "
   ]
  },
  {
   "cell_type": "code",
   "execution_count": 5,
   "id": "09a733a1-2b3a-45b1-b623-a1628a9b8675",
   "metadata": {},
   "outputs": [
    {
     "name": "stdout",
     "output_type": "stream",
     "text": [
      "1\n",
      "2\n",
      "3\n",
      "4\n",
      "5\n",
      "6\n",
      "codigo en el ese del while\n",
      "codigo después del While\n"
     ]
    }
   ],
   "source": [
    "variable= 0 \n",
    "while variable <=5:\n",
    "    variable +=1\n",
    "    print(variable)\n",
    "else:\n",
    "    print(\"codigo en el ese del while\")\n",
    "print(\"codigo después del While\")"
   ]
  },
  {
   "cell_type": "markdown",
   "id": "a9f5464e-00db-4b0d-a8a1-fc01ebb4a732",
   "metadata": {},
   "source": [
    "## Continue & break"
   ]
  },
  {
   "cell_type": "code",
   "execution_count": 9,
   "id": "d3e92db7-0c51-4e2c-ae62-c1e35a3c900f",
   "metadata": {},
   "outputs": [
    {
     "name": "stdout",
     "output_type": "stream",
     "text": [
      "1\n",
      "2\n",
      "3\n",
      "entro al condicional para activar el break\n",
      "codigo después del While\n"
     ]
    }
   ],
   "source": [
    "variable= 0 \n",
    "while variable <=5:\n",
    "    variable +=1\n",
    "    print(variable)\n",
    "    if variable==3:\n",
    "        print(\"entro al condicional para activar el break\") ## si la variable es ==3, terminas\n",
    "        break\n",
    "else:\n",
    "    print(\"codigo en el ese del while\")\n",
    "print(\"codigo después del While\")"
   ]
  },
  {
   "cell_type": "code",
   "execution_count": 10,
   "id": "57e50f7d-f6d0-49dc-9c57-9268fc828027",
   "metadata": {},
   "outputs": [
    {
     "name": "stdout",
     "output_type": "stream",
     "text": [
      "1\n",
      "2\n",
      "3\n",
      "entro al condicional para activar el break\n",
      "4\n",
      "5\n",
      "6\n",
      "codigo en el ese del while\n",
      "codigo después del While\n"
     ]
    }
   ],
   "source": [
    "variable= 0 \n",
    "while variable <=5:\n",
    "    variable +=1\n",
    "    print(variable)\n",
    "    if variable==3:\n",
    "        print(\"entro al condicional para activar el continue\")\n",
    "        continue \n",
    "else:\n",
    "    print(\"codigo en el ese del while\")\n",
    "print(\"codigo después del While\")"
   ]
  },
  {
   "cell_type": "code",
   "execution_count": null,
   "id": "425749ce-cd1d-4659-ab75-01805db47220",
   "metadata": {},
   "outputs": [],
   "source": [
    "##continue - saltar iteración  (salta al siguiente ciclo)\n",
    "### break - terminar el bucle"
   ]
  },
  {
   "cell_type": "code",
   "execution_count": 20,
   "id": "27197808-dfa6-48df-879a-e6e7ba7aff2d",
   "metadata": {},
   "outputs": [
    {
     "name": "stdout",
     "output_type": "stream",
     "text": [
      "1\n",
      "esto aparece mientras variable no sea = 3\n",
      "2\n",
      "esto aparece mientras variable no sea = 3\n",
      "3\n",
      "entro al condicional para activar el continue\n",
      "4\n",
      "esto aparece mientras variable no sea = 3\n",
      "5\n",
      "esto aparece mientras variable no sea = 3\n",
      "6\n",
      "esto aparece mientras variable no sea = 3\n",
      "codigo en el ese del while\n",
      "codigo después del While\n"
     ]
    }
   ],
   "source": [
    "variable= 0 \n",
    "while variable <=5:\n",
    "    variable +=1\n",
    "    print(variable)\n",
    "    if variable==3:\n",
    "        print(\"entro al condicional para activar el continue\")\n",
    "        continue\n",
    "    print(\"esto aparece mientras variable no sea = 3\")\n",
    "else:\n",
    "    print(\"codigo en el ese del while\")\n",
    "print(\"codigo después del While\")"
   ]
  },
  {
   "cell_type": "markdown",
   "id": "0241ef2f-7b79-4772-ba8f-75bda5896feb",
   "metadata": {},
   "source": [
    "## Else\n",
    "parte de una estructura condicional (con if while,for try) ejecuta codigo alternativo "
   ]
  },
  {
   "cell_type": "code",
   "execution_count": 33,
   "id": "3c5d5e14-f49b-44ef-a7ca-3b2f0a93b280",
   "metadata": {},
   "outputs": [
    {
     "name": "stdout",
     "output_type": "stream",
     "text": [
      "no es uno\n",
      "es uno\n",
      "no es uno\n"
     ]
    }
   ],
   "source": [
    "for x in range(3):\n",
    "    if x == 1:\n",
    "        print(\"es uno\")  \n",
    "    else:  # ↔️ Alternativa para cuando if es False\n",
    "        print(\"no es uno\")"
   ]
  },
  {
   "cell_type": "markdown",
   "id": "533726ba-a10a-46f6-b1e2-fd1d1cbedc35",
   "metadata": {},
   "source": [
    "## ELIF \n",
    "es la contracción de \"else if\" (si no, si) "
   ]
  },
  {
   "cell_type": "code",
   "execution_count": 35,
   "id": "cfc9870d-0f27-42a2-98d5-aa564e56ce13",
   "metadata": {},
   "outputs": [],
   "source": [
    "#if condición1:\n",
    "    # Código si condición1 es True\n",
    "#elif condición2:\n",
    "    # Código si condición1 es False Y condición2 es True  \n",
    "#elif condición3:\n",
    "    # Código si condición1 y 2 son False Y condición3 es True\n",
    "#else:\n",
    "    # Código si todas las condiciones son False"
   ]
  },
  {
   "cell_type": "code",
   "execution_count": 36,
   "id": "da604142-7790-4bf8-bd66-64d1f63b6a5a",
   "metadata": {},
   "outputs": [
    {
     "name": "stdout",
     "output_type": "stream",
     "text": [
      "B\n"
     ]
    }
   ],
   "source": [
    "nota = 85\n",
    "\n",
    "if nota >= 90:\n",
    "    print(\"A\")\n",
    "elif nota >= 80:  # ← Solo se verifica si el primer if fue False\n",
    "    print(\"B\")    # Output: B\n",
    "elif nota >= 70:\n",
    "    print(\"C\")\n",
    "else:\n",
    "    print(\"D\")"
   ]
  },
  {
   "cell_type": "markdown",
   "id": "45778826-4645-4a39-a528-3f9442cc6c5a",
   "metadata": {},
   "source": [
    "## FOR\n",
    "sirve para repetir códigos un número determinado de veces o para recorrer elementos de una colección"
   ]
  },
  {
   "cell_type": "code",
   "execution_count": 41,
   "id": "128f76fb-c0dc-4f41-bd0b-f8dcb018f773",
   "metadata": {},
   "outputs": [
    {
     "name": "stdout",
     "output_type": "stream",
     "text": [
      "2\n",
      "5\n",
      "8\n",
      "10\n",
      "45\n",
      "67\n"
     ]
    }
   ],
   "source": [
    "lista= [2,5,8,10,45,67]\n",
    "\n",
    "for x in lista: #<- por cada elemento en la lista\n",
    "    print(x)  #imprime ese elemento"
   ]
  },
  {
   "cell_type": "code",
   "execution_count": 45,
   "id": "c39efc0f-f667-4470-b1bd-c682ebc27eb7",
   "metadata": {},
   "outputs": [
    {
     "name": "stdout",
     "output_type": "stream",
     "text": [
      "0\n",
      "1\n",
      "2\n",
      "3\n",
      "4\n"
     ]
    }
   ],
   "source": [
    "# range (pos_1, pos_f+1, salto)\n",
    "for x in range(5):\n",
    "    print(x)"
   ]
  },
  {
   "cell_type": "code",
   "execution_count": 46,
   "id": "e01dc08c-bf82-406e-91f4-1015df39d36f",
   "metadata": {},
   "outputs": [
    {
     "name": "stdout",
     "output_type": "stream",
     "text": [
      "1\n",
      "2\n",
      "3\n",
      "4\n"
     ]
    }
   ],
   "source": [
    "# range (pos_1, pos_f+1, salto)\n",
    "for x in range(1,5): #<- desde 1 hasta 5, pero sin incluir el 5\n",
    "    print(x)"
   ]
  },
  {
   "cell_type": "code",
   "execution_count": 49,
   "id": "e29ce05b-bbeb-40b7-93b3-8d1aec1c318e",
   "metadata": {},
   "outputs": [
    {
     "name": "stdout",
     "output_type": "stream",
     "text": [
      "c\n",
      "a\n",
      "d\n",
      "e\n",
      "n\n",
      "a\n"
     ]
    }
   ],
   "source": [
    "for letra in \"cadena\":\n",
    "    print(letra)\n"
   ]
  },
  {
   "cell_type": "code",
   "execution_count": 51,
   "id": "2a391db1-0e2e-4a78-812a-c9be87006bd5",
   "metadata": {},
   "outputs": [
    {
     "name": "stdout",
     "output_type": "stream",
     "text": [
      "palabra 1\n",
      "palabra2\n",
      "palabra 3\n"
     ]
    }
   ],
   "source": [
    "diccionario = {\"palabra 1\": \"mucha info\", \"palabra2\": \"poca info\", \"palabra 3\": \"extra info\"}\n",
    "\n",
    "for x in diccionario:\n",
    "    print (x)"
   ]
  },
  {
   "cell_type": "code",
   "execution_count": 52,
   "id": "fd15c9e0-a50f-4406-9011-a8d64c06a133",
   "metadata": {},
   "outputs": [
    {
     "name": "stdout",
     "output_type": "stream",
     "text": [
      "la lista tiene 5 elementos\n"
     ]
    }
   ],
   "source": [
    "listas = [2,5,8,9,30]\n",
    "## estamos calculando manualmente la longitud (cantidad de elementos)\n",
    "longitud= 0\n",
    "for x in listas:\n",
    "    longitud  +=1\n",
    "\n",
    "print(\"la lista tiene\", longitud, \"elementos\")"
   ]
  },
  {
   "cell_type": "code",
   "execution_count": 53,
   "id": "dee1729f-5d31-4324-92e8-3146753629c5",
   "metadata": {},
   "outputs": [
    {
     "data": {
      "text/plain": [
       "5"
      ]
     },
     "execution_count": 53,
     "metadata": {},
     "output_type": "execute_result"
    }
   ],
   "source": [
    "len(listas)"
   ]
  },
  {
   "cell_type": "code",
   "execution_count": 67,
   "id": "7cbd1dab-068a-4dd8-a595-f32d25eaf3a7",
   "metadata": {},
   "outputs": [
    {
     "name": "stdout",
     "output_type": "stream",
     "text": [
      "10.8\n"
     ]
    }
   ],
   "source": [
    "suma= 0 \n",
    "for x in listas:\n",
    "    suma += x\n",
    "\n",
    "promedio= suma / len(listas)\n",
    "\n",
    "print(promedio)"
   ]
  },
  {
   "cell_type": "markdown",
   "id": "a62e0f1a-7903-48c3-ae3c-6c5cce1bb90d",
   "metadata": {},
   "source": [
    "# ejercicios usando la lista listaE: [2,3,4,5,6,7,8,9,10]\n",
    "sobre cada valor de lista determine:\n",
    "-si el valor de la lista es par, calcule e imprima su cuadrado\n",
    "-si el valor de la lista es impar, sume uno al valor y dividalo sobre 2 e imprima el resultado"
   ]
  },
  {
   "cell_type": "code",
   "execution_count": 3,
   "id": "f4488020-728d-419c-8582-dfdce145532d",
   "metadata": {},
   "outputs": [
    {
     "data": {
      "text/plain": [
       "[2, 3, 4, 5, 6, 7, 8, 9, 10]"
      ]
     },
     "execution_count": 3,
     "metadata": {},
     "output_type": "execute_result"
    }
   ],
   "source": [
    "listaa= [2,3,4,5,6,7,8,9,10]\n",
    "listaa"
   ]
  },
  {
   "cell_type": "code",
   "execution_count": 4,
   "id": "90edda40-6cf5-4291-a5f6-2c7cd1f4b5dc",
   "metadata": {},
   "outputs": [
    {
     "name": "stdout",
     "output_type": "stream",
     "text": [
      "4\n",
      "2.0\n",
      "16\n",
      "3.0\n",
      "36\n",
      "4.0\n",
      "64\n",
      "5.0\n",
      "100\n"
     ]
    }
   ],
   "source": [
    "for x in listaa:\n",
    "    if x % 2 == 0:\n",
    "        print(x**2)\n",
    "    else:\n",
    "        x +=1\n",
    "        x /=2\n",
    "        print(x)"
   ]
  },
  {
   "cell_type": "markdown",
   "id": "af25f8b2-87d8-431c-8e2b-318fb3b712a7",
   "metadata": {},
   "source": [
    "## EJERCICIOS PROPIOS"
   ]
  },
  {
   "cell_type": "markdown",
   "id": "5c7a0198-32c9-46ce-a20e-bef2994466c5",
   "metadata": {},
   "source": [
    "Ejercicio 2: Clasificación de edades\n",
    "\n",
    "Dada una lista de edades [3, 12, 17, 25, 40, 70].\n",
    "\n",
    "Usa un for con if-elif-else para imprimir si la persona es niño (<13), adolescente (13-17), adulto (18-64) o adulto mayor (65 o más).\n"
   ]
  },
  {
   "cell_type": "code",
   "execution_count": 6,
   "id": "1c979674-3336-49ff-9d69-8d1eafcd1f43",
   "metadata": {},
   "outputs": [
    {
     "name": "stdout",
     "output_type": "stream",
     "text": [
      " es niño 3\n",
      " es niño 12\n",
      "es adolescente 17\n",
      "es adulto 25\n",
      "es adulto 40\n",
      "es adulto mayor 70\n"
     ]
    }
   ],
   "source": [
    "edades= [3, 12, 17, 25, 40, 70]\n",
    "for x in edades:\n",
    "    if x<13:\n",
    "        print(f\" es niño {x}\")\n",
    "    elif x<18:\n",
    "        print(f\"es adolescente {x}\")\n",
    "    elif x<64:\n",
    "        print(f\"es adulto {x}\")\n",
    "    else:\n",
    "        print(f\"es adulto mayor {x}\")"
   ]
  },
  {
   "cell_type": "code",
   "execution_count": null,
   "id": "52eb40fb-25f9-4ec4-9dbc-73cf3b80fb5f",
   "metadata": {},
   "outputs": [],
   "source": []
  }
 ],
 "metadata": {
  "kernelspec": {
   "display_name": "Python 3 (ipykernel)",
   "language": "python",
   "name": "python3"
  },
  "language_info": {
   "codemirror_mode": {
    "name": "ipython",
    "version": 3
   },
   "file_extension": ".py",
   "mimetype": "text/x-python",
   "name": "python",
   "nbconvert_exporter": "python",
   "pygments_lexer": "ipython3",
   "version": "3.10.4"
  }
 },
 "nbformat": 4,
 "nbformat_minor": 5
}
