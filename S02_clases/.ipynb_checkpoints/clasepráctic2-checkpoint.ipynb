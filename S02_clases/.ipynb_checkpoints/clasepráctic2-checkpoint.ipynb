{
 "cells": [
  {
   "cell_type": "code",
   "execution_count": null,
   "id": "59eb3dea-c219-4a3e-be8d-32097dd4b5fb",
   "metadata": {},
   "outputs": [],
   "source": [
    "Validar contraseña segura Escribe una función es_contraseña_segura(passw) que verifique si una contraseña:\n",
    "Tiene al menos 8 caracteres\n",
    "\n",
    "Incluye mayúsculas, minúsculas, números y un carácter especial (@, #, $, %, &, etc.) Usa funciones built-in como any(), str.isdigit(), str.isupper(), etc.\n",
    "\n",
    "Palabra más larga en una frase\n",
    "Define palabra_mas_larga(frase) que encuentre la palabra con más caracteres dentro de un texto.\n",
    "\n",
    "Simulador de calculadora básica Crea una función calculadora(a, b, operador) donde operador puede ser \"+\", \"-\", \"*\", \"/\". Usa if/elif para decidir la operación\n",
    "Suma de números impares\n",
    "Dada una lista de enteros, escribe una función que devuelva la suma de todos los números impares. Ejemplo → [1, 2, 3, 4, 5] → 9.\n",
    "\n",
    "Palabras que comienzan con vocal\n",
    "Dada una lista de palabras, devuelve una nueva lista solo con las que empiezan con vocal. Ejemplo → [\"oso\", \"perro\", \"agua\", \"luz\"] → [\"oso\", \"agua\"].\n",
    "\n",
    "Unir listas alternando elementos. Investigar la built-in function zip\n",
    "Dados dos listas del mismo tamaño, genera una tercera lista intercalando sus elementos. Ejemplo → [1,2,3], [‘a’,‘b’,‘c’] → [1,‘a’,2,‘b’,3,‘c’].\n",
    "\n",
    "Rotar una lista n posiciones\n",
    "Dada una lista y un número entero n, rota la lista hacia la derecha n posiciones. Ejemplo → [1,2,3,4,5], n=2 → [4,5,1,2,3]"
   ]
  },
  {
   "cell_type": "code",
   "execution_count": 48,
   "id": "c920695d-1d37-45e4-bd46-1f148ae53389",
   "metadata": {},
   "outputs": [
    {
     "name": "stdin",
     "output_type": "stream",
     "text": [
      "Introuzca una contraseña \"12367Mm@\"\n"
     ]
    },
    {
     "data": {
      "text/plain": [
       "'Contraseña segura'"
      ]
     },
     "execution_count": 48,
     "metadata": {},
     "output_type": "execute_result"
    }
   ],
   "source": [
    "#Validar contraseña segura Escribe una función es_contraseña_segura(passw) que verifique si una contraseña:\n",
    "#Tiene al menos 8 caracteres\n",
    "#Incluye mayúsculas, minúsculas, números y un carácter especial (@, #, $, %, &, etc.) \n",
    "#Usa funciones built-in como any(), str.isdigit(), str.isupper(), etc.\n",
    "input (\"Introuzca una contraseña\")\n",
    "def contraseña_segura (contraseña):\n",
    "   if len(contraseña)!=8:\n",
    "        return \"contraseña invalida\"\n",
    "   elif not any(c.isupper() for c in contraseña):\n",
    "       return \"debe tener una mayuscula\"\n",
    "   elif not any(c.islower() for c in contraseña):\n",
    "       return \"debe tener una minuscula\"  \n",
    "   elif not any (c in \"@,#,%,;*,%,$,?,¿,.,:,;\" for c in contraseña):\n",
    "      return \"debe tener un caracter especial\" \n",
    "   elif not any (c.isdigit for c in contraseña):\n",
    "       return \"debe tener un entero\" \n",
    "   else:\n",
    "       return \"Contraseña segura\"\n",
    "\n",
    "       \n",
    "contraseña_segura(\"12367Mm@\")"
   ]
  },
  {
   "cell_type": "code",
   "execution_count": 54,
   "id": "da5ac9f9-1ff5-46a3-99d1-b08c92460b72",
   "metadata": {},
   "outputs": [
    {
     "data": {
      "text/plain": [
       "'chiquibomba'"
      ]
     },
     "execution_count": 54,
     "metadata": {},
     "output_type": "execute_result"
    }
   ],
   "source": [
    "#Palabra más larga en una frase \n",
    "#define palabra_mas_larga(frase) que encuentre la palabra con más caracteres dentro de un texto.\n",
    "def palabra_mas_larga(frase):\n",
    "    palabras=frase.split()\n",
    "    return max(palabras, key=len)\n",
    "palabra_mas_larga(\"Ayer me la pasé chiquibomba\")"
   ]
  },
  {
   "cell_type": "code",
   "execution_count": 110,
   "id": "92894a69-fcc7-4f48-9a62-d31a3705bf37",
   "metadata": {},
   "outputs": [
    {
     "ename": "ZeroDivisionError",
     "evalue": "division by zero",
     "output_type": "error",
     "traceback": [
      "\u001b[1;31m---------------------------------------------------------------------------\u001b[0m",
      "\u001b[1;31mZeroDivisionError\u001b[0m                         Traceback (most recent call last)",
      "Cell \u001b[1;32mIn[110], line 15\u001b[0m\n\u001b[0;32m     13\u001b[0m     \u001b[38;5;28;01melif\u001b[39;00m b\u001b[38;5;241m==\u001b[39m \u001b[38;5;241m0\u001b[39m:\n\u001b[0;32m     14\u001b[0m      \u001b[38;5;28;01mreturn\u001b[39;00m (\u001b[38;5;124m\"\u001b[39m\u001b[38;5;124mno se puede dividir entre cero\u001b[39m\u001b[38;5;124m\"\u001b[39m)\n\u001b[1;32m---> 15\u001b[0m \u001b[38;5;28mprint\u001b[39m(\u001b[43mcalculadora\u001b[49m\u001b[43m(\u001b[49m\u001b[38;5;241;43m0\u001b[39;49m\u001b[43m,\u001b[49m\u001b[43m \u001b[49m\u001b[38;5;241;43m0\u001b[39;49m\u001b[43m,\u001b[49m\u001b[43m \u001b[49m\u001b[38;5;124;43m\"\u001b[39;49m\u001b[38;5;124;43m/\u001b[39;49m\u001b[38;5;124;43m\"\u001b[39;49m\u001b[43m)\u001b[49m)  \n",
      "Cell \u001b[1;32mIn[110], line 12\u001b[0m, in \u001b[0;36mcalculadora\u001b[1;34m(a, b, operador)\u001b[0m\n\u001b[0;32m     10\u001b[0m  \u001b[38;5;28;01mreturn\u001b[39;00m(a\u001b[38;5;241m*\u001b[39mb)\n\u001b[0;32m     11\u001b[0m \u001b[38;5;28;01melif\u001b[39;00m operador\u001b[38;5;241m==\u001b[39m \u001b[38;5;124m\"\u001b[39m\u001b[38;5;124m/\u001b[39m\u001b[38;5;124m\"\u001b[39m:\n\u001b[1;32m---> 12\u001b[0m  \u001b[38;5;28;01mreturn\u001b[39;00m (\u001b[43ma\u001b[49m\u001b[38;5;241;43m/\u001b[39;49m\u001b[43mb\u001b[49m)\n\u001b[0;32m     13\u001b[0m \u001b[38;5;28;01melif\u001b[39;00m b\u001b[38;5;241m==\u001b[39m \u001b[38;5;241m0\u001b[39m:\n\u001b[0;32m     14\u001b[0m  \u001b[38;5;28;01mreturn\u001b[39;00m (\u001b[38;5;124m\"\u001b[39m\u001b[38;5;124mno se puede dividir entre cero\u001b[39m\u001b[38;5;124m\"\u001b[39m)\n",
      "\u001b[1;31mZeroDivisionError\u001b[0m: division by zero"
     ]
    }
   ],
   "source": [
    "#Simulador de calculadora básica Crea una función calculadora(a, b, operador) donde operador \n",
    "#puede ser \"+\", \"-\", \"*\", \"/\". Usa if/elif para decidir la operación\n",
    "\n",
    "def calculadora (a,b, operador):\n",
    "    if operador == \"+\":\n",
    "     return (a+b)\n",
    "    elif operador == \"-\":\n",
    "     return (a-b)\n",
    "    elif operador == \"*\":\n",
    "     return(a*b)\n",
    "    elif operador== \"/\":\n",
    "     return (a/b)\n",
    "    elif b== 0:\n",
    "     return (\"no se puede dividir entre cero\")\n",
    "print(calculadora(0, 0, \"/\"))  \n"
   ]
  },
  {
   "cell_type": "code",
   "execution_count": 91,
   "id": "6b28039b-7180-4aca-8417-1c8fa0b100b2",
   "metadata": {},
   "outputs": [
    {
     "name": "stdout",
     "output_type": "stream",
     "text": [
      "11\n"
     ]
    }
   ],
   "source": [
    "#Suma de números impares\n",
    "#Dada una lista de enteros, escribe una función que devuelva la suma de todos los números impares. Ejemplo → [1, 2, 3, 4, 5] → 9.\n",
    "def suma_de_impares (numeros): \n",
    " suma=0\n",
    " for n in numeros:\n",
    "     if n % 2 != 0: \n",
    "        suma+=n\n",
    " return suma\n",
    "print(suma_de_impares([1,2,3,4,6,7]))\n",
    "        \n",
    "   "
   ]
  },
  {
   "cell_type": "code",
   "execution_count": 78,
   "id": "db529d6d-ad83-40af-9eb7-540773814ae8",
   "metadata": {},
   "outputs": [
    {
     "name": "stdout",
     "output_type": "stream",
     "text": [
      "['oso', 'agua']\n"
     ]
    }
   ],
   "source": [
    "def palabras_con_vocal(lista):\n",
    "    vocales = \"aeiouáéíóú\"  \n",
    "    resultado = []\n",
    "    \n",
    "    for palabra in lista:\n",
    "        if palabra[0] in vocales:  \n",
    "            resultado.append(palabra)\n",
    "    \n",
    "    return resultado\n",
    "\n",
    "palabras = [\"oso\", \"perro\", \"agua\", \"luz\"]\n",
    "print(palabras_con_vocal(palabras))"
   ]
  },
  {
   "cell_type": "code",
   "execution_count": 92,
   "id": "10dd4379-f30d-4935-bf2b-bb7e11ccab8d",
   "metadata": {},
   "outputs": [
    {
     "name": "stdout",
     "output_type": "stream",
     "text": [
      "['A', 1, 'B', 2, 'C', 3, 'D', 4]\n"
     ]
    }
   ],
   "source": [
    "def unir_listas(lista1, lista2):\n",
    "    resultado =[]\n",
    "    for a,b in zip(lista1, lista2):\n",
    "        resultado.append(a),\n",
    "        resultado.append(b),\n",
    "    return resultado\n",
    "\n",
    "letras=[\"A\",\"B\",\"C\",\"D\"]\n",
    "numeros=[1,2,3,4]\n",
    "\n",
    "print(unir_listas(letras,numeros))"
   ]
  },
  {
   "cell_type": "code",
   "execution_count": 103,
   "id": "66ab197b-e18e-428f-8318-eac39fade011",
   "metadata": {},
   "outputs": [
    {
     "data": {
      "text/plain": [
       "[4, 5, 1, 2, 3, 4, 5]"
      ]
     },
     "execution_count": 103,
     "metadata": {},
     "output_type": "execute_result"
    }
   ],
   "source": [
    "#Rotar una lista n posiciones\n",
    "#Dada una lista y un número entero n, rota la lista hacia la derecha n posiciones. \n",
    "#Ejemplo → [1,2,3,4,5], n=2 → [4,5,1,2,3]\n",
    "def rotador (lista, numero):\n",
    "      return lista[-numero:]+lista\n",
    "    \n",
    "rotador([1,2,3,4,5], 2)"
   ]
  }
 ],
 "metadata": {
  "kernelspec": {
   "display_name": "Python 3 (ipykernel)",
   "language": "python",
   "name": "python3"
  },
  "language_info": {
   "codemirror_mode": {
    "name": "ipython",
    "version": 3
   },
   "file_extension": ".py",
   "mimetype": "text/x-python",
   "name": "python",
   "nbconvert_exporter": "python",
   "pygments_lexer": "ipython3",
   "version": "3.10.4"
  }
 },
 "nbformat": 4,
 "nbformat_minor": 5
}
