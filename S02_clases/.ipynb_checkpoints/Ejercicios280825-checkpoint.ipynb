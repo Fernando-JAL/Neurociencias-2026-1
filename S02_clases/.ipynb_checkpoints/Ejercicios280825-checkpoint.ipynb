{
 "cells": [
  {
   "cell_type": "code",
   "execution_count": 7,
   "id": "a7efb08d-9bf4-4d61-a123-9aff768b63f9",
   "metadata": {},
   "outputs": [
    {
     "name": "stdout",
     "output_type": "stream",
     "text": [
      "15\n"
     ]
    }
   ],
   "source": [
    "def contar_vocales(cadena):\n",
    "    vocales = \" aeiouAEIOU\"\n",
    "    return sum(1 for letra in cadena if letra in vocales)\n",
    "\n",
    "print (contar_vocales(\"Este es el ejercicio uno\"))"
   ]
  },
  {
   "cell_type": "code",
   "execution_count": 15,
   "id": "d684fbd6-d0ee-42d2-ac56-a304edf94094",
   "metadata": {},
   "outputs": [
    {
     "name": "stdout",
     "output_type": "stream",
     "text": [
      "Este numero es impar\n"
     ]
    }
   ],
   "source": [
    "def par_o_impar(numero):\n",
    "    if numero % 2 == 0:\n",
    "        print(\"Este número es par\")\n",
    "    else:\n",
    "        print(\"Este numero es impar\")\n",
    "\n",
    "par_o_impar (9)"
   ]
  },
  {
   "cell_type": "code",
   "execution_count": 9,
   "id": "ebf46329-c2c9-4175-81ee-6a455a0c9672",
   "metadata": {},
   "outputs": [
    {
     "name": "stdout",
     "output_type": "stream",
     "text": [
      "90.68\n"
     ]
    }
   ],
   "source": [
    "def cel_a_fahr(celsius):\n",
    "    return (celsius * 9/5) + 32\n",
    "\n",
    "print (cel_a_fahr(32.6))"
   ]
  },
  {
   "cell_type": "code",
   "execution_count": 21,
   "id": "1340d6da-cdd4-48c4-aca8-72aace7196dd",
   "metadata": {},
   "outputs": [
    {
     "name": "stdout",
     "output_type": "stream",
     "text": [
      "6\n"
     ]
    }
   ],
   "source": [
    "def suma_digitos(numero):\n",
    "    return sum(int(digit) for digit in str(numero))\n",
    "print (suma_digitos(123))"
   ]
  },
  {
   "cell_type": "code",
   "execution_count": 24,
   "id": "23e6056b-119c-4c53-9efa-81cfc28f1106",
   "metadata": {},
   "outputs": [
    {
     "name": "stdout",
     "output_type": "stream",
     "text": [
      "5\n"
     ]
    }
   ],
   "source": [
    "def numero_de_palabras (cadena):\n",
    "    return len(cadena.split())\n",
    "print (numero_de_palabras (\"Estoy en modelos computacionales uno\"))"
   ]
  },
  {
   "cell_type": "code",
   "execution_count": 39,
   "id": "c18806b2-84f8-45c5-a3ff-4a6c40b7b8e4",
   "metadata": {},
   "outputs": [
    {
     "name": "stdout",
     "output_type": "stream",
     "text": [
      "1\n"
     ]
    }
   ],
   "source": [
    "def minimo(lista):\n",
    "    if len(lista) < 3:\n",
    "        print (\"Deben ser al menos 3 valores\")\n",
    "    else:\n",
    "        return min(lista)\n",
    "print(minimo ([1,4,7]))"
   ]
  },
  {
   "cell_type": "code",
   "execution_count": 43,
   "id": "68d34d05-ef03-4fec-8fba-fa5f1ba40370",
   "metadata": {},
   "outputs": [
    {
     "name": "stdout",
     "output_type": "stream",
     "text": [
      "4\n"
     ]
    }
   ],
   "source": [
    "def numletras(frase, letra):\n",
    "    return frase.count(letra)\n",
    "print (numletras(\"Roy no sabe programar porque no sale su codigo\", \"a\"))"
   ]
  },
  {
   "cell_type": "code",
   "execution_count": 71,
   "id": "830bf3d8-58e7-4b1a-b131-145cca9d0714",
   "metadata": {},
   "outputs": [
    {
     "ename": "IndentationError",
     "evalue": "unindent does not match any outer indentation level (<string>, line 9)",
     "output_type": "error",
     "traceback": [
      "  \u001b[36mFile \u001b[39m\u001b[32m<string>:9\u001b[39m\n\u001b[31m    \u001b[39m\u001b[31mresultado += caracter.lower()\u001b[39m\n                                 ^\n\u001b[31mIndentationError\u001b[39m\u001b[31m:\u001b[39m unindent does not match any outer indentation level\n"
     ]
    }
   ],
   "source": [
    "def inverso(cadena):\n",
    "    Mayusculas= \"QWERTYUIOPASDFGHJKLÑZXCVBNM\"\n",
    "    Minusculas= \"qwertyuiopasdfghjklñzxcvbnm\"\n",
    "    for caracter in cadena:\n",
    "       if caracter in Minusculas:\n",
    "           resultado += caracter.upper()\n",
    "       else:\n",
    "           caracter in Mayusculas\n",
    "        resultado += caracter.lower()\n",
    "    return resultado \n",
    "\n",
    "print (inverso(\"Espero Que Esta Vez Salga\"))\n"
   ]
  }
 ],
 "metadata": {
  "kernelspec": {
   "display_name": "Python 3 (ipykernel)",
   "language": "python",
   "name": "python3"
  },
  "language_info": {
   "codemirror_mode": {
    "name": "ipython",
    "version": 3
   },
   "file_extension": ".py",
   "mimetype": "text/x-python",
   "name": "python",
   "nbconvert_exporter": "python",
   "pygments_lexer": "ipython3",
   "version": "3.13.7"
  }
 },
 "nbformat": 4,
 "nbformat_minor": 5
}
