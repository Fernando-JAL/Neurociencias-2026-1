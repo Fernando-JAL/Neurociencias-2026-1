{
 "cells": [
  {
   "cell_type": "code",
   "execution_count": 1,
   "id": "0f386760-8bad-4e7a-9975-ba6c87e67284",
   "metadata": {},
   "outputs": [],
   "source": [
    "lista= [\"rojo\",2.3,100,\"chocolate\",\"nuez\"]"
   ]
  },
  {
   "cell_type": "code",
   "execution_count": null,
   "id": "48ffaa7a-5c10-4f09-b502-6a46abf7e5a7",
   "metadata": {},
   "outputs": [],
   "source": [
    "#para agregar un elemento"
   ]
  },
  {
   "cell_type": "code",
   "execution_count": 2,
   "id": "fbf85b71-612f-4264-9ca8-0ac0d22a6f5c",
   "metadata": {},
   "outputs": [],
   "source": [
    "lista.append(\"nuez\")"
   ]
  },
  {
   "cell_type": "code",
   "execution_count": 5,
   "id": "3d28b663-0951-42d5-a2be-7e0cf7d46971",
   "metadata": {},
   "outputs": [],
   "source": [
    "lista_vacia = []"
   ]
  },
  {
   "cell_type": "code",
   "execution_count": 6,
   "id": "6653aaee-5d2b-4fb9-8f7c-597c1ba0818a",
   "metadata": {},
   "outputs": [],
   "source": [
    "lista[-1:]= [1,2,3] #hay que poner el : porque si no toma los tres valores como uno solo para reemplazar en la posición de -1, en cambio con\n",
    "# : toma los valores entre corchetes como separados."
   ]
  },
  {
   "cell_type": "code",
   "execution_count": 7,
   "id": "d23ba031-cff3-48be-8958-a6678568bec7",
   "metadata": {},
   "outputs": [
    {
     "data": {
      "text/plain": [
       "['rojo', 2.3, 100, 'chocolate', 'nuez', 1, 2, 3]"
      ]
     },
     "execution_count": 7,
     "metadata": {},
     "output_type": "execute_result"
    }
   ],
   "source": [
    "lista"
   ]
  },
  {
   "cell_type": "code",
   "execution_count": 8,
   "id": "bd7282e0-d09c-416a-8eca-a246ef0470d0",
   "metadata": {},
   "outputs": [],
   "source": [
    "#para borrar usamos del\n",
    "del lista[2:4]"
   ]
  },
  {
   "cell_type": "code",
   "execution_count": 9,
   "id": "2382bb50-4290-4355-87c6-642e3952ec0e",
   "metadata": {},
   "outputs": [
    {
     "data": {
      "text/plain": [
       "['rojo', 2.3, 'nuez', 1, 2, 3]"
      ]
     },
     "execution_count": 9,
     "metadata": {},
     "output_type": "execute_result"
    }
   ],
   "source": [
    "lista"
   ]
  },
  {
   "cell_type": "code",
   "execution_count": 10,
   "id": "8efa40a5-ecbe-4938-be5e-4bc10c64facd",
   "metadata": {},
   "outputs": [
    {
     "ename": "NameError",
     "evalue": "name 'matriz' is not defined",
     "output_type": "error",
     "traceback": [
      "\u001b[31m---------------------------------------------------------------------------\u001b[39m",
      "\u001b[31mNameError\u001b[39m                                 Traceback (most recent call last)",
      "\u001b[36mCell\u001b[39m\u001b[36m \u001b[39m\u001b[32mIn[10]\u001b[39m\u001b[32m, line 1\u001b[39m\n\u001b[32m----> \u001b[39m\u001b[32m1\u001b[39m \u001b[43mmatriz\u001b[49m[\u001b[32m2\u001b[39m]\n",
      "\u001b[31mNameError\u001b[39m: name 'matriz' is not defined"
     ]
    }
   ],
   "source": [
    "#doble slicing, ponerle un slicing a otro slicing"
   ]
  },
  {
   "cell_type": "code",
   "execution_count": 11,
   "id": "53dc4176-8223-4595-ab4b-f73ebd39bc79",
   "metadata": {},
   "outputs": [],
   "source": [
    "#tuplas"
   ]
  },
  {
   "cell_type": "code",
   "execution_count": 25,
   "id": "f021907f-48c9-4451-8769-c1e5b180f8c2",
   "metadata": {},
   "outputs": [
    {
     "data": {
      "text/plain": [
       "tuple"
      ]
     },
     "execution_count": 25,
     "metadata": {},
     "output_type": "execute_result"
    }
   ],
   "source": [
    "variable=(5,2,\"-1\",[4, 2, 1], \"pasa\")\n",
    "variable\n",
    "type(variable)"
   ]
  },
  {
   "cell_type": "code",
   "execution_count": 18,
   "id": "2d4334f3-88e1-48e8-b495-ebffaa61a43b",
   "metadata": {},
   "outputs": [
    {
     "data": {
      "text/plain": [
       "2"
      ]
     },
     "execution_count": 18,
     "metadata": {},
     "output_type": "execute_result"
    }
   ],
   "source": [
    "variable[1]"
   ]
  },
  {
   "cell_type": "code",
   "execution_count": 27,
   "id": "9f589153-d92c-4a1c-a285-74d47bc3c26e",
   "metadata": {},
   "outputs": [
    {
     "data": {
      "text/plain": [
       "(2, '-1')"
      ]
     },
     "execution_count": 27,
     "metadata": {},
     "output_type": "execute_result"
    }
   ],
   "source": [
    " variable[1:-2] #el segundo elemento, después del : se le suma +1"
   ]
  },
  {
   "cell_type": "code",
   "execution_count": 28,
   "id": "9d2222a9-6ea0-4f6d-91f1-449ba00f0d24",
   "metadata": {},
   "outputs": [
    {
     "data": {
      "text/plain": [
       "(2, '-1', [4, 2, 1])"
      ]
     },
     "execution_count": 28,
     "metadata": {},
     "output_type": "execute_result"
    }
   ],
   "source": [
    "variable[-4:4]"
   ]
  },
  {
   "cell_type": "code",
   "execution_count": 29,
   "id": "a996db4c-17d3-47dd-aa1c-b4a22d18a6f5",
   "metadata": {},
   "outputs": [],
   "source": [
    "t1, t2, t3 = (4,5), (6,7), (8,9)"
   ]
  },
  {
   "cell_type": "code",
   "execution_count": 30,
   "id": "91a7544e-817e-471a-8ccb-54a9286b04c8",
   "metadata": {},
   "outputs": [
    {
     "data": {
      "text/plain": [
       "(6, 7, 6, 7, 6, 7)"
      ]
     },
     "execution_count": 30,
     "metadata": {},
     "output_type": "execute_result"
    }
   ],
   "source": [
    "3*t2"
   ]
  },
  {
   "cell_type": "code",
   "execution_count": 31,
   "id": "981c7398-74f7-48ef-9d9b-fc899c404574",
   "metadata": {},
   "outputs": [
    {
     "data": {
      "text/plain": [
       "(4, 5, 6, 7)"
      ]
     },
     "execution_count": 31,
     "metadata": {},
     "output_type": "execute_result"
    }
   ],
   "source": [
    "t1+t2"
   ]
  },
  {
   "cell_type": "code",
   "execution_count": 32,
   "id": "7076a564-7f9c-49b0-b537-46cc2ea888bc",
   "metadata": {},
   "outputs": [
    {
     "data": {
      "text/plain": [
       "7"
      ]
     },
     "execution_count": 32,
     "metadata": {},
     "output_type": "execute_result"
    }
   ],
   "source": [
    "(3*t2)[3]"
   ]
  },
  {
   "cell_type": "code",
   "execution_count": 33,
   "id": "fd44804b-71bb-4d87-ba0c-94b3ffe13064",
   "metadata": {},
   "outputs": [],
   "source": [
    "#mapping: diccionarios"
   ]
  },
  {
   "cell_type": "code",
   "execution_count": 35,
   "id": "758beb72-6437-45b6-9fd8-31cef92c5f9c",
   "metadata": {},
   "outputs": [],
   "source": [
    "diccionario= {\"llave\":\"valor\",\"lave\":\"3\"} #en diccionario no hay slicing, no se cuenta desde 0, si queremos pedir un valor\n",
    "#tenemos que darle el numero de llave"
   ]
  },
  {
   "cell_type": "code",
   "execution_count": 36,
   "id": "82727d9b-a276-406c-b6eb-091f21a7daf3",
   "metadata": {},
   "outputs": [
    {
     "data": {
      "text/plain": [
       "dict_keys(['llave', 'lave'])"
      ]
     },
     "execution_count": 36,
     "metadata": {},
     "output_type": "execute_result"
    }
   ],
   "source": [
    "diccionario.keys() #se está usando el método keys"
   ]
  },
  {
   "cell_type": "code",
   "execution_count": 37,
   "id": "fccce3a3-d6e3-4b20-8e7c-5f6af74bdd20",
   "metadata": {},
   "outputs": [
    {
     "data": {
      "text/plain": [
       "dict_values(['valor', '3'])"
      ]
     },
     "execution_count": 37,
     "metadata": {},
     "output_type": "execute_result"
    }
   ],
   "source": [
    "diccionario.values()"
   ]
  },
  {
   "cell_type": "code",
   "execution_count": 39,
   "id": "3672c3fd-c39f-4a03-adba-a1c9a17d5c49",
   "metadata": {},
   "outputs": [
    {
     "data": {
      "text/plain": [
       "{'llave': 'valor1', 'lave': '3'}"
      ]
     },
     "execution_count": 39,
     "metadata": {},
     "output_type": "execute_result"
    }
   ],
   "source": [
    "#los diccionarios son mutables\n",
    "diccionario[\"llave\"]= \"valor1\"\n",
    "diccionario"
   ]
  },
  {
   "cell_type": "code",
   "execution_count": 40,
   "id": "43fd7f25-5e8a-4203-a084-d33148678339",
   "metadata": {},
   "outputs": [
    {
     "data": {
      "text/plain": [
       "'3'"
      ]
     },
     "execution_count": 40,
     "metadata": {},
     "output_type": "execute_result"
    }
   ],
   "source": [
    "diccionario.pop(\"lave\") #para eliminar un elemento se usa pop"
   ]
  },
  {
   "cell_type": "code",
   "execution_count": 41,
   "id": "ecef99b4-3bd3-4494-98eb-e3502228e783",
   "metadata": {},
   "outputs": [
    {
     "data": {
      "text/plain": [
       "{'llave': 'valor1'}"
      ]
     },
     "execution_count": 41,
     "metadata": {},
     "output_type": "execute_result"
    }
   ],
   "source": [
    "diccionario"
   ]
  },
  {
   "cell_type": "code",
   "execution_count": null,
   "id": "c80df988-f22b-4be1-9ae8-6cf6d730c27e",
   "metadata": {},
   "outputs": [],
   "source": []
  }
 ],
 "metadata": {
  "kernelspec": {
   "display_name": "Python 3 (ipykernel)",
   "language": "python",
   "name": "python3"
  },
  "language_info": {
   "codemirror_mode": {
    "name": "ipython",
    "version": 3
   },
   "file_extension": ".py",
   "mimetype": "text/x-python",
   "name": "python",
   "nbconvert_exporter": "python",
   "pygments_lexer": "ipython3",
   "version": "3.13.5"
  }
 },
 "nbformat": 4,
 "nbformat_minor": 5
}
