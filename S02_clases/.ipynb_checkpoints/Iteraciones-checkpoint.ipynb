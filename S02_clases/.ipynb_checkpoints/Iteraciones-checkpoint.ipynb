{
 "cells": [
  {
   "cell_type": "markdown",
   "id": "281629ab-1ac9-4f93-88b7-a5c63a7475df",
   "metadata": {},
   "source": [
    "# Controlador de Flujo FOR"
   ]
  },
  {
   "cell_type": "code",
   "execution_count": 1,
   "id": "3f299c95-d01a-4768-a3aa-ef0623e9030f",
   "metadata": {},
   "outputs": [
    {
     "name": "stdout",
     "output_type": "stream",
     "text": [
      "2\n",
      "4\n",
      "6\n",
      "8\n",
      "10\n"
     ]
    }
   ],
   "source": [
    "listas=[2,4,6,8,10]\n",
    "\n",
    "for valor in listas:\n",
    "    print (valor)"
   ]
  },
  {
   "cell_type": "code",
   "execution_count": 2,
   "id": "6073c87f-4ba2-4cdf-8df3-1a5d34dca747",
   "metadata": {},
   "outputs": [
    {
     "name": "stdout",
     "output_type": "stream",
     "text": [
      "0\n",
      "1\n",
      "2\n",
      "3\n",
      "4\n"
     ]
    }
   ],
   "source": [
    "# range (pos_i, pos_f+1, salto)\n",
    "for valor  in range(5):\n",
    "    print (valor)"
   ]
  },
  {
   "cell_type": "code",
   "execution_count": 3,
   "id": "03192917-202b-45df-a5c4-09ac7375bbb7",
   "metadata": {},
   "outputs": [
    {
     "name": "stdout",
     "output_type": "stream",
     "text": [
      "c\n",
      "a\n",
      "d\n",
      "e\n",
      "n\n",
      "a\n"
     ]
    }
   ],
   "source": [
    "for letra in \"cadena\":\n",
    "    print (letra)"
   ]
  },
  {
   "cell_type": "code",
   "execution_count": 11,
   "id": "30b18507-0c06-4424-8fdf-16ad4fd173eb",
   "metadata": {},
   "outputs": [
    {
     "name": "stdout",
     "output_type": "stream",
     "text": [
      "key1\n",
      "key2\n",
      "key3\n"
     ]
    }
   ],
   "source": [
    "diccionario= {'key1': 'val1', 'key2': 'val2', 'key3': 'val3'}\n",
    "for llave in diccionario:\n",
    "    print(llave)"
   ]
  },
  {
   "cell_type": "code",
   "execution_count": 14,
   "id": "61486fe3-954d-471a-8bf1-f5fbaa2af009",
   "metadata": {},
   "outputs": [
    {
     "ename": "IndentationError",
     "evalue": "expected an indented block after 'for' statement on line 3 (3311208314.py, line 4)",
     "output_type": "error",
     "traceback": [
      "\u001b[1;36m  Cell \u001b[1;32mIn[14], line 4\u001b[1;36m\u001b[0m\n\u001b[1;33m    longitud+= 1\u001b[0m\n\u001b[1;37m    ^\u001b[0m\n\u001b[1;31mIndentationError\u001b[0m\u001b[1;31m:\u001b[0m expected an indented block after 'for' statement on line 3\n"
     ]
    }
   ],
   "source": [
    "listas=[2,4,6,8,10]\n",
    "longitud=0\n",
    "for _ in listas:\n",
    "longitud+= 1\n",
    "\n",
    "print('la lista tiene', longitud, 'elementos')"
   ]
  },
  {
   "cell_type": "code",
   "execution_count": 19,
   "id": "53917204-9b47-4f7d-a556-2013e4f7663d",
   "metadata": {},
   "outputs": [
    {
     "name": "stdout",
     "output_type": "stream",
     "text": [
      "El promedio de los valores de la lista es 0.4\n",
      "El promedio de los valores de la lista es 0.8800000000000001\n",
      "El promedio de los valores de la lista es 1.376\n",
      "El promedio de los valores de la lista es 1.8752\n",
      "El promedio de los valores de la lista es 2.37504\n"
     ]
    }
   ],
   "source": [
    "listas = [2,4,6,8,10]\n",
    "\n",
    "promedio= 0\n",
    "for valor in listas:\n",
    "    promedio += valor\n",
    "\n",
    "    promedio /= len(listas)\n",
    "    print('El promedio de los valores de la lista es', promedio)"
   ]
  },
  {
   "cell_type": "markdown",
   "id": "489b6c2f-a08a-4827-9755-03ca4b0e7863",
   "metadata": {},
   "source": [
    "# Ejercicio\n",
    "Usando la lista listas= [2,3,4,5,6,7,8,9,10]\n",
    "\n",
    "Sobre cada valor de listas determine:\n",
    "-Si el valor de la lista es par, calcule e imprima su cuadrado\n",
    "-Si el valor de la lista es impar, sume uno al valor y dividalo sobre 2 e imprima el resultado"
   ]
  },
  {
   "cell_type": "code",
   "execution_count": 28,
   "id": "a720cc2d-d298-4ae4-ab5d-3ed27d567205",
   "metadata": {},
   "outputs": [
    {
     "name": "stdout",
     "output_type": "stream",
     "text": [
      "4\n",
      "2.0\n",
      "16\n",
      "3.0\n",
      "36\n",
      "4.0\n",
      "64\n",
      "5.0\n",
      "100\n"
     ]
    }
   ],
   "source": [
    "listas= [2,3,4,5,6,7,8,9,10]\n",
    "\n",
    "for valor in listas:\n",
    "    if valor % 2 == 0:\n",
    "        print(valor**2)\n",
    "    else:\n",
    "        print((valor+1)/2)"
   ]
  },
  {
   "cell_type": "markdown",
   "id": "cb3fa366-7348-48e8-9aac-6a4409fd3cca",
   "metadata": {},
   "source": [
    "# Modificar una lista vuelo"
   ]
  },
  {
   "cell_type": "code",
   "execution_count": 32,
   "id": "49281e53-d96c-4f49-90fe-96795a20d784",
   "metadata": {},
   "outputs": [
    {
     "data": {
      "text/plain": [
       "[52, 54, 56, 58, 60]"
      ]
     },
     "execution_count": 32,
     "metadata": {},
     "output_type": "execute_result"
    }
   ],
   "source": [
    "listas= [2,4,6,8,10]\n",
    "\n",
    "indice=0\n",
    "for _ in listas:\n",
    "    listas[indice] += 50\n",
    "    indice += 1\n",
    "\n",
    "listas"
   ]
  },
  {
   "cell_type": "markdown",
   "id": "3eefbbfa-4f6f-461d-a87c-116b3d83f5aa",
   "metadata": {},
   "source": [
    "# Método enumerat (iterable, start = 0)"
   ]
  },
  {
   "cell_type": "code",
   "execution_count": 33,
   "id": "550127bd-5473-4603-96b7-3169f3fb6843",
   "metadata": {},
   "outputs": [],
   "source": [
    "#Regresará un objeto enumerate. Este método regresará una tupla de pares donde el primer elemento será un entero que comenzará en start y el segundo elemento de la tupla tendrá el valor del objeto iterable"
   ]
  },
  {
   "cell_type": "code",
   "execution_count": 34,
   "id": "ca28ed34-5cfc-491d-b7ac-a70f76afea71",
   "metadata": {},
   "outputs": [
    {
     "data": {
      "text/plain": [
       "['cadena', 'con', 'espacio']"
      ]
     },
     "execution_count": 34,
     "metadata": {},
     "output_type": "execute_result"
    }
   ],
   "source": [
    "'cadena con espacio'.split(sep=' ') #Método"
   ]
  },
  {
   "cell_type": "code",
   "execution_count": 35,
   "id": "5a501784-f6a0-40ae-b95f-9be8fe2d0fda",
   "metadata": {},
   "outputs": [
    {
     "data": {
      "text/plain": [
       "[(-20, 2), (-19, 4), (-18, 6), (-17, 8), (-16, 10)]"
      ]
     },
     "execution_count": 35,
     "metadata": {},
     "output_type": "execute_result"
    }
   ],
   "source": [
    "list(enumerate([2,4,6,8,10], start=-20))"
   ]
  },
  {
   "cell_type": "code",
   "execution_count": 36,
   "id": "7af5415c-0396-4dcf-bcdc-27d11d2a05c0",
   "metadata": {},
   "outputs": [
    {
     "data": {
      "text/plain": [
       "[(0, 'c'), (1, 'a'), (2, 'd'), (3, 'e'), (4, 'n'), (5, 'a')]"
      ]
     },
     "execution_count": 36,
     "metadata": {},
     "output_type": "execute_result"
    }
   ],
   "source": [
    "list(enumerate('cadena'))"
   ]
  },
  {
   "cell_type": "code",
   "execution_count": 39,
   "id": "3197795d-7917-485d-8304-2eb660fc8eed",
   "metadata": {},
   "outputs": [
    {
     "data": {
      "text/plain": [
       "[(0, 'primavera'), (1, 'verano'), (2, 'otoño'), (3, 'invierno')]"
      ]
     },
     "execution_count": 39,
     "metadata": {},
     "output_type": "execute_result"
    }
   ],
   "source": [
    "list(enumerate(['primavera', 'verano', 'otoño', 'invierno']))"
   ]
  },
  {
   "cell_type": "code",
   "execution_count": 37,
   "id": "c7b57860-28f0-42cc-9f79-c2425a3fec7f",
   "metadata": {},
   "outputs": [
    {
     "data": {
      "text/plain": [
       "[52, 54, 56, 58, 60]"
      ]
     },
     "execution_count": 37,
     "metadata": {},
     "output_type": "execute_result"
    }
   ],
   "source": [
    "listas= [2,4,6,8,10]\n",
    "\n",
    "indice=0\n",
    "for indice, _ in enumerate(listas):\n",
    "    listas[indice] += 50\n",
    "    indice += 1\n",
    "\n",
    "listas"
   ]
  },
  {
   "cell_type": "markdown",
   "id": "0873c6ca-47df-4bd2-a6dd-d9041db6846b",
   "metadata": {},
   "source": [
    "# Tarea \n",
    "Hacer un ejemplo de de las siguientes built-in functions \n",
    "- all\n",
    "- any\n",
    "- abs\n",
    "- input\n",
    "- max\n",
    "- min\n",
    "- pow\n",
    "- reversed\n",
    "- round\n",
    "- sorted\n",
    "- sum"
   ]
  },
  {
   "cell_type": "code",
   "execution_count": 40,
   "id": "b7d62310-72bc-4277-aa1d-0c1a551d8804",
   "metadata": {},
   "outputs": [
    {
     "name": "stdout",
     "output_type": "stream",
     "text": [
      "True\n"
     ]
    }
   ],
   "source": [
    "# all\n",
    "nums = [2, 4, 6, 8]\n",
    "print(all(n > 0 for n in nums))"
   ]
  },
  {
   "cell_type": "code",
   "execution_count": 41,
   "id": "e73c9675-eca2-4967-8983-dd79bc045e63",
   "metadata": {},
   "outputs": [
    {
     "name": "stdout",
     "output_type": "stream",
     "text": [
      "True\n"
     ]
    }
   ],
   "source": [
    "# any\n",
    "print(any(n > 10 for n in [3, 7, 15, 2]))"
   ]
  },
  {
   "cell_type": "code",
   "execution_count": 42,
   "id": "6ce7bddb-f4c9-49ea-be86-97bcc637103d",
   "metadata": {},
   "outputs": [
    {
     "name": "stdout",
     "output_type": "stream",
     "text": [
      "7\n"
     ]
    }
   ],
   "source": [
    "# abs\n",
    "temperatura = -7\n",
    "print(abs(temperatura))"
   ]
  },
  {
   "cell_type": "code",
   "execution_count": null,
   "id": "6928ac12-9303-43e6-9171-5f6cb14434d2",
   "metadata": {},
   "outputs": [],
   "source": [
    "# max\n",
    "palabras = [\"perro\", \"gato\", \"hipopótamo\", \"ave\", 'Rodrigo Salazar es el mero bueno']\n",
    "print(max(palabras, key=len))"
   ]
  },
  {
   "cell_type": "code",
   "execution_count": null,
   "id": "10c33bce-b8ab-405c-ba41-9aa033ad170a",
   "metadata": {},
   "outputs": [],
   "source": [
    "# min \n",
    "print(min(-5, -10, 3, 8))"
   ]
  },
  {
   "cell_type": "code",
   "execution_count": null,
   "id": "3f4f2bc5-da08-491a-a568-4d2d86d6346d",
   "metadata": {},
   "outputs": [],
   "source": [
    "#pow\n",
    "print(pow(9, 0.5)) "
   ]
  },
  {
   "cell_type": "code",
   "execution_count": null,
   "id": "a0840a6a-1b3d-426c-bcd3-86aac2b00706",
   "metadata": {},
   "outputs": [],
   "source": [
    "# reversed\n",
    "texto = \"python\"\n",
    "print(\"\".join(reversed(texto)))"
   ]
  },
  {
   "cell_type": "code",
   "execution_count": null,
   "id": "33950dd9-bfb1-463e-8da9-6a713fdceb58",
   "metadata": {},
   "outputs": [],
   "source": [
    "# round\n",
    "precio = 12.678\n",
    "print(round(precio, 1))"
   ]
  },
  {
   "cell_type": "code",
   "execution_count": null,
   "id": "d4dc7c6c-eb18-4e3b-9806-3d77a2b957db",
   "metadata": {},
   "outputs": [],
   "source": [
    "#sorted\n",
    "nombres = [\"Carlos\", \"Ana\", \"Beatriz\"]\n",
    "print(sorted(nombres))"
   ]
  },
  {
   "cell_type": "code",
   "execution_count": null,
   "id": "1e0c52d5-f042-478b-989e-ad489715b169",
   "metadata": {},
   "outputs": [],
   "source": [
    "#sum\n",
    "calificaciones = [9, 8, 10, 7]\n",
    "print(sum(calificaciones))"
   ]
  },
  {
   "cell_type": "code",
   "execution_count": null,
   "id": "eb38136a-c009-4da1-878c-2760f3027bfe",
   "metadata": {},
   "outputs": [],
   "source": []
  }
 ],
 "metadata": {
  "kernelspec": {
   "display_name": "Python 3 (ipykernel)",
   "language": "python",
   "name": "python3"
  },
  "language_info": {
   "codemirror_mode": {
    "name": "ipython",
    "version": 3
   },
   "file_extension": ".py",
   "mimetype": "text/x-python",
   "name": "python",
   "nbconvert_exporter": "python",
   "pygments_lexer": "ipython3",
   "version": "3.10.4"
  }
 },
 "nbformat": 4,
 "nbformat_minor": 5
}
