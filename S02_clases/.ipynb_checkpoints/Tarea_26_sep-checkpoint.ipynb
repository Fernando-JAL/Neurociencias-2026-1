{
 "cells": [
  {
   "cell_type": "code",
   "execution_count": null,
   "id": "2ebb75c1-e7d2-4dcf-b3e6-08e7abf2ac93",
   "metadata": {},
   "outputs": [],
   "source": [
    "## Tarea: Built in functions\n",
    "\n",
    "Hacer un ejemplo de las siguientes:\n",
    "-all\n",
    "-any\n",
    "-abs\n",
    "-input\n",
    "-max\n",
    "-min\n",
    "-pow\n",
    "-reversed\n",
    "-round\n",
    "-sorted\n",
    "-sum  "
   ]
  },
  {
   "cell_type": "code",
   "execution_count": null,
   "id": "01bca1d1-7a60-45db-8e92-92613864045c",
   "metadata": {},
   "outputs": [],
   "source": [
    "##all, esta función toma un interable y regresa FALSE si alguno de estos elementos es FALSE (Valor boleano FALSE) \n",
    "## y regresa TRUE  si es un elemento boleaano TRUE"
   ]
  },
  {
   "cell_type": "code",
   "execution_count": 3,
   "id": "ba6a3b3a-98bb-4bf7-9904-61224dd29362",
   "metadata": {},
   "outputs": [
    {
     "data": {
      "text/plain": [
       "True"
      ]
     },
     "execution_count": 3,
     "metadata": {},
     "output_type": "execute_result"
    }
   ],
   "source": [
    "var1= [\"Demasiado abstracto\", 16, 5, 2, [3,6,9], {\"nombre\":\"Monce\", \"edad\":19}]\n",
    "all(var1)"
   ]
  },
  {
   "cell_type": "code",
   "execution_count": 6,
   "id": "9cb4a5f7-0ca0-4ff9-a681-067e63d59ef3",
   "metadata": {},
   "outputs": [
    {
     "data": {
      "text/plain": [
       "True"
      ]
     },
     "execution_count": 6,
     "metadata": {},
     "output_type": "execute_result"
    }
   ],
   "source": [
    "##any, esta devuelve true si almenos uno de los elemenots de la variable es iterable\n",
    "## a diferencia del all, que te devolverá FALSE si alguno de los elementos es FALSE\n",
    "Var2= [[2,4,6], 16.5, \"hoy fuí a la nutri\", \"creo q me gusta mi roomie\",]\n",
    "any(Var2)       "
   ]
  },
  {
   "cell_type": "code",
   "execution_count": 7,
   "id": "fb685f3a-2b01-459a-b22e-525343ef010a",
   "metadata": {},
   "outputs": [
    {
     "name": "stdout",
     "output_type": "stream",
     "text": [
      "33.2\n"
     ]
    }
   ],
   "source": [
    "##abs calcula el valor absoluto\n",
    "x= -33.2\n",
    "print(abs(x))"
   ]
  },
  {
   "cell_type": "code",
   "execution_count": 10,
   "id": "4672da85-7eb0-42ae-9b8d-0f8935a67e5e",
   "metadata": {},
   "outputs": [
    {
     "name": "stdout",
     "output_type": "stream",
     "text": [
      "¿Cuál es su edad?\n"
     ]
    },
    {
     "name": "stdin",
     "output_type": "stream",
     "text": [
      "20 20\n"
     ]
    },
    {
     "name": "stdout",
     "output_type": "stream",
     "text": [
      "¿Cuál es su edad?, 20\n"
     ]
    }
   ],
   "source": [
    "## input permite printear texto escrito por teclaxo\n",
    "print(\"¿Cuál es su edad?\")\n",
    "nombre = input(20)  \n",
    "print(f\"¿Cuál es su edad?, {nombre}\")"
   ]
  },
  {
   "cell_type": "code",
   "execution_count": 14,
   "id": "43c7cff3-e358-4d01-b355-50ef68971f12",
   "metadata": {},
   "outputs": [
    {
     "name": "stdout",
     "output_type": "stream",
     "text": [
      "-23.22\n"
     ]
    }
   ],
   "source": [
    "## max regresa el elemento de mayor valor del elemento\n",
    "v = (-23.22, -23.2222)\n",
    "print(max(v))"
   ]
  },
  {
   "cell_type": "code",
   "execution_count": 16,
   "id": "f85e5337-d1da-45bf-af05-dc2c0071d515",
   "metadata": {},
   "outputs": [
    {
     "name": "stdout",
     "output_type": "stream",
     "text": [
      "-24\n"
     ]
    }
   ],
   "source": [
    "## min, regresa el elemento de menvor valor\n",
    "v2 = (-23.22, -24, 25, 100)\n",
    "print(min(v2))"
   ]
  },
  {
   "cell_type": "code",
   "execution_count": 18,
   "id": "0e26a185-218a-4fed-acb1-cb1c226dc3ca",
   "metadata": {},
   "outputs": [
    {
     "data": {
      "text/plain": [
       "0"
      ]
     },
     "execution_count": 18,
     "metadata": {},
     "output_type": "execute_result"
    }
   ],
   "source": [
    "## Devuelve el valor del elemento a la potencia de y (x^y)\n",
    "##la syntaxis (x, potencia de y, modulo z\n",
    "pow(2,3,2)"
   ]
  },
  {
   "cell_type": "code",
   "execution_count": 21,
   "id": "87a59aac-385b-40b1-9a82-2e620889887a",
   "metadata": {},
   "outputs": [
    {
     "name": "stdout",
     "output_type": "stream",
     "text": [
      "[9, 8, 7, 6, 5, 4, 3, 2, 1]\n"
     ]
    }
   ],
   "source": [
    "##reversed, devuelve un objeto iterable del tipo list\n",
    "lista= [1,2,3,4,5,6,7,8,9]\n",
    "print(list(reversed(lista))) ##notese que primero debes poner list"
   ]
  },
  {
   "cell_type": "code",
   "execution_count": 24,
   "id": "690e9e8b-06ae-4795-9c72-537e143ac0f3",
   "metadata": {},
   "outputs": [
    {
     "name": "stdout",
     "output_type": "stream",
     "text": [
      "3\n"
     ]
    }
   ],
   "source": [
    "##round literalm, redondea un flotante\n",
    "v= round(2.845678910000)\n",
    "print(v)"
   ]
  },
  {
   "cell_type": "code",
   "execution_count": 29,
   "id": "dcfb1290-e977-47d9-81de-0b88f9420386",
   "metadata": {},
   "outputs": [
    {
     "name": "stdout",
     "output_type": "stream",
     "text": [
      "[5, 4, 3, 2, 1]\n"
     ]
    }
   ],
   "source": [
    "## una lista ordena de un valor especificado, de forma descendent o ascendent\n",
    "a= (4,5,3,2,1)\n",
    "print(sorted(a, reverse=True ))"
   ]
  },
  {
   "cell_type": "code",
   "execution_count": 30,
   "id": "1634de3f-9032-4a8b-9eb9-0d20646d5b43",
   "metadata": {},
   "outputs": [
    {
     "data": {
      "text/plain": [
       "21"
      ]
     },
     "execution_count": 30,
     "metadata": {},
     "output_type": "execute_result"
    }
   ],
   "source": [
    "##suma\n",
    "lista=[1,2,3,4,5,6]\n",
    "sum(lista)"
   ]
  }
 ],
 "metadata": {
  "kernelspec": {
   "display_name": "Python 3 (ipykernel)",
   "language": "python",
   "name": "python3"
  },
  "language_info": {
   "codemirror_mode": {
    "name": "ipython",
    "version": 3
   },
   "file_extension": ".py",
   "mimetype": "text/x-python",
   "name": "python",
   "nbconvert_exporter": "python",
   "pygments_lexer": "ipython3",
   "version": "3.10.4"
  }
 },
 "nbformat": 4,
 "nbformat_minor": 5
}
