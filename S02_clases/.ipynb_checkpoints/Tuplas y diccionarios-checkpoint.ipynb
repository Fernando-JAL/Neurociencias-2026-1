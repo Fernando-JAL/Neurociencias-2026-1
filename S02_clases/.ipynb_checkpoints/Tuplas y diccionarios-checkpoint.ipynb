{
 "cells": [
  {
   "cell_type": "markdown",
   "id": "3c70893f-9a8f-47b0-bee1-a8b6c634db00",
   "metadata": {},
   "source": [
    "# Mas sobre listas"
   ]
  },
  {
   "cell_type": "code",
   "execution_count": 62,
   "id": "671a8cf6-2d86-4e9b-a833-691870e30a26",
   "metadata": {},
   "outputs": [
    {
     "data": {
      "text/plain": [
       "['rojo', 2.3, 100, 'chocolate']"
      ]
     },
     "execution_count": 62,
     "metadata": {},
     "output_type": "execute_result"
    }
   ],
   "source": [
    "lista = [\"rojo\", 2.3, 100,\"chocolate\"]\n",
    "lista\n",
    "         "
   ]
  },
  {
   "cell_type": "code",
   "execution_count": 63,
   "id": "80517e20-eb8e-47ca-a0dc-54745994a41c",
   "metadata": {},
   "outputs": [
    {
     "data": {
      "text/plain": [
       "['rojo', 2.3, 100, 'chocolate', 'nuez']"
      ]
     },
     "execution_count": 63,
     "metadata": {},
     "output_type": "execute_result"
    }
   ],
   "source": [
    "lista.append(\"nuez\")\n",
    "lista"
   ]
  },
  {
   "cell_type": "code",
   "execution_count": 64,
   "id": "27e1bbb8-d194-4d78-b070-8080f5615ba7",
   "metadata": {},
   "outputs": [
    {
     "data": {
      "text/plain": [
       "5"
      ]
     },
     "execution_count": 64,
     "metadata": {},
     "output_type": "execute_result"
    }
   ],
   "source": [
    "lista[-1]= [4,2,6]\n",
    "lista\n",
    "len(lista)"
   ]
  },
  {
   "cell_type": "code",
   "execution_count": 65,
   "id": "1c41bdae-a4eb-4270-bd90-1494b78a4edf",
   "metadata": {},
   "outputs": [
    {
     "data": {
      "text/plain": [
       "7"
      ]
     },
     "execution_count": 65,
     "metadata": {},
     "output_type": "execute_result"
    }
   ],
   "source": [
    "lista[-1 :]= [4,2,6] ###reemplazo-1 osea nuez, hastaaa el final q ya no hay\n",
    "lista\n",
    "len(lista)"
   ]
  },
  {
   "cell_type": "code",
   "execution_count": 66,
   "id": "42866278-7906-4edd-84e6-9424a7b722dd",
   "metadata": {},
   "outputs": [
    {
     "data": {
      "text/plain": [
       "['rojo', 2.3, 'chocolate', 4, 2, 6]"
      ]
     },
     "execution_count": 66,
     "metadata": {},
     "output_type": "execute_result"
    }
   ],
   "source": [
    "del lista[2] ##delete elements= dle\n",
    "lista"
   ]
  },
  {
   "cell_type": "code",
   "execution_count": 67,
   "id": "0d04600f-d2e8-4657-8128-c502a97685eb",
   "metadata": {},
   "outputs": [
    {
     "data": {
      "text/plain": [
       "['rojo', 2.3, 2, 6]"
      ]
     },
     "execution_count": 67,
     "metadata": {},
     "output_type": "execute_result"
    }
   ],
   "source": [
    "del lista[2:4]\n",
    "lista"
   ]
  },
  {
   "cell_type": "code",
   "execution_count": 68,
   "id": "43b46c74-5b75-4740-a980-971c8d0d136b",
   "metadata": {},
   "outputs": [
    {
     "data": {
      "text/plain": [
       "['rojo', 2.3]"
      ]
     },
     "execution_count": 68,
     "metadata": {},
     "output_type": "execute_result"
    }
   ],
   "source": [
    "del lista [2:4]\n",
    "lista\n"
   ]
  },
  {
   "cell_type": "code",
   "execution_count": 70,
   "id": "12f8804c-1e97-4bf8-bbd9-8bf678183df8",
   "metadata": {},
   "outputs": [
    {
     "ename": "IndexError",
     "evalue": "list assignment index out of range",
     "output_type": "error",
     "traceback": [
      "\u001b[1;31m---------------------------------------------------------------------------\u001b[0m",
      "\u001b[1;31mIndexError\u001b[0m                                Traceback (most recent call last)",
      "Cell \u001b[1;32mIn[70], line 1\u001b[0m\n\u001b[1;32m----> 1\u001b[0m \u001b[38;5;28;01mdel\u001b[39;00m lista[\u001b[38;5;241m1\u001b[39m]\n\u001b[0;32m      2\u001b[0m lista\n",
      "\u001b[1;31mIndexError\u001b[0m: list assignment index out of range"
     ]
    }
   ],
   "source": [
    "del lista[1]\n",
    "lista"
   ]
  },
  {
   "cell_type": "markdown",
   "id": "43c34f73-95f9-441d-a9e3-4cbf62e56554",
   "metadata": {},
   "source": [
    "# Matrices"
   ]
  },
  {
   "cell_type": "code",
   "execution_count": 79,
   "id": "b6ea954c-44fd-4371-ba36-fbabf82cc086",
   "metadata": {},
   "outputs": [],
   "source": [
    "matriz =[[1,2,3],\n",
    "         [4,5,6],\n",
    "         [7,8,9],\n",
    "         [8,7,6]]"
   ]
  },
  {
   "cell_type": "code",
   "execution_count": 80,
   "id": "85ab8f46-0f83-42a1-a915-065ba9db4afa",
   "metadata": {},
   "outputs": [
    {
     "data": {
      "text/plain": [
       "[[1, 2, 3], [4, 5, 6], [7, 8, 9], [8, 7, 6]]"
      ]
     },
     "execution_count": 80,
     "metadata": {},
     "output_type": "execute_result"
    }
   ],
   "source": [
    "matriz"
   ]
  },
  {
   "cell_type": "code",
   "execution_count": 82,
   "id": "059dc7f5-d3e1-40f0-a4ae-b42be66ce188",
   "metadata": {},
   "outputs": [
    {
     "data": {
      "text/plain": [
       "4"
      ]
     },
     "execution_count": 82,
     "metadata": {},
     "output_type": "execute_result"
    }
   ],
   "source": [
    "matriz[1][0]"
   ]
  },
  {
   "cell_type": "markdown",
   "id": "b7757aec-96ca-4e12-9806-1a7c2f727ed9",
   "metadata": {},
   "source": [
    "# Tuplas,##una tubpla esu n conjunto de elementos encerrados en paréntesis"
   ]
  },
  {
   "cell_type": "code",
   "execution_count": 106,
   "id": "f32c782e-8b36-4c4b-b8ba-2134dc71a9ff",
   "metadata": {},
   "outputs": [
    {
     "data": {
      "text/plain": [
       "tuple"
      ]
     },
     "execution_count": 106,
     "metadata": {},
     "output_type": "execute_result"
    }
   ],
   "source": [
    "variable = (5, 2,\"-1\",[4,2,1],\"pasa\")\n",
    "type(variable)"
   ]
  },
  {
   "cell_type": "code",
   "execution_count": 107,
   "id": "144dcbf5-0ec6-4d29-99c2-968107368914",
   "metadata": {},
   "outputs": [
    {
     "data": {
      "text/plain": [
       "'pasa'"
      ]
     },
     "execution_count": 107,
     "metadata": {},
     "output_type": "execute_result"
    }
   ],
   "source": [
    "variable[-1]"
   ]
  },
  {
   "cell_type": "code",
   "execution_count": 108,
   "id": "31410b1f-e462-4b6b-980a-a5cd4e5274f1",
   "metadata": {},
   "outputs": [
    {
     "data": {
      "text/plain": [
       "(2, '-1')"
      ]
     },
     "execution_count": 108,
     "metadata": {},
     "output_type": "execute_result"
    }
   ],
   "source": [
    "variable[ 1:-2]"
   ]
  },
  {
   "cell_type": "code",
   "execution_count": 109,
   "id": "33d3301c-eca7-4d6a-8a9a-758f8c03f741",
   "metadata": {},
   "outputs": [
    {
     "data": {
      "text/plain": [
       "(5, 2, '-1')"
      ]
     },
     "execution_count": 109,
     "metadata": {},
     "output_type": "execute_result"
    }
   ],
   "source": [
    "variable [0:3]"
   ]
  },
  {
   "cell_type": "code",
   "execution_count": 113,
   "id": "23e19e3d-c2bb-4dea-8d19-77acd1059ac9",
   "metadata": {},
   "outputs": [
    {
     "data": {
      "text/plain": [
       "(2, '-1', [4, 2, 1])"
      ]
     },
     "execution_count": 113,
     "metadata": {},
     "output_type": "execute_result"
    }
   ],
   "source": [
    "variable[ -4:4]"
   ]
  },
  {
   "cell_type": "code",
   "execution_count": 116,
   "id": "92dfc143-ea0e-446e-9954-50fa83309c58",
   "metadata": {},
   "outputs": [
    {
     "data": {
      "text/plain": [
       "(5, 2)"
      ]
     },
     "execution_count": 116,
     "metadata": {},
     "output_type": "execute_result"
    }
   ],
   "source": []
  },
  {
   "cell_type": "code",
   "execution_count": 118,
   "id": "3ad77ed6-9077-4136-9d4c-7ee6bc6e54af",
   "metadata": {},
   "outputs": [
    {
     "data": {
      "text/plain": [
       "5"
      ]
     },
     "execution_count": 118,
     "metadata": {},
     "output_type": "execute_result"
    }
   ],
   "source": [
    "dupla= (5)\n",
    "dupla"
   ]
  },
  {
   "cell_type": "code",
   "execution_count": 125,
   "id": "b913d2b4-051f-4d46-b7eb-f46c0ef6198b",
   "metadata": {},
   "outputs": [
    {
     "data": {
      "text/plain": [
       "tuple"
      ]
     },
     "execution_count": 125,
     "metadata": {},
     "output_type": "execute_result"
    }
   ],
   "source": [
    "tupla = (5, )\n",
    "type(tupla)"
   ]
  },
  {
   "cell_type": "code",
   "execution_count": 126,
   "id": "b18f10f6-cb9c-4040-aba4-c6854e577dc0",
   "metadata": {},
   "outputs": [],
   "source": [
    "t1, t2, t3 = (4,5),(6,7), (8,9)"
   ]
  },
  {
   "cell_type": "code",
   "execution_count": 134,
   "id": "bb978bde-ee6b-46c6-b4f6-f176cda86d1c",
   "metadata": {},
   "outputs": [
    {
     "data": {
      "text/plain": [
       "7"
      ]
     },
     "execution_count": 134,
     "metadata": {},
     "output_type": "execute_result"
    }
   ],
   "source": [
    "(3*t2)[3]"
   ]
  },
  {
   "cell_type": "code",
   "execution_count": 135,
   "id": "f17928a5-4b0e-4041-88e6-0cba94080334",
   "metadata": {},
   "outputs": [
    {
     "data": {
      "text/plain": [
       "[7, 7, 7]"
      ]
     },
     "execution_count": 135,
     "metadata": {},
     "output_type": "execute_result"
    }
   ],
   "source": [
    "##3 veces la posición 3\n",
    "[(3*t2)[3]]*3"
   ]
  },
  {
   "cell_type": "code",
   "execution_count": 136,
   "id": "eb439a38-7e4d-4ac4-9472-1d87e55b1be5",
   "metadata": {},
   "outputs": [
    {
     "ename": "TypeError",
     "evalue": "'tuple' object does not support item assignment",
     "output_type": "error",
     "traceback": [
      "\u001b[1;31m---------------------------------------------------------------------------\u001b[0m",
      "\u001b[1;31mTypeError\u001b[0m                                 Traceback (most recent call last)",
      "Cell \u001b[1;32mIn[136], line 1\u001b[0m\n\u001b[1;32m----> 1\u001b[0m \u001b[43mt2\u001b[49m\u001b[43m[\u001b[49m\u001b[38;5;241;43m0\u001b[39;49m\u001b[43m]\u001b[49m\u001b[38;5;241m=\u001b[39m [\u001b[38;5;241m5\u001b[39m, ] \n",
      "\u001b[1;31mTypeError\u001b[0m: 'tuple' object does not support item assignment"
     ]
    }
   ],
   "source": [
    "t2[0]= [5, ] ###Es inmutable"
   ]
  },
  {
   "cell_type": "code",
   "execution_count": null,
   "id": "be1d0809-21d4-408e-9b22-7eef5bf835e7",
   "metadata": {},
   "outputs": [],
   "source": [
    "## Mapping: diccionarios, recuerda que los diccionarios son un conjunto de datos \n",
    "## que almacenan pares de clave-valor, justo como un diccionario real, en donde buscas \n",
    "##palabre=llave y encuentras su significado= valor"
   ]
  },
  {
   "cell_type": "code",
   "execution_count": 138,
   "id": "e8abb3c3-2b76-4275-bdf0-f3151b8f60da",
   "metadata": {},
   "outputs": [],
   "source": [
    "diccionario = {\"key\" : \"valor\", \"llave2\" : \"valor 2\", \"llave3\" : 5, \"llave4\": [2,3],  5 : [-2] }\n",
    "    "
   ]
  },
  {
   "cell_type": "code",
   "execution_count": 140,
   "id": "28c3196b-e34a-4c68-a4ea-187deacc1431",
   "metadata": {},
   "outputs": [
    {
     "data": {
      "text/plain": [
       "[-2]"
      ]
     },
     "execution_count": 140,
     "metadata": {},
     "output_type": "execute_result"
    }
   ],
   "source": [
    "diccionario[5] ### regresa el valor del diccionario asociado a la quinta, no es un slicing común"
   ]
  },
  {
   "cell_type": "code",
   "execution_count": 141,
   "id": "da86849a-1f17-435b-b2af-bfbe9317d099",
   "metadata": {},
   "outputs": [
    {
     "data": {
      "text/plain": [
       "'valor 2'"
      ]
     },
     "execution_count": 141,
     "metadata": {},
     "output_type": "execute_result"
    }
   ],
   "source": [
    "diccionario[\"llave2\"]"
   ]
  },
  {
   "cell_type": "code",
   "execution_count": 142,
   "id": "8aa16e53-6dcd-467c-ba87-ee82965230ff",
   "metadata": {},
   "outputs": [
    {
     "data": {
      "text/plain": [
       "dict_keys(['key', 'llave2', 'llave3', 'llave4', 5])"
      ]
     },
     "execution_count": 142,
     "metadata": {},
     "output_type": "execute_result"
    }
   ],
   "source": [
    "diccionario.keys()"
   ]
  },
  {
   "cell_type": "code",
   "execution_count": 145,
   "id": "552dbf94-d871-4c45-8d9e-da0ede550b91",
   "metadata": {},
   "outputs": [
    {
     "data": {
      "text/plain": [
       "dict_values(['valor', 'valor 2', 5, [2, 3], [-2]])"
      ]
     },
     "execution_count": 145,
     "metadata": {},
     "output_type": "execute_result"
    }
   ],
   "source": [
    "diccionario.values() # el puntito indica se esta unsando el metodo values, o keys"
   ]
  },
  {
   "cell_type": "code",
   "execution_count": 146,
   "id": "76fe6c60-ed5a-45fe-9f53-231a08d2d158",
   "metadata": {},
   "outputs": [
    {
     "data": {
      "text/plain": [
       "dict_values(['valor', 'valor 2', 5, [2, 3], [-2]])"
      ]
     },
     "execution_count": 146,
     "metadata": {},
     "output_type": "execute_result"
    }
   ],
   "source": [
    "var= diccionario.values()\n",
    "var"
   ]
  },
  {
   "cell_type": "code",
   "execution_count": 147,
   "id": "2ecc3935-815d-4e21-a3e3-60016ea233fb",
   "metadata": {},
   "outputs": [
    {
     "data": {
      "text/plain": [
       "dict_values"
      ]
     },
     "execution_count": 147,
     "metadata": {},
     "output_type": "execute_result"
    }
   ],
   "source": [
    "type(var)"
   ]
  },
  {
   "cell_type": "markdown",
   "id": "abd38574-0c6c-46bc-b521-8bcc316e2c19",
   "metadata": {},
   "source": [
    "## Convertir a otros tipos de datos"
   ]
  },
  {
   "cell_type": "code",
   "execution_count": 148,
   "id": "b4a8786b-9c57-43fe-a7a4-517ed2f7c11e",
   "metadata": {},
   "outputs": [
    {
     "data": {
      "text/plain": [
       "['valor', 'valor 2', 5, [2, 3], [-2]]"
      ]
     },
     "execution_count": 148,
     "metadata": {},
     "output_type": "execute_result"
    }
   ],
   "source": [
    "list(var)"
   ]
  },
  {
   "cell_type": "code",
   "execution_count": 150,
   "id": "cfba58d5-c05b-4aa4-b578-56e7d08e7522",
   "metadata": {},
   "outputs": [
    {
     "data": {
      "text/plain": [
       "{'key': 'valor',\n",
       " 'llave2': 'valor 2',\n",
       " 'llave3': 5,\n",
       " 'llave4': [2, 3],\n",
       " 5: [-2],\n",
       " 'vamonos': 'a mimir'}"
      ]
     },
     "execution_count": 150,
     "metadata": {},
     "output_type": "execute_result"
    }
   ],
   "source": [
    "diccionario[\"vamonos\"] = \"a mimir\"\n",
    "diccionario"
   ]
  },
  {
   "cell_type": "code",
   "execution_count": 151,
   "id": "adadfdf1-9fa8-4902-a581-6012ec647930",
   "metadata": {},
   "outputs": [
    {
     "data": {
      "text/plain": [
       "'a mimir'"
      ]
     },
     "execution_count": 151,
     "metadata": {},
     "output_type": "execute_result"
    }
   ],
   "source": [
    "diccionario.pop(\"vamonos\") #.pop se usa para eliminar y devolver un elemento de una lista"
   ]
  },
  {
   "cell_type": "code",
   "execution_count": 152,
   "id": "406e06b5-8c29-44d5-8e68-37b4bda7b8e4",
   "metadata": {},
   "outputs": [
    {
     "data": {
      "text/plain": [
       "{'key': 'valor', 'llave2': 'valor 2', 'llave3': 5, 'llave4': [2, 3], 5: [-2]}"
      ]
     },
     "execution_count": 152,
     "metadata": {},
     "output_type": "execute_result"
    }
   ],
   "source": [
    "diccionario"
   ]
  },
  {
   "cell_type": "code",
   "execution_count": null,
   "id": "f1344f52-a3c9-4148-bf83-6e4cc55c6412",
   "metadata": {},
   "outputs": [],
   "source": []
  },
  {
   "cell_type": "code",
   "execution_count": null,
   "id": "35e63663-0830-4122-9d27-71563fe346c4",
   "metadata": {},
   "outputs": [],
   "source": []
  },
  {
   "cell_type": "code",
   "execution_count": null,
   "id": "d63fff72-2be0-4d58-ba8d-64373189b464",
   "metadata": {},
   "outputs": [],
   "source": []
  }
 ],
 "metadata": {
  "kernelspec": {
   "display_name": "Python 3 (ipykernel)",
   "language": "python",
   "name": "python3"
  },
  "language_info": {
   "codemirror_mode": {
    "name": "ipython",
    "version": 3
   },
   "file_extension": ".py",
   "mimetype": "text/x-python",
   "name": "python",
   "nbconvert_exporter": "python",
   "pygments_lexer": "ipython3",
   "version": "3.10.4"
  }
 },
 "nbformat": 4,
 "nbformat_minor": 5
}
