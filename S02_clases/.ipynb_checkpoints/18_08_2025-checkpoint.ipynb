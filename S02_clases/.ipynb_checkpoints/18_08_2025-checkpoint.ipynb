{
 "cells": [
  {
   "cell_type": "markdown",
   "id": "9a60551d-3750-4926-803f-b3d00c8554c7",
   "metadata": {},
   "source": [
    "### Alternativas a la inmutabilidad"
   ]
  },
  {
   "cell_type": "code",
   "execution_count": 1,
   "id": "41ce5ec0-f002-49e5-8f44-9cc7a3394f3f",
   "metadata": {},
   "outputs": [],
   "source": [
    "### HOLA"
   ]
  },
  {
   "cell_type": "code",
   "execution_count": 6,
   "id": "8276c99e-8e7c-46a3-9c41-95befdb0efbe",
   "metadata": {},
   "outputs": [],
   "source": [
    "cadena = \"donde esta oswaldo\"\n",
    "cadena2 = \"viva la programación\"\n",
    "cadena3 = \"bts volvió del ejercito\""
   ]
  },
  {
   "cell_type": "code",
   "execution_count": 7,
   "id": "f6d0bb20-04de-4156-b36d-1906e96aa6b2",
   "metadata": {},
   "outputs": [],
   "source": [
    "# Ejercicio. Con slicing, crear la frase: \"donde esta la programacion que volvio del ejercito\""
   ]
  },
  {
   "cell_type": "code",
   "execution_count": 9,
   "id": "c244a245-f75a-45b7-957b-e787102b308a",
   "metadata": {},
   "outputs": [
    {
     "data": {
      "text/plain": [
       "'donde esta la programación que volvió del ejercito'"
      ]
     },
     "execution_count": 9,
     "metadata": {},
     "output_type": "execute_result"
    }
   ],
   "source": [
    "cadena [0:10]+ cadena2[4:] + \" que\" + cadena3[3:]"
   ]
  },
  {
   "cell_type": "code",
   "execution_count": 10,
   "id": "e37efd8c-03ae-4945-97e4-644b7d314a01",
   "metadata": {},
   "outputs": [],
   "source": [
    "# Ejercicio. Con slicing, crear la frase \"oswaldo volvio a la programacion de oivlov stb\""
   ]
  },
  {
   "cell_type": "code",
   "execution_count": 22,
   "id": "285ac209-087e-4197-b215-ad7b58b0432e",
   "metadata": {},
   "outputs": [
    {
     "data": {
      "text/plain": [
       "'oswaldo volvió a la programación de óivlov stb'"
      ]
     },
     "execution_count": 22,
     "metadata": {},
     "output_type": "execute_result"
    }
   ],
   "source": [
    "cadena [-7:] + cadena3 [3:11] + \"a \" + cadena2 [5:] + \" de\" + cadena3 [-13::-1]"
   ]
  },
  {
   "cell_type": "code",
   "execution_count": 23,
   "id": "84c26539-541e-4064-80ab-81c2b6efcdf4",
   "metadata": {},
   "outputs": [
    {
     "ename": "NameError",
     "evalue": "name 'ruta' is not defined",
     "output_type": "error",
     "traceback": [
      "\u001b[31m---------------------------------------------------------------------------\u001b[39m",
      "\u001b[31mNameError\u001b[39m                                 Traceback (most recent call last)",
      "\u001b[36mCell\u001b[39m\u001b[36m \u001b[39m\u001b[32mIn[23]\u001b[39m\u001b[32m, line 1\u001b[39m\n\u001b[32m----> \u001b[39m\u001b[32m1\u001b[39m \u001b[43mruta\u001b[49m.split(sep= \u001b[33m\"\u001b[39m\u001b[38;5;130;01m\\\\\u001b[39;00m\u001b[33m\"\u001b[39m)\n",
      "\u001b[31mNameError\u001b[39m: name 'ruta' is not defined"
     ]
    }
   ],
   "source": [
    "ruta.split(sep= \"\\\\\")"
   ]
  },
  {
   "cell_type": "markdown",
   "id": "3e2ffefd-6fd6-4283-8df5-3694d4b95765",
   "metadata": {},
   "source": [
    "### Tipo de dato. Listas"
   ]
  },
  {
   "cell_type": "code",
   "execution_count": 25,
   "id": "34c42351-7392-4023-9bf2-f3eea2cd5b00",
   "metadata": {},
   "outputs": [
    {
     "data": {
      "text/plain": [
       "[5, 4, 2, 90.3, (-7+6j), 'strings', 'alá', [3, 2, 5]]"
      ]
     },
     "execution_count": 25,
     "metadata": {},
     "output_type": "execute_result"
    }
   ],
   "source": [
    "lista = [5, 4, 2, 90.3, complex(-7, 6), 'strings', 'alá', [3, 2, 5]]\n",
    "lista"
   ]
  },
  {
   "cell_type": "code",
   "execution_count": 26,
   "id": "344f6875-9a4c-4d30-9ba2-6858c127f823",
   "metadata": {},
   "outputs": [
    {
     "data": {
      "text/plain": [
       "list"
      ]
     },
     "execution_count": 26,
     "metadata": {},
     "output_type": "execute_result"
    }
   ],
   "source": [
    "type(lista)"
   ]
  },
  {
   "cell_type": "code",
   "execution_count": 28,
   "id": "49392d62-00d8-404e-89d4-edee42d861aa",
   "metadata": {},
   "outputs": [
    {
     "data": {
      "text/plain": [
       "(-3+6j)"
      ]
     },
     "execution_count": 28,
     "metadata": {},
     "output_type": "execute_result"
    }
   ],
   "source": [
    "lista[4] + lista[1]"
   ]
  },
  {
   "cell_type": "code",
   "execution_count": 29,
   "id": "f829c475-c52b-41e6-b6c8-3b2d6c7bfaa4",
   "metadata": {},
   "outputs": [
    {
     "data": {
      "text/plain": [
       "'aláalá'"
      ]
     },
     "execution_count": 29,
     "metadata": {},
     "output_type": "execute_result"
    }
   ],
   "source": [
    "lista[2]*lista[-2]"
   ]
  },
  {
   "cell_type": "code",
   "execution_count": 30,
   "id": "ed160f31-0ae0-4c9d-b458-6671e06bbe62",
   "metadata": {},
   "outputs": [
    {
     "data": {
      "text/plain": [
       "[3, 2, 5, 3, 2, 5, 3, 2, 5, 3, 2, 5]"
      ]
     },
     "execution_count": 30,
     "metadata": {},
     "output_type": "execute_result"
    }
   ],
   "source": [
    "lista[1]*lista[-1]"
   ]
  },
  {
   "cell_type": "code",
   "execution_count": 31,
   "id": "474769af-d7d5-471d-be30-eb159325c676",
   "metadata": {},
   "outputs": [
    {
     "data": {
      "text/plain": [
       "[5, 4, 2, 'chale', (-7+6j), 'strings', 'alá', [3, 2, 5]]"
      ]
     },
     "execution_count": 31,
     "metadata": {},
     "output_type": "execute_result"
    }
   ],
   "source": [
    "lista[3]='chale'\n",
    "lista"
   ]
  },
  {
   "cell_type": "code",
   "execution_count": 32,
   "id": "39a8b449-55aa-44d6-b477-bbb395dfe29f",
   "metadata": {},
   "outputs": [
    {
     "data": {
      "text/plain": [
       "[5,\n",
       " 4,\n",
       " 'm',\n",
       " 'a',\n",
       " 'l',\n",
       " 'u',\n",
       " 'm',\n",
       " 'a',\n",
       " ' ',\n",
       " 'b',\n",
       " 'a',\n",
       " 'b',\n",
       " 'y',\n",
       " 'strings',\n",
       " 'alá',\n",
       " [3, 2, 5]]"
      ]
     },
     "execution_count": 32,
     "metadata": {},
     "output_type": "execute_result"
    }
   ],
   "source": [
    "lista[2:5] = 'maluma baby'\n",
    "lista"
   ]
  },
  {
   "cell_type": "code",
   "execution_count": 35,
   "id": "f4ebbb5d-8c4a-4a48-99a2-fb66851527db",
   "metadata": {},
   "outputs": [
    {
     "name": "stdout",
     "output_type": "stream",
     "text": [
      "16 [5, 4, 'm', 'a', 'l', 'u', 'm', 'a', ' ', 'b', 'a', 'b', 'y', 'strings', 'alá', [3, 2, 5]]\n"
     ]
    }
   ],
   "source": [
    "print (len(lista), lista)"
   ]
  },
  {
   "cell_type": "code",
   "execution_count": 37,
   "id": "5cee011c-618a-4bfc-b640-5f7b4cab3125",
   "metadata": {},
   "outputs": [
    {
     "data": {
      "text/plain": [
       "'strings'"
      ]
     },
     "execution_count": 37,
     "metadata": {},
     "output_type": "execute_result"
    }
   ],
   "source": [
    "lista[-3]"
   ]
  },
  {
   "cell_type": "code",
   "execution_count": 38,
   "id": "e628934c-e3ae-4799-9385-41cd9b731bc5",
   "metadata": {},
   "outputs": [
    {
     "data": {
      "text/plain": [
       "['y', 'strings', 'alá']"
      ]
     },
     "execution_count": 38,
     "metadata": {},
     "output_type": "execute_result"
    }
   ],
   "source": [
    "lista [-4:-1]"
   ]
  },
  {
   "cell_type": "code",
   "execution_count": 42,
   "id": "fe917738-fa78-4ca4-8d8f-51ac0f87bb2e",
   "metadata": {},
   "outputs": [
    {
     "data": {
      "text/plain": [
       "'C:\\\\Users\\\\V304-18\\\\Documents\\\\GitHub\\\\Neurociencias-2026-1\\\\S01_presentacion\\\\Temario python.pdf'"
      ]
     },
     "execution_count": 42,
     "metadata": {},
     "output_type": "execute_result"
    }
   ],
   "source": [
    "ruta = r\"C:\\Users\\V304-18\\Documents\\GitHub\\Neurociencias-2026-1\\S01_presentacion\\Temario python.pdf\"\n",
    "ruta"
   ]
  },
  {
   "cell_type": "code",
   "execution_count": 50,
   "id": "9def5a3e-eb97-40ac-b10a-edb16837b187",
   "metadata": {},
   "outputs": [
    {
     "data": {
      "text/plain": [
       "'Temario python'"
      ]
     },
     "execution_count": 50,
     "metadata": {},
     "output_type": "execute_result"
    }
   ],
   "source": [
    "ruta [-18:-4]"
   ]
  },
  {
   "cell_type": "code",
   "execution_count": 53,
   "id": "52a5b69f-f570-4b8c-b5c6-946ec794d186",
   "metadata": {},
   "outputs": [
    {
     "data": {
      "text/plain": [
       "'Temario python'"
      ]
     },
     "execution_count": 53,
     "metadata": {},
     "output_type": "execute_result"
    }
   ],
   "source": [
    "var1 = ruta.split(sep = \"\\\\\")\n",
    "var2 = var1[-1]\n",
    "var3 = var2.split(sep = \".pdf\")\n",
    "var3[0]"
   ]
  },
  {
   "cell_type": "code",
   "execution_count": 54,
   "id": "042c6e1e-1fd3-4e93-8e13-d3f9f36c6ab4",
   "metadata": {},
   "outputs": [
    {
     "data": {
      "text/plain": [
       "'Temario python.'"
      ]
     },
     "execution_count": 54,
     "metadata": {},
     "output_type": "execute_result"
    }
   ],
   "source": [
    "var1 = ruta.split(sep=\"\\\\\")[-1].split(sep=\"pdf\")[0]\n",
    "var1"
   ]
  },
  {
   "cell_type": "code",
   "execution_count": null,
   "id": "0a8b4ee4-96b5-4ebd-bed8-8a524efb417b",
   "metadata": {},
   "outputs": [],
   "source": []
  }
 ],
 "metadata": {
  "kernelspec": {
   "display_name": "Python 3 (ipykernel)",
   "language": "python",
   "name": "python3"
  },
  "language_info": {
   "codemirror_mode": {
    "name": "ipython",
    "version": 3
   },
   "file_extension": ".py",
   "mimetype": "text/x-python",
   "name": "python",
   "nbconvert_exporter": "python",
   "pygments_lexer": "ipython3",
   "version": "3.11.1"
  }
 },
 "nbformat": 4,
 "nbformat_minor": 5
}
