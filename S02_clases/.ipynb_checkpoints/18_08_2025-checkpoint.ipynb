{
 "cells": [
  {
   "cell_type": "markdown",
   "id": "037d2da4-da0e-4b3d-affc-216781bb95e6",
   "metadata": {},
   "source": [
    "## Alternativas a la inmutabilidad"
   ]
  },
  {
   "cell_type": "code",
   "execution_count": 7,
   "id": "005246b7-966f-4448-9f7a-ebca4cb5f0d7",
   "metadata": {},
   "outputs": [],
   "source": [
    "cadena = \"donde esta oswaldo\"\n",
    "cadena2 = \"viva la programacion\"\n",
    "cadena3 = 'bts volvio del ejercito' "
   ]
  },
  {
   "cell_type": "markdown",
   "id": "0c0046a9-9b2d-450d-b3b1-b65b6e11dde5",
   "metadata": {},
   "source": [
    "### Ejercicio \n",
    "#### con slicing, crea la frase: \"donde esta la programacion que volvio del ejercito\""
   ]
  },
  {
   "cell_type": "code",
   "execution_count": 11,
   "id": "d2e59b7a-0b42-4392-84ba-d4cd684e2ce4",
   "metadata": {},
   "outputs": [
    {
     "data": {
      "text/plain": [
       "'donde esta la programacion que volvio del ejercito'"
      ]
     },
     "execution_count": 11,
     "metadata": {},
     "output_type": "execute_result"
    }
   ],
   "source": [
    "cadena[0:11] + cadena2[5:] + \" que \" + cadena3[4:]"
   ]
  },
  {
   "cell_type": "markdown",
   "id": "41c96c67-3c5d-4b6e-907c-028e43545a0c",
   "metadata": {},
   "source": [
    "### Ejercicio 2 \n",
    "#### \"Oswaldo volvio a la programcaion de oivlov stb\""
   ]
  },
  {
   "cell_type": "code",
   "execution_count": 16,
   "id": "2e253cfc-b5f6-44c0-88b4-72cf2bc086b4",
   "metadata": {},
   "outputs": [
    {
     "data": {
      "text/plain": [
       "'oswaldo volvio a la programacion de oivlov stb'"
      ]
     },
     "execution_count": 16,
     "metadata": {},
     "output_type": "execute_result"
    }
   ],
   "source": [
    "cadena [-7:] + cadena3 [3:10] + \" a \" + cadena2 [5:] + \" de \" + cadena3[-14::-1]"
   ]
  },
  {
   "cell_type": "markdown",
   "id": "783b426e-22d0-45ac-86be-566c8437afd4",
   "metadata": {},
   "source": [
    "## Tipos de datos. Listas"
   ]
  },
  {
   "cell_type": "code",
   "execution_count": 27,
   "id": "f351b17f-4aad-483b-b945-8d261a81448e",
   "metadata": {},
   "outputs": [],
   "source": [
    "lista= [5,4,2,90, complex (-7,6), 'strings', 'ala', [3,2,5]]"
   ]
  },
  {
   "cell_type": "code",
   "execution_count": 22,
   "id": "bef4f114-bbc3-44a5-a2ce-c039ffa65451",
   "metadata": {},
   "outputs": [
    {
     "data": {
      "text/plain": [
       "[5, 4, 2, 90, (-7+6j), 'strings', 'ala']"
      ]
     },
     "execution_count": 22,
     "metadata": {},
     "output_type": "execute_result"
    }
   ],
   "source": [
    "lista"
   ]
  },
  {
   "cell_type": "code",
   "execution_count": 23,
   "id": "667cd7a1-75ca-4684-9668-923a575b2274",
   "metadata": {},
   "outputs": [
    {
     "data": {
      "text/plain": [
       "list"
      ]
     },
     "execution_count": 23,
     "metadata": {},
     "output_type": "execute_result"
    }
   ],
   "source": [
    "type (lista)"
   ]
  },
  {
   "cell_type": "code",
   "execution_count": 25,
   "id": "802152ec-79be-413d-adb2-82214c6674d5",
   "metadata": {},
   "outputs": [
    {
     "data": {
      "text/plain": [
       "(-3+6j)"
      ]
     },
     "execution_count": 25,
     "metadata": {},
     "output_type": "execute_result"
    }
   ],
   "source": [
    "lista [4]+ lista [1]"
   ]
  },
  {
   "cell_type": "code",
   "execution_count": 28,
   "id": "6206b9db-08f2-4783-92a7-f432757378ba",
   "metadata": {},
   "outputs": [
    {
     "data": {
      "text/plain": [
       "'alaala'"
      ]
     },
     "execution_count": 28,
     "metadata": {},
     "output_type": "execute_result"
    }
   ],
   "source": [
    "lista [2]*lista[-2]"
   ]
  },
  {
   "cell_type": "code",
   "execution_count": 29,
   "id": "c1b36dde-4e96-4a51-a6a2-2a2f2bf14b9e",
   "metadata": {},
   "outputs": [
    {
     "data": {
      "text/plain": [
       "[3, 2, 5, 3, 2, 5, 3, 2, 5, 3, 2, 5]"
      ]
     },
     "execution_count": 29,
     "metadata": {},
     "output_type": "execute_result"
    }
   ],
   "source": [
    "lista [1] * lista[-1]"
   ]
  },
  {
   "cell_type": "code",
   "execution_count": 31,
   "id": "b69f964d-a606-45df-ae35-a54b7d9c7bc0",
   "metadata": {},
   "outputs": [
    {
     "data": {
      "text/plain": [
       "[5, 4, 2, 'chale', (-7+6j), 'strings', 'ala', [3, 2, 5]]"
      ]
     },
     "execution_count": 31,
     "metadata": {},
     "output_type": "execute_result"
    }
   ],
   "source": [
    "lista [3] = 'chale'\n",
    "lista"
   ]
  },
  {
   "cell_type": "code",
   "execution_count": 32,
   "id": "259a3fc7-e3e9-475b-a591-b0f509ff8e8b",
   "metadata": {},
   "outputs": [
    {
     "data": {
      "text/plain": [
       "[5,\n",
       " 4,\n",
       " 'A',\n",
       " 'm',\n",
       " 'o',\n",
       " ' ',\n",
       " 'a',\n",
       " ' ',\n",
       " 'T',\n",
       " 'a',\n",
       " 'y',\n",
       " 'l',\n",
       " 'o',\n",
       " 'r',\n",
       " 'strings',\n",
       " 'ala',\n",
       " [3, 2, 5]]"
      ]
     },
     "execution_count": 32,
     "metadata": {},
     "output_type": "execute_result"
    }
   ],
   "source": [
    "lista [2:5] = 'Amo a Taylor'\n",
    "lista"
   ]
  },
  {
   "cell_type": "code",
   "execution_count": 34,
   "id": "f9a339b7-61c1-4b16-8391-a01de308842d",
   "metadata": {},
   "outputs": [
    {
     "data": {
      "text/plain": [
       "17"
      ]
     },
     "execution_count": 34,
     "metadata": {},
     "output_type": "execute_result"
    }
   ],
   "source": [
    "len(lista)"
   ]
  },
  {
   "cell_type": "code",
   "execution_count": 33,
   "id": "3fbaca62-0d5d-4d8f-8b86-8d02e0145e3f",
   "metadata": {},
   "outputs": [
    {
     "name": "stdout",
     "output_type": "stream",
     "text": [
      "17 [5, 4, 'A', 'm', 'o', ' ', 'a', ' ', 'T', 'a', 'y', 'l', 'o', 'r', 'strings', 'ala', [3, 2, 5]]\n"
     ]
    }
   ],
   "source": [
    "print (len(lista), lista)"
   ]
  },
  {
   "cell_type": "code",
   "execution_count": 35,
   "id": "91ff68c1-384b-47f9-952b-9fe0ea224619",
   "metadata": {},
   "outputs": [
    {
     "data": {
      "text/plain": [
       "[5,\n",
       " 4,\n",
       " 'A',\n",
       " 'm',\n",
       " 'o',\n",
       " ' ',\n",
       " 'a',\n",
       " ' ',\n",
       " 'T',\n",
       " 'a',\n",
       " 'y',\n",
       " 'l',\n",
       " 'o',\n",
       " 'r',\n",
       " 'strings',\n",
       " 'ala',\n",
       " [3, 2, 5]]"
      ]
     },
     "execution_count": 35,
     "metadata": {},
     "output_type": "execute_result"
    }
   ],
   "source": [
    "lista"
   ]
  },
  {
   "cell_type": "code",
   "execution_count": 36,
   "id": "0829337b-1472-4ead-ae6e-359ba3af8f13",
   "metadata": {},
   "outputs": [
    {
     "data": {
      "text/plain": [
       "'strings'"
      ]
     },
     "execution_count": 36,
     "metadata": {},
     "output_type": "execute_result"
    }
   ],
   "source": [
    "lista [-3]"
   ]
  },
  {
   "cell_type": "code",
   "execution_count": 37,
   "id": "bfbb2566-1ded-41f4-96cb-17c79f074da8",
   "metadata": {},
   "outputs": [
    {
     "data": {
      "text/plain": [
       "['r', 'strings']"
      ]
     },
     "execution_count": 37,
     "metadata": {},
     "output_type": "execute_result"
    }
   ],
   "source": [
    "lista [-4:-2]"
   ]
  },
  {
   "cell_type": "code",
   "execution_count": 43,
   "id": "8943f28f-3041-4e1a-b443-32142b8aca9b",
   "metadata": {},
   "outputs": [
    {
     "data": {
      "text/plain": [
       "'C:\\\\Users\\\\Lenovo\\\\Documents\\\\GitHub\\\\Neurociencias-2026-1\\\\S01_presentacion\\\\Temario python.pdf'"
      ]
     },
     "execution_count": 43,
     "metadata": {},
     "output_type": "execute_result"
    }
   ],
   "source": [
    "ruta=r\"C:\\Users\\Lenovo\\Documents\\GitHub\\Neurociencias-2026-1\\S01_presentacion\\Temario python.pdf\"\n",
    "ruta"
   ]
  },
  {
   "cell_type": "code",
   "execution_count": 49,
   "id": "699c03e3-2685-4804-90a8-8b440cedfc03",
   "metadata": {},
   "outputs": [
    {
     "data": {
      "text/plain": [
       "'Temario python'"
      ]
     },
     "execution_count": 49,
     "metadata": {},
     "output_type": "execute_result"
    }
   ],
   "source": [
    "ruta[-18:-4]"
   ]
  },
  {
   "cell_type": "code",
   "execution_count": 58,
   "id": "993646e0-c414-4558-be76-0205c2ca900b",
   "metadata": {},
   "outputs": [
    {
     "data": {
      "text/plain": [
       "'Temario python'"
      ]
     },
     "execution_count": 58,
     "metadata": {},
     "output_type": "execute_result"
    }
   ],
   "source": [
    "var1=ruta.split(sep=\"\\\\\")\n",
    "var2 = var1[-1]\n",
    "var3 = var2.split(sep=\".pdf\")\n",
    "var3[0]"
   ]
  },
  {
   "cell_type": "code",
   "execution_count": 61,
   "id": "f33097ac-16f7-4ca0-8567-bc0fb462588e",
   "metadata": {},
   "outputs": [
    {
     "data": {
      "text/plain": [
       "'Temario python.'"
      ]
     },
     "execution_count": 61,
     "metadata": {},
     "output_type": "execute_result"
    }
   ],
   "source": [
    "var1= ruta.split(sep=\"\\\\\")[-1].split(sep=\"pdf\")[0]\n",
    "var1"
   ]
  }
 ],
 "metadata": {
  "kernelspec": {
   "display_name": "Python 3 (ipykernel)",
   "language": "python",
   "name": "python3"
  },
  "language_info": {
   "codemirror_mode": {
    "name": "ipython",
    "version": 3
   },
   "file_extension": ".py",
   "mimetype": "text/x-python",
   "name": "python",
   "nbconvert_exporter": "python",
   "pygments_lexer": "ipython3",
   "version": "3.13.5"
  }
 },
 "nbformat": 4,
 "nbformat_minor": 5
}
