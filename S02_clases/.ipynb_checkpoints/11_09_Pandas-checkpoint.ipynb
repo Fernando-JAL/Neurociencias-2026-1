{
 "cells": [
  {
   "cell_type": "markdown",
   "id": "d05a54c6-2010-4f2f-9718-86fa68578c5d",
   "metadata": {},
   "source": [
    "# Pandas"
   ]
  },
  {
   "cell_type": "code",
   "execution_count": 1,
   "id": "fa404325-02fb-4467-b0c3-b247c1344e5f",
   "metadata": {},
   "outputs": [],
   "source": [
    "import pandas as pd"
   ]
  },
  {
   "cell_type": "code",
   "execution_count": 21,
   "id": "354b4a29-655c-4e7e-af19-1b93784d95ba",
   "metadata": {},
   "outputs": [],
   "source": [
    "import numpy as np"
   ]
  },
  {
   "cell_type": "code",
   "execution_count": 18,
   "id": "52c9da2c-c4a3-4ea9-ab2c-cb24ae1f910f",
   "metadata": {},
   "outputs": [
    {
     "data": {
      "text/plain": [
       "0     6\n",
       "1     8\n",
       "2    34\n",
       "3    94\n",
       "4    78\n",
       "dtype: int64"
      ]
     },
     "execution_count": 18,
     "metadata": {},
     "output_type": "execute_result"
    }
   ],
   "source": [
    "# los diccionarios cuentan como un elemento\n",
    "valores = [6, 8, 34, 94, 78]\n",
    "indice = range(len(valores))\n",
    "\n",
    "serie1 = pd.Series(data = valores, index = indice)\n",
    "serie1"
   ]
  },
  {
   "cell_type": "code",
   "execution_count": 19,
   "id": "665e6202-65a8-46de-9529-879b01a80347",
   "metadata": {},
   "outputs": [
    {
     "data": {
      "text/plain": [
       "0     28\n",
       "1     45\n",
       "2    852\n",
       "3      3\n",
       "4     16\n",
       "dtype: int64"
      ]
     },
     "execution_count": 19,
     "metadata": {},
     "output_type": "execute_result"
    }
   ],
   "source": [
    "serie2 = valores2 = [28, 45, 852, 3, 16]\n",
    "serie2 = pd.Series(index = indice, data = valores2)\n",
    "serie2"
   ]
  },
  {
   "cell_type": "code",
   "execution_count": 20,
   "id": "f0d1dabe-d5ef-4f1f-92a6-c77b0fb8255f",
   "metadata": {},
   "outputs": [
    {
     "data": {
      "text/plain": [
       "0   -1823562080465190912\n",
       "1                      0\n",
       "2                      0\n",
       "3                 830584\n",
       "4    3945326505906733056\n",
       "dtype: int64"
      ]
     },
     "execution_count": 20,
     "metadata": {},
     "output_type": "execute_result"
    }
   ],
   "source": [
    "serie1**serie2"
   ]
  },
  {
   "cell_type": "markdown",
   "id": "be9cef75-339e-41d8-a17f-a0b52803af37",
   "metadata": {},
   "source": [
    "Las operaciones va a ser elemento a elemento, por lo que no podemos combinar el tipo de datos"
   ]
  },
  {
   "cell_type": "markdown",
   "id": "c37bccf6-7b18-4546-87c0-7e01b7dc2f3d",
   "metadata": {},
   "source": [
    "### numpy"
   ]
  },
  {
   "cell_type": "code",
   "execution_count": 22,
   "id": "6ce18b7f-b945-4ad4-a7e2-d7a106c2a69a",
   "metadata": {},
   "outputs": [
    {
     "data": {
      "text/plain": [
       "array([[-19.74768333,  -2.15800517, -10.27719409, -24.2787015 ],\n",
       "       [ -0.12760092,  -6.88647458, -19.30588516, -19.13187694],\n",
       "       [-14.61458958, -26.40369262, -25.54350369, -20.77586995],\n",
       "       [-29.85355293,  -7.83084462,   1.98060184,  -2.62357645]])"
      ]
     },
     "execution_count": 22,
     "metadata": {},
     "output_type": "execute_result"
    }
   ],
   "source": [
    "array = np.random.normal(-10, 10, size=[4, 4])\n",
    "array"
   ]
  },
  {
   "cell_type": "markdown",
   "id": "9b3765a3-e948-48cb-95bb-bf1059fa289d",
   "metadata": {},
   "source": [
    "### pandas"
   ]
  },
  {
   "cell_type": "markdown",
   "id": "2154e90f-df4f-4a8c-b727-136e0cd29b71",
   "metadata": {},
   "source": [
    "Los dataframes son varias series seguidas"
   ]
  },
  {
   "cell_type": "code",
   "execution_count": 24,
   "id": "e88e1d7e-42c1-4e08-9fd9-29c970863f07",
   "metadata": {},
   "outputs": [
    {
     "data": {
      "text/html": [
       "<div>\n",
       "<style scoped>\n",
       "    .dataframe tbody tr th:only-of-type {\n",
       "        vertical-align: middle;\n",
       "    }\n",
       "\n",
       "    .dataframe tbody tr th {\n",
       "        vertical-align: top;\n",
       "    }\n",
       "\n",
       "    .dataframe thead th {\n",
       "        text-align: right;\n",
       "    }\n",
       "</style>\n",
       "<table border=\"1\" class=\"dataframe\">\n",
       "  <thead>\n",
       "    <tr style=\"text-align: right;\">\n",
       "      <th></th>\n",
       "      <th>W</th>\n",
       "      <th>X</th>\n",
       "    </tr>\n",
       "  </thead>\n",
       "  <tbody>\n",
       "    <tr>\n",
       "      <th>a</th>\n",
       "      <td>2</td>\n",
       "      <td>3</td>\n",
       "    </tr>\n",
       "    <tr>\n",
       "      <th>b</th>\n",
       "      <td>4</td>\n",
       "      <td>5</td>\n",
       "    </tr>\n",
       "  </tbody>\n",
       "</table>\n",
       "</div>"
      ],
      "text/plain": [
       "   W  X\n",
       "a  2  3\n",
       "b  4  5"
      ]
     },
     "execution_count": 24,
     "metadata": {},
     "output_type": "execute_result"
    }
   ],
   "source": [
    "# Forma muy explícita\n",
    "pd.DataFrame([[2, 3], [4, 5]], index = [\"a\", \"b\"], columns = [\"W\", \"X\"])"
   ]
  },
  {
   "cell_type": "code",
   "execution_count": 26,
   "id": "1d01e13f-83fc-48bc-9ebb-b669fe67883c",
   "metadata": {},
   "outputs": [
    {
     "data": {
      "text/html": [
       "<div>\n",
       "<style scoped>\n",
       "    .dataframe tbody tr th:only-of-type {\n",
       "        vertical-align: middle;\n",
       "    }\n",
       "\n",
       "    .dataframe tbody tr th {\n",
       "        vertical-align: top;\n",
       "    }\n",
       "\n",
       "    .dataframe thead th {\n",
       "        text-align: right;\n",
       "    }\n",
       "</style>\n",
       "<table border=\"1\" class=\"dataframe\">\n",
       "  <thead>\n",
       "    <tr style=\"text-align: right;\">\n",
       "      <th></th>\n",
       "      <th>0</th>\n",
       "      <th>1</th>\n",
       "      <th>2</th>\n",
       "      <th>3</th>\n",
       "    </tr>\n",
       "  </thead>\n",
       "  <tbody>\n",
       "    <tr>\n",
       "      <th>0</th>\n",
       "      <td>-19.747683</td>\n",
       "      <td>-2.158005</td>\n",
       "      <td>-10.277194</td>\n",
       "      <td>-24.278701</td>\n",
       "    </tr>\n",
       "    <tr>\n",
       "      <th>1</th>\n",
       "      <td>-0.127601</td>\n",
       "      <td>-6.886475</td>\n",
       "      <td>-19.305885</td>\n",
       "      <td>-19.131877</td>\n",
       "    </tr>\n",
       "    <tr>\n",
       "      <th>2</th>\n",
       "      <td>-14.614590</td>\n",
       "      <td>-26.403693</td>\n",
       "      <td>-25.543504</td>\n",
       "      <td>-20.775870</td>\n",
       "    </tr>\n",
       "    <tr>\n",
       "      <th>3</th>\n",
       "      <td>-29.853553</td>\n",
       "      <td>-7.830845</td>\n",
       "      <td>1.980602</td>\n",
       "      <td>-2.623576</td>\n",
       "    </tr>\n",
       "  </tbody>\n",
       "</table>\n",
       "</div>"
      ],
      "text/plain": [
       "           0          1          2          3\n",
       "0 -19.747683  -2.158005 -10.277194 -24.278701\n",
       "1  -0.127601  -6.886475 -19.305885 -19.131877\n",
       "2 -14.614590 -26.403693 -25.543504 -20.775870\n",
       "3 -29.853553  -7.830845   1.980602  -2.623576"
      ]
     },
     "execution_count": 26,
     "metadata": {},
     "output_type": "execute_result"
    }
   ],
   "source": [
    "# default columnas y filas comienzas en 0\n",
    "pd.DataFrame(array)"
   ]
  },
  {
   "cell_type": "code",
   "execution_count": 56,
   "id": "a858cf73-553e-408a-bb84-05b3604be673",
   "metadata": {},
   "outputs": [
    {
     "data": {
      "text/html": [
       "<div>\n",
       "<style scoped>\n",
       "    .dataframe tbody tr th:only-of-type {\n",
       "        vertical-align: middle;\n",
       "    }\n",
       "\n",
       "    .dataframe tbody tr th {\n",
       "        vertical-align: top;\n",
       "    }\n",
       "\n",
       "    .dataframe thead th {\n",
       "        text-align: right;\n",
       "    }\n",
       "</style>\n",
       "<table border=\"1\" class=\"dataframe\">\n",
       "  <thead>\n",
       "    <tr style=\"text-align: right;\">\n",
       "      <th></th>\n",
       "      <th>W</th>\n",
       "      <th>X</th>\n",
       "      <th>Y</th>\n",
       "      <th>Z</th>\n",
       "    </tr>\n",
       "  </thead>\n",
       "  <tbody>\n",
       "    <tr>\n",
       "      <th>1</th>\n",
       "      <td>-19.747683</td>\n",
       "      <td>-2.158005</td>\n",
       "      <td>-10.277194</td>\n",
       "      <td>-24.278701</td>\n",
       "    </tr>\n",
       "    <tr>\n",
       "      <th>2</th>\n",
       "      <td>-0.127601</td>\n",
       "      <td>-6.886475</td>\n",
       "      <td>-19.305885</td>\n",
       "      <td>-19.131877</td>\n",
       "    </tr>\n",
       "    <tr>\n",
       "      <th>3</th>\n",
       "      <td>-14.614590</td>\n",
       "      <td>-26.403693</td>\n",
       "      <td>-25.543504</td>\n",
       "      <td>-20.775870</td>\n",
       "    </tr>\n",
       "    <tr>\n",
       "      <th>4</th>\n",
       "      <td>-29.853553</td>\n",
       "      <td>-7.830845</td>\n",
       "      <td>1.980602</td>\n",
       "      <td>-2.623576</td>\n",
       "    </tr>\n",
       "  </tbody>\n",
       "</table>\n",
       "</div>"
      ],
      "text/plain": [
       "           W          X          Y          Z\n",
       "1 -19.747683  -2.158005 -10.277194 -24.278701\n",
       "2  -0.127601  -6.886475 -19.305885 -19.131877\n",
       "3 -14.614590 -26.403693 -25.543504 -20.775870\n",
       "4 -29.853553  -7.830845   1.980602  -2.623576"
      ]
     },
     "execution_count": 56,
     "metadata": {},
     "output_type": "execute_result"
    }
   ],
   "source": [
    "# si queremos que el conteo de filas y columnas comience desde 1\n",
    "df = pd.DataFrame(array, index = range(1, len(array)+ 1), columns = [\"W\", \"X\", \"Y\", \"Z\"])\n",
    "df"
   ]
  },
  {
   "cell_type": "code",
   "execution_count": 31,
   "id": "e7c54b9b-7844-468b-829c-18917b6a50d2",
   "metadata": {},
   "outputs": [
    {
     "data": {
      "text/plain": [
       "np.float64(-6.886474583708912)"
      ]
     },
     "execution_count": 31,
     "metadata": {},
     "output_type": "execute_result"
    }
   ],
   "source": [
    "# columna, fila\n",
    "df[\"X\"][2]"
   ]
  },
  {
   "cell_type": "code",
   "execution_count": 37,
   "id": "4bc6becf-17f6-4c18-8150-ca4915eb489f",
   "metadata": {},
   "outputs": [
    {
     "data": {
      "text/plain": [
       "1    -2.158005\n",
       "2    -6.886475\n",
       "3   -26.403693\n",
       "4    -7.830845\n",
       "Name: X, dtype: float64"
      ]
     },
     "execution_count": 37,
     "metadata": {},
     "output_type": "execute_result"
    }
   ],
   "source": [
    "# también lo puedo mandar a llamar como una propiedad\n",
    "df.X"
   ]
  },
  {
   "cell_type": "code",
   "execution_count": 43,
   "id": "6e8f008f-767d-4504-89e7-f09af7e127a9",
   "metadata": {},
   "outputs": [
    {
     "data": {
      "text/html": [
       "<div>\n",
       "<style scoped>\n",
       "    .dataframe tbody tr th:only-of-type {\n",
       "        vertical-align: middle;\n",
       "    }\n",
       "\n",
       "    .dataframe tbody tr th {\n",
       "        vertical-align: top;\n",
       "    }\n",
       "\n",
       "    .dataframe thead th {\n",
       "        text-align: right;\n",
       "    }\n",
       "</style>\n",
       "<table border=\"1\" class=\"dataframe\">\n",
       "  <thead>\n",
       "    <tr style=\"text-align: right;\">\n",
       "      <th></th>\n",
       "      <th>W</th>\n",
       "      <th>X</th>\n",
       "      <th>Y</th>\n",
       "      <th>Z</th>\n",
       "    </tr>\n",
       "  </thead>\n",
       "  <tbody>\n",
       "    <tr>\n",
       "      <th>1</th>\n",
       "      <td>-19.747683</td>\n",
       "      <td>-2.158005</td>\n",
       "      <td>-10.277194</td>\n",
       "      <td>-24.278701</td>\n",
       "    </tr>\n",
       "    <tr>\n",
       "      <th>2</th>\n",
       "      <td>-0.127601</td>\n",
       "      <td>-6.886475</td>\n",
       "      <td>-19.305885</td>\n",
       "      <td>-19.131877</td>\n",
       "    </tr>\n",
       "  </tbody>\n",
       "</table>\n",
       "</div>"
      ],
      "text/plain": [
       "           W         X          Y          Z\n",
       "1 -19.747683 -2.158005 -10.277194 -24.278701\n",
       "2  -0.127601 -6.886475 -19.305885 -19.131877"
      ]
     },
     "execution_count": 43,
     "metadata": {},
     "output_type": "execute_result"
    }
   ],
   "source": [
    "df[:2]"
   ]
  },
  {
   "cell_type": "code",
   "execution_count": 45,
   "id": "425066db-59b2-4c0e-b9b5-bb6fbab7e24a",
   "metadata": {},
   "outputs": [
    {
     "data": {
      "text/html": [
       "<div>\n",
       "<style scoped>\n",
       "    .dataframe tbody tr th:only-of-type {\n",
       "        vertical-align: middle;\n",
       "    }\n",
       "\n",
       "    .dataframe tbody tr th {\n",
       "        vertical-align: top;\n",
       "    }\n",
       "\n",
       "    .dataframe thead th {\n",
       "        text-align: right;\n",
       "    }\n",
       "</style>\n",
       "<table border=\"1\" class=\"dataframe\">\n",
       "  <thead>\n",
       "    <tr style=\"text-align: right;\">\n",
       "      <th></th>\n",
       "      <th>W</th>\n",
       "      <th>Y</th>\n",
       "    </tr>\n",
       "  </thead>\n",
       "  <tbody>\n",
       "    <tr>\n",
       "      <th>1</th>\n",
       "      <td>-19.747683</td>\n",
       "      <td>-10.277194</td>\n",
       "    </tr>\n",
       "    <tr>\n",
       "      <th>2</th>\n",
       "      <td>-0.127601</td>\n",
       "      <td>-19.305885</td>\n",
       "    </tr>\n",
       "    <tr>\n",
       "      <th>3</th>\n",
       "      <td>-14.614590</td>\n",
       "      <td>-25.543504</td>\n",
       "    </tr>\n",
       "    <tr>\n",
       "      <th>4</th>\n",
       "      <td>-29.853553</td>\n",
       "      <td>1.980602</td>\n",
       "    </tr>\n",
       "  </tbody>\n",
       "</table>\n",
       "</div>"
      ],
      "text/plain": [
       "           W          Y\n",
       "1 -19.747683 -10.277194\n",
       "2  -0.127601 -19.305885\n",
       "3 -14.614590 -25.543504\n",
       "4 -29.853553   1.980602"
      ]
     },
     "execution_count": 45,
     "metadata": {},
     "output_type": "execute_result"
    }
   ],
   "source": [
    "# más de una columna --> debemos crear una lista de nuestro interes (dentro de otro set de corchetes)\n",
    "df[[\"W\", \"Y\"]]"
   ]
  },
  {
   "cell_type": "markdown",
   "id": "5f1ac5c3-1e50-4876-9cf3-6ddb8fcd3515",
   "metadata": {},
   "source": [
    "### operaciones dentro del dataframe"
   ]
  },
  {
   "cell_type": "code",
   "execution_count": 46,
   "id": "9942121d-0459-4acd-81cb-cd40a66c1366",
   "metadata": {},
   "outputs": [
    {
     "data": {
      "text/plain": [
       "1   -26.436707\n",
       "2   -26.018352\n",
       "3   -47.179563\n",
       "4   -10.454421\n",
       "dtype: float64"
      ]
     },
     "execution_count": 46,
     "metadata": {},
     "output_type": "execute_result"
    }
   ],
   "source": [
    "df.X + df.Z"
   ]
  },
  {
   "cell_type": "code",
   "execution_count": 57,
   "id": "d3fad4c8-d07a-4e0e-9c76-dcff4971973a",
   "metadata": {},
   "outputs": [
    {
     "data": {
      "text/html": [
       "<div>\n",
       "<style scoped>\n",
       "    .dataframe tbody tr th:only-of-type {\n",
       "        vertical-align: middle;\n",
       "    }\n",
       "\n",
       "    .dataframe tbody tr th {\n",
       "        vertical-align: top;\n",
       "    }\n",
       "\n",
       "    .dataframe thead th {\n",
       "        text-align: right;\n",
       "    }\n",
       "</style>\n",
       "<table border=\"1\" class=\"dataframe\">\n",
       "  <thead>\n",
       "    <tr style=\"text-align: right;\">\n",
       "      <th></th>\n",
       "      <th>W</th>\n",
       "      <th>X</th>\n",
       "      <th>Y</th>\n",
       "      <th>Z</th>\n",
       "      <th>suma_X_Z</th>\n",
       "    </tr>\n",
       "  </thead>\n",
       "  <tbody>\n",
       "    <tr>\n",
       "      <th>1</th>\n",
       "      <td>-19.747683</td>\n",
       "      <td>-2.158005</td>\n",
       "      <td>-10.277194</td>\n",
       "      <td>-24.278701</td>\n",
       "      <td>-26.436707</td>\n",
       "    </tr>\n",
       "    <tr>\n",
       "      <th>2</th>\n",
       "      <td>-0.127601</td>\n",
       "      <td>-6.886475</td>\n",
       "      <td>-19.305885</td>\n",
       "      <td>-19.131877</td>\n",
       "      <td>-26.018352</td>\n",
       "    </tr>\n",
       "    <tr>\n",
       "      <th>3</th>\n",
       "      <td>-14.614590</td>\n",
       "      <td>-26.403693</td>\n",
       "      <td>-25.543504</td>\n",
       "      <td>-20.775870</td>\n",
       "      <td>-47.179563</td>\n",
       "    </tr>\n",
       "    <tr>\n",
       "      <th>4</th>\n",
       "      <td>-29.853553</td>\n",
       "      <td>-7.830845</td>\n",
       "      <td>1.980602</td>\n",
       "      <td>-2.623576</td>\n",
       "      <td>-10.454421</td>\n",
       "    </tr>\n",
       "  </tbody>\n",
       "</table>\n",
       "</div>"
      ],
      "text/plain": [
       "           W          X          Y          Z   suma_X_Z\n",
       "1 -19.747683  -2.158005 -10.277194 -24.278701 -26.436707\n",
       "2  -0.127601  -6.886475 -19.305885 -19.131877 -26.018352\n",
       "3 -14.614590 -26.403693 -25.543504 -20.775870 -47.179563\n",
       "4 -29.853553  -7.830845   1.980602  -2.623576 -10.454421"
      ]
     },
     "execution_count": 57,
     "metadata": {},
     "output_type": "execute_result"
    }
   ],
   "source": [
    "# los dataframes son mutables\n",
    "df[\"suma_X_Z\"] = df.X + df.Z # le estamos agregando una nueva columna a nuestro dataframe\n",
    "df"
   ]
  },
  {
   "cell_type": "code",
   "execution_count": 52,
   "id": "d126f6b3-45e6-4a08-b468-f20bd081faf7",
   "metadata": {},
   "outputs": [
    {
     "data": {
      "text/html": [
       "<div>\n",
       "<style scoped>\n",
       "    .dataframe tbody tr th:only-of-type {\n",
       "        vertical-align: middle;\n",
       "    }\n",
       "\n",
       "    .dataframe tbody tr th {\n",
       "        vertical-align: top;\n",
       "    }\n",
       "\n",
       "    .dataframe thead th {\n",
       "        text-align: right;\n",
       "    }\n",
       "</style>\n",
       "<table border=\"1\" class=\"dataframe\">\n",
       "  <thead>\n",
       "    <tr style=\"text-align: right;\">\n",
       "      <th></th>\n",
       "      <th>W</th>\n",
       "      <th>X</th>\n",
       "      <th>Z</th>\n",
       "      <th>suma_X_Z</th>\n",
       "    </tr>\n",
       "  </thead>\n",
       "  <tbody>\n",
       "    <tr>\n",
       "      <th>1</th>\n",
       "      <td>-19.747683</td>\n",
       "      <td>-2.158005</td>\n",
       "      <td>-24.278701</td>\n",
       "      <td>-26.436707</td>\n",
       "    </tr>\n",
       "    <tr>\n",
       "      <th>2</th>\n",
       "      <td>-0.127601</td>\n",
       "      <td>-6.886475</td>\n",
       "      <td>-19.131877</td>\n",
       "      <td>-26.018352</td>\n",
       "    </tr>\n",
       "    <tr>\n",
       "      <th>3</th>\n",
       "      <td>-14.614590</td>\n",
       "      <td>-26.403693</td>\n",
       "      <td>-20.775870</td>\n",
       "      <td>-47.179563</td>\n",
       "    </tr>\n",
       "    <tr>\n",
       "      <th>4</th>\n",
       "      <td>-29.853553</td>\n",
       "      <td>-7.830845</td>\n",
       "      <td>-2.623576</td>\n",
       "      <td>-10.454421</td>\n",
       "    </tr>\n",
       "  </tbody>\n",
       "</table>\n",
       "</div>"
      ],
      "text/plain": [
       "           W          X          Z   suma_X_Z\n",
       "1 -19.747683  -2.158005 -24.278701 -26.436707\n",
       "2  -0.127601  -6.886475 -19.131877 -26.018352\n",
       "3 -14.614590 -26.403693 -20.775870 -47.179563\n",
       "4 -29.853553  -7.830845  -2.623576 -10.454421"
      ]
     },
     "execution_count": 52,
     "metadata": {},
     "output_type": "execute_result"
    }
   ],
   "source": [
    "# para borrar columnas necesitamos usar un método, especificar lo que es una columna. axis = 1 --> columna | axis = 0 --> filas\n",
    "# drop es temporal, no reemplaza\n",
    "df.drop(\"Y\", axis = 1)"
   ]
  },
  {
   "cell_type": "code",
   "execution_count": 58,
   "id": "55553243-1be1-4bdd-8274-8632b5918196",
   "metadata": {},
   "outputs": [],
   "source": [
    "df.drop(\"Y\", axis = 1, inplace=True) # inplace = True --> reemplaza"
   ]
  },
  {
   "cell_type": "code",
   "execution_count": 54,
   "id": "ab5eb2cb-c624-487f-a6da-0999ae13a4c5",
   "metadata": {},
   "outputs": [
    {
     "data": {
      "text/html": [
       "<div>\n",
       "<style scoped>\n",
       "    .dataframe tbody tr th:only-of-type {\n",
       "        vertical-align: middle;\n",
       "    }\n",
       "\n",
       "    .dataframe tbody tr th {\n",
       "        vertical-align: top;\n",
       "    }\n",
       "\n",
       "    .dataframe thead th {\n",
       "        text-align: right;\n",
       "    }\n",
       "</style>\n",
       "<table border=\"1\" class=\"dataframe\">\n",
       "  <thead>\n",
       "    <tr style=\"text-align: right;\">\n",
       "      <th></th>\n",
       "      <th>W</th>\n",
       "      <th>X</th>\n",
       "      <th>Z</th>\n",
       "      <th>suma_X_Z</th>\n",
       "    </tr>\n",
       "  </thead>\n",
       "  <tbody>\n",
       "    <tr>\n",
       "      <th>1</th>\n",
       "      <td>-19.747683</td>\n",
       "      <td>-2.158005</td>\n",
       "      <td>-24.278701</td>\n",
       "      <td>-26.436707</td>\n",
       "    </tr>\n",
       "    <tr>\n",
       "      <th>2</th>\n",
       "      <td>-0.127601</td>\n",
       "      <td>-6.886475</td>\n",
       "      <td>-19.131877</td>\n",
       "      <td>-26.018352</td>\n",
       "    </tr>\n",
       "    <tr>\n",
       "      <th>3</th>\n",
       "      <td>-14.614590</td>\n",
       "      <td>-26.403693</td>\n",
       "      <td>-20.775870</td>\n",
       "      <td>-47.179563</td>\n",
       "    </tr>\n",
       "    <tr>\n",
       "      <th>4</th>\n",
       "      <td>-29.853553</td>\n",
       "      <td>-7.830845</td>\n",
       "      <td>-2.623576</td>\n",
       "      <td>-10.454421</td>\n",
       "    </tr>\n",
       "  </tbody>\n",
       "</table>\n",
       "</div>"
      ],
      "text/plain": [
       "           W          X          Z   suma_X_Z\n",
       "1 -19.747683  -2.158005 -24.278701 -26.436707\n",
       "2  -0.127601  -6.886475 -19.131877 -26.018352\n",
       "3 -14.614590 -26.403693 -20.775870 -47.179563\n",
       "4 -29.853553  -7.830845  -2.623576 -10.454421"
      ]
     },
     "execution_count": 54,
     "metadata": {},
     "output_type": "execute_result"
    }
   ],
   "source": [
    "df"
   ]
  },
  {
   "cell_type": "markdown",
   "id": "23dad79b-78af-429a-b02a-ffb8f0b74441",
   "metadata": {},
   "source": [
    "#### Para localizar filas"
   ]
  },
  {
   "cell_type": "code",
   "execution_count": 59,
   "id": "afce0989-7ea8-4a3b-a4b0-f0b3349ca5f8",
   "metadata": {},
   "outputs": [
    {
     "data": {
      "text/plain": [
       "W          -14.614590\n",
       "X          -26.403693\n",
       "Z          -20.775870\n",
       "suma_X_Z   -47.179563\n",
       "Name: 3, dtype: float64"
      ]
     },
     "execution_count": 59,
     "metadata": {},
     "output_type": "execute_result"
    }
   ],
   "source": [
    "df.loc[3]"
   ]
  },
  {
   "cell_type": "code",
   "execution_count": 61,
   "id": "9140db1f-00af-4f6d-aff2-6f62a0e8fae5",
   "metadata": {},
   "outputs": [
    {
     "data": {
      "text/plain": [
       "W          -14.614590\n",
       "X          -26.403693\n",
       "Z          -20.775870\n",
       "suma_X_Z   -47.179563\n",
       "Name: 3, dtype: float64"
      ]
     },
     "execution_count": 61,
     "metadata": {},
     "output_type": "execute_result"
    }
   ],
   "source": [
    "# localización del indice\n",
    "df.iloc[2]"
   ]
  },
  {
   "cell_type": "code",
   "execution_count": 62,
   "id": "dc49579e-8553-4053-aa4f-a79eb5814227",
   "metadata": {},
   "outputs": [
    {
     "data": {
      "text/html": [
       "<div>\n",
       "<style scoped>\n",
       "    .dataframe tbody tr th:only-of-type {\n",
       "        vertical-align: middle;\n",
       "    }\n",
       "\n",
       "    .dataframe tbody tr th {\n",
       "        vertical-align: top;\n",
       "    }\n",
       "\n",
       "    .dataframe thead th {\n",
       "        text-align: right;\n",
       "    }\n",
       "</style>\n",
       "<table border=\"1\" class=\"dataframe\">\n",
       "  <thead>\n",
       "    <tr style=\"text-align: right;\">\n",
       "      <th></th>\n",
       "      <th>W</th>\n",
       "      <th>X</th>\n",
       "      <th>Z</th>\n",
       "      <th>suma_X_Z</th>\n",
       "    </tr>\n",
       "  </thead>\n",
       "  <tbody>\n",
       "    <tr>\n",
       "      <th>1</th>\n",
       "      <td>-19.747683</td>\n",
       "      <td>-2.158005</td>\n",
       "      <td>-24.278701</td>\n",
       "      <td>-26.436707</td>\n",
       "    </tr>\n",
       "    <tr>\n",
       "      <th>3</th>\n",
       "      <td>-14.614590</td>\n",
       "      <td>-26.403693</td>\n",
       "      <td>-20.775870</td>\n",
       "      <td>-47.179563</td>\n",
       "    </tr>\n",
       "  </tbody>\n",
       "</table>\n",
       "</div>"
      ],
      "text/plain": [
       "           W          X          Z   suma_X_Z\n",
       "1 -19.747683  -2.158005 -24.278701 -26.436707\n",
       "3 -14.614590 -26.403693 -20.775870 -47.179563"
      ]
     },
     "execution_count": 62,
     "metadata": {},
     "output_type": "execute_result"
    }
   ],
   "source": [
    "df.iloc[[0,2]]"
   ]
  },
  {
   "cell_type": "code",
   "execution_count": 63,
   "id": "fcebde3b-3c76-431d-992e-4d79472b433b",
   "metadata": {},
   "outputs": [
    {
     "data": {
      "text/html": [
       "<div>\n",
       "<style scoped>\n",
       "    .dataframe tbody tr th:only-of-type {\n",
       "        vertical-align: middle;\n",
       "    }\n",
       "\n",
       "    .dataframe tbody tr th {\n",
       "        vertical-align: top;\n",
       "    }\n",
       "\n",
       "    .dataframe thead th {\n",
       "        text-align: right;\n",
       "    }\n",
       "</style>\n",
       "<table border=\"1\" class=\"dataframe\">\n",
       "  <thead>\n",
       "    <tr style=\"text-align: right;\">\n",
       "      <th></th>\n",
       "      <th>W</th>\n",
       "      <th>X</th>\n",
       "      <th>Z</th>\n",
       "      <th>suma_X_Z</th>\n",
       "    </tr>\n",
       "  </thead>\n",
       "  <tbody>\n",
       "    <tr>\n",
       "      <th>1</th>\n",
       "      <td>-19.747683</td>\n",
       "      <td>-2.158005</td>\n",
       "      <td>-24.278701</td>\n",
       "      <td>-26.436707</td>\n",
       "    </tr>\n",
       "    <tr>\n",
       "      <th>2</th>\n",
       "      <td>-0.127601</td>\n",
       "      <td>-6.886475</td>\n",
       "      <td>-19.131877</td>\n",
       "      <td>-26.018352</td>\n",
       "    </tr>\n",
       "    <tr>\n",
       "      <th>3</th>\n",
       "      <td>-14.614590</td>\n",
       "      <td>-26.403693</td>\n",
       "      <td>-20.775870</td>\n",
       "      <td>-47.179563</td>\n",
       "    </tr>\n",
       "    <tr>\n",
       "      <th>4</th>\n",
       "      <td>-29.853553</td>\n",
       "      <td>-7.830845</td>\n",
       "      <td>-2.623576</td>\n",
       "      <td>-10.454421</td>\n",
       "    </tr>\n",
       "  </tbody>\n",
       "</table>\n",
       "</div>"
      ],
      "text/plain": [
       "           W          X          Z   suma_X_Z\n",
       "1 -19.747683  -2.158005 -24.278701 -26.436707\n",
       "2  -0.127601  -6.886475 -19.131877 -26.018352\n",
       "3 -14.614590 -26.403693 -20.775870 -47.179563\n",
       "4 -29.853553  -7.830845  -2.623576 -10.454421"
      ]
     },
     "execution_count": 63,
     "metadata": {},
     "output_type": "execute_result"
    }
   ],
   "source": [
    "df"
   ]
  },
  {
   "cell_type": "code",
   "execution_count": 65,
   "id": "0e83f85a-3629-451f-a10d-e53c265269f3",
   "metadata": {},
   "outputs": [
    {
     "data": {
      "text/plain": [
       "np.float64(-26.403692621848414)"
      ]
     },
     "execution_count": 65,
     "metadata": {},
     "output_type": "execute_result"
    }
   ],
   "source": [
    "# para obtener un valor en específico --> fila, columna\n",
    "df.loc[3, \"X\"]"
   ]
  },
  {
   "cell_type": "code",
   "execution_count": 68,
   "id": "cfd5ae38-8293-4f34-b597-758413bddc83",
   "metadata": {},
   "outputs": [
    {
     "data": {
      "text/html": [
       "<div>\n",
       "<style scoped>\n",
       "    .dataframe tbody tr th:only-of-type {\n",
       "        vertical-align: middle;\n",
       "    }\n",
       "\n",
       "    .dataframe tbody tr th {\n",
       "        vertical-align: top;\n",
       "    }\n",
       "\n",
       "    .dataframe thead th {\n",
       "        text-align: right;\n",
       "    }\n",
       "</style>\n",
       "<table border=\"1\" class=\"dataframe\">\n",
       "  <thead>\n",
       "    <tr style=\"text-align: right;\">\n",
       "      <th></th>\n",
       "      <th>X</th>\n",
       "      <th>suma_X_Z</th>\n",
       "    </tr>\n",
       "  </thead>\n",
       "  <tbody>\n",
       "    <tr>\n",
       "      <th>2</th>\n",
       "      <td>-6.886475</td>\n",
       "      <td>-26.018352</td>\n",
       "    </tr>\n",
       "    <tr>\n",
       "      <th>4</th>\n",
       "      <td>-7.830845</td>\n",
       "      <td>-10.454421</td>\n",
       "    </tr>\n",
       "  </tbody>\n",
       "</table>\n",
       "</div>"
      ],
      "text/plain": [
       "          X   suma_X_Z\n",
       "2 -6.886475 -26.018352\n",
       "4 -7.830845 -10.454421"
      ]
     },
     "execution_count": 68,
     "metadata": {},
     "output_type": "execute_result"
    }
   ],
   "source": [
    "df.loc[[2, 4], [\"X\", \"suma_X_Z\"]]"
   ]
  },
  {
   "cell_type": "code",
   "execution_count": null,
   "id": "09686499-758c-447d-8d40-837e52d40798",
   "metadata": {},
   "outputs": [],
   "source": []
  }
 ],
 "metadata": {
  "kernelspec": {
   "display_name": "Python 3 (ipykernel)",
   "language": "python",
   "name": "python3"
  },
  "language_info": {
   "codemirror_mode": {
    "name": "ipython",
    "version": 3
   },
   "file_extension": ".py",
   "mimetype": "text/x-python",
   "name": "python",
   "nbconvert_exporter": "python",
   "pygments_lexer": "ipython3",
   "version": "3.10.4"
  }
 },
 "nbformat": 4,
 "nbformat_minor": 5
}
