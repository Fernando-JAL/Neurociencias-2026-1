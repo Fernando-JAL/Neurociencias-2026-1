{
 "cells": [
  {
   "cell_type": "code",
   "execution_count": 134,
   "id": "b06a4c18-dd84-49c3-8741-1761eab09ad5",
   "metadata": {},
   "outputs": [],
   "source": [
    "import pandas as pd"
   ]
  },
  {
   "cell_type": "code",
   "execution_count": 135,
   "id": "69806319-703e-4579-af56-35dd06db79b9",
   "metadata": {},
   "outputs": [
    {
     "data": {
      "text/plain": [
       "0     6\n",
       "1     8\n",
       "2    12\n",
       "3    34\n",
       "dtype: int64"
      ]
     },
     "execution_count": 135,
     "metadata": {},
     "output_type": "execute_result"
    }
   ],
   "source": [
    "valores =[6,8, 12, 34]\n",
    "indice = range(len(valores))\n",
    "serie1=pd.Series(data = valores, index = indice)\n",
    "serie1"
   ]
  },
  {
   "cell_type": "code",
   "execution_count": 136,
   "id": "97743802-6908-4230-a4fa-ef666301ed04",
   "metadata": {},
   "outputs": [
    {
     "data": {
      "text/plain": [
       "0    28\n",
       "1    19\n",
       "2     3\n",
       "3    16\n",
       "dtype: int64"
      ]
     },
     "execution_count": 136,
     "metadata": {},
     "output_type": "execute_result"
    }
   ],
   "source": [
    "valores2 = [28, 19, 3, 16]\n",
    "serie2= pd.Series (index=indice, data=valores2)\n",
    "serie2"
   ]
  },
  {
   "cell_type": "code",
   "execution_count": 137,
   "id": "217add3e-5643-4ec8-b9a3-e64e65156630",
   "metadata": {},
   "outputs": [
    {
     "data": {
      "text/plain": [
       "0   -1823562080465190912\n",
       "1     144115188075855872\n",
       "2                   1728\n",
       "3    5202044870318948352\n",
       "dtype: int64"
      ]
     },
     "execution_count": 137,
     "metadata": {},
     "output_type": "execute_result"
    }
   ],
   "source": [
    "serie1 ** serie2 ##El tipo de datos debe ser la misma para que se puedan operar (los numeros)"
   ]
  },
  {
   "cell_type": "code",
   "execution_count": 138,
   "id": "583228c0-8649-463b-88f1-9c68a5213efc",
   "metadata": {},
   "outputs": [],
   "source": [
    "import numpy as np"
   ]
  },
  {
   "cell_type": "code",
   "execution_count": 139,
   "id": "5756c6e8-aec6-4e3f-9fac-c2cf7fa39a86",
   "metadata": {},
   "outputs": [
    {
     "data": {
      "text/plain": [
       "array([[ -4.34613167,  -9.54403811,   8.43923245, -16.00475826],\n",
       "       [  2.43720108,  -7.41117866,  -6.36254239, -15.98477872],\n",
       "       [ -5.84089098,  -7.65461295,  -6.10505462,   7.14255304],\n",
       "       [ -5.1230644 ,  -2.41442778,  -2.91916461,  -6.5819474 ]])"
      ]
     },
     "execution_count": 139,
     "metadata": {},
     "output_type": "execute_result"
    }
   ],
   "source": [
    "array = np.random.normal(-10,10, size=[4,4])\n",
    "array"
   ]
  },
  {
   "cell_type": "code",
   "execution_count": 140,
   "id": "ce1f2213-c50e-434c-b593-fc6837881a42",
   "metadata": {},
   "outputs": [
    {
     "data": {
      "text/html": [
       "<div>\n",
       "<style scoped>\n",
       "    .dataframe tbody tr th:only-of-type {\n",
       "        vertical-align: middle;\n",
       "    }\n",
       "\n",
       "    .dataframe tbody tr th {\n",
       "        vertical-align: top;\n",
       "    }\n",
       "\n",
       "    .dataframe thead th {\n",
       "        text-align: right;\n",
       "    }\n",
       "</style>\n",
       "<table border=\"1\" class=\"dataframe\">\n",
       "  <thead>\n",
       "    <tr style=\"text-align: right;\">\n",
       "      <th></th>\n",
       "      <th>w</th>\n",
       "      <th>x</th>\n",
       "    </tr>\n",
       "  </thead>\n",
       "  <tbody>\n",
       "    <tr>\n",
       "      <th>a</th>\n",
       "      <td>2</td>\n",
       "      <td>3</td>\n",
       "    </tr>\n",
       "    <tr>\n",
       "      <th>b</th>\n",
       "      <td>4</td>\n",
       "      <td>5</td>\n",
       "    </tr>\n",
       "  </tbody>\n",
       "</table>\n",
       "</div>"
      ],
      "text/plain": [
       "   w  x\n",
       "a  2  3\n",
       "b  4  5"
      ]
     },
     "execution_count": 140,
     "metadata": {},
     "output_type": "execute_result"
    }
   ],
   "source": [
    "pd.DataFrame([[2,3],[4,5]], index=['a','b'], columns=['w','x'])"
   ]
  },
  {
   "cell_type": "code",
   "execution_count": 141,
   "id": "b09f8f37-bb6d-4d4e-b595-ff9500b43605",
   "metadata": {},
   "outputs": [
    {
     "data": {
      "text/html": [
       "<div>\n",
       "<style scoped>\n",
       "    .dataframe tbody tr th:only-of-type {\n",
       "        vertical-align: middle;\n",
       "    }\n",
       "\n",
       "    .dataframe tbody tr th {\n",
       "        vertical-align: top;\n",
       "    }\n",
       "\n",
       "    .dataframe thead th {\n",
       "        text-align: right;\n",
       "    }\n",
       "</style>\n",
       "<table border=\"1\" class=\"dataframe\">\n",
       "  <thead>\n",
       "    <tr style=\"text-align: right;\">\n",
       "      <th></th>\n",
       "      <th>w</th>\n",
       "      <th>x</th>\n",
       "      <th>y</th>\n",
       "      <th>z</th>\n",
       "    </tr>\n",
       "  </thead>\n",
       "  <tbody>\n",
       "    <tr>\n",
       "      <th>1</th>\n",
       "      <td>-4.346132</td>\n",
       "      <td>-9.544038</td>\n",
       "      <td>8.439232</td>\n",
       "      <td>-16.004758</td>\n",
       "    </tr>\n",
       "    <tr>\n",
       "      <th>2</th>\n",
       "      <td>2.437201</td>\n",
       "      <td>-7.411179</td>\n",
       "      <td>-6.362542</td>\n",
       "      <td>-15.984779</td>\n",
       "    </tr>\n",
       "    <tr>\n",
       "      <th>3</th>\n",
       "      <td>-5.840891</td>\n",
       "      <td>-7.654613</td>\n",
       "      <td>-6.105055</td>\n",
       "      <td>7.142553</td>\n",
       "    </tr>\n",
       "    <tr>\n",
       "      <th>4</th>\n",
       "      <td>-5.123064</td>\n",
       "      <td>-2.414428</td>\n",
       "      <td>-2.919165</td>\n",
       "      <td>-6.581947</td>\n",
       "    </tr>\n",
       "  </tbody>\n",
       "</table>\n",
       "</div>"
      ],
      "text/plain": [
       "          w         x         y          z\n",
       "1 -4.346132 -9.544038  8.439232 -16.004758\n",
       "2  2.437201 -7.411179 -6.362542 -15.984779\n",
       "3 -5.840891 -7.654613 -6.105055   7.142553\n",
       "4 -5.123064 -2.414428 -2.919165  -6.581947"
      ]
     },
     "execution_count": 141,
     "metadata": {},
     "output_type": "execute_result"
    }
   ],
   "source": [
    "df= pd.DataFrame(array, index=range(1,len(array)+1), columns=['w','x','y','z'])\n",
    "df"
   ]
  },
  {
   "cell_type": "code",
   "execution_count": 142,
   "id": "42f29162-657a-4e0f-8951-1a987a1094e6",
   "metadata": {},
   "outputs": [
    {
     "data": {
      "text/plain": [
       "np.float64(-7.411178656370689)"
      ]
     },
     "execution_count": 142,
     "metadata": {},
     "output_type": "execute_result"
    }
   ],
   "source": [
    "df['x'][2]"
   ]
  },
  {
   "cell_type": "code",
   "execution_count": 143,
   "id": "765c35d2-b243-4bed-92b4-57acf8da6077",
   "metadata": {},
   "outputs": [
    {
     "data": {
      "text/plain": [
       "1   -9.544038\n",
       "2   -7.411179\n",
       "3   -7.654613\n",
       "4   -2.414428\n",
       "Name: x, dtype: float64"
      ]
     },
     "execution_count": 143,
     "metadata": {},
     "output_type": "execute_result"
    }
   ],
   "source": [
    "df.x"
   ]
  },
  {
   "cell_type": "code",
   "execution_count": 144,
   "id": "8b9dfb8d-b8e1-4bc2-919e-f01d58734ae9",
   "metadata": {},
   "outputs": [
    {
     "data": {
      "text/html": [
       "<div>\n",
       "<style scoped>\n",
       "    .dataframe tbody tr th:only-of-type {\n",
       "        vertical-align: middle;\n",
       "    }\n",
       "\n",
       "    .dataframe tbody tr th {\n",
       "        vertical-align: top;\n",
       "    }\n",
       "\n",
       "    .dataframe thead th {\n",
       "        text-align: right;\n",
       "    }\n",
       "</style>\n",
       "<table border=\"1\" class=\"dataframe\">\n",
       "  <thead>\n",
       "    <tr style=\"text-align: right;\">\n",
       "      <th></th>\n",
       "      <th>w</th>\n",
       "      <th>y</th>\n",
       "    </tr>\n",
       "  </thead>\n",
       "  <tbody>\n",
       "    <tr>\n",
       "      <th>1</th>\n",
       "      <td>-4.346132</td>\n",
       "      <td>8.439232</td>\n",
       "    </tr>\n",
       "    <tr>\n",
       "      <th>2</th>\n",
       "      <td>2.437201</td>\n",
       "      <td>-6.362542</td>\n",
       "    </tr>\n",
       "    <tr>\n",
       "      <th>3</th>\n",
       "      <td>-5.840891</td>\n",
       "      <td>-6.105055</td>\n",
       "    </tr>\n",
       "    <tr>\n",
       "      <th>4</th>\n",
       "      <td>-5.123064</td>\n",
       "      <td>-2.919165</td>\n",
       "    </tr>\n",
       "  </tbody>\n",
       "</table>\n",
       "</div>"
      ],
      "text/plain": [
       "          w         y\n",
       "1 -4.346132  8.439232\n",
       "2  2.437201 -6.362542\n",
       "3 -5.840891 -6.105055\n",
       "4 -5.123064 -2.919165"
      ]
     },
     "execution_count": 144,
     "metadata": {},
     "output_type": "execute_result"
    }
   ],
   "source": [
    "df[['w','y']]"
   ]
  },
  {
   "cell_type": "code",
   "execution_count": 145,
   "id": "1cf24c06-1c2f-4f2d-8cf3-098b4f8ce1fc",
   "metadata": {},
   "outputs": [
    {
     "data": {
      "text/html": [
       "<div>\n",
       "<style scoped>\n",
       "    .dataframe tbody tr th:only-of-type {\n",
       "        vertical-align: middle;\n",
       "    }\n",
       "\n",
       "    .dataframe tbody tr th {\n",
       "        vertical-align: top;\n",
       "    }\n",
       "\n",
       "    .dataframe thead th {\n",
       "        text-align: right;\n",
       "    }\n",
       "</style>\n",
       "<table border=\"1\" class=\"dataframe\">\n",
       "  <thead>\n",
       "    <tr style=\"text-align: right;\">\n",
       "      <th></th>\n",
       "      <th>w</th>\n",
       "      <th>x</th>\n",
       "      <th>y</th>\n",
       "      <th>z</th>\n",
       "    </tr>\n",
       "  </thead>\n",
       "  <tbody>\n",
       "    <tr>\n",
       "      <th>1</th>\n",
       "      <td>-4.346132</td>\n",
       "      <td>-9.544038</td>\n",
       "      <td>8.439232</td>\n",
       "      <td>-16.004758</td>\n",
       "    </tr>\n",
       "    <tr>\n",
       "      <th>2</th>\n",
       "      <td>2.437201</td>\n",
       "      <td>-7.411179</td>\n",
       "      <td>-6.362542</td>\n",
       "      <td>-15.984779</td>\n",
       "    </tr>\n",
       "    <tr>\n",
       "      <th>3</th>\n",
       "      <td>-5.840891</td>\n",
       "      <td>-7.654613</td>\n",
       "      <td>-6.105055</td>\n",
       "      <td>7.142553</td>\n",
       "    </tr>\n",
       "    <tr>\n",
       "      <th>4</th>\n",
       "      <td>-5.123064</td>\n",
       "      <td>-2.414428</td>\n",
       "      <td>-2.919165</td>\n",
       "      <td>-6.581947</td>\n",
       "    </tr>\n",
       "  </tbody>\n",
       "</table>\n",
       "</div>"
      ],
      "text/plain": [
       "          w         x         y          z\n",
       "1 -4.346132 -9.544038  8.439232 -16.004758\n",
       "2  2.437201 -7.411179 -6.362542 -15.984779\n",
       "3 -5.840891 -7.654613 -6.105055   7.142553\n",
       "4 -5.123064 -2.414428 -2.919165  -6.581947"
      ]
     },
     "execution_count": 145,
     "metadata": {},
     "output_type": "execute_result"
    }
   ],
   "source": [
    "df"
   ]
  },
  {
   "cell_type": "code",
   "execution_count": 146,
   "id": "9ba900ae-5cc5-4fc8-b293-df109ffd259b",
   "metadata": {},
   "outputs": [
    {
     "data": {
      "text/html": [
       "<div>\n",
       "<style scoped>\n",
       "    .dataframe tbody tr th:only-of-type {\n",
       "        vertical-align: middle;\n",
       "    }\n",
       "\n",
       "    .dataframe tbody tr th {\n",
       "        vertical-align: top;\n",
       "    }\n",
       "\n",
       "    .dataframe thead th {\n",
       "        text-align: right;\n",
       "    }\n",
       "</style>\n",
       "<table border=\"1\" class=\"dataframe\">\n",
       "  <thead>\n",
       "    <tr style=\"text-align: right;\">\n",
       "      <th></th>\n",
       "      <th>w</th>\n",
       "      <th>x</th>\n",
       "      <th>y</th>\n",
       "      <th>z</th>\n",
       "      <th>suma-x-z</th>\n",
       "    </tr>\n",
       "  </thead>\n",
       "  <tbody>\n",
       "    <tr>\n",
       "      <th>1</th>\n",
       "      <td>-4.346132</td>\n",
       "      <td>-9.544038</td>\n",
       "      <td>8.439232</td>\n",
       "      <td>-16.004758</td>\n",
       "      <td>-25.548796</td>\n",
       "    </tr>\n",
       "    <tr>\n",
       "      <th>2</th>\n",
       "      <td>2.437201</td>\n",
       "      <td>-7.411179</td>\n",
       "      <td>-6.362542</td>\n",
       "      <td>-15.984779</td>\n",
       "      <td>-23.395957</td>\n",
       "    </tr>\n",
       "    <tr>\n",
       "      <th>3</th>\n",
       "      <td>-5.840891</td>\n",
       "      <td>-7.654613</td>\n",
       "      <td>-6.105055</td>\n",
       "      <td>7.142553</td>\n",
       "      <td>-0.512060</td>\n",
       "    </tr>\n",
       "    <tr>\n",
       "      <th>4</th>\n",
       "      <td>-5.123064</td>\n",
       "      <td>-2.414428</td>\n",
       "      <td>-2.919165</td>\n",
       "      <td>-6.581947</td>\n",
       "      <td>-8.996375</td>\n",
       "    </tr>\n",
       "  </tbody>\n",
       "</table>\n",
       "</div>"
      ],
      "text/plain": [
       "          w         x         y          z   suma-x-z\n",
       "1 -4.346132 -9.544038  8.439232 -16.004758 -25.548796\n",
       "2  2.437201 -7.411179 -6.362542 -15.984779 -23.395957\n",
       "3 -5.840891 -7.654613 -6.105055   7.142553  -0.512060\n",
       "4 -5.123064 -2.414428 -2.919165  -6.581947  -8.996375"
      ]
     },
     "execution_count": 146,
     "metadata": {},
     "output_type": "execute_result"
    }
   ],
   "source": [
    "df['suma-x-z']= df.x + df.z\n",
    "df"
   ]
  },
  {
   "cell_type": "code",
   "execution_count": 147,
   "id": "d32d1893-dbaa-4a41-bbde-82aa28490801",
   "metadata": {},
   "outputs": [
    {
     "data": {
      "text/html": [
       "<div>\n",
       "<style scoped>\n",
       "    .dataframe tbody tr th:only-of-type {\n",
       "        vertical-align: middle;\n",
       "    }\n",
       "\n",
       "    .dataframe tbody tr th {\n",
       "        vertical-align: top;\n",
       "    }\n",
       "\n",
       "    .dataframe thead th {\n",
       "        text-align: right;\n",
       "    }\n",
       "</style>\n",
       "<table border=\"1\" class=\"dataframe\">\n",
       "  <thead>\n",
       "    <tr style=\"text-align: right;\">\n",
       "      <th></th>\n",
       "      <th>w</th>\n",
       "      <th>x</th>\n",
       "      <th>z</th>\n",
       "      <th>suma-x-z</th>\n",
       "    </tr>\n",
       "  </thead>\n",
       "  <tbody>\n",
       "    <tr>\n",
       "      <th>1</th>\n",
       "      <td>-4.346132</td>\n",
       "      <td>-9.544038</td>\n",
       "      <td>-16.004758</td>\n",
       "      <td>-25.548796</td>\n",
       "    </tr>\n",
       "    <tr>\n",
       "      <th>2</th>\n",
       "      <td>2.437201</td>\n",
       "      <td>-7.411179</td>\n",
       "      <td>-15.984779</td>\n",
       "      <td>-23.395957</td>\n",
       "    </tr>\n",
       "    <tr>\n",
       "      <th>3</th>\n",
       "      <td>-5.840891</td>\n",
       "      <td>-7.654613</td>\n",
       "      <td>7.142553</td>\n",
       "      <td>-0.512060</td>\n",
       "    </tr>\n",
       "    <tr>\n",
       "      <th>4</th>\n",
       "      <td>-5.123064</td>\n",
       "      <td>-2.414428</td>\n",
       "      <td>-6.581947</td>\n",
       "      <td>-8.996375</td>\n",
       "    </tr>\n",
       "  </tbody>\n",
       "</table>\n",
       "</div>"
      ],
      "text/plain": [
       "          w         x          z   suma-x-z\n",
       "1 -4.346132 -9.544038 -16.004758 -25.548796\n",
       "2  2.437201 -7.411179 -15.984779 -23.395957\n",
       "3 -5.840891 -7.654613   7.142553  -0.512060\n",
       "4 -5.123064 -2.414428  -6.581947  -8.996375"
      ]
     },
     "execution_count": 147,
     "metadata": {},
     "output_type": "execute_result"
    }
   ],
   "source": [
    "df.drop('y', axis=1) ## Axis igual a uno va a borrar columnas y si es igual a cero es para borrar filas. \n",
    "## .drop es solo para borrarla en el siguiente bloque pero no es para todo el script"
   ]
  },
  {
   "cell_type": "code",
   "execution_count": 150,
   "id": "524aa94f-0386-40cd-938b-ecad5f79ef26",
   "metadata": {},
   "outputs": [
    {
     "data": {
      "text/html": [
       "<div>\n",
       "<style scoped>\n",
       "    .dataframe tbody tr th:only-of-type {\n",
       "        vertical-align: middle;\n",
       "    }\n",
       "\n",
       "    .dataframe tbody tr th {\n",
       "        vertical-align: top;\n",
       "    }\n",
       "\n",
       "    .dataframe thead th {\n",
       "        text-align: right;\n",
       "    }\n",
       "</style>\n",
       "<table border=\"1\" class=\"dataframe\">\n",
       "  <thead>\n",
       "    <tr style=\"text-align: right;\">\n",
       "      <th></th>\n",
       "      <th>w</th>\n",
       "      <th>x</th>\n",
       "      <th>y</th>\n",
       "      <th>z</th>\n",
       "      <th>suma-x-z</th>\n",
       "    </tr>\n",
       "  </thead>\n",
       "  <tbody>\n",
       "    <tr>\n",
       "      <th>1</th>\n",
       "      <td>-4.346132</td>\n",
       "      <td>-9.544038</td>\n",
       "      <td>8.439232</td>\n",
       "      <td>-16.004758</td>\n",
       "      <td>-25.548796</td>\n",
       "    </tr>\n",
       "    <tr>\n",
       "      <th>2</th>\n",
       "      <td>2.437201</td>\n",
       "      <td>-7.411179</td>\n",
       "      <td>-6.362542</td>\n",
       "      <td>-15.984779</td>\n",
       "      <td>-23.395957</td>\n",
       "    </tr>\n",
       "    <tr>\n",
       "      <th>3</th>\n",
       "      <td>-5.840891</td>\n",
       "      <td>-7.654613</td>\n",
       "      <td>-6.105055</td>\n",
       "      <td>7.142553</td>\n",
       "      <td>-0.512060</td>\n",
       "    </tr>\n",
       "    <tr>\n",
       "      <th>4</th>\n",
       "      <td>-5.123064</td>\n",
       "      <td>-2.414428</td>\n",
       "      <td>-2.919165</td>\n",
       "      <td>-6.581947</td>\n",
       "      <td>-8.996375</td>\n",
       "    </tr>\n",
       "  </tbody>\n",
       "</table>\n",
       "</div>"
      ],
      "text/plain": [
       "          w         x         y          z   suma-x-z\n",
       "1 -4.346132 -9.544038  8.439232 -16.004758 -25.548796\n",
       "2  2.437201 -7.411179 -6.362542 -15.984779 -23.395957\n",
       "3 -5.840891 -7.654613 -6.105055   7.142553  -0.512060\n",
       "4 -5.123064 -2.414428 -2.919165  -6.581947  -8.996375"
      ]
     },
     "execution_count": 150,
     "metadata": {},
     "output_type": "execute_result"
    }
   ],
   "source": [
    "df"
   ]
  },
  {
   "cell_type": "code",
   "execution_count": 151,
   "id": "eb39adba-1224-45ad-96a7-01f62b7ce0d5",
   "metadata": {},
   "outputs": [
    {
     "data": {
      "text/plain": [
       "w           -4.346132\n",
       "x           -9.544038\n",
       "y            8.439232\n",
       "z          -16.004758\n",
       "suma-x-z   -25.548796\n",
       "Name: 1, dtype: float64"
      ]
     },
     "execution_count": 151,
     "metadata": {},
     "output_type": "execute_result"
    }
   ],
   "source": [
    "df.loc[1]"
   ]
  },
  {
   "cell_type": "code",
   "execution_count": 158,
   "id": "a03a80f3-98a5-4a8e-8b44-97371132fc84",
   "metadata": {},
   "outputs": [
    {
     "data": {
      "text/plain": [
       "w           -4.346132\n",
       "x           -9.544038\n",
       "y            8.439232\n",
       "z          -16.004758\n",
       "suma-x-z   -25.548796\n",
       "Name: 1, dtype: float64"
      ]
     },
     "execution_count": 158,
     "metadata": {},
     "output_type": "execute_result"
    }
   ],
   "source": [
    "df.iloc[0]"
   ]
  },
  {
   "cell_type": "code",
   "execution_count": 155,
   "id": "09ee1390-a84d-44eb-99d8-fa80f7ffa178",
   "metadata": {},
   "outputs": [
    {
     "data": {
      "text/html": [
       "<div>\n",
       "<style scoped>\n",
       "    .dataframe tbody tr th:only-of-type {\n",
       "        vertical-align: middle;\n",
       "    }\n",
       "\n",
       "    .dataframe tbody tr th {\n",
       "        vertical-align: top;\n",
       "    }\n",
       "\n",
       "    .dataframe thead th {\n",
       "        text-align: right;\n",
       "    }\n",
       "</style>\n",
       "<table border=\"1\" class=\"dataframe\">\n",
       "  <thead>\n",
       "    <tr style=\"text-align: right;\">\n",
       "      <th></th>\n",
       "      <th>w</th>\n",
       "      <th>x</th>\n",
       "      <th>y</th>\n",
       "      <th>z</th>\n",
       "      <th>suma-x-z</th>\n",
       "    </tr>\n",
       "  </thead>\n",
       "  <tbody>\n",
       "    <tr>\n",
       "      <th>1</th>\n",
       "      <td>-4.346132</td>\n",
       "      <td>-9.544038</td>\n",
       "      <td>8.439232</td>\n",
       "      <td>-16.004758</td>\n",
       "      <td>-25.548796</td>\n",
       "    </tr>\n",
       "    <tr>\n",
       "      <th>3</th>\n",
       "      <td>-5.840891</td>\n",
       "      <td>-7.654613</td>\n",
       "      <td>-6.105055</td>\n",
       "      <td>7.142553</td>\n",
       "      <td>-0.512060</td>\n",
       "    </tr>\n",
       "  </tbody>\n",
       "</table>\n",
       "</div>"
      ],
      "text/plain": [
       "          w         x         y          z   suma-x-z\n",
       "1 -4.346132 -9.544038  8.439232 -16.004758 -25.548796\n",
       "3 -5.840891 -7.654613 -6.105055   7.142553  -0.512060"
      ]
     },
     "execution_count": 155,
     "metadata": {},
     "output_type": "execute_result"
    }
   ],
   "source": [
    "df.iloc[[0,2]]"
   ]
  },
  {
   "cell_type": "code",
   "execution_count": 164,
   "id": "4ae82a3b-8b9b-48f0-a48a-db589433bdda",
   "metadata": {},
   "outputs": [
    {
     "data": {
      "text/html": [
       "<div>\n",
       "<style scoped>\n",
       "    .dataframe tbody tr th:only-of-type {\n",
       "        vertical-align: middle;\n",
       "    }\n",
       "\n",
       "    .dataframe tbody tr th {\n",
       "        vertical-align: top;\n",
       "    }\n",
       "\n",
       "    .dataframe thead th {\n",
       "        text-align: right;\n",
       "    }\n",
       "</style>\n",
       "<table border=\"1\" class=\"dataframe\">\n",
       "  <thead>\n",
       "    <tr style=\"text-align: right;\">\n",
       "      <th></th>\n",
       "      <th>x</th>\n",
       "      <th>suma-x-z</th>\n",
       "    </tr>\n",
       "  </thead>\n",
       "  <tbody>\n",
       "    <tr>\n",
       "      <th>2</th>\n",
       "      <td>-7.411179</td>\n",
       "      <td>-23.395957</td>\n",
       "    </tr>\n",
       "    <tr>\n",
       "      <th>4</th>\n",
       "      <td>-2.414428</td>\n",
       "      <td>-8.996375</td>\n",
       "    </tr>\n",
       "  </tbody>\n",
       "</table>\n",
       "</div>"
      ],
      "text/plain": [
       "          x   suma-x-z\n",
       "2 -7.411179 -23.395957\n",
       "4 -2.414428  -8.996375"
      ]
     },
     "execution_count": 164,
     "metadata": {},
     "output_type": "execute_result"
    }
   ],
   "source": [
    "df.loc[ [2,4] , ['x','suma-x-z'] ]"
   ]
  },
  {
   "cell_type": "code",
   "execution_count": null,
   "id": "1d18bb9f-d8c6-4e88-be32-25def4a1d8a8",
   "metadata": {},
   "outputs": [],
   "source": []
  },
  {
   "cell_type": "code",
   "execution_count": null,
   "id": "bfea54b9-a0a2-41d3-aa49-0a37d55a58d4",
   "metadata": {},
   "outputs": [],
   "source": []
  },
  {
   "cell_type": "code",
   "execution_count": null,
   "id": "26572f96-6757-4fb6-8508-7e7465443aa0",
   "metadata": {},
   "outputs": [],
   "source": []
  },
  {
   "cell_type": "code",
   "execution_count": null,
   "id": "15f902d8-e933-42b1-baf6-0a1cd7b3a6f1",
   "metadata": {},
   "outputs": [],
   "source": []
  },
  {
   "cell_type": "code",
   "execution_count": null,
   "id": "593337e5-7590-4a0a-b747-62305a47df98",
   "metadata": {},
   "outputs": [],
   "source": []
  },
  {
   "cell_type": "code",
   "execution_count": null,
   "id": "594c6357-6330-456c-b2f1-cf9fabf2c2a3",
   "metadata": {},
   "outputs": [],
   "source": []
  },
  {
   "cell_type": "code",
   "execution_count": null,
   "id": "d4e0057e-f550-400f-acd2-196325f4016b",
   "metadata": {},
   "outputs": [],
   "source": []
  }
 ],
 "metadata": {
  "kernelspec": {
   "display_name": "Python 3 (ipykernel)",
   "language": "python",
   "name": "python3"
  },
  "language_info": {
   "codemirror_mode": {
    "name": "ipython",
    "version": 3
   },
   "file_extension": ".py",
   "mimetype": "text/x-python",
   "name": "python",
   "nbconvert_exporter": "python",
   "pygments_lexer": "ipython3",
   "version": "3.13.6"
  }
 },
 "nbformat": 4,
 "nbformat_minor": 5
}
