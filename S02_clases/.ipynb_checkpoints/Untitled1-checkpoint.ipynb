{
 "cells": [
  {
   "cell_type": "code",
   "execution_count": 1,
   "id": "0c0f7606-d4bf-49ca-94e9-5a5c4597443e",
   "metadata": {},
   "outputs": [
    {
     "data": {
      "text/plain": [
       "25"
      ]
     },
     "execution_count": 1,
     "metadata": {},
     "output_type": "execute_result"
    }
   ],
   "source": [
    "def funcion (x):\n",
    "    return x**2\n",
    "\n",
    "funcion(5)"
   ]
  },
  {
   "cell_type": "code",
   "execution_count": 2,
   "id": "b56efef5-1e4d-4ce6-a9ed-7a84571754eb",
   "metadata": {},
   "outputs": [
    {
     "data": {
      "text/plain": [
       "25"
      ]
     },
     "execution_count": 2,
     "metadata": {},
     "output_type": "execute_result"
    }
   ],
   "source": [
    "func_lambda = lambda x: x**2\n",
    "func_lambda(5)"
   ]
  },
  {
   "cell_type": "code",
   "execution_count": 3,
   "id": "4cb5b8bf-9d28-47e0-8830-555d17e2a3fd",
   "metadata": {},
   "outputs": [
    {
     "data": {
      "text/plain": [
       "'airam eva'"
      ]
     },
     "execution_count": 3,
     "metadata": {},
     "output_type": "execute_result"
    }
   ],
   "source": [
    "def funcion_str(string):\n",
    "    return string[::-1]\n",
    "funcion_str('ave maria')"
   ]
  },
  {
   "cell_type": "code",
   "execution_count": 5,
   "id": "50d82af7-b7e6-4b59-854d-5a6b7d486775",
   "metadata": {},
   "outputs": [
    {
     "data": {
      "text/plain": [
       "'airam eva'"
      ]
     },
     "execution_count": 5,
     "metadata": {},
     "output_type": "execute_result"
    }
   ],
   "source": [
    "func_str = lambda string: string [::-1]\n",
    "func_str (\"ave maria\")"
   ]
  },
  {
   "cell_type": "code",
   "execution_count": 6,
   "id": "dee9969d-a0e8-406c-9b12-0abc80e455c7",
   "metadata": {},
   "outputs": [
    {
     "data": {
      "text/plain": [
       "13"
      ]
     },
     "execution_count": 6,
     "metadata": {},
     "output_type": "execute_result"
    }
   ],
   "source": [
    "def funcion (x,y):\n",
    "    return x + y \n",
    "funcion(5,8)"
   ]
  },
  {
   "cell_type": "code",
   "execution_count": null,
   "id": "25816a92-a199-4941-8452-86ddcb70f906",
   "metadata": {},
   "outputs": [],
   "source": [
    "fun_Ida = lambda x, y: x+y\n",
    "fun_Ida(5,8)"
   ]
  },
  {
   "cell_type": "code",
   "execution_count": 8,
   "id": "234f0dab-f4b2-44e0-b01b-13ee0ad9c726",
   "metadata": {},
   "outputs": [
    {
     "data": {
      "text/plain": [
       "(3, -2)"
      ]
     },
     "execution_count": 8,
     "metadata": {},
     "output_type": "execute_result"
    }
   ],
   "source": [
    "def funcion(a, b , c):\n",
    "    return a+b, a-c\n",
    "funcion(1, 2, 3)"
   ]
  },
  {
   "cell_type": "code",
   "execution_count": 15,
   "id": "4a7d3dc3-2918-49f3-b92c-34a63bf14647",
   "metadata": {},
   "outputs": [
    {
     "ename": "NameError",
     "evalue": "name 'x' is not defined",
     "output_type": "error",
     "traceback": [
      "\u001b[1;31m---------------------------------------------------------------------------\u001b[0m",
      "\u001b[1;31mNameError\u001b[0m                                 Traceback (most recent call last)",
      "Cell \u001b[1;32mIn[15], line 5\u001b[0m\n\u001b[0;32m      2\u001b[0m     \u001b[38;5;28;01mreturn\u001b[39;00m x[\u001b[38;5;241m1\u001b[39m]\n\u001b[0;32m      3\u001b[0m lista \u001b[38;5;241m=\u001b[39m [(\u001b[38;5;241m1\u001b[39m,\u001b[38;5;241m8\u001b[39m), (\u001b[38;5;241m7\u001b[39m, \u001b[38;5;241m5\u001b[39m), (\u001b[38;5;241m12\u001b[39m, \u001b[38;5;241m-\u001b[39m\u001b[38;5;241m52\u001b[39m), (\u001b[38;5;241m2\u001b[39m, \u001b[38;5;241m0\u001b[39m)]\n\u001b[1;32m----> 5\u001b[0m \u001b[43mlista\u001b[49m\u001b[38;5;241;43m.\u001b[39;49m\u001b[43msort\u001b[49m\u001b[43m(\u001b[49m\u001b[43mkey\u001b[49m\u001b[38;5;241;43m=\u001b[39;49m\u001b[43mfuncion\u001b[49m\u001b[43m,\u001b[49m\u001b[43m \u001b[49m\u001b[43mreverse\u001b[49m\u001b[43m \u001b[49m\u001b[38;5;241;43m=\u001b[39;49m\u001b[38;5;28;43;01mTrue\u001b[39;49;00m\u001b[43m)\u001b[49m\n\u001b[0;32m      6\u001b[0m lista\n",
      "Cell \u001b[1;32mIn[15], line 2\u001b[0m, in \u001b[0;36mfuncion\u001b[1;34m(X)\u001b[0m\n\u001b[0;32m      1\u001b[0m \u001b[38;5;28;01mdef\u001b[39;00m\u001b[38;5;250m \u001b[39m\u001b[38;5;21mfuncion\u001b[39m(X):\n\u001b[1;32m----> 2\u001b[0m     \u001b[38;5;28;01mreturn\u001b[39;00m \u001b[43mx\u001b[49m[\u001b[38;5;241m1\u001b[39m]\n",
      "\u001b[1;31mNameError\u001b[0m: name 'x' is not defined"
     ]
    }
   ],
   "source": [
    "def funcion(X):\n",
    "    return x[1]\n",
    "lista = [(1,8), (7, 5), (12, -52), (2, 0)]\n",
    "\n",
    "lista.sort(key=funcion, reverse =True)\n",
    "lista"
   ]
  },
  {
   "cell_type": "code",
   "execution_count": 14,
   "id": "c4e4ead7-e7b8-4f0b-a776-86e497c6b4e2",
   "metadata": {},
   "outputs": [
    {
     "data": {
      "text/plain": [
       "[(1, 8), (7, 5), (2, 0), (12, -52)]"
      ]
     },
     "execution_count": 14,
     "metadata": {},
     "output_type": "execute_result"
    }
   ],
   "source": [
    "lista.sort(key=lambda x: x[1], reverse =True)\n",
    "lista"
   ]
  },
  {
   "cell_type": "code",
   "execution_count": 17,
   "id": "4d7dcbb0-ba47-4da9-946a-b0aa3036d204",
   "metadata": {},
   "outputs": [
    {
     "ename": "NameError",
     "evalue": "name 'df' is not defined",
     "output_type": "error",
     "traceback": [
      "\u001b[1;31m---------------------------------------------------------------------------\u001b[0m",
      "\u001b[1;31mNameError\u001b[0m                                 Traceback (most recent call last)",
      "Cell \u001b[1;32mIn[17], line 3\u001b[0m\n\u001b[0;32m      1\u001b[0m \u001b[38;5;28;01mdef\u001b[39;00m\u001b[38;5;250m \u001b[39m\u001b[38;5;21mfuncion\u001b[39m(string):\n\u001b[0;32m      2\u001b[0m     \u001b[38;5;28;01mreturn\u001b[39;00m string\u001b[38;5;241m.\u001b[39mupper()\n\u001b[1;32m----> 3\u001b[0m \u001b[43mdf\u001b[49m[\u001b[38;5;124m\"\u001b[39m\u001b[38;5;124mregion\u001b[39m\u001b[38;5;124m\"\u001b[39m]\u001b[38;5;241m.\u001b[39mapply(funcion)\n",
      "\u001b[1;31mNameError\u001b[0m: name 'df' is not defined"
     ]
    }
   ],
   "source": [
    "def funcion(string):\n",
    "    return string.upper()\n",
    "df[\"region\"].apply(funcion)"
   ]
  },
  {
   "cell_type": "code",
   "execution_count": null,
   "id": "b27d50e3-6789-4ff2-aeb1-2a72dfd749a3",
   "metadata": {},
   "outputs": [],
   "source": [
    "def funcion(string):\n",
    "    return string.upper()\n",
    "df[[\"region\", \"condicion\",\"neuro\"]].apply(lambda string: string.upper()) for string in serie])\n"
   ]
  }
 ],
 "metadata": {
  "kernelspec": {
   "display_name": "Python 3 (ipykernel)",
   "language": "python",
   "name": "python3"
  },
  "language_info": {
   "codemirror_mode": {
    "name": "ipython",
    "version": 3
   },
   "file_extension": ".py",
   "mimetype": "text/x-python",
   "name": "python",
   "nbconvert_exporter": "python",
   "pygments_lexer": "ipython3",
   "version": "3.10.7"
  }
 },
 "nbformat": 4,
 "nbformat_minor": 5
}
