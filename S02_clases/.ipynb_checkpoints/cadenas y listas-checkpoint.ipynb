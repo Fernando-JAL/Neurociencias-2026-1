{
 "cells": [
  {
   "cell_type": "code",
   "execution_count": null,
   "id": "34af3034-2c94-4a98-a9d1-a419552c21a9",
   "metadata": {},
   "outputs": [],
   "source": [
    "cadena = \"cadena\"\n",
    "cadena"
   ]
  },
  {
   "cell_type": "markdown",
   "id": "efd3e90a-4968-462d-9ece-d8e1a5f60dd7",
   "metadata": {},
   "source": [
    "\"cadena\""
   ]
  },
  {
   "cell_type": "code",
   "execution_count": 3,
   "id": "e20c56b8-474e-4832-bc2b-d4bd585327a9",
   "metadata": {},
   "outputs": [
    {
     "ename": "NameError",
     "evalue": "name 'b' is not defined",
     "output_type": "error",
     "traceback": [
      "\u001b[1;31m---------------------------------------------------------------------------\u001b[0m",
      "\u001b[1;31mNameError\u001b[0m                                 Traceback (most recent call last)",
      "Cell \u001b[1;32mIn[3], line 2\u001b[0m\n\u001b[0;32m      1\u001b[0m cadena\u001b[38;5;241m=\u001b[39m \u001b[38;5;124m\"\u001b[39m\u001b[38;5;124motra cosa\u001b[39m\u001b[38;5;124m\"\u001b[39m\n\u001b[1;32m----> 2\u001b[0m cadena[\u001b[38;5;241m-\u001b[39m\u001b[38;5;241m2\u001b[39m] \u001b[38;5;241m=\u001b[39m \u001b[43mb\u001b[49m\n",
      "\u001b[1;31mNameError\u001b[0m: name 'b' is not defined"
     ]
    }
   ],
   "source": [
    "cadena= \"otra cosa\"\n",
    "cadena[-2] = b"
   ]
  },
  {
   "cell_type": "markdown",
   "id": "9af7830b-9f46-4b29-87ca-f67b39b83ce9",
   "metadata": {},
   "source": [
    "#Alternativas a la inmutabilidad"
   ]
  },
  {
   "cell_type": "code",
   "execution_count": 10,
   "id": "01ba0bf5-bc0c-4761-a633-df5f6bb12dcf",
   "metadata": {},
   "outputs": [],
   "source": [
    "cadena1= \"donde esta oswaldo\"\n",
    "cadena2= \"viva la programaciòn\"\n",
    "cadena3= \"bts volviò del ejercito\""
   ]
  },
  {
   "cell_type": "code",
   "execution_count": 12,
   "id": "890f98c2-c8c7-40f7-bb77-62c1ca5c406a",
   "metadata": {
    "scrolled": true
   },
   "outputs": [
    {
     "data": {
      "text/plain": [
       "'donde esta la programaciònque volviò del ejercito'"
      ]
     },
     "execution_count": 12,
     "metadata": {},
     "output_type": "execute_result"
    }
   ],
   "source": [
    "##ejecicio\n",
    "cadena1[ :10] + cadena2[4:] + \"que\" + cadena3[3:]\n",
    "### Recuerda que empiezas en 0\n",
    "##3obser que :10, indica [donde inicia:donde termina][Aquì vacìo es desde el inicio:(-)Es, regresarse]"
   ]
  },
  {
   "cell_type": "code",
   "execution_count": 18,
   "id": "2608d76a-9f6a-436f-9656-261594d5f1d9",
   "metadata": {},
   "outputs": [
    {
     "data": {
      "text/plain": [
       "'oswaldo volviò a la programaciòn ed òivlov stb'"
      ]
     },
     "execution_count": 18,
     "metadata": {},
     "output_type": "execute_result"
    }
   ],
   "source": [
    "cadena1[ -7:] + cadena3[3:11] + \"a \" + cadena2[5:] + \" \"+ cadena3[-11::-1]\n",
    "### notese  que cadena3[-11::-1] lo volteo. 3[-11: esta parte eligiò , :-1] esta otra lo volteò"
   ]
  },
  {
   "cell_type": "markdown",
   "id": "899daa66-8a26-48df-9c12-f81bf26ded21",
   "metadata": {},
   "source": [
    "###lista"
   ]
  },
  {
   "cell_type": "code",
   "execution_count": 42,
   "id": "b81cc8f7-5aa7-4cce-bb56-e780a1aa88c8",
   "metadata": {},
   "outputs": [
    {
     "data": {
      "text/plain": [
       "[5, 4, 2, 90, (-7+6j), 'strings', 'ala', [3, 2, 5]]"
      ]
     },
     "execution_count": 42,
     "metadata": {},
     "output_type": "execute_result"
    }
   ],
   "source": [
    "lista = [5, 4, 2, 90, complex(-7, 6), \"strings\", \"ala\", [3, 2, 5]]\n",
    "lista"
   ]
  },
  {
   "cell_type": "code",
   "execution_count": 24,
   "id": "5c2a4875-4aa7-4761-a211-8fa2e2f55ce6",
   "metadata": {},
   "outputs": [
    {
     "data": {
      "text/plain": [
       "list"
      ]
     },
     "execution_count": 24,
     "metadata": {},
     "output_type": "execute_result"
    }
   ],
   "source": [
    "type(lista)"
   ]
  },
  {
   "cell_type": "code",
   "execution_count": 25,
   "id": "cab492fe-2dba-421d-a23d-f4724bb7cc3c",
   "metadata": {},
   "outputs": [
    {
     "data": {
      "text/plain": [
       "(-3+6j)"
      ]
     },
     "execution_count": 25,
     "metadata": {},
     "output_type": "execute_result"
    }
   ],
   "source": [
    "lista[4] + lista[1]"
   ]
  },
  {
   "cell_type": "code",
   "execution_count": 30,
   "id": "18df74d4-2e79-4764-9cf7-3e5bc6d957df",
   "metadata": {},
   "outputs": [
    {
     "data": {
      "text/plain": [
       "[3, 2, 5, 3, 2, 5, 3, 2, 5, 3, 2, 5]"
      ]
     },
     "execution_count": 30,
     "metadata": {},
     "output_type": "execute_result"
    }
   ],
   "source": [
    "lista[1]* lista[-1]"
   ]
  },
  {
   "cell_type": "code",
   "execution_count": 29,
   "id": "4294963a-fc6a-4afc-9133-115f2b857a65",
   "metadata": {},
   "outputs": [
    {
     "data": {
      "text/plain": [
       "8"
      ]
     },
     "execution_count": 29,
     "metadata": {},
     "output_type": "execute_result"
    }
   ],
   "source": [
    "lista\n",
    "len(lista)\n"
   ]
  },
  {
   "cell_type": "code",
   "execution_count": 43,
   "id": "899ed7b4-2e4a-4fda-bbe5-3c5545c3ce4e",
   "metadata": {},
   "outputs": [
    {
     "name": "stdout",
     "output_type": "stream",
     "text": [
      "6 [5, 4, 'maluma baby', 'strings', 'ala', [3, 2, 5]]\n"
     ]
    }
   ],
   "source": [
    "lista[2: 5]= [\"maluma baby\"]\n",
    "print(len(lista), lista)\n",
    "\n"
   ]
  },
  {
   "cell_type": "code",
   "execution_count": 50,
   "id": "d6e7d03b-0b33-4ec1-b8d4-abd82eefadac",
   "metadata": {},
   "outputs": [
    {
     "data": {
      "text/plain": [
       "'strings'"
      ]
     },
     "execution_count": 50,
     "metadata": {},
     "output_type": "execute_result"
    }
   ],
   "source": [
    "lista[-3]"
   ]
  },
  {
   "cell_type": "code",
   "execution_count": 52,
   "id": "6dbd3629-aab8-4012-9a6f-c387cfe5b053",
   "metadata": {},
   "outputs": [
    {
     "data": {
      "text/plain": [
       "['maluma baby', 'strings', 'ala']"
      ]
     },
     "execution_count": 52,
     "metadata": {},
     "output_type": "execute_result"
    }
   ],
   "source": [
    "lista[-4:-1]"
   ]
  },
  {
   "cell_type": "code",
   "execution_count": 53,
   "id": "f30d5934-82e5-4443-939e-618f2261639b",
   "metadata": {},
   "outputs": [
    {
     "data": {
      "text/plain": [
       "'C:\\\\Users\\\\monce\\\\OneDrive\\\\Documentos\\\\Biofisica\\\\pdfcoffee.com_fisica-para-ciencias-de-la-vida-2a-ed-pdf-free.pdf'"
      ]
     },
     "execution_count": 53,
     "metadata": {},
     "output_type": "execute_result"
    }
   ],
   "source": [
    "ruta = r\"C:\\Users\\monce\\OneDrive\\Documentos\\Biofisica\\pdfcoffee.com_fisica-para-ciencias-de-la-vida-2a-ed-pdf-free.pdf\"\n",
    "ruta"
   ]
  },
  {
   "cell_type": "code",
   "execution_count": 77,
   "id": "5defb89b-285f-40fe-a356-885ef42f692e",
   "metadata": {},
   "outputs": [
    {
     "data": {
      "text/plain": [
       "['C:',\n",
       " 'Users',\n",
       " 'monce',\n",
       " 'OneDrive',\n",
       " 'Documentos',\n",
       " 'Biofisica',\n",
       " 'pdfcoffee.com_fisica-para-ciencias-de-la-vida-2a-ed-pdf-free.pdf']"
      ]
     },
     "execution_count": 77,
     "metadata": {},
     "output_type": "execute_result"
    }
   ],
   "source": [
    "ruta.split(\"\\\\\")"
   ]
  },
  {
   "cell_type": "code",
   "execution_count": 79,
   "id": "0c7160e2-881a-4667-809a-2ecf6127ffff",
   "metadata": {},
   "outputs": [
    {
     "data": {
      "text/plain": [
       "'pdfcoffee.com_fisica-para-ciencias-de-la-vida-2a-ed-pdf-free.pdf'"
      ]
     },
     "execution_count": 79,
     "metadata": {},
     "output_type": "execute_result"
    }
   ],
   "source": [
    "var1= ruta.split(sep=\"\\\\\")[-1]\n",
    "var1"
   ]
  },
  {
   "cell_type": "code",
   "execution_count": 82,
   "id": "8b8c54c9-1e3a-46f4-befb-98880a54ac84",
   "metadata": {},
   "outputs": [
    {
     "data": {
      "text/plain": [
       "'fisica-para-ciencias-de-la-vida-2a-ed-pdf-free.pdf'"
      ]
     },
     "execution_count": 82,
     "metadata": {},
     "output_type": "execute_result"
    }
   ],
   "source": [
    "var1.split(sep=\"_\")[-1]"
   ]
  },
  {
   "cell_type": "code",
   "execution_count": 84,
   "id": "d6e5e1ae-216d-41b1-a585-015153e899cb",
   "metadata": {},
   "outputs": [
    {
     "data": {
      "text/plain": [
       "'pdfcoffee.com_fisica-para-ciencias-de-la-vida-2a-ed-pdf-free.pd'"
      ]
     },
     "execution_count": 84,
     "metadata": {},
     "output_type": "execute_result"
    }
   ],
   "source": [
    "var2[ : -1]"
   ]
  },
  {
   "cell_type": "code",
   "execution_count": 93,
   "id": "6d214216-5dea-4969-aa5a-e7440c7bef48",
   "metadata": {},
   "outputs": [
    {
     "name": "stdout",
     "output_type": "stream",
     "text": [
      "pdfcoffee.com_fisica-para-ciencias-de-la-vida-2a-ed-pdf-free.pdf\n"
     ]
    }
   ],
   "source": [
    "var3= var2.split(\"-2a-ed-pdf-free.pd'\")[0]\n",
    "print( var3)"
   ]
  },
  {
   "cell_type": "code",
   "execution_count": null,
   "id": "c0c7a636-ac26-4f1a-ad71-c4728ace760a",
   "metadata": {},
   "outputs": [],
   "source": []
  },
  {
   "cell_type": "code",
   "execution_count": null,
   "id": "1bceda94-fb87-42a3-a729-aeced95acb94",
   "metadata": {},
   "outputs": [],
   "source": []
  }
 ],
 "metadata": {
  "kernelspec": {
   "display_name": "Python 3 (ipykernel)",
   "language": "python",
   "name": "python3"
  },
  "language_info": {
   "codemirror_mode": {
    "name": "ipython",
    "version": 3
   },
   "file_extension": ".py",
   "mimetype": "text/x-python",
   "name": "python",
   "nbconvert_exporter": "python",
   "pygments_lexer": "ipython3",
   "version": "3.10.4"
  }
 },
 "nbformat": 4,
 "nbformat_minor": 5
}
