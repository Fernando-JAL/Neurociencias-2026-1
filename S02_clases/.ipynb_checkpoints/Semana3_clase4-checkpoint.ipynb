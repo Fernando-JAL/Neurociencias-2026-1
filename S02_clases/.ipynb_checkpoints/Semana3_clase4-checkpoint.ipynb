{
 "cells": [
  {
   "cell_type": "markdown",
   "id": "b2ecf880",
   "metadata": {},
   "source": [
    "# "
   ]
  },
  {
   "cell_type": "markdown",
   "id": "23e63313",
   "metadata": {},
   "source": [
    "ejercicio \n",
    "1. crear una funcion que cuente las vocales de un string y regrese dicho numero\n",
    "2. crear una funcion que determine si un numero es par o impar e imprima si es par o impar\n",
    "3. crear una funcion para convertir de grados celcius a grados farenheit, dicha funcion recibira la temperaatura en grados celcius y debera regresar los grados farenheit\n",
    "4. crear una funcion que reciba un entero y devuelva la suma de sus digitos"
   ]
  },
  {
   "cell_type": "code",
   "execution_count": 1,
   "id": "63c6e058",
   "metadata": {},
   "outputs": [],
   "source": [
    "def num_letras (string):\n",
    "    cantidad=len(string)\n",
    "    return (cantidad)"
   ]
  },
  {
   "cell_type": "code",
   "execution_count": 4,
   "id": "348640b4",
   "metadata": {},
   "outputs": [],
   "source": [
    "def primoonormal (numero):\n",
    "    if numero/2 ==0:\n",
    "        print('numero par')\n",
    "    elif numero/2 != 0:\n",
    "        print('numero es impar')"
   ]
  },
  {
   "cell_type": "code",
   "execution_count": 8,
   "id": "4b52a863",
   "metadata": {},
   "outputs": [],
   "source": [
    "def Cel2Fah():\n",
    "    gradosCel=input('Temperatura en grados celsius')\n",
    "    gradosFah=gradosCel*(9/5)+32\n",
    "    print('La temperatura en grados Fahrenheit es ',gradosFah)\n",
    "    return(gradosFah)"
   ]
  },
  {
   "cell_type": "code",
   "execution_count": 12,
   "id": "c9e17873",
   "metadata": {},
   "outputs": [],
   "source": [
    "def sumadedig(entero):\n",
    "    \n",
    "    for i in len(entero):\n",
    "            resultado += i \n",
    "    return resultado"
   ]
  },
  {
   "cell_type": "code",
   "execution_count": null,
   "id": "de04a087",
   "metadata": {},
   "outputs": [],
   "source": []
  }
 ],
 "metadata": {
  "kernelspec": {
   "display_name": "Python 3 (ipykernel)",
   "language": "python",
   "name": "python3"
  },
  "language_info": {
   "codemirror_mode": {
    "name": "ipython",
    "version": 3
   },
   "file_extension": ".py",
   "mimetype": "text/x-python",
   "name": "python",
   "nbconvert_exporter": "python",
   "pygments_lexer": "ipython3",
   "version": "3.11.4"
  }
 },
 "nbformat": 4,
 "nbformat_minor": 5
}
