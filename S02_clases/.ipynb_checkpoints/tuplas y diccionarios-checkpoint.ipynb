{
 "cells": [
  {
   "cell_type": "markdown",
   "id": "52c545d0-ce19-4c9c-b56f-d0cf53826a2d",
   "metadata": {},
   "source": [
    "# -------------------------------\n",
    "\n",
    "# Cadenas\n",
    "\n",
    "# -------------------------------"
   ]
  },
  {
   "cell_type": "code",
   "execution_count": null,
   "id": "df7d6764-e2d4-4cae-9a63-1e4a4293b509",
   "metadata": {
    "scrolled": true
   },
   "outputs": [],
   "source": [
    "cadena = 'cadena'\n",
    "\n",
    "# Acceso a un carácter\n",
    "print(cadena[4])  # 'n'\n",
    "\n",
    "# Intento de modificar cadena (error)\n",
    "try:\n",
    "    cadena[4] = 'j'\n",
    "except TypeError as e:\n",
    "    print(\"Error:\", e)\n",
    "\n",
    "# Otra cadena\n",
    "cadena_larga = 'hoy no vino javi'\n",
    "\n",
    "# Subcadena desde índice negativo\n",
    "print(cadena_larga[-4:])  # 'javi'\n",
    "\n",
    "# Intento de modificar (error)\n",
    "try:\n",
    "    cadena_larga[-4:] = 'yuli'\n",
    "except TypeError as e:\n",
    "    print(\"Error:\", e)"
   ]
  },
  {
   "cell_type": "code",
   "execution_count": null,
   "id": "866eb171-01e5-46a4-b794-fe3e6cdbec8c",
   "metadata": {},
   "outputs": [],
   "source": [
    "# Concatenación de subcadenas\n",
    "cadena1 = 'donde esta oswaldo'\n",
    "cadena2 = 'viva la programación'\n",
    "cadena3 = 'bts volvió del ejército'\n",
    "\n",
    "cadena1_1 = cadena1[:11]\n",
    "print(cadena1_1)\n",
    "\n",
    "cadena2_2 = cadena2[5:]\n",
    "print(cadena2_2)\n",
    "\n",
    "cadena3_3 = cadena3[4:]\n",
    "print(cadena3_3)\n",
    "\n",
    "print(cadena1_1 + cadena2_2 + ' que ' + cadena3_3)\n",
    "\n",
    "print(cadena1[-7:] + cadena3[3:11] + 'a ' + cadena2[5:] + ' ' + cadena3[-11::-1])"
   ]
  },
  {
   "cell_type": "markdown",
   "id": "b8b91905-503e-488c-a8e5-2a4ddbeb4def",
   "metadata": {},
   "source": [
    "# -------------------------------\n",
    "# Listas\n",
    "# -------------------------------"
   ]
  },
  {
   "cell_type": "code",
   "execution_count": 11,
   "id": "e572bb54-4c56-4538-854c-3bd30ea4a0ae",
   "metadata": {},
   "outputs": [
    {
     "name": "stdout",
     "output_type": "stream",
     "text": [
      "[2, 3, 6, 5, 'lololol', 2.34, (1+8j)]\n",
      "<class 'list'>\n",
      "lololol\n",
      "2\n",
      "(3+8j)\n",
      "lololollololol\n",
      "2\n"
     ]
    }
   ],
   "source": [
    "lista = [2, 3, 6, 5, 'lololol', 2.34, complex(1, 8)]\n",
    "print(lista)\n",
    "print(type(lista))\n",
    "\n",
    "print(lista[4])   # 'lololol'\n",
    "print(lista[0])   # 2\n",
    "print(lista[0] + lista[6])  # 2 + (1+8j)\n",
    "print(lista[0] * lista[4])  # 'lololollololol'\n",
    "print(lista[0])"
   ]
  },
  {
   "cell_type": "markdown",
   "id": "872d29f0-8c1a-4992-82b1-58c59044e680",
   "metadata": {},
   "source": [
    "# lista"
   ]
  },
  {
   "cell_type": "code",
   "execution_count": 57,
   "id": "09fd4bf9-7a2e-4f30-b611-b396746667ba",
   "metadata": {},
   "outputs": [
    {
     "data": {
      "text/plain": [
       "['rojo', 2.3, 100, 'chocolate']"
      ]
     },
     "execution_count": 57,
     "metadata": {},
     "output_type": "execute_result"
    }
   ],
   "source": [
    "lista= ['rojo',2.3,100,'chocolate']\n",
    "lista"
   ]
  },
  {
   "cell_type": "code",
   "execution_count": 58,
   "id": "81435654-c9aa-40c4-acae-0e68476b692f",
   "metadata": {},
   "outputs": [
    {
     "data": {
      "text/plain": [
       "['rojo', 2.3, 100, 'chocolate', 'nuez']"
      ]
     },
     "execution_count": 58,
     "metadata": {},
     "output_type": "execute_result"
    }
   ],
   "source": [
    "lista.append('nuez')\n",
    "lista\n"
   ]
  },
  {
   "cell_type": "code",
   "execution_count": 59,
   "id": "e78fdc74-9538-4ddf-933e-4d7e8a47fcd8",
   "metadata": {},
   "outputs": [],
   "source": [
    "lista_vacia=[]"
   ]
  },
  {
   "cell_type": "code",
   "execution_count": 60,
   "id": "828459e1-12bf-4070-b5ad-5460b30b901a",
   "metadata": {},
   "outputs": [
    {
     "data": {
      "text/plain": [
       "list"
      ]
     },
     "execution_count": 60,
     "metadata": {},
     "output_type": "execute_result"
    }
   ],
   "source": [
    "type(lista_vacia)"
   ]
  },
  {
   "cell_type": "code",
   "execution_count": 61,
   "id": "07105865-d325-4cc4-b1b8-7dfd7ac845bb",
   "metadata": {},
   "outputs": [
    {
     "data": {
      "text/plain": [
       "['rojo', 2.3, 100, 'chocolate', 'nuez']"
      ]
     },
     "execution_count": 61,
     "metadata": {},
     "output_type": "execute_result"
    }
   ],
   "source": [
    "lista"
   ]
  },
  {
   "cell_type": "code",
   "execution_count": 62,
   "id": "4e70cdf1-301e-47b6-8334-415efb6a44f8",
   "metadata": {},
   "outputs": [
    {
     "data": {
      "text/plain": [
       "7"
      ]
     },
     "execution_count": 62,
     "metadata": {},
     "output_type": "execute_result"
    }
   ],
   "source": [
    "lista[-1:] = [4,2,6]\n",
    "len(lista)"
   ]
  },
  {
   "cell_type": "code",
   "execution_count": 63,
   "id": "ddba02cc-a1eb-4304-b0b6-e7d244046613",
   "metadata": {},
   "outputs": [
    {
     "data": {
      "text/plain": [
       "['rojo', 2.3, 4, 2, 6]"
      ]
     },
     "execution_count": 63,
     "metadata": {},
     "output_type": "execute_result"
    }
   ],
   "source": [
    "del lista[2:4]\n",
    "lista"
   ]
  },
  {
   "cell_type": "code",
   "execution_count": 64,
   "id": "81c313cc-b8f0-4e95-b22e-613c8d2f317e",
   "metadata": {},
   "outputs": [
    {
     "data": {
      "text/plain": [
       "[[1, 2, 3], [4, 5, 6], [7, 8, 9], [8, 7, 6]]"
      ]
     },
     "execution_count": 64,
     "metadata": {},
     "output_type": "execute_result"
    }
   ],
   "source": [
    "matriz= [[1,2,3],\n",
    "         [4,5,6],\n",
    "         [7,8,9],\n",
    "         [8,7,6]]\n",
    "matriz"
   ]
  },
  {
   "cell_type": "code",
   "execution_count": 66,
   "id": "24fc7dc9-73b6-439e-9551-992192c299cc",
   "metadata": {},
   "outputs": [
    {
     "data": {
      "text/plain": [
       "[7, 8, 9]"
      ]
     },
     "execution_count": 66,
     "metadata": {},
     "output_type": "execute_result"
    }
   ],
   "source": [
    "a= matriz[2]\n",
    "a"
   ]
  },
  {
   "cell_type": "code",
   "execution_count": 67,
   "id": "86669bfe-c28c-47fe-ab88-e56cca0efa47",
   "metadata": {},
   "outputs": [
    {
     "data": {
      "text/plain": [
       "9"
      ]
     },
     "execution_count": 67,
     "metadata": {},
     "output_type": "execute_result"
    }
   ],
   "source": [
    "a[2]"
   ]
  },
  {
   "cell_type": "code",
   "execution_count": 68,
   "id": "f0c5443d-bba9-4d6c-8580-68b0c7290bec",
   "metadata": {},
   "outputs": [
    {
     "data": {
      "text/plain": [
       "9"
      ]
     },
     "execution_count": 68,
     "metadata": {},
     "output_type": "execute_result"
    }
   ],
   "source": [
    "matriz[2][-1]"
   ]
  },
  {
   "cell_type": "markdown",
   "id": "6b8d3cfa-5b23-455f-9298-3c48c89e72cb",
   "metadata": {},
   "source": [
    "# Tuplas "
   ]
  },
  {
   "cell_type": "code",
   "execution_count": 76,
   "id": "823d2111-0ea9-4a65-b477-4f5ae1f8cc3c",
   "metadata": {},
   "outputs": [
    {
     "data": {
      "text/plain": [
       "(5, 2, '-1', [4, 2, 1], 'pasa')"
      ]
     },
     "execution_count": 76,
     "metadata": {},
     "output_type": "execute_result"
    }
   ],
   "source": [
    "variable= (5,2,'-1',[4,2,1], 'pasa')\n",
    "variable"
   ]
  },
  {
   "cell_type": "code",
   "execution_count": 77,
   "id": "44102f9a-77b6-4f19-b2ed-5c24ef1b1ba3",
   "metadata": {},
   "outputs": [
    {
     "data": {
      "text/plain": [
       "tuple"
      ]
     },
     "execution_count": 77,
     "metadata": {},
     "output_type": "execute_result"
    }
   ],
   "source": [
    "type(variable)"
   ]
  },
  {
   "cell_type": "code",
   "execution_count": 83,
   "id": "e27543e5-0ce4-4e13-b032-540930b08d26",
   "metadata": {},
   "outputs": [
    {
     "data": {
      "text/plain": [
       "(5, 2, '-1', [4, 2, 1], 'pasa')"
      ]
     },
     "execution_count": 83,
     "metadata": {},
     "output_type": "execute_result"
    }
   ],
   "source": [
    "variable"
   ]
  },
  {
   "cell_type": "code",
   "execution_count": 84,
   "id": "2f217c3f-9a81-4bb2-a43b-96888b780935",
   "metadata": {},
   "outputs": [
    {
     "data": {
      "text/plain": [
       "'pasa'"
      ]
     },
     "execution_count": 84,
     "metadata": {},
     "output_type": "execute_result"
    }
   ],
   "source": [
    "variable[-1]"
   ]
  },
  {
   "cell_type": "code",
   "execution_count": 91,
   "id": "67154d04-a8a2-4d4a-8d9e-4f0e2c3a310b",
   "metadata": {},
   "outputs": [
    {
     "data": {
      "text/plain": [
       "(5, 2, '-1')"
      ]
     },
     "execution_count": 91,
     "metadata": {},
     "output_type": "execute_result"
    }
   ],
   "source": [
    "variable[0:3]"
   ]
  },
  {
   "cell_type": "code",
   "execution_count": 92,
   "id": "b8f008d5-3b81-4a56-bcc0-c5523fe89725",
   "metadata": {},
   "outputs": [
    {
     "data": {
      "text/plain": [
       "(2, '-1')"
      ]
     },
     "execution_count": 92,
     "metadata": {},
     "output_type": "execute_result"
    }
   ],
   "source": [
    "variable[1:-2]"
   ]
  },
  {
   "cell_type": "code",
   "execution_count": 93,
   "id": "4f9ce7c6-2a66-40ec-b6e7-ed65e286f885",
   "metadata": {},
   "outputs": [
    {
     "data": {
      "text/plain": [
       "(5, 2, '-1')"
      ]
     },
     "execution_count": 93,
     "metadata": {},
     "output_type": "execute_result"
    }
   ],
   "source": [
    "pos_i, pos_f= 0,2\n",
    "variable[pos_i:pos_f+1]"
   ]
  },
  {
   "cell_type": "code",
   "execution_count": 94,
   "id": "5d7457e8-e224-49cb-a0f1-00d23ac1e6bd",
   "metadata": {},
   "outputs": [
    {
     "data": {
      "text/plain": [
       "(2, '-1', [4, 2, 1])"
      ]
     },
     "execution_count": 94,
     "metadata": {},
     "output_type": "execute_result"
    }
   ],
   "source": [
    "variable[-4:4]"
   ]
  },
  {
   "cell_type": "code",
   "execution_count": 108,
   "id": "626e481e-c594-4683-b2f3-81ebd95c4066",
   "metadata": {},
   "outputs": [
    {
     "data": {
      "text/plain": [
       "(5,)"
      ]
     },
     "execution_count": 108,
     "metadata": {},
     "output_type": "execute_result"
    }
   ],
   "source": [
    "tupla= (5,)\n",
    "tupla"
   ]
  },
  {
   "cell_type": "code",
   "execution_count": 109,
   "id": "5fcf4b7d-929c-4489-8c75-a15a35d79bba",
   "metadata": {},
   "outputs": [
    {
     "data": {
      "text/plain": [
       "tuple"
      ]
     },
     "execution_count": 109,
     "metadata": {},
     "output_type": "execute_result"
    }
   ],
   "source": [
    "type(tupla)"
   ]
  },
  {
   "cell_type": "code",
   "execution_count": 111,
   "id": "ec60c049-62a4-42cd-a094-7c46052fe14d",
   "metadata": {},
   "outputs": [
    {
     "data": {
      "text/plain": [
       "1"
      ]
     },
     "execution_count": 111,
     "metadata": {},
     "output_type": "execute_result"
    }
   ],
   "source": [
    "len(tupla)"
   ]
  },
  {
   "cell_type": "code",
   "execution_count": 112,
   "id": "5c3b309d-da07-426e-8220-682d93186a42",
   "metadata": {},
   "outputs": [],
   "source": [
    "t1, t2, t3= (4,5), (6,7), (8,9)"
   ]
  },
  {
   "cell_type": "code",
   "execution_count": 117,
   "id": "7b174501-4408-41ca-8eea-67d2eda82f7a",
   "metadata": {},
   "outputs": [
    {
     "data": {
      "text/plain": [
       "(6, 7, 6, 7, 6, 7)"
      ]
     },
     "execution_count": 117,
     "metadata": {},
     "output_type": "execute_result"
    }
   ],
   "source": [
    "3* t2"
   ]
  },
  {
   "cell_type": "code",
   "execution_count": 119,
   "id": "ac86a673-4b2b-470b-891a-23cde7b4382a",
   "metadata": {},
   "outputs": [
    {
     "data": {
      "text/plain": [
       "[7, 7, 7]"
      ]
     },
     "execution_count": 119,
     "metadata": {},
     "output_type": "execute_result"
    }
   ],
   "source": [
    "3*[(3*t2)[3]] "
   ]
  },
  {
   "cell_type": "code",
   "execution_count": 120,
   "id": "cba68b7c-e885-48e1-9f3c-0e0168d717b7",
   "metadata": {},
   "outputs": [
    {
     "ename": "TypeError",
     "evalue": "'tuple' object does not support item assignment",
     "output_type": "error",
     "traceback": [
      "\u001b[31m---------------------------------------------------------------------------\u001b[39m",
      "\u001b[31mTypeError\u001b[39m                                 Traceback (most recent call last)",
      "\u001b[36mCell\u001b[39m\u001b[36m \u001b[39m\u001b[32mIn[120]\u001b[39m\u001b[32m, line 1\u001b[39m\n\u001b[32m----> \u001b[39m\u001b[32m1\u001b[39m \u001b[43mt2\u001b[49m\u001b[43m[\u001b[49m\u001b[32;43m0\u001b[39;49m\u001b[43m]\u001b[49m= (\u001b[32m5\u001b[39m,)\n",
      "\u001b[31mTypeError\u001b[39m: 'tuple' object does not support item assignment"
     ]
    }
   ],
   "source": [
    "t2[0]= (5,)"
   ]
  },
  {
   "cell_type": "markdown",
   "id": "a743ba03-2c58-469b-b9ad-80c20fa16eef",
   "metadata": {},
   "source": [
    "## Mapping: Diccionarios"
   ]
  },
  {
   "cell_type": "code",
   "execution_count": 125,
   "id": "f6784197-c133-4c57-8879-1765f03b1cb3",
   "metadata": {},
   "outputs": [
    {
     "data": {
      "text/plain": [
       "{'key': 'Valor', 'llave2': 'valor2', 'llave3': 5, 'llave4': [2, 3], 5: [-2]}"
      ]
     },
     "execution_count": 125,
     "metadata": {},
     "output_type": "execute_result"
    }
   ],
   "source": [
    "diccionario = {'key': 'Valor', 'llave2':'valor2', 'llave3':5, 'llave4':[2,3], 5:[-2]}\n",
    "diccionario"
   ]
  },
  {
   "cell_type": "code",
   "execution_count": 126,
   "id": "9230de06-0525-4f9f-91bb-8807183f6aef",
   "metadata": {},
   "outputs": [
    {
     "data": {
      "text/plain": [
       "dict"
      ]
     },
     "execution_count": 126,
     "metadata": {},
     "output_type": "execute_result"
    }
   ],
   "source": [
    "type(diccionario)"
   ]
  },
  {
   "cell_type": "code",
   "execution_count": 127,
   "id": "362efea3-511f-4f6e-a585-fd49b40f8a3f",
   "metadata": {},
   "outputs": [
    {
     "data": {
      "text/plain": [
       "[-2]"
      ]
     },
     "execution_count": 127,
     "metadata": {},
     "output_type": "execute_result"
    }
   ],
   "source": [
    "diccionario[5]"
   ]
  },
  {
   "cell_type": "code",
   "execution_count": 128,
   "id": "16b010a3-130e-41ae-b7dd-5e346eedc9a4",
   "metadata": {},
   "outputs": [
    {
     "data": {
      "text/plain": [
       "dict_keys(['key', 'llave2', 'llave3', 'llave4', 5])"
      ]
     },
     "execution_count": 128,
     "metadata": {},
     "output_type": "execute_result"
    }
   ],
   "source": [
    "diccionario.keys() #se esta usando el metodo 'keys'"
   ]
  },
  {
   "cell_type": "code",
   "execution_count": 130,
   "id": "0906ce43-c660-4d9f-8e79-a5b4cc240a8f",
   "metadata": {},
   "outputs": [
    {
     "data": {
      "text/plain": [
       "dict_values(['Valor', 'valor2', 5, [2, 3], [-2]])"
      ]
     },
     "execution_count": 130,
     "metadata": {},
     "output_type": "execute_result"
    }
   ],
   "source": [
    "diccionario.values() # se esta utilizando el metodo de 'valores'"
   ]
  },
  {
   "cell_type": "code",
   "execution_count": 131,
   "id": "0aea5d76-fc4d-4d79-80f4-5a5cfb395597",
   "metadata": {},
   "outputs": [
    {
     "data": {
      "text/plain": [
       "dict_values(['Valor', 'valor2', 5, [2, 3], [-2]])"
      ]
     },
     "execution_count": 131,
     "metadata": {},
     "output_type": "execute_result"
    }
   ],
   "source": [
    "var= diccionario.values()\n",
    "var"
   ]
  },
  {
   "cell_type": "code",
   "execution_count": 140,
   "id": "2e339ddf-2b3d-4b16-9966-01bc0c2f0d97",
   "metadata": {},
   "outputs": [
    {
     "data": {
      "text/plain": [
       "dict_values(['Valor', 'valor2', 5, [2, 3], [-2]])"
      ]
     },
     "execution_count": 140,
     "metadata": {},
     "output_type": "execute_result"
    }
   ],
   "source": [
    "list(var)\n",
    "var"
   ]
  },
  {
   "cell_type": "code",
   "execution_count": 141,
   "id": "c8d52ae6-9d87-4ddd-b354-7caa3678bf69",
   "metadata": {},
   "outputs": [
    {
     "data": {
      "text/plain": [
       "dict_values(['Valor', 'valor2', 5, [2, 3], [-2]])"
      ]
     },
     "execution_count": 141,
     "metadata": {},
     "output_type": "execute_result"
    }
   ],
   "source": [
    "tuple(var)\n",
    "var"
   ]
  },
  {
   "cell_type": "code",
   "execution_count": 142,
   "id": "cda6e798-3ffc-470e-894e-16c6a3a11e7b",
   "metadata": {},
   "outputs": [
    {
     "data": {
      "text/plain": [
       "{'key': 'Valor', 'llave2': 'valor2', 'llave3': 5, 'llave4': [2, 3], 5: [-2]}"
      ]
     },
     "execution_count": 142,
     "metadata": {},
     "output_type": "execute_result"
    }
   ],
   "source": [
    "diccionario"
   ]
  },
  {
   "cell_type": "code",
   "execution_count": 143,
   "id": "261d45e5-0264-4628-8425-60bd86275a39",
   "metadata": {},
   "outputs": [
    {
     "data": {
      "text/plain": [
       "{'key': 'Valor', 'llave2': 45, 'llave3': 5, 'llave4': [2, 3], 5: [-2]}"
      ]
     },
     "execution_count": 143,
     "metadata": {},
     "output_type": "execute_result"
    }
   ],
   "source": [
    "diccionario['llave2']= 45\n",
    "diccionario"
   ]
  },
  {
   "cell_type": "code",
   "execution_count": 144,
   "id": "96438f13-f45d-43b6-a423-cfbcc1a14d79",
   "metadata": {},
   "outputs": [
    {
     "data": {
      "text/plain": [
       "{'key': 'Valor',\n",
       " 'llave2': 45,\n",
       " 'llave3': 5,\n",
       " 'llave4': [2, 3],\n",
       " 5: [-2],\n",
       " 'vamonos': ' a mimir'}"
      ]
     },
     "execution_count": 144,
     "metadata": {},
     "output_type": "execute_result"
    }
   ],
   "source": [
    "diccionario['vamonos']= ' a mimir'\n",
    "diccionario"
   ]
  },
  {
   "cell_type": "code",
   "execution_count": 146,
   "id": "e8ef70cd-a1a0-4ae8-8b11-f8eac02ad060",
   "metadata": {},
   "outputs": [
    {
     "data": {
      "text/plain": [
       "' a mimir'"
      ]
     },
     "execution_count": 146,
     "metadata": {},
     "output_type": "execute_result"
    }
   ],
   "source": [
    "diccionario.pop('vamonos')"
   ]
  },
  {
   "cell_type": "code",
   "execution_count": 147,
   "id": "d5c598a5-4741-439b-8a37-5424f69126be",
   "metadata": {},
   "outputs": [
    {
     "data": {
      "text/plain": [
       "{'key': 'Valor', 'llave2': 45, 'llave3': 5, 'llave4': [2, 3], 5: [-2]}"
      ]
     },
     "execution_count": 147,
     "metadata": {},
     "output_type": "execute_result"
    }
   ],
   "source": [
    "diccionario"
   ]
  },
  {
   "cell_type": "code",
   "execution_count": null,
   "id": "cf7a52b4-16c5-4a48-ad74-044738bdc361",
   "metadata": {},
   "outputs": [],
   "source": []
  },
  {
   "cell_type": "code",
   "execution_count": null,
   "id": "4c6d54bd-3650-48f6-840a-9f90b346c323",
   "metadata": {},
   "outputs": [],
   "source": []
  },
  {
   "cell_type": "code",
   "execution_count": null,
   "id": "e02ce08e-b426-42a2-8201-7a44dadc57fa",
   "metadata": {},
   "outputs": [],
   "source": []
  },
  {
   "cell_type": "code",
   "execution_count": null,
   "id": "2b15f310-9c3d-43f4-bbed-0c8e4e5ec60b",
   "metadata": {},
   "outputs": [],
   "source": []
  },
  {
   "cell_type": "code",
   "execution_count": null,
   "id": "5738c28a-72cf-4358-8228-55a943b46d74",
   "metadata": {},
   "outputs": [],
   "source": []
  },
  {
   "cell_type": "code",
   "execution_count": null,
   "id": "e0539df2-973a-438d-b123-a1087dbf0948",
   "metadata": {},
   "outputs": [],
   "source": []
  },
  {
   "cell_type": "code",
   "execution_count": null,
   "id": "78d30966-8c7d-49eb-b92b-fa9adf5dde8b",
   "metadata": {},
   "outputs": [],
   "source": []
  },
  {
   "cell_type": "code",
   "execution_count": null,
   "id": "e7ba597c-0bd8-4bfa-bcee-32fbc9652578",
   "metadata": {},
   "outputs": [],
   "source": []
  },
  {
   "cell_type": "code",
   "execution_count": null,
   "id": "c9c2aa56-0f8e-4e1a-a0c0-4c9ac2ce28c6",
   "metadata": {},
   "outputs": [],
   "source": []
  },
  {
   "cell_type": "code",
   "execution_count": null,
   "id": "e5d5f2f9-e94a-47e3-a0d5-f6f2361de93a",
   "metadata": {},
   "outputs": [],
   "source": []
  },
  {
   "cell_type": "code",
   "execution_count": null,
   "id": "617e2ee1-2ccb-4557-b1d3-40602ff6a5db",
   "metadata": {},
   "outputs": [],
   "source": []
  },
  {
   "cell_type": "code",
   "execution_count": null,
   "id": "754414c9-5b57-43fe-b0c8-a1088c905fd7",
   "metadata": {},
   "outputs": [],
   "source": []
  },
  {
   "cell_type": "code",
   "execution_count": null,
   "id": "04ebf139-98f7-41ef-85cc-74235662b615",
   "metadata": {},
   "outputs": [],
   "source": []
  },
  {
   "cell_type": "code",
   "execution_count": null,
   "id": "37bb5dc3-2d53-443a-8f09-a616e166831f",
   "metadata": {},
   "outputs": [],
   "source": []
  },
  {
   "cell_type": "code",
   "execution_count": null,
   "id": "cbec31ff-b292-4829-a2a3-457fcc2bd4ce",
   "metadata": {},
   "outputs": [],
   "source": []
  },
  {
   "cell_type": "code",
   "execution_count": null,
   "id": "7a3ba70d-e778-45f7-93bc-82adf08944fd",
   "metadata": {},
   "outputs": [],
   "source": []
  },
  {
   "cell_type": "code",
   "execution_count": null,
   "id": "f5aab7f9-3e4a-4241-b5fb-1cd260e995e8",
   "metadata": {},
   "outputs": [],
   "source": []
  }
 ],
 "metadata": {
  "kernelspec": {
   "display_name": "Python 3 (ipykernel)",
   "language": "python",
   "name": "python3"
  },
  "language_info": {
   "codemirror_mode": {
    "name": "ipython",
    "version": 3
   },
   "file_extension": ".py",
   "mimetype": "text/x-python",
   "name": "python",
   "nbconvert_exporter": "python",
   "pygments_lexer": "ipython3",
   "version": "3.13.6"
  }
 },
 "nbformat": 4,
 "nbformat_minor": 5
}
