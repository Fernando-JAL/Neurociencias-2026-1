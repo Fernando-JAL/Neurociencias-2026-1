{
 "cells": [
  {
   "cell_type": "markdown",
   "id": "298d99a3-8f07-43e8-9ced-6ef05a54bd6d",
   "metadata": {},
   "source": [
    "# Más de listas"
   ]
  },
  {
   "cell_type": "code",
   "execution_count": 22,
   "id": "43842482-f604-45e9-8f4a-b31f8c415a90",
   "metadata": {},
   "outputs": [
    {
     "data": {
      "text/plain": [
       "['rojo', 2.3, 100, 'chocolate']"
      ]
     },
     "execution_count": 22,
     "metadata": {},
     "output_type": "execute_result"
    }
   ],
   "source": [
    "lista = [\"rojo\", 2.3, 100, \"chocolate\"]\n",
    "lista"
   ]
  },
  {
   "cell_type": "code",
   "execution_count": 23,
   "id": "06935185-18ff-43ea-8771-59f71336daf6",
   "metadata": {},
   "outputs": [
    {
     "data": {
      "text/plain": [
       "['rojo', 2.3, 100, 'chocolate', 'nuez']"
      ]
     },
     "execution_count": 23,
     "metadata": {},
     "output_type": "execute_result"
    }
   ],
   "source": [
    "#para agregar elementos a la lista\n",
    "lista.append(\"nuez\")\n",
    "lista"
   ]
  },
  {
   "cell_type": "code",
   "execution_count": 7,
   "id": "767124a3-e869-4966-ad4e-b805ec3d212b",
   "metadata": {},
   "outputs": [
    {
     "data": {
      "text/plain": [
       "list"
      ]
     },
     "execution_count": 7,
     "metadata": {},
     "output_type": "execute_result"
    }
   ],
   "source": [
    "#podemos crear listas vacías\n",
    "lista_vacia = []\n",
    "lista_vacia\n",
    "type(lista_vacia)"
   ]
  },
  {
   "cell_type": "markdown",
   "id": "d425be41-d05d-4a10-9fcd-1308bd182a8d",
   "metadata": {},
   "source": [
    "Usamos los : para que se inserten los tres elementos y no solo uno. "
   ]
  },
  {
   "cell_type": "code",
   "execution_count": 24,
   "id": "392e675e-dfea-474c-954d-66b4ed1d918c",
   "metadata": {},
   "outputs": [
    {
     "data": {
      "text/plain": [
       "['rojo', 2.3, 100, 'chocolate', 4, 2, 6]"
      ]
     },
     "execution_count": 24,
     "metadata": {},
     "output_type": "execute_result"
    }
   ],
   "source": [
    "lista[-1:] = [4, 2, 6]\n",
    "len(lista)\n",
    "lista"
   ]
  },
  {
   "cell_type": "code",
   "execution_count": 25,
   "id": "526ba6dc-1f64-4739-bda1-07b2cf9f199b",
   "metadata": {},
   "outputs": [
    {
     "data": {
      "text/plain": [
       "['rojo', 2.3, 'chocolate', 4, 2, 6]"
      ]
     },
     "execution_count": 25,
     "metadata": {},
     "output_type": "execute_result"
    }
   ],
   "source": [
    "#para eliminar elementos, usamos del + el elemento que queremos eliminar\n",
    "del lista[2] \n",
    "lista"
   ]
  },
  {
   "cell_type": "code",
   "execution_count": 26,
   "id": "647f5751-fbf7-4704-b425-145623191945",
   "metadata": {},
   "outputs": [
    {
     "data": {
      "text/plain": [
       "['rojo', 2.3, 2, 6]"
      ]
     },
     "execution_count": 26,
     "metadata": {},
     "output_type": "execute_result"
    }
   ],
   "source": [
    "del lista[2:4]\n",
    "lista"
   ]
  },
  {
   "cell_type": "code",
   "execution_count": 27,
   "id": "ffe6e213-3ecd-461a-96bf-c03f454ddaee",
   "metadata": {},
   "outputs": [
    {
     "data": {
      "text/plain": [
       "['rojo', 2.3]"
      ]
     },
     "execution_count": 27,
     "metadata": {},
     "output_type": "execute_result"
    }
   ],
   "source": [
    "del lista[2:4]\n",
    "lista"
   ]
  },
  {
   "cell_type": "code",
   "execution_count": 28,
   "id": "4d6b8200-9319-4011-857e-c0a829559ce6",
   "metadata": {},
   "outputs": [
    {
     "data": {
      "text/plain": [
       "[2.3]"
      ]
     },
     "execution_count": 28,
     "metadata": {},
     "output_type": "execute_result"
    }
   ],
   "source": [
    "del lista[0]\n",
    "lista"
   ]
  },
  {
   "cell_type": "code",
   "execution_count": 29,
   "id": "bf1fcc2a-fa9e-4fa6-afcd-bcfc6082af1c",
   "metadata": {},
   "outputs": [
    {
     "data": {
      "text/plain": [
       "[]"
      ]
     },
     "execution_count": 29,
     "metadata": {},
     "output_type": "execute_result"
    }
   ],
   "source": [
    "del lista[0]\n",
    "lista"
   ]
  },
  {
   "cell_type": "markdown",
   "id": "63839b85-63d4-44fe-a595-13ec55b73bc3",
   "metadata": {},
   "source": [
    "A partir de este momento ya no podemos eliminar más elementos, ya que la lista está vacía. "
   ]
  },
  {
   "cell_type": "code",
   "execution_count": 30,
   "id": "ec7dc12b-bed7-4ac1-9ea1-8fb1a88ea8a4",
   "metadata": {},
   "outputs": [
    {
     "ename": "IndexError",
     "evalue": "list assignment index out of range",
     "output_type": "error",
     "traceback": [
      "\u001b[31m---------------------------------------------------------------------------\u001b[39m",
      "\u001b[31mIndexError\u001b[39m                                Traceback (most recent call last)",
      "\u001b[36mCell\u001b[39m\u001b[36m \u001b[39m\u001b[32mIn[30]\u001b[39m\u001b[32m, line 1\u001b[39m\n\u001b[32m----> \u001b[39m\u001b[32m1\u001b[39m \u001b[38;5;28;01mdel\u001b[39;00m \u001b[43mlista\u001b[49m\u001b[43m[\u001b[49m\u001b[32;43m0\u001b[39;49m\u001b[43m]\u001b[49m\n\u001b[32m      2\u001b[39m lista\n",
      "\u001b[31mIndexError\u001b[39m: list assignment index out of range"
     ]
    }
   ],
   "source": [
    "del lista[0]\n",
    "lista"
   ]
  },
  {
   "cell_type": "code",
   "execution_count": 31,
   "id": "9f7cc314-6776-49d8-a36a-f28159c3deb0",
   "metadata": {},
   "outputs": [
    {
     "data": {
      "text/plain": [
       "[[1, 2, 3], [4, 5, 6], [7, 8, 9], [8, 7, 6]]"
      ]
     },
     "execution_count": 31,
     "metadata": {},
     "output_type": "execute_result"
    }
   ],
   "source": [
    "matriz = [[1, 2, 3],\n",
    "         [4, 5, 6],\n",
    "        [7, 8, 9],\n",
    "        [8, 7, 6]]\n",
    "matriz"
   ]
  },
  {
   "cell_type": "code",
   "execution_count": 34,
   "id": "3f40ce58-5a2c-4e55-8831-7ae1133d5fd6",
   "metadata": {},
   "outputs": [
    {
     "data": {
      "text/plain": [
       "[7, 8, 9]"
      ]
     },
     "execution_count": 34,
     "metadata": {},
     "output_type": "execute_result"
    }
   ],
   "source": [
    "a = matriz[2]\n",
    "a"
   ]
  },
  {
   "cell_type": "code",
   "execution_count": 35,
   "id": "4236ed6b-3ffb-4541-9f0b-fd966ac8a153",
   "metadata": {},
   "outputs": [
    {
     "data": {
      "text/plain": [
       "9"
      ]
     },
     "execution_count": 35,
     "metadata": {},
     "output_type": "execute_result"
    }
   ],
   "source": [
    "a[2]"
   ]
  },
  {
   "cell_type": "code",
   "execution_count": 36,
   "id": "47a32526-7328-4db4-9df7-3fec969d1c40",
   "metadata": {},
   "outputs": [
    {
     "data": {
      "text/plain": [
       "9"
      ]
     },
     "execution_count": 36,
     "metadata": {},
     "output_type": "execute_result"
    }
   ],
   "source": [
    "#otra forma de obtener nuevo sería con : \n",
    "matriz[2][-1]"
   ]
  },
  {
   "cell_type": "code",
   "execution_count": 38,
   "id": "ad0cec13-0aa8-4b08-82b5-a7f9400455e6",
   "metadata": {},
   "outputs": [
    {
     "data": {
      "text/plain": [
       "4"
      ]
     },
     "execution_count": 38,
     "metadata": {},
     "output_type": "execute_result"
    }
   ],
   "source": [
    "#para obtener el número 4\n",
    "matriz[1][0]"
   ]
  },
  {
   "cell_type": "markdown",
   "id": "e2742d14-f95a-40a3-8a62-ccd02a38684d",
   "metadata": {},
   "source": [
    "## Tuplas"
   ]
  },
  {
   "cell_type": "code",
   "execution_count": 44,
   "id": "2b052de7-7c38-4f3c-9c48-dc7ecc7f90ef",
   "metadata": {},
   "outputs": [
    {
     "data": {
      "text/plain": [
       "(5, 2, '-1', [4, 2, 1], 'pasa')"
      ]
     },
     "execution_count": 44,
     "metadata": {},
     "output_type": "execute_result"
    }
   ],
   "source": [
    "variable = (5, 2, \"-1\", [4, 2, 1], \"pasa\")\n",
    "variable"
   ]
  },
  {
   "cell_type": "code",
   "execution_count": 43,
   "id": "d30d6917-89f6-471c-9556-fb82fc5aaf6a",
   "metadata": {},
   "outputs": [
    {
     "data": {
      "text/plain": [
       "tuple"
      ]
     },
     "execution_count": 43,
     "metadata": {},
     "output_type": "execute_result"
    }
   ],
   "source": [
    "type(variable)"
   ]
  },
  {
   "cell_type": "code",
   "execution_count": 45,
   "id": "566589dd-ad3f-4904-baed-8eba8daebfac",
   "metadata": {},
   "outputs": [
    {
     "data": {
      "text/plain": [
       "'pasa'"
      ]
     },
     "execution_count": 45,
     "metadata": {},
     "output_type": "execute_result"
    }
   ],
   "source": [
    "variable[-1]"
   ]
  },
  {
   "cell_type": "code",
   "execution_count": 46,
   "id": "528cd90f-43f3-4fe6-b2f2-ab5e41582a0b",
   "metadata": {},
   "outputs": [
    {
     "data": {
      "text/plain": [
       "(2, '-1')"
      ]
     },
     "execution_count": 46,
     "metadata": {},
     "output_type": "execute_result"
    }
   ],
   "source": [
    "variable[1:-2]"
   ]
  },
  {
   "cell_type": "code",
   "execution_count": 47,
   "id": "5e7e2ed5-87c9-4e18-948e-1a83d541c8a6",
   "metadata": {},
   "outputs": [
    {
     "data": {
      "text/plain": [
       "(5, 2, '-1')"
      ]
     },
     "execution_count": 47,
     "metadata": {},
     "output_type": "execute_result"
    }
   ],
   "source": [
    "#en slicing el final siempre regresa uno menos de los indicados.\n",
    "variable[0:3]"
   ]
  },
  {
   "cell_type": "code",
   "execution_count": 48,
   "id": "b12c55d8-0c68-4f7a-b251-14c9f234d90e",
   "metadata": {},
   "outputs": [
    {
     "data": {
      "text/plain": [
       "(2, '-1', [4, 2, 1])"
      ]
     },
     "execution_count": 48,
     "metadata": {},
     "output_type": "execute_result"
    }
   ],
   "source": [
    "variable[-4:4]"
   ]
  },
  {
   "cell_type": "code",
   "execution_count": 58,
   "id": "458657bd-2e09-4300-a404-580d8f735f0e",
   "metadata": {},
   "outputs": [
    {
     "data": {
      "text/plain": [
       "(5,)"
      ]
     },
     "execution_count": 58,
     "metadata": {},
     "output_type": "execute_result"
    }
   ],
   "source": [
    "#tupla de un elemento\n",
    "tupla = (5, )\n",
    "tupla"
   ]
  },
  {
   "cell_type": "code",
   "execution_count": 57,
   "id": "0bac4d47-668c-4523-8e94-b6d7f4f63845",
   "metadata": {},
   "outputs": [
    {
     "data": {
      "text/plain": [
       "(tuple, 1)"
      ]
     },
     "execution_count": 57,
     "metadata": {},
     "output_type": "execute_result"
    }
   ],
   "source": [
    "type(tupla), len(tupla)"
   ]
  },
  {
   "cell_type": "code",
   "execution_count": 59,
   "id": "7cdd1473-9f4f-478c-beab-920af709636d",
   "metadata": {},
   "outputs": [],
   "source": [
    "t1, t2, t3 = (4, 5), (6, 7), (8, 9)"
   ]
  },
  {
   "cell_type": "code",
   "execution_count": 63,
   "id": "f4d5b0b9-9e86-4acf-b526-6b3a05b42beb",
   "metadata": {},
   "outputs": [
    {
     "data": {
      "text/plain": [
       "(6, 7, 6, 7, 6, 7)"
      ]
     },
     "execution_count": 63,
     "metadata": {},
     "output_type": "execute_result"
    }
   ],
   "source": [
    "# la suma entre tuplas y multicación de una tupla por un entero si esta definida, el resto de las operaciones no. \n",
    "3*t2"
   ]
  },
  {
   "cell_type": "code",
   "execution_count": 65,
   "id": "b9303689-5fdb-4875-a7aa-e90570d374ee",
   "metadata": {},
   "outputs": [
    {
     "data": {
      "text/plain": [
       "7"
      ]
     },
     "execution_count": 65,
     "metadata": {},
     "output_type": "execute_result"
    }
   ],
   "source": [
    "(3*t2)[3]"
   ]
  },
  {
   "cell_type": "code",
   "execution_count": 67,
   "id": "cbc3f70c-ce69-4ae0-a987-d62eb0471a18",
   "metadata": {},
   "outputs": [
    {
     "data": {
      "text/plain": [
       "[7, 7, 7]"
      ]
     },
     "execution_count": 67,
     "metadata": {},
     "output_type": "execute_result"
    }
   ],
   "source": [
    "#si queremos multiplicar un elemento en especifico de la tupla... \n",
    "[(3*t2)[3]]*3"
   ]
  },
  {
   "cell_type": "code",
   "execution_count": 68,
   "id": "dd7297d8-f103-41ff-a8c9-da092cad4f14",
   "metadata": {},
   "outputs": [
    {
     "ename": "TypeError",
     "evalue": "'tuple' object does not support item assignment",
     "output_type": "error",
     "traceback": [
      "\u001b[31m---------------------------------------------------------------------------\u001b[39m",
      "\u001b[31mTypeError\u001b[39m                                 Traceback (most recent call last)",
      "\u001b[36mCell\u001b[39m\u001b[36m \u001b[39m\u001b[32mIn[68]\u001b[39m\u001b[32m, line 2\u001b[39m\n\u001b[32m      1\u001b[39m \u001b[38;5;66;03m#las tuplas son inmutables \u001b[39;00m\n\u001b[32m----> \u001b[39m\u001b[32m2\u001b[39m \u001b[43mt2\u001b[49m\u001b[43m[\u001b[49m\u001b[32;43m0\u001b[39;49m\u001b[43m]\u001b[49m = \u001b[32m5\u001b[39m\n",
      "\u001b[31mTypeError\u001b[39m: 'tuple' object does not support item assignment"
     ]
    }
   ],
   "source": [
    "#las tuplas son inmutables \n",
    "t2[0] = 5"
   ]
  },
  {
   "cell_type": "markdown",
   "id": "71f63e0c-b29e-41e1-9acc-d69799bca692",
   "metadata": {},
   "source": [
    "## Mapping: diccionarios\n",
    "Cuando nosotros asociamos dos cosas\n",
    "\n",
    "Asociación por pares. \n",
    "\n",
    "Pueden ser lo que sea, no necesariamente strings"
   ]
  },
  {
   "cell_type": "code",
   "execution_count": 100,
   "id": "5d32e68a-470f-4ed8-84b2-7f0610730e20",
   "metadata": {},
   "outputs": [
    {
     "data": {
      "text/plain": [
       "{'key': 'valor', 'llave 2': 'valor2', 'llave3': 5, 'llave 4': [2, 3], 5: [-2]}"
      ]
     },
     "execution_count": 100,
     "metadata": {},
     "output_type": "execute_result"
    }
   ],
   "source": [
    "# los diccionarios llevan {} y un valor dentro de ellos\n",
    "diccionario = {\"key\" : \"valor\", \"llave 2\" : \"valor2\", \"llave3\" : 5, \"llave 4\" : [2, 3], 5: [-2]}\n",
    "diccionario"
   ]
  },
  {
   "cell_type": "code",
   "execution_count": 70,
   "id": "758f9d77-c8fc-4265-81a4-ba6ae8a20f80",
   "metadata": {},
   "outputs": [
    {
     "data": {
      "text/plain": [
       "dict"
      ]
     },
     "execution_count": 70,
     "metadata": {},
     "output_type": "execute_result"
    }
   ],
   "source": [
    "type(diccionario)"
   ]
  },
  {
   "cell_type": "code",
   "execution_count": 77,
   "id": "3ec0f12e-d214-4563-b83d-80df50e1ba9d",
   "metadata": {},
   "outputs": [
    {
     "data": {
      "text/plain": [
       "[-2]"
      ]
     },
     "execution_count": 77,
     "metadata": {},
     "output_type": "execute_result"
    }
   ],
   "source": [
    "# variantes en el slicing - regresa el valor asociado a la llave\n",
    "diccionario[5]"
   ]
  },
  {
   "cell_type": "code",
   "execution_count": 78,
   "id": "5d0d39dd-ab98-466c-8b60-763fbe3a4bc0",
   "metadata": {},
   "outputs": [
    {
     "data": {
      "text/plain": [
       "'valor2'"
      ]
     },
     "execution_count": 78,
     "metadata": {},
     "output_type": "execute_result"
    }
   ],
   "source": [
    "#regresa el valor asociado a la llave\n",
    "diccionario[\"llave 2\"]"
   ]
  },
  {
   "cell_type": "code",
   "execution_count": 79,
   "id": "0554545b-a8f3-4893-a3dc-05266499c369",
   "metadata": {},
   "outputs": [
    {
     "data": {
      "text/plain": [
       "dict_keys(['key', 'llave 2', 'llave3', 'llave 4', 5])"
      ]
     },
     "execution_count": 79,
     "metadata": {},
     "output_type": "execute_result"
    }
   ],
   "source": [
    "#para recuperar todas las llaves\n",
    "diccionario.keys()"
   ]
  },
  {
   "cell_type": "markdown",
   "id": "6c465d17-aac3-45af-b251-cbc710865567",
   "metadata": {},
   "source": [
    ".() se utiliza un método, en el caso anterior se utilizó _keys_"
   ]
  },
  {
   "cell_type": "code",
   "execution_count": 80,
   "id": "63b7eb1b-fde7-4653-90f4-ea8143c3da1e",
   "metadata": {},
   "outputs": [
    {
     "data": {
      "text/plain": [
       "dict_values(['valor', 'valor2', 5, [2, 3], [-2]])"
      ]
     },
     "execution_count": 80,
     "metadata": {},
     "output_type": "execute_result"
    }
   ],
   "source": [
    "#para recuperar los valores. Aquí usamos el método de valores\n",
    "diccionario.values()"
   ]
  },
  {
   "cell_type": "code",
   "execution_count": 88,
   "id": "5107f7d3-b519-46ae-a36d-b72fb7cecec2",
   "metadata": {},
   "outputs": [
    {
     "data": {
      "text/plain": [
       "dict_values(['valor', 'valor2', 5, [2, 3], [-2]])"
      ]
     },
     "execution_count": 88,
     "metadata": {},
     "output_type": "execute_result"
    }
   ],
   "source": [
    "var = diccionario.values()\n",
    "var"
   ]
  },
  {
   "cell_type": "code",
   "execution_count": 89,
   "id": "10229047-cd8d-4d0f-a829-a03cfa419288",
   "metadata": {},
   "outputs": [
    {
     "data": {
      "text/plain": [
       "dict_values"
      ]
     },
     "execution_count": 89,
     "metadata": {},
     "output_type": "execute_result"
    }
   ],
   "source": [
    "type(var)"
   ]
  },
  {
   "cell_type": "markdown",
   "id": "05d06097-bde1-4fe0-a3b8-fd15d6a34c52",
   "metadata": {},
   "source": [
    "##### Para convertir en otro tipo de datos"
   ]
  },
  {
   "cell_type": "code",
   "execution_count": 90,
   "id": "ad53aa4f-422d-4b70-bfdb-301b99655936",
   "metadata": {},
   "outputs": [
    {
     "data": {
      "text/plain": [
       "['valor', 'valor2', 5, [2, 3], [-2]]"
      ]
     },
     "execution_count": 90,
     "metadata": {},
     "output_type": "execute_result"
    }
   ],
   "source": [
    "list(var)"
   ]
  },
  {
   "cell_type": "code",
   "execution_count": 92,
   "id": "86686aa6-7620-48d1-8dbd-f9eead420cef",
   "metadata": {},
   "outputs": [
    {
     "data": {
      "text/plain": [
       "('valor', 'valor2', 5, [2, 3], [-2])"
      ]
     },
     "execution_count": 92,
     "metadata": {},
     "output_type": "execute_result"
    }
   ],
   "source": [
    "tuple(var)"
   ]
  },
  {
   "cell_type": "code",
   "execution_count": 101,
   "id": "7900dea4-b2dd-4708-9973-d9bef7415e5d",
   "metadata": {},
   "outputs": [
    {
     "data": {
      "text/plain": [
       "{'key': 'valor', 'llave 2': 45, 'llave3': 5, 'llave 4': [2, 3], 5: [-2]}"
      ]
     },
     "execution_count": 101,
     "metadata": {},
     "output_type": "execute_result"
    }
   ],
   "source": [
    "# los diccionarios son mutables\n",
    "diccionario[\"llave 2\"] = 45\n",
    "diccionario"
   ]
  },
  {
   "cell_type": "code",
   "execution_count": 102,
   "id": "11ba49ae-5043-4e72-af76-023c7005fdc3",
   "metadata": {},
   "outputs": [
    {
     "data": {
      "text/plain": [
       "{'key': 'valor',\n",
       " 'llave 2': 45,\n",
       " 'llave3': 5,\n",
       " 'llave 4': [2, 3],\n",
       " 5: [-2],\n",
       " 'vamosnos': 'a mimir'}"
      ]
     },
     "execution_count": 102,
     "metadata": {},
     "output_type": "execute_result"
    }
   ],
   "source": [
    "diccionario[\"vamosnos\"] = \"a mimir\"\n",
    "diccionario"
   ]
  },
  {
   "cell_type": "code",
   "execution_count": 103,
   "id": "e476938f-8756-4e9d-ae76-a7456fcf7c92",
   "metadata": {},
   "outputs": [
    {
     "data": {
      "text/plain": [
       "'a mimir'"
      ]
     },
     "execution_count": 103,
     "metadata": {},
     "output_type": "execute_result"
    }
   ],
   "source": [
    "#.pop() nos ayuda a eliminar elementos de nuestro diccionario\n",
    "diccionario.pop(\"vamosnos\")"
   ]
  },
  {
   "cell_type": "code",
   "execution_count": 104,
   "id": "231a6a51-c888-4b32-a6b3-83f1df7db465",
   "metadata": {},
   "outputs": [
    {
     "data": {
      "text/plain": [
       "{'key': 'valor', 'llave 2': 45, 'llave3': 5, 'llave 4': [2, 3], 5: [-2]}"
      ]
     },
     "execution_count": 104,
     "metadata": {},
     "output_type": "execute_result"
    }
   ],
   "source": [
    "diccionario"
   ]
  },
  {
   "cell_type": "code",
   "execution_count": null,
   "id": "34971f66-8f2e-429e-944a-bbd9d0696f26",
   "metadata": {},
   "outputs": [],
   "source": []
  },
  {
   "cell_type": "code",
   "execution_count": null,
   "id": "6f169db1-e9f0-4a15-b285-2849358197f1",
   "metadata": {},
   "outputs": [],
   "source": []
  },
  {
   "cell_type": "code",
   "execution_count": null,
   "id": "7fcdae22-0f61-45ad-90cd-defc0673c562",
   "metadata": {},
   "outputs": [],
   "source": []
  },
  {
   "cell_type": "code",
   "execution_count": null,
   "id": "29e8e39a-cdb1-4a7a-ad7a-8d3f2983f989",
   "metadata": {},
   "outputs": [],
   "source": []
  },
  {
   "cell_type": "code",
   "execution_count": null,
   "id": "72faf7fa-47ff-4b10-ad29-c2a99bc85f54",
   "metadata": {},
   "outputs": [],
   "source": []
  },
  {
   "cell_type": "code",
   "execution_count": null,
   "id": "4661143b-ddf3-4e41-ab58-65534574774b",
   "metadata": {},
   "outputs": [],
   "source": []
  }
 ],
 "metadata": {
  "kernelspec": {
   "display_name": "Python 3 (ipykernel)",
   "language": "python",
   "name": "python3"
  },
  "language_info": {
   "codemirror_mode": {
    "name": "ipython",
    "version": 3
   },
   "file_extension": ".py",
   "mimetype": "text/x-python",
   "name": "python",
   "nbconvert_exporter": "python",
   "pygments_lexer": "ipython3",
   "version": "3.13.6"
  }
 },
 "nbformat": 4,
 "nbformat_minor": 5
}
