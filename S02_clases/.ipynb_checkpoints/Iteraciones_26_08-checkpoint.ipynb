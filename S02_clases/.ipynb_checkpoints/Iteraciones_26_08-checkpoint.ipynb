{
 "cells": [
  {
   "cell_type": "markdown",
   "id": "397b683a-018a-4477-b0fd-7b400e3c65fa",
   "metadata": {},
   "source": [
    "# Iteraciones\n",
    "\n",
    "Iterar, significa realizar una acción varias veces. A cada vez que se repite el conjunto de acciones, se dice que es una iteración. \n",
    "\n",
    "## Sentencia While\n",
    "\n",
    "Se basa en repetir un bloque de código a partir de una condición lógica. Dicho bloque de código se repetirá __mientras__ que la condición sea true. "
   ]
  },
  {
   "cell_type": "code",
   "execution_count": 3,
   "id": "f3d925e9-a320-425d-93a2-f31a6fefd3ab",
   "metadata": {},
   "outputs": [
    {
     "name": "stdout",
     "output_type": "stream",
     "text": [
      "el valor de la variable es 0\n",
      "el valor de la variable es 2\n",
      "el valor de la variable es 4\n",
      "el valor de la variable es 6\n",
      "el valor de la variable es 8\n",
      "código después del while\n"
     ]
    }
   ],
   "source": [
    "variable = 0 \n",
    "\n",
    "while variable < 10:\n",
    "    print(\"el valor de la variable es\", variable)\n",
    "    variable += 2\n",
    "\n",
    "print(\"código después del while\")"
   ]
  },
  {
   "cell_type": "markdown",
   "id": "4932d872-6227-47f0-9641-b09b9c995cf6",
   "metadata": {},
   "source": [
    "Diferencia con _if_, el _if_ solo funciona una vez, en cambio __while__ se puede correr múltiple veces, mientras la condicional sea True. "
   ]
  },
  {
   "cell_type": "code",
   "execution_count": 5,
   "id": "0558a0c7-906a-41e0-86fb-82e5e8ad188d",
   "metadata": {},
   "outputs": [
    {
     "name": "stdout",
     "output_type": "stream",
     "text": [
      "1\n",
      "2\n",
      "3\n",
      "4\n",
      "5\n",
      "6\n",
      "código en else del while\n",
      "código después del while\n"
     ]
    }
   ],
   "source": [
    "variable = 0\n",
    "\n",
    "while variable <= 5:\n",
    "    variable += 1\n",
    "    print(variable)\n",
    "else:\n",
    "    print(\"código en else del while\") # se ejecuta terminando las iteraciones del while.\n",
    "\n",
    "print(\"código después del while\")"
   ]
  },
  {
   "cell_type": "markdown",
   "id": "c7b41a87-1ace-4efb-8df1-aab1ce7c4cac",
   "metadata": {},
   "source": [
    "## Palabras reservadas relacionadas a while\n",
    "\n",
    "### continue y break"
   ]
  },
  {
   "cell_type": "code",
   "execution_count": 9,
   "id": "2698f1cd-1e11-4898-bf6f-0f59ffe44f36",
   "metadata": {},
   "outputs": [
    {
     "name": "stdout",
     "output_type": "stream",
     "text": [
      "1\n",
      "código después de break\n",
      "2\n",
      "código después de break\n",
      "3\n",
      "entró al condicional para activar el break\n",
      "código después del while\n"
     ]
    }
   ],
   "source": [
    "variable = 0\n",
    "\n",
    "while variable <= 5:\n",
    "    variable += 1\n",
    "    print(variable)\n",
    "    if variable == 3:\n",
    "        print(\"entró al condicional para activar el break\")\n",
    "        break\n",
    "    print(\"código después de break\")\n",
    "else:\n",
    "    print(\"código en else del while\")  \n",
    "\n",
    "print(\"código después del while\")"
   ]
  },
  {
   "cell_type": "markdown",
   "id": "c5972c92-2f3e-45d1-8b69-e59da80a2226",
   "metadata": {},
   "source": [
    "*break* rompe, sale del while, ignora todo lo que tiene"
   ]
  },
  {
   "cell_type": "code",
   "execution_count": 10,
   "id": "19fa58b7-983d-4fed-bbe0-3cfd4411a44f",
   "metadata": {},
   "outputs": [
    {
     "name": "stdout",
     "output_type": "stream",
     "text": [
      "1\n",
      "código después del continue\n",
      "2\n",
      "código después del continue\n",
      "3\n",
      "entró al condicional para activar el continue\n",
      "4\n",
      "código después del continue\n",
      "5\n",
      "código después del continue\n",
      "6\n",
      "código después del continue\n",
      "código en else del while\n",
      "código después del while\n"
     ]
    }
   ],
   "source": [
    "variable = 0\n",
    "\n",
    "while variable <= 5:\n",
    "    variable += 1\n",
    "    print(variable)\n",
    "    if variable == 3:\n",
    "        print(\"entró al condicional para activar el continue\")\n",
    "        continue\n",
    "    print(\"código después del continue\")\n",
    "else:\n",
    "    print(\"código en else del while\")  \n",
    "\n",
    "print(\"código después del while\")"
   ]
  },
  {
   "cell_type": "markdown",
   "id": "e9898912-c99e-4efd-b804-266a78a2d133",
   "metadata": {},
   "source": [
    "*continue* permite continuar, salta el código de después pero continúa con la iteración. "
   ]
  },
  {
   "cell_type": "markdown",
   "id": "699dad3c-c907-4da7-b92e-73b549d1a1cc",
   "metadata": {},
   "source": [
    "## Controlador de flujo for"
   ]
  },
  {
   "cell_type": "code",
   "execution_count": 11,
   "id": "81677c99-a332-4a9a-aab6-b77a7cfdda96",
   "metadata": {},
   "outputs": [
    {
     "name": "stdout",
     "output_type": "stream",
     "text": [
      "2\n",
      "4\n",
      "6\n",
      "8\n",
      "10\n",
      "12\n",
      "14\n",
      "16\n",
      "18\n"
     ]
    }
   ],
   "source": [
    "listas = [2, 4, 6, 8, 10, 12, 14, 16, 18]\n",
    "\n",
    "# for es para objetos iterables, como listas, tuplas, diccionarios...\n",
    "for valor in listas:\n",
    "    print(valor) # valor es una variable local, la tenemos que definir nosotros"
   ]
  },
  {
   "cell_type": "code",
   "execution_count": 13,
   "id": "486df5c2-808b-43f6-b44b-57e0f80a365b",
   "metadata": {},
   "outputs": [
    {
     "name": "stdout",
     "output_type": "stream",
     "text": [
      "0\n",
      "1\n",
      "2\n",
      "3\n",
      "4\n",
      "5\n",
      "6\n",
      "7\n",
      "8\n",
      "9\n"
     ]
    }
   ],
   "source": [
    "# range(pos_inicial, pos_final+1, salto)\n",
    "\n",
    "for valor in range(10):\n",
    "    print(valor)"
   ]
  },
  {
   "cell_type": "code",
   "execution_count": 14,
   "id": "175a7771-4b65-498d-8d8f-efa5546d3979",
   "metadata": {},
   "outputs": [
    {
     "name": "stdout",
     "output_type": "stream",
     "text": [
      "c\n",
      "a\n",
      "d\n",
      "e\n",
      "n\n",
      "a\n"
     ]
    }
   ],
   "source": [
    "for letra in \"cadena\":\n",
    "    print(letra)"
   ]
  },
  {
   "cell_type": "code",
   "execution_count": 15,
   "id": "49e84a66-6e4f-4f59-8a78-338985b16924",
   "metadata": {},
   "outputs": [
    {
     "name": "stdout",
     "output_type": "stream",
     "text": [
      "key1\n",
      "key2\n",
      "key3\n"
     ]
    }
   ],
   "source": [
    "diccionario = {\"key1\" : \"val1\", \"key2\" : \"val2\", \"key3\" : \"val3\"}\n",
    "\n",
    "for llave in diccionario:\n",
    "    print(llave)"
   ]
  },
  {
   "cell_type": "code",
   "execution_count": 17,
   "id": "a1060720-0f39-4b52-bd8b-10f3eca8a0a2",
   "metadata": {},
   "outputs": [
    {
     "name": "stdout",
     "output_type": "stream",
     "text": [
      "la lista tiene 5 elementos\n"
     ]
    }
   ],
   "source": [
    "listas = [2, 4, 6, 8, 10]\n",
    "\n",
    "longitud = 0\n",
    "for _ in listas:\n",
    "    longitud += 1\n",
    "    \n",
    "print(\"la lista tiene\", longitud, \"elementos\")"
   ]
  },
  {
   "cell_type": "code",
   "execution_count": 18,
   "id": "5da8c1e9-974c-4c73-a344-1123d2b1348c",
   "metadata": {},
   "outputs": [
    {
     "name": "stdout",
     "output_type": "stream",
     "text": [
      "El promedio de los valores de la lisra es  6.0\n"
     ]
    }
   ],
   "source": [
    "listas = [2, 4, 6, 8, 10]\n",
    "\n",
    "promedio = 0\n",
    "for valor in listas:\n",
    "    promedio += valor\n",
    "\n",
    "promedio /= len(listas)\n",
    "print(\"El promedio de los valores de la lisra es \", promedio)"
   ]
  },
  {
   "cell_type": "markdown",
   "id": "456dda96-4f2d-48a2-8705-71f0db399078",
   "metadata": {},
   "source": [
    "### Ejercicio \n",
    "Usando la lista listas = [2, 3, 4, 5, 6, 7, 8, 9, 10]\n",
    "\n",
    "Sobre cada valor de la lista determine: \n",
    "- Si el valor de la lista es par, calcule e imprime su cuadrado\n",
    "- si es impar, sume uno al valor y divide sobre 2 e imprime el resultado\n"
   ]
  },
  {
   "cell_type": "code",
   "execution_count": 28,
   "id": "f523cba5-d858-42f6-b0c1-5a0c47f43128",
   "metadata": {},
   "outputs": [
    {
     "name": "stdout",
     "output_type": "stream",
     "text": [
      "El valor 2 es par y su cuadrado es  4\n",
      "El valor 3 es impar, si le sumamos 1 y dividimos entre 2 es  2\n",
      "El valor 4 es par y su cuadrado es  16\n",
      "El valor 5 es impar, si le sumamos 1 y dividimos entre 2 es  3\n",
      "El valor 6 es par y su cuadrado es  36\n",
      "El valor 7 es impar, si le sumamos 1 y dividimos entre 2 es  4\n",
      "El valor 8 es par y su cuadrado es  64\n",
      "El valor 9 es impar, si le sumamos 1 y dividimos entre 2 es  5\n",
      "El valor 10 es par y su cuadrado es  100\n",
      "fin del ejercicio\n"
     ]
    }
   ],
   "source": [
    "lista = [2, 3, 4, 5, 6, 7, 8, 9, 10]\n",
    "\n",
    "for valor in lista:\n",
    "    if valor % 2 == 0:\n",
    "        sq = valor**2\n",
    "        print(\"El valor\", valor, \"es par y su cuadrado es \", sq)\n",
    "    elif valor % 2 != 0:\n",
    "        entre = (valor + 1) // 2\n",
    "        print(\"El valor\", valor, \"es impar, si le sumamos 1 y dividimos entre 2 es \", entre)\n",
    "\n",
    "print(\"fin del ejercicio\")"
   ]
  },
  {
   "cell_type": "markdown",
   "id": "54cc5730-a92f-4c99-9efb-1d5e52646ccc",
   "metadata": {},
   "source": [
    "## Modificar una lista al vuelo\n",
    "\n",
    "Modificar valores de la lista usando for"
   ]
  },
  {
   "cell_type": "code",
   "execution_count": 29,
   "id": "5cef38e2-3118-44fb-9539-61eaa4f7ef28",
   "metadata": {},
   "outputs": [
    {
     "data": {
      "text/plain": [
       "[2, 4, 6, 8, 10]"
      ]
     },
     "execution_count": 29,
     "metadata": {},
     "output_type": "execute_result"
    }
   ],
   "source": [
    "listas = [2, 4, 6, 8, 10]\n",
    "\n",
    "for valor in listas:\n",
    "    valor +=50\n",
    "\n",
    "listas"
   ]
  },
  {
   "cell_type": "code",
   "execution_count": 30,
   "id": "a3456762-9838-4ff2-96aa-6ed4c5b56458",
   "metadata": {},
   "outputs": [
    {
     "data": {
      "text/plain": [
       "[52, 54, 56, 58, 60]"
      ]
     },
     "execution_count": 30,
     "metadata": {},
     "output_type": "execute_result"
    }
   ],
   "source": [
    "listas = [2, 4, 6, 8, 10]\n",
    "\n",
    "indice = 0\n",
    "for valor in listas:\n",
    "    listas[indice] +=50\n",
    "    indice += 1\n",
    "\n",
    "listas"
   ]
  },
  {
   "cell_type": "markdown",
   "id": "934dde55-f03f-4eb4-90fb-30c88d5f871f",
   "metadata": {},
   "source": [
    "### método enumerate(objeto_iterable, start = 0)\n",
    "\n",
    "regresará un objeto enumerate. Este método regresará una tupla de pares, donde el primer elemento será un entero que comenzará en start y el segundo elemento de la tupla tentrá el valor del objeto iterable"
   ]
  },
  {
   "cell_type": "code",
   "execution_count": 32,
   "id": "b1dcdd49-3825-4b83-b195-324ad3e16742",
   "metadata": {},
   "outputs": [
    {
     "data": {
      "text/plain": [
       "['cadena', 'con', 'espacios']"
      ]
     },
     "execution_count": 32,
     "metadata": {},
     "output_type": "execute_result"
    }
   ],
   "source": [
    "\"cadena con espacios\".split(sep=\" \") #método"
   ]
  },
  {
   "cell_type": "code",
   "execution_count": 36,
   "id": "21e81d40-0435-4561-ac18-38aa009a41ef",
   "metadata": {},
   "outputs": [
    {
     "data": {
      "text/plain": [
       "[(0, 2), (1, 4), (2, 6), (3, 8), (4, 10)]"
      ]
     },
     "execution_count": 36,
     "metadata": {},
     "output_type": "execute_result"
    }
   ],
   "source": [
    "list(enumerate([2, 4, 6, 8, 10], start = 0))"
   ]
  },
  {
   "cell_type": "code",
   "execution_count": 37,
   "id": "09b4524c-11b0-4d7d-9702-4a4695b6c920",
   "metadata": {},
   "outputs": [
    {
     "data": {
      "text/plain": [
       "[(0, 'c'), (1, 'a'), (2, 'd'), (3, 'e'), (4, 'n'), (5, 'a')]"
      ]
     },
     "execution_count": 37,
     "metadata": {},
     "output_type": "execute_result"
    }
   ],
   "source": [
    "list(enumerate(\"cadena\"))"
   ]
  },
  {
   "cell_type": "code",
   "execution_count": 38,
   "id": "7c9a8050-2b0b-4d77-a99e-1d49418b14d9",
   "metadata": {},
   "outputs": [
    {
     "data": {
      "text/plain": [
       "[(1, 'primavera'), (2, 'verano'), (3, 'otoño'), (4, 'invierno')]"
      ]
     },
     "execution_count": 38,
     "metadata": {},
     "output_type": "execute_result"
    }
   ],
   "source": [
    "list(enumerate([\"primavera\", \"verano\", \"otoño\", \"invierno\"], start = 1))"
   ]
  },
  {
   "cell_type": "code",
   "execution_count": 39,
   "id": "c543bd62-1cdd-4c0b-8388-8366e980c965",
   "metadata": {},
   "outputs": [
    {
     "data": {
      "text/plain": [
       "[52, 54, 56, 58, 60]"
      ]
     },
     "execution_count": 39,
     "metadata": {},
     "output_type": "execute_result"
    }
   ],
   "source": [
    "listas = [2, 4, 6, 8, 10]\n",
    "\n",
    "for indice, valor in enumerate(listas):\n",
    "    listas[indice] +=50\n",
    "    indice += 1\n",
    "\n",
    "listas"
   ]
  },
  {
   "cell_type": "markdown",
   "id": "359082d8-f3bb-4aa5-b16e-168dcab18923",
   "metadata": {},
   "source": [
    "# Built-in Functions\n",
    "\n",
    "- abs( ) --> calcular el valor absoluto\n"
   ]
  },
  {
   "cell_type": "markdown",
   "id": "93ac2f04-6978-4e34-bea3-3ca67a5fde7c",
   "metadata": {},
   "source": [
    "### Tarea\n",
    "\n",
    "Hacer un ejemplo de las siguientes built-in functions\n",
    "- all\n",
    "- any\n",
    "- abs\n",
    "- input\n",
    "- max\n",
    "- min\n",
    "- pow\n",
    "- reversed\n",
    "- round\n",
    "- sorted\n",
    "- sum\n"
   ]
  },
  {
   "cell_type": "code",
   "execution_count": null,
   "id": "ddd53923-0068-4550-a751-4b03a1900db7",
   "metadata": {},
   "outputs": [],
   "source": []
  },
  {
   "cell_type": "code",
   "execution_count": null,
   "id": "2c15066b-5943-4130-9d2a-2394237387e4",
   "metadata": {},
   "outputs": [],
   "source": []
  }
 ],
 "metadata": {
  "kernelspec": {
   "display_name": "Python 3 (ipykernel)",
   "language": "python",
   "name": "python3"
  },
  "language_info": {
   "codemirror_mode": {
    "name": "ipython",
    "version": 3
   },
   "file_extension": ".py",
   "mimetype": "text/x-python",
   "name": "python",
   "nbconvert_exporter": "python",
   "pygments_lexer": "ipython3",
   "version": "3.13.6"
  }
 },
 "nbformat": 4,
 "nbformat_minor": 5
}
