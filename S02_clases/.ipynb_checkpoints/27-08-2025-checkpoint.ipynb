{
 "cells": [
  {
   "cell_type": "markdown",
   "id": "4d44c873-a700-4349-b406-49fe07d31f04",
   "metadata": {},
   "source": [
    "### Funciones\n",
    "\n",
    "Son fragmentos de codigo que se pueden ejecutar múltiples veces. Pueden recibir y/o devolver infromación/datos/variables para comunicarse con el código/ proceso principal."
   ]
  },
  {
   "cell_type": "code",
   "execution_count": 2,
   "id": "02f6d2d8-24ce-4b1b-8611-156350d0d8b0",
   "metadata": {},
   "outputs": [
    {
     "name": "stdout",
     "output_type": "stream",
     "text": [
      "Hello World, Dennis Ritchie\n"
     ]
    }
   ],
   "source": [
    "def saludar():\n",
    "    print('Hello World, Dennis Ritchie')\n",
    "\n",
    "saludar()"
   ]
  },
  {
   "cell_type": "code",
   "execution_count": 3,
   "id": "216bd989-3085-45d2-ad92-b8a39f8ca4d7",
   "metadata": {},
   "outputs": [
    {
     "name": "stdout",
     "output_type": "stream",
     "text": [
      "Hello World, Dennis Ritchie\n",
      "Hello World, Dennis Ritchie\n",
      "Hello World, Dennis Ritchie\n"
     ]
    }
   ],
   "source": [
    "for _ in range(3):\n",
    "    saludar()"
   ]
  },
  {
   "cell_type": "code",
   "execution_count": 7,
   "id": "b7e117e1-da58-4c93-a58f-4acd61686370",
   "metadata": {},
   "outputs": [
    {
     "data": {
      "text/plain": [
       "7.0"
      ]
     },
     "execution_count": 7,
     "metadata": {},
     "output_type": "execute_result"
    }
   ],
   "source": [
    "numeritos = (3, 5, 7, 9, 11)\n",
    "\n",
    "sum(numeritos)/len(numeritos)"
   ]
  },
  {
   "cell_type": "code",
   "execution_count": 11,
   "id": "5794f59d-9102-4e94-9680-cd8c2ea8489e",
   "metadata": {},
   "outputs": [],
   "source": [
    "def promedio(numeros):\n",
    "    valor_promedio = sum(numeros)/len(numeros)\n",
    "    print(f'El promedio de los numeros es {valor_promedio}')\n",
    "    return valor_promedio"
   ]
  },
  {
   "cell_type": "code",
   "execution_count": 13,
   "id": "6da416d5-f3db-492b-8262-3e392ea7233f",
   "metadata": {},
   "outputs": [
    {
     "name": "stdout",
     "output_type": "stream",
     "text": [
      "El promedio de los numeros es 7.0\n"
     ]
    }
   ],
   "source": [
    "valor_f = promedio(numeritos)"
   ]
  },
  {
   "cell_type": "code",
   "execution_count": 16,
   "id": "471b90a9-6343-4cec-9388-0d9dc6cd22ff",
   "metadata": {},
   "outputs": [],
   "source": [
    "def minimo(val_a, val_b):\n",
    "    val_minimo = min(val_a, val_b)\n",
    "    return val_minimo"
   ]
  },
  {
   "cell_type": "code",
   "execution_count": 17,
   "id": "2f45894e-a38f-4703-b01c-343232992786",
   "metadata": {},
   "outputs": [
    {
     "data": {
      "text/plain": [
       "-50"
      ]
     },
     "execution_count": 17,
     "metadata": {},
     "output_type": "execute_result"
    }
   ],
   "source": [
    "minimo(-10, -50)"
   ]
  },
  {
   "cell_type": "markdown",
   "id": "ab1fd8a2-1fe6-4332-8b77-cd26610f933f",
   "metadata": {},
   "source": [
    "# Ejercicio\n",
    "Hacer una funcion para calcular el factorial de un numero"
   ]
  },
  {
   "cell_type": "code",
   "execution_count": 4,
   "id": "cbdbdfc8-a8b4-4579-92f0-cdcc36d71573",
   "metadata": {},
   "outputs": [],
   "source": [
    "def factorial(n):\n",
    "    if n < 0:\n",
    "        return \"El factorial no está definido para números negativos\"\n",
    "    elif n == 0 or n == 1:\n",
    "        return 1\n",
    "    else:\n",
    "        resultado = 1\n",
    "        for i in range(2, n + 1):\n",
    "            resultado *= i\n",
    "        return "
   ]
  },
  {
   "cell_type": "code",
   "execution_count": 6,
   "id": "a31767a9-db39-4afc-b134-c02db5ed590c",
   "metadata": {},
   "outputs": [],
   "source": [
    "numero = 5"
   ]
  },
  {
   "cell_type": "code",
   "execution_count": 7,
   "id": "94086d96-e698-4d95-b663-13518e025323",
   "metadata": {},
   "outputs": [
    {
     "name": "stdout",
     "output_type": "stream",
     "text": [
      "El factorial de 5 es None\n"
     ]
    }
   ],
   "source": [
    "print(f\"El factorial de {numero} es {factorial(numero)}\")"
   ]
  },
  {
   "cell_type": "code",
   "execution_count": null,
   "id": "6e14de14-9a44-4bf6-b7f4-d6c0d55af3cc",
   "metadata": {},
   "outputs": [],
   "source": []
  },
  {
   "cell_type": "code",
   "execution_count": null,
   "id": "79468aca-46c2-42ba-8ae8-a3b14da89298",
   "metadata": {},
   "outputs": [],
   "source": []
  },
  {
   "cell_type": "code",
   "execution_count": null,
   "id": "b3dcdfbd-5e5c-4ac1-8143-0fb0de43ad92",
   "metadata": {},
   "outputs": [],
   "source": []
  },
  {
   "cell_type": "code",
   "execution_count": null,
   "id": "929b7b9f-6de1-44bd-8e71-9b2f9812c48a",
   "metadata": {},
   "outputs": [],
   "source": []
  }
 ],
 "metadata": {
  "kernelspec": {
   "display_name": "Python 3 (ipykernel)",
   "language": "python",
   "name": "python3"
  },
  "language_info": {
   "codemirror_mode": {
    "name": "ipython",
    "version": 3
   },
   "file_extension": ".py",
   "mimetype": "text/x-python",
   "name": "python",
   "nbconvert_exporter": "python",
   "pygments_lexer": "ipython3",
   "version": "3.10.4"
  }
 },
 "nbformat": 4,
 "nbformat_minor": 5
}
