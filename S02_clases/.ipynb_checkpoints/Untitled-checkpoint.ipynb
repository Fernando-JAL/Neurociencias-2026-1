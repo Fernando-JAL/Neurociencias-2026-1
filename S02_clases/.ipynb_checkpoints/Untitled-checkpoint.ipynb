{
 "cells": [
  {
   "cell_type": "code",
   "execution_count": 1,
   "id": "2206a9bc-a231-434f-8632-2f1d1c28353c",
   "metadata": {},
   "outputs": [],
   "source": [
    "# si tenemos un modulo en otro script pordemos llamarlo\n",
    "\n",
    "from modulo import saludo"
   ]
  },
  {
   "cell_type": "code",
   "execution_count": 2,
   "id": "355a3b27-a771-45f5-9208-a3abe1352c5d",
   "metadata": {},
   "outputs": [
    {
     "name": "stdout",
     "output_type": "stream",
     "text": [
      "hola desde el paquete\n"
     ]
    }
   ],
   "source": [
    "saludo()"
   ]
  },
  {
   "cell_type": "code",
   "execution_count": 3,
   "id": "a09a4ac7-1642-4cb7-a5f6-ed7b5127e5c6",
   "metadata": {},
   "outputs": [],
   "source": [
    "# para importar todo\n",
    "from modulo import *"
   ]
  },
  {
   "cell_type": "code",
   "execution_count": 4,
   "id": "5a39936a-09bb-4cd5-b731-237e64daf2aa",
   "metadata": {},
   "outputs": [
    {
     "name": "stdout",
     "output_type": "stream",
     "text": [
      "otra funcion\n"
     ]
    }
   ],
   "source": [
    "funcion()"
   ]
  },
  {
   "cell_type": "code",
   "execution_count": 5,
   "id": "48505faa-b261-45fa-b807-7124642e8a27",
   "metadata": {},
   "outputs": [
    {
     "data": {
      "text/plain": [
       "5"
      ]
     },
     "execution_count": 5,
     "metadata": {},
     "output_type": "execute_result"
    }
   ],
   "source": [
    "suma(2, 3)"
   ]
  },
  {
   "cell_type": "markdown",
   "id": "ae91964d-bb22-42a0-9201-f3569d7c9f3c",
   "metadata": {},
   "source": [
    "# Paquete numpy\n",
    "Numpy es un paquete enfocado en manipular información en estructuras conocidad como vectores, arreglo y matrices.\n",
    "La contribución más significativa del paquete numpy es la introducción de un tipo de dato llamado array."
   ]
  },
  {
   "cell_type": "code",
   "execution_count": 7,
   "id": "4ece862e-1a20-4fbb-952b-6f0be2463fe3",
   "metadata": {},
   "outputs": [],
   "source": [
    "import numpy as np"
   ]
  },
  {
   "cell_type": "code",
   "execution_count": null,
   "id": "25fc5ea3-81ba-4235-9e7a-29df90371226",
   "metadata": {},
   "outputs": [],
   "source": [
    "# con \"numpy.\" y tabulador nos aparecen todas las formulas del paquete\n",
    "numpy."
   ]
  },
  {
   "cell_type": "code",
   "execution_count": null,
   "id": "ac27ebd9-f7f5-4223-9c88-4bc88c42ce4d",
   "metadata": {},
   "outputs": [],
   "source": [
    "np."
   ]
  },
  {
   "cell_type": "code",
   "execution_count": 8,
   "id": "f1145fef-7894-46a6-9bde-37903bc6d64e",
   "metadata": {},
   "outputs": [
    {
     "data": {
      "text/plain": [
       "numpy.ndarray"
      ]
     },
     "execution_count": 8,
     "metadata": {},
     "output_type": "execute_result"
    }
   ],
   "source": [
    "numpy.ndarray"
   ]
  },
  {
   "cell_type": "code",
   "execution_count": 9,
   "id": "59c4fd33-6cc7-4414-a74e-e806630c95de",
   "metadata": {},
   "outputs": [
    {
     "ename": "SyntaxError",
     "evalue": "invalid syntax. Perhaps you forgot a comma? (231087333.py, line 2)",
     "output_type": "error",
     "traceback": [
      "\u001b[1;36m  Cell \u001b[1;32mIn[9], line 2\u001b[1;36m\u001b[0m\n\u001b[1;33m    [4. 5, 6]\u001b[0m\n\u001b[1;37m     ^\u001b[0m\n\u001b[1;31mSyntaxError\u001b[0m\u001b[1;31m:\u001b[0m invalid syntax. Perhaps you forgot a comma?\n"
     ]
    }
   ],
   "source": [
    "variable2d = np.array([\n",
    "    [4. 5, 6]\n",
    "    [7, 8, 9]\n",
    "])\n",
    "type(variable2d), variable2d.ndim"
   ]
  },
  {
   "cell_type": "code",
   "execution_count": 10,
   "id": "193acb99-6bec-4042-a891-bc2114144df1",
   "metadata": {},
   "outputs": [
    {
     "ename": "NameError",
     "evalue": "name 'variable2d' is not defined",
     "output_type": "error",
     "traceback": [
      "\u001b[1;31m---------------------------------------------------------------------------\u001b[0m",
      "\u001b[1;31mNameError\u001b[0m                                 Traceback (most recent call last)",
      "Cell \u001b[1;32mIn[10], line 1\u001b[0m\n\u001b[1;32m----> 1\u001b[0m \u001b[43mvariable2d\u001b[49m\n",
      "\u001b[1;31mNameError\u001b[0m: name 'variable2d' is not defined"
     ]
    }
   ],
   "source": [
    "variable2d"
   ]
  },
  {
   "cell_type": "code",
   "execution_count": null,
   "id": "fa0e880b-a756-413a-b085-a5e75c9b3705",
   "metadata": {},
   "outputs": [],
   "source": [
    "(numpy.ndarray, 2, "
   ]
  },
  {
   "cell_type": "code",
   "execution_count": 11,
   "id": "2d528757-ed9e-472f-8c27-72b0e216ccef",
   "metadata": {},
   "outputs": [],
   "source": [
    "# los arreglos son en python y las matrices en matlab"
   ]
  },
  {
   "cell_type": "code",
   "execution_count": 12,
   "id": "5779218d-f51e-4213-b594-b71c23a76bbf",
   "metadata": {},
   "outputs": [
    {
     "data": {
      "text/plain": [
       "array([0., 0., 0., 0., 0., 0.])"
      ]
     },
     "execution_count": 12,
     "metadata": {},
     "output_type": "execute_result"
    }
   ],
   "source": [
    "np.zeros(6)"
   ]
  },
  {
   "cell_type": "code",
   "execution_count": 13,
   "id": "f6a0227f-08ea-4576-8559-3c98a80252d1",
   "metadata": {},
   "outputs": [
    {
     "data": {
      "text/plain": [
       "(array([0., 0., 0., 0., 0., 0.]),\n",
       " array([[0., 0., 0., 0.],\n",
       "        [0., 0., 0., 0.],\n",
       "        [0., 0., 0., 0.]]))"
      ]
     },
     "execution_count": 13,
     "metadata": {},
     "output_type": "execute_result"
    }
   ],
   "source": [
    "# arreglos de puros ceros\n",
    "np.zeros(6), np.zeros([3, 4])"
   ]
  },
  {
   "cell_type": "code",
   "execution_count": 15,
   "id": "e8902e53-762f-4453-83cc-0b4d28971dbd",
   "metadata": {},
   "outputs": [
    {
     "data": {
      "text/plain": [
       "(array([1., 1., 1., 1.]),\n",
       " array([[[1., 1., 1., 1.],\n",
       "         [1., 1., 1., 1.],\n",
       "         [1., 1., 1., 1.]],\n",
       " \n",
       "        [[1., 1., 1., 1.],\n",
       "         [1., 1., 1., 1.],\n",
       "         [1., 1., 1., 1.]]]))"
      ]
     },
     "execution_count": 15,
     "metadata": {},
     "output_type": "execute_result"
    }
   ],
   "source": [
    "# arreglo de unos\n",
    "np.ones(4), np.ones([2, 3, 4])"
   ]
  },
  {
   "cell_type": "code",
   "execution_count": 16,
   "id": "bf3eac2b-80fe-4dfa-bd3e-8389d0165305",
   "metadata": {},
   "outputs": [
    {
     "data": {
      "text/plain": [
       "array([[1., 0., 0.],\n",
       "       [0., 1., 0.],\n",
       "       [0., 0., 1.]])"
      ]
     },
     "execution_count": 16,
     "metadata": {},
     "output_type": "execute_result"
    }
   ],
   "source": [
    "# matriz identidad --> arreglos de puros unos\n",
    "np.eye(3)"
   ]
  },
  {
   "cell_type": "code",
   "execution_count": 17,
   "id": "faee7a51-9dc4-4594-acb6-022012d6bfbd",
   "metadata": {},
   "outputs": [
    {
     "data": {
      "text/plain": [
       "array([[1., 0., 0., 0., 0.],\n",
       "       [0., 1., 0., 0., 0.],\n",
       "       [0., 0., 1., 0., 0.],\n",
       "       [0., 0., 0., 1., 0.],\n",
       "       [0., 0., 0., 0., 1.]])"
      ]
     },
     "execution_count": 17,
     "metadata": {},
     "output_type": "execute_result"
    }
   ],
   "source": [
    "np.eye(5)"
   ]
  },
  {
   "cell_type": "code",
   "execution_count": 35,
   "id": "b377892f-c3ec-41e3-bdf9-0880dfe712f4",
   "metadata": {},
   "outputs": [
    {
     "data": {
      "text/plain": [
       "array([[  8., -10., -10., -10.],\n",
       "       [-10.,   8., -10., -10.],\n",
       "       [-10., -10.,   8., -10.],\n",
       "       [-10., -10., -10.,   8.]])"
      ]
     },
     "execution_count": 35,
     "metadata": {},
     "output_type": "execute_result"
    }
   ],
   "source": [
    "# Ejercicio : crear un arreglo de 4x4 cuyos elementos en la diagonal sean iguales a 8 pero fuera de la diagonal sea igual a -10\n",
    "\n",
    "valor = -10*np.ones([4, 4]) + 18*np.eye(4)\n",
    "valor"
   ]
  },
  {
   "cell_type": "code",
   "execution_count": 40,
   "id": "6d0cafc7-2639-4985-b470-cb3669912842",
   "metadata": {},
   "outputs": [
    {
     "data": {
      "text/plain": [
       "array([[ 64., 100., 100., 100.],\n",
       "       [100.,  64., 100., 100.],\n",
       "       [100., 100.,  64., 100.],\n",
       "       [100., 100., 100.,  64.]])"
      ]
     },
     "execution_count": 40,
     "metadata": {},
     "output_type": "execute_result"
    }
   ],
   "source": [
    "#la potencia en python se escribe como **\n",
    "valor**2"
   ]
  },
  {
   "cell_type": "code",
   "execution_count": 41,
   "id": "db8e0839-2a32-462c-b534-995b4e2080be",
   "metadata": {},
   "outputs": [
    {
     "data": {
      "text/plain": [
       "array([[ 0.125, -0.1  , -0.1  , -0.1  ],\n",
       "       [-0.1  ,  0.125, -0.1  , -0.1  ],\n",
       "       [-0.1  , -0.1  ,  0.125, -0.1  ],\n",
       "       [-0.1  , -0.1  , -0.1  ,  0.125]])"
      ]
     },
     "execution_count": 41,
     "metadata": {},
     "output_type": "execute_result"
    }
   ],
   "source": [
    "# la división no estpa definida en las matrices pero a python le vale y sí lo hace \n",
    "1/valor"
   ]
  },
  {
   "cell_type": "code",
   "execution_count": null,
   "id": "3a2878cb-b0c4-46cf-a665-33ce213dfd0b",
   "metadata": {},
   "outputs": [],
   "source": []
  },
  {
   "cell_type": "code",
   "execution_count": null,
   "id": "08f9ca6b-796d-49ea-8dd9-a97cb7f0f66f",
   "metadata": {},
   "outputs": [],
   "source": []
  },
  {
   "cell_type": "code",
   "execution_count": null,
   "id": "51c693f9-e7fc-4bd8-a2c7-4f122b7ee496",
   "metadata": {},
   "outputs": [],
   "source": []
  },
  {
   "cell_type": "code",
   "execution_count": 20,
   "id": "64589a1b-d733-441c-beea-8f95943a0239",
   "metadata": {},
   "outputs": [
    {
     "data": {
      "text/plain": [
       "array([[-10, -10, -10, -10],\n",
       "       [-10, -10, -10, -10],\n",
       "       [-10, -10, -10, -10],\n",
       "       [-10, -10, -10, -10]])"
      ]
     },
     "execution_count": 20,
     "metadata": {},
     "output_type": "execute_result"
    }
   ],
   "source": [
    "np.full((4, 4), -10)"
   ]
  },
  {
   "cell_type": "code",
   "execution_count": null,
   "id": "6ac56299-1037-467f-b3ad-7e0949c8b669",
   "metadata": {},
   "outputs": [],
   "source": []
  },
  {
   "cell_type": "code",
   "execution_count": null,
   "id": "bc330b1f-ff31-46d0-a085-988a72f00b3d",
   "metadata": {},
   "outputs": [],
   "source": []
  },
  {
   "cell_type": "code",
   "execution_count": null,
   "id": "7a7c255f-59fa-4992-b2b2-8010d691fbc4",
   "metadata": {},
   "outputs": [],
   "source": []
  }
 ],
 "metadata": {
  "kernelspec": {
   "display_name": "Python 3 (ipykernel)",
   "language": "python",
   "name": "python3"
  },
  "language_info": {
   "codemirror_mode": {
    "name": "ipython",
    "version": 3
   },
   "file_extension": ".py",
   "mimetype": "text/x-python",
   "name": "python",
   "nbconvert_exporter": "python",
   "pygments_lexer": "ipython3",
   "version": "3.10.4"
  }
 },
 "nbformat": 4,
 "nbformat_minor": 5
}
