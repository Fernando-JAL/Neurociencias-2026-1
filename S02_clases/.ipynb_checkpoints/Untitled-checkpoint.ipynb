{
 "cells": [
  {
   "cell_type": "code",
   "execution_count": 2,
   "id": "dca45c06-9f37-4bad-8b87-ec758b3f3246",
   "metadata": {},
   "outputs": [],
   "source": [
    "import numpy as np"
   ]
  },
  {
   "cell_type": "code",
   "execution_count": 6,
   "id": "e087199d-32dd-4859-a4a5-2dbb950528f1",
   "metadata": {},
   "outputs": [
    {
     "name": "stdout",
     "output_type": "stream",
     "text": [
      "value = {5, 'string'}, data type= <class 'numpy.ndarray'>\n"
     ]
    }
   ],
   "source": [
    "#convertir datos a arreglos \n",
    "value = np.array ({5, \"string\"})\n",
    "print (f\"value = {value}, data type= {type(value)}\")"
   ]
  },
  {
   "cell_type": "code",
   "execution_count": 13,
   "id": "4017be84-b8a6-4650-901e-6382e676b1e7",
   "metadata": {},
   "outputs": [
    {
     "data": {
      "text/plain": [
       "array([-5, -4, -3, -2])"
      ]
     },
     "execution_count": 13,
     "metadata": {},
     "output_type": "execute_result"
    }
   ],
   "source": [
    "np.array(range(-7,6)) [2:6]\n"
   ]
  },
  {
   "cell_type": "code",
   "execution_count": 22,
   "id": "eefccc28-e569-4221-bf2d-4a7240d079d8",
   "metadata": {},
   "outputs": [
    {
     "data": {
      "text/plain": [
       "(array([0, 1, 2, 3, 4]), array([-10,  -9,  -8,  -7,  -6]))"
      ]
     },
     "execution_count": 22,
     "metadata": {},
     "output_type": "execute_result"
    }
   ],
   "source": [
    "a,b = np.arange(5), np.arange(-10,-5)\n",
    "a,b"
   ]
  },
  {
   "cell_type": "code",
   "execution_count": 25,
   "id": "ed01e03a-6501-4e75-a723-bf95d9c7edc4",
   "metadata": {},
   "outputs": [
    {
     "data": {
      "text/plain": [
       "array([  0,  -9, -16, -21, -24])"
      ]
     },
     "execution_count": 25,
     "metadata": {},
     "output_type": "execute_result"
    }
   ],
   "source": [
    "a * b"
   ]
  },
  {
   "cell_type": "code",
   "execution_count": 31,
   "id": "4c3f11ad-a02e-4d4f-908c-128daff432a2",
   "metadata": {},
   "outputs": [],
   "source": [
    "matriz = np.array ([[0, 5, 10],\n",
    "                    [15, 20, 25],\n",
    "                    [99,35,40]])"
   ]
  },
  {
   "cell_type": "code",
   "execution_count": 36,
   "id": "09365f37-68fc-41c4-8c46-98c95a45a93c",
   "metadata": {},
   "outputs": [
    {
     "data": {
      "text/plain": [
       "array([15, 20, 25])"
      ]
     },
     "execution_count": 36,
     "metadata": {},
     "output_type": "execute_result"
    }
   ],
   "source": [
    "matriz[0:2][1]"
   ]
  },
  {
   "cell_type": "code",
   "execution_count": null,
   "id": "ccb6f9b1-1460-4822-81a1-c06e56133a8a",
   "metadata": {},
   "outputs": [],
   "source": []
  },
  {
   "cell_type": "code",
   "execution_count": null,
   "id": "0a261618-03e5-4ff8-9bbd-c34b91d76d40",
   "metadata": {},
   "outputs": [],
   "source": []
  },
  {
   "cell_type": "code",
   "execution_count": null,
   "id": "0e87d6ed-be7a-49f0-8bb6-ca6145ecb1cf",
   "metadata": {},
   "outputs": [],
   "source": []
  },
  {
   "cell_type": "code",
   "execution_count": null,
   "id": "fd08f216-8e59-45d8-be0f-2488746607e9",
   "metadata": {},
   "outputs": [],
   "source": []
  },
  {
   "cell_type": "code",
   "execution_count": null,
   "id": "9905ddfd-f9c3-4da6-9733-f1220e8630e5",
   "metadata": {},
   "outputs": [],
   "source": []
  },
  {
   "cell_type": "code",
   "execution_count": null,
   "id": "4f6f5031-07ce-4797-ad07-385d990f7b56",
   "metadata": {},
   "outputs": [],
   "source": []
  },
  {
   "cell_type": "code",
   "execution_count": null,
   "id": "779bad14-3d7c-4476-97ac-02944df702e2",
   "metadata": {},
   "outputs": [],
   "source": []
  }
 ],
 "metadata": {
  "kernelspec": {
   "display_name": "Python 3 (ipykernel)",
   "language": "python",
   "name": "python3"
  },
  "language_info": {
   "codemirror_mode": {
    "name": "ipython",
    "version": 3
   },
   "file_extension": ".py",
   "mimetype": "text/x-python",
   "name": "python",
   "nbconvert_exporter": "python",
   "pygments_lexer": "ipython3",
   "version": "3.13.7"
  }
 },
 "nbformat": 4,
 "nbformat_minor": 5
}
