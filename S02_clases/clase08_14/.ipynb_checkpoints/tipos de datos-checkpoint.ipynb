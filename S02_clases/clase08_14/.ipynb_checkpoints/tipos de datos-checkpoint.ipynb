{
 "cells": [
  {
   "cell_type": "code",
   "execution_count": 2,
   "id": "092bde4b-be6f-4add-b905-359cb2d86f8e",
   "metadata": {},
   "outputs": [
    {
     "data": {
      "text/plain": [
       "1"
      ]
     },
     "execution_count": 2,
     "metadata": {},
     "output_type": "execute_result"
    }
   ],
   "source": [
    "a=1\n",
    "a"
   ]
  },
  {
   "cell_type": "code",
   "execution_count": 3,
   "id": "312522ca-c3bf-4692-9bc8-b5215852945e",
   "metadata": {},
   "outputs": [
    {
     "data": {
      "text/plain": [
       "-12345678901234567890123456789012345678909"
      ]
     },
     "execution_count": 3,
     "metadata": {},
     "output_type": "execute_result"
    }
   ],
   "source": [
    "b= -12345678901234567890123456789012345678909\n",
    "b"
   ]
  },
  {
   "cell_type": "code",
   "execution_count": 4,
   "id": "f5597aaf-5efc-483a-a1db-e5a80c336a56",
   "metadata": {},
   "outputs": [
    {
     "data": {
      "text/plain": [
       "(int, int)"
      ]
     },
     "execution_count": 4,
     "metadata": {},
     "output_type": "execute_result"
    }
   ],
   "source": [
    "type(a), type(b)"
   ]
  },
  {
   "cell_type": "code",
   "execution_count": 5,
   "id": "82eef14d-3833-4b74-8f89-c0f97b424ce9",
   "metadata": {},
   "outputs": [
    {
     "data": {
      "text/plain": [
       "float"
      ]
     },
     "execution_count": 5,
     "metadata": {},
     "output_type": "execute_result"
    }
   ],
   "source": [
    "type(1.2)"
   ]
  },
  {
   "cell_type": "markdown",
   "id": "81c77473-5a97-4ec3-a9aa-7e697422dd2c",
   "metadata": {},
   "source": [
    "# Definiciones de complejos"
   ]
  },
  {
   "cell_type": "code",
   "execution_count": 6,
   "id": "80744e1b-449f-4adb-a793-1b607206f3dd",
   "metadata": {},
   "outputs": [
    {
     "data": {
      "text/plain": [
       "(1+3j)"
      ]
     },
     "execution_count": 6,
     "metadata": {},
     "output_type": "execute_result"
    }
   ],
   "source": [
    "complex(1,3)"
   ]
  },
  {
   "cell_type": "code",
   "execution_count": 7,
   "id": "0a5a32e9-e7d2-421d-9af8-b40e2e33ac74",
   "metadata": {},
   "outputs": [
    {
     "data": {
      "text/plain": [
       "0j"
      ]
     },
     "execution_count": 7,
     "metadata": {},
     "output_type": "execute_result"
    }
   ],
   "source": [
    "complex (0+0)"
   ]
  },
  {
   "cell_type": "code",
   "execution_count": 8,
   "id": "196c43ff-c106-4596-8b7e-547b2029fd6b",
   "metadata": {},
   "outputs": [
    {
     "data": {
      "text/plain": [
       "1j"
      ]
     },
     "execution_count": 8,
     "metadata": {},
     "output_type": "execute_result"
    }
   ],
   "source": [
    "complex (0,1)"
   ]
  },
  {
   "cell_type": "code",
   "execution_count": 13,
   "id": "eb7188f1-8343-406c-9d3a-61a193a37461",
   "metadata": {},
   "outputs": [
    {
     "data": {
      "text/plain": [
       "(3+1j)"
      ]
     },
     "execution_count": 13,
     "metadata": {},
     "output_type": "execute_result"
    }
   ],
   "source": [
    "c= complex (3,1)\n",
    "c"
   ]
  },
  {
   "cell_type": "code",
   "execution_count": 14,
   "id": "97503c22-8f5e-449e-be3f-f7f6efaec960",
   "metadata": {},
   "outputs": [
    {
     "data": {
      "text/plain": [
       "(3+3j)"
      ]
     },
     "execution_count": 14,
     "metadata": {},
     "output_type": "execute_result"
    }
   ],
   "source": [
    "#quiero sumar 2j al valor de c\n",
    "c + complex (0,2)"
   ]
  },
  {
   "cell_type": "markdown",
   "id": "228c8063-ff07-4956-9185-0a61ca934603",
   "metadata": {},
   "source": [
    "## Operaciones con tipos de datos numericos"
   ]
  },
  {
   "cell_type": "code",
   "execution_count": 15,
   "id": "200aef8d-40e9-4d71-ae89-efe853f95b00",
   "metadata": {},
   "outputs": [
    {
     "data": {
      "text/plain": [
       "100"
      ]
     },
     "execution_count": 15,
     "metadata": {},
     "output_type": "execute_result"
    }
   ],
   "source": [
    "56 + 44"
   ]
  },
  {
   "cell_type": "code",
   "execution_count": 16,
   "id": "de76033e-103b-4e01-83a7-c5c3f1d39bab",
   "metadata": {},
   "outputs": [
    {
     "data": {
      "text/plain": [
       "720"
      ]
     },
     "execution_count": 16,
     "metadata": {},
     "output_type": "execute_result"
    }
   ],
   "source": [
    "800-80"
   ]
  },
  {
   "cell_type": "code",
   "execution_count": 17,
   "id": "687b23b4-1262-491e-b06a-baae24d8ac01",
   "metadata": {},
   "outputs": [
    {
     "data": {
      "text/plain": [
       "783"
      ]
     },
     "execution_count": 17,
     "metadata": {},
     "output_type": "execute_result"
    }
   ],
   "source": [
    "87*9"
   ]
  },
  {
   "cell_type": "code",
   "execution_count": 18,
   "id": "10bb1b04-a1ce-4fdd-ab67-3304b36a464a",
   "metadata": {},
   "outputs": [
    {
     "data": {
      "text/plain": [
       "1.8521739130434782"
      ]
     },
     "execution_count": 18,
     "metadata": {},
     "output_type": "execute_result"
    }
   ],
   "source": [
    "85.2/46"
   ]
  },
  {
   "cell_type": "code",
   "execution_count": 19,
   "id": "451a4aa3-ba35-4274-8df1-5a81f6221f2d",
   "metadata": {},
   "outputs": [
    {
     "data": {
      "text/plain": [
       "125"
      ]
     },
     "execution_count": 19,
     "metadata": {},
     "output_type": "execute_result"
    }
   ],
   "source": [
    "5**3"
   ]
  },
  {
   "cell_type": "code",
   "execution_count": 20,
   "id": "ded77341-a7c8-4de5-a5d1-d814d18751bd",
   "metadata": {},
   "outputs": [
    {
     "data": {
      "text/plain": [
       "3.0"
      ]
     },
     "execution_count": 20,
     "metadata": {},
     "output_type": "execute_result"
    }
   ],
   "source": [
    "9**0.5"
   ]
  },
  {
   "cell_type": "code",
   "execution_count": 21,
   "id": "d4dff8b4-c688-4b04-93e0-5174ae37e683",
   "metadata": {},
   "outputs": [
    {
     "data": {
      "text/plain": [
       "0"
      ]
     },
     "execution_count": 21,
     "metadata": {},
     "output_type": "execute_result"
    }
   ],
   "source": [
    "#para calcular el residuo \n",
    "16%4"
   ]
  },
  {
   "cell_type": "code",
   "execution_count": 22,
   "id": "ec636ced-b2ce-42ec-8213-d132583a97db",
   "metadata": {},
   "outputs": [
    {
     "data": {
      "text/plain": [
       "4"
      ]
     },
     "execution_count": 22,
     "metadata": {},
     "output_type": "execute_result"
    }
   ],
   "source": [
    "# para calcular el cociente o división entera (sin el decimal)\n",
    "16 // 4 "
   ]
  },
  {
   "cell_type": "code",
   "execution_count": 24,
   "id": "77a02e68-3939-4134-aff7-246916692243",
   "metadata": {},
   "outputs": [],
   "source": [
    "a = 8\n",
    "b = 3\n",
    "c = 42"
   ]
  },
  {
   "cell_type": "code",
   "execution_count": 34,
   "id": "a6715f85-d16d-4361-8f96-37c9e5a518cf",
   "metadata": {},
   "outputs": [],
   "source": [
    "a,b,c= 9, 3, 42"
   ]
  },
  {
   "cell_type": "code",
   "execution_count": 38,
   "id": "e0ab7745-4a5c-4180-b556-7c93e2737729",
   "metadata": {},
   "outputs": [
    {
     "ename": "ZeroDivisionError",
     "evalue": "division by zero",
     "output_type": "error",
     "traceback": [
      "\u001b[1;31m---------------------------------------------------------------------------\u001b[0m",
      "\u001b[1;31mZeroDivisionError\u001b[0m                         Traceback (most recent call last)",
      "Cell \u001b[1;32mIn[38], line 1\u001b[0m\n\u001b[1;32m----> 1\u001b[0m c\u001b[38;5;241m/\u001b[39ma \u001b[38;5;241m+\u001b[39m a\u001b[38;5;241m*\u001b[39mb \u001b[38;5;241m-\u001b[39m\u001b[43ma\u001b[49m\u001b[38;5;241;43m*\u001b[39;49m\u001b[38;5;241;43m*\u001b[39;49m\u001b[43mb\u001b[49m\u001b[38;5;241;43m/\u001b[39;49m\u001b[43m(\u001b[49m\u001b[43mc\u001b[49m\u001b[38;5;241;43m%\u001b[39;49m\u001b[43mb\u001b[49m\u001b[43m)\u001b[49m\n",
      "\u001b[1;31mZeroDivisionError\u001b[0m: division by zero"
     ]
    }
   ],
   "source": [
    "c/a + a*b -a**b/(c%b)"
   ]
  },
  {
   "cell_type": "markdown",
   "id": "f4b0422a-e528-45ff-8a2c-76ed8bb41a89",
   "metadata": {},
   "source": [
    "## Strings"
   ]
  },
  {
   "cell_type": "code",
   "execution_count": 39,
   "id": "8983e1ad-4d84-4e66-b8c5-f29361b3d71d",
   "metadata": {},
   "outputs": [
    {
     "data": {
      "text/plain": [
       "'esto es una cadena de texto'"
      ]
     },
     "execution_count": 39,
     "metadata": {},
     "output_type": "execute_result"
    }
   ],
   "source": [
    "\"esto es una cadena de texto\""
   ]
  },
  {
   "cell_type": "code",
   "execution_count": 40,
   "id": "c1798fa0-5280-44b3-9572-b161d76a8961",
   "metadata": {},
   "outputs": [
    {
     "data": {
      "text/plain": [
       "'otra cadena'"
      ]
     },
     "execution_count": 40,
     "metadata": {},
     "output_type": "execute_result"
    }
   ],
   "source": [
    "\"otra cadena\""
   ]
  },
  {
   "cell_type": "code",
   "execution_count": 43,
   "id": "e29e4654-28a5-44b3-bc21-4f6e7ba89369",
   "metadata": {},
   "outputs": [
    {
     "data": {
      "text/plain": [
       "('cadena de texto 1', 'cadena de texto 2')"
      ]
     },
     "execution_count": 43,
     "metadata": {},
     "output_type": "execute_result"
    }
   ],
   "source": [
    "a, b= \"cadena de texto 1\" , \"cadena de texto 2\"\n",
    "a, b"
   ]
  },
  {
   "cell_type": "code",
   "execution_count": 44,
   "id": "3e5f2067-69d0-40f4-9719-7e38947fe056",
   "metadata": {},
   "outputs": [
    {
     "name": "stdout",
     "output_type": "stream",
     "text": [
      "cadena de texto 1 cadena de texto 2\n"
     ]
    }
   ],
   "source": [
    "print (a,b)"
   ]
  },
  {
   "cell_type": "code",
   "execution_count": 45,
   "id": "64e7dc4d-0fad-4437-b63e-a9682bd4d289",
   "metadata": {},
   "outputs": [
    {
     "name": "stdout",
     "output_type": "stream",
     "text": [
      "cadena de texto 1 \t cadena de texto 2 otra cosa 89.5 lo que sea\n"
     ]
    }
   ],
   "source": [
    "print (a, \"\\t\", b, \"otra cosa\", 89.5, \"lo que sea\")\n",
    "#la cadena \"\\t\" significa tabulación"
   ]
  },
  {
   "cell_type": "code",
   "execution_count": 46,
   "id": "b227ffb1-23c2-4cca-84ff-c9c0772224ac",
   "metadata": {},
   "outputs": [
    {
     "name": "stdout",
     "output_type": "stream",
     "text": [
      "cadena de texto 1 \n",
      " cadena de texto 2 otra cosa 89.5 lo que sea\n"
     ]
    }
   ],
   "source": [
    "print (a, \"\\n\", b, \"otra cosa\", 89.5, \"lo que sea\")\n",
    "# la cena \"\\n\" significa salto de línea"
   ]
  },
  {
   "cell_type": "code",
   "execution_count": 47,
   "id": "9027b564-446f-4dfd-9759-b2f3f46c7b70",
   "metadata": {},
   "outputs": [
    {
     "name": "stdout",
     "output_type": "stream",
     "text": [
      "c:/nombre_de_la_Carpeta\\tareas\n"
     ]
    }
   ],
   "source": [
    "print(r\"c:/nombre_de_la_Carpeta\\tareas\")"
   ]
  },
  {
   "cell_type": "code",
   "execution_count": 48,
   "id": "12e8ccfb-8185-453d-8c9f-b3c4fc46f6aa",
   "metadata": {},
   "outputs": [
    {
     "ename": "SyntaxError",
     "evalue": "unterminated string literal (detected at line 1) (1970302416.py, line 1)",
     "output_type": "error",
     "traceback": [
      "\u001b[1;36m  Cell \u001b[1;32mIn[48], line 1\u001b[1;36m\u001b[0m\n\u001b[1;33m    print(\"1era linea de texto\u001b[0m\n\u001b[1;37m          ^\u001b[0m\n\u001b[1;31mSyntaxError\u001b[0m\u001b[1;31m:\u001b[0m unterminated string literal (detected at line 1)\n"
     ]
    }
   ],
   "source": [
    "print(\"1era linea de texto\n",
    "      segunda línea de texto\n",
    "      3era linea)"
   ]
  },
  {
   "cell_type": "code",
   "execution_count": 50,
   "id": "e0e77f61-4b71-4411-838e-dd41fdb7a95f",
   "metadata": {},
   "outputs": [
    {
     "name": "stdout",
     "output_type": "stream",
     "text": [
      "1era linea\n",
      "2linea\n",
      "3era linea \n"
     ]
    }
   ],
   "source": [
    "print (\"\"\"1era linea\n",
    "2linea\n",
    "3era linea \"\"\")"
   ]
  },
  {
   "cell_type": "code",
   "execution_count": 52,
   "id": "f2210796-004e-4a91-9dbc-49d0192e121c",
   "metadata": {},
   "outputs": [],
   "source": [
    "a,b = \"ah\", \"be\""
   ]
  },
  {
   "cell_type": "code",
   "execution_count": 58,
   "id": "5f80d23e-e115-4373-8c65-2807bc96e7f6",
   "metadata": {},
   "outputs": [
    {
     "data": {
      "text/plain": [
       "'ahbe'"
      ]
     },
     "execution_count": 58,
     "metadata": {},
     "output_type": "execute_result"
    }
   ],
   "source": [
    "a+b"
   ]
  },
  {
   "cell_type": "code",
   "execution_count": 59,
   "id": "9362d43e-41dd-418d-9aee-7d0f3a2b55f6",
   "metadata": {},
   "outputs": [
    {
     "data": {
      "text/plain": [
       "'ahahah'"
      ]
     },
     "execution_count": 59,
     "metadata": {},
     "output_type": "execute_result"
    }
   ],
   "source": [
    "3*a"
   ]
  },
  {
   "cell_type": "code",
   "execution_count": 60,
   "id": "dbbd0de3-5c61-4317-b9b0-de1cd26cba5d",
   "metadata": {},
   "outputs": [
    {
     "data": {
      "text/plain": [
       "'ahahahbebeah'"
      ]
     },
     "execution_count": 60,
     "metadata": {},
     "output_type": "execute_result"
    }
   ],
   "source": [
    "3 * a + 2*b + a"
   ]
  },
  {
   "cell_type": "code",
   "execution_count": 69,
   "id": "a3ed73ad-5830-4301-a901-ac698112bc8d",
   "metadata": {},
   "outputs": [],
   "source": [
    "a = \"hola kamcas Ana\""
   ]
  },
  {
   "cell_type": "code",
   "execution_count": 62,
   "id": "8ef34ccd-731e-4a99-84f2-03d52ec7cb5b",
   "metadata": {},
   "outputs": [],
   "source": [
    "b=\"cadena\""
   ]
  },
  {
   "cell_type": "code",
   "execution_count": 63,
   "id": "4857b7c1-b946-496f-883d-9d5a8e6cce24",
   "metadata": {},
   "outputs": [
    {
     "data": {
      "text/plain": [
       "'d'"
      ]
     },
     "execution_count": 63,
     "metadata": {},
     "output_type": "execute_result"
    }
   ],
   "source": [
    "b[2]"
   ]
  },
  {
   "cell_type": "code",
   "execution_count": 64,
   "id": "9f34494f-9810-40c8-9fae-8d1cbc39dbdf",
   "metadata": {},
   "outputs": [
    {
     "data": {
      "text/plain": [
       "6"
      ]
     },
     "execution_count": 64,
     "metadata": {},
     "output_type": "execute_result"
    }
   ],
   "source": [
    "## para medi el tamaño de la variable\n",
    "len (b)"
   ]
  },
  {
   "cell_type": "code",
   "execution_count": 77,
   "id": "aa29e6e8-95b8-4665-ab61-66fb3453c8f5",
   "metadata": {},
   "outputs": [
    {
     "data": {
      "text/plain": [
       "'Ana'"
      ]
     },
     "execution_count": 77,
     "metadata": {},
     "output_type": "execute_result"
    }
   ],
   "source": [
    "\n",
    "# c tiene la posición 13\n",
    "# s tiene la posición 15\n",
    "pos_i = 12\n",
    "pos_f = 15\n",
    "a[pos_i:pos_f+1]\n",
    "## el +1 es porque considera el tamaño de la cadena "
   ]
  },
  {
   "cell_type": "code",
   "execution_count": 81,
   "id": "3999d733-efdc-4f14-93ae-79bd27f27579",
   "metadata": {},
   "outputs": [
    {
     "data": {
      "text/plain": [
       "'chavo'"
      ]
     },
     "execution_count": 81,
     "metadata": {},
     "output_type": "execute_result"
    }
   ],
   "source": [
    "c=\"el chavo del ocho\"\n",
    "c[3:7+1]\n",
    "## el +1 es porque considera el tamaño de la cadena (el tamaño de caracteres y no por como los cuenta phyton)"
   ]
  },
  {
   "cell_type": "code",
   "execution_count": 82,
   "id": "eca94a1d-7ccc-4cba-a321-a7733448f311",
   "metadata": {},
   "outputs": [
    {
     "data": {
      "text/plain": [
       "'caodloh'"
      ]
     },
     "execution_count": 82,
     "metadata": {},
     "output_type": "execute_result"
    }
   ],
   "source": [
    "c[3:18:2]"
   ]
  },
  {
   "cell_type": "code",
   "execution_count": 83,
   "id": "aed5e9e3-9a22-45fb-b61e-030e7c550ea4",
   "metadata": {},
   "outputs": [
    {
     "data": {
      "text/plain": [
       "17"
      ]
     },
     "execution_count": 83,
     "metadata": {},
     "output_type": "execute_result"
    }
   ],
   "source": [
    "len(c)"
   ]
  },
  {
   "cell_type": "code",
   "execution_count": 88,
   "id": "64de999c-d36d-4963-8067-5360aacee843",
   "metadata": {},
   "outputs": [
    {
     "data": {
      "text/plain": [
       "('o', 'o')"
      ]
     },
     "execution_count": 88,
     "metadata": {},
     "output_type": "execute_result"
    }
   ],
   "source": [
    "c[16], c[len(c)-1]"
   ]
  },
  {
   "cell_type": "markdown",
   "id": "222e488b-e20d-4e85-9e7a-fe130cb8bf98",
   "metadata": {},
   "source": [
    "# tarea\n",
    "¿qué es que una cadena sea inmutable?"
   ]
  }
 ],
 "metadata": {
  "kernelspec": {
   "display_name": "Python 3 (ipykernel)",
   "language": "python",
   "name": "python3"
  },
  "language_info": {
   "codemirror_mode": {
    "name": "ipython",
    "version": 3
   },
   "file_extension": ".py",
   "mimetype": "text/x-python",
   "name": "python",
   "nbconvert_exporter": "python",
   "pygments_lexer": "ipython3",
   "version": "3.10.4"
  }
 },
 "nbformat": 4,
 "nbformat_minor": 5
}
