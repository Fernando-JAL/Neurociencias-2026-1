{
 "cells": [
  {
   "cell_type": "code",
   "execution_count": 65,
   "id": "7c7abe44-680d-4f43-8185-42032a71454d",
   "metadata": {},
   "outputs": [],
   "source": [
    "import networkx as nx\n",
    "import matplotlib.pyplot as plt\n",
    "import pandas as pd"
   ]
  },
  {
   "cell_type": "code",
   "execution_count": 35,
   "id": "e932c4da-666f-491c-b4ce-bf3c18b93fcd",
   "metadata": {},
   "outputs": [],
   "source": [
    "G = nx.Graph()"
   ]
  },
  {
   "cell_type": "code",
   "execution_count": 36,
   "id": "9ce4e15b-b443-4378-a3d5-79996edeb10b",
   "metadata": {},
   "outputs": [],
   "source": [
    "G.add_nodes_from ([('A', {'pos': [3,3]}),\n",
    "                   ('B', {'pos': [2,-5]}),\n",
    "                   ('C', {'pos': [5,2]}),\n",
    "                   ('D', {'pos': [-1,2]}),\n",
    "                   ('E', {'pos': [4,-5]})])\n",
    "\n",
    "### para asignarle una coordenada a los nodos para imitar a un grafo especifico "
   ]
  },
  {
   "cell_type": "code",
   "execution_count": 37,
   "id": "b28bc0c5-d55d-4d10-a0c2-1aa49c21ba55",
   "metadata": {},
   "outputs": [],
   "source": [
    "G.add_edges_from ([('D', 'A', {'weight': 1.3}),\n",
    "                   ('A','C', {'weight': 3.9}),\n",
    "                   ('D','E', {'weight': 0.8}),\n",
    "                   ('B', 'C', {'weight': 0.6}),\n",
    "                   ('A','E', {'weight': 2.2}),\n",
    "                   ('D','B', {'weight': 3.4})])"
   ]
  },
  {
   "cell_type": "code",
   "execution_count": 54,
   "id": "37b249a1-242f-4339-bd05-17b704e13578",
   "metadata": {},
   "outputs": [
    {
     "data": {
      "image/png": "[encoded data removed]",
      "text/plain": [
       "<Figure size 200x200 with 1 Axes>"
      ]
     },
     "metadata": {},
     "output_type": "display_data"
    }
   ],
   "source": [
    "plt.figure(figsize=(2,2))\n",
    "positions = nx.get_node_attributes(G, 'pos')\n",
    "nx.draw_networkx (G, pos= positions, \n",
    "                  node_size=50, font_size=6, width=3,\n",
    "                  node_color='pink', edge_color='lightgreen')\n",
    "\n",
    "### nodo size modifica el tamaño del nodo, y el font el tamaño de la letra\n",
    "\n",
    "weights =  nx.get_edge_attributes(G, 'weight')\n",
    "nx.draw_networkx_edge_labels(G, pos= positions, edge_labels=weights);"
   ]
  },
  {
   "cell_type": "code",
   "execution_count": 60,
   "id": "63dddc6e-e202-4de3-a9b3-2f91c8d818d9",
   "metadata": {},
   "outputs": [
    {
     "data": {
      "text/html": [
       "<div>\n",
       "<style scoped>\n",
       "    .dataframe tbody tr th:only-of-type {\n",
       "        vertical-align: middle;\n",
       "    }\n",
       "\n",
       "    .dataframe tbody tr th {\n",
       "        vertical-align: top;\n",
       "    }\n",
       "\n",
       "    .dataframe thead th {\n",
       "        text-align: right;\n",
       "    }\n",
       "</style>\n",
       "<table border=\"1\" class=\"dataframe\">\n",
       "  <thead>\n",
       "    <tr style=\"text-align: right;\">\n",
       "      <th></th>\n",
       "      <th>source</th>\n",
       "      <th>target</th>\n",
       "      <th>weight</th>\n",
       "    </tr>\n",
       "  </thead>\n",
       "  <tbody>\n",
       "    <tr>\n",
       "      <th>0</th>\n",
       "      <td>A</td>\n",
       "      <td>D</td>\n",
       "      <td>1.3</td>\n",
       "    </tr>\n",
       "    <tr>\n",
       "      <th>1</th>\n",
       "      <td>A</td>\n",
       "      <td>C</td>\n",
       "      <td>3.9</td>\n",
       "    </tr>\n",
       "    <tr>\n",
       "      <th>2</th>\n",
       "      <td>A</td>\n",
       "      <td>E</td>\n",
       "      <td>2.2</td>\n",
       "    </tr>\n",
       "    <tr>\n",
       "      <th>3</th>\n",
       "      <td>B</td>\n",
       "      <td>C</td>\n",
       "      <td>0.6</td>\n",
       "    </tr>\n",
       "    <tr>\n",
       "      <th>4</th>\n",
       "      <td>B</td>\n",
       "      <td>D</td>\n",
       "      <td>3.4</td>\n",
       "    </tr>\n",
       "    <tr>\n",
       "      <th>5</th>\n",
       "      <td>D</td>\n",
       "      <td>E</td>\n",
       "      <td>0.8</td>\n",
       "    </tr>\n",
       "  </tbody>\n",
       "</table>\n",
       "</div>"
      ],
      "text/plain": [
       "  source target  weight\n",
       "0      A      D     1.3\n",
       "1      A      C     3.9\n",
       "2      A      E     2.2\n",
       "3      B      C     0.6\n",
       "4      B      D     3.4\n",
       "5      D      E     0.8"
      ]
     },
     "execution_count": 60,
     "metadata": {},
     "output_type": "execute_result"
    }
   ],
   "source": [
    "nx.to_pandas_edgelist(G)\n"
   ]
  },
  {
   "cell_type": "code",
   "execution_count": 61,
   "id": "4228d9a4-04ba-4323-8e93-ceb699d3ff46",
   "metadata": {},
   "outputs": [
    {
     "data": {
      "text/plain": [
       "[('A', {'D': {'weight': 1.3}, 'C': {'weight': 3.9}, 'E': {'weight': 2.2}}),\n",
       " ('B', {'C': {'weight': 0.6}, 'D': {'weight': 3.4}}),\n",
       " ('C', {'A': {'weight': 3.9}, 'B': {'weight': 0.6}}),\n",
       " ('D', {'A': {'weight': 1.3}, 'E': {'weight': 0.8}, 'B': {'weight': 3.4}}),\n",
       " ('E', {'D': {'weight': 0.8}, 'A': {'weight': 2.2}})]"
      ]
     },
     "execution_count": 61,
     "metadata": {},
     "output_type": "execute_result"
    }
   ],
   "source": [
    "list(G.adjacency())\n",
    "\n",
    "### es un matriz de adyacencia, que determina la conexion entre los nodos"
   ]
  },
  {
   "cell_type": "code",
   "execution_count": 62,
   "id": "61dc7d6f-b2f0-46c4-b688-f24af5675dff",
   "metadata": {},
   "outputs": [
    {
     "data": {
      "text/html": [
       "<div>\n",
       "<style scoped>\n",
       "    .dataframe tbody tr th:only-of-type {\n",
       "        vertical-align: middle;\n",
       "    }\n",
       "\n",
       "    .dataframe tbody tr th {\n",
       "        vertical-align: top;\n",
       "    }\n",
       "\n",
       "    .dataframe thead th {\n",
       "        text-align: right;\n",
       "    }\n",
       "</style>\n",
       "<table border=\"1\" class=\"dataframe\">\n",
       "  <thead>\n",
       "    <tr style=\"text-align: right;\">\n",
       "      <th></th>\n",
       "      <th>A</th>\n",
       "      <th>B</th>\n",
       "      <th>C</th>\n",
       "      <th>D</th>\n",
       "      <th>E</th>\n",
       "    </tr>\n",
       "  </thead>\n",
       "  <tbody>\n",
       "    <tr>\n",
       "      <th>A</th>\n",
       "      <td>0.0</td>\n",
       "      <td>0.0</td>\n",
       "      <td>3.9</td>\n",
       "      <td>1.3</td>\n",
       "      <td>2.2</td>\n",
       "    </tr>\n",
       "    <tr>\n",
       "      <th>B</th>\n",
       "      <td>0.0</td>\n",
       "      <td>0.0</td>\n",
       "      <td>0.6</td>\n",
       "      <td>3.4</td>\n",
       "      <td>0.0</td>\n",
       "    </tr>\n",
       "    <tr>\n",
       "      <th>C</th>\n",
       "      <td>3.9</td>\n",
       "      <td>0.6</td>\n",
       "      <td>0.0</td>\n",
       "      <td>0.0</td>\n",
       "      <td>0.0</td>\n",
       "    </tr>\n",
       "    <tr>\n",
       "      <th>D</th>\n",
       "      <td>1.3</td>\n",
       "      <td>3.4</td>\n",
       "      <td>0.0</td>\n",
       "      <td>0.0</td>\n",
       "      <td>0.8</td>\n",
       "    </tr>\n",
       "    <tr>\n",
       "      <th>E</th>\n",
       "      <td>2.2</td>\n",
       "      <td>0.0</td>\n",
       "      <td>0.0</td>\n",
       "      <td>0.8</td>\n",
       "      <td>0.0</td>\n",
       "    </tr>\n",
       "  </tbody>\n",
       "</table>\n",
       "</div>"
      ],
      "text/plain": [
       "     A    B    C    D    E\n",
       "A  0.0  0.0  3.9  1.3  2.2\n",
       "B  0.0  0.0  0.6  3.4  0.0\n",
       "C  3.9  0.6  0.0  0.0  0.0\n",
       "D  1.3  3.4  0.0  0.0  0.8\n",
       "E  2.2  0.0  0.0  0.8  0.0"
      ]
     },
     "execution_count": 62,
     "metadata": {},
     "output_type": "execute_result"
    }
   ],
   "source": [
    "adjacency = nx.to_pandas_adjacency(G)\n",
    "adjacency"
   ]
  },
  {
   "cell_type": "code",
   "execution_count": 75,
   "id": "cab2e67c-a895-4a81-b9b2-f07b63c94e80",
   "metadata": {},
   "outputs": [],
   "source": [
    "adjacency.to_csv('adjacency_ej.csv')"
   ]
  },
  {
   "cell_type": "code",
   "execution_count": 76,
   "id": "587b5ad8-8883-4f03-a168-939b9b3fc284",
   "metadata": {},
   "outputs": [],
   "source": [
    "df = pd.read_csv('adjacency_ej.csv')\n",
    "\n",
    "df.set_index('Unnamed: 0', drop= True, inplace=True)\n",
    "\n",
    "newG = nx.from_pandas_adjacency(df)"
   ]
  },
  {
   "cell_type": "code",
   "execution_count": 77,
   "id": "380609ff-3404-44fe-82ab-ae3a522aabf0",
   "metadata": {},
   "outputs": [
    {
     "data": {
      "image/png": "[encoded data removed]",
      "text/plain": [
       "<Figure size 640x480 with 1 Axes>"
      ]
     },
     "metadata": {},
     "output_type": "display_data"
    }
   ],
   "source": [
    "nx.draw_networkx(newG)"
   ]
  },
  {
   "cell_type": "code",
   "execution_count": null,
   "id": "17ff3707-2671-4bab-bbfc-a6772fded1a7",
   "metadata": {},
   "outputs": [],
   "source": [
    "ejercicio \n",
    "de la primera matriz de conectividad seleccionar las primeras dos coordenadas juntar con las coordenadas de la segunda matriz??? y plotear"
   ]
  },
  {
   "cell_type": "code",
   "execution_count": null,
   "id": "96c16bb1-46fd-473c-8aeb-8258c3fcaf4b",
   "metadata": {},
   "outputs": [],
   "source": []
  }
 ],
 "metadata": {
  "kernelspec": {
   "display_name": "Python 3 (ipykernel)",
   "language": "python",
   "name": "python3"
  },
  "language_info": {
   "codemirror_mode": {
    "name": "ipython",
    "version": 3
   },
   "file_extension": ".py",
   "mimetype": "text/x-python",
   "name": "python",
   "nbconvert_exporter": "python",
   "pygments_lexer": "ipython3",
   "version": "3.13.6"
  }
 },
 "nbformat": 4,
 "nbformat_minor": 5
}
