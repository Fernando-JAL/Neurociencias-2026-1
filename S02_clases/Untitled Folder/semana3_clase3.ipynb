{
 "cells": [
  {
   "cell_type": "markdown",
   "id": "c39e27e6",
   "metadata": {},
   "source": [
    "# funciones\n",
    "\n",
    "fragmentos de codigo que se pueden ejecutar multiples veces y devolver informacion/datos/variables para comunicarse con el codigo/proceso principal"
   ]
  },
  {
   "cell_type": "markdown",
   "id": "5903457c",
   "metadata": {},
   "source": [
    "def *nombre de funcion* (parametros)"
   ]
  },
  {
   "cell_type": "code",
   "execution_count": 1,
   "id": "206dc3a9",
   "metadata": {},
   "outputs": [
    {
     "name": "stdout",
     "output_type": "stream",
     "text": [
      "Hola world, Dennis Ritchie\n"
     ]
    }
   ],
   "source": [
    "def saludar(): #def es function, def seguido del nombre de la funcion\n",
    "    print('Hola world, Dennis Ritchie')\n",
    "    \n",
    "saludar()"
   ]
  },
  {
   "cell_type": "code",
   "execution_count": 2,
   "id": "bea5ea29",
   "metadata": {},
   "outputs": [
    {
     "name": "stdout",
     "output_type": "stream",
     "text": [
      "Hola world, Dennis Ritchie\n",
      "Hola world, Dennis Ritchie\n",
      "Hola world, Dennis Ritchie\n"
     ]
    }
   ],
   "source": [
    "for _ in range(3):\n",
    "    saludar()"
   ]
  },
  {
   "cell_type": "code",
   "execution_count": 5,
   "id": "e45e2eab",
   "metadata": {},
   "outputs": [
    {
     "data": {
      "text/plain": [
       "7.0"
      ]
     },
     "execution_count": 5,
     "metadata": {},
     "output_type": "execute_result"
    }
   ],
   "source": [
    "lista=[3,5,7,9,11]\n",
    "\n",
    "ave=sum(lista)/len(lista)\n",
    "ave"
   ]
  },
  {
   "cell_type": "code",
   "execution_count": 6,
   "id": "277f4b86",
   "metadata": {},
   "outputs": [],
   "source": [
    "def promedio(numeros):\n",
    "    valor_promedio= sum(numeros)/len(numeros)\n",
    "    print(f'El promedio de los numeros es {valor_promedio}')\n",
    "    return valor_promedio\n",
    "\n",
    "# argumentos y parametros"
   ]
  },
  {
   "cell_type": "code",
   "execution_count": 8,
   "id": "1fa263cf",
   "metadata": {},
   "outputs": [
    {
     "name": "stdout",
     "output_type": "stream",
     "text": [
      "El promedio de los numeros es 7.0\n"
     ]
    }
   ],
   "source": [
    "numeritos = [3,5,7,9,11]\n",
    "valor_flotante=promedio(numeritos) #numeritos seria el argumento,al cual se le ejecutara la def"
   ]
  },
  {
   "cell_type": "code",
   "execution_count": 9,
   "id": "a8e623a0",
   "metadata": {},
   "outputs": [
    {
     "data": {
      "text/plain": [
       "7.0"
      ]
     },
     "execution_count": 9,
     "metadata": {},
     "output_type": "execute_result"
    }
   ],
   "source": [
    "valor_flotante"
   ]
  },
  {
   "cell_type": "code",
   "execution_count": 10,
   "id": "aeb63fc2",
   "metadata": {},
   "outputs": [],
   "source": [
    "def minimo (val_a,val_b):\n",
    "    val_minimo = min (val_a, val_a)\n",
    "    return val_minimo"
   ]
  },
  {
   "cell_type": "code",
   "execution_count": 11,
   "id": "2ca63932",
   "metadata": {},
   "outputs": [
    {
     "data": {
      "text/plain": [
       "-10"
      ]
     },
     "execution_count": 11,
     "metadata": {},
     "output_type": "execute_result"
    }
   ],
   "source": [
    "minimo(-10,-50)"
   ]
  },
  {
   "cell_type": "code",
   "execution_count": 15,
   "id": "631cf166",
   "metadata": {},
   "outputs": [],
   "source": [
    "def factorial(n):\n",
    "    if n < 0:\n",
    "        return \"error\"\n",
    "    elif n == 0 or n == 1:\n",
    "        return 1\n",
    "    else:\n",
    "        resultado = 1\n",
    "        for i in range(1, n + 1):\n",
    "            resultado *= i #resultado= resultado*i\n",
    "        return resultado"
   ]
  },
  {
   "cell_type": "code",
   "execution_count": 17,
   "id": "40d65ff5",
   "metadata": {},
   "outputs": [
    {
     "data": {
      "text/plain": [
       "1307674368000"
      ]
     },
     "execution_count": 17,
     "metadata": {},
     "output_type": "execute_result"
    }
   ],
   "source": [
    "factorial(15)"
   ]
  },
  {
   "cell_type": "code",
   "execution_count": null,
   "id": "b7c7c6c6",
   "metadata": {},
   "outputs": [],
   "source": []
  },
  {
   "cell_type": "code",
   "execution_count": null,
   "id": "5ec6e93e",
   "metadata": {},
   "outputs": [],
   "source": []
  },
  {
   "cell_type": "code",
   "execution_count": null,
   "id": "e20e2e4f",
   "metadata": {},
   "outputs": [],
   "source": []
  },
  {
   "cell_type": "code",
   "execution_count": null,
   "id": "1841e6f2",
   "metadata": {},
   "outputs": [],
   "source": []
  },
  {
   "cell_type": "code",
   "execution_count": null,
   "id": "787f61e4",
   "metadata": {},
   "outputs": [],
   "source": []
  },
  {
   "cell_type": "code",
   "execution_count": null,
   "id": "ab147b01",
   "metadata": {},
   "outputs": [],
   "source": []
  },
  {
   "cell_type": "code",
   "execution_count": null,
   "id": "c6a05add",
   "metadata": {},
   "outputs": [],
   "source": []
  },
  {
   "cell_type": "code",
   "execution_count": null,
   "id": "3d4cc89b",
   "metadata": {},
   "outputs": [],
   "source": []
  },
  {
   "cell_type": "code",
   "execution_count": null,
   "id": "5dc24a10",
   "metadata": {},
   "outputs": [],
   "source": []
  }
 ],
 "metadata": {
  "kernelspec": {
   "display_name": "Python 3 (ipykernel)",
   "language": "python",
   "name": "python3"
  },
  "language_info": {
   "codemirror_mode": {
    "name": "ipython",
    "version": 3
   },
   "file_extension": ".py",
   "mimetype": "text/x-python",
   "name": "python",
   "nbconvert_exporter": "python",
   "pygments_lexer": "ipython3",
   "version": "3.11.4"
  }
 },
 "nbformat": 4,
 "nbformat_minor": 5
}
