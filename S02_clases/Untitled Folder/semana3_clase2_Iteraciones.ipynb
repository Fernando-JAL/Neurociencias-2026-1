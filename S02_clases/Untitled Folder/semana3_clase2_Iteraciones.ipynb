{
 "cells": [
  {
   "cell_type": "markdown",
   "id": "d30f4280",
   "metadata": {},
   "source": [
    "# Iteraciones\n",
    "\n",
    "iterar es realizar una accion varias veces, Cada vez que se repite el conjunto de acciones se dice que es una iteracion\n",
    "\n",
    "## While\n",
    "\n",
    "Se basa en repetir un bloque de codigo a partir de una condicion logica"
   ]
  },
  {
   "cell_type": "code",
   "execution_count": null,
   "id": "c68b2beb",
   "metadata": {},
   "outputs": [],
   "source": [
    "variable=0\n",
    "\n",
    "while variable<10:\n",
    "    print('el valor de la variable es', variable)\n",
    "    variable += 2 #variable sera variable+2\n",
    "    \n",
    "print('codigo despues del while')"
   ]
  },
  {
   "cell_type": "code",
   "execution_count": null,
   "id": "b9b1e2d0",
   "metadata": {},
   "outputs": [],
   "source": [
    "while variable <= 5:\n",
    "    variable +=1\n",
    "    print(variable)\n",
    "else:\n",
    "    print('codigo en el else del while')\n",
    "    \n",
    "print('codigo despues del while')"
   ]
  },
  {
   "cell_type": "code",
   "execution_count": null,
   "id": "665d59dd",
   "metadata": {},
   "outputs": [],
   "source": [
    "### Break romple el flujo de iteracion y continua con codigo normal"
   ]
  },
  {
   "cell_type": "markdown",
   "id": "36c7214c",
   "metadata": {},
   "source": [
    "## _for_"
   ]
  },
  {
   "cell_type": "code",
   "execution_count": 1,
   "id": "92b8d4a2",
   "metadata": {},
   "outputs": [
    {
     "name": "stdout",
     "output_type": "stream",
     "text": [
      "2\n",
      "4\n",
      "6\n",
      "8\n",
      "10\n",
      "12\n",
      "16\n",
      "18\n"
     ]
    }
   ],
   "source": [
    "listas=[2,4,6,8,10,12,16,18]\n",
    "\n",
    "for idx in listas: #variable local con el valor de iteracion\n",
    "    print(idx)"
   ]
  },
  {
   "cell_type": "code",
   "execution_count": 4,
   "id": "36d79bf6",
   "metadata": {},
   "outputs": [
    {
     "name": "stdout",
     "output_type": "stream",
     "text": [
      "0\n",
      "1\n",
      "2\n",
      "3\n",
      "4\n"
     ]
    }
   ],
   "source": [
    "#range (pos_i,pos_f+1,salto)\n",
    "for valor in range(5):\n",
    "    print(valor)"
   ]
  },
  {
   "cell_type": "code",
   "execution_count": 3,
   "id": "64f4c3e4",
   "metadata": {},
   "outputs": [
    {
     "name": "stdout",
     "output_type": "stream",
     "text": [
      "c\n",
      "a\n",
      "d\n",
      "e\n",
      "n\n",
      "a\n"
     ]
    }
   ],
   "source": [
    "for letra in 'cadena':\n",
    "    print(letra)"
   ]
  },
  {
   "cell_type": "code",
   "execution_count": 5,
   "id": "781b5e5c",
   "metadata": {},
   "outputs": [
    {
     "name": "stdout",
     "output_type": "stream",
     "text": [
      "key1\n",
      "key2\n"
     ]
    }
   ],
   "source": [
    "diccionario ={'key1':'val1', 'key2':'val2'}\n",
    "\n",
    "for llave in diccionario:\n",
    "    print(llave)"
   ]
  },
  {
   "cell_type": "code",
   "execution_count": 13,
   "id": "9dd4695d",
   "metadata": {},
   "outputs": [
    {
     "name": "stdout",
     "output_type": "stream",
     "text": [
      "el valor es 2 y su cuadrado 4\n",
      "valor fue impar y su sima mas uno entre dos es 2.0\n",
      "el valor es 4 y su cuadrado 16\n",
      "valor fue impar y su sima mas uno entre dos es 3.0\n",
      "el valor es 6 y su cuadrado 36\n",
      "valor fue impar y su sima mas uno entre dos es 4.0\n",
      "el valor es 8 y su cuadrado 64\n",
      "valor fue impar y su sima mas uno entre dos es 5.0\n",
      "el valor es 10 y su cuadrado 100\n"
     ]
    }
   ],
   "source": [
    "lista=[2,3,4,5,6,7,8,9,10]\n",
    "for valor in lista:\n",
    "    if valor%2 == 0:\n",
    "        cuadrado= valor**2\n",
    "        print('el valor es',valor, 'y su cuadrado',cuadrado)\n",
    "    elif valor%2 != 0:\n",
    "        valor +=1\n",
    "        valor /= 2\n",
    "        print('valor fue impar y su sima mas uno entre dos es', valor)\n",
    "        \n",
    "        \n",
    "    "
   ]
  },
  {
   "cell_type": "code",
   "execution_count": null,
   "id": "5263a709",
   "metadata": {},
   "outputs": [],
   "source": []
  },
  {
   "cell_type": "markdown",
   "id": "38042fdd",
   "metadata": {},
   "source": [
    "## metodo enumerate (iterable,start=0)\n",
    "\n",
    "regresara un objeto enumerate, este metodo regresara una tuple de pares, donde el primer elemento sera un entero que comenzara en start y el segundo elemento de la tupe tendra el valor del objeto iterable"
   ]
  },
  {
   "cell_type": "code",
   "execution_count": 14,
   "id": "6673d16b",
   "metadata": {},
   "outputs": [
    {
     "data": {
      "text/plain": [
       "['cadeda', 'con', 'espacios']"
      ]
     },
     "execution_count": 14,
     "metadata": {},
     "output_type": "execute_result"
    }
   ],
   "source": [
    "'cadeda con espacios'.split(sep=\" \") #metodo"
   ]
  },
  {
   "cell_type": "code",
   "execution_count": 1,
   "id": "c0a9427c",
   "metadata": {},
   "outputs": [
    {
     "ename": "NameError",
     "evalue": "name 'lists' is not defined",
     "output_type": "error",
     "traceback": [
      "\u001b[1;31m---------------------------------------------------------------------------\u001b[0m",
      "\u001b[1;31mNameError\u001b[0m                                 Traceback (most recent call last)",
      "Cell \u001b[1;32mIn[1], line 1\u001b[0m\n\u001b[1;32m----> 1\u001b[0m lists(\u001b[38;5;28menumerate\u001b[39m([\u001b[38;5;241m2\u001b[39m,\u001b[38;5;241m4\u001b[39m,\u001b[38;5;241m6\u001b[39m,\u001b[38;5;241m8\u001b[39m,\u001b[38;5;241m10\u001b[39m]),start\u001b[38;5;241m=\u001b[39m\u001b[38;5;241m-\u001b[39m\u001b[38;5;241m20\u001b[39m)\n",
      "\u001b[1;31mNameError\u001b[0m: name 'lists' is not defined"
     ]
    }
   ],
   "source": [
    "list(enumerate([2,4,6,8,10]),start=-20)"
   ]
  },
  {
   "cell_type": "code",
   "execution_count": null,
   "id": "5b8e60da",
   "metadata": {},
   "outputs": [],
   "source": []
  }
 ],
 "metadata": {
  "kernelspec": {
   "display_name": "Python 3 (ipykernel)",
   "language": "python",
   "name": "python3"
  },
  "language_info": {
   "codemirror_mode": {
    "name": "ipython",
    "version": 3
   },
   "file_extension": ".py",
   "mimetype": "text/x-python",
   "name": "python",
   "nbconvert_exporter": "python",
   "pygments_lexer": "ipython3",
   "version": "3.11.4"
  }
 },
 "nbformat": 4,
 "nbformat_minor": 5
}
