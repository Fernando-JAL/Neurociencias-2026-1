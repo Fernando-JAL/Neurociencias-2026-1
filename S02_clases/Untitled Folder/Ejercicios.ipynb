{
 "cells": [
  {
   "cell_type": "code",
   "execution_count": null,
   "id": "d3f08e15-7b38-46dc-b049-3a9a22e326d3",
   "metadata": {},
   "outputs": [],
   "source": [
    "# Ejerecicios\n",
    "\n",
    "1.- Crear una función que cuente las vocales de un string y regrese dicho número\n",
    "2.- Crear una función que determine si un número es par o impar e imprima si es par o impar\n",
    "3.- Crear una función para convertir de grados Celsius a grados Fahrenheit, dicha función recibirá la temperatura en grados celsius y deberá regresar a los grados Fahrenheit\n",
    "4.- Crear una función que reciba un entero y devuelva la suma de sus dígitos \n",
    "5.- Crear un función que cuente las palabras de un string y devuelva dicho número \n",
    "6.- Crear una función que reciba una lista con al menos 3 enteros y regrese el mínimo de todos los números de la lista \n",
    "7.- Crear una función que reciba dos strings( frase, letra) y cuente cuántas veces aparece la letra en la frase y regrese a ese número \n",
    "8.- Crear una función que reciba un string y cambie todas las minúsculas a mayúsculas y las mayúsculas a minúsculas\n",
    "9.- Crear una función que reciba un string y elimine todos los espacios y regrese el string sin espacios "
   ]
  },
  {
   "cell_type": "code",
   "execution_count": 2,
   "id": "9d601dc9-3ee9-4782-86d6-2f0c194bc3d1",
   "metadata": {},
   "outputs": [
    {
     "ename": "SyntaxError",
     "evalue": "invalid syntax (3649764158.py, line 8)",
     "output_type": "error",
     "traceback": [
      "  \u001b[36mCell\u001b[39m\u001b[36m \u001b[39m\u001b[32mIn[2]\u001b[39m\u001b[32m, line 8\u001b[39m\n\u001b[31m    \u001b[39m\u001b[31mDame el valor en grados Celsius 55\u001b[39m\n         ^\n\u001b[31mSyntaxError\u001b[39m\u001b[31m:\u001b[39m invalid syntax\n"
     ]
    }
   ],
   "source": [
    "def conv_Celsius_a_Fahrenheit():\n",
    "    Celsius = input(\"Dame el valor en grados Celsius\")\n",
    "    print(type(Celsius), Celsius)\n",
    "    Fahrenheit = Celsius *(9/5) +32\n",
    "    return Farhenheit\n",
    "conv_Celsius_a_Fahrenheit\n",
    "\n",
    "Dame el valor en grados Celsius 55\n",
    "<class \"str\"> 55\n"
   ]
  },
  {
   "cell_type": "code",
   "execution_count": 3,
   "id": "ed6ff6a2-6458-4be9-a0ba-5f9e469dc661",
   "metadata": {},
   "outputs": [
    {
     "data": {
      "text/plain": [
       "5"
      ]
     },
     "execution_count": 3,
     "metadata": {},
     "output_type": "execute_result"
    }
   ],
   "source": [
    "int(\"5\")"
   ]
  },
  {
   "cell_type": "code",
   "execution_count": 10,
   "id": "48736de8-a643-4749-9b25-e46cefa7ed92",
   "metadata": {},
   "outputs": [
    {
     "data": {
      "text/plain": [
       "6"
      ]
     },
     "execution_count": 10,
     "metadata": {},
     "output_type": "execute_result"
    }
   ],
   "source": [
    "# Ejercicio 4\n",
    "\n",
    "def sumar_digitos(n):\n",
    "    str_n = str(n)\n",
    "    total = 0\n",
    "    for digito in str_n:\n",
    "        total += int(digito) #Total = total + int(digito)\n",
    "\n",
    "    return total\n",
    "sumar_digitos(123)"
   ]
  },
  {
   "cell_type": "code",
   "execution_count": 15,
   "id": "fabebad2-0ca6-4e7e-a25f-0d687cfd86e1",
   "metadata": {},
   "outputs": [
    {
     "data": {
      "text/plain": [
       "('CADENA', 'alfabeto', 'Mientras', True, True)"
      ]
     },
     "execution_count": 15,
     "metadata": {},
     "output_type": "execute_result"
    }
   ],
   "source": [
    "\"cadena\".upper(), \"ALFABETO\".lower(), \"mientras\".capitalize(), \"a\".islower(), \"A\".isupper()"
   ]
  },
  {
   "cell_type": "code",
   "execution_count": 16,
   "id": "63fc51f4-1125-4b91-af86-27d0b984d4a3",
   "metadata": {},
   "outputs": [
    {
     "data": {
      "text/plain": [
       "(['a', 'b', 'c', 'd'], 'a-b-c')"
      ]
     },
     "execution_count": 16,
     "metadata": {},
     "output_type": "execute_result"
    }
   ],
   "source": [
    "\"a b c d\".split(sep = \" \"), \"-\".join([\"a\", \"b\", \"c\"])"
   ]
  },
  {
   "cell_type": "code",
   "execution_count": 19,
   "id": "59641a94-6df8-4a94-af9d-ac78598e361f",
   "metadata": {},
   "outputs": [
    {
     "ename": "_IncompleteInputError",
     "evalue": "incomplete input (3509903404.py, line 7)",
     "output_type": "error",
     "traceback": [
      "  \u001b[36mCell\u001b[39m\u001b[36m \u001b[39m\u001b[32mIn[19]\u001b[39m\u001b[32m, line 7\u001b[39m\n\u001b[31m    \u001b[39m\n    ^\n\u001b[31m_IncompleteInputError\u001b[39m\u001b[31m:\u001b[39m incomplete input\n"
     ]
    }
   ],
   "source": [
    "#Ejercicio 5\n",
    "def contar_palabras(cadena):\n",
    "    palabra = cadena.split()\n",
    "    return len(palabras)\n",
    "\n",
    "print(\"Ejercicios 5:\", contar_palabras(\"Hola mundo desde Pyhton\")\n",
    "    "
   ]
  },
  {
   "cell_type": "code",
   "execution_count": null,
   "id": "f69f0ac3-d435-4ea6-8962-5c99d5fb448a",
   "metadata": {},
   "outputs": [],
   "source": []
  }
 ],
 "metadata": {
  "kernelspec": {
   "display_name": "Python 3 (ipykernel)",
   "language": "python",
   "name": "python3"
  },
  "language_info": {
   "codemirror_mode": {
    "name": "ipython",
    "version": 3
   },
   "file_extension": ".py",
   "mimetype": "text/x-python",
   "name": "python",
   "nbconvert_exporter": "python",
   "pygments_lexer": "ipython3",
   "version": "3.13.7"
  }
 },
 "nbformat": 4,
 "nbformat_minor": 5
}
