{
 "cells": [
  {
   "cell_type": "markdown",
   "id": "ed6d88b4-7f94-4a54-b9e7-493a246c5c79",
   "metadata": {},
   "source": [
    "## conversion de tipos de datos"
   ]
  },
  {
   "cell_type": "code",
   "execution_count": 1,
   "id": "95fbb7cb-7ba9-4acf-878d-d53938f5a2b5",
   "metadata": {},
   "outputs": [
    {
     "data": {
      "text/plain": [
       "(-82, 631.0, 1j)"
      ]
     },
     "execution_count": 1,
     "metadata": {},
     "output_type": "execute_result"
    }
   ],
   "source": [
    "entero, flotante, complejo= -82,631., complex(0,1)\n",
    "entero, flotante, complejo"
   ]
  },
  {
   "cell_type": "code",
   "execution_count": 3,
   "id": "af8750b4-4cfa-4555-b35e-f7eeff6cc58f",
   "metadata": {},
   "outputs": [
    {
     "data": {
      "text/plain": [
       "'1j'"
      ]
     },
     "execution_count": 3,
     "metadata": {},
     "output_type": "execute_result"
    }
   ],
   "source": [
    "str(complejo)"
   ]
  },
  {
   "cell_type": "code",
   "execution_count": 4,
   "id": "65ff7f54-82da-44ec-aa52-210886240932",
   "metadata": {},
   "outputs": [
    {
     "data": {
      "text/plain": [
       "'-46.23'"
      ]
     },
     "execution_count": 4,
     "metadata": {},
     "output_type": "execute_result"
    }
   ],
   "source": [
    "cadena= '-46.23'\n",
    "cadena"
   ]
  },
  {
   "cell_type": "code",
   "execution_count": 5,
   "id": "559bb19a-c3a7-4280-a606-633defe29549",
   "metadata": {},
   "outputs": [
    {
     "data": {
      "text/plain": [
       "-46.23"
      ]
     },
     "execution_count": 5,
     "metadata": {},
     "output_type": "execute_result"
    }
   ],
   "source": [
    "float(cadena)"
   ]
  },
  {
   "cell_type": "code",
   "execution_count": 6,
   "id": "41e2550c-5818-410b-8ef2-bbaf04619580",
   "metadata": {},
   "outputs": [
    {
     "data": {
      "text/plain": [
       "('-', '4', '6', '.', '2', '3')"
      ]
     },
     "execution_count": 6,
     "metadata": {},
     "output_type": "execute_result"
    }
   ],
   "source": [
    "tuple(cadena)"
   ]
  },
  {
   "cell_type": "code",
   "execution_count": 8,
   "id": "e79a8df6-c3b5-4eff-a4fc-ccd35db67d22",
   "metadata": {},
   "outputs": [
    {
     "data": {
      "text/plain": [
       "-78"
      ]
     },
     "execution_count": 8,
     "metadata": {},
     "output_type": "execute_result"
    }
   ],
   "source": [
    "int('-78')"
   ]
  },
  {
   "cell_type": "markdown",
   "id": "2764b970-3d6d-4c34-86f4-664a083795be",
   "metadata": {},
   "source": [
    "## tipo de dato boolean"
   ]
  },
  {
   "cell_type": "code",
   "execution_count": 9,
   "id": "817993cd-2a14-4a00-9fba-8bcef73a902c",
   "metadata": {},
   "outputs": [
    {
     "data": {
      "text/plain": [
       "(True, False)"
      ]
     },
     "execution_count": 9,
     "metadata": {},
     "output_type": "execute_result"
    }
   ],
   "source": [
    "value1, value2= True, False\n",
    "value1, value2\n",
    "\n",
    "#booleano se refiere a verdadero y falso"
   ]
  },
  {
   "cell_type": "code",
   "execution_count": 10,
   "id": "7440f303-7be9-4dbd-b427-2bad1cb584a1",
   "metadata": {},
   "outputs": [
    {
     "data": {
      "text/plain": [
       "bool"
      ]
     },
     "execution_count": 10,
     "metadata": {},
     "output_type": "execute_result"
    }
   ],
   "source": [
    "type(value1)"
   ]
  },
  {
   "cell_type": "code",
   "execution_count": 11,
   "id": "33f154c1-0f1a-405f-ab32-898812fafeb4",
   "metadata": {},
   "outputs": [
    {
     "data": {
      "text/plain": [
       "False"
      ]
     },
     "execution_count": 11,
     "metadata": {},
     "output_type": "execute_result"
    }
   ],
   "source": [
    "bool(0)"
   ]
  },
  {
   "cell_type": "code",
   "execution_count": 12,
   "id": "7f259710-a086-4b5c-ae44-fae7ddfb2778",
   "metadata": {},
   "outputs": [
    {
     "data": {
      "text/plain": [
       "True"
      ]
     },
     "execution_count": 12,
     "metadata": {},
     "output_type": "execute_result"
    }
   ],
   "source": [
    "bool(1)"
   ]
  },
  {
   "cell_type": "code",
   "execution_count": 13,
   "id": "54803282-b81c-4f93-9c9e-d16832330094",
   "metadata": {},
   "outputs": [
    {
     "data": {
      "text/plain": [
       "True"
      ]
     },
     "execution_count": 13,
     "metadata": {},
     "output_type": "execute_result"
    }
   ],
   "source": [
    "bool('Hola')"
   ]
  },
  {
   "cell_type": "code",
   "execution_count": 14,
   "id": "5938107c-8628-426e-8989-4d38eb904276",
   "metadata": {},
   "outputs": [
    {
     "data": {
      "text/plain": [
       "True"
      ]
     },
     "execution_count": 14,
     "metadata": {},
     "output_type": "execute_result"
    }
   ],
   "source": [
    "bool(2)"
   ]
  },
  {
   "cell_type": "code",
   "execution_count": 20,
   "id": "2a066d2f-42fd-4f02-bdea-165d309041a8",
   "metadata": {},
   "outputs": [
    {
     "data": {
      "text/plain": [
       "(True, True, False, False)"
      ]
     },
     "execution_count": 20,
     "metadata": {},
     "output_type": "execute_result"
    }
   ],
   "source": [
    "### todo es true, excepto las listas o [] vacios son falsos\n",
    "bool(complex(0,1)), bool(['f', 99]), bool(''),  bool([])"
   ]
  },
  {
   "cell_type": "markdown",
   "id": "5ac11a44-df5a-4f4d-876d-7d415a825119",
   "metadata": {},
   "source": [
    "## conjuntos o set"
   ]
  },
  {
   "cell_type": "code",
   "execution_count": 24,
   "id": "3ab15d94-9de5-4d02-aac7-453005359182",
   "metadata": {},
   "outputs": [
    {
     "data": {
      "text/plain": [
       "set"
      ]
     },
     "execution_count": 24,
     "metadata": {},
     "output_type": "execute_result"
    }
   ],
   "source": [
    "type({4, 'cosa'})"
   ]
  },
  {
   "cell_type": "code",
   "execution_count": 25,
   "id": "a24361b1-92f0-4140-bebc-bc0666e88f7d",
   "metadata": {},
   "outputs": [],
   "source": [
    "conjunto= {4, 'cosa', 1, 2, 3, 4, 'a', 'b', 'c', 'a'}"
   ]
  },
  {
   "cell_type": "code",
   "execution_count": 26,
   "id": "896d219f-dfc6-44fc-b58a-6f9f232350f4",
   "metadata": {},
   "outputs": [
    {
     "data": {
      "text/plain": [
       "8"
      ]
     },
     "execution_count": 26,
     "metadata": {},
     "output_type": "execute_result"
    }
   ],
   "source": [
    "len(conjunto)\n",
    "\n",
    "## la diferencia con las litas es que aca no considera los elementos repetidos "
   ]
  },
  {
   "cell_type": "markdown",
   "id": "6df02195-8449-4543-aba0-fed00f5aefd8",
   "metadata": {},
   "source": [
    "## operadores de asignacion "
   ]
  },
  {
   "cell_type": "code",
   "execution_count": null,
   "id": "d41333ef-77c8-4da7-b321-0a8f884423bc",
   "metadata": {},
   "outputs": [],
   "source": [
    "#### son lo que asigna algo\n",
    "\n",
    "=, +=, -=, *=, /=, //=, %=, **="
   ]
  },
  {
   "cell_type": "code",
   "execution_count": 27,
   "id": "ae0d8306-a7d3-422a-a12a-6a2e471462b7",
   "metadata": {},
   "outputs": [
    {
     "data": {
      "text/plain": [
       "32"
      ]
     },
     "execution_count": 27,
     "metadata": {},
     "output_type": "execute_result"
    }
   ],
   "source": [
    "a=10\n",
    "a = a + 22\n",
    "a"
   ]
  },
  {
   "cell_type": "code",
   "execution_count": null,
   "id": "255b2545-3cf7-4296-bc4f-0829ee54174d",
   "metadata": {},
   "outputs": [],
   "source": [
    "cadena= 'hace mas frio'\n",
    "cadena= cadena + frio"
   ]
  },
  {
   "cell_type": "code",
   "execution_count": 29,
   "id": "63b99cd9-2d18-45fa-a085-816ceec7c66b",
   "metadata": {},
   "outputs": [
    {
     "data": {
      "text/plain": [
       "15"
      ]
     },
     "execution_count": 29,
     "metadata": {},
     "output_type": "execute_result"
    }
   ],
   "source": [
    "a=25\n",
    "a -= 10\n",
    "a"
   ]
  },
  {
   "cell_type": "code",
   "execution_count": 30,
   "id": "691217c0-4ae6-470d-8bc1-7a6fe7ec01bc",
   "metadata": {},
   "outputs": [
    {
     "data": {
      "text/plain": [
       "35"
      ]
     },
     "execution_count": 30,
     "metadata": {},
     "output_type": "execute_result"
    }
   ],
   "source": [
    "a=7\n",
    "a*= 5\n",
    "a"
   ]
  },
  {
   "cell_type": "code",
   "execution_count": 31,
   "id": "ba2b7623-dee8-4d2e-badc-98649e1dbf95",
   "metadata": {},
   "outputs": [
    {
     "data": {
      "text/plain": [
       "12.0"
      ]
     },
     "execution_count": 31,
     "metadata": {},
     "output_type": "execute_result"
    }
   ],
   "source": [
    "a= 144\n",
    "a /=12\n",
    "a"
   ]
  },
  {
   "cell_type": "code",
   "execution_count": 34,
   "id": "3992f017-e94b-40cb-8cfe-f857faff1a91",
   "metadata": {},
   "outputs": [
    {
     "data": {
      "text/plain": [
       "32"
      ]
     },
     "execution_count": 34,
     "metadata": {},
     "output_type": "execute_result"
    }
   ],
   "source": [
    "a= 2\n",
    "a**= 5\n",
    "a"
   ]
  },
  {
   "cell_type": "code",
   "execution_count": 40,
   "id": "11c51023-12fc-4c1d-851c-093910fe92b8",
   "metadata": {},
   "outputs": [
    {
     "ename": "TypeError",
     "evalue": "unsupported operand type(s) for +=: 'set' and 'list'",
     "output_type": "error",
     "traceback": [
      "\u001b[31m---------------------------------------------------------------------------\u001b[39m",
      "\u001b[31mTypeError\u001b[39m                                 Traceback (most recent call last)",
      "\u001b[36mCell\u001b[39m\u001b[36m \u001b[39m\u001b[32mIn[40]\u001b[39m\u001b[32m, line 2\u001b[39m\n\u001b[32m      1\u001b[39m a= {\u001b[32m3\u001b[39m,\u001b[32m6\u001b[39m,\u001b[32m8\u001b[39m, \u001b[33m'\u001b[39m\u001b[33mazul como el mar azul\u001b[39m\u001b[33m'\u001b[39m}\n\u001b[32m----> \u001b[39m\u001b[32m2\u001b[39m \u001b[43ma\u001b[49m\u001b[43m \u001b[49m\u001b[43m+\u001b[49m\u001b[43m=\u001b[49m\u001b[43m \u001b[49m\u001b[38;5;28;43mlist\u001b[39;49m\u001b[43m \u001b[49m\u001b[43m(\u001b[49m\u001b[33;43m'\u001b[39;49m\u001b[33;43mlas doce casas\u001b[39;49m\u001b[33;43m'\u001b[39;49m\u001b[43m)\u001b[49m\n\u001b[32m      3\u001b[39m a\n",
      "\u001b[31mTypeError\u001b[39m: unsupported operand type(s) for +=: 'set' and 'list'"
     ]
    }
   ],
   "source": [
    "a= {3,6,8, 'azul como el mar azul'}\n",
    "a += list ('las doce casas')\n",
    "a"
   ]
  },
  {
   "cell_type": "markdown",
   "id": "e1768cd6-fe1c-488b-bfaf-ecf9f395bf55",
   "metadata": {},
   "source": [
    "## operaciones relacionales \n",
    "<,>, ==, !="
   ]
  },
  {
   "cell_type": "code",
   "execution_count": 41,
   "id": "16b4cf59-6ad5-4fd1-a507-b0191a054575",
   "metadata": {},
   "outputs": [
    {
     "data": {
      "text/plain": [
       "False"
      ]
     },
     "execution_count": 41,
     "metadata": {},
     "output_type": "execute_result"
    }
   ],
   "source": [
    "a, b = 5, 18\n",
    "a > b"
   ]
  },
  {
   "cell_type": "code",
   "execution_count": 42,
   "id": "ed38c260-ca32-4583-96c7-f0b5b544beae",
   "metadata": {},
   "outputs": [
    {
     "data": {
      "text/plain": [
       "(False, True, False, True)"
      ]
     },
     "execution_count": 42,
     "metadata": {},
     "output_type": "execute_result"
    }
   ],
   "source": [
    "a, b = 5, 18\n",
    "a > b, a<b, a==b, a != b\n",
    "\n",
    "# el ! significa a es diferente de b"
   ]
  },
  {
   "cell_type": "code",
   "execution_count": 51,
   "id": "86c6cd21-de55-4125-971e-a204f238084c",
   "metadata": {},
   "outputs": [
    {
     "data": {
      "text/plain": [
       "False"
      ]
     },
     "execution_count": 51,
     "metadata": {},
     "output_type": "execute_result"
    }
   ],
   "source": [
    "a, b, c= -54.2, 22, 100\n",
    "\n",
    "(((a-b) < 567) !=0) == c*0"
   ]
  },
  {
   "cell_type": "code",
   "execution_count": 52,
   "id": "b80ce2a5-15d7-4fb6-ba7a-93c8965e0ae7",
   "metadata": {},
   "outputs": [
    {
     "data": {
      "text/plain": [
       "(True, True, True)"
      ]
     },
     "execution_count": 52,
     "metadata": {},
     "output_type": "execute_result"
    }
   ],
   "source": [
    "True !=0, True == 1, False ==0"
   ]
  },
  {
   "cell_type": "code",
   "execution_count": 53,
   "id": "95accbad-92f6-402f-8882-562a3539ae13",
   "metadata": {},
   "outputs": [
    {
     "data": {
      "text/plain": [
       "True"
      ]
     },
     "execution_count": 53,
     "metadata": {},
     "output_type": "execute_result"
    }
   ],
   "source": [
    "False < True"
   ]
  },
  {
   "cell_type": "code",
   "execution_count": 54,
   "id": "f11047b3-a797-4fb4-87f2-68ae0cc7b842",
   "metadata": {},
   "outputs": [
    {
     "data": {
      "text/plain": [
       "True"
      ]
     },
     "execution_count": 54,
     "metadata": {},
     "output_type": "execute_result"
    }
   ],
   "source": [
    "False + 1 <=  True\n",
    "## true porque lo forzamos"
   ]
  },
  {
   "cell_type": "code",
   "execution_count": 59,
   "id": "df45d2b2-8f53-43a0-85fa-66941badbeff",
   "metadata": {},
   "outputs": [
    {
     "data": {
      "text/plain": [
       "True"
      ]
     },
     "execution_count": 59,
     "metadata": {},
     "output_type": "execute_result"
    }
   ],
   "source": [
    "5 < 10 < 58\n"
   ]
  },
  {
   "cell_type": "code",
   "execution_count": 58,
   "id": "4a73548f-6d15-4f7b-b0de-d3d8fe81214c",
   "metadata": {},
   "outputs": [
    {
     "data": {
      "text/plain": [
       "False"
      ]
     },
     "execution_count": 58,
     "metadata": {},
     "output_type": "execute_result"
    }
   ],
   "source": [
    "5 < 10 < 3"
   ]
  },
  {
   "cell_type": "markdown",
   "id": "a78d0c45-ece0-4c1b-b643-e77b8f30649b",
   "metadata": {},
   "source": [
    "## operadores logicos \n",
    "\n",
    "or, and, not"
   ]
  },
  {
   "cell_type": "code",
   "execution_count": 64,
   "id": "cf35b737-fc78-47e9-8d85-4463a3464a0f",
   "metadata": {},
   "outputs": [
    {
     "data": {
      "text/plain": [
       "(True, False, False, False)"
      ]
     },
     "execution_count": 64,
     "metadata": {},
     "output_type": "execute_result"
    }
   ],
   "source": [
    "# tabla de verdad del and\n",
    "True and True, True and False, False and True, False and False "
   ]
  },
  {
   "cell_type": "code",
   "execution_count": 65,
   "id": "8caa3f01-31b3-48d2-b006-0c4c3170dffb",
   "metadata": {},
   "outputs": [
    {
     "data": {
      "text/plain": [
       "(True, True, True, False)"
      ]
     },
     "execution_count": 65,
     "metadata": {},
     "output_type": "execute_result"
    }
   ],
   "source": [
    "# tabla de verdad del and\n",
    "True or True, True or False, False or True, False or False "
   ]
  },
  {
   "cell_type": "code",
   "execution_count": 66,
   "id": "d6be7505-aa06-4d0d-bd89-333ab6697b0e",
   "metadata": {},
   "outputs": [
    {
     "data": {
      "text/plain": [
       "(False, True)"
      ]
     },
     "execution_count": 66,
     "metadata": {},
     "output_type": "execute_result"
    }
   ],
   "source": [
    "# tabla de verdad del not\n",
    "not True, not False"
   ]
  },
  {
   "cell_type": "code",
   "execution_count": 67,
   "id": "4fc15f2a-9d4b-440f-b0b7-22d320ee7f7b",
   "metadata": {},
   "outputs": [
    {
     "data": {
      "text/plain": [
       "False"
      ]
     },
     "execution_count": 67,
     "metadata": {},
     "output_type": "execute_result"
    }
   ],
   "source": [
    "# 3 < 8< 5\n",
    "3< 8 and 8 <5"
   ]
  },
  {
   "cell_type": "code",
   "execution_count": 68,
   "id": "40e38e2b-7dee-4bb2-bc32-b81089a7ad42",
   "metadata": {},
   "outputs": [
    {
     "data": {
      "text/plain": [
       "True"
      ]
     },
     "execution_count": 68,
     "metadata": {},
     "output_type": "execute_result"
    }
   ],
   "source": [
    "# 3 < 5 < 10\n",
    "3< 5 and 5 <10"
   ]
  },
  {
   "cell_type": "code",
   "execution_count": 71,
   "id": "5ffddf94-55f4-495f-9219-63ac76d242bc",
   "metadata": {},
   "outputs": [
    {
     "data": {
      "text/plain": [
       "False"
      ]
     },
     "execution_count": 71,
     "metadata": {},
     "output_type": "execute_result"
    }
   ],
   "source": [
    "c= 'hola mundo'\n",
    "len (c) > 10 and c[0] == 'H'\n",
    "\n",
    "## lo primero si es verdedero, pero lo de la H no es mayucula, asi que es falso y true+false= false"
   ]
  },
  {
   "cell_type": "markdown",
   "id": "8419659a-00be-4bab-ae8f-d7f311b68207",
   "metadata": {},
   "source": [
    "## controladores de flujo \n",
    "\n",
    "son estructuras de control _condicionada_, nos permite evaluar si una o mas condiciones se cumplen, para decidir que acciones se van a ejecutar \n",
    "* la evaluacion de condiciones solo puede dar como resultado un boolean\n",
    "\n",
    "los posibles controladores de flujo son:\n",
    "*if \n",
    "* elif\n",
    "* else\n",
    "* while\n",
    "* for"
   ]
  },
  {
   "cell_type": "markdown",
   "id": "9868cf40-38a3-4e7a-83bd-1811b8da7ba4",
   "metadata": {},
   "source": [
    "### sentencia if \n",
    "* if se ejecuta siempre que la expresion se acompañe de True"
   ]
  },
  {
   "cell_type": "code",
   "execution_count": 72,
   "id": "eb65e3f5-8b85-4577-b003-430eb7b3b343",
   "metadata": {},
   "outputs": [
    {
     "name": "stdout",
     "output_type": "stream",
     "text": [
      "entro al if\n"
     ]
    }
   ],
   "source": [
    "if True: \n",
    "    print ('entro al if')"
   ]
  },
  {
   "cell_type": "code",
   "execution_count": 73,
   "id": "6c8b354e-74c7-4558-ab2f-ac70a91a5334",
   "metadata": {},
   "outputs": [
    {
     "name": "stdout",
     "output_type": "stream",
     "text": [
      "entro al if\n"
     ]
    }
   ],
   "source": [
    "a= 2\n",
    "\n",
    "if a>0:\n",
    "    print('entro al if')"
   ]
  },
  {
   "cell_type": "code",
   "execution_count": 77,
   "id": "59da3e08-38e5-46fd-9a52-7e54f694a388",
   "metadata": {},
   "outputs": [
    {
     "name": "stdout",
     "output_type": "stream",
     "text": [
      "a mayor que 5\n",
      "codigo despues del if\n"
     ]
    }
   ],
   "source": [
    "a= 10\n",
    "if a>5:\n",
    "    print('a mayor que 5')\n",
    "else:\n",
    "    print('pos a no es mayor que 5')\n",
    "\n",
    "print('codigo despues del if')"
   ]
  },
  {
   "cell_type": "code",
   "execution_count": 83,
   "id": "fe30223f-57e0-49a3-bba9-e8182205e5c7",
   "metadata": {},
   "outputs": [
    {
     "name": "stdout",
     "output_type": "stream",
     "text": [
      "pos a no es mayor que 5\n",
      "codigo despues del if\n"
     ]
    }
   ],
   "source": [
    "a= -54\n",
    "if a>5:\n",
    "    print('a mayor que 5')\n",
    "else:\n",
    "    print('pos a no es mayor que 5')\n",
    "\n",
    "print('codigo despues del if')"
   ]
  },
  {
   "cell_type": "code",
   "execution_count": 78,
   "id": "c8ccd2cc-214e-411b-acb9-be9dd5b1c684",
   "metadata": {},
   "outputs": [
    {
     "name": "stdout",
     "output_type": "stream",
     "text": [
      "a es par\n",
      "b es positivo\n",
      "continuamos...\n"
     ]
    }
   ],
   "source": [
    "a, b= 10, 5\n",
    "if a % 2 == 0:\n",
    "    print('a es par')\n",
    "    if b > 0:\n",
    "        print('b es positivo')\n",
    "    else:\n",
    "        print('b es gruñon')\n",
    "else:\n",
    "    print('a es impar y b no me importa')\n",
    "\n",
    "print('continuamos...')"
   ]
  },
  {
   "cell_type": "code",
   "execution_count": 79,
   "id": "99005000-8be0-4fee-a952-e235e6b2ee5e",
   "metadata": {},
   "outputs": [
    {
     "name": "stdout",
     "output_type": "stream",
     "text": [
      "a es impar y b no me importa\n",
      "continuamos...\n"
     ]
    }
   ],
   "source": [
    "a, b= 17.5, -15\n",
    "if a % 2 == 0:\n",
    "    print('a es par')\n",
    "    if b > 0:\n",
    "        print('b es positivo')\n",
    "    else:\n",
    "        print('b es gruñon')\n",
    "else:\n",
    "    print('a es impar y b no me importa')\n",
    "\n",
    "print('continuamos...')"
   ]
  },
  {
   "cell_type": "code",
   "execution_count": 80,
   "id": "df2b752a-9f7d-402f-bbd2-6ba1687e7718",
   "metadata": {},
   "outputs": [
    {
     "name": "stdout",
     "output_type": "stream",
     "text": [
      "a en la lista\n",
      "hay q seguirle\n"
     ]
    }
   ],
   "source": [
    "lista= [5, 7, 9, 10]\n",
    "a, b = 9, 17\n",
    "\n",
    "if a in lista:\n",
    "    print('a en la lista')\n",
    "elif a % 2 == 0:\n",
    "    print('a es par')\n",
    "else:\n",
    "    print('pos nadota')\n",
    "\n",
    "print('hay q seguirle')\n",
    "\n",
    "## elif una alternativa al if pero que tambien requiera una condicional "
   ]
  },
  {
   "cell_type": "code",
   "execution_count": 82,
   "id": "808dd91c-6f50-492f-8fbe-f666a98f71a0",
   "metadata": {},
   "outputs": [],
   "source": [
    "a= 5\n",
    "if a % 2== 0:\n",
    "    print('a es par')\n",
    "else:\n",
    "    pass\n",
    "## siempre debo ponerle algo a else, pero si no quiero puedo poner pass, de pasale "
   ]
  },
  {
   "cell_type": "code",
   "execution_count": null,
   "id": "5b13374a-5532-4af7-8d7f-14fb7f848620",
   "metadata": {},
   "outputs": [],
   "source": []
  },
  {
   "cell_type": "code",
   "execution_count": null,
   "id": "e2196d26-383a-42bd-953b-81caf1c5bdc9",
   "metadata": {},
   "outputs": [],
   "source": []
  },
  {
   "cell_type": "code",
   "execution_count": null,
   "id": "853f9f26-1dc0-4f8d-9c32-453e9bfc50f5",
   "metadata": {},
   "outputs": [],
   "source": []
  }
 ],
 "metadata": {
  "kernelspec": {
   "display_name": "Python 3 (ipykernel)",
   "language": "python",
   "name": "python3"
  },
  "language_info": {
   "codemirror_mode": {
    "name": "ipython",
    "version": 3
   },
   "file_extension": ".py",
   "mimetype": "text/x-python",
   "name": "python",
   "nbconvert_exporter": "python",
   "pygments_lexer": "ipython3",
   "version": "3.13.6"
  }
 },
 "nbformat": 4,
 "nbformat_minor": 5
}
