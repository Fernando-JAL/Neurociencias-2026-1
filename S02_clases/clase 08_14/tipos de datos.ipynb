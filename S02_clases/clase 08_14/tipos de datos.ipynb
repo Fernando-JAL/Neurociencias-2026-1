{
 "cells": [
  {
   "cell_type": "markdown",
   "id": "18cbbe01-9684-4fb3-b4ea-2fa7a8280dd8",
   "metadata": {},
   "source": [
    "# TIPOS DE DATOS\n",
    "##Datos númericos (int)"
   ]
  },
  {
   "cell_type": "code",
   "execution_count": 1,
   "id": "7c028acb-9689-4fd4-8886-ae675bf93ef4",
   "metadata": {},
   "outputs": [],
   "source": [
    "a= 1"
   ]
  },
  {
   "cell_type": "code",
   "execution_count": 2,
   "id": "d4b3fdcd-e6dd-4703-8163-ba61211d631e",
   "metadata": {},
   "outputs": [],
   "source": [
    "b= 12345678912345671234567891234567890"
   ]
  },
  {
   "cell_type": "markdown",
   "id": "ee49447a-2212-435e-ad24-101bee283bc2",
   "metadata": {},
   "source": [
    "# notas\n",
    "\n",
    "Type = función para que nos muestre el tipo de valor tiene esa variable\n",
    "recordar que tipo de variables existen en python: numericos (enteros, flotantes, complejos)\n",
    "\n"
   ]
  },
  {
   "cell_type": "markdown",
   "id": "ad287c06-7580-4d32-87ac-e89333604fa4",
   "metadata": {},
   "source": [
    "Strings, secuencias (rangos, tuplas y listas)"
   ]
  },
  {
   "cell_type": "code",
   "execution_count": null,
   "id": "3af8c983-edd5-4c83-a367-182d7c781b61",
   "metadata": {},
   "outputs": [],
   "source": []
  },
  {
   "cell_type": "code",
   "execution_count": 3,
   "id": "c4fa7028-7b6e-4439-96eb-3827846a9b65",
   "metadata": {},
   "outputs": [
    {
     "data": {
      "text/plain": [
       "int"
      ]
     },
     "execution_count": 3,
     "metadata": {},
     "output_type": "execute_result"
    }
   ],
   "source": [
    "type (a) "
   ]
  },
  {
   "cell_type": "code",
   "execution_count": 4,
   "id": "ff8615d6-f342-45db-9fdb-b3a0587a307e",
   "metadata": {},
   "outputs": [
    {
     "data": {
      "text/plain": [
       "float"
      ]
     },
     "execution_count": 4,
     "metadata": {},
     "output_type": "execute_result"
    }
   ],
   "source": [
    "type (1.2)"
   ]
  },
  {
   "cell_type": "code",
   "execution_count": 5,
   "id": "386acff2-9260-4f37-a6f4-ef622978a8d4",
   "metadata": {},
   "outputs": [
    {
     "ename": "NameError",
     "evalue": "name 'i' is not defined",
     "output_type": "error",
     "traceback": [
      "\u001b[1;31m---------------------------------------------------------------------------\u001b[0m",
      "\u001b[1;31mNameError\u001b[0m                                 Traceback (most recent call last)",
      "Cell \u001b[1;32mIn[5], line 1\u001b[0m\n\u001b[1;32m----> 1\u001b[0m \u001b[38;5;28mtype\u001b[39m (\u001b[43mi\u001b[49m)\n",
      "\u001b[1;31mNameError\u001b[0m: name 'i' is not defined"
     ]
    }
   ],
   "source": [
    "type (i)"
   ]
  },
  {
   "cell_type": "markdown",
   "id": "4b19c811-e73f-45d5-87e2-8c3b43fcbf0e",
   "metadata": {},
   "source": [
    "### Definición de numeros complejos"
   ]
  },
  {
   "cell_type": "code",
   "execution_count": 6,
   "id": "94bbba6b-5d05-4d0a-99d5-0b61c4768fe3",
   "metadata": {},
   "outputs": [
    {
     "data": {
      "text/plain": [
       "(1+3j)"
      ]
     },
     "execution_count": 6,
     "metadata": {},
     "output_type": "execute_result"
    }
   ],
   "source": [
    "complex (1, 3)"
   ]
  },
  {
   "cell_type": "raw",
   "id": "8ab64c34-5881-4ae8-9a91-a07912b3bca1",
   "metadata": {},
   "source": [
    "vemos que i, que es un número complejo, python lo representa con J"
   ]
  },
  {
   "cell_type": "code",
   "execution_count": 7,
   "id": "1de84a3c-e42e-4bf4-861a-f727ee7a927f",
   "metadata": {},
   "outputs": [
    {
     "data": {
      "text/plain": [
       "(4+7j)"
      ]
     },
     "execution_count": 7,
     "metadata": {},
     "output_type": "execute_result"
    }
   ],
   "source": [
    "complex (4, 7)"
   ]
  },
  {
   "cell_type": "code",
   "execution_count": 8,
   "id": "7ca5fb55-396f-4524-b81f-7e2a066b713b",
   "metadata": {},
   "outputs": [
    {
     "data": {
      "text/plain": [
       "(3+1j)"
      ]
     },
     "execution_count": 8,
     "metadata": {},
     "output_type": "execute_result"
    }
   ],
   "source": [
    "complex (3, 1)"
   ]
  },
  {
   "cell_type": "code",
   "execution_count": 10,
   "id": "cfab9d2a-978e-469c-8b5b-af093c0baec4",
   "metadata": {},
   "outputs": [
    {
     "data": {
      "text/plain": [
       "1j"
      ]
     },
     "execution_count": 10,
     "metadata": {},
     "output_type": "execute_result"
    }
   ],
   "source": [
    "complex (0, 1)"
   ]
  },
  {
   "cell_type": "code",
   "execution_count": 11,
   "id": "f5264d39-615c-4c2b-b4e9-e2e17340e09c",
   "metadata": {},
   "outputs": [
    {
     "data": {
      "text/plain": [
       "(3+1j)"
      ]
     },
     "execution_count": 11,
     "metadata": {},
     "output_type": "execute_result"
    }
   ],
   "source": [
    "complex (0, 1) + 3"
   ]
  },
  {
   "cell_type": "markdown",
   "id": "ecef8e7c-9f34-4d32-8f24-09d694bcea19",
   "metadata": {},
   "source": []
  },
  {
   "cell_type": "code",
   "execution_count": 12,
   "id": "7e8bafa4-10d3-4eb8-b1b2-c78fccee0038",
   "metadata": {},
   "outputs": [],
   "source": [
    "# quiero sumar 2j\n",
    "c= complex (3, 1)"
   ]
  },
  {
   "cell_type": "code",
   "execution_count": 13,
   "id": "299812c6-0fd7-4519-bead-b277668cc481",
   "metadata": {},
   "outputs": [
    {
     "data": {
      "text/plain": [
       "(3+3j)"
      ]
     },
     "execution_count": 13,
     "metadata": {},
     "output_type": "execute_result"
    }
   ],
   "source": [
    "c+ complex (0,2)"
   ]
  },
  {
   "cell_type": "code",
   "execution_count": 14,
   "id": "e9982157-5080-49b4-9d15-f2bd3f4f8be9",
   "metadata": {},
   "outputs": [
    {
     "data": {
      "text/plain": [
       "complex"
      ]
     },
     "execution_count": 14,
     "metadata": {},
     "output_type": "execute_result"
    }
   ],
   "source": [
    "type(c)"
   ]
  },
  {
   "cell_type": "markdown",
   "id": "7abafc4c-c7ab-43c5-a985-51ef2b5ee917",
   "metadata": {},
   "source": [
    "## operaciones con datos númericos"
   ]
  },
  {
   "cell_type": "code",
   "execution_count": 15,
   "id": "3f8c7e56-568c-4e0e-a15a-2793d04792a9",
   "metadata": {},
   "outputs": [
    {
     "data": {
      "text/plain": [
       "100"
      ]
     },
     "execution_count": 15,
     "metadata": {},
     "output_type": "execute_result"
    }
   ],
   "source": [
    "56+44"
   ]
  },
  {
   "cell_type": "code",
   "execution_count": 16,
   "id": "f1038308-b020-49ae-92ce-694efca3cb42",
   "metadata": {},
   "outputs": [
    {
     "data": {
      "text/plain": [
       "720"
      ]
     },
     "execution_count": 16,
     "metadata": {},
     "output_type": "execute_result"
    }
   ],
   "source": [
    "800-80"
   ]
  },
  {
   "cell_type": "code",
   "execution_count": 18,
   "id": "c9063ca9-3b8b-44cd-9417-9a361598f740",
   "metadata": {},
   "outputs": [
    {
     "data": {
      "text/plain": [
       "261"
      ]
     },
     "execution_count": 18,
     "metadata": {},
     "output_type": "execute_result"
    }
   ],
   "source": [
    "87*3"
   ]
  },
  {
   "cell_type": "code",
   "execution_count": 19,
   "id": "37845cd1-c700-4b94-b884-d9d251b8644c",
   "metadata": {},
   "outputs": [
    {
     "data": {
      "text/plain": [
       "125"
      ]
     },
     "execution_count": 19,
     "metadata": {},
     "output_type": "execute_result"
    }
   ],
   "source": [
    "##potencia\n",
    "5**3"
   ]
  },
  {
   "cell_type": "code",
   "execution_count": 20,
   "id": "74d2b19c-13ec-4055-b3d9-6512ff96d511",
   "metadata": {},
   "outputs": [
    {
     "data": {
      "text/plain": [
       "2.23606797749979"
      ]
     },
     "execution_count": 20,
     "metadata": {},
     "output_type": "execute_result"
    }
   ],
   "source": [
    "5**0.5"
   ]
  },
  {
   "cell_type": "code",
   "execution_count": 21,
   "id": "6d75a8a5-6573-4393-b2dc-3f63db61f1e3",
   "metadata": {},
   "outputs": [
    {
     "data": {
      "text/plain": [
       "0"
      ]
     },
     "execution_count": 21,
     "metadata": {},
     "output_type": "execute_result"
    }
   ],
   "source": [
    "## residuo (lo que sobra de una división)\n",
    "16 % 4\n"
   ]
  },
  {
   "cell_type": "code",
   "execution_count": 24,
   "id": "0e0335f2-c96a-4493-bdee-0235043ea2af",
   "metadata": {},
   "outputs": [
    {
     "data": {
      "text/plain": [
       "4"
      ]
     },
     "execution_count": 24,
     "metadata": {},
     "output_type": "execute_result"
    }
   ],
   "source": [
    "## para calcular el cociente o división entera (sin punto decimal)\n",
    "17//4"
   ]
  },
  {
   "cell_type": "code",
   "execution_count": 25,
   "id": "f2c08d51-855b-4855-9c2f-76647a071862",
   "metadata": {},
   "outputs": [],
   "source": [
    "a= 8\n",
    "b= 3\n",
    "c= 42"
   ]
  },
  {
   "cell_type": "code",
   "execution_count": 27,
   "id": "70400629-f0b7-4cbe-9723-9e190cffb527",
   "metadata": {},
   "outputs": [
    {
     "data": {
      "text/plain": [
       "8"
      ]
     },
     "execution_count": 27,
     "metadata": {},
     "output_type": "execute_result"
    }
   ],
   "source": [
    "a"
   ]
  },
  {
   "cell_type": "code",
   "execution_count": 28,
   "id": "3f16d167-73ec-49b3-b4ff-14a58edcc8de",
   "metadata": {},
   "outputs": [
    {
     "data": {
      "text/plain": [
       "(8, 3, 42)"
      ]
     },
     "execution_count": 28,
     "metadata": {},
     "output_type": "execute_result"
    }
   ],
   "source": [
    "a, b, c"
   ]
  },
  {
   "cell_type": "code",
   "execution_count": 29,
   "id": "dc07a6c1-b8cd-4d39-8ea0-947962ab6841",
   "metadata": {},
   "outputs": [],
   "source": [
    "a, b , c = 8, 3, 42"
   ]
  },
  {
   "cell_type": "code",
   "execution_count": 31,
   "id": "eec6e3d9-52b5-499d-b2c3-9ae1e345ee40",
   "metadata": {},
   "outputs": [
    {
     "data": {
      "text/plain": [
       "(8, 3, 42)"
      ]
     },
     "execution_count": 31,
     "metadata": {},
     "output_type": "execute_result"
    }
   ],
   "source": [
    "a, b , c"
   ]
  },
  {
   "cell_type": "code",
   "execution_count": 39,
   "id": "343e3306-ed3a-4ce9-a597-7479f0bd909a",
   "metadata": {},
   "outputs": [
    {
     "ename": "ZeroDivisionError",
     "evalue": "division by zero",
     "output_type": "error",
     "traceback": [
      "\u001b[1;31m---------------------------------------------------------------------------\u001b[0m",
      "\u001b[1;31mZeroDivisionError\u001b[0m                         Traceback (most recent call last)",
      "Cell \u001b[1;32mIn[39], line 1\u001b[0m\n\u001b[1;32m----> 1\u001b[0m c\u001b[38;5;241m/\u001b[39ma \u001b[38;5;241m+\u001b[39m a\u001b[38;5;241m*\u001b[39mb \u001b[38;5;241m-\u001b[39m \u001b[43ma\u001b[49m\u001b[38;5;241;43m*\u001b[39;49m\u001b[38;5;241;43m*\u001b[39;49m\u001b[43mb\u001b[49m\u001b[38;5;241;43m/\u001b[39;49m\u001b[43m \u001b[49m\u001b[43m(\u001b[49m\u001b[38;5;241;43m42\u001b[39;49m\u001b[43m \u001b[49m\u001b[38;5;241;43m%\u001b[39;49m\u001b[43m \u001b[49m\u001b[38;5;241;43m3\u001b[39;49m\u001b[43m)\u001b[49m\n",
      "\u001b[1;31mZeroDivisionError\u001b[0m: division by zero"
     ]
    }
   ],
   "source": [
    "c/a + a*b - a**b/ (42 % 3)"
   ]
  },
  {
   "cell_type": "code",
   "execution_count": 40,
   "id": "301fd3c1-39f4-4594-8fa6-e0f9ed9774c2",
   "metadata": {},
   "outputs": [
    {
     "data": {
      "text/plain": [
       "29.05952380952381"
      ]
     },
     "execution_count": 40,
     "metadata": {},
     "output_type": "execute_result"
    }
   ],
   "source": [
    "#sin parentesis\n",
    "c/a + a*b - a**b/ 42 % 3"
   ]
  },
  {
   "cell_type": "code",
   "execution_count": null,
   "id": "4f36dd6e-2fc8-4306-b5b8-8c483ea7a010",
   "metadata": {},
   "outputs": [],
   "source": [
    "#corrección, pq el de arriba no podía ser cociente porq no \n",
    "(c/a) +( a*b) - ((a**b)/ (42 % 3))"
   ]
  },
  {
   "cell_type": "markdown",
   "id": "5e90e39a-bf62-4252-9c3b-761d3730c860",
   "metadata": {},
   "source": [
    "# Strings"
   ]
  },
  {
   "cell_type": "code",
   "execution_count": null,
   "id": "1f4af92c-7995-4623-b74b-42d1ee6d96f9",
   "metadata": {},
   "outputs": [],
   "source": [
    "\"esto es ina cadena de texto"
   ]
  },
  {
   "cell_type": "code",
   "execution_count": 54,
   "id": "8d52e4ba-f62e-4967-b83c-ed1001441238",
   "metadata": {},
   "outputs": [
    {
     "data": {
      "text/plain": [
       "('cadena de texto 1', 'cadena de texto 2 ')"
      ]
     },
     "execution_count": 54,
     "metadata": {},
     "output_type": "execute_result"
    }
   ],
   "source": [
    "a, b = \"cadena de texto 1\", \"cadena de texto 2 \"\n",
    "a, b "
   ]
  },
  {
   "cell_type": "code",
   "execution_count": 55,
   "id": "0046bbc5-2bed-48ba-80fd-a37b18039c16",
   "metadata": {},
   "outputs": [
    {
     "name": "stdout",
     "output_type": "stream",
     "text": [
      "cadena de texto 1\n"
     ]
    }
   ],
   "source": [
    "print (a)"
   ]
  },
  {
   "cell_type": "code",
   "execution_count": 56,
   "id": "a3e11e0e-3871-499a-a8a5-f8c0d21eebe8",
   "metadata": {},
   "outputs": [
    {
     "name": "stdout",
     "output_type": "stream",
     "text": [
      "cadena de texto 2 \n"
     ]
    }
   ],
   "source": [
    "print (b)"
   ]
  },
  {
   "cell_type": "code",
   "execution_count": 57,
   "id": "ac85fcbb-7b54-4b30-9291-63d515f1274b",
   "metadata": {},
   "outputs": [
    {
     "name": "stdout",
     "output_type": "stream",
     "text": [
      "cadena de texto 1 cadena de texto 2 \n"
     ]
    }
   ],
   "source": [
    "print (a , b)"
   ]
  },
  {
   "cell_type": "code",
   "execution_count": 58,
   "id": "202e615f-5cb4-4fed-9237-045c3d542809",
   "metadata": {},
   "outputs": [
    {
     "name": "stdout",
     "output_type": "stream",
     "text": [
      "cadena de texto 1 \t cadena de texto 2  otra cosa\n"
     ]
    }
   ],
   "source": [
    "print (a, \"\\t\", b, \"otra cosa\" )\n",
    "       # \\t significa tabulación, ctrl+alt+? para poner \\"
   ]
  },
  {
   "cell_type": "code",
   "execution_count": 49,
   "id": "67d209f3-e24b-438f-9b3b-e5c503db738c",
   "metadata": {},
   "outputs": [
    {
     "name": "stdout",
     "output_type": "stream",
     "text": [
      "cadena de texto 1 \n",
      " cadna de texto 2 \n"
     ]
    }
   ],
   "source": [
    "print (a, \"\\n\", b)\n",
    " #/n significa salto de línea, "
   ]
  },
  {
   "cell_type": "code",
   "execution_count": 59,
   "id": "e6c0f9ab-0b36-42f9-ad6e-7e357b46fd88",
   "metadata": {},
   "outputs": [
    {
     "name": "stdout",
     "output_type": "stream",
     "text": [
      "primera línea de texto\n",
      "\"\"segunda línea de texto\n"
     ]
    }
   ],
   "source": [
    "## para tener varias lineas de texto\n",
    "\n",
    "print( \"\"\"primera línea de texto\n",
    "\"\"segunda línea de texto\"\"\" )"
   ]
  },
  {
   "cell_type": "code",
   "execution_count": 62,
   "id": "ba1f526b-6032-4b3e-bb55-8b2c9c6babc5",
   "metadata": {},
   "outputs": [
    {
     "data": {
      "text/plain": [
       "'cadena de texto 1cadena de texto 2 '"
      ]
     },
     "execution_count": 62,
     "metadata": {},
     "output_type": "execute_result"
    }
   ],
   "source": [
    "a+b"
   ]
  },
  {
   "cell_type": "code",
   "execution_count": 65,
   "id": "d220ec73-d711-45fb-a5a6-7b6a8063b5db",
   "metadata": {},
   "outputs": [],
   "source": [
    " a, b = \"ah\", \"be\""
   ]
  },
  {
   "cell_type": "code",
   "execution_count": 66,
   "id": "d0733c8a-06bb-462d-8b3d-fe3577ec268c",
   "metadata": {},
   "outputs": [
    {
     "ename": "TypeError",
     "evalue": "unsupported operand type(s) for -: 'str' and 'str'",
     "output_type": "error",
     "traceback": [
      "\u001b[1;31m---------------------------------------------------------------------------\u001b[0m",
      "\u001b[1;31mTypeError\u001b[0m                                 Traceback (most recent call last)",
      "Cell \u001b[1;32mIn[66], line 1\u001b[0m\n\u001b[1;32m----> 1\u001b[0m \u001b[43ma\u001b[49m\u001b[38;5;241;43m-\u001b[39;49m\u001b[43mb\u001b[49m\n",
      "\u001b[1;31mTypeError\u001b[0m: unsupported operand type(s) for -: 'str' and 'str'"
     ]
    }
   ],
   "source": [
    "a-b"
   ]
  },
  {
   "cell_type": "code",
   "execution_count": 67,
   "id": "0d781894-52d9-4c9e-b5df-2dc3fd0f6465",
   "metadata": {},
   "outputs": [
    {
     "ename": "TypeError",
     "evalue": "unsupported operand type(s) for +: 'int' and 'str'",
     "output_type": "error",
     "traceback": [
      "\u001b[1;31m---------------------------------------------------------------------------\u001b[0m",
      "\u001b[1;31mTypeError\u001b[0m                                 Traceback (most recent call last)",
      "Cell \u001b[1;32mIn[67], line 1\u001b[0m\n\u001b[1;32m----> 1\u001b[0m \u001b[38;5;241;43m3\u001b[39;49m\u001b[43m \u001b[49m\u001b[38;5;241;43m+\u001b[39;49m\u001b[43m \u001b[49m\u001b[43ma\u001b[49m\n",
      "\u001b[1;31mTypeError\u001b[0m: unsupported operand type(s) for +: 'int' and 'str'"
     ]
    }
   ],
   "source": [
    "3 + a"
   ]
  },
  {
   "cell_type": "code",
   "execution_count": 68,
   "id": "46236c95-001d-4c0a-8455-4566fd54e69c",
   "metadata": {},
   "outputs": [
    {
     "data": {
      "text/plain": [
       "'ahahah'"
      ]
     },
     "execution_count": 68,
     "metadata": {},
     "output_type": "execute_result"
    }
   ],
   "source": [
    "3 * a"
   ]
  },
  {
   "cell_type": "code",
   "execution_count": 69,
   "id": "8e3ec129-bdb6-4085-902c-bb1c5300569e",
   "metadata": {},
   "outputs": [
    {
     "data": {
      "text/plain": [
       "'ahahahbebeah'"
      ]
     },
     "execution_count": 69,
     "metadata": {},
     "output_type": "execute_result"
    }
   ],
   "source": [
    "3*a + 2 * b + a"
   ]
  },
  {
   "cell_type": "code",
   "execution_count": 70,
   "id": "4bc9f7cd-d644-49bf-8767-e986d4553725",
   "metadata": {},
   "outputs": [
    {
     "data": {
      "text/plain": [
       "'ahahah'"
      ]
     },
     "execution_count": 70,
     "metadata": {},
     "output_type": "execute_result"
    }
   ],
   "source": [
    "a*3"
   ]
  },
  {
   "cell_type": "markdown",
   "id": "fb6d82c0-8088-41b9-b53a-cf90219d943e",
   "metadata": {},
   "source": [
    "## slicing\n",
    "rebanaar nuestra cadena en posiciones, comenzando por la posición  pos0"
   ]
  },
  {
   "cell_type": "code",
   "execution_count": 71,
   "id": "bdf7bfc2-d3fb-4128-b867-fccb5f467e30",
   "metadata": {},
   "outputs": [],
   "source": [
    "a= \"jolines, el 8 es mi número predilecto\""
   ]
  },
  {
   "cell_type": "code",
   "execution_count": 72,
   "id": "7e794bad-7281-40b3-92f3-4bba740a8490",
   "metadata": {},
   "outputs": [],
   "source": [
    "b = \"cadena\""
   ]
  },
  {
   "cell_type": "code",
   "execution_count": 73,
   "id": "7401c5b5-72e4-40e7-8a64-c662f5c44826",
   "metadata": {},
   "outputs": [
    {
     "data": {
      "text/plain": [
       "'n'"
      ]
     },
     "execution_count": 73,
     "metadata": {},
     "output_type": "execute_result"
    }
   ],
   "source": [
    "b [4]"
   ]
  },
  {
   "cell_type": "markdown",
   "id": "1615e62f-b809-4497-87f3-3b9cd26b0d51",
   "metadata": {},
   "source": [
    "Para medir el tamaño de la palabra"
   ]
  },
  {
   "cell_type": "code",
   "execution_count": 74,
   "id": "83d07b17-9d29-4d80-857c-61243efaf0b6",
   "metadata": {},
   "outputs": [
    {
     "data": {
      "text/plain": [
       "6"
      ]
     },
     "execution_count": 74,
     "metadata": {},
     "output_type": "execute_result"
    }
   ],
   "source": [
    "len (b)"
   ]
  },
  {
   "cell_type": "code",
   "execution_count": null,
   "id": "873bce3d-8fc3-403c-ac64-1646611a2fdd",
   "metadata": {},
   "outputs": [],
   "source": [
    "#3 para concatenar las letras\n",
    "# j tiene la posición 0\n",
    "# la s tiene la posición 6\n",
    "#los espacios tmb cuentan"
   ]
  },
  {
   "cell_type": "code",
   "execution_count": 76,
   "id": "37944fa8-fd5f-4592-89bd-221d591a1fb4",
   "metadata": {},
   "outputs": [
    {
     "data": {
      "text/plain": [
       "'jolines'"
      ]
     },
     "execution_count": 76,
     "metadata": {},
     "output_type": "execute_result"
    }
   ],
   "source": [
    "pos_i = 0\n",
    "pos_f = 6\n",
    "a [pos_i: pos_f+1]"
   ]
  },
  {
   "cell_type": "code",
   "execution_count": 77,
   "id": "f3d8a597-c66b-4140-b212-323c36de7ce6",
   "metadata": {},
   "outputs": [
    {
     "data": {
      "text/plain": [
       "'ns l8e i'"
      ]
     },
     "execution_count": 77,
     "metadata": {},
     "output_type": "execute_result"
    }
   ],
   "source": [
    "## rango, pos_i, pos_f, salto)\n",
    "a[  4: 20: 2]"
   ]
  },
  {
   "cell_type": "code",
   "execution_count": 79,
   "id": "cd5263c3-b7a9-41ce-816e-5075bb300eed",
   "metadata": {},
   "outputs": [
    {
     "data": {
      "text/plain": [
       "36"
      ]
     },
     "execution_count": 79,
     "metadata": {},
     "output_type": "execute_result"
    }
   ],
   "source": [
    "len (a) - 1"
   ]
  },
  {
   "cell_type": "code",
   "execution_count": 80,
   "id": "606deb79-d691-48e6-8d9d-46eb90805071",
   "metadata": {},
   "outputs": [
    {
     "data": {
      "text/plain": [
       "'i'"
      ]
     },
     "execution_count": 80,
     "metadata": {},
     "output_type": "execute_result"
    }
   ],
   "source": [
    "a [ -6]"
   ]
  },
  {
   "cell_type": "code",
   "execution_count": 82,
   "id": "586461e1-d214-4ec8-8ea0-cceb3b88453d",
   "metadata": {},
   "outputs": [
    {
     "data": {
      "text/plain": [
       "'predilecto'"
      ]
     },
     "execution_count": 82,
     "metadata": {},
     "output_type": "execute_result"
    }
   ],
   "source": [
    "a [ -10:]"
   ]
  },
  {
   "cell_type": "code",
   "execution_count": 83,
   "id": "70186244-a34b-49a1-86fe-f151682065e2",
   "metadata": {},
   "outputs": [
    {
     "data": {
      "text/plain": [
       "'jolines'"
      ]
     },
     "execution_count": 83,
     "metadata": {},
     "output_type": "execute_result"
    }
   ],
   "source": [
    "a [: 7]"
   ]
  },
  {
   "cell_type": "code",
   "execution_count": 84,
   "id": "c7b7fe9e-b6a5-4f30-96fb-1f0192b0411c",
   "metadata": {},
   "outputs": [
    {
     "data": {
      "text/plain": [
       "'jolines, el 8 es mi número predilecto'"
      ]
     },
     "execution_count": 84,
     "metadata": {},
     "output_type": "execute_result"
    }
   ],
   "source": [
    "a[:]"
   ]
  },
  {
   "cell_type": "code",
   "execution_count": 86,
   "id": "65cfc5c2-1487-4771-99dc-7c2a09e0c445",
   "metadata": {},
   "outputs": [
    {
     "data": {
      "text/plain": [
       "'otceliderp oremún im se 8 le ,seniloj'"
      ]
     },
     "execution_count": 86,
     "metadata": {},
     "output_type": "execute_result"
    }
   ],
   "source": [
    "a[ : : -1]"
   ]
  }
 ],
 "metadata": {
  "kernelspec": {
   "display_name": "Python 3 (ipykernel)",
   "language": "python",
   "name": "python3"
  },
  "language_info": {
   "codemirror_mode": {
    "name": "ipython",
    "version": 3
   },
   "file_extension": ".py",
   "mimetype": "text/x-python",
   "name": "python",
   "nbconvert_exporter": "python",
   "pygments_lexer": "ipython3",
   "version": "3.10.4"
  }
 },
 "nbformat": 4,
 "nbformat_minor": 5
}
