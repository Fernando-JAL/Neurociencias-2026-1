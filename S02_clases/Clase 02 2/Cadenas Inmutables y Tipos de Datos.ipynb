{
 "cells": [
  {
   "cell_type": "markdown",
   "id": "1d8c27c1-2926-4187-b956-be1220dfac09",
   "metadata": {},
   "source": [
    "Cadenas inmutables"
   ]
  },
  {
   "cell_type": "code",
   "execution_count": 1,
   "id": "593b3d22-7621-4be4-b086-5ff1b216a267",
   "metadata": {},
   "outputs": [
    {
     "data": {
      "text/plain": [
       "'cadena'"
      ]
     },
     "execution_count": 1,
     "metadata": {},
     "output_type": "execute_result"
    }
   ],
   "source": [
    "cadena=\"cadena\"\n",
    "cadena"
   ]
  },
  {
   "cell_type": "code",
   "execution_count": 6,
   "id": "c4b8e948-9a0f-4060-a6f0-b5219826c247",
   "metadata": {},
   "outputs": [
    {
     "ename": "TypeError",
     "evalue": "'str' object does not support item assignment",
     "output_type": "error",
     "traceback": [
      "\u001b[1;31m---------------------------------------------------------------------------\u001b[0m",
      "\u001b[1;31mTypeError\u001b[0m                                 Traceback (most recent call last)",
      "Cell \u001b[1;32mIn[6], line 2\u001b[0m\n\u001b[0;32m      1\u001b[0m \u001b[38;5;66;03m# Como compruebas que una cadena es inmutable (cadena inmutable = sus elementos no son modificables)\u001b[39;00m\n\u001b[1;32m----> 2\u001b[0m \u001b[43mcadena\u001b[49m\u001b[43m \u001b[49m\u001b[43m[\u001b[49m\u001b[38;5;241;43m-\u001b[39;49m\u001b[38;5;241;43m2\u001b[39;49m\u001b[43m]\u001b[49m\u001b[38;5;241m=\u001b[39m \u001b[38;5;124m'\u001b[39m\u001b[38;5;124mp\u001b[39m\u001b[38;5;124m'\u001b[39m\n",
      "\u001b[1;31mTypeError\u001b[0m: 'str' object does not support item assignment"
     ]
    }
   ],
   "source": [
    "# Como compruebas que una cadena es inmutable (cadena inmutable = sus elementos no son modificables)\n",
    "cadena [-2]= 'p'"
   ]
  },
  {
   "cell_type": "markdown",
   "id": "5015c801-f092-4eac-9ecc-5b06cc97fcae",
   "metadata": {},
   "source": [
    "# Alternativas a la inmutabilidad"
   ]
  },
  {
   "cell_type": "code",
   "execution_count": 9,
   "id": "68473df2-34ac-4f43-ab3f-670785852d8f",
   "metadata": {},
   "outputs": [],
   "source": [
    "cadena1='donde esta oswaldo'\n",
    "cadena2= 'viva la programación'\n",
    "cadena3= 'bts volvió del ejército'"
   ]
  },
  {
   "cell_type": "code",
   "execution_count": 10,
   "id": "ced9d473-7559-4b74-9101-4c1877171c58",
   "metadata": {},
   "outputs": [],
   "source": [
    "# Ejercicio: con slicing crear la frase \"DONDE ESTA LA PROGRAMACIÓN QUE VOLVIÓ DEL EJERCITO\""
   ]
  },
  {
   "cell_type": "code",
   "execution_count": 28,
   "id": "c9e9b00b-d7b6-4445-93c7-4f55488af3b3",
   "metadata": {},
   "outputs": [
    {
     "data": {
      "text/plain": [
       "'donde esta la programaciónque volvió del ejército'"
      ]
     },
     "execution_count": 28,
     "metadata": {},
     "output_type": "execute_result"
    }
   ],
   "source": [
    "cadena1[0:10+1]+cadena2[5:20]+ 'que' + cadena3[3:23]"
   ]
  },
  {
   "cell_type": "code",
   "execution_count": 33,
   "id": "fc8d83ed-e777-4451-b47c-5017b13adb0f",
   "metadata": {},
   "outputs": [
    {
     "data": {
      "text/plain": [
       "'donde esta la programaciónque volvió del ejército'"
      ]
     },
     "execution_count": 33,
     "metadata": {},
     "output_type": "execute_result"
    }
   ],
   "source": [
    "cadena1[ :10] + cadena2[4: ] + \"que\" + cadena3[3: ]"
   ]
  },
  {
   "cell_type": "code",
   "execution_count": 29,
   "id": "84caf7c1-b15a-490f-805f-37af534ef77a",
   "metadata": {},
   "outputs": [],
   "source": [
    "#Crear \"Oswaldo volvió a la programación de divlov stb\""
   ]
  },
  {
   "cell_type": "code",
   "execution_count": 47,
   "id": "fcf92021-22ff-4e60-87ad-e538cc555c9f",
   "metadata": {},
   "outputs": [
    {
     "data": {
      "text/plain": [
       "'oswaldovolvióala programación'"
      ]
     },
     "execution_count": 47,
     "metadata": {},
     "output_type": "execute_result"
    }
   ],
   "source": [
    "cadena1[11:18] + cadena3[4:10] + 'a' + cadena2[5:20]"
   ]
  },
  {
   "cell_type": "code",
   "execution_count": 48,
   "id": "b066a104-c037-4e17-8529-2346da79614d",
   "metadata": {},
   "outputs": [
    {
     "data": {
      "text/plain": [
       "'oswaldo volvió a la programación ed óivlov stb'"
      ]
     },
     "execution_count": 48,
     "metadata": {},
     "output_type": "execute_result"
    }
   ],
   "source": [
    "cadena1[-7: ] + cadena3[3:11 ] + \"a\" + ' ' + cadena2[5: ] + ' ' + cadena3[-11: :-1]"
   ]
  },
  {
   "cell_type": "markdown",
   "id": "03100953-c3be-486a-8b5b-86db11f9567b",
   "metadata": {},
   "source": [
    "# Listas"
   ]
  },
  {
   "cell_type": "code",
   "execution_count": 58,
   "id": "abf04bb1-2cf8-4ac3-b2d6-7077d521ecb3",
   "metadata": {},
   "outputs": [],
   "source": [
    "lista=[5,4,2,90.3, complex(-7,6), 'strings', 'wow', [1, 2, 3]]"
   ]
  },
  {
   "cell_type": "code",
   "execution_count": 59,
   "id": "4449acc0-90ec-40b7-8e33-68983173635c",
   "metadata": {},
   "outputs": [
    {
     "data": {
      "text/plain": [
       "list"
      ]
     },
     "execution_count": 59,
     "metadata": {},
     "output_type": "execute_result"
    }
   ],
   "source": [
    "type(listas)"
   ]
  },
  {
   "cell_type": "code",
   "execution_count": 60,
   "id": "57c390dc-e6db-4300-92ea-0cab9007a673",
   "metadata": {},
   "outputs": [
    {
     "data": {
      "text/plain": [
       "(-7+6j)"
      ]
     },
     "execution_count": 60,
     "metadata": {},
     "output_type": "execute_result"
    }
   ],
   "source": [
    "# También podemos utilizar el splicing y se utilizan el mismo orden que en cadenas\n",
    "lista[4]"
   ]
  },
  {
   "cell_type": "code",
   "execution_count": 61,
   "id": "14886699-e508-40eb-bdf5-9071d20130b8",
   "metadata": {},
   "outputs": [
    {
     "data": {
      "text/plain": [
       "4"
      ]
     },
     "execution_count": 61,
     "metadata": {},
     "output_type": "execute_result"
    }
   ],
   "source": [
    "lista[1]"
   ]
  },
  {
   "cell_type": "code",
   "execution_count": 62,
   "id": "5b3d7fe3-7307-4ef2-9255-c09ba9613e43",
   "metadata": {},
   "outputs": [
    {
     "data": {
      "text/plain": [
       "(-3+6j)"
      ]
     },
     "execution_count": 62,
     "metadata": {},
     "output_type": "execute_result"
    }
   ],
   "source": [
    "lista[4] + lista[1]"
   ]
  },
  {
   "cell_type": "code",
   "execution_count": 65,
   "id": "e3e78857-8fe5-4e10-a825-49f36516b7fe",
   "metadata": {},
   "outputs": [
    {
     "data": {
      "text/plain": [
       "'wowwow'"
      ]
     },
     "execution_count": 65,
     "metadata": {},
     "output_type": "execute_result"
    }
   ],
   "source": [
    "lista[2]*lista[-2]"
   ]
  },
  {
   "cell_type": "code",
   "execution_count": 67,
   "id": "1104031d-874c-43e7-aa6c-2dfe15a13ea4",
   "metadata": {},
   "outputs": [
    {
     "data": {
      "text/plain": [
       "[1, 2, 3, 1, 2, 3, 1, 2, 3, 1, 2, 3]"
      ]
     },
     "execution_count": 67,
     "metadata": {},
     "output_type": "execute_result"
    }
   ],
   "source": [
    "lista[1]*lista[-1]"
   ]
  },
  {
   "cell_type": "code",
   "execution_count": 70,
   "id": "b7a43c09-f958-47b7-9947-0c1ab301d375",
   "metadata": {},
   "outputs": [
    {
     "data": {
      "text/plain": [
       "[5, 4, 2, 'chale', (-7+6j), 'strings', 'wow', [1, 2, 3]]"
      ]
     },
     "execution_count": 70,
     "metadata": {},
     "output_type": "execute_result"
    }
   ],
   "source": [
    "#Las listas son mutables\n",
    "lista[3] = \"chale\"\n",
    "lista"
   ]
  },
  {
   "cell_type": "code",
   "execution_count": 71,
   "id": "44f39ea0-dbc8-4bce-9bb0-bfdec1f8af69",
   "metadata": {},
   "outputs": [
    {
     "data": {
      "text/plain": [
       "[5,\n",
       " 4,\n",
       " 'm',\n",
       " 'a',\n",
       " 'l',\n",
       " 'u',\n",
       " 'm',\n",
       " 'a',\n",
       " ' ',\n",
       " 'b',\n",
       " 'a',\n",
       " 'b',\n",
       " 'y',\n",
       " 'strings',\n",
       " 'wow',\n",
       " [1, 2, 3]]"
      ]
     },
     "execution_count": 71,
     "metadata": {},
     "output_type": "execute_result"
    }
   ],
   "source": [
    "lista[2:5]= \"maluma baby\"\n",
    "lista"
   ]
  },
  {
   "cell_type": "code",
   "execution_count": 72,
   "id": "70a841db-2625-4803-8225-c5073127e2a3",
   "metadata": {},
   "outputs": [
    {
     "name": "stdout",
     "output_type": "stream",
     "text": [
      "16 [5, 4, 'm', 'a', 'l', 'u', 'm', 'a', ' ', 'b', 'a', 'b', 'y', 'strings', 'wow', [1, 2, 3]]\n"
     ]
    }
   ],
   "source": [
    "print(len(lista), lista)"
   ]
  },
  {
   "cell_type": "code",
   "execution_count": 75,
   "id": "6d5d1107-d932-4c8d-96f4-c7420851a13c",
   "metadata": {},
   "outputs": [
    {
     "name": "stdout",
     "output_type": "stream",
     "text": [
      "18 [5, 4, 'maluma baby', 'maluma baby', 'maluma baby', 'maluma baby', 'maluma baby', 'u', 'm', 'a', ' ', 'b', 'a', 'b', 'y', 'strings', 'wow', [1, 2, 3]]\n"
     ]
    }
   ],
   "source": [
    "lista[2: 5] = 5*[\"maluma baby\"]\n",
    "print(len(lista), lista)"
   ]
  },
  {
   "cell_type": "code",
   "execution_count": 77,
   "id": "d5536f3c-b41f-4ad5-b32d-a8544426d145",
   "metadata": {},
   "outputs": [],
   "source": [
    "ruta=r\"C:\\Users\\rayom\\OneDrive\\Documentos\\GitHub\\Neurociencias-2026-1\\S02_clases\\Clase 02 2\""
   ]
  },
  {
   "cell_type": "code",
   "execution_count": 81,
   "id": "97005f81-2575-45cb-bfb1-9c5c665a22d6",
   "metadata": {},
   "outputs": [
    {
     "data": {
      "text/plain": [
       "'Clase 02 2'"
      ]
     },
     "execution_count": 81,
     "metadata": {},
     "output_type": "execute_result"
    }
   ],
   "source": [
    "var1 = ruta.split(sep= \"\\\\\")\n",
    "var2 = var1[-1]\n",
    "var3 = var2.split(sep=\".pptx\")\n",
    "var3[0]"
   ]
  },
  {
   "cell_type": "code",
   "execution_count": 88,
   "id": "7c3bed6d-dd4f-44f2-af18-2a5ec38ac920",
   "metadata": {},
   "outputs": [
    {
     "data": {
      "text/plain": [
       "'Clase 02 2'"
      ]
     },
     "execution_count": 88,
     "metadata": {},
     "output_type": "execute_result"
    }
   ],
   "source": [
    "#Otra Forma de hacerlo\n",
    "var1=ruta.split(sep=\"\\\\\")[-1]\n",
    "var1"
   ]
  },
  {
   "cell_type": "code",
   "execution_count": 90,
   "id": "a4cb2558-0931-4dbf-8103-3515eeb35a70",
   "metadata": {},
   "outputs": [
    {
     "data": {
      "text/plain": [
       "'Clase 02 2'"
      ]
     },
     "execution_count": 90,
     "metadata": {},
     "output_type": "execute_result"
    }
   ],
   "source": [
    "len(ruta)\n",
    "ruta[74:84]"
   ]
  },
  {
   "cell_type": "code",
   "execution_count": null,
   "id": "3f3ec68f-3d05-43da-b7ce-eb68dc89aef6",
   "metadata": {},
   "outputs": [],
   "source": []
  }
 ],
 "metadata": {
  "kernelspec": {
   "display_name": "Python 3 (ipykernel)",
   "language": "python",
   "name": "python3"
  },
  "language_info": {
   "codemirror_mode": {
    "name": "ipython",
    "version": 3
   },
   "file_extension": ".py",
   "mimetype": "text/x-python",
   "name": "python",
   "nbconvert_exporter": "python",
   "pygments_lexer": "ipython3",
   "version": "3.10.4"
  }
 },
 "nbformat": 4,
 "nbformat_minor": 5
}
