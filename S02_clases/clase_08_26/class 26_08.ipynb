{
 "cells": [
  {
   "cell_type": "markdown",
   "id": "0bc505e3-7caa-4dfc-8a53-46ffaa75b703",
   "metadata": {},
   "source": [
    "# Iteraciones "
   ]
  },
  {
   "cell_type": "code",
   "execution_count": null,
   "id": "93fded1e-d7e4-408a-b392-11449c9e8db2",
   "metadata": {},
   "outputs": [],
   "source": [
    "# Iterar significa, realizar una acción varias veces. A cada vez que se repite el conjunto de acciones, se dice que es una iteración"
   ]
  },
  {
   "cell_type": "markdown",
   "id": "220b940f-4978-46d9-8c1f-fe9ac0c20910",
   "metadata": {},
   "source": [
    "#  Sentencia While"
   ]
  },
  {
   "cell_type": "markdown",
   "id": "039ead4d-9ab6-4131-b9cb-b27ad7afa4c2",
   "metadata": {},
   "source": [
    "### Se basa en repetir un bloque "
   ]
  },
  {
   "cell_type": "code",
   "execution_count": 1,
   "id": "6562a1cf-d66e-4142-b726-28801e4e889b",
   "metadata": {},
   "outputs": [
    {
     "name": "stdout",
     "output_type": "stream",
     "text": [
      "el valor de la variable es 0\n",
      "el valor de la variable es 2\n",
      "el valor de la variable es 4\n",
      "el valor de la variable es 6\n",
      "el valor de la variable es 8\n",
      "codigo después del while\n"
     ]
    }
   ],
   "source": [
    "variable=0\n",
    "while variable<10:\n",
    "    print('el valor de la variable es', variable)\n",
    "    variable +=2\n",
    "print('codigo después del while')"
   ]
  },
  {
   "cell_type": "code",
   "execution_count": 2,
   "id": "363bd01b-33b6-4a81-ace0-c22f29add261",
   "metadata": {},
   "outputs": [
    {
     "name": "stdout",
     "output_type": "stream",
     "text": [
      "1\n",
      "2\n",
      "3\n",
      "4\n",
      "5\n",
      "6\n",
      "codigo en el else del while\n",
      "codigo después del while\n"
     ]
    }
   ],
   "source": [
    "variable =0\n",
    "while variable <=5:\n",
    "    variable +=1\n",
    "    print(variable)\n",
    "else:\n",
    "    print('codigo en el else del while')\n",
    "print('codigo después del while')"
   ]
  },
  {
   "cell_type": "markdown",
   "id": "d5b7d0ac-1578-4165-9a7a-6b0cba42a6ff",
   "metadata": {},
   "source": [
    "# Palabras resrvadas relacionadas al while\n",
    "## continue y break"
   ]
  },
  {
   "cell_type": "code",
   "execution_count": 3,
   "id": "2dd682d5-9f85-44e2-a4f1-d1975d23bd77",
   "metadata": {},
   "outputs": [
    {
     "name": "stdout",
     "output_type": "stream",
     "text": [
      "1\n",
      "código después del condicional del break\n",
      "2\n",
      "código después del condicional del break\n",
      "3\n",
      "entro al condicional para activar el break\n",
      "codigo después del while\n"
     ]
    }
   ],
   "source": [
    "variable =0\n",
    "while variable <=5:\n",
    "    variable +=1\n",
    "    print(variable)\n",
    "    if variable == 3:\n",
    "        print('entro al condicional para activar el break')\n",
    "        break\n",
    "    print('código después del condicional del break')\n",
    "\n",
    "else:\n",
    "    print('codigo en el else del while')\n",
    "print('codigo después del while')"
   ]
  },
  {
   "cell_type": "code",
   "execution_count": 4,
   "id": "ebe7c9d0-3a27-48bd-9529-13833cf56165",
   "metadata": {},
   "outputs": [
    {
     "name": "stdout",
     "output_type": "stream",
     "text": [
      "1\n",
      "código después del condicional del continue\n",
      "2\n",
      "código después del condicional del continue\n",
      "3\n",
      "entro al condicional para activar el continue\n",
      "4\n",
      "código después del condicional del continue\n",
      "5\n",
      "código después del condicional del continue\n",
      "6\n",
      "código después del condicional del continue\n",
      "codigo en el else del while\n",
      "codigo después del while\n"
     ]
    }
   ],
   "source": [
    "variable =0\n",
    "while variable <=5:\n",
    "    variable +=1\n",
    "    print(variable)\n",
    "    if variable == 3:\n",
    "        print('entro al condicional para activar el continue')\n",
    "        continue\n",
    "    print('código después del condicional del continue')\n",
    "else:\n",
    "    print('codigo en el else del while')\n",
    "print('codigo después del while')"
   ]
  },
  {
   "cell_type": "markdown",
   "id": "af863dec-00b6-435e-947c-4cb73bb453d9",
   "metadata": {},
   "source": [
    "# Contorlador de flujo for"
   ]
  },
  {
   "cell_type": "code",
   "execution_count": 5,
   "id": "645bad16-eaa7-46d1-adc6-84247232a0e1",
   "metadata": {},
   "outputs": [
    {
     "name": "stdout",
     "output_type": "stream",
     "text": [
      "2\n",
      "4\n",
      "6\n",
      "8\n",
      "10\n",
      "12\n",
      "14\n",
      "16\n",
      "18\n"
     ]
    }
   ],
   "source": [
    "listas=[2,4,6,8,10,12,14,16,18]\n",
    "for idx in listas:\n",
    "    print(idx)"
   ]
  },
  {
   "cell_type": "code",
   "execution_count": 6,
   "id": "14fc39c4-b325-4d0d-b0fc-ad7c90b4bf80",
   "metadata": {},
   "outputs": [
    {
     "name": "stdout",
     "output_type": "stream",
     "text": [
      "0\n",
      "1\n",
      "2\n",
      "3\n",
      "4\n"
     ]
    }
   ],
   "source": [
    "for valor in range(5):\n",
    "    print(valor)"
   ]
  },
  {
   "cell_type": "code",
   "execution_count": 7,
   "id": "9c190375-94bf-494d-8098-7b61c02a0ab7",
   "metadata": {},
   "outputs": [
    {
     "name": "stdout",
     "output_type": "stream",
     "text": [
      "c\n",
      "a\n",
      "d\n",
      "e\n",
      "n\n",
      "a\n"
     ]
    }
   ],
   "source": [
    "for letra in 'cadena':\n",
    "    print(letra)"
   ]
  },
  {
   "cell_type": "code",
   "execution_count": 8,
   "id": "2347911f-3130-4506-b780-466e500f48b0",
   "metadata": {},
   "outputs": [
    {
     "name": "stdout",
     "output_type": "stream",
     "text": [
      "key1\n",
      "key2\n",
      "key3\n"
     ]
    }
   ],
   "source": [
    "diccionario={'key1':'val1', 'key2':'val2','key3':'val3'}\n",
    "for llave in diccionario:\n",
    "    print(llave)"
   ]
  },
  {
   "cell_type": "code",
   "execution_count": 9,
   "id": "a72fac00-48ba-4b0b-ae60-26887752b1ab",
   "metadata": {},
   "outputs": [
    {
     "name": "stdout",
     "output_type": "stream",
     "text": [
      "la lista tiene 5 elementos\n"
     ]
    }
   ],
   "source": [
    "listas=[2,4,6,8,10]\n",
    "longitud=0\n",
    "for _ in  listas:\n",
    "    longitud+=1\n",
    "print('la lista tiene',longitud,'elementos')"
   ]
  },
  {
   "cell_type": "code",
   "execution_count": 10,
   "id": "5013f64c-be8e-49e0-97ea-e985c6d5c8ea",
   "metadata": {},
   "outputs": [
    {
     "name": "stdout",
     "output_type": "stream",
     "text": [
      "El promedio de los valores de la lista es 6.0\n"
     ]
    }
   ],
   "source": [
    "listas=[2,4,6,8,10]\n",
    "promedio=0\n",
    "for valor in listas:\n",
    "    promedio+= valor\n",
    "promedio/= len (listas)\n",
    "print('El promedio de los valores de la lista es',promedio)"
   ]
  },
  {
   "cell_type": "code",
   "execution_count": 11,
   "id": "909588d9-f042-4e11-97b5-1861f027bb03",
   "metadata": {},
   "outputs": [
    {
     "ename": "SyntaxError",
     "evalue": "invalid syntax (2353971041.py, line 1)",
     "output_type": "error",
     "traceback": [
      "\u001b[1;36m  Cell \u001b[1;32mIn[11], line 1\u001b[1;36m\u001b[0m\n\u001b[1;33m    Usando la lista listas= [2,3,4,5,6,7,8,9,10]\u001b[0m\n\u001b[1;37m           ^\u001b[0m\n\u001b[1;31mSyntaxError\u001b[0m\u001b[1;31m:\u001b[0m invalid syntax\n"
     ]
    }
   ],
   "source": [
    "Usando la lista listas= [2,3,4,5,6,7,8,9,10]\n",
    "\n",
    "Sobre cada valor de listas determine:\n",
    "- si el valor de la lista es par, calcule e imprime su cuadrado\n",
    "- si el valor de la lista es impar, sume uno al valor y dividalo sobre 2 e imprima el resultado"
   ]
  },
  {
   "cell_type": "code",
   "execution_count": 12,
   "id": "a1cea219-58b0-4743-92ad-042214e3f4c8",
   "metadata": {},
   "outputs": [
    {
     "name": "stdout",
     "output_type": "stream",
     "text": [
      "4\n",
      "2.0\n",
      "16\n",
      "3.0\n",
      "36\n",
      "4.0\n",
      "64\n",
      "5.0\n",
      "100\n"
     ]
    }
   ],
   "source": [
    "listas= [2,3,4,5,6,7,8,9,10]\n",
    "for _ in listas:\n",
    "    if _ %2 == 0:\n",
    "       print(_**2)\n",
    "    else:\n",
    "        print((_+1)/2)"
   ]
  },
  {
   "cell_type": "markdown",
   "id": "362cdf06-5f4b-4d42-a539-3336213dc6bf",
   "metadata": {},
   "source": [
    "# Modificar una lista al vuelo"
   ]
  },
  {
   "cell_type": "code",
   "execution_count": 14,
   "id": "93a445da-03f1-4523-8d9a-574a2a0ed97c",
   "metadata": {},
   "outputs": [
    {
     "ename": "NameError",
     "evalue": "name 'indice' is not defined",
     "output_type": "error",
     "traceback": [
      "\u001b[1;31m---------------------------------------------------------------------------\u001b[0m",
      "\u001b[1;31mNameError\u001b[0m                                 Traceback (most recent call last)",
      "Cell \u001b[1;32mIn[14], line 5\u001b[0m\n\u001b[0;32m      3\u001b[0m     valor\u001b[38;5;241m+\u001b[39m\u001b[38;5;241m=\u001b[39m \u001b[38;5;241m50\u001b[39m\n\u001b[0;32m      4\u001b[0m     valor \u001b[38;5;241m+\u001b[39m\u001b[38;5;241m=\u001b[39m\u001b[38;5;241m50\u001b[39m\n\u001b[1;32m----> 5\u001b[0m     indice\u001b[38;5;241m+\u001b[39m\u001b[38;5;241m=\u001b[39m\u001b[38;5;241m1\u001b[39m\n\u001b[0;32m      6\u001b[0m listas\n",
      "\u001b[1;31mNameError\u001b[0m: name 'indice' is not defined"
     ]
    }
   ],
   "source": [
    "listas=[2,4,6,8,10]\n",
    "for valor in listas:\n",
    "    valor+= 50\n",
    "    valor +=50\n",
    "    indice+=1\n",
    "listas"
   ]
  },
  {
   "cell_type": "code",
   "execution_count": 15,
   "id": "48f3c1aa-fea7-4f8e-b5e9-b93098026a13",
   "metadata": {},
   "outputs": [
    {
     "data": {
      "text/plain": [
       "[52, 54, 56, 58, 60]"
      ]
     },
     "execution_count": 15,
     "metadata": {},
     "output_type": "execute_result"
    }
   ],
   "source": [
    "listas=[2,4,6,8,10]\n",
    "indice=0\n",
    "\n",
    "for valor in listas:\n",
    "    listas[indice]+=50\n",
    "    indice+=1\n",
    "listas"
   ]
  },
  {
   "cell_type": "markdown",
   "id": "e3e09d4a-bce6-4d52-a224-58446d7f20e9",
   "metadata": {},
   "source": [
    "# método"
   ]
  },
  {
   "cell_type": "code",
   "execution_count": 17,
   "id": "0a5ab48f-9e0f-441a-8abb-de823fba2209",
   "metadata": {},
   "outputs": [],
   "source": [
    "#enumerate(iterable,start=0)\n",
    "#Regresera un objeto enumerate. Este metodo regerseara una tupla de pares, donde el priemr elemento será un entero que comenzara en start y  el segundo elemento de la tuplas tendrá el valor del objeto iterable."
   ]
  },
  {
   "cell_type": "code",
   "execution_count": 19,
   "id": "619ad97a-bf32-41df-9493-98bd42a4a5b8",
   "metadata": {},
   "outputs": [
    {
     "data": {
      "text/plain": [
       "['cadena', 'con', 'espacios']"
      ]
     },
     "execution_count": 19,
     "metadata": {},
     "output_type": "execute_result"
    }
   ],
   "source": [
    "\"cadena con espacios\".split(sep=' ')"
   ]
  },
  {
   "cell_type": "code",
   "execution_count": 20,
   "id": "eb374fbe-02b7-4ec8-943f-537684baf293",
   "metadata": {},
   "outputs": [
    {
     "data": {
      "text/plain": [
       "[(-20, 2), (-19, 4), (-18, 6), (-17, 8), (-16, 10)]"
      ]
     },
     "execution_count": 20,
     "metadata": {},
     "output_type": "execute_result"
    }
   ],
   "source": [
    "list(enumerate([2,4,6,8,10],start=-20))"
   ]
  },
  {
   "cell_type": "code",
   "execution_count": 21,
   "id": "e2819a66-3d16-4fc8-9d8a-bfc36cd77f4a",
   "metadata": {},
   "outputs": [
    {
     "data": {
      "text/plain": [
       "[(0, 'c'), (1, 'a'), (2, 'd'), (3, 'e'), (4, 'n'), (5, 'a')]"
      ]
     },
     "execution_count": 21,
     "metadata": {},
     "output_type": "execute_result"
    }
   ],
   "source": [
    "list(enumerate('cadena'))"
   ]
  },
  {
   "cell_type": "code",
   "execution_count": 22,
   "id": "409ba748-3267-432a-bdc6-500e071ce8ee",
   "metadata": {},
   "outputs": [
    {
     "data": {
      "text/plain": [
       "[(1, 'primavera'), (2, 'verano'), (3, 'otoño'), (4, 'invierno')]"
      ]
     },
     "execution_count": 22,
     "metadata": {},
     "output_type": "execute_result"
    }
   ],
   "source": [
    "list(enumerate(['primavera', 'verano','otoño','invierno'],start=1))"
   ]
  },
  {
   "cell_type": "code",
   "execution_count": 24,
   "id": "7ad16e39-c9be-49fe-96a5-ac363ae04d97",
   "metadata": {},
   "outputs": [
    {
     "data": {
      "text/plain": [
       "[52, 54, 56, 58, 60]"
      ]
     },
     "execution_count": 24,
     "metadata": {},
     "output_type": "execute_result"
    }
   ],
   "source": [
    "listas=[2,4,6,8,10]\n",
    "for indice,_ in enumerate(listas):\n",
    "    listas[indice]+=50\n",
    "    indice+=1\n",
    "listas"
   ]
  },
  {
   "cell_type": "markdown",
   "id": "51ea0405-3dda-40ef-9d20-3928a72b89f2",
   "metadata": {},
   "source": [
    "# TAREA\n",
    "##### Hacer un ejemplo de las siguientes built- in functions \n",
    "- all\n",
    "- any\n",
    "- abs\n",
    "- input\n",
    "- max\n",
    "- min\n",
    "- pow\n",
    "- reversed\n",
    "- round\n",
    "- sorted\n",
    "  "
   ]
  },
  {
   "cell_type": "code",
   "execution_count": null,
   "id": "2b205ca2-1833-4164-95b3-d3527b462562",
   "metadata": {},
   "outputs": [],
   "source": [
    "#all: Devuelve true si todos los elementos son verdaderos. "
   ]
  },
  {
   "cell_type": "code",
   "execution_count": 25,
   "id": "ede8290d-9f35-494d-b959-62a5d5765f90",
   "metadata": {},
   "outputs": [
    {
     "name": "stdout",
     "output_type": "stream",
     "text": [
      "True\n"
     ]
    }
   ],
   "source": [
    "numeros = [1, 2, 3, 4]\n",
    "print(all(n > 0 for n in numeros))"
   ]
  },
  {
   "cell_type": "code",
   "execution_count": 26,
   "id": "213f1b70-ad0b-4d41-a82c-abf1d6efbec0",
   "metadata": {},
   "outputs": [],
   "source": [
    "#any: Devuelve True si al menos un elemento es verdadero "
   ]
  },
  {
   "cell_type": "code",
   "execution_count": 27,
   "id": "909cb3dc-45de-429f-a224-6a03638ae3c1",
   "metadata": {},
   "outputs": [
    {
     "name": "stdout",
     "output_type": "stream",
     "text": [
      "True\n"
     ]
    }
   ],
   "source": [
    "valores = [0, 0, 1, 0]\n",
    "print(any(valores))"
   ]
  },
  {
   "cell_type": "code",
   "execution_count": 28,
   "id": "f9fd1721-7767-4eec-a318-5ef1296432c5",
   "metadata": {},
   "outputs": [],
   "source": [
    "#abs: Devuelve el valor absoluto "
   ]
  },
  {
   "cell_type": "code",
   "execution_count": 39,
   "id": "a239fa54-0e7d-4099-938f-5ace13ef104e",
   "metadata": {},
   "outputs": [
    {
     "name": "stdout",
     "output_type": "stream",
     "text": [
      "480\n"
     ]
    }
   ],
   "source": [
    "print(abs(-480)) \n"
   ]
  },
  {
   "cell_type": "code",
   "execution_count": null,
   "id": "1a6ab1f9-dc71-4e56-b47a-b53328e897ec",
   "metadata": {},
   "outputs": [],
   "source": [
    "#input: lee un valor del usuario "
   ]
  },
  {
   "cell_type": "code",
   "execution_count": 30,
   "id": "cee78c71-a973-4c47-85d1-d67b9762a19d",
   "metadata": {},
   "outputs": [
    {
     "name": "stdin",
     "output_type": "stream",
     "text": [
      "Escribe tu nombre:  Meche\n"
     ]
    },
    {
     "name": "stdout",
     "output_type": "stream",
     "text": [
      "Hola Meche\n"
     ]
    }
   ],
   "source": [
    "nombre = input(\"Escribe tu nombre: \")\n",
    "print(\"Hola\", nombre)"
   ]
  },
  {
   "cell_type": "code",
   "execution_count": null,
   "id": "f10f0527-d2bb-4ebf-b68b-372c266ac864",
   "metadata": {},
   "outputs": [],
   "source": [
    "#max: Devuelve el valor máximo "
   ]
  },
  {
   "cell_type": "code",
   "execution_count": 40,
   "id": "f16e4fc7-6d1c-4c83-b292-3be57a307759",
   "metadata": {},
   "outputs": [
    {
     "name": "stdout",
     "output_type": "stream",
     "text": [
      "311\n"
     ]
    }
   ],
   "source": [
    "print(max(311, 73, 289, 124))"
   ]
  },
  {
   "cell_type": "code",
   "execution_count": null,
   "id": "f5b20c00-bee9-43ff-90d2-311360278e94",
   "metadata": {},
   "outputs": [],
   "source": [
    "#min: Devuelve el valor mínimo "
   ]
  },
  {
   "cell_type": "code",
   "execution_count": 41,
   "id": "f23c63fb-e4b9-4f0c-a47a-cba518fb6b06",
   "metadata": {},
   "outputs": [
    {
     "name": "stdout",
     "output_type": "stream",
     "text": [
      "12\n"
     ]
    }
   ],
   "source": [
    "print(min([45, 12, 38, 100]))"
   ]
  },
  {
   "cell_type": "code",
   "execution_count": 33,
   "id": "462f3750-a417-4659-b3fb-b6267942bc5b",
   "metadata": {},
   "outputs": [],
   "source": [
    "#pow: Calcula una potencia "
   ]
  },
  {
   "cell_type": "code",
   "execution_count": 42,
   "id": "dc28155e-c5ba-456b-8c86-044a1d3c39af",
   "metadata": {},
   "outputs": [
    {
     "name": "stdout",
     "output_type": "stream",
     "text": [
      "59049\n"
     ]
    }
   ],
   "source": [
    "print(pow(9, 5))"
   ]
  },
  {
   "cell_type": "code",
   "execution_count": null,
   "id": "88efc4d9-e7d9-4c1a-bfb3-97773e7b907a",
   "metadata": {},
   "outputs": [],
   "source": [
    "# reversed: Invierte un iterable "
   ]
  },
  {
   "cell_type": "code",
   "execution_count": 43,
   "id": "e80e7a6f-2d2a-45fa-b8db-3e7109fceb0b",
   "metadata": {},
   "outputs": [
    {
     "name": "stdout",
     "output_type": "stream",
     "text": [
      "[36, 28, 52]\n"
     ]
    }
   ],
   "source": [
    "lista = [52, 28, 36]\n",
    "print(list(reversed(lista))) "
   ]
  },
  {
   "cell_type": "code",
   "execution_count": null,
   "id": "38305e30-8da7-4ef2-84a6-b8613f6da32a",
   "metadata": {},
   "outputs": [],
   "source": [
    "#round: redondea un número "
   ]
  },
  {
   "cell_type": "code",
   "execution_count": 44,
   "id": "55a83c7e-2a39-4bdd-82df-11da6bf8e9a8",
   "metadata": {},
   "outputs": [
    {
     "name": "stdout",
     "output_type": "stream",
     "text": [
      "102.5896\n"
     ]
    }
   ],
   "source": [
    "print(round(102.589631454, 4))"
   ]
  },
  {
   "cell_type": "code",
   "execution_count": null,
   "id": "84467638-0cb9-4073-9462-0efbb0c903c6",
   "metadata": {},
   "outputs": [],
   "source": [
    "#sorted: Ordena un iterable"
   ]
  },
  {
   "cell_type": "code",
   "execution_count": 38,
   "id": "7ab3aa80-fb10-421f-ba8c-6c69da3d593a",
   "metadata": {},
   "outputs": [
    {
     "name": "stdout",
     "output_type": "stream",
     "text": [
      "[12, 22, 48, 58]\n"
     ]
    }
   ],
   "source": [
    "print(sorted([58, 12, 48, 22]))"
   ]
  }
 ],
 "metadata": {
  "kernelspec": {
   "display_name": "Python 3 (ipykernel)",
   "language": "python",
   "name": "python3"
  },
  "language_info": {
   "codemirror_mode": {
    "name": "ipython",
    "version": 3
   },
   "file_extension": ".py",
   "mimetype": "text/x-python",
   "name": "python",
   "nbconvert_exporter": "python",
   "pygments_lexer": "ipython3",
   "version": "3.10.9"
  }
 },
 "nbformat": 4,
 "nbformat_minor": 5
}
