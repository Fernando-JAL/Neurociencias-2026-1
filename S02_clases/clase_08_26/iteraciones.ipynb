{
 "cells": [
  {
   "cell_type": "markdown",
   "id": "52eda8ee-3a71-4002-896d-ed11d2852eb9",
   "metadata": {},
   "source": [
    "# Iteraciones\n",
    "Iterar, significa realizar una acción varias veces. A cada vez que se repite el conjunto de acciones, se dice que es una iteración.\n",
    "\n",
    "# Sentencia While\n",
    "se basa en repetir un bloque "
   ]
  },
  {
   "cell_type": "code",
   "execution_count": 1,
   "id": "2621486b-4956-4900-9e6d-00391679f0e5",
   "metadata": {},
   "outputs": [
    {
     "name": "stdout",
     "output_type": "stream",
     "text": [
      "el valor de la variable es 0\n",
      "el valor de la variable es 2\n",
      "el valor de la variable es 4\n",
      "el valor de la variable es 6\n",
      "el valor de la variable es 8\n",
      "codigo después del while\n"
     ]
    }
   ],
   "source": [
    "variable=0\n",
    "while variable<10:\n",
    "    print('el valor de la variable es', variable)\n",
    "    variable +=2\n",
    "print('codigo después del while')"
   ]
  },
  {
   "cell_type": "code",
   "execution_count": 3,
   "id": "f7c5be60-1fff-45fd-8aa8-699343c1b0ed",
   "metadata": {},
   "outputs": [
    {
     "name": "stdout",
     "output_type": "stream",
     "text": [
      "1\n",
      "2\n",
      "3\n",
      "4\n",
      "5\n",
      "6\n",
      "codigo en el else del while\n",
      "codigo después del while\n"
     ]
    }
   ],
   "source": [
    "variable =0\n",
    "while variable <=5:\n",
    "    variable +=1\n",
    "    print(variable)\n",
    "else:\n",
    "    print('codigo en el else del while')\n",
    "print('codigo después del while')"
   ]
  },
  {
   "cell_type": "markdown",
   "id": "0fcd17bb-2f3e-4c26-a803-cb87a8bfd502",
   "metadata": {},
   "source": [
    "# Palabras resrvadas relacionadas al while\n",
    "## continue y break"
   ]
  },
  {
   "cell_type": "code",
   "execution_count": 7,
   "id": "b3d6fb2e-6b8a-420f-bf65-1140f9455b94",
   "metadata": {},
   "outputs": [
    {
     "name": "stdout",
     "output_type": "stream",
     "text": [
      "1\n",
      "código después del condicional del break\n",
      "2\n",
      "código después del condicional del break\n",
      "3\n",
      "entro al condicional para activar el break\n",
      "codigo después del while\n"
     ]
    }
   ],
   "source": [
    "variable =0\n",
    "while variable <=5:\n",
    "    variable +=1\n",
    "    print(variable)\n",
    "    if variable == 3:\n",
    "        print('entro al condicional para activar el break')\n",
    "        break\n",
    "    print('código después del condicional del break')\n",
    "\n",
    "else:\n",
    "    print('codigo en el else del while')\n",
    "print('codigo después del while')"
   ]
  },
  {
   "cell_type": "code",
   "execution_count": 6,
   "id": "24d712ea-692e-44e7-8747-6f2645173b04",
   "metadata": {},
   "outputs": [
    {
     "name": "stdout",
     "output_type": "stream",
     "text": [
      "1\n",
      "código después del condicional del continue\n",
      "2\n",
      "código después del condicional del continue\n",
      "3\n",
      "entro al condicional para activar el continue\n",
      "4\n",
      "código después del condicional del continue\n",
      "5\n",
      "código después del condicional del continue\n",
      "6\n",
      "código después del condicional del continue\n",
      "codigo en el else del while\n",
      "codigo después del while\n"
     ]
    }
   ],
   "source": [
    "variable =0\n",
    "while variable <=5:\n",
    "    variable +=1\n",
    "    print(variable)\n",
    "    if variable == 3:\n",
    "        print('entro al condicional para activar el continue')\n",
    "        continue\n",
    "    print('código después del condicional del continue')\n",
    "else:\n",
    "    print('codigo en el else del while')\n",
    "print('codigo después del while')"
   ]
  },
  {
   "cell_type": "markdown",
   "id": "99f4b49c-ebf3-4d9f-a0a2-97ec2dbac574",
   "metadata": {},
   "source": [
    "# Contorlador de flujo for"
   ]
  },
  {
   "cell_type": "code",
   "execution_count": 8,
   "id": "ff368bb7-393c-49ee-a641-31cf33f785c2",
   "metadata": {},
   "outputs": [
    {
     "name": "stdout",
     "output_type": "stream",
     "text": [
      "2\n",
      "4\n",
      "6\n",
      "8\n",
      "10\n",
      "12\n",
      "14\n",
      "16\n",
      "18\n"
     ]
    }
   ],
   "source": [
    "listas=[2,4,6,8,10,12,14,16,18]\n",
    "for idx in listas:\n",
    "    print(idx)"
   ]
  },
  {
   "cell_type": "code",
   "execution_count": 9,
   "id": "d40cef55-3807-4d38-b7b7-67144ca1a38a",
   "metadata": {},
   "outputs": [
    {
     "name": "stdout",
     "output_type": "stream",
     "text": [
      "0\n",
      "1\n",
      "2\n",
      "3\n",
      "4\n"
     ]
    }
   ],
   "source": [
    "for valor in range(5):\n",
    "    print(valor)"
   ]
  },
  {
   "cell_type": "code",
   "execution_count": 10,
   "id": "f4c1da00-a14a-4148-9c16-098b7020862d",
   "metadata": {},
   "outputs": [
    {
     "name": "stdout",
     "output_type": "stream",
     "text": [
      "c\n",
      "a\n",
      "d\n",
      "e\n",
      "n\n",
      "a\n"
     ]
    }
   ],
   "source": [
    "for letra in 'cadena':\n",
    "    print(letra)"
   ]
  },
  {
   "cell_type": "code",
   "execution_count": 12,
   "id": "ac80a13a-8725-4500-bd80-3caf4acc9e70",
   "metadata": {},
   "outputs": [
    {
     "name": "stdout",
     "output_type": "stream",
     "text": [
      "key1\n",
      "key2\n",
      "key3\n"
     ]
    }
   ],
   "source": [
    "diccionario={'key1':'val1', 'key2':'val2','key3':'val3'}\n",
    "for llave in diccionario:\n",
    "    print(llave)"
   ]
  },
  {
   "cell_type": "code",
   "execution_count": 13,
   "id": "7f2f8852-4ceb-4f92-baf3-0e4fb10b2d22",
   "metadata": {},
   "outputs": [
    {
     "name": "stdout",
     "output_type": "stream",
     "text": [
      "la lista tiene 5 elementos\n"
     ]
    }
   ],
   "source": [
    "listas=[2,4,6,8,10]\n",
    "longitud=0\n",
    "for _ in  listas:\n",
    "    longitud+=1\n",
    "print('la lista tiene',longitud,'elementos')"
   ]
  },
  {
   "cell_type": "code",
   "execution_count": 14,
   "id": "d0ca936f-7b64-420b-96b2-9731653ba661",
   "metadata": {},
   "outputs": [
    {
     "name": "stdout",
     "output_type": "stream",
     "text": [
      "El promedio de los valores de la lista es 6.0\n"
     ]
    }
   ],
   "source": [
    "listas=[2,4,6,8,10]\n",
    "promedio=0\n",
    "for valor in listas:\n",
    "    promedio+= valor\n",
    "promedio/= len (listas)\n",
    "print('El promedio de los valores de la lista es',promedio)"
   ]
  },
  {
   "cell_type": "markdown",
   "id": "966ccb8d-9e03-42bf-ae53-ca48d48dded9",
   "metadata": {},
   "source": [
    "Usando la lista listas= [2,3,4,5,6,7,8,9,10]\n",
    "\n",
    "Sobre cada valor de listas determine:\n",
    "- si el valor de la lista es par, calcule e imprime su cuadrado\n",
    "- si el valor de la lista es impar, sume uno al valor y dividalo sobre 2 e imprima el resultado"
   ]
  },
  {
   "cell_type": "code",
   "execution_count": 20,
   "id": "012cf6ce-1429-413e-85dc-c3da909662d3",
   "metadata": {},
   "outputs": [
    {
     "name": "stdout",
     "output_type": "stream",
     "text": [
      "4\n",
      "2.0\n",
      "16\n",
      "3.0\n",
      "36\n",
      "4.0\n",
      "64\n",
      "5.0\n",
      "100\n"
     ]
    }
   ],
   "source": [
    " listas= [2,3,4,5,6,7,8,9,10]\n",
    "for _ in listas:\n",
    "    if _ %2 == 0:\n",
    "       print(_**2)\n",
    "    else:\n",
    "        print((_+1)/2)"
   ]
  },
  {
   "cell_type": "markdown",
   "id": "c1dcf574-b7f6-429b-a48f-783edb13bec0",
   "metadata": {},
   "source": [
    "# Modificar una lista al vuelo"
   ]
  },
  {
   "cell_type": "code",
   "execution_count": 21,
   "id": "2750da56-2da9-4439-8676-66c74e4adf49",
   "metadata": {},
   "outputs": [
    {
     "ename": "NameError",
     "evalue": "name 'indice' is not defined",
     "output_type": "error",
     "traceback": [
      "\u001b[1;31m---------------------------------------------------------------------------\u001b[0m",
      "\u001b[1;31mNameError\u001b[0m                                 Traceback (most recent call last)",
      "Cell \u001b[1;32mIn[21], line 5\u001b[0m\n\u001b[0;32m      3\u001b[0m     valor\u001b[38;5;241m+\u001b[39m\u001b[38;5;241m=\u001b[39m \u001b[38;5;241m50\u001b[39m\n\u001b[0;32m      4\u001b[0m     valor \u001b[38;5;241m+\u001b[39m\u001b[38;5;241m=\u001b[39m\u001b[38;5;241m50\u001b[39m\n\u001b[1;32m----> 5\u001b[0m     indice\u001b[38;5;241m+\u001b[39m\u001b[38;5;241m=\u001b[39m\u001b[38;5;241m1\u001b[39m\n\u001b[0;32m      6\u001b[0m listas\n",
      "\u001b[1;31mNameError\u001b[0m: name 'indice' is not defined"
     ]
    }
   ],
   "source": [
    "listas=[2,4,6,8,10]\n",
    "for valor in listas:\n",
    "    valor+= 50\n",
    "    valor +=50\n",
    "    indice+=1\n",
    "listas"
   ]
  },
  {
   "cell_type": "code",
   "execution_count": 22,
   "id": "afac104a-e4d8-4aec-be7b-6bd4aaab1c80",
   "metadata": {},
   "outputs": [
    {
     "data": {
      "text/plain": [
       "[52, 54, 56, 58, 60]"
      ]
     },
     "execution_count": 22,
     "metadata": {},
     "output_type": "execute_result"
    }
   ],
   "source": [
    "listas=[2,4,6,8,10]\n",
    "indice=0\n",
    "\n",
    "for valor in listas:\n",
    "    listas[indice]+=50\n",
    "    indice+=1\n",
    "listas"
   ]
  },
  {
   "cell_type": "markdown",
   "id": "0c13ff51-2edf-4656-82f7-d6a2bce47308",
   "metadata": {},
   "source": [
    "# método enumerate(iterable,start=0)\n",
    "Regresera un objeto enumerate. Este metodo regerseara una tupla de pares, donde el priemr elemento será un entero que comenzara en start y  el segundo elemento de la tuplas tendrá el valor del objeto iterable."
   ]
  },
  {
   "cell_type": "code",
   "execution_count": 24,
   "id": "d33133cf-80ec-49b3-8318-6f92c24e7b26",
   "metadata": {},
   "outputs": [
    {
     "data": {
      "text/plain": [
       "['cadena', 'con', 'espacios']"
      ]
     },
     "execution_count": 24,
     "metadata": {},
     "output_type": "execute_result"
    }
   ],
   "source": [
    "\"cadena con espacios\".split(sep=' ')"
   ]
  },
  {
   "cell_type": "code",
   "execution_count": 27,
   "id": "ec618011-def4-4fa9-89b4-9bb84490c490",
   "metadata": {},
   "outputs": [
    {
     "data": {
      "text/plain": [
       "[(-20, 2), (-19, 4), (-18, 6), (-17, 8), (-16, 10)]"
      ]
     },
     "execution_count": 27,
     "metadata": {},
     "output_type": "execute_result"
    }
   ],
   "source": [
    "list(enumerate([2,4,6,8,10],start=-20))"
   ]
  },
  {
   "cell_type": "code",
   "execution_count": 26,
   "id": "07547677-3499-4db8-8433-60b949b87d1c",
   "metadata": {},
   "outputs": [
    {
     "data": {
      "text/plain": [
       "[(0, 'c'), (1, 'a'), (2, 'd'), (3, 'e'), (4, 'n'), (5, 'a')]"
      ]
     },
     "execution_count": 26,
     "metadata": {},
     "output_type": "execute_result"
    }
   ],
   "source": [
    "list(enumerate('cadena'))"
   ]
  },
  {
   "cell_type": "code",
   "execution_count": 28,
   "id": "a114f597-ed7c-4b90-b2b2-fd1a8d41405f",
   "metadata": {},
   "outputs": [
    {
     "data": {
      "text/plain": [
       "[(1, 'primavera'), (2, 'verano'), (3, 'otoño'), (4, 'invierno')]"
      ]
     },
     "execution_count": 28,
     "metadata": {},
     "output_type": "execute_result"
    }
   ],
   "source": [
    "list(enumerate(['primavera','verano','otoño','invierno'],start=1))"
   ]
  },
  {
   "cell_type": "code",
   "execution_count": 29,
   "id": "dba5ad4b-0676-47c9-81bd-45ce95f883fe",
   "metadata": {},
   "outputs": [
    {
     "data": {
      "text/plain": [
       "[52, 54, 56, 58, 60]"
      ]
     },
     "execution_count": 29,
     "metadata": {},
     "output_type": "execute_result"
    }
   ],
   "source": [
    "listas=[2,4,6,8,10]\n",
    "\n",
    "for indice,_ in enumerate(listas):\n",
    "    listas[indice]+=50\n",
    "    indice+=1\n",
    "listas"
   ]
  },
  {
   "cell_type": "markdown",
   "id": "698f18c9-cc5a-41c0-bbb5-58d374130509",
   "metadata": {},
   "source": [
    "# Tarea\n",
    "Hacer un ejemplo de las siguientes built-in functions \n",
    "- all\n",
    "- any\n",
    "- abs\n",
    "- input\n",
    "- max\n",
    "- min\n",
    "- pow\n",
    "- reversed\n",
    "- round\n",
    "- sorted\n",
    "- sum"
   ]
  },
  {
   "cell_type": "code",
   "execution_count": 34,
   "id": "a46c4898-9c74-446b-aaf8-c69f2b05f866",
   "metadata": {},
   "outputs": [
    {
     "data": {
      "text/plain": [
       "False"
      ]
     },
     "execution_count": 34,
     "metadata": {},
     "output_type": "execute_result"
    }
   ],
   "source": [
    "# All function: returns True if all items in an iterable are true, otherwise it returns False. Si esta vacío= True\n",
    "mydict = {0 : \"Apple\", 1 : \"Orange\"}\n",
    "x = all(mydict)\n",
    "x"
   ]
  },
  {
   "cell_type": "code",
   "execution_count": 33,
   "id": "0c39c6f3-b140-477f-9332-47b716b5c186",
   "metadata": {},
   "outputs": [
    {
     "data": {
      "text/plain": [
       "True"
      ]
     },
     "execution_count": 33,
     "metadata": {},
     "output_type": "execute_result"
    }
   ],
   "source": [
    "# Any function:  returns True if any item in an iterable are true, otherwise it returns False. Si esta vacío= False\n",
    "mydict = {0 : \"Apple\", 1 : \"Orange\"}\n",
    "x = any(mydict)\n",
    "x"
   ]
  },
  {
   "cell_type": "code",
   "execution_count": 35,
   "id": "48be2e59-4ac7-4284-b6a2-0ea4e5d5eefe",
   "metadata": {},
   "outputs": [
    {
     "data": {
      "text/plain": [
       "5.830951894845301"
      ]
     },
     "execution_count": 35,
     "metadata": {},
     "output_type": "execute_result"
    }
   ],
   "source": [
    "# Abs():returns the absolute value of the specified number.\n",
    "x = abs(3+5j)\n",
    "x"
   ]
  },
  {
   "cell_type": "code",
   "execution_count": 36,
   "id": "6f2f072f-5b94-4c9f-8e8d-11cda34fa3f8",
   "metadata": {},
   "outputs": [
    {
     "name": "stdin",
     "output_type": "stream",
     "text": [
      "Inserte un nombre: mafer\n"
     ]
    },
    {
     "name": "stdout",
     "output_type": "stream",
     "text": [
      "Hola, mafer\n"
     ]
    }
   ],
   "source": [
    "# Input\n",
    "nombre=input(\"Inserte un nombre:\")\n",
    "print('Hola,', nombre)"
   ]
  },
  {
   "cell_type": "code",
   "execution_count": 38,
   "id": "89e5e470-57c4-423b-957f-e30cce0361bf",
   "metadata": {},
   "outputs": [
    {
     "data": {
      "text/plain": [
       "(100, 1)"
      ]
     },
     "execution_count": 38,
     "metadata": {},
     "output_type": "execute_result"
    }
   ],
   "source": [
    "# Max, min\n",
    "maximo= max(1,100)\n",
    "minimo=min(1,100)\n",
    "maximo,minimo"
   ]
  },
  {
   "cell_type": "code",
   "execution_count": 40,
   "id": "198e7c41-49ad-499f-ab3b-a2015ae729b0",
   "metadata": {},
   "outputs": [
    {
     "data": {
      "text/plain": [
       "8"
      ]
     },
     "execution_count": 40,
     "metadata": {},
     "output_type": "execute_result"
    }
   ],
   "source": [
    "#Pow(). a la potencia de\n",
    "z=pow(2,3)\n",
    "z"
   ]
  },
  {
   "cell_type": "code",
   "execution_count": 42,
   "id": "fdcecc11-eaeb-4e72-983f-2b6d8bb9cb4c",
   "metadata": {},
   "outputs": [
    {
     "name": "stdout",
     "output_type": "stream",
     "text": [
      "banana\n",
      "4\n",
      "3\n",
      "manzana\n",
      "2\n",
      "1\n"
     ]
    }
   ],
   "source": [
    "# Reversed\n",
    "lista=[1,2,'manzana',3,4,'banana']\n",
    "reversa=reversed(lista)\n",
    "for _ in reversa:\n",
    "    print(_)"
   ]
  },
  {
   "cell_type": "code",
   "execution_count": 46,
   "id": "f58a0a15-e3b4-4873-a4d8-3962f454a1c9",
   "metadata": {},
   "outputs": [
    {
     "data": {
      "text/plain": [
       "3.14"
      ]
     },
     "execution_count": 46,
     "metadata": {},
     "output_type": "execute_result"
    }
   ],
   "source": [
    "# Round\n",
    "numero=round(3.14162534,2)\n",
    "numero"
   ]
  },
  {
   "cell_type": "code",
   "execution_count": 47,
   "id": "34479c2f-6540-4422-a2f9-11b5fff29da7",
   "metadata": {},
   "outputs": [
    {
     "data": {
      "text/plain": [
       "['banana', 'fresa', 'manzana', 'naranja']"
      ]
     },
     "execution_count": 47,
     "metadata": {},
     "output_type": "execute_result"
    }
   ],
   "source": [
    "#Sorted\n",
    "frutas=['manzana','banana','fresa','naranja']\n",
    "frutas=sorted(frutas)\n",
    "frutas"
   ]
  },
  {
   "cell_type": "code",
   "execution_count": 48,
   "id": "75bf8c1f-8c31-4003-a926-ea92cb330931",
   "metadata": {},
   "outputs": [
    {
     "data": {
      "text/plain": [
       "15"
      ]
     },
     "execution_count": 48,
     "metadata": {},
     "output_type": "execute_result"
    }
   ],
   "source": [
    "# Sum\n",
    "lista=[1,2,3,4,5]\n",
    "suma=sum(lista)\n",
    "suma"
   ]
  },
  {
   "cell_type": "code",
   "execution_count": null,
   "id": "a1dbe965-41b0-496d-a629-e5c8dfd21521",
   "metadata": {},
   "outputs": [],
   "source": []
  }
 ],
 "metadata": {
  "kernelspec": {
   "display_name": "Python 3 (ipykernel)",
   "language": "python",
   "name": "python3"
  },
  "language_info": {
   "codemirror_mode": {
    "name": "ipython",
    "version": 3
   },
   "file_extension": ".py",
   "mimetype": "text/x-python",
   "name": "python",
   "nbconvert_exporter": "python",
   "pygments_lexer": "ipython3",
   "version": "3.10.4"
  }
 },
 "nbformat": 4,
 "nbformat_minor": 5
}
