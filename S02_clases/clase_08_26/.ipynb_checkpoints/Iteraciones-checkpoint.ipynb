{
 "cells": [
  {
   "cell_type": "markdown",
   "id": "49308f0a-5ec7-44ec-9ff6-697f73612304",
   "metadata": {},
   "source": [
    "# ITERACIONES\n",
    "\n",
    "Iterar , significa realizar una acción varias veces. A casa vz que se repite el conjunto de acciones, se dice que es una iteración.\n",
    "\n",
    "# SENTENCIA WHILE\n",
    "\n",
    "se basa en repetir un bloque de código a partir de una condición lógica. Dicho bloque de código se repetira mientras "
   ]
  },
  {
   "cell_type": "code",
   "execution_count": 1,
   "id": "750c79a3-66c0-4a33-80e1-ef1ec20ca1c2",
   "metadata": {},
   "outputs": [
    {
     "name": "stdout",
     "output_type": "stream",
     "text": [
      "el valor de la variable es 0\n",
      "codigo después del while\n",
      "el valor de la variable es 2\n",
      "codigo después del while\n",
      "el valor de la variable es 4\n",
      "codigo después del while\n",
      "el valor de la variable es 6\n",
      "codigo después del while\n",
      "el valor de la variable es 8\n",
      "codigo después del while\n"
     ]
    }
   ],
   "source": [
    "variable = 0\n",
    "\n",
    "while variable < 10:\n",
    "    print('el valor de la variable es', variable) \n",
    "    variable += 2\n",
    "\n",
    "    print('codigo después del while')"
   ]
  },
  {
   "cell_type": "code",
   "execution_count": 2,
   "id": "dab37041-eb8b-4c00-9203-2a2ba2ec64fd",
   "metadata": {},
   "outputs": [
    {
     "name": "stdout",
     "output_type": "stream",
     "text": [
      "el valor de la variable es 0\n",
      "codigo después del while\n"
     ]
    }
   ],
   "source": [
    "variable = 0\n",
    "\n",
    "if variable < 10:\n",
    "    print('el valor de la variable es', variable) \n",
    "    variable += 2\n",
    "\n",
    "    print('codigo después del while')"
   ]
  },
  {
   "cell_type": "code",
   "execution_count": 3,
   "id": "0fe74e8b-3f7d-4193-b30b-bc0fec9c61d6",
   "metadata": {},
   "outputs": [
    {
     "name": "stdout",
     "output_type": "stream",
     "text": [
      "1\n",
      "2\n",
      "3\n",
      "4\n",
      "5\n",
      "6\n",
      "codigo en el else del while\n",
      "codigo después del while\n"
     ]
    }
   ],
   "source": [
    "variable = 0 \n",
    "\n",
    "while variable <= 5: \n",
    "    variable += 1\n",
    "    print(variable) \n",
    "else:\n",
    "    print ('codigo en el else del while')\n",
    "\n",
    "print ('codigo después del while')"
   ]
  },
  {
   "cell_type": "markdown",
   "id": "7966ebbd-2706-4535-92a9-d7ac804f48af",
   "metadata": {},
   "source": [
    "# palabras reservadas relacionadas al while\n",
    "\n",
    "continue y el break"
   ]
  },
  {
   "cell_type": "code",
   "execution_count": 4,
   "id": "bd2555bb-fdbf-42ce-9a22-203b4c4c2b20",
   "metadata": {},
   "outputs": [
    {
     "name": "stdout",
     "output_type": "stream",
     "text": [
      "1\n",
      "2\n",
      "3\n",
      "entro al condicional para activar el break\n",
      "codigo después del while\n"
     ]
    }
   ],
   "source": [
    "variable = 0 \n",
    "\n",
    "while variable <= 5: \n",
    "    variable += 1\n",
    "    print(variable) \n",
    "    if variable == 3 :\n",
    "        print('entro al condicional para activar el break')\n",
    "        break\n",
    "else:\n",
    "    print ('codigo en el else del while')\n",
    "    \n",
    "\n",
    "print ('codigo después del while')"
   ]
  },
  {
   "cell_type": "code",
   "execution_count": 5,
   "id": "057caf90-3939-4f5f-b269-7930d1ccc31c",
   "metadata": {},
   "outputs": [
    {
     "name": "stdout",
     "output_type": "stream",
     "text": [
      "1\n",
      "2\n",
      "3\n",
      "entro al condicional para activar el continue\n",
      "4\n",
      "5\n",
      "6\n",
      "codigo en el else del while\n",
      "codigo después del while\n"
     ]
    }
   ],
   "source": [
    "variable = 0 \n",
    "\n",
    "while variable <= 5: \n",
    "    variable += 1\n",
    "    print(variable) \n",
    "    if variable == 3 :\n",
    "        print('entro al condicional para activar el continue')\n",
    "        continue\n",
    "else:\n",
    "    print ('codigo en el else del while')\n",
    "    \n",
    "\n",
    "print ('codigo después del while')"
   ]
  },
  {
   "cell_type": "markdown",
   "id": "20728916-52d3-40cb-8f98-88d0ddf0b8ce",
   "metadata": {},
   "source": [
    "# Controlador de flujo FOR"
   ]
  },
  {
   "cell_type": "code",
   "execution_count": 6,
   "id": "a52d6e49-97f2-4c12-9906-cf97d1acc71c",
   "metadata": {},
   "outputs": [
    {
     "name": "stdout",
     "output_type": "stream",
     "text": [
      "2\n",
      "4\n",
      "6\n",
      "8\n",
      "10\n",
      "12\n",
      "14\n",
      "16\n",
      "18\n"
     ]
    }
   ],
   "source": [
    "listas = [2,4,6,8,10,12,14,16,18]\n",
    "\n",
    "for idx in listas: \n",
    "    print(idx)"
   ]
  },
  {
   "cell_type": "code",
   "execution_count": 9,
   "id": "7d0fd48f-c97a-4e04-b095-ec179f70a605",
   "metadata": {},
   "outputs": [
    {
     "name": "stdout",
     "output_type": "stream",
     "text": [
      "2\n",
      "4\n",
      "6\n",
      "8\n",
      "10\n"
     ]
    }
   ],
   "source": [
    "listas = [2,4,6,8,10]\n",
    "for valor in listas: \n",
    "    print(valor)"
   ]
  },
  {
   "cell_type": "code",
   "execution_count": 10,
   "id": "02bf632c-cf2e-4cd2-9336-1d977ca3d911",
   "metadata": {},
   "outputs": [
    {
     "name": "stdout",
     "output_type": "stream",
     "text": [
      "0\n",
      "1\n",
      "2\n",
      "3\n",
      "4\n",
      "5\n",
      "6\n",
      "7\n",
      "8\n",
      "9\n"
     ]
    }
   ],
   "source": [
    "for valor in range (10):\n",
    "    print (valor)"
   ]
  },
  {
   "cell_type": "code",
   "execution_count": 11,
   "id": "2d2bf52e-bc0f-43d2-84cf-0b5780c04f99",
   "metadata": {},
   "outputs": [
    {
     "name": "stdout",
     "output_type": "stream",
     "text": [
      "0\n",
      "1\n",
      "2\n",
      "3\n",
      "4\n"
     ]
    }
   ],
   "source": [
    "# range (pos_i, pos_f+1 , salto)\n",
    "for valor in range (5):\n",
    "    print (valor)"
   ]
  },
  {
   "cell_type": "code",
   "execution_count": 12,
   "id": "db62395c-74bb-451a-be1f-2c62aed61c29",
   "metadata": {},
   "outputs": [
    {
     "name": "stdout",
     "output_type": "stream",
     "text": [
      "c\n",
      "a\n",
      "d\n",
      "e\n",
      "n\n",
      "a\n"
     ]
    }
   ],
   "source": [
    "for letra in \"cadena\":\n",
    "    print(letra)"
   ]
  },
  {
   "cell_type": "code",
   "execution_count": 13,
   "id": "f27ea06b-19b8-40a6-a707-0b156b2a8ead",
   "metadata": {},
   "outputs": [
    {
     "name": "stdout",
     "output_type": "stream",
     "text": [
      "key1\n",
      "key2\n",
      " key3\n"
     ]
    }
   ],
   "source": [
    "diccionario = {'key1' : 'val1', 'key2': 'val2',' key3' : 'val3'}\n",
    "\n",
    "for llave in diccionario:\n",
    "    print(llave)"
   ]
  },
  {
   "cell_type": "code",
   "execution_count": 15,
   "id": "f0842ab5-154b-4533-b395-763e7956daee",
   "metadata": {},
   "outputs": [
    {
     "name": "stdout",
     "output_type": "stream",
     "text": [
      " la lista tiene 5 elementos\n"
     ]
    }
   ],
   "source": [
    "listas = [2,4,6,8,10]\n",
    "\n",
    "longitud = 0\n",
    "for _ in listas:\n",
    "    longitud += 1\n",
    "    \n",
    "print (' la lista tiene', longitud, 'elementos')"
   ]
  },
  {
   "cell_type": "code",
   "execution_count": 17,
   "id": "bf6008aa-9040-4172-97cb-1601e20fecbc",
   "metadata": {},
   "outputs": [
    {
     "name": "stdout",
     "output_type": "stream",
     "text": [
      " el promedio de los valores de la lista es 6.0\n"
     ]
    }
   ],
   "source": [
    "listas = [2,4,6,8,10]\n",
    "\n",
    "promedio = 0\n",
    "for valor in listas: \n",
    "    promedio += valor\n",
    "\n",
    "promedio /= len(listas)\n",
    "print (' el promedio de los valores de la lista es 6.0')"
   ]
  },
  {
   "cell_type": "markdown",
   "id": "42841158-42e3-480c-85f5-d0415f106554",
   "metadata": {},
   "source": [
    "# Usando la lista listas = [2,3,4,5,6,7,8,9,10]\n",
    "\n",
    "sobre cada valor de las listas determine:\n",
    "- si el valor de la lista es par, calcule e imprime su cuadrado \n",
    "- si el valor de la lista es impar , sume uno al valor y dividalo sobre 2 e imprima el resultado"
   ]
  },
  {
   "cell_type": "code",
   "execution_count": 19,
   "id": "3fefd2f8-9838-4d99-96ae-fcca78f97130",
   "metadata": {},
   "outputs": [
    {
     "name": "stdout",
     "output_type": "stream",
     "text": [
      "2 es par → cuadrado = 4\n",
      "3 es impar → (numero+1)/2 = 2.0\n",
      "4 es par → cuadrado = 16\n",
      "5 es impar → (numero+1)/2 = 3.0\n",
      "6 es par → cuadrado = 36\n",
      "7 es impar → (numero+1)/2 = 4.0\n",
      "8 es par → cuadrado = 64\n",
      "9 es impar → (numero+1)/2 = 5.0\n",
      "10 es par → cuadrado = 100\n"
     ]
    }
   ],
   "source": [
    "listas = [2,3,4,5,6,7,8,9,10]\n",
    "\n",
    "for numero in listas:\n",
    "    if numero % 2 == 0:\n",
    "        print(f\"{numero} es par → cuadrado = {numero**2}\")\n",
    "    else:  \n",
    "        resultado = (numero + 1) / 2\n",
    "        print(f\"{numero} es impar → (numero+1)/2 = {resultado}\")\n"
   ]
  },
  {
   "cell_type": "markdown",
   "id": "483d240d-7e42-4ce9-b285-cbe3b6a09e18",
   "metadata": {},
   "source": [
    "# Modificar una lista al vuelo "
   ]
  },
  {
   "cell_type": "code",
   "execution_count": 20,
   "id": "ce28c232-be92-46a3-aaf3-6b0cbd3eaced",
   "metadata": {},
   "outputs": [
    {
     "data": {
      "text/plain": [
       "[52, 54, 56, 58, 60]"
      ]
     },
     "execution_count": 20,
     "metadata": {},
     "output_type": "execute_result"
    }
   ],
   "source": [
    "listas = [2,4,6,8,10]\n",
    "\n",
    "indice = 0\n",
    "for _ in listas: \n",
    "    listas [indice] += 50\n",
    "    indice += 1\n",
    "\n",
    "listas "
   ]
  },
  {
   "cell_type": "markdown",
   "id": "772cfba2-8b1d-45b8-8457-9ba02ffa9e2c",
   "metadata": {},
   "source": [
    "# método enumerate (iterable, start = 0)\n",
    "\n",
    "regresará un objeto enumerate, este metodo regresara una tupla de pares, dondde el primer elemento sera un entero que comenzara en start y el segundo elemento de la tupla tendrá el valor del objeto iterable"
   ]
  },
  {
   "cell_type": "code",
   "execution_count": 22,
   "id": "38af5a5d-d549-4527-bbfa-99e6abe3008a",
   "metadata": {},
   "outputs": [
    {
     "data": {
      "text/plain": [
       "['cadena', 'con', 'espacios']"
      ]
     },
     "execution_count": 22,
     "metadata": {},
     "output_type": "execute_result"
    }
   ],
   "source": [
    "\"cadena con espacios\".split (sep= \" \")"
   ]
  },
  {
   "cell_type": "code",
   "execution_count": 24,
   "id": "755d9d52-7f26-45b8-b8d2-2689b3fc0e00",
   "metadata": {},
   "outputs": [
    {
     "data": {
      "text/plain": [
       "[(0, 2), (1, 4), (2, 6), (3, 8), (4, 10)]"
      ]
     },
     "execution_count": 24,
     "metadata": {},
     "output_type": "execute_result"
    }
   ],
   "source": [
    "list(enumerate( [2, 4, 6, 8, 10] , start = 0))"
   ]
  },
  {
   "cell_type": "code",
   "execution_count": 25,
   "id": "b15d31cf-5a5d-4b94-a02c-0223403e63f5",
   "metadata": {},
   "outputs": [
    {
     "data": {
      "text/plain": [
       "[(20, 2), (21, 4), (22, 6), (23, 8), (24, 10)]"
      ]
     },
     "execution_count": 25,
     "metadata": {},
     "output_type": "execute_result"
    }
   ],
   "source": [
    "list(enumerate( [2, 4, 6, 8, 10] , start = 20))"
   ]
  },
  {
   "cell_type": "code",
   "execution_count": 26,
   "id": "26bc9b7f-315f-44bc-9f59-9c2026a88ad0",
   "metadata": {},
   "outputs": [
    {
     "data": {
      "text/plain": [
       "[(0, 'c'), (1, 'a'), (2, 'd'), (3, 'e'), (4, 'n'), (5, 'a')]"
      ]
     },
     "execution_count": 26,
     "metadata": {},
     "output_type": "execute_result"
    }
   ],
   "source": [
    "list(enumerate(\"cadena\"))"
   ]
  },
  {
   "cell_type": "code",
   "execution_count": 28,
   "id": "af07cc99-7e67-43c3-9b75-befd6d710390",
   "metadata": {},
   "outputs": [
    {
     "data": {
      "text/plain": [
       "[(1, 'primavera'), (2, 'verano'), (3, 'otoño'), (4, 'invierno')]"
      ]
     },
     "execution_count": 28,
     "metadata": {},
     "output_type": "execute_result"
    }
   ],
   "source": [
    "list(enumerate(['primavera', 'verano', 'otoño', 'invierno'], start =1))"
   ]
  },
  {
   "cell_type": "code",
   "execution_count": 29,
   "id": "4942f7f8-550b-4808-b28f-4406cb73446f",
   "metadata": {},
   "outputs": [
    {
     "data": {
      "text/plain": [
       "[52, 54, 56, 58, 60]"
      ]
     },
     "execution_count": 29,
     "metadata": {},
     "output_type": "execute_result"
    }
   ],
   "source": [
    "listas = [2,4,6,8,10]\n",
    "\n",
    "indice = 0\n",
    "for _ in listas: # aca se pone el enumerate\n",
    "    listas [indice] += 50\n",
    "    indice += 1\n",
    "\n",
    "listas "
   ]
  },
  {
   "cell_type": "markdown",
   "id": "b012df8a-b310-4ea6-8dcb-42841db04fd8",
   "metadata": {},
   "source": [
    " # TAREA \n",
    "\n",
    "HACER UN EJEMPLO DE LAS SIGUIENTES BUILT-IN FUNCTIONS\n",
    "\n",
    "- all\n",
    "- any\n",
    "- abs\n",
    "- input\n",
    "- max\n",
    "- min\n",
    "- pow\n",
    "- reversed\n",
    "- round\n",
    "- sorted\n",
    "- sum"
   ]
  },
  {
   "cell_type": "code",
   "execution_count": 1,
   "id": "6599baec-aae2-497d-acd4-3ffd48bb59b5",
   "metadata": {},
   "outputs": [
    {
     "name": "stdout",
     "output_type": "stream",
     "text": [
      "False\n",
      "True\n",
      "15\n"
     ]
    },
    {
     "name": "stdin",
     "output_type": "stream",
     "text": [
      "Sophia:  c-\n"
     ]
    },
    {
     "name": "stdout",
     "output_type": "stream",
     "text": [
      "Hola, c-\n",
      "9\n",
      "2\n",
      "8\n",
      "['n', 'o', 'h', 't', 'y', 'p']\n",
      "3.14\n",
      "[1, 2, 5, 9]\n",
      "21\n"
     ]
    }
   ],
   "source": [
    "\n",
    "valores = [True, True, False]\n",
    "print(all(valores))  # False (porque hay un False)\n",
    "\n",
    "\n",
    "print(any(valores))  # True (porque al menos uno es True)\n",
    "\n",
    "\n",
    "print(abs(-15))  # 15\n",
    "\n",
    "\n",
    "nombre = input(\"Sophia: \")\n",
    "print(\"Hola,\", nombre)\n",
    "\n",
    "\n",
    "numeros = [3, 9, 2, 7]\n",
    "print(max(numeros))  # 9\n",
    "\n",
    "\n",
    "print(min(numeros))  # 2\n",
    "\n",
    "\n",
    "print(pow(2, 3))  # 8 (2^3)\n",
    "\n",
    "\n",
    "texto = \"python\"\n",
    "print(list(reversed(texto)))  # ['n','o','h','t','y','p']\n",
    "\n",
    "\n",
    "print(round(3.14159, 2))  # 3.14\n",
    "\n",
    "\n",
    "desordenados = [5, 2, 9, 1]\n",
    "print(sorted(desordenados))  # [1, 2, 5, 9]\n",
    "\n",
    "\n",
    "print(sum(numeros))  # 21 (3+9+2+7)\n"
   ]
  },
  {
   "cell_type": "code",
   "execution_count": null,
   "id": "58f129de-882d-4c1b-9b39-f0838835aa6f",
   "metadata": {},
   "outputs": [],
   "source": []
  }
 ],
 "metadata": {
  "kernelspec": {
   "display_name": "Python 3 (ipykernel)",
   "language": "python",
   "name": "python3"
  },
  "language_info": {
   "codemirror_mode": {
    "name": "ipython",
    "version": 3
   },
   "file_extension": ".py",
   "mimetype": "text/x-python",
   "name": "python",
   "nbconvert_exporter": "python",
   "pygments_lexer": "ipython3",
   "version": "3.10.4"
  }
 },
 "nbformat": 4,
 "nbformat_minor": 5
}
