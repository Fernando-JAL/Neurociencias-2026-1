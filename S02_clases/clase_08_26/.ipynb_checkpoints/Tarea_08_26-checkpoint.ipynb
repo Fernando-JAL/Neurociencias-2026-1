{
 "cells": [
  {
   "cell_type": "markdown",
   "id": "a2bf5010-dd79-4938-9453-fbeef0d22859",
   "metadata": {},
   "source": [
    "# Tarea\n",
    "\n",
    "Hacer un ejemplo de las siguientes built-in functions\n",
    "- all\n",
    "- any\n",
    "- abs\n",
    "- input\n",
    "- max\n",
    "- min\n",
    "- pow\n",
    "- reversed\n",
    "- round\n",
    "- sorted\n",
    "- sum"
   ]
  },
  {
   "cell_type": "markdown",
   "id": "4a823045-c166-4d9d-866b-c5f502e09b9f",
   "metadata": {},
   "source": [
    "## All"
   ]
  },
  {
   "cell_type": "code",
   "execution_count": 6,
   "id": "9f277014-8a1a-41e9-88c6-04cddec607b0",
   "metadata": {},
   "outputs": [
    {
     "data": {
      "text/plain": [
       "True"
      ]
     },
     "execution_count": 6,
     "metadata": {},
     "output_type": "execute_result"
    }
   ],
   "source": [
    "# all() - regresa True si todos los elementos son true o si son vacíos\n",
    "\n",
    "elementos = [1, 2, 3] # aquí regresa True, si agregamos un 0 se vuelve False\n",
    "all(elementos)\n"
   ]
  },
  {
   "cell_type": "code",
   "execution_count": 12,
   "id": "4266063a-f326-480c-97e7-c68a15325bfb",
   "metadata": {},
   "outputs": [
    {
     "data": {
      "text/plain": [
       "False"
      ]
     },
     "execution_count": 12,
     "metadata": {},
     "output_type": "execute_result"
    }
   ],
   "source": [
    "elementos = [1, 2, 0] \n",
    "all(elementos)"
   ]
  },
  {
   "cell_type": "markdown",
   "id": "699d4a24-9e35-4d42-9f4e-7a1d1e40585e",
   "metadata": {},
   "source": [
    "## Any"
   ]
  },
  {
   "cell_type": "code",
   "execution_count": 9,
   "id": "a04a16b5-9592-4aaa-9c82-36060a75552e",
   "metadata": {},
   "outputs": [
    {
     "data": {
      "text/plain": [
       "True"
      ]
     },
     "execution_count": 9,
     "metadata": {},
     "output_type": "execute_result"
    }
   ],
   "source": [
    "# any() - regresa True si cualquiera de los elementos es True, si está vacía es False\n",
    "\n",
    "elementos = [3, 5, 7]\n",
    "any(elementos)"
   ]
  },
  {
   "cell_type": "code",
   "execution_count": 10,
   "id": "7736ddd8-b79d-4ed3-a091-fa705ab83a1e",
   "metadata": {},
   "outputs": [
    {
     "data": {
      "text/plain": [
       "True"
      ]
     },
     "execution_count": 10,
     "metadata": {},
     "output_type": "execute_result"
    }
   ],
   "source": [
    "elementos = [3, 0, 0]\n",
    "any(elementos)"
   ]
  },
  {
   "cell_type": "code",
   "execution_count": 11,
   "id": "29e50ea9-ecd2-4b77-bdf5-ef23b7106c9f",
   "metadata": {},
   "outputs": [
    {
     "data": {
      "text/plain": [
       "False"
      ]
     },
     "execution_count": 11,
     "metadata": {},
     "output_type": "execute_result"
    }
   ],
   "source": [
    "elementos = []\n",
    "any(elementos)"
   ]
  },
  {
   "cell_type": "markdown",
   "id": "3cc20d72-48c6-4c27-8267-a9e05a47fa97",
   "metadata": {},
   "source": [
    "## Abs"
   ]
  },
  {
   "cell_type": "code",
   "execution_count": 13,
   "id": "ac7c5c37-adbb-4778-aa8c-0fbf9fe31910",
   "metadata": {},
   "outputs": [
    {
     "data": {
      "text/plain": [
       "5"
      ]
     },
     "execution_count": 13,
     "metadata": {},
     "output_type": "execute_result"
    }
   ],
   "source": [
    "# abs() - regresa el valor absoluto, si es un número complejo regresa su magnitud. \n",
    "\n",
    "abs(5)"
   ]
  },
  {
   "cell_type": "code",
   "execution_count": 14,
   "id": "9a644915-646c-4371-ac14-02a03fa39e93",
   "metadata": {},
   "outputs": [
    {
     "data": {
      "text/plain": [
       "46.7"
      ]
     },
     "execution_count": 14,
     "metadata": {},
     "output_type": "execute_result"
    }
   ],
   "source": [
    "abs(46.7)"
   ]
  },
  {
   "cell_type": "code",
   "execution_count": 15,
   "id": "da218f01-e591-4b1a-87df-766838832d90",
   "metadata": {},
   "outputs": [
    {
     "data": {
      "text/plain": [
       "87.09"
      ]
     },
     "execution_count": 15,
     "metadata": {},
     "output_type": "execute_result"
    }
   ],
   "source": [
    "abs(-87.09)"
   ]
  },
  {
   "cell_type": "code",
   "execution_count": 17,
   "id": "dcc92af8-e94c-47a9-a443-7a86ad7d2dfb",
   "metadata": {},
   "outputs": [
    {
     "data": {
      "text/plain": [
       "9.0"
      ]
     },
     "execution_count": 17,
     "metadata": {},
     "output_type": "execute_result"
    }
   ],
   "source": [
    "abs(complex(8 + 1))"
   ]
  },
  {
   "cell_type": "markdown",
   "id": "dc721f1d-933d-4f56-93b8-4667f54c8725",
   "metadata": {},
   "source": [
    "## input"
   ]
  },
  {
   "cell_type": "code",
   "execution_count": 3,
   "id": "40a60bd0-5ef9-4bfe-b724-8a7e19ccd9dc",
   "metadata": {},
   "outputs": [
    {
     "name": "stdin",
     "output_type": "stream",
     "text": [
      "hola, escribe tu nombre : sofia\n"
     ]
    }
   ],
   "source": [
    "# input() - leer datos introducidos por el usuario y puede guardarlos en una variable\n",
    "\n",
    "\n",
    "a = input(\"hola, escribe tu nombre :\" )"
   ]
  },
  {
   "cell_type": "code",
   "execution_count": 4,
   "id": "0a16bf82-debe-48cd-b2ef-43026cbab775",
   "metadata": {},
   "outputs": [
    {
     "data": {
      "text/plain": [
       "'sofia'"
      ]
     },
     "execution_count": 4,
     "metadata": {},
     "output_type": "execute_result"
    }
   ],
   "source": [
    "a "
   ]
  },
  {
   "cell_type": "markdown",
   "id": "4ebce2a0-91c1-402f-a7e3-f68e75b128a4",
   "metadata": {},
   "source": [
    "## max"
   ]
  },
  {
   "cell_type": "code",
   "execution_count": 25,
   "id": "2942a460-207a-4233-aa35-d53eb2eabdee",
   "metadata": {},
   "outputs": [
    {
     "data": {
      "text/plain": [
       "9"
      ]
     },
     "execution_count": 25,
     "metadata": {},
     "output_type": "execute_result"
    }
   ],
   "source": [
    "# max() - regresa el elemento mayor\n",
    "\n",
    "c = [4, 2, 5, 7, 2, 9]\n",
    "max(c)"
   ]
  },
  {
   "cell_type": "markdown",
   "id": "d8bf54ed-9403-41b6-82ec-3cf11204ab8f",
   "metadata": {},
   "source": [
    "## min"
   ]
  },
  {
   "cell_type": "code",
   "execution_count": 26,
   "id": "d43c047a-d4b2-4037-9aa2-632e46fb73ae",
   "metadata": {},
   "outputs": [
    {
     "data": {
      "text/plain": [
       "-984"
      ]
     },
     "execution_count": 26,
     "metadata": {},
     "output_type": "execute_result"
    }
   ],
   "source": [
    "# min() - regresa el mínimo \n",
    "\n",
    "d = [-984, 6, 0, 632]\n",
    "min(d)"
   ]
  },
  {
   "cell_type": "markdown",
   "id": "fd12db4d-ac77-4663-94be-c06d332e1749",
   "metadata": {},
   "source": [
    "## pow"
   ]
  },
  {
   "cell_type": "code",
   "execution_count": 27,
   "id": "d709a8c0-e643-4253-b515-d1ab5179c9fc",
   "metadata": {},
   "outputs": [
    {
     "data": {
      "text/plain": [
       "16"
      ]
     },
     "execution_count": 27,
     "metadata": {},
     "output_type": "execute_result"
    }
   ],
   "source": [
    "# pow(base, exponente) - equivalente a la expresión base**exponente\n",
    "\n",
    "pow(4,2)"
   ]
  },
  {
   "cell_type": "code",
   "execution_count": 28,
   "id": "58753aee-f3e8-4f4b-868f-88dd16ae9e8e",
   "metadata": {},
   "outputs": [
    {
     "data": {
      "text/plain": [
       "16"
      ]
     },
     "execution_count": 28,
     "metadata": {},
     "output_type": "execute_result"
    }
   ],
   "source": [
    "4**2"
   ]
  },
  {
   "cell_type": "markdown",
   "id": "2b6bf5ac-ff12-49d6-9485-b0ff682c2ace",
   "metadata": {},
   "source": [
    "## reversed"
   ]
  },
  {
   "cell_type": "code",
   "execution_count": 8,
   "id": "bfcd242a-653e-4b52-81ac-d11d9d418c96",
   "metadata": {},
   "outputs": [
    {
     "data": {
      "text/plain": [
       "<reversed at 0x10c419450>"
      ]
     },
     "execution_count": 8,
     "metadata": {},
     "output_type": "execute_result"
    }
   ],
   "source": [
    "# reversed() - regresa el iterador invertido, regresa un objeto, por lo que si queremos ver la lista es necesario pedirla.\n",
    "\n",
    "invertida = reversed(\"hola\")\n",
    "invertida"
   ]
  },
  {
   "cell_type": "code",
   "execution_count": 9,
   "id": "d94cc002-8b8d-45a7-aed4-0747ddb9535d",
   "metadata": {},
   "outputs": [
    {
     "name": "stdout",
     "output_type": "stream",
     "text": [
      "['a', 'l', 'o', 'h']\n"
     ]
    }
   ],
   "source": [
    "print(list(invertida))"
   ]
  },
  {
   "cell_type": "markdown",
   "id": "a4115610-6812-43ab-bab0-7652e4e1ec41",
   "metadata": {},
   "source": [
    "## round\n"
   ]
  },
  {
   "cell_type": "code",
   "execution_count": 38,
   "id": "5579fcfd-fdb3-4b9d-ab91-e51f252b039a",
   "metadata": {},
   "outputs": [
    {
     "data": {
      "text/plain": [
       "234"
      ]
     },
     "execution_count": 38,
     "metadata": {},
     "output_type": "execute_result"
    }
   ],
   "source": [
    "# round(número, ndígitos = n) - redondea a la cantidad de dígitos que le indiquemos\n",
    "\n",
    "a = 234.326\n",
    "round(a)"
   ]
  },
  {
   "cell_type": "code",
   "execution_count": 39,
   "id": "5af2c18d-6ca6-42a4-83c2-45bb80e97299",
   "metadata": {},
   "outputs": [
    {
     "data": {
      "text/plain": [
       "234.3"
      ]
     },
     "execution_count": 39,
     "metadata": {},
     "output_type": "execute_result"
    }
   ],
   "source": [
    "a = 234.326\n",
    "round(a, 1)"
   ]
  },
  {
   "cell_type": "code",
   "execution_count": 43,
   "id": "02d1ea7b-8f62-4ee9-b98a-61e19515fa82",
   "metadata": {},
   "outputs": [
    {
     "data": {
      "text/plain": [
       "234.33"
      ]
     },
     "execution_count": 43,
     "metadata": {},
     "output_type": "execute_result"
    }
   ],
   "source": [
    "a = 234.326\n",
    "round(a, 2)"
   ]
  },
  {
   "cell_type": "markdown",
   "id": "67d10c3a-5041-497e-a371-cb2e48070828",
   "metadata": {},
   "source": [
    "## sorted\n"
   ]
  },
  {
   "cell_type": "code",
   "execution_count": 55,
   "id": "bb3ef067-e6c4-4690-8cef-0bfd75f7df5e",
   "metadata": {},
   "outputs": [
    {
     "data": {
      "text/plain": [
       "[5, 4, 3, 2, 1]"
      ]
     },
     "execution_count": 55,
     "metadata": {},
     "output_type": "execute_result"
    }
   ],
   "source": [
    "# sorted(key = None, reversed = False) - reordena los argumentos\n",
    "\n",
    "c = [1, 2, 3, 4, 5]\n",
    "sorted(c, reverse = True)"
   ]
  },
  {
   "cell_type": "markdown",
   "id": "de07b673-880e-4019-baae-2f00fb3e3499",
   "metadata": {},
   "source": [
    "## sum"
   ]
  },
  {
   "cell_type": "code",
   "execution_count": 56,
   "id": "2b5b23b4-3615-4016-80ce-76a057ed9799",
   "metadata": {},
   "outputs": [
    {
     "data": {
      "text/plain": [
       "3"
      ]
     },
     "execution_count": 56,
     "metadata": {},
     "output_type": "execute_result"
    }
   ],
   "source": [
    "# sum () - suma los valores\n",
    "\n",
    "d = [1, 1, 1]\n",
    "sum(d)"
   ]
  },
  {
   "cell_type": "code",
   "execution_count": 59,
   "id": "02761b9d-f339-4b20-b8a3-f909ef91d2df",
   "metadata": {},
   "outputs": [
    {
     "data": {
      "text/plain": [
       "5"
      ]
     },
     "execution_count": 59,
     "metadata": {},
     "output_type": "execute_result"
    }
   ],
   "source": [
    "j = [1, 3, 1]\n",
    "sum(j)"
   ]
  }
 ],
 "metadata": {
  "kernelspec": {
   "display_name": "Python 3 (ipykernel)",
   "language": "python",
   "name": "python3"
  },
  "language_info": {
   "codemirror_mode": {
    "name": "ipython",
    "version": 3
   },
   "file_extension": ".py",
   "mimetype": "text/x-python",
   "name": "python",
   "nbconvert_exporter": "python",
   "pygments_lexer": "ipython3",
   "version": "3.13.6"
  }
 },
 "nbformat": 4,
 "nbformat_minor": 5
}
