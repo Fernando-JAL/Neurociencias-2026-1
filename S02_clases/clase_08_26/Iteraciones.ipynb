{
 "cells": [
  {
   "cell_type": "code",
   "execution_count": null,
   "id": "cf2a7823-dfd4-4436-a1d4-a69ca4e1a89a",
   "metadata": {},
   "outputs": [],
   "source": []
  },
  {
   "cell_type": "markdown",
   "id": "27cfba21-d496-4f28-bada-0fab4718dfad",
   "metadata": {},
   "source": [
    "# Controladores de flujo"
   ]
  },
  {
   "cell_type": "markdown",
   "id": "9f7ca92c-e710-4d0d-bc97-f2ca7c2d85d7",
   "metadata": {},
   "source": [
    "Iterara signifca repetir algo varias veces. Cada vez que in conjunto de cosas se repite se le llama una iteracción. La función while itera algo mientras una condición sea true"
   ]
  },
  {
   "cell_type": "code",
   "execution_count": 3,
   "id": "64948293-68bf-4735-a001-f97865b26cfb",
   "metadata": {},
   "outputs": [
    {
     "name": "stdout",
     "output_type": "stream",
     "text": [
      "el valor de la variable es 0\n",
      "el valor de la variable es 2\n",
      "el valor de la variable es 4\n",
      "el valor de la variable es 6\n",
      "el valor de la variable es 8\n",
      "while ya no se cumple\n"
     ]
    }
   ],
   "source": [
    "variable = 0\n",
    "while variable < 10:\n",
    "    print ('el valor de la variable es', variable)\n",
    "    variable += 2 #El tab aquí es super importante porque sin el la suma no se aplica y el codigo sigue siendo 0 por siempre\n",
    "\n",
    "print('while ya no se cumple')"
   ]
  },
  {
   "cell_type": "code",
   "execution_count": 4,
   "id": "1df1e9c8-01ca-4f1a-9fe5-55f2adfb1509",
   "metadata": {},
   "outputs": [
    {
     "name": "stdout",
     "output_type": "stream",
     "text": [
      "el valor de la variable es 0\n",
      "el valor de la variable es 5\n",
      "while ya no se cumple\n"
     ]
    }
   ],
   "source": [
    "variable = 0\n",
    "while variable < 10:\n",
    "    print ('el valor de la variable es', variable)\n",
    "    variable += 5\n",
    "\n",
    "print('while ya no se cumple')"
   ]
  },
  {
   "cell_type": "code",
   "execution_count": 5,
   "id": "c9bb89b3-ff16-4058-babf-e130959a20f8",
   "metadata": {},
   "outputs": [
    {
     "name": "stdout",
     "output_type": "stream",
     "text": [
      "el valor de la variable es 0\n",
      "el valor de la variable es 2\n",
      "el valor de la variable es 4\n",
      "el valor de la variable es 6\n",
      "el valor de la variable es 8\n",
      "es todo\n",
      "while ya no se cumple\n"
     ]
    }
   ],
   "source": [
    "variable = 0\n",
    "while variable < 10:\n",
    "    print ('el valor de la variable es', variable)\n",
    "    variable += 2\n",
    "\n",
    "else: \n",
    "    print('es todo')#lo que se va a hacer después de terminar las iteraciones de while\n",
    "\n",
    "print('while ya no se cumple')"
   ]
  },
  {
   "cell_type": "code",
   "execution_count": 6,
   "id": "f55c411e-fcc0-46af-b7d1-a0cbd5d431a2",
   "metadata": {},
   "outputs": [
    {
     "name": "stdout",
     "output_type": "stream",
     "text": [
      "el valor de la variable es 1\n",
      "el valor de la variable es 2\n",
      "el valor de la variable es 3\n",
      "el valor de la variable es 4\n",
      "la condcional para activar el break ahora es cierta, el valor es 4\n",
      "while ya no se cumple\n"
     ]
    }
   ],
   "source": [
    "variable = 0\n",
    "while variable <= 5:\n",
    "    variable += 1\n",
    "    print ('el valor de la variable es', variable)\n",
    "    if variable == 4:\n",
    "        print('la condcional para activar el break ahora es cierta, el valor es 4')\n",
    "        break\n",
    "        print('código después del break') #el break hace ignorar a todo lo de después, no continua con las iteraciones\n",
    "else: \n",
    "    print('es todo')\n",
    "\n",
    "# el break hace ignorar el else\n",
    "\n",
    "print('while ya no se cumple')"
   ]
  },
  {
   "cell_type": "code",
   "execution_count": 7,
   "id": "3883b500-670f-4f8a-a9f8-f95951c86930",
   "metadata": {},
   "outputs": [
    {
     "name": "stdout",
     "output_type": "stream",
     "text": [
      "el valor de la variable es 1\n",
      "el valor de la variable es 2\n",
      "el valor de la variable es 3\n",
      "el valor de la variable es 4\n",
      "la condcional para activar el break ahora es cierta, el valor es 4\n",
      "el valor de la variable es 5\n",
      "el valor de la variable es 6\n",
      "es todo\n",
      "while ya no se cumple\n"
     ]
    }
   ],
   "source": [
    "variable = 0\n",
    "while variable <= 5:\n",
    "    variable += 1\n",
    "    print ('el valor de la variable es', variable)\n",
    "    if variable == 4:\n",
    "        print('la condcional para activar el break ahora es cierta, el valor es 4')\n",
    "        continue\n",
    "        print('código después del continue') #el continue termina la iteración en cuestión ahí, ignorando el código que sigue, pero sigue con las\n",
    "        #iteraciones mientras la condición sea true\n",
    "else: \n",
    "    print('es todo')\n",
    "\n",
    "# el break hace ignorar el else\n",
    "\n",
    "print('while ya no se cumple')"
   ]
  },
  {
   "cell_type": "markdown",
   "id": "c68a4da5-4423-45ac-999f-cf5a92c1283a",
   "metadata": {},
   "source": [
    "# For"
   ]
  },
  {
   "cell_type": "code",
   "execution_count": 9,
   "id": "daed3a9a-6db3-4779-8794-6735d82ac440",
   "metadata": {},
   "outputs": [
    {
     "name": "stdout",
     "output_type": "stream",
     "text": [
      "2\n",
      "4\n",
      "6\n",
      "8\n",
      "10\n",
      "12\n",
      "14\n",
      "16\n",
      "18\n",
      "20\n"
     ]
    }
   ],
   "source": [
    "lista = [2,4,6,8,10,12,14,16,18,20]\n",
    "\n",
    "for valor in lista:\n",
    "    print(valor)"
   ]
  },
  {
   "cell_type": "code",
   "execution_count": 10,
   "id": "7036e630-e04e-4618-8864-d3b4a4905515",
   "metadata": {},
   "outputs": [
    {
     "name": "stdout",
     "output_type": "stream",
     "text": [
      "El promedio de los valores es 11.0\n"
     ]
    }
   ],
   "source": [
    "lista = [2,4,6,8,10,12,14,16,18,20]\n",
    "\n",
    "promedio = 0\n",
    "for valor in lista:\n",
    "    promedio += valor\n",
    "\n",
    "promedio /= len(lista) #/= es dividir y asignar el nuevo valor\n",
    "print('El promedio de los valores es', promedio)"
   ]
  },
  {
   "cell_type": "markdown",
   "id": "e997a88d-45e0-434c-85db-984598a8b82c",
   "metadata": {},
   "source": [
    "Usando la lista listas = [2,3,4,5,6,7,8,9,10]\n",
    "\n",
    "Sobre cada valor de listas determine:\n",
    "- Si el valor de la lisa es par, calcule e imprime su resultado\n",
    "- Si el valor de la lista es impar, sume uno al valor y dividalo sobre 2 e imprima el resultado"
   ]
  },
  {
   "cell_type": "code",
   "execution_count": 21,
   "id": "a454d4fc-df76-427e-80f8-35aa18cd7670",
   "metadata": {},
   "outputs": [
    {
     "name": "stdout",
     "output_type": "stream",
     "text": [
      "4\n",
      "2.0\n",
      "16\n",
      "3.0\n",
      "36\n",
      "4.0\n",
      "64\n",
      "5.0\n",
      "100\n"
     ]
    }
   ],
   "source": [
    "listas = [2,3,4,5,6,7,8,9,10]\n",
    "\n",
    "for valor in listas:\n",
    "    if valor%2 == 0:\n",
    "        valor **= 2\n",
    "        print(valor)\n",
    "    else:\n",
    "        valor += 1\n",
    "        valor /= 2\n",
    "        print(valor)"
   ]
  },
  {
   "cell_type": "code",
   "execution_count": 22,
   "id": "18ff9c92-686e-4593-a922-60b533f79f85",
   "metadata": {},
   "outputs": [
    {
     "data": {
      "text/plain": [
       "[52, 54, 56, 58, 60]"
      ]
     },
     "execution_count": 22,
     "metadata": {},
     "output_type": "execute_result"
    }
   ],
   "source": [
    "listas = [2,4,6,8,10]\n",
    "\n",
    "indice = 0\n",
    "for _ in listas:\n",
    "    listas[indice] += 50\n",
    "    indice += 1\n",
    "\n",
    "listas"
   ]
  },
  {
   "cell_type": "markdown",
   "id": "a49fa14a-c62f-42f3-83aa-35c8a9ade322",
   "metadata": {},
   "source": [
    "### método enumerate(iterable, start = 0)\n",
    "\n",
    "Regresa un objeto enumerate"
   ]
  },
  {
   "cell_type": "code",
   "execution_count": 25,
   "id": "e4bec931-aa8e-42df-9a7b-0699458b8af7",
   "metadata": {},
   "outputs": [
    {
     "data": {
      "text/plain": [
       "[(0, 2), (1, 4), (2, 6), (3, 8), (4, 10)]"
      ]
     },
     "execution_count": 25,
     "metadata": {},
     "output_type": "execute_result"
    }
   ],
   "source": [
    "list(enumerate([2,4,6,8,10], start=0))"
   ]
  },
  {
   "cell_type": "code",
   "execution_count": 26,
   "id": "d158f02e-a7f9-421e-a49e-6881a2ae5400",
   "metadata": {},
   "outputs": [
    {
     "data": {
      "text/plain": [
       "[(0, 'c'), (1, 'a'), (2, 'd'), (3, 'e'), (4, 'n'), (5, 'a')]"
      ]
     },
     "execution_count": 26,
     "metadata": {},
     "output_type": "execute_result"
    }
   ],
   "source": [
    "list(enumerate(\"cadena\"))"
   ]
  },
  {
   "cell_type": "code",
   "execution_count": null,
   "id": "73295f38-d329-4a19-9903-ce7559acf256",
   "metadata": {},
   "outputs": [],
   "source": []
  }
 ],
 "metadata": {
  "kernelspec": {
   "display_name": "Python 3 (ipykernel)",
   "language": "python",
   "name": "python3"
  },
  "language_info": {
   "codemirror_mode": {
    "name": "ipython",
    "version": 3
   },
   "file_extension": ".py",
   "mimetype": "text/x-python",
   "name": "python",
   "nbconvert_exporter": "python",
   "pygments_lexer": "ipython3",
   "version": "3.10.4"
  }
 },
 "nbformat": 4,
 "nbformat_minor": 5
}
