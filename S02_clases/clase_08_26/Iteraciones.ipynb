{
 "cells": [
  {
   "cell_type": "markdown",
   "id": "422e9e57-a58f-4ff8-b1f2-fd5302f133b7",
   "metadata": {},
   "source": [
    "# Iteraciones\n",
    "\n",
    "Iterar significa realizar una acción varias veces. A cada vez que se repite el conjunto de acciones, se dice que es una iteración.\n",
    "\n",
    "# Sentencia While\n",
    "\n",
    "Se basa en repetir un bloque de código a partir de una condición lógica. Dicho bloque de código se repetirá mientras que la condición sea True"
   ]
  },
  {
   "cell_type": "code",
   "execution_count": 2,
   "id": "2ee6e258-f077-4a12-8a35-556cd314b95e",
   "metadata": {},
   "outputs": [
    {
     "name": "stdout",
     "output_type": "stream",
     "text": [
      "el valor de la variable es 0\n",
      "el valor de la variable es 2\n",
      "el valor de la variable es 4\n",
      "el valor de la variable es 6\n",
      "el valor de la variable es 8\n",
      "codigo después del while\n"
     ]
    }
   ],
   "source": [
    "variable = 0\n",
    "\n",
    "while variable < 10:\n",
    "    print('el valor de la variable es', variable)\n",
    "    variable += 2\n",
    "\n",
    "print ('codigo después del while')"
   ]
  },
  {
   "cell_type": "code",
   "execution_count": 3,
   "id": "5bcb80c7-03ad-470b-afc8-e1945eb663d7",
   "metadata": {},
   "outputs": [
    {
     "name": "stdout",
     "output_type": "stream",
     "text": [
      "1\n",
      "2\n",
      "3\n",
      "4\n",
      "5\n",
      "6\n",
      "código en el else del while\n",
      "codigo después del while\n"
     ]
    }
   ],
   "source": [
    "variable = 0\n",
    "\n",
    "while variable <=5:\n",
    "    variable += 1\n",
    "    print(variable)\n",
    "else: \n",
    "    print('código en el else del while')\n",
    "\n",
    "print ('codigo después del while')"
   ]
  },
  {
   "cell_type": "markdown",
   "id": "32d9d57d-6b86-435a-8296-aa7408d46863",
   "metadata": {},
   "source": [
    "# Palabras reservadas relacionadas al while\n",
    "\n",
    "### continue y el break"
   ]
  },
  {
   "cell_type": "code",
   "execution_count": 5,
   "id": "3d4d98fa-2656-4dc0-88ed-e6334b34cfe7",
   "metadata": {},
   "outputs": [
    {
     "name": "stdout",
     "output_type": "stream",
     "text": [
      "1\n",
      "2\n",
      "3\n",
      "entro al condicional para activar el  break\n",
      "codigo después del while\n"
     ]
    }
   ],
   "source": [
    "variable = 0\n",
    "\n",
    "while variable <=5:\n",
    "    variable += 1\n",
    "    print(variable)\n",
    "    if variable == 3:\n",
    "        print('entro al condicional para activar el  break')\n",
    "        break\n",
    "else: \n",
    "    print('código en el else del while')\n",
    "\n",
    "print ('codigo después del while')\n",
    "\n",
    "### break va a romper el bucle, una vez que llega al break va a salirse del controlador del flujo"
   ]
  },
  {
   "cell_type": "code",
   "execution_count": 7,
   "id": "8225cb1e-858c-4aac-9a64-14356c63acad",
   "metadata": {},
   "outputs": [
    {
     "name": "stdout",
     "output_type": "stream",
     "text": [
      "1\n",
      "codigo condicional despues del continue\n",
      "2\n",
      "codigo condicional despues del continue\n",
      "3\n",
      "entro al condicional para activar el  continue\n",
      "4\n",
      "codigo condicional despues del continue\n",
      "5\n",
      "codigo condicional despues del continue\n",
      "6\n",
      "codigo condicional despues del continue\n",
      "código en el else del while\n",
      "codigo después del while\n"
     ]
    }
   ],
   "source": [
    "variable = 0\n",
    "\n",
    "while variable <=5:\n",
    "    variable += 1\n",
    "    print(variable)\n",
    "    if variable == 3:\n",
    "        print('entro al condicional para activar el  continue')\n",
    "        continue\n",
    "    print('codigo condicional despues del continue')\n",
    "else: \n",
    "    print('código en el else del while')\n",
    "\n",
    "print ('codigo después del while')\n"
   ]
  },
  {
   "cell_type": "markdown",
   "id": "a23f8f53-59cf-447b-9e8c-c3347bd53a38",
   "metadata": {},
   "source": [
    "# Controlador de flujo for"
   ]
  },
  {
   "cell_type": "code",
   "execution_count": 8,
   "id": "e26a0e2c-84da-473c-829d-00467c6d5af2",
   "metadata": {},
   "outputs": [
    {
     "name": "stdout",
     "output_type": "stream",
     "text": [
      "2\n",
      "4\n",
      "6\n",
      "8\n",
      "10\n",
      "12\n",
      "14\n",
      "16\n",
      "18\n"
     ]
    }
   ],
   "source": [
    "listas = [2, 4, 6, 8, 10, 12, 14, 16, 18]\n",
    "\n",
    "for valor in listas:\n",
    "    print(valor)"
   ]
  },
  {
   "cell_type": "code",
   "execution_count": 9,
   "id": "0c312cfa-bf68-41f0-81bf-a8f15897eae7",
   "metadata": {},
   "outputs": [
    {
     "name": "stdout",
     "output_type": "stream",
     "text": [
      "0\n",
      "1\n",
      "2\n",
      "3\n",
      "4\n",
      "5\n",
      "6\n",
      "7\n",
      "8\n",
      "9\n"
     ]
    }
   ],
   "source": [
    "#range(pos_i, pos_f+1, salto)\n",
    "for valor in range(10):\n",
    "    print(valor)"
   ]
  },
  {
   "cell_type": "code",
   "execution_count": 12,
   "id": "2daf0d7f-aa93-4eab-8bdf-f8035229343f",
   "metadata": {},
   "outputs": [
    {
     "name": "stdout",
     "output_type": "stream",
     "text": [
      "c\n",
      "a\n",
      "d\n",
      "e\n",
      "n\n",
      "a\n"
     ]
    }
   ],
   "source": [
    "for letra in 'cadena':\n",
    "    print(letra)"
   ]
  },
  {
   "cell_type": "code",
   "execution_count": 15,
   "id": "ee938a37-5f3b-4397-9a1b-89c1a0901eaf",
   "metadata": {},
   "outputs": [
    {
     "name": "stdout",
     "output_type": "stream",
     "text": [
      "key1\n",
      "key2\n",
      "key3\n"
     ]
    }
   ],
   "source": [
    "diccionario= {'key1':'val1', 'key2':'val2', 'key3':'val3'}\n",
    "for llave in diccionario:\n",
    "    print(llave)"
   ]
  },
  {
   "cell_type": "code",
   "execution_count": 17,
   "id": "241f0a40-08f7-4d72-9c51-d37b6caaf73e",
   "metadata": {},
   "outputs": [
    {
     "data": {
      "text/plain": [
       "5"
      ]
     },
     "execution_count": 17,
     "metadata": {},
     "output_type": "execute_result"
    }
   ],
   "source": [
    "listas=[2,4,6,8,10]\n",
    "len(listas)"
   ]
  },
  {
   "cell_type": "code",
   "execution_count": 18,
   "id": "1136066e-9c6b-47b4-950b-e3d88feb1a42",
   "metadata": {},
   "outputs": [
    {
     "name": "stdout",
     "output_type": "stream",
     "text": [
      "la lista tiene 5 elementos\n"
     ]
    }
   ],
   "source": [
    "listas=[2,4,6,8,10]\n",
    "\n",
    "longitud=0\n",
    "for valor in listas:\n",
    "    longitud += 1\n",
    "\n",
    "print('la lista tiene', longitud, 'elementos')"
   ]
  },
  {
   "cell_type": "code",
   "execution_count": 19,
   "id": "7c82b419-a07b-4943-9f71-06a0289b1807",
   "metadata": {},
   "outputs": [
    {
     "name": "stdout",
     "output_type": "stream",
     "text": [
      "el promedio de los valores de la lista es  6.0\n"
     ]
    }
   ],
   "source": [
    "listas=[2,4,6,8,10]\n",
    "\n",
    "promedio=0\n",
    "for valor in listas:\n",
    "    promedio += valor\n",
    "promedio/= len(listas)\n",
    "print('el promedio de los valores de la lista es ', promedio)"
   ]
  },
  {
   "cell_type": "markdown",
   "id": "e3816554-11a5-402c-ab29-6fbc46cc9a2e",
   "metadata": {},
   "source": [
    "### Ejercicio\n",
    "usando la lista listas=[2,3,4,5,6,7,8,9,10]\n",
    "sobre cada valor de listas determine:\n",
    "-si el valor de la lista es par, calcule e imprime su cuadrado\n",
    "-si el valor de la lista es impar, sume uno al valor y dividalo sobre 2 e imprima el resultado"
   ]
  },
  {
   "cell_type": "code",
   "execution_count": 27,
   "id": "ec85b2a4-325b-4d78-a973-cca0835e01b5",
   "metadata": {},
   "outputs": [
    {
     "name": "stdout",
     "output_type": "stream",
     "text": [
      "el cuadrado del valor par es 4\n",
      "el cuadrado del valor impar es 2.0\n",
      "el cuadrado del valor par es 16\n",
      "el cuadrado del valor impar es 3.0\n",
      "el cuadrado del valor par es 36\n",
      "el cuadrado del valor impar es 4.0\n",
      "el cuadrado del valor par es 64\n",
      "el cuadrado del valor impar es 5.0\n",
      "el cuadrado del valor par es 100\n"
     ]
    }
   ],
   "source": [
    "listas=[2,3,4,5,6,7,8,9,10]\n",
    "for valor in listas:\n",
    "    if valor % 2 == 0:\n",
    "        print('el cuadrado del valor par es', valor**2)\n",
    "    else:\n",
    "        print('el cuadrado del valor impar es', (valor+1)/2)"
   ]
  },
  {
   "cell_type": "markdown",
   "id": "37898504-5dfd-4e54-988e-6d9930fdabbb",
   "metadata": {},
   "source": [
    "# Modificar una lista al vuelo"
   ]
  },
  {
   "cell_type": "code",
   "execution_count": 28,
   "id": "301527d4-958c-4e63-95d0-6170dfe4ee68",
   "metadata": {},
   "outputs": [
    {
     "data": {
      "text/plain": [
       "[2, 4, 6, 8, 10]"
      ]
     },
     "execution_count": 28,
     "metadata": {},
     "output_type": "execute_result"
    }
   ],
   "source": [
    "listas= [2,4,6,8,10]\n",
    "\n",
    "for valor in listas:\n",
    "    valor+=50\n",
    "\n",
    "listas"
   ]
  },
  {
   "cell_type": "code",
   "execution_count": 29,
   "id": "c11408ad-bf58-4786-bf81-b36514e4d416",
   "metadata": {},
   "outputs": [
    {
     "data": {
      "text/plain": [
       "[52, 54, 56, 58, 60]"
      ]
     },
     "execution_count": 29,
     "metadata": {},
     "output_type": "execute_result"
    }
   ],
   "source": [
    "listas= [2,4,6,8,10]\n",
    "indice=0\n",
    "for _ in listas:\n",
    "    listas[indice]+=50\n",
    "    indice+=1\n",
    "\n",
    "listas"
   ]
  },
  {
   "cell_type": "markdown",
   "id": "035ca641-0324-47d1-9f66-0cbcb0aeca8a",
   "metadata": {},
   "source": [
    "# método enumerate(iterable, start=0)\n",
    "\n",
    "regresará un objeto enumerate, este método regresará una tupla de pares, donde el primer elemento será un entero que comenzará en start y el segundoelemento de la tupla tendrá el valor del objeto iterable"
   ]
  },
  {
   "cell_type": "code",
   "execution_count": 34,
   "id": "0452a88b-18f4-4dd5-95ce-b3d7b8e10030",
   "metadata": {},
   "outputs": [
    {
     "data": {
      "text/plain": [
       "['cadena', 'con', 'espacios']"
      ]
     },
     "execution_count": 34,
     "metadata": {},
     "output_type": "execute_result"
    }
   ],
   "source": [
    "\"cadena con espacios\". split(sep=\" \") #metodo"
   ]
  },
  {
   "cell_type": "code",
   "execution_count": 37,
   "id": "88374af6-031a-4946-97bf-ceaf8ffbf183",
   "metadata": {},
   "outputs": [
    {
     "data": {
      "text/plain": [
       "[(-20, 2), (-19, 4), (-18, 6), (-17, 8), (-16, 10)]"
      ]
     },
     "execution_count": 37,
     "metadata": {},
     "output_type": "execute_result"
    }
   ],
   "source": [
    "list(enumerate([2,4,6,8,10], start=-20))"
   ]
  },
  {
   "cell_type": "code",
   "execution_count": 38,
   "id": "89fa0a86-5db3-47b6-a6d1-cc16b6b470f7",
   "metadata": {},
   "outputs": [
    {
     "data": {
      "text/plain": [
       "[(0, 'c'), (1, 'a'), (2, 'd'), (3, 'e'), (4, 'n'), (5, 'a')]"
      ]
     },
     "execution_count": 38,
     "metadata": {},
     "output_type": "execute_result"
    }
   ],
   "source": [
    "list(enumerate(\"cadena\"))"
   ]
  },
  {
   "cell_type": "code",
   "execution_count": 40,
   "id": "401e0b57-09fe-4a1c-b584-8620779ce302",
   "metadata": {},
   "outputs": [
    {
     "data": {
      "text/plain": [
       "[(1, 'primavera'), (2, 'verano'), (3, 'otoño'), (4, 'invierno')]"
      ]
     },
     "execution_count": 40,
     "metadata": {},
     "output_type": "execute_result"
    }
   ],
   "source": [
    "list(enumerate(['primavera', 'verano', 'otoño', 'invierno'], start=1))"
   ]
  },
  {
   "cell_type": "code",
   "execution_count": 41,
   "id": "b9bd1ee1-2339-49dd-bea0-8297399c50a4",
   "metadata": {},
   "outputs": [
    {
     "data": {
      "text/plain": [
       "[52, 54, 56, 58, 60]"
      ]
     },
     "execution_count": 41,
     "metadata": {},
     "output_type": "execute_result"
    }
   ],
   "source": [
    "listas= [2,4,6,8,10]\n",
    "indice=0\n",
    "for _ in listas:\n",
    "    listas[indice]+=50\n",
    "    indice+=1\n",
    "\n",
    "listas"
   ]
  },
  {
   "cell_type": "code",
   "execution_count": 43,
   "id": "667a924b-f8f9-475b-9325-b722e05de86b",
   "metadata": {},
   "outputs": [
    {
     "data": {
      "text/plain": [
       "[52, 54, 56, 58, 60]"
      ]
     },
     "execution_count": 43,
     "metadata": {},
     "output_type": "execute_result"
    }
   ],
   "source": [
    "listas= [2,4,6,8,10]\n",
    "indice=0\n",
    "for _ in enumerate (listas):\n",
    "    listas[indice]+=50\n",
    "    indice+=1\n",
    "\n",
    "listas"
   ]
  },
  {
   "cell_type": "markdown",
   "id": "78a1ad0f-cede-4776-9b29-eea96ed64988",
   "metadata": {},
   "source": [
    "# Tarea\n",
    "#### Built in functions\n",
    "https://docs.python.org/3/library/functions.html"
   ]
  },
  {
   "cell_type": "markdown",
   "id": "4d2606e3-1bef-49b5-b1a6-1df7c1658bc3",
   "metadata": {},
   "source": [
    "### Hacer un ejemplo de las siguientes built-in functions\n",
    "- all\n",
    "- any\n",
    "- abs\n",
    "- input\n",
    "- max\n",
    "- min\n",
    "- pow\n",
    "- reversed\n",
    "- round\n",
    "- sorted\n",
    "- sum"
   ]
  },
  {
   "cell_type": "code",
   "execution_count": null,
   "id": "0e4582da-e0cf-44a8-96fc-ccc95a026b46",
   "metadata": {},
   "outputs": [],
   "source": []
  }
 ],
 "metadata": {
  "kernelspec": {
   "display_name": "Python 3 (ipykernel)",
   "language": "python",
   "name": "python3"
  },
  "language_info": {
   "codemirror_mode": {
    "name": "ipython",
    "version": 3
   },
   "file_extension": ".py",
   "mimetype": "text/x-python",
   "name": "python",
   "nbconvert_exporter": "python",
   "pygments_lexer": "ipython3",
   "version": "3.10.4"
  }
 },
 "nbformat": 4,
 "nbformat_minor": 5
}
