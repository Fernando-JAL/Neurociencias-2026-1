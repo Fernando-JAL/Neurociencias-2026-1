{
 "cells": [
  {
   "cell_type": "markdown",
   "id": "b306a203-ebda-4b72-a4dc-5dadbc4fe713",
   "metadata": {},
   "source": [
    "# Actividad"
   ]
  },
  {
   "cell_type": "code",
   "execution_count": null,
   "id": "363f8885-ba8a-4b44-9de9-6758c32cdd7a",
   "metadata": {},
   "outputs": [],
   "source": [
    "#1.- Abrir el dataset de cat.mat y usar la data de \"Names\" y \"CIJctx\"\n",
    "#2.- Generar el mapa de color del dataframe asociado\n",
    "# Las columnas y las filas deben tener los nombres de los canales\n",
    "# Generar el histograma del dataset y determinar el porcentaje de  cada valor\n",
    "# Filtrar el dataset con los valores <=1, <=2 y <=3\n",
    "# Con cada filtrado, que porcentaje de datos se están elminando\n",
    "#Generar el mapa de calor de cada dataset filtrado\n",
    "#Generar el grafo 2D de cada dataset filtrado"
   ]
  },
  {
   "cell_type": "code",
   "execution_count": 1,
   "id": "3311aa28-a422-48e8-a037-3cf18fab1ebe",
   "metadata": {},
   "outputs": [],
   "source": [
    "import numpy as np\n",
    "import pandas as pd\n",
    "import matplotlib.pyplot as plt\n"
   ]
  },
  {
   "cell_type": "code",
   "execution_count": 2,
   "id": "7f77b7a6-1de6-4fa8-84d1-60524711250e",
   "metadata": {
    "scrolled": true
   },
   "outputs": [
    {
     "name": "stdout",
     "output_type": "stream",
     "text": [
      "Requirement already satisfied: matplotlib in c:\\users\\v304-23\\appdata\\local\\programs\\python\\python311\\lib\\site-packages (3.10.7)\n",
      "Requirement already satisfied: contourpy>=1.0.1 in c:\\users\\v304-23\\appdata\\local\\programs\\python\\python311\\lib\\site-packages (from matplotlib) (1.3.3)\n",
      "Requirement already satisfied: cycler>=0.10 in c:\\users\\v304-23\\appdata\\local\\programs\\python\\python311\\lib\\site-packages (from matplotlib) (0.12.1)\n",
      "Requirement already satisfied: fonttools>=4.22.0 in c:\\users\\v304-23\\appdata\\local\\programs\\python\\python311\\lib\\site-packages (from matplotlib) (4.60.1)\n",
      "Requirement already satisfied: kiwisolver>=1.3.1 in c:\\users\\v304-23\\appdata\\local\\programs\\python\\python311\\lib\\site-packages (from matplotlib) (1.4.9)\n",
      "Requirement already satisfied: numpy>=1.23 in c:\\users\\v304-23\\appdata\\local\\programs\\python\\python311\\lib\\site-packages (from matplotlib) (2.3.3)\n",
      "Requirement already satisfied: packaging>=20.0 in c:\\users\\v304-23\\appdata\\local\\programs\\python\\python311\\lib\\site-packages (from matplotlib) (25.0)\n",
      "Requirement already satisfied: pillow>=8 in c:\\users\\v304-23\\appdata\\local\\programs\\python\\python311\\lib\\site-packages (from matplotlib) (11.3.0)\n",
      "Requirement already satisfied: pyparsing>=3 in c:\\users\\v304-23\\appdata\\local\\programs\\python\\python311\\lib\\site-packages (from matplotlib) (3.2.5)\n",
      "Requirement already satisfied: python-dateutil>=2.7 in c:\\users\\v304-23\\appdata\\local\\programs\\python\\python311\\lib\\site-packages (from matplotlib) (2.9.0.post0)\n",
      "Requirement already satisfied: six>=1.5 in c:\\users\\v304-23\\appdata\\local\\programs\\python\\python311\\lib\\site-packages (from python-dateutil>=2.7->matplotlib) (1.17.0)\n",
      "Note: you may need to restart the kernel to use updated packages.\n"
     ]
    },
    {
     "name": "stderr",
     "output_type": "stream",
     "text": [
      "\n",
      "[notice] A new release of pip available: 22.3.1 -> 25.2\n",
      "[notice] To update, run: python.exe -m pip install --upgrade pip\n"
     ]
    }
   ],
   "source": [
    "pip install matplotlib"
   ]
  },
  {
   "cell_type": "code",
   "execution_count": 3,
   "id": "811bd6e6-1d2f-4a76-aeb2-a4b683128a37",
   "metadata": {},
   "outputs": [
    {
     "name": "stdout",
     "output_type": "stream",
     "text": [
      "Requirement already satisfied: seaborn in c:\\users\\v304-23\\appdata\\local\\programs\\python\\python311\\lib\\site-packages (0.13.2)\n",
      "Requirement already satisfied: numpy!=1.24.0,>=1.20 in c:\\users\\v304-23\\appdata\\local\\programs\\python\\python311\\lib\\site-packages (from seaborn) (2.3.3)\n",
      "Requirement already satisfied: pandas>=1.2 in c:\\users\\v304-23\\appdata\\local\\programs\\python\\python311\\lib\\site-packages (from seaborn) (2.3.3)\n",
      "Requirement already satisfied: matplotlib!=3.6.1,>=3.4 in c:\\users\\v304-23\\appdata\\local\\programs\\python\\python311\\lib\\site-packages (from seaborn) (3.10.7)\n",
      "Requirement already satisfied: contourpy>=1.0.1 in c:\\users\\v304-23\\appdata\\local\\programs\\python\\python311\\lib\\site-packages (from matplotlib!=3.6.1,>=3.4->seaborn) (1.3.3)\n",
      "Requirement already satisfied: cycler>=0.10 in c:\\users\\v304-23\\appdata\\local\\programs\\python\\python311\\lib\\site-packages (from matplotlib!=3.6.1,>=3.4->seaborn) (0.12.1)\n",
      "Requirement already satisfied: fonttools>=4.22.0 in c:\\users\\v304-23\\appdata\\local\\programs\\python\\python311\\lib\\site-packages (from matplotlib!=3.6.1,>=3.4->seaborn) (4.60.1)\n",
      "Requirement already satisfied: kiwisolver>=1.3.1 in c:\\users\\v304-23\\appdata\\local\\programs\\python\\python311\\lib\\site-packages (from matplotlib!=3.6.1,>=3.4->seaborn) (1.4.9)\n",
      "Requirement already satisfied: packaging>=20.0 in c:\\users\\v304-23\\appdata\\local\\programs\\python\\python311\\lib\\site-packages (from matplotlib!=3.6.1,>=3.4->seaborn) (25.0)\n",
      "Requirement already satisfied: pillow>=8 in c:\\users\\v304-23\\appdata\\local\\programs\\python\\python311\\lib\\site-packages (from matplotlib!=3.6.1,>=3.4->seaborn) (11.3.0)\n",
      "Requirement already satisfied: pyparsing>=3 in c:\\users\\v304-23\\appdata\\local\\programs\\python\\python311\\lib\\site-packages (from matplotlib!=3.6.1,>=3.4->seaborn) (3.2.5)\n",
      "Requirement already satisfied: python-dateutil>=2.7 in c:\\users\\v304-23\\appdata\\local\\programs\\python\\python311\\lib\\site-packages (from matplotlib!=3.6.1,>=3.4->seaborn) (2.9.0.post0)\n",
      "Requirement already satisfied: pytz>=2020.1 in c:\\users\\v304-23\\appdata\\local\\programs\\python\\python311\\lib\\site-packages (from pandas>=1.2->seaborn) (2025.2)\n",
      "Requirement already satisfied: tzdata>=2022.7 in c:\\users\\v304-23\\appdata\\local\\programs\\python\\python311\\lib\\site-packages (from pandas>=1.2->seaborn) (2025.2)\n",
      "Requirement already satisfied: six>=1.5 in c:\\users\\v304-23\\appdata\\local\\programs\\python\\python311\\lib\\site-packages (from python-dateutil>=2.7->matplotlib!=3.6.1,>=3.4->seaborn) (1.17.0)\n",
      "Note: you may need to restart the kernel to use updated packages.\n"
     ]
    },
    {
     "name": "stderr",
     "output_type": "stream",
     "text": [
      "\n",
      "[notice] A new release of pip available: 22.3.1 -> 25.2\n",
      "[notice] To update, run: python.exe -m pip install --upgrade pip\n"
     ]
    }
   ],
   "source": [
    "pip install seaborn"
   ]
  },
  {
   "cell_type": "code",
   "execution_count": 4,
   "id": "32e0ef67-cdda-4dd4-938c-e8527bda17a6",
   "metadata": {},
   "outputs": [],
   "source": [
    "import seaborn as sns"
   ]
  },
  {
   "cell_type": "code",
   "execution_count": 20,
   "id": "3c922d6b-e564-4371-8b9a-b7281d075963",
   "metadata": {},
   "outputs": [],
   "source": [
    "file_path= r\"C:\\Users\\V304-23\\Documents\\GitHub\\Neurociencias-2026-1\\S03_datasets\\BCT\\cat.mat\""
   ]
  },
  {
   "cell_type": "code",
   "execution_count": 6,
   "id": "69988b0a-9bac-4632-8381-8963b6755b1b",
   "metadata": {},
   "outputs": [
    {
     "name": "stdout",
     "output_type": "stream",
     "text": [
      "Requirement already satisfied: scipy in c:\\users\\v304-23\\appdata\\local\\programs\\python\\python311\\lib\\site-packages (1.16.2)\n",
      "Requirement already satisfied: numpy<2.6,>=1.25.2 in c:\\users\\v304-23\\appdata\\local\\programs\\python\\python311\\lib\\site-packages (from scipy) (2.3.3)\n"
     ]
    },
    {
     "name": "stderr",
     "output_type": "stream",
     "text": [
      "\n",
      "[notice] A new release of pip available: 22.3.1 -> 25.2\n",
      "[notice] To update, run: python.exe -m pip install --upgrade pip\n"
     ]
    }
   ],
   "source": [
    "!pip install scipy"
   ]
  },
  {
   "cell_type": "code",
   "execution_count": 18,
   "id": "a4b73843-6c6a-45df-add9-f9980f14f80b",
   "metadata": {},
   "outputs": [],
   "source": [
    "import scipy.io"
   ]
  },
  {
   "cell_type": "code",
   "execution_count": 15,
   "id": "e62f8564-2ce7-47d2-9338-99a98ba57437",
   "metadata": {},
   "outputs": [],
   "source": [
    "from scipy.io import loadmat"
   ]
  },
  {
   "cell_type": "code",
   "execution_count": 16,
   "id": "3c0eed48-0a5a-4ca2-8c38-8694e4c0ad8b",
   "metadata": {},
   "outputs": [],
   "source": [
    "file_path: r\"C:\\Users\\V304-23\\Documents\\GitHub\\Neurociencias-2026-1\\S03_datasets\\BCT\\cat.mat\""
   ]
  },
  {
   "cell_type": "code",
   "execution_count": 21,
   "id": "7feac084-bf98-4c71-8678-7fd41b16be59",
   "metadata": {},
   "outputs": [],
   "source": [
    "file_dict = scipy.io.loadmat(file_path)"
   ]
  },
  {
   "cell_type": "code",
   "execution_count": 22,
   "id": "53036f48-1e6d-442d-94b4-44cca5155dd4",
   "metadata": {},
   "outputs": [
    {
     "data": {
      "text/plain": [
       "{'__header__': b'MATLAB 5.0 MAT-file, Platform: PCWIN, Created on: Wed May 29 16:24:29 2013',\n",
       " '__version__': '1.0',\n",
       " '__globals__': [],\n",
       " 'CIJall': array([[0, 3, 3, ..., 0, 0, 0],\n",
       "        [3, 0, 3, ..., 0, 0, 0],\n",
       "        [3, 3, 0, ..., 0, 0, 0],\n",
       "        ...,\n",
       "        [0, 0, 0, ..., 0, 0, 0],\n",
       "        [0, 0, 0, ..., 0, 0, 0],\n",
       "        [0, 0, 0, ..., 0, 0, 0]], shape=(95, 95), dtype=uint8),\n",
       " 'CIJctx': array([[0, 3, 3, ..., 0, 0, 0],\n",
       "        [3, 0, 3, ..., 0, 0, 0],\n",
       "        [3, 3, 0, ..., 0, 0, 0],\n",
       "        ...,\n",
       "        [0, 0, 0, ..., 0, 0, 3],\n",
       "        [0, 0, 0, ..., 2, 0, 2],\n",
       "        [0, 0, 0, ..., 2, 2, 0]], shape=(52, 52), dtype=uint8),\n",
       " 'Names': array(['    17', '    18', '    19', '  PLLS', '  PMLS', '  AMLS',\n",
       "        '  ALLS', '   VLS', '   DLS', '   21a', '   21b', '   20a',\n",
       "        '   20b', '     7', '   AES', '    PS', '    AI', '   AII',\n",
       "        '   AAF', '     P', '   VPc', '   EPp', '   Tem', '    3a',\n",
       "        '    3b', '     1', '     2', '   SII', '   SIV', '    4g',\n",
       "        '     4', '    6l', '    6m', '   5Am', '   5Al', '   5Bm',\n",
       "        '   5Bl', '  SSAi', '  SSAo', 'PFCMil', ' PFCMd', '  PFCL',\n",
       "        '    Ia', '    Ig', '   Cga', '   CGp', '    RS', '    35',\n",
       "        '    36', '   pSb', '    Sb', '   Enr'], dtype='<U6')}"
      ]
     },
     "execution_count": 22,
     "metadata": {},
     "output_type": "execute_result"
    }
   ],
   "source": [
    "file_dict"
   ]
  },
  {
   "cell_type": "code",
   "execution_count": 23,
   "id": "46469c25-26e1-47eb-a5b5-0f345c1a8367",
   "metadata": {},
   "outputs": [],
   "source": [
    "matriz= file_dict[\"CIJctx\"]\n",
    "columnas= file_dict[\"Names\"]\n",
    "nombres = [str(n[0]) if isinstance(n, np.ndarray) else str (n) for n in columnas[0]]"
   ]
  },
  {
   "cell_type": "code",
   "execution_count": 24,
   "id": "0b191f8a-e3c7-49f3-a63e-51e26dcdde33",
   "metadata": {},
   "outputs": [
    {
     "data": {
      "text/plain": [
       "((52, 52), 52)"
      ]
     },
     "execution_count": 24,
     "metadata": {},
     "output_type": "execute_result"
    }
   ],
   "source": [
    "matriz.shape, len(columnas)"
   ]
  },
  {
   "cell_type": "code",
   "execution_count": 25,
   "id": "19d667f9-305e-4408-9d01-86705e958ce2",
   "metadata": {},
   "outputs": [],
   "source": [
    "gato_df = pd.DataFrame(data = matriz, columns= columnas, index= columnas)\n",
    "gato_df.index= gato_df.columns"
   ]
  },
  {
   "cell_type": "code",
   "execution_count": 26,
   "id": "e0395a22-2870-47d2-b976-78269ff7b31e",
   "metadata": {},
   "outputs": [
    {
     "data": {
      "image/png": "[encoded data removed]",
      "text/plain": [
       "<Figure size 640x480 with 2 Axes>"
      ]
     },
     "metadata": {},
     "output_type": "display_data"
    }
   ],
   "source": [
    "ax = sns.heatmap(gato_df, annot=False, fmt=\".0f\", cmap=\"hot\", \n",
    "                xticklabels=gato_df.columns, yticklabels=gato_df.columns)\n",
    "plt.show()"
   ]
  },
  {
   "cell_type": "code",
   "execution_count": null,
   "id": "ff93792e-dd0e-4631-84fb-80b2fa852cf5",
   "metadata": {},
   "outputs": [],
   "source": [
    "G= nx.from_pandas_adjacency(gato_df.iloc[15:36, 15:36], create_using=nx.DiGraph())"
   ]
  }
 ],
 "metadata": {
  "kernelspec": {
   "display_name": "Python 3 (ipykernel)",
   "language": "python",
   "name": "python3"
  },
  "language_info": {
   "codemirror_mode": {
    "name": "ipython",
    "version": 3
   },
   "file_extension": ".py",
   "mimetype": "text/x-python",
   "name": "python",
   "nbconvert_exporter": "python",
   "pygments_lexer": "ipython3",
   "version": "3.13.7"
  }
 },
 "nbformat": 4,
 "nbformat_minor": 5
}
