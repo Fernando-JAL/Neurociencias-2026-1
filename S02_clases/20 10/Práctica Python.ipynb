{
 "cells": [
  {
   "metadata": {
    "ExecuteTime": {
     "end_time": "2025-10-20T23:58:56.726321Z",
     "start_time": "2025-10-20T23:58:53.892596Z"
    }
   },
   "cell_type": "code",
   "source": [
    "import matplotlib.pyplot as plt\n",
    "import scipy.io\n",
    "import seaborn as sns\n",
    "import numpy as np\n",
    "import pandas as pd\n",
    "import networkx as nx"
   ],
   "id": "38815b67fe13c4d",
   "outputs": [],
   "execution_count": 1
  },
  {
   "metadata": {},
   "cell_type": "markdown",
   "source": [
    "1. Validar contraseña segura\n",
    "Escribe una función es_contraseña_segura(passw) que verifique si una contraseña:\n",
    "\n",
    "Tiene al menos 8 caracteres\n",
    "\n",
    "Incluye mayúsculas, minúsculas, números y un carácter especial (@, #, $, %, &, etc.)\n",
    "Usa funciones built-in como any(), str.isdigit(), str.isupper(), etc."
   ],
   "id": "15afbb31518f4128"
  },
  {
   "metadata": {
    "ExecuteTime": {
     "end_time": "2025-10-21T00:16:50.480572Z",
     "start_time": "2025-10-21T00:16:50.456694Z"
    }
   },
   "cell_type": "code",
   "source": [
    "import string\n",
    "\n",
    "def es_contraseña_segura(passw):\n",
    "    tiene_mayuscula = any(c.isupper() for c in passw)\n",
    "    tiene_minuscula = any(c.islower() for c in passw)\n",
    "    tiene_numero = any(c.isdigit() for c in passw)\n",
    "    tiene_especial = any(c in string.punctuation for c in passw)\n",
    "\n",
    "    es_segura = tiene_mayuscula and tiene_minuscula and tiene_numero and tiene_especial\n",
    "\n",
    "    if es_segura:\n",
    "        print(\"La contraseña esta joya\")\n",
    "    else:\n",
    "        print(\"La contraseña no sirve\")\n",
    "\n",
    "    return es_segura"
   ],
   "id": "fb52a9c5ba655911",
   "outputs": [],
   "execution_count": 15
  },
  {
   "metadata": {
    "ExecuteTime": {
     "end_time": "2025-10-21T00:16:53.740490Z",
     "start_time": "2025-10-21T00:16:53.700529Z"
    }
   },
   "cell_type": "code",
   "source": "es_contraseña_segura(\"HolaSoyGerman12&\")",
   "id": "88c3f200b97429e8",
   "outputs": [
    {
     "name": "stdout",
     "output_type": "stream",
     "text": [
      "La contraseña esta joya\n"
     ]
    },
    {
     "data": {
      "text/plain": [
       "True"
      ]
     },
     "execution_count": 16,
     "metadata": {},
     "output_type": "execute_result"
    }
   ],
   "execution_count": 16
  },
  {
   "metadata": {},
   "cell_type": "markdown",
   "source": [
    "2. Palabra más larga en una frase\n",
    "\n",
    "Define palabra_mas_larga(frase) que encuentre la palabra con más caracteres dentro de un texto."
   ],
   "id": "b050a07615f78bb7"
  },
  {
   "metadata": {
    "ExecuteTime": {
     "end_time": "2025-10-21T00:21:29.641152Z",
     "start_time": "2025-10-21T00:21:29.627168Z"
    }
   },
   "cell_type": "code",
   "source": [
    "def palabra_mas_larga(frase):\n",
    "    palabras = frase.split()\n",
    "    palabra_larga=\"\"\n",
    "    for palabra in palabras:\n",
    "        if len(palabra) > len(palabra_larga):\n",
    "            palabra_larga = palabra\n",
    "\n",
    "    return palabra_larga"
   ],
   "id": "264a0e69d5128432",
   "outputs": [],
   "execution_count": 21
  },
  {
   "metadata": {
    "ExecuteTime": {
     "end_time": "2025-10-21T00:21:33.781502Z",
     "start_time": "2025-10-21T00:21:33.755862Z"
    }
   },
   "cell_type": "code",
   "source": "palabra_mas_larga(\"Estoy comiendo camote ahumado con cebolla y parangacutirimicuaro\")",
   "id": "eedad1fdc216a07b",
   "outputs": [
    {
     "data": {
      "text/plain": [
       "'parangacutirimicuaro'"
      ]
     },
     "execution_count": 22,
     "metadata": {},
     "output_type": "execute_result"
    }
   ],
   "execution_count": 22
  },
  {
   "metadata": {},
   "cell_type": "markdown",
   "source": [
    "3. Simulador de calculadora básica\n",
    "Crea una función calculadora(a, b, operador) donde operador puede ser \"+\", \"-\", \"*\", \"/\".\n",
    "Usa if/elif para decidir la operación"
   ],
   "id": "ad82934e18120a70"
  },
  {
   "metadata": {},
   "cell_type": "code",
   "source": "",
   "id": "fd46bc1befc7d08d",
   "execution_count": null,
   "outputs": []
  },
  {
   "metadata": {},
   "cell_type": "code",
   "outputs": [],
   "source": "",
   "id": "edca2e12d3a356ec",
   "execution_count": null
  },
  {
   "metadata": {},
   "cell_type": "markdown",
   "source": [
    "4. Suma de números impares\n",
    "\n",
    "Dada una lista de enteros, escribe una función que devuelva la suma de todos los números impares.\n",
    "Ejemplo → [1, 2, 3, 4, 5] → 9."
   ],
   "id": "a5fbbaf445d03104"
  },
  {
   "metadata": {
    "ExecuteTime": {
     "end_time": "2025-10-21T00:30:10.145260Z",
     "start_time": "2025-10-21T00:30:10.130290Z"
    }
   },
   "cell_type": "code",
   "source": [
    "def num_impares(numeros):\n",
    "    suma_total=0\n",
    "    for numero in numeros:\n",
    "        if numero % 2 !=0:\n",
    "            suma_total += numero\n",
    "\n",
    "    return suma_total"
   ],
   "id": "45cb6b18611b4609",
   "outputs": [],
   "execution_count": 45
  },
  {
   "metadata": {
    "ExecuteTime": {
     "end_time": "2025-10-21T00:30:11.305390Z",
     "start_time": "2025-10-21T00:30:11.283480Z"
    }
   },
   "cell_type": "code",
   "source": [
    "lista= (1,2,3,4,5,6,7,8,9)\n",
    "num_impares(lista)"
   ],
   "id": "67fff8e18aa5420d",
   "outputs": [
    {
     "data": {
      "text/plain": [
       "25"
      ]
     },
     "execution_count": 46,
     "metadata": {},
     "output_type": "execute_result"
    }
   ],
   "execution_count": 46
  },
  {
   "metadata": {},
   "cell_type": "markdown",
   "source": [
    "5. Palabras que comienzan con vocal\n",
    "\n",
    "Dada una lista de palabras, devuelve una nueva lista solo con las que empiezan con vocal.\n",
    "Ejemplo → [\"oso\", \"perro\", \"agua\", \"luz\"] → [\"oso\", \"agua\"]."
   ],
   "id": "f8e91e3e018d9345"
  },
  {
   "metadata": {
    "ExecuteTime": {
     "end_time": "2025-10-21T00:39:48.924298Z",
     "start_time": "2025-10-21T00:39:48.901101Z"
    }
   },
   "cell_type": "code",
   "source": [
    "def palabras_con_vocal(lista_palabras):\n",
    "    vocales = \"aeiouAEIOUáéíóúÁÉÍÓÚ\"\n",
    "    resultado = []\n",
    "    for palabra in lista_palabras:\n",
    "        if palabra:\n",
    "            primer_caracter = palabra[0]\n",
    "            if primer_caracter in vocales:\n",
    "                resultado.append(palabra)\n",
    "\n",
    "    return resultado\n",
    "\n",
    "listah = [\"Zapote\", \"Empanada\", \"lola\", \"lalo\", \"alo\"]"
   ],
   "id": "e4f517e3d29619be",
   "outputs": [],
   "execution_count": 56
  },
  {
   "metadata": {
    "ExecuteTime": {
     "end_time": "2025-10-21T00:39:50.610086Z",
     "start_time": "2025-10-21T00:39:50.597Z"
    }
   },
   "cell_type": "code",
   "source": "palabras_con_vocal(listah)",
   "id": "c7efbb8c9787f47a",
   "outputs": [
    {
     "data": {
      "text/plain": [
       "['Empanada', 'alo']"
      ]
     },
     "execution_count": 57,
     "metadata": {},
     "output_type": "execute_result"
    }
   ],
   "execution_count": 57
  },
  {
   "metadata": {},
   "cell_type": "markdown",
   "source": [
    "6. Unir listas alternando elementos. Investigar la built-in function zip\n",
    "\n",
    "Dados dos listas del mismo tamaño, genera una tercera lista intercalando sus elementos.\n",
    "Ejemplo → [1,2,3], [‘a’,‘b’,‘c’] → [1,‘a’,2,‘b’,3,‘c’]."
   ],
   "id": "4b765aca00f72457"
  },
  {
   "metadata": {
    "ExecuteTime": {
     "end_time": "2025-10-21T00:42:02.346789Z",
     "start_time": "2025-10-21T00:42:02.334726Z"
    }
   },
   "cell_type": "code",
   "source": [
    "def unir_listas_alternando(lista_a, lista_b):\n",
    "    pares = zip(lista_a, lista_b)\n",
    "    lista_intercalada = [elemento for par in pares for elemento in par]\n",
    "\n",
    "    return lista_intercalada\n",
    "\n",
    "lista1 = [1,2,3,4]\n",
    "lista2 = ['pipi', 'joya', 'Monse', 'Rodrigo']"
   ],
   "id": "53e4b3270e1b5946",
   "outputs": [],
   "execution_count": 60
  },
  {
   "metadata": {
    "ExecuteTime": {
     "end_time": "2025-10-21T00:42:04.399960Z",
     "start_time": "2025-10-21T00:42:04.374974Z"
    }
   },
   "cell_type": "code",
   "source": "unir_listas_alternando(lista1, lista2)",
   "id": "b39eac70491ddd75",
   "outputs": [
    {
     "data": {
      "text/plain": [
       "[1, 'pipi', 2, 'joya', 3, 'Monse', 4, 'Rodrigo']"
      ]
     },
     "execution_count": 61,
     "metadata": {},
     "output_type": "execute_result"
    }
   ],
   "execution_count": 61
  },
  {
   "metadata": {},
   "cell_type": "markdown",
   "source": [
    "7. Rotar una lista n posiciones\n",
    "\n",
    "Dada una lista y un número entero n, rota la lista hacia la derecha n posiciones.\n",
    "Ejemplo → [1,2,3,4,5], n=2 → [4,5,1,2,3]"
   ],
   "id": "2a4d13f415748db6"
  },
  {
   "metadata": {},
   "cell_type": "code",
   "execution_count": null,
   "source": "",
   "id": "4a78be1c0b774265",
   "outputs": []
  },
  {
   "metadata": {},
   "cell_type": "code",
   "outputs": [],
   "source": "",
   "id": "dd441f5407120851",
   "execution_count": null
  }
 ],
 "metadata": {
  "kernelspec": {
   "display_name": "Python 3",
   "language": "python",
   "name": "python3"
  },
  "language_info": {
   "codemirror_mode": {
    "name": "ipython",
    "version": 2
   },
   "file_extension": ".py",
   "mimetype": "text/x-python",
   "name": "python",
   "nbconvert_exporter": "python",
   "pygments_lexer": "ipython2",
   "version": "2.7.6"
  }
 },
 "nbformat": 4,
 "nbformat_minor": 5
}
