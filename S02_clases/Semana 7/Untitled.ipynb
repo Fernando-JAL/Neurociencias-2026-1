{
 "cells": [
  {
   "cell_type": "markdown",
   "id": "46b46a7f-b8b0-44c5-8cac-0d817a8da3a4",
   "metadata": {},
   "source": [
    "# Funciones lambda"
   ]
  },
  {
   "cell_type": "code",
   "execution_count": 1,
   "id": "08ab4c7d-5628-475b-8fa5-eb2ab18f2c20",
   "metadata": {},
   "outputs": [
    {
     "data": {
      "text/plain": [
       "36"
      ]
     },
     "execution_count": 1,
     "metadata": {},
     "output_type": "execute_result"
    }
   ],
   "source": [
    "fun_lambda= lambda x: x**2\n",
    "fun_lambda(6) "
   ]
  },
  {
   "cell_type": "markdown",
   "id": "6d2d589d-5e94-474b-9ebb-2a61bfaf5593",
   "metadata": {},
   "source": [
    "### Hace lo mismo que una funcion normal, ideal para funciones compactas\n",
    "#### los inputs y outputs pueden ser todos los necesarios"
   ]
  },
  {
   "cell_type": "code",
   "execution_count": 2,
   "id": "2ca0867c-7eed-40c4-9877-021288e8b62b",
   "metadata": {},
   "outputs": [
    {
     "data": {
      "text/plain": [
       "'airam eva'"
      ]
     },
     "execution_count": 2,
     "metadata": {},
     "output_type": "execute_result"
    }
   ],
   "source": [
    "fun_str= lambda string: string[::-1]\n",
    "fun_str('ave maria')"
   ]
  },
  {
   "cell_type": "code",
   "execution_count": 4,
   "id": "e03afe8c-a2bc-4131-825c-eef1e0f7a639",
   "metadata": {},
   "outputs": [
    {
     "data": {
      "text/plain": [
       "(3, -2)"
      ]
     },
     "execution_count": 4,
     "metadata": {},
     "output_type": "execute_result"
    }
   ],
   "source": [
    "fun_lda=lambda a,b,c: (a+b,a-c)\n",
    "fun_lda(1,2,3)"
   ]
  },
  {
   "cell_type": "code",
   "execution_count": 7,
   "id": "ceeec586-2dde-4612-851f-f4ef54ebdcc7",
   "metadata": {},
   "outputs": [],
   "source": [
    "lista=[(1,8),(7,5),(12,-52),(2,0)]"
   ]
  },
  {
   "cell_type": "code",
   "execution_count": 11,
   "id": "af27de2d-d1ac-4f01-b1ce-df83b068297f",
   "metadata": {},
   "outputs": [
    {
     "data": {
      "text/plain": [
       "[(1, 8), (7, 5), (2, 0), (12, -52)]"
      ]
     },
     "execution_count": 11,
     "metadata": {},
     "output_type": "execute_result"
    }
   ],
   "source": [
    "lista.sort(key=lambda x: x[1], reverse=True) ## key nos dice con base a que nos va a ordenar \n",
    "lista"
   ]
  },
  {
   "cell_type": "code",
   "execution_count": 13,
   "id": "261671af-c66c-45a5-b544-46a91b4ae30a",
   "metadata": {},
   "outputs": [],
   "source": [
    "import pandas as pd\n",
    "import numpy as np\n",
    "import matplotlib.pyplot as plt "
   ]
  },
  {
   "cell_type": "code",
   "execution_count": 14,
   "id": "231bd135-47d2-4e6e-aaa1-dcba8edd2da2",
   "metadata": {},
   "outputs": [
    {
     "data": {
      "text/html": [
       "<div>\n",
       "<style scoped>\n",
       "    .dataframe tbody tr th:only-of-type {\n",
       "        vertical-align: middle;\n",
       "    }\n",
       "\n",
       "    .dataframe tbody tr th {\n",
       "        vertical-align: top;\n",
       "    }\n",
       "\n",
       "    .dataframe thead th {\n",
       "        text-align: right;\n",
       "    }\n",
       "</style>\n",
       "<table border=\"1\" class=\"dataframe\">\n",
       "  <thead>\n",
       "    <tr style=\"text-align: right;\">\n",
       "      <th></th>\n",
       "      <th>sujetos</th>\n",
       "      <th>genero</th>\n",
       "      <th>condicion</th>\n",
       "      <th>region</th>\n",
       "      <th>neurotransmisores</th>\n",
       "      <th>presición</th>\n",
       "    </tr>\n",
       "  </thead>\n",
       "  <tbody>\n",
       "    <tr>\n",
       "      <th>0</th>\n",
       "      <td>S02</td>\n",
       "      <td>M</td>\n",
       "      <td>control</td>\n",
       "      <td>cortex prefrontal</td>\n",
       "      <td>serotonina</td>\n",
       "      <td>0.941594</td>\n",
       "    </tr>\n",
       "    <tr>\n",
       "      <th>1</th>\n",
       "      <td>S00</td>\n",
       "      <td>M</td>\n",
       "      <td>experimental</td>\n",
       "      <td>cortex prefrontal</td>\n",
       "      <td>serotonina</td>\n",
       "      <td>0.929857</td>\n",
       "    </tr>\n",
       "    <tr>\n",
       "      <th>2</th>\n",
       "      <td>S03</td>\n",
       "      <td>M</td>\n",
       "      <td>experimental</td>\n",
       "      <td>cortex prefrontal</td>\n",
       "      <td>serotonina</td>\n",
       "      <td>0.812647</td>\n",
       "    </tr>\n",
       "    <tr>\n",
       "      <th>3</th>\n",
       "      <td>S00</td>\n",
       "      <td>M</td>\n",
       "      <td>control</td>\n",
       "      <td>amigdala</td>\n",
       "      <td>serotonina</td>\n",
       "      <td>0.879129</td>\n",
       "    </tr>\n",
       "    <tr>\n",
       "      <th>4</th>\n",
       "      <td>S00</td>\n",
       "      <td>F</td>\n",
       "      <td>experimental</td>\n",
       "      <td>cortex prefrontal</td>\n",
       "      <td>dopamina</td>\n",
       "      <td>1.027199</td>\n",
       "    </tr>\n",
       "    <tr>\n",
       "      <th>...</th>\n",
       "      <td>...</td>\n",
       "      <td>...</td>\n",
       "      <td>...</td>\n",
       "      <td>...</td>\n",
       "      <td>...</td>\n",
       "      <td>...</td>\n",
       "    </tr>\n",
       "    <tr>\n",
       "      <th>195</th>\n",
       "      <td>S03</td>\n",
       "      <td>F</td>\n",
       "      <td>experimental</td>\n",
       "      <td>cortex prefrontal</td>\n",
       "      <td>serotonina</td>\n",
       "      <td>0.964486</td>\n",
       "    </tr>\n",
       "    <tr>\n",
       "      <th>196</th>\n",
       "      <td>S00</td>\n",
       "      <td>M</td>\n",
       "      <td>control</td>\n",
       "      <td>amigdala</td>\n",
       "      <td>dopamina</td>\n",
       "      <td>0.927389</td>\n",
       "    </tr>\n",
       "    <tr>\n",
       "      <th>197</th>\n",
       "      <td>S02</td>\n",
       "      <td>M</td>\n",
       "      <td>experimental</td>\n",
       "      <td>hipocampo</td>\n",
       "      <td>dopamina</td>\n",
       "      <td>0.974612</td>\n",
       "    </tr>\n",
       "    <tr>\n",
       "      <th>198</th>\n",
       "      <td>S01</td>\n",
       "      <td>F</td>\n",
       "      <td>control</td>\n",
       "      <td>hipocampo</td>\n",
       "      <td>serotonina</td>\n",
       "      <td>0.932255</td>\n",
       "    </tr>\n",
       "    <tr>\n",
       "      <th>199</th>\n",
       "      <td>S01</td>\n",
       "      <td>F</td>\n",
       "      <td>control</td>\n",
       "      <td>cortex prefrontal</td>\n",
       "      <td>serotonina</td>\n",
       "      <td>0.938913</td>\n",
       "    </tr>\n",
       "  </tbody>\n",
       "</table>\n",
       "<p>200 rows × 6 columns</p>\n",
       "</div>"
      ],
      "text/plain": [
       "    sujetos genero     condicion             region neurotransmisores  \\\n",
       "0       S02      M       control  cortex prefrontal        serotonina   \n",
       "1       S00      M  experimental  cortex prefrontal        serotonina   \n",
       "2       S03      M  experimental  cortex prefrontal        serotonina   \n",
       "3       S00      M       control           amigdala        serotonina   \n",
       "4       S00      F  experimental  cortex prefrontal          dopamina   \n",
       "..      ...    ...           ...                ...               ...   \n",
       "195     S03      F  experimental  cortex prefrontal        serotonina   \n",
       "196     S00      M       control           amigdala          dopamina   \n",
       "197     S02      M  experimental          hipocampo          dopamina   \n",
       "198     S01      F       control          hipocampo        serotonina   \n",
       "199     S01      F       control  cortex prefrontal        serotonina   \n",
       "\n",
       "     presición  \n",
       "0     0.941594  \n",
       "1     0.929857  \n",
       "2     0.812647  \n",
       "3     0.879129  \n",
       "4     1.027199  \n",
       "..         ...  \n",
       "195   0.964486  \n",
       "196   0.927389  \n",
       "197   0.974612  \n",
       "198   0.932255  \n",
       "199   0.938913  \n",
       "\n",
       "[200 rows x 6 columns]"
      ]
     },
     "execution_count": 14,
     "metadata": {},
     "output_type": "execute_result"
    }
   ],
   "source": [
    "tipos_sujetos=['S'+str(i).zfill(2) for i in range(4)]\n",
    "generos=['M','F'];\n",
    "condicion= ['control','experimental']\n",
    "region=['hipocampo','cortex prefrontal','amigdala']\n",
    "nts=['dopamina','serotonina']\n",
    "longitud=200\n",
    "\n",
    "for idx in range(200):\n",
    "    dick={ 'sujetos':['S'+ str(i).zfill(2) for i in np.random.randint(0,4,size=longitud)],\n",
    "                  'genero':[generos[i] for i in np.random.randint(len(generos),size=longitud)],\n",
    "                  'condicion': [condicion[i] for i in np.random.randint(len(condicion),size=longitud)],\n",
    "                  'region': [region[i] for i in np.random.randint(len(region),size=longitud)],\n",
    "                  'neurotransmisores': [nts[i] for i in np.random.randint(len(nts),size=longitud)]}\n",
    "\n",
    "df=pd.DataFrame(dick)\n",
    "df['presición']=np.random.normal(loc=0.92,scale=0.08,size=200)\n",
    "df"
   ]
  },
  {
   "cell_type": "code",
   "execution_count": 15,
   "id": "29f0df2c-2f58-4235-aba8-7ce56d5516d2",
   "metadata": {},
   "outputs": [
    {
     "data": {
      "text/plain": [
       "0      CORTEX PREFRONTAL\n",
       "1      CORTEX PREFRONTAL\n",
       "2      CORTEX PREFRONTAL\n",
       "3               AMIGDALA\n",
       "4      CORTEX PREFRONTAL\n",
       "             ...        \n",
       "195    CORTEX PREFRONTAL\n",
       "196             AMIGDALA\n",
       "197            HIPOCAMPO\n",
       "198            HIPOCAMPO\n",
       "199    CORTEX PREFRONTAL\n",
       "Name: region, Length: 200, dtype: object"
      ]
     },
     "execution_count": 15,
     "metadata": {},
     "output_type": "execute_result"
    }
   ],
   "source": [
    "def funcion(string):\n",
    "    return string.upper()\n",
    "\n",
    "df['region'].apply(funcion)"
   ]
  },
  {
   "cell_type": "code",
   "execution_count": null,
   "id": "16c4f9ff-e790-46ad-b05a-fe703156cee0",
   "metadata": {},
   "outputs": [],
   "source": []
  }
 ],
 "metadata": {
  "kernelspec": {
   "display_name": "Python 3 (ipykernel)",
   "language": "python",
   "name": "python3"
  },
  "language_info": {
   "codemirror_mode": {
    "name": "ipython",
    "version": 3
   },
   "file_extension": ".py",
   "mimetype": "text/x-python",
   "name": "python",
   "nbconvert_exporter": "python",
   "pygments_lexer": "ipython3",
   "version": "3.13.7"
  }
 },
 "nbformat": 4,
 "nbformat_minor": 5
}
