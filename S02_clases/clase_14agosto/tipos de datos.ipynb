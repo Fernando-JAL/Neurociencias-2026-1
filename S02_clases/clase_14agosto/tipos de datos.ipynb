{
 "cells": [
  {
   "cell_type": "markdown",
   "id": "2ca5ed1d-ae7c-45bd-8a1d-46fb03b34c3f",
   "metadata": {},
   "source": [
    "# Matemáticas básicas"
   ]
  },
  {
   "cell_type": "code",
   "execution_count": 1,
   "id": "7eafd13f-fb06-47ba-bf46-1d3b96070f0e",
   "metadata": {},
   "outputs": [],
   "source": [
    "b = 310930131098309"
   ]
  },
  {
   "cell_type": "code",
   "execution_count": 2,
   "id": "639ee2c1-18b8-43fd-9f57-b4828c145e45",
   "metadata": {},
   "outputs": [
    {
     "data": {
      "text/plain": [
       "int"
      ]
     },
     "execution_count": 2,
     "metadata": {},
     "output_type": "execute_result"
    }
   ],
   "source": [
    "type(b)\n",
    "# Número entero = int"
   ]
  },
  {
   "cell_type": "code",
   "execution_count": 4,
   "id": "62e1ba97-b550-4692-ba0c-45292d4fd414",
   "metadata": {},
   "outputs": [
    {
     "data": {
      "text/plain": [
       "float"
      ]
     },
     "execution_count": 4,
     "metadata": {},
     "output_type": "execute_result"
    }
   ],
   "source": [
    "type(1.2)\n",
    "# Número racional = float"
   ]
  },
  {
   "cell_type": "code",
   "execution_count": 5,
   "id": "99af2512-1fc8-47fc-850b-4c44208a1091",
   "metadata": {},
   "outputs": [
    {
     "ename": "NameError",
     "evalue": "name 'i' is not defined",
     "output_type": "error",
     "traceback": [
      "\u001b[31m---------------------------------------------------------------------------\u001b[39m",
      "\u001b[31mNameError\u001b[39m                                 Traceback (most recent call last)",
      "\u001b[36mCell\u001b[39m\u001b[36m \u001b[39m\u001b[32mIn[5]\u001b[39m\u001b[32m, line 1\u001b[39m\n\u001b[32m----> \u001b[39m\u001b[32m1\u001b[39m \u001b[38;5;28mtype\u001b[39m(\u001b[43mi\u001b[49m)\n",
      "\u001b[31mNameError\u001b[39m: name 'i' is not defined"
     ]
    }
   ],
   "source": [
    "type(i)\n",
    "# La máquina no admite números irracionales"
   ]
  },
  {
   "cell_type": "code",
   "execution_count": 7,
   "id": "235b3ef5-3d79-4e6e-becc-ffb064e495c2",
   "metadata": {},
   "outputs": [
    {
     "data": {
      "text/plain": [
       "(1+3j)"
      ]
     },
     "execution_count": 7,
     "metadata": {},
     "output_type": "execute_result"
    }
   ],
   "source": [
    "complex(1,3)\n",
    "# Los números imaginarios son complejos. Número imaginario = a + bi"
   ]
  },
  {
   "cell_type": "code",
   "execution_count": 8,
   "id": "2d9868e5-d63f-44ce-aefc-dc289a50f8ef",
   "metadata": {},
   "outputs": [
    {
     "data": {
      "text/plain": [
       "complex"
      ]
     },
     "execution_count": 8,
     "metadata": {},
     "output_type": "execute_result"
    }
   ],
   "source": [
    "type(3+1j)"
   ]
  },
  {
   "cell_type": "code",
   "execution_count": 9,
   "id": "eb8f0acb-3d46-455d-8e6b-134514f76e86",
   "metadata": {},
   "outputs": [
    {
     "data": {
      "text/plain": [
       "(1+5j)"
      ]
     },
     "execution_count": 9,
     "metadata": {},
     "output_type": "execute_result"
    }
   ],
   "source": [
    "complex(1,3) + complex(0,2)"
   ]
  },
  {
   "cell_type": "code",
   "execution_count": 13,
   "id": "90d62ce4-87a6-46a4-906f-83ac39afc047",
   "metadata": {},
   "outputs": [
    {
     "data": {
      "text/plain": [
       "100"
      ]
     },
     "execution_count": 13,
     "metadata": {},
     "output_type": "execute_result"
    }
   ],
   "source": [
    "56 + 44"
   ]
  },
  {
   "cell_type": "code",
   "execution_count": 14,
   "id": "04fbdc20-45be-4c8c-89e1-3cc62e66baf0",
   "metadata": {},
   "outputs": [
    {
     "data": {
      "text/plain": [
       "4"
      ]
     },
     "execution_count": 14,
     "metadata": {},
     "output_type": "execute_result"
    }
   ],
   "source": [
    "8 - 4"
   ]
  },
  {
   "cell_type": "code",
   "execution_count": 15,
   "id": "86d50b3a-fef3-4806-9c5f-28e595627505",
   "metadata": {},
   "outputs": [
    {
     "data": {
      "text/plain": [
       "70"
      ]
     },
     "execution_count": 15,
     "metadata": {},
     "output_type": "execute_result"
    }
   ],
   "source": [
    "10 * 7"
   ]
  },
  {
   "cell_type": "code",
   "execution_count": 16,
   "id": "3d243e41-9d1e-48ff-b190-fb3a3d8d89a6",
   "metadata": {},
   "outputs": [
    {
     "data": {
      "text/plain": [
       "4.0"
      ]
     },
     "execution_count": 16,
     "metadata": {},
     "output_type": "execute_result"
    }
   ],
   "source": [
    "12 / 3"
   ]
  },
  {
   "cell_type": "code",
   "execution_count": 18,
   "id": "d3df8f40-d68d-4679-9667-e45d8c7001a9",
   "metadata": {},
   "outputs": [
    {
     "data": {
      "text/plain": [
       "9"
      ]
     },
     "execution_count": 18,
     "metadata": {},
     "output_type": "execute_result"
    }
   ],
   "source": [
    "3**2"
   ]
  },
  {
   "cell_type": "code",
   "execution_count": 19,
   "id": "20f0c803-9df7-4846-adbc-e1c13d7412bb",
   "metadata": {},
   "outputs": [
    {
     "data": {
      "text/plain": [
       "3.0"
      ]
     },
     "execution_count": 19,
     "metadata": {},
     "output_type": "execute_result"
    }
   ],
   "source": [
    "9**(1/2)"
   ]
  },
  {
   "cell_type": "code",
   "execution_count": 20,
   "id": "5cb5afd1-fa26-47d9-a4a5-d0e1fa399176",
   "metadata": {},
   "outputs": [
    {
     "data": {
      "text/plain": [
       "0"
      ]
     },
     "execution_count": 20,
     "metadata": {},
     "output_type": "execute_result"
    }
   ],
   "source": [
    "16%4\n",
    "# Calcular residuo"
   ]
  },
  {
   "cell_type": "code",
   "execution_count": 21,
   "id": "f58baa7b-8b99-419f-9d59-8db325c85592",
   "metadata": {},
   "outputs": [
    {
     "data": {
      "text/plain": [
       "4"
      ]
     },
     "execution_count": 21,
     "metadata": {},
     "output_type": "execute_result"
    }
   ],
   "source": [
    "16//4\n",
    "# Calcular cociente"
   ]
  },
  {
   "cell_type": "code",
   "execution_count": 22,
   "id": "e157169a-7940-4446-9d80-f23bf6a7cef3",
   "metadata": {},
   "outputs": [],
   "source": [
    "a = 8\n",
    "b = 3\n",
    "c = 42"
   ]
  },
  {
   "cell_type": "code",
   "execution_count": 23,
   "id": "046158ad-376b-4cb8-bcd2-40ebe87a59f9",
   "metadata": {},
   "outputs": [
    {
     "data": {
      "text/plain": [
       "(8, 3, 42)"
      ]
     },
     "execution_count": 23,
     "metadata": {},
     "output_type": "execute_result"
    }
   ],
   "source": [
    "a, b, c"
   ]
  },
  {
   "cell_type": "code",
   "execution_count": null,
   "id": "3ddca4cb-34b0-4436-bb33-235891f0aa78",
   "metadata": {},
   "outputs": [],
   "source": [
    "a, b, c = 8, 3, 42"
   ]
  },
  {
   "cell_type": "code",
   "execution_count": 29,
   "id": "74887c91-f1e6-43c9-b189-8d371f3dc870",
   "metadata": {},
   "outputs": [
    {
     "ename": "ZeroDivisionError",
     "evalue": "division by zero",
     "output_type": "error",
     "traceback": [
      "\u001b[31m---------------------------------------------------------------------------\u001b[39m",
      "\u001b[31mZeroDivisionError\u001b[39m                         Traceback (most recent call last)",
      "\u001b[36mCell\u001b[39m\u001b[36m \u001b[39m\u001b[32mIn[29]\u001b[39m\u001b[32m, line 1\u001b[39m\n\u001b[32m----> \u001b[39m\u001b[32m1\u001b[39m c/a + b*a - \u001b[43ma\u001b[49m\u001b[43m*\u001b[49m\u001b[43m*\u001b[49m\u001b[43mb\u001b[49m\u001b[43m \u001b[49m\u001b[43m/\u001b[49m\u001b[43m \u001b[49m\u001b[43m(\u001b[49m\u001b[43mc\u001b[49m\u001b[43m%\u001b[49m\u001b[43mb\u001b[49m\u001b[43m)\u001b[49m\n",
      "\u001b[31mZeroDivisionError\u001b[39m: division by zero"
     ]
    }
   ],
   "source": [
    "c/a + b*a - a**b / (c%b)"
   ]
  },
  {
   "cell_type": "markdown",
   "id": "e6a7ba51-f48c-4ffd-a4fe-78048ce05cd7",
   "metadata": {},
   "source": [
    "# Strings"
   ]
  },
  {
   "cell_type": "code",
   "execution_count": 30,
   "id": "6f2a310f-41dd-424a-8bca-3073c9798d16",
   "metadata": {},
   "outputs": [
    {
     "data": {
      "text/plain": [
       "'Esto es una cadena de texto'"
      ]
     },
     "execution_count": 30,
     "metadata": {},
     "output_type": "execute_result"
    }
   ],
   "source": [
    "\"Esto es una cadena de texto\""
   ]
  },
  {
   "cell_type": "code",
   "execution_count": 32,
   "id": "f158e6b1-a72e-47e5-9e85-d1082aaf3f6e",
   "metadata": {},
   "outputs": [],
   "source": [
    "a, b = 'Cadena de texto 1', 'Cadena de texto 2'"
   ]
  },
  {
   "cell_type": "code",
   "execution_count": 34,
   "id": "960c2f3c-9336-4855-918a-0d66edfd7ac7",
   "metadata": {},
   "outputs": [
    {
     "data": {
      "text/plain": [
       "('Cadena de texto 1', 'Cadena de texto 2')"
      ]
     },
     "execution_count": 34,
     "metadata": {},
     "output_type": "execute_result"
    }
   ],
   "source": [
    "a, b"
   ]
  },
  {
   "cell_type": "code",
   "execution_count": 36,
   "id": "b1ef81e3-77bd-4560-958e-69baecb2994d",
   "metadata": {},
   "outputs": [
    {
     "name": "stdout",
     "output_type": "stream",
     "text": [
      "Cadena de texto 1\n"
     ]
    }
   ],
   "source": [
    "print(a)"
   ]
  },
  {
   "cell_type": "code",
   "execution_count": 38,
   "id": "85961c9a-7bde-4cc9-9083-4d0440908078",
   "metadata": {},
   "outputs": [
    {
     "ename": "SyntaxError",
     "evalue": "unterminated string literal (detected at line 1) (2646852100.py, line 1)",
     "output_type": "error",
     "traceback": [
      "  \u001b[36mCell\u001b[39m\u001b[36m \u001b[39m\u001b[32mIn[38]\u001b[39m\u001b[32m, line 1\u001b[39m\n\u001b[31m    \u001b[39m\u001b[31mprint(\"Primera línea de texto\u001b[39m\n          ^\n\u001b[31mSyntaxError\u001b[39m\u001b[31m:\u001b[39m unterminated string literal (detected at line 1)\n"
     ]
    }
   ],
   "source": [
    "print(\"Primera línea de texto\n",
    "Segunda línea de teto\n",
    "Tercera línea de texto\")"
   ]
  },
  {
   "cell_type": "code",
   "execution_count": 40,
   "id": "8c10502c-2c7f-4e60-81d8-6b0b2fbd5cef",
   "metadata": {},
   "outputs": [
    {
     "name": "stdout",
     "output_type": "stream",
     "text": [
      "Primera línea de texto\n",
      "Segunda línea de teto\n",
      "Tercera línea de texto\n"
     ]
    }
   ],
   "source": [
    "print(\"\"\"Primera línea de texto\n",
    "Segunda línea de teto\n",
    "Tercera línea de texto\"\"\")"
   ]
  },
  {
   "cell_type": "code",
   "execution_count": 42,
   "id": "9e2f94c6-d59b-4a01-a0ac-a7784a22c85d",
   "metadata": {},
   "outputs": [],
   "source": [
    "a, b = 'ah', 'be'"
   ]
  },
  {
   "cell_type": "code",
   "execution_count": 43,
   "id": "b60ead59-5c0a-4bae-bad8-e45ca82c0900",
   "metadata": {},
   "outputs": [
    {
     "data": {
      "text/plain": [
       "'ahbe'"
      ]
     },
     "execution_count": 43,
     "metadata": {},
     "output_type": "execute_result"
    }
   ],
   "source": [
    "a + b"
   ]
  },
  {
   "cell_type": "code",
   "execution_count": 44,
   "id": "b92e2bf6-3ead-4dc1-934c-31f64d881e29",
   "metadata": {},
   "outputs": [
    {
     "data": {
      "text/plain": [
       "'ahahah'"
      ]
     },
     "execution_count": 44,
     "metadata": {},
     "output_type": "execute_result"
    }
   ],
   "source": [
    "3 * a"
   ]
  },
  {
   "cell_type": "markdown",
   "id": "ae7d9b52-8fcf-41a9-94d2-f2b4cff44811",
   "metadata": {},
   "source": [
    "# Silicing"
   ]
  },
  {
   "cell_type": "code",
   "execution_count": 52,
   "id": "e310c705-f87b-40de-93a4-12cacce8faef",
   "metadata": {},
   "outputs": [],
   "source": [
    "a = 'Hola jolines chayotes verdes'"
   ]
  },
  {
   "cell_type": "code",
   "execution_count": 46,
   "id": "65a9cae7-c499-4069-b302-160d498ab783",
   "metadata": {},
   "outputs": [],
   "source": [
    "b = 'Adiós'"
   ]
  },
  {
   "cell_type": "code",
   "execution_count": 48,
   "id": "ba6ef915-e85f-4149-bdf9-a7559c0653ed",
   "metadata": {},
   "outputs": [
    {
     "data": {
      "text/plain": [
       "'A'"
      ]
     },
     "execution_count": 48,
     "metadata": {},
     "output_type": "execute_result"
    }
   ],
   "source": [
    "b[0]"
   ]
  },
  {
   "cell_type": "code",
   "execution_count": 50,
   "id": "b1c2ec9c-5655-41eb-b9ff-b3405b618d0b",
   "metadata": {},
   "outputs": [
    {
     "data": {
      "text/plain": [
       "'s'"
      ]
     },
     "execution_count": 50,
     "metadata": {},
     "output_type": "execute_result"
    }
   ],
   "source": [
    "b[4]"
   ]
  },
  {
   "cell_type": "code",
   "execution_count": 53,
   "id": "11d8731c-a740-42ea-bbc4-144749e10828",
   "metadata": {},
   "outputs": [
    {
     "data": {
      "text/plain": [
       "'s'"
      ]
     },
     "execution_count": 53,
     "metadata": {},
     "output_type": "execute_result"
    }
   ],
   "source": [
    "a[-1]"
   ]
  },
  {
   "cell_type": "code",
   "execution_count": 54,
   "id": "c7128534-94e0-43fc-a1c6-7c88f05a8af5",
   "metadata": {},
   "outputs": [
    {
     "data": {
      "text/plain": [
       "'verdes'"
      ]
     },
     "execution_count": 54,
     "metadata": {},
     "output_type": "execute_result"
    }
   ],
   "source": [
    "a[-6:]"
   ]
  },
  {
   "cell_type": "code",
   "execution_count": 55,
   "id": "974526f4-86d8-4806-a9f8-8524688b8265",
   "metadata": {},
   "outputs": [
    {
     "data": {
      "text/plain": [
       "'Hola'"
      ]
     },
     "execution_count": 55,
     "metadata": {},
     "output_type": "execute_result"
    }
   ],
   "source": [
    "a[:4]"
   ]
  },
  {
   "cell_type": "code",
   "execution_count": 56,
   "id": "f4f68e8b-3e24-4883-a3f6-b7b14474ca34",
   "metadata": {},
   "outputs": [
    {
     "data": {
      "text/plain": [
       "'sde eoacsnljao'"
      ]
     },
     "execution_count": 56,
     "metadata": {},
     "output_type": "execute_result"
    }
   ],
   "source": [
    "a[::-2]\n",
    "# ????"
   ]
  }
 ],
 "metadata": {
  "kernelspec": {
   "display_name": "Python 3 (ipykernel)",
   "language": "python",
   "name": "python3"
  },
  "language_info": {
   "codemirror_mode": {
    "name": "ipython",
    "version": 3
   },
   "file_extension": ".py",
   "mimetype": "text/x-python",
   "name": "python",
   "nbconvert_exporter": "python",
   "pygments_lexer": "ipython3",
   "version": "3.11.1"
  }
 },
 "nbformat": 4,
 "nbformat_minor": 5
}
