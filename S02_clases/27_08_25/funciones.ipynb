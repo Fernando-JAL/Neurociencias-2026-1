{
 "cells": [
  {
   "cell_type": "markdown",
   "id": "7cbb6f3a-cbac-41bf-be13-f94b82d35d1d",
   "metadata": {},
   "source": [
    "## Funciones\n",
    "Son codigos que reciben y/devuelven datos, información, variables\n"
   ]
  },
  {
   "cell_type": "code",
   "execution_count": 10,
   "id": "40e77261-b541-4645-b14a-6275b58d664b",
   "metadata": {},
   "outputs": [
    {
     "name": "stdout",
     "output_type": "stream",
     "text": [
      "Hello world, Dennis Ritchie\n"
     ]
    }
   ],
   "source": [
    "def saludar(): ## definition de la función, nidentificador (su nombre) \"saludar\", print es para tabular\n",
    "    print('Hello world, Dennis Ritchie')\n",
    "saludar()"
   ]
  },
  {
   "cell_type": "code",
   "execution_count": 2,
   "id": "8f94c773-d30b-44d1-b287-e485e93ce651",
   "metadata": {},
   "outputs": [
    {
     "name": "stdout",
     "output_type": "stream",
     "text": [
      "Hello world, Dennis Ritchie\n"
     ]
    }
   ],
   "source": [
    "saludar()"
   ]
  },
  {
   "cell_type": "code",
   "execution_count": 6,
   "id": "8ac290de-14e5-48a0-acc4-90c777eb5e53",
   "metadata": {},
   "outputs": [
    {
     "name": "stdout",
     "output_type": "stream",
     "text": [
      "Hello world, Dennis Ritchie\n",
      "Hello world, Dennis Ritchie\n",
      "Hello world, Dennis Ritchie\n"
     ]
    }
   ],
   "source": [
    "for _ in range(3): ##for que hace 3 iteraciones\n",
    "  saludar()"
   ]
  },
  {
   "cell_type": "code",
   "execution_count": 7,
   "id": "7d1edc58-87d2-43f7-9833-671c39436b8e",
   "metadata": {},
   "outputs": [
    {
     "data": {
      "text/plain": [
       "7.0"
      ]
     },
     "execution_count": 7,
     "metadata": {},
     "output_type": "execute_result"
    }
   ],
   "source": [
    "lista= [3,5,7,9,11]\n",
    "\n",
    "sum(lista)/len(lista) ##promedio"
   ]
  },
  {
   "cell_type": "code",
   "execution_count": 16,
   "id": "03cd8954-1862-4e06-94ed-6a995c4ec6f5",
   "metadata": {},
   "outputs": [],
   "source": [
    "def promedio(numeros):##del numeros de  parámetros dependerá de argumento\n",
    "    valor_promedio= sum(numeros)/len(numeros)\n",
    "    print(f'El promedio de los números (valor_promedio)')\n",
    "    return valor_promedio"
   ]
  },
  {
   "cell_type": "code",
   "execution_count": 20,
   "id": "49468848-aefd-453c-af98-cd69d7700a8d",
   "metadata": {},
   "outputs": [
    {
     "name": "stdout",
     "output_type": "stream",
     "text": [
      "El promedio de los números (valor_promedio)\n"
     ]
    }
   ],
   "source": [
    "valorflotante= promedio(lista) ##la lista es el argumento"
   ]
  },
  {
   "cell_type": "code",
   "execution_count": 21,
   "id": "0ea5b5ad-4ba2-42a7-9499-d4f502394bb1",
   "metadata": {},
   "outputs": [
    {
     "data": {
      "text/plain": [
       "7.0"
      ]
     },
     "execution_count": 21,
     "metadata": {},
     "output_type": "execute_result"
    }
   ],
   "source": [
    "valorflotante"
   ]
  },
  {
   "cell_type": "code",
   "execution_count": 24,
   "id": "47066b60-a740-4b30-bebd-ee2d1c251cae",
   "metadata": {},
   "outputs": [],
   "source": [
    "def minimo (val_a, val_b):\n",
    "    val_minimo= min(val_a, val_b)\n",
    "    return val_minimo\n"
   ]
  },
  {
   "cell_type": "code",
   "execution_count": 25,
   "id": "683d76e7-8823-4e32-b67a-daf9964c2ea2",
   "metadata": {},
   "outputs": [
    {
     "data": {
      "text/plain": [
       "-50"
      ]
     },
     "execution_count": 25,
     "metadata": {},
     "output_type": "execute_result"
    }
   ],
   "source": [
    "minimo(-10, -50)"
   ]
  },
  {
   "cell_type": "code",
   "execution_count": 31,
   "id": "56bca43f-8e25-4763-b8a6-6033a31b2069",
   "metadata": {},
   "outputs": [
    {
     "ename": "IndentationError",
     "evalue": "expected an indented block after function definition on line 2 (288195909.py, line 4)",
     "output_type": "error",
     "traceback": [
      "\u001b[1;36m  Cell \u001b[1;32mIn[31], line 4\u001b[1;36m\u001b[0m\n\u001b[1;33m    resultado = 1\u001b[0m\n\u001b[1;37m    ^\u001b[0m\n\u001b[1;31mIndentationError\u001b[0m\u001b[1;31m:\u001b[0m expected an indented block after function definition on line 2\n"
     ]
    }
   ],
   "source": [
    "##ejercicio hacer una función para calcular el factorial de un número\n",
    "def factorial(valor):\n",
    "\n",
    "resultado = 1\n",
    "for val in range(1, n+1):\n",
    "    resultado*= val\n",
    "return resultado   \n",
    "\n",
    "\n",
    "faltorial(4)"
   ]
  },
  {
   "cell_type": "code",
   "execution_count": null,
   "id": "50c79d1a-eacc-4d7d-a960-21375fff832c",
   "metadata": {},
   "outputs": [],
   "source": []
  }
 ],
 "metadata": {
  "kernelspec": {
   "display_name": "Python 3 (ipykernel)",
   "language": "python",
   "name": "python3"
  },
  "language_info": {
   "codemirror_mode": {
    "name": "ipython",
    "version": 3
   },
   "file_extension": ".py",
   "mimetype": "text/x-python",
   "name": "python",
   "nbconvert_exporter": "python",
   "pygments_lexer": "ipython3",
   "version": "3.10.4"
  }
 },
 "nbformat": 4,
 "nbformat_minor": 5
}
