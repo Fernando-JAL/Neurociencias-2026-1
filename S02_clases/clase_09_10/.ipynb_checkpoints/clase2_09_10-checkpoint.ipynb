{
 "cells": [
  {
   "cell_type": "code",
   "execution_count": 6,
   "id": "cda79864-73bc-45ba-85c0-b5e86c49a16f",
   "metadata": {},
   "outputs": [],
   "source": [
    "import pandas as pd"
   ]
  },
  {
   "cell_type": "code",
   "execution_count": 7,
   "id": "d0c1c6de-f1dc-4c5d-bf88-826954926436",
   "metadata": {},
   "outputs": [
    {
     "data": {
      "text/plain": [
       "0       4\n",
       "1       5\n",
       "2       6\n",
       "3       7\n",
       "4       8\n",
       "5       9\n",
       "6    casa\n",
       "dtype: object"
      ]
     },
     "execution_count": 7,
     "metadata": {},
     "output_type": "execute_result"
    }
   ],
   "source": [
    "pd.Series([4, 5, 6, 7, 8, 9, 'casa'])"
   ]
  },
  {
   "cell_type": "code",
   "execution_count": 9,
   "id": "1e49dc8a-aff4-40b4-a3f7-6cb7da05a68c",
   "metadata": {},
   "outputs": [
    {
     "data": {
      "text/plain": [
       "a    50\n",
       "b    51\n",
       "c    52\n",
       "d    53\n",
       "e    54\n",
       "f    55\n",
       "dtype: int64"
      ]
     },
     "execution_count": 9,
     "metadata": {},
     "output_type": "execute_result"
    }
   ],
   "source": [
    "pd.Series(range(50,56), index =['a','b','c','d','e','f'])"
   ]
  },
  {
   "cell_type": "code",
   "execution_count": 14,
   "id": "f468b7d0-713a-4ebd-aecc-8c24ed7ec299",
   "metadata": {},
   "outputs": [
    {
     "data": {
      "text/plain": [
       "np.int64(6)"
      ]
     },
     "execution_count": 14,
     "metadata": {},
     "output_type": "execute_result"
    }
   ],
   "source": [
    "serie = pd.Series([5,6,7,8,9], index = ['a','b','c','d','e'])\n",
    "serie['b']"
   ]
  },
  {
   "cell_type": "code",
   "execution_count": null,
   "id": "5ef9dc9d-d267-4d58-b578-3a8e99497d80",
   "metadata": {},
   "outputs": [],
   "source": []
  }
 ],
 "metadata": {
  "kernelspec": {
   "display_name": "Python 3 (ipykernel)",
   "language": "python",
   "name": "python3"
  },
  "language_info": {
   "codemirror_mode": {
    "name": "ipython",
    "version": 3
   },
   "file_extension": ".py",
   "mimetype": "text/x-python",
   "name": "python",
   "nbconvert_exporter": "python",
   "pygments_lexer": "ipython3",
   "version": "3.11.1"
  }
 },
 "nbformat": 4,
 "nbformat_minor": 5
}
