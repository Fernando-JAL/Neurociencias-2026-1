{
 "cells": [
  {
   "cell_type": "markdown",
   "id": "a1538cac-f3ab-4d01-9569-592f24f6c30b",
   "metadata": {},
   "source": [
    "# Paquetes"
   ]
  },
  {
   "cell_type": "code",
   "execution_count": 2,
   "id": "587de58e-e5e5-4f96-b34d-fb37f50035d0",
   "metadata": {},
   "outputs": [],
   "source": [
    "import numpy as np"
   ]
  },
  {
   "cell_type": "code",
   "execution_count": 3,
   "id": "f3a7970a-b561-4d65-bffc-ec3d3ad82c75",
   "metadata": {},
   "outputs": [
    {
     "data": {
      "text/plain": [
       "0.9967188752558911"
      ]
     },
     "execution_count": 3,
     "metadata": {},
     "output_type": "execute_result"
    }
   ],
   "source": [
    "np.random.rand()"
   ]
  },
  {
   "cell_type": "code",
   "execution_count": 5,
   "id": "d96cc709-d934-4d02-90cd-613013abf59b",
   "metadata": {},
   "outputs": [
    {
     "data": {
      "text/plain": [
       "array([[13.07014519, 13.40801576, 13.70522582, 11.1071025 ],\n",
       "       [11.66635138, 14.62928545, 11.99640741, 12.44605979],\n",
       "       [12.8353857 , 12.08928199, 12.39598288, 13.53712596]])"
      ]
     },
     "execution_count": 5,
     "metadata": {},
     "output_type": "execute_result"
    }
   ],
   "source": [
    "# podemos especificar el tipo de distribución que queremos \n",
    "\n",
    "a, b = 10, 15 # le podemos dar el rango de valores que queremos\n",
    "np.random.uniform(a, b, size=[3, 4])"
   ]
  },
  {
   "cell_type": "code",
   "execution_count": 7,
   "id": "21493b35-f6b9-4645-aeaa-e59825bb6bd2",
   "metadata": {},
   "outputs": [
    {
     "data": {
      "text/plain": [
       "array([2, 9, 9, 0, 8, 7, 8, 7])"
      ]
     },
     "execution_count": 7,
     "metadata": {},
     "output_type": "execute_result"
    }
   ],
   "source": [
    "# regresa número aleatorios enteros, el primer número indica el rango deseado\n",
    "np.random.randint(10, size=[8])"
   ]
  },
  {
   "cell_type": "markdown",
   "id": "b792dca9-e870-4c14-a87b-d88246db1a73",
   "metadata": {},
   "source": [
    "- En una __distribución normal__ clásica, la media es = 0.\n",
    "- La desviación estándar es entre -1 y 1\n",
    "- El máx y mín va de -infinito a +infinito"
   ]
  },
  {
   "cell_type": "code",
   "execution_count": 8,
   "id": "e216cb99-3fe0-4190-a649-2dbf0dd2c4cc",
   "metadata": {},
   "outputs": [
    {
     "data": {
      "text/plain": [
       "array([[-11.7419035 ,  -6.57522586,  -6.36783066,  -7.46036712,\n",
       "         -7.94509121, -17.93489209],\n",
       "       [ -9.80068174, -12.81091656, -11.37276399,  -7.79977968,\n",
       "         -8.68498168, -12.03028917]])"
      ]
     },
     "execution_count": 8,
     "metadata": {},
     "output_type": "execute_result"
    }
   ],
   "source": [
    "# distribución normal\n",
    "mu, sigma = -8, 4\n",
    "np.random.normal(mu, sigma, size = [2, 6])"
   ]
  },
  {
   "cell_type": "code",
   "execution_count": 10,
   "id": "186d5ae8-42f6-403d-a95f-4420441da566",
   "metadata": {},
   "outputs": [
    {
     "data": {
      "text/plain": [
       "np.float64(-9.715324566202198e-05)"
      ]
     },
     "execution_count": 10,
     "metadata": {},
     "output_type": "execute_result"
    }
   ],
   "source": [
    "valores = np.random.normal(0, 1, size = 100000)\n",
    "np.mean(valores)  # para calcular la media"
   ]
  },
  {
   "cell_type": "code",
   "execution_count": 11,
   "id": "a4fe5f42-2087-4513-81fe-05e3452b3f15",
   "metadata": {},
   "outputs": [
    {
     "data": {
      "text/plain": [
       "np.float64(1.0013224944333161)"
      ]
     },
     "execution_count": 11,
     "metadata": {},
     "output_type": "execute_result"
    }
   ],
   "source": [
    "np.std(valores) # para calcular la desviación estándar"
   ]
  },
  {
   "cell_type": "markdown",
   "id": "3056bb94-3d71-420e-ba39-67f6a3b88810",
   "metadata": {},
   "source": [
    "#### Producto Punto\n",
    "Multiplicación entre dos vectores que da un escalar (suma de la multiplicación entre cada par de datos)"
   ]
  },
  {
   "cell_type": "code",
   "execution_count": 13,
   "id": "b9c0ec30-b5a7-410e-8677-eed9dc7b8802",
   "metadata": {},
   "outputs": [
    {
     "data": {
      "text/plain": [
       "np.int64(-32)"
      ]
     },
     "execution_count": 13,
     "metadata": {},
     "output_type": "execute_result"
    }
   ],
   "source": [
    "vec1, vec2 = np.array([2, 3, 4]), np.array([-1, -10, 0])\n",
    "np.dot(vec1, vec2)"
   ]
  },
  {
   "cell_type": "code",
   "execution_count": 16,
   "id": "5249d7f6-f9de-429c-b516-5068755d7599",
   "metadata": {},
   "outputs": [
    {
     "data": {
      "text/plain": [
       "array([-10,  -1,   0])"
      ]
     },
     "execution_count": 16,
     "metadata": {},
     "output_type": "execute_result"
    }
   ],
   "source": [
    "# para ordenar los valores utilizamos .sort, de forma default es de menor a mayor\n",
    "vec2.sort()\n",
    "vec2"
   ]
  },
  {
   "cell_type": "markdown",
   "id": "890ffb64-0fa0-4a68-83c3-6dd25749b847",
   "metadata": {},
   "source": [
    "Si lo queremos de mayor a menor debemos cambiarlo con slicing"
   ]
  },
  {
   "cell_type": "code",
   "execution_count": 17,
   "id": "8045e309-33bc-4a5f-b942-be98230f4b4d",
   "metadata": {},
   "outputs": [
    {
     "data": {
      "text/plain": [
       "array([  0,  -1, -10])"
      ]
     },
     "execution_count": 17,
     "metadata": {},
     "output_type": "execute_result"
    }
   ],
   "source": [
    "vec2[::-1]"
   ]
  },
  {
   "cell_type": "markdown",
   "id": "0e65f681-42cb-4c0c-83cb-236878982180",
   "metadata": {},
   "source": [
    "## Pandas y matplotlib"
   ]
  },
  {
   "cell_type": "code",
   "execution_count": 20,
   "id": "6f8aa45e-eae1-4cb6-b85b-130b0941595c",
   "metadata": {},
   "outputs": [],
   "source": [
    "import matplotlib"
   ]
  },
  {
   "cell_type": "code",
   "execution_count": 21,
   "id": "1f94346a-0a3d-410e-9117-84925ccfbb9f",
   "metadata": {},
   "outputs": [],
   "source": [
    "import pandas"
   ]
  },
  {
   "cell_type": "markdown",
   "id": "425cc649-678b-4652-a749-0fc68d2c7aff",
   "metadata": {},
   "source": [
    "## matplotlib\n",
    "\n",
    "Una librería para _graficar_\n",
    "\n",
    "matplotlib.pyplot es la clase que vamos a estar usando"
   ]
  },
  {
   "cell_type": "code",
   "execution_count": 22,
   "id": "d87c7ff5-2e1c-4d4d-848c-26f5a7473eb7",
   "metadata": {},
   "outputs": [
    {
     "name": "stderr",
     "output_type": "stream",
     "text": [
      "Matplotlib is building the font cache; this may take a moment.\n"
     ]
    }
   ],
   "source": [
    "import matplotlib.pyplot as plt"
   ]
  },
  {
   "cell_type": "code",
   "execution_count": 25,
   "id": "ccf21fe4-ea47-4232-9aa4-a8c6f45c47b2",
   "metadata": {},
   "outputs": [
    {
     "data": {
      "text/plain": [
       "[<matplotlib.lines.Line2D at 0x11e94e0d0>]"
      ]
     },
     "execution_count": 25,
     "metadata": {},
     "output_type": "execute_result"
    },
    {
     "data": {
      "image/png": "[encoded data removed]",
      "text/plain": [
       "<Figure size 640x480 with 1 Axes>"
      ]
     },
     "metadata": {},
     "output_type": "display_data"
    }
   ],
   "source": [
    "# valores del 0 al 19\n",
    "valores = np.arange(20)\n",
    "plt.plot(valores, marker = \".\")"
   ]
  },
  {
   "cell_type": "markdown",
   "id": "62e1a411-c158-4bc4-9581-d457e212586a",
   "metadata": {},
   "source": [
    "#### Histograma"
   ]
  },
  {
   "cell_type": "code",
   "execution_count": 29,
   "id": "b24e9ce9-eb80-4fbf-8461-4c13d5664259",
   "metadata": {},
   "outputs": [
    {
     "data": {
      "text/plain": [
       "(array([1., 1., 0., 1., 0., 0., 0., 0., 1., 1.]),\n",
       " array([0.28017626, 0.35143715, 0.42269803, 0.49395892, 0.5652198 ,\n",
       "        0.63648069, 0.70774157, 0.77900245, 0.85026334, 0.92152422,\n",
       "        0.99278511]),\n",
       " <BarContainer object of 10 artists>)"
      ]
     },
     "execution_count": 29,
     "metadata": {},
     "output_type": "execute_result"
    },
    {
     "data": {
      "image/png": "[encoded data removed]",
      "text/plain": [
       "<Figure size 640x480 with 1 Axes>"
      ]
     },
     "metadata": {},
     "output_type": "display_data"
    }
   ],
   "source": [
    "valores = np.random.uniform(size = 5)\n",
    "plt.hist(valores)"
   ]
  },
  {
   "cell_type": "markdown",
   "id": "c86496e6-2a38-4f2a-aa70-2d3e31059357",
   "metadata": {},
   "source": [
    "### Ejercicio: \n",
    "Crear un arreglo de números aleatorios con distribución normal\n",
    "- media = 0\n",
    "- desviación estándar = 1\n",
    "- tamaño = 100000\n",
    "- plotear su histograma\n",
    "\n",
    "- bins=100  --> define el número de bins"
   ]
  },
  {
   "cell_type": "code",
   "execution_count": 35,
   "id": "cba14d3c-6166-4347-a333-105247b810c4",
   "metadata": {},
   "outputs": [
    {
     "data": {
      "image/png": "[encoded data removed]",
      "text/plain": [
       "<Figure size 640x480 with 1 Axes>"
      ]
     },
     "metadata": {},
     "output_type": "display_data"
    }
   ],
   "source": [
    "ejercicio = np.random.normal(0, 1, size = 100000)\n",
    "plt.hist(ejercicio, bins=100);"
   ]
  },
  {
   "cell_type": "code",
   "execution_count": null,
   "id": "b62e2611-67f4-4290-9aad-816a79823938",
   "metadata": {},
   "outputs": [],
   "source": []
  },
  {
   "cell_type": "code",
   "execution_count": null,
   "id": "c600d590-9bf2-4ecf-ab75-85b4f04642af",
   "metadata": {},
   "outputs": [],
   "source": []
  },
  {
   "cell_type": "code",
   "execution_count": null,
   "id": "9eff18af-1734-4d2e-95e3-314b1583a828",
   "metadata": {},
   "outputs": [],
   "source": []
  },
  {
   "cell_type": "code",
   "execution_count": null,
   "id": "585e471e-7e6e-430e-9dd1-129866199b6c",
   "metadata": {},
   "outputs": [],
   "source": []
  }
 ],
 "metadata": {
  "kernelspec": {
   "display_name": "Python 3 (ipykernel)",
   "language": "python",
   "name": "python3"
  },
  "language_info": {
   "codemirror_mode": {
    "name": "ipython",
    "version": 3
   },
   "file_extension": ".py",
   "mimetype": "text/x-python",
   "name": "python",
   "nbconvert_exporter": "python",
   "pygments_lexer": "ipython3",
   "version": "3.13.6"
  }
 },
 "nbformat": 4,
 "nbformat_minor": 5
}
