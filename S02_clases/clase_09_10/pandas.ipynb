{
 "cells": [
  {
   "cell_type": "markdown",
   "id": "21fa583a-ea76-478b-a3d2-6c4c4c646ce0",
   "metadata": {},
   "source": [
    "# pandas"
   ]
  },
  {
   "cell_type": "code",
   "execution_count": 2,
   "id": "c112a92f-c4d1-4463-9d09-edfca0dda42f",
   "metadata": {},
   "outputs": [],
   "source": [
    "import pandas as pd"
   ]
  },
  {
   "cell_type": "markdown",
   "id": "b9d83d3e-fae1-46c9-9057-05357e1809fe",
   "metadata": {},
   "source": [
    "## Nuevos tipos de datos \n",
    "-  series\n",
    "- dataframes"
   ]
  },
  {
   "cell_type": "code",
   "execution_count": 4,
   "id": "91f4dfd7-aca1-418c-9fd0-6a06f023a2ba",
   "metadata": {},
   "outputs": [
    {
     "data": {
      "text/plain": [
       "0       4\n",
       "1       5\n",
       "2       6\n",
       "3       7\n",
       "4       8\n",
       "5       9\n",
       "6    casa\n",
       "dtype: object"
      ]
     },
     "execution_count": 4,
     "metadata": {},
     "output_type": "execute_result"
    }
   ],
   "source": [
    "pd.Series([4,5,6,7,8,9, \"casa\"])"
   ]
  },
  {
   "cell_type": "markdown",
   "id": "827024f3-d614-4046-a415-12e485f87ea5",
   "metadata": {},
   "source": [
    "Una forma de indexar los datos de la serie --> índice\n",
    "\n",
    "- mezcla de tipos de datos los clasifica como _objeto_\n",
    "- si identifica un tipo de dato los clasifica del tipo de dato que identifique"
   ]
  },
  {
   "cell_type": "code",
   "execution_count": 6,
   "id": "e073aa02-d20b-4eb3-8af1-436c5c382203",
   "metadata": {},
   "outputs": [
    {
     "data": {
      "text/plain": [
       "a    50\n",
       "b    51\n",
       "c    52\n",
       "d    53\n",
       "e    54\n",
       "f    55\n",
       "dtype: int64"
      ]
     },
     "execution_count": 6,
     "metadata": {},
     "output_type": "execute_result"
    }
   ],
   "source": [
    "# podemos escoger la forma en la queremos el índice\n",
    "pd.Series(range(50,56), index = [\"a\", \"b\", \"c\", \"d\", \"e\", \"f\"])"
   ]
  },
  {
   "cell_type": "code",
   "execution_count": 10,
   "id": "327ad26d-ba19-4c7b-bab0-aa4d9cd9c4c7",
   "metadata": {},
   "outputs": [
    {
     "data": {
      "text/plain": [
       "a    5\n",
       "b    6\n",
       "c    7\n",
       "d    8\n",
       "e    9\n",
       "dtype: int64"
      ]
     },
     "execution_count": 10,
     "metadata": {},
     "output_type": "execute_result"
    }
   ],
   "source": [
    "serie = pd.Series([5,6,7,8,9], index=[\"a\", \"b\", \"c\", \"d\", \"e\"])\n",
    "serie"
   ]
  },
  {
   "cell_type": "code",
   "execution_count": 9,
   "id": "21e499c5-ab97-4b51-917f-6644dcaf5835",
   "metadata": {},
   "outputs": [
    {
     "data": {
      "text/plain": [
       "np.int64(8)"
      ]
     },
     "execution_count": 9,
     "metadata": {},
     "output_type": "execute_result"
    }
   ],
   "source": [
    "# en este caso no podríamos usar -1, debemos ser específicos en el índice que queremos\n",
    "serie[3]"
   ]
  },
  {
   "cell_type": "code",
   "execution_count": 12,
   "id": "b890fd90-d206-4193-a53f-f3c3ee247e6a",
   "metadata": {},
   "outputs": [
    {
     "data": {
      "text/plain": [
       "np.int64(6)"
      ]
     },
     "execution_count": 12,
     "metadata": {},
     "output_type": "execute_result"
    }
   ],
   "source": [
    "serie[\"b\"]"
   ]
  },
  {
   "cell_type": "code",
   "execution_count": null,
   "id": "453e8939-2bd0-4c52-8871-012d1085e8f9",
   "metadata": {},
   "outputs": [],
   "source": []
  },
  {
   "cell_type": "code",
   "execution_count": null,
   "id": "60eafd5a-c26e-4785-a838-2e5612b36572",
   "metadata": {},
   "outputs": [],
   "source": []
  },
  {
   "cell_type": "code",
   "execution_count": null,
   "id": "c14f7a42-c3cd-4019-bb29-a9294867d5a8",
   "metadata": {},
   "outputs": [],
   "source": []
  }
 ],
 "metadata": {
  "kernelspec": {
   "display_name": "Python 3 (ipykernel)",
   "language": "python",
   "name": "python3"
  },
  "language_info": {
   "codemirror_mode": {
    "name": "ipython",
    "version": 3
   },
   "file_extension": ".py",
   "mimetype": "text/x-python",
   "name": "python",
   "nbconvert_exporter": "python",
   "pygments_lexer": "ipython3",
   "version": "3.13.6"
  }
 },
 "nbformat": 4,
 "nbformat_minor": 5
}
