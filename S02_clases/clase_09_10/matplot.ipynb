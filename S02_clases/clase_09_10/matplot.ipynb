{
 "cells": [
  {
   "cell_type": "code",
   "execution_count": 2,
   "id": "275f666f-5096-4c66-8802-30072747c4e6",
   "metadata": {},
   "outputs": [],
   "source": [
    "import numpy as np"
   ]
  },
  {
   "cell_type": "code",
   "execution_count": 4,
   "id": "0e25169a-6d4a-402f-901e-0c3e42fc87e0",
   "metadata": {},
   "outputs": [
    {
     "data": {
      "text/plain": [
       "array([[0.74073788, 0.90769684],\n",
       "       [0.34804858, 0.50722775],\n",
       "       [0.82413618, 0.01872455],\n",
       "       [0.53970487, 0.04638322],\n",
       "       [0.79482153, 0.19467751],\n",
       "       [0.14174148, 0.08745956]])"
      ]
     },
     "execution_count": 4,
     "metadata": {},
     "output_type": "execute_result"
    }
   ],
   "source": [
    "np.random.rand(6,2)"
   ]
  },
  {
   "cell_type": "code",
   "execution_count": 8,
   "id": "21117b00-e167-4ec1-9030-da30a7729e19",
   "metadata": {},
   "outputs": [
    {
     "data": {
      "text/plain": [
       "array([[11.26504107, 11.01392649, 14.37577851, 11.34131554],\n",
       "       [14.29442949, 11.71633991, 11.53841832, 11.69004074],\n",
       "       [12.62856959, 12.70881597, 10.32555457, 11.33392685]])"
      ]
     },
     "execution_count": 8,
     "metadata": {},
     "output_type": "execute_result"
    }
   ],
   "source": [
    "# distribucion unifrome, todas las probabilidades es la misma\n",
    "\n",
    "a,b =10,15 # num ra\n",
    "np.random.uniform(a,b,size=[3,4]) # num random de 10-15 "
   ]
  },
  {
   "cell_type": "code",
   "execution_count": 12,
   "id": "a2d8f6e6-efdc-4074-9c30-e38a9f2192f0",
   "metadata": {},
   "outputs": [
    {
     "data": {
      "text/plain": [
       "array([4, 2, 7, 2, 2, 5, 3, 2, 8, 3, 0, 5, 9, 6, 5, 6, 8, 0, 9, 1, 9, 7],\n",
       "      dtype=int32)"
      ]
     },
     "execution_count": 12,
     "metadata": {},
     "output_type": "execute_result"
    }
   ],
   "source": [
    "np.random.randint(10,size=[22]) # num random del 0 al 10 con um enteros."
   ]
  },
  {
   "cell_type": "code",
   "execution_count": 14,
   "id": "f06586b4-b088-4f79-8677-cb7f124d1dac",
   "metadata": {},
   "outputs": [
    {
     "data": {
      "text/plain": [
       "array([[ -2.04706527,  -7.15168033,  -1.5455342 ,   1.65136892,\n",
       "         -3.6630943 ,  -9.73520582],\n",
       "       [-10.27648816,  -9.0333739 ,  -7.05735846,  -7.39652859,\n",
       "         -3.84724122, -16.73348862]])"
      ]
     },
     "execution_count": 14,
     "metadata": {},
     "output_type": "execute_result"
    }
   ],
   "source": [
    "# DISTRIBUCIÓN NORMAL\n",
    "mu,sigma= -8,4\n",
    "np.random.normal(mu,sigma,size=[2,6]) # mu= media, sigma= desviación estandar"
   ]
  },
  {
   "cell_type": "code",
   "execution_count": 4,
   "id": "cbbd21ef-7735-461c-8b43-b7e847ccf158",
   "metadata": {},
   "outputs": [
    {
     "data": {
      "text/plain": [
       "(np.float64(-0.0009759598120140569), np.float64(1.001763299835057))"
      ]
     },
     "execution_count": 4,
     "metadata": {},
     "output_type": "execute_result"
    }
   ],
   "source": [
    "valores= np.random.normal(0,1,size=100000)\n",
    "np.mean(valores), np.std(valores)"
   ]
  },
  {
   "cell_type": "code",
   "execution_count": 12,
   "id": "5b37c4c9-2526-41ee-a7bd-2cb5e84ea6ae",
   "metadata": {},
   "outputs": [
    {
     "data": {
      "text/plain": [
       "np.int64(-32)"
      ]
     },
     "execution_count": 12,
     "metadata": {},
     "output_type": "execute_result"
    }
   ],
   "source": [
    "vec1, vec2= np.array([2,3,4]),np.array([-1,-10,0]) # multiplicación de dos vectores que dan un resultado escalar\n",
    "np.vdot(vec1,vec2)"
   ]
  },
  {
   "cell_type": "code",
   "execution_count": 16,
   "id": "0df3c855-c9e3-4b43-93e1-69e745c150c9",
   "metadata": {},
   "outputs": [
    {
     "data": {
      "text/plain": [
       "array([  0,  -1, -10])"
      ]
     },
     "execution_count": 16,
     "metadata": {},
     "output_type": "execute_result"
    }
   ],
   "source": [
    "vec2.sort()  # ordenar de mayor a menor\n",
    "vec2[::-1] # ordenar de menor a mayor, lo voltea"
   ]
  },
  {
   "cell_type": "code",
   "execution_count": 17,
   "id": "05c3e740-8fc6-4161-ae56-302b7c6c281e",
   "metadata": {},
   "outputs": [
    {
     "name": "stdout",
     "output_type": "stream",
     "text": [
      "Collecting matlib\n",
      "  Downloading matlib-0.1.2-py3-none-any.whl (7.2 kB)\n",
      "Collecting pydantic<3.0.0,>=2.3.0\n",
      "  Downloading pydantic-2.11.7-py3-none-any.whl (444 kB)\n",
      "     -------------------------------------- 444.8/444.8 kB 2.8 MB/s eta 0:00:00\n",
      "Collecting annotated-types>=0.6.0\n",
      "  Downloading annotated_types-0.7.0-py3-none-any.whl (13 kB)\n",
      "Collecting pydantic-core==2.33.2\n",
      "  Downloading pydantic_core-2.33.2-cp311-cp311-win_amd64.whl (2.0 MB)\n",
      "     ---------------------------------------- 2.0/2.0 MB 13.8 MB/s eta 0:00:00\n",
      "Requirement already satisfied: typing-extensions>=4.12.2 in c:\\users\\v304-16\\appdata\\local\\programs\\python\\python311\\lib\\site-packages (from pydantic<3.0.0,>=2.3.0->matlib) (4.14.1)\n",
      "Collecting typing-inspection>=0.4.0\n",
      "  Downloading typing_inspection-0.4.1-py3-none-any.whl (14 kB)\n",
      "Installing collected packages: typing-inspection, pydantic-core, annotated-types, pydantic, matlib\n",
      "Successfully installed annotated-types-0.7.0 matlib-0.1.2 pydantic-2.11.7 pydantic-core-2.33.2 typing-inspection-0.4.1\n"
     ]
    },
    {
     "name": "stderr",
     "output_type": "stream",
     "text": [
      "\n",
      "[notice] A new release of pip available: 22.3.1 -> 25.2\n",
      "[notice] To update, run: python.exe -m pip install --upgrade pip\n"
     ]
    }
   ],
   "source": [
    "!pip install matlib"
   ]
  },
  {
   "cell_type": "code",
   "execution_count": 18,
   "id": "345011f1-1833-412f-bb7e-ea357f7ae967",
   "metadata": {},
   "outputs": [
    {
     "name": "stdout",
     "output_type": "stream",
     "text": [
      "Collecting pandas\n",
      "  Using cached pandas-2.3.2-cp311-cp311-win_amd64.whl (11.3 MB)\n",
      "Requirement already satisfied: numpy>=1.23.2 in c:\\users\\v304-16\\appdata\\local\\programs\\python\\python311\\lib\\site-packages (from pandas) (2.3.3)\n",
      "Requirement already satisfied: python-dateutil>=2.8.2 in c:\\users\\v304-16\\appdata\\local\\programs\\python\\python311\\lib\\site-packages (from pandas) (2.9.0.post0)\n",
      "Requirement already satisfied: pytz>=2020.1 in c:\\users\\v304-16\\appdata\\local\\programs\\python\\python311\\lib\\site-packages (from pandas) (2025.2)\n",
      "Requirement already satisfied: tzdata>=2022.7 in c:\\users\\v304-16\\appdata\\local\\programs\\python\\python311\\lib\\site-packages (from pandas) (2025.2)\n",
      "Requirement already satisfied: six>=1.5 in c:\\users\\v304-16\\appdata\\local\\programs\\python\\python311\\lib\\site-packages (from python-dateutil>=2.8.2->pandas) (1.17.0)\n",
      "Installing collected packages: pandas\n",
      "Successfully installed pandas-2.3.2\n"
     ]
    },
    {
     "name": "stderr",
     "output_type": "stream",
     "text": [
      "\n",
      "[notice] A new release of pip available: 22.3.1 -> 25.2\n",
      "[notice] To update, run: python.exe -m pip install --upgrade pip\n"
     ]
    }
   ],
   "source": [
    "!pip install pandas"
   ]
  },
  {
   "cell_type": "code",
   "execution_count": 1,
   "id": "2cc727ee-6309-4437-90d4-31f0945878d5",
   "metadata": {},
   "outputs": [
    {
     "name": "stdout",
     "output_type": "stream",
     "text": [
      "Collecting matplotlib\n",
      "  Downloading matplotlib-3.10.6-cp310-cp310-win_amd64.whl (8.1 MB)\n",
      "     ---------------------------------------- 8.1/8.1 MB 652.7 kB/s eta 0:00:00\n",
      "Collecting fonttools>=4.22.0\n",
      "  Downloading fonttools-4.59.2-cp310-cp310-win_amd64.whl (2.3 MB)\n",
      "     ---------------------------------------- 2.3/2.3 MB 1.1 MB/s eta 0:00:00\n",
      "Collecting kiwisolver>=1.3.1\n",
      "  Downloading kiwisolver-1.4.9-cp310-cp310-win_amd64.whl (73 kB)\n",
      "     ---------------------------------------- 73.7/73.7 KB 2.0 MB/s eta 0:00:00\n",
      "Requirement already satisfied: packaging>=20.0 in c:\\users\\mafig\\appdata\\local\\programs\\python\\python310\\lib\\site-packages (from matplotlib) (25.0)\n",
      "Requirement already satisfied: python-dateutil>=2.7 in c:\\users\\mafig\\appdata\\local\\programs\\python\\python310\\lib\\site-packages (from matplotlib) (2.9.0.post0)\n",
      "Collecting cycler>=0.10\n",
      "  Downloading cycler-0.12.1-py3-none-any.whl (8.3 kB)\n",
      "Requirement already satisfied: numpy>=1.23 in c:\\users\\mafig\\appdata\\local\\programs\\python\\python310\\lib\\site-packages (from matplotlib) (2.2.6)\n",
      "Collecting pillow>=8\n",
      "  Downloading pillow-11.3.0-cp310-cp310-win_amd64.whl (7.0 MB)\n",
      "     ---------------------------------------- 7.0/7.0 MB 1.0 MB/s eta 0:00:00\n",
      "Collecting contourpy>=1.0.1\n",
      "  Downloading contourpy-1.3.2-cp310-cp310-win_amd64.whl (221 kB)\n",
      "     -------------------------------------- 221.2/221.2 KB 1.2 MB/s eta 0:00:00\n",
      "Collecting pyparsing>=2.3.1\n",
      "  Downloading pyparsing-3.2.4-py3-none-any.whl (113 kB)\n",
      "     -------------------------------------- 113.9/113.9 KB 1.6 MB/s eta 0:00:00\n",
      "Requirement already satisfied: six>=1.5 in c:\\users\\mafig\\appdata\\local\\programs\\python\\python310\\lib\\site-packages (from python-dateutil>=2.7->matplotlib) (1.17.0)\n",
      "Installing collected packages: pyparsing, pillow, kiwisolver, fonttools, cycler, contourpy, matplotlib\n",
      "Successfully installed contourpy-1.3.2 cycler-0.12.1 fonttools-4.59.2 kiwisolver-1.4.9 matplotlib-3.10.6 pillow-11.3.0 pyparsing-3.2.4\n"
     ]
    },
    {
     "name": "stderr",
     "output_type": "stream",
     "text": [
      "WARNING: You are using pip version 22.0.4; however, version 25.2 is available.\n",
      "You should consider upgrading via the 'C:\\Users\\mafig\\AppData\\Local\\Programs\\Python\\Python310\\python.exe -m pip install --upgrade pip' command.\n"
     ]
    }
   ],
   "source": [
    "!pip install matplotlib"
   ]
  },
  {
   "cell_type": "code",
   "execution_count": 21,
   "id": "79e2c11b-910d-4c6c-b8d2-3c557e7574fd",
   "metadata": {},
   "outputs": [],
   "source": [
    "import matplotlib.pyplot as plt # es una libreria para gráficos\n",
    "import pandas"
   ]
  },
  {
   "cell_type": "code",
   "execution_count": 26,
   "id": "93be00eb-b1ba-4da7-a581-0da6e7fae3b5",
   "metadata": {},
   "outputs": [
    {
     "data": {
      "text/plain": [
       "[<matplotlib.lines.Line2D at 0x210f6821190>]"
      ]
     },
     "execution_count": 26,
     "metadata": {},
     "output_type": "execute_result"
    },
    {
     "data": {
      "image/png": "[encoded data removed]",
      "text/plain": [
       "<Figure size 640x480 with 1 Axes>"
      ]
     },
     "metadata": {},
     "output_type": "display_data"
    }
   ],
   "source": [
    "valores=np.arange(20) # arreglo de numeros del 0 al 19\n",
    "plt.plot(valores,'.') # graficar grafica con puntitos"
   ]
  },
  {
   "cell_type": "code",
   "execution_count": 31,
   "id": "d6a792bb-8fb8-499b-b81d-6aefdccb3907",
   "metadata": {},
   "outputs": [
    {
     "data": {
      "text/plain": [
       "(array([1000460., 1000600., 1001190.,  998643.,  998996., 1001050.,\n",
       "        1000505.,  999636., 1000743.,  998177.]),\n",
       " array([8.12414660e-08, 1.00000070e-01, 2.00000059e-01, 3.00000047e-01,\n",
       "        4.00000036e-01, 5.00000025e-01, 6.00000013e-01, 7.00000002e-01,\n",
       "        7.99999991e-01, 8.99999979e-01, 9.99999968e-01]),\n",
       " <BarContainer object of 10 artists>)"
      ]
     },
     "execution_count": 31,
     "metadata": {},
     "output_type": "execute_result"
    },
    {
     "data": {
      "image/png": "[encoded data removed]",
      "text/plain": [
       "<Figure size 640x480 with 1 Axes>"
      ]
     },
     "metadata": {},
     "output_type": "display_data"
    }
   ],
   "source": [
    "valores=np.random.uniform(size=10000000)\n",
    "plt.hist(valores)"
   ]
  },
  {
   "cell_type": "code",
   "execution_count": 37,
   "id": "2a4019e8-d56e-46e3-b235-909b9003fb55",
   "metadata": {},
   "outputs": [
    {
     "data": {
      "image/png": "[encoded data removed]",
      "text/plain": [
       "<Figure size 640x480 with 1 Axes>"
      ]
     },
     "metadata": {},
     "output_type": "display_data"
    }
   ],
   "source": [
    "# ejercicio \n",
    "# crear un arreglo de numeros aleatorios con distribución normal con media=0 y sd=1 de tamaño=100000\n",
    "# plotear su histograma\n",
    "mu=0\n",
    "sd=1\n",
    "arreglo=np.random.normal(mu,sd,size=100000)\n",
    "plt.hist(arreglo,bins=100); # ; para quitar los numeritos de los arrays\n"
   ]
  },
  {
   "cell_type": "code",
   "execution_count": null,
   "id": "f4288f8c-1751-4329-a0f8-4947f408d0cd",
   "metadata": {},
   "outputs": [],
   "source": []
  }
 ],
 "metadata": {
  "kernelspec": {
   "display_name": "Python 3 (ipykernel)",
   "language": "python",
   "name": "python3"
  },
  "language_info": {
   "codemirror_mode": {
    "name": "ipython",
    "version": 3
   },
   "file_extension": ".py",
   "mimetype": "text/x-python",
   "name": "python",
   "nbconvert_exporter": "python",
   "pygments_lexer": "ipython3",
   "version": "3.10.4"
  }
 },
 "nbformat": 4,
 "nbformat_minor": 5
}
