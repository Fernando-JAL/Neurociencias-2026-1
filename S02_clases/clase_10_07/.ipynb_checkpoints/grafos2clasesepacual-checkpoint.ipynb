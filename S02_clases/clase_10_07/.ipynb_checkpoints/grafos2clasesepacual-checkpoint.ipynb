{
 "cells": [
  {
   "cell_type": "code",
   "execution_count": 1,
   "id": "22f0a50c-781d-4c16-bda0-c2db9de96d16",
   "metadata": {},
   "outputs": [],
   "source": [
    "import numpy as np\n",
    "import pandas as pd\n",
    "import matplotlib.pyplot as plt\n",
    "import networkx as nx"
   ]
  },
  {
   "cell_type": "code",
   "execution_count": 18,
   "id": "7ec49912-6a3a-4516-8665-8eacaaa85558",
   "metadata": {},
   "outputs": [],
   "source": [
    "excel_conectividad =r\"C:/Users/Ana-Sophia Redstone/OneDrive/Documents/GitHub/Neurociencias-2026-1/S03_datasets/EEG_3D_coordinates.xlsx\"\n",
    "excel_coordenadas = r\"C:/Users/Ana-Sophia Redstone/OneDrive/Documents/GitHub/Neurociencias-2026-1/S03_datasets/EEG_3D_coordinates.xlsx\""
   ]
  },
  {
   "cell_type": "code",
   "execution_count": 19,
   "id": "e71f3358-244e-48ed-844b-87028f8131a4",
   "metadata": {},
   "outputs": [],
   "source": [
    "conectividad_dict = pd.read_excel(excel_conectividad, sheet_name = None)\n",
    "coordenadas_dict = pd.read_excel(excel_coordenadas, sheet_name = None)"
   ]
  },
  {
   "cell_type": "code",
   "execution_count": 20,
   "id": "eb35c3fd-8cf4-44ec-ac7e-543683f02e6c",
   "metadata": {},
   "outputs": [],
   "source": [
    "motor_df = conectividad_dict[list(conectividad_dict.keys())[0]]\n",
    "coordenadas_df = coordenadas_dict[list(coordenadas_dict.keys())[0]]"
   ]
  },
  {
   "cell_type": "code",
   "execution_count": 21,
   "id": "bab9cf3f-b921-42ce-84cf-4925a2743984",
   "metadata": {},
   "outputs": [
    {
     "data": {
      "text/plain": [
       "Index(['Canal', 'x', 'y', 'z'], dtype='object')"
      ]
     },
     "execution_count": 21,
     "metadata": {},
     "output_type": "execute_result"
    }
   ],
   "source": [
    "motor_df.columns"
   ]
  },
  {
   "cell_type": "code",
   "execution_count": 32,
   "id": "c71a0725-bcf0-4833-89d2-7f9d3d8c5d5e",
   "metadata": {},
   "outputs": [],
   "source": [
    "#motor_df.set_index(\"Unnamed: 0\", inplace=True, drop=True)\n",
    "#coordenadas_df.set_index(\"Canal\", inplace=True, drop=True)"
   ]
  },
  {
   "cell_type": "code",
   "execution_count": 23,
   "id": "cb502753-84bd-4059-9589-f3f17f273f99",
   "metadata": {},
   "outputs": [
    {
     "data": {
      "text/html": [
       "<div>\n",
       "<style scoped>\n",
       "    .dataframe tbody tr th:only-of-type {\n",
       "        vertical-align: middle;\n",
       "    }\n",
       "\n",
       "    .dataframe tbody tr th {\n",
       "        vertical-align: top;\n",
       "    }\n",
       "\n",
       "    .dataframe thead th {\n",
       "        text-align: right;\n",
       "    }\n",
       "</style>\n",
       "<table border=\"1\" class=\"dataframe\">\n",
       "  <thead>\n",
       "    <tr style=\"text-align: right;\">\n",
       "      <th></th>\n",
       "      <th>Canal</th>\n",
       "      <th>x</th>\n",
       "      <th>y</th>\n",
       "      <th>z</th>\n",
       "    </tr>\n",
       "  </thead>\n",
       "  <tbody>\n",
       "    <tr>\n",
       "      <th>0</th>\n",
       "      <td>F3</td>\n",
       "      <td>-0.45</td>\n",
       "      <td>0.6</td>\n",
       "      <td>0.65</td>\n",
       "    </tr>\n",
       "    <tr>\n",
       "      <th>1</th>\n",
       "      <td>F4</td>\n",
       "      <td>0.45</td>\n",
       "      <td>0.6</td>\n",
       "      <td>0.65</td>\n",
       "    </tr>\n",
       "    <tr>\n",
       "      <th>2</th>\n",
       "      <td>C3</td>\n",
       "      <td>-0.55</td>\n",
       "      <td>0.0</td>\n",
       "      <td>0.83</td>\n",
       "    </tr>\n",
       "    <tr>\n",
       "      <th>3</th>\n",
       "      <td>C4</td>\n",
       "      <td>0.55</td>\n",
       "      <td>0.0</td>\n",
       "      <td>0.83</td>\n",
       "    </tr>\n",
       "    <tr>\n",
       "      <th>4</th>\n",
       "      <td>P3</td>\n",
       "      <td>-0.45</td>\n",
       "      <td>-0.6</td>\n",
       "      <td>0.65</td>\n",
       "    </tr>\n",
       "    <tr>\n",
       "      <th>5</th>\n",
       "      <td>P4</td>\n",
       "      <td>0.45</td>\n",
       "      <td>-0.6</td>\n",
       "      <td>0.65</td>\n",
       "    </tr>\n",
       "    <tr>\n",
       "      <th>6</th>\n",
       "      <td>O1</td>\n",
       "      <td>-0.30</td>\n",
       "      <td>-0.9</td>\n",
       "      <td>0.35</td>\n",
       "    </tr>\n",
       "    <tr>\n",
       "      <th>7</th>\n",
       "      <td>O2</td>\n",
       "      <td>0.30</td>\n",
       "      <td>-0.9</td>\n",
       "      <td>0.35</td>\n",
       "    </tr>\n",
       "  </tbody>\n",
       "</table>\n",
       "</div>"
      ],
      "text/plain": [
       "  Canal     x    y     z\n",
       "0    F3 -0.45  0.6  0.65\n",
       "1    F4  0.45  0.6  0.65\n",
       "2    C3 -0.55  0.0  0.83\n",
       "3    C4  0.55  0.0  0.83\n",
       "4    P3 -0.45 -0.6  0.65\n",
       "5    P4  0.45 -0.6  0.65\n",
       "6    O1 -0.30 -0.9  0.35\n",
       "7    O2  0.30 -0.9  0.35"
      ]
     },
     "execution_count": 23,
     "metadata": {},
     "output_type": "execute_result"
    }
   ],
   "source": [
    "motor_df"
   ]
  },
  {
   "cell_type": "code",
   "execution_count": 33,
   "id": "8e32185c-ec75-4d77-afb0-ddb2ee77f61e",
   "metadata": {},
   "outputs": [],
   "source": [
    "#plt.figure(figsize= (5,5))\n",
    "#G = nx.from_pandas_adjacency(motor_df)\n",
    "#nx.draw_networkx(G, with_labels = True)"
   ]
  },
  {
   "cell_type": "code",
   "execution_count": 34,
   "id": "5cbe93e6-d5ae-4378-92e2-14668d9a3eb1",
   "metadata": {},
   "outputs": [],
   "source": [
    "#motor_df = pd.read_excel(\"C:/Users/Ana-Sophia Redstone/OneDrive/Documents/GitHub/Neurociencias-2026-1/S03_datasets/EEG_3D_coordinates.xlsx\", sheet_name=0)\n",
    "\n",
    "# Extraer nombres de los electrodos desde la primera columna\n",
    "#motor_df.rename(columns={motor_df.columns[0]: \"Electrodo\"}, inplace=True)\n",
    "#motor_df.set_index(\"Electrodo\", inplace=True)\n",
    "\n",
    "# Asegúrate de que las columnas coincidan con el índice\n",
    "#motor_df.columns = motor_df.index"
   ]
  },
  {
   "cell_type": "code",
   "execution_count": 35,
   "id": "2cb05205-a192-4484-96b1-660207c180a6",
   "metadata": {},
   "outputs": [],
   "source": [
    "#G = nx.from_pandas_adjacency(motor_df)\n",
    "#nx.draw_networkx(G, with_labels=True)\n",
    "#plt.show()"
   ]
  },
  {
   "cell_type": "code",
   "execution_count": 36,
   "id": "a11c8623-7e25-42c7-b8e5-714217350f03",
   "metadata": {},
   "outputs": [],
   "source": [
    "#G = nx.from_pandas_adjacency(motor_df)\n",
    "#edges_to_keep = [(u, v) for u, v, d in G.edges(data=True) if d['weight'] > 0.5]\n",
    "#H = G.edge_subgraph(edges_to_keep).copy()\n",
    "#nx.draw_networkx(H, with_labels=True)\n",
    "#plt.show()"
   ]
  },
  {
   "cell_type": "code",
   "execution_count": 41,
   "id": "6ef39b19-2448-4aba-8d17-9f4428ace5ba",
   "metadata": {},
   "outputs": [],
   "source": [
    "# LUEGO CORRO EL CÓDIGO COMO LO TIENE EL PROFE PORQUE NOMÁS NO ESTA JALANDO "
   ]
  },
  {
   "cell_type": "code",
   "execution_count": 42,
   "id": "a2ece51e-1117-4e42-b030-454562e978e2",
   "metadata": {},
   "outputs": [],
   "source": [
    "#que operación debe hacer numpy psta plotear un mapa de calor y salga ceros "
   ]
  },
  {
   "cell_type": "code",
   "execution_count": null,
   "id": "4ee88fd9-38d3-41d9-a542-a3e191cb487d",
   "metadata": {},
   "outputs": [],
   "source": []
  }
 ],
 "metadata": {
  "kernelspec": {
   "display_name": "Python 3 (ipykernel)",
   "language": "python",
   "name": "python3"
  },
  "language_info": {
   "codemirror_mode": {
    "name": "ipython",
    "version": 3
   },
   "file_extension": ".py",
   "mimetype": "text/x-python",
   "name": "python",
   "nbconvert_exporter": "python",
   "pygments_lexer": "ipython3",
   "version": "3.10.4"
  }
 },
 "nbformat": 4,
 "nbformat_minor": 5
}
