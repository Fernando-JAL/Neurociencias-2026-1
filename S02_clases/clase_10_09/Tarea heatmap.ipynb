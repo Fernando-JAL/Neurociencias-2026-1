{
 "cells": [
  {
   "cell_type": "code",
   "execution_count": 1,
   "id": "df0edbc4-70ea-4d70-97a5-baee2896092f",
   "metadata": {},
   "outputs": [],
   "source": [
    "import numpy as np\n",
    "import matplotlib.pyplot as plt\n",
    "import pandas as pd\n",
    "import networkx as nx\n",
    "import seaborn as sns"
   ]
  },
  {
   "cell_type": "code",
   "execution_count": 2,
   "id": "15855a73-98db-42a4-930c-6038b5a68bed",
   "metadata": {},
   "outputs": [
    {
     "name": "stderr",
     "output_type": "stream",
     "text": [
      "C:\\Users\\Juan\\AppData\\Local\\Temp\\ipykernel_25988\\1112106150.py:15: FutureWarning: Downcasting object dtype arrays on .fillna, .ffill, .bfill is deprecated and will change in a future version. Call result.infer_objects(copy=False) instead. To opt-in to the future behavior, set `pd.set_option('future.no_silent_downcasting', True)`\n",
      "  matrix.fillna(0, inplace = True)\n"
     ]
    },
    {
     "data": {
      "text/html": [
       "<div>\n",
       "<style scoped>\n",
       "    .dataframe tbody tr th:only-of-type {\n",
       "        vertical-align: middle;\n",
       "    }\n",
       "\n",
       "    .dataframe tbody tr th {\n",
       "        vertical-align: top;\n",
       "    }\n",
       "\n",
       "    .dataframe thead th {\n",
       "        text-align: right;\n",
       "    }\n",
       "</style>\n",
       "<table border=\"1\" class=\"dataframe\">\n",
       "  <thead>\n",
       "    <tr style=\"text-align: right;\">\n",
       "      <th></th>\n",
       "      <th>A</th>\n",
       "      <th>B</th>\n",
       "      <th>C</th>\n",
       "      <th>D</th>\n",
       "      <th>E</th>\n",
       "    </tr>\n",
       "  </thead>\n",
       "  <tbody>\n",
       "    <tr>\n",
       "      <th>A</th>\n",
       "      <td>0.0</td>\n",
       "      <td>2.1</td>\n",
       "      <td>0.00</td>\n",
       "      <td>7.5</td>\n",
       "      <td>0.0</td>\n",
       "    </tr>\n",
       "    <tr>\n",
       "      <th>B</th>\n",
       "      <td>8.6</td>\n",
       "      <td>0.0</td>\n",
       "      <td>10.20</td>\n",
       "      <td>0.0</td>\n",
       "      <td>0.0</td>\n",
       "    </tr>\n",
       "    <tr>\n",
       "      <th>C</th>\n",
       "      <td>0.0</td>\n",
       "      <td>7.3</td>\n",
       "      <td>0.00</td>\n",
       "      <td>0.0</td>\n",
       "      <td>1.1</td>\n",
       "    </tr>\n",
       "    <tr>\n",
       "      <th>D</th>\n",
       "      <td>6.6</td>\n",
       "      <td>0.0</td>\n",
       "      <td>0.00</td>\n",
       "      <td>0.0</td>\n",
       "      <td>4.2</td>\n",
       "    </tr>\n",
       "    <tr>\n",
       "      <th>E</th>\n",
       "      <td>0.0</td>\n",
       "      <td>0.0</td>\n",
       "      <td>3.56</td>\n",
       "      <td>0.8</td>\n",
       "      <td>0.0</td>\n",
       "    </tr>\n",
       "  </tbody>\n",
       "</table>\n",
       "</div>"
      ],
      "text/plain": [
       "     A    B      C    D    E\n",
       "A  0.0  2.1   0.00  7.5  0.0\n",
       "B  8.6  0.0  10.20  0.0  0.0\n",
       "C  0.0  7.3   0.00  0.0  1.1\n",
       "D  6.6  0.0   0.00  0.0  4.2\n",
       "E  0.0  0.0   3.56  0.8  0.0"
      ]
     },
     "execution_count": 2,
     "metadata": {},
     "output_type": "execute_result"
    }
   ],
   "source": [
    "index = ['A','B','C','D','E']\n",
    "matrix = pd.DataFrame(columns = index, index = index)\n",
    "\n",
    "matrix.iloc[0,1] = 2.1\n",
    "matrix.iloc[1,0] = 8.6\n",
    "matrix.iloc[0,3] = 7.5\n",
    "matrix.iloc[3,0] = 6.6\n",
    "matrix.iloc[3,4] = 4.2\n",
    "matrix.iloc[4,3] = 0.8\n",
    "matrix.iloc[4,2] = 3.56\n",
    "matrix.iloc[2,4] = 1.1\n",
    "matrix.iloc[1,2] = 10.2\n",
    "matrix.iloc[2,1] = 7.3\n",
    "\n",
    "matrix.fillna(0, inplace = True) #Rellenar los NANs con algo, en este caso con 0\n",
    "matrix"
   ]
  },
  {
   "cell_type": "code",
   "execution_count": 23,
   "id": "d7dd216e-659a-4dd3-8233-acfccce7d357",
   "metadata": {},
   "outputs": [
    {
     "data": {
      "image/png": "[encoded data removed]",
      "text/plain": [
       "<Figure size 640x480 with 2 Axes>"
      ]
     },
     "metadata": {},
     "output_type": "display_data"
    }
   ],
   "source": [
    "hmap = sns.heatmap(matrix, annot = True, cmap = 'hot', xticklabels = matrix.columns, yticklabels = matrix.columns)"
   ]
  },
  {
   "cell_type": "code",
   "execution_count": 9,
   "id": "d80c14f9-57b2-493b-9651-fc7f43ee90e9",
   "metadata": {},
   "outputs": [],
   "source": [
    "ar = np.array(matrix)"
   ]
  },
  {
   "cell_type": "code",
   "execution_count": 15,
   "id": "b9696662-1c11-476a-9e67-305326522bc7",
   "metadata": {},
   "outputs": [
    {
     "data": {
      "text/plain": [
       "np.float64(0.0)"
      ]
     },
     "execution_count": 15,
     "metadata": {},
     "output_type": "execute_result"
    }
   ],
   "source": [
    "np.percentile(ar, 50)"
   ]
  },
  {
   "cell_type": "code",
   "execution_count": 19,
   "id": "05fcbcf2-c659-403e-b1af-e482bc37a71f",
   "metadata": {},
   "outputs": [
    {
     "data": {
      "text/plain": [
       "np.float64(4.680000000000007)"
      ]
     },
     "execution_count": 19,
     "metadata": {},
     "output_type": "execute_result"
    }
   ],
   "source": [
    "np.percentile(ar, 80)"
   ]
  },
  {
   "cell_type": "code",
   "execution_count": 20,
   "id": "aa47da2b-ff25-4c0f-ab08-0a078900ebea",
   "metadata": {},
   "outputs": [],
   "source": [
    "matrix2 = matrix>4.68"
   ]
  },
  {
   "cell_type": "code",
   "execution_count": 21,
   "id": "2abefd63-3551-4bdc-8999-f95e49ec22d7",
   "metadata": {},
   "outputs": [
    {
     "data": {
      "image/png": "[encoded data removed]",
      "text/plain": [
       "<Figure size 640x480 with 2 Axes>"
      ]
     },
     "metadata": {},
     "output_type": "display_data"
    }
   ],
   "source": [
    "hmap2 = sns.heatmap(matrix2, annot = True, cmap = 'hot', xticklabels = matrix2.columns, yticklabels = matrix2.columns)"
   ]
  },
  {
   "cell_type": "code",
   "execution_count": null,
   "id": "487a767e-8512-40d3-bf8d-3ccb14ed4e40",
   "metadata": {},
   "outputs": [],
   "source": []
  }
 ],
 "metadata": {
  "kernelspec": {
   "display_name": "Python 3 (ipykernel)",
   "language": "python",
   "name": "python3"
  },
  "language_info": {
   "codemirror_mode": {
    "name": "ipython",
    "version": 3
   },
   "file_extension": ".py",
   "mimetype": "text/x-python",
   "name": "python",
   "nbconvert_exporter": "python",
   "pygments_lexer": "ipython3",
   "version": "3.10.4"
  }
 },
 "nbformat": 4,
 "nbformat_minor": 5
}
