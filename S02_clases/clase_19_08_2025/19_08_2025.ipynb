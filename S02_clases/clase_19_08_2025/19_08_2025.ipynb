{
 "cells": [
  {
   "cell_type": "markdown",
   "id": "bf2be00b-aa13-4805-9625-c457f0cd8c04",
   "metadata": {},
   "source": [
    "# Mas listas"
   ]
  },
  {
   "cell_type": "code",
   "execution_count": 1,
   "id": "db7f596a-1e9e-4f71-87a0-6c6e9d508ea5",
   "metadata": {},
   "outputs": [
    {
     "data": {
      "text/plain": [
       "['rojo', 2.3, 100, 'chocolate']"
      ]
     },
     "execution_count": 1,
     "metadata": {},
     "output_type": "execute_result"
    }
   ],
   "source": [
    "lista = ['rojo',2.3, 100, 'chocolate']\n",
    "lista"
   ]
  },
  {
   "cell_type": "code",
   "execution_count": 11,
   "id": "bb02cb34-aaf7-4e92-af30-bb1a4e502d6b",
   "metadata": {},
   "outputs": [
    {
     "data": {
      "text/plain": [
       "['rojo', 2.3, 100, 'chocolate', [4, 2, 6], [4, 2, 6], 'nuez', 'nuez', 'nuez']"
      ]
     },
     "execution_count": 11,
     "metadata": {},
     "output_type": "execute_result"
    }
   ],
   "source": [
    "#manera de agregar elementos a la lista\n",
    "lista.append('nuez')\n",
    "lista"
   ]
  },
  {
   "cell_type": "code",
   "execution_count": 7,
   "id": "cb2d8ee3-72f1-43e0-920b-1c5b13dc1979",
   "metadata": {},
   "outputs": [
    {
     "data": {
      "text/plain": [
       "[]"
      ]
     },
     "execution_count": 7,
     "metadata": {},
     "output_type": "execute_result"
    }
   ],
   "source": [
    "lista_vacia = []\n",
    "lista_vacia"
   ]
  },
  {
   "cell_type": "code",
   "execution_count": 12,
   "id": "1ee525fd-f28e-489c-b37c-d59b645c6081",
   "metadata": {},
   "outputs": [
    {
     "data": {
      "text/plain": [
       "9"
      ]
     },
     "execution_count": 12,
     "metadata": {},
     "output_type": "execute_result"
    }
   ],
   "source": [
    "lista[-1]=[4,2,6]\n",
    "len(lista)"
   ]
  },
  {
   "cell_type": "code",
   "execution_count": null,
   "id": "94dba0df-3aa2-4d63-a022-9ab39f175849",
   "metadata": {},
   "outputs": [],
   "source": [
    "#Manera de eliminar elementos de la lista "
   ]
  },
  {
   "cell_type": "code",
   "execution_count": 13,
   "id": "9a4cdfb7-1530-4b97-8490-3393db05ba8e",
   "metadata": {},
   "outputs": [
    {
     "data": {
      "text/plain": [
       "['rojo', 2.3, [], 'chocolate', [4, 2, 6], [4, 2, 6], 'nuez', 'nuez', [4, 2, 6]]"
      ]
     },
     "execution_count": 13,
     "metadata": {},
     "output_type": "execute_result"
    }
   ],
   "source": [
    "lista [2] = []\n",
    "lista"
   ]
  },
  {
   "cell_type": "code",
   "execution_count": 14,
   "id": "b3c9ee90-c6d1-47e9-b656-8fec2377e4a0",
   "metadata": {},
   "outputs": [
    {
     "data": {
      "text/plain": [
       "['rojo', 2.3, [4, 2, 6], [4, 2, 6], 'nuez', 'nuez', [4, 2, 6]]"
      ]
     },
     "execution_count": 14,
     "metadata": {},
     "output_type": "execute_result"
    }
   ],
   "source": [
    "del lista [2:4]\n",
    "lista"
   ]
  },
  {
   "cell_type": "code",
   "execution_count": 16,
   "id": "0c90f3c0-f0da-4dd1-861d-56b958a53a83",
   "metadata": {},
   "outputs": [
    {
     "data": {
      "text/plain": [
       "['rojo', 2.3, [4, 2, 6]]"
      ]
     },
     "execution_count": 16,
     "metadata": {},
     "output_type": "execute_result"
    }
   ],
   "source": [
    "del lista [2:4]\n",
    "lista"
   ]
  },
  {
   "cell_type": "code",
   "execution_count": 17,
   "id": "c893ff49-eae6-4f1b-866c-b5ebdacfed42",
   "metadata": {},
   "outputs": [
    {
     "data": {
      "text/plain": [
       "[2.3, [4, 2, 6]]"
      ]
     },
     "execution_count": 17,
     "metadata": {},
     "output_type": "execute_result"
    }
   ],
   "source": [
    "del lista [0]\n",
    "lista"
   ]
  },
  {
   "cell_type": "code",
   "execution_count": 18,
   "id": "414720ee-6379-4eea-96ac-4de4496d6a6b",
   "metadata": {},
   "outputs": [
    {
     "data": {
      "text/plain": [
       "[[4, 2, 6]]"
      ]
     },
     "execution_count": 18,
     "metadata": {},
     "output_type": "execute_result"
    }
   ],
   "source": [
    "del lista [0]\n",
    "lista"
   ]
  },
  {
   "cell_type": "code",
   "execution_count": 19,
   "id": "d8cefa6f-bc9f-4ccb-8f40-58c966c7b8be",
   "metadata": {},
   "outputs": [
    {
     "data": {
      "text/plain": [
       "[]"
      ]
     },
     "execution_count": 19,
     "metadata": {},
     "output_type": "execute_result"
    }
   ],
   "source": [
    "del lista [0]\n",
    "lista"
   ]
  },
  {
   "cell_type": "code",
   "execution_count": 23,
   "id": "d09d28d9-4611-4b8f-8407-d3995510edfc",
   "metadata": {},
   "outputs": [],
   "source": [
    "matriz = [[1, 2 ,3],\n",
    "          [4, 5, 6],\n",
    "         [7, 8, 9]]"
   ]
  },
  {
   "cell_type": "code",
   "execution_count": 24,
   "id": "a4535f84-ef82-4349-8820-8bb4c563caa5",
   "metadata": {},
   "outputs": [
    {
     "data": {
      "text/plain": [
       "[7, 8, 9]"
      ]
     },
     "execution_count": 24,
     "metadata": {},
     "output_type": "execute_result"
    }
   ],
   "source": [
    "matriz[2]"
   ]
  },
  {
   "cell_type": "code",
   "execution_count": 25,
   "id": "41e593f7-d22d-4e3a-aed0-032aec5d3aa2",
   "metadata": {},
   "outputs": [
    {
     "data": {
      "text/plain": [
       "[7, 8, 9]"
      ]
     },
     "execution_count": 25,
     "metadata": {},
     "output_type": "execute_result"
    }
   ],
   "source": [
    "a= matriz[2]\n",
    "a"
   ]
  },
  {
   "cell_type": "code",
   "execution_count": 26,
   "id": "334a5153-9d3f-4da0-81aa-1d084dabd68f",
   "metadata": {},
   "outputs": [
    {
     "data": {
      "text/plain": [
       "9"
      ]
     },
     "execution_count": 26,
     "metadata": {},
     "output_type": "execute_result"
    }
   ],
   "source": [
    "a [2]"
   ]
  },
  {
   "cell_type": "code",
   "execution_count": 29,
   "id": "874d558d-8ff9-41ca-a9b5-1160ea9d487d",
   "metadata": {},
   "outputs": [
    {
     "data": {
      "text/plain": [
       "9"
      ]
     },
     "execution_count": 29,
     "metadata": {},
     "output_type": "execute_result"
    }
   ],
   "source": [
    "a = matriz  [2][-1]\n",
    "a"
   ]
  },
  {
   "cell_type": "code",
   "execution_count": 30,
   "id": "d59c59bc-4afc-47bf-981c-cf6697e76555",
   "metadata": {},
   "outputs": [
    {
     "data": {
      "text/plain": [
       "[[1, 2, 3], [4, 5, 6], [7, 8, 9]]"
      ]
     },
     "execution_count": 30,
     "metadata": {},
     "output_type": "execute_result"
    }
   ],
   "source": [
    "matriz"
   ]
  },
  {
   "cell_type": "code",
   "execution_count": 32,
   "id": "51fe0758-5772-4f6c-bb5a-c66a5f53b04b",
   "metadata": {},
   "outputs": [
    {
     "data": {
      "text/plain": [
       "4"
      ]
     },
     "execution_count": 32,
     "metadata": {},
     "output_type": "execute_result"
    }
   ],
   "source": [
    "matriz[1][0]"
   ]
  },
  {
   "cell_type": "markdown",
   "id": "0053770f-58fd-492b-a690-3de77acef1ba",
   "metadata": {},
   "source": [
    "# Tuplas"
   ]
  },
  {
   "cell_type": "code",
   "execution_count": 36,
   "id": "bef62d5f-2e9e-435a-8fe1-39b2de692e61",
   "metadata": {},
   "outputs": [
    {
     "data": {
      "text/plain": [
       "(5, 2, '-1', [4, 2, 1], 'pasa')"
      ]
     },
     "execution_count": 36,
     "metadata": {},
     "output_type": "execute_result"
    }
   ],
   "source": [
    "variable = (5,2,'-1', [4,2,1],'pasa')\n",
    "variable"
   ]
  },
  {
   "cell_type": "code",
   "execution_count": 37,
   "id": "62128c8e-6a45-487a-98fc-284bee313aee",
   "metadata": {},
   "outputs": [
    {
     "data": {
      "text/plain": [
       "tuple"
      ]
     },
     "execution_count": 37,
     "metadata": {},
     "output_type": "execute_result"
    }
   ],
   "source": [
    "type(variable)"
   ]
  },
  {
   "cell_type": "code",
   "execution_count": 38,
   "id": "1a357d5c-5561-4a2c-bda0-d38ba9add8f7",
   "metadata": {},
   "outputs": [
    {
     "data": {
      "text/plain": [
       "(5, 2, '-1', [4, 2, 1], 'pasa')"
      ]
     },
     "execution_count": 38,
     "metadata": {},
     "output_type": "execute_result"
    }
   ],
   "source": [
    "variable"
   ]
  },
  {
   "cell_type": "code",
   "execution_count": 39,
   "id": "bf1c8be1-b711-4eb9-84c4-b0dc9ebdec3a",
   "metadata": {},
   "outputs": [
    {
     "data": {
      "text/plain": [
       "'pasa'"
      ]
     },
     "execution_count": 39,
     "metadata": {},
     "output_type": "execute_result"
    }
   ],
   "source": [
    "variable [-1]"
   ]
  },
  {
   "cell_type": "code",
   "execution_count": 40,
   "id": "2c97c73b-4e0a-43b4-9a4d-3bb73c5d7830",
   "metadata": {},
   "outputs": [
    {
     "data": {
      "text/plain": [
       "(2, '-1')"
      ]
     },
     "execution_count": 40,
     "metadata": {},
     "output_type": "execute_result"
    }
   ],
   "source": [
    "variable[1:-2]"
   ]
  },
  {
   "cell_type": "code",
   "execution_count": 41,
   "id": "d276867f-510b-41c0-a8da-40d992f1b9b0",
   "metadata": {},
   "outputs": [
    {
     "data": {
      "text/plain": [
       "(5, 2, '-1')"
      ]
     },
     "execution_count": 41,
     "metadata": {},
     "output_type": "execute_result"
    }
   ],
   "source": [
    "pos_i,pos_f = 0,2\n",
    "variable  [pos_i:pos_f+1]"
   ]
  },
  {
   "cell_type": "code",
   "execution_count": 42,
   "id": "247f683c-9660-4168-84a9-ebfdb252835d",
   "metadata": {},
   "outputs": [
    {
     "data": {
      "text/plain": [
       "(2, '-1')"
      ]
     },
     "execution_count": 42,
     "metadata": {},
     "output_type": "execute_result"
    }
   ],
   "source": [
    "variable[1:-2]"
   ]
  },
  {
   "cell_type": "code",
   "execution_count": 43,
   "id": "86487d4a-ad4f-49bd-bdfb-7ef2f9ffb990",
   "metadata": {},
   "outputs": [
    {
     "data": {
      "text/plain": [
       "(2, '-1', [4, 2, 1])"
      ]
     },
     "execution_count": 43,
     "metadata": {},
     "output_type": "execute_result"
    }
   ],
   "source": [
    "variable [-4:4]"
   ]
  },
  {
   "cell_type": "code",
   "execution_count": 44,
   "id": "e272bebc-e94d-4fec-8997-d8dd93009316",
   "metadata": {},
   "outputs": [
    {
     "data": {
      "text/plain": [
       "(5, 2)"
      ]
     },
     "execution_count": 44,
     "metadata": {},
     "output_type": "execute_result"
    }
   ],
   "source": [
    "tupla = (5,2)\n",
    "tupla"
   ]
  },
  {
   "cell_type": "code",
   "execution_count": 45,
   "id": "e62c6b5b-8e02-4618-bc89-8e5649b4d083",
   "metadata": {},
   "outputs": [
    {
     "data": {
      "text/plain": [
       "5"
      ]
     },
     "execution_count": 45,
     "metadata": {},
     "output_type": "execute_result"
    }
   ],
   "source": [
    "tupla = (5)\n",
    "tupla"
   ]
  },
  {
   "cell_type": "code",
   "execution_count": 46,
   "id": "b14a5c0d-181f-4c26-b912-1ac68369af23",
   "metadata": {},
   "outputs": [],
   "source": [
    "#no hay tuplas de un elemento"
   ]
  },
  {
   "cell_type": "code",
   "execution_count": 47,
   "id": "1020ce26-deda-4a28-9cf0-3a3166fcbdaa",
   "metadata": {},
   "outputs": [
    {
     "data": {
      "text/plain": [
       "int"
      ]
     },
     "execution_count": 47,
     "metadata": {},
     "output_type": "execute_result"
    }
   ],
   "source": [
    "type(tupla)"
   ]
  },
  {
   "cell_type": "code",
   "execution_count": 48,
   "id": "350a9c91-5a67-46bc-acca-1ac94be62d1f",
   "metadata": {},
   "outputs": [
    {
     "data": {
      "text/plain": [
       "(5,)"
      ]
     },
     "execution_count": 48,
     "metadata": {},
     "output_type": "execute_result"
    }
   ],
   "source": [
    "tupla = (5, ) #solo se puede de un elemento si se escribe asi\n",
    "tupla"
   ]
  },
  {
   "cell_type": "code",
   "execution_count": 49,
   "id": "208028d5-afe2-46e6-a011-89bb38e89b9e",
   "metadata": {},
   "outputs": [
    {
     "data": {
      "text/plain": [
       "tuple"
      ]
     },
     "execution_count": 49,
     "metadata": {},
     "output_type": "execute_result"
    }
   ],
   "source": [
    "type(tupla)"
   ]
  },
  {
   "cell_type": "code",
   "execution_count": 50,
   "id": "30ebf00c-31cf-462f-8723-913bc2310fe6",
   "metadata": {},
   "outputs": [
    {
     "data": {
      "text/plain": [
       "1"
      ]
     },
     "execution_count": 50,
     "metadata": {},
     "output_type": "execute_result"
    }
   ],
   "source": [
    "len(tupla)\n"
   ]
  },
  {
   "cell_type": "code",
   "execution_count": 51,
   "id": "c8c53629-fa27-47dd-a577-280793742822",
   "metadata": {},
   "outputs": [],
   "source": [
    "t1,t2,t3=(4,5),(6,7),(8,9)"
   ]
  },
  {
   "cell_type": "code",
   "execution_count": 52,
   "id": "7d12a5c7-87c9-4516-8b62-6e4769d238e6",
   "metadata": {},
   "outputs": [
    {
     "data": {
      "text/plain": [
       "(4, 5, 6, 7)"
      ]
     },
     "execution_count": 52,
     "metadata": {},
     "output_type": "execute_result"
    }
   ],
   "source": [
    "t1+t2"
   ]
  },
  {
   "cell_type": "code",
   "execution_count": null,
   "id": "503bca8b-106a-463e-9043-d83ecd8e364a",
   "metadata": {},
   "outputs": [],
   "source": [
    "#solo se puede sumar y multiplicar con numers entero\n"
   ]
  },
  {
   "cell_type": "code",
   "execution_count": 53,
   "id": "13afdecf-fbd6-4b85-a05e-7fb596788dd4",
   "metadata": {},
   "outputs": [
    {
     "data": {
      "text/plain": [
       "(6, 7, 6, 7, 6, 7)"
      ]
     },
     "execution_count": 53,
     "metadata": {},
     "output_type": "execute_result"
    }
   ],
   "source": [
    "3*t2"
   ]
  },
  {
   "cell_type": "code",
   "execution_count": 55,
   "id": "29713482-61f6-4d01-aefa-7f38b3bd6b8b",
   "metadata": {},
   "outputs": [
    {
     "data": {
      "text/plain": [
       "7"
      ]
     },
     "execution_count": 55,
     "metadata": {},
     "output_type": "execute_result"
    }
   ],
   "source": [
    "(3*t2)[3]"
   ]
  },
  {
   "cell_type": "code",
   "execution_count": 57,
   "id": "fc0f7ea0-2a5c-4fa9-a025-b96fc84e0782",
   "metadata": {},
   "outputs": [
    {
     "data": {
      "text/plain": [
       "[7, 7, 7]"
      ]
     },
     "execution_count": 57,
     "metadata": {},
     "output_type": "execute_result"
    }
   ],
   "source": [
    "[(3*t2)[3]]*3"
   ]
  },
  {
   "cell_type": "code",
   "execution_count": null,
   "id": "6f1df3dc-875c-4c9e-9e79-81d4c9008944",
   "metadata": {},
   "outputs": [],
   "source": [
    "#tupla es inmutable "
   ]
  },
  {
   "cell_type": "code",
   "execution_count": 59,
   "id": "30dc416b-f45d-44bd-a2f1-c5844e6bdfd2",
   "metadata": {},
   "outputs": [
    {
     "data": {
      "text/plain": [
       "{'key': 'valor'}"
      ]
     },
     "execution_count": 59,
     "metadata": {},
     "output_type": "execute_result"
    }
   ],
   "source": [
    "diccionario = {'key':'valor'}\n",
    "diccionario"
   ]
  },
  {
   "cell_type": "code",
   "execution_count": 60,
   "id": "2019966e-5f60-4241-9358-3c4ec3bdbd5f",
   "metadata": {},
   "outputs": [
    {
     "data": {
      "text/plain": [
       "{'key': 'valor', 'llave2': 'valor2', 'llave3': 5, 'llave4': [2, 3], 5: [-2]}"
      ]
     },
     "execution_count": 60,
     "metadata": {},
     "output_type": "execute_result"
    }
   ],
   "source": [
    "diccionario = {'key':'valor', 'llave2': 'valor2','llave3':5, 'llave4':[2,3],\n",
    "               5: [-2]}\n",
    "diccionario"
   ]
  },
  {
   "cell_type": "code",
   "execution_count": 61,
   "id": "2ca818fe-f572-4ccb-a13b-74e378e40802",
   "metadata": {},
   "outputs": [
    {
     "data": {
      "text/plain": [
       "dict"
      ]
     },
     "execution_count": 61,
     "metadata": {},
     "output_type": "execute_result"
    }
   ],
   "source": [
    "type(diccionario)"
   ]
  },
  {
   "cell_type": "code",
   "execution_count": 64,
   "id": "146e738d-7953-49f2-82a9-aede51ef2c0e",
   "metadata": {},
   "outputs": [
    {
     "data": {
      "text/plain": [
       "5"
      ]
     },
     "execution_count": 64,
     "metadata": {},
     "output_type": "execute_result"
    }
   ],
   "source": [
    "diccionario['llave3']"
   ]
  },
  {
   "cell_type": "code",
   "execution_count": 66,
   "id": "bc691baf-2fdd-4f46-9bb7-88ae57fa8834",
   "metadata": {},
   "outputs": [
    {
     "data": {
      "text/plain": [
       "dict_keys(['key', 'llave2', 'llave3', 'llave4', 5])"
      ]
     },
     "execution_count": 66,
     "metadata": {},
     "output_type": "execute_result"
    }
   ],
   "source": [
    "diccionario.keys() #se esta usando el metdo ´keys´"
   ]
  },
  {
   "cell_type": "code",
   "execution_count": 68,
   "id": "33a67ceb-da95-4847-8b66-4a7173a46382",
   "metadata": {},
   "outputs": [
    {
     "data": {
      "text/plain": [
       "dict_values(['valor', 'valor2', 5, [2, 3], [-2]])"
      ]
     },
     "execution_count": 68,
     "metadata": {},
     "output_type": "execute_result"
    }
   ],
   "source": [
    "diccionario.values()"
   ]
  },
  {
   "cell_type": "code",
   "execution_count": 69,
   "id": "7f60979c-8ef4-466b-81ff-955642744454",
   "metadata": {},
   "outputs": [
    {
     "data": {
      "text/plain": [
       "dict_items([('key', 'valor'), ('llave2', 'valor2'), ('llave3', 5), ('llave4', [2, 3]), (5, [-2])])"
      ]
     },
     "execution_count": 69,
     "metadata": {},
     "output_type": "execute_result"
    }
   ],
   "source": [
    "diccionario.items()"
   ]
  },
  {
   "cell_type": "code",
   "execution_count": 72,
   "id": "8a67114a-f220-4c3d-aa63-f30f1af155f5",
   "metadata": {},
   "outputs": [
    {
     "data": {
      "text/plain": [
       "dict_values(['valor', 'valor2', 5, [2, 3], [-2]])"
      ]
     },
     "execution_count": 72,
     "metadata": {},
     "output_type": "execute_result"
    }
   ],
   "source": [
    "var= diccionario.values()\n",
    "var"
   ]
  },
  {
   "cell_type": "code",
   "execution_count": 73,
   "id": "665519db-b2ed-4263-8b72-2999ed1e503b",
   "metadata": {},
   "outputs": [
    {
     "data": {
      "text/plain": [
       "dict_values"
      ]
     },
     "execution_count": 73,
     "metadata": {},
     "output_type": "execute_result"
    }
   ],
   "source": [
    "type(var)"
   ]
  },
  {
   "cell_type": "markdown",
   "id": "7a6a3618-d186-4d8f-bd9e-07059abf41dc",
   "metadata": {},
   "source": [
    "#  Convertir a otros tipos de datoos"
   ]
  },
  {
   "cell_type": "code",
   "execution_count": 74,
   "id": "22492e6a-73b1-4ab1-9a34-e6e399176aa3",
   "metadata": {},
   "outputs": [
    {
     "data": {
      "text/plain": [
       "['valor', 'valor2', 5, [2, 3], [-2]]"
      ]
     },
     "execution_count": 74,
     "metadata": {},
     "output_type": "execute_result"
    }
   ],
   "source": [
    "list(var)"
   ]
  },
  {
   "cell_type": "code",
   "execution_count": 75,
   "id": "daaebeb7-98f8-4fa7-b784-a23177208dfa",
   "metadata": {},
   "outputs": [
    {
     "data": {
      "text/plain": [
       "{'key': 'valor', 'llave2': 'valor2', 'llave3': 5, 'llave4': [2, 3], 5: [-2]}"
      ]
     },
     "execution_count": 75,
     "metadata": {},
     "output_type": "execute_result"
    }
   ],
   "source": [
    "diccionario"
   ]
  },
  {
   "cell_type": "code",
   "execution_count": 77,
   "id": "531f5ef9-f22c-41cd-add8-a0790177b3af",
   "metadata": {},
   "outputs": [
    {
     "data": {
      "text/plain": [
       "{'key': 'valor', 'llave2': 45, 'llave3': 5, 'llave4': [2, 3], 5: [-2]}"
      ]
     },
     "execution_count": 77,
     "metadata": {},
     "output_type": "execute_result"
    }
   ],
   "source": [
    "diccionario ['llave2'] = 45\n",
    "diccionario"
   ]
  },
  {
   "cell_type": "code",
   "execution_count": 78,
   "id": "092c3748-2d48-4b68-9b42-af11d6deec4d",
   "metadata": {},
   "outputs": [
    {
     "data": {
      "text/plain": [
       "{'key': 'valor',\n",
       " 'llave2': 45,\n",
       " 'llave3': 5,\n",
       " 'llave4': [2, 3],\n",
       " 5: [-2],\n",
       " 'vamonos': 'a mimir'}"
      ]
     },
     "execution_count": 78,
     "metadata": {},
     "output_type": "execute_result"
    }
   ],
   "source": [
    "diccionario['vamonos']= 'a mimir'\n",
    "diccionario"
   ]
  },
  {
   "cell_type": "code",
   "execution_count": 80,
   "id": "b2ce3ced-f437-4ebe-8913-5ccf401ce517",
   "metadata": {},
   "outputs": [
    {
     "data": {
      "text/plain": [
       "'a mimir'"
      ]
     },
     "execution_count": 80,
     "metadata": {},
     "output_type": "execute_result"
    }
   ],
   "source": [
    "#eliminar \n",
    "diccionario.pop ('vamonos')"
   ]
  },
  {
   "cell_type": "code",
   "execution_count": null,
   "id": "163bdddc-8be3-4f10-99eb-cfc6b5e13a38",
   "metadata": {},
   "outputs": [],
   "source": []
  }
 ],
 "metadata": {
  "kernelspec": {
   "display_name": "Python 3 (ipykernel)",
   "language": "python",
   "name": "python3"
  },
  "language_info": {
   "codemirror_mode": {
    "name": "ipython",
    "version": 3
   },
   "file_extension": ".py",
   "mimetype": "text/x-python",
   "name": "python",
   "nbconvert_exporter": "python",
   "pygments_lexer": "ipython3",
   "version": "3.13.5"
  }
 },
 "nbformat": 4,
 "nbformat_minor": 5
}
