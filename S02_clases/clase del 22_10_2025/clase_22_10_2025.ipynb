{
 "cells": [
  {
   "cell_type": "code",
   "execution_count": 2,
   "id": "d0e4f373-61a7-4ebb-9451-d5910cc943f0",
   "metadata": {},
   "outputs": [],
   "source": [
    "import mne \n",
    "import numpy as np \n",
    "import pandas as pd\n",
    "from scipy.signal import coherence, hilbert "
   ]
  },
  {
   "cell_type": "code",
   "execution_count": 3,
   "id": "d35f2d69-d294-4642-99c1-d0c520650e8f",
   "metadata": {},
   "outputs": [],
   "source": [
    "# ====== CONFIGURACIÓN ======\n",
    "edf_path = r\"..\\..\\S03_datasets\\chb01_01.edf\"\n",
    "sfreq_target = 256            # Frecuencia de muestreo a la que normalizamos (Hz)\n",
    "fmin, fmax = 8, 13    "
   ]
  },
  {
   "cell_type": "code",
   "execution_count": 4,
   "id": "367963fe-0963-480a-bd8c-5d0a32de40ac",
   "metadata": {
    "collapsed": true,
    "jupyter": {
     "outputs_hidden": true
    }
   },
   "outputs": [
    {
     "name": "stdout",
     "output_type": "stream",
     "text": [
      "Extracting EDF parameters from C:\\Users\\Lenovo\\Documents\\GitHub\\Neurociencias-2026-1\\S03_datasets\\chb01_01.edf...\n",
      "EDF file detected\n"
     ]
    },
    {
     "ename": "FileNotFoundError",
     "evalue": "[Errno 2] No such file or directory: 'C:\\\\Users\\\\Lenovo\\\\Documents\\\\GitHub\\\\Neurociencias-2026-1\\\\S03_datasets\\\\chb01_01.edf'",
     "output_type": "error",
     "traceback": [
      "\u001b[31m---------------------------------------------------------------------------\u001b[39m",
      "\u001b[31mFileNotFoundError\u001b[39m                         Traceback (most recent call last)",
      "\u001b[36mCell\u001b[39m\u001b[36m \u001b[39m\u001b[32mIn[4]\u001b[39m\u001b[32m, line 2\u001b[39m\n\u001b[32m      1\u001b[39m \u001b[38;5;66;03m# ====== CARGA Y PREPROCESAMIENTO ======\u001b[39;00m\n\u001b[32m----> \u001b[39m\u001b[32m2\u001b[39m raw = \u001b[43mmne\u001b[49m\u001b[43m.\u001b[49m\u001b[43mio\u001b[49m\u001b[43m.\u001b[49m\u001b[43mread_raw_edf\u001b[49m\u001b[43m(\u001b[49m\u001b[43medf_path\u001b[49m\u001b[43m,\u001b[49m\u001b[43m \u001b[49m\u001b[43mpreload\u001b[49m\u001b[43m=\u001b[49m\u001b[38;5;28;43;01mTrue\u001b[39;49;00m\u001b[43m)\u001b[49m\n\u001b[32m      3\u001b[39m raw.resample(sfreq_target)\n\u001b[32m      4\u001b[39m raw.filter(\u001b[32m1.\u001b[39m, \u001b[32m45.\u001b[39m, fir_design=\u001b[33m'\u001b[39m\u001b[33mfirwin\u001b[39m\u001b[33m'\u001b[39m)\n",
      "\u001b[36mFile \u001b[39m\u001b[32m~\\AppData\\Local\\Programs\\Python\\Python313\\Lib\\site-packages\\mne\\io\\edf\\edf.py:1700\u001b[39m, in \u001b[36mread_raw_edf\u001b[39m\u001b[34m(input_fname, eog, misc, stim_channel, exclude, infer_types, include, preload, units, encoding, exclude_after_unique, verbose)\u001b[39m\n\u001b[32m   1698\u001b[39m \u001b[38;5;28;01mif\u001b[39;00m ext != \u001b[33m\"\u001b[39m\u001b[33medf\u001b[39m\u001b[33m\"\u001b[39m:\n\u001b[32m   1699\u001b[39m     \u001b[38;5;28;01mraise\u001b[39;00m \u001b[38;5;167;01mNotImplementedError\u001b[39;00m(\u001b[33mf\u001b[39m\u001b[33m\"\u001b[39m\u001b[33mOnly EDF files are supported, got \u001b[39m\u001b[38;5;132;01m{\u001b[39;00mext\u001b[38;5;132;01m}\u001b[39;00m\u001b[33m.\u001b[39m\u001b[33m\"\u001b[39m)\n\u001b[32m-> \u001b[39m\u001b[32m1700\u001b[39m \u001b[38;5;28;01mreturn\u001b[39;00m \u001b[43mRawEDF\u001b[49m\u001b[43m(\u001b[49m\n\u001b[32m   1701\u001b[39m \u001b[43m    \u001b[49m\u001b[43minput_fname\u001b[49m\u001b[43m=\u001b[49m\u001b[43minput_fname\u001b[49m\u001b[43m,\u001b[49m\n\u001b[32m   1702\u001b[39m \u001b[43m    \u001b[49m\u001b[43meog\u001b[49m\u001b[43m=\u001b[49m\u001b[43meog\u001b[49m\u001b[43m,\u001b[49m\n\u001b[32m   1703\u001b[39m \u001b[43m    \u001b[49m\u001b[43mmisc\u001b[49m\u001b[43m=\u001b[49m\u001b[43mmisc\u001b[49m\u001b[43m,\u001b[49m\n\u001b[32m   1704\u001b[39m \u001b[43m    \u001b[49m\u001b[43mstim_channel\u001b[49m\u001b[43m=\u001b[49m\u001b[43mstim_channel\u001b[49m\u001b[43m,\u001b[49m\n\u001b[32m   1705\u001b[39m \u001b[43m    \u001b[49m\u001b[43mexclude\u001b[49m\u001b[43m=\u001b[49m\u001b[43mexclude\u001b[49m\u001b[43m,\u001b[49m\n\u001b[32m   1706\u001b[39m \u001b[43m    \u001b[49m\u001b[43minfer_types\u001b[49m\u001b[43m=\u001b[49m\u001b[43minfer_types\u001b[49m\u001b[43m,\u001b[49m\n\u001b[32m   1707\u001b[39m \u001b[43m    \u001b[49m\u001b[43mpreload\u001b[49m\u001b[43m=\u001b[49m\u001b[43mpreload\u001b[49m\u001b[43m,\u001b[49m\n\u001b[32m   1708\u001b[39m \u001b[43m    \u001b[49m\u001b[43minclude\u001b[49m\u001b[43m=\u001b[49m\u001b[43minclude\u001b[49m\u001b[43m,\u001b[49m\n\u001b[32m   1709\u001b[39m \u001b[43m    \u001b[49m\u001b[43munits\u001b[49m\u001b[43m=\u001b[49m\u001b[43munits\u001b[49m\u001b[43m,\u001b[49m\n\u001b[32m   1710\u001b[39m \u001b[43m    \u001b[49m\u001b[43mencoding\u001b[49m\u001b[43m=\u001b[49m\u001b[43mencoding\u001b[49m\u001b[43m,\u001b[49m\n\u001b[32m   1711\u001b[39m \u001b[43m    \u001b[49m\u001b[43mexclude_after_unique\u001b[49m\u001b[43m=\u001b[49m\u001b[43mexclude_after_unique\u001b[49m\u001b[43m,\u001b[49m\n\u001b[32m   1712\u001b[39m \u001b[43m    \u001b[49m\u001b[43mverbose\u001b[49m\u001b[43m=\u001b[49m\u001b[43mverbose\u001b[49m\u001b[43m,\u001b[49m\n\u001b[32m   1713\u001b[39m \u001b[43m\u001b[49m\u001b[43m)\u001b[49m\n",
      "\u001b[36mFile \u001b[39m\u001b[32m<decorator-gen-206>:12\u001b[39m, in \u001b[36m__init__\u001b[39m\u001b[34m(self, input_fname, eog, misc, stim_channel, exclude, infer_types, preload, include, units, encoding, exclude_after_unique, verbose)\u001b[39m\n",
      "\u001b[36mFile \u001b[39m\u001b[32m~\\AppData\\Local\\Programs\\Python\\Python313\\Lib\\site-packages\\mne\\io\\edf\\edf.py:152\u001b[39m, in \u001b[36mRawEDF.__init__\u001b[39m\u001b[34m(self, input_fname, eog, misc, stim_channel, exclude, infer_types, preload, include, units, encoding, exclude_after_unique, verbose)\u001b[39m\n\u001b[32m    150\u001b[39m logger.info(\u001b[33mf\u001b[39m\u001b[33m\"\u001b[39m\u001b[33mExtracting EDF parameters from \u001b[39m\u001b[38;5;132;01m{\u001b[39;00minput_fname\u001b[38;5;132;01m}\u001b[39;00m\u001b[33m...\u001b[39m\u001b[33m\"\u001b[39m)\n\u001b[32m    151\u001b[39m input_fname = os.path.abspath(input_fname)\n\u001b[32m--> \u001b[39m\u001b[32m152\u001b[39m info, edf_info, orig_units = \u001b[43m_get_info\u001b[49m\u001b[43m(\u001b[49m\n\u001b[32m    153\u001b[39m \u001b[43m    \u001b[49m\u001b[43minput_fname\u001b[49m\u001b[43m,\u001b[49m\n\u001b[32m    154\u001b[39m \u001b[43m    \u001b[49m\u001b[43mstim_channel\u001b[49m\u001b[43m,\u001b[49m\n\u001b[32m    155\u001b[39m \u001b[43m    \u001b[49m\u001b[43meog\u001b[49m\u001b[43m,\u001b[49m\n\u001b[32m    156\u001b[39m \u001b[43m    \u001b[49m\u001b[43mmisc\u001b[49m\u001b[43m,\u001b[49m\n\u001b[32m    157\u001b[39m \u001b[43m    \u001b[49m\u001b[43mexclude\u001b[49m\u001b[43m,\u001b[49m\n\u001b[32m    158\u001b[39m \u001b[43m    \u001b[49m\u001b[43minfer_types\u001b[49m\u001b[43m,\u001b[49m\n\u001b[32m    159\u001b[39m \u001b[43m    \u001b[49m\u001b[43mpreload\u001b[49m\u001b[43m,\u001b[49m\n\u001b[32m    160\u001b[39m \u001b[43m    \u001b[49m\u001b[43minclude\u001b[49m\u001b[43m,\u001b[49m\n\u001b[32m    161\u001b[39m \u001b[43m    \u001b[49m\u001b[43mexclude_after_unique\u001b[49m\u001b[43m,\u001b[49m\n\u001b[32m    162\u001b[39m \u001b[43m\u001b[49m\u001b[43m)\u001b[49m\n\u001b[32m    163\u001b[39m logger.info(\u001b[33m\"\u001b[39m\u001b[33mCreating raw.info structure...\u001b[39m\u001b[33m\"\u001b[39m)\n\u001b[32m    165\u001b[39m _validate_type(units, (\u001b[38;5;28mstr\u001b[39m, \u001b[38;5;28;01mNone\u001b[39;00m, \u001b[38;5;28mdict\u001b[39m), \u001b[33m\"\u001b[39m\u001b[33munits\u001b[39m\u001b[33m\"\u001b[39m)\n",
      "\u001b[36mFile \u001b[39m\u001b[32m~\\AppData\\Local\\Programs\\Python\\Python313\\Lib\\site-packages\\mne\\io\\edf\\edf.py:541\u001b[39m, in \u001b[36m_get_info\u001b[39m\u001b[34m(fname, stim_channel, eog, misc, exclude, infer_types, preload, include, exclude_after_unique)\u001b[39m\n\u001b[32m    538\u001b[39m eog = eog \u001b[38;5;28;01mif\u001b[39;00m eog \u001b[38;5;129;01mis\u001b[39;00m \u001b[38;5;129;01mnot\u001b[39;00m \u001b[38;5;28;01mNone\u001b[39;00m \u001b[38;5;28;01melse\u001b[39;00m []\n\u001b[32m    539\u001b[39m misc = misc \u001b[38;5;28;01mif\u001b[39;00m misc \u001b[38;5;129;01mis\u001b[39;00m \u001b[38;5;129;01mnot\u001b[39;00m \u001b[38;5;28;01mNone\u001b[39;00m \u001b[38;5;28;01melse\u001b[39;00m []\n\u001b[32m--> \u001b[39m\u001b[32m541\u001b[39m edf_info, orig_units = \u001b[43m_read_header\u001b[49m\u001b[43m(\u001b[49m\n\u001b[32m    542\u001b[39m \u001b[43m    \u001b[49m\u001b[43mfname\u001b[49m\u001b[43m,\u001b[49m\u001b[43m \u001b[49m\u001b[43mexclude\u001b[49m\u001b[43m,\u001b[49m\u001b[43m \u001b[49m\u001b[43minfer_types\u001b[49m\u001b[43m,\u001b[49m\u001b[43m \u001b[49m\u001b[43minclude\u001b[49m\u001b[43m,\u001b[49m\u001b[43m \u001b[49m\u001b[43mexclude_after_unique\u001b[49m\n\u001b[32m    543\u001b[39m \u001b[43m\u001b[49m\u001b[43m)\u001b[49m\n\u001b[32m    545\u001b[39m \u001b[38;5;66;03m# XXX: `tal_ch_names` to pass to `_check_stim_channel` should be computed\u001b[39;00m\n\u001b[32m    546\u001b[39m \u001b[38;5;66;03m#      from `edf_info['ch_names']` and `edf_info['tal_idx']` but 'tal_idx'\u001b[39;00m\n\u001b[32m    547\u001b[39m \u001b[38;5;66;03m#      contains stim channels that are not TAL.\u001b[39;00m\n\u001b[32m    548\u001b[39m stim_channel_idxs, _ = _check_stim_channel(stim_channel, edf_info[\u001b[33m\"\u001b[39m\u001b[33mch_names\u001b[39m\u001b[33m\"\u001b[39m])\n",
      "\u001b[36mFile \u001b[39m\u001b[32m~\\AppData\\Local\\Programs\\Python\\Python313\\Lib\\site-packages\\mne\\io\\edf\\edf.py:515\u001b[39m, in \u001b[36m_read_header\u001b[39m\u001b[34m(fname, exclude, infer_types, include, exclude_after_unique)\u001b[39m\n\u001b[32m    513\u001b[39m logger.info(\u001b[33mf\u001b[39m\u001b[33m\"\u001b[39m\u001b[38;5;132;01m{\u001b[39;00mext.upper()\u001b[38;5;132;01m}\u001b[39;00m\u001b[33m file detected\u001b[39m\u001b[33m\"\u001b[39m)\n\u001b[32m    514\u001b[39m \u001b[38;5;28;01mif\u001b[39;00m ext \u001b[38;5;129;01min\u001b[39;00m (\u001b[33m\"\u001b[39m\u001b[33mbdf\u001b[39m\u001b[33m\"\u001b[39m, \u001b[33m\"\u001b[39m\u001b[33medf\u001b[39m\u001b[33m\"\u001b[39m):\n\u001b[32m--> \u001b[39m\u001b[32m515\u001b[39m     \u001b[38;5;28;01mreturn\u001b[39;00m \u001b[43m_read_edf_header\u001b[49m\u001b[43m(\u001b[49m\n\u001b[32m    516\u001b[39m \u001b[43m        \u001b[49m\u001b[43mfname\u001b[49m\u001b[43m,\u001b[49m\u001b[43m \u001b[49m\u001b[43mexclude\u001b[49m\u001b[43m,\u001b[49m\u001b[43m \u001b[49m\u001b[43minfer_types\u001b[49m\u001b[43m,\u001b[49m\u001b[43m \u001b[49m\u001b[43minclude\u001b[49m\u001b[43m,\u001b[49m\u001b[43m \u001b[49m\u001b[43mexclude_after_unique\u001b[49m\n\u001b[32m    517\u001b[39m \u001b[43m    \u001b[49m\u001b[43m)\u001b[49m\n\u001b[32m    518\u001b[39m \u001b[38;5;28;01melif\u001b[39;00m ext == \u001b[33m\"\u001b[39m\u001b[33mgdf\u001b[39m\u001b[33m\"\u001b[39m:\n\u001b[32m    519\u001b[39m     \u001b[38;5;28;01mreturn\u001b[39;00m _read_gdf_header(fname, exclude, include), \u001b[38;5;28;01mNone\u001b[39;00m\n",
      "\u001b[36mFile \u001b[39m\u001b[32m~\\AppData\\Local\\Programs\\Python\\Python313\\Lib\\site-packages\\mne\\io\\edf\\edf.py:809\u001b[39m, in \u001b[36m_read_edf_header\u001b[39m\u001b[34m(fname, exclude, infer_types, include, exclude_after_unique)\u001b[39m\n\u001b[32m    806\u001b[39m \u001b[38;5;250m\u001b[39m\u001b[33;03m\"\"\"Read header information from EDF+ or BDF file.\"\"\"\u001b[39;00m\n\u001b[32m    807\u001b[39m edf_info = {\u001b[33m\"\u001b[39m\u001b[33mevents\u001b[39m\u001b[33m\"\u001b[39m: []}\n\u001b[32m--> \u001b[39m\u001b[32m809\u001b[39m \u001b[38;5;28;01mwith\u001b[39;00m \u001b[38;5;28;43mopen\u001b[39;49m\u001b[43m(\u001b[49m\u001b[43mfname\u001b[49m\u001b[43m,\u001b[49m\u001b[43m \u001b[49m\u001b[33;43m\"\u001b[39;49m\u001b[33;43mrb\u001b[39;49m\u001b[33;43m\"\u001b[39;49m\u001b[43m)\u001b[49m \u001b[38;5;28;01mas\u001b[39;00m fid:\n\u001b[32m    810\u001b[39m     fid.read(\u001b[32m8\u001b[39m)  \u001b[38;5;66;03m# version (unused here)\u001b[39;00m\n\u001b[32m    812\u001b[39m     \u001b[38;5;66;03m# patient ID\u001b[39;00m\n",
      "\u001b[31mFileNotFoundError\u001b[39m: [Errno 2] No such file or directory: 'C:\\\\Users\\\\Lenovo\\\\Documents\\\\GitHub\\\\Neurociencias-2026-1\\\\S03_datasets\\\\chb01_01.edf'"
     ]
    }
   ],
   "source": [
    "# ====== CARGA Y PREPROCESAMIENTO ======\n",
    "raw = mne.io.read_raw_edf(edf_path, preload=True)\n",
    "raw.resample(sfreq_target)\n",
    "raw.filter(1., 45., fir_design='firwin')\n",
    "data = raw.get_data()\n",
    "ch_names = raw.info['ch_names']\n",
    "n_channels = len(ch_names)"
   ]
  },
  {
   "cell_type": "markdown",
   "id": "cd5140e8-7067-4ead-af95-aede4e538bc3",
   "metadata": {},
   "source": [
    "# Actividades de clase \n",
    "\n",
    "1. Genera el mapa de calor de cada matriz de conectividad a\n",
    "2. Generar la distribucion de datos de cada matriz de conectividad\n",
    "3. ¿Que valoe se encuentra en el porcentaje 0.75%  de cada matriz de conectividad\n",
    "4. enera el grafo 2D de cada matriz de conectivadad  y comparalos\n",
    "5. genera el grafo 3D  de cada matriz de conectividada "
   ]
  },
  {
   "cell_type": "code",
   "execution_count": null,
   "id": "e4cd5f73-ac72-4922-b011-283548057458",
   "metadata": {},
   "outputs": [],
<<<<<<< Updated upstream
   "source": []
=======
   "source": [
    "\n",
    "corr_df = pd.DataFrame(corr_matrix, index=ch_names, columns=ch_names)\n",
    "corr_df.to_csv()\n",
    "\n",
    "coh_matrix = np.zeros((n_channels, n_channels))\n",
    "for i in range(n_channels):\n",
    "    for j in range(n_channels):\n",
    "        f, Cxy = coherence(data[i], data[j], fs=sfreq_target, nperseg=sfreq_target*2)\n",
    "        mask = (f >= fmin) & (f <= fmax)\n",
    "        coh_matrix[i, j] = np.mean(Cxy[mask])\n",
    "\n",
    "coh_df = pd.DataFrame(coh_matrix, index=ch_names, columns=ch_names)\n",
    "coh_df.to_csv(\"connectivity_coherence.csv\")\n",
    "\n",
    "analytic_signal = hilbert(data)\n",
    "phase_data = np.angle(analytic_signal)\n",
    "\n",
    "plv_matrix = np.zeros((n_channels, n_channels))\n",
    "for i in range(n_channels):\n",
    "    for j in range(n_channels):\n",
    "        phase_diff = phase_data[i] - phase_data[j]\n",
    "        plv_matrix[i, j] = np.abs(np.sum(np.exp(1j * phase_diff)) / phase_diff.size)\n",
    "\n",
    "plv_df = pd.DataFrame(plv_matrix, index=ch_names, columns=ch_names)\n",
    "plv_df.to_csv(\"connectivity_plv.csv\")\n",
    "\n",
    "print(\" Matrices de conectividad generadas:\")\n",
    "print(\"- connectivity_pearson.csv\")\n",
    "print(\"- connectivity_coherence.csv\")\n",
    "print(\"- connectivity_plv.csv\")\n",
    "✅ Matrices de conectividad generadas:\n",
    "- connectivity_pearson.csv\n",
    "- connectivity_coherence.csv\n",
    "- connectivity_plv.csv\n",
    "import seaborn as sns\n",
    "import matplotlib.pyplot as plt\n",
    "plt.figure(figsize=(5, 3))\n",
    "sns.heatmap(corr_df, cmap='hot')"
   ]
>>>>>>> Stashed changes
  }
 ],
 "metadata": {
  "kernelspec": {
   "display_name": "Python 3 (ipykernel)",
   "language": "python",
   "name": "python3"
  },
  "language_info": {
   "codemirror_mode": {
    "name": "ipython",
    "version": 3
   },
   "file_extension": ".py",
   "mimetype": "text/x-python",
   "name": "python",
   "nbconvert_exporter": "python",
   "pygments_lexer": "ipython3",
   "version": "3.13.5"
  }
 },
 "nbformat": 4,
 "nbformat_minor": 5
}
