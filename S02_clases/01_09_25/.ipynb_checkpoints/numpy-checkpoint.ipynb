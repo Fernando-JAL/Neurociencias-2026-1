{
 "cells": [
  {
   "cell_type": "code",
   "execution_count": null,
   "id": "d4fc247b-a33a-4a5d-b128-3a66a69bc5cd",
   "metadata": {},
   "outputs": [],
   "source": [
    "## D"
   ]
  },
  {
   "cell_type": "code",
   "execution_count": 5,
   "id": "f44d7eb4-32cf-429b-92db-7163ce00965c",
   "metadata": {},
   "outputs": [],
   "source": [
    "import numpy as np"
   ]
  },
  {
   "cell_type": "code",
   "execution_count": 4,
   "id": "a303c4c4-f491-49a1-97a7-f74fd1c98878",
   "metadata": {},
   "outputs": [
    {
     "name": "stdout",
     "output_type": "stream",
     "text": [
      " value 5 data type <class 'numpy.ndarray'>\n"
     ]
    }
   ],
   "source": [
    "#convertir datos a arreglos\n",
    "value= np.array(5)\n",
    "print(f\" value {value} data type {type(value)}\")"
   ]
  },
  {
   "cell_type": "code",
   "execution_count": 9,
   "id": "aa43e0a0-20a4-48e1-a917-f8b5dc7811fa",
   "metadata": {},
   "outputs": [
    {
     "data": {
      "text/plain": [
       "array([-5, -4, -3])"
      ]
     },
     "execution_count": 9,
     "metadata": {},
     "output_type": "execute_result"
    }
   ],
   "source": [
    "np.array(range(-7, 6)) [2:5]"
   ]
  },
  {
   "cell_type": "code",
   "execution_count": 11,
   "id": "5b5d3247-328c-4f35-b58c-fb402142a20a",
   "metadata": {},
   "outputs": [
    {
     "data": {
      "text/plain": [
       "(array([0, 1, 2, 3, 4]), array([-10,  -9,  -8,  -7,  -6]))"
      ]
     },
     "execution_count": 11,
     "metadata": {},
     "output_type": "execute_result"
    }
   ],
   "source": [
    "a, b= np.arange(5), np.arange(-10, -5)\n",
    "a, b"
   ]
  },
  {
   "cell_type": "code",
   "execution_count": 12,
   "id": "dd3ed2b4-4f2f-4458-88b4-ba45ff1cf24f",
   "metadata": {},
   "outputs": [
    {
     "data": {
      "text/plain": [
       "array([-10, -10, -10, -10, -10])"
      ]
     },
     "execution_count": 12,
     "metadata": {},
     "output_type": "execute_result"
    }
   ],
   "source": [
    "b-a"
   ]
  },
  {
   "cell_type": "code",
   "execution_count": 13,
   "id": "1396c492-a9c9-42b4-ad5d-a2b9dfee9f69",
   "metadata": {},
   "outputs": [
    {
     "data": {
      "text/plain": [
       "array([18, 19, 20, 21, 22])"
      ]
     },
     "execution_count": 13,
     "metadata": {},
     "output_type": "execute_result"
    }
   ],
   "source": [
    "a+18"
   ]
  },
  {
   "cell_type": "code",
   "execution_count": null,
   "id": "f2cb1c8b-a72f-4a4f-803a-16e66a064d4d",
   "metadata": {},
   "outputs": [],
   "source": [
    "a*b #matematicamente no existe el producto de dos arreglos \n"
   ]
  },
  {
   "cell_type": "code",
   "execution_count": 14,
   "id": "081f77f1-c801-45c1-8594-d8c875d4a9d9",
   "metadata": {},
   "outputs": [
    {
     "data": {
      "text/plain": [
       "array([ 0,  1,  4,  9, 16])"
      ]
     },
     "execution_count": 14,
     "metadata": {},
     "output_type": "execute_result"
    }
   ],
   "source": [
    "a**2"
   ]
  },
  {
   "cell_type": "code",
   "execution_count": 15,
   "id": "900a1fb3-a54a-46ca-b743-13e43962905f",
   "metadata": {},
   "outputs": [
    {
     "data": {
      "text/plain": [
       "array([   1,   -9,   64, -343, 1296])"
      ]
     },
     "execution_count": 15,
     "metadata": {},
     "output_type": "execute_result"
    }
   ],
   "source": [
    "b**a #elemento por elemento"
   ]
  },
  {
   "cell_type": "code",
   "execution_count": 20,
   "id": "9f060964-3966-4151-9176-4b5354c37773",
   "metadata": {},
   "outputs": [
    {
     "name": "stderr",
     "output_type": "stream",
     "text": [
      "C:\\Users\\monce\\AppData\\Local\\Temp\\ipykernel_15992\\3261360213.py:1: RuntimeWarning: divide by zero encountered in divide\n",
      "  b**(1/a)\n",
      "C:\\Users\\monce\\AppData\\Local\\Temp\\ipykernel_15992\\3261360213.py:1: RuntimeWarning: invalid value encountered in power\n",
      "  b**(1/a)\n"
     ]
    },
    {
     "data": {
      "text/plain": [
       "array([inf, -9., nan, nan, nan])"
      ]
     },
     "execution_count": 20,
     "metadata": {},
     "output_type": "execute_result"
    }
   ],
   "source": [
    "b**(1/a) ## nan means not a number "
   ]
  },
  {
   "cell_type": "code",
   "execution_count": 24,
   "id": "4ddb3778-b5ea-4ea0-a591-a4420d1bc71d",
   "metadata": {},
   "outputs": [
    {
     "data": {
      "text/plain": [
       "(-3.0517578125e-05, -1.5650845800732873)"
      ]
     },
     "execution_count": 24,
     "metadata": {},
     "output_type": "execute_result"
    }
   ],
   "source": [
    "-8**(0-5), -6**(0.25)"
   ]
  },
  {
   "cell_type": "code",
   "execution_count": 28,
   "id": "a1c096c7-1d7f-4501-879a-9b891ac5b162",
   "metadata": {},
   "outputs": [
    {
     "data": {
      "text/plain": [
       "array([[ 4, -1],\n",
       "       [-7,  2]])"
      ]
     },
     "execution_count": 28,
     "metadata": {},
     "output_type": "execute_result"
    }
   ],
   "source": [
    "vec2D= np.array ([[4, -1],[-7,2]])\n",
    "vec2D"
   ]
  },
  {
   "cell_type": "code",
   "execution_count": 29,
   "id": "8ead270e-cdff-47c1-9479-f6708ec24f51",
   "metadata": {},
   "outputs": [
    {
     "data": {
      "text/plain": [
       "array([[ 4, -7],\n",
       "       [-1,  2]])"
      ]
     },
     "execution_count": 29,
     "metadata": {},
     "output_type": "execute_result"
    }
   ],
   "source": [
    "vec2D.transpose()#transponer hacer a las columnas filas"
   ]
  },
  {
   "cell_type": "code",
   "execution_count": 30,
   "id": "a4a65fb6-239d-4578-9c74-8a806f308f62",
   "metadata": {},
   "outputs": [
    {
     "data": {
      "text/plain": [
       "array([[ 4, -7],\n",
       "       [-1,  2]])"
      ]
     },
     "execution_count": 30,
     "metadata": {},
     "output_type": "execute_result"
    }
   ],
   "source": [
    "vec2D.T"
   ]
  },
  {
   "cell_type": "code",
   "execution_count": 49,
   "id": "34f7d96c-e68c-4a32-a2fc-808b36f56cd6",
   "metadata": {},
   "outputs": [
    {
     "data": {
      "text/plain": [
       "(array([[1, 2],\n",
       "        [3, 4]]),\n",
       " array([[ 4, -1],\n",
       "        [-7,  2]]))"
      ]
     },
     "execution_count": 49,
     "metadata": {},
     "output_type": "execute_result"
    }
   ],
   "source": [
    "vec1=np.array([[1, 2],[3,4]])\n",
    "vec1, vec2D"
   ]
  },
  {
   "cell_type": "code",
   "execution_count": 53,
   "id": "a48fb2a1-cf96-4aea-8d5c-f1178984a313",
   "metadata": {},
   "outputs": [
    {
     "data": {
      "text/plain": [
       "array([[-10,   3],\n",
       "       [-16,   5]])"
      ]
     },
     "execution_count": 53,
     "metadata": {},
     "output_type": "execute_result"
    }
   ],
   "source": [
    "resultado= vec1@ vec2D ##producto matricial\n",
    "resultado"
   ]
  },
  {
   "cell_type": "code",
   "execution_count": 55,
   "id": "08a06e0b-b325-4cff-b650-7e5d2ab37e53",
   "metadata": {},
   "outputs": [
    {
     "data": {
      "text/plain": [
       "np.int64(-16)"
      ]
     },
     "execution_count": 55,
     "metadata": {},
     "output_type": "execute_result"
    }
   ],
   "source": [
    "resultado[1][0]"
   ]
  },
  {
   "cell_type": "code",
   "execution_count": 91,
   "id": "dab12251-5f05-4964-b4d0-3197ae82e9f8",
   "metadata": {},
   "outputs": [
    {
     "data": {
      "text/plain": [
       "array([[ 0,  5, 10],\n",
       "       [15, 20, 25],\n",
       "       [99, 35, 40]])"
      ]
     },
     "execution_count": 91,
     "metadata": {},
     "output_type": "execute_result"
    }
   ],
   "source": [
    "matriz = np.array([[0, 5,10],\n",
    "                   [15,20,25],\n",
    "                  [99,35,40]])\n",
    "matriz"
   ]
  },
  {
   "cell_type": "code",
   "execution_count": 85,
   "id": "7acc1ca2-eec1-4869-86da-1e3a98badc7c",
   "metadata": {},
   "outputs": [
    {
     "data": {
      "text/plain": [
       "np.int64(5)"
      ]
     },
     "execution_count": 85,
     "metadata": {},
     "output_type": "execute_result"
    }
   ],
   "source": [
    "matriz  ##como slicear columnas "
   ]
  },
  {
   "cell_type": "code",
   "execution_count": 73,
   "id": "d09ed8ec-d324-4b07-a40c-8c47e1109737",
   "metadata": {},
   "outputs": [
    {
     "data": {
      "text/plain": [
       "array([[  0,   5,  10],\n",
       "       [-20,  20,  25],\n",
       "       [ 99,  35,  40]])"
      ]
     },
     "execution_count": 73,
     "metadata": {},
     "output_type": "execute_result"
    }
   ],
   "source": [
    "matriz[1][0]= -20\n",
    "matriz"
   ]
  },
  {
   "cell_type": "code",
   "execution_count": 78,
   "id": "80cc190f-3e7c-45e7-a1ed-849725380ef8",
   "metadata": {},
   "outputs": [
    {
     "data": {
      "text/plain": [
       "np.int64(15)"
      ]
     },
     "execution_count": 78,
     "metadata": {},
     "output_type": "execute_result"
    }
   ],
   "source": [
    "matriz[1][0]"
   ]
  },
  {
   "cell_type": "code",
   "execution_count": 89,
   "id": "f0425be1-1ed4-4a80-850f-266f1f5c8b6f",
   "metadata": {},
   "outputs": [
    {
     "name": "stdout",
     "output_type": "stream",
     "text": [
      "0.1462070906993319\n",
      "0.6706181445323469\n",
      "0.6240189250816865\n",
      "0.3330959536848933\n",
      "0.5111357485627557\n"
     ]
    }
   ],
   "source": [
    "for _ in range(5):\n",
    "    print(np.random.rand()) ## random crea numeros aleatorios entre 0 y 1"
   ]
  },
  {
   "cell_type": "code",
   "execution_count": 90,
   "id": "d7bff7bd-c0cc-4cd7-a097-07afe93d1533",
   "metadata": {},
   "outputs": [
    {
     "data": {
      "text/plain": [
       "array([[0.11069331, 0.53293708, 0.62161271],\n",
       "       [0.04224811, 0.83033813, 0.89198707],\n",
       "       [0.17004374, 0.11142164, 0.04413927],\n",
       "       [0.09448602, 0.31819624, 0.44127388],\n",
       "       [0.59294446, 0.37474332, 0.84881905]])"
      ]
     },
     "execution_count": 90,
     "metadata": {},
     "output_type": "execute_result"
    }
   ],
   "source": [
    "np.random.rand(5,3) "
   ]
  },
  {
   "cell_type": "code",
   "execution_count": 99,
   "id": "e9def527-4b3b-47e6-82cb-76de4ef6365b",
   "metadata": {},
   "outputs": [
    {
     "data": {
      "text/plain": [
       "array([[10.75269147, 14.42056643, 11.52111087, 10.24002656],\n",
       "       [12.88797543, 12.99139048, 10.40455455, 13.96629261],\n",
       "       [10.82814225, 10.47423194, 12.86646583, 12.71041285]])"
      ]
     },
     "execution_count": 99,
     "metadata": {},
     "output_type": "execute_result"
    }
   ],
   "source": [
    "a, b = 10,15\n",
    "np.random. uniform(a,b, size=[3,4])"
   ]
  },
  {
   "cell_type": "code",
   "execution_count": 102,
   "id": "709808f4-2d4f-4d8b-9e68-ddb0db05a789",
   "metadata": {},
   "outputs": [
    {
     "data": {
      "text/plain": [
       "array([[-0.92435137, -0.73116903,  0.62313617,  1.17869747,  0.6340838 ],\n",
       "       [ 0.6399123 , -0.71202266, -0.03041357,  1.27663945, -0.51610246],\n",
       "       [ 0.21369462,  1.40470492,  1.54937684,  0.08815899,  0.7317569 ],\n",
       "       [-0.92487254,  1.29362443, -0.81028668,  0.98218589, -1.1571971 ]])"
      ]
     },
     "execution_count": 102,
     "metadata": {},
     "output_type": "execute_result"
    }
   ],
   "source": [
    "np.random.normal(size=[4,5])"
   ]
  },
  {
   "cell_type": "code",
   "execution_count": 104,
   "id": "a765ad62-8fc0-4498-87b4-02f9e4a6162d",
   "metadata": {},
   "outputs": [
    {
     "data": {
      "text/plain": [
       "array([[ -5.37557778, -12.01642911, -13.70889142,  -9.37110667,\n",
       "         -8.7977304 , -10.26257872],\n",
       "       [ -8.99341243,  -9.03478102,  -6.27309576, -12.89124884,\n",
       "        -10.5383969 ,  -5.92111949]])"
      ]
     },
     "execution_count": 104,
     "metadata": {},
     "output_type": "execute_result"
    }
   ],
   "source": [
    "mu, sigma = -8, 4\n",
    "np.random.normal(mu, sigma, size=[2,6])"
   ]
  },
  {
   "cell_type": "code",
   "execution_count": 5,
   "id": "be928eb9-b24f-490c-b280-4753c62b4fa2",
   "metadata": {},
   "outputs": [
    {
     "data": {
      "text/plain": [
       "(np.float64(-0.12264515147114356), np.float64(1.0071756832452254))"
      ]
     },
     "execution_count": 5,
     "metadata": {},
     "output_type": "execute_result"
    }
   ],
   "source": [
    "valores= np.random.normal(0,1, size=[100])\n",
    "np.mean(valores), np.std(valores) ##media y desviaicón estandar"
   ]
  },
  {
   "cell_type": "code",
   "execution_count": null,
   "id": "ecfd0587-5a0d-4d66-9ebe-167f43ecc93c",
   "metadata": {},
   "outputs": [],
   "source": [
    "##prducto punto, es lam ultiplización con dos vectores danod como resutlados un escalar\n",
    "   "
   ]
  },
  {
   "cell_type": "code",
   "execution_count": 7,
   "id": "ff4a552f-2461-4b1e-a75a-ae79fa50637e",
   "metadata": {},
   "outputs": [
    {
     "data": {
      "text/plain": [
       "np.int64(-32)"
      ]
     },
     "execution_count": 7,
     "metadata": {},
     "output_type": "execute_result"
    }
   ],
   "source": [
    "vec1, vec2= np. array([2,3,4]), np.array([-1,-10,0])\n",
    "np.vdot(vec1, vec2)"
   ]
  },
  {
   "cell_type": "code",
   "execution_count": 9,
   "id": "7631307a-032d-4be0-a6de-7ba6e751b0ae",
   "metadata": {},
   "outputs": [
    {
     "data": {
      "text/plain": [
       "array([-10,  -1,   0])"
      ]
     },
     "execution_count": 9,
     "metadata": {},
     "output_type": "execute_result"
    }
   ],
   "source": [
    "vec2.sort()\n",
    "vec2"
   ]
  },
  {
   "cell_type": "code",
   "execution_count": 12,
   "id": "e41ddea2-8255-4648-837b-b32769231625",
   "metadata": {},
   "outputs": [
    {
     "data": {
      "text/plain": [
       "array([  0,  -1, -10])"
      ]
     },
     "execution_count": 12,
     "metadata": {},
     "output_type": "execute_result"
    }
   ],
   "source": [
    "vec2[ : :-1]"
   ]
  },
  {
   "cell_type": "code",
   "execution_count": 9,
   "id": "fdda49a7-2d5d-48e8-81df-8805b6ace209",
   "metadata": {},
   "outputs": [],
   "source": [
    "import matplotlib.pyplot as plt ##pyplot es la clase q "
   ]
  },
  {
   "cell_type": "code",
   "execution_count": 17,
   "id": "d8e9eeaf-0945-4454-affe-f7d384f427a2",
   "metadata": {},
   "outputs": [
    {
     "data": {
      "text/plain": [
       "[<matplotlib.lines.Line2D at 0x1e460dd59f0>]"
      ]
     },
     "execution_count": 17,
     "metadata": {},
     "output_type": "execute_result"
    },
    {
     "data": {
      "image/png": "[encoded data removed]",
      "text/plain": [
       "<Figure size 640x480 with 1 Axes>"
      ]
     },
     "metadata": {},
     "output_type": "display_data"
    }
   ],
   "source": [
    "valores= np.arange(20)\n",
    "plt.plot(valores, marker='+')"
   ]
  },
  {
   "cell_type": "code",
   "execution_count": 35,
   "id": "f3b82997-0e66-4177-8842-8d0efd70f1c6",
   "metadata": {},
   "outputs": [
    {
     "data": {
      "text/plain": [
       "(array([1.20000e+01, 7.68000e+02, 1.51590e+04, 1.11765e+05, 3.20516e+05,\n",
       "        3.62218e+05, 1.59883e+05, 2.77770e+04, 1.85600e+03, 4.60000e+01]),\n",
       " array([-5.17377134, -4.16519525, -3.15661916, -2.14804306, -1.13946697,\n",
       "        -0.13089088,  0.87768521,  1.88626131,  2.8948374 ,  3.90341349,\n",
       "         4.91198958]),\n",
       " <BarContainer object of 10 artists>)"
      ]
     },
     "execution_count": 35,
     "metadata": {},
     "output_type": "execute_result"
    },
    {
     "data": {
      "image/png": "[encoded data removed]",
      "text/plain": [
       "<Figure size 640x480 with 1 Axes>"
      ]
     },
     "metadata": {},
     "output_type": "display_data"
    }
   ],
   "source": [
    "valores= np.random.normal(size=1000000\n",
    "                          )\n",
    "plt.hist (valores)"
   ]
  },
  {
   "cell_type": "code",
   "execution_count": 48,
   "id": "d612771b-2315-464f-ae11-cdedf1e5f3fc",
   "metadata": {},
   "outputs": [
    {
     "data": {
      "text/plain": [
       "(array([1.000e+00, 1.000e+00, 2.000e+00, 4.000e+00, 3.000e+00, 0.000e+00,\n",
       "        1.000e+00, 2.000e+00, 6.000e+00, 1.100e+01, 1.200e+01, 1.400e+01,\n",
       "        2.100e+01, 2.600e+01, 3.700e+01, 4.800e+01, 6.100e+01, 9.000e+01,\n",
       "        1.040e+02, 1.500e+02, 1.460e+02, 1.920e+02, 2.500e+02, 2.900e+02,\n",
       "        3.490e+02, 4.280e+02, 4.910e+02, 6.050e+02, 6.770e+02, 8.180e+02,\n",
       "        9.250e+02, 9.850e+02, 1.155e+03, 1.386e+03, 1.548e+03, 1.712e+03,\n",
       "        1.898e+03, 2.063e+03, 2.279e+03, 2.451e+03, 2.601e+03, 2.781e+03,\n",
       "        2.929e+03, 3.055e+03, 3.186e+03, 3.251e+03, 3.304e+03, 3.506e+03,\n",
       "        3.551e+03, 3.271e+03, 3.409e+03, 3.399e+03, 3.234e+03, 3.211e+03,\n",
       "        3.114e+03, 3.079e+03, 2.741e+03, 2.681e+03, 2.468e+03, 2.332e+03,\n",
       "        2.123e+03, 2.037e+03, 1.819e+03, 1.644e+03, 1.418e+03, 1.272e+03,\n",
       "        1.185e+03, 9.830e+02, 8.330e+02, 7.130e+02, 6.720e+02, 5.320e+02,\n",
       "        4.310e+02, 3.730e+02, 3.130e+02, 2.630e+02, 2.050e+02, 1.830e+02,\n",
       "        1.510e+02, 1.200e+02, 6.000e+01, 7.900e+01, 5.700e+01, 4.900e+01,\n",
       "        2.000e+01, 3.300e+01, 2.300e+01, 2.300e+01, 8.000e+00, 6.000e+00,\n",
       "        5.000e+00, 4.000e+00, 6.000e+00, 6.000e+00, 3.000e+00, 0.000e+00,\n",
       "        1.000e+00, 0.000e+00, 1.000e+00, 1.000e+00]),\n",
       " array([-4.25885711, -4.17235278, -4.08584844, -3.99934411, -3.91283978,\n",
       "        -3.82633545, -3.73983111, -3.65332678, -3.56682245, -3.48031812,\n",
       "        -3.39381379, -3.30730945, -3.22080512, -3.13430079, -3.04779646,\n",
       "        -2.96129212, -2.87478779, -2.78828346, -2.70177913, -2.61527479,\n",
       "        -2.52877046, -2.44226613, -2.3557618 , -2.26925746, -2.18275313,\n",
       "        -2.0962488 , -2.00974447, -1.92324014, -1.8367358 , -1.75023147,\n",
       "        -1.66372714, -1.57722281, -1.49071847, -1.40421414, -1.31770981,\n",
       "        -1.23120548, -1.14470114, -1.05819681, -0.97169248, -0.88518815,\n",
       "        -0.79868382, -0.71217948, -0.62567515, -0.53917082, -0.45266649,\n",
       "        -0.36616215, -0.27965782, -0.19315349, -0.10664916, -0.02014482,\n",
       "         0.06635951,  0.15286384,  0.23936817,  0.32587251,  0.41237684,\n",
       "         0.49888117,  0.5853855 ,  0.67188983,  0.75839417,  0.8448985 ,\n",
       "         0.93140283,  1.01790716,  1.1044115 ,  1.19091583,  1.27742016,\n",
       "         1.36392449,  1.45042883,  1.53693316,  1.62343749,  1.70994182,\n",
       "         1.79644616,  1.88295049,  1.96945482,  2.05595915,  2.14246348,\n",
       "         2.22896782,  2.31547215,  2.40197648,  2.48848081,  2.57498515,\n",
       "         2.66148948,  2.74799381,  2.83449814,  2.92100248,  3.00750681,\n",
       "         3.09401114,  3.18051547,  3.2670198 ,  3.35352414,  3.44002847,\n",
       "         3.5265328 ,  3.61303713,  3.69954147,  3.7860458 ,  3.87255013,\n",
       "         3.95905446,  4.0455588 ,  4.13206313,  4.21856746,  4.30507179,\n",
       "         4.39157613]),\n",
       " <BarContainer object of 100 artists>)"
      ]
     },
     "execution_count": 48,
     "metadata": {},
     "output_type": "execute_result"
    },
    {
     "data": {
      "image/png": "[encoded data removed]",
      "text/plain": [
       "<Figure size 640x480 with 1 Axes>"
      ]
     },
     "metadata": {},
     "output_type": "display_data"
    }
   ],
   "source": [
    "#crear un arreglo den umeros aleatorios con distribución normal\n",
    "var= np.random.normal (0,1, size= 100000);\n",
    "nbin=100\n",
    "plt.hist(var ,nbin)### número de rectangulitos \n"
   ]
  },
  {
   "cell_type": "code",
   "execution_count": 51,
   "id": "ff22dc1f-6d1d-4c8e-b50f-84d42d63fc2a",
   "metadata": {},
   "outputs": [],
   "source": [
    "import pandas as pd ##pandas sirve para hacer sries u data frames "
   ]
  },
  {
   "cell_type": "code",
   "execution_count": 52,
   "id": "15cce184-5b64-4916-843f-e4775f8747cd",
   "metadata": {},
   "outputs": [
    {
     "data": {
      "text/plain": [
       "0       4\n",
       "1       5\n",
       "2       6\n",
       "3       7\n",
       "4       8\n",
       "5       9\n",
       "6    casa\n",
       "dtype: object"
      ]
     },
     "execution_count": 52,
     "metadata": {},
     "output_type": "execute_result"
    }
   ],
   "source": [
    " pd.Series([4,5,6,7,8,9, 'casa']) ## esto crea una serie, la oclumna 1 es el indice, es una tabla"
   ]
  },
  {
   "cell_type": "code",
   "execution_count": 67,
   "id": "79e298b2-2a95-42c9-9c32-69148df4feab",
   "metadata": {},
   "outputs": [
    {
     "data": {
      "text/plain": [
       "a    5\n",
       "b    6\n",
       "c    7\n",
       "d    8\n",
       "e    9\n",
       "dtype: int64"
      ]
     },
     "execution_count": 67,
     "metadata": {},
     "output_type": "execute_result"
    }
   ],
   "source": [
    "serie= pd.Series(\n",
    "    [5,6,7,8,9], index= ['a', 'b', 'c', 'd', 'e'])  ## cambiarlos indices a la primera columna \n",
    "serie"
   ]
  },
  {
   "cell_type": "code",
   "execution_count": 69,
   "id": "6ba44c94-4b88-457e-ba8f-f0952ec547e5",
   "metadata": {},
   "outputs": [
    {
     "data": {
      "text/plain": [
       "np.int64(6)"
      ]
     },
     "execution_count": 69,
     "metadata": {},
     "output_type": "execute_result"
    }
   ],
   "source": [
    "##slicing en series\n",
    "serie['b']"
   ]
  },
  {
   "cell_type": "code",
   "execution_count": 78,
   "id": "255b5836-0f29-49c7-90b6-201623701ad2",
   "metadata": {},
   "outputs": [
    {
     "data": {
      "text/plain": [
       "0    5\n",
       "1    6\n",
       "2    7\n",
       "3    8\n",
       "4    9\n",
       "dtype: int64"
      ]
     },
     "execution_count": 78,
     "metadata": {},
     "output_type": "execute_result"
    }
   ],
   "source": [
    "serie= pd.Series(\n",
    "    [5,6,7,8,9])  ## cambiarlos indices a la primera columna \n",
    "serie"
   ]
  },
  {
   "cell_type": "code",
   "execution_count": 79,
   "id": "d305b4d4-5724-40e8-ac8a-ef1077c4dd4b",
   "metadata": {},
   "outputs": [
    {
     "data": {
      "text/plain": [
       "np.int64(7)"
      ]
     },
     "execution_count": 79,
     "metadata": {},
     "output_type": "execute_result"
    }
   ],
   "source": [
    "serie[2]\n"
   ]
  },
  {
   "cell_type": "code",
   "execution_count": null,
   "id": "7bd5cf57-5f17-45af-84ed-28f27775e77e",
   "metadata": {},
   "outputs": [],
   "source": []
  },
  {
   "cell_type": "code",
   "execution_count": null,
   "id": "d778d64e-706f-4baa-a872-0a08f80d8166",
   "metadata": {},
   "outputs": [],
   "source": []
  },
  {
   "cell_type": "code",
   "execution_count": null,
   "id": "2e4d49b4-92f3-4ab2-95d3-46ca86ee3ba8",
   "metadata": {},
   "outputs": [],
   "source": []
  }
 ],
 "metadata": {
  "kernelspec": {
   "display_name": "Python 3 (ipykernel)",
   "language": "python",
   "name": "python3"
  },
  "language_info": {
   "codemirror_mode": {
    "name": "ipython",
    "version": 3
   },
   "file_extension": ".py",
   "mimetype": "text/x-python",
   "name": "python",
   "nbconvert_exporter": "python",
   "pygments_lexer": "ipython3",
   "version": "3.10.4"
  }
 },
 "nbformat": 4,
 "nbformat_minor": 5
}
