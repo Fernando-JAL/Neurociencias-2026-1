{
 "cells": [
  {
   "cell_type": "markdown",
   "id": "708ac872-c342-40ce-9eee-dad555bcd59b",
   "metadata": {},
   "source": [
    "# tipos de datos\n",
    "- numerico\n",
    "- string\n",
    "- sequence\n",
    "- dict"
   ]
  },
  {
   "cell_type": "code",
   "execution_count": 3,
   "id": "44e86e37-5e34-45b3-9700-e46f4d160bde",
   "metadata": {},
   "outputs": [
    {
     "data": {
      "text/plain": [
       "1"
      ]
     },
     "execution_count": 3,
     "metadata": {},
     "output_type": "execute_result"
    }
   ],
   "source": [
    "a=1\n",
    "a"
   ]
  },
  {
   "cell_type": "code",
   "execution_count": 4,
   "id": "7e68ad91-0118-4a15-a41b-ea48f4544856",
   "metadata": {},
   "outputs": [
    {
     "data": {
      "text/plain": [
       "123456789123456789123456789"
      ]
     },
     "execution_count": 4,
     "metadata": {},
     "output_type": "execute_result"
    }
   ],
   "source": [
    "b=123456789123456789123456789\n",
    "b"
   ]
  },
  {
   "cell_type": "code",
   "execution_count": 5,
   "id": "c707be34-f998-45c3-bba2-b391b9d397e5",
   "metadata": {},
   "outputs": [
    {
     "data": {
      "text/plain": [
       "(int, int)"
      ]
     },
     "execution_count": 5,
     "metadata": {},
     "output_type": "execute_result"
    }
   ],
   "source": [
    "type(a), type(b)"
   ]
  },
  {
   "cell_type": "code",
   "execution_count": 6,
   "id": "37856e88-5140-48ec-ba32-ea6b89d18cfc",
   "metadata": {},
   "outputs": [
    {
     "data": {
      "text/plain": [
       "float"
      ]
     },
     "execution_count": 6,
     "metadata": {},
     "output_type": "execute_result"
    }
   ],
   "source": [
    "type(1.2)"
   ]
  },
  {
   "cell_type": "code",
   "execution_count": null,
   "id": "70294111-9258-4bd1-bfbb-5c4d304c4463",
   "metadata": {},
   "outputs": [],
   "source": [
    "type(i) "
   ]
  },
  {
   "cell_type": "code",
   "execution_count": 7,
   "id": "5dfc22d3-0501-4357-b056-9e35a7dfbf1d",
   "metadata": {},
   "outputs": [
    {
     "data": {
      "text/plain": [
       "(1+3j)"
      ]
     },
     "execution_count": 7,
     "metadata": {},
     "output_type": "execute_result"
    }
   ],
   "source": [
    "complex (1,3)"
   ]
  },
  {
   "cell_type": "code",
   "execution_count": 8,
   "id": "6e49a576-1dea-4464-ae93-85089db86f2c",
   "metadata": {},
   "outputs": [
    {
     "data": {
      "text/plain": [
       "(4+7j)"
      ]
     },
     "execution_count": 8,
     "metadata": {},
     "output_type": "execute_result"
    }
   ],
   "source": [
    "(4+7j)"
   ]
  },
  {
   "cell_type": "code",
   "execution_count": 20,
   "id": "cd3c1087-f12b-4f26-972c-43d726b0c4f3",
   "metadata": {},
   "outputs": [],
   "source": [
    "c= complex(3,1)"
   ]
  },
  {
   "cell_type": "code",
   "execution_count": 12,
   "id": "d0fe334e-a063-479e-a8d2-7f2320304b99",
   "metadata": {},
   "outputs": [
    {
     "data": {
      "text/plain": [
       "1j"
      ]
     },
     "execution_count": 12,
     "metadata": {},
     "output_type": "execute_result"
    }
   ],
   "source": [
    "complex(0,1)"
   ]
  },
  {
   "cell_type": "code",
   "execution_count": 13,
   "id": "1d3d51b4-992d-470b-a4f1-ef365ef311bd",
   "metadata": {},
   "outputs": [
    {
     "data": {
      "text/plain": [
       "(3+1j)"
      ]
     },
     "execution_count": 13,
     "metadata": {},
     "output_type": "execute_result"
    }
   ],
   "source": [
    "complex(0,1)+3"
   ]
  },
  {
   "cell_type": "code",
   "execution_count": 21,
   "id": "2dfab350-46f8-42d1-961b-4aa1449152f3",
   "metadata": {},
   "outputs": [
    {
     "data": {
      "text/plain": [
       "(3+3j)"
      ]
     },
     "execution_count": 21,
     "metadata": {},
     "output_type": "execute_result"
    }
   ],
   "source": [
    "#quiero sumar 2j al valr de c \n",
    "c + complex(0, 2)"
   ]
  },
  {
   "cell_type": "code",
   "execution_count": 22,
   "id": "f70d58fa-9794-4720-930c-1d72398d9100",
   "metadata": {},
   "outputs": [
    {
     "data": {
      "text/plain": [
       "100"
      ]
     },
     "execution_count": 22,
     "metadata": {},
     "output_type": "execute_result"
    }
   ],
   "source": [
    "56 + 44"
   ]
  },
  {
   "cell_type": "code",
   "execution_count": 23,
   "id": "8b245e57-664a-4792-bcf7-592fb31bfd02",
   "metadata": {},
   "outputs": [
    {
     "data": {
      "text/plain": [
       "720"
      ]
     },
     "execution_count": 23,
     "metadata": {},
     "output_type": "execute_result"
    }
   ],
   "source": [
    "800-80"
   ]
  },
  {
   "cell_type": "code",
   "execution_count": 24,
   "id": "6644a011-32b0-4130-ae31-db31a5c7346f",
   "metadata": {},
   "outputs": [
    {
     "data": {
      "text/plain": [
       "783"
      ]
     },
     "execution_count": 24,
     "metadata": {},
     "output_type": "execute_result"
    }
   ],
   "source": [
    "87*9"
   ]
  },
  {
   "cell_type": "code",
   "execution_count": 25,
   "id": "c7c6c9ef-5db3-492f-b626-9bcdba7b12d7",
   "metadata": {},
   "outputs": [
    {
     "data": {
      "text/plain": [
       "1.8521739130434782"
      ]
     },
     "execution_count": 25,
     "metadata": {},
     "output_type": "execute_result"
    }
   ],
   "source": [
    "85.2/46"
   ]
  },
  {
   "cell_type": "code",
   "execution_count": 26,
   "id": "e813577e-b56a-46f2-b626-ef096a272dff",
   "metadata": {},
   "outputs": [
    {
     "data": {
      "text/plain": [
       "9"
      ]
     },
     "execution_count": 26,
     "metadata": {},
     "output_type": "execute_result"
    }
   ],
   "source": [
    "3**2 #potencia"
   ]
  },
  {
   "cell_type": "code",
   "execution_count": 27,
   "id": "695ec791-8fda-4d17-8fd5-f33e489c0537",
   "metadata": {},
   "outputs": [
    {
     "data": {
      "text/plain": [
       "125"
      ]
     },
     "execution_count": 27,
     "metadata": {},
     "output_type": "execute_result"
    }
   ],
   "source": [
    "5**3"
   ]
  },
  {
   "cell_type": "code",
   "execution_count": 28,
   "id": "0df9ee61-462a-409f-b5a0-449534c26acc",
   "metadata": {},
   "outputs": [
    {
     "data": {
      "text/plain": [
       "3.0"
      ]
     },
     "execution_count": 28,
     "metadata": {},
     "output_type": "execute_result"
    }
   ],
   "source": [
    "9**0.5"
   ]
  },
  {
   "cell_type": "code",
   "execution_count": 29,
   "id": "ed0757b9-b283-42c9-847c-5cdc03e91136",
   "metadata": {},
   "outputs": [
    {
     "data": {
      "text/plain": [
       "0"
      ]
     },
     "execution_count": 29,
     "metadata": {},
     "output_type": "execute_result"
    }
   ],
   "source": [
    "16%4 #para calucular el residuo\n"
   ]
  },
  {
   "cell_type": "code",
   "execution_count": 30,
   "id": "f753ca5d-791b-44d3-b170-347802ba5265",
   "metadata": {},
   "outputs": [
    {
     "data": {
      "text/plain": [
       "4"
      ]
     },
     "execution_count": 30,
     "metadata": {},
     "output_type": "execute_result"
    }
   ],
   "source": [
    "16//4 #divsion baja (sin decimales) "
   ]
  },
  {
   "cell_type": "code",
   "execution_count": 31,
   "id": "6324db1d-cfd8-4077-bf3e-79faf2b0b6b4",
   "metadata": {},
   "outputs": [],
   "source": [
    "a=8\n",
    "b=3\n",
    "c=42"
   ]
  },
  {
   "cell_type": "code",
   "execution_count": 32,
   "id": "dbc54028-db2c-43f3-b5a8-0de2e5885e8f",
   "metadata": {},
   "outputs": [
    {
     "data": {
      "text/plain": [
       "(8, 3, 42)"
      ]
     },
     "execution_count": 32,
     "metadata": {},
     "output_type": "execute_result"
    }
   ],
   "source": [
    "a,b,c=8,3,42\n",
    "a, b, c"
   ]
  },
  {
   "cell_type": "code",
   "execution_count": 42,
   "id": "06628d53-f1e0-4034-a874-de0d67717f68",
   "metadata": {},
   "outputs": [
    {
     "data": {
      "text/plain": [
       "21.25"
      ]
     },
     "execution_count": 42,
     "metadata": {},
     "output_type": "execute_result"
    }
   ],
   "source": [
    " 42/8 + 3*8 - (8**3) % (42/3)"
   ]
  },
  {
   "cell_type": "code",
   "execution_count": 44,
   "id": "f401d09d-c08f-43db-9a8b-c8e9c092b00f",
   "metadata": {},
   "outputs": [
    {
     "data": {
      "text/plain": [
       "21.25"
      ]
     },
     "execution_count": 44,
     "metadata": {},
     "output_type": "execute_result"
    }
   ],
   "source": [
    " c/a + b*a - (a**b) % (c/b)"
   ]
  },
  {
   "cell_type": "code",
   "execution_count": 40,
   "id": "cecf5faf-a543-47c4-8202-a9730e43549e",
   "metadata": {},
   "outputs": [
    {
     "data": {
      "text/plain": [
       "26.476190476190478"
      ]
     },
     "execution_count": 40,
     "metadata": {},
     "output_type": "execute_result"
    }
   ],
   "source": [
    "a/b + b*a - a**b/c%b"
   ]
  },
  {
   "cell_type": "code",
   "execution_count": 45,
   "id": "b521fa91-0a3e-48fe-99fd-9bd9293ff9de",
   "metadata": {},
   "outputs": [
    {
     "data": {
      "text/plain": [
       "'esto es una cadena de texto'"
      ]
     },
     "execution_count": 45,
     "metadata": {},
     "output_type": "execute_result"
    }
   ],
   "source": [
    "\"esto es una cadena de texto\""
   ]
  },
  {
   "cell_type": "code",
   "execution_count": 49,
   "id": "aba0cb3f-a330-442c-917e-ca415d4a5294",
   "metadata": {},
   "outputs": [
    {
     "data": {
      "text/plain": [
       "('cadena de texto 1', 'cadena de texto 2')"
      ]
     },
     "execution_count": 49,
     "metadata": {},
     "output_type": "execute_result"
    }
   ],
   "source": [
    "a,b=\"cadena de texto 1\", \"cadena de texto 2\"\n",
    "a,b"
   ]
  },
  {
   "cell_type": "code",
   "execution_count": 55,
   "id": "f586615c-86e9-4fb1-9248-8d63bcb062bd",
   "metadata": {},
   "outputs": [
    {
     "name": "stdout",
     "output_type": "stream",
     "text": [
      "cadena de texto 1 \t cadena de texto 2 otra cosa 89.5 lo que sea\n"
     ]
    }
   ],
   "source": [
    "print(a,\"\\t\", b, 'otra cosa', 89.5, 'lo que sea')"
   ]
  },
  {
   "cell_type": "code",
   "execution_count": 56,
   "id": "72ba61aa-4c00-4b28-8329-afe4cfdc127e",
   "metadata": {},
   "outputs": [],
   "source": [
    "#cadena '\\t' tabulacion "
   ]
  },
  {
   "cell_type": "code",
   "execution_count": 57,
   "id": "51561a76-c3a9-4589-928d-58d026203d9c",
   "metadata": {},
   "outputs": [
    {
     "name": "stdout",
     "output_type": "stream",
     "text": [
      "C:\n",
      "ombre_de_la_carpeta\tareas\n"
     ]
    }
   ],
   "source": [
    "print('C:\\nombre_de_la_carpeta\\tareas')"
   ]
  },
  {
   "cell_type": "code",
   "execution_count": 53,
   "id": "56ae2820-c96b-4b7e-a01d-48b6d333c973",
   "metadata": {},
   "outputs": [
    {
     "name": "stdout",
     "output_type": "stream",
     "text": [
      "primera linea de texto\n",
      "segunda linea\n",
      "tercera linea\n"
     ]
    }
   ],
   "source": [
    "print(\"\"\"primera linea de texto\n",
    "segunda linea\n",
    "tercera linea\"\"\")"
   ]
  },
  {
   "cell_type": "code",
   "execution_count": 54,
   "id": "14daafff-fa24-49ab-9a94-18a05a029e7f",
   "metadata": {},
   "outputs": [
    {
     "data": {
      "text/plain": [
       "('cadena de texto 1', 'cadena de texto 2')"
      ]
     },
     "execution_count": 54,
     "metadata": {},
     "output_type": "execute_result"
    }
   ],
   "source": [
    "a,b"
   ]
  },
  {
   "cell_type": "code",
   "execution_count": 58,
   "id": "aed653c0-5bef-40f0-8440-c645bf37cff5",
   "metadata": {},
   "outputs": [],
   "source": [
    "a, b= 'ah','be'"
   ]
  },
  {
   "cell_type": "code",
   "execution_count": 59,
   "id": "8328b8ac-effb-4447-b3c4-29eb40a3cf4f",
   "metadata": {},
   "outputs": [
    {
     "data": {
      "text/plain": [
       "'ahbe'"
      ]
     },
     "execution_count": 59,
     "metadata": {},
     "output_type": "execute_result"
    }
   ],
   "source": [
    "a+b"
   ]
  },
  {
   "cell_type": "code",
   "execution_count": null,
   "id": "f3582ab9-d124-480d-8171-b83c21009fbe",
   "metadata": {},
   "outputs": [],
   "source": [
    "#unica habilitada es la + sin nuemeros "
   ]
  },
  {
   "cell_type": "code",
   "execution_count": 61,
   "id": "a2e3ff60-efca-4a95-b452-4441fc97e6c2",
   "metadata": {},
   "outputs": [],
   "source": [
    "#numeros con cadenas tambien jala la multiplicacion "
   ]
  },
  {
   "cell_type": "code",
   "execution_count": 62,
   "id": "ce57f092-b2a3-45f9-ab50-829a91930df5",
   "metadata": {},
   "outputs": [
    {
     "data": {
      "text/plain": [
       "'ahahah'"
      ]
     },
     "execution_count": 62,
     "metadata": {},
     "output_type": "execute_result"
    }
   ],
   "source": [
    "3*a"
   ]
  },
  {
   "cell_type": "code",
   "execution_count": 63,
   "id": "18eb521a-6e9f-4b45-85f2-51e8fe2f56ec",
   "metadata": {},
   "outputs": [
    {
     "data": {
      "text/plain": [
       "'ahahahbebeah'"
      ]
     },
     "execution_count": 63,
     "metadata": {},
     "output_type": "execute_result"
    }
   ],
   "source": [
    "3*a + 2*b + a"
   ]
  },
  {
   "cell_type": "code",
   "execution_count": 64,
   "id": "f4ffd65c-e123-453c-aebd-3fe237ab75ea",
   "metadata": {},
   "outputs": [
    {
     "data": {
      "text/plain": [
       "'ahahah'"
      ]
     },
     "execution_count": 64,
     "metadata": {},
     "output_type": "execute_result"
    }
   ],
   "source": [
    "a*3"
   ]
  },
  {
   "cell_type": "code",
   "execution_count": 65,
   "id": "4c3cf57e-c122-4f54-a12c-3e0e98ada87f",
   "metadata": {},
   "outputs": [
    {
     "data": {
      "text/plain": [
       "('ahbe', 'beah')"
      ]
     },
     "execution_count": 65,
     "metadata": {},
     "output_type": "execute_result"
    }
   ],
   "source": [
    "a+b, b+a"
   ]
  },
  {
   "cell_type": "markdown",
   "id": "82db5cd8-2c00-4388-aeb4-e2bcc72421c9",
   "metadata": {},
   "source": [
    "# slicing = rebanando"
   ]
  },
  {
   "cell_type": "code",
   "execution_count": 66,
   "id": "6b04c959-2fe9-411a-9f66-2ce2c58dbb5f",
   "metadata": {},
   "outputs": [],
   "source": [
    "a= 'hola, jajajajjaja saludos XD, OwO'"
   ]
  },
  {
   "cell_type": "code",
   "execution_count": 67,
   "id": "fe6408c2-9630-46cb-a2df-c4c1fe05b057",
   "metadata": {},
   "outputs": [],
   "source": [
    "b='fuga' "
   ]
  },
  {
   "cell_type": "code",
   "execution_count": 68,
   "id": "c8b673cc-09b8-422b-a6eb-e3fed1e8189d",
   "metadata": {},
   "outputs": [
    {
     "data": {
      "text/plain": [
       "'g'"
      ]
     },
     "execution_count": 68,
     "metadata": {},
     "output_type": "execute_result"
    }
   ],
   "source": [
    "b[2]"
   ]
  },
  {
   "cell_type": "code",
   "execution_count": 70,
   "id": "ecf79c9f-bd4f-41c9-973b-8c2da9e6dc38",
   "metadata": {},
   "outputs": [],
   "source": [
    "#se empieza a contar desde 0"
   ]
  },
  {
   "cell_type": "code",
   "execution_count": 71,
   "id": "8776d3e7-a347-42dd-b85a-4efed8d7a40d",
   "metadata": {},
   "outputs": [
    {
     "data": {
      "text/plain": [
       "4"
      ]
     },
     "execution_count": 71,
     "metadata": {},
     "output_type": "execute_result"
    }
   ],
   "source": [
    "len(b)"
   ]
  },
  {
   "cell_type": "code",
   "execution_count": 72,
   "id": "68e45e8e-77ca-4084-a813-b1766a89367b",
   "metadata": {},
   "outputs": [
    {
     "data": {
      "text/plain": [
       "'hola, jajajajjaja saludos XD, OwO'"
      ]
     },
     "execution_count": 72,
     "metadata": {},
     "output_type": "execute_result"
    }
   ],
   "source": [
    "a"
   ]
  },
  {
   "cell_type": "code",
   "execution_count": 73,
   "id": "96de1d49-b98f-436a-9fdf-a3010953d96b",
   "metadata": {},
   "outputs": [
    {
     "data": {
      "text/plain": [
       "'saludos'"
      ]
     },
     "execution_count": 73,
     "metadata": {},
     "output_type": "execute_result"
    }
   ],
   "source": [
    "pos_i=18\n",
    "pos_f=25\n",
    "a[18:25]"
   ]
  },
  {
   "cell_type": "code",
   "execution_count": 76,
   "id": "f6c5feed-0e7d-4485-a5b9-d31873845583",
   "metadata": {},
   "outputs": [
    {
     "data": {
      "text/plain": [
       "'fu'"
      ]
     },
     "execution_count": 76,
     "metadata": {},
     "output_type": "execute_result"
    }
   ],
   "source": [
    "b[0:2]"
   ]
  },
  {
   "cell_type": "code",
   "execution_count": 80,
   "id": "b1e8280d-ffcc-4f6a-a504-a87da2f0cd32",
   "metadata": {},
   "outputs": [
    {
     "data": {
      "text/plain": [
       "',j'"
      ]
     },
     "execution_count": 80,
     "metadata": {},
     "output_type": "execute_result"
    }
   ],
   "source": [
    "a [4:18:8]\n",
    "#el rango funciona como ranger (pos_i, pos_f, salto) "
   ]
  },
  {
   "cell_type": "code",
   "execution_count": 84,
   "id": "161fa8cd-2255-49a5-83d2-8b956570119e",
   "metadata": {},
   "outputs": [
    {
     "data": {
      "text/plain": [
       "(33, 'D')"
      ]
     },
     "execution_count": 84,
     "metadata": {},
     "output_type": "execute_result"
    }
   ],
   "source": [
    "len(a), a[27]"
   ]
  },
  {
   "cell_type": "code",
   "execution_count": 85,
   "id": "5f34ce25-a8ab-45ef-a869-adcece2fab0f",
   "metadata": {},
   "outputs": [
    {
     "data": {
      "text/plain": [
       "'O'"
      ]
     },
     "execution_count": 85,
     "metadata": {},
     "output_type": "execute_result"
    }
   ],
   "source": [
    "a[-1]"
   ]
  },
  {
   "cell_type": "code",
   "execution_count": 86,
   "id": "a7efeadd-ab16-4fd9-a316-b9be5d983b88",
   "metadata": {},
   "outputs": [
    {
     "ename": "IndexError",
     "evalue": "string index out of range",
     "output_type": "error",
     "traceback": [
      "\u001b[31m---------------------------------------------------------------------------\u001b[39m",
      "\u001b[31mIndexError\u001b[39m                                Traceback (most recent call last)",
      "\u001b[36mCell\u001b[39m\u001b[36m \u001b[39m\u001b[32mIn[86]\u001b[39m\u001b[32m, line 1\u001b[39m\n\u001b[32m----> \u001b[39m\u001b[32m1\u001b[39m \u001b[43ma\u001b[49m\u001b[43m[\u001b[49m\u001b[43m-\u001b[49m\u001b[32;43m50\u001b[39;49m\u001b[43m]\u001b[49m\n",
      "\u001b[31mIndexError\u001b[39m: string index out of range"
     ]
    }
   ],
   "source": [
    "a[-50]"
   ]
  },
  {
   "cell_type": "code",
   "execution_count": 89,
   "id": "bca0de84-9260-439e-bb19-b9815d94a6fa",
   "metadata": {},
   "outputs": [],
   "source": [
    "x='hola jolines chayotes verdes'"
   ]
  },
  {
   "cell_type": "code",
   "execution_count": 90,
   "id": "e7d8d9aa-ffce-4b7a-8607-15c1a9aa1ea3",
   "metadata": {},
   "outputs": [
    {
     "data": {
      "text/plain": [
       "'verdes'"
      ]
     },
     "execution_count": 90,
     "metadata": {},
     "output_type": "execute_result"
    }
   ],
   "source": [
    "x[-6:]"
   ]
  },
  {
   "cell_type": "code",
   "execution_count": 92,
   "id": "fdcba4ea-d7d5-4ac5-a519-dd6a34688951",
   "metadata": {},
   "outputs": [
    {
     "data": {
      "text/plain": [
       "'hola'"
      ]
     },
     "execution_count": 92,
     "metadata": {},
     "output_type": "execute_result"
    }
   ],
   "source": [
    "x[:4]"
   ]
  },
  {
   "cell_type": "code",
   "execution_count": 94,
   "id": "02404def-2591-4c1a-ab94-c2002a12482e",
   "metadata": {},
   "outputs": [
    {
     "data": {
      "text/plain": [
       "('hola, jajajajjaja saludos XD, OwO', 'hola jolines chayotes verdes')"
      ]
     },
     "execution_count": 94,
     "metadata": {},
     "output_type": "execute_result"
    }
   ],
   "source": [
    "a[:], x[:]"
   ]
  },
  {
   "cell_type": "code",
   "execution_count": 95,
   "id": "0890f2d6-1ec4-44a0-b4d9-095d75fd7279",
   "metadata": {},
   "outputs": [
    {
     "data": {
      "text/plain": [
       "'sedrev setoyahc seniloj aloh'"
      ]
     },
     "execution_count": 95,
     "metadata": {},
     "output_type": "execute_result"
    }
   ],
   "source": [
    "x[::-1]"
   ]
  },
  {
   "cell_type": "markdown",
   "id": "e66bfbbd-477d-4ea7-adb1-92a752c4001a",
   "metadata": {},
   "source": [
    "# tarea"
   ]
  },
  {
   "cell_type": "code",
   "execution_count": null,
   "id": "7e246f25-eddb-41d8-9074-bbfc4fe8b75c",
   "metadata": {},
   "outputs": [],
   "source": [
    "¿que es que una cadena sea inmutable?"
   ]
  }
 ],
 "metadata": {
  "kernelspec": {
   "display_name": "Python 3 (ipykernel)",
   "language": "python",
   "name": "python3"
  },
  "language_info": {
   "codemirror_mode": {
    "name": "ipython",
    "version": 3
   },
   "file_extension": ".py",
   "mimetype": "text/x-python",
   "name": "python",
   "nbconvert_exporter": "python",
   "pygments_lexer": "ipython3",
   "version": "3.13.5"
  }
 },
 "nbformat": 4,
 "nbformat_minor": 5
}
