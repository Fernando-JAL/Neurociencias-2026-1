{
 "cells": [
  {
   "cell_type": "code",
   "execution_count": 4,
   "id": "e235ddfd-89d3-4eb0-b2f1-a376cd6cae0c",
   "metadata": {},
   "outputs": [
    {
     "data": {
      "text/plain": [
       "False"
      ]
     },
     "execution_count": 4,
     "metadata": {},
     "output_type": "execute_result"
    }
   ],
   "source": [
    "variable= 5.2\n",
    "isinstance(variable, int)"
   ]
  },
  {
   "cell_type": "code",
   "execution_count": 15,
   "id": "f6c9f467-1a0d-40a4-9a0d-05b6e959af27",
   "metadata": {},
   "outputs": [],
   "source": [
    "def división (dividendo, divisor): ##esto  asigna los argumentos por posición\n",
    "    resultado= dividendo/divisor\n",
    "    return resultado"
   ]
  },
  {
   "cell_type": "code",
   "execution_count": 13,
   "id": "84e37a87-f0a5-4c50-8f66-07fabba58405",
   "metadata": {},
   "outputs": [
    {
     "data": {
      "text/plain": [
       "2.0"
      ]
     },
     "execution_count": 13,
     "metadata": {},
     "output_type": "execute_result"
    }
   ],
   "source": [
    "división( 4 ,2 )"
   ]
  },
  {
   "cell_type": "code",
   "execution_count": 18,
   "id": "d1949819-c384-4e16-a449-aff751210391",
   "metadata": {},
   "outputs": [
    {
     "data": {
      "text/plain": [
       "0.5"
      ]
     },
     "execution_count": 18,
     "metadata": {},
     "output_type": "execute_result"
    }
   ],
   "source": [
    "división(divisor=8, dividendo=4) ## argumentos por nombre"
   ]
  },
  {
   "cell_type": "code",
   "execution_count": 21,
   "id": "1886cb17-0121-4fc8-bd62-6108bffee688",
   "metadata": {},
   "outputs": [],
   "source": [
    "def división (dividendo, divisor, extra=0): ##la variable extra tiene un valor de 0 por default\n",
    "    resultado= dividendo/divisor+ extra\n",
    "    return resultado"
   ]
  },
  {
   "cell_type": "code",
   "execution_count": 24,
   "id": "74ebe91e-bba8-4335-a069-88ada595c407",
   "metadata": {},
   "outputs": [
    {
     "data": {
      "text/plain": [
       "7.5"
      ]
     },
     "execution_count": 24,
     "metadata": {},
     "output_type": "execute_result"
    }
   ],
   "source": [
    "división(5,2, extra=5)"
   ]
  },
  {
   "cell_type": "markdown",
   "id": "cad90996-ca28-46a7-ae17-97917c011750",
   "metadata": {},
   "source": [
    "# Funciones recursivas\n"
   ]
  },
  {
   "cell_type": "code",
   "execution_count": 34,
   "id": "f942caa2-3eef-42a9-aae6-f12e3612d0d4",
   "metadata": {},
   "outputs": [
    {
     "name": "stdout",
     "output_type": "stream",
     "text": [
      "3\n",
      "2\n",
      "1\n",
      "boom\n",
      "fin de la función 0\n",
      "fin de la función 1\n",
      "fin de la función 2\n",
      "fin de la función 3\n"
     ]
    }
   ],
   "source": [
    "def cuenta_atras(n):\n",
    "    if n >0:##esto evita q la función sea infinita\n",
    "        print(n)\n",
    "        cuenta_atras(n-1)\n",
    "    else:\n",
    "        print(\"boom\")\n",
    "    print(\"fin de la función\", n) ##aquí el monito camina hacia arriba, hagamos de cuenta q hicimos una escalera 3,2,1\n",
    "    ## y al llegan a fin de la función en el nivel de indentación de if, nos regresamos hacia arriba 0,1,2,3\n",
    "\n",
    "cuenta_atras(3)      \n"
   ]
  },
  {
   "cell_type": "code",
   "execution_count": null,
   "id": "ddc4d605-f183-4637-b0e5-e65b4773b388",
   "metadata": {},
   "outputs": [],
   "source": [
    "##Tareaaaaaa, hacer factorial n!=n.(n-1)\n",
    "##sumatorio 5i = 1+sumatoria de 5i"
   ]
  },
  {
   "cell_type": "markdown",
   "id": "d18187d7-a47a-4547-b96b-abcb14fb994c",
   "metadata": {},
   "source": [
    "# Función de print"
   ]
  },
  {
   "cell_type": "code",
   "execution_count": 41,
   "id": "72651f71-1efe-4180-8ac6-feed0da48665",
   "metadata": {},
   "outputs": [
    {
     "name": "stdout",
     "output_type": "stream",
     "text": [
      "el valor de la variable 46.2 8\n"
     ]
    }
   ],
   "source": [
    "variable, variable2 = 46.2, 8 ##flotantes\n",
    "print(\"el valor de la variable\", variable, variable2) ##imprime string y flotante"
   ]
  },
  {
   "cell_type": "code",
   "execution_count": 42,
   "id": "76ef03c7-361a-4bf2-bbfa-ec181c8c5ef4",
   "metadata": {},
   "outputs": [
    {
     "name": "stdout",
     "output_type": "stream",
     "text": [
      "el valor de la variabñe es 46.2, 8\n"
     ]
    }
   ],
   "source": [
    "print(f\"el valor de la variabñe es {variable}, {variable2}\")## f significa con formato"
   ]
  },
  {
   "cell_type": "code",
   "execution_count": 44,
   "id": "7a17be89-8e65-49ed-9d6a-caba600639ce",
   "metadata": {},
   "outputs": [
    {
     "name": "stdout",
     "output_type": "stream",
     "text": [
      "el valor de la variabñe es 46.2, 8\n"
     ]
    }
   ],
   "source": [
    "print(\"el valor de la variabñe es {}, {}\".format(variable, variable2))##asigna las llaves por posición"
   ]
  },
  {
   "cell_type": "code",
   "execution_count": 45,
   "id": "66b02667-aecc-4c03-a5ab-d5f1d6369b4f",
   "metadata": {},
   "outputs": [
    {
     "name": "stdout",
     "output_type": "stream",
     "text": [
      "el valor de la variabñe es 8, 46.2\n"
     ]
    }
   ],
   "source": [
    "print(\"el valor de la variabñe es {1}, {0}\".format(variable, variable2))"
   ]
  },
  {
   "cell_type": "code",
   "execution_count": 52,
   "id": "734e0d6b-059e-4023-bcd5-1e01eb7b74e7",
   "metadata": {},
   "outputs": [],
   "source": [
    "import numpy"
   ]
  },
  {
   "cell_type": "code",
   "execution_count": 49,
   "id": "53acc0f7-f645-484c-9ae5-1861e7a3bde3",
   "metadata": {},
   "outputs": [
    {
     "name": "stderr",
     "output_type": "stream",
     "text": [
      "\"pip\" no se reconoce como un comando interno o externo,\n",
      "programa o archivo por lotes ejecutable.\n"
     ]
    }
   ],
   "source": []
  }
 ],
 "metadata": {
  "kernelspec": {
   "display_name": "Python 3 (ipykernel)",
   "language": "python",
   "name": "python3"
  },
  "language_info": {
   "codemirror_mode": {
    "name": "ipython",
    "version": 3
   },
   "file_extension": ".py",
   "mimetype": "text/x-python",
   "name": "python",
   "nbconvert_exporter": "python",
   "pygments_lexer": "ipython3",
   "version": "3.10.4"
  }
 },
 "nbformat": 4,
 "nbformat_minor": 5
}
