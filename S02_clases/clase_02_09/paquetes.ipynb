{
 "cells": [
  {
   "cell_type": "markdown",
   "id": "5459869c-a8b4-41a0-8546-e9b160c20f0a",
   "metadata": {},
   "source": [
    "Paquete = Múltiples módulos y clasesm"
   ]
  },
  {
   "cell_type": "code",
   "execution_count": 4,
   "id": "839625d6-8d5d-4049-8760-180ed2aa2d42",
   "metadata": {},
   "outputs": [],
   "source": [
    "from cosas import saludo #del paquete importa esta función"
   ]
  },
  {
   "cell_type": "code",
   "execution_count": 5,
   "id": "91a32676-2876-44a0-bf37-2471c7e32c69",
   "metadata": {},
   "outputs": [
    {
     "name": "stdout",
     "output_type": "stream",
     "text": [
      "hola desde el paquete\n"
     ]
    }
   ],
   "source": [
    "saludo()"
   ]
  },
  {
   "cell_type": "code",
   "execution_count": 1,
   "id": "a3a035c4-d12d-4e1a-8364-c3bac16da372",
   "metadata": {},
   "outputs": [],
   "source": [
    "from cosas import * #* significa todo"
   ]
  },
  {
   "cell_type": "code",
   "execution_count": 4,
   "id": "ac50f9e5-d14d-475e-a4b1-e47dc00155e9",
   "metadata": {},
   "outputs": [
    {
     "name": "stdout",
     "output_type": "stream",
     "text": [
      "otra funcion\n"
     ]
    }
   ],
   "source": [
    "funcion()"
   ]
  },
  {
   "cell_type": "code",
   "execution_count": 2,
   "id": "3ac6c0ee-4b41-48d0-a53e-12f82c686e50",
   "metadata": {},
   "outputs": [],
   "source": [
    "import numpy"
   ]
  },
  {
   "cell_type": "markdown",
   "id": "282b34f7-3b92-4ef3-be45-25b9b257d47e",
   "metadata": {},
   "source": [
    "# Paquete numpy\n",
    "\n",
    "Paquete enfocado en manioular información en estrucuturas conocidas como vectores, arreglos y matrices. Lo significativo de numpy so los arrays"
   ]
  },
  {
   "cell_type": "code",
   "execution_count": 3,
   "id": "062533c3-8217-4d55-b278-1a2ab2260a6c",
   "metadata": {},
   "outputs": [],
   "source": [
    "import numpy as np"
   ]
  },
  {
   "cell_type": "code",
   "execution_count": 4,
   "id": "d4cd988a-e41b-4237-8517-b56cef7d8b75",
   "metadata": {},
   "outputs": [],
   "source": [
    "lista = [3,4,5]"
   ]
  },
  {
   "cell_type": "code",
   "execution_count": 5,
   "id": "6a4f2978-02d1-41dd-b92b-270ea566346c",
   "metadata": {},
   "outputs": [
    {
     "data": {
      "text/plain": [
       "numpy.ndarray"
      ]
     },
     "execution_count": 5,
     "metadata": {},
     "output_type": "execute_result"
    }
   ],
   "source": [
    "variable = np.array(lista)\n",
    "type(variable)"
   ]
  },
  {
   "cell_type": "code",
   "execution_count": 6,
   "id": "642fff7b-bdf9-4bee-9463-8418901b6528",
   "metadata": {},
   "outputs": [
    {
     "data": {
      "text/plain": [
       "array([3, 4, 5])"
      ]
     },
     "execution_count": 6,
     "metadata": {},
     "output_type": "execute_result"
    }
   ],
   "source": [
    "variable"
   ]
  },
  {
   "cell_type": "code",
   "execution_count": 11,
   "id": "2df841a4-34d4-4e31-8292-e0886c07fe3b",
   "metadata": {},
   "outputs": [
    {
     "data": {
      "text/plain": [
       "1"
      ]
     },
     "execution_count": 11,
     "metadata": {},
     "output_type": "execute_result"
    }
   ],
   "source": [
    "variable.ndim # Un arreglo es una lista númerica de x dimensiones"
   ]
  },
  {
   "cell_type": "code",
   "execution_count": 9,
   "id": "3c50f7c5-1d6f-4962-8359-ec3d80f57403",
   "metadata": {},
   "outputs": [
    {
     "data": {
      "text/plain": [
       "2"
      ]
     },
     "execution_count": 9,
     "metadata": {},
     "output_type": "execute_result"
    }
   ],
   "source": [
    "variable2d = np.array([[4,5,6],[7,8,9]])\n",
    "variable2d.ndim #ndim es una propiedad, no un método"
   ]
  },
  {
   "cell_type": "code",
   "execution_count": 10,
   "id": "330d1a84-119e-4ec7-b916-ae8938d42451",
   "metadata": {},
   "outputs": [
    {
     "data": {
      "text/plain": [
       "array([[4, 5, 6],\n",
       "       [7, 8, 9]])"
      ]
     },
     "execution_count": 10,
     "metadata": {},
     "output_type": "execute_result"
    }
   ],
   "source": [
    "variable2d"
   ]
  },
  {
   "cell_type": "code",
   "execution_count": 12,
   "id": "7c64008c-5406-4842-a671-6280dc0f5a58",
   "metadata": {},
   "outputs": [
    {
     "data": {
      "text/plain": [
       "(1, (3,))"
      ]
     },
     "execution_count": 12,
     "metadata": {},
     "output_type": "execute_result"
    }
   ],
   "source": [
    "variable.ndim, variable.shape #shape es una propiedad que te da el número de elementos"
   ]
  },
  {
   "cell_type": "code",
   "execution_count": 13,
   "id": "66487a85-c074-49ef-8990-33171322712b",
   "metadata": {
    "scrolled": true
   },
   "outputs": [
    {
     "data": {
      "text/plain": [
       "(2, (2, 3))"
      ]
     },
     "execution_count": 13,
     "metadata": {},
     "output_type": "execute_result"
    }
   ],
   "source": [
    "variable2d.ndim, variable2d.shape #en este caso da como resultado filas, columnas"
   ]
  },
  {
   "cell_type": "code",
   "execution_count": 14,
   "id": "73efb183-936d-4018-b323-d71af50e7393",
   "metadata": {},
   "outputs": [
    {
     "data": {
      "text/plain": [
       "(array([0., 0., 0., 0., 0., 0.]),\n",
       " array([[0., 0., 0., 0.],\n",
       "        [0., 0., 0., 0.],\n",
       "        [0., 0., 0., 0.]]))"
      ]
     },
     "execution_count": 14,
     "metadata": {},
     "output_type": "execute_result"
    }
   ],
   "source": [
    "np.zeros(6), np.zeros((3,4)) #Pone ceros"
   ]
  },
  {
   "cell_type": "code",
   "execution_count": 15,
   "id": "896f18a9-dd9b-466f-a9f0-7e69346a2fd6",
   "metadata": {},
   "outputs": [
    {
     "data": {
      "text/plain": [
       "(array([1., 1., 1., 1., 1., 1.]),\n",
       " array([[1., 1., 1., 1.],\n",
       "        [1., 1., 1., 1.],\n",
       "        [1., 1., 1., 1.]]))"
      ]
     },
     "execution_count": 15,
     "metadata": {},
     "output_type": "execute_result"
    }
   ],
   "source": [
    "np.ones(6), np.ones((3,4)) #Pone unos"
   ]
  },
  {
   "cell_type": "code",
   "execution_count": 16,
   "id": "155107dd-0eb9-472b-a9c6-02072bed87cb",
   "metadata": {},
   "outputs": [
    {
     "data": {
      "text/plain": [
       "array([[1., 0., 0., 0., 0., 0.],\n",
       "       [0., 1., 0., 0., 0., 0.],\n",
       "       [0., 0., 1., 0., 0., 0.],\n",
       "       [0., 0., 0., 1., 0., 0.],\n",
       "       [0., 0., 0., 0., 1., 0.],\n",
       "       [0., 0., 0., 0., 0., 1.]])"
      ]
     },
     "execution_count": 16,
     "metadata": {},
     "output_type": "execute_result"
    }
   ],
   "source": [
    "np.eye(6) #eye es la función para crear una matriz identidad, el argumento es el n x n de la matriz"
   ]
  },
  {
   "cell_type": "code",
   "execution_count": null,
   "id": "df5e8de8-0a16-48f4-9019-5735ce4e32d0",
   "metadata": {},
   "outputs": [],
   "source": [
    "# Ejercicio. Crear un areglo de 4x4 cuyos elementos en la diagonal sean igual a 8 pero fuera de la diagonal sea igual a -10"
   ]
  },
  {
   "cell_type": "code",
   "execution_count": 23,
   "id": "a23870d8-82a7-4d35-9dbe-3568c9b41bf3",
   "metadata": {},
   "outputs": [
    {
     "data": {
      "text/plain": [
       "array([[8., 0., 0., 0.],\n",
       "       [0., 8., 0., 0.],\n",
       "       [0., 0., 8., 0.],\n",
       "       [0., 0., 0., 8.]])"
      ]
     },
     "execution_count": 23,
     "metadata": {},
     "output_type": "execute_result"
    }
   ],
   "source": [
    "cuatro = np.eye(4)*8\n",
    "cuatro"
   ]
  },
  {
   "cell_type": "code",
   "execution_count": 22,
   "id": "7cc5ad06-b690-4f75-bb4c-e000ff086e1a",
   "metadata": {},
   "outputs": [
    {
     "data": {
      "text/plain": [
       "array([[10., 10., 10., 10.],\n",
       "       [10., 10., 10., 10.],\n",
       "       [10., 10., 10., 10.],\n",
       "       [10., 10., 10., 10.]])"
      ]
     },
     "execution_count": 22,
     "metadata": {},
     "output_type": "execute_result"
    }
   ],
   "source": [
    "matriz1 = np.ones((4,4))*10\n",
    "matriz1"
   ]
  },
  {
   "cell_type": "code",
   "execution_count": 25,
   "id": "f15585e1-3166-4409-a37a-0f5040ef3bd0",
   "metadata": {},
   "outputs": [],
   "source": [
    "hola = cuatro + matriz1"
   ]
  },
  {
   "cell_type": "code",
   "execution_count": 30,
   "id": "6d9f18f5-8d3a-4d13-9d84-09d6f369b27e",
   "metadata": {},
   "outputs": [
    {
     "data": {
      "text/plain": [
       "array([[-10.,  -0.,  -0.,  -0.],\n",
       "       [ -0., -10.,  -0.,  -0.],\n",
       "       [ -0.,  -0., -10.,  -0.],\n",
       "       [ -0.,  -0.,  -0., -10.]])"
      ]
     },
     "execution_count": 30,
     "metadata": {},
     "output_type": "execute_result"
    }
   ],
   "source": [
    "cuatro = np.eye(4)*(-10)\n",
    "cuatro"
   ]
  },
  {
   "cell_type": "code",
   "execution_count": 33,
   "id": "7a9202af-cdd5-48f7-91b6-b80c73602283",
   "metadata": {},
   "outputs": [
    {
     "data": {
      "text/plain": [
       "array([[ 8., 10., 10., 10.],\n",
       "       [10.,  8., 10., 10.],\n",
       "       [10., 10.,  8., 10.],\n",
       "       [10., 10., 10.,  8.]])"
      ]
     },
     "execution_count": 33,
     "metadata": {},
     "output_type": "execute_result"
    }
   ],
   "source": [
    "valor = hola + cuatro\n",
    "valor"
   ]
  },
  {
   "cell_type": "code",
   "execution_count": 35,
   "id": "d2b334fb-f101-47cc-93c8-1a7db6f8fa2d",
   "metadata": {},
   "outputs": [
    {
     "data": {
      "text/plain": [
       "array([[0.125, 0.1  , 0.1  , 0.1  ],\n",
       "       [0.1  , 0.125, 0.1  , 0.1  ],\n",
       "       [0.1  , 0.1  , 0.125, 0.1  ],\n",
       "       [0.1  , 0.1  , 0.1  , 0.125]])"
      ]
     },
     "execution_count": 35,
     "metadata": {},
     "output_type": "execute_result"
    }
   ],
   "source": [
    "1/valor #Esta operación matematicamente no esta definida, pero numpy lo interpreta como dividir cada elemento entre su similar porque es programación y puede"
   ]
  },
  {
   "cell_type": "code",
   "execution_count": null,
   "id": "9d3307d2-eec3-4b01-862a-acce06703830",
   "metadata": {},
   "outputs": [],
   "source": []
  }
 ],
 "metadata": {
  "kernelspec": {
   "display_name": "Python 3 (ipykernel)",
   "language": "python",
   "name": "python3"
  },
  "language_info": {
   "codemirror_mode": {
    "name": "ipython",
    "version": 3
   },
   "file_extension": ".py",
   "mimetype": "text/x-python",
   "name": "python",
   "nbconvert_exporter": "python",
   "pygments_lexer": "ipython3",
   "version": "3.10.4"
  }
 },
 "nbformat": 4,
 "nbformat_minor": 5
}
