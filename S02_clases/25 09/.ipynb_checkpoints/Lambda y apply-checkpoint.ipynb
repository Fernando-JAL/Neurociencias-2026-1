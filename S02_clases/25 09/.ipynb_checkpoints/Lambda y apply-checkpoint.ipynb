{
 "cells": [
  {
   "cell_type": "markdown",
   "id": "9fbb3c3e-f415-4d1a-81b8-aa0357d87f26",
   "metadata": {},
   "source": [
    "## Funciones Lamda"
   ]
  },
  {
   "cell_type": "code",
   "execution_count": 1,
   "id": "0bbc888a-bda1-421a-b132-cdb2ce8b984f",
   "metadata": {},
   "outputs": [
    {
     "data": {
      "text/plain": [
       "25"
      ]
     },
     "execution_count": 1,
     "metadata": {},
     "output_type": "execute_result"
    }
   ],
   "source": [
    "def funcion(x):\n",
    "    return x**2\n",
    "\n",
    "funcion(5)"
   ]
  },
  {
   "cell_type": "code",
   "execution_count": 3,
   "id": "b47e32b4-45c8-4e97-b210-bc14483431dc",
   "metadata": {},
   "outputs": [
    {
     "data": {
      "text/plain": [
       "25"
      ]
     },
     "execution_count": 3,
     "metadata": {},
     "output_type": "execute_result"
    }
   ],
   "source": [
    "func_lambda = lambda x: x**2\n",
    "\n",
    "func_lambda (5)"
   ]
  },
  {
   "cell_type": "code",
   "execution_count": 5,
   "id": "35b9cedc-07ec-4ba7-97fb-0747eae4e000",
   "metadata": {},
   "outputs": [
    {
     "data": {
      "text/plain": [
       "'airam eva'"
      ]
     },
     "execution_count": 5,
     "metadata": {},
     "output_type": "execute_result"
    }
   ],
   "source": [
    "def funcion_str(string):\n",
    "    return string[::-1]\n",
    "funcion_str('ave maria')"
   ]
  },
  {
   "cell_type": "code",
   "execution_count": 7,
   "id": "d2a1d919-0547-4858-ac5f-14b3419eea9b",
   "metadata": {},
   "outputs": [
    {
     "data": {
      "text/plain": [
       "'aaloh'"
      ]
     },
     "execution_count": 7,
     "metadata": {},
     "output_type": "execute_result"
    }
   ],
   "source": [
    "func_str = lambda string: string[::-1]\n",
    "\n",
    "func_str('holaa')"
   ]
  },
  {
   "cell_type": "code",
   "execution_count": 21,
   "id": "3c49c0cf-bbfb-4ab8-b05a-177fb850de0a",
   "metadata": {},
   "outputs": [
    {
     "data": {
      "text/plain": [
       "9"
      ]
     },
     "execution_count": 21,
     "metadata": {},
     "output_type": "execute_result"
    }
   ],
   "source": [
    "def funcion(x,y):\n",
    "    return x + y\n",
    "\n",
    "funcion (4,5)"
   ]
  },
  {
   "cell_type": "code",
   "execution_count": 9,
   "id": "1f2f1751-76b0-4105-be38-4effbfe771b1",
   "metadata": {},
   "outputs": [
    {
     "data": {
      "text/plain": [
       "[10]"
      ]
     },
     "execution_count": 9,
     "metadata": {},
     "output_type": "execute_result"
    }
   ],
   "source": [
    "suma= lambda x,y: [x+y]\n",
    "\n",
    "suma(5,5)"
   ]
  },
  {
   "cell_type": "code",
   "execution_count": 58,
   "id": "2b149e7c-da6e-4ee5-81bd-ebc0ae268929",
   "metadata": {},
   "outputs": [],
   "source": [
    "def funcion(a, b, c):\n",
    "    a+b, a-c\n",
    "    \n",
    "funcion(2,4,4)"
   ]
  },
  {
   "cell_type": "code",
   "execution_count": 23,
   "id": "55a317af-4b0b-4dcd-a4f4-809d2205eae0",
   "metadata": {},
   "outputs": [
    {
     "data": {
      "text/plain": [
       "(6, -3)"
      ]
     },
     "execution_count": 23,
     "metadata": {},
     "output_type": "execute_result"
    }
   ],
   "source": [
    "fun_lda= lambda a,b,c: (a+b, a-c)\n",
    "fun_lda(2,4,5)"
   ]
  },
  {
   "cell_type": "code",
   "execution_count": 45,
   "id": "ec81ec7c-429f-47ea-878c-d9495ee85161",
   "metadata": {},
   "outputs": [
    {
     "data": {
      "text/plain": [
       "[(1, 8), (7, 5), (2, 0), (12, -52)]"
      ]
     },
     "execution_count": 45,
     "metadata": {},
     "output_type": "execute_result"
    }
   ],
   "source": [
    "def funcion(x):\n",
    "    return x[1]\n",
    "\n",
    "lista=[(1,8), (7,5), (12,-52), (2,0)]\n",
    "\n",
    "lista.sort(key=funcion, reverse=True)\n",
    "\n",
    "lista"
   ]
  },
  {
   "cell_type": "code",
   "execution_count": 49,
   "id": "1d081687-7071-47d3-a6a7-234ad2c8fec8",
   "metadata": {},
   "outputs": [
    {
     "data": {
      "text/plain": [
       "[(1, 8), (7, 5), (2, 0), (12, -52)]"
      ]
     },
     "execution_count": 49,
     "metadata": {},
     "output_type": "execute_result"
    }
   ],
   "source": [
    "lista.sort(key=lambda x: x[1], reverse=True) #Cambiar el 1 por el 0 y viceversa cambia el orden de la lista, porque empieza a tomar los valores a aprtir de esa posición\n",
    "lista"
   ]
  },
  {
   "cell_type": "code",
   "execution_count": 59,
   "id": "a73b115f-be86-4874-bbe8-127a4766a905",
   "metadata": {},
   "outputs": [],
   "source": [
    "import numpy as np\n",
    "import pandas as pd\n",
    "import matplotlib as plt"
   ]
  },
  {
   "cell_type": "code",
   "execution_count": 63,
   "id": "e96b7d61-ba27-4be9-8c6c-cbd53f228b2a",
   "metadata": {},
   "outputs": [
    {
     "data": {
      "text/html": [
       "<div>\n",
       "<style scoped>\n",
       "    .dataframe tbody tr th:only-of-type {\n",
       "        vertical-align: middle;\n",
       "    }\n",
       "\n",
       "    .dataframe tbody tr th {\n",
       "        vertical-align: top;\n",
       "    }\n",
       "\n",
       "    .dataframe thead th {\n",
       "        text-align: right;\n",
       "    }\n",
       "</style>\n",
       "<table border=\"1\" class=\"dataframe\">\n",
       "  <thead>\n",
       "    <tr style=\"text-align: right;\">\n",
       "      <th></th>\n",
       "      <th>sujeto</th>\n",
       "      <th>genero</th>\n",
       "      <th>condicion</th>\n",
       "      <th>region</th>\n",
       "      <th>neuro</th>\n",
       "      <th>presición</th>\n",
       "    </tr>\n",
       "  </thead>\n",
       "  <tbody>\n",
       "    <tr>\n",
       "      <th>0</th>\n",
       "      <td>S02</td>\n",
       "      <td>M</td>\n",
       "      <td>experimental</td>\n",
       "      <td>amigdala</td>\n",
       "      <td>dopamina</td>\n",
       "      <td>0.941626</td>\n",
       "    </tr>\n",
       "    <tr>\n",
       "      <th>1</th>\n",
       "      <td>S02</td>\n",
       "      <td>M</td>\n",
       "      <td>control</td>\n",
       "      <td>hipocampo</td>\n",
       "      <td>serotonina</td>\n",
       "      <td>0.889962</td>\n",
       "    </tr>\n",
       "    <tr>\n",
       "      <th>2</th>\n",
       "      <td>S02</td>\n",
       "      <td>M</td>\n",
       "      <td>control</td>\n",
       "      <td>hipocampo</td>\n",
       "      <td>dopamina</td>\n",
       "      <td>0.958518</td>\n",
       "    </tr>\n",
       "    <tr>\n",
       "      <th>3</th>\n",
       "      <td>S03</td>\n",
       "      <td>M</td>\n",
       "      <td>control</td>\n",
       "      <td>cortex prefrontal</td>\n",
       "      <td>serotonina</td>\n",
       "      <td>0.870731</td>\n",
       "    </tr>\n",
       "    <tr>\n",
       "      <th>4</th>\n",
       "      <td>S03</td>\n",
       "      <td>F</td>\n",
       "      <td>control</td>\n",
       "      <td>hipocampo</td>\n",
       "      <td>serotonina</td>\n",
       "      <td>0.998196</td>\n",
       "    </tr>\n",
       "    <tr>\n",
       "      <th>5</th>\n",
       "      <td>S00</td>\n",
       "      <td>M</td>\n",
       "      <td>control</td>\n",
       "      <td>amigdala</td>\n",
       "      <td>dopamina</td>\n",
       "      <td>0.906064</td>\n",
       "    </tr>\n",
       "    <tr>\n",
       "      <th>6</th>\n",
       "      <td>S03</td>\n",
       "      <td>M</td>\n",
       "      <td>experimental</td>\n",
       "      <td>cortex prefrontal</td>\n",
       "      <td>dopamina</td>\n",
       "      <td>0.860009</td>\n",
       "    </tr>\n",
       "    <tr>\n",
       "      <th>7</th>\n",
       "      <td>S01</td>\n",
       "      <td>M</td>\n",
       "      <td>control</td>\n",
       "      <td>cortex prefrontal</td>\n",
       "      <td>dopamina</td>\n",
       "      <td>0.945871</td>\n",
       "    </tr>\n",
       "    <tr>\n",
       "      <th>8</th>\n",
       "      <td>S02</td>\n",
       "      <td>F</td>\n",
       "      <td>control</td>\n",
       "      <td>cortex prefrontal</td>\n",
       "      <td>serotonina</td>\n",
       "      <td>0.956994</td>\n",
       "    </tr>\n",
       "    <tr>\n",
       "      <th>9</th>\n",
       "      <td>S01</td>\n",
       "      <td>M</td>\n",
       "      <td>control</td>\n",
       "      <td>hipocampo</td>\n",
       "      <td>serotonina</td>\n",
       "      <td>0.783992</td>\n",
       "    </tr>\n",
       "    <tr>\n",
       "      <th>10</th>\n",
       "      <td>S02</td>\n",
       "      <td>M</td>\n",
       "      <td>control</td>\n",
       "      <td>hipocampo</td>\n",
       "      <td>dopamina</td>\n",
       "      <td>0.841359</td>\n",
       "    </tr>\n",
       "    <tr>\n",
       "      <th>11</th>\n",
       "      <td>S02</td>\n",
       "      <td>F</td>\n",
       "      <td>control</td>\n",
       "      <td>cortex prefrontal</td>\n",
       "      <td>serotonina</td>\n",
       "      <td>0.924034</td>\n",
       "    </tr>\n",
       "    <tr>\n",
       "      <th>12</th>\n",
       "      <td>S03</td>\n",
       "      <td>M</td>\n",
       "      <td>control</td>\n",
       "      <td>cortex prefrontal</td>\n",
       "      <td>dopamina</td>\n",
       "      <td>0.901694</td>\n",
       "    </tr>\n",
       "    <tr>\n",
       "      <th>13</th>\n",
       "      <td>S02</td>\n",
       "      <td>F</td>\n",
       "      <td>experimental</td>\n",
       "      <td>hipocampo</td>\n",
       "      <td>dopamina</td>\n",
       "      <td>0.930155</td>\n",
       "    </tr>\n",
       "    <tr>\n",
       "      <th>14</th>\n",
       "      <td>S02</td>\n",
       "      <td>F</td>\n",
       "      <td>control</td>\n",
       "      <td>cortex prefrontal</td>\n",
       "      <td>serotonina</td>\n",
       "      <td>0.763198</td>\n",
       "    </tr>\n",
       "    <tr>\n",
       "      <th>15</th>\n",
       "      <td>S02</td>\n",
       "      <td>F</td>\n",
       "      <td>experimental</td>\n",
       "      <td>hipocampo</td>\n",
       "      <td>serotonina</td>\n",
       "      <td>0.878326</td>\n",
       "    </tr>\n",
       "    <tr>\n",
       "      <th>16</th>\n",
       "      <td>S01</td>\n",
       "      <td>F</td>\n",
       "      <td>control</td>\n",
       "      <td>cortex prefrontal</td>\n",
       "      <td>serotonina</td>\n",
       "      <td>1.072105</td>\n",
       "    </tr>\n",
       "    <tr>\n",
       "      <th>17</th>\n",
       "      <td>S00</td>\n",
       "      <td>F</td>\n",
       "      <td>experimental</td>\n",
       "      <td>cortex prefrontal</td>\n",
       "      <td>dopamina</td>\n",
       "      <td>1.010387</td>\n",
       "    </tr>\n",
       "    <tr>\n",
       "      <th>18</th>\n",
       "      <td>S00</td>\n",
       "      <td>F</td>\n",
       "      <td>control</td>\n",
       "      <td>cortex prefrontal</td>\n",
       "      <td>dopamina</td>\n",
       "      <td>0.957209</td>\n",
       "    </tr>\n",
       "    <tr>\n",
       "      <th>19</th>\n",
       "      <td>S01</td>\n",
       "      <td>M</td>\n",
       "      <td>experimental</td>\n",
       "      <td>hipocampo</td>\n",
       "      <td>dopamina</td>\n",
       "      <td>0.969184</td>\n",
       "    </tr>\n",
       "  </tbody>\n",
       "</table>\n",
       "</div>"
      ],
      "text/plain": [
       "   sujeto genero     condicion             region       neuro  presición\n",
       "0     S02      M  experimental           amigdala    dopamina   0.941626\n",
       "1     S02      M       control          hipocampo  serotonina   0.889962\n",
       "2     S02      M       control          hipocampo    dopamina   0.958518\n",
       "3     S03      M       control  cortex prefrontal  serotonina   0.870731\n",
       "4     S03      F       control          hipocampo  serotonina   0.998196\n",
       "5     S00      M       control           amigdala    dopamina   0.906064\n",
       "6     S03      M  experimental  cortex prefrontal    dopamina   0.860009\n",
       "7     S01      M       control  cortex prefrontal    dopamina   0.945871\n",
       "8     S02      F       control  cortex prefrontal  serotonina   0.956994\n",
       "9     S01      M       control          hipocampo  serotonina   0.783992\n",
       "10    S02      M       control          hipocampo    dopamina   0.841359\n",
       "11    S02      F       control  cortex prefrontal  serotonina   0.924034\n",
       "12    S03      M       control  cortex prefrontal    dopamina   0.901694\n",
       "13    S02      F  experimental          hipocampo    dopamina   0.930155\n",
       "14    S02      F       control  cortex prefrontal  serotonina   0.763198\n",
       "15    S02      F  experimental          hipocampo  serotonina   0.878326\n",
       "16    S01      F       control  cortex prefrontal  serotonina   1.072105\n",
       "17    S00      F  experimental  cortex prefrontal    dopamina   1.010387\n",
       "18    S00      F       control  cortex prefrontal    dopamina   0.957209\n",
       "19    S01      M  experimental          hipocampo    dopamina   0.969184"
      ]
     },
     "execution_count": 63,
     "metadata": {},
     "output_type": "execute_result"
    }
   ],
   "source": [
    "tipos_sujetos = ['S'+ str(i).zfill(2) for i in range(4)] #str(3).zfill(2) nos va a a arrojar 02, ya que pone en la posición dos el valor  3\n",
    "generos=['M', 'F'],\n",
    "condición= ['control', 'experimental']\n",
    "region= ['hipocampo', 'cortex prefrontal', 'amigdala']\n",
    "neurotransmisores= ['dopamina', 'serotonina']\n",
    "tipos_sujetos = ['S'+ str(i).zfill(2) for i in range(4)]\n",
    "\n",
    "longitud= 20\n",
    "enteros= np.random.randint(0,4, size=longitud)\n",
    "sujetos= ['S'+ str(i).zfill(2) for i in enteros]\n",
    "\n",
    "\n",
    "tipos_sujetos = ['S'+ str(i).zfill(2) for i in range(4)]\n",
    "longitud= 20\n",
    "enteros= np.random.randint(0,4, size=longitud)\n",
    "sujetos= ['S'+ str(i).zfill(2) for i in enteros]\n",
    "\n",
    "\n",
    "tipos_sujetos = ['S'+ str(i).zfill(2) for i in range(4)]\n",
    "longitud= 20\n",
    "ops_sujetos= np.random.randint(len(tipos_sujetos), size=longitud)\n",
    "sujetos2= [tipos_sujetos[i].zfill(2) for i in ops_sujetos]\n",
    "\n",
    "\n",
    "generos=['M', 'F']\n",
    "longitud= 20\n",
    "ops_generos= np.random.randint(len(generos), size=longitud)\n",
    "generos2= [generos[i] for i in ops_generos]\n",
    "\n",
    "\n",
    "condición= ['control', 'experimental']\n",
    "longitud= 20\n",
    "ops_condición= np.random.randint(len(condición), size=longitud)\n",
    "condición2= [condición[i] for i in ops_condición]\n",
    "\n",
    "\n",
    "region= ['hipocampo', 'cortex prefrontal', 'amigdala']\n",
    "longitud= 20\n",
    "ops_region= np.random.randint(len(region), size=longitud)\n",
    "region2= [region[i] for i in ops_region]\n",
    "\n",
    "neurotransmisores= ['dopamina', 'serotonina']\n",
    "longitud= 20\n",
    "ops_neurotransmisores= np.random.randint(len(neurotransmisores), size=longitud)\n",
    "neurotransmisores2= [neurotransmisores[i] for i in ops_neurotransmisores]\n",
    "\n",
    "variables =[sujetos2,generos2, condición2, region2, neurotransmisores2]\n",
    "data= []\n",
    "\n",
    "for variable in variables:\n",
    "    opciones=np.random.randint(len(variable), size=longitud)\n",
    "    data.append([variable[i] for i in opciones])\n",
    "\n",
    "df= pd.DataFrame(data).transpose()\n",
    "df.columns= ['sujeto', 'genero', 'condicion', 'region', 'neuro']\n",
    "df['presición']= np.random.normal(loc=0.92, scale=0.08, size=longitud) #Agregar una nueva columna\n",
    "df"
   ]
  },
  {
   "cell_type": "code",
   "execution_count": null,
   "id": "fd35a55b-cf0a-43ee-8ae4-4a962f5a6cf2",
   "metadata": {},
   "outputs": [],
   "source": [
    "def funcion(string):\n",
    "    return string"
   ]
  },
  {
   "cell_type": "code",
   "execution_count": null,
   "id": "67d3b7af-8e55-48bd-94b4-7fc5fe36296c",
   "metadata": {},
   "outputs": [],
   "source": [
    "df['region'].apply(lambda string: string.upper"
   ]
  },
  {
   "cell_type": "code",
   "execution_count": 72,
   "id": "987544d4-5b47-44a2-85af-ad73f4301824",
   "metadata": {},
   "outputs": [
    {
     "data": {
      "text/html": [
       "<div>\n",
       "<style scoped>\n",
       "    .dataframe tbody tr th:only-of-type {\n",
       "        vertical-align: middle;\n",
       "    }\n",
       "\n",
       "    .dataframe tbody tr th {\n",
       "        vertical-align: top;\n",
       "    }\n",
       "\n",
       "    .dataframe thead th {\n",
       "        text-align: right;\n",
       "    }\n",
       "</style>\n",
       "<table border=\"1\" class=\"dataframe\">\n",
       "  <thead>\n",
       "    <tr style=\"text-align: right;\">\n",
       "      <th></th>\n",
       "      <th>region</th>\n",
       "      <th>condicion</th>\n",
       "      <th>neuro</th>\n",
       "    </tr>\n",
       "  </thead>\n",
       "  <tbody>\n",
       "    <tr>\n",
       "      <th>0</th>\n",
       "      <td>AMIGDALA</td>\n",
       "      <td>EXPERIMENTAL</td>\n",
       "      <td>DOPAMINA</td>\n",
       "    </tr>\n",
       "    <tr>\n",
       "      <th>1</th>\n",
       "      <td>HIPOCAMPO</td>\n",
       "      <td>CONTROL</td>\n",
       "      <td>SEROTONINA</td>\n",
       "    </tr>\n",
       "    <tr>\n",
       "      <th>2</th>\n",
       "      <td>HIPOCAMPO</td>\n",
       "      <td>CONTROL</td>\n",
       "      <td>DOPAMINA</td>\n",
       "    </tr>\n",
       "    <tr>\n",
       "      <th>3</th>\n",
       "      <td>CORTEX PREFRONTAL</td>\n",
       "      <td>CONTROL</td>\n",
       "      <td>SEROTONINA</td>\n",
       "    </tr>\n",
       "    <tr>\n",
       "      <th>4</th>\n",
       "      <td>HIPOCAMPO</td>\n",
       "      <td>CONTROL</td>\n",
       "      <td>SEROTONINA</td>\n",
       "    </tr>\n",
       "    <tr>\n",
       "      <th>5</th>\n",
       "      <td>AMIGDALA</td>\n",
       "      <td>CONTROL</td>\n",
       "      <td>DOPAMINA</td>\n",
       "    </tr>\n",
       "    <tr>\n",
       "      <th>6</th>\n",
       "      <td>CORTEX PREFRONTAL</td>\n",
       "      <td>EXPERIMENTAL</td>\n",
       "      <td>DOPAMINA</td>\n",
       "    </tr>\n",
       "    <tr>\n",
       "      <th>7</th>\n",
       "      <td>CORTEX PREFRONTAL</td>\n",
       "      <td>CONTROL</td>\n",
       "      <td>DOPAMINA</td>\n",
       "    </tr>\n",
       "    <tr>\n",
       "      <th>8</th>\n",
       "      <td>CORTEX PREFRONTAL</td>\n",
       "      <td>CONTROL</td>\n",
       "      <td>SEROTONINA</td>\n",
       "    </tr>\n",
       "    <tr>\n",
       "      <th>9</th>\n",
       "      <td>HIPOCAMPO</td>\n",
       "      <td>CONTROL</td>\n",
       "      <td>SEROTONINA</td>\n",
       "    </tr>\n",
       "    <tr>\n",
       "      <th>10</th>\n",
       "      <td>HIPOCAMPO</td>\n",
       "      <td>CONTROL</td>\n",
       "      <td>DOPAMINA</td>\n",
       "    </tr>\n",
       "    <tr>\n",
       "      <th>11</th>\n",
       "      <td>CORTEX PREFRONTAL</td>\n",
       "      <td>CONTROL</td>\n",
       "      <td>SEROTONINA</td>\n",
       "    </tr>\n",
       "    <tr>\n",
       "      <th>12</th>\n",
       "      <td>CORTEX PREFRONTAL</td>\n",
       "      <td>CONTROL</td>\n",
       "      <td>DOPAMINA</td>\n",
       "    </tr>\n",
       "    <tr>\n",
       "      <th>13</th>\n",
       "      <td>HIPOCAMPO</td>\n",
       "      <td>EXPERIMENTAL</td>\n",
       "      <td>DOPAMINA</td>\n",
       "    </tr>\n",
       "    <tr>\n",
       "      <th>14</th>\n",
       "      <td>CORTEX PREFRONTAL</td>\n",
       "      <td>CONTROL</td>\n",
       "      <td>SEROTONINA</td>\n",
       "    </tr>\n",
       "    <tr>\n",
       "      <th>15</th>\n",
       "      <td>HIPOCAMPO</td>\n",
       "      <td>EXPERIMENTAL</td>\n",
       "      <td>SEROTONINA</td>\n",
       "    </tr>\n",
       "    <tr>\n",
       "      <th>16</th>\n",
       "      <td>CORTEX PREFRONTAL</td>\n",
       "      <td>CONTROL</td>\n",
       "      <td>SEROTONINA</td>\n",
       "    </tr>\n",
       "    <tr>\n",
       "      <th>17</th>\n",
       "      <td>CORTEX PREFRONTAL</td>\n",
       "      <td>EXPERIMENTAL</td>\n",
       "      <td>DOPAMINA</td>\n",
       "    </tr>\n",
       "    <tr>\n",
       "      <th>18</th>\n",
       "      <td>CORTEX PREFRONTAL</td>\n",
       "      <td>CONTROL</td>\n",
       "      <td>DOPAMINA</td>\n",
       "    </tr>\n",
       "    <tr>\n",
       "      <th>19</th>\n",
       "      <td>HIPOCAMPO</td>\n",
       "      <td>EXPERIMENTAL</td>\n",
       "      <td>DOPAMINA</td>\n",
       "    </tr>\n",
       "  </tbody>\n",
       "</table>\n",
       "</div>"
      ],
      "text/plain": [
       "               region     condicion       neuro\n",
       "0            AMIGDALA  EXPERIMENTAL    DOPAMINA\n",
       "1           HIPOCAMPO       CONTROL  SEROTONINA\n",
       "2           HIPOCAMPO       CONTROL    DOPAMINA\n",
       "3   CORTEX PREFRONTAL       CONTROL  SEROTONINA\n",
       "4           HIPOCAMPO       CONTROL  SEROTONINA\n",
       "5            AMIGDALA       CONTROL    DOPAMINA\n",
       "6   CORTEX PREFRONTAL  EXPERIMENTAL    DOPAMINA\n",
       "7   CORTEX PREFRONTAL       CONTROL    DOPAMINA\n",
       "8   CORTEX PREFRONTAL       CONTROL  SEROTONINA\n",
       "9           HIPOCAMPO       CONTROL  SEROTONINA\n",
       "10          HIPOCAMPO       CONTROL    DOPAMINA\n",
       "11  CORTEX PREFRONTAL       CONTROL  SEROTONINA\n",
       "12  CORTEX PREFRONTAL       CONTROL    DOPAMINA\n",
       "13          HIPOCAMPO  EXPERIMENTAL    DOPAMINA\n",
       "14  CORTEX PREFRONTAL       CONTROL  SEROTONINA\n",
       "15          HIPOCAMPO  EXPERIMENTAL  SEROTONINA\n",
       "16  CORTEX PREFRONTAL       CONTROL  SEROTONINA\n",
       "17  CORTEX PREFRONTAL  EXPERIMENTAL    DOPAMINA\n",
       "18  CORTEX PREFRONTAL       CONTROL    DOPAMINA\n",
       "19          HIPOCAMPO  EXPERIMENTAL    DOPAMINA"
      ]
     },
     "execution_count": 72,
     "metadata": {},
     "output_type": "execute_result"
    }
   ],
   "source": [
    "df[['region', 'condicion', 'neuro'] ].apply(lambda serie: [string.upper() for string in serie])"
   ]
  },
  {
   "cell_type": "code",
   "execution_count": null,
   "id": "29a85ee2-41b1-4925-bcf7-fa1f9149b680",
   "metadata": {},
   "outputs": [],
   "source": []
  },
  {
   "cell_type": "code",
   "execution_count": null,
   "id": "a2a0a9c2-95ac-4cc5-b173-6e60a356cb6e",
   "metadata": {},
   "outputs": [],
   "source": []
  },
  {
   "cell_type": "code",
   "execution_count": null,
   "id": "86c53861-5723-4635-a277-716843852208",
   "metadata": {},
   "outputs": [],
   "source": []
  }
 ],
 "metadata": {
  "kernelspec": {
   "display_name": "Python 3 (ipykernel)",
   "language": "python",
   "name": "python3"
  },
  "language_info": {
   "codemirror_mode": {
    "name": "ipython",
    "version": 3
   },
   "file_extension": ".py",
   "mimetype": "text/x-python",
   "name": "python",
   "nbconvert_exporter": "python",
   "pygments_lexer": "ipython3",
   "version": "3.10.4"
  }
 },
 "nbformat": 4,
 "nbformat_minor": 5
}
