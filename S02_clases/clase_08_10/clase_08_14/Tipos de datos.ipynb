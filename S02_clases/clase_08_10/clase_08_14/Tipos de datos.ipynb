{
 "cells": [
  {
   "cell_type": "markdown",
   "id": "7339645e-5965-4c66-8411-8d0b5b9bcd7a",
   "metadata": {},
   "source": [
    "# Tipos de datos"
   ]
  },
  {
   "cell_type": "code",
   "execution_count": 6,
   "id": "06b591db-691b-45a8-aef6-58966c3efbcd",
   "metadata": {},
   "outputs": [
    {
     "data": {
      "text/plain": [
       "1"
      ]
     },
     "execution_count": 6,
     "metadata": {},
     "output_type": "execute_result"
    }
   ],
   "source": [
    "a= 1\n",
    "a"
   ]
  },
  {
   "cell_type": "code",
   "execution_count": 7,
   "id": "7760e2a3-05c7-48cf-803a-c33f5779a586",
   "metadata": {},
   "outputs": [
    {
     "data": {
      "text/plain": [
       "-339239383737237373792378379373670"
      ]
     },
     "execution_count": 7,
     "metadata": {},
     "output_type": "execute_result"
    }
   ],
   "source": [
    "b=-339239383737237373792378379373670\n",
    "b"
   ]
  },
  {
   "cell_type": "code",
   "execution_count": 8,
   "id": "f584dbd8-3acd-4c79-82a5-1182f8e2afa2",
   "metadata": {},
   "outputs": [
    {
     "data": {
      "text/plain": [
       "(int, int)"
      ]
     },
     "execution_count": 8,
     "metadata": {},
     "output_type": "execute_result"
    }
   ],
   "source": [
    "type(a),type(b)"
   ]
  },
  {
   "cell_type": "code",
   "execution_count": 10,
   "id": "ce456c0b-a7b9-43f4-b54e-4e1c6baa1220",
   "metadata": {},
   "outputs": [
    {
     "ename": "TypeError",
     "evalue": "type() takes 1 or 3 arguments",
     "output_type": "error",
     "traceback": [
      "\u001b[1;31m---------------------------------------------------------------------------\u001b[0m",
      "\u001b[1;31mTypeError\u001b[0m                                 Traceback (most recent call last)",
      "Cell \u001b[1;32mIn[10], line 1\u001b[0m\n\u001b[1;32m----> 1\u001b[0m \u001b[38;5;28;43mtype\u001b[39;49m\u001b[43m(\u001b[49m\u001b[38;5;241;43m1\u001b[39;49m\u001b[43m,\u001b[49m\u001b[38;5;241;43m2\u001b[39;49m\u001b[43m)\u001b[49m\n",
      "\u001b[1;31mTypeError\u001b[0m: type() takes 1 or 3 arguments"
     ]
    }
   ],
   "source": [
    "type(1,2)"
   ]
  },
  {
   "cell_type": "code",
   "execution_count": 11,
   "id": "9ed3265b-950e-4f0a-b3ab-83814f5e48df",
   "metadata": {},
   "outputs": [
    {
     "data": {
      "text/plain": [
       "float"
      ]
     },
     "execution_count": 11,
     "metadata": {},
     "output_type": "execute_result"
    }
   ],
   "source": [
    "float"
   ]
  },
  {
   "cell_type": "markdown",
   "id": "d987b5cc-8beb-4312-b5e8-8aac2682f1d6",
   "metadata": {},
   "source": [
    "# Definición de complejos"
   ]
  },
  {
   "cell_type": "code",
   "execution_count": 13,
   "id": "acdde0f0-3cf8-4dbd-9341-2af03259a075",
   "metadata": {},
   "outputs": [
    {
     "data": {
      "text/plain": [
       "(1+3j)"
      ]
     },
     "execution_count": 13,
     "metadata": {},
     "output_type": "execute_result"
    }
   ],
   "source": [
    "complex(1,3)"
   ]
  },
  {
   "cell_type": "code",
   "execution_count": 14,
   "id": "2c843461-7f17-4de3-bcf4-72f855049afd",
   "metadata": {},
   "outputs": [
    {
     "data": {
      "text/plain": [
       "(4+7j)"
      ]
     },
     "execution_count": 14,
     "metadata": {},
     "output_type": "execute_result"
    }
   ],
   "source": [
    "complex(4,7)"
   ]
  },
  {
   "cell_type": "code",
   "execution_count": 15,
   "id": "afd297e4-c54a-4a9d-a436-be0e337e8644",
   "metadata": {},
   "outputs": [
    {
     "data": {
      "text/plain": [
       "1j"
      ]
     },
     "execution_count": 15,
     "metadata": {},
     "output_type": "execute_result"
    }
   ],
   "source": [
    "complex(0,1)"
   ]
  },
  {
   "cell_type": "code",
   "execution_count": 16,
   "id": "a9003fe1-abd1-415c-b62b-84fc39af0888",
   "metadata": {},
   "outputs": [
    {
     "data": {
      "text/plain": [
       "(3+1j)"
      ]
     },
     "execution_count": 16,
     "metadata": {},
     "output_type": "execute_result"
    }
   ],
   "source": [
    "complex(0,1) + 3"
   ]
  },
  {
   "cell_type": "code",
   "execution_count": 18,
   "id": "32694e7a-fe58-40c8-bb6d-b36cddccc0f8",
   "metadata": {},
   "outputs": [
    {
     "data": {
      "text/plain": [
       "(3+1j)"
      ]
     },
     "execution_count": 18,
     "metadata": {},
     "output_type": "execute_result"
    }
   ],
   "source": [
    "c= complex(3,1)\n",
    "c"
   ]
  },
  {
   "cell_type": "code",
   "execution_count": 19,
   "id": "f9ac6370-d1e3-4ecb-8185-2d146c79a1f6",
   "metadata": {},
   "outputs": [
    {
     "data": {
      "text/plain": [
       "(3+3j)"
      ]
     },
     "execution_count": 19,
     "metadata": {},
     "output_type": "execute_result"
    }
   ],
   "source": [
    "#quiero sumar 2j al valor de c\n",
    "c + complex(0,2)"
   ]
  },
  {
   "cell_type": "markdown",
   "id": "d0ec8b07-4d64-4b9b-948f-6b5d52e78f9b",
   "metadata": {},
   "source": [
    "# operaciones con tipos de datos numéricos"
   ]
  },
  {
   "cell_type": "code",
   "execution_count": 20,
   "id": "8e0f7f61-6120-4528-af77-2047d12f43e8",
   "metadata": {},
   "outputs": [
    {
     "data": {
      "text/plain": [
       "100"
      ]
     },
     "execution_count": 20,
     "metadata": {},
     "output_type": "execute_result"
    }
   ],
   "source": [
    "56 + 44"
   ]
  },
  {
   "cell_type": "code",
   "execution_count": 21,
   "id": "28fd1b8d-e9ad-45bd-9c9b-64e4ed3e7c2f",
   "metadata": {},
   "outputs": [
    {
     "data": {
      "text/plain": [
       "720"
      ]
     },
     "execution_count": 21,
     "metadata": {},
     "output_type": "execute_result"
    }
   ],
   "source": [
    "800 - 80"
   ]
  },
  {
   "cell_type": "code",
   "execution_count": 22,
   "id": "b57680da-bfd6-4efe-9913-2da71b3196fd",
   "metadata": {},
   "outputs": [
    {
     "data": {
      "text/plain": [
       "783"
      ]
     },
     "execution_count": 22,
     "metadata": {},
     "output_type": "execute_result"
    }
   ],
   "source": [
    "87*9"
   ]
  },
  {
   "cell_type": "code",
   "execution_count": 23,
   "id": "902204d0-1a2f-476b-8301-709ac2c1209d",
   "metadata": {},
   "outputs": [
    {
     "data": {
      "text/plain": [
       "1.8521739130434782"
      ]
     },
     "execution_count": 23,
     "metadata": {},
     "output_type": "execute_result"
    }
   ],
   "source": [
    "85.2/46"
   ]
  },
  {
   "cell_type": "code",
   "execution_count": 24,
   "id": "5b389181-49a9-4418-abca-35d1501949f7",
   "metadata": {},
   "outputs": [
    {
     "data": {
      "text/plain": [
       "125"
      ]
     },
     "execution_count": 24,
     "metadata": {},
     "output_type": "execute_result"
    }
   ],
   "source": [
    "#expresar una potencia\n",
    "5**3"
   ]
  },
  {
   "cell_type": "code",
   "execution_count": 25,
   "id": "331ee1df-8bad-4067-a6e8-31b83bfc24c8",
   "metadata": {},
   "outputs": [
    {
     "data": {
      "text/plain": [
       "3.0"
      ]
     },
     "execution_count": 25,
     "metadata": {},
     "output_type": "execute_result"
    }
   ],
   "source": [
    "#para raiz cuadrada\n",
    "9**0.5"
   ]
  },
  {
   "cell_type": "code",
   "execution_count": 26,
   "id": "3a8625be-097f-41d9-99dc-3acb88cba4ac",
   "metadata": {},
   "outputs": [
    {
     "data": {
      "text/plain": [
       "0"
      ]
     },
     "execution_count": 26,
     "metadata": {},
     "output_type": "execute_result"
    }
   ],
   "source": [
    "#obtener residuo\n",
    "16% 4"
   ]
  },
  {
   "cell_type": "code",
   "execution_count": 27,
   "id": "f99cce5f-27d3-4946-8b60-c6d29b839f02",
   "metadata": {},
   "outputs": [],
   "source": [
    "# calcular el cociente o división entera"
   ]
  },
  {
   "cell_type": "code",
   "execution_count": 28,
   "id": "fe02a3bb-6fe5-4053-81ee-6d55bd4a0be7",
   "metadata": {},
   "outputs": [
    {
     "data": {
      "text/plain": [
       "4"
      ]
     },
     "execution_count": 28,
     "metadata": {},
     "output_type": "execute_result"
    }
   ],
   "source": [
    "16// 4"
   ]
  },
  {
   "cell_type": "code",
   "execution_count": 29,
   "id": "9fcc8784-6fcc-4739-942f-88349e79cde3",
   "metadata": {},
   "outputs": [],
   "source": [
    "a= 8\n",
    "b= 3\n",
    "c= 42"
   ]
  },
  {
   "cell_type": "code",
   "execution_count": 30,
   "id": "0b1d87cf-0611-45e5-a2cd-5b56730d047c",
   "metadata": {},
   "outputs": [
    {
     "data": {
      "text/plain": [
       "8"
      ]
     },
     "execution_count": 30,
     "metadata": {},
     "output_type": "execute_result"
    }
   ],
   "source": [
    "a"
   ]
  },
  {
   "cell_type": "code",
   "execution_count": 31,
   "id": "88e3ef88-633f-4957-8db6-51e243420b88",
   "metadata": {},
   "outputs": [
    {
     "data": {
      "text/plain": [
       "(8, 3, 42)"
      ]
     },
     "execution_count": 31,
     "metadata": {},
     "output_type": "execute_result"
    }
   ],
   "source": [
    "#para mostrar el valor de a b y c al mismo tiempo\n",
    "a,b,c"
   ]
  },
  {
   "cell_type": "code",
   "execution_count": 33,
   "id": "e0548927-045c-45d0-a612-c7473d57e77c",
   "metadata": {},
   "outputs": [
    {
     "data": {
      "text/plain": [
       "(8, 3, 42)"
      ]
     },
     "execution_count": 33,
     "metadata": {},
     "output_type": "execute_result"
    }
   ],
   "source": [
    "#tambien se pueden definir en una sola linea\n",
    "a,b,c= 8,3,42\n",
    "a,b,c"
   ]
  },
  {
   "cell_type": "code",
   "execution_count": 37,
   "id": "be1fdb55-11b7-4c16-b4af-96d4ead67837",
   "metadata": {},
   "outputs": [
    {
     "ename": "ZeroDivisionError",
     "evalue": "division by zero",
     "output_type": "error",
     "traceback": [
      "\u001b[1;31m---------------------------------------------------------------------------\u001b[0m",
      "\u001b[1;31mZeroDivisionError\u001b[0m                         Traceback (most recent call last)",
      "Cell \u001b[1;32mIn[37], line 1\u001b[0m\n\u001b[1;32m----> 1\u001b[0m c\u001b[38;5;241m/\u001b[39ma \u001b[38;5;241m+\u001b[39m b\u001b[38;5;241m*\u001b[39ma\u001b[38;5;241m-\u001b[39m\u001b[43ma\u001b[49m\u001b[38;5;241;43m*\u001b[39;49m\u001b[38;5;241;43m*\u001b[39;49m\u001b[43mb\u001b[49m\u001b[38;5;241;43m/\u001b[39;49m\u001b[43m(\u001b[49m\u001b[43mc\u001b[49m\u001b[38;5;241;43m%\u001b[39;49m\u001b[43mb\u001b[49m\u001b[43m)\u001b[49m\n",
      "\u001b[1;31mZeroDivisionError\u001b[0m: division by zero"
     ]
    }
   ],
   "source": [
    "c/a + b*a-a**b/(c%b)"
   ]
  },
  {
   "cell_type": "code",
   "execution_count": 38,
   "id": "75e66fb3-5288-4bfd-98da-3cbaea7635fe",
   "metadata": {},
   "outputs": [
    {
     "data": {
      "text/plain": [
       "'esto es una cadena de texto'"
      ]
     },
     "execution_count": 38,
     "metadata": {},
     "output_type": "execute_result"
    }
   ],
   "source": [
    "\"esto es una cadena de texto\""
   ]
  },
  {
   "cell_type": "code",
   "execution_count": 40,
   "id": "6bcdca44-f03e-4130-9d37-2f1ba22ced32",
   "metadata": {},
   "outputs": [
    {
     "data": {
      "text/plain": [
       "('cadena de texto 1', 'cadena de texto 2')"
      ]
     },
     "execution_count": 40,
     "metadata": {},
     "output_type": "execute_result"
    }
   ],
   "source": [
    "a,b= 'cadena de texto 1', 'cadena de texto 2'\n",
    "a,b"
   ]
  },
  {
   "cell_type": "code",
   "execution_count": 41,
   "id": "3649e4ad-4b39-43d7-83c0-971d4b3fef59",
   "metadata": {},
   "outputs": [
    {
     "name": "stdout",
     "output_type": "stream",
     "text": [
      "cadena de texto 1\n"
     ]
    }
   ],
   "source": [
    "print(a)"
   ]
  },
  {
   "cell_type": "code",
   "execution_count": 42,
   "id": "d58e3641-6323-4790-947f-1ef544457f94",
   "metadata": {},
   "outputs": [
    {
     "name": "stdout",
     "output_type": "stream",
     "text": [
      "cadena de texto 2\n"
     ]
    }
   ],
   "source": [
    "print(b)"
   ]
  },
  {
   "cell_type": "code",
   "execution_count": 43,
   "id": "fcbfcf8e-423f-4eb7-bcc3-aabc5444a26c",
   "metadata": {},
   "outputs": [
    {
     "name": "stdout",
     "output_type": "stream",
     "text": [
      "cadena de texto 1 cadena de texto 2\n"
     ]
    }
   ],
   "source": [
    "print(a,b)"
   ]
  },
  {
   "cell_type": "code",
   "execution_count": 44,
   "id": "fe189272-3064-4f19-a35f-715e0f2c5714",
   "metadata": {},
   "outputs": [
    {
     "name": "stdout",
     "output_type": "stream",
     "text": [
      "cadena de texto 1 cadena de texto 2 otra cosa\n"
     ]
    }
   ],
   "source": [
    "print(a,b,'otra cosa')"
   ]
  },
  {
   "cell_type": "code",
   "execution_count": 46,
   "id": "7782316d-219b-4528-9db4-e1ad70692d70",
   "metadata": {},
   "outputs": [
    {
     "name": "stdout",
     "output_type": "stream",
     "text": [
      "primera línea de texto\n",
      "segunda línea de texto\n",
      "tercera línea de texto\n"
     ]
    }
   ],
   "source": [
    "print(\"\"\"primera línea de texto\n",
    "segunda línea de texto\n",
    "tercera línea de texto\"\"\")"
   ]
  },
  {
   "cell_type": "code",
   "execution_count": 47,
   "id": "4ab67555-83a7-4823-bbb9-f81c0036ccf0",
   "metadata": {},
   "outputs": [
    {
     "data": {
      "text/plain": [
       "('cadena de texto 1', 'cadena de texto 2')"
      ]
     },
     "execution_count": 47,
     "metadata": {},
     "output_type": "execute_result"
    }
   ],
   "source": [
    "a,b"
   ]
  },
  {
   "cell_type": "code",
   "execution_count": 48,
   "id": "a419febd-365b-4ccf-ab9d-920d8b91c271",
   "metadata": {},
   "outputs": [
    {
     "data": {
      "text/plain": [
       "'cadena de texto 1cadena de texto 2'"
      ]
     },
     "execution_count": 48,
     "metadata": {},
     "output_type": "execute_result"
    }
   ],
   "source": [
    "a + b"
   ]
  },
  {
   "cell_type": "code",
   "execution_count": 50,
   "id": "878a6236-090e-4a74-b667-37ac940c2af8",
   "metadata": {},
   "outputs": [],
   "source": [
    "a,b=\"ah\",\"be\""
   ]
  },
  {
   "cell_type": "code",
   "execution_count": 51,
   "id": "269abc54-15a3-434b-9aea-8e177308b016",
   "metadata": {},
   "outputs": [
    {
     "data": {
      "text/plain": [
       "'ahbe'"
      ]
     },
     "execution_count": 51,
     "metadata": {},
     "output_type": "execute_result"
    }
   ],
   "source": [
    "a + b"
   ]
  },
  {
   "cell_type": "code",
   "execution_count": 52,
   "id": "fb85caae-3aa6-4d1e-9174-be45b7ab262c",
   "metadata": {},
   "outputs": [],
   "source": [
    "a,b= \"ho\",\"la\""
   ]
  },
  {
   "cell_type": "code",
   "execution_count": 53,
   "id": "c66c36b0-9cde-4334-9fb1-410278639807",
   "metadata": {},
   "outputs": [
    {
     "data": {
      "text/plain": [
       "'hola'"
      ]
     },
     "execution_count": 53,
     "metadata": {},
     "output_type": "execute_result"
    }
   ],
   "source": [
    "a + b"
   ]
  },
  {
   "cell_type": "code",
   "execution_count": 54,
   "id": "c838a64d-2e99-479e-b791-6b5dc5e02ebd",
   "metadata": {},
   "outputs": [],
   "source": [
    "a,b,c,d=\"ho\",\"la\",\"mi\",\"Sof\""
   ]
  },
  {
   "cell_type": "code",
   "execution_count": 55,
   "id": "a76f6dd2-1d83-4a30-ae8e-8defade26c5c",
   "metadata": {},
   "outputs": [
    {
     "data": {
      "text/plain": [
       "'holamiSof'"
      ]
     },
     "execution_count": 55,
     "metadata": {},
     "output_type": "execute_result"
    }
   ],
   "source": [
    "a + b + c + d"
   ]
  },
  {
   "cell_type": "code",
   "execution_count": 56,
   "id": "5bf66382-cde1-4fc0-ab04-db30529dc80b",
   "metadata": {},
   "outputs": [
    {
     "data": {
      "text/plain": [
       "'hohoholalaho'"
      ]
     },
     "execution_count": 56,
     "metadata": {},
     "output_type": "execute_result"
    }
   ],
   "source": [
    "3*a + 2*b + a"
   ]
  },
  {
   "cell_type": "code",
   "execution_count": 57,
   "id": "b127e8c1-f5bf-4ade-95d4-0cbd8372f79e",
   "metadata": {},
   "outputs": [
    {
     "data": {
      "text/plain": [
       "'hohoho'"
      ]
     },
     "execution_count": 57,
     "metadata": {},
     "output_type": "execute_result"
    }
   ],
   "source": [
    "3*a"
   ]
  },
  {
   "cell_type": "code",
   "execution_count": 58,
   "id": "5fcde34f-e96e-4111-a75e-5d1aee3f4229",
   "metadata": {},
   "outputs": [
    {
     "data": {
      "text/plain": [
       "'hohoho'"
      ]
     },
     "execution_count": 58,
     "metadata": {},
     "output_type": "execute_result"
    }
   ],
   "source": [
    "a*3"
   ]
  },
  {
   "cell_type": "code",
   "execution_count": 59,
   "id": "4fad229b-5245-4200-ab85-a2fefdb4fbce",
   "metadata": {},
   "outputs": [
    {
     "data": {
      "text/plain": [
       "('hola', 'laho')"
      ]
     },
     "execution_count": 59,
     "metadata": {},
     "output_type": "execute_result"
    }
   ],
   "source": [
    "a + b, b+ a"
   ]
  },
  {
   "cell_type": "markdown",
   "id": "21b4348e-d32f-47cc-b4c9-7b4c155d1899",
   "metadata": {},
   "source": [
    "# slicing=rebanando"
   ]
  },
  {
   "cell_type": "code",
   "execution_count": 60,
   "id": "36d91417-313d-4d32-a60e-457aa5496501",
   "metadata": {},
   "outputs": [],
   "source": [
    "a= 'hola jolines chayotes verdes'"
   ]
  },
  {
   "cell_type": "code",
   "execution_count": 61,
   "id": "de3952a7-f985-4fb0-b634-049d1f0dd305",
   "metadata": {},
   "outputs": [],
   "source": [
    "b= 'cadena'"
   ]
  },
  {
   "cell_type": "code",
   "execution_count": 66,
   "id": "3128d329-5049-4b03-bcef-9202e20dc4bc",
   "metadata": {},
   "outputs": [
    {
     "data": {
      "text/plain": [
       "'d'"
      ]
     },
     "execution_count": 66,
     "metadata": {},
     "output_type": "execute_result"
    }
   ],
   "source": [
    "#para que te de el elemento de la posición específica que quieres de tu variable\n",
    "b  [2 ]"
   ]
  },
  {
   "cell_type": "code",
   "execution_count": 63,
   "id": "2952f385-a0f6-4fb3-abc9-3acd2b326877",
   "metadata": {},
   "outputs": [
    {
     "data": {
      "text/plain": [
       "'n'"
      ]
     },
     "execution_count": 63,
     "metadata": {},
     "output_type": "execute_result"
    }
   ],
   "source": [
    "b  [ 4]"
   ]
  },
  {
   "cell_type": "code",
   "execution_count": 65,
   "id": "8e39d185-2c7a-4479-aeb2-664b9213e99c",
   "metadata": {},
   "outputs": [
    {
     "data": {
      "text/plain": [
       "6"
      ]
     },
     "execution_count": 65,
     "metadata": {},
     "output_type": "execute_result"
    }
   ],
   "source": [
    "# para que te indique cuantos elementos conforman tus variables \n",
    "len (b)"
   ]
  },
  {
   "cell_type": "code",
   "execution_count": 67,
   "id": "972c33f8-4e52-459e-b0b7-b61b1ebf4604",
   "metadata": {},
   "outputs": [
    {
     "data": {
      "text/plain": [
       "'hola jolines chayotes verdes'"
      ]
     },
     "execution_count": 67,
     "metadata": {},
     "output_type": "execute_result"
    }
   ],
   "source": [
    "a"
   ]
  },
  {
   "cell_type": "code",
   "execution_count": 70,
   "id": "e8325997-00d7-449b-8a4b-da272a8207b8",
   "metadata": {},
   "outputs": [
    {
     "data": {
      "text/plain": [
       "'chayotes'"
      ]
     },
     "execution_count": 70,
     "metadata": {},
     "output_type": "execute_result"
    }
   ],
   "source": [
    "#c tiene la posición 13\n",
    "pos_i = 13\n",
    "pos_f = 20\n",
    "a [pos_i:pos_f+ 1 ]"
   ]
  },
  {
   "cell_type": "code",
   "execution_count": null,
   "id": "9c1c28bb-1c60-4a77-8298-7a12fecf6664",
   "metadata": {},
   "outputs": [],
   "source": [
    "b\n"
   ]
  },
  {
   "cell_type": "code",
   "execution_count": 71,
   "id": "66af8eab-4735-4bd1-8a2d-119b762c3058",
   "metadata": {},
   "outputs": [
    {
     "data": {
      "text/plain": [
       "'hola jolines chayotes verdes'"
      ]
     },
     "execution_count": 71,
     "metadata": {},
     "output_type": "execute_result"
    }
   ],
   "source": [
    "a"
   ]
  },
  {
   "cell_type": "code",
   "execution_count": 73,
   "id": "50399134-65d9-49cd-a656-d998b4951b19",
   "metadata": {},
   "outputs": [
    {
     "data": {
      "text/plain": [
       "' oie hyt'"
      ]
     },
     "execution_count": 73,
     "metadata": {},
     "output_type": "execute_result"
    }
   ],
   "source": [
    "a [4:20:2 ]\n",
    "#el rango funciona como range(pos_i,pos_f,salto)"
   ]
  },
  {
   "cell_type": "code",
   "execution_count": 74,
   "id": "0d04000e-02dc-466e-87c9-8db6c537b497",
   "metadata": {},
   "outputs": [
    {
     "data": {
      "text/plain": [
       "28"
      ]
     },
     "execution_count": 74,
     "metadata": {},
     "output_type": "execute_result"
    }
   ],
   "source": [
    "len(a)"
   ]
  },
  {
   "cell_type": "code",
   "execution_count": 75,
   "id": "cf05e981-c94b-4f0c-98e2-fbc3e37fc0e6",
   "metadata": {},
   "outputs": [
    {
     "data": {
      "text/plain": [
       "'s'"
      ]
     },
     "execution_count": 75,
     "metadata": {},
     "output_type": "execute_result"
    }
   ],
   "source": [
    "a [27 ]"
   ]
  },
  {
   "cell_type": "code",
   "execution_count": 76,
   "id": "a1f57114-effa-4c31-9e63-c5e1a1f81ad0",
   "metadata": {},
   "outputs": [
    {
     "data": {
      "text/plain": [
       "(28, 's', 's')"
      ]
     },
     "execution_count": 76,
     "metadata": {},
     "output_type": "execute_result"
    }
   ],
   "source": [
    "len (a),a  [27 ],a [ len(a)-1]"
   ]
  },
  {
   "cell_type": "code",
   "execution_count": 77,
   "id": "98889f28-ec1f-4e9c-8888-b4e88ea71ff8",
   "metadata": {},
   "outputs": [
    {
     "data": {
      "text/plain": [
       "'hola jolines chayotes verdes'"
      ]
     },
     "execution_count": 77,
     "metadata": {},
     "output_type": "execute_result"
    }
   ],
   "source": [
    "a"
   ]
  },
  {
   "cell_type": "code",
   "execution_count": 78,
   "id": "5ef8df12-91c3-4225-ae95-c1a181500c06",
   "metadata": {},
   "outputs": [
    {
     "data": {
      "text/plain": [
       "'s'"
      ]
     },
     "execution_count": 78,
     "metadata": {},
     "output_type": "execute_result"
    }
   ],
   "source": [
    "a  [ -1]"
   ]
  },
  {
   "cell_type": "code",
   "execution_count": 79,
   "id": "d11921aa-a006-42e0-8625-2b95e064ee91",
   "metadata": {},
   "outputs": [
    {
     "data": {
      "text/plain": [
       "'v'"
      ]
     },
     "execution_count": 79,
     "metadata": {},
     "output_type": "execute_result"
    }
   ],
   "source": [
    "a [-6 ]"
   ]
  },
  {
   "cell_type": "code",
   "execution_count": 80,
   "id": "149745c8-6a80-41d3-8e08-74dc48961d96",
   "metadata": {},
   "outputs": [
    {
     "ename": "IndexError",
     "evalue": "string index out of range",
     "output_type": "error",
     "traceback": [
      "\u001b[1;31m---------------------------------------------------------------------------\u001b[0m",
      "\u001b[1;31mIndexError\u001b[0m                                Traceback (most recent call last)",
      "Cell \u001b[1;32mIn[80], line 2\u001b[0m\n\u001b[0;32m      1\u001b[0m \u001b[38;5;66;03m# si se pone un numero mayor al que abarca los elementos de la variable saldrá error\u001b[39;00m\n\u001b[1;32m----> 2\u001b[0m \u001b[43ma\u001b[49m\u001b[43m \u001b[49m\u001b[43m[\u001b[49m\u001b[43m \u001b[49m\u001b[38;5;241;43m-\u001b[39;49m\u001b[38;5;241;43m50\u001b[39;49m\u001b[43m]\u001b[49m\n",
      "\u001b[1;31mIndexError\u001b[0m: string index out of range"
     ]
    }
   ],
   "source": [
    "# si se pone un numero mayor al que abarca los elementos de la variable saldrá error\n",
    "a [ -50]"
   ]
  },
  {
   "cell_type": "code",
   "execution_count": 81,
   "id": "cf470539-a3fc-453b-bb41-9b3a5e3fd632",
   "metadata": {},
   "outputs": [
    {
     "data": {
      "text/plain": [
       "'hola jolines chayotes verdes'"
      ]
     },
     "execution_count": 81,
     "metadata": {},
     "output_type": "execute_result"
    }
   ],
   "source": [
    "a"
   ]
  },
  {
   "cell_type": "code",
   "execution_count": 87,
   "id": "e777e678-4635-4fe7-8618-19db5b7f0dbb",
   "metadata": {},
   "outputs": [
    {
     "data": {
      "text/plain": [
       "'hola'"
      ]
     },
     "execution_count": 87,
     "metadata": {},
     "output_type": "execute_result"
    }
   ],
   "source": [
    "# para decirle que abarque una posición,un rango\n",
    "a [:4 ]\n"
   ]
  },
  {
   "cell_type": "code",
   "execution_count": 88,
   "id": "ea8c1b08-3d47-4702-b37b-349d30dd65a6",
   "metadata": {},
   "outputs": [
    {
     "data": {
      "text/plain": [
       "'hola jolines chayotes verdes'"
      ]
     },
     "execution_count": 88,
     "metadata": {},
     "output_type": "execute_result"
    }
   ],
   "source": [
    "a [: ]"
   ]
  },
  {
   "cell_type": "code",
   "execution_count": 89,
   "id": "2ca22987-c8c9-4b16-b35c-bda723d63928",
   "metadata": {},
   "outputs": [
    {
     "data": {
      "text/plain": [
       "'sedrev setoyahc seniloj aloh'"
      ]
     },
     "execution_count": 89,
     "metadata": {},
     "output_type": "execute_result"
    }
   ],
   "source": [
    "a  [::-1 ]"
   ]
  },
  {
   "cell_type": "code",
   "execution_count": 90,
   "id": "7d0dbca2-8d97-4c03-b2bd-6fe2c999702d",
   "metadata": {},
   "outputs": [
    {
     "data": {
      "text/plain": [
       "'sde eoacsnljao'"
      ]
     },
     "execution_count": 90,
     "metadata": {},
     "output_type": "execute_result"
    }
   ],
   "source": [
    "a  [::-2 ]"
   ]
  },
  {
   "cell_type": "code",
   "execution_count": null,
   "id": "e74c13a8-e351-4d7b-8cf2-e55e1159a516",
   "metadata": {},
   "outputs": [],
   "source": []
  }
 ],
 "metadata": {
  "kernelspec": {
   "display_name": "Python 3 (ipykernel)",
   "language": "python",
   "name": "python3"
  },
  "language_info": {
   "codemirror_mode": {
    "name": "ipython",
    "version": 3
   },
   "file_extension": ".py",
   "mimetype": "text/x-python",
   "name": "python",
   "nbconvert_exporter": "python",
   "pygments_lexer": "ipython3",
   "version": "3.10.4"
  }
 },
 "nbformat": 4,
 "nbformat_minor": 5
}
