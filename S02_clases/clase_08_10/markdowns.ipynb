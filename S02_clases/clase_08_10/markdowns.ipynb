{
 "cells": [
  {
   "cell_type": "markdown",
   "id": "92c3d6e4-8401-4afe-8465-198efaf893e8",
   "metadata": {},
   "source": [
    "los markdown son para agregar texto que no forme parte del código "
   ]
  },
  {
   "cell_type": "code",
   "execution_count": 4,
   "id": "b505626a-acd6-411a-9c74-42ccf6723453",
   "metadata": {},
   "outputs": [],
   "source": [
    "casa = 7"
   ]
  },
  {
   "cell_type": "code",
   "execution_count": 5,
   "id": "77cca58d-f404-404e-aed9-0f23349a7333",
   "metadata": {},
   "outputs": [
    {
     "data": {
      "text/plain": [
       "7"
      ]
     },
     "execution_count": 5,
     "metadata": {},
     "output_type": "execute_result"
    }
   ],
   "source": [
    "casa"
   ]
  },
  {
   "cell_type": "code",
   "execution_count": null,
   "id": "03f0d926-d178-4e3e-b6cd-9b2692fe006e",
   "metadata": {},
   "outputs": [],
   "source": [
    " a"
   ]
  },
  {
   "cell_type": "markdown",
   "id": "c4909475-c6e5-454f-ae88-77a8912cb2f3",
   "metadata": {},
   "source": [
    "Esc + a =insertar celda arriba\n"
   ]
  },
  {
   "cell_type": "markdown",
   "id": "e05b3322-853e-4d57-88a8-4b64a945bf48",
   "metadata": {},
   "source": [
    "esc + b = insertar celda abajo"
   ]
  },
  {
   "cell_type": "markdown",
   "id": "4c7b2743-4157-411d-a0ef-867fd9fbf8c9",
   "metadata": {},
   "source": [
    "casa=15"
   ]
  },
  {
   "cell_type": "markdown",
   "id": "f5e78d14-79c4-4a11-9e55-d82e5979ae33",
   "metadata": {},
   "source": [
    "# title\n",
    "## subtitle\n",
    "### section\n",
    "#### subsection\n",
    "##### text\n",
    "###### more text"
   ]
  },
  {
   "cell_type": "markdown",
   "id": "c883447c-6ce3-4eda-ba4b-892f56e9390a",
   "metadata": {},
   "source": [
    "esc + m = convierte la celda en markdown\n",
    "*texto o más texto*\n",
    "**texto** "
   ]
  },
  {
   "cell_type": "markdown",
   "id": "bf3b0901-f759-480e-b0fa-fc5af0b39d63",
   "metadata": {},
   "source": [
    "#lista\n",
    "- item1\n",
    "- item2\n",
    "- item3\n",
    "1. cosa numerada 1\n",
    "1. cosa numerada 2\n",
    "   1. cosa subnumerada 1\n",
    "      1. cosa subnumerada\n",
    "         1. cosa subnumerada\n",
    "1. cosa numerada 3"
   ]
  },
  {
   "cell_type": "code",
   "execution_count": 11,
   "id": "aa614db6-5f99-4f30-830c-2b61997ca3e9",
   "metadata": {},
   "outputs": [],
   "source": [
    "dictionary={\"llave\": \"valor\", \"llave2\": \"valor2\", \"cosa\":5, \"otra cosa\": [3,2,\"k\"],\"llave3\":(1,2,\"1\")} "
   ]
  },
  {
   "cell_type": "code",
   "execution_count": 12,
   "id": "c4da5d70-4fa7-4bba-a8a3-7ad339918bc1",
   "metadata": {},
   "outputs": [
    {
     "data": {
      "text/plain": [
       "'valor'"
      ]
     },
     "execution_count": 12,
     "metadata": {},
     "output_type": "execute_result"
    }
   ],
   "source": [
    "dictionary [\"llave\"]"
   ]
  },
  {
   "cell_type": "code",
   "execution_count": 13,
   "id": "28268b43-f978-4a4a-aa01-01f1fec97794",
   "metadata": {},
   "outputs": [
    {
     "data": {
      "text/plain": [
       "(1, 2, '1')"
      ]
     },
     "execution_count": 13,
     "metadata": {},
     "output_type": "execute_result"
    }
   ],
   "source": [
    "dictionary [\"llave3\"]"
   ]
  },
  {
   "cell_type": "code",
   "execution_count": 14,
   "id": "417044ea-521e-448d-ba90-2c4cbd4023d3",
   "metadata": {},
   "outputs": [
    {
     "data": {
      "text/plain": [
       "6"
      ]
     },
     "execution_count": 14,
     "metadata": {},
     "output_type": "execute_result"
    }
   ],
   "source": [
    "dictionary [\"cosa\"] + 1"
   ]
  },
  {
   "cell_type": "code",
   "execution_count": null,
   "id": "2e0f0c67-2c23-41f4-98b1-e733985c42e6",
   "metadata": {},
   "outputs": [],
   "source": []
  }
 ],
 "metadata": {
  "kernelspec": {
   "display_name": "Python 3 (ipykernel)",
   "language": "python",
   "name": "python3"
  },
  "language_info": {
   "codemirror_mode": {
    "name": "ipython",
    "version": 3
   },
   "file_extension": ".py",
   "mimetype": "text/x-python",
   "name": "python",
   "nbconvert_exporter": "python",
   "pygments_lexer": "ipython3",
   "version": "3.10.4"
  }
 },
 "nbformat": 4,
 "nbformat_minor": 5
}
