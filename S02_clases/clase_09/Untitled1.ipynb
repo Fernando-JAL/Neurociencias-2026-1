{
 "cells": [
  {
   "cell_type": "code",
   "execution_count": 11,
   "id": "13ce79e3-b7ae-4779-bf0f-52f123973334",
   "metadata": {},
   "outputs": [],
   "source": [
    "import pandas as pd\n",
    "import numpy as np"
   ]
  },
  {
   "cell_type": "code",
   "execution_count": 5,
   "id": "5090e738-cac5-4760-8747-1f93a9e44734",
   "metadata": {},
   "outputs": [
    {
     "data": {
      "text/plain": [
       "0                   6\n",
       "1                   8\n",
       "2                azyk\n",
       "3    {'key': 'value'}\n",
       "4                (3,)\n",
       "dtype: object"
      ]
     },
     "execution_count": 5,
     "metadata": {},
     "output_type": "execute_result"
    }
   ],
   "source": [
    "valores = [6, 8,(3,)]\n",
    "indice = range(len(data))\n",
    "\n",
    "pd.Series(data = valores, index = indice)\n"
   ]
  },
  {
   "cell_type": "code",
   "execution_count": null,
   "id": "c7b1871b-4a62-42d5-ae82-749156196a2e",
   "metadata": {},
   "outputs": [],
   "source": [
    "pd.Series(data = valores, index = indice)\n"
   ]
  },
  {
   "cell_type": "code",
   "execution_count": 6,
   "id": "fe412aef-39b7-411c-840b-433c5b333c5c",
   "metadata": {},
   "outputs": [
    {
     "data": {
      "text/plain": [
       "0            28\n",
       "1           ahm\n",
       "2    conjunto 4\n",
       "3             3\n",
       "4            16\n",
       "dtype: object"
      ]
     },
     "execution_count": 6,
     "metadata": {},
     "output_type": "execute_result"
    }
   ],
   "source": [
    "valores2 = [28, 3, 16]\n",
    "serie2 = pd.Series(index=indice, data =valores2)\n",
    "serie2\n"
   ]
  },
  {
   "cell_type": "code",
   "execution_count": 12,
   "id": "72e29d66-4558-4945-8d9c-a60b83355526",
   "metadata": {},
   "outputs": [],
   "source": [
    "array = np.random.normal(-10,10,size =[4,4])"
   ]
  },
  {
   "cell_type": "code",
   "execution_count": 16,
   "id": "44dd7c1f-01f3-4852-b94b-9a7018a81442",
   "metadata": {},
   "outputs": [
    {
     "data": {
      "text/html": [
       "<div>\n",
       "<style scoped>\n",
       "    .dataframe tbody tr th:only-of-type {\n",
       "        vertical-align: middle;\n",
       "    }\n",
       "\n",
       "    .dataframe tbody tr th {\n",
       "        vertical-align: top;\n",
       "    }\n",
       "\n",
       "    .dataframe thead th {\n",
       "        text-align: right;\n",
       "    }\n",
       "</style>\n",
       "<table border=\"1\" class=\"dataframe\">\n",
       "  <thead>\n",
       "    <tr style=\"text-align: right;\">\n",
       "      <th></th>\n",
       "      <th>W</th>\n",
       "      <th>X</th>\n",
       "    </tr>\n",
       "  </thead>\n",
       "  <tbody>\n",
       "    <tr>\n",
       "      <th>a</th>\n",
       "      <td>2</td>\n",
       "      <td>3</td>\n",
       "    </tr>\n",
       "    <tr>\n",
       "      <th>b</th>\n",
       "      <td>4</td>\n",
       "      <td>5</td>\n",
       "    </tr>\n",
       "  </tbody>\n",
       "</table>\n",
       "</div>"
      ],
      "text/plain": [
       "   W  X\n",
       "a  2  3\n",
       "b  4  5"
      ]
     },
     "execution_count": 16,
     "metadata": {},
     "output_type": "execute_result"
    }
   ],
   "source": [
    "pd.DataFrame([[2,3],[4,5]], index= ['a','b'], columns=['W','X'])"
   ]
  },
  {
   "cell_type": "code",
   "execution_count": 17,
   "id": "252fdfa3-efe3-4463-a498-efdf7bef172b",
   "metadata": {},
   "outputs": [
    {
     "data": {
      "text/plain": [
       "4"
      ]
     },
     "execution_count": 17,
     "metadata": {},
     "output_type": "execute_result"
    }
   ],
   "source": [
    "len(array)"
   ]
  },
  {
   "cell_type": "code",
   "execution_count": 18,
   "id": "dcf3b776-b792-488f-a385-0af97aaf5073",
   "metadata": {},
   "outputs": [
    {
     "data": {
      "text/html": [
       "<div>\n",
       "<style scoped>\n",
       "    .dataframe tbody tr th:only-of-type {\n",
       "        vertical-align: middle;\n",
       "    }\n",
       "\n",
       "    .dataframe tbody tr th {\n",
       "        vertical-align: top;\n",
       "    }\n",
       "\n",
       "    .dataframe thead th {\n",
       "        text-align: right;\n",
       "    }\n",
       "</style>\n",
       "<table border=\"1\" class=\"dataframe\">\n",
       "  <thead>\n",
       "    <tr style=\"text-align: right;\">\n",
       "      <th></th>\n",
       "      <th>0</th>\n",
       "      <th>1</th>\n",
       "      <th>2</th>\n",
       "      <th>3</th>\n",
       "    </tr>\n",
       "  </thead>\n",
       "  <tbody>\n",
       "    <tr>\n",
       "      <th>1</th>\n",
       "      <td>-4.691693</td>\n",
       "      <td>-14.846573</td>\n",
       "      <td>-12.053908</td>\n",
       "      <td>-10.928846</td>\n",
       "    </tr>\n",
       "    <tr>\n",
       "      <th>2</th>\n",
       "      <td>-17.659728</td>\n",
       "      <td>-3.721544</td>\n",
       "      <td>-6.315987</td>\n",
       "      <td>-10.436200</td>\n",
       "    </tr>\n",
       "    <tr>\n",
       "      <th>3</th>\n",
       "      <td>-14.948332</td>\n",
       "      <td>6.679777</td>\n",
       "      <td>-28.034246</td>\n",
       "      <td>0.140934</td>\n",
       "    </tr>\n",
       "    <tr>\n",
       "      <th>4</th>\n",
       "      <td>-8.261129</td>\n",
       "      <td>-19.846770</td>\n",
       "      <td>-23.277961</td>\n",
       "      <td>-11.019385</td>\n",
       "    </tr>\n",
       "  </tbody>\n",
       "</table>\n",
       "</div>"
      ],
      "text/plain": [
       "           0          1          2          3\n",
       "1  -4.691693 -14.846573 -12.053908 -10.928846\n",
       "2 -17.659728  -3.721544  -6.315987 -10.436200\n",
       "3 -14.948332   6.679777 -28.034246   0.140934\n",
       "4  -8.261129 -19.846770 -23.277961 -11.019385"
      ]
     },
     "execution_count": 18,
     "metadata": {},
     "output_type": "execute_result"
    }
   ],
   "source": [
    "pd.DataFrame(array, index =range (1, len(array)+1))"
   ]
  },
  {
   "cell_type": "code",
   "execution_count": 15,
   "id": "bfcd9e51-937c-4522-8aee-c0db7dda59cd",
   "metadata": {},
   "outputs": [
    {
     "ename": "NameError",
     "evalue": "name 'df' is not defined",
     "output_type": "error",
     "traceback": [
      "\u001b[1;31m---------------------------------------------------------------------------\u001b[0m",
      "\u001b[1;31mNameError\u001b[0m                                 Traceback (most recent call last)",
      "Cell \u001b[1;32mIn[15], line 1\u001b[0m\n\u001b[1;32m----> 1\u001b[0m \u001b[43mdf\u001b[49m\u001b[38;5;241m.\u001b[39mX\n",
      "\u001b[1;31mNameError\u001b[0m: name 'df' is not defined"
     ]
    }
   ],
   "source": [
    "df.X"
   ]
  },
  {
   "cell_type": "code",
   "execution_count": null,
   "id": "124e845a-9308-47f3-92d6-b0d12ddee840",
   "metadata": {},
   "outputs": [],
   "source": [
    "df['suma_X_Z'] =df.X + df.Z\n",
    "df"
   ]
  },
  {
   "cell_type": "code",
   "execution_count": null,
   "id": "a1cd236c-416a-493b-ab1e-28d1f0aa1dd4",
   "metadata": {},
   "outputs": [],
   "source": [
    "df.drop('Y', axis=1)"
   ]
  },
  {
   "cell_type": "code",
   "execution_count": null,
   "id": "15664ea5-0f16-4246-9bac-1f038e1751ee",
   "metadata": {},
   "outputs": [],
   "source": [
    "df.drop(3, axis=0)"
   ]
  }
 ],
 "metadata": {
  "kernelspec": {
   "display_name": "Python 3 (ipykernel)",
   "language": "python",
   "name": "python3"
  },
  "language_info": {
   "codemirror_mode": {
    "name": "ipython",
    "version": 3
   },
   "file_extension": ".py",
   "mimetype": "text/x-python",
   "name": "python",
   "nbconvert_exporter": "python",
   "pygments_lexer": "ipython3",
   "version": "3.10.7"
  }
 },
 "nbformat": 4,
 "nbformat_minor": 5
}
