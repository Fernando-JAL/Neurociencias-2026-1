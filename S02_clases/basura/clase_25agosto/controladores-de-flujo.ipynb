{
 "cells": [
  {
   "cell_type": "markdown",
   "id": "ee4e6ab7-a3aa-4306-b74a-bdf8d07c6098",
   "metadata": {},
   "source": [
    "# Controladores de flujo\n",
    "\n",
    "Estructuras de control _condicionada_. Nos permiten evaluar si una o más condiciones se cumplen para decidir la próxima acción a tomar. Nótese que la evaluación de condiciones solo puede arrojar como resulteado un boolean.\n",
    "\n",
    "Los posibles controladores de flujo son:\n",
    "- if\n",
    "- elif\n",
    "- else\n",
    "- while\n",
    "- for"
   ]
  },
  {
   "cell_type": "code",
   "execution_count": 6,
   "id": "83ad3f18-8a09-4f8f-b580-15a216e954ac",
   "metadata": {},
   "outputs": [
    {
     "name": "stdout",
     "output_type": "stream",
     "text": [
      "bienvenido al True\n"
     ]
    }
   ],
   "source": [
    "# Mientras if contenga True, arrojará True (esto no pasa con False)\n",
    "if True:\n",
    "    print('bienvenido al True')"
   ]
  },
  {
   "cell_type": "code",
   "execution_count": 1,
   "id": "3a868c04-e40b-458e-b973-12cc5248367f",
   "metadata": {},
   "outputs": [
    {
     "name": "stdout",
     "output_type": "stream",
     "text": [
      "entró al if\n"
     ]
    }
   ],
   "source": [
    "a = 2\n",
    "if a > 0:\n",
    "        print('entró al if')"
   ]
  },
  {
   "cell_type": "code",
   "execution_count": 2,
   "id": "fe4551de-a32b-40ec-bad3-3721ad944bc0",
   "metadata": {},
   "outputs": [
    {
     "name": "stdout",
     "output_type": "stream",
     "text": [
      "pues a no es mayor que 5\n",
      "código después del if\n"
     ]
    }
   ],
   "source": [
    "a = 5\n",
    "if a > 5:\n",
    "        print('a mayor que 5')\n",
    "else:\n",
    "        print('pues a no es mayor que 5')\n",
    "print('código después del if')"
   ]
  },
  {
   "cell_type": "code",
   "execution_count": 3,
   "id": "285c7276-94fe-42dd-a608-02d61482dcbe",
   "metadata": {},
   "outputs": [
    {
     "name": "stdout",
     "output_type": "stream",
     "text": [
      "a es impar y b no me importa\n",
      "continuamos\n"
     ]
    }
   ],
   "source": [
    "a, b = 17.5, -15\n",
    "if a % 2 == 0:\n",
    "    print('a es par')\n",
    "    if b > 0:\n",
    "        print('b es positivo')\n",
    "    else:\n",
    "        print('b es gruñón')\n",
    "else:\n",
    "    print('a es impar y b no me importa')\n",
    "\n",
    "print('continuamos')"
   ]
  },
  {
   "cell_type": "code",
   "execution_count": 8,
   "id": "396f3c0b-41a6-4511-9259-91cd8ca1f920",
   "metadata": {},
   "outputs": [
    {
     "name": "stdout",
     "output_type": "stream",
     "text": [
      "a en la lista\n",
      "hay que seguirle\n"
     ]
    }
   ],
   "source": [
    "lista = [5, 7, 9, 10]\n",
    "a, b = 9, 17 \n",
    "\n",
    "if a in lista:\n",
    "    print('a en la lista')\n",
    "elif a % 2 == 0:\n",
    "    print('a es par')\n",
    "else:\n",
    "    print('pues nadota')\n",
    "\n",
    "print('hay que seguirle')"
   ]
  }
 ],
 "metadata": {
  "kernelspec": {
   "display_name": "Python 3 (ipykernel)",
   "language": "python",
   "name": "python3"
  },
  "language_info": {
   "codemirror_mode": {
    "name": "ipython",
    "version": 3
   },
   "file_extension": ".py",
   "mimetype": "text/x-python",
   "name": "python",
   "nbconvert_exporter": "python",
   "pygments_lexer": "ipython3",
   "version": "3.13.7"
  }
 },
 "nbformat": 4,
 "nbformat_minor": 5
}
