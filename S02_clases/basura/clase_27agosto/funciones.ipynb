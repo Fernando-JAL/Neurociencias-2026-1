{
 "cells": [
  {
   "cell_type": "markdown",
   "id": "f1c629c3-f63d-49fb-a8ff-3fb904e4ed37",
   "metadata": {},
   "source": [
    "# Funciones\n",
    "Fragmentos de código que se pueden multiplicar múltiples veces. Pueden recibir y/o devolver información/datos/variables para comunicarse con el código/proceso principal."
   ]
  },
  {
   "cell_type": "code",
   "execution_count": 2,
   "id": "bcb10e7c-73c8-4986-8160-6da01ea35508",
   "metadata": {},
   "outputs": [
    {
     "name": "stdout",
     "output_type": "stream",
     "text": [
      "Hello world, Dennis Ritchie\n"
     ]
    }
   ],
   "source": [
    "def saludar():\n",
    "    print('Hello world, Dennis Ritchie')\n",
    "saludar()"
   ]
  },
  {
   "cell_type": "code",
   "execution_count": 3,
   "id": "2525328a-e4f7-44b1-99c0-1de9adbd5d6b",
   "metadata": {},
   "outputs": [
    {
     "name": "stdout",
     "output_type": "stream",
     "text": [
      "Hello world, Dennis Ritchie\n",
      "Hello world, Dennis Ritchie\n",
      "Hello world, Dennis Ritchie\n"
     ]
    }
   ],
   "source": [
    "for _ in range(3):\n",
    "    saludar()"
   ]
  },
  {
   "cell_type": "code",
   "execution_count": 5,
   "id": "17b1251c-d4c1-4de8-a9a8-bd9ba1f95440",
   "metadata": {},
   "outputs": [
    {
     "data": {
      "text/plain": [
       "7.0"
      ]
     },
     "execution_count": 5,
     "metadata": {},
     "output_type": "execute_result"
    }
   ],
   "source": [
    "lista = [3,5,7,9,11]\n",
    "sum(lista)/len(lista)"
   ]
  },
  {
   "cell_type": "code",
   "execution_count": null,
   "id": "027cc46d-9e60-4ecd-bcca-409dfcb0ecce",
   "metadata": {},
   "outputs": [],
   "source": [
    "# Algunos ejemplos de funciones: list, str, int, float, sum, min, max, input"
   ]
  },
  {
   "cell_type": "code",
   "execution_count": 23,
   "id": "378c23e0-bb35-4d86-9fb8-eba28c7a84d5",
   "metadata": {},
   "outputs": [],
   "source": [
    "numeros = [3,5,7,9,11]\n",
    "def promedio(numeros): # Argumento: lo que tenga en los paréntesis\n",
    "    valor_promedio = sum(numeros)/len(numeros)\n",
    "    print(f'El promedio de los números es {valor_promedio}')\n",
    "    return valor_promedio\n",
    "# ME MARCA ERROR"
   ]
  },
  {
   "cell_type": "code",
   "execution_count": 24,
   "id": "cb2368dd-a172-4116-a117-44ced52098cc",
   "metadata": {},
   "outputs": [
    {
     "name": "stdout",
     "output_type": "stream",
     "text": [
      "El promedio de los números es 7.0\n"
     ]
    }
   ],
   "source": [
    "valor_f = promedio(numeros)"
   ]
  },
  {
   "cell_type": "code",
   "execution_count": 27,
   "id": "c5e7fcec-942a-437e-a716-25f875e14410",
   "metadata": {},
   "outputs": [],
   "source": [
    "def minimo(val_a, val_b):\n",
    "    val_minimo = min(val_a, val, b)\n",
    "    return val_minimo\n",
    "# ME MARCA ERROR"
   ]
  },
  {
   "cell_type": "code",
   "execution_count": 28,
   "id": "3d430434-21be-4a90-a659-7903408c501e",
   "metadata": {},
   "outputs": [
    {
     "ename": "NameError",
     "evalue": "name 'val' is not defined",
     "output_type": "error",
     "traceback": [
      "\u001b[31m---------------------------------------------------------------------------\u001b[39m",
      "\u001b[31mNameError\u001b[39m                                 Traceback (most recent call last)",
      "\u001b[36mCell\u001b[39m\u001b[36m \u001b[39m\u001b[32mIn[28]\u001b[39m\u001b[32m, line 1\u001b[39m\n\u001b[32m----> \u001b[39m\u001b[32m1\u001b[39m \u001b[43mminimo\u001b[49m\u001b[43m(\u001b[49m\u001b[43m-\u001b[49m\u001b[32;43m10\u001b[39;49m\u001b[43m,\u001b[49m\u001b[43m \u001b[49m\u001b[43m-\u001b[49m\u001b[32;43m50\u001b[39;49m\u001b[43m)\u001b[49m\n",
      "\u001b[36mCell\u001b[39m\u001b[36m \u001b[39m\u001b[32mIn[27]\u001b[39m\u001b[32m, line 2\u001b[39m, in \u001b[36mminimo\u001b[39m\u001b[34m(val_a, val_b)\u001b[39m\n\u001b[32m      1\u001b[39m \u001b[38;5;28;01mdef\u001b[39;00m\u001b[38;5;250m \u001b[39m\u001b[34mminimo\u001b[39m(val_a, val_b):\n\u001b[32m----> \u001b[39m\u001b[32m2\u001b[39m     val_minimo = \u001b[38;5;28mmin\u001b[39m(val_a, \u001b[43mval\u001b[49m, b)\n\u001b[32m      3\u001b[39m     \u001b[38;5;28;01mreturn\u001b[39;00m val_minimo\n",
      "\u001b[31mNameError\u001b[39m: name 'val' is not defined"
     ]
    }
   ],
   "source": [
    "minimo(-10, -50)"
   ]
  },
  {
   "cell_type": "code",
   "execution_count": 39,
   "id": "61789833-adb4-4ba9-9c0b-af89cecd6f03",
   "metadata": {},
   "outputs": [
    {
     "data": {
      "text/plain": [
       "3628800"
      ]
     },
     "execution_count": 39,
     "metadata": {},
     "output_type": "execute_result"
    }
   ],
   "source": [
    "# Ejercicio: Hacer una función para calcular el factorial de un número\n",
    "def factorial(valor):\n",
    "    resultado = 1\n",
    "    for val in range(1, valor+1):\n",
    "        resultado *= val\n",
    "    return resultado\n",
    "    \n",
    "factorial(10)"
   ]
  }
 ],
 "metadata": {
  "kernelspec": {
   "display_name": "Python 3 (ipykernel)",
   "language": "python",
   "name": "python3"
  },
  "language_info": {
   "codemirror_mode": {
    "name": "ipython",
    "version": 3
   },
   "file_extension": ".py",
   "mimetype": "text/x-python",
   "name": "python",
   "nbconvert_exporter": "python",
   "pygments_lexer": "ipython3",
   "version": "3.13.7"
  }
 },
 "nbformat": 4,
 "nbformat_minor": 5
}
