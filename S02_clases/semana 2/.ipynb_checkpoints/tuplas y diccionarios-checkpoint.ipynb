{
 "cells": [
  {
   "cell_type": "markdown",
   "id": "979eb7f9-7830-406f-a1f2-ac1ca37bb6c2",
   "metadata": {},
   "source": [
    "# Cadenas inmutables"
   ]
  },
  {
   "cell_type": "code",
   "execution_count": 1,
   "id": "840d71bf-765c-4d05-828d-3ee9bada9d43",
   "metadata": {},
   "outputs": [
    {
     "data": {
      "text/plain": [
       "'cadena'"
      ]
     },
     "execution_count": 1,
     "metadata": {},
     "output_type": "execute_result"
    }
   ],
   "source": [
    "cadena = \"cadena\"\n",
    "cadena"
   ]
  },
  {
   "cell_type": "markdown",
   "id": "ea04364e-39b1-47c4-a19a-b867cebe49aa",
   "metadata": {},
   "source": [
    "#Alternativas a la inmutabilidad"
   ]
  },
  {
   "cell_type": "code",
   "execution_count": 2,
   "id": "9b6c1950-29c4-43f6-b44e-4a7d4041181f",
   "metadata": {},
   "outputs": [],
   "source": [
    "cadena = \"donde esta oswaldo\"\n",
    "cadena2 = \"viva la programación\"\n",
    "cadena3 = \"bts volvió del ejercito\""
   ]
  },
  {
   "cell_type": "code",
   "execution_count": 3,
   "id": "d4e80451-1c77-4208-bcb2-e59a423d5f70",
   "metadata": {},
   "outputs": [
    {
     "data": {
      "text/plain": [
       "'oswaldo volvió a la programación ed óivlov stb'"
      ]
     },
     "execution_count": 3,
     "metadata": {},
     "output_type": "execute_result"
    }
   ],
   "source": [
    "# Ejercicio. Con slicing, crear la frase:\n",
    "# \"oswaldo volvió a la programción ed óivlov stb\"\n",
    "cadena[-7:] + cadena3[3: 11] + 'a ' + cadena2[5:] + ' ' + cadena3[-11::-1]"
   ]
  },
  {
   "cell_type": "code",
   "execution_count": 4,
   "id": "74aaa3f0-d8ee-4ac5-88d5-613589053ce3",
   "metadata": {},
   "outputs": [
    {
     "data": {
      "text/plain": [
       "'C:\\\\Users\\\\Examen de ingreso\\\\Documents\\\\GitHub\\\\Neurociencias-2026-1\\\\S01_presentacion\\\\02 Tipos de datos.pptx'"
      ]
     },
     "execution_count": 4,
     "metadata": {},
     "output_type": "execute_result"
    }
   ],
   "source": [
    "ruta = r\"C:\\Users\\Examen de ingreso\\Documents\\GitHub\\Neurociencias-2026-1\\S01_presentacion\\02 Tipos de datos.pptx\"\n",
    "ruta"
   ]
  },
  {
   "cell_type": "code",
   "execution_count": 5,
   "id": "b671e25e-7604-49bd-a790-fccee02696b3",
   "metadata": {},
   "outputs": [
    {
     "data": {
      "text/plain": [
       "['C:',\n",
       " 'Users',\n",
       " 'Examen de ingreso',\n",
       " 'Documents',\n",
       " 'GitHub',\n",
       " 'Neurociencias-2026-1',\n",
       " 'S01_presentacion',\n",
       " '02 Tipos de datos.pptx']"
      ]
     },
     "execution_count": 5,
     "metadata": {},
     "output_type": "execute_result"
    }
   ],
   "source": [
    "ruta.split(sep = \"\\\\\")"
   ]
  },
  {
   "cell_type": "markdown",
   "id": "f2211d11-faaf-4c7e-a414-f829b05cc3d9",
   "metadata": {},
   "source": [
    "## Tipo de dato. Listas"
   ]
  },
  {
   "cell_type": "code",
   "execution_count": 6,
   "id": "bdb7088e-d68e-4ec0-afda-664d4f0a7006",
   "metadata": {},
   "outputs": [
    {
     "data": {
      "text/plain": [
       "[5, 4, 2, 90.3, (-7+6j), 'strings', 'alá', [3, 2, 5]]"
      ]
     },
     "execution_count": 6,
     "metadata": {},
     "output_type": "execute_result"
    }
   ],
   "source": [
    "lista = [5, 4, 2, 90.3, complex(-7, 6), 'strings', 'alá', [3, 2, 5]]\n",
    "lista"
   ]
  },
  {
   "cell_type": "code",
   "execution_count": 7,
   "id": "cb79e49e-b8e0-4375-9251-d53268ee21e4",
   "metadata": {},
   "outputs": [
    {
     "data": {
      "text/plain": [
       "'02 Tipos de datos'"
      ]
     },
     "execution_count": 7,
     "metadata": {},
     "output_type": "execute_result"
    }
   ],
   "source": [
    "var1 = ruta.split(sep = \"\\\\\")[-1].split(sep = \".pptx\")[0]\n",
    "var1"
   ]
  },
  {
   "cell_type": "code",
   "execution_count": 8,
   "id": "a25a1ef5-b5fa-4db4-943f-af08ca6d76ff",
   "metadata": {},
   "outputs": [
    {
     "data": {
      "text/plain": [
       "str"
      ]
     },
     "execution_count": 8,
     "metadata": {},
     "output_type": "execute_result"
    }
   ],
   "source": [
    "type(var1)"
   ]
  },
  {
   "cell_type": "markdown",
   "id": "c6ff24d2-6f4f-4136-b0b3-b201e62e8960",
   "metadata": {},
   "source": [
    "# Más de listas\n",
    "\n",
    "19/08/2025"
   ]
  },
  {
   "cell_type": "code",
   "execution_count": 30,
   "id": "af065d4e-18f0-4c20-a7cb-1397768df573",
   "metadata": {},
   "outputs": [],
   "source": [
    "lista=['rojo', 2.3, 100, 'chocolate']"
   ]
  },
  {
   "cell_type": "code",
   "execution_count": 21,
   "id": "c382a40f-1089-4e98-99d1-69043db13c8d",
   "metadata": {},
   "outputs": [
    {
     "data": {
      "text/plain": [
       "['rojo', 2.3, 100, 'chocolate', 'nuez']"
      ]
     },
     "execution_count": 21,
     "metadata": {},
     "output_type": "execute_result"
    }
   ],
   "source": [
    "lista.append('nuez')\n",
    "lista"
   ]
  },
  {
   "cell_type": "code",
   "execution_count": 22,
   "id": "aa8b5177-4f6e-4077-8262-27797230d6b9",
   "metadata": {},
   "outputs": [
    {
     "data": {
      "text/plain": [
       "list"
      ]
     },
     "execution_count": 22,
     "metadata": {},
     "output_type": "execute_result"
    }
   ],
   "source": [
    "type(lista)"
   ]
  },
  {
   "cell_type": "code",
   "execution_count": 17,
   "id": "b07fdca5-fdf5-451a-8f16-dc8a1df72a28",
   "metadata": {},
   "outputs": [
    {
     "data": {
      "text/plain": [
       "6"
      ]
     },
     "execution_count": 17,
     "metadata": {},
     "output_type": "execute_result"
    }
   ],
   "source": [
    "lista[-1]=[2,3,4]\n",
    "len(lista)"
   ]
  },
  {
   "cell_type": "code",
   "execution_count": 23,
   "id": "28668e47-6562-4adb-a62c-a50227c1fd24",
   "metadata": {},
   "outputs": [
    {
     "data": {
      "text/plain": [
       "['rojo', 2.3, 100, 'chocolate', 'nuez']"
      ]
     },
     "execution_count": 23,
     "metadata": {},
     "output_type": "execute_result"
    }
   ],
   "source": [
    "lista"
   ]
  },
  {
   "cell_type": "code",
   "execution_count": 31,
   "id": "8dc65f06-85d5-4035-9e7a-473410de2bfb",
   "metadata": {},
   "outputs": [
    {
     "data": {
      "text/plain": [
       "['rojo', 2.3, 100, 2, 3, 4]"
      ]
     },
     "execution_count": 31,
     "metadata": {},
     "output_type": "execute_result"
    }
   ],
   "source": [
    "lista[-1:]=[2,3,4]\n",
    "lista"
   ]
  },
  {
   "cell_type": "code",
   "execution_count": 32,
   "id": "ef8401e0-b572-4583-899a-a5ff5b5a4899",
   "metadata": {},
   "outputs": [],
   "source": [
    "#para eliminar un elemento de una lista se hace:\n",
    "del lista[2]"
   ]
  },
  {
   "cell_type": "code",
   "execution_count": 33,
   "id": "9bb3883f-d331-4bcb-a444-819edcb24378",
   "metadata": {},
   "outputs": [
    {
     "data": {
      "text/plain": [
       "['rojo', 2.3, 4]"
      ]
     },
     "execution_count": 33,
     "metadata": {},
     "output_type": "execute_result"
    }
   ],
   "source": [
    "del lista[2:4]\n",
    "lista"
   ]
  },
  {
   "cell_type": "code",
   "execution_count": 34,
   "id": "e5673015-30c7-404a-b958-b9891901d538",
   "metadata": {},
   "outputs": [],
   "source": [
    "del lista[:]\n"
   ]
  },
  {
   "cell_type": "code",
   "execution_count": 35,
   "id": "b5d70626-95ce-4841-b9c3-1040194ea500",
   "metadata": {},
   "outputs": [
    {
     "data": {
      "text/plain": [
       "[]"
      ]
     },
     "execution_count": 35,
     "metadata": {},
     "output_type": "execute_result"
    }
   ],
   "source": [
    "lista"
   ]
  },
  {
   "cell_type": "markdown",
   "id": "c6adcda2-82f6-4f92-858d-404176643eed",
   "metadata": {},
   "source": [
    "## Tuplas\n",
    "las tuplas a diferencia de las listas no son mutables, o sea no se pueden cambiar sus valores ni agregar "
   ]
  },
  {
   "cell_type": "code",
   "execution_count": 36,
   "id": "c36fc127-5d67-47a5-b6dd-161abfda4b7b",
   "metadata": {},
   "outputs": [],
   "source": [
    "import random"
   ]
  },
  {
   "cell_type": "code",
   "execution_count": 39,
   "id": "b714d90d-4d3d-42d5-b535-69bc339dffbe",
   "metadata": {},
   "outputs": [
    {
     "data": {
      "text/plain": [
       "(5, 2, '-1', [4, 2, 1], 'pasa')"
      ]
     },
     "execution_count": 39,
     "metadata": {},
     "output_type": "execute_result"
    }
   ],
   "source": [
    "variable=(5,2,'-1',[4,2,1],'pasa')\n",
    "variable"
   ]
  },
  {
   "cell_type": "code",
   "execution_count": 40,
   "id": "edc6bfa2-bf2a-4841-9365-29f08bcbbd3a",
   "metadata": {},
   "outputs": [
    {
     "data": {
      "text/plain": [
       "tuple"
      ]
     },
     "execution_count": 40,
     "metadata": {},
     "output_type": "execute_result"
    }
   ],
   "source": [
    "type(variable)"
   ]
  },
  {
   "cell_type": "code",
   "execution_count": 41,
   "id": "fcd0671d-1c21-46d0-a26b-332446cb8431",
   "metadata": {},
   "outputs": [
    {
     "data": {
      "text/plain": [
       "'pasa'"
      ]
     },
     "execution_count": 41,
     "metadata": {},
     "output_type": "execute_result"
    }
   ],
   "source": [
    "variable[-1]"
   ]
  },
  {
   "cell_type": "code",
   "execution_count": 43,
   "id": "615fe96e-0992-4460-9fe2-8f2208e29d6f",
   "metadata": {},
   "outputs": [
    {
     "data": {
      "text/plain": [
       "(2, '-1')"
      ]
     },
     "execution_count": 43,
     "metadata": {},
     "output_type": "execute_result"
    }
   ],
   "source": [
    "variable[1:-2]"
   ]
  },
  {
   "cell_type": "code",
   "execution_count": 44,
   "id": "c646a3b7-ec62-4471-a77b-0db2005c58cb",
   "metadata": {},
   "outputs": [
    {
     "data": {
      "text/plain": [
       "(2, '-1', [4, 2, 1])"
      ]
     },
     "execution_count": 44,
     "metadata": {},
     "output_type": "execute_result"
    }
   ],
   "source": [
    "variable[-4:4]"
   ]
  },
  {
   "cell_type": "code",
   "execution_count": 45,
   "id": "943a17b9-ea79-4d57-915e-735d663546f6",
   "metadata": {},
   "outputs": [],
   "source": [
    "t1,t2,t3=(4,5),(6,7),(8,9)"
   ]
  },
  {
   "cell_type": "code",
   "execution_count": 47,
   "id": "f85be871-b2b9-4df1-be8b-f9951481e925",
   "metadata": {},
   "outputs": [
    {
     "ename": "TypeError",
     "evalue": "'tuple' object does not support item assignment",
     "output_type": "error",
     "traceback": [
      "\u001b[31m---------------------------------------------------------------------------\u001b[39m",
      "\u001b[31mTypeError\u001b[39m                                 Traceback (most recent call last)",
      "\u001b[36mCell\u001b[39m\u001b[36m \u001b[39m\u001b[32mIn[47]\u001b[39m\u001b[32m, line 2\u001b[39m\n\u001b[32m      1\u001b[39m \u001b[38;5;66;03m#con las tuplas se pueden sumar entre ellas asi como multiplicaciones por escalares\u001b[39;00m\n\u001b[32m----> \u001b[39m\u001b[32m2\u001b[39m \u001b[43mt2\u001b[49m\u001b[43m[\u001b[49m\u001b[32;43m0\u001b[39;49m\u001b[43m]\u001b[49m=\u001b[32m5\u001b[39m\n",
      "\u001b[31mTypeError\u001b[39m: 'tuple' object does not support item assignment"
     ]
    }
   ],
   "source": [
    "#con las tuplas se pueden sumar entre ellas asi como multiplicaciones por escalares\n",
    "t2[0]=5"
   ]
  },
  {
   "cell_type": "markdown",
   "id": "246866f1-5545-4b97-872f-093d50ffbb4d",
   "metadata": {},
   "source": [
    "# Diccionarios\n",
    "siempre van a tener una llave y un valor, son mutables\n",
    "\n",
    "colección de asociación por pares"
   ]
  },
  {
   "cell_type": "code",
   "execution_count": 51,
   "id": "1d730161-4a75-447a-9e4a-706b8d31076a",
   "metadata": {},
   "outputs": [
    {
     "data": {
      "text/plain": [
       "{'key': 'valor', 'llave2': 'valor2', 'llave3': 5, 'llave4': [2, 3], 5: [-2]}"
      ]
     },
     "execution_count": 51,
     "metadata": {},
     "output_type": "execute_result"
    }
   ],
   "source": [
    "diccionario={'key':'valor', 'llave2':'valor2','llave3':5,'llave4':[2,3],5:[-2]}\n",
    "diccionario"
   ]
  },
  {
   "cell_type": "code",
   "execution_count": 52,
   "id": "9429fdc1-0315-42be-9255-069e7fa92e8b",
   "metadata": {},
   "outputs": [
    {
     "data": {
      "text/plain": [
       "dict"
      ]
     },
     "execution_count": 52,
     "metadata": {},
     "output_type": "execute_result"
    }
   ],
   "source": [
    "type(diccionario)"
   ]
  },
  {
   "cell_type": "code",
   "execution_count": 54,
   "id": "1b117f0f-803c-48ec-90eb-3c52f5a3a548",
   "metadata": {},
   "outputs": [
    {
     "data": {
      "text/plain": [
       "([-2], 'valor2')"
      ]
     },
     "execution_count": 54,
     "metadata": {},
     "output_type": "execute_result"
    }
   ],
   "source": [
    "diccionario[5],diccionario['llave2']"
   ]
  },
  {
   "cell_type": "code",
   "execution_count": 55,
   "id": "7670fb18-3b05-4175-839f-611c2c766c1a",
   "metadata": {},
   "outputs": [
    {
     "data": {
      "text/plain": [
       "dict_keys(['key', 'llave2', 'llave3', 'llave4', 5])"
      ]
     },
     "execution_count": 55,
     "metadata": {},
     "output_type": "execute_result"
    }
   ],
   "source": [
    "#valiable.keys nos dara el valor de todas nuestras llaves\n",
    "diccionario.keys() "
   ]
  },
  {
   "cell_type": "code",
   "execution_count": 58,
   "id": "b5b348fe-a48c-4e88-b28f-e00c1b4531cb",
   "metadata": {},
   "outputs": [],
   "source": [
    "valores=diccionario.values()"
   ]
  },
  {
   "cell_type": "code",
   "execution_count": 59,
   "id": "04b6ae3f-ad04-45f5-8b06-0473948436ae",
   "metadata": {},
   "outputs": [
    {
     "data": {
      "text/plain": [
       "dict_values"
      ]
     },
     "execution_count": 59,
     "metadata": {},
     "output_type": "execute_result"
    }
   ],
   "source": [
    "type(valores)"
   ]
  },
  {
   "cell_type": "code",
   "execution_count": 60,
   "id": "93a4c357-60f7-49d2-8815-8bf09462af09",
   "metadata": {},
   "outputs": [
    {
     "data": {
      "text/plain": [
       "['valor', 'valor2', 5, [2, 3], [-2]]"
      ]
     },
     "execution_count": 60,
     "metadata": {},
     "output_type": "execute_result"
    }
   ],
   "source": [
    "#convertir a otros tipos de datos, solo se escribe el formato(variable)\n",
    "list(valores)"
   ]
  },
  {
   "cell_type": "code",
   "execution_count": 62,
   "id": "8b9df924-24e7-4e9c-acee-5dc62b727d57",
   "metadata": {},
   "outputs": [
    {
     "data": {
      "text/plain": [
       "{'key': 'valor', 'llave2': 45, 'llave3': 5, 'llave4': [2, 3], 5: [-2]}"
      ]
     },
     "execution_count": 62,
     "metadata": {},
     "output_type": "execute_result"
    }
   ],
   "source": [
    "#los diccionarios son mutables\n",
    "diccionario['llave2']=45\n",
    "diccionario"
   ]
  },
  {
   "cell_type": "code",
   "execution_count": 63,
   "id": "8e555947-025b-4d55-8db4-e539a192e79c",
   "metadata": {},
   "outputs": [
    {
     "data": {
      "text/plain": [
       "{'key': 'valor',\n",
       " 'llave2': 45,\n",
       " 'llave3': 5,\n",
       " 'llave4': [2, 3],\n",
       " 5: [-2],\n",
       " 'vamonos': 'a mimir'}"
      ]
     },
     "execution_count": 63,
     "metadata": {},
     "output_type": "execute_result"
    }
   ],
   "source": [
    "#se pueden agregar elementos al diccionario de la sig manera\n",
    "diccionario['vamonos']='a mimir'\n",
    "diccionario"
   ]
  },
  {
   "cell_type": "code",
   "execution_count": 65,
   "id": "19cde98c-4d73-47cc-9f9f-6c9ec149fde7",
   "metadata": {},
   "outputs": [
    {
     "data": {
      "text/plain": [
       "'a mimir'"
      ]
     },
     "execution_count": 65,
     "metadata": {},
     "output_type": "execute_result"
    }
   ],
   "source": [
    "#pop nos ayuda a eliminar elementos de nuestro diccionario\n",
    "diccionario.pop('vamonos')"
   ]
  },
  {
   "cell_type": "code",
   "execution_count": null,
   "id": "ad9a9f83-b12d-4bed-99b6-166dcc69206b",
   "metadata": {},
   "outputs": [],
   "source": []
  }
 ],
 "metadata": {
  "kernelspec": {
   "display_name": "Python 3 (ipykernel)",
   "language": "python",
   "name": "python3"
  },
  "language_info": {
   "codemirror_mode": {
    "name": "ipython",
    "version": 3
   },
   "file_extension": ".py",
   "mimetype": "text/x-python",
   "name": "python",
   "nbconvert_exporter": "python",
   "pygments_lexer": "ipython3",
   "version": "3.13.5"
  }
 },
 "nbformat": 4,
 "nbformat_minor": 5
}
