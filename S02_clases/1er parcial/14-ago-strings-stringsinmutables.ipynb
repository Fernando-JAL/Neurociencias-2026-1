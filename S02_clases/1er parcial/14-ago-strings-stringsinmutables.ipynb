{
 "cells": [
  {
   "cell_type": "markdown",
   "id": "e6a7ba51-f48c-4ffd-a4fe-78048ce05cd7",
   "metadata": {},
   "source": [
    "# Strings"
   ]
  },
  {
   "cell_type": "code",
   "execution_count": null,
   "id": "6f2a310f-41dd-424a-8bca-3073c9798d16",
   "metadata": {},
   "outputs": [],
   "source": [
    "\"Esto es una cadena de texto\""
   ]
  },
  {
   "cell_type": "code",
   "execution_count": null,
   "id": "f158e6b1-a72e-47e5-9e85-d1082aaf3f6e",
   "metadata": {},
   "outputs": [],
   "source": [
    "a, b = 'Cadena de texto 1', 'Cadena de texto 2'"
   ]
  },
  {
   "cell_type": "code",
   "execution_count": null,
   "id": "960c2f3c-9336-4855-918a-0d66edfd7ac7",
   "metadata": {},
   "outputs": [],
   "source": [
    "a, b"
   ]
  },
  {
   "cell_type": "code",
   "execution_count": null,
   "id": "b1ef81e3-77bd-4560-958e-69baecb2994d",
   "metadata": {},
   "outputs": [],
   "source": [
    "print(a)"
   ]
  },
  {
   "cell_type": "code",
   "execution_count": null,
   "id": "85961c9a-7bde-4cc9-9083-4d0440908078",
   "metadata": {},
   "outputs": [],
   "source": [
    "print(\"Primera línea de texto\n",
    "Segunda línea de teto\n",
    "Tercera línea de texto\")"
   ]
  },
  {
   "cell_type": "code",
   "execution_count": null,
   "id": "8c10502c-2c7f-4e60-81d8-6b0b2fbd5cef",
   "metadata": {},
   "outputs": [],
   "source": [
    "print(\"\"\"Primera línea de texto\n",
    "Segunda línea de teto\n",
    "Tercera línea de texto\"\"\")"
   ]
  },
  {
   "cell_type": "code",
   "execution_count": null,
   "id": "9e2f94c6-d59b-4a01-a0ac-a7784a22c85d",
   "metadata": {},
   "outputs": [],
   "source": [
    "a, b = 'ah', 'be'"
   ]
  },
  {
   "cell_type": "code",
   "execution_count": null,
   "id": "b60ead59-5c0a-4bae-bad8-e45ca82c0900",
   "metadata": {},
   "outputs": [],
   "source": [
    "a + b"
   ]
  },
  {
   "cell_type": "code",
   "execution_count": null,
   "id": "b92e2bf6-3ead-4dc1-934c-31f64d881e29",
   "metadata": {},
   "outputs": [],
   "source": [
    "3 * a"
   ]
  },
  {
   "cell_type": "markdown",
   "id": "bfff80a3-8e2c-4399-80ce-a930d969e289",
   "metadata": {},
   "source": [
    "# Strings inmutables"
   ]
  },
  {
   "cell_type": "code",
   "execution_count": null,
   "id": "718d4c0a-efb5-4068-85e2-cd2cdbec65db",
   "metadata": {},
   "outputs": [],
   "source": [
    "# No pueden modificarse sus elementos\n",
    "cadena = 'cadena'\n",
    "# Supongamos que nos interesa la \"n\"\n",
    "cadena[-2] = 'p'\n",
    "# La cadena no se puede mutar"
   ]
  },
  {
   "cell_type": "code",
   "execution_count": null,
   "id": "ad8fd9d1-84fe-4a72-8140-6fe30814837c",
   "metadata": {},
   "outputs": [],
   "source": [
    "cadena = 'Dónde está Oswaldo'\n",
    "cadena2 = 'Viva la programación'\n",
    "cadena3 = 'BTS volvió del ejército'"
   ]
  },
  {
   "cell_type": "code",
   "execution_count": null,
   "id": "36f09179-d69c-4569-99bd-40984da12ecb",
   "metadata": {},
   "outputs": [],
   "source": [
    "# Ejercicio: Con slicing, crear la frase: \"Dónde está la programación que volvió del ejército\"\n",
    "cadena[:10]+cadena2[4:]+' que'+cadena3[3:]\n",
    "# En el ' que' sí importa el espacio"
   ]
  },
  {
   "cell_type": "code",
   "execution_count": null,
   "id": "22a36930-1f09-4562-894c-8c2dd1c26e91",
   "metadata": {},
   "outputs": [],
   "source": [
    "# Ejercicio: Con slicing, crear la frase: \"Oswaldo volvió a la programación de óivlov STB\"\n",
    "cadena[10:]+cadena3[3:10]+' a'+cadena2[4:]+' de' + cadena3[-10::-1]\n",
    "############ FALTA CORREGIR"
   ]
  },
  {
   "cell_type": "code",
   "execution_count": null,
   "id": "49c40fa4-9dba-46d5-89cb-043b3c5901a3",
   "metadata": {},
   "outputs": [],
   "source": [
    "# Lista = cjto. de datos separado por comas, encapsulado por corchetes\n",
    "lista = [5, 4, 2, 90.3, complex(-7,6), 'strings', 'ala', [3,2,5]]\n",
    "type(lista)"
   ]
  },
  {
   "cell_type": "code",
   "execution_count": null,
   "id": "9a6fc4cd-8a4b-4f35-be0b-7319ab54cd31",
   "metadata": {},
   "outputs": [],
   "source": [
    "lista[4], lista[1]"
   ]
  },
  {
   "cell_type": "code",
   "execution_count": null,
   "id": "3c037a7a-915f-48e4-a92c-e7e493879eeb",
   "metadata": {},
   "outputs": [],
   "source": [
    "lista[4]+lista[1]"
   ]
  },
  {
   "cell_type": "code",
   "execution_count": null,
   "id": "fa3855bf-4c1e-4c8c-8111-325ab60dff2d",
   "metadata": {},
   "outputs": [],
   "source": [
    "lista[2]*lista[-2]"
   ]
  },
  {
   "cell_type": "code",
   "execution_count": null,
   "id": "3a0a58b1-5110-4acd-ba65-ceb30fbcd94a",
   "metadata": {},
   "outputs": [],
   "source": [
    "lista[1]*lista[-1]"
   ]
  },
  {
   "cell_type": "code",
   "execution_count": null,
   "id": "0326623c-e1a2-477d-b616-ef37d10e03c3",
   "metadata": {},
   "outputs": [],
   "source": [
    "lista[3] = 'chale'\n",
    "lista"
   ]
  },
  {
   "cell_type": "code",
   "execution_count": null,
   "id": "b0f7e44d-7b99-4f47-94ed-ab18e2b3d8fe",
   "metadata": {},
   "outputs": [],
   "source": [
    "lista[2:5] = 3*['Maluma baby']\n",
    "print(len(lista), lista)"
   ]
  },
  {
   "cell_type": "code",
   "execution_count": null,
   "id": "d9a8a7c2-9d7d-4897-865c-458afa55cb5a",
   "metadata": {},
   "outputs": [],
   "source": [
    "lista[-3]"
   ]
  },
  {
   "cell_type": "code",
   "execution_count": null,
   "id": "a84641d3-5641-4c38-a9ce-ecff9f2a21fa",
   "metadata": {},
   "outputs": [],
   "source": [
    "lista[-4: -1]"
   ]
  },
  {
   "cell_type": "code",
   "execution_count": null,
   "id": "01585730-a6d2-4af2-9f2f-2444bcc0bc62",
   "metadata": {},
   "outputs": [],
   "source": [
    "ruta = r\"C:\\Users\\apgso\\OneDrive\\Documentos\\Modelos-2026-1\\Neurociencias-2026-1\\S02_clases\\clase_14agosto\\tipos de datos.ipynb\"\n",
    "ruta"
   ]
  },
  {
   "cell_type": "code",
   "execution_count": null,
   "id": "dc5f9ecf-cb34-4113-905f-4e8a9c1d2f6e",
   "metadata": {},
   "outputs": [],
   "source": [
    "ruta.split(sep = \"\\\\\")"
   ]
  },
  {
   "cell_type": "code",
   "execution_count": null,
   "id": "693e7cd3-4e7f-4679-898f-609013d44d10",
   "metadata": {},
   "outputs": [],
   "source": [
    "var1 = ruta.split(sep = \"\\\\\")\n",
    "var2 = var1[-1]\n",
    "var2[:-6]"
   ]
  },
  {
   "cell_type": "code",
   "execution_count": null,
   "id": "41304243-f5cd-4a0f-8c0f-1b2a002e26bb",
   "metadata": {},
   "outputs": [],
   "source": [
    "var1 = ruta.split(sep = \"\\\\\")[-1][:-6]\n",
    "var1"
   ]
  },
  {
   "cell_type": "code",
   "execution_count": null,
   "id": "d86339e8-a6c8-405e-a349-bb2977579e51",
   "metadata": {},
   "outputs": [],
   "source": [
    "var1 = ruta.split(sep = \"\\\\\")[-1].split(sep = \".ipynb\")[0]\n",
    "var1"
   ]
  },
  {
   "cell_type": "code",
   "execution_count": null,
   "id": "f36cdfb9-5b2b-4537-8554-cfe3f0710b8c",
   "metadata": {},
   "outputs": [],
   "source": [
    "### TAREA: TypingClub "
   ]
  }
 ],
 "metadata": {
  "kernelspec": {
   "display_name": "Python 3 (ipykernel)",
   "language": "python",
   "name": "python3"
  },
  "language_info": {
   "codemirror_mode": {
    "name": "ipython",
    "version": 3
   },
   "file_extension": ".py",
   "mimetype": "text/x-python",
   "name": "python",
   "nbconvert_exporter": "python",
   "pygments_lexer": "ipython3",
   "version": "3.13.7"
  }
 },
 "nbformat": 4,
 "nbformat_minor": 5
}
