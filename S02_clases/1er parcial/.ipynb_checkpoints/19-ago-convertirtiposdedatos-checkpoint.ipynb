{
 "cells": [
  {
   "cell_type": "markdown",
   "id": "bc600098-8420-44ac-a3f0-1685121b5ce9",
   "metadata": {},
   "source": [
    "# Convertir tipos de datos"
   ]
  },
  {
   "cell_type": "code",
   "execution_count": 76,
   "id": "c3f4196c-5f92-43d2-9c2c-b537286c90e2",
   "metadata": {},
   "outputs": [
    {
     "data": {
      "text/plain": [
       "['valor', 'valor2', '5', [2, 3], [-2]]"
      ]
     },
     "execution_count": 76,
     "metadata": {},
     "output_type": "execute_result"
    }
   ],
   "source": [
    "list(var)"
   ]
  },
  {
   "cell_type": "code",
   "execution_count": 1,
   "id": "f48e75cf-e5d1-497a-953c-f0d8ca949ce0",
   "metadata": {},
   "outputs": [
    {
     "data": {
      "text/plain": [
       "{'key1': 10, 'key2': 45}"
      ]
     },
     "execution_count": 1,
     "metadata": {},
     "output_type": "execute_result"
    }
   ],
   "source": [
    "# ¿Un diccionario es mutable? Probémoslo\n",
    "diccionario = {'key1': 10, 'key2': 20}\n",
    "diccionario['key2'] = 45\n",
    "diccionario # En efecto, es mutable"
   ]
  },
  {
   "cell_type": "code",
   "execution_count": 2,
   "id": "dae6602d-0243-4808-90ed-b3f8b5a0871b",
   "metadata": {},
   "outputs": [
    {
     "data": {
      "text/plain": [
       "{'key1': 10, 'key2': 45, 'vámonos': 'a dormir'}"
      ]
     },
     "execution_count": 2,
     "metadata": {},
     "output_type": "execute_result"
    }
   ],
   "source": [
    "diccionario['vámonos'] = 'a dormir' # Simplemente agregamos un nuevo par de datos\n",
    "diccionario"
   ]
  },
  {
   "cell_type": "code",
   "execution_count": 3,
   "id": "b9472f8d-9886-46da-9c54-5edad2b81abd",
   "metadata": {},
   "outputs": [
    {
     "data": {
      "text/plain": [
       "'a dormir'"
      ]
     },
     "execution_count": 3,
     "metadata": {},
     "output_type": "execute_result"
    }
   ],
   "source": [
    "diccionario.pop('vámonos', None) # FALTA CORREGIR, debería salir 'a dormir'"
   ]
  },
  {
   "cell_type": "code",
   "execution_count": 4,
   "id": "81ace4b0-ec7a-42d9-ad9d-b2f823b6eea9",
   "metadata": {},
   "outputs": [
    {
     "data": {
      "text/plain": [
       "{'key1': 10, 'key2': 45}"
      ]
     },
     "execution_count": 4,
     "metadata": {},
     "output_type": "execute_result"
    }
   ],
   "source": [
    "diccionario"
   ]
  }
 ],
 "metadata": {
  "kernelspec": {
   "display_name": "Python 3 (ipykernel)",
   "language": "python",
   "name": "python3"
  },
  "language_info": {
   "codemirror_mode": {
    "name": "ipython",
    "version": 3
   },
   "file_extension": ".py",
   "mimetype": "text/x-python",
   "name": "python",
   "nbconvert_exporter": "python",
   "pygments_lexer": "ipython3",
   "version": "3.13.7"
  }
 },
 "nbformat": 4,
 "nbformat_minor": 5
}
