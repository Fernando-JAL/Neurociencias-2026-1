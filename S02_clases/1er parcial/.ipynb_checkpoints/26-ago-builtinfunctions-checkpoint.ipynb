{
 "cells": [
  {
   "cell_type": "markdown",
   "id": "0102a220-f2d7-4c8b-b16f-a8c690f8e8df",
   "metadata": {},
   "source": [
    "# Built in functions"
   ]
  },
  {
   "cell_type": "markdown",
   "id": "f4da574e-f1fc-4cc8-b274-8b4b1260833b",
   "metadata": {},
   "source": [
    "### Tarea\n",
    "Hacer un ejemplo de las siguientes built-in functions:\n",
    "- all\n",
    "- any\n",
    "- abs\n",
    "- input\n",
    "- max\n",
    "- min\n",
    "- pow\n",
    "- reversed\n",
    "- round\n",
    "- sorted\n",
    "- sum"
   ]
  },
  {
   "cell_type": "code",
   "execution_count": 3,
   "id": "5e910222-8849-44d1-be06-43fe1dec704c",
   "metadata": {},
   "outputs": [
    {
     "data": {
      "text/plain": [
       "True"
      ]
     },
     "execution_count": 3,
     "metadata": {},
     "output_type": "execute_result"
    }
   ],
   "source": [
    "# all() devuelve True si todos son verdaderos\n",
    "lista = [1,2,3]\n",
    "all(lista)"
   ]
  },
  {
   "cell_type": "code",
   "execution_count": 4,
   "id": "10fb767e-f5ef-4a90-9152-5b6291c2f254",
   "metadata": {},
   "outputs": [
    {
     "data": {
      "text/plain": [
       "False"
      ]
     },
     "execution_count": 4,
     "metadata": {},
     "output_type": "execute_result"
    }
   ],
   "source": [
    "lista2 = [1,0,0]\n",
    "all(lista2)"
   ]
  },
  {
   "cell_type": "code",
   "execution_count": 8,
   "id": "e05a538d-1416-4928-af9a-cd1a589a2fa6",
   "metadata": {},
   "outputs": [
    {
     "data": {
      "text/plain": [
       "True"
      ]
     },
     "execution_count": 8,
     "metadata": {},
     "output_type": "execute_result"
    }
   ],
   "source": [
    "# any() devuelve True si alguno es verdadero\n",
    "lista = [1,0,0]\n",
    "any(lista)"
   ]
  },
  {
   "cell_type": "code",
   "execution_count": 7,
   "id": "a8ac7586-6722-4078-b58a-46aa60c97d05",
   "metadata": {},
   "outputs": [
    {
     "data": {
      "text/plain": [
       "False"
      ]
     },
     "execution_count": 7,
     "metadata": {},
     "output_type": "execute_result"
    }
   ],
   "source": [
    "lista2 = [0,0,0]\n",
    "any(lista2)"
   ]
  },
  {
   "cell_type": "code",
   "execution_count": 9,
   "id": "91efb197-16d0-418a-94a7-8b481433e227",
   "metadata": {},
   "outputs": [
    {
     "data": {
      "text/plain": [
       "8"
      ]
     },
     "execution_count": 9,
     "metadata": {},
     "output_type": "execute_result"
    }
   ],
   "source": [
    "# abs() devuelve el valor absoluto\n",
    "abs(-8)"
   ]
  },
  {
   "cell_type": "code",
   "execution_count": 36,
   "id": "e948b548-190c-4b0b-afd6-5b1322162586",
   "metadata": {},
   "outputs": [
    {
     "name": "stdin",
     "output_type": "stream",
     "text": [
      "Enter your name:  Anette\n"
     ]
    },
    {
     "name": "stdout",
     "output_type": "stream",
     "text": [
      "Hello, Anette!\n"
     ]
    }
   ],
   "source": [
    "# input() pide al usuario insertar texto\n",
    "name = input(\"Enter your name: \")\n",
    "print(f\"Hello, {name}!\")"
   ]
  },
  {
   "cell_type": "code",
   "execution_count": 15,
   "id": "d927adfa-4401-427f-b778-a8cc5df00ba4",
   "metadata": {},
   "outputs": [
    {
     "data": {
      "text/plain": [
       "8"
      ]
     },
     "execution_count": 15,
     "metadata": {},
     "output_type": "execute_result"
    }
   ],
   "source": [
    "# max() devuelve el valor máximo\n",
    "lista = [2,4,8]\n",
    "max(lista)"
   ]
  },
  {
   "cell_type": "code",
   "execution_count": 18,
   "id": "15cdeb76-a396-43d7-a121-e068a516c49a",
   "metadata": {},
   "outputs": [
    {
     "data": {
      "text/plain": [
       "2"
      ]
     },
     "execution_count": 18,
     "metadata": {},
     "output_type": "execute_result"
    }
   ],
   "source": [
    "# min devuelve el valor mínimo \n",
    "lista = [2,4,8]\n",
    "min(lista)"
   ]
  },
  {
   "cell_type": "code",
   "execution_count": 19,
   "id": "d7bc362f-d49c-4ece-b622-15fca716c9cc",
   "metadata": {},
   "outputs": [
    {
     "data": {
      "text/plain": [
       "8"
      ]
     },
     "execution_count": 19,
     "metadata": {},
     "output_type": "execute_result"
    }
   ],
   "source": [
    "# pow() devuelve potencia con módulo opcional\n",
    "pow(2,3) # Sin módulo, 2^3"
   ]
  },
  {
   "cell_type": "code",
   "execution_count": 21,
   "id": "8d4388df-f6b8-4c4b-8795-47641f575ae5",
   "metadata": {},
   "outputs": [
    {
     "data": {
      "text/plain": [
       "3"
      ]
     },
     "execution_count": 21,
     "metadata": {},
     "output_type": "execute_result"
    }
   ],
   "source": [
    "pow(2,3,5) # Con módulo, (2^3)%5"
   ]
  },
  {
   "cell_type": "code",
   "execution_count": 28,
   "id": "2123ab42-efe7-46cd-a01f-974c9be83b3c",
   "metadata": {},
   "outputs": [
    {
     "data": {
      "text/plain": [
       "[3, 2, 1]"
      ]
     },
     "execution_count": 28,
     "metadata": {},
     "output_type": "execute_result"
    }
   ],
   "source": [
    "#reversed() devuelve elementos al revés\n",
    "list(reversed([1,2,3]))"
   ]
  },
  {
   "cell_type": "code",
   "execution_count": 29,
   "id": "0db92249-7ce6-45f3-895f-13c41171e9c8",
   "metadata": {},
   "outputs": [
    {
     "data": {
      "text/plain": [
       "3"
      ]
     },
     "execution_count": 29,
     "metadata": {},
     "output_type": "execute_result"
    }
   ],
   "source": [
    "# round() redondea a un número específico\n",
    "round(3.1416) # Sin especificar cantidad de decimales"
   ]
  },
  {
   "cell_type": "code",
   "execution_count": 30,
   "id": "3eb3943f-46d1-486c-b8df-2d7fc16cc451",
   "metadata": {},
   "outputs": [
    {
     "data": {
      "text/plain": [
       "3.142"
      ]
     },
     "execution_count": 30,
     "metadata": {},
     "output_type": "execute_result"
    }
   ],
   "source": [
    "round(3.1416, 3) # Especificando decimales"
   ]
  },
  {
   "cell_type": "code",
   "execution_count": 31,
   "id": "c85ff5c6-13ba-49ce-be44-6cb09025e020",
   "metadata": {},
   "outputs": [
    {
     "data": {
      "text/plain": [
       "[1, 2, 4, 5, 6, 7]"
      ]
     },
     "execution_count": 31,
     "metadata": {},
     "output_type": "execute_result"
    }
   ],
   "source": [
    "# sorted() devuelve los elementos ordenados\n",
    "lista = [1,5,2,7,6,4]\n",
    "sorted(lista)"
   ]
  },
  {
   "cell_type": "code",
   "execution_count": 34,
   "id": "948fcb86-264b-4029-8a8b-c657888f891a",
   "metadata": {},
   "outputs": [
    {
     "data": {
      "text/plain": [
       "12"
      ]
     },
     "execution_count": 34,
     "metadata": {},
     "output_type": "execute_result"
    }
   ],
   "source": [
    "# sum() suma todos los elementos de una lista\n",
    "lista = [2,4,6]\n",
    "sum(lista) # Sin especificar a partir de cuál"
   ]
  },
  {
   "cell_type": "code",
   "execution_count": 35,
   "id": "d8feac4c-3357-49a5-bc82-6d4232ff37f3",
   "metadata": {},
   "outputs": [
    {
     "data": {
      "text/plain": [
       "22"
      ]
     },
     "execution_count": 35,
     "metadata": {},
     "output_type": "execute_result"
    }
   ],
   "source": [
    "lista = [2,4,6]\n",
    "sum(lista, start = 10) # Especificando a partir de dónde"
   ]
  }
 ],
 "metadata": {
  "kernelspec": {
   "display_name": "Python 3 (ipykernel)",
   "language": "python",
   "name": "python3"
  },
  "language_info": {
   "codemirror_mode": {
    "name": "ipython",
    "version": 3
   },
   "file_extension": ".py",
   "mimetype": "text/x-python",
   "name": "python",
   "nbconvert_exporter": "python",
   "pygments_lexer": "ipython3",
   "version": "3.13.7"
  }
 },
 "nbformat": 4,
 "nbformat_minor": 5
}
