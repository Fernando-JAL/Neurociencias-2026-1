{
 "cells": [
  {
   "cell_type": "markdown",
   "id": "966a4589-f292-4005-91fe-f3480d4de74a",
   "metadata": {},
   "source": [
    "# Matemáticas básicas"
   ]
  },
  {
   "cell_type": "code",
   "execution_count": 1,
   "id": "7eafd13f-fb06-47ba-bf46-1d3b96070f0e",
   "metadata": {},
   "outputs": [],
   "source": [
    "b = 310930131098309"
   ]
  },
  {
   "cell_type": "code",
   "execution_count": 2,
   "id": "639ee2c1-18b8-43fd-9f57-b4828c145e45",
   "metadata": {
    "scrolled": true
   },
   "outputs": [
    {
     "data": {
      "text/plain": [
       "int"
      ]
     },
     "execution_count": 2,
     "metadata": {},
     "output_type": "execute_result"
    }
   ],
   "source": [
    "type(b)\n",
    "# Número entero = int"
   ]
  },
  {
   "cell_type": "code",
   "execution_count": 3,
   "id": "62e1ba97-b550-4692-ba0c-45292d4fd414",
   "metadata": {},
   "outputs": [
    {
     "data": {
      "text/plain": [
       "float"
      ]
     },
     "execution_count": 3,
     "metadata": {},
     "output_type": "execute_result"
    }
   ],
   "source": [
    "type(1.2)\n",
    "# Número racional = float"
   ]
  },
  {
   "cell_type": "code",
   "execution_count": 4,
   "id": "99af2512-1fc8-47fc-850b-4c44208a1091",
   "metadata": {},
   "outputs": [
    {
     "ename": "NameError",
     "evalue": "name 'i' is not defined",
     "output_type": "error",
     "traceback": [
      "\u001b[31m---------------------------------------------------------------------------\u001b[39m",
      "\u001b[31mNameError\u001b[39m                                 Traceback (most recent call last)",
      "\u001b[36mCell\u001b[39m\u001b[36m \u001b[39m\u001b[32mIn[4]\u001b[39m\u001b[32m, line 1\u001b[39m\n\u001b[32m----> \u001b[39m\u001b[32m1\u001b[39m \u001b[38;5;28mtype\u001b[39m(\u001b[43mi\u001b[49m)\n\u001b[32m      2\u001b[39m \u001b[38;5;66;03m# La máquina no admite números irracionales\u001b[39;00m\n",
      "\u001b[31mNameError\u001b[39m: name 'i' is not defined"
     ]
    }
   ],
   "source": [
    "type(i)\n",
    "# La máquina no admite números irracionales"
   ]
  },
  {
   "cell_type": "code",
   "execution_count": 5,
   "id": "235b3ef5-3d79-4e6e-becc-ffb064e495c2",
   "metadata": {},
   "outputs": [
    {
     "data": {
      "text/plain": [
       "(1+3j)"
      ]
     },
     "execution_count": 5,
     "metadata": {},
     "output_type": "execute_result"
    }
   ],
   "source": [
    "complex(1,3)\n",
    "# Los números imaginarios son complejos. Número imaginario = a + bi"
   ]
  },
  {
   "cell_type": "code",
   "execution_count": 6,
   "id": "2d9868e5-d63f-44ce-aefc-dc289a50f8ef",
   "metadata": {},
   "outputs": [
    {
     "data": {
      "text/plain": [
       "complex"
      ]
     },
     "execution_count": 6,
     "metadata": {},
     "output_type": "execute_result"
    }
   ],
   "source": [
    "type(3+1j)"
   ]
  },
  {
   "cell_type": "code",
   "execution_count": 7,
   "id": "eb8f0acb-3d46-455d-8e6b-134514f76e86",
   "metadata": {},
   "outputs": [
    {
     "data": {
      "text/plain": [
       "(1+5j)"
      ]
     },
     "execution_count": 7,
     "metadata": {},
     "output_type": "execute_result"
    }
   ],
   "source": [
    "complex(1,3) + complex(0,2)"
   ]
  },
  {
   "cell_type": "code",
   "execution_count": 8,
   "id": "90d62ce4-87a6-46a4-906f-83ac39afc047",
   "metadata": {},
   "outputs": [
    {
     "data": {
      "text/plain": [
       "100"
      ]
     },
     "execution_count": 8,
     "metadata": {},
     "output_type": "execute_result"
    }
   ],
   "source": [
    "56 + 44"
   ]
  },
  {
   "cell_type": "code",
   "execution_count": 9,
   "id": "04fbdc20-45be-4c8c-89e1-3cc62e66baf0",
   "metadata": {},
   "outputs": [
    {
     "data": {
      "text/plain": [
       "4"
      ]
     },
     "execution_count": 9,
     "metadata": {},
     "output_type": "execute_result"
    }
   ],
   "source": [
    "8 - 4"
   ]
  },
  {
   "cell_type": "code",
   "execution_count": 10,
   "id": "86d50b3a-fef3-4806-9c5f-28e595627505",
   "metadata": {},
   "outputs": [
    {
     "data": {
      "text/plain": [
       "70"
      ]
     },
     "execution_count": 10,
     "metadata": {},
     "output_type": "execute_result"
    }
   ],
   "source": [
    "10 * 7"
   ]
  },
  {
   "cell_type": "code",
   "execution_count": 11,
   "id": "3d243e41-9d1e-48ff-b190-fb3a3d8d89a6",
   "metadata": {},
   "outputs": [
    {
     "data": {
      "text/plain": [
       "4.0"
      ]
     },
     "execution_count": 11,
     "metadata": {},
     "output_type": "execute_result"
    }
   ],
   "source": [
    "12 / 3"
   ]
  },
  {
   "cell_type": "code",
   "execution_count": 12,
   "id": "d3df8f40-d68d-4679-9667-e45d8c7001a9",
   "metadata": {},
   "outputs": [
    {
     "data": {
      "text/plain": [
       "9"
      ]
     },
     "execution_count": 12,
     "metadata": {},
     "output_type": "execute_result"
    }
   ],
   "source": [
    "3**2"
   ]
  },
  {
   "cell_type": "code",
   "execution_count": 13,
   "id": "20f0c803-9df7-4846-adbc-e1c13d7412bb",
   "metadata": {},
   "outputs": [
    {
     "data": {
      "text/plain": [
       "3.0"
      ]
     },
     "execution_count": 13,
     "metadata": {},
     "output_type": "execute_result"
    }
   ],
   "source": [
    "9**(1/2)"
   ]
  },
  {
   "cell_type": "code",
   "execution_count": 14,
   "id": "5cb5afd1-fa26-47d9-a4a5-d0e1fa399176",
   "metadata": {},
   "outputs": [
    {
     "data": {
      "text/plain": [
       "0"
      ]
     },
     "execution_count": 14,
     "metadata": {},
     "output_type": "execute_result"
    }
   ],
   "source": [
    "16%4\n",
    "# Calcular residuo"
   ]
  },
  {
   "cell_type": "code",
   "execution_count": 15,
   "id": "f58baa7b-8b99-419f-9d59-8db325c85592",
   "metadata": {},
   "outputs": [
    {
     "data": {
      "text/plain": [
       "4"
      ]
     },
     "execution_count": 15,
     "metadata": {},
     "output_type": "execute_result"
    }
   ],
   "source": [
    "16//4\n",
    "# Calcular cociente"
   ]
  },
  {
   "cell_type": "code",
   "execution_count": 16,
   "id": "e157169a-7940-4446-9d80-f23bf6a7cef3",
   "metadata": {},
   "outputs": [],
   "source": [
    "a = 8\n",
    "b = 3\n",
    "c = 42"
   ]
  },
  {
   "cell_type": "code",
   "execution_count": 17,
   "id": "046158ad-376b-4cb8-bcd2-40ebe87a59f9",
   "metadata": {},
   "outputs": [
    {
     "data": {
      "text/plain": [
       "(8, 3, 42)"
      ]
     },
     "execution_count": 17,
     "metadata": {},
     "output_type": "execute_result"
    }
   ],
   "source": [
    "a, b, c"
   ]
  },
  {
   "cell_type": "code",
   "execution_count": 18,
   "id": "3ddca4cb-34b0-4436-bb33-235891f0aa78",
   "metadata": {},
   "outputs": [],
   "source": [
    "a, b, c = 8, 3, 42"
   ]
  },
  {
   "cell_type": "code",
   "execution_count": 19,
   "id": "74887c91-f1e6-43c9-b189-8d371f3dc870",
   "metadata": {},
   "outputs": [
    {
     "ename": "ZeroDivisionError",
     "evalue": "division by zero",
     "output_type": "error",
     "traceback": [
      "\u001b[31m---------------------------------------------------------------------------\u001b[39m",
      "\u001b[31mZeroDivisionError\u001b[39m                         Traceback (most recent call last)",
      "\u001b[36mCell\u001b[39m\u001b[36m \u001b[39m\u001b[32mIn[19]\u001b[39m\u001b[32m, line 1\u001b[39m\n\u001b[32m----> \u001b[39m\u001b[32m1\u001b[39m c/a + b*a - \u001b[43ma\u001b[49m\u001b[43m*\u001b[49m\u001b[43m*\u001b[49m\u001b[43mb\u001b[49m\u001b[43m \u001b[49m\u001b[43m/\u001b[49m\u001b[43m \u001b[49m\u001b[43m(\u001b[49m\u001b[43mc\u001b[49m\u001b[43m%\u001b[49m\u001b[43mb\u001b[49m\u001b[43m)\u001b[49m\n",
      "\u001b[31mZeroDivisionError\u001b[39m: division by zero"
     ]
    }
   ],
   "source": [
    "c/a + b*a - a**b / (c%b)"
   ]
  },
  {
   "cell_type": "markdown",
   "id": "e6a7ba51-f48c-4ffd-a4fe-78048ce05cd7",
   "metadata": {},
   "source": [
    "# Strings"
   ]
  },
  {
   "cell_type": "code",
   "execution_count": null,
   "id": "6f2a310f-41dd-424a-8bca-3073c9798d16",
   "metadata": {},
   "outputs": [],
   "source": [
    "\"Esto es una cadena de texto\""
   ]
  },
  {
   "cell_type": "code",
   "execution_count": null,
   "id": "f158e6b1-a72e-47e5-9e85-d1082aaf3f6e",
   "metadata": {},
   "outputs": [],
   "source": [
    "a, b = 'Cadena de texto 1', 'Cadena de texto 2'"
   ]
  },
  {
   "cell_type": "code",
   "execution_count": null,
   "id": "960c2f3c-9336-4855-918a-0d66edfd7ac7",
   "metadata": {},
   "outputs": [],
   "source": [
    "a, b"
   ]
  },
  {
   "cell_type": "code",
   "execution_count": null,
   "id": "b1ef81e3-77bd-4560-958e-69baecb2994d",
   "metadata": {},
   "outputs": [],
   "source": [
    "print(a)"
   ]
  },
  {
   "cell_type": "code",
   "execution_count": null,
   "id": "85961c9a-7bde-4cc9-9083-4d0440908078",
   "metadata": {},
   "outputs": [],
   "source": [
    "print(\"Primera línea de texto\n",
    "Segunda línea de teto\n",
    "Tercera línea de texto\")"
   ]
  },
  {
   "cell_type": "code",
   "execution_count": null,
   "id": "8c10502c-2c7f-4e60-81d8-6b0b2fbd5cef",
   "metadata": {},
   "outputs": [],
   "source": [
    "print(\"\"\"Primera línea de texto\n",
    "Segunda línea de teto\n",
    "Tercera línea de texto\"\"\")"
   ]
  },
  {
   "cell_type": "code",
   "execution_count": null,
   "id": "9e2f94c6-d59b-4a01-a0ac-a7784a22c85d",
   "metadata": {},
   "outputs": [],
   "source": [
    "a, b = 'ah', 'be'"
   ]
  },
  {
   "cell_type": "code",
   "execution_count": null,
   "id": "b60ead59-5c0a-4bae-bad8-e45ca82c0900",
   "metadata": {},
   "outputs": [],
   "source": [
    "a + b"
   ]
  },
  {
   "cell_type": "code",
   "execution_count": null,
   "id": "b92e2bf6-3ead-4dc1-934c-31f64d881e29",
   "metadata": {},
   "outputs": [],
   "source": [
    "3 * a"
   ]
  },
  {
   "cell_type": "markdown",
   "id": "ae7d9b52-8fcf-41a9-94d2-f2b4cff44811",
   "metadata": {},
   "source": [
    "# Silicing"
   ]
  },
  {
   "cell_type": "code",
   "execution_count": null,
   "id": "e310c705-f87b-40de-93a4-12cacce8faef",
   "metadata": {},
   "outputs": [],
   "source": [
    "a = 'Hola jolines chayotes verdes'"
   ]
  },
  {
   "cell_type": "code",
   "execution_count": null,
   "id": "65a9cae7-c499-4069-b302-160d498ab783",
   "metadata": {},
   "outputs": [],
   "source": [
    "b = 'Adiós'"
   ]
  },
  {
   "cell_type": "code",
   "execution_count": null,
   "id": "ba6ef915-e85f-4149-bdf9-a7559c0653ed",
   "metadata": {},
   "outputs": [],
   "source": [
    "b[0]"
   ]
  },
  {
   "cell_type": "code",
   "execution_count": null,
   "id": "b1c2ec9c-5655-41eb-b9ff-b3405b618d0b",
   "metadata": {},
   "outputs": [],
   "source": [
    "b[4]"
   ]
  },
  {
   "cell_type": "code",
   "execution_count": null,
   "id": "4cd1fc2a-1eb0-4c3b-b18f-6cc4ea595304",
   "metadata": {},
   "outputs": [],
   "source": [
    "# Medir el tamaño de la variable\n",
    "len(b)"
   ]
  },
  {
   "cell_type": "code",
   "execution_count": null,
   "id": "74bece2e-dfe4-476e-a65f-c0014c4b6f4f",
   "metadata": {},
   "outputs": [],
   "source": [
    "# c tiene la posición 12\n",
    "# y tiene la posición 16\n",
    "pos_i = 12\n",
    "pos_f = 16\n",
    "a[pos_i:pos_f+1]\n",
    "# El +1 es porque considera el tamaño de la cadena = tamaño de caracteres incluyendo espacios"
   ]
  },
  {
   "cell_type": "code",
   "execution_count": null,
   "id": "11d8731c-a740-42ea-bbc4-144749e10828",
   "metadata": {},
   "outputs": [],
   "source": [
    "a[-1]"
   ]
  },
  {
   "cell_type": "code",
   "execution_count": null,
   "id": "c7128534-94e0-43fc-a1c6-7c88f05a8af5",
   "metadata": {},
   "outputs": [],
   "source": [
    "a[-6:]"
   ]
  },
  {
   "cell_type": "code",
   "execution_count": null,
   "id": "974526f4-86d8-4806-a9f8-8524688b8265",
   "metadata": {},
   "outputs": [],
   "source": [
    "a[:4]"
   ]
  },
  {
   "cell_type": "code",
   "execution_count": null,
   "id": "f4f68e8b-3e24-4883-a3f6-b7b14474ca34",
   "metadata": {},
   "outputs": [],
   "source": [
    "a[::-2]\n",
    "# :: → toma toda la cadena\n",
    "# -2 → recórrela al revés y ve tomando cada 2 caracteres"
   ]
  },
  {
   "cell_type": "code",
   "execution_count": null,
   "id": "e9bb8e37-5f14-4c6a-8102-97e79c7d941f",
   "metadata": {},
   "outputs": [],
   "source": [
    "c = \"Dora la exploradora\"\n",
    "c[3:7+1]"
   ]
  },
  {
   "cell_type": "markdown",
   "id": "bfff80a3-8e2c-4399-80ce-a930d969e289",
   "metadata": {},
   "source": [
    "# Strings inmutables"
   ]
  },
  {
   "cell_type": "code",
   "execution_count": null,
   "id": "718d4c0a-efb5-4068-85e2-cd2cdbec65db",
   "metadata": {},
   "outputs": [],
   "source": [
    "# No pueden modificarse sus elementos\n",
    "cadena = 'cadena'\n",
    "# Supongamos que nos interesa la \"n\"\n",
    "cadena[-2] = 'p'\n",
    "# La cadena no se puede mutar"
   ]
  },
  {
   "cell_type": "code",
   "execution_count": null,
   "id": "ad8fd9d1-84fe-4a72-8140-6fe30814837c",
   "metadata": {},
   "outputs": [],
   "source": [
    "cadena = 'Dónde está Oswaldo'\n",
    "cadena2 = 'Viva la programación'\n",
    "cadena3 = 'BTS volvió del ejército'"
   ]
  },
  {
   "cell_type": "code",
   "execution_count": null,
   "id": "36f09179-d69c-4569-99bd-40984da12ecb",
   "metadata": {},
   "outputs": [],
   "source": [
    "# Ejercicio: Con slicing, crear la frase: \"Dónde está la programación que volvió del ejército\"\n",
    "cadena[:10]+cadena2[4:]+' que'+cadena3[3:]\n",
    "# En el ' que' sí importa el espacio"
   ]
  },
  {
   "cell_type": "code",
   "execution_count": null,
   "id": "22a36930-1f09-4562-894c-8c2dd1c26e91",
   "metadata": {},
   "outputs": [],
   "source": [
    "# Ejercicio: Con slicing, crear la frase: \"Oswaldo volvió a la programación de óivlov STB\"\n",
    "cadena[10:]+cadena3[3:10]+' a'+cadena2[4:]+' de' + cadena3[-10::-1]\n",
    "############ FALTA CORREGIR"
   ]
  },
  {
   "cell_type": "code",
   "execution_count": null,
   "id": "49c40fa4-9dba-46d5-89cb-043b3c5901a3",
   "metadata": {},
   "outputs": [],
   "source": [
    "# Lista = cjto. de datos separado por comas, encapsulado por corchetes\n",
    "lista = [5, 4, 2, 90.3, complex(-7,6), 'strings', 'ala', [3,2,5]]\n",
    "type(lista)"
   ]
  },
  {
   "cell_type": "code",
   "execution_count": null,
   "id": "9a6fc4cd-8a4b-4f35-be0b-7319ab54cd31",
   "metadata": {},
   "outputs": [],
   "source": [
    "lista[4], lista[1]"
   ]
  },
  {
   "cell_type": "code",
   "execution_count": null,
   "id": "3c037a7a-915f-48e4-a92c-e7e493879eeb",
   "metadata": {},
   "outputs": [],
   "source": [
    "lista[4]+lista[1]"
   ]
  },
  {
   "cell_type": "code",
   "execution_count": null,
   "id": "fa3855bf-4c1e-4c8c-8111-325ab60dff2d",
   "metadata": {},
   "outputs": [],
   "source": [
    "lista[2]*lista[-2]"
   ]
  },
  {
   "cell_type": "code",
   "execution_count": null,
   "id": "3a0a58b1-5110-4acd-ba65-ceb30fbcd94a",
   "metadata": {},
   "outputs": [],
   "source": [
    "lista[1]*lista[-1]"
   ]
  },
  {
   "cell_type": "code",
   "execution_count": null,
   "id": "0326623c-e1a2-477d-b616-ef37d10e03c3",
   "metadata": {},
   "outputs": [],
   "source": [
    "lista[3] = 'chale'\n",
    "lista"
   ]
  },
  {
   "cell_type": "code",
   "execution_count": null,
   "id": "b0f7e44d-7b99-4f47-94ed-ab18e2b3d8fe",
   "metadata": {},
   "outputs": [],
   "source": [
    "lista[2:5] = 3*['Maluma baby']\n",
    "print(len(lista), lista)"
   ]
  },
  {
   "cell_type": "code",
   "execution_count": null,
   "id": "d9a8a7c2-9d7d-4897-865c-458afa55cb5a",
   "metadata": {},
   "outputs": [],
   "source": [
    "lista[-3]"
   ]
  },
  {
   "cell_type": "code",
   "execution_count": null,
   "id": "a84641d3-5641-4c38-a9ce-ecff9f2a21fa",
   "metadata": {},
   "outputs": [],
   "source": [
    "lista[-4: -1]"
   ]
  },
  {
   "cell_type": "code",
   "execution_count": null,
   "id": "01585730-a6d2-4af2-9f2f-2444bcc0bc62",
   "metadata": {},
   "outputs": [],
   "source": [
    "ruta = r\"C:\\Users\\apgso\\OneDrive\\Documentos\\Modelos-2026-1\\Neurociencias-2026-1\\S02_clases\\clase_14agosto\\tipos de datos.ipynb\"\n",
    "ruta"
   ]
  },
  {
   "cell_type": "code",
   "execution_count": null,
   "id": "dc5f9ecf-cb34-4113-905f-4e8a9c1d2f6e",
   "metadata": {},
   "outputs": [],
   "source": [
    "ruta.split(sep = \"\\\\\")"
   ]
  },
  {
   "cell_type": "code",
   "execution_count": null,
   "id": "693e7cd3-4e7f-4679-898f-609013d44d10",
   "metadata": {},
   "outputs": [],
   "source": [
    "var1 = ruta.split(sep = \"\\\\\")\n",
    "var2 = var1[-1]\n",
    "var2[:-6]"
   ]
  },
  {
   "cell_type": "code",
   "execution_count": null,
   "id": "41304243-f5cd-4a0f-8c0f-1b2a002e26bb",
   "metadata": {},
   "outputs": [],
   "source": [
    "var1 = ruta.split(sep = \"\\\\\")[-1][:-6]\n",
    "var1"
   ]
  },
  {
   "cell_type": "code",
   "execution_count": null,
   "id": "d86339e8-a6c8-405e-a349-bb2977579e51",
   "metadata": {},
   "outputs": [],
   "source": [
    "var1 = ruta.split(sep = \"\\\\\")[-1].split(sep = \".ipynb\")[0]\n",
    "var1"
   ]
  },
  {
   "cell_type": "code",
   "execution_count": null,
   "id": "f36cdfb9-5b2b-4537-8554-cfe3f0710b8c",
   "metadata": {},
   "outputs": [],
   "source": [
    "### TAREA: TypingClub "
   ]
  }
 ],
 "metadata": {
  "kernelspec": {
   "display_name": "Python 3 (ipykernel)",
   "language": "python",
   "name": "python3"
  },
  "language_info": {
   "codemirror_mode": {
    "name": "ipython",
    "version": 3
   },
   "file_extension": ".py",
   "mimetype": "text/x-python",
   "name": "python",
   "nbconvert_exporter": "python",
   "pygments_lexer": "ipython3",
   "version": "3.13.7"
  }
 },
 "nbformat": 4,
 "nbformat_minor": 5
}
