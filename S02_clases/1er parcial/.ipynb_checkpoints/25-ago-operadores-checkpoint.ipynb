{
 "cells": [
  {
   "cell_type": "markdown",
   "id": "fb681b5e-bfe2-47e2-b219-8a698565d1f9",
   "metadata": {},
   "source": [
    "# Operadores de asignación"
   ]
  },
  {
   "cell_type": "code",
   "execution_count": 1,
   "id": "ba5f8907-be63-4a32-902b-2ae3c13e86e2",
   "metadata": {},
   "outputs": [],
   "source": [
    "# =, +=, -=, *=, /=, //=, %=, **="
   ]
  },
  {
   "cell_type": "code",
   "execution_count": 2,
   "id": "41adfc46-677f-4b86-941b-9d5f55c4aec8",
   "metadata": {},
   "outputs": [
    {
     "data": {
      "text/plain": [
       "32"
      ]
     },
     "execution_count": 2,
     "metadata": {},
     "output_type": "execute_result"
    }
   ],
   "source": [
    "a = 10\n",
    "a = a+22\n",
    "a"
   ]
  },
  {
   "cell_type": "code",
   "execution_count": 3,
   "id": "c020e6d2-081f-4478-8c7e-9e1f5584df9e",
   "metadata": {},
   "outputs": [
    {
     "data": {
      "text/plain": [
       "32"
      ]
     },
     "execution_count": 3,
     "metadata": {},
     "output_type": "execute_result"
    }
   ],
   "source": [
    "a = 2\n",
    "a **= 5\n",
    "a"
   ]
  },
  {
   "cell_type": "code",
   "execution_count": 4,
   "id": "289c2f21-ecdf-4c1f-a1be-cc2a7ed8e33d",
   "metadata": {},
   "outputs": [
    {
     "data": {
      "text/plain": [
       "[3,\n",
       " 6,\n",
       " 8,\n",
       " 'azul como el mar azul',\n",
       " 'l',\n",
       " 'a',\n",
       " 's',\n",
       " ' ',\n",
       " 'd',\n",
       " 'o',\n",
       " 'c',\n",
       " 'e',\n",
       " ' ',\n",
       " 'c',\n",
       " 'a',\n",
       " 's',\n",
       " 'a',\n",
       " 's']"
      ]
     },
     "execution_count": 4,
     "metadata": {},
     "output_type": "execute_result"
    }
   ],
   "source": [
    "a = [3,6,8,'azul como el mar azul']\n",
    "a += list('las doce casas')\n",
    "a"
   ]
  },
  {
   "cell_type": "markdown",
   "id": "e7db7488-22f4-40dd-979f-95d72cbb7762",
   "metadata": {},
   "source": [
    "# Operadores relacionales"
   ]
  },
  {
   "cell_type": "code",
   "execution_count": 5,
   "id": "cbce1ab3-6125-49b1-ad22-dc1efc51a315",
   "metadata": {},
   "outputs": [],
   "source": [
    "# <,>,==,!="
   ]
  },
  {
   "cell_type": "code",
   "execution_count": 6,
   "id": "0186593f-b5b1-4fbe-b84d-97219afe2aff",
   "metadata": {},
   "outputs": [
    {
     "data": {
      "text/plain": [
       "(False, True, False, True)"
      ]
     },
     "execution_count": 6,
     "metadata": {},
     "output_type": "execute_result"
    }
   ],
   "source": [
    "a,b = 5,18\n",
    "a > b, a < b, a == b, a != b"
   ]
  },
  {
   "cell_type": "code",
   "execution_count": 7,
   "id": "8a716642-dcf7-4b9d-971b-319f48de32e2",
   "metadata": {},
   "outputs": [
    {
     "data": {
      "text/plain": [
       "False"
      ]
     },
     "execution_count": 7,
     "metadata": {},
     "output_type": "execute_result"
    }
   ],
   "source": [
    "a, b, c = -45.2, 22, 100\n",
    "(((a-b) < 567) != 0) == c*0"
   ]
  },
  {
   "cell_type": "code",
   "execution_count": 8,
   "id": "32f83c8b-ecf2-46d0-9bfc-f19e57b143f6",
   "metadata": {},
   "outputs": [
    {
     "data": {
      "text/plain": [
       "(True, True, True)"
      ]
     },
     "execution_count": 8,
     "metadata": {},
     "output_type": "execute_result"
    }
   ],
   "source": [
    "True != 0, True == 1, False == 0"
   ]
  },
  {
   "cell_type": "code",
   "execution_count": 9,
   "id": "42ed61ec-52c8-4b2d-ad10-d06bba1c5fed",
   "metadata": {},
   "outputs": [
    {
     "data": {
      "text/plain": [
       "True"
      ]
     },
     "execution_count": 9,
     "metadata": {},
     "output_type": "execute_result"
    }
   ],
   "source": [
    "False < True # 0 < 1"
   ]
  },
  {
   "cell_type": "code",
   "execution_count": 10,
   "id": "6d943ad5-3040-4624-a35a-53f7f59b0529",
   "metadata": {},
   "outputs": [
    {
     "data": {
      "text/plain": [
       "False"
      ]
     },
     "execution_count": 10,
     "metadata": {},
     "output_type": "execute_result"
    }
   ],
   "source": [
    "5 < 10 < 3 # Se evalúa el statement completo"
   ]
  },
  {
   "cell_type": "markdown",
   "id": "df2c93e3-08d3-4849-abd5-53546e4cda3f",
   "metadata": {},
   "source": [
    "# Operadores lógicos"
   ]
  },
  {
   "cell_type": "code",
   "execution_count": 11,
   "id": "cb32d384-f002-4753-bef9-348ffedbb07c",
   "metadata": {},
   "outputs": [
    {
     "data": {
      "text/plain": [
       "False"
      ]
     },
     "execution_count": 11,
     "metadata": {},
     "output_type": "execute_result"
    }
   ],
   "source": [
    "c = 'hola mundo'\n",
    "len(c) >= 10 and c[0] == 'H' # Antes del and, todo es True"
   ]
  }
 ],
 "metadata": {
  "kernelspec": {
   "display_name": "Python 3 (ipykernel)",
   "language": "python",
   "name": "python3"
  },
  "language_info": {
   "codemirror_mode": {
    "name": "ipython",
    "version": 3
   },
   "file_extension": ".py",
   "mimetype": "text/x-python",
   "name": "python",
   "nbconvert_exporter": "python",
   "pygments_lexer": "ipython3",
   "version": "3.13.7"
  }
 },
 "nbformat": 4,
 "nbformat_minor": 5
}
