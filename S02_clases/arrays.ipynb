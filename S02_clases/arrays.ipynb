{
 "cells": [
  {
   "cell_type": "code",
   "execution_count": 1,
   "id": "cb6fcda6-9a07-4f46-8d07-6dccfc733234",
   "metadata": {},
   "outputs": [],
   "source": [
    "from modulo import *"
   ]
  },
  {
   "cell_type": "code",
   "execution_count": 2,
   "id": "a9fc4032-ae70-48bd-82de-a0dc47d8dbbb",
   "metadata": {},
   "outputs": [
    {
     "name": "stdout",
     "output_type": "stream",
     "text": [
      "hola desde el paquete\n"
     ]
    }
   ],
   "source": [
    "saludo()"
   ]
  },
  {
   "cell_type": "code",
   "execution_count": 3,
   "id": "03d0fbca-8729-49d1-b46a-18f64225a210",
   "metadata": {},
   "outputs": [
    {
     "name": "stdout",
     "output_type": "stream",
     "text": [
      "otra funcion\n"
     ]
    }
   ],
   "source": [
    "funcion()"
   ]
  },
  {
   "cell_type": "code",
   "execution_count": null,
   "id": "4684c4ad-4cb2-42e0-9e5c-88f9e610ebc3",
   "metadata": {},
   "outputs": [],
   "source": [
    "suma(2,3)"
   ]
  },
  {
   "cell_type": "markdown",
   "id": "71ed38a0-34b0-458c-8e2e-3543bdf4b969",
   "metadata": {},
   "source": [
    "# Paquete numpy\n",
    "Es un paquete endocado en manipular información en estructuras conocidas como vectores, arreglo y matrices\n",
    "La contribución más significativa del paquete numpy es la introducción de un tipo de dato llamado _array_\n",
    "\n",
    "Un arreglo es una lista de numeros de una sola dimensión"
   ]
  },
  {
   "cell_type": "code",
   "execution_count": 6,
   "id": "195fe8ff-6b2e-438c-8fe8-435a5ec9a393",
   "metadata": {},
   "outputs": [],
   "source": [
    "import numpy as np"
   ]
  },
  {
   "cell_type": "code",
   "execution_count": 7,
   "id": "d7de8534-e0df-4da8-84c5-0e01cb1b935a",
   "metadata": {},
   "outputs": [
    {
     "data": {
      "text/plain": [
       "numpy.ndarray"
      ]
     },
     "execution_count": 7,
     "metadata": {},
     "output_type": "execute_result"
    }
   ],
   "source": [
    "lista = [3,4,5] \n",
    "variable = np.array(lista)\n",
    "type(variable)"
   ]
  },
  {
   "cell_type": "code",
   "execution_count": 8,
   "id": "a864a452-fe93-4a9d-bfc2-b323b5d92158",
   "metadata": {},
   "outputs": [
    {
     "data": {
      "text/plain": [
       "array([3, 4, 5])"
      ]
     },
     "execution_count": 8,
     "metadata": {},
     "output_type": "execute_result"
    }
   ],
   "source": [
    "variable"
   ]
  },
  {
   "cell_type": "code",
   "execution_count": 9,
   "id": "f28a85bb-084a-4432-85a3-9579a731ed9a",
   "metadata": {},
   "outputs": [
    {
     "data": {
      "text/plain": [
       "1"
      ]
     },
     "execution_count": 9,
     "metadata": {},
     "output_type": "execute_result"
    }
   ],
   "source": [
    "variable.ndim"
   ]
  },
  {
   "cell_type": "code",
   "execution_count": 15,
   "id": "f274d799-e8f4-438f-95cb-db6bf061612f",
   "metadata": {},
   "outputs": [
    {
     "data": {
      "text/plain": [
       "(numpy.ndarray, 2, (2, 3))"
      ]
     },
     "execution_count": 15,
     "metadata": {},
     "output_type": "execute_result"
    }
   ],
   "source": [
    "variable2d = np.array([\n",
    "    [4,5,6],\n",
    "    [7,8,9]\n",
    "])\n",
    "type(variable2d), variable2d.ndim,variable2d.shape"
   ]
  },
  {
   "cell_type": "code",
   "execution_count": 13,
   "id": "2a67a1b8-c198-48fe-a56c-79297ab077e4",
   "metadata": {},
   "outputs": [
    {
     "data": {
      "text/plain": [
       "array([[4, 5, 6],\n",
       "       [7, 8, 9]])"
      ]
     },
     "execution_count": 13,
     "metadata": {},
     "output_type": "execute_result"
    }
   ],
   "source": [
    "variable2d"
   ]
  },
  {
   "cell_type": "markdown",
   "id": "b1768694-a4c8-49e8-9b3e-58bd0315a780",
   "metadata": {},
   "source": [
    "## Funciones numpy ##\n"
   ]
  },
  {
   "cell_type": "code",
   "execution_count": 16,
   "id": "a105b12d-d145-49b1-8e8c-be990c32743c",
   "metadata": {},
   "outputs": [
    {
     "data": {
      "text/plain": [
       "(array([0., 0., 0., 0., 0., 0.]),\n",
       " array([[0., 0., 0., 0.],\n",
       "        [0., 0., 0., 0.],\n",
       "        [0., 0., 0., 0.]]))"
      ]
     },
     "execution_count": 16,
     "metadata": {},
     "output_type": "execute_result"
    }
   ],
   "source": [
    "np.zeros(6), np.zeros([3,4])  #Un arreglo de ceros en los que le pedimos el numero de ceros que queremos "
   ]
  },
  {
   "cell_type": "code",
   "execution_count": 23,
   "id": "39ffa98c-3283-46d8-8ca4-e1b6aa59a819",
   "metadata": {},
   "outputs": [
    {
     "data": {
      "text/plain": [
       "(array([1., 1., 1., 1.]),\n",
       " array([[[1., 1., 1., 1.],\n",
       "         [1., 1., 1., 1.],\n",
       "         [1., 1., 1., 1.]],\n",
       " \n",
       "        [[1., 1., 1., 1.],\n",
       "         [1., 1., 1., 1.],\n",
       "         [1., 1., 1., 1.]]]))"
      ]
     },
     "execution_count": 23,
     "metadata": {},
     "output_type": "execute_result"
    }
   ],
   "source": [
    "np.ones(4), np.ones([2,3,4,])"
   ]
  },
  {
   "cell_type": "code",
   "execution_count": 24,
   "id": "0f8ec21f-1c2e-4d0c-b940-c7c913e04d7c",
   "metadata": {},
   "outputs": [
    {
     "data": {
      "text/plain": [
       "array([[1., 0., 0., 0., 0.],\n",
       "       [0., 1., 0., 0., 0.],\n",
       "       [0., 0., 1., 0., 0.],\n",
       "       [0., 0., 0., 1., 0.],\n",
       "       [0., 0., 0., 0., 1.]])"
      ]
     },
     "execution_count": 24,
     "metadata": {},
     "output_type": "execute_result"
    }
   ],
   "source": [
    "np.eye(5)"
   ]
  },
  {
   "cell_type": "code",
   "execution_count": null,
   "id": "07f2630b-7033-48a6-b694-8d07cdf247e7",
   "metadata": {},
   "outputs": [],
   "source": [
    "# Crear un arreglo 4x4 cuyos elementos en la diagonal sean igual a 8, pero que fuera de la diagonal sea -10"
   ]
  },
  {
   "cell_type": "code",
   "execution_count": 54,
   "id": "dfb2e14a-29fa-4460-a276-98eb606886bb",
   "metadata": {},
   "outputs": [],
   "source": [
    "matriz = np.eye(4)*18"
   ]
  },
  {
   "cell_type": "code",
   "execution_count": 55,
   "id": "b657be05-3da6-4c3f-9b8e-f88827d80c67",
   "metadata": {},
   "outputs": [
    {
     "data": {
      "text/plain": [
       "array([[-10., -10., -10., -10.],\n",
       "       [-10., -10., -10., -10.],\n",
       "       [-10., -10., -10., -10.],\n",
       "       [-10., -10., -10., -10.]])"
      ]
     },
     "execution_count": 55,
     "metadata": {},
     "output_type": "execute_result"
    }
   ],
   "source": [
    "matriz1 = np.ones((4,4))*(-10)\n",
    "matriz1"
   ]
  },
  {
   "cell_type": "code",
   "execution_count": 59,
   "id": "8f204ce7-100a-45e1-b701-806521bb03f1",
   "metadata": {},
   "outputs": [
    {
     "data": {
      "text/plain": [
       "array([[ 0.125, -0.1  , -0.1  , -0.1  ],\n",
       "       [-0.1  ,  0.125, -0.1  , -0.1  ],\n",
       "       [-0.1  , -0.1  ,  0.125, -0.1  ],\n",
       "       [-0.1  , -0.1  , -0.1  ,  0.125]])"
      ]
     },
     "execution_count": 59,
     "metadata": {},
     "output_type": "execute_result"
    }
   ],
   "source": [
    "matriz2 = matriz + matriz1\n",
    "matriz2"
   ]
  },
  {
   "cell_type": "code",
   "execution_count": 60,
   "id": "11c3fd0f-0f4b-465a-a674-97fe0d256eee",
   "metadata": {},
   "outputs": [
    {
     "data": {
      "text/plain": [
       "array([[  8., -10., -10., -10.],\n",
       "       [-10.,   8., -10., -10.],\n",
       "       [-10., -10.,   8., -10.],\n",
       "       [-10., -10., -10.,   8.]])"
      ]
     },
     "execution_count": 60,
     "metadata": {},
     "output_type": "execute_result"
    }
   ],
   "source": [
    "valor = -10*np.ones([4,4]) + 18*np.eye(4)\n",
    "valor"
   ]
  },
  {
   "cell_type": "code",
   "execution_count": 61,
   "id": "54ebcdda-4767-4c78-8fc2-2b0de138fc58",
   "metadata": {},
   "outputs": [
    {
     "data": {
      "text/plain": [
       "array([[ 0.125, -0.1  , -0.1  , -0.1  ],\n",
       "       [-0.1  ,  0.125, -0.1  , -0.1  ],\n",
       "       [-0.1  , -0.1  ,  0.125, -0.1  ],\n",
       "       [-0.1  , -0.1  , -0.1  ,  0.125]])"
      ]
     },
     "execution_count": 61,
     "metadata": {},
     "output_type": "execute_result"
    }
   ],
   "source": [
    "1/valor"
   ]
  }
 ],
 "metadata": {
  "kernelspec": {
   "display_name": "Python 3 (ipykernel)",
   "language": "python",
   "name": "python3"
  },
  "language_info": {
   "codemirror_mode": {
    "name": "ipython",
    "version": 3
   },
   "file_extension": ".py",
   "mimetype": "text/x-python",
   "name": "python",
   "nbconvert_exporter": "python",
   "pygments_lexer": "ipython3",
   "version": "3.13.7"
  }
 },
 "nbformat": 4,
 "nbformat_minor": 5
}
