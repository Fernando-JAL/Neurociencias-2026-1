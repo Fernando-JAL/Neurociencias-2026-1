{
 "cells": [
  {
   "cell_type": "code",
   "execution_count": 1,
   "id": "04fbe8be-ad57-4e82-a55b-b32cd718a451",
   "metadata": {},
   "outputs": [
    {
     "data": {
      "text/plain": [
       "float"
      ]
     },
     "execution_count": 1,
     "metadata": {},
     "output_type": "execute_result"
    }
   ],
   "source": [
    "# Siguiendo en la conversión de tipos de datos...\n",
    "entero, flotante, complejo = -82, 631., complex(0,1)\n",
    "type(flotante)"
   ]
  },
  {
   "cell_type": "code",
   "execution_count": 2,
   "id": "8234c21b-5522-4ab6-974f-2c8197b296f1",
   "metadata": {},
   "outputs": [
    {
     "data": {
      "text/plain": [
       "'-82'"
      ]
     },
     "execution_count": 2,
     "metadata": {},
     "output_type": "execute_result"
    }
   ],
   "source": [
    "str(entero)"
   ]
  },
  {
   "cell_type": "code",
   "execution_count": 6,
   "id": "2ca7158e-b98c-4dcb-9f42-649ef4ce1367",
   "metadata": {},
   "outputs": [
    {
     "data": {
      "text/plain": [
       "str"
      ]
     },
     "execution_count": 6,
     "metadata": {},
     "output_type": "execute_result"
    }
   ],
   "source": [
    "type(str(entero))\n",
    "# Si solo pones type(entero), te sale int. Debes poner la funcióón str() dentro de type()"
   ]
  },
  {
   "cell_type": "code",
   "execution_count": 10,
   "id": "0260912e-7aee-40bb-9165-dde3b9de0c30",
   "metadata": {},
   "outputs": [
    {
     "data": {
      "text/plain": [
       "'-46.23'"
      ]
     },
     "execution_count": 10,
     "metadata": {},
     "output_type": "execute_result"
    }
   ],
   "source": [
    "cadena = '-46.23'\n",
    "cadena"
   ]
  },
  {
   "cell_type": "code",
   "execution_count": 11,
   "id": "5e4d44a2-f394-44d6-b5c1-07fd6d1dd920",
   "metadata": {},
   "outputs": [
    {
     "data": {
      "text/plain": [
       "-46.23"
      ]
     },
     "execution_count": 11,
     "metadata": {},
     "output_type": "execute_result"
    }
   ],
   "source": [
    "float(cadena)"
   ]
  },
  {
   "cell_type": "code",
   "execution_count": 12,
   "id": "0bb07448-2ae2-4578-98dc-d1970bc085c5",
   "metadata": {},
   "outputs": [
    {
     "data": {
      "text/plain": [
       "('-', '4', '6', '.', '2', '3')"
      ]
     },
     "execution_count": 12,
     "metadata": {},
     "output_type": "execute_result"
    }
   ],
   "source": [
    "tuple(cadena)"
   ]
  },
  {
   "cell_type": "code",
   "execution_count": 13,
   "id": "617f424a-d26b-4342-9f3c-a5ba1600a2ab",
   "metadata": {},
   "outputs": [
    {
     "data": {
      "text/plain": [
       "-78"
      ]
     },
     "execution_count": 13,
     "metadata": {},
     "output_type": "execute_result"
    }
   ],
   "source": [
    "int('-78')"
   ]
  },
  {
   "cell_type": "markdown",
   "id": "6194c439-9bbb-4b2c-8e93-51f0e0b4b806",
   "metadata": {},
   "source": [
    "# Datos booleanos"
   ]
  },
  {
   "cell_type": "code",
   "execution_count": 14,
   "id": "2220bb1d-73e9-44f4-ab51-49937844a0bc",
   "metadata": {},
   "outputs": [
    {
     "data": {
      "text/plain": [
       "(True, False)"
      ]
     },
     "execution_count": 14,
     "metadata": {},
     "output_type": "execute_result"
    }
   ],
   "source": [
    "value1, value2 = True, False\n",
    "value1, value2"
   ]
  },
  {
   "cell_type": "code",
   "execution_count": 16,
   "id": "95009c05-f6c9-481b-9d59-bec5a7ade04c",
   "metadata": {},
   "outputs": [
    {
     "data": {
      "text/plain": [
       "bool"
      ]
     },
     "execution_count": 16,
     "metadata": {},
     "output_type": "execute_result"
    }
   ],
   "source": [
    "type(value1)"
   ]
  },
  {
   "cell_type": "code",
   "execution_count": 17,
   "id": "3f9be1de-dc9b-41e4-800d-5253769bc1f5",
   "metadata": {},
   "outputs": [
    {
     "data": {
      "text/plain": [
       "False"
      ]
     },
     "execution_count": 17,
     "metadata": {},
     "output_type": "execute_result"
    }
   ],
   "source": [
    "bool(0)"
   ]
  },
  {
   "cell_type": "code",
   "execution_count": 18,
   "id": "87c37066-d93c-4e6a-a812-966f268620f2",
   "metadata": {},
   "outputs": [
    {
     "data": {
      "text/plain": [
       "True"
      ]
     },
     "execution_count": 18,
     "metadata": {},
     "output_type": "execute_result"
    }
   ],
   "source": [
    "bool(1)"
   ]
  },
  {
   "cell_type": "code",
   "execution_count": 19,
   "id": "80be029c-e9de-4bd1-b0c8-d0ff2c2052d5",
   "metadata": {},
   "outputs": [
    {
     "data": {
      "text/plain": [
       "True"
      ]
     },
     "execution_count": 19,
     "metadata": {},
     "output_type": "execute_result"
    }
   ],
   "source": [
    "bool('Hola')"
   ]
  },
  {
   "cell_type": "code",
   "execution_count": 20,
   "id": "6d158789-87ad-48e1-ac9f-6baa06eb6686",
   "metadata": {},
   "outputs": [
    {
     "data": {
      "text/plain": [
       "True"
      ]
     },
     "execution_count": 20,
     "metadata": {},
     "output_type": "execute_result"
    }
   ],
   "source": [
    "bool(2)"
   ]
  },
  {
   "cell_type": "code",
   "execution_count": 21,
   "id": "a927cdd7-a614-48dc-92f1-788b2864f723",
   "metadata": {},
   "outputs": [
    {
     "data": {
      "text/plain": [
       "False"
      ]
     },
     "execution_count": 21,
     "metadata": {},
     "output_type": "execute_result"
    }
   ],
   "source": [
    "bool([])"
   ]
  },
  {
   "cell_type": "code",
   "execution_count": 22,
   "id": "d0999ea3-6491-40eb-8091-3d2f375365e6",
   "metadata": {},
   "outputs": [
    {
     "data": {
      "text/plain": [
       "True"
      ]
     },
     "execution_count": 22,
     "metadata": {},
     "output_type": "execute_result"
    }
   ],
   "source": [
    "bool((5, ))"
   ]
  },
  {
   "cell_type": "code",
   "execution_count": 25,
   "id": "6d9d2deb-f760-46e6-a3f8-5c5cf9729b34",
   "metadata": {},
   "outputs": [
    {
     "data": {
      "text/plain": [
       "(False, True)"
      ]
     },
     "execution_count": 25,
     "metadata": {},
     "output_type": "execute_result"
    }
   ],
   "source": [
    "bool({}), bool({'key': \"value\"})"
   ]
  },
  {
   "cell_type": "markdown",
   "id": "948bc41b-5449-40b4-bc0d-7366598f88b1",
   "metadata": {},
   "source": [
    "# Set"
   ]
  },
  {
   "cell_type": "code",
   "execution_count": 29,
   "id": "56c29a1a-6639-4b42-aa28-6280c68f1b58",
   "metadata": {},
   "outputs": [
    {
     "data": {
      "text/plain": [
       "10"
      ]
     },
     "execution_count": 29,
     "metadata": {},
     "output_type": "execute_result"
    }
   ],
   "source": [
    "conjunto = (4, 'cosa', 1,2,3,4,'a','b','c','a')\n",
    "len(conjunto) # Wtf? Me salen 10, deberían ser 8 (descontando la repetición)"
   ]
  },
  {
   "cell_type": "markdown",
   "id": "fb681b5e-bfe2-47e2-b219-8a698565d1f9",
   "metadata": {},
   "source": [
    "# Operadores de asignación"
   ]
  },
  {
   "cell_type": "code",
   "execution_count": null,
   "id": "ba5f8907-be63-4a32-902b-2ae3c13e86e2",
   "metadata": {},
   "outputs": [],
   "source": [
    "# =, +=, -=, *=, /=, //=, %=, **="
   ]
  },
  {
   "cell_type": "code",
   "execution_count": 30,
   "id": "41adfc46-677f-4b86-941b-9d5f55c4aec8",
   "metadata": {},
   "outputs": [
    {
     "data": {
      "text/plain": [
       "32"
      ]
     },
     "execution_count": 30,
     "metadata": {},
     "output_type": "execute_result"
    }
   ],
   "source": [
    "a = 10\n",
    "a = a+22\n",
    "a"
   ]
  },
  {
   "cell_type": "code",
   "execution_count": 31,
   "id": "c020e6d2-081f-4478-8c7e-9e1f5584df9e",
   "metadata": {},
   "outputs": [
    {
     "data": {
      "text/plain": [
       "32"
      ]
     },
     "execution_count": 31,
     "metadata": {},
     "output_type": "execute_result"
    }
   ],
   "source": [
    "a = 2\n",
    "a **= 5\n",
    "a"
   ]
  },
  {
   "cell_type": "code",
   "execution_count": 32,
   "id": "289c2f21-ecdf-4c1f-a1be-cc2a7ed8e33d",
   "metadata": {},
   "outputs": [
    {
     "data": {
      "text/plain": [
       "[3,\n",
       " 6,\n",
       " 8,\n",
       " 'azul como el mar azul',\n",
       " 'l',\n",
       " 'a',\n",
       " 's',\n",
       " ' ',\n",
       " 'd',\n",
       " 'o',\n",
       " 'c',\n",
       " 'e',\n",
       " ' ',\n",
       " 'c',\n",
       " 'a',\n",
       " 's',\n",
       " 'a',\n",
       " 's']"
      ]
     },
     "execution_count": 32,
     "metadata": {},
     "output_type": "execute_result"
    }
   ],
   "source": [
    "a = [3,6,8,'azul como el mar azul']\n",
    "a += list('las doce casas')\n",
    "a"
   ]
  },
  {
   "cell_type": "markdown",
   "id": "e7db7488-22f4-40dd-979f-95d72cbb7762",
   "metadata": {},
   "source": [
    "# Operadores relacionales"
   ]
  },
  {
   "cell_type": "code",
   "execution_count": null,
   "id": "cbce1ab3-6125-49b1-ad22-dc1efc51a315",
   "metadata": {},
   "outputs": [],
   "source": [
    "# <,>,==,!="
   ]
  },
  {
   "cell_type": "code",
   "execution_count": 34,
   "id": "0186593f-b5b1-4fbe-b84d-97219afe2aff",
   "metadata": {},
   "outputs": [
    {
     "data": {
      "text/plain": [
       "(False, True, False, True)"
      ]
     },
     "execution_count": 34,
     "metadata": {},
     "output_type": "execute_result"
    }
   ],
   "source": [
    "a,b = 5,18\n",
    "a > b, a < b, a == b, a != b"
   ]
  },
  {
   "cell_type": "code",
   "execution_count": 37,
   "id": "8a716642-dcf7-4b9d-971b-319f48de32e2",
   "metadata": {},
   "outputs": [
    {
     "data": {
      "text/plain": [
       "False"
      ]
     },
     "execution_count": 37,
     "metadata": {},
     "output_type": "execute_result"
    }
   ],
   "source": [
    "a, b, c = -45.2, 22, 100\n",
    "(((a-b) < 567) != 0) == c*0"
   ]
  },
  {
   "cell_type": "code",
   "execution_count": 38,
   "id": "32f83c8b-ecf2-46d0-9bfc-f19e57b143f6",
   "metadata": {},
   "outputs": [
    {
     "data": {
      "text/plain": [
       "(True, True, True)"
      ]
     },
     "execution_count": 38,
     "metadata": {},
     "output_type": "execute_result"
    }
   ],
   "source": [
    "True != 0, True == 1, False == 0"
   ]
  },
  {
   "cell_type": "code",
   "execution_count": 40,
   "id": "42ed61ec-52c8-4b2d-ad10-d06bba1c5fed",
   "metadata": {},
   "outputs": [
    {
     "data": {
      "text/plain": [
       "True"
      ]
     },
     "execution_count": 40,
     "metadata": {},
     "output_type": "execute_result"
    }
   ],
   "source": [
    "False < True # 0 < 1"
   ]
  },
  {
   "cell_type": "code",
   "execution_count": 42,
   "id": "6d943ad5-3040-4624-a35a-53f7f59b0529",
   "metadata": {},
   "outputs": [
    {
     "data": {
      "text/plain": [
       "False"
      ]
     },
     "execution_count": 42,
     "metadata": {},
     "output_type": "execute_result"
    }
   ],
   "source": [
    "5 < 10 < 3 # Se evalúa el statement completo"
   ]
  },
  {
   "cell_type": "markdown",
   "id": "df2c93e3-08d3-4849-abd5-53546e4cda3f",
   "metadata": {},
   "source": [
    "# Operadores lógicos"
   ]
  },
  {
   "cell_type": "code",
   "execution_count": 45,
   "id": "cb32d384-f002-4753-bef9-348ffedbb07c",
   "metadata": {},
   "outputs": [
    {
     "data": {
      "text/plain": [
       "False"
      ]
     },
     "execution_count": 45,
     "metadata": {},
     "output_type": "execute_result"
    }
   ],
   "source": [
    "c = 'hola mundo'\n",
    "len(c) >= 10 and c[0] == 'H' # Antes del and, todo es True"
   ]
  }
 ],
 "metadata": {
  "kernelspec": {
   "display_name": "Python 3 (ipykernel)",
   "language": "python",
   "name": "python3"
  },
  "language_info": {
   "codemirror_mode": {
    "name": "ipython",
    "version": 3
   },
   "file_extension": ".py",
   "mimetype": "text/x-python",
   "name": "python",
   "nbconvert_exporter": "python",
   "pygments_lexer": "ipython3",
   "version": "3.13.7"
  }
 },
 "nbformat": 4,
 "nbformat_minor": 5
}
