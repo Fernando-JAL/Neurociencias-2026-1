{
 "cells": [
  {
   "cell_type": "code",
   "execution_count": 1,
   "id": "e282a510-f5cc-422b-bee0-d7ef80e8ca06",
   "metadata": {
    "scrolled": true
   },
   "outputs": [],
   "source": [
    "from modulo import *"
   ]
  },
  {
   "cell_type": "code",
   "execution_count": 2,
   "id": "1c3cd873-d23d-41f9-820d-855230590d53",
   "metadata": {},
   "outputs": [
    {
     "name": "stdout",
     "output_type": "stream",
     "text": [
      "hola desde el paquete\n"
     ]
    }
   ],
   "source": [
    "saludo()"
   ]
  },
  {
   "cell_type": "code",
   "execution_count": 4,
   "id": "aaa46094-df6e-4542-b251-f186ecbbd4a5",
   "metadata": {},
   "outputs": [
    {
     "name": "stdout",
     "output_type": "stream",
     "text": [
      "otra funcion\n"
     ]
    }
   ],
   "source": [
    "function()"
   ]
  },
  {
   "cell_type": "code",
   "execution_count": 5,
   "id": "a26ac988-7267-4b76-958a-dd459435fdad",
   "metadata": {},
   "outputs": [
    {
     "data": {
      "text/plain": [
       "5"
      ]
     },
     "execution_count": 5,
     "metadata": {},
     "output_type": "execute_result"
    }
   ],
   "source": [
    "suma (2, 3)"
   ]
  },
  {
   "cell_type": "code",
   "execution_count": 6,
   "id": "df988105-9c0a-4c67-9dfd-1d47148d7699",
   "metadata": {},
   "outputs": [],
   "source": [
    "import numpy"
   ]
  },
  {
   "cell_type": "markdown",
   "id": "8c020e69-8691-4833-b700-ba84239c44f1",
   "metadata": {},
   "source": [
    "# PAQUETE numpy\n",
    "\n",
    "es un paquete enfocado en manipular la información en estructuras conocidas como vectores, arreglo y matrices.\n",
    "\n",
    "la contribución más significativa del paquete numpy es la introdución de un tipo de dato llamado array "
   ]
  },
  {
   "cell_type": "code",
   "execution_count": 7,
   "id": "11b2a13f-3c4e-49b7-8d5d-20621e41db7a",
   "metadata": {},
   "outputs": [],
   "source": [
    "import numpy as np "
   ]
  },
  {
   "cell_type": "code",
   "execution_count": 8,
   "id": "7780f37a-9083-4f81-a581-d1484bb01c7c",
   "metadata": {},
   "outputs": [
    {
     "data": {
      "text/plain": [
       "numpy.ndarray"
      ]
     },
     "execution_count": 8,
     "metadata": {},
     "output_type": "execute_result"
    }
   ],
   "source": [
    "lista = [3,4,5]\n",
    "\n",
    "variable = np.array(lista) \n",
    "type(variable)"
   ]
  },
  {
   "cell_type": "code",
   "execution_count": 12,
   "id": "17b9806f-b603-40a1-931c-677173239b43",
   "metadata": {},
   "outputs": [
    {
     "data": {
      "text/plain": [
       "(1, (3,))"
      ]
     },
     "execution_count": 12,
     "metadata": {},
     "output_type": "execute_result"
    }
   ],
   "source": [
    "variable.ndim, variable.shape"
   ]
  },
  {
   "cell_type": "code",
   "execution_count": 15,
   "id": "5c374e74-ffad-4ef1-a7f3-c50933de396a",
   "metadata": {},
   "outputs": [
    {
     "data": {
      "text/plain": [
       "(numpy.ndarray, 2, (2, 3))"
      ]
     },
     "execution_count": 15,
     "metadata": {},
     "output_type": "execute_result"
    }
   ],
   "source": [
    "variable2d = np.array([\n",
    "    [4,5,6],\n",
    "    [7,8,9]\n",
    "])\n",
    "type(variable2d), variable2d.ndim, variable2d.shape"
   ]
  },
  {
   "cell_type": "code",
   "execution_count": 16,
   "id": "6121b569-b842-4458-ac18-6c688374f76d",
   "metadata": {},
   "outputs": [
    {
     "data": {
      "text/plain": [
       "(2, 3)"
      ]
     },
     "execution_count": 16,
     "metadata": {},
     "output_type": "execute_result"
    }
   ],
   "source": [
    "variable2d.shape"
   ]
  },
  {
   "cell_type": "markdown",
   "id": "bec6aa3a-8fb1-4a70-a4f2-d69bacfacd94",
   "metadata": {},
   "source": [
    "# funciones numpy"
   ]
  },
  {
   "cell_type": "code",
   "execution_count": 18,
   "id": "1ecc287f-76fe-4c80-974e-484bbce4492c",
   "metadata": {},
   "outputs": [
    {
     "data": {
      "text/plain": [
       "(array([0., 0., 0., 0., 0., 0.]),\n",
       " array([[0., 0., 0., 0.],\n",
       "        [0., 0., 0., 0.],\n",
       "        [0., 0., 0., 0.]]))"
      ]
     },
     "execution_count": 18,
     "metadata": {},
     "output_type": "execute_result"
    }
   ],
   "source": [
    "np.zeros(6), np.zeros ([3,4])"
   ]
  },
  {
   "cell_type": "code",
   "execution_count": 20,
   "id": "b5b86ae4-7e43-4d6f-afa5-9becb92759ea",
   "metadata": {},
   "outputs": [
    {
     "data": {
      "text/plain": [
       "(array([1., 1., 1., 1.]),\n",
       " array([[[1., 1., 1., 1.],\n",
       "         [1., 1., 1., 1.],\n",
       "         [1., 1., 1., 1.]],\n",
       " \n",
       "        [[1., 1., 1., 1.],\n",
       "         [1., 1., 1., 1.],\n",
       "         [1., 1., 1., 1.]]]))"
      ]
     },
     "execution_count": 20,
     "metadata": {},
     "output_type": "execute_result"
    }
   ],
   "source": [
    "np.ones(4), np.ones([2,3,4])"
   ]
  },
  {
   "cell_type": "code",
   "execution_count": 22,
   "id": "c04298b7-e082-49be-b524-7b0a98141fd8",
   "metadata": {},
   "outputs": [
    {
     "data": {
      "text/plain": [
       "array([[1., 0., 0.],\n",
       "       [0., 1., 0.],\n",
       "       [0., 0., 1.]])"
      ]
     },
     "execution_count": 22,
     "metadata": {},
     "output_type": "execute_result"
    }
   ],
   "source": [
    "np.eye(3)"
   ]
  },
  {
   "cell_type": "code",
   "execution_count": 23,
   "id": "af25454d-53dd-4830-9abd-ff346608ddbd",
   "metadata": {},
   "outputs": [],
   "source": [
    "# Ejercicio crear un arreglo de 4x4 cuyos ele,mentos en la diagonal sena igual a 8 \n",
    "# pero fuera de la diagonal sean igual a -10"
   ]
  },
  {
   "cell_type": "code",
   "execution_count": 24,
   "id": "cc055735-f5e2-41e6-a7ad-e497d5bb1fb7",
   "metadata": {},
   "outputs": [
    {
     "name": "stdout",
     "output_type": "stream",
     "text": [
      "[[  8 -10 -10 -10]\n",
      " [-10   8 -10 -10]\n",
      " [-10 -10   8 -10]\n",
      " [-10 -10 -10   8]]\n"
     ]
    }
   ],
   "source": [
    "import numpy as np\n",
    "\n",
    "matriz = np.full((4, 4), -10)\n",
    "\n",
    "np.fill_diagonal(matriz, 8)\n",
    "\n",
    "print(matriz)"
   ]
  },
  {
   "cell_type": "code",
   "execution_count": 25,
   "id": "63a4b2bb-bb38-4cb9-b9a6-de0ab3ead7c0",
   "metadata": {},
   "outputs": [
    {
     "data": {
      "text/plain": [
       "array([[  8., -10., -10., -10.],\n",
       "       [-10.,   8., -10., -10.],\n",
       "       [-10., -10.,   8., -10.],\n",
       "       [-10., -10., -10.,   8.]])"
      ]
     },
     "execution_count": 25,
     "metadata": {},
     "output_type": "execute_result"
    }
   ],
   "source": [
    "-10*np.ones([4,4]) + 18*np.eye(4)"
   ]
  },
  {
   "cell_type": "code",
   "execution_count": 27,
   "id": "198e966b-ca73-4064-8aa8-8b0d24f77506",
   "metadata": {},
   "outputs": [
    {
     "data": {
      "text/plain": [
       "array([[8., 0., 0., 0.],\n",
       "       [0., 8., 0., 0.],\n",
       "       [0., 0., 8., 0.],\n",
       "       [0., 0., 0., 8.]])"
      ]
     },
     "execution_count": 27,
     "metadata": {},
     "output_type": "execute_result"
    }
   ],
   "source": [
    "np.eye(4)*8"
   ]
  },
  {
   "cell_type": "code",
   "execution_count": 28,
   "id": "dae45058-77e3-491c-a232-df68d2402859",
   "metadata": {},
   "outputs": [],
   "source": [
    "valor = -10*np.ones([4,4])+ 18*np.eye(4)"
   ]
  },
  {
   "cell_type": "code",
   "execution_count": 29,
   "id": "3fe64aef-6d91-405d-b4af-667bc160b892",
   "metadata": {},
   "outputs": [
    {
     "data": {
      "text/plain": [
       "array([[ 4., -5., -5., -5.],\n",
       "       [-5.,  4., -5., -5.],\n",
       "       [-5., -5.,  4., -5.],\n",
       "       [-5., -5., -5.,  4.]])"
      ]
     },
     "execution_count": 29,
     "metadata": {},
     "output_type": "execute_result"
    }
   ],
   "source": [
    "valor/2"
   ]
  },
  {
   "cell_type": "code",
   "execution_count": 30,
   "id": "4220619d-c1bf-4021-bb25-938f7e0793bf",
   "metadata": {},
   "outputs": [
    {
     "data": {
      "text/plain": [
       "array([[ 0.125, -0.1  , -0.1  , -0.1  ],\n",
       "       [-0.1  ,  0.125, -0.1  , -0.1  ],\n",
       "       [-0.1  , -0.1  ,  0.125, -0.1  ],\n",
       "       [-0.1  , -0.1  , -0.1  ,  0.125]])"
      ]
     },
     "execution_count": 30,
     "metadata": {},
     "output_type": "execute_result"
    }
   ],
   "source": [
    "1/valor"
   ]
  },
  {
   "cell_type": "code",
   "execution_count": null,
   "id": "45fa342a-06b3-4592-a1cb-419d3b0a1d2b",
   "metadata": {},
   "outputs": [],
   "source": []
  }
 ],
 "metadata": {
  "kernelspec": {
   "display_name": "Python 3 (ipykernel)",
   "language": "python",
   "name": "python3"
  },
  "language_info": {
   "codemirror_mode": {
    "name": "ipython",
    "version": 3
   },
   "file_extension": ".py",
   "mimetype": "text/x-python",
   "name": "python",
   "nbconvert_exporter": "python",
   "pygments_lexer": "ipython3",
   "version": "3.10.4"
  }
 },
 "nbformat": 4,
 "nbformat_minor": 5
}
