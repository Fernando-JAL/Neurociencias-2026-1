{
 "cells": [
  {
   "cell_type": "code",
   "execution_count": 8,
   "id": "d6d5f194-1004-45aa-9d43-dccdbc11551a",
   "metadata": {},
   "outputs": [],
   "source": [
    "import modulo"
   ]
  },
  {
   "cell_type": "code",
   "execution_count": 9,
   "id": "2bc8a6be-808e-4426-930e-9e3c7f37fa53",
   "metadata": {},
   "outputs": [
    {
     "name": "stdout",
     "output_type": "stream",
     "text": [
      "hola desde el paquete\n"
     ]
    }
   ],
   "source": [
    "saludo()"
   ]
  },
  {
   "cell_type": "code",
   "execution_count": 10,
   "id": "751f515a-5db9-4a04-9739-3dc95e37ff50",
   "metadata": {},
   "outputs": [
    {
     "name": "stdout",
     "output_type": "stream",
     "text": [
      "otra funcion\n"
     ]
    }
   ],
   "source": [
    "funcion()"
   ]
  },
  {
   "cell_type": "code",
   "execution_count": 11,
   "id": "afe1c4eb-505b-43ea-99c2-53e55c9c1db1",
   "metadata": {},
   "outputs": [
    {
     "data": {
      "text/plain": [
       "5"
      ]
     },
     "execution_count": 11,
     "metadata": {},
     "output_type": "execute_result"
    }
   ],
   "source": [
    "suma(2, 3)"
   ]
  },
  {
   "cell_type": "markdown",
   "id": "41b58933-e521-4463-93cf-e01d769553f2",
   "metadata": {},
   "source": [
    "# Paquete numpy\n",
    "\n",
    "Es un paquete enfocado en manipular información en estructuras conocidas como vectores, arreglo y matrices.\n",
    "\n",
    "La contribución más significativa del paquete numpy es la introducción de un tipo de dato llamado __array__"
   ]
  },
  {
   "cell_type": "code",
   "execution_count": 14,
   "id": "c381da9b-408c-4177-9609-4f6c6da95624",
   "metadata": {},
   "outputs": [],
   "source": [
    "import numpy as np"
   ]
  },
  {
   "cell_type": "code",
   "execution_count": 15,
   "id": "c438abf7-dd9b-4144-88ff-ed405551e55b",
   "metadata": {},
   "outputs": [
    {
     "data": {
      "text/plain": [
       "numpy.ndarray"
      ]
     },
     "execution_count": 15,
     "metadata": {},
     "output_type": "execute_result"
    }
   ],
   "source": [
    "lista = [3, 4, 5]\n",
    "\n",
    "variable = np.array(lista)\n",
    "type(variable)"
   ]
  },
  {
   "cell_type": "code",
   "execution_count": 16,
   "id": "919866a3-2b55-4218-8c09-d309f21e0676",
   "metadata": {},
   "outputs": [
    {
     "data": {
      "text/plain": [
       "array([3, 4, 5])"
      ]
     },
     "execution_count": 16,
     "metadata": {},
     "output_type": "execute_result"
    }
   ],
   "source": [
    "variable"
   ]
  },
  {
   "cell_type": "code",
   "execution_count": 23,
   "id": "a5b2cae4-5a54-4b4f-9150-f0971727cda6",
   "metadata": {},
   "outputs": [
    {
     "data": {
      "text/plain": [
       "(1, (3,))"
      ]
     },
     "execution_count": 23,
     "metadata": {},
     "output_type": "execute_result"
    }
   ],
   "source": [
    "variable.ndim, variable.shape"
   ]
  },
  {
   "cell_type": "code",
   "execution_count": 24,
   "id": "2d1088da-89f9-4299-ab2d-1947f328977a",
   "metadata": {},
   "outputs": [
    {
     "data": {
      "text/plain": [
       "(numpy.ndarray, 2, (2, 3))"
      ]
     },
     "execution_count": 24,
     "metadata": {},
     "output_type": "execute_result"
    }
   ],
   "source": [
    "variable2d = np.array([\n",
    "    [4, 5, 6], \n",
    "    [7, 8, 9]\n",
    "])\n",
    "type(variable2d), variable2d.ndim, variable2d.shape"
   ]
  },
  {
   "cell_type": "code",
   "execution_count": 22,
   "id": "bd5ab1c0-00d6-4166-a09f-3a9b0602af65",
   "metadata": {},
   "outputs": [
    {
     "data": {
      "text/plain": [
       "(2, 3)"
      ]
     },
     "execution_count": 22,
     "metadata": {},
     "output_type": "execute_result"
    }
   ],
   "source": [
    "variable2d.shape"
   ]
  },
  {
   "cell_type": "markdown",
   "id": "828a0b90-cad2-47a7-9385-3fbf8ca99f5c",
   "metadata": {},
   "source": [
    "### funciones de numpy"
   ]
  },
  {
   "cell_type": "code",
   "execution_count": 29,
   "id": "3dc1f731-37eb-40b8-b67f-3f640a65db85",
   "metadata": {},
   "outputs": [
    {
     "data": {
      "text/plain": [
       "(array([0., 0., 0., 0., 0., 0.]),\n",
       " array([[0., 0., 0., 0.],\n",
       "        [0., 0., 0., 0.],\n",
       "        [0., 0., 0., 0.]]))"
      ]
     },
     "execution_count": 29,
     "metadata": {},
     "output_type": "execute_result"
    }
   ],
   "source": [
    "np.zeros(6), np.zeros((3, 4))"
   ]
  },
  {
   "cell_type": "code",
   "execution_count": 31,
   "id": "e8b1b103-d5d4-4bb1-826f-ef2401be85a0",
   "metadata": {},
   "outputs": [
    {
     "data": {
      "text/plain": [
       "(array([1., 1., 1., 1.]),\n",
       " array([[[1., 1., 1., 1.],\n",
       "         [1., 1., 1., 1.],\n",
       "         [1., 1., 1., 1.]],\n",
       " \n",
       "        [[1., 1., 1., 1.],\n",
       "         [1., 1., 1., 1.],\n",
       "         [1., 1., 1., 1.]]]))"
      ]
     },
     "execution_count": 31,
     "metadata": {},
     "output_type": "execute_result"
    }
   ],
   "source": [
    "np.ones(4), np.ones([2, 3, 4])"
   ]
  },
  {
   "cell_type": "code",
   "execution_count": 33,
   "id": "59deeb88-3243-4f80-a30f-e1fa7f47ee5b",
   "metadata": {},
   "outputs": [
    {
     "data": {
      "text/plain": [
       "array([[1., 0., 0., 0., 0.],\n",
       "       [0., 1., 0., 0., 0.],\n",
       "       [0., 0., 1., 0., 0.],\n",
       "       [0., 0., 0., 1., 0.],\n",
       "       [0., 0., 0., 0., 1.]])"
      ]
     },
     "execution_count": 33,
     "metadata": {},
     "output_type": "execute_result"
    }
   ],
   "source": [
    "np.eye(5)"
   ]
  },
  {
   "cell_type": "code",
   "execution_count": null,
   "id": "c17e81d5-3db5-4795-8c92-086bcae363ae",
   "metadata": {},
   "outputs": [],
   "source": [
    "# Ejercicio. Crear un arreglo de 4x4 cuyos elementos en la diagonal sean igual a 8 \n",
    "# pero fuera de la diagonal sea igual a -10 "
   ]
  },
  {
   "cell_type": "code",
   "execution_count": 41,
   "id": "cb786014-28d5-49bc-8cc4-079f09abab54",
   "metadata": {},
   "outputs": [
    {
     "data": {
      "text/plain": [
       "array([[  8., -10., -10., -10.],\n",
       "       [-10.,   8., -10., -10.],\n",
       "       [-10., -10.,   8., -10.],\n",
       "       [-10., -10., -10.,   8.]])"
      ]
     },
     "execution_count": 41,
     "metadata": {},
     "output_type": "execute_result"
    }
   ],
   "source": [
    "valor = -10*np.ones([4, 4]) + 18*np.eye(4)\n",
    "valor"
   ]
  },
  {
   "cell_type": "code",
   "execution_count": 45,
   "id": "332b48e0-0915-4427-8783-edf0a116f994",
   "metadata": {},
   "outputs": [
    {
     "name": "stderr",
     "output_type": "stream",
     "text": [
      "C:\\Users\\OMEN CI7\\AppData\\Local\\Temp\\ipykernel_11588\\1006119973.py:1: RuntimeWarning: invalid value encountered in sqrt\n",
      "  valor**0.5\n"
     ]
    },
    {
     "data": {
      "text/plain": [
       "array([[2.82842712,        nan,        nan,        nan],\n",
       "       [       nan, 2.82842712,        nan,        nan],\n",
       "       [       nan,        nan, 2.82842712,        nan],\n",
       "       [       nan,        nan,        nan, 2.82842712]])"
      ]
     },
     "execution_count": 45,
     "metadata": {},
     "output_type": "execute_result"
    }
   ],
   "source": [
    "valor**0.5"
   ]
  },
  {
   "cell_type": "code",
   "execution_count": 48,
   "id": "47da25d6-f700-4d07-a182-e19e4151cd31",
   "metadata": {},
   "outputs": [
    {
     "data": {
      "text/plain": [
       "array([[  8., -10., -10., -10.],\n",
       "       [-10.,   8., -10., -10.],\n",
       "       [-10., -10.,   8., -10.],\n",
       "       [-10., -10., -10.,   8.]])"
      ]
     },
     "execution_count": 48,
     "metadata": {},
     "output_type": "execute_result"
    }
   ],
   "source": [
    "valor"
   ]
  },
  {
   "cell_type": "code",
   "execution_count": 47,
   "id": "59c6cf5d-66c7-4c02-b163-280288c442ee",
   "metadata": {},
   "outputs": [
    {
     "data": {
      "text/plain": [
       "array([[ 0.125, -0.1  , -0.1  , -0.1  ],\n",
       "       [-0.1  ,  0.125, -0.1  , -0.1  ],\n",
       "       [-0.1  , -0.1  ,  0.125, -0.1  ],\n",
       "       [-0.1  , -0.1  , -0.1  ,  0.125]])"
      ]
     },
     "execution_count": 47,
     "metadata": {},
     "output_type": "execute_result"
    }
   ],
   "source": [
    "1/valor"
   ]
  },
  {
   "cell_type": "code",
   "execution_count": null,
   "id": "f0f6d143-e0ff-4bdf-b12d-f4087d7830c5",
   "metadata": {},
   "outputs": [],
   "source": []
  },
  {
   "cell_type": "code",
   "execution_count": null,
   "id": "232cb847-bfcb-42bd-aa2e-d5eaf24ec1da",
   "metadata": {},
   "outputs": [],
   "source": []
  }
 ],
 "metadata": {
  "kernelspec": {
   "display_name": "Python 3 (ipykernel)",
   "language": "python",
   "name": "python3"
  },
  "language_info": {
   "codemirror_mode": {
    "name": "ipython",
    "version": 3
   },
   "file_extension": ".py",
   "mimetype": "text/x-python",
   "name": "python",
   "nbconvert_exporter": "python",
   "pygments_lexer": "ipython3",
   "version": "3.10.4"
  }
 },
 "nbformat": 4,
 "nbformat_minor": 5
}
