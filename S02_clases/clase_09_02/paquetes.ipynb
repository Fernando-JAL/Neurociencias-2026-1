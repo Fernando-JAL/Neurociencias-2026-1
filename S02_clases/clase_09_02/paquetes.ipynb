{
 "cells": [
  {
   "cell_type": "code",
   "execution_count": 1,
   "id": "30c8590c-7758-41e2-bf02-dc05a5e02163",
   "metadata": {},
   "outputs": [],
   "source": [
    "# mandar a llamar todas las funciones con *\n",
    "from modulo import *"
   ]
  },
  {
   "cell_type": "code",
   "execution_count": 2,
   "id": "3d2e28a5-c16f-48d5-b385-4e7c0122410e",
   "metadata": {},
   "outputs": [
    {
     "name": "stdout",
     "output_type": "stream",
     "text": [
      "hola desde el paquete\n"
     ]
    }
   ],
   "source": [
    "saludo()"
   ]
  },
  {
   "cell_type": "code",
   "execution_count": 3,
   "id": "5b0424f5-1115-475c-aefd-50056f3b0aeb",
   "metadata": {},
   "outputs": [
    {
     "name": "stdout",
     "output_type": "stream",
     "text": [
      "otra función\n"
     ]
    }
   ],
   "source": [
    "funcion()"
   ]
  },
  {
   "cell_type": "code",
   "execution_count": 4,
   "id": "0601155f-ee22-4cd5-8eca-66be31009955",
   "metadata": {},
   "outputs": [
    {
     "data": {
      "text/plain": [
       "5"
      ]
     },
     "execution_count": 4,
     "metadata": {},
     "output_type": "execute_result"
    }
   ],
   "source": [
    "suma(2,3)"
   ]
  },
  {
   "cell_type": "markdown",
   "id": "4515c90d-145d-4bad-af01-9512ebc2d3fc",
   "metadata": {},
   "source": [
    "# Paquete numpy\n",
    " es un paquete enfocado en manipular infrmación en estructuras conocidas como vectores, arreglo y matrices.\n",
    " \n",
    " La contribución más significativa del paquete numpy es la introducción de un tipo de dato llamado __array__"
   ]
  },
  {
   "cell_type": "code",
   "execution_count": 8,
   "id": "3e756cd4-253b-41fb-a650-a13c581df0f8",
   "metadata": {},
   "outputs": [],
   "source": [
    "import numpy as np"
   ]
  },
  {
   "cell_type": "code",
   "execution_count": 6,
   "id": "bb3e4688-c57f-4610-ae52-1d370b696805",
   "metadata": {},
   "outputs": [
    {
     "name": "stdout",
     "output_type": "stream",
     "text": [
      "Collecting numpy\n",
      "  Downloading numpy-2.3.2-cp311-cp311-win_amd64.whl (13.1 MB)\n",
      "     --------------------------------------- 13.1/13.1 MB 28.5 MB/s eta 0:00:00\n",
      "Collecting pandas\n",
      "  Downloading pandas-2.3.2-cp311-cp311-win_amd64.whl (11.3 MB)\n",
      "     --------------------------------------- 11.3/11.3 MB 28.4 MB/s eta 0:00:00\n",
      "Collecting matplotlib\n",
      "  Downloading matplotlib-3.10.6-cp311-cp311-win_amd64.whl (8.1 MB)\n",
      "     ---------------------------------------- 8.1/8.1 MB 24.7 MB/s eta 0:00:00\n",
      "Requirement already satisfied: python-dateutil>=2.8.2 in c:\\users\\v304-16\\appdata\\local\\programs\\python\\python311\\lib\\site-packages (from pandas) (2.9.0.post0)\n",
      "Collecting pytz>=2020.1\n",
      "  Downloading pytz-2025.2-py2.py3-none-any.whl (509 kB)\n",
      "     ------------------------------------- 509.2/509.2 kB 16.1 MB/s eta 0:00:00\n",
      "Collecting tzdata>=2022.7\n",
      "  Downloading tzdata-2025.2-py2.py3-none-any.whl (347 kB)\n",
      "     -------------------------------------- 347.8/347.8 kB 1.7 MB/s eta 0:00:00\n",
      "Collecting contourpy>=1.0.1\n",
      "  Downloading contourpy-1.3.3-cp311-cp311-win_amd64.whl (225 kB)\n",
      "     ------------------------------------- 225.2/225.2 kB 14.3 MB/s eta 0:00:00\n",
      "Collecting cycler>=0.10\n",
      "  Downloading cycler-0.12.1-py3-none-any.whl (8.3 kB)\n",
      "Collecting fonttools>=4.22.0\n",
      "  Downloading fonttools-4.59.2-cp311-cp311-win_amd64.whl (2.3 MB)\n",
      "     ---------------------------------------- 2.3/2.3 MB 18.0 MB/s eta 0:00:00\n",
      "Collecting kiwisolver>=1.3.1\n",
      "  Downloading kiwisolver-1.4.9-cp311-cp311-win_amd64.whl (73 kB)\n",
      "     ---------------------------------------- 73.8/73.8 kB 4.2 MB/s eta 0:00:00\n",
      "Requirement already satisfied: packaging>=20.0 in c:\\users\\v304-16\\appdata\\local\\programs\\python\\python311\\lib\\site-packages (from matplotlib) (25.0)\n",
      "Collecting pillow>=8\n",
      "  Downloading pillow-11.3.0-cp311-cp311-win_amd64.whl (7.0 MB)\n",
      "     ---------------------------------------- 7.0/7.0 MB 22.4 MB/s eta 0:00:00\n",
      "Collecting pyparsing>=2.3.1\n",
      "  Downloading pyparsing-3.2.3-py3-none-any.whl (111 kB)\n",
      "     -------------------------------------- 111.1/111.1 kB 6.7 MB/s eta 0:00:00\n",
      "Requirement already satisfied: six>=1.5 in c:\\users\\v304-16\\appdata\\local\\programs\\python\\python311\\lib\\site-packages (from python-dateutil>=2.8.2->pandas) (1.17.0)\n",
      "Installing collected packages: pytz, tzdata, pyparsing, pillow, numpy, kiwisolver, fonttools, cycler, pandas, contourpy, matplotlib\n",
      "Successfully installed contourpy-1.3.3 cycler-0.12.1 fonttools-4.59.2 kiwisolver-1.4.9 matplotlib-3.10.6 numpy-2.3.2 pandas-2.3.2 pillow-11.3.0 pyparsing-3.2.3 pytz-2025.2 tzdata-2025.2\n"
     ]
    },
    {
     "name": "stderr",
     "output_type": "stream",
     "text": [
      "\n",
      "[notice] A new release of pip available: 22.3.1 -> 25.2\n",
      "[notice] To update, run: python.exe -m pip install --upgrade pip\n"
     ]
    }
   ],
   "source": [
    "!pip install numpy pandas matplotlib"
   ]
  },
  {
   "cell_type": "code",
   "execution_count": 9,
   "id": "353e02e2-cc53-492f-b45f-c79c97399209",
   "metadata": {},
   "outputs": [
    {
     "data": {
      "text/plain": [
       "numpy.ndarray"
      ]
     },
     "execution_count": 9,
     "metadata": {},
     "output_type": "execute_result"
    }
   ],
   "source": [
    "lista= [3,4,5]\n",
    "variable=np.array(lista)\n",
    "type(variable)"
   ]
  },
  {
   "cell_type": "code",
   "execution_count": 20,
   "id": "403c4d8b-6985-4b49-ae50-37f17ba3ac5a",
   "metadata": {},
   "outputs": [
    {
     "data": {
      "text/plain": [
       "(1, (3,))"
      ]
     },
     "execution_count": 20,
     "metadata": {},
     "output_type": "execute_result"
    }
   ],
   "source": [
    "#numpy: arreglos, matrices, ndim ver dimensión\n",
    "variable.ndim, variable.shape"
   ]
  },
  {
   "cell_type": "code",
   "execution_count": 21,
   "id": "afb746fd-f01b-4b66-869c-20e1bfa06cc7",
   "metadata": {},
   "outputs": [],
   "source": [
    "# arreglo bidimensional, en python todos son arreglos\n",
    "variable2d= np.array([\n",
    "    [4,5,6],\n",
    "    [7,8,9]\n",
    "])\n",
    "\n"
   ]
  },
  {
   "cell_type": "code",
   "execution_count": 22,
   "id": "d29a3224-511e-4988-917e-30a6889ead9a",
   "metadata": {},
   "outputs": [
    {
     "data": {
      "text/plain": [
       "(numpy.ndarray, 2, (2, 3))"
      ]
     },
     "execution_count": 22,
     "metadata": {},
     "output_type": "execute_result"
    }
   ],
   "source": [
    "# metodos: poner en parentesis y propiedades; no necesita parentesis\n",
    "# .shape indica filas, columnas\n",
    "type(variable2d),variable2d.ndim,variable2d.shape"
   ]
  },
  {
   "cell_type": "markdown",
   "id": "55ea58cb-2048-4a03-aa72-88df8a66ac4c",
   "metadata": {},
   "source": [
    "### funciones de numpy"
   ]
  },
  {
   "cell_type": "code",
   "execution_count": 24,
   "id": "93c7621d-01c2-4732-ac58-655f052b06b3",
   "metadata": {},
   "outputs": [
    {
     "data": {
      "text/plain": [
       "(array([0., 0., 0., 0., 0., 0.]),\n",
       " array([[0., 0., 0., 0.],\n",
       "        [0., 0., 0., 0.],\n",
       "        [0., 0., 0., 0.]]))"
      ]
     },
     "execution_count": 24,
     "metadata": {},
     "output_type": "execute_result"
    }
   ],
   "source": [
    "#arreglo de ceros\n",
    "np.zeros(6), np.zeros([3,4])"
   ]
  },
  {
   "cell_type": "code",
   "execution_count": 26,
   "id": "b641ffda-a169-4730-a064-6210d131b555",
   "metadata": {},
   "outputs": [
    {
     "data": {
      "text/plain": [
       "(array([1., 1., 1., 1.]),\n",
       " array([[[1., 1., 1., 1.],\n",
       "         [1., 1., 1., 1.],\n",
       "         [1., 1., 1., 1.]],\n",
       " \n",
       "        [[1., 1., 1., 1.],\n",
       "         [1., 1., 1., 1.],\n",
       "         [1., 1., 1., 1.]]]))"
      ]
     },
     "execution_count": 26,
     "metadata": {},
     "output_type": "execute_result"
    }
   ],
   "source": [
    "# arreglos de unos\n",
    "np.ones(4),np.ones([2,3,4])"
   ]
  },
  {
   "cell_type": "code",
   "execution_count": 28,
   "id": "61357634-09d8-485d-8f04-46374ebca120",
   "metadata": {},
   "outputs": [
    {
     "data": {
      "text/plain": [
       "array([[1., 0., 0., 0., 0.],\n",
       "       [0., 1., 0., 0., 0.],\n",
       "       [0., 0., 1., 0., 0.],\n",
       "       [0., 0., 0., 1., 0.],\n",
       "       [0., 0., 0., 0., 1.]])"
      ]
     },
     "execution_count": 28,
     "metadata": {},
     "output_type": "execute_result"
    }
   ],
   "source": [
    "# matriz de identidad(tiene que ser una ,atiz cuadrada), elementos en diagonal=1, fuera de ella=0\n",
    "np.eye(5)"
   ]
  },
  {
   "cell_type": "code",
   "execution_count": null,
   "id": "79f371d0-a45f-4a4f-a948-890e5d2bd0dc",
   "metadata": {},
   "outputs": [],
   "source": [
    "# Ejercicio, crear un arreglo de 4x4 cuyos elementos en la diagoal sean =8 pero fuera de la diagonal= -10"
   ]
  },
  {
   "cell_type": "code",
   "execution_count": 42,
   "id": "2d5bf612-6cc7-481b-b76e-8dc749643db1",
   "metadata": {},
   "outputs": [],
   "source": [
    "valor= -10*np.ones([4,4])  +18*np.eye(4)"
   ]
  },
  {
   "cell_type": "code",
   "execution_count": 45,
   "id": "28ef81b1-94a0-41d2-b1ff-ea39a83991f1",
   "metadata": {},
   "outputs": [
    {
     "data": {
      "text/plain": [
       "array([[ 0.125, -0.1  , -0.1  , -0.1  ],\n",
       "       [-0.1  ,  0.125, -0.1  , -0.1  ],\n",
       "       [-0.1  , -0.1  ,  0.125, -0.1  ],\n",
       "       [-0.1  , -0.1  , -0.1  ,  0.125]])"
      ]
     },
     "execution_count": 45,
     "metadata": {},
     "output_type": "execute_result"
    }
   ],
   "source": [
    "1/valor"
   ]
  },
  {
   "cell_type": "code",
   "execution_count": null,
   "id": "e528436c-f9cd-4dc5-acb7-376f39f1df28",
   "metadata": {},
   "outputs": [],
   "source": [
    "valor"
   ]
  }
 ],
 "metadata": {
  "kernelspec": {
   "display_name": "Python 3 (ipykernel)",
   "language": "python",
   "name": "python3"
  },
  "language_info": {
   "codemirror_mode": {
    "name": "ipython",
    "version": 3
   },
   "file_extension": ".py",
   "mimetype": "text/x-python",
   "name": "python",
   "nbconvert_exporter": "python",
   "pygments_lexer": "ipython3",
   "version": "3.10.4"
  }
 },
 "nbformat": 4,
 "nbformat_minor": 5
}
