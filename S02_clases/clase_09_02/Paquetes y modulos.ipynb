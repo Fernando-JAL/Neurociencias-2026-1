{
 "cells": [
  {
   "cell_type": "markdown",
   "id": "9cc4d73a-c5c0-4173-94d8-13a22c8ad91d",
   "metadata": {},
   "source": [
    "# Paquetes y módulos"
   ]
  },
  {
   "cell_type": "code",
   "execution_count": 3,
   "id": "7ee131cf-bb5a-436e-8ac1-a53a7009f777",
   "metadata": {},
   "outputs": [],
   "source": [
    "from modulo import *"
   ]
  },
  {
   "cell_type": "code",
   "execution_count": 4,
   "id": "ce15c6e9-d2dc-4739-89a3-0a88b4a9345d",
   "metadata": {},
   "outputs": [
    {
     "name": "stdout",
     "output_type": "stream",
     "text": [
      "saludo desde paquete\n"
     ]
    }
   ],
   "source": [
    "saludo()"
   ]
  },
  {
   "cell_type": "code",
   "execution_count": 5,
   "id": "49761f05-9454-4266-8ac7-9df13be61ad0",
   "metadata": {},
   "outputs": [
    {
     "name": "stdout",
     "output_type": "stream",
     "text": [
      "otra funcion\n"
     ]
    }
   ],
   "source": [
    "funcion()"
   ]
  },
  {
   "cell_type": "code",
   "execution_count": 6,
   "id": "cb44e85a-5247-4f0c-977d-0b333266de7e",
   "metadata": {},
   "outputs": [
    {
     "data": {
      "text/plain": [
       "5"
      ]
     },
     "execution_count": 6,
     "metadata": {},
     "output_type": "execute_result"
    }
   ],
   "source": [
    "suma(2, 3)"
   ]
  },
  {
   "cell_type": "markdown",
   "id": "a3494ab7-2378-4a36-9d27-9583e9f32079",
   "metadata": {},
   "source": [
    "# Paquete numpy\n",
    "\n",
    "Es un paquete enfocado en manipular información en estructuras conocidas como vectores, arreglos y matrices. \n",
    "\n",
    "La contribución más significativa del paquete es la introducción de un nuevo tipo de dato --> __array__"
   ]
  },
  {
   "cell_type": "code",
   "execution_count": 8,
   "id": "432b61a9-75eb-4477-a6a1-4790388d4cb2",
   "metadata": {},
   "outputs": [],
   "source": [
    "import numpy as np"
   ]
  },
  {
   "cell_type": "code",
   "execution_count": 9,
   "id": "6f159f9d-9233-4383-876c-377bfa88a9e7",
   "metadata": {},
   "outputs": [
    {
     "data": {
      "text/plain": [
       "numpy.ndarray"
      ]
     },
     "execution_count": 9,
     "metadata": {},
     "output_type": "execute_result"
    }
   ],
   "source": [
    "lista = [3, 4, 5]\n",
    "\n",
    "variable = np.array(lista)\n",
    "type(variable)"
   ]
  },
  {
   "cell_type": "markdown",
   "id": "0458e776-92b5-4276-9cfb-e740aa837734",
   "metadata": {},
   "source": [
    "- arreglo: lista de datos numéricos unidimensional\n",
    "- matriz:\n",
    "\n",
    "En python son todos __arreglos__"
   ]
  },
  {
   "cell_type": "code",
   "execution_count": 17,
   "id": "6833d3d1-c812-4cb4-ac80-ee2e26719539",
   "metadata": {},
   "outputs": [
    {
     "data": {
      "text/plain": [
       "1"
      ]
     },
     "execution_count": 17,
     "metadata": {},
     "output_type": "execute_result"
    }
   ],
   "source": [
    "# .ndim propiedad de la variable para saber las dimensiones de nuestro arreglo\n",
    "variable.ndim "
   ]
  },
  {
   "cell_type": "code",
   "execution_count": 19,
   "id": "ec4d5181-3db0-48d1-8342-b39ca42328a8",
   "metadata": {},
   "outputs": [
    {
     "data": {
      "text/plain": [
       "(numpy.ndarray, 2, (2, 3))"
      ]
     },
     "execution_count": 19,
     "metadata": {},
     "output_type": "execute_result"
    }
   ],
   "source": [
    "# la creamos como una lista de listas\n",
    "variable2d = np.array([\n",
    "    [4, 5, 6],\n",
    "    [7, 8, 9]\n",
    "]) \n",
    "type(variable2d), variable2d.ndim, variable2d.shape"
   ]
  },
  {
   "cell_type": "code",
   "execution_count": 15,
   "id": "63b48308-c354-47fa-939e-f187e525e6a7",
   "metadata": {},
   "outputs": [
    {
     "data": {
      "text/plain": [
       "array([[4, 5, 6],\n",
       "       [7, 8, 9]])"
      ]
     },
     "execution_count": 15,
     "metadata": {},
     "output_type": "execute_result"
    }
   ],
   "source": [
    "variable2d"
   ]
  },
  {
   "cell_type": "code",
   "execution_count": 20,
   "id": "22e756f5-6aa2-4a43-9a5f-f22c053277bf",
   "metadata": {},
   "outputs": [
    {
     "data": {
      "text/plain": [
       "(3,)"
      ]
     },
     "execution_count": 20,
     "metadata": {},
     "output_type": "execute_result"
    }
   ],
   "source": [
    "# propiedad .shape --> cantidad de elementos por dimensión\n",
    "variable.shape"
   ]
  },
  {
   "cell_type": "markdown",
   "id": "f352a45e-f0ff-4f10-8b14-d4066ff095b5",
   "metadata": {},
   "source": [
    "## Funciones de numpy"
   ]
  },
  {
   "cell_type": "code",
   "execution_count": 23,
   "id": "d1bd7811-517b-4010-bbf3-116f7015db68",
   "metadata": {},
   "outputs": [
    {
     "data": {
      "text/plain": [
       "(array([0., 0., 0., 0., 0., 0.]),\n",
       " array([[0., 0., 0., 0.],\n",
       "        [0., 0., 0., 0.],\n",
       "        [0., 0., 0., 0.]]))"
      ]
     },
     "execution_count": 23,
     "metadata": {},
     "output_type": "execute_result"
    }
   ],
   "source": [
    "# arreglos de ceros\n",
    "np.zeros(6), np.zeros([3, 4])"
   ]
  },
  {
   "cell_type": "code",
   "execution_count": 25,
   "id": "42c40ca7-2df7-416c-b8b4-4402bce999de",
   "metadata": {},
   "outputs": [
    {
     "data": {
      "text/plain": [
       "(array([1., 1., 1., 1.]),\n",
       " array([[[1., 1., 1., 1.],\n",
       "         [1., 1., 1., 1.],\n",
       "         [1., 1., 1., 1.]],\n",
       " \n",
       "        [[1., 1., 1., 1.],\n",
       "         [1., 1., 1., 1.],\n",
       "         [1., 1., 1., 1.]]]))"
      ]
     },
     "execution_count": 25,
     "metadata": {},
     "output_type": "execute_result"
    }
   ],
   "source": [
    "# arreglos de unos\n",
    "np.ones(4), np.ones((2, 3, 4))"
   ]
  },
  {
   "cell_type": "code",
   "execution_count": 29,
   "id": "1ec609e2-f938-4dfa-b0e8-b0f5b7886a0c",
   "metadata": {},
   "outputs": [
    {
     "data": {
      "text/plain": [
       "array([[1., 0., 0., 0., 0.],\n",
       "       [0., 1., 0., 0., 0.],\n",
       "       [0., 0., 1., 0., 0.],\n",
       "       [0., 0., 0., 1., 0.],\n",
       "       [0., 0., 0., 0., 1.]])"
      ]
     },
     "execution_count": 29,
     "metadata": {},
     "output_type": "execute_result"
    }
   ],
   "source": [
    "# arreglo equivalente a la matriz de identidad --> diagonal = 1, fuera = 0. tiene que ser una matriz cuadrada. \n",
    "np.eye(5)"
   ]
  },
  {
   "cell_type": "markdown",
   "id": "32671ca5-4fbf-4cc8-be13-278b21165745",
   "metadata": {},
   "source": [
    "#### Ejercicio\n",
    "- Crear un arreglo de 4x4 cuyos elementos en la diagonal sean igual a 8, fuera de la diagonal = -10"
   ]
  },
  {
   "cell_type": "code",
   "execution_count": 50,
   "id": "d999ea99-b104-4727-9002-cb5a3f26e92c",
   "metadata": {},
   "outputs": [
    {
     "data": {
      "text/plain": [
       "array([[8., 0., 0., 0.],\n",
       "       [0., 8., 0., 0.],\n",
       "       [0., 0., 8., 0.],\n",
       "       [0., 0., 0., 8.]])"
      ]
     },
     "execution_count": 50,
     "metadata": {},
     "output_type": "execute_result"
    }
   ],
   "source": [
    "np.eye(4)*8"
   ]
  },
  {
   "cell_type": "code",
   "execution_count": 52,
   "id": "02a3f972-b36a-4eae-b90d-5979da623947",
   "metadata": {},
   "outputs": [],
   "source": [
    "valor = -10*np.ones((4, 4)) + 18*np.eye(4)"
   ]
  },
  {
   "cell_type": "markdown",
   "id": "4cf9b04b-f2bf-467b-bd96-7f57ebd2c78b",
   "metadata": {},
   "source": [
    "Los utiliza como objetos matemáticos"
   ]
  },
  {
   "cell_type": "code",
   "execution_count": 53,
   "id": "2a18e6f7-f7eb-43b4-8351-8c9a15637be7",
   "metadata": {},
   "outputs": [
    {
     "data": {
      "text/plain": [
       "array([[ 4., -5., -5., -5.],\n",
       "       [-5.,  4., -5., -5.],\n",
       "       [-5., -5.,  4., -5.],\n",
       "       [-5., -5., -5.,  4.]])"
      ]
     },
     "execution_count": 53,
     "metadata": {},
     "output_type": "execute_result"
    }
   ],
   "source": [
    "valor/2"
   ]
  },
  {
   "cell_type": "code",
   "execution_count": 56,
   "id": "76a93ed1-bb53-48d3-bf4e-f953cb9f7448",
   "metadata": {},
   "outputs": [
    {
     "data": {
      "text/plain": [
       "array([[ 64., 100., 100., 100.],\n",
       "       [100.,  64., 100., 100.],\n",
       "       [100., 100.,  64., 100.],\n",
       "       [100., 100., 100.,  64.]])"
      ]
     },
     "execution_count": 56,
     "metadata": {},
     "output_type": "execute_result"
    }
   ],
   "source": [
    "valor**2"
   ]
  },
  {
   "cell_type": "code",
   "execution_count": 57,
   "id": "e248abc3-ab51-4d2e-be00-edd03a6e4f43",
   "metadata": {},
   "outputs": [
    {
     "data": {
      "text/plain": [
       "array([[ 0.125, -0.1  , -0.1  , -0.1  ],\n",
       "       [-0.1  ,  0.125, -0.1  , -0.1  ],\n",
       "       [-0.1  , -0.1  ,  0.125, -0.1  ],\n",
       "       [-0.1  , -0.1  , -0.1  ,  0.125]])"
      ]
     },
     "execution_count": 57,
     "metadata": {},
     "output_type": "execute_result"
    }
   ],
   "source": [
    "# en python si está definida la división entre matrices\n",
    "1/valor"
   ]
  },
  {
   "cell_type": "markdown",
   "id": "640a1906-2d39-40d7-aad2-254adbb1e297",
   "metadata": {},
   "source": [
    "Tarea = cuánto vale 0^0"
   ]
  },
  {
   "cell_type": "code",
   "execution_count": null,
   "id": "da496c99-d2be-403c-b97b-4bfe85ce1036",
   "metadata": {},
   "outputs": [],
   "source": []
  }
 ],
 "metadata": {
  "kernelspec": {
   "display_name": "Python 3 (ipykernel)",
   "language": "python",
   "name": "python3"
  },
  "language_info": {
   "codemirror_mode": {
    "name": "ipython",
    "version": 3
   },
   "file_extension": ".py",
   "mimetype": "text/x-python",
   "name": "python",
   "nbconvert_exporter": "python",
   "pygments_lexer": "ipython3",
   "version": "3.13.6"
  }
 },
 "nbformat": 4,
 "nbformat_minor": 5
}
