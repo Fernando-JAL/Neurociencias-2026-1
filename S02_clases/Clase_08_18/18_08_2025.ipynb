{
 "cells": [
  {
   "cell_type": "code",
   "execution_count": 1,
   "id": "82b1911b-3a37-4938-b3f7-7291e23dd12f",
   "metadata": {},
   "outputs": [
    {
     "data": {
      "text/plain": [
       "'cadena'"
      ]
     },
     "execution_count": 1,
     "metadata": {},
     "output_type": "execute_result"
    }
   ],
   "source": [
    "cadena=\"cadena\"\n",
    "cadena"
   ]
  },
  {
   "cell_type": "code",
   "execution_count": 2,
   "id": "8ea80c45-dc01-483e-86e3-cf28febe93e0",
   "metadata": {},
   "outputs": [],
   "source": [
    "cadena=\"otra cosa\"\n"
   ]
  },
  {
   "cell_type": "markdown",
   "id": "a590e3cf-71f4-4646-9d3b-777619a94e53",
   "metadata": {},
   "source": [
    "# Alternativas a la inmutabilidad "
   ]
  },
  {
   "cell_type": "code",
   "execution_count": 39,
   "id": "19c5df8d-a232-4c67-97a6-300a672352fb",
   "metadata": {},
   "outputs": [],
   "source": [
    "cadena =\"donde esta oswaldo\"\n",
    "cadena2 = \"viva la programación\"\n",
    "cadena3 = \"bts volvió de l ejercito\""
   ]
  },
  {
   "cell_type": "code",
   "execution_count": 20,
   "id": "2aa7c2de-7413-40a7-b81a-f801850b7c7a",
   "metadata": {},
   "outputs": [
    {
     "data": {
      "text/plain": [
       "'oswaldo'"
      ]
     },
     "execution_count": 20,
     "metadata": {},
     "output_type": "execute_result"
    }
   ],
   "source": [
    "cadena[-7:]"
   ]
  },
  {
   "cell_type": "code",
   "execution_count": 21,
   "id": "debfc0de-bfd3-4127-bdfa-3518dce03b03",
   "metadata": {},
   "outputs": [],
   "source": [
    "##Ejercicio con slicing crear la d¿frase \"donde esta la programación que volvió del ejercito\""
   ]
  },
  {
   "cell_type": "code",
   "execution_count": 22,
   "id": "d73d321c-b0c9-4e2c-82ac-b33b0a3b03b6",
   "metadata": {},
   "outputs": [
    {
     "data": {
      "text/plain": [
       "'donde esta la programación que volvió del ejercito'"
      ]
     },
     "execution_count": 22,
     "metadata": {},
     "output_type": "execute_result"
    }
   ],
   "source": [
    "cadena[0:10]+ cadena2[4:]+ \" que \" + cadena3[4:]"
   ]
  },
  {
   "cell_type": "code",
   "execution_count": null,
   "id": "16dfed0a-2241-4d85-a040-81e596705bec",
   "metadata": {},
   "outputs": [],
   "source": [
    "##Ejercicio: Oswaldo volvió a la programación ed óivlov stb"
   ]
  },
  {
   "cell_type": "code",
   "execution_count": 40,
   "id": "02a8a756-fbbf-4574-8e63-d2e5c4057e07",
   "metadata": {},
   "outputs": [
    {
     "data": {
      "text/plain": [
       "'oswaldo volvió a  la programación ed óivlov stb'"
      ]
     },
     "execution_count": 40,
     "metadata": {},
     "output_type": "execute_result"
    }
   ],
   "source": [
    "cadena[-7:] + cadena3[3:10] + \" a \"+ cadena2[4:] + cadena3[-11::-1]"
   ]
  },
  {
   "cell_type": "code",
   "execution_count": 67,
   "id": "aa8575ff-62de-41cf-a1e7-039a78cc7aff",
   "metadata": {},
   "outputs": [
    {
     "data": {
      "text/plain": [
       "'C:\\\\Users\\\\V304-17\\\\Documents\\\\GitHub\\\\Neurociencias-2026-1\\\\S01_presentacion\\\\Planeacion.pdf'"
      ]
     },
     "execution_count": 67,
     "metadata": {},
     "output_type": "execute_result"
    }
   ],
   "source": [
    "ruta= r\"C:\\Users\\V304-17\\Documents\\GitHub\\Neurociencias-2026-1\\S01_presentacion\\Planeacion.pdf\"\n",
    "ruta"
   ]
  },
  {
   "cell_type": "code",
   "execution_count": 62,
   "id": "94054b70-c148-47f0-9485-8eb5123720d6",
   "metadata": {},
   "outputs": [
    {
     "data": {
      "text/plain": [
       "['C:',\n",
       " 'Users',\n",
       " 'V304-17',\n",
       " 'Documents',\n",
       " 'GitHub',\n",
       " 'Neurociencias-2026-1',\n",
       " 'S02_clases']"
      ]
     },
     "execution_count": 62,
     "metadata": {},
     "output_type": "execute_result"
    }
   ],
   "source": [
    "ruta.split(sep=\"\\\\\")"
   ]
  },
  {
   "cell_type": "code",
   "execution_count": 69,
   "id": "0d9fafbb-6e55-4dad-b9c1-2814cff1be6e",
   "metadata": {},
   "outputs": [
    {
     "data": {
      "text/plain": [
       "'Planeacion'"
      ]
     },
     "execution_count": 69,
     "metadata": {},
     "output_type": "execute_result"
    }
   ],
   "source": [
    "ruta[-14:-4]"
   ]
  },
  {
   "cell_type": "code",
   "execution_count": 79,
   "id": "f58a450c-47cb-449c-ba78-e99bf7a04887",
   "metadata": {},
   "outputs": [
    {
     "data": {
      "text/plain": [
       "'Planeacion'"
      ]
     },
     "execution_count": 79,
     "metadata": {},
     "output_type": "execute_result"
    }
   ],
   "source": [
    "var1 = ruta.split(sep = \"\\\\\")\n",
    "var2 = var1[-1]\n",
    "var3 = var2.split(sep = \".pdf\")\n",
    "var3[0]"
   ]
  },
  {
   "cell_type": "code",
   "execution_count": 81,
   "id": "de7a6a72-af87-4ca4-a2c1-f18bb0d5dc52",
   "metadata": {},
   "outputs": [
    {
     "data": {
      "text/plain": [
       "'Planeacion'"
      ]
     },
     "execution_count": 81,
     "metadata": {},
     "output_type": "execute_result"
    }
   ],
   "source": [
    "var1 = ruta.split(sep=\"\\\\\")[-1].split (sep=\".pdf\") [0]\n",
    "var1"
   ]
  },
  {
   "cell_type": "markdown",
   "id": "7e3cd7db-e5d7-4901-b265-dedda6aff02d",
   "metadata": {},
   "source": [
    "# Tipo de dato. Listas"
   ]
  },
  {
   "cell_type": "code",
   "execution_count": 78,
   "id": "b8a9035b-1119-4a1f-bf0e-97a89605a3e2",
   "metadata": {},
   "outputs": [
    {
     "data": {
      "text/plain": [
       "[5, 4, 2, 90.3, (-7+6j), 'strings', 'ala', [3, 2, 5]]"
      ]
     },
     "execution_count": 78,
     "metadata": {},
     "output_type": "execute_result"
    }
   ],
   "source": [
    "lista = [5, 4, 2, 90.3, complex(-7,6), 'strings', 'ala',[3,2,5]]\n",
    "lista"
   ]
  },
  {
   "cell_type": "code",
   "execution_count": 43,
   "id": "a736ff31-9dcc-4a11-9fe6-e4e1b04d1c09",
   "metadata": {},
   "outputs": [
    {
     "data": {
      "text/plain": [
       "list"
      ]
     },
     "execution_count": 43,
     "metadata": {},
     "output_type": "execute_result"
    }
   ],
   "source": [
    "type(lista)"
   ]
  },
  {
   "cell_type": "code",
   "execution_count": 48,
   "id": "00fa0382-d4fb-4d20-ac7b-710fe6990281",
   "metadata": {},
   "outputs": [
    {
     "data": {
      "text/plain": [
       "(-3+6j)"
      ]
     },
     "execution_count": 48,
     "metadata": {},
     "output_type": "execute_result"
    }
   ],
   "source": [
    "lista[4] + lista[1]"
   ]
  },
  {
   "cell_type": "code",
   "execution_count": 49,
   "id": "ff27a362-32aa-427a-890c-22bb40486248",
   "metadata": {},
   "outputs": [
    {
     "data": {
      "text/plain": [
       "'alaala'"
      ]
     },
     "execution_count": 49,
     "metadata": {},
     "output_type": "execute_result"
    }
   ],
   "source": [
    "lista[2]*lista[-2]"
   ]
  },
  {
   "cell_type": "code",
   "execution_count": 50,
   "id": "b6d9d7eb-d259-4df2-b2e2-75444062d19e",
   "metadata": {},
   "outputs": [
    {
     "data": {
      "text/plain": [
       "[3, 2, 5, 3, 2, 5, 3, 2, 5, 3, 2, 5]"
      ]
     },
     "execution_count": 50,
     "metadata": {},
     "output_type": "execute_result"
    }
   ],
   "source": [
    "lista[1]*lista[-1]"
   ]
  },
  {
   "cell_type": "code",
   "execution_count": 54,
   "id": "6165134c-4d01-40f4-9438-30f9883e9d7f",
   "metadata": {},
   "outputs": [
    {
     "data": {
      "text/plain": [
       "[5,\n",
       " 4,\n",
       " 'q',\n",
       " 'u',\n",
       " 'e',\n",
       " ' ',\n",
       " 's',\n",
       " 'u',\n",
       " 'e',\n",
       " 'ñ',\n",
       " 'o',\n",
       " ' ',\n",
       " 's',\n",
       " 'u',\n",
       " 'e',\n",
       " 'ñ',\n",
       " 'o',\n",
       " ' ',\n",
       " 's',\n",
       " 'u',\n",
       " 'e',\n",
       " 'ñ',\n",
       " 'o',\n",
       " 'strings',\n",
       " 'ala',\n",
       " [3, 2, 5]]"
      ]
     },
     "execution_count": 54,
     "metadata": {},
     "output_type": "execute_result"
    }
   ],
   "source": [
    "lista[2:5] = 'que sueño'\n",
    "lista"
   ]
  },
  {
   "cell_type": "code",
   "execution_count": 51,
   "id": "e671eb95-fe0f-4039-9305-491a7f69b650",
   "metadata": {},
   "outputs": [
    {
     "data": {
      "text/plain": [
       "[5, 4, 2, 'whhaaaatt', (-7+6j), 'strings', 'ala', [3, 2, 5]]"
      ]
     },
     "execution_count": 51,
     "metadata": {},
     "output_type": "execute_result"
    }
   ],
   "source": [
    "lista[3]='whhaaaatt'\n",
    "lista"
   ]
  },
  {
   "cell_type": "code",
   "execution_count": 55,
   "id": "22ec40ae-a650-4d76-b895-ddea5d8010a9",
   "metadata": {},
   "outputs": [
    {
     "data": {
      "text/plain": [
       "26"
      ]
     },
     "execution_count": 55,
     "metadata": {},
     "output_type": "execute_result"
    }
   ],
   "source": [
    "len(lista)"
   ]
  },
  {
   "cell_type": "code",
   "execution_count": 56,
   "id": "b8e86ea8-d51d-4a08-b647-1cde7b910da6",
   "metadata": {},
   "outputs": [
    {
     "name": "stdout",
     "output_type": "stream",
     "text": [
      "26 [5, 4, 'q', 'u', 'e', ' ', 's', 'u', 'e', 'ñ', 'o', ' ', 's', 'u', 'e', 'ñ', 'o', ' ', 's', 'u', 'e', 'ñ', 'o', 'strings', 'ala', [3, 2, 5]]\n"
     ]
    }
   ],
   "source": [
    "print(len(lista),lista)"
   ]
  },
  {
   "cell_type": "code",
   "execution_count": null,
   "id": "0d1d3ec0-9ff2-42c0-806c-c2f7b730cb96",
   "metadata": {},
   "outputs": [],
   "source": []
  },
  {
   "cell_type": "code",
   "execution_count": 60,
   "id": "ecf4a7cd-44b2-476f-aaa0-11b22f89eea6",
   "metadata": {},
   "outputs": [
    {
     "data": {
      "text/plain": [
       "['o', 'strings', 'ala']"
      ]
     },
     "execution_count": 60,
     "metadata": {},
     "output_type": "execute_result"
    }
   ],
   "source": [
    "lista[-4:-1]"
   ]
  },
  {
   "cell_type": "code",
   "execution_count": null,
   "id": "516df8b4-41d1-4e65-a11c-29ae9757c4e7",
   "metadata": {},
   "outputs": [],
   "source": []
  }
 ],
 "metadata": {
  "kernelspec": {
   "display_name": "Python 3 (ipykernel)",
   "language": "python",
   "name": "python3"
  },
  "language_info": {
   "codemirror_mode": {
    "name": "ipython",
    "version": 3
   },
   "file_extension": ".py",
   "mimetype": "text/x-python",
   "name": "python",
   "nbconvert_exporter": "python",
   "pygments_lexer": "ipython3",
   "version": "3.11.1"
  }
 },
 "nbformat": 4,
 "nbformat_minor": 5
}
