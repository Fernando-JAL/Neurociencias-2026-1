{
 "cells": [
  {
   "cell_type": "code",
   "execution_count": 1,
   "id": "a595b818-dd9a-485d-8694-c1051d148a4f",
   "metadata": {},
   "outputs": [],
   "source": [
    "# Mas listas\n"
   ]
  },
  {
   "cell_type": "code",
   "execution_count": 5,
   "id": "8bca9907-2648-4390-a93f-542215927f0e",
   "metadata": {},
   "outputs": [],
   "source": [
    "lista =[\"rojo\", 2.3, 100, \"chocolate\"]\n",
    "lista.append(\"manzana\")\n",
    "#apepen des para agregra al lultimo lugar "
   ]
  },
  {
   "cell_type": "code",
   "execution_count": 6,
   "id": "334ad498-4e7d-4184-b9ca-4da1e6fb8201",
   "metadata": {},
   "outputs": [],
   "source": [
    " #borras con del \n",
    "del lista[2]"
   ]
  },
  {
   "cell_type": "code",
   "execution_count": 7,
   "id": "1db234df-9585-41f8-a1b7-8e0536343eb1",
   "metadata": {},
   "outputs": [
    {
     "data": {
      "text/plain": [
       "4"
      ]
     },
     "execution_count": 7,
     "metadata": {},
     "output_type": "execute_result"
    }
   ],
   "source": [
    "len(lista)"
   ]
  },
  {
   "cell_type": "code",
   "execution_count": 8,
   "id": "0d6996b5-3854-48c0-8cf3-cad6f3c93cb2",
   "metadata": {},
   "outputs": [
    {
     "name": "stdout",
     "output_type": "stream",
     "text": [
      "['rojo', 2.3, 'chocolate', 'manzana']\n"
     ]
    }
   ],
   "source": [
    "print(lista)"
   ]
  },
  {
   "cell_type": "code",
   "execution_count": 9,
   "id": "bf2132d8-35c9-4fce-9655-7696cc23d549",
   "metadata": {},
   "outputs": [],
   "source": [
    "matriz = [[1,2,3],\n",
    "          [4,5,6],\n",
    "          [7,8,9],\n",
    "          [8,7,6]]"
   ]
  },
  {
   "cell_type": "code",
   "execution_count": 10,
   "id": "6d73311f-61c8-4064-82ab-aaf2d878d982",
   "metadata": {},
   "outputs": [
    {
     "data": {
      "text/plain": [
       "[[1, 2, 3], [4, 5, 6], [7, 8, 9], [8, 7, 6]]"
      ]
     },
     "execution_count": 10,
     "metadata": {},
     "output_type": "execute_result"
    }
   ],
   "source": [
    "matriz "
   ]
  },
  {
   "cell_type": "code",
   "execution_count": 11,
   "id": "f7188b75-6f33-4fe4-b306-8c466fed31c7",
   "metadata": {},
   "outputs": [
    {
     "data": {
      "text/plain": [
       "4"
      ]
     },
     "execution_count": 11,
     "metadata": {},
     "output_type": "execute_result"
    }
   ],
   "source": [
    "matriz[1][0]\n",
    "#Aqui se puede poner varios comandos con eso , por ejemplo se hace 1 y 0 para el doble slicing"
   ]
  },
  {
   "cell_type": "code",
   "execution_count": 16,
   "id": "a93eb49d-cd6c-42ea-96fa-b39c58ad195d",
   "metadata": {},
   "outputs": [
    {
     "data": {
      "text/plain": [
       "(5, 2, '-1', [4, 2, 1], 'pasa')"
      ]
     },
     "execution_count": 16,
     "metadata": {},
     "output_type": "execute_result"
    }
   ],
   "source": [
    "# TUPKAs\n",
    "variable =(5,2,\"-1\",[4,2,1], \"pasa\")\n",
    "variable "
   ]
  },
  {
   "cell_type": "code",
   "execution_count": 18,
   "id": "b6354229-9f36-4573-a83f-4a7d2b0acadd",
   "metadata": {},
   "outputs": [
    {
     "data": {
      "text/plain": [
       "(2, '-1', [4, 2, 1])"
      ]
     },
     "execution_count": 18,
     "metadata": {},
     "output_type": "execute_result"
    }
   ],
   "source": [
    "variable [-4:4]"
   ]
  },
  {
   "cell_type": "code",
   "execution_count": 20,
   "id": "472b51a0-a24b-47bb-a44c-09ad22c844e6",
   "metadata": {},
   "outputs": [
    {
     "data": {
      "text/plain": [
       "(5, 2)"
      ]
     },
     "execution_count": 20,
     "metadata": {},
     "output_type": "execute_result"
    }
   ],
   "source": [
    "tupla =(5,)\n",
    "tupla \n",
    "# necesita una , seria 5, para que sea una tupla y no se vea como una variable que sea un entero en el caso de 5."
   ]
  },
  {
   "cell_type": "code",
   "execution_count": 21,
   "id": "d23d28a8-bf78-4dc8-a17f-2f62614aed0a",
   "metadata": {},
   "outputs": [],
   "source": [
    "#dupla range y listas \n"
   ]
  },
  {
   "cell_type": "code",
   "execution_count": 22,
   "id": "bf954ae7-e7f5-4e5b-a302-e0b86891074a",
   "metadata": {},
   "outputs": [],
   "source": [
    "## Mapping:dicionarios"
   ]
  },
  {
   "cell_type": "code",
   "execution_count": 29,
   "id": "bb600f5e-ef92-4bab-b9e5-8069d8b9aece",
   "metadata": {},
   "outputs": [
    {
     "data": {
      "text/plain": [
       "{'key': 'valor', 'llave2': 'valor2', 'llave3': 5, 'lave4': [2, 3], 5: [-2]}"
      ]
     },
     "execution_count": 29,
     "metadata": {},
     "output_type": "execute_result"
    }
   ],
   "source": [
    "#Diccionario se diferencia entre una llave y un valor , es una coleccion de acsociaciones con pares , una llave y un valor \n",
    "\n",
    "diccionario = {\"key\": \"valor\", \"llave2\" :\"valor2\", \"llave3\": 5 , \"lave4\" : [2,3], 5:[-2]}\n",
    "diccionario"
   ]
  },
  {
   "cell_type": "code",
   "execution_count": 26,
   "id": "887e64f9-79a4-4969-98b6-c89e13faa7b2",
   "metadata": {},
   "outputs": [
    {
     "data": {
      "text/plain": [
       "dict"
      ]
     },
     "execution_count": 26,
     "metadata": {},
     "output_type": "execute_result"
    }
   ],
   "source": [
    "type(diccionario)"
   ]
  },
  {
   "cell_type": "code",
   "execution_count": null,
   "id": "bafebc2d-dd40-4920-b88a-7ce8ea3a46dd",
   "metadata": {},
   "outputs": [],
   "source": []
  },
  {
   "cell_type": "code",
   "execution_count": 32,
   "id": "6d3371fe-1169-4896-976e-b3988d87ccaa",
   "metadata": {},
   "outputs": [
    {
     "data": {
      "text/plain": [
       "dict_keys(['key', 'llave2', 'llave3', 'lave4', 5])"
      ]
     },
     "execution_count": 32,
     "metadata": {},
     "output_type": "execute_result"
    }
   ],
   "source": [
    "diccionario.keys() #se devuelve las llaves "
   ]
  },
  {
   "cell_type": "code",
   "execution_count": 33,
   "id": "39839e9e-e97d-432a-b91b-afc7c6cca5ae",
   "metadata": {},
   "outputs": [
    {
     "data": {
      "text/plain": [
       "dict_values(['valor', 'valor2', 5, [2, 3], [-2]])"
      ]
     },
     "execution_count": 33,
     "metadata": {},
     "output_type": "execute_result"
    }
   ],
   "source": [
    "diccionario.values() #se muestran los valores "
   ]
  },
  {
   "cell_type": "code",
   "execution_count": 34,
   "id": "e042c892-9019-402c-b94f-cf2107b22971",
   "metadata": {},
   "outputs": [
    {
     "data": {
      "text/plain": [
       "dict_values"
      ]
     },
     "execution_count": 34,
     "metadata": {},
     "output_type": "execute_result"
    }
   ],
   "source": [
    "var = diccionario.values()\n",
    "var\n",
    "type(var)"
   ]
  },
  {
   "cell_type": "code",
   "execution_count": 35,
   "id": "921a96a6-377c-402e-9d8b-016e50296c77",
   "metadata": {},
   "outputs": [
    {
     "data": {
      "text/plain": [
       "{'key': 'valor', 'llave2': 45, 'llave3': 5, 'lave4': [2, 3], 5: [-2]}"
      ]
     },
     "execution_count": 35,
     "metadata": {},
     "output_type": "execute_result"
    }
   ],
   "source": [
    "diccionario[\"llave2\"]=45\n",
    "diccionario"
   ]
  },
  {
   "cell_type": "code",
   "execution_count": 36,
   "id": "699034d5-f1cc-4fd5-9a5a-e98227ae631c",
   "metadata": {},
   "outputs": [],
   "source": [
    "diccionario[\"vamonos\"]= \"a mimir\""
   ]
  },
  {
   "cell_type": "code",
   "execution_count": 37,
   "id": "5c4b5bb5-0319-4c6b-942e-e299807acdf8",
   "metadata": {},
   "outputs": [
    {
     "data": {
      "text/plain": [
       "{'key': 'valor',\n",
       " 'llave2': 45,\n",
       " 'llave3': 5,\n",
       " 'lave4': [2, 3],\n",
       " 5: [-2],\n",
       " 'vamonos': 'a mimir'}"
      ]
     },
     "execution_count": 37,
     "metadata": {},
     "output_type": "execute_result"
    }
   ],
   "source": [
    "diccionario"
   ]
  },
  {
   "cell_type": "code",
   "execution_count": null,
   "id": "90a00b41-49ee-486e-a06b-0192704d37e6",
   "metadata": {},
   "outputs": [],
   "source": [
    "diccionario.pop(\"vamonos\")\n",
    "diccionario"
   ]
  }
 ],
 "metadata": {
  "kernelspec": {
   "display_name": "Python 3 (ipykernel)",
   "language": "python",
   "name": "python3"
  },
  "language_info": {
   "codemirror_mode": {
    "name": "ipython",
    "version": 3
   },
   "file_extension": ".py",
   "mimetype": "text/x-python",
   "name": "python",
   "nbconvert_exporter": "python",
   "pygments_lexer": "ipython3",
   "version": "3.10.7"
  }
 },
 "nbformat": 4,
 "nbformat_minor": 5
}
