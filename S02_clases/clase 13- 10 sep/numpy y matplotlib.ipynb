{
 "cells": [
  {
   "cell_type": "code",
   "execution_count": 3,
   "id": "c05b0286-f18c-4433-96ad-28b8d4b8601e",
   "metadata": {},
   "outputs": [],
   "source": [
    "import numpy as np"
   ]
  },
  {
   "cell_type": "code",
   "execution_count": 6,
   "id": "d484dbac-8c40-434e-b655-b16386b6c235",
   "metadata": {},
   "outputs": [
    {
     "data": {
      "text/plain": [
       "0.5885926199240268"
      ]
     },
     "execution_count": 6,
     "metadata": {},
     "output_type": "execute_result"
    }
   ],
   "source": [
    "np.random.rand()  #numeros aleatorios "
   ]
  },
  {
   "cell_type": "code",
   "execution_count": 7,
   "id": "cddf9fe8-ac28-460c-acf7-cb44065323c1",
   "metadata": {},
   "outputs": [
    {
     "data": {
      "text/plain": [
       "array([[0.76254038, 0.52974169],\n",
       "       [0.0552352 , 0.57855771],\n",
       "       [0.67295634, 0.01839995],\n",
       "       [0.1084073 , 0.49970293],\n",
       "       [0.46060947, 0.88350458],\n",
       "       [0.47339992, 0.04943353]])"
      ]
     },
     "execution_count": 7,
     "metadata": {},
     "output_type": "execute_result"
    }
   ],
   "source": [
    "np.random.rand(6,2)"
   ]
  },
  {
   "cell_type": "code",
   "execution_count": 12,
   "id": "f348febc-f4de-45e1-919e-98a1a4d8fa8f",
   "metadata": {},
   "outputs": [
    {
     "data": {
      "text/plain": [
       "array([[0.92688758, 0.7304495 , 0.30089549, 0.1993786 ],\n",
       "       [0.4579511 , 0.2658066 , 0.11694881, 0.29642119],\n",
       "       [0.58591626, 0.59747866, 0.30020252, 0.79174726],\n",
       "       [0.61910052, 0.27072088, 0.60172244, 0.79664324],\n",
       "       [0.68648648, 0.11952141, 0.90141652, 0.08231379]])"
      ]
     },
     "execution_count": 12,
     "metadata": {},
     "output_type": "execute_result"
    }
   ],
   "source": [
    "np.random.uniform(size=[5,4]) # es una distribucion uniforme "
   ]
  },
  {
   "cell_type": "code",
   "execution_count": 13,
   "id": "234cf20f-2db2-4b47-aca3-10202d3867f9",
   "metadata": {},
   "outputs": [
    {
     "ename": "TypeError",
     "evalue": "rand() got an unexpected keyword argument 'size'",
     "output_type": "error",
     "traceback": [
      "\u001b[31m---------------------------------------------------------------------------\u001b[39m",
      "\u001b[31mTypeError\u001b[39m                                 Traceback (most recent call last)",
      "\u001b[36mCell\u001b[39m\u001b[36m \u001b[39m\u001b[32mIn[13]\u001b[39m\u001b[32m, line 2\u001b[39m\n\u001b[32m      1\u001b[39m a, b= \u001b[32m10\u001b[39m, \u001b[32m15\u001b[39m\n\u001b[32m----> \u001b[39m\u001b[32m2\u001b[39m \u001b[43mnp\u001b[49m\u001b[43m.\u001b[49m\u001b[43mrandom\u001b[49m\u001b[43m.\u001b[49m\u001b[43mrand\u001b[49m\u001b[43m(\u001b[49m\u001b[43ma\u001b[49m\u001b[43m,\u001b[49m\u001b[43mb\u001b[49m\u001b[43m,\u001b[49m\u001b[43m \u001b[49m\u001b[43msize\u001b[49m\u001b[43m=\u001b[49m\u001b[43m[\u001b[49m\u001b[32;43m3\u001b[39;49m\u001b[43m,\u001b[49m\u001b[32;43m4\u001b[39;49m\u001b[43m]\u001b[49m\u001b[43m)\u001b[49m\n",
      "\u001b[31mTypeError\u001b[39m: rand() got an unexpected keyword argument 'size'"
     ]
    }
   ],
   "source": [
    "a, b= 10, 15\n",
    "np.random.rand(a,b, size=[3,4])"
   ]
  },
  {
   "cell_type": "code",
   "execution_count": 14,
   "id": "983992a0-db07-4024-b219-306f16fedff8",
   "metadata": {},
   "outputs": [
    {
     "data": {
      "text/plain": [
       "array([3, 1, 6, 1, 2, 6, 3, 3, 0, 0], dtype=int32)"
      ]
     },
     "execution_count": 14,
     "metadata": {},
     "output_type": "execute_result"
    }
   ],
   "source": [
    "np.random.randint(10, size=[10])"
   ]
  },
  {
   "cell_type": "code",
   "execution_count": 15,
   "id": "07dcd01f-148a-4eb5-a7e6-5e73e1a16dda",
   "metadata": {},
   "outputs": [
    {
     "data": {
      "text/plain": [
       "-0.2862676046534667"
      ]
     },
     "execution_count": 15,
     "metadata": {},
     "output_type": "execute_result"
    }
   ],
   "source": [
    "np.random.normal() #distribucion normal"
   ]
  },
  {
   "cell_type": "code",
   "execution_count": 16,
   "id": "473d1322-b1fc-47c4-b26d-12f45b97d129",
   "metadata": {},
   "outputs": [
    {
     "data": {
      "text/plain": [
       "array([[ -8.47472738,  -6.39373399, -13.35190405,  -7.28398336,\n",
       "         -1.82835036, -11.8646923 ],\n",
       "       [ -7.72659402,  -7.95121176, -11.900116  ,  -5.19633535,\n",
       "         -5.51710784,  -4.0547768 ]])"
      ]
     },
     "execution_count": 16,
     "metadata": {},
     "output_type": "execute_result"
    }
   ],
   "source": [
    "mu, sigma = -8, 4\n",
    "np.random.normal(mu, sigma, size=[2,6])"
   ]
  },
  {
   "cell_type": "code",
   "execution_count": 17,
   "id": "2b9c2fad-73b5-45d9-9ab5-8ddd5ce83c06",
   "metadata": {},
   "outputs": [
    {
     "data": {
      "text/plain": [
       "np.float64(0.0012050016694990472)"
      ]
     },
     "execution_count": 17,
     "metadata": {},
     "output_type": "execute_result"
    }
   ],
   "source": [
    "valores= np.random.normal(0,1, size=100000)  #la media es 0 y la desviacion estandar es 1\n",
    "np.mean(valores)  #media- mean\n",
    "    "
   ]
  },
  {
   "cell_type": "code",
   "execution_count": 19,
   "id": "e1e0c003-df9e-4e96-8af1-f9ab6042e1a2",
   "metadata": {},
   "outputs": [
    {
     "data": {
      "text/plain": [
       "(np.float64(0.003070575573025658), np.float64(1.0003657032959101))"
      ]
     },
     "execution_count": 19,
     "metadata": {},
     "output_type": "execute_result"
    }
   ],
   "source": [
    "valores = np.random.normal(0, 1, size=100000)\n",
    "np.mean(valores), np.std(valores)  #desviacion estandar"
   ]
  },
  {
   "cell_type": "code",
   "execution_count": 20,
   "id": "db9a1a48-017f-405e-a175-93e8da001973",
   "metadata": {},
   "outputs": [
    {
     "data": {
      "text/plain": [
       "np.int64(-32)"
      ]
     },
     "execution_count": 20,
     "metadata": {},
     "output_type": "execute_result"
    }
   ],
   "source": [
    "vec1, vec2 = np.array([2, 3 ,4]), np.array([-1, -10,0])\n",
    "np.vdot(vec1, vec2)   #Primer elemento por el primner elemento y el segundo por el segundo (y se suman)vec"
   ]
  },
  {
   "cell_type": "code",
   "execution_count": 21,
   "id": "332f769c-d1d3-491f-8de1-1d343156da7b",
   "metadata": {},
   "outputs": [
    {
     "data": {
      "text/plain": [
       "array([-10,  -1,   0])"
      ]
     },
     "execution_count": 21,
     "metadata": {},
     "output_type": "execute_result"
    }
   ],
   "source": [
    "vec2.sort()\n",
    "vec2 #Ordena los datos de mayor a menor"
   ]
  },
  {
   "cell_type": "code",
   "execution_count": 22,
   "id": "995ff74b-7ff6-46fb-9a1e-4ec954ee05b7",
   "metadata": {},
   "outputs": [
    {
     "data": {
      "text/plain": [
       "array([  0,  -1, -10])"
      ]
     },
     "execution_count": 22,
     "metadata": {},
     "output_type": "execute_result"
    }
   ],
   "source": [
    "vec2.sort()\n",
    "vec2[::-1]  #Orden de menor a mayor "
   ]
  },
  {
   "cell_type": "code",
   "execution_count": 24,
   "id": "0cdcea1d-68c2-4b57-8fb1-bda2b453ad8c",
   "metadata": {},
   "outputs": [],
   "source": [
    "import pandas"
   ]
  },
  {
   "cell_type": "code",
   "execution_count": 25,
   "id": "70962b9d-0b69-4d4a-8a80-4f6f36ec8c83",
   "metadata": {},
   "outputs": [],
   "source": [
    "import matplotlib.pyplot as plt  #Graficas "
   ]
  },
  {
   "cell_type": "code",
   "execution_count": 26,
   "id": "ff9f5734-ffb3-4c7d-88bd-5bd14d900b95",
   "metadata": {},
   "outputs": [
    {
     "data": {
      "text/plain": [
       "[np.int64(0),\n",
       " np.int64(1),\n",
       " np.int64(2),\n",
       " np.int64(3),\n",
       " np.int64(4),\n",
       " np.int64(5),\n",
       " np.int64(6),\n",
       " np.int64(7),\n",
       " np.int64(8),\n",
       " np.int64(9),\n",
       " np.int64(10),\n",
       " np.int64(11),\n",
       " np.int64(12),\n",
       " np.int64(13),\n",
       " np.int64(14),\n",
       " np.int64(15),\n",
       " np.int64(16),\n",
       " np.int64(17),\n",
       " np.int64(18),\n",
       " np.int64(19)]"
      ]
     },
     "execution_count": 26,
     "metadata": {},
     "output_type": "execute_result"
    }
   ],
   "source": [
    "valores = np.arange(20)\n",
    "list(valores) #arreglo de lista de valores"
   ]
  },
  {
   "cell_type": "code",
   "execution_count": 28,
   "id": "c204c927-ad16-4e56-985e-41378865caee",
   "metadata": {},
   "outputs": [
    {
     "data": {
      "text/plain": [
       "[<matplotlib.lines.Line2D at 0x205c6c76490>]"
      ]
     },
     "execution_count": 28,
     "metadata": {},
     "output_type": "execute_result"
    },
    {
     "data": {
      "image/png": "[encoded data removed]",
      "text/plain": [
       "<Figure size 640x480 with 1 Axes>"
      ]
     },
     "metadata": {},
     "output_type": "display_data"
    }
   ],
   "source": [
    "valores = np.arange(20)\n",
    "plt.plot(valores)"
   ]
  },
  {
   "cell_type": "code",
   "execution_count": 34,
   "id": "c75892e4-622f-45b4-88f2-4abac0b326e8",
   "metadata": {},
   "outputs": [
    {
     "data": {
      "text/plain": [
       "(array([1000., 1064., 1007., 1005., 1007.,  929., 1037.,  978.,  921.,\n",
       "        1052.]),\n",
       " array([1.64400988e-05, 1.00011646e-01, 2.00006851e-01, 3.00002057e-01,\n",
       "        3.99997263e-01, 4.99992469e-01, 5.99987674e-01, 6.99982880e-01,\n",
       "        7.99978086e-01, 8.99973291e-01, 9.99968497e-01]),\n",
       " <BarContainer object of 10 artists>)"
      ]
     },
     "execution_count": 34,
     "metadata": {},
     "output_type": "execute_result"
    },
    {
     "data": {
      "image/png": "[encoded data removed]",
      "text/plain": [
       "<Figure size 640x480 with 1 Axes>"
      ]
     },
     "metadata": {},
     "output_type": "display_data"
    }
   ],
   "source": [
    "valores = np.random.uniform(size=10000)\n",
    "plt.hist(valores)   #si son más números va a haber un distribucion uniforme"
   ]
  },
  {
   "cell_type": "code",
   "execution_count": null,
   "id": "1367b7f4-4b2c-4c77-906a-c19c932b04ca",
   "metadata": {},
   "outputs": [],
   "source": [
    "#Ejercicio - crear un arreglo de números aleatorios con distribucion normal igual a 0 y desviacion estandar =1 \n",
    "#de tamaño 100,000 y plotear su histograma"
   ]
  },
  {
   "cell_type": "code",
   "execution_count": 39,
   "id": "37b19326-d847-4986-b779-306c851676bb",
   "metadata": {},
   "outputs": [
    {
     "data": {
      "text/plain": [
       "(array([3.0000e+00, 2.0000e+00, 2.0000e+00, 2.0000e+00, 6.0000e+00,\n",
       "        1.2000e+01, 8.0000e+00, 2.2000e+01, 3.0000e+01, 4.1000e+01,\n",
       "        6.0000e+01, 8.5000e+01, 1.1300e+02, 1.5800e+02, 2.0600e+02,\n",
       "        2.8100e+02, 3.7700e+02, 5.4700e+02, 7.2000e+02, 9.3700e+02,\n",
       "        1.2130e+03, 1.5750e+03, 1.9930e+03, 2.3810e+03, 3.1190e+03,\n",
       "        3.9120e+03, 4.7270e+03, 5.7600e+03, 6.9810e+03, 8.2890e+03,\n",
       "        9.9410e+03, 1.1458e+04, 1.3278e+04, 1.5515e+04, 1.7389e+04,\n",
       "        1.9696e+04, 2.2093e+04, 2.4442e+04, 2.6684e+04, 2.8662e+04,\n",
       "        3.1005e+04, 3.3166e+04, 3.4758e+04, 3.6231e+04, 3.7006e+04,\n",
       "        3.8522e+04, 3.8982e+04, 3.8905e+04, 3.8521e+04, 3.8366e+04,\n",
       "        3.7431e+04, 3.6284e+04, 3.4350e+04, 3.2741e+04, 3.1169e+04,\n",
       "        2.8637e+04, 2.6154e+04, 2.3716e+04, 2.1823e+04, 1.9640e+04,\n",
       "        1.7134e+04, 1.5128e+04, 1.3165e+04, 1.1528e+04, 9.9180e+03,\n",
       "        8.2220e+03, 7.0120e+03, 5.7600e+03, 4.7310e+03, 3.7470e+03,\n",
       "        3.0110e+03, 2.3920e+03, 1.9170e+03, 1.4770e+03, 1.1650e+03,\n",
       "        8.8400e+02, 7.0200e+02, 5.5500e+02, 3.9100e+02, 3.0700e+02,\n",
       "        1.9700e+02, 1.5600e+02, 9.8000e+01, 7.1000e+01, 7.0000e+01,\n",
       "        3.9000e+01, 3.1000e+01, 2.2000e+01, 1.3000e+01, 1.2000e+01,\n",
       "        5.0000e+00, 3.0000e+00, 3.0000e+00, 1.0000e+00, 2.0000e+00,\n",
       "        0.0000e+00, 0.0000e+00, 0.0000e+00, 1.0000e+00, 3.0000e+00]),\n",
       " array([-4.64788769, -4.5499431 , -4.45199851, -4.35405392, -4.25610932,\n",
       "        -4.15816473, -4.06022014, -3.96227555, -3.86433095, -3.76638636,\n",
       "        -3.66844177, -3.57049718, -3.47255259, -3.37460799, -3.2766634 ,\n",
       "        -3.17871881, -3.08077422, -2.98282962, -2.88488503, -2.78694044,\n",
       "        -2.68899585, -2.59105126, -2.49310666, -2.39516207, -2.29721748,\n",
       "        -2.19927289, -2.1013283 , -2.0033837 , -1.90543911, -1.80749452,\n",
       "        -1.70954993, -1.61160533, -1.51366074, -1.41571615, -1.31777156,\n",
       "        -1.21982697, -1.12188237, -1.02393778, -0.92599319, -0.8280486 ,\n",
       "        -0.73010401, -0.63215941, -0.53421482, -0.43627023, -0.33832564,\n",
       "        -0.24038104, -0.14243645, -0.04449186,  0.05345273,  0.15139732,\n",
       "         0.24934192,  0.34728651,  0.4452311 ,  0.54317569,  0.64112028,\n",
       "         0.73906488,  0.83700947,  0.93495406,  1.03289865,  1.13084325,\n",
       "         1.22878784,  1.32673243,  1.42467702,  1.52262161,  1.62056621,\n",
       "         1.7185108 ,  1.81645539,  1.91439998,  2.01234458,  2.11028917,\n",
       "         2.20823376,  2.30617835,  2.40412294,  2.50206754,  2.60001213,\n",
       "         2.69795672,  2.79590131,  2.8938459 ,  2.9917905 ,  3.08973509,\n",
       "         3.18767968,  3.28562427,  3.38356887,  3.48151346,  3.57945805,\n",
       "         3.67740264,  3.77534723,  3.87329183,  3.97123642,  4.06918101,\n",
       "         4.1671256 ,  4.26507019,  4.36301479,  4.46095938,  4.55890397,\n",
       "         4.65684856,  4.75479316,  4.85273775,  4.95068234,  5.04862693,\n",
       "         5.14657152]),\n",
       " <BarContainer object of 100 artists>)"
      ]
     },
     "execution_count": 39,
     "metadata": {},
     "output_type": "execute_result"
    },
    {
     "data": {
      "image/png": "[encoded data removed]",
      "text/plain": [
       "<Figure size 640x480 with 1 Axes>"
      ]
     },
     "metadata": {},
     "output_type": "display_data"
    }
   ],
   "source": [
    "mu, sigma= 0,1\n",
    "valores = np.random.normal(mu, sigma, size=1000000)\n",
    "plt.hist(valores, bins=100)  #Define el número de rectángulos el bins\n"
   ]
  },
  {
   "cell_type": "code",
   "execution_count": null,
   "id": "f5414037-cfa6-4e64-a768-89e3dbe14185",
   "metadata": {},
   "outputs": [],
   "source": []
  }
 ],
 "metadata": {
  "kernelspec": {
   "display_name": "Python 3 (ipykernel)",
   "language": "python",
   "name": "python3"
  },
  "language_info": {
   "codemirror_mode": {
    "name": "ipython",
    "version": 3
   },
   "file_extension": ".py",
   "mimetype": "text/x-python",
   "name": "python",
   "nbconvert_exporter": "python",
   "pygments_lexer": "ipython3",
   "version": "3.11.1"
  }
 },
 "nbformat": 4,
 "nbformat_minor": 5
}
