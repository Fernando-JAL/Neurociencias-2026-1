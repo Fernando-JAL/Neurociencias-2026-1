{
 "cells": [
  {
   "cell_type": "code",
   "execution_count": 2,
   "id": "4cd11ff0-9342-43f8-9726-3f652e966085",
   "metadata": {},
   "outputs": [],
   "source": [
    "import pandas as pd"
   ]
  },
  {
   "cell_type": "code",
   "execution_count": 6,
   "id": "473abae4-9f17-4ddd-a797-5335c7706162",
   "metadata": {},
   "outputs": [
    {
     "data": {
      "text/plain": [
       "0     4\n",
       "1     5\n",
       "2     6\n",
       "3     7\n",
       "4     8\n",
       "5     9\n",
       "6    10\n",
       "7    11\n",
       "8    12\n",
       "dtype: int64"
      ]
     },
     "execution_count": 6,
     "metadata": {},
     "output_type": "execute_result"
    }
   ],
   "source": [
    "pd.Series([4, 5, 6, 7, 8, 9, 10, 11, 12])  #cuenta los datos que hay"
   ]
  },
  {
   "cell_type": "code",
   "execution_count": 7,
   "id": "1d29e224-bd01-4f9a-8b7a-b93fb83413ae",
   "metadata": {},
   "outputs": [
    {
     "data": {
      "text/plain": [
       "0    A\n",
       "1    B\n",
       "dtype: object"
      ]
     },
     "execution_count": 7,
     "metadata": {},
     "output_type": "execute_result"
    }
   ],
   "source": [
    "pd.Series([\"A\", \"B\"])"
   ]
  },
  {
   "cell_type": "code",
   "execution_count": 9,
   "id": "612b65e7-c6d7-4fb3-a0af-6b55c190ceec",
   "metadata": {},
   "outputs": [
    {
     "data": {
      "text/plain": [
       "a    50\n",
       "b    51\n",
       "c    52\n",
       "d    53\n",
       "e    54\n",
       "f    55\n",
       "dtype: int64"
      ]
     },
     "execution_count": 9,
     "metadata": {},
     "output_type": "execute_result"
    }
   ],
   "source": [
    "pd.Series(range(50,56), index =[\"a\", \"b\", \"c\", \"d\", \"e\", \"f\"])"
   ]
  },
  {
   "cell_type": "code",
   "execution_count": 15,
   "id": "d32ddfa0-046d-4727-b89a-e05c8e0a30a3",
   "metadata": {},
   "outputs": [
    {
     "data": {
      "text/plain": [
       "np.int64(6)"
      ]
     },
     "execution_count": 15,
     "metadata": {},
     "output_type": "execute_result"
    }
   ],
   "source": [
    "serie = pd.Series([5, 6, 7, 8, 9], index=[\"a\", \"b\", \"c\", \"d\", \"e\"])\n",
    "serie[\"b\"] #Si queremos un número específico"
   ]
  },
  {
   "cell_type": "code",
   "execution_count": null,
   "id": "6a77a7b0-f7f2-433d-a9cd-6e4e59294673",
   "metadata": {},
   "outputs": [],
   "source": []
  }
 ],
 "metadata": {
  "kernelspec": {
   "display_name": "Python 3 (ipykernel)",
   "language": "python",
   "name": "python3"
  },
  "language_info": {
   "codemirror_mode": {
    "name": "ipython",
    "version": 3
   },
   "file_extension": ".py",
   "mimetype": "text/x-python",
   "name": "python",
   "nbconvert_exporter": "python",
   "pygments_lexer": "ipython3",
   "version": "3.13.7"
  }
 },
 "nbformat": 4,
 "nbformat_minor": 5
}
