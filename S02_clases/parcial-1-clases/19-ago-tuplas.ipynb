{
 "cells": [
  {
   "cell_type": "markdown",
   "id": "1f6a2044-f793-4a0c-86df-9b9f6027b8be",
   "metadata": {},
   "source": [
    "# Tuplas"
   ]
  },
  {
   "cell_type": "code",
   "execution_count": 1,
   "id": "0fbdd1e0-5215-44d9-8586-7f85d45af3ea",
   "metadata": {},
   "outputs": [
    {
     "data": {
      "text/plain": [
       "tuple"
      ]
     },
     "execution_count": 1,
     "metadata": {},
     "output_type": "execute_result"
    }
   ],
   "source": [
    "variable = (5,2,'-1', [4,2,1], 'pasa')\n",
    "# ¿Cómo confirmar que variable es una tupla?\n",
    "type(variable)"
   ]
  },
  {
   "cell_type": "code",
   "execution_count": 2,
   "id": "5d26c980-3834-46ec-bf64-9dcc55442661",
   "metadata": {},
   "outputs": [
    {
     "data": {
      "text/plain": [
       "'pasa'"
      ]
     },
     "execution_count": 2,
     "metadata": {},
     "output_type": "execute_result"
    }
   ],
   "source": [
    "variable[-1]"
   ]
  },
  {
   "cell_type": "code",
   "execution_count": 3,
   "id": "be8aa141-022b-4886-b60d-f54fec3d8434",
   "metadata": {},
   "outputs": [
    {
     "data": {
      "text/plain": [
       "(2, '-1')"
      ]
     },
     "execution_count": 3,
     "metadata": {},
     "output_type": "execute_result"
    }
   ],
   "source": [
    "variable[1:-2]"
   ]
  },
  {
   "cell_type": "code",
   "execution_count": 4,
   "id": "2a3c2708-154c-4bb7-926d-fd1c405a90c2",
   "metadata": {},
   "outputs": [
    {
     "data": {
      "text/plain": [
       "(5, 2, '-1', [4, 2, 1], 'pasa')"
      ]
     },
     "execution_count": 4,
     "metadata": {},
     "output_type": "execute_result"
    }
   ],
   "source": [
    "variable"
   ]
  },
  {
   "cell_type": "code",
   "execution_count": 5,
   "id": "c39b6c05-320e-4af8-bfa8-0370de1a4a23",
   "metadata": {},
   "outputs": [
    {
     "data": {
      "text/plain": [
       "(5, 2, '-1')"
      ]
     },
     "execution_count": 5,
     "metadata": {},
     "output_type": "execute_result"
    }
   ],
   "source": [
    "pos_i, pos_f = 0,2\n",
    "variable[pos_i: pos_f+1]"
   ]
  },
  {
   "cell_type": "code",
   "execution_count": 6,
   "id": "ae647e31-8bd9-446c-a8ce-2d9420611988",
   "metadata": {},
   "outputs": [
    {
     "data": {
      "text/plain": [
       "(2, '-1', [4, 2, 1])"
      ]
     },
     "execution_count": 6,
     "metadata": {},
     "output_type": "execute_result"
    }
   ],
   "source": [
    "# NOTA: no estamos modificando la tupla (esta es inmutable), solo estamos haciéndole slicing\n",
    "variable[-4:4]"
   ]
  },
  {
   "cell_type": "code",
   "execution_count": 7,
   "id": "1c99ec2b-dab3-41d0-9193-4e9eba4178ab",
   "metadata": {},
   "outputs": [
    {
     "data": {
      "text/plain": [
       "int"
      ]
     },
     "execution_count": 7,
     "metadata": {},
     "output_type": "execute_result"
    }
   ],
   "source": [
    "tupla = (5)\n",
    "type(tupla)\n",
    "# No existen tuplas de un solo elemento, básicamente se interpreta como una variable"
   ]
  },
  {
   "cell_type": "code",
   "execution_count": 8,
   "id": "3ad62692-6fb0-4711-b883-6987b09d23a3",
   "metadata": {},
   "outputs": [
    {
     "data": {
      "text/plain": [
       "(tuple, 1)"
      ]
     },
     "execution_count": 8,
     "metadata": {},
     "output_type": "execute_result"
    }
   ],
   "source": [
    "# No obstante, si agregamos una \",\"...\n",
    "tupla = (5, )\n",
    "type(tupla), len(tupla)"
   ]
  },
  {
   "cell_type": "code",
   "execution_count": 9,
   "id": "aa813861-9d1d-4045-a6e3-737b66af0acb",
   "metadata": {},
   "outputs": [
    {
     "data": {
      "text/plain": [
       "(4, 5, 6, 7)"
      ]
     },
     "execution_count": 9,
     "metadata": {},
     "output_type": "execute_result"
    }
   ],
   "source": [
    "# ¿Podemos operar las tuplas? \n",
    "t1, t2, t3 = (4,5), (6,7), (8,9)\n",
    "t1 + t2"
   ]
  },
  {
   "cell_type": "code",
   "execution_count": 10,
   "id": "106b9bb0-0a58-41b0-a130-74249fe7a8f4",
   "metadata": {},
   "outputs": [
    {
     "data": {
      "text/plain": [
       "(6, 7, 6, 7, 6, 7)"
      ]
     },
     "execution_count": 10,
     "metadata": {},
     "output_type": "execute_result"
    }
   ],
   "source": [
    "3*t2"
   ]
  },
  {
   "cell_type": "code",
   "execution_count": 11,
   "id": "7ae227f4-d62a-45ca-ad22-e3e44a9b83f9",
   "metadata": {},
   "outputs": [
    {
     "data": {
      "text/plain": [
       "7"
      ]
     },
     "execution_count": 11,
     "metadata": {},
     "output_type": "execute_result"
    }
   ],
   "source": [
    "(3*t2)[3]"
   ]
  },
  {
   "cell_type": "code",
   "execution_count": 12,
   "id": "8843a471-54af-4bff-8f72-ceefd8df0b20",
   "metadata": {},
   "outputs": [
    {
     "data": {
      "text/plain": [
       "[7, 7, 7]"
      ]
     },
     "execution_count": 12,
     "metadata": {},
     "output_type": "execute_result"
    }
   ],
   "source": [
    "[(3*t2)[3]]*3"
   ]
  },
  {
   "cell_type": "code",
   "execution_count": 13,
   "id": "11db92f1-a011-40ae-8778-748490c86f9b",
   "metadata": {},
   "outputs": [
    {
     "ename": "TypeError",
     "evalue": "'tuple' object does not support item assignment",
     "output_type": "error",
     "traceback": [
      "\u001b[31m---------------------------------------------------------------------------\u001b[39m",
      "\u001b[31mTypeError\u001b[39m                                 Traceback (most recent call last)",
      "\u001b[36mCell\u001b[39m\u001b[36m \u001b[39m\u001b[32mIn[13]\u001b[39m\u001b[32m, line 1\u001b[39m\n\u001b[32m----> \u001b[39m\u001b[32m1\u001b[39m \u001b[43mt2\u001b[49m\u001b[43m[\u001b[49m\u001b[32;43m0\u001b[39;49m\u001b[43m]\u001b[49m = \u001b[32m5\u001b[39m \u001b[38;5;66;03m# Recordemos que las tuplas NO son modificables\u001b[39;00m\n",
      "\u001b[31mTypeError\u001b[39m: 'tuple' object does not support item assignment"
     ]
    }
   ],
   "source": [
    "t2[0] = 5 # Recordemos que las tuplas NO son modificables"
   ]
  }
 ],
 "metadata": {
  "kernelspec": {
   "display_name": "Python 3 (ipykernel)",
   "language": "python",
   "name": "python3"
  },
  "language_info": {
   "codemirror_mode": {
    "name": "ipython",
    "version": 3
   },
   "file_extension": ".py",
   "mimetype": "text/x-python",
   "name": "python",
   "nbconvert_exporter": "python",
   "pygments_lexer": "ipython3",
   "version": "3.13.7"
  }
 },
 "nbformat": 4,
 "nbformat_minor": 5
}
