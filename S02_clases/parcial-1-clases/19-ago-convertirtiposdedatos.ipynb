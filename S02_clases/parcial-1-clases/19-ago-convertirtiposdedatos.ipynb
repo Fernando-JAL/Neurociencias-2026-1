{
 "cells": [
  {
   "cell_type": "markdown",
   "id": "bc600098-8420-44ac-a3f0-1685121b5ce9",
   "metadata": {},
   "source": [
    "# Convertir tipos de datos"
   ]
  },
  {
   "cell_type": "code",
   "execution_count": 1,
   "id": "7176f7b5-2116-40a3-a781-3cc284d7f2b0",
   "metadata": {},
   "outputs": [
    {
     "data": {
      "text/plain": [
       "dict_values(['valor', 'valor2', '5', [2, 3], [-2]])"
      ]
     },
     "execution_count": 1,
     "metadata": {},
     "output_type": "execute_result"
    }
   ],
   "source": [
    "diccionario = {'key': 'valor', 'key2': 'valor2', 'key3': '5', 'key4':[2,3], 5:[-2]}\n",
    "var = diccionario.values()\n",
    "var"
   ]
  },
  {
   "cell_type": "code",
   "execution_count": 2,
   "id": "c3f4196c-5f92-43d2-9c2c-b537286c90e2",
   "metadata": {},
   "outputs": [
    {
     "data": {
      "text/plain": [
       "['valor', 'valor2', '5', [2, 3], [-2]]"
      ]
     },
     "execution_count": 2,
     "metadata": {},
     "output_type": "execute_result"
    }
   ],
   "source": [
    "list(var)"
   ]
  },
  {
   "cell_type": "code",
   "execution_count": 3,
   "id": "f48e75cf-e5d1-497a-953c-f0d8ca949ce0",
   "metadata": {},
   "outputs": [
    {
     "data": {
      "text/plain": [
       "{'key1': 10, 'key2': 45}"
      ]
     },
     "execution_count": 3,
     "metadata": {},
     "output_type": "execute_result"
    }
   ],
   "source": [
    "# ¿Un diccionario es mutable? Probémoslo\n",
    "diccionario = {'key1': 10, 'key2': 20}\n",
    "diccionario['key2'] = 45\n",
    "diccionario # En efecto, es mutable"
   ]
  },
  {
   "cell_type": "code",
   "execution_count": 4,
   "id": "dae6602d-0243-4808-90ed-b3f8b5a0871b",
   "metadata": {},
   "outputs": [
    {
     "data": {
      "text/plain": [
       "{'key1': 10, 'key2': 45, 'vámonos': 'a dormir'}"
      ]
     },
     "execution_count": 4,
     "metadata": {},
     "output_type": "execute_result"
    }
   ],
   "source": [
    "diccionario['vámonos'] = 'a dormir' # Simplemente agregamos un nuevo par de datos\n",
    "diccionario"
   ]
  },
  {
   "cell_type": "code",
   "execution_count": 5,
   "id": "b9472f8d-9886-46da-9c54-5edad2b81abd",
   "metadata": {},
   "outputs": [
    {
     "data": {
      "text/plain": [
       "'a dormir'"
      ]
     },
     "execution_count": 5,
     "metadata": {},
     "output_type": "execute_result"
    }
   ],
   "source": [
    "diccionario.pop('vámonos', None) # FALTA CORREGIR, debería salir 'a dormir'"
   ]
  },
  {
   "cell_type": "code",
   "execution_count": 6,
   "id": "81ace4b0-ec7a-42d9-ad9d-b2f823b6eea9",
   "metadata": {},
   "outputs": [
    {
     "data": {
      "text/plain": [
       "{'key1': 10, 'key2': 45}"
      ]
     },
     "execution_count": 6,
     "metadata": {},
     "output_type": "execute_result"
    }
   ],
   "source": [
    "diccionario"
   ]
  },
  {
   "cell_type": "code",
   "execution_count": 7,
   "id": "92345de3-2593-4dd1-b124-33bd918b73df",
   "metadata": {},
   "outputs": [
    {
     "data": {
      "text/plain": [
       "float"
      ]
     },
     "execution_count": 7,
     "metadata": {},
     "output_type": "execute_result"
    }
   ],
   "source": [
    "# Siguiendo en la conversión de tipos de datos...\n",
    "entero, flotante, complejo = -82, 631., complex(0,1)\n",
    "type(flotante)"
   ]
  },
  {
   "cell_type": "code",
   "execution_count": 8,
   "id": "2fc8bcac-7d0b-4cb8-9dae-2bbe03a1de08",
   "metadata": {},
   "outputs": [
    {
     "data": {
      "text/plain": [
       "'-82'"
      ]
     },
     "execution_count": 8,
     "metadata": {},
     "output_type": "execute_result"
    }
   ],
   "source": [
    "str(entero)"
   ]
  },
  {
   "cell_type": "code",
   "execution_count": 9,
   "id": "e2b0dffa-e17e-4813-83bc-275828869860",
   "metadata": {},
   "outputs": [
    {
     "data": {
      "text/plain": [
       "str"
      ]
     },
     "execution_count": 9,
     "metadata": {},
     "output_type": "execute_result"
    }
   ],
   "source": [
    "type(str(entero))\n",
    "# Si solo pones type(entero), te sale int. Debes poner la funcióón str() dentro de type()"
   ]
  },
  {
   "cell_type": "code",
   "execution_count": 10,
   "id": "67cac054-8308-42f9-a066-2924156a2891",
   "metadata": {},
   "outputs": [
    {
     "data": {
      "text/plain": [
       "'-46.23'"
      ]
     },
     "execution_count": 10,
     "metadata": {},
     "output_type": "execute_result"
    }
   ],
   "source": [
    "cadena = '-46.23'\n",
    "cadena"
   ]
  },
  {
   "cell_type": "code",
   "execution_count": 11,
   "id": "1e663aa7-1685-45e8-badd-be0654835f11",
   "metadata": {},
   "outputs": [
    {
     "data": {
      "text/plain": [
       "-46.23"
      ]
     },
     "execution_count": 11,
     "metadata": {},
     "output_type": "execute_result"
    }
   ],
   "source": [
    "float(cadena)"
   ]
  },
  {
   "cell_type": "code",
   "execution_count": 12,
   "id": "7115473b-7ddb-467a-91cd-39a00cbc676b",
   "metadata": {},
   "outputs": [
    {
     "data": {
      "text/plain": [
       "('-', '4', '6', '.', '2', '3')"
      ]
     },
     "execution_count": 12,
     "metadata": {},
     "output_type": "execute_result"
    }
   ],
   "source": [
    "tuple(cadena)"
   ]
  },
  {
   "cell_type": "code",
   "execution_count": 13,
   "id": "c3b7d757-150e-4ba3-96e5-7ce31546b5ba",
   "metadata": {},
   "outputs": [
    {
     "data": {
      "text/plain": [
       "-78"
      ]
     },
     "execution_count": 13,
     "metadata": {},
     "output_type": "execute_result"
    }
   ],
   "source": [
    "int('-78')"
   ]
  }
 ],
 "metadata": {
  "kernelspec": {
   "display_name": "Python 3 (ipykernel)",
   "language": "python",
   "name": "python3"
  },
  "language_info": {
   "codemirror_mode": {
    "name": "ipython",
    "version": 3
   },
   "file_extension": ".py",
   "mimetype": "text/x-python",
   "name": "python",
   "nbconvert_exporter": "python",
   "pygments_lexer": "ipython3",
   "version": "3.13.7"
  }
 },
 "nbformat": 4,
 "nbformat_minor": 5
}
