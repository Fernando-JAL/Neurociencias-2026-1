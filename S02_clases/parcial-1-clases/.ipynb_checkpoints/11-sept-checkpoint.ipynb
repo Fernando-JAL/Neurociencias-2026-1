{
 "cells": [
  {
   "cell_type": "markdown",
   "id": "fc9a1360-5a2e-4120-99dd-5bc411f4225a",
   "metadata": {},
   "source": [
    "Continuando con Pandas y NumPy..."
   ]
  },
  {
   "cell_type": "code",
   "execution_count": 1,
   "id": "16fe0f5e-edb7-4619-93bd-8e3d0c0a9bb8",
   "metadata": {},
   "outputs": [],
   "source": [
    "import pandas as pd"
   ]
  },
  {
   "cell_type": "code",
   "execution_count": 2,
   "id": "b40262a2-c42e-4225-8861-923caed664b4",
   "metadata": {},
   "outputs": [
    {
     "data": {
      "text/plain": [
       "0                   6\n",
       "1                   8\n",
       "2                azyk\n",
       "3    {'key': 'value'}\n",
       "4                (3,)\n",
       "dtype: object"
      ]
     },
     "execution_count": 2,
     "metadata": {},
     "output_type": "execute_result"
    }
   ],
   "source": [
    "valores = [6, 8, 'azyk', {'key': 'value'}, (3, )]\n",
    "serie1 = range(len(valores))\n",
    "\n",
    "pd.Series(data = valores, index = serie1)"
   ]
  },
  {
   "cell_type": "code",
   "execution_count": 3,
   "id": "529d6812-32f1-4d92-82db-5a1321b584e6",
   "metadata": {},
   "outputs": [
    {
     "data": {
      "text/plain": [
       "0           28\n",
       "1          ahm\n",
       "2    conjuro 4\n",
       "3            3\n",
       "4           16\n",
       "dtype: object"
      ]
     },
     "execution_count": 3,
     "metadata": {},
     "output_type": "execute_result"
    }
   ],
   "source": [
    "valores2 = [28, 'ahm', 'conjuro 4', 3, 16]\n",
    "serie2 = pd.Series(data = valores2, index = serie1)\n",
    "serie2"
   ]
  },
  {
   "cell_type": "code",
   "execution_count": 4,
   "id": "6399985c-8b80-4aa1-b59e-7084f8cda75d",
   "metadata": {},
   "outputs": [
    {
     "data": {
      "text/plain": [
       "0.0"
      ]
     },
     "execution_count": 4,
     "metadata": {},
     "output_type": "execute_result"
    }
   ],
   "source": [
    "34**(-852)"
   ]
  },
  {
   "cell_type": "markdown",
   "id": "760a4e43-b0bc-4550-9099-f9d2c1f02e51",
   "metadata": {},
   "source": [
    "Retomando NumPy..."
   ]
  },
  {
   "cell_type": "code",
   "execution_count": 5,
   "id": "426adbd2-5668-4d72-a5dc-7b7b189ab21f",
   "metadata": {},
   "outputs": [],
   "source": [
    "import numpy as np"
   ]
  },
  {
   "cell_type": "code",
   "execution_count": 6,
   "id": "989b6106-11f1-4c10-8cd1-d9e7376bbe9d",
   "metadata": {},
   "outputs": [
    {
     "data": {
      "text/plain": [
       "array([[-15.30676344,  10.41911105, -22.154071  ,   0.22915125],\n",
       "       [  8.97433534, -25.54420043,  -1.50861922, -10.31700018],\n",
       "       [ -7.49210708, -19.55335181, -35.60849678,  -2.81308636],\n",
       "       [ -9.84677824,  -8.37287878,  -7.83914683, -10.46030953]])"
      ]
     },
     "execution_count": 6,
     "metadata": {},
     "output_type": "execute_result"
    }
   ],
   "source": [
    "array = np.random.normal(-10, 10, size = [4, 4])\n",
    "array"
   ]
  },
  {
   "cell_type": "code",
   "execution_count": 7,
   "id": "46135da1-d7e5-409f-b0e4-0d2c39e57d20",
   "metadata": {},
   "outputs": [
    {
     "data": {
      "text/html": [
       "<div>\n",
       "<style scoped>\n",
       "    .dataframe tbody tr th:only-of-type {\n",
       "        vertical-align: middle;\n",
       "    }\n",
       "\n",
       "    .dataframe tbody tr th {\n",
       "        vertical-align: top;\n",
       "    }\n",
       "\n",
       "    .dataframe thead th {\n",
       "        text-align: right;\n",
       "    }\n",
       "</style>\n",
       "<table border=\"1\" class=\"dataframe\">\n",
       "  <thead>\n",
       "    <tr style=\"text-align: right;\">\n",
       "      <th></th>\n",
       "      <th>W</th>\n",
       "      <th>X</th>\n",
       "    </tr>\n",
       "  </thead>\n",
       "  <tbody>\n",
       "    <tr>\n",
       "      <th>a</th>\n",
       "      <td>2</td>\n",
       "      <td>3</td>\n",
       "    </tr>\n",
       "    <tr>\n",
       "      <th>b</th>\n",
       "      <td>4</td>\n",
       "      <td>5</td>\n",
       "    </tr>\n",
       "  </tbody>\n",
       "</table>\n",
       "</div>"
      ],
      "text/plain": [
       "   W  X\n",
       "a  2  3\n",
       "b  4  5"
      ]
     },
     "execution_count": 7,
     "metadata": {},
     "output_type": "execute_result"
    }
   ],
   "source": [
    "pd.DataFrame([[2, 3], [4, 5]], index = ['a', 'b'], columns = ['W', 'X'])"
   ]
  },
  {
   "cell_type": "code",
   "execution_count": 8,
   "id": "2f71ffdc-2a56-40fb-aee1-b8ddab8c15ad",
   "metadata": {},
   "outputs": [
    {
     "data": {
      "text/html": [
       "<div>\n",
       "<style scoped>\n",
       "    .dataframe tbody tr th:only-of-type {\n",
       "        vertical-align: middle;\n",
       "    }\n",
       "\n",
       "    .dataframe tbody tr th {\n",
       "        vertical-align: top;\n",
       "    }\n",
       "\n",
       "    .dataframe thead th {\n",
       "        text-align: right;\n",
       "    }\n",
       "</style>\n",
       "<table border=\"1\" class=\"dataframe\">\n",
       "  <thead>\n",
       "    <tr style=\"text-align: right;\">\n",
       "      <th></th>\n",
       "      <th>W</th>\n",
       "      <th>X</th>\n",
       "      <th>Y</th>\n",
       "      <th>Z</th>\n",
       "    </tr>\n",
       "  </thead>\n",
       "  <tbody>\n",
       "    <tr>\n",
       "      <th>1</th>\n",
       "      <td>-15.306763</td>\n",
       "      <td>10.419111</td>\n",
       "      <td>-22.154071</td>\n",
       "      <td>0.229151</td>\n",
       "    </tr>\n",
       "    <tr>\n",
       "      <th>2</th>\n",
       "      <td>8.974335</td>\n",
       "      <td>-25.544200</td>\n",
       "      <td>-1.508619</td>\n",
       "      <td>-10.317000</td>\n",
       "    </tr>\n",
       "    <tr>\n",
       "      <th>3</th>\n",
       "      <td>-7.492107</td>\n",
       "      <td>-19.553352</td>\n",
       "      <td>-35.608497</td>\n",
       "      <td>-2.813086</td>\n",
       "    </tr>\n",
       "    <tr>\n",
       "      <th>4</th>\n",
       "      <td>-9.846778</td>\n",
       "      <td>-8.372879</td>\n",
       "      <td>-7.839147</td>\n",
       "      <td>-10.460310</td>\n",
       "    </tr>\n",
       "  </tbody>\n",
       "</table>\n",
       "</div>"
      ],
      "text/plain": [
       "           W          X          Y          Z\n",
       "1 -15.306763  10.419111 -22.154071   0.229151\n",
       "2   8.974335 -25.544200  -1.508619 -10.317000\n",
       "3  -7.492107 -19.553352 -35.608497  -2.813086\n",
       "4  -9.846778  -8.372879  -7.839147 -10.460310"
      ]
     },
     "execution_count": 8,
     "metadata": {},
     "output_type": "execute_result"
    }
   ],
   "source": [
    "df = pd.DataFrame(array, index = range(1, len(array) + 1), columns = ['W', 'X', 'Y', 'Z'])\n",
    "df"
   ]
  },
  {
   "cell_type": "code",
   "execution_count": 9,
   "id": "e07da24c-9624-4cb0-baf6-6989779d32e8",
   "metadata": {},
   "outputs": [
    {
     "data": {
      "text/plain": [
       "(pandas.core.series.Series, np.float64(-25.544200428306144))"
      ]
     },
     "execution_count": 9,
     "metadata": {},
     "output_type": "execute_result"
    }
   ],
   "source": [
    "type(df['X']), df['X'][2]"
   ]
  },
  {
   "cell_type": "code",
   "execution_count": 10,
   "id": "6227025d-26be-41e3-b91c-1eb08b8eef77",
   "metadata": {},
   "outputs": [
    {
     "data": {
      "text/plain": [
       "1    10.419111\n",
       "2   -25.544200\n",
       "3   -19.553352\n",
       "4    -8.372879\n",
       "Name: X, dtype: float64"
      ]
     },
     "execution_count": 10,
     "metadata": {},
     "output_type": "execute_result"
    }
   ],
   "source": [
    "df.X # Para extraer directa y sencillamente los datos de la columna 'X'"
   ]
  },
  {
   "cell_type": "code",
   "execution_count": 11,
   "id": "a313d959-7272-46ab-a0ba-15d075982013",
   "metadata": {},
   "outputs": [
    {
     "data": {
      "text/html": [
       "<div>\n",
       "<style scoped>\n",
       "    .dataframe tbody tr th:only-of-type {\n",
       "        vertical-align: middle;\n",
       "    }\n",
       "\n",
       "    .dataframe tbody tr th {\n",
       "        vertical-align: top;\n",
       "    }\n",
       "\n",
       "    .dataframe thead th {\n",
       "        text-align: right;\n",
       "    }\n",
       "</style>\n",
       "<table border=\"1\" class=\"dataframe\">\n",
       "  <thead>\n",
       "    <tr style=\"text-align: right;\">\n",
       "      <th></th>\n",
       "      <th>W</th>\n",
       "      <th>Y</th>\n",
       "    </tr>\n",
       "  </thead>\n",
       "  <tbody>\n",
       "    <tr>\n",
       "      <th>1</th>\n",
       "      <td>-15.306763</td>\n",
       "      <td>-22.154071</td>\n",
       "    </tr>\n",
       "    <tr>\n",
       "      <th>2</th>\n",
       "      <td>8.974335</td>\n",
       "      <td>-1.508619</td>\n",
       "    </tr>\n",
       "    <tr>\n",
       "      <th>3</th>\n",
       "      <td>-7.492107</td>\n",
       "      <td>-35.608497</td>\n",
       "    </tr>\n",
       "    <tr>\n",
       "      <th>4</th>\n",
       "      <td>-9.846778</td>\n",
       "      <td>-7.839147</td>\n",
       "    </tr>\n",
       "  </tbody>\n",
       "</table>\n",
       "</div>"
      ],
      "text/plain": [
       "           W          Y\n",
       "1 -15.306763 -22.154071\n",
       "2   8.974335  -1.508619\n",
       "3  -7.492107 -35.608497\n",
       "4  -9.846778  -7.839147"
      ]
     },
     "execution_count": 11,
     "metadata": {},
     "output_type": "execute_result"
    }
   ],
   "source": [
    "columnas = ['W', 'Y'] # Para extraer columnas, además de guardarlas en una variable llamada \"columnas\"\n",
    "df[columnas]"
   ]
  },
  {
   "cell_type": "code",
   "execution_count": 12,
   "id": "8b61bf1e-4ec5-4e58-b34f-b25ce75899c8",
   "metadata": {},
   "outputs": [
    {
     "data": {
      "text/plain": [
       "1   -11.734960\n",
       "2   -27.052820\n",
       "3   -55.161849\n",
       "4   -16.212026\n",
       "dtype: float64"
      ]
     },
     "execution_count": 12,
     "metadata": {},
     "output_type": "execute_result"
    }
   ],
   "source": [
    "df.X + df.Y # Sumar columnas X + Y "
   ]
  },
  {
   "cell_type": "code",
   "execution_count": 13,
   "id": "55fbaf22-efe0-466f-b61a-5174aa79fd5e",
   "metadata": {},
   "outputs": [
    {
     "data": {
      "text/html": [
       "<div>\n",
       "<style scoped>\n",
       "    .dataframe tbody tr th:only-of-type {\n",
       "        vertical-align: middle;\n",
       "    }\n",
       "\n",
       "    .dataframe tbody tr th {\n",
       "        vertical-align: top;\n",
       "    }\n",
       "\n",
       "    .dataframe thead th {\n",
       "        text-align: right;\n",
       "    }\n",
       "</style>\n",
       "<table border=\"1\" class=\"dataframe\">\n",
       "  <thead>\n",
       "    <tr style=\"text-align: right;\">\n",
       "      <th></th>\n",
       "      <th>W</th>\n",
       "      <th>X</th>\n",
       "      <th>Y</th>\n",
       "      <th>Z</th>\n",
       "      <th>Suma X + Z</th>\n",
       "    </tr>\n",
       "  </thead>\n",
       "  <tbody>\n",
       "    <tr>\n",
       "      <th>1</th>\n",
       "      <td>-15.306763</td>\n",
       "      <td>10.419111</td>\n",
       "      <td>-22.154071</td>\n",
       "      <td>0.229151</td>\n",
       "      <td>10.648262</td>\n",
       "    </tr>\n",
       "    <tr>\n",
       "      <th>2</th>\n",
       "      <td>8.974335</td>\n",
       "      <td>-25.544200</td>\n",
       "      <td>-1.508619</td>\n",
       "      <td>-10.317000</td>\n",
       "      <td>-35.861201</td>\n",
       "    </tr>\n",
       "    <tr>\n",
       "      <th>3</th>\n",
       "      <td>-7.492107</td>\n",
       "      <td>-19.553352</td>\n",
       "      <td>-35.608497</td>\n",
       "      <td>-2.813086</td>\n",
       "      <td>-22.366438</td>\n",
       "    </tr>\n",
       "    <tr>\n",
       "      <th>4</th>\n",
       "      <td>-9.846778</td>\n",
       "      <td>-8.372879</td>\n",
       "      <td>-7.839147</td>\n",
       "      <td>-10.460310</td>\n",
       "      <td>-18.833188</td>\n",
       "    </tr>\n",
       "  </tbody>\n",
       "</table>\n",
       "</div>"
      ],
      "text/plain": [
       "           W          X          Y          Z  Suma X + Z\n",
       "1 -15.306763  10.419111 -22.154071   0.229151   10.648262\n",
       "2   8.974335 -25.544200  -1.508619 -10.317000  -35.861201\n",
       "3  -7.492107 -19.553352 -35.608497  -2.813086  -22.366438\n",
       "4  -9.846778  -8.372879  -7.839147 -10.460310  -18.833188"
      ]
     },
     "execution_count": 13,
     "metadata": {},
     "output_type": "execute_result"
    }
   ],
   "source": [
    "df['Suma X + Z'] = df.X + df.Z # Se suman las columnas 'X' + 'Z'\n",
    "df"
   ]
  },
  {
   "cell_type": "code",
   "execution_count": 14,
   "id": "c0df9fe5-eaa3-486d-87e2-f02ce0d83378",
   "metadata": {},
   "outputs": [
    {
     "data": {
      "text/html": [
       "<div>\n",
       "<style scoped>\n",
       "    .dataframe tbody tr th:only-of-type {\n",
       "        vertical-align: middle;\n",
       "    }\n",
       "\n",
       "    .dataframe tbody tr th {\n",
       "        vertical-align: top;\n",
       "    }\n",
       "\n",
       "    .dataframe thead th {\n",
       "        text-align: right;\n",
       "    }\n",
       "</style>\n",
       "<table border=\"1\" class=\"dataframe\">\n",
       "  <thead>\n",
       "    <tr style=\"text-align: right;\">\n",
       "      <th></th>\n",
       "      <th>W</th>\n",
       "      <th>X</th>\n",
       "      <th>Z</th>\n",
       "      <th>Suma X + Z</th>\n",
       "    </tr>\n",
       "  </thead>\n",
       "  <tbody>\n",
       "    <tr>\n",
       "      <th>1</th>\n",
       "      <td>-15.306763</td>\n",
       "      <td>10.419111</td>\n",
       "      <td>0.229151</td>\n",
       "      <td>10.648262</td>\n",
       "    </tr>\n",
       "    <tr>\n",
       "      <th>2</th>\n",
       "      <td>8.974335</td>\n",
       "      <td>-25.544200</td>\n",
       "      <td>-10.317000</td>\n",
       "      <td>-35.861201</td>\n",
       "    </tr>\n",
       "    <tr>\n",
       "      <th>3</th>\n",
       "      <td>-7.492107</td>\n",
       "      <td>-19.553352</td>\n",
       "      <td>-2.813086</td>\n",
       "      <td>-22.366438</td>\n",
       "    </tr>\n",
       "    <tr>\n",
       "      <th>4</th>\n",
       "      <td>-9.846778</td>\n",
       "      <td>-8.372879</td>\n",
       "      <td>-10.460310</td>\n",
       "      <td>-18.833188</td>\n",
       "    </tr>\n",
       "  </tbody>\n",
       "</table>\n",
       "</div>"
      ],
      "text/plain": [
       "           W          X          Z  Suma X + Z\n",
       "1 -15.306763  10.419111   0.229151   10.648262\n",
       "2   8.974335 -25.544200 -10.317000  -35.861201\n",
       "3  -7.492107 -19.553352  -2.813086  -22.366438\n",
       "4  -9.846778  -8.372879 -10.460310  -18.833188"
      ]
     },
     "execution_count": 14,
     "metadata": {},
     "output_type": "execute_result"
    }
   ],
   "source": [
    "df.drop('Y', axis = 1) # Se borra la columna 'Y', especificamos que es una columna mediante axis = 1\n",
    "# axis = 1 para borrar columnas, axis = 0 para borrar filas"
   ]
  },
  {
   "cell_type": "code",
   "execution_count": 15,
   "id": "2c6207ba-c43a-4346-9948-bd27bdeeca9e",
   "metadata": {},
   "outputs": [
    {
     "data": {
      "text/html": [
       "<div>\n",
       "<style scoped>\n",
       "    .dataframe tbody tr th:only-of-type {\n",
       "        vertical-align: middle;\n",
       "    }\n",
       "\n",
       "    .dataframe tbody tr th {\n",
       "        vertical-align: top;\n",
       "    }\n",
       "\n",
       "    .dataframe thead th {\n",
       "        text-align: right;\n",
       "    }\n",
       "</style>\n",
       "<table border=\"1\" class=\"dataframe\">\n",
       "  <thead>\n",
       "    <tr style=\"text-align: right;\">\n",
       "      <th></th>\n",
       "      <th>W</th>\n",
       "      <th>X</th>\n",
       "      <th>Y</th>\n",
       "      <th>Z</th>\n",
       "      <th>Suma X + Z</th>\n",
       "    </tr>\n",
       "  </thead>\n",
       "  <tbody>\n",
       "    <tr>\n",
       "      <th>1</th>\n",
       "      <td>-15.306763</td>\n",
       "      <td>10.419111</td>\n",
       "      <td>-22.154071</td>\n",
       "      <td>0.229151</td>\n",
       "      <td>10.648262</td>\n",
       "    </tr>\n",
       "    <tr>\n",
       "      <th>2</th>\n",
       "      <td>8.974335</td>\n",
       "      <td>-25.544200</td>\n",
       "      <td>-1.508619</td>\n",
       "      <td>-10.317000</td>\n",
       "      <td>-35.861201</td>\n",
       "    </tr>\n",
       "    <tr>\n",
       "      <th>4</th>\n",
       "      <td>-9.846778</td>\n",
       "      <td>-8.372879</td>\n",
       "      <td>-7.839147</td>\n",
       "      <td>-10.460310</td>\n",
       "      <td>-18.833188</td>\n",
       "    </tr>\n",
       "  </tbody>\n",
       "</table>\n",
       "</div>"
      ],
      "text/plain": [
       "           W          X          Y          Z  Suma X + Z\n",
       "1 -15.306763  10.419111 -22.154071   0.229151   10.648262\n",
       "2   8.974335 -25.544200  -1.508619 -10.317000  -35.861201\n",
       "4  -9.846778  -8.372879  -7.839147 -10.460310  -18.833188"
      ]
     },
     "execution_count": 15,
     "metadata": {},
     "output_type": "execute_result"
    }
   ],
   "source": [
    "df.drop(3, axis = 0) # Se borra la 3era fila"
   ]
  },
  {
   "cell_type": "code",
   "execution_count": 17,
   "id": "f9d70b19-0157-446a-9c45-95a5b137a1d8",
   "metadata": {},
   "outputs": [
    {
     "data": {
      "text/plain": [
       "W            -15.306763\n",
       "X             10.419111\n",
       "Y            -22.154071\n",
       "Z              0.229151\n",
       "Suma X + Z    10.648262\n",
       "Name: 1, dtype: float64"
      ]
     },
     "execution_count": 17,
     "metadata": {},
     "output_type": "execute_result"
    }
   ],
   "source": [
    "df.loc[1] # loc nos permite acceder directa y sencillamente a la misma fila de cada columna"
   ]
  },
  {
   "cell_type": "code",
   "execution_count": null,
   "id": "106e99a5-665a-4d23-a31d-d8bf6439beef",
   "metadata": {},
   "outputs": [],
   "source": []
  }
 ],
 "metadata": {
  "kernelspec": {
   "display_name": "Python 3 (ipykernel)",
   "language": "python",
   "name": "python3"
  },
  "language_info": {
   "codemirror_mode": {
    "name": "ipython",
    "version": 3
   },
   "file_extension": ".py",
   "mimetype": "text/x-python",
   "name": "python",
   "nbconvert_exporter": "python",
   "pygments_lexer": "ipython3",
   "version": "3.13.7"
  }
 },
 "nbformat": 4,
 "nbformat_minor": 5
}
