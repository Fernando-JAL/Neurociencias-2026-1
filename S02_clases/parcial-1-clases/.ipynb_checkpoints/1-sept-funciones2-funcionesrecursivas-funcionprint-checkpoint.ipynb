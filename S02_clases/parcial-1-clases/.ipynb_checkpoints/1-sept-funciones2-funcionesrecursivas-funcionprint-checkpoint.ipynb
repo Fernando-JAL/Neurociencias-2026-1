{
 "cells": [
  {
   "cell_type": "markdown",
   "id": "3c50573c-c59f-4a88-bc8f-ebcfaa31f6a0",
   "metadata": {},
   "source": [
    "# Funciones 2"
   ]
  },
  {
   "cell_type": "code",
   "execution_count": 1,
   "id": "2be53744-323e-4db6-ba9d-987f74af3063",
   "metadata": {},
   "outputs": [
    {
     "data": {
      "text/plain": [
       "True"
      ]
     },
     "execution_count": 1,
     "metadata": {},
     "output_type": "execute_result"
    }
   ],
   "source": [
    "isinstance(5, int) # Verifica el tipo de variable, devuelve True o False"
   ]
  },
  {
   "cell_type": "code",
   "execution_count": 3,
   "id": "82387598-3e22-4012-aba6-94ffc97a13d1",
   "metadata": {},
   "outputs": [
    {
     "data": {
      "text/plain": [
       "5.0"
      ]
     },
     "execution_count": 3,
     "metadata": {},
     "output_type": "execute_result"
    }
   ],
   "source": [
    "# Crear una función que divida dos números\n",
    "def division(num1,num2):\n",
    "    return num1 / num2\n",
    "    \n",
    "division(10,2)"
   ]
  },
  {
   "cell_type": "markdown",
   "id": "f6ead850-8e29-4ddc-ad98-828d25f1ff58",
   "metadata": {},
   "source": [
    "En esta función, asignamos los __argumentos por posición__. Si no queremos esto, hacemos __parámetros por nombre__."
   ]
  },
  {
   "cell_type": "code",
   "execution_count": 6,
   "id": "87e55b81-24d4-45a6-8439-36d5b327d6ed",
   "metadata": {},
   "outputs": [
    {
     "data": {
      "text/plain": [
       "5.0"
      ]
     },
     "execution_count": 6,
     "metadata": {},
     "output_type": "execute_result"
    }
   ],
   "source": [
    "# En esta nueva función, no importa el orden:\n",
    "division(num2=2, num1=10)"
   ]
  },
  {
   "cell_type": "code",
   "execution_count": 7,
   "id": "b239eaee-0778-47a8-b40c-1903b74392be",
   "metadata": {},
   "outputs": [
    {
     "data": {
      "text/plain": [
       "12.0"
      ]
     },
     "execution_count": 7,
     "metadata": {},
     "output_type": "execute_result"
    }
   ],
   "source": [
    "# En esta nueva función, extra tiene un valor por default (pero no siempre está obligada a ese valor)\n",
    "def division_entre_numeros(dividendo, divisor, extra = 0):\n",
    "    return dividendo / divisor + extra\n",
    "\n",
    "division_entre_numeros(8,4,10) # Divide 8/2 y le suma 10"
   ]
  },
  {
   "cell_type": "markdown",
   "id": "19d2c005-6221-411b-b9dc-3f46eaba166a",
   "metadata": {},
   "source": [
    "# Funciones recursivas"
   ]
  },
  {
   "cell_type": "markdown",
   "id": "103fbcc3-a475-4d64-97b7-de40dd342e44",
   "metadata": {},
   "source": [
    "Es una función que se manda a llamar a sí misma dentro de su mismo código."
   ]
  },
  {
   "cell_type": "code",
   "execution_count": 10,
   "id": "8e5ef767-a8ae-4c47-be27-280cd37f7502",
   "metadata": {},
   "outputs": [
    {
     "name": "stdout",
     "output_type": "stream",
     "text": [
      "5\n",
      "4\n",
      "3\n",
      "2\n",
      "1\n",
      "Tin, tin\n",
      "Fin de la función\n",
      "Fin de la función\n",
      "Fin de la función\n",
      "Fin de la función\n",
      "Fin de la función\n",
      "Fin de la función\n"
     ]
    }
   ],
   "source": [
    "def cuenta_atras(n):\n",
    "    if n > 0: # Muy importante definir el límite, porque de lo contrario, la función se correría infinitamente\n",
    "        print (n)\n",
    "        cuenta_atras(n-1)\n",
    "    else:\n",
    "        print(\"Tin, tin\")\n",
    "    print(\"Fin de la función\") # La función se va anidando, comienza de lo más anidado y se va regresando (de adentro hacia afuera)\n",
    "\n",
    "cuenta_atras(5)"
   ]
  },
  {
   "cell_type": "code",
   "execution_count": null,
   "id": "3a59a645-dab6-43b5-8a0d-8a270d45dd9d",
   "metadata": {},
   "outputs": [],
   "source": [
    "# TAREA 1-sept: Hacer fórmula del factorial con funciones recursivas y suma del factorial"
   ]
  },
  {
   "cell_type": "markdown",
   "id": "b7158dd0-cc4f-4f28-896b-5d8900a5a964",
   "metadata": {},
   "source": [
    "# Función print"
   ]
  },
  {
   "cell_type": "code",
   "execution_count": 11,
   "id": "43284556-f39f-465a-b308-d8f539494e15",
   "metadata": {},
   "outputs": [
    {
     "name": "stdout",
     "output_type": "stream",
     "text": [
      "El valor de la variable es 46.2 8\n"
     ]
    }
   ],
   "source": [
    "variable, variable2 = 46.2, 8\n",
    "print(\"El valor de la variable es\", variable, variable2)"
   ]
  },
  {
   "cell_type": "code",
   "execution_count": 13,
   "id": "ad727094-3709-4b3e-a9d1-310ff48e41fe",
   "metadata": {},
   "outputs": [
    {
     "name": "stdout",
     "output_type": "stream",
     "text": [
      "El valor de la variable es 46.2, 8\n"
     ]
    }
   ],
   "source": [
    "# Función de formato:\n",
    "print(f\"El valor de la variable es {variable}, {variable2}\")"
   ]
  },
  {
   "cell_type": "code",
   "execution_count": 15,
   "id": "133a137a-bb1f-4a29-ac1d-d3dbd1302b64",
   "metadata": {},
   "outputs": [
    {
     "name": "stdout",
     "output_type": "stream",
     "text": [
      "El valor de la variable es 46.2, 8\n"
     ]
    }
   ],
   "source": [
    "# Llaves vacías → Asignación por posición default\n",
    "print(\"El valor de la variable es {}, {}\".format(variable, variable2))"
   ]
  },
  {
   "cell_type": "code",
   "execution_count": 16,
   "id": "3354b5a6-8d4c-495f-a0bb-4346755e3c69",
   "metadata": {},
   "outputs": [
    {
     "name": "stdout",
     "output_type": "stream",
     "text": [
      "El valor de la variable es 8, 46.2\n"
     ]
    }
   ],
   "source": [
    "# Llaves asignadas → Posici+on asignada, empezando desde el cero\n",
    "print(\"El valor de la variable es {1}, {0}\".format(variable, variable2))"
   ]
  }
 ],
 "metadata": {
  "kernelspec": {
   "display_name": "Python 3 (ipykernel)",
   "language": "python",
   "name": "python3"
  },
  "language_info": {
   "codemirror_mode": {
    "name": "ipython",
    "version": 3
   },
   "file_extension": ".py",
   "mimetype": "text/x-python",
   "name": "python",
   "nbconvert_exporter": "python",
   "pygments_lexer": "ipython3",
   "version": "3.13.7"
  }
 },
 "nbformat": 4,
 "nbformat_minor": 5
}
