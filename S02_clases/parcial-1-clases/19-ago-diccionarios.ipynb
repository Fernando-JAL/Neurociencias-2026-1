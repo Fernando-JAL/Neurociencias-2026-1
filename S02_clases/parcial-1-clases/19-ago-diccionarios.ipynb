{
 "cells": [
  {
   "cell_type": "markdown",
   "id": "97a711a0-4aec-4f90-bb21-6a8122708ded",
   "metadata": {},
   "source": [
    "# Mapping: diccionarios"
   ]
  },
  {
   "cell_type": "code",
   "execution_count": 1,
   "id": "d666ebd3-c3d7-4778-aa23-e666def80438",
   "metadata": {},
   "outputs": [
    {
     "data": {
      "text/plain": [
       "{'key': 'valor'}"
      ]
     },
     "execution_count": 1,
     "metadata": {},
     "output_type": "execute_result"
    }
   ],
   "source": [
    "# Se define como diccionario = {'key': 'valor'} i.e., una colección de asociaciones por pares\n",
    "diccionario = {'key': 'valor'}\n",
    "diccionario"
   ]
  },
  {
   "cell_type": "code",
   "execution_count": 2,
   "id": "c624bf92-c9cd-4c6a-9c68-c25faab86383",
   "metadata": {},
   "outputs": [
    {
     "data": {
      "text/plain": [
       "dict"
      ]
     },
     "execution_count": 2,
     "metadata": {},
     "output_type": "execute_result"
    }
   ],
   "source": [
    "type(diccionario)"
   ]
  },
  {
   "cell_type": "code",
   "execution_count": 3,
   "id": "dee80b82-a6a7-4bca-92d6-84e1f733b7c3",
   "metadata": {},
   "outputs": [
    {
     "data": {
      "text/plain": [
       "{'key': 'valor', 'key2': 'valor2', 'key3': '5', 'key4': [2, 3], 5: [-2]}"
      ]
     },
     "execution_count": 3,
     "metadata": {},
     "output_type": "execute_result"
    }
   ],
   "source": [
    "diccionario = {'key': 'valor', 'key2': 'valor2', 'key3': '5', 'key4':[2,3], 5:[-2]} # Nótese que no es necesario encerrar entre comillas ni a las llaves ni al valor\n",
    "diccionario\n",
    "# Nótese que en los diccionarios, la primera posición es 1, no 0 como en tuplas y listas"
   ]
  },
  {
   "cell_type": "code",
   "execution_count": 4,
   "id": "893e2b65-2114-4582-949d-29fca53bbe24",
   "metadata": {},
   "outputs": [
    {
     "data": {
      "text/plain": [
       "[-2]"
      ]
     },
     "execution_count": 4,
     "metadata": {},
     "output_type": "execute_result"
    }
   ],
   "source": [
    "diccionario[5]"
   ]
  },
  {
   "cell_type": "code",
   "execution_count": 5,
   "id": "c172ed32-b449-4fb5-891e-a45504676fbe",
   "metadata": {},
   "outputs": [
    {
     "data": {
      "text/plain": [
       "dict_keys(['key', 'key2', 'key3', 'key4', 5])"
      ]
     },
     "execution_count": 5,
     "metadata": {},
     "output_type": "execute_result"
    }
   ],
   "source": [
    "# ¿Cómo obtener todas las llaves sin sus valores?\n",
    "diccionario.keys()"
   ]
  },
  {
   "cell_type": "code",
   "execution_count": 6,
   "id": "b53a0d04-8844-423b-be12-c9aeb1255db9",
   "metadata": {},
   "outputs": [
    {
     "data": {
      "text/plain": [
       "dict_values(['valor', 'valor2', '5', [2, 3], [-2]])"
      ]
     },
     "execution_count": 6,
     "metadata": {},
     "output_type": "execute_result"
    }
   ],
   "source": [
    "# Caso contrario, ¿cómo obtener todas los valores sin sus llaves?\n",
    "diccionario.values()"
   ]
  },
  {
   "cell_type": "code",
   "execution_count": 7,
   "id": "3b5af868-684d-450a-a302-23b7a238291d",
   "metadata": {},
   "outputs": [
    {
     "data": {
      "text/plain": [
       "dict_values(['valor', 'valor2', '5', [2, 3], [-2]])"
      ]
     },
     "execution_count": 7,
     "metadata": {},
     "output_type": "execute_result"
    }
   ],
   "source": [
    "var = diccionario.values()\n",
    "var"
   ]
  }
 ],
 "metadata": {
  "kernelspec": {
   "display_name": "Python 3 (ipykernel)",
   "language": "python",
   "name": "python3"
  },
  "language_info": {
   "codemirror_mode": {
    "name": "ipython",
    "version": 3
   },
   "file_extension": ".py",
   "mimetype": "text/x-python",
   "name": "python",
   "nbconvert_exporter": "python",
   "pygments_lexer": "ipython3",
   "version": "3.13.7"
  }
 },
 "nbformat": 4,
 "nbformat_minor": 5
}
