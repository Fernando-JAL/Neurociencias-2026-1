{
 "cells": [
  {
   "cell_type": "code",
   "execution_count": 4,
   "id": "cb1829ac-0a82-4eae-8056-7f2aacf273b2",
   "metadata": {},
   "outputs": [],
   "source": [
    "# Importar paquete NumPy\n",
    "import numpy as np "
   ]
  },
  {
   "cell_type": "code",
   "execution_count": 5,
   "id": "138cbce0-0b04-4c2a-940f-a0c3c3e00d97",
   "metadata": {},
   "outputs": [
    {
     "name": "stdout",
     "output_type": "stream",
     "text": [
      "value = ['5' 'String'], data type = <class 'numpy.ndarray'>\n"
     ]
    }
   ],
   "source": [
    "value = np.array((5, \"String\")) \n",
    "print(f\"value = {value}, data type = {type(value)}\")"
   ]
  },
  {
   "cell_type": "code",
   "execution_count": 6,
   "id": "f90e2883-f374-4c3f-8440-60f189c40746",
   "metadata": {},
   "outputs": [
    {
     "data": {
      "text/plain": [
       "[0, 1, 2, 3]"
      ]
     },
     "execution_count": 6,
     "metadata": {},
     "output_type": "execute_result"
    }
   ],
   "source": [
    "list(range(4))"
   ]
  },
  {
   "cell_type": "code",
   "execution_count": 7,
   "id": "f22db36f-80c8-49bb-891d-d72a0d4ed01c",
   "metadata": {},
   "outputs": [
    {
     "data": {
      "text/plain": [
       "array([0, 1, 2, 3])"
      ]
     },
     "execution_count": 7,
     "metadata": {},
     "output_type": "execute_result"
    }
   ],
   "source": [
    "np.array(range(4))"
   ]
  },
  {
   "cell_type": "code",
   "execution_count": 9,
   "id": "a3fe85b9-0163-4f51-b7c4-ccb3d476a95e",
   "metadata": {},
   "outputs": [
    {
     "data": {
      "text/plain": [
       "[-7, -6, -5, -4, -3, -2, -1, 0, 1, 2, 3, 4, 5]"
      ]
     },
     "execution_count": 9,
     "metadata": {},
     "output_type": "execute_result"
    }
   ],
   "source": [
    "list(range(-7,6))"
   ]
  },
  {
   "cell_type": "code",
   "execution_count": 11,
   "id": "76230c55-07ae-4e68-acd4-6f637db05a68",
   "metadata": {},
   "outputs": [
    {
     "data": {
      "text/plain": [
       "[-5, -4, -3, -2]"
      ]
     },
     "execution_count": 11,
     "metadata": {},
     "output_type": "execute_result"
    }
   ],
   "source": [
    "list(range(-7,6))[2:6]"
   ]
  }
 ],
 "metadata": {
  "kernelspec": {
   "display_name": "Python 3 (ipykernel)",
   "language": "python",
   "name": "python3"
  },
  "language_info": {
   "codemirror_mode": {
    "name": "ipython",
    "version": 3
   },
   "file_extension": ".py",
   "mimetype": "text/x-python",
   "name": "python",
   "nbconvert_exporter": "python",
   "pygments_lexer": "ipython3",
   "version": "3.13.7"
  }
 },
 "nbformat": 4,
 "nbformat_minor": 5
}
