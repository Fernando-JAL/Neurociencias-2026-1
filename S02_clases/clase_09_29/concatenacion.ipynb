{
 "cells": [
  {
   "cell_type": "markdown",
   "id": "d9aa3454-d6e9-4aca-a86b-d385c36595ec",
   "metadata": {},
   "source": [
    "# Concatenación de dataframes\n",
    "\n",
    "Concatenar = junta, unir o fusionar \n",
    "\n",
    "Para dataframes, existen 3 formas de concatenar:\n",
    "- Concat (concatenar)\n",
    "- Merge (fusionar)\n",
    "- Join (unir)"
   ]
  },
  {
   "cell_type": "markdown",
   "id": "511c4876-7696-4c58-96a5-b64d55010c4b",
   "metadata": {},
   "source": [
    "# Concat\n",
    "\n",
    "Esta técnica básicamente se centra en bases de datos comunes, ie tienen las mismas columnas y por tanto básicamente hay que juntar las filas"
   ]
  },
  {
   "cell_type": "code",
   "execution_count": 1,
   "id": "4faf3c22-5cfd-42ac-b36d-88369e9d7af4",
   "metadata": {},
   "outputs": [],
   "source": [
    "import pandas as pd"
   ]
  },
  {
   "cell_type": "code",
   "execution_count": 10,
   "id": "dba3217a-fa2e-439d-bd67-1c3b30ad6ff2",
   "metadata": {},
   "outputs": [],
   "source": [
    "df1 = pd.DataFrame( {'A': ['1A', '2A'], 'B': ['1B', '2B'], 'C': ['1C', '2C'],  'K':['1k', '2k']} )\n",
    "df2 = pd.DataFrame( {'A': ['6A', '7A', '8A'], 'B': ['6B', '7B', '8B'], 'C': ['6C', '7C', '8C']} )"
   ]
  },
  {
   "cell_type": "code",
   "execution_count": 11,
   "id": "ceaff89d-d4df-4ddb-9fde-2702ad3dfc93",
   "metadata": {},
   "outputs": [
    {
     "data": {
      "text/html": [
       "<div>\n",
       "<style scoped>\n",
       "    .dataframe tbody tr th:only-of-type {\n",
       "        vertical-align: middle;\n",
       "    }\n",
       "\n",
       "    .dataframe tbody tr th {\n",
       "        vertical-align: top;\n",
       "    }\n",
       "\n",
       "    .dataframe thead th {\n",
       "        text-align: right;\n",
       "    }\n",
       "</style>\n",
       "<table border=\"1\" class=\"dataframe\">\n",
       "  <thead>\n",
       "    <tr style=\"text-align: right;\">\n",
       "      <th></th>\n",
       "      <th>A</th>\n",
       "      <th>B</th>\n",
       "      <th>C</th>\n",
       "      <th>K</th>\n",
       "    </tr>\n",
       "  </thead>\n",
       "  <tbody>\n",
       "    <tr>\n",
       "      <th>0</th>\n",
       "      <td>1A</td>\n",
       "      <td>1B</td>\n",
       "      <td>1C</td>\n",
       "      <td>1k</td>\n",
       "    </tr>\n",
       "    <tr>\n",
       "      <th>1</th>\n",
       "      <td>2A</td>\n",
       "      <td>2B</td>\n",
       "      <td>2C</td>\n",
       "      <td>2k</td>\n",
       "    </tr>\n",
       "    <tr>\n",
       "      <th>2</th>\n",
       "      <td>6A</td>\n",
       "      <td>6B</td>\n",
       "      <td>6C</td>\n",
       "      <td>NaN</td>\n",
       "    </tr>\n",
       "    <tr>\n",
       "      <th>3</th>\n",
       "      <td>7A</td>\n",
       "      <td>7B</td>\n",
       "      <td>7C</td>\n",
       "      <td>NaN</td>\n",
       "    </tr>\n",
       "    <tr>\n",
       "      <th>4</th>\n",
       "      <td>8A</td>\n",
       "      <td>8B</td>\n",
       "      <td>8C</td>\n",
       "      <td>NaN</td>\n",
       "    </tr>\n",
       "  </tbody>\n",
       "</table>\n",
       "</div>"
      ],
      "text/plain": [
       "    A   B   C    K\n",
       "0  1A  1B  1C   1k\n",
       "1  2A  2B  2C   2k\n",
       "2  6A  6B  6C  NaN\n",
       "3  7A  7B  7C  NaN\n",
       "4  8A  8B  8C  NaN"
      ]
     },
     "execution_count": 11,
     "metadata": {},
     "output_type": "execute_result"
    }
   ],
   "source": [
    "pd.concat([df1, df2], ignore_index=True)"
   ]
  },
  {
   "cell_type": "markdown",
   "id": "c3a4e775-329b-4624-a8d7-28a6deea089c",
   "metadata": {},
   "source": [
    "# Merge (fusionar)\n",
    "\n",
    "Esta técnica fusiona diferentes dataframes a partir de una columna (clave) en común"
   ]
  },
  {
   "cell_type": "code",
   "execution_count": 26,
   "id": "7020f484-b2b4-41bc-8e42-1c6ffde8a2bf",
   "metadata": {},
   "outputs": [],
   "source": [
    "df1 = pd.DataFrame( {'A': ['1A', '2A', '3A'], 'B': ['1B', '2B', '3B']} )\n",
    "df2 = pd.DataFrame( {'A': ['5A', '6A'], 'C': ['1C', '2C'],  'K':['1k', '2k']} )"
   ]
  },
  {
   "cell_type": "code",
   "execution_count": 30,
   "id": "b77118bb-8994-4588-ae9f-1b258dde2799",
   "metadata": {},
   "outputs": [
    {
     "data": {
      "text/html": [
       "<div>\n",
       "<style scoped>\n",
       "    .dataframe tbody tr th:only-of-type {\n",
       "        vertical-align: middle;\n",
       "    }\n",
       "\n",
       "    .dataframe tbody tr th {\n",
       "        vertical-align: top;\n",
       "    }\n",
       "\n",
       "    .dataframe thead th {\n",
       "        text-align: right;\n",
       "    }\n",
       "</style>\n",
       "<table border=\"1\" class=\"dataframe\">\n",
       "  <thead>\n",
       "    <tr style=\"text-align: right;\">\n",
       "      <th></th>\n",
       "      <th>A</th>\n",
       "      <th>B</th>\n",
       "      <th>C</th>\n",
       "      <th>K</th>\n",
       "    </tr>\n",
       "  </thead>\n",
       "  <tbody>\n",
       "    <tr>\n",
       "      <th>0</th>\n",
       "      <td>1A</td>\n",
       "      <td>1B</td>\n",
       "      <td>NaN</td>\n",
       "      <td>NaN</td>\n",
       "    </tr>\n",
       "    <tr>\n",
       "      <th>1</th>\n",
       "      <td>2A</td>\n",
       "      <td>2B</td>\n",
       "      <td>NaN</td>\n",
       "      <td>NaN</td>\n",
       "    </tr>\n",
       "    <tr>\n",
       "      <th>2</th>\n",
       "      <td>3A</td>\n",
       "      <td>3B</td>\n",
       "      <td>NaN</td>\n",
       "      <td>NaN</td>\n",
       "    </tr>\n",
       "  </tbody>\n",
       "</table>\n",
       "</div>"
      ],
      "text/plain": [
       "    A   B    C    K\n",
       "0  1A  1B  NaN  NaN\n",
       "1  2A  2B  NaN  NaN\n",
       "2  3A  3B  NaN  NaN"
      ]
     },
     "execution_count": 30,
     "metadata": {},
     "output_type": "execute_result"
    }
   ],
   "source": [
    "pd.merge(df1, df2, on=['A'], how='left')"
   ]
  },
  {
   "cell_type": "markdown",
   "id": "ca9dc658-c91a-4f6d-a586-eded3d2e3e67",
   "metadata": {},
   "source": [
    "# Join\n",
    "\n",
    "La idea de este dataframe es combinas las columnas de dos dataframes indexados"
   ]
  },
  {
   "cell_type": "code",
   "execution_count": 50,
   "id": "04fbd907-0ee9-4aab-afa0-e5c9bf295f92",
   "metadata": {
    "scrolled": true
   },
   "outputs": [],
   "source": [
    "df1 = pd.DataFrame( {'Z': ['1A', '2A', '3A'], 'B': ['1B', '2B', '3B']}, index=['i1', 'i2', 'i3'] )\n",
    "df2 = pd.DataFrame( {'A': ['5A', '6A'], 'C': ['1C', '2C'],  'K':['1k', '2k']}, index=['i1', 'i2'] )"
   ]
  },
  {
   "cell_type": "code",
   "execution_count": 51,
   "id": "efd27284-85ed-45d7-9386-89f91378cfc5",
   "metadata": {},
   "outputs": [
    {
     "data": {
      "text/html": [
       "<div>\n",
       "<style scoped>\n",
       "    .dataframe tbody tr th:only-of-type {\n",
       "        vertical-align: middle;\n",
       "    }\n",
       "\n",
       "    .dataframe tbody tr th {\n",
       "        vertical-align: top;\n",
       "    }\n",
       "\n",
       "    .dataframe thead th {\n",
       "        text-align: right;\n",
       "    }\n",
       "</style>\n",
       "<table border=\"1\" class=\"dataframe\">\n",
       "  <thead>\n",
       "    <tr style=\"text-align: right;\">\n",
       "      <th></th>\n",
       "      <th>Z</th>\n",
       "      <th>B</th>\n",
       "      <th>A</th>\n",
       "      <th>C</th>\n",
       "      <th>K</th>\n",
       "    </tr>\n",
       "  </thead>\n",
       "  <tbody>\n",
       "    <tr>\n",
       "      <th>i1</th>\n",
       "      <td>1A</td>\n",
       "      <td>1B</td>\n",
       "      <td>5A</td>\n",
       "      <td>1C</td>\n",
       "      <td>1k</td>\n",
       "    </tr>\n",
       "    <tr>\n",
       "      <th>i2</th>\n",
       "      <td>2A</td>\n",
       "      <td>2B</td>\n",
       "      <td>6A</td>\n",
       "      <td>2C</td>\n",
       "      <td>2k</td>\n",
       "    </tr>\n",
       "    <tr>\n",
       "      <th>i3</th>\n",
       "      <td>3A</td>\n",
       "      <td>3B</td>\n",
       "      <td>NaN</td>\n",
       "      <td>NaN</td>\n",
       "      <td>NaN</td>\n",
       "    </tr>\n",
       "  </tbody>\n",
       "</table>\n",
       "</div>"
      ],
      "text/plain": [
       "     Z   B    A    C    K\n",
       "i1  1A  1B   5A   1C   1k\n",
       "i2  2A  2B   6A   2C   2k\n",
       "i3  3A  3B  NaN  NaN  NaN"
      ]
     },
     "execution_count": 51,
     "metadata": {},
     "output_type": "execute_result"
    }
   ],
   "source": [
    "df1.join(df2)"
   ]
  },
  {
   "cell_type": "markdown",
   "id": "eab8dd03-f73c-4429-be92-3d78d185bf50",
   "metadata": {},
   "source": [
    "# Entradas y salidas"
   ]
  },
  {
   "cell_type": "code",
   "execution_count": 53,
   "id": "d5aecb05-cba3-4b27-9cea-8fb0221d24d6",
   "metadata": {},
   "outputs": [
    {
     "data": {
      "text/html": [
       "<div>\n",
       "<style scoped>\n",
       "    .dataframe tbody tr th:only-of-type {\n",
       "        vertical-align: middle;\n",
       "    }\n",
       "\n",
       "    .dataframe tbody tr th {\n",
       "        vertical-align: top;\n",
       "    }\n",
       "\n",
       "    .dataframe thead th {\n",
       "        text-align: right;\n",
       "    }\n",
       "</style>\n",
       "<table border=\"1\" class=\"dataframe\">\n",
       "  <thead>\n",
       "    <tr style=\"text-align: right;\">\n",
       "      <th></th>\n",
       "      <th>Z</th>\n",
       "      <th>B</th>\n",
       "      <th>A</th>\n",
       "      <th>C</th>\n",
       "      <th>K</th>\n",
       "    </tr>\n",
       "  </thead>\n",
       "  <tbody>\n",
       "    <tr>\n",
       "      <th>i1</th>\n",
       "      <td>1A</td>\n",
       "      <td>1B</td>\n",
       "      <td>5A</td>\n",
       "      <td>1C</td>\n",
       "      <td>1k</td>\n",
       "    </tr>\n",
       "    <tr>\n",
       "      <th>i2</th>\n",
       "      <td>2A</td>\n",
       "      <td>2B</td>\n",
       "      <td>6A</td>\n",
       "      <td>2C</td>\n",
       "      <td>2k</td>\n",
       "    </tr>\n",
       "    <tr>\n",
       "      <th>i3</th>\n",
       "      <td>3A</td>\n",
       "      <td>3B</td>\n",
       "      <td>NaN</td>\n",
       "      <td>NaN</td>\n",
       "      <td>NaN</td>\n",
       "    </tr>\n",
       "  </tbody>\n",
       "</table>\n",
       "</div>"
      ],
      "text/plain": [
       "     Z   B    A    C    K\n",
       "i1  1A  1B   5A   1C   1k\n",
       "i2  2A  2B   6A   2C   2k\n",
       "i3  3A  3B  NaN  NaN  NaN"
      ]
     },
     "execution_count": 53,
     "metadata": {},
     "output_type": "execute_result"
    }
   ],
   "source": [
    "df3 = df1.join(df2)\n",
    "df3"
   ]
  },
  {
   "cell_type": "code",
   "execution_count": 55,
   "id": "bf90e8a2-0af6-49ae-8007-72dac326ae08",
   "metadata": {},
   "outputs": [],
   "source": [
    "df3.to_csv('nombre.csv', index=False)"
   ]
  },
  {
   "cell_type": "code",
   "execution_count": 57,
   "id": "2ac2e84f-a908-444b-8834-f8ab48c8fc0b",
   "metadata": {},
   "outputs": [
    {
     "data": {
      "text/html": [
       "<div>\n",
       "<style scoped>\n",
       "    .dataframe tbody tr th:only-of-type {\n",
       "        vertical-align: middle;\n",
       "    }\n",
       "\n",
       "    .dataframe tbody tr th {\n",
       "        vertical-align: top;\n",
       "    }\n",
       "\n",
       "    .dataframe thead th {\n",
       "        text-align: right;\n",
       "    }\n",
       "</style>\n",
       "<table border=\"1\" class=\"dataframe\">\n",
       "  <thead>\n",
       "    <tr style=\"text-align: right;\">\n",
       "      <th></th>\n",
       "      <th>Z</th>\n",
       "      <th>B</th>\n",
       "      <th>A</th>\n",
       "      <th>C</th>\n",
       "      <th>K</th>\n",
       "    </tr>\n",
       "  </thead>\n",
       "  <tbody>\n",
       "    <tr>\n",
       "      <th>0</th>\n",
       "      <td>1A</td>\n",
       "      <td>1B</td>\n",
       "      <td>5A</td>\n",
       "      <td>1C</td>\n",
       "      <td>1k</td>\n",
       "    </tr>\n",
       "    <tr>\n",
       "      <th>1</th>\n",
       "      <td>2A</td>\n",
       "      <td>2B</td>\n",
       "      <td>6A</td>\n",
       "      <td>2C</td>\n",
       "      <td>2k</td>\n",
       "    </tr>\n",
       "    <tr>\n",
       "      <th>2</th>\n",
       "      <td>3A</td>\n",
       "      <td>3B</td>\n",
       "      <td>NaN</td>\n",
       "      <td>NaN</td>\n",
       "      <td>NaN</td>\n",
       "    </tr>\n",
       "  </tbody>\n",
       "</table>\n",
       "</div>"
      ],
      "text/plain": [
       "    Z   B    A    C    K\n",
       "0  1A  1B   5A   1C   1k\n",
       "1  2A  2B   6A   2C   2k\n",
       "2  3A  3B  NaN  NaN  NaN"
      ]
     },
     "execution_count": 57,
     "metadata": {},
     "output_type": "execute_result"
    }
   ],
   "source": [
    "pd.read_csv(r\"C:\\Users\\OMEN CI7\\Documents\\repository\\Neurociencias-2026-1\\afuera.csv\")"
   ]
  },
  {
   "cell_type": "code",
   "execution_count": null,
   "id": "738f68b1-2127-4f0d-8df0-f7cf9e0231cf",
   "metadata": {},
   "outputs": [],
   "source": [
    "pd.read_"
   ]
  }
 ],
 "metadata": {
  "kernelspec": {
   "display_name": "Python 3 (ipykernel)",
   "language": "python",
   "name": "python3"
  },
  "language_info": {
   "codemirror_mode": {
    "name": "ipython",
    "version": 3
   },
   "file_extension": ".py",
   "mimetype": "text/x-python",
   "name": "python",
   "nbconvert_exporter": "python",
   "pygments_lexer": "ipython3",
   "version": "3.10.4"
  }
 },
 "nbformat": 4,
 "nbformat_minor": 5
}
