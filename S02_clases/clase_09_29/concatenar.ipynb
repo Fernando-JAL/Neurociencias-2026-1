{
 "cells": [
  {
   "cell_type": "markdown",
   "id": "d9b8655c-1040-45d4-932f-811182deadf1",
   "metadata": {},
   "source": [
    "# Concatenación de data frames"
   ]
  },
  {
   "cell_type": "markdown",
   "id": "65d67b58-2515-4640-9129-9f65b257e85a",
   "metadata": {},
   "source": [
    "Para dataframe, existen 3 formas de concatenar:\n",
    "- concat\n",
    "- merge\n",
    "- join"
   ]
  },
  {
   "cell_type": "markdown",
   "id": "10f16123-b3f3-44fd-b225-5b3ddc2b0f30",
   "metadata": {},
   "source": [
    "## Concat"
   ]
  },
  {
   "cell_type": "code",
   "execution_count": 1,
   "id": "83cb576b-f26f-4c4e-83c2-a29002f7a413",
   "metadata": {},
   "outputs": [],
   "source": [
    "import pandas as pd"
   ]
  },
  {
   "cell_type": "code",
   "execution_count": 2,
   "id": "9f9381f0-1a6c-40f5-8fbb-f3d6d15c0b42",
   "metadata": {},
   "outputs": [],
   "source": [
    "df1 = pd.DataFrame({'A':['1A', '2A'],'B':['1B', '2B'],'C':['1C', '2C']})\n",
    "df2 = pd.DataFrame({'A':['6A', '7A', '8A'],'B':['6B', '7B', '8B'],'C':['6C', '7C', '8C']})"
   ]
  },
  {
   "cell_type": "code",
   "execution_count": 3,
   "id": "2dd4fe9a-a24f-4847-b5a8-44f3a328f3b7",
   "metadata": {},
   "outputs": [
    {
     "data": {
      "text/html": [
       "<div>\n",
       "<style scoped>\n",
       "    .dataframe tbody tr th:only-of-type {\n",
       "        vertical-align: middle;\n",
       "    }\n",
       "\n",
       "    .dataframe tbody tr th {\n",
       "        vertical-align: top;\n",
       "    }\n",
       "\n",
       "    .dataframe thead th {\n",
       "        text-align: right;\n",
       "    }\n",
       "</style>\n",
       "<table border=\"1\" class=\"dataframe\">\n",
       "  <thead>\n",
       "    <tr style=\"text-align: right;\">\n",
       "      <th></th>\n",
       "      <th>A</th>\n",
       "      <th>B</th>\n",
       "      <th>C</th>\n",
       "    </tr>\n",
       "  </thead>\n",
       "  <tbody>\n",
       "    <tr>\n",
       "      <th>0</th>\n",
       "      <td>1A</td>\n",
       "      <td>1B</td>\n",
       "      <td>1C</td>\n",
       "    </tr>\n",
       "    <tr>\n",
       "      <th>1</th>\n",
       "      <td>2A</td>\n",
       "      <td>2B</td>\n",
       "      <td>2C</td>\n",
       "    </tr>\n",
       "  </tbody>\n",
       "</table>\n",
       "</div>"
      ],
      "text/plain": [
       "    A   B   C\n",
       "0  1A  1B  1C\n",
       "1  2A  2B  2C"
      ]
     },
     "execution_count": 3,
     "metadata": {},
     "output_type": "execute_result"
    }
   ],
   "source": [
    "df1"
   ]
  },
  {
   "cell_type": "code",
   "execution_count": 4,
   "id": "7af0ea3f-1084-4932-8f76-dc382c95603a",
   "metadata": {},
   "outputs": [
    {
     "data": {
      "text/html": [
       "<div>\n",
       "<style scoped>\n",
       "    .dataframe tbody tr th:only-of-type {\n",
       "        vertical-align: middle;\n",
       "    }\n",
       "\n",
       "    .dataframe tbody tr th {\n",
       "        vertical-align: top;\n",
       "    }\n",
       "\n",
       "    .dataframe thead th {\n",
       "        text-align: right;\n",
       "    }\n",
       "</style>\n",
       "<table border=\"1\" class=\"dataframe\">\n",
       "  <thead>\n",
       "    <tr style=\"text-align: right;\">\n",
       "      <th></th>\n",
       "      <th>A</th>\n",
       "      <th>B</th>\n",
       "      <th>C</th>\n",
       "    </tr>\n",
       "  </thead>\n",
       "  <tbody>\n",
       "    <tr>\n",
       "      <th>0</th>\n",
       "      <td>6A</td>\n",
       "      <td>6B</td>\n",
       "      <td>6C</td>\n",
       "    </tr>\n",
       "    <tr>\n",
       "      <th>1</th>\n",
       "      <td>7A</td>\n",
       "      <td>7B</td>\n",
       "      <td>7C</td>\n",
       "    </tr>\n",
       "    <tr>\n",
       "      <th>2</th>\n",
       "      <td>8A</td>\n",
       "      <td>8B</td>\n",
       "      <td>8C</td>\n",
       "    </tr>\n",
       "  </tbody>\n",
       "</table>\n",
       "</div>"
      ],
      "text/plain": [
       "    A   B   C\n",
       "0  6A  6B  6C\n",
       "1  7A  7B  7C\n",
       "2  8A  8B  8C"
      ]
     },
     "execution_count": 4,
     "metadata": {},
     "output_type": "execute_result"
    }
   ],
   "source": [
    "df2"
   ]
  },
  {
   "cell_type": "code",
   "execution_count": 6,
   "id": "726d7f97-4512-4e09-bdf3-748fba887cdb",
   "metadata": {},
   "outputs": [
    {
     "data": {
      "text/html": [
       "<div>\n",
       "<style scoped>\n",
       "    .dataframe tbody tr th:only-of-type {\n",
       "        vertical-align: middle;\n",
       "    }\n",
       "\n",
       "    .dataframe tbody tr th {\n",
       "        vertical-align: top;\n",
       "    }\n",
       "\n",
       "    .dataframe thead th {\n",
       "        text-align: right;\n",
       "    }\n",
       "</style>\n",
       "<table border=\"1\" class=\"dataframe\">\n",
       "  <thead>\n",
       "    <tr style=\"text-align: right;\">\n",
       "      <th></th>\n",
       "      <th>A</th>\n",
       "      <th>B</th>\n",
       "      <th>C</th>\n",
       "    </tr>\n",
       "  </thead>\n",
       "  <tbody>\n",
       "    <tr>\n",
       "      <th>0</th>\n",
       "      <td>1A</td>\n",
       "      <td>1B</td>\n",
       "      <td>1C</td>\n",
       "    </tr>\n",
       "    <tr>\n",
       "      <th>1</th>\n",
       "      <td>2A</td>\n",
       "      <td>2B</td>\n",
       "      <td>2C</td>\n",
       "    </tr>\n",
       "    <tr>\n",
       "      <th>0</th>\n",
       "      <td>6A</td>\n",
       "      <td>6B</td>\n",
       "      <td>6C</td>\n",
       "    </tr>\n",
       "    <tr>\n",
       "      <th>1</th>\n",
       "      <td>7A</td>\n",
       "      <td>7B</td>\n",
       "      <td>7C</td>\n",
       "    </tr>\n",
       "    <tr>\n",
       "      <th>2</th>\n",
       "      <td>8A</td>\n",
       "      <td>8B</td>\n",
       "      <td>8C</td>\n",
       "    </tr>\n",
       "  </tbody>\n",
       "</table>\n",
       "</div>"
      ],
      "text/plain": [
       "    A   B   C\n",
       "0  1A  1B  1C\n",
       "1  2A  2B  2C\n",
       "0  6A  6B  6C\n",
       "1  7A  7B  7C\n",
       "2  8A  8B  8C"
      ]
     },
     "execution_count": 6,
     "metadata": {},
     "output_type": "execute_result"
    }
   ],
   "source": [
    "pd.concat([df1,df2], ignore_index = False)"
   ]
  },
  {
   "cell_type": "code",
   "execution_count": 7,
   "id": "8d4b0b01-dfa6-46e7-b5e2-e85b5a0bebc9",
   "metadata": {},
   "outputs": [
    {
     "data": {
      "text/html": [
       "<div>\n",
       "<style scoped>\n",
       "    .dataframe tbody tr th:only-of-type {\n",
       "        vertical-align: middle;\n",
       "    }\n",
       "\n",
       "    .dataframe tbody tr th {\n",
       "        vertical-align: top;\n",
       "    }\n",
       "\n",
       "    .dataframe thead th {\n",
       "        text-align: right;\n",
       "    }\n",
       "</style>\n",
       "<table border=\"1\" class=\"dataframe\">\n",
       "  <thead>\n",
       "    <tr style=\"text-align: right;\">\n",
       "      <th></th>\n",
       "      <th>A</th>\n",
       "      <th>B</th>\n",
       "      <th>C</th>\n",
       "    </tr>\n",
       "  </thead>\n",
       "  <tbody>\n",
       "    <tr>\n",
       "      <th>0</th>\n",
       "      <td>1A</td>\n",
       "      <td>1B</td>\n",
       "      <td>1C</td>\n",
       "    </tr>\n",
       "    <tr>\n",
       "      <th>1</th>\n",
       "      <td>2A</td>\n",
       "      <td>2B</td>\n",
       "      <td>2C</td>\n",
       "    </tr>\n",
       "    <tr>\n",
       "      <th>2</th>\n",
       "      <td>6A</td>\n",
       "      <td>6B</td>\n",
       "      <td>6C</td>\n",
       "    </tr>\n",
       "    <tr>\n",
       "      <th>3</th>\n",
       "      <td>7A</td>\n",
       "      <td>7B</td>\n",
       "      <td>7C</td>\n",
       "    </tr>\n",
       "    <tr>\n",
       "      <th>4</th>\n",
       "      <td>8A</td>\n",
       "      <td>8B</td>\n",
       "      <td>8C</td>\n",
       "    </tr>\n",
       "  </tbody>\n",
       "</table>\n",
       "</div>"
      ],
      "text/plain": [
       "    A   B   C\n",
       "0  1A  1B  1C\n",
       "1  2A  2B  2C\n",
       "2  6A  6B  6C\n",
       "3  7A  7B  7C\n",
       "4  8A  8B  8C"
      ]
     },
     "execution_count": 7,
     "metadata": {},
     "output_type": "execute_result"
    }
   ],
   "source": [
    "pd.concat([df1,df2], ignore_index = True) #Si los df concateandos no tienen la mismas columnas la nueva simplemente se agrega"
   ]
  },
  {
   "cell_type": "markdown",
   "id": "571bab74-dd27-4b79-aaed-c57e1a1530d5",
   "metadata": {},
   "source": [
    "## Merge fusionar\n",
    "\n",
    "Fuisiona diferentes dataframes a partir de una columna (llave) en común.\n",
    "No pude unir columnas que se llamen igual"
   ]
  },
  {
   "cell_type": "code",
   "execution_count": 14,
   "id": "12209cff-5af1-4069-84bd-4bfef4862973",
   "metadata": {},
   "outputs": [],
   "source": [
    "df1 = pd.DataFrame({'A':['1A', '2A'],'B':['1B', '2B']})\n",
    "df2 = pd.DataFrame({'A':['3A', '4A'],'C':['1C', '2C'],'K':['1K', '2K']})"
   ]
  },
  {
   "cell_type": "code",
   "execution_count": 15,
   "id": "c52e7478-eb17-4491-a850-5f84b395f29b",
   "metadata": {},
   "outputs": [
    {
     "data": {
      "text/html": [
       "<div>\n",
       "<style scoped>\n",
       "    .dataframe tbody tr th:only-of-type {\n",
       "        vertical-align: middle;\n",
       "    }\n",
       "\n",
       "    .dataframe tbody tr th {\n",
       "        vertical-align: top;\n",
       "    }\n",
       "\n",
       "    .dataframe thead th {\n",
       "        text-align: right;\n",
       "    }\n",
       "</style>\n",
       "<table border=\"1\" class=\"dataframe\">\n",
       "  <thead>\n",
       "    <tr style=\"text-align: right;\">\n",
       "      <th></th>\n",
       "      <th>A</th>\n",
       "      <th>B</th>\n",
       "      <th>C</th>\n",
       "      <th>K</th>\n",
       "    </tr>\n",
       "  </thead>\n",
       "  <tbody>\n",
       "  </tbody>\n",
       "</table>\n",
       "</div>"
      ],
      "text/plain": [
       "Empty DataFrame\n",
       "Columns: [A, B, C, K]\n",
       "Index: []"
      ]
     },
     "execution_count": 15,
     "metadata": {},
     "output_type": "execute_result"
    }
   ],
   "source": [
    "pd.merge(df1,df2, on=['A'] ) #on = a la columna que va a fusionar(poner los elementos que sean iguales en ambos dataframes). \n",
    "#Si no hay nada en común no pone nada"
   ]
  },
  {
   "cell_type": "code",
   "execution_count": 16,
   "id": "75bb06b0-ec02-46f1-80e6-f9311138687e",
   "metadata": {},
   "outputs": [
    {
     "data": {
      "text/html": [
       "<div>\n",
       "<style scoped>\n",
       "    .dataframe tbody tr th:only-of-type {\n",
       "        vertical-align: middle;\n",
       "    }\n",
       "\n",
       "    .dataframe tbody tr th {\n",
       "        vertical-align: top;\n",
       "    }\n",
       "\n",
       "    .dataframe thead th {\n",
       "        text-align: right;\n",
       "    }\n",
       "</style>\n",
       "<table border=\"1\" class=\"dataframe\">\n",
       "  <thead>\n",
       "    <tr style=\"text-align: right;\">\n",
       "      <th></th>\n",
       "      <th>A</th>\n",
       "      <th>B</th>\n",
       "      <th>C</th>\n",
       "      <th>K</th>\n",
       "    </tr>\n",
       "  </thead>\n",
       "  <tbody>\n",
       "    <tr>\n",
       "      <th>0</th>\n",
       "      <td>1A</td>\n",
       "      <td>1B</td>\n",
       "      <td>NaN</td>\n",
       "      <td>NaN</td>\n",
       "    </tr>\n",
       "    <tr>\n",
       "      <th>1</th>\n",
       "      <td>2A</td>\n",
       "      <td>2B</td>\n",
       "      <td>NaN</td>\n",
       "      <td>NaN</td>\n",
       "    </tr>\n",
       "    <tr>\n",
       "      <th>2</th>\n",
       "      <td>3A</td>\n",
       "      <td>NaN</td>\n",
       "      <td>1C</td>\n",
       "      <td>1K</td>\n",
       "    </tr>\n",
       "    <tr>\n",
       "      <th>3</th>\n",
       "      <td>4A</td>\n",
       "      <td>NaN</td>\n",
       "      <td>2C</td>\n",
       "      <td>2K</td>\n",
       "    </tr>\n",
       "  </tbody>\n",
       "</table>\n",
       "</div>"
      ],
      "text/plain": [
       "    A    B    C    K\n",
       "0  1A   1B  NaN  NaN\n",
       "1  2A   2B  NaN  NaN\n",
       "2  3A  NaN   1C   1K\n",
       "3  4A  NaN   2C   2K"
      ]
     },
     "execution_count": 16,
     "metadata": {},
     "output_type": "execute_result"
    }
   ],
   "source": [
    "pd.merge(df1,df2, on=['A'], how = 'outer')"
   ]
  },
  {
   "cell_type": "code",
   "execution_count": 17,
   "id": "c8e7fdf6-b528-4229-8524-8832187dadc7",
   "metadata": {},
   "outputs": [
    {
     "data": {
      "text/html": [
       "<div>\n",
       "<style scoped>\n",
       "    .dataframe tbody tr th:only-of-type {\n",
       "        vertical-align: middle;\n",
       "    }\n",
       "\n",
       "    .dataframe tbody tr th {\n",
       "        vertical-align: top;\n",
       "    }\n",
       "\n",
       "    .dataframe thead th {\n",
       "        text-align: right;\n",
       "    }\n",
       "</style>\n",
       "<table border=\"1\" class=\"dataframe\">\n",
       "  <thead>\n",
       "    <tr style=\"text-align: right;\">\n",
       "      <th></th>\n",
       "      <th>A</th>\n",
       "      <th>B</th>\n",
       "      <th>C</th>\n",
       "      <th>K</th>\n",
       "    </tr>\n",
       "  </thead>\n",
       "  <tbody>\n",
       "    <tr>\n",
       "      <th>0</th>\n",
       "      <td>1A</td>\n",
       "      <td>1B</td>\n",
       "      <td>NaN</td>\n",
       "      <td>NaN</td>\n",
       "    </tr>\n",
       "    <tr>\n",
       "      <th>1</th>\n",
       "      <td>2A</td>\n",
       "      <td>2B</td>\n",
       "      <td>NaN</td>\n",
       "      <td>NaN</td>\n",
       "    </tr>\n",
       "  </tbody>\n",
       "</table>\n",
       "</div>"
      ],
      "text/plain": [
       "    A   B    C    K\n",
       "0  1A  1B  NaN  NaN\n",
       "1  2A  2B  NaN  NaN"
      ]
     },
     "execution_count": 17,
     "metadata": {},
     "output_type": "execute_result"
    }
   ],
   "source": [
    "pd.merge(df1,df2, on=['A'], how = 'left')"
   ]
  },
  {
   "cell_type": "code",
   "execution_count": 18,
   "id": "073d2034-861c-4fd4-ac01-1ccc92c92f46",
   "metadata": {},
   "outputs": [
    {
     "data": {
      "text/html": [
       "<div>\n",
       "<style scoped>\n",
       "    .dataframe tbody tr th:only-of-type {\n",
       "        vertical-align: middle;\n",
       "    }\n",
       "\n",
       "    .dataframe tbody tr th {\n",
       "        vertical-align: top;\n",
       "    }\n",
       "\n",
       "    .dataframe thead th {\n",
       "        text-align: right;\n",
       "    }\n",
       "</style>\n",
       "<table border=\"1\" class=\"dataframe\">\n",
       "  <thead>\n",
       "    <tr style=\"text-align: right;\">\n",
       "      <th></th>\n",
       "      <th>A</th>\n",
       "      <th>B</th>\n",
       "      <th>C</th>\n",
       "      <th>K</th>\n",
       "    </tr>\n",
       "  </thead>\n",
       "  <tbody>\n",
       "    <tr>\n",
       "      <th>0</th>\n",
       "      <td>3A</td>\n",
       "      <td>NaN</td>\n",
       "      <td>1C</td>\n",
       "      <td>1K</td>\n",
       "    </tr>\n",
       "    <tr>\n",
       "      <th>1</th>\n",
       "      <td>4A</td>\n",
       "      <td>NaN</td>\n",
       "      <td>2C</td>\n",
       "      <td>2K</td>\n",
       "    </tr>\n",
       "  </tbody>\n",
       "</table>\n",
       "</div>"
      ],
      "text/plain": [
       "    A    B   C   K\n",
       "0  3A  NaN  1C  1K\n",
       "1  4A  NaN  2C  2K"
      ]
     },
     "execution_count": 18,
     "metadata": {},
     "output_type": "execute_result"
    }
   ],
   "source": [
    "pd.merge(df1,df2, on=['A'], how = 'right')"
   ]
  },
  {
   "cell_type": "markdown",
   "id": "4ccef650-06f4-43f7-b63e-b381f93d555a",
   "metadata": {},
   "source": [
    "# Join\n",
    "\n",
    "La idea de este dataframe es combinar las columnas de dos dataframes indexados"
   ]
  },
  {
   "cell_type": "code",
   "execution_count": 19,
   "id": "ff1a2b0c-d3fb-4fd1-83f8-d3798988c497",
   "metadata": {},
   "outputs": [],
   "source": [
    "df1 = pd.DataFrame({'Z':['1Z', '2Z'],'B':['1B', '2B']})\n",
    "df2 = pd.DataFrame({'A':['3A', '4A'],'C':['1C', '2C'],'K':['1K', '2K']})"
   ]
  },
  {
   "cell_type": "code",
   "execution_count": 20,
   "id": "908051af-0562-4611-8543-a71925bf5f05",
   "metadata": {},
   "outputs": [
    {
     "data": {
      "text/html": [
       "<div>\n",
       "<style scoped>\n",
       "    .dataframe tbody tr th:only-of-type {\n",
       "        vertical-align: middle;\n",
       "    }\n",
       "\n",
       "    .dataframe tbody tr th {\n",
       "        vertical-align: top;\n",
       "    }\n",
       "\n",
       "    .dataframe thead th {\n",
       "        text-align: right;\n",
       "    }\n",
       "</style>\n",
       "<table border=\"1\" class=\"dataframe\">\n",
       "  <thead>\n",
       "    <tr style=\"text-align: right;\">\n",
       "      <th></th>\n",
       "      <th>Z</th>\n",
       "      <th>B</th>\n",
       "      <th>A</th>\n",
       "      <th>C</th>\n",
       "      <th>K</th>\n",
       "    </tr>\n",
       "  </thead>\n",
       "  <tbody>\n",
       "    <tr>\n",
       "      <th>0</th>\n",
       "      <td>1Z</td>\n",
       "      <td>1B</td>\n",
       "      <td>3A</td>\n",
       "      <td>1C</td>\n",
       "      <td>1K</td>\n",
       "    </tr>\n",
       "    <tr>\n",
       "      <th>1</th>\n",
       "      <td>2Z</td>\n",
       "      <td>2B</td>\n",
       "      <td>4A</td>\n",
       "      <td>2C</td>\n",
       "      <td>2K</td>\n",
       "    </tr>\n",
       "  </tbody>\n",
       "</table>\n",
       "</div>"
      ],
      "text/plain": [
       "    Z   B   A   C   K\n",
       "0  1Z  1B  3A  1C  1K\n",
       "1  2Z  2B  4A  2C  2K"
      ]
     },
     "execution_count": 20,
     "metadata": {},
     "output_type": "execute_result"
    }
   ],
   "source": [
    "df1.join(df2)"
   ]
  },
  {
   "cell_type": "markdown",
   "id": "df8893d5-3253-4eee-b410-67796ef4f916",
   "metadata": {},
   "source": [
    "# Entradas y salidas"
   ]
  },
  {
   "cell_type": "code",
   "execution_count": 21,
   "id": "c737e554-21fc-4d36-b32b-5ad5543df289",
   "metadata": {},
   "outputs": [],
   "source": [
    "df3 = df1.join(df2)"
   ]
  },
  {
   "cell_type": "code",
   "execution_count": 22,
   "id": "d591e802-bfd9-484a-b059-e554c7728b85",
   "metadata": {},
   "outputs": [],
   "source": [
    "df3.to_csv('nombre.csv') # index = false no pone los indices"
   ]
  },
  {
   "cell_type": "code",
   "execution_count": 23,
   "id": "31291783-9598-4d9b-9973-ba826ca5c6e6",
   "metadata": {},
   "outputs": [
    {
     "data": {
      "text/html": [
       "<div>\n",
       "<style scoped>\n",
       "    .dataframe tbody tr th:only-of-type {\n",
       "        vertical-align: middle;\n",
       "    }\n",
       "\n",
       "    .dataframe tbody tr th {\n",
       "        vertical-align: top;\n",
       "    }\n",
       "\n",
       "    .dataframe thead th {\n",
       "        text-align: right;\n",
       "    }\n",
       "</style>\n",
       "<table border=\"1\" class=\"dataframe\">\n",
       "  <thead>\n",
       "    <tr style=\"text-align: right;\">\n",
       "      <th></th>\n",
       "      <th>Unnamed: 0</th>\n",
       "      <th>Z</th>\n",
       "      <th>B</th>\n",
       "      <th>A</th>\n",
       "      <th>C</th>\n",
       "      <th>K</th>\n",
       "    </tr>\n",
       "  </thead>\n",
       "  <tbody>\n",
       "    <tr>\n",
       "      <th>0</th>\n",
       "      <td>0</td>\n",
       "      <td>1Z</td>\n",
       "      <td>1B</td>\n",
       "      <td>3A</td>\n",
       "      <td>1C</td>\n",
       "      <td>1K</td>\n",
       "    </tr>\n",
       "    <tr>\n",
       "      <th>1</th>\n",
       "      <td>1</td>\n",
       "      <td>2Z</td>\n",
       "      <td>2B</td>\n",
       "      <td>4A</td>\n",
       "      <td>2C</td>\n",
       "      <td>2K</td>\n",
       "    </tr>\n",
       "  </tbody>\n",
       "</table>\n",
       "</div>"
      ],
      "text/plain": [
       "   Unnamed: 0   Z   B   A   C   K\n",
       "0           0  1Z  1B  3A  1C  1K\n",
       "1           1  2Z  2B  4A  2C  2K"
      ]
     },
     "execution_count": 23,
     "metadata": {},
     "output_type": "execute_result"
    }
   ],
   "source": [
    "pd.read_csv('nombre.csv')"
   ]
  },
  {
   "cell_type": "code",
   "execution_count": null,
   "id": "e53d6dd3-5ff8-4be5-a7c3-dc580fe7eb24",
   "metadata": {},
   "outputs": [],
   "source": []
  }
 ],
 "metadata": {
  "kernelspec": {
   "display_name": "Python 3 (ipykernel)",
   "language": "python",
   "name": "python3"
  },
  "language_info": {
   "codemirror_mode": {
    "name": "ipython",
    "version": 3
   },
   "file_extension": ".py",
   "mimetype": "text/x-python",
   "name": "python",
   "nbconvert_exporter": "python",
   "pygments_lexer": "ipython3",
   "version": "3.10.4"
  }
 },
 "nbformat": 4,
 "nbformat_minor": 5
}
