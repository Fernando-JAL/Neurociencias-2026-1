{
 "cells": [
  {
   "cell_type": "code",
   "execution_count": 1,
   "id": "590ce1dd",
   "metadata": {},
   "outputs": [],
   "source": [
    "import pandas as pd\n",
    "import numpy as np"
   ]
  },
  {
   "cell_type": "code",
   "execution_count": 5,
   "id": "191f5ba7",
   "metadata": {},
   "outputs": [],
   "source": [
    "excel = pd.read_excel(r\"D:\\TDC.xlsx\", sheet_name=None)"
   ]
  },
  {
   "cell_type": "code",
   "execution_count": 6,
   "id": "c97adc24",
   "metadata": {},
   "outputs": [
    {
     "data": {
      "text/plain": [
       "dict"
      ]
     },
     "execution_count": 6,
     "metadata": {},
     "output_type": "execute_result"
    }
   ],
   "source": [
    "type(excel)"
   ]
  },
  {
   "cell_type": "code",
   "execution_count": 7,
   "id": "cbd978f1",
   "metadata": {},
   "outputs": [
    {
     "data": {
      "text/plain": [
       "dict_keys(['Santander', 'HSBC', 'Nu', 'Hoja1', 'CETES', 'BBVA2', 'BBVA1', 'Libertad', 'CGV', 'Préstamos', 'Rafting', 'Allianz', 'Presuputesto Ago'])"
      ]
     },
     "execution_count": 7,
     "metadata": {},
     "output_type": "execute_result"
    }
   ],
   "source": [
    "excel.keys()"
   ]
  },
  {
   "cell_type": "code",
   "execution_count": 8,
   "id": "cfef0ac4",
   "metadata": {},
   "outputs": [
    {
     "data": {
      "text/plain": [
       "pandas.core.frame.DataFrame"
      ]
     },
     "execution_count": 8,
     "metadata": {},
     "output_type": "execute_result"
    }
   ],
   "source": [
    "excel_nu = excel['Nu']\n",
    "type(excel_nu)"
   ]
  },
  {
   "cell_type": "code",
   "execution_count": 13,
   "id": "85a154d5",
   "metadata": {},
   "outputs": [],
   "source": [
    "excel_nu.columns = excel_nu.loc[0]"
   ]
  },
  {
   "cell_type": "code",
   "execution_count": 17,
   "id": "b778f0aa",
   "metadata": {
    "scrolled": true
   },
   "outputs": [
    {
     "data": {
      "text/html": [
       "<div>\n",
       "<style scoped>\n",
       "    .dataframe tbody tr th:only-of-type {\n",
       "        vertical-align: middle;\n",
       "    }\n",
       "\n",
       "    .dataframe tbody tr th {\n",
       "        vertical-align: top;\n",
       "    }\n",
       "\n",
       "    .dataframe thead th {\n",
       "        text-align: right;\n",
       "    }\n",
       "</style>\n",
       "<table border=\"1\" class=\"dataframe\">\n",
       "  <thead>\n",
       "    <tr style=\"text-align: right;\">\n",
       "      <th></th>\n",
       "      <th>Fecha</th>\n",
       "      <th>Descripción</th>\n",
       "      <th>Depósito</th>\n",
       "      <th>Retiro</th>\n",
       "      <th>Depósito</th>\n",
       "      <th>Retiro</th>\n",
       "      <th>Depósito</th>\n",
       "      <th>Retiro</th>\n",
       "      <th>Depósito</th>\n",
       "      <th>Retiro</th>\n",
       "      <th>mensualidad</th>\n",
       "      <th>capital</th>\n",
       "      <th>gastos</th>\n",
       "      <th>fondo</th>\n",
       "      <th>total</th>\n",
       "      <th>NaN</th>\n",
       "    </tr>\n",
       "  </thead>\n",
       "  <tbody>\n",
       "    <tr>\n",
       "      <th>1</th>\n",
       "      <td>2025-01-03 00:00:00</td>\n",
       "      <td>mensualidad</td>\n",
       "      <td>4500</td>\n",
       "      <td>NaN</td>\n",
       "      <td>NaN</td>\n",
       "      <td>NaN</td>\n",
       "      <td>3697.44</td>\n",
       "      <td>NaN</td>\n",
       "      <td>NaN</td>\n",
       "      <td>NaN</td>\n",
       "      <td>4500</td>\n",
       "      <td>0</td>\n",
       "      <td>3697.44</td>\n",
       "      <td>0</td>\n",
       "      <td>8197.44</td>\n",
       "      <td>NaN</td>\n",
       "    </tr>\n",
       "    <tr>\n",
       "      <th>2</th>\n",
       "      <td>2025-01-03 00:00:00</td>\n",
       "      <td>Ahorro-fondo</td>\n",
       "      <td>NaN</td>\n",
       "      <td>NaN</td>\n",
       "      <td>NaN</td>\n",
       "      <td>NaN</td>\n",
       "      <td>NaN</td>\n",
       "      <td>NaN</td>\n",
       "      <td>54368.05</td>\n",
       "      <td>NaN</td>\n",
       "      <td>4500</td>\n",
       "      <td>0</td>\n",
       "      <td>3697.44</td>\n",
       "      <td>54368.05</td>\n",
       "      <td>62565.49</td>\n",
       "      <td>NaN</td>\n",
       "    </tr>\n",
       "    <tr>\n",
       "      <th>3</th>\n",
       "      <td>2025-01-06 00:00:00</td>\n",
       "      <td>Retiro-mosquitero</td>\n",
       "      <td>NaN</td>\n",
       "      <td>NaN</td>\n",
       "      <td>NaN</td>\n",
       "      <td>NaN</td>\n",
       "      <td>NaN</td>\n",
       "      <td>NaN</td>\n",
       "      <td>NaN</td>\n",
       "      <td>4000</td>\n",
       "      <td>4500</td>\n",
       "      <td>0</td>\n",
       "      <td>3697.44</td>\n",
       "      <td>50368.05</td>\n",
       "      <td>58565.49</td>\n",
       "      <td>NaN</td>\n",
       "    </tr>\n",
       "  </tbody>\n",
       "</table>\n",
       "</div>"
      ],
      "text/plain": [
       "0                Fecha        Descripción Depósito  Retiro Depósito  Retiro  \\\n",
       "1  2025-01-03 00:00:00        mensualidad      4500    NaN       NaN    NaN   \n",
       "2  2025-01-03 00:00:00       Ahorro-fondo       NaN    NaN       NaN    NaN   \n",
       "3  2025-01-06 00:00:00  Retiro-mosquitero       NaN    NaN       NaN    NaN   \n",
       "\n",
       "0 Depósito  Retiro Depósito  Retiro mensualidad capital   gastos     fondo  \\\n",
       "1   3697.44    NaN       NaN    NaN        4500       0  3697.44         0   \n",
       "2       NaN    NaN  54368.05    NaN        4500       0  3697.44  54368.05   \n",
       "3       NaN    NaN       NaN   4000        4500       0  3697.44  50368.05   \n",
       "\n",
       "0     total  NaN  \n",
       "1   8197.44  NaN  \n",
       "2  62565.49  NaN  \n",
       "3  58565.49  NaN  "
      ]
     },
     "execution_count": 17,
     "metadata": {},
     "output_type": "execute_result"
    }
   ],
   "source": [
    "excel_nu.drop(0, axis=0, inplace=False).head(3)"
   ]
  },
  {
   "cell_type": "code",
   "execution_count": 18,
   "id": "b92af848",
   "metadata": {},
   "outputs": [
    {
     "ename": "ModuleNotFoundError",
     "evalue": "No module named 'nibabel'",
     "output_type": "error",
     "traceback": [
      "\u001b[1;31m---------------------------------------------------------------------------\u001b[0m",
      "\u001b[1;31mModuleNotFoundError\u001b[0m                       Traceback (most recent call last)",
      "Input \u001b[1;32mIn [18]\u001b[0m, in \u001b[0;36m<cell line: 1>\u001b[1;34m()\u001b[0m\n\u001b[1;32m----> 1\u001b[0m \u001b[38;5;28;01mimport\u001b[39;00m\u001b[38;5;250m \u001b[39m\u001b[38;5;21;01mnibabel\u001b[39;00m\u001b[38;5;250m \u001b[39m\u001b[38;5;28;01mas\u001b[39;00m\u001b[38;5;250m \u001b[39m\u001b[38;5;21;01mnib\u001b[39;00m\n",
      "\u001b[1;31mModuleNotFoundError\u001b[0m: No module named 'nibabel'"
     ]
    }
   ],
   "source": [
    "import nibabel as nib"
   ]
  },
  {
   "cell_type": "markdown",
   "id": "a5089112",
   "metadata": {},
   "source": [
    "# RMI\n",
    "\n",
    "https://openneuro.org/search/modality/mri?query=%7B%22modality_selected%22%3A%22mri%22%2C%22keywords%22%3A%5B%22ds000117%22%5D%7D"
   ]
  },
  {
   "cell_type": "code",
   "execution_count": null,
   "id": "abc8e41d",
   "metadata": {},
   "outputs": [],
   "source": [
    "import nibabel as nib\n",
    "import numpy as np\n",
    "\n",
    "# Ruta al archivo NIfTI\n",
    "ruta = \"ruta/a/tu_archivo.nii.gz\"\n",
    "\n",
    "# Cargar con nibabel\n",
    "img = nib.load(ruta)\n",
    "data = img.get_fdata()\n",
    "\n",
    "print(\"Dimensiones:\", data.shape)\n",
    "print(\"Tipo de dato:\", data.dtype)\n",
    "\n",
    "# Por ejemplo, inspeccionar un corte\n",
    "import matplotlib.pyplot as plt\n",
    "slice_index = data.shape[2] // 2\n",
    "plt.imshow(data[:, :, slice_index], cmap=\"gray\")\n",
    "plt.title(f\"Corte z = {slice_index}\")\n",
    "plt.colorbar()\n",
    "plt.show()\n"
   ]
  },
  {
   "cell_type": "code",
   "execution_count": null,
   "id": "3bee2edd",
   "metadata": {},
   "outputs": [],
   "source": [
    "import nibabel as nib\n",
    "import numpy as np\n",
    "import pandas as pd\n",
    "\n",
    "# 1. Cargar archivo NIfTI\n",
    "img = nib.load(\"mi_imagen.nii.gz\")   # o .nii\n",
    "data = img.get_fdata()               # numpy array (x, y, z)\n",
    "\n",
    "print(\"Forma de la imagen:\", data.shape)\n",
    "\n",
    "# 2. Obtener dimensiones\n",
    "nx, ny, nz = data.shape\n",
    "\n",
    "# 3. Generar coordenadas (x, y, z)\n",
    "x, y, z = np.meshgrid(\n",
    "    np.arange(nx),\n",
    "    np.arange(ny),\n",
    "    np.arange(nz),\n",
    "    indexing=\"ij\"\n",
    ")\n",
    "\n",
    "# 4. Aplanar todo\n",
    "df = pd.DataFrame({\n",
    "    \"x\": x.flatten(),\n",
    "    \"y\": y.flatten(),\n",
    "    \"z\": z.flatten(),\n",
    "    \"intensidad\": data.flatten()\n",
    "})\n",
    "\n",
    "# 5. Guardar a CSV\n",
    "df.to_csv(\"imagen_nifti.csv\", index=False)\n",
    "\n",
    "print(\"✅ Archivo CSV creado con columnas (x, y, z, intensidad)\")\n"
   ]
  },
  {
   "cell_type": "markdown",
   "id": "dc52279a",
   "metadata": {},
   "source": [
    "# EEG \n",
    "\n"
   ]
  },
  {
   "cell_type": "markdown",
   "id": "df24695d",
   "metadata": {},
   "source": [
    "Cómo se obtiene conectividad en EEG\n",
    "\n",
    "El EEG mide actividad eléctrica en el tiempo en cada canal/electrodo. Para estimar conectividad necesitas calcular alguna métrica de dependencia entre las señales de distintos electrodos o regiones.\n",
    "\n",
    "### Principales enfoques:\n",
    "\n",
    "1. Conectividad funcional (sin direccionalidad):\n",
    "\n",
    "    1. Correlación de Pearson → mide sincronía lineal entre pares de electrodos.\n",
    "\n",
    "    1. Coherencia espectral → mide relación en el dominio de frecuencia.\n",
    "\n",
    "    1. Phase Locking Value (PLV) → mide consistencia de fase entre señales.\n",
    "\n",
    "    1. Mutual Information → mide dependencia no lineal.\n",
    "\n",
    "1. Conectividad efectiva (con direccionalidad):\n",
    "\n",
    "    1. Granger Causality → estima influencia temporal de una señal sobre otra.\n",
    "\n",
    "    1. Transfer Entropy → mide flujos de información dirigidos.\n",
    "\n",
    "1. Conectividad basada en grafos:\n",
    "\n",
    "    1. Una vez que tienes la matriz (electrodos × electrodos), puedes aplicar teoría de grafos (medidas de grado, modularidad, eficiencia, hubs, etc.)."
   ]
  },
  {
   "cell_type": "markdown",
   "id": "15c144ba",
   "metadata": {},
   "source": [
    "pip install mne\n",
    "\n",
    "https://physionet.org/content/eegmat/1.0.0/"
   ]
  },
  {
   "cell_type": "code",
   "execution_count": null,
   "id": "df663c90",
   "metadata": {},
   "outputs": [],
   "source": [
    "import mne\n",
    "import numpy as np\n",
    "import matplotlib.pyplot as plt\n",
    "\n",
    "# -------------------------\n",
    "# 1. Descargar y cargar datos EEG de ejemplo\n",
    "# -------------------------\n",
    "data_path = mne.datasets.sample.data_path()\n",
    "raw_file = data_path + \"/MEG/sample/sample_audvis_raw.fif\"\n",
    "\n",
    "raw = mne.io.read_raw_fif(raw_file, preload=True)\n",
    "\n",
    "# Seleccionar solo EEG\n",
    "raw.pick_types(meg=False, eeg=True, eog=False)\n",
    "\n",
    "# -------------------------\n",
    "# 2. Filtrar en banda alfa (opcional, 8–13 Hz)\n",
    "# -------------------------\n",
    "raw.filter(8, 13)\n",
    "\n",
    "# -------------------------\n",
    "# 3. Crear épocas de 2s de duración\n",
    "# -------------------------\n",
    "events = mne.make_fixed_length_events(raw, id=1, start=0, duration=2.0)\n",
    "epochs = mne.Epochs(raw, events, event_id=1, tmin=0, tmax=2.0,\n",
    "                    baseline=None, preload=True)\n",
    "\n",
    "data = epochs.get_data()  # (n_epochs, n_channels, n_times)\n",
    "print(\"Forma de los datos (épocas, canales, tiempo):\", data.shape)\n",
    "\n",
    "# -------------------------\n",
    "# 4. Reorganizar datos para correlación\n",
    "# -------------------------\n",
    "n_epochs, n_channels, n_times = data.shape\n",
    "# Concatenar todas las épocas en el tiempo\n",
    "data_concat = data.transpose(1, 0, 2).reshape(n_channels, -1)  # (n_channels, n_epochs*n_times)\n",
    "\n",
    "# -------------------------\n",
    "# 5. Calcular correlación de Pearson entre canales\n",
    "# -------------------------\n",
    "corr_matrix = np.corrcoef(data_concat)\n",
    "\n",
    "print(\"Matriz de conectividad (Pearson):\", corr_matrix.shape)\n",
    "\n",
    "# -------------------------\n",
    "# 6. Visualizar la matriz\n",
    "# -------------------------\n",
    "plt.figure(figsize=(8, 6))\n",
    "plt.imshow(corr_matrix, cmap=\"coolwarm\", vmin=-1, vmax=1)\n",
    "plt.colorbar(label=\"Correlación de Pearson\")\n",
    "plt.title(\"Matriz de Conectividad EEG (Correlación de Pearson)\")\n",
    "plt.xlabel(\"Canales EEG\")\n",
    "plt.ylabel(\"Canales EEG\")\n",
    "plt.show()\n"
   ]
  },
  {
   "cell_type": "code",
   "execution_count": null,
   "id": "1bf12011",
   "metadata": {},
   "outputs": [],
   "source": [
    "import mne\n",
    "\n",
    "# Ruta al archivo EDF\n",
    "edf_file = \"./data/S001R01.edf\"\n",
    "\n",
    "# Cargar datos EEG\n",
    "raw = mne.io.read_raw_edf(edf_file, preload=True)\n",
    "print(raw.info)\n",
    "\n",
    "# Ver los nombres de los canales\n",
    "print(raw.ch_names)\n",
    "\n",
    "# Visualizar los primeros segundos\n",
    "raw.plot(duration=10, n_channels=10)\n",
    "\n",
    "# Filtrar en banda alfa (8-13 Hz)\n",
    "raw.filter(8, 13)\n",
    "\n",
    "# Seleccionar solo canales EEG (ignorando EOG, EMG si los hay)\n",
    "raw.pick_types(eeg=True, eog=False)\n",
    "\n",
    "# Dividir en ventanas de 2 segundos\n",
    "events = mne.make_fixed_length_events(raw, id=1, start=0, duration=2.0)\n",
    "epochs = mne.Epochs(raw, events, event_id=1, tmin=0, tmax=2.0, baseline=None, preload=True)\n",
    "\n",
    "data = epochs.get_data()  # (n_epochs, n_channels, n_times)\n",
    "print(\"Forma de los datos (épocas, canales, tiempo):\", data.shape)\n",
    "\n",
    "import numpy as np\n",
    "import matplotlib.pyplot as plt\n",
    "\n",
    "# Concatenar todas las épocas en el tiempo\n",
    "n_epochs, n_channels, n_times = data.shape\n",
    "data_concat = data.transpose(1, 0, 2).reshape(n_channels, -1)  # (n_channels, n_epochs*n_times)\n",
    "\n",
    "# Calcular correlación de Pearson entre canales\n",
    "corr_matrix = np.corrcoef(data_concat)\n",
    "\n",
    "# Visualizar la matriz\n",
    "plt.figure(figsize=(8, 6))\n",
    "plt.imshow(corr_matrix, cmap=\"coolwarm\", vmin=-1, vmax=1)\n",
    "plt.colorbar(label=\"Correlación de Pearson\")\n",
    "plt.title(\"Matriz de conectividad EEG (correlación)\")\n",
    "plt.xlabel(\"Canales EEG\")\n",
    "plt.ylabel(\"Canales EEG\")\n",
    "plt.show()\n",
    "\n"
   ]
  },
  {
   "cell_type": "code",
   "execution_count": null,
   "id": "ea268d4c",
   "metadata": {},
   "outputs": [],
   "source": [
    "import mne\n",
    "import numpy as np\n",
    "import matplotlib.pyplot as plt\n",
    "from mne.connectivity import spectral_connectivity\n",
    "\n",
    "# -------------------------\n",
    "# 1. Cargar EEG de ejemplo (EDF de PhysioNet)\n",
    "# -------------------------\n",
    "edf_file = \"./data/S001R01.edf\"  # Cambia la ruta a tu archivo\n",
    "raw = mne.io.read_raw_edf(edf_file, preload=True)\n",
    "\n",
    "# Seleccionar solo canales EEG\n",
    "raw.pick_types(eeg=True, eog=False)\n",
    "\n",
    "# Filtrar en banda alfa (8-13 Hz)\n",
    "raw.filter(8, 13)\n",
    "\n",
    "# -------------------------\n",
    "# 2. Crear épocas de 2s\n",
    "# -------------------------\n",
    "events = mne.make_fixed_length_events(raw, id=1, start=0, duration=2.0)\n",
    "epochs = mne.Epochs(raw, events, event_id=1, tmin=0, tmax=2.0,\n",
    "                    baseline=None, preload=True)\n",
    "\n",
    "data = epochs.get_data()  # (n_epochs, n_channels, n_times)\n",
    "n_epochs, n_channels, n_times = data.shape\n",
    "\n",
    "# -------------------------\n",
    "# 3. Conectividad Pearson\n",
    "# -------------------------\n",
    "data_concat = data.transpose(1, 0, 2).reshape(n_channels, -1)\n",
    "corr_pearson = np.corrcoef(data_concat)\n",
    "\n",
    "# -------------------------\n",
    "# 4. Conectividad Coherencia espectral (método 'coh')\n",
    "# -------------------------\n",
    "con_coh, freqs, times, n_epochs_out, n_tapers = spectral_connectivity(\n",
    "    data, method='coh', mode='fourier',\n",
    "    fmin=8, fmax=13, sfreq=raw.info['sfreq'], verbose=False\n",
    ")\n",
    "# Elegimos la primera frecuencia (casi banda alfa promedio)\n",
    "coh_matrix = con_coh[:, :, 0]\n",
    "\n",
    "# -------------------------\n",
    "# 5. Conectividad PLV (Phase Locking Value)\n",
    "# -------------------------\n",
    "con_plv, freqs, times, n_epochs_out, n_tapers = spectral_connectivity(\n",
    "    data, method='plv', mode='fourier',\n",
    "    fmin=8, fmax=13, sfreq=raw.info['sfreq'], verbose=False\n",
    ")\n",
    "plv_matrix = con_plv[:, :, 0]\n",
    "\n",
    "# -------------------------\n",
    "# 6. Visualizar matrices\n",
    "# -------------------------\n",
    "matrices = [corr_pearson, coh_matrix, plv_matrix]\n",
    "titles = [\"Pearson\", \"Coherencia Alfa\", \"PLV\"]\n",
    "\n",
    "plt.figure(figsize=(18, 5))\n",
    "for i, (matrix, title) in enumerate(zip(matrices, titles)):\n",
    "    plt.subplot(1, 3, i+1)\n",
    "    plt.imshow(matrix, cmap=\"coolwarm\", vmin=-1, vmax=1)\n",
    "    plt.colorbar(label=\"Valor de conectividad\")\n",
    "    plt.title(title)\n",
    "    plt.xlabel(\"Canales EEG\")\n",
    "    plt.ylabel(\"Canales EEG\")\n",
    "plt.tight_layout()\n",
    "plt.show()\n"
   ]
  },
  {
   "cell_type": "markdown",
   "id": "4fe25268",
   "metadata": {},
   "source": [
    "| Método                        | Qué mide                                             | Rango típico | Simetría     | Comentario                                                                  |\n",
    "| ----------------------------- | ---------------------------------------------------- | ------------ | ------------ | --------------------------------------------------------------------------- |\n",
    "| **Correlación de Pearson**    | Dependencia lineal entre señales                     | -1 a 1       | Simétrica    | Muy simple, mide similitud global en el tiempo.                             |\n",
    "| **Coherencia espectral**      | Relación de amplitud y fase en frecuencia específica | 0 a 1        | Simétrica    | Dependencia en una banda de frecuencia; muy usada en EEG.                   |\n",
    "| **Phase Locking Value (PLV)** | Sincronización de fase entre señales                 | 0 a 1        | Simétrica    | Sensible a la fase, ignora amplitud. Muy útil para oscilaciones cerebrales. |\n",
    "| **Granger Causality**         | Influencia temporal direccional (causalidad)         | Varía        | No simétrica | Detecta qué señal predice a otra; genera matriz dirigida.                   |\n",
    "| **Mutual Information**        | Dependencia lineal o no lineal                       | ≥0           | Simétrica    | Captura relaciones más complejas que Pearson.                               |\n",
    "| **Transfer Entropy**          | Influencia direccional no lineal                     | ≥0           | No simétrica | Similar a Granger pero captura relaciones no lineales.                      |\n"
   ]
  },
  {
   "cell_type": "markdown",
   "id": "97f7e8c0",
   "metadata": {},
   "source": [
    "🔹 Implicaciones\n",
    "\n",
    "Si usas coherencia, los valores reflejarán sintonía en frecuencias, no necesariamente correlación temporal directa.\n",
    "\n",
    "Si usas PLV, obtendrás una matriz que muestra solo coherencia de fase, independiente de amplitud.\n",
    "\n",
    "Si usas Granger o Transfer Entropy, obtendrás matrices dirigidas, donde la conectividad (i→j) no es igual a (j→i).\n",
    "\n",
    "Solo la correlación de Pearson y algunas métricas de dependencia lineal simple te darán matrices muy similares en estructura, pero los números exactos difieren."
   ]
  },
  {
   "cell_type": "code",
   "execution_count": null,
   "id": "c893e62f",
   "metadata": {},
   "outputs": [],
   "source": []
  }
 ],
 "metadata": {
  "kernelspec": {
   "display_name": "Python 3 (ipykernel)",
   "language": "python",
   "name": "python3"
  },
  "language_info": {
   "codemirror_mode": {
    "name": "ipython",
    "version": 3
   },
   "file_extension": ".py",
   "mimetype": "text/x-python",
   "name": "python",
   "nbconvert_exporter": "python",
   "pygments_lexer": "ipython3",
   "version": "3.9.7"
  }
 },
 "nbformat": 4,
 "nbformat_minor": 5
}
