{
 "cells": [
  {
   "cell_type": "markdown",
   "id": "b1c96125-d9cd-43d3-8cec-4697fcef6524",
   "metadata": {},
   "source": [
    "## NetworkX\n",
    "- correlación de Pearson, coherencia espectral y face locking value --> para construir matriz de conectividad"
   ]
  },
  {
   "cell_type": "code",
   "execution_count": 1,
   "id": "fdc8edea-6896-4185-993b-e164493368df",
   "metadata": {},
   "outputs": [],
   "source": [
    "import networkx as nx"
   ]
  },
  {
   "cell_type": "code",
   "execution_count": 2,
   "id": "ff17871a-012e-45fd-ae37-33bd4449ddd7",
   "metadata": {},
   "outputs": [],
   "source": [
    "\n",
    "G = nx.Graph()"
   ]
  },
  {
   "cell_type": "markdown",
   "id": "f165aecb-628b-4c08-89ee-e8f54149255f",
   "metadata": {},
   "source": [
    "nodes --> nodos\n",
    "\n",
    "edges --> aristas"
   ]
  },
  {
   "cell_type": "code",
   "execution_count": 3,
   "id": "71210a82-12b3-4a36-aac1-b6da8acde07b",
   "metadata": {},
   "outputs": [
    {
     "data": {
      "text/plain": [
       "(NodeView(()), EdgeView([]))"
      ]
     },
     "execution_count": 3,
     "metadata": {},
     "output_type": "execute_result"
    }
   ],
   "source": [
    "G.nodes(), G.edges()"
   ]
  },
  {
   "cell_type": "code",
   "execution_count": 4,
   "id": "4772df7e-3b88-4681-bc7b-5dd40a6af795",
   "metadata": {},
   "outputs": [],
   "source": [
    "# definir nuestros nodos\n",
    "G.add_nodes_from([ \"A\", \"B\", \"C\", \"D\", \"E\" ])"
   ]
  },
  {
   "cell_type": "code",
   "execution_count": 5,
   "id": "01d4ef25-7f21-4ea5-af32-6515071644de",
   "metadata": {},
   "outputs": [
    {
     "data": {
      "text/plain": [
       "(NodeView(('A', 'B', 'C', 'D', 'E')), EdgeView([]))"
      ]
     },
     "execution_count": 5,
     "metadata": {},
     "output_type": "execute_result"
    }
   ],
   "source": [
    "\n",
    "G.nodes(), G.edges()"
   ]
  },
  {
   "cell_type": "code",
   "execution_count": null,
   "id": "e765e686-19a9-48b2-bf40-517d5a4ab626",
   "metadata": {},
   "outputs": [],
   "source": [
    "\n",
    "G.add_edges_from([ (\"B\", \"C\"), (\"C\", \"A\"), (\"D\", \"E\") ])"
   ]
  }
 ],
 "metadata": {
  "kernelspec": {
   "display_name": "Python 3 (ipykernel)",
   "language": "python",
   "name": "python3"
  },
  "language_info": {
   "codemirror_mode": {
    "name": "ipython",
    "version": 3
   },
   "file_extension": ".py",
   "mimetype": "text/x-python",
   "name": "python",
   "nbconvert_exporter": "python",
   "pygments_lexer": "ipython3",
   "version": "3.14.0"
  }
 },
 "nbformat": 4,
 "nbformat_minor": 5
}
