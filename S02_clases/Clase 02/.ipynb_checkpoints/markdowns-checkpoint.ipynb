{
 "cells": [
  {
   "cell_type": "markdown",
   "id": "915dd9da-8569-425b-bee4-35965d096e4f",
   "metadata": {},
   "source": [
    "# tÍTULO\n",
    "## Subtítulo\n",
    "### CACACA"
   ]
  },
  {
   "cell_type": "markdown",
   "id": "0efd63e5-dfdd-43a7-960b-baf79a21bf7d",
   "metadata": {},
   "source": [
    "## Listas\n",
    "\n",
    "- item 1\n",
    "- item 2\n",
    "- item 3\n",
    "\n",
    "1. Numero 1\n",
    "2. Numero 2\n",
    "   1. Subnumero 2\n",
    "       1. Dario\n",
    "           2. Armas\n",
    "4. Número 3"
   ]
  },
  {
   "cell_type": "code",
   "execution_count": 6,
   "id": "6d5743bd-f8b0-4205-aa53-b1052019d827",
   "metadata": {},
   "outputs": [
    {
     "data": {
      "text/plain": [
       "10"
      ]
     },
     "execution_count": 6,
     "metadata": {},
     "output_type": "execute_result"
    }
   ],
   "source": []
  },
  {
   "cell_type": "markdown",
   "id": "52fba9f6-3387-4abe-b08f-8b08d2074c17",
   "metadata": {},
   "source": [
    "**texto**"
   ]
  },
  {
   "cell_type": "markdown",
   "id": "c3d3d8fb-0afa-49da-ba32-2f614697d10a",
   "metadata": {},
   "source": [
    "_Nicole no tiene a Rodrigo en sus contactos_"
   ]
  },
  {
   "cell_type": "markdown",
   "id": "53a41f86-3b47-4db8-a531-62652365e884",
   "metadata": {},
   "source": [
    "esq + a celda arriba y esq + b celda abajo"
   ]
  },
  {
   "cell_type": "markdown",
   "id": "b914318f-71ca-4e98-aa11-9ac97b7efabc",
   "metadata": {},
   "source": [
    "## Diccinario"
   ]
  },
  {
   "cell_type": "code",
   "execution_count": 16,
   "id": "1c175994-340a-4046-97d3-dc82e6846fb2",
   "metadata": {},
   "outputs": [],
   "source": [
    "Diccionary= {'llave' : 'valor', 'llave2' : 'valor2', 'cosa': 5, 'otra cosa': [3, 2, 'k'], 'llave 3': (1, 2, '1')}"
   ]
  },
  {
   "cell_type": "code",
   "execution_count": 18,
   "id": "b7f2a8ff-e711-4a42-aed8-d0f7a70dee3b",
   "metadata": {},
   "outputs": [
    {
     "data": {
      "text/plain": [
       "{'llave': 'valor',\n",
       " 'llave2': 'valor2',\n",
       " 'cosa': 5,\n",
       " 'otra cosa': [3, 2, 'k'],\n",
       " 'llave 3': (1, 2, '1')}"
      ]
     },
     "execution_count": 18,
     "metadata": {},
     "output_type": "execute_result"
    }
   ],
   "source": [
    "Diccionary"
   ]
  },
  {
   "cell_type": "code",
   "execution_count": 20,
   "id": "038bcd5d-c3ee-4361-acab-95dd60b717ec",
   "metadata": {},
   "outputs": [
    {
     "data": {
      "text/plain": [
       "6"
      ]
     },
     "execution_count": 20,
     "metadata": {},
     "output_type": "execute_result"
    }
   ],
   "source": [
    "Diccionary['cosa'] + 1"
   ]
  },
  {
   "cell_type": "code",
   "execution_count": null,
   "id": "f27b98e9-b40c-446c-a40e-ffe1510e3caf",
   "metadata": {},
   "outputs": [],
   "source": []
  }
 ],
 "metadata": {
  "kernelspec": {
   "display_name": "Python 3 (ipykernel)",
   "language": "python",
   "name": "python3"
  },
  "language_info": {
   "codemirror_mode": {
    "name": "ipython",
    "version": 3
   },
   "file_extension": ".py",
   "mimetype": "text/x-python",
   "name": "python",
   "nbconvert_exporter": "python",
   "pygments_lexer": "ipython3",
   "version": "3.10.4"
  }
 },
 "nbformat": 4,
 "nbformat_minor": 5
}
