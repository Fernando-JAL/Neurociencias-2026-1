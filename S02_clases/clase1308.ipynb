   "salidas": [],
   "fuente":[
    "diccionario = {'llave' : 'valor' , 'llave2' : 'valor2', 'cosa' : 5, 'otra cosa' : [1, 2, 3], 'llave 3' : (1, 2, 3) }"
   ]
  },
  {
   "tipo_de_celda":"código",
   "número_de_ejecuciones":12,
   "identificación":"9f1e65bf-73f1-4842-aff2-78beb6ea01b0",
   "metadatos": {},
   "salidas":[
    {
     "datos": {
      "texto/sin formato":[
       "{'llave': 'valor',\norte",
       "'llave2': 'valor2',\norte",
       "'cosa': 5,\norte",
       "'otra cosa': [1, 2, 3],\norte",
       "'llave 3': (1, 2, 3)}"
      ]
     },
     "número_de_ejecuciones":12,
     "metadatos": {},
     "tipo_de_salida":"resultado_de_ejecución"
    }
   ],
   "fuente":[
    "diccionario"
   ]
  },
  {
   "tipo_de_celda":"código",
   "número_de_ejecuciones":14,
   "identificación":"bb6b2cbe-935a-4bc6-af1c-89de542b0b9a",
   "metadatos": {},
   "salidas":[
    {
     "datos": {
      "texto/sin formato":[
       "6"
      ]
     },
     "número_de_ejecuciones":14,
     "metadatos": {},
     "tipo_de_salida":"resultado_de_ejecución"
    }
   ],
   "fuente":[
    "diccionario['cosa'] + 1"
   ]
  },
  {
   "tipo_de_celda":"código",
   "número_de_ejecuciones":4,
   "identificación":"640ba088-c529-4935-a6e2-8a05d70d407c",
   "metadatos": {},
   "salidas": [],
   "fuente":[
    "casa = 7"
   ]
  },
  {
   "tipo_de_celda":"código",
   "número_de_ejecuciones":2,
   "identificación":"a3a40cb8-3f63-4c37-a2e0-801529958a37",
   "metadatos": {},
   "salidas": [],
   "fuente":[
    "b=8"
   ]
  },
  {
   "tipo_de_celda":"código",
   "número_de_ejecuciones":5,
   "identificación":"a6de895e-bd4a-40f4-8e11-e35e60e4c758",
   "metadatos": {},
   "salidas":[
    {
     "datos": {
      "texto/sin formato":[
       "7"
      ]
     },
     "número_de_ejecuciones":5,
     "metadatos": {},
     "tipo_de_salida":"resultado_de_ejecución"
    }
   ],
   "fuente":[
    "casa"
   ]
  },
  {
   "tipo_de_celda":"código",
   "número_de_ejecuciones":nulo,
   "identificación":"7304e152-66b8-4476-9bb8-fc647816110c",
   "metadatos": {},
   "salidas": [],
   "fuente": []
  }
],
 "metadatos": {
  "especificación del núcleo": {
   "nombre para mostrar":"Python 3 (ipykernel)",
   "idioma":"pitón",
   "nombre":"Python3"
  },
  "información del idioma": {
   "modo codemirror": {
    "nombre":"ipython",
    "versión":3
   },
   "extensión_de_archivo":".py",
   "tipo MIME":"texto/x-python",
   "nombre":"pitón",
   "nbconvert_exporter":"pitón",
   "analizador léxico de pigmentos":"ipython3",
   "versión":"3.13.6"
  }
},
 "nbformat":4,
 "nbformat_minor":5
}
