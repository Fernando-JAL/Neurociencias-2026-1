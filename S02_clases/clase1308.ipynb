{
 "cells": [
  {
   "cell_type": "code",
   "execution_count": 16,
   "id": "1473f9e0-9485-4679-8c65-e4722ad1fcc7",
   "metadata": {},
   "outputs": [
    {
     "data": {
      "text/plain": [
       "'# titulo\\n'"
      ]
     },
     "execution_count": 16,
     "metadata": {},
     "output_type": "execute_result"
    }
   ],
   "source": [
    "\"# titulo\\n\""
   ]
  },
  {
   "cell_type": "code",
   "execution_count": 17,
   "id": "c56a897f-4283-4032-8419-7c5636d159f7",
   "metadata": {},
   "outputs": [
    {
     "data": {
      "text/plain": [
       "('## subtítulo\\norte',)"
      ]
     },
     "execution_count": 17,
     "metadata": {},
     "output_type": "execute_result"
    }
   ],
   "source": [
    "\"## subtítulo\\norte\","
   ]
  },
  {
   "cell_type": "code",
   "execution_count": null,
   "id": "eb7cff51-ece2-465c-a238-9595d7947644",
   "metadata": {},
   "outputs": [],
   "source": []
  },
  {
   "cell_type": "code",
   "execution_count": null,
   "id": "6f3e8ad4-fbc5-478a-a605-407aefdf1708",
   "metadata": {},
   "outputs": [],
   "source": []
  },
  {
   "cell_type": "code",
   "execution_count": null,
   "id": "e5f01156-048a-441d-b5d6-aa964732937d",
   "metadata": {},
   "outputs": [],
   "source": []
  },
  {
   "cell_type": "code",
   "execution_count": null,
   "id": "f7d4de53-c2a1-4ae6-8ef6-820da1ec9eeb",
   "metadata": {},
   "outputs": [],
   "source": []
  },
  {
   "cell_type": "code",
   "execution_count": null,
   "id": "c89547c1-5587-47d5-a88e-3f2458bae77a",
   "metadata": {},
   "outputs": [],
   "source": []
  }
 ],
 "metadata": {
  "kernelspec": {
   "display_name": "Python 3 (ipykernel)",
   "language": "python",
   "name": "python3"
  },
  "language_info": {
   "codemirror_mode": {
    "name": "ipython",
    "version": 3
   },
   "file_extension": ".py",
   "mimetype": "text/x-python",
   "name": "python",
   "nbconvert_exporter": "python",
   "pygments_lexer": "ipython3",
   "version": "3.10.4"
  }
 },
 "nbformat": 4,
 "nbformat_minor": 5
}
