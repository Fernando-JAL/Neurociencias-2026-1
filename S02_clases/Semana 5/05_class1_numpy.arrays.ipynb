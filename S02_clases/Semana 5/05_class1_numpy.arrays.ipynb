{
 "cells": [
  {
   "cell_type": "markdown",
   "id": "0c339068-e277-4069-a95f-aef4a4e9c766",
   "metadata": {},
   "source": [
    "# "
   ]
  },
  {
   "cell_type": "code",
   "execution_count": 3,
   "id": "f0306705-9644-48ff-9327-b5da75b941c4",
   "metadata": {},
   "outputs": [],
   "source": [
    "import numpy as np"
   ]
  },
  {
   "cell_type": "code",
   "execution_count": 6,
   "id": "01b32125-e855-4b99-9f43-e76732ae3278",
   "metadata": {},
   "outputs": [
    {
     "name": "stdout",
     "output_type": "stream",
     "text": [
      "value= 5, data type = <class 'numpy.ndarray'>\n"
     ]
    }
   ],
   "source": [
    "# convertir datos a arreglos\n",
    "value=np.array(5) #si fuese lista seria []\n",
    "print (f\"value= {value}, data type = {type(value)}\")"
   ]
  },
  {
   "cell_type": "code",
   "execution_count": 11,
   "id": "0cde4dac-b187-41e3-a363-a744528a5216",
   "metadata": {},
   "outputs": [
    {
     "data": {
      "text/plain": [
       "array([-5, -4, -3, -2])"
      ]
     },
     "execution_count": 11,
     "metadata": {},
     "output_type": "execute_result"
    }
   ],
   "source": [
    "np.array(range(-7,6))[2:6] "
   ]
  },
  {
   "cell_type": "code",
   "execution_count": 14,
   "id": "004e9964-cac5-4d14-afab-6daf02c2246f",
   "metadata": {},
   "outputs": [
    {
     "data": {
      "text/plain": [
       "(array([0, 1, 2, 3, 4]), array([-10,  -9,  -8,  -7,  -6]))"
      ]
     },
     "execution_count": 14,
     "metadata": {},
     "output_type": "execute_result"
    }
   ],
   "source": [
    "a,b = np.arange(5), np.arange (-10,-5)\n",
    "a,b"
   ]
  },
  {
   "cell_type": "code",
   "execution_count": 16,
   "id": "8bda38dd-38bb-4873-ba8d-c08a0c741ccd",
   "metadata": {},
   "outputs": [
    {
     "data": {
      "text/plain": [
       "array([18, 19, 20, 21, 22])"
      ]
     },
     "execution_count": 16,
     "metadata": {},
     "output_type": "execute_result"
    }
   ],
   "source": [
    "# ejemplos de suma, resta, multiplicacion, division y modulo de los arrays\n",
    "b-a\n",
    "b/3\n",
    "a + 18"
   ]
  },
  {
   "cell_type": "code",
   "execution_count": 19,
   "id": "61d1c1bf-32a6-4619-a85d-3a6b873b17e9",
   "metadata": {},
   "outputs": [
    {
     "name": "stderr",
     "output_type": "stream",
     "text": [
      "C:\\Users\\Admin\\AppData\\Local\\Temp\\ipykernel_7196\\261954055.py:1: RuntimeWarning: divide by zero encountered in divide\n",
      "  1/a\n"
     ]
    },
    {
     "data": {
      "text/plain": [
       "array([       inf, 1.        , 0.5       , 0.33333333, 0.25      ])"
      ]
     },
     "execution_count": 19,
     "metadata": {},
     "output_type": "execute_result"
    }
   ],
   "source": [
    "1/a"
   ]
  },
  {
   "cell_type": "code",
   "execution_count": 18,
   "id": "f5fab4e4-1a74-4dcb-bbc6-fe3008d7e338",
   "metadata": {},
   "outputs": [
    {
     "name": "stderr",
     "output_type": "stream",
     "text": [
      "C:\\Users\\Admin\\AppData\\Local\\Temp\\ipykernel_7196\\1878905493.py:1: RuntimeWarning: divide by zero encountered in divide\n",
      "  b ** (1/a)\n",
      "C:\\Users\\Admin\\AppData\\Local\\Temp\\ipykernel_7196\\1878905493.py:1: RuntimeWarning: invalid value encountered in power\n",
      "  b ** (1/a)\n"
     ]
    },
    {
     "data": {
      "text/plain": [
       "array([inf, -9., nan, nan, nan])"
      ]
     },
     "execution_count": 18,
     "metadata": {},
     "output_type": "execute_result"
    }
   ],
   "source": [
    "b ** (1/a) # nan:non a number. "
   ]
  },
  {
   "cell_type": "code",
   "execution_count": 23,
   "id": "b9855bf0-210a-4a6d-84af-a2b229d141c4",
   "metadata": {},
   "outputs": [
    {
     "data": {
      "text/plain": [
       "-2.8284271247461903"
      ]
     },
     "execution_count": 23,
     "metadata": {},
     "output_type": "execute_result"
    }
   ],
   "source": [
    "-8**(1/2)"
   ]
  },
  {
   "cell_type": "code",
   "execution_count": 25,
   "id": "ed0c61b3-0fca-4ac3-b0c0-27580603831f",
   "metadata": {},
   "outputs": [
    {
     "data": {
      "text/plain": [
       "array([ 5, 10])"
      ]
     },
     "execution_count": 25,
     "metadata": {},
     "output_type": "execute_result"
    }
   ],
   "source": [
    "vec=np.array([5, 10 ])\n",
    "vec"
   ]
  },
  {
   "cell_type": "code",
   "execution_count": 30,
   "id": "65f1c2a8-6574-4527-9d76-e508e20352f7",
   "metadata": {},
   "outputs": [
    {
     "data": {
      "text/plain": [
       "array([[ 4, -7],\n",
       "       [ 1,  2]])"
      ]
     },
     "execution_count": 30,
     "metadata": {},
     "output_type": "execute_result"
    }
   ],
   "source": [
    "vec.transpose()"
   ]
  },
  {
   "cell_type": "code",
   "execution_count": 32,
   "id": "74bd530d-46e4-4349-a92c-469efb5b9e98",
   "metadata": {},
   "outputs": [
    {
     "data": {
      "text/plain": [
       "(array([[ 4,  1],\n",
       "        [-7,  2]]),\n",
       " array([[ 4, -7],\n",
       "        [ 1,  2]]),\n",
       " array([[ 4, -7],\n",
       "        [ 1,  2]]))"
      ]
     },
     "execution_count": 32,
     "metadata": {},
     "output_type": "execute_result"
    }
   ],
   "source": [
    "vec2D= np.array([[4,1],[-7,2]])\n",
    "vec2D,vec2D.transpose(), vec2D.T"
   ]
  },
  {
   "cell_type": "code",
   "execution_count": 33,
   "id": "f172921b-f4dd-412a-a8d4-4c0970153de6",
   "metadata": {},
   "outputs": [
    {
     "data": {
      "text/plain": [
       "(array([[1, 2],\n",
       "        [3, 4]]),\n",
       " array([[ 4,  1],\n",
       "        [-7,  2]]))"
      ]
     },
     "execution_count": 33,
     "metadata": {},
     "output_type": "execute_result"
    }
   ],
   "source": [
    "vec1 =np.array([[1,2],[3,4]])\n",
    "vec1,vec2D"
   ]
  },
  {
   "cell_type": "code",
   "execution_count": 35,
   "id": "2ea1cf58-4448-4118-b173-8eef4d522be8",
   "metadata": {},
   "outputs": [],
   "source": [
    "resultado= vec1 @ vec2D # multiplicacion matricial como matematicamente es enseñada"
   ]
  },
  {
   "cell_type": "code",
   "execution_count": 39,
   "id": "04e219ea-835f-45b8-846e-2b337ef075d7",
   "metadata": {},
   "outputs": [
    {
     "data": {
      "text/plain": [
       "np.int64(-16)"
      ]
     },
     "execution_count": 39,
     "metadata": {},
     "output_type": "execute_result"
    }
   ],
   "source": [
    "resultado[1][0] #slicing"
   ]
  },
  {
   "cell_type": "code",
   "execution_count": 40,
   "id": "8089a36d-df38-454c-a946-90b837f0be28",
   "metadata": {},
   "outputs": [
    {
     "data": {
      "text/plain": [
       "array([[ 0,  5, 10],\n",
       "       [15, 20, 25],\n",
       "       [99, 35, 40]])"
      ]
     },
     "execution_count": 40,
     "metadata": {},
     "output_type": "execute_result"
    }
   ],
   "source": [
    "matriz= np.array ([[0,5,10],[15,20,25],[99,35,40]])\n",
    "matriz"
   ]
  },
  {
   "cell_type": "code",
   "execution_count": 49,
   "id": "3db28b9f-4fed-41aa-a74a-65429950f471",
   "metadata": {},
   "outputs": [
    {
     "data": {
      "text/plain": [
       "array([[15, 20, 25],\n",
       "       [99, 35, 40]])"
      ]
     },
     "execution_count": 49,
     "metadata": {},
     "output_type": "execute_result"
    }
   ],
   "source": [
    "matriz[1:]"
   ]
  },
  {
   "cell_type": "code",
   "execution_count": 50,
   "id": "e441a500-8027-4e62-b70c-4ac739db9d0e",
   "metadata": {},
   "outputs": [],
   "source": [
    "# tarea:  sacar 2da columna "
   ]
  },
  {
   "cell_type": "code",
   "execution_count": 51,
   "id": "b8096a3d-5467-4c27-a252-fa621dd439f9",
   "metadata": {},
   "outputs": [],
   "source": [
    "matriz[1][0]=-20"
   ]
  },
  {
   "cell_type": "code",
   "execution_count": 53,
   "id": "2773ff66-8161-4efe-b05e-096b4f684690",
   "metadata": {},
   "outputs": [
    {
     "data": {
      "text/plain": [
       "array([[0.07785677, 0.66355978, 0.78497776],\n",
       "       [0.41007985, 0.05938325, 0.47977561],\n",
       "       [0.34631494, 0.69337198, 0.72139251],\n",
       "       [0.65177619, 0.51803688, 0.75807141],\n",
       "       [0.7408112 , 0.25209722, 0.55973923]])"
      ]
     },
     "execution_count": 53,
     "metadata": {},
     "output_type": "execute_result"
    }
   ],
   "source": [
    "np.random.rand(5,3)"
   ]
  },
  {
   "cell_type": "code",
   "execution_count": null,
   "id": "acc3ce7b-9654-49c2-8658-fb30999cd1cc",
   "metadata": {},
   "outputs": [],
   "source": []
  }
 ],
 "metadata": {
  "kernelspec": {
   "display_name": "Python 3 (ipykernel)",
   "language": "python",
   "name": "python3"
  },
  "language_info": {
   "codemirror_mode": {
    "name": "ipython",
    "version": 3
   },
   "file_extension": ".py",
   "mimetype": "text/x-python",
   "name": "python",
   "nbconvert_exporter": "python",
   "pygments_lexer": "ipython3",
   "version": "3.13.7"
  }
 },
 "nbformat": 4,
 "nbformat_minor": 5
}
