{
 "cells": [
  {
   "cell_type": "code",
   "execution_count": 25,
   "id": "b77b806a-6407-4e76-9308-bf926464c666",
   "metadata": {},
   "outputs": [
    {
     "data": {
      "text/plain": [
       "'la\\nbebecita\\nbebe\\nlean\\ny bebe\\nwisky'"
      ]
     },
     "execution_count": 25,
     "metadata": {},
     "output_type": "execute_result"
    }
   ],
   "source": [
    "\"\"\"la\n",
    "bebecita\n",
    "bebe\n",
    "lean\n",
    "y bebe\n",
    "wisky\"\"\"\n"
   ]
  },
  {
   "cell_type": "markdown",
   "id": "764597a4-a503-4ee5-ac5b-6bf7642baca3",
   "metadata": {},
   "source": [
    "# variables"
   ]
  },
  {
   "cell_type": "code",
   "execution_count": 26,
   "id": "33796119-168b-45ce-ad9f-d2195077154b",
   "metadata": {},
   "outputs": [],
   "source": [
    "numero = 2"
   ]
  },
  {
   "cell_type": "code",
   "execution_count": 27,
   "id": "c59ab156-2be5-4be7-a7e8-36011231dcb2",
   "metadata": {},
   "outputs": [],
   "source": [
    "numero += 1"
   ]
  },
  {
   "cell_type": "code",
   "execution_count": 28,
   "id": "9c031e7b-84a1-41ae-bb65-c574fa76c081",
   "metadata": {},
   "outputs": [
    {
     "name": "stdout",
     "output_type": "stream",
     "text": [
      "3\n"
     ]
    }
   ],
   "source": [
    "print(numero)"
   ]
  },
  {
   "cell_type": "markdown",
   "id": "25c715c2-369a-4db1-abd8-3045873e7a6a",
   "metadata": {},
   "source": [
    "# Concatenar cadenas"
   ]
  },
  {
   "cell_type": "code",
   "execution_count": 78,
   "id": "7e516650-4c85-4453-9482-866bd8c71aec",
   "metadata": {},
   "outputs": [],
   "source": [
    "# eliminar datos que se almacenaron en la memoria\n",
    "# se debe poner antes del dato a eliminar para que funciones\n",
    "del saludo"
   ]
  },
  {
   "cell_type": "code",
   "execution_count": 74,
   "id": "9e31f7ef-8e01-4875-b4b4-2bcce7b99856",
   "metadata": {},
   "outputs": [],
   "source": [
    "saludo = 'hola '"
   ]
  },
  {
   "cell_type": "code",
   "execution_count": 75,
   "id": "19c321bd-8692-461e-8b00-c256b61e7a37",
   "metadata": {},
   "outputs": [],
   "source": [
    "nombre = 'saul'"
   ]
  },
  {
   "cell_type": "code",
   "execution_count": 76,
   "id": "bf742d21-2c7c-473b-b1cb-7b12a9f49749",
   "metadata": {},
   "outputs": [],
   "source": [
    "concatenar = saludo + nombre + ' ¿como estas?'"
   ]
  },
  {
   "cell_type": "code",
   "execution_count": 77,
   "id": "a69e1af8-ea6d-41cd-a2c6-7454b7826a0f",
   "metadata": {},
   "outputs": [
    {
     "name": "stdout",
     "output_type": "stream",
     "text": [
      "hola saul ¿como estas?\n"
     ]
    }
   ],
   "source": [
    "print(concatenar)"
   ]
  },
  {
   "cell_type": "code",
   "execution_count": 80,
   "id": "615c75e6-3ef9-468e-8ed3-5764e563a139",
   "metadata": {},
   "outputs": [],
   "source": [
    "numero = 2"
   ]
  },
  {
   "cell_type": "code",
   "execution_count": 81,
   "id": "87ece2ac-fee0-4f99-a0ab-38644d186172",
   "metadata": {},
   "outputs": [],
   "source": [
    "coso = 'peso'"
   ]
  },
  {
   "cell_type": "code",
   "execution_count": 82,
   "id": "b0d56baa-76c1-4cd6-9352-a518fdf27a0f",
   "metadata": {},
   "outputs": [],
   "source": [
    "fstr = f\"{numero} {coso} por pan\""
   ]
  },
  {
   "cell_type": "code",
   "execution_count": 83,
   "id": "1adff860-aa28-4626-b3c3-300867544f50",
   "metadata": {},
   "outputs": [
    {
     "name": "stdout",
     "output_type": "stream",
     "text": [
      "2 peso por pan\n"
     ]
    }
   ],
   "source": [
    "print(fstr)"
   ]
  },
  {
   "cell_type": "markdown",
   "id": "b7fa1e4a-9722-4747-a21d-4cdbba3ea428",
   "metadata": {},
   "source": [
    "# Operadores de pertenencia"
   ]
  },
  {
   "cell_type": "code",
   "execution_count": 84,
   "id": "cf775927-b6c2-44f6-8731-1d470bb823c8",
   "metadata": {},
   "outputs": [
    {
     "name": "stdout",
     "output_type": "stream",
     "text": [
      "True\n"
     ]
    }
   ],
   "source": [
    "print('peso' in coso)"
   ]
  },
  {
   "cell_type": "code",
   "execution_count": 86,
   "id": "2f60a062-26cd-4703-8d91-359dd73dd62a",
   "metadata": {},
   "outputs": [
    {
     "name": "stdout",
     "output_type": "stream",
     "text": [
      "True\n"
     ]
    }
   ],
   "source": [
    "print(\"peso\" in fstr)"
   ]
  },
  {
   "cell_type": "code",
   "execution_count": 88,
   "id": "f3ca08e5-31e6-4ee2-81d0-0dc59010622b",
   "metadata": {},
   "outputs": [
    {
     "name": "stdout",
     "output_type": "stream",
     "text": [
      "False\n"
     ]
    }
   ],
   "source": [
    "print(\"panecito\" in fstr)"
   ]
  },
  {
   "cell_type": "code",
   "execution_count": 89,
   "id": "a5b16d46-f249-40f1-b907-ca59d6547412",
   "metadata": {},
   "outputs": [
    {
     "name": "stdout",
     "output_type": "stream",
     "text": [
      "True\n"
     ]
    }
   ],
   "source": [
    "print(\"panecito\" not in fstr)"
   ]
  },
  {
   "cell_type": "code",
   "execution_count": null,
   "id": "75570bf7-b1dd-4b22-86b2-ffe96c8379f4",
   "metadata": {},
   "outputs": [],
   "source": [
    "# me quedé en el minuto 53:22 del video"
   ]
  },
  {
   "cell_type": "code",
   "execution_count": null,
   "id": "8f4feddd-9197-4760-8533-1748a0863a5c",
   "metadata": {},
   "outputs": [],
   "source": []
  },
  {
   "cell_type": "code",
   "execution_count": null,
   "id": "649be41d-8fb7-442b-8244-0e6425f22020",
   "metadata": {},
   "outputs": [],
   "source": []
  }
 ],
 "metadata": {
  "kernelspec": {
   "display_name": "Python 3 (ipykernel)",
   "language": "python",
   "name": "python3"
  },
  "language_info": {
   "codemirror_mode": {
    "name": "ipython",
    "version": 3
   },
   "file_extension": ".py",
   "mimetype": "text/x-python",
   "name": "python",
   "nbconvert_exporter": "python",
   "pygments_lexer": "ipython3",
   "version": "3.10.4"
  }
 },
 "nbformat": 4,
 "nbformat_minor": 5
}
