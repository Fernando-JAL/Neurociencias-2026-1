{
 "cells": [
  {
   "cell_type": "code",
   "execution_count": 5,
   "id": "157031ad-5791-4290-8850-fb423110304c",
   "metadata": {},
   "outputs": [],
   "source": [
    "lambda1 = lambda x,y: x+y"
   ]
  },
  {
   "cell_type": "code",
   "execution_count": 6,
   "id": "ed16a00e-8926-4126-bb08-884758ce42c0",
   "metadata": {},
   "outputs": [
    {
     "data": {
      "text/plain": [
       "4"
      ]
     },
     "execution_count": 6,
     "metadata": {},
     "output_type": "execute_result"
    }
   ],
   "source": [
    "lambda1(1,3)"
   ]
  },
  {
   "cell_type": "code",
   "execution_count": 7,
   "id": "f654620a-9523-4100-9daa-d82e3f6e714b",
   "metadata": {},
   "outputs": [],
   "source": [
    "funcion= lambda a, b, c: (a+b, b-c) # varios argumentos, y varias respuestas"
   ]
  },
  {
   "cell_type": "code",
   "execution_count": 8,
   "id": "342af8a3-ab3a-48f1-b061-3d5260244419",
   "metadata": {},
   "outputs": [
    {
     "data": {
      "text/plain": [
       "(8, -1)"
      ]
     },
     "execution_count": 8,
     "metadata": {},
     "output_type": "execute_result"
    }
   ],
   "source": [
    "funcion(3, 5, 6)"
   ]
  },
  {
   "cell_type": "code",
   "execution_count": 9,
   "id": "bf29f524-356d-4b99-822c-bb263d8da7a5",
   "metadata": {},
   "outputs": [],
   "source": [
    "lista= [(1,2),(5,6),(-4,8),(3,1)]\n",
    "lista.sort(reverse=True)"
   ]
  },
  {
   "cell_type": "code",
   "execution_count": 11,
   "id": "4f06f756-f560-4fc1-b921-6f3f8b84fddd",
   "metadata": {},
   "outputs": [
    {
     "data": {
      "text/plain": [
       "[(5, 6), (3, 1), (1, 2), (-4, 8)]"
      ]
     },
     "execution_count": 11,
     "metadata": {},
     "output_type": "execute_result"
    }
   ],
   "source": [
    "lista"
   ]
  },
  {
   "cell_type": "code",
   "execution_count": 12,
   "id": "a656cbca-ff75-49eb-8deb-569295a8a2f3",
   "metadata": {},
   "outputs": [],
   "source": [
    "def funcion(x):\n",
    "    return x[1]\n",
    "    lista.sort(key= funcion, reverse=True) #key aplica una función y en base a eso ordenad"
   ]
  },
  {
   "cell_type": "code",
   "execution_count": 13,
   "id": "68283f78-c416-4ec8-9be3-9a60e22115d6",
   "metadata": {},
   "outputs": [
    {
     "data": {
      "text/plain": [
       "[(5, 6), (3, 1), (1, 2), (-4, 8)]"
      ]
     },
     "execution_count": 13,
     "metadata": {},
     "output_type": "execute_result"
    }
   ],
   "source": [
    "lista"
   ]
  },
  {
   "cell_type": "code",
   "execution_count": null,
   "id": "d206311e-afd2-48ad-a5b0-ba839cc408f2",
   "metadata": {},
   "outputs": [],
   "source": []
  }
 ],
 "metadata": {
  "kernelspec": {
   "display_name": "Python 3 (ipykernel)",
   "language": "python",
   "name": "python3"
  },
  "language_info": {
   "codemirror_mode": {
    "name": "ipython",
    "version": 3
   },
   "file_extension": ".py",
   "mimetype": "text/x-python",
   "name": "python",
   "nbconvert_exporter": "python",
   "pygments_lexer": "ipython3",
   "version": "3.13.5"
  }
 },
 "nbformat": 4,
 "nbformat_minor": 5
}
