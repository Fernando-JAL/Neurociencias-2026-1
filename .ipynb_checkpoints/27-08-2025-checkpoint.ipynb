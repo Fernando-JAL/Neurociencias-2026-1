{
 "cells": [
  {
   "cell_type": "markdown",
   "id": "4d44c873-a700-4349-b406-49fe07d31f04",
   "metadata": {},
   "source": [
    "### Funciones\n",
    "\n",
    "Son fragmentos de codigo que se pueden ejecutar múltiples veces. Pueden recibir y/o devolver infromación/datos/variables para comunicarse con el código/ proceso principal."
   ]
  },
  {
   "cell_type": "code",
   "execution_count": 2,
   "id": "02f6d2d8-24ce-4b1b-8611-156350d0d8b0",
   "metadata": {},
   "outputs": [
    {
     "name": "stdout",
     "output_type": "stream",
     "text": [
      "Hello World, Dennis Ritchie\n"
     ]
    }
   ],
   "source": [
    "def saludar():\n",
    "    print('Hello World, Dennis Ritchie')\n",
    "\n",
    "saludar()"
   ]
  },
  {
   "cell_type": "code",
   "execution_count": 3,
   "id": "216bd989-3085-45d2-ad92-b8a39f8ca4d7",
   "metadata": {},
   "outputs": [
    {
     "name": "stdout",
     "output_type": "stream",
     "text": [
      "Hello World, Dennis Ritchie\n",
      "Hello World, Dennis Ritchie\n",
      "Hello World, Dennis Ritchie\n"
     ]
    }
   ],
   "source": [
    "for _ in range(3):\n",
    "    saludar()"
   ]
  },
  {
   "cell_type": "code",
   "execution_count": 7,
   "id": "b7e117e1-da58-4c93-a58f-4acd61686370",
   "metadata": {},
   "outputs": [
    {
     "data": {
      "text/plain": [
       "7.0"
      ]
     },
     "execution_count": 7,
     "metadata": {},
     "output_type": "execute_result"
    }
   ],
   "source": [
    "numeritos = (3, 5, 7, 9, 11)\n",
    "\n",
    "sum(numeritos)/len(numeritos)"
   ]
  },
  {
   "cell_type": "code",
   "execution_count": 11,
   "id": "5794f59d-9102-4e94-9680-cd8c2ea8489e",
   "metadata": {},
   "outputs": [],
   "source": [
    "def promedio(numeros):\n",
    "    valor_promedio = sum(numeros)/len(numeros)\n",
    "    print(f'El promedio de los numeros es {valor_promedio}')\n",
    "    return valor_promedio"
   ]
  },
  {
   "cell_type": "code",
   "execution_count": 13,
   "id": "6da416d5-f3db-492b-8262-3e392ea7233f",
   "metadata": {},
   "outputs": [
    {
     "name": "stdout",
     "output_type": "stream",
     "text": [
      "El promedio de los numeros es 7.0\n"
     ]
    }
   ],
   "source": [
    "valor_f = promedio(numeritos)"
   ]
  },
  {
   "cell_type": "code",
   "execution_count": 16,
   "id": "471b90a9-6343-4cec-9388-0d9dc6cd22ff",
   "metadata": {},
   "outputs": [],
   "source": [
    "def minimo(val_a, val_b):\n",
    "    val_minimo = min(val_a, val_b)\n",
    "    return val_minimo"
   ]
  },
  {
   "cell_type": "code",
   "execution_count": 17,
   "id": "2f45894e-a38f-4703-b01c-343232992786",
   "metadata": {},
   "outputs": [
    {
     "data": {
      "text/plain": [
       "-50"
      ]
     },
     "execution_count": 17,
     "metadata": {},
     "output_type": "execute_result"
    }
   ],
   "source": [
    "minimo(-10, -50)"
   ]
  },
  {
   "cell_type": "markdown",
   "id": "ab1fd8a2-1fe6-4332-8b77-cd26610f933f",
   "metadata": {},
   "source": [
    "# Ejercicio\n",
    "Hacer una funcion para calcular el factorial de un numero"
   ]
  },
  {
   "cell_type": "code",
   "execution_count": 51,
   "id": "a4d42c43-24ad-4089-ab5a-0211641c849d",
   "metadata": {},
   "outputs": [
    {
     "name": "stdout",
     "output_type": "stream",
     "text": [
      "1\n",
      "2\n",
      "3\n",
      "4\n",
      "5\n"
     ]
    }
   ],
   "source": [
    "n = 5\n",
    "for val in range(1, n+1):\n",
    "    print(val)"
   ]
  },
  {
   "cell_type": "code",
   "execution_count": 52,
   "id": "ebc98420-65bf-44f4-a065-ab4dc3ca10a9",
   "metadata": {},
   "outputs": [
    {
     "data": {
      "text/plain": [
       "120"
      ]
     },
     "execution_count": 52,
     "metadata": {},
     "output_type": "execute_result"
    }
   ],
   "source": [
    "n = 5\n",
    "\n",
    "resultado=1\n",
    "for val in range(1, n+1):\n",
    "    resultado *= val\n",
    "\n",
    "resultado"
   ]
  },
  {
   "cell_type": "code",
   "execution_count": 64,
   "id": "761f5d7c-a19d-4fcf-81d7-5d68c6f0e925",
   "metadata": {},
   "outputs": [
    {
     "ename": "IndentationError",
     "evalue": "expected an indented block after 'for' statement on line 3 (3163709786.py, line 4)",
     "output_type": "error",
     "traceback": [
      "  \u001b[36mCell\u001b[39m\u001b[36m \u001b[39m\u001b[32mIn[64]\u001b[39m\u001b[32m, line 4\u001b[39m\n\u001b[31m    \u001b[39m\u001b[31mresultado *= val\u001b[39m\n    ^\n\u001b[31mIndentationError\u001b[39m\u001b[31m:\u001b[39m expected an indented block after 'for' statement on line 3\n"
     ]
    }
   ],
   "source": [
    "def factorial(valor):\n",
    "    resultado=1\n",
    "    for val in range(1, valor+1):\n",
    "    resultado *= val\n",
    "    return resultado\n",
    "\n",
    "factorial(5)"
   ]
  }
 ],
 "metadata": {
  "kernelspec": {
   "display_name": "Python 3 (ipykernel)",
   "language": "python",
   "name": "python3"
  },
  "language_info": {
   "codemirror_mode": {
    "name": "ipython",
    "version": 3
   },
   "file_extension": ".py",
   "mimetype": "text/x-python",
   "name": "python",
   "nbconvert_exporter": "python",
   "pygments_lexer": "ipython3",
   "version": "3.10.4"
  }
 },
 "nbformat": 4,
 "nbformat_minor": 5
}
