{
 "cells": [
  {
   "cell_type": "markdown",
   "id": "c6908b92-6029-4ba2-bc91-3c791d168197",
   "metadata": {},
   "source": [
    "#controladores de flujo\n",
    "son estructuras de control_condicionada_.Nos permite evaluar si una o más condiciones se cumplen para decidir quéa acciones se van a ejecutar"
   ]
  },
  {
   "cell_type": "markdown",
   "id": "e8b522e5-2938-496c-bcbf-19d1658aaf9e",
   "metadata": {},
   "source": [
    "if\n",
    "else\n",
    "elif\n",
    "while\n",
    "for"
   ]
  },
  {
   "cell_type": "code",
   "execution_count": 1,
   "id": "ab391778-626d-45e1-8826-8a4626cd0f99",
   "metadata": {},
   "outputs": [
    {
     "name": "stdout",
     "output_type": "stream",
     "text": [
      "entero al if\n"
     ]
    }
   ],
   "source": [
    "#el if se ejecuta siempre que la expresión que la acompañe sea True\n",
    "if True:\n",
    "    print(\"entero al if\")"
   ]
  },
  {
   "cell_type": "code",
   "execution_count": 2,
   "id": "51ff6fd1-f2f6-4b9f-881b-a74feb02de03",
   "metadata": {},
   "outputs": [
    {
     "name": "stdout",
     "output_type": "stream",
     "text": [
      "entró al if=\n"
     ]
    }
   ],
   "source": [
    "a=2\n",
    "if a>0:\n",
    "    print(\"entró al if=\")"
   ]
  },
  {
   "cell_type": "code",
   "execution_count": 4,
   "id": "911c4d09-f533-4d2f-b48f-ba662731bf12",
   "metadata": {},
   "outputs": [
    {
     "name": "stdout",
     "output_type": "stream",
     "text": [
      "a no es mayor que 15\n"
     ]
    }
   ],
   "source": [
    "a= 10\n",
    "if a>15:\n",
    "    print(\"a es mayor que 15\")\n",
    "else:\n",
    "    print(\"a no es mayor que 15\")"
   ]
  },
  {
   "cell_type": "code",
   "execution_count": null,
   "id": "5c3ac838-96b0-4b8b-9912-22650930c754",
   "metadata": {},
   "outputs": [],
   "source": [
    "# elif es \"si no\""
   ]
  }
 ],
 "metadata": {
  "kernelspec": {
   "display_name": "Python 3 (ipykernel)",
   "language": "python",
   "name": "python3"
  },
  "language_info": {
   "codemirror_mode": {
    "name": "ipython",
    "version": 3
   },
   "file_extension": ".py",
   "mimetype": "text/x-python",
   "name": "python",
   "nbconvert_exporter": "python",
   "pygments_lexer": "ipython3",
   "version": "3.13.5"
  }
 },
 "nbformat": 4,
 "nbformat_minor": 5
}
