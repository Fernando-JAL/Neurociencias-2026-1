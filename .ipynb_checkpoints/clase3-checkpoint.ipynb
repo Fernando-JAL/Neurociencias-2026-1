{
 "cells": [
  {
   "cell_type": "code",
   "execution_count": 3,
   "id": "690e1c7d-6507-4eb1-94fc-5ca3823707ea",
   "metadata": {},
   "outputs": [
    {
     "name": "stderr",
     "output_type": "stream",
     "text": [
      "UsageError: Line magic function `%que` not found.\n"
     ]
    }
   ],
   "source": [
    "#que una cadena sea inmutable significa que sus elementos individuales no se pueden modificar."
   ]
  },
  {
   "cell_type": "code",
   "execution_count": 1,
   "id": "ace5ac38-e215-4db0-814e-c3e7b8b653ca",
   "metadata": {},
   "outputs": [],
   "source": [
    "cadena= \"cadena\""
   ]
  },
  {
   "cell_type": "code",
   "execution_count": 2,
   "id": "ff2c8473-ef71-41b0-8c27-dfdb90750f95",
   "metadata": {},
   "outputs": [
    {
     "data": {
      "text/plain": [
       "'n'"
      ]
     },
     "execution_count": 2,
     "metadata": {},
     "output_type": "execute_result"
    }
   ],
   "source": [
    "cadena[-2]"
   ]
  },
  {
   "cell_type": "markdown",
   "id": "207ffaf5-4099-471b-a505-a21ffa69a8bb",
   "metadata": {},
   "source": [
    "#alternativas a la inmutabilidad"
   ]
  },
  {
   "cell_type": "code",
   "execution_count": 16,
   "id": "4b276561-a52b-4eba-bd0b-a444e215a741",
   "metadata": {},
   "outputs": [],
   "source": [
    "cadena= \"donde esta oswaldo\"\n",
    "cadena2= \"viva la programacion\"\n",
    "cadena3= \"bts volvio del ejercito\""
   ]
  },
  {
   "cell_type": "code",
   "execution_count": 14,
   "id": "a2207110-46a4-49ba-a079-06bcf039919a",
   "metadata": {},
   "outputs": [
    {
     "data": {
      "text/plain": [
       "'donde esta la programacionque volvio del ejercito'"
      ]
     },
     "execution_count": 14,
     "metadata": {},
     "output_type": "execute_result"
    }
   ],
   "source": [
    "cadena[0:10]+ cadena2[4:] + \"que\" + cadena3[3:]"
   ]
  },
  {
   "cell_type": "code",
   "execution_count": 27,
   "id": "6760af61-ef73-45e3-917b-e69ffba653b7",
   "metadata": {},
   "outputs": [
    {
     "data": {
      "text/plain": [
       "'oswaldo volvio a la programacion ed oivlov stb'"
      ]
     },
     "execution_count": 27,
     "metadata": {},
     "output_type": "execute_result"
    }
   ],
   "source": [
    "cadena[11:18] + cadena3[3:11] + \"a\" + cadena2[4:] + \" \" + cadena3[-11::-1] "
   ]
  },
  {
   "cell_type": "code",
   "execution_count": null,
   "id": "fd1b16eb-3a11-4f9a-b6df-13d6e0fa8f1e",
   "metadata": {},
   "outputs": [],
   "source": [
    "#si ponemos uba ruta"
   ]
  },
  {
   "cell_type": "code",
   "execution_count": 42,
   "id": "bbfa0c61-92f6-4b4c-b71d-cfe5613c29db",
   "metadata": {},
   "outputs": [],
   "source": [
    "ruta= r\"C:\\Users\\shade\\OneDrive\\Documents\\GitHub\\Neurociencias-2026-1\""
   ]
  },
  {
   "cell_type": "code",
   "execution_count": 53,
   "id": "f345c869-f84a-4367-b375-378194d2aa12",
   "metadata": {},
   "outputs": [
    {
     "data": {
      "text/plain": [
       "'e'"
      ]
     },
     "execution_count": 53,
     "metadata": {},
     "output_type": "execute_result"
    }
   ],
   "source": [
    "var1= ruta.split(sep=\"\\\\\") #split (sep) puede separar cualquier tipo de elemento\n",
    "var1[-1]"
   ]
  },
  {
   "cell_type": "code",
   "execution_count": 30,
   "id": "e33d1102-36e1-4c80-8a01-ea89140a1f5b",
   "metadata": {},
   "outputs": [],
   "source": [
    "lista = [5,4,2,90.3, complex(-7,6), \"strings\",\"ala\",[3,2,5]]"
   ]
  },
  {
   "cell_type": "code",
   "execution_count": 29,
   "id": "90e99063-7036-443f-ac54-8bb420af4631",
   "metadata": {},
   "outputs": [
    {
     "data": {
      "text/plain": [
       "list"
      ]
     },
     "execution_count": 29,
     "metadata": {},
     "output_type": "execute_result"
    }
   ],
   "source": [
    "type(lista)"
   ]
  },
  {
   "cell_type": "code",
   "execution_count": 31,
   "id": "7b17e612-1f48-4b8e-8bb7-ff77bcc46532",
   "metadata": {},
   "outputs": [
    {
     "data": {
      "text/plain": [
       "(-3+6j)"
      ]
     },
     "execution_count": 31,
     "metadata": {},
     "output_type": "execute_result"
    }
   ],
   "source": [
    "lista[4]+ lista[1]"
   ]
  },
  {
   "cell_type": "code",
   "execution_count": 32,
   "id": "08af2480-13ea-4b84-bb9b-df4fad110e46",
   "metadata": {},
   "outputs": [
    {
     "data": {
      "text/plain": [
       "'alaala'"
      ]
     },
     "execution_count": 32,
     "metadata": {},
     "output_type": "execute_result"
    }
   ],
   "source": [
    "lista[2]*lista[-2]"
   ]
  },
  {
   "cell_type": "code",
   "execution_count": 33,
   "id": "3f1f302e-77a1-4593-a6b7-27943d4e5125",
   "metadata": {},
   "outputs": [
    {
     "data": {
      "text/plain": [
       "[3, 2, 5, 3, 2, 5, 3, 2, 5, 3, 2, 5]"
      ]
     },
     "execution_count": 33,
     "metadata": {},
     "output_type": "execute_result"
    }
   ],
   "source": [
    "lista[1]*lista[-1] #se multiplica la cantidad de veces que sea esa posición"
   ]
  },
  {
   "cell_type": "code",
   "execution_count": 34,
   "id": "5e8bb30d-5d11-4caf-9eee-61f83d3392f3",
   "metadata": {},
   "outputs": [],
   "source": [
    "lista[3]= \"lol\""
   ]
  },
  {
   "cell_type": "code",
   "execution_count": 35,
   "id": "a7d226b5-51ca-4672-931c-a79a572992b9",
   "metadata": {},
   "outputs": [
    {
     "data": {
      "text/plain": [
       "[5, 4, 2, 'lol', (-7+6j), 'strings', 'ala', [3, 2, 5]]"
      ]
     },
     "execution_count": 35,
     "metadata": {},
     "output_type": "execute_result"
    }
   ],
   "source": [
    "lista"
   ]
  },
  {
   "cell_type": "code",
   "execution_count": 36,
   "id": "20f1156c-1dbd-4fde-99b0-4f4329d6a162",
   "metadata": {},
   "outputs": [
    {
     "data": {
      "text/plain": [
       "8"
      ]
     },
     "execution_count": 36,
     "metadata": {},
     "output_type": "execute_result"
    }
   ],
   "source": [
    "len(lista)"
   ]
  },
  {
   "cell_type": "code",
   "execution_count": 37,
   "id": "7904124d-8fef-4514-8200-8f2c8f402dc2",
   "metadata": {},
   "outputs": [],
   "source": [
    "lista[2:5]=[\"maluma baby\"]"
   ]
  },
  {
   "cell_type": "code",
   "execution_count": 38,
   "id": "cd73fb74-a34f-4ec0-87d5-67c65ab7d0ed",
   "metadata": {},
   "outputs": [
    {
     "data": {
      "text/plain": [
       "[5, 4, 'maluma baby', 'strings', 'ala', [3, 2, 5]]"
      ]
     },
     "execution_count": 38,
     "metadata": {},
     "output_type": "execute_result"
    }
   ],
   "source": [
    "lista"
   ]
  },
  {
   "cell_type": "code",
   "execution_count": null,
   "id": "67397701-4282-4102-9f55-c4d1fe25f507",
   "metadata": {},
   "outputs": [],
   "source": []
  }
 ],
 "metadata": {
  "kernelspec": {
   "display_name": "Python 3 (ipykernel)",
   "language": "python",
   "name": "python3"
  },
  "language_info": {
   "codemirror_mode": {
    "name": "ipython",
    "version": 3
   },
   "file_extension": ".py",
   "mimetype": "text/x-python",
   "name": "python",
   "nbconvert_exporter": "python",
   "pygments_lexer": "ipython3",
   "version": "3.13.5"
  }
 },
 "nbformat": 4,
 "nbformat_minor": 5
}
