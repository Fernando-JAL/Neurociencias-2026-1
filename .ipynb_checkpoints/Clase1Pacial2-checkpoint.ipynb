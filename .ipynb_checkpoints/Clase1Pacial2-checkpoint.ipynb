{
 "cells": [
  {
   "cell_type": "code",
   "execution_count": 1,
   "id": "c581a08d-a038-4561-97e3-c9c87f4de140",
   "metadata": {},
   "outputs": [],
   "source": [
    "import pandas as pd\n",
    "import numpy as np"
   ]
  },
  {
   "cell_type": "code",
   "execution_count": 6,
   "id": "6440e6f9-18ea-474e-9373-798d106556b7",
   "metadata": {},
   "outputs": [],
   "source": [
    "experimento= { \"sujeto\": [\"S01\",\"S02\",\"S03\", \"S01\",\"S01\",\"S02\"],\n",
    "               \"sabor\":[\"chocolate\",\"piñon\",\"queso\",\"angel\",\"vainilla\",\"choco\"],\n",
    "               \"precio\":[45,105,30,60,85,120],\n",
    "               \"tamaño\":[\"med\",\"gra\",\"ch\",\"med\",\"gra\",\"ch\"]}"
   ]
  },
  {
   "cell_type": "code",
   "execution_count": 7,
   "id": "1eed911e-fa00-4103-a426-b34e133ca1b8",
   "metadata": {},
   "outputs": [],
   "source": [
    "dafra=pd.DataFrame(experimento)"
   ]
  },
  {
   "cell_type": "code",
   "execution_count": 11,
   "id": "08ce365c-955f-4d4e-b30f-fc39c29bb11b",
   "metadata": {},
   "outputs": [
    {
     "name": "stdout",
     "output_type": "stream",
     "text": [
      "  sujeto      sabor  precio tamaño  activación\n",
      "0    S01  chocolate      45    med        True\n",
      "1    S02      piñon     105    gra        True\n",
      "2    S03      queso      30     ch       False\n",
      "3    S01      angel      60    med       False\n",
      "4    S01   vainilla      85    gra        True\n",
      "5    S02      choco     120     ch        True\n"
     ]
    }
   ],
   "source": [
    "dafra[\"activación\"]= [True,True,False,False,True,True]\n",
    "print(dafra)"
   ]
  },
  {
   "cell_type": "code",
   "execution_count": 13,
   "id": "112a6375-ffef-4f78-aaeb-d5309d08a559",
   "metadata": {},
   "outputs": [
    {
     "data": {
      "text/plain": [
       "0    S01\n",
       "1    S02\n",
       "2    S03\n",
       "3    S01\n",
       "4    S01\n",
       "5    S02\n",
       "Name: sujeto, dtype: object"
      ]
     },
     "execution_count": 13,
     "metadata": {},
     "output_type": "execute_result"
    }
   ],
   "source": [
    "dafra.sujeto"
   ]
  },
  {
   "cell_type": "code",
   "execution_count": 15,
   "id": "b083961f-acbb-4730-902d-24be1ba279fb",
   "metadata": {},
   "outputs": [
    {
     "data": {
      "text/html": [
       "<div>\n",
       "<style scoped>\n",
       "    .dataframe tbody tr th:only-of-type {\n",
       "        vertical-align: middle;\n",
       "    }\n",
       "\n",
       "    .dataframe tbody tr th {\n",
       "        vertical-align: top;\n",
       "    }\n",
       "\n",
       "    .dataframe thead th {\n",
       "        text-align: right;\n",
       "    }\n",
       "</style>\n",
       "<table border=\"1\" class=\"dataframe\">\n",
       "  <thead>\n",
       "    <tr style=\"text-align: right;\">\n",
       "      <th></th>\n",
       "      <th>sujeto</th>\n",
       "      <th>sabor</th>\n",
       "      <th>precio</th>\n",
       "      <th>tamaño</th>\n",
       "      <th>activación</th>\n",
       "    </tr>\n",
       "  </thead>\n",
       "  <tbody>\n",
       "    <tr>\n",
       "      <th>0</th>\n",
       "      <td>S01</td>\n",
       "      <td>chocolate</td>\n",
       "      <td>45</td>\n",
       "      <td>med</td>\n",
       "      <td>True</td>\n",
       "    </tr>\n",
       "    <tr>\n",
       "      <th>3</th>\n",
       "      <td>S01</td>\n",
       "      <td>angel</td>\n",
       "      <td>60</td>\n",
       "      <td>med</td>\n",
       "      <td>False</td>\n",
       "    </tr>\n",
       "    <tr>\n",
       "      <th>4</th>\n",
       "      <td>S01</td>\n",
       "      <td>vainilla</td>\n",
       "      <td>85</td>\n",
       "      <td>gra</td>\n",
       "      <td>True</td>\n",
       "    </tr>\n",
       "  </tbody>\n",
       "</table>\n",
       "</div>"
      ],
      "text/plain": [
       "  sujeto      sabor  precio tamaño  activación\n",
       "0    S01  chocolate      45    med        True\n",
       "3    S01      angel      60    med       False\n",
       "4    S01   vainilla      85    gra        True"
      ]
     },
     "execution_count": 15,
     "metadata": {},
     "output_type": "execute_result"
    }
   ],
   "source": [
    "dafra[dafra[\"sujeto\"]== \"S01\"] #filtrado condicional a todas las filas que cumplen la condicion"
   ]
  },
  {
   "cell_type": "code",
   "execution_count": 16,
   "id": "2c5a54ff-f817-4250-bd2b-0362e4de8c94",
   "metadata": {},
   "outputs": [
    {
     "data": {
      "text/html": [
       "<div>\n",
       "<style scoped>\n",
       "    .dataframe tbody tr th:only-of-type {\n",
       "        vertical-align: middle;\n",
       "    }\n",
       "\n",
       "    .dataframe tbody tr th {\n",
       "        vertical-align: top;\n",
       "    }\n",
       "\n",
       "    .dataframe thead th {\n",
       "        text-align: right;\n",
       "    }\n",
       "</style>\n",
       "<table border=\"1\" class=\"dataframe\">\n",
       "  <thead>\n",
       "    <tr style=\"text-align: right;\">\n",
       "      <th></th>\n",
       "      <th>sujeto</th>\n",
       "      <th>sabor</th>\n",
       "      <th>precio</th>\n",
       "      <th>tamaño</th>\n",
       "      <th>activación</th>\n",
       "    </tr>\n",
       "  </thead>\n",
       "  <tbody>\n",
       "    <tr>\n",
       "      <th>1</th>\n",
       "      <td>S02</td>\n",
       "      <td>piñon</td>\n",
       "      <td>105</td>\n",
       "      <td>gra</td>\n",
       "      <td>True</td>\n",
       "    </tr>\n",
       "    <tr>\n",
       "      <th>5</th>\n",
       "      <td>S02</td>\n",
       "      <td>choco</td>\n",
       "      <td>120</td>\n",
       "      <td>ch</td>\n",
       "      <td>True</td>\n",
       "    </tr>\n",
       "  </tbody>\n",
       "</table>\n",
       "</div>"
      ],
      "text/plain": [
       "  sujeto  sabor  precio tamaño  activación\n",
       "1    S02  piñon     105    gra        True\n",
       "5    S02  choco     120     ch        True"
      ]
     },
     "execution_count": 16,
     "metadata": {},
     "output_type": "execute_result"
    }
   ],
   "source": [
    "dafra[dafra[\"precio\"]>100]"
   ]
  },
  {
   "cell_type": "code",
   "execution_count": 19,
   "id": "a9bdcea4-c5d4-4a16-9e91-e44a4c608176",
   "metadata": {},
   "outputs": [
    {
     "data": {
      "text/html": [
       "<div>\n",
       "<style scoped>\n",
       "    .dataframe tbody tr th:only-of-type {\n",
       "        vertical-align: middle;\n",
       "    }\n",
       "\n",
       "    .dataframe tbody tr th {\n",
       "        vertical-align: top;\n",
       "    }\n",
       "\n",
       "    .dataframe thead tr th {\n",
       "        text-align: left;\n",
       "    }\n",
       "\n",
       "    .dataframe thead tr:last-of-type th {\n",
       "        text-align: right;\n",
       "    }\n",
       "</style>\n",
       "<table border=\"1\" class=\"dataframe\">\n",
       "  <thead>\n",
       "    <tr>\n",
       "      <th></th>\n",
       "      <th colspan=\"10\" halign=\"left\">sabor</th>\n",
       "      <th>...</th>\n",
       "      <th colspan=\"10\" halign=\"left\">activación</th>\n",
       "    </tr>\n",
       "    <tr>\n",
       "      <th></th>\n",
       "      <th>count</th>\n",
       "      <th>unique</th>\n",
       "      <th>top</th>\n",
       "      <th>freq</th>\n",
       "      <th>mean</th>\n",
       "      <th>std</th>\n",
       "      <th>min</th>\n",
       "      <th>25%</th>\n",
       "      <th>50%</th>\n",
       "      <th>75%</th>\n",
       "      <th>...</th>\n",
       "      <th>unique</th>\n",
       "      <th>top</th>\n",
       "      <th>freq</th>\n",
       "      <th>mean</th>\n",
       "      <th>std</th>\n",
       "      <th>min</th>\n",
       "      <th>25%</th>\n",
       "      <th>50%</th>\n",
       "      <th>75%</th>\n",
       "      <th>max</th>\n",
       "    </tr>\n",
       "    <tr>\n",
       "      <th>sujeto</th>\n",
       "      <th></th>\n",
       "      <th></th>\n",
       "      <th></th>\n",
       "      <th></th>\n",
       "      <th></th>\n",
       "      <th></th>\n",
       "      <th></th>\n",
       "      <th></th>\n",
       "      <th></th>\n",
       "      <th></th>\n",
       "      <th></th>\n",
       "      <th></th>\n",
       "      <th></th>\n",
       "      <th></th>\n",
       "      <th></th>\n",
       "      <th></th>\n",
       "      <th></th>\n",
       "      <th></th>\n",
       "      <th></th>\n",
       "      <th></th>\n",
       "      <th></th>\n",
       "    </tr>\n",
       "  </thead>\n",
       "  <tbody>\n",
       "    <tr>\n",
       "      <th>S01</th>\n",
       "      <td>3</td>\n",
       "      <td>3</td>\n",
       "      <td>chocolate</td>\n",
       "      <td>1</td>\n",
       "      <td>NaN</td>\n",
       "      <td>NaN</td>\n",
       "      <td>NaN</td>\n",
       "      <td>NaN</td>\n",
       "      <td>NaN</td>\n",
       "      <td>NaN</td>\n",
       "      <td>...</td>\n",
       "      <td>2</td>\n",
       "      <td>True</td>\n",
       "      <td>2</td>\n",
       "      <td>NaN</td>\n",
       "      <td>NaN</td>\n",
       "      <td>NaN</td>\n",
       "      <td>NaN</td>\n",
       "      <td>NaN</td>\n",
       "      <td>NaN</td>\n",
       "      <td>NaN</td>\n",
       "    </tr>\n",
       "    <tr>\n",
       "      <th>S02</th>\n",
       "      <td>2</td>\n",
       "      <td>2</td>\n",
       "      <td>piñon</td>\n",
       "      <td>1</td>\n",
       "      <td>NaN</td>\n",
       "      <td>NaN</td>\n",
       "      <td>NaN</td>\n",
       "      <td>NaN</td>\n",
       "      <td>NaN</td>\n",
       "      <td>NaN</td>\n",
       "      <td>...</td>\n",
       "      <td>1</td>\n",
       "      <td>True</td>\n",
       "      <td>2</td>\n",
       "      <td>NaN</td>\n",
       "      <td>NaN</td>\n",
       "      <td>NaN</td>\n",
       "      <td>NaN</td>\n",
       "      <td>NaN</td>\n",
       "      <td>NaN</td>\n",
       "      <td>NaN</td>\n",
       "    </tr>\n",
       "    <tr>\n",
       "      <th>S03</th>\n",
       "      <td>1</td>\n",
       "      <td>1</td>\n",
       "      <td>queso</td>\n",
       "      <td>1</td>\n",
       "      <td>NaN</td>\n",
       "      <td>NaN</td>\n",
       "      <td>NaN</td>\n",
       "      <td>NaN</td>\n",
       "      <td>NaN</td>\n",
       "      <td>NaN</td>\n",
       "      <td>...</td>\n",
       "      <td>1</td>\n",
       "      <td>False</td>\n",
       "      <td>1</td>\n",
       "      <td>NaN</td>\n",
       "      <td>NaN</td>\n",
       "      <td>NaN</td>\n",
       "      <td>NaN</td>\n",
       "      <td>NaN</td>\n",
       "      <td>NaN</td>\n",
       "      <td>NaN</td>\n",
       "    </tr>\n",
       "  </tbody>\n",
       "</table>\n",
       "<p>3 rows × 44 columns</p>\n",
       "</div>"
      ],
      "text/plain": [
       "       sabor                                                       ...  \\\n",
       "       count unique        top freq mean  std  min  25%  50%  75%  ...   \n",
       "sujeto                                                             ...   \n",
       "S01        3      3  chocolate    1  NaN  NaN  NaN  NaN  NaN  NaN  ...   \n",
       "S02        2      2      piñon    1  NaN  NaN  NaN  NaN  NaN  NaN  ...   \n",
       "S03        1      1      queso    1  NaN  NaN  NaN  NaN  NaN  NaN  ...   \n",
       "\n",
       "       activación                                                 \n",
       "           unique    top freq mean  std  min  25%  50%  75%  max  \n",
       "sujeto                                                            \n",
       "S01             2   True    2  NaN  NaN  NaN  NaN  NaN  NaN  NaN  \n",
       "S02             1   True    2  NaN  NaN  NaN  NaN  NaN  NaN  NaN  \n",
       "S03             1  False    1  NaN  NaN  NaN  NaN  NaN  NaN  NaN  \n",
       "\n",
       "[3 rows x 44 columns]"
      ]
     },
     "execution_count": 19,
     "metadata": {},
     "output_type": "execute_result"
    }
   ],
   "source": [
    "por_sujeto=dafra.groupby(by=\"sujeto\")\n",
    "por_sujeto.describe(include=\"all\")"
   ]
  },
  {
   "cell_type": "code",
   "execution_count": null,
   "id": "6909be85-8a67-41b4-ab4f-78b9e0f78a1c",
   "metadata": {},
   "outputs": [],
   "source": []
  }
 ],
 "metadata": {
  "kernelspec": {
   "display_name": "Python 3 (ipykernel)",
   "language": "python",
   "name": "python3"
  },
  "language_info": {
   "codemirror_mode": {
    "name": "ipython",
    "version": 3
   },
   "file_extension": ".py",
   "mimetype": "text/x-python",
   "name": "python",
   "nbconvert_exporter": "python",
   "pygments_lexer": "ipython3",
   "version": "3.13.5"
  }
 },
 "nbformat": 4,
 "nbformat_minor": 5
}
