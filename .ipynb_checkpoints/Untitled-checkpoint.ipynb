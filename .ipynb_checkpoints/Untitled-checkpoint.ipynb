{
 "cells": [
  {
   "cell_type": "raw",
   "id": "4f92b0a4-e6ec-4329-becd-3514bf0b33cd",
   "metadata": {},
   "source": [
    "hehehe= 44"
   ]
  },
  {
   "cell_type": "markdown",
   "id": "93f45c27-fda2-4faf-bb93-87f35d346d59",
   "metadata": {},
   "source": [
    "## HEHEHEE"
   ]
  },
  {
   "cell_type": "markdown",
   "id": "d3029d56-2dc0-49a7-9c11-4814ee9320d2",
   "metadata": {},
   "source": []
  },
  {
   "cell_type": "markdown",
   "id": "7d6e730f-dd33-4506-b280-b3033a60cc33",
   "metadata": {},
   "source": [
    "###### fakinchet"
   ]
  },
  {
   "cell_type": "markdown",
   "id": "693d805e-9395-4922-8764-0f4595e2fbc6",
   "metadata": {},
   "source": [
    "# fakin chet"
   ]
  },
  {
   "cell_type": "markdown",
   "id": "3541a8e9-af09-488e-982f-4d79e1ae435f",
   "metadata": {},
   "source": [
    "**woa**"
   ]
  },
  {
   "cell_type": "markdown",
   "id": "158b5bf5-2638-478d-9ef5-2ec9366eba13",
   "metadata": {},
   "source": [
    "*lolololo*"
   ]
  },
  {
   "cell_type": "code",
   "execution_count": 4,
   "id": "d11e3101-f551-4c76-a972-e93cb5fad0a2",
   "metadata": {},
   "outputs": [],
   "source": [
    "a= (4,7,8)"
   ]
  },
  {
   "cell_type": "code",
   "execution_count": 5,
   "id": "4ea682f9-66f2-40ff-9814-090bf1fed310",
   "metadata": {},
   "outputs": [
    {
     "data": {
      "text/plain": [
       "(4, 7, 8)"
      ]
     },
     "execution_count": 5,
     "metadata": {},
     "output_type": "execute_result"
    }
   ],
   "source": [
    "a"
   ]
  },
  {
   "cell_type": "code",
   "execution_count": 6,
   "id": "8164dc98-6592-435d-9f3c-b8797b86af85",
   "metadata": {},
   "outputs": [],
   "source": [
    "#las tuplas no se pueden modificar, van con paréntesis, la lista va con corchetes, range o rango va con comas"
   ]
  },
  {
   "cell_type": "code",
   "execution_count": 10,
   "id": "afcce19a-48b7-4b69-a144-6ddfdcee6af0",
   "metadata": {},
   "outputs": [],
   "source": [
    "diccionario={'llave': 3, 'lol': (3,4)}"
   ]
  },
  {
   "cell_type": "code",
   "execution_count": 11,
   "id": "93bc8b4a-859c-4119-a91f-096208f31eeb",
   "metadata": {},
   "outputs": [
    {
     "data": {
      "text/plain": [
       "(3, 4)"
      ]
     },
     "execution_count": 11,
     "metadata": {},
     "output_type": "execute_result"
    }
   ],
   "source": [
    "diccionario['lol']"
   ]
  },
  {
   "cell_type": "code",
   "execution_count": null,
   "id": "bd6986ed-645c-4caa-8c8c-efd1ff1462b5",
   "metadata": {},
   "outputs": [],
   "source": []
  }
 ],
 "metadata": {
  "kernelspec": {
   "display_name": "Python 3 (ipykernel)",
   "language": "python",
   "name": "python3"
  },
  "language_info": {
   "codemirror_mode": {
    "name": "ipython",
    "version": 3
   },
   "file_extension": ".py",
   "mimetype": "text/x-python",
   "name": "python",
   "nbconvert_exporter": "python",
   "pygments_lexer": "ipython3",
   "version": "3.13.5"
  }
 },
 "nbformat": 4,
 "nbformat_minor": 5
}
