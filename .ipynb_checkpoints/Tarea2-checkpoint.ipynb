{
 "cells": [
  {
   "cell_type": "code",
   "execution_count": 1,
   "id": "953f8303-409b-45f5-8144-b07db952b3cd",
   "metadata": {},
   "outputs": [],
   "source": [
    "#crear una función que cuente las vocales de un string y regrese dicho número\n",
    "#2. crear una función que determine si un número es par o impar e imprima el resultado\n",
    "#3. crear una función para convertir de Celsius a Farenheit, dicha función recibirá la temperatura en celsius y la regresará en farenheit\n",
    "#4. crear una función que reciba un entero y devuelva la suma de sus digitos"
   ]
  },
  {
   "cell_type": "code",
   "execution_count": 6,
   "id": "cc818531-6de5-49fa-ba0e-1a3687413382",
   "metadata": {},
   "outputs": [],
   "source": [
    "def contar_vocales(texto):\n",
    "    vocales = \"aeiouAEIOU\"   # Incluye mayúsculas y minúsculas\n",
    "    contador = 0\n",
    "    for letra in texto:\n",
    "        if letra in vocales:\n",
    "            contador += 1\n",
    "    return contador\n"
   ]
  },
  {
   "cell_type": "code",
   "execution_count": 9,
   "id": "137fa519-2c58-46af-89ec-e425946ca84d",
   "metadata": {},
   "outputs": [
    {
     "data": {
      "text/plain": [
       "14"
      ]
     },
     "execution_count": 9,
     "metadata": {},
     "output_type": "execute_result"
    }
   ],
   "source": [
    "contar_vocales(\"Naomi Marianne Arguello Calderon\")"
   ]
  },
  {
   "cell_type": "code",
   "execution_count": 10,
   "id": "767c32d2-139b-4fb8-a154-ea1b02e6adad",
   "metadata": {},
   "outputs": [],
   "source": [
    "def par_o_impar(numero):\n",
    "    if numero % 2 == 0:  # El operador % da el residuo de la división\n",
    "        print(f\"{numero} es par\")\n",
    "    else:\n",
    "        print(f\"{numero} es impar\")\n"
   ]
  },
  {
   "cell_type": "code",
   "execution_count": 11,
   "id": "085fe843-ae91-481a-aede-0bdbf7d68d0e",
   "metadata": {},
   "outputs": [
    {
     "name": "stdout",
     "output_type": "stream",
     "text": [
      "73828 es par\n"
     ]
    }
   ],
   "source": [
    "par_o_impar(73828)"
   ]
  },
  {
   "cell_type": "code",
   "execution_count": 14,
   "id": "46ca9e6c-f4a5-40d4-9468-d25ee04b5fc7",
   "metadata": {},
   "outputs": [],
   "source": [
    "def celsius_a_farenheit(celsius):\n",
    "    farenheit= (celsius*9/5)+32\n",
    "    return(f'La temperatura en farenheit es: {farenheit}')\n"
   ]
  },
  {
   "cell_type": "code",
   "execution_count": 15,
   "id": "017c5975-86d3-4ff5-9267-b017a3a4a562",
   "metadata": {},
   "outputs": [
    {
     "data": {
      "text/plain": [
       "'La temperatura en farenheit es: 116.6'"
      ]
     },
     "execution_count": 15,
     "metadata": {},
     "output_type": "execute_result"
    }
   ],
   "source": [
    "celsius_a_farenheit(47)"
   ]
  },
  {
   "cell_type": "code",
   "execution_count": 24,
   "id": "4e764941-2961-429e-9e8f-3605b4a5833c",
   "metadata": {},
   "outputs": [],
   "source": [
    "def suma_digitos(numero):\n",
    "    # Convertimos el número a string para recorrer cada dígito\n",
    "    numero_str = str(abs(numero))  # abs() para manejar negativos\n",
    "    suma = 0\n",
    "    for digito in numero_str:\n",
    "        suma += int(digito)  # Convertimos cada carácter a entero y lo sumamos\n",
    "    return suma\n"
   ]
  },
  {
   "cell_type": "code",
   "execution_count": 26,
   "id": "a0699953-ba13-4864-8114-89bbf69523ec",
   "metadata": {},
   "outputs": [
    {
     "data": {
      "text/plain": [
       "51"
      ]
     },
     "execution_count": 26,
     "metadata": {},
     "output_type": "execute_result"
    }
   ],
   "source": [
    "suma_digitos(29839839)"
   ]
  },
  {
   "cell_type": "code",
   "execution_count": 27,
   "id": "b33e0295-4bcb-48a1-9039-0e55b6f7025c",
   "metadata": {},
   "outputs": [],
   "source": [
    "def contador_palabras(cadena):\n",
    "    palabras=cadena.split()\n",
    "    return len(palabras)"
   ]
  },
  {
   "cell_type": "code",
   "execution_count": 28,
   "id": "c3115e95-585b-45f5-8a04-aefeeaa09b9c",
   "metadata": {},
   "outputs": [
    {
     "data": {
      "text/plain": [
       "6"
      ]
     },
     "execution_count": 28,
     "metadata": {},
     "output_type": "execute_result"
    }
   ],
   "source": [
    "contador_palabras( \"la nina del volcan se asustó\")"
   ]
  },
  {
   "cell_type": "code",
   "execution_count": 52,
   "id": "8b1facb2-0f4d-4cf8-8d5a-37b2fe067a9b",
   "metadata": {},
   "outputs": [],
   "source": [
    "def contador_letra(frase, letra):\n",
    "    contador = 0\n",
    "    for l in frase:\n",
    "        if l == letra:\n",
    "            contador += 1\n",
    "            return contador  # <-- afuera del for"
   ]
  },
  {
   "cell_type": "code",
   "execution_count": 57,
   "id": "25ee6618-3ede-44a3-8ec2-3392c29a1dbc",
   "metadata": {},
   "outputs": [
    {
     "data": {
      "text/plain": [
       "1"
      ]
     },
     "execution_count": 57,
     "metadata": {},
     "output_type": "execute_result"
    }
   ],
   "source": [
    "contador_letra(\"hsodk,letra\", \"t\")"
   ]
  },
  {
   "cell_type": "code",
   "execution_count": 42,
   "id": "3beb0e4c-c8ea-49a1-910c-ef5905eb2c10",
   "metadata": {},
   "outputs": [
    {
     "name": "stdout",
     "output_type": "stream",
     "text": [
      "43\n"
     ]
    }
   ],
   "source": [
    "#fiunción que recibe una lista con >3 enteros y regresa el mínimo\n",
    "def min_enteros(*args):\n",
    "    if len(args) <= 3:\n",
    "        return \"Debes dar más de 3 números\"\n",
    "    return min(args)\n"
   ]
  },
  {
   "cell_type": "code",
   "execution_count": 43,
   "id": "971ed154-1870-4032-b45e-3bd90521485a",
   "metadata": {},
   "outputs": [
    {
     "data": {
      "text/plain": [
       "43"
      ]
     },
     "execution_count": 43,
     "metadata": {},
     "output_type": "execute_result"
    }
   ],
   "source": [
    "min_enteros(43,56,93,385)"
   ]
  },
  {
   "cell_type": "code",
   "execution_count": null,
   "id": "99b78f21-4030-4488-aa59-4708ce4e65c2",
   "metadata": {},
   "outputs": [],
   "source": [
    "#función que recibe un string y cambia a mayúsculas y a minúsculas y viceversa\n",
    "def cambiar_mayus_minus(texto):\n",
    "    # Todo en mayúsculas\n",
    "    todo_mayus = texto.upper()\n",
    "    \n",
    "    # Todo en minúsculas\n",
    "    todo_minus = texto.lower()\n",
    "    \n",
    "    # Cambiar cada letra de mayúscula a minúscula y viceversa\n",
    "    invertido = texto.swapcase()\n",
    "    \n",
    "    return todo_mayus, todo_minus, invertido"
   ]
  }
 ],
 "metadata": {
  "kernelspec": {
   "display_name": "Python 3 (ipykernel)",
   "language": "python",
   "name": "python3"
  },
  "language_info": {
   "codemirror_mode": {
    "name": "ipython",
    "version": 3
   },
   "file_extension": ".py",
   "mimetype": "text/x-python",
   "name": "python",
   "nbconvert_exporter": "python",
   "pygments_lexer": "ipython3",
   "version": "3.13.5"
  }
 },
 "nbformat": 4,
 "nbformat_minor": 5
}
