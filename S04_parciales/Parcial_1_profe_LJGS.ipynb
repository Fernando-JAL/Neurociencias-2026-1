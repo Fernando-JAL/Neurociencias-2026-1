{
 "cells": [
  {
   "cell_type": "markdown",
   "id": "0872e90d-ee75-45a8-97d7-cdbf68e6a45a",
   "metadata": {},
   "source": [
    "# Examen de Luis Javier González Santos"
   ]
  },
  {
   "cell_type": "code",
   "execution_count": 1,
   "id": "31dd792d-9b57-4924-8ccd-cc3bcf7815ca",
   "metadata": {},
   "outputs": [],
   "source": [
    "import numpy as np\n",
    "import pandas as pd\n",
    "import matplotlib.pyplot as plt"
   ]
  },
  {
   "cell_type": "markdown",
   "id": "1234bc89-efdd-42df-a51d-862dbbf62ea2",
   "metadata": {},
   "source": [
    "## Ejercicio 1"
   ]
  },
  {
   "cell_type": "markdown",
   "id": "62aed855-3061-45f4-88bf-2a75a8d341c5",
   "metadata": {},
   "source": [
    "🔹 Ejercicio Frecuencia de números en matriz\n",
    "\n",
    "Genera una matriz 6x6 de enteros aleatorios entre 1 y 10 usando NumPy.\n",
    "\n",
    "Recorre la matriz y guarda en un diccionario la frecuencia de cada número.\n",
    "\n",
    "Convierte el diccionario en una lista de tuplas (número, frecuencia) y ordénala de mayor a menor frecuencia.\n",
    "\n",
    "Imprime la matriz, el diccionario y la lista ordenada."
   ]
  },
  {
   "cell_type": "code",
   "execution_count": 2,
   "id": "6a06f4f7-2739-4da2-acd5-68fb7be81afa",
   "metadata": {},
   "outputs": [
    {
     "data": {
      "text/plain": [
       "array([[5, 4, 7, 3, 1, 6],\n",
       "       [8, 5, 1, 6, 5, 7],\n",
       "       [7, 5, 7, 4, 1, 7],\n",
       "       [2, 9, 9, 6, 1, 1],\n",
       "       [2, 4, 1, 3, 5, 7],\n",
       "       [8, 3, 5, 8, 9, 5]], dtype=int32)"
      ]
     },
     "execution_count": 2,
     "metadata": {},
     "output_type": "execute_result"
    }
   ],
   "source": [
    "matriz1 = np.random.randint(1, 10, size = (6,6))\n",
    "matriz1"
   ]
  },
  {
   "cell_type": "code",
   "execution_count": 3,
   "id": "1d471873-a343-4a5e-bf97-72005b5ad7c7",
   "metadata": {},
   "outputs": [],
   "source": [
    "frec = {}\n",
    "for number in np.nditer(matriz1):\n",
    "    frec[int(number)] = frec.get(int(number), 0) + 1\n",
    "    "
   ]
  },
  {
   "cell_type": "code",
   "execution_count": 4,
   "id": "38d40b5c-27e9-402e-af98-e6a2cf1f7955",
   "metadata": {},
   "outputs": [],
   "source": [
    "Freclst= list(frec.items())"
   ]
  },
  {
   "cell_type": "code",
   "execution_count": 5,
   "id": "ba4e78b4-9e13-4f20-b9e0-b5930b7c126f",
   "metadata": {},
   "outputs": [
    {
     "name": "stdout",
     "output_type": "stream",
     "text": [
      "[[5 4 7 3 1 6]\n",
      " [8 5 1 6 5 7]\n",
      " [7 5 7 4 1 7]\n",
      " [2 9 9 6 1 1]\n",
      " [2 4 1 3 5 7]\n",
      " [8 3 5 8 9 5]]\n",
      "Este es el diccionario:\n",
      "{5: 7, 4: 3, 7: 6, 3: 3, 1: 6, 6: 3, 8: 3, 2: 2, 9: 3}\n",
      "Y esta la lista:\n",
      "[(5, 7), (4, 3), (7, 6), (3, 3), (1, 6), (6, 3), (8, 3), (2, 2), (9, 3)]\n"
     ]
    }
   ],
   "source": [
    "print(matriz1)\n",
    "print(\"Este es el diccionario:\")\n",
    "print(frec)\n",
    "print(\"Y esta la lista:\")\n",
    "print(Freclst)"
   ]
  },
  {
   "cell_type": "raw",
   "id": "e1b0e7a3-92c2-4ff6-8f69-d6f0c57330be",
   "metadata": {},
   "source": [
    "---------------------------------------------------------"
   ]
  },
  {
   "cell_type": "markdown",
   "id": "4d3fe4d3-3b72-4fc7-9045-58ec41841201",
   "metadata": {},
   "source": [
    "## Ejercicio 2"
   ]
  },
  {
   "cell_type": "markdown",
   "id": "a7dcab51-cf15-49bd-8648-c0004bb2a6ca",
   "metadata": {},
   "source": [
    "🔹 Ejercicio Promedios por columna y gráfico de líneas\n",
    "\n",
    "Crea una matriz 10x5 con enteros entre 10 y 100.\n",
    "\n",
    "Calcula el promedio de cada columna usando un bucle.\n",
    "\n",
    "Guarda los resultados en un diccionario con claves \"col_1\" ... \"col_5\".\n",
    "\n",
    "Convierte los valores en una lista y grafícalos en una línea (line plot) mostrando el promedio por columna."
   ]
  },
  {
   "cell_type": "code",
   "execution_count": 6,
   "id": "2400d992-ff90-4a6f-8d98-ac69374c64cf",
   "metadata": {},
   "outputs": [],
   "source": [
    "matriz2 = np.random.randint(10, 100, size=(10, 5))"
   ]
  },
  {
   "cell_type": "code",
   "execution_count": 7,
   "id": "8cb77c72-9715-4ff2-8548-dcdc726247cb",
   "metadata": {},
   "outputs": [],
   "source": [
    "promcolum2 = {}\n",
    "for i in range(matriz2.shape[1]):\n",
    "    promcolum2[\"col_\" + str(i+1)] = np.mean(matriz2[:, i])"
   ]
  },
  {
   "cell_type": "code",
   "execution_count": 8,
   "id": "d32d5a42-1ae9-48fe-ae6f-bd47117d34c3",
   "metadata": {},
   "outputs": [
    {
     "data": {
      "text/plain": [
       "Text(0, 0.5, 'Promedio')"
      ]
     },
     "execution_count": 8,
     "metadata": {},
     "output_type": "execute_result"
    },
    {
     "data": {
      "image/png": "[encoded data removed]",
      "text/plain": [
       "<Figure size 640x480 with 1 Axes>"
      ]
     },
     "metadata": {},
     "output_type": "display_data"
    }
   ],
   "source": [
    "prom2 = list(promcolum2.values())\n",
    "plt.plot(promcolum2.keys(), prom2, marker='o')\n",
    "plt.title('Promedio por Columna')\n",
    "plt.xlabel('Columnas')\n",
    "plt.ylabel('Promedio')"
   ]
  },
  {
   "cell_type": "raw",
   "id": "a40bd20c-35eb-4820-b7e6-497d504d044d",
   "metadata": {},
   "source": [
    "-------------------------------------------------------------"
   ]
  },
  {
   "cell_type": "markdown",
   "id": "57d41be7-a3bc-4256-bc5a-d4af3b3a9326",
   "metadata": {},
   "source": [
    "## Ejercicio 3"
   ]
  },
  {
   "cell_type": "markdown",
   "id": "274e5828-168a-4eae-bf98-4ee05a06436a",
   "metadata": {},
   "source": [
    "🔹 Ejercicio Evolución temporal simulada\n",
    "\n",
    "Simula con NumPy una lista de 30 días con valores aleatorios de temperatura entre 15°C y 35°C.\n",
    "\n",
    "Almacena los valores en un diccionario con claves \"día_1\", \"día_2\", ....\n",
    "\n",
    "Usa un bucle para crear una lista con los días donde la temperatura superó 30°C.\n",
    "\n",
    "Grafica las temperaturas en un gráfico de línea con puntos marcados (scatter + line plot).\n",
    "\n",
    "Marca en rojo los días con temperatura > 30°C."
   ]
  },
  {
   "cell_type": "code",
   "execution_count": 9,
   "id": "9cd20fed-5410-4c70-bdf7-167606889115",
   "metadata": {},
   "outputs": [],
   "source": [
    "temp3= np.random.uniform(15, 35, 30)"
   ]
  },
  {
   "cell_type": "code",
   "execution_count": 10,
   "id": "4441d382-d6d8-4695-ac97-7fe8699390f9",
   "metadata": {},
   "outputs": [],
   "source": [
    "diastem3 = {}\n",
    "for i, temp in enumerate(temp3):\n",
    "    diastem3[\"dia_\" + str(i+1)] = temp\n",
    "    "
   ]
  },
  {
   "cell_type": "code",
   "execution_count": 11,
   "id": "5a830c8d-4abb-4f04-b738-dfd2d43c2500",
   "metadata": {},
   "outputs": [],
   "source": [
    "diascal3 = []\n",
    "for dia, temp in diastem3.items():\n",
    "    if temp > 30:\n",
    "        diascal3.append(dia)\n",
    "dias = list(diastem3.keys())\n",
    "temps = list(diastem3.values())"
   ]
  },
  {
   "cell_type": "code",
   "execution_count": 12,
   "id": "7d5afde5-ec86-401b-8cce-400794842701",
   "metadata": {},
   "outputs": [
    {
     "data": {
      "text/plain": [
       "Text(0, 0.5, 'Temperatura')"
      ]
     },
     "execution_count": 12,
     "metadata": {},
     "output_type": "execute_result"
    },
    {
     "data": {
      "image/png": "[encoded data removed]",
      "text/plain": [
       "<Figure size 2000x700 with 1 Axes>"
      ]
     },
     "metadata": {},
     "output_type": "display_data"
    }
   ],
   "source": [
    "plt.figure(figsize=(20, 7))\n",
    "plt.plot(dias, temps, marker=\"o\", linestyle=\"-\")\n",
    "for dia in diascal3:\n",
    "    temp= diastem3[dia]\n",
    "    plt.plot(dia, temp, \"ro\", markersize=9)\n",
    "plt.title(\"Temperaturas del mes\")\n",
    "plt.xlabel(\"Día\")\n",
    "plt.ylabel(\"Temperatura\")"
   ]
  },
  {
   "cell_type": "raw",
   "id": "7580df9f-6a4f-4ad5-b90c-b1c90068292f",
   "metadata": {},
   "source": [
    "------------------------------------------------------------"
   ]
  },
  {
   "cell_type": "markdown",
   "id": "0a2b7b41-1f89-421b-aea4-1630ef518986",
   "metadata": {},
   "source": [
    "## Ejercicio 4"
   ]
  },
  {
   "cell_type": "markdown",
   "id": "859f5929-28bb-4708-ac2e-ea39d115eabc",
   "metadata": {},
   "source": [
    "🔹 Ejercicio Comparación de distribuciones\n",
    "\n",
    "Genera dos arreglos de 100 números aleatorios con distribución normal:\n",
    "\n",
    "grupo_A: media 50, desviación 10\n",
    "\n",
    "grupo_B: media 60, desviación 15\n",
    "\n",
    "Guarda en un diccionario con claves \"A\" y \"B\".\n",
    "\n",
    "Calcula media y desviación estándar de cada grupo y guárdalas en listas.\n",
    "\n",
    "Grafica ambos grupos en un histograma comparativo (superposición con colores diferentes y transparencia)."
   ]
  },
  {
   "cell_type": "code",
   "execution_count": 13,
   "id": "f75e384f-581d-4051-a3e9-512d59d9349e",
   "metadata": {},
   "outputs": [],
   "source": [
    "grupo_A = np.random.normal(loc=50, scale=10, size= 100)\n",
    "grupo_B = np.random.normal(loc=60, scale=15, size= 100)"
   ]
  },
  {
   "cell_type": "code",
   "execution_count": 14,
   "id": "371e9b6a-556a-4469-b825-6f3bab21bbb0",
   "metadata": {},
   "outputs": [],
   "source": [
    "distr4 = {\"A\": grupo_A,\"B\": grupo_B}"
   ]
  },
  {
   "cell_type": "code",
   "execution_count": 15,
   "id": "f92eabb4-dc7c-4f7d-8d4b-fc30a526aa8b",
   "metadata": {},
   "outputs": [],
   "source": [
    "medias4 = [np.mean(distr4[\"A\"]), np.mean(distr4[\"B\"])]\n",
    "desviaciones4 = [np.std(distr4[\"A\"]), np.std(distr4[\"B\"])]"
   ]
  },
  {
   "cell_type": "code",
   "execution_count": 16,
   "id": "ce8611c5-477a-404c-bef0-74009780a6b4",
   "metadata": {},
   "outputs": [
    {
     "data": {
      "text/plain": [
       "(array([ 3.,  9., 15., 20., 23., 19.,  6.,  2.,  1.,  2.]),\n",
       " array([ 28.15919959,  36.25166229,  44.34412499,  52.43658769,\n",
       "         60.52905039,  68.62151309,  76.7139758 ,  84.8064385 ,\n",
       "         92.8989012 , 100.9913639 , 109.0838266 ]),\n",
       " <BarContainer object of 10 artists>)"
      ]
     },
     "execution_count": 16,
     "metadata": {},
     "output_type": "execute_result"
    },
    {
     "data": {
      "image/png": "[encoded data removed]",
      "text/plain": [
       "<Figure size 1000x600 with 1 Axes>"
      ]
     },
     "metadata": {},
     "output_type": "display_data"
    }
   ],
   "source": [
    "plt.figure(figsize=(10, 6))\n",
    "plt.hist(distr4[\"A\"],alpha=0.7, color='blue')\n",
    "plt.hist(distr4[\"B\"],alpha=0.7, color='red')"
   ]
  },
  {
   "cell_type": "code",
   "execution_count": 17,
   "id": "80acd3cc-8a5c-4f95-951f-ed71c1651d71",
   "metadata": {},
   "outputs": [
    {
     "name": "stdout",
     "output_type": "stream",
     "text": [
      "Media del grupo A: 50.92295839772187\n",
      "Media del grupo B: 61.37694163856518\n",
      "Desviación del grupo A: 9.417902850174432\n",
      "Desviación del grupo B: 14.54006469996383\n"
     ]
    }
   ],
   "source": [
    "print(\"Media del grupo A:\", (medias4[0]))\n",
    "print(\"Media del grupo B:\", (medias4[1]))\n",
    "print(\"Desviación del grupo A:\", (desviaciones4[0]))\n",
    "print(\"Desviación del grupo B:\", (desviaciones4[1]))\n"
   ]
  },
  {
   "cell_type": "raw",
   "id": "315be2a8-6dc2-4cf8-852f-9a1cce2644aa",
   "metadata": {},
   "source": [
    "-----------------------------------------------------------------"
   ]
  },
  {
   "cell_type": "markdown",
   "id": "32a051db-6738-45a5-a5a4-7973222be709",
   "metadata": {},
   "source": [
    "## Ejercicio 5"
   ]
  },
  {
   "cell_type": "markdown",
   "id": "f02dd7ab-0f94-4cd5-ae76-5fdab3434578",
   "metadata": {},
   "source": [
    "🔹 Ejercicio Clasificación de temperaturas\n",
    "\n",
    "Genera una Serie con 50 valores aleatorios entre -10 y 40 (temperaturas).\n",
    "\n",
    "Recorre la Serie y clasifica cada temperatura en un diccionario:\n",
    "\n",
    "\"frío\" si < 10\n",
    "\n",
    "\"templado\" si 10–25\n",
    "\n",
    "\"calor\" si > 25\n",
    "\n",
    "Convierte el diccionario en un DataFrame con columnas \"Temperatura\" y \"Categoría\".\n",
    "\n",
    "Cuenta cuántos valores cayeron en cada categoría."
   ]
  },
  {
   "cell_type": "code",
   "execution_count": 18,
   "id": "a0c0edbd-9ed4-4cd0-9985-4bf8f87a48bf",
   "metadata": {},
   "outputs": [],
   "source": [
    "tempes = pd.Series(np.random.uniform(-10, 40, 50))"
   ]
  },
  {
   "cell_type": "code",
   "execution_count": 19,
   "id": "c5001535-f5fc-4e5b-b2c8-b9535ae04d8a",
   "metadata": {},
   "outputs": [],
   "source": [
    "tempcat = {\"Tempe\":[], \"Categoria\":[]}\n",
    "for num in tempes:\n",
    "    Categoría = \"\"\n",
    "    if num < 10:\n",
    "        Categoría = \"frío\"\n",
    "    elif 10 <= num <= 25:\n",
    "        Categoría = \"templado\"\n",
    "    else: \n",
    "        Categoría = \"calor\"\n",
    "    tempcat[\"Tempe\"].append(num)\n",
    "    tempcat[\"Categoria\"].append(Categoría)\n",
    "df5 = pd.DataFrame(tempcat)\n",
    "conteo_categorias = df5[\"Categoria\"].value_counts()"
   ]
  },
  {
   "cell_type": "code",
   "execution_count": 20,
   "id": "1fb57211-8e68-4fe2-8d45-4bf39f97d4b5",
   "metadata": {},
   "outputs": [
    {
     "name": "stdout",
     "output_type": "stream",
     "text": [
      "Temperaturas y categorias\n",
      "        Tempe Categoria\n",
      "0   -1.754041      frío\n",
      "1    5.769897      frío\n",
      "2   24.131648  templado\n",
      "3   31.723063     calor\n",
      "4   -4.391138      frío\n",
      "5   11.712747  templado\n",
      "6   21.153936  templado\n",
      "7   -7.130143      frío\n",
      "8   -4.068469      frío\n",
      "9   11.273423  templado\n",
      "10  12.851712  templado\n",
      "11  -0.685421      frío\n",
      "12  27.946249     calor\n",
      "13  34.661423     calor\n",
      "14   4.506176      frío\n",
      "15  12.248613  templado\n",
      "16  26.472264     calor\n",
      "17   3.745865      frío\n",
      "18   4.707745      frío\n",
      "19  18.130754  templado\n",
      "20   0.734578      frío\n",
      "21  11.825096  templado\n",
      "22  34.337640     calor\n",
      "23  -6.935999      frío\n",
      "24  -5.428547      frío\n",
      "25  28.173785     calor\n",
      "26  17.532336  templado\n",
      "27  37.238916     calor\n",
      "28  -3.975584      frío\n",
      "29   0.141758      frío\n",
      "30   6.171833      frío\n",
      "31  12.687284  templado\n",
      "32  30.630677     calor\n",
      "33  -0.603151      frío\n",
      "34  18.098546  templado\n",
      "35  30.101087     calor\n",
      "36  19.965607  templado\n",
      "37   1.933515      frío\n",
      "38  13.164370  templado\n",
      "39  21.084623  templado\n",
      "40  25.232466     calor\n",
      "41   3.370178      frío\n",
      "42  35.489100     calor\n",
      "43  22.893198  templado\n",
      "44  37.689033     calor\n",
      "45  35.552710     calor\n",
      "46  14.205341  templado\n",
      "47  31.022391     calor\n",
      "48  31.811826     calor\n",
      "49   1.754695      frío\n",
      "Temperaturas por Categoría\n",
      "Categoria\n",
      "frío        19\n",
      "templado    16\n",
      "calor       15\n",
      "Name: count, dtype: int64\n"
     ]
    }
   ],
   "source": [
    "print(\"Temperaturas y categorias\")\n",
    "print(df5)\n",
    "print(\"Temperaturas por Categoría\")\n",
    "print(conteo_categorias)"
   ]
  },
  {
   "cell_type": "raw",
   "id": "ba27119f-c1d8-4325-84a1-b4c6d32cbb4d",
   "metadata": {},
   "source": [
    "----------------------------------------------------------------"
   ]
  },
  {
   "cell_type": "markdown",
   "id": "34462576-84d5-410c-8faf-19fafe66701b",
   "metadata": {},
   "source": [
    "## Ejercicio 6"
   ]
  },
  {
   "cell_type": "markdown",
   "id": "47a3878d-a30e-4d68-b2ba-d70aeb6b995e",
   "metadata": {},
   "source": [
    "🔹 Ejercicio Matriz de distancias\n",
    "\n",
    "Genera una matriz 10x2 con coordenadas aleatorias (x, y) entre 0 y 100.\n",
    "\n",
    "Con un bucle, calcula las distancias euclidianas entre cada par de puntos y guárdalas en un diccionario con claves (i,j).\n",
    "\n",
    "Convierte el diccionario en un DataFrame de 10x10 (matriz de distancias).\n",
    "\n",
    "Encuentra el par de puntos más cercanos y el más lejano."
   ]
  },
  {
   "cell_type": "code",
   "execution_count": 21,
   "id": "2a927faa-5da9-48a7-aa39-4d31bf3211ab",
   "metadata": {},
   "outputs": [
    {
     "name": "stdout",
     "output_type": "stream",
     "text": [
      "[[11.03986761 32.75418276]\n",
      " [67.04711334 55.04349966]\n",
      " [98.79503739 12.42410992]\n",
      " [50.5457484  68.21251297]\n",
      " [37.15102389 63.33040254]\n",
      " [98.86830644 81.64426685]\n",
      " [54.09479189 77.05963242]\n",
      " [47.09016875 49.2384476 ]\n",
      " [26.918346   77.85240107]\n",
      " [21.63071184 83.9815467 ]]\n"
     ]
    }
   ],
   "source": [
    "coordenadas = np.random.uniform(0, 100, size=(10, 2))\n",
    "print(coordenadas)"
   ]
  },
  {
   "cell_type": "code",
   "execution_count": 22,
   "id": "40193cca-04c3-4cb5-8590-50522509dd13",
   "metadata": {},
   "outputs": [
    {
     "name": "stdout",
     "output_type": "stream",
     "text": [
      "            0          1           2          3          4           5  \\\n",
      "0    0.000000  60.279559   90.079308  53.084911  40.208179  100.519028   \n",
      "1   60.279559   0.000000   53.144549  21.112033  31.023361   41.475163   \n",
      "2   90.079308  53.144549    0.000000  73.758659  79.946451   69.220196   \n",
      "3   53.084911  21.112033   73.758659   0.000000  14.256705   50.154577   \n",
      "4   40.208179  31.023361   79.946451  14.256705   0.000000   64.377174   \n",
      "5  100.519028  41.475163   69.220196  50.154577  64.377174    0.000000   \n",
      "6   61.779441  25.543546   78.586657   9.532431  21.807866   45.007627   \n",
      "7   39.640323  20.784087   63.471954  19.286166  17.244413   61.082834   \n",
      "8   47.811875  46.158032   97.196296  25.518260  17.765026   72.049810   \n",
      "9   52.310695  53.852206  105.236875  32.935418  25.833115   77.272951   \n",
      "\n",
      "           6          7          8           9  \n",
      "0  61.779441  39.640323  47.811875   52.310695  \n",
      "1  25.543546  20.784087  46.158032   53.852206  \n",
      "2  78.586657  63.471954  97.196296  105.236875  \n",
      "3   9.532431  19.286166  25.518260   32.935418  \n",
      "4  21.807866  17.244413  17.765026   25.833115  \n",
      "5  45.007627  61.082834  72.049810   77.272951  \n",
      "6   0.000000  28.689424  27.188006   33.193816  \n",
      "7  28.689424   0.000000  35.009438   43.072809  \n",
      "8  27.188006  35.009438   0.000000    8.094782  \n",
      "9  33.193816  43.072809   8.094782    0.000000  \n",
      "Los puntos más cercanos son: (np.int64(8), np.int64(9)) y la distancia entre ellos es: 8.094782337399327\n",
      "Los puntos más lejanos son: (np.int64(2), np.int64(9)) y la distancia entre ellos es: 105.2368751666169\n"
     ]
    }
   ],
   "source": [
    "distancias = {}\n",
    "num_puntos = coordenadas.shape[0]\n",
    "for i in range(num_puntos):\n",
    "    for j in range(num_puntos):\n",
    "        distancia = np.linalg.norm(coordenadas[i] - coordenadas[j])\n",
    "        distancias[(i, j)] = distancia\n",
    "matriz_dist = np.zeros((num_puntos, num_puntos))\n",
    "for (i, j), dist in distancias.items():\n",
    "    matriz_dist[i, j] = dist\n",
    "dfdist6 = pd.DataFrame(matriz_dist)\n",
    "print(dfdist6)\n",
    "matrizsc = matriz_dist.copy()\n",
    "np.fill_diagonal(matrizsc, np.inf)\n",
    "cercanos = np.unravel_index(np.argmin(matrizsc), matrizsc.shape)\n",
    "distmin = matriz_dist[cercanos]\n",
    "lejanos = np.unravel_index(np.argmax(matriz_dist), matriz_dist.shape)\n",
    "distmax = matriz_dist[lejanos]\n",
    "print(\"Los puntos más cercanos son:\", (cercanos), \"y la distancia entre ellos es:\", (distmin))\n",
    "print(\"Los puntos más lejanos son:\", (lejanos), \"y la distancia entre ellos es:\", (distmax))"
   ]
  },
  {
   "cell_type": "raw",
   "id": "832a5ff3-7bdd-4e22-a7cd-27358bccbd65",
   "metadata": {},
   "source": [
    "-------------------------------------------------------------------"
   ]
  },
  {
   "cell_type": "markdown",
   "id": "701db512-b180-4ef5-a260-8476cf57d469",
   "metadata": {},
   "source": [
    "## Ejercicio 7"
   ]
  },
  {
   "cell_type": "markdown",
   "id": "83110dd5-9367-4715-9160-54cb296b7aa9",
   "metadata": {},
   "source": [
    "🔹 Ejercicio Análisis de series temporales\n",
    "\n",
    "Genera con NumPy una Serie de 365 valores aleatorios entre 10 y 40 (temperatura diaria de un año).\n",
    "\n",
    "Convierte en un DataFrame con columnas \"Día\" y \"Temperatura\".\n",
    "\n",
    "Usa un bucle para calcular la media de cada mes (asume 30 días por mes).\n",
    "\n",
    "Guarda las medias en un diccionario {Mes: Promedio}.\n",
    "\n",
    "Convierte el diccionario en una Series y ordénala de mayor a menor."
   ]
  },
  {
   "cell_type": "code",
   "execution_count": 23,
   "id": "00c2d473-d711-42e2-81b2-0cdefbbe79a6",
   "metadata": {},
   "outputs": [],
   "source": [
    "temperaturas_del_año = np.random.uniform(10, 40, 365)"
   ]
  },
  {
   "cell_type": "code",
   "execution_count": 24,
   "id": "bf72eea4-0bd4-477e-a614-af1ef25ad263",
   "metadata": {},
   "outputs": [],
   "source": [
    "dias = np.arange(1, 366)\n",
    "df7 = pd.DataFrame({\"Día\": dias, \"Temperatura\": temperaturas_del_año})"
   ]
  },
  {
   "cell_type": "code",
   "execution_count": 25,
   "id": "ceaf6621-4214-4591-acb4-981b1c81cc3f",
   "metadata": {},
   "outputs": [],
   "source": [
    "medias_mensuales = {}\n",
    "meses = [\"Enero\", \"Febrero\", \"Marzo\", \"Abril\", \"Mayo\", \"Junio\", \"Julio\", \"Agosto\", \"Septiembre\", \"Octubre\", \"Noviembre\", \"Diciembre\"]\n",
    "for i in range(12):\n",
    "    inicio = i * 30\n",
    "    fin = inicio + 30\n",
    "    temperaturas_mes = df7[\"Temperatura\"][inicio:fin]\n",
    "    mes_actual = meses[i]\n",
    "    medias_mensuales[mes_actual] = temperaturas_mes.mean()\n",
    "smedias = pd.Series(medias_mensuales)\n",
    "sordenada = smedias.sort_values(ascending=False)"
   ]
  },
  {
   "cell_type": "code",
   "execution_count": 26,
   "id": "ba44e218-07ee-4974-bf6b-bda96ce57df8",
   "metadata": {},
   "outputs": [
    {
     "name": "stdout",
     "output_type": "stream",
     "text": [
      "     Día  Temperatura\n",
      "0      1    15.430288\n",
      "1      2    39.140040\n",
      "2      3    30.818070\n",
      "3      4    36.505484\n",
      "4      5    29.639640\n",
      "..   ...          ...\n",
      "360  361    15.245414\n",
      "361  362    15.815509\n",
      "362  363    29.220155\n",
      "363  364    33.282063\n",
      "364  365    36.633132\n",
      "\n",
      "[365 rows x 2 columns]\n",
      "Medias ordenadas:\n",
      "Enero         28.019438\n",
      "Junio         27.859677\n",
      "Febrero       27.583956\n",
      "Marzo         27.565425\n",
      "Julio         26.672114\n",
      "Abril         25.838041\n",
      "Octubre       25.180740\n",
      "Diciembre     25.128551\n",
      "Noviembre     24.795691\n",
      "Mayo          23.708496\n",
      "Septiembre    23.366590\n",
      "Agosto        21.887677\n",
      "dtype: float64\n"
     ]
    }
   ],
   "source": [
    "print(df7)\n",
    "print(\"Medias ordenadas:\")\n",
    "print(sordenada)"
   ]
  },
  {
   "cell_type": "raw",
   "id": "ddc708ff-c364-4f03-b71d-77d7a6bb56cf",
   "metadata": {},
   "source": [
    "--------------------------------------------------------------------"
   ]
  },
  {
   "cell_type": "markdown",
   "id": "e9d30f1f-52fd-4a3f-b0de-380ba89ef548",
   "metadata": {},
   "source": [
    "## Ejercicio 8"
   ]
  },
  {
   "cell_type": "markdown",
   "id": "696cbd58-a2f3-4f4b-927b-cf106b0b1eab",
   "metadata": {},
   "source": [
    "🔹 Ejercicio Actividad neuronal por regiones\n",
    "\n",
    "Genera una matriz 100x5 con NumPy representando la actividad de 100 neuronas en 5 regiones cerebrales (valores entre 0 y 1 como tasas de disparo).\n",
    "\n",
    "Convierte la matriz en un DataFrame con columnas \"Región_1\"... \"Región_5\".\n",
    "\n",
    "Usa un bucle para calcular la actividad media de cada región y guárdala en un diccionario.\n",
    "\n",
    "Convierte el diccionario en una Series y ordénala de mayor a menor."
   ]
  },
  {
   "cell_type": "code",
   "execution_count": 27,
   "id": "51194284-3770-4a4b-9349-03b42b8475d0",
   "metadata": {},
   "outputs": [],
   "source": [
    "actividad_neuronal = np.random.uniform(0, 1, size=(100, 5))"
   ]
  },
  {
   "cell_type": "code",
   "execution_count": 28,
   "id": "307dfbc8-1762-494d-a137-c800bd57337a",
   "metadata": {},
   "outputs": [],
   "source": [
    "nombres_columnas = (\"Región 1\", \"Región 2\", \"Región 3\", \"Región 4\", \"Región 5\")\n",
    "dfactiv8 = pd.DataFrame(actividad_neuronal, columns=nombres_columnas)"
   ]
  },
  {
   "cell_type": "code",
   "execution_count": 29,
   "id": "2e06bed3-d0e1-449d-80a9-c1f54c6e1fd1",
   "metadata": {},
   "outputs": [],
   "source": [
    "medias_region = {}\n",
    "for region in dfactiv8.columns:\n",
    "    medias_region[region] = dfactiv8[region].mean()\n",
    "series_medias = pd.Series(medias_region)\n",
    "series_ordenada = series_medias.sort_values(ascending=False)"
   ]
  },
  {
   "cell_type": "code",
   "execution_count": 30,
   "id": "d98de83b-5daf-4398-a3b4-50e51cd6a284",
   "metadata": {},
   "outputs": [
    {
     "name": "stdout",
     "output_type": "stream",
     "text": [
      "Actividad de las neuronas:\n",
      "    Región 1  Región 2  Región 3  Región 4  Región 5\n",
      "0   0.212898  0.491191  0.441750  0.176239  0.464449\n",
      "1   0.336048  0.317529  0.866456  0.747059  0.101232\n",
      "2   0.030754  0.004060  0.321652  0.633368  0.961873\n",
      "3   0.271271  0.082021  0.511759  0.337103  0.309417\n",
      "4   0.618670  0.966980  0.281366  0.162584  0.628451\n",
      "..       ...       ...       ...       ...       ...\n",
      "95  0.956734  0.698531  0.828131  0.129961  0.722099\n",
      "96  0.848209  0.206687  0.188049  0.025043  0.516986\n",
      "97  0.896483  0.512393  0.294259  0.088087  0.724748\n",
      "98  0.979881  0.063500  0.504512  0.696295  0.092401\n",
      "99  0.032588  0.061875  0.751160  0.425409  0.463692\n",
      "\n",
      "[100 rows x 5 columns]\n",
      "Media por región:\n",
      "Región 3    0.519386\n",
      "Región 1    0.494327\n",
      "Región 5    0.490058\n",
      "Región 4    0.473950\n",
      "Región 2    0.450422\n",
      "dtype: float64\n"
     ]
    }
   ],
   "source": [
    "print(\"Actividad de las neuronas:\")\n",
    "print(dfactiv8)\n",
    "print(\"Media por región:\")\n",
    "print(series_ordenada)"
   ]
  },
  {
   "cell_type": "raw",
   "id": "ecae97f9-5aab-4d09-b07f-ab20bdfbf09a",
   "metadata": {},
   "source": [
    "--------------------------------------------------------------------"
   ]
  },
  {
   "cell_type": "markdown",
   "id": "abbab20b-daa6-48f5-a1fb-7da5c374d43d",
   "metadata": {},
   "source": [
    "## Ejercicio 9"
   ]
  },
  {
   "cell_type": "markdown",
   "id": "07f21b80-6ed2-4251-979f-e8c200c8b43d",
   "metadata": {},
   "source": [
    "🔹 Ejercicio Conectividad funcional (correlaciones)\n",
    "\n",
    "Simula con NumPy una matriz 200x4 con series de tiempo de actividad fMRI en 4 áreas cerebrales.\n",
    "\n",
    "Convierte en un DataFrame con columnas \"Área_1\"... \"Área_4\".\n",
    "\n",
    "Con un bucle, calcula la correlación de Pearson entre todas las parejas de áreas y guárdala en un diccionario con claves (Área_i, Área_j).\n",
    "\n",
    "Convierte el diccionario en un DataFrame cuadrado (matriz de conectividad)."
   ]
  },
  {
   "cell_type": "code",
   "execution_count": 31,
   "id": "caf9a6cd-7b16-432c-a2e8-c740034bd526",
   "metadata": {},
   "outputs": [],
   "source": [
    "actividad_fmri = np.random.randn(200, 4)"
   ]
  },
  {
   "cell_type": "code",
   "execution_count": 32,
   "id": "67e7ef7b-5e8b-4064-9cdd-e3610f2b3861",
   "metadata": {},
   "outputs": [],
   "source": [
    "areas = (\"Área 1\", \"Área 2\", \"Área 3\", \"Área 4\")\n",
    "dfactividad9 = pd.DataFrame(actividad_fmri, columns=areas)"
   ]
  },
  {
   "cell_type": "code",
   "execution_count": 33,
   "id": "0c3f2a11-52c9-48ac-b84e-a74cc037cb63",
   "metadata": {},
   "outputs": [],
   "source": [
    "correlaciones = {}\n",
    "for area_i in areas:\n",
    "    for area_j in areas:\n",
    "        correlaciones[(area_i, area_j)] =  dfactividad9[area_i].corr(dfactividad9[area_j])\n",
    "series_corr = pd.Series(correlaciones)\n",
    "dfconectividad9 = series_corr.unstack()"
   ]
  },
  {
   "cell_type": "code",
   "execution_count": 34,
   "id": "bcb59455-4a2b-448b-aaec-7b4b4c4906b3",
   "metadata": {},
   "outputs": [
    {
     "name": "stdout",
     "output_type": "stream",
     "text": [
      "La actividad de las áreas\n",
      "       Área 1    Área 2    Área 3    Área 4\n",
      "0   -0.679925 -0.997707 -0.334118  1.745020\n",
      "1    0.632570 -1.160685  0.249673 -2.512488\n",
      "2    0.377296 -0.736544  0.789390 -0.977731\n",
      "3    0.386121 -0.005134 -0.053148 -1.003533\n",
      "4    1.181997  1.175468 -0.531545 -1.504238\n",
      "..        ...       ...       ...       ...\n",
      "195 -2.252613  1.979226 -0.364740 -1.069848\n",
      "196  1.348221  0.390688 -0.732522  0.096409\n",
      "197 -0.250194  1.711959  0.435780  1.564394\n",
      "198 -0.464673 -0.729764  0.736831  1.867850\n",
      "199  1.135397 -0.371381 -0.517171  1.493638\n",
      "\n",
      "[200 rows x 4 columns]\n",
      "Correlaciones\n",
      "          Área 1    Área 2    Área 3    Área 4\n",
      "Área 1  1.000000 -0.037844 -0.040034  0.015057\n",
      "Área 2 -0.037844  1.000000 -0.107931 -0.035594\n",
      "Área 3 -0.040034 -0.107931  1.000000  0.012153\n",
      "Área 4  0.015057 -0.035594  0.012153  1.000000\n"
     ]
    }
   ],
   "source": [
    "print(\"La actividad de las áreas\")\n",
    "print(dfactividad9)\n",
    "print(\"Correlaciones\")\n",
    "print(dfconectividad9)"
   ]
  },
  {
   "cell_type": "raw",
   "id": "1d7ccd10-3c33-46c5-aee4-99dccdb6ec84",
   "metadata": {},
   "source": [
    "--------------------------------------------------------------------"
   ]
  },
  {
   "cell_type": "markdown",
   "id": "232c9ac2-e94e-4924-94c2-5c4b3e094cf7",
   "metadata": {},
   "source": [
    "## Ejercicio 10"
   ]
  },
  {
   "cell_type": "markdown",
   "id": "c1444400-53e6-4b0a-8c84-07327492c649",
   "metadata": {},
   "source": [
    "🔹 Ejercicio Potenciales de acción por neurona\n",
    "\n",
    "Genera una lista de 50 neuronas.\n",
    "\n",
    "Para cada neurona, simula con NumPy una Serie de 100 ms de actividad (valores enteros 0 o 1 indicando si disparó o no).\n",
    "\n",
    "Guarda los resultados en un diccionario {Neurona: Serie}.\n",
    "\n",
    "Crea un DataFrame con todas las neuronas (filas) y tiempos (columnas).\n",
    "\n",
    "Usa un bucle para contar cuántos disparos totales tuvo cada neurona y genera una Series con esos valores."
   ]
  },
  {
   "cell_type": "code",
   "execution_count": 35,
   "id": "9fa64413-01bb-4c7f-a613-938e56304eeb",
   "metadata": {},
   "outputs": [],
   "source": [
    "neuronas = [f'Nrna_{i+1}' for i in range(50)]"
   ]
  },
  {
   "cell_type": "code",
   "execution_count": 36,
   "id": "ba092c46-4033-422a-b51f-40ab80f91d8b",
   "metadata": {},
   "outputs": [],
   "source": [
    "actividad = {}\n",
    "for neurona in neuronas:\n",
    "    actividad[neurona] = pd.Series( np.random.randint(0, 2, size=100))\n",
    "dfact10 = pd.DataFrame(actividad).T"
   ]
  },
  {
   "cell_type": "code",
   "execution_count": 37,
   "id": "150d696a-c60c-4eba-a837-a0b16526824d",
   "metadata": {},
   "outputs": [],
   "source": [
    "disparos = {}\n",
    "for neurona_nombre, actividad_serie in dfact10.iterrows(): \n",
    "    disparos[neurona_nombre] = actividad_serie.sum()"
   ]
  },
  {
   "cell_type": "code",
   "execution_count": 38,
   "id": "3bd9c8b2-8e6a-490e-b44d-b58807a4f844",
   "metadata": {},
   "outputs": [
    {
     "name": "stdout",
     "output_type": "stream",
     "text": [
      "Actividad\n",
      "         0   1   2   3   4   5   6   7   8   9   ...  90  91  92  93  94  95  \\\n",
      "Nrna_1    0   0   1   0   0   0   0   1   0   1  ...   0   1   0   1   0   1   \n",
      "Nrna_2    0   0   0   1   0   0   0   1   0   0  ...   1   0   0   0   1   1   \n",
      "Nrna_3    0   0   0   0   0   1   0   1   1   0  ...   0   0   1   1   1   0   \n",
      "Nrna_4    0   1   1   1   1   1   0   1   1   0  ...   0   1   0   0   0   0   \n",
      "Nrna_5    1   0   0   1   0   1   0   0   0   0  ...   1   1   0   1   1   1   \n",
      "Nrna_6    0   1   0   1   1   1   1   1   0   1  ...   1   0   1   0   0   0   \n",
      "Nrna_7    0   1   1   1   0   1   0   0   1   0  ...   1   1   1   0   1   1   \n",
      "Nrna_8    1   0   0   0   0   1   1   1   0   1  ...   0   0   0   0   1   1   \n",
      "Nrna_9    1   0   0   1   1   1   0   0   1   0  ...   1   1   0   1   0   1   \n",
      "Nrna_10   0   1   0   0   0   1   0   0   1   0  ...   1   0   0   1   0   1   \n",
      "Nrna_11   1   0   1   0   0   1   1   1   0   1  ...   1   0   0   0   1   0   \n",
      "Nrna_12   1   0   0   1   1   1   1   1   1   1  ...   0   0   1   1   0   1   \n",
      "Nrna_13   0   0   0   1   1   1   1   1   1   1  ...   0   0   1   1   1   1   \n",
      "Nrna_14   0   0   1   0   0   1   1   0   1   0  ...   1   0   0   1   1   1   \n",
      "Nrna_15   1   1   1   1   1   0   0   0   0   1  ...   1   0   0   1   0   1   \n",
      "Nrna_16   0   0   1   1   0   0   0   1   1   1  ...   0   0   1   1   1   1   \n",
      "Nrna_17   0   1   0   1   0   1   1   0   1   1  ...   0   0   1   0   1   0   \n",
      "Nrna_18   1   1   0   1   0   1   1   0   1   0  ...   0   0   1   0   0   0   \n",
      "Nrna_19   0   1   1   0   0   0   0   0   0   1  ...   1   0   0   0   1   1   \n",
      "Nrna_20   0   0   0   1   1   0   0   1   0   1  ...   0   0   1   1   0   1   \n",
      "Nrna_21   0   1   0   1   0   1   1   1   1   1  ...   1   0   1   1   1   1   \n",
      "Nrna_22   0   1   1   0   0   1   0   0   1   1  ...   0   0   1   1   1   1   \n",
      "Nrna_23   1   1   0   1   1   0   0   1   1   1  ...   0   0   0   1   0   0   \n",
      "Nrna_24   0   1   0   0   0   1   1   0   0   0  ...   1   1   1   0   1   1   \n",
      "Nrna_25   1   1   1   1   1   1   1   1   0   0  ...   1   1   1   1   0   0   \n",
      "Nrna_26   0   1   0   0   1   0   1   0   0   1  ...   0   0   0   0   0   1   \n",
      "Nrna_27   1   1   1   0   0   1   0   0   1   0  ...   1   0   1   1   1   1   \n",
      "Nrna_28   0   0   1   1   1   1   1   0   0   0  ...   1   1   0   0   0   0   \n",
      "Nrna_29   1   0   0   1   1   1   1   1   0   0  ...   0   0   1   1   1   1   \n",
      "Nrna_30   1   1   1   0   1   0   1   1   1   1  ...   0   0   1   1   1   0   \n",
      "Nrna_31   0   0   0   1   1   0   1   1   0   0  ...   1   1   1   0   0   0   \n",
      "Nrna_32   0   1   1   0   0   1   0   0   0   0  ...   1   1   0   0   0   1   \n",
      "Nrna_33   1   0   0   0   0   0   0   1   1   1  ...   1   1   0   0   0   1   \n",
      "Nrna_34   1   1   0   1   1   0   0   1   1   1  ...   0   0   1   0   0   1   \n",
      "Nrna_35   1   1   0   0   0   1   0   0   0   1  ...   0   0   0   1   0   0   \n",
      "Nrna_36   1   1   0   0   1   0   1   0   1   1  ...   0   1   0   0   1   0   \n",
      "Nrna_37   1   0   0   1   1   1   1   1   1   1  ...   0   1   0   1   1   1   \n",
      "Nrna_38   1   1   0   1   1   0   0   1   1   1  ...   0   0   1   0   1   0   \n",
      "Nrna_39   1   1   0   1   0   0   1   1   0   1  ...   0   1   0   1   1   1   \n",
      "Nrna_40   0   0   0   0   1   1   1   1   1   1  ...   1   1   0   0   0   1   \n",
      "Nrna_41   0   1   0   1   1   0   1   0   0   1  ...   0   1   1   1   0   0   \n",
      "Nrna_42   0   0   0   1   1   0   1   0   1   0  ...   0   0   0   0   0   0   \n",
      "Nrna_43   1   1   1   1   1   1   0   0   1   1  ...   0   1   0   1   0   1   \n",
      "Nrna_44   1   0   0   0   1   0   1   0   0   1  ...   1   1   1   1   1   0   \n",
      "Nrna_45   0   0   0   1   0   0   1   0   0   1  ...   1   0   1   0   1   0   \n",
      "Nrna_46   1   0   1   0   0   1   0   0   1   1  ...   0   1   0   0   1   1   \n",
      "Nrna_47   0   0   1   1   1   1   0   1   0   1  ...   1   1   1   1   1   0   \n",
      "Nrna_48   1   0   1   1   0   0   1   1   0   1  ...   0   1   1   1   0   1   \n",
      "Nrna_49   1   0   0   1   0   1   1   0   1   1  ...   0   1   1   1   0   0   \n",
      "Nrna_50   1   1   0   0   1   1   0   1   1   1  ...   1   1   0   0   1   0   \n",
      "\n",
      "         96  97  98  99  \n",
      "Nrna_1    1   1   1   0  \n",
      "Nrna_2    1   1   0   1  \n",
      "Nrna_3    1   0   1   1  \n",
      "Nrna_4    0   0   1   0  \n",
      "Nrna_5    0   1   1   0  \n",
      "Nrna_6    0   0   0   0  \n",
      "Nrna_7    1   0   0   0  \n",
      "Nrna_8    0   1   0   0  \n",
      "Nrna_9    1   0   1   1  \n",
      "Nrna_10   0   0   0   0  \n",
      "Nrna_11   1   1   0   0  \n",
      "Nrna_12   1   0   1   1  \n",
      "Nrna_13   1   1   0   1  \n",
      "Nrna_14   1   0   0   0  \n",
      "Nrna_15   0   1   0   1  \n",
      "Nrna_16   1   0   0   0  \n",
      "Nrna_17   1   0   0   0  \n",
      "Nrna_18   1   0   1   1  \n",
      "Nrna_19   0   0   1   0  \n",
      "Nrna_20   1   0   0   0  \n",
      "Nrna_21   0   0   1   1  \n",
      "Nrna_22   0   1   0   1  \n",
      "Nrna_23   1   1   1   0  \n",
      "Nrna_24   1   0   0   1  \n",
      "Nrna_25   0   0   1   1  \n",
      "Nrna_26   1   0   0   1  \n",
      "Nrna_27   0   0   0   0  \n",
      "Nrna_28   0   0   1   1  \n",
      "Nrna_29   1   0   0   0  \n",
      "Nrna_30   1   0   1   0  \n",
      "Nrna_31   1   0   0   0  \n",
      "Nrna_32   0   0   1   1  \n",
      "Nrna_33   0   1   1   0  \n",
      "Nrna_34   1   0   0   1  \n",
      "Nrna_35   1   1   0   1  \n",
      "Nrna_36   1   0   1   0  \n",
      "Nrna_37   0   1   0   0  \n",
      "Nrna_38   0   0   0   1  \n",
      "Nrna_39   0   0   0   1  \n",
      "Nrna_40   1   0   0   0  \n",
      "Nrna_41   0   0   1   0  \n",
      "Nrna_42   0   0   1   0  \n",
      "Nrna_43   0   1   0   0  \n",
      "Nrna_44   0   0   0   1  \n",
      "Nrna_45   1   1   1   1  \n",
      "Nrna_46   1   1   0   0  \n",
      "Nrna_47   0   1   0   1  \n",
      "Nrna_48   0   0   0   1  \n",
      "Nrna_49   0   1   1   0  \n",
      "Nrna_50   1   0   0   0  \n",
      "\n",
      "[50 rows x 100 columns]\n",
      "Disparos por neurona\n",
      "Nrna_1     49\n",
      "Nrna_2     52\n",
      "Nrna_3     38\n",
      "Nrna_4     43\n",
      "Nrna_5     54\n",
      "Nrna_6     56\n",
      "Nrna_7     46\n",
      "Nrna_8     53\n",
      "Nrna_9     56\n",
      "Nrna_10    44\n",
      "Nrna_11    54\n",
      "Nrna_12    52\n",
      "Nrna_13    59\n",
      "Nrna_14    54\n",
      "Nrna_15    51\n",
      "Nrna_16    44\n",
      "Nrna_17    54\n",
      "Nrna_18    54\n",
      "Nrna_19    39\n",
      "Nrna_20    51\n",
      "Nrna_21    54\n",
      "Nrna_22    52\n",
      "Nrna_23    50\n",
      "Nrna_24    54\n",
      "Nrna_25    50\n",
      "Nrna_26    52\n",
      "Nrna_27    56\n",
      "Nrna_28    51\n",
      "Nrna_29    50\n",
      "Nrna_30    56\n",
      "Nrna_31    46\n",
      "Nrna_32    54\n",
      "Nrna_33    48\n",
      "Nrna_34    43\n",
      "Nrna_35    46\n",
      "Nrna_36    51\n",
      "Nrna_37    57\n",
      "Nrna_38    54\n",
      "Nrna_39    48\n",
      "Nrna_40    51\n",
      "Nrna_41    39\n",
      "Nrna_42    44\n",
      "Nrna_43    59\n",
      "Nrna_44    50\n",
      "Nrna_45    51\n",
      "Nrna_46    52\n",
      "Nrna_47    50\n",
      "Nrna_48    54\n",
      "Nrna_49    50\n",
      "Nrna_50    49\n",
      "dtype: int64\n"
     ]
    }
   ],
   "source": [
    "print(\"Actividad\")\n",
    "print(dfact10)\n",
    "print(\"Disparos por neurona\")\n",
    "print(pd.Series(disparos))"
   ]
  },
  {
   "cell_type": "raw",
   "id": "a4e609c1-2e7c-42b7-b8dd-fbd6938c7f56",
   "metadata": {},
   "source": [
    "-------------------------------------------------------------------"
   ]
  },
  {
   "cell_type": "markdown",
   "id": "288977dd-0b3d-4609-ae08-f16fe8041db4",
   "metadata": {},
   "source": [
    "## Ejercicio 11"
   ]
  },
  {
   "cell_type": "markdown",
   "id": "b3fa8e28-a6aa-4ea0-a297-8df5b1077855",
   "metadata": {},
   "source": [
    "🔹 Ejercicio EEG por canales\n",
    "\n",
    "Simula una matriz 500x8 con NumPy representando 500 muestras de señal EEG en 8 canales (valores flotantes entre -100 y 100 µV).\n",
    "\n",
    "Convierte la matriz en un DataFrame con columnas \"Canal_1\"... \"Canal_8\".\n",
    "\n",
    "Usa un bucle para calcular la potencia media de cada canal (media del cuadrado de la señal).\n",
    "\n",
    "Guarda los resultados en un diccionario y conviértelo en una Series ordenada.\n",
    "\n",
    "Identifica el canal con mayor potencia."
   ]
  },
  {
   "cell_type": "code",
   "execution_count": 39,
   "id": "c35476a6-b0ef-4d74-8c79-ad30856135be",
   "metadata": {},
   "outputs": [
    {
     "data": {
      "text/plain": [
       "numpy.dtypes.Float64DType"
      ]
     },
     "execution_count": 39,
     "metadata": {},
     "output_type": "execute_result"
    }
   ],
   "source": [
    "eeg = np.random.uniform(-100, 100, size=(500, 8))\n",
    "type (eeg.dtype)"
   ]
  },
  {
   "cell_type": "code",
   "execution_count": 40,
   "id": "a9e15ef1-48c1-4e69-a19c-86f6abb92dca",
   "metadata": {},
   "outputs": [],
   "source": [
    "canales = (\"Canal 1\",\"Canal 2\",\"Canal 3\",\"Canal 4\",\"Canal 5\",\"Canal 6\",\"Canal 7\",\"Canal 8\")\n",
    "df_eeg = pd.DataFrame(eeg, columns=canales)"
   ]
  },
  {
   "cell_type": "code",
   "execution_count": 41,
   "id": "5d1296f8-fdbe-4637-a25a-c63474a7e067",
   "metadata": {},
   "outputs": [],
   "source": [
    "potmedcanal = {}\n",
    "for canal in df_eeg.columns:\n",
    "    potmedcanal[canal] = (df_eeg[canal]**2).mean()\n",
    "potencia = pd.Series(potmedcanal)\n",
    "potordenada = potencia.sort_values(ascending=False)\n",
    "canalmax= potencia.idxmax()\n",
    "maxpot = potencia.max() "
   ]
  },
  {
   "cell_type": "code",
   "execution_count": 42,
   "id": "51ce1d94-532b-48f8-8208-1873276fe9fa",
   "metadata": {},
   "outputs": [
    {
     "name": "stdout",
     "output_type": "stream",
     "text": [
      " Señales del eeg\n",
      "       Canal 1    Canal 2    Canal 3    Canal 4    Canal 5    Canal 6  \\\n",
      "0   -64.334719  91.993546  17.410881 -74.288295 -43.981255  30.131674   \n",
      "1   -47.656895 -39.368335  55.463022  19.138244 -28.254969 -57.043240   \n",
      "2   -48.192938  50.897812  97.203051   9.945813  42.025030 -95.829205   \n",
      "3   -45.427472  94.355831  -5.692137 -28.406225  95.193690 -69.427896   \n",
      "4   -73.706066 -33.873631 -17.375517  53.942315 -56.227514  27.834663   \n",
      "..         ...        ...        ...        ...        ...        ...   \n",
      "495 -98.585240 -35.048299  75.705758  50.955835  49.038415 -61.053341   \n",
      "496 -69.963270  -0.667305 -92.604202 -11.634679 -17.786881 -39.136557   \n",
      "497 -22.338711  97.137643  18.122867  14.647486 -12.933853  18.857543   \n",
      "498  79.620570  49.800934 -51.900185  77.917464  59.756026 -15.574780   \n",
      "499 -32.686610  22.402427 -52.450367 -51.583606 -11.278160 -90.505671   \n",
      "\n",
      "       Canal 7    Canal 8  \n",
      "0    82.073053  34.959566  \n",
      "1    57.627365  72.951883  \n",
      "2    12.636885  75.477507  \n",
      "3    24.460817  34.413967  \n",
      "4   -92.384695  31.663880  \n",
      "..         ...        ...  \n",
      "495 -47.375924 -31.894314  \n",
      "496 -20.962307  17.353113  \n",
      "497  60.329427 -43.635463  \n",
      "498  90.425951  97.287208  \n",
      "499  89.017663   2.023775  \n",
      "\n",
      "[500 rows x 8 columns]\n",
      "Potencia media de cada canal\n",
      "Canal 8    3507.227017\n",
      "Canal 1    3412.652596\n",
      "Canal 4    3401.958410\n",
      "Canal 6    3381.261718\n",
      "Canal 3    3341.029477\n",
      "Canal 5    3325.311431\n",
      "Canal 2    3164.302727\n",
      "Canal 7    3153.379978\n",
      "dtype: float64\n",
      "Canal con mayor potencia: Canal 8 : 3507.2270171661717\n"
     ]
    }
   ],
   "source": [
    "print(\" Señales del eeg\")\n",
    "print(df_eeg)\n",
    "print(\"Potencia media de cada canal\")\n",
    "print(potordenada)\n",
    "print(\"Canal con mayor potencia:\", (canalmax),\":\", (maxpot))"
   ]
  },
  {
   "cell_type": "raw",
   "id": "9bf51516-22e1-4ef3-ad31-529591566b3f",
   "metadata": {},
   "source": [
    "--------------------------------------------------------------------"
   ]
  },
  {
   "cell_type": "markdown",
   "id": "743182d2-6763-4899-9932-2e2dbaa409aa",
   "metadata": {},
   "source": [
    "## Ejercicio 12"
   ]
  },
  {
   "cell_type": "markdown",
   "id": "64464de2-850c-4c86-b245-843e183f0a68",
   "metadata": {},
   "source": [
    "🔹 Ejercicio Análisis de respuestas a estímulos\n",
    "\n",
    "Genera un DataFrame con 30 sujetos (filas) y 3 condiciones experimentales (\"Cond_A\", \"Cond_B\", \"Cond_C\") con valores de tiempo de reacción simulados (valores entre 200–800 ms).\n",
    "\n",
    "Usa un bucle para calcular el promedio por condición en toda la muestra.\n",
    "\n",
    "Convierte los resultados en un diccionario y luego en una Series.\n",
    "\n",
    "Agrega una columna \"Mejor_condición\" al DataFrame indicando la condición más rápida por sujeto.\n",
    "\n",
    "Cuenta cuántos sujetos respondieron mejor en cada condición."
   ]
  },
  {
   "cell_type": "code",
   "execution_count": 43,
   "id": "5614e8fd-e718-4cec-be46-c646e6ac43a0",
   "metadata": {},
   "outputs": [
    {
     "data": {
      "text/html": [
       "<div>\n",
       "<style scoped>\n",
       "    .dataframe tbody tr th:only-of-type {\n",
       "        vertical-align: middle;\n",
       "    }\n",
       "\n",
       "    .dataframe tbody tr th {\n",
       "        vertical-align: top;\n",
       "    }\n",
       "\n",
       "    .dataframe thead th {\n",
       "        text-align: right;\n",
       "    }\n",
       "</style>\n",
       "<table border=\"1\" class=\"dataframe\">\n",
       "  <thead>\n",
       "    <tr style=\"text-align: right;\">\n",
       "      <th></th>\n",
       "      <th>Cond_A</th>\n",
       "      <th>Cond_B</th>\n",
       "      <th>Cond_C</th>\n",
       "    </tr>\n",
       "  </thead>\n",
       "  <tbody>\n",
       "    <tr>\n",
       "      <th>Sujeto_1</th>\n",
       "      <td>349</td>\n",
       "      <td>379</td>\n",
       "      <td>407</td>\n",
       "    </tr>\n",
       "    <tr>\n",
       "      <th>Sujeto_2</th>\n",
       "      <td>380</td>\n",
       "      <td>226</td>\n",
       "      <td>770</td>\n",
       "    </tr>\n",
       "    <tr>\n",
       "      <th>Sujeto_3</th>\n",
       "      <td>713</td>\n",
       "      <td>535</td>\n",
       "      <td>567</td>\n",
       "    </tr>\n",
       "    <tr>\n",
       "      <th>Sujeto_4</th>\n",
       "      <td>482</td>\n",
       "      <td>316</td>\n",
       "      <td>295</td>\n",
       "    </tr>\n",
       "    <tr>\n",
       "      <th>Sujeto_5</th>\n",
       "      <td>281</td>\n",
       "      <td>565</td>\n",
       "      <td>757</td>\n",
       "    </tr>\n",
       "    <tr>\n",
       "      <th>Sujeto_6</th>\n",
       "      <td>532</td>\n",
       "      <td>338</td>\n",
       "      <td>444</td>\n",
       "    </tr>\n",
       "    <tr>\n",
       "      <th>Sujeto_7</th>\n",
       "      <td>619</td>\n",
       "      <td>547</td>\n",
       "      <td>260</td>\n",
       "    </tr>\n",
       "    <tr>\n",
       "      <th>Sujeto_8</th>\n",
       "      <td>229</td>\n",
       "      <td>794</td>\n",
       "      <td>349</td>\n",
       "    </tr>\n",
       "    <tr>\n",
       "      <th>Sujeto_9</th>\n",
       "      <td>216</td>\n",
       "      <td>325</td>\n",
       "      <td>641</td>\n",
       "    </tr>\n",
       "    <tr>\n",
       "      <th>Sujeto_10</th>\n",
       "      <td>250</td>\n",
       "      <td>619</td>\n",
       "      <td>577</td>\n",
       "    </tr>\n",
       "    <tr>\n",
       "      <th>Sujeto_11</th>\n",
       "      <td>754</td>\n",
       "      <td>726</td>\n",
       "      <td>659</td>\n",
       "    </tr>\n",
       "    <tr>\n",
       "      <th>Sujeto_12</th>\n",
       "      <td>644</td>\n",
       "      <td>445</td>\n",
       "      <td>218</td>\n",
       "    </tr>\n",
       "    <tr>\n",
       "      <th>Sujeto_13</th>\n",
       "      <td>254</td>\n",
       "      <td>205</td>\n",
       "      <td>785</td>\n",
       "    </tr>\n",
       "    <tr>\n",
       "      <th>Sujeto_14</th>\n",
       "      <td>479</td>\n",
       "      <td>333</td>\n",
       "      <td>589</td>\n",
       "    </tr>\n",
       "    <tr>\n",
       "      <th>Sujeto_15</th>\n",
       "      <td>477</td>\n",
       "      <td>795</td>\n",
       "      <td>492</td>\n",
       "    </tr>\n",
       "    <tr>\n",
       "      <th>Sujeto_16</th>\n",
       "      <td>540</td>\n",
       "      <td>228</td>\n",
       "      <td>463</td>\n",
       "    </tr>\n",
       "    <tr>\n",
       "      <th>Sujeto_17</th>\n",
       "      <td>727</td>\n",
       "      <td>661</td>\n",
       "      <td>704</td>\n",
       "    </tr>\n",
       "    <tr>\n",
       "      <th>Sujeto_18</th>\n",
       "      <td>373</td>\n",
       "      <td>643</td>\n",
       "      <td>318</td>\n",
       "    </tr>\n",
       "    <tr>\n",
       "      <th>Sujeto_19</th>\n",
       "      <td>268</td>\n",
       "      <td>276</td>\n",
       "      <td>792</td>\n",
       "    </tr>\n",
       "    <tr>\n",
       "      <th>Sujeto_20</th>\n",
       "      <td>456</td>\n",
       "      <td>559</td>\n",
       "      <td>224</td>\n",
       "    </tr>\n",
       "    <tr>\n",
       "      <th>Sujeto_21</th>\n",
       "      <td>480</td>\n",
       "      <td>712</td>\n",
       "      <td>498</td>\n",
       "    </tr>\n",
       "    <tr>\n",
       "      <th>Sujeto_22</th>\n",
       "      <td>795</td>\n",
       "      <td>456</td>\n",
       "      <td>366</td>\n",
       "    </tr>\n",
       "    <tr>\n",
       "      <th>Sujeto_23</th>\n",
       "      <td>474</td>\n",
       "      <td>758</td>\n",
       "      <td>450</td>\n",
       "    </tr>\n",
       "    <tr>\n",
       "      <th>Sujeto_24</th>\n",
       "      <td>556</td>\n",
       "      <td>768</td>\n",
       "      <td>381</td>\n",
       "    </tr>\n",
       "    <tr>\n",
       "      <th>Sujeto_25</th>\n",
       "      <td>731</td>\n",
       "      <td>289</td>\n",
       "      <td>732</td>\n",
       "    </tr>\n",
       "    <tr>\n",
       "      <th>Sujeto_26</th>\n",
       "      <td>429</td>\n",
       "      <td>376</td>\n",
       "      <td>207</td>\n",
       "    </tr>\n",
       "    <tr>\n",
       "      <th>Sujeto_27</th>\n",
       "      <td>336</td>\n",
       "      <td>481</td>\n",
       "      <td>397</td>\n",
       "    </tr>\n",
       "    <tr>\n",
       "      <th>Sujeto_28</th>\n",
       "      <td>785</td>\n",
       "      <td>419</td>\n",
       "      <td>396</td>\n",
       "    </tr>\n",
       "    <tr>\n",
       "      <th>Sujeto_29</th>\n",
       "      <td>276</td>\n",
       "      <td>760</td>\n",
       "      <td>428</td>\n",
       "    </tr>\n",
       "    <tr>\n",
       "      <th>Sujeto_30</th>\n",
       "      <td>306</td>\n",
       "      <td>612</td>\n",
       "      <td>453</td>\n",
       "    </tr>\n",
       "  </tbody>\n",
       "</table>\n",
       "</div>"
      ],
      "text/plain": [
       "           Cond_A  Cond_B  Cond_C\n",
       "Sujeto_1      349     379     407\n",
       "Sujeto_2      380     226     770\n",
       "Sujeto_3      713     535     567\n",
       "Sujeto_4      482     316     295\n",
       "Sujeto_5      281     565     757\n",
       "Sujeto_6      532     338     444\n",
       "Sujeto_7      619     547     260\n",
       "Sujeto_8      229     794     349\n",
       "Sujeto_9      216     325     641\n",
       "Sujeto_10     250     619     577\n",
       "Sujeto_11     754     726     659\n",
       "Sujeto_12     644     445     218\n",
       "Sujeto_13     254     205     785\n",
       "Sujeto_14     479     333     589\n",
       "Sujeto_15     477     795     492\n",
       "Sujeto_16     540     228     463\n",
       "Sujeto_17     727     661     704\n",
       "Sujeto_18     373     643     318\n",
       "Sujeto_19     268     276     792\n",
       "Sujeto_20     456     559     224\n",
       "Sujeto_21     480     712     498\n",
       "Sujeto_22     795     456     366\n",
       "Sujeto_23     474     758     450\n",
       "Sujeto_24     556     768     381\n",
       "Sujeto_25     731     289     732\n",
       "Sujeto_26     429     376     207\n",
       "Sujeto_27     336     481     397\n",
       "Sujeto_28     785     419     396\n",
       "Sujeto_29     276     760     428\n",
       "Sujeto_30     306     612     453"
      ]
     },
     "execution_count": 43,
     "metadata": {},
     "output_type": "execute_result"
    }
   ],
   "source": [
    "sujetos = [f'Sujeto_{i+1}' for i in range(30)]\n",
    "condiciones = (\"Cond_A\", \"Cond_B\", \"Cond_C\")\n",
    "timreac = np.random.randint(200, 801, size=(30, 3))\n",
    "df12 = pd.DataFrame(timreac, index=sujetos, columns=condiciones)\n",
    "df12"
   ]
  },
  {
   "cell_type": "code",
   "execution_count": 44,
   "id": "5a05f9a2-6d57-4ced-ab76-49b63207391d",
   "metadata": {},
   "outputs": [],
   "source": [
    "promedios = {}\n",
    "for condicion in df12.columns:\n",
    "    promedios[condicion] =  df12[condicion].mean()\n",
    "    "
   ]
  },
  {
   "cell_type": "code",
   "execution_count": 45,
   "id": "6583c305-0d2a-4084-be51-0864525aac1b",
   "metadata": {},
   "outputs": [],
   "source": [
    "serproms = pd.Series(promedios)\n",
    "df12[\"Mejor_condición\"] = df12.idxmin(axis=1)\n",
    "mejorcond = df12['Mejor_condición'].value_counts()"
   ]
  },
  {
   "cell_type": "code",
   "execution_count": 46,
   "id": "e661340a-509a-4df0-b792-0da92e865d3b",
   "metadata": {},
   "outputs": [
    {
     "name": "stdout",
     "output_type": "stream",
     "text": [
      "Promedio de tiempo de reacción\n",
      "Cond_A    473.033333\n",
      "Cond_B    504.866667\n",
      "Cond_C    487.300000\n",
      "dtype: float64\n",
      "Lo mejor de lo mejor de lo mejor de cada condición\n",
      "Mejor_condición\n",
      "Cond_A    11\n",
      "Cond_C    11\n",
      "Cond_B     8\n",
      "Name: count, dtype: int64\n"
     ]
    }
   ],
   "source": [
    "print(\"Promedio de tiempo de reacción\")\n",
    "print(serproms)\n",
    "print(\"Lo mejor de lo mejor de lo mejor de cada condición\")\n",
    "print(mejorcond)"
   ]
  },
  {
   "cell_type": "raw",
   "id": "e9f540d6-6a49-42ff-a2b0-2fdda41b263f",
   "metadata": {},
   "source": [
    "--------------------------------------------------------------------"
   ]
  }
 ],
 "metadata": {
  "kernelspec": {
   "display_name": "Python 3 (ipykernel)",
   "language": "python",
   "name": "python3"
  },
  "language_info": {
   "codemirror_mode": {
    "name": "ipython",
    "version": 3
   },
   "file_extension": ".py",
   "mimetype": "text/x-python",
   "name": "python",
   "nbconvert_exporter": "python",
   "pygments_lexer": "ipython3",
   "version": "3.13.6"
  }
 },
 "nbformat": 4,
 "nbformat_minor": 5
}
