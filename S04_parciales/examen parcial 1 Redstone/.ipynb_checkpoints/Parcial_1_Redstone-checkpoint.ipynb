{
 "cells": [
  {
   "cell_type": "markdown",
   "id": "7d77c66d-0a17-4fe5-b68f-3723afab367d",
   "metadata": {},
   "source": [
    "🔹 Listas\n",
    "\n",
    "- Crea una lista con los números del 1 al 10 e imprime solo los números pares.\n",
    "\n",
    "- Escribe un programa que calcule la suma de todos los elementos de una lista de enteros.\n",
    "\n",
    "- Ordena una lista de palabras en orden alfabético sin usar sorted().\n",
    "\n",
    "- Elimina los elementos duplicados de una lista sin usar set().\n",
    "\n",
    "- Dada una lista de enteros, invierte el orden de la lista sin usar .reverse() ni [::-1].\n",
    "\n",
    "- Escribe un programa que encuentre el segundo número más grande en una lista."
   ]
  },
  {
   "cell_type": "code",
   "execution_count": 1,
   "id": "91041c4e-c3e6-4166-a1c6-6ee7939a788a",
   "metadata": {},
   "outputs": [
    {
     "name": "stdout",
     "output_type": "stream",
     "text": [
      "2\n",
      "4\n",
      "6\n",
      "8\n",
      "10\n"
     ]
    }
   ],
   "source": [
    "# ejercicio 1: listas \n",
    "\n",
    "numeros = [1, 2, 3, 4, 5, 6, 7, 8, 9, 10]\n",
    "for numero in numeros:\n",
    "    if numero % 2 == 0:\n",
    "        print(numero)"
   ]
  },
  {
   "cell_type": "code",
   "execution_count": 7,
   "id": "5a3f0cca-9443-4a08-9ecf-306f86ee983e",
   "metadata": {},
   "outputs": [
    {
     "name": "stdout",
     "output_type": "stream",
     "text": [
      "La suma de todos los elementos es: 285\n"
     ]
    }
   ],
   "source": [
    "# ejercicio 2: listas \n",
    "\n",
    "lista_enteros = [8, 30, 60, 87, 100]\n",
    "suma_total = 0\n",
    "for entero in lista_enteros:\n",
    "    suma_total = suma_total + entero\n",
    "print(\"La suma de todos los elementos es:\", suma_total)"
   ]
  },
  {
   "cell_type": "code",
   "execution_count": 8,
   "id": "ed43442c-16e4-4cc3-b1b5-833be5b4eace",
   "metadata": {},
   "outputs": [
    {
     "name": "stdout",
     "output_type": "stream",
     "text": [
      "Lista ordenada: ['computadora', 'flor', 'mamá', 'pasta', 'ubicación']\n"
     ]
    }
   ],
   "source": [
    "#ejercicio 3: listas\n",
    "\n",
    "palabras = [\"flor\", \"pasta\", \"ubicación\", \"computadora\", \"mamá\"]\n",
    "n = 0\n",
    "for _ in palabras:\n",
    "    n = n + 1\n",
    "for i in range(n):\n",
    "    for j in range(0, n - i - 1):\n",
    "        if palabras[j] > palabras[j + 1]:\n",
    "            temp = palabras[j]\n",
    "            palabras[j] = palabras[j + 1]\n",
    "            palabras[j + 1] = temp\n",
    "print(\"Lista ordenada:\", palabras)"
   ]
  },
  {
   "cell_type": "code",
   "execution_count": 9,
   "id": "6e62a08b-efb3-4176-ac28-a13cb3b5f9e5",
   "metadata": {},
   "outputs": [
    {
     "name": "stdout",
     "output_type": "stream",
     "text": [
      "Lista sin duplicados: [1, 2, 3, 4, 5, 6, 7]\n"
     ]
    }
   ],
   "source": [
    "# ejercicio 4: listas\n",
    "\n",
    "lista_con_duplicados = [1, 2, 3, 4, 2, 5, 1, 6, 7, 4]\n",
    "sin_duplicados = []\n",
    "for elemento in lista_con_duplicados:\n",
    "    encontrado = False\n",
    "    for item in sin_duplicados:\n",
    "        if elemento == item:\n",
    "            encontrado = True\n",
    "            break\n",
    "    if not encontrado:\n",
    "        sin_duplicados.append(elemento)\n",
    "print(\"Lista sin duplicados:\", sin_duplicados)"
   ]
  },
  {
   "cell_type": "code",
   "execution_count": 12,
   "id": "48ce83c5-35e6-4dd0-a534-d132c9c6d767",
   "metadata": {},
   "outputs": [
    {
     "name": "stdout",
     "output_type": "stream",
     "text": [
      "Lista invertida: [56, 44, 31, 24, 18]\n"
     ]
    }
   ],
   "source": [
    "# ejercicio 5: listas\n",
    "\n",
    "lista_original = [18, 24, 31, 44, 56]\n",
    "lista_invertida = []\n",
    "for elemento in lista_original:\n",
    "    lista_invertida.insert(0, elemento)\n",
    "print(\"Lista invertida:\", lista_invertida)"
   ]
  },
  {
   "cell_type": "code",
   "execution_count": 16,
   "id": "758afb61-298e-443c-b406-bfff3ded36aa",
   "metadata": {},
   "outputs": [
    {
     "name": "stdout",
     "output_type": "stream",
     "text": [
      "El segundo número más grande es: 20\n"
     ]
    }
   ],
   "source": [
    "# ejercico 6: listas\n",
    "\n",
    "lista = [14, 6, 38, 10, 20, 38]\n",
    "max1 = lista[0]\n",
    "max2 = lista[0]\n",
    "for num in lista:\n",
    "    if num > max1:\n",
    "        max2 = max1\n",
    "        max1 = num\n",
    "    elif num > max2 and num != max1:\n",
    "        max2 = num\n",
    "print(\"El segundo número más grande es:\", max2)"
   ]
  },
  {
   "cell_type": "markdown",
   "id": "774b66b9-49b0-4ecb-a9cd-a1bf672ab25e",
   "metadata": {},
   "source": [
    "🔹 Diccionarios\n",
    "\n",
    "- Crea un diccionario con 5 nombres como llaves y edades como valores. Imprime el nombre de la persona más joven.\n",
    "\n",
    "- Dado un diccionario de productos y precios, imprime el producto más caro.\n",
    "\n",
    "- Convierte dos listas (keys, values) en un diccionario.\n",
    "\n",
    "- Cuenta cuántas veces aparece cada letra en una cadena usando un diccionario.\n",
    "\n",
    "- Dado un diccionario, invierte las llaves y valores.\n",
    "\n",
    "- Escribe un programa que sume todos los valores de un diccionario.\n",
    "\n",
    "- Agrega una nueva clave a un diccionario solo si no existe previamente."
   ]
  },
  {
   "cell_type": "code",
   "execution_count": 17,
   "id": "1a99514b-b15b-41a1-92b3-4eda3289c353",
   "metadata": {},
   "outputs": [
    {
     "name": "stdout",
     "output_type": "stream",
     "text": [
      "La persona más joven es: Sophie\n"
     ]
    }
   ],
   "source": [
    "# ejercicio 7 : diccionarios \n",
    "\n",
    "edades = {\n",
    "    \"Eduardo\": 57,\n",
    "    \"Andrea\": 26,\n",
    "    \"Claudia\": 48,\n",
    "    \"Sophie\": 22,\n",
    "    \"Susana\": 50\n",
    "}\n",
    "\n",
    "persona_mas_joven = \"\"\n",
    "edad_mas_joven = 1000 # número random para ver que si jale \n",
    "\n",
    "for nombre, edad in edades.items():\n",
    "    if edad < edad_mas_joven:\n",
    "        edad_mas_joven = edad\n",
    "        persona_mas_joven = nombre\n",
    "\n",
    "print(\"La persona más joven es:\", persona_mas_joven)\n"
   ]
  },
  {
   "cell_type": "code",
   "execution_count": 19,
   "id": "a4aa13b4-9df2-44a8-9a6f-c1c4d9c0d411",
   "metadata": {},
   "outputs": [
    {
     "name": "stdout",
     "output_type": "stream",
     "text": [
      "El producto más caro es: puntas\n"
     ]
    }
   ],
   "source": [
    "# ejericio 8 : diccionarios\n",
    "\n",
    "productos_precios = {\n",
    "    \"puntas\": 3000,\n",
    "    \"listón\": 75,\n",
    "    \"elásticos\": 25,\n",
    "    \"punteras\": 300,\n",
    "    \"hilo\": 80\n",
    "}\n",
    "\n",
    "producto_mas_caro = \"\"\n",
    "precio_mas_caro = 0\n",
    "\n",
    "for producto, precio in productos_precios.items():\n",
    "    if precio > precio_mas_caro:\n",
    "        precio_mas_caro = precio\n",
    "        producto_mas_caro = producto\n",
    "\n",
    "print(\"El producto más caro es:\", producto_mas_caro)"
   ]
  },
  {
   "cell_type": "code",
   "execution_count": 20,
   "id": "4fad1885-2701-40c9-81a4-ff09c2a183c6",
   "metadata": {},
   "outputs": [
    {
     "name": "stdout",
     "output_type": "stream",
     "text": [
      "El nuevo diccionario es: {'nombre': 'Sophie', 'edad': 22, 'ciudad': 'Querétaro'}\n"
     ]
    }
   ],
   "source": [
    "# ejercicio 9 : diccionarios\n",
    "\n",
    "keys = [\"nombre\", \"edad\", \"ciudad\"]\n",
    "values = [\"Sophie\", 22, \"Querétaro\"]\n",
    "\n",
    "nuevo_diccionario = {}\n",
    "for i in range(len(keys)):\n",
    "    nuevo_diccionario[keys[i]] = values[i]\n",
    "\n",
    "print(\"El nuevo diccionario es:\", nuevo_diccionario)"
   ]
  },
  {
   "cell_type": "code",
   "execution_count": 22,
   "id": "84855f9e-dee2-4684-a695-9e6b7d451930",
   "metadata": {},
   "outputs": [
    {
     "name": "stdout",
     "output_type": "stream",
     "text": [
      "Conteo de letras: {'l': 1, 'o': 4, 's': 3, 'd': 1, 'u': 2, 'e': 2, 'r': 1, 'm': 2, 'n': 1, 'c': 1, 'h': 1}\n"
     ]
    }
   ],
   "source": [
    "# ejercicio 10: diccionarios\n",
    "\n",
    "cadena = \"los osos duermen mucho\"\n",
    "conteo_letras = {}\n",
    "\n",
    "for letra in cadena:\n",
    "    if letra != \" \": \n",
    "        if letra in conteo_letras:\n",
    "            conteo_letras[letra] = conteo_letras[letra] + 1\n",
    "        else:\n",
    "            conteo_letras[letra] = 1\n",
    "\n",
    "print(\"Conteo de letras:\", conteo_letras)"
   ]
  },
  {
   "cell_type": "code",
   "execution_count": 23,
   "id": "41808d14-ed8f-438d-ad4b-5703db663981",
   "metadata": {},
   "outputs": [
    {
     "name": "stdout",
     "output_type": "stream",
     "text": [
      "Diccionario original: {'a': 2, 'b': 4, 'c': 6}\n",
      "Diccionario invertido: {2: 'a', 4: 'b', 6: 'c'}\n"
     ]
    }
   ],
   "source": [
    "# ejercicio 11: diccionarios\n",
    "\n",
    "diccionario_original = {\n",
    "    \"a\": 2,\n",
    "    \"b\": 4,\n",
    "    \"c\": 6\n",
    "}\n",
    "\n",
    "diccionario_invertido = {}\n",
    "for llave, valor in diccionario_original.items():\n",
    "    diccionario_invertido[valor] = llave\n",
    "\n",
    "print(\"Diccionario original:\", diccionario_original)\n",
    "print(\"Diccionario invertido:\", diccionario_invertido)\n",
    "\n"
   ]
  },
  {
   "cell_type": "code",
   "execution_count": 24,
   "id": "deac9147-333b-44a7-b716-c55d8cd4ddc2",
   "metadata": {},
   "outputs": [
    {
     "name": "stdout",
     "output_type": "stream",
     "text": [
      "La suma de todos los valores es: 70\n"
     ]
    }
   ],
   "source": [
    "# ejercicio 12: diccionarios\n",
    "\n",
    "diccionario_valores = {\n",
    "    \"valor1\": 18,\n",
    "    \"valor2\": 22,\n",
    "    \"valor3\": 30\n",
    "}\n",
    "\n",
    "suma_total = 0\n",
    "for valor in diccionario_valores.values():\n",
    "    suma_total = suma_total + valor\n",
    "\n",
    "print(\"La suma de todos los valores es:\", suma_total)\n",
    "\n"
   ]
  },
  {
   "cell_type": "code",
   "execution_count": 25,
   "id": "8c1eb3ec-d94d-419e-b869-c64db503008a",
   "metadata": {},
   "outputs": [
    {
     "name": "stdout",
     "output_type": "stream",
     "text": [
      "Diccionario final: {'nombre': 'Arath', 'edad': 20, 'ciudad': 'Celaya'}\n"
     ]
    }
   ],
   "source": [
    "# ejercicio 13: diccionarios\n",
    "\n",
    "mi_diccionario = {\n",
    "    \"nombre\": \"Arath\",\n",
    "    \"edad\": 20\n",
    "}\n",
    "\n",
    "nueva_llave = \"ciudad\"\n",
    "if nueva_llave not in mi_diccionario:\n",
    "    mi_diccionario[nueva_llave] = \"Celaya\"\n",
    "\n",
    "\n",
    "nueva_llave_existente = \"nombre\"\n",
    "if nueva_llave_existente not in mi_diccionario:\n",
    "    mi_diccionario[nueva_llave_existente] = \"Carlos\"\n",
    "\n",
    "print(\"Diccionario final:\", mi_diccionario)"
   ]
  },
  {
   "cell_type": "markdown",
   "id": "4d5c3c46-3164-4039-bbf6-86c8a8aa82ae",
   "metadata": {},
   "source": [
    "🔹 Loops - for/while\n",
    "\n",
    "- Genera la secuencia de Fibonacci hasta 100 con un bucle while\n",
    "\n",
    "- Genera la secuencia de Fibonacci hasta 100 con una función recursiva\n",
    "\n",
    "- Crea una función recursiva que calcule la suma de los dígitos de un número."
   ]
  },
  {
   "cell_type": "code",
   "execution_count": 27,
   "id": "0e0e8065-06d5-4294-9f19-651a2ba511fb",
   "metadata": {},
   "outputs": [
    {
     "name": "stdout",
     "output_type": "stream",
     "text": [
      "Secuencia de Fibonacci hasta 100:\n",
      "0\n",
      "3\n",
      "3\n",
      "6\n",
      "9\n",
      "15\n",
      "24\n",
      "39\n",
      "63\n"
     ]
    }
   ],
   "source": [
    "# ejercicio 14: Loops\n",
    "\n",
    "a = 0\n",
    "b = 3\n",
    "print(\"Secuencia de Fibonacci hasta 100:\")\n",
    "while a <= 100:\n",
    "    print(a)\n",
    "    temp = a\n",
    "    a = b\n",
    "    b = temp + b\n"
   ]
  },
  {
   "cell_type": "code",
   "execution_count": 31,
   "id": "a62f726d-95e0-4b63-bf4c-45de7414785a",
   "metadata": {},
   "outputs": [
    {
     "name": "stdout",
     "output_type": "stream",
     "text": [
      "Secuencia de Fibonacci hasta 100 (recursiva):\n",
      "0\n",
      "1\n",
      "1\n",
      "2\n",
      "3\n",
      "5\n",
      "8\n",
      "13\n",
      "21\n",
      "34\n",
      "55\n",
      "89\n"
     ]
    }
   ],
   "source": [
    "# ejercicio 15 : Loops\n",
    "\n",
    "def fibonacci_recursivo(n):\n",
    "    if n <= 1:\n",
    "        return n\n",
    "    else:\n",
    "        return fibonacci_recursivo(n - 1) + fibonacci_recursivo(n - 2)\n",
    "\n",
    "print(\"Secuencia de Fibonacci hasta 100 (recursiva):\")\n",
    "i = 0\n",
    "while True:\n",
    "    fib = fibonacci_recursivo(i)\n",
    "    if fib > 100:\n",
    "        break\n",
    "    print(fib)\n",
    "    i = i + 1"
   ]
  },
  {
   "cell_type": "code",
   "execution_count": 33,
   "id": "f647541b-9fb0-4425-9c8a-730dae9c795b",
   "metadata": {},
   "outputs": [
    {
     "name": "stdout",
     "output_type": "stream",
     "text": [
      "La suma de los dígitos de 12345 es: 15\n"
     ]
    }
   ],
   "source": [
    "#ejercicio 16: Loops\n",
    "\n",
    "def suma_digitos_recursiva(numero):\n",
    "    if numero == 0:\n",
    "        return 0\n",
    "    else:\n",
    "        return (numero % 10) + suma_digitos_recursiva(numero // 10) # el \"10%\" es importante para el residuo y \"// 10\" es importante para el cociente OJO PIOJO\n",
    "\n",
    "numero_ejemplo = 12345\n",
    "print(f\"La suma de los dígitos de {numero_ejemplo} es: {suma_digitos_recursiva(numero_ejemplo)}\")"
   ]
  },
  {
   "cell_type": "markdown",
   "id": "e6782284-b15f-438c-861a-d4447226631a",
   "metadata": {},
   "source": [
    "🔹 if / elif / else\n",
    "\n",
    "- Pide al usuario un número e indica si es positivo, negativo o cero.\n",
    "\n",
    "- Pide una edad e imprime si es niño, adolescente, adulto o adulto mayor.\n",
    "\n",
    "- Pide un número e indica si es par o impar.\n",
    "\n",
    "- Crea un programa que simule una calculadora básica con if/elif/else.\n",
    "\n",
    "- Dado un número del 1 al 7, imprime el día de la semana correspondiente."
   ]
  },
  {
   "cell_type": "code",
   "execution_count": 34,
   "id": "4c2edfdd-09bb-4608-9b29-364290497926",
   "metadata": {},
   "outputs": [
    {
     "name": "stdin",
     "output_type": "stream",
     "text": [
      "Ingresa un número:  16\n"
     ]
    },
    {
     "name": "stdout",
     "output_type": "stream",
     "text": [
      "El número es positivo.\n"
     ]
    }
   ],
   "source": [
    "# ejercicio 17: if/elif/else\n",
    "\n",
    "try:\n",
    "    numero = float(input(\"Ingresa un número: \"))\n",
    "    if numero > 0:\n",
    "        print(\"El número es positivo.\")\n",
    "    elif numero < 0:\n",
    "        print(\"El número es negativo.\")\n",
    "    else:\n",
    "        print(\"El número es cero.\")\n",
    "except ValueError:\n",
    "    print(\"Entrada no válida. Por favor, ingresa un número.\")"
   ]
  },
  {
   "cell_type": "code",
   "execution_count": 36,
   "id": "83e78e58-bc72-4a02-8e4d-5de7392dc701",
   "metadata": {},
   "outputs": [
    {
     "name": "stdin",
     "output_type": "stream",
     "text": [
      "Ingresa tu edad:  22\n"
     ]
    },
    {
     "name": "stdout",
     "output_type": "stream",
     "text": [
      "Eres un adulto.\n"
     ]
    }
   ],
   "source": [
    "# ejercicio 18: if/elif/else\n",
    "\n",
    "try:\n",
    "    edad = int(input(\"Ingresa tu edad: \"))\n",
    "    if edad < 0:\n",
    "        print(\"La edad no puede ser un número negativo.\")\n",
    "    elif edad <= 10:\n",
    "        print(\"Eres un niño.\")\n",
    "    elif edad <= 15:\n",
    "        print(\"Eres un adolescente.\")\n",
    "    elif edad <= 60:\n",
    "        print(\"Eres un adulto.\")\n",
    "    else:\n",
    "        print(\"Eres un adulto mayor.\")\n",
    "except ValueError:\n",
    "    print(\"Entrada no válida. Por favor, ingresa un número entero para la edad.\")"
   ]
  },
  {
   "cell_type": "code",
   "execution_count": null,
   "id": "c4b988ea-b4e0-4d53-907c-78390dab9836",
   "metadata": {},
   "outputs": [],
   "source": [
    "# ejercicio 19: if/elif/else\n",
    "\n"
   ]
  },
  {
   "cell_type": "markdown",
   "id": "62aed855-3061-45f4-88bf-2a75a8d341c5",
   "metadata": {},
   "source": [
    "🔹 Ejercicio Frecuencia de números en matriz\n",
    "\n",
    "- Genera una matriz 6x6 de enteros aleatorios entre 1 y 10 usando NumPy.\n",
    "\n",
    "- Recorre la matriz y guarda en un diccionario la frecuencia de cada número.\n",
    "\n",
    "- Convierte el diccionario en una lista de tuplas (número, frecuencia) y ordénala de mayor a menor frecuencia.\n",
    "\n",
    "- Imprime la matriz, el diccionario y la lista ordenada."
   ]
  },
  {
   "cell_type": "markdown",
   "id": "48e1ab49-c991-45e6-b9a5-9a2462a56607",
   "metadata": {},
   "source": [
    "🔹 Ejercicio Clasificación de filas por suma\n",
    "\n",
    "- Genera una matriz 6x6 de números aleatorios entre 1 y 50.\n",
    "\n",
    "- Calcula la suma de cada fila y almacénala en un diccionario: {\"fila_1\": suma, \"fila_2\": suma, ...}.\n",
    "\n",
    "- Recorre el diccionario y clasifica cada fila en una lista distinta:\n",
    "\n",
    "- \"baja\" si la suma < 100\n",
    "\n",
    "- \"media\" si 100 ≤ suma < 200\n",
    "\n",
    "- \"alta\" si suma ≥ 200\n",
    "\n",
    "- Imprime la matriz, el diccionario y las tres listas (baja, media, alta)."
   ]
  },
  {
   "cell_type": "markdown",
   "id": "a7dcab51-cf15-49bd-8648-c0004bb2a6ca",
   "metadata": {},
   "source": [
    "🔹 Ejercicio Promedios por columna y gráfico de líneas\n",
    "\n",
    "- Crea una matriz 10x5 con enteros entre 10 y 100.\n",
    "\n",
    "- Calcula el promedio de cada columna usando un bucle.\n",
    "\n",
    "- Guarda los resultados en un diccionario con claves \"col_1\" ... \"col_5\".\n",
    "\n",
    "- Convierte los valores en una lista y grafícalos en una línea (line plot) mostrando el promedio por columna."
   ]
  },
  {
   "cell_type": "markdown",
   "id": "274e5828-168a-4eae-bf98-4ee05a06436a",
   "metadata": {},
   "source": [
    "🔹 Ejercicio Evolución temporal simulada\n",
    "\n",
    "- Simula con NumPy una lista de 30 días con valores aleatorios de temperatura entre 15°C y 35°C.\n",
    "\n",
    "- Almacena los valores en un diccionario con claves \"día_1\", \"día_2\", ....\n",
    "\n",
    "- Usa un bucle para crear una lista con los días donde la temperatura superó 30°C.\n",
    "\n",
    "- Grafica las temperaturas en un gráfico de línea con puntos marcados (scatter + line plot).\n",
    "\n",
    "- Marca en rojo los días con temperatura > 30°C."
   ]
  },
  {
   "cell_type": "markdown",
   "id": "859f5929-28bb-4708-ac2e-ea39d115eabc",
   "metadata": {},
   "source": [
    "🔹 Ejercicio Comparación de distribuciones\n",
    "\n",
    "- Genera dos arreglos de 100 números aleatorios con distribución normal:\n",
    "\n",
    "- grupo_A: media 50, desviación 10\n",
    "\n",
    "- grupo_B: media 60, desviación 15\n",
    "\n",
    "- Guarda en un diccionario con claves \"A\" y \"B\".\n",
    "\n",
    "- Calcula media y desviación estándar de cada grupo y guárdalas en listas.\n",
    "\n",
    "- Grafica ambos grupos en un histograma comparativo (superposición con colores diferentes y transparencia)."
   ]
  },
  {
   "cell_type": "markdown",
   "id": "f02dd7ab-0f94-4cd5-ae76-5fdab3434578",
   "metadata": {},
   "source": [
    "🔹 Ejercicio Clasificación de temperaturas\n",
    "\n",
    "- Genera una Serie con 50 valores aleatorios entre -10 y 40 (temperaturas).\n",
    "\n",
    "- Recorre la Serie y clasifica cada temperatura en un diccionario:\n",
    "\n",
    "- \"frío\" si < 10\n",
    "\n",
    "- \"templado\" si 10–25\n",
    "\n",
    "- \"calor\" si > 25\n",
    "\n",
    "- Convierte el diccionario en un DataFrame con columnas \"Temperatura\" y \"Categoría\".\n",
    "\n",
    "- Cuenta cuántos valores cayeron en cada categoría."
   ]
  },
  {
   "cell_type": "markdown",
   "id": "47a3878d-a30e-4d68-b2ba-d70aeb6b995e",
   "metadata": {},
   "source": [
    "🔹 Ejercicio Matriz de distancias\n",
    "\n",
    "- Genera una matriz 10x2 con coordenadas aleatorias (x, y) entre 0 y 100.\n",
    "\n",
    "- Con un bucle, calcula las distancias euclidianas entre cada par de puntos y guárdalas en un diccionario con claves (i,j).\n",
    "\n",
    "- Convierte el diccionario en un DataFrame de 10x10 (matriz de distancias).\n",
    "\n",
    "- Encuentra el par de puntos más cercanos y el más lejano."
   ]
  },
  {
   "cell_type": "markdown",
   "id": "83110dd5-9367-4715-9160-54cb296b7aa9",
   "metadata": {},
   "source": [
    "🔹 Ejercicio Análisis de series temporales\n",
    "\n",
    "Genera con NumPy una Serie de 365 valores aleatorios entre 10 y 40 (temperatura diaria de un año).\n",
    "\n",
    "Convierte en un DataFrame con columnas \"Día\" y \"Temperatura\".\n",
    "\n",
    "Usa un bucle para calcular la media de cada mes (asume 30 días por mes).\n",
    "\n",
    "Guarda las medias en un diccionario {Mes: Promedio}.\n",
    "\n",
    "Convierte el diccionario en una Series y ordénala de mayor a menor."
   ]
  },
  {
   "cell_type": "markdown",
   "id": "696cbd58-a2f3-4f4b-927b-cf106b0b1eab",
   "metadata": {},
   "source": [
    "🔹 Ejercicio Actividad neuronal por regiones\n",
    "\n",
    "Genera una matriz 100x5 con NumPy representando la actividad de 100 neuronas en 5 regiones cerebrales (valores entre 0 y 1 como tasas de disparo).\n",
    "\n",
    "Convierte la matriz en un DataFrame con columnas \"Región_1\"... \"Región_5\".\n",
    "\n",
    "Usa un bucle para calcular la actividad media de cada región y guárdala en un diccionario.\n",
    "\n",
    "Convierte el diccionario en una Series y ordénala de mayor a menor."
   ]
  },
  {
   "cell_type": "markdown",
   "id": "07f21b80-6ed2-4251-979f-e8c200c8b43d",
   "metadata": {},
   "source": [
    "🔹 Ejercicio Conectividad funcional (correlaciones)\n",
    "\n",
    "Simula con NumPy una matriz 200x4 con series de tiempo de actividad fMRI en 4 áreas cerebrales.\n",
    "\n",
    "Convierte en un DataFrame con columnas \"Área_1\"... \"Área_4\".\n",
    "\n",
    "Con un bucle, calcula la correlación de Pearson entre todas las parejas de áreas y guárdala en un diccionario con claves (Área_i, Área_j).\n",
    "\n",
    "Convierte el diccionario en un DataFrame cuadrado (matriz de conectividad)."
   ]
  },
  {
   "cell_type": "markdown",
   "id": "c1444400-53e6-4b0a-8c84-07327492c649",
   "metadata": {},
   "source": [
    "🔹 Ejercicio Potenciales de acción por neurona\n",
    "\n",
    "Genera una lista de 50 neuronas.\n",
    "\n",
    "Para cada neurona, simula con NumPy una Serie de 100 ms de actividad (valores enteros 0 o 1 indicando si disparó o no).\n",
    "\n",
    "Guarda los resultados en un diccionario {Neurona: Serie}.\n",
    "\n",
    "Crea un DataFrame con todas las neuronas (filas) y tiempos (columnas).\n",
    "\n",
    "Usa un bucle para contar cuántos disparos totales tuvo cada neurona y genera una Series con esos valores."
   ]
  },
  {
   "cell_type": "markdown",
   "id": "b3fa8e28-a6aa-4ea0-a297-8df5b1077855",
   "metadata": {},
   "source": [
    "🔹 Ejercicio EEG por canales\n",
    "\n",
    "Simula una matriz 500x8 con NumPy representando 500 muestras de señal EEG en 8 canales (valores flotantes entre -100 y 100 µV).\n",
    "\n",
    "Convierte la matriz en un DataFrame con columnas \"Canal_1\"... \"Canal_8\".\n",
    "\n",
    "Usa un bucle para calcular la potencia media de cada canal (media del cuadrado de la señal).\n",
    "\n",
    "Guarda los resultados en un diccionario y conviértelo en una Series ordenada.\n",
    "\n",
    "Identifica el canal con mayor potencia."
   ]
  },
  {
   "cell_type": "markdown",
   "id": "64464de2-850c-4c86-b245-843e183f0a68",
   "metadata": {},
   "source": [
    "🔹 Ejercicio Análisis de respuestas a estímulos\n",
    "\n",
    "Genera un DataFrame con 30 sujetos (filas) y 3 condiciones experimentales (\"Cond_A\", \"Cond_B\", \"Cond_C\") con valores de tiempo de reacción simulados (valores entre 200–800 ms).\n",
    "\n",
    "Usa un bucle para calcular el promedio por condición en toda la muestra.\n",
    "\n",
    "Convierte los resultados en un diccionario y luego en una Series.\n",
    "\n",
    "Agrega una columna \"Mejor_condición\" al DataFrame indicando la condición más rápida por sujeto.\n",
    "\n",
    "Cuenta cuántos sujetos respondieron mejor en cada condición."
   ]
  },
  {
   "cell_type": "code",
   "execution_count": null,
   "id": "ebd7c105-85eb-4762-9a63-1515dd3313a4",
   "metadata": {},
   "outputs": [],
   "source": []
  }
 ],
 "metadata": {
  "kernelspec": {
   "display_name": "Python 3 (ipykernel)",
   "language": "python",
   "name": "python3"
  },
  "language_info": {
   "codemirror_mode": {
    "name": "ipython",
    "version": 3
   },
   "file_extension": ".py",
   "mimetype": "text/x-python",
   "name": "python",
   "nbconvert_exporter": "python",
   "pygments_lexer": "ipython3",
   "version": "3.10.4"
  }
 },
 "nbformat": 4,
 "nbformat_minor": 5
}
