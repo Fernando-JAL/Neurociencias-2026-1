{
 "cells": [
  {
   "cell_type": "code",
   "execution_count": null,
   "id": "initial_id",
   "metadata": {
    "collapsed": true
   },
   "outputs": [],
   "source": [
    ""
   ]
  },
  {
   "metadata": {
    "ExecuteTime": {
     "end_time": "2025-10-23T16:12:53.656845Z",
     "start_time": "2025-10-23T16:12:34.146310Z"
    }
   },
   "cell_type": "code",
   "source": [
    "import matplotlib.pyplot as plt\n",
    "import scipy.io\n",
    "import seaborn as sns\n",
    "import numpy as np\n",
    "import pandas as pd\n",
    "import networkx as nx"
   ],
   "id": "bb6d67ebdf0549bb",
   "outputs": [],
   "execution_count": 2
  },
  {
   "metadata": {
    "ExecuteTime": {
     "end_time": "2025-10-23T16:41:58.679141Z",
     "start_time": "2025-10-23T16:41:58.638209Z"
    }
   },
   "cell_type": "code",
   "source": [
    "##EJERCICIO 1\n",
    "data1 = {'Zigno Zodiacal': ['Sagitario', 'Leo', 'Tauro'],'Edad': [25, 30, 22]}\n",
    "df = pd.DataFrame(data1)\n",
    "\n",
    "data2 = {'Zigno Zodiacal': ['Capricornio', 'Géminis', 'Aries'],'Edad': [45, 19, 33]}\n",
    "df2 = pd.DataFrame(data2)\n",
    "df_concatenado = pd.concat([df, df2], axis=0)\n",
    "df_concatenado"
   ],
   "id": "2bde16efd4276461",
   "outputs": [
    {
     "data": {
      "text/plain": [
       "  Zigno Zodiacal  Edad\n",
       "0      Sagitario    25\n",
       "1            Leo    30\n",
       "2          Tauro    22\n",
       "0    Capricornio    45\n",
       "1        Géminis    19\n",
       "2          Aries    33"
      ],
      "text/html": [
       "<div>\n",
       "<style scoped>\n",
       "    .dataframe tbody tr th:only-of-type {\n",
       "        vertical-align: middle;\n",
       "    }\n",
       "\n",
       "    .dataframe tbody tr th {\n",
       "        vertical-align: top;\n",
       "    }\n",
       "\n",
       "    .dataframe thead th {\n",
       "        text-align: right;\n",
       "    }\n",
       "</style>\n",
       "<table border=\"1\" class=\"dataframe\">\n",
       "  <thead>\n",
       "    <tr style=\"text-align: right;\">\n",
       "      <th></th>\n",
       "      <th>Zigno Zodiacal</th>\n",
       "      <th>Edad</th>\n",
       "    </tr>\n",
       "  </thead>\n",
       "  <tbody>\n",
       "    <tr>\n",
       "      <th>0</th>\n",
       "      <td>Sagitario</td>\n",
       "      <td>25</td>\n",
       "    </tr>\n",
       "    <tr>\n",
       "      <th>1</th>\n",
       "      <td>Leo</td>\n",
       "      <td>30</td>\n",
       "    </tr>\n",
       "    <tr>\n",
       "      <th>2</th>\n",
       "      <td>Tauro</td>\n",
       "      <td>22</td>\n",
       "    </tr>\n",
       "    <tr>\n",
       "      <th>0</th>\n",
       "      <td>Capricornio</td>\n",
       "      <td>45</td>\n",
       "    </tr>\n",
       "    <tr>\n",
       "      <th>1</th>\n",
       "      <td>Géminis</td>\n",
       "      <td>19</td>\n",
       "    </tr>\n",
       "    <tr>\n",
       "      <th>2</th>\n",
       "      <td>Aries</td>\n",
       "      <td>33</td>\n",
       "    </tr>\n",
       "  </tbody>\n",
       "</table>\n",
       "</div>"
      ]
     },
     "execution_count": 23,
     "metadata": {},
     "output_type": "execute_result"
    }
   ],
   "execution_count": 23
  },
  {
   "metadata": {
    "ExecuteTime": {
     "end_time": "2025-10-23T16:57:04.802440Z",
     "start_time": "2025-10-23T16:57:04.725427Z"
    }
   },
   "cell_type": "code",
   "source": [
    "##EJERCICIO 2\n",
    "mu, sigma= 0, 1000\n",
    "data= np.random.uniform(mu, sigma, size=[30, 1])\n",
    "df_Enero =pd.DataFrame(data, columns=['Ventas'])\n",
    "df_Enero['Mes'] = 'Enero'\n",
    "df_Enero\n",
    "df_Febrero=pd.DataFrame(data, columns=['Ventas'])\n",
    "df_Febrero['Mes'] = 'Febrero'\n",
    "df_Febrero\n",
    "\n",
    "df_ventas = pd.concat([df_Enero, df_Febrero], axis=0)\n",
    "df_ventas\n"
   ],
   "id": "cc56d56affb11aa5",
   "outputs": [
    {
     "data": {
      "text/plain": [
       "        Ventas      Mes\n",
       "0   851.413167    Enero\n",
       "1   890.504362    Enero\n",
       "2   924.231061    Enero\n",
       "3   545.980268    Enero\n",
       "4   197.360220    Enero\n",
       "5   489.494479    Enero\n",
       "6   537.481610    Enero\n",
       "7   106.022413    Enero\n",
       "8   748.607384    Enero\n",
       "9   953.767183    Enero\n",
       "10  855.599760    Enero\n",
       "11  635.268694    Enero\n",
       "12   29.576543    Enero\n",
       "13  920.510534    Enero\n",
       "14  175.962183    Enero\n",
       "15  447.883515    Enero\n",
       "16  944.370521    Enero\n",
       "17  180.369606    Enero\n",
       "18  514.369735    Enero\n",
       "19  936.392588    Enero\n",
       "20  378.016016    Enero\n",
       "21  795.045218    Enero\n",
       "22  664.908256    Enero\n",
       "23  282.789822    Enero\n",
       "24  359.929930    Enero\n",
       "25   68.915070    Enero\n",
       "26  885.595219    Enero\n",
       "27  650.964086    Enero\n",
       "28  473.105286    Enero\n",
       "29  678.086873    Enero\n",
       "0   851.413167  Febrero\n",
       "1   890.504362  Febrero\n",
       "2   924.231061  Febrero\n",
       "3   545.980268  Febrero\n",
       "4   197.360220  Febrero\n",
       "5   489.494479  Febrero\n",
       "6   537.481610  Febrero\n",
       "7   106.022413  Febrero\n",
       "8   748.607384  Febrero\n",
       "9   953.767183  Febrero\n",
       "10  855.599760  Febrero\n",
       "11  635.268694  Febrero\n",
       "12   29.576543  Febrero\n",
       "13  920.510534  Febrero\n",
       "14  175.962183  Febrero\n",
       "15  447.883515  Febrero\n",
       "16  944.370521  Febrero\n",
       "17  180.369606  Febrero\n",
       "18  514.369735  Febrero\n",
       "19  936.392588  Febrero\n",
       "20  378.016016  Febrero\n",
       "21  795.045218  Febrero\n",
       "22  664.908256  Febrero\n",
       "23  282.789822  Febrero\n",
       "24  359.929930  Febrero\n",
       "25   68.915070  Febrero\n",
       "26  885.595219  Febrero\n",
       "27  650.964086  Febrero\n",
       "28  473.105286  Febrero\n",
       "29  678.086873  Febrero"
      ],
      "text/html": [
       "<div>\n",
       "<style scoped>\n",
       "    .dataframe tbody tr th:only-of-type {\n",
       "        vertical-align: middle;\n",
       "    }\n",
       "\n",
       "    .dataframe tbody tr th {\n",
       "        vertical-align: top;\n",
       "    }\n",
       "\n",
       "    .dataframe thead th {\n",
       "        text-align: right;\n",
       "    }\n",
       "</style>\n",
       "<table border=\"1\" class=\"dataframe\">\n",
       "  <thead>\n",
       "    <tr style=\"text-align: right;\">\n",
       "      <th></th>\n",
       "      <th>Ventas</th>\n",
       "      <th>Mes</th>\n",
       "    </tr>\n",
       "  </thead>\n",
       "  <tbody>\n",
       "    <tr>\n",
       "      <th>0</th>\n",
       "      <td>851.413167</td>\n",
       "      <td>Enero</td>\n",
       "    </tr>\n",
       "    <tr>\n",
       "      <th>1</th>\n",
       "      <td>890.504362</td>\n",
       "      <td>Enero</td>\n",
       "    </tr>\n",
       "    <tr>\n",
       "      <th>2</th>\n",
       "      <td>924.231061</td>\n",
       "      <td>Enero</td>\n",
       "    </tr>\n",
       "    <tr>\n",
       "      <th>3</th>\n",
       "      <td>545.980268</td>\n",
       "      <td>Enero</td>\n",
       "    </tr>\n",
       "    <tr>\n",
       "      <th>4</th>\n",
       "      <td>197.360220</td>\n",
       "      <td>Enero</td>\n",
       "    </tr>\n",
       "    <tr>\n",
       "      <th>5</th>\n",
       "      <td>489.494479</td>\n",
       "      <td>Enero</td>\n",
       "    </tr>\n",
       "    <tr>\n",
       "      <th>6</th>\n",
       "      <td>537.481610</td>\n",
       "      <td>Enero</td>\n",
       "    </tr>\n",
       "    <tr>\n",
       "      <th>7</th>\n",
       "      <td>106.022413</td>\n",
       "      <td>Enero</td>\n",
       "    </tr>\n",
       "    <tr>\n",
       "      <th>8</th>\n",
       "      <td>748.607384</td>\n",
       "      <td>Enero</td>\n",
       "    </tr>\n",
       "    <tr>\n",
       "      <th>9</th>\n",
       "      <td>953.767183</td>\n",
       "      <td>Enero</td>\n",
       "    </tr>\n",
       "    <tr>\n",
       "      <th>10</th>\n",
       "      <td>855.599760</td>\n",
       "      <td>Enero</td>\n",
       "    </tr>\n",
       "    <tr>\n",
       "      <th>11</th>\n",
       "      <td>635.268694</td>\n",
       "      <td>Enero</td>\n",
       "    </tr>\n",
       "    <tr>\n",
       "      <th>12</th>\n",
       "      <td>29.576543</td>\n",
       "      <td>Enero</td>\n",
       "    </tr>\n",
       "    <tr>\n",
       "      <th>13</th>\n",
       "      <td>920.510534</td>\n",
       "      <td>Enero</td>\n",
       "    </tr>\n",
       "    <tr>\n",
       "      <th>14</th>\n",
       "      <td>175.962183</td>\n",
       "      <td>Enero</td>\n",
       "    </tr>\n",
       "    <tr>\n",
       "      <th>15</th>\n",
       "      <td>447.883515</td>\n",
       "      <td>Enero</td>\n",
       "    </tr>\n",
       "    <tr>\n",
       "      <th>16</th>\n",
       "      <td>944.370521</td>\n",
       "      <td>Enero</td>\n",
       "    </tr>\n",
       "    <tr>\n",
       "      <th>17</th>\n",
       "      <td>180.369606</td>\n",
       "      <td>Enero</td>\n",
       "    </tr>\n",
       "    <tr>\n",
       "      <th>18</th>\n",
       "      <td>514.369735</td>\n",
       "      <td>Enero</td>\n",
       "    </tr>\n",
       "    <tr>\n",
       "      <th>19</th>\n",
       "      <td>936.392588</td>\n",
       "      <td>Enero</td>\n",
       "    </tr>\n",
       "    <tr>\n",
       "      <th>20</th>\n",
       "      <td>378.016016</td>\n",
       "      <td>Enero</td>\n",
       "    </tr>\n",
       "    <tr>\n",
       "      <th>21</th>\n",
       "      <td>795.045218</td>\n",
       "      <td>Enero</td>\n",
       "    </tr>\n",
       "    <tr>\n",
       "      <th>22</th>\n",
       "      <td>664.908256</td>\n",
       "      <td>Enero</td>\n",
       "    </tr>\n",
       "    <tr>\n",
       "      <th>23</th>\n",
       "      <td>282.789822</td>\n",
       "      <td>Enero</td>\n",
       "    </tr>\n",
       "    <tr>\n",
       "      <th>24</th>\n",
       "      <td>359.929930</td>\n",
       "      <td>Enero</td>\n",
       "    </tr>\n",
       "    <tr>\n",
       "      <th>25</th>\n",
       "      <td>68.915070</td>\n",
       "      <td>Enero</td>\n",
       "    </tr>\n",
       "    <tr>\n",
       "      <th>26</th>\n",
       "      <td>885.595219</td>\n",
       "      <td>Enero</td>\n",
       "    </tr>\n",
       "    <tr>\n",
       "      <th>27</th>\n",
       "      <td>650.964086</td>\n",
       "      <td>Enero</td>\n",
       "    </tr>\n",
       "    <tr>\n",
       "      <th>28</th>\n",
       "      <td>473.105286</td>\n",
       "      <td>Enero</td>\n",
       "    </tr>\n",
       "    <tr>\n",
       "      <th>29</th>\n",
       "      <td>678.086873</td>\n",
       "      <td>Enero</td>\n",
       "    </tr>\n",
       "    <tr>\n",
       "      <th>0</th>\n",
       "      <td>851.413167</td>\n",
       "      <td>Febrero</td>\n",
       "    </tr>\n",
       "    <tr>\n",
       "      <th>1</th>\n",
       "      <td>890.504362</td>\n",
       "      <td>Febrero</td>\n",
       "    </tr>\n",
       "    <tr>\n",
       "      <th>2</th>\n",
       "      <td>924.231061</td>\n",
       "      <td>Febrero</td>\n",
       "    </tr>\n",
       "    <tr>\n",
       "      <th>3</th>\n",
       "      <td>545.980268</td>\n",
       "      <td>Febrero</td>\n",
       "    </tr>\n",
       "    <tr>\n",
       "      <th>4</th>\n",
       "      <td>197.360220</td>\n",
       "      <td>Febrero</td>\n",
       "    </tr>\n",
       "    <tr>\n",
       "      <th>5</th>\n",
       "      <td>489.494479</td>\n",
       "      <td>Febrero</td>\n",
       "    </tr>\n",
       "    <tr>\n",
       "      <th>6</th>\n",
       "      <td>537.481610</td>\n",
       "      <td>Febrero</td>\n",
       "    </tr>\n",
       "    <tr>\n",
       "      <th>7</th>\n",
       "      <td>106.022413</td>\n",
       "      <td>Febrero</td>\n",
       "    </tr>\n",
       "    <tr>\n",
       "      <th>8</th>\n",
       "      <td>748.607384</td>\n",
       "      <td>Febrero</td>\n",
       "    </tr>\n",
       "    <tr>\n",
       "      <th>9</th>\n",
       "      <td>953.767183</td>\n",
       "      <td>Febrero</td>\n",
       "    </tr>\n",
       "    <tr>\n",
       "      <th>10</th>\n",
       "      <td>855.599760</td>\n",
       "      <td>Febrero</td>\n",
       "    </tr>\n",
       "    <tr>\n",
       "      <th>11</th>\n",
       "      <td>635.268694</td>\n",
       "      <td>Febrero</td>\n",
       "    </tr>\n",
       "    <tr>\n",
       "      <th>12</th>\n",
       "      <td>29.576543</td>\n",
       "      <td>Febrero</td>\n",
       "    </tr>\n",
       "    <tr>\n",
       "      <th>13</th>\n",
       "      <td>920.510534</td>\n",
       "      <td>Febrero</td>\n",
       "    </tr>\n",
       "    <tr>\n",
       "      <th>14</th>\n",
       "      <td>175.962183</td>\n",
       "      <td>Febrero</td>\n",
       "    </tr>\n",
       "    <tr>\n",
       "      <th>15</th>\n",
       "      <td>447.883515</td>\n",
       "      <td>Febrero</td>\n",
       "    </tr>\n",
       "    <tr>\n",
       "      <th>16</th>\n",
       "      <td>944.370521</td>\n",
       "      <td>Febrero</td>\n",
       "    </tr>\n",
       "    <tr>\n",
       "      <th>17</th>\n",
       "      <td>180.369606</td>\n",
       "      <td>Febrero</td>\n",
       "    </tr>\n",
       "    <tr>\n",
       "      <th>18</th>\n",
       "      <td>514.369735</td>\n",
       "      <td>Febrero</td>\n",
       "    </tr>\n",
       "    <tr>\n",
       "      <th>19</th>\n",
       "      <td>936.392588</td>\n",
       "      <td>Febrero</td>\n",
       "    </tr>\n",
       "    <tr>\n",
       "      <th>20</th>\n",
       "      <td>378.016016</td>\n",
       "      <td>Febrero</td>\n",
       "    </tr>\n",
       "    <tr>\n",
       "      <th>21</th>\n",
       "      <td>795.045218</td>\n",
       "      <td>Febrero</td>\n",
       "    </tr>\n",
       "    <tr>\n",
       "      <th>22</th>\n",
       "      <td>664.908256</td>\n",
       "      <td>Febrero</td>\n",
       "    </tr>\n",
       "    <tr>\n",
       "      <th>23</th>\n",
       "      <td>282.789822</td>\n",
       "      <td>Febrero</td>\n",
       "    </tr>\n",
       "    <tr>\n",
       "      <th>24</th>\n",
       "      <td>359.929930</td>\n",
       "      <td>Febrero</td>\n",
       "    </tr>\n",
       "    <tr>\n",
       "      <th>25</th>\n",
       "      <td>68.915070</td>\n",
       "      <td>Febrero</td>\n",
       "    </tr>\n",
       "    <tr>\n",
       "      <th>26</th>\n",
       "      <td>885.595219</td>\n",
       "      <td>Febrero</td>\n",
       "    </tr>\n",
       "    <tr>\n",
       "      <th>27</th>\n",
       "      <td>650.964086</td>\n",
       "      <td>Febrero</td>\n",
       "    </tr>\n",
       "    <tr>\n",
       "      <th>28</th>\n",
       "      <td>473.105286</td>\n",
       "      <td>Febrero</td>\n",
       "    </tr>\n",
       "    <tr>\n",
       "      <th>29</th>\n",
       "      <td>678.086873</td>\n",
       "      <td>Febrero</td>\n",
       "    </tr>\n",
       "  </tbody>\n",
       "</table>\n",
       "</div>"
      ]
     },
     "execution_count": 34,
     "metadata": {},
     "output_type": "execute_result"
    }
   ],
   "execution_count": 34
  },
  {
   "metadata": {
    "ExecuteTime": {
     "end_time": "2025-10-23T17:09:56.301592Z",
     "start_time": "2025-10-23T17:09:56.246656Z"
    }
   },
   "cell_type": "code",
   "source": [
    "#EJERCICIO 3\n",
    "mu, sigma= 0, 100\n",
    "data1= np.random.uniform(mu, sigma, size=[10, 2])\n",
    "df1 =pd.DataFrame(data1, columns=['Producto', 'Ventas'])\n",
    "data2= np.random.uniform(25, 50, size=[10, 2])\n",
    "df2 =pd.DataFrame(data2, columns=['Descuentos', 'Producto'])\n",
    "\n",
    "df1y2 = pd.concat([df1, df2], axis=0)\n",
    "df_chido= df1y2.fillna(value=0)\n",
    "df_chido"
   ],
   "id": "636cb123bf404292",
   "outputs": [
    {
     "data": {
      "text/plain": [
       "    Producto     Ventas  Descuentos\n",
       "0  45.722737  38.417285    0.000000\n",
       "1  27.875614  47.073219    0.000000\n",
       "2  15.885096  88.664588    0.000000\n",
       "3  34.567814  45.435246    0.000000\n",
       "4   5.945843  39.454203    0.000000\n",
       "5  75.416877  39.805627    0.000000\n",
       "6  22.171440  99.861336    0.000000\n",
       "7   4.428590  80.712879    0.000000\n",
       "8  70.538360  70.159771    0.000000\n",
       "9  58.690400  70.199662    0.000000\n",
       "0  33.949594   0.000000   26.524697\n",
       "1  25.651815   0.000000   38.275028\n",
       "2  42.957908   0.000000   33.867404\n",
       "3  30.570816   0.000000   37.974522\n",
       "4  27.352582   0.000000   47.483839\n",
       "5  35.399637   0.000000   44.424782\n",
       "6  38.872390   0.000000   36.986543\n",
       "7  28.723823   0.000000   36.370228\n",
       "8  39.427051   0.000000   44.403003\n",
       "9  25.415888   0.000000   38.414651"
      ],
      "text/html": [
       "<div>\n",
       "<style scoped>\n",
       "    .dataframe tbody tr th:only-of-type {\n",
       "        vertical-align: middle;\n",
       "    }\n",
       "\n",
       "    .dataframe tbody tr th {\n",
       "        vertical-align: top;\n",
       "    }\n",
       "\n",
       "    .dataframe thead th {\n",
       "        text-align: right;\n",
       "    }\n",
       "</style>\n",
       "<table border=\"1\" class=\"dataframe\">\n",
       "  <thead>\n",
       "    <tr style=\"text-align: right;\">\n",
       "      <th></th>\n",
       "      <th>Producto</th>\n",
       "      <th>Ventas</th>\n",
       "      <th>Descuentos</th>\n",
       "    </tr>\n",
       "  </thead>\n",
       "  <tbody>\n",
       "    <tr>\n",
       "      <th>0</th>\n",
       "      <td>45.722737</td>\n",
       "      <td>38.417285</td>\n",
       "      <td>0.000000</td>\n",
       "    </tr>\n",
       "    <tr>\n",
       "      <th>1</th>\n",
       "      <td>27.875614</td>\n",
       "      <td>47.073219</td>\n",
       "      <td>0.000000</td>\n",
       "    </tr>\n",
       "    <tr>\n",
       "      <th>2</th>\n",
       "      <td>15.885096</td>\n",
       "      <td>88.664588</td>\n",
       "      <td>0.000000</td>\n",
       "    </tr>\n",
       "    <tr>\n",
       "      <th>3</th>\n",
       "      <td>34.567814</td>\n",
       "      <td>45.435246</td>\n",
       "      <td>0.000000</td>\n",
       "    </tr>\n",
       "    <tr>\n",
       "      <th>4</th>\n",
       "      <td>5.945843</td>\n",
       "      <td>39.454203</td>\n",
       "      <td>0.000000</td>\n",
       "    </tr>\n",
       "    <tr>\n",
       "      <th>5</th>\n",
       "      <td>75.416877</td>\n",
       "      <td>39.805627</td>\n",
       "      <td>0.000000</td>\n",
       "    </tr>\n",
       "    <tr>\n",
       "      <th>6</th>\n",
       "      <td>22.171440</td>\n",
       "      <td>99.861336</td>\n",
       "      <td>0.000000</td>\n",
       "    </tr>\n",
       "    <tr>\n",
       "      <th>7</th>\n",
       "      <td>4.428590</td>\n",
       "      <td>80.712879</td>\n",
       "      <td>0.000000</td>\n",
       "    </tr>\n",
       "    <tr>\n",
       "      <th>8</th>\n",
       "      <td>70.538360</td>\n",
       "      <td>70.159771</td>\n",
       "      <td>0.000000</td>\n",
       "    </tr>\n",
       "    <tr>\n",
       "      <th>9</th>\n",
       "      <td>58.690400</td>\n",
       "      <td>70.199662</td>\n",
       "      <td>0.000000</td>\n",
       "    </tr>\n",
       "    <tr>\n",
       "      <th>0</th>\n",
       "      <td>33.949594</td>\n",
       "      <td>0.000000</td>\n",
       "      <td>26.524697</td>\n",
       "    </tr>\n",
       "    <tr>\n",
       "      <th>1</th>\n",
       "      <td>25.651815</td>\n",
       "      <td>0.000000</td>\n",
       "      <td>38.275028</td>\n",
       "    </tr>\n",
       "    <tr>\n",
       "      <th>2</th>\n",
       "      <td>42.957908</td>\n",
       "      <td>0.000000</td>\n",
       "      <td>33.867404</td>\n",
       "    </tr>\n",
       "    <tr>\n",
       "      <th>3</th>\n",
       "      <td>30.570816</td>\n",
       "      <td>0.000000</td>\n",
       "      <td>37.974522</td>\n",
       "    </tr>\n",
       "    <tr>\n",
       "      <th>4</th>\n",
       "      <td>27.352582</td>\n",
       "      <td>0.000000</td>\n",
       "      <td>47.483839</td>\n",
       "    </tr>\n",
       "    <tr>\n",
       "      <th>5</th>\n",
       "      <td>35.399637</td>\n",
       "      <td>0.000000</td>\n",
       "      <td>44.424782</td>\n",
       "    </tr>\n",
       "    <tr>\n",
       "      <th>6</th>\n",
       "      <td>38.872390</td>\n",
       "      <td>0.000000</td>\n",
       "      <td>36.986543</td>\n",
       "    </tr>\n",
       "    <tr>\n",
       "      <th>7</th>\n",
       "      <td>28.723823</td>\n",
       "      <td>0.000000</td>\n",
       "      <td>36.370228</td>\n",
       "    </tr>\n",
       "    <tr>\n",
       "      <th>8</th>\n",
       "      <td>39.427051</td>\n",
       "      <td>0.000000</td>\n",
       "      <td>44.403003</td>\n",
       "    </tr>\n",
       "    <tr>\n",
       "      <th>9</th>\n",
       "      <td>25.415888</td>\n",
       "      <td>0.000000</td>\n",
       "      <td>38.414651</td>\n",
       "    </tr>\n",
       "  </tbody>\n",
       "</table>\n",
       "</div>"
      ]
     },
     "execution_count": 45,
     "metadata": {},
     "output_type": "execute_result"
    }
   ],
   "execution_count": 45
  },
  {
   "metadata": {
    "ExecuteTime": {
     "end_time": "2025-10-23T17:29:15.882995Z",
     "start_time": "2025-10-23T17:29:15.824018Z"
    }
   },
   "cell_type": "code",
   "source": [
    "#EJERCICIO 4\n",
    "data1 = {'Alumno': ['Roy', 'Roy', 'Roy',],'Nota': [8, 9, 10]}\n",
    "df1 = pd.DataFrame(data1)\n",
    "data2= {'Alumno': ['Rodrigo', 'Rodrigo', 'Rodrigo'],'Nota': [10, 9, 8]}\n",
    "df2 = pd.DataFrame(data2)\n",
    "data3 = {'Alumno': ['Javi', 'Javi', 'Javi'],'Nota': [10, 8, 9]}\n",
    "df3 = pd.DataFrame(data3)\n",
    "\n",
    "df_notas = pd.concat([df1, df2, df3], axis=0, ignore_index=True)\n",
    "df_notas"
   ],
   "id": "9bc23fd7214c06cf",
   "outputs": [
    {
     "data": {
      "text/plain": [
       "    Alumno  Nota\n",
       "0      Roy     8\n",
       "1      Roy     9\n",
       "2      Roy    10\n",
       "3  Rodrigo    10\n",
       "4  Rodrigo     9\n",
       "5  Rodrigo     8\n",
       "6     Javi    10\n",
       "7     Javi     8\n",
       "8     Javi     9"
      ],
      "text/html": [
       "<div>\n",
       "<style scoped>\n",
       "    .dataframe tbody tr th:only-of-type {\n",
       "        vertical-align: middle;\n",
       "    }\n",
       "\n",
       "    .dataframe tbody tr th {\n",
       "        vertical-align: top;\n",
       "    }\n",
       "\n",
       "    .dataframe thead th {\n",
       "        text-align: right;\n",
       "    }\n",
       "</style>\n",
       "<table border=\"1\" class=\"dataframe\">\n",
       "  <thead>\n",
       "    <tr style=\"text-align: right;\">\n",
       "      <th></th>\n",
       "      <th>Alumno</th>\n",
       "      <th>Nota</th>\n",
       "    </tr>\n",
       "  </thead>\n",
       "  <tbody>\n",
       "    <tr>\n",
       "      <th>0</th>\n",
       "      <td>Roy</td>\n",
       "      <td>8</td>\n",
       "    </tr>\n",
       "    <tr>\n",
       "      <th>1</th>\n",
       "      <td>Roy</td>\n",
       "      <td>9</td>\n",
       "    </tr>\n",
       "    <tr>\n",
       "      <th>2</th>\n",
       "      <td>Roy</td>\n",
       "      <td>10</td>\n",
       "    </tr>\n",
       "    <tr>\n",
       "      <th>3</th>\n",
       "      <td>Rodrigo</td>\n",
       "      <td>10</td>\n",
       "    </tr>\n",
       "    <tr>\n",
       "      <th>4</th>\n",
       "      <td>Rodrigo</td>\n",
       "      <td>9</td>\n",
       "    </tr>\n",
       "    <tr>\n",
       "      <th>5</th>\n",
       "      <td>Rodrigo</td>\n",
       "      <td>8</td>\n",
       "    </tr>\n",
       "    <tr>\n",
       "      <th>6</th>\n",
       "      <td>Javi</td>\n",
       "      <td>10</td>\n",
       "    </tr>\n",
       "    <tr>\n",
       "      <th>7</th>\n",
       "      <td>Javi</td>\n",
       "      <td>8</td>\n",
       "    </tr>\n",
       "    <tr>\n",
       "      <th>8</th>\n",
       "      <td>Javi</td>\n",
       "      <td>9</td>\n",
       "    </tr>\n",
       "  </tbody>\n",
       "</table>\n",
       "</div>"
      ]
     },
     "execution_count": 59,
     "metadata": {},
     "output_type": "execute_result"
    }
   ],
   "execution_count": 59
  },
  {
   "metadata": {
    "ExecuteTime": {
     "end_time": "2025-10-23T17:36:41.634888Z",
     "start_time": "2025-10-23T17:36:41.607864Z"
    }
   },
   "cell_type": "code",
   "source": [
    "# EJERCICIO 5\n",
    "lista= ['1','2','3','4','5','6','6','4','3','2','1','2','5','5','6','7','7','7','7','7','9','0','0','0','8']\n",
    "lista_sin=[]\n",
    "for elemento in lista:\n",
    "    if elemento not in lista_sin:\n",
    "        lista_sin.append(elemento)\n",
    "\n",
    "print(lista_sin)\n"
   ],
   "id": "529b61022b7903ea",
   "outputs": [
    {
     "name": "stdout",
     "output_type": "stream",
     "text": [
      "['1', '2', '3', '4', '5', '6', '7', '9', '0', '8']\n"
     ]
    }
   ],
   "execution_count": 67
  },
  {
   "metadata": {
    "ExecuteTime": {
     "end_time": "2025-10-23T17:45:30.422455Z",
     "start_time": "2025-10-23T17:45:30.389900Z"
    }
   },
   "cell_type": "code",
   "source": [
    "# EJERCICIO 6\n",
    "tupla= [(\"a\", 3), (\"b\", 1), (\"c\", 2)]\n",
    "tupla_ordenada= sorted(tupla, key=lambda elemento: elemento[1])\n",
    "tupla_ordenada"
   ],
   "id": "3882e9a65a6d415d",
   "outputs": [
    {
     "data": {
      "text/plain": [
       "[('b', 1), ('c', 2), ('a', 3)]"
      ]
     },
     "execution_count": 71,
     "metadata": {},
     "output_type": "execute_result"
    }
   ],
   "execution_count": 71
  },
  {
   "metadata": {
    "ExecuteTime": {
     "end_time": "2025-10-23T18:02:56.609470Z",
     "start_time": "2025-10-23T18:02:39.710272Z"
    }
   },
   "cell_type": "code",
   "source": [
    "# EJERCICIO 7\n",
    "n=15\n",
    "lista = []\n",
    "for i in range(1, n + 1):\n",
    "    Multiplo= 7 * i\n",
    "    lista.append(Multiplo)\n",
    "\n",
    "lista"
   ],
   "id": "f6e5a3f7c135e9d",
   "outputs": [
    {
     "data": {
      "text/plain": [
       "[7, 14, 21, 28, 35, 42, 49, 56, 63, 70, 77, 84, 91, 98, 105]"
      ]
     },
     "execution_count": 95,
     "metadata": {},
     "output_type": "execute_result"
    }
   ],
   "execution_count": 95
  },
  {
   "metadata": {
    "ExecuteTime": {
     "end_time": "2025-10-23T18:14:11.148064Z",
     "start_time": "2025-10-23T18:14:11.111573Z"
    }
   },
   "cell_type": "code",
   "source": [
    "# EJERCICIO 8\n",
    "lista = [ \"reconocer\", \"python\", \"kayak\", \"ejercicio\", \"sometemos\", \"programar\"]\n",
    "listaPal=[]\n",
    "\n",
    "palindromo = lambda palabra: palabra.lower() == palabra.lower()[::-1]\n",
    "\n",
    "for palabra in lista:\n",
    "    if palindromo(palabra):\n",
    "        listaPal.append(palabra)\n",
    "\n",
    "listaPal"
   ],
   "id": "8e23847687699d67",
   "outputs": [
    {
     "data": {
      "text/plain": [
       "['reconocer', 'kayak', 'sometemos']"
      ]
     },
     "execution_count": 103,
     "metadata": {},
     "output_type": "execute_result"
    }
   ],
   "execution_count": 103
  },
  {
   "metadata": {
    "ExecuteTime": {
     "end_time": "2025-10-23T18:42:26.619436Z",
     "start_time": "2025-10-23T18:42:26.578865Z"
    }
   },
   "cell_type": "code",
   "source": [
    "# EJERCICIO 9\n",
    "LA= [1,2,3,4,5,6,7,8,9,]\n",
    "LB= [1,3,5,7,9,]\n",
    "\n",
    "A= set(LA)\n",
    "B= set(LB)\n",
    "Inters_AB= A.intersection(B)\n",
    "\n",
    "DiferenciaA= A.difference(B)\n",
    "\n",
    "I_D= (Inters_AB, DiferenciaA)\n",
    "I_D"
   ],
   "id": "ebbecc1917f13373",
   "outputs": [
    {
     "data": {
      "text/plain": [
       "({1, 3, 5, 7, 9}, {2, 4, 6, 8})"
      ]
     },
     "execution_count": 112,
     "metadata": {},
     "output_type": "execute_result"
    }
   ],
   "execution_count": 112
  },
  {
   "metadata": {
    "ExecuteTime": {
     "end_time": "2025-10-23T18:54:59.003672Z",
     "start_time": "2025-10-23T18:54:58.973535Z"
    }
   },
   "cell_type": "code",
   "source": [
    "# EJERCICIO 10\n",
    "LA= [1,2,3,4,5,6,7,8,9,]\n",
    "LB= [1,3,5,7,9,]\n",
    "\n",
    "A= set(LA)\n",
    "B= set(LB)\n",
    "\n",
    "def subconjunto(A,B):\n",
    "    if A.issubset(B):\n",
    "        return True\n",
    "    else:\n",
    "        return False\n",
    "\n",
    "subconjunto(A, B)\n",
    "subconjunto(B, A)"
   ],
   "id": "e1b128f7f71ce1ef",
   "outputs": [
    {
     "data": {
      "text/plain": [
       "True"
      ]
     },
     "execution_count": 130,
     "metadata": {},
     "output_type": "execute_result"
    }
   ],
   "execution_count": 130
  },
  {
   "metadata": {
    "ExecuteTime": {
     "end_time": "2025-10-23T18:59:32.035794Z",
     "start_time": "2025-10-23T18:59:32.005121Z"
    }
   },
   "cell_type": "code",
   "source": [
    "#EJERCICIO 11\n",
    "lista= ['1','2','3','4','5','6','6','4','3','2','1','2','5','5','6','7','7','7','7','7','9','0','0','0','8']\n",
    "lista_unicos= set(lista)\n",
    "len(lista_unicos)\n"
   ],
   "id": "5ab21be8f928a16f",
   "outputs": [
    {
     "data": {
      "text/plain": [
       "10"
      ]
     },
     "execution_count": 136,
     "metadata": {},
     "output_type": "execute_result"
    }
   ],
   "execution_count": 136
  },
  {
   "metadata": {
    "ExecuteTime": {
     "end_time": "2025-10-23T22:30:56.040914Z",
     "start_time": "2025-10-23T22:30:55.989264Z"
    }
   },
   "cell_type": "code",
   "source": [
    "#EJERCICIO 12\n",
    "import re\n",
    "lista_de_frases = [\n",
    "    \"El perro corre y el perro salta en el jardín.\",\n",
    "    \"La casa es grande, la casa es hermosa y la casa tiene un árbol.\",\n",
    "    \"Hoy es un buen día, un día para aprender Python.\",\n",
    "    \"El río fluye, fluye, y se lleva las hojas viejas.\",\n",
    "    \"Tengo un gato, un perro, y un loro; el gato duerme.\"\n",
    "] #Esto fue de chat\n",
    "\n",
    "palabras_totales = []\n",
    "\n",
    "for frase in lista_de_frases:\n",
    "    frase_limpia = frase.lower()\n",
    "    palabras = re.findall(r'\\b\\w+\\b', frase_limpia)\n",
    "    palabras_totales.extend(palabras)\n",
    "palabras_unicas = list(set(palabras_totales))\n",
    "\n",
    "print(palabras_unicas)"
   ],
   "id": "5fa2176d7d2a90b4",
   "outputs": [
    {
     "name": "stdout",
     "output_type": "stream",
     "text": [
      "Lista de palabras únicas:\n",
      "['es', 'hojas', 'para', 'gato', 'grande', 'lleva', 'en', 'hermosa', 'buen', 'río', 'jardín', 'el', 'la', 'las', 'se', 'hoy', 'fluye', 'aprender', 'python', 'duerme', 'tiene', 'árbol', 'loro', 'salta', 'casa', 'tengo', 'corre', 'día', 'perro', 'un', 'viejas', 'y']\n"
     ]
    }
   ],
   "execution_count": 149
  },
  {
   "metadata": {
    "ExecuteTime": {
     "end_time": "2025-10-23T22:39:50.851103Z",
     "start_time": "2025-10-23T22:39:50.824486Z"
    }
   },
   "cell_type": "code",
   "source": [
    "# EJERCICIO 13\n",
    "def obtener_persona_mayor(lista_tuplas):\n",
    "    if not lista_tuplas:\n",
    "        return None\n",
    "    tupla_mayor = max(lista_tuplas, key=lambda persona: persona[1])\n",
    "\n",
    "    return tupla_mayor\n",
    "\n",
    "lista_personas = [(\"Sofía\", 30), (\"Andrés\", 24), (\"Valentina\", 45), (\"Ricardo\", 89), (\"Mariana\", 37), (\"Jorge\", 52)]\n",
    "\n",
    "resultado = obtener_persona_mayor(lista_personas)\n",
    "print(resultado)"
   ],
   "id": "850e746d6e885caf",
   "outputs": [
    {
     "name": "stdout",
     "output_type": "stream",
     "text": [
      "('Ricardo', 89)\n"
     ]
    }
   ],
   "execution_count": 170
  },
  {
   "metadata": {
    "ExecuteTime": {
     "end_time": "2025-10-23T22:42:08.474323Z",
     "start_time": "2025-10-23T22:42:08.443871Z"
    }
   },
   "cell_type": "code",
   "source": [
    "#EJERCICIO 14\n",
    "def convertir_listas_a_tuplas(lista_de_listas):\n",
    "    nueva_lista_de_tuplas = [tuple(sublista) for sublista in lista_de_listas]\n",
    "    return nueva_lista_de_tuplas\n",
    "\n",
    "Lista = [[1, 7, 8,], [\"Monse\", \"Billar\", \"Peda\"]]\n",
    "convertir_listas_a_tuplas(Lista)"
   ],
   "id": "8312c6802d2da689",
   "outputs": [
    {
     "data": {
      "text/plain": [
       "[(1, 7, 8), ('Monse', 'Billar', 'Peda')]"
      ]
     },
     "execution_count": 172,
     "metadata": {},
     "output_type": "execute_result"
    }
   ],
   "execution_count": 172
  },
  {
   "metadata": {
    "ExecuteTime": {
     "end_time": "2025-10-23T22:43:38.834285Z",
     "start_time": "2025-10-23T22:43:38.806929Z"
    }
   },
   "cell_type": "code",
   "source": [
    "# EJERCICIO 15\n",
    "def sumar_tupla_desempaquetada(tupla_numeros):\n",
    "    a, b, c = tupla_numeros\n",
    "    return a + b + c\n",
    "\n",
    "tupla_1 = (10, 20, 30)\n",
    "resultado1 = sumar_tupla_desempaquetada(tupla_1)\n",
    "print(f\"La suma de {tupla_1} es: {resultado1}\")\n",
    "\n",
    "tupla_2 = (5.5, 1.2, 3.3)\n",
    "resultado2 = sumar_tupla_desempaquetada(tupla_2)\n",
    "print(f\"La suma de {tupla_2} es: {resultado2}\")"
   ],
   "id": "13d1248680ffd8df",
   "outputs": [
    {
     "name": "stdout",
     "output_type": "stream",
     "text": [
      "La suma de (10, 20, 30) es: 60\n",
      "La suma de (5.5, 1.2, 3.3) es: 10.0\n"
     ]
    }
   ],
   "execution_count": 174
  },
  {
   "metadata": {
    "ExecuteTime": {
     "end_time": "2025-10-23T22:46:09.051236Z",
     "start_time": "2025-10-23T22:46:09.020393Z"
    }
   },
   "cell_type": "code",
   "source": [
    "#EJERCICIO 16\n",
    "def ex16_sort_product_price(prod_price_list):\n",
    "    lista_ordenada = sorted(prod_price_list, key=lambda item: item[1])\n",
    "    return lista_ordenada\n",
    "\n",
    "productos = [\n",
    "    (\"Laptop\", 1200),\n",
    "    (\"Switch\", 50),\n",
    "    (\"Xbox\", 300),\n",
    "    (\"Calzones\", 25)\n",
    "]\n",
    "\n",
    "ex16_sort_product_price(productos)"
   ],
   "id": "4b4f3d82595ac83f",
   "outputs": [
    {
     "data": {
      "text/plain": [
       "[('Calzones', 25), ('Switch', 50), ('Xbox', 300), ('Laptop', 1200)]"
      ]
     },
     "execution_count": 179,
     "metadata": {},
     "output_type": "execute_result"
    }
   ],
   "execution_count": 179
  },
  {
   "metadata": {
    "ExecuteTime": {
     "end_time": "2025-10-23T22:52:18.296881Z",
     "start_time": "2025-10-23T22:52:18.263528Z"
    }
   },
   "cell_type": "code",
   "source": [
    "#EJERCICIO 17\n",
    "from collections import Counter\n",
    "def ex17_char_frequency(s):\n",
    "    return Counter(s)\n",
    "\n",
    "ex17_char_frequency('Banana')"
   ],
   "id": "9b7c6507079d715e",
   "outputs": [
    {
     "data": {
      "text/plain": [
       "Counter({'a': 3, 'n': 2, 'B': 1})"
      ]
     },
     "execution_count": 185,
     "metadata": {},
     "output_type": "execute_result"
    }
   ],
   "execution_count": 185
  },
  {
   "metadata": {
    "ExecuteTime": {
     "end_time": "2025-10-23T22:54:29.921922Z",
     "start_time": "2025-10-23T22:54:29.902973Z"
    }
   },
   "cell_type": "code",
   "source": [
    "# EJERCICIO 18\n",
    "def ex19_invert_dictionary(d):\n",
    "    return {v: k for k, v in d.items()}\n",
    "\n",
    "Dic = {\"a\": 1, \"b\": 2}\n",
    "\n",
    "ex19_invert_dictionary(Dic)"
   ],
   "id": "6249d10551c82c7c",
   "outputs": [
    {
     "data": {
      "text/plain": [
       "{1: 'a', 2: 'b'}"
      ]
     },
     "execution_count": 189,
     "metadata": {},
     "output_type": "execute_result"
    }
   ],
   "execution_count": 189
  },
  {
   "metadata": {
    "ExecuteTime": {
     "end_time": "2025-10-23T22:55:45.915699Z",
     "start_time": "2025-10-23T22:55:45.891023Z"
    }
   },
   "cell_type": "code",
   "source": [
    "#EJERCICIO 19\n",
    "def ex20_merge_dicts_sum_values(a,b):\n",
    "    merged = d1.copy()\n",
    "    for k, v in d2.items():\n",
    "        merged[k] = merged.get(k, 0) + v\n",
    "    return merged\n",
    "    d1={\"a\": 10, \"b\": 20}\n",
    "    d2={\"b\": 5, \"c\": 30}\n",
    "    ex20_merge_dicts_sum_values(d1,d2)"
   ],
   "id": "daf86852730cb87e",
   "outputs": [],
   "execution_count": 193
  },
  {
   "metadata": {
    "ExecuteTime": {
     "end_time": "2025-10-23T22:59:43.797728Z",
     "start_time": "2025-10-23T22:59:43.750526Z"
    }
   },
   "cell_type": "code",
   "source": [
    "#EJERCICIO 20\n",
    "def ex20_merge_dicts_sum_values(d1,d2):\n",
    "    merged = d1.copy()\n",
    "    for k, v in d2.items():\n",
    "        merged[k] = merged.get(k, 0) + v\n",
    "    return merged\n",
    "d1={\"a\": 10, \"b\": 20}\n",
    "d2={\"b\": 5, \"c\": 30}\n",
    "\n",
    "ex20_merge_dicts_sum_values(d1,d2)"
   ],
   "id": "b679912e1681e63",
   "outputs": [
    {
     "data": {
      "text/plain": [
       "{'a': 10, 'b': 25, 'c': 30}"
      ]
     },
     "execution_count": 203,
     "metadata": {},
     "output_type": "execute_result"
    }
   ],
   "execution_count": 203
  },
  {
   "metadata": {
    "ExecuteTime": {
     "end_time": "2025-10-23T22:58:18.339765Z",
     "start_time": "2025-10-23T22:58:18.318122Z"
    }
   },
   "cell_type": "code",
   "source": [
    "#EJERCICIO 21\n",
    "def ex21_numpy_array_set_fifth():\n",
    "    arr = np.zeros(10)\n",
    "    arr[4] = 1\n",
    "    return arr\n",
    "\n",
    "ex21_numpy_array_set_fifth()"
   ],
   "id": "b64e5fe916f63238",
   "outputs": [
    {
     "data": {
      "text/plain": [
       "array([0., 0., 0., 0., 1., 0., 0., 0., 0., 0.])"
      ]
     },
     "execution_count": 200,
     "metadata": {},
     "output_type": "execute_result"
    }
   ],
   "execution_count": 200
  },
  {
   "metadata": {
    "ExecuteTime": {
     "end_time": "2025-10-23T23:00:29.210235Z",
     "start_time": "2025-10-23T23:00:29.171106Z"
    }
   },
   "cell_type": "code",
   "source": [
    "#EJERCICIO 22\n",
    "def ex22_numpy_matrix_3x3():\n",
    "    return np.arange(9).reshape(3, 3)\n",
    "\n",
    "ex22_numpy_matrix_3x3()"
   ],
   "id": "8aa2f82cb5a05c8",
   "outputs": [
    {
     "data": {
      "text/plain": [
       "array([[0, 1, 2],\n",
       "       [3, 4, 5],\n",
       "       [6, 7, 8]])"
      ]
     },
     "execution_count": 212,
     "metadata": {},
     "output_type": "execute_result"
    }
   ],
   "execution_count": 212
  },
  {
   "metadata": {
    "ExecuteTime": {
     "end_time": "2025-10-23T23:01:50.980998Z",
     "start_time": "2025-10-23T23:01:50.930788Z"
    }
   },
   "cell_type": "code",
   "source": [
    "#EJERCICIO 23\n",
    "def ex23_numpy_statistics():\n",
    "    np.random.seed(0)\n",
    "    arr = np.random.randint(0, 10, 5)\n",
    "    media = np.mean(arr)\n",
    "    mediana = np.median(arr)\n",
    "    desv_std = np.std(arr)\n",
    "    return (media, mediana, desv_std)\n",
    "\n",
    "ex23_numpy_statistics()"
   ],
   "id": "77d7a4d30e5782b8",
   "outputs": [
    {
     "data": {
      "text/plain": [
       "(np.float64(3.6), np.float64(3.0), np.float64(2.33238075793812))"
      ]
     },
     "execution_count": 225,
     "metadata": {},
     "output_type": "execute_result"
    }
   ],
   "execution_count": 225
  },
  {
   "metadata": {
    "ExecuteTime": {
     "end_time": "2025-10-23T23:02:42.121799Z",
     "start_time": "2025-10-23T23:02:42.085280Z"
    }
   },
   "cell_type": "code",
   "source": [
    "#EJERCICIO 24\n",
    "def ex24_numpy_clip_values(arr):\n",
    "    return np.clip(arr, a_min=None, a_max=10)\n",
    "\n",
    "arr = [5, 12, 8, 15, 9]\n",
    "ex24_numpy_clip_values(arr)"
   ],
   "id": "e881e6af0a4830a8",
   "outputs": [
    {
     "data": {
      "text/plain": [
       "array([ 5, 10,  8, 10,  9])"
      ]
     },
     "execution_count": 226,
     "metadata": {},
     "output_type": "execute_result"
    }
   ],
   "execution_count": 226
  },
  {
   "metadata": {
    "ExecuteTime": {
     "end_time": "2025-10-23T23:03:28.275858Z",
     "start_time": "2025-10-23T23:03:27.878918Z"
    }
   },
   "cell_type": "code",
   "source": [
    "#EJERCICIO 25\n",
    "def ex25_filter_rows_age_over_30():\n",
    "    data = {'Nombre': ['Roy', 'Javi', 'Rodrigo'], 'Edad': [25, 45, 31]}\n",
    "    df = pd.DataFrame(data)\n",
    "    return df[df['Edad'] > 30]\n",
    "\n",
    "ex25_filter_rows_age_over_30()"
   ],
   "id": "999ad8f40606e187",
   "outputs": [
    {
     "data": {
      "text/plain": [
       "    Nombre  Edad\n",
       "1     Javi    45\n",
       "2  Rodrigo    31"
      ],
      "text/html": [
       "<div>\n",
       "<style scoped>\n",
       "    .dataframe tbody tr th:only-of-type {\n",
       "        vertical-align: middle;\n",
       "    }\n",
       "\n",
       "    .dataframe tbody tr th {\n",
       "        vertical-align: top;\n",
       "    }\n",
       "\n",
       "    .dataframe thead th {\n",
       "        text-align: right;\n",
       "    }\n",
       "</style>\n",
       "<table border=\"1\" class=\"dataframe\">\n",
       "  <thead>\n",
       "    <tr style=\"text-align: right;\">\n",
       "      <th></th>\n",
       "      <th>Nombre</th>\n",
       "      <th>Edad</th>\n",
       "    </tr>\n",
       "  </thead>\n",
       "  <tbody>\n",
       "    <tr>\n",
       "      <th>1</th>\n",
       "      <td>Javi</td>\n",
       "      <td>45</td>\n",
       "    </tr>\n",
       "    <tr>\n",
       "      <th>2</th>\n",
       "      <td>Rodrigo</td>\n",
       "      <td>31</td>\n",
       "    </tr>\n",
       "  </tbody>\n",
       "</table>\n",
       "</div>"
      ]
     },
     "execution_count": 228,
     "metadata": {},
     "output_type": "execute_result"
    }
   ],
   "execution_count": 228
  },
  {
   "metadata": {
    "ExecuteTime": {
     "end_time": "2025-10-23T23:04:03.631734Z",
     "start_time": "2025-10-23T23:04:03.569765Z"
    }
   },
   "cell_type": "code",
   "source": [
    "#EJERCICIO 26\n",
    "def ex26_load_dict_into_dataframe_and_sort():\n",
    "    data = {'Nombre': ['X', 'Y', 'Z'], 'Puntaje': [85, 92, 78]}\n",
    "    df = pd.DataFrame(data)\n",
    "    return df.sort_values(by='Puntaje', ascending=False)\n",
    "\n",
    "ex26_load_dict_into_dataframe_and_sort()"
   ],
   "id": "404e426cff5fb65e",
   "outputs": [
    {
     "data": {
      "text/plain": [
       "  Nombre  Puntaje\n",
       "1      Y       92\n",
       "0      X       85\n",
       "2      Z       78"
      ],
      "text/html": [
       "<div>\n",
       "<style scoped>\n",
       "    .dataframe tbody tr th:only-of-type {\n",
       "        vertical-align: middle;\n",
       "    }\n",
       "\n",
       "    .dataframe tbody tr th {\n",
       "        vertical-align: top;\n",
       "    }\n",
       "\n",
       "    .dataframe thead th {\n",
       "        text-align: right;\n",
       "    }\n",
       "</style>\n",
       "<table border=\"1\" class=\"dataframe\">\n",
       "  <thead>\n",
       "    <tr style=\"text-align: right;\">\n",
       "      <th></th>\n",
       "      <th>Nombre</th>\n",
       "      <th>Puntaje</th>\n",
       "    </tr>\n",
       "  </thead>\n",
       "  <tbody>\n",
       "    <tr>\n",
       "      <th>1</th>\n",
       "      <td>Y</td>\n",
       "      <td>92</td>\n",
       "    </tr>\n",
       "    <tr>\n",
       "      <th>0</th>\n",
       "      <td>X</td>\n",
       "      <td>85</td>\n",
       "    </tr>\n",
       "    <tr>\n",
       "      <th>2</th>\n",
       "      <td>Z</td>\n",
       "      <td>78</td>\n",
       "    </tr>\n",
       "  </tbody>\n",
       "</table>\n",
       "</div>"
      ]
     },
     "execution_count": 229,
     "metadata": {},
     "output_type": "execute_result"
    }
   ],
   "execution_count": 229
  },
  {
   "metadata": {
    "ExecuteTime": {
     "end_time": "2025-10-23T23:04:37.322842Z",
     "start_time": "2025-10-23T23:04:37.240814Z"
    }
   },
   "cell_type": "code",
   "source": [
    "#EJERCICIO 27\n",
    "def ex27_groupby_mean_value():\n",
    "    data = {'Grupo': ['A', 'B', 'A'], 'Valor': [10, 20, 14]}\n",
    "    df = pd.DataFrame(data)\n",
    "    return df.groupby('Grupo')['Valor'].mean().reset_index()\n",
    "\n",
    "ex27_groupby_mean_value()"
   ],
   "id": "eb3a4a521d5e459b",
   "outputs": [
    {
     "data": {
      "text/plain": [
       "  Grupo  Valor\n",
       "0     A   12.0\n",
       "1     B   20.0"
      ],
      "text/html": [
       "<div>\n",
       "<style scoped>\n",
       "    .dataframe tbody tr th:only-of-type {\n",
       "        vertical-align: middle;\n",
       "    }\n",
       "\n",
       "    .dataframe tbody tr th {\n",
       "        vertical-align: top;\n",
       "    }\n",
       "\n",
       "    .dataframe thead th {\n",
       "        text-align: right;\n",
       "    }\n",
       "</style>\n",
       "<table border=\"1\" class=\"dataframe\">\n",
       "  <thead>\n",
       "    <tr style=\"text-align: right;\">\n",
       "      <th></th>\n",
       "      <th>Grupo</th>\n",
       "      <th>Valor</th>\n",
       "    </tr>\n",
       "  </thead>\n",
       "  <tbody>\n",
       "    <tr>\n",
       "      <th>0</th>\n",
       "      <td>A</td>\n",
       "      <td>12.0</td>\n",
       "    </tr>\n",
       "    <tr>\n",
       "      <th>1</th>\n",
       "      <td>B</td>\n",
       "      <td>20.0</td>\n",
       "    </tr>\n",
       "  </tbody>\n",
       "</table>\n",
       "</div>"
      ]
     },
     "execution_count": 230,
     "metadata": {},
     "output_type": "execute_result"
    }
   ],
   "execution_count": 230
  },
  {
   "metadata": {
    "ExecuteTime": {
     "end_time": "2025-10-23T23:05:04.515800Z",
     "start_time": "2025-10-23T23:05:04.476639Z"
    }
   },
   "cell_type": "code",
   "source": [
    "#EJERCICIO 28\n",
    "def ex28_most_sold_product_from_sales_df():\n",
    "    data = {'Producto': ['A', 'B', 'A'], 'Cantidad': [10, 5, 15]}\n",
    "    df = pd.DataFrame(data) # A=25, B=5\n",
    "    ventas_totales = df.groupby('Producto')['Cantidad'].sum()\n",
    "    producto_mas_vendido = ventas_totales.idxmax()\n",
    "    ventas_max = ventas_totales.max()\n",
    "    return (producto_mas_vendido, ventas_max)\n",
    "\n",
    "ex28_most_sold_product_from_sales_df()"
   ],
   "id": "66ed4d193870fa72",
   "outputs": [
    {
     "data": {
      "text/plain": [
       "('A', np.int64(25))"
      ]
     },
     "execution_count": 231,
     "metadata": {},
     "output_type": "execute_result"
    }
   ],
   "execution_count": 231
  },
  {
   "metadata": {
    "ExecuteTime": {
     "end_time": "2025-10-23T23:05:54.276181Z",
     "start_time": "2025-10-23T23:05:54.251564Z"
    }
   },
   "cell_type": "code",
   "source": [
    "#EJERCICIO 29\n",
    "def ex29_map_lambda_cube(lst):\n",
    "    # Ejemplo: lst = [1, 2, 3]\n",
    "    return list(map(lambda x: x**3, lst))\n",
    "lst=[1, 2, 3, 4, 5, 6, 7, 7, 7, 7]\n",
    "\n",
    "ex29_map_lambda_cube(lst)\n"
   ],
   "id": "6a6422a09d2eb602",
   "outputs": [
    {
     "data": {
      "text/plain": [
       "[1, 8, 27, 64, 125, 216, 343, 343, 343, 343]"
      ]
     },
     "execution_count": 233,
     "metadata": {},
     "output_type": "execute_result"
    }
   ],
   "execution_count": 233
  },
  {
   "metadata": {
    "ExecuteTime": {
     "end_time": "2025-10-23T23:06:31.963227Z",
     "start_time": "2025-10-23T23:06:31.935590Z"
    }
   },
   "cell_type": "code",
   "source": [
    "#EJERCICIO 30\n",
    "def ex30_filter_lambda_even(lst):\n",
    "    return list(filter(lambda x: x % 2 == 0, lst))\n",
    "\n",
    "lst=[1, 2, 3, 4, 5]\n",
    "ex30_filter_lambda_even(lst)"
   ],
   "id": "31ce254b968b3b31",
   "outputs": [
    {
     "data": {
      "text/plain": [
       "[2, 4]"
      ]
     },
     "execution_count": 234,
     "metadata": {},
     "output_type": "execute_result"
    }
   ],
   "execution_count": 234
  },
  {
   "metadata": {
    "ExecuteTime": {
     "end_time": "2025-10-23T23:10:36.921859Z",
     "start_time": "2025-10-23T23:10:36.881791Z"
    }
   },
   "cell_type": "code",
   "source": [
    "#EJERCICIO 31\n",
    "def ex31_sort_list_of_dicts_by_key(lst, keyname):\n",
    "    return sorted(lst, key=lambda d: d[keyname])\n",
    "\n",
    "lst = [{'k': 2}, {'k': 1}, {'k': 5}, {'k': 3}]\n",
    "keyname = 'k'\n",
    "ex31_sort_list_of_dicts_by_key(lst, 'k')"
   ],
   "id": "fc6ed6b52e2a4cb3",
   "outputs": [
    {
     "data": {
      "text/plain": [
       "[{'k': 1}, {'k': 2}, {'k': 3}, {'k': 5}]"
      ]
     },
     "execution_count": 244,
     "metadata": {},
     "output_type": "execute_result"
    }
   ],
   "execution_count": 244
  },
  {
   "metadata": {
    "ExecuteTime": {
     "end_time": "2025-10-23T23:09:51.633295Z",
     "start_time": "2025-10-23T23:09:51.594643Z"
    }
   },
   "cell_type": "code",
   "source": [
    "#EJERCICIO 32\n",
    "def ex32_pandas_apply_lambda_uppercase(names_list):\n",
    "    df = pd.DataFrame({'Nombre': names_list})\n",
    "    df['Nombre_MAYUS'] = df['Nombre'].apply(lambda x: x.upper())\n",
    "    return df\n",
    "\n",
    "names_list=['Javi', 'Naomi', 'Monse', 'Rodrigo']\n",
    "\n",
    "ex32_pandas_apply_lambda_uppercase(names_list)\n"
   ],
   "id": "941a7db927ca1ef8",
   "outputs": [
    {
     "data": {
      "text/plain": [
       "    Nombre Nombre_MAYUS\n",
       "0     Javi         JAVI\n",
       "1    Naomi        NAOMI\n",
       "2    Monse        MONSE\n",
       "3  Rodrigo      RODRIGO"
      ],
      "text/html": [
       "<div>\n",
       "<style scoped>\n",
       "    .dataframe tbody tr th:only-of-type {\n",
       "        vertical-align: middle;\n",
       "    }\n",
       "\n",
       "    .dataframe tbody tr th {\n",
       "        vertical-align: top;\n",
       "    }\n",
       "\n",
       "    .dataframe thead th {\n",
       "        text-align: right;\n",
       "    }\n",
       "</style>\n",
       "<table border=\"1\" class=\"dataframe\">\n",
       "  <thead>\n",
       "    <tr style=\"text-align: right;\">\n",
       "      <th></th>\n",
       "      <th>Nombre</th>\n",
       "      <th>Nombre_MAYUS</th>\n",
       "    </tr>\n",
       "  </thead>\n",
       "  <tbody>\n",
       "    <tr>\n",
       "      <th>0</th>\n",
       "      <td>Javi</td>\n",
       "      <td>JAVI</td>\n",
       "    </tr>\n",
       "    <tr>\n",
       "      <th>1</th>\n",
       "      <td>Naomi</td>\n",
       "      <td>NAOMI</td>\n",
       "    </tr>\n",
       "    <tr>\n",
       "      <th>2</th>\n",
       "      <td>Monse</td>\n",
       "      <td>MONSE</td>\n",
       "    </tr>\n",
       "    <tr>\n",
       "      <th>3</th>\n",
       "      <td>Rodrigo</td>\n",
       "      <td>RODRIGO</td>\n",
       "    </tr>\n",
       "  </tbody>\n",
       "</table>\n",
       "</div>"
      ]
     },
     "execution_count": 241,
     "metadata": {},
     "output_type": "execute_result"
    }
   ],
   "execution_count": 241
  },
  {
   "metadata": {},
   "cell_type": "code",
   "outputs": [],
   "source": "",
   "id": "266a9847501f3ec",
   "execution_count": null
  }
 ],
 "metadata": {
  "kernelspec": {
   "display_name": "Python 3",
   "language": "python",
   "name": "python3"
  },
  "language_info": {
   "codemirror_mode": {
    "name": "ipython",
    "version": 2
   },
   "file_extension": ".py",
   "mimetype": "text/x-python",
   "name": "python",
   "nbconvert_exporter": "python",
   "pygments_lexer": "ipython2",
   "version": "2.7.6"
  }
 },
 "nbformat": 4,
 "nbformat_minor": 5
}
