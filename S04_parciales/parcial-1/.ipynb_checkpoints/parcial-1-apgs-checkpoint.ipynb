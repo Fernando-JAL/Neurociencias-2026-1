{
 "cells": [
  {
   "cell_type": "code",
   "execution_count": 1,
   "id": "7270513b-5c77-4d60-a806-0a9101f4be8b",
   "metadata": {},
   "outputs": [],
   "source": [
    "import numpy as np"
   ]
  },
  {
   "cell_type": "code",
   "execution_count": 17,
   "id": "6104beaa-30b9-41e2-b7e7-f6ba5e536314",
   "metadata": {},
   "outputs": [],
   "source": [
    "import matplotlib.pyplot as plt"
   ]
  },
  {
   "cell_type": "markdown",
   "id": "46c36c3a-b619-49c2-8a35-f7df5cb5894d",
   "metadata": {},
   "source": [
    "# 1. Frecuencia de números en matriz"
   ]
  },
  {
   "cell_type": "markdown",
   "id": "086c66f8-bf01-40d7-b696-1aa3b41a91c7",
   "metadata": {},
   "source": [
    "a) Genera una matriz 6x6 de enteros random entre 1 y 10 usando NumPy."
   ]
  },
  {
   "cell_type": "code",
   "execution_count": 12,
   "id": "4309e08b-695b-47e1-a176-8d11fca39d5b",
   "metadata": {},
   "outputs": [
    {
     "name": "stdout",
     "output_type": "stream",
     "text": [
      "matriz: [[ 9  6  5  1  9  4]\n",
      " [ 4  4  8  6 10  6]\n",
      " [ 9  9  3  8  3  9]\n",
      " [ 9  4  6  9  3  5]\n",
      " [ 9  2  3  3  1  9]\n",
      " [10  4  7 10  8  8]]\n"
     ]
    }
   ],
   "source": [
    "matriz = np.random.randint(1, 11, size = (6,6))\n",
    "print(\"matriz:\", matriz)"
   ]
  },
  {
   "cell_type": "markdown",
   "id": "1925e58e-9adf-47c5-b814-d6cfa3b2f11b",
   "metadata": {},
   "source": [
    "b) Recorre la matriz y guarda en un diccionario la frecuencia de cada número."
   ]
  },
  {
   "cell_type": "code",
   "execution_count": 13,
   "id": "e7d888d6-0ee3-4e23-8c91-2f61bb1eb90b",
   "metadata": {},
   "outputs": [
    {
     "name": "stdout",
     "output_type": "stream",
     "text": [
      "frecuencia: {np.int32(9): 9, np.int32(6): 4, np.int32(5): 2, np.int32(1): 2, np.int32(4): 5, np.int32(8): 4, np.int32(10): 3, np.int32(3): 5, np.int32(2): 1, np.int32(7): 1}\n"
     ]
    }
   ],
   "source": [
    "frecuencia = {} # Diccionario para guardar las frecuencias\n",
    "for fila in matriz:\n",
    "    for numero in fila:\n",
    "        if numero in frecuencia:\n",
    "            frecuencia[numero] += 1 # Si ya existe, sumar 1\n",
    "        else: \n",
    "            frecuencia[numero] = 1 # Si no existe, inicializar en 1\n",
    "print(\"frecuencia:\", frecuencia)"
   ]
  },
  {
   "cell_type": "markdown",
   "id": "bd1f67e3-9c50-4d89-ac07-40ddd156bcf7",
   "metadata": {},
   "source": [
    "c) Convierte el diccionario en una lista de tuplas (número, frecuencia) y ordénala de mayor a menor frecuencia."
   ]
  },
  {
   "cell_type": "code",
   "execution_count": 16,
   "id": "f0dd145f-799b-4ac5-89c7-572978332d76",
   "metadata": {},
   "outputs": [
    {
     "name": "stdout",
     "output_type": "stream",
     "text": [
      "lista_ordenada: [(np.int32(9), 9), (np.int32(4), 5), (np.int32(3), 5), (np.int32(6), 4), (np.int32(8), 4), (np.int32(10), 3), (np.int32(5), 2), (np.int32(1), 2), (np.int32(2), 1), (np.int32(7), 1)]\n"
     ]
    }
   ],
   "source": [
    "lista_ordenada = sorted(frecuencia.items(), key = lambda x: x[1], reverse = True) \n",
    "# frecuencia.items() convierte diccionario → lista tipo (número, frecuencia)\n",
    "# key = lambda x: x[1] indica a sorted() que ordene el 2° elemento de c/tupla\n",
    "print(\"lista_ordenada:\", lista_ordenada)"
   ]
  },
  {
   "cell_type": "markdown",
   "id": "79190649-fd25-40f9-b529-857cc930d58d",
   "metadata": {},
   "source": [
    "d) Imprime la matriz, el diccionario y la lista ordenada."
   ]
  },
  {
   "cell_type": "markdown",
   "id": "b00acada-07b5-4d29-9485-e4c2f0ef003b",
   "metadata": {},
   "source": [
    "# 2. Promedios por columna y gráfico de líneas"
   ]
  },
  {
   "cell_type": "markdown",
   "id": "b34d2bca-c281-4773-b41b-1683bf5ceeb0",
   "metadata": {},
   "source": [
    "a) Crea una matriz 10x5 con enteros entre 10 y 100."
   ]
  },
  {
   "cell_type": "code",
   "execution_count": 19,
   "id": "31bab472-cc05-4534-8e30-717d1c34696f",
   "metadata": {},
   "outputs": [
    {
     "data": {
      "text/plain": [
       "array([[ 61,  24,  38,  88,  14],\n",
       "       [ 86,  88,  90,  73,  62],\n",
       "       [ 88,  63,  76,  27,  52],\n",
       "       [ 82,  50,  76,  15,  25],\n",
       "       [100,  30,  76,  10,  50],\n",
       "       [ 11,  11, 100,  36,  79],\n",
       "       [ 32,  98,  78,  84,  79],\n",
       "       [ 66,  82,  56,  91,  62],\n",
       "       [ 42,  89,  20,  31,  36],\n",
       "       [ 84,  37,  25,  44,  37]], dtype=int32)"
      ]
     },
     "execution_count": 19,
     "metadata": {},
     "output_type": "execute_result"
    }
   ],
   "source": [
    "matriz = np.random.randint(10, 101, size = (10, 5))\n",
    "matriz"
   ]
  },
  {
   "cell_type": "markdown",
   "id": "5b1810ba-3288-46ec-8422-d9f1370a6b0b",
   "metadata": {},
   "source": [
    "b) Calcula el promedio de cada columna usando un bucle.\n",
    "\n",
    "c) Guarda los resultados en un diccionario con claves \"col_1\" ... \"col_5\"."
   ]
  },
  {
   "cell_type": "code",
   "execution_count": 30,
   "id": "88f27c7e-7c15-42d2-8c5e-aad20d337b15",
   "metadata": {},
   "outputs": [
    {
     "data": {
      "text/plain": [
       "[np.float64(65.2),\n",
       " np.float64(57.2),\n",
       " np.float64(63.5),\n",
       " np.float64(49.9),\n",
       " np.float64(49.6)]"
      ]
     },
     "execution_count": 30,
     "metadata": {},
     "output_type": "execute_result"
    }
   ],
   "source": [
    "promedios = [] # Diccionario para guardar promedios calculados\n",
    "for i in range(5): \n",
    "    suma = 0 \n",
    "    for j in range(10): \n",
    "        suma += matriz[j][i]\n",
    "    promedio = suma / 10\n",
    "    "
   ]
  },
  {
   "cell_type": "markdown",
   "id": "7c0ed501-de3d-4477-b7ee-383746576c45",
   "metadata": {},
   "source": [
    "d) Convierte los valores en una lista y grafícalos en una línea (line plot) mostrando el promedio por columna."
   ]
  },
  {
   "cell_type": "code",
   "execution_count": null,
   "id": "73dd819c-e7c0-4f38-b861-b3f16f081124",
   "metadata": {},
   "outputs": [],
   "source": []
  },
  {
   "cell_type": "markdown",
   "id": "1ccc0842-8932-48c0-9f50-37e5f1c09c16",
   "metadata": {},
   "source": [
    "# 3. Evolución temporal simulada"
   ]
  },
  {
   "cell_type": "markdown",
   "id": "6b0d5ba7-3e6f-47e1-8804-dee00c0df31c",
   "metadata": {},
   "source": [
    "a) Simula con NumPy una lista de 30 días con valores aleatorios de temperatura entre 15°C y 35°C."
   ]
  },
  {
   "cell_type": "code",
   "execution_count": null,
   "id": "35b669c0-4d89-4ed5-b554-bfc8986c1d58",
   "metadata": {},
   "outputs": [],
   "source": []
  },
  {
   "cell_type": "markdown",
   "id": "354ef922-10e2-40b6-9aaa-1303393bb51b",
   "metadata": {},
   "source": [
    "b) Almacena los valores en un diccionario con claves \"día_1\", \"día_2\", ....b) "
   ]
  },
  {
   "cell_type": "code",
   "execution_count": null,
   "id": "11ac21b3-23b0-426f-ba8a-b529ad69fd29",
   "metadata": {},
   "outputs": [],
   "source": []
  },
  {
   "cell_type": "markdown",
   "id": "47cda77c-51d5-4b57-8e64-32c948559e20",
   "metadata": {},
   "source": [
    "c) Usa un bucle para crear una lista con los días donde la temperatura superó 30°C."
   ]
  },
  {
   "cell_type": "code",
   "execution_count": null,
   "id": "c327a3fe-1142-48c5-99c3-30ef6e74edb7",
   "metadata": {},
   "outputs": [],
   "source": []
  },
  {
   "cell_type": "markdown",
   "id": "2031f30d-a316-4b69-823a-010ec2c54857",
   "metadata": {},
   "source": [
    "d) Grafica las temperaturas en un gráfico de línea con puntos marcados (scatter + line plot)."
   ]
  },
  {
   "cell_type": "code",
   "execution_count": null,
   "id": "4b304747-10b2-4242-9faf-f0b0ca0e1d1a",
   "metadata": {},
   "outputs": [],
   "source": []
  },
  {
   "cell_type": "markdown",
   "id": "fc2314ae-8e2e-418b-b7ad-9867a52d56ef",
   "metadata": {},
   "source": [
    "e) Marca en rojo los días con temperatura > 30°C."
   ]
  },
  {
   "cell_type": "code",
   "execution_count": null,
   "id": "1bf3bc84-a2ae-4d79-b4bc-e81cffeaec35",
   "metadata": {},
   "outputs": [],
   "source": []
  },
  {
   "cell_type": "markdown",
   "id": "8c62042b-afc6-4188-bc9f-0fa5c3e95936",
   "metadata": {},
   "source": [
    "# 4. Comparación de distribuciones"
   ]
  },
  {
   "cell_type": "markdown",
   "id": "da8c6fd6-5766-4cc4-b5ab-4862ed6bbc2f",
   "metadata": {},
   "source": [
    "a) Genera dos arreglos de 100 números aleatorios con distribución normal.\n",
    "- grupo_A: media 50, desviación 10\n",
    "- grupo_B: media 60, desviación 15"
   ]
  },
  {
   "cell_type": "code",
   "execution_count": null,
   "id": "0337c6ad-b5f7-44b0-8ae9-1fe205b1cc5b",
   "metadata": {},
   "outputs": [],
   "source": []
  },
  {
   "cell_type": "markdown",
   "id": "4417e2b8-ee29-47a3-90f0-61c772030729",
   "metadata": {},
   "source": [
    "b) Guarda en un diccionario con claves \"A\" y \"B\"."
   ]
  },
  {
   "cell_type": "code",
   "execution_count": null,
   "id": "a749cb9e-c624-4ef5-9488-844c8ee5a588",
   "metadata": {},
   "outputs": [],
   "source": []
  },
  {
   "cell_type": "markdown",
   "id": "4f5d3788-102a-4023-bc71-14aee39d430c",
   "metadata": {},
   "source": [
    "c) Calcula media y desviación estándar de cada grupo y guárdalas en listas."
   ]
  },
  {
   "cell_type": "code",
   "execution_count": null,
   "id": "3f4c4610-c6ba-45af-a111-d14550572947",
   "metadata": {},
   "outputs": [],
   "source": []
  },
  {
   "cell_type": "markdown",
   "id": "3c7184f5-4859-434d-bdf1-cc8c90721337",
   "metadata": {},
   "source": [
    "d) Grafica ambos grupos en un histograma comparativo (superposición con colores diferentes y transparencia)."
   ]
  },
  {
   "cell_type": "code",
   "execution_count": null,
   "id": "7c03587b-47c0-4ef6-82e0-2fa9ce08f1f0",
   "metadata": {},
   "outputs": [],
   "source": []
  },
  {
   "cell_type": "markdown",
   "id": "ba943ae1-32d9-4838-a33a-9309e5bceda1",
   "metadata": {},
   "source": [
    "# 5. Clasificación de temperaturas"
   ]
  },
  {
   "cell_type": "markdown",
   "id": "17d4221f-e5d9-4eb7-b04f-14dabb8c0fb2",
   "metadata": {},
   "source": [
    "a) Genera una Serie con 50 valores aleatorios entre -10 y 40 (temperaturas)."
   ]
  },
  {
   "cell_type": "code",
   "execution_count": null,
   "id": "3cb926d7-2854-408a-9ff5-fc79fec37f2a",
   "metadata": {},
   "outputs": [],
   "source": []
  },
  {
   "cell_type": "markdown",
   "id": "1dd48777-01e2-412f-a4cb-9a67f24def7a",
   "metadata": {},
   "source": [
    "b) Recorre la Serie y clasifica cada temperatura en un diccionario:\n",
    "- \"frío\" si < 10\n",
    "- \"templado\" si 10–25\n",
    "- \"calor\" si > 25\n"
   ]
  },
  {
   "cell_type": "code",
   "execution_count": null,
   "id": "a2a1bf71-7fff-4276-b648-0f061c04f30e",
   "metadata": {},
   "outputs": [],
   "source": []
  },
  {
   "cell_type": "markdown",
   "id": "463edcaa-77a0-40bc-b2a3-3e0347248108",
   "metadata": {},
   "source": [
    "c) Convierte el diccionario en un DataFrame con columnas \"Temperatura\" y \"Categoría\"."
   ]
  },
  {
   "cell_type": "code",
   "execution_count": null,
   "id": "9e8a2497-32b2-464c-a5cb-1681b192b038",
   "metadata": {},
   "outputs": [],
   "source": []
  },
  {
   "cell_type": "markdown",
   "id": "74171c82-f4d0-44d5-93dd-cf3efc01d3f2",
   "metadata": {},
   "source": [
    "d) Cuenta cuántos valores cayeron en cada categoría."
   ]
  },
  {
   "cell_type": "code",
   "execution_count": null,
   "id": "ff7074ed-14fd-46a6-b7a4-bc98dfd11f7c",
   "metadata": {},
   "outputs": [],
   "source": []
  },
  {
   "cell_type": "markdown",
   "id": "33f2e2ce-2d50-447f-81ef-47fcbb0a133a",
   "metadata": {},
   "source": [
    "# 6. Matriz de distancias"
   ]
  },
  {
   "cell_type": "markdown",
   "id": "e4bd5f00-bdd6-4eec-93ec-65adc4186e70",
   "metadata": {},
   "source": [
    "a) Genera una matriz 10x2 con coordenadas aleatorias (x, y) entre 0 y 100."
   ]
  },
  {
   "cell_type": "code",
   "execution_count": null,
   "id": "d55ae86c-78f5-4ff6-a60b-d0a85da81918",
   "metadata": {},
   "outputs": [],
   "source": []
  },
  {
   "cell_type": "markdown",
   "id": "b444bbc7-4841-4370-9373-ba4d934ebd2c",
   "metadata": {},
   "source": [
    "b) Con un bucle, calcula las distancias euclidianas entre cada par de puntos y guárdalas en un diccionario con claves (i,j)."
   ]
  },
  {
   "cell_type": "code",
   "execution_count": null,
   "id": "37e02f2d-726a-455a-b061-55791a6fe3f5",
   "metadata": {},
   "outputs": [],
   "source": []
  },
  {
   "cell_type": "markdown",
   "id": "2f9a5e53-0b95-4653-a51d-9a06f38a6082",
   "metadata": {},
   "source": [
    "c) Convierte el diccionario en un DataFrame de 10x10 (matriz de distancias).\n"
   ]
  },
  {
   "cell_type": "code",
   "execution_count": null,
   "id": "9a7fa85e-005c-40e3-9422-c2da458e90dd",
   "metadata": {},
   "outputs": [],
   "source": []
  },
  {
   "cell_type": "markdown",
   "id": "365416ef-4e4d-4956-8cf3-7c82055f60d2",
   "metadata": {},
   "source": [
    "d) Encuentra el par de puntos más cercanos y el más lejano."
   ]
  },
  {
   "cell_type": "code",
   "execution_count": null,
   "id": "4469c325-d69a-4827-b6f9-796eaca73b51",
   "metadata": {},
   "outputs": [],
   "source": []
  },
  {
   "cell_type": "markdown",
   "id": "13190a78-3394-4243-95f9-0a471780e35c",
   "metadata": {},
   "source": [
    "# 7. Análisis de series temporales"
   ]
  },
  {
   "cell_type": "markdown",
   "id": "ff718dcb-d9f7-4998-8dbd-110e3e3ddb79",
   "metadata": {},
   "source": [
    "a) Genera con NumPy una Serie de 365 valores aleatorios entre 10 y 40 (temperatura diaria de un año)."
   ]
  },
  {
   "cell_type": "code",
   "execution_count": null,
   "id": "9f60e69b-ff6f-47ea-88f7-60af24ded314",
   "metadata": {},
   "outputs": [],
   "source": []
  },
  {
   "cell_type": "markdown",
   "id": "5057a533-cccf-43cf-89ea-d29b62172d81",
   "metadata": {},
   "source": [
    "b) Convierte en un DataFrame con columnas \"Día\" y \"Temperatura\"."
   ]
  },
  {
   "cell_type": "code",
   "execution_count": null,
   "id": "e481e905-3bb7-436a-be99-adf68e957309",
   "metadata": {},
   "outputs": [],
   "source": []
  },
  {
   "cell_type": "markdown",
   "id": "a9bab2c4-27f8-4fb5-9b7b-6f4e7df7e3fe",
   "metadata": {},
   "source": [
    "c) Usa un bucle para calcular la media de cada mes (asume 30 días por mes)."
   ]
  },
  {
   "cell_type": "code",
   "execution_count": null,
   "id": "da994a10-69be-49f3-b197-ea09bc763420",
   "metadata": {},
   "outputs": [],
   "source": []
  },
  {
   "cell_type": "markdown",
   "id": "d3dba59e-e984-4748-bd39-7c3c50586cb2",
   "metadata": {},
   "source": [
    "d) Guarda las medias en un diccionario {Mes: Promedio}."
   ]
  },
  {
   "cell_type": "code",
   "execution_count": null,
   "id": "b73a2eec-ed0e-49d5-80c0-2b7d63ebd6ab",
   "metadata": {},
   "outputs": [],
   "source": []
  },
  {
   "cell_type": "markdown",
   "id": "81668eea-9198-49ce-8e02-b86fbd4db139",
   "metadata": {},
   "source": [
    "e) Convierte el diccionario en una Series y ordénala de mayor a menor."
   ]
  },
  {
   "cell_type": "code",
   "execution_count": null,
   "id": "31aca94e-379c-4c6c-98fc-336f05a54fda",
   "metadata": {},
   "outputs": [],
   "source": []
  },
  {
   "cell_type": "markdown",
   "id": "87aeecc3-9f9a-4bcc-a71f-5bd68e3a602d",
   "metadata": {},
   "source": [
    "# 8. Actividad neuronal por regiones"
   ]
  },
  {
   "cell_type": "markdown",
   "id": "ea6f5165-e40b-4bf2-aef7-4fee900f2ba3",
   "metadata": {},
   "source": [
    "a) Genera una matriz 100x5 con NumPy representando la actividad de 100 neuronas en 5 regiones cerebrales (valores entre 0 y 1 como tasas de disparo)."
   ]
  },
  {
   "cell_type": "code",
   "execution_count": null,
   "id": "0de4d382-2d32-4ee4-95ce-5ea940accc54",
   "metadata": {},
   "outputs": [],
   "source": []
  },
  {
   "cell_type": "markdown",
   "id": "6e8c1abc-3334-4492-87e3-208500be841a",
   "metadata": {},
   "source": [
    "b) Convierte la matriz en un DataFrame con columnas \"Región_1\"... \"Región_5\"."
   ]
  },
  {
   "cell_type": "code",
   "execution_count": null,
   "id": "32f0c800-04cb-42a2-9139-4715c90ecfbf",
   "metadata": {},
   "outputs": [],
   "source": []
  },
  {
   "cell_type": "markdown",
   "id": "0319dba8-487f-4265-a368-72367f77fae5",
   "metadata": {},
   "source": [
    "c) Usa un bucle para calcular la actividad media de cada región y guárdala en un diccionario."
   ]
  },
  {
   "cell_type": "code",
   "execution_count": null,
   "id": "a7f8ce4e-8aab-468d-a4b1-dca57c79eb77",
   "metadata": {},
   "outputs": [],
   "source": []
  },
  {
   "cell_type": "markdown",
   "id": "960c2d10-edd4-4383-a3c9-49e67f3233bb",
   "metadata": {},
   "source": [
    "d) Convierte el diccionario en una Series y ordénala de mayor a menor."
   ]
  },
  {
   "cell_type": "code",
   "execution_count": null,
   "id": "60303317-c137-4429-9ace-1cd27ac10451",
   "metadata": {},
   "outputs": [],
   "source": []
  },
  {
   "cell_type": "markdown",
   "id": "4770bc3b-d9cc-4019-8906-102fc36ef0f3",
   "metadata": {},
   "source": [
    "# 9. Conectividad funcional (correlaciones)"
   ]
  },
  {
   "cell_type": "markdown",
   "id": "09984942-07b5-4002-89d8-a6cb173485b2",
   "metadata": {},
   "source": [
    "a) Simula con NumPy una matriz 200x4 con series de tiempo de actividad fMRI en 4 áreas cerebrales."
   ]
  },
  {
   "cell_type": "markdown",
   "id": "460496cd-0b6d-4240-98bc-d0be48963694",
   "metadata": {},
   "source": []
  },
  {
   "cell_type": "markdown",
   "id": "eecbb38a-5865-4c3d-abb3-a9face421125",
   "metadata": {},
   "source": [
    "b) Convierte en un DataFrame con columnas \"Área_1\"... \"Área_4\"."
   ]
  },
  {
   "cell_type": "code",
   "execution_count": null,
   "id": "78c2f8b1-c7dd-40b1-be23-6340af37f206",
   "metadata": {},
   "outputs": [],
   "source": []
  },
  {
   "cell_type": "markdown",
   "id": "3913f0d4-7d92-4a44-b34e-7a2a5991182f",
   "metadata": {},
   "source": [
    "c) Con un bucle, calcula la correlación de Pearson entre todas las parejas de áreas y guárdala en un diccionario con claves (Área_i, Área_j)."
   ]
  },
  {
   "cell_type": "code",
   "execution_count": null,
   "id": "391abc40-b306-4433-9001-8b79f5e7a957",
   "metadata": {},
   "outputs": [],
   "source": []
  },
  {
   "cell_type": "markdown",
   "id": "ff3cc6c9-e07d-41a5-8cf2-3bf48d5d3b52",
   "metadata": {},
   "source": [
    "d) Convierte el diccionario en un DataFrame cuadrado (matriz de conectividad)."
   ]
  },
  {
   "cell_type": "code",
   "execution_count": null,
   "id": "793dcede-566b-4a61-b555-44af0e29963c",
   "metadata": {},
   "outputs": [],
   "source": []
  },
  {
   "cell_type": "markdown",
   "id": "a7008c16-2d98-475e-9c64-e9ae3d8ddbba",
   "metadata": {},
   "source": [
    "# 10. Potenciales de acción por neurona"
   ]
  },
  {
   "cell_type": "markdown",
   "id": "8adc8fca-be87-4212-a05e-345bec291154",
   "metadata": {},
   "source": [
    "a) Genera una lista de 50 neuronas."
   ]
  },
  {
   "cell_type": "code",
   "execution_count": null,
   "id": "0c529495-08a3-4e64-83e6-93fb07b6c1d7",
   "metadata": {},
   "outputs": [],
   "source": []
  },
  {
   "cell_type": "markdown",
   "id": "e1e46a23-6f50-48ef-98aa-2869e206a53a",
   "metadata": {},
   "source": [
    "b) Para cada neurona, simula con NumPy una Serie de 100 ms de actividad (valores enteros 0 o 1 indicando si disparó o no). "
   ]
  },
  {
   "cell_type": "code",
   "execution_count": null,
   "id": "0e29a042-8ab3-484d-8b34-13d021e3d3a2",
   "metadata": {},
   "outputs": [],
   "source": []
  },
  {
   "cell_type": "markdown",
   "id": "b80871ff-d9ae-45ce-b135-a7ec1cd0105d",
   "metadata": {},
   "source": [
    "c) Guarda los resultados en un diccionario {Neurona: Serie}."
   ]
  },
  {
   "cell_type": "code",
   "execution_count": null,
   "id": "3034804d-de70-40bf-878e-19620357f785",
   "metadata": {},
   "outputs": [],
   "source": []
  },
  {
   "cell_type": "markdown",
   "id": "6a3d5666-9b11-49ad-8d78-5a617fc143da",
   "metadata": {},
   "source": [
    "d) Crea un DataFrame con todas las neuronas (filas) y tiempos (columnas)."
   ]
  },
  {
   "cell_type": "code",
   "execution_count": null,
   "id": "fde1c997-3b91-4465-883c-36acd7990c17",
   "metadata": {},
   "outputs": [],
   "source": []
  },
  {
   "cell_type": "markdown",
   "id": "9c73756d-a20f-464f-89e3-30077c170f53",
   "metadata": {},
   "source": [
    "e) Usa un bucle para contar cuántos disparos totales tuvo cada neurona y genera una Series con esos valores."
   ]
  },
  {
   "cell_type": "code",
   "execution_count": null,
   "id": "954f65b8-f277-4b79-9a0a-5f148d97adca",
   "metadata": {},
   "outputs": [],
   "source": []
  },
  {
   "cell_type": "markdown",
   "id": "d56cc84f-8958-448d-8953-bf647b7f4152",
   "metadata": {},
   "source": [
    "# 11. EEG por canales"
   ]
  },
  {
   "cell_type": "markdown",
   "id": "bce35faf-c406-4eff-b402-0adb62ba0e93",
   "metadata": {},
   "source": [
    "a) Simula una matriz 500x8 con NumPy representando 500 muestras de señal EEG en 8 canales (valores flotantes entre -100 y 100 µV)."
   ]
  },
  {
   "cell_type": "code",
   "execution_count": null,
   "id": "6578cc99-2534-488e-93ff-feca60057865",
   "metadata": {},
   "outputs": [],
   "source": []
  },
  {
   "cell_type": "markdown",
   "id": "69fdb919-4cf7-4f02-91a6-9b977bc3ba24",
   "metadata": {},
   "source": [
    "b) Convierte la matriz en un DataFrame con columnas \"Canal_1\"... \"Canal_8\"."
   ]
  },
  {
   "cell_type": "code",
   "execution_count": null,
   "id": "a52077fa-b68b-420c-8e92-fcbdb8ab21ca",
   "metadata": {},
   "outputs": [],
   "source": []
  },
  {
   "cell_type": "markdown",
   "id": "e95f33e4-bb7a-4ec9-883f-84105f57236e",
   "metadata": {},
   "source": [
    "c) Usa un bucle para calcular la potencia media de cada canal (media del cuadrado de la señal)."
   ]
  },
  {
   "cell_type": "code",
   "execution_count": null,
   "id": "9ef3f313-f718-445a-89ba-dcc7695c7a94",
   "metadata": {},
   "outputs": [],
   "source": []
  },
  {
   "cell_type": "markdown",
   "id": "8fddf830-db8c-4ba4-989b-c42e18f2d18c",
   "metadata": {},
   "source": [
    "d) Guarda los resultados en un diccionario y conviértelo en una Series ordenada."
   ]
  },
  {
   "cell_type": "code",
   "execution_count": null,
   "id": "a5a3927d-be02-48ed-a6a7-594a7e785f06",
   "metadata": {},
   "outputs": [],
   "source": []
  },
  {
   "cell_type": "markdown",
   "id": "adedb286-605b-48a1-b300-c7d4df89780a",
   "metadata": {},
   "source": [
    "e) Identifica el canal con mayor potencia."
   ]
  },
  {
   "cell_type": "code",
   "execution_count": null,
   "id": "73b84008-3e4d-48d5-8402-9e5fd1aedaea",
   "metadata": {},
   "outputs": [],
   "source": []
  },
  {
   "cell_type": "markdown",
   "id": "148407cd-36a0-4c83-ba51-086cee394fb7",
   "metadata": {},
   "source": [
    "# 12. Análisis de respuestas a estímulos"
   ]
  },
  {
   "cell_type": "markdown",
   "id": "fe425cc0-046f-4a77-8d10-9c2f0ef7a583",
   "metadata": {},
   "source": [
    "a) Genera un DataFrame con 30 sujetos (filas) y 3 condiciones experimentales (\"Cond_A\", \"Cond_B\", \"Cond_C\") con valores de tiempo de reacción simulados (valores entre 200–800 ms)."
   ]
  },
  {
   "cell_type": "code",
   "execution_count": null,
   "id": "8a308441-5bb6-4444-8b2d-8ee26cf60f80",
   "metadata": {},
   "outputs": [],
   "source": []
  },
  {
   "cell_type": "markdown",
   "id": "6f910c06-3738-43f5-a165-f460694a1098",
   "metadata": {},
   "source": [
    "b) Usa un bucle para calcular el promedio por condición en toda la muestra."
   ]
  },
  {
   "cell_type": "code",
   "execution_count": null,
   "id": "cb2f5e2d-6f65-4653-9d15-3e3f633a9e27",
   "metadata": {},
   "outputs": [],
   "source": []
  },
  {
   "cell_type": "markdown",
   "id": "a582bfde-0431-4bb9-a391-be2bdf607ba3",
   "metadata": {},
   "source": [
    "c) Convierte los resultados en un diccionario y luego en una Series."
   ]
  },
  {
   "cell_type": "code",
   "execution_count": null,
   "id": "6d3c19e1-1863-49dd-b485-94d500277509",
   "metadata": {},
   "outputs": [],
   "source": []
  },
  {
   "cell_type": "markdown",
   "id": "8226e867-a461-4bd8-b9db-eb2697ae1aa5",
   "metadata": {},
   "source": [
    "d) Agrega una columna \"Mejor_condición\" al DataFrame indicando la condición más rápida por sujeto.\n"
   ]
  },
  {
   "cell_type": "code",
   "execution_count": null,
   "id": "09d804a4-20a4-42c7-bcb0-91dbf878ba41",
   "metadata": {},
   "outputs": [],
   "source": []
  },
  {
   "cell_type": "markdown",
   "id": "3dd76c4f-d978-4d8c-84d4-8a751c4e071d",
   "metadata": {},
   "source": [
    "e) Cuenta cuántos sujetos respondieron mejor en cada condición."
   ]
  },
  {
   "cell_type": "code",
   "execution_count": null,
   "id": "27ff8582-7d03-4048-8471-b59f08f42f93",
   "metadata": {},
   "outputs": [],
   "source": []
  }
 ],
 "metadata": {
  "kernelspec": {
   "display_name": "Python 3 (ipykernel)",
   "language": "python",
   "name": "python3"
  },
  "language_info": {
   "codemirror_mode": {
    "name": "ipython",
    "version": 3
   },
   "file_extension": ".py",
   "mimetype": "text/x-python",
   "name": "python",
   "nbconvert_exporter": "python",
   "pygments_lexer": "ipython3",
   "version": "3.13.7"
  }
 },
 "nbformat": 4,
 "nbformat_minor": 5
}
