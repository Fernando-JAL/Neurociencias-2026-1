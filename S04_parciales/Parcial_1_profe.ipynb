{
 "cells": [
  {
   "cell_type": "markdown",
   "id": "7d77c66d-0a17-4fe5-b68f-3723afab367d",
   "metadata": {},
   "source": [
    "🔹 Listas\n",
    "\n",
    "- Crea una lista con los números del 1 al 10 e imprime solo los números pares.\n",
    "\n",
    "- Escribe un programa que calcule la suma de todos los elementos de una lista de enteros.\n",
    "\n",
    "- Ordena una lista de palabras en orden alfabético sin usar sorted().\n",
    "\n",
    "- Elimina los elementos duplicados de una lista sin usar set().\n",
    "\n",
    "- Dada una lista de enteros, invierte el orden de la lista sin usar .reverse() ni [::-1].\n",
    "\n",
    "- Escribe un programa que encuentre el segundo número más grande en una lista."
   ]
  },
  {
   "cell_type": "markdown",
   "id": "774b66b9-49b0-4ecb-a9cd-a1bf672ab25e",
   "metadata": {},
   "source": [
    "🔹 Diccionarios\n",
    "\n",
    "- Crea un diccionario con 5 nombres como llaves y edades como valores. Imprime el nombre de la persona más joven.\n",
    "\n",
    "- Dado un diccionario de productos y precios, imprime el producto más caro.\n",
    "\n",
    "- Convierte dos listas (keys, values) en un diccionario.\n",
    "\n",
    "- Cuenta cuántas veces aparece cada letra en una cadena usando un diccionario.\n",
    "\n",
    "- Dado un diccionario, invierte las llaves y valores.\n",
    "\n",
    "- Escribe un programa que sume todos los valores de un diccionario.\n",
    "\n",
    "- Agrega una nueva clave a un diccionario solo si no existe previamente."
   ]
  },
  {
   "cell_type": "markdown",
   "id": "4d5c3c46-3164-4039-bbf6-86c8a8aa82ae",
   "metadata": {},
   "source": [
    "🔹 Loops - for/while\n",
    "\n",
    "- Genera la secuencia de Fibonacci hasta 100 con un bucle while\n",
    "\n",
    "- Genera la secuencia de Fibonacci hasta 100 con una función recursiva\n",
    "\n",
    "- Crea una función recursiva que calcule la suma de los dígitos de un número."
   ]
  },
  {
   "cell_type": "markdown",
   "id": "e6782284-b15f-438c-861a-d4447226631a",
   "metadata": {},
   "source": [
    "🔹 if / elif / else\n",
    "\n",
    "- Pide al usuario un número e indica si es positivo, negativo o cero.\n",
    "\n",
    "- Pide una edad e imprime si es niño, adolescente, adulto o adulto mayor.\n",
    "\n",
    "- Pide un número e indica si es par o impar.\n",
    "\n",
    "- Crea un programa que simule una calculadora básica con if/elif/else.\n",
    "\n",
    "- Dado un número del 1 al 7, imprime el día de la semana correspondiente."
   ]
  },
  {
   "cell_type": "markdown",
   "id": "62aed855-3061-45f4-88bf-2a75a8d341c5",
   "metadata": {},
   "source": [
    "🔹 Ejercicio Frecuencia de números en matriz\n",
    "\n",
    "- Genera una matriz 6x6 de enteros aleatorios entre 1 y 10 usando NumPy.\n",
    "\n",
    "- Recorre la matriz y guarda en un diccionario la frecuencia de cada número.\n",
    "\n",
    "- Convierte el diccionario en una lista de tuplas (número, frecuencia) y ordénala de mayor a menor frecuencia.\n",
    "\n",
    "- Imprime la matriz, el diccionario y la lista ordenada."
   ]
  },
  {
   "cell_type": "markdown",
   "id": "48e1ab49-c991-45e6-b9a5-9a2462a56607",
   "metadata": {},
   "source": [
    "🔹 Ejercicio Clasificación de filas por suma\n",
    "\n",
    "- Genera una matriz 6x6 de números aleatorios entre 1 y 50.\n",
    "\n",
    "- Calcula la suma de cada fila y almacénala en un diccionario: {\"fila_1\": suma, \"fila_2\": suma, ...}.\n",
    "\n",
    "- Recorre el diccionario y clasifica cada fila en una lista distinta:\n",
    "\n",
    "- \"baja\" si la suma < 100\n",
    "\n",
    "- \"media\" si 100 ≤ suma < 200\n",
    "\n",
    "- \"alta\" si suma ≥ 200\n",
    "\n",
    "- Imprime la matriz, el diccionario y las tres listas (baja, media, alta)."
   ]
  },
  {
   "cell_type": "markdown",
   "id": "a7dcab51-cf15-49bd-8648-c0004bb2a6ca",
   "metadata": {},
   "source": [
    "🔹 Ejercicio Promedios por columna y gráfico de líneas\n",
    "\n",
    "- Crea una matriz 10x5 con enteros entre 10 y 100.\n",
    "\n",
    "- Calcula el promedio de cada columna usando un bucle.\n",
    "\n",
    "- Guarda los resultados en un diccionario con claves \"col_1\" ... \"col_5\".\n",
    "\n",
    "- Convierte los valores en una lista y grafícalos en una línea (line plot) mostrando el promedio por columna."
   ]
  },
  {
   "cell_type": "markdown",
   "id": "274e5828-168a-4eae-bf98-4ee05a06436a",
   "metadata": {},
   "source": [
    "🔹 Ejercicio Evolución temporal simulada\n",
    "\n",
    "- Simula con NumPy una lista de 30 días con valores aleatorios de temperatura entre 15°C y 35°C.\n",
    "\n",
    "- Almacena los valores en un diccionario con claves \"día_1\", \"día_2\", ....\n",
    "\n",
    "- Usa un bucle para crear una lista con los días donde la temperatura superó 30°C.\n",
    "\n",
    "- Grafica las temperaturas en un gráfico de línea con puntos marcados (scatter + line plot).\n",
    "\n",
    "- Marca en rojo los días con temperatura > 30°C."
   ]
  },
  {
   "cell_type": "markdown",
   "id": "859f5929-28bb-4708-ac2e-ea39d115eabc",
   "metadata": {},
   "source": [
    "🔹 Ejercicio Comparación de distribuciones\n",
    "\n",
    "- Genera dos arreglos de 100 números aleatorios con distribución normal:\n",
    "\n",
    "- grupo_A: media 50, desviación 10\n",
    "\n",
    "- grupo_B: media 60, desviación 15\n",
    "\n",
    "- Guarda en un diccionario con claves \"A\" y \"B\".\n",
    "\n",
    "- Calcula media y desviación estándar de cada grupo y guárdalas en listas.\n",
    "\n",
    "- Grafica ambos grupos en un histograma comparativo (superposición con colores diferentes y transparencia)."
   ]
  },
  {
   "cell_type": "markdown",
   "id": "f02dd7ab-0f94-4cd5-ae76-5fdab3434578",
   "metadata": {},
   "source": [
    "🔹 Ejercicio Clasificación de temperaturas\n",
    "\n",
    "- Genera una Serie con 50 valores aleatorios entre -10 y 40 (temperaturas).\n",
    "\n",
    "- Recorre la Serie y clasifica cada temperatura en un diccionario:\n",
    "\n",
    "- \"frío\" si < 10\n",
    "\n",
    "- \"templado\" si 10–25\n",
    "\n",
    "- \"calor\" si > 25\n",
    "\n",
    "- Convierte el diccionario en un DataFrame con columnas \"Temperatura\" y \"Categoría\".\n",
    "\n",
    "- Cuenta cuántos valores cayeron en cada categoría."
   ]
  },
  {
   "cell_type": "markdown",
   "id": "47a3878d-a30e-4d68-b2ba-d70aeb6b995e",
   "metadata": {},
   "source": [
    "🔹 Ejercicio Matriz de distancias\n",
    "\n",
    "- Genera una matriz 10x2 con coordenadas aleatorias (x, y) entre 0 y 100.\n",
    "\n",
    "- Con un bucle, calcula las distancias euclidianas entre cada par de puntos y guárdalas en un diccionario con claves (i,j).\n",
    "\n",
    "- Convierte el diccionario en un DataFrame de 10x10 (matriz de distancias).\n",
    "\n",
    "- Encuentra el par de puntos más cercanos y el más lejano."
   ]
  },
  {
   "cell_type": "markdown",
   "id": "83110dd5-9367-4715-9160-54cb296b7aa9",
   "metadata": {},
   "source": [
    "🔹 Ejercicio Análisis de series temporales\n",
    "\n",
    "Genera con NumPy una Serie de 365 valores aleatorios entre 10 y 40 (temperatura diaria de un año).\n",
    "\n",
    "Convierte en un DataFrame con columnas \"Día\" y \"Temperatura\".\n",
    "\n",
    "Usa un bucle para calcular la media de cada mes (asume 30 días por mes).\n",
    "\n",
    "Guarda las medias en un diccionario {Mes: Promedio}.\n",
    "\n",
    "Convierte el diccionario en una Series y ordénala de mayor a menor."
   ]
  },
  {
   "cell_type": "markdown",
   "id": "696cbd58-a2f3-4f4b-927b-cf106b0b1eab",
   "metadata": {},
   "source": [
    "🔹 Ejercicio Actividad neuronal por regiones\n",
    "\n",
    "Genera una matriz 100x5 con NumPy representando la actividad de 100 neuronas en 5 regiones cerebrales (valores entre 0 y 1 como tasas de disparo).\n",
    "\n",
    "Convierte la matriz en un DataFrame con columnas \"Región_1\"... \"Región_5\".\n",
    "\n",
    "Usa un bucle para calcular la actividad media de cada región y guárdala en un diccionario.\n",
    "\n",
    "Convierte el diccionario en una Series y ordénala de mayor a menor."
   ]
  },
  {
   "cell_type": "markdown",
   "id": "07f21b80-6ed2-4251-979f-e8c200c8b43d",
   "metadata": {},
   "source": [
    "🔹 Ejercicio Conectividad funcional (correlaciones)\n",
    "\n",
    "Simula con NumPy una matriz 200x4 con series de tiempo de actividad fMRI en 4 áreas cerebrales.\n",
    "\n",
    "Convierte en un DataFrame con columnas \"Área_1\"... \"Área_4\".\n",
    "\n",
    "Con un bucle, calcula la correlación de Pearson entre todas las parejas de áreas y guárdala en un diccionario con claves (Área_i, Área_j).\n",
    "\n",
    "Convierte el diccionario en un DataFrame cuadrado (matriz de conectividad)."
   ]
  },
  {
   "cell_type": "markdown",
   "id": "c1444400-53e6-4b0a-8c84-07327492c649",
   "metadata": {},
   "source": [
    "🔹 Ejercicio Potenciales de acción por neurona\n",
    "\n",
    "Genera una lista de 50 neuronas.\n",
    "\n",
    "Para cada neurona, simula con NumPy una Serie de 100 ms de actividad (valores enteros 0 o 1 indicando si disparó o no).\n",
    "\n",
    "Guarda los resultados en un diccionario {Neurona: Serie}.\n",
    "\n",
    "Crea un DataFrame con todas las neuronas (filas) y tiempos (columnas).\n",
    "\n",
    "Usa un bucle para contar cuántos disparos totales tuvo cada neurona y genera una Series con esos valores."
   ]
  },
  {
   "cell_type": "markdown",
   "id": "b3fa8e28-a6aa-4ea0-a297-8df5b1077855",
   "metadata": {},
   "source": [
    "🔹 Ejercicio EEG por canales\n",
    "\n",
    "Simula una matriz 500x8 con NumPy representando 500 muestras de señal EEG en 8 canales (valores flotantes entre -100 y 100 µV).\n",
    "\n",
    "Convierte la matriz en un DataFrame con columnas \"Canal_1\"... \"Canal_8\".\n",
    "\n",
    "Usa un bucle para calcular la potencia media de cada canal (media del cuadrado de la señal).\n",
    "\n",
    "Guarda los resultados en un diccionario y conviértelo en una Series ordenada.\n",
    "\n",
    "Identifica el canal con mayor potencia."
   ]
  },
  {
   "cell_type": "markdown",
   "id": "64464de2-850c-4c86-b245-843e183f0a68",
   "metadata": {},
   "source": [
    "🔹 Ejercicio Análisis de respuestas a estímulos\n",
    "\n",
    "Genera un DataFrame con 30 sujetos (filas) y 3 condiciones experimentales (\"Cond_A\", \"Cond_B\", \"Cond_C\") con valores de tiempo de reacción simulados (valores entre 200–800 ms).\n",
    "\n",
    "Usa un bucle para calcular el promedio por condición en toda la muestra.\n",
    "\n",
    "Convierte los resultados en un diccionario y luego en una Series.\n",
    "\n",
    "Agrega una columna \"Mejor_condición\" al DataFrame indicando la condición más rápida por sujeto.\n",
    "\n",
    "Cuenta cuántos sujetos respondieron mejor en cada condición."
   ]
  },
  {
   "cell_type": "code",
   "execution_count": null,
   "id": "ebd7c105-85eb-4762-9a63-1515dd3313a4",
   "metadata": {},
   "outputs": [],
   "source": []
  }
 ],
 "metadata": {
  "kernelspec": {
   "display_name": "Python 3 (ipykernel)",
   "language": "python",
   "name": "python3"
  },
  "language_info": {
   "codemirror_mode": {
    "name": "ipython",
    "version": 3
   },
   "file_extension": ".py",
   "mimetype": "text/x-python",
   "name": "python",
   "nbconvert_exporter": "python",
   "pygments_lexer": "ipython3",
   "version": "3.13.6"
  }
 },
 "nbformat": 4,
 "nbformat_minor": 5
}
