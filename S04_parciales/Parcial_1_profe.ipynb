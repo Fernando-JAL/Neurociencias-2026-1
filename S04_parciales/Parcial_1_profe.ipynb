{
 "cells": [
  {
   "cell_type": "markdown",
   "id": "62aed855-3061-45f4-88bf-2a75a8d341c5",
   "metadata": {},
   "source": [
    "🔹 Ejercicio Frecuencia de números en matriz\n",
    "\n",
    "Genera una matriz 6x6 de enteros aleatorios entre 1 y 10 usando NumPy.\n",
    "\n",
    "Recorre la matriz y guarda en un diccionario la frecuencia de cada número.\n",
    "\n",
    "Convierte el diccionario en una lista de tuplas (número, frecuencia) y ordénala de mayor a menor frecuencia.\n",
    "\n",
    "Imprime la matriz, el diccionario y la lista ordenada."
   ]
  },
  {
   "cell_type": "code",
   "execution_count": 2,
   "id": "d37e9814-7853-44ff-8640-a9e461119fd3",
   "metadata": {},
   "outputs": [],
   "source": [
    "import numpy as np\n"
   ]
  },
  {
   "cell_type": "code",
   "execution_count": 2,
   "id": "6759e454-9b53-4d8e-813e-52eaa8e9dd3d",
   "metadata": {},
   "outputs": [],
   "source": [
    "mat = np.random.randint(1, 11, size=(6, 6))"
   ]
  },
  {
   "cell_type": "code",
   "execution_count": 3,
   "id": "a01e06e5-b178-489f-bde0-73ebb3ae3ca0",
   "metadata": {},
   "outputs": [],
   "source": [
    "frecuencias = {}\n",
    "for valor in mat.flatten():         \n",
    "    if valor in frecuencias:\n",
    "        frecuencias[valor] += 1\n",
    "    else:\n",
    "        frecuencias[valor] = 1"
   ]
  },
  {
   "cell_type": "code",
   "execution_count": 4,
   "id": "d734361e-7d5c-43fc-bc9f-d642bfc7e43d",
   "metadata": {},
   "outputs": [],
   "source": [
    "lista_ordenada = sorted(frecuencias.items(), key=lambda x: x[1], reverse=True)"
   ]
  },
  {
   "cell_type": "code",
   "execution_count": 5,
   "id": "9c0f90ca-c68e-4db4-8e08-f3c95ae50eeb",
   "metadata": {},
   "outputs": [
    {
     "name": "stdout",
     "output_type": "stream",
     "text": [
      "[[ 3  3  3  9  8 10]\n",
      " [ 4  9 10  9  5  3]\n",
      " [ 9  7  6  3  3  1]\n",
      " [ 7  6  7  3  6  8]\n",
      " [ 9  4  3  4  1  2]\n",
      " [ 1  7  6  7  6  1]] {np.int32(3): 8, np.int32(9): 5, np.int32(8): 2, np.int32(10): 2, np.int32(4): 3, np.int32(5): 1, np.int32(7): 5, np.int32(6): 5, np.int32(1): 4, np.int32(2): 1} [(np.int32(3), 8), (np.int32(9), 5), (np.int32(7), 5), (np.int32(6), 5), (np.int32(1), 4), (np.int32(4), 3), (np.int32(8), 2), (np.int32(10), 2), (np.int32(5), 1), (np.int32(2), 1)]\n"
     ]
    }
   ],
   "source": [
    "print(mat, frecuencias , lista_ordenada)"
   ]
  },
  {
   "cell_type": "markdown",
   "id": "a7dcab51-cf15-49bd-8648-c0004bb2a6ca",
   "metadata": {},
   "source": [
    "🔹 Ejercicio Promedios por columna y gráfico de líneas\n",
    "\n",
    "Crea una matriz 10x5 con enteros entre 10 y 100.\n",
    "\n",
    "Calcula el promedio de cada columna usando un bucle.\n",
    "\n",
    "Guarda los resultados en un diccionario con claves \"col_1\" ... \"col_5\".\n",
    "\n",
    "Convierte los valores en una lista y grafícalos en una línea (line plot) mostrando el promedio por columna."
   ]
  },
  {
   "cell_type": "code",
   "execution_count": 6,
   "id": "b5c0cce1-95a3-42c5-85b1-e354202d9f56",
   "metadata": {},
   "outputs": [],
   "source": [
    "import matplotlib.pyplot as plt\n"
   ]
  },
  {
   "cell_type": "code",
   "execution_count": 8,
   "id": "fc34e18f-8d7f-4f93-a142-700da683d61b",
   "metadata": {},
   "outputs": [
    {
     "data": {
      "text/plain": [
       "array([[14, 63, 58, 22, 61],\n",
       "       [90, 96, 26, 75, 89],\n",
       "       [72, 22, 23, 91, 78],\n",
       "       [53, 16, 74, 36, 60],\n",
       "       [97, 20, 38, 66, 24],\n",
       "       [37, 87, 50, 60, 40],\n",
       "       [88, 46, 15, 54, 41],\n",
       "       [70, 18, 92, 92, 76],\n",
       "       [51, 45, 31, 76, 22],\n",
       "       [10, 28, 15, 13, 72]], dtype=int32)"
      ]
     },
     "execution_count": 8,
     "metadata": {},
     "output_type": "execute_result"
    }
   ],
   "source": [
    "mat = np.random.randint(10, 101, size=(10, 5))\n",
    "mat"
   ]
  },
  {
   "cell_type": "code",
   "execution_count": 12,
   "id": "036553bb-652a-4405-bf0d-03cd3e31334a",
   "metadata": {},
   "outputs": [],
   "source": [
    "n_filas, n_col = mat.shape\n",
    "promedios = {}\n",
    "for col in range(n_cols):        # col = 0,1,2,3,4\n",
    "    suma = 0\n",
    "    for row in range(n_filas):    # row = 0..9\n",
    "        suma += mat[row, col]\n",
    "    promedios[f\"col_{col+1}\"] = suma / n_filas\n"
   ]
  },
  {
   "cell_type": "code",
   "execution_count": 15,
   "id": "2aebcdf2-c48c-46f7-a6a5-220a7cdd31c0",
   "metadata": {},
   "outputs": [],
   "source": [
    "lista_promedios = list(promedios.values())"
   ]
  },
  {
   "cell_type": "code",
   "execution_count": 16,
   "id": "22d17d39-6791-42ca-bb1d-c0e9a24734da",
   "metadata": {},
   "outputs": [
    {
     "data": {
      "image/png": "[encoded data removed]",
      "text/plain": [
       "<Figure size 640x480 with 1 Axes>"
      ]
     },
     "metadata": {},
     "output_type": "display_data"
    }
   ],
   "source": [
    "plt.plot(range(1, n_col+1), lista_promedios, marker='o')\n",
    "plt.title(\"Promedio por columna\")\n",
    "plt.xlabel(\"Columnas\")\n",
    "plt.ylabel(\"Promedio\")\n",
    "plt.show()"
   ]
  },
  {
   "cell_type": "markdown",
   "id": "274e5828-168a-4eae-bf98-4ee05a06436a",
   "metadata": {},
   "source": [
    "🔹 Ejercicio Evolución temporal simulada\n",
    "\n",
    "Simula con NumPy una lista de 30 días con valores aleatorios de temperatura entre 15°C y 35°C.\n",
    "\n",
    "Almacena los valores en un diccionario con claves \"día_1\", \"día_2\", ....\n",
    "\n",
    "Usa un bucle para crear una lista con los días donde la temperatura superó 30°C.\n",
    "\n",
    "Grafica las temperaturas en un gráfico de línea con puntos marcados (scatter + line plot).\n",
    "\n",
    "Marca en rojo los días con temperatura > 30°C."
   ]
  },
  {
   "cell_type": "code",
   "execution_count": 17,
   "id": "aac9d605-62c6-4c22-9cee-69cd707c9eef",
   "metadata": {},
   "outputs": [],
   "source": [
    "temps = np.random.randint(15, 36, size=30)"
   ]
  },
  {
   "cell_type": "code",
   "execution_count": 18,
   "id": "15c5ae6d-98f4-476d-8acf-3031a06f3664",
   "metadata": {},
   "outputs": [],
   "source": [
    "diccionario = {f\"día_{i+1}\": temps[i] for i in range(30)}"
   ]
  },
  {
   "cell_type": "code",
   "execution_count": 19,
   "id": "4901d5de-2980-41ba-9731-ded48cfd9bc8",
   "metadata": {},
   "outputs": [],
   "source": [
    "dias_calor = [i+1 for i in range(30) if temps[i] > 30]"
   ]
  },
  {
   "cell_type": "code",
   "execution_count": 24,
   "id": "e813f85d-7153-4344-be38-fc4dc5f55573",
   "metadata": {},
   "outputs": [
    {
     "data": {
      "image/png": "[encoded data removed]",
      "text/plain": [
       "<Figure size 640x480 with 1 Axes>"
      ]
     },
     "metadata": {},
     "output_type": "display_data"
    }
   ],
   "source": [
    "dias_calor = [i+1 for i in range(30) if temps[i] > 30]\n",
    "\n",
    "# 4) Gráfico\n",
    "plt.plot(range(1, 31), temps, marker='o', label=\"Temperatura\")\n",
    "plt.scatter(dias_calor, [temps[d-1] for d in dias_calor], color='red', label=\">30°C\")\n",
    "plt.xlabel(\"Días\")\n",
    "plt.show()"
   ]
  },
  {
   "cell_type": "markdown",
   "id": "859f5929-28bb-4708-ac2e-ea39d115eabc",
   "metadata": {},
   "source": [
    "🔹 Ejercicio Comparación de distribuciones\n",
    "\n",
    "Genera dos arreglos de 100 números aleatorios con distribución normal:\n",
    "\n",
    "grupo_A: media 50, desviación 10\n",
    "\n",
    "grupo_B: media 60, desviación 15\n",
    "\n",
    "Guarda en un diccionario con claves \"A\" y \"B\".\n",
    "\n",
    "Calcula media y desviación estándar de cada grupo y guárdalas en listas.\n",
    "\n",
    "Grafica ambos grupos en un histograma comparativo (superposición con colores diferentes y transparencia)."
   ]
  },
  {
   "cell_type": "code",
   "execution_count": 26,
   "id": "1a1a31c3-2a75-4a55-a443-63338934ea3b",
   "metadata": {},
   "outputs": [],
   "source": [
    "grupo_A = np.random.normal(50, 10, 100)\n",
    "grupo_B = np.random.normal(60, 15, 100)\n",
    "\n",
    "grupos = {\"A\": grupo_A, \"B\": grupo_B}\n",
    "\n"
   ]
  },
  {
   "cell_type": "code",
   "execution_count": 27,
   "id": "37418305-93d0-4cf2-88bd-6afc5972a120",
   "metadata": {},
   "outputs": [],
   "source": [
    "medias = [np.mean(grupo_A), np.mean(grupo_B)]\n",
    "desvs  = [np.std(grupo_A), np.std(grupo_B)]"
   ]
  },
  {
   "cell_type": "code",
   "execution_count": 31,
   "id": "ecbe72bb-2487-499e-8c26-0624afd68ccd",
   "metadata": {},
   "outputs": [
    {
     "data": {
      "image/png": "[encoded data removed]",
      "text/plain": [
       "<Figure size 640x480 with 1 Axes>"
      ]
     },
     "metadata": {},
     "output_type": "display_data"
    }
   ],
   "source": [
    "\n",
    "plt.hist(grupo_A, bins=20, alpha=0.5, label=\"G A\")\n",
    "plt.hist(grupo_B, bins=20, alpha=0.5, label=\"G B\")\n",
    "plt.xlabel(\"Valor\")\n",
    "plt.ylabel(\"Frec\")\n",
    "plt.legend()\n",
    "plt.show()\n"
   ]
  },
  {
   "cell_type": "markdown",
   "id": "f02dd7ab-0f94-4cd5-ae76-5fdab3434578",
   "metadata": {},
   "source": [
    "🔹 Ejercicio Clasificación de temperaturas\n",
    "\n",
    "Genera una Serie con 50 valores aleatorios entre -10 y 40 (temperaturas).\n",
    "\n",
    "Recorre la Serie y clasifica cada temperatura en un diccionario:\n",
    "\n",
    "\"frío\" si < 10\n",
    "\n",
    "\"templado\" si 10–25\n",
    "\n",
    "\"calor\" si > 25\n",
    "\n",
    "Convierte el diccionario en un DataFrame con columnas \"Temperatura\" y \"Categoría\".\n",
    "\n",
    "Cuenta cuántos valores cayeron en cada categoría."
   ]
  },
  {
   "cell_type": "code",
   "execution_count": 4,
   "id": "453864c0-f98f-4396-98e6-b2c82368af43",
   "metadata": {},
   "outputs": [],
   "source": [
    "import pandas as pd"
   ]
  },
  {
   "cell_type": "code",
   "execution_count": 34,
   "id": "b5cdb379-32d0-4e42-8891-36f64589e013",
   "metadata": {},
   "outputs": [],
   "source": [
    "temps = pd.Series(np.random.randint(-10, 41, size=50))\n",
    "\n",
    "\n",
    "categorias = {}\n",
    "for i, t in enumerate(temps, start=1):\n",
    "    if t < 10:\n",
    "        categorias[i] = (\"frío\")\n",
    "    elif 10 <= t <= 25:\n",
    "        categorias[i] = (\"templado\")\n",
    "    else:\n",
    "        categorias[i] = (\"calor\")"
   ]
  },
  {
   "cell_type": "code",
   "execution_count": 35,
   "id": "b20de3aa-d1d8-4208-9a7b-f408958e5c4a",
   "metadata": {},
   "outputs": [
    {
     "name": "stdout",
     "output_type": "stream",
     "text": [
      "    Temperatura Categoría\n",
      "0            19  templado\n",
      "1             0      frío\n",
      "2            28     calor\n",
      "3            28     calor\n",
      "4            28     calor\n",
      "5             0      frío\n",
      "6            35     calor\n",
      "7            25  templado\n",
      "8            30     calor\n",
      "9            -3      frío\n",
      "10          -10      frío\n",
      "11           23  templado\n",
      "12           21  templado\n",
      "13           -6      frío\n",
      "14           10  templado\n",
      "15           -1      frío\n",
      "16           20  templado\n",
      "17           39     calor\n",
      "18           -4      frío\n",
      "19           34     calor\n",
      "20            7      frío\n",
      "21            3      frío\n",
      "22           31     calor\n",
      "23          -10      frío\n",
      "24           -9      frío\n",
      "25           -3      frío\n",
      "26            6      frío\n",
      "27           24  templado\n",
      "28           35     calor\n",
      "29            1      frío\n",
      "30           -3      frío\n",
      "31            1      frío\n",
      "32           39     calor\n",
      "33           26     calor\n",
      "34           20  templado\n",
      "35           21  templado\n",
      "36           30     calor\n",
      "37           -6      frío\n",
      "38           -1      frío\n",
      "39           19  templado\n",
      "40           -6      frío\n",
      "41            1      frío\n",
      "42           -8      frío\n",
      "43           14  templado\n",
      "44            6      frío\n",
      "45           13  templado\n",
      "46           26     calor\n",
      "47           30     calor\n",
      "48           33     calor\n",
      "49           14  templado\n",
      "\n",
      "Conteo por categoría:\n",
      " Categoría\n",
      "frío        22\n",
      "calor       15\n",
      "templado    13\n",
      "Name: count, dtype: int64\n"
     ]
    }
   ],
   "source": [
    "f = pd.DataFrame({\n",
    "    \"Temperatura\": temps,\n",
    "    \"Categoría\": list(categorias.values())\n",
    "})\n",
    "\n",
    "\n",
    "conteo = df[\"Categoría\"].value_counts()\n",
    "\n",
    "print(df)\n",
    "print(\"\\nConteo por categoría:\\n\", conteo)\n"
   ]
  },
  {
   "cell_type": "markdown",
   "id": "47a3878d-a30e-4d68-b2ba-d70aeb6b995e",
   "metadata": {},
   "source": [
    "🔹 Ejercicio Matriz de distancias\n",
    "\n",
    "Genera una matriz 10x2 con coordenadas aleatorias (x, y) entre 0 y 100.\n",
    "\n",
    "Con un bucle, calcula las distancias euclidianas entre cada par de puntos y guárdalas en un diccionario con claves (i,j).\n",
    "\n",
    "Convierte el diccionario en un DataFrame de 10x10 (matriz de distancias).\n",
    "\n",
    "Encuentra el par de puntos más cercanos y el más lejano."
   ]
  },
  {
   "cell_type": "code",
   "execution_count": 36,
   "id": "e316b2bb-aa62-493a-8cbb-f813518ae870",
   "metadata": {},
   "outputs": [
    {
     "data": {
      "text/plain": [
       "array([[ 81,  16],\n",
       "       [ 67,  66],\n",
       "       [ 55, 100],\n",
       "       [ 66,  55],\n",
       "       [ 34,  81],\n",
       "       [ 77,  16],\n",
       "       [ 21,  98],\n",
       "       [ 87,  72],\n",
       "       [ 51,  59],\n",
       "       [ 85,  62]], dtype=int32)"
      ]
     },
     "execution_count": 36,
     "metadata": {},
     "output_type": "execute_result"
    }
   ],
   "source": [
    "puntos = np.random.randint(0, 101, (10, 2))\n",
    "puntos"
   ]
  },
  {
   "cell_type": "code",
   "execution_count": 37,
   "id": "34669ee6-7b4d-4ea6-8141-e9266ea984b3",
   "metadata": {},
   "outputs": [],
   "source": [
    "distancias = {}\n",
    "for i in range(10):\n",
    "    for j in range(10):\n",
    "        x1, y1 = puntos[i]\n",
    "        x2, y2 = puntos[j]\n",
    "        distancias[(i,j)] = np.sqrt((x2-x1)**2 + (y2-y1)**2)\n",
    "\n",
    "df = pd.DataFrame(np.zeros((10,10)))\n",
    "for (i,j), d in distancias.items():\n",
    "    df.iloc[i,j] = d"
   ]
  },
  {
   "cell_type": "code",
   "execution_count": 39,
   "id": "34fbb583-a2da-4139-8117-cc91f9b1e748",
   "metadata": {},
   "outputs": [
    {
     "name": "stdout",
     "output_type": "stream",
     "text": [
      "Par más cercano: (0, 5) distancia 4.00\n",
      "Par más lejano: (0, 6) distancia 101.61\n"
     ]
    }
   ],
   "source": [
    "df_sin_diag = df.copy()\n",
    "np.fill_diagonal(df_sin_diag.values, np.inf)\n",
    "min_par = [(i,j) for i in range(10) for j in range(10) if df_sin_diag.iloc[i,j]==df_sin_diag.min().min()][0]\n",
    "max_par = [(i,j) for i in range(10) for j in range(10) if df.iloc[i,j]==df.max().max()][0]\n",
    "\n",
    "print(f\"Par más cercano: {min_par} distancia {df_sin_diag.min().min():.2f}\")\n",
    "print(f\"Par más lejano: {max_par} distancia {df.max().max():.2f}\")"
   ]
  },
  {
   "cell_type": "code",
   "execution_count": null,
   "id": "af8359f2-ebcf-4665-aeaa-7f03a7b3bb7e",
   "metadata": {},
   "outputs": [],
   "source": []
  },
  {
   "cell_type": "markdown",
   "id": "83110dd5-9367-4715-9160-54cb296b7aa9",
   "metadata": {},
   "source": [
    "🔹 Ejercicio Análisis de series temporales\n",
    "\n",
    "Genera con NumPy una Serie de 365 valores aleatorios entre 10 y 40 (temperatura diaria de un año).\n",
    "\n",
    "Convierte en un DataFrame con columnas \"Día\" y \"Temperatura\".\n",
    "\n",
    "Usa un bucle para calcular la media de cada mes (asume 30 días por mes).\n",
    "\n",
    "Guarda las medias en un diccionario {Mes: Promedio}.\n",
    "\n",
    "Convierte el diccionario en una Series y ordénala de mayor a menor."
   ]
  },
  {
   "cell_type": "code",
   "execution_count": 43,
   "id": "9f9be6be-b26f-4e14-be59-40e27bf6949a",
   "metadata": {},
   "outputs": [],
   "source": [
    "temps = np.random.randint(10, 41, 365)"
   ]
  },
  {
   "cell_type": "code",
   "execution_count": 44,
   "id": "0b9fba03-f09c-41b7-9d77-5793e10d2ae9",
   "metadata": {},
   "outputs": [
    {
     "name": "stdout",
     "output_type": "stream",
     "text": [
      "Medias por mes:\n",
      " Mes 2     27.000000\n",
      "Mes 3     26.866667\n",
      "Mes 4     25.966667\n",
      "Mes 5     25.900000\n",
      "Mes 1     25.100000\n",
      "Mes 9     24.866667\n",
      "Mes 6     24.466667\n",
      "Mes 7     23.900000\n",
      "Mes 8     23.533333\n",
      "Mes 12    23.433333\n",
      "Mes 10    23.100000\n",
      "Mes 11    22.966667\n",
      "dtype: float64\n"
     ]
    }
   ],
   "source": [
    "df = pd.DataFrame({\n",
    "    \"Día\": range(1, 366),\n",
    "    \"Temperatura\": temps })\n",
    "\n",
    "medias = {}\n",
    "for mes in range(12):\n",
    "    inicio = mes * 30\n",
    "    fin = inicio + 30\n",
    "    medias[f\"Mes {mes+1}\"] = df[\"Temperatura\"][inicio:fin].mean()\n",
    "\n",
    "serie_medias = pd.Series(medias).sort_values(ascending=False)\n",
    "\n",
    "print(\"Medias por mes\", serie_medias)"
   ]
  },
  {
   "cell_type": "markdown",
   "id": "696cbd58-a2f3-4f4b-927b-cf106b0b1eab",
   "metadata": {},
   "source": [
    "🔹 Ejercicio Actividad neuronal por regiones\n",
    "\n",
    "Genera una matriz 100x5 con NumPy representando la actividad de 100 neuronas en 5 regiones cerebrales (valores entre 0 y 1 como tasas de disparo).\n",
    "\n",
    "Convierte la matriz en un DataFrame con columnas \"Región_1\"... \"Región_5\".\n",
    "\n",
    "Usa un bucle para calcular la actividad media de cada región y guárdala en un diccionario.\n",
    "\n",
    "Convierte el diccionario en una Series y ordénala de mayor a menor."
   ]
  },
  {
   "cell_type": "code",
   "execution_count": 51,
   "id": "55573762-bc20-4a61-9ad8-d33ef85f78e0",
   "metadata": {},
   "outputs": [
    {
     "data": {
      "text/plain": [
       "array([[1, 1, 1, 1, 0],\n",
       "       [0, 0, 0, 0, 0],\n",
       "       [1, 1, 1, 1, 0],\n",
       "       [0, 0, 0, 1, 0],\n",
       "       [1, 1, 0, 1, 1],\n",
       "       [1, 0, 1, 1, 1],\n",
       "       [0, 1, 1, 0, 0],\n",
       "       [1, 1, 1, 1, 0],\n",
       "       [1, 0, 0, 1, 1],\n",
       "       [1, 0, 1, 1, 1],\n",
       "       [0, 1, 1, 1, 0],\n",
       "       [1, 0, 0, 0, 1],\n",
       "       [1, 1, 0, 0, 1],\n",
       "       [0, 0, 1, 1, 1],\n",
       "       [0, 1, 0, 1, 1],\n",
       "       [1, 1, 1, 1, 0],\n",
       "       [0, 1, 0, 1, 1],\n",
       "       [1, 1, 1, 1, 1],\n",
       "       [1, 1, 0, 1, 0],\n",
       "       [0, 1, 1, 0, 1],\n",
       "       [0, 0, 1, 0, 0],\n",
       "       [0, 1, 1, 0, 0],\n",
       "       [1, 1, 0, 1, 0],\n",
       "       [1, 0, 1, 1, 0],\n",
       "       [0, 1, 1, 1, 0],\n",
       "       [0, 0, 1, 1, 1],\n",
       "       [0, 0, 1, 0, 1],\n",
       "       [1, 0, 1, 1, 1],\n",
       "       [0, 0, 0, 1, 0],\n",
       "       [0, 1, 1, 0, 1],\n",
       "       [1, 0, 1, 0, 1],\n",
       "       [1, 0, 0, 0, 1],\n",
       "       [0, 1, 1, 1, 0],\n",
       "       [1, 0, 0, 1, 0],\n",
       "       [0, 1, 1, 0, 1],\n",
       "       [0, 0, 1, 1, 1],\n",
       "       [1, 1, 1, 1, 0],\n",
       "       [1, 0, 1, 0, 0],\n",
       "       [0, 1, 0, 1, 0],\n",
       "       [0, 1, 1, 1, 0],\n",
       "       [0, 0, 1, 0, 1],\n",
       "       [0, 1, 1, 0, 1],\n",
       "       [0, 0, 0, 0, 1],\n",
       "       [1, 0, 1, 1, 1],\n",
       "       [1, 0, 1, 0, 1],\n",
       "       [1, 1, 1, 1, 1],\n",
       "       [1, 0, 1, 0, 1],\n",
       "       [0, 0, 1, 1, 1],\n",
       "       [0, 0, 0, 0, 0],\n",
       "       [1, 0, 0, 1, 1],\n",
       "       [0, 0, 1, 1, 1],\n",
       "       [0, 1, 0, 1, 0],\n",
       "       [1, 0, 1, 0, 1],\n",
       "       [0, 1, 0, 0, 1],\n",
       "       [1, 0, 1, 1, 0],\n",
       "       [1, 1, 1, 1, 0],\n",
       "       [1, 0, 1, 1, 0],\n",
       "       [1, 1, 1, 1, 0],\n",
       "       [1, 0, 0, 1, 0],\n",
       "       [0, 0, 1, 0, 1],\n",
       "       [1, 1, 0, 0, 1],\n",
       "       [1, 1, 0, 0, 0],\n",
       "       [1, 1, 1, 0, 1],\n",
       "       [0, 0, 1, 0, 1],\n",
       "       [1, 1, 0, 1, 1],\n",
       "       [1, 0, 0, 1, 0],\n",
       "       [0, 1, 0, 1, 1],\n",
       "       [1, 1, 0, 1, 0],\n",
       "       [1, 1, 1, 1, 1],\n",
       "       [0, 1, 0, 1, 0],\n",
       "       [0, 1, 0, 1, 1],\n",
       "       [0, 1, 0, 1, 1],\n",
       "       [1, 0, 1, 1, 1],\n",
       "       [1, 0, 0, 1, 1],\n",
       "       [1, 0, 0, 1, 0],\n",
       "       [0, 1, 1, 0, 1],\n",
       "       [0, 1, 1, 0, 1],\n",
       "       [0, 1, 1, 0, 1],\n",
       "       [1, 1, 0, 0, 1],\n",
       "       [1, 1, 1, 1, 0],\n",
       "       [0, 1, 1, 0, 1],\n",
       "       [0, 0, 1, 0, 0],\n",
       "       [0, 0, 1, 0, 0],\n",
       "       [0, 1, 0, 1, 0],\n",
       "       [0, 1, 0, 0, 0],\n",
       "       [1, 1, 0, 0, 0],\n",
       "       [0, 1, 1, 0, 0],\n",
       "       [1, 0, 1, 1, 0],\n",
       "       [1, 0, 1, 0, 0],\n",
       "       [1, 1, 0, 1, 1],\n",
       "       [1, 1, 0, 1, 1],\n",
       "       [1, 0, 0, 0, 1],\n",
       "       [0, 0, 0, 0, 0],\n",
       "       [1, 0, 0, 0, 0],\n",
       "       [1, 1, 0, 1, 1],\n",
       "       [1, 0, 1, 1, 0],\n",
       "       [1, 1, 0, 1, 0],\n",
       "       [0, 1, 1, 0, 1],\n",
       "       [0, 0, 1, 0, 0],\n",
       "       [1, 1, 1, 0, 1]], dtype=int32)"
      ]
     },
     "execution_count": 51,
     "metadata": {},
     "output_type": "execute_result"
    }
   ],
   "source": [
    "\n",
    "\n",
    "actividad = np.random.randint(0, 2, (100, 5))\n",
    "actividad"
   ]
  },
  {
   "cell_type": "code",
   "execution_count": 54,
   "id": "b47c3ba6-7f50-45ad-a375-d6c2bb3c5983",
   "metadata": {},
   "outputs": [
    {
     "name": "stdout",
     "output_type": "stream",
     "text": [
      "Mes 2       27.000000\n",
      "Mes 3       26.866667\n",
      "Mes 4       25.966667\n",
      "Mes 5       25.900000\n",
      "Mes 1       25.100000\n",
      "Mes 9       24.866667\n",
      "Mes 6       24.466667\n",
      "Mes 7       23.900000\n",
      "Mes 8       23.533333\n",
      "Mes 12      23.433333\n",
      "Mes 10      23.100000\n",
      "Mes 11      22.966667\n",
      "Región_3     0.580000\n",
      "Región_4     0.570000\n",
      "Región_1     0.540000\n",
      "Región_2     0.540000\n",
      "Región_5     0.530000\n",
      "dtype: float64\n"
     ]
    }
   ],
   "source": [
    "df = pd.DataFrame(actividad, columns=[f\"Región_{i+1}\" for i in range(5)])\n",
    "\n",
    "for col in df.columns:\n",
    "    medias[col] = df[col].mean()\n",
    "\n",
    "serie_med = pd.Series(medias).sort_values(ascending=False)\n",
    "\n",
    "print(serie_med)\n",
    "\n",
    "%% aqui nose como quitar el mes no entiendo  "
   ]
  },
  {
   "cell_type": "markdown",
   "id": "07f21b80-6ed2-4251-979f-e8c200c8b43d",
   "metadata": {},
   "source": [
    "🔹 Ejercicio Conectividad funcional (correlaciones)\n",
    "\n",
    "Simula con NumPy una matriz 200x4 con series de tiempo de actividad fMRI en 4 áreas cerebrales.\n",
    "\n",
    "Convierte en un DataFrame con columnas \"Área_1\"... \"Área_4\".\n",
    "\n",
    "Con un bucle, calcula la correlación de Pearson entre todas las parejas de áreas y guárdala en un diccionario con claves (Área_i, Área_j).\n",
    "\n",
    "Convierte el diccionario en un DataFrame cuadrado (matriz de conectividad)."
   ]
  },
  {
   "cell_type": "code",
   "execution_count": 12,
   "id": "e2c1d317-ec7e-44a2-b8a3-37c0a2a513ea",
   "metadata": {},
   "outputs": [
    {
     "name": "stdout",
     "output_type": "stream",
     "text": [
      "[[2.93938336e-01 3.25667944e-02 8.98658939e-02 6.23242457e-01]\n",
      " [9.01572741e-01 8.00455802e-01 7.55616115e-02 8.04364741e-01]\n",
      " [6.20712521e-01 4.54178570e-01 3.66448389e-01 4.15678975e-01]\n",
      " [4.65329184e-01 9.19265330e-01 7.09049408e-01 4.05201616e-01]\n",
      " [1.19304016e-01 1.83069735e-01 6.41279289e-01 9.93331635e-01]\n",
      " [4.65415686e-01 7.14119876e-01 3.56124091e-01 2.50322737e-01]\n",
      " [7.65881174e-01 7.73165531e-01 7.45034367e-03 8.52199866e-01]\n",
      " [2.31548842e-03 1.72786663e-01 7.03886784e-01 5.42007339e-01]\n",
      " [6.35979241e-01 2.37563897e-02 6.53833516e-02 3.40086332e-01]\n",
      " [7.37212844e-01 2.63266106e-01 4.50410614e-01 7.73268230e-01]\n",
      " [1.94897019e-01 7.08530515e-01 2.97094212e-01 2.04151084e-01]\n",
      " [4.01745768e-01 8.52957019e-01 9.89522834e-01 7.43589244e-01]\n",
      " [7.48352830e-02 2.86679425e-01 7.95716825e-02 3.50908932e-01]\n",
      " [4.54704498e-01 5.92058122e-01 9.83268743e-01 3.10809205e-02]\n",
      " [3.47345129e-01 5.92725016e-01 7.57253602e-01 5.36255440e-01]\n",
      " [8.17551792e-01 5.40555288e-01 4.27699367e-01 1.60375970e-01]\n",
      " [1.29552568e-01 4.63363906e-01 3.52398011e-01 1.72666283e-01]\n",
      " [8.06205225e-01 9.20388088e-01 1.83867623e-01 1.81022722e-01]\n",
      " [3.33150263e-01 1.02223913e-01 5.11454332e-01 7.83991486e-01]\n",
      " [9.41871135e-01 8.80332639e-02 5.59805700e-01 1.19567279e-01]\n",
      " [3.23966967e-01 2.41716463e-01 8.95315042e-02 7.58667436e-02]\n",
      " [7.40459696e-01 3.96707055e-01 9.83742508e-01 2.79416157e-01]\n",
      " [7.09496843e-01 5.19751958e-01 6.42982865e-01 5.35341080e-01]\n",
      " [7.20836167e-01 2.62184088e-02 3.33286806e-02 9.15902513e-01]\n",
      " [7.87379717e-01 5.03112201e-01 3.50725899e-02 3.24409065e-01]\n",
      " [5.73639157e-01 6.04968232e-01 3.44358487e-01 7.60497839e-01]\n",
      " [5.42610216e-02 4.73992464e-01 7.71969024e-01 9.54509280e-01]\n",
      " [5.40377679e-01 3.43164137e-02 1.51710537e-01 1.22332913e-01]\n",
      " [2.30502685e-01 3.64047448e-01 6.75801412e-02 9.52595823e-01]\n",
      " [3.94934258e-01 2.23813135e-01 6.20681652e-01 5.56196132e-01]\n",
      " [8.72482981e-01 9.20232892e-02 8.21358380e-01 7.94893056e-01]\n",
      " [2.83568790e-01 6.80301221e-01 4.94947291e-01 9.32862773e-01]\n",
      " [4.64888426e-01 5.25414982e-01 2.14413440e-01 4.28816927e-01]\n",
      " [8.33515103e-01 1.72531162e-01 4.76569166e-04 3.57045077e-01]\n",
      " [2.26999516e-01 3.31524983e-01 1.10360674e-01 5.78632216e-01]\n",
      " [2.23665068e-01 9.33896659e-01 4.04610899e-01 6.93913481e-01]\n",
      " [5.67312536e-01 1.63111509e-01 9.68723940e-01 4.09600579e-01]\n",
      " [2.32229718e-01 9.67233100e-01 2.95100659e-01 3.47617925e-01]\n",
      " [3.60682471e-01 2.77632173e-01 4.85345098e-01 5.43020855e-01]\n",
      " [3.99189998e-01 7.01307187e-01 5.51592552e-01 5.68354134e-01]\n",
      " [4.60503864e-02 6.33108029e-02 5.09533105e-01 2.95780433e-01]\n",
      " [1.14819618e-01 5.90560261e-01 7.37197057e-01 1.91234632e-01]\n",
      " [4.30014087e-01 4.43035204e-01 9.13472561e-01 3.08860870e-01]\n",
      " [9.57094887e-01 2.19571267e-03 8.99701697e-01 9.67088719e-01]\n",
      " [4.04176400e-01 9.36189293e-01 7.16968064e-01 8.31911318e-01]\n",
      " [9.50203713e-01 7.75971354e-01 7.29051084e-01 5.92922635e-01]\n",
      " [9.96504842e-01 1.53792841e-01 7.28842368e-01 4.79836066e-03]\n",
      " [5.23288446e-01 7.83001406e-01 2.36173012e-02 6.67187805e-01]\n",
      " [3.47829813e-02 9.66722317e-01 8.30677262e-02 2.72705947e-01]\n",
      " [9.30791086e-01 2.67704145e-01 9.27794856e-01 7.18815619e-01]\n",
      " [8.38584600e-01 1.72529134e-01 5.75889836e-01 4.63749070e-01]\n",
      " [5.79144840e-01 6.09769896e-01 4.67813682e-02 3.80530940e-01]\n",
      " [6.10517627e-01 6.91465821e-01 4.26916596e-01 2.75057347e-01]\n",
      " [5.03365458e-01 1.81301888e-01 7.46746888e-02 8.85427728e-01]\n",
      " [9.83314476e-01 4.90200436e-01 3.29330802e-01 5.10069361e-02]\n",
      " [3.13650939e-01 6.19678922e-01 6.27716925e-01 3.78604836e-01]\n",
      " [4.67536019e-01 5.76786479e-01 6.93588054e-01 9.75033511e-01]\n",
      " [2.11973651e-01 8.03764005e-02 7.38022278e-01 7.44014638e-01]\n",
      " [3.92144563e-01 7.50669613e-01 8.98898584e-01 1.02345238e-01]\n",
      " [5.10231946e-01 1.34129066e-01 6.33532521e-01 2.15043466e-01]\n",
      " [6.53215774e-03 5.08142589e-01 6.75188721e-01 8.60212263e-01]\n",
      " [3.16083028e-01 9.94132861e-01 4.98254223e-01 9.86453800e-01]\n",
      " [5.97703737e-01 3.59208288e-01 5.34577986e-01 2.68059115e-01]\n",
      " [3.26102440e-01 6.70029558e-01 3.89003414e-02 8.76262736e-01]\n",
      " [7.87478102e-01 9.48906437e-01 9.87012988e-01 6.64199951e-01]\n",
      " [1.52606011e-01 5.69695143e-01 7.60685010e-01 4.15864821e-01]\n",
      " [8.98712047e-01 9.55494365e-01 3.84518893e-01 3.90849526e-01]\n",
      " [8.59859261e-01 3.55586766e-02 2.23777724e-02 8.55876399e-03]\n",
      " [3.75029599e-01 6.35731952e-01 3.61481627e-01 3.30952461e-01]\n",
      " [7.42589400e-01 8.39978947e-01 3.14804539e-01 6.64027424e-02]\n",
      " [4.91784009e-02 2.30328998e-01 4.39445343e-01 5.68168719e-01]\n",
      " [3.70838594e-01 4.89976906e-01 5.20247159e-01 4.09826341e-01]\n",
      " [9.28645239e-01 6.80876658e-01 3.22765250e-01 3.83120897e-01]\n",
      " [6.03975629e-01 9.26112403e-01 3.67551272e-01 6.67173522e-01]\n",
      " [7.17233974e-01 2.57643886e-02 6.81127154e-01 1.73507065e-01]\n",
      " [9.18222951e-01 7.25364430e-01 4.71718452e-01 9.68207528e-01]\n",
      " [2.06851042e-02 9.08365835e-01 5.30075588e-01 6.43128171e-01]\n",
      " [6.44008021e-01 4.80415167e-01 2.95246403e-02 7.66972918e-01]\n",
      " [4.48350128e-01 9.16303044e-01 4.48789646e-01 5.97757764e-01]\n",
      " [5.30678644e-01 9.95800456e-01 8.09030637e-01 2.44283046e-01]\n",
      " [1.07291448e-01 4.18262208e-01 7.67359601e-01 5.99969361e-01]\n",
      " [6.62568980e-01 5.47635475e-01 2.22023980e-01 3.93432193e-02]\n",
      " [7.94016123e-01 5.93263836e-01 1.40638762e-01 3.64665997e-02]\n",
      " [5.23890522e-01 2.79079703e-01 6.14714765e-01 6.27692357e-01]\n",
      " [2.32319294e-01 2.33808217e-01 2.87991189e-01 4.78093222e-01]\n",
      " [2.59632072e-01 3.15705717e-03 4.87781076e-01 1.11509528e-01]\n",
      " [4.53195875e-01 3.23774654e-01 3.45136199e-01 3.93391169e-01]\n",
      " [7.60622484e-01 2.55912121e-04 9.03514676e-01 5.51303721e-01]\n",
      " [2.20834448e-01 5.68917914e-01 1.04740705e-01 4.49145167e-01]\n",
      " [2.29093577e-01 4.49426971e-01 9.79579040e-01 5.61997151e-01]\n",
      " [5.58230026e-01 1.25128045e-01 8.60492742e-01 9.11404875e-01]\n",
      " [4.36051383e-01 9.12561463e-01 7.41145116e-01 6.23314580e-01]\n",
      " [4.69718965e-01 7.95600960e-01 3.79917488e-02 7.83031599e-01]\n",
      " [6.57631746e-01 8.69302716e-01 3.87646653e-01 9.82749657e-01]\n",
      " [1.65310414e-02 2.34112628e-01 9.12947058e-01 8.65160525e-01]\n",
      " [5.24836762e-01 4.22654703e-01 1.70056598e-01 5.12851901e-01]\n",
      " [9.06434645e-02 6.82821407e-01 7.60434550e-01 5.87706462e-01]\n",
      " [8.43277718e-01 6.81027346e-01 6.94082041e-01 5.42717717e-01]\n",
      " [8.47066828e-01 9.13691740e-03 4.32401245e-01 1.84025480e-01]\n",
      " [4.31825293e-01 7.86139203e-01 3.62798588e-01 2.90183555e-01]\n",
      " [8.71228941e-01 8.39124144e-02 5.37120074e-01 5.07596913e-02]\n",
      " [3.68094255e-01 8.27451528e-01 7.53290155e-01 9.16333428e-01]\n",
      " [2.29735923e-01 6.52964747e-01 1.62814209e-01 5.76769666e-01]\n",
      " [9.75530394e-01 5.11693085e-01 4.70166874e-01 2.04945113e-01]\n",
      " [4.35756028e-01 4.19815071e-01 1.33926592e-01 1.46089048e-01]\n",
      " [9.38174958e-01 7.43494852e-01 2.47435360e-01 9.44321721e-01]\n",
      " [2.24277684e-01 1.61280733e-01 2.04613760e-01 2.55893818e-01]\n",
      " [5.19004096e-01 2.58965977e-01 2.53868009e-01 1.17995634e-01]\n",
      " [5.86696070e-01 3.61100382e-01 8.21599780e-01 7.68307843e-01]\n",
      " [2.50250319e-01 7.71631261e-01 9.93687041e-01 3.95324240e-01]\n",
      " [4.20321535e-01 7.87576648e-01 8.61362864e-01 3.22271485e-01]\n",
      " [5.56249910e-01 6.95931902e-01 2.01733196e-01 2.70235350e-01]\n",
      " [2.19951735e-01 2.33737229e-01 3.33883791e-01 4.18132655e-01]\n",
      " [9.51305348e-01 7.15338422e-01 6.94459138e-02 9.00003570e-02]\n",
      " [4.38310981e-01 9.85988806e-01 7.67561401e-01 7.07186567e-02]\n",
      " [5.63365305e-01 3.61937382e-01 8.09734432e-01 7.26673733e-02]\n",
      " [6.26672033e-01 3.45425689e-01 9.09361631e-01 3.53059453e-01]\n",
      " [8.63321875e-01 1.04168292e-01 2.32506209e-01 2.95541573e-01]\n",
      " [4.69390420e-01 9.77790299e-01 8.29475392e-01 6.49163920e-01]\n",
      " [4.79167219e-01 8.87214583e-02 2.73731488e-01 8.66242197e-01]\n",
      " [4.06059615e-01 4.04353237e-01 9.43192925e-01 1.32872437e-01]\n",
      " [2.43315852e-01 5.21313484e-01 6.30996204e-01 2.23023805e-01]\n",
      " [1.18948165e-02 3.64253766e-01 8.95214061e-01 6.79751726e-01]\n",
      " [5.10687084e-03 8.87955705e-01 5.11521340e-02 9.65677042e-01]\n",
      " [1.92500475e-01 5.79855735e-01 4.62591338e-01 1.28810090e-01]\n",
      " [3.53060067e-01 9.80500898e-01 9.13818900e-01 2.65176754e-01]\n",
      " [4.68557156e-01 2.27354971e-01 2.83098882e-01 4.95562587e-01]\n",
      " [9.16435286e-01 7.81954208e-01 9.69306044e-01 7.61766054e-01]\n",
      " [3.43863770e-01 2.91486065e-01 1.95084807e-01 3.90064600e-01]\n",
      " [7.62353731e-01 5.13530306e-01 1.92348420e-01 3.80612138e-01]\n",
      " [4.14198564e-01 1.26232848e-01 1.24259945e-01 2.81956306e-01]\n",
      " [2.65562474e-01 3.64791834e-01 1.91401199e-01 5.81295992e-01]\n",
      " [2.60967408e-01 2.40004160e-01 4.59385292e-01 6.45183960e-01]\n",
      " [8.77726442e-01 6.52172648e-01 2.99356551e-03 4.92250545e-01]\n",
      " [5.82930278e-01 2.10536735e-01 9.75543466e-01 9.74829812e-01]\n",
      " [4.12672272e-01 8.30229901e-01 6.18832480e-02 2.30118606e-01]\n",
      " [6.62221335e-01 8.19278394e-01 5.28738469e-01 9.93055373e-01]\n",
      " [7.17420268e-01 5.25799865e-01 7.98544814e-01 4.46491591e-01]\n",
      " [8.19208705e-01 6.47311925e-01 6.10211156e-02 9.74136402e-01]\n",
      " [1.71143908e-01 7.34981696e-01 6.69254054e-01 4.56553137e-01]\n",
      " [1.57426115e-01 4.09969121e-01 5.58775404e-01 4.79239427e-01]\n",
      " [2.01687729e-01 8.40945273e-01 7.90973854e-01 1.65082266e-01]\n",
      " [3.15403032e-01 1.93380004e-01 1.15935294e-01 3.88138471e-02]\n",
      " [6.72458230e-01 7.03218333e-01 2.19849739e-03 1.27536495e-01]\n",
      " [2.70909095e-01 9.78957637e-01 2.27943522e-01 4.21449490e-01]\n",
      " [4.98098988e-01 3.24373926e-01 9.67782195e-01 6.14576269e-01]\n",
      " [5.68607497e-02 3.32380242e-01 3.31986185e-01 4.92872432e-01]\n",
      " [7.88067182e-01 4.57846793e-01 4.54239536e-01 3.22190131e-01]\n",
      " [9.62558270e-01 8.05774653e-01 8.80160189e-01 8.75579208e-01]\n",
      " [9.06247960e-01 5.22229905e-01 2.10770060e-01 6.94046162e-01]\n",
      " [1.98970124e-01 5.64370114e-01 9.77405881e-01 4.15256627e-01]\n",
      " [8.26223770e-01 7.22410801e-01 2.46988961e-01 3.88179481e-01]\n",
      " [6.77475432e-01 6.09425934e-01 1.08872730e-01 5.26239427e-01]\n",
      " [6.87306381e-01 8.00060643e-01 7.99459732e-02 2.08213039e-02]\n",
      " [8.52753107e-01 6.99464406e-01 1.19453229e-01 5.88480412e-01]\n",
      " [9.04778837e-02 1.03351529e-01 7.35962468e-01 5.57186426e-01]\n",
      " [1.27713680e-01 9.01365505e-01 7.30074871e-01 8.11455396e-01]\n",
      " [7.18812087e-01 2.29357171e-02 4.65068055e-01 1.53552006e-01]\n",
      " [5.94051226e-02 8.21693307e-01 1.14384727e-01 7.02829635e-01]\n",
      " [4.84907367e-01 6.41057603e-02 7.93046978e-01 7.12972787e-01]\n",
      " [1.22518480e-01 5.00356024e-01 5.07043464e-01 2.34279307e-01]\n",
      " [4.77641679e-01 4.82393415e-01 1.08735365e-01 8.78602429e-01]\n",
      " [5.88514539e-01 9.75526436e-01 5.92814743e-02 5.81326539e-01]\n",
      " [5.41335630e-01 3.00478459e-01 6.33847594e-01 1.52960125e-01]\n",
      " [3.42779697e-01 4.20960080e-01 7.43513178e-01 7.43912440e-01]\n",
      " [7.11130310e-01 8.51018072e-02 8.07948931e-01 8.06503055e-01]\n",
      " [9.99178144e-01 2.31550776e-01 2.59394247e-01 7.64491667e-01]\n",
      " [9.04347191e-01 2.99133040e-02 1.86233561e-01 9.82485013e-01]\n",
      " [6.91040015e-01 5.52987082e-01 2.70632867e-01 5.62715028e-01]\n",
      " [4.02429917e-01 2.69536677e-01 4.06393010e-01 2.15987782e-01]\n",
      " [3.34135776e-01 6.85853517e-01 8.80779798e-02 3.47204634e-01]\n",
      " [1.56151988e-01 9.90142998e-01 9.75890931e-01 4.45935526e-01]\n",
      " [1.82597012e-01 6.27405218e-01 4.00606569e-01 3.26915062e-02]\n",
      " [5.59929365e-01 5.20634270e-01 6.37327119e-01 4.61742830e-01]\n",
      " [5.94870746e-01 1.35665456e-01 9.50021138e-01 3.42939525e-01]\n",
      " [1.38401905e-01 4.78718788e-02 1.07178724e-01 1.51361881e-01]\n",
      " [2.28961708e-01 2.36460665e-01 9.56371553e-01 8.45616446e-01]\n",
      " [5.88705925e-01 7.50048910e-01 8.79541503e-01 9.76969702e-01]\n",
      " [5.98802339e-01 5.35410799e-03 8.75859999e-02 2.02616505e-01]\n",
      " [4.54696026e-01 1.59924292e-01 3.85924205e-01 9.65486978e-01]\n",
      " [9.55420955e-01 4.95593884e-01 6.34667467e-01 7.75096949e-01]\n",
      " [7.37117459e-02 9.85614646e-01 3.35855471e-01 1.37942616e-01]\n",
      " [1.53368937e-02 2.71725719e-01 5.82382708e-01 1.34736466e-01]\n",
      " [6.74662962e-01 3.03396010e-01 8.36109987e-01 2.73863543e-01]\n",
      " [3.73581385e-01 5.37224588e-01 3.18121402e-01 4.71472646e-01]\n",
      " [8.20748335e-01 6.10374651e-01 6.72405879e-01 4.50404951e-01]\n",
      " [8.25113001e-01 6.56187094e-01 8.49550760e-01 5.37326599e-01]\n",
      " [8.98169171e-01 4.71120486e-01 2.08244721e-01 4.35353507e-01]\n",
      " [5.31256036e-01 2.10237219e-02 2.97032079e-01 2.65279404e-01]\n",
      " [1.85267322e-01 9.16201439e-01 5.51537884e-01 5.87910516e-01]\n",
      " [1.61140662e-01 5.24478139e-01 8.01926063e-01 6.48439470e-01]\n",
      " [6.12952609e-01 3.69643972e-01 5.17233910e-01 2.80715484e-01]\n",
      " [2.61718635e-01 3.46279411e-01 6.19484384e-01 6.28087479e-01]\n",
      " [7.29424219e-01 4.13722359e-01 8.47469299e-01 1.76591691e-01]\n",
      " [7.84351449e-02 7.99756474e-01 8.85324925e-01 6.47204479e-01]\n",
      " [8.80524610e-01 9.17868560e-01 3.07443990e-02 2.80418169e-01]\n",
      " [4.35245375e-01 7.90952070e-01 4.69974294e-01 6.17737773e-01]\n",
      " [6.69378085e-02 6.95325824e-01 9.55131525e-01 1.52703679e-01]\n",
      " [5.98802159e-01 6.66066692e-01 5.43546261e-01 3.94241945e-01]\n",
      " [6.61558013e-01 3.71366273e-01 7.47021038e-01 8.30568890e-01]]\n"
     ]
    }
   ],
   "source": [
    "\n",
    "mat = np.random.rand(200, 4)\n",
    "print(mat)\n",
    "\n",
    "df = pd.DataFrame(mat, columns=[\"Área_1\", \"Área_2\", \"Área_3\", \"Área_4\"])\n"
   ]
  },
  {
   "cell_type": "code",
   "execution_count": 13,
   "id": "8d9a66a4-938e-4a89-93c8-f6027161ed40",
   "metadata": {},
   "outputs": [
    {
     "name": "stdout",
     "output_type": "stream",
     "text": [
      "     Área_1    Área_2    Área_3    Área_4\n",
      "0  0.293938  0.032567  0.089866  0.623242\n",
      "1  0.901573  0.800456  0.075562  0.804365\n",
      "2  0.620713  0.454179  0.366448  0.415679\n",
      "3  0.465329  0.919265  0.709049  0.405202\n",
      "4  0.119304  0.183070  0.641279  0.993332\n",
      "          Área_1    Área_2    Área_3    Área_4\n",
      "Área_1  1.000000 -0.066637 -0.117939 -0.027677\n",
      "Área_2 -0.066637  1.000000  0.001799  0.065550\n",
      "Área_3 -0.117939  0.001799  1.000000  0.113405\n",
      "Área_4 -0.027677  0.065550  0.113405  1.000000\n"
     ]
    }
   ],
   "source": [
    "\n",
    "matriz_corr = df.corr()\n",
    "\n",
    "print(df.head())\n",
    "print(matriz_corr)"
   ]
  },
  {
   "cell_type": "markdown",
   "id": "c1444400-53e6-4b0a-8c84-07327492c649",
   "metadata": {},
   "source": [
    "🔹 Ejercicio Potenciales de acción por neurona\n",
    "\n",
    "Genera una lista de 50 neuronas.\n",
    "\n",
    "Para cada neurona, simula con NumPy una Serie de 100 ms de actividad (valores enteros 0 o 1 indicando si disparó o no).\n",
    "\n",
    "Guarda los resultados en un diccionario {Neurona: Serie}.\n",
    "\n",
    "Crea un DataFrame con todas las neuronas (filas) y tiempos (columnas).\n",
    "\n",
    "Usa un bucle para contar cuántos disparos totales tuvo cada neurona y genera una Series con esos valores."
   ]
  },
  {
   "cell_type": "code",
   "execution_count": 15,
   "id": "2723d6d4-4ad8-4d7b-bcbc-09b9aca9cb0d",
   "metadata": {},
   "outputs": [
    {
     "name": "stdout",
     "output_type": "stream",
     "text": [
      "Neurona1     55\n",
      "Neurona2     55\n",
      "Neurona3     51\n",
      "Neurona4     49\n",
      "Neurona5     49\n",
      "Neurona6     50\n",
      "Neurona7     57\n",
      "Neurona8     57\n",
      "Neurona9     53\n",
      "Neurona10    49\n",
      "Neurona11    47\n",
      "Neurona12    51\n",
      "Neurona13    54\n",
      "Neurona14    53\n",
      "Neurona15    53\n",
      "Neurona16    49\n",
      "Neurona17    48\n",
      "Neurona18    42\n",
      "Neurona19    45\n",
      "Neurona20    47\n",
      "Neurona21    49\n",
      "Neurona22    54\n",
      "Neurona23    46\n",
      "Neurona24    50\n",
      "Neurona25    63\n",
      "Neurona26    53\n",
      "Neurona27    41\n",
      "Neurona28    48\n",
      "Neurona29    46\n",
      "Neurona30    57\n",
      "Neurona31    54\n",
      "Neurona32    48\n",
      "Neurona33    51\n",
      "Neurona34    46\n",
      "Neurona35    49\n",
      "Neurona36    51\n",
      "Neurona37    56\n",
      "Neurona38    56\n",
      "Neurona39    54\n",
      "Neurona40    50\n",
      "Neurona41    59\n",
      "Neurona42    46\n",
      "Neurona43    50\n",
      "Neurona44    50\n",
      "Neurona45    47\n",
      "Neurona46    51\n",
      "Neurona47    55\n",
      "Neurona48    54\n",
      "Neurona49    57\n",
      "Neurona50    48\n",
      "dtype: int64\n"
     ]
    }
   ],
   "source": [
    "neuronas = [f\"Neurona{i}\" for i in range(1, 51)]\n",
    "datos = {n: np.random.randint(0, 2, 100) for n in neuronas}\n",
    "\n",
    "df = pd.DataFrame(datos).T\n",
    "\n",
    "contar = df.sum(axis=1)\n",
    "print(contar)"
   ]
  },
  {
   "cell_type": "markdown",
   "id": "b3fa8e28-a6aa-4ea0-a297-8df5b1077855",
   "metadata": {},
   "source": [
    "🔹 Ejercicio EEG por canales\n",
    "\n",
    "Simula una matriz 500x8 con NumPy representando 500 muestras de señal EEG en 8 canales (valores flotantes entre -100 y 100 µV).\n",
    "\n",
    "Convierte la matriz en un DataFrame con columnas \"Canal_1\"... \"Canal_8\".\n",
    "\n",
    "Usa un bucle para calcular la potencia media de cada canal (media del cuadrado de la señal).\n",
    "\n",
    "Guarda los resultados en un diccionario y conviértelo en una Series ordenada.\n",
    "\n",
    "Identifica el canal con mayor potencia."
   ]
  },
  {
   "cell_type": "code",
   "execution_count": 17,
   "id": "d5e75b5e-c1d0-4dc3-bea3-533353654a34",
   "metadata": {},
   "outputs": [],
   "source": [
    "matriz = np.random.uniform(-100, 100, size=(500, 8))\n",
    "\n",
    "columnas = []\n",
    "for i in range(1, 9):\n",
    "    columnas.append(\"Canal_\" + str(i))\n",
    "df = pd.DataFrame(matriz, columns=columnas)"
   ]
  },
  {
   "cell_type": "code",
   "execution_count": 20,
   "id": "54ee33d6-d9c9-42cc-8fe0-73bbc47c09a0",
   "metadata": {},
   "outputs": [
    {
     "name": "stdout",
     "output_type": "stream",
     "text": [
      "Potencias canal\n",
      "Canal_1    3549.622876\n",
      "Canal_2    3549.622876\n",
      "Canal_3    3549.622876\n",
      "Canal_4    3549.622876\n",
      "Canal_5    3549.622876\n",
      "Canal_6    3549.622876\n",
      "Canal_7    3549.622876\n",
      "Canal_8    3549.622876\n",
      "dtype: float64\n",
      "canal max: Canal_1\n"
     ]
    }
   ],
   "source": [
    "potencias = {}\n",
    "for i in df.columns:       \n",
    "    datos = df[c]          \n",
    "    cuadrado = datos ** 2  \n",
    "    media = cuadrado.mean()\n",
    "    potencias[i] = media  \n",
    "\n",
    "serie_potencias = pd.Series(potencias)\n",
    "serie_potencias = serie_potencias.sort_values(ascending=False)\n",
    "\n",
    "canal_max = serie_potencias.index[0]\n",
    "\n",
    "print(\"Potencias canal\")\n",
    "print(serie_potencias)\n",
    "print(\"canal max:\", canal_max)"
   ]
  },
  {
   "cell_type": "markdown",
   "id": "64464de2-850c-4c86-b245-843e183f0a68",
   "metadata": {},
   "source": [
    "🔹 Ejercicio Análisis de respuestas a estímulos\n",
    "\n",
    "Genera un DataFrame con 30 sujetos (filas) y 3 condiciones experimentales (\"Cond_A\", \"Cond_B\", \"Cond_C\") con valores de tiempo de reacción simulados (valores entre 200–800 ms).\n",
    "\n",
    "Usa un bucle para calcular el promedio por condición en toda la muestra.\n",
    "\n",
    "Convierte los resultados en un diccionario y luego en una Series.\n",
    "\n",
    "Agrega una columna \"Mejor_condición\" al DataFrame indicando la condición más rápida por sujeto.\n",
    "\n",
    "Cuenta cuántos sujetos respondieron mejor en cada condición."
   ]
  },
  {
   "cell_type": "code",
   "execution_count": 21,
   "id": "400b85da-314f-476b-850c-107f3f3a3890",
   "metadata": {},
   "outputs": [],
   "source": [
    "matriz = np.random.randint(200, 801, size=(30, 3))\n",
    "df = pd.DataFrame(matriz, columns=[\"Cond_A\", \"Cond_B\", \"Cond_C\"])"
   ]
  },
  {
   "cell_type": "code",
   "execution_count": 22,
   "id": "974849a4-c9bc-4c12-b3d4-ffbce7622549",
   "metadata": {},
   "outputs": [],
   "source": [
    "promedios = {}\n",
    "for i in df.columns:\n",
    "    media = df[i].mean()    \n",
    "    promedios[i] = media\n",
    "\n",
    "serie_promedios = pd.Series(promedios)"
   ]
  },
  {
   "cell_type": "code",
   "execution_count": 30,
   "id": "ebd7c105-85eb-4762-9a63-1515dd3313a4",
   "metadata": {},
   "outputs": [
    {
     "name": "stdout",
     "output_type": "stream",
     "text": [
      "Promedios por condi:\n",
      " Cond_A    533.366667\n",
      "Cond_B    492.700000\n",
      "Cond_C    483.300000\n",
      "dtype: float64\n",
      "\n",
      "Data condición:\n",
      "    Cond_A  Cond_B  Cond_C Mejor_condición Mejor_condi\n",
      "0     661     505     384          Cond_C      Cond_C\n",
      "1     466     629     241          Cond_C      Cond_C\n",
      "2     603     572     461          Cond_C      Cond_C\n",
      "3     423     659     398          Cond_C      Cond_C\n",
      "4     774     617     697          Cond_B      Cond_B\n",
      "\n",
      "Conteo de sujetos por más rápido:\n",
      " Mejor_condi\n",
      "Cond_C    14\n",
      "Cond_B     9\n",
      "Cond_A     7\n",
      "Name: count, dtype: int64\n"
     ]
    }
   ],
   "source": [
    "df[\"Mejor_condi\"] = df[[\"Cond_A\", \"Cond_B\", \"Cond_C\"]].idxmin(axis=1)\n",
    "\n",
    "# 4) Contar sujetos por condición más rápida\n",
    "conteo = df[\"Mejor_condi\"].value_counts()\n",
    "\n",
    "print(\"Promedios por condi:\\n\", serie_promedios)\n",
    "print(\"\\nData condición:\\n\", df.head())\n",
    "print(\"\\nConteo de sujetos por más rápido:\\n\", conteo)"
   ]
  },
  {
   "cell_type": "code",
   "execution_count": null,
   "id": "4b69f514-a96e-4bdf-a487-0a6a23f0f1e6",
   "metadata": {},
   "outputs": [],
   "source": []
  }
 ],
 "metadata": {
  "kernelspec": {
   "display_name": "Python 3 (ipykernel)",
   "language": "python",
   "name": "python3"
  },
  "language_info": {
   "codemirror_mode": {
    "name": "ipython",
    "version": 3
   },
   "file_extension": ".py",
   "mimetype": "text/x-python",
   "name": "python",
   "nbconvert_exporter": "python",
   "pygments_lexer": "ipython3",
   "version": "3.10.7"
  }
 },
 "nbformat": 4,
 "nbformat_minor": 5
}
