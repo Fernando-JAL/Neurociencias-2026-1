{
 "cells": [
  {
   "cell_type": "markdown",
   "id": "55f0a170-80ef-4c93-8ada-a66c9c091e0c",
   "metadata": {},
   "source": [
    "# Ejercicio Frecuencia de números en matriz\n",
    "\n",
    "\n",
    "\n",
    "\n",
    "\n",
    "\n"
   ]
  },
  {
   "cell_type": "code",
   "execution_count": 118,
   "id": "13528df4-0573-4c1d-98a2-bf41a77d8a67",
   "metadata": {},
   "outputs": [],
   "source": [
    "#Genera una matriz 6x6 de enteros aleatorios entre 1 y 10 usando NumPy.\n",
    "\n",
    "import numpy as np"
   ]
  },
  {
   "cell_type": "code",
   "execution_count": 120,
   "id": "d1a2f529-0d64-4874-bb83-82707952447c",
   "metadata": {},
   "outputs": [
    {
     "name": "stdout",
     "output_type": "stream",
     "text": [
      "[[ 8  8  1  3 10  7]\n",
      " [ 3  2 10  4  3  9]\n",
      " [ 4  6 10  5 10  3]\n",
      " [ 5  4  4  7  1  7]\n",
      " [ 1  1  6  7  7  1]\n",
      " [ 7  3  9  8  3  3]]\n"
     ]
    }
   ],
   "source": [
    "matriz = np.random.randint(1, 11, size=(6, 6))\n",
    "print(matriz)\n"
   ]
  },
  {
   "cell_type": "code",
   "execution_count": 4,
   "id": "68a884aa-3fa3-4a80-9976-e1d05dfd1ebf",
   "metadata": {},
   "outputs": [],
   "source": [
    "# Recorre la matriz y guarda en un diccionario la frecuencia de cada número."
   ]
  },
  {
   "cell_type": "code",
   "execution_count": 23,
   "id": "38e295a3-f8a9-4d34-b073-45c2c5d002d2",
   "metadata": {},
   "outputs": [
    {
     "name": "stdout",
     "output_type": "stream",
     "text": [
      "[[ 2  6  5  7  1  7]\n",
      " [ 5  3  2  1  8  9]\n",
      " [10  1  7  5  1  8]\n",
      " [ 8  9  7  9  9  1]\n",
      " [ 2  6 10  4  3  6]\n",
      " [10  7  6  9  6  3]]\n",
      "{np.int64(1): np.int64(5), np.int64(2): np.int64(3), np.int64(3): np.int64(3), np.int64(4): np.int64(1), np.int64(5): np.int64(3), np.int64(6): np.int64(5), np.int64(7): np.int64(5), np.int64(8): np.int64(3), np.int64(9): np.int64(5), np.int64(10): np.int64(3)}\n"
     ]
    }
   ],
   "source": [
    "valores, conteos = np.unique(matriz, return_counts=True)\n",
    "frecuencia = dict(zip(valores, conteos))\n",
    "print (matriz)\n",
    "print (frecuencia)\n"
   ]
  },
  {
   "cell_type": "code",
   "execution_count": 18,
   "id": "77995ac5-0991-4b3a-add9-952c072c2c93",
   "metadata": {},
   "outputs": [],
   "source": [
    "# Convierte el diccionario en una lista de tuplas (número, frecuencia) y ordénala de mayor a menor frecuencia.\n",
    "\n",
    "variables = list(zip(valores, conteos))\n"
   ]
  },
  {
   "cell_type": "code",
   "execution_count": 21,
   "id": "3b1a488f-3302-4207-8511-13f9fa1ed462",
   "metadata": {},
   "outputs": [
    {
     "name": "stdout",
     "output_type": "stream",
     "text": [
      "[(np.int64(1), np.int64(5)), (np.int64(6), np.int64(5)), (np.int64(7), np.int64(5)), (np.int64(9), np.int64(5)), (np.int64(2), np.int64(3)), (np.int64(3), np.int64(3)), (np.int64(5), np.int64(3)), (np.int64(8), np.int64(3)), (np.int64(10), np.int64(3)), (np.int64(4), np.int64(1))]\n"
     ]
    }
   ],
   "source": [
    "lista_ordenada = sorted(variables, key=lambda x: x[1], reverse=True)\n",
    "\n",
    "print(lista_ordenada)"
   ]
  },
  {
   "cell_type": "code",
   "execution_count": 22,
   "id": "ec906267-8702-427a-9621-f0acaa9a2589",
   "metadata": {},
   "outputs": [
    {
     "name": "stdout",
     "output_type": "stream",
     "text": [
      "[[ 2  6  5  7  1  7]\n",
      " [ 5  3  2  1  8  9]\n",
      " [10  1  7  5  1  8]\n",
      " [ 8  9  7  9  9  1]\n",
      " [ 2  6 10  4  3  6]\n",
      " [10  7  6  9  6  3]]\n",
      "[(np.int64(1), np.int64(5)), (np.int64(6), np.int64(5)), (np.int64(7), np.int64(5)), (np.int64(9), np.int64(5)), (np.int64(2), np.int64(3)), (np.int64(3), np.int64(3)), (np.int64(5), np.int64(3)), (np.int64(8), np.int64(3)), (np.int64(10), np.int64(3)), (np.int64(4), np.int64(1))]\n",
      "[(np.int64(1), np.int64(5)), (np.int64(6), np.int64(5)), (np.int64(7), np.int64(5)), (np.int64(9), np.int64(5)), (np.int64(2), np.int64(3)), (np.int64(3), np.int64(3)), (np.int64(5), np.int64(3)), (np.int64(8), np.int64(3)), (np.int64(10), np.int64(3)), (np.int64(4), np.int64(1))]\n"
     ]
    }
   ],
   "source": [
    "# Imprime la matriz, el diccionario y la lista ordenada.\n",
    "print(matriz)\n",
    "print(frecuencia)\n",
    "print(lista_ordenada)"
   ]
  },
  {
   "cell_type": "markdown",
   "id": "3b074c1d-6aee-464f-a2e8-ec3c269e26c0",
   "metadata": {},
   "source": [
    "#  Ejercicio Promedios por columna y gráfico de líneas"
   ]
  },
  {
   "cell_type": "code",
   "execution_count": 35,
   "id": "e840381e-4319-4d1d-8537-fc081d0e6a1a",
   "metadata": {},
   "outputs": [
    {
     "name": "stdout",
     "output_type": "stream",
     "text": [
      "[[ 54  95  56  96  69]\n",
      " [ 28  64  12  99  90]\n",
      " [ 54  25  39  51  78]\n",
      " [ 36  79  69  70  53]\n",
      " [ 58  48  44  62  96]\n",
      " [ 80  96  89  50  54]\n",
      " [ 80  88  12  96  50]\n",
      " [ 10  42  10 100  72]\n",
      " [ 90  59  48  99  80]\n",
      " [ 30  12  74  71  51]]\n"
     ]
    }
   ],
   "source": [
    "# Crea una matriz 10x5 con enteros entre 10 y 100.\n",
    "\n",
    "numeros_enteros = np.random.randint(9, 101, size=(10, 5))\n",
    "print(numeros_enteros)\n",
    "matriz = np.array(numeros_enteros)\n"
   ]
  },
  {
   "cell_type": "code",
   "execution_count": 44,
   "id": "3a96c366-c00b-4775-be05-7f94249d7c49",
   "metadata": {},
   "outputs": [],
   "source": [
    "# Calcula el promedio de cada columna usando un bucle.\n",
    "\n",
    "promedios_columnas = []"
   ]
  },
  {
   "cell_type": "code",
   "execution_count": 74,
   "id": "a6815cbf-c84b-47f8-868e-015c8d1601ef",
   "metadata": {},
   "outputs": [
    {
     "name": "stdout",
     "output_type": "stream",
     "text": [
      "Promedio 1: 52.0\n",
      "Promedio 2: 60.8\n",
      "Promedio 3: 45.3\n",
      "Promedio 4: 79.4\n",
      "Promedio 5: 69.3\n"
     ]
    }
   ],
   "source": [
    "for col in range(numeros_enteros.shape[1]): \n",
    "    promedio_columna = np.mean(numeros_enteros[:, col])  \n",
    "    promedios_columnas.append(promedio_columna)\n",
    "    print(f\"Promedio {col+1}: {promedio_columna}\")\n",
    "\n",
    "\n"
   ]
  },
  {
   "cell_type": "code",
   "execution_count": 70,
   "id": "df5c67f2-ea6a-48b6-89bc-a0d60b3dafaa",
   "metadata": {},
   "outputs": [
    {
     "name": "stdout",
     "output_type": "stream",
     "text": [
      "{'col_1': np.float64(52.0), 'col_2': np.float64(60.8), 'col_3': np.float64(45.3), 'col_4': np.float64(79.4), 'col_5': np.float64(69.3)}\n"
     ]
    }
   ],
   "source": [
    "# Guarda los resultados en un diccionario con claves \"col_1\" ... \"col_5\".\n",
    "promedios_columnas = []\n",
    "for col in range(numeros_enteros.shape[1]): \n",
    "    promedio_columna = np.mean(numeros_enteros[:, col])  \n",
    "    promedios_columnas.append(promedio_columna)\n",
    "    \n"
   ]
  },
  {
   "cell_type": "code",
   "execution_count": 78,
   "id": "d495a104-1310-45e7-a5c7-28bc8dd00fda",
   "metadata": {},
   "outputs": [
    {
     "data": {
      "text/plain": [
       "[np.float64(52.0),\n",
       " np.float64(60.8),\n",
       " np.float64(45.3),\n",
       " np.float64(79.4),\n",
       " np.float64(69.3)]"
      ]
     },
     "execution_count": 78,
     "metadata": {},
     "output_type": "execute_result"
    }
   ],
   "source": [
    "# Convierte los valores en una lista y grafícalos en una línea (line plot) mostrando el promedio por columna.\n",
    "\n",
    "list(diccionario.values())\n"
   ]
  },
  {
   "cell_type": "code",
   "execution_count": 1,
   "id": "595679be-f441-4c93-a46c-33060550d75e",
   "metadata": {},
   "outputs": [
    {
     "name": "stderr",
     "output_type": "stream",
     "text": [
      "Matplotlib is building the font cache; this may take a moment.\n"
     ]
    }
   ],
   "source": [
    "import matplotlib.pyplot as plt\n"
   ]
  },
  {
   "cell_type": "code",
   "execution_count": 5,
   "id": "f1ca3288-a4a2-4d03-ad88-d9aed97bf309",
   "metadata": {},
   "outputs": [],
   "source": [
    "promedios_columnas = [52.0, 60.8, 45.3, 79.4, 69.3] "
   ]
  },
  {
   "cell_type": "code",
   "execution_count": 6,
   "id": "ce2e5141-d0d1-47d9-8ce3-dce68b846c57",
   "metadata": {},
   "outputs": [
    {
     "data": {
      "image/png": "[encoded data removed]",
      "text/plain": [
       "<Figure size 640x480 with 1 Axes>"
      ]
     },
     "metadata": {},
     "output_type": "display_data"
    }
   ],
   "source": [
    "plt.plot(promedios_columnas, 'o-')  \n",
    "plt.show()"
   ]
  },
  {
   "cell_type": "markdown",
   "id": "07dd61bd-0611-4ddc-9c60-87b435980ca5",
   "metadata": {},
   "source": [
    "# Ejercicio Evolución temporal simulada"
   ]
  },
  {
   "cell_type": "code",
   "execution_count": 8,
   "id": "bdcd7618-3897-483f-9d10-018067ad81fc",
   "metadata": {},
   "outputs": [],
   "source": [
    "# Simula con NumPy una lista de 30 días con valores aleatorios de temperatura entre 15°C y 35°C.\n",
    "\n",
    "import numpy as np"
   ]
  },
  {
   "cell_type": "code",
   "execution_count": 16,
   "id": "0925d871-91ac-401e-b3e2-22a8e0c7958f",
   "metadata": {},
   "outputs": [
    {
     "name": "stdout",
     "output_type": "stream",
     "text": [
      "[18 28 18 21 30 15 15 33 21 24 16 19 17 22 15 33 16 35 24 35 31 30 33 32\n",
      " 17 30 27 21 20 20]\n"
     ]
    }
   ],
   "source": [
    "temperaturas = np.random.randint(15, 36, size=30) \n",
    "print(temperaturas)"
   ]
  },
  {
   "cell_type": "code",
   "execution_count": 26,
   "id": "684817ed-e2c3-4733-8a09-532ccb7ef8da",
   "metadata": {},
   "outputs": [
    {
     "name": "stdout",
     "output_type": "stream",
     "text": [
      "{'día_1': np.int64(18), 'día_2': np.int64(28), 'día_3': np.int64(18), 'día_4': np.int64(21), 'día_5': np.int64(30), 'día_6': np.int64(15), 'día_7': np.int64(15), 'día_8': np.int64(33), 'día_9': np.int64(21), 'día_10': np.int64(24), 'día_11': np.int64(16), 'día_12': np.int64(19), 'día_13': np.int64(17), 'día_14': np.int64(22), 'día_15': np.int64(15), 'día_16': np.int64(33), 'día_17': np.int64(16), 'día_18': np.int64(35), 'día_19': np.int64(24), 'día_20': np.int64(35), 'día_21': np.int64(31), 'día_22': np.int64(30), 'día_23': np.int64(33), 'día_24': np.int64(32), 'día_25': np.int64(17), 'día_26': np.int64(30), 'día_27': np.int64(27), 'día_28': np.int64(21), 'día_29': np.int64(20), 'día_30': np.int64(20)}\n"
     ]
    }
   ],
   "source": [
    "# Almacena los valores en un diccionario con claves \"día_1\", \"día_2\", ....\n",
    "temperaturas_dict={}\n",
    "\n",
    "for i in range(len(temperaturas)):\n",
    "    temperaturas_dict[f\"día_{i+1}\"] = temperaturas[i]\n",
    "\n",
    "print(temperaturas_dict)\n"
   ]
  },
  {
   "cell_type": "code",
   "execution_count": 32,
   "id": "5db3afa7-ac8b-4f00-8c56-1619193e7f00",
   "metadata": {},
   "outputs": [
    {
     "name": "stdout",
     "output_type": "stream",
     "text": [
      "Días mayores a 30° [8, 16, 18, 20, 21, 23, 24]\n"
     ]
    }
   ],
   "source": [
    "# Usa un bucle para crear una lista con los días donde la temperatura superó 30°C.\n",
    "\n",
    "temperatura_mayor_30 = []\n",
    "\n",
    "for i in range(len(temperaturas)):\n",
    "    if temperaturas[i] > 30:\n",
    "        temperatura_mayor_30.append(i + 1)  \n",
    "        \n",
    "print(\"Días mayores a 30°\", temperatura_mayor_30)"
   ]
  },
  {
   "cell_type": "code",
   "execution_count": 35,
   "id": "f7e2b320-d781-4449-ad68-c67d60313838",
   "metadata": {},
   "outputs": [],
   "source": [
    "# Grafica las temperaturas en un gráfico de línea con puntos marcados (scatter + line plot) y marcar en rojo los días con temperatura > 30°C.\n",
    "\n",
    "import matplotlib.pyplot as plt\n",
    "import numpy as np\n",
    "\n",
    "dias = np.arange(1, len(temperaturas)+1)"
   ]
  },
  {
   "cell_type": "code",
   "execution_count": 39,
   "id": "f7ddd659-62aa-48b9-a76e-ce28d4a44d87",
   "metadata": {},
   "outputs": [
    {
     "data": {
      "text/plain": [
       "<matplotlib.collections.PathCollection at 0x1176e6e90>"
      ]
     },
     "execution_count": 39,
     "metadata": {},
     "output_type": "execute_result"
    },
    {
     "data": {
      "image/png": "[encoded data removed]",
      "text/plain": [
       "<Figure size 640x480 with 1 Axes>"
      ]
     },
     "metadata": {},
     "output_type": "display_data"
    }
   ],
   "source": [
    "plt.plot(dias, temperaturas, marker='o', label='Temperatura')\n",
    "\n",
    "plt.scatter(temperatura_mayor_30, temperaturas[np.array(temperatura_mayor_30)-1],\n",
    "            color='red', label='Temp > 30°C', zorder=5)\n"
   ]
  },
  {
   "cell_type": "markdown",
   "id": "9f465fb4-1a62-4dfc-9165-21ddfdc9a1e3",
   "metadata": {},
   "source": [
    "#  Ejercicio Comparación de distribuciones"
   ]
  },
  {
   "cell_type": "code",
   "execution_count": 52,
   "id": "ebe31f87-ddd8-4e62-bb0e-b4dd821b32d0",
   "metadata": {},
   "outputs": [
    {
     "data": {
      "text/plain": [
       "(np.float64(51.304504929439744), np.float64(10.050827414324091))"
      ]
     },
     "execution_count": 52,
     "metadata": {},
     "output_type": "execute_result"
    }
   ],
   "source": [
    "# Genera dos arreglos de 100 números aleatorios con distribución normal:\n",
    "#grupo_A: media 50, desviación 10\n",
    "#grupo_B: media 60, desviación 15\n",
    "\n",
    "grupo_A = np.random.normal(50, 10, size=100)\n",
    "np.mean(grupo_A), np.std(grupo_A)"
   ]
  },
  {
   "cell_type": "code",
   "execution_count": 53,
   "id": "6aeb6997-4702-4c5d-9b54-ae2fae462c6c",
   "metadata": {},
   "outputs": [
    {
     "data": {
      "text/plain": [
       "(np.float64(60.496611134702455), np.float64(15.373831987452528))"
      ]
     },
     "execution_count": 53,
     "metadata": {},
     "output_type": "execute_result"
    }
   ],
   "source": [
    "grupo_B = np.random.normal(60, 15, size=100)\n",
    "np.mean(grupo_B), np.std(grupo_B)"
   ]
  },
  {
   "cell_type": "code",
   "execution_count": 57,
   "id": "81f6e78f-952d-4d54-b8ed-7f7e42418b0c",
   "metadata": {},
   "outputs": [
    {
     "name": "stdout",
     "output_type": "stream",
     "text": [
      "dict_keys(['A', 'B'])\n",
      "dict_values([array([62.90730903, 52.06616483, 38.92699787, 40.13619774, 39.95211541,\n",
      "       70.47101027, 46.76468702, 67.63058553, 50.24960628, 63.75840174,\n",
      "       57.47263577, 66.7086123 , 52.30878297, 44.88222327, 50.35629581,\n",
      "       51.65198999, 50.91991523, 49.99809278, 41.69756818, 49.40639243,\n",
      "       57.15008021, 56.38742181, 44.71408493, 56.39604767, 36.40498892,\n",
      "       19.16504121, 43.37706114, 56.90888992, 36.93064869, 69.98063097,\n",
      "       55.1880382 , 75.26536673, 48.02032823, 50.28211212, 41.99982724,\n",
      "       48.20020274, 58.52459647, 46.94373708, 51.50084229, 39.79244082,\n",
      "       42.03543305, 55.29499403, 37.82964671, 32.73347722, 60.21428651,\n",
      "       58.65223711, 61.16515223, 44.85131802, 50.91533576, 42.63041835,\n",
      "       39.1592986 , 50.07459853, 50.63199909, 42.50463169, 50.77231447,\n",
      "       62.62557   , 57.04873024, 35.60019727, 41.803627  , 56.96949903,\n",
      "       39.12915351, 67.25058011, 59.86887422, 40.02034294, 31.54162586,\n",
      "       47.07405976, 51.12795635, 59.10256155, 46.28877965, 59.98083478,\n",
      "       78.97575335, 62.71832688, 47.65763884, 63.9448627 , 45.36947374,\n",
      "       48.30962107, 46.81430817, 58.09777437, 56.2188794 , 55.78495248,\n",
      "       58.26175046, 37.5660313 , 65.21831454, 50.80487966, 64.922672  ,\n",
      "       56.96132312, 56.70324282, 43.99995117, 57.28039826, 50.78864566,\n",
      "       51.72324076, 51.36120593, 51.76285775, 36.40292596, 56.59898709,\n",
      "       45.53256122, 43.48089186, 62.43028264, 56.97493109, 51.4883032 ]), array([ 53.6756298 ,  42.64351231,  44.37235845,  58.28804928,\n",
      "        41.04114486,  62.09297686,  64.34813794,  62.36998399,\n",
      "        62.62573826,  91.31347221,  71.66538981,  61.03213871,\n",
      "        36.57954712,  62.02559592,  56.85694159,  87.13196012,\n",
      "        47.12156638,  50.66758907,  55.16253801,  41.16851733,\n",
      "        72.10630613,  43.48345397,  83.12174095,  49.43995328,\n",
      "        72.79567685,  58.35494912,  47.30811441,  49.7712155 ,\n",
      "        69.34293186,  77.71974223,  64.26643892,  43.87000239,\n",
      "        43.75761401,  47.59507578,  67.7291176 ,  64.98139609,\n",
      "        72.91764221,  46.17249791, 104.42120386,  58.56723042,\n",
      "        67.29700153,  77.67915364,  36.17473681,  83.10242764,\n",
      "        67.92520953,  67.82865709,  54.82036162,  81.32901892,\n",
      "        62.71498727,  57.57387597,  67.64395385,  55.59241588,\n",
      "        43.47445355,  47.46939076,  40.72742987,  50.28801715,\n",
      "        51.20943739,  51.36027545,  58.36694957,  60.2514479 ,\n",
      "        69.06795719,  67.43317709,  47.62783679,  53.63220172,\n",
      "        58.17951082,  64.97205602,  87.45895974,  73.87945854,\n",
      "        39.85335622,  74.67663138,  45.46953593,  64.24266593,\n",
      "        71.89877468,  32.12301823,  85.4763172 ,  69.84606766,\n",
      "        32.85744242,  41.14974097,  47.15101656,  63.64604213,\n",
      "        46.81378499,  89.55105387,  56.86700286,  89.31038966,\n",
      "        49.80418391,  51.37770223,  65.19694162,  84.25752229,\n",
      "        36.04033345,  65.03481379,  51.74921783,  58.49988426,\n",
      "        69.15487594,  74.69646737,  51.29483844, 100.33922464,\n",
      "        42.25082081,  74.83315488,  51.36888081,  77.84395969])])\n"
     ]
    }
   ],
   "source": [
    "# Guarda en un diccionario con claves \"A\" y \"B\".\n",
    "\n",
    "diccionario = {\"A\": grupo_A, \"B\": grupo_B}\n",
    "print(diccionario.keys())\n",
    "print(diccionario.values())"
   ]
  },
  {
   "cell_type": "code",
   "execution_count": 60,
   "id": "ac995af9-f471-48e7-997e-98c17c2f1832",
   "metadata": {},
   "outputs": [
    {
     "name": "stdout",
     "output_type": "stream",
     "text": [
      "Medias: [np.float64(51.304504929439744), np.float64(60.496611134702455)]\n",
      "Desviaciones estándar: [np.float64(10.050827414324091), np.float64(15.373831987452528)]\n"
     ]
    }
   ],
   "source": [
    "# Calcula media y desviación estándar de cada grupo y guárdalas en listas.\n",
    "\n",
    "medias = [np.mean(grupo_A), np.mean(grupo_B)]\n",
    "desviaciones_estandar = [np.std(grupo_A), np.std(grupo_B)]\n",
    "\n",
    "print(\"Medias:\", medias)\n",
    "print(\"Desviaciones estándar:\", desviaciones_estandar)\n"
   ]
  },
  {
   "cell_type": "code",
   "execution_count": 69,
   "id": "fc0cdd83-292d-4810-828a-557f12183d46",
   "metadata": {},
   "outputs": [
    {
     "data": {
      "text/plain": [
       "Text(0, 0.5, 'Frecuencia')"
      ]
     },
     "execution_count": 69,
     "metadata": {},
     "output_type": "execute_result"
    },
    {
     "data": {
      "image/png": "[encoded data removed]",
      "text/plain": [
       "<Figure size 640x480 with 1 Axes>"
      ]
     },
     "metadata": {},
     "output_type": "display_data"
    }
   ],
   "source": [
    "# Grafica ambos grupos en un histograma comparativo (superposición con colores diferentes y transparencia).\n",
    "\n",
    "plt.hist(grupo_A, bins=30, alpha=0.2, color='green', label='Grupo A')\n",
    "plt.hist(grupo_B, bins=30, alpha=0.2, color='blue', label='Grupo B')\n",
    "plt.xlabel(\"Valor\")\n",
    "plt.ylabel(\"Frecuencia\")\n"
   ]
  },
  {
   "cell_type": "markdown",
   "id": "15369d42-857d-4ea2-a023-e83a7fd09b97",
   "metadata": {},
   "source": [
    "# Ejercicio Matriz de distancias"
   ]
  },
  {
   "cell_type": "code",
   "execution_count": 2,
   "id": "d02d45c9-d67d-4421-a86b-4c139b0b29f1",
   "metadata": {},
   "outputs": [],
   "source": [
    "# Genera una matriz 10x2 con coordenadas aleatorias (x, y) entre 0 y 100.\n",
    "\n",
    "import numpy as np\n",
    "import pandas as pd"
   ]
  },
  {
   "cell_type": "code",
   "execution_count": 4,
   "id": "1c6a3893-11a9-4fdf-8b80-d792fd38fec9",
   "metadata": {},
   "outputs": [
    {
     "name": "stdout",
     "output_type": "stream",
     "text": [
      "[[50 34]\n",
      " [ 1 38]\n",
      " [98 62]\n",
      " [93 40]\n",
      " [14 88]\n",
      " [49  5]\n",
      " [78 61]\n",
      " [59 41]\n",
      " [ 5 37]\n",
      " [ 8 47]]\n"
     ]
    }
   ],
   "source": [
    "coordenadas = np.random.randint(0, 101, size=(10, 2))\n",
    "print(coordenadas)"
   ]
  },
  {
   "cell_type": "code",
   "execution_count": 5,
   "id": "36f512a5-9084-4394-927e-1a7a0f2ac543",
   "metadata": {},
   "outputs": [
    {
     "name": "stdout",
     "output_type": "stream",
     "text": [
      "{(0, 0): np.float64(0.0), (0, 1): np.float64(49.16299421312742), (0, 2): np.float64(55.569775957799216), (0, 3): np.float64(43.41658669218482), (0, 4): np.float64(64.89992295835181), (0, 5): np.float64(29.017236257093817), (0, 6): np.float64(38.897300677553446), (0, 7): np.float64(11.40175425099138), (0, 8): np.float64(45.09988913511872), (0, 9): np.float64(43.965895873961216), (1, 0): np.float64(49.16299421312742), (1, 1): np.float64(0.0), (1, 2): np.float64(99.92497185388645), (1, 3): np.float64(92.02173656261873), (1, 4): np.float64(51.66236541235796), (1, 5): np.float64(58.249463516842795), (1, 6): np.float64(80.36168241145776), (1, 7): np.float64(58.077534382926416), (1, 8): np.float64(4.123105625617661), (1, 9): np.float64(11.40175425099138), (2, 0): np.float64(55.569775957799216), (2, 1): np.float64(99.92497185388645), (2, 2): np.float64(0.0), (2, 3): np.float64(22.561028345356956), (2, 4): np.float64(87.93179174792243), (2, 5): np.float64(75.16648189186454), (2, 6): np.float64(20.024984394500787), (2, 7): np.float64(44.294469180700204), (2, 8): np.float64(96.30160954002794), (2, 9): np.float64(91.2414379544733), (3, 0): np.float64(43.41658669218482), (3, 1): np.float64(92.02173656261873), (3, 2): np.float64(22.561028345356956), (3, 3): np.float64(0.0), (3, 4): np.float64(92.43916918709297), (3, 5): np.float64(56.22277118748239), (3, 6): np.float64(25.80697580112788), (3, 7): np.float64(34.0147027033899), (3, 8): np.float64(88.05112151472007), (3, 9): np.float64(85.28774824088158), (4, 0): np.float64(64.89992295835181), (4, 1): np.float64(51.66236541235796), (4, 2): np.float64(87.93179174792243), (4, 3): np.float64(92.43916918709297), (4, 4): np.float64(0.0), (4, 5): np.float64(90.07774419910837), (4, 6): np.float64(69.46221994724903), (4, 7): np.float64(65.06919393998976), (4, 8): np.float64(51.78802950489621), (4, 9): np.float64(41.43669871020132), (5, 0): np.float64(29.017236257093817), (5, 1): np.float64(58.249463516842795), (5, 2): np.float64(75.16648189186454), (5, 3): np.float64(56.22277118748239), (5, 4): np.float64(90.07774419910837), (5, 5): np.float64(0.0), (5, 6): np.float64(63.06346010171025), (5, 7): np.float64(37.36308338453881), (5, 8): np.float64(54.405882034941776), (5, 9): np.float64(58.69412236331676), (6, 0): np.float64(38.897300677553446), (6, 1): np.float64(80.36168241145776), (6, 2): np.float64(20.024984394500787), (6, 3): np.float64(25.80697580112788), (6, 4): np.float64(69.46221994724903), (6, 5): np.float64(63.06346010171025), (6, 6): np.float64(0.0), (6, 7): np.float64(27.586228448267445), (6, 8): np.float64(76.84399781375251), (6, 9): np.float64(71.386273190299), (7, 0): np.float64(11.40175425099138), (7, 1): np.float64(58.077534382926416), (7, 2): np.float64(44.294469180700204), (7, 3): np.float64(34.0147027033899), (7, 4): np.float64(65.06919393998976), (7, 5): np.float64(37.36308338453881), (7, 6): np.float64(27.586228448267445), (7, 7): np.float64(0.0), (7, 8): np.float64(54.147945482723536), (7, 9): np.float64(51.35172830587107), (8, 0): np.float64(45.09988913511872), (8, 1): np.float64(4.123105625617661), (8, 2): np.float64(96.30160954002794), (8, 3): np.float64(88.05112151472007), (8, 4): np.float64(51.78802950489621), (8, 5): np.float64(54.405882034941776), (8, 6): np.float64(76.84399781375251), (8, 7): np.float64(54.147945482723536), (8, 8): np.float64(0.0), (8, 9): np.float64(10.44030650891055), (9, 0): np.float64(43.965895873961216), (9, 1): np.float64(11.40175425099138), (9, 2): np.float64(91.2414379544733), (9, 3): np.float64(85.28774824088158), (9, 4): np.float64(41.43669871020132), (9, 5): np.float64(58.69412236331676), (9, 6): np.float64(71.386273190299), (9, 7): np.float64(51.35172830587107), (9, 8): np.float64(10.44030650891055), (9, 9): np.float64(0.0)}\n"
     ]
    }
   ],
   "source": [
    "#Con un bucle, calcula las distancias euclidianas entre cada par de puntos y guárdalas en un diccionario con claves (i,j).\n",
    "\n",
    "distancias = {}\n",
    "for i in range(len(coordenadas)):\n",
    "    for j in range(len(coordenadas)):\n",
    "        dist = np.linalg.norm(coordenadas[i] - coordenadas[j])\n",
    "        distancias[(i, j)] = dist\n",
    "\n",
    "print(distancias)"
   ]
  },
  {
   "cell_type": "code",
   "execution_count": 8,
   "id": "c6c62b99-c1aa-4bf8-a727-99f1c49e44c2",
   "metadata": {},
   "outputs": [
    {
     "name": "stdout",
     "output_type": "stream",
     "text": [
      "           0          1          2          3          4          5  \\\n",
      "0   0.000000  49.162994  55.569776  43.416587  64.899923  29.017236   \n",
      "1  49.162994   0.000000  99.924972  92.021737  51.662365  58.249464   \n",
      "2  55.569776  99.924972   0.000000  22.561028  87.931792  75.166482   \n",
      "3  43.416587  92.021737  22.561028   0.000000  92.439169  56.222771   \n",
      "4  64.899923  51.662365  87.931792  92.439169   0.000000  90.077744   \n",
      "5  29.017236  58.249464  75.166482  56.222771  90.077744   0.000000   \n",
      "6  38.897301  80.361682  20.024984  25.806976  69.462220  63.063460   \n",
      "7  11.401754  58.077534  44.294469  34.014703  65.069194  37.363083   \n",
      "8  45.099889   4.123106  96.301610  88.051122  51.788030  54.405882   \n",
      "9  43.965896  11.401754  91.241438  85.287748  41.436699  58.694122   \n",
      "\n",
      "           6          7          8          9  \n",
      "0  38.897301  11.401754  45.099889  43.965896  \n",
      "1  80.361682  58.077534   4.123106  11.401754  \n",
      "2  20.024984  44.294469  96.301610  91.241438  \n",
      "3  25.806976  34.014703  88.051122  85.287748  \n",
      "4  69.462220  65.069194  51.788030  41.436699  \n",
      "5  63.063460  37.363083  54.405882  58.694122  \n",
      "6   0.000000  27.586228  76.843998  71.386273  \n",
      "7  27.586228   0.000000  54.147945  51.351728  \n",
      "8  76.843998  54.147945   0.000000  10.440307  \n",
      "9  71.386273  51.351728  10.440307   0.000000  \n"
     ]
    }
   ],
   "source": [
    "#Convierte el diccionario en un DataFrame de 10x10 (matriz de distancias).\n",
    "\n",
    "df_distancias = pd.DataFrame(np.zeros((10,10)))\n",
    "for (i,j), d in distancias.items():\n",
    "    df_distancias.iloc[i,j] = d\n",
    "\n",
    "print(df_distancias)\n"
   ]
  },
  {
   "cell_type": "code",
   "execution_count": 10,
   "id": "7ed44bf4-40b4-4348-8a72-690fbad6b958",
   "metadata": {},
   "outputs": [
    {
     "name": "stdout",
     "output_type": "stream",
     "text": [
      "((0, 0), np.float64(0.0)) ((1, 2), np.float64(99.92497185388645))\n"
     ]
    }
   ],
   "source": [
    "#Encuentra el par de puntos más cercanos y el más lejano.\n",
    "\n",
    "min_dist = min(distancias.items(), key=lambda x: x[1])\n",
    "max_dist = max(distancias.items(), key=lambda x: x[1])\n",
    "\n",
    "print(min_dist,max_dist)"
   ]
  },
  {
   "cell_type": "markdown",
   "id": "81bc0923-6c78-4792-8607-a36a75f304b3",
   "metadata": {},
   "source": [
    "#  Ejercicio Análisis de series temporales\n",
    "\n"
   ]
  },
  {
   "cell_type": "code",
   "execution_count": 18,
   "id": "eabd22ed-c2d4-4813-8c6d-68fcd0279061",
   "metadata": {},
   "outputs": [
    {
     "name": "stdout",
     "output_type": "stream",
     "text": [
      "[22 11 18 28 26 20 11 31 23 10 24 21 39 22 17 21 26 18 22 22 19 18 10 21\n",
      " 35 21 20 13 11 19 11 30 39 27 21 25 39 28 36 12 34 20 25 39 15 27 18 28\n",
      " 10 22 16 10 32 16 37 34 40 24 25 24 28 37 29 30 31 28 36 39 23 31 14 12\n",
      " 20 24 18 23 16 30 35 23 13 27 33 28 40 14 33 20 32 18 39 12 25 35 21 33\n",
      " 40 38 28 22 10 15 34 29 31 35 36 27 37 26 38 27 23 39 16 19 32 31 10 26\n",
      " 12 35 21 35 29 21 24 14 22 37 38 34 19 34 39 35 36 15 17 19 10 29 33 32\n",
      " 11 38 21 25 28 26 10 17 21 37 29 25 11 35 18 18 30 35 35 28 20 28 38 22\n",
      " 16 30 11 35 34 20 36 14 10 28 31 31 12 23 11 27 32 29 38 21 18 32 34 20\n",
      " 27 13 15 34 13 30 21 32 25 11 24 31 35 29 31 35 14 25 22 18 26 15 20 30\n",
      " 18 19 20 21 22 17 19 31 31 24 27 21 24 29 25 20 27 32 20 37 15 15 17 24\n",
      " 24 33 24 18 20 12 32 26 28 17 27 35 11 10 22 10 36 38 16 33 15 10 35 20\n",
      " 25 33 37 16 23 30 20 21 36 15 34 24 17 10 16 12 20 30 35 31 27 13 32 17\n",
      " 27 12 19 25 35 11 11 13 25 33 27 17 33 34 25 32 24 36 29 30 27 17 38 24\n",
      " 25 13 16 20 17 36 30 16 34 29 11 30 17 37 17 26 21 24 39 32 40 16 30 29\n",
      " 33 33 14 15 33 34 16 30 20 20 24 14 14 40 21 31 27 37 11 38 11 22 40 18\n",
      " 32 30 16 37 10]\n"
     ]
    }
   ],
   "source": [
    "# Genera con NumPy una Serie de 365 valores aleatorios entre 10 y 40 (temperatura diaria de un año).\n",
    "\n",
    "import pandas as pd \n",
    "temperaturas = np.random.randint(10, 41, size=365)\n",
    "print(temperaturas)"
   ]
  },
  {
   "cell_type": "code",
   "execution_count": 21,
   "id": "99a263a0-dc8a-4bb4-8389-d95c76f69850",
   "metadata": {},
   "outputs": [
    {
     "name": "stdout",
     "output_type": "stream",
     "text": [
      "     Temperatura\n",
      "0             22\n",
      "1             11\n",
      "2             18\n",
      "3             28\n",
      "4             26\n",
      "..           ...\n",
      "360           32\n",
      "361           30\n",
      "362           16\n",
      "363           37\n",
      "364           10\n",
      "\n",
      "[365 rows x 1 columns]\n"
     ]
    }
   ],
   "source": [
    "#Convierte en un DataFrame con columnas \"Día\" y \"Temperatura\".\n",
    "\n",
    "datos_temperaturas = pd.DataFrame(temperaturas, columns=[\"Temperatura\"])\n",
    "\n",
    "print(datos_temperaturas)"
   ]
  },
  {
   "cell_type": "code",
   "execution_count": 24,
   "id": "41d9d302-cb07-4294-8dea-3515841c841f",
   "metadata": {},
   "outputs": [
    {
     "name": "stdout",
     "output_type": "stream",
     "text": [
      "     Temperatura  Día\n",
      "0             22    1\n",
      "1             11    2\n",
      "2             18    3\n",
      "3             28    4\n",
      "4             26    5\n",
      "..           ...  ...\n",
      "360           32  361\n",
      "361           30  362\n",
      "362           16  363\n",
      "363           37  364\n",
      "364           10  365\n",
      "\n",
      "[365 rows x 2 columns]\n"
     ]
    }
   ],
   "source": [
    "datos_temperaturas[\"Día\"] = np.arange(1, 366)\n",
    "\n",
    "print(datos_temperaturas)"
   ]
  },
  {
   "cell_type": "code",
   "execution_count": 25,
   "id": "fe66969c-2678-4677-aab7-0353c639cd5b",
   "metadata": {},
   "outputs": [],
   "source": [
    "# Usa un bucle para calcular la media de cada mes (asume 30 días por mes) y guardarlo en un diccionario\n",
    "\n",
    "medias_meses = {}"
   ]
  },
  {
   "cell_type": "code",
   "execution_count": 31,
   "id": "ab3c20f8-0035-4f2b-8647-c767ed16f8f6",
   "metadata": {},
   "outputs": [
    {
     "name": "stdout",
     "output_type": "stream",
     "text": [
      "{'Mes_1': np.float64(24.1), 'Mes_2': np.float64(22.5), 'Mes_3': np.float64(22.866666666666667), 'Mes_4': np.float64(23.433333333333334), 'Mes_5': np.float64(23.233333333333334), 'Mes_6': np.float64(22.766666666666666), 'Mes_7': np.float64(21.2), 'Mes_8': np.float64(25.4), 'Mes_9': np.float64(25.133333333333333), 'Mes_10': np.float64(23.333333333333332), 'Mes_11': np.float64(21.1), 'Mes_12': np.float64(28.033333333333335)}\n"
     ]
    }
   ],
   "source": [
    "for mes in range(1, 13):\n",
    "    inicio = (mes - 1) * 30\n",
    "    fin = inicio + 30\n",
    "    promedio = np.mean(df[\"Temperatura\"].iloc[inicio:fin])\n",
    "    medias_meses[f\"Mes_{mes}\"] = promedio\n",
    "\n",
    "print(medias_meses)"
   ]
  },
  {
   "cell_type": "code",
   "execution_count": 36,
   "id": "6cc1aedf-2662-43ca-ae31-0c0f2e5d7705",
   "metadata": {},
   "outputs": [
    {
     "name": "stdout",
     "output_type": "stream",
     "text": [
      "Mes_12    28.033333\n",
      "Mes_8     25.400000\n",
      "Mes_9     25.133333\n",
      "Mes_1     24.100000\n",
      "Mes_4     23.433333\n",
      "Mes_10    23.333333\n",
      "Mes_5     23.233333\n",
      "Mes_3     22.866667\n",
      "Mes_6     22.766667\n",
      "Mes_2     22.500000\n",
      "Mes_7     21.200000\n",
      "Mes_11    21.100000\n",
      "dtype: float64\n"
     ]
    }
   ],
   "source": [
    "# Convierte el diccionario en una Series y ordénala de mayor a menor.\n",
    "series_medias = pd.Series(medias_meses)\n",
    "series_ordenadas = series_medias.sort_values(ascending=False)\n",
    "\n",
    "print(series_ordenadas)"
   ]
  },
  {
   "cell_type": "markdown",
   "id": "697cf631-3b9f-4adc-88b0-50e7e755900c",
   "metadata": {},
   "source": [
    "# Ejercicio Actividad neuronal por regiones\n",
    "\n"
   ]
  },
  {
   "cell_type": "code",
   "execution_count": 40,
   "id": "33135d95-f8dc-4768-8d8b-ff3fcd2bcc2b",
   "metadata": {},
   "outputs": [
    {
     "name": "stdout",
     "output_type": "stream",
     "text": [
      "[[0.0042821  0.4674508  0.16527754 0.95760958 0.90841566]\n",
      " [0.47940484 0.21443999 0.72634044 0.31012509 0.55806125]\n",
      " [0.53565172 0.67691128 0.8480674  0.24714756 0.89316946]\n",
      " [0.16474139 0.89058943 0.58104633 0.98612243 0.70127334]\n",
      " [0.61220703 0.8503551  0.76785232 0.527811   0.46685185]\n",
      " [0.68113288 0.39262877 0.5243473  0.53305682 0.69352462]\n",
      " [0.82701956 0.50880953 0.71017071 0.25774366 0.61969197]\n",
      " [0.72993514 0.00235948 0.66217325 0.3819276  0.8947    ]\n",
      " [0.594722   0.06850197 0.4117021  0.99607535 0.33247456]\n",
      " [0.189723   0.20865543 0.48306542 0.31827301 0.88749301]\n",
      " [0.22476122 0.12929707 0.43823849 0.22442193 0.43995359]\n",
      " [0.45391206 0.0215794  0.30920847 0.67221496 0.0605178 ]\n",
      " [0.73271654 0.96895831 0.14016223 0.62192158 0.9707978 ]\n",
      " [0.21750002 0.35279313 0.48628373 0.61485163 0.51366019]\n",
      " [0.71729858 0.06919368 0.94199401 0.79559794 0.72896051]\n",
      " [0.5121816  0.75037792 0.57262539 0.68515553 0.48604782]\n",
      " [0.86934599 0.98351701 0.34244059 0.85107251 0.81158216]\n",
      " [0.86426619 0.05291673 0.95643061 0.43068849 0.88038855]\n",
      " [0.82950506 0.84846721 0.26418    0.90704935 0.05838783]\n",
      " [0.09757559 0.68211897 0.0335809  0.15723466 0.87714298]\n",
      " [0.72665417 0.77344013 0.43719698 0.72458474 0.51692592]\n",
      " [0.05347713 0.3968815  0.8986732  0.85516333 0.17438874]\n",
      " [0.94954554 0.5138554  0.80282128 0.32769334 0.35078047]\n",
      " [0.0907126  0.9377692  0.90134211 0.24581022 0.00232274]\n",
      " [0.75577002 0.16567667 0.16024967 0.20892954 0.05656302]\n",
      " [0.66588292 0.08867377 0.90966279 0.57767868 0.74815255]\n",
      " [0.74381975 0.49147949 0.70565547 0.02446571 0.10478059]\n",
      " [0.26498827 0.71911021 0.71961773 0.46822256 0.60894883]\n",
      " [0.97333212 0.43862307 0.94679344 0.4041966  0.0495934 ]\n",
      " [0.75718916 0.497831   0.91030471 0.18968994 0.57193709]\n",
      " [0.61909411 0.49776365 0.00370603 0.83869301 0.53847458]\n",
      " [0.26004142 0.82804302 0.07355359 0.27619338 0.96733355]\n",
      " [0.87916078 0.93286798 0.42090613 0.11549107 0.44731661]\n",
      " [0.47809272 0.54542409 0.4107367  0.84174952 0.43644386]\n",
      " [0.42063289 0.38758697 0.30039751 0.58055593 0.18966329]\n",
      " [0.73628592 0.86203653 0.46701472 0.49883473 0.15300361]\n",
      " [0.15724336 0.82698288 0.40703153 0.95185214 0.10211291]\n",
      " [0.53278371 0.44653583 0.20057266 0.54676331 0.88796099]\n",
      " [0.80524706 0.64088285 0.55916481 0.64073036 0.52801708]\n",
      " [0.17250313 0.36324819 0.98331901 0.97639973 0.69142876]\n",
      " [0.1357001  0.97786925 0.31821182 0.36598626 0.55248578]\n",
      " [0.99504567 0.66030468 0.73603139 0.30935616 0.86723605]\n",
      " [0.68471809 0.23800798 0.67525541 0.06175673 0.19993179]\n",
      " [0.44426478 0.94176933 0.4610819  0.23600722 0.0129859 ]\n",
      " [0.49180693 0.86244143 0.92075552 0.82575163 0.55324368]\n",
      " [0.26926244 0.22787338 0.12517767 0.05615607 0.80316029]\n",
      " [0.42709291 0.18206963 0.59878725 0.01025918 0.18685472]\n",
      " [0.6036743  0.33890675 0.51439711 0.53819318 0.63253014]\n",
      " [0.71961223 0.37161658 0.65834852 0.73443186 0.36723912]\n",
      " [0.84115526 0.90631983 0.53420029 0.0199429  0.71935345]\n",
      " [0.77105519 0.63178483 0.25458666 0.87681235 0.02291668]\n",
      " [0.82129135 0.4110931  0.06446    0.98110021 0.93113428]\n",
      " [0.27208507 0.69965149 0.40110318 0.02201677 0.77837323]\n",
      " [0.91597107 0.77297687 0.85534535 0.13515482 0.64878839]\n",
      " [0.13424671 0.48616834 0.41132243 0.61107011 0.10170329]\n",
      " [0.62642249 0.09727767 0.7626163  0.94176775 0.03625538]\n",
      " [0.61680292 0.13042326 0.19640491 0.88093307 0.41428415]\n",
      " [0.75017627 0.47686834 0.39466478 0.2242145  0.44423947]\n",
      " [0.53269422 0.56188693 0.82282456 0.59476382 0.57011388]\n",
      " [0.20549192 0.22455822 0.68554248 0.2334229  0.41138516]\n",
      " [0.20118529 0.22189554 0.67361375 0.40420137 0.68238038]\n",
      " [0.26018121 0.85329345 0.16714177 0.18402097 0.75370313]\n",
      " [0.70325163 0.05954266 0.56203575 0.84542841 0.51901797]\n",
      " [0.24532845 0.9482244  0.1899313  0.10425209 0.17663795]\n",
      " [0.00683536 0.52235132 0.79908554 0.17224298 0.4331643 ]\n",
      " [0.07252863 0.71147819 0.02552954 0.23360187 0.73597596]\n",
      " [0.24002951 0.45055952 0.45496598 0.43553373 0.17753802]\n",
      " [0.8440106  0.44502022 0.85053799 0.46401742 0.23373753]\n",
      " [0.23396806 0.95773172 0.90379534 0.60400117 0.86975429]\n",
      " [0.54472888 0.96254808 0.56179518 0.12583043 0.39586068]\n",
      " [0.73970509 0.67787944 0.20995548 0.98885397 0.33835911]\n",
      " [0.29293749 0.20947656 0.62143681 0.62475406 0.83974197]\n",
      " [0.09388393 0.41951374 0.58280125 0.67191456 0.59312128]\n",
      " [0.77668845 0.98690442 0.02457284 0.66517211 0.29014701]\n",
      " [0.85427973 0.28620369 0.10301738 0.78155606 0.58226305]\n",
      " [0.98247656 0.96578792 0.56976767 0.78500911 0.74877875]\n",
      " [0.41721395 0.43673028 0.74448719 0.53947098 0.88357171]\n",
      " [0.52623326 0.60632236 0.09849201 0.24522795 0.32636801]\n",
      " [0.82644538 0.43705864 0.08469341 0.05223087 0.0153722 ]\n",
      " [0.25954126 0.30187138 0.18461077 0.74629524 0.82614113]\n",
      " [0.47536839 0.6161092  0.26025385 0.19217221 0.75609029]\n",
      " [0.77703657 0.44550315 0.35738493 0.41211515 0.24954776]\n",
      " [0.08086451 0.93379003 0.9645652  0.13781097 0.20228583]\n",
      " [0.05556637 0.99733976 0.1330795  0.03248953 0.52451789]\n",
      " [0.2709455  0.9708496  0.73218137 0.2106224  0.18198807]\n",
      " [0.01615    0.03555041 0.58362955 0.87536534 0.18438841]\n",
      " [0.14519808 0.94292692 0.57795591 0.34316674 0.67234546]\n",
      " [0.89039053 0.85133248 0.72791386 0.98766183 0.89483331]\n",
      " [0.51563998 0.43285408 0.28046131 0.98214768 0.68352528]\n",
      " [0.58790902 0.93140879 0.79008297 0.28706308 0.25992229]\n",
      " [0.81885044 0.75108944 0.61899992 0.59058258 0.487707  ]\n",
      " [0.5802479  0.71703432 0.77167199 0.71811393 0.37580268]\n",
      " [0.62729588 0.65056451 0.19282438 0.06332639 0.40421942]\n",
      " [0.89563113 0.64864603 0.76096428 0.03377892 0.4023914 ]\n",
      " [0.15558796 0.10822977 0.88650075 0.00576933 0.6509003 ]\n",
      " [0.84379728 0.55803664 0.57330192 0.05285665 0.29528305]\n",
      " [0.79390896 0.28129783 0.05098093 0.39676538 0.3806241 ]\n",
      " [0.55564133 0.29542997 0.5978767  0.63447911 0.72343854]\n",
      " [0.18461398 0.5258513  0.16830157 0.98528522 0.06992378]\n",
      " [0.16917333 0.79328482 0.61696529 0.79507999 0.75841933]]\n"
     ]
    }
   ],
   "source": [
    "# Genera una matriz 100x5 con NumPy representando la actividad de 100 neuronas en 5 regiones cerebrales (valores entre 0 y 1 como tasas de disparo).\n",
    "\n",
    "a = 0\n",
    "b = 1\n",
    "valores = a + (b - a) * np.random.rand(100, 5)\n",
    "\n",
    "print(valores)\n"
   ]
  },
  {
   "cell_type": "code",
   "execution_count": 42,
   "id": "a4559c6c-bd12-41c2-abb4-1b5e74960dc0",
   "metadata": {},
   "outputs": [
    {
     "name": "stdout",
     "output_type": "stream",
     "text": [
      "    Región_1  Región_2  Región_3  Región_4  Región_5\n",
      "0   0.004282  0.467451  0.165278  0.957610  0.908416\n",
      "1   0.479405  0.214440  0.726340  0.310125  0.558061\n",
      "2   0.535652  0.676911  0.848067  0.247148  0.893169\n",
      "3   0.164741  0.890589  0.581046  0.986122  0.701273\n",
      "4   0.612207  0.850355  0.767852  0.527811  0.466852\n",
      "..       ...       ...       ...       ...       ...\n",
      "95  0.843797  0.558037  0.573302  0.052857  0.295283\n",
      "96  0.793909  0.281298  0.050981  0.396765  0.380624\n",
      "97  0.555641  0.295430  0.597877  0.634479  0.723439\n",
      "98  0.184614  0.525851  0.168302  0.985285  0.069924\n",
      "99  0.169173  0.793285  0.616965  0.795080  0.758419\n",
      "\n",
      "[100 rows x 5 columns]\n"
     ]
    }
   ],
   "source": [
    "#onvierte la matriz en un DataFrame con columnas \"Región_1\"... \"Región_5\".\n",
    "\n",
    "actividad_neuronas = pd.DataFrame(valores, columns=[f\"Región_{i}\" for i in range(1, 6)])\n",
    "print(actividad_neuronas)"
   ]
  },
  {
   "cell_type": "code",
   "execution_count": 43,
   "id": "17e35cf7-c085-4658-b5e7-5a7185a2a3f2",
   "metadata": {},
   "outputs": [
    {
     "name": "stdout",
     "output_type": "stream",
     "text": [
      "{'Región_1': np.float64(0.5120017913009344), 'Región_2': np.float64(0.5464202411736617), 'Región_3': np.float64(0.5103318798310056), 'Región_4': np.float64(0.4883916376295517), 'Región_5': np.float64(0.49743246911774086)}\n"
     ]
    }
   ],
   "source": [
    "#Usa un bucle para calcular la actividad media de cada región y guárdala en un diccionario.\n",
    "actividad_media = {}\n",
    "for col in actividad_neuronas.columns:\n",
    "    promedio = np.mean(actividad_neuronas[col])\n",
    "    actividad_media[col] = promedio\n",
    "\n",
    "print(actividad_media)\n"
   ]
  },
  {
   "cell_type": "code",
   "execution_count": 45,
   "id": "c095a768-758d-4d0c-8f34-b9abe08b46e9",
   "metadata": {},
   "outputs": [
    {
     "name": "stdout",
     "output_type": "stream",
     "text": [
      "Región_2    0.546420\n",
      "Región_1    0.512002\n",
      "Región_3    0.510332\n",
      "Región_5    0.497432\n",
      "Región_4    0.488392\n",
      "dtype: float64\n"
     ]
    }
   ],
   "source": [
    "#Convierte el diccionario en una Series y ordénala de mayor a menor.\n",
    "actividad_media_series = pd.Series(actividad_media)\n",
    "actividad_media_ordenada = actividad_media_series.sort_values(ascending=False)\n",
    "\n",
    "print(actividad_media_ordenada)"
   ]
  },
  {
   "cell_type": "markdown",
   "id": "2141f368-2987-414b-9cbb-4c595e2c64d3",
   "metadata": {},
   "source": [
    "# Ejercicio Conectividad funcional (correlaciones)\n",
    "\n"
   ]
  },
  {
   "cell_type": "code",
   "execution_count": 47,
   "id": "b10501ff-e294-4181-8298-75a1a2a0bcf6",
   "metadata": {},
   "outputs": [
    {
     "name": "stdout",
     "output_type": "stream",
     "text": [
      "[[0.66621657 0.91248659 0.37038169 0.8168515 ]\n",
      " [0.78912211 0.02461849 0.96049701 0.87373326]\n",
      " [0.11524846 0.57844476 0.19949874 0.68766084]\n",
      " [0.87216243 0.78955858 0.61599684 0.93861411]\n",
      " [0.50272817 0.78644169 0.68155744 0.61194345]\n",
      " [0.73068801 0.13798821 0.08672994 0.19760958]\n",
      " [0.66923839 0.67498557 0.95338032 0.44588284]\n",
      " [0.6306951  0.97994082 0.03056841 0.75012235]\n",
      " [0.0109684  0.22989438 0.27659877 0.83720095]\n",
      " [0.36875468 0.29498717 0.09921863 0.63336272]\n",
      " [0.07753854 0.64364463 0.32228642 0.7407586 ]\n",
      " [0.25804323 0.68131185 0.13749611 0.14105806]\n",
      " [0.06965452 0.09729121 0.24503771 0.27283639]\n",
      " [0.20186332 0.53020185 0.16531182 0.00482976]\n",
      " [0.4623438  0.48157059 0.39590052 0.29141769]\n",
      " [0.55523359 0.44059298 0.43140757 0.19135176]\n",
      " [0.14992159 0.53129615 0.35837358 0.3263583 ]\n",
      " [0.67028402 0.30794701 0.68693789 0.33944525]\n",
      " [0.68973543 0.6053921  0.76755918 0.58051345]\n",
      " [0.04798648 0.10423225 0.44188342 0.9771134 ]\n",
      " [0.19206298 0.92840244 0.61467508 0.85829555]\n",
      " [0.5879982  0.17015355 0.92957334 0.2943472 ]\n",
      " [0.46372275 0.12421806 0.35248357 0.05473631]\n",
      " [0.21597472 0.85377225 0.81836094 0.97934471]\n",
      " [0.39025169 0.8329997  0.45653551 0.93891633]\n",
      " [0.32009218 0.1480298  0.93663527 0.42792437]\n",
      " [0.96869193 0.24777059 0.66709335 0.12211901]\n",
      " [0.63791124 0.81877387 0.96888381 0.88179679]\n",
      " [0.56233302 0.46271647 0.48408308 0.87444179]\n",
      " [0.39175075 0.83768019 0.82465679 0.63066812]\n",
      " [0.21729029 0.78674844 0.6025119  0.37991137]\n",
      " [0.11828269 0.84717619 0.80538692 0.24517035]\n",
      " [0.73433773 0.0078632  0.85564974 0.37085813]\n",
      " [0.52038737 0.57899089 0.13772733 0.61580475]\n",
      " [0.73651596 0.01736463 0.910189   0.36758527]\n",
      " [0.44459257 0.97574286 0.74593787 0.66188699]\n",
      " [0.35512075 0.03463605 0.99330933 0.7491413 ]\n",
      " [0.10982768 0.54641368 0.46428268 0.97361568]\n",
      " [0.20788499 0.14736238 0.27135144 0.28965095]\n",
      " [0.39776587 0.16978885 0.85350529 0.72506039]\n",
      " [0.02529747 0.63983287 0.58565227 0.44073951]\n",
      " [0.74863223 0.38084608 0.49411808 0.81287565]\n",
      " [0.51505018 0.39543617 0.43047393 0.8400311 ]\n",
      " [0.16341312 0.82678252 0.74584615 0.03910083]\n",
      " [0.51609159 0.01521437 0.97605295 0.6273545 ]\n",
      " [0.54786894 0.63652149 0.31267095 0.72656197]\n",
      " [0.38073016 0.26945812 0.37067783 0.45301225]\n",
      " [0.15264779 0.42997533 0.2201437  0.85594604]\n",
      " [0.46818078 0.02991196 0.13128304 0.83374364]\n",
      " [0.07321193 0.36151516 0.30030815 0.27841698]\n",
      " [0.70098469 0.98261189 0.35020805 0.21539507]\n",
      " [0.41579568 0.02585265 0.10181522 0.33794815]\n",
      " [0.44415363 0.32126179 0.45188027 0.65889293]\n",
      " [0.42210763 0.51544219 0.6168572  0.15502338]\n",
      " [0.40910697 0.90154714 0.44032516 0.68446248]\n",
      " [0.35796835 0.30177761 0.46251315 0.29037325]\n",
      " [0.36720384 0.27563865 0.57482334 0.38990226]\n",
      " [0.33958505 0.62902029 0.50206232 0.08022667]\n",
      " [0.48894703 0.47000481 0.81275435 0.51676881]\n",
      " [0.25745551 0.04914439 0.38005841 0.94873353]\n",
      " [0.06127082 0.4344643  0.65818816 0.80535047]\n",
      " [0.63105138 0.79845076 0.98339979 0.21923941]\n",
      " [0.35868954 0.61132518 0.48278067 0.10224619]\n",
      " [0.42856029 0.95521341 0.87578519 0.84449859]\n",
      " [0.39445731 0.37062685 0.06084801 0.03741158]\n",
      " [0.31734195 0.04082681 0.51692166 0.61287523]\n",
      " [0.1084222  0.78700036 0.67909578 0.86394404]\n",
      " [0.32323208 0.6858738  0.93676519 0.83870923]\n",
      " [0.28517307 0.62824659 0.02303997 0.92326754]\n",
      " [0.56097435 0.99341989 0.55919432 0.64718289]\n",
      " [0.44408188 0.99186551 0.07984928 0.20726717]\n",
      " [0.03214062 0.78758235 0.68526867 0.49341503]\n",
      " [0.08641658 0.20414324 0.87424416 0.61358459]\n",
      " [0.61362616 0.62326187 0.10259978 0.86705747]\n",
      " [0.68724067 0.31788975 0.83212215 0.97139321]\n",
      " [0.96372365 0.03971417 0.58520331 0.18982241]\n",
      " [0.01885922 0.77168721 0.75072007 0.70247421]\n",
      " [0.60351468 0.29379    0.21378312 0.57403802]\n",
      " [0.41864112 0.11987392 0.27814171 0.73080404]\n",
      " [0.49509754 0.38618357 0.49170147 0.61377294]\n",
      " [0.78578496 0.86117802 0.17268975 0.51550958]\n",
      " [0.31765938 0.89165384 0.56083622 0.81445855]\n",
      " [0.47594728 0.43844665 0.44149754 0.35986975]\n",
      " [0.76197436 0.34731171 0.0240794  0.79993383]\n",
      " [0.10602779 0.6465389  0.2718895  0.76378009]\n",
      " [0.73582077 0.1906678  0.40393002 0.01555294]\n",
      " [0.54121925 0.29267686 0.0951182  0.48422482]\n",
      " [0.04740596 0.40854412 0.00657485 0.51432883]\n",
      " [0.65638509 0.11925925 0.83418708 0.40899379]\n",
      " [0.79525694 0.12130499 0.94593655 0.34382925]\n",
      " [0.21386068 0.73132087 0.35657738 0.43515291]\n",
      " [0.96052232 0.39548243 0.801077   0.645205  ]\n",
      " [0.37368821 0.29044542 0.9955739  0.5814795 ]\n",
      " [0.1097558  0.41878713 0.23634868 0.64828474]\n",
      " [0.96013928 0.53610965 0.47761626 0.3793577 ]\n",
      " [0.89937922 0.56646784 0.17717246 0.34963776]\n",
      " [0.07815793 0.6415997  0.48098271 0.45307746]\n",
      " [0.05626245 0.63845828 0.6588133  0.31370927]\n",
      " [0.75178612 0.7148367  0.56722904 0.96776359]\n",
      " [0.33847208 0.8048947  0.43044658 0.14040462]\n",
      " [0.02447797 0.97240603 0.02597534 0.1257125 ]\n",
      " [0.97459569 0.43920506 0.39860173 0.24560204]\n",
      " [0.05229733 0.1767371  0.9321585  0.38146889]\n",
      " [0.29102775 0.08614771 0.2744013  0.09168917]\n",
      " [0.27536036 0.19977408 0.01882448 0.1259088 ]\n",
      " [0.23212455 0.02207069 0.15234828 0.15728226]\n",
      " [0.9623577  0.98317406 0.57853928 0.62313938]\n",
      " [0.83941732 0.71528909 0.24102571 0.18003533]\n",
      " [0.98606641 0.19961057 0.75727453 0.53725918]\n",
      " [0.94855363 0.28974385 0.65820389 0.87220898]\n",
      " [0.31712875 0.90542614 0.7800301  0.44643881]\n",
      " [0.18595738 0.04843651 0.12071039 0.61836176]\n",
      " [0.58636911 0.38966973 0.94993944 0.85568579]\n",
      " [0.54727338 0.49870295 0.0390028  0.46794371]\n",
      " [0.05649633 0.73973213 0.02295466 0.97341908]\n",
      " [0.19008905 0.4212619  0.16775107 0.0735896 ]\n",
      " [0.15117733 0.76563456 0.50807264 0.55747856]\n",
      " [0.18758206 0.2208708  0.36351911 0.83323579]\n",
      " [0.11074933 0.80482514 0.47600939 0.06708912]\n",
      " [0.85187146 0.53570838 0.96424502 0.47417071]\n",
      " [0.67611517 0.63400491 0.69963032 0.82782914]\n",
      " [0.22301643 0.54292507 0.01285879 0.04650801]\n",
      " [0.16182357 0.79163188 0.92288735 0.16144302]\n",
      " [0.08108845 0.44606227 0.91476129 0.07947348]\n",
      " [0.80982621 0.2834466  0.92691461 0.25414452]\n",
      " [0.15964046 0.16749457 0.27367138 0.68041665]\n",
      " [0.0194444  0.1604746  0.50660701 0.06745344]\n",
      " [0.01042369 0.33365503 0.37841703 0.42571159]\n",
      " [0.8881251  0.45546652 0.89421243 0.96719075]\n",
      " [0.59880462 0.10465927 0.19162723 0.54316644]\n",
      " [0.97594569 0.77964888 0.68102631 0.47500299]\n",
      " [0.68584655 0.37868399 0.41885761 0.23555853]\n",
      " [0.48226208 0.3032573  0.94489178 0.49229811]\n",
      " [0.00379539 0.5446498  0.91532707 0.25217919]\n",
      " [0.71186216 0.9806834  0.07731593 0.27185974]\n",
      " [0.86542075 0.53171313 0.67297069 0.45113008]\n",
      " [0.74489642 0.15118255 0.0245621  0.80003364]\n",
      " [0.21510607 0.26771037 0.52145404 0.03672913]\n",
      " [0.87376204 0.01251465 0.57219317 0.58145215]\n",
      " [0.32370429 0.21544407 0.37931031 0.59663192]\n",
      " [0.15525711 0.75729376 0.37169721 0.70019256]\n",
      " [0.85392998 0.37741022 0.41154008 0.69910769]\n",
      " [0.260597   0.35283511 0.59451824 0.420421  ]\n",
      " [0.48424168 0.94047756 0.12342171 0.89869682]\n",
      " [0.13944187 0.04757815 0.75946226 0.12330221]\n",
      " [0.71340277 0.05694929 0.96058733 0.66153888]\n",
      " [0.61440348 0.3433322  0.24208195 0.44726595]\n",
      " [0.19750875 0.3696821  0.06888872 0.88155939]\n",
      " [0.91364063 0.12652599 0.25029292 0.541636  ]\n",
      " [0.45745145 0.05587969 0.08305453 0.23516711]\n",
      " [0.81169823 0.68794867 0.68149298 0.28298264]\n",
      " [0.5230995  0.53756614 0.09307087 0.00765358]\n",
      " [0.57633176 0.85323453 0.78400546 0.35155354]\n",
      " [0.89860671 0.79826975 0.09338487 0.0847211 ]\n",
      " [0.24313481 0.54762379 0.76452155 0.44520203]\n",
      " [0.78393736 0.51662886 0.80980468 0.04551332]\n",
      " [0.62342036 0.13575979 0.80776436 0.42464615]\n",
      " [0.55860576 0.20552193 0.17329923 0.20574228]\n",
      " [0.72976278 0.29599112 0.77383523 0.75425586]\n",
      " [0.30898719 0.87166328 0.3377364  0.01067245]\n",
      " [0.56316624 0.41830506 0.55040859 0.75492688]\n",
      " [0.97630698 0.62586853 0.69498856 0.73778787]\n",
      " [0.48152995 0.48353851 0.58067455 0.16061605]\n",
      " [0.51701819 0.10796838 0.40134284 0.2348527 ]\n",
      " [0.092889   0.2382213  0.92506833 0.26411618]\n",
      " [0.17437963 0.56078657 0.90206267 0.38846445]\n",
      " [0.20037902 0.46427131 0.22735062 0.76912907]\n",
      " [0.99389435 0.46301699 0.94169871 0.40997016]\n",
      " [0.93072807 0.13782928 0.89450526 0.69498589]\n",
      " [0.50803869 0.80540968 0.91721504 0.2508952 ]\n",
      " [0.09702582 0.08878285 0.58261582 0.52756921]\n",
      " [0.8200911  0.75680172 0.65975794 0.37628461]\n",
      " [0.65809507 0.19310955 0.88850665 0.62556117]\n",
      " [0.16481345 0.27257784 0.94203601 0.35254722]\n",
      " [0.85745462 0.89984306 0.57719154 0.56046064]\n",
      " [0.71238969 0.35509139 0.93181882 0.41031061]\n",
      " [0.21915314 0.98686315 0.78386177 0.6639888 ]\n",
      " [0.84378361 0.01729146 0.07876841 0.90841863]\n",
      " [0.53887623 0.33420923 0.02876962 0.18240049]\n",
      " [0.59918358 0.42780169 0.18179853 0.98262013]\n",
      " [0.4627226  0.502025   0.16055663 0.17614   ]\n",
      " [0.5625011  0.92517571 0.09689506 0.31872008]\n",
      " [0.44829648 0.61303511 0.6851245  0.10736637]\n",
      " [0.81794985 0.7588508  0.08585553 0.18289776]\n",
      " [0.08376444 0.12289607 0.31265957 0.74394725]\n",
      " [0.23491917 0.76875532 0.77296177 0.24103395]\n",
      " [0.51640074 0.38286968 0.13243693 0.75007211]\n",
      " [0.01902083 0.91488049 0.45891728 0.66409353]\n",
      " [0.85520326 0.40811731 0.08099603 0.74020733]\n",
      " [0.23163825 0.71761637 0.16226165 0.35399536]\n",
      " [0.19518088 0.49906231 0.27543687 0.65494879]\n",
      " [0.06053006 0.86088779 0.04672375 0.152157  ]\n",
      " [0.9939299  0.36425455 0.38644738 0.84328039]\n",
      " [0.75438677 0.03919553 0.85781702 0.59094103]\n",
      " [0.72775168 0.32661651 0.79557444 0.61861007]\n",
      " [0.41640674 0.55726288 0.54677081 0.97901992]\n",
      " [0.20933609 0.37674532 0.86675726 0.71650716]\n",
      " [0.14180714 0.48281814 0.31974954 0.07583038]\n",
      " [0.66679432 0.48645508 0.92980438 0.7808242 ]\n",
      " [0.62383042 0.02340801 0.86875482 0.77659351]]\n"
     ]
    }
   ],
   "source": [
    "# Simula con NumPy una matriz 200x4 con series de tiempo de actividad fMRI en 4 áreas cerebrales.\n",
    "\n",
    "a= 0\n",
    "b= 1\n",
    "actividad_fmri = a + (b - a) * np.random.rand(200, 4)\n",
    "\n",
    "print(actividad_fmri)\n"
   ]
  },
  {
   "cell_type": "code",
   "execution_count": 48,
   "id": "368c6e29-389e-4e40-8b18-e22182b7172b",
   "metadata": {},
   "outputs": [
    {
     "name": "stdout",
     "output_type": "stream",
     "text": [
      "       Área_1    Área_2    Área_3    Área_4\n",
      "0    0.366560  0.778686  0.409034  0.585770\n",
      "1    0.809227  0.742117  0.624500  0.691961\n",
      "2    0.353455  0.529133  0.872035  0.552138\n",
      "3    0.495207  0.223515  0.347117  0.421074\n",
      "4    0.036373  0.659075  0.057765  0.197708\n",
      "..        ...       ...       ...       ...\n",
      "195  0.329611  0.289895  0.682163  0.070051\n",
      "196  0.543139  0.343285  0.435676  0.695428\n",
      "197  0.805791  0.695463  0.735588  0.421337\n",
      "198  0.336178  0.402260  0.450926  0.403519\n",
      "199  0.788435  0.716405  0.378997  0.775731\n",
      "\n",
      "[200 rows x 4 columns]\n"
     ]
    }
   ],
   "source": [
    "# Convierte en un DataFrame con columnas \"Área_1\"... \"Área_4\".\n",
    "df_fmri = pd.DataFrame(valores_fmri, columns=[f\"Área_{i}\" for i in range(1, 5)])\n",
    "print(df_fmri)"
   ]
  },
  {
   "cell_type": "code",
   "execution_count": 52,
   "id": "2adaecd6-0f84-4c32-aa39-ea3be6c86215",
   "metadata": {},
   "outputs": [
    {
     "name": "stdout",
     "output_type": "stream",
     "text": [
      "{('Área_1', 'Área_1'): np.float64(0.9999999999999998), ('Área_1', 'Área_2'): np.float64(-0.0489931767882783), ('Área_1', 'Área_3'): np.float64(0.007038739290245757), ('Área_1', 'Área_4'): np.float64(0.07907079512029117), ('Área_2', 'Área_1'): np.float64(-0.04899317678827831), ('Área_2', 'Área_2'): np.float64(0.9999999999999998), ('Área_2', 'Área_3'): np.float64(0.03286458093164859), ('Área_2', 'Área_4'): np.float64(0.053460960416473136), ('Área_3', 'Área_1'): np.float64(0.007038739290245757), ('Área_3', 'Área_2'): np.float64(0.03286458093164859), ('Área_3', 'Área_3'): np.float64(1.0), ('Área_3', 'Área_4'): np.float64(-0.0967661166292885), ('Área_4', 'Área_1'): np.float64(0.07907079512029117), ('Área_4', 'Área_2'): np.float64(0.053460960416473136), ('Área_4', 'Área_3'): np.float64(-0.0967661166292885), ('Área_4', 'Área_4'): np.float64(1.0)}\n"
     ]
    }
   ],
   "source": [
    "# Con un bucle, calcula la correlación de Pearson entre todas las parejas de áreas y guárdala en un diccionario con claves (Área_i, Área_j).\n",
    "correlaciones={}\n",
    "for i in df_fmri.columns:\n",
    "    for j in df_fmri.columns:\n",
    "        correlaciones[(i, j)] = np.corrcoef(df_fmri[i], df_fmri[j])[0, 1]\n",
    "\n",
    "print(correlaciones)"
   ]
  },
  {
   "cell_type": "code",
   "execution_count": 57,
   "id": "ed1777fd-562a-4961-8f1f-0ab56102b31e",
   "metadata": {},
   "outputs": [
    {
     "name": "stdout",
     "output_type": "stream",
     "text": [
      "          Área_1    Área_2    Área_3    Área_4\n",
      "Área_1  1.000000 -0.048993  0.007039  0.079071\n",
      "Área_2 -0.048993  1.000000  0.032865  0.053461\n",
      "Área_3  0.007039  0.032865  1.000000 -0.096766\n",
      "Área_4  0.079071  0.053461 -0.096766  1.000000\n"
     ]
    },
    {
     "name": "stderr",
     "output_type": "stream",
     "text": [
      "/var/folders/8s/75fs1dwj5zlc3_b_xqxztq3h0000gn/T/ipykernel_57876/3410623064.py:5: FutureWarning: Setting an item of incompatible dtype is deprecated and will raise an error in a future version of pandas. Value '0.9999999999999998' has dtype incompatible with int64, please explicitly cast to a compatible dtype first.\n",
      "  df_conectividad.loc[i, j] = valor\n",
      "/var/folders/8s/75fs1dwj5zlc3_b_xqxztq3h0000gn/T/ipykernel_57876/3410623064.py:5: FutureWarning: Setting an item of incompatible dtype is deprecated and will raise an error in a future version of pandas. Value '-0.0489931767882783' has dtype incompatible with int64, please explicitly cast to a compatible dtype first.\n",
      "  df_conectividad.loc[i, j] = valor\n",
      "/var/folders/8s/75fs1dwj5zlc3_b_xqxztq3h0000gn/T/ipykernel_57876/3410623064.py:5: FutureWarning: Setting an item of incompatible dtype is deprecated and will raise an error in a future version of pandas. Value '0.007038739290245757' has dtype incompatible with int64, please explicitly cast to a compatible dtype first.\n",
      "  df_conectividad.loc[i, j] = valor\n",
      "/var/folders/8s/75fs1dwj5zlc3_b_xqxztq3h0000gn/T/ipykernel_57876/3410623064.py:5: FutureWarning: Setting an item of incompatible dtype is deprecated and will raise an error in a future version of pandas. Value '0.07907079512029117' has dtype incompatible with int64, please explicitly cast to a compatible dtype first.\n",
      "  df_conectividad.loc[i, j] = valor\n"
     ]
    }
   ],
   "source": [
    "# Convierte el diccionario en un DataFrame cuadrado (matriz de conectividad).\n",
    "\n",
    "df_conectividad = pd.DataFrame(0, index=df_fmri.columns, columns=df_fmri.columns)\n",
    "for (i, j), valor in correlaciones.items():\n",
    "    df_conectividad.loc[i, j] = valor\n",
    "\n",
    "print(df_conectividad)\n"
   ]
  },
  {
   "cell_type": "markdown",
   "id": "148d5c58-1b03-467d-ab07-f76402f29cb1",
   "metadata": {},
   "source": [
    "# Potenciales de acción por neurona"
   ]
  },
  {
   "cell_type": "code",
   "execution_count": 64,
   "id": "3f48e567-86a5-4abb-a320-91616fc91a1d",
   "metadata": {},
   "outputs": [
    {
     "name": "stdout",
     "output_type": "stream",
     "text": [
      "['Neurona_1', 'Neurona_2', 'Neurona_3', 'Neurona_4', 'Neurona_5', 'Neurona_6', 'Neurona_7', 'Neurona_8', 'Neurona_9', 'Neurona_10', 'Neurona_11', 'Neurona_12', 'Neurona_13', 'Neurona_14', 'Neurona_15', 'Neurona_16', 'Neurona_17', 'Neurona_18', 'Neurona_19', 'Neurona_20', 'Neurona_21', 'Neurona_22', 'Neurona_23', 'Neurona_24', 'Neurona_25', 'Neurona_26', 'Neurona_27', 'Neurona_28', 'Neurona_29', 'Neurona_30', 'Neurona_31', 'Neurona_32', 'Neurona_33', 'Neurona_34', 'Neurona_35', 'Neurona_36', 'Neurona_37', 'Neurona_38', 'Neurona_39', 'Neurona_40', 'Neurona_41', 'Neurona_42', 'Neurona_43', 'Neurona_44', 'Neurona_45', 'Neurona_46', 'Neurona_47', 'Neurona_48', 'Neurona_49', 'Neurona_50']\n"
     ]
    }
   ],
   "source": [
    "# Genera una lista de 50 neuronas.\n",
    "\n",
    "numeros = list(range(1, 51))\n",
    "neurona_lista = [\"Neurona_\" + str(n) for n in numeros]\n",
    "\n",
    "print(neurona_lista)"
   ]
  },
  {
   "cell_type": "code",
   "execution_count": 63,
   "id": "282fd551-6005-4d60-a3e3-2bae3f50ad64",
   "metadata": {},
   "outputs": [
    {
     "name": "stdout",
     "output_type": "stream",
     "text": [
      "{'Neurona_1': array([0, 0, 1, 1, 1, 1, 1, 0, 1, 0, 0, 0, 0, 1, 1, 1, 1, 0, 0, 1, 1, 1,\n",
      "       0, 0, 1, 1, 1, 1, 1, 1, 1, 1, 1, 0, 0, 0, 0, 0, 0, 1, 0, 0, 0, 1,\n",
      "       1, 0, 0, 0, 0, 1, 0, 0, 1, 0, 0, 1, 1, 1, 1, 0, 0, 1, 0, 1, 1, 0,\n",
      "       0, 1, 0, 1, 1, 0, 0, 1, 0, 0, 1, 1, 1, 0, 0, 0, 0, 0, 1, 1, 0, 1,\n",
      "       1, 1, 1, 0, 0, 1, 1, 0, 1, 1, 0, 1]), 'Neurona_2': array([1, 1, 0, 1, 1, 1, 1, 0, 0, 0, 1, 1, 0, 0, 1, 1, 0, 0, 0, 1, 1, 1,\n",
      "       1, 0, 1, 0, 0, 1, 0, 0, 1, 1, 1, 0, 0, 1, 1, 0, 0, 1, 0, 0, 1, 0,\n",
      "       1, 0, 1, 0, 1, 1, 0, 1, 1, 0, 1, 1, 0, 0, 1, 0, 1, 1, 1, 1, 0, 0,\n",
      "       0, 0, 0, 0, 1, 0, 0, 0, 1, 0, 0, 1, 1, 0, 1, 1, 0, 1, 1, 1, 0, 1,\n",
      "       1, 0, 1, 1, 0, 0, 1, 1, 1, 0, 0, 1]), 'Neurona_3': array([0, 0, 0, 0, 1, 0, 1, 1, 1, 1, 1, 0, 1, 0, 0, 0, 1, 0, 1, 1, 1, 1,\n",
      "       1, 0, 0, 1, 0, 0, 1, 1, 1, 0, 1, 1, 1, 1, 0, 1, 0, 1, 1, 1, 1, 0,\n",
      "       1, 0, 1, 0, 1, 0, 0, 0, 1, 0, 0, 1, 1, 0, 1, 0, 0, 0, 0, 0, 1, 0,\n",
      "       1, 0, 1, 0, 1, 0, 0, 0, 0, 1, 1, 1, 0, 1, 1, 1, 1, 0, 0, 0, 1, 1,\n",
      "       1, 1, 0, 1, 0, 1, 1, 0, 1, 0, 1, 0]), 'Neurona_4': array([0, 0, 1, 0, 1, 0, 1, 1, 0, 0, 0, 0, 0, 0, 0, 0, 0, 0, 1, 0, 0, 0,\n",
      "       1, 1, 1, 0, 1, 1, 0, 0, 1, 0, 0, 0, 0, 0, 1, 0, 0, 0, 0, 1, 0, 1,\n",
      "       0, 0, 1, 0, 0, 1, 1, 0, 0, 0, 1, 1, 1, 0, 0, 0, 0, 1, 1, 0, 1, 1,\n",
      "       1, 0, 1, 0, 1, 1, 0, 0, 1, 1, 0, 0, 1, 1, 0, 1, 0, 1, 1, 0, 1, 1,\n",
      "       0, 1, 0, 1, 1, 0, 1, 0, 0, 1, 1, 1]), 'Neurona_5': array([0, 0, 0, 1, 1, 1, 1, 0, 0, 1, 1, 0, 0, 1, 1, 1, 1, 0, 1, 0, 0, 1,\n",
      "       1, 0, 0, 0, 1, 1, 1, 1, 1, 1, 1, 0, 0, 0, 1, 0, 0, 0, 1, 0, 0, 0,\n",
      "       1, 0, 0, 0, 1, 1, 1, 1, 0, 1, 0, 0, 1, 1, 1, 1, 1, 0, 1, 1, 1, 0,\n",
      "       0, 0, 0, 1, 0, 1, 1, 1, 1, 0, 0, 1, 0, 1, 1, 0, 1, 0, 1, 1, 1, 0,\n",
      "       0, 0, 0, 1, 1, 0, 0, 0, 0, 1, 1, 1]), 'Neurona_6': array([0, 0, 0, 0, 1, 0, 0, 1, 0, 0, 1, 1, 0, 1, 1, 0, 0, 0, 1, 0, 0, 0,\n",
      "       0, 0, 0, 1, 0, 1, 1, 0, 1, 0, 1, 1, 0, 0, 0, 0, 1, 0, 1, 1, 0, 1,\n",
      "       1, 0, 1, 1, 0, 1, 1, 0, 1, 0, 1, 1, 0, 1, 1, 0, 0, 0, 1, 1, 0, 0,\n",
      "       1, 0, 0, 0, 0, 1, 0, 1, 1, 0, 0, 0, 1, 0, 1, 0, 1, 0, 0, 1, 0, 0,\n",
      "       1, 1, 1, 0, 1, 0, 0, 1, 1, 1, 0, 0]), 'Neurona_7': array([1, 0, 1, 0, 0, 0, 0, 0, 0, 1, 0, 1, 1, 0, 1, 0, 0, 1, 1, 0, 0, 1,\n",
      "       1, 1, 1, 0, 0, 0, 1, 0, 1, 0, 0, 1, 1, 1, 1, 0, 1, 0, 0, 1, 0, 1,\n",
      "       1, 0, 0, 1, 1, 1, 0, 0, 1, 0, 1, 1, 0, 0, 0, 0, 1, 1, 0, 0, 1, 0,\n",
      "       1, 1, 1, 1, 1, 1, 1, 1, 1, 0, 0, 0, 0, 1, 0, 0, 0, 0, 1, 1, 1, 0,\n",
      "       0, 0, 1, 0, 1, 0, 1, 1, 1, 1, 1, 1]), 'Neurona_8': array([1, 1, 1, 1, 1, 1, 0, 1, 0, 0, 0, 0, 0, 0, 1, 1, 1, 1, 1, 0, 1, 0,\n",
      "       1, 1, 1, 0, 0, 0, 1, 0, 1, 1, 1, 0, 0, 1, 1, 0, 1, 0, 0, 1, 0, 0,\n",
      "       1, 1, 0, 1, 1, 0, 1, 0, 0, 0, 1, 0, 1, 1, 0, 0, 1, 1, 1, 0, 0, 1,\n",
      "       0, 1, 1, 1, 1, 0, 0, 0, 0, 0, 0, 1, 1, 0, 0, 1, 1, 0, 1, 0, 0, 1,\n",
      "       0, 1, 1, 0, 0, 1, 1, 1, 0, 1, 1, 0]), 'Neurona_9': array([1, 1, 1, 1, 0, 0, 0, 1, 0, 1, 1, 0, 0, 0, 0, 0, 1, 0, 0, 0, 1, 1,\n",
      "       1, 1, 1, 1, 0, 0, 1, 0, 0, 0, 0, 0, 1, 0, 1, 0, 1, 1, 0, 0, 0, 0,\n",
      "       1, 0, 0, 1, 1, 0, 0, 1, 0, 1, 0, 1, 1, 1, 0, 1, 1, 1, 0, 0, 1, 1,\n",
      "       0, 1, 0, 0, 1, 1, 0, 0, 0, 1, 1, 1, 0, 0, 1, 1, 0, 0, 1, 1, 0, 1,\n",
      "       0, 0, 1, 0, 1, 0, 1, 0, 1, 0, 0, 0]), 'Neurona_10': array([1, 1, 1, 1, 0, 1, 1, 1, 0, 0, 0, 1, 1, 0, 0, 0, 1, 1, 0, 0, 0, 0,\n",
      "       1, 1, 0, 1, 0, 1, 0, 1, 1, 0, 0, 0, 0, 0, 0, 1, 0, 0, 1, 0, 0, 0,\n",
      "       0, 1, 1, 0, 0, 1, 0, 0, 1, 1, 0, 0, 1, 0, 0, 1, 0, 1, 1, 1, 1, 0,\n",
      "       1, 1, 0, 0, 1, 1, 0, 0, 0, 1, 0, 1, 0, 0, 0, 0, 1, 1, 0, 1, 1, 1,\n",
      "       1, 1, 1, 0, 0, 0, 0, 0, 0, 1, 0, 1]), 'Neurona_11': array([0, 1, 1, 1, 0, 1, 1, 0, 1, 1, 0, 1, 0, 1, 0, 1, 0, 0, 1, 1, 1, 0,\n",
      "       0, 1, 0, 1, 0, 0, 1, 0, 1, 0, 0, 0, 0, 1, 0, 0, 0, 0, 1, 0, 1, 0,\n",
      "       0, 1, 0, 0, 0, 1, 0, 1, 1, 1, 1, 1, 0, 0, 1, 0, 1, 1, 0, 0, 1, 1,\n",
      "       0, 0, 1, 0, 0, 0, 0, 0, 1, 0, 0, 1, 0, 0, 0, 0, 0, 1, 1, 0, 1, 0,\n",
      "       1, 1, 0, 0, 0, 0, 1, 0, 0, 1, 0, 1]), 'Neurona_12': array([1, 0, 1, 0, 0, 1, 1, 1, 1, 0, 1, 0, 1, 0, 1, 0, 0, 1, 1, 1, 0, 0,\n",
      "       1, 0, 1, 0, 0, 1, 1, 1, 1, 0, 1, 0, 0, 1, 0, 1, 1, 1, 0, 0, 1, 1,\n",
      "       1, 1, 0, 1, 1, 1, 1, 0, 1, 1, 1, 0, 1, 0, 1, 1, 0, 1, 0, 1, 1, 1,\n",
      "       1, 0, 0, 0, 1, 1, 1, 1, 0, 1, 1, 0, 1, 1, 1, 0, 1, 1, 1, 0, 0, 0,\n",
      "       0, 0, 1, 1, 1, 0, 0, 1, 0, 0, 0, 1]), 'Neurona_13': array([0, 0, 1, 1, 1, 0, 0, 0, 1, 0, 1, 0, 1, 1, 0, 1, 0, 1, 1, 1, 1, 1,\n",
      "       0, 1, 0, 1, 0, 0, 0, 1, 1, 1, 0, 0, 0, 1, 0, 0, 1, 0, 1, 1, 1, 0,\n",
      "       0, 1, 1, 0, 0, 1, 0, 0, 1, 0, 0, 0, 1, 1, 1, 0, 1, 1, 1, 1, 1, 0,\n",
      "       0, 1, 0, 0, 1, 0, 0, 1, 1, 1, 0, 1, 0, 0, 0, 1, 0, 0, 1, 1, 1, 0,\n",
      "       1, 0, 0, 1, 1, 1, 0, 1, 0, 1, 0, 0]), 'Neurona_14': array([0, 0, 1, 0, 0, 1, 1, 1, 0, 0, 1, 1, 1, 1, 0, 0, 1, 0, 0, 0, 1, 1,\n",
      "       1, 1, 1, 1, 1, 1, 0, 1, 0, 0, 0, 0, 0, 1, 1, 1, 1, 1, 0, 0, 0, 1,\n",
      "       1, 0, 0, 1, 1, 0, 0, 0, 0, 1, 1, 0, 1, 1, 0, 1, 1, 0, 1, 0, 0, 1,\n",
      "       0, 1, 1, 1, 0, 1, 1, 0, 1, 0, 1, 0, 0, 1, 0, 1, 0, 1, 1, 0, 1, 0,\n",
      "       1, 0, 0, 0, 1, 1, 1, 1, 1, 0, 0, 1]), 'Neurona_15': array([1, 1, 1, 1, 0, 0, 0, 0, 1, 1, 0, 1, 0, 0, 1, 0, 0, 0, 1, 1, 0, 1,\n",
      "       0, 0, 0, 0, 1, 0, 1, 0, 1, 0, 0, 0, 0, 1, 0, 0, 1, 0, 1, 0, 0, 1,\n",
      "       1, 0, 1, 0, 0, 1, 0, 1, 0, 1, 1, 1, 0, 0, 0, 0, 0, 1, 1, 0, 0, 1,\n",
      "       1, 1, 0, 1, 1, 0, 1, 1, 1, 0, 0, 1, 0, 1, 0, 0, 0, 0, 0, 1, 1, 0,\n",
      "       1, 0, 1, 1, 1, 0, 0, 0, 1, 1, 0, 1]), 'Neurona_16': array([1, 0, 1, 0, 1, 0, 0, 0, 0, 0, 1, 0, 0, 1, 1, 1, 1, 1, 1, 0, 1, 0,\n",
      "       1, 1, 0, 1, 1, 0, 0, 1, 1, 0, 1, 0, 0, 1, 1, 0, 1, 0, 1, 1, 1, 0,\n",
      "       0, 1, 1, 1, 0, 0, 0, 0, 1, 1, 1, 0, 0, 1, 1, 1, 1, 1, 0, 0, 0, 1,\n",
      "       0, 0, 0, 0, 0, 0, 0, 0, 0, 1, 1, 0, 0, 0, 0, 1, 0, 1, 0, 1, 1, 1,\n",
      "       0, 1, 1, 1, 0, 1, 1, 0, 1, 1, 1, 0]), 'Neurona_17': array([1, 1, 0, 0, 0, 0, 1, 0, 1, 1, 0, 0, 1, 0, 1, 0, 0, 0, 0, 0, 0, 1,\n",
      "       0, 1, 1, 1, 1, 0, 1, 0, 1, 0, 0, 0, 0, 1, 1, 0, 1, 0, 0, 1, 1, 0,\n",
      "       1, 0, 0, 1, 1, 1, 0, 0, 0, 0, 0, 1, 1, 0, 0, 0, 0, 0, 1, 1, 1, 1,\n",
      "       1, 0, 1, 0, 1, 1, 0, 0, 0, 1, 0, 1, 1, 0, 1, 0, 1, 0, 0, 1, 1, 0,\n",
      "       1, 0, 0, 1, 0, 0, 0, 0, 0, 1, 1, 0]), 'Neurona_18': array([1, 0, 0, 1, 1, 1, 1, 1, 1, 0, 1, 1, 1, 1, 1, 0, 0, 1, 1, 1, 0, 0,\n",
      "       0, 1, 0, 1, 1, 1, 1, 0, 1, 1, 0, 1, 1, 1, 1, 1, 0, 0, 1, 1, 1, 1,\n",
      "       1, 0, 0, 0, 1, 1, 1, 0, 1, 1, 0, 0, 1, 1, 0, 0, 0, 1, 0, 0, 1, 0,\n",
      "       0, 0, 0, 1, 0, 1, 1, 1, 1, 0, 1, 0, 1, 1, 1, 1, 1, 1, 0, 1, 0, 1,\n",
      "       1, 0, 1, 0, 0, 0, 1, 0, 1, 1, 0, 1]), 'Neurona_19': array([1, 0, 0, 1, 0, 0, 0, 0, 1, 1, 1, 0, 0, 1, 1, 1, 1, 1, 0, 0, 0, 0,\n",
      "       1, 0, 1, 0, 1, 1, 0, 0, 0, 0, 1, 1, 1, 1, 1, 0, 0, 0, 1, 1, 1, 1,\n",
      "       0, 0, 0, 0, 0, 0, 1, 0, 1, 1, 1, 1, 1, 0, 1, 1, 1, 1, 0, 0, 0, 1,\n",
      "       0, 0, 0, 0, 1, 1, 1, 1, 1, 1, 0, 1, 1, 0, 1, 1, 0, 1, 0, 1, 1, 0,\n",
      "       0, 0, 1, 1, 1, 0, 0, 1, 0, 1, 1, 1]), 'Neurona_20': array([0, 1, 1, 1, 1, 1, 0, 0, 1, 0, 1, 0, 0, 1, 1, 1, 1, 1, 1, 1, 0, 1,\n",
      "       1, 1, 0, 0, 0, 0, 0, 1, 1, 0, 1, 0, 0, 0, 1, 1, 1, 0, 0, 0, 0, 0,\n",
      "       1, 0, 0, 1, 0, 0, 1, 0, 0, 0, 0, 1, 0, 0, 0, 1, 0, 0, 1, 1, 1, 0,\n",
      "       1, 1, 1, 1, 1, 1, 1, 1, 1, 0, 1, 0, 1, 1, 0, 1, 1, 1, 1, 0, 0, 0,\n",
      "       1, 0, 1, 1, 0, 1, 1, 1, 0, 0, 1, 1]), 'Neurona_21': array([1, 0, 1, 0, 0, 1, 0, 1, 1, 1, 1, 1, 1, 0, 0, 0, 0, 1, 1, 0, 0, 0,\n",
      "       0, 0, 0, 0, 1, 0, 1, 0, 0, 0, 0, 0, 0, 0, 1, 1, 0, 0, 0, 1, 0, 1,\n",
      "       0, 1, 0, 1, 1, 0, 0, 1, 1, 0, 0, 1, 1, 0, 0, 0, 0, 1, 0, 1, 0, 1,\n",
      "       0, 0, 1, 0, 0, 0, 0, 1, 0, 0, 1, 0, 1, 0, 0, 0, 1, 0, 0, 1, 1, 1,\n",
      "       0, 0, 1, 1, 1, 1, 0, 1, 1, 1, 1, 0]), 'Neurona_22': array([1, 0, 1, 1, 0, 0, 1, 1, 1, 1, 0, 0, 0, 1, 1, 0, 1, 1, 0, 0, 1, 1,\n",
      "       1, 0, 1, 0, 0, 0, 1, 0, 0, 1, 1, 1, 1, 0, 0, 0, 0, 0, 1, 0, 0, 0,\n",
      "       1, 1, 0, 1, 0, 0, 1, 0, 0, 1, 1, 0, 0, 1, 0, 0, 1, 0, 1, 0, 0, 0,\n",
      "       1, 0, 1, 1, 1, 0, 1, 1, 1, 1, 0, 0, 1, 0, 0, 0, 0, 0, 1, 0, 1, 1,\n",
      "       0, 1, 1, 1, 0, 1, 1, 0, 1, 0, 0, 0]), 'Neurona_23': array([0, 1, 1, 0, 1, 1, 0, 1, 0, 0, 0, 0, 0, 0, 1, 1, 1, 1, 1, 1, 0, 1,\n",
      "       0, 0, 1, 0, 0, 0, 0, 1, 0, 0, 0, 0, 1, 1, 1, 1, 0, 1, 1, 0, 0, 1,\n",
      "       1, 0, 0, 0, 0, 0, 1, 1, 0, 1, 1, 0, 1, 0, 1, 0, 1, 1, 1, 1, 0, 1,\n",
      "       0, 1, 1, 0, 0, 1, 0, 1, 1, 1, 1, 0, 0, 0, 0, 1, 0, 1, 1, 0, 0, 0,\n",
      "       0, 0, 0, 0, 1, 0, 0, 0, 0, 0, 0, 0]), 'Neurona_24': array([1, 1, 0, 0, 0, 0, 0, 0, 1, 1, 0, 1, 0, 0, 0, 0, 1, 0, 1, 1, 0, 0,\n",
      "       0, 0, 1, 1, 0, 0, 1, 1, 1, 1, 0, 1, 0, 1, 0, 1, 0, 0, 1, 1, 0, 0,\n",
      "       1, 0, 0, 0, 1, 1, 1, 0, 0, 0, 1, 0, 0, 0, 1, 1, 1, 1, 1, 0, 0, 1,\n",
      "       0, 0, 1, 1, 0, 0, 0, 1, 0, 0, 1, 1, 0, 0, 1, 1, 1, 0, 0, 1, 0, 0,\n",
      "       1, 1, 1, 1, 1, 1, 1, 1, 1, 0, 1, 0]), 'Neurona_25': array([1, 0, 0, 0, 1, 1, 0, 0, 0, 1, 0, 1, 0, 1, 1, 1, 1, 0, 1, 0, 0, 1,\n",
      "       0, 0, 0, 0, 0, 1, 0, 0, 0, 0, 1, 0, 1, 0, 1, 1, 0, 1, 0, 0, 1, 0,\n",
      "       1, 1, 0, 0, 1, 0, 0, 0, 1, 1, 1, 1, 1, 1, 1, 0, 0, 0, 0, 1, 1, 1,\n",
      "       0, 1, 1, 0, 1, 1, 1, 1, 0, 0, 1, 0, 1, 0, 0, 1, 1, 1, 1, 0, 0, 0,\n",
      "       0, 0, 1, 1, 1, 0, 0, 0, 1, 1, 1, 1]), 'Neurona_26': array([0, 1, 0, 1, 1, 0, 0, 1, 1, 1, 0, 0, 1, 0, 0, 0, 1, 1, 0, 1, 1, 1,\n",
      "       0, 1, 0, 0, 1, 0, 0, 1, 1, 1, 1, 0, 1, 0, 0, 0, 0, 0, 0, 1, 0, 0,\n",
      "       1, 0, 1, 0, 1, 1, 1, 1, 0, 0, 0, 0, 1, 1, 1, 1, 1, 1, 0, 1, 0, 1,\n",
      "       0, 1, 0, 0, 0, 1, 0, 0, 1, 0, 1, 1, 1, 0, 0, 0, 0, 0, 1, 1, 0, 0,\n",
      "       0, 1, 1, 0, 0, 0, 1, 1, 0, 1, 1, 0]), 'Neurona_27': array([1, 1, 0, 1, 0, 0, 1, 1, 0, 1, 1, 0, 1, 1, 0, 1, 1, 0, 0, 1, 1, 0,\n",
      "       0, 1, 1, 1, 1, 1, 0, 1, 1, 1, 1, 0, 1, 1, 0, 0, 0, 0, 1, 0, 1, 1,\n",
      "       1, 1, 0, 0, 1, 0, 0, 0, 1, 0, 0, 1, 1, 0, 1, 0, 1, 1, 0, 0, 0, 0,\n",
      "       1, 1, 0, 0, 1, 1, 1, 1, 1, 0, 0, 0, 1, 1, 1, 0, 0, 0, 0, 1, 0, 0,\n",
      "       0, 1, 0, 0, 1, 0, 1, 1, 1, 1, 0, 0]), 'Neurona_28': array([0, 1, 0, 1, 1, 1, 0, 0, 0, 0, 0, 0, 0, 0, 1, 0, 0, 0, 0, 0, 0, 0,\n",
      "       1, 1, 0, 0, 0, 0, 1, 0, 0, 0, 0, 1, 0, 1, 0, 1, 0, 1, 0, 1, 0, 0,\n",
      "       0, 1, 0, 1, 1, 1, 0, 0, 0, 0, 1, 0, 0, 1, 0, 1, 0, 0, 0, 0, 1, 0,\n",
      "       1, 1, 1, 0, 1, 0, 0, 1, 0, 0, 0, 0, 1, 0, 0, 1, 0, 1, 0, 1, 1, 1,\n",
      "       1, 0, 1, 0, 0, 0, 1, 0, 0, 1, 1, 0]), 'Neurona_29': array([1, 1, 1, 1, 0, 0, 0, 0, 1, 0, 1, 0, 1, 1, 1, 0, 1, 0, 0, 0, 1, 1,\n",
      "       1, 1, 1, 0, 1, 0, 1, 0, 0, 0, 1, 1, 0, 1, 0, 0, 0, 0, 0, 1, 0, 0,\n",
      "       0, 1, 0, 0, 0, 0, 0, 1, 1, 0, 1, 1, 0, 0, 0, 1, 1, 1, 0, 1, 0, 0,\n",
      "       0, 0, 0, 1, 0, 1, 0, 0, 1, 1, 1, 0, 1, 1, 1, 0, 0, 0, 1, 1, 1, 1,\n",
      "       0, 0, 0, 0, 0, 1, 1, 1, 0, 0, 0, 0]), 'Neurona_30': array([1, 0, 1, 0, 0, 1, 0, 1, 0, 0, 0, 0, 1, 0, 1, 1, 1, 0, 0, 1, 1, 1,\n",
      "       0, 1, 0, 0, 0, 1, 1, 1, 0, 1, 0, 1, 1, 0, 1, 0, 0, 0, 0, 1, 1, 1,\n",
      "       0, 1, 0, 1, 0, 0, 1, 1, 0, 1, 0, 0, 1, 0, 1, 1, 0, 1, 1, 1, 0, 0,\n",
      "       1, 1, 1, 1, 1, 1, 1, 1, 0, 0, 1, 1, 1, 1, 1, 0, 0, 1, 1, 0, 0, 1,\n",
      "       1, 1, 1, 1, 1, 1, 0, 0, 0, 1, 1, 0]), 'Neurona_31': array([1, 1, 1, 0, 0, 1, 1, 0, 1, 0, 1, 1, 0, 1, 1, 0, 0, 0, 1, 1, 1, 0,\n",
      "       0, 1, 1, 1, 1, 1, 1, 1, 1, 1, 1, 1, 1, 0, 1, 0, 0, 0, 0, 1, 1, 0,\n",
      "       0, 1, 1, 1, 1, 0, 0, 1, 1, 1, 0, 0, 1, 0, 1, 0, 0, 0, 1, 0, 1, 0,\n",
      "       1, 0, 1, 0, 1, 1, 0, 1, 0, 0, 1, 0, 1, 1, 1, 0, 0, 1, 0, 1, 0, 1,\n",
      "       1, 1, 1, 0, 0, 1, 0, 1, 0, 1, 0, 1]), 'Neurona_32': array([0, 1, 1, 0, 1, 0, 1, 0, 1, 1, 0, 0, 1, 1, 0, 0, 0, 0, 1, 0, 0, 0,\n",
      "       1, 0, 0, 1, 1, 0, 1, 0, 1, 0, 0, 1, 0, 0, 1, 1, 1, 1, 0, 0, 0, 1,\n",
      "       0, 1, 1, 0, 0, 0, 0, 1, 1, 0, 1, 0, 1, 0, 1, 1, 1, 0, 0, 1, 0, 0,\n",
      "       0, 0, 1, 0, 1, 0, 1, 1, 1, 1, 1, 0, 1, 1, 1, 1, 1, 1, 1, 0, 0, 0,\n",
      "       1, 0, 1, 1, 0, 0, 0, 1, 1, 1, 0, 1]), 'Neurona_33': array([1, 0, 0, 0, 1, 1, 1, 0, 1, 0, 0, 1, 0, 0, 1, 0, 0, 0, 1, 1, 1, 1,\n",
      "       0, 1, 1, 0, 1, 0, 1, 0, 0, 0, 0, 0, 1, 0, 0, 0, 0, 0, 0, 1, 1, 0,\n",
      "       0, 0, 0, 0, 0, 1, 1, 1, 0, 1, 0, 0, 1, 0, 0, 0, 1, 0, 1, 0, 1, 1,\n",
      "       0, 0, 0, 1, 1, 0, 1, 0, 1, 1, 1, 0, 0, 1, 0, 1, 0, 1, 0, 1, 1, 0,\n",
      "       1, 1, 0, 1, 0, 1, 0, 1, 1, 1, 0, 0]), 'Neurona_34': array([1, 0, 0, 0, 0, 0, 0, 0, 1, 0, 1, 1, 1, 0, 1, 0, 1, 0, 1, 1, 0, 1,\n",
      "       1, 0, 1, 1, 0, 0, 0, 1, 0, 1, 1, 1, 1, 0, 1, 1, 1, 0, 1, 1, 1, 0,\n",
      "       1, 1, 0, 0, 1, 0, 1, 1, 0, 1, 1, 0, 1, 1, 0, 0, 0, 0, 0, 0, 1, 0,\n",
      "       0, 1, 0, 0, 0, 0, 0, 0, 0, 1, 0, 1, 0, 0, 0, 1, 1, 1, 1, 0, 0, 0,\n",
      "       1, 0, 1, 1, 1, 1, 0, 0, 0, 1, 0, 1]), 'Neurona_35': array([0, 1, 1, 0, 1, 0, 1, 0, 0, 1, 1, 0, 0, 0, 0, 1, 1, 0, 0, 0, 0, 0,\n",
      "       1, 0, 1, 1, 1, 0, 0, 1, 0, 1, 0, 0, 1, 0, 0, 0, 0, 1, 0, 1, 0, 1,\n",
      "       1, 0, 0, 0, 1, 1, 1, 0, 1, 0, 1, 0, 0, 0, 1, 0, 1, 0, 0, 0, 0, 0,\n",
      "       1, 0, 1, 1, 1, 1, 0, 1, 1, 1, 1, 0, 1, 0, 0, 0, 1, 1, 0, 0, 1, 1,\n",
      "       1, 1, 1, 1, 0, 1, 0, 0, 1, 0, 1, 0]), 'Neurona_36': array([0, 0, 1, 1, 0, 1, 0, 0, 0, 0, 0, 0, 1, 1, 1, 0, 0, 1, 1, 0, 1, 1,\n",
      "       1, 1, 1, 0, 1, 1, 1, 0, 1, 1, 1, 1, 0, 0, 1, 0, 0, 0, 1, 0, 0, 1,\n",
      "       1, 0, 0, 0, 1, 0, 1, 1, 0, 0, 1, 1, 0, 1, 1, 0, 1, 1, 0, 1, 0, 0,\n",
      "       1, 1, 1, 1, 1, 1, 1, 0, 1, 0, 0, 0, 1, 1, 1, 0, 0, 0, 1, 1, 0, 1,\n",
      "       0, 1, 1, 1, 0, 1, 1, 0, 1, 0, 1, 0]), 'Neurona_37': array([1, 0, 0, 0, 0, 0, 1, 0, 0, 0, 0, 1, 0, 1, 1, 1, 0, 0, 0, 1, 0, 0,\n",
      "       1, 0, 0, 1, 1, 1, 0, 1, 1, 0, 0, 1, 1, 1, 1, 1, 0, 0, 0, 1, 0, 0,\n",
      "       0, 1, 1, 1, 1, 1, 0, 0, 1, 1, 1, 0, 0, 0, 0, 1, 1, 1, 0, 0, 1, 1,\n",
      "       0, 1, 1, 0, 0, 1, 1, 1, 0, 1, 1, 0, 0, 0, 0, 1, 1, 0, 1, 0, 0, 1,\n",
      "       0, 1, 1, 0, 1, 1, 1, 1, 0, 1, 1, 1]), 'Neurona_38': array([0, 1, 1, 1, 0, 0, 0, 0, 0, 1, 0, 0, 0, 1, 0, 1, 0, 1, 0, 1, 0, 0,\n",
      "       0, 1, 0, 1, 1, 0, 1, 0, 1, 1, 0, 1, 0, 1, 1, 1, 0, 1, 0, 0, 1, 1,\n",
      "       0, 0, 0, 0, 0, 0, 1, 0, 1, 0, 1, 1, 0, 0, 1, 0, 0, 1, 0, 1, 0, 1,\n",
      "       0, 0, 1, 1, 0, 0, 1, 0, 0, 0, 1, 0, 0, 0, 1, 0, 1, 0, 0, 0, 0, 1,\n",
      "       1, 1, 1, 0, 0, 0, 0, 1, 0, 0, 1, 1]), 'Neurona_39': array([0, 1, 0, 1, 0, 0, 0, 0, 1, 0, 1, 1, 0, 1, 0, 0, 0, 1, 1, 0, 0, 0,\n",
      "       1, 0, 1, 1, 0, 0, 1, 1, 0, 1, 1, 1, 0, 1, 0, 1, 1, 1, 1, 0, 0, 1,\n",
      "       0, 1, 1, 0, 1, 0, 0, 0, 0, 1, 1, 1, 1, 1, 0, 1, 0, 1, 0, 0, 1, 0,\n",
      "       1, 1, 0, 0, 0, 1, 1, 1, 1, 1, 1, 0, 1, 1, 0, 0, 0, 0, 0, 1, 1, 0,\n",
      "       0, 0, 1, 1, 1, 0, 1, 1, 1, 0, 0, 0]), 'Neurona_40': array([1, 1, 1, 1, 0, 1, 1, 1, 1, 0, 1, 1, 0, 0, 1, 0, 0, 1, 1, 1, 0, 1,\n",
      "       1, 1, 1, 0, 1, 1, 1, 1, 0, 1, 0, 0, 0, 1, 0, 0, 1, 0, 1, 1, 1, 0,\n",
      "       0, 0, 1, 1, 0, 1, 1, 0, 1, 0, 1, 0, 1, 1, 1, 0, 1, 0, 0, 1, 0, 0,\n",
      "       0, 1, 0, 0, 1, 1, 0, 0, 1, 0, 0, 1, 0, 1, 0, 1, 1, 1, 1, 0, 0, 0,\n",
      "       1, 0, 0, 0, 0, 1, 0, 0, 0, 1, 1, 0]), 'Neurona_41': array([0, 1, 1, 1, 0, 0, 0, 0, 0, 1, 0, 0, 1, 1, 0, 1, 0, 0, 1, 1, 1, 1,\n",
      "       0, 0, 0, 1, 0, 1, 0, 1, 0, 0, 1, 1, 0, 0, 1, 0, 0, 1, 1, 1, 0, 0,\n",
      "       1, 1, 0, 0, 1, 1, 0, 0, 0, 0, 0, 0, 0, 0, 0, 1, 0, 1, 1, 1, 1, 0,\n",
      "       0, 1, 0, 1, 0, 0, 0, 0, 0, 0, 1, 0, 0, 0, 0, 0, 0, 0, 0, 1, 1, 0,\n",
      "       1, 1, 0, 1, 0, 0, 0, 0, 0, 0, 1, 1]), 'Neurona_42': array([1, 1, 0, 1, 0, 0, 0, 0, 1, 0, 0, 0, 0, 1, 1, 1, 0, 1, 0, 1, 0, 0,\n",
      "       0, 1, 1, 1, 1, 1, 0, 1, 0, 0, 1, 1, 0, 0, 1, 0, 0, 0, 1, 1, 1, 0,\n",
      "       1, 0, 1, 0, 1, 0, 0, 0, 1, 1, 0, 0, 1, 0, 1, 0, 1, 1, 0, 1, 1, 0,\n",
      "       0, 1, 0, 0, 0, 1, 0, 0, 1, 0, 0, 0, 1, 1, 0, 0, 0, 0, 0, 0, 1, 1,\n",
      "       1, 0, 0, 0, 0, 1, 0, 0, 0, 0, 0, 0]), 'Neurona_43': array([0, 1, 0, 0, 0, 0, 1, 1, 1, 1, 0, 0, 1, 1, 0, 1, 1, 1, 1, 1, 0, 0,\n",
      "       0, 1, 1, 0, 0, 0, 0, 1, 0, 1, 1, 0, 1, 1, 0, 1, 1, 1, 0, 1, 0, 1,\n",
      "       0, 0, 0, 1, 1, 0, 0, 0, 1, 0, 1, 0, 0, 0, 0, 0, 0, 1, 1, 1, 1, 0,\n",
      "       1, 1, 1, 0, 0, 0, 0, 1, 0, 1, 1, 1, 1, 1, 0, 0, 1, 1, 0, 1, 1, 0,\n",
      "       0, 0, 1, 1, 1, 1, 1, 0, 1, 1, 0, 0]), 'Neurona_44': array([1, 1, 1, 1, 1, 1, 0, 0, 0, 0, 0, 0, 0, 1, 1, 1, 1, 1, 0, 1, 1, 1,\n",
      "       0, 1, 1, 0, 0, 1, 1, 1, 0, 0, 0, 0, 1, 0, 1, 1, 1, 0, 1, 0, 0, 1,\n",
      "       0, 0, 0, 0, 0, 1, 1, 0, 1, 1, 0, 0, 0, 1, 1, 0, 1, 1, 1, 0, 0, 1,\n",
      "       0, 0, 0, 1, 0, 1, 1, 0, 0, 1, 0, 0, 0, 0, 1, 1, 1, 1, 0, 1, 1, 1,\n",
      "       1, 0, 1, 0, 1, 0, 0, 0, 0, 1, 0, 1]), 'Neurona_45': array([0, 0, 1, 1, 1, 1, 0, 0, 1, 1, 1, 0, 1, 1, 0, 1, 0, 0, 0, 1, 1, 1,\n",
      "       0, 0, 1, 1, 0, 1, 1, 1, 0, 1, 0, 0, 0, 0, 0, 1, 1, 0, 1, 0, 1, 0,\n",
      "       0, 1, 0, 0, 0, 0, 0, 0, 0, 1, 1, 0, 0, 1, 0, 1, 0, 1, 0, 0, 1, 0,\n",
      "       1, 1, 1, 1, 0, 1, 1, 0, 0, 1, 1, 0, 1, 1, 0, 0, 0, 0, 1, 0, 1, 0,\n",
      "       1, 1, 0, 0, 1, 1, 1, 1, 1, 1, 0, 0]), 'Neurona_46': array([1, 1, 0, 0, 1, 0, 0, 0, 0, 1, 0, 1, 0, 0, 0, 0, 0, 0, 0, 0, 1, 0,\n",
      "       1, 0, 1, 0, 1, 0, 0, 1, 0, 1, 1, 1, 0, 1, 1, 1, 0, 0, 0, 1, 1, 1,\n",
      "       1, 0, 0, 1, 1, 0, 1, 1, 0, 1, 1, 0, 1, 0, 1, 0, 0, 0, 0, 0, 1, 1,\n",
      "       1, 0, 1, 1, 1, 1, 0, 1, 0, 1, 1, 0, 1, 0, 1, 1, 0, 1, 0, 0, 1, 1,\n",
      "       0, 0, 1, 1, 0, 0, 0, 0, 1, 1, 1, 1]), 'Neurona_47': array([0, 1, 1, 0, 1, 0, 1, 0, 0, 1, 1, 0, 0, 1, 0, 0, 0, 1, 0, 1, 1, 0,\n",
      "       0, 0, 0, 0, 0, 1, 1, 1, 0, 0, 0, 0, 0, 0, 0, 0, 0, 1, 1, 0, 1, 0,\n",
      "       1, 1, 1, 1, 0, 1, 0, 1, 0, 0, 0, 0, 1, 1, 0, 0, 0, 0, 1, 0, 0, 1,\n",
      "       0, 0, 1, 0, 1, 1, 0, 1, 1, 0, 0, 1, 0, 0, 0, 0, 0, 1, 1, 0, 1, 0,\n",
      "       1, 1, 1, 1, 1, 1, 0, 1, 0, 0, 1, 0]), 'Neurona_48': array([1, 1, 0, 1, 0, 1, 0, 1, 1, 1, 1, 0, 1, 1, 0, 1, 0, 1, 0, 1, 1, 0,\n",
      "       0, 0, 1, 0, 1, 1, 0, 1, 0, 0, 0, 0, 1, 0, 0, 1, 1, 0, 0, 1, 1, 0,\n",
      "       0, 1, 1, 1, 1, 1, 0, 0, 1, 0, 0, 0, 1, 0, 1, 0, 0, 1, 0, 1, 1, 1,\n",
      "       1, 0, 1, 0, 1, 0, 1, 0, 1, 0, 0, 0, 1, 1, 1, 0, 0, 0, 0, 0, 0, 0,\n",
      "       1, 0, 1, 0, 1, 0, 1, 0, 1, 1, 0, 0]), 'Neurona_49': array([0, 1, 1, 1, 1, 1, 1, 1, 0, 0, 0, 0, 0, 0, 1, 1, 1, 0, 0, 0, 1, 0,\n",
      "       0, 0, 0, 1, 1, 0, 1, 1, 1, 0, 1, 1, 0, 0, 1, 0, 0, 0, 0, 0, 1, 1,\n",
      "       1, 1, 0, 0, 0, 0, 1, 1, 1, 1, 0, 0, 0, 0, 1, 0, 0, 0, 0, 0, 0, 1,\n",
      "       0, 0, 0, 1, 1, 0, 0, 1, 1, 1, 0, 0, 1, 0, 1, 1, 1, 1, 0, 1, 1, 0,\n",
      "       0, 1, 0, 1, 1, 1, 0, 0, 1, 1, 0, 1]), 'Neurona_50': array([1, 1, 1, 1, 0, 1, 1, 1, 1, 0, 1, 0, 0, 0, 1, 1, 1, 1, 0, 1, 0, 1,\n",
      "       0, 1, 1, 0, 1, 1, 1, 1, 1, 0, 1, 0, 0, 0, 0, 0, 0, 0, 1, 1, 1, 0,\n",
      "       0, 0, 1, 1, 1, 0, 1, 0, 1, 1, 0, 1, 0, 0, 0, 0, 0, 1, 1, 0, 0, 1,\n",
      "       0, 1, 1, 1, 0, 0, 0, 1, 1, 0, 1, 1, 0, 1, 0, 0, 1, 0, 1, 0, 1, 0,\n",
      "       0, 1, 1, 0, 0, 1, 0, 0, 1, 0, 0, 0])}\n"
     ]
    }
   ],
   "source": [
    "actividad = {neurona: np.random.randint(0, 2, size=100) for neurona in neurona_lista}\n",
    "print(actividad)"
   ]
  },
  {
   "cell_type": "code",
   "execution_count": 67,
   "id": "42f4fa70-ed71-4b2c-bd56-c92b0ef9be3e",
   "metadata": {},
   "outputs": [
    {
     "name": "stdout",
     "output_type": "stream",
     "text": [
      "            0   1   2   3   4   5   6   7   8   9   ...  90  91  92  93  94  \\\n",
      "Neurona_1    0   0   1   1   1   1   1   0   1   0  ...   1   0   0   1   1   \n",
      "Neurona_2    1   1   0   1   1   1   1   0   0   0  ...   1   1   0   0   1   \n",
      "Neurona_3    0   0   0   0   1   0   1   1   1   1  ...   0   1   0   1   1   \n",
      "Neurona_4    0   0   1   0   1   0   1   1   0   0  ...   0   1   1   0   1   \n",
      "Neurona_5    0   0   0   1   1   1   1   0   0   1  ...   0   1   1   0   0   \n",
      "Neurona_6    0   0   0   0   1   0   0   1   0   0  ...   1   0   1   0   0   \n",
      "Neurona_7    1   0   1   0   0   0   0   0   0   1  ...   1   0   1   0   1   \n",
      "Neurona_8    1   1   1   1   1   1   0   1   0   0  ...   1   0   0   1   1   \n",
      "Neurona_9    1   1   1   1   0   0   0   1   0   1  ...   1   0   1   0   1   \n",
      "Neurona_10   1   1   1   1   0   1   1   1   0   0  ...   1   0   0   0   0   \n",
      "Neurona_11   0   1   1   1   0   1   1   0   1   1  ...   0   0   0   0   1   \n",
      "Neurona_12   1   0   1   0   0   1   1   1   1   0  ...   1   1   1   0   0   \n",
      "Neurona_13   0   0   1   1   1   0   0   0   1   0  ...   0   1   1   1   0   \n",
      "Neurona_14   0   0   1   0   0   1   1   1   0   0  ...   0   0   1   1   1   \n",
      "Neurona_15   1   1   1   1   0   0   0   0   1   1  ...   1   1   1   0   0   \n",
      "Neurona_16   1   0   1   0   1   0   0   0   0   0  ...   1   1   0   1   1   \n",
      "Neurona_17   1   1   0   0   0   0   1   0   1   1  ...   0   1   0   0   0   \n",
      "Neurona_18   1   0   0   1   1   1   1   1   1   0  ...   1   0   0   0   1   \n",
      "Neurona_19   1   0   0   1   0   0   0   0   1   1  ...   1   1   1   0   0   \n",
      "Neurona_20   0   1   1   1   1   1   0   0   1   0  ...   1   1   0   1   1   \n",
      "Neurona_21   1   0   1   0   0   1   0   1   1   1  ...   1   1   1   1   0   \n",
      "Neurona_22   1   0   1   1   0   0   1   1   1   1  ...   1   1   0   1   1   \n",
      "Neurona_23   0   1   1   0   1   1   0   1   0   0  ...   0   0   1   0   0   \n",
      "Neurona_24   1   1   0   0   0   0   0   0   1   1  ...   1   1   1   1   1   \n",
      "Neurona_25   1   0   0   0   1   1   0   0   0   1  ...   1   1   1   0   0   \n",
      "Neurona_26   0   1   0   1   1   0   0   1   1   1  ...   1   0   0   0   1   \n",
      "Neurona_27   1   1   0   1   0   0   1   1   0   1  ...   0   0   1   0   1   \n",
      "Neurona_28   0   1   0   1   1   1   0   0   0   0  ...   1   0   0   0   1   \n",
      "Neurona_29   1   1   1   1   0   0   0   0   1   0  ...   0   0   0   1   1   \n",
      "Neurona_30   1   0   1   0   0   1   0   1   0   0  ...   1   1   1   1   0   \n",
      "Neurona_31   1   1   1   0   0   1   1   0   1   0  ...   1   0   0   1   0   \n",
      "Neurona_32   0   1   1   0   1   0   1   0   1   1  ...   1   1   0   0   0   \n",
      "Neurona_33   1   0   0   0   1   1   1   0   1   0  ...   0   1   0   1   0   \n",
      "Neurona_34   1   0   0   0   0   0   0   0   1   0  ...   1   1   1   1   0   \n",
      "Neurona_35   0   1   1   0   1   0   1   0   0   1  ...   1   1   0   1   0   \n",
      "Neurona_36   0   0   1   1   0   1   0   0   0   0  ...   1   1   0   1   1   \n",
      "Neurona_37   1   0   0   0   0   0   1   0   0   0  ...   1   0   1   1   1   \n",
      "Neurona_38   0   1   1   1   0   0   0   0   0   1  ...   1   0   0   0   0   \n",
      "Neurona_39   0   1   0   1   0   0   0   0   1   0  ...   1   1   1   0   1   \n",
      "Neurona_40   1   1   1   1   0   1   1   1   1   0  ...   0   0   0   1   0   \n",
      "Neurona_41   0   1   1   1   0   0   0   0   0   1  ...   0   1   0   0   0   \n",
      "Neurona_42   1   1   0   1   0   0   0   0   1   0  ...   0   0   0   1   0   \n",
      "Neurona_43   0   1   0   0   0   0   1   1   1   1  ...   1   1   1   1   1   \n",
      "Neurona_44   1   1   1   1   1   1   0   0   0   0  ...   1   0   1   0   0   \n",
      "Neurona_45   0   0   1   1   1   1   0   0   1   1  ...   0   0   1   1   1   \n",
      "Neurona_46   1   1   0   0   1   0   0   0   0   1  ...   1   1   0   0   0   \n",
      "Neurona_47   0   1   1   0   1   0   1   0   0   1  ...   1   1   1   1   0   \n",
      "Neurona_48   1   1   0   1   0   1   0   1   1   1  ...   1   0   1   0   1   \n",
      "Neurona_49   0   1   1   1   1   1   1   1   0   0  ...   0   1   1   1   0   \n",
      "Neurona_50   1   1   1   1   0   1   1   1   1   0  ...   1   0   0   1   0   \n",
      "\n",
      "            95  96  97  98  99  \n",
      "Neurona_1    0   1   1   0   1  \n",
      "Neurona_2    1   1   0   0   1  \n",
      "Neurona_3    0   1   0   1   0  \n",
      "Neurona_4    0   0   1   1   1  \n",
      "Neurona_5    0   0   1   1   1  \n",
      "Neurona_6    1   1   1   0   0  \n",
      "Neurona_7    1   1   1   1   1  \n",
      "Neurona_8    1   0   1   1   0  \n",
      "Neurona_9    0   1   0   0   0  \n",
      "Neurona_10   0   0   1   0   1  \n",
      "Neurona_11   0   0   1   0   1  \n",
      "Neurona_12   1   0   0   0   1  \n",
      "Neurona_13   1   0   1   0   0  \n",
      "Neurona_14   1   1   0   0   1  \n",
      "Neurona_15   0   1   1   0   1  \n",
      "Neurona_16   0   1   1   1   0  \n",
      "Neurona_17   0   0   1   1   0  \n",
      "Neurona_18   0   1   1   0   1  \n",
      "Neurona_19   1   0   1   1   1  \n",
      "Neurona_20   1   0   0   1   1  \n",
      "Neurona_21   1   1   1   1   0  \n",
      "Neurona_22   0   1   0   0   0  \n",
      "Neurona_23   0   0   0   0   0  \n",
      "Neurona_24   1   1   0   1   0  \n",
      "Neurona_25   0   1   1   1   1  \n",
      "Neurona_26   1   0   1   1   0  \n",
      "Neurona_27   1   1   1   0   0  \n",
      "Neurona_28   0   0   1   1   0  \n",
      "Neurona_29   1   0   0   0   0  \n",
      "Neurona_30   0   0   1   1   0  \n",
      "Neurona_31   1   0   1   0   1  \n",
      "Neurona_32   1   1   1   0   1  \n",
      "Neurona_33   1   1   1   0   0  \n",
      "Neurona_34   0   0   1   0   1  \n",
      "Neurona_35   0   1   0   1   0  \n",
      "Neurona_36   0   1   0   1   0  \n",
      "Neurona_37   1   0   1   1   1  \n",
      "Neurona_38   1   0   0   1   1  \n",
      "Neurona_39   1   1   0   0   0  \n",
      "Neurona_40   0   0   1   1   0  \n",
      "Neurona_41   0   0   0   1   1  \n",
      "Neurona_42   0   0   0   0   0  \n",
      "Neurona_43   0   1   1   0   0  \n",
      "Neurona_44   0   0   1   0   1  \n",
      "Neurona_45   1   1   1   0   0  \n",
      "Neurona_46   0   1   1   1   1  \n",
      "Neurona_47   1   0   0   1   0  \n",
      "Neurona_48   0   1   1   0   0  \n",
      "Neurona_49   0   1   1   0   1  \n",
      "Neurona_50   0   1   0   0   0  \n",
      "\n",
      "[50 rows x 100 columns]\n"
     ]
    }
   ],
   "source": [
    "# Crea un DataFrame con todas las neuronas (filas) y tiempos (columnas).\n",
    "matriz = np.array(list(actividad.values()))\n",
    "neuronas = pd.DataFrame(matriz, index=actividad.keys())\n",
    "print(neuronas)\n",
    "\n"
   ]
  },
  {
   "cell_type": "code",
   "execution_count": 70,
   "id": "c96ce976-cfb3-4bd1-a83b-ce8f84a58884",
   "metadata": {},
   "outputs": [
    {
     "name": "stdout",
     "output_type": "stream",
     "text": [
      "{'Neurona_1': np.int64(52), 'Neurona_2': np.int64(53), 'Neurona_3': np.int64(53), 'Neurona_4': np.int64(44), 'Neurona_5': np.int64(53), 'Neurona_6': np.int64(44), 'Neurona_7': np.int64(52), 'Neurona_8': np.int64(53), 'Neurona_9': np.int64(47), 'Neurona_10': np.int64(46), 'Neurona_11': np.int64(43), 'Neurona_12': np.int64(59), 'Neurona_13': np.int64(51), 'Neurona_14': np.int64(54), 'Neurona_15': np.int64(46), 'Neurona_16': np.int64(51), 'Neurona_17': np.int64(44), 'Neurona_18': np.int64(61), 'Neurona_19': np.int64(54), 'Neurona_20': np.int64(55), 'Neurona_21': np.int64(43), 'Neurona_22': np.int64(48), 'Neurona_23': np.int64(44), 'Neurona_24': np.int64(49), 'Neurona_25': np.int64(50), 'Neurona_26': np.int64(48), 'Neurona_27': np.int64(53), 'Neurona_28': np.int64(37), 'Neurona_29': np.int64(45), 'Neurona_30': np.int64(57), 'Neurona_31': np.int64(58), 'Neurona_32': np.int64(51), 'Neurona_33': np.int64(45), 'Neurona_34': np.int64(48), 'Neurona_35': np.int64(47), 'Neurona_36': np.int64(55), 'Neurona_37': np.int64(52), 'Neurona_38': np.int64(42), 'Neurona_39': np.int64(51), 'Neurona_40': np.int64(53), 'Neurona_41': np.int64(39), 'Neurona_42': np.int64(41), 'Neurona_43': np.int64(52), 'Neurona_44': np.int64(51), 'Neurona_45': np.int64(50), 'Neurona_46': np.int64(50), 'Neurona_47': np.int64(43), 'Neurona_48': np.int64(49), 'Neurona_49': np.int64(48), 'Neurona_50': np.int64(51)}\n"
     ]
    }
   ],
   "source": [
    "# Usa un bucle para contar cuántos disparos totales tuvo cada neurona y genera una Series con esos valores.\n",
    "\n",
    "disparos_totales = {}\n",
    "for i in range(len(neuronas)):\n",
    "    total = 0\n",
    "    j = 0\n",
    "    while j < neuronas.shape[1]:\n",
    "        total += neuronas.iloc[i, j]  \n",
    "        j += 1\n",
    "    else:\n",
    "        disparos_totales[neuronas.index[i]] = total\n",
    "\n",
    "print(disparos_totales)\n"
   ]
  },
  {
   "cell_type": "markdown",
   "id": "9ec80b7e-de1b-4c49-9bfd-ca5114fc1a41",
   "metadata": {},
   "source": [
    "# Ejercicio EEG por canales"
   ]
  },
  {
   "cell_type": "code",
   "execution_count": 71,
   "id": "d8aa4a9b-98ef-47af-a84d-d6b9310e344f",
   "metadata": {},
   "outputs": [
    {
     "name": "stdout",
     "output_type": "stream",
     "text": [
      "[[-76.16093108  52.6204744   83.60137699 ...  24.41922679  36.1834113\n",
      "  -97.30813828]\n",
      " [  3.64908218  95.85997847 -45.3914879  ...  54.19324243 -68.48449453\n",
      "   89.4354892 ]\n",
      " [-54.77382489  77.69693297 -59.04879    ...  40.85571753  38.97636532\n",
      "   24.93104826]\n",
      " ...\n",
      " [ 10.83104677  31.39032607 -76.56463802 ...   7.67177232 -69.41535555\n",
      "   13.61948359]\n",
      " [ 73.45825089  40.11227405  64.48578574 ...  62.88814618  27.31590406\n",
      "  -56.65432346]\n",
      " [ 11.87145708  17.66760844 -34.11104332 ... -14.72507184  40.48400552\n",
      "   37.13448798]]\n"
     ]
    }
   ],
   "source": [
    "# Simula una matriz 500x8 con NumPy representando 500 muestras de señal EEG en 8 canales (valores flotantes entre -100 y 100 µV).\n",
    "\n",
    "valores_EEG = np.random.uniform(-100, 100, size=(500, 8))\n",
    "print(valores_EEG)"
   ]
  },
  {
   "cell_type": "code",
   "execution_count": 74,
   "id": "1ccbb249-3fd5-4ec6-bde2-cc1c3cf2c17c",
   "metadata": {},
   "outputs": [
    {
     "name": "stdout",
     "output_type": "stream",
     "text": [
      "       Canal_1    Canal_2    Canal_3    Canal_4    Canal_5    Canal_6  \\\n",
      "0   -76.160931  52.620474  83.601377  33.944366 -22.536659  24.419227   \n",
      "1     3.649082  95.859978 -45.391488  95.272115 -98.313990  54.193242   \n",
      "2   -54.773825  77.696933 -59.048790 -47.576802  21.133151  40.855718   \n",
      "3   -68.570321  13.074173  76.800057  63.355479 -65.285617  78.149673   \n",
      "4   -83.819837 -30.618700  13.535781  33.891324  87.934519  39.089961   \n",
      "..         ...        ...        ...        ...        ...        ...   \n",
      "495  91.267245 -54.231251 -23.744017 -86.452460   5.566403 -35.567827   \n",
      "496  93.131568 -19.490415  88.267874  23.462750   5.382064 -54.152925   \n",
      "497  10.831047  31.390326 -76.564638  16.226697 -31.848958   7.671772   \n",
      "498  73.458251  40.112274  64.485786 -58.084108  85.054656  62.888146   \n",
      "499  11.871457  17.667608 -34.111043 -90.036079  -0.686087 -14.725072   \n",
      "\n",
      "       Canal_7    Canal_8  \n",
      "0    36.183411 -97.308138  \n",
      "1   -68.484495  89.435489  \n",
      "2    38.976365  24.931048  \n",
      "3   -97.564859 -32.526555  \n",
      "4     2.219892 -55.688056  \n",
      "..         ...        ...  \n",
      "495  51.081868  14.507483  \n",
      "496  37.738573 -59.364607  \n",
      "497 -69.415356  13.619484  \n",
      "498  27.315904 -56.654323  \n",
      "499  40.484006  37.134488  \n",
      "\n",
      "[500 rows x 8 columns]\n"
     ]
    }
   ],
   "source": [
    "# Convierte la matriz en un DataFrame con columnas \"Canal_1\"... \"Canal_8\".\n",
    "matriz = pd.DataFrame(valores_EEG, columns=[\"Canal_1\", \"Canal_2\", \"Canal_3\", \"Canal_4\",\n",
    "                                             \"Canal_5\", \"Canal_6\", \"Canal_7\", \"Canal_8\"])\n",
    "print(matriz)"
   ]
  },
  {
   "cell_type": "code",
   "execution_count": 77,
   "id": "48157538-f284-46f1-9a4a-637ea134ea9b",
   "metadata": {},
   "outputs": [
    {
     "name": "stdout",
     "output_type": "stream",
     "text": [
      "{'Canal_1': np.float64(3377.1543565712263), 'Canal_2': np.float64(3042.9924009107613), 'Canal_3': np.float64(3614.7096518353997), 'Canal_4': np.float64(3259.7767794519614), 'Canal_5': np.float64(3518.718460113668), 'Canal_6': np.float64(3071.5274312366632), 'Canal_7': np.float64(3434.447502973401), 'Canal_8': np.float64(3388.011486044974)}\n"
     ]
    }
   ],
   "source": [
    "#Usa un bucle para calcular la potencia media de cada canal (media del cuadrado de la señal).\n",
    "potencia_canales = {}\n",
    "for canal in matriz.columns:\n",
    "    potencia = np.mean(matriz[canal]**2)  \n",
    "    potencia_canales[canal] = potencia\n",
    "    \n",
    "print(potencia_canales)"
   ]
  },
  {
   "cell_type": "code",
   "execution_count": 79,
   "id": "ae23eb70-02c4-434a-8d7e-72fd996cf57b",
   "metadata": {},
   "outputs": [
    {
     "name": "stdout",
     "output_type": "stream",
     "text": [
      "Canal_1    3377.154357\n",
      "Canal_2    3042.992401\n",
      "Canal_3    3614.709652\n",
      "Canal_4    3259.776779\n",
      "Canal_5    3518.718460\n",
      "Canal_6    3071.527431\n",
      "Canal_7    3434.447503\n",
      "Canal_8    3388.011486\n",
      "dtype: float64\n"
     ]
    }
   ],
   "source": [
    "# Guarda los resultados en un diccionario y conviértelo en una Series ordenada.\n",
    "\n",
    "serie_potencia = pd.Series(potencia_canales)\n",
    "print(serie_potencia)"
   ]
  },
  {
   "cell_type": "code",
   "execution_count": 81,
   "id": "5d56fd5b-c7f3-4470-b8fd-071ec5be2e20",
   "metadata": {},
   "outputs": [
    {
     "name": "stdout",
     "output_type": "stream",
     "text": [
      "Canal_3    3614.709652\n",
      "Canal_5    3518.718460\n",
      "Canal_7    3434.447503\n",
      "Canal_8    3388.011486\n",
      "Canal_1    3377.154357\n",
      "Canal_4    3259.776779\n",
      "Canal_6    3071.527431\n",
      "Canal_2    3042.992401\n",
      "dtype: float64\n"
     ]
    }
   ],
   "source": [
    "serie_ordenada = serie_potencia.sort_values()[::-1]\n",
    "print(serie_ordenada)"
   ]
  },
  {
   "cell_type": "code",
   "execution_count": 83,
   "id": "4cd8e55e-10bf-4102-b683-1991da568c2e",
   "metadata": {},
   "outputs": [
    {
     "name": "stdout",
     "output_type": "stream",
     "text": [
      "('Canal_3', np.float64(3614.7096518353997))\n"
     ]
    }
   ],
   "source": [
    "# Identifica el canal con mayor potencia.\n",
    "\n",
    "canal = max(potencia_canales.items(), key=lambda x: x[1])\n",
    "print(canal)"
   ]
  },
  {
   "cell_type": "markdown",
   "id": "441db401-c1fc-4fd2-8dcc-e6088b305ae8",
   "metadata": {},
   "source": [
    "# Ejercicio Análisis de respuestas a estímulos"
   ]
  },
  {
   "cell_type": "code",
   "execution_count": 86,
   "id": "a80f0759-bc74-4651-ab87-e41694e7045e",
   "metadata": {},
   "outputs": [
    {
     "name": "stdout",
     "output_type": "stream",
     "text": [
      "[534.51711931 553.0221674  384.89139003 486.67530046 755.27151508\n",
      " 214.34076829 489.9436404  547.37557008 200.80009453 217.51416783\n",
      " 421.30498759 260.81587138 367.25728409 586.11923944 220.97231613\n",
      " 459.89589007 321.35905268 750.60513782 335.09725615 265.62136363\n",
      " 383.13458357 306.16684107 232.33800069 557.77795293 605.19939199\n",
      " 337.22218274 724.77711199 241.54572486 587.55502538 656.97108609] [670.44953222 589.41568204 285.86577016 774.1984264  565.71497417\n",
      " 728.08129765 660.42350111 686.28188493 239.97668755 705.38243622\n",
      " 579.03366762 790.59218529 569.25980461 482.56190268 404.00971636\n",
      " 633.7793923  231.57209772 685.2992701  708.48378822 614.23746293\n",
      " 256.90364197 386.01896465 363.99124779 600.31104933 573.03349228\n",
      " 654.35125681 625.32509415 451.39676169 321.2540416  258.81859906] [470.53847547 409.69524047 611.94569068 798.15482186 375.59184434\n",
      " 625.29330746 556.16239703 489.91807636 479.31202813 780.06582385\n",
      " 281.50929619 647.96434656 455.77611288 530.90386701 341.00018731\n",
      " 289.38875527 467.20445965 466.43881319 571.23019647 419.07404175\n",
      " 445.50146231 317.34069686 356.78984775 249.35744135 304.62490638\n",
      " 379.38202824 723.41188743 366.5846613  665.95695749 795.01165698]\n"
     ]
    }
   ],
   "source": [
    "# Genera un DataFrame con 30 sujetos (filas) y 3 condiciones experimentales (\"Cond_A\", \"Cond_B\", \"Cond_C\") con valores de tiempo de reacción simulados (valores entre 200–800 ms).\n",
    "\n",
    "Cond_A = 200 + 600 * np.random.random(30)  \n",
    "Cond_B = 200 + 600 * np.random.random(30)\n",
    "Cond_C = 200 + 600 * np.random.random(30)\n",
    "\n",
    "print(Cond_A, Cond_B, Cond_C)\n"
   ]
  },
  {
   "cell_type": "code",
   "execution_count": 88,
   "id": "5716f5b4-9d85-4da7-94c9-4fa42059ccab",
   "metadata": {},
   "outputs": [
    {
     "name": "stdout",
     "output_type": "stream",
     "text": [
      "{'Cond_A': array([534.51711931, 553.0221674 , 384.89139003, 486.67530046,\n",
      "       755.27151508, 214.34076829, 489.9436404 , 547.37557008,\n",
      "       200.80009453, 217.51416783, 421.30498759, 260.81587138,\n",
      "       367.25728409, 586.11923944, 220.97231613, 459.89589007,\n",
      "       321.35905268, 750.60513782, 335.09725615, 265.62136363,\n",
      "       383.13458357, 306.16684107, 232.33800069, 557.77795293,\n",
      "       605.19939199, 337.22218274, 724.77711199, 241.54572486,\n",
      "       587.55502538, 656.97108609]), 'Cond_B': array([670.44953222, 589.41568204, 285.86577016, 774.1984264 ,\n",
      "       565.71497417, 728.08129765, 660.42350111, 686.28188493,\n",
      "       239.97668755, 705.38243622, 579.03366762, 790.59218529,\n",
      "       569.25980461, 482.56190268, 404.00971636, 633.7793923 ,\n",
      "       231.57209772, 685.2992701 , 708.48378822, 614.23746293,\n",
      "       256.90364197, 386.01896465, 363.99124779, 600.31104933,\n",
      "       573.03349228, 654.35125681, 625.32509415, 451.39676169,\n",
      "       321.2540416 , 258.81859906]), 'Cond_C': array([470.53847547, 409.69524047, 611.94569068, 798.15482186,\n",
      "       375.59184434, 625.29330746, 556.16239703, 489.91807636,\n",
      "       479.31202813, 780.06582385, 281.50929619, 647.96434656,\n",
      "       455.77611288, 530.90386701, 341.00018731, 289.38875527,\n",
      "       467.20445965, 466.43881319, 571.23019647, 419.07404175,\n",
      "       445.50146231, 317.34069686, 356.78984775, 249.35744135,\n",
      "       304.62490638, 379.38202824, 723.41188743, 366.5846613 ,\n",
      "       665.95695749, 795.01165698])}\n"
     ]
    }
   ],
   "source": [
    "datos = {\n",
    "    \"Cond_A\": Cond_A,\n",
    "    \"Cond_B\": Cond_B,\n",
    "    \"Cond_C\": Cond_C\n",
    "}\n",
    "\n",
    "print(datos)\n"
   ]
  },
  {
   "cell_type": "code",
   "execution_count": 89,
   "id": "626aae4d-1777-4393-b475-92a9dc016a82",
   "metadata": {},
   "outputs": [
    {
     "name": "stdout",
     "output_type": "stream",
     "text": [
      "        Cond_A      Cond_B      Cond_C\n",
      "0   534.517119  670.449532  470.538475\n",
      "1   553.022167  589.415682  409.695240\n",
      "2   384.891390  285.865770  611.945691\n",
      "3   486.675300  774.198426  798.154822\n",
      "4   755.271515  565.714974  375.591844\n",
      "5   214.340768  728.081298  625.293307\n",
      "6   489.943640  660.423501  556.162397\n",
      "7   547.375570  686.281885  489.918076\n",
      "8   200.800095  239.976688  479.312028\n",
      "9   217.514168  705.382436  780.065824\n",
      "10  421.304988  579.033668  281.509296\n",
      "11  260.815871  790.592185  647.964347\n",
      "12  367.257284  569.259805  455.776113\n",
      "13  586.119239  482.561903  530.903867\n",
      "14  220.972316  404.009716  341.000187\n",
      "15  459.895890  633.779392  289.388755\n",
      "16  321.359053  231.572098  467.204460\n",
      "17  750.605138  685.299270  466.438813\n",
      "18  335.097256  708.483788  571.230196\n",
      "19  265.621364  614.237463  419.074042\n",
      "20  383.134584  256.903642  445.501462\n",
      "21  306.166841  386.018965  317.340697\n",
      "22  232.338001  363.991248  356.789848\n",
      "23  557.777953  600.311049  249.357441\n",
      "24  605.199392  573.033492  304.624906\n",
      "25  337.222183  654.351257  379.382028\n",
      "26  724.777112  625.325094  723.411887\n",
      "27  241.545725  451.396762  366.584661\n",
      "28  587.555025  321.254042  665.956957\n",
      "29  656.971086  258.818599  795.011657\n"
     ]
    }
   ],
   "source": [
    "datos_reaccion = pd.DataFrame(datos)\n",
    "print(datos_reaccion)"
   ]
  },
  {
   "cell_type": "code",
   "execution_count": 92,
   "id": "f301eaaa-7fca-413c-920b-ddef4cb78e29",
   "metadata": {},
   "outputs": [
    {
     "name": "stdout",
     "output_type": "stream",
     "text": [
      "{'Cond_A': np.float64(433.53626778929447), 'Cond_B': np.float64(536.534120987101), 'Cond_C': np.float64(489.03764426763524)}\n"
     ]
    }
   ],
   "source": [
    "# Usa un bucle para calcular el promedio por condición en toda la muestra.\n",
    "\n",
    "promedios = {}\n",
    "for col in datos_reaccion.columns:\n",
    "    promedio = np.mean(datos_reaccion[col])\n",
    "    promedios[col] = promedio\n",
    "\n",
    "print(promedios)\n"
   ]
  },
  {
   "cell_type": "code",
   "execution_count": 100,
   "id": "de889a73-c966-415c-9960-b31959ecb7c6",
   "metadata": {},
   "outputs": [
    {
     "name": "stdout",
     "output_type": "stream",
     "text": [
      "Cond_A    433.536268\n",
      "Cond_B    536.534121\n",
      "Cond_C    489.037644\n",
      "dtype: float64\n",
      "['Cond_C', 'Cond_C', 'Cond_B', 'Cond_A', 'Cond_C', 'Cond_A', 'Cond_A', 'Cond_C', 'Cond_A', 'Cond_A', 'Cond_C', 'Cond_A', 'Cond_A', 'Cond_B', 'Cond_A', 'Cond_C', 'Cond_B', 'Cond_C', 'Cond_A', 'Cond_A', 'Cond_B', 'Cond_A', 'Cond_A', 'Cond_C', 'Cond_C', 'Cond_A', 'Cond_B', 'Cond_A', 'Cond_B', 'Cond_B']\n"
     ]
    }
   ],
   "source": [
    "# Convierte los resultados en un diccionario y luego en una Series.\n",
    "serie = pd.Series(promedios)\n",
    "print(serie)\n",
    "# Agrega una columna \"Mejor_condición\" al DataFrame indicando la condición más rápida por sujeto.\n",
    "mejor_cond = []\n",
    "for i in range(len(datos_reaccion)):\n",
    "    tiempos = [datos_reaccion[\"Cond_A\"][i], datos_reaccion[\"Cond_B\"][i], datos_reaccion[\"Cond_C\"][i]]\n",
    "    if tiempos[0] <= tiempos[1] and tiempos[0] <= tiempos[2]:\n",
    "        mejor_cond.append(\"Cond_A\")\n",
    "    elif tiempos[1] <= tiempos[0] and tiempos[1] <= tiempos[2]:\n",
    "        mejor_cond.append(\"Cond_B\")\n",
    "    else:\n",
    "        mejor_cond.append(\"Cond_C\")\n",
    "\n",
    "\n",
    "print(mejor_cond)\n"
   ]
  },
  {
   "cell_type": "code",
   "execution_count": 102,
   "id": "68082c0f-143f-4a5b-80e5-01eb28d84e5a",
   "metadata": {},
   "outputs": [
    {
     "name": "stdout",
     "output_type": "stream",
     "text": [
      "{'Cond_A': 14, 'Cond_B': 7, 'Cond_C': 9}\n"
     ]
    }
   ],
   "source": [
    "# Cuenta cuántos sujetos respondieron mejor en cada condición.\n",
    "\n",
    "conteo = {\"Cond_A\": 0, \"Cond_B\": 0, \"Cond_C\": 0}\n",
    "for cond in mejor_cond:\n",
    "    conteo[cond] += 1\n",
    "\n",
    "print(conteo)"
   ]
  },
  {
   "cell_type": "markdown",
   "id": "a2960603-4d34-4644-b3af-5a33f64f8716",
   "metadata": {},
   "source": [
    "# Ejercicio Clasificación de temperaturas\n",
    "\n"
   ]
  },
  {
   "cell_type": "code",
   "execution_count": 106,
   "id": "e45b88a2-2250-45c0-982c-40dbd03eb81d",
   "metadata": {},
   "outputs": [],
   "source": [
    "# Genera una Serie con 50 valores aleatorios entre -10 y 40 (temperaturas).\n",
    "\n",
    "import pandas as pd"
   ]
  },
  {
   "cell_type": "code",
   "execution_count": 107,
   "id": "9690b9d6-ef15-4041-87f9-d109d1f676f3",
   "metadata": {},
   "outputs": [
    {
     "name": "stdout",
     "output_type": "stream",
     "text": [
      "0     38\n",
      "1     27\n",
      "2     -7\n",
      "3     36\n",
      "4     29\n",
      "5     33\n",
      "6     40\n",
      "7     36\n",
      "8     26\n",
      "9     -9\n",
      "10     2\n",
      "11    28\n",
      "12    33\n",
      "13     8\n",
      "14    12\n",
      "15     7\n",
      "16    13\n",
      "17    -3\n",
      "18    30\n",
      "19    -5\n",
      "20    13\n",
      "21     0\n",
      "22    -1\n",
      "23    29\n",
      "24    17\n",
      "25    38\n",
      "26    37\n",
      "27    31\n",
      "28    11\n",
      "29    33\n",
      "30    14\n",
      "31    12\n",
      "32    10\n",
      "33    34\n",
      "34    15\n",
      "35    11\n",
      "36    -2\n",
      "37    -9\n",
      "38    -2\n",
      "39    16\n",
      "40    -1\n",
      "41    -5\n",
      "42    19\n",
      "43     3\n",
      "44    35\n",
      "45    -4\n",
      "46    26\n",
      "47    -7\n",
      "48     9\n",
      "49    17\n",
      "dtype: int64\n"
     ]
    }
   ],
   "source": [
    "# Genera una Serie con 50 valores aleatorios entre -10 y 40 (temperaturas).\n",
    "temperaturas = pd.Series(np.random.randint(-10, 41, size=50))\n",
    "print(temperaturas)"
   ]
  },
  {
   "cell_type": "code",
   "execution_count": 112,
   "id": "e101d2e9-917c-4c25-b0df-18cf3d47bfc0",
   "metadata": {},
   "outputs": [
    {
     "name": "stdout",
     "output_type": "stream",
     "text": [
      "{0: 'calor', 1: 'calor', 2: 'frío', 3: 'calor', 4: 'calor', 5: 'calor', 6: 'calor', 7: 'calor', 8: 'calor', 9: 'frío', 10: 'frío', 11: 'calor', 12: 'calor', 13: 'frío', 14: 'templado', 15: 'frío', 16: 'templado', 17: 'frío', 18: 'calor', 19: 'frío', 20: 'templado', 21: 'frío', 22: 'frío', 23: 'calor', 24: 'templado', 25: 'calor', 26: 'calor', 27: 'calor', 28: 'templado', 29: 'calor', 30: 'templado', 31: 'templado', 32: 'templado', 33: 'calor', 34: 'templado', 35: 'templado', 36: 'frío', 37: 'frío', 38: 'frío', 39: 'templado', 40: 'frío', 41: 'frío', 42: 'templado', 43: 'frío', 44: 'calor', 45: 'frío', 46: 'calor', 47: 'frío', 48: 'frío', 49: 'templado'}\n"
     ]
    }
   ],
   "source": [
    "# Recorre la Serie y clasifica cada temperatura en un diccionario:\n",
    "\n",
    "#\"frío\" si < 10\n",
    "\n",
    "#\"templado\" si 10–25\n",
    "\n",
    "#\"calor\" si > 25\n",
    "\n",
    "clasificacion = {}\n",
    "for i in range(len(temperaturas)):\n",
    "    temp = temperaturas[i]\n",
    "    if temp < 10:\n",
    "        clasificacion[i] = \"frío\"\n",
    "    elif 10 <= temp <= 25:\n",
    "        clasificacion[i] = \"templado\"\n",
    "    else:\n",
    "        clasificacion[i] = \"calor\"\n",
    "\n",
    "print(clasificacion)"
   ]
  },
  {
   "cell_type": "code",
   "execution_count": 115,
   "id": "893e22db-2a69-42d5-ab0b-9fe1f8445c9c",
   "metadata": {},
   "outputs": [
    {
     "name": "stdout",
     "output_type": "stream",
     "text": [
      "    Temperatura Categoría\n",
      "0            38     calor\n",
      "1            27     calor\n",
      "2            -7      frío\n",
      "3            36     calor\n",
      "4            29     calor\n",
      "5            33     calor\n",
      "6            40     calor\n",
      "7            36     calor\n",
      "8            26     calor\n",
      "9            -9      frío\n",
      "10            2      frío\n",
      "11           28     calor\n",
      "12           33     calor\n",
      "13            8      frío\n",
      "14           12  templado\n",
      "15            7      frío\n",
      "16           13  templado\n",
      "17           -3      frío\n",
      "18           30     calor\n",
      "19           -5      frío\n",
      "20           13  templado\n",
      "21            0      frío\n",
      "22           -1      frío\n",
      "23           29     calor\n",
      "24           17  templado\n",
      "25           38     calor\n",
      "26           37     calor\n",
      "27           31     calor\n",
      "28           11  templado\n",
      "29           33     calor\n",
      "30           14  templado\n",
      "31           12  templado\n",
      "32           10  templado\n",
      "33           34     calor\n",
      "34           15  templado\n",
      "35           11  templado\n",
      "36           -2      frío\n",
      "37           -9      frío\n",
      "38           -2      frío\n",
      "39           16  templado\n",
      "40           -1      frío\n",
      "41           -5      frío\n",
      "42           19  templado\n",
      "43            3      frío\n",
      "44           35     calor\n",
      "45           -4      frío\n",
      "46           26     calor\n",
      "47           -7      frío\n",
      "48            9      frío\n",
      "49           17  templado\n"
     ]
    }
   ],
   "source": [
    "# Convierte el diccionario en un DataFrame con columnas \"Temperatura\" y \"Categoría\".\n",
    "\n",
    "temperatura = pd.DataFrame({\n",
    "    \"Temperatura\": temperaturas,\n",
    "    \"Categoría\": [clasificacion[i] for i in range(len(temperaturas))]\n",
    "})\n",
    "\n",
    "print(temperatura)"
   ]
  },
  {
   "cell_type": "code",
   "execution_count": 117,
   "id": "e732844a-b2c5-4700-84e1-7feee4ed334b",
   "metadata": {},
   "outputs": [
    {
     "name": "stdout",
     "output_type": "stream",
     "text": [
      "{'frío': 18, 'templado': 13, 'calor': 19}\n"
     ]
    }
   ],
   "source": [
    "#Cuenta cuántos valores cayeron en cada categoría.\n",
    "valores = {\"frío\": 0, \"templado\": 0, \"calor\": 0}\n",
    "for temp in temperatura[\"Categoría\"]:\n",
    "    valores[temp] += 1\n",
    "\n",
    "print(valores)\n"
   ]
  },
  {
   "cell_type": "code",
   "execution_count": null,
   "id": "4982fbe3-fa87-4463-a79f-8f67c96c3e74",
   "metadata": {},
   "outputs": [],
   "source": []
  }
 ],
 "metadata": {
  "kernelspec": {
   "display_name": "Python 3 (ipykernel)",
   "language": "python",
   "name": "python3"
  },
  "language_info": {
   "codemirror_mode": {
    "name": "ipython",
    "version": 3
   },
   "file_extension": ".py",
   "mimetype": "text/x-python",
   "name": "python",
   "nbconvert_exporter": "python",
   "pygments_lexer": "ipython3",
   "version": "3.13.7"
  }
 },
 "nbformat": 4,
 "nbformat_minor": 5
}
