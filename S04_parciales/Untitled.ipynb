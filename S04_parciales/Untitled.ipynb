{
 "cells": [
  {
   "cell_type": "code",
   "execution_count": null,
   "id": "ed9f3460-d16d-431f-aac0-df821bbecdb3",
   "metadata": {},
   "outputs": [],
   "source": [
    "%% apartado 1 "
   ]
  },
  {
   "cell_type": "code",
   "execution_count": 1,
   "id": "c7b817e9-8309-4c38-bdd8-bb92a7e7dfbe",
   "metadata": {},
   "outputs": [],
   "source": [
    "import numpy as np\n"
   ]
  },
  {
   "cell_type": "code",
   "execution_count": 2,
   "id": "33ad06be-a645-4da3-8e10-dba726200f09",
   "metadata": {},
   "outputs": [],
   "source": [
    "mat = np.random.randint(1, 11, size=(6, 6))"
   ]
  },
  {
   "cell_type": "code",
   "execution_count": null,
   "id": "02df4e00-74d0-4261-ae77-e21cb7fc562d",
   "metadata": {},
   "outputs": [],
   "source": [
    "frecuencias = {}\n",
    "for valor in mat.flatten():         \n",
    "    if valor in frecuencias:\n",
    "        frecuencias[valor] += 1\n",
    "    else:\n",
    "        frecuencias[valor] = 1"
   ]
  }
 ],
 "metadata": {
  "kernelspec": {
   "display_name": "Python 3 (ipykernel)",
   "language": "python",
   "name": "python3"
  },
  "language_info": {
   "codemirror_mode": {
    "name": "ipython",
    "version": 3
   },
   "file_extension": ".py",
   "mimetype": "text/x-python",
   "name": "python",
   "nbconvert_exporter": "python",
   "pygments_lexer": "ipython3",
   "version": "3.10.7"
  }
 },
 "nbformat": 4,
 "nbformat_minor": 5
}
