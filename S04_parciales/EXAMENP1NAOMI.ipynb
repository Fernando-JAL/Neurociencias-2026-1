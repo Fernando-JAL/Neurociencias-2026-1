{
 "cells": [
  {
   "cell_type": "code",
   "execution_count": 8,
   "id": "b97d5232-0297-411b-877e-37a8fe797cd7",
   "metadata": {},
   "outputs": [],
   "source": [
    "#Examen"
   ]
  },
  {
   "cell_type": "code",
   "execution_count": 5,
   "id": "36e7d43e-2b74-4b78-a025-e5b12af31c0a",
   "metadata": {},
   "outputs": [
    {
     "name": "stdout",
     "output_type": "stream",
     "text": [
      "[[ 4  9  5  7  2  8]\n",
      " [ 8  3 10  2  7  7]\n",
      " [ 6  2  5  5  5  3]\n",
      " [ 1  3  8  9  5  2]\n",
      " [ 4  3  4  1  6  7]\n",
      " [10  5  7  2  1  4]]\n"
     ]
    }
   ],
   "source": [
    "#Ejercicio 1\n",
    "import numpy as np\n",
    "matriz= np.random.randint(1,11,size=(6,6))\n",
    "print(matriz)"
   ]
  },
  {
   "cell_type": "code",
   "execution_count": 6,
   "id": "cf39feb5-7bdc-47e1-8240-3fe0eadc9463",
   "metadata": {},
   "outputs": [
    {
     "name": "stdout",
     "output_type": "stream",
     "text": [
      "Diccionario de frecuencias\n",
      "{np.int32(4): 4, np.int32(9): 2, np.int32(5): 6, np.int32(7): 5, np.int32(2): 5, np.int32(8): 3, np.int32(3): 4, np.int32(10): 2, np.int32(6): 2, np.int32(1): 3}\n"
     ]
    }
   ],
   "source": [
    "frecuencias = {}\n",
    "for fila in matriz:\n",
    "    for numero in fila:\n",
    "        if numero in frecuencias:\n",
    "            frecuencias[numero] += 1\n",
    "        else:\n",
    "            frecuencias[numero] = 1\n",
    "print(\"Diccionario de frecuencias\")\n",
    "print(frecuencias)"
   ]
  },
  {
   "cell_type": "code",
   "execution_count": 7,
   "id": "4feacedc-d32a-4c0f-a2ca-8aeb6646ffd7",
   "metadata": {},
   "outputs": [
    {
     "name": "stdout",
     "output_type": "stream",
     "text": [
      "Lista ordenada (número, frecuencia)\n",
      "[(np.int32(5), 6), (np.int32(7), 5), (np.int32(2), 5), (np.int32(4), 4), (np.int32(3), 4), (np.int32(8), 3), (np.int32(1), 3), (np.int32(9), 2), (np.int32(10), 2), (np.int32(6), 2)]\n"
     ]
    }
   ],
   "source": [
    "lista_ordenada = sorted(frecuencias.items(), key=lambda x: x[1], reverse=True)\n",
    "\n",
    "print(\"Lista ordenada (número, frecuencia)\")\n",
    "print(lista_ordenada)"
   ]
  },
  {
   "cell_type": "code",
   "execution_count": 10,
   "id": "6f535023-deb7-434c-9f00-05b645f1b8b1",
   "metadata": {},
   "outputs": [
    {
     "name": "stdout",
     "output_type": "stream",
     "text": [
      "[[ 55  69  85  36  35]\n",
      " [ 15  32  28  97  15]\n",
      " [ 11  84  61  66  98]\n",
      " [ 52  31  29  91  47]\n",
      " [ 50  44  35  98  43]\n",
      " [ 98  34  97  74  57]\n",
      " [100  10  27  39  96]\n",
      " [ 63  99  27  59  83]\n",
      " [ 55 100  41  13  98]\n",
      " [ 69  42  76  54  58]]\n"
     ]
    }
   ],
   "source": [
    "#Ejercicio 2\n",
    "matriz2= np.random.randint(10,101,size=(10,5))\n",
    "print(matriz2)"
   ]
  },
  {
   "cell_type": "code",
   "execution_count": 13,
   "id": "c3598f6e-81bf-4b8a-8613-d64de82f1eb4",
   "metadata": {},
   "outputs": [
    {
     "name": "stdout",
     "output_type": "stream",
     "text": [
      "Diccionario de promedios:\n",
      "{'col_1': np.float64(56.8), 'col_2': np.float64(54.5), 'col_3': np.float64(50.6), 'col_4': np.float64(62.7), 'col_5': np.float64(63.0)}\n"
     ]
    }
   ],
   "source": [
    "promedios = {}\n",
    "for i in range(matriz2.shape[1]):  \n",
    "    promedio = np.mean(matriz2[:, i])  \n",
    "    promedios[f\"col_{i+1}\"] = promedio\n",
    "\n",
    "print(\"Diccionario de promedios:\")\n",
    "print(promedios)"
   ]
  },
  {
   "cell_type": "code",
   "execution_count": 15,
   "id": "335da7cd-7830-449e-86d3-a8e5405d59d6",
   "metadata": {},
   "outputs": [
    {
     "data": {
      "image/png": "[encoded data removed]",
      "text/plain": [
       "<Figure size 640x480 with 1 Axes>"
      ]
     },
     "metadata": {},
     "output_type": "display_data"
    }
   ],
   "source": [
    "import matplotlib.pyplot as plt\n",
    "valores = list(promedios.values())\n",
    "\n",
    "plt.plot(range(1, 6), valores, marker='o', linestyle='-', color='b')\n",
    "plt.title(\"Promedio por columna\")\n",
    "plt.xlabel(\"Columnas\")\n",
    "plt.ylabel(\"Promedio\")\n",
    "plt.xticks(range(1, 6), [f\"col_{i}\" for i in range(1, 6)])\n",
    "plt.grid(True)\n",
    "plt.show()\n"
   ]
  },
  {
   "cell_type": "code",
   "execution_count": 20,
   "id": "ebb490c2-c63f-4b2d-a4a0-f355d32ee34c",
   "metadata": {},
   "outputs": [],
   "source": [
    "#ejercicio 3\n",
    "tiempos= np.random.randint(15,35, size=30)"
   ]
  },
  {
   "cell_type": "code",
   "execution_count": 21,
   "id": "f0dd5c2e-211a-48e2-945b-f51283eb38a4",
   "metadata": {},
   "outputs": [],
   "source": [
    "diccionario_tiempos= {f\"día_{i+1}\": float(tiempos[i])\n",
    "                      for i in range(len(tiempos))}"
   ]
  },
  {
   "cell_type": "code",
   "execution_count": 24,
   "id": "629a953f-b31a-4638-a3e1-186b8e8203e2",
   "metadata": {},
   "outputs": [],
   "source": [
    "x= list(range(1,31))\n",
    "y= list(diccionario_tiempos.values())"
   ]
  },
  {
   "cell_type": "code",
   "execution_count": 30,
   "id": "84b404a1-320a-4e48-b165-7c538d9a067d",
   "metadata": {},
   "outputs": [
    {
     "data": {
      "text/plain": [
       "Text(0.5, 1.0, 'Temperatura en 30 días')"
      ]
     },
     "execution_count": 30,
     "metadata": {},
     "output_type": "execute_result"
    },
    {
     "data": {
      "image/png": "[encoded data removed]",
      "text/plain": [
       "<Figure size 640x480 with 1 Axes>"
      ]
     },
     "metadata": {},
     "output_type": "display_data"
    }
   ],
   "source": [
    "plt.plot(x,y,marker=\"o\",linestyle=\"-\")\n",
    "plt.scatter(x,y, s=40)\n",
    "for i, temp in enumerate(y):\n",
    "    if temp>30:\n",
    "        plt.scatter(x[i], y[i], color= \"red\", s=80)\n",
    "plt.xlabel(\"Día\")\n",
    "plt.ylabel(\"Temperatura °C\")\n",
    "plt.title(\"Temperatura en 30 días\")\n",
    "        "
   ]
  },
  {
   "cell_type": "code",
   "execution_count": 33,
   "id": "83ea00ff-32d7-4ee8-8b72-e8c33d8dc243",
   "metadata": {},
   "outputs": [],
   "source": [
    "#ejercicio 4\n",
    "grupoA= np.random.normal(loc=50, scale=10, size=100)\n",
    "grupoB= np.random.normal(loc=60, scale=15, size=100)"
   ]
  },
  {
   "cell_type": "code",
   "execution_count": 34,
   "id": "3f088003-a881-4338-a743-ae08817835c8",
   "metadata": {},
   "outputs": [],
   "source": [
    "diccionario= {\"A\": grupoA, \"B\": grupoB}"
   ]
  },
  {
   "cell_type": "code",
   "execution_count": 40,
   "id": "f83d0cd0-d74f-483c-a0ed-fe5eae97064f",
   "metadata": {},
   "outputs": [
    {
     "name": "stdout",
     "output_type": "stream",
     "text": [
      "[np.float64(50.18566887872875), np.float64(58.57282563449712)]\n",
      "[np.float64(10.521310078750725), np.float64(14.193563169154942)]\n"
     ]
    }
   ],
   "source": [
    "media= [np.mean(diccionario[\"A\"]), np.mean(diccionario[\"B\"])]\n",
    "std=  [np.std(diccionario[\"A\"]), np.std(diccionario[\"B\"])]\n",
    "print(media)\n",
    "print(std)"
   ]
  },
  {
   "cell_type": "code",
   "execution_count": 44,
   "id": "710669b8-a6fd-4b6a-8497-5300ab38e533",
   "metadata": {},
   "outputs": [
    {
     "data": {
      "text/plain": [
       "Text(0.5, 1.0, 'Comparación de distribuciones')"
      ]
     },
     "execution_count": 44,
     "metadata": {},
     "output_type": "execute_result"
    },
    {
     "data": {
      "image/png": "[encoded data removed]",
      "text/plain": [
       "<Figure size 640x480 with 1 Axes>"
      ]
     },
     "metadata": {},
     "output_type": "display_data"
    }
   ],
   "source": [
    "plt.hist(grupoA, bins=50, alpha= 0.5, label=\"Grupo A\", color=\"pink\")\n",
    "plt.hist(grupoB, bins=50, alpha= 0.5, label=\"Grupo B\", color=\"purple\")\n",
    "plt.xlabel(\"Valor\")\n",
    "plt.ylabel(\"Frecuencia\")\n",
    "plt.title(\"Comparación de distribuciones\")"
   ]
  },
  {
   "cell_type": "code",
   "execution_count": 60,
   "id": "966587ec-4a00-4183-bd48-bb58f0d97296",
   "metadata": {},
   "outputs": [],
   "source": [
    "#ejercicio5\n",
    "import pandas as pd\n",
    "temperaturas= np.random.randint(-10, 41, size= 50)\n",
    "serie= pd.Series(temperaturas)"
   ]
  },
  {
   "cell_type": "code",
   "execution_count": 65,
   "id": "16638b9d-eb85-45d4-a124-ff81a6c249bd",
   "metadata": {},
   "outputs": [
    {
     "name": "stdout",
     "output_type": "stream",
     "text": [
      "{0: (6, 'Frío'), 1: (23, 'Templado'), 2: (28, 'Calor'), 3: (12, 'Templado'), 4: (26, 'Calor'), 5: (14, 'Templado'), 6: (9, 'Frío'), 7: (6, 'Frío'), 8: (32, 'Calor'), 9: (8, 'Frío'), 10: (-5, 'Frío'), 11: (1, 'Frío'), 12: (-5, 'Frío'), 13: (12, 'Templado'), 14: (0, 'Frío'), 15: (24, 'Templado'), 16: (-6, 'Frío'), 17: (-10, 'Frío'), 18: (2, 'Frío'), 19: (40, 'Calor'), 20: (37, 'Calor'), 21: (-6, 'Frío'), 22: (25, 'Templado'), 23: (8, 'Frío'), 24: (-7, 'Frío'), 25: (19, 'Templado'), 26: (22, 'Templado'), 27: (39, 'Calor'), 28: (20, 'Templado'), 29: (40, 'Calor'), 30: (33, 'Calor'), 31: (-7, 'Frío'), 32: (-10, 'Frío'), 33: (-8, 'Frío'), 34: (-5, 'Frío'), 35: (16, 'Templado'), 36: (14, 'Templado'), 37: (26, 'Calor'), 38: (-2, 'Frío'), 39: (19, 'Templado'), 40: (37, 'Calor'), 41: (6, 'Frío'), 42: (20, 'Templado'), 43: (25, 'Templado'), 44: (26, 'Calor'), 45: (-4, 'Frío'), 46: (-3, 'Frío'), 47: (14, 'Templado'), 48: (40, 'Calor'), 49: (-5, 'Frío')}\n"
     ]
    }
   ],
   "source": [
    "diccionario= {}\n",
    "for i, temperatura in enumerate(serie):\n",
    "    if temperatura <10:\n",
    "        categoría= \"Frío\"\n",
    "    elif 10<= temperatura <=25:\n",
    "        categoría= \"Templado\"\n",
    "    else:\n",
    "        categoría= \"Calor\"\n",
    "    diccionario[i] = (temperatura, categoría)  # <-- dentro del for\n",
    "\n",
    "print(diccionario)\n"
   ]
  },
  {
   "cell_type": "code",
   "execution_count": 66,
   "id": "2b1dd021-c5d8-4c09-a356-aa0891ed459a",
   "metadata": {},
   "outputs": [
    {
     "name": "stdout",
     "output_type": "stream",
     "text": [
      "   Temperatura Categoría\n",
      "0            6      Frío\n",
      "1           23  Templado\n",
      "2           28     Calor\n",
      "3           12  Templado\n",
      "4           26     Calor\n",
      "Categoría\n",
      "Frío        23\n",
      "Templado    15\n",
      "Calor       12\n",
      "Name: count, dtype: int64\n"
     ]
    }
   ],
   "source": [
    "dataframe= pd.DataFrame.from_dict(diccionario, orient=\"index\", columns=[\"Temperatura\",\"Categoría\"])\n",
    "conteo= dataframe[\"Categoría\"].value_counts()\n",
    "print(dataframe.head())\n",
    "print(conteo)"
   ]
  },
  {
   "cell_type": "code",
   "execution_count": 67,
   "id": "b0aef059-5fb7-4ba3-9e72-c006ce173cda",
   "metadata": {},
   "outputs": [],
   "source": [
    "#ejercicio6\n",
    "matriz= np.random.randint(0,101,size=(10,2))"
   ]
  },
  {
   "cell_type": "code",
   "execution_count": 70,
   "id": "44c368c7-fb36-44d8-a3a0-22842313617c",
   "metadata": {},
   "outputs": [
    {
     "name": "stdout",
     "output_type": "stream",
     "text": [
      "{(0, 0): np.float64(0.0), (0, 1): np.float64(44.598206241955516), (0, 2): np.float64(28.653097563788805), (0, 3): np.float64(29.068883707497267), (0, 4): np.float64(52.773099207835045), (0, 5): np.float64(57.706152185014034), (0, 6): np.float64(42.01190307520001), (0, 7): np.float64(57.245087125446844), (0, 8): np.float64(17.0), (0, 9): np.float64(23.40939982143925), (1, 0): np.float64(44.598206241955516), (1, 1): np.float64(0.0), (1, 2): np.float64(44.721359549995796), (1, 3): np.float64(73.53910524340094), (1, 4): np.float64(55.78530272392541), (1, 5): np.float64(96.60745312862771), (1, 6): np.float64(86.31338250816034), (1, 7): np.float64(100.20977996183805), (1, 8): np.float64(52.80151512977634), (1, 9): np.float64(66.21933252457322), (2, 0): np.float64(28.653097563788805), (2, 1): np.float64(44.721359549995796), (2, 2): np.float64(0.0), (2, 3): np.float64(44.721359549995796), (2, 4): np.float64(24.166091947189145), (2, 5): np.float64(54.817880294662984), (2, 6): np.float64(54.42425929675111), (2, 7): np.float64(63.00793600809346), (2, 8): np.float64(45.65084884205331), (2, 9): np.float64(33.95585369269929), (3, 0): np.float64(29.068883707497267), (3, 1): np.float64(73.53910524340094), (3, 2): np.float64(44.721359549995796), (3, 3): np.float64(0.0), (3, 4): np.float64(66.03029607687671), (3, 5): np.float64(36.40054944640259), (3, 6): np.float64(13.038404810405298), (3, 7): np.float64(29.832867780352597), (3, 8): np.float64(30.265491900843113), (3, 9): np.float64(11.0), (4, 0): np.float64(52.773099207835045), (4, 1): np.float64(55.78530272392541), (4, 2): np.float64(24.166091947189145), (4, 3): np.float64(66.03029607687671), (4, 4): np.float64(0.0), (4, 5): np.float64(65.0), (4, 6): np.float64(73.55270219373317), (4, 7): np.float64(77.83315488916018), (4, 8): np.float64(69.77105417004964), (4, 9): np.float64(55.036351623268054), (5, 0): np.float64(57.706152185014034), (5, 1): np.float64(96.60745312862771), (5, 2): np.float64(54.817880294662984), (5, 3): np.float64(36.40054944640259), (5, 4): np.float64(65.0), (5, 5): np.float64(0.0), (5, 6): np.float64(29.410882339705484), (5, 7): np.float64(18.027756377319946), (5, 8): np.float64(65.27633568147036), (5, 9): np.float64(35.014282800023196), (6, 0): np.float64(42.01190307520001), (6, 1): np.float64(86.31338250816034), (6, 2): np.float64(54.42425929675111), (6, 3): np.float64(13.038404810405298), (6, 4): np.float64(73.55270219373317), (6, 5): np.float64(29.410882339705484), (6, 6): np.float64(0.0), (6, 7): np.float64(18.0), (6, 8): np.float64(42.44997055358225), (6, 9): np.float64(21.095023109728988), (7, 0): np.float64(57.245087125446844), (7, 1): np.float64(100.20977996183805), (7, 2): np.float64(63.00793600809346), (7, 3): np.float64(29.832867780352597), (7, 4): np.float64(77.83315488916018), (7, 5): np.float64(18.027756377319946), (7, 6): np.float64(18.0), (7, 7): np.float64(0.0), (7, 8): np.float64(60.01666435249463), (7, 9): np.float64(34.132096331752024), (8, 0): np.float64(17.0), (8, 1): np.float64(52.80151512977634), (8, 2): np.float64(45.65084884205331), (8, 3): np.float64(30.265491900843113), (8, 4): np.float64(69.77105417004964), (8, 5): np.float64(65.27633568147036), (8, 6): np.float64(42.44997055358225), (8, 7): np.float64(60.01666435249463), (8, 8): np.float64(0.0), (8, 9): np.float64(30.805843601498726), (9, 0): np.float64(23.40939982143925), (9, 1): np.float64(66.21933252457322), (9, 2): np.float64(33.95585369269929), (9, 3): np.float64(11.0), (9, 4): np.float64(55.036351623268054), (9, 5): np.float64(35.014282800023196), (9, 6): np.float64(21.095023109728988), (9, 7): np.float64(34.132096331752024), (9, 8): np.float64(30.805843601498726), (9, 9): np.float64(0.0)}\n"
     ]
    }
   ],
   "source": [
    "distancias= {}\n",
    "for i in range(len(matriz)):\n",
    "    for j in range(len(matriz)):\n",
    "        distancia = np.sqrt((matriz[i, 0] - matriz[j, 0])**2 + (matriz[i, 1] - matriz[j, 1])**2)\n",
    "        distancias[(i,j)]= distancia\n",
    "print(distancias)"
   ]
  },
  {
   "cell_type": "code",
   "execution_count": 14,
   "id": "4ebe8ec2-c33b-4a51-8ccb-74dc23bd240d",
   "metadata": {},
   "outputs": [],
   "source": [
    "frame_distancias= pd.DataFrame(np.zeros((10,10)))"
   ]
  },
  {
   "cell_type": "code",
   "execution_count": 15,
   "id": "d26be8a9-0cda-4b20-9096-ee6b7c1a003c",
   "metadata": {},
   "outputs": [
    {
     "ename": "NameError",
     "evalue": "name 'distancias' is not defined",
     "output_type": "error",
     "traceback": [
      "\u001b[31m---------------------------------------------------------------------------\u001b[39m",
      "\u001b[31mNameError\u001b[39m                                 Traceback (most recent call last)",
      "\u001b[36mCell\u001b[39m\u001b[36m \u001b[39m\u001b[32mIn[15]\u001b[39m\u001b[32m, line 1\u001b[39m\n\u001b[32m----> \u001b[39m\u001b[32m1\u001b[39m \u001b[38;5;28;01mfor\u001b[39;00m (i,j), dist \u001b[38;5;129;01min\u001b[39;00m \u001b[43mdistancias\u001b[49m.items():\n\u001b[32m      2\u001b[39m     frame_distancias.iloc[i,j]= dist\n\u001b[32m      3\u001b[39m     \u001b[38;5;66;03m#print(frame_distancias)\u001b[39;00m\n",
      "\u001b[31mNameError\u001b[39m: name 'distancias' is not defined"
     ]
    }
   ],
   "source": [
    "for (i,j), dist in distancias.items():\n",
    "    frame_distancias.iloc[i,j]= dist\n",
    "    #print(frame_distancias)"
   ]
  },
  {
   "cell_type": "code",
   "execution_count": 16,
   "id": "5bea5d93-a9cd-4c23-b7f7-22494cd16bd3",
   "metadata": {},
   "outputs": [
    {
     "name": "stdout",
     "output_type": "stream",
     "text": [
      "   Día  Temperatura\n",
      "0    1           24\n",
      "1    2           30\n",
      "2    3           16\n",
      "3    4           32\n",
      "4    5           35\n"
     ]
    }
   ],
   "source": [
    "#ejercicio 7\n",
    "import numpy as np\n",
    "import pandas as pd\n",
    "temperaturas= np.random.randint(10, 41, size= 365)\n",
    "serie_temp= pd.Series(temperaturas)\n",
    "dataframe = pd.DataFrame({\n",
    "    \"Día\": np.arange(1, 366),\n",
    "    \"Temperatura\": temperaturas\n",
    "})\n",
    "print(dataframe.head())\n",
    "\n"
   ]
  },
  {
   "cell_type": "code",
   "execution_count": 9,
   "id": "9d4954f1-1ef7-4916-b00b-04ac45bcfbb3",
   "metadata": {},
   "outputs": [],
   "source": [
    "diccionario = {}\n",
    "for mes in range(1,13):\n",
    "    inicio= (mes-1)*30\n",
    "    fin= mes*30\n",
    "    media_mes= dataframe.iloc[inicio:fin][\"Temperatura\"].mean()\n",
    "    diccionario[f\"Mes{mes}\"]= media_mes"
   ]
  },
  {
   "cell_type": "code",
   "execution_count": 10,
   "id": "b288987e-afd7-46bc-beb8-0caa926eb975",
   "metadata": {},
   "outputs": [
    {
     "name": "stdout",
     "output_type": "stream",
     "text": [
      "Mes7     28.733333\n",
      "Mes8     26.700000\n",
      "Mes10    26.333333\n",
      "Mes2     25.433333\n",
      "Mes12    25.166667\n",
      "Mes4     24.700000\n",
      "Mes6     24.366667\n",
      "Mes5     24.166667\n",
      "Mes3     24.066667\n",
      "Mes1     23.866667\n",
      "Mes11    23.766667\n",
      "Mes9     22.800000\n",
      "dtype: float64\n"
     ]
    }
   ],
   "source": [
    "serie_medias= pd.Series(diccionario).sort_values(ascending=False)\n",
    "print(serie_medias)"
   ]
  },
  {
   "cell_type": "code",
   "execution_count": 11,
   "id": "0d68d6c8-fac5-43a1-8548-35e467665e74",
   "metadata": {},
   "outputs": [
    {
     "name": "stdout",
     "output_type": "stream",
     "text": [
      "   Region_1  Region_2  Region_3  Region_4  Region_5\n",
      "0  0.181570  0.535344  0.909542  0.490432  0.668370\n",
      "1  0.226302  0.866574  0.361892  0.889977  0.533305\n",
      "2  0.692509  0.741519  0.843295  0.523638  0.992121\n",
      "3  0.943044  0.214350  0.833489  0.663641  0.673565\n",
      "4  0.131077  0.208390  0.656496  0.174290  0.546376\n"
     ]
    }
   ],
   "source": [
    "#ejercicio 8\n",
    "matriz= np.random.rand(100,5)\n",
    "dataF= pd.DataFrame(matriz, columns=[f\"Region_{i}\" for i in range(1,6)])\n",
    "print(dataF.head())"
   ]
  },
  {
   "cell_type": "code",
   "execution_count": 18,
   "id": "c8bd4ab7-1ae4-49bf-8281-408b5f43b173",
   "metadata": {},
   "outputs": [],
   "source": [
    "diccionario_medias = {}\n",
    "for columna in dataF.columns:\n",
    "    diccionario_medias[columna] = dataF[columna].mean()"
   ]
  },
  {
   "cell_type": "code",
   "execution_count": 19,
   "id": "7e39cd11-748c-48a6-92c2-09f93f28f709",
   "metadata": {},
   "outputs": [
    {
     "name": "stdout",
     "output_type": "stream",
     "text": [
      "Region_4    0.544369\n",
      "Region_2    0.518625\n",
      "Region_5    0.511262\n",
      "Region_3    0.506481\n",
      "Region_1    0.500094\n",
      "dtype: float64\n"
     ]
    }
   ],
   "source": [
    "serie_medias= pd.Series(diccionario_medias).sort_values(ascending=False)\n",
    "print(serie_medias)"
   ]
  },
  {
   "cell_type": "code",
   "execution_count": 20,
   "id": "657bbe8a-0ed5-4049-9300-daa81f18eb32",
   "metadata": {},
   "outputs": [],
   "source": [
    "# ejercicio 9\n",
    "matriz= np.random.rand(200,4)"
   ]
  },
  {
   "cell_type": "code",
   "execution_count": 21,
   "id": "d7c2c207-35ca-4d1c-933c-0a9a05e3edef",
   "metadata": {},
   "outputs": [
    {
     "name": "stdout",
     "output_type": "stream",
     "text": [
      "     Área_1    Área_2    Área_3    Área_4\n",
      "0  0.462520  0.067999  0.782648  0.001060\n",
      "1  0.605692  0.775943  0.793422  0.811548\n",
      "2  0.451643  0.862607  0.676063  0.510697\n",
      "3  0.046053  0.228589  0.544867  0.867009\n",
      "4  0.069836  0.433792  0.151626  0.493397\n"
     ]
    }
   ],
   "source": [
    "df=pd.DataFrame(matriz,columns=[f\"Área_{i}\" for i in range(1, 5)])\n",
    "print(df.head())"
   ]
  },
  {
   "cell_type": "code",
   "execution_count": 22,
   "id": "c17a0398-fb08-4bb4-8e64-9b2a5494d2b4",
   "metadata": {},
   "outputs": [],
   "source": [
    "diccionario_corr = {}\n",
    "for i in range(len(df.columns)):\n",
    "    for j in range(len(df.columns)):\n",
    "        area_i = df.columns[i]\n",
    "        area_j = df.columns[j]\n",
    "        corr = df[area_i].corr(df[area_j])  # correlación de Pearson\n",
    "        diccionario_corr[(area_i, area_j)] = corr"
   ]
  },
  {
   "cell_type": "code",
   "execution_count": 23,
   "id": "a73705c4-c3ca-4364-b767-54289a1ba7d5",
   "metadata": {},
   "outputs": [
    {
     "name": "stdout",
     "output_type": "stream",
     "text": [
      "          Área_1    Área_2    Área_3    Área_4\n",
      "Área_1       1.0 -0.064403 -0.047713 -0.044888\n",
      "Área_2 -0.064403       1.0  0.013015 -0.067343\n",
      "Área_3 -0.047713  0.013015       1.0  0.006954\n",
      "Área_4 -0.044888 -0.067343  0.006954       1.0\n"
     ]
    }
   ],
   "source": [
    "matriz_conectividad = pd.DataFrame(\n",
    "    index=df.columns, \n",
    "    columns=df.columns\n",
    ")\n",
    "\n",
    "for (area_i, area_j), valor in diccionario_corr.items():\n",
    "    matriz_conectividad.loc[area_i, area_j] = valor\n",
    "print(matriz_conectividad)"
   ]
  },
  {
   "cell_type": "code",
   "execution_count": 24,
   "id": "cd24749a-89e7-49e3-847d-dbb226dd6ea4",
   "metadata": {},
   "outputs": [],
   "source": [
    "#ejercicio 10\n",
    "neuronas = [f\"Neurona_{i}\" for i in range(1, 51)]\n",
    "diccionario_actividad= {}\n",
    "for neurona in neuronas:\n",
    "    actividad= np.random.randint(0,2,size=100)\n",
    "    diccionario_actividad[neurona]= actividad\n",
    "    "
   ]
  },
  {
   "cell_type": "code",
   "execution_count": 27,
   "id": "f05d89bb-3f2f-44a2-819f-87f5601af7a3",
   "metadata": {},
   "outputs": [
    {
     "name": "stdout",
     "output_type": "stream",
     "text": [
      "           ms_1  ms_2  ms_3  ms_4  ms_5  ms_6  ms_7  ms_8  ms_9  ms_10  ...  \\\n",
      "Neurona_1     0     1     1     1     1     0     0     0     1      0  ...   \n",
      "Neurona_2     1     1     0     0     1     1     0     0     0      1  ...   \n",
      "Neurona_3     1     0     1     0     0     1     1     0     0      1  ...   \n",
      "Neurona_4     0     0     0     1     1     1     1     1     1      1  ...   \n",
      "Neurona_5     0     1     1     1     1     1     1     1     1      0  ...   \n",
      "\n",
      "           ms_91  ms_92  ms_93  ms_94  ms_95  ms_96  ms_97  ms_98  ms_99  \\\n",
      "Neurona_1      0      1      0      1      1      1      0      0      1   \n",
      "Neurona_2      0      0      0      1      1      0      1      0      1   \n",
      "Neurona_3      0      0      1      1      0      1      0      0      0   \n",
      "Neurona_4      0      1      0      0      1      1      1      0      1   \n",
      "Neurona_5      0      0      0      0      1      1      0      0      1   \n",
      "\n",
      "           ms_100  \n",
      "Neurona_1       1  \n",
      "Neurona_2       0  \n",
      "Neurona_3       0  \n",
      "Neurona_4       1  \n",
      "Neurona_5       1  \n",
      "\n",
      "[5 rows x 100 columns]\n"
     ]
    }
   ],
   "source": [
    "datf= pd.DataFrame(diccionario_actividad).T\n",
    "datf.columns= [f\"ms_{i}\" for i in range(1, 101)]\n",
    "print(datf.head())"
   ]
  },
  {
   "cell_type": "code",
   "execution_count": 28,
   "id": "58ce942c-ff90-4d1d-aedf-cf75a46d4f79",
   "metadata": {},
   "outputs": [],
   "source": [
    "conteo_disparos = {}\n",
    "for neurona, actividad in diccionario_actividad.items():\n",
    "    conteo_disparos[neurona] = np.sum(actividad)"
   ]
  },
  {
   "cell_type": "code",
   "execution_count": 30,
   "id": "2fb347f3-d725-4b0b-be34-b8ce5157bb2c",
   "metadata": {},
   "outputs": [
    {
     "name": "stdout",
     "output_type": "stream",
     "text": [
      "Neurona_49    60\n",
      "Neurona_18    59\n",
      "Neurona_45    58\n",
      "Neurona_8     57\n",
      "Neurona_11    57\n",
      "Neurona_6     57\n",
      "Neurona_30    57\n",
      "Neurona_34    56\n",
      "Neurona_7     56\n",
      "Neurona_1     56\n",
      "Neurona_13    55\n",
      "Neurona_15    55\n",
      "Neurona_10    54\n",
      "Neurona_28    53\n",
      "Neurona_29    53\n",
      "Neurona_32    52\n",
      "Neurona_5     52\n",
      "Neurona_16    52\n",
      "Neurona_31    51\n",
      "Neurona_33    51\n",
      "Neurona_9     51\n",
      "Neurona_21    51\n",
      "Neurona_17    50\n",
      "Neurona_2     50\n",
      "Neurona_24    50\n",
      "Neurona_22    50\n",
      "Neurona_19    50\n",
      "Neurona_44    50\n",
      "Neurona_26    50\n",
      "Neurona_27    49\n",
      "Neurona_42    49\n",
      "Neurona_25    48\n",
      "Neurona_35    47\n",
      "Neurona_23    47\n",
      "Neurona_36    46\n",
      "Neurona_47    45\n",
      "Neurona_4     45\n",
      "Neurona_14    45\n",
      "Neurona_50    44\n",
      "Neurona_12    44\n",
      "Neurona_20    44\n",
      "Neurona_38    44\n",
      "Neurona_3     43\n",
      "Neurona_48    43\n",
      "Neurona_39    42\n",
      "Neurona_41    42\n",
      "Neurona_43    41\n",
      "Neurona_40    40\n",
      "Neurona_37    38\n",
      "Neurona_46    38\n",
      "dtype: int64\n"
     ]
    }
   ],
   "source": [
    "serie_disparos = pd.Series(conteo_disparos).sort_values(ascending=False)\n",
    "print(serie_disparos)"
   ]
  },
  {
   "cell_type": "code",
   "execution_count": 31,
   "id": "ef04255c-8bd7-42b1-89a2-ebbaf74ac6c7",
   "metadata": {},
   "outputs": [
    {
     "name": "stdout",
     "output_type": "stream",
     "text": [
      "Primeras filas del DataFrame:\n",
      "      Canal_1    Canal_2    Canal_3    Canal_4    Canal_5    Canal_6  \\\n",
      "0  74.409051  81.292712   4.397880 -85.973316 -43.798038  37.257872   \n",
      "1  35.624517  -7.901432  21.109708 -92.348680 -44.606093  31.274856   \n",
      "2 -78.576107   1.620202 -93.955122 -98.492102   7.938213  50.772282   \n",
      "3  75.658738 -68.268432  22.324127 -99.424897  -0.963551  38.860287   \n",
      "4  -2.940996  18.846615 -10.308710  40.838338 -44.682818 -95.942443   \n",
      "\n",
      "     Canal_7    Canal_8  \n",
      "0 -55.406802 -55.395272  \n",
      "1 -52.332610  44.456480  \n",
      "2  86.806431  -4.998237  \n",
      "3 -71.130798  43.875025  \n",
      "4  40.172785 -47.853313  \n",
      "\n",
      "Potencia media por canal (ordenada):\n",
      " Canal_1    3433.563039\n",
      "Canal_4    3349.668984\n",
      "Canal_2    3316.949368\n",
      "Canal_8    3292.658832\n",
      "Canal_7    3276.591296\n",
      "Canal_5    3261.650177\n",
      "Canal_6    3259.564410\n",
      "Canal_3    3110.062155\n",
      "dtype: float64\n",
      "\n",
      "El canal con mayor potencia es: Canal_1\n"
     ]
    }
   ],
   "source": [
    "#ejercicio11\n",
    "matriz = np.random.uniform(-100, 100, size=(500, 8))\n",
    "\n",
    "df = pd.DataFrame(matriz, columns=[f\"Canal_{i}\" for i in range(1, 9)])\n",
    "print(\"Primeras filas del DataFrame:\\n\", df.head())\n",
    "\n",
    "diccionario_potencia = {}\n",
    "for canal in df.columns:\n",
    "    potencia = (df[canal]**2).mean()\n",
    "    diccionario_potencia[canal] = potencia\n",
    "\n",
    "\n",
    "serie_potencia = pd.Series(diccionario_potencia).sort_values(ascending=False)\n",
    "print(\"\\nPotencia media por canal (ordenada):\\n\", serie_potencia)\n",
    "\n",
    "\n",
    "canal_max = serie_potencia.idxmax()\n",
    "print(f\"\\nEl canal con mayor potencia es: {canal_max}\")"
   ]
  },
  {
   "cell_type": "code",
   "execution_count": 32,
   "id": "734b117a-6d05-4bc8-9b99-d47484ac5cc4",
   "metadata": {},
   "outputs": [],
   "source": [
    "np.random.seed(42)  # reproducibilidad\n",
    "datos = np.random.randint(200, 801, size=(30, 3))"
   ]
  },
  {
   "cell_type": "code",
   "execution_count": 33,
   "id": "77fb01f2-1074-4539-acee-dc311f3d571d",
   "metadata": {},
   "outputs": [
    {
     "name": "stdout",
     "output_type": "stream",
     "text": [
      "          Cond_A  Cond_B  Cond_C\n",
      "Sujeto_1     302     635     470\n",
      "Sujeto_2     306     271     220\n",
      "Sujeto_3     321     666     414\n",
      "Sujeto_4     530     658     287\n",
      "Sujeto_5     572     299     330\n"
     ]
    }
   ],
   "source": [
    "df = pd.DataFrame(datos, columns=[\"Cond_A\", \"Cond_B\", \"Cond_C\"])\n",
    "df.index = [f\"Sujeto_{i}\" for i in range(1, 31)]\n",
    "print(df.head())"
   ]
  },
  {
   "cell_type": "code",
   "execution_count": 38,
   "id": "6acf7422-5ddc-48c3-aea1-97e51ae90463",
   "metadata": {},
   "outputs": [],
   "source": [
    "diccionario_prom={}\n",
    "for col in df.columns:\n",
    "    diccionario_prom[col]=df[col].mean()"
   ]
  },
  {
   "cell_type": "code",
   "execution_count": 39,
   "id": "e115b26a-8fe2-4755-924d-f854f7a6a0b9",
   "metadata": {},
   "outputs": [
    {
     "name": "stdout",
     "output_type": "stream",
     "text": [
      "Cond_C    472.5\n",
      "Cond_A    485.4\n",
      "Cond_B    520.1\n",
      "dtype: float64\n"
     ]
    }
   ],
   "source": [
    "serie_prom= pd.Series(diccionario_prom).sort_values()\n",
    "print(serie_prom)"
   ]
  },
  {
   "cell_type": "code",
   "execution_count": 40,
   "id": "85bb5184-3fa6-4309-aa51-22ef0e3712c1",
   "metadata": {},
   "outputs": [
    {
     "name": "stdout",
     "output_type": "stream",
     "text": [
      "          Cond_A  Cond_B  Cond_C mejor condición\n",
      "Sujeto_1     302     635     470          Cond_A\n",
      "Sujeto_2     306     271     220          Cond_C\n",
      "Sujeto_3     321     666     414          Cond_A\n",
      "Sujeto_4     530     658     287          Cond_C\n",
      "Sujeto_5     572     299     330          Cond_B\n"
     ]
    }
   ],
   "source": [
    "df[\"mejor condición\"]= df.idxmin(axis=1)\n",
    "print(df.head())\n"
   ]
  },
  {
   "cell_type": "code",
   "execution_count": 41,
   "id": "2d8ccb83-d47e-4de8-9ca5-f1b2a80723d4",
   "metadata": {},
   "outputs": [
    {
     "name": "stdout",
     "output_type": "stream",
     "text": [
      "mejor condición\n",
      "Cond_A    12\n",
      "Cond_C    10\n",
      "Cond_B     8\n",
      "Name: count, dtype: int64\n"
     ]
    }
   ],
   "source": [
    "conteo= df[\"mejor condición\"].value_counts()\n",
    "print(conteo)"
   ]
  },
  {
   "cell_type": "code",
   "execution_count": null,
   "id": "b0aa065e-bd9d-4080-949d-5d3f5d8b66be",
   "metadata": {},
   "outputs": [],
   "source": []
  }
 ],
 "metadata": {
  "kernelspec": {
   "display_name": "Python 3 (ipykernel)",
   "language": "python",
   "name": "python3"
  },
  "language_info": {
   "codemirror_mode": {
    "name": "ipython",
    "version": 3
   },
   "file_extension": ".py",
   "mimetype": "text/x-python",
   "name": "python",
   "nbconvert_exporter": "python",
   "pygments_lexer": "ipython3",
   "version": "3.13.5"
  }
 },
 "nbformat": 4,
 "nbformat_minor": 5
}
