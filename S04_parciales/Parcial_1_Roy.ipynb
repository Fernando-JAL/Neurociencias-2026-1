{
 "cells": [
  {
   "cell_type": "markdown",
   "id": "62aed855-3061-45f4-88bf-2a75a8d341c5",
   "metadata": {},
   "source": [
    "🔹 Ejercicio Frecuencia de números en matriz\n",
    "\n",
    "Genera una matriz 6x6 de enteros aleatorios entre 1 y 10 usando NumPy.\n",
    "\n",
    "Recorre la matriz y guarda en un diccionario la frecuencia de cada número.\n",
    "\n",
    "Convierte el diccionario en una lista de tuplas (número, frecuencia) y ordénala de mayor a menor frecuencia.\n",
    "\n",
    "Imprime la matriz, el diccionario y la lista ordenada."
   ]
  },
  {
   "cell_type": "markdown",
   "id": "a7dcab51-cf15-49bd-8648-c0004bb2a6ca",
   "metadata": {},
   "source": [
    "🔹 Ejercicio Promedios por columna y gráfico de líneas\n",
    "\n",
    "Crea una matriz 10x5 con enteros entre 10 y 100.\n",
    "\n",
    "Calcula el promedio de cada columna usando un bucle.\n",
    "\n",
    "Guarda los resultados en un diccionario con claves \"col_1\" ... \"col_5\".\n",
    "\n",
    "Convierte los valores en una lista y grafícalos en una línea (line plot) mostrando el promedio por columna."
   ]
  },
  {
   "cell_type": "markdown",
   "id": "274e5828-168a-4eae-bf98-4ee05a06436a",
   "metadata": {},
   "source": [
    "🔹 Ejercicio Evolución temporal simulada\n",
    "\n",
    "Simula con NumPy una lista de 30 días con valores aleatorios de temperatura entre 15°C y 35°C.\n",
    "\n",
    "Almacena los valores en un diccionario con claves \"día_1\", \"día_2\", ....\n",
    "\n",
    "Usa un bucle para crear una lista con los días donde la temperatura superó 30°C.\n",
    "\n",
    "Grafica las temperaturas en un gráfico de línea con puntos marcados (scatter + line plot).\n",
    "\n",
    "Marca en rojo los días con temperatura > 30°C."
   ]
  },
  {
   "cell_type": "markdown",
   "id": "859f5929-28bb-4708-ac2e-ea39d115eabc",
   "metadata": {},
   "source": [
    "🔹 Ejercicio Comparación de distribuciones\n",
    "\n",
    "Genera dos arreglos de 100 números aleatorios con distribución normal:\n",
    "\n",
    "grupo_A: media 50, desviación 10\n",
    "\n",
    "grupo_B: media 60, desviación 15\n",
    "\n",
    "Guarda en un diccionario con claves \"A\" y \"B\".\n",
    "\n",
    "Calcula media y desviación estándar de cada grupo y guárdalas en listas.\n",
    "\n",
    "Grafica ambos grupos en un histograma comparativo (superposición con colores diferentes y transparencia)."
   ]
  },
  {
   "cell_type": "markdown",
   "id": "f02dd7ab-0f94-4cd5-ae76-5fdab3434578",
   "metadata": {},
   "source": [
    "🔹 Ejercicio Clasificación de temperaturas\n",
    "\n",
    "Genera una Serie con 50 valores aleatorios entre -10 y 40 (temperaturas).\n",
    "\n",
    "Recorre la Serie y clasifica cada temperatura en un diccionario:\n",
    "\n",
    "\"frío\" si < 10\n",
    "\n",
    "\"templado\" si 10–25\n",
    "\n",
    "\"calor\" si > 25\n",
    "\n",
    "Convierte el diccionario en un DataFrame con columnas \"Temperatura\" y \"Categoría\".\n",
    "\n",
    "Cuenta cuántos valores cayeron en cada categoría."
   ]
  },
  {
   "cell_type": "markdown",
   "id": "47a3878d-a30e-4d68-b2ba-d70aeb6b995e",
   "metadata": {},
   "source": [
    "🔹 Ejercicio Matriz de distancias\n",
    "\n",
    "Genera una matriz 10x2 con coordenadas aleatorias (x, y) entre 0 y 100.\n",
    "\n",
    "Con un bucle, calcula las distancias euclidianas entre cada par de puntos y guárdalas en un diccionario con claves (i,j).\n",
    "\n",
    "Convierte el diccionario en un DataFrame de 10x10 (matriz de distancias).\n",
    "\n",
    "Encuentra el par de puntos más cercanos y el más lejano."
   ]
  },
  {
   "cell_type": "markdown",
   "id": "83110dd5-9367-4715-9160-54cb296b7aa9",
   "metadata": {},
   "source": [
    "🔹 Ejercicio Análisis de series temporales\n",
    "\n",
    "Genera con NumPy una Serie de 365 valores aleatorios entre 10 y 40 (temperatura diaria de un año).\n",
    "\n",
    "Convierte en un DataFrame con columnas \"Día\" y \"Temperatura\".\n",
    "\n",
    "Usa un bucle para calcular la media de cada mes (asume 30 días por mes).\n",
    "\n",
    "Guarda las medias en un diccionario {Mes: Promedio}.\n",
    "\n",
    "Convierte el diccionario en una Series y ordénala de mayor a menor."
   ]
  },
  {
   "cell_type": "markdown",
   "id": "696cbd58-a2f3-4f4b-927b-cf106b0b1eab",
   "metadata": {},
   "source": [
    "🔹 Ejercicio Actividad neuronal por regiones\n",
    "\n",
    "Genera una matriz 100x5 con NumPy representando la actividad de 100 neuronas en 5 regiones cerebrales (valores entre 0 y 1 como tasas de disparo).\n",
    "\n",
    "Convierte la matriz en un DataFrame con columnas \"Región_1\"... \"Región_5\".\n",
    "\n",
    "Usa un bucle para calcular la actividad media de cada región y guárdala en un diccionario.\n",
    "\n",
    "Convierte el diccionario en una Series y ordénala de mayor a menor."
   ]
  },
  {
   "cell_type": "markdown",
   "id": "07f21b80-6ed2-4251-979f-e8c200c8b43d",
   "metadata": {},
   "source": [
    "🔹 Ejercicio Conectividad funcional (correlaciones)\n",
    "\n",
    "Simula con NumPy una matriz 200x4 con series de tiempo de actividad fMRI en 4 áreas cerebrales.\n",
    "\n",
    "Convierte en un DataFrame con columnas \"Área_1\"... \"Área_4\".\n",
    "\n",
    "Con un bucle, calcula la correlación de Pearson entre todas las parejas de áreas y guárdala en un diccionario con claves (Área_i, Área_j).\n",
    "\n",
    "Convierte el diccionario en un DataFrame cuadrado (matriz de conectividad)."
   ]
  },
  {
   "cell_type": "markdown",
   "id": "c1444400-53e6-4b0a-8c84-07327492c649",
   "metadata": {},
   "source": [
    "🔹 Ejercicio Potenciales de acción por neurona\n",
    "\n",
    "Genera una lista de 50 neuronas.\n",
    "\n",
    "Para cada neurona, simula con NumPy una Serie de 100 ms de actividad (valores enteros 0 o 1 indicando si disparó o no).\n",
    "\n",
    "Guarda los resultados en un diccionario {Neurona: Serie}.\n",
    "\n",
    "Crea un DataFrame con todas las neuronas (filas) y tiempos (columnas).\n",
    "\n",
    "Usa un bucle para contar cuántos disparos totales tuvo cada neurona y genera una Series con esos valores."
   ]
  },
  {
   "cell_type": "markdown",
   "id": "b3fa8e28-a6aa-4ea0-a297-8df5b1077855",
   "metadata": {},
   "source": [
    "🔹 Ejercicio EEG por canales\n",
    "\n",
    "Simula una matriz 500x8 con NumPy representando 500 muestras de señal EEG en 8 canales (valores flotantes entre -100 y 100 µV).\n",
    "\n",
    "Convierte la matriz en un DataFrame con columnas \"Canal_1\"... \"Canal_8\".\n",
    "\n",
    "Usa un bucle para calcular la potencia media de cada canal (media del cuadrado de la señal).\n",
    "\n",
    "Guarda los resultados en un diccionario y conviértelo en una Series ordenada.\n",
    "\n",
    "Identifica el canal con mayor potencia."
   ]
  },
  {
   "cell_type": "markdown",
   "id": "64464de2-850c-4c86-b245-843e183f0a68",
   "metadata": {},
   "source": [
    "🔹 Ejercicio Análisis de respuestas a estímulos\n",
    "\n",
    "Genera un DataFrame con 30 sujetos (filas) y 3 condiciones experimentales (\"Cond_A\", \"Cond_B\", \"Cond_C\") con valores de tiempo de reacción simulados (valores entre 200–800 ms).\n",
    "\n",
    "Usa un bucle para calcular el promedio por condición en toda la muestra.\n",
    "\n",
    "Convierte los resultados en un diccionario y luego en una Series.\n",
    "\n",
    "Agrega una columna \"Mejor_condición\" al DataFrame indicando la condición más rápida por sujeto.\n",
    "\n",
    "Cuenta cuántos sujetos respondieron mejor en cada condición."
   ]
  },
  {
   "cell_type": "markdown",
   "id": "2d827767-8ae7-4d54-9eb4-f961b65c00e1",
   "metadata": {},
   "source": [
    "# EJERCICIO 1 Frecuencia de números en matriz"
   ]
  },
  {
   "cell_type": "code",
<<<<<<< Updated upstream
   "execution_count": 1,
=======
   "execution_count": 2,
>>>>>>> Stashed changes
   "id": "ccbf50c4-fa48-4a73-aa6c-6910350befb0",
   "metadata": {},
   "outputs": [],
   "source": [
    "import numpy as np"
   ]
  },
  {
   "cell_type": "code",
<<<<<<< Updated upstream
   "execution_count": null,
   "id": "b9d703e3-ae8f-4636-9a24-04197d89b526",
   "metadata": {},
   "outputs": [],
   "source": []
=======
   "execution_count": 29,
   "id": "b9d703e3-ae8f-4636-9a24-04197d89b526",
   "metadata": {},
   "outputs": [
    {
     "name": "stdout",
     "output_type": "stream",
     "text": [
      "[(1, 5), (2, 5), (3, 2), (4, 3), (5, 3), (6, 3), (7, 1), (8, 1), (9, 8), (10, 4)]\n",
      "[[ 8  8  3 10  9  5]\n",
      " [ 7  2  8  7  7  1]\n",
      " [ 6  1  4  8  9  9]\n",
      " [ 7 10  8  9 10  3]\n",
      " [10  8  8  9  5  5]\n",
      " [ 2  2  6  3  3  6]]\n",
      "{1: 5, 2: 5, 3: 2, 4: 3, 5: 3, 6: 3, 7: 1, 8: 1, 9: 8, 10: 4}\n"
     ]
    }
   ],
   "source": [
    "Matriz= np.random.randint(1,11, size=(6, 6))\n",
    "Matriz\n",
    "\n",
    "Frecuencia={1: 5, 2:5, 3:2, 4:3, 5:3, 6:3, 7:1, 8:1, 9:8, 10:4}\n",
    "Frecuencia\n",
    "\n",
    "Num_Frecuencia= Frecuencia.items()\n",
    "Num_Frecuencia\n",
    "\n",
    "Lista_Tupla=list(Num_Frecuencia)\n",
    "print(Lista_Tupla) # Lista Ordenada\n",
    "print(Matriz) # Matriz\n",
    "print(Frecuencia) #Diccionario"
   ]
>>>>>>> Stashed changes
  },
  {
   "cell_type": "markdown",
   "id": "2e1dcefa-2dc6-4da9-bd79-e9afbc999a2f",
   "metadata": {},
   "source": [
    "# EJERCICIO 2 Promedios por columna y gráfico de líneas"
   ]
  },
  {
   "cell_type": "code",
<<<<<<< Updated upstream
   "execution_count": null,
   "id": "abf4214c-5dbb-4433-9280-130489b0dee4",
   "metadata": {},
   "outputs": [],
   "source": []
=======
   "execution_count": 44,
   "id": "abf4214c-5dbb-4433-9280-130489b0dee4",
   "metadata": {},
   "outputs": [
    {
     "name": "stdout",
     "output_type": "stream",
     "text": [
      "[[ 50  25  82  32  53]\n",
      " [ 92  85  17  44  59]\n",
      " [ 85  95  57  73  41]\n",
      " [100  30  47  49  77]\n",
      " [ 14  52  61  48  43]\n",
      " [ 68  77  79  98  78]\n",
      " [ 56  80  93  41  76]\n",
      " [ 90  62  86  60  14]\n",
      " [100  73  89  59  49]\n",
      " [ 56  18  60  25  18]]\n",
      "[625 519 466 595 454]\n",
      "[71.1 59.7 67.1 52.9 50.8]\n"
     ]
    }
   ],
   "source": [
    "np.random.seed(2) # Esta linea la busque para que me generara siempre los mismos valores porque me la compliqué mucho\n",
    "Matriz= np.random.randint(10, 101, size=(10, 5))\n",
    "print(Matriz)\n",
    "\n",
    "Sumas_colum= Matriz.sum(axis=0)\n",
    "print(Sumaaaaas)\n",
    "\n",
    "num_filas= len(Matriz)\n",
    "promedio= (Sumas_colum/num_filas)\n",
    "print(promedio)\n",
    "\n",
    "Resultados={'Col1':71.1, 'Col2': 59.7, 'Col3':67.1 , 'Col4' : 52.9 , 'Col5': 50.8}\n",
    "Lista_R=list(Resultados)\n",
    "valores_promedios = list(Resultados.values())\n",
    "Columnas= (Resultados.keys())"
   ]
  },
  {
   "cell_type": "code",
   "execution_count": 25,
   "id": "f7c25c72-fcd3-44db-892b-a40ea7819f7e",
   "metadata": {},
   "outputs": [],
   "source": [
    "import matplotlib.pyplot as plt"
   ]
  },
  {
   "cell_type": "code",
   "execution_count": 47,
   "id": "8f5911d7-40a2-450f-9a7d-a32ee11f45a8",
   "metadata": {},
   "outputs": [
    {
     "data": {
      "text/plain": [
       "Text(0, 0.5, 'Promedios')"
      ]
     },
     "execution_count": 47,
     "metadata": {},
     "output_type": "execute_result"
    },
    {
     "data": {
      "image/png": "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",
      "text/plain": [
       "<Figure size 640x480 with 1 Axes>"
      ]
     },
     "metadata": {},
     "output_type": "display_data"
    }
   ],
   "source": [
    "plt.plot(Columnas, valores_promedios, marker=\"o\")\n",
    "plt.xlabel(\"Columnas\")\n",
    "plt.ylabel(\"Promedios\")"
   ]
>>>>>>> Stashed changes
  },
  {
   "cell_type": "markdown",
   "id": "8ff452f9-b5e0-4d53-ac58-d3b7c9c3f3d5",
   "metadata": {},
   "source": [
    "# EJERCICO 3 Evolución temporal simulada"
   ]
  },
  {
   "cell_type": "code",
<<<<<<< Updated upstream
   "execution_count": null,
   "id": "8c45ad7d-56bd-4af9-bab6-fc17f6d00260",
   "metadata": {},
   "outputs": [],
   "source": []
=======
   "execution_count": 48,
   "id": "8c45ad7d-56bd-4af9-bab6-fc17f6d00260",
   "metadata": {},
   "outputs": [],
   "source": [
    "import numpy as np"
   ]
  },
  {
   "cell_type": "code",
   "execution_count": 92,
   "id": "235ab8a1-3ffe-441a-9165-a6bd53bf3937",
   "metadata": {},
   "outputs": [
    {
     "name": "stdout",
     "output_type": "stream",
     "text": [
      "El Dia_2 tuvo una temperatura de 34°C.\n",
      "El Dia_5 tuvo una temperatura de 32°C.\n",
      "El Dia_6 tuvo una temperatura de 33°C.\n",
      "El Dia_8 tuvo una temperatura de 32°C.\n",
      "El Dia_24 tuvo una temperatura de 33°C.\n",
      "Días con temperaturas mayores a 30°C:\n",
      "[('Dia_2', np.int32(34)), ('Dia_5', np.int32(32)), ('Dia_6', np.int32(33)), ('Dia_8', np.int32(32)), ('Dia_24', np.int32(33))]\n"
     ]
    }
   ],
   "source": [
    "Lista_Temp= np.random.randint(15, 35, size=30)\n",
    "Lista_Temp\n",
    "\n",
    "Diccionario_DiasTemp={}\n",
    "\n",
    "for i in range(len(Lista_Temp)):\n",
    "    llave = f'Dia_{i+1}'\n",
    "    valor = Lista_Temp[i]\n",
    "    Diccionario_DiasTemp[llave] = valor \n",
    "\n",
    "Diccionario_DiasTemp\n",
    "\n",
    "calor=[]\n",
    "\n",
    "for dia, temp in Diccionario_DiasTemp.items():\n",
    "    if temp > 30:\n",
    "        print(f\"El {dia} tuvo una temperatura de {temp}°C.\")\n",
    "\n",
    "        calor.append((dia, temp))\n",
    "\n",
    "print(\"Días con temperaturas mayores a 30°C:\")\n",
    "print(calor)"
   ]
  },
  {
   "cell_type": "code",
   "execution_count": 108,
   "id": "e7a35705-8dbf-43e2-85b6-242e9fa4d08c",
   "metadata": {},
   "outputs": [
    {
     "data": {
      "image/png": "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",
      "text/plain": [
       "<Figure size 640x480 with 1 Axes>"
      ]
     },
     "metadata": {},
     "output_type": "display_data"
    }
   ],
   "source": [
    "import matplotlib.pyplot as plt\n",
    "\n",
    "Díass= range(0,30)\n",
    "plt.plot(Díass, Lista_Temp, marker=\"o\")\n",
    "plt.xlabel(\"Días\")\n",
    "plt.ylabel(\"Temperatura\")\n",
    "\n",
    "#Aqui me ayudo chat porque no pude marcar en rojo las temp arriba de 30 :(\n",
    "dias_calurosos = [int(item[0].replace('Dia_', '')) - 1 for item in calor]\n",
    "temps_calurosas = [item[1] for item in calor]\n",
    "plt.scatter(dias_calurosos, temps_calurosas, color='red', s=100)\n",
    "plt.show()"
   ]
>>>>>>> Stashed changes
  },
  {
   "cell_type": "markdown",
   "id": "f7248ccf-3438-4efa-a47e-e08d10ac39a4",
   "metadata": {},
   "source": [
    "# EJERCICIO 4 Comparación de distribuciones"
   ]
  },
  {
   "cell_type": "code",
<<<<<<< Updated upstream
   "execution_count": null,
   "id": "fe8bc7cd-d062-47d1-998f-ae624475202f",
   "metadata": {},
   "outputs": [],
   "source": []
=======
   "execution_count": 109,
   "id": "fe8bc7cd-d062-47d1-998f-ae624475202f",
   "metadata": {},
   "outputs": [],
   "source": [
    "import numpy as np"
   ]
  },
  {
   "cell_type": "code",
   "execution_count": 138,
   "id": "e4eae570-6c24-4224-9f52-077cbe5ab3f1",
   "metadata": {},
   "outputs": [
    {
     "name": "stdout",
     "output_type": "stream",
     "text": [
      "48.78191085806196\n",
      "9.365997105150006\n",
      "61.4613579725349\n",
      "12.474518154447553\n"
     ]
    },
    {
     "data": {
      "text/plain": [
       "Text(0, 0.5, 'Frecuencia')"
      ]
     },
     "execution_count": 138,
     "metadata": {},
     "output_type": "execute_result"
    },
    {
     "data": {
      "image/png": "iVBORw0KGgoAAAANSUhEUgAAAjsAAAGwCAYAAABPSaTdAAAAOnRFWHRTb2Z0d2FyZQBNYXRwbG90bGliIHZlcnNpb24zLjEwLjYsIGh0dHBzOi8vbWF0cGxvdGxpYi5vcmcvq6yFwwAAAAlwSFlzAAAPYQAAD2EBqD+naQAAKDJJREFUeJzt3QlcVWX+x/EfCCJuGCYqCWruK6U55pLiaBo6qGllTZam5WguuYwZNZpOKdpujWlZ6csxM53cLZcEJNdERbMc3Bh03M0UgUSS8389T/97x6vgghfuvc/9vF+vE9xzzr334el4+fJsx8eyLEsAAAAM5evqAgAAABQmwg4AADAaYQcAABiNsAMAAIxG2AEAAEYj7AAAAKMRdgAAgNH8xHC5ubly7NgxKVOmjPj4+Li6OAAA4CaoZQAvXLggoaGh4ut7e20zxocdFXTCwsJcXQwAAFAAR44ckSpVqsjtMD7sqBYdW2WVLVvW1cUBAAA3IT09XTdW2H6P3w7jw46t60oFHcIOAACexRlDUBigDAAAjEbYAQAARiPsAAAAoxF2AACA0Qg7AADAaIQdAABgNMIOAAAwGmEHAAAYjbADAACMRtgBAABGI+wAAACjEXYAAIDRCDsAAMBohB0AAGA0wg4AADAaYQcAABiNsAMAAIxG2AEAAEZzadiJjY2VZs2aSZkyZSQkJES6d+8uKSkpeZ5rWZZERUWJj4+PLFmypMjLCgAAPJNLw8769etl8ODBsmXLFlm7dq3k5ORIx44dJTMz85pz33vvPR10AAAAboWfuNCqVascHs+ePVu38Gzfvl3atGlj35+cnCxvv/22JCUlSeXKlV1QUgAA4KlcGnaudv78ef01ODjYvi8rK0v+/Oc/y7Rp06RSpUo3fI3s7Gy92aSnpxdSaQEAgCdwmwHKubm5Mnz4cGnVqpU0bNjQvn/EiBHSsmVL6dat202PAwoKCrJvYWFhhVhqAADg7tymZUeN3dmzZ49s2LDBvm/ZsmUSFxcnO3fuvOnXiYmJkZEjRzq07BB4AADwXm7RsjNkyBBZsWKFxMfHS5UqVez7VdA5ePCglCtXTvz8/PSm9OzZUyIjI/N8rYCAAClbtqzDBgAAvJePpeZ0u4h666FDh8rixYslISFBatWq5XD8xIkTcubMGYd9jRo1kqlTp0p0dLRUr179hu+hWnZUd5YaD0TwAQDAMzjz97efq7uu5s2bJ0uXLtVr7ahwo6gfLjAwUA9IzmtQcnh4+E0FHQAAAJd2Y02fPl0nNtUlpaaU27Yvv/zSlcUCAAAGcWnLTkF60FzY6wYAADyQWwxQBgAAKCyEHQAAYDTCDgAAMBphBwAAGI2wAwAAjEbYAQAARiPsAAAAoxF2AACA0Qg7AADAaIQdAABgNMIOAAAwGmEHAAAYjbADAACMRtgBAABGI+wAAACjEXYAAIDRCDsAAMBohB0AAGA0wg4AADAaYQcAABiNsAMAAIxG2AEAAEYj7AAAAKMRdgAAgNEIOwAAwGiEHQAAYDTCDgAAMBphBwAAGI2wAwAAjEbYAQAARiPsAAAAoxF2AACA0Qg7AADAaIQdAABgNMIOAAAwGmEHAAAYjbADAACMRtgBAABGc2nYiY2NlWbNmkmZMmUkJCREunfvLikpKfbjZ8+elaFDh0qdOnUkMDBQwsPDZdiwYXL+/HlXFhsAAHgQl4ad9evXy+DBg2XLli2ydu1aycnJkY4dO0pmZqY+fuzYMb299dZbsmfPHpk9e7asWrVK+vfv78piAwAAD+JjWZYlbuL06dO6hUeFoDZt2uR5zsKFC6V37946EPn5+d3wNdPT0yUoKEi3BpUtW7YQSg0AAJzNmb+/b5wWipCteyo4OPi656gfOr+gk52drbcrKwsAAHgvtxmgnJubK8OHD5dWrVpJw4YN8zznzJkz8tprr8mAAQOuOw5IJUHbFhYWVoilBgAA7s5turEGDRok33zzjWzYsEGqVKlyzXHVQvPggw/qVp9ly5aJv7//TbfsqMBDNxYAAJ7DuG6sIUOGyIoVKyQxMTHPoHPhwgV56KGH9KytxYsX5xt0lICAAL0BAAC4vBtLNSqpoKMCTFxcnFSvXj3PZKdmaBUvXly36JQoUcIlZQUAAJ7JpS07atr5vHnzZOnSpbrV5sSJE3q/arZS6+rYgk5WVpbMnTtXP7YNOK5QoYIUK1bMlcUHAAAewKVjdnx8fPLcP2vWLOnbt68kJCRIu3bt8jwnNTVVqlWrdsP3YOo5AACex5gxOzfKWZGRkTc8BwAAwCOmngMAABQGwg4AADAaYQcAABiNsAMAAIxG2AEAAEYj7AAAAKMRdgAAgNEIOwAAwGiEHQAAYDTCDgAAMBphBwAAGI2wAwAAjEbYAQAARiPsAAAAoxF2AACA0Qg7AADAaIQdAABgNMIOAAAwmp+rCwAAwA0lRIvbiFzu6hLgFtGyAwAAjEbYAQAARiPsAAAAoxF2AACA0Qg7AADAaIQdAABgNMIOAAAwGmEHAAAYjbADAACMRtgBAABGI+wAAACjEXYAAIDRCDsAAMBohB0AAGA0wg4AADAaYQcAABiNsAMAAIxG2AEAAEYj7AAAAKMRdgAAgNFcGnZiY2OlWbNmUqZMGQkJCZHu3btLSkqKwzkXL16UwYMHS/ny5aV06dLSs2dPOXnypMvKDAAAPItLw8769et1kNmyZYusXbtWcnJypGPHjpKZmWk/Z8SIEbJ8+XJZuHChPv/YsWPSo0cPVxYbAAB4EB/LsixxE6dPn9YtPCrUtGnTRs6fPy8VKlSQefPmySOPPKLP+fe//y316tWTzZs3y/3333/Na2RnZ+vNJj09XcLCwvRrlS1btkh/HgCAkyREi9uIXO7qEniF9PR0CQoKcsrvb7cas6N+ICU4OFh/3b59u27t6dChg/2cunXrSnh4uA47+XWNqcqxbSroAAAA7+U2YSc3N1eGDx8urVq1koYNG+p9J06ckOLFi0u5cuUczq1YsaI+lpeYmBgdmmzbkSNHiqT8AADAPfmJm1Bjd/bs2SMbNmy4rdcJCAjQGwAAgNu07AwZMkRWrFgh8fHxUqVKFfv+SpUqyaVLl+TcuXMO56vZWOoYAACAW4cdNTZaBZ3FixdLXFycVK9e3eF406ZNxd/fX9atW2ffp6amHz58WFq0aOGCEgMAAE/j5+quKzXTaunSpXqtHds4HDWwODAwUH/t37+/jBw5Ug9aVqOxhw4dqoNOXjOxAAAA3CrsTJ8+XX+NjIx02D9r1izp27ev/v7dd98VX19fvZigmlLeqVMn+fDDD11SXgAA4Hncap0dd5+nDwBwEdbZ8Trppq6zAwAA4GyEHQAAYDTCDgAAMBphBwAAGI2wAwAAjEbYAQAARiPsAAAAoxF2AACA0Qg7AADAaIQdAABgNMIOAAAwGmEHAAAYjbADAACMRtgBAABGI+wAAACjEXYAAIDRCDsAAMBohB0AAGA0wg4AADAaYQcAABiNsAMAAIzmV9AnZmZmyvr16+Xw4cNy6dIlh2PDhg1zRtkAAABcE3Z27twpnTt3lqysLB16goOD5cyZM1KyZEkJCQkh7AAAAM/uxhoxYoRER0fLL7/8IoGBgbJlyxZJS0uTpk2byltvveX8UgIAABRl2ElOTpZRo0aJr6+vFCtWTLKzsyUsLEzeeOMNefnllwtaFgAAAPcIO/7+/jroKKrbSo3bUYKCguTIkSPOLSEAAEBRj9m59957Zdu2bVKrVi1p27atjBs3To/Z+ec//ykNGza8nfIAAAC4vmVn0qRJUrlyZf39xIkT5Y477pBBgwbJ6dOn5eOPP3ZuCQEAAIq6Zee+++6zf6+6sVatWnU7ZQAAACg0LCoIAACMdtMtO02aNJF169bpLis1ZsfHxyffc3fs2OGs8gEAABRN2OnWrZsEBATo77t373577woAAFBEfCzLssRg6enpekr8+fPnpWzZsq4uDgCgIBKixW1ELnd1CbxCuhN/fxdozI6adr5169Zr9qt9SUlJt1UgAAAAZypQ2Bk8eHCeiwcePXpUHwMAAPDosPPTTz/pActXUwOX1TEAAACPDjtqoPLJkyev2X/8+HHx8yvQ0j0AAADuE3Y6duwoMTExetCQzblz5/RNQB988EFnlg8AAKDow85bb72lx+xUrVpV2rVrp7fq1avLiRMn5O23377p10lMTJTo6GgJDQ3V6/YsWbLE4XhGRoYMGTJEqlSpIoGBgVK/fn2ZMWNGQYoMAAC8VIH6nO666y7ZvXu3fP7557Jr1y4dRJ555hl54okn9B3Rb1ZmZqZERERIv379pEePHtccHzlypMTFxcncuXOlWrVqsmbNGnn++ed1OOratWtBig4AALxMgQfYlCpVSgYMGHBbbx4VFaW3/GzatEn69OkjkZGR+rF6v48++ki+//57wg4AACjcsLN//36Jj4+XU6dOSW5ursOxcePGiTO0bNlSli1bplt+VGtOQkKC7Nu3T9599918n5Odna23KxclAgAA3qtAYWfmzJkyaNAgufPOO6VSpUoO98lS3zsr7HzwwQe6NUeN2VGzvHx9ffV7t2nTJt/nxMbGyoQJE5zy/gBwpehCXsR3OQvzAu4Tdl5//XWZOHGijBkzRgqTCjtbtmzRrTtqMLQa0KwWLVStPB06dMjzOWqWmBrrc2XLTlhYWKGWEwAAGBZ2fvnlF3n00UelMP366696KvvixYulS5cuel/jxo0lOTlZzwbLL+yoNYBsNywFAAAo0NRzFXTUzKjClJOTozfVdXWlYsWKXTNGCAAAwKktOzVr1pSxY8fqLqZGjRpdM9182LBhN/U6ah2dAwcO2B+npqbqlpvg4GAJDw+Xtm3byujRo/XUdtWNtX79epkzZ4688847BSk2AADwQj6WZVm3+iS1gGC+L+jjI4cOHbqp11Gzq9SChFdT081nz56tFylUY3BUK9LZs2d14FEDlkeMGOEwKLqobhEPwLsxQNmFEgq58m9FJP+jioIzf38XqGVHtcA4g1o/53pZS830mjVrllPeCwAAeKcCjdmxuXTpkqSkpMhvv/3mvBIBAAC4OuxkZWVJ//79pWTJktKgQQM5fPiw3j906FCZPHmyM8sHAABQ9GFHjaNR98RSY25KlChh36+mg3/55Ze3VyIAAAAnKtCYHXV3chVq7r//foeBwqqV5+DBg84sHwAAQNG37Jw+fVpCQkLyvIv5zc6SAgAAcNuwc99998nKlSvtj20B55NPPpEWLVo4r3QAAACu6MaaNGmSREVFyU8//aRnYk2dOlV/v2nTJr3wHwAAgEe37LRu3VqvdKyCjlpBWS36p7q1Nm/eLE2bNnV+KQEAAIqyZUepUaOGzJw5s6BPBwAAcN+wY1tXJz/qvlYAAAAeG3aqVat23VlXly9fvp0yAQAAuDbs7Ny50+FxTk6O3qfuRj5x4kRnlQ0AAMA1YSciIiLP6eihoaHy5ptvSo8ePW6/ZAAAAK6+EejV6tSpI9u2bXPmSwIAABR9y056errDY8uy5Pjx4zJ+/HipVavW7ZUIAADA1WGnXLly1wxQVoEnLCxM5s+f76yyAQAAuCbsxMXFOYQdX19fqVChgtSsWVP8/Aq8dA8AAIDTFSiZREZGOr8kAAAA7jJAOTY2Vj777LNr9qt9U6ZMcUa5AAAAXBd2PvroI6lbt+41+xs0aCAzZsxwRrkAAABcF3ZOnDghlStXvma/GrejZmUBAAB4dNhRs642btx4zX61Ty0sCAAA4NEDlJ977jkZPny4vk3EH//4R71v3bp18uKLL8qoUaOcXUYAAICiDTujR4+Wn3/+WZ5//nm5dOmS3leiRAkZM2aMxMTEFLw0AAAA7hB21Bo7atbV2LFjZe/evRIYGKhXTg4ICHB2+QAAAFx3byw1UPns2bNSo0YNHXTUKsoAAADupEBhR3VhtW/fXmrXri2dO3e2z8Dq378/Y3YAAIDnh50RI0aIv7+/HD58WEqWLGnf36tXL1m1apUzywcAAFD0Y3bWrFkjq1evlipVqjjsV+N20tLSbq9EAAAArm7ZyczMdGjRsVHjdxikDAAAPD7sPPDAAzJnzhyH2Vm5ubnyxhtvSLt27ZxZPgAAgKLvxlKhRg1QTkpK0uvsqMUEf/zxR92yk9fKygAAAB7VstOwYUPZt2+ftG7dWrp166a7tXr06CE7d+7U09ABAAA8tmVH3SLioYce0nc3f+WVVwqnVAAAAK5q2VFTznfv3u2s9wcAAHC/bqzevXvLp59+6vzSAAAAuMMA5d9++00+++wz+fbbb6Vp06ZSqlQph+PvvPOOs8oHAABQdGHn0KFDUq1aNdmzZ480adJE71MDla+kpqEDAAB4ZDeWWiH5zJkzEh8fr7eQkBCZP3++/bHa4uLibvr1EhMTJTo6WkJDQ3VIWrJkyTXnqLuqd+3aVYKCgnQLUrNmzfRtKgAAAJwedq6+q/k333yjp50XlHpuRESETJs2Lc/jBw8e1NPb69atKwkJCXpg9NixY6VEiRIFfk8AAOBdCjRmJ7/wc6uioqL0lh81tV3dVV0tYmjDOj4AAKDQWnZUV9PVY3IKa4yOuv3EypUrpXbt2tKpUyfdZda8efM8u7qulJ2dLenp6Q4bAADwXn632pLTt29f+80+L168KAMHDrxmNtaiRYtuu2CnTp2SjIwMmTx5srz++usyZcoUWbVqlV6pWY0Natu2bZ7Pi42NlQkTJtz2+wMAAC8MO3369LlmvZ3Colp2FHU7ihEjRujv77nnHtm0aZNevTm/sBMTEyMjR460P1YtO2FhYYVWTgAAYFDYmTVrlhSVO++8U/z8/KR+/foO++vVqycbNmzI93mq1cnW8gQAAFCgFZSLQvHixfU085SUFIf9al2fqlWruqxcAADAi2Zj3S41JufAgQP2x6mpqZKcnCzBwcESHh4uo0ePll69ekmbNm2kXbt2eszO8uXL9TR0AAAAtw87SUlJOsTY2MbaqLFBs2fPlocffliPz1GDjocNGyZ16tSRr776Sq+9AwAA4PZhJzIy8oZr9fTr109vAAAARo3ZAQAAcAbCDgAAMBphBwAAGI2wAwAAjEbYAQAARiPsAAAAoxF2AACA0Qg7AADAaIQdAABgNMIOAAAwGmEHAAAYjbADAACMRtgBAABGI+wAAACjEXYAAIDRCDsAAMBohB0AAGA0wg4AADCan6sLAADIQ0K0uIXI5a4uAXDbaNkBAABGI+wAAACjEXYAAIDRCDsAAMBohB0AAGA0wg4AADAaYQcAABiNsAMAAIxG2AEAAEYj7AAAAKMRdgAAgNEIOwAAwGiEHQAAYDTCDgAAMBphBwAAGI2wAwAAjEbYAQAARiPsAAAAoxF2AACA0Qg7AADAaC4NO4mJiRIdHS2hoaHi4+MjS5YsyffcgQMH6nPee++9Ii0jAADwbC4NO5mZmRIRESHTpk277nmLFy+WLVu26FAEAABwK/zEhaKiovR2PUePHpWhQ4fK6tWrpUuXLjd8zezsbL3ZpKenO6WsAADAM7k07NxIbm6uPPXUUzJ69Ghp0KDBTT0nNjZWJkyYUOhlA3DroqML9/WXLy/c1wfgmdx6gPKUKVPEz89Phg0bdtPPiYmJkfPnz9u3I0eOFGoZAQCAe3Pblp3t27fL1KlTZceOHXpg8s0KCAjQGwAAgFu37Hz33Xdy6tQpCQ8P1607aktLS5NRo0ZJtWrVXF08AADgIdy2ZUeN1enQoYPDvk6dOun9zzzzjMvKBQAAPItLw05GRoYcOHDA/jg1NVWSk5MlODhYt+iUL1/e4Xx/f3+pVKmS1KlTxwWlBQAAnsilYScpKUnatWtnfzxy5Ej9tU+fPjJ79mwXlgwAAJjCpWEnMjJSLMu66fP/85//FGp5AACAedx2gDIAAIAzEHYAAIDRCDsAAMBohB0AAGA0wg4AADAaYQcAABiNsAMAAIxG2AEAAEYj7AAAAKMRdgAAgNEIOwAAwGiEHQAAYDTCDgAAMBphBwAAGI2wAwAAjEbYAQAARiPsAAAAo/m5ugAAgN9FR//v+7FtnP/6f2jm/NcEPAEtOwAAwGiEHQAAYDTCDgAAMBphBwAAGI2wAwAAjEbYAQAARiPsAAAAoxF2AACA0Qg7AADAaIQdAABgNMIOAAAwGmEHAAAYjbADAACMRtgBAABGI+wAAACjEXYAAIDRCDsAAMBohB0AAGA0wg4AADAaYQcAABjNpWEnMTFRoqOjJTQ0VHx8fGTJkiX2Yzk5OTJmzBhp1KiRlCpVSp/z9NNPy7Fjx1xZZAAA4GFcGnYyMzMlIiJCpk2bds2xrKws2bFjh4wdO1Z/XbRokaSkpEjXrl1dUlYAAOCZ/Fz55lFRUXrLS1BQkKxdu9Zh3z/+8Q/5wx/+IIcPH5bw8PA8n5edna03m/T0dCeXGgAAeBKXhp1bdf78ed3dVa5cuXzPiY2NlQkTJhRpuQAYIiH6uofHthGP9v22W3/Oa2/f/LnLl9/665t4nRSZSG+pcC8aoHzx4kU9hueJJ56QsmXL5nteTEyMDkW27ciRI0VaTgAA4F48omVHDVZ+7LHHxLIsmT59+nXPDQgI0BsAAIBHhB1b0ElLS5O4uLjrtuoAAAB4VNixBZ39+/dLfHy8lC9f3tVFAgAAHsalYScjI0MOHDhgf5yamirJyckSHBwslStXlkceeURPO1+xYoVcvnxZTpw4oc9Tx4sXL+7CkgMAAE/h0rCTlJQk7dq1sz8eOXKk/tqnTx8ZP368LFu2TD++5557HJ6nWnkiIyOLuLQAAMATuTTsqMCiBh3n53rHAAAAjJp6DgAAUBCEHQAAYDTCDgAAMBphBwAAGI2wAwAAjEbYAQAARiPsAAAAoxF2AACA0Qg7AADAaIQdAABgNMIOAAAwGmEHAAAYjbADAACMRtgBAABGI+wAAACjEXYAAIDRCDsAAMBofq4uAICbFx1duK+/fHnhvj4AuAItOwAAwGiEHQAAYDTCDgAAMBphBwAAGI2wAwAAjEbYAQAARiPsAAAAoxF2AACA0Qg7AADAaIQdAABgNMIOAAAwGmEHAAAYjbADAACMRtgBAABGI+wAAACjEXYAAIDRCDsAAMBohB0AAGA0wg4AADAaYQcAABjNpWEnMTFRoqOjJTQ0VHx8fGTJkiUOxy3LknHjxknlypUlMDBQOnToIPv373dZeQEAgOdxadjJzMyUiIgImTZtWp7H33jjDXn//fdlxowZsnXrVilVqpR06tRJLl68WORlBQAAnsnPlW8eFRWlt7yoVp333ntP/va3v0m3bt30vjlz5kjFihV1C9Djjz9exKUFAACeyKVh53pSU1PlxIkTuuvKJigoSJo3by6bN2/ON+xkZ2frzeb8+fP6a3p6ehGUGihcOTmF+/qF/c/E7cufef0CZnhho3JOTrp7XD83+H/jlQz/vZb+/z+favwwNuyooKOolpwrqce2Y3mJjY2VCRMmXLM/LCysEEoJmCUoSDyap5ffPd18pVL/Rc07Kvznn3/WjR1Ghp2CiomJkZEjR9ofnzt3TqpWrSqHDx++7coyMTWrEHjkyBEpW7asq4vjVqib/FE3eaNe8kfd5I+6yZ/qmQkPD5fg4GC5XW4bdipVqqS/njx5Us/GslGP77nnnnyfFxAQoLerqaDDhZQ3VS/UTd6om/xRN3mjXvJH3eSPusmfr6+vuevsVK9eXQeedevWOSRgNSurRYsWLi0bAADwHC5t2cnIyJADBw44DEpOTk7WTVaq6Wr48OHy+uuvS61atXT4GTt2rF6Tp3v37q4sNgAA8CAuDTtJSUnSrl07+2PbWJs+ffrI7Nmz5cUXX9Rr8QwYMECPvWndurWsWrVKSpQocdPvobq0Xn311Ty7trwddZM/6iZ/1E3eqJf8UTf5o26Kpm58LGfM6QIAAHBTbjtmBwAAwBkIOwAAwGiEHQAAYDTCDgAAMJoxYScxMVGio6P11HQfHx99s9ArqXHY48aN0wsUBgYG6ntu7d+/X0ynbp/RrFkzKVOmjISEhOhp+ykpKQ7nqLvIDx48WMqXLy+lS5eWnj176sUbTTd9+nRp3LixfTEvtX7TN998I95eL3mZPHmy/nelloPw9voZP368rosrt7p164q314vN0aNHpXfv3vrnV5+1jRo10jNvvf2zuFq1atdcN2pT14o3XzeXL1/Wy8qo5WXU9VCjRg157bXXHO6H5ZRrxjLE119/bb3yyivWokWLVA1Zixcvdjg+efJkKygoyFqyZIm1a9cuq2vXrlb16tWtX3/91TJZp06drFmzZll79uyxkpOTrc6dO1vh4eFWRkaG/ZyBAwdaYWFh1rp166ykpCTr/vvvt1q2bGmZbtmyZdbKlSutffv2WSkpKdbLL79s+fv767ry5nq52vfff29Vq1bNaty4sfXCCy/Y93tr/bz66qtWgwYNrOPHj9u306dPW95eL8rZs2etqlWrWn379rW2bt1qHTp0yFq9erV14MABy9s/i0+dOuVwzaxdu1b/roqPj/fq62bixIlW+fLlrRUrVlipqanWwoULrdKlS1tTp0516jVjTNi50tVhJzc316pUqZL15ptv2vedO3fOCggIsL744gvLm6h/cKp+1q9fb68H9QteXWA2e/fu1eds3rzZ8jZ33HGH9cknn1Av/+/ChQtWrVq19Adz27Zt7WHHm+tHhZ2IiIg8j3lzvShjxoyxWrdune9xPov/R/1bqlGjhq4Tb75uunTpYvXr189hX48ePawnn3zSqdeMMd1Y16NWZlZ3SldNX1feK6t58+ayefNm8bYbqym2G6tt375dcnJyHOpGNcmrFay9qW5UU+r8+fP1IpaqO4t6+Z1qVu/SpYtDPSjeXj+qCV11md99993y5JNP6hsNK95eL8uWLZP77rtPHn30Ud1tfu+998rMmTPtx/ks/t2lS5dk7ty50q9fP92V5c3XTcuWLfVtofbt26cf79q1SzZs2CBRUVFOvWbc9kagzqQqSqlYsaLDfvXYdswb5Obm6jEXrVq1koYNG+p96ucvXry4lCtXzivr5ocfftDhRvWXq37yxYsXS/369fVtS7y5XhQV/nbs2CHbtm275pg3XzfqQ1at8F6nTh05fvy4TJgwQR544AHZs2ePV9eLcujQIT0WTq2G//LLL+trZ9iwYbpO1Mr4fBb/To0pVXcF6Nu3r37szdfNSy+9pO97qcJdsWLF9B+eEydO1H9EKM66Zrwi7OB/f6WrD2SVmvE79QtLBRvV4vWvf/1LfyCvX79evN2RI0fkhRdekLVr197S7Vm8ge0vTkUNcFfhp2rVqrJgwQI9eNKbqT+oVMvOpEmT9GPVsqM+c2bMmKH/beF3n376qb6OVOugt1uwYIF8/vnnMm/ePGnQoIH+PFZ/lKu6ceY14xXdWOru6crVI9vVY9sx0w0ZMkRWrFgh8fHxUqVKFft+9fOrJlX1V4Y31o36a6pmzZrStGlTPXMtIiJCpk6d6vX1oprVT506JU2aNBE/Pz+9qRD4/vvv6+/VX1XeXD9XUn+N165dW9/U2NuvGzVbRrWMXqlevXr2bj4+i0XS0tLk22+/lWeffda+z5uvm9GjR+vWnccff1zP3HvqqadkxIgR+vPYmdeMV4QdNaVNVYrqF7RRzWZbt27VXRgmU+O1VdBR3TNxcXG6Lq6kfsn7+/s71I2amq4+nEyvm/z+Ms3Ozvb6emnfvr3u4lN/Zdk29Re7alq2fe/N9XOljIwMOXjwoP5F7+3Xjeoiv3ppCzUWQ7V8eftnsc2sWbP0eCY1Fs7Gm6+brKws8fV1jCKqO0t9Fjv1mrEMmjWyc+dOvakf65133tHfp6Wl2aeulStXzlq6dKm1e/duq1u3bl4x3XHQoEF6yl5CQoLDtMesrCz7OWrKo5qOHhcXp6c8tmjRQm+me+mll/SsNDXdUV0T6rGPj4+1Zs0ar66X/Fw5G8ub62fUqFH635O6bjZu3Gh16NDBuvPOO/VMR2+uF9syBX5+fno68f79+63PP//cKlmypDV37lz7Od76WaxcvnxZXxtq1trVvPW66dOnj3XXXXfZp56r5WPUv6cXX3zRqdeMMWFHrVWgQs7Vm6pI2/S1sWPHWhUrVtRT1tq3b6/XVjFdXnWiNrX2jo26YJ5//nk97Vp9MD388MM6EJlOTXdUa4IUL17cqlChgr4mbEHHm+vlZsOOt9ZPr169rMqVK+vrRn1Iq8dXriPjrfVis3z5cqthw4b6c7Zu3brWxx9/7HDcWz+LFbXmkPr8zevn9dbrJj09XX+uqKBXokQJ6+6779Zr5mVnZzv1mvFR/3FegxQAAIB78YoxOwAAwHsRdgAAgNEIOwAAwGiEHQAAYDTCDgAAMBphBwAAGI2wAwAAjEbYAQAARiPsAHBrkZGR+i7IAFBQhB0AhSY6OloeeuihPI9999134uPjI7t37y7ycgHwLoQdAIWmf//+snbtWvnvf/+b592f1d3TGzduXKhluHz5sv0OygC8E2EHQKH505/+JBUqVJDZs2c77M/IyJCFCxdK9+7d5YknnpC77rpLSpYsKY0aNZIvvvjiuq/5yy+/yNNPPy133HGHfk5UVJTs37/ffly9V7ly5WTZsmVSv359CQgIkMOHD0t2drb89a9/1e9VqlQpad68uSQkJNifl5aWplui1Ouq4w0aNJCvv/66EGoFQFEj7AAoNH5+fjqYqABy5T2HVdBRLS69e/eWpk2bysqVK2XPnj0yYMAAeeqpp+T777/P9zX79u0rSUlJOsxs3rxZv27nzp0lJyfHfk5WVpZMmTJFPvnkE/nxxx8lJCREhgwZos+fP3++7jp79NFHdRebLSgNHjxYB6LExET54Ycf9PNLly5dyDUEoEg4/4btAPA/e/fuVSnHio+Pt+974IEHrN69e+d5fpcuXaxRo0bZH7dt29Z64YUX9Pf79u3Tr7Vx40b78TNnzliBgYHWggUL9ONZs2bpc5KTk+3npKWlWcWKFbOOHj3q8F7t27e3YmJi9PeNGjWyxo8f77SfG4D78CuaSAXAW9WtW1datmwpn332mZ5ZdeDAAT04+e9//7tu3Zk0aZIsWLBAjh49KpcuXdKtK6p7Ki979+7VrUWqC8qmfPnyUqdOHX3Mpnjx4g5jgVRLjXqv2rVrO7yeei/1fGXYsGEyaNAgWbNmjXTo0EF69uxZ6OOJABQNurEAFMlA5a+++kouXLigBybXqFFD2rZtK2+++aZMnTpVxowZI/Hx8ZKcnCydOnXSoed2BAYG6pleV44RKlasmGzfvl2/h21TAUm9v/Lss8/KoUOHdDeaCkdq8PQHH3xw2z87ANcj7AAodI899pj4+vrKvHnzZM6cOdKvXz8dRjZu3CjdunXTY3ciIiLk7rvvln379uX7OvXq1ZPffvtNtm7dat/3888/S0pKih6MnJ97771Xt+ycOnVKatas6bBVqlTJfl5YWJgMHDhQFi1aJKNGjZKZM2c6sRYAuAphB0ChUwN9e/XqJTExMXL8+HE9yFipVauWnpq+adMm3cryl7/8RU6ePJnv66jzVTh67rnnZMOGDbJr1y4dlNQMK7U/P6r76sknn9SDpVWQSU1N1YOgY2Nj9eBoRS1cuHr1an1sx44duqVJhSsAno+wA6DIurLUtHHVTRUaGqr3/e1vf5MmTZrofWo8j2plUdPRr0d1g6kZXGpae4sWLfRsLDVF3N/f/4bPU2FHtdioMT7qfbZt2ybh4eH6uGr5UTOyVMBRs7RUQPrwww+dWAMAXMVHjVJ22bsDAAAUMlp2AACA0Qg7AADAaIQdAABgNMIOAAAwGmEHAAAYjbADAACMRtgBAABGI+wAAACjEXYAAIDRCDsAAMBohB0AACAm+z/xsJKPCE70vAAAAABJRU5ErkJggg==",
      "text/plain": [
       "<Figure size 640x480 with 1 Axes>"
      ]
     },
     "metadata": {},
     "output_type": "display_data"
    }
   ],
   "source": [
    "MediaA=50\n",
    "DesviaciónA=10\n",
    "MediaB=60\n",
    "DesviaciónB=15\n",
    "GrupoA = np.random.normal(MediaA, DesviaciónA, size = 100)\n",
    "GrupoB = np.random.normal(MediaB, DesviaciónB, size = 100)\n",
    "\n",
    "Diccionario={'A': GrupoA, 'B': GrupoB}\n",
    "\n",
    "Media_GrupoA= GrupoA.mean()\n",
    "Desviación_GrupoA= GrupoA.std()\n",
    "\n",
    "Media_GrupoB= GrupoB.mean()\n",
    "Desviación_GrupoB= GrupoB.std()\n",
    "\n",
    "print(Media_GrupoA)\n",
    "print(Desviación_GrupoA)\n",
    "print(Media_GrupoB)\n",
    "print(Desviación_GrupoB)\n",
    "\n",
    "DatosA= [Media_GrupoA, Desviación_GrupoA]\n",
    "DatosB= [Media_GrupoB, Desviación_GrupoB]\n",
    "\n",
    "plt.hist(GrupoA, bins=15, alpha=0.7, color='blue', label='Grupo A')\n",
    "plt.hist(GrupoB, bins=15, alpha=0.7, color='orange', label='Grupo B')\n",
    "\n",
    "plt.xlim(10, 80)  \n",
    "plt.ylim(10, 25) \n",
    "plt.xlabel(\"Valores\")\n",
    "plt.ylabel(\"Frecuencia\")"
   ]
>>>>>>> Stashed changes
  },
  {
   "cell_type": "markdown",
   "id": "2308254e-dc68-4b00-b226-ff51e23f9d81",
   "metadata": {},
   "source": [
    "# EJERCICIO 5 Clasificación de temperaturas"
   ]
  },
  {
   "cell_type": "code",
<<<<<<< Updated upstream
   "execution_count": null,
   "id": "ae0c370e-018f-4505-810b-d5fc37f9ca97",
   "metadata": {},
   "outputs": [],
   "source": []
=======
   "execution_count": 142,
   "id": "ae0c370e-018f-4505-810b-d5fc37f9ca97",
   "metadata": {},
   "outputs": [
    {
     "data": {
      "text/plain": [
       "Categoría\n",
       "frío        18\n",
       "templado    18\n",
       "calor       14\n",
       "Name: count, dtype: int64"
      ]
     },
     "execution_count": 142,
     "metadata": {},
     "output_type": "execute_result"
    }
   ],
   "source": [
    "import pandas as pd\n",
    "import numpy as np\n",
    "\n",
    "temperaturas = pd.Series(np.random.randint(-10, 41, size=50))\n",
    "\n",
    "diccionario= {\"frío\": [], \"templado\": [], \"calor\": []}\n",
    "\n",
    "for temp in temperaturas:\n",
    "    if temp < 10:\n",
    "        diccionario[\"frío\"].append(temp)\n",
    "    elif 10 <= temp <= 25:\n",
    "        diccionario[\"templado\"].append(temp)\n",
    "    else:\n",
    "        diccionario[\"calor\"].append(temp)\n",
    "\n",
    "lista_temperaturas = []\n",
    "lista_categorias = []\n",
    "\n",
    "for categoria, temps in diccionario.items():\n",
    "    for t in temps:\n",
    "        lista_temperaturas.append(t)\n",
    "        lista_categorias.append(categoria)\n",
    "\n",
    "data_frame = pd.DataFrame({\n",
    "    \"Temperatura\": lista_temperaturas,\n",
    "    \"Categoría\": lista_categorias})\n",
    "\n",
    "conteo_categorias = data_frame[\"Categoría\"].value_counts()\n",
    "\n",
    "conteo_categorias"
   ]
>>>>>>> Stashed changes
  },
  {
   "cell_type": "markdown",
   "id": "12f0ea15-73f0-46a4-b760-d2c0c2d7824d",
   "metadata": {},
   "source": [
    "# EJERCICIO 6 Matriz de distancias"
   ]
  },
  {
   "cell_type": "code",
<<<<<<< Updated upstream
   "execution_count": null,
   "id": "047dda32-9bab-4281-b66c-23e277ad583d",
   "metadata": {},
   "outputs": [],
   "source": []
=======
   "execution_count": 168,
   "id": "ce035745-fe5d-42b2-a5da-15b8d426f993",
   "metadata": {},
   "outputs": [
    {
     "name": "stdout",
     "output_type": "stream",
     "text": [
      "11.40175425099138\n",
      "124.01612798341996\n"
     ]
    }
   ],
   "source": [
    "import pandas as pd\n",
    "\n",
    "matriz = np.random.randint(0, 101, size=(10, 2))\n",
    "\n",
    "\n",
    "distancias = {}\n",
    "\n",
    "for i in range(len(matriz)):\n",
    "    for j in range(len(matriz)):\n",
    "        x1, y1 = matriz[i]\n",
    "        x2, y2 = matriz[j]\n",
    "        distancia = np.sqrt((x2 - x1)**2 + (y2 - y1)**2)\n",
    "        distancias[(i, j)] = distancia\n",
    "\n",
    "\n",
    "df = pd.DataFrame(distancias.items(), columns=[\"Par de Puntos\", \"Distancia\"])\n",
    "df[\"Punto_i\"] = [item[0] for item in df[\"Par de Puntos\"]]\n",
    "df[\"Punto_j\"] = [item[1] for item in df[\"Par de Puntos\"]]\n",
    "matriz = df.pivot(index=\"Punto_i\", columns=\"Punto_j\", values=\"Distancia\")\n",
    "\n",
    "\n",
    "distancia_min = matriz.where(matriz_distancias > 0).min().min()\n",
    "distancia_max = matriz.max().max()\n",
    "\n",
    "print(distancia_min)\n",
    "print(distancia_max)"
   ]
>>>>>>> Stashed changes
  },
  {
   "cell_type": "markdown",
   "id": "34038439-b9e9-4c04-b7c2-e5ee48acbbd8",
   "metadata": {},
   "source": [
    "# EJERCICIO 7 Análisis de series temporales"
   ]
  },
  {
   "cell_type": "code",
<<<<<<< Updated upstream
   "execution_count": null,
   "id": "a37df74b-8c7e-4c46-b320-efe44f027d9d",
   "metadata": {},
   "outputs": [],
   "source": []
=======
   "execution_count": 169,
   "id": "a37df74b-8c7e-4c46-b320-efe44f027d9d",
   "metadata": {},
   "outputs": [
    {
     "name": "stdout",
     "output_type": "stream",
     "text": [
      "Mes_8     30.633333\n",
      "Mes_4     26.833333\n",
      "Mes_2     25.566667\n",
      "Mes_1     25.266667\n",
      "Mes_11    25.133333\n",
      "Mes_9     25.100000\n",
      "Mes_7     24.966667\n",
      "Mes_12    24.800000\n",
      "Mes_5     24.200000\n",
      "Mes_6     24.166667\n",
      "Mes_3     23.633333\n",
      "Mes_10    22.566667\n",
      "dtype: float64\n"
     ]
    }
   ],
   "source": [
    "temperaturas = pd.Series(np.random.randint(10, 41, size=365))\n",
    "\n",
    "dias = list(range(1, 366))\n",
    "\n",
    "df_temperaturas = pd.DataFrame({'Día': dias, 'Temperatura': temperaturas})\n",
    "\n",
    "\n",
    "promedios_mensuales = {}\n",
    "\n",
    "for mes in range(1, 13):\n",
    "    dia_inicio = (mes - 1) * 30\n",
    "    dia_fin = mes * 30\n",
    "\n",
    "    if mes == 12:\n",
    "        dia_fin = 365\n",
    "\n",
    "    temperaturas_mes = df_temperaturas.iloc[dia_inicio:dia_fin]['Temperatura']\n",
    "\n",
    "    \n",
    "    promedio = temperaturas_mes.mean()\n",
    "\n",
    "    \n",
    "    promedios_mensuales[f'Mes_{mes}'] = promedio\n",
    "\n",
    "\n",
    "serie_promedios = pd.Series(promedios_mensuales)\n",
    "serie_ordenada = serie_promedios.sort_values(ascending=False)\n",
    "\n",
    "\n",
    "print(serie_ordenada)"
   ]
>>>>>>> Stashed changes
  },
  {
   "cell_type": "markdown",
   "id": "9a8917b4-1903-4c8d-af4e-e29f6d3fe4e9",
   "metadata": {},
   "source": [
    "# EJERCICIO 8  Actividad neuronal por regiones"
   ]
  },
  {
   "cell_type": "code",
<<<<<<< Updated upstream
   "execution_count": null,
   "id": "ff0e1178-73e4-4af8-95a3-991ab0fb1681",
   "metadata": {},
   "outputs": [],
   "source": []
=======
   "execution_count": 173,
   "id": "ff0e1178-73e4-4af8-95a3-991ab0fb1681",
   "metadata": {},
   "outputs": [
    {
     "name": "stdout",
     "output_type": "stream",
     "text": [
      "Categoría\n",
      "calor       22\n",
      "frío        16\n",
      "templado    12\n",
      "Name: count, dtype: int64\n"
     ]
    }
   ],
   "source": [
    "\n",
    "temperaturas = pd.Series(np.random.randint(-10, 41, size=50))\n",
    "\n",
    "clasificación = {}\n",
    "\n",
    "for temp in temperaturas:\n",
    "    if temp < 10:\n",
    "        if \"frío\" not in clasificación:\n",
    "            clasificación[\"frío\"] = []\n",
    "        clasificación[\"frío\"].append(temp)\n",
    "\n",
    "    elif temp >= 10 and temp <= 25:\n",
    "        if \"templado\" not in clasificación:\n",
    "            clasificación[\"templado\"] = []\n",
    "        clasificación[\"templado\"].append(temp)\n",
    "\n",
    "    else:\n",
    "        if \"calor\" not in clasificación:\n",
    "            clasificación[\"calor\"] = []\n",
    "        clasificación[\"calor\"].append(temp)\n",
    "# No manche profe imposible :(\n",
    "\n",
    "lista_temp = []\n",
    "lista_cat = []\n",
    "\n",
    "for categoria, temps in clasificación.items():\n",
    "    for t in temps:\n",
    "        lista_temp.append(t)\n",
    "        lista_cat.append(categoria)\n",
    "\n",
    "df_temperaturas = pd.DataFrame()\n",
    "df_temperaturas[\"Temperatura\"] = lista_temp\n",
    "df_temperaturas[\"Categoría\"] = lista_cat\n",
    "\n",
    "\n",
    "conteo = df_temperaturas[\"Categoría\"].value_counts()\n",
    "print(conteo)"
   ]
>>>>>>> Stashed changes
  },
  {
   "cell_type": "markdown",
   "id": "a4874e33-20c5-4540-904c-4c291a75f3e6",
   "metadata": {},
   "source": [
    "# EJERCICIO 9 Conectividad funcional (correlaciones)"
   ]
  },
  {
   "cell_type": "code",
<<<<<<< Updated upstream
   "execution_count": null,
   "id": "33121018-107a-4906-854c-f52724e833ee",
   "metadata": {},
   "outputs": [],
   "source": []
=======
   "execution_count": 176,
   "id": "33121018-107a-4906-854c-f52724e833ee",
   "metadata": {},
   "outputs": [
    {
     "data": {
      "text/html": [
       "<div>\n",
       "<style scoped>\n",
       "    .dataframe tbody tr th:only-of-type {\n",
       "        vertical-align: middle;\n",
       "    }\n",
       "\n",
       "    .dataframe tbody tr th {\n",
       "        vertical-align: top;\n",
       "    }\n",
       "\n",
       "    .dataframe thead th {\n",
       "        text-align: right;\n",
       "    }\n",
       "</style>\n",
       "<table border=\"1\" class=\"dataframe\">\n",
       "  <thead>\n",
       "    <tr style=\"text-align: right;\">\n",
       "      <th>Área_j</th>\n",
       "      <th>Área_1</th>\n",
       "      <th>Área_2</th>\n",
       "      <th>Área_3</th>\n",
       "      <th>Área_4</th>\n",
       "    </tr>\n",
       "    <tr>\n",
       "      <th>Área_i</th>\n",
       "      <th></th>\n",
       "      <th></th>\n",
       "      <th></th>\n",
       "      <th></th>\n",
       "    </tr>\n",
       "  </thead>\n",
       "  <tbody>\n",
       "    <tr>\n",
       "      <th>Área_1</th>\n",
       "      <td>1.000000</td>\n",
       "      <td>0.111403</td>\n",
       "      <td>0.152792</td>\n",
       "      <td>-0.053531</td>\n",
       "    </tr>\n",
       "    <tr>\n",
       "      <th>Área_2</th>\n",
       "      <td>0.111403</td>\n",
       "      <td>1.000000</td>\n",
       "      <td>0.049184</td>\n",
       "      <td>0.015855</td>\n",
       "    </tr>\n",
       "    <tr>\n",
       "      <th>Área_3</th>\n",
       "      <td>0.152792</td>\n",
       "      <td>0.049184</td>\n",
       "      <td>1.000000</td>\n",
       "      <td>-0.054310</td>\n",
       "    </tr>\n",
       "    <tr>\n",
       "      <th>Área_4</th>\n",
       "      <td>-0.053531</td>\n",
       "      <td>0.015855</td>\n",
       "      <td>-0.054310</td>\n",
       "      <td>1.000000</td>\n",
       "    </tr>\n",
       "  </tbody>\n",
       "</table>\n",
       "</div>"
      ],
      "text/plain": [
       "Área_j    Área_1    Área_2    Área_3    Área_4\n",
       "Área_i                                        \n",
       "Área_1  1.000000  0.111403  0.152792 -0.053531\n",
       "Área_2  0.111403  1.000000  0.049184  0.015855\n",
       "Área_3  0.152792  0.049184  1.000000 -0.054310\n",
       "Área_4 -0.053531  0.015855 -0.054310  1.000000"
      ]
     },
     "execution_count": 176,
     "metadata": {},
     "output_type": "execute_result"
    }
   ],
   "source": [
    "\n",
    "actividad_fmri = np.random.rand(200, 4)\n",
    "\n",
    "areas = [\"Área_1\", \"Área_2\", \"Área_3\", \"Área_4\"]\n",
    "df_fmri = pd.DataFrame(actividad_fmri, columns=areas)\n",
    "\n",
    "correlaciones = {}\n",
    "\n",
    "lista_areas = list(df_fmri.columns)\n",
    "\n",
    "for i in range(len(lista_areas)):\n",
    "    for j in range(len(lista_areas)):\n",
    "        area_1 = lista_areas[i]\n",
    "        area_2 = lista_areas[j]\n",
    "        correlacion = df_fmri[area_1].corr(df_fmri[area_2])\n",
    "        correlaciones[(area_1, area_2)] = correlacion\n",
    "\n",
    "filas = []\n",
    "columnas = []\n",
    "valores = []\n",
    "\n",
    "for (fila, columna), valor in correlaciones.items():\n",
    "    filas.append(fila)\n",
    "    columnas.append(columna)\n",
    "    valores.append(valor)\n",
    "\n",
    "df_temp = pd.DataFrame({'Área_i': filas, 'Área_j': columnas, 'Correlación': valores})\n",
    "\n",
    "matriz_conectividad = df_temp.pivot(index='Área_i', columns='Área_j', values='Correlación')\n",
    "\n",
    "matriz_conectividad"
   ]
>>>>>>> Stashed changes
  },
  {
   "cell_type": "markdown",
   "id": "0de3fcc0-1da7-4c2d-a143-0e9012d2480a",
   "metadata": {},
   "source": [
    "# EJERCICIO 10 Potenciales de acción por neurona"
   ]
  },
  {
   "cell_type": "code",
<<<<<<< Updated upstream
   "execution_count": null,
   "id": "4ce4c0ae-33b1-4885-b146-7655f0840544",
   "metadata": {},
   "outputs": [],
   "source": []
=======
   "execution_count": 177,
   "id": "4ce4c0ae-33b1-4885-b146-7655f0840544",
   "metadata": {},
   "outputs": [
    {
     "name": "stdout",
     "output_type": "stream",
     "text": [
      "Neurona_1     44\n",
      "Neurona_2     40\n",
      "Neurona_3     59\n",
      "Neurona_4     51\n",
      "Neurona_5     50\n",
      "Neurona_6     52\n",
      "Neurona_7     54\n",
      "Neurona_8     46\n",
      "Neurona_9     49\n",
      "Neurona_10    49\n",
      "Neurona_11    50\n",
      "Neurona_12    54\n",
      "Neurona_13    46\n",
      "Neurona_14    45\n",
      "Neurona_15    56\n",
      "Neurona_16    56\n",
      "Neurona_17    55\n",
      "Neurona_18    48\n",
      "Neurona_19    50\n",
      "Neurona_20    45\n",
      "Neurona_21    47\n",
      "Neurona_22    47\n",
      "Neurona_23    59\n",
      "Neurona_24    51\n",
      "Neurona_25    51\n",
      "Neurona_26    56\n",
      "Neurona_27    48\n",
      "Neurona_28    54\n",
      "Neurona_29    55\n",
      "Neurona_30    43\n",
      "Neurona_31    54\n",
      "Neurona_32    52\n",
      "Neurona_33    47\n",
      "Neurona_34    48\n",
      "Neurona_35    50\n",
      "Neurona_36    50\n",
      "Neurona_37    39\n",
      "Neurona_38    50\n",
      "Neurona_39    54\n",
      "Neurona_40    48\n",
      "Neurona_41    57\n",
      "Neurona_42    52\n",
      "Neurona_43    53\n",
      "Neurona_44    51\n",
      "Neurona_45    45\n",
      "Neurona_46    49\n",
      "Neurona_47    47\n",
      "Neurona_48    54\n",
      "Neurona_49    55\n",
      "Neurona_50    56\n",
      "dtype: int64\n"
     ]
    }
   ],
   "source": [
    "neuronas = []\n",
    "for i in range(1, 51):\n",
    "    neuronas.append(f'Neurona_{i}')\n",
    "\n",
    "actividad = {}\n",
    "\n",
    "for neurona in neuronas:\n",
    "    actividad_serie = pd.Series(np.random.randint(0, 2, size=100))\n",
    "    actividad[neurona] = actividad_serie\n",
    "\n",
    "filas_df = list(actividad.keys())\n",
    "columnas_df = list(range(1, 101))\n",
    "\n",
    "df_actividad = pd.DataFrame.from_dict(actividad, orient='columns').T\n",
    "conteo_disparos = {}\n",
    "\n",
    "for indice_neurona, datos_fila in df_actividad.iterrows():\n",
    "    disparos_totales = datos_fila.sum()\n",
    "    conteo_disparos[indice_neurona] = disparos_totales\n",
    "serie_final = pd.Series(conteo_disparos)\n",
    "\n",
    "print(serie_final)"
   ]
>>>>>>> Stashed changes
  },
  {
   "cell_type": "markdown",
   "id": "4cb1befa-00c5-4282-ae6b-426af0aaab4f",
   "metadata": {},
   "source": [
    "# EJERCICIO 11 EEG por canales"
   ]
  },
  {
   "cell_type": "code",
<<<<<<< Updated upstream
   "execution_count": null,
   "id": "8967e13a-7a17-402f-ad0b-702a1c5476cb",
   "metadata": {},
   "outputs": [],
   "source": []
=======
   "execution_count": 179,
   "id": "8967e13a-7a17-402f-ad0b-702a1c5476cb",
   "metadata": {},
   "outputs": [
    {
     "name": "stdout",
     "output_type": "stream",
     "text": [
      "Canal_8    3488.374215\n",
      "Canal_1    3395.600008\n",
      "Canal_6    3390.351555\n",
      "Canal_2    3390.267386\n",
      "Canal_7    3325.920329\n",
      "Canal_5    3282.856646\n",
      "Canal_3    3156.676074\n",
      "Canal_4    3111.692340\n",
      "dtype: float64\n",
      "Canal_8\n"
     ]
    }
   ],
   "source": [
    "\n",
    "limite_inferior = -100\n",
    "limite_superior = 100\n",
    "señal_eeg = np.random.uniform(low=limite_inferior, high=limite_superior, size=(500, 8))\n",
    "\n",
    "nombres_canales = []\n",
    "for i in range(1, 9):\n",
    "    nombres_canales.append(f'Canal_{i}')\n",
    "\n",
    "df_eeg = pd.DataFrame(senal_eeg, columns=nombres_canales)\n",
    "potencia_por_canal = {}\n",
    "\n",
    "for canal in df_eeg.columns:\n",
    "    datos_canal = df_eeg[canal]\n",
    "    potencia_individual = []\n",
    "    for valor in datos_canal:\n",
    "        potencia_individual.append(valor ** 2)\n",
    "    media_potencia = np.mean(potencia_individual)\n",
    "    potencia_por_canal[canal] = media_potencia\n",
    "\n",
    "serie_potencias = pd.Series(potencia_por_canal)\n",
    "\n",
    "serie_potencias_ordenada = serie_potencias.sort_values(ascending=False)\n",
    "canal_mas_potente = serie_potencias_ordenada.index[0]\n",
    "\n",
    "print(serie_potencias_ordenada)\n",
    "print(canal_mas_potente)"
   ]
>>>>>>> Stashed changes
  },
  {
   "cell_type": "markdown",
   "id": "03feb483-dca1-4f9d-b081-b68f02745d36",
   "metadata": {},
   "source": [
    "# EJERCICIO 12 Análisis de respuestas a estímulos"
   ]
  },
  {
   "cell_type": "code",
<<<<<<< Updated upstream
   "execution_count": null,
   "id": "141facc7-4e7e-4966-91ad-40e1ab0f7d7e",
   "metadata": {},
   "outputs": [],
   "source": []
=======
   "execution_count": 183,
   "id": "141facc7-4e7e-4966-91ad-40e1ab0f7d7e",
   "metadata": {},
   "outputs": [
    {
     "data": {
      "text/plain": [
       "Cond_A  Cond_B  Cond_C  Mejor_condición\n",
       "201     363     488     Cond_A             1\n",
       "209     560     777     Cond_A             1\n",
       "242     447     743     Cond_A             1\n",
       "265     202     213     Cond_B             1\n",
       "277     253     450     Cond_B             1\n",
       "292     300     405     Cond_A             1\n",
       "317     303     330     Cond_B             1\n",
       "344     365     547     Cond_A             1\n",
       "346     660     312     Cond_C             1\n",
       "347     642     726     Cond_A             1\n",
       "376     227     301     Cond_B             1\n",
       "383     730     555     Cond_A             1\n",
       "406     560     784     Cond_A             1\n",
       "426     363     701     Cond_B             1\n",
       "459     463     701     Cond_A             1\n",
       "466     259     668     Cond_B             1\n",
       "492     236     483     Cond_B             1\n",
       "        457     384     Cond_C             1\n",
       "536     437     683     Cond_B             1\n",
       "555     428     347     Cond_C             1\n",
       "556     286     355     Cond_B             1\n",
       "566     404     732     Cond_B             1\n",
       "571     364     308     Cond_C             1\n",
       "593     323     599     Cond_B             1\n",
       "625     239     576     Cond_B             1\n",
       "630     346     425     Cond_B             1\n",
       "659     209     251     Cond_B             1\n",
       "709     436     210     Cond_C             1\n",
       "716     282     719     Cond_B             1\n",
       "775     776     200     Cond_C             1\n",
       "Name: count, dtype: int64"
      ]
     },
     "execution_count": 183,
     "metadata": {},
     "output_type": "execute_result"
    }
   ],
   "source": [
    "condiciones = [\"Cond_A\", \"Cond_B\", \"Cond_C\"]\n",
    "\n",
    "datos = np.random.randint(200, 801, size=(30, 3))\n",
    "tiemposDT = pd.DataFrame(datos, columns=condiciones)\n",
    "\n",
    "promedios_condiciones = {}\n",
    "\n",
    "for columna in tiemposDT.columns:\n",
    "    valores = tiemposDT[columna]\n",
    "    promedio = valores.mean()\n",
    "    promedios_condiciones[columna] = promedio\n",
    "\n",
    "serie_promedios = pd.Series(promedios_condiciones)\n",
    "mejor_condicion = []\n",
    "\n",
    "for i in range(len(tiemposDT)):\n",
    "    fila = tiemposDT.iloc[i]\n",
    "    condicion_rapida = fila.idxmin()\n",
    "    \n",
    "    mejor_condicion.append(condicion_rapida)\n",
    "\n",
    "tiemposDT[\"Mejor_condición\"] = mejor_condicion\n",
    "conteo = tiemposDT.value_counts()\n",
    "\n",
    "conteo"
   ]
>>>>>>> Stashed changes
  }
 ],
 "metadata": {
  "kernelspec": {
   "display_name": "Python 3 (ipykernel)",
   "language": "python",
   "name": "python3"
  },
  "language_info": {
   "codemirror_mode": {
    "name": "ipython",
    "version": 3
   },
   "file_extension": ".py",
   "mimetype": "text/x-python",
   "name": "python",
   "nbconvert_exporter": "python",
   "pygments_lexer": "ipython3",
   "version": "3.10.4"
  }
 },
 "nbformat": 4,
 "nbformat_minor": 5
}
