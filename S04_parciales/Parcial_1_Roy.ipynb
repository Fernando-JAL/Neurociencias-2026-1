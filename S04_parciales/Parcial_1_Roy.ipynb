{
 "cells": [
  {
   "cell_type": "markdown",
   "id": "62aed855-3061-45f4-88bf-2a75a8d341c5",
   "metadata": {},
   "source": [
    "🔹 Ejercicio Frecuencia de números en matriz\n",
    "\n",
    "Genera una matriz 6x6 de enteros aleatorios entre 1 y 10 usando NumPy.\n",
    "\n",
    "Recorre la matriz y guarda en un diccionario la frecuencia de cada número.\n",
    "\n",
    "Convierte el diccionario en una lista de tuplas (número, frecuencia) y ordénala de mayor a menor frecuencia.\n",
    "\n",
    "Imprime la matriz, el diccionario y la lista ordenada."
   ]
  },
  {
   "cell_type": "markdown",
   "id": "a7dcab51-cf15-49bd-8648-c0004bb2a6ca",
   "metadata": {},
   "source": [
    "🔹 Ejercicio Promedios por columna y gráfico de líneas\n",
    "\n",
    "Crea una matriz 10x5 con enteros entre 10 y 100.\n",
    "\n",
    "Calcula el promedio de cada columna usando un bucle.\n",
    "\n",
    "Guarda los resultados en un diccionario con claves \"col_1\" ... \"col_5\".\n",
    "\n",
    "Convierte los valores en una lista y grafícalos en una línea (line plot) mostrando el promedio por columna."
   ]
  },
  {
   "cell_type": "markdown",
   "id": "274e5828-168a-4eae-bf98-4ee05a06436a",
   "metadata": {},
   "source": [
    "🔹 Ejercicio Evolución temporal simulada\n",
    "\n",
    "Simula con NumPy una lista de 30 días con valores aleatorios de temperatura entre 15°C y 35°C.\n",
    "\n",
    "Almacena los valores en un diccionario con claves \"día_1\", \"día_2\", ....\n",
    "\n",
    "Usa un bucle para crear una lista con los días donde la temperatura superó 30°C.\n",
    "\n",
    "Grafica las temperaturas en un gráfico de línea con puntos marcados (scatter + line plot).\n",
    "\n",
    "Marca en rojo los días con temperatura > 30°C."
   ]
  },
  {
   "cell_type": "markdown",
   "id": "859f5929-28bb-4708-ac2e-ea39d115eabc",
   "metadata": {},
   "source": [
    "🔹 Ejercicio Comparación de distribuciones\n",
    "\n",
    "Genera dos arreglos de 100 números aleatorios con distribución normal:\n",
    "\n",
    "grupo_A: media 50, desviación 10\n",
    "\n",
    "grupo_B: media 60, desviación 15\n",
    "\n",
    "Guarda en un diccionario con claves \"A\" y \"B\".\n",
    "\n",
    "Calcula media y desviación estándar de cada grupo y guárdalas en listas.\n",
    "\n",
    "Grafica ambos grupos en un histograma comparativo (superposición con colores diferentes y transparencia)."
   ]
  },
  {
   "cell_type": "markdown",
   "id": "f02dd7ab-0f94-4cd5-ae76-5fdab3434578",
   "metadata": {},
   "source": [
    "🔹 Ejercicio Clasificación de temperaturas\n",
    "\n",
    "Genera una Serie con 50 valores aleatorios entre -10 y 40 (temperaturas).\n",
    "\n",
    "Recorre la Serie y clasifica cada temperatura en un diccionario:\n",
    "\n",
    "\"frío\" si < 10\n",
    "\n",
    "\"templado\" si 10–25\n",
    "\n",
    "\"calor\" si > 25\n",
    "\n",
    "Convierte el diccionario en un DataFrame con columnas \"Temperatura\" y \"Categoría\".\n",
    "\n",
    "Cuenta cuántos valores cayeron en cada categoría."
   ]
  },
  {
   "cell_type": "markdown",
   "id": "47a3878d-a30e-4d68-b2ba-d70aeb6b995e",
   "metadata": {},
   "source": [
    "🔹 Ejercicio Matriz de distancias\n",
    "\n",
    "Genera una matriz 10x2 con coordenadas aleatorias (x, y) entre 0 y 100.\n",
    "\n",
    "Con un bucle, calcula las distancias euclidianas entre cada par de puntos y guárdalas en un diccionario con claves (i,j).\n",
    "\n",
    "Convierte el diccionario en un DataFrame de 10x10 (matriz de distancias).\n",
    "\n",
    "Encuentra el par de puntos más cercanos y el más lejano."
   ]
  },
  {
   "cell_type": "markdown",
   "id": "83110dd5-9367-4715-9160-54cb296b7aa9",
   "metadata": {},
   "source": [
    "🔹 Ejercicio Análisis de series temporales\n",
    "\n",
    "Genera con NumPy una Serie de 365 valores aleatorios entre 10 y 40 (temperatura diaria de un año).\n",
    "\n",
    "Convierte en un DataFrame con columnas \"Día\" y \"Temperatura\".\n",
    "\n",
    "Usa un bucle para calcular la media de cada mes (asume 30 días por mes).\n",
    "\n",
    "Guarda las medias en un diccionario {Mes: Promedio}.\n",
    "\n",
    "Convierte el diccionario en una Series y ordénala de mayor a menor."
   ]
  },
  {
   "cell_type": "markdown",
   "id": "696cbd58-a2f3-4f4b-927b-cf106b0b1eab",
   "metadata": {},
   "source": [
    "🔹 Ejercicio Actividad neuronal por regiones\n",
    "\n",
    "Genera una matriz 100x5 con NumPy representando la actividad de 100 neuronas en 5 regiones cerebrales (valores entre 0 y 1 como tasas de disparo).\n",
    "\n",
    "Convierte la matriz en un DataFrame con columnas \"Región_1\"... \"Región_5\".\n",
    "\n",
    "Usa un bucle para calcular la actividad media de cada región y guárdala en un diccionario.\n",
    "\n",
    "Convierte el diccionario en una Series y ordénala de mayor a menor."
   ]
  },
  {
   "cell_type": "markdown",
   "id": "07f21b80-6ed2-4251-979f-e8c200c8b43d",
   "metadata": {},
   "source": [
    "🔹 Ejercicio Conectividad funcional (correlaciones)\n",
    "\n",
    "Simula con NumPy una matriz 200x4 con series de tiempo de actividad fMRI en 4 áreas cerebrales.\n",
    "\n",
    "Convierte en un DataFrame con columnas \"Área_1\"... \"Área_4\".\n",
    "\n",
    "Con un bucle, calcula la correlación de Pearson entre todas las parejas de áreas y guárdala en un diccionario con claves (Área_i, Área_j).\n",
    "\n",
    "Convierte el diccionario en un DataFrame cuadrado (matriz de conectividad)."
   ]
  },
  {
   "cell_type": "markdown",
   "id": "c1444400-53e6-4b0a-8c84-07327492c649",
   "metadata": {},
   "source": [
    "🔹 Ejercicio Potenciales de acción por neurona\n",
    "\n",
    "Genera una lista de 50 neuronas.\n",
    "\n",
    "Para cada neurona, simula con NumPy una Serie de 100 ms de actividad (valores enteros 0 o 1 indicando si disparó o no).\n",
    "\n",
    "Guarda los resultados en un diccionario {Neurona: Serie}.\n",
    "\n",
    "Crea un DataFrame con todas las neuronas (filas) y tiempos (columnas).\n",
    "\n",
    "Usa un bucle para contar cuántos disparos totales tuvo cada neurona y genera una Series con esos valores."
   ]
  },
  {
   "cell_type": "markdown",
   "id": "b3fa8e28-a6aa-4ea0-a297-8df5b1077855",
   "metadata": {},
   "source": [
    "🔹 Ejercicio EEG por canales\n",
    "\n",
    "Simula una matriz 500x8 con NumPy representando 500 muestras de señal EEG en 8 canales (valores flotantes entre -100 y 100 µV).\n",
    "\n",
    "Convierte la matriz en un DataFrame con columnas \"Canal_1\"... \"Canal_8\".\n",
    "\n",
    "Usa un bucle para calcular la potencia media de cada canal (media del cuadrado de la señal).\n",
    "\n",
    "Guarda los resultados en un diccionario y conviértelo en una Series ordenada.\n",
    "\n",
    "Identifica el canal con mayor potencia."
   ]
  },
  {
   "cell_type": "markdown",
   "id": "64464de2-850c-4c86-b245-843e183f0a68",
   "metadata": {},
   "source": [
    "🔹 Ejercicio Análisis de respuestas a estímulos\n",
    "\n",
    "Genera un DataFrame con 30 sujetos (filas) y 3 condiciones experimentales (\"Cond_A\", \"Cond_B\", \"Cond_C\") con valores de tiempo de reacción simulados (valores entre 200–800 ms).\n",
    "\n",
    "Usa un bucle para calcular el promedio por condición en toda la muestra.\n",
    "\n",
    "Convierte los resultados en un diccionario y luego en una Series.\n",
    "\n",
    "Agrega una columna \"Mejor_condición\" al DataFrame indicando la condición más rápida por sujeto.\n",
    "\n",
    "Cuenta cuántos sujetos respondieron mejor en cada condición."
   ]
  },
  {
   "cell_type": "markdown",
   "id": "2d827767-8ae7-4d54-9eb4-f961b65c00e1",
   "metadata": {},
   "source": [
    "# EJERCICIO 1 Frecuencia de números en matriz"
   ]
  },
  {
   "cell_type": "code",
   "execution_count": 1,
   "id": "ccbf50c4-fa48-4a73-aa6c-6910350befb0",
   "metadata": {},
   "outputs": [],
   "source": [
    "import numpy as np"
   ]
  },
  {
   "cell_type": "code",
   "execution_count": null,
   "id": "b9d703e3-ae8f-4636-9a24-04197d89b526",
   "metadata": {},
   "outputs": [],
   "source": []
  },
  {
   "cell_type": "markdown",
   "id": "2e1dcefa-2dc6-4da9-bd79-e9afbc999a2f",
   "metadata": {},
   "source": [
    "# EJERCICIO 2 Promedios por columna y gráfico de líneas"
   ]
  },
  {
   "cell_type": "code",
   "execution_count": null,
   "id": "abf4214c-5dbb-4433-9280-130489b0dee4",
   "metadata": {},
   "outputs": [],
   "source": []
  },
  {
   "cell_type": "markdown",
   "id": "8ff452f9-b5e0-4d53-ac58-d3b7c9c3f3d5",
   "metadata": {},
   "source": [
    "# EJERCICO 3 Evolución temporal simulada"
   ]
  },
  {
   "cell_type": "code",
   "execution_count": null,
   "id": "8c45ad7d-56bd-4af9-bab6-fc17f6d00260",
   "metadata": {},
   "outputs": [],
   "source": []
  },
  {
   "cell_type": "markdown",
   "id": "f7248ccf-3438-4efa-a47e-e08d10ac39a4",
   "metadata": {},
   "source": [
    "# EJERCICIO 4 Comparación de distribuciones"
   ]
  },
  {
   "cell_type": "code",
   "execution_count": null,
   "id": "fe8bc7cd-d062-47d1-998f-ae624475202f",
   "metadata": {},
   "outputs": [],
   "source": []
  },
  {
   "cell_type": "markdown",
   "id": "2308254e-dc68-4b00-b226-ff51e23f9d81",
   "metadata": {},
   "source": [
    "# EJERCICIO 5 Clasificación de temperaturas"
   ]
  },
  {
   "cell_type": "code",
   "execution_count": null,
   "id": "ae0c370e-018f-4505-810b-d5fc37f9ca97",
   "metadata": {},
   "outputs": [],
   "source": []
  },
  {
   "cell_type": "markdown",
   "id": "12f0ea15-73f0-46a4-b760-d2c0c2d7824d",
   "metadata": {},
   "source": [
    "# EJERCICIO 6 Matriz de distancias"
   ]
  },
  {
   "cell_type": "code",
   "execution_count": null,
   "id": "047dda32-9bab-4281-b66c-23e277ad583d",
   "metadata": {},
   "outputs": [],
   "source": []
  },
  {
   "cell_type": "markdown",
   "id": "34038439-b9e9-4c04-b7c2-e5ee48acbbd8",
   "metadata": {},
   "source": [
    "# EJERCICIO 7 Análisis de series temporales"
   ]
  },
  {
   "cell_type": "code",
   "execution_count": null,
   "id": "a37df74b-8c7e-4c46-b320-efe44f027d9d",
   "metadata": {},
   "outputs": [],
   "source": []
  },
  {
   "cell_type": "markdown",
   "id": "9a8917b4-1903-4c8d-af4e-e29f6d3fe4e9",
   "metadata": {},
   "source": [
    "# EJERCICIO 8  Actividad neuronal por regiones"
   ]
  },
  {
   "cell_type": "code",
   "execution_count": null,
   "id": "ff0e1178-73e4-4af8-95a3-991ab0fb1681",
   "metadata": {},
   "outputs": [],
   "source": []
  },
  {
   "cell_type": "markdown",
   "id": "a4874e33-20c5-4540-904c-4c291a75f3e6",
   "metadata": {},
   "source": [
    "# EJERCICIO 9 Conectividad funcional (correlaciones)"
   ]
  },
  {
   "cell_type": "code",
   "execution_count": null,
   "id": "33121018-107a-4906-854c-f52724e833ee",
   "metadata": {},
   "outputs": [],
   "source": []
  },
  {
   "cell_type": "markdown",
   "id": "0de3fcc0-1da7-4c2d-a143-0e9012d2480a",
   "metadata": {},
   "source": [
    "# EJERCICIO 10 Potenciales de acción por neurona"
   ]
  },
  {
   "cell_type": "code",
   "execution_count": null,
   "id": "4ce4c0ae-33b1-4885-b146-7655f0840544",
   "metadata": {},
   "outputs": [],
   "source": []
  },
  {
   "cell_type": "markdown",
   "id": "4cb1befa-00c5-4282-ae6b-426af0aaab4f",
   "metadata": {},
   "source": [
    "# EJERCICIO 11 EEG por canales"
   ]
  },
  {
   "cell_type": "code",
   "execution_count": null,
   "id": "8967e13a-7a17-402f-ad0b-702a1c5476cb",
   "metadata": {},
   "outputs": [],
   "source": []
  },
  {
   "cell_type": "markdown",
   "id": "03feb483-dca1-4f9d-b081-b68f02745d36",
   "metadata": {},
   "source": [
    "# EJERCICIO 12 Análisis de respuestas a estímulos"
   ]
  },
  {
   "cell_type": "code",
   "execution_count": null,
   "id": "141facc7-4e7e-4966-91ad-40e1ab0f7d7e",
   "metadata": {},
   "outputs": [],
   "source": []
  }
 ],
 "metadata": {
  "kernelspec": {
   "display_name": "Python 3 (ipykernel)",
   "language": "python",
   "name": "python3"
  },
  "language_info": {
   "codemirror_mode": {
    "name": "ipython",
    "version": 3
   },
   "file_extension": ".py",
   "mimetype": "text/x-python",
   "name": "python",
   "nbconvert_exporter": "python",
   "pygments_lexer": "ipython3",
   "version": "3.10.4"
  }
 },
 "nbformat": 4,
 "nbformat_minor": 5
}
