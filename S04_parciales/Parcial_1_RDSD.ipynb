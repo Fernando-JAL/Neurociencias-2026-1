{
 "cells": [
  {
   "cell_type": "markdown",
   "id": "f599c9a9-de0f-4cc1-a750-bc75d5239f5e",
   "metadata": {},
   "source": [
    "# Rodrigo Daniel Salazar Díaz"
   ]
  },
  {
   "cell_type": "markdown",
   "id": "62aed855-3061-45f4-88bf-2a75a8d341c5",
   "metadata": {},
   "source": [
    "🔹 Ejercicio Frecuencia de números en matriz\n",
    "\n",
    "Genera una matriz 6x6 de enteros aleatorios entre 1 y 10 usando NumPy.\n",
    "\n",
    "Recorre la matriz y guarda en un diccionario la frecuencia de cada número.\n",
    "\n",
    "Convierte el diccionario en una lista de tuplas (número, frecuencia) y ordénala de mayor a menor frecuencia.\n",
    "\n",
    "Imprime la matriz, el diccionario y la lista ordenada."
   ]
  },
  {
   "cell_type": "code",
   "execution_count": 49,
   "id": "80158fc7-6623-458b-a684-087b951bc2c4",
   "metadata": {},
   "outputs": [
    {
     "name": "stdout",
     "output_type": "stream",
     "text": [
      "[[0.42213134 0.85203131 0.87175378 0.91937644 0.60713118 0.8031766 ]\n",
      " [0.92259396 0.84115839 0.0357985  0.02930627 0.81838635 0.69653097]\n",
      " [0.3511469  0.36615881 0.61535975 0.66149806 0.96936464 0.38104629]\n",
      " [0.75824791 0.58604535 0.66410707 0.43431932 0.15894289 0.27933427]\n",
      " [0.17482639 0.00827149 0.01779649 0.25944865 0.61793787 0.43375291]\n",
      " [0.83099462 0.02830891 0.60245342 0.4402954  0.67473541 0.28933111]]\n",
      "{(np.float64(0.008271490626262201), np.float64(0.10438080589503607)): np.float64(5.0), (np.float64(0.10438080589503607), np.float64(0.20049012116380993)): np.float64(2.0), (np.float64(0.20049012116380993), np.float64(0.2965994364325838)): np.float64(3.0), (np.float64(0.2965994364325838), np.float64(0.39270875170135766)): np.float64(3.0), (np.float64(0.39270875170135766), np.float64(0.4888180669701315)): np.float64(4.0), (np.float64(0.4888180669701315), np.float64(0.5849273822389054)): np.float64(0.0), (np.float64(0.5849273822389054), np.float64(0.6810366975076793)): np.float64(8.0), (np.float64(0.6810366975076793), np.float64(0.7771460127764531)): np.float64(2.0), (np.float64(0.7771460127764531), np.float64(0.873255328045227)): np.float64(6.0), (np.float64(0.873255328045227), np.float64(0.9693646433140009)): np.float64(3.0)}\n",
      "[((np.float64(0.008271490626262201), np.float64(0.10438080589503607)), np.float64(5.0)), ((np.float64(0.10438080589503607), np.float64(0.20049012116380993)), np.float64(2.0)), ((np.float64(0.20049012116380993), np.float64(0.2965994364325838)), np.float64(3.0)), ((np.float64(0.2965994364325838), np.float64(0.39270875170135766)), np.float64(3.0)), ((np.float64(0.39270875170135766), np.float64(0.4888180669701315)), np.float64(4.0)), ((np.float64(0.4888180669701315), np.float64(0.5849273822389054)), np.float64(0.0)), ((np.float64(0.5849273822389054), np.float64(0.6810366975076793)), np.float64(8.0)), ((np.float64(0.6810366975076793), np.float64(0.7771460127764531)), np.float64(2.0)), ((np.float64(0.7771460127764531), np.float64(0.873255328045227)), np.float64(6.0)), ((np.float64(0.873255328045227), np.float64(0.9693646433140009)), np.float64(3.0))]\n"
     ]
    },
    {
     "data": {
      "image/png": "[encoded data removed]",
      "text/plain": [
       "<Figure size 640x480 with 1 Axes>"
      ]
     },
     "metadata": {},
     "output_type": "display_data"
    }
   ],
   "source": [
    "import numpy as np\n",
    "a, b = 0, 1\n",
    "matriz = np.random.uniform(a,b, size = [6,6]) #Limite inferior, limite suprior, tamaño\n",
    "import matplotlib.pyplot as plt\n",
    "frecuencias, bordes, hist = plt.hist(matriz.ravel()) #El método hist devuelve x (frecuencias en cada bin), bins (bordes de cada intervalo), y patches (el\n",
    "#objeto gráfico)\n",
    "#Ravel aplana (convierte una matriz de n dimensiones a un array unidimensional para que después las frecuencias que devuelva hist sean un escalar\n",
    "#y no una fila de un array\n",
    "dicc = {} #Crear un diccionario vacío\n",
    "tuplas = []\n",
    "for i in range(len(frecuencias)): #Ciclo for por cada frecuencia\n",
    "    dicc[(bordes[i], bordes[i+1])] = frecuencias[i] #Así se agregan cosas a un diciconario\n",
    "    tuplas += [((bordes[i], bordes[i+1]), frecuencias[i])]\n",
    "tuplas.sort()\n",
    "print(matriz)\n",
    "print(dicc)\n",
    "print(tuplas)"
   ]
  },
  {
   "cell_type": "markdown",
   "id": "a7dcab51-cf15-49bd-8648-c0004bb2a6ca",
   "metadata": {},
   "source": [
    "🔹 Ejercicio Promedios por columna y gráfico de líneas\n",
    "\n",
    "Crea una matriz 10x5 con enteros entre 10 y 100.\n",
    "\n",
    "Calcula el promedio de cada columna usando un bucle.\n",
    "\n",
    "Guarda los resultados en un diccionario con claves \"col_1\" ... \"col_5\".\n",
    "\n",
    "Convierte los valores en una lista y grafícalos en una línea (line plot) mostrando el promedio por columna."
   ]
  },
  {
   "cell_type": "code",
   "execution_count": 102,
   "id": "b1bc4324-726e-47e1-b0e7-f62b8940fc50",
   "metadata": {},
   "outputs": [
    {
     "name": "stdout",
     "output_type": "stream",
     "text": [
      "[[42 73 22 70 55]\n",
      " [96 69 79 58 22]\n",
      " [91 50 58 66 95]\n",
      " [36 35 48 85 91]\n",
      " [95 66 86 58 45]\n",
      " [15 81 39 43 14]\n",
      " [48 95 33 81 13]\n",
      " [69 40 42 22 11]\n",
      " [61 97 21 10 75]\n",
      " [81 71 31 29 70]]\n",
      "{'Col_0': np.float64(63.4), 'Col_1': np.float64(67.7), 'Col_2': np.float64(45.9), 'Col_3': np.float64(52.2), 'Col_4': np.float64(49.1)}\n"
     ]
    },
    {
     "data": {
      "text/plain": [
       "[<matplotlib.lines.Line2D at 0x26f0114ea40>]"
      ]
     },
     "execution_count": 102,
     "metadata": {},
     "output_type": "execute_result"
    },
    {
     "data": {
      "image/png": "[encoded data removed]",
      "text/plain": [
       "<Figure size 640x480 with 1 Axes>"
      ]
     },
     "metadata": {},
     "output_type": "display_data"
    }
   ],
   "source": [
    "matriz2 = np.random.randint(10, 100, size = [10,5])\n",
    "print(matriz2)\n",
    "filas, columnas = matriz2.shape\n",
    "dicc_prom = {}\n",
    "prom = 0\n",
    "for i in range(columnas):\n",
    "    prom += (sum(matriz2[:, i])/len((matriz2[:, i])))\n",
    "    dicc_prom['Col_' + str(i)] = prom#Se tiene que convertir i a string y concatenar con el texto anterior para que aparezca junto como texto, si \n",
    "    #se pone print('Col_', i) no se agrega ninguna llave al diccionario porque la función print solo imprime el texto pero no devuelve nada para \n",
    "    #agregar al diccionario.\n",
    "    prom = 0 # Si no se devulve prom a 0 los promedios se van acumulando en lugar de ser un promedio por columna\n",
    "print(dicc_prom)\n",
    "x = list(dicc_prom.keys())\n",
    "y = list(dicc_prom.values())\n",
    "plt.plot(x,y)"
   ]
  },
  {
   "cell_type": "markdown",
   "id": "274e5828-168a-4eae-bf98-4ee05a06436a",
   "metadata": {},
   "source": [
    "🔹 Ejercicio Evolución temporal simulada\n",
    "\n",
    "Simula con NumPy una lista de 30 días con valores aleatorios de temperatura entre 15°C y 35°C.\n",
    "\n",
    "Almacena los valores en un diccionario con claves \"día_1\", \"día_2\", ....\n",
    "\n",
    "Usa un bucle para crear una lista con los días donde la temperatura superó 30°C.\n",
    "\n",
    "Grafica las temperaturas en un gráfico de línea con puntos marcados (scatter + line plot).\n",
    "\n",
    "Marca en rojo los días con temperatura > 30°C."
   ]
  },
  {
   "cell_type": "code",
   "execution_count": 156,
   "id": "838e2a47-7c66-43d3-9dcc-0659ecf07bf0",
   "metadata": {},
   "outputs": [
    {
     "data": {
      "text/plain": [
       "<matplotlib.collections.PathCollection at 0x26f7ef66950>"
      ]
     },
     "execution_count": 156,
     "metadata": {},
     "output_type": "execute_result"
    },
    {
     "data": {
      "image/png": "[encoded data removed]",
      "text/plain": [
       "<Figure size 640x480 with 1 Axes>"
      ]
     },
     "metadata": {},
     "output_type": "display_data"
    }
   ],
   "source": [
    "temps = np.random.uniform(15, 35, size = [30])\n",
    "dicc_temps = {}\n",
    "i = 0\n",
    "mas_30 = []\n",
    "for dia in temps: #No se pone i en for _ porque eso haría que cada i en cada iteración agarrasé el valor del elemento tal en temps, temps se parte \n",
    "    #elemento por elemento con dia e i se usa solo como contador después\n",
    "    dicc_temps[\"Día_\" + str(i+1)] = temps[i] #Se pone i+1 para que el día comience en 1\n",
    "    #Poner str(i+1) hace que se escriba a partir del día 1, pero hasta la línea de i += 1 el valor de i\n",
    "    #no cambia definitivamente y por eso no salta el elemento 0.\n",
    "    i += 1\n",
    "i = 0\n",
    "for i in range(len(temps)):\n",
    "    if temps[i]>=30: #Aquí va temps[i] y no dia porque dia es una lista de un elemento y temps[i] es un flotante que sí puede ser comparado a 30\n",
    "        mas_30.append(\"Día_\" + str(i+1)) #Se usa append porque así se pone el string entero en lugar de += porque este operador añade cada elemento\n",
    "        #del iterable a la derecha, y un string siendo un iterable de caracteres añade cada caracter por separado\n",
    "    i += 1\n",
    "i = 0\n",
    "#print(dicc_temps)\n",
    "#print(mas_30)\n",
    "plt.scatter(dicc_temps.keys(), dicc_temps.values())\n",
    "plt.plot(dicc_temps.keys(), dicc_temps.values()) #Supongo que por defecto las gráficas se superponen, como hold on en matlab\n",
    "lista = []\n",
    "for dia in mas_30:\n",
    "    lista.append(dicc_temps[dia]) #Fue la única forma que se me ocurrió de sacar los values para cada día arriba de 30, funciona\n",
    "plt.scatter(mas_30, lista, color = 'red')"
   ]
  },
  {
   "cell_type": "markdown",
   "id": "859f5929-28bb-4708-ac2e-ea39d115eabc",
   "metadata": {},
   "source": [
    "🔹 Ejercicio Comparación de distribuciones\n",
    "\n",
    "Genera dos arreglos de 100 números aleatorios con distribución normal:\n",
    "\n",
    "grupo_A: media 50, desviación 10\n",
    "\n",
    "grupo_B: media 60, desviación 15\n",
    "\n",
    "Guarda en un diccionario con claves \"A\" y \"B\".\n",
    "\n",
    "Calcula media y desviación estándar de cada grupo y guárdalas en listas.\n",
    "\n",
    "Grafica ambos grupos en un histograma comparativo (superposición con colores diferentes y transparencia)."
   ]
  },
  {
   "cell_type": "code",
   "execution_count": 163,
   "id": "5f69bbd7-f712-42f0-9da2-9f09b83ffa77",
   "metadata": {},
   "outputs": [
    {
     "data": {
      "text/plain": [
       "(array([ 2.,  2.,  1.,  8., 17., 24., 20., 11.,  9.,  6.]),\n",
       " array([11.74303208, 20.05134827, 28.35966447, 36.66798066, 44.97629685,\n",
       "        53.28461305, 61.59292924, 69.90124543, 78.20956163, 86.51787782,\n",
       "        94.82619401]),\n",
       " <BarContainer object of 10 artists>)"
      ]
     },
     "execution_count": 163,
     "metadata": {},
     "output_type": "execute_result"
    },
    {
     "data": {
      "image/png": "[encoded data removed]",
      "text/plain": [
       "<Figure size 640x480 with 1 Axes>"
      ]
     },
     "metadata": {},
     "output_type": "display_data"
    }
   ],
   "source": [
    "array_A = np.random.normal(50,10,100) #Media, desviación estándar, tamaño\n",
    "array_B = np.random.normal(60,15,100)\n",
    "dicc_AB = {}\n",
    "dicc_AB['A'] = array_A\n",
    "dicc_AB['B'] = array_B\n",
    "mean_A, std_A = np.mean(array_A), np.std(array_A)\n",
    "mean_B, std_B = np.mean(array_B), np.std(array_B)\n",
    "plt.hist(array_A, alpha = 0.6, color = 'green')\n",
    "plt.hist(array_B, alpha = 0.7, color = 'red')"
   ]
  },
  {
   "cell_type": "markdown",
   "id": "f02dd7ab-0f94-4cd5-ae76-5fdab3434578",
   "metadata": {},
   "source": [
    "🔹 Ejercicio Clasificación de temperaturas\n",
    "\n",
    "Genera una Serie con 50 valores aleatorios entre -10 y 40 (temperaturas).\n",
    "\n",
    "Recorre la Serie y clasifica cada temperatura en un diccionario:\n",
    "\n",
    "\"frío\" si < 10\n",
    "\n",
    "\"templado\" si 10–25\n",
    "\n",
    "\"calor\" si > 25\n",
    "\n",
    "Convierte el diccionario en un DataFrame con columnas \"Temperatura\" y \"Categoría\".\n",
    "\n",
    "Cuenta cuántos valores cayeron en cada categoría."
   ]
  },
  {
   "cell_type": "code",
   "execution_count": 34,
   "id": "015bdb71-babb-4ca3-90f6-e3b44efeff48",
   "metadata": {},
   "outputs": [
    {
     "name": "stdout",
     "output_type": "stream",
     "text": [
      "   Temperatura Categoría\n",
      "0     -5.54412      Frío\n",
      "1     4.755253      Frío\n",
      "2     4.200219      Frío\n",
      "3    -8.308994      Frío\n",
      "4    -4.809779      Frío\n",
      "5    -1.217197      Frío\n",
      "6    15.984963  Templado\n",
      "7     1.321336      Frío\n",
      "8    12.981725  Templado\n",
      "9    23.207346  Templado\n",
      "10     2.42107      Frío\n",
      "11   39.295847     Calor\n",
      "12   29.906677     Calor\n",
      "13   17.059979  Templado\n",
      "14   -5.759859      Frío\n",
      "15   28.643022     Calor\n",
      "16   33.233901     Calor\n",
      "17   -4.544518      Frío\n",
      "18      2.4815      Frío\n",
      "19   22.144958  Templado\n",
      "20   -5.334495      Frío\n",
      "21   36.163245     Calor\n",
      "22    7.100868      Frío\n",
      "23   20.727835  Templado\n",
      "24     26.4716     Calor\n",
      "25   14.506685  Templado\n",
      "26   37.569759     Calor\n",
      "27   -0.451082      Frío\n",
      "28   30.263013     Calor\n",
      "29    6.955265      Frío\n",
      "30   13.189703  Templado\n",
      "31    5.826287      Frío\n",
      "32   30.992277     Calor\n",
      "33    16.81137  Templado\n",
      "34   -5.874281      Frío\n",
      "35   13.664345  Templado\n",
      "36   20.430585  Templado\n",
      "37   24.008488  Templado\n",
      "38    5.186424      Frío\n",
      "39   36.275328     Calor\n",
      "40   10.506365  Templado\n",
      "41   13.763136  Templado\n",
      "42    4.102959      Frío\n",
      "43   38.999205     Calor\n",
      "44   -0.144726      Frío\n",
      "45   18.955818  Templado\n",
      "46   36.889962     Calor\n",
      "47    -0.50859      Frío\n",
      "48   27.827705     Calor\n",
      "49   32.051723     Calor\n",
      "Hay  21  días de frío\n",
      "Hay  15  días templados\n",
      "Hay  14  días de calor\n"
     ]
    }
   ],
   "source": [
    "import pandas as pd\n",
    "serie = pd.Series(np.random.uniform(-10,40, 50))\n",
    "#print(serie)\n",
    "dicc_clima = {} #Diccionario para los días\n",
    "frio = []\n",
    "templado = []\n",
    "calor = []\n",
    "for dia in serie:\n",
    "    if dia<10:\n",
    "        dicc_clima[dia] = 'Frío' #Poner str(i+1) hace que se escriba a partir del día 1, pero hasta la línea de i += 1 el valor de i\n",
    "        #no cambia definitivamente y por eso no salta el elemento 0.\n",
    "        frio.append(dia)\n",
    "    elif 25>dia>=10:\n",
    "        dicc_clima[dia] = 'Templado'\n",
    "        templado.append(dia)\n",
    "    else:\n",
    "        dicc_clima[dia] = 'Calor'\n",
    "        calor.append(dia)\n",
    "    i += 1\n",
    "#print(dicc_clima)\n",
    "df_clima = pd.DataFrame(columns = ['Temperatura', 'Categoría'], index = range(len(dicc_clima)))\n",
    "i = 0\n",
    "for elemento in dicc_clima:\n",
    "    df_clima.loc[i] = [elemento, dicc_clima[elemento]]\n",
    "    i += 1\n",
    "print(df_clima)\n",
    "print('Hay ', len(frio), ' días de frío')\n",
    "print('Hay ', len(templado), ' días templados')\n",
    "print('Hay ', len(calor), ' días de calor')"
   ]
  },
  {
   "cell_type": "markdown",
   "id": "47a3878d-a30e-4d68-b2ba-d70aeb6b995e",
   "metadata": {},
   "source": [
    "🔹 Ejercicio Matriz de distancias\n",
    "\n",
    "Genera una matriz 10x2 con coordenadas aleatorias (x, y) entre 0 y 100.\n",
    "\n",
    "Con un bucle, calcula las distancias euclidianas entre cada par de puntos y guárdalas en un diccionario con claves (i,j).\n",
    "\n",
    "Convierte el diccionario en un DataFrame de 10x10 (matriz de distancias).\n",
    "\n",
    "Encuentra el par de puntos más cercanos y el más lejano."
   ]
  },
  {
   "cell_type": "code",
   "execution_count": 58,
   "id": "a0c5d538-d0ff-41d3-91d8-ff33650912c2",
   "metadata": {},
   "outputs": [
    {
     "name": "stdout",
     "output_type": "stream",
     "text": [
      "           0          1          2          3          4          5  \\\n",
      "0        0.0  48.799466  53.288505  52.644816   55.67009  32.039436   \n",
      "1  48.799466        0.0  59.384033  11.220083  90.045965  54.503941   \n",
      "2  53.288505  59.384033        0.0  70.140586  44.317411  22.671773   \n",
      "3  52.644816  11.220083  70.140586        0.0  98.515274  63.461735   \n",
      "4   55.67009  90.045965  44.317411  98.515274        0.0  35.710649   \n",
      "5  32.039436  54.503941  22.671773  63.461735  35.710649        0.0   \n",
      "6  44.357405  23.355493  74.757965  16.223308  96.072394  63.160216   \n",
      "7  49.728146  94.568525  97.297121  94.745505  76.985797  74.663013   \n",
      "8  37.736476  25.259882  71.254244  20.810468  90.262994  58.152143   \n",
      "9  49.183538  88.840187  50.678106  96.298757  12.083251  36.639668   \n",
      "\n",
      "           6          7          8          9  \n",
      "0  44.357405  49.728146  37.736476  49.183538  \n",
      "1  23.355493  94.568525  25.259882  88.840187  \n",
      "2  74.757965  97.297121  71.254244  50.678106  \n",
      "3  16.223308  94.745505  20.810468  96.298757  \n",
      "4  96.072394  76.985797  90.262994  12.083251  \n",
      "5  63.160216  74.663013  58.152143  36.639668  \n",
      "6        0.0   81.05969   6.797193  91.924068  \n",
      "7   81.05969        0.0  74.728673  65.213908  \n",
      "8   6.797193  74.728673        0.0  85.722567  \n",
      "9  91.924068  65.213908  85.722567        0.0  \n",
      "El par de puntos más cercano es:  Distancia entre punto 6 y 8\n",
      "El par de puntos más lejano es:  Distancia entre punto 3 y 4\n"
     ]
    }
   ],
   "source": [
    "import numpy as np\n",
    "import pandas as pd\n",
    "m_dis = np.random.uniform(0,100, size = [10,2])\n",
    "#print(m_dis)\n",
    "x = []\n",
    "y = []\n",
    "dicc_dist = {}\n",
    "i = 0\n",
    "for coord in m_dis:\n",
    "    x.append(coord[0])\n",
    "    y.append(coord[1])\n",
    "  #  i += 1\n",
    "#print(x)\n",
    "#print(y)\n",
    "distancia = 0\n",
    "distancias = []\n",
    "df_dist = pd.DataFrame(data = dicc_dist, index = range(len(m_dis)), columns = range(len(m_dis)))\n",
    "for i in range(len(m_dis)):\n",
    "    #Este primer bucle pasa de punto inicial a punto incial, se necesita un bucle dentro de este para que pase por todos los otros puntos\n",
    "    #antes de cambiar el punto inicial\n",
    "    for j in range(len(m_dis)): #Recordar que range funciona como: range (inicio, final, salto). Si solo hay un argumento se considera ese el final\n",
    "        distancia = ((x[i]-x[j])**2 + (y[i]-y[j])**2)**(0.5)\n",
    "        dicc_dist[\"Distancia entre punto \" + str(i) + \" y \" + str(j) ] = distancia\n",
    "        df_dist.loc[i,j] = dicc_dist[\"Distancia entre punto \" + str(i) + \" y \" + str(j) ]\n",
    "        distancias.append(distancia)\n",
    "\n",
    "#print(dicc_dist)\n",
    "print(df_dist)\n",
    "for valor in dicc_dist: \n",
    "    if  dicc_dist[valor] == 0:\n",
    "        dicc_dist[valor] = np.mean(distancias)\n",
    "#Para encontrar los valores mínimos y máximos primero había que quitar las distancias entre puntos A-A, que son todas 0. No se podía simplemente \n",
    "#eliminar las keys que fueran 0 (se intentó) porque no se permite que el iterable del ciclo for cambie de tamaño mientras está en el ciclo. Entonces\n",
    "#la solución fué asignarle a estos keys el valor de la media de todas las distancias, para así asegurarse que nunca serían ni la distancia máxima\n",
    "#ni la mínima.\n",
    "\n",
    "print('El par de puntos más cercano es: ', min(dicc_dist, key = dicc_dist.get)) #El argumento key en min y max es una función que se le aplica a los elementos del iterable y luego el\n",
    "print('El par de puntos más lejano es: ', max(dicc_dist, key = dicc_dist.get)) #resultado de esa función es lo que se compara entre los elementos. .get retorna el value de cada key."
   ]
  },
  {
   "cell_type": "markdown",
   "id": "83110dd5-9367-4715-9160-54cb296b7aa9",
   "metadata": {},
   "source": [
    "3🔹 Ejercicio Análisis de series temporales\n",
    "\n",
    "Genera con NumPy una Serie de 365 valores aleatorios entre 10 y 40 (temperatura diaria de un año).\n",
    "\n",
    "Convierte en un DataFrame con columnas \"Día\" y \"Temperatura\".\n",
    "\n",
    "Usa un bucle para calcular la media de cada mes (asume 30 días por mes).\n",
    "\n",
    "Guarda las medias en un diccionario {Mes: Promedio}.\n",
    "\n",
    "Convierte el diccionario en una Series y ordénala de mayor a menor."
   ]
  },
  {
   "cell_type": "code",
   "execution_count": 100,
   "id": "f0c43d91-1df0-4f69-a423-dee8cb1ca75f",
   "metadata": {},
   "outputs": [
    {
     "name": "stdout",
     "output_type": "stream",
     "text": [
      "{'Mes 1': np.float64(28.099556265494357), 'Mes 2': np.float64(26.11340756112454), 'Mes 3': np.float64(21.4650705104384), 'Mes 4': np.float64(22.81648714977962), 'Mes 5': np.float64(24.190649054158126), 'Mes 6': np.float64(27.478219694972307), 'Mes 7': np.float64(25.843576203730347), 'Mes 8': np.float64(25.01985914537581), 'Mes 9': np.float64(25.230250659168007), 'Mes 10': np.float64(25.689618588391323), 'Mes 11': np.float64(25.180095924199254), 'Mes 12': np.float64(24.62472400320275), 'Mes 13': np.float64(32.0981248561864)}\n",
      "         Día  Temperatura\n",
      "0      Día 1    26.247844\n",
      "1      Día 2    29.881667\n",
      "2      Día 3    30.272124\n",
      "3      Día 4    35.543582\n",
      "4      Día 5    37.941800\n",
      "..       ...          ...\n",
      "360  Día 361    38.599305\n",
      "361  Día 362    33.374585\n",
      "362  Día 363    22.404411\n",
      "363  Día 364    29.177774\n",
      "364  Día 365    36.934549\n",
      "\n",
      "[365 rows x 2 columns]\n",
      "Mes 13    32.098125\n",
      "Mes 1     28.099556\n",
      "Mes 6     27.478220\n",
      "Mes 2     26.113408\n",
      "Mes 7     25.843576\n",
      "Mes 10    25.689619\n",
      "Mes 9     25.230251\n",
      "Mes 11    25.180096\n",
      "Mes 8     25.019859\n",
      "Mes 12    24.624724\n",
      "Mes 5     24.190649\n",
      "Mes 4     22.816487\n",
      "Mes 3     21.465071\n",
      "dtype: float64\n"
     ]
    }
   ],
   "source": [
    "año = np.random.uniform(10,40,365)\n",
    "df_año = pd.DataFrame(columns = ['Día', 'Temperatura'])\n",
    "i = 0\n",
    "for periodo in año:\n",
    "    df_año.loc[i] = ['Día ' + str(i+1), periodo]\n",
    "    i += 1\n",
    "dicc_año = {}\n",
    "mes = []\n",
    "j = 1\n",
    "for i in range(0,len(año),30): #Recordar que range fuciona range(inicio, fin, salto). Si solo se ponen dos valores se interpreta como inicio, fin\n",
    "    mes = año[i:i+30]\n",
    "    dicc_año['Mes ' + str(j)] = np.mean(mes)\n",
    "    j += 1\n",
    "\n",
    "print(dicc_año)\n",
    "print(df_año)\n",
    "\n",
    "serie_año = pd.Series(data = dicc_año)\n",
    "print(serie_año.sort_values(ascending = False)) #El método sort.values() ordena la serie según los valores, también existe el sort.indexes() que lo \n",
    "#hace según los índices. El argumento ascending debe ser True o False (con mayúscula inicial) según se quiera un ordenamiento ascendente o descendente"
   ]
  },
  {
   "cell_type": "markdown",
   "id": "696cbd58-a2f3-4f4b-927b-cf106b0b1eab",
   "metadata": {},
   "source": [
    "🔹 Ejercicio Actividad neuronal por regiones\n",
    "\n",
    "Genera una matriz 100x5 con NumPy representando la actividad de 100 neuronas en 5 regiones cerebrales (valores entre 0 y 1 como tasas de disparo).\n",
    "\n",
    "Convierte la matriz en un DataFrame con columnas \"Región_1\"... \"Región_5\".\n",
    "\n",
    "Usa un bucle para calcular la actividad media de cada región y guárdala en un diccionario.\n",
    "\n",
    "Convierte el diccionario en una Series y ordénala de mayor a menor."
   ]
  },
  {
   "cell_type": "code",
   "execution_count": 111,
   "id": "ef5e98cd-9aff-4656-8cf8-668f0badd07a",
   "metadata": {},
   "outputs": [
    {
     "name": "stdout",
     "output_type": "stream",
     "text": [
      "                0         1         2         3         4         5   \\\n",
      "Región 1  0.367424  0.897648  0.149628  0.036258  0.096987  0.749421   \n",
      "Región 2  0.940450  0.181503  0.523135  0.008814  0.783107  0.709534   \n",
      "Región 3  0.187378  0.129772  0.781603  0.304718  0.965355  0.228541   \n",
      "Región 4  0.911856  0.766393  0.967760  0.137148  0.644345  0.661679   \n",
      "Región 5  0.902146  0.651611  0.087018  0.252249  0.934097  0.844141   \n",
      "\n",
      "                6         7         8         9   ...        90        91  \\\n",
      "Región 1  0.771643  0.483571  0.343525  0.711802  ...  0.663534  0.875810   \n",
      "Región 2  0.326528  0.913921  0.144390  0.793768  ...  0.701108  0.731758   \n",
      "Región 3  0.593311  0.194230  0.529131  0.006558  ...  0.308047  0.790728   \n",
      "Región 4  0.675763  0.502384  0.831819  0.813383  ...  0.021442  0.855590   \n",
      "Región 5  0.866573  0.884621  0.424490  0.197241  ...  0.841170  0.785720   \n",
      "\n",
      "                92        93        94        95        96        97  \\\n",
      "Región 1  0.169484  0.118956  0.613260  0.928015  0.159346  0.397578   \n",
      "Región 2  0.215656  0.114310  0.018269  0.779941  0.811628  0.026882   \n",
      "Región 3  0.323068  0.607920  0.893822  0.766838  0.038767  0.491294   \n",
      "Región 4  0.300197  0.176304  0.644424  0.430773  0.217775  0.967396   \n",
      "Región 5  0.847244  0.321806  0.825253  0.761409  0.618792  0.790789   \n",
      "\n",
      "                98        99  \n",
      "Región 1  0.479970  0.996692  \n",
      "Región 2  0.172802  0.246049  \n",
      "Región 3  0.141635  0.435206  \n",
      "Región 4  0.452050  0.878629  \n",
      "Región 5  0.910866  0.886043  \n",
      "\n",
      "[5 rows x 100 columns]\n",
      "{'Región 1': np.float64(0.49697154943132377), 'Región 2': np.float64(0.47392334716415646), 'Región 3': np.float64(0.47989848271541713), 'Región 4': np.float64(0.5478497531794744), 'Región 5': np.float64(0.5422183850152796)}\n",
      "Región 4    0.547850\n",
      "Región 5    0.542218\n",
      "Región 1    0.496972\n",
      "Región 3    0.479898\n",
      "Región 2    0.473923\n",
      "dtype: float64\n"
     ]
    }
   ],
   "source": [
    "matriz_neun = np.random.uniform(0,1, size = [100,5])\n",
    "df_neun = pd.DataFrame(data = matriz_neun.T, index = ['Región 1', 'Región 2','Región 3','Región 4','Región 5'])\n",
    "#Se me ocurrió usar la operación transpuesta para que directamente desde la matriz se intercambie el número de filas por el de columnas. Esto\n",
    "#se puede hacer en un dataframe con el mismo método .T\n",
    "print(df_neun)\n",
    "i = 1 #En este caso i comienza en 1 y no en 0 porque es el contador de regiones y estas empiezan desde 1 (No existe la región 0)\n",
    "dicc_neun = {}\n",
    "for fila in matriz_neun.T: #Volvemos a usar la transpuesta para facilitar todo\n",
    "    dicc_neun['Región ' + str(i)] = np.mean(fila)\n",
    "    i += 1\n",
    "print(dicc_neun)\n",
    "\n",
    "serie_neun = pd.Series(data = dicc_neun) #Esto igual que en el ejercicio anterior\n",
    "print(serie_neun.sort_values(ascending = False))"
   ]
  },
  {
   "cell_type": "markdown",
   "id": "07f21b80-6ed2-4251-979f-e8c200c8b43d",
   "metadata": {},
   "source": [
    "🔹 Ejercicio Conectividad funcional (correlaciones)\n",
    "\n",
    "Simula con NumPy una matriz 200x4 con series de tiempo de actividad fMRI en 4 áreas cerebrales.\n",
    "\n",
    "Convierte en un DataFrame con columnas \"Área_1\"... \"Área_4\".\n",
    "\n",
    "Con un bucle, calcula la correlación de Pearson entre todas las parejas de áreas y guárdala en un diccionario con claves (Área_i, Área_j).\n",
    "\n",
    "Convierte el diccionario en un DataFrame cuadrado (matriz de conectividad)."
   ]
  },
  {
   "cell_type": "code",
   "execution_count": null,
   "id": "2d471997-8390-4310-a7db-ee2ce96659a2",
   "metadata": {},
   "outputs": [],
   "source": []
  },
  {
   "cell_type": "markdown",
   "id": "c1444400-53e6-4b0a-8c84-07327492c649",
   "metadata": {},
   "source": [
    "🔹 Ejercicio Potenciales de acción por neurona\n",
    "\n",
    "Genera una lista de 50 neuronas.\n",
    "\n",
    "Para cada neurona, simula con NumPy una Serie de 100 ms de actividad (valores enteros 0 o 1 indicando si disparó o no).\n",
    "\n",
    "Guarda los resultados en un diccionario {Neurona: Serie}.\n",
    "\n",
    "Crea un DataFrame con todas las neuronas (filas) y tiempos (columnas).\n",
    "\n",
    "Usa un bucle para contar cuántos disparos totales tuvo cada neurona y genera una Series con esos valores."
   ]
  },
  {
   "cell_type": "code",
   "execution_count": null,
   "id": "94be7472-ab51-431a-ab28-864d8969e031",
   "metadata": {},
   "outputs": [],
   "source": []
  },
  {
   "cell_type": "markdown",
   "id": "b3fa8e28-a6aa-4ea0-a297-8df5b1077855",
   "metadata": {},
   "source": [
    "🔹 Ejercicio EEG por canales\n",
    "\n",
    "Simula una matriz 500x8 con NumPy representando 500 muestras de señal EEG en 8 canales (valores flotantes entre -100 y 100 µV).\n",
    "\n",
    "Convierte la matriz en un DataFrame con columnas \"Canal_1\"... \"Canal_8\".\n",
    "\n",
    "Usa un bucle para calcular la potencia media de cada canal (media del cuadrado de la señal).\n",
    "\n",
    "Guarda los resultados en un diccionario y conviértelo en una Series ordenada.\n",
    "\n",
    "Identifica el canal con mayor potencia."
   ]
  },
  {
   "cell_type": "code",
   "execution_count": null,
   "id": "824929a1-32e6-4dab-8fb6-06f088964492",
   "metadata": {},
   "outputs": [],
   "source": []
  },
  {
   "cell_type": "markdown",
   "id": "64464de2-850c-4c86-b245-843e183f0a68",
   "metadata": {},
   "source": [
    "🔹 Ejercicio Análisis de respuestas a estímulos\n",
    "\n",
    "Genera un DataFrame con 30 sujetos (filas) y 3 condiciones experimentales (\"Cond_A\", \"Cond_B\", \"Cond_C\") con valores de tiempo de reacción simulados (valores entre 200–800 ms).\n",
    "\n",
    "Usa un bucle para calcular el promedio por condición en toda la muestra.\n",
    "\n",
    "Convierte los resultados en un diccionario y luego en una Series.\n",
    "\n",
    "Agrega una columna \"Mejor_condición\" al DataFrame indicando la condición más rápida por sujeto.\n",
    "\n",
    "Cuenta cuántos sujetos respondieron mejor en cada condición."
   ]
  },
  {
   "cell_type": "code",
   "execution_count": 137,
   "id": "ebd7c105-85eb-4762-9a63-1515dd3313a4",
   "metadata": {},
   "outputs": [
    {
     "name": "stdout",
     "output_type": "stream",
     "text": [
      "               Cond_A      Cond_B      Cond_C Mejor_condición\n",
      "Sujeto 1   456.713285  569.461456  465.650214     Condición_A\n",
      "Sujeto 2   596.422246  570.395764  547.418626     Condición_C\n",
      "Sujeto 3   550.339465  609.962119  508.072389     Condición_C\n",
      "Sujeto 4   350.430861  487.267807  548.207810     Condición_A\n",
      "Sujeto 5   401.568519  501.272391  558.659406     Condición_A\n",
      "Sujeto 6   605.503119  580.715537  552.690337     Condición_C\n",
      "Sujeto 7   348.570234  508.359111  542.816253     Condición_A\n",
      "Sujeto 8   382.864348  455.197641  451.701688     Condición_A\n",
      "Sujeto 9   546.646044  409.009557  409.543133     Condición_B\n",
      "Sujeto 10  402.807122  568.861837  329.906875     Condición_C\n",
      "Sujeto 11  222.671008  483.912735  533.681420     Condición_A\n",
      "Sujeto 12  402.991030  609.257876  448.002289     Condición_A\n",
      "Sujeto 13  534.768126  348.445875  583.003813     Condición_B\n",
      "Sujeto 14  516.312494  475.140614  494.048244     Condición_B\n",
      "Sujeto 15  429.062326  544.907782  465.342251     Condición_A\n",
      "Sujeto 16  524.932360  208.309990  423.462497     Condición_B\n",
      "Sujeto 17  524.122990  460.885623  387.069747     Condición_C\n",
      "Sujeto 18  519.847967  517.580145  491.295105     Condición_C\n",
      "Sujeto 19  621.282822  280.901720  554.987220     Condición_B\n",
      "Sujeto 20  351.266437  664.678742  459.871282     Condición_A\n",
      "Sujeto 21  521.576865  248.299231  454.480286     Condición_B\n",
      "Sujeto 22  649.726064  543.322884  346.638079     Condición_C\n",
      "Sujeto 23  442.030114  451.095981  456.049782     Condición_A\n",
      "Sujeto 24  495.388919  485.279532  655.206371     Condición_B\n",
      "Sujeto 25  533.779720  637.704705  589.734092     Condición_A\n",
      "Sujeto 26  275.290454  497.551657  453.539181     Condición_A\n",
      "Sujeto 27  520.330197  422.525548  368.335103     Condición_C\n",
      "Sujeto 28  435.572961  416.856915  383.703825     Condición_C\n",
      "Sujeto 29  426.617421  345.150695  409.776097     Condición_B\n",
      "Sujeto 30  451.991047  566.507512  484.527619     Condición_A\n",
      "13  sujetos respondieron mejor en la condición A\n",
      "8  sujetos respondieron mejor en la condición B\n",
      "9  sujetos respondieron mejor en la condición C\n"
     ]
    }
   ],
   "source": [
    "matriz_sujetos = np.random.normal(500,100, size = [30,3]) #Para simular un poco mejor condiciones reales, se hizo con normal\n",
    "#en lugar de uniform. Según cáclulos de chatGPT, una distribución normal con media de 500 y desviación de 100 hace que el 99.7%\n",
    "#de los datos caigan dentro del rango de 200 a 800\n",
    "indices = []\n",
    "for i in range(len(matriz_sujetos)):\n",
    "    indices.append('Sujeto ' + str(i+1))\n",
    "df_sujetos = pd.DataFrame(data = matriz_sujetos, columns = ['Cond_A', 'Cond_B','Cond_C'], index = indices)\n",
    "#print(df_sujetos)\n",
    "mayus = ['A', 'B', 'C']\n",
    "i = 0\n",
    "dicc_sujetos = {}\n",
    "for columna in matriz_sujetos.T:\n",
    "    dicc_sujetos['Condición ' + mayus[i]] = np.mean(columna)\n",
    "    i += 1\n",
    "#print(dicc_sujetos)\n",
    "serie_sujetos = pd.Series(data=dicc_sujetos)\n",
    "\n",
    "minimos = []\n",
    "i = 0\n",
    "for filas in matriz_sujetos:\n",
    "    minimos.append(min(filas)) #Este parte del bucle saca los mínimos\n",
    "    if minimos[i] in matriz_sujetos[:,0]:\n",
    "        minimos[i] = 'Condición_A'\n",
    "    elif minimos[i] in matriz_sujetos[:,1]:\n",
    "        minimos[i] = 'Condición_B'\n",
    "    elif minimos[i] in matriz_sujetos[:,2]:\n",
    "        minimos[i] = 'Condición_C'\n",
    "    i += 1\n",
    "#El resto del bucle evalua el valor minimo que se va sacando según su posición en la lista(que se controla con i) y ve si esta en lista resultante\n",
    "#de aislar cada columna de la matriz original. No tiene else porque tiene que buscar sí o sí en cada columna.\n",
    "#print(minimos)\n",
    "df_sujetos['Mejor_condición'] = minimos\n",
    "print(df_sujetos)\n",
    "i = 0\n",
    "A = 0\n",
    "B = 0\n",
    "C = 0\n",
    "for mas_rapido in minimos: #Por cada elemento del iterable\n",
    "    if mas_rapido == 'Condición_A':\n",
    "        A += 1\n",
    "    elif mas_rapido == 'Condición_B':\n",
    "        B += 1\n",
    "    elif mas_rapido == 'Condición_C':\n",
    "        C += 1\n",
    "print(A, ' sujetos respondieron mejor en la condición A')\n",
    "print(B, ' sujetos respondieron mejor en la condición B')\n",
    "print(C, ' sujetos respondieron mejor en la condición C')"
   ]
  },
  {
   "cell_type": "code",
   "execution_count": null,
   "id": "d4a8a463-0688-4755-b773-b43b95ed516c",
   "metadata": {},
   "outputs": [],
   "source": []
  }
 ],
 "metadata": {
  "kernelspec": {
   "display_name": "Python 3 (ipykernel)",
   "language": "python",
   "name": "python3"
  },
  "language_info": {
   "codemirror_mode": {
    "name": "ipython",
    "version": 3
   },
   "file_extension": ".py",
   "mimetype": "text/x-python",
   "name": "python",
   "nbconvert_exporter": "python",
   "pygments_lexer": "ipython3",
   "version": "3.10.4"
  }
 },
 "nbformat": 4,
 "nbformat_minor": 5
}
