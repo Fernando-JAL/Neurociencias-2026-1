{
 "cells": [
  {
   "cell_type": "markdown",
   "id": "b0389453-62d8-4258-a679-dbfe289f32b8",
   "metadata": {},
   "source": [
    "🔹 Ejercicio Frecuencia de números en matriz"
   ]
  },
  {
   "cell_type": "code",
   "execution_count": 1,
   "id": "e8488329-4070-4770-904d-2c99862d9c20",
   "metadata": {},
   "outputs": [],
   "source": [
    "import numpy as np"
   ]
  },
  {
   "cell_type": "code",
   "execution_count": 7,
   "id": "51e958e2-f6df-401c-a32f-15a50bd53c88",
   "metadata": {},
   "outputs": [],
   "source": [
    "# Genera una matriz 6x6 de enteros aleatorios entre 1 y 10 usando NumPy.\n",
    "matriz = np.random.randint(1, 11, size=(6, 6))"
   ]
  },
  {
   "cell_type": "code",
   "execution_count": 8,
   "id": "60b7d31e-0371-4e19-92f8-2c079db4bd23",
   "metadata": {},
   "outputs": [
    {
     "data": {
      "text/plain": [
       "array([[10,  7,  6,  6,  5,  3],\n",
       "       [10,  9,  5,  3, 10,  3],\n",
       "       [ 4,  1,  5,  6, 10,  5],\n",
       "       [ 2,  1,  4,  1,  3, 10],\n",
       "       [ 6,  9, 10, 10,  9,  1],\n",
       "       [ 5,  8,  9,  9,  6,  4]], dtype=int32)"
      ]
     },
     "execution_count": 8,
     "metadata": {},
     "output_type": "execute_result"
    }
   ],
   "source": [
    "matriz"
   ]
  },
  {
   "cell_type": "code",
   "execution_count": null,
   "id": "435a8715-02ee-4236-927e-814003b7bf1c",
   "metadata": {},
   "outputs": [],
   "source": [
    "#Recorre la matriz y guarda en un diccionario la frecuencia de cada número."
   ]
  },
  {
   "cell_type": "code",
   "execution_count": 20,
   "id": "4c563304-d190-4f96-92b3-0971f5e3cf2a",
   "metadata": {},
   "outputs": [],
   "source": [
    "diccionario = {}\n",
    "for num in matriz.flatten():  \n",
    "    diccionario[num] = diccionario.get(num, 0) + 1"
   ]
  },
  {
   "cell_type": "code",
   "execution_count": 21,
   "id": "b401eb17-6b9b-42ba-9b02-9b4ee924a714",
   "metadata": {},
   "outputs": [
    {
     "data": {
      "text/plain": [
       "{np.int32(10): 7,\n",
       " np.int32(7): 1,\n",
       " np.int32(6): 5,\n",
       " np.int32(5): 5,\n",
       " np.int32(3): 4,\n",
       " np.int32(9): 5,\n",
       " np.int32(4): 3,\n",
       " np.int32(1): 4,\n",
       " np.int32(2): 1,\n",
       " np.int32(8): 1}"
      ]
     },
     "execution_count": 21,
     "metadata": {},
     "output_type": "execute_result"
    }
   ],
   "source": [
    "diccionario"
   ]
  },
  {
   "cell_type": "code",
   "execution_count": null,
   "id": "fefc65e6-f49b-4a69-b61d-9178d6da9c68",
   "metadata": {},
   "outputs": [],
   "source": [
    "#Convierte el diccionario en una lista de tuplas (número, frecuencia) y ordénala de mayor a menor frecuencia."
   ]
  },
  {
   "cell_type": "code",
   "execution_count": 12,
   "id": "fc4ad87a-7564-45ec-89cc-483ce66ef5f1",
   "metadata": {},
   "outputs": [],
   "source": [
    "lista = sorted(diccionario.items(), key=lambda x: x[1], reverse=True)\n"
   ]
  },
  {
   "cell_type": "code",
   "execution_count": 13,
   "id": "1aa1b643-7d0c-4d5b-9d24-1cd87105ed35",
   "metadata": {},
   "outputs": [
    {
     "data": {
      "text/plain": [
       "[(np.int32(10), 7),\n",
       " (np.int32(6), 5),\n",
       " (np.int32(5), 5),\n",
       " (np.int32(9), 5),\n",
       " (np.int32(3), 4),\n",
       " (np.int32(1), 4),\n",
       " (np.int32(4), 3),\n",
       " (np.int32(7), 1),\n",
       " (np.int32(2), 1),\n",
       " (np.int32(8), 1)]"
      ]
     },
     "execution_count": 13,
     "metadata": {},
     "output_type": "execute_result"
    }
   ],
   "source": [
    "lista"
   ]
  },
  {
   "cell_type": "markdown",
   "id": "0096d252-a370-4584-b159-85bf3170cf5d",
   "metadata": {},
   "source": [
    "🔹 Ejercicio Promedios por columna y gráfico de líneas"
   ]
  },
  {
   "cell_type": "code",
   "execution_count": null,
   "id": "de8059c0-db2f-46c9-840d-5dfd8a50a534",
   "metadata": {},
   "outputs": [],
   "source": [
    "# Crea una matriz 10x5 con enteros entre 10 y 100."
   ]
  },
  {
   "cell_type": "code",
   "execution_count": 25,
   "id": "692ef5e2-040e-4a7d-83b2-99b1376ac677",
   "metadata": {},
   "outputs": [],
   "source": [
    "import matplotlib.pyplot as plt"
   ]
  },
  {
   "cell_type": "code",
   "execution_count": 28,
   "id": "eda0d898-c2f2-4a0e-90a0-ac4401ae8187",
   "metadata": {},
   "outputs": [],
   "source": [
    "matriz2 = np.random.randint(10, 101, size=(10, 5))"
   ]
  },
  {
   "cell_type": "code",
   "execution_count": 29,
   "id": "092ac47c-f121-46f1-827f-9db6916aef23",
   "metadata": {},
   "outputs": [
    {
     "data": {
      "text/plain": [
       "array([[19, 86, 89, 64, 80],\n",
       "       [21, 21, 79, 15, 32],\n",
       "       [59, 12, 87, 10, 60],\n",
       "       [14, 56, 41, 70, 10],\n",
       "       [70, 74, 39, 45, 61],\n",
       "       [21, 48, 98, 77, 70],\n",
       "       [34, 64, 54, 19, 60],\n",
       "       [72, 78, 91, 66, 76],\n",
       "       [59, 49, 11, 68, 32],\n",
       "       [17, 88, 26, 72, 16]], dtype=int32)"
      ]
     },
     "execution_count": 29,
     "metadata": {},
     "output_type": "execute_result"
    }
   ],
   "source": [
    "matriz2"
   ]
  },
  {
   "cell_type": "code",
   "execution_count": 30,
   "id": "38d0f52a-6cf6-4e9b-89f9-1fef480c9108",
   "metadata": {},
   "outputs": [],
   "source": [
    "# Calcula el promedio de cada columna usando un bucle."
   ]
  },
  {
   "cell_type": "code",
   "execution_count": 31,
   "id": "7c775cd2-8842-4e73-8848-4c21e1d9a47f",
   "metadata": {},
   "outputs": [],
   "source": [
    "promedios = {}\n",
    "for i in range(matriz.shape[1]):  \n",
    "    promedios[f\"col_{i+1}\"] = np.mean(matriz[:, i])"
   ]
  },
  {
   "cell_type": "code",
   "execution_count": 32,
   "id": "4a058951-687a-4f9d-999d-93bcad6f9ffa",
   "metadata": {},
   "outputs": [
    {
     "data": {
      "text/plain": [
       "{'col_1': np.float64(42.8),\n",
       " 'col_2': np.float64(37.8),\n",
       " 'col_3': np.float64(57.9),\n",
       " 'col_4': np.float64(77.6),\n",
       " 'col_5': np.float64(44.2)}"
      ]
     },
     "execution_count": 32,
     "metadata": {},
     "output_type": "execute_result"
    }
   ],
   "source": [
    "promedios "
   ]
  },
  {
   "cell_type": "code",
   "execution_count": null,
   "id": "39103734-1838-4ce1-9aef-fb12a999abe6",
   "metadata": {},
   "outputs": [],
   "source": [
    "#Guarda los resultados en un diccionario con claves \"col_1\" ... \"col_5\".\n"
   ]
  },
  {
   "cell_type": "code",
   "execution_count": null,
   "id": "390bf466-3ac4-43b0-9e00-81dbd6576101",
   "metadata": {},
   "outputs": [],
   "source": [
    "# Convierte los valores en una lista y grafícalos en una línea (line plot) mostrando el promedio por columna."
   ]
  },
  {
   "cell_type": "code",
   "execution_count": 35,
   "id": "0c288fef-45c6-4be3-bc5e-b16b02bbd1ab",
   "metadata": {},
   "outputs": [
    {
     "data": {
      "text/plain": [
       "Text(0, 0.5, 'Promedio')"
      ]
     },
     "execution_count": 35,
     "metadata": {},
     "output_type": "execute_result"
    },
    {
     "data": {
      "image/png": "[encoded data removed]",
      "text/plain": [
       "<Figure size 640x480 with 1 Axes>"
      ]
     },
     "metadata": {},
     "output_type": "display_data"
    }
   ],
   "source": [
    "valores = list(promedios.values())\n",
    "plt.plot(range(1, 6), valores, marker=\"o\")\n",
    "plt.title(\"Promedio por columna\")\n",
    "plt.xlabel(\"Columna\")\n",
    "plt.ylabel(\"Promedio\")"
   ]
  },
  {
   "cell_type": "code",
   "execution_count": null,
   "id": "a478eb4b-7448-42ec-b0ca-e6aae7aa80ad",
   "metadata": {},
   "outputs": [],
   "source": []
  }
 ],
 "metadata": {
  "kernelspec": {
   "display_name": "Python 3 (ipykernel)",
   "language": "python",
   "name": "python3"
  },
  "language_info": {
   "codemirror_mode": {
    "name": "ipython",
    "version": 3
   },
   "file_extension": ".py",
   "mimetype": "text/x-python",
   "name": "python",
   "nbconvert_exporter": "python",
   "pygments_lexer": "ipython3",
   "version": "3.10.9"
  }
 },
 "nbformat": 4,
 "nbformat_minor": 5
}
