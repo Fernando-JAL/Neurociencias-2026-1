{
 "cells": [
  {
   "cell_type": "markdown",
   "id": "e761df69-3ea9-443e-88c6-87ced0d3f9df",
   "metadata": {},
   "source": [
    "# Examen del 2do Parcial"
   ]
  },
  {
   "cell_type": "markdown",
   "id": "dac53475-ca81-4a07-82e5-20e01a1787f0",
   "metadata": {},
   "source": [
    "1. Utilizando el dataset de _Coactivation_matrix.mat_:\n",
    "- Calcule el coeficiente de mundo pequeño\n",
    "- Calcule las comunidades del grafo\n",
    "- Calcule los hub\n",
    "- Calcule la eficiencia global\n",
    "- Calcule la eficiencia local\n",
    "- Determine el grado de cada nodo"
   ]
  }
 ],
 "metadata": {
  "kernelspec": {
   "display_name": "Python 3 (ipykernel)",
   "language": "python",
   "name": "python3"
  },
  "language_info": {
   "codemirror_mode": {
    "name": "ipython",
    "version": 3
   },
   "file_extension": ".py",
   "mimetype": "text/x-python",
   "name": "python",
   "nbconvert_exporter": "python",
   "pygments_lexer": "ipython3",
   "version": "3.10.4"
  }
 },
 "nbformat": 4,
 "nbformat_minor": 5
}
