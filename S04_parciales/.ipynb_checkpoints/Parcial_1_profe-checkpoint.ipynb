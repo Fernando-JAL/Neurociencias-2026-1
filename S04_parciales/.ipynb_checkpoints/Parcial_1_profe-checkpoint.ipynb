{
 "cells": [
  {
   "cell_type": "markdown",
   "id": "bfc34966-6093-49a8-b9e3-0ded5f230ae2",
   "metadata": {},
   "source": [
    "# Examen parcial 1 - Sofia Macarena Castillo Badilla"
   ]
  },
  {
   "cell_type": "markdown",
   "id": "62aed855-3061-45f4-88bf-2a75a8d341c5",
   "metadata": {},
   "source": [
    "## 🔹 Ejercicio Frecuencia de números en matriz\n",
    "\n",
    "1. Genera una matriz 6x6 de enteros aleatorios entre 1 y 10 usando NumPy. \n",
    "\n",
    "2. Recorre la matriz y guarda en un diccionario la frecuencia de cada número.\n",
    "\n",
    "3. Convierte el diccionario en una lista de tuplas (número, frecuencia) y ordénala de mayor a menor frecuencia.\n",
    "\n",
    "4. Imprime la matriz, el diccionario y la lista ordenada."
   ]
  },
  {
   "cell_type": "code",
   "execution_count": 4,
   "id": "789e29fd-8476-4ebc-8514-d2d6fdd503d3",
   "metadata": {},
   "outputs": [],
   "source": [
    "import numpy as np"
   ]
  },
  {
   "cell_type": "code",
   "execution_count": 23,
   "id": "2b2bfce9-9ec7-493f-ba56-be0ed2eddad9",
   "metadata": {},
   "outputs": [
    {
     "data": {
      "text/plain": [
       "array([[ 3,  8,  7,  5,  6,  8],\n",
       "       [ 9,  5,  1,  8,  4,  7],\n",
       "       [ 3,  9,  8,  7,  1,  2],\n",
       "       [ 1,  6,  7, 10,  6,  3],\n",
       "       [ 2,  2,  8,  1,  3,  5],\n",
       "       [ 2, 10,  7,  4,  6,  2]])"
      ]
     },
     "execution_count": 23,
     "metadata": {},
     "output_type": "execute_result"
    }
   ],
   "source": [
    "# 1.\n",
    "matriz = np.random.randint(1,11, size = [6,6])\n",
    "matriz"
   ]
  },
  {
   "cell_type": "code",
   "execution_count": 58,
   "id": "a75f625d-2646-400a-a29a-5ebc34d2b27f",
   "metadata": {},
   "outputs": [
    {
     "name": "stdout",
     "output_type": "stream",
     "text": [
      "{1: np.int64(4), 2: np.int64(5), 3: np.int64(4), 4: np.int64(2), 5: np.int64(3), 6: np.int64(4), 7: np.int64(5), 8: np.int64(5), 9: np.int64(2), 10: np.int64(2)}\n"
     ]
    }
   ],
   "source": [
    "# 2.\n",
    "diccionario_matriz = {}\n",
    "\n",
    "valor, conteo = np.unique(matriz, return_counts=True) # En numpy count() no funciona.\n",
    "\n",
    "diccionario_matriz = {i: 0 for i in range(1, 11)} \n",
    "for v, c in zip(valor, conteo):\n",
    "    diccionario_matriz[v] = c\n",
    "            \n",
    "print(diccionario_matriz)\n",
    "\n",
    "        "
   ]
  },
  {
   "cell_type": "code",
   "execution_count": 73,
   "id": "b6ef030f-47fc-4907-b4f0-c39e1609f82d",
   "metadata": {},
   "outputs": [
    {
     "data": {
      "text/plain": [
       "[(2, np.int64(5)),\n",
       " (7, np.int64(5)),\n",
       " (8, np.int64(5)),\n",
       " (1, np.int64(4)),\n",
       " (3, np.int64(4)),\n",
       " (6, np.int64(4)),\n",
       " (5, np.int64(3)),\n",
       " (4, np.int64(2)),\n",
       " (9, np.int64(2)),\n",
       " (10, np.int64(2))]"
      ]
     },
     "execution_count": 73,
     "metadata": {},
     "output_type": "execute_result"
    }
   ],
   "source": [
    "# 3. \n",
    "tupla_matriz = list(diccionario_matriz.items())\n",
    "tupla_matriz_ordenada = sorted(tupla_matriz, key=lambda x: x[1], reverse=True)\n",
    "tupla_matriz_ordenada"
   ]
  },
  {
   "cell_type": "code",
   "execution_count": 74,
   "id": "a4d7d8ea-e777-46dc-ae13-d62b7c136a37",
   "metadata": {},
   "outputs": [
    {
     "data": {
      "text/plain": [
       "(array([[ 3,  8,  7,  5,  6,  8],\n",
       "        [ 9,  5,  1,  8,  4,  7],\n",
       "        [ 3,  9,  8,  7,  1,  2],\n",
       "        [ 1,  6,  7, 10,  6,  3],\n",
       "        [ 2,  2,  8,  1,  3,  5],\n",
       "        [ 2, 10,  7,  4,  6,  2]]),\n",
       " {1: np.int64(4),\n",
       "  2: np.int64(5),\n",
       "  3: np.int64(4),\n",
       "  4: np.int64(2),\n",
       "  5: np.int64(3),\n",
       "  6: np.int64(4),\n",
       "  7: np.int64(5),\n",
       "  8: np.int64(5),\n",
       "  9: np.int64(2),\n",
       "  10: np.int64(2)},\n",
       " [(2, np.int64(5)),\n",
       "  (7, np.int64(5)),\n",
       "  (8, np.int64(5)),\n",
       "  (1, np.int64(4)),\n",
       "  (3, np.int64(4)),\n",
       "  (6, np.int64(4)),\n",
       "  (5, np.int64(3)),\n",
       "  (4, np.int64(2)),\n",
       "  (9, np.int64(2)),\n",
       "  (10, np.int64(2))])"
      ]
     },
     "execution_count": 74,
     "metadata": {},
     "output_type": "execute_result"
    }
   ],
   "source": [
    "# 4.\n",
    "matriz, diccionario_matriz, tupla_matriz_ordenada"
   ]
  },
  {
   "cell_type": "markdown",
   "id": "a7dcab51-cf15-49bd-8648-c0004bb2a6ca",
   "metadata": {},
   "source": [
    "## 🔹 Ejercicio Promedios por columna y gráfico de líneas\n",
    "\n",
    "1. Crea una matriz 10x5 con enteros entre 10 y 100.\n",
    "\n",
    "2. Calcula el promedio de cada columna usando un bucle.\n",
    "\n",
    "3. Guarda los resultados en un diccionario con claves \"col_1\" ... \"col_5\".\n",
    "\n",
    "4. Convierte los valores en una lista y grafícalos en una línea (line plot) mostrando el promedio por columna."
   ]
  },
  {
   "cell_type": "code",
   "execution_count": 36,
   "id": "94e0eb75-8f56-4243-b8dc-eb17b2b33582",
   "metadata": {},
   "outputs": [
    {
     "data": {
      "text/plain": [
       "array([[48, 75, 73, 71, 31],\n",
       "       [23, 18, 44, 14, 69],\n",
       "       [46, 72, 43, 16, 93],\n",
       "       [35, 51, 41, 38, 77],\n",
       "       [31, 58, 30, 77, 23],\n",
       "       [45, 42, 63, 20, 75],\n",
       "       [99, 59, 55, 86, 37],\n",
       "       [91, 45, 43, 74, 80],\n",
       "       [92, 72, 56, 23, 76],\n",
       "       [99, 14, 95, 94, 31]])"
      ]
     },
     "execution_count": 36,
     "metadata": {},
     "output_type": "execute_result"
    }
   ],
   "source": [
    "#1. \n",
    "matriz_10x5 = np.random.randint(10, 101, size = (10, 5))\n",
    "matriz_10x5"
   ]
  },
  {
   "cell_type": "code",
   "execution_count": 39,
   "id": "c385a381-3c5d-44dd-97b7-7c9d92725983",
   "metadata": {},
   "outputs": [
    {
     "data": {
      "text/plain": [
       "{'col_1': np.float64(60.9),\n",
       " 'col_2': np.float64(50.6),\n",
       " 'col_3': np.float64(54.3),\n",
       " 'col_4': np.float64(51.3),\n",
       " 'col_5': np.float64(59.2)}"
      ]
     },
     "execution_count": 39,
     "metadata": {},
     "output_type": "execute_result"
    }
   ],
   "source": [
    "#2 y 3.\n",
    "columnas = matriz_10x5.shape[1]\n",
    "\n",
    "promedios = {}\n",
    "for col in range(columnas):\n",
    "    promedio = np.mean(matriz_10x5[:, col])\n",
    "    promedios[f\"col_{col+1}\"] = promedio \n",
    "\n",
    "promedios"
   ]
  },
  {
   "cell_type": "code",
   "execution_count": 58,
   "id": "19008afa-64df-432f-989a-2a225db76192",
   "metadata": {},
   "outputs": [
    {
     "data": {
      "image/png": "[encoded data removed]",
      "text/plain": [
       "<Figure size 640x480 with 1 Axes>"
      ]
     },
     "metadata": {},
     "output_type": "display_data"
    }
   ],
   "source": [
    "#4. \n",
    "import matplotlib.pyplot as plt\n",
    "\n",
    "promedio_lista = list(promedios.values()) # para tener los valores de la lista\n",
    "promedio_lista\n",
    "\n",
    "\n",
    "plt.plot((1, 2, 3, 4, 5), promedio_lista, marker = \".\")\n",
    "\n",
    "plt.xticks(range(1, len(promedio_lista)+1), promedios.keys())\n",
    "plt.xlabel(\"Columnas\")\n",
    "plt.ylabel(\"Promedio\")\n",
    "plt.title(\"Promedio por columna\")\n",
    "plt.grid()"
   ]
  },
  {
   "cell_type": "markdown",
   "id": "274e5828-168a-4eae-bf98-4ee05a06436a",
   "metadata": {},
   "source": [
    "## 🔹 Ejercicio Evolución temporal simulada\n",
    "\n",
    "1. Simula con NumPy una lista de 30 días con valores aleatorios de temperatura entre 15°C y 35°C.\n",
    "\n",
    "2. Almacena los valores en un diccionario con claves \"día_1\", \"día_2\", ....\n",
    "\n",
    "3. Usa un bucle para crear una lista con los _días_ donde la temperatura superó 30°C.\n",
    "\n",
    "4. Grafica las temperaturas en un gráfico de línea con puntos marcados (scatter + line plot).\n",
    "\n",
    "5. Marca en rojo los días con temperatura > 30°C."
   ]
  },
  {
   "cell_type": "code",
   "execution_count": 70,
   "id": "e0ce95a0-fdc8-4ec3-bfd4-6c0d07d1b72d",
   "metadata": {},
   "outputs": [
    {
     "data": {
      "text/plain": [
       "array([34, 30, 20, 15, 35, 35, 25, 33, 31, 27, 27, 27, 22, 25, 30, 33, 27,\n",
       "       30, 17, 15, 21, 26, 21, 19, 30, 35, 22, 29, 31, 29])"
      ]
     },
     "execution_count": 70,
     "metadata": {},
     "output_type": "execute_result"
    }
   ],
   "source": [
    "#1. \n",
    "lista = np.random.randint(15, 36, size = 30)\n",
    "temps = np.array(lista)\n",
    "\n",
    "temps"
   ]
  },
  {
   "cell_type": "code",
   "execution_count": 78,
   "id": "ecebc05f-8732-4815-b35f-26befb48cc2a",
   "metadata": {},
   "outputs": [
    {
     "data": {
      "text/plain": [
       "{'día_1': np.int64(34),\n",
       " 'día_2': np.int64(30),\n",
       " 'día_3': np.int64(20),\n",
       " 'día_4': np.int64(15),\n",
       " 'día_5': np.int64(35),\n",
       " 'día_6': np.int64(35),\n",
       " 'día_7': np.int64(25),\n",
       " 'día_8': np.int64(33),\n",
       " 'día_9': np.int64(31),\n",
       " 'día_10': np.int64(27),\n",
       " 'día_11': np.int64(27),\n",
       " 'día_12': np.int64(27),\n",
       " 'día_13': np.int64(22),\n",
       " 'día_14': np.int64(25),\n",
       " 'día_15': np.int64(30),\n",
       " 'día_16': np.int64(33),\n",
       " 'día_17': np.int64(27),\n",
       " 'día_18': np.int64(30),\n",
       " 'día_19': np.int64(17),\n",
       " 'día_20': np.int64(15),\n",
       " 'día_21': np.int64(21),\n",
       " 'día_22': np.int64(26),\n",
       " 'día_23': np.int64(21),\n",
       " 'día_24': np.int64(19),\n",
       " 'día_25': np.int64(30),\n",
       " 'día_26': np.int64(35),\n",
       " 'día_27': np.int64(22),\n",
       " 'día_28': np.int64(29),\n",
       " 'día_29': np.int64(31),\n",
       " 'día_30': np.int64(29)}"
      ]
     },
     "execution_count": 78,
     "metadata": {},
     "output_type": "execute_result"
    }
   ],
   "source": [
    "#2. \n",
    "dias = {}\n",
    "dias = {f\"día_{i+1}\": temp for i, temp in enumerate(temps)}\n",
    "dias"
   ]
  },
  {
   "cell_type": "code",
   "execution_count": 92,
   "id": "5daf2e4d-def6-4bac-9db1-d88b182b7f93",
   "metadata": {},
   "outputs": [
    {
     "data": {
      "text/plain": [
       "[1, 5, 6, 8, 9, 16, 26, 29]"
      ]
     },
     "execution_count": 92,
     "metadata": {},
     "output_type": "execute_result"
    }
   ],
   "source": [
    "#3. \n",
    "dias_30_o_mas = []\n",
    "\n",
    "for i in range(len(temps)):  \n",
    "    if temps[i] > 30:       \n",
    "        dias_30_o_mas.append(i+1)  \n",
    "\n",
    "dias_30_o_mas"
   ]
  },
  {
   "cell_type": "code",
   "execution_count": 101,
   "id": "f94b33bb-c93c-4c2b-896b-7778a1009eb4",
   "metadata": {},
   "outputs": [
    {
     "data": {
      "image/png": "[encoded data removed]",
      "text/plain": [
       "<Figure size 640x480 with 1 Axes>"
      ]
     },
     "metadata": {},
     "output_type": "display_data"
    }
   ],
   "source": [
    "#4 y 5\n",
    "dias = np.arange(1, 31)\n",
    "plt.plot(dias, temps, marker = \"o\")\n",
    "plt.scatter(dias_30_o_mas, temps[temps>30], color = \"red\", zorder = 3)\n",
    "\n",
    "plt.xticks(dias)\n",
    "plt.xlabel(\"Días\")\n",
    "plt.ylabel(\"Temperatura\")\n",
    "plt.title(\"Temperaturas sobre 30º C\")\n",
    "plt.grid()"
   ]
  },
  {
   "cell_type": "markdown",
   "id": "859f5929-28bb-4708-ac2e-ea39d115eabc",
   "metadata": {},
   "source": [
    "## 🔹 Ejercicio Comparación de distribuciones\n",
    "\n",
    "1. Genera dos arreglos de 100 números aleatorios con distribución normal:\n",
    "\n",
    "    grupo_A: media 50, desviación 10\n",
    "\n",
    "    grupo_B: media 60, desviación 15\n",
    "\n",
    "2. Guarda en un diccionario con claves \"A\" y \"B\".\n",
    "\n",
    "3. Calcula media y desviación estándar de cada grupo y guárdalas en listas.\n",
    "\n",
    "4. Grafica ambos grupos en un histograma comparativo (superposición con colores diferentes y transparencia)."
   ]
  },
  {
   "cell_type": "code",
   "execution_count": 104,
   "id": "ae914e11-ff47-4f24-8ded-f58d3650e527",
   "metadata": {},
   "outputs": [],
   "source": [
    "#1. \n",
    "grupo_A = np.random.normal(50, 10, size = 100)\n",
    "grupo_B = np.random.normal(60, 15, size = 100)"
   ]
  },
  {
   "cell_type": "code",
   "execution_count": 106,
   "id": "0c1179f2-8ee1-44bf-bc3e-866a5f7cf7e3",
   "metadata": {},
   "outputs": [
    {
     "data": {
      "text/plain": [
       "{'A': array([73.70647655, 60.47818425, 42.73168288, 51.29053337, 50.67021853,\n",
       "        44.0141391 , 63.75369251, 61.99942601, 44.68453057, 36.52972356,\n",
       "        47.61158792, 67.97818109, 51.61434614, 53.80677384, 43.3525538 ,\n",
       "        65.36965915, 54.34253099, 44.75815639, 54.77679828, 60.00147256,\n",
       "        55.09293203, 44.72380084, 56.45037245, 38.9764217 , 53.28838047,\n",
       "        49.12994102, 51.72594873, 43.98679283, 42.86927615, 51.66483586,\n",
       "        32.37728449, 60.61399514, 41.5864027 , 36.45559014, 60.77549043,\n",
       "        60.47040125, 41.92238373, 50.06105549, 54.12226982, 58.87589896,\n",
       "        58.87139602, 47.16420778, 40.682861  , 54.96690733, 30.48956355,\n",
       "        55.51659244, 57.33796338, 44.88519112, 64.18766592, 44.04689462,\n",
       "        53.75427941, 25.8259698 , 59.52918342, 60.35744378, 50.36180896,\n",
       "        41.08914755, 58.2224148 , 49.18677202, 65.56401989, 62.95473901,\n",
       "        45.80444654, 60.05720418, 63.48647915, 57.47259098, 57.19601043,\n",
       "        45.95984207, 26.81364288, 58.07830501, 35.53107987, 43.04824972,\n",
       "        43.19232456, 39.49272721, 55.45965155, 39.52006827, 40.70136767,\n",
       "        52.49204557, 56.34673586, 50.70682037, 33.34083716, 59.02103686,\n",
       "        59.30282648, 44.96025954, 44.98257379, 65.34412652, 47.42356077,\n",
       "        49.76076603, 74.77687909, 45.89445144, 37.3252819 , 50.40139438,\n",
       "        37.46293046, 51.01072128, 52.4463151 , 61.18937628, 49.51437444,\n",
       "        68.66667196, 52.09267124, 50.45559286, 37.6094682 , 74.11098872]),\n",
       " 'B': array([53.20151101, 59.77182392, 73.55564043, 57.60557837, 73.25226874,\n",
       "        59.85946451, 48.97695673, 67.92197286, 48.46788032, 43.59150866,\n",
       "        36.7782195 , 40.36367962, 47.39484735, 63.00554467, 60.42196596,\n",
       "        76.68552833, 72.85342791, 68.83231678, 60.72961205, 46.15466457,\n",
       "        61.45350844, 32.10398085, 58.23200798, 43.16497107, 38.28181624,\n",
       "        85.6335738 , 65.99693137, 55.40898659, 71.98123638, 76.63947749,\n",
       "        82.97751737, 72.66638915, 47.81686796, 65.58112509, 61.10738606,\n",
       "        64.96041139, 34.29100216, 69.60349844, 91.85056829, 41.36791153,\n",
       "        66.92608564, 63.81862947, 51.8717287 , 24.88709241, 71.65329319,\n",
       "        39.45924847, 51.09752214, 54.65553956, 48.51183449, 52.69185466,\n",
       "        91.1908911 , 53.06740243, 49.54766748, 45.31296186, 68.19981691,\n",
       "        58.02873693, 62.48922687, 71.8884072 , 43.11030492, 60.39582792,\n",
       "        67.30773962, 65.66935406, 36.33872991, 59.47810783, 38.80176108,\n",
       "        52.44561448, 70.22661923, 63.64270386, 45.33297186, 78.05380377,\n",
       "        64.85559106, 71.47469231, 46.98130455, 61.88164305, 45.29649829,\n",
       "        75.24277811, 36.36198018, 55.58640022, 47.17664763, 62.06411614,\n",
       "        87.92278788, 67.77179949, 53.01779503, 60.72913124, 83.61131417,\n",
       "        65.5326394 , 75.08875747, 46.36374845, 48.23928425, 77.04261884,\n",
       "        53.47184048, 58.85137028, 48.62352324, 36.99211665, 39.55687534,\n",
       "        77.71734003, 46.13282455, 66.92986425, 77.4289806 , 59.68147412])}"
      ]
     },
     "execution_count": 106,
     "metadata": {},
     "output_type": "execute_result"
    }
   ],
   "source": [
    "#2. \n",
    "diccionario = {\"A\" : grupo_A, \"B\" : grupo_B}\n",
    "diccionario"
   ]
  },
  {
   "cell_type": "code",
   "execution_count": 112,
   "id": "def80ada-9e8f-48ca-b809-b27a610794a0",
   "metadata": {},
   "outputs": [
    {
     "data": {
      "text/plain": [
       "([np.float64(51.0208785987451), np.float64(58.842727953295565)],\n",
       " [np.float64(10.141469655083649), np.float64(14.159173189352707)])"
      ]
     },
     "execution_count": 112,
     "metadata": {},
     "output_type": "execute_result"
    }
   ],
   "source": [
    "#3. \n",
    "lista_medias = [np.mean(grupo_A), np.mean(grupo_B)]\n",
    "lista_sd = [np.std(grupo_A), np.std(grupo_B)]\n",
    "\n",
    "lista_medias, lista_sd\n"
   ]
  },
  {
   "cell_type": "code",
   "execution_count": 117,
   "id": "a1d5a1aa-fa91-4218-a32b-0930916445ac",
   "metadata": {},
   "outputs": [
    {
     "data": {
      "text/plain": [
       "(array([1., 0., 0., 0., 0., 0., 0., 0., 0., 1.]),\n",
       " array([10.14146966, 10.54324001, 10.94501036, 11.34678072, 11.74855107,\n",
       "        12.15032142, 12.55209178, 12.95386213, 13.35563248, 13.75740284,\n",
       "        14.15917319]),\n",
       " <BarContainer object of 10 artists>)"
      ]
     },
     "execution_count": 117,
     "metadata": {},
     "output_type": "execute_result"
    },
    {
     "data": {
      "image/png": "[encoded data removed]",
      "text/plain": [
       "<Figure size 640x480 with 1 Axes>"
      ]
     },
     "metadata": {},
     "output_type": "display_data"
    }
   ],
   "source": [
    "#4. \n",
    "plt.hist(lista_medias, color = \"yellow\", alpha = 0.3)\n",
    "plt.hist(lista_sd, color = \"blue\", alpha = 0.7)"
   ]
  },
  {
   "cell_type": "markdown",
   "id": "f02dd7ab-0f94-4cd5-ae76-5fdab3434578",
   "metadata": {},
   "source": [
    "## 🔹 Ejercicio Clasificación de temperaturas\n",
    "\n",
    "1. Genera una Serie con 50 valores aleatorios entre -10 y 40 (temperaturas).\n",
    "\n",
    "2. Recorre la Serie y clasifica cada temperatura en un diccionario:\n",
    "\n",
    "    \"frío\" si < 10\n",
    "\n",
    "    \"templado\" si 10–25\n",
    "\n",
    "    \"calor\" si > 25\n",
    "\n",
    "3. Convierte el diccionario en un DataFrame con columnas \"Temperatura\" y \"Categoría\".\n",
    "\n",
    "4. Cuenta cuántos valores cayeron en cada categoría."
   ]
  },
  {
   "cell_type": "code",
   "execution_count": 122,
   "id": "0cd1de48-d62b-4c0b-9318-e469c98aa22d",
   "metadata": {},
   "outputs": [
    {
     "data": {
      "text/plain": [
       "0     33\n",
       "1     15\n",
       "2     34\n",
       "3     -9\n",
       "4     28\n",
       "5     15\n",
       "6     10\n",
       "7     23\n",
       "8     -6\n",
       "9     15\n",
       "10     2\n",
       "11     8\n",
       "12     0\n",
       "13    15\n",
       "14     8\n",
       "15    -4\n",
       "16     2\n",
       "17    19\n",
       "18    38\n",
       "19    -6\n",
       "20   -10\n",
       "21     7\n",
       "22     0\n",
       "23    39\n",
       "24    22\n",
       "25     8\n",
       "26    40\n",
       "27    29\n",
       "28     8\n",
       "29     2\n",
       "30    29\n",
       "31    17\n",
       "32    21\n",
       "33    -7\n",
       "34    -3\n",
       "35    -9\n",
       "36    25\n",
       "37    36\n",
       "38    -6\n",
       "39    39\n",
       "40    38\n",
       "41    -4\n",
       "42    34\n",
       "43    30\n",
       "44    -5\n",
       "45    23\n",
       "46    -3\n",
       "47    28\n",
       "48    38\n",
       "49     3\n",
       "dtype: int64"
      ]
     },
     "execution_count": 122,
     "metadata": {},
     "output_type": "execute_result"
    }
   ],
   "source": [
    "#1. \n",
    "import pandas as pd\n",
    "serie = pd.Series(np.random.randint(-10, 41, size = 50))\n",
    "serie"
   ]
  },
  {
   "cell_type": "code",
   "execution_count": 125,
   "id": "f8a4678e-5930-4f78-87d3-218cfaa748c1",
   "metadata": {},
   "outputs": [
    {
     "data": {
      "text/plain": [
       "{0: {'Temperatura': 33, 'Categoría': 'calor'},\n",
       " 1: {'Temperatura': 15, 'Categoría': 'templado'},\n",
       " 2: {'Temperatura': 34, 'Categoría': 'calor'},\n",
       " 3: {'Temperatura': -9, 'Categoría': 'frío'},\n",
       " 4: {'Temperatura': 28, 'Categoría': 'calor'},\n",
       " 5: {'Temperatura': 15, 'Categoría': 'templado'},\n",
       " 6: {'Temperatura': 10, 'Categoría': 'templado'},\n",
       " 7: {'Temperatura': 23, 'Categoría': 'templado'},\n",
       " 8: {'Temperatura': -6, 'Categoría': 'frío'},\n",
       " 9: {'Temperatura': 15, 'Categoría': 'templado'},\n",
       " 10: {'Temperatura': 2, 'Categoría': 'frío'},\n",
       " 11: {'Temperatura': 8, 'Categoría': 'frío'},\n",
       " 12: {'Temperatura': 0, 'Categoría': 'frío'},\n",
       " 13: {'Temperatura': 15, 'Categoría': 'templado'},\n",
       " 14: {'Temperatura': 8, 'Categoría': 'frío'},\n",
       " 15: {'Temperatura': -4, 'Categoría': 'frío'},\n",
       " 16: {'Temperatura': 2, 'Categoría': 'frío'},\n",
       " 17: {'Temperatura': 19, 'Categoría': 'templado'},\n",
       " 18: {'Temperatura': 38, 'Categoría': 'calor'},\n",
       " 19: {'Temperatura': -6, 'Categoría': 'frío'},\n",
       " 20: {'Temperatura': -10, 'Categoría': 'frío'},\n",
       " 21: {'Temperatura': 7, 'Categoría': 'frío'},\n",
       " 22: {'Temperatura': 0, 'Categoría': 'frío'},\n",
       " 23: {'Temperatura': 39, 'Categoría': 'calor'},\n",
       " 24: {'Temperatura': 22, 'Categoría': 'templado'},\n",
       " 25: {'Temperatura': 8, 'Categoría': 'frío'},\n",
       " 26: {'Temperatura': 40, 'Categoría': 'calor'},\n",
       " 27: {'Temperatura': 29, 'Categoría': 'calor'},\n",
       " 28: {'Temperatura': 8, 'Categoría': 'frío'},\n",
       " 29: {'Temperatura': 2, 'Categoría': 'frío'},\n",
       " 30: {'Temperatura': 29, 'Categoría': 'calor'},\n",
       " 31: {'Temperatura': 17, 'Categoría': 'templado'},\n",
       " 32: {'Temperatura': 21, 'Categoría': 'templado'},\n",
       " 33: {'Temperatura': -7, 'Categoría': 'frío'},\n",
       " 34: {'Temperatura': -3, 'Categoría': 'frío'},\n",
       " 35: {'Temperatura': -9, 'Categoría': 'frío'},\n",
       " 36: {'Temperatura': 25, 'Categoría': 'templado'},\n",
       " 37: {'Temperatura': 36, 'Categoría': 'calor'},\n",
       " 38: {'Temperatura': -6, 'Categoría': 'frío'},\n",
       " 39: {'Temperatura': 39, 'Categoría': 'calor'},\n",
       " 40: {'Temperatura': 38, 'Categoría': 'calor'},\n",
       " 41: {'Temperatura': -4, 'Categoría': 'frío'},\n",
       " 42: {'Temperatura': 34, 'Categoría': 'calor'},\n",
       " 43: {'Temperatura': 30, 'Categoría': 'calor'},\n",
       " 44: {'Temperatura': -5, 'Categoría': 'frío'},\n",
       " 45: {'Temperatura': 23, 'Categoría': 'templado'},\n",
       " 46: {'Temperatura': -3, 'Categoría': 'frío'},\n",
       " 47: {'Temperatura': 28, 'Categoría': 'calor'},\n",
       " 48: {'Temperatura': 38, 'Categoría': 'calor'},\n",
       " 49: {'Temperatura': 3, 'Categoría': 'frío'}}"
      ]
     },
     "execution_count": 125,
     "metadata": {},
     "output_type": "execute_result"
    }
   ],
   "source": [
    "#2. \n",
    "clasificacion = {}\n",
    "for i, t in enumerate(serie):\n",
    "    if t < 10:\n",
    "        clasificacion[i] = {\"Temperatura\": t, \"Categoría\": \"frío\"}\n",
    "    elif 10 <= t <= 25:\n",
    "        clasificacion[i] = {\"Temperatura\": t, \"Categoría\": \"templado\"}\n",
    "    else:\n",
    "        clasificacion[i] = {\"Temperatura\": t, \"Categoría\": \"calor\"}\n",
    "\n",
    "clasificacion"
   ]
  },
  {
   "cell_type": "code",
   "execution_count": 130,
   "id": "8781e05e-923f-4e36-9aed-97b52ee78ae0",
   "metadata": {},
   "outputs": [
    {
     "data": {
      "text/html": [
       "<div>\n",
       "<style scoped>\n",
       "    .dataframe tbody tr th:only-of-type {\n",
       "        vertical-align: middle;\n",
       "    }\n",
       "\n",
       "    .dataframe tbody tr th {\n",
       "        vertical-align: top;\n",
       "    }\n",
       "\n",
       "    .dataframe thead th {\n",
       "        text-align: right;\n",
       "    }\n",
       "</style>\n",
       "<table border=\"1\" class=\"dataframe\">\n",
       "  <thead>\n",
       "    <tr style=\"text-align: right;\">\n",
       "      <th></th>\n",
       "      <th>Temperatura</th>\n",
       "      <th>Categoría</th>\n",
       "    </tr>\n",
       "  </thead>\n",
       "  <tbody>\n",
       "    <tr>\n",
       "      <th>0</th>\n",
       "      <td>33</td>\n",
       "      <td>calor</td>\n",
       "    </tr>\n",
       "    <tr>\n",
       "      <th>1</th>\n",
       "      <td>15</td>\n",
       "      <td>templado</td>\n",
       "    </tr>\n",
       "    <tr>\n",
       "      <th>2</th>\n",
       "      <td>34</td>\n",
       "      <td>calor</td>\n",
       "    </tr>\n",
       "    <tr>\n",
       "      <th>3</th>\n",
       "      <td>-9</td>\n",
       "      <td>frío</td>\n",
       "    </tr>\n",
       "    <tr>\n",
       "      <th>4</th>\n",
       "      <td>28</td>\n",
       "      <td>calor</td>\n",
       "    </tr>\n",
       "    <tr>\n",
       "      <th>5</th>\n",
       "      <td>15</td>\n",
       "      <td>templado</td>\n",
       "    </tr>\n",
       "    <tr>\n",
       "      <th>6</th>\n",
       "      <td>10</td>\n",
       "      <td>templado</td>\n",
       "    </tr>\n",
       "    <tr>\n",
       "      <th>7</th>\n",
       "      <td>23</td>\n",
       "      <td>templado</td>\n",
       "    </tr>\n",
       "    <tr>\n",
       "      <th>8</th>\n",
       "      <td>-6</td>\n",
       "      <td>frío</td>\n",
       "    </tr>\n",
       "    <tr>\n",
       "      <th>9</th>\n",
       "      <td>15</td>\n",
       "      <td>templado</td>\n",
       "    </tr>\n",
       "    <tr>\n",
       "      <th>10</th>\n",
       "      <td>2</td>\n",
       "      <td>frío</td>\n",
       "    </tr>\n",
       "    <tr>\n",
       "      <th>11</th>\n",
       "      <td>8</td>\n",
       "      <td>frío</td>\n",
       "    </tr>\n",
       "    <tr>\n",
       "      <th>12</th>\n",
       "      <td>0</td>\n",
       "      <td>frío</td>\n",
       "    </tr>\n",
       "    <tr>\n",
       "      <th>13</th>\n",
       "      <td>15</td>\n",
       "      <td>templado</td>\n",
       "    </tr>\n",
       "    <tr>\n",
       "      <th>14</th>\n",
       "      <td>8</td>\n",
       "      <td>frío</td>\n",
       "    </tr>\n",
       "    <tr>\n",
       "      <th>15</th>\n",
       "      <td>-4</td>\n",
       "      <td>frío</td>\n",
       "    </tr>\n",
       "    <tr>\n",
       "      <th>16</th>\n",
       "      <td>2</td>\n",
       "      <td>frío</td>\n",
       "    </tr>\n",
       "    <tr>\n",
       "      <th>17</th>\n",
       "      <td>19</td>\n",
       "      <td>templado</td>\n",
       "    </tr>\n",
       "    <tr>\n",
       "      <th>18</th>\n",
       "      <td>38</td>\n",
       "      <td>calor</td>\n",
       "    </tr>\n",
       "    <tr>\n",
       "      <th>19</th>\n",
       "      <td>-6</td>\n",
       "      <td>frío</td>\n",
       "    </tr>\n",
       "    <tr>\n",
       "      <th>20</th>\n",
       "      <td>-10</td>\n",
       "      <td>frío</td>\n",
       "    </tr>\n",
       "    <tr>\n",
       "      <th>21</th>\n",
       "      <td>7</td>\n",
       "      <td>frío</td>\n",
       "    </tr>\n",
       "    <tr>\n",
       "      <th>22</th>\n",
       "      <td>0</td>\n",
       "      <td>frío</td>\n",
       "    </tr>\n",
       "    <tr>\n",
       "      <th>23</th>\n",
       "      <td>39</td>\n",
       "      <td>calor</td>\n",
       "    </tr>\n",
       "    <tr>\n",
       "      <th>24</th>\n",
       "      <td>22</td>\n",
       "      <td>templado</td>\n",
       "    </tr>\n",
       "    <tr>\n",
       "      <th>25</th>\n",
       "      <td>8</td>\n",
       "      <td>frío</td>\n",
       "    </tr>\n",
       "    <tr>\n",
       "      <th>26</th>\n",
       "      <td>40</td>\n",
       "      <td>calor</td>\n",
       "    </tr>\n",
       "    <tr>\n",
       "      <th>27</th>\n",
       "      <td>29</td>\n",
       "      <td>calor</td>\n",
       "    </tr>\n",
       "    <tr>\n",
       "      <th>28</th>\n",
       "      <td>8</td>\n",
       "      <td>frío</td>\n",
       "    </tr>\n",
       "    <tr>\n",
       "      <th>29</th>\n",
       "      <td>2</td>\n",
       "      <td>frío</td>\n",
       "    </tr>\n",
       "    <tr>\n",
       "      <th>30</th>\n",
       "      <td>29</td>\n",
       "      <td>calor</td>\n",
       "    </tr>\n",
       "    <tr>\n",
       "      <th>31</th>\n",
       "      <td>17</td>\n",
       "      <td>templado</td>\n",
       "    </tr>\n",
       "    <tr>\n",
       "      <th>32</th>\n",
       "      <td>21</td>\n",
       "      <td>templado</td>\n",
       "    </tr>\n",
       "    <tr>\n",
       "      <th>33</th>\n",
       "      <td>-7</td>\n",
       "      <td>frío</td>\n",
       "    </tr>\n",
       "    <tr>\n",
       "      <th>34</th>\n",
       "      <td>-3</td>\n",
       "      <td>frío</td>\n",
       "    </tr>\n",
       "    <tr>\n",
       "      <th>35</th>\n",
       "      <td>-9</td>\n",
       "      <td>frío</td>\n",
       "    </tr>\n",
       "    <tr>\n",
       "      <th>36</th>\n",
       "      <td>25</td>\n",
       "      <td>templado</td>\n",
       "    </tr>\n",
       "    <tr>\n",
       "      <th>37</th>\n",
       "      <td>36</td>\n",
       "      <td>calor</td>\n",
       "    </tr>\n",
       "    <tr>\n",
       "      <th>38</th>\n",
       "      <td>-6</td>\n",
       "      <td>frío</td>\n",
       "    </tr>\n",
       "    <tr>\n",
       "      <th>39</th>\n",
       "      <td>39</td>\n",
       "      <td>calor</td>\n",
       "    </tr>\n",
       "    <tr>\n",
       "      <th>40</th>\n",
       "      <td>38</td>\n",
       "      <td>calor</td>\n",
       "    </tr>\n",
       "    <tr>\n",
       "      <th>41</th>\n",
       "      <td>-4</td>\n",
       "      <td>frío</td>\n",
       "    </tr>\n",
       "    <tr>\n",
       "      <th>42</th>\n",
       "      <td>34</td>\n",
       "      <td>calor</td>\n",
       "    </tr>\n",
       "    <tr>\n",
       "      <th>43</th>\n",
       "      <td>30</td>\n",
       "      <td>calor</td>\n",
       "    </tr>\n",
       "    <tr>\n",
       "      <th>44</th>\n",
       "      <td>-5</td>\n",
       "      <td>frío</td>\n",
       "    </tr>\n",
       "    <tr>\n",
       "      <th>45</th>\n",
       "      <td>23</td>\n",
       "      <td>templado</td>\n",
       "    </tr>\n",
       "    <tr>\n",
       "      <th>46</th>\n",
       "      <td>-3</td>\n",
       "      <td>frío</td>\n",
       "    </tr>\n",
       "    <tr>\n",
       "      <th>47</th>\n",
       "      <td>28</td>\n",
       "      <td>calor</td>\n",
       "    </tr>\n",
       "    <tr>\n",
       "      <th>48</th>\n",
       "      <td>38</td>\n",
       "      <td>calor</td>\n",
       "    </tr>\n",
       "    <tr>\n",
       "      <th>49</th>\n",
       "      <td>3</td>\n",
       "      <td>frío</td>\n",
       "    </tr>\n",
       "  </tbody>\n",
       "</table>\n",
       "</div>"
      ],
      "text/plain": [
       "    Temperatura Categoría\n",
       "0            33     calor\n",
       "1            15  templado\n",
       "2            34     calor\n",
       "3            -9      frío\n",
       "4            28     calor\n",
       "5            15  templado\n",
       "6            10  templado\n",
       "7            23  templado\n",
       "8            -6      frío\n",
       "9            15  templado\n",
       "10            2      frío\n",
       "11            8      frío\n",
       "12            0      frío\n",
       "13           15  templado\n",
       "14            8      frío\n",
       "15           -4      frío\n",
       "16            2      frío\n",
       "17           19  templado\n",
       "18           38     calor\n",
       "19           -6      frío\n",
       "20          -10      frío\n",
       "21            7      frío\n",
       "22            0      frío\n",
       "23           39     calor\n",
       "24           22  templado\n",
       "25            8      frío\n",
       "26           40     calor\n",
       "27           29     calor\n",
       "28            8      frío\n",
       "29            2      frío\n",
       "30           29     calor\n",
       "31           17  templado\n",
       "32           21  templado\n",
       "33           -7      frío\n",
       "34           -3      frío\n",
       "35           -9      frío\n",
       "36           25  templado\n",
       "37           36     calor\n",
       "38           -6      frío\n",
       "39           39     calor\n",
       "40           38     calor\n",
       "41           -4      frío\n",
       "42           34     calor\n",
       "43           30     calor\n",
       "44           -5      frío\n",
       "45           23  templado\n",
       "46           -3      frío\n",
       "47           28     calor\n",
       "48           38     calor\n",
       "49            3      frío"
      ]
     },
     "execution_count": 130,
     "metadata": {},
     "output_type": "execute_result"
    }
   ],
   "source": [
    "#3. \n",
    "data_frame = pd.DataFrame.from_dict(clasificacion, orient=\"index\")\n",
    "data_frame"
   ]
  },
  {
   "cell_type": "code",
   "execution_count": 134,
   "id": "91e2a5c4-ad27-4292-a115-ddae4f5e7427",
   "metadata": {},
   "outputs": [
    {
     "data": {
      "text/plain": [
       "Categoría\n",
       "frío        23\n",
       "calor       15\n",
       "templado    12\n",
       "Name: count, dtype: int64"
      ]
     },
     "execution_count": 134,
     "metadata": {},
     "output_type": "execute_result"
    }
   ],
   "source": [
    "# 4. \n",
    "data_frame[\"Categoría\"].value_counts()"
   ]
  },
  {
   "cell_type": "markdown",
   "id": "47a3878d-a30e-4d68-b2ba-d70aeb6b995e",
   "metadata": {},
   "source": [
    "## 🔹 Ejercicio Matriz de distancias\n",
    "\n",
    "Genera una matriz 10x2 con coordenadas aleatorias (x, y) entre 0 y 100.\n",
    "\n",
    "Con un bucle, calcula las distancias euclidianas entre cada par de puntos y guárdalas en un diccionario con claves (i,j).\n",
    "\n",
    "Convierte el diccionario en un DataFrame de 10x10 (matriz de distancias).\n",
    "\n",
    "Encuentra el par de puntos más cercanos y el más lejano."
   ]
  },
  {
   "cell_type": "code",
   "execution_count": null,
   "id": "14c8ec50-7636-4d38-93da-87b664dd2f04",
   "metadata": {},
   "outputs": [],
   "source": []
  },
  {
   "cell_type": "markdown",
   "id": "83110dd5-9367-4715-9160-54cb296b7aa9",
   "metadata": {},
   "source": [
    "🔹 Ejercicio Análisis de series temporales\n",
    "\n",
    "Genera con NumPy una Serie de 365 valores aleatorios entre 10 y 40 (temperatura diaria de un año).\n",
    "\n",
    "Convierte en un DataFrame con columnas \"Día\" y \"Temperatura\".\n",
    "\n",
    "Usa un bucle para calcular la media de cada mes (asume 30 días por mes).\n",
    "\n",
    "Guarda las medias en un diccionario {Mes: Promedio}.\n",
    "\n",
    "Convierte el diccionario en una Series y ordénala de mayor a menor."
   ]
  },
  {
   "cell_type": "code",
   "execution_count": null,
   "id": "3e41422f-9432-4829-b88f-144bd2de1a99",
   "metadata": {},
   "outputs": [],
   "source": []
  },
  {
   "cell_type": "markdown",
   "id": "696cbd58-a2f3-4f4b-927b-cf106b0b1eab",
   "metadata": {},
   "source": [
    "🔹 Ejercicio Actividad neuronal por regiones\n",
    "\n",
    "Genera una matriz 100x5 con NumPy representando la actividad de 100 neuronas en 5 regiones cerebrales (valores entre 0 y 1 como tasas de disparo).\n",
    "\n",
    "Convierte la matriz en un DataFrame con columnas \"Región_1\"... \"Región_5\".\n",
    "\n",
    "Usa un bucle para calcular la actividad media de cada región y guárdala en un diccionario.\n",
    "\n",
    "Convierte el diccionario en una Series y ordénala de mayor a menor."
   ]
  },
  {
   "cell_type": "code",
   "execution_count": null,
   "id": "a2935c58-c68d-47d9-b0c1-b2f2218cc663",
   "metadata": {},
   "outputs": [],
   "source": []
  },
  {
   "cell_type": "markdown",
   "id": "07f21b80-6ed2-4251-979f-e8c200c8b43d",
   "metadata": {},
   "source": [
    "🔹 Ejercicio Conectividad funcional (correlaciones)\n",
    "\n",
    "Simula con NumPy una matriz 200x4 con series de tiempo de actividad fMRI en 4 áreas cerebrales.\n",
    "\n",
    "Convierte en un DataFrame con columnas \"Área_1\"... \"Área_4\".\n",
    "\n",
    "Con un bucle, calcula la correlación de Pearson entre todas las parejas de áreas y guárdala en un diccionario con claves (Área_i, Área_j).\n",
    "\n",
    "Convierte el diccionario en un DataFrame cuadrado (matriz de conectividad)."
   ]
  },
  {
   "cell_type": "code",
   "execution_count": null,
   "id": "82f44e49-10b1-42f7-ad98-4398310f5ddc",
   "metadata": {},
   "outputs": [],
   "source": []
  },
  {
   "cell_type": "markdown",
   "id": "c1444400-53e6-4b0a-8c84-07327492c649",
   "metadata": {},
   "source": [
    "🔹 Ejercicio Potenciales de acción por neurona\n",
    "\n",
    "Genera una lista de 50 neuronas.\n",
    "\n",
    "Para cada neurona, simula con NumPy una Serie de 100 ms de actividad (valores enteros 0 o 1 indicando si disparó o no).\n",
    "\n",
    "Guarda los resultados en un diccionario {Neurona: Serie}.\n",
    "\n",
    "Crea un DataFrame con todas las neuronas (filas) y tiempos (columnas).\n",
    "\n",
    "Usa un bucle para contar cuántos disparos totales tuvo cada neurona y genera una Series con esos valores."
   ]
  },
  {
   "cell_type": "code",
   "execution_count": null,
   "id": "38ec513f-c95b-4b05-948f-b64e61f5eab5",
   "metadata": {},
   "outputs": [],
   "source": []
  },
  {
   "cell_type": "markdown",
   "id": "b3fa8e28-a6aa-4ea0-a297-8df5b1077855",
   "metadata": {},
   "source": [
    "🔹 Ejercicio EEG por canales\n",
    "\n",
    "Simula una matriz 500x8 con NumPy representando 500 muestras de señal EEG en 8 canales (valores flotantes entre -100 y 100 µV).\n",
    "\n",
    "Convierte la matriz en un DataFrame con columnas \"Canal_1\"... \"Canal_8\".\n",
    "\n",
    "Usa un bucle para calcular la potencia media de cada canal (media del cuadrado de la señal).\n",
    "\n",
    "Guarda los resultados en un diccionario y conviértelo en una Series ordenada.\n",
    "\n",
    "Identifica el canal con mayor potencia."
   ]
  },
  {
   "cell_type": "code",
   "execution_count": null,
   "id": "ed6f501d-9194-4e56-bb01-ec654605e458",
   "metadata": {},
   "outputs": [],
   "source": []
  },
  {
   "cell_type": "markdown",
   "id": "64464de2-850c-4c86-b245-843e183f0a68",
   "metadata": {},
   "source": [
    "🔹 Ejercicio Análisis de respuestas a estímulos\n",
    "\n",
    "Genera un DataFrame con 30 sujetos (filas) y 3 condiciones experimentales (\"Cond_A\", \"Cond_B\", \"Cond_C\") con valores de tiempo de reacción simulados (valores entre 200–800 ms).\n",
    "\n",
    "Usa un bucle para calcular el promedio por condición en toda la muestra.\n",
    "\n",
    "Convierte los resultados en un diccionario y luego en una Series.\n",
    "\n",
    "Agrega una columna \"Mejor_condición\" al DataFrame indicando la condición más rápida por sujeto.\n",
    "\n",
    "Cuenta cuántos sujetos respondieron mejor en cada condición."
   ]
  },
  {
   "cell_type": "code",
   "execution_count": null,
   "id": "ebd7c105-85eb-4762-9a63-1515dd3313a4",
   "metadata": {},
   "outputs": [],
   "source": []
  }
 ],
 "metadata": {
  "kernelspec": {
   "display_name": "Python 3 (ipykernel)",
   "language": "python",
   "name": "python3"
  },
  "language_info": {
   "codemirror_mode": {
    "name": "ipython",
    "version": 3
   },
   "file_extension": ".py",
   "mimetype": "text/x-python",
   "name": "python",
   "nbconvert_exporter": "python",
   "pygments_lexer": "ipython3",
   "version": "3.13.6"
  }
 },
 "nbformat": 4,
 "nbformat_minor": 5
}
