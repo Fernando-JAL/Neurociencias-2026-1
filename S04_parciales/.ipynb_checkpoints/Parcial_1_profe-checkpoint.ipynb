{
 "cells": [
  {
   "cell_type": "markdown",
   "id": "bfc34966-6093-49a8-b9e3-0ded5f230ae2",
   "metadata": {},
   "source": [
    "# Examen parcial 1 \n",
    "#### AHYLLÓN LÓPEZ MARIANA"
   ]
  },
  {
   "cell_type": "markdown",
   "id": "62aed855-3061-45f4-88bf-2a75a8d341c5",
   "metadata": {},
   "source": [
    "### 1. Ejercicio1: Frecuencia de números en matriz\n",
    "\n",
    "1. Genera una matriz 6x6 de enteros aleatorios entre 1 y 10 usando NumPy. \n",
    "2. Recorre la matriz y guarda en un diccionario la frecuencia de cada número.\n",
    "3. Convierte el diccionario en una lista de tuplas (número, frecuencia) y ordénala de mayor a menor frecuencia.\n",
    "4. Imprime la matriz, el diccionario y la lista ordenada."
   ]
  },
  {
   "cell_type": "code",
   "execution_count": 146,
   "id": "789e29fd-8476-4ebc-8514-d2d6fdd503d3",
   "metadata": {},
   "outputs": [],
   "source": [
    "import numpy as np"
   ]
  },
  {
   "cell_type": "code",
   "execution_count": 147,
   "id": "071dec8e-0125-433e-9a64-543890c0b932",
   "metadata": {},
   "outputs": [],
   "source": [
    "import pandas as pd"
   ]
  },
  {
   "cell_type": "code",
   "execution_count": 148,
   "id": "fdbbacd7-1c3a-48e0-8ecc-221b7d029a83",
   "metadata": {},
   "outputs": [],
   "source": [
    "import matplotlib.pyplot as plt"
   ]
  },
  {
   "cell_type": "code",
   "execution_count": 149,
   "id": "2b2bfce9-9ec7-493f-ba56-be0ed2eddad9",
   "metadata": {},
   "outputs": [
    {
     "data": {
      "text/plain": [
       "array([[ 6,  4,  2,  2,  1,  8],\n",
       "       [ 2,  6,  6,  5, 10,  8],\n",
       "       [ 2,  5,  9,  5,  6,  1],\n",
       "       [ 1,  7, 10,  8,  8,  1],\n",
       "       [ 6, 10, 10,  6,  7,  6],\n",
       "       [ 8,  1,  7,  8,  9,  6]], dtype=int32)"
      ]
     },
     "execution_count": 149,
     "metadata": {},
     "output_type": "execute_result"
    }
   ],
   "source": [
    "# 1. Genera una matriz 6x6 de enteros aleatorios entre 1 y 10 usando NumPy. 1. Genera una matriz 6x6 de enteros aleatorios entre 1 y 10 usando NumPy. \n",
    "\n",
    "matriz = np.random.randint(1,11, size = [6,6])\n",
    "matriz"
   ]
  },
  {
   "cell_type": "code",
   "execution_count": 150,
   "id": "a75f625d-2646-400a-a29a-5ebc34d2b27f",
   "metadata": {},
   "outputs": [
    {
     "name": "stdout",
     "output_type": "stream",
     "text": [
      "{1: np.int64(5), 2: np.int64(4), 3: 0, 4: np.int64(1), 5: np.int64(3), 6: np.int64(8), 7: np.int64(3), 8: np.int64(6), 9: np.int64(2), 10: np.int64(4)}\n"
     ]
    }
   ],
   "source": [
    "# 2. Recorre la matriz y guarda en un diccionario la frecuencia de cada número.\n",
    "\n",
    "diccionario_matriz = {}\n",
    "\n",
    "valor, conteo = np.unique(matriz, return_counts=True)\n",
    "\n",
    "diccionario_matriz = {i: 0 for i in range(1, 11)} \n",
    "for v, c in zip(valor, conteo):\n",
    "    diccionario_matriz[v] = c\n",
    "            \n",
    "print(diccionario_matriz)"
   ]
  },
  {
   "cell_type": "code",
   "execution_count": 151,
   "id": "b6ef030f-47fc-4907-b4f0-c39e1609f82d",
   "metadata": {},
   "outputs": [
    {
     "data": {
      "text/plain": [
       "[(6, np.int64(8)),\n",
       " (8, np.int64(6)),\n",
       " (1, np.int64(5)),\n",
       " (2, np.int64(4)),\n",
       " (10, np.int64(4)),\n",
       " (5, np.int64(3)),\n",
       " (7, np.int64(3)),\n",
       " (9, np.int64(2)),\n",
       " (4, np.int64(1)),\n",
       " (3, 0)]"
      ]
     },
     "execution_count": 151,
     "metadata": {},
     "output_type": "execute_result"
    }
   ],
   "source": [
    "# 3. Convierte el diccionario en una lista de tuplas (número, frecuencia) y ordénala de mayor a menor frecuencia.\n",
    "\n",
    "tupla_matriz = list(diccionario_matriz.items())\n",
    "tupla_matriz_ordenada = sorted(tupla_matriz, key=lambda x: x[1], reverse=True)\n",
    "tupla_matriz_ordenada"
   ]
  },
  {
   "cell_type": "code",
   "execution_count": 152,
   "id": "a4d7d8ea-e777-46dc-ae13-d62b7c136a37",
   "metadata": {},
   "outputs": [
    {
     "data": {
      "text/plain": [
       "(array([[ 6,  4,  2,  2,  1,  8],\n",
       "        [ 2,  6,  6,  5, 10,  8],\n",
       "        [ 2,  5,  9,  5,  6,  1],\n",
       "        [ 1,  7, 10,  8,  8,  1],\n",
       "        [ 6, 10, 10,  6,  7,  6],\n",
       "        [ 8,  1,  7,  8,  9,  6]], dtype=int32),\n",
       " {1: np.int64(5),\n",
       "  2: np.int64(4),\n",
       "  3: 0,\n",
       "  4: np.int64(1),\n",
       "  5: np.int64(3),\n",
       "  6: np.int64(8),\n",
       "  7: np.int64(3),\n",
       "  8: np.int64(6),\n",
       "  9: np.int64(2),\n",
       "  10: np.int64(4)},\n",
       " [(6, np.int64(8)),\n",
       "  (8, np.int64(6)),\n",
       "  (1, np.int64(5)),\n",
       "  (2, np.int64(4)),\n",
       "  (10, np.int64(4)),\n",
       "  (5, np.int64(3)),\n",
       "  (7, np.int64(3)),\n",
       "  (9, np.int64(2)),\n",
       "  (4, np.int64(1)),\n",
       "  (3, 0)])"
      ]
     },
     "execution_count": 152,
     "metadata": {},
     "output_type": "execute_result"
    }
   ],
   "source": [
    "# 4. Imprime la matriz, el diccionario y la lista ordenada.\n",
    "matriz, diccionario_matriz, tupla_matriz_ordenada"
   ]
  },
  {
   "cell_type": "code",
   "execution_count": null,
   "id": "026b9fe7-23d5-41c9-bf7b-dbae72253b2f",
   "metadata": {},
   "outputs": [],
   "source": []
  },
  {
   "cell_type": "markdown",
   "id": "a7dcab51-cf15-49bd-8648-c0004bb2a6ca",
   "metadata": {},
   "source": [
    "### Ejercicio2: Promedios por columna y gráfico de líneas\n",
    "\n",
    "1. Crea una matriz 10x5 con enteros entre 10 y 100.\n",
    "2. Calcula el promedio de cada columna usando un bucle.\n",
    "3. Guarda los resultados en un diccionario con claves \"col_1\" ... \"col_5\".\n",
    "4. Convierte los valores en una lista y grafícalos en una línea (line plot) mostrando el promedio por columna."
   ]
  },
  {
   "cell_type": "code",
   "execution_count": 153,
   "id": "94e0eb75-8f56-4243-b8dc-eb17b2b33582",
   "metadata": {},
   "outputs": [
    {
     "data": {
      "text/plain": [
       "array([[11, 47, 80, 24, 75],\n",
       "       [32, 68, 33, 94, 22],\n",
       "       [68, 21, 73, 88, 23],\n",
       "       [92, 14, 64, 43, 21],\n",
       "       [65, 43, 44, 96, 23],\n",
       "       [16, 86, 20, 92, 21],\n",
       "       [51, 97, 17, 22, 57],\n",
       "       [39, 21, 82, 89, 68],\n",
       "       [71, 32, 91, 16, 78],\n",
       "       [64, 56, 38, 18, 66]], dtype=int32)"
      ]
     },
     "execution_count": 153,
     "metadata": {},
     "output_type": "execute_result"
    }
   ],
   "source": [
    "# 1. Crea una matriz 10x5 con enteros entre 10 y 100.\n",
    " \n",
    "matriz_10x5 = np.random.randint(10, 101, size = (10, 5))\n",
    "matriz_10x5"
   ]
  },
  {
   "cell_type": "code",
   "execution_count": 154,
   "id": "c385a381-3c5d-44dd-97b7-7c9d92725983",
   "metadata": {},
   "outputs": [
    {
     "data": {
      "text/plain": [
       "{'col_1': np.float64(50.9),\n",
       " 'col_2': np.float64(48.5),\n",
       " 'col_3': np.float64(54.2),\n",
       " 'col_4': np.float64(58.2),\n",
       " 'col_5': np.float64(45.4)}"
      ]
     },
     "execution_count": 154,
     "metadata": {},
     "output_type": "execute_result"
    }
   ],
   "source": [
    "# 2. Calcula el promedio de cada columna usando un bucle.\n",
    "# 3. Guarda los resultados en un diccionario con claves \"col_1\" ... \"col_5\".\n",
    "\n",
    "columnas = matriz_10x5.shape[1]\n",
    "\n",
    "promedios = {}\n",
    "for col in range(columnas):\n",
    "    promedio = np.mean(matriz_10x5[:, col])\n",
    "    promedios[f\"col_{col+1}\"] = promedio \n",
    "\n",
    "promedios"
   ]
  },
  {
   "cell_type": "code",
   "execution_count": 155,
   "id": "5a1d8234-62d9-4194-ad97-ae0b88a10341",
   "metadata": {},
   "outputs": [],
   "source": [
    "import matplotlib.pyplot as plt"
   ]
  },
  {
   "cell_type": "code",
   "execution_count": 156,
   "id": "19008afa-64df-432f-989a-2a225db76192",
   "metadata": {},
   "outputs": [
    {
     "data": {
      "image/png": "[encoded data removed]",
      "text/plain": [
       "<Figure size 640x480 with 1 Axes>"
      ]
     },
     "metadata": {},
     "output_type": "display_data"
    }
   ],
   "source": [
    "# 4. Convierte los valores en una lista y grafícalos en una línea (line plot) mostrando el promedio por columna. \n",
    "\n",
    "import matplotlib.pyplot as plt\n",
    "\n",
    "promedio_lista = list(promedios.values()) # para tener los valores de la lista\n",
    "promedio_lista\n",
    "\n",
    "\n",
    "plt.plot((1, 2, 3, 4, 5), promedio_lista, marker = \".\")\n",
    "\n",
    "plt.xticks(range(1, len(promedio_lista)+1), promedios.keys())\n",
    "plt.xlabel(\"Columnas\")\n",
    "plt.ylabel(\"Promedio\")\n",
    "plt.title(\"Promedio por columna\")\n",
    "plt.grid()"
   ]
  },
  {
   "cell_type": "code",
   "execution_count": null,
   "id": "a0a81630-610a-4a7e-807f-0e5c1ff02d29",
   "metadata": {},
   "outputs": [],
   "source": []
  },
  {
   "cell_type": "markdown",
   "id": "274e5828-168a-4eae-bf98-4ee05a06436a",
   "metadata": {},
   "source": [
    "### Ejercicio3: Evolución temporal simulada\n",
    "\n",
    "1. Simula con NumPy una lista de 30 días con valores aleatorios de temperatura entre 15°C y 35°C.\n",
    "2. Almacena los valores en un diccionario con claves \"día_1\", \"día_2\", ....\n",
    "3. Usa un bucle para crear una lista con los _días_ donde la temperatura superó 30°C.\n",
    "4. Grafica las temperaturas en un gráfico de línea con puntos marcados (scatter + line plot).\n",
    "5. Marca en rojo los días con temperatura > 30°C."
   ]
  },
  {
   "cell_type": "code",
   "execution_count": 157,
   "id": "e0ce95a0-fdc8-4ec3-bfd4-6c0d07d1b72d",
   "metadata": {},
   "outputs": [
    {
     "data": {
      "text/plain": [
       "array([23, 19, 22, 23, 24, 31, 20, 35, 34, 22, 22, 35, 25, 31, 19, 27, 29,\n",
       "       21, 16, 19, 27, 35, 28, 15, 25, 32, 34, 19, 25, 25], dtype=int32)"
      ]
     },
     "execution_count": 157,
     "metadata": {},
     "output_type": "execute_result"
    }
   ],
   "source": [
    "# 1. Simula con NumPy una lista de 30 días con valores aleatorios de temperatura entre 15°C y 35°C.\n",
    "lista = np.random.randint(15, 36, size = 30)\n",
    "temps = np.array(lista)\n",
    "\n",
    "temps"
   ]
  },
  {
   "cell_type": "code",
   "execution_count": 158,
   "id": "ecebc05f-8732-4815-b35f-26befb48cc2a",
   "metadata": {},
   "outputs": [
    {
     "data": {
      "text/plain": [
       "{'día_1': np.int32(23),\n",
       " 'día_2': np.int32(19),\n",
       " 'día_3': np.int32(22),\n",
       " 'día_4': np.int32(23),\n",
       " 'día_5': np.int32(24),\n",
       " 'día_6': np.int32(31),\n",
       " 'día_7': np.int32(20),\n",
       " 'día_8': np.int32(35),\n",
       " 'día_9': np.int32(34),\n",
       " 'día_10': np.int32(22),\n",
       " 'día_11': np.int32(22),\n",
       " 'día_12': np.int32(35),\n",
       " 'día_13': np.int32(25),\n",
       " 'día_14': np.int32(31),\n",
       " 'día_15': np.int32(19),\n",
       " 'día_16': np.int32(27),\n",
       " 'día_17': np.int32(29),\n",
       " 'día_18': np.int32(21),\n",
       " 'día_19': np.int32(16),\n",
       " 'día_20': np.int32(19),\n",
       " 'día_21': np.int32(27),\n",
       " 'día_22': np.int32(35),\n",
       " 'día_23': np.int32(28),\n",
       " 'día_24': np.int32(15),\n",
       " 'día_25': np.int32(25),\n",
       " 'día_26': np.int32(32),\n",
       " 'día_27': np.int32(34),\n",
       " 'día_28': np.int32(19),\n",
       " 'día_29': np.int32(25),\n",
       " 'día_30': np.int32(25)}"
      ]
     },
     "execution_count": 158,
     "metadata": {},
     "output_type": "execute_result"
    }
   ],
   "source": [
    "# 2. Almacena los valores en un diccionario con claves \"día_1\", \"día_2\", ....\n",
    "dias = {}\n",
    "dias = {f\"día_{i+1}\": temp for i, temp in enumerate(temps)}\n",
    "dias"
   ]
  },
  {
   "cell_type": "code",
   "execution_count": 159,
   "id": "5daf2e4d-def6-4bac-9db1-d88b182b7f93",
   "metadata": {},
   "outputs": [
    {
     "data": {
      "text/plain": [
       "[6, 8, 9, 12, 14, 22, 26, 27]"
      ]
     },
     "execution_count": 159,
     "metadata": {},
     "output_type": "execute_result"
    }
   ],
   "source": [
    "# 3. Usa un bucle para crear una lista con los _días_ donde la temperatura superó 30°C.\n",
    "dias_30_o_mas = []\n",
    "\n",
    "for i in range(len(temps)):  \n",
    "    if temps[i] > 30:       \n",
    "        dias_30_o_mas.append(i+1)  \n",
    "\n",
    "dias_30_o_mas"
   ]
  },
  {
   "cell_type": "code",
   "execution_count": 160,
   "id": "f94b33bb-c93c-4c2b-896b-7778a1009eb4",
   "metadata": {},
   "outputs": [
    {
     "data": {
      "image/png": "[encoded data removed]",
      "text/plain": [
       "<Figure size 640x480 with 1 Axes>"
      ]
     },
     "metadata": {},
     "output_type": "display_data"
    }
   ],
   "source": [
    "# 4. Grafica las temperaturas en un gráfico de línea con puntos marcados (scatter + line plot).\n",
    "# 5. Marca en rojo los días con temperatura > 30°C.\n",
    "dias = np.arange(1, 31)\n",
    "plt.plot(dias, temps, marker = \"o\")\n",
    "plt.scatter(dias_30_o_mas, temps[temps>30], color = \"red\", zorder = 3)\n",
    "\n",
    "plt.xticks(dias)\n",
    "plt.xlabel(\"Días\")\n",
    "plt.ylabel(\"Temperatura\")\n",
    "plt.title(\"Temperaturas sobre 30º C\")\n",
    "plt.grid()"
   ]
  },
  {
   "cell_type": "code",
   "execution_count": null,
   "id": "a6793218-80db-4434-a69d-66c6e96297d4",
   "metadata": {},
   "outputs": [],
   "source": []
  },
  {
   "cell_type": "markdown",
   "id": "859f5929-28bb-4708-ac2e-ea39d115eabc",
   "metadata": {},
   "source": [
    "### Ejercicio4: Comparación de distribuciones\n",
    "\n",
    "1. Genera dos arreglos de 100 números aleatorios con distribución normal:\n",
    "    * grupo_A: media 50, desviación 10\n",
    "    * grupo_B: media 60, desviación 15\n",
    "2. Guarda en un diccionario con claves \"A\" y \"B\".\n",
    "3. Calcula media y desviación estándar de cada grupo y guárdalas en listas.\n",
    "4. Grafica ambos grupos en un histograma comparativo (superposición con colores diferentes y transparencia)."
   ]
  },
  {
   "cell_type": "code",
   "execution_count": 161,
   "id": "ae914e11-ff47-4f24-8ded-f58d3650e527",
   "metadata": {},
   "outputs": [],
   "source": [
    "# 1. Genera dos arreglos de 100 números aleatorios con distribución normal\n",
    "grupo_A = np.random.normal(50, 10, size = 100)\n",
    "grupo_B = np.random.normal(60, 15, size = 100)"
   ]
  },
  {
   "cell_type": "code",
   "execution_count": 162,
   "id": "0c1179f2-8ee1-44bf-bc3e-866a5f7cf7e3",
   "metadata": {},
   "outputs": [
    {
     "data": {
      "text/plain": [
       "{'A': array([53.86085492, 41.06384857, 54.66122681, 51.51528186, 55.09007581,\n",
       "        63.26598887, 36.81888366, 36.64122417, 51.99085567, 52.31326751,\n",
       "        38.9966738 , 56.6170934 , 46.30482257, 52.90779918, 43.8331133 ,\n",
       "        26.35218063, 43.19017574, 49.10836089, 28.21134608, 51.39459874,\n",
       "        51.21765545, 43.39363461, 46.07308071, 61.80153529, 58.75015605,\n",
       "        38.73580033, 36.1673408 , 59.39783412, 60.02111844, 45.90409248,\n",
       "        40.67486088, 52.36016263, 30.84516383, 43.64087095, 50.95548281,\n",
       "        58.75921176, 58.09576469, 50.82441241, 57.33002323, 61.60135576,\n",
       "        47.84263927, 56.61587655, 47.26925224, 43.68743924, 67.90003566,\n",
       "        49.9089884 , 42.60124443, 58.05280074, 52.22986612, 45.64560005,\n",
       "        30.2623402 , 69.52079465, 39.30147038, 60.38517447, 53.82491852,\n",
       "        37.61958778, 41.68505072, 44.43918163, 51.68517765, 44.09051666,\n",
       "        50.40644995, 53.91341102, 60.72773164, 32.3530158 , 54.407668  ,\n",
       "        60.22971378, 42.79604003, 44.38529726, 58.58020256, 59.32792536,\n",
       "        57.50587319, 42.58891454, 66.49548479, 51.98723427, 36.17063152,\n",
       "        48.27386456, 50.72889024, 55.45936959, 38.14063413, 41.98693565,\n",
       "        63.35902045, 41.32551464, 59.52385   , 43.00707529, 50.64807171,\n",
       "        60.02784153, 35.16774718, 42.27796654, 65.94419746, 39.6933792 ,\n",
       "        52.79069682, 45.47448821, 51.08776695, 52.17976193, 57.64848667,\n",
       "        50.7829158 , 40.56350785, 48.82204914, 51.93919196, 60.75478487]),\n",
       " 'B': array([86.52674193, 58.2122926 , 66.51431517, 51.59130749, 48.62141076,\n",
       "        58.90227815, 47.96921116, 63.48575056, 58.75135327, 64.70200714,\n",
       "        57.41307321, 70.47239595, 41.21525929, 68.55729596, 65.57185853,\n",
       "        47.24165732, 43.3377767 , 53.82466748, 64.76666586, 32.56170107,\n",
       "        56.94762711, 54.18229681, 56.80437131, 72.08277348, 54.94177439,\n",
       "        68.74376391, 51.42625959, 41.32444672, 55.26252036, 59.59932085,\n",
       "        75.89443917, 72.49072601, 59.65165917, 49.54984002, 70.39346544,\n",
       "        50.73591526, 57.72727587, 66.30250748, 50.62581218, 66.35945256,\n",
       "        58.45891445, 46.3165203 , 32.23938629, 56.13847462, 64.696534  ,\n",
       "        50.61449648, 77.16793038, 42.73518541, 70.69319304, 59.44941094,\n",
       "        70.88144521, 44.17809423, 85.51396333, 63.71227774, 44.64968487,\n",
       "        45.31388699, 79.20940894, 70.52753451, 61.7825269 , 62.91786636,\n",
       "        33.44465102, 55.664695  , 53.25700763, 53.11613549, 55.75517949,\n",
       "        38.06411979, 41.94265471, 71.98544445, 70.94149867, 85.77997306,\n",
       "        48.27058664, 63.19791819, 57.75475636, 87.7766438 , 59.84515181,\n",
       "        28.97976122, 50.94297758, 63.78571066, 86.16510358, 64.84007463,\n",
       "        40.44492493, 55.77896164, 48.75263498, 47.99049834, 54.16039584,\n",
       "        67.29354381, 58.39489048, 56.50214325, 71.42427856, 57.478178  ,\n",
       "        59.15417974, 66.19158959, 70.11998902, 66.37461913, 50.56415254,\n",
       "        64.93053868, 63.6914627 , 38.90736001, 85.86220127, 85.44791739])}"
      ]
     },
     "execution_count": 162,
     "metadata": {},
     "output_type": "execute_result"
    }
   ],
   "source": [
    "# 2. Guarda en un diccionario con claves \"A\" y \"B\".\n",
    "diccionario = {\"A\" : grupo_A, \"B\" : grupo_B}\n",
    "diccionario"
   ]
  },
  {
   "cell_type": "code",
   "execution_count": 163,
   "id": "def80ada-9e8f-48ca-b809-b27a610794a0",
   "metadata": {},
   "outputs": [
    {
     "data": {
      "text/plain": [
       "([np.float64(49.44738786876635), np.float64(59.094565059505)],\n",
       " [np.float64(9.227481579815935), np.float64(12.85255326517607)])"
      ]
     },
     "execution_count": 163,
     "metadata": {},
     "output_type": "execute_result"
    }
   ],
   "source": [
    "# 3. Calcula media y desviación estándar de cada grupo y guárdalas en listas. \n",
    "lista_medias = [np.mean(grupo_A), np.mean(grupo_B)]\n",
    "lista_sd = [np.std(grupo_A), np.std(grupo_B)]\n",
    "\n",
    "lista_medias, lista_sd\n"
   ]
  },
  {
   "cell_type": "code",
   "execution_count": 164,
   "id": "a1d5a1aa-fa91-4218-a32b-0930916445ac",
   "metadata": {},
   "outputs": [
    {
     "data": {
      "text/plain": [
       "(array([1., 0., 0., 0., 0., 0., 0., 0., 0., 1.]),\n",
       " array([ 9.22748158,  9.58998875,  9.95249592, 10.31500309, 10.67751025,\n",
       "        11.04001742, 11.40252459, 11.76503176, 12.12753893, 12.4900461 ,\n",
       "        12.85255327]),\n",
       " <BarContainer object of 10 artists>)"
      ]
     },
     "execution_count": 164,
     "metadata": {},
     "output_type": "execute_result"
    },
    {
     "data": {
      "image/png": "[encoded data removed]",
      "text/plain": [
       "<Figure size 640x480 with 1 Axes>"
      ]
     },
     "metadata": {},
     "output_type": "display_data"
    }
   ],
   "source": [
    "# 4. Grafica ambos grupos en un histograma comparativo (superposición con colores diferentes y transparencia). \n",
    "plt.hist(lista_medias, color = \"yellow\", alpha = 0.3)\n",
    "plt.hist(lista_sd, color = \"blue\", alpha = 0.7)"
   ]
  },
  {
   "cell_type": "code",
   "execution_count": null,
   "id": "9ab54ee7-e81e-4347-a2dd-46c8cc1d3656",
   "metadata": {},
   "outputs": [],
   "source": []
  },
  {
   "cell_type": "markdown",
   "id": "f02dd7ab-0f94-4cd5-ae76-5fdab3434578",
   "metadata": {},
   "source": [
    "### Ejercicio5: Clasificación de temperaturas\n",
    "\n",
    "1. Genera una Serie con 50 valores aleatorios entre -10 y 40 (temperaturas).\n",
    "2. Recorre la Serie y clasifica cada temperatura en un diccionario:\n",
    "    * \"frío\" si < 10\n",
    "    * \"templado\" si 10–25\n",
    "    * \"calor\" si > 25\n",
    "3. Convierte el diccionario en un DataFrame con columnas \"Temperatura\" y \"Categoría\".\n",
    "4. Cuenta cuántos valores cayeron en cada categoría."
   ]
  },
  {
   "cell_type": "code",
   "execution_count": 165,
   "id": "0cd1de48-d62b-4c0b-9318-e469c98aa22d",
   "metadata": {},
   "outputs": [
    {
     "data": {
      "text/plain": [
       "0     14\n",
       "1    -10\n",
       "2     11\n",
       "3     10\n",
       "4     23\n",
       "5     18\n",
       "6     34\n",
       "7     40\n",
       "8     28\n",
       "9      4\n",
       "10     1\n",
       "11     1\n",
       "12    24\n",
       "13    13\n",
       "14    -6\n",
       "15     6\n",
       "16    24\n",
       "17    23\n",
       "18    -9\n",
       "19    33\n",
       "20     8\n",
       "21    32\n",
       "22    35\n",
       "23    -1\n",
       "24    39\n",
       "25    16\n",
       "26    28\n",
       "27    -6\n",
       "28    23\n",
       "29    29\n",
       "30    13\n",
       "31     4\n",
       "32    27\n",
       "33    13\n",
       "34    30\n",
       "35    18\n",
       "36    40\n",
       "37    39\n",
       "38     4\n",
       "39    40\n",
       "40    14\n",
       "41    -4\n",
       "42    30\n",
       "43    22\n",
       "44    32\n",
       "45    -6\n",
       "46    26\n",
       "47    -7\n",
       "48    30\n",
       "49     3\n",
       "dtype: int32"
      ]
     },
     "execution_count": 165,
     "metadata": {},
     "output_type": "execute_result"
    }
   ],
   "source": [
    "# 1. Genera una Serie con 50 valores aleatorios entre -10 y 40 (temperaturas).\n",
    "import pandas as pd\n",
    "serie = pd.Series(np.random.randint(-10, 41, size = 50))\n",
    "serie"
   ]
  },
  {
   "cell_type": "code",
   "execution_count": 166,
   "id": "f8a4678e-5930-4f78-87d3-218cfaa748c1",
   "metadata": {},
   "outputs": [
    {
     "data": {
      "text/plain": [
       "{0: {'Temperatura': 14, 'Categoría': 'templado'},\n",
       " 1: {'Temperatura': -10, 'Categoría': 'frío'},\n",
       " 2: {'Temperatura': 11, 'Categoría': 'templado'},\n",
       " 3: {'Temperatura': 10, 'Categoría': 'templado'},\n",
       " 4: {'Temperatura': 23, 'Categoría': 'templado'},\n",
       " 5: {'Temperatura': 18, 'Categoría': 'templado'},\n",
       " 6: {'Temperatura': 34, 'Categoría': 'calor'},\n",
       " 7: {'Temperatura': 40, 'Categoría': 'calor'},\n",
       " 8: {'Temperatura': 28, 'Categoría': 'calor'},\n",
       " 9: {'Temperatura': 4, 'Categoría': 'frío'},\n",
       " 10: {'Temperatura': 1, 'Categoría': 'frío'},\n",
       " 11: {'Temperatura': 1, 'Categoría': 'frío'},\n",
       " 12: {'Temperatura': 24, 'Categoría': 'templado'},\n",
       " 13: {'Temperatura': 13, 'Categoría': 'templado'},\n",
       " 14: {'Temperatura': -6, 'Categoría': 'frío'},\n",
       " 15: {'Temperatura': 6, 'Categoría': 'frío'},\n",
       " 16: {'Temperatura': 24, 'Categoría': 'templado'},\n",
       " 17: {'Temperatura': 23, 'Categoría': 'templado'},\n",
       " 18: {'Temperatura': -9, 'Categoría': 'frío'},\n",
       " 19: {'Temperatura': 33, 'Categoría': 'calor'},\n",
       " 20: {'Temperatura': 8, 'Categoría': 'frío'},\n",
       " 21: {'Temperatura': 32, 'Categoría': 'calor'},\n",
       " 22: {'Temperatura': 35, 'Categoría': 'calor'},\n",
       " 23: {'Temperatura': -1, 'Categoría': 'frío'},\n",
       " 24: {'Temperatura': 39, 'Categoría': 'calor'},\n",
       " 25: {'Temperatura': 16, 'Categoría': 'templado'},\n",
       " 26: {'Temperatura': 28, 'Categoría': 'calor'},\n",
       " 27: {'Temperatura': -6, 'Categoría': 'frío'},\n",
       " 28: {'Temperatura': 23, 'Categoría': 'templado'},\n",
       " 29: {'Temperatura': 29, 'Categoría': 'calor'},\n",
       " 30: {'Temperatura': 13, 'Categoría': 'templado'},\n",
       " 31: {'Temperatura': 4, 'Categoría': 'frío'},\n",
       " 32: {'Temperatura': 27, 'Categoría': 'calor'},\n",
       " 33: {'Temperatura': 13, 'Categoría': 'templado'},\n",
       " 34: {'Temperatura': 30, 'Categoría': 'calor'},\n",
       " 35: {'Temperatura': 18, 'Categoría': 'templado'},\n",
       " 36: {'Temperatura': 40, 'Categoría': 'calor'},\n",
       " 37: {'Temperatura': 39, 'Categoría': 'calor'},\n",
       " 38: {'Temperatura': 4, 'Categoría': 'frío'},\n",
       " 39: {'Temperatura': 40, 'Categoría': 'calor'},\n",
       " 40: {'Temperatura': 14, 'Categoría': 'templado'},\n",
       " 41: {'Temperatura': -4, 'Categoría': 'frío'},\n",
       " 42: {'Temperatura': 30, 'Categoría': 'calor'},\n",
       " 43: {'Temperatura': 22, 'Categoría': 'templado'},\n",
       " 44: {'Temperatura': 32, 'Categoría': 'calor'},\n",
       " 45: {'Temperatura': -6, 'Categoría': 'frío'},\n",
       " 46: {'Temperatura': 26, 'Categoría': 'calor'},\n",
       " 47: {'Temperatura': -7, 'Categoría': 'frío'},\n",
       " 48: {'Temperatura': 30, 'Categoría': 'calor'},\n",
       " 49: {'Temperatura': 3, 'Categoría': 'frío'}}"
      ]
     },
     "execution_count": 166,
     "metadata": {},
     "output_type": "execute_result"
    }
   ],
   "source": [
    "# 2. Recorre la Serie y clasifica cada temperatura en un diccionario \n",
    "clasificacion = {}\n",
    "for i, t in enumerate(serie):\n",
    "    if t < 10:\n",
    "        clasificacion[i] = {\"Temperatura\": t, \"Categoría\": \"frío\"}\n",
    "    elif 10 <= t <= 25:\n",
    "        clasificacion[i] = {\"Temperatura\": t, \"Categoría\": \"templado\"}\n",
    "    else:\n",
    "        clasificacion[i] = {\"Temperatura\": t, \"Categoría\": \"calor\"}\n",
    "\n",
    "clasificacion"
   ]
  },
  {
   "cell_type": "code",
   "execution_count": 167,
   "id": "8781e05e-923f-4e36-9aed-97b52ee78ae0",
   "metadata": {},
   "outputs": [
    {
     "data": {
      "text/html": [
       "<div>\n",
       "<style scoped>\n",
       "    .dataframe tbody tr th:only-of-type {\n",
       "        vertical-align: middle;\n",
       "    }\n",
       "\n",
       "    .dataframe tbody tr th {\n",
       "        vertical-align: top;\n",
       "    }\n",
       "\n",
       "    .dataframe thead th {\n",
       "        text-align: right;\n",
       "    }\n",
       "</style>\n",
       "<table border=\"1\" class=\"dataframe\">\n",
       "  <thead>\n",
       "    <tr style=\"text-align: right;\">\n",
       "      <th></th>\n",
       "      <th>Temperatura</th>\n",
       "      <th>Categoría</th>\n",
       "    </tr>\n",
       "  </thead>\n",
       "  <tbody>\n",
       "    <tr>\n",
       "      <th>0</th>\n",
       "      <td>14</td>\n",
       "      <td>templado</td>\n",
       "    </tr>\n",
       "    <tr>\n",
       "      <th>1</th>\n",
       "      <td>-10</td>\n",
       "      <td>frío</td>\n",
       "    </tr>\n",
       "    <tr>\n",
       "      <th>2</th>\n",
       "      <td>11</td>\n",
       "      <td>templado</td>\n",
       "    </tr>\n",
       "    <tr>\n",
       "      <th>3</th>\n",
       "      <td>10</td>\n",
       "      <td>templado</td>\n",
       "    </tr>\n",
       "    <tr>\n",
       "      <th>4</th>\n",
       "      <td>23</td>\n",
       "      <td>templado</td>\n",
       "    </tr>\n",
       "    <tr>\n",
       "      <th>5</th>\n",
       "      <td>18</td>\n",
       "      <td>templado</td>\n",
       "    </tr>\n",
       "    <tr>\n",
       "      <th>6</th>\n",
       "      <td>34</td>\n",
       "      <td>calor</td>\n",
       "    </tr>\n",
       "    <tr>\n",
       "      <th>7</th>\n",
       "      <td>40</td>\n",
       "      <td>calor</td>\n",
       "    </tr>\n",
       "    <tr>\n",
       "      <th>8</th>\n",
       "      <td>28</td>\n",
       "      <td>calor</td>\n",
       "    </tr>\n",
       "    <tr>\n",
       "      <th>9</th>\n",
       "      <td>4</td>\n",
       "      <td>frío</td>\n",
       "    </tr>\n",
       "    <tr>\n",
       "      <th>10</th>\n",
       "      <td>1</td>\n",
       "      <td>frío</td>\n",
       "    </tr>\n",
       "    <tr>\n",
       "      <th>11</th>\n",
       "      <td>1</td>\n",
       "      <td>frío</td>\n",
       "    </tr>\n",
       "    <tr>\n",
       "      <th>12</th>\n",
       "      <td>24</td>\n",
       "      <td>templado</td>\n",
       "    </tr>\n",
       "    <tr>\n",
       "      <th>13</th>\n",
       "      <td>13</td>\n",
       "      <td>templado</td>\n",
       "    </tr>\n",
       "    <tr>\n",
       "      <th>14</th>\n",
       "      <td>-6</td>\n",
       "      <td>frío</td>\n",
       "    </tr>\n",
       "    <tr>\n",
       "      <th>15</th>\n",
       "      <td>6</td>\n",
       "      <td>frío</td>\n",
       "    </tr>\n",
       "    <tr>\n",
       "      <th>16</th>\n",
       "      <td>24</td>\n",
       "      <td>templado</td>\n",
       "    </tr>\n",
       "    <tr>\n",
       "      <th>17</th>\n",
       "      <td>23</td>\n",
       "      <td>templado</td>\n",
       "    </tr>\n",
       "    <tr>\n",
       "      <th>18</th>\n",
       "      <td>-9</td>\n",
       "      <td>frío</td>\n",
       "    </tr>\n",
       "    <tr>\n",
       "      <th>19</th>\n",
       "      <td>33</td>\n",
       "      <td>calor</td>\n",
       "    </tr>\n",
       "    <tr>\n",
       "      <th>20</th>\n",
       "      <td>8</td>\n",
       "      <td>frío</td>\n",
       "    </tr>\n",
       "    <tr>\n",
       "      <th>21</th>\n",
       "      <td>32</td>\n",
       "      <td>calor</td>\n",
       "    </tr>\n",
       "    <tr>\n",
       "      <th>22</th>\n",
       "      <td>35</td>\n",
       "      <td>calor</td>\n",
       "    </tr>\n",
       "    <tr>\n",
       "      <th>23</th>\n",
       "      <td>-1</td>\n",
       "      <td>frío</td>\n",
       "    </tr>\n",
       "    <tr>\n",
       "      <th>24</th>\n",
       "      <td>39</td>\n",
       "      <td>calor</td>\n",
       "    </tr>\n",
       "    <tr>\n",
       "      <th>25</th>\n",
       "      <td>16</td>\n",
       "      <td>templado</td>\n",
       "    </tr>\n",
       "    <tr>\n",
       "      <th>26</th>\n",
       "      <td>28</td>\n",
       "      <td>calor</td>\n",
       "    </tr>\n",
       "    <tr>\n",
       "      <th>27</th>\n",
       "      <td>-6</td>\n",
       "      <td>frío</td>\n",
       "    </tr>\n",
       "    <tr>\n",
       "      <th>28</th>\n",
       "      <td>23</td>\n",
       "      <td>templado</td>\n",
       "    </tr>\n",
       "    <tr>\n",
       "      <th>29</th>\n",
       "      <td>29</td>\n",
       "      <td>calor</td>\n",
       "    </tr>\n",
       "    <tr>\n",
       "      <th>30</th>\n",
       "      <td>13</td>\n",
       "      <td>templado</td>\n",
       "    </tr>\n",
       "    <tr>\n",
       "      <th>31</th>\n",
       "      <td>4</td>\n",
       "      <td>frío</td>\n",
       "    </tr>\n",
       "    <tr>\n",
       "      <th>32</th>\n",
       "      <td>27</td>\n",
       "      <td>calor</td>\n",
       "    </tr>\n",
       "    <tr>\n",
       "      <th>33</th>\n",
       "      <td>13</td>\n",
       "      <td>templado</td>\n",
       "    </tr>\n",
       "    <tr>\n",
       "      <th>34</th>\n",
       "      <td>30</td>\n",
       "      <td>calor</td>\n",
       "    </tr>\n",
       "    <tr>\n",
       "      <th>35</th>\n",
       "      <td>18</td>\n",
       "      <td>templado</td>\n",
       "    </tr>\n",
       "    <tr>\n",
       "      <th>36</th>\n",
       "      <td>40</td>\n",
       "      <td>calor</td>\n",
       "    </tr>\n",
       "    <tr>\n",
       "      <th>37</th>\n",
       "      <td>39</td>\n",
       "      <td>calor</td>\n",
       "    </tr>\n",
       "    <tr>\n",
       "      <th>38</th>\n",
       "      <td>4</td>\n",
       "      <td>frío</td>\n",
       "    </tr>\n",
       "    <tr>\n",
       "      <th>39</th>\n",
       "      <td>40</td>\n",
       "      <td>calor</td>\n",
       "    </tr>\n",
       "    <tr>\n",
       "      <th>40</th>\n",
       "      <td>14</td>\n",
       "      <td>templado</td>\n",
       "    </tr>\n",
       "    <tr>\n",
       "      <th>41</th>\n",
       "      <td>-4</td>\n",
       "      <td>frío</td>\n",
       "    </tr>\n",
       "    <tr>\n",
       "      <th>42</th>\n",
       "      <td>30</td>\n",
       "      <td>calor</td>\n",
       "    </tr>\n",
       "    <tr>\n",
       "      <th>43</th>\n",
       "      <td>22</td>\n",
       "      <td>templado</td>\n",
       "    </tr>\n",
       "    <tr>\n",
       "      <th>44</th>\n",
       "      <td>32</td>\n",
       "      <td>calor</td>\n",
       "    </tr>\n",
       "    <tr>\n",
       "      <th>45</th>\n",
       "      <td>-6</td>\n",
       "      <td>frío</td>\n",
       "    </tr>\n",
       "    <tr>\n",
       "      <th>46</th>\n",
       "      <td>26</td>\n",
       "      <td>calor</td>\n",
       "    </tr>\n",
       "    <tr>\n",
       "      <th>47</th>\n",
       "      <td>-7</td>\n",
       "      <td>frío</td>\n",
       "    </tr>\n",
       "    <tr>\n",
       "      <th>48</th>\n",
       "      <td>30</td>\n",
       "      <td>calor</td>\n",
       "    </tr>\n",
       "    <tr>\n",
       "      <th>49</th>\n",
       "      <td>3</td>\n",
       "      <td>frío</td>\n",
       "    </tr>\n",
       "  </tbody>\n",
       "</table>\n",
       "</div>"
      ],
      "text/plain": [
       "    Temperatura Categoría\n",
       "0            14  templado\n",
       "1           -10      frío\n",
       "2            11  templado\n",
       "3            10  templado\n",
       "4            23  templado\n",
       "5            18  templado\n",
       "6            34     calor\n",
       "7            40     calor\n",
       "8            28     calor\n",
       "9             4      frío\n",
       "10            1      frío\n",
       "11            1      frío\n",
       "12           24  templado\n",
       "13           13  templado\n",
       "14           -6      frío\n",
       "15            6      frío\n",
       "16           24  templado\n",
       "17           23  templado\n",
       "18           -9      frío\n",
       "19           33     calor\n",
       "20            8      frío\n",
       "21           32     calor\n",
       "22           35     calor\n",
       "23           -1      frío\n",
       "24           39     calor\n",
       "25           16  templado\n",
       "26           28     calor\n",
       "27           -6      frío\n",
       "28           23  templado\n",
       "29           29     calor\n",
       "30           13  templado\n",
       "31            4      frío\n",
       "32           27     calor\n",
       "33           13  templado\n",
       "34           30     calor\n",
       "35           18  templado\n",
       "36           40     calor\n",
       "37           39     calor\n",
       "38            4      frío\n",
       "39           40     calor\n",
       "40           14  templado\n",
       "41           -4      frío\n",
       "42           30     calor\n",
       "43           22  templado\n",
       "44           32     calor\n",
       "45           -6      frío\n",
       "46           26     calor\n",
       "47           -7      frío\n",
       "48           30     calor\n",
       "49            3      frío"
      ]
     },
     "execution_count": 167,
     "metadata": {},
     "output_type": "execute_result"
    }
   ],
   "source": [
    "# 3. Convierte el diccionario en un DataFrame con columnas \"Temperatura\" y \"Categoría\". \n",
    "data_frame = pd.DataFrame.from_dict(clasificacion, orient=\"index\")\n",
    "data_frame"
   ]
  },
  {
   "cell_type": "code",
   "execution_count": 168,
   "id": "91e2a5c4-ad27-4292-a115-ddae4f5e7427",
   "metadata": {},
   "outputs": [
    {
     "data": {
      "text/plain": [
       "Categoría\n",
       "calor       18\n",
       "templado    16\n",
       "frío        16\n",
       "Name: count, dtype: int64"
      ]
     },
     "execution_count": 168,
     "metadata": {},
     "output_type": "execute_result"
    }
   ],
   "source": [
    "# 4. Cuenta cuántos valores cayeron en cada categoría \n",
    "data_frame[\"Categoría\"].value_counts()"
   ]
  },
  {
   "cell_type": "code",
   "execution_count": null,
   "id": "d4228250-8dc2-4628-92ce-5e387c0dae49",
   "metadata": {},
   "outputs": [],
   "source": []
  },
  {
   "cell_type": "markdown",
   "id": "47a3878d-a30e-4d68-b2ba-d70aeb6b995e",
   "metadata": {},
   "source": [
    "### Ejercicio6: Matriz de distancias\n",
    "\n",
    "1. Genera una matriz 10x2 con coordenadas aleatorias (x, y) entre 0 y 100.\n",
    "2. Con un bucle, calcula las distancias euclidianas entre cada par de puntos y guárdalas en un diccionario con claves (i,j).\n",
    "3. Convierte el diccionario en un DataFrame de 10x10 (matriz de distancias).\n",
    "4. Encuentra el par de puntos más cercanos y el más lejano."
   ]
  },
  {
   "cell_type": "code",
   "execution_count": 169,
   "id": "14c8ec50-7636-4d38-93da-87b664dd2f04",
   "metadata": {},
   "outputs": [],
   "source": [
    "# 1. Genera una matriz 10x2 con coordenadas aleatorias (x, y) entre 0 y 100.\n",
    "coords = np.random.uniform(0, 100, size=(10, 2))\n",
    "distancias = {}"
   ]
  },
  {
   "cell_type": "code",
   "execution_count": 170,
   "id": "bc12a61b-7b24-4d63-afea-83b219c034fb",
   "metadata": {},
   "outputs": [],
   "source": [
    "# 2. Con un bucle, calcula las distancias euclidianas entre cada par de puntos y guárdalas en un diccionario con claves (i,j).\n",
    "for i in range(len(coords)):\n",
    "    for j in range(len(coords)):\n",
    "        dist = np.sqrt(((coords[i]-coords[j])**2).sum())\n",
    "        distancias[(i, j)] = dist\n",
    "\n",
    "df_dist = pd.DataFrame(np.zeros((10, 10)))\n",
    "for (i, j), d in distancias.items():\n",
    "    df_dist.iloc[i, j] = d"
   ]
  },
  {
   "cell_type": "code",
   "execution_count": 171,
   "id": "a4d69886-c741-4b83-a2b5-72811b99bdc3",
   "metadata": {},
   "outputs": [],
   "source": [
    "# 3. Convierte el diccionario en un DataFrame de 10x10 (matriz de distancias).\n",
    "min_par = min(distancias, key=lambda x: distancias[x] if x[0] != x[1] else np.inf)\n",
    "max_par = max(distancias, key=lambda x: distancias[x])"
   ]
  },
  {
   "cell_type": "code",
   "execution_count": 172,
   "id": "60d74cce-3c56-4464-9cac-e28f4758e4bd",
   "metadata": {},
   "outputs": [
    {
     "name": "stdout",
     "output_type": "stream",
     "text": [
      "\n",
      "Par más cercano: (0, 7) Distancia: 12.765340345231055\n",
      "Par más lejano: (2, 8) Distancia: 92.6527650252514\n"
     ]
    }
   ],
   "source": [
    "# 4. Encuentra el par de puntos más cercanos y el más lejano.\n",
    "print(\"\\nPar más cercano:\", min_par, \"Distancia:\", distancias[min_par])\n",
    "print(\"Par más lejano:\", max_par, \"Distancia:\", distancias[max_par])"
   ]
  },
  {
   "cell_type": "code",
   "execution_count": null,
   "id": "9258490a-0939-4d1e-bfc7-ccba03e41b24",
   "metadata": {},
   "outputs": [],
   "source": []
  },
  {
   "cell_type": "markdown",
   "id": "83110dd5-9367-4715-9160-54cb296b7aa9",
   "metadata": {},
   "source": [
    "### Ejercicio7: Análisis de series temporales\n",
    "\n",
    "1. Genera con NumPy una Serie de 365 valores aleatorios entre 10 y 40 (temperatura diaria de un año).\n",
    "2. Convierte en un DataFrame con columnas \"Día\" y \"Temperatura\".\n",
    "3. Usa un bucle para calcular la media de cada mes (asume 30 días por mes).\n",
    "4. Guarda las medias en un diccionario {Mes: Promedio}.\n",
    "5. Convierte el diccionario en una Series y ordénala de mayor a menor."
   ]
  },
  {
   "cell_type": "code",
   "execution_count": 173,
   "id": "3e41422f-9432-4829-b88f-144bd2de1a99",
   "metadata": {},
   "outputs": [],
   "source": [
    "# 1. Genera con NumPy una Serie de 365 valores aleatorios entre 10 y 40 (temperatura diaria de un año).\n",
    "temps_anual = np.random.uniform(10, 40, 365)"
   ]
  },
  {
   "cell_type": "code",
   "execution_count": 174,
   "id": "310913cb-6fac-48f0-a9bf-58247f0412c5",
   "metadata": {},
   "outputs": [],
   "source": [
    "#2. Convierte en un DataFrame con columnas \"Día\" y \"Temperatura\".\n",
    "df_anual = pd.DataFrame({\"Día\": range(1, 366), \"Temperatura\": temps_anual})\n",
    "promedios_mes = {}"
   ]
  },
  {
   "cell_type": "code",
   "execution_count": 175,
   "id": "1be7cf00-359b-4a61-816b-54cb22c7073e",
   "metadata": {},
   "outputs": [],
   "source": [
    "# 3. Usa un bucle para calcular la media de cada mes (asume 30 días por mes).\n",
    "for mes in range(12):\n",
    "    inicio = mes * 30\n",
    "    fin = inicio + 30\n",
    "    promedio = np.mean(temps_anual[inicio:fin])\n",
    "    promedios_mes[f\"Mes_{mes+1}\"] = promedio"
   ]
  },
  {
   "cell_type": "code",
   "execution_count": 176,
   "id": "3a5118c5-a8a9-49dc-aad1-f0ebce85134b",
   "metadata": {},
   "outputs": [
    {
     "name": "stdout",
     "output_type": "stream",
     "text": [
      "Mes_11    27.990572\n",
      "Mes_3     27.605966\n",
      "Mes_8     26.291225\n",
      "Mes_5     26.248306\n",
      "Mes_10    25.859197\n",
      "Mes_9     25.308764\n",
      "Mes_4     23.728102\n",
      "Mes_12    23.112014\n",
      "Mes_6     22.801403\n",
      "Mes_1     22.476924\n",
      "Mes_7     22.431160\n",
      "Mes_2     22.293835\n",
      "dtype: float64\n"
     ]
    }
   ],
   "source": [
    "# 5. Convierte el diccionario en una Series y ordénala de mayor a menor.\n",
    "serie_mes = pd.Series(promedios_mes).sort_values(ascending=False)\n",
    "print(serie_mes)"
   ]
  },
  {
   "cell_type": "code",
   "execution_count": null,
   "id": "e636ef01-59a9-4d3d-b2be-a2f8dca0ea26",
   "metadata": {},
   "outputs": [],
   "source": []
  },
  {
   "cell_type": "markdown",
   "id": "696cbd58-a2f3-4f4b-927b-cf106b0b1eab",
   "metadata": {},
   "source": [
    "### Ejercicio8: Actividad neuronal por regiones\n",
    "\n",
    "1. Genera una matriz 100x5 con NumPy representando la actividad de 100 neuronas en 5 regiones cerebrales (valores entre 0 y 1 como tasas de disparo).\n",
    "2. Convierte la matriz en un DataFrame con columnas \"Región_1\"... \"Región_5\".\n",
    "3. Usa un bucle para calcular la actividad media de cada región y guárdala en un diccionario.\n",
    "4. Convierte el diccionario en una Series y ordénala de mayor a menor."
   ]
  },
  {
   "cell_type": "code",
   "execution_count": 177,
   "id": "a2935c58-c68d-47d9-b0c1-b2f2218cc663",
   "metadata": {},
   "outputs": [],
   "source": [
    "# Genera una matriz 100x5 con NumPy representando la actividad de 100 neuronas en 5 regiones cerebrales (valores entre 0 y 1 como tasas de disparo).\n",
    "actividad = np.random.rand(100, 5)"
   ]
  },
  {
   "cell_type": "code",
   "execution_count": 178,
   "id": "e9ca3c2d-8aee-4af9-b3be-c19c42334a8e",
   "metadata": {},
   "outputs": [],
   "source": [
    "# Convierte la matriz en un DataFrame con columnas \"Región_1\"... \"Región_5\".\n",
    "df_neuronas = pd.DataFrame(actividad, columns=[f\"Región_{i+1}\" for i in range(5)])\n",
    "promedios_regiones = {}"
   ]
  },
  {
   "cell_type": "code",
   "execution_count": 179,
   "id": "51c16670-3500-4d76-b9bd-92d6d007f5e7",
   "metadata": {},
   "outputs": [],
   "source": [
    "# Usa un bucle para calcular la actividad media de cada región y guárdala en un diccionario.\n",
    "for col in df_neuronas.columns:\n",
    "    promedios_regiones[col] = df_neuronas[col].mean()"
   ]
  },
  {
   "cell_type": "code",
   "execution_count": 180,
   "id": "ed86cd86-d509-4cab-9d24-886178b1ff4c",
   "metadata": {},
   "outputs": [
    {
     "name": "stdout",
     "output_type": "stream",
     "text": [
      "Región_5    0.534697\n",
      "Región_3    0.496825\n",
      "Región_1    0.495318\n",
      "Región_4    0.486922\n",
      "Región_2    0.479026\n",
      "dtype: float64\n"
     ]
    }
   ],
   "source": [
    "# Convierte el diccionario en una Series y ordénala de mayor a menor.\n",
    "serie_regiones = pd.Series(promedios_regiones).sort_values(ascending=False)\n",
    "print(serie_regiones)"
   ]
  },
  {
   "cell_type": "markdown",
   "id": "07f21b80-6ed2-4251-979f-e8c200c8b43d",
   "metadata": {},
   "source": [
    "### Ejercicio9: Conectividad funcional (correlaciones)\n",
    "\n",
    "1. Simula con NumPy una matriz 200x4 con series de tiempo de actividad fMRI en 4 áreas cerebrales.\n",
    "2. Convierte en un DataFrame con columnas \"Área_1\"... \"Área_4\".\n",
    "3. Con un bucle, calcula la correlación de Pearson entre todas las parejas de áreas y guárdala en un diccionario con claves (Área_i, Área_j).\n",
    "4. Convierte el diccionario en un DataFrame cuadrado (matriz de conectividad)."
   ]
  },
  {
   "cell_type": "code",
   "execution_count": 181,
   "id": "82f44e49-10b1-42f7-ad98-4398310f5ddc",
   "metadata": {},
   "outputs": [],
   "source": [
    "# Simula con NumPy una matriz 200x4 con series de tiempo de actividad fMRI en 4 áreas cerebrales.\n",
    "fMRI = np.random.rand(200, 4)"
   ]
  },
  {
   "cell_type": "code",
   "execution_count": 182,
   "id": "8a9efe9d-3ac4-4ffc-80e0-12ff5ae7ea6b",
   "metadata": {},
   "outputs": [],
   "source": [
    "# Convierte en un DataFrame con columnas \"Área_1\"... \"Área_4\".\n",
    "df_fMRI = pd.DataFrame(fMRI, columns=[f\"Área_{i+1}\" for i in range(4)])\n",
    "correlaciones = {}"
   ]
  },
  {
   "cell_type": "code",
   "execution_count": 183,
   "id": "2fed866e-ced9-451b-9ef6-233f93b610b5",
   "metadata": {},
   "outputs": [],
   "source": [
    "# Con un bucle, calcula la correlación de Pearson entre todas las parejas de áreas y guárdala en un diccionario con claves (Área_i, Área_j).\n",
    "for i in df_fMRI.columns:\n",
    "    for j in df_fMRI.columns:\n",
    "        corr = df_fMRI[i].corr(df_fMRI[j])\n",
    "        correlaciones[(i, j)] = corr"
   ]
  },
  {
   "cell_type": "code",
   "execution_count": 184,
   "id": "8ec322c6-621f-44d8-b07c-6c5921a7099b",
   "metadata": {},
   "outputs": [
    {
     "name": "stdout",
     "output_type": "stream",
     "text": [
      "          Área_1    Área_2    Área_3    Área_4\n",
      "Área_1  1.000000 -0.043309  0.083641 -0.038696\n",
      "Área_2 -0.043309  1.000000  0.068954 -0.027802\n",
      "Área_3  0.083641  0.068954  1.000000  0.054358\n",
      "Área_4 -0.038696 -0.027802  0.054358  1.000000\n"
     ]
    }
   ],
   "source": [
    "# Convierte el diccionario en un DataFrame cuadrado (matriz de conectividad).\n",
    "df_conectividad = pd.DataFrame(np.zeros((4, 4)), columns=df_fMRI.columns, index=df_fMRI.columns)\n",
    "for (i, j), val in correlaciones.items():\n",
    "    df_conectividad.loc[i, j] = val\n",
    "\n",
    "print(df_conectividad)"
   ]
  },
  {
   "cell_type": "markdown",
   "id": "c1444400-53e6-4b0a-8c84-07327492c649",
   "metadata": {},
   "source": [
    "### Ejercicio10: Potenciales de acción por neurona\n",
    "\n",
    "1. Genera una lista de 50 neuronas.\n",
    "2. Para cada neurona, simula con NumPy una Serie de 100 ms de actividad (valores enteros 0 o 1 indicando si disparó o no).\n",
    "3. Guarda los resultados en un diccionario {Neurona: Serie}.\n",
    "4. Crea un DataFrame con todas las neuronas (filas) y tiempos (columnas).\n",
    "5. Usa un bucle para contar cuántos disparos totales tuvo cada neurona y genera una Series con esos valores."
   ]
  },
  {
   "cell_type": "code",
   "execution_count": 185,
   "id": "38ec513f-c95b-4b05-948f-b64e61f5eab5",
   "metadata": {},
   "outputs": [],
   "source": [
    "# 1. Genera una lista de 50 neuronas.\n",
    "neuronas = [f\"Neurona_{i+1}\" for i in range(50)]"
   ]
  },
  {
   "cell_type": "code",
   "execution_count": 186,
   "id": "2175f759-5c23-4c8b-833e-4d50c2741e09",
   "metadata": {},
   "outputs": [],
   "source": [
    "# 2. Para cada neurona, simula con NumPy una Serie de 100 ms de actividad (valores enteros 0 o 1 indicando si disparó o no).\n",
    "disparos = {n: np.random.randint(0, 2, 100) for n in neuronas}"
   ]
  },
  {
   "cell_type": "code",
   "execution_count": 187,
   "id": "96613360-1197-478c-ae46-24634f74d8f9",
   "metadata": {},
   "outputs": [],
   "source": [
    "# 3. Guarda los resultados en un diccionario {Neurona: Serie}.\n",
    "conteo_disparos = pd.Series({n: sum(s) for n, s in disparos.items()})"
   ]
  },
  {
   "cell_type": "code",
   "execution_count": 188,
   "id": "ea6999c9-6295-41d5-9004-a4cfc70e6ef3",
   "metadata": {},
   "outputs": [],
   "source": [
    "# 4. Crea un DataFrame con todas las neuronas (filas) y tiempos (columnas).\n",
    "df_disparos = pd.DataFrame(disparos).T"
   ]
  },
  {
   "cell_type": "code",
   "execution_count": 189,
   "id": "1ddb64c5-528f-48a0-8809-0156caec7785",
   "metadata": {},
   "outputs": [
    {
     "name": "stdout",
     "output_type": "stream",
     "text": [
      "\n",
      "Disparos totales por neurona:\n",
      " Neurona_1     53\n",
      "Neurona_2     47\n",
      "Neurona_3     46\n",
      "Neurona_4     53\n",
      "Neurona_5     50\n",
      "Neurona_6     51\n",
      "Neurona_7     44\n",
      "Neurona_8     49\n",
      "Neurona_9     43\n",
      "Neurona_10    56\n",
      "Neurona_11    56\n",
      "Neurona_12    49\n",
      "Neurona_13    41\n",
      "Neurona_14    52\n",
      "Neurona_15    44\n",
      "Neurona_16    50\n",
      "Neurona_17    49\n",
      "Neurona_18    44\n",
      "Neurona_19    42\n",
      "Neurona_20    55\n",
      "Neurona_21    56\n",
      "Neurona_22    50\n",
      "Neurona_23    56\n",
      "Neurona_24    46\n",
      "Neurona_25    49\n",
      "Neurona_26    52\n",
      "Neurona_27    50\n",
      "Neurona_28    55\n",
      "Neurona_29    56\n",
      "Neurona_30    51\n",
      "Neurona_31    48\n",
      "Neurona_32    42\n",
      "Neurona_33    52\n",
      "Neurona_34    54\n",
      "Neurona_35    49\n",
      "Neurona_36    40\n",
      "Neurona_37    59\n",
      "Neurona_38    45\n",
      "Neurona_39    59\n",
      "Neurona_40    47\n",
      "Neurona_41    45\n",
      "Neurona_42    53\n",
      "Neurona_43    51\n",
      "Neurona_44    49\n",
      "Neurona_45    45\n",
      "Neurona_46    50\n",
      "Neurona_47    52\n",
      "Neurona_48    44\n",
      "Neurona_49    52\n",
      "Neurona_50    53\n",
      "dtype: int32\n"
     ]
    }
   ],
   "source": [
    "print(\"\\nDisparos totales por neurona:\\n\", conteo_disparos)"
   ]
  },
  {
   "cell_type": "markdown",
   "id": "b3fa8e28-a6aa-4ea0-a297-8df5b1077855",
   "metadata": {},
   "source": [
    "### Ejercicio11: EEG por canales\n",
    "\n",
    "1. Simula una matriz 500x8 con NumPy representando 500 muestras de señal EEG en 8 canales (valores flotantes entre -100 y 100 µV).\n",
    "2. Convierte la matriz en un DataFrame con columnas \"Canal_1\"... \"Canal_8\".\n",
    "3. Usa un bucle para calcular la potencia media de cada canal (media del cuadrado de la señal).\n",
    "4. Guarda los resultados en un diccionario y conviértelo en una Series ordenada.\n",
    "5. Identifica el canal con mayor potencia."
   ]
  },
  {
   "cell_type": "code",
   "execution_count": 190,
   "id": "ed6f501d-9194-4e56-bb01-ec654605e458",
   "metadata": {},
   "outputs": [],
   "source": [
    "# Simula una matriz 500x8 con NumPy representando 500 muestras de señal EEG en 8 canales (valores flotantes entre -100 y 100 µV).\n",
    "eeg = np.random.uniform(-100, 100, size=(500, 8))"
   ]
  },
  {
   "cell_type": "code",
   "execution_count": 191,
   "id": "49841c4b-ad18-4a20-b7dc-3304f96e0995",
   "metadata": {},
   "outputs": [],
   "source": [
    "# Convierte la matriz en un DataFrame con columnas \"Canal_1\"... \"Canal_8\".\n",
    "df_eeg = pd.DataFrame(eeg, columns=[f\"Canal_{i+1}\" for i in range(8)])\n",
    "potencias = {}"
   ]
  },
  {
   "cell_type": "code",
   "execution_count": 192,
   "id": "220a2853-e877-414a-9795-48e70cd204f4",
   "metadata": {},
   "outputs": [],
   "source": [
    "# Usa un bucle para calcular la potencia media de cada canal (media del cuadrado de la señal).\n",
    "for col in df_eeg.columns:\n",
    "    potencias[col] = np.mean(df_eeg[col]**2)"
   ]
  },
  {
   "cell_type": "code",
   "execution_count": 193,
   "id": "dc42a5b9-b22a-4190-b9e9-ca76eccc141c",
   "metadata": {},
   "outputs": [],
   "source": [
    "# Guarda los resultados en un diccionario y conviértelo en una Series ordenada.\n",
    "serie_potencia = pd.Series(potencias).sort_values(ascending=False)"
   ]
  },
  {
   "cell_type": "code",
   "execution_count": 194,
   "id": "35e18d8c-104b-4674-9ccf-4ae7613ea873",
   "metadata": {},
   "outputs": [
    {
     "name": "stdout",
     "output_type": "stream",
     "text": [
      "Canal con mayor potencia: Canal_5\n"
     ]
    }
   ],
   "source": [
    "# Identifica el canal con mayor potencia.\n",
    "canal_max = serie_potencia.idxmax()\n",
    "print(\"Canal con mayor potencia:\", canal_max)"
   ]
  },
  {
   "cell_type": "markdown",
   "id": "64464de2-850c-4c86-b245-843e183f0a68",
   "metadata": {},
   "source": [
    "### Ejercicio12: Análisis de respuestas a estímulos\n",
    "\n",
    "1. Genera un DataFrame con 30 sujetos (filas) y 3 condiciones experimentales (\"Cond_A\", \"Cond_B\", \"Cond_C\") con valores de tiempo de reacción simulados (valores entre 200–800 ms).\n",
    "2. Usa un bucle para calcular el promedio por condición en toda la muestra.\n",
    "3. Convierte los resultados en un diccionario y luego en una Series.\n",
    "4. Agrega una columna \"Mejor_condición\" al DataFrame indicando la condición más rápida por sujeto.\n",
    "5. Cuenta cuántos sujetos respondieron mejor en cada condición."
   ]
  },
  {
   "cell_type": "code",
   "execution_count": 195,
   "id": "c393eb11-d4dd-46aa-a710-4a4ead5d049d",
   "metadata": {},
   "outputs": [],
   "source": [
    "# Genera un DataFrame con 30 sujetos (filas) y 3 condiciones experimentales (\"Cond_A\", \"Cond_B\", \"Cond_C\") con valores de tiempo de reacción simulados (valores entre 200–800 ms).\n",
    "df_sujetos = pd.DataFrame({\n",
    "    \"Cond_A\": np.random.uniform(200, 800, 30),\n",
    "    \"Cond_B\": np.random.uniform(200, 800, 30),\n",
    "    \"Cond_C\": np.random.uniform(200, 800, 30)\n",
    "})"
   ]
  },
  {
   "cell_type": "code",
   "execution_count": 196,
   "id": "ebd7c105-85eb-4762-9a63-1515dd3313a4",
   "metadata": {},
   "outputs": [],
   "source": [
    "# Usa un bucle para calcular el promedio por condición en toda la muestra.\n",
    "promedios_cond = {}\n",
    "for col in df_sujetos.columns:\n",
    "    promedios_cond[col] = df_sujetos[col].mean()"
   ]
  },
  {
   "cell_type": "code",
   "execution_count": 197,
   "id": "0fac6b4c-ba2b-4e05-88b5-c78c1bc674cc",
   "metadata": {},
   "outputs": [],
   "source": [
    "# Convierte los resultados en un diccionario y luego en una Series.\n",
    "serie_cond = pd.Series(promedios_cond)"
   ]
  },
  {
   "cell_type": "code",
   "execution_count": 198,
   "id": "b895060e-afb6-42d4-9317-9f8470596034",
   "metadata": {},
   "outputs": [
    {
     "name": "stdout",
     "output_type": "stream",
     "text": [
      "Mejor_condición\n",
      "Cond_A    12\n",
      "Cond_C    10\n",
      "Cond_B     8\n",
      "Name: count, dtype: int64\n"
     ]
    }
   ],
   "source": [
    "# Agrega una columna \"Mejor_condición\" al DataFrame indicando la condición más rápida por sujeto.\n",
    "df_sujetos[\"Mejor_condición\"] = df_sujetos.idxmin(axis=1)\n",
    "conteo_mejor = df_sujetos[\"Mejor_condición\"].value_counts()\n",
    "print(conteo_mejor)"
   ]
  },
  {
   "cell_type": "code",
   "execution_count": null,
   "id": "82410933-c1e0-4d61-9a9b-31fb9510b907",
   "metadata": {},
   "outputs": [],
   "source": []
  },
  {
   "cell_type": "code",
   "execution_count": null,
   "id": "de75c5d1-1644-44e6-b0da-b407b34d78f9",
   "metadata": {},
   "outputs": [],
   "source": []
  }
 ],
 "metadata": {
  "kernelspec": {
   "display_name": "Python 3 (ipykernel)",
   "language": "python",
   "name": "python3"
  },
  "language_info": {
   "codemirror_mode": {
    "name": "ipython",
    "version": 3
   },
   "file_extension": ".py",
   "mimetype": "text/x-python",
   "name": "python",
   "nbconvert_exporter": "python",
   "pygments_lexer": "ipython3",
   "version": "3.10.4"
  }
 },
 "nbformat": 4,
 "nbformat_minor": 5
}
