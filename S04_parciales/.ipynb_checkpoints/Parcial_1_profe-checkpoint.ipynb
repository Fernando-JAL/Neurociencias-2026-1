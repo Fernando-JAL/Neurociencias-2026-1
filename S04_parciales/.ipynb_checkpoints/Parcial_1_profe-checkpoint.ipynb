{
 "cells": [
  {
   "cell_type": "markdown",
   "id": "62aed855-3061-45f4-88bf-2a75a8d341c5",
   "metadata": {},
   "source": [
    "🔹 Ejercicio Frecuencia de números en matriz\n",
    "\n",
    "Genera una matriz 6x6 de enteros aleatorios entre 1 y 10 usando NumPy.\n",
    "\n",
    "Recorre la matriz y guarda en un diccionario la frecuencia de cada número.\n",
    "\n",
    "Convierte el diccionario en una lista de tuplas (número, frecuencia) y ordénala de mayor a menor frecuencia.\n",
    "\n",
    "Imprime la matriz, el diccionario y la lista ordenada."
   ]
  },
  {
   "cell_type": "code",
   "execution_count": 21,
   "id": "f75fc7af-a671-443e-9a59-0b168de59570",
   "metadata": {},
   "outputs": [],
   "source": [
    "# Genera una matriz 6x6 de enteros aleatorios entre 1 y 10 usando NumPy.\n",
    "import numpy as np"
   ]
  },
  {
   "cell_type": "code",
   "execution_count": 213,
   "id": "89970c65-f293-4a8b-b1a4-3c6edbb858d3",
   "metadata": {},
   "outputs": [
    {
     "data": {
      "text/plain": [
       "array([[10,  9,  7,  6,  1,  1],\n",
       "       [ 7,  4,  7,  8,  6,  3],\n",
       "       [ 7,  1,  5, 10, 10, 10],\n",
       "       [ 3,  9,  6,  8,  2,  9],\n",
       "       [ 6, 10,  9,  2,  6,  3],\n",
       "       [ 8,  8,  4,  9, 10,  6]], dtype=int32)"
      ]
     },
     "execution_count": 213,
     "metadata": {},
     "output_type": "execute_result"
    }
   ],
   "source": [
    "matriz1 = np.random.randint(1,11,size=[6,6])\n",
    "matriz1"
   ]
  },
  {
   "cell_type": "code",
   "execution_count": 218,
   "id": "ff1ba4a3-a14d-43c7-bb97-b6ff7ad93228",
   "metadata": {},
   "outputs": [],
   "source": [
    "# Recorre la matriz y guarda en un diccionario la frecuencia de cada número.\n",
    "frecuencias = {}"
   ]
  },
  {
   "cell_type": "code",
   "execution_count": 219,
   "id": "3cfafb10-21e0-420b-8a02-f377032de871",
   "metadata": {},
   "outputs": [
    {
     "name": "stdout",
     "output_type": "stream",
     "text": [
      "\n",
      "Frecuencias: {10: 6, 9: 5, 7: 4, 6: 6, 1: 3, 4: 2, 8: 4, 3: 3, 5: 1, 2: 2}\n"
     ]
    }
   ],
   "source": [
    "for fila in matriz1:\n",
    "    for valor in fila:\n",
    "        valor = int(valor)\n",
    "        if valor in frecuencias:\n",
    "            frecuencias[valor] += 1\n",
    "        else:\n",
    "            frecuencias[valor] = 1\n",
    "\n",
    "print(\"\\nFrecuencias:\", frecuencias)"
   ]
  },
  {
   "cell_type": "code",
   "execution_count": 220,
   "id": "e3d1b983-92cd-40cb-94fa-340b71eb4026",
   "metadata": {},
   "outputs": [
    {
     "name": "stdout",
     "output_type": "stream",
     "text": [
      "Diccionario de frecuencias:\n",
      "{10: 6, 9: 5, 7: 4, 6: 6, 1: 3, 4: 2, 8: 4, 3: 3, 5: 1, 2: 2}\n"
     ]
    }
   ],
   "source": [
    "print(\"Diccionario de frecuencias:\")\n",
    "print(frecuencias)"
   ]
  },
  {
   "cell_type": "code",
   "execution_count": 222,
   "id": "8b9472b3-7310-4487-881a-f67841127de4",
   "metadata": {},
   "outputs": [],
   "source": [
    "# Convierte el diccionario en una lista de tuplas (número, frecuencia) y ordénala de mayor a menor frecuencia.\n",
    "tuplad = []\n",
    "for valor in frecuencias:\n",
    "    tuplad.append((valor, frecuencias[valor]))"
   ]
  },
  {
   "cell_type": "code",
   "execution_count": 223,
   "id": "eadccb26-a864-4f81-b5fb-2bc2ed063fdd",
   "metadata": {},
   "outputs": [
    {
     "data": {
      "text/plain": [
       "[(10, 8),\n",
       " (4, 5),\n",
       " (1, 4),\n",
       " (5, 4),\n",
       " (6, 4),\n",
       " (2, 3),\n",
       " (9, 3),\n",
       " (8, 2),\n",
       " (7, 2),\n",
       " (3, 1)]"
      ]
     },
     "execution_count": 223,
     "metadata": {},
     "output_type": "execute_result"
    }
   ],
   "source": [
    "def frecuenciaord(tupla):\n",
    "    return tupla[1]\n",
    "\n",
    "tupla_ordenada = sorted(tupla_dic, key=frecuenciaord , reverse=True)\n",
    "tupla_ordenada\n"
   ]
  },
  {
   "cell_type": "markdown",
   "id": "a7dcab51-cf15-49bd-8648-c0004bb2a6ca",
   "metadata": {},
   "source": [
    "🔹 Ejercicio Promedios por columna y gráfico de líneas\n",
    "\n",
    "Crea una matriz 10x5 con enteros entre 10 y 100.\n",
    "\n",
    "Calcula el promedio de cada columna usando un bucle.\n",
    "\n",
    "Guarda los resultados en un diccionario con claves \"col_1\" ... \"col_5\".\n",
    "\n",
    "Convierte los valores en una lista y grafícalos en una línea (line plot) mostrando el promedio por columna."
   ]
  },
  {
   "cell_type": "code",
   "execution_count": null,
   "id": "d735c9fd-c567-4b5d-8fbe-27e895e17295",
   "metadata": {},
   "outputs": [],
   "source": []
  },
  {
   "cell_type": "code",
   "execution_count": 126,
   "id": "5c16be1f-5eda-44d4-b723-3c0c7d78e104",
   "metadata": {},
   "outputs": [
    {
     "data": {
      "text/plain": [
       "array([[ 16,  32,  79,  35,  77],\n",
       "       [ 69,  44,  76,  80,  91],\n",
       "       [ 26,  63, 100,  60,  87],\n",
       "       [ 88,  86,  33,  73,  91],\n",
       "       [ 44,  99,  12,  34,  51],\n",
       "       [ 25,  45,  34,  90,  84],\n",
       "       [ 75,  35,  22,  40,  81],\n",
       "       [ 41,  61, 100,  18,  93],\n",
       "       [ 46,  29,  78,  96,  70],\n",
       "       [ 50,  71,  88,  61,  51]], dtype=int32)"
      ]
     },
     "execution_count": 126,
     "metadata": {},
     "output_type": "execute_result"
    }
   ],
   "source": [
    "# Crea una matriz 10x5 con enteros entre 10 y 100.\n",
    "matriz2 = np.random.randint(10,101,size=[10,5])\n",
    "matriz2"
   ]
  },
  {
   "cell_type": "code",
   "execution_count": 188,
   "id": "466f4d5a-cec6-41f9-853b-60f20bd1857c",
   "metadata": {},
   "outputs": [
    {
     "data": {
      "text/plain": [
       "(10, 5)"
      ]
     },
     "execution_count": 188,
     "metadata": {},
     "output_type": "execute_result"
    }
   ],
   "source": [
    "# Calcula el promedio de cada columna usando un bucle.\n",
    "filas, columnas = matriz2.shape\n",
    "filas, columnas"
   ]
  },
  {
   "cell_type": "code",
   "execution_count": 191,
   "id": "396cfeb3-c05b-4c7c-857f-1cfcbedb06f8",
   "metadata": {},
   "outputs": [],
   "source": [
    "for col in range(columnas):\n",
    "    suma = 0\n",
    "    for fila in range(filas):\n",
    "        suma += matriz2[fila][col] "
   ]
  },
  {
   "cell_type": "code",
   "execution_count": 192,
   "id": "5027ff96-588f-4263-82ef-78fdc904be20",
   "metadata": {},
   "outputs": [
    {
     "name": "stdout",
     "output_type": "stream",
     "text": [
      "Promedio de la columna 5 = 77.60\n"
     ]
    }
   ],
   "source": [
    "promedio = suma / filas\n",
    "print(f\"Promedio de la columna {col + 1} = {promedio:.2f}\")"
   ]
  },
  {
   "cell_type": "code",
   "execution_count": 130,
   "id": "41d58f4b-94a1-495f-9782-8a2c68ba06d1",
   "metadata": {},
   "outputs": [],
   "source": [
    "# Guarda los resultados en un diccionario con claves \"col_1\" ... \"col_5\"."
   ]
  },
  {
   "cell_type": "code",
   "execution_count": null,
   "id": "ef13e6b8-8dc1-4fc2-a6a2-32078496ae7c",
   "metadata": {},
   "outputs": [],
   "source": []
  },
  {
   "cell_type": "code",
   "execution_count": null,
   "id": "0e8f885d-42fc-4b71-ae81-c1722bb070f5",
   "metadata": {},
   "outputs": [],
   "source": [
    "# Convierte los valores en una lista y grafícalos en una línea (line plot) mostrando el promedio por columna."
   ]
  },
  {
   "cell_type": "code",
   "execution_count": null,
   "id": "e3cfccff-060b-4e83-bb5b-86711a76cf5b",
   "metadata": {},
   "outputs": [],
   "source": []
  },
  {
   "cell_type": "markdown",
   "id": "274e5828-168a-4eae-bf98-4ee05a06436a",
   "metadata": {},
   "source": [
    "🔹 Ejercicio Evolución temporal simulada\n",
    "\n",
    "Simula con NumPy una lista de 30 días con valores aleatorios de temperatura entre 15°C y 35°C.\n",
    "\n",
    "Almacena los valores en un diccionario con claves \"día_1\", \"día_2\", ....\n",
    "\n",
    "Usa un bucle para crear una lista con los días donde la temperatura superó 30°C.\n",
    "\n",
    "Grafica las temperaturas en un gráfico de línea con puntos marcados (scatter + line plot).\n",
    "\n",
    "Marca en rojo los días con temperatura > 30°C."
   ]
  },
  {
   "cell_type": "code",
   "execution_count": 228,
   "id": "535ed15c-d851-4d4e-93fd-d4c493267327",
   "metadata": {},
   "outputs": [
    {
     "data": {
      "text/plain": [
       "array([[25],\n",
       "       [31],\n",
       "       [35],\n",
       "       [31],\n",
       "       [32],\n",
       "       [28],\n",
       "       [27],\n",
       "       [18],\n",
       "       [32],\n",
       "       [25],\n",
       "       [27],\n",
       "       [26],\n",
       "       [15],\n",
       "       [20],\n",
       "       [15],\n",
       "       [28],\n",
       "       [22],\n",
       "       [20],\n",
       "       [32],\n",
       "       [35],\n",
       "       [31],\n",
       "       [32],\n",
       "       [19],\n",
       "       [22],\n",
       "       [25],\n",
       "       [27],\n",
       "       [17],\n",
       "       [31],\n",
       "       [24],\n",
       "       [24]], dtype=int32)"
      ]
     },
     "execution_count": 228,
     "metadata": {},
     "output_type": "execute_result"
    }
   ],
   "source": [
    "# Simula con NumPy una lista de 30 días con valores aleatorios de temperatura entre 15°C y 35°C.\n",
    "matriz3 = np.random.randint(15,36,size=[30,1])\n",
    "matriz3"
   ]
  },
  {
   "cell_type": "code",
   "execution_count": 241,
   "id": "60068de4-57f9-4e3f-9de6-6bd00e405fcc",
   "metadata": {},
   "outputs": [
    {
     "name": "stdout",
     "output_type": "stream",
     "text": [
      "Diccionario de temperaturas: {'dia_1': 25, 'dia_2': 31, 'dia_3': 35, 'dia_4': 31, 'dia_5': 32, 'dia_6': 28, 'dia_7': 27, 'dia_8': 18, 'dia_9': 32, 'dia_10': 25, 'dia_11': 27, 'dia_12': 26, 'dia_13': 15, 'dia_14': 20, 'dia_15': 15, 'dia_16': 28, 'dia_17': 22, 'dia_18': 20, 'dia_19': 32, 'dia_20': 35, 'dia_21': 31, 'dia_22': 32, 'dia_23': 19, 'dia_24': 22, 'dia_25': 25, 'dia_26': 27, 'dia_27': 17, 'dia_28': 31, 'dia_29': 24, 'dia_30': 24}\n"
     ]
    }
   ],
   "source": [
    "# Almacena los valores en un diccionario con claves \"día_1\", \"día_2\", ....\n",
    "tempdias = {f\"dia_{i+1}\": int(temp[0]) for i, temp in enumerate(matriz3)}\n",
    "\n",
    "print(\"Diccionario de temperaturas:\", tempdias)"
   ]
  },
  {
   "cell_type": "code",
   "execution_count": null,
   "id": "750fb4da-1e64-488f-ae0f-cab6d928bd56",
   "metadata": {},
   "outputs": [],
   "source": []
  },
  {
   "cell_type": "code",
   "execution_count": null,
   "id": "efd0a03b-385f-436a-bbc8-7d867b919d93",
   "metadata": {},
   "outputs": [],
   "source": []
  },
  {
   "cell_type": "code",
   "execution_count": 245,
   "id": "6cd971f2-68d5-4e8b-8698-331d6f0eca93",
   "metadata": {},
   "outputs": [
    {
     "name": "stdout",
     "output_type": "stream",
     "text": [
      "Días con más de 30°C: ['dia_2', 'dia_3', 'dia_4', 'dia_5', 'dia_9', 'dia_19', 'dia_20', 'dia_21', 'dia_22', 'dia_28']\n"
     ]
    }
   ],
   "source": [
    "# Usa un bucle para crear una lista con los días donde la temperatura superó 30°C.\n",
    "temp30 = []\n",
    "\n",
    "for dia, temp in tempdias.items():\n",
    "    if temp > 30:\n",
    "        temp30.append(dia)\n",
    "\n",
    "print(\"Días con más de 30°C:\", dias_calor)"
   ]
  },
  {
   "cell_type": "code",
   "execution_count": 248,
   "id": "73ffcdba-efe0-4022-ad30-9ce262f893f5",
   "metadata": {},
   "outputs": [],
   "source": [
    "# Grafica las temperaturas en un gráfico de línea con puntos marcados (scatter + line plot)."
   ]
  },
  {
   "cell_type": "code",
   "execution_count": 246,
   "id": "6ece24c1-e865-4fc7-a51a-c0be23ce0a65",
   "metadata": {},
   "outputs": [],
   "source": [
    "import matplotlib.pyplot as plt"
   ]
  },
  {
   "cell_type": "code",
   "execution_count": 249,
   "id": "e24966a2-6eb5-4f3f-98a6-e14da4ce06e7",
   "metadata": {},
   "outputs": [],
   "source": [
    "dias = list(tempdias.keys())\n",
    "temps = list(tempdias.values())"
   ]
  },
  {
   "cell_type": "code",
   "execution_count": 258,
   "id": "9b5b35cd-b7e2-4064-a23a-824b0518755d",
   "metadata": {},
   "outputs": [
    {
     "data": {
      "text/plain": [
       "Text(0.5, 1.0, 'Temperaturas (30 días)')"
      ]
     },
     "execution_count": 258,
     "metadata": {},
     "output_type": "execute_result"
    },
    {
     "data": {
      "image/png": "[encoded data removed]",
      "text/plain": [
       "<Figure size 640x480 with 1 Axes>"
      ]
     },
     "metadata": {},
     "output_type": "display_data"
    }
   ],
   "source": [
    "plt.plot(dias, temps, color='lightblue', linewidth=2, label='Temperatura')\n",
    "plt.xlabel(\"Días\")\n",
    "plt.ylabel(\"Temperatura (°C)\")\n",
    "plt.title(\"Temperaturas (30 días)\")"
   ]
  },
  {
   "cell_type": "code",
   "execution_count": 257,
   "id": "a3d4c7c2-2c6b-4157-a278-7617f1e5772b",
   "metadata": {},
   "outputs": [
    {
     "data": {
      "text/plain": [
       "Text(0.5, 1.0, 'Temperaturas (30 días)')"
      ]
     },
     "execution_count": 257,
     "metadata": {},
     "output_type": "execute_result"
    },
    {
     "data": {
      "image/png": "[encoded data removed]",
      "text/plain": [
       "<Figure size 640x480 with 1 Axes>"
      ]
     },
     "metadata": {},
     "output_type": "display_data"
    }
   ],
   "source": [
    "plt.scatter(dias, temps, color='lightblue', s=50, label='Días')\n",
    "plt.xlabel(\"Días\")\n",
    "plt.ylabel(\"Temperatura (°C)\")\n",
    "plt.title(\"Temperaturas (30 días)\")"
   ]
  },
  {
   "cell_type": "code",
   "execution_count": 259,
   "id": "1f111948-982b-43d4-ad30-3d6002ce5fe6",
   "metadata": {},
   "outputs": [
    {
     "data": {
      "text/plain": [
       "Text(0.5, 1.0, 'Temperaturas (30 días)')"
      ]
     },
     "execution_count": 259,
     "metadata": {},
     "output_type": "execute_result"
    },
    {
     "data": {
      "image/png": "[encoded data removed]",
      "text/plain": [
       "<Figure size 640x480 with 1 Axes>"
      ]
     },
     "metadata": {},
     "output_type": "display_data"
    }
   ],
   "source": [
    "# Marca en rojo los días con temperatura > 30°C.\n",
    "for i, temp in enumerate(temps):\n",
    "    if temp > 30:\n",
    "        plt.scatter(dias[i], temp, color='red', s=50, label='>30°C' if i == 0 else \"\")\n",
    "    else:\n",
    "        plt.scatter(dias[i], temp, color='lightblue', s=50)\n",
    "plt.xlabel(\"Días\")\n",
    "plt.ylabel(\"Temperatura (°C)\")\n",
    "plt.title(\"Temperaturas (30 días)\")"
   ]
  },
  {
   "cell_type": "markdown",
   "id": "859f5929-28bb-4708-ac2e-ea39d115eabc",
   "metadata": {},
   "source": [
    "🔹 Ejercicio Comparación de distribuciones\n",
    "\n",
    "Genera dos arreglos de 100 números aleatorios con distribución normal:\n",
    "\n",
    "grupo_A: media 50, desviación 10\n",
    "\n",
    "grupo_B: media 60, desviación 15\n",
    "\n",
    "Guarda en un diccionario con claves \"A\" y \"B\".\n",
    "\n",
    "Calcula media y desviación estándar de cada grupo y guárdalas en listas.\n",
    "\n",
    "Grafica ambos grupos en un histograma comparativo (superposición con colores diferentes y transparencia)."
   ]
  },
  {
   "cell_type": "code",
   "execution_count": 265,
   "id": "e21f6346-3a48-487c-bff3-b25d1c1336f1",
   "metadata": {},
   "outputs": [
    {
     "data": {
      "text/plain": [
       "array([39.06201391, 37.4327683 , 50.13912005, 54.31617536, 51.89882726,\n",
       "       64.68454453, 53.65942116, 66.73195744, 59.77241232, 44.69045382,\n",
       "       55.12725016, 43.52878097, 53.95889857, 61.66960974, 43.04200124,\n",
       "       46.78879161, 49.93666052, 59.43118358, 53.18181828, 45.97024021,\n",
       "       24.63087521, 43.87882367, 52.81166794, 48.09468289, 50.56433016,\n",
       "       41.60977286, 45.08969983, 53.00320903, 41.95363224, 33.15057025,\n",
       "       53.48596906, 53.18192586, 52.68509999, 49.31320062, 60.50269971,\n",
       "       48.65629115, 55.14085536, 62.81460346, 65.09247759, 50.11920448,\n",
       "       39.52019197, 53.48748852, 53.59198029, 51.02931802, 55.49502901,\n",
       "       43.12657925, 41.21442281, 63.8825247 , 49.87574891, 50.24577941,\n",
       "       44.25014482, 49.32227305, 67.76913311, 45.02382986, 58.4489814 ,\n",
       "       59.46429078, 45.08235835, 37.95205618, 48.88340811, 28.98162623,\n",
       "       57.58422206, 35.48148345, 75.24388866, 39.24468321, 42.72051733,\n",
       "       72.6232327 , 52.94377734, 64.44279362, 44.80207478, 55.46470373,\n",
       "       37.27155202, 63.46238707, 40.0005631 , 58.37632548, 43.2452069 ,\n",
       "       58.868743  , 57.48516595, 44.94921449, 43.67690578, 55.56566913,\n",
       "       50.46547774, 48.78488362, 46.55700817, 56.58414967, 37.25205456,\n",
       "       66.65852611, 61.98814171, 56.06625576, 42.34261189, 49.60067473,\n",
       "       49.48113799, 63.16451764, 44.05210895, 41.45782531, 50.05937377,\n",
       "       42.27965945, 65.87960099, 57.02987538, 34.03004865, 66.23052687])"
      ]
     },
     "execution_count": 265,
     "metadata": {},
     "output_type": "execute_result"
    }
   ],
   "source": [
    "# Genera dos arreglos de 100 números aleatorios con distribución normal:\n",
    "grupo_A= np.random.normal(50,10,size=100)\n",
    "grupo_A"
   ]
  },
  {
   "cell_type": "code",
   "execution_count": 267,
   "id": "d8e82369-3995-44da-8163-db335e2a7ecf",
   "metadata": {},
   "outputs": [
    {
     "data": {
      "text/plain": [
       "array([ 60.03623253,  40.64671343,  64.81420557,  29.73701264,\n",
       "        52.64289129,  52.79671539,  58.41007685,  51.54341278,\n",
       "        82.55326247,  50.14197864,  75.10903967,  49.43644101,\n",
       "        66.30888193,  56.48420774,  73.00655225,  49.09605558,\n",
       "        64.6770517 ,  61.40399545,  55.08733934,  47.18910499,\n",
       "        70.7953128 ,  47.37580102,  82.21378732,  76.15163057,\n",
       "        77.93212441,  77.11757842,  59.28943216,  67.45275149,\n",
       "        56.9621373 ,  38.00222122,  67.25052445,  23.58533353,\n",
       "        45.75094871,  64.10429093,  47.56579189,  68.90605724,\n",
       "        86.8642476 ,  68.76768227,  47.18736098,  61.65369613,\n",
       "        50.84438426,  60.2003974 ,  45.78707747,  65.93289292,\n",
       "        70.17519281,  31.46776444,  64.75713716,  55.13806513,\n",
       "        75.88045118,  63.85842108,  43.11306866,  70.0291304 ,\n",
       "        65.18074726,  56.84964026,  62.9508012 ,  58.27784656,\n",
       "        63.60779469,  36.04038047,  59.69390834,  74.30532947,\n",
       "        57.63586932,  37.67827705,  61.40335157,  69.39736018,\n",
       "        45.54719066,  83.98064789,  54.12546994,  43.28707704,\n",
       "        59.95295319,  66.88149603,  51.83118684,  39.15881796,\n",
       "        79.15665118,  74.47102488,  99.66987308,  41.39726555,\n",
       "        30.09955844,  56.82283734,  71.21703149,  59.50673626,\n",
       "        64.2300268 ,  69.19164498,  64.71468496,  63.92461856,\n",
       "        75.79280913,  44.43564522,  74.68935249, 101.47926715,\n",
       "        57.38400361,  60.66207528,  42.82012579,  55.12413298,\n",
       "        44.87729337,  43.64234752,  50.38693339,  64.39044888,\n",
       "        97.16609606,  53.36397559,  59.28692189,  26.40690597])"
      ]
     },
     "execution_count": 267,
     "metadata": {},
     "output_type": "execute_result"
    }
   ],
   "source": [
    "grupo_B= np.random.normal(60,15,size=100)\n",
    "grupo_B"
   ]
  },
  {
   "cell_type": "code",
   "execution_count": 268,
   "id": "0f1bb95e-55d0-4174-a955-e2ea4f7c8ce9",
   "metadata": {},
   "outputs": [
    {
     "name": "stdout",
     "output_type": "stream",
     "text": [
      "{'A': array([39.06201391, 37.4327683 , 50.13912005, 54.31617536, 51.89882726,\n",
      "       64.68454453, 53.65942116, 66.73195744, 59.77241232, 44.69045382,\n",
      "       55.12725016, 43.52878097, 53.95889857, 61.66960974, 43.04200124,\n",
      "       46.78879161, 49.93666052, 59.43118358, 53.18181828, 45.97024021,\n",
      "       24.63087521, 43.87882367, 52.81166794, 48.09468289, 50.56433016,\n",
      "       41.60977286, 45.08969983, 53.00320903, 41.95363224, 33.15057025,\n",
      "       53.48596906, 53.18192586, 52.68509999, 49.31320062, 60.50269971,\n",
      "       48.65629115, 55.14085536, 62.81460346, 65.09247759, 50.11920448,\n",
      "       39.52019197, 53.48748852, 53.59198029, 51.02931802, 55.49502901,\n",
      "       43.12657925, 41.21442281, 63.8825247 , 49.87574891, 50.24577941,\n",
      "       44.25014482, 49.32227305, 67.76913311, 45.02382986, 58.4489814 ,\n",
      "       59.46429078, 45.08235835, 37.95205618, 48.88340811, 28.98162623,\n",
      "       57.58422206, 35.48148345, 75.24388866, 39.24468321, 42.72051733,\n",
      "       72.6232327 , 52.94377734, 64.44279362, 44.80207478, 55.46470373,\n",
      "       37.27155202, 63.46238707, 40.0005631 , 58.37632548, 43.2452069 ,\n",
      "       58.868743  , 57.48516595, 44.94921449, 43.67690578, 55.56566913,\n",
      "       50.46547774, 48.78488362, 46.55700817, 56.58414967, 37.25205456,\n",
      "       66.65852611, 61.98814171, 56.06625576, 42.34261189, 49.60067473,\n",
      "       49.48113799, 63.16451764, 44.05210895, 41.45782531, 50.05937377,\n",
      "       42.27965945, 65.87960099, 57.02987538, 34.03004865, 66.23052687]), 'B': array([ 60.03623253,  40.64671343,  64.81420557,  29.73701264,\n",
      "        52.64289129,  52.79671539,  58.41007685,  51.54341278,\n",
      "        82.55326247,  50.14197864,  75.10903967,  49.43644101,\n",
      "        66.30888193,  56.48420774,  73.00655225,  49.09605558,\n",
      "        64.6770517 ,  61.40399545,  55.08733934,  47.18910499,\n",
      "        70.7953128 ,  47.37580102,  82.21378732,  76.15163057,\n",
      "        77.93212441,  77.11757842,  59.28943216,  67.45275149,\n",
      "        56.9621373 ,  38.00222122,  67.25052445,  23.58533353,\n",
      "        45.75094871,  64.10429093,  47.56579189,  68.90605724,\n",
      "        86.8642476 ,  68.76768227,  47.18736098,  61.65369613,\n",
      "        50.84438426,  60.2003974 ,  45.78707747,  65.93289292,\n",
      "        70.17519281,  31.46776444,  64.75713716,  55.13806513,\n",
      "        75.88045118,  63.85842108,  43.11306866,  70.0291304 ,\n",
      "        65.18074726,  56.84964026,  62.9508012 ,  58.27784656,\n",
      "        63.60779469,  36.04038047,  59.69390834,  74.30532947,\n",
      "        57.63586932,  37.67827705,  61.40335157,  69.39736018,\n",
      "        45.54719066,  83.98064789,  54.12546994,  43.28707704,\n",
      "        59.95295319,  66.88149603,  51.83118684,  39.15881796,\n",
      "        79.15665118,  74.47102488,  99.66987308,  41.39726555,\n",
      "        30.09955844,  56.82283734,  71.21703149,  59.50673626,\n",
      "        64.2300268 ,  69.19164498,  64.71468496,  63.92461856,\n",
      "        75.79280913,  44.43564522,  74.68935249, 101.47926715,\n",
      "        57.38400361,  60.66207528,  42.82012579,  55.12413298,\n",
      "        44.87729337,  43.64234752,  50.38693339,  64.39044888,\n",
      "        97.16609606,  53.36397559,  59.28692189,  26.40690597])}\n"
     ]
    }
   ],
   "source": [
    "# Guarda en un diccionario con claves \"A\" y \"B\".\n",
    "grupos = {\n",
    "    \"A\": grupo_A,\n",
    "    \"B\": grupo_B\n",
    "}\n",
    "\n",
    "print(grupos)"
   ]
  },
  {
   "cell_type": "code",
   "execution_count": 280,
   "id": "c7b2b96a-6913-4b54-98fc-ec2bca075178",
   "metadata": {},
   "outputs": [
    {
     "data": {
      "text/plain": [
       "(np.float64(50.808672539314145), np.float64(9.563286482118066))"
      ]
     },
     "execution_count": 280,
     "metadata": {},
     "output_type": "execute_result"
    }
   ],
   "source": [
    "# Calcula media y desviación estándar de cada grupo y guárdalas en listas\n",
    "mydA= np.mean(grupos['A']), np.std(grupos['A'])\n",
    "mydA"
   ]
  },
  {
   "cell_type": "code",
   "execution_count": 281,
   "id": "394f6836-580b-4196-a5df-0f0d8a707cb7",
   "metadata": {},
   "outputs": [
    {
     "data": {
      "text/plain": [
       "(np.float64(59.47330298329159), np.float64(15.018994731949132))"
      ]
     },
     "execution_count": 281,
     "metadata": {},
     "output_type": "execute_result"
    }
   ],
   "source": [
    "mydB= np.mean(grupos['B']), np.std(grupos['B'])\n",
    "mydB"
   ]
  },
  {
   "cell_type": "code",
   "execution_count": 288,
   "id": "4c3f89d3-db51-4354-be11-8a399e6d41d2",
   "metadata": {},
   "outputs": [
    {
     "data": {
      "text/plain": [
       "(array([ 4.,  5., 11., 15., 22., 23., 12.,  4.,  1.,  3.]),\n",
       " array([ 23.58533353,  31.37472689,  39.16412026,  46.95351362,\n",
       "         54.74290698,  62.53230034,  70.3216937 ,  78.11108707,\n",
       "         85.90048043,  93.68987379, 101.47926715]),\n",
       " <BarContainer object of 10 artists>)"
      ]
     },
     "execution_count": 288,
     "metadata": {},
     "output_type": "execute_result"
    },
    {
     "data": {
      "image/png": "[encoded data removed]",
      "text/plain": [
       "<Figure size 640x480 with 1 Axes>"
      ]
     },
     "metadata": {},
     "output_type": "display_data"
    }
   ],
   "source": [
    "# Grafica ambos grupos en un histograma comparativo (superposición con colores diferentes y transparencia).\n",
    "plt.hist(grupos[\"A\"], color=\"blue\", alpha=0.6, label=\"Grupo A\")\n",
    "plt.hist(grupos[\"B\"], color=\"lightgreen\", alpha=0.6, label=\"Grupo B\")\n"
   ]
  },
  {
   "cell_type": "markdown",
   "id": "f02dd7ab-0f94-4cd5-ae76-5fdab3434578",
   "metadata": {},
   "source": [
    "🔹 Ejercicio Clasificación de temperaturas\n",
    "\n",
    "Genera una Serie con 50 valores aleatorios entre -10 y 40 (temperaturas).\n",
    "\n",
    "Recorre la Serie y clasifica cada temperatura en un diccionario:\n",
    "\n",
    "\"frío\" si < 10\n",
    "\n",
    "\"templado\" si 10–25\n",
    "\n",
    "\"calor\" si > 25\n",
    "\n",
    "Convierte el diccionario en un DataFrame con columnas \"Temperatura\" y \"Categoría\".\n",
    "\n",
    "Cuenta cuántos valores cayeron en cada categoría."
   ]
  },
  {
   "cell_type": "code",
   "execution_count": 289,
   "id": "d037f725-eb2b-4d5f-a59e-9f75103e2841",
   "metadata": {},
   "outputs": [
    {
     "data": {
      "text/plain": [
       "array([[ -3],\n",
       "       [ 20],\n",
       "       [ 36],\n",
       "       [  7],\n",
       "       [ 17],\n",
       "       [ 36],\n",
       "       [ 36],\n",
       "       [  8],\n",
       "       [  8],\n",
       "       [ 13],\n",
       "       [ 17],\n",
       "       [  6],\n",
       "       [ 18],\n",
       "       [ 27],\n",
       "       [-10],\n",
       "       [ -6],\n",
       "       [ 33],\n",
       "       [ 24],\n",
       "       [  0],\n",
       "       [ -7],\n",
       "       [  4],\n",
       "       [ 18],\n",
       "       [ 35],\n",
       "       [ -2],\n",
       "       [ 40],\n",
       "       [  4],\n",
       "       [ 26],\n",
       "       [ -9],\n",
       "       [  1],\n",
       "       [ -9],\n",
       "       [ 31],\n",
       "       [ 24],\n",
       "       [ 25],\n",
       "       [ 17],\n",
       "       [  5],\n",
       "       [ 37],\n",
       "       [ 24],\n",
       "       [ 19],\n",
       "       [ 20],\n",
       "       [ 39],\n",
       "       [ 19],\n",
       "       [ 39],\n",
       "       [ -2],\n",
       "       [  1],\n",
       "       [ 17],\n",
       "       [ -5],\n",
       "       [ 39],\n",
       "       [ 29],\n",
       "       [ 12],\n",
       "       [ 37]], dtype=int32)"
      ]
     },
     "execution_count": 289,
     "metadata": {},
     "output_type": "execute_result"
    }
   ],
   "source": [
    "# Genera una Serie con 50 valores aleatorios entre -10 y 40 (temperaturas).\n",
    "matriz4 = np.random.randint(-10,41,size=[50,1])\n",
    "matriz4"
   ]
  },
  {
   "cell_type": "code",
   "execution_count": null,
   "id": "6b7123e4-2a8b-4e1c-be66-e9a53b1c14bc",
   "metadata": {},
   "outputs": [],
   "source": [
    "# Recorre la Serie y clasifica cada temperatura en un diccionario:\n",
    "\n",
    "\"frío\" si < 10\n",
    "\n",
    "\"templado\" si 10–25\n",
    "\n",
    "\"calor\" si > 25"
   ]
  },
  {
   "cell_type": "code",
   "execution_count": 302,
   "id": "d5e66f45-4b55-4e6e-a4fe-3b12f32778e1",
   "metadata": {},
   "outputs": [
    {
     "name": "stdout",
     "output_type": "stream",
     "text": [
      "Clasificación de temperaturas:\n",
      "frio: [('día_1', -3), ('día_4', 7), ('día_8', 8), ('día_9', 8), ('día_12', 6), ('día_15', -10), ('día_16', -6), ('día_19', 0), ('día_20', -7), ('día_21', 4), ('día_24', -2), ('día_26', 4), ('día_28', -9), ('día_29', 1), ('día_30', -9), ('día_35', 5), ('día_43', -2), ('día_44', 1), ('día_46', -5)]\n",
      "templado: [('día_2', 20), ('día_5', 17), ('día_10', 13), ('día_11', 17), ('día_13', 18), ('día_18', 24), ('día_22', 18), ('día_32', 24), ('día_33', 25), ('día_34', 17), ('día_37', 24), ('día_38', 19), ('día_39', 20), ('día_41', 19), ('día_45', 17), ('día_49', 12)]\n",
      "calor: [('día_3', 36), ('día_6', 36), ('día_7', 36), ('día_14', 27), ('día_17', 33), ('día_23', 35), ('día_25', 40), ('día_27', 26), ('día_31', 31), ('día_36', 37), ('día_40', 39), ('día_42', 39), ('día_47', 39), ('día_48', 29), ('día_50', 37)]\n"
     ]
    }
   ],
   "source": [
    "clasificacion = {\n",
    "    \"frio\": [],\n",
    "    \"templado\": [],\n",
    "    \"calor\": []\n",
    "}\n",
    "\n",
    "for i, temp in enumerate(matriz4, start=1):\n",
    "    valor = temp.item() \n",
    "    if valor < 10:\n",
    "        clasificacion[\"frio\"].append((f\"día_{i}\", valor))\n",
    "    elif 10 <= valor <= 25:\n",
    "        clasificacion[\"templado\"].append((f\"día_{i}\", valor))\n",
    "    else: \n",
    "        clasificacion[\"calor\"].append((f\"día_{i}\", valor))\n",
    "\n",
    "print(\"Clasificación de temperaturas:\")\n",
    "for categoria, valores in clasificacion.items():\n",
    "    print(f\"{categoria}: {valores}\")"
   ]
  },
  {
   "cell_type": "code",
   "execution_count": 303,
   "id": "5adf5ea7-5983-4a4b-8c25-517ac64cb231",
   "metadata": {},
   "outputs": [],
   "source": [
    "# Convierte el diccionario en un DataFrame con columnas \"Temperatura\" y \"Categoría\".\n",
    "import pandas as pd"
   ]
  },
  {
   "cell_type": "code",
   "execution_count": 304,
   "id": "ddb22d4f-d655-4276-bff7-35951bbd619f",
   "metadata": {},
   "outputs": [],
   "source": [
    "datos = []\n",
    "\n",
    "for categoria, valores in clasificacion.items():\n",
    "    for dia, temp in valores:\n",
    "        datos.append((temp, categoria))"
   ]
  },
  {
   "cell_type": "code",
   "execution_count": 307,
   "id": "f49b5b19-c8bf-4872-b39e-4a0243c19870",
   "metadata": {},
   "outputs": [
    {
     "name": "stdout",
     "output_type": "stream",
     "text": [
      "    Temperatura Categoría\n",
      "0            -3      frio\n",
      "1             7      frio\n",
      "2             8      frio\n",
      "3             8      frio\n",
      "4             6      frio\n",
      "5           -10      frio\n",
      "6            -6      frio\n",
      "7             0      frio\n",
      "8            -7      frio\n",
      "9             4      frio\n",
      "10           -2      frio\n",
      "11            4      frio\n",
      "12           -9      frio\n",
      "13            1      frio\n",
      "14           -9      frio\n",
      "15            5      frio\n",
      "16           -2      frio\n",
      "17            1      frio\n",
      "18           -5      frio\n",
      "19           20  templado\n",
      "20           17  templado\n",
      "21           13  templado\n",
      "22           17  templado\n",
      "23           18  templado\n",
      "24           24  templado\n",
      "25           18  templado\n",
      "26           24  templado\n",
      "27           25  templado\n",
      "28           17  templado\n",
      "29           24  templado\n",
      "30           19  templado\n",
      "31           20  templado\n",
      "32           19  templado\n",
      "33           17  templado\n",
      "34           12  templado\n",
      "35           36     calor\n",
      "36           36     calor\n",
      "37           36     calor\n",
      "38           27     calor\n",
      "39           33     calor\n",
      "40           35     calor\n",
      "41           40     calor\n",
      "42           26     calor\n",
      "43           31     calor\n",
      "44           37     calor\n",
      "45           39     calor\n",
      "46           39     calor\n",
      "47           39     calor\n",
      "48           29     calor\n",
      "49           37     calor\n"
     ]
    }
   ],
   "source": [
    "df_temp = pd.DataFrame(datos, columns=[\"Temperatura\", \"Categoría\"])\n",
    "\n",
    "print(df_temp)"
   ]
  },
  {
   "cell_type": "code",
   "execution_count": 308,
   "id": "bee3cc0b-c1e6-4126-afbf-e5b8a97ce180",
   "metadata": {},
   "outputs": [
    {
     "name": "stdout",
     "output_type": "stream",
     "text": [
      "Cantidad de valores por categoría:\n",
      "frio: 19\n",
      "templado: 16\n",
      "calor: 15\n"
     ]
    }
   ],
   "source": [
    "# Cuenta cuántos valores cayeron en cada categoría.\n",
    "conteo = {categoria: len(valores) for categoria, valores in clasificacion.items()}\n",
    "\n",
    "print(\"Cantidad de valores por categoría:\")\n",
    "for categoria, cantidad in conteo.items():\n",
    "    print(f\"{categoria}: {cantidad}\")"
   ]
  },
  {
   "cell_type": "markdown",
   "id": "47a3878d-a30e-4d68-b2ba-d70aeb6b995e",
   "metadata": {},
   "source": [
    "🔹 Ejercicio Matriz de distancias\n",
    "\n",
    "Genera una matriz 10x2 con coordenadas aleatorias (x, y) entre 0 y 100.\n",
    "\n",
    "Con un bucle, calcula las distancias euclidianas entre cada par de puntos y guárdalas en un diccionario con claves (i,j).\n",
    "\n",
    "Convierte el diccionario en un DataFrame de 10x10 (matriz de distancias).\n",
    "\n",
    "Encuentra el par de puntos más cercanos y el más lejano."
   ]
  },
  {
   "cell_type": "code",
   "execution_count": 310,
   "id": "8d862404-c241-4438-9394-b75febdd8402",
   "metadata": {},
   "outputs": [
    {
     "data": {
      "text/plain": [
       "array([[ 54,  64],\n",
       "       [ 60,   3],\n",
       "       [  6,  26],\n",
       "       [100,  91],\n",
       "       [100,  75],\n",
       "       [ 10, 100],\n",
       "       [ 50,  83],\n",
       "       [ 60,   8],\n",
       "       [ 57,  64],\n",
       "       [ 83,   8]], dtype=int32)"
      ]
     },
     "execution_count": 310,
     "metadata": {},
     "output_type": "execute_result"
    }
   ],
   "source": [
    "# Genera una matriz 10x2 con coordenadas aleatorias (x, y) entre 0 y 100.\n",
    "matriz5 = np.random.randint(0,101,size=[10,2])\n",
    "matriz5\n"
   ]
  },
  {
   "cell_type": "code",
   "execution_count": 320,
   "id": "6ddced49-6a08-4d4e-a2ab-70b35893469a",
   "metadata": {},
   "outputs": [
    {
     "name": "stdout",
     "output_type": "stream",
     "text": [
      "(0, 1): 61.29\n",
      "(0, 2): 61.22\n",
      "(0, 3): 53.34\n",
      "(0, 4): 47.30\n",
      "(0, 5): 56.85\n",
      "(0, 6): 19.42\n",
      "(0, 7): 56.32\n",
      "(0, 8): 3.00\n",
      "(0, 9): 63.06\n",
      "(1, 2): 58.69\n",
      "(1, 3): 96.66\n",
      "(1, 4): 82.37\n",
      "(1, 5): 109.13\n",
      "(1, 6): 80.62\n",
      "(1, 7): 5.00\n",
      "(1, 8): 61.07\n",
      "(1, 9): 23.54\n",
      "(2, 3): 114.28\n",
      "(2, 4): 106.00\n",
      "(2, 5): 74.11\n",
      "(2, 6): 72.01\n",
      "(2, 7): 56.92\n",
      "(2, 8): 63.60\n",
      "(2, 9): 79.08\n",
      "(3, 4): 16.00\n",
      "(3, 5): 90.45\n",
      "(3, 6): 50.64\n",
      "(3, 7): 92.14\n",
      "(3, 8): 50.77\n",
      "(3, 9): 84.72\n",
      "(4, 5): 93.41\n",
      "(4, 6): 50.64\n",
      "(4, 7): 78.03\n",
      "(4, 8): 44.38\n",
      "(4, 9): 69.12\n",
      "(5, 6): 43.46\n",
      "(5, 7): 104.71\n",
      "(5, 8): 59.20\n",
      "(5, 9): 117.44\n",
      "(6, 7): 75.66\n",
      "(6, 8): 20.25\n",
      "(6, 9): 81.94\n",
      "(7, 8): 56.08\n",
      "(7, 9): 23.00\n",
      "(8, 9): 61.74\n"
     ]
    }
   ],
   "source": [
    "# Con un bucle, calcula las distancias euclidianas entre cada par de puntos y guárdalas en un diccionario con claves (i,j).\n",
    "distancias = {}\n",
    "puntos = len(matriz5)\n",
    "\n",
    "for i in range(puntos):\n",
    "    for j in range(i+1, puntos): \n",
    "        distancia = np.sqrt((matriz5[i,0] - matriz5[j,0])**2 + \n",
    "                            (matriz5[i,1] - matriz5[j,1])**2)\n",
    "        distancias[(i, j)] = distancia\n",
    "\n",
    "for clave, valor in list(distancias.items()):\n",
    "    print(f\"{clave}: {valor:.2f}\")"
   ]
  },
  {
   "cell_type": "code",
   "execution_count": 318,
   "id": "b55dddb4-4bb7-4179-bea1-7f0844cf97a8",
   "metadata": {},
   "outputs": [
    {
     "data": {
      "text/html": [
       "<div>\n",
       "<style scoped>\n",
       "    .dataframe tbody tr th:only-of-type {\n",
       "        vertical-align: middle;\n",
       "    }\n",
       "\n",
       "    .dataframe tbody tr th {\n",
       "        vertical-align: top;\n",
       "    }\n",
       "\n",
       "    .dataframe thead th {\n",
       "        text-align: right;\n",
       "    }\n",
       "</style>\n",
       "<table border=\"1\" class=\"dataframe\">\n",
       "  <thead>\n",
       "    <tr style=\"text-align: right;\">\n",
       "      <th></th>\n",
       "      <th>0</th>\n",
       "      <th>1</th>\n",
       "      <th>2</th>\n",
       "      <th>3</th>\n",
       "      <th>4</th>\n",
       "      <th>5</th>\n",
       "      <th>6</th>\n",
       "      <th>7</th>\n",
       "      <th>8</th>\n",
       "      <th>9</th>\n",
       "    </tr>\n",
       "  </thead>\n",
       "  <tbody>\n",
       "    <tr>\n",
       "      <th>0</th>\n",
       "      <td>0.000000</td>\n",
       "      <td>61.294372</td>\n",
       "      <td>61.220911</td>\n",
       "      <td>53.338541</td>\n",
       "      <td>47.296934</td>\n",
       "      <td>56.850682</td>\n",
       "      <td>19.416488</td>\n",
       "      <td>56.320511</td>\n",
       "      <td>3.000000</td>\n",
       "      <td>63.063460</td>\n",
       "    </tr>\n",
       "    <tr>\n",
       "      <th>1</th>\n",
       "      <td>61.294372</td>\n",
       "      <td>0.000000</td>\n",
       "      <td>58.694122</td>\n",
       "      <td>96.664368</td>\n",
       "      <td>82.365041</td>\n",
       "      <td>109.128365</td>\n",
       "      <td>80.622577</td>\n",
       "      <td>5.000000</td>\n",
       "      <td>61.073726</td>\n",
       "      <td>23.537205</td>\n",
       "    </tr>\n",
       "    <tr>\n",
       "      <th>2</th>\n",
       "      <td>61.220911</td>\n",
       "      <td>58.694122</td>\n",
       "      <td>0.000000</td>\n",
       "      <td>114.284732</td>\n",
       "      <td>106.004717</td>\n",
       "      <td>74.108029</td>\n",
       "      <td>72.006944</td>\n",
       "      <td>56.920998</td>\n",
       "      <td>63.600314</td>\n",
       "      <td>79.075913</td>\n",
       "    </tr>\n",
       "    <tr>\n",
       "      <th>3</th>\n",
       "      <td>53.338541</td>\n",
       "      <td>96.664368</td>\n",
       "      <td>114.284732</td>\n",
       "      <td>0.000000</td>\n",
       "      <td>16.000000</td>\n",
       "      <td>90.448881</td>\n",
       "      <td>50.635956</td>\n",
       "      <td>92.135769</td>\n",
       "      <td>50.774009</td>\n",
       "      <td>84.723078</td>\n",
       "    </tr>\n",
       "    <tr>\n",
       "      <th>4</th>\n",
       "      <td>47.296934</td>\n",
       "      <td>82.365041</td>\n",
       "      <td>106.004717</td>\n",
       "      <td>16.000000</td>\n",
       "      <td>0.000000</td>\n",
       "      <td>93.407708</td>\n",
       "      <td>50.635956</td>\n",
       "      <td>78.032045</td>\n",
       "      <td>44.384682</td>\n",
       "      <td>69.123079</td>\n",
       "    </tr>\n",
       "    <tr>\n",
       "      <th>5</th>\n",
       "      <td>56.850682</td>\n",
       "      <td>109.128365</td>\n",
       "      <td>74.108029</td>\n",
       "      <td>90.448881</td>\n",
       "      <td>93.407708</td>\n",
       "      <td>0.000000</td>\n",
       "      <td>43.462628</td>\n",
       "      <td>104.709121</td>\n",
       "      <td>59.203040</td>\n",
       "      <td>117.443603</td>\n",
       "    </tr>\n",
       "    <tr>\n",
       "      <th>6</th>\n",
       "      <td>19.416488</td>\n",
       "      <td>80.622577</td>\n",
       "      <td>72.006944</td>\n",
       "      <td>50.635956</td>\n",
       "      <td>50.635956</td>\n",
       "      <td>43.462628</td>\n",
       "      <td>0.000000</td>\n",
       "      <td>75.663730</td>\n",
       "      <td>20.248457</td>\n",
       "      <td>81.939002</td>\n",
       "    </tr>\n",
       "    <tr>\n",
       "      <th>7</th>\n",
       "      <td>56.320511</td>\n",
       "      <td>5.000000</td>\n",
       "      <td>56.920998</td>\n",
       "      <td>92.135769</td>\n",
       "      <td>78.032045</td>\n",
       "      <td>104.709121</td>\n",
       "      <td>75.663730</td>\n",
       "      <td>0.000000</td>\n",
       "      <td>56.080300</td>\n",
       "      <td>23.000000</td>\n",
       "    </tr>\n",
       "    <tr>\n",
       "      <th>8</th>\n",
       "      <td>3.000000</td>\n",
       "      <td>61.073726</td>\n",
       "      <td>63.600314</td>\n",
       "      <td>50.774009</td>\n",
       "      <td>44.384682</td>\n",
       "      <td>59.203040</td>\n",
       "      <td>20.248457</td>\n",
       "      <td>56.080300</td>\n",
       "      <td>0.000000</td>\n",
       "      <td>61.741396</td>\n",
       "    </tr>\n",
       "    <tr>\n",
       "      <th>9</th>\n",
       "      <td>63.063460</td>\n",
       "      <td>23.537205</td>\n",
       "      <td>79.075913</td>\n",
       "      <td>84.723078</td>\n",
       "      <td>69.123079</td>\n",
       "      <td>117.443603</td>\n",
       "      <td>81.939002</td>\n",
       "      <td>23.000000</td>\n",
       "      <td>61.741396</td>\n",
       "      <td>0.000000</td>\n",
       "    </tr>\n",
       "  </tbody>\n",
       "</table>\n",
       "</div>"
      ],
      "text/plain": [
       "           0           1           2           3           4           5  \\\n",
       "0   0.000000   61.294372   61.220911   53.338541   47.296934   56.850682   \n",
       "1  61.294372    0.000000   58.694122   96.664368   82.365041  109.128365   \n",
       "2  61.220911   58.694122    0.000000  114.284732  106.004717   74.108029   \n",
       "3  53.338541   96.664368  114.284732    0.000000   16.000000   90.448881   \n",
       "4  47.296934   82.365041  106.004717   16.000000    0.000000   93.407708   \n",
       "5  56.850682  109.128365   74.108029   90.448881   93.407708    0.000000   \n",
       "6  19.416488   80.622577   72.006944   50.635956   50.635956   43.462628   \n",
       "7  56.320511    5.000000   56.920998   92.135769   78.032045  104.709121   \n",
       "8   3.000000   61.073726   63.600314   50.774009   44.384682   59.203040   \n",
       "9  63.063460   23.537205   79.075913   84.723078   69.123079  117.443603   \n",
       "\n",
       "           6           7          8           9  \n",
       "0  19.416488   56.320511   3.000000   63.063460  \n",
       "1  80.622577    5.000000  61.073726   23.537205  \n",
       "2  72.006944   56.920998  63.600314   79.075913  \n",
       "3  50.635956   92.135769  50.774009   84.723078  \n",
       "4  50.635956   78.032045  44.384682   69.123079  \n",
       "5  43.462628  104.709121  59.203040  117.443603  \n",
       "6   0.000000   75.663730  20.248457   81.939002  \n",
       "7  75.663730    0.000000  56.080300   23.000000  \n",
       "8  20.248457   56.080300   0.000000   61.741396  \n",
       "9  81.939002   23.000000  61.741396    0.000000  "
      ]
     },
     "execution_count": 318,
     "metadata": {},
     "output_type": "execute_result"
    }
   ],
   "source": [
    "# Convierte el diccionario en un DataFrame de 10x10 (matriz de distancias).\n",
    "matrizdistancias = np.zeros((puntos,puntos))\n",
    "\n",
    "for (i, j), distancia in distancias.items():\n",
    "    matriz_distancias[i, j] = distancia\n",
    "    matriz_distancias[j, i] = distancia  \n",
    "\n",
    "\n",
    "distancias = pd.DataFrame(matriz_distancias, \n",
    "                             index=range(puntos), \n",
    "                             columns=range(puntos))\n",
    "\n",
    "distancias\n"
   ]
  },
  {
   "cell_type": "code",
   "execution_count": 321,
   "id": "9ec64f07-8049-4b8a-8d31-bd5c874d2587",
   "metadata": {},
   "outputs": [
    {
     "name": "stdout",
     "output_type": "stream",
     "text": [
      "\n",
      "Par más cercano: (0, 8) con distancia 3.00\n",
      "Par más lejano: (5, 9) con distancia 117.44\n"
     ]
    }
   ],
   "source": [
    "# Encuentra el par de puntos más cercanos y el más lejano.\n",
    "min_dist = float('inf')\n",
    "max_dist = float('-inf')\n",
    "par_cercano = None\n",
    "par_lejano = None\n",
    "\n",
    "for (i, j), d in distancias.items():\n",
    "    if d < min_dist:\n",
    "        min_dist = d\n",
    "        par_cercano = (i, j)\n",
    "    if d > max_dist:\n",
    "        max_dist = d\n",
    "        par_lejano = (i, j)\n",
    "\n",
    "print(f\"\\nPar más cercano: {par_cercano} con distancia {min_dist:.2f}\")\n",
    "print(f\"Par más lejano: {par_lejano} con distancia {max_dist:.2f}\")"
   ]
  },
  {
   "cell_type": "code",
   "execution_count": null,
   "id": "5cbf63f4-52c3-4ee1-97f7-c3f60ce6b913",
   "metadata": {},
   "outputs": [],
   "source": []
  },
  {
   "cell_type": "markdown",
   "id": "83110dd5-9367-4715-9160-54cb296b7aa9",
   "metadata": {},
   "source": [
    "🔹 Ejercicio Análisis de series temporales\n",
    "\n",
    "Genera con NumPy una Serie de 365 valores aleatorios entre 10 y 40 (temperatura diaria de un año).\n",
    "\n",
    "Convierte en un DataFrame con columnas \"Día\" y \"Temperatura\".\n",
    "\n",
    "Usa un bucle para calcular la media de cada mes (asume 30 días por mes).\n",
    "\n",
    "Guarda las medias en un diccionario {Mes: Promedio}.\n",
    "\n",
    "Convierte el diccionario en una Series y ordénala de mayor a menor."
   ]
  },
  {
   "cell_type": "code",
   "execution_count": 323,
   "id": "fca493b7-2df0-4ee0-9b76-55a810c6adb2",
   "metadata": {},
   "outputs": [
    {
     "data": {
      "text/plain": [
       "array([22, 12, 15, 30, 13, 22, 21, 24, 34, 20, 24, 24, 30, 31, 22, 19, 26,\n",
       "       20, 21, 25, 22, 34, 36, 21, 33, 10, 22, 16, 40, 13, 17, 31, 29, 18,\n",
       "       16, 27, 33, 38, 20, 33, 21, 17, 23, 12, 34, 31, 14, 40, 15, 40, 13,\n",
       "       32, 23, 37, 11, 23, 37, 30, 37, 34, 36, 22, 10, 35, 14, 13, 19, 40,\n",
       "       10, 13, 18, 22, 24, 31, 12, 29, 10, 38, 38, 12, 28, 18, 20, 34, 31,\n",
       "       30, 23, 18, 28, 38, 35, 21, 10, 13, 22, 10, 19, 39, 28, 16, 25, 12,\n",
       "       32, 17, 40, 23, 37, 28, 25, 11, 13, 18, 26, 28, 15, 17, 33, 10, 12,\n",
       "       22, 40, 25, 38, 12, 39, 24, 29, 22, 19, 37, 18, 33, 35, 14, 40, 28,\n",
       "       23, 39, 24, 22, 25, 22, 19, 28, 19, 11, 11, 18, 16, 18, 33, 36, 16,\n",
       "       12, 22, 18, 17, 36, 11, 18, 38, 23, 39, 39, 26, 25, 13, 26, 14, 11,\n",
       "       25, 25, 21, 26, 34, 39, 15, 11, 20, 25, 21, 23, 26, 22, 31, 40, 34,\n",
       "       12, 23, 11, 33, 32, 12, 16, 25, 10, 29, 40, 12, 34, 40, 33, 28, 13,\n",
       "       39, 26, 21, 26, 32, 13, 10, 21, 31, 33, 35, 22, 34, 24, 17, 11, 27,\n",
       "       37, 15, 31, 20, 34, 11, 28, 27, 31, 33, 13, 11, 29, 17, 16, 34, 10,\n",
       "       12, 26, 22, 35, 17, 29, 13, 38, 33, 30, 39, 28, 34, 17, 37, 12, 33,\n",
       "       37, 25, 30, 30, 13, 38, 19, 26, 22, 24, 37, 15, 28, 38, 40, 19, 37,\n",
       "       24, 37, 31, 20, 11, 37, 23, 39, 22, 34, 18, 33, 24, 10, 25, 11, 32,\n",
       "       30, 37, 11, 12, 13, 33, 15, 35, 13, 26, 22, 15, 20, 40, 29, 39, 36,\n",
       "       24, 25, 28, 13, 21, 19, 10, 20, 11, 32, 17, 15, 33, 27, 21, 22, 10,\n",
       "       18, 34, 35, 20, 35, 26, 40, 40, 33, 30, 10, 14, 17, 36, 28, 31, 14,\n",
       "       20, 14, 30, 22, 26, 10, 34, 21, 12, 27, 23, 26, 16, 14, 37, 40, 25,\n",
       "       23, 16, 32, 14, 26, 30, 21, 39], dtype=int32)"
      ]
     },
     "execution_count": 323,
     "metadata": {},
     "output_type": "execute_result"
    }
   ],
   "source": [
    "# Genera con NumPy una Serie de 365 valores aleatorios entre 10 y 40 (temperatura diaria de un año).\n",
    "temperaturadiaria = np.random.randint(10, 41, size=365)\n",
    "temperaturadiaria"
   ]
  },
  {
   "cell_type": "code",
   "execution_count": 326,
   "id": "4748e13f-ebf2-424c-acd1-659fbf7b4b5a",
   "metadata": {},
   "outputs": [
    {
     "name": "stdout",
     "output_type": "stream",
     "text": [
      "     Dia  Temperatura\n",
      "0      1           22\n",
      "1      2           12\n",
      "2      3           15\n",
      "3      4           30\n",
      "4      5           13\n",
      "..   ...          ...\n",
      "360  361           14\n",
      "361  362           26\n",
      "362  363           30\n",
      "363  364           21\n",
      "364  365           39\n",
      "\n",
      "[365 rows x 2 columns]\n"
     ]
    }
   ],
   "source": [
    "# Convierte en un DataFrame con columnas \"Día\" y \"Temperatura\".\n",
    "ntemp = pd.Series(temperaturadiaria, name=\"Temperatura\")\n",
    "\n",
    "dftemperaturadiaria = pd.DataFrame({\n",
    "    \"Dia\": range(1, len(ntemp)+1),  \n",
    "    \"Temperatura\": ntemp.values\n",
    "})\n",
    "print(dftemperaturadiaria)"
   ]
  },
  {
   "cell_type": "code",
   "execution_count": 328,
   "id": "7e206b7f-8bfd-4e73-92df-168cf6108d2d",
   "metadata": {},
   "outputs": [
    {
     "name": "stdout",
     "output_type": "stream",
     "text": [
      "Mes 1: 23.40 °C\n",
      "Mes 2: 26.20 °C\n",
      "Mes 3: 23.80 °C\n",
      "Mes 4: 21.90 °C\n",
      "Mes 5: 24.93 °C\n",
      "Mes 6: 23.80 °C\n",
      "Mes 7: 25.23 °C\n",
      "Mes 8: 23.33 °C\n",
      "Mes 9: 27.97 °C\n",
      "Mes 10: 24.47 °C\n",
      "Mes 11: 24.50 °C\n",
      "Mes 12: 24.03 °C\n"
     ]
    }
   ],
   "source": [
    "# Usa un bucle para calcular la media de cada mes (asume 30 días por mes).\n",
    "diasmes = 30\n",
    "meses = len(dftemperaturadiaria) // diasmes  \n",
    "mediasm = []\n",
    "\n",
    "for i in range(meses):\n",
    "    inicio = i * diasmes\n",
    "    fin = inicio + diasmes\n",
    "    mediames = dftemperaturadiaria[\"Temperatura\"].iloc[inicio:fin].mean()\n",
    "    mediasm.append(mediames)\n",
    "\n",
    "# Mostrar resultados\n",
    "for mes, media in enumerate(mediasmeses, start=1):\n",
    "    print(f\"Mes {mes}: {media:.2f} °C\")"
   ]
  },
  {
   "cell_type": "code",
   "execution_count": 334,
   "id": "ade0c5ab-2b1d-4c7b-b136-77351b349312",
   "metadata": {},
   "outputs": [
    {
     "name": "stdout",
     "output_type": "stream",
     "text": [
      "Medias mensuales: {'Mes 1': 23.4, 'Mes 2': 26.2, 'Mes 3': 23.8, 'Mes 4': 21.9, 'Mes 5': 24.93, 'Mes 6': 23.8, 'Mes 7': 25.23, 'Mes 8': 23.33, 'Mes 9': 27.97, 'Mes 10': 24.47, 'Mes 11': 24.5, 'Mes 12': 24.03}\n"
     ]
    }
   ],
   "source": [
    "# Guarda las medias en un diccionario {Mes: Promedio}.\n",
    "mediasdiccionario = {f\"Mes {i+1}\": round(float(media),2) for i, media in enumerate(mediasm)}\n",
    "\n",
    "print(\"Medias mensuales:\", mediasdiccionario)"
   ]
  },
  {
   "cell_type": "code",
   "execution_count": 335,
   "id": "2ecfd27a-e6f5-42c5-951b-52526732b5e4",
   "metadata": {},
   "outputs": [
    {
     "name": "stdout",
     "output_type": "stream",
     "text": [
      "Mes 9     27.97\n",
      "Mes 2     26.20\n",
      "Mes 7     25.23\n",
      "Mes 5     24.93\n",
      "Mes 11    24.50\n",
      "Mes 10    24.47\n",
      "Mes 12    24.03\n",
      "Mes 3     23.80\n",
      "Mes 6     23.80\n",
      "Mes 1     23.40\n",
      "Mes 8     23.33\n",
      "Mes 4     21.90\n",
      "Name: Promedio, dtype: float64\n"
     ]
    }
   ],
   "source": [
    "# Convierte el diccionario en una Series y ordénala de mayor a menor.\n",
    "seriemedias = pd.Series(mediasdiccionario, name=\"Promedio\")\n",
    "\n",
    "\n",
    "serieordenada = seriemedias.sort_values(ascending=False)\n",
    "\n",
    "print(serieordenada)"
   ]
  },
  {
   "cell_type": "markdown",
   "id": "696cbd58-a2f3-4f4b-927b-cf106b0b1eab",
   "metadata": {},
   "source": [
    "🔹 Ejercicio Actividad neuronal por regiones\n",
    "\n",
    "Genera una matriz 100x5 con NumPy representando la actividad de 100 neuronas en 5 regiones cerebrales (valores entre 0 y 1 como tasas de disparo).\n",
    "\n",
    "Convierte la matriz en un DataFrame con columnas \"Región_1\"... \"Región_5\".\n",
    "\n",
    "Usa un bucle para calcular la actividad media de cada región y guárdala en un diccionario.\n",
    "\n",
    "Convierte el diccionario en una Series y ordénala de mayor a menor."
   ]
  },
  {
   "cell_type": "code",
   "execution_count": 345,
   "id": "3ad74c94-c62d-45f8-8fb8-c274dfd704e0",
   "metadata": {},
   "outputs": [
    {
     "data": {
      "text/plain": [
       "array([[0, 0, 1, 0, 1],\n",
       "       [0, 1, 1, 0, 1],\n",
       "       [0, 0, 1, 1, 1],\n",
       "       [0, 1, 1, 1, 1],\n",
       "       [1, 0, 1, 0, 1],\n",
       "       [0, 1, 0, 1, 1],\n",
       "       [0, 1, 1, 1, 1],\n",
       "       [1, 1, 0, 0, 0],\n",
       "       [1, 0, 0, 1, 1],\n",
       "       [1, 0, 1, 0, 0],\n",
       "       [0, 1, 1, 1, 0],\n",
       "       [0, 1, 0, 0, 1],\n",
       "       [0, 0, 1, 0, 0],\n",
       "       [1, 0, 0, 1, 1],\n",
       "       [0, 1, 1, 0, 1],\n",
       "       [0, 1, 1, 0, 1],\n",
       "       [1, 0, 1, 0, 0],\n",
       "       [1, 0, 0, 1, 0],\n",
       "       [0, 1, 1, 1, 0],\n",
       "       [0, 0, 0, 0, 1],\n",
       "       [0, 0, 0, 1, 0],\n",
       "       [1, 0, 1, 0, 1],\n",
       "       [0, 0, 0, 0, 0],\n",
       "       [1, 1, 0, 1, 0],\n",
       "       [0, 0, 0, 0, 0],\n",
       "       [1, 0, 0, 0, 0],\n",
       "       [0, 1, 0, 0, 1],\n",
       "       [1, 0, 0, 0, 1],\n",
       "       [0, 0, 0, 0, 0],\n",
       "       [1, 1, 0, 1, 1],\n",
       "       [1, 0, 0, 0, 0],\n",
       "       [0, 1, 1, 0, 1],\n",
       "       [1, 1, 1, 0, 1],\n",
       "       [1, 0, 1, 0, 1],\n",
       "       [1, 0, 1, 1, 0],\n",
       "       [0, 0, 0, 0, 1],\n",
       "       [0, 1, 0, 0, 0],\n",
       "       [0, 0, 0, 0, 0],\n",
       "       [0, 1, 1, 0, 1],\n",
       "       [0, 0, 0, 0, 1],\n",
       "       [0, 1, 0, 1, 0],\n",
       "       [0, 1, 1, 1, 1],\n",
       "       [1, 1, 0, 0, 0],\n",
       "       [1, 0, 0, 1, 0],\n",
       "       [0, 0, 0, 1, 1],\n",
       "       [1, 1, 1, 0, 0],\n",
       "       [1, 1, 1, 0, 0],\n",
       "       [1, 1, 1, 0, 1],\n",
       "       [0, 0, 0, 0, 1],\n",
       "       [0, 1, 1, 0, 1],\n",
       "       [1, 1, 0, 0, 1],\n",
       "       [1, 0, 1, 1, 1],\n",
       "       [1, 0, 1, 1, 0],\n",
       "       [0, 1, 0, 0, 0],\n",
       "       [0, 1, 0, 0, 0],\n",
       "       [1, 1, 0, 1, 0],\n",
       "       [1, 0, 0, 1, 1],\n",
       "       [1, 1, 0, 1, 0],\n",
       "       [0, 1, 1, 0, 1],\n",
       "       [1, 1, 1, 1, 1],\n",
       "       [1, 1, 1, 0, 0],\n",
       "       [1, 0, 0, 0, 1],\n",
       "       [0, 1, 0, 0, 0],\n",
       "       [0, 0, 1, 0, 0],\n",
       "       [0, 1, 0, 1, 1],\n",
       "       [1, 1, 0, 0, 0],\n",
       "       [0, 1, 0, 1, 0],\n",
       "       [1, 0, 1, 0, 1],\n",
       "       [0, 0, 0, 0, 1],\n",
       "       [0, 1, 0, 1, 0],\n",
       "       [0, 1, 0, 0, 0],\n",
       "       [1, 1, 1, 0, 1],\n",
       "       [0, 1, 1, 0, 0],\n",
       "       [0, 0, 0, 0, 0],\n",
       "       [0, 1, 0, 1, 1],\n",
       "       [1, 1, 1, 0, 0],\n",
       "       [0, 0, 1, 1, 0],\n",
       "       [1, 1, 0, 0, 1],\n",
       "       [0, 1, 1, 0, 0],\n",
       "       [1, 0, 0, 1, 0],\n",
       "       [1, 0, 0, 1, 0],\n",
       "       [0, 0, 1, 1, 0],\n",
       "       [0, 0, 1, 0, 1],\n",
       "       [0, 1, 0, 0, 0],\n",
       "       [0, 0, 1, 1, 1],\n",
       "       [0, 1, 1, 1, 0],\n",
       "       [0, 0, 0, 1, 1],\n",
       "       [1, 0, 0, 1, 0],\n",
       "       [1, 1, 1, 0, 1],\n",
       "       [1, 0, 1, 1, 1],\n",
       "       [1, 0, 1, 1, 0],\n",
       "       [1, 1, 1, 1, 0],\n",
       "       [0, 0, 1, 0, 1],\n",
       "       [1, 1, 0, 0, 0],\n",
       "       [0, 1, 0, 0, 1],\n",
       "       [1, 1, 1, 0, 0],\n",
       "       [1, 0, 0, 0, 0],\n",
       "       [0, 1, 0, 1, 0],\n",
       "       [0, 1, 1, 0, 1],\n",
       "       [1, 1, 0, 1, 1]], dtype=int32)"
      ]
     },
     "execution_count": 345,
     "metadata": {},
     "output_type": "execute_result"
    }
   ],
   "source": [
    "# Genera una matriz 100x5 con NumPy representando la actividad de 100 neuronas en 5 regiones cerebrales (valores entre 0 y 1 como tasas de disparo).\n",
    "matriz6 = np.random.randint(0, 2, size=[100,5])\n",
    "matriz6"
   ]
  },
  {
   "cell_type": "code",
   "execution_count": 338,
   "id": "e3911484-c960-4f44-9889-ecc4a656b511",
   "metadata": {},
   "outputs": [
    {
     "name": "stdout",
     "output_type": "stream",
     "text": [
      "   Región_1  Región_2  Región_3  Región_4  Región_5\n",
      "0         1         0         0         1         0\n",
      "1         0         1         0         1         1\n",
      "2         0         1         0         1         0\n",
      "3         1         1         0         1         0\n",
      "4         0         0         1         1         1\n"
     ]
    }
   ],
   "source": [
    "# Convierte la matriz en un DataFrame con columnas \"Región_1\"... \"Región_5\".\n",
    "columnas = [f\"Región_{i+1}\" for i in range(matriz6.shape[1])]\n",
    "\n",
    "dfact = pd.DataFrame(matriz6, columns=columnas)\n",
    "\n",
    "\n",
    "print(dfact.head())"
   ]
  },
  {
   "cell_type": "code",
   "execution_count": 339,
   "id": "70eeab6c-0f98-4b0d-9246-2f9cce867522",
   "metadata": {},
   "outputs": [
    {
     "name": "stdout",
     "output_type": "stream",
     "text": [
      "Actividad media por región: {'Región_1': np.float64(0.48), 'Región_2': np.float64(0.52), 'Región_3': np.float64(0.48), 'Región_4': np.float64(0.45), 'Región_5': np.float64(0.46)}\n"
     ]
    }
   ],
   "source": [
    "# Usa un bucle para calcular la actividad media de cada región y guárdala en un diccionario.\n",
    "actividadmedia = {}\n",
    "\n",
    "\n",
    "for columna in dfact.columns:\n",
    "    actividadmedia[columna] = dfact[columna].mean()\n",
    "\n",
    "print(\"Actividad media por región:\", actividadmedia)"
   ]
  },
  {
   "cell_type": "code",
   "execution_count": 340,
   "id": "f3f40b6e-727d-430d-ac87-f6f97ef0fddb",
   "metadata": {},
   "outputs": [
    {
     "name": "stdout",
     "output_type": "stream",
     "text": [
      "Región_2    0.52\n",
      "Región_1    0.48\n",
      "Región_3    0.48\n",
      "Región_5    0.46\n",
      "Región_4    0.45\n",
      "Name: actividad media, dtype: float64\n"
     ]
    }
   ],
   "source": [
    "# Convierte el diccionario en una Series y ordénala de mayor a menor.\n",
    "serie2 = pd.Series(actividadmedia, name=\"actividad media\")\n",
    "\n",
    "serieordenada2 = serie2.sort_values(ascending=False)\n",
    "\n",
    "print(serieordenada2)"
   ]
  },
  {
   "cell_type": "markdown",
   "id": "07f21b80-6ed2-4251-979f-e8c200c8b43d",
   "metadata": {},
   "source": [
    "🔹 Ejercicio Conectividad funcional (correlaciones)\n",
    "\n",
    "Simula con NumPy una matriz 200x4 con series de tiempo de actividad fMRI en 4 áreas cerebrales.\n",
    "\n",
    "Convierte en un DataFrame con columnas \"Área_1\"... \"Área_4\".\n",
    "\n",
    "Con un bucle, calcula la correlación de Pearson entre todas las parejas de áreas y guárdala en un diccionario con claves (Área_i, Área_j).\n",
    "\n",
    "Convierte el diccionario en un DataFrame cuadrado (matriz de conectividad)."
   ]
  },
  {
   "cell_type": "code",
   "execution_count": 346,
   "id": "f0de6a55-57cc-44f0-a463-a473075ed4e5",
   "metadata": {},
   "outputs": [
    {
     "data": {
      "text/plain": [
       "array([[1, 1, 1, 0],\n",
       "       [0, 1, 0, 0],\n",
       "       [0, 1, 1, 0],\n",
       "       [1, 1, 1, 1],\n",
       "       [1, 0, 1, 0],\n",
       "       [0, 0, 0, 0],\n",
       "       [1, 1, 1, 1],\n",
       "       [1, 0, 0, 0],\n",
       "       [1, 0, 0, 1],\n",
       "       [1, 0, 1, 1],\n",
       "       [0, 0, 1, 0],\n",
       "       [1, 1, 0, 1],\n",
       "       [0, 1, 0, 0],\n",
       "       [0, 0, 1, 1],\n",
       "       [0, 0, 1, 0],\n",
       "       [1, 1, 1, 1],\n",
       "       [0, 0, 0, 0],\n",
       "       [0, 1, 0, 0],\n",
       "       [1, 0, 0, 0],\n",
       "       [0, 1, 0, 1],\n",
       "       [1, 0, 1, 0],\n",
       "       [1, 0, 0, 1],\n",
       "       [0, 1, 0, 0],\n",
       "       [0, 0, 1, 0],\n",
       "       [0, 1, 1, 0],\n",
       "       [0, 1, 1, 1],\n",
       "       [1, 1, 1, 1],\n",
       "       [0, 1, 0, 1],\n",
       "       [0, 0, 1, 1],\n",
       "       [0, 1, 1, 1],\n",
       "       [0, 0, 1, 0],\n",
       "       [0, 0, 1, 0],\n",
       "       [1, 1, 1, 1],\n",
       "       [0, 0, 0, 1],\n",
       "       [0, 0, 0, 0],\n",
       "       [1, 1, 1, 0],\n",
       "       [1, 1, 1, 0],\n",
       "       [1, 0, 0, 1],\n",
       "       [1, 0, 0, 1],\n",
       "       [0, 1, 0, 1],\n",
       "       [1, 1, 1, 0],\n",
       "       [0, 1, 0, 0],\n",
       "       [1, 1, 0, 1],\n",
       "       [1, 1, 0, 1],\n",
       "       [0, 1, 0, 1],\n",
       "       [1, 1, 1, 0],\n",
       "       [1, 0, 0, 1],\n",
       "       [0, 0, 1, 1],\n",
       "       [1, 0, 1, 0],\n",
       "       [1, 0, 1, 0],\n",
       "       [1, 0, 1, 1],\n",
       "       [1, 0, 1, 0],\n",
       "       [0, 0, 1, 1],\n",
       "       [1, 0, 1, 1],\n",
       "       [1, 0, 1, 1],\n",
       "       [0, 0, 0, 1],\n",
       "       [0, 0, 1, 0],\n",
       "       [1, 1, 0, 0],\n",
       "       [0, 1, 0, 0],\n",
       "       [1, 1, 1, 1],\n",
       "       [0, 1, 1, 0],\n",
       "       [1, 1, 0, 1],\n",
       "       [1, 1, 0, 0],\n",
       "       [1, 1, 0, 1],\n",
       "       [0, 0, 0, 1],\n",
       "       [0, 1, 0, 0],\n",
       "       [0, 0, 0, 1],\n",
       "       [0, 0, 1, 0],\n",
       "       [0, 1, 1, 1],\n",
       "       [0, 0, 0, 0],\n",
       "       [1, 0, 0, 1],\n",
       "       [0, 0, 0, 0],\n",
       "       [1, 0, 1, 1],\n",
       "       [1, 0, 0, 0],\n",
       "       [0, 0, 0, 1],\n",
       "       [1, 1, 1, 0],\n",
       "       [1, 0, 1, 1],\n",
       "       [0, 0, 0, 1],\n",
       "       [1, 0, 1, 0],\n",
       "       [0, 0, 1, 1],\n",
       "       [0, 1, 0, 1],\n",
       "       [0, 0, 1, 0],\n",
       "       [1, 1, 0, 0],\n",
       "       [0, 1, 1, 1],\n",
       "       [1, 1, 1, 0],\n",
       "       [1, 0, 0, 0],\n",
       "       [1, 0, 0, 0],\n",
       "       [0, 0, 0, 1],\n",
       "       [0, 1, 0, 1],\n",
       "       [0, 1, 0, 0],\n",
       "       [0, 1, 1, 1],\n",
       "       [0, 1, 1, 1],\n",
       "       [1, 1, 1, 0],\n",
       "       [0, 0, 1, 1],\n",
       "       [1, 1, 1, 0],\n",
       "       [0, 1, 1, 0],\n",
       "       [0, 1, 1, 1],\n",
       "       [0, 0, 0, 0],\n",
       "       [0, 0, 1, 0],\n",
       "       [1, 0, 0, 0],\n",
       "       [1, 0, 0, 1],\n",
       "       [0, 0, 0, 1],\n",
       "       [0, 1, 0, 0],\n",
       "       [1, 0, 1, 0],\n",
       "       [1, 0, 1, 0],\n",
       "       [0, 1, 1, 1],\n",
       "       [0, 1, 0, 1],\n",
       "       [1, 1, 1, 0],\n",
       "       [1, 1, 1, 0],\n",
       "       [1, 0, 0, 0],\n",
       "       [1, 0, 0, 1],\n",
       "       [0, 1, 0, 1],\n",
       "       [1, 0, 0, 0],\n",
       "       [0, 1, 0, 1],\n",
       "       [0, 1, 0, 1],\n",
       "       [0, 1, 0, 0],\n",
       "       [0, 0, 1, 0],\n",
       "       [0, 0, 1, 1],\n",
       "       [0, 0, 1, 1],\n",
       "       [1, 0, 0, 0],\n",
       "       [0, 0, 1, 1],\n",
       "       [1, 0, 0, 1],\n",
       "       [0, 0, 0, 0],\n",
       "       [1, 1, 0, 0],\n",
       "       [1, 0, 0, 0],\n",
       "       [0, 0, 1, 0],\n",
       "       [0, 1, 0, 0],\n",
       "       [0, 0, 0, 0],\n",
       "       [0, 0, 1, 0],\n",
       "       [1, 1, 1, 0],\n",
       "       [1, 0, 0, 0],\n",
       "       [0, 0, 1, 1],\n",
       "       [1, 1, 1, 1],\n",
       "       [0, 1, 0, 0],\n",
       "       [0, 0, 1, 1],\n",
       "       [0, 1, 0, 0],\n",
       "       [0, 0, 1, 1],\n",
       "       [1, 1, 1, 0],\n",
       "       [1, 0, 1, 0],\n",
       "       [0, 1, 0, 1],\n",
       "       [1, 1, 1, 1],\n",
       "       [1, 0, 1, 0],\n",
       "       [1, 0, 1, 1],\n",
       "       [1, 1, 0, 0],\n",
       "       [1, 1, 1, 0],\n",
       "       [0, 0, 0, 1],\n",
       "       [0, 1, 0, 0],\n",
       "       [0, 1, 1, 0],\n",
       "       [1, 0, 0, 1],\n",
       "       [0, 1, 1, 0],\n",
       "       [1, 0, 1, 1],\n",
       "       [0, 1, 1, 0],\n",
       "       [0, 1, 0, 0],\n",
       "       [1, 1, 0, 1],\n",
       "       [1, 0, 0, 0],\n",
       "       [0, 1, 0, 0],\n",
       "       [1, 0, 1, 0],\n",
       "       [1, 1, 1, 1],\n",
       "       [1, 0, 1, 1],\n",
       "       [1, 1, 0, 0],\n",
       "       [1, 0, 0, 1],\n",
       "       [0, 0, 1, 1],\n",
       "       [0, 0, 0, 1],\n",
       "       [0, 0, 1, 1],\n",
       "       [1, 1, 0, 1],\n",
       "       [0, 0, 0, 1],\n",
       "       [1, 0, 0, 1],\n",
       "       [0, 0, 1, 0],\n",
       "       [1, 1, 0, 0],\n",
       "       [1, 0, 1, 1],\n",
       "       [1, 1, 1, 1],\n",
       "       [0, 0, 0, 1],\n",
       "       [0, 1, 1, 0],\n",
       "       [1, 1, 0, 0],\n",
       "       [0, 1, 1, 0],\n",
       "       [1, 1, 1, 1],\n",
       "       [0, 1, 1, 0],\n",
       "       [1, 1, 0, 0],\n",
       "       [0, 1, 1, 0],\n",
       "       [1, 1, 1, 0],\n",
       "       [1, 0, 1, 0],\n",
       "       [1, 0, 0, 0],\n",
       "       [1, 1, 0, 0],\n",
       "       [0, 1, 0, 1],\n",
       "       [0, 1, 0, 0],\n",
       "       [1, 0, 1, 0],\n",
       "       [1, 1, 1, 0],\n",
       "       [1, 0, 1, 1],\n",
       "       [0, 1, 0, 0],\n",
       "       [1, 1, 0, 1],\n",
       "       [0, 1, 1, 0],\n",
       "       [0, 1, 0, 0],\n",
       "       [0, 1, 1, 1],\n",
       "       [1, 1, 1, 0],\n",
       "       [1, 1, 0, 0],\n",
       "       [0, 0, 0, 0],\n",
       "       [0, 0, 0, 1],\n",
       "       [0, 0, 0, 1],\n",
       "       [1, 1, 0, 1],\n",
       "       [0, 0, 0, 1]], dtype=int32)"
      ]
     },
     "execution_count": 346,
     "metadata": {},
     "output_type": "execute_result"
    }
   ],
   "source": [
    "# Simula con NumPy una matriz 200x4 con series de tiempo de actividad fMRI en 4 áreas cerebrales.\n",
    "matriz7 = np.random.randint(0, 2, size=[200,4])\n",
    "matriz7"
   ]
  },
  {
   "cell_type": "code",
   "execution_count": 350,
   "id": "ce07602b-8c71-42e2-b292-c6918dc42a0c",
   "metadata": {},
   "outputs": [
    {
     "name": "stdout",
     "output_type": "stream",
     "text": [
      "   Area_1  Area_2  Area_3  Area_4\n",
      "0       1       1       1       0\n",
      "1       0       1       0       0\n",
      "2       0       1       1       0\n",
      "3       1       1       1       1\n",
      "4       1       0       1       0\n"
     ]
    }
   ],
   "source": [
    "# Convierte en un DataFrame con columnas \"Área_1\"... \"Área_4\".\n",
    "columnas2 = [f\"Area_{i+1}\" for i in range(matriz7.shape[1])]\n",
    "\n",
    "dfact2 = pd.DataFrame(matriz7, columns=columnas2)\n",
    "\n",
    "print(dfact2.head())"
   ]
  },
  {
   "cell_type": "code",
   "execution_count": 354,
   "id": "e3e312d0-8dd5-47ef-ab84-d39f24831dd8",
   "metadata": {},
   "outputs": [
    {
     "name": "stdout",
     "output_type": "stream",
     "text": [
      "('Area_1', 'Area_2'): -0.010\n",
      "('Area_1', 'Area_3'): 0.070\n",
      "('Area_1', 'Area_4'): -0.042\n",
      "('Area_2', 'Area_3'): -0.020\n",
      "('Area_2', 'Area_4'): -0.110\n",
      "('Area_3', 'Area_4'): -0.030\n"
     ]
    }
   ],
   "source": [
    "# Con un bucle, calcula la correlación de Pearson entre todas las parejas de áreas y guárdala en un diccionario con claves (Área_i, Área_j).\n",
    "correlaciones2 = {}\n",
    "\n",
    "columnas = dfact2.columns\n",
    "numareas = len(columnas3)\n",
    "\n",
    "for i in range(numareas):\n",
    "    for j in range(i+1, numareas):\n",
    "        area_i = columnas[i]\n",
    "        area_j = columnas[j]\n",
    "        corr = dfact2[area_i].corr(dfact2[area_j])\n",
    "        correlaciones2[(area_i, area_j)] = corr\n",
    "\n",
    "\n",
    "for pareja, valor in correlaciones2.items():\n",
    "    print(f\"{pareja}: {valor:.3f}\")"
   ]
  },
  {
   "cell_type": "code",
   "execution_count": 357,
   "id": "2dc3ce34-e497-4e9f-b908-c4af2e70a558",
   "metadata": {},
   "outputs": [
    {
     "data": {
      "text/html": [
       "<div>\n",
       "<style scoped>\n",
       "    .dataframe tbody tr th:only-of-type {\n",
       "        vertical-align: middle;\n",
       "    }\n",
       "\n",
       "    .dataframe tbody tr th {\n",
       "        vertical-align: top;\n",
       "    }\n",
       "\n",
       "    .dataframe thead th {\n",
       "        text-align: right;\n",
       "    }\n",
       "</style>\n",
       "<table border=\"1\" class=\"dataframe\">\n",
       "  <thead>\n",
       "    <tr style=\"text-align: right;\">\n",
       "      <th></th>\n",
       "      <th>Area_1</th>\n",
       "      <th>Area_2</th>\n",
       "      <th>Area_3</th>\n",
       "      <th>Area_4</th>\n",
       "    </tr>\n",
       "  </thead>\n",
       "  <tbody>\n",
       "    <tr>\n",
       "      <th>Area_1</th>\n",
       "      <td>1.000000</td>\n",
       "      <td>-0.010005</td>\n",
       "      <td>0.070032</td>\n",
       "      <td>-0.042223</td>\n",
       "    </tr>\n",
       "    <tr>\n",
       "      <th>Area_2</th>\n",
       "      <td>-0.010005</td>\n",
       "      <td>1.000000</td>\n",
       "      <td>-0.020000</td>\n",
       "      <td>-0.110270</td>\n",
       "    </tr>\n",
       "    <tr>\n",
       "      <th>Area_3</th>\n",
       "      <td>0.070032</td>\n",
       "      <td>-0.020000</td>\n",
       "      <td>1.000000</td>\n",
       "      <td>-0.030074</td>\n",
       "    </tr>\n",
       "    <tr>\n",
       "      <th>Area_4</th>\n",
       "      <td>-0.042223</td>\n",
       "      <td>-0.110270</td>\n",
       "      <td>-0.030074</td>\n",
       "      <td>1.000000</td>\n",
       "    </tr>\n",
       "  </tbody>\n",
       "</table>\n",
       "</div>"
      ],
      "text/plain": [
       "          Area_1    Area_2    Area_3    Area_4\n",
       "Area_1  1.000000 -0.010005  0.070032 -0.042223\n",
       "Area_2 -0.010005  1.000000 -0.020000 -0.110270\n",
       "Area_3  0.070032 -0.020000  1.000000 -0.030074\n",
       "Area_4 -0.042223 -0.110270 -0.030074  1.000000"
      ]
     },
     "execution_count": 357,
     "metadata": {},
     "output_type": "execute_result"
    }
   ],
   "source": [
    "# Convierte el diccionario en un DataFrame cuadrado (matriz de conectividad).\n",
    "areas = dfact2.columns\n",
    "numareas = len(areas)\n",
    "\n",
    "matriz_corr = np.eye(numareas) \n",
    "\n",
    "for (area_i, area_j), corr in correlaciones2.items():\n",
    "    i = areas.get_loc(area_i)\n",
    "    j = areas.get_loc(area_j)\n",
    "    matriz_corr[i, j] = corr\n",
    "    matriz_corr[j, i] = corr\n",
    "\n",
    "df_conectividad = pd.DataFrame(matriz_corr, index=areas, columns=areas)\n",
    "\n",
    "df_conectividad"
   ]
  },
  {
   "cell_type": "markdown",
   "id": "c1444400-53e6-4b0a-8c84-07327492c649",
   "metadata": {},
   "source": [
    "🔹 Ejercicio Potenciales de acción por neurona\n",
    "\n",
    "Genera una lista de 50 neuronas.\n",
    "\n",
    "Para cada neurona, simula con NumPy una Serie de 100 ms de actividad (valores enteros 0 o 1 indicando si disparó o no).\n",
    "\n",
    "Guarda los resultados en un diccionario {Neurona: Serie}.\n",
    "\n",
    "Crea un DataFrame con todas las neuronas (filas) y tiempos (columnas).\n",
    "\n",
    "Usa un bucle para contar cuántos disparos totales tuvo cada neurona y genera una Series con esos valores."
   ]
  },
  {
   "cell_type": "code",
   "execution_count": 358,
   "id": "983d534f-c7f5-4214-95cf-2b739300ef06",
   "metadata": {},
   "outputs": [
    {
     "data": {
      "text/plain": [
       "['Neurona_1',\n",
       " 'Neurona_2',\n",
       " 'Neurona_3',\n",
       " 'Neurona_4',\n",
       " 'Neurona_5',\n",
       " 'Neurona_6',\n",
       " 'Neurona_7',\n",
       " 'Neurona_8',\n",
       " 'Neurona_9',\n",
       " 'Neurona_10',\n",
       " 'Neurona_11',\n",
       " 'Neurona_12',\n",
       " 'Neurona_13',\n",
       " 'Neurona_14',\n",
       " 'Neurona_15',\n",
       " 'Neurona_16',\n",
       " 'Neurona_17',\n",
       " 'Neurona_18',\n",
       " 'Neurona_19',\n",
       " 'Neurona_20',\n",
       " 'Neurona_21',\n",
       " 'Neurona_22',\n",
       " 'Neurona_23',\n",
       " 'Neurona_24',\n",
       " 'Neurona_25',\n",
       " 'Neurona_26',\n",
       " 'Neurona_27',\n",
       " 'Neurona_28',\n",
       " 'Neurona_29',\n",
       " 'Neurona_30',\n",
       " 'Neurona_31',\n",
       " 'Neurona_32',\n",
       " 'Neurona_33',\n",
       " 'Neurona_34',\n",
       " 'Neurona_35',\n",
       " 'Neurona_36',\n",
       " 'Neurona_37',\n",
       " 'Neurona_38',\n",
       " 'Neurona_39',\n",
       " 'Neurona_40',\n",
       " 'Neurona_41',\n",
       " 'Neurona_42',\n",
       " 'Neurona_43',\n",
       " 'Neurona_44',\n",
       " 'Neurona_45',\n",
       " 'Neurona_46',\n",
       " 'Neurona_47',\n",
       " 'Neurona_48',\n",
       " 'Neurona_49',\n",
       " 'Neurona_50']"
      ]
     },
     "execution_count": 358,
     "metadata": {},
     "output_type": "execute_result"
    }
   ],
   "source": [
    "# Genera una lista de 50 neuronas.\n",
    "neuronas = [f\"Neurona_{i+1}\" for i in range(50)]\n",
    "neuronas"
   ]
  },
  {
   "cell_type": "code",
   "execution_count": 362,
   "id": "2f968dc7-bcbb-4bfa-bc1d-484f008efd08",
   "metadata": {},
   "outputs": [
    {
     "data": {
      "text/plain": [
       "array([[0, 0, 1, ..., 0, 1, 0],\n",
       "       [1, 1, 0, ..., 0, 0, 1],\n",
       "       [1, 1, 0, ..., 1, 0, 1],\n",
       "       ...,\n",
       "       [1, 1, 1, ..., 1, 1, 0],\n",
       "       [1, 0, 0, ..., 1, 1, 0],\n",
       "       [0, 0, 0, ..., 0, 1, 0]], shape=(50, 100), dtype=int32)"
      ]
     },
     "execution_count": 362,
     "metadata": {},
     "output_type": "execute_result"
    }
   ],
   "source": [
    "# Para cada neurona, simula con NumPy una Serie de 100 ms de actividad (valores enteros 0 o 1 indicando si disparó o no).\n",
    "numneuronas = 50\n",
    "ms = 100\n",
    "\n",
    "actneuronas = np.random.randint(0, 2, size=(numneuronas, ms))\n",
    "\n",
    "actneuronas\n"
   ]
  },
  {
   "cell_type": "code",
   "execution_count": 365,
   "id": "9e4f537b-2cb2-4ebb-a7a8-863536540b79",
   "metadata": {},
   "outputs": [
    {
     "data": {
      "text/plain": [
       "{'Neurona_1': array([0, 0, 1, 0, 1, 1, 1, 0, 1, 1, 0, 1, 0, 0, 0, 0, 1, 0, 1, 0, 1, 1,\n",
       "        0, 1, 1, 0, 0, 0, 1, 0, 1, 0, 0, 0, 1, 0, 1, 0, 1, 0, 0, 0, 0, 1,\n",
       "        1, 1, 0, 0, 1, 0, 1, 0, 0, 0, 1, 0, 1, 0, 1, 0, 0, 1, 0, 1, 1, 1,\n",
       "        1, 0, 0, 1, 0, 1, 1, 0, 0, 0, 0, 0, 1, 0, 1, 0, 1, 0, 1, 0, 1, 1,\n",
       "        1, 1, 0, 1, 0, 0, 1, 1, 1, 0, 1, 0], dtype=int32),\n",
       " 'Neurona_2': array([1, 1, 0, 0, 0, 0, 1, 1, 0, 1, 0, 1, 0, 0, 0, 1, 0, 0, 0, 0, 1, 1,\n",
       "        1, 0, 1, 0, 1, 0, 0, 0, 0, 1, 1, 0, 0, 0, 1, 1, 1, 1, 1, 0, 0, 0,\n",
       "        1, 0, 0, 1, 0, 1, 1, 0, 1, 0, 0, 1, 1, 1, 0, 1, 1, 0, 1, 1, 1, 0,\n",
       "        1, 0, 1, 1, 1, 1, 1, 0, 0, 0, 1, 0, 1, 0, 0, 1, 1, 1, 1, 1, 1, 1,\n",
       "        1, 1, 0, 1, 1, 0, 1, 1, 1, 0, 0, 1], dtype=int32),\n",
       " 'Neurona_3': array([1, 1, 0, 0, 0, 1, 1, 1, 1, 0, 1, 0, 1, 1, 0, 1, 0, 0, 1, 1, 1, 1,\n",
       "        1, 1, 0, 1, 0, 1, 0, 1, 0, 0, 0, 0, 1, 0, 0, 1, 0, 0, 1, 1, 0, 0,\n",
       "        1, 1, 1, 1, 0, 1, 1, 1, 0, 0, 1, 0, 0, 0, 0, 1, 0, 0, 0, 1, 1, 1,\n",
       "        0, 1, 1, 1, 0, 0, 1, 0, 1, 0, 1, 1, 0, 1, 1, 0, 1, 1, 0, 0, 1, 1,\n",
       "        0, 1, 1, 0, 1, 1, 0, 1, 1, 1, 0, 1], dtype=int32),\n",
       " 'Neurona_4': array([1, 1, 1, 1, 0, 1, 1, 1, 1, 0, 0, 0, 1, 1, 1, 0, 0, 0, 0, 0, 0, 0,\n",
       "        1, 1, 1, 0, 1, 1, 0, 0, 0, 0, 0, 1, 1, 0, 1, 0, 0, 0, 1, 0, 0, 1,\n",
       "        0, 1, 0, 1, 1, 1, 0, 0, 0, 1, 1, 1, 1, 0, 1, 0, 0, 1, 0, 1, 1, 0,\n",
       "        0, 1, 0, 0, 0, 0, 1, 1, 0, 1, 0, 1, 0, 0, 0, 0, 1, 1, 0, 0, 1, 0,\n",
       "        0, 0, 0, 0, 1, 1, 0, 1, 0, 0, 0, 0], dtype=int32),\n",
       " 'Neurona_5': array([1, 0, 0, 1, 1, 0, 1, 1, 1, 1, 1, 1, 1, 0, 0, 1, 0, 0, 0, 1, 0, 0,\n",
       "        0, 1, 0, 1, 0, 0, 0, 1, 0, 1, 1, 0, 0, 0, 0, 0, 1, 0, 1, 1, 0, 1,\n",
       "        0, 0, 0, 1, 0, 1, 0, 0, 0, 0, 1, 1, 1, 1, 1, 1, 1, 0, 1, 1, 0, 0,\n",
       "        0, 1, 0, 0, 0, 0, 0, 1, 0, 0, 1, 0, 0, 1, 0, 1, 0, 1, 0, 0, 0, 1,\n",
       "        0, 0, 0, 0, 1, 1, 1, 0, 1, 1, 0, 0], dtype=int32),\n",
       " 'Neurona_6': array([1, 0, 1, 1, 1, 1, 1, 1, 0, 1, 0, 0, 0, 0, 0, 1, 1, 1, 1, 0, 1, 0,\n",
       "        1, 0, 1, 1, 1, 1, 0, 1, 1, 1, 0, 1, 0, 1, 0, 0, 0, 0, 0, 1, 0, 1,\n",
       "        0, 0, 0, 1, 0, 1, 0, 0, 1, 0, 1, 0, 0, 0, 1, 1, 0, 0, 1, 0, 1, 1,\n",
       "        1, 1, 0, 0, 1, 1, 0, 1, 0, 0, 0, 1, 1, 0, 0, 0, 1, 0, 1, 0, 1, 0,\n",
       "        0, 0, 1, 1, 0, 0, 0, 0, 1, 0, 1, 1], dtype=int32),\n",
       " 'Neurona_7': array([0, 0, 1, 1, 0, 1, 1, 0, 0, 1, 1, 0, 0, 0, 1, 1, 1, 0, 1, 1, 1, 1,\n",
       "        0, 0, 1, 0, 0, 1, 0, 0, 1, 1, 1, 1, 0, 0, 1, 0, 0, 0, 0, 0, 1, 1,\n",
       "        0, 0, 1, 1, 1, 1, 0, 0, 1, 1, 0, 0, 0, 1, 0, 1, 0, 0, 1, 0, 1, 0,\n",
       "        1, 1, 0, 1, 1, 1, 1, 1, 0, 0, 0, 0, 0, 1, 1, 1, 1, 0, 0, 0, 1, 0,\n",
       "        0, 0, 0, 1, 1, 1, 0, 0, 1, 0, 0, 0], dtype=int32),\n",
       " 'Neurona_8': array([0, 0, 0, 0, 1, 0, 1, 0, 0, 0, 1, 1, 1, 1, 0, 0, 0, 0, 0, 1, 0, 1,\n",
       "        0, 0, 1, 1, 0, 1, 1, 1, 1, 0, 1, 1, 1, 1, 0, 0, 1, 1, 0, 1, 1, 0,\n",
       "        1, 0, 0, 0, 1, 0, 1, 0, 0, 1, 0, 0, 0, 1, 0, 1, 0, 0, 0, 1, 1, 1,\n",
       "        1, 0, 1, 1, 1, 0, 1, 1, 1, 1, 1, 0, 0, 1, 0, 0, 1, 1, 0, 0, 0, 1,\n",
       "        1, 0, 0, 0, 1, 0, 0, 0, 0, 0, 1, 0], dtype=int32),\n",
       " 'Neurona_9': array([1, 1, 0, 0, 0, 1, 0, 0, 0, 1, 1, 0, 1, 1, 1, 1, 0, 0, 0, 1, 1, 1,\n",
       "        1, 0, 1, 1, 1, 0, 0, 1, 0, 1, 0, 1, 0, 1, 1, 1, 1, 1, 0, 1, 1, 1,\n",
       "        1, 0, 0, 0, 1, 1, 0, 1, 0, 1, 1, 1, 1, 1, 1, 0, 1, 0, 1, 0, 0, 1,\n",
       "        0, 0, 0, 1, 0, 1, 0, 1, 1, 0, 1, 1, 1, 1, 1, 0, 0, 1, 0, 1, 1, 0,\n",
       "        1, 1, 0, 0, 0, 1, 1, 1, 0, 1, 0, 0], dtype=int32),\n",
       " 'Neurona_10': array([1, 0, 0, 1, 0, 1, 0, 0, 0, 1, 0, 0, 0, 0, 0, 1, 1, 1, 1, 0, 0, 1,\n",
       "        1, 1, 1, 0, 0, 0, 0, 1, 1, 0, 0, 1, 0, 0, 0, 0, 1, 0, 1, 0, 0, 1,\n",
       "        0, 0, 1, 0, 1, 1, 1, 0, 1, 0, 1, 1, 1, 1, 0, 1, 0, 1, 1, 1, 1, 0,\n",
       "        1, 0, 1, 1, 0, 0, 0, 1, 1, 0, 0, 0, 0, 1, 1, 0, 1, 1, 1, 1, 1, 1,\n",
       "        1, 0, 0, 1, 1, 0, 0, 1, 0, 1, 0, 0], dtype=int32),\n",
       " 'Neurona_11': array([0, 1, 0, 0, 1, 1, 0, 0, 1, 0, 0, 0, 1, 0, 1, 1, 1, 1, 1, 0, 0, 0,\n",
       "        0, 0, 0, 1, 1, 1, 1, 0, 1, 0, 1, 0, 1, 0, 0, 0, 1, 1, 0, 0, 1, 1,\n",
       "        0, 0, 0, 0, 0, 1, 0, 0, 0, 0, 0, 0, 0, 1, 0, 1, 1, 1, 0, 1, 0, 0,\n",
       "        0, 1, 1, 1, 1, 1, 1, 0, 1, 1, 1, 0, 1, 0, 1, 0, 0, 1, 0, 1, 1, 1,\n",
       "        0, 0, 1, 0, 0, 1, 0, 1, 0, 0, 0, 1], dtype=int32),\n",
       " 'Neurona_12': array([0, 0, 0, 1, 1, 1, 0, 0, 0, 1, 1, 1, 1, 0, 1, 0, 1, 0, 1, 1, 1, 1,\n",
       "        1, 0, 0, 1, 0, 1, 0, 1, 0, 1, 1, 1, 0, 0, 1, 0, 1, 1, 0, 0, 1, 1,\n",
       "        1, 0, 0, 1, 0, 0, 0, 0, 0, 1, 1, 0, 1, 0, 0, 0, 0, 1, 0, 0, 0, 0,\n",
       "        0, 1, 0, 1, 0, 1, 1, 1, 1, 0, 0, 1, 0, 1, 1, 1, 0, 1, 1, 1, 1, 0,\n",
       "        0, 1, 0, 1, 1, 1, 1, 1, 0, 0, 0, 1], dtype=int32),\n",
       " 'Neurona_13': array([0, 0, 0, 1, 0, 1, 0, 0, 1, 1, 1, 1, 0, 1, 1, 0, 1, 0, 1, 0, 0, 0,\n",
       "        0, 0, 0, 1, 1, 0, 1, 1, 1, 0, 0, 1, 1, 1, 1, 1, 1, 1, 0, 0, 1, 1,\n",
       "        1, 1, 1, 1, 0, 1, 0, 0, 1, 0, 0, 0, 0, 1, 1, 1, 0, 1, 1, 0, 1, 0,\n",
       "        1, 1, 0, 1, 1, 0, 1, 1, 1, 1, 1, 1, 0, 1, 1, 1, 1, 0, 0, 1, 1, 1,\n",
       "        1, 0, 0, 0, 0, 0, 1, 0, 0, 1, 0, 0], dtype=int32),\n",
       " 'Neurona_14': array([0, 0, 1, 0, 0, 0, 0, 0, 0, 1, 0, 0, 0, 0, 0, 1, 1, 1, 0, 1, 1, 1,\n",
       "        1, 1, 0, 0, 0, 1, 0, 1, 1, 0, 1, 1, 0, 0, 1, 0, 1, 0, 0, 0, 1, 1,\n",
       "        0, 1, 0, 0, 0, 1, 1, 1, 1, 1, 1, 0, 1, 0, 0, 0, 0, 1, 1, 1, 0, 1,\n",
       "        1, 0, 1, 0, 0, 0, 0, 0, 0, 0, 0, 0, 0, 1, 0, 1, 1, 1, 1, 0, 0, 0,\n",
       "        0, 0, 1, 1, 1, 0, 1, 0, 1, 1, 0, 1], dtype=int32),\n",
       " 'Neurona_15': array([0, 0, 0, 0, 0, 1, 0, 0, 0, 1, 0, 0, 0, 0, 0, 0, 0, 0, 1, 0, 0, 1,\n",
       "        1, 0, 0, 0, 0, 1, 1, 1, 1, 0, 0, 1, 1, 0, 0, 0, 1, 0, 0, 1, 0, 0,\n",
       "        0, 0, 1, 0, 1, 1, 1, 0, 1, 0, 1, 1, 0, 0, 1, 1, 1, 1, 1, 1, 0, 0,\n",
       "        0, 1, 0, 0, 1, 1, 0, 1, 1, 1, 1, 0, 0, 0, 0, 0, 0, 1, 1, 1, 1, 1,\n",
       "        1, 1, 0, 0, 1, 0, 0, 1, 1, 1, 0, 1], dtype=int32),\n",
       " 'Neurona_16': array([1, 1, 0, 1, 1, 1, 1, 1, 1, 1, 0, 0, 1, 1, 1, 1, 1, 1, 0, 1, 1, 0,\n",
       "        0, 1, 0, 1, 0, 1, 1, 0, 0, 1, 1, 0, 0, 1, 0, 1, 0, 1, 0, 0, 0, 1,\n",
       "        0, 1, 1, 1, 0, 0, 0, 0, 1, 0, 1, 1, 0, 1, 1, 1, 1, 0, 0, 0, 1, 0,\n",
       "        1, 1, 0, 0, 0, 0, 0, 1, 1, 1, 1, 1, 1, 1, 0, 0, 1, 1, 0, 1, 1, 0,\n",
       "        0, 1, 0, 1, 0, 0, 0, 0, 1, 1, 0, 1], dtype=int32),\n",
       " 'Neurona_17': array([0, 1, 1, 0, 0, 0, 0, 1, 1, 0, 0, 0, 1, 1, 1, 0, 1, 1, 1, 0, 0, 1,\n",
       "        0, 0, 1, 1, 1, 1, 0, 1, 1, 1, 0, 1, 1, 1, 0, 1, 1, 1, 1, 1, 0, 0,\n",
       "        0, 0, 0, 1, 1, 0, 0, 0, 1, 1, 0, 0, 1, 1, 1, 1, 0, 0, 1, 0, 0, 1,\n",
       "        1, 0, 1, 0, 1, 0, 1, 0, 0, 1, 1, 0, 1, 0, 0, 0, 0, 0, 1, 0, 0, 1,\n",
       "        1, 0, 0, 0, 0, 1, 1, 1, 0, 0, 0, 0], dtype=int32),\n",
       " 'Neurona_18': array([0, 0, 1, 0, 1, 0, 1, 0, 1, 0, 1, 0, 1, 1, 1, 1, 0, 0, 1, 1, 1, 1,\n",
       "        0, 1, 0, 1, 1, 1, 1, 0, 0, 1, 1, 1, 0, 0, 0, 1, 1, 0, 1, 1, 0, 0,\n",
       "        0, 1, 1, 1, 0, 1, 1, 0, 0, 0, 0, 0, 1, 0, 1, 0, 1, 0, 1, 0, 0, 0,\n",
       "        1, 0, 0, 0, 1, 1, 0, 1, 1, 1, 0, 1, 0, 0, 0, 0, 0, 1, 0, 0, 0, 1,\n",
       "        0, 0, 0, 1, 0, 0, 0, 1, 1, 0, 1, 0], dtype=int32),\n",
       " 'Neurona_19': array([1, 0, 0, 0, 0, 1, 0, 0, 1, 0, 0, 0, 1, 0, 1, 0, 0, 1, 1, 0, 0, 1,\n",
       "        0, 0, 0, 0, 0, 0, 1, 0, 0, 1, 0, 1, 1, 1, 0, 1, 0, 1, 0, 1, 0, 1,\n",
       "        0, 1, 1, 0, 0, 0, 1, 0, 0, 0, 1, 0, 1, 1, 1, 0, 1, 1, 0, 0, 0, 0,\n",
       "        0, 0, 1, 1, 0, 1, 1, 0, 1, 0, 1, 1, 0, 0, 1, 0, 1, 0, 1, 0, 0, 1,\n",
       "        0, 1, 0, 0, 1, 0, 0, 0, 0, 0, 1, 0], dtype=int32),\n",
       " 'Neurona_20': array([1, 0, 0, 1, 1, 1, 1, 0, 1, 1, 1, 0, 1, 1, 0, 1, 0, 0, 1, 0, 1, 0,\n",
       "        0, 0, 1, 0, 0, 1, 1, 0, 1, 1, 1, 0, 1, 0, 1, 0, 1, 1, 1, 1, 1, 0,\n",
       "        1, 1, 0, 0, 1, 0, 1, 1, 1, 1, 0, 0, 0, 0, 0, 1, 0, 0, 0, 0, 0, 0,\n",
       "        0, 0, 0, 0, 1, 1, 0, 1, 0, 1, 0, 0, 1, 0, 0, 0, 0, 1, 0, 0, 1, 1,\n",
       "        0, 1, 0, 0, 0, 1, 0, 0, 1, 1, 0, 1], dtype=int32),\n",
       " 'Neurona_21': array([1, 0, 1, 1, 1, 1, 0, 1, 0, 1, 0, 0, 1, 1, 0, 1, 0, 1, 0, 1, 1, 1,\n",
       "        0, 0, 1, 1, 1, 1, 1, 0, 1, 1, 1, 0, 1, 0, 1, 0, 0, 1, 0, 1, 1, 1,\n",
       "        1, 0, 1, 1, 1, 0, 0, 1, 0, 1, 1, 1, 1, 1, 1, 0, 0, 0, 0, 0, 0, 0,\n",
       "        1, 1, 1, 1, 1, 1, 1, 1, 0, 1, 1, 1, 1, 1, 1, 1, 0, 1, 0, 0, 0, 1,\n",
       "        1, 1, 1, 1, 0, 1, 1, 0, 0, 0, 1, 0], dtype=int32),\n",
       " 'Neurona_22': array([0, 1, 1, 1, 0, 0, 0, 1, 1, 1, 0, 1, 1, 1, 1, 0, 1, 1, 0, 0, 1, 0,\n",
       "        0, 0, 0, 0, 0, 1, 1, 1, 0, 0, 1, 0, 0, 1, 0, 1, 0, 1, 1, 0, 0, 1,\n",
       "        1, 1, 1, 1, 0, 0, 1, 0, 1, 0, 0, 0, 0, 0, 1, 0, 0, 1, 1, 1, 0, 1,\n",
       "        1, 1, 0, 0, 1, 0, 1, 0, 0, 0, 1, 1, 1, 0, 0, 1, 1, 0, 1, 1, 1, 0,\n",
       "        0, 0, 1, 1, 0, 1, 0, 0, 0, 1, 1, 1], dtype=int32),\n",
       " 'Neurona_23': array([0, 0, 1, 1, 0, 0, 0, 0, 1, 0, 1, 1, 0, 0, 1, 0, 0, 1, 0, 0, 0, 1,\n",
       "        1, 1, 1, 1, 0, 0, 1, 1, 1, 1, 0, 1, 1, 0, 1, 0, 0, 0, 0, 0, 0, 1,\n",
       "        1, 1, 1, 0, 0, 0, 0, 1, 0, 1, 1, 0, 0, 0, 1, 0, 1, 0, 0, 1, 0, 1,\n",
       "        0, 0, 1, 1, 1, 0, 1, 0, 1, 1, 0, 1, 0, 0, 0, 0, 1, 0, 0, 0, 1, 1,\n",
       "        0, 0, 1, 1, 1, 0, 0, 1, 0, 1, 0, 1], dtype=int32),\n",
       " 'Neurona_24': array([1, 0, 0, 1, 1, 1, 0, 1, 0, 1, 0, 1, 0, 0, 1, 1, 1, 0, 0, 1, 1, 0,\n",
       "        1, 1, 0, 1, 1, 1, 1, 0, 0, 0, 1, 0, 0, 1, 0, 1, 1, 0, 1, 1, 1, 1,\n",
       "        1, 1, 1, 0, 1, 1, 0, 0, 0, 0, 0, 0, 1, 0, 0, 1, 1, 1, 1, 0, 1, 1,\n",
       "        1, 0, 0, 0, 1, 1, 1, 1, 1, 0, 0, 1, 0, 1, 1, 0, 1, 0, 0, 1, 0, 0,\n",
       "        0, 0, 1, 0, 0, 0, 0, 0, 1, 1, 0, 1], dtype=int32),\n",
       " 'Neurona_25': array([0, 0, 1, 0, 0, 1, 0, 1, 1, 0, 1, 0, 0, 0, 1, 0, 0, 1, 1, 0, 1, 1,\n",
       "        1, 0, 0, 1, 1, 0, 0, 0, 0, 1, 0, 1, 0, 1, 0, 0, 1, 0, 0, 0, 1, 0,\n",
       "        0, 0, 0, 0, 0, 0, 1, 0, 0, 1, 1, 1, 1, 1, 1, 1, 1, 0, 1, 0, 1, 0,\n",
       "        0, 0, 0, 1, 0, 0, 0, 0, 1, 0, 1, 0, 1, 1, 1, 0, 1, 0, 1, 1, 0, 1,\n",
       "        1, 1, 1, 1, 1, 0, 0, 0, 0, 1, 1, 1], dtype=int32),\n",
       " 'Neurona_26': array([1, 0, 1, 1, 1, 1, 0, 0, 1, 1, 0, 0, 1, 0, 0, 1, 1, 1, 0, 1, 1, 1,\n",
       "        0, 0, 1, 1, 1, 0, 1, 0, 1, 1, 0, 1, 0, 1, 1, 0, 0, 0, 1, 1, 1, 0,\n",
       "        1, 1, 1, 0, 1, 0, 0, 0, 0, 1, 1, 0, 1, 1, 1, 1, 1, 1, 1, 0, 1, 0,\n",
       "        0, 1, 1, 1, 1, 1, 0, 0, 0, 0, 0, 0, 1, 1, 0, 0, 0, 1, 0, 1, 1, 0,\n",
       "        1, 1, 1, 1, 0, 0, 0, 0, 1, 1, 1, 1], dtype=int32),\n",
       " 'Neurona_27': array([0, 0, 1, 0, 1, 0, 1, 1, 0, 0, 0, 1, 0, 1, 0, 1, 1, 1, 0, 1, 1, 0,\n",
       "        0, 0, 0, 0, 0, 0, 0, 0, 1, 1, 0, 0, 1, 0, 1, 0, 1, 0, 0, 1, 0, 0,\n",
       "        0, 1, 0, 1, 0, 0, 0, 1, 1, 0, 0, 0, 1, 1, 1, 1, 0, 1, 1, 1, 0, 1,\n",
       "        0, 1, 1, 0, 0, 1, 0, 1, 1, 0, 1, 1, 0, 0, 1, 0, 1, 0, 0, 1, 0, 1,\n",
       "        0, 1, 0, 1, 1, 0, 0, 1, 1, 1, 1, 0], dtype=int32),\n",
       " 'Neurona_28': array([1, 0, 1, 1, 1, 1, 1, 1, 0, 1, 1, 0, 1, 1, 0, 0, 0, 0, 0, 0, 0, 1,\n",
       "        1, 1, 1, 0, 1, 0, 1, 1, 1, 0, 0, 1, 1, 1, 1, 1, 0, 0, 1, 0, 0, 1,\n",
       "        1, 0, 1, 1, 1, 0, 0, 1, 1, 1, 0, 1, 0, 0, 0, 1, 0, 1, 1, 0, 1, 1,\n",
       "        0, 0, 0, 0, 1, 1, 1, 1, 0, 0, 1, 0, 1, 1, 1, 0, 0, 1, 0, 1, 1, 0,\n",
       "        1, 0, 1, 1, 1, 1, 1, 0, 0, 0, 0, 0], dtype=int32),\n",
       " 'Neurona_29': array([1, 0, 0, 1, 0, 0, 1, 1, 1, 0, 0, 1, 0, 1, 0, 0, 0, 1, 1, 0, 1, 1,\n",
       "        1, 0, 0, 0, 0, 1, 1, 1, 1, 0, 1, 0, 1, 0, 0, 1, 0, 0, 0, 0, 1, 1,\n",
       "        1, 1, 0, 0, 0, 0, 0, 1, 0, 1, 0, 0, 1, 0, 1, 1, 0, 1, 0, 0, 0, 1,\n",
       "        0, 0, 1, 1, 0, 0, 0, 1, 1, 0, 0, 1, 0, 1, 0, 1, 0, 1, 0, 1, 0, 1,\n",
       "        0, 1, 0, 1, 0, 1, 1, 0, 0, 0, 1, 1], dtype=int32),\n",
       " 'Neurona_30': array([0, 1, 0, 1, 0, 1, 0, 1, 1, 0, 1, 1, 1, 0, 0, 1, 0, 0, 1, 1, 0, 1,\n",
       "        1, 1, 1, 0, 0, 1, 0, 1, 0, 0, 1, 1, 1, 0, 1, 0, 1, 1, 0, 0, 0, 1,\n",
       "        1, 0, 1, 0, 0, 0, 0, 1, 0, 1, 0, 1, 1, 0, 0, 1, 1, 1, 0, 1, 0, 0,\n",
       "        0, 1, 1, 0, 1, 0, 1, 0, 0, 0, 0, 1, 1, 1, 0, 0, 1, 0, 0, 1, 1, 1,\n",
       "        1, 1, 1, 1, 1, 1, 0, 0, 0, 0, 0, 0], dtype=int32),\n",
       " 'Neurona_31': array([0, 0, 0, 1, 0, 1, 1, 1, 1, 1, 1, 1, 1, 1, 0, 0, 1, 1, 0, 0, 0, 1,\n",
       "        1, 0, 0, 0, 0, 1, 1, 0, 1, 0, 0, 1, 0, 1, 1, 1, 1, 1, 1, 1, 0, 0,\n",
       "        1, 1, 1, 1, 1, 0, 1, 1, 0, 0, 0, 0, 0, 1, 0, 1, 0, 1, 1, 0, 0, 1,\n",
       "        0, 0, 1, 1, 0, 1, 0, 0, 0, 0, 0, 1, 1, 0, 0, 1, 0, 0, 1, 0, 0, 1,\n",
       "        0, 0, 0, 1, 0, 0, 1, 0, 0, 1, 1, 1], dtype=int32),\n",
       " 'Neurona_32': array([1, 1, 0, 0, 1, 0, 1, 0, 0, 0, 1, 1, 1, 0, 0, 1, 0, 1, 0, 1, 0, 1,\n",
       "        1, 0, 0, 0, 1, 1, 0, 0, 0, 0, 0, 0, 0, 0, 0, 0, 1, 0, 0, 1, 0, 1,\n",
       "        1, 0, 0, 0, 1, 0, 0, 0, 1, 0, 0, 0, 1, 1, 0, 1, 1, 1, 1, 1, 1, 1,\n",
       "        0, 1, 1, 0, 1, 1, 1, 1, 0, 0, 1, 1, 0, 0, 1, 1, 0, 0, 1, 1, 0, 1,\n",
       "        0, 0, 0, 1, 0, 0, 1, 0, 1, 1, 0, 0], dtype=int32),\n",
       " 'Neurona_33': array([0, 1, 1, 1, 1, 1, 1, 1, 0, 1, 1, 1, 1, 0, 0, 1, 1, 0, 0, 0, 1, 1,\n",
       "        0, 1, 1, 0, 0, 0, 1, 0, 1, 1, 1, 1, 0, 1, 0, 0, 1, 1, 0, 0, 1, 1,\n",
       "        1, 1, 1, 0, 0, 0, 1, 1, 0, 1, 1, 1, 0, 0, 0, 1, 1, 0, 1, 0, 0, 0,\n",
       "        0, 1, 0, 1, 1, 1, 0, 1, 0, 1, 1, 0, 1, 1, 0, 0, 0, 1, 1, 0, 1, 0,\n",
       "        0, 0, 0, 0, 1, 0, 0, 1, 0, 0, 1, 0], dtype=int32),\n",
       " 'Neurona_34': array([1, 1, 1, 1, 0, 1, 1, 0, 1, 0, 1, 1, 0, 1, 0, 0, 0, 1, 0, 0, 0, 0,\n",
       "        0, 0, 1, 1, 0, 1, 0, 0, 1, 0, 0, 1, 1, 1, 1, 1, 1, 0, 0, 1, 0, 0,\n",
       "        0, 1, 0, 1, 1, 1, 0, 0, 0, 1, 0, 0, 0, 1, 1, 0, 1, 1, 0, 0, 1, 0,\n",
       "        0, 1, 0, 1, 1, 1, 0, 0, 1, 0, 1, 1, 0, 0, 0, 0, 0, 1, 0, 0, 1, 0,\n",
       "        1, 1, 0, 1, 0, 1, 1, 0, 1, 1, 0, 1], dtype=int32),\n",
       " 'Neurona_35': array([1, 1, 0, 0, 1, 1, 0, 1, 0, 1, 1, 1, 0, 1, 1, 1, 1, 1, 0, 1, 1, 1,\n",
       "        1, 1, 1, 0, 1, 0, 0, 0, 0, 1, 1, 0, 1, 1, 0, 0, 1, 1, 1, 1, 0, 1,\n",
       "        1, 0, 0, 1, 1, 0, 0, 0, 1, 0, 1, 1, 0, 0, 1, 1, 0, 0, 1, 1, 0, 0,\n",
       "        1, 1, 0, 1, 1, 1, 0, 1, 1, 0, 1, 1, 1, 1, 0, 1, 1, 0, 1, 1, 1, 0,\n",
       "        0, 0, 1, 0, 0, 0, 1, 0, 0, 1, 1, 1], dtype=int32),\n",
       " 'Neurona_36': array([0, 0, 1, 0, 1, 0, 1, 0, 1, 1, 1, 1, 1, 0, 1, 1, 1, 0, 0, 1, 0, 1,\n",
       "        0, 0, 1, 1, 0, 1, 0, 0, 0, 1, 0, 1, 0, 1, 1, 1, 1, 0, 0, 1, 1, 0,\n",
       "        1, 0, 1, 0, 1, 0, 0, 0, 0, 0, 0, 1, 1, 1, 1, 1, 0, 1, 1, 0, 0, 1,\n",
       "        1, 1, 0, 0, 0, 0, 1, 1, 1, 0, 1, 0, 1, 0, 1, 1, 0, 1, 0, 0, 0, 0,\n",
       "        0, 0, 1, 1, 0, 1, 1, 0, 1, 1, 0, 1], dtype=int32),\n",
       " 'Neurona_37': array([1, 1, 0, 0, 1, 0, 0, 1, 1, 0, 1, 1, 0, 1, 0, 1, 0, 1, 0, 0, 1, 0,\n",
       "        0, 0, 0, 0, 1, 0, 1, 0, 0, 0, 1, 0, 1, 0, 0, 0, 1, 1, 1, 1, 0, 0,\n",
       "        1, 1, 0, 1, 0, 1, 0, 1, 1, 1, 0, 0, 1, 0, 0, 1, 0, 0, 1, 1, 1, 1,\n",
       "        0, 1, 0, 0, 0, 0, 0, 0, 1, 1, 0, 0, 0, 0, 0, 0, 0, 1, 1, 0, 0, 0,\n",
       "        1, 0, 1, 0, 1, 1, 1, 1, 0, 1, 0, 1], dtype=int32),\n",
       " 'Neurona_38': array([0, 1, 1, 1, 1, 0, 0, 1, 1, 0, 1, 1, 0, 1, 1, 1, 1, 1, 0, 1, 1, 1,\n",
       "        1, 0, 0, 0, 0, 0, 1, 1, 1, 1, 0, 1, 1, 0, 1, 0, 0, 0, 0, 1, 1, 0,\n",
       "        1, 1, 1, 0, 0, 0, 1, 1, 0, 0, 1, 1, 1, 1, 0, 1, 1, 0, 0, 1, 1, 0,\n",
       "        1, 0, 1, 0, 1, 1, 0, 0, 0, 0, 0, 1, 0, 0, 1, 0, 0, 0, 0, 1, 0, 0,\n",
       "        1, 0, 0, 1, 1, 1, 1, 0, 1, 0, 1, 1], dtype=int32),\n",
       " 'Neurona_39': array([0, 0, 0, 1, 0, 1, 1, 1, 0, 1, 1, 0, 0, 0, 0, 1, 0, 0, 1, 0, 1, 1,\n",
       "        1, 0, 0, 0, 0, 0, 1, 1, 1, 1, 1, 1, 1, 0, 1, 1, 1, 1, 1, 0, 0, 0,\n",
       "        1, 0, 0, 0, 0, 0, 0, 1, 1, 0, 1, 1, 0, 0, 1, 1, 1, 0, 0, 1, 0, 1,\n",
       "        0, 1, 0, 1, 0, 0, 0, 0, 0, 1, 0, 1, 1, 1, 1, 0, 1, 0, 1, 0, 0, 0,\n",
       "        0, 1, 0, 1, 0, 0, 1, 1, 0, 0, 1, 1], dtype=int32),\n",
       " 'Neurona_40': array([1, 1, 0, 0, 1, 0, 0, 0, 0, 0, 0, 1, 1, 1, 0, 0, 0, 1, 0, 1, 0, 0,\n",
       "        0, 0, 0, 0, 0, 0, 1, 1, 1, 1, 1, 1, 0, 0, 1, 0, 1, 0, 0, 1, 1, 1,\n",
       "        1, 0, 0, 1, 0, 1, 1, 0, 0, 0, 1, 0, 0, 0, 0, 0, 1, 1, 1, 0, 0, 1,\n",
       "        0, 0, 0, 0, 1, 1, 1, 1, 0, 0, 1, 0, 1, 0, 0, 0, 0, 0, 0, 0, 0, 0,\n",
       "        1, 0, 0, 0, 0, 1, 1, 1, 1, 1, 0, 0], dtype=int32),\n",
       " 'Neurona_41': array([0, 0, 1, 0, 1, 0, 0, 1, 0, 0, 1, 0, 1, 0, 0, 1, 1, 0, 1, 0, 0, 1,\n",
       "        1, 1, 0, 1, 1, 1, 0, 1, 0, 0, 0, 0, 0, 0, 0, 1, 0, 1, 1, 0, 0, 0,\n",
       "        1, 0, 0, 1, 0, 1, 1, 1, 0, 1, 0, 1, 0, 0, 1, 1, 1, 1, 1, 1, 1, 1,\n",
       "        1, 0, 1, 0, 1, 1, 1, 0, 1, 0, 1, 1, 1, 1, 1, 0, 0, 1, 1, 1, 0, 1,\n",
       "        0, 0, 0, 0, 1, 0, 0, 1, 1, 0, 0, 0], dtype=int32),\n",
       " 'Neurona_42': array([0, 0, 1, 0, 1, 0, 1, 1, 1, 1, 1, 0, 1, 1, 0, 1, 1, 0, 1, 0, 1, 1,\n",
       "        1, 0, 0, 0, 1, 0, 0, 0, 1, 1, 0, 0, 0, 0, 1, 0, 0, 1, 0, 1, 0, 0,\n",
       "        1, 1, 0, 0, 1, 0, 0, 1, 0, 0, 0, 0, 0, 1, 0, 1, 0, 1, 0, 0, 1, 0,\n",
       "        0, 0, 0, 1, 1, 1, 1, 0, 1, 0, 0, 1, 0, 1, 0, 1, 0, 0, 0, 1, 0, 1,\n",
       "        0, 0, 0, 1, 1, 1, 0, 1, 0, 1, 1, 0], dtype=int32),\n",
       " 'Neurona_43': array([0, 1, 1, 1, 0, 0, 0, 1, 0, 0, 1, 0, 1, 1, 0, 1, 1, 0, 1, 1, 0, 0,\n",
       "        1, 1, 0, 0, 1, 0, 0, 0, 0, 1, 0, 0, 0, 1, 0, 1, 1, 0, 1, 1, 1, 1,\n",
       "        1, 1, 1, 1, 1, 0, 1, 1, 0, 1, 0, 1, 0, 0, 1, 0, 1, 1, 0, 0, 1, 1,\n",
       "        1, 1, 0, 1, 0, 0, 1, 1, 1, 0, 0, 0, 0, 1, 1, 0, 0, 0, 1, 0, 0, 0,\n",
       "        0, 0, 0, 0, 0, 1, 1, 0, 0, 1, 1, 1], dtype=int32),\n",
       " 'Neurona_44': array([0, 0, 0, 0, 0, 0, 1, 0, 0, 0, 1, 0, 1, 1, 1, 0, 1, 0, 0, 0, 1, 0,\n",
       "        1, 1, 1, 0, 1, 1, 1, 1, 1, 0, 0, 0, 1, 1, 0, 1, 0, 1, 0, 0, 0, 0,\n",
       "        1, 1, 0, 1, 0, 0, 1, 0, 0, 0, 0, 0, 0, 1, 1, 1, 1, 1, 1, 1, 1, 1,\n",
       "        1, 1, 1, 1, 1, 1, 0, 0, 1, 0, 0, 1, 1, 1, 0, 0, 0, 1, 1, 0, 0, 0,\n",
       "        1, 0, 0, 0, 0, 1, 0, 0, 1, 0, 1, 1], dtype=int32),\n",
       " 'Neurona_45': array([0, 0, 0, 1, 1, 0, 1, 1, 1, 0, 0, 1, 1, 0, 1, 1, 0, 0, 1, 1, 1, 1,\n",
       "        0, 0, 0, 0, 0, 1, 1, 0, 1, 1, 1, 0, 1, 1, 0, 1, 1, 1, 1, 0, 1, 0,\n",
       "        1, 0, 0, 0, 1, 0, 1, 1, 0, 1, 1, 1, 1, 0, 0, 1, 0, 1, 0, 1, 0, 0,\n",
       "        1, 0, 0, 0, 0, 1, 1, 0, 0, 1, 0, 0, 1, 1, 0, 0, 1, 0, 0, 0, 1, 1,\n",
       "        0, 0, 1, 1, 0, 0, 1, 1, 0, 0, 1, 0], dtype=int32),\n",
       " 'Neurona_46': array([1, 1, 0, 0, 0, 1, 1, 1, 1, 1, 0, 0, 1, 0, 0, 0, 0, 1, 1, 1, 0, 0,\n",
       "        0, 1, 0, 1, 1, 1, 1, 1, 0, 1, 0, 0, 1, 1, 0, 1, 0, 0, 0, 0, 1, 1,\n",
       "        1, 0, 1, 0, 1, 1, 0, 0, 0, 0, 0, 0, 0, 0, 0, 0, 1, 1, 0, 1, 0, 1,\n",
       "        0, 0, 0, 1, 1, 0, 0, 0, 1, 1, 1, 0, 1, 0, 1, 0, 1, 0, 0, 1, 0, 1,\n",
       "        1, 1, 0, 0, 1, 1, 0, 1, 1, 0, 0, 1], dtype=int32),\n",
       " 'Neurona_47': array([1, 1, 0, 1, 0, 0, 0, 1, 0, 1, 1, 0, 1, 0, 0, 1, 1, 1, 0, 0, 1, 0,\n",
       "        1, 1, 1, 1, 0, 0, 0, 0, 0, 1, 0, 0, 0, 0, 1, 0, 1, 1, 1, 0, 0, 1,\n",
       "        1, 0, 1, 0, 0, 0, 0, 1, 1, 0, 0, 1, 1, 1, 0, 0, 0, 1, 1, 1, 1, 0,\n",
       "        1, 1, 1, 0, 1, 1, 1, 1, 1, 1, 0, 1, 0, 1, 1, 1, 0, 0, 0, 1, 1, 1,\n",
       "        0, 1, 0, 1, 0, 0, 1, 0, 0, 1, 0, 1], dtype=int32),\n",
       " 'Neurona_48': array([1, 1, 1, 1, 1, 1, 0, 0, 0, 0, 1, 0, 1, 0, 0, 1, 0, 0, 0, 0, 1, 1,\n",
       "        0, 1, 0, 1, 0, 1, 1, 0, 0, 0, 1, 1, 1, 0, 0, 0, 0, 0, 1, 0, 0, 1,\n",
       "        0, 0, 0, 0, 0, 1, 0, 0, 0, 0, 1, 0, 1, 1, 0, 0, 1, 1, 0, 0, 1, 0,\n",
       "        1, 1, 1, 0, 1, 0, 0, 1, 0, 0, 0, 1, 0, 0, 1, 0, 1, 0, 0, 0, 0, 1,\n",
       "        1, 1, 1, 1, 0, 0, 1, 0, 0, 1, 1, 0], dtype=int32),\n",
       " 'Neurona_49': array([1, 0, 0, 0, 0, 1, 0, 1, 0, 0, 0, 1, 0, 0, 0, 0, 0, 0, 1, 0, 1, 1,\n",
       "        0, 1, 1, 1, 0, 1, 1, 0, 1, 0, 1, 0, 0, 1, 1, 1, 1, 1, 1, 0, 0, 1,\n",
       "        1, 1, 1, 1, 1, 1, 0, 0, 0, 0, 0, 0, 0, 0, 0, 0, 0, 1, 0, 0, 0, 1,\n",
       "        0, 0, 1, 0, 1, 1, 1, 1, 0, 1, 1, 1, 0, 1, 1, 1, 1, 0, 1, 1, 0, 1,\n",
       "        0, 0, 0, 0, 1, 1, 0, 0, 1, 1, 1, 0], dtype=int32),\n",
       " 'Neurona_50': array([0, 0, 0, 0, 0, 1, 1, 0, 1, 0, 0, 1, 0, 1, 0, 1, 0, 0, 0, 0, 0, 0,\n",
       "        0, 0, 0, 0, 1, 1, 0, 0, 0, 0, 0, 1, 1, 0, 0, 0, 0, 0, 1, 1, 0, 0,\n",
       "        1, 1, 1, 1, 0, 0, 0, 0, 0, 1, 0, 1, 1, 0, 1, 1, 0, 1, 0, 1, 1, 1,\n",
       "        0, 0, 1, 0, 0, 0, 1, 1, 1, 0, 0, 1, 1, 1, 0, 0, 0, 0, 0, 1, 0, 0,\n",
       "        0, 1, 1, 0, 0, 1, 1, 1, 1, 0, 1, 0], dtype=int32)}"
      ]
     },
     "execution_count": 365,
     "metadata": {},
     "output_type": "execute_result"
    }
   ],
   "source": [
    "# Guarda los resultados en un diccionario {Neurona: Serie}.\n",
    "actdic= {f\"Neurona_{i+1}\": actneuronas[i] for i in range(numneuronas)}\n",
    "\n",
    "actdic"
   ]
  },
  {
   "cell_type": "code",
   "execution_count": 367,
   "id": "c60eb995-cebf-4eaf-8ef7-1ae1b1bde855",
   "metadata": {},
   "outputs": [
    {
     "data": {
      "text/html": [
       "<div>\n",
       "<style scoped>\n",
       "    .dataframe tbody tr th:only-of-type {\n",
       "        vertical-align: middle;\n",
       "    }\n",
       "\n",
       "    .dataframe tbody tr th {\n",
       "        vertical-align: top;\n",
       "    }\n",
       "\n",
       "    .dataframe thead th {\n",
       "        text-align: right;\n",
       "    }\n",
       "</style>\n",
       "<table border=\"1\" class=\"dataframe\">\n",
       "  <thead>\n",
       "    <tr style=\"text-align: right;\">\n",
       "      <th></th>\n",
       "      <th>Región_1</th>\n",
       "      <th>Región_2</th>\n",
       "      <th>Región_3</th>\n",
       "      <th>Región_4</th>\n",
       "      <th>Región_5</th>\n",
       "    </tr>\n",
       "  </thead>\n",
       "  <tbody>\n",
       "    <tr>\n",
       "      <th>0</th>\n",
       "      <td>1</td>\n",
       "      <td>0</td>\n",
       "      <td>0</td>\n",
       "      <td>1</td>\n",
       "      <td>0</td>\n",
       "    </tr>\n",
       "    <tr>\n",
       "      <th>1</th>\n",
       "      <td>0</td>\n",
       "      <td>1</td>\n",
       "      <td>0</td>\n",
       "      <td>1</td>\n",
       "      <td>1</td>\n",
       "    </tr>\n",
       "    <tr>\n",
       "      <th>2</th>\n",
       "      <td>0</td>\n",
       "      <td>1</td>\n",
       "      <td>0</td>\n",
       "      <td>1</td>\n",
       "      <td>0</td>\n",
       "    </tr>\n",
       "    <tr>\n",
       "      <th>3</th>\n",
       "      <td>1</td>\n",
       "      <td>1</td>\n",
       "      <td>0</td>\n",
       "      <td>1</td>\n",
       "      <td>0</td>\n",
       "    </tr>\n",
       "    <tr>\n",
       "      <th>4</th>\n",
       "      <td>0</td>\n",
       "      <td>0</td>\n",
       "      <td>1</td>\n",
       "      <td>1</td>\n",
       "      <td>1</td>\n",
       "    </tr>\n",
       "    <tr>\n",
       "      <th>...</th>\n",
       "      <td>...</td>\n",
       "      <td>...</td>\n",
       "      <td>...</td>\n",
       "      <td>...</td>\n",
       "      <td>...</td>\n",
       "    </tr>\n",
       "    <tr>\n",
       "      <th>95</th>\n",
       "      <td>1</td>\n",
       "      <td>0</td>\n",
       "      <td>0</td>\n",
       "      <td>0</td>\n",
       "      <td>0</td>\n",
       "    </tr>\n",
       "    <tr>\n",
       "      <th>96</th>\n",
       "      <td>0</td>\n",
       "      <td>1</td>\n",
       "      <td>1</td>\n",
       "      <td>0</td>\n",
       "      <td>0</td>\n",
       "    </tr>\n",
       "    <tr>\n",
       "      <th>97</th>\n",
       "      <td>0</td>\n",
       "      <td>0</td>\n",
       "      <td>0</td>\n",
       "      <td>1</td>\n",
       "      <td>0</td>\n",
       "    </tr>\n",
       "    <tr>\n",
       "      <th>98</th>\n",
       "      <td>1</td>\n",
       "      <td>0</td>\n",
       "      <td>0</td>\n",
       "      <td>1</td>\n",
       "      <td>1</td>\n",
       "    </tr>\n",
       "    <tr>\n",
       "      <th>99</th>\n",
       "      <td>0</td>\n",
       "      <td>0</td>\n",
       "      <td>1</td>\n",
       "      <td>0</td>\n",
       "      <td>0</td>\n",
       "    </tr>\n",
       "  </tbody>\n",
       "</table>\n",
       "<p>100 rows × 5 columns</p>\n",
       "</div>"
      ],
      "text/plain": [
       "    Región_1  Región_2  Región_3  Región_4  Región_5\n",
       "0          1         0         0         1         0\n",
       "1          0         1         0         1         1\n",
       "2          0         1         0         1         0\n",
       "3          1         1         0         1         0\n",
       "4          0         0         1         1         1\n",
       "..       ...       ...       ...       ...       ...\n",
       "95         1         0         0         0         0\n",
       "96         0         1         1         0         0\n",
       "97         0         0         0         1         0\n",
       "98         1         0         0         1         1\n",
       "99         0         0         1         0         0\n",
       "\n",
       "[100 rows x 5 columns]"
      ]
     },
     "execution_count": 367,
     "metadata": {},
     "output_type": "execute_result"
    }
   ],
   "source": [
    "# Crea un DataFrame con todas las neuronas (filas) y tiempos (columnas).\n",
    "dfact3 = pd.DataFrame(actdic).T \n",
    "\n",
    "dfact3.columns = [f\"ms_{i}\" for i in range(ms)]\n",
    "dfact"
   ]
  },
  {
   "cell_type": "code",
   "execution_count": 369,
   "id": "6299a607-2763-470c-8aee-0191989ff7d6",
   "metadata": {},
   "outputs": [
    {
     "data": {
      "text/plain": [
       "Neurona_1     47\n",
       "Neurona_2     55\n",
       "Neurona_3     56\n",
       "Neurona_4     44\n",
       "Neurona_5     44\n",
       "Neurona_6     49\n",
       "Neurona_7     48\n",
       "Neurona_8     47\n",
       "Neurona_9     58\n",
       "Neurona_10    50\n",
       "Neurona_11    46\n",
       "Neurona_12    52\n",
       "Neurona_13    56\n",
       "Neurona_14    45\n",
       "Neurona_15    45\n",
       "Neurona_16    56\n",
       "Neurona_17    49\n",
       "Neurona_18    47\n",
       "Neurona_19    40\n",
       "Neurona_20    47\n",
       "Neurona_21    63\n",
       "Neurona_22    51\n",
       "Neurona_23    46\n",
       "Neurona_24    53\n",
       "Neurona_25    47\n",
       "Neurona_26    58\n",
       "Neurona_27    47\n",
       "Neurona_28    56\n",
       "Neurona_29    46\n",
       "Neurona_30    51\n",
       "Neurona_31    50\n",
       "Neurona_32    46\n",
       "Neurona_33    53\n",
       "Neurona_34    49\n",
       "Neurona_35    60\n",
       "Neurona_36    52\n",
       "Neurona_37    45\n",
       "Neurona_38    54\n",
       "Neurona_39    48\n",
       "Neurona_40    40\n",
       "Neurona_41    51\n",
       "Neurona_42    45\n",
       "Neurona_43    50\n",
       "Neurona_44    49\n",
       "Neurona_45    50\n",
       "Neurona_46    48\n",
       "Neurona_47    53\n",
       "Neurona_48    43\n",
       "Neurona_49    49\n",
       "Neurona_50    40\n",
       "Name: Disparos Totales, dtype: int64"
      ]
     },
     "execution_count": 369,
     "metadata": {},
     "output_type": "execute_result"
    }
   ],
   "source": [
    "# Usa un bucle para contar cuántos disparos totales tuvo cada neurona y genera una Series con esos valores.\n",
    "disparos={}\n",
    "\n",
    "for neurona in dfact3.index:\n",
    "    disparos[neurona] = dfact3.loc[neurona].sum()\n",
    "\n",
    "serie_disparos = pd.Series(disparos, name=\"Disparos Totales\")\n",
    "serie_disparos"
   ]
  },
  {
   "cell_type": "markdown",
   "id": "b3fa8e28-a6aa-4ea0-a297-8df5b1077855",
   "metadata": {},
   "source": [
    "🔹 Ejercicio EEG por canales\n",
    "\n",
    "Simula una matriz 500x8 con NumPy representando 500 muestras de señal EEG en 8 canales (valores flotantes entre -100 y 100 µV).\n",
    "\n",
    "Convierte la matriz en un DataFrame con columnas \"Canal_1\"... \"Canal_8\".\n",
    "\n",
    "Usa un bucle para calcular la potencia media de cada canal (media del cuadrado de la señal).\n",
    "\n",
    "Guarda los resultados en un diccionario y conviértelo en una Series ordenada.\n",
    "\n",
    "Identifica el canal con mayor potencia."
   ]
  },
  {
   "cell_type": "code",
   "execution_count": 370,
   "id": "8b868161-d572-4423-9c9e-4adadbe8bbdc",
   "metadata": {},
   "outputs": [],
   "source": [
    "# Simula una matriz 500x8 con NumPy representando 500 muestras de señal EEG en 8 canales (valores flotantes entre -100 y 100 µV).\n",
    "matriz8 = np.random.uniform(-100, 100, size=(500,8))"
   ]
  },
  {
   "cell_type": "code",
   "execution_count": 373,
   "id": "6323677b-2451-45bc-857c-e5b7f9aa5cad",
   "metadata": {},
   "outputs": [
    {
     "name": "stdout",
     "output_type": "stream",
     "text": [
      "     Canal_1    Canal_2    Canal_3    Canal_4    Canal_5    Canal_6  \\\n",
      "0  -7.438910 -80.863532 -40.897739  12.005718 -71.084984  17.794894   \n",
      "1 -66.700362  46.970065 -45.985655 -66.750186  18.432001  36.459772   \n",
      "2  93.651500 -28.556649 -81.009471   7.945704  94.970706  81.787872   \n",
      "3 -82.038344  -6.698545 -40.380139  68.648112  26.172494 -38.274884   \n",
      "4  -3.176224 -76.293421  -4.186145  -8.516695  17.729398   2.766967   \n",
      "\n",
      "     Canal_7    Canal_8  \n",
      "0 -61.460143 -20.337610  \n",
      "1  -9.697381 -40.856032  \n",
      "2 -31.825674  38.876986  \n",
      "3 -41.881196  53.968964  \n",
      "4  38.530465 -33.436448  \n"
     ]
    }
   ],
   "source": [
    "# Convierte la matriz en un DataFrame con columnas \"Canal_1\"... \"Canal_8\".\n",
    "columnas = [f\"Canal_{i+1}\" for i in range(matriz8.shape[1])]\n",
    "\n",
    "df4 = pd.DataFrame(matriz8, columns=columnas)\n",
    "print(df4.head())"
   ]
  },
  {
   "cell_type": "code",
   "execution_count": 377,
   "id": "39503741-fda1-4d30-8901-0729ee2eae29",
   "metadata": {},
   "outputs": [
    {
     "name": "stdout",
     "output_type": "stream",
     "text": [
      "Canal_1: 3134.59\n",
      "Canal_2: 3488.95\n",
      "Canal_3: 3502.48\n",
      "Canal_4: 3333.61\n",
      "Canal_5: 3421.71\n",
      "Canal_6: 3279.52\n",
      "Canal_7: 3349.44\n",
      "Canal_8: 3261.63\n"
     ]
    }
   ],
   "source": [
    "# Usa un bucle para calcular la potencia media de cada canal (media del cuadrado de la señal).\n",
    "potenciamedia = {}\n",
    "\n",
    "for valor in df4.columns:\n",
    "    potenciamedia[valor] = (df4[valor]**2).mean()\n",
    "\n",
    "for canal, valor in potenciamedia.items():\n",
    "    print(f\"{canal}: {valor:.2f}\")"
   ]
  },
  {
   "cell_type": "code",
   "execution_count": 379,
   "id": "387231f7-98e3-45ce-90ec-4a041bc54870",
   "metadata": {},
   "outputs": [
    {
     "data": {
      "text/plain": [
       "Canal_3    3502.477399\n",
       "Canal_2    3488.953617\n",
       "Canal_5    3421.710373\n",
       "Canal_7    3349.443861\n",
       "Canal_4    3333.612994\n",
       "Canal_6    3279.515277\n",
       "Canal_8    3261.633244\n",
       "Canal_1    3134.590719\n",
       "Name: Potencia media, dtype: float64"
      ]
     },
     "execution_count": 379,
     "metadata": {},
     "output_type": "execute_result"
    }
   ],
   "source": [
    "# Guarda los resultados en un diccionario y conviértelo en una Series ordenada.\n",
    "serie3 = pd.Series(potenciamedia, name=\"Potencia media\")\n",
    "\n",
    "serie3ordenada = serie3.sort_values(ascending=False)\n",
    "serie3ordenada"
   ]
  },
  {
   "cell_type": "code",
   "execution_count": 382,
   "id": "449f8ac7-3a08-47e8-875f-9b6a9df8f6ee",
   "metadata": {},
   "outputs": [
    {
     "name": "stdout",
     "output_type": "stream",
     "text": [
      "El canal con mayor potencia es Canal_3 con 3502.48\n"
     ]
    }
   ],
   "source": [
    "# Identifica el canal con mayor potencia.\n",
    "canalmax = serie3ordenada.idxmax()\n",
    "potenciamax = serie3ordenada.max()\n",
    "print(f\"El canal con mayor potencia es {canalmax} con {potenciamax:.2f}\")"
   ]
  },
  {
   "cell_type": "markdown",
   "id": "64464de2-850c-4c86-b245-843e183f0a68",
   "metadata": {},
   "source": [
    "🔹 Ejercicio Análisis de respuestas a estímulos\n",
    "\n",
    "Genera un DataFrame con 30 sujetos (filas) y 3 condiciones experimentales (\"Cond_A\", \"Cond_B\", \"Cond_C\") con valores de tiempo de reacción simulados (valores entre 200–800 ms).\n",
    "\n",
    "Usa un bucle para calcular el promedio por condición en toda la muestra.\n",
    "\n",
    "Convierte los resultados en un diccionario y luego en una Series.\n",
    "\n",
    "Agrega una columna \"Mejor_condición\" al DataFrame indicando la condición más rápida por sujeto.\n",
    "\n",
    "Cuenta cuántos sujetos respondieron mejor en cada condición."
   ]
  },
  {
   "cell_type": "code",
   "execution_count": 386,
   "id": "ebd7c105-85eb-4762-9a63-1515dd3313a4",
   "metadata": {},
   "outputs": [
    {
     "name": "stdout",
     "output_type": "stream",
     "text": [
      "     Sujeto  Cond_A  Cond_B  Cond_C\n",
      "0  Sujeto_1     329     439     208\n",
      "1  Sujeto_2     582     682     671\n",
      "2  Sujeto_3     665     484     203\n",
      "3  Sujeto_4     629     706     592\n",
      "4  Sujeto_5     730     648     481\n"
     ]
    }
   ],
   "source": [
    "numsujetos = 30\n",
    "condiciones = [\"Cond_A\", \"Cond_B\", \"Cond_C\"]\n",
    "\n",
    "\n",
    "tiempos = np.random.randint(200, 801, size=(numsujetos, len(condiciones)))\n",
    "\n",
    "\n",
    "df5 = pd.DataFrame(tiempos, columns=condiciones)\n",
    "\n",
    "df5.insert(0, \"Sujeto\", [f\"Sujeto_{i+1}\" for i in range(numsujetos)])\n",
    "\n",
    "print(df5.head())"
   ]
  },
  {
   "cell_type": "code",
   "execution_count": 387,
   "id": "6dfb1395-00f0-4b81-bb58-2428eb33e290",
   "metadata": {},
   "outputs": [
    {
     "name": "stdout",
     "output_type": "stream",
     "text": [
      "Cond_A: 519.00 ms\n",
      "Cond_B: 558.27 ms\n",
      "Cond_C: 479.13 ms\n"
     ]
    }
   ],
   "source": [
    "#Usa un bucle para calcular el promedio por condición en toda la muestra.\n",
    "promedios_condiciones = {}\n",
    "\n",
    "for condicion in [\"Cond_A\", \"Cond_B\", \"Cond_C\"]:\n",
    "    promedios_condiciones[condicion] = df5[condicion].mean()\n",
    "\n",
    "for cond, prom in promedios_condiciones.items():\n",
    "    print(f\"{cond}: {prom:.2f} ms\")"
   ]
  },
  {
   "cell_type": "code",
   "execution_count": 388,
   "id": "fbb6da37-5521-4962-bcf0-252edb168f4f",
   "metadata": {},
   "outputs": [
    {
     "data": {
      "text/plain": [
       "Cond_A    519.000000\n",
       "Cond_B    558.266667\n",
       "Cond_C    479.133333\n",
       "Name: Promedio_Reaccion, dtype: float64"
      ]
     },
     "execution_count": 388,
     "metadata": {},
     "output_type": "execute_result"
    }
   ],
   "source": [
    "# Convierte los resultados en un diccionario y luego en una Series.\n",
    "serie_promedios = pd.Series(promedios_condiciones, name=\"Promedio_Reaccion\")\n",
    "serie_promedios"
   ]
  },
  {
   "cell_type": "code",
   "execution_count": 390,
   "id": "5cdbd4be-b028-4d8c-822c-4d6011331d31",
   "metadata": {},
   "outputs": [
    {
     "data": {
      "text/html": [
       "<div>\n",
       "<style scoped>\n",
       "    .dataframe tbody tr th:only-of-type {\n",
       "        vertical-align: middle;\n",
       "    }\n",
       "\n",
       "    .dataframe tbody tr th {\n",
       "        vertical-align: top;\n",
       "    }\n",
       "\n",
       "    .dataframe thead th {\n",
       "        text-align: right;\n",
       "    }\n",
       "</style>\n",
       "<table border=\"1\" class=\"dataframe\">\n",
       "  <thead>\n",
       "    <tr style=\"text-align: right;\">\n",
       "      <th></th>\n",
       "      <th>Sujeto</th>\n",
       "      <th>Cond_A</th>\n",
       "      <th>Cond_B</th>\n",
       "      <th>Cond_C</th>\n",
       "      <th>Mejor_condición</th>\n",
       "    </tr>\n",
       "  </thead>\n",
       "  <tbody>\n",
       "    <tr>\n",
       "      <th>0</th>\n",
       "      <td>Sujeto_1</td>\n",
       "      <td>329</td>\n",
       "      <td>439</td>\n",
       "      <td>208</td>\n",
       "      <td>Cond_C</td>\n",
       "    </tr>\n",
       "    <tr>\n",
       "      <th>1</th>\n",
       "      <td>Sujeto_2</td>\n",
       "      <td>582</td>\n",
       "      <td>682</td>\n",
       "      <td>671</td>\n",
       "      <td>Cond_A</td>\n",
       "    </tr>\n",
       "    <tr>\n",
       "      <th>2</th>\n",
       "      <td>Sujeto_3</td>\n",
       "      <td>665</td>\n",
       "      <td>484</td>\n",
       "      <td>203</td>\n",
       "      <td>Cond_C</td>\n",
       "    </tr>\n",
       "    <tr>\n",
       "      <th>3</th>\n",
       "      <td>Sujeto_4</td>\n",
       "      <td>629</td>\n",
       "      <td>706</td>\n",
       "      <td>592</td>\n",
       "      <td>Cond_C</td>\n",
       "    </tr>\n",
       "    <tr>\n",
       "      <th>4</th>\n",
       "      <td>Sujeto_5</td>\n",
       "      <td>730</td>\n",
       "      <td>648</td>\n",
       "      <td>481</td>\n",
       "      <td>Cond_C</td>\n",
       "    </tr>\n",
       "    <tr>\n",
       "      <th>5</th>\n",
       "      <td>Sujeto_6</td>\n",
       "      <td>624</td>\n",
       "      <td>597</td>\n",
       "      <td>547</td>\n",
       "      <td>Cond_C</td>\n",
       "    </tr>\n",
       "    <tr>\n",
       "      <th>6</th>\n",
       "      <td>Sujeto_7</td>\n",
       "      <td>373</td>\n",
       "      <td>701</td>\n",
       "      <td>210</td>\n",
       "      <td>Cond_C</td>\n",
       "    </tr>\n",
       "    <tr>\n",
       "      <th>7</th>\n",
       "      <td>Sujeto_8</td>\n",
       "      <td>523</td>\n",
       "      <td>682</td>\n",
       "      <td>456</td>\n",
       "      <td>Cond_C</td>\n",
       "    </tr>\n",
       "    <tr>\n",
       "      <th>8</th>\n",
       "      <td>Sujeto_9</td>\n",
       "      <td>384</td>\n",
       "      <td>760</td>\n",
       "      <td>746</td>\n",
       "      <td>Cond_A</td>\n",
       "    </tr>\n",
       "    <tr>\n",
       "      <th>9</th>\n",
       "      <td>Sujeto_10</td>\n",
       "      <td>513</td>\n",
       "      <td>225</td>\n",
       "      <td>619</td>\n",
       "      <td>Cond_B</td>\n",
       "    </tr>\n",
       "    <tr>\n",
       "      <th>10</th>\n",
       "      <td>Sujeto_11</td>\n",
       "      <td>675</td>\n",
       "      <td>618</td>\n",
       "      <td>499</td>\n",
       "      <td>Cond_C</td>\n",
       "    </tr>\n",
       "    <tr>\n",
       "      <th>11</th>\n",
       "      <td>Sujeto_12</td>\n",
       "      <td>415</td>\n",
       "      <td>605</td>\n",
       "      <td>548</td>\n",
       "      <td>Cond_A</td>\n",
       "    </tr>\n",
       "    <tr>\n",
       "      <th>12</th>\n",
       "      <td>Sujeto_13</td>\n",
       "      <td>403</td>\n",
       "      <td>612</td>\n",
       "      <td>216</td>\n",
       "      <td>Cond_C</td>\n",
       "    </tr>\n",
       "    <tr>\n",
       "      <th>13</th>\n",
       "      <td>Sujeto_14</td>\n",
       "      <td>717</td>\n",
       "      <td>203</td>\n",
       "      <td>462</td>\n",
       "      <td>Cond_B</td>\n",
       "    </tr>\n",
       "    <tr>\n",
       "      <th>14</th>\n",
       "      <td>Sujeto_15</td>\n",
       "      <td>285</td>\n",
       "      <td>775</td>\n",
       "      <td>792</td>\n",
       "      <td>Cond_A</td>\n",
       "    </tr>\n",
       "    <tr>\n",
       "      <th>15</th>\n",
       "      <td>Sujeto_16</td>\n",
       "      <td>453</td>\n",
       "      <td>402</td>\n",
       "      <td>277</td>\n",
       "      <td>Cond_C</td>\n",
       "    </tr>\n",
       "    <tr>\n",
       "      <th>16</th>\n",
       "      <td>Sujeto_17</td>\n",
       "      <td>506</td>\n",
       "      <td>226</td>\n",
       "      <td>559</td>\n",
       "      <td>Cond_B</td>\n",
       "    </tr>\n",
       "    <tr>\n",
       "      <th>17</th>\n",
       "      <td>Sujeto_18</td>\n",
       "      <td>652</td>\n",
       "      <td>578</td>\n",
       "      <td>530</td>\n",
       "      <td>Cond_C</td>\n",
       "    </tr>\n",
       "    <tr>\n",
       "      <th>18</th>\n",
       "      <td>Sujeto_19</td>\n",
       "      <td>368</td>\n",
       "      <td>567</td>\n",
       "      <td>702</td>\n",
       "      <td>Cond_A</td>\n",
       "    </tr>\n",
       "    <tr>\n",
       "      <th>19</th>\n",
       "      <td>Sujeto_20</td>\n",
       "      <td>485</td>\n",
       "      <td>598</td>\n",
       "      <td>733</td>\n",
       "      <td>Cond_A</td>\n",
       "    </tr>\n",
       "    <tr>\n",
       "      <th>20</th>\n",
       "      <td>Sujeto_21</td>\n",
       "      <td>291</td>\n",
       "      <td>748</td>\n",
       "      <td>223</td>\n",
       "      <td>Cond_C</td>\n",
       "    </tr>\n",
       "    <tr>\n",
       "      <th>21</th>\n",
       "      <td>Sujeto_22</td>\n",
       "      <td>433</td>\n",
       "      <td>242</td>\n",
       "      <td>580</td>\n",
       "      <td>Cond_B</td>\n",
       "    </tr>\n",
       "    <tr>\n",
       "      <th>22</th>\n",
       "      <td>Sujeto_23</td>\n",
       "      <td>494</td>\n",
       "      <td>537</td>\n",
       "      <td>566</td>\n",
       "      <td>Cond_A</td>\n",
       "    </tr>\n",
       "    <tr>\n",
       "      <th>23</th>\n",
       "      <td>Sujeto_24</td>\n",
       "      <td>622</td>\n",
       "      <td>444</td>\n",
       "      <td>442</td>\n",
       "      <td>Cond_C</td>\n",
       "    </tr>\n",
       "    <tr>\n",
       "      <th>24</th>\n",
       "      <td>Sujeto_25</td>\n",
       "      <td>710</td>\n",
       "      <td>559</td>\n",
       "      <td>467</td>\n",
       "      <td>Cond_C</td>\n",
       "    </tr>\n",
       "    <tr>\n",
       "      <th>25</th>\n",
       "      <td>Sujeto_26</td>\n",
       "      <td>671</td>\n",
       "      <td>544</td>\n",
       "      <td>287</td>\n",
       "      <td>Cond_C</td>\n",
       "    </tr>\n",
       "    <tr>\n",
       "      <th>26</th>\n",
       "      <td>Sujeto_27</td>\n",
       "      <td>747</td>\n",
       "      <td>717</td>\n",
       "      <td>274</td>\n",
       "      <td>Cond_C</td>\n",
       "    </tr>\n",
       "    <tr>\n",
       "      <th>27</th>\n",
       "      <td>Sujeto_28</td>\n",
       "      <td>670</td>\n",
       "      <td>686</td>\n",
       "      <td>468</td>\n",
       "      <td>Cond_C</td>\n",
       "    </tr>\n",
       "    <tr>\n",
       "      <th>28</th>\n",
       "      <td>Sujeto_29</td>\n",
       "      <td>367</td>\n",
       "      <td>687</td>\n",
       "      <td>256</td>\n",
       "      <td>Cond_C</td>\n",
       "    </tr>\n",
       "    <tr>\n",
       "      <th>29</th>\n",
       "      <td>Sujeto_30</td>\n",
       "      <td>254</td>\n",
       "      <td>476</td>\n",
       "      <td>760</td>\n",
       "      <td>Cond_A</td>\n",
       "    </tr>\n",
       "  </tbody>\n",
       "</table>\n",
       "</div>"
      ],
      "text/plain": [
       "       Sujeto  Cond_A  Cond_B  Cond_C Mejor_condición\n",
       "0    Sujeto_1     329     439     208          Cond_C\n",
       "1    Sujeto_2     582     682     671          Cond_A\n",
       "2    Sujeto_3     665     484     203          Cond_C\n",
       "3    Sujeto_4     629     706     592          Cond_C\n",
       "4    Sujeto_5     730     648     481          Cond_C\n",
       "5    Sujeto_6     624     597     547          Cond_C\n",
       "6    Sujeto_7     373     701     210          Cond_C\n",
       "7    Sujeto_8     523     682     456          Cond_C\n",
       "8    Sujeto_9     384     760     746          Cond_A\n",
       "9   Sujeto_10     513     225     619          Cond_B\n",
       "10  Sujeto_11     675     618     499          Cond_C\n",
       "11  Sujeto_12     415     605     548          Cond_A\n",
       "12  Sujeto_13     403     612     216          Cond_C\n",
       "13  Sujeto_14     717     203     462          Cond_B\n",
       "14  Sujeto_15     285     775     792          Cond_A\n",
       "15  Sujeto_16     453     402     277          Cond_C\n",
       "16  Sujeto_17     506     226     559          Cond_B\n",
       "17  Sujeto_18     652     578     530          Cond_C\n",
       "18  Sujeto_19     368     567     702          Cond_A\n",
       "19  Sujeto_20     485     598     733          Cond_A\n",
       "20  Sujeto_21     291     748     223          Cond_C\n",
       "21  Sujeto_22     433     242     580          Cond_B\n",
       "22  Sujeto_23     494     537     566          Cond_A\n",
       "23  Sujeto_24     622     444     442          Cond_C\n",
       "24  Sujeto_25     710     559     467          Cond_C\n",
       "25  Sujeto_26     671     544     287          Cond_C\n",
       "26  Sujeto_27     747     717     274          Cond_C\n",
       "27  Sujeto_28     670     686     468          Cond_C\n",
       "28  Sujeto_29     367     687     256          Cond_C\n",
       "29  Sujeto_30     254     476     760          Cond_A"
      ]
     },
     "execution_count": 390,
     "metadata": {},
     "output_type": "execute_result"
    }
   ],
   "source": [
    "# Agrega una columna \"Mejor_condición\" al DataFrame indicando la condición más rápida por sujeto.\n",
    "df5[\"Mejor_condición\"] = df5[[\"Cond_A\", \"Cond_B\", \"Cond_C\"]].idxmin(axis=1)\n",
    "df5\n"
   ]
  },
  {
   "cell_type": "code",
   "execution_count": 394,
   "id": "ddf04352-539c-40f6-b230-908245e65330",
   "metadata": {},
   "outputs": [
    {
     "data": {
      "text/plain": [
       "Mejor_condición\n",
       "Cond_C    18\n",
       "Cond_A     8\n",
       "Cond_B     4\n",
       "Name: count, dtype: int64"
      ]
     },
     "execution_count": 394,
     "metadata": {},
     "output_type": "execute_result"
    }
   ],
   "source": [
    "# Cuenta cuántos sujetos respondieron mejor en cada condición.\n",
    "conteo_mejores = df5[\"Mejor_condición\"].value_counts()\n",
    "conteo_mejores"
   ]
  }
 ],
 "metadata": {
  "kernelspec": {
   "display_name": "Python 3 (ipykernel)",
   "language": "python",
   "name": "python3"
  },
  "language_info": {
   "codemirror_mode": {
    "name": "ipython",
    "version": 3
   },
   "file_extension": ".py",
   "mimetype": "text/x-python",
   "name": "python",
   "nbconvert_exporter": "python",
   "pygments_lexer": "ipython3",
   "version": "3.13.6"
  }
 },
 "nbformat": 4,
 "nbformat_minor": 5
}
