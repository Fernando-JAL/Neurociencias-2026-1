{
 "cells": [
  {
   "cell_type": "markdown",
   "id": "e761df69-3ea9-443e-88c6-87ced0d3f9df",
   "metadata": {},
   "source": [
    "# Examen del 2do Parcial"
   ]
  },
  {
   "cell_type": "markdown",
   "id": "dac53475-ca81-4a07-82e5-20e01a1787f0",
   "metadata": {},
   "source": [
    "1. Utilizando el dataset de _Coactivation_matrix.mat_:\n",
    "- Calcule el coeficiente de mundo pequeño\n",
    "- Calcule las comunidades del grafo\n",
    "- Calcule los hub\n",
    "- Calcule la eficiencia global\n",
    "- Calcule la eficiencia local\n",
    "- Determine el grado de cada nodo\n",
    "\n",
    "2. Utilizando el dataset de _Coactivation_matrix.mat_:\n",
    "- Generar el mapa de calor de cada matriz de conectividad\n",
    "- Generar la distribución de datos de cada matriz de conectividad\n",
    "- ¿Qué valor se encuentra en el percentil 0.25, 0.5 y 0.75 de la matriz de conectividad?\n",
    "- Cree los 3 grafos 2D filtrando la matriz de conectividad con los valores dados por los percentiles del ejercicio anterior\n",
    "\n",
    "3. Utilizando el dataset de _Coactivation_matrix.mat_:\n",
    "- Genere el grafo 3D\n",
    "- Haga que el tamaño de nodos sea proporcional a su grado; es decir, q entre mayor sea su grado, mayor sea el tamaño del nodo ploteado\n",
    "- Haga que el color de las aristas este relacionado al valor de la matriz de conectividad. Utilizar el map color Hot\n",
    "\n",
    "4. Utilizando el dataset de _chb01_01.edf_:\n",
    "- Calcule el coeficiente de mundo pequeño\n",
    "- Calcule las comunidades del grafo\n",
    "- Calcule los hub\n",
    "- Calcule la eficiencia global\n",
    "- Calcule la eficiencia local\n",
    "- Determine el grado de cada nodo\n",
    "\n",
    "5. Utilizando el dataset de _chb01_01.edf_:\n",
    "- Genere el grafo 3D\n",
    "- Haga que el tamaño de nodos sea proporcional a su grado; es decir, q entre mayor sea su grado, mayor sea el tamaño del nodo ploteado\n",
    "- Haga que el color de las aristas este relacionado al valor de la matriz de conectividad. Utilizar el map color Hot\n"
   ]
  },
  {
   "cell_type": "code",
   "execution_count": null,
   "id": "eb3677d6-3bf0-4e33-a625-e66df2ad1c42",
   "metadata": {},
   "outputs": [],
   "source": []
  }
 ],
 "metadata": {
  "kernelspec": {
   "display_name": "Python 3 (ipykernel)",
   "language": "python",
   "name": "python3"
  },
  "language_info": {
   "codemirror_mode": {
    "name": "ipython",
    "version": 3
   },
   "file_extension": ".py",
   "mimetype": "text/x-python",
   "name": "python",
   "nbconvert_exporter": "python",
   "pygments_lexer": "ipython3",
   "version": "3.10.4"
  }
 },
 "nbformat": 4,
 "nbformat_minor": 5
}
