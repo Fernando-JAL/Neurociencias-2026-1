{
 "cells": [
  {
   "cell_type": "code",
   "execution_count": 1,
   "id": "c581a08d-a038-4561-97e3-c9c87f4de140",
   "metadata": {},
   "outputs": [],
   "source": [
    "import pandas as pd\n",
    "import numpy as np"
   ]
  },
  {
   "cell_type": "code",
   "execution_count": 2,
   "id": "6440e6f9-18ea-474e-9373-798d106556b7",
   "metadata": {},
   "outputs": [],
   "source": [
    "experimento= { \"sujeto\": [\"S01\",\"S02\",\"S03\", \"S01\",\"S01\",\"S02\"],\n",
    "               \"sabor\":[\"chocolate\",\"piñon\",\"queso\",\"angel\",\"vainilla\",\"choco\"],\n",
    "               \"precio\":[45,105,30,60,85,120],\n",
    "               \"tamaño\":[\"med\",\"gra\",\"ch\",\"med\",\"gra\",\"ch\"]}"
   ]
  },
  {
   "cell_type": "code",
   "execution_count": 3,
   "id": "1eed911e-fa00-4103-a426-b34e133ca1b8",
   "metadata": {},
   "outputs": [],
   "source": [
    "dafra=pd.DataFrame(experimento)"
   ]
  },
  {
   "cell_type": "code",
   "execution_count": 4,
   "id": "08ce365c-955f-4d4e-b30f-fc39c29bb11b",
   "metadata": {},
   "outputs": [
    {
     "name": "stdout",
     "output_type": "stream",
     "text": [
      "  sujeto      sabor  precio tamaño  activación\n",
      "0    S01  chocolate      45    med        True\n",
      "1    S02      piñon     105    gra        True\n",
      "2    S03      queso      30     ch       False\n",
      "3    S01      angel      60    med       False\n",
      "4    S01   vainilla      85    gra        True\n",
      "5    S02      choco     120     ch        True\n"
     ]
    }
   ],
   "source": [
    "dafra[\"activación\"]= [True,True,False,False,True,True] #agregar columna\n",
    "print(dafra)"
   ]
  },
  {
   "cell_type": "code",
   "execution_count": 5,
   "id": "112a6375-ffef-4f78-aaeb-d5309d08a559",
   "metadata": {},
   "outputs": [
    {
     "data": {
      "text/plain": [
       "0    S01\n",
       "1    S02\n",
       "2    S03\n",
       "3    S01\n",
       "4    S01\n",
       "5    S02\n",
       "Name: sujeto, dtype: object"
      ]
     },
     "execution_count": 5,
     "metadata": {},
     "output_type": "execute_result"
    }
   ],
   "source": [
    "dafra.sujeto"
   ]
  },
  {
   "cell_type": "code",
   "execution_count": 6,
   "id": "b083961f-acbb-4730-902d-24be1ba279fb",
   "metadata": {},
   "outputs": [
    {
     "data": {
      "text/html": [
       "<div>\n",
       "<style scoped>\n",
       "    .dataframe tbody tr th:only-of-type {\n",
       "        vertical-align: middle;\n",
       "    }\n",
       "\n",
       "    .dataframe tbody tr th {\n",
       "        vertical-align: top;\n",
       "    }\n",
       "\n",
       "    .dataframe thead th {\n",
       "        text-align: right;\n",
       "    }\n",
       "</style>\n",
       "<table border=\"1\" class=\"dataframe\">\n",
       "  <thead>\n",
       "    <tr style=\"text-align: right;\">\n",
       "      <th></th>\n",
       "      <th>sujeto</th>\n",
       "      <th>sabor</th>\n",
       "      <th>precio</th>\n",
       "      <th>tamaño</th>\n",
       "      <th>activación</th>\n",
       "    </tr>\n",
       "  </thead>\n",
       "  <tbody>\n",
       "    <tr>\n",
       "      <th>0</th>\n",
       "      <td>S01</td>\n",
       "      <td>chocolate</td>\n",
       "      <td>45</td>\n",
       "      <td>med</td>\n",
       "      <td>True</td>\n",
       "    </tr>\n",
       "    <tr>\n",
       "      <th>3</th>\n",
       "      <td>S01</td>\n",
       "      <td>angel</td>\n",
       "      <td>60</td>\n",
       "      <td>med</td>\n",
       "      <td>False</td>\n",
       "    </tr>\n",
       "    <tr>\n",
       "      <th>4</th>\n",
       "      <td>S01</td>\n",
       "      <td>vainilla</td>\n",
       "      <td>85</td>\n",
       "      <td>gra</td>\n",
       "      <td>True</td>\n",
       "    </tr>\n",
       "  </tbody>\n",
       "</table>\n",
       "</div>"
      ],
      "text/plain": [
       "  sujeto      sabor  precio tamaño  activación\n",
       "0    S01  chocolate      45    med        True\n",
       "3    S01      angel      60    med       False\n",
       "4    S01   vainilla      85    gra        True"
      ]
     },
     "execution_count": 6,
     "metadata": {},
     "output_type": "execute_result"
    }
   ],
   "source": [
    "dafra[dafra[\"sujeto\"]== \"S01\"] #filtrado condicional a todas las filas que cumplen la condicion"
   ]
  },
  {
   "cell_type": "code",
   "execution_count": 7,
   "id": "2c5a54ff-f817-4250-bd2b-0362e4de8c94",
   "metadata": {},
   "outputs": [
    {
     "data": {
      "text/html": [
       "<div>\n",
       "<style scoped>\n",
       "    .dataframe tbody tr th:only-of-type {\n",
       "        vertical-align: middle;\n",
       "    }\n",
       "\n",
       "    .dataframe tbody tr th {\n",
       "        vertical-align: top;\n",
       "    }\n",
       "\n",
       "    .dataframe thead th {\n",
       "        text-align: right;\n",
       "    }\n",
       "</style>\n",
       "<table border=\"1\" class=\"dataframe\">\n",
       "  <thead>\n",
       "    <tr style=\"text-align: right;\">\n",
       "      <th></th>\n",
       "      <th>sujeto</th>\n",
       "      <th>sabor</th>\n",
       "      <th>precio</th>\n",
       "      <th>tamaño</th>\n",
       "      <th>activación</th>\n",
       "    </tr>\n",
       "  </thead>\n",
       "  <tbody>\n",
       "    <tr>\n",
       "      <th>1</th>\n",
       "      <td>S02</td>\n",
       "      <td>piñon</td>\n",
       "      <td>105</td>\n",
       "      <td>gra</td>\n",
       "      <td>True</td>\n",
       "    </tr>\n",
       "    <tr>\n",
       "      <th>5</th>\n",
       "      <td>S02</td>\n",
       "      <td>choco</td>\n",
       "      <td>120</td>\n",
       "      <td>ch</td>\n",
       "      <td>True</td>\n",
       "    </tr>\n",
       "  </tbody>\n",
       "</table>\n",
       "</div>"
      ],
      "text/plain": [
       "  sujeto  sabor  precio tamaño  activación\n",
       "1    S02  piñon     105    gra        True\n",
       "5    S02  choco     120     ch        True"
      ]
     },
     "execution_count": 7,
     "metadata": {},
     "output_type": "execute_result"
    }
   ],
   "source": [
    "dafra[dafra[\"precio\"]>100]"
   ]
  },
  {
   "cell_type": "code",
   "execution_count": 8,
   "id": "a9bdcea4-c5d4-4a16-9e91-e44a4c608176",
   "metadata": {},
   "outputs": [
    {
     "data": {
      "text/html": [
       "<div>\n",
       "<style scoped>\n",
       "    .dataframe tbody tr th:only-of-type {\n",
       "        vertical-align: middle;\n",
       "    }\n",
       "\n",
       "    .dataframe tbody tr th {\n",
       "        vertical-align: top;\n",
       "    }\n",
       "\n",
       "    .dataframe thead tr th {\n",
       "        text-align: left;\n",
       "    }\n",
       "\n",
       "    .dataframe thead tr:last-of-type th {\n",
       "        text-align: right;\n",
       "    }\n",
       "</style>\n",
       "<table border=\"1\" class=\"dataframe\">\n",
       "  <thead>\n",
       "    <tr>\n",
       "      <th></th>\n",
       "      <th colspan=\"10\" halign=\"left\">sabor</th>\n",
       "      <th>...</th>\n",
       "      <th colspan=\"10\" halign=\"left\">activación</th>\n",
       "    </tr>\n",
       "    <tr>\n",
       "      <th></th>\n",
       "      <th>count</th>\n",
       "      <th>unique</th>\n",
       "      <th>top</th>\n",
       "      <th>freq</th>\n",
       "      <th>mean</th>\n",
       "      <th>std</th>\n",
       "      <th>min</th>\n",
       "      <th>25%</th>\n",
       "      <th>50%</th>\n",
       "      <th>75%</th>\n",
       "      <th>...</th>\n",
       "      <th>unique</th>\n",
       "      <th>top</th>\n",
       "      <th>freq</th>\n",
       "      <th>mean</th>\n",
       "      <th>std</th>\n",
       "      <th>min</th>\n",
       "      <th>25%</th>\n",
       "      <th>50%</th>\n",
       "      <th>75%</th>\n",
       "      <th>max</th>\n",
       "    </tr>\n",
       "    <tr>\n",
       "      <th>sujeto</th>\n",
       "      <th></th>\n",
       "      <th></th>\n",
       "      <th></th>\n",
       "      <th></th>\n",
       "      <th></th>\n",
       "      <th></th>\n",
       "      <th></th>\n",
       "      <th></th>\n",
       "      <th></th>\n",
       "      <th></th>\n",
       "      <th></th>\n",
       "      <th></th>\n",
       "      <th></th>\n",
       "      <th></th>\n",
       "      <th></th>\n",
       "      <th></th>\n",
       "      <th></th>\n",
       "      <th></th>\n",
       "      <th></th>\n",
       "      <th></th>\n",
       "      <th></th>\n",
       "    </tr>\n",
       "  </thead>\n",
       "  <tbody>\n",
       "    <tr>\n",
       "      <th>S01</th>\n",
       "      <td>3</td>\n",
       "      <td>3</td>\n",
       "      <td>chocolate</td>\n",
       "      <td>1</td>\n",
       "      <td>NaN</td>\n",
       "      <td>NaN</td>\n",
       "      <td>NaN</td>\n",
       "      <td>NaN</td>\n",
       "      <td>NaN</td>\n",
       "      <td>NaN</td>\n",
       "      <td>...</td>\n",
       "      <td>2</td>\n",
       "      <td>True</td>\n",
       "      <td>2</td>\n",
       "      <td>NaN</td>\n",
       "      <td>NaN</td>\n",
       "      <td>NaN</td>\n",
       "      <td>NaN</td>\n",
       "      <td>NaN</td>\n",
       "      <td>NaN</td>\n",
       "      <td>NaN</td>\n",
       "    </tr>\n",
       "    <tr>\n",
       "      <th>S02</th>\n",
       "      <td>2</td>\n",
       "      <td>2</td>\n",
       "      <td>piñon</td>\n",
       "      <td>1</td>\n",
       "      <td>NaN</td>\n",
       "      <td>NaN</td>\n",
       "      <td>NaN</td>\n",
       "      <td>NaN</td>\n",
       "      <td>NaN</td>\n",
       "      <td>NaN</td>\n",
       "      <td>...</td>\n",
       "      <td>1</td>\n",
       "      <td>True</td>\n",
       "      <td>2</td>\n",
       "      <td>NaN</td>\n",
       "      <td>NaN</td>\n",
       "      <td>NaN</td>\n",
       "      <td>NaN</td>\n",
       "      <td>NaN</td>\n",
       "      <td>NaN</td>\n",
       "      <td>NaN</td>\n",
       "    </tr>\n",
       "    <tr>\n",
       "      <th>S03</th>\n",
       "      <td>1</td>\n",
       "      <td>1</td>\n",
       "      <td>queso</td>\n",
       "      <td>1</td>\n",
       "      <td>NaN</td>\n",
       "      <td>NaN</td>\n",
       "      <td>NaN</td>\n",
       "      <td>NaN</td>\n",
       "      <td>NaN</td>\n",
       "      <td>NaN</td>\n",
       "      <td>...</td>\n",
       "      <td>1</td>\n",
       "      <td>False</td>\n",
       "      <td>1</td>\n",
       "      <td>NaN</td>\n",
       "      <td>NaN</td>\n",
       "      <td>NaN</td>\n",
       "      <td>NaN</td>\n",
       "      <td>NaN</td>\n",
       "      <td>NaN</td>\n",
       "      <td>NaN</td>\n",
       "    </tr>\n",
       "  </tbody>\n",
       "</table>\n",
       "<p>3 rows × 44 columns</p>\n",
       "</div>"
      ],
      "text/plain": [
       "       sabor                                                       ...  \\\n",
       "       count unique        top freq mean  std  min  25%  50%  75%  ...   \n",
       "sujeto                                                             ...   \n",
       "S01        3      3  chocolate    1  NaN  NaN  NaN  NaN  NaN  NaN  ...   \n",
       "S02        2      2      piñon    1  NaN  NaN  NaN  NaN  NaN  NaN  ...   \n",
       "S03        1      1      queso    1  NaN  NaN  NaN  NaN  NaN  NaN  ...   \n",
       "\n",
       "       activación                                                 \n",
       "           unique    top freq mean  std  min  25%  50%  75%  max  \n",
       "sujeto                                                            \n",
       "S01             2   True    2  NaN  NaN  NaN  NaN  NaN  NaN  NaN  \n",
       "S02             1   True    2  NaN  NaN  NaN  NaN  NaN  NaN  NaN  \n",
       "S03             1  False    1  NaN  NaN  NaN  NaN  NaN  NaN  NaN  \n",
       "\n",
       "[3 rows x 44 columns]"
      ]
     },
     "execution_count": 8,
     "metadata": {},
     "output_type": "execute_result"
    }
   ],
   "source": [
    "por_sujeto=dafra.groupby(by=\"sujeto\")\n",
    "por_sujeto.describe(include=\"all\")"
   ]
  },
  {
   "cell_type": "code",
   "execution_count": 9,
   "id": "6909be85-8a67-41b4-ab4f-78b9e0f78a1c",
   "metadata": {},
   "outputs": [],
   "source": [
    "tipos_sujetos= [\"S\"+ str(i).zfill(2)for i in range (4)]\n",
    "generos=[\"M\",\"F\"]\n",
    "condicion=[\"control\",\"experimental\"]\n",
    "region=[\"hipocampo\",\"PFC\",\"amígdala\"]\n",
    "neurotransmisores=[\"dopamina\",\"serotonina\"]\n",
    "#crear DF 200 filas\n",
    "#las columnas que están arriba con distr normal\n",
    "#agregar col llamada precisión con dstr normal y mu= 0.92 y sigma= 0.08\n",
    "#se pretenden simular los datos de un estudio en el que se miden las var cognitivas y fisiológicas en\n",
    "#dif regiones cerebrales sujetos y condiciones\n"
   ]
  },
  {
   "cell_type": "code",
   "execution_count": 10,
   "id": "8b94e949-e873-4b4d-b8b4-08ed94a60ba5",
   "metadata": {},
   "outputs": [],
   "source": [
    "n = 200\n",
    "sujetos = np.random.choice(tipos_sujetos, n)\n",
    "sexos = np.random.choice(generos, n)\n",
    "condiciones = np.random.choice(condicion, n)\n",
    "regiones = np.random.choice(region, n)\n",
    "neurots = np.random.choice(neurotransmisores, n)\n",
    "\n",
    "# precisión ~ Normal(0.92, 0.08)\n",
    "precision = np.random.normal(loc=0.92, scale=0.08, size=n)\n",
    "\n",
    "# limitar precisión entre 0 y 1 (si se quiere realista como proporción)\n",
    "precision = np.clip(precision, 0, 1)\n",
    "\n",
    "# crear DataFrame\n",
    "df = pd.DataFrame({\n",
    "    \"Sujeto\": sujetos,\n",
    "    \"Genero\": sexos,\n",
    "    \"Condicion\": condiciones,\n",
    "    \"Region\": regiones,\n",
    "    \"Neurotransmisor\": neurots,\n",
    "    \"Precision\": precision\n",
    "})\n"
   ]
  },
  {
   "cell_type": "code",
   "execution_count": 11,
   "id": "d812f21b-0932-4abc-867f-4d2c33858c4d",
   "metadata": {},
   "outputs": [
    {
     "data": {
      "text/html": [
       "<div>\n",
       "<style scoped>\n",
       "    .dataframe tbody tr th:only-of-type {\n",
       "        vertical-align: middle;\n",
       "    }\n",
       "\n",
       "    .dataframe tbody tr th {\n",
       "        vertical-align: top;\n",
       "    }\n",
       "\n",
       "    .dataframe thead th {\n",
       "        text-align: right;\n",
       "    }\n",
       "</style>\n",
       "<table border=\"1\" class=\"dataframe\">\n",
       "  <thead>\n",
       "    <tr style=\"text-align: right;\">\n",
       "      <th></th>\n",
       "      <th>Sujeto</th>\n",
       "      <th>Genero</th>\n",
       "      <th>Condicion</th>\n",
       "      <th>Region</th>\n",
       "      <th>Neurotransmisor</th>\n",
       "      <th>Precision</th>\n",
       "    </tr>\n",
       "  </thead>\n",
       "  <tbody>\n",
       "    <tr>\n",
       "      <th>0</th>\n",
       "      <td>S02</td>\n",
       "      <td>F</td>\n",
       "      <td>experimental</td>\n",
       "      <td>PFC</td>\n",
       "      <td>serotonina</td>\n",
       "      <td>0.986853</td>\n",
       "    </tr>\n",
       "    <tr>\n",
       "      <th>1</th>\n",
       "      <td>S00</td>\n",
       "      <td>F</td>\n",
       "      <td>control</td>\n",
       "      <td>PFC</td>\n",
       "      <td>serotonina</td>\n",
       "      <td>0.853042</td>\n",
       "    </tr>\n",
       "    <tr>\n",
       "      <th>2</th>\n",
       "      <td>S01</td>\n",
       "      <td>M</td>\n",
       "      <td>experimental</td>\n",
       "      <td>hipocampo</td>\n",
       "      <td>serotonina</td>\n",
       "      <td>0.933576</td>\n",
       "    </tr>\n",
       "    <tr>\n",
       "      <th>3</th>\n",
       "      <td>S01</td>\n",
       "      <td>M</td>\n",
       "      <td>control</td>\n",
       "      <td>amígdala</td>\n",
       "      <td>dopamina</td>\n",
       "      <td>0.836149</td>\n",
       "    </tr>\n",
       "    <tr>\n",
       "      <th>4</th>\n",
       "      <td>S02</td>\n",
       "      <td>M</td>\n",
       "      <td>experimental</td>\n",
       "      <td>PFC</td>\n",
       "      <td>dopamina</td>\n",
       "      <td>0.927884</td>\n",
       "    </tr>\n",
       "    <tr>\n",
       "      <th>...</th>\n",
       "      <td>...</td>\n",
       "      <td>...</td>\n",
       "      <td>...</td>\n",
       "      <td>...</td>\n",
       "      <td>...</td>\n",
       "      <td>...</td>\n",
       "    </tr>\n",
       "    <tr>\n",
       "      <th>195</th>\n",
       "      <td>S02</td>\n",
       "      <td>M</td>\n",
       "      <td>control</td>\n",
       "      <td>hipocampo</td>\n",
       "      <td>serotonina</td>\n",
       "      <td>0.914849</td>\n",
       "    </tr>\n",
       "    <tr>\n",
       "      <th>196</th>\n",
       "      <td>S00</td>\n",
       "      <td>M</td>\n",
       "      <td>experimental</td>\n",
       "      <td>PFC</td>\n",
       "      <td>serotonina</td>\n",
       "      <td>0.931297</td>\n",
       "    </tr>\n",
       "    <tr>\n",
       "      <th>197</th>\n",
       "      <td>S00</td>\n",
       "      <td>F</td>\n",
       "      <td>experimental</td>\n",
       "      <td>PFC</td>\n",
       "      <td>dopamina</td>\n",
       "      <td>0.900795</td>\n",
       "    </tr>\n",
       "    <tr>\n",
       "      <th>198</th>\n",
       "      <td>S03</td>\n",
       "      <td>M</td>\n",
       "      <td>control</td>\n",
       "      <td>amígdala</td>\n",
       "      <td>dopamina</td>\n",
       "      <td>0.961371</td>\n",
       "    </tr>\n",
       "    <tr>\n",
       "      <th>199</th>\n",
       "      <td>S00</td>\n",
       "      <td>F</td>\n",
       "      <td>control</td>\n",
       "      <td>amígdala</td>\n",
       "      <td>serotonina</td>\n",
       "      <td>0.807722</td>\n",
       "    </tr>\n",
       "  </tbody>\n",
       "</table>\n",
       "<p>200 rows × 6 columns</p>\n",
       "</div>"
      ],
      "text/plain": [
       "    Sujeto Genero     Condicion     Region Neurotransmisor  Precision\n",
       "0      S02      F  experimental        PFC      serotonina   0.986853\n",
       "1      S00      F       control        PFC      serotonina   0.853042\n",
       "2      S01      M  experimental  hipocampo      serotonina   0.933576\n",
       "3      S01      M       control   amígdala        dopamina   0.836149\n",
       "4      S02      M  experimental        PFC        dopamina   0.927884\n",
       "..     ...    ...           ...        ...             ...        ...\n",
       "195    S02      M       control  hipocampo      serotonina   0.914849\n",
       "196    S00      M  experimental        PFC      serotonina   0.931297\n",
       "197    S00      F  experimental        PFC        dopamina   0.900795\n",
       "198    S03      M       control   amígdala        dopamina   0.961371\n",
       "199    S00      F       control   amígdala      serotonina   0.807722\n",
       "\n",
       "[200 rows x 6 columns]"
      ]
     },
     "execution_count": 11,
     "metadata": {},
     "output_type": "execute_result"
    }
   ],
   "source": [
    "df"
   ]
  },
  {
   "cell_type": "code",
   "execution_count": 12,
   "id": "3245d77b-5f0c-435c-bf33-d4aea2e47fcb",
   "metadata": {},
   "outputs": [],
   "source": [
    "#generar h8istograma de cuantos datos por sujeto se tienen y mostrar en un histograma la proporcion de neurotransmisor"
   ]
  },
  {
   "cell_type": "code",
   "execution_count": 13,
   "id": "b8d919ec-0c20-4aa3-a91c-48fdad8968e9",
   "metadata": {},
   "outputs": [
    {
     "data": {
      "image/png": "[encoded data removed]",
      "text/plain": [
       "<Figure size 640x480 with 1 Axes>"
      ]
     },
     "metadata": {},
     "output_type": "display_data"
    },
    {
     "data": {
      "image/png": "[encoded data removed]",
      "text/plain": [
       "<Figure size 640x480 with 1 Axes>"
      ]
     },
     "metadata": {},
     "output_type": "display_data"
    }
   ],
   "source": [
    "import matplotlib.pyplot as plt\n",
    "\n",
    "#  Histograma 1: conteo de datos por sujeto\n",
    "df['Sujeto'].value_counts().sort_index()\n",
    "plt.hist(df[\"Sujeto\"])\n",
    "plt.title(\"Número de datos por sujeto\")\n",
    "plt.xlabel(\"Sujeto\")\n",
    "plt.ylabel(\"Frecuencia\")\n",
    "plt.show()\n",
    "\n",
    "# Histograma 2: proporción de neurotransmisores \n",
    "plt.hist(df['Neurotransmisor'].value_counts(normalize=True),color=['salmon'])\n",
    "plt.title(\"Proporción de neurotransmisores\")\n",
    "plt.xlabel(\"Neurotransmisor\")\n",
    "plt.ylabel(\"Proporción\")\n",
    "plt.show()\n"
   ]
  },
  {
   "cell_type": "code",
   "execution_count": 14,
   "id": "c449700b-8fa9-4e68-aa7a-c3a36837831a",
   "metadata": {},
   "outputs": [],
   "source": [
    "#para cada sujeto calcular la proporción del tipo de condición\n",
    "#para cada sujeto, calcular el máximo, mínimo y la media de su precisión\n",
    "#para cada condición, hacer el histograma de las regiones activadas\n",
    "#y hacerlo mediante 2 métodos: filtrado de dataframes y usando groupby\n"
   ]
  },
  {
   "cell_type": "code",
   "execution_count": 17,
   "id": "dc39fba6-a78d-4550-b9e0-0ecf42622793",
   "metadata": {},
   "outputs": [
    {
     "name": "stdout",
     "output_type": "stream",
     "text": [
      "\n",
      "Sujeto S02:\n",
      "Condicion\n",
      "control         0.509804\n",
      "experimental    0.490196\n",
      "Name: proportion, dtype: float64\n",
      "\n",
      "Sujeto S00:\n",
      "Condicion\n",
      "control         0.552632\n",
      "experimental    0.447368\n",
      "Name: proportion, dtype: float64\n",
      "\n",
      "Sujeto S01:\n",
      "Condicion\n",
      "experimental    0.525424\n",
      "control         0.474576\n",
      "Name: proportion, dtype: float64\n",
      "\n",
      "Sujeto S03:\n",
      "Condicion\n",
      "control         0.557692\n",
      "experimental    0.442308\n",
      "Name: proportion, dtype: float64\n"
     ]
    }
   ],
   "source": [
    "#filtrado de df\n",
    "for sujeto in df[\"Sujeto\"].unique(): #se obtiene la lista única de sujetos\n",
    "    datos_suj= df[df[\"Sujeto\"]== sujeto] # nuevo df con solo filas de ese sujeto\n",
    "    proporciones= datos_suj[\"Condicion\"].value_counts(normalize=True) #conteo de cuantas filas de cada condición tiene ese sujeto\n",
    "    print(f\"\\nSujeto {sujeto}:\\n{proporciones}\")"
   ]
  },
  {
   "cell_type": "code",
   "execution_count": 22,
   "id": "5596a7fd-2a66-41af-9b7c-322f6cae1254",
   "metadata": {},
   "outputs": [
    {
     "data": {
      "text/plain": [
       "Sujeto  Sujeto  Condicion   \n",
       "S00     S00     control         0.552632\n",
       "                experimental    0.447368\n",
       "S01     S01     control         0.474576\n",
       "                experimental    0.525424\n",
       "S02     S02     control         0.509804\n",
       "                experimental    0.490196\n",
       "S03     S03     control         0.557692\n",
       "                experimental    0.442308\n",
       "dtype: float64"
      ]
     },
     "execution_count": 22,
     "metadata": {},
     "output_type": "execute_result"
    }
   ],
   "source": [
    "#filtrado mediante groupby\n",
    "prop_cond = df.groupby(['Sujeto','Condicion']).size().groupby(level=0).apply(lambda x: x/x.sum())\n",
    "prop_cond\n",
    "#cuenta cuantas filas hay para cada combinación suj-cond\n",
    "#esta es una alternativa:\n",
    "#df.groupby('Sujeto')['Condicion'].value_counts(normalize=True)\n"
   ]
  },
  {
   "cell_type": "code",
   "execution_count": 24,
   "id": "ade6fa98-efa1-4f1e-b1a9-fafcf385b397",
   "metadata": {},
   "outputs": [
    {
     "data": {
      "text/html": [
       "<div>\n",
       "<style scoped>\n",
       "    .dataframe tbody tr th:only-of-type {\n",
       "        vertical-align: middle;\n",
       "    }\n",
       "\n",
       "    .dataframe tbody tr th {\n",
       "        vertical-align: top;\n",
       "    }\n",
       "\n",
       "    .dataframe thead th {\n",
       "        text-align: right;\n",
       "    }\n",
       "</style>\n",
       "<table border=\"1\" class=\"dataframe\">\n",
       "  <thead>\n",
       "    <tr style=\"text-align: right;\">\n",
       "      <th></th>\n",
       "      <th>Sujeto</th>\n",
       "      <th>Genero</th>\n",
       "      <th>Condicion</th>\n",
       "      <th>Region</th>\n",
       "      <th>Neurotransmisor</th>\n",
       "      <th>Precision</th>\n",
       "    </tr>\n",
       "  </thead>\n",
       "  <tbody>\n",
       "    <tr>\n",
       "      <th>1</th>\n",
       "      <td>S00</td>\n",
       "      <td>F</td>\n",
       "      <td>control</td>\n",
       "      <td>PFC</td>\n",
       "      <td>serotonina</td>\n",
       "      <td>0.853042</td>\n",
       "    </tr>\n",
       "    <tr>\n",
       "      <th>5</th>\n",
       "      <td>S00</td>\n",
       "      <td>F</td>\n",
       "      <td>control</td>\n",
       "      <td>amígdala</td>\n",
       "      <td>dopamina</td>\n",
       "      <td>0.879949</td>\n",
       "    </tr>\n",
       "    <tr>\n",
       "      <th>18</th>\n",
       "      <td>S00</td>\n",
       "      <td>F</td>\n",
       "      <td>control</td>\n",
       "      <td>amígdala</td>\n",
       "      <td>serotonina</td>\n",
       "      <td>0.990130</td>\n",
       "    </tr>\n",
       "  </tbody>\n",
       "</table>\n",
       "</div>"
      ],
      "text/plain": [
       "   Sujeto Genero Condicion    Region Neurotransmisor  Precision\n",
       "1     S00      F   control       PFC      serotonina   0.853042\n",
       "5     S00      F   control  amígdala        dopamina   0.879949\n",
       "18    S00      F   control  amígdala      serotonina   0.990130"
      ]
     },
     "execution_count": 24,
     "metadata": {},
     "output_type": "execute_result"
    }
   ],
   "source": [
    "ejercicio= df[(df[\"Sujeto\"]==\"S00\")&(df[\"Condicion\"]==\"control\")]\n",
    "ejercicio.head(3)"
   ]
  },
  {
   "cell_type": "code",
   "execution_count": null,
   "id": "fb1d04de-0246-40ee-9af0-3da8fe88e476",
   "metadata": {},
   "outputs": [],
   "source": [
    "#método 1\n",
    "for sujeto in df['Sujeto'].unique():\n",
    "    datos_suj = df[df['Sujeto'] == sujeto]#sub set por sujeto\n",
    "    print(f\"\\nSujeto {sujeto}:\")\n",
    "    print(f\"  Min: {datos_suj['Precision'].min():.3f}\")\n",
    "    print(f\"  Max: {datos_suj['Precision'].max():.3f}\")\n",
    "    print(f\"  Media: {datos_suj['Precision'].mean():.3f}\")\n"
   ]
  },
  {
   "cell_type": "code",
   "execution_count": 25,
   "id": "bb1c3c37-a7f6-4412-aebd-36894cf6c30f",
   "metadata": {},
   "outputs": [
    {
     "data": {
      "text/html": [
       "<div>\n",
       "<style scoped>\n",
       "    .dataframe tbody tr th:only-of-type {\n",
       "        vertical-align: middle;\n",
       "    }\n",
       "\n",
       "    .dataframe tbody tr th {\n",
       "        vertical-align: top;\n",
       "    }\n",
       "\n",
       "    .dataframe thead th {\n",
       "        text-align: right;\n",
       "    }\n",
       "</style>\n",
       "<table border=\"1\" class=\"dataframe\">\n",
       "  <thead>\n",
       "    <tr style=\"text-align: right;\">\n",
       "      <th></th>\n",
       "      <th>min</th>\n",
       "      <th>max</th>\n",
       "      <th>mean</th>\n",
       "    </tr>\n",
       "    <tr>\n",
       "      <th>Sujeto</th>\n",
       "      <th></th>\n",
       "      <th></th>\n",
       "      <th></th>\n",
       "    </tr>\n",
       "  </thead>\n",
       "  <tbody>\n",
       "    <tr>\n",
       "      <th>S00</th>\n",
       "      <td>0.748342</td>\n",
       "      <td>1.0</td>\n",
       "      <td>0.905783</td>\n",
       "    </tr>\n",
       "    <tr>\n",
       "      <th>S01</th>\n",
       "      <td>0.694540</td>\n",
       "      <td>1.0</td>\n",
       "      <td>0.915678</td>\n",
       "    </tr>\n",
       "    <tr>\n",
       "      <th>S02</th>\n",
       "      <td>0.710670</td>\n",
       "      <td>1.0</td>\n",
       "      <td>0.916014</td>\n",
       "    </tr>\n",
       "    <tr>\n",
       "      <th>S03</th>\n",
       "      <td>0.675866</td>\n",
       "      <td>1.0</td>\n",
       "      <td>0.919458</td>\n",
       "    </tr>\n",
       "  </tbody>\n",
       "</table>\n",
       "</div>"
      ],
      "text/plain": [
       "             min  max      mean\n",
       "Sujeto                         \n",
       "S00     0.748342  1.0  0.905783\n",
       "S01     0.694540  1.0  0.915678\n",
       "S02     0.710670  1.0  0.916014\n",
       "S03     0.675866  1.0  0.919458"
      ]
     },
     "execution_count": 25,
     "metadata": {},
     "output_type": "execute_result"
    }
   ],
   "source": [
    "#groupby\n",
    "stats_prec = df.groupby('Sujeto')['Precision'].agg(['min','max','mean'])\n",
    "stats_prec\n"
   ]
  },
  {
   "cell_type": "code",
   "execution_count": 21,
   "id": "22e7647a-4270-4e6b-9e18-ebed6b67e722",
   "metadata": {},
   "outputs": [
    {
     "data": {
      "image/png": "[encoded data removed]",
      "text/plain": [
       "<Figure size 640x480 with 1 Axes>"
      ]
     },
     "metadata": {},
     "output_type": "display_data"
    },
    {
     "data": {
      "image/png": "[encoded data removed]",
      "text/plain": [
       "<Figure size 640x480 with 1 Axes>"
      ]
     },
     "metadata": {},
     "output_type": "display_data"
    }
   ],
   "source": [
    "import matplotlib.pyplot as plt\n",
    "\n",
    "for cond in df['Condicion'].unique():\n",
    "    datos_cond = df[df['Condicion'] == cond]\n",
    "    plt.figure()\n",
    "    datos_cond['Region'].value_counts().plot(kind='bar')\n",
    "    plt.title(f\"Regiones activadas en {cond}\")\n",
    "    plt.xlabel(\"Región\")\n",
    "    plt.ylabel(\"Frecuencia\")\n",
    "    plt.show()\n"
   ]
  },
  {
   "cell_type": "code",
   "execution_count": 26,
   "id": "beb10914-8135-4fb5-b33f-ba924c6899ea",
   "metadata": {},
   "outputs": [],
   "source": [
    "def funcion(string):\n",
    "    return string.upper()"
   ]
  },
  {
   "cell_type": "code",
   "execution_count": 27,
   "id": "6c236a8a-3491-4ddd-a92e-73ea7e427f1d",
   "metadata": {},
   "outputs": [
    {
     "data": {
      "text/plain": [
       "0            PFC\n",
       "1            PFC\n",
       "2      HIPOCAMPO\n",
       "3       AMÍGDALA\n",
       "4            PFC\n",
       "         ...    \n",
       "195    HIPOCAMPO\n",
       "196          PFC\n",
       "197          PFC\n",
       "198     AMÍGDALA\n",
       "199     AMÍGDALA\n",
       "Name: Region, Length: 200, dtype: object"
      ]
     },
     "execution_count": 27,
     "metadata": {},
     "output_type": "execute_result"
    }
   ],
   "source": [
    "df[\"Region\"].apply(funcion)"
   ]
  },
  {
   "cell_type": "code",
   "execution_count": 28,
   "id": "c0236630-8f34-4fcb-974f-bc66a82c4803",
   "metadata": {},
   "outputs": [
    {
     "data": {
      "text/plain": [
       "0            PFC\n",
       "1            PFC\n",
       "2      HIPOCAMPO\n",
       "3       AMÍGDALA\n",
       "4            PFC\n",
       "         ...    \n",
       "195    HIPOCAMPO\n",
       "196          PFC\n",
       "197          PFC\n",
       "198     AMÍGDALA\n",
       "199     AMÍGDALA\n",
       "Name: Region, Length: 200, dtype: object"
      ]
     },
     "execution_count": 28,
     "metadata": {},
     "output_type": "execute_result"
    }
   ],
   "source": [
    "df[\"Region\"].apply(lambda string: string.upper())\n",
    "#define una función rápida que recibe un string y devuelve su versión en mayúsculas"
   ]
  },
  {
   "cell_type": "code",
   "execution_count": null,
   "id": "ef1a8248-c056-4957-9074-c5704fc135ef",
   "metadata": {},
   "outputs": [],
   "source": []
  }
 ],
 "metadata": {
  "kernelspec": {
   "display_name": "Python 3 (ipykernel)",
   "language": "python",
   "name": "python3"
  },
  "language_info": {
   "codemirror_mode": {
    "name": "ipython",
    "version": 3
   },
   "file_extension": ".py",
   "mimetype": "text/x-python",
   "name": "python",
   "nbconvert_exporter": "python",
   "pygments_lexer": "ipython3",
   "version": "3.13.5"
  }
 },
 "nbformat": 4,
 "nbformat_minor": 5
}
