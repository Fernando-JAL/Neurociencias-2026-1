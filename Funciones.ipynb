{
 "cells": [
  {
   "cell_type": "markdown",
   "id": "1dd7c489-afb9-48e7-8afb-b7063c0e4324",
   "metadata": {},
   "source": [
    "# Funciones\n",
    "\n",
    "Fragmentos de código que se pueden ejecutar múltiples veces. Reciben y/o devuelven datos o variables para comunicarse con el código/proceso\n",
    "principal."
   ]
  },
  {
   "cell_type": "code",
   "execution_count": 2,
   "id": "6147c220-7740-46f7-a365-ecadcf25469e",
   "metadata": {},
   "outputs": [
    {
     "name": "stdout",
     "output_type": "stream",
     "text": [
      "Hello word\n"
     ]
    }
   ],
   "source": [
    "def saludar(): #def define la funcion y luego se pone el nombre, después de los dos puntos es el código que se va a ejecutar\n",
    "    #cuando llamemos la función\n",
    "    print('Hello word')\n",
    "\n",
    "saludar()"
   ]
  },
  {
   "cell_type": "code",
   "execution_count": 5,
   "id": "249b4d04-67e8-4a7c-ada1-62f64fcaaf30",
   "metadata": {},
   "outputs": [
    {
     "name": "stdout",
     "output_type": "stream",
     "text": [
      "Hello word\n",
      "Hello word\n",
      "Hello word\n"
     ]
    }
   ],
   "source": [
    "for _ in range(3):\n",
    "    saludar()"
   ]
  },
  {
   "cell_type": "code",
   "execution_count": 10,
   "id": "e61dd1a3-f571-49a1-9c6b-8e76ccbed7e4",
   "metadata": {},
   "outputs": [
    {
     "data": {
      "text/plain": [
       "7.0"
      ]
     },
     "execution_count": 10,
     "metadata": {},
     "output_type": "execute_result"
    }
   ],
   "source": [
    "lista = [3,5,7,9,11]\n",
    "\n",
    "promedio = sum(lista)/len(lista)\n",
    "\n",
    "promedio"
   ]
  },
  {
   "cell_type": "code",
   "execution_count": 18,
   "id": "5cf3400b-91ae-4e9d-8f83-5c4832fe08ce",
   "metadata": {},
   "outputs": [],
   "source": [
    "def promedio(numeros): #función(paramétro)\n",
    "    v_promedio = sum(numeros)/len(numeros)\n",
    "    print(f'El promedio de los números es {v_promedio}')\n",
    "    return v_promedio #el promedio regresa a la función y puede guardarse en n valor"
   ]
  },
  {
   "cell_type": "code",
   "execution_count": 15,
   "id": "c8d1d35d-5d5c-4697-8663-e2d2c9929760",
   "metadata": {},
   "outputs": [
    {
     "name": "stdout",
     "output_type": "stream",
     "text": [
      "El promedio de los números es 7.0\n"
     ]
    },
    {
     "data": {
      "text/plain": [
       "7.0"
      ]
     },
     "execution_count": 15,
     "metadata": {},
     "output_type": "execute_result"
    }
   ],
   "source": [
    "promedio(lista) #función(argumento)"
   ]
  },
  {
   "cell_type": "code",
   "execution_count": 20,
   "id": "d29500e3-7695-4714-ac72-42c5290c4b7e",
   "metadata": {},
   "outputs": [
    {
     "data": {
      "text/plain": [
       "5"
      ]
     },
     "execution_count": 20,
     "metadata": {},
     "output_type": "execute_result"
    }
   ],
   "source": [
    "def minimo(valor_a, valor_b):\n",
    "    val_min=min(valor_a, valor_b)\n",
    "    return val_min\n",
    "\n",
    "minimo(5,10)"
   ]
  },
  {
   "cell_type": "code",
   "execution_count": 37,
   "id": "4ea32b25-ae78-45f3-a723-2dab4b859aed",
   "metadata": {},
   "outputs": [
    {
     "name": "stdout",
     "output_type": "stream",
     "text": [
      "720\n"
     ]
    }
   ],
   "source": [
    "\n",
    "\n",
    "def facto(valor):\n",
    "    resultado = 1\n",
    "    for val in range(1, valor+1):\n",
    "        resultado *= val\n",
    "    return resultado\n",
    "\n",
    "print(facto(6))\n"
   ]
  },
  {
   "cell_type": "code",
   "execution_count": null,
   "id": "38ce30a5-0fda-40b3-b8a4-60a630e8570a",
   "metadata": {},
   "outputs": [],
   "source": []
  }
 ],
 "metadata": {
  "kernelspec": {
   "display_name": "Python 3 (ipykernel)",
   "language": "python",
   "name": "python3"
  },
  "language_info": {
   "codemirror_mode": {
    "name": "ipython",
    "version": 3
   },
   "file_extension": ".py",
   "mimetype": "text/x-python",
   "name": "python",
   "nbconvert_exporter": "python",
   "pygments_lexer": "ipython3",
   "version": "3.10.4"
  }
 },
 "nbformat": 4,
 "nbformat_minor": 5
}
